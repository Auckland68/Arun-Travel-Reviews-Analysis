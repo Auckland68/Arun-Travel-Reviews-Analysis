{
 "cells": [
  {
   "cell_type": "markdown",
   "metadata": {},
   "source": [
    "# Notebook 15 - Opinion Spam Investigation"
   ]
  },
  {
   "cell_type": "markdown",
   "metadata": {},
   "source": [
    "Large numbers of deceptive reviews will distort the integrity of the data and therefore the reliability of any models based upon that data.This notebook investigates fake reviews using a range of methods from the research in this area.\n",
    "\n",
    "* Section 1 - Import the Data and Libraries\n",
    "* Section 2 - Exploratory Data Analysis\n",
    "* Section 3 - Duplicate Reviews investigation\n",
    "* Section 4 - First-time Contributors\n",
    "* Section 5 - Linguistic Patterns\n",
    "* Section 6 - Linguistic Patterns\n",
    "* Section 7 - TripAdvisor Opinion Spam for Accommodation ML model\n",
    "* Section 8 - Predict against the Arun Accommodation Reviews\n",
    "* Section 9 - YELP Spam Reviews for Restaurants\n",
    "* Section 10 - Predict against a Subset of Arun Restaurant Reviews\n",
    "\n",
    "\n",
    "This notebook uses the following dataset files:\n",
    "\n",
    "* deceptive-opinion.csv\n",
    "* \"combined_df.csv\"\n",
    "\n"
   ]
  },
  {
   "cell_type": "markdown",
   "metadata": {},
   "source": [
    "# Section 1: Import libraries and data"
   ]
  },
  {
   "cell_type": "code",
   "execution_count": 1,
   "metadata": {},
   "outputs": [
    {
     "name": "stderr",
     "output_type": "stream",
     "text": [
      "[nltk_data] Downloading package punkt to\n",
      "[nltk_data]     C:\\Users\\imoge\\AppData\\Roaming\\nltk_data...\n",
      "[nltk_data]   Package punkt is already up-to-date!\n",
      "[nltk_data] Downloading package averaged_perceptron_tagger to\n",
      "[nltk_data]     C:\\Users\\imoge\\AppData\\Roaming\\nltk_data...\n",
      "[nltk_data]   Package averaged_perceptron_tagger is already up-to-\n",
      "[nltk_data]       date!\n"
     ]
    }
   ],
   "source": [
    "import pandas as pd\n",
    "import numpy as np\n",
    "import matplotlib.pyplot as plt\n",
    "import pickle\n",
    "import nltk\n",
    "from collections import Counter\n",
    "nltk.download('punkt')\n",
    "nltk.download('averaged_perceptron_tagger')\n",
    "from nltk.corpus import stopwords\n",
    "from nltk.stem import WordNetLemmatizer\n",
    "from textblob import TextBlob\n",
    "import string\n",
    "import warnings\n",
    "warnings.filterwarnings(\"ignore\")\n",
    "from imblearn.under_sampling import RandomUnderSampler\n",
    "from imblearn.over_sampling import RandomOverSampler\n",
    "from sklearn.feature_extraction.text import TfidfVectorizer\n",
    "from sklearn.model_selection import train_test_split,KFold,cross_val_score\n",
    "from sklearn import svm\n",
    "from sklearn.model_selection import GridSearchCV\n",
    "from sklearn.metrics import confusion_matrix, accuracy_score,classification_report,roc_curve,auc,roc_auc_score\n",
    "from sklearn.metrics import precision_recall_curve,plot_precision_recall_curve,f1_score,fbeta_score,f1_score,precision_score,recall_score\n",
    "\n",
    "pd.set_option('display.max_rows', None)"
   ]
  },
  {
   "cell_type": "code",
   "execution_count": 2,
   "metadata": {},
   "outputs": [],
   "source": [
    "# Read in Cornell deceptive opinions dataset\n",
    "cornell = pd.read_csv(\"deceptive-opinion.csv\")"
   ]
  },
  {
   "cell_type": "markdown",
   "metadata": {},
   "source": [
    "# Section 2: Exploratory Analysis"
   ]
  },
  {
   "cell_type": "markdown",
   "metadata": {},
   "source": [
    "## Cornell Deceptive TripAdvisor Opinion Spam Dataset for Hotels"
   ]
  },
  {
   "cell_type": "markdown",
   "metadata": {},
   "source": [
    "Dataset Source:\n",
    "\n",
    "This corpus consists of truthful and deceptive hotel reviews of 20 Chicago hotels.\n",
    "\n",
    "* 400 truthful positive reviews from TripAdvisor (described in [1])\n",
    "\n",
    "* 400 deceptive positive reviews from Mechanical Turk (described in [1])\n",
    "\n",
    "* 400 truthful negative reviews from Expedia, Hotels.com, Orbitz, Priceline, TripAdvisor and Yelp (described in [2])\n",
    "\n",
    "* 400 deceptive negative reviews from Mechanical Turk (described in [2])\n",
    "\n",
    "[1] M. Ott, Y. Choi, C. Cardie, and J.T. Hancock. 2011. Finding Deceptive Opinion Spam by Any Stretch of the Imagination. In Proceedings of the 49th Annual Meeting of the Association for Computational Linguistics: Human Language Technologies.\n",
    "\n",
    "[2] M. Ott, C. Cardie, and J.T. Hancock. 2013. Negative Deceptive Opinion Spam. In Proceedings of the 2013 Conference of the North American Chapter of the Association for Computational Linguistics: Human Language Technologies.\n",
    "\n",
    "\n",
    "https://myleott.com/op-spam.html\n"
   ]
  },
  {
   "cell_type": "code",
   "execution_count": 3,
   "metadata": {},
   "outputs": [
    {
     "data": {
      "text/html": [
       "<div>\n",
       "<style scoped>\n",
       "    .dataframe tbody tr th:only-of-type {\n",
       "        vertical-align: middle;\n",
       "    }\n",
       "\n",
       "    .dataframe tbody tr th {\n",
       "        vertical-align: top;\n",
       "    }\n",
       "\n",
       "    .dataframe thead th {\n",
       "        text-align: right;\n",
       "    }\n",
       "</style>\n",
       "<table border=\"1\" class=\"dataframe\">\n",
       "  <thead>\n",
       "    <tr style=\"text-align: right;\">\n",
       "      <th></th>\n",
       "      <th>deceptive</th>\n",
       "      <th>hotel</th>\n",
       "      <th>polarity</th>\n",
       "      <th>source</th>\n",
       "      <th>text</th>\n",
       "    </tr>\n",
       "  </thead>\n",
       "  <tbody>\n",
       "    <tr>\n",
       "      <th>0</th>\n",
       "      <td>truthful</td>\n",
       "      <td>conrad</td>\n",
       "      <td>positive</td>\n",
       "      <td>TripAdvisor</td>\n",
       "      <td>We stayed for a one night getaway with family ...</td>\n",
       "    </tr>\n",
       "    <tr>\n",
       "      <th>1</th>\n",
       "      <td>truthful</td>\n",
       "      <td>hyatt</td>\n",
       "      <td>positive</td>\n",
       "      <td>TripAdvisor</td>\n",
       "      <td>Triple A rate with upgrade to view room was le...</td>\n",
       "    </tr>\n",
       "    <tr>\n",
       "      <th>2</th>\n",
       "      <td>truthful</td>\n",
       "      <td>hyatt</td>\n",
       "      <td>positive</td>\n",
       "      <td>TripAdvisor</td>\n",
       "      <td>This comes a little late as I'm finally catchi...</td>\n",
       "    </tr>\n",
       "    <tr>\n",
       "      <th>3</th>\n",
       "      <td>truthful</td>\n",
       "      <td>omni</td>\n",
       "      <td>positive</td>\n",
       "      <td>TripAdvisor</td>\n",
       "      <td>The Omni Chicago really delivers on all fronts...</td>\n",
       "    </tr>\n",
       "    <tr>\n",
       "      <th>4</th>\n",
       "      <td>truthful</td>\n",
       "      <td>hyatt</td>\n",
       "      <td>positive</td>\n",
       "      <td>TripAdvisor</td>\n",
       "      <td>I asked for a high floor away from the elevato...</td>\n",
       "    </tr>\n",
       "  </tbody>\n",
       "</table>\n",
       "</div>"
      ],
      "text/plain": [
       "  deceptive   hotel  polarity       source  \\\n",
       "0  truthful  conrad  positive  TripAdvisor   \n",
       "1  truthful   hyatt  positive  TripAdvisor   \n",
       "2  truthful   hyatt  positive  TripAdvisor   \n",
       "3  truthful    omni  positive  TripAdvisor   \n",
       "4  truthful   hyatt  positive  TripAdvisor   \n",
       "\n",
       "                                                text  \n",
       "0  We stayed for a one night getaway with family ...  \n",
       "1  Triple A rate with upgrade to view room was le...  \n",
       "2  This comes a little late as I'm finally catchi...  \n",
       "3  The Omni Chicago really delivers on all fronts...  \n",
       "4  I asked for a high floor away from the elevato...  "
      ]
     },
     "execution_count": 3,
     "metadata": {},
     "output_type": "execute_result"
    }
   ],
   "source": [
    "# Check first few rows of dataframe\n",
    "cornell.head()"
   ]
  },
  {
   "cell_type": "code",
   "execution_count": 4,
   "metadata": {},
   "outputs": [
    {
     "data": {
      "text/plain": [
       "deceptive    800\n",
       "truthful     800\n",
       "Name: deceptive, dtype: int64"
      ]
     },
     "execution_count": 4,
     "metadata": {},
     "output_type": "execute_result"
    }
   ],
   "source": [
    "cornell.deceptive.value_counts()"
   ]
  },
  {
   "cell_type": "code",
   "execution_count": 5,
   "metadata": {},
   "outputs": [
    {
     "data": {
      "text/html": [
       "<div>\n",
       "<style scoped>\n",
       "    .dataframe tbody tr th:only-of-type {\n",
       "        vertical-align: middle;\n",
       "    }\n",
       "\n",
       "    .dataframe tbody tr th {\n",
       "        vertical-align: top;\n",
       "    }\n",
       "\n",
       "    .dataframe thead th {\n",
       "        text-align: right;\n",
       "    }\n",
       "</style>\n",
       "<table border=\"1\" class=\"dataframe\">\n",
       "  <thead>\n",
       "    <tr style=\"text-align: right;\">\n",
       "      <th></th>\n",
       "      <th>deceptive</th>\n",
       "      <th>polarity</th>\n",
       "      <th>text</th>\n",
       "    </tr>\n",
       "  </thead>\n",
       "  <tbody>\n",
       "    <tr>\n",
       "      <th>0</th>\n",
       "      <td>truthful</td>\n",
       "      <td>positive</td>\n",
       "      <td>We stayed for a one night getaway with family ...</td>\n",
       "    </tr>\n",
       "    <tr>\n",
       "      <th>1</th>\n",
       "      <td>truthful</td>\n",
       "      <td>positive</td>\n",
       "      <td>Triple A rate with upgrade to view room was le...</td>\n",
       "    </tr>\n",
       "    <tr>\n",
       "      <th>2</th>\n",
       "      <td>truthful</td>\n",
       "      <td>positive</td>\n",
       "      <td>This comes a little late as I'm finally catchi...</td>\n",
       "    </tr>\n",
       "    <tr>\n",
       "      <th>3</th>\n",
       "      <td>truthful</td>\n",
       "      <td>positive</td>\n",
       "      <td>The Omni Chicago really delivers on all fronts...</td>\n",
       "    </tr>\n",
       "    <tr>\n",
       "      <th>4</th>\n",
       "      <td>truthful</td>\n",
       "      <td>positive</td>\n",
       "      <td>I asked for a high floor away from the elevato...</td>\n",
       "    </tr>\n",
       "  </tbody>\n",
       "</table>\n",
       "</div>"
      ],
      "text/plain": [
       "  deceptive  polarity                                               text\n",
       "0  truthful  positive  We stayed for a one night getaway with family ...\n",
       "1  truthful  positive  Triple A rate with upgrade to view room was le...\n",
       "2  truthful  positive  This comes a little late as I'm finally catchi...\n",
       "3  truthful  positive  The Omni Chicago really delivers on all fronts...\n",
       "4  truthful  positive  I asked for a high floor away from the elevato..."
      ]
     },
     "execution_count": 5,
     "metadata": {},
     "output_type": "execute_result"
    }
   ],
   "source": [
    "# Drop unwanted columns\n",
    "cornell.drop(columns = [\"hotel\",\"source\"],axis = 1, inplace = True)\n",
    "cornell.head()"
   ]
  },
  {
   "cell_type": "code",
   "execution_count": 6,
   "metadata": {},
   "outputs": [
    {
     "name": "stdout",
     "output_type": "stream",
     "text": [
      "<class 'pandas.core.frame.DataFrame'>\n",
      "RangeIndex: 1600 entries, 0 to 1599\n",
      "Data columns (total 3 columns):\n",
      " #   Column     Non-Null Count  Dtype \n",
      "---  ------     --------------  ----- \n",
      " 0   deceptive  1600 non-null   object\n",
      " 1   polarity   1600 non-null   object\n",
      " 2   text       1600 non-null   object\n",
      "dtypes: object(3)\n",
      "memory usage: 37.6+ KB\n"
     ]
    }
   ],
   "source": [
    "# Examine the features\n",
    "cornell.info()"
   ]
  },
  {
   "cell_type": "code",
   "execution_count": 7,
   "metadata": {},
   "outputs": [],
   "source": [
    "# Get character length for all reviews and then get the mean and median for those marked as deceptive and those marked as truthful\n",
    "cornell[\"char_len\"] = cornell[\"text\"].str.len()\n",
    "decept = cornell[cornell[\"deceptive\"] == \"deceptive\"][\"char_len\"]\n",
    "true = cornell[cornell[\"deceptive\"] == \"truthful\"][\"char_len\"]"
   ]
  },
  {
   "cell_type": "code",
   "execution_count": 8,
   "metadata": {},
   "outputs": [
    {
     "data": {
      "text/plain": [
       "count     800.000000\n",
       "mean      791.767500\n",
       "std       449.016264\n",
       "min       151.000000\n",
       "25%       483.750000\n",
       "50%       680.500000\n",
       "75%       985.000000\n",
       "max      4075.000000\n",
       "Name: char_len, dtype: float64"
      ]
     },
     "execution_count": 8,
     "metadata": {},
     "output_type": "execute_result"
    }
   ],
   "source": [
    "decept.describe()"
   ]
  },
  {
   "cell_type": "code",
   "execution_count": 9,
   "metadata": {},
   "outputs": [
    {
     "data": {
      "text/plain": [
       "count     800.000000\n",
       "mean      821.015000\n",
       "std       484.659089\n",
       "min       168.000000\n",
       "25%       491.000000\n",
       "50%       710.500000\n",
       "75%       993.250000\n",
       "max      4159.000000\n",
       "Name: char_len, dtype: float64"
      ]
     },
     "execution_count": 9,
     "metadata": {},
     "output_type": "execute_result"
    }
   ],
   "source": [
    "true.describe()"
   ]
  },
  {
   "cell_type": "code",
   "execution_count": 10,
   "metadata": {},
   "outputs": [
    {
     "name": "stdout",
     "output_type": "stream",
     "text": [
      "680.5\n",
      "710.5\n"
     ]
    }
   ],
   "source": [
    "print(decept.median())\n",
    "print(true.median())"
   ]
  },
  {
   "cell_type": "code",
   "execution_count": 11,
   "metadata": {},
   "outputs": [
    {
     "data": {
      "text/plain": [
       "Text(0, 0.5, 'Number')"
      ]
     },
     "execution_count": 11,
     "metadata": {},
     "output_type": "execute_result"
    },
    {
     "data": {
      "image/png": "[encoded data removed]",
      "text/plain": [
       "<Figure size 576x432 with 1 Axes>"
      ]
     },
     "metadata": {
      "needs_background": "light"
     },
     "output_type": "display_data"
    }
   ],
   "source": [
    "# Plot distributions\n",
    "\n",
    "fig, ax = plt.subplots(figsize = (8,6))\n",
    "\n",
    "ax.hist(decept, bins = 10, color = \"lightsteelblue\",ec = \"black\")\n",
    "ax.set_title(\"Distribution of Deceptive Accommodation Reviews (Spam Data)\", fontsize = 12, pad = 20)\n",
    "ax.spines['top'].set_visible(False)\n",
    "ax.spines['right'].set_visible(False)\n",
    "ax.set_xlabel(\"Number of Characters\",labelpad = 10)\n",
    "ax.set_ylabel(\"Number\", labelpad = 10)"
   ]
  },
  {
   "cell_type": "code",
   "execution_count": 12,
   "metadata": {},
   "outputs": [
    {
     "data": {
      "text/plain": [
       "Text(0, 0.5, 'Number')"
      ]
     },
     "execution_count": 12,
     "metadata": {},
     "output_type": "execute_result"
    },
    {
     "data": {
      "image/png": "[encoded data removed]",
      "text/plain": [
       "<Figure size 576x432 with 1 Axes>"
      ]
     },
     "metadata": {
      "needs_background": "light"
     },
     "output_type": "display_data"
    }
   ],
   "source": [
    "# Plot distributions\n",
    "fig, ax = plt.subplots(figsize = (8,6))\n",
    "\n",
    "ax.hist(decept, bins = 10, color = \"lightsteelblue\",ec = \"black\")\n",
    "ax.set_title(\"Distribution of Truthful Accommodation Reviews (Spam Data)\", fontsize = 12, pad = 20)\n",
    "ax.spines['top'].set_visible(False)\n",
    "ax.spines['right'].set_visible(False)\n",
    "ax.set_xlabel(\"Number of Characters\",labelpad = 10)\n",
    "ax.set_ylabel(\"Number\", labelpad = 10)"
   ]
  },
  {
   "cell_type": "markdown",
   "metadata": {},
   "source": [
    "Truthful reviews are slightly longer on average than deceptive reviews."
   ]
  },
  {
   "cell_type": "code",
   "execution_count": 13,
   "metadata": {},
   "outputs": [],
   "source": [
    "# convert strings to numbers\n",
    "cornell.deceptive[cornell.deceptive == 'truthful'] = 0\n",
    "cornell.deceptive[cornell.deceptive == 'deceptive'] = 1\n",
    "\n",
    "# convert object type to int\n",
    "cornell.deceptive = cornell.deceptive.astype(float)"
   ]
  },
  {
   "cell_type": "markdown",
   "metadata": {},
   "source": [
    "## YELP Dataset for Restaurant Reviews"
   ]
  },
  {
   "cell_type": "markdown",
   "metadata": {},
   "source": [
    "Sample dataset taken from the original - 350,000 YELP restaurant reviews with filtered (deceptive) and true labels originally from:\n",
    "\n",
    "Source:Rayana, Shebuti & Akoglu, Leman. (2015). Collective Opinion Spam Detection. 985-994. 10.1145/2783258.2783370. \n",
    "\n",
    "http://odds.cs.stonybrook.edu/yelpzip-dataset/\n",
    "\n",
    "files downloaded from:\n",
    "\n",
    "https://github.com/zzhang83/Yelp_Sentiment_Analysis\n"
   ]
  },
  {
   "cell_type": "code",
   "execution_count": 14,
   "metadata": {},
   "outputs": [],
   "source": [
    "reviewContent = pd.read_table(\"reviewContent\",names=[\"user_id\",\"name\",\"date\",\"review\"])\n",
    "df_review = pd.DataFrame(reviewContent)\n",
    "\n",
    "metadata = pd.read_table(\"metadata\",names=[\"user_id\", \"prod_id\", \"rating\", \"label\", \"date\"])\n",
    "df_metadata = pd.DataFrame(metadata)\n",
    "\n",
    "combined = pd.concat([df_review,df_metadata],axis=1,join=\"inner\")\n",
    "combined = combined.dropna()\n",
    "\n",
    "yelp = combined[[\"label\",\"review\"]]\n"
   ]
  },
  {
   "cell_type": "code",
   "execution_count": 15,
   "metadata": {},
   "outputs": [
    {
     "data": {
      "text/plain": [
       "(358957, 2)"
      ]
     },
     "execution_count": 15,
     "metadata": {},
     "output_type": "execute_result"
    }
   ],
   "source": [
    "yelp.shape"
   ]
  },
  {
   "cell_type": "code",
   "execution_count": 16,
   "metadata": {},
   "outputs": [
    {
     "data": {
      "text/html": [
       "<div>\n",
       "<style scoped>\n",
       "    .dataframe tbody tr th:only-of-type {\n",
       "        vertical-align: middle;\n",
       "    }\n",
       "\n",
       "    .dataframe tbody tr th {\n",
       "        vertical-align: top;\n",
       "    }\n",
       "\n",
       "    .dataframe thead th {\n",
       "        text-align: right;\n",
       "    }\n",
       "</style>\n",
       "<table border=\"1\" class=\"dataframe\">\n",
       "  <thead>\n",
       "    <tr style=\"text-align: right;\">\n",
       "      <th></th>\n",
       "      <th>label</th>\n",
       "      <th>review</th>\n",
       "    </tr>\n",
       "  </thead>\n",
       "  <tbody>\n",
       "    <tr>\n",
       "      <th>0</th>\n",
       "      <td>-1</td>\n",
       "      <td>The food at snack is a selection of popular Gr...</td>\n",
       "    </tr>\n",
       "    <tr>\n",
       "      <th>1</th>\n",
       "      <td>-1</td>\n",
       "      <td>This little place in Soho is wonderful. I had ...</td>\n",
       "    </tr>\n",
       "    <tr>\n",
       "      <th>2</th>\n",
       "      <td>-1</td>\n",
       "      <td>ordered lunch for 15 from Snack last Friday.  ...</td>\n",
       "    </tr>\n",
       "    <tr>\n",
       "      <th>3</th>\n",
       "      <td>-1</td>\n",
       "      <td>This is a beautiful quaint little restaurant o...</td>\n",
       "    </tr>\n",
       "    <tr>\n",
       "      <th>4</th>\n",
       "      <td>-1</td>\n",
       "      <td>Snack is great place for a  casual sit down lu...</td>\n",
       "    </tr>\n",
       "  </tbody>\n",
       "</table>\n",
       "</div>"
      ],
      "text/plain": [
       "   label                                             review\n",
       "0     -1  The food at snack is a selection of popular Gr...\n",
       "1     -1  This little place in Soho is wonderful. I had ...\n",
       "2     -1  ordered lunch for 15 from Snack last Friday.  ...\n",
       "3     -1  This is a beautiful quaint little restaurant o...\n",
       "4     -1  Snack is great place for a  casual sit down lu..."
      ]
     },
     "execution_count": 16,
     "metadata": {},
     "output_type": "execute_result"
    }
   ],
   "source": [
    "yelp.head()"
   ]
  },
  {
   "cell_type": "code",
   "execution_count": 17,
   "metadata": {},
   "outputs": [
    {
     "name": "stdout",
     "output_type": "stream",
     "text": [
      "635.1789573681527\n"
     ]
    }
   ],
   "source": [
    "# Length of strings in the reviews and get mean (compare to Arun dataset food reviews to ensure comparable)\n",
    "yelp[\"char_len\"] = yelp[\"review\"].str.len()\n",
    "print(yelp[\"char_len\"].mean())"
   ]
  },
  {
   "cell_type": "code",
   "execution_count": 18,
   "metadata": {},
   "outputs": [
    {
     "data": {
      "text/plain": [
       " 1    322072\n",
       "-1     36885\n",
       "Name: label, dtype: int64"
      ]
     },
     "execution_count": 18,
     "metadata": {},
     "output_type": "execute_result"
    }
   ],
   "source": [
    "# Get number of true and deceptive reviews\n",
    "yelp.label.value_counts()"
   ]
  },
  {
   "cell_type": "markdown",
   "metadata": {},
   "source": [
    "## Arun Dataset"
   ]
  },
  {
   "cell_type": "code",
   "execution_count": 19,
   "metadata": {},
   "outputs": [],
   "source": [
    "# Read in dataset of actual reviews\n",
    "arun_df = pd.read_csv(\"combined_df.csv\",usecols = [\"User\",\"ReviewDate\",\"Name\",\"Category\",\"Contributions\",\"Title\",\"Review\",\"Rating\"])"
   ]
  },
  {
   "cell_type": "code",
   "execution_count": 20,
   "metadata": {},
   "outputs": [],
   "source": [
    "accom = arun_df[arun_df[\"Category\"] == \"Accommodation\"]"
   ]
  },
  {
   "cell_type": "code",
   "execution_count": 21,
   "metadata": {},
   "outputs": [
    {
     "data": {
      "text/plain": [
       "(2473, 8)"
      ]
     },
     "execution_count": 21,
     "metadata": {},
     "output_type": "execute_result"
    }
   ],
   "source": [
    "accom.shape"
   ]
  },
  {
   "cell_type": "code",
   "execution_count": 22,
   "metadata": {},
   "outputs": [
    {
     "name": "stdout",
     "output_type": "stream",
     "text": [
      "<class 'pandas.core.frame.DataFrame'>\n",
      "Int64Index: 2473 entries, 0 to 2472\n",
      "Data columns (total 8 columns):\n",
      " #   Column         Non-Null Count  Dtype \n",
      "---  ------         --------------  ----- \n",
      " 0   Name           2473 non-null   object\n",
      " 1   Category       2473 non-null   object\n",
      " 2   User           2473 non-null   object\n",
      " 3   Contributions  2473 non-null   int64 \n",
      " 4   ReviewDate     2473 non-null   object\n",
      " 5   Title          2473 non-null   object\n",
      " 6   Review         2473 non-null   object\n",
      " 7   Rating         2473 non-null   int64 \n",
      "dtypes: int64(2), object(6)\n",
      "memory usage: 173.9+ KB\n"
     ]
    }
   ],
   "source": [
    "accom.info()"
   ]
  },
  {
   "cell_type": "code",
   "execution_count": 23,
   "metadata": {},
   "outputs": [],
   "source": [
    "# Length of strings in the reviews\n",
    "accom[\"char_len\"] = accom[\"Review\"].str.len()"
   ]
  },
  {
   "cell_type": "code",
   "execution_count": 24,
   "metadata": {},
   "outputs": [
    {
     "data": {
      "text/plain": [
       "count     2473.000000\n",
       "mean       699.642135\n",
       "std        766.953141\n",
       "min          9.000000\n",
       "25%        274.000000\n",
       "50%        440.000000\n",
       "75%        808.000000\n",
       "max      11353.000000\n",
       "Name: char_len, dtype: float64"
      ]
     },
     "execution_count": 24,
     "metadata": {},
     "output_type": "execute_result"
    }
   ],
   "source": [
    "accom[\"char_len\"].describe()"
   ]
  },
  {
   "cell_type": "code",
   "execution_count": 25,
   "metadata": {},
   "outputs": [
    {
     "name": "stdout",
     "output_type": "stream",
     "text": [
      "Median Char Length: 440.0\n"
     ]
    }
   ],
   "source": [
    "# Average median length of string - all reviews \n",
    "print(\"Median Char Length:\", accom[\"char_len\"].median())"
   ]
  },
  {
   "cell_type": "code",
   "execution_count": 26,
   "metadata": {},
   "outputs": [
    {
     "data": {
      "text/plain": [
       "440.0"
      ]
     },
     "execution_count": 26,
     "metadata": {},
     "output_type": "execute_result"
    }
   ],
   "source": [
    "accom.char_len.median()"
   ]
  },
  {
   "cell_type": "code",
   "execution_count": 27,
   "metadata": {},
   "outputs": [],
   "source": [
    "# Remove outlier values above 4200 to enable comparison with the spam dataset\n",
    "below_4200 = accom[accom[\"char_len\"] <= 4200]"
   ]
  },
  {
   "cell_type": "code",
   "execution_count": 28,
   "metadata": {},
   "outputs": [
    {
     "data": {
      "image/png": "[encoded data removed]",
      "text/plain": [
       "<Figure size 576x432 with 1 Axes>"
      ]
     },
     "metadata": {
      "needs_background": "light"
     },
     "output_type": "display_data"
    }
   ],
   "source": [
    "# Plot distribution\n",
    "\n",
    "fig, ax = plt.subplots(figsize = (8,6))\n",
    "\n",
    "ax.hist(below_4200[\"char_len\"], bins = 10, color = \"lightsteelblue\",ec = \"black\")\n",
    "ax.set_title(\"Distribution of Accommmodation Reviews Arun District\", fontsize = 12, pad = 20)\n",
    "ax.spines['top'].set_visible(False)\n",
    "ax.spines['right'].set_visible(False)\n",
    "ax.set_xlabel(\"Number of Characters\",labelpad = 10)\n",
    "ax.set_ylabel(\"Number\", labelpad = 10)\n",
    "ax.set_xticks(range(0,4500,500))\n",
    "plt.show()\n",
    "              "
   ]
  },
  {
   "cell_type": "markdown",
   "metadata": {},
   "source": [
    "The Arun dataset is distributed a little differently to the opinion spam accommodation dataset, possibly because the spam dataset is solely hotels but the Arun data includes all types of accommodation. "
   ]
  },
  {
   "cell_type": "markdown",
   "metadata": {},
   "source": [
    "# Section 3:  Look for Duplicates"
   ]
  },
  {
   "cell_type": "markdown",
   "metadata": {},
   "source": [
    "Duplicates were removed in the Exploratory Data Notebook 1. Looking here for reviews with duplicate text with the same user id.\n",
    "In the study duplicate or similar reviews were assumed to be spam including those with:\n",
    "\n",
    "* different userids on the same product \n",
    "* different userids on different products and \n",
    "* the same userid on different products \n",
    "\n",
    "In this case, the most likely situation is that a single user posts lots of duplicate or similar reviews on multiple restaurants, or possibly the same user using multiple ids to post on one or multiple establishments. This is very difficult to do in practice, so a situation where the same user is posting multiple duplicate or similar reviews is investigated instead.\n",
    "\n",
    "\n",
    "Source: Jindal and Liu\n",
    "\n",
    "Jindal, Nitin & Liu, Bing. (2008). Opinion Spam and Analysis. 10.1145/1341531.1341560. \n",
    "\n",
    "https://www.researchgate.net/publication/200044297_Opinion_Spam_and_Analysis/citation/download\n"
   ]
  },
  {
   "cell_type": "code",
   "execution_count": 29,
   "metadata": {},
   "outputs": [],
   "source": [
    "# Set text to lower case\n",
    "arun_df[\"review_lower\"] = arun_df[\"Review\"].apply(lambda x: x.lower())"
   ]
  },
  {
   "cell_type": "code",
   "execution_count": 30,
   "metadata": {},
   "outputs": [
    {
     "data": {
      "text/plain": [
       "(254, 9)"
      ]
     },
     "execution_count": 30,
     "metadata": {},
     "output_type": "execute_result"
    }
   ],
   "source": [
    "# Show all items where the id and review text are duplicated in the text\n",
    "duplicated = arun_df[arun_df.duplicated([\"User\",\"review_lower\"],keep = False)]\n",
    "duplicated.shape"
   ]
  },
  {
   "cell_type": "code",
   "execution_count": 31,
   "metadata": {},
   "outputs": [
    {
     "data": {
      "text/html": [
       "<div>\n",
       "<style scoped>\n",
       "    .dataframe tbody tr th:only-of-type {\n",
       "        vertical-align: middle;\n",
       "    }\n",
       "\n",
       "    .dataframe tbody tr th {\n",
       "        vertical-align: top;\n",
       "    }\n",
       "\n",
       "    .dataframe thead th {\n",
       "        text-align: right;\n",
       "    }\n",
       "</style>\n",
       "<table border=\"1\" class=\"dataframe\">\n",
       "  <thead>\n",
       "    <tr style=\"text-align: right;\">\n",
       "      <th></th>\n",
       "      <th>Name</th>\n",
       "      <th>Category</th>\n",
       "      <th>User</th>\n",
       "      <th>Contributions</th>\n",
       "      <th>ReviewDate</th>\n",
       "      <th>Title</th>\n",
       "      <th>Review</th>\n",
       "      <th>Rating</th>\n",
       "      <th>review_lower</th>\n",
       "    </tr>\n",
       "  </thead>\n",
       "  <tbody>\n",
       "    <tr>\n",
       "      <th>1382</th>\n",
       "      <td>Inglenook</td>\n",
       "      <td>Accommodation</td>\n",
       "      <td>emma g</td>\n",
       "      <td>11</td>\n",
       "      <td>2019-05-01</td>\n",
       "      <td>Vegan Treat</td>\n",
       "      <td>Wow what can I say, I took my Dad and 6 year o...</td>\n",
       "      <td>5</td>\n",
       "      <td>wow what can i say, i took my dad and 6 year o...</td>\n",
       "    </tr>\n",
       "    <tr>\n",
       "      <th>2650</th>\n",
       "      <td>Oyster Catcher</td>\n",
       "      <td>Food</td>\n",
       "      <td>ejj377</td>\n",
       "      <td>5</td>\n",
       "      <td>2019-12-01</td>\n",
       "      <td>Dreadful Christmas Day meal</td>\n",
       "      <td>Booked back in August for Christmas Day lunch....</td>\n",
       "      <td>1</td>\n",
       "      <td>booked back in august for christmas day lunch....</td>\n",
       "    </tr>\n",
       "    <tr>\n",
       "      <th>2652</th>\n",
       "      <td>Oyster Catcher</td>\n",
       "      <td>Food</td>\n",
       "      <td>392nikkim</td>\n",
       "      <td>7</td>\n",
       "      <td>2019-12-01</td>\n",
       "      <td>Terrible!!</td>\n",
       "      <td>We booked in Sept for our christmas dinner spe...</td>\n",
       "      <td>1</td>\n",
       "      <td>we booked in sept for our christmas dinner spe...</td>\n",
       "    </tr>\n",
       "    <tr>\n",
       "      <th>2655</th>\n",
       "      <td>Oyster Catcher</td>\n",
       "      <td>Food</td>\n",
       "      <td>ejj377</td>\n",
       "      <td>5</td>\n",
       "      <td>2019-12-27</td>\n",
       "      <td>Dreadful Christmas Day meal</td>\n",
       "      <td>Booked back in August for Christmas Day lunch....</td>\n",
       "      <td>1</td>\n",
       "      <td>booked back in august for christmas day lunch....</td>\n",
       "    </tr>\n",
       "    <tr>\n",
       "      <th>2656</th>\n",
       "      <td>Oyster Catcher</td>\n",
       "      <td>Food</td>\n",
       "      <td>392nikkim</td>\n",
       "      <td>7</td>\n",
       "      <td>2019-12-25</td>\n",
       "      <td>Terrible!!</td>\n",
       "      <td>We booked in Sept for our christmas dinner spe...</td>\n",
       "      <td>1</td>\n",
       "      <td>we booked in sept for our christmas dinner spe...</td>\n",
       "    </tr>\n",
       "  </tbody>\n",
       "</table>\n",
       "</div>"
      ],
      "text/plain": [
       "                Name       Category       User  Contributions  ReviewDate  \\\n",
       "1382       Inglenook  Accommodation     emma g             11  2019-05-01   \n",
       "2650  Oyster Catcher           Food     ejj377              5  2019-12-01   \n",
       "2652  Oyster Catcher           Food  392nikkim              7  2019-12-01   \n",
       "2655  Oyster Catcher           Food     ejj377              5  2019-12-27   \n",
       "2656  Oyster Catcher           Food  392nikkim              7  2019-12-25   \n",
       "\n",
       "                             Title  \\\n",
       "1382                   Vegan Treat   \n",
       "2650  Dreadful Christmas Day meal    \n",
       "2652                    Terrible!!   \n",
       "2655  Dreadful Christmas Day meal    \n",
       "2656                    Terrible!!   \n",
       "\n",
       "                                                 Review  Rating  \\\n",
       "1382  Wow what can I say, I took my Dad and 6 year o...       5   \n",
       "2650  Booked back in August for Christmas Day lunch....       1   \n",
       "2652  We booked in Sept for our christmas dinner spe...       1   \n",
       "2655  Booked back in August for Christmas Day lunch....       1   \n",
       "2656  We booked in Sept for our christmas dinner spe...       1   \n",
       "\n",
       "                                           review_lower  \n",
       "1382  wow what can i say, i took my dad and 6 year o...  \n",
       "2650  booked back in august for christmas day lunch....  \n",
       "2652  we booked in sept for our christmas dinner spe...  \n",
       "2655  booked back in august for christmas day lunch....  \n",
       "2656  we booked in sept for our christmas dinner spe...  "
      ]
     },
     "execution_count": 31,
     "metadata": {},
     "output_type": "execute_result"
    }
   ],
   "source": [
    "duplicated.head()"
   ]
  },
  {
   "cell_type": "code",
   "execution_count": 32,
   "metadata": {},
   "outputs": [],
   "source": [
    "# Remove genuine duplicates\n",
    "arun_df.drop_duplicates(subset = [\"User\",\"review_lower\",\"Title\",\"ReviewDate\"],inplace = True)"
   ]
  },
  {
   "cell_type": "code",
   "execution_count": 33,
   "metadata": {},
   "outputs": [
    {
     "data": {
      "text/html": [
       "<div>\n",
       "<style scoped>\n",
       "    .dataframe tbody tr th:only-of-type {\n",
       "        vertical-align: middle;\n",
       "    }\n",
       "\n",
       "    .dataframe tbody tr th {\n",
       "        vertical-align: top;\n",
       "    }\n",
       "\n",
       "    .dataframe thead th {\n",
       "        text-align: right;\n",
       "    }\n",
       "</style>\n",
       "<table border=\"1\" class=\"dataframe\">\n",
       "  <thead>\n",
       "    <tr style=\"text-align: right;\">\n",
       "      <th></th>\n",
       "      <th>Name</th>\n",
       "      <th>Category</th>\n",
       "      <th>User</th>\n",
       "      <th>Contributions</th>\n",
       "      <th>ReviewDate</th>\n",
       "      <th>Title</th>\n",
       "      <th>Review</th>\n",
       "      <th>Rating</th>\n",
       "      <th>review_lower</th>\n",
       "    </tr>\n",
       "  </thead>\n",
       "  <tbody>\n",
       "  </tbody>\n",
       "</table>\n",
       "</div>"
      ],
      "text/plain": [
       "Empty DataFrame\n",
       "Columns: [Name, Category, User, Contributions, ReviewDate, Title, Review, Rating, review_lower]\n",
       "Index: []"
      ]
     },
     "execution_count": 33,
     "metadata": {},
     "output_type": "execute_result"
    }
   ],
   "source": [
    "# Check no duplicates left\n",
    "arun_df[arun_df.duplicated([\"User\",\"review_lower\",\"Title\",\"ReviewDate\"],keep = False)]"
   ]
  },
  {
   "cell_type": "markdown",
   "metadata": {},
   "source": [
    "There were 12 duplicate entries in the data, one was a duplicate across all the columns and the rest were instances where the data varied and are likely to just be errors between the review date and the posting date. All were removed."
   ]
  },
  {
   "cell_type": "markdown",
   "metadata": {},
   "source": [
    "# Section 4: Investigate first-time reviewers & proportion of positive singletons"
   ]
  },
  {
   "cell_type": "markdown",
   "metadata": {},
   "source": [
    "Hypothesis - Fake reviewers posting highly positive ratings tend to be users who have not posted before - 'positive singletons'\n",
    "\n",
    "Sources and references:\n",
    "\n",
    "Distortion as a Validation Criterion in the Identification of Suspicious Reviews, \n",
    "Guangyu Wu, Derek Greene, Barry Smyth, Pádraig Cunningham\n",
    "\n",
    "https://snap.stanford.edu/soma2010/papers/soma2010_2.pdf\n"
   ]
  },
  {
   "cell_type": "code",
   "execution_count": 34,
   "metadata": {},
   "outputs": [
    {
     "data": {
      "text/html": [
       "<div>\n",
       "<style scoped>\n",
       "    .dataframe tbody tr th:only-of-type {\n",
       "        vertical-align: middle;\n",
       "    }\n",
       "\n",
       "    .dataframe tbody tr th {\n",
       "        vertical-align: top;\n",
       "    }\n",
       "\n",
       "    .dataframe thead th {\n",
       "        text-align: right;\n",
       "    }\n",
       "</style>\n",
       "<table border=\"1\" class=\"dataframe\">\n",
       "  <thead>\n",
       "    <tr style=\"text-align: right;\">\n",
       "      <th></th>\n",
       "      <th>count</th>\n",
       "      <th>mean</th>\n",
       "      <th>std</th>\n",
       "      <th>min</th>\n",
       "      <th>25%</th>\n",
       "      <th>50%</th>\n",
       "      <th>75%</th>\n",
       "      <th>max</th>\n",
       "    </tr>\n",
       "    <tr>\n",
       "      <th>Rating</th>\n",
       "      <th></th>\n",
       "      <th></th>\n",
       "      <th></th>\n",
       "      <th></th>\n",
       "      <th></th>\n",
       "      <th></th>\n",
       "      <th></th>\n",
       "      <th></th>\n",
       "    </tr>\n",
       "  </thead>\n",
       "  <tbody>\n",
       "    <tr>\n",
       "      <th>1</th>\n",
       "      <td>745.0</td>\n",
       "      <td>21.110067</td>\n",
       "      <td>51.704690</td>\n",
       "      <td>0.0</td>\n",
       "      <td>2.0</td>\n",
       "      <td>5.0</td>\n",
       "      <td>17.00</td>\n",
       "      <td>588.0</td>\n",
       "    </tr>\n",
       "    <tr>\n",
       "      <th>2</th>\n",
       "      <td>556.0</td>\n",
       "      <td>37.478417</td>\n",
       "      <td>84.932159</td>\n",
       "      <td>0.0</td>\n",
       "      <td>3.0</td>\n",
       "      <td>13.0</td>\n",
       "      <td>36.00</td>\n",
       "      <td>1064.0</td>\n",
       "    </tr>\n",
       "    <tr>\n",
       "      <th>3</th>\n",
       "      <td>877.0</td>\n",
       "      <td>98.397948</td>\n",
       "      <td>233.359234</td>\n",
       "      <td>0.0</td>\n",
       "      <td>7.0</td>\n",
       "      <td>27.0</td>\n",
       "      <td>98.00</td>\n",
       "      <td>2801.0</td>\n",
       "    </tr>\n",
       "    <tr>\n",
       "      <th>4</th>\n",
       "      <td>1976.0</td>\n",
       "      <td>196.458502</td>\n",
       "      <td>712.000666</td>\n",
       "      <td>0.0</td>\n",
       "      <td>11.0</td>\n",
       "      <td>46.0</td>\n",
       "      <td>139.25</td>\n",
       "      <td>14575.0</td>\n",
       "    </tr>\n",
       "    <tr>\n",
       "      <th>5</th>\n",
       "      <td>6253.0</td>\n",
       "      <td>68.266112</td>\n",
       "      <td>329.551026</td>\n",
       "      <td>0.0</td>\n",
       "      <td>3.0</td>\n",
       "      <td>13.0</td>\n",
       "      <td>45.00</td>\n",
       "      <td>8225.0</td>\n",
       "    </tr>\n",
       "  </tbody>\n",
       "</table>\n",
       "</div>"
      ],
      "text/plain": [
       "         count        mean         std  min   25%   50%     75%      max\n",
       "Rating                                                                  \n",
       "1        745.0   21.110067   51.704690  0.0   2.0   5.0   17.00    588.0\n",
       "2        556.0   37.478417   84.932159  0.0   3.0  13.0   36.00   1064.0\n",
       "3        877.0   98.397948  233.359234  0.0   7.0  27.0   98.00   2801.0\n",
       "4       1976.0  196.458502  712.000666  0.0  11.0  46.0  139.25  14575.0\n",
       "5       6253.0   68.266112  329.551026  0.0   3.0  13.0   45.00   8225.0"
      ]
     },
     "execution_count": 34,
     "metadata": {},
     "output_type": "execute_result"
    }
   ],
   "source": [
    "# Examine differences in rating as per user contributions\n",
    "arun_df.groupby(\"Rating\")[\"Contributions\"].describe()"
   ]
  },
  {
   "cell_type": "markdown",
   "metadata": {},
   "source": [
    "Users rating lowest are users with the lowest average previous contributions. Those rating 4-stars have the highest average number of previous contributions. "
   ]
  },
  {
   "cell_type": "code",
   "execution_count": 35,
   "metadata": {},
   "outputs": [
    {
     "data": {
      "image/png": "[encoded data removed]",
      "text/plain": [
       "<Figure size 432x288 with 1 Axes>"
      ]
     },
     "metadata": {
      "needs_background": "light"
     },
     "output_type": "display_data"
    }
   ],
   "source": [
    "# Look at ratings by number of contributions as a scatter plot\n",
    "ax =plt.scatter(arun_df[\"Rating\"],arun_df[\"Contributions\"])"
   ]
  },
  {
   "cell_type": "markdown",
   "metadata": {},
   "source": [
    "The graph seems to show that more active users are giving higher ratings but it is not clear."
   ]
  },
  {
   "cell_type": "code",
   "execution_count": 36,
   "metadata": {},
   "outputs": [
    {
     "data": {
      "text/plain": [
       "(382, 9)"
      ]
     },
     "execution_count": 36,
     "metadata": {},
     "output_type": "execute_result"
    }
   ],
   "source": [
    "# Subset users with NO previous contributions\n",
    "no_previous = arun_df[arun_df[\"Contributions\"]==0]\n",
    "no_previous.shape"
   ]
  },
  {
   "cell_type": "code",
   "execution_count": 37,
   "metadata": {},
   "outputs": [
    {
     "data": {
      "image/png": "[encoded data removed]",
      "text/plain": [
       "<Figure size 432x288 with 1 Axes>"
      ]
     },
     "metadata": {
      "needs_background": "light"
     },
     "output_type": "display_data"
    }
   ],
   "source": [
    "# Distribution of ratings given by users with no previous contributions\n",
    "import seaborn as sns\n",
    "y = no_previous[\"Rating\"]\n",
    "sns.countplot(y, label = \"Count\")\n",
    "ax = plt.title(\"Rating Distributon - No Previous Contributions\")"
   ]
  },
  {
   "cell_type": "code",
   "execution_count": 38,
   "metadata": {},
   "outputs": [
    {
     "data": {
      "image/png": "[encoded data removed]",
      "text/plain": [
       "<Figure size 432x288 with 1 Axes>"
      ]
     },
     "metadata": {
      "needs_background": "light"
     },
     "output_type": "display_data"
    }
   ],
   "source": [
    "# Compare to distribution of all reviews\n",
    "y = arun_df[\"Rating\"]\n",
    "sns.countplot(y, label = \"Count\")\n",
    "ax = plt.title(\"Rating Distributon - All Reviews\")"
   ]
  },
  {
   "cell_type": "markdown",
   "metadata": {},
   "source": [
    "Comparing the histograms of ratings given by users with no previous contributions to the distribution for all users, there does seem to be some difference. New users are giving more 5-star reviews compared to other ratings."
   ]
  },
  {
   "cell_type": "code",
   "execution_count": 39,
   "metadata": {},
   "outputs": [],
   "source": [
    "# Create dataframe of rating distributions for all reviews and those of users with no previous contributions\n",
    "no_prev_sum = pd.DataFrame(no_previous.Rating.value_counts())\n",
    "arun = pd.DataFrame(arun_df.Rating.value_counts())\n",
    "comb = pd.concat([no_prev_sum,arun], axis = 1, ignore_index=True)\n",
    "comb.columns = [\"Num No previous\",\"All reviews\"]"
   ]
  },
  {
   "cell_type": "code",
   "execution_count": 40,
   "metadata": {},
   "outputs": [
    {
     "data": {
      "text/html": [
       "<div>\n",
       "<style scoped>\n",
       "    .dataframe tbody tr th:only-of-type {\n",
       "        vertical-align: middle;\n",
       "    }\n",
       "\n",
       "    .dataframe tbody tr th {\n",
       "        vertical-align: top;\n",
       "    }\n",
       "\n",
       "    .dataframe thead th {\n",
       "        text-align: right;\n",
       "    }\n",
       "</style>\n",
       "<table border=\"1\" class=\"dataframe\">\n",
       "  <thead>\n",
       "    <tr style=\"text-align: right;\">\n",
       "      <th></th>\n",
       "      <th>Num No previous</th>\n",
       "      <th>All reviews</th>\n",
       "    </tr>\n",
       "  </thead>\n",
       "  <tbody>\n",
       "    <tr>\n",
       "      <th>1</th>\n",
       "      <td>32</td>\n",
       "      <td>745</td>\n",
       "    </tr>\n",
       "    <tr>\n",
       "      <th>2</th>\n",
       "      <td>18</td>\n",
       "      <td>556</td>\n",
       "    </tr>\n",
       "    <tr>\n",
       "      <th>3</th>\n",
       "      <td>30</td>\n",
       "      <td>877</td>\n",
       "    </tr>\n",
       "    <tr>\n",
       "      <th>4</th>\n",
       "      <td>39</td>\n",
       "      <td>1976</td>\n",
       "    </tr>\n",
       "    <tr>\n",
       "      <th>5</th>\n",
       "      <td>263</td>\n",
       "      <td>6253</td>\n",
       "    </tr>\n",
       "  </tbody>\n",
       "</table>\n",
       "</div>"
      ],
      "text/plain": [
       "   Num No previous  All reviews\n",
       "1               32          745\n",
       "2               18          556\n",
       "3               30          877\n",
       "4               39         1976\n",
       "5              263         6253"
      ]
     },
     "execution_count": 40,
     "metadata": {},
     "output_type": "execute_result"
    }
   ],
   "source": [
    "comb"
   ]
  },
  {
   "cell_type": "code",
   "execution_count": 41,
   "metadata": {},
   "outputs": [
    {
     "data": {
      "text/html": [
       "<div>\n",
       "<style scoped>\n",
       "    .dataframe tbody tr th:only-of-type {\n",
       "        vertical-align: middle;\n",
       "    }\n",
       "\n",
       "    .dataframe tbody tr th {\n",
       "        vertical-align: top;\n",
       "    }\n",
       "\n",
       "    .dataframe thead th {\n",
       "        text-align: right;\n",
       "    }\n",
       "</style>\n",
       "<table border=\"1\" class=\"dataframe\">\n",
       "  <thead>\n",
       "    <tr style=\"text-align: right;\">\n",
       "      <th></th>\n",
       "      <th>1</th>\n",
       "      <th>2</th>\n",
       "      <th>3</th>\n",
       "      <th>4</th>\n",
       "      <th>5</th>\n",
       "    </tr>\n",
       "  </thead>\n",
       "  <tbody>\n",
       "    <tr>\n",
       "      <th>Num No previous</th>\n",
       "      <td>8.376963</td>\n",
       "      <td>4.712042</td>\n",
       "      <td>7.853403</td>\n",
       "      <td>10.209424</td>\n",
       "      <td>68.848168</td>\n",
       "    </tr>\n",
       "    <tr>\n",
       "      <th>All reviews</th>\n",
       "      <td>7.158643</td>\n",
       "      <td>5.342558</td>\n",
       "      <td>8.427020</td>\n",
       "      <td>18.987220</td>\n",
       "      <td>60.084558</td>\n",
       "    </tr>\n",
       "  </tbody>\n",
       "</table>\n",
       "</div>"
      ],
      "text/plain": [
       "                        1         2         3          4          5\n",
       "Num No previous  8.376963  4.712042  7.853403  10.209424  68.848168\n",
       "All reviews      7.158643  5.342558  8.427020  18.987220  60.084558"
      ]
     },
     "execution_count": 41,
     "metadata": {},
     "output_type": "execute_result"
    }
   ],
   "source": [
    "stacked = comb.T.apply(lambda x: x*100/sum(x), axis=1)\n",
    "stacked"
   ]
  },
  {
   "cell_type": "code",
   "execution_count": 42,
   "metadata": {},
   "outputs": [
    {
     "data": {
      "image/png": "[encoded data removed]",
      "text/plain": [
       "<Figure size 720x576 with 1 Axes>"
      ]
     },
     "metadata": {
      "needs_background": "light"
     },
     "output_type": "display_data"
    }
   ],
   "source": [
    "stacked.plot(kind=\"barh\", figsize=(10,8),stacked=True,xlim = (0,120))\n",
    "plt.title(\"Proportion of ratings for Users with No Previous Contributions Versus All Users\", fontsize =15)\n",
    "ax = plt.xlabel(\"Percentage of Ratings Posted (%)\")"
   ]
  },
  {
   "cell_type": "markdown",
   "metadata": {},
   "source": [
    "Analysis: Using stacked barcharts to show the percentage of ratings in each category, it does appear that those with no previous contributions do tend to give proportionately more 5-star ratings than the profile for all reviews but they also give proportionately more 1-star reviews. It may be that first time users are more likely to give ratings at the extreme rather than ratings in between, as they feel motivated enough by their particularly good or particularly bad experience to write a review."
   ]
  },
  {
   "cell_type": "code",
   "execution_count": 43,
   "metadata": {},
   "outputs": [
    {
     "name": "stdout",
     "output_type": "stream",
     "text": [
      "All reviews: 10407\n",
      "Positive reviews: 8229\n",
      "First time users positive reviews: 302\n"
     ]
    }
   ],
   "source": [
    "# Looking at it in reverse - of the positive reviews, what proportion are first time contributors?\n",
    "# Look at the most positive rating of at least 4-stars\n",
    "\n",
    "print(\"All reviews:\",arun_df.shape[0])\n",
    "pos_reviews = arun_df[arun_df[\"Rating\"]>=4]\n",
    "print(\"Positive reviews:\",pos_reviews.shape[0])\n",
    "first_time = pos_reviews[pos_reviews[\"Contributions\"]==0]\n",
    "print(\"First time users positive reviews:\",first_time.shape[0])"
   ]
  },
  {
   "cell_type": "code",
   "execution_count": 44,
   "metadata": {},
   "outputs": [
    {
     "data": {
      "text/plain": [
       "2.901892956663784"
      ]
     },
     "execution_count": 44,
     "metadata": {},
     "output_type": "execute_result"
    }
   ],
   "source": [
    "# Percentage of four and five star reviews that are first time contributors - mean positive singletons\n",
    "first_time.shape[0]/arun_df.shape[0]*100"
   ]
  },
  {
   "cell_type": "code",
   "execution_count": 45,
   "metadata": {},
   "outputs": [
    {
     "data": {
      "text/plain": [
       "Accommodation    243\n",
       "Attractions       58\n",
       "Food               1\n",
       "Name: Category, dtype: int64"
      ]
     },
     "execution_count": 45,
     "metadata": {},
     "output_type": "execute_result"
    }
   ],
   "source": [
    "# Percentage relating to each category\n",
    "first_time.Category.value_counts()"
   ]
  },
  {
   "cell_type": "markdown",
   "metadata": {},
   "source": [
    "Approximately 3% of all reviews were left by first-time users leaving positive reviews. This is quite low compared to the 30% identified by Wu et al. but the dataset does have a lot of establishments with a large number of reviews, which would reduce the average. Given that shilling is designed to increase ranking, establishments with a lot of reviews are unlikely to be targets for shilling (Wu et al.,2008). The establishments looking to rise up the rankings are more likely to be targets. The bulk of the first-time reviewers were leaving reviews for accommodation. \n",
    "\n",
    "Looking at the proportion of first-time singletons out of total reviews by establishment:"
   ]
  },
  {
   "cell_type": "code",
   "execution_count": 46,
   "metadata": {},
   "outputs": [
    {
     "data": {
      "text/html": [
       "<div>\n",
       "<style scoped>\n",
       "    .dataframe tbody tr th:only-of-type {\n",
       "        vertical-align: middle;\n",
       "    }\n",
       "\n",
       "    .dataframe tbody tr th {\n",
       "        vertical-align: top;\n",
       "    }\n",
       "\n",
       "    .dataframe thead th {\n",
       "        text-align: right;\n",
       "    }\n",
       "</style>\n",
       "<table border=\"1\" class=\"dataframe\">\n",
       "  <thead>\n",
       "    <tr style=\"text-align: right;\">\n",
       "      <th></th>\n",
       "      <th>Review</th>\n",
       "    </tr>\n",
       "    <tr>\n",
       "      <th>Name</th>\n",
       "      <th></th>\n",
       "    </tr>\n",
       "  </thead>\n",
       "  <tbody>\n",
       "    <tr>\n",
       "      <th>Butlins</th>\n",
       "      <td>546</td>\n",
       "    </tr>\n",
       "    <tr>\n",
       "      <th>Arundel Castle</th>\n",
       "      <td>296</td>\n",
       "    </tr>\n",
       "    <tr>\n",
       "      <th>Crossbush, Beefeater</th>\n",
       "      <td>189</td>\n",
       "    </tr>\n",
       "    <tr>\n",
       "      <th>Avisford</th>\n",
       "      <td>184</td>\n",
       "    </tr>\n",
       "    <tr>\n",
       "      <th>Black Rabbit</th>\n",
       "      <td>177</td>\n",
       "    </tr>\n",
       "  </tbody>\n",
       "</table>\n",
       "</div>"
      ],
      "text/plain": [
       "                      Review\n",
       "Name                        \n",
       "Butlins                  546\n",
       "Arundel Castle           296\n",
       "Crossbush, Beefeater     189\n",
       "Avisford                 184\n",
       "Black Rabbit             177"
      ]
     },
     "execution_count": 46,
     "metadata": {},
     "output_type": "execute_result"
    }
   ],
   "source": [
    "# Get the number of all reviews by establishment\n",
    "all_sorted = pd.DataFrame(arun_df.groupby(\"Name\")[\"Review\"].count().sort_values(ascending = False))\n",
    "all_sorted.head()"
   ]
  },
  {
   "cell_type": "code",
   "execution_count": 47,
   "metadata": {},
   "outputs": [
    {
     "data": {
      "text/plain": [
       "(386, 1)"
      ]
     },
     "execution_count": 47,
     "metadata": {},
     "output_type": "execute_result"
    }
   ],
   "source": [
    "# Get shape of dataframe - number of establishments\n",
    "all_sorted.shape"
   ]
  },
  {
   "cell_type": "code",
   "execution_count": 48,
   "metadata": {},
   "outputs": [
    {
     "data": {
      "text/html": [
       "<div>\n",
       "<style scoped>\n",
       "    .dataframe tbody tr th:only-of-type {\n",
       "        vertical-align: middle;\n",
       "    }\n",
       "\n",
       "    .dataframe tbody tr th {\n",
       "        vertical-align: top;\n",
       "    }\n",
       "\n",
       "    .dataframe thead th {\n",
       "        text-align: right;\n",
       "    }\n",
       "</style>\n",
       "<table border=\"1\" class=\"dataframe\">\n",
       "  <thead>\n",
       "    <tr style=\"text-align: right;\">\n",
       "      <th></th>\n",
       "      <th>Review</th>\n",
       "    </tr>\n",
       "    <tr>\n",
       "      <th>Name</th>\n",
       "      <th></th>\n",
       "    </tr>\n",
       "  </thead>\n",
       "  <tbody>\n",
       "    <tr>\n",
       "      <th>Butlins</th>\n",
       "      <td>44</td>\n",
       "    </tr>\n",
       "    <tr>\n",
       "      <th>Travelodge Littlehampton</th>\n",
       "      <td>19</td>\n",
       "    </tr>\n",
       "    <tr>\n",
       "      <th>Avisford</th>\n",
       "      <td>19</td>\n",
       "    </tr>\n",
       "    <tr>\n",
       "      <th>Premier Inn Littlehampton</th>\n",
       "      <td>19</td>\n",
       "    </tr>\n",
       "    <tr>\n",
       "      <th>Travelodge Fontwell</th>\n",
       "      <td>17</td>\n",
       "    </tr>\n",
       "  </tbody>\n",
       "</table>\n",
       "</div>"
      ],
      "text/plain": [
       "                           Review\n",
       "Name                             \n",
       "Butlins                        44\n",
       "Travelodge Littlehampton       19\n",
       "Avisford                       19\n",
       "Premier Inn Littlehampton      19\n",
       "Travelodge Fontwell            17"
      ]
     },
     "execution_count": 48,
     "metadata": {},
     "output_type": "execute_result"
    }
   ],
   "source": [
    "# Get the number of positive reviews by first_time posters grouped by establishment name and sorted descending\n",
    "positive_sorted = pd.DataFrame(first_time.groupby(\"Name\")[\"Review\"].count().sort_values(ascending = False))\n",
    "positive_sorted.head()"
   ]
  },
  {
   "cell_type": "code",
   "execution_count": 49,
   "metadata": {},
   "outputs": [],
   "source": [
    "# Create combined dataframe \n",
    "pos_combined = all_sorted.merge(positive_sorted, on = \"Name\")\n",
    "pos_combined.columns = [\"All_reviews\",\"First_time_pos\"]"
   ]
  },
  {
   "cell_type": "code",
   "execution_count": 50,
   "metadata": {},
   "outputs": [],
   "source": [
    "# Calculate the proportion of positive singletons (Wu et al.) against all reviews per establishment\n",
    "pos_combined[\"PPS\"] = pos_combined[\"First_time_pos\"]/pos_combined[\"All_reviews\"]*100"
   ]
  },
  {
   "cell_type": "code",
   "execution_count": 51,
   "metadata": {},
   "outputs": [
    {
     "data": {
      "text/html": [
       "<div>\n",
       "<style scoped>\n",
       "    .dataframe tbody tr th:only-of-type {\n",
       "        vertical-align: middle;\n",
       "    }\n",
       "\n",
       "    .dataframe tbody tr th {\n",
       "        vertical-align: top;\n",
       "    }\n",
       "\n",
       "    .dataframe thead th {\n",
       "        text-align: right;\n",
       "    }\n",
       "</style>\n",
       "<table border=\"1\" class=\"dataframe\">\n",
       "  <thead>\n",
       "    <tr style=\"text-align: right;\">\n",
       "      <th></th>\n",
       "      <th>All_reviews</th>\n",
       "      <th>First_time_pos</th>\n",
       "      <th>PPS</th>\n",
       "    </tr>\n",
       "    <tr>\n",
       "      <th>Name</th>\n",
       "      <th></th>\n",
       "      <th></th>\n",
       "      <th></th>\n",
       "    </tr>\n",
       "  </thead>\n",
       "  <tbody>\n",
       "    <tr>\n",
       "      <th>The Claremont Inn</th>\n",
       "      <td>2</td>\n",
       "      <td>1</td>\n",
       "      <td>50.000000</td>\n",
       "    </tr>\n",
       "    <tr>\n",
       "      <th>Maypole Inn</th>\n",
       "      <td>2</td>\n",
       "      <td>1</td>\n",
       "      <td>50.000000</td>\n",
       "    </tr>\n",
       "    <tr>\n",
       "      <th>Rustington Golf Centre</th>\n",
       "      <td>11</td>\n",
       "      <td>4</td>\n",
       "      <td>36.363636</td>\n",
       "    </tr>\n",
       "    <tr>\n",
       "      <th>Jaybelle Grange</th>\n",
       "      <td>3</td>\n",
       "      <td>1</td>\n",
       "      <td>33.333333</td>\n",
       "    </tr>\n",
       "    <tr>\n",
       "      <th>Claremont Inn</th>\n",
       "      <td>3</td>\n",
       "      <td>1</td>\n",
       "      <td>33.333333</td>\n",
       "    </tr>\n",
       "    <tr>\n",
       "      <th>Spring Cottage B&amp;B</th>\n",
       "      <td>7</td>\n",
       "      <td>2</td>\n",
       "      <td>28.571429</td>\n",
       "    </tr>\n",
       "    <tr>\n",
       "      <th>Nurse's Cottage</th>\n",
       "      <td>15</td>\n",
       "      <td>4</td>\n",
       "      <td>26.666667</td>\n",
       "    </tr>\n",
       "    <tr>\n",
       "      <th>Hawking About</th>\n",
       "      <td>55</td>\n",
       "      <td>14</td>\n",
       "      <td>25.454545</td>\n",
       "    </tr>\n",
       "    <tr>\n",
       "      <th>Comfort Inn</th>\n",
       "      <td>16</td>\n",
       "      <td>4</td>\n",
       "      <td>25.000000</td>\n",
       "    </tr>\n",
       "    <tr>\n",
       "      <th>Willow Trees</th>\n",
       "      <td>4</td>\n",
       "      <td>1</td>\n",
       "      <td>25.000000</td>\n",
       "    </tr>\n",
       "    <tr>\n",
       "      <th>Grandads Front Room</th>\n",
       "      <td>17</td>\n",
       "      <td>4</td>\n",
       "      <td>23.529412</td>\n",
       "    </tr>\n",
       "    <tr>\n",
       "      <th>Bognor Museum</th>\n",
       "      <td>28</td>\n",
       "      <td>6</td>\n",
       "      <td>21.428571</td>\n",
       "    </tr>\n",
       "    <tr>\n",
       "      <th>Arundel Historic Tours</th>\n",
       "      <td>28</td>\n",
       "      <td>6</td>\n",
       "      <td>21.428571</td>\n",
       "    </tr>\n",
       "    <tr>\n",
       "      <th>Premier Inn Littlehampton</th>\n",
       "      <td>89</td>\n",
       "      <td>19</td>\n",
       "      <td>21.348315</td>\n",
       "    </tr>\n",
       "    <tr>\n",
       "      <th>Riverside</th>\n",
       "      <td>24</td>\n",
       "      <td>5</td>\n",
       "      <td>20.833333</td>\n",
       "    </tr>\n",
       "    <tr>\n",
       "      <th>Arun Sands Rooms</th>\n",
       "      <td>5</td>\n",
       "      <td>1</td>\n",
       "      <td>20.000000</td>\n",
       "    </tr>\n",
       "    <tr>\n",
       "      <th>Woodacre</th>\n",
       "      <td>5</td>\n",
       "      <td>1</td>\n",
       "      <td>20.000000</td>\n",
       "    </tr>\n",
       "    <tr>\n",
       "      <th>Jerichos Sweet Store</th>\n",
       "      <td>5</td>\n",
       "      <td>1</td>\n",
       "      <td>20.000000</td>\n",
       "    </tr>\n",
       "    <tr>\n",
       "      <th>Rowan Park</th>\n",
       "      <td>10</td>\n",
       "      <td>2</td>\n",
       "      <td>20.000000</td>\n",
       "    </tr>\n",
       "    <tr>\n",
       "      <th>Travelodge Littlehampton</th>\n",
       "      <td>109</td>\n",
       "      <td>19</td>\n",
       "      <td>17.431193</td>\n",
       "    </tr>\n",
       "  </tbody>\n",
       "</table>\n",
       "</div>"
      ],
      "text/plain": [
       "                           All_reviews  First_time_pos        PPS\n",
       "Name                                                             \n",
       "The Claremont Inn                    2               1  50.000000\n",
       "Maypole Inn                          2               1  50.000000\n",
       "Rustington Golf Centre              11               4  36.363636\n",
       "Jaybelle Grange                      3               1  33.333333\n",
       "Claremont Inn                        3               1  33.333333\n",
       "Spring Cottage B&B                   7               2  28.571429\n",
       "Nurse's Cottage                     15               4  26.666667\n",
       "Hawking About                       55              14  25.454545\n",
       "Comfort Inn                         16               4  25.000000\n",
       "Willow Trees                         4               1  25.000000\n",
       "Grandads Front Room                 17               4  23.529412\n",
       "Bognor Museum                       28               6  21.428571\n",
       "Arundel Historic Tours              28               6  21.428571\n",
       "Premier Inn Littlehampton           89              19  21.348315\n",
       "Riverside                           24               5  20.833333\n",
       "Arun Sands Rooms                     5               1  20.000000\n",
       "Woodacre                             5               1  20.000000\n",
       "Jerichos Sweet Store                 5               1  20.000000\n",
       "Rowan Park                          10               2  20.000000\n",
       "Travelodge Littlehampton           109              19  17.431193"
      ]
     },
     "execution_count": 51,
     "metadata": {},
     "output_type": "execute_result"
    }
   ],
   "source": [
    "# Sort the values from highest PPS to the lowest\n",
    "pos_combined.sort_values(by = \"PPS\",ascending = False).head(20)"
   ]
  },
  {
   "cell_type": "code",
   "execution_count": 52,
   "metadata": {},
   "outputs": [
    {
     "data": {
      "text/html": [
       "<div>\n",
       "<style scoped>\n",
       "    .dataframe tbody tr th:only-of-type {\n",
       "        vertical-align: middle;\n",
       "    }\n",
       "\n",
       "    .dataframe tbody tr th {\n",
       "        vertical-align: top;\n",
       "    }\n",
       "\n",
       "    .dataframe thead th {\n",
       "        text-align: right;\n",
       "    }\n",
       "</style>\n",
       "<table border=\"1\" class=\"dataframe\">\n",
       "  <thead>\n",
       "    <tr style=\"text-align: right;\">\n",
       "      <th></th>\n",
       "      <th>Name</th>\n",
       "      <th>Category</th>\n",
       "      <th>User</th>\n",
       "      <th>Contributions</th>\n",
       "      <th>ReviewDate</th>\n",
       "      <th>Title</th>\n",
       "      <th>Review</th>\n",
       "      <th>Rating</th>\n",
       "      <th>review_lower</th>\n",
       "    </tr>\n",
       "  </thead>\n",
       "  <tbody>\n",
       "    <tr>\n",
       "      <th>2371</th>\n",
       "      <td>Jaybelle Grange</td>\n",
       "      <td>Accommodation</td>\n",
       "      <td>Terry K</td>\n",
       "      <td>0</td>\n",
       "      <td>2019-11-01</td>\n",
       "      <td>Fantastic short break</td>\n",
       "      <td>From start to finish, our stay couldn’t have b...</td>\n",
       "      <td>5</td>\n",
       "      <td>from start to finish, our stay couldn’t have b...</td>\n",
       "    </tr>\n",
       "    <tr>\n",
       "      <th>2372</th>\n",
       "      <td>Jaybelle Grange</td>\n",
       "      <td>Accommodation</td>\n",
       "      <td>Sam C</td>\n",
       "      <td>7</td>\n",
       "      <td>2019-08-01</td>\n",
       "      <td>Clean, quiet park</td>\n",
       "      <td>We recently spent a week at Jaybelle Grange Lo...</td>\n",
       "      <td>4</td>\n",
       "      <td>we recently spent a week at jaybelle grange lo...</td>\n",
       "    </tr>\n",
       "    <tr>\n",
       "      <th>2373</th>\n",
       "      <td>Jaybelle Grange</td>\n",
       "      <td>Accommodation</td>\n",
       "      <td>Wreckless Eric</td>\n",
       "      <td>322</td>\n",
       "      <td>2019-03-01</td>\n",
       "      <td>Return visit</td>\n",
       "      <td>We came here for the first time in December 20...</td>\n",
       "      <td>5</td>\n",
       "      <td>we came here for the first time in december 20...</td>\n",
       "    </tr>\n",
       "  </tbody>\n",
       "</table>\n",
       "</div>"
      ],
      "text/plain": [
       "                 Name       Category            User  Contributions  \\\n",
       "2371  Jaybelle Grange  Accommodation         Terry K              0   \n",
       "2372  Jaybelle Grange  Accommodation           Sam C              7   \n",
       "2373  Jaybelle Grange  Accommodation  Wreckless Eric            322   \n",
       "\n",
       "      ReviewDate                  Title  \\\n",
       "2371  2019-11-01  Fantastic short break   \n",
       "2372  2019-08-01      Clean, quiet park   \n",
       "2373  2019-03-01           Return visit   \n",
       "\n",
       "                                                 Review  Rating  \\\n",
       "2371  From start to finish, our stay couldn’t have b...       5   \n",
       "2372  We recently spent a week at Jaybelle Grange Lo...       4   \n",
       "2373  We came here for the first time in December 20...       5   \n",
       "\n",
       "                                           review_lower  \n",
       "2371  from start to finish, our stay couldn’t have b...  \n",
       "2372  we recently spent a week at jaybelle grange lo...  \n",
       "2373  we came here for the first time in december 20...  "
      ]
     },
     "execution_count": 52,
     "metadata": {},
     "output_type": "execute_result"
    }
   ],
   "source": [
    "# Look at sample items from the highest PPS (change name in code below to check different reviews)\n",
    "arun_df[arun_df[\"Name\"] == \"Jaybelle Grange\"]"
   ]
  },
  {
   "cell_type": "code",
   "execution_count": 53,
   "metadata": {},
   "outputs": [
    {
     "data": {
      "text/plain": [
       "'From start to finish, our stay couldn’t have been better. Everything was perfect and well thought out. The guy who (I think) runs the site was super friendly and helpful.\\nThe lodge itself was beautiful, clean, homely and cosy. My son particularly loved the hot tub. Lovely little extra quirks in the lodge including, board games, reading books and every kitchen utensil you could ever need!\\nWe shall certainly be returning here in the near future.'"
      ]
     },
     "execution_count": 53,
     "metadata": {},
     "output_type": "execute_result"
    }
   ],
   "source": [
    "# Look at review by first-time user, change name and index to view different results\n",
    "arun_df[arun_df[\"Name\"] == \"Jaybelle Grange\"][\"Review\"].loc[2371]"
   ]
  },
  {
   "cell_type": "markdown",
   "metadata": {},
   "source": [
    "Analysis: Five places have a PPS score greater than 30% (Wu et al.) although many have scores above the 3% average score over the whole dataset. Examining these reviews they did not appear to be fake."
   ]
  },
  {
   "cell_type": "markdown",
   "metadata": {},
   "source": [
    "# Section 5: Investigate First Person Singular Pronouns"
   ]
  },
  {
   "cell_type": "markdown",
   "metadata": {},
   "source": [
    "First person singular pronouns (I, me, my, mine, myself) often more prevalent in deceptive reviews.\n",
    "\n",
    "Ott, Myle & Choi, Yejin & Cardie, Claire & Hancock, Jeffrey. (2011). Finding Deceptive Opinion Spam by Any Stretch of the Imagination. \n",
    "\n",
    "https://www.cs.cornell.edu/courses/cs4740/2012sp/lectures/op_spamACL2011.pdf\n",
    "\n",
    "Newman, Matthew & Pennebaker, James & Berry, Diane & Richards, Jane. (2003). Lying Words: Predicting Deception from Linguistic Styles. Personality & social psychology bulletin. 29. 665-75. 10.1177/0146167203029005010. \n",
    "\n",
    "https://www.researchgate.net/publication/8436708_Lying_Words_Predicting_Deception_from_Linguistic_Styles\n"
   ]
  },
  {
   "cell_type": "code",
   "execution_count": 54,
   "metadata": {},
   "outputs": [
    {
     "data": {
      "text/html": [
       "<div>\n",
       "<style scoped>\n",
       "    .dataframe tbody tr th:only-of-type {\n",
       "        vertical-align: middle;\n",
       "    }\n",
       "\n",
       "    .dataframe tbody tr th {\n",
       "        vertical-align: top;\n",
       "    }\n",
       "\n",
       "    .dataframe thead th {\n",
       "        text-align: right;\n",
       "    }\n",
       "</style>\n",
       "<table border=\"1\" class=\"dataframe\">\n",
       "  <thead>\n",
       "    <tr style=\"text-align: right;\">\n",
       "      <th></th>\n",
       "      <th>deceptive</th>\n",
       "      <th>polarity</th>\n",
       "      <th>text</th>\n",
       "      <th>char_len</th>\n",
       "    </tr>\n",
       "  </thead>\n",
       "  <tbody>\n",
       "    <tr>\n",
       "      <th>0</th>\n",
       "      <td>0.0</td>\n",
       "      <td>positive</td>\n",
       "      <td>We stayed for a one night getaway with family ...</td>\n",
       "      <td>572</td>\n",
       "    </tr>\n",
       "    <tr>\n",
       "      <th>1</th>\n",
       "      <td>0.0</td>\n",
       "      <td>positive</td>\n",
       "      <td>Triple A rate with upgrade to view room was le...</td>\n",
       "      <td>286</td>\n",
       "    </tr>\n",
       "    <tr>\n",
       "      <th>2</th>\n",
       "      <td>0.0</td>\n",
       "      <td>positive</td>\n",
       "      <td>This comes a little late as I'm finally catchi...</td>\n",
       "      <td>1104</td>\n",
       "    </tr>\n",
       "    <tr>\n",
       "      <th>3</th>\n",
       "      <td>0.0</td>\n",
       "      <td>positive</td>\n",
       "      <td>The Omni Chicago really delivers on all fronts...</td>\n",
       "      <td>707</td>\n",
       "    </tr>\n",
       "    <tr>\n",
       "      <th>4</th>\n",
       "      <td>0.0</td>\n",
       "      <td>positive</td>\n",
       "      <td>I asked for a high floor away from the elevato...</td>\n",
       "      <td>384</td>\n",
       "    </tr>\n",
       "  </tbody>\n",
       "</table>\n",
       "</div>"
      ],
      "text/plain": [
       "   deceptive  polarity                                               text  \\\n",
       "0        0.0  positive  We stayed for a one night getaway with family ...   \n",
       "1        0.0  positive  Triple A rate with upgrade to view room was le...   \n",
       "2        0.0  positive  This comes a little late as I'm finally catchi...   \n",
       "3        0.0  positive  The Omni Chicago really delivers on all fronts...   \n",
       "4        0.0  positive  I asked for a high floor away from the elevato...   \n",
       "\n",
       "   char_len  \n",
       "0       572  \n",
       "1       286  \n",
       "2      1104  \n",
       "3       707  \n",
       "4       384  "
      ]
     },
     "execution_count": 54,
     "metadata": {},
     "output_type": "execute_result"
    }
   ],
   "source": [
    "# Check the dataframe\n",
    "cornell.head()"
   ]
  },
  {
   "cell_type": "code",
   "execution_count": 55,
   "metadata": {},
   "outputs": [
    {
     "data": {
      "text/plain": [
       "0.0    800\n",
       "1.0    800\n",
       "Name: deceptive, dtype: int64"
      ]
     },
     "execution_count": 55,
     "metadata": {},
     "output_type": "execute_result"
    }
   ],
   "source": [
    "# Check value counts - truthful = zero, deceptive = 1\n",
    "cornell.deceptive.value_counts()"
   ]
  },
  {
   "cell_type": "code",
   "execution_count": 56,
   "metadata": {},
   "outputs": [],
   "source": [
    "# Function to extract first person singular pronouns and calculate the proportion of these to all words in a review\n",
    "def token(df,text):\n",
    "    first_pronouns = [\"i\",\"me\",\"my\",\"myself\",\"mine\"]\n",
    "    df[\"lower\"] = df[text].apply(lambda x: x.lower())\n",
    "    df[\"token\"] = df[\"lower\"].apply(lambda x: nltk.word_tokenize(x))\n",
    "    df[\"token\"] = df[\"token\"].apply(lambda x: [e for e in x if e.encode(\"ascii\",\"ignore\")])\n",
    "    df[\"len_token\"] = df[\"token\"].apply(lambda x: len(x))\n",
    "    df['pos_tags'] = df['token'].apply(nltk.tag.pos_tag)\n",
    "    df['pronouns'] = df['pos_tags'].apply(lambda x: [i[0] for i in x if i[1].startswith('PRP')])\n",
    "    df[\"first\"] = df[\"pronouns\"].apply(lambda x: sum([w in x for w in first_pronouns]))\n",
    "    df[\"prop_pronouns\"] = df[\"first\"]/df[\"len_token\"]*100\n",
    "    return df"
   ]
  },
  {
   "cell_type": "code",
   "execution_count": 57,
   "metadata": {},
   "outputs": [],
   "source": [
    "# Filter out the truthful and deceptive reviews from the labelled Cornell dataset\n",
    "truthful_reviews = cornell[cornell[\"deceptive\"] == \"truthful\"]\n",
    "deceptive_reviews = cornell[cornell[\"deceptive\"] == \"deceptive\"]"
   ]
  },
  {
   "cell_type": "code",
   "execution_count": 58,
   "metadata": {},
   "outputs": [
    {
     "data": {
      "text/html": [
       "<div>\n",
       "<style scoped>\n",
       "    .dataframe tbody tr th:only-of-type {\n",
       "        vertical-align: middle;\n",
       "    }\n",
       "\n",
       "    .dataframe tbody tr th {\n",
       "        vertical-align: top;\n",
       "    }\n",
       "\n",
       "    .dataframe thead th {\n",
       "        text-align: right;\n",
       "    }\n",
       "</style>\n",
       "<table border=\"1\" class=\"dataframe\">\n",
       "  <thead>\n",
       "    <tr style=\"text-align: right;\">\n",
       "      <th></th>\n",
       "      <th>deceptive</th>\n",
       "      <th>polarity</th>\n",
       "      <th>text</th>\n",
       "      <th>char_len</th>\n",
       "    </tr>\n",
       "  </thead>\n",
       "  <tbody>\n",
       "  </tbody>\n",
       "</table>\n",
       "</div>"
      ],
      "text/plain": [
       "Empty DataFrame\n",
       "Columns: [deceptive, polarity, text, char_len]\n",
       "Index: []"
      ]
     },
     "execution_count": 58,
     "metadata": {},
     "output_type": "execute_result"
    }
   ],
   "source": [
    "truthful_reviews.head()"
   ]
  },
  {
   "cell_type": "code",
   "execution_count": 59,
   "metadata": {},
   "outputs": [],
   "source": [
    "# Process to extract all pronouns from each dataset (Cornell truthful and deceptive and Arun positive reviews)\n",
    "truthful_reviews_proc = token(truthful_reviews,\"text\")\n",
    "deceptive_reviews_proc = token(deceptive_reviews,\"text\")\n",
    "arun_proc = token(pos_reviews,\"Review\")"
   ]
  },
  {
   "cell_type": "code",
   "execution_count": 60,
   "metadata": {},
   "outputs": [
    {
     "data": {
      "text/html": [
       "<div>\n",
       "<style scoped>\n",
       "    .dataframe tbody tr th:only-of-type {\n",
       "        vertical-align: middle;\n",
       "    }\n",
       "\n",
       "    .dataframe tbody tr th {\n",
       "        vertical-align: top;\n",
       "    }\n",
       "\n",
       "    .dataframe thead th {\n",
       "        text-align: right;\n",
       "    }\n",
       "</style>\n",
       "<table border=\"1\" class=\"dataframe\">\n",
       "  <thead>\n",
       "    <tr style=\"text-align: right;\">\n",
       "      <th></th>\n",
       "      <th>Name</th>\n",
       "      <th>Category</th>\n",
       "      <th>User</th>\n",
       "      <th>Contributions</th>\n",
       "      <th>ReviewDate</th>\n",
       "      <th>Title</th>\n",
       "      <th>Review</th>\n",
       "      <th>Rating</th>\n",
       "      <th>review_lower</th>\n",
       "      <th>lower</th>\n",
       "      <th>token</th>\n",
       "      <th>len_token</th>\n",
       "      <th>pos_tags</th>\n",
       "      <th>pronouns</th>\n",
       "      <th>first</th>\n",
       "      <th>prop_pronouns</th>\n",
       "    </tr>\n",
       "  </thead>\n",
       "  <tbody>\n",
       "    <tr>\n",
       "      <th>0</th>\n",
       "      <td>Butlins</td>\n",
       "      <td>Accommodation</td>\n",
       "      <td>peggeruk</td>\n",
       "      <td>25</td>\n",
       "      <td>2019-12-01</td>\n",
       "      <td>Nice break, shame about the accommodation...</td>\n",
       "      <td>We booked our 3 night stay from 27-30 December...</td>\n",
       "      <td>4</td>\n",
       "      <td>we booked our 3 night stay from 27-30 december...</td>\n",
       "      <td>we booked our 3 night stay from 27-30 december...</td>\n",
       "      <td>[we, booked, our, 3, night, stay, from, 27-30,...</td>\n",
       "      <td>1199</td>\n",
       "      <td>[(we, PRP), (booked, VBD), (our, PRP$), (3, CD...</td>\n",
       "      <td>[we, our, we, our, it, our, our, you, they, yo...</td>\n",
       "      <td>1</td>\n",
       "      <td>0.083403</td>\n",
       "    </tr>\n",
       "  </tbody>\n",
       "</table>\n",
       "</div>"
      ],
      "text/plain": [
       "      Name       Category      User  Contributions  ReviewDate  \\\n",
       "0  Butlins  Accommodation  peggeruk             25  2019-12-01   \n",
       "\n",
       "                                          Title  \\\n",
       "0  Nice break, shame about the accommodation...   \n",
       "\n",
       "                                              Review  Rating  \\\n",
       "0  We booked our 3 night stay from 27-30 December...       4   \n",
       "\n",
       "                                        review_lower  \\\n",
       "0  we booked our 3 night stay from 27-30 december...   \n",
       "\n",
       "                                               lower  \\\n",
       "0  we booked our 3 night stay from 27-30 december...   \n",
       "\n",
       "                                               token  len_token  \\\n",
       "0  [we, booked, our, 3, night, stay, from, 27-30,...       1199   \n",
       "\n",
       "                                            pos_tags  \\\n",
       "0  [(we, PRP), (booked, VBD), (our, PRP$), (3, CD...   \n",
       "\n",
       "                                            pronouns  first  prop_pronouns  \n",
       "0  [we, our, we, our, it, our, our, you, they, yo...      1       0.083403  "
      ]
     },
     "execution_count": 60,
     "metadata": {},
     "output_type": "execute_result"
    }
   ],
   "source": [
    "arun_proc.head(1)"
   ]
  },
  {
   "cell_type": "code",
   "execution_count": 61,
   "metadata": {},
   "outputs": [
    {
     "name": "stdout",
     "output_type": "stream",
     "text": [
      "Deceptive: nan\n",
      "Truthful: nan\n",
      "Arun Positive: 0.40942964180909525\n"
     ]
    }
   ],
   "source": [
    "# Get the average proportion of first person pronouns for the deceptive reviews, truthful reviews and the Arun positive\n",
    "print(\"Deceptive:\",deceptive_reviews_proc.prop_pronouns.mean())\n",
    "print(\"Truthful:\",truthful_reviews_proc.prop_pronouns.mean())\n",
    "print(\"Arun Positive:\",arun_proc.prop_pronouns.mean())"
   ]
  },
  {
   "cell_type": "code",
   "execution_count": 62,
   "metadata": {},
   "outputs": [
    {
     "data": {
      "text/html": [
       "<div>\n",
       "<style scoped>\n",
       "    .dataframe tbody tr th:only-of-type {\n",
       "        vertical-align: middle;\n",
       "    }\n",
       "\n",
       "    .dataframe tbody tr th {\n",
       "        vertical-align: top;\n",
       "    }\n",
       "\n",
       "    .dataframe thead th {\n",
       "        text-align: right;\n",
       "    }\n",
       "</style>\n",
       "<table border=\"1\" class=\"dataframe\">\n",
       "  <thead>\n",
       "    <tr style=\"text-align: right;\">\n",
       "      <th></th>\n",
       "      <th>Name</th>\n",
       "      <th>prop_pronouns</th>\n",
       "    </tr>\n",
       "  </thead>\n",
       "  <tbody>\n",
       "    <tr>\n",
       "      <th>3049</th>\n",
       "      <td>The Windmill, Harvester</td>\n",
       "      <td>9.090909</td>\n",
       "    </tr>\n",
       "    <tr>\n",
       "      <th>3775</th>\n",
       "      <td>47 Mussel Row</td>\n",
       "      <td>9.090909</td>\n",
       "    </tr>\n",
       "    <tr>\n",
       "      <th>9742</th>\n",
       "      <td>Picturedrome</td>\n",
       "      <td>7.692308</td>\n",
       "    </tr>\n",
       "    <tr>\n",
       "      <th>2687</th>\n",
       "      <td>Oyster Catcher</td>\n",
       "      <td>7.407407</td>\n",
       "    </tr>\n",
       "    <tr>\n",
       "      <th>4269</th>\n",
       "      <td>Spotted Cow</td>\n",
       "      <td>7.142857</td>\n",
       "    </tr>\n",
       "    <tr>\n",
       "      <th>7279</th>\n",
       "      <td>Elmer Tandoori</td>\n",
       "      <td>6.666667</td>\n",
       "    </tr>\n",
       "    <tr>\n",
       "      <th>6377</th>\n",
       "      <td>The Mezze</td>\n",
       "      <td>6.451613</td>\n",
       "    </tr>\n",
       "    <tr>\n",
       "      <th>3588</th>\n",
       "      <td>Robin Hood</td>\n",
       "      <td>6.451613</td>\n",
       "    </tr>\n",
       "    <tr>\n",
       "      <th>3197</th>\n",
       "      <td>Crossbush, Beefeater</td>\n",
       "      <td>6.451613</td>\n",
       "    </tr>\n",
       "    <tr>\n",
       "      <th>4487</th>\n",
       "      <td>World's End</td>\n",
       "      <td>6.250000</td>\n",
       "    </tr>\n",
       "  </tbody>\n",
       "</table>\n",
       "</div>"
      ],
      "text/plain": [
       "                         Name  prop_pronouns\n",
       "3049  The Windmill, Harvester       9.090909\n",
       "3775            47 Mussel Row       9.090909\n",
       "9742             Picturedrome       7.692308\n",
       "2687           Oyster Catcher       7.407407\n",
       "4269              Spotted Cow       7.142857\n",
       "7279           Elmer Tandoori       6.666667\n",
       "6377                The Mezze       6.451613\n",
       "3588               Robin Hood       6.451613\n",
       "3197     Crossbush, Beefeater       6.451613\n",
       "4487              World's End       6.250000"
      ]
     },
     "execution_count": 62,
     "metadata": {},
     "output_type": "execute_result"
    }
   ],
   "source": [
    "# Look at items from the Arun positive dataframe where the proportion of pronouns is greater than the average\n",
    "pd.DataFrame(arun_proc[[\"Name\",\"prop_pronouns\"]]).sort_values(by = \"prop_pronouns\",ascending = False).head(10)"
   ]
  },
  {
   "cell_type": "code",
   "execution_count": 63,
   "metadata": {},
   "outputs": [
    {
     "name": "stdout",
     "output_type": "stream",
     "text": [
      "Had a lovely evening with fabulous food. Lots of fish choice for me and delicious lamb dish for my husband.\n",
      "Me and my family all had a lovely meal and excellent waitress Kelly who was very attentive throughout our evening there.\n",
      "This picture house is lovely and reminds me of my Saturday morning at the pictures. Lovely little place to see a film.\n",
      "Read less\n",
      "Had an lovely meal and time with my wife our waitress liz was so helpful, me and my wife are very greatful by her lovely service\n",
      "Nathan’s the boy,great service. Nathan one day will rise to the top ranks of the pizza kingdom + he helped me park my Ferrari\n"
     ]
    }
   ],
   "source": [
    "# Look at review by first-time user, change name and index to view different results\n",
    "print(arun_proc[arun_proc[\"Name\"] == \"47 Mussel Row\"][\"Review\"].loc[3775])\n",
    "print(arun_proc[arun_proc[\"Name\"] == \"The Windmill, Harvester\"][\"Review\"].loc[3049])\n",
    "print(arun_proc[arun_proc[\"Name\"] == \"Picturedrome\"][\"Review\"].loc[9742])\n",
    "print(arun_proc[arun_proc[\"Name\"] == \"Oyster Catcher\"][\"Review\"].loc[2687])\n",
    "print(arun_proc[arun_proc[\"Name\"] == \"Spotted Cow\"][\"Review\"].loc[4269])"
   ]
  },
  {
   "cell_type": "markdown",
   "metadata": {},
   "source": [
    "Analysis:\n",
    "The deceptive reviews have a greater proportion of first person pronouns than the truthful reviews from the Cornell dataset. The Arun positive reviews dataset proportion seems to be similar to the truthful reviews and is in lower. Other papers (Newman et al.) contradict the findings of the Cornell paper and conclude that the number of first person pronouns is LESS in deceptive papers but the Cornell paper is based on TripAdvisor reviews so is likely more similar in content and style to the Arun data used here. Looking at a few of the reviews with the highest proportion of pronouns, they did not appear to be suspicious, although it is difficult to be sure. However, it seems that opinion spam is not present in any significant amount by this measure.\n"
   ]
  },
  {
   "cell_type": "markdown",
   "metadata": {},
   "source": [
    "# Section 6: Investigate verbs, adverbs, nouns and adjectives"
   ]
  },
  {
   "cell_type": "markdown",
   "metadata": {},
   "source": [
    "Rayson's work supported by Ott found that nouns and adjectives are more common to informative writing compared to more verbs and adverbs in imaginative writing.\n",
    "\n",
    "Rayson, Paul & Wilson, Andrew & Leech, Geoffrey. (2001). Grammatical word class variation within the British National Corpus Sampler. Language and Computers. 36. 295-306. \n",
    "\n",
    "https://www.researchgate.net/publication/233697720_Grammatical_word_class_variation_within_the_British_National_Corpus_Sampler\n",
    "\n",
    "Ott, Myle & Choi, Yejin & Cardie, Claire & Hancock, Jeffrey. (2011). Finding Deceptive Opinion Spam by Any Stretch of the Imagination.\n",
    "\n",
    "https://www.cs.cornell.edu/courses/cs4740/2012sp/lectures/op_spamACL2011.pdf"
   ]
  },
  {
   "cell_type": "code",
   "execution_count": 64,
   "metadata": {},
   "outputs": [],
   "source": [
    "# Function to find the presence of verbs and adverbs as per Rayson and Ott.\n",
    "\n",
    "def verbs_adverbs(df,text):\n",
    "    df[\"lower\"] = df[text].apply(lambda x: x.lower())\n",
    "    df[\"token\"] = df[\"lower\"].apply(lambda x: nltk.word_tokenize(x))\n",
    "    df[\"len_token\"] = df[\"token\"].apply(lambda x: len(x))\n",
    "    df['pos_tags'] = df['token'].apply(nltk.tag.pos_tag)\n",
    "    df['Verbs'] = df['pos_tags'].apply(lambda x: [i[0] for i in x if i[1].startswith('RB') or i[1].startswith('VB')])\n",
    "    df['Nouns'] = df['pos_tags'].apply(lambda x: [i[0] for i in x if i[1].startswith('NN') or i[1].startswith('JJ')])\n",
    "    df[\"len_verbs\"] = df[\"Verbs\"].apply(lambda x: len(x))\n",
    "    df[\"len_nouns\"] = df[\"Nouns\"].apply(lambda x: len(x))\n",
    "    df[\"Verbs_prop\"] = df[\"len_verbs\"]/df[\"len_token\"]*100\n",
    "    df[\"Nouns_prop\"] = df[\"len_nouns\"]/df[\"len_token\"]*100\n",
    "    return df"
   ]
  },
  {
   "cell_type": "code",
   "execution_count": 65,
   "metadata": {},
   "outputs": [],
   "source": [
    "# Process to extract proportions of parts of speech from each dataset (Cornell truthful and deceptive and Arun positive reviews)\n",
    "truthful_reviews_proc = verbs_adverbs(truthful_reviews,\"text\")\n",
    "deceptive_reviews_proc = verbs_adverbs(deceptive_reviews,\"text\")\n",
    "arun_proc = verbs_adverbs(pos_reviews,\"Review\")"
   ]
  },
  {
   "cell_type": "code",
   "execution_count": 66,
   "metadata": {},
   "outputs": [
    {
     "data": {
      "text/html": [
       "<div>\n",
       "<style scoped>\n",
       "    .dataframe tbody tr th:only-of-type {\n",
       "        vertical-align: middle;\n",
       "    }\n",
       "\n",
       "    .dataframe tbody tr th {\n",
       "        vertical-align: top;\n",
       "    }\n",
       "\n",
       "    .dataframe thead th {\n",
       "        text-align: right;\n",
       "    }\n",
       "</style>\n",
       "<table border=\"1\" class=\"dataframe\">\n",
       "  <thead>\n",
       "    <tr style=\"text-align: right;\">\n",
       "      <th></th>\n",
       "      <th>deceptive</th>\n",
       "      <th>polarity</th>\n",
       "      <th>text</th>\n",
       "      <th>char_len</th>\n",
       "      <th>lower</th>\n",
       "      <th>token</th>\n",
       "      <th>len_token</th>\n",
       "      <th>pos_tags</th>\n",
       "      <th>pronouns</th>\n",
       "      <th>first</th>\n",
       "      <th>prop_pronouns</th>\n",
       "      <th>Verbs</th>\n",
       "      <th>Nouns</th>\n",
       "      <th>len_verbs</th>\n",
       "      <th>len_nouns</th>\n",
       "      <th>Verbs_prop</th>\n",
       "      <th>Nouns_prop</th>\n",
       "    </tr>\n",
       "  </thead>\n",
       "  <tbody>\n",
       "  </tbody>\n",
       "</table>\n",
       "</div>"
      ],
      "text/plain": [
       "Empty DataFrame\n",
       "Columns: [deceptive, polarity, text, char_len, lower, token, len_token, pos_tags, pronouns, first, prop_pronouns, Verbs, Nouns, len_verbs, len_nouns, Verbs_prop, Nouns_prop]\n",
       "Index: []"
      ]
     },
     "execution_count": 66,
     "metadata": {},
     "output_type": "execute_result"
    }
   ],
   "source": [
    "# Look at top 3 items with the highest proportion of verbs and adverbs in the deceptive dataframe\n",
    "deceptive_reviews_proc.sort_values(by = \"Verbs_prop\",ascending = False).head(3)"
   ]
  },
  {
   "cell_type": "code",
   "execution_count": 67,
   "metadata": {},
   "outputs": [
    {
     "data": {
      "text/html": [
       "<div>\n",
       "<style scoped>\n",
       "    .dataframe tbody tr th:only-of-type {\n",
       "        vertical-align: middle;\n",
       "    }\n",
       "\n",
       "    .dataframe tbody tr th {\n",
       "        vertical-align: top;\n",
       "    }\n",
       "\n",
       "    .dataframe thead th {\n",
       "        text-align: right;\n",
       "    }\n",
       "</style>\n",
       "<table border=\"1\" class=\"dataframe\">\n",
       "  <thead>\n",
       "    <tr style=\"text-align: right;\">\n",
       "      <th></th>\n",
       "      <th>Name</th>\n",
       "      <th>Category</th>\n",
       "      <th>User</th>\n",
       "      <th>Contributions</th>\n",
       "      <th>ReviewDate</th>\n",
       "      <th>Title</th>\n",
       "      <th>Review</th>\n",
       "      <th>Rating</th>\n",
       "      <th>review_lower</th>\n",
       "      <th>lower</th>\n",
       "      <th>...</th>\n",
       "      <th>pos_tags</th>\n",
       "      <th>pronouns</th>\n",
       "      <th>first</th>\n",
       "      <th>prop_pronouns</th>\n",
       "      <th>Verbs</th>\n",
       "      <th>Nouns</th>\n",
       "      <th>len_verbs</th>\n",
       "      <th>len_nouns</th>\n",
       "      <th>Verbs_prop</th>\n",
       "      <th>Nouns_prop</th>\n",
       "    </tr>\n",
       "  </thead>\n",
       "  <tbody>\n",
       "    <tr>\n",
       "      <th>9058</th>\n",
       "      <td>Deligo</td>\n",
       "      <td>Food</td>\n",
       "      <td>Kieren H</td>\n",
       "      <td>1</td>\n",
       "      <td>2019-11-07</td>\n",
       "      <td>Lunch</td>\n",
       "      <td>Great place lovely food very welcoming will de...</td>\n",
       "      <td>5</td>\n",
       "      <td>great place lovely food very welcoming will de...</td>\n",
       "      <td>great place lovely food very welcoming will de...</td>\n",
       "      <td>...</td>\n",
       "      <td>[(great, JJ), (place, NN), (lovely, RB), (food...</td>\n",
       "      <td>[]</td>\n",
       "      <td>0</td>\n",
       "      <td>0.0</td>\n",
       "      <td>[lovely, very, welcoming, definitely, be, goin...</td>\n",
       "      <td>[great, place, food, family, cafe]</td>\n",
       "      <td>12</td>\n",
       "      <td>5</td>\n",
       "      <td>60.000000</td>\n",
       "      <td>25.000000</td>\n",
       "    </tr>\n",
       "    <tr>\n",
       "      <th>8824</th>\n",
       "      <td>Simla Tandoori</td>\n",
       "      <td>Food</td>\n",
       "      <td>461grahamt</td>\n",
       "      <td>7</td>\n",
       "      <td>2019-01-15</td>\n",
       "      <td>Good food, friendly and good value</td>\n",
       "      <td>Very friendly atmosphere and the staff are alw...</td>\n",
       "      <td>4</td>\n",
       "      <td>very friendly atmosphere and the staff are alw...</td>\n",
       "      <td>very friendly atmosphere and the staff are alw...</td>\n",
       "      <td>...</td>\n",
       "      <td>[(very, RB), (friendly, RB), (atmosphere, RB),...</td>\n",
       "      <td>[]</td>\n",
       "      <td>0</td>\n",
       "      <td>0.0</td>\n",
       "      <td>[very, friendly, atmosphere, are, always, have...</td>\n",
       "      <td>[staff, helpful, many, times, disappointed]</td>\n",
       "      <td>10</td>\n",
       "      <td>5</td>\n",
       "      <td>52.631579</td>\n",
       "      <td>26.315789</td>\n",
       "    </tr>\n",
       "    <tr>\n",
       "      <th>2364</th>\n",
       "      <td>Hangar Down</td>\n",
       "      <td>Accommodation</td>\n",
       "      <td>2012JandBS</td>\n",
       "      <td>45</td>\n",
       "      <td>2019-07-01</td>\n",
       "      <td>Lovely two night stay at the B&amp;B. Alison was w...</td>\n",
       "      <td>Lovely, relaxing stay</td>\n",
       "      <td>5</td>\n",
       "      <td>lovely, relaxing stay</td>\n",
       "      <td>lovely, relaxing stay</td>\n",
       "      <td>...</td>\n",
       "      <td>[(lovely, RB), (,, ,), (relaxing, VBG), (stay,...</td>\n",
       "      <td>[]</td>\n",
       "      <td>0</td>\n",
       "      <td>0.0</td>\n",
       "      <td>[lovely, relaxing]</td>\n",
       "      <td>[stay]</td>\n",
       "      <td>2</td>\n",
       "      <td>1</td>\n",
       "      <td>50.000000</td>\n",
       "      <td>25.000000</td>\n",
       "    </tr>\n",
       "  </tbody>\n",
       "</table>\n",
       "<p>3 rows × 22 columns</p>\n",
       "</div>"
      ],
      "text/plain": [
       "                Name       Category        User  Contributions  ReviewDate  \\\n",
       "9058          Deligo           Food    Kieren H              1  2019-11-07   \n",
       "8824  Simla Tandoori           Food  461grahamt              7  2019-01-15   \n",
       "2364     Hangar Down  Accommodation  2012JandBS             45  2019-07-01   \n",
       "\n",
       "                                                  Title  \\\n",
       "9058                                              Lunch   \n",
       "8824                 Good food, friendly and good value   \n",
       "2364  Lovely two night stay at the B&B. Alison was w...   \n",
       "\n",
       "                                                 Review  Rating  \\\n",
       "9058  Great place lovely food very welcoming will de...       5   \n",
       "8824  Very friendly atmosphere and the staff are alw...       4   \n",
       "2364                             Lovely, relaxing stay        5   \n",
       "\n",
       "                                           review_lower  \\\n",
       "9058  great place lovely food very welcoming will de...   \n",
       "8824  very friendly atmosphere and the staff are alw...   \n",
       "2364                             lovely, relaxing stay    \n",
       "\n",
       "                                                  lower  ...  \\\n",
       "9058  great place lovely food very welcoming will de...  ...   \n",
       "8824  very friendly atmosphere and the staff are alw...  ...   \n",
       "2364                             lovely, relaxing stay   ...   \n",
       "\n",
       "                                               pos_tags  pronouns first  \\\n",
       "9058  [(great, JJ), (place, NN), (lovely, RB), (food...        []     0   \n",
       "8824  [(very, RB), (friendly, RB), (atmosphere, RB),...        []     0   \n",
       "2364  [(lovely, RB), (,, ,), (relaxing, VBG), (stay,...        []     0   \n",
       "\n",
       "     prop_pronouns                                              Verbs  \\\n",
       "9058           0.0  [lovely, very, welcoming, definitely, be, goin...   \n",
       "8824           0.0  [very, friendly, atmosphere, are, always, have...   \n",
       "2364           0.0                                 [lovely, relaxing]   \n",
       "\n",
       "                                            Nouns len_verbs len_nouns  \\\n",
       "9058           [great, place, food, family, cafe]        12         5   \n",
       "8824  [staff, helpful, many, times, disappointed]        10         5   \n",
       "2364                                       [stay]         2         1   \n",
       "\n",
       "      Verbs_prop  Nouns_prop  \n",
       "9058   60.000000   25.000000  \n",
       "8824   52.631579   26.315789  \n",
       "2364   50.000000   25.000000  \n",
       "\n",
       "[3 rows x 22 columns]"
      ]
     },
     "execution_count": 67,
     "metadata": {},
     "output_type": "execute_result"
    }
   ],
   "source": [
    "# Look at top 3 items with the highest proportion of verbs and adverbs in the Arun positive dataframe\n",
    "arun_proc.sort_values(by = \"Verbs_prop\",ascending = False).head(3)"
   ]
  },
  {
   "cell_type": "code",
   "execution_count": 68,
   "metadata": {},
   "outputs": [
    {
     "name": "stdout",
     "output_type": "stream",
     "text": [
      "Deceptive: nan\n",
      "Truthful: nan\n",
      "Arun Positive: 23.150011090133\n"
     ]
    }
   ],
   "source": [
    "# Get the average proportion of verbs and adverbs for the deceptive reviews, truthful reviews and the Arun positive\n",
    "print(\"Deceptive:\",deceptive_reviews_proc.Verbs_prop.mean())\n",
    "print(\"Truthful:\",truthful_reviews_proc.Verbs_prop.mean())\n",
    "print(\"Arun Positive:\",arun_proc.Verbs_prop.mean())"
   ]
  },
  {
   "cell_type": "code",
   "execution_count": 69,
   "metadata": {},
   "outputs": [
    {
     "name": "stdout",
     "output_type": "stream",
     "text": [
      "Deceptive: nan\n",
      "Truthful: nan\n",
      "Arun Positive: 34.682902288908025\n"
     ]
    }
   ],
   "source": [
    "# Get the average proportion of nouns and adjectives for the deceptive reviews, truthful reviews and the Arun positive\n",
    "print(\"Deceptive:\",deceptive_reviews_proc.Nouns_prop.mean())\n",
    "print(\"Truthful:\",truthful_reviews_proc.Nouns_prop.mean())\n",
    "print(\"Arun Positive:\",arun_proc.Nouns_prop.mean())"
   ]
  },
  {
   "cell_type": "markdown",
   "metadata": {},
   "source": [
    "Analysis: The proportion of verbs and adverbs and of nouns and adjectives are not very different. The proportion of verbs and adverbs in the Arun positive dataset is similar to that for the deceptive Cornell data, although the proportion of nouns and adjectives, indicating factual writing is HIGHER than both the deceptive and truthful Cornell datasets so this is contradictory to the research. \n",
    "\n",
    "Looking at the proportions of verbs and adverbs in the Arun positive reviews a bit closer:\n"
   ]
  },
  {
   "cell_type": "code",
   "execution_count": 70,
   "metadata": {},
   "outputs": [
    {
     "data": {
      "text/html": [
       "<div>\n",
       "<style scoped>\n",
       "    .dataframe tbody tr th:only-of-type {\n",
       "        vertical-align: middle;\n",
       "    }\n",
       "\n",
       "    .dataframe tbody tr th {\n",
       "        vertical-align: top;\n",
       "    }\n",
       "\n",
       "    .dataframe thead th {\n",
       "        text-align: right;\n",
       "    }\n",
       "</style>\n",
       "<table border=\"1\" class=\"dataframe\">\n",
       "  <thead>\n",
       "    <tr style=\"text-align: right;\">\n",
       "      <th></th>\n",
       "      <th>Verbs_prop</th>\n",
       "    </tr>\n",
       "    <tr>\n",
       "      <th>Name</th>\n",
       "      <th></th>\n",
       "    </tr>\n",
       "  </thead>\n",
       "  <tbody>\n",
       "    <tr>\n",
       "      <th>KFC Bognor</th>\n",
       "      <td>41.666667</td>\n",
       "    </tr>\n",
       "    <tr>\n",
       "      <th>Café 77</th>\n",
       "      <td>40.000000</td>\n",
       "    </tr>\n",
       "    <tr>\n",
       "      <th>Tesco Café</th>\n",
       "      <td>40.000000</td>\n",
       "    </tr>\n",
       "    <tr>\n",
       "      <th>Deligo</th>\n",
       "      <td>36.478495</td>\n",
       "    </tr>\n",
       "    <tr>\n",
       "      <th>Jade</th>\n",
       "      <td>36.363636</td>\n",
       "    </tr>\n",
       "    <tr>\n",
       "      <th>Fish &amp; Chips</th>\n",
       "      <td>34.883721</td>\n",
       "    </tr>\n",
       "    <tr>\n",
       "      <th>Copthorne Caravans</th>\n",
       "      <td>33.076923</td>\n",
       "    </tr>\n",
       "    <tr>\n",
       "      <th>Gaston Farm</th>\n",
       "      <td>31.782946</td>\n",
       "    </tr>\n",
       "    <tr>\n",
       "      <th>Famous City</th>\n",
       "      <td>31.451125</td>\n",
       "    </tr>\n",
       "    <tr>\n",
       "      <th>Simla Tandoori</th>\n",
       "      <td>31.375200</td>\n",
       "    </tr>\n",
       "    <tr>\n",
       "      <th>Café 79</th>\n",
       "      <td>31.168831</td>\n",
       "    </tr>\n",
       "    <tr>\n",
       "      <th>McDonald's</th>\n",
       "      <td>31.140351</td>\n",
       "    </tr>\n",
       "    <tr>\n",
       "      <th>Café 74</th>\n",
       "      <td>30.612245</td>\n",
       "    </tr>\n",
       "    <tr>\n",
       "      <th>King Pizza</th>\n",
       "      <td>30.303030</td>\n",
       "    </tr>\n",
       "    <tr>\n",
       "      <th>Delilah's Sandwich Bar</th>\n",
       "      <td>30.250533</td>\n",
       "    </tr>\n",
       "    <tr>\n",
       "      <th>Ours</th>\n",
       "      <td>29.762821</td>\n",
       "    </tr>\n",
       "    <tr>\n",
       "      <th>Arundel House</th>\n",
       "      <td>29.741379</td>\n",
       "    </tr>\n",
       "    <tr>\n",
       "      <th>Best Kebab and Burgers</th>\n",
       "      <td>29.673531</td>\n",
       "    </tr>\n",
       "    <tr>\n",
       "      <th>Glorious Spa</th>\n",
       "      <td>29.435659</td>\n",
       "    </tr>\n",
       "    <tr>\n",
       "      <th>Star Fish Kingdom</th>\n",
       "      <td>29.268293</td>\n",
       "    </tr>\n",
       "    <tr>\n",
       "      <th>Silver City</th>\n",
       "      <td>29.166667</td>\n",
       "    </tr>\n",
       "    <tr>\n",
       "      <th>The Southdowns</th>\n",
       "      <td>28.957508</td>\n",
       "    </tr>\n",
       "    <tr>\n",
       "      <th>Habib Indian Takeaway</th>\n",
       "      <td>28.664722</td>\n",
       "    </tr>\n",
       "    <tr>\n",
       "      <th>Rosie Lee's Café</th>\n",
       "      <td>28.641457</td>\n",
       "    </tr>\n",
       "    <tr>\n",
       "      <th>Lodwicks</th>\n",
       "      <td>28.571429</td>\n",
       "    </tr>\n",
       "    <tr>\n",
       "      <th>Sundarban</th>\n",
       "      <td>28.037982</td>\n",
       "    </tr>\n",
       "    <tr>\n",
       "      <th>Wimpey</th>\n",
       "      <td>27.932418</td>\n",
       "    </tr>\n",
       "    <tr>\n",
       "      <th>Tandoori Gate</th>\n",
       "      <td>27.628853</td>\n",
       "    </tr>\n",
       "    <tr>\n",
       "      <th>Curry Villa</th>\n",
       "      <td>27.551432</td>\n",
       "    </tr>\n",
       "    <tr>\n",
       "      <th>So India, Little.</th>\n",
       "      <td>27.409072</td>\n",
       "    </tr>\n",
       "    <tr>\n",
       "      <th>Sussex Fryer</th>\n",
       "      <td>27.380952</td>\n",
       "    </tr>\n",
       "    <tr>\n",
       "      <th>Lantern House</th>\n",
       "      <td>27.351046</td>\n",
       "    </tr>\n",
       "    <tr>\n",
       "      <th>Riuchi</th>\n",
       "      <td>27.269806</td>\n",
       "    </tr>\n",
       "    <tr>\n",
       "      <th>Tuptim Siam</th>\n",
       "      <td>27.235309</td>\n",
       "    </tr>\n",
       "    <tr>\n",
       "      <th>Best Western Restaurant</th>\n",
       "      <td>27.150368</td>\n",
       "    </tr>\n",
       "    <tr>\n",
       "      <th>Zeera Lounge</th>\n",
       "      <td>27.116450</td>\n",
       "    </tr>\n",
       "    <tr>\n",
       "      <th>Arundel Park Hotel</th>\n",
       "      <td>26.918563</td>\n",
       "    </tr>\n",
       "    <tr>\n",
       "      <th>Westside Café</th>\n",
       "      <td>26.804124</td>\n",
       "    </tr>\n",
       "    <tr>\n",
       "      <th>Murrell Arms</th>\n",
       "      <td>26.713726</td>\n",
       "    </tr>\n",
       "    <tr>\n",
       "      <th>The Claremont Inn</th>\n",
       "      <td>26.696065</td>\n",
       "    </tr>\n",
       "    <tr>\n",
       "      <th>Punch and Judy</th>\n",
       "      <td>26.543518</td>\n",
       "    </tr>\n",
       "    <tr>\n",
       "      <th>Cabin</th>\n",
       "      <td>26.531554</td>\n",
       "    </tr>\n",
       "    <tr>\n",
       "      <th>Pizza Express</th>\n",
       "      <td>26.525697</td>\n",
       "    </tr>\n",
       "    <tr>\n",
       "      <th>Elmer</th>\n",
       "      <td>26.521995</td>\n",
       "    </tr>\n",
       "    <tr>\n",
       "      <th>Middleton Café</th>\n",
       "      <td>26.490564</td>\n",
       "    </tr>\n",
       "    <tr>\n",
       "      <th>Arundel Antiques Market</th>\n",
       "      <td>26.190476</td>\n",
       "    </tr>\n",
       "    <tr>\n",
       "      <th>Sen</th>\n",
       "      <td>26.145487</td>\n",
       "    </tr>\n",
       "    <tr>\n",
       "      <th>Friary Arms</th>\n",
       "      <td>26.123335</td>\n",
       "    </tr>\n",
       "    <tr>\n",
       "      <th>Linden Fisheries</th>\n",
       "      <td>25.960420</td>\n",
       "    </tr>\n",
       "    <tr>\n",
       "      <th>Penang Village</th>\n",
       "      <td>25.936180</td>\n",
       "    </tr>\n",
       "    <tr>\n",
       "      <th>The Deck</th>\n",
       "      <td>25.931820</td>\n",
       "    </tr>\n",
       "    <tr>\n",
       "      <th>Polkadot Stripes</th>\n",
       "      <td>25.925926</td>\n",
       "    </tr>\n",
       "    <tr>\n",
       "      <th>Sefton Place</th>\n",
       "      <td>25.913730</td>\n",
       "    </tr>\n",
       "    <tr>\n",
       "      <th>Spice Zone</th>\n",
       "      <td>25.862069</td>\n",
       "    </tr>\n",
       "    <tr>\n",
       "      <th>Clymping Beach</th>\n",
       "      <td>25.832422</td>\n",
       "    </tr>\n",
       "    <tr>\n",
       "      <th>Angmering Manor</th>\n",
       "      <td>25.786567</td>\n",
       "    </tr>\n",
       "    <tr>\n",
       "      <th>The Roundstone</th>\n",
       "      <td>25.749188</td>\n",
       "    </tr>\n",
       "    <tr>\n",
       "      <th>The Mezze</th>\n",
       "      <td>25.685558</td>\n",
       "    </tr>\n",
       "    <tr>\n",
       "      <th>Victoria Fish &amp; Chips</th>\n",
       "      <td>25.674371</td>\n",
       "    </tr>\n",
       "    <tr>\n",
       "      <th>Café 75</th>\n",
       "      <td>25.490196</td>\n",
       "    </tr>\n",
       "    <tr>\n",
       "      <th>Café Oasis</th>\n",
       "      <td>25.489392</td>\n",
       "    </tr>\n",
       "    <tr>\n",
       "      <th>Tapestry</th>\n",
       "      <td>25.468175</td>\n",
       "    </tr>\n",
       "    <tr>\n",
       "      <th>Thai Pan</th>\n",
       "      <td>25.454545</td>\n",
       "    </tr>\n",
       "    <tr>\n",
       "      <th>Denmans Gardens</th>\n",
       "      <td>25.452595</td>\n",
       "    </tr>\n",
       "    <tr>\n",
       "      <th>La Cucina</th>\n",
       "      <td>25.420441</td>\n",
       "    </tr>\n",
       "    <tr>\n",
       "      <th>St Mary's Church, Felpham</th>\n",
       "      <td>25.378788</td>\n",
       "    </tr>\n",
       "    <tr>\n",
       "      <th>Tandoori Nights</th>\n",
       "      <td>25.331375</td>\n",
       "    </tr>\n",
       "    <tr>\n",
       "      <th>Ye Olde Fish and Chippe Shoppe</th>\n",
       "      <td>25.285868</td>\n",
       "    </tr>\n",
       "    <tr>\n",
       "      <th>Aldwick</th>\n",
       "      <td>25.257585</td>\n",
       "    </tr>\n",
       "    <tr>\n",
       "      <th>China Royal</th>\n",
       "      <td>25.192421</td>\n",
       "    </tr>\n",
       "    <tr>\n",
       "      <th>TAO</th>\n",
       "      <td>25.183271</td>\n",
       "    </tr>\n",
       "    <tr>\n",
       "      <th>Riverside</th>\n",
       "      <td>25.168624</td>\n",
       "    </tr>\n",
       "    <tr>\n",
       "      <th>Inspire Leisure</th>\n",
       "      <td>25.136612</td>\n",
       "    </tr>\n",
       "    <tr>\n",
       "      <th>Toast</th>\n",
       "      <td>25.112677</td>\n",
       "    </tr>\n",
       "    <tr>\n",
       "      <th>Mill House</th>\n",
       "      <td>25.039015</td>\n",
       "    </tr>\n",
       "    <tr>\n",
       "      <th>Back Arun Fisheries</th>\n",
       "      <td>25.000000</td>\n",
       "    </tr>\n",
       "    <tr>\n",
       "      <th>The Alex</th>\n",
       "      <td>25.000000</td>\n",
       "    </tr>\n",
       "    <tr>\n",
       "      <th>The Locomotive</th>\n",
       "      <td>24.998705</td>\n",
       "    </tr>\n",
       "    <tr>\n",
       "      <th>Osca's</th>\n",
       "      <td>24.977973</td>\n",
       "    </tr>\n",
       "    <tr>\n",
       "      <th>The Windmill, Harvester</th>\n",
       "      <td>24.976067</td>\n",
       "    </tr>\n",
       "    <tr>\n",
       "      <th>George Inn</th>\n",
       "      <td>24.961785</td>\n",
       "    </tr>\n",
       "    <tr>\n",
       "      <th>Bagels and Coffee</th>\n",
       "      <td>24.940719</td>\n",
       "    </tr>\n",
       "    <tr>\n",
       "      <th>Sea View</th>\n",
       "      <td>24.932409</td>\n",
       "    </tr>\n",
       "    <tr>\n",
       "      <th>Jaybelle Grange</th>\n",
       "      <td>24.874964</td>\n",
       "    </tr>\n",
       "    <tr>\n",
       "      <th>Warren's Bakery</th>\n",
       "      <td>24.727768</td>\n",
       "    </tr>\n",
       "    <tr>\n",
       "      <th>Way out There and Back</th>\n",
       "      <td>24.691358</td>\n",
       "    </tr>\n",
       "    <tr>\n",
       "      <th>Butlins Fish and Chips</th>\n",
       "      <td>24.681403</td>\n",
       "    </tr>\n",
       "    <tr>\n",
       "      <th>Crossbush, Beefeater</th>\n",
       "      <td>24.667940</td>\n",
       "    </tr>\n",
       "    <tr>\n",
       "      <th>Raj Doot</th>\n",
       "      <td>24.659273</td>\n",
       "    </tr>\n",
       "    <tr>\n",
       "      <th>The Bear Inn</th>\n",
       "      <td>24.628930</td>\n",
       "    </tr>\n",
       "    <tr>\n",
       "      <th>So India, Felpham</th>\n",
       "      <td>24.621459</td>\n",
       "    </tr>\n",
       "    <tr>\n",
       "      <th>War Memorial</th>\n",
       "      <td>24.598543</td>\n",
       "    </tr>\n",
       "    <tr>\n",
       "      <th>The Lion</th>\n",
       "      <td>24.579636</td>\n",
       "    </tr>\n",
       "    <tr>\n",
       "      <th>Littlehampton Fish and Chips</th>\n",
       "      <td>24.563153</td>\n",
       "    </tr>\n",
       "    <tr>\n",
       "      <th>Fino</th>\n",
       "      <td>24.535009</td>\n",
       "    </tr>\n",
       "    <tr>\n",
       "      <th>T-Bone Burger</th>\n",
       "      <td>24.533158</td>\n",
       "    </tr>\n",
       "    <tr>\n",
       "      <th>Old Selden Farm</th>\n",
       "      <td>24.510785</td>\n",
       "    </tr>\n",
       "    <tr>\n",
       "      <th>47 Mussel Row</th>\n",
       "      <td>24.508403</td>\n",
       "    </tr>\n",
       "    <tr>\n",
       "      <th>The Lamb Inn</th>\n",
       "      <td>24.505862</td>\n",
       "    </tr>\n",
       "    <tr>\n",
       "      <th>Bognor Charcoal Grill</th>\n",
       "      <td>24.465384</td>\n",
       "    </tr>\n",
       "    <tr>\n",
       "      <th>Cardanom Bay</th>\n",
       "      <td>24.461769</td>\n",
       "    </tr>\n",
       "    <tr>\n",
       "      <th>Magna Tandoori</th>\n",
       "      <td>24.459878</td>\n",
       "    </tr>\n",
       "    <tr>\n",
       "      <th>Mr P's Classic Amusements</th>\n",
       "      <td>24.417126</td>\n",
       "    </tr>\n",
       "    <tr>\n",
       "      <th>The Thatched House</th>\n",
       "      <td>24.356907</td>\n",
       "    </tr>\n",
       "    <tr>\n",
       "      <th>Grub &amp; Gumption</th>\n",
       "      <td>24.350635</td>\n",
       "    </tr>\n",
       "    <tr>\n",
       "      <th>The Holly Tree</th>\n",
       "      <td>24.334884</td>\n",
       "    </tr>\n",
       "    <tr>\n",
       "      <th>World's End</th>\n",
       "      <td>24.276243</td>\n",
       "    </tr>\n",
       "    <tr>\n",
       "      <th>Vicky's Café</th>\n",
       "      <td>24.267226</td>\n",
       "    </tr>\n",
       "    <tr>\n",
       "      <th>Harbour Lights</th>\n",
       "      <td>24.261645</td>\n",
       "    </tr>\n",
       "    <tr>\n",
       "      <th>Church Farm</th>\n",
       "      <td>24.251935</td>\n",
       "    </tr>\n",
       "    <tr>\n",
       "      <th>The Gravy Boat</th>\n",
       "      <td>24.238231</td>\n",
       "    </tr>\n",
       "    <tr>\n",
       "      <th>LG Café</th>\n",
       "      <td>24.235073</td>\n",
       "    </tr>\n",
       "    <tr>\n",
       "      <th>The Pizza Base</th>\n",
       "      <td>24.216524</td>\n",
       "    </tr>\n",
       "    <tr>\n",
       "      <th>The Deli</th>\n",
       "      <td>24.201725</td>\n",
       "    </tr>\n",
       "    <tr>\n",
       "      <th>Passage to India</th>\n",
       "      <td>24.197028</td>\n",
       "    </tr>\n",
       "    <tr>\n",
       "      <th>Clock House Café</th>\n",
       "      <td>24.189711</td>\n",
       "    </tr>\n",
       "    <tr>\n",
       "      <th>Bangkok Lounge</th>\n",
       "      <td>24.186424</td>\n",
       "    </tr>\n",
       "    <tr>\n",
       "      <th>Arun View</th>\n",
       "      <td>24.182706</td>\n",
       "    </tr>\n",
       "    <tr>\n",
       "      <th>Heygates Bookshop</th>\n",
       "      <td>24.176763</td>\n",
       "    </tr>\n",
       "    <tr>\n",
       "      <th>Carlyle's Café</th>\n",
       "      <td>24.174716</td>\n",
       "    </tr>\n",
       "    <tr>\n",
       "      <th>Chopsticks</th>\n",
       "      <td>24.165059</td>\n",
       "    </tr>\n",
       "    <tr>\n",
       "      <th>Ting's</th>\n",
       "      <td>24.147303</td>\n",
       "    </tr>\n",
       "    <tr>\n",
       "      <th>Carlton Hotel</th>\n",
       "      <td>24.113839</td>\n",
       "    </tr>\n",
       "    <tr>\n",
       "      <th>Partners Café</th>\n",
       "      <td>24.092100</td>\n",
       "    </tr>\n",
       "    <tr>\n",
       "      <th>Interchange Café</th>\n",
       "      <td>24.074074</td>\n",
       "    </tr>\n",
       "    <tr>\n",
       "      <th>The Diner</th>\n",
       "      <td>24.064852</td>\n",
       "    </tr>\n",
       "    <tr>\n",
       "      <th>Snooty Fox Bar</th>\n",
       "      <td>24.040404</td>\n",
       "    </tr>\n",
       "    <tr>\n",
       "      <th>Rustington Manor</th>\n",
       "      <td>24.008797</td>\n",
       "    </tr>\n",
       "    <tr>\n",
       "      <th>Selwood Hotel</th>\n",
       "      <td>24.003056</td>\n",
       "    </tr>\n",
       "    <tr>\n",
       "      <th>Beachcomber Inn</th>\n",
       "      <td>23.957548</td>\n",
       "    </tr>\n",
       "    <tr>\n",
       "      <th>Candle Villa</th>\n",
       "      <td>23.957498</td>\n",
       "    </tr>\n",
       "    <tr>\n",
       "      <th>Galley Restaurant and Tea Rooms</th>\n",
       "      <td>23.897820</td>\n",
       "    </tr>\n",
       "    <tr>\n",
       "      <th>Mewsbrook Park</th>\n",
       "      <td>23.892551</td>\n",
       "    </tr>\n",
       "    <tr>\n",
       "      <th>Ristorante Al Mare</th>\n",
       "      <td>23.865178</td>\n",
       "    </tr>\n",
       "    <tr>\n",
       "      <th>China Palace</th>\n",
       "      <td>23.811334</td>\n",
       "    </tr>\n",
       "    <tr>\n",
       "      <th>Lemongrass Thai</th>\n",
       "      <td>23.795095</td>\n",
       "    </tr>\n",
       "    <tr>\n",
       "      <th>Mustards</th>\n",
       "      <td>23.793480</td>\n",
       "    </tr>\n",
       "    <tr>\n",
       "      <th>The Beresford</th>\n",
       "      <td>23.782948</td>\n",
       "    </tr>\n",
       "    <tr>\n",
       "      <th>Portuguese Grill</th>\n",
       "      <td>23.734298</td>\n",
       "    </tr>\n",
       "    <tr>\n",
       "      <th>Grandads Front Room</th>\n",
       "      <td>23.725317</td>\n",
       "    </tr>\n",
       "    <tr>\n",
       "      <th>Premier Inn Littlehampton</th>\n",
       "      <td>23.719452</td>\n",
       "    </tr>\n",
       "    <tr>\n",
       "      <th>Fusion</th>\n",
       "      <td>23.697210</td>\n",
       "    </tr>\n",
       "    <tr>\n",
       "      <th>Kerry's Tea Room</th>\n",
       "      <td>23.693064</td>\n",
       "    </tr>\n",
       "    <tr>\n",
       "      <th>Robin Hood</th>\n",
       "      <td>23.687529</td>\n",
       "    </tr>\n",
       "    <tr>\n",
       "      <th>Masala Lounge</th>\n",
       "      <td>23.643200</td>\n",
       "    </tr>\n",
       "    <tr>\n",
       "      <th>Sunny Garden</th>\n",
       "      <td>23.636364</td>\n",
       "    </tr>\n",
       "    <tr>\n",
       "      <th>Arundel Castle</th>\n",
       "      <td>23.635931</td>\n",
       "    </tr>\n",
       "    <tr>\n",
       "      <th>Wildforest Falls</th>\n",
       "      <td>23.633565</td>\n",
       "    </tr>\n",
       "    <tr>\n",
       "      <th>Travelodge Fontwell</th>\n",
       "      <td>23.602307</td>\n",
       "    </tr>\n",
       "    <tr>\n",
       "      <th>Fox Inn</th>\n",
       "      <td>23.594017</td>\n",
       "    </tr>\n",
       "    <tr>\n",
       "      <th>The Old Barn</th>\n",
       "      <td>23.571429</td>\n",
       "    </tr>\n",
       "    <tr>\n",
       "      <th>Premier Inn Bognor</th>\n",
       "      <td>23.568820</td>\n",
       "    </tr>\n",
       "    <tr>\n",
       "      <th>River Breeze</th>\n",
       "      <td>23.485735</td>\n",
       "    </tr>\n",
       "    <tr>\n",
       "      <th>Spotted Cow</th>\n",
       "      <td>23.424749</td>\n",
       "    </tr>\n",
       "    <tr>\n",
       "      <th>Best Western Bognor</th>\n",
       "      <td>23.398472</td>\n",
       "    </tr>\n",
       "    <tr>\n",
       "      <th>Wheatsheaf</th>\n",
       "      <td>23.382848</td>\n",
       "    </tr>\n",
       "    <tr>\n",
       "      <th>Comfort Inn</th>\n",
       "      <td>23.337567</td>\n",
       "    </tr>\n",
       "    <tr>\n",
       "      <th>Lemongrass Restaurant</th>\n",
       "      <td>23.332860</td>\n",
       "    </tr>\n",
       "    <tr>\n",
       "      <th>Royal Norfolk</th>\n",
       "      <td>23.330981</td>\n",
       "    </tr>\n",
       "    <tr>\n",
       "      <th>Harbour Park</th>\n",
       "      <td>23.324517</td>\n",
       "    </tr>\n",
       "    <tr>\n",
       "      <th>Poppins</th>\n",
       "      <td>23.315298</td>\n",
       "    </tr>\n",
       "    <tr>\n",
       "      <th>The Windmill</th>\n",
       "      <td>23.310755</td>\n",
       "    </tr>\n",
       "    <tr>\n",
       "      <th>Pub &amp; Kitchen</th>\n",
       "      <td>23.290218</td>\n",
       "    </tr>\n",
       "    <tr>\n",
       "      <th>Gaskyns</th>\n",
       "      <td>23.279198</td>\n",
       "    </tr>\n",
       "    <tr>\n",
       "      <th>White Swan Arundel</th>\n",
       "      <td>23.271547</td>\n",
       "    </tr>\n",
       "    <tr>\n",
       "      <th>Establo Lounge</th>\n",
       "      <td>23.244110</td>\n",
       "    </tr>\n",
       "    <tr>\n",
       "      <th>Butlins</th>\n",
       "      <td>23.239965</td>\n",
       "    </tr>\n",
       "    <tr>\n",
       "      <th>Anokha</th>\n",
       "      <td>23.237904</td>\n",
       "    </tr>\n",
       "    <tr>\n",
       "      <th>Moathouse Café</th>\n",
       "      <td>23.233993</td>\n",
       "    </tr>\n",
       "    <tr>\n",
       "      <th>The Burger Shop</th>\n",
       "      <td>23.229967</td>\n",
       "    </tr>\n",
       "    <tr>\n",
       "      <th>Little London Teashop</th>\n",
       "      <td>23.228928</td>\n",
       "    </tr>\n",
       "    <tr>\n",
       "      <th>Arundel Jailhouse</th>\n",
       "      <td>23.224558</td>\n",
       "    </tr>\n",
       "    <tr>\n",
       "      <th>The Town House</th>\n",
       "      <td>23.187887</td>\n",
       "    </tr>\n",
       "    <tr>\n",
       "      <th>The Dragon</th>\n",
       "      <td>23.184344</td>\n",
       "    </tr>\n",
       "  </tbody>\n",
       "</table>\n",
       "</div>"
      ],
      "text/plain": [
       "                                 Verbs_prop\n",
       "Name                                       \n",
       "KFC Bognor                        41.666667\n",
       "Café 77                           40.000000\n",
       "Tesco Café                        40.000000\n",
       "Deligo                            36.478495\n",
       "Jade                              36.363636\n",
       "Fish & Chips                      34.883721\n",
       "Copthorne Caravans                33.076923\n",
       "Gaston Farm                       31.782946\n",
       "Famous City                       31.451125\n",
       "Simla Tandoori                    31.375200\n",
       "Café 79                           31.168831\n",
       "McDonald's                        31.140351\n",
       "Café 74                           30.612245\n",
       "King Pizza                        30.303030\n",
       "Delilah's Sandwich Bar            30.250533\n",
       "Ours                              29.762821\n",
       "Arundel House                     29.741379\n",
       "Best Kebab and Burgers            29.673531\n",
       "Glorious Spa                      29.435659\n",
       "Star Fish Kingdom                 29.268293\n",
       "Silver City                       29.166667\n",
       "The Southdowns                    28.957508\n",
       "Habib Indian Takeaway             28.664722\n",
       "Rosie Lee's Café                  28.641457\n",
       "Lodwicks                          28.571429\n",
       "Sundarban                         28.037982\n",
       "Wimpey                            27.932418\n",
       "Tandoori Gate                     27.628853\n",
       "Curry Villa                       27.551432\n",
       "So India, Little.                 27.409072\n",
       "Sussex Fryer                      27.380952\n",
       "Lantern House                     27.351046\n",
       "Riuchi                            27.269806\n",
       "Tuptim Siam                       27.235309\n",
       "Best Western Restaurant           27.150368\n",
       "Zeera Lounge                      27.116450\n",
       "Arundel Park Hotel                26.918563\n",
       "Westside Café                     26.804124\n",
       "Murrell Arms                      26.713726\n",
       "The Claremont Inn                 26.696065\n",
       "Punch and Judy                    26.543518\n",
       "Cabin                             26.531554\n",
       "Pizza Express                     26.525697\n",
       "Elmer                             26.521995\n",
       "Middleton Café                    26.490564\n",
       "Arundel Antiques Market           26.190476\n",
       "Sen                               26.145487\n",
       "Friary Arms                       26.123335\n",
       "Linden Fisheries                  25.960420\n",
       "Penang Village                    25.936180\n",
       "The Deck                          25.931820\n",
       "Polkadot Stripes                  25.925926\n",
       "Sefton Place                      25.913730\n",
       "Spice Zone                        25.862069\n",
       "Clymping Beach                    25.832422\n",
       "Angmering Manor                   25.786567\n",
       "The Roundstone                    25.749188\n",
       "The Mezze                         25.685558\n",
       "Victoria Fish & Chips             25.674371\n",
       "Café 75                           25.490196\n",
       "Café Oasis                        25.489392\n",
       "Tapestry                          25.468175\n",
       "Thai Pan                          25.454545\n",
       "Denmans Gardens                   25.452595\n",
       "La Cucina                         25.420441\n",
       "St Mary's Church, Felpham         25.378788\n",
       "Tandoori Nights                   25.331375\n",
       "Ye Olde Fish and Chippe Shoppe    25.285868\n",
       "Aldwick                           25.257585\n",
       "China Royal                       25.192421\n",
       "TAO                               25.183271\n",
       "Riverside                         25.168624\n",
       "Inspire Leisure                   25.136612\n",
       "Toast                             25.112677\n",
       "Mill House                        25.039015\n",
       "Back Arun Fisheries               25.000000\n",
       "The Alex                          25.000000\n",
       "The Locomotive                    24.998705\n",
       "Osca's                            24.977973\n",
       "The Windmill, Harvester           24.976067\n",
       "George Inn                        24.961785\n",
       "Bagels and Coffee                 24.940719\n",
       "Sea View                          24.932409\n",
       "Jaybelle Grange                   24.874964\n",
       "Warren's Bakery                   24.727768\n",
       "Way out There and Back            24.691358\n",
       "Butlins Fish and Chips            24.681403\n",
       "Crossbush, Beefeater              24.667940\n",
       "Raj Doot                          24.659273\n",
       "The Bear Inn                      24.628930\n",
       "So India, Felpham                 24.621459\n",
       "War Memorial                      24.598543\n",
       "The Lion                          24.579636\n",
       "Littlehampton Fish and Chips      24.563153\n",
       "Fino                              24.535009\n",
       "T-Bone Burger                     24.533158\n",
       "Old Selden Farm                   24.510785\n",
       "47 Mussel Row                     24.508403\n",
       "The Lamb Inn                      24.505862\n",
       "Bognor Charcoal Grill             24.465384\n",
       "Cardanom Bay                      24.461769\n",
       "Magna Tandoori                    24.459878\n",
       "Mr P's Classic Amusements         24.417126\n",
       "The Thatched House                24.356907\n",
       "Grub & Gumption                   24.350635\n",
       "The Holly Tree                    24.334884\n",
       "World's End                       24.276243\n",
       "Vicky's Café                      24.267226\n",
       "Harbour Lights                    24.261645\n",
       "Church Farm                       24.251935\n",
       "The Gravy Boat                    24.238231\n",
       "LG Café                           24.235073\n",
       "The Pizza Base                    24.216524\n",
       "The Deli                          24.201725\n",
       "Passage to India                  24.197028\n",
       "Clock House Café                  24.189711\n",
       "Bangkok Lounge                    24.186424\n",
       "Arun View                         24.182706\n",
       "Heygates Bookshop                 24.176763\n",
       "Carlyle's Café                    24.174716\n",
       "Chopsticks                        24.165059\n",
       "Ting's                            24.147303\n",
       "Carlton Hotel                     24.113839\n",
       "Partners Café                     24.092100\n",
       "Interchange Café                  24.074074\n",
       "The Diner                         24.064852\n",
       "Snooty Fox Bar                    24.040404\n",
       "Rustington Manor                  24.008797\n",
       "Selwood Hotel                     24.003056\n",
       "Beachcomber Inn                   23.957548\n",
       "Candle Villa                      23.957498\n",
       "Galley Restaurant and Tea Rooms   23.897820\n",
       "Mewsbrook Park                    23.892551\n",
       "Ristorante Al Mare                23.865178\n",
       "China Palace                      23.811334\n",
       "Lemongrass Thai                   23.795095\n",
       "Mustards                          23.793480\n",
       "The Beresford                     23.782948\n",
       "Portuguese Grill                  23.734298\n",
       "Grandads Front Room               23.725317\n",
       "Premier Inn Littlehampton         23.719452\n",
       "Fusion                            23.697210\n",
       "Kerry's Tea Room                  23.693064\n",
       "Robin Hood                        23.687529\n",
       "Masala Lounge                     23.643200\n",
       "Sunny Garden                      23.636364\n",
       "Arundel Castle                    23.635931\n",
       "Wildforest Falls                  23.633565\n",
       "Travelodge Fontwell               23.602307\n",
       "Fox Inn                           23.594017\n",
       "The Old Barn                      23.571429\n",
       "Premier Inn Bognor                23.568820\n",
       "River Breeze                      23.485735\n",
       "Spotted Cow                       23.424749\n",
       "Best Western Bognor               23.398472\n",
       "Wheatsheaf                        23.382848\n",
       "Comfort Inn                       23.337567\n",
       "Lemongrass Restaurant             23.332860\n",
       "Royal Norfolk                     23.330981\n",
       "Harbour Park                      23.324517\n",
       "Poppins                           23.315298\n",
       "The Windmill                      23.310755\n",
       "Pub & Kitchen                     23.290218\n",
       "Gaskyns                           23.279198\n",
       "White Swan Arundel                23.271547\n",
       "Establo Lounge                    23.244110\n",
       "Butlins                           23.239965\n",
       "Anokha                            23.237904\n",
       "Moathouse Café                    23.233993\n",
       "The Burger Shop                   23.229967\n",
       "Little London Teashop             23.228928\n",
       "Arundel Jailhouse                 23.224558\n",
       "The Town House                    23.187887\n",
       "The Dragon                        23.184344"
      ]
     },
     "execution_count": 70,
     "metadata": {},
     "output_type": "execute_result"
    }
   ],
   "source": [
    "# Get the top establishments with positive reviews and the proportion of verbs and adverbs above the mean for the dataset\n",
    "top_verbs = pd.DataFrame(arun_proc.groupby(\"Name\")[\"Verbs_prop\"].mean().sort_values(ascending = False))\n",
    "top_verbs[top_verbs[\"Verbs_prop\"]>arun_proc.Verbs_prop.mean()]"
   ]
  },
  {
   "cell_type": "code",
   "execution_count": 71,
   "metadata": {},
   "outputs": [
    {
     "data": {
      "text/plain": [
       "(174, 1)"
      ]
     },
     "execution_count": 71,
     "metadata": {},
     "output_type": "execute_result"
    }
   ],
   "source": [
    "# How many are above the average for the dataset?\n",
    "top_verbs[top_verbs[\"Verbs_prop\"]>arun_proc.Verbs_prop.mean()].shape"
   ]
  },
  {
   "cell_type": "markdown",
   "metadata": {},
   "source": [
    "There are 174 establishments with the verb and adverb proportion above the average for all positive reviews. The top 5 are all restaurants and with mostly one review."
   ]
  },
  {
   "cell_type": "code",
   "execution_count": 72,
   "metadata": {},
   "outputs": [
    {
     "data": {
      "text/html": [
       "<div>\n",
       "<style scoped>\n",
       "    .dataframe tbody tr th:only-of-type {\n",
       "        vertical-align: middle;\n",
       "    }\n",
       "\n",
       "    .dataframe tbody tr th {\n",
       "        vertical-align: top;\n",
       "    }\n",
       "\n",
       "    .dataframe thead th {\n",
       "        text-align: right;\n",
       "    }\n",
       "</style>\n",
       "<table border=\"1\" class=\"dataframe\">\n",
       "  <thead>\n",
       "    <tr style=\"text-align: right;\">\n",
       "      <th></th>\n",
       "      <th>num_reviews</th>\n",
       "      <th>Verbs_prop</th>\n",
       "    </tr>\n",
       "  </thead>\n",
       "  <tbody>\n",
       "    <tr>\n",
       "      <th>KFC Bognor</th>\n",
       "      <td>1</td>\n",
       "      <td>41.666667</td>\n",
       "    </tr>\n",
       "    <tr>\n",
       "      <th>Café 77</th>\n",
       "      <td>1</td>\n",
       "      <td>40.000000</td>\n",
       "    </tr>\n",
       "    <tr>\n",
       "      <th>Tesco Café</th>\n",
       "      <td>1</td>\n",
       "      <td>40.000000</td>\n",
       "    </tr>\n",
       "    <tr>\n",
       "      <th>Deligo</th>\n",
       "      <td>4</td>\n",
       "      <td>36.478495</td>\n",
       "    </tr>\n",
       "    <tr>\n",
       "      <th>Jade</th>\n",
       "      <td>1</td>\n",
       "      <td>36.363636</td>\n",
       "    </tr>\n",
       "    <tr>\n",
       "      <th>Fish &amp; Chips</th>\n",
       "      <td>1</td>\n",
       "      <td>34.883721</td>\n",
       "    </tr>\n",
       "    <tr>\n",
       "      <th>Copthorne Caravans</th>\n",
       "      <td>1</td>\n",
       "      <td>33.076923</td>\n",
       "    </tr>\n",
       "    <tr>\n",
       "      <th>Gaston Farm</th>\n",
       "      <td>1</td>\n",
       "      <td>31.782946</td>\n",
       "    </tr>\n",
       "    <tr>\n",
       "      <th>Famous City</th>\n",
       "      <td>5</td>\n",
       "      <td>31.451125</td>\n",
       "    </tr>\n",
       "    <tr>\n",
       "      <th>Simla Tandoori</th>\n",
       "      <td>4</td>\n",
       "      <td>31.375200</td>\n",
       "    </tr>\n",
       "  </tbody>\n",
       "</table>\n",
       "</div>"
      ],
      "text/plain": [
       "                    num_reviews  Verbs_prop\n",
       "KFC Bognor                    1   41.666667\n",
       "Café 77                       1   40.000000\n",
       "Tesco Café                    1   40.000000\n",
       "Deligo                        4   36.478495\n",
       "Jade                          1   36.363636\n",
       "Fish & Chips                  1   34.883721\n",
       "Copthorne Caravans            1   33.076923\n",
       "Gaston Farm                   1   31.782946\n",
       "Famous City                   5   31.451125\n",
       "Simla Tandoori                4   31.375200"
      ]
     },
     "execution_count": 72,
     "metadata": {},
     "output_type": "execute_result"
    }
   ],
   "source": [
    "# Create combined dataframe with the verbs proportion and the number of reviews\n",
    "num_establishments = pd.DataFrame(arun_proc.Name.value_counts())\n",
    "num_establishments.columns = [\"num_reviews\"]\n",
    "all = num_establishments.merge(top_verbs,left_index = True, right_index = True)\n",
    "all.sort_values(by = \"Verbs_prop\",ascending = False).head(10)"
   ]
  },
  {
   "cell_type": "markdown",
   "metadata": {},
   "source": [
    "There are 3 establishments where over 40% of the words are verbs or adverbs and they all have just one review"
   ]
  },
  {
   "cell_type": "code",
   "execution_count": 73,
   "metadata": {},
   "outputs": [
    {
     "data": {
      "text/html": [
       "<div>\n",
       "<style scoped>\n",
       "    .dataframe tbody tr th:only-of-type {\n",
       "        vertical-align: middle;\n",
       "    }\n",
       "\n",
       "    .dataframe tbody tr th {\n",
       "        vertical-align: top;\n",
       "    }\n",
       "\n",
       "    .dataframe thead th {\n",
       "        text-align: right;\n",
       "    }\n",
       "</style>\n",
       "<table border=\"1\" class=\"dataframe\">\n",
       "  <thead>\n",
       "    <tr style=\"text-align: right;\">\n",
       "      <th></th>\n",
       "      <th>Name</th>\n",
       "      <th>Category</th>\n",
       "      <th>User</th>\n",
       "      <th>Contributions</th>\n",
       "      <th>ReviewDate</th>\n",
       "      <th>Title</th>\n",
       "      <th>Review</th>\n",
       "      <th>Rating</th>\n",
       "      <th>review_lower</th>\n",
       "      <th>lower</th>\n",
       "      <th>...</th>\n",
       "      <th>pos_tags</th>\n",
       "      <th>pronouns</th>\n",
       "      <th>first</th>\n",
       "      <th>prop_pronouns</th>\n",
       "      <th>Verbs</th>\n",
       "      <th>Nouns</th>\n",
       "      <th>len_verbs</th>\n",
       "      <th>len_nouns</th>\n",
       "      <th>Verbs_prop</th>\n",
       "      <th>Nouns_prop</th>\n",
       "    </tr>\n",
       "  </thead>\n",
       "  <tbody>\n",
       "    <tr>\n",
       "      <th>9057</th>\n",
       "      <td>Deligo</td>\n",
       "      <td>Food</td>\n",
       "      <td>xxspicerxx</td>\n",
       "      <td>16</td>\n",
       "      <td>2019-11-24</td>\n",
       "      <td>Really good food</td>\n",
       "      <td>I have been eating in here for a couple of yea...</td>\n",
       "      <td>5</td>\n",
       "      <td>i have been eating in here for a couple of yea...</td>\n",
       "      <td>i have been eating in here for a couple of yea...</td>\n",
       "      <td>...</td>\n",
       "      <td>[(i, NNS), (have, VBP), (been, VBN), (eating, ...</td>\n",
       "      <td>[my, it]</td>\n",
       "      <td>1</td>\n",
       "      <td>1.190476</td>\n",
       "      <td>[have, been, eating, here, recently, changed, ...</td>\n",
       "      <td>[i, couple, years, cafe, hands, food, service,...</td>\n",
       "      <td>28</td>\n",
       "      <td>21</td>\n",
       "      <td>33.333333</td>\n",
       "      <td>25.000000</td>\n",
       "    </tr>\n",
       "    <tr>\n",
       "      <th>9058</th>\n",
       "      <td>Deligo</td>\n",
       "      <td>Food</td>\n",
       "      <td>Kieren H</td>\n",
       "      <td>1</td>\n",
       "      <td>2019-11-07</td>\n",
       "      <td>Lunch</td>\n",
       "      <td>Great place lovely food very welcoming will de...</td>\n",
       "      <td>5</td>\n",
       "      <td>great place lovely food very welcoming will de...</td>\n",
       "      <td>great place lovely food very welcoming will de...</td>\n",
       "      <td>...</td>\n",
       "      <td>[(great, JJ), (place, NN), (lovely, RB), (food...</td>\n",
       "      <td>[]</td>\n",
       "      <td>0</td>\n",
       "      <td>0.000000</td>\n",
       "      <td>[lovely, very, welcoming, definitely, be, goin...</td>\n",
       "      <td>[great, place, food, family, cafe]</td>\n",
       "      <td>12</td>\n",
       "      <td>5</td>\n",
       "      <td>60.000000</td>\n",
       "      <td>25.000000</td>\n",
       "    </tr>\n",
       "    <tr>\n",
       "      <th>9059</th>\n",
       "      <td>Deligo</td>\n",
       "      <td>Food</td>\n",
       "      <td>Johnlkitchener</td>\n",
       "      <td>2</td>\n",
       "      <td>2019-07-27</td>\n",
       "      <td>Excellent</td>\n",
       "      <td>Had a full English breakfast quick service fri...</td>\n",
       "      <td>5</td>\n",
       "      <td>had a full english breakfast quick service fri...</td>\n",
       "      <td>had a full english breakfast quick service fri...</td>\n",
       "      <td>...</td>\n",
       "      <td>[(had, VBD), (a, DT), (full, JJ), (english, JJ...</td>\n",
       "      <td>[]</td>\n",
       "      <td>0</td>\n",
       "      <td>0.000000</td>\n",
       "      <td>[had, friendly, well, presented, be, returning]</td>\n",
       "      <td>[full, english, breakfast, quick, service, exc...</td>\n",
       "      <td>6</td>\n",
       "      <td>10</td>\n",
       "      <td>30.000000</td>\n",
       "      <td>50.000000</td>\n",
       "    </tr>\n",
       "    <tr>\n",
       "      <th>9060</th>\n",
       "      <td>Deligo</td>\n",
       "      <td>Food</td>\n",
       "      <td>51PJR</td>\n",
       "      <td>109</td>\n",
       "      <td>2019-08-30</td>\n",
       "      <td>Had breakfast outside In the Bank Holiday</td>\n",
       "      <td>Very good small eating place and they do an ex...</td>\n",
       "      <td>5</td>\n",
       "      <td>very good small eating place and they do an ex...</td>\n",
       "      <td>very good small eating place and they do an ex...</td>\n",
       "      <td>...</td>\n",
       "      <td>[(very, RB), (good, JJ), (small, JJ), (eating,...</td>\n",
       "      <td>[they]</td>\n",
       "      <td>0</td>\n",
       "      <td>0.000000</td>\n",
       "      <td>[very, do, run, very, was, go, again]</td>\n",
       "      <td>[good, small, eating, place, excellent, breakf...</td>\n",
       "      <td>7</td>\n",
       "      <td>12</td>\n",
       "      <td>22.580645</td>\n",
       "      <td>38.709677</td>\n",
       "    </tr>\n",
       "  </tbody>\n",
       "</table>\n",
       "<p>4 rows × 22 columns</p>\n",
       "</div>"
      ],
      "text/plain": [
       "        Name Category            User  Contributions  ReviewDate  \\\n",
       "9057  Deligo     Food      xxspicerxx             16  2019-11-24   \n",
       "9058  Deligo     Food        Kieren H              1  2019-11-07   \n",
       "9059  Deligo     Food  Johnlkitchener              2  2019-07-27   \n",
       "9060  Deligo     Food           51PJR            109  2019-08-30   \n",
       "\n",
       "                                          Title  \\\n",
       "9057                           Really good food   \n",
       "9058                                      Lunch   \n",
       "9059                                  Excellent   \n",
       "9060  Had breakfast outside In the Bank Holiday   \n",
       "\n",
       "                                                 Review  Rating  \\\n",
       "9057  I have been eating in here for a couple of yea...       5   \n",
       "9058  Great place lovely food very welcoming will de...       5   \n",
       "9059  Had a full English breakfast quick service fri...       5   \n",
       "9060  Very good small eating place and they do an ex...       5   \n",
       "\n",
       "                                           review_lower  \\\n",
       "9057  i have been eating in here for a couple of yea...   \n",
       "9058  great place lovely food very welcoming will de...   \n",
       "9059  had a full english breakfast quick service fri...   \n",
       "9060  very good small eating place and they do an ex...   \n",
       "\n",
       "                                                  lower  ...  \\\n",
       "9057  i have been eating in here for a couple of yea...  ...   \n",
       "9058  great place lovely food very welcoming will de...  ...   \n",
       "9059  had a full english breakfast quick service fri...  ...   \n",
       "9060  very good small eating place and they do an ex...  ...   \n",
       "\n",
       "                                               pos_tags  pronouns first  \\\n",
       "9057  [(i, NNS), (have, VBP), (been, VBN), (eating, ...  [my, it]     1   \n",
       "9058  [(great, JJ), (place, NN), (lovely, RB), (food...        []     0   \n",
       "9059  [(had, VBD), (a, DT), (full, JJ), (english, JJ...        []     0   \n",
       "9060  [(very, RB), (good, JJ), (small, JJ), (eating,...    [they]     0   \n",
       "\n",
       "     prop_pronouns                                              Verbs  \\\n",
       "9057      1.190476  [have, been, eating, here, recently, changed, ...   \n",
       "9058      0.000000  [lovely, very, welcoming, definitely, be, goin...   \n",
       "9059      0.000000    [had, friendly, well, presented, be, returning]   \n",
       "9060      0.000000              [very, do, run, very, was, go, again]   \n",
       "\n",
       "                                                  Nouns len_verbs len_nouns  \\\n",
       "9057  [i, couple, years, cafe, hands, food, service,...        28        21   \n",
       "9058                 [great, place, food, family, cafe]        12         5   \n",
       "9059  [full, english, breakfast, quick, service, exc...         6        10   \n",
       "9060  [good, small, eating, place, excellent, breakf...         7        12   \n",
       "\n",
       "      Verbs_prop  Nouns_prop  \n",
       "9057   33.333333   25.000000  \n",
       "9058   60.000000   25.000000  \n",
       "9059   30.000000   50.000000  \n",
       "9060   22.580645   38.709677  \n",
       "\n",
       "[4 rows x 22 columns]"
      ]
     },
     "execution_count": 73,
     "metadata": {},
     "output_type": "execute_result"
    }
   ],
   "source": [
    "# change name to view different results\n",
    "arun_proc[arun_proc[\"Name\"] == \"Deligo\"]"
   ]
  },
  {
   "cell_type": "code",
   "execution_count": 74,
   "metadata": {},
   "outputs": [
    {
     "name": "stdout",
     "output_type": "stream",
     "text": [
      "I have been eating in here for a couple of years. Recently the cafe changed hands, but the food and service is still really good. I had a full English breakfast in there today, (my first one) and it was delicious. Not greasy, as all the food was oven backed and the eggs poached. The portion was really good too and very reasonably priced. I will be back again for another one soon.\n",
      "Great place lovely food very welcoming will definitely be going back there highly recommended\n",
      "Lovely family who own the cafe\n",
      "Had a full English breakfast quick service friendly and exceptional food perfect portions and well presented\n",
      "I will be returning\n",
      "Very good small eating place and they do an excellent breakfast. Run by a very nice couple and the food and service was top notch. Will go again.\n"
     ]
    }
   ],
   "source": [
    "# Look at reviews for these establishments, change name and index to view different results\n",
    "#print(arun_proc[arun_proc[\"Name\"] == \"KFC Bognor\"][\"Review\"].loc[9181])\n",
    "#print(arun_proc[arun_proc[\"Name\"] == \"Café 77\"][\"Review\"].loc[8968])\n",
    "#print(arun_proc[arun_proc[\"Name\"] == \"Tesco Café\"][\"Review\"].loc[9337])\n",
    "print(arun_proc[arun_proc[\"Name\"] == \"Deligo\"][\"Review\"].loc[9057])\n",
    "print(arun_proc[arun_proc[\"Name\"] == \"Deligo\"][\"Review\"].loc[9058])\n",
    "print(arun_proc[arun_proc[\"Name\"] == \"Deligo\"][\"Review\"].loc[9059])\n",
    "print(arun_proc[arun_proc[\"Name\"] == \"Deligo\"][\"Review\"].loc[9060])"
   ]
  },
  {
   "cell_type": "markdown",
   "metadata": {},
   "source": [
    "Analysis: looking at a sample of reviews, the ones for Deligo all have high indicators for the proportion of verbs and adverbs to other parts of speech and reading these reviews they do appear a little false. The review dates for these reviews are different as are the userid and previous contributions so there are no duplicates. These reviews may well be opinion spam but actually it is very difficult to tell in practice, highlighting the difficulties of using linguistic measures to spot fake reviews. As they represent such a small number of items and unlikely to affect the sentiment analysis significantly, they are retained in the dataset."
   ]
  },
  {
   "cell_type": "markdown",
   "metadata": {},
   "source": [
    "# Section 7: A Machine Learning Classification Approach on the Hotel Reviews"
   ]
  },
  {
   "cell_type": "markdown",
   "metadata": {},
   "source": [
    "## Preprocessing"
   ]
  },
  {
   "cell_type": "code",
   "execution_count": 75,
   "metadata": {},
   "outputs": [],
   "source": [
    "# Set the target and features for the fake review dataset\n",
    "y_cornell = cornell.deceptive\n",
    "X_cornell = pd.DataFrame(cornell.text)"
   ]
  },
  {
   "cell_type": "code",
   "execution_count": 76,
   "metadata": {},
   "outputs": [],
   "source": [
    "# Drop neutral ratings of 3 and convert other ratings to binary classification\n",
    "arun_df = arun_df[arun_df[\"Rating\"] != 3]\n",
    "arun_df[\"Rating\"].replace([1,2],1,inplace = True)\n",
    "arun_df[\"Rating\"].replace([4,5],0,inplace = True)"
   ]
  },
  {
   "cell_type": "code",
   "execution_count": 77,
   "metadata": {},
   "outputs": [],
   "source": [
    "arun_hotel = arun_df[arun_df[\"Category\"] == \"Accommodation\"]"
   ]
  },
  {
   "cell_type": "code",
   "execution_count": 78,
   "metadata": {},
   "outputs": [],
   "source": [
    "# Set target and features\n",
    "X_arun = pd.DataFrame(arun_hotel.Review)\n",
    "y_arun = arun_hotel.Rating"
   ]
  },
  {
   "cell_type": "code",
   "execution_count": 79,
   "metadata": {},
   "outputs": [
    {
     "data": {
      "text/plain": [
       "(2198, 1)"
      ]
     },
     "execution_count": 79,
     "metadata": {},
     "output_type": "execute_result"
    }
   ],
   "source": [
    "X_arun.shape"
   ]
  },
  {
   "cell_type": "code",
   "execution_count": 80,
   "metadata": {},
   "outputs": [
    {
     "data": {
      "text/html": [
       "<div>\n",
       "<style scoped>\n",
       "    .dataframe tbody tr th:only-of-type {\n",
       "        vertical-align: middle;\n",
       "    }\n",
       "\n",
       "    .dataframe tbody tr th {\n",
       "        vertical-align: top;\n",
       "    }\n",
       "\n",
       "    .dataframe thead th {\n",
       "        text-align: right;\n",
       "    }\n",
       "</style>\n",
       "<table border=\"1\" class=\"dataframe\">\n",
       "  <thead>\n",
       "    <tr style=\"text-align: right;\">\n",
       "      <th></th>\n",
       "      <th>Review</th>\n",
       "    </tr>\n",
       "  </thead>\n",
       "  <tbody>\n",
       "    <tr>\n",
       "      <th>0</th>\n",
       "      <td>We booked our 3 night stay from 27-30 December...</td>\n",
       "    </tr>\n",
       "    <tr>\n",
       "      <th>1</th>\n",
       "      <td>In Oyster Bay. Oh dear.\\n\\nVery poor sound ins...</td>\n",
       "    </tr>\n",
       "    <tr>\n",
       "      <th>2</th>\n",
       "      <td>Arrived on 27th dec for 3 night festive break....</td>\n",
       "    </tr>\n",
       "    <tr>\n",
       "      <th>3</th>\n",
       "      <td>Just got home a few days ago from our first Ch...</td>\n",
       "    </tr>\n",
       "    <tr>\n",
       "      <th>4</th>\n",
       "      <td>Went for Xmas break for 4 nights,included seei...</td>\n",
       "    </tr>\n",
       "  </tbody>\n",
       "</table>\n",
       "</div>"
      ],
      "text/plain": [
       "                                              Review\n",
       "0  We booked our 3 night stay from 27-30 December...\n",
       "1  In Oyster Bay. Oh dear.\\n\\nVery poor sound ins...\n",
       "2  Arrived on 27th dec for 3 night festive break....\n",
       "3  Just got home a few days ago from our first Ch...\n",
       "4  Went for Xmas break for 4 nights,included seei..."
      ]
     },
     "execution_count": 80,
     "metadata": {},
     "output_type": "execute_result"
    }
   ],
   "source": [
    "# Look at a few items\n",
    "X_arun.head()"
   ]
  },
  {
   "cell_type": "code",
   "execution_count": 81,
   "metadata": {},
   "outputs": [],
   "source": [
    "# Get parts of speech tags\n",
    "def pos(text):\n",
    "    return TextBlob(text).tags"
   ]
  },
  {
   "cell_type": "code",
   "execution_count": 82,
   "metadata": {},
   "outputs": [],
   "source": [
    "#joined = \",\".join(stop)\n",
    "#pos_stop = pos(joined)\n",
    "#print(pos_stop,end = \"\")"
   ]
  },
  {
   "cell_type": "code",
   "execution_count": 83,
   "metadata": {},
   "outputs": [],
   "source": [
    "# Define function to process text\n",
    "def proc(text):\n",
    "    text = text.apply(lambda x: x.strip().lower())\n",
    "    text = text.apply(lambda x: nltk.word_tokenize(x))\n",
    "    punc = string.punctuation\n",
    "    text = text.apply(lambda x: [word for word in x if word not in punc])\n",
    "    text = text.apply(lambda x: [n for n in x if not n.isnumeric()])\n",
    "    text = text.apply(lambda x: [e for e in x if e.encode(\"ascii\",\"ignore\")])\n",
    "    stop = stopwords.words('english')\n",
    "    text = text.apply(lambda x: [w for w in x if w not in stop])\n",
    "    lemmatizer = WordNetLemmatizer()\n",
    "    \n",
    "    def lemmatize_text(text):\n",
    "        return [lemmatizer.lemmatize(w) for w in text]\n",
    "    text = text.apply(lemmatize_text)\n",
    "    text = text.apply(lambda x: ' '.join(x))\n",
    "    return text"
   ]
  },
  {
   "cell_type": "code",
   "execution_count": 84,
   "metadata": {},
   "outputs": [],
   "source": [
    "# Text process the Cornell dataset and Arun reviews the same way\n",
    "X_cornell_proc = proc(X_cornell.text)\n",
    "X_arun_proc = proc(X_arun.Review)"
   ]
  },
  {
   "cell_type": "code",
   "execution_count": 85,
   "metadata": {},
   "outputs": [],
   "source": [
    "# parts of speech for the Fake dataset\n",
    "parts = X_cornell_proc.apply(pos)\n",
    "parts = pd.DataFrame(parts)\n",
    "\n",
    "# parts of speech for the Arun dataset\n",
    "parts_arun = X_arun_proc.apply(pos)\n",
    "parts_arun = pd.DataFrame(parts_arun)"
   ]
  },
  {
   "cell_type": "code",
   "execution_count": 86,
   "metadata": {},
   "outputs": [
    {
     "data": {
      "text/html": [
       "<div>\n",
       "<style scoped>\n",
       "    .dataframe tbody tr th:only-of-type {\n",
       "        vertical-align: middle;\n",
       "    }\n",
       "\n",
       "    .dataframe tbody tr th {\n",
       "        vertical-align: top;\n",
       "    }\n",
       "\n",
       "    .dataframe thead th {\n",
       "        text-align: right;\n",
       "    }\n",
       "</style>\n",
       "<table border=\"1\" class=\"dataframe\">\n",
       "  <thead>\n",
       "    <tr style=\"text-align: right;\">\n",
       "      <th></th>\n",
       "      <th>Review</th>\n",
       "    </tr>\n",
       "  </thead>\n",
       "  <tbody>\n",
       "    <tr>\n",
       "      <th>0</th>\n",
       "      <td>[(booked, VBN), (night, NN), (stay, NN), (27-3...</td>\n",
       "    </tr>\n",
       "    <tr>\n",
       "      <th>1</th>\n",
       "      <td>[(oyster, NN), (bay, NN), (oh, IN), (dear, JJ)...</td>\n",
       "    </tr>\n",
       "    <tr>\n",
       "      <th>2</th>\n",
       "      <td>[(arrived, VBD), (27th, CD), (dec, NN), (night...</td>\n",
       "    </tr>\n",
       "    <tr>\n",
       "      <th>3</th>\n",
       "      <td>[(got, VBD), (home, RB), (day, NN), (ago, IN),...</td>\n",
       "    </tr>\n",
       "    <tr>\n",
       "      <th>4</th>\n",
       "      <td>[(went, VBD), (xmas, JJ), (break, NN), (night,...</td>\n",
       "    </tr>\n",
       "  </tbody>\n",
       "</table>\n",
       "</div>"
      ],
      "text/plain": [
       "                                              Review\n",
       "0  [(booked, VBN), (night, NN), (stay, NN), (27-3...\n",
       "1  [(oyster, NN), (bay, NN), (oh, IN), (dear, JJ)...\n",
       "2  [(arrived, VBD), (27th, CD), (dec, NN), (night...\n",
       "3  [(got, VBD), (home, RB), (day, NN), (ago, IN),...\n",
       "4  [(went, VBD), (xmas, JJ), (break, NN), (night,..."
      ]
     },
     "execution_count": 86,
     "metadata": {},
     "output_type": "execute_result"
    }
   ],
   "source": [
    "# Check first few rows of the converted Arun data\n",
    "parts_arun.head()"
   ]
  },
  {
   "cell_type": "code",
   "execution_count": 87,
   "metadata": {},
   "outputs": [
    {
     "data": {
      "text/plain": [
       "(2198, 1)"
      ]
     },
     "execution_count": 87,
     "metadata": {},
     "output_type": "execute_result"
    }
   ],
   "source": [
    "parts_arun.shape"
   ]
  },
  {
   "cell_type": "code",
   "execution_count": 88,
   "metadata": {},
   "outputs": [
    {
     "data": {
      "text/html": [
       "<div>\n",
       "<style scoped>\n",
       "    .dataframe tbody tr th:only-of-type {\n",
       "        vertical-align: middle;\n",
       "    }\n",
       "\n",
       "    .dataframe tbody tr th {\n",
       "        vertical-align: top;\n",
       "    }\n",
       "\n",
       "    .dataframe thead th {\n",
       "        text-align: right;\n",
       "    }\n",
       "</style>\n",
       "<table border=\"1\" class=\"dataframe\">\n",
       "  <thead>\n",
       "    <tr style=\"text-align: right;\">\n",
       "      <th></th>\n",
       "      <th>text</th>\n",
       "    </tr>\n",
       "  </thead>\n",
       "  <tbody>\n",
       "    <tr>\n",
       "      <th>0</th>\n",
       "      <td>[(stayed, JJ), (one, CD), (night, NN), (getawa...</td>\n",
       "    </tr>\n",
       "    <tr>\n",
       "      <th>1</th>\n",
       "      <td>[(triple, JJ), (rate, NN), (upgrade, JJ), (vie...</td>\n",
       "    </tr>\n",
       "    <tr>\n",
       "      <th>2</th>\n",
       "      <td>[(come, JJ), (little, JJ), (late, JJ), ('m, VB...</td>\n",
       "    </tr>\n",
       "    <tr>\n",
       "      <th>3</th>\n",
       "      <td>[(omni, NNS), (chicago, VBP), (really, RB), (d...</td>\n",
       "    </tr>\n",
       "    <tr>\n",
       "      <th>4</th>\n",
       "      <td>[(asked, VBN), (high, JJ), (floor, NN), (away,...</td>\n",
       "    </tr>\n",
       "  </tbody>\n",
       "</table>\n",
       "</div>"
      ],
      "text/plain": [
       "                                                text\n",
       "0  [(stayed, JJ), (one, CD), (night, NN), (getawa...\n",
       "1  [(triple, JJ), (rate, NN), (upgrade, JJ), (vie...\n",
       "2  [(come, JJ), (little, JJ), (late, JJ), ('m, VB...\n",
       "3  [(omni, NNS), (chicago, VBP), (really, RB), (d...\n",
       "4  [(asked, VBN), (high, JJ), (floor, NN), (away,..."
      ]
     },
     "execution_count": 88,
     "metadata": {},
     "output_type": "execute_result"
    }
   ],
   "source": [
    "# Check output\n",
    "parts.head()"
   ]
  },
  {
   "cell_type": "code",
   "execution_count": 89,
   "metadata": {},
   "outputs": [
    {
     "data": {
      "text/plain": [
       "(1600, 1)"
      ]
     },
     "execution_count": 89,
     "metadata": {},
     "output_type": "execute_result"
    }
   ],
   "source": [
    "parts.shape"
   ]
  },
  {
   "cell_type": "code",
   "execution_count": 90,
   "metadata": {},
   "outputs": [],
   "source": [
    "# Convert to a string\n",
    "parts['pos'] = parts['text'].map(lambda x:\" \".join([\"/\".join(x) for x in x ]) )\n",
    "parts_arun['pos'] = parts_arun['Review'].map(lambda x:\" \".join([\"/\".join(x) for x in x ]) )"
   ]
  },
  {
   "cell_type": "code",
   "execution_count": 91,
   "metadata": {},
   "outputs": [
    {
     "data": {
      "text/html": [
       "<div>\n",
       "<style scoped>\n",
       "    .dataframe tbody tr th:only-of-type {\n",
       "        vertical-align: middle;\n",
       "    }\n",
       "\n",
       "    .dataframe tbody tr th {\n",
       "        vertical-align: top;\n",
       "    }\n",
       "\n",
       "    .dataframe thead th {\n",
       "        text-align: right;\n",
       "    }\n",
       "</style>\n",
       "<table border=\"1\" class=\"dataframe\">\n",
       "  <thead>\n",
       "    <tr style=\"text-align: right;\">\n",
       "      <th></th>\n",
       "      <th>Review</th>\n",
       "      <th>pos</th>\n",
       "    </tr>\n",
       "  </thead>\n",
       "  <tbody>\n",
       "    <tr>\n",
       "      <th>0</th>\n",
       "      <td>[(booked, VBN), (night, NN), (stay, NN), (27-3...</td>\n",
       "      <td>booked/VBN night/NN stay/NN 27-30/JJ december/...</td>\n",
       "    </tr>\n",
       "    <tr>\n",
       "      <th>1</th>\n",
       "      <td>[(oyster, NN), (bay, NN), (oh, IN), (dear, JJ)...</td>\n",
       "      <td>oyster/NN bay/NN oh/IN dear/JJ poor/JJ sound/N...</td>\n",
       "    </tr>\n",
       "    <tr>\n",
       "      <th>2</th>\n",
       "      <td>[(arrived, VBD), (27th, CD), (dec, NN), (night...</td>\n",
       "      <td>arrived/VBD 27th/CD dec/NN night/NN festive/JJ...</td>\n",
       "    </tr>\n",
       "    <tr>\n",
       "      <th>3</th>\n",
       "      <td>[(got, VBD), (home, RB), (day, NN), (ago, IN),...</td>\n",
       "      <td>got/VBD home/RB day/NN ago/IN first/JJ christm...</td>\n",
       "    </tr>\n",
       "    <tr>\n",
       "      <th>4</th>\n",
       "      <td>[(went, VBD), (xmas, JJ), (break, NN), (night,...</td>\n",
       "      <td>went/VBD xmas/JJ break/NN night/NN included/VB...</td>\n",
       "    </tr>\n",
       "  </tbody>\n",
       "</table>\n",
       "</div>"
      ],
      "text/plain": [
       "                                              Review  \\\n",
       "0  [(booked, VBN), (night, NN), (stay, NN), (27-3...   \n",
       "1  [(oyster, NN), (bay, NN), (oh, IN), (dear, JJ)...   \n",
       "2  [(arrived, VBD), (27th, CD), (dec, NN), (night...   \n",
       "3  [(got, VBD), (home, RB), (day, NN), (ago, IN),...   \n",
       "4  [(went, VBD), (xmas, JJ), (break, NN), (night,...   \n",
       "\n",
       "                                                 pos  \n",
       "0  booked/VBN night/NN stay/NN 27-30/JJ december/...  \n",
       "1  oyster/NN bay/NN oh/IN dear/JJ poor/JJ sound/N...  \n",
       "2  arrived/VBD 27th/CD dec/NN night/NN festive/JJ...  \n",
       "3  got/VBD home/RB day/NN ago/IN first/JJ christm...  \n",
       "4  went/VBD xmas/JJ break/NN night/NN included/VB...  "
      ]
     },
     "execution_count": 91,
     "metadata": {},
     "output_type": "execute_result"
    }
   ],
   "source": [
    "parts_arun.head()"
   ]
  },
  {
   "cell_type": "code",
   "execution_count": 92,
   "metadata": {},
   "outputs": [
    {
     "data": {
      "text/html": [
       "<div>\n",
       "<style scoped>\n",
       "    .dataframe tbody tr th:only-of-type {\n",
       "        vertical-align: middle;\n",
       "    }\n",
       "\n",
       "    .dataframe tbody tr th {\n",
       "        vertical-align: top;\n",
       "    }\n",
       "\n",
       "    .dataframe thead th {\n",
       "        text-align: right;\n",
       "    }\n",
       "</style>\n",
       "<table border=\"1\" class=\"dataframe\">\n",
       "  <thead>\n",
       "    <tr style=\"text-align: right;\">\n",
       "      <th></th>\n",
       "      <th>text_x</th>\n",
       "      <th>text_y</th>\n",
       "      <th>pos</th>\n",
       "    </tr>\n",
       "  </thead>\n",
       "  <tbody>\n",
       "    <tr>\n",
       "      <th>0</th>\n",
       "      <td>stayed one night getaway family thursday tripl...</td>\n",
       "      <td>[(stayed, JJ), (one, CD), (night, NN), (getawa...</td>\n",
       "      <td>stayed/JJ one/CD night/NN getaway/NN family/NN...</td>\n",
       "    </tr>\n",
       "    <tr>\n",
       "      <th>1</th>\n",
       "      <td>triple rate upgrade view room le also included...</td>\n",
       "      <td>[(triple, JJ), (rate, NN), (upgrade, JJ), (vie...</td>\n",
       "      <td>triple/JJ rate/NN upgrade/JJ view/NN room/NN l...</td>\n",
       "    </tr>\n",
       "    <tr>\n",
       "      <th>2</th>\n",
       "      <td>come little late 'm finally catching review pa...</td>\n",
       "      <td>[(come, JJ), (little, JJ), (late, JJ), ('m, VB...</td>\n",
       "      <td>come/JJ little/JJ late/JJ 'm/VBP finally/RB ca...</td>\n",
       "    </tr>\n",
       "    <tr>\n",
       "      <th>3</th>\n",
       "      <td>omni chicago really delivers front spaciousnes...</td>\n",
       "      <td>[(omni, NNS), (chicago, VBP), (really, RB), (d...</td>\n",
       "      <td>omni/NNS chicago/VBP really/RB delivers/NNS fr...</td>\n",
       "    </tr>\n",
       "    <tr>\n",
       "      <th>4</th>\n",
       "      <td>asked high floor away elevator got room pleasa...</td>\n",
       "      <td>[(asked, VBN), (high, JJ), (floor, NN), (away,...</td>\n",
       "      <td>asked/VBN high/JJ floor/NN away/RB elevator/JJ...</td>\n",
       "    </tr>\n",
       "  </tbody>\n",
       "</table>\n",
       "</div>"
      ],
      "text/plain": [
       "                                              text_x  \\\n",
       "0  stayed one night getaway family thursday tripl...   \n",
       "1  triple rate upgrade view room le also included...   \n",
       "2  come little late 'm finally catching review pa...   \n",
       "3  omni chicago really delivers front spaciousnes...   \n",
       "4  asked high floor away elevator got room pleasa...   \n",
       "\n",
       "                                              text_y  \\\n",
       "0  [(stayed, JJ), (one, CD), (night, NN), (getawa...   \n",
       "1  [(triple, JJ), (rate, NN), (upgrade, JJ), (vie...   \n",
       "2  [(come, JJ), (little, JJ), (late, JJ), ('m, VB...   \n",
       "3  [(omni, NNS), (chicago, VBP), (really, RB), (d...   \n",
       "4  [(asked, VBN), (high, JJ), (floor, NN), (away,...   \n",
       "\n",
       "                                                 pos  \n",
       "0  stayed/JJ one/CD night/NN getaway/NN family/NN...  \n",
       "1  triple/JJ rate/NN upgrade/JJ view/NN room/NN l...  \n",
       "2  come/JJ little/JJ late/JJ 'm/VBP finally/RB ca...  \n",
       "3  omni/NNS chicago/VBP really/RB delivers/NNS fr...  \n",
       "4  asked/VBN high/JJ floor/NN away/RB elevator/JJ...  "
      ]
     },
     "execution_count": 92,
     "metadata": {},
     "output_type": "execute_result"
    }
   ],
   "source": [
    "# Merge the dataframes and check first few rows - fake reviews dataset\n",
    "X_cornell_merged =  pd.merge(X_cornell_proc, parts,right_index=True,left_index = True)\n",
    "X_cornell_merged.head()"
   ]
  },
  {
   "cell_type": "code",
   "execution_count": 93,
   "metadata": {},
   "outputs": [
    {
     "data": {
      "text/html": [
       "<div>\n",
       "<style scoped>\n",
       "    .dataframe tbody tr th:only-of-type {\n",
       "        vertical-align: middle;\n",
       "    }\n",
       "\n",
       "    .dataframe tbody tr th {\n",
       "        vertical-align: top;\n",
       "    }\n",
       "\n",
       "    .dataframe thead th {\n",
       "        text-align: right;\n",
       "    }\n",
       "</style>\n",
       "<table border=\"1\" class=\"dataframe\">\n",
       "  <thead>\n",
       "    <tr style=\"text-align: right;\">\n",
       "      <th></th>\n",
       "      <th>Review_x</th>\n",
       "      <th>Review_y</th>\n",
       "      <th>pos</th>\n",
       "    </tr>\n",
       "  </thead>\n",
       "  <tbody>\n",
       "    <tr>\n",
       "      <th>0</th>\n",
       "      <td>booked night stay 27-30 december post-christma...</td>\n",
       "      <td>[(booked, VBN), (night, NN), (stay, NN), (27-3...</td>\n",
       "      <td>booked/VBN night/NN stay/NN 27-30/JJ december/...</td>\n",
       "    </tr>\n",
       "    <tr>\n",
       "      <th>1</th>\n",
       "      <td>oyster bay oh dear poor sound insulation noisy...</td>\n",
       "      <td>[(oyster, NN), (bay, NN), (oh, IN), (dear, JJ)...</td>\n",
       "      <td>oyster/NN bay/NN oh/IN dear/JJ poor/JJ sound/N...</td>\n",
       "    </tr>\n",
       "    <tr>\n",
       "      <th>2</th>\n",
       "      <td>arrived 27th dec night festive break resort de...</td>\n",
       "      <td>[(arrived, VBD), (27th, CD), (dec, NN), (night...</td>\n",
       "      <td>arrived/VBD 27th/CD dec/NN night/NN festive/JJ...</td>\n",
       "    </tr>\n",
       "    <tr>\n",
       "      <th>3</th>\n",
       "      <td>got home day ago first christmas away home say...</td>\n",
       "      <td>[(got, VBD), (home, RB), (day, NN), (ago, IN),...</td>\n",
       "      <td>got/VBD home/RB day/NN ago/IN first/JJ christm...</td>\n",
       "    </tr>\n",
       "    <tr>\n",
       "      <th>4</th>\n",
       "      <td>went xmas break night included seeing santa el...</td>\n",
       "      <td>[(went, VBD), (xmas, JJ), (break, NN), (night,...</td>\n",
       "      <td>went/VBD xmas/JJ break/NN night/NN included/VB...</td>\n",
       "    </tr>\n",
       "  </tbody>\n",
       "</table>\n",
       "</div>"
      ],
      "text/plain": [
       "                                            Review_x  \\\n",
       "0  booked night stay 27-30 december post-christma...   \n",
       "1  oyster bay oh dear poor sound insulation noisy...   \n",
       "2  arrived 27th dec night festive break resort de...   \n",
       "3  got home day ago first christmas away home say...   \n",
       "4  went xmas break night included seeing santa el...   \n",
       "\n",
       "                                            Review_y  \\\n",
       "0  [(booked, VBN), (night, NN), (stay, NN), (27-3...   \n",
       "1  [(oyster, NN), (bay, NN), (oh, IN), (dear, JJ)...   \n",
       "2  [(arrived, VBD), (27th, CD), (dec, NN), (night...   \n",
       "3  [(got, VBD), (home, RB), (day, NN), (ago, IN),...   \n",
       "4  [(went, VBD), (xmas, JJ), (break, NN), (night,...   \n",
       "\n",
       "                                                 pos  \n",
       "0  booked/VBN night/NN stay/NN 27-30/JJ december/...  \n",
       "1  oyster/NN bay/NN oh/IN dear/JJ poor/JJ sound/N...  \n",
       "2  arrived/VBD 27th/CD dec/NN night/NN festive/JJ...  \n",
       "3  got/VBD home/RB day/NN ago/IN first/JJ christm...  \n",
       "4  went/VBD xmas/JJ break/NN night/NN included/VB...  "
      ]
     },
     "execution_count": 93,
     "metadata": {},
     "output_type": "execute_result"
    }
   ],
   "source": [
    "# Merge the dataframes and check first few rows - arun data\n",
    "X_arun_merged =  pd.merge(X_arun_proc, parts_arun,right_index=True,left_index = True)\n",
    "X_arun_merged.head()"
   ]
  },
  {
   "cell_type": "markdown",
   "metadata": {},
   "source": [
    "## Set up Vectorizer Object and Train Classifiers"
   ]
  },
  {
   "cell_type": "code",
   "execution_count": 94,
   "metadata": {},
   "outputs": [],
   "source": [
    "# Set training and test split on the fake reviews dataset\n",
    "X_train, X_test, y_train, y_test = train_test_split(X_cornell_merged[\"pos\"], y_cornell,test_size=0.2, random_state = 0, shuffle = True)"
   ]
  },
  {
   "cell_type": "code",
   "execution_count": 95,
   "metadata": {},
   "outputs": [],
   "source": [
    "# Convert to vectorizer object\n",
    "vectorizer = TfidfVectorizer(lowercase = True, use_idf = True, smooth_idf = True,stop_words = \"english\", norm = 'l2')\n",
    "#vectorizer = CountVectorizer(max_df=1.0, min_df=1,stop_words = \"english\")\n",
    "vectorizer.fit(X_train)\n",
    "\n",
    "# Transform the training and test set to vectors\n",
    "X_train = vectorizer.transform(X_train)\n",
    "X_test = vectorizer.transform(X_test)\n",
    "X_arun_vector = vectorizer.transform(X_arun_merged['pos'])"
   ]
  },
  {
   "cell_type": "code",
   "execution_count": 96,
   "metadata": {},
   "outputs": [
    {
     "name": "stdout",
     "output_type": "stream",
     "text": [
      "(1280, 7559) (320, 7559) (1280,) (320,)\n"
     ]
    }
   ],
   "source": [
    "# Get shape of training and test sets\n",
    "print(X_train.shape,X_test.shape,y_train.shape,y_test.shape)"
   ]
  },
  {
   "cell_type": "code",
   "execution_count": 97,
   "metadata": {},
   "outputs": [],
   "source": [
    "# Function to select parameters\n",
    "\n",
    "def parameter_select(X_train,y_train):\n",
    "    C = [0.001,0.01,0.1,1,10]\n",
    "    g = [0.001,0.01,0.1,1.0]\n",
    "    param_grid = {'C':C,'gamma':g}\n",
    "    grid_search = GridSearchCV(svm.SVC(kernel = \"linear\"),param_grid, cv = 5)\n",
    "    grid_search.fit(X_train,y_train)\n",
    "    return grid_search.best_params_"
   ]
  },
  {
   "cell_type": "code",
   "execution_count": 98,
   "metadata": {},
   "outputs": [
    {
     "data": {
      "text/plain": [
       "{'C': 1, 'gamma': 0.001}"
      ]
     },
     "execution_count": 98,
     "metadata": {},
     "output_type": "execute_result"
    }
   ],
   "source": [
    "# Run function\n",
    "parameter_select(X_train,y_train)"
   ]
  },
  {
   "cell_type": "code",
   "execution_count": 99,
   "metadata": {},
   "outputs": [],
   "source": [
    "# Define classifier model\n",
    "model = svm.SVC(kernel = \"linear\", C = 1,gamma = 0.001)"
   ]
  },
  {
   "cell_type": "code",
   "execution_count": 100,
   "metadata": {},
   "outputs": [],
   "source": [
    "# Define function to train model\n",
    "#def train_accuracy(model):\n",
    "   # kf = KFold(n_splits = 5)\n",
    "    #scores = cross_val_score(model, X_train, y_train, cv = kf, scoring = 'accuracy',n_jobs =-1)\n",
    "    #return scores.mean()"
   ]
  },
  {
   "cell_type": "code",
   "execution_count": 101,
   "metadata": {},
   "outputs": [],
   "source": [
    "# Fit model and predict on test data\n",
    "model.fit(X_train,y_train)\n",
    "y_pred = model.predict(X_test)"
   ]
  },
  {
   "cell_type": "code",
   "execution_count": 102,
   "metadata": {},
   "outputs": [
    {
     "name": "stdout",
     "output_type": "stream",
     "text": [
      "              precision    recall  f1-score   support\n",
      "\n",
      "         0.0       0.88      0.85      0.86       155\n",
      "         1.0       0.86      0.89      0.88       165\n",
      "\n",
      "    accuracy                           0.87       320\n",
      "   macro avg       0.87      0.87      0.87       320\n",
      "weighted avg       0.87      0.87      0.87       320\n",
      "\n"
     ]
    }
   ],
   "source": [
    "# Classification report\n",
    "print(classification_report(y_test, y_pred))"
   ]
  },
  {
   "cell_type": "code",
   "execution_count": 103,
   "metadata": {},
   "outputs": [
    {
     "data": {
      "image/png": "[encoded data removed]",
      "text/plain": [
       "<Figure size 432x288 with 2 Axes>"
      ]
     },
     "metadata": {
      "needs_background": "light"
     },
     "output_type": "display_data"
    }
   ],
   "source": [
    "# Confusion Matrix for the fake hotel reviews\n",
    "cf_matrix = confusion_matrix(y_test, y_pred)\n",
    "ax =sns.heatmap(cf_matrix, annot = True, fmt = \"d\",)"
   ]
  },
  {
   "cell_type": "markdown",
   "metadata": {},
   "source": [
    "# Section 8: Predict Against Arun Hotel Review Data"
   ]
  },
  {
   "cell_type": "code",
   "execution_count": 104,
   "metadata": {},
   "outputs": [],
   "source": [
    "# Predict against arun data\n",
    "y_pred_arun = model.predict(X_arun_vector)\n",
    "y_pred_arun = pd.Series(y_pred_arun)"
   ]
  },
  {
   "cell_type": "code",
   "execution_count": 105,
   "metadata": {},
   "outputs": [
    {
     "data": {
      "text/plain": [
       "0.0    1833\n",
       "1.0     365\n",
       "dtype: int64"
      ]
     },
     "execution_count": 105,
     "metadata": {},
     "output_type": "execute_result"
    }
   ],
   "source": [
    "# Get value counts of labels\n",
    "y_pred_arun.value_counts()"
   ]
  },
  {
   "cell_type": "code",
   "execution_count": 106,
   "metadata": {},
   "outputs": [],
   "source": [
    "# Reviews predicted to be opinion span\n",
    "summary = pd.DataFrame(y_pred_arun)\n",
    "summary.columns = [\"Predicted\"]"
   ]
  },
  {
   "cell_type": "code",
   "execution_count": 107,
   "metadata": {},
   "outputs": [
    {
     "data": {
      "text/plain": [
       "(0, 1)"
      ]
     },
     "execution_count": 107,
     "metadata": {},
     "output_type": "execute_result"
    }
   ],
   "source": [
    "summary[summary[\"Predicted\"] == \"deceptive\"].shape"
   ]
  },
  {
   "cell_type": "code",
   "execution_count": 108,
   "metadata": {},
   "outputs": [
    {
     "data": {
      "text/plain": [
       "0.0"
      ]
     },
     "execution_count": 108,
     "metadata": {},
     "output_type": "execute_result"
    }
   ],
   "source": [
    "# Percentage of total\n",
    "summary[summary[\"Predicted\"]== \"deceptive\"].shape[0]/summary.shape[0]*100"
   ]
  },
  {
   "cell_type": "code",
   "execution_count": 109,
   "metadata": {},
   "outputs": [
    {
     "data": {
      "text/plain": [
       "'Currently still here after a weekend at butlins over Christmas break. The kids have loved it. From the fair to swimming to the shows it’s been a great few days. Dreading going home tomorrow. The kids have had a ball. I just want to say all the redcoat, skyline Gang, and the staff work all hours god send. But a special mention to a lady at the cafe in the skyline. I wasn’t sure how to spell her name but I managed to ask for the receipt today and got it. “ELISHA” always served with a smile, made sure my children had there cakes (Oreo ones) and milkshakes and by the second day knew my order, I was visiting in the morning and at night time and she was always smiling and made time to speak. Also made me and my partner the best caramel latte coolers! Yum! Please send this message to her from the pickard family... Also a big thank you to the wave hotel. What amazing service and lovely accommodation. Already thinking of booking for next Christmas.. maybe 5 days this time.\\nRead less'"
      ]
     },
     "execution_count": 109,
     "metadata": {},
     "output_type": "execute_result"
    }
   ],
   "source": [
    "# Examine sample of reviews - change index to view different review from the opinion spam dataframe above\n",
    "X_arun.Review.loc[6]"
   ]
  },
  {
   "cell_type": "markdown",
   "metadata": {},
   "source": [
    "Analysis: the classification model predicted around 17% opinion spam on the hotel reviews. However, looking at sample reviews, they did not appear to be obviously 'fake', perhaps highlighting the problems involved with correctly identifying spam reviews based on only review-centric features such as this. Although this suggests that spam may be more prevalent than the 0.6% of fake reviews getting through that TripAdvisor suggest, 17% is well below the 30% suspected by Fakespot so for the purposes of this review on sentiment it is not considered to be a significant problem.  "
   ]
  },
  {
   "cell_type": "markdown",
   "metadata": {},
   "source": [
    "# Section 9: Training a Classifier on the YELP Restaurant Reviews"
   ]
  },
  {
   "cell_type": "code",
   "execution_count": 110,
   "metadata": {},
   "outputs": [
    {
     "data": {
      "text/plain": [
       "(35000, 3)"
      ]
     },
     "execution_count": 110,
     "metadata": {},
     "output_type": "execute_result"
    }
   ],
   "source": [
    "# Take 10% random sample from the dataset\n",
    "yelp_sampled = yelp.sample(n=35000)\n",
    "yelp_sampled.shape"
   ]
  },
  {
   "cell_type": "code",
   "execution_count": 111,
   "metadata": {},
   "outputs": [],
   "source": [
    "# Set target and features\n",
    "y_yelp = pd.DataFrame(yelp_sampled.label)\n",
    "X_yelp = pd.DataFrame(yelp_sampled.review)"
   ]
  },
  {
   "cell_type": "code",
   "execution_count": 112,
   "metadata": {},
   "outputs": [],
   "source": [
    "# Balance by taking oversampling from the minority class to match the majority class\n",
    "oversample = RandomOverSampler(sampling_strategy = \"minority\")\n",
    "X_yelp, y_yelp = oversample.fit_resample(X_yelp, y_yelp)"
   ]
  },
  {
   "cell_type": "code",
   "execution_count": 113,
   "metadata": {},
   "outputs": [],
   "source": [
    "# Set the labels to match output of classifier - set fake reviews to 1 and true reviews to 0\n",
    "y_yelp['label'] = y_yelp['label'].replace(1,0)\n",
    "y_yelp['label'] = y_yelp['label'].replace(-1,1)"
   ]
  },
  {
   "cell_type": "code",
   "execution_count": 114,
   "metadata": {},
   "outputs": [
    {
     "data": {
      "text/plain": [
       "label\n",
       "0        31401\n",
       "1        31401\n",
       "dtype: int64"
      ]
     },
     "execution_count": 114,
     "metadata": {},
     "output_type": "execute_result"
    }
   ],
   "source": [
    "# Get value_counts of the balanced data\n",
    "y_yelp.value_counts()"
   ]
  },
  {
   "cell_type": "code",
   "execution_count": 115,
   "metadata": {},
   "outputs": [],
   "source": [
    "# Pre-process the text as before\n",
    "#X_yelp_proc = proc(X_yelp[\"review\"])\n",
    "#X_yelp_proc = pd.DataFrame(X_yelp_proc)\n",
    "#X_yelp_proc[\"parts_of_speech\"] = X_yelp_proc[\"review\"].apply(lambda x: pos(x))\n",
    "#X_yelp_proc['parts_of_speech'] = X_yelp_proc['parts_of_speech'].map(lambda x:\" \".join([\"/\".join(x) for x in x ]) )"
   ]
  },
  {
   "cell_type": "code",
   "execution_count": 116,
   "metadata": {},
   "outputs": [
    {
     "data": {
      "text/html": [
       "<div>\n",
       "<style scoped>\n",
       "    .dataframe tbody tr th:only-of-type {\n",
       "        vertical-align: middle;\n",
       "    }\n",
       "\n",
       "    .dataframe tbody tr th {\n",
       "        vertical-align: top;\n",
       "    }\n",
       "\n",
       "    .dataframe thead th {\n",
       "        text-align: right;\n",
       "    }\n",
       "</style>\n",
       "<table border=\"1\" class=\"dataframe\">\n",
       "  <thead>\n",
       "    <tr style=\"text-align: right;\">\n",
       "      <th></th>\n",
       "      <th>review</th>\n",
       "    </tr>\n",
       "  </thead>\n",
       "  <tbody>\n",
       "    <tr>\n",
       "      <th>42219</th>\n",
       "      <td>Diner had been on my burger list for quite a l...</td>\n",
       "    </tr>\n",
       "    <tr>\n",
       "      <th>43785</th>\n",
       "      <td>I pretty much like everything about this place...</td>\n",
       "    </tr>\n",
       "    <tr>\n",
       "      <th>15784</th>\n",
       "      <td>Reviews were misleading and my experience here...</td>\n",
       "    </tr>\n",
       "    <tr>\n",
       "      <th>41969</th>\n",
       "      <td>First time ever coming here, and I WILL SURELY...</td>\n",
       "    </tr>\n",
       "    <tr>\n",
       "      <th>1452</th>\n",
       "      <td>After only one entrée, Café Ollin is already m...</td>\n",
       "    </tr>\n",
       "  </tbody>\n",
       "</table>\n",
       "</div>"
      ],
      "text/plain": [
       "                                                  review\n",
       "42219  Diner had been on my burger list for quite a l...\n",
       "43785  I pretty much like everything about this place...\n",
       "15784  Reviews were misleading and my experience here...\n",
       "41969  First time ever coming here, and I WILL SURELY...\n",
       "1452   After only one entrée, Café Ollin is already m..."
      ]
     },
     "execution_count": 116,
     "metadata": {},
     "output_type": "execute_result"
    }
   ],
   "source": [
    "# Check the dataframe\n",
    "X_yelp.sample(5)"
   ]
  },
  {
   "cell_type": "code",
   "execution_count": 117,
   "metadata": {},
   "outputs": [],
   "source": [
    "# Train test split with 20% test size between training and testing sets\n",
    "X_train, X_test, y_train, y_test = train_test_split(X_yelp[\"review\"],y_yelp,test_size = 0.2, shuffle = True, random_state = 42)"
   ]
  },
  {
   "cell_type": "code",
   "execution_count": 118,
   "metadata": {},
   "outputs": [
    {
     "name": "stdout",
     "output_type": "stream",
     "text": [
      "(50241,) (12561,) (50241, 1) (12561, 1)\n"
     ]
    }
   ],
   "source": [
    "# Check the shape\n",
    "print(X_train.shape, X_test.shape,y_train.shape,y_test.shape)"
   ]
  },
  {
   "cell_type": "code",
   "execution_count": 119,
   "metadata": {},
   "outputs": [],
   "source": [
    "# Convert to vectorizer object\n",
    "vectorizer = TfidfVectorizer(use_idf = True, lowercase = True,stop_words = \"english\",smooth_idf = True, norm = 'l2')\n",
    "vectorizer.fit(X_train)\n",
    "\n",
    "# Transform the training and test set to vectors\n",
    "X_train_yelp = vectorizer.transform(X_train)\n",
    "X_test_yelp = vectorizer.transform(X_test)"
   ]
  },
  {
   "cell_type": "code",
   "execution_count": 120,
   "metadata": {},
   "outputs": [
    {
     "data": {
      "text/plain": [
       "(50241, 40225)"
      ]
     },
     "execution_count": 120,
     "metadata": {},
     "output_type": "execute_result"
    }
   ],
   "source": [
    "# Check shape\n",
    "X_train_yelp.shape"
   ]
  },
  {
   "cell_type": "code",
   "execution_count": 121,
   "metadata": {},
   "outputs": [],
   "source": [
    "# Define model - parameters as per default as the dataset is large and will take a long time to run)\n",
    "model = svm.SVC()"
   ]
  },
  {
   "cell_type": "code",
   "execution_count": 122,
   "metadata": {},
   "outputs": [
    {
     "data": {
      "text/plain": [
       "SVC()"
      ]
     },
     "execution_count": 122,
     "metadata": {},
     "output_type": "execute_result"
    }
   ],
   "source": [
    "# Train on Yelp test data\n",
    "model.fit(X_train_yelp,y_train)"
   ]
  },
  {
   "cell_type": "code",
   "execution_count": 124,
   "metadata": {},
   "outputs": [],
   "source": [
    "# Predict on test set\n",
    "y_pred = model.predict(X_test_yelp)"
   ]
  },
  {
   "cell_type": "code",
   "execution_count": 125,
   "metadata": {},
   "outputs": [
    {
     "name": "stdout",
     "output_type": "stream",
     "text": [
      "              precision    recall  f1-score   support\n",
      "\n",
      "           0       1.00      0.99      0.99      6237\n",
      "           1       0.99      1.00      1.00      6324\n",
      "\n",
      "    accuracy                           0.99     12561\n",
      "   macro avg       1.00      0.99      0.99     12561\n",
      "weighted avg       0.99      0.99      0.99     12561\n",
      "\n"
     ]
    }
   ],
   "source": [
    "# Classification report\n",
    "print(classification_report(y_test, y_pred))"
   ]
  },
  {
   "cell_type": "code",
   "execution_count": 126,
   "metadata": {},
   "outputs": [
    {
     "data": {
      "image/png": "[encoded data removed]",
      "text/plain": [
       "<Figure size 432x288 with 2 Axes>"
      ]
     },
     "metadata": {
      "needs_background": "light"
     },
     "output_type": "display_data"
    }
   ],
   "source": [
    "# Confusion Matrix\n",
    "cf_matrix = confusion_matrix(y_test, y_pred)\n",
    "ax =sns.heatmap(cf_matrix, annot = True, fmt = \"d\",)"
   ]
  },
  {
   "cell_type": "code",
   "execution_count": 127,
   "metadata": {},
   "outputs": [
    {
     "data": {
      "text/plain": [
       "1    6347\n",
       "0    6214\n",
       "dtype: int64"
      ]
     },
     "execution_count": 127,
     "metadata": {},
     "output_type": "execute_result"
    }
   ],
   "source": [
    "# Get value counts of predicted values for the test set\n",
    "pd.Series(y_pred).value_counts()"
   ]
  },
  {
   "cell_type": "markdown",
   "metadata": {},
   "source": [
    "# Section 10: Using the Yelp trained model with Arun Restaurant Reviews"
   ]
  },
  {
   "cell_type": "code",
   "execution_count": null,
   "metadata": {},
   "outputs": [],
   "source": [
    "# Reviews related to restaurants only\n",
    "rests = arun_df[arun_df.Category == \"Food\"]\n",
    "rests.head(2)"
   ]
  },
  {
   "cell_type": "code",
   "execution_count": null,
   "metadata": {},
   "outputs": [],
   "source": [
    "X_yelp_proc = proc(X_yelp[\"review\"])\n",
    "X_yelp_proc = pd.DataFrame(X_yelp_proc)\n",
    "X_yelp_proc[\"parts_of_speech\"] = X_yelp_proc[\"review\"].apply(lambda x: pos(x))\n",
    "X_yelp_proc['parts_of_speech'] = X_yelp_proc['parts_of_speech'].map(lambda x:\" \".join([\"/\".join(x) for x in x ]) )"
   ]
  },
  {
   "cell_type": "code",
   "execution_count": null,
   "metadata": {},
   "outputs": [],
   "source": [
    "# Predict against the restaurant data using the trained YELP model\n",
    "X_rests = rests.Review\n",
    "X_rests_vector = vectorizer.transform(X_rests)\n",
    "y_pred_rests = lr.predict(X_rests_vector)"
   ]
  },
  {
   "cell_type": "code",
   "execution_count": null,
   "metadata": {},
   "outputs": [],
   "source": [
    "# Create dataframe\n",
    "results = pd.DataFrame(y_pred_rests,columns = [\"Predicted\"])\n",
    "results"
   ]
  },
  {
   "cell_type": "code",
   "execution_count": null,
   "metadata": {},
   "outputs": [],
   "source": [
    "# Get value counts of deceptive (1) versus truthful predicted reviews\n",
    "results.Predicted.value_counts()"
   ]
  },
  {
   "cell_type": "code",
   "execution_count": null,
   "metadata": {},
   "outputs": [],
   "source": [
    "results.Predicted.value_counts()[1]/results.Predicted.shape[0]*100"
   ]
  },
  {
   "cell_type": "code",
   "execution_count": null,
   "metadata": {},
   "outputs": [],
   "source": [
    "# Look at some examples\n",
    "print(rests.Review.iloc[4],\"\\n\")\n",
    "print(rests.Review.iloc[19],\"\\n\")\n",
    "print(rests.Review.iloc[21],\"\\n\")\n",
    "print(rests.Review.iloc[28],\"\\n\")\n",
    "print(rests.Review.iloc[31],\"\\n\")\n",
    "print(rests.Review.iloc[33],\"\\n\")\n",
    "print(rests.Review.iloc[41],\"\\n\")\n",
    "print(rests.Review.iloc[42],\"\\n\")\n",
    "print(rests.Review.iloc[51],\"\\n\")\n",
    "print(rests.Review.iloc[52],\"\\n\")"
   ]
  },
  {
   "cell_type": "markdown",
   "metadata": {},
   "source": [
    "Analysis: almost a quarter of the restaurant reviews are predicted to be fake based on the classifier. This comes close to the Fakespot contention that around 30% of reviews are fake. Restaurant reviews are also often considered to be more likely to be affected by opinion spam. \n",
    "\n",
    "Looking at a the first ten of the predicted spam reviews:\n",
    "\n",
    "* review 1 - has a balance of good and bad points so seems legitimate\n",
    "* review 2 - seems a little too positive but unclear\n",
    "* review 3 - comment as for review 1\n",
    "* review 4 - seems a little suspicious\n",
    "* review 5 - seems legitimate\n",
    "* review 6 - could be negative opposition spam\n",
    "* review 7 - seems legitimate\n",
    "* review 8 - very wordy and descriptive language, seems it might be fake\n",
    "* review 9 - comment as for review 1\n",
    "* review 10 - could be opinion spam\n",
    "\n",
    "The reviews identified as opinion spam by the model do not all appear to be fake, although it is difficult to know for sure.\n",
    "\n",
    "Yelp do employ a filtering algorithm and publish the filtered reviews which represent about 16% of total reviews. These reviews tend to be more extreme (favorable or unfavorable) than other reviews (Fake It Till You Make It, 2016).TripAdvisor also use filtering methods using a range of indicators, many of which are not publically available. These might include detailed information regarding the users on the site, their activity, IPs and location as well as the text of the reviews themselves. They maintain that the majority of fake reviews are removed. Since steps are actively taken to moderate reviews, for the purposes of the sentiment analysis, the level of opinion spam is considered to be acceptable but should be borne in mind when considering the results.\n",
    "\n",
    "Luca, Michael, and Georgios Zervas. \"Fake It Till You Make It: Reputation, Competition, and Yelp Review Fraud.\" Management Science 62, no. 12 (December 2016).\n",
    "\n",
    "https://dash.harvard.edu/handle/1/22836596\n"
   ]
  }
 ],
 "metadata": {
  "kernelspec": {
   "display_name": "Python 3",
   "language": "python",
   "name": "python3"
  },
  "language_info": {
   "codemirror_mode": {
    "name": "ipython",
    "version": 3
   },
   "file_extension": ".py",
   "mimetype": "text/x-python",
   "name": "python",
   "nbconvert_exporter": "python",
   "pygments_lexer": "ipython3",
   "version": "3.8.8"
  }
 },
 "nbformat": 4,
 "nbformat_minor": 4
}
