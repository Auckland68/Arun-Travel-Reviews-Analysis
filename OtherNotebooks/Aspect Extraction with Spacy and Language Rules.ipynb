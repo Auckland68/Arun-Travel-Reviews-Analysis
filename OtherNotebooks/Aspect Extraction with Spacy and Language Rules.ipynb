{
 "cells": [
  {
   "cell_type": "markdown",
   "metadata": {},
   "source": [
    "# Fine Grained Aspect Extraction and Clustering"
   ]
  },
  {
   "cell_type": "markdown",
   "metadata": {},
   "source": [
    "This notebook examines extracting aspects using Spacy and rules-based conditions\n",
    "\n",
    "* Section 1: Import libraries and data\n",
    "* Section 2: Extract Nouns\n",
    "* Section 3: Toy Data Example with Spacy Dependency Parser\n",
    "* Section 4: Using the Dependency Parser on the Full text to Extract Aspects\n",
    "* Section 5: KMeans Clustering algorithm to extract fine-grained aspects"
   ]
  },
  {
   "cell_type": "markdown",
   "metadata": {},
   "source": [
    "# NOTEBOOK NOT COMPLETE"
   ]
  },
  {
   "cell_type": "markdown",
   "metadata": {},
   "source": [
    "# Section 1: Import libraries and data"
   ]
  },
  {
   "cell_type": "code",
   "execution_count": 27,
   "metadata": {},
   "outputs": [
    {
     "name": "stderr",
     "output_type": "stream",
     "text": [
      "[nltk_data] Downloading package stopwords to\n",
      "[nltk_data]     C:\\Users\\imoge\\AppData\\Roaming\\nltk_data...\n",
      "[nltk_data]   Package stopwords is already up-to-date!\n",
      "[nltk_data] Downloading package wordnet to\n",
      "[nltk_data]     C:\\Users\\imoge\\AppData\\Roaming\\nltk_data...\n",
      "[nltk_data]   Package wordnet is already up-to-date!\n",
      "[nltk_data] Downloading package vader_lexicon to\n",
      "[nltk_data]     C:\\Users\\imoge\\AppData\\Roaming\\nltk_data...\n",
      "[nltk_data]   Package vader_lexicon is already up-to-date!\n"
     ]
    }
   ],
   "source": [
    "import pandas as pd\n",
    "import numpy as np\n",
    "import matplotlib.pyplot as plt\n",
    "import string\n",
    "import re\n",
    "import contractions\n",
    "import nltk\n",
    "nltk.download('stopwords')\n",
    "from nltk.corpus import stopwords\n",
    "nltk.download('wordnet')\n",
    "from spellchecker import SpellChecker\n",
    "from nltk.stem import WordNetLemmatizer\n",
    "from nltk.tokenize import sent_tokenize\n",
    "import spacy\n",
    "from spacy import displacy\n",
    "import gensim\n",
    "nltk.download('vader_lexicon')\n",
    "from nltk.sentiment.vader import SentimentIntensityAnalyzer\n",
    "from gensim.models import Word2Vec\n",
    "from sklearn.manifold import TSNE\n",
    "#nltk.download('averaged_perceptron_tagger')\n",
    "from sklearn.cluster import KMeans\n",
    "from kneed import KneeLocator\n",
    "from sklearn.metrics import silhouette_score\n",
    "import warnings\n",
    "warnings.filterwarnings(\"ignore\")"
   ]
  },
  {
   "cell_type": "code",
   "execution_count": 30,
   "metadata": {},
   "outputs": [],
   "source": [
    "df = pd.read_csv(\"explodedsentencescleaned.csv\",index_col = 0)"
   ]
  },
  {
   "cell_type": "code",
   "execution_count": 31,
   "metadata": {},
   "outputs": [
    {
     "data": {
      "text/plain": [
       "(59956, 8)"
      ]
     },
     "execution_count": 31,
     "metadata": {},
     "output_type": "execute_result"
    }
   ],
   "source": [
    "df.shape"
   ]
  },
  {
   "cell_type": "code",
   "execution_count": 32,
   "metadata": {},
   "outputs": [
    {
     "name": "stdout",
     "output_type": "stream",
     "text": [
      "<class 'pandas.core.frame.DataFrame'>\n",
      "Int64Index: 59956 entries, 0 to 10406\n",
      "Data columns (total 8 columns):\n",
      " #   Column     Non-Null Count  Dtype \n",
      "---  ------     --------------  ----- \n",
      " 0   OrigInd    59956 non-null  int64 \n",
      " 1   Category   59956 non-null  object\n",
      " 2   Town       59956 non-null  object\n",
      " 3   Rating     59956 non-null  int64 \n",
      " 4   all_text   59956 non-null  object\n",
      " 5   sentences  59956 non-null  object\n",
      " 6   len        59956 non-null  int64 \n",
      " 7   cleaned    59831 non-null  object\n",
      "dtypes: int64(3), object(5)\n",
      "memory usage: 4.1+ MB\n"
     ]
    }
   ],
   "source": [
    "df.info()"
   ]
  },
  {
   "cell_type": "code",
   "execution_count": 33,
   "metadata": {},
   "outputs": [],
   "source": [
    "# Drop null values\n",
    "df.dropna(subset=['cleaned'],inplace = True)"
   ]
  },
  {
   "cell_type": "code",
   "execution_count": 34,
   "metadata": {},
   "outputs": [],
   "source": [
    "#df = df.drop(columns = [\"cleaned\"],axis = 1)\n",
    "df.columns = [\"OrigInd\",\"Category\",\"Town\",\"Rating\",\"review\",\"sentences\",\"len\",\"cleaned\"]\n",
    "#df[\"sentences\"] = df[\"sentences\"].apply(lambda x: x.strip(\"\\n\\t \").lower())"
   ]
  },
  {
   "cell_type": "markdown",
   "metadata": {},
   "source": [
    "# Section 3: Parts of Speech using Spacy on Toy Data"
   ]
  },
  {
   "cell_type": "code",
   "execution_count": 35,
   "metadata": {},
   "outputs": [],
   "source": [
    "# Example texts\n",
    "doc1 = \"The food was just about edible\"\n",
    "doc2 = 'the parking was a problem'"
   ]
  },
  {
   "cell_type": "code",
   "execution_count": 36,
   "metadata": {},
   "outputs": [],
   "source": [
    "# Load spacy and create document\n",
    "nlp = spacy.load('en_core_web_sm')\n",
    "doc1= nlp(doc1)\n",
    "doc2 = nlp(doc2)"
   ]
  },
  {
   "cell_type": "code",
   "execution_count": 37,
   "metadata": {},
   "outputs": [],
   "source": [
    "# For each word define universal parts of speech, lemma, detailed parts of speech, dependency, whether it is alpha numeric or a stopword\n",
    "def spac(doc):\n",
    "    for token in doc:\n",
    "        print(token.text,token.lemma_, token.pos_, token.tag_, token.dep_,\n",
    "              token.shape_, token.is_alpha, token.is_stop)"
   ]
  },
  {
   "cell_type": "code",
   "execution_count": 38,
   "metadata": {},
   "outputs": [
    {
     "name": "stdout",
     "output_type": "stream",
     "text": [
      "The the DET DT det Xxx True True\n",
      "food food NOUN NN nsubj xxxx True False\n",
      "was be AUX VBD ROOT xxx True True\n",
      "just just ADV RB advmod xxxx True True\n",
      "about about ADP IN prep xxxx True True\n",
      "edible edible ADJ JJ acomp xxxx True False\n"
     ]
    }
   ],
   "source": [
    "# Run for document 1\n",
    "spac(doc1)"
   ]
  },
  {
   "cell_type": "code",
   "execution_count": 39,
   "metadata": {},
   "outputs": [
    {
     "name": "stdout",
     "output_type": "stream",
     "text": [
      "The the DET DT det Xxx True True\n",
      "food food NOUN NN nsubj xxxx True False\n",
      "was be AUX VBD ROOT xxx True True\n",
      "just just ADV RB advmod xxxx True True\n",
      "about about ADP IN prep xxxx True True\n",
      "edible edible ADJ JJ acomp xxxx True False\n"
     ]
    }
   ],
   "source": [
    "# Run for document 2\n",
    "spac(doc1)"
   ]
  },
  {
   "cell_type": "code",
   "execution_count": 40,
   "metadata": {},
   "outputs": [
    {
     "data": {
      "text/html": [
       "<span class=\"tex2jax_ignore\"><svg xmlns=\"http://www.w3.org/2000/svg\" xmlns:xlink=\"http://www.w3.org/1999/xlink\" xml:lang=\"en\" id=\"029bc8e5cd714a1ab77ecb7fa4793a59-0\" class=\"displacy\" width=\"1100\" height=\"399.5\" direction=\"ltr\" style=\"max-width: none; height: 399.5px; color: #000000; background: #ffffff; font-family: Arial; direction: ltr\">\n",
       "<text class=\"displacy-token\" fill=\"currentColor\" text-anchor=\"middle\" y=\"309.5\">\n",
       "    <tspan class=\"displacy-word\" fill=\"currentColor\" x=\"50\">The</tspan>\n",
       "    <tspan class=\"displacy-tag\" dy=\"2em\" fill=\"currentColor\" x=\"50\">DET</tspan>\n",
       "</text>\n",
       "\n",
       "<text class=\"displacy-token\" fill=\"currentColor\" text-anchor=\"middle\" y=\"309.5\">\n",
       "    <tspan class=\"displacy-word\" fill=\"currentColor\" x=\"225\">food</tspan>\n",
       "    <tspan class=\"displacy-tag\" dy=\"2em\" fill=\"currentColor\" x=\"225\">NOUN</tspan>\n",
       "</text>\n",
       "\n",
       "<text class=\"displacy-token\" fill=\"currentColor\" text-anchor=\"middle\" y=\"309.5\">\n",
       "    <tspan class=\"displacy-word\" fill=\"currentColor\" x=\"400\">was</tspan>\n",
       "    <tspan class=\"displacy-tag\" dy=\"2em\" fill=\"currentColor\" x=\"400\">AUX</tspan>\n",
       "</text>\n",
       "\n",
       "<text class=\"displacy-token\" fill=\"currentColor\" text-anchor=\"middle\" y=\"309.5\">\n",
       "    <tspan class=\"displacy-word\" fill=\"currentColor\" x=\"575\">just</tspan>\n",
       "    <tspan class=\"displacy-tag\" dy=\"2em\" fill=\"currentColor\" x=\"575\">ADV</tspan>\n",
       "</text>\n",
       "\n",
       "<text class=\"displacy-token\" fill=\"currentColor\" text-anchor=\"middle\" y=\"309.5\">\n",
       "    <tspan class=\"displacy-word\" fill=\"currentColor\" x=\"750\">about</tspan>\n",
       "    <tspan class=\"displacy-tag\" dy=\"2em\" fill=\"currentColor\" x=\"750\">ADP</tspan>\n",
       "</text>\n",
       "\n",
       "<text class=\"displacy-token\" fill=\"currentColor\" text-anchor=\"middle\" y=\"309.5\">\n",
       "    <tspan class=\"displacy-word\" fill=\"currentColor\" x=\"925\">edible</tspan>\n",
       "    <tspan class=\"displacy-tag\" dy=\"2em\" fill=\"currentColor\" x=\"925\">ADJ</tspan>\n",
       "</text>\n",
       "\n",
       "<g class=\"displacy-arrow\">\n",
       "    <path class=\"displacy-arc\" id=\"arrow-029bc8e5cd714a1ab77ecb7fa4793a59-0-0\" stroke-width=\"2px\" d=\"M70,264.5 C70,177.0 215.0,177.0 215.0,264.5\" fill=\"none\" stroke=\"currentColor\"/>\n",
       "    <text dy=\"1.25em\" style=\"font-size: 0.8em; letter-spacing: 1px\">\n",
       "        <textPath xlink:href=\"#arrow-029bc8e5cd714a1ab77ecb7fa4793a59-0-0\" class=\"displacy-label\" startOffset=\"50%\" side=\"left\" fill=\"currentColor\" text-anchor=\"middle\">det</textPath>\n",
       "    </text>\n",
       "    <path class=\"displacy-arrowhead\" d=\"M70,266.5 L62,254.5 78,254.5\" fill=\"currentColor\"/>\n",
       "</g>\n",
       "\n",
       "<g class=\"displacy-arrow\">\n",
       "    <path class=\"displacy-arc\" id=\"arrow-029bc8e5cd714a1ab77ecb7fa4793a59-0-1\" stroke-width=\"2px\" d=\"M245,264.5 C245,177.0 390.0,177.0 390.0,264.5\" fill=\"none\" stroke=\"currentColor\"/>\n",
       "    <text dy=\"1.25em\" style=\"font-size: 0.8em; letter-spacing: 1px\">\n",
       "        <textPath xlink:href=\"#arrow-029bc8e5cd714a1ab77ecb7fa4793a59-0-1\" class=\"displacy-label\" startOffset=\"50%\" side=\"left\" fill=\"currentColor\" text-anchor=\"middle\">nsubj</textPath>\n",
       "    </text>\n",
       "    <path class=\"displacy-arrowhead\" d=\"M245,266.5 L237,254.5 253,254.5\" fill=\"currentColor\"/>\n",
       "</g>\n",
       "\n",
       "<g class=\"displacy-arrow\">\n",
       "    <path class=\"displacy-arc\" id=\"arrow-029bc8e5cd714a1ab77ecb7fa4793a59-0-2\" stroke-width=\"2px\" d=\"M595,264.5 C595,177.0 740.0,177.0 740.0,264.5\" fill=\"none\" stroke=\"currentColor\"/>\n",
       "    <text dy=\"1.25em\" style=\"font-size: 0.8em; letter-spacing: 1px\">\n",
       "        <textPath xlink:href=\"#arrow-029bc8e5cd714a1ab77ecb7fa4793a59-0-2\" class=\"displacy-label\" startOffset=\"50%\" side=\"left\" fill=\"currentColor\" text-anchor=\"middle\">advmod</textPath>\n",
       "    </text>\n",
       "    <path class=\"displacy-arrowhead\" d=\"M595,266.5 L587,254.5 603,254.5\" fill=\"currentColor\"/>\n",
       "</g>\n",
       "\n",
       "<g class=\"displacy-arrow\">\n",
       "    <path class=\"displacy-arc\" id=\"arrow-029bc8e5cd714a1ab77ecb7fa4793a59-0-3\" stroke-width=\"2px\" d=\"M420,264.5 C420,89.5 745.0,89.5 745.0,264.5\" fill=\"none\" stroke=\"currentColor\"/>\n",
       "    <text dy=\"1.25em\" style=\"font-size: 0.8em; letter-spacing: 1px\">\n",
       "        <textPath xlink:href=\"#arrow-029bc8e5cd714a1ab77ecb7fa4793a59-0-3\" class=\"displacy-label\" startOffset=\"50%\" side=\"left\" fill=\"currentColor\" text-anchor=\"middle\">prep</textPath>\n",
       "    </text>\n",
       "    <path class=\"displacy-arrowhead\" d=\"M745.0,266.5 L753.0,254.5 737.0,254.5\" fill=\"currentColor\"/>\n",
       "</g>\n",
       "\n",
       "<g class=\"displacy-arrow\">\n",
       "    <path class=\"displacy-arc\" id=\"arrow-029bc8e5cd714a1ab77ecb7fa4793a59-0-4\" stroke-width=\"2px\" d=\"M420,264.5 C420,2.0 925.0,2.0 925.0,264.5\" fill=\"none\" stroke=\"currentColor\"/>\n",
       "    <text dy=\"1.25em\" style=\"font-size: 0.8em; letter-spacing: 1px\">\n",
       "        <textPath xlink:href=\"#arrow-029bc8e5cd714a1ab77ecb7fa4793a59-0-4\" class=\"displacy-label\" startOffset=\"50%\" side=\"left\" fill=\"currentColor\" text-anchor=\"middle\">acomp</textPath>\n",
       "    </text>\n",
       "    <path class=\"displacy-arrowhead\" d=\"M925.0,266.5 L933.0,254.5 917.0,254.5\" fill=\"currentColor\"/>\n",
       "</g>\n",
       "</svg></span>"
      ],
      "text/plain": [
       "<IPython.core.display.HTML object>"
      ]
     },
     "metadata": {},
     "output_type": "display_data"
    }
   ],
   "source": [
    "# Render dependencies in notebook - uncomment to run each\n",
    "# displacy.render(doc1, style='dep', jupyter=True)\n",
    "displacy.render(doc1, style='dep', jupyter=True)"
   ]
  },
  {
   "cell_type": "code",
   "execution_count": 41,
   "metadata": {},
   "outputs": [],
   "source": [
    "# Render dependencies in browser, uncomment to run and then visit localhost:5000 to see the graph\n",
    "#displacy.serve(doc, style='dep')"
   ]
  },
  {
   "cell_type": "markdown",
   "metadata": {},
   "source": [
    "# Section 4: Full dataset Aspect Extraction"
   ]
  },
  {
   "cell_type": "markdown",
   "metadata": {},
   "source": [
    "Code from https://github.com/ishikaarora/Aspect-Sentiment-Analysis-on-Amazon-Reviews/blob/master/src/models/aspect_extraction.py"
   ]
  },
  {
   "cell_type": "markdown",
   "metadata": {},
   "source": [
    "## Aspect Extraction"
   ]
  },
  {
   "cell_type": "code",
   "execution_count": 42,
   "metadata": {},
   "outputs": [],
   "source": [
    "#nlp = spacy.load('en_core_web_sm')\n",
    "nlp = spacy.load('en_core_web_lg')\n",
    "sent = SentimentIntensityAnalyzer()"
   ]
  },
  {
   "cell_type": "code",
   "execution_count": 43,
   "metadata": {},
   "outputs": [],
   "source": [
    "# Extraction function, adapted from Joshi et al.(2018)\n",
    "\n",
    "def apply_extraction(x):\n",
    "    \n",
    "    category = \"Category\"\n",
    "    town = \"Town\"\n",
    "    score = \"Score\"\n",
    "    review_index = \"OrigInd\"\n",
    "    doc= nlp(x)\n",
    "    pron = ['it','this','they','these']\n",
    "    sent = SentimentIntensityAnalyzer()\n",
    "    \n",
    "            \n",
    "    # Note A is the aspect word token and M is the modifier\n",
    "    \n",
    "    # Number 1 - Relationship of amod between M as child of A\n",
    "    list_1 = []\n",
    "    for token in doc:\n",
    "        A = \"\"\n",
    "        M = \"\"\n",
    "        if token.dep_ == \"amod\" and token.dep_ and not token.is_stop:\n",
    "            M = token.text\n",
    "            A = token.head.text\n",
    "            \n",
    "            # modifier of adjective for example 'very tasty food'\n",
    "            M_children = token.children\n",
    "            for child_m in M_children:\n",
    "                if(child_m.dep_ == \"advmod\"):\n",
    "                    M_1 = child_m.text\n",
    "                    M = M_1 + \" \" + M\n",
    "                    break\n",
    "\n",
    "            # adjective negation, as determinant of a noun for example 'no friendly waiters'\n",
    "            A_children = token.head.children\n",
    "            for child_a in A_children:\n",
    "                if(child_a.dep_ == \"det\" and child_a.text == 'no'):\n",
    "                    neg_prefix = 'not'\n",
    "                    M = neg_prefix + \" \" + M\n",
    "                    break\n",
    "\n",
    "            if(A != \"\" and M != \"\"):\n",
    "                list_1.append((A, M,sent.polarity_scores(token.text)['compound'],1))\n",
    "\n",
    "    # Number 2 - A is a child of a word with relationship of nsubj, and M is a child of this word with relationship of dobj\n",
    "    # Assumes - A verb will have only one NSUBJ and DOBJ\n",
    "\n",
    "    list_2 = []\n",
    "    for token in doc:\n",
    "        children = token.children\n",
    "        A = \"\"\n",
    "        M = \"\"\n",
    "        add_neg_pfx = False\n",
    "        for child in children :\n",
    "            if(child.dep_ == \"nsubj\" and not token.is_stop):\n",
    "                A = child.text\n",
    "                \n",
    "            if((child.dep_ == \"dobj\" and child.pos_ == \"ADJ\") and not child.is_stop):\n",
    "                M = child.text\n",
    "                \n",
    "            if(child.dep_ == \"neg\"):\n",
    "                neg_prefix = child.text\n",
    "                add_neg_pfx = True\n",
    "\n",
    "        if (add_neg_pfx and M != \"\"):\n",
    "            M = neg_prefix + \" \" + M\n",
    "\n",
    "        if(A != \"\" and M != \"\"):\n",
    "            list_2.append((A, M,sent.polarity_scores(M)['compound'],2))\n",
    "\n",
    "\n",
    "    # Number 3 - A is a child of a word with relationship of nsubj and M is a child of this word with relationship of acomp,\n",
    "    # eg The choices on the menu could be better\n",
    "    # Assumes - A verb will have only one NSUBJ and DOBJ\n",
    "    \n",
    "    list_3 = []\n",
    "\n",
    "    for token in doc:\n",
    "\n",
    "        children = token.children\n",
    "        A = \"\"\n",
    "        M = \"\"\n",
    "        add_neg_pfx = False\n",
    "        for child in children :\n",
    "            if(child.dep_ == \"nsubj\" and not child.is_stop):\n",
    "                A = child.text\n",
    "                \n",
    "            if(child.dep_ == \"acomp\" and not child.is_stop):\n",
    "                M = child.text\n",
    "\n",
    "            # example - 'menu could have been better' -> (menu, not better)\n",
    "            if(child.dep_ == \"aux\" and child.tag_ == \"MD\"):\n",
    "                neg_prefix = \"not\"\n",
    "                add_neg_pfx = True\n",
    "\n",
    "            if(child.dep_ == \"neg\"):\n",
    "                neg_prefix = child.text\n",
    "                add_neg_pfx = True\n",
    "\n",
    "        if (add_neg_pfx and M != \"\"):\n",
    "            M = neg_prefix + \" \" + M\n",
    "                \n",
    "        if(A != \"\" and M != \"\"):\n",
    "            list_3.append((A, M, sent.polarity_scores(M)['compound'],3))\n",
    "\n",
    "    # Number 4 - A is a child of a word with relationship of nsubjpass, and M is a child of this word with relationship of advmod\n",
    "    # Assumes - A verb will have only one NSUBJ and DOBJ\n",
    "    \n",
    "    list_4 = []\n",
    "    for token in doc:\n",
    "\n",
    "\n",
    "        children = token.children\n",
    "        A = \"\"\n",
    "        M = \"\"\n",
    "        add_neg_pfx = False\n",
    "        for child in children :\n",
    "            if((child.dep_ == \"nsubjpass\" or child.dep_ == \"nsubj\") and not child.is_stop):\n",
    "                A = child.text\n",
    "               \n",
    "            if(child.dep_ == \"advmod\" and not child.is_stop):\n",
    "                M = child.text\n",
    "                M_children = child.children\n",
    "                for child_m in M_children:\n",
    "                    if(child_m.dep_ == \"advmod\"):\n",
    "                        M_hash = child_m.text\n",
    "                        M = M_hash + \" \" + child.text\n",
    "                        break\n",
    "                \n",
    "            if(child.dep_ == \"neg\"):\n",
    "                neg_prefix = child.text\n",
    "                add_neg_pfx = True\n",
    "\n",
    "        if (add_neg_pfx and M != \"\"):\n",
    "            M = neg_prefix + \" \" + M\n",
    "\n",
    "        if(A != \"\" and M != \"\"):\n",
    "            list_4.append((A, M,sent.polarity_scores(M)['compound'],4)) \n",
    "\n",
    "\n",
    "    # Number 5 - A is a child of M with relationship of nsubj, and M has a child with a relationship of Copula\n",
    "    # Assumption - A verb will have only one NSUBJ and DOBJ\n",
    "\n",
    "    list_5 = []\n",
    "    for token in doc:\n",
    "        children = token.children\n",
    "        A = \"\"\n",
    "        buf_var = \"\"\n",
    "        for child in children :\n",
    "            if(child.dep_ == \"nsubj\" and not child.is_stop):\n",
    "                A = child.text\n",
    "                \n",
    "            if(child.dep_ == \"cop\" and not child.is_stop):\n",
    "                buf_var = child.text\n",
    "                \n",
    "        if(A != \"\" and buf_var != \"\"):\n",
    "            list_5.append((A, token.text,sent.polarity_scores(token.text)['compound'],5))\n",
    "\n",
    "\n",
    "    # Number 6 - Interjections such as 'great', 'ok'\n",
    "    \n",
    "    list_6 = []\n",
    "    for token in doc:\n",
    "        children = token.children\n",
    "        A = \"\"\n",
    "        M = \"\"\n",
    "        if(token.pos_ == \"INTJ\" and not token.is_stop):\n",
    "            for child in children :\n",
    "                if(child.dep_ == \"nsubj\" and not child.is_stop):\n",
    "                    A = child.text\n",
    "                    M = token.text\n",
    "                    \n",
    "        if(A != \"\" and M != \"\"):\n",
    "            list_6.append((A, M,sent.polarity_scores(M)['compound'],6))\n",
    "\n",
    "\n",
    "    # Number 7 - Links between a verb and complement eg. 'this is awful' to render as 'this, 'awful'\n",
    "    \n",
    "    list_7 = []\n",
    "    for token in doc:\n",
    "        children = token.children\n",
    "        A = \"\"\n",
    "        M = \"\"\n",
    "        add_neg_pfx = False\n",
    "        for child in children :\n",
    "            if(child.dep_ == \"nsubj\" and not child.is_stop):\n",
    "                A = child.text\n",
    "                # check_spelling(child.text)\n",
    "\n",
    "            if((child.dep_ == \"attr\") and not child.is_stop):\n",
    "                M = child.text\n",
    "                #check_spelling(child.text)\n",
    "\n",
    "            if(child.dep_ == \"neg\"):\n",
    "                neg_prefix = child.text\n",
    "                add_neg_pfx = True\n",
    "\n",
    "        if (add_neg_pfx and M != \"\"):\n",
    "            M = neg_prefix + \" \" + M\n",
    "\n",
    "        if(A != \"\" and M != \"\"):\n",
    "            list_7.append((A, M,sent.polarity_scores(M)['compound'],7))\n",
    "\n",
    "\n",
    "\n",
    "    aspects = []\n",
    "\n",
    "    aspects = list_1 + list_2 + list_3 + list_4 + list_5 + list_6 + list_7\n",
    "\n",
    "    # replace all instances of \"it\", \"this\" and \"they\" with \"category\"\n",
    "    aspects = [(A,M,P,r) if A not in pron else (\"product\",M,P,r) for A,M,P,r in aspects ]\n",
    "    \n",
    "    dic = {\"aspect_pairs\" : aspects}\n",
    "\n",
    "    return dic"
   ]
  },
  {
   "cell_type": "code",
   "execution_count": 44,
   "metadata": {},
   "outputs": [],
   "source": [
    "# UNCOMMENT TO RUN\n",
    "df[\"Aspects\"] = df[\"cleaned\"].apply(lambda x: apply_extraction(x))\n",
    "df.to_csv(\"ExtractedAspects.csv\")"
   ]
  },
  {
   "cell_type": "markdown",
   "metadata": {},
   "source": [
    "## Extract Top Aspect Words from Aspects Extracted by Function"
   ]
  },
  {
   "cell_type": "code",
   "execution_count": 47,
   "metadata": {},
   "outputs": [],
   "source": [
    "df[\"Aspects\"] = df[\"Aspects\"].apply(lambda x: eval(x))"
   ]
  },
  {
   "cell_type": "code",
   "execution_count": 48,
   "metadata": {},
   "outputs": [],
   "source": [
    "def extract_aspect(x):\n",
    "    elements = [item for sublist in x.values() for item in sublist]\n",
    "    aspect = [x[0] for x in elements]\n",
    "    #aspect = ' '.join(aspect)\n",
    "    return aspect"
   ]
  },
  {
   "cell_type": "code",
   "execution_count": 49,
   "metadata": {},
   "outputs": [],
   "source": [
    "def extract_sentiment(x):\n",
    "    x = [item for sublist in x.values() for item in sublist]\n",
    "    x = [i[2] for i in x]\n",
    "    return x"
   ]
  },
  {
   "cell_type": "code",
   "execution_count": 50,
   "metadata": {},
   "outputs": [],
   "source": [
    "#def extract_nouns(x):\n",
    "    #nouns = []\n",
    "   # doc = nlp(x)\n",
    "    #for token in doc:\n",
    "        #if token.pos_ == \"NOUN\":\n",
    "          #  nouns.append(token)\n",
    "   # return nouns"
   ]
  },
  {
   "cell_type": "code",
   "execution_count": 51,
   "metadata": {},
   "outputs": [],
   "source": [
    "#def extract_noun_adj(x):\n",
    "    #noun = []\n",
    "    #adj = []\n",
    "    #elements = [item for sublist in x.values() for item in sublist]\n",
    "    #n = [i[0] for i in elements]\n",
    "    #n = ' '.join(n)\n",
    "    #noun.append(n)\n",
    "    #a = [i[1] for i in elements]\n",
    "    #a = ' '.join(a)\n",
    "    #adj.append(a)\n",
    "    #return noun, adj"
   ]
  },
  {
   "cell_type": "code",
   "execution_count": 52,
   "metadata": {},
   "outputs": [],
   "source": [
    "# Run functions\n",
    "df[\"Aspect_words\"] = df[\"Aspects\"].apply(lambda x: extract_aspect(x))\n",
    "df[\"Sentiment\"] = df[\"Aspects\"].apply(lambda x: extract_sentiment(x))\n",
    "#df[\"Nouns\"] = df[\"review\"].apply(lambda x: extract_nouns(x))\n",
    "#df[\"NounAdj\"] = df[\"Aspects\"].apply(lambda x: extract_noun_adj(x))"
   ]
  },
  {
   "cell_type": "code",
   "execution_count": 53,
   "metadata": {},
   "outputs": [
    {
     "data": {
      "text/html": [
       "<div>\n",
       "<style scoped>\n",
       "    .dataframe tbody tr th:only-of-type {\n",
       "        vertical-align: middle;\n",
       "    }\n",
       "\n",
       "    .dataframe tbody tr th {\n",
       "        vertical-align: top;\n",
       "    }\n",
       "\n",
       "    .dataframe thead th {\n",
       "        text-align: right;\n",
       "    }\n",
       "</style>\n",
       "<table border=\"1\" class=\"dataframe\">\n",
       "  <thead>\n",
       "    <tr style=\"text-align: right;\">\n",
       "      <th></th>\n",
       "      <th>Unnamed: 0</th>\n",
       "      <th>OrigInd</th>\n",
       "      <th>Category</th>\n",
       "      <th>Town</th>\n",
       "      <th>Rating</th>\n",
       "      <th>review</th>\n",
       "      <th>sentences</th>\n",
       "      <th>len</th>\n",
       "      <th>cleaned</th>\n",
       "      <th>Aspects</th>\n",
       "      <th>Aspect_words</th>\n",
       "      <th>Sentiment</th>\n",
       "    </tr>\n",
       "  </thead>\n",
       "  <tbody>\n",
       "    <tr>\n",
       "      <th>55396</th>\n",
       "      <td>9441</td>\n",
       "      <td>9441</td>\n",
       "      <td>Attractions</td>\n",
       "      <td>Arundel</td>\n",
       "      <td>3</td>\n",
       "      <td>Yes to the castle, NO to the restaurant  The c...</td>\n",
       "      <td>The grounds are also beautiful and a must.</td>\n",
       "      <td>42</td>\n",
       "      <td>ground also beautiful must</td>\n",
       "      <td>{'aspect_pairs': [('ground', 'also beautiful',...</td>\n",
       "      <td>[ground]</td>\n",
       "      <td>[0.5994]</td>\n",
       "    </tr>\n",
       "    <tr>\n",
       "      <th>40868</th>\n",
       "      <td>6577</td>\n",
       "      <td>6577</td>\n",
       "      <td>Food</td>\n",
       "      <td>Bognor</td>\n",
       "      <td>5</td>\n",
       "      <td>Great pub Popped in with elderly Mum on very h...</td>\n",
       "      <td>which they gave with biscuits, staff were so f...</td>\n",
       "      <td>71</td>\n",
       "      <td>gave biscuit staff friendly lovely atmosphere</td>\n",
       "      <td>{'aspect_pairs': [('atmosphere', 'friendly', 0...</td>\n",
       "      <td>[atmosphere, atmosphere]</td>\n",
       "      <td>[0.4939, 0.5859]</td>\n",
       "    </tr>\n",
       "    <tr>\n",
       "      <th>14900</th>\n",
       "      <td>1764</td>\n",
       "      <td>1764</td>\n",
       "      <td>Accommodation</td>\n",
       "      <td>Bognor</td>\n",
       "      <td>5</td>\n",
       "      <td>Fab Hotel Well this hotel is a touch dated and...</td>\n",
       "      <td>Fab Hotel Well this hotel is a touch dated and...</td>\n",
       "      <td>95</td>\n",
       "      <td>fab hotel well hotel touch dated stayed majori...</td>\n",
       "      <td>{'aspect_pairs': [('hotel', 'fab', 0.4588, 1),...</td>\n",
       "      <td>[hotel, guest, touch]</td>\n",
       "      <td>[0.4588, 0.0, 0.0]</td>\n",
       "    </tr>\n",
       "    <tr>\n",
       "      <th>24728</th>\n",
       "      <td>3456</td>\n",
       "      <td>3456</td>\n",
       "      <td>Food</td>\n",
       "      <td>Littlehampton</td>\n",
       "      <td>4</td>\n",
       "      <td>Meal for two We had a lovely meal, was served ...</td>\n",
       "      <td>Food was delicious, no problems.</td>\n",
       "      <td>32</td>\n",
       "      <td>food delicious problem</td>\n",
       "      <td>{'aspect_pairs': [('problem', 'delicious', 0.5...</td>\n",
       "      <td>[problem]</td>\n",
       "      <td>[0.5719]</td>\n",
       "    </tr>\n",
       "    <tr>\n",
       "      <th>34528</th>\n",
       "      <td>5306</td>\n",
       "      <td>5306</td>\n",
       "      <td>Food</td>\n",
       "      <td>Littlehampton</td>\n",
       "      <td>1</td>\n",
       "      <td>Such poor food and service Came for what looke...</td>\n",
       "      <td>Cup of tea not made or served, to top it off o...</td>\n",
       "      <td>91</td>\n",
       "      <td>cup tea not made served top sandwich given wro...</td>\n",
       "      <td>{'aspect_pairs': [('person', 'wrong', -0.4767,...</td>\n",
       "      <td>[person]</td>\n",
       "      <td>[-0.4767]</td>\n",
       "    </tr>\n",
       "  </tbody>\n",
       "</table>\n",
       "</div>"
      ],
      "text/plain": [
       "       Unnamed: 0  OrigInd       Category           Town  Rating  \\\n",
       "55396        9441     9441    Attractions        Arundel       3   \n",
       "40868        6577     6577           Food         Bognor       5   \n",
       "14900        1764     1764  Accommodation         Bognor       5   \n",
       "24728        3456     3456           Food  Littlehampton       4   \n",
       "34528        5306     5306           Food  Littlehampton       1   \n",
       "\n",
       "                                                  review  \\\n",
       "55396  Yes to the castle, NO to the restaurant  The c...   \n",
       "40868  Great pub Popped in with elderly Mum on very h...   \n",
       "14900  Fab Hotel Well this hotel is a touch dated and...   \n",
       "24728  Meal for two We had a lovely meal, was served ...   \n",
       "34528  Such poor food and service Came for what looke...   \n",
       "\n",
       "                                               sentences  len  \\\n",
       "55396         The grounds are also beautiful and a must.   42   \n",
       "40868  which they gave with biscuits, staff were so f...   71   \n",
       "14900  Fab Hotel Well this hotel is a touch dated and...   95   \n",
       "24728                   Food was delicious, no problems.   32   \n",
       "34528  Cup of tea not made or served, to top it off o...   91   \n",
       "\n",
       "                                                 cleaned  \\\n",
       "55396                         ground also beautiful must   \n",
       "40868      gave biscuit staff friendly lovely atmosphere   \n",
       "14900  fab hotel well hotel touch dated stayed majori...   \n",
       "24728                             food delicious problem   \n",
       "34528  cup tea not made served top sandwich given wro...   \n",
       "\n",
       "                                                 Aspects  \\\n",
       "55396  {'aspect_pairs': [('ground', 'also beautiful',...   \n",
       "40868  {'aspect_pairs': [('atmosphere', 'friendly', 0...   \n",
       "14900  {'aspect_pairs': [('hotel', 'fab', 0.4588, 1),...   \n",
       "24728  {'aspect_pairs': [('problem', 'delicious', 0.5...   \n",
       "34528  {'aspect_pairs': [('person', 'wrong', -0.4767,...   \n",
       "\n",
       "                   Aspect_words           Sentiment  \n",
       "55396                  [ground]            [0.5994]  \n",
       "40868  [atmosphere, atmosphere]    [0.4939, 0.5859]  \n",
       "14900     [hotel, guest, touch]  [0.4588, 0.0, 0.0]  \n",
       "24728                 [problem]            [0.5719]  \n",
       "34528                  [person]           [-0.4767]  "
      ]
     },
     "execution_count": 53,
     "metadata": {},
     "output_type": "execute_result"
    }
   ],
   "source": [
    "df.sample(5)"
   ]
  },
  {
   "cell_type": "code",
   "execution_count": 54,
   "metadata": {},
   "outputs": [
    {
     "data": {
      "text/plain": [
       "(111655, 12)"
      ]
     },
     "execution_count": 54,
     "metadata": {},
     "output_type": "execute_result"
    }
   ],
   "source": [
    "# Explode the 'aspects' and 'sentiment' columns into separate rows\n",
    "df_explode = df.apply(lambda x: x.explode() if x.name in ['Aspect_words','Sentiment'] else x)\n",
    "df_explode.shape"
   ]
  },
  {
   "cell_type": "markdown",
   "metadata": {},
   "source": [
    "### Cleaning"
   ]
  },
  {
   "cell_type": "code",
   "execution_count": 55,
   "metadata": {},
   "outputs": [
    {
     "data": {
      "text/plain": [
       "(16504, 12)"
      ]
     },
     "execution_count": 55,
     "metadata": {},
     "output_type": "execute_result"
    }
   ],
   "source": [
    "# Rows with no aspects extracted\n",
    "no_aspects = df_explode[df_explode[\"Aspect_words\"].isnull()]\n",
    "#no_aspects.to_csv(\"no_aspects_extracted.csv\")\n",
    "no_aspects.shape"
   ]
  },
  {
   "cell_type": "code",
   "execution_count": 56,
   "metadata": {},
   "outputs": [
    {
     "data": {
      "text/plain": [
       "(95151, 12)"
      ]
     },
     "execution_count": 56,
     "metadata": {},
     "output_type": "execute_result"
    }
   ],
   "source": [
    "# Create new dataframe with just the results with extracted aspects\n",
    "aspects = df_explode[~df_explode[\"Aspect_words\"].isnull()]\n",
    "aspects.shape"
   ]
  },
  {
   "cell_type": "code",
   "execution_count": 57,
   "metadata": {},
   "outputs": [
    {
     "data": {
      "text/html": [
       "<div>\n",
       "<style scoped>\n",
       "    .dataframe tbody tr th:only-of-type {\n",
       "        vertical-align: middle;\n",
       "    }\n",
       "\n",
       "    .dataframe tbody tr th {\n",
       "        vertical-align: top;\n",
       "    }\n",
       "\n",
       "    .dataframe thead th {\n",
       "        text-align: right;\n",
       "    }\n",
       "</style>\n",
       "<table border=\"1\" class=\"dataframe\">\n",
       "  <thead>\n",
       "    <tr style=\"text-align: right;\">\n",
       "      <th></th>\n",
       "      <th>Unnamed: 0</th>\n",
       "      <th>OrigInd</th>\n",
       "      <th>Category</th>\n",
       "      <th>Town</th>\n",
       "      <th>Rating</th>\n",
       "      <th>review</th>\n",
       "      <th>sentences</th>\n",
       "      <th>len</th>\n",
       "      <th>cleaned</th>\n",
       "      <th>Aspects</th>\n",
       "      <th>Aspect_words</th>\n",
       "      <th>Sentiment</th>\n",
       "    </tr>\n",
       "  </thead>\n",
       "  <tbody>\n",
       "    <tr>\n",
       "      <th>0</th>\n",
       "      <td>0</td>\n",
       "      <td>0</td>\n",
       "      <td>Accommodation</td>\n",
       "      <td>Bognor</td>\n",
       "      <td>4</td>\n",
       "      <td>Nice break, shame about the accommodation... W...</td>\n",
       "      <td>Nice break, shame about the accommodation... W...</td>\n",
       "      <td>173</td>\n",
       "      <td>nice break shame accommodation booked night st...</td>\n",
       "      <td>{'aspect_pairs': [('shame', 'nice', 0.4215, 1)...</td>\n",
       "      <td>shame</td>\n",
       "      <td>0.4215</td>\n",
       "    </tr>\n",
       "    <tr>\n",
       "      <th>0</th>\n",
       "      <td>0</td>\n",
       "      <td>0</td>\n",
       "      <td>Accommodation</td>\n",
       "      <td>Bognor</td>\n",
       "      <td>4</td>\n",
       "      <td>Nice break, shame about the accommodation... W...</td>\n",
       "      <td>Nice break, shame about the accommodation... W...</td>\n",
       "      <td>173</td>\n",
       "      <td>nice break shame accommodation booked night st...</td>\n",
       "      <td>{'aspect_pairs': [('shame', 'nice', 0.4215, 1)...</td>\n",
       "      <td>kid</td>\n",
       "      <td>0.0</td>\n",
       "    </tr>\n",
       "    <tr>\n",
       "      <th>0</th>\n",
       "      <td>0</td>\n",
       "      <td>0</td>\n",
       "      <td>Accommodation</td>\n",
       "      <td>Bognor</td>\n",
       "      <td>4</td>\n",
       "      <td>Nice break, shame about the accommodation... W...</td>\n",
       "      <td>Nice break, shame about the accommodation... W...</td>\n",
       "      <td>173</td>\n",
       "      <td>nice break shame accommodation booked night st...</td>\n",
       "      <td>{'aspect_pairs': [('shame', 'nice', 0.4215, 1)...</td>\n",
       "      <td>kid</td>\n",
       "      <td>0.0</td>\n",
       "    </tr>\n",
       "    <tr>\n",
       "      <th>0</th>\n",
       "      <td>0</td>\n",
       "      <td>0</td>\n",
       "      <td>Accommodation</td>\n",
       "      <td>Bognor</td>\n",
       "      <td>4</td>\n",
       "      <td>Nice break, shame about the accommodation... W...</td>\n",
       "      <td>Nice break, shame about the accommodation... W...</td>\n",
       "      <td>173</td>\n",
       "      <td>nice break shame accommodation booked night st...</td>\n",
       "      <td>{'aspect_pairs': [('shame', 'nice', 0.4215, 1)...</td>\n",
       "      <td>treat</td>\n",
       "      <td>0.0</td>\n",
       "    </tr>\n",
       "    <tr>\n",
       "      <th>0</th>\n",
       "      <td>0</td>\n",
       "      <td>0</td>\n",
       "      <td>Accommodation</td>\n",
       "      <td>Bognor</td>\n",
       "      <td>4</td>\n",
       "      <td>Nice break, shame about the accommodation... W...</td>\n",
       "      <td>Nice break, shame about the accommodation... W...</td>\n",
       "      <td>173</td>\n",
       "      <td>nice break shame accommodation booked night st...</td>\n",
       "      <td>{'aspect_pairs': [('shame', 'nice', 0.4215, 1)...</td>\n",
       "      <td>accommodation</td>\n",
       "      <td>0.0</td>\n",
       "    </tr>\n",
       "  </tbody>\n",
       "</table>\n",
       "</div>"
      ],
      "text/plain": [
       "   Unnamed: 0  OrigInd       Category    Town  Rating  \\\n",
       "0           0        0  Accommodation  Bognor       4   \n",
       "0           0        0  Accommodation  Bognor       4   \n",
       "0           0        0  Accommodation  Bognor       4   \n",
       "0           0        0  Accommodation  Bognor       4   \n",
       "0           0        0  Accommodation  Bognor       4   \n",
       "\n",
       "                                              review  \\\n",
       "0  Nice break, shame about the accommodation... W...   \n",
       "0  Nice break, shame about the accommodation... W...   \n",
       "0  Nice break, shame about the accommodation... W...   \n",
       "0  Nice break, shame about the accommodation... W...   \n",
       "0  Nice break, shame about the accommodation... W...   \n",
       "\n",
       "                                           sentences  len  \\\n",
       "0  Nice break, shame about the accommodation... W...  173   \n",
       "0  Nice break, shame about the accommodation... W...  173   \n",
       "0  Nice break, shame about the accommodation... W...  173   \n",
       "0  Nice break, shame about the accommodation... W...  173   \n",
       "0  Nice break, shame about the accommodation... W...  173   \n",
       "\n",
       "                                             cleaned  \\\n",
       "0  nice break shame accommodation booked night st...   \n",
       "0  nice break shame accommodation booked night st...   \n",
       "0  nice break shame accommodation booked night st...   \n",
       "0  nice break shame accommodation booked night st...   \n",
       "0  nice break shame accommodation booked night st...   \n",
       "\n",
       "                                             Aspects   Aspect_words Sentiment  \n",
       "0  {'aspect_pairs': [('shame', 'nice', 0.4215, 1)...          shame    0.4215  \n",
       "0  {'aspect_pairs': [('shame', 'nice', 0.4215, 1)...            kid       0.0  \n",
       "0  {'aspect_pairs': [('shame', 'nice', 0.4215, 1)...            kid       0.0  \n",
       "0  {'aspect_pairs': [('shame', 'nice', 0.4215, 1)...          treat       0.0  \n",
       "0  {'aspect_pairs': [('shame', 'nice', 0.4215, 1)...  accommodation       0.0  "
      ]
     },
     "execution_count": 57,
     "metadata": {},
     "output_type": "execute_result"
    }
   ],
   "source": [
    "# Look at head\n",
    "aspects.head()"
   ]
  },
  {
   "cell_type": "code",
   "execution_count": 58,
   "metadata": {},
   "outputs": [],
   "source": [
    "# Split into categories\n",
    "aspects_accom = aspects[aspects[\"Category\"]==\"Accommodation\"]\n",
    "aspects_food = aspects[aspects[\"Category\"] ==\"Food\"]\n",
    "aspects_attract = aspects[aspects[\"Category\"] == \"Attractions\"]"
   ]
  },
  {
   "cell_type": "code",
   "execution_count": 59,
   "metadata": {},
   "outputs": [],
   "source": [
    "# Set Sentiment score to float\n",
    "aspects[\"Sentiment\"] = aspects[\"Sentiment\"].astype('float')"
   ]
  },
  {
   "cell_type": "code",
   "execution_count": 60,
   "metadata": {},
   "outputs": [
    {
     "data": {
      "text/html": [
       "<div>\n",
       "<style scoped>\n",
       "    .dataframe tbody tr th:only-of-type {\n",
       "        vertical-align: middle;\n",
       "    }\n",
       "\n",
       "    .dataframe tbody tr th {\n",
       "        vertical-align: top;\n",
       "    }\n",
       "\n",
       "    .dataframe thead th {\n",
       "        text-align: right;\n",
       "    }\n",
       "</style>\n",
       "<table border=\"1\" class=\"dataframe\">\n",
       "  <thead>\n",
       "    <tr style=\"text-align: right;\">\n",
       "      <th></th>\n",
       "      <th>Aspect</th>\n",
       "      <th>Category</th>\n",
       "      <th>Sentiment</th>\n",
       "      <th>Count</th>\n",
       "    </tr>\n",
       "  </thead>\n",
       "  <tbody>\n",
       "    <tr>\n",
       "      <th>8135</th>\n",
       "      <td>food</td>\n",
       "      <td>Food</td>\n",
       "      <td>0.0000</td>\n",
       "      <td>1142</td>\n",
       "    </tr>\n",
       "    <tr>\n",
       "      <th>17340</th>\n",
       "      <td>room</td>\n",
       "      <td>Accommodation</td>\n",
       "      <td>0.0000</td>\n",
       "      <td>917</td>\n",
       "    </tr>\n",
       "    <tr>\n",
       "      <th>19605</th>\n",
       "      <td>staff</td>\n",
       "      <td>Food</td>\n",
       "      <td>0.0000</td>\n",
       "      <td>807</td>\n",
       "    </tr>\n",
       "    <tr>\n",
       "      <th>16951</th>\n",
       "      <td>restaurant</td>\n",
       "      <td>Food</td>\n",
       "      <td>0.0000</td>\n",
       "      <td>630</td>\n",
       "    </tr>\n",
       "    <tr>\n",
       "      <th>18229</th>\n",
       "      <td>service</td>\n",
       "      <td>Food</td>\n",
       "      <td>0.0000</td>\n",
       "      <td>572</td>\n",
       "    </tr>\n",
       "    <tr>\n",
       "      <th>19625</th>\n",
       "      <td>staff</td>\n",
       "      <td>Food</td>\n",
       "      <td>0.4939</td>\n",
       "      <td>555</td>\n",
       "    </tr>\n",
       "    <tr>\n",
       "      <th>12660</th>\n",
       "      <td>menu</td>\n",
       "      <td>Food</td>\n",
       "      <td>0.0000</td>\n",
       "      <td>528</td>\n",
       "    </tr>\n",
       "    <tr>\n",
       "      <th>12457</th>\n",
       "      <td>meal</td>\n",
       "      <td>Food</td>\n",
       "      <td>0.0000</td>\n",
       "      <td>496</td>\n",
       "    </tr>\n",
       "    <tr>\n",
       "      <th>20563</th>\n",
       "      <td>table</td>\n",
       "      <td>Food</td>\n",
       "      <td>0.0000</td>\n",
       "      <td>451</td>\n",
       "    </tr>\n",
       "    <tr>\n",
       "      <th>8150</th>\n",
       "      <td>food</td>\n",
       "      <td>Food</td>\n",
       "      <td>0.4404</td>\n",
       "      <td>428</td>\n",
       "    </tr>\n",
       "  </tbody>\n",
       "</table>\n",
       "</div>"
      ],
      "text/plain": [
       "           Aspect       Category  Sentiment  Count\n",
       "8135         food           Food     0.0000   1142\n",
       "17340        room  Accommodation     0.0000    917\n",
       "19605       staff           Food     0.0000    807\n",
       "16951  restaurant           Food     0.0000    630\n",
       "18229     service           Food     0.0000    572\n",
       "19625       staff           Food     0.4939    555\n",
       "12660        menu           Food     0.0000    528\n",
       "12457        meal           Food     0.0000    496\n",
       "20563       table           Food     0.0000    451\n",
       "8150         food           Food     0.4404    428"
      ]
     },
     "execution_count": 60,
     "metadata": {},
     "output_type": "execute_result"
    }
   ],
   "source": [
    "# Create dataframes of aspects, counts and average sentiment values\n",
    "df_aspect_words = pd.DataFrame(aspects.groupby(['Aspect_words','Category',\"Sentiment\"],as_index = False)[\"Town\"].count())\n",
    "df_aspect_words.columns = [\"Aspect\",\"Category\",\"Sentiment\",\"Count\"]\n",
    "df_aspect_words.sort_values(\"Count\",ascending = False).head(10)"
   ]
  },
  {
   "cell_type": "code",
   "execution_count": 61,
   "metadata": {},
   "outputs": [
    {
     "data": {
      "text/plain": [
       "5541"
      ]
     },
     "execution_count": 61,
     "metadata": {},
     "output_type": "execute_result"
    }
   ],
   "source": [
    "# Number of unique words in Aspects\n",
    "df_aspect_words[\"Aspect\"].nunique()"
   ]
  },
  {
   "cell_type": "code",
   "execution_count": 62,
   "metadata": {},
   "outputs": [],
   "source": [
    "# Dataframe of unique words\n",
    "unique = pd.DataFrame(df_aspect_words[\"Aspect\"].unique())"
   ]
  },
  {
   "cell_type": "code",
   "execution_count": 63,
   "metadata": {},
   "outputs": [],
   "source": [
    "accom = df_aspect_words[df_aspect_words[\"Category\"] == \"Accommodation\"].groupby([\"Aspect\"],as_index = False)[\"Sentiment\"].mean()\n",
    "food = df_aspect_words[df_aspect_words[\"Category\"] == \"Food\"].groupby([\"Aspect\"],as_index = False)[\"Sentiment\"].mean()\n",
    "attract = df_aspect_words[df_aspect_words[\"Category\"] == \"Attractions\"].groupby([\"Aspect\"],as_index = False)[\"Sentiment\"].mean()"
   ]
  },
  {
   "cell_type": "code",
   "execution_count": 226,
   "metadata": {},
   "outputs": [
    {
     "data": {
      "text/html": [
       "<div>\n",
       "<style scoped>\n",
       "    .dataframe tbody tr th:only-of-type {\n",
       "        vertical-align: middle;\n",
       "    }\n",
       "\n",
       "    .dataframe tbody tr th {\n",
       "        vertical-align: top;\n",
       "    }\n",
       "\n",
       "    .dataframe thead th {\n",
       "        text-align: right;\n",
       "    }\n",
       "</style>\n",
       "<table border=\"1\" class=\"dataframe\">\n",
       "  <thead>\n",
       "    <tr style=\"text-align: right;\">\n",
       "      <th></th>\n",
       "      <th>Aspect</th>\n",
       "      <th>Sentiment</th>\n",
       "    </tr>\n",
       "  </thead>\n",
       "  <tbody>\n",
       "    <tr>\n",
       "      <th>1243</th>\n",
       "      <td>gulls</td>\n",
       "      <td>0.00000</td>\n",
       "    </tr>\n",
       "    <tr>\n",
       "      <th>1752</th>\n",
       "      <td>nights.i</td>\n",
       "      <td>0.00000</td>\n",
       "    </tr>\n",
       "    <tr>\n",
       "      <th>1849</th>\n",
       "      <td>paint</td>\n",
       "      <td>-0.10455</td>\n",
       "    </tr>\n",
       "    <tr>\n",
       "      <th>2838</th>\n",
       "      <td>video</td>\n",
       "      <td>0.00000</td>\n",
       "    </tr>\n",
       "    <tr>\n",
       "      <th>46</th>\n",
       "      <td>accidents</td>\n",
       "      <td>0.63690</td>\n",
       "    </tr>\n",
       "  </tbody>\n",
       "</table>\n",
       "</div>"
      ],
      "text/plain": [
       "         Aspect  Sentiment\n",
       "1243      gulls    0.00000\n",
       "1752   nights.i    0.00000\n",
       "1849      paint   -0.10455\n",
       "2838      video    0.00000\n",
       "46    accidents    0.63690"
      ]
     },
     "execution_count": 226,
     "metadata": {},
     "output_type": "execute_result"
    }
   ],
   "source": [
    "accom.sample(5)"
   ]
  },
  {
   "cell_type": "code",
   "execution_count": 2710,
   "metadata": {},
   "outputs": [],
   "source": [
    "# Send aspects dataframe to csv\n",
    "#unique.to_csv(\"ExtractedAspects.csv\")"
   ]
  },
  {
   "cell_type": "markdown",
   "metadata": {},
   "source": [
    "# Section 5: Word Embeddings"
   ]
  },
  {
   "cell_type": "markdown",
   "metadata": {},
   "source": [
    "### Create unique word lists and spacy word embeddings for each category"
   ]
  },
  {
   "cell_type": "code",
   "execution_count": 227,
   "metadata": {},
   "outputs": [],
   "source": [
    "from sklearn import cluster \n",
    "from collections import defaultdict"
   ]
  },
  {
   "cell_type": "code",
   "execution_count": 228,
   "metadata": {},
   "outputs": [],
   "source": [
    "# Collect unique aspects for each category\n",
    "unique_accom = pd.DataFrame(accom[\"Aspect\"].unique())\n",
    "unique_food = pd.DataFrame(food[\"Aspect\"].unique())\n",
    "unique_attract = pd.DataFrame(attract[\"Aspect\"].unique())"
   ]
  },
  {
   "cell_type": "code",
   "execution_count": 229,
   "metadata": {},
   "outputs": [],
   "source": [
    "# Put to a list\n",
    "unique_accom_aspects = list(unique_accom[0])\n",
    "unique_food_aspects = list(unique_food[0])\n",
    "unique_attract_aspects = list(unique_attract[0])"
   ]
  },
  {
   "cell_type": "code",
   "execution_count": 230,
   "metadata": {},
   "outputs": [
    {
     "name": "stdout",
     "output_type": "stream",
     "text": [
      "2981\n",
      "3629\n",
      "1707\n"
     ]
    }
   ],
   "source": [
    "#Length of unique aspects lists\n",
    "print(len(unique_accom_aspects))\n",
    "print(len(unique_food_aspects))\n",
    "print(len(unique_attract_aspects))"
   ]
  },
  {
   "cell_type": "code",
   "execution_count": 231,
   "metadata": {},
   "outputs": [],
   "source": [
    "# Vectorize with Spacy - 300 character vectors from the large spacy english dictionary\n",
    "def vector_words(unique_aspects):\n",
    "    asp_vectors = []\n",
    "    for aspect in unique_aspects:\n",
    "        token = nlp(aspect)\n",
    "        asp_vectors.append(token.vector)\n",
    "    return asp_vectors"
   ]
  },
  {
   "cell_type": "code",
   "execution_count": 232,
   "metadata": {},
   "outputs": [],
   "source": [
    "# Run function to create vectors\n",
    "vect_accom = vector_words(unique_accom_aspects)\n",
    "vect_food = vector_words(unique_food_aspects)\n",
    "vect_attract = vector_words(unique_attract_aspects)"
   ]
  },
  {
   "cell_type": "markdown",
   "metadata": {},
   "source": [
    "### Find the optimum number of clusters for each category"
   ]
  },
  {
   "cell_type": "code",
   "execution_count": 233,
   "metadata": {},
   "outputs": [],
   "source": [
    "# Function to try different values for number of clusters and check the elbow graph for maximum curvature\n",
    "def elbow_func(dtm):\n",
    "    Sum_of_squared_distances = []\n",
    "    scores = []\n",
    "    n_clusters = range(2,26,1)\n",
    "    for n in n_clusters:\n",
    "        km = KMeans(n_clusters = n)\n",
    "        km_fit = km.fit(dtm)\n",
    "        labels = km.labels_\n",
    "        Sum_of_squared_distances.append(km.inertia_)\n",
    "        preds = km.predict(dtm)\n",
    "        centers = km.cluster_centers_\n",
    "        score = silhouette_score(dtm, preds)\n",
    "        scores.append(score)\n",
    "              \n",
    "    return Sum_of_squared_distances, scores"
   ]
  },
  {
   "cell_type": "code",
   "execution_count": 239,
   "metadata": {},
   "outputs": [],
   "source": [
    "# Elbow graph to find optimum number of topics\n",
    "def plot_elbow(data,name,vline_marker):\n",
    "    K = range(2,26,1)\n",
    "    plt.plot(K, data)\n",
    "    plt.xlabel('k')\n",
    "    plt.ylabel('Sum_of_squared_distances')\n",
    "    plt.title('Elbow Method For Optimal k:' + name)\n",
    "    y = data\n",
    "    x = range(1, len(y)+1)\n",
    "    # note sensitivity parameter (S) is how many flat points in the data before declaring a knee\n",
    "    #kn = KneeLocator(x, y, curve='convex', direction='decreasing') \n",
    "    #print(\"Knee locator value:\",kn.knee)\n",
    "    #plt.vlines(kn.knee,plt.ylim()[0], plt.ylim()[1], linestyles='dashed',linewidth = 1, color = \"red\")\n",
    "    plt.vlines(vline_marker,plt.ylim()[0], plt.ylim()[1], linestyles='dashed',linewidth = 1, color = \"grey\")\n",
    "    plt.show()"
   ]
  },
  {
   "cell_type": "markdown",
   "metadata": {},
   "source": [
    "### Accommodation"
   ]
  },
  {
   "cell_type": "code",
   "execution_count": 235,
   "metadata": {},
   "outputs": [],
   "source": [
    "# Run function 1\n",
    "elbow,scores = elbow_func(vect_accom)"
   ]
  },
  {
   "cell_type": "code",
   "execution_count": 237,
   "metadata": {},
   "outputs": [
    {
     "data": {
      "text/html": [
       "<div>\n",
       "<style scoped>\n",
       "    .dataframe tbody tr th:only-of-type {\n",
       "        vertical-align: middle;\n",
       "    }\n",
       "\n",
       "    .dataframe tbody tr th {\n",
       "        vertical-align: top;\n",
       "    }\n",
       "\n",
       "    .dataframe thead th {\n",
       "        text-align: right;\n",
       "    }\n",
       "</style>\n",
       "<table border=\"1\" class=\"dataframe\">\n",
       "  <thead>\n",
       "    <tr style=\"text-align: right;\">\n",
       "      <th></th>\n",
       "      <th>Clusters</th>\n",
       "      <th>Scores</th>\n",
       "    </tr>\n",
       "  </thead>\n",
       "  <tbody>\n",
       "    <tr>\n",
       "      <th>0</th>\n",
       "      <td>2</td>\n",
       "      <td>0.048283</td>\n",
       "    </tr>\n",
       "    <tr>\n",
       "      <th>1</th>\n",
       "      <td>3</td>\n",
       "      <td>0.046481</td>\n",
       "    </tr>\n",
       "    <tr>\n",
       "      <th>2</th>\n",
       "      <td>4</td>\n",
       "      <td>0.050000</td>\n",
       "    </tr>\n",
       "    <tr>\n",
       "      <th>3</th>\n",
       "      <td>5</td>\n",
       "      <td>0.039314</td>\n",
       "    </tr>\n",
       "    <tr>\n",
       "      <th>4</th>\n",
       "      <td>6</td>\n",
       "      <td>0.040846</td>\n",
       "    </tr>\n",
       "    <tr>\n",
       "      <th>5</th>\n",
       "      <td>7</td>\n",
       "      <td>0.040801</td>\n",
       "    </tr>\n",
       "    <tr>\n",
       "      <th>6</th>\n",
       "      <td>8</td>\n",
       "      <td>0.038850</td>\n",
       "    </tr>\n",
       "    <tr>\n",
       "      <th>7</th>\n",
       "      <td>9</td>\n",
       "      <td>0.037708</td>\n",
       "    </tr>\n",
       "    <tr>\n",
       "      <th>8</th>\n",
       "      <td>10</td>\n",
       "      <td>0.038008</td>\n",
       "    </tr>\n",
       "    <tr>\n",
       "      <th>9</th>\n",
       "      <td>11</td>\n",
       "      <td>-0.026058</td>\n",
       "    </tr>\n",
       "  </tbody>\n",
       "</table>\n",
       "</div>"
      ],
      "text/plain": [
       "   Clusters    Scores\n",
       "0         2  0.048283\n",
       "1         3  0.046481\n",
       "2         4  0.050000\n",
       "3         5  0.039314\n",
       "4         6  0.040846\n",
       "5         7  0.040801\n",
       "6         8  0.038850\n",
       "7         9  0.037708\n",
       "8        10  0.038008\n",
       "9        11 -0.026058"
      ]
     },
     "execution_count": 237,
     "metadata": {},
     "output_type": "execute_result"
    }
   ],
   "source": [
    "# Print the inertia scores for cluster numbers\n",
    "num = list(range(2,26,1))\n",
    "pd.DataFrame({\"Clusters\":num,\"Scores\":scores}).head(10)"
   ]
  },
  {
   "cell_type": "code",
   "execution_count": 240,
   "metadata": {},
   "outputs": [
    {
     "data": {
      "image/png": "[encoded data removed]",
      "text/plain": [
       "<Figure size 432x288 with 1 Axes>"
      ]
     },
     "metadata": {
      "needs_background": "light"
     },
     "output_type": "display_data"
    }
   ],
   "source": [
    "# Run plot function\n",
    "plot_elbow(elbow,\" Accommodation\",4)"
   ]
  },
  {
   "cell_type": "markdown",
   "metadata": {},
   "source": [
    "Highest inertia score is at 4 clusters"
   ]
  },
  {
   "cell_type": "markdown",
   "metadata": {},
   "source": [
    "### Food"
   ]
  },
  {
   "cell_type": "code",
   "execution_count": 241,
   "metadata": {},
   "outputs": [],
   "source": [
    "elbow,scores = elbow_func(vect_food)"
   ]
  },
  {
   "cell_type": "code",
   "execution_count": 242,
   "metadata": {},
   "outputs": [
    {
     "data": {
      "text/html": [
       "<div>\n",
       "<style scoped>\n",
       "    .dataframe tbody tr th:only-of-type {\n",
       "        vertical-align: middle;\n",
       "    }\n",
       "\n",
       "    .dataframe tbody tr th {\n",
       "        vertical-align: top;\n",
       "    }\n",
       "\n",
       "    .dataframe thead th {\n",
       "        text-align: right;\n",
       "    }\n",
       "</style>\n",
       "<table border=\"1\" class=\"dataframe\">\n",
       "  <thead>\n",
       "    <tr style=\"text-align: right;\">\n",
       "      <th></th>\n",
       "      <th>Clusters</th>\n",
       "      <th>Scores</th>\n",
       "    </tr>\n",
       "  </thead>\n",
       "  <tbody>\n",
       "    <tr>\n",
       "      <th>0</th>\n",
       "      <td>2</td>\n",
       "      <td>0.099849</td>\n",
       "    </tr>\n",
       "    <tr>\n",
       "      <th>1</th>\n",
       "      <td>3</td>\n",
       "      <td>0.057975</td>\n",
       "    </tr>\n",
       "    <tr>\n",
       "      <th>2</th>\n",
       "      <td>4</td>\n",
       "      <td>0.054059</td>\n",
       "    </tr>\n",
       "    <tr>\n",
       "      <th>3</th>\n",
       "      <td>5</td>\n",
       "      <td>0.053144</td>\n",
       "    </tr>\n",
       "    <tr>\n",
       "      <th>4</th>\n",
       "      <td>6</td>\n",
       "      <td>0.051498</td>\n",
       "    </tr>\n",
       "    <tr>\n",
       "      <th>5</th>\n",
       "      <td>7</td>\n",
       "      <td>0.048695</td>\n",
       "    </tr>\n",
       "    <tr>\n",
       "      <th>6</th>\n",
       "      <td>8</td>\n",
       "      <td>0.046987</td>\n",
       "    </tr>\n",
       "    <tr>\n",
       "      <th>7</th>\n",
       "      <td>9</td>\n",
       "      <td>-0.019522</td>\n",
       "    </tr>\n",
       "    <tr>\n",
       "      <th>8</th>\n",
       "      <td>10</td>\n",
       "      <td>0.039475</td>\n",
       "    </tr>\n",
       "    <tr>\n",
       "      <th>9</th>\n",
       "      <td>11</td>\n",
       "      <td>-0.014569</td>\n",
       "    </tr>\n",
       "  </tbody>\n",
       "</table>\n",
       "</div>"
      ],
      "text/plain": [
       "   Clusters    Scores\n",
       "0         2  0.099849\n",
       "1         3  0.057975\n",
       "2         4  0.054059\n",
       "3         5  0.053144\n",
       "4         6  0.051498\n",
       "5         7  0.048695\n",
       "6         8  0.046987\n",
       "7         9 -0.019522\n",
       "8        10  0.039475\n",
       "9        11 -0.014569"
      ]
     },
     "execution_count": 242,
     "metadata": {},
     "output_type": "execute_result"
    }
   ],
   "source": [
    "num = list(range(2,26,1))\n",
    "pd.DataFrame({\"Clusters\":num,\"Scores\":scores}).head(10)"
   ]
  },
  {
   "cell_type": "code",
   "execution_count": 248,
   "metadata": {},
   "outputs": [
    {
     "data": {
      "image/png": "[encoded data removed]",
      "text/plain": [
       "<Figure size 432x288 with 1 Axes>"
      ]
     },
     "metadata": {
      "needs_background": "light"
     },
     "output_type": "display_data"
    }
   ],
   "source": [
    "plot_elbow(elbow,\" Food\",4)"
   ]
  },
  {
   "cell_type": "markdown",
   "metadata": {},
   "source": [
    "Inertia score highest at 6 topics"
   ]
  },
  {
   "cell_type": "markdown",
   "metadata": {},
   "source": [
    "### Attractions"
   ]
  },
  {
   "cell_type": "code",
   "execution_count": 244,
   "metadata": {},
   "outputs": [],
   "source": [
    "elbow,scores = elbow_func(vect_attract)"
   ]
  },
  {
   "cell_type": "code",
   "execution_count": 245,
   "metadata": {},
   "outputs": [
    {
     "data": {
      "text/html": [
       "<div>\n",
       "<style scoped>\n",
       "    .dataframe tbody tr th:only-of-type {\n",
       "        vertical-align: middle;\n",
       "    }\n",
       "\n",
       "    .dataframe tbody tr th {\n",
       "        vertical-align: top;\n",
       "    }\n",
       "\n",
       "    .dataframe thead th {\n",
       "        text-align: right;\n",
       "    }\n",
       "</style>\n",
       "<table border=\"1\" class=\"dataframe\">\n",
       "  <thead>\n",
       "    <tr style=\"text-align: right;\">\n",
       "      <th></th>\n",
       "      <th>Clusters</th>\n",
       "      <th>Scores</th>\n",
       "    </tr>\n",
       "  </thead>\n",
       "  <tbody>\n",
       "    <tr>\n",
       "      <th>0</th>\n",
       "      <td>2</td>\n",
       "      <td>0.042619</td>\n",
       "    </tr>\n",
       "    <tr>\n",
       "      <th>1</th>\n",
       "      <td>3</td>\n",
       "      <td>0.044036</td>\n",
       "    </tr>\n",
       "    <tr>\n",
       "      <th>2</th>\n",
       "      <td>4</td>\n",
       "      <td>0.049421</td>\n",
       "    </tr>\n",
       "    <tr>\n",
       "      <th>3</th>\n",
       "      <td>5</td>\n",
       "      <td>0.028499</td>\n",
       "    </tr>\n",
       "    <tr>\n",
       "      <th>4</th>\n",
       "      <td>6</td>\n",
       "      <td>0.029093</td>\n",
       "    </tr>\n",
       "    <tr>\n",
       "      <th>5</th>\n",
       "      <td>7</td>\n",
       "      <td>0.030303</td>\n",
       "    </tr>\n",
       "    <tr>\n",
       "      <th>6</th>\n",
       "      <td>8</td>\n",
       "      <td>0.032242</td>\n",
       "    </tr>\n",
       "    <tr>\n",
       "      <th>7</th>\n",
       "      <td>9</td>\n",
       "      <td>0.032624</td>\n",
       "    </tr>\n",
       "    <tr>\n",
       "      <th>8</th>\n",
       "      <td>10</td>\n",
       "      <td>0.027128</td>\n",
       "    </tr>\n",
       "    <tr>\n",
       "      <th>9</th>\n",
       "      <td>11</td>\n",
       "      <td>0.030480</td>\n",
       "    </tr>\n",
       "  </tbody>\n",
       "</table>\n",
       "</div>"
      ],
      "text/plain": [
       "   Clusters    Scores\n",
       "0         2  0.042619\n",
       "1         3  0.044036\n",
       "2         4  0.049421\n",
       "3         5  0.028499\n",
       "4         6  0.029093\n",
       "5         7  0.030303\n",
       "6         8  0.032242\n",
       "7         9  0.032624\n",
       "8        10  0.027128\n",
       "9        11  0.030480"
      ]
     },
     "execution_count": 245,
     "metadata": {},
     "output_type": "execute_result"
    }
   ],
   "source": [
    "num = list(range(2,26,1))\n",
    "pd.DataFrame({\"Clusters\":num,\"Scores\":scores}).head(10)"
   ]
  },
  {
   "cell_type": "code",
   "execution_count": 246,
   "metadata": {},
   "outputs": [
    {
     "data": {
      "image/png": "[encoded data removed]",
      "text/plain": [
       "<Figure size 432x288 with 1 Axes>"
      ]
     },
     "metadata": {
      "needs_background": "light"
     },
     "output_type": "display_data"
    }
   ],
   "source": [
    "plot_elbow(elbow,\" Attractions\",4)"
   ]
  },
  {
   "cell_type": "markdown",
   "metadata": {},
   "source": [
    "### K Means with Cluster Numbers"
   ]
  },
  {
   "cell_type": "code",
   "execution_count": 247,
   "metadata": {},
   "outputs": [],
   "source": [
    "# Run kmeans using the vectors\n",
    "def kmean_func(vector,num_clusters):\n",
    "    kmeans = KMeans(n_clusters=num_clusters)\n",
    "    result = kmeans.fit(vector)\n",
    "    return result"
   ]
  },
  {
   "cell_type": "code",
   "execution_count": 265,
   "metadata": {},
   "outputs": [],
   "source": [
    "# Run function\n",
    "a = kmean_func(vect_accom,4)\n",
    "f = kmean_func(vect_food,4)\n",
    "at = kmean_func(vect_attract,4)"
   ]
  },
  {
   "cell_type": "code",
   "execution_count": 266,
   "metadata": {},
   "outputs": [],
   "source": [
    "# Map to tag clusters\n",
    "aspects_map = defaultdict(int) \n",
    "for asp in aspects:\n",
    "    aspects_map[asp] += 1"
   ]
  },
  {
   "cell_type": "code",
   "execution_count": 267,
   "metadata": {},
   "outputs": [],
   "source": [
    "def create_cluster_map(unique_aspects,x):\n",
    "    labels = x.labels_\n",
    "    asp_to_cluster_map = dict(zip(unique_aspects,labels))\n",
    "    return asp_to_cluster_map"
   ]
  },
  {
   "cell_type": "code",
   "execution_count": 268,
   "metadata": {},
   "outputs": [],
   "source": [
    "cluster_map_accom = create_cluster_map(unique_accom_aspects,a)\n",
    "cluster_map_food = create_cluster_map(unique_food_aspects,f)\n",
    "cluster_map_attract = create_cluster_map(unique_attract_aspects,at)"
   ]
  },
  {
   "cell_type": "code",
   "execution_count": 264,
   "metadata": {},
   "outputs": [
    {
     "name": "stdout",
     "output_type": "stream",
     "text": [
      "{'\\n': 3, '\\n\\n': 3, '\\n ': 3, ' ': 3, '%': 2, '-fashioned': 3, '-well': 3, '.needs': 3, '.this': 3, '1': 2, '10': 2, '10,or': 3, '100': 2, '12': 2, '12th': 2, '150': 2, '18month': 3, '2': 2, '20': 2, '22nd': 2, '246': 3, '28th': 2, '30': 2, '30mins': 3, '31st': 2, '4': 2, '40': 2, '40s/50s': 3, '4yo': 3, '5': 2, '5.30/6pm': 3, '5.95': 3, '500': 2, '5th': 2, '60': 2, '70s': 2, '80': 2, '911': 2, 'a272': 3, 'a29': 3, 'abbie': 3, 'about': 2, 'abuse': 2, 'accents': 1, 'access': 2, 'accident': 2, 'accidents': 2, 'accomation': 3, 'accommadation': 3, 'accommodation': 1, 'accomodation': 3, 'accompaniment': 0, 'accounts': 2, 'acess': 3, 'achievement': 2, 'acomodation': 3, 'acoustics': 1, 'acrobats': 3, 'act': 2, 'action': 2, 'actions': 2, 'activities': 2, 'activity': 2, 'actor': 2, 'actresses': 2, 'acts': 2, 'actvities': 3, 'adaptor': 1, 'addition': 2, 'additions': 2, 'adult': 2, 'adults': 2, 'adventure': 2, 'advert': 3, 'advertising': 2, 'advice': 2, 'affair': 2, 'affection': 2, 'africa': 3, 'african': 3, 'after': 2, 'afternoon': 2, 'age': 2, 'agency': 2, 'agent': 2, 'ages': 2, 'agreement': 2, 'air': 1, 'aircon': 1, 'airedale': 3, 'alan': 3, 'alarm': 1, 'albeit': 2, 'ale': 0, 'ales': 0, 'alison': 3, 'all': 2, 'allergies': 2, 'allergy': 2, 'alley': 1, 'allocation': 2, 'alot': 2, 'alround': 3, 'alternative': 2, 'alternatives': 2, 'altough': 3, 'amanda': 3, 'amazing': 2, 'ambassador': 2, 'ambience': 1, 'ambulance': 2, 'amenities': 1, 'ammeneties': 3, 'amount': 2, 'amounts': 2, 'amusements': 3, 'andy': 3, 'angela': 3, 'angle': 1, 'angles': 1, 'angmering': 3, 'animals': 2, 'annex': 3, 'anniversary': 2, 'annoying': 2, 'answer': 2, 'antics': 2, 'anxiety': 2, 'anxious': 2, 'anyone': 2, 'anything': 2, 'apart': 2, 'apartment': 1, 'apartment-': 3, 'apartments': 1, 'apology': 2, 'app': 2, 'apparatus': 1, 'appartment': 3, 'appartments': 3, 'appearance': 2, 'apple': 0, 'applicances': 3, 'approach': 2, 'approx': 1, 'arcade': 1, 'arcades': 3, 'archery': 3, 'architecture': 2, 'arden': 3, 'area': 1, 'areas': 1, 'arena': 2, 'arm': 1, 'armchairs': 1, 'arms': 1, 'arrangements': 2, 'array': 1, 'arrival': 2, 'arrogance': 2, 'artifacts': 2, 'artwork': 2, 'arun': 3, 'arundel': 3, 'as': 2, 'asda': 3, 'ash': 1, 'ashley': 3, 'ask': 2, 'asparagus': 0, 'aspect': 2, 'aspects': 2, 'asset': 2, 'assistance': 2, 'assistant': 2, 'assumptions': 2, 'asthma': 2, 'aswas': 3, 'at': 2, 'atmosphere': 1, 'attachment': 1, 'attempt': 2, 'attempts': 2, 'attendant': 2, 'attendants': 2, 'attention': 2, 'attitude': 2, 'attitudes': 2, 'attraction': 2, 'attractions': 2, 'audience': 2, 'august': 3, 'authority': 2, 'autumn': 1, 'availability': 2, 'avenue': 3, 'avisford': 3, 'avoid': 2, 'awe': 2, 'awful': 2, 'b': 2, 'b&b': 3, 'b&bs': 3, 'babies': 2, 'baby': 2, 'bac': 3, 'back': 2, 'backed': 2, 'background': 2, 'backs': 2, 'backwards': 2, 'bacon': 0, 'bad': 2, 'badge': 2, 'bag': 1, 'bags': 1, 'baguettes': 0, 'bailiffscourt': 3, 'balance': 2, 'balcony': 1, 'ball': 1, 'balloon': 1, 'banana': 0, 'band': 2, 'bands': 2, 'baps': 3, 'bar': 1, 'barbara': 3, 'barmaid': 3, 'barman': 3, 'barrier': 1, 'barryboys': 3, 'bars': 1, 'base': 1, 'basic': 2, 'basis': 2, 'basket': 1, 'bass': 2, 'bath': 1, 'bathroom': 1, 'bathrooms': 1, 'baths': 1, 'battaey': 3, 'batter': 0, 'battery': 1, 'battle': 2, 'bay': 1, 'bays': 1, 'be': 2, 'beach': 1, 'beaches': 1, 'beachhuts': 3, 'beak': 3, 'beamed': 1, 'beams': 1, 'beans': 0, 'bearing': 1, 'beautician': 3, 'beauty': 2, 'bed': 1, 'bedding': 1, 'bedlinen': 3, 'bedroom': 1, 'bedrooma': 3, 'bedrooms': 1, 'beds': 1, 'bedsheets': 3, 'bedside': 1, 'bedsit': 3, 'bee': 3, 'beef': 0, 'beefeater': 3, 'beer': 0, 'beers': 0, 'bef': 3, 'before': 2, 'behavior': 2, 'behaviour': 2, 'being': 2, 'beings': 2, 'bellini': 3, 'bellinis': 3, 'bells': 1, 'belt': 1, 'bench': 1, 'berries': 0, 'best': 2, 'bet': 2, 'bev': 3, 'beverage': 0, 'beverley': 3, 'beware': 2, 'beyond': 2, 'bib': 1, 'bichon': 3, 'big': 2, 'bikers': 3, 'bill': 2, 'billy': 3, 'bin': 1, 'bingo': 2, 'biotics': 3, 'birthday': 2, 'birthdays': 2, 'biscuit': 0, 'biscuits': 0, 'bit': 2, 'bits': 1, 'bits-': 3, 'bitters': 0, 'bitty': 3, 'blankets': 1, 'blast': 2, 'blasting': 1, 'blemish': 3, 'blend': 0, 'bleu': 0, 'blinds': 1, 'block': 1, 'blockage': 3, 'blocks': 1, 'bloke': 3, 'blokes': 3, 'bnb': 3, 'board': 2, 'boards': 1, 'boasting': 1, 'boat': 1, 'body': 2, 'bognor': 3, 'bones': 1, 'bonhomie': 3, 'bonus': 2, 'book': 2, 'booking': 2, 'bookings': 2, 'booklet': 2, 'booklets': 3, 'booth': 1, 'boots': 1, 'bot': 3, 'bottle': 1, 'bottles': 1, 'bottoms': 1, 'boutique': 1, 'bow': 1, 'bowl': 0, 'bowl\"window': 3, 'bowls': 0, 'bows': 1, 'box': 1, 'boy': 2, 'boyfriend': 2, 'boys': 2, 'branches': 1, 'brand': 2, 'bread': 0, 'breads': 0, 'breafast': 3, 'break': 2, 'breakdfast': 3, 'breakfast': 0, 'breakfasts': 0, 'breakfasts).would': 3, 'breaks': 2, 'breath': 2, 'breeze': 1, 'bride': 2, 'bridge': 1, 'brighton': 3, 'brilliant': 2, 'broccoli': 0, 'brochure': 2, 'brother': 2, 'brown': 0, 'browns': 0, 'brulee': 0, 'brush': 1, 'bryony': 3, 'bubbles': 1, 'budget': 2, 'buffet': 0, 'buffets': 0, 'bug': 2, 'build': 2, 'building': 2, 'buildings': 1, 'bulb': 1, 'bulk': 2, 'bull': 2, 'bump': 2, 'bunch': 2, 'bundles': 1, 'bunk': 1, 'burger': 0, 'burgers': 0, 'burns': 1, 'bus': 2, 'buses': 1, 'business': 2, 'businesses': 2, 'but': 2, 'butins': 3, 'butler': 3, 'butlers': 3, 'butlin': 3, 'butlins': 3, 'butt': 1, 'butter': 0, 'buy': 2, 'buy-': 3, 'cab': 1, 'cabin': 1, 'cable': 1, 'cables': 1, 'cafe': 1, 'cafes': 1, 'café': 1, 'cake': 0, 'cakes': 0, 'call': 2, 'calls': 2, 'calmness': 3, 'calorie': 0, 'calum': 3, 'came': 2, 'camembert': 0, 'camera': 2, 'cameras': 2, 'camp': 2, 'campers': 1, 'camping': 1, 'campsite': 1, 'candle': 1, 'candles': 1, 'cap': 1, 'captain': 2, 'car': 2, 'caravan': 1, 'caravan(703': 3, 'caravans': 1, 'card': 2, 'cards': 2, 'care': 2, 'caroline': 3, 'carpark': 3, 'carpet': 1, 'carpets': 1, 'carpit': 3, 'carriageway': 3, 'cars': 1, 'carte': 0, 'carts': 1, 'carvery': 0, 'carverys': 3, 'case': 2, 'cash': 2, 'casserole': 0, 'cassie': 3, 'castle': 1, 'catamaran': 3, 'catch': 2, 'catering': 1, 'cathedral': 1, 'catwalk': 3, 'cause': 2, 'ceiling': 1, 'ceilings': 1, 'celebration': 2, 'celebrations': 2, 'center': 1, 'centerparcs': 3, 'centimetres': 3, 'centre': 1, 'century': 2, 'cereals': 0, 'chain': 1, 'chains': 1, 'chair': 1, 'chairs': 1, 'chalet': 1, 'chalets': 1, 'challenge': 2, 'challenges': 2, 'chambermaids': 3, 'chance': 2, 'chandler': 3, 'change': 2, 'changeovers': 3, 'changes': 2, 'channels': 2, 'chaos': 2, 'chap': 3, 'chaps': 3, 'character': 2, 'characters': 2, 'chard': 0, 'chardonnay': 0, 'charge': 2, 'charges': 2, 'charley': 3, 'charlie': 3, 'charm': 1, 'charmaine': 3, 'chat': 2, 'chavs': 3, 'cheap': 1, 'check': 2, 'checkin': 3, 'checking': 2, 'checkout': 2, 'cheer': 2, 'cheerful': 1, 'cheese': 0, 'cheesecake': 0, 'chef': 0, 'chefs': 0, 'chemical': 2, 'chemistry': 2, 'chic': 1, 'chichester': 3, 'chicken': 0, 'chickens': 0, 'child': 2, 'children': 2, 'children.check': 3, 'children.on': 3, 'childs': 3, 'chimps': 3, 'chip': 1, 'chippy': 3, 'chips': 0, 'chloe': 3, 'chocolate': 0, 'chocolates': 0, 'choice': 2, 'choice-': 3, 'choices': 2, 'choose': 2, 'christmas': 1, 'chunks': 0, 'cider': 0, 'cigarette': 1, 'cigarettes': 1, 'cinema': 2, 'circuit': 2, 'circumstances': 2, 'circus': 2, 'cirque': 3, 'citizens': 2, 'city': 2, 'cladding': 1, 'claims': 2, 'class': 2, 'clean': 1, 'cleaner': 1, 'cleaners': 1, 'cleaning': 1, 'cleanliness': 1, 'cliche': 3, 'client': 2, 'climb': 2, 'clock': 1, 'closed.it': 3, 'closing': 2, 'cloth': 1, 'clothes': 1, 'clothing': 1, 'cloths': 1, 'club': 2, 'clubhouse': 1, 'co': 3, 'coach': 2, 'coast': 2, 'coat': 1, 'coats': 1, 'cobbles': 3, 'cobwebs': 1, 'cocktail': 0, 'cocktails': 0, 'cod': 0, 'coffee': 0, 'coffees': 0, 'coke': 0, 'cold': 1, 'colleagues': 2, 'collection': 2, 'collie': 3, 'colour': 1, 'coloured': 1, 'colours': 1, 'columns': 1, 'combination': 2, 'comedians': 3, 'comedy': 2, 'comfatable': 3, 'comfort': 1, 'comfortable': 1, 'commanded': 2, 'comment': 2, 'comments': 2, 'commodity': 2, 'comms': 3, 'communication': 2, 'communications': 2, 'companies': 2, 'company': 2, 'comparator': 3, 'compartment': 1, 'compensation': 2, 'competition': 2, 'complaint': 2, 'complaints': 2, 'completion': 2, 'complex': 2, 'con': 2, 'concept': 2, 'concern': 2, 'concerns': 2, 'condensation': 1, 'condiments': 0, 'condition': 2, 'conditioned': 1, 'conditioner': 1, 'conditioning': 1, 'conditions': 2, 'conference': 2, 'confidence': 2, 'confusion': 2, 'congratulations': 2, 'connection': 2, 'connections': 2, 'connector': 1, 'cons': 2, 'consensus': 2, 'consent': 2, 'considerations': 2, 'consisted': 2, 'console': 1, 'consumption': 2, 'containers': 1, 'content': 2, 'continental': 1, 'contractors': 2, 'contrast': 2, 'control': 2, 'conversation': 2, 'conversations': 2, 'conversion': 2, 'cook': 0, 'cooked': 0, 'cookies': 0, 'cooking': 0, 'coolers': 1, 'coral': 1, 'corn': 0, 'corner': 1, 'corners': 1, 'corporate': 2, 'corridor': 1, 'corridors': 1, 'cost': 2, 'costs': 2, 'costume': 1, 'costumes': 1, 'cosy': 1, 'cot': 1, 'cottage': 1, 'couch': 1, 'couches': 1, 'count': 2, 'counter': 1, 'counters': 1, 'country': 2, 'countryside': 1, 'couple': 2, 'couples': 2, 'course': 2, 'courses': 2, 'court': 2, 'courtesy': 2, 'courts': 2, 'courtyard': 1, 'cousin': 2, 'cow': 0, 'cows': 2, 'cp': 3, 'crack': 2, 'cracks': 1, 'craig': 3, 'cramming': 3, 'crap': 2, 'crawlies': 3, 'crawly': 3, 'cream': 0, 'creature': 2, 'creatures': 2, 'credit': 2, 'crew': 2, 'crews': 2, 'crime': 2, 'crisps': 0, 'criticism': 2, 'critism': 3, 'crocodile': 3, 'croissants': 0, 'crosses': 1, 'crowd': 2, 'crowds': 2, 'crumble': 0, 'crumbs': 0, 'cubicle': 1, 'cubicles': 1, 'cuisine': 0, 'cup': 0, 'cupboard': 1, 'cupboards': 1, 'cups': 0, 'currency': 2, 'curry': 0, 'curtain': 1, 'curtains': 1, 'curve': 2, 'cushion': 1, 'cushions': 1, 'custard': 0, 'customer': 2, 'customers': 2, 'cut': 2, 'cutbacks': 2, 'cutlery': 1, 'cutlet': 0, 'd': 2, 'dace': 3, 'dad': 2, 'dads': 2, 'damp': 1, 'dance': 2, 'dark': 1, 'date': 2, 'daughter': 2, 'daughter-': 3, 'daughters': 2, 'david': 3, 'davro': 3, 'day': 2, 'days': 2, 'de': 2, 'deal': 2, 'deal-': 3, 'deal.we': 3, 'deals': 2, 'deborah': 3, 'debra': 3, 'debris': 1, 'dec': 3, 'decaff': 3, 'december': 3, 'decision': 2, 'decisions': 2, 'deck': 1, 'decor': 1, 'decorated': 1, 'decorating': 1, 'decoration': 1, 'decorations': 1, 'dedication': 2, 'delay': 2, 'delight': 2, 'delivery': 2, 'delux': 3, 'deluxe': 1, 'demand': 2, 'dempsey': 3, 'den': 3, 'denominator': 2, 'department': 2, 'departments': 2, 'deposit': 2, 'deposits': 1, 'descent': 2, 'description': 2, 'desert': 1, 'deserts': 0, 'design': 1, 'design-': 3, 'designs': 1, 'desk': 1, 'dessert': 0, 'desserts': 0, 'destination': 2, 'detail': 2, 'details': 2, 'diamond': 1, 'diet': 0, 'difference': 2, 'difficult': 2, 'difficulties': 2, 'diligence': 2, 'dim': 1, 'dine': 0, 'diner': 0, 'dining': 1, 'dinner': 0, 'dinners': 0, 'dinning': 1, 'dips': 0, 'direction': 2, 'directions': 2, 'director': 2, 'dirty': 1, 'disabilities': 2, 'disability': 2, 'disappointing': 2, 'disappointment': 2, 'disarray': 3, 'disaster': 2, 'disco': 3, 'discount': 1, 'discussions': 2, 'disease': 2, 'disgrace': 2, 'dish': 0, 'dishes': 0, 'dishwasher': 1, 'dislike': 2, 'display': 2, 'displays': 2, 'disposal': 1, 'dissapointing': 3, 'distace': 3, 'distance': 2, 'distraction': 2, 'distressed': 1, 'divans': 3, 'diversity': 2, 'dives': 3, 'dj': 3, 'dockyard': 3, 'documentation': 2, 'dog': 2, 'dogfriendly': 3, 'dogs': 2, 'doh': 3, 'donation': 2, 'donthibk': 3, 'door': 1, 'doors': 1, 'doreen': 3, 'dorm': 1, 'double': 1, 'downfall': 2, 'downs': 2, 'downside': 2, 'drain': 1, 'drains': 1, 'drawback': 2, 'drawers': 1, 'drawing': 2, 'dreams': 2, 'dress': 1, 'dressing': 0, 'driers': 3, 'drink': 0, 'drinker': 3, 'drinking': 2, 'drinks': 0, 'drive': 2, 'driver': 2, 'drivers': 2, 'drop': 2, 'drops': 2, 'drugs': 2, 'dryer': 1, 'dryers': 1, 'du': 3, 'duck': 0, 'ducks': 1, 'due': 2, 'dulce': 0, 'dump': 2, 'dust': 1, 'duster': 3, 'duvet': 1, 'dvd': 3, 'décor': 1, 'eagle': 1, 'earlybirds': 3, 'easter': 3, 'easy': 2, 'eater': 0, 'eateries': 0, 'eaters': 0, 'eatery': 0, 'edge': 1, 'edges': 1, 'edges-': 3, 'edging': 1, 'edna': 3, 'effect': 2, 'efficiency': 2, 'efficient': 2, 'effort': 2, 'egg': 0, 'eggs': 0, 'elaine': 3, 'elderly': 2, 'electric': 1, 'elements': 2, 'elephant': 1, 'elevators': 1, 'elisha': 3, 'email': 2, 'embarrassment': 2, 'emily': 3, 'emma': 3, 'emphasis': 2, 'emphatic': 3, 'employees': 2, 'end': 2, 'ending': 2, 'ends': 2, 'english': 3, 'enhancement': 2, 'enquiries': 2, 'enquiry': 2, 'ensuite': 1, 'ensuites': 3, 'enterance': 3, 'entertainment': 2, 'entertainments': 3, 'enthusiasm': 2, 'entrance': 1, 'entry': 2, 'ents': 3, 'environment': 2, 'equipment': 1, 'equipment.however': 3, 'equipped': 1, 'era': 2, 'error': 2, 'errors': 2, 'escape': 2, 'esme': 3, 'establishment': 2, 'establishments': 2, 'estate': 2, 'estates': 3, 'etc': 2, 'etc-': 3, 'europe': 3, 'evening': 2, 'evenings': 1, 'event': 2, 'events': 2, 'everybody': 2, 'everyday.hotel': 3, 'everyone': 2, 'everything': 2, 'everytime': 2, 'evidence': 2, 'example': 2, 'examples': 2, 'excellen': 3, 'excellent': 2, 'exception': 2, 'excercise': 3, 'excited': 2, 'excuse': 2, 'excuses': 2, 'exit': 2, 'expectations': 2, 'expense': 2, 'experiance': 3, 'experience': 2, 'experience-': 3, 'experiences': 2, 'explanation': 2, 'express': 2, 'extension': 2, 'extra': 1, 'extractor': 1, 'extras': 1, 'eye': 2, 'face': 2, 'faces': 2, 'facial': 2, 'facials': 3, 'facilities': 1, 'facilities.breakfast': 3, 'facility': 2, 'facillities': 3, 'facing': 2, 'fact': 2, 'factor': 2, 'factors': 2, 'factory': 1, 'fags': 3, 'fair': 2, 'fairground': 3, 'fairgrounds': 3, 'fairs': 3, 'faith': 2, 'fajitas': 0, 'falcons': 3, 'families': 2, 'family': 2, 'fan': 2, 'fans': 2, 'fantastic': 2, 'fantasy': 2, 'fare': 0, 'farm': 2, 'farmhouse': 1, 'fashioned': 1, 'fat': 0, 'fault': 2, 'faults': 2, 'favourite': 2, 'favourites': 2, 'fears': 2, 'feast': 0, 'feat': 3, 'feature': 2, 'features': 1, 'fee': 2, 'feedback': 2, 'feeders': 1, 'feel': 2, 'feeling': 2, 'feelings': 2, 'feet': 1, 'fella': 3, 'felpham': 3, 'felt': 2, 'female': 2, 'fencing': 1, 'festival': 2, 'few': 2, 'fi': 3, 'fiancé': 3, 'field': 2, 'fields': 2, 'fighting': 2, 'fillet': 0, 'film': 2, 'filth': 3, 'find': 2, 'findon': 3, 'fine': 2, 'finger': 1, 'fingerprints': 1, 'fingers': 1, 'finish': 1, 'finishing': 1, 'fiona': 3, 'fire': 1, 'fireplace': 1, 'fireplaces': 1, 'fires': 1, 'fireworks': 2, 'fish': 0, 'fit': 1, 'fitted': 1, 'fittings': 1, 'five': 2, 'fives': 3, 'fixture': 1, 'fixtures': 1, 'fizz': 3, 'flamingo': 3, 'flapjack': 3, 'flasks': 3, 'flat': 1, 'flatman': 3, 'flats': 1, 'flavour': 0, 'flavours': 0, 'flaw': 2, 'fletcher': 3, 'flexibility': 2, 'flies': 1, 'flight': 2, 'flights': 2, 'floats': 1, 'floor': 1, 'floor.many': 3, 'floorboards': 1, 'flooring': 1, 'floors': 1, 'floors-': 3, 'flops': 3, 'flowers': 1, 'flues': 3, 'flume': 3, 'flumes': 3, 'flush': 1, 'focus': 2, 'fogies': 3, 'folders': 2, 'folding': 1, 'fontwell': 3, 'food': 0, 'food.in': 3, 'foodie': 0, 'foods': 0, 'foot': 1, 'football': 2, 'footpaths': 1, 'footwear': 1, 'for': 2, 'forest': 1, 'fork': 1, 'fortune': 2, 'found': 2, 'foundations': 2, 'fountain': 1, 'fountains': 1, 'fragile': 2, 'frame': 1, 'frames': 1, 'franchises': 2, 'fraught': 2, 'freezer': 0, 'fresh': 0, 'freshen': 1, 'fri': 3, 'fridge': 1, 'fridges': 1, 'fried': 0, 'friend': 2, 'friendly': 2, 'friends': 2, 'fries': 0, 'from': 2, 'front': 1, 'fruit': 0, 'fruits': 0, 'fry': 0, 'fu': 3, 'full': 2, 'fun': 2, 'function': 2, 'fund': 2, 'funfair': 3, 'furnished': 1, 'furnishing': 1, 'furnishings': 1, 'furniture': 1, 'furnture': 3, 'fuss': 2, 'future': 2, 'g&t': 3, 'gales': 3, 'game': 2, 'games': 2, 'gang': 2, 'gap': 2, 'garage': 1, 'garden': 1, 'gardener': 3, 'gardens': 1, 'gary': 3, 'gash': 3, 'gate': 1, 'gathering': 2, 'gear': 1, 'gel': 1, 'gem': 1, 'gems': 1, 'generators': 1, 'gentleman': 2, 'gentlemen': 2, 'gents': 3, 'george': 3, 'geraldine': 3, 'gesture': 2, 'gestures': 2, 'get': 2, 'getaway': 1, 'gift': 2, 'gin': 0, 'girl': 2, 'girls': 2, 'glass': 1, 'glasses': 1, 'glazing': 1, 'glitch': 3, 'glitter': 1, 'glitz': 3, 'gloves': 1, 'gluten': 0, 'go': 2, 'goers': 3, 'gold': 1, 'golf': 1, 'good': 2, 'goodbye': 2, 'goodies': 0, 'goodness': 2, 'goodto': 3, 'goodwood': 3, 'gorillas': 3, 'gowns': 1, 'grab': 2, 'grace': 2, 'grade': 2, 'grandaughter': 3, 'grandchildren': 2, 'granddaughter': 3, 'granddaughters': 3, 'grandson': 2, 'granny': 3, 'granola': 0, 'grapefruit': 0, 'grass': 1, 'grater': 0, 'gratis': 3, 'gravy': 0, 'grease': 1, 'greeting': 2, 'grenada': 3, 'grief': 2, 'grievance': 2, 'grill': 0, 'gripe': 3, 'gripes': 3, 'groomsmen': 3, 'ground': 1, 'grounds': 2, 'groundsmen': 3, 'group': 2, 'groups': 2, 'grub': 0, 'grumble': 3, 'grumbling': 3, 'grump': 3, 'guard': 2, 'guards': 1, 'guest': 2, 'guests': 2, 'guide': 2, 'guidelines': 2, 'gulls': 3, 'gulp': 3, 'guts': 2, 'guy': 2, 'guys': 2, 'gym': 1, 'gymn': 3, 'haddock': 0, 'hadley': 3, 'hair': 1, 'hairdryer': 1, 'hairdryers': 1, 'hairs': 1, 'half': 2, 'halitosis': 3, 'hall': 1, 'halls': 1, 'hallway': 1, 'hand': 2, 'handful': 2, 'handrails': 1, 'hands': 2, 'handwash': 3, 'hannah': 3, 'harbour': 1, 'hard': 2, 'harry': 3, 'hate': 2, 'hats': 1, 'haul': 1, 'have': 2, 'haven': 2, 'hawkes': 3, 'head': 2, 'headboard': 1, 'health': 2, 'heart': 2, 'heat': 1, 'heater': 1, 'heaters': 1, 'heating': 1, 'hedge': 2, 'height': 1, 'helen': 3, 'help': 2, 'helpful': 2, 'helpful.abbie': 3, 'hero': 2, 'highchairs': 3, 'highlight': 2, 'highlights': 2, 'hills': 1, 'hilton': 3, 'history': 2, 'hit': 2, 'hob': 1, 'holders': 1, 'hole': 1, 'holiday': 2, 'holidays': 2, 'hollie': 3, 'holtel': 3, 'home': 2, 'honey': 0, 'honeymoon': 2, 'hood': 1, 'hookups': 1, 'hoover': 3, 'hope': 2, 'hopes': 2, 'horse': 2, 'horses': 2, 'hospital': 2, 'hospitality': 2, 'host': 2, 'hostel': 1, 'hostelry': 3, 'hostess': 3, 'hosts': 2, 'hotel': 1, 'hotel(which': 3, 'hotel.just': 3, 'hotelier': 3, 'hotelroom': 3, 'hotels': 1, 'hour': 2, 'hours': 2, 'house': 1, 'housekeeper': 3, 'housekeeping': 1, 'houses': 1, 'housing': 1, 'hr': 3, 'ht': 3, 'hub': 2, 'humans': 2, 'hump': 3, 'hundreds': 2, 'hunt': 2, 'hunting': 2, 'husband': 2, 'hut': 1, 'huts': 1, 'hygiene': 1, 'i': 2, 'iceberg': 3, 'icecream': 0, 'icing': 0, 'idea': 2, 'ideal': 1, 'ideas': 2, 'if': 2, 'illusions': 3, 'images': 2, 'imbosile': 3, 'importance': 2, 'impression': 2, 'impressions': 2, 'improvement': 2, 'improvements': 2, 'in': 2, 'incident': 2, 'incidents': 2, 'increase': 2, 'indoors': 1, 'inflatable': 1, 'inflatables': 3, 'influence': 2, 'influx': 2, 'info': 2, 'information': 2, 'inglenook': 3, 'ingredients': 0, 'inn': 1, 'inns': 3, 'inside': 1, 'insight': 2, 'institution': 2, 'instructions': 2, 'instructors': 2, 'insulation': 1, 'intent': 2, 'intention': 2, 'interaction': 2, 'interest': 2, 'interior': 1, 'interiors': 1, 'internet': 2, 'intersection': 2, 'intimidation': 2, 'introduction': 2, 'investment': 2, 'inviting': 2, 'ipa': 3, 'ipads': 3, 'ironwork': 3, 'irritating': 2, 'is': 2, 'ish': 3, 'issue': 2, 'issues': 2, 'ist': 3, 'item': 2, 'items': 1, 'jack': 1, 'jacky': 3, 'jacuzzi': 1, 'jacuzzis': 3, 'jam': 0, 'james': 3, 'jane': 3, 'january': 3, 'jaunt': 3, 'jeans': 1, 'jellyfish': 3, 'jessica': 3, 'joanne': 3, 'job': 2, 'job.many': 3, 'john': 3, 'johns': 3, 'joke': 2, 'jokes': 2, 'jolly': 3, 'journey': 2, 'joy': 2, 'jug': 0, 'juices': 0, 'july': 3, 'jumble': 3, 'junction': 1, 'june': 3, 'justin': 3, 'kart': 3, 'karts': 3, 'keeping': 2, 'keith': 3, 'kept': 2, 'kettles': 1, 'key': 2, 'keys': 1, 'kichten': 3, 'kick': 2, 'kid': 2, 'kids': 2, 'kind': 2, 'kindness': 2, 'kinds': 2, 'king': 2, 'kingdom': 2, 'kit': 1, 'kitchen': 1, 'knew': 2, 'knife': 1, 'knives': 1, 'knock': 2, 'knole': 3, 'knowledge': 2, 'lace': 1, 'lack': 2, 'lad': 3, 'ladies': 2, 'lads': 3, 'lady': 2, 'lagoon': 1, 'laid': 2, 'lake': 1, 'lamb': 0, 'land': 2, 'landlord': 2, 'lane': 1, 'language': 2, 'lapse': 2, 'large': 1, 'lasagne': 0, 'lassie': 3, 'latte': 0, 'laugh': 2, 'laundry': 1, 'lawn': 1, 'layer': 1, 'layout': 1, 'lead': 2, 'leaf': 1, 'leaflet': 3, 'league': 2, 'leak': 1, 'leather': 1, 'ledge': 1, 'legs': 1, 'leisure': 1, 'leisures': 3, 'lemon': 0, 'les': 3, 'lesson': 2, 'let': 2, 'letters': 2, 'lettuce': 0, 'level': 2, 'levels': 2, 'liberty': 2, 'library': 2, 'lick': 3, 'lidl': 3, 'lido': 3, 'life': 2, 'lifeguards': 3, 'lifetime': 2, 'lift': 1, 'lifts': 1, 'light': 1, 'lighting': 1, 'lights': 1, 'like': 2, 'likes': 2, 'lime': 0, 'limit': 2, 'line': 2, 'linen': 1, 'liners': 1, 'lines': 2, 'lining': 1, 'link': 2, 'links': 2, 'lino': 3, 'lips': 1, 'liqueurs': 0, 'liquid': 1, 'list': 2, 'litter': 1, 'littlehampton': 3, 'liveable': 3, 'liver': 0, 'lizzie': 3, 'loads': 2, 'lobby': 1, 'lobster': 0, 'locality': 2, 'locals': 2, 'location': 2, 'locationfor': 3, 'lock': 1, 'locker': 1, 'lockers': 1, 'lodge': 1, 'lodges': 1, 'log': 1, 'lol': 2, 'lola': 3, 'london': 3, 'look': 2, 'looking': 2, 'looks': 2, 'loop': 1, 'loos': 3, 'loss': 2, 'lot': 2, 'lots': 2, 'louis': 3, 'lounge': 1, 'loungers': 1, 'lounges': 1, 'love': 2, 'loved': 2, 'lovely': 1, 'lovely(though': 3, 'lovers': 2, 'loyalty': 2, 'lucie': 3, 'lucien': 3, 'luck': 2, 'lucy': 3, 'lumps': 0, 'lunch': 0, 'lunches': 0, 'lustre': 3, 'lyric': 3, 'm': 1, 'machine': 1, 'machines': 1, 'madness': 2, 'madras': 3, 'magic': 2, 'magician': 3, 'maid': 1, 'maids': 3, 'maintenance': 1, 'maisie': 3, 'majority': 2, 'makeover': 1, 'malbec': 3, 'man': 2, 'management': 2, 'manager': 2, 'manageress': 3, 'managers': 2, 'manger': 3, 'manner': 2, 'manners': 2, 'manor': 3, 'manu': 3, 'march': 2, 'marina': 1, 'market': 2, 'marketing': 2, 'marks': 2, 'marmalade': 0, 'martin': 3, 'martini': 0, 'martinis': 0, 'mary': 3, 'masala': 0, 'mash': 0, 'massage': 1, 'massages': 1, 'massive': 2, 'mat': 1, 'match': 2, 'materials': 1, 'matress': 3, 'matter': 2, 'mattress': 1, 'mattresses': 1, 'maurice': 3, 'may': 2, 'meal': 0, 'meals': 0, 'meaning': 2, 'mears': 3, 'measure': 2, 'meat': 0, 'media': 2, 'medium': 1, 'meeting': 2, 'meetings': 2, 'melt': 1, 'member': 2, 'members': 2, 'memories': 2, 'memory': 2, 'men': 2, 'mention': 2, 'mentions': 2, 'menu': 0, 'menus': 0, 'merchandise': 2, 'merchant': 2, 'merengue': 3, 'mess': 2, 'message': 2, 'metal': 1, 'michael': 3, 'michele': 3, 'michelle': 3, 'mics': 3, 'mikayla': 3, 'mile': 2, 'milk': 0, 'mind': 2, 'mine': 2, 'minehead': 3, 'minimum': 2, 'minor': 2, 'mins': 2, 'minus': 2, 'minutes': 2, 'mirror': 1, 'mirrors': 1, 'miss': 2, 'mistake': 2, 'mix': 0, 'mixture': 0, 'mmmmmmmm': 3, 'moan': 3, 'mobility': 2, 'mode': 2, 'model': 2, 'models': 2, 'modern': 1, 'modifications': 2, 'mold': 1, 'mom': 2, 'moment.we': 3, 'moments': 2, 'mon': 3, 'monday': 3, 'money': 2, 'monies': 2, 'month': 2, 'months': 2, 'mood': 2, 'mop': 1, 'morale': 2, 'more': 2, 'morn': 3, 'morning': 2, 'morning.there': 3, 'mornings': 1, 'morrison': 3, 'morrisons': 3, 'mortgage': 2, 'mother': 2, 'mothers': 2, 'mould': 1, 'mountains': 1, 'mouth': 2, 'move': 2, 'muddle': 3, 'mugs': 1, 'mulhern': 3, 'mum': 2, 'murder': 2, 'mushrooms': 0, 'music': 2, 'nachos': 0, 'nail': 1, 'nails': 1, 'name': 2, 'nappies': 3, 'nappy': 3, 'nat': 3, 'nature': 2, 'navigation': 2, 'navigator': 3, 'nearby': 1, 'nearer': 2, 'neds': 3, 'need': 2, 'needs': 2, 'negative': 2, 'negatives': 2, 'neighbour': 2, 'neighbours': 2, 'nephew': 2, 'nephews': 3, 'new': 2, 'newfoundland': 3, 'news': 2, 'newspaper': 2, 'nextday': 3, 'nice': 2, 'nicole': 3, 'niece': 2, 'niggle': 3, 'niggles': 3, 'night': 2, 'nightmare': 2, 'nightmares': 2, 'nights': 2, 'nights.i': 3, 'nights.would': 3, 'nine': 2, 'no': 2, 'noise': 2, 'noisey': 3, 'non': 2, 'none': 2, 'norfolk': 3, 'not.open': 3, 'notch': 2, 'note': 2, 'notes': 2, 'nothing': 2, 'notice': 2, 'nuggets': 0, 'number': 2, 'numbers': 2, 'nurses': 2, 'oakley': 3, 'oasis': 1, 'observation': 2, 'occasion': 2, 'occasions': 2, 'occupants': 1, 'occurrence': 2, 'ocean': 1, 'oct': 3, 'october': 3, 'oddity': 3, 'odour': 1, 'of': 2, 'offer': 2, 'offering': 2, 'offerings': 2, 'offers': 2, 'office': 2, 'oil': 1, 'oir': 3, 'old': 2, 'olds': 2, 'omelette': 0, 'omelettes': 0, 'on': 2, 'one': 2, 'ones': 2, 'onions': 0, 'onsite': 1, 'opening': 2, 'operation': 2, 'opinion': 2, 'opinions': 2, 'opportunity': 2, 'opposite': 2, 'option': 2, 'options': 2, 'orchids': 1, 'ordeal': 2, 'order': 2, 'orders': 2, 'organisation': 2, 'origami': 3, 'origins': 2, 'ornament': 1, 'other': 2, 'others': 2, 'ours': 2, 'ourselves': 2, 'outage': 2, 'outback': 3, 'outdoor': 1, 'outdoors': 1, 'outfit': 2, 'outing': 2, 'outlets': 1, 'outlook': 2, 'outs': 2, 'over': 2, 'overall': 2, 'overdone': 3, 'overflowing': 1, 'overhaul': 2, 'overheated': 3, 'overlooking': 1, 'overnight': 2, 'overs': 3, 'owls': 3, 'owner': 2, 'owners': 2, 'owners.this': 3, 'o’clock': 3, 'pace': 2, 'pack': 1, 'package': 2, 'packages': 2, 'paddington': 3, 'pagham': 3, 'paint': 1, 'painters': 1, 'paintwork': 1, 'paintwork.very': 3, 'pan': 0, 'pancakes': 0, 'pane': 1, 'panelling': 1, 'pans': 1, 'panto': 3, 'pantomime': 3, 'pantomimes': 3, 'paolina': 3, 'papa': 3, 'paper': 2, 'papers': 2, 'paperwork': 2, 'par': 2, 'parade': 2, 'parcs': 3, 'parents': 2, 'park': 1, 'parking': 1, 'parks': 1, 'parlour': 3, 'parrot': 3, 'parsnips': 0, 'part': 2, 'parties': 2, 'partner': 2, 'partners': 2, 'parts': 1, 'party': 2, 'pass': 2, 'passage': 2, 'passes': 2, 'past': 2, 'pasteries': 3, 'pastries': 0, 'patch': 1, 'patches': 1, 'path': 2, 'paths': 2, 'patio': 1, 'pauline': 3, 'pavements': 1, 'pavilion': 1, 'pay': 2, 'payment': 2, 'peace': 2, 'peaceful': 2, 'peacocks': 3, 'peas': 0, 'pebbles': 1, 'pedicure': 1, 'people': 2, 'peoples': 2, 'peppers': 0, 'per': 2, 'performance': 2, 'performances': 2, 'perhpas': 3, 'period': 2, 'periods': 2, 'permit': 2, 'person': 2, 'persona': 2, 'personality': 2, 'perspective': 2, 'petite': 3, 'phone': 2, 'photo': 2, 'photographer': 2, 'photos': 2, 'pi': 3, 'piano': 1, 'pick': 2, 'picture': 2, 'pictures': 2, 'pie': 0, 'piece': 1, 'pieces': 1, 'pies': 0, 'pik': 3, 'pile': 1, 'pillar': 1, 'pillow': 1, 'pillowcase': 3, 'pillows': 1, 'pin': 1, 'pink': 1, 'pinning': 3, 'pinot': 0, 'pint': 0, 'pipes': 1, 'pit': 1, 'pitch': 2, 'pitches': 2, 'pity': 2, 'pizza': 0, 'pizzas': 0, 'place': 2, 'place.loved': 3, 'places': 2, 'plaice': 3, 'plaits': 3, 'plan': 2, 'plans': 2, 'plaque': 1, 'plaques': 1, 'plaster': 1, 'plastic': 1, 'plate': 1, 'plated': 1, 'plates': 1, 'platter': 0, 'play': 2, 'player': 2, 'players': 2, 'pleasant': 1, 'pleasure': 2, 'plenty': 2, 'plot': 2, 'ploy': 2, 'plug': 1, 'plugs': 1, 'plumbing': 1, 'plumes': 3, 'plus': 2, 'pm': 2, 'point': 2, 'pointer': 2, 'points': 2, 'policy': 2, 'pond': 1, 'pooch': 3, 'pool': 1, 'pool-': 3, 'pool.2parks': 3, 'poole': 3, 'pools': 1, 'population': 2, 'pork': 0, 'portion': 2, 'portions': 1, 'portreeves': 3, 'portsmouth': 3, 'position': 2, 'positives': 2, 'possible': 2, 'postcode': 3, 'poster': 2, 'posts': 2, 'pot': 0, 'potato': 0, 'potatoes': 0, 'potential': 2, 'potion': 3, 'pots': 1, 'pouches': 1, 'pound': 0, 'power': 2, 'pp': 3, 'practice': 2, 'praise': 2, 'prams': 3, 'premature': 2, 'premier': 2, 'premises': 1, 'prep': 2, 'prepared': 2, 'presence': 2, 'present': 2, 'presentation': 2, 'presented': 2, 'preserves': 0, 'press': 2, 'pressure': 2, 'preston': 3, 'price': 2, 'prices': 2, 'prices.room': 3, 'pricey': 1, 'pricing': 2, 'pride': 2, 'princes': 3, 'printer': 1, 'priory': 3, 'privacy': 2, 'prob': 3, 'problem': 2, 'problems': 2, 'process': 2, 'processing': 2, 'produce': 2, 'product': 2, 'productions': 2, 'products': 2, 'professional': 2, 'professionals': 2, 'program': 2, 'programme': 2, 'promenade': 1, 'promotion': 2, 'proofing': 1, 'propaganda': 2, 'properties': 2, 'property': 2, 'proportion': 2, 'proprietor': 2, 'proprietors': 3, 'pros': 2, 'prosecco': 0, 'provided': 2, 'provision': 2, 'provisions': 2, 'proximity': 2, 'prunes': 0, 'pub': 1, 'public': 2, 'pubs': 1, 'pudding': 0, 'puddings': 0, 'puddle': 1, 'puddlngs': 3, 'pug': 3, 'pup': 3, 'quality': 2, 'quality-': 3, 'quality.food': 3, 'quantities': 2, 'quantity': 2, 'quarters': 1, 'query': 2, 'question': 2, 'queue': 2, 'queues': 2, 'queuing': 3, 'quiet': 1, 'quirks': 2, 'quizzes': 2, 'quote': 2, 'rabbit': 1, 'race': 2, 'racer': 3, 'racetrack': 3, 'radiator': 1, 'radiators': 1, 'radio': 2, 'raft': 1, 'rail': 1, 'rails': 1, 'rain': 1, 'rainfall': 1, 'rally': 2, 'range': 1, 'ranger': 3, 'rapids': 3, 'rate': 2, 'rateng': 3, 'rates': 2, 'rating': 2, 'ratio': 2, 'rattling': 1, 'ravioli': 0, 'ray': 3, 'rd': 3, 'reach': 2, 'reaction': 2, 'reactions': 2, 'read': 2, 'reading': 2, 'reality': 2, 'reason': 2, 'reasons': 2, 'reception': 1, 'receptionist': 3, 'receptionists': 3, 'recommendations': 2, 'recommended': 2, 'recreation': 1, 'rectangle': 1, 'redcoats': 3, 'redecoration': 3, 'reds': 1, 'reduction': 2, 'refreshing': 0, 'refreshments': 0, 'refund': 2, 'refurb': 3, 'refurbish': 1, 'refurbishment': 1, 'regards': 2, 'regime': 2, 'regis': 3, 'reign': 2, 'relations': 2, 'relative': 2, 'relax': 1, 'relaxation': 1, 'relaxing': 1, 'relief': 2, 'reluctant': 2, 'remote': 1, 'remotes': 1, 'renovations': 1, 'rental': 1, 'renter': 3, 'repairs': 1, 'replacement': 1, 'replica': 1, 'replies': 2, 'reply': 2, 'reproduction': 1, 'reproductions': 1, 'reps': 2, 'request': 2, 'requests': 2, 'requirements': 2, 'reserve': 2, 'residents': 2, 'residue': 1, 'resort': 1, 'resorting': 2, 'resorts': 1, 'respect': 2, 'responsable': 3, 'response': 2, 'responsibility': 2, 'rest': 2, 'restaurant': 0, 'restaurants': 0, 'restriction': 2, 'restrictions': 2, 'restuarant': 3, 'resturant': 3, 'retainer': 1, 'rethink': 2, 'retreat': 2, 'return': 2, 'reunion': 2, 'review': 2, 'reviewers': 2, 'reviews': 2, 'rhubarb': 0, 'rhymes': 3, 'rib': 0, 'ribeye': 0, 'ribs': 0, 'ride': 2, 'rides': 2, 'ridge': 1, 'right': 2, 'ring': 1, 'rings': 1, 'rinn': 3, 'rioja': 3, 'rip': 2, 'ripping': 2, 'rise': 2, 'risers': 1, 'river': 1, 'river/': 3, 'riverside': 3, 'road': 2, 'roads': 2, 'roaming': 2, 'roast': 0, 'robes': 1, 'robess': 3, 'roles': 2, 'roll': 1, 'rollercoaster': 3, 'rolls': 0, 'roof': 1, 'room': 1, 'room.there': 3, 'rooms': 1, 'rope': 1, 'ropes': 1, 'rosie': 3, 'rosso': 3, 'round': 1, 'roundabout': 3, 'rounder': 3, 'route': 2, 'routes': 2, 'routine': 2, 'row': 1, 'rows': 1, 'royals': 3, 'rubbery': 0, 'rubbish': 2, 'rudeness': 3, 'rugby': 2, 'ruin': 2, 'rule': 2, 'rules': 2, 'run': 2, 'running': 2, 'rush': 2, 'rustic': 1, 'rustington': 3, 'sad': 2, 'safe': 2, 'safety': 2, 'said': 2, 'sainsbury': 3, 'salad': 0, 'salmon': 0, 'salone': 3, 'salty': 0, 'sam': 3, 'same': 2, 'samples': 2, 'sands': 1, 'sandwich': 0, 'sandwiches': 0, 'sandy': 1, 'santa': 3, 'sarah': 3, 'saturday': 3, 'sauce': 0, 'sauces': 0, 'sauna': 1, 'sausage': 0, 'sausages': 0, 'scenery': 1, 'scenes': 2, 'schedule': 2, 'school': 2, 'schools': 2, 'scones': 0, 'scooter': 1, 'score': 2, 'screen': 1, 'screens': 1, 'screwdriver': 1, 'scrub': 1, 'scrum': 3, 'scum': 3, 'sea': 1, 'seafront': 3, 'sean': 3, 'seaside': 1, 'season': 2, 'seasoning': 0, 'seat': 1, 'seating': 1, 'seats': 1, 'seaview': 3, 'second': 2, 'section': 2, 'sections': 1, 'security': 2, 'seeing': 2, 'seize': 2, 'selction': 3, 'selection': 2, 'selections': 2, 'self': 2, 'sence': 3, 'sense': 2, 'september': 3, 'serice': 3, 'serve': 2, 'server': 2, 'service': 2, 'services': 2, 'servies': 3, 'servis': 3, 'session': 2, 'set': 2, 'seth': 3, 'sets': 2, 'settee': 1, 'setting': 2, 'settings': 2, 'sevice': 3, 'sewer': 1, 'sex': 2, 'sfaff': 3, 'shades': 1, 'shalley': 3, 'shambles': 3, 'shame': 2, 'shanks': 3, 'shape': 1, 'share': 2, 'shareing': 3, 'sharon': 3, 'sharpen': 2, 'shed': 1, 'sheets': 1, 'shelf': 1, 'shelves': 1, 'ship': 2, 'ships': 2, 'shirt': 1, 'shock': 2, 'shoes': 1, 'shop': 1, 'shops': 1, 'shoreline': 1, 'short': 2, 'shortbread': 0, 'shot': 2, 'shots': 2, 'shout': 2, 'shouting': 2, 'show': 2, 'shower': 1, 'showers': 1, 'shows': 2, 'shuffling': 3, 'shuts': 2, 'siblings': 2, 'sick': 2, 'side': 1, 'sight': 2, 'sights': 2, 'sign': 2, 'signage': 1, 'signal': 2, 'signs': 2, 'sills': 1, 'silver': 1, 'simeon': 3, 'similarities': 2, 'singer': 2, 'singers': 2, 'singing': 2, 'singles': 2, 'sink': 1, 'sinks': 1, 'sirens': 3, 'sister': 2, 'site': 2, 'sites': 2, 'sitting': 1, 'situation': 2, 'size': 1, 'sized': 1, 'sizes': 1, 'skelter': 3, 'skewers': 0, 'skills': 2, 'skin': 1, 'sky': 1, 'sleep': 2, 'sleeper': 1, 'sleepers': 1, 'sleeve': 1, 'slice': 0, 'sliced': 0, 'slices': 0, 'slide': 1, 'slides': 1, 'slot': 2, 'slots': 1, 'slow': 2, 'slush': 3, 'small': 1, 'smaller': 1, 'smell': 1, 'smelling': 1, 'smells': 0, 'smile': 2, 'smiles': 2, 'smoke': 1, 'smoking': 2, 'smoothie': 0, 'snacks': 0, 'snd': 3, 'snow': 1, 'soaps': 1, 'social': 2, 'socket': 1, 'sockets': 1, 'socks': 1, 'sofa': 1, 'sofas': 1, 'softplay': 3, 'soldier': 2, 'solution': 2, 'some': 2, 'someone': 2, 'something': 2, 'son': 2, 'songs': 2, 'sorry': 2, 'sort': 2, 'soul': 2, 'sound': 2, 'soundproofing': 1, 'sounds': 2, 'soup': 0, 'sources': 2, 'spa': 1, 'space': 1, 'spaces': 1, 'spacious': 1, 'span': 2, 'spark': 2, 'spas': 1, 'speaker': 2, 'spec': 2, 'special': 2, 'specialist': 2, 'specials': 2, 'specialty': 1, 'speed': 2, 'spencer': 3, 'spent': 2, 'spice': 0, 'spider': 1, 'spirited': 2, 'spirits': 2, 'splash': 1, 'splashpool': 3, 'splashworld': 3, 'split': 2, 'splits': 2, 'sponge': 1, 'spoon': 0, 'spoons': 0, 'sports': 2, 'spot': 2, 'spotlights': 1, 'spots': 1, 'spray': 1, 'springs': 1, 'sprouts': 0, 'spruce': 1, 'spud': 3, 'squeeze': 2, 'st': 3, 'stables': 1, 'staff': 2, 'staffcouldn’t': 3, 'staffing': 2, 'stage': 2, 'stages': 2, 'stain': 1, 'stains': 1, 'staircase': 1, 'stairs': 1, 'stance': 2, 'stand': 2, 'standard': 2, 'standards': 2, 'standing': 2, 'standpoint': 2, 'stands': 2, 'staples': 1, 'star': 2, 'stars': 2, 'start': 2, 'starter': 2, 'starters': 2, 'starts': 2, 'state': 2, 'station': 1, 'stations': 1, 'status': 2, 'stay': 2, 'staycation': 3, 'stayed': 2, 'stayers': 3, 'staying': 2, 'stays': 2, 'stds': 3, 'steak': 0, 'steakhouses': 3, 'steaklets': 3, 'steep': 1, 'stench': 3, 'step': 2, 'stephanie': 3, 'steps': 2, 'stick': 2, 'sticky': 1, 'stomach': 2, 'stone': 1, 'stonework': 1, 'stop': 2, 'stopover': 3, 'storage': 1, 'store': 1, 'story': 2, 'stove': 1, 'straw': 1, 'strawberries': 0, 'stream': 2, 'street': 2, 'streets': 2, 'strength': 2, 'stretch': 1, 'strident': 3, 'string': 2, 'strip': 1, 'stroll': 1, 'strong': 2, 'structures': 1, 'struggle': 2, 'stuff': 2, 'stunts': 2, 'style': 1, 'styles': 1, 'substance': 2, 'substitute': 2, 'subway': 1, 'success': 2, 'sue': 2, 'suggestion': 2, 'suggestions': 2, 'suit': 2, 'suitcase': 1, 'suite': 1, 'sum': 2, 'summary': 2, 'summer': 2, 'sunlight': 1, 'sunshine': 1, 'suntrap': 3, 'superb': 1, 'supermarket': 0, 'supermarkets': 0, 'supper': 0, 'supplements': 2, 'supplies': 1, 'supply': 1, 'support': 2, 'supprise': 3, 'suprise': 3, 'surface': 1, 'surfaces': 1, 'surprise': 2, 'surprised': 2, 'surprises': 2, 'surrounding': 2, 'surroundings': 1, 'suspect': 2, 'sussex': 3, 'sussex.staff': 3, 'swan': 3, 'sweets': 0, 'swim': 1, 'swiming': 3, 'swimmers': 2, 'swimming': 1, 'swimsuit': 3, 'swing': 1, 'swings': 1, 'switches': 1, 'system': 2, 'systems': 2, 't': 2, 't.v': 3, 'table': 1, 'tablecloths': 1, 'tables': 1, 'tableware': 1, 'tag': 2, 'takeaway': 0, 'taken': 2, 'talk': 2, 'tank': 1, 'tap': 1, 'taps': 1, 'tariff': 2, 'tart': 0, 'task': 2, 'taste': 0, 'tasty': 0, 'tat': 3, 'tavelodge': 3, 'taxi': 2, 'tbh': 3, 'tea': 0, 'team': 2, 'tear': 1, 'teas': 0, 'teaspoon': 0, 'technique': 2, 'technology': 2, 'teddies': 3, 'teddy': 3, 'teen': 2, 'teens': 2, 'teeny': 3, 'teeth': 1, 'telephones': 1, 'television': 2, 'televisions': 1, 'telly': 3, 'temp': 1, 'temperature': 1, 'tent': 1, 'term': 2, 'term.we': 3, 'term/6': 3, 'terms': 2, 'terrace': 1, 'tesco': 3, 'text': 2, 'textures': 1, 'than': 2, 'thank': 2, 'thanks': 2, 'thankyou': 3, 'that': 2, 'thats': 2, 'theatre': 2, 'theme': 2, 'themes': 2, 'therapist': 2, 'therapists': 2, 'thermostats': 1, 'theyresponded': 3, 'thin': 1, 'thing': 2, 'things': 2, 'think),was': 3, 'thinking': 2, 'tho': 2, 'thomas': 3, 'thorouly': 3, 'those': 2, 'thought': 2, 'thoughtfulness': 3, 'thoughts': 2, 'threadbare': 3, 'thrum': 3, 'thumbs': 2, 'thyme': 0, 'ticket': 2, 'tickets': 2, 'tide': 2, 'tidy': 1, 'tie': 1, 'tiering': 3, 'tiles': 1, 'time': 2, 'time.on': 3, 'timers': 1, 'times': 2, 'timing': 2, 'timings': 3, 'tint': 1, 'tip': 1, 'tips': 2, 'tired': 2, 'tiresome': 3, 'tissue': 1, 'tlc': 3, 'to': 2, 'toast': 0, 'toaster': 0, 'toddler': 1, 'toddlers': 1, 'toilet': 1, 'toiletries': 1, 'toilets': 1, 'tokens': 2, 'tomato': 0, 'tomatoes': 0, 'too.beware': 3, 'too.def': 3, 'too.it': 3, 'toothbrushes': 1, 'top': 2, 'toppings': 0, 'tops': 1, 'tots': 3, 'touch': 2, 'touches': 1, 'tour': 2, 'tourists': 2, 'tours': 2, 'towel': 1, 'towels': 1, 'towers': 1, 'towlle': 3, 'town': 2, 'towns': 2, 'toy': 1, 'toys': 1, 'track': 2, 'tractor': 1, 'trade': 2, 'tradition': 2, 'traffic': 2, 'trail': 2, 'train': 2, 'trainers': 2, 'training': 2, 'trampoline': 1, 'transactions': 2, 'transfer': 2, 'transport': 2, 'trap': 1, 'travel': 2, 'travelers': 2, 'travelled': 2, 'traveller': 2, 'travelodge': 3, 'travelodges': 3, 'tray': 1, 'treat': 2, 'treatment': 2, 'treatments': 1, 'treats': 0, 'trees': 1, 'tribute': 2, 'tributes': 3, 'trick': 2, 'tricks': 2, 'trio': 2, 'trip': 2, 'trips': 2, 'trolleys': 1, 'trot': 3, 'trouble': 2, 'trout': 0, 'trunks': 1, 'tub': 1, 'tubs': 1, 'tunes': 2, 'tunnel': 1, 'turnaround': 2, 'turnover': 2, 'tv': 1, 'tweak': 2, 'twins': 2, 'twist': 2, 'twists': 2, 'two': 2, 'tykes': 3, 'type': 2, 'types': 2, 'u': 2, 'u.k': 3, 'umbrellas': 1, 'underfloor': 1, 'understanding': 2, 'unfortunates': 3, 'unit': 1, 'units': 1, 'up': 2, 'update': 2, 'updating': 2, 'upgrade': 2, 'upgrades': 1, 'upkeep': 1, 'ups': 2, 'upside': 2, 'us': 2, 'usage.i': 3, 'use': 2, 'useless': 2, 'user': 2, 'users': 2, 'ussues': 3, 'utensils': 1, 'v': 3, 'vacation': 2, 'val': 3, 'value': 2, 'van': 2, 'variation': 2, 'variety': 2, 'veet': 3, 'veg': 0, 'vegans': 0, 'vegetables': 0, 'veggie': 0, 'veggies': 0, 'vehicles': 2, 'vending': 1, 'ventilation': 1, 'ventilator': 1, 'venue': 2, 'venues': 2, 'veronica': 3, 'vibe': 1, 'vibes': 3, 'vicinity': 1, 'victor': 3, 'video': 2, 'view': 2, 'views': 2, 'villa': 1, 'village': 2, 'violence': 2, 'virus': 2, 'visibility': 2, 'visit': 2, 'visit!we': 3, 'visitor': 2, 'visitors': 2, 'visits': 2, 'vivarium': 3, 'voice': 2, 'volume': 2, 'vouchers': 2, 'wages': 2, 'wait': 2, 'waiter': 0, 'waiting': 2, 'waitress': 0, 'waitress-': 3, 'waitresses': 3, 'waitrose': 3, 'waits': 2, 'wake': 2, 'walk': 2, 'walker': 3, 'walks': 2, 'walkways': 1, 'wall': 1, 'walls': 1, 'wannabes': 3, 'warden': 3, 'wardrobe': 1, 'wardrobes': 1, 'warm': 1, 'warmth': 1, 'warning': 2, 'warriors': 2, 'washing': 1, 'waste': 2, 'water': 1, 'waterpark': 3, 'waters': 1, 'waterworld': 3, 'waterwotld': 3, 'wave': 2, 'waves': 1, 'way': 2, 'we': 2, 'wear': 1, 'weather': 2, 'weatherspoons': 3, 'website': 2, 'wedding': 2, 'weddings': 2, 'wedges': 0, 'week': 2, 'weekend': 2, 'weekender': 3, 'weekends': 2, 'weeks': 2, 'weeny': 3, 'welcome': 2, 'welcome.i': 3, 'welcoming': 2, 'well': 2, 'wendy': 3, 'went': 2, 'whatsit': 3, 'wheelbarrows': 3, 'wheelchairs': 1, 'whellbarrows': 3, 'whiff': 3, 'while': 2, 'white': 1, 'whites': 0, 'who': 2, 'wich': 3, 'wife': 2, 'wifi': 1, 'wilde': 3, 'wildlife': 2, 'will': 2, 'williams': 3, 'wind': 1, 'window': 1, 'windows': 1, 'windowsill': 1, 'winds': 1, 'wine': 0, 'wines': 0, 'winter': 1, 'wipes': 1, 'wire': 1, 'wireless': 1, 'wish': 2, 'wishes': 2, 'witch': 3, 'with': 2, 'wkend': 3, 'woman': 2, 'women': 2, 'wood': 1, 'woodburner': 3, 'woodland': 1, 'woods': 1, 'woodwork': 1, 'word': 2, 'words': 2, 'work': 2, 'worked': 2, 'workers': 2, 'works': 2, 'world': 2, 'worry': 2, 'worst': 2, 'worthwhile': 2, 'wrap': 1, 'wrappers': 0, 'wrestling': 2, 'wyn': 3, 'yeaf': 3, 'year': 2, 'year.it': 3, 'years': 2, 'yes': 2, 'yolks': 0, 'you': 2, 'young': 2, 'youngest': 2, 'yrs': 2, 'zone': 2, '\\xa0 ': 3, '£': 1, '’s': 2, '🍺': 3, '👌': 3, '👍': 3, '🙂': 3, '🤣': 3}\n"
     ]
    }
   ],
   "source": [
    "print(cluster_map_accom)\n",
    "#print(cluster_map_food)\n",
    "#print(cluster_map_attract)"
   ]
  },
  {
   "cell_type": "code",
   "execution_count": 269,
   "metadata": {},
   "outputs": [
    {
     "data": {
      "text/plain": [
       "2981"
      ]
     },
     "execution_count": 269,
     "metadata": {},
     "output_type": "execute_result"
    }
   ],
   "source": [
    "len(cluster_map_accom)"
   ]
  },
  {
   "cell_type": "code",
   "execution_count": 270,
   "metadata": {},
   "outputs": [],
   "source": [
    "# Cluster aspects\n",
    "def cluster(n,name):\n",
    "    cluster = [k for k,v in asp_to_cluster_map.items() if float(v) ==n]\n",
    "    return cluster "
   ]
  },
  {
   "cell_type": "markdown",
   "metadata": {},
   "source": [
    "### Accommodation"
   ]
  },
  {
   "cell_type": "code",
   "execution_count": 271,
   "metadata": {},
   "outputs": [
    {
     "ename": "NameError",
     "evalue": "name 'asp_to_cluster_map' is not defined",
     "output_type": "error",
     "traceback": [
      "\u001b[1;31m---------------------------------------------------------------------------\u001b[0m",
      "\u001b[1;31mNameError\u001b[0m                                 Traceback (most recent call last)",
      "\u001b[1;32m<ipython-input-271-38def9d3113f>\u001b[0m in \u001b[0;36m<module>\u001b[1;34m\u001b[0m\n\u001b[0;32m      3\u001b[0m \u001b[0mcluster_list\u001b[0m \u001b[1;33m=\u001b[0m \u001b[1;33m[\u001b[0m\u001b[1;33m]\u001b[0m\u001b[1;33m\u001b[0m\u001b[1;33m\u001b[0m\u001b[0m\n\u001b[0;32m      4\u001b[0m \u001b[1;32mfor\u001b[0m \u001b[0mi\u001b[0m \u001b[1;32min\u001b[0m \u001b[0mrange\u001b[0m\u001b[1;33m(\u001b[0m\u001b[1;36m4\u001b[0m\u001b[1;33m)\u001b[0m\u001b[1;33m:\u001b[0m\u001b[1;33m\u001b[0m\u001b[1;33m\u001b[0m\u001b[0m\n\u001b[1;32m----> 5\u001b[1;33m     \u001b[0mclusters\u001b[0m\u001b[1;33m=\u001b[0m \u001b[0mcluster\u001b[0m\u001b[1;33m(\u001b[0m\u001b[0mi\u001b[0m\u001b[1;33m,\u001b[0m\u001b[0mname\u001b[0m\u001b[1;33m)\u001b[0m\u001b[1;33m\u001b[0m\u001b[1;33m\u001b[0m\u001b[0m\n\u001b[0m\u001b[0;32m      6\u001b[0m     \u001b[0mcluster_list\u001b[0m\u001b[1;33m.\u001b[0m\u001b[0mappend\u001b[0m\u001b[1;33m(\u001b[0m\u001b[0mclusters\u001b[0m\u001b[1;33m)\u001b[0m\u001b[1;33m\u001b[0m\u001b[1;33m\u001b[0m\u001b[0m\n",
      "\u001b[1;32m<ipython-input-270-20ed4e43bbda>\u001b[0m in \u001b[0;36mcluster\u001b[1;34m(n, name)\u001b[0m\n\u001b[0;32m      1\u001b[0m \u001b[1;31m# Cluster aspects\u001b[0m\u001b[1;33m\u001b[0m\u001b[1;33m\u001b[0m\u001b[1;33m\u001b[0m\u001b[0m\n\u001b[0;32m      2\u001b[0m \u001b[1;32mdef\u001b[0m \u001b[0mcluster\u001b[0m\u001b[1;33m(\u001b[0m\u001b[0mn\u001b[0m\u001b[1;33m,\u001b[0m\u001b[0mname\u001b[0m\u001b[1;33m)\u001b[0m\u001b[1;33m:\u001b[0m\u001b[1;33m\u001b[0m\u001b[1;33m\u001b[0m\u001b[0m\n\u001b[1;32m----> 3\u001b[1;33m     \u001b[0mcluster\u001b[0m \u001b[1;33m=\u001b[0m \u001b[1;33m[\u001b[0m\u001b[0mk\u001b[0m \u001b[1;32mfor\u001b[0m \u001b[0mk\u001b[0m\u001b[1;33m,\u001b[0m\u001b[0mv\u001b[0m \u001b[1;32min\u001b[0m \u001b[0masp_to_cluster_map\u001b[0m\u001b[1;33m.\u001b[0m\u001b[0mitems\u001b[0m\u001b[1;33m(\u001b[0m\u001b[1;33m)\u001b[0m \u001b[1;32mif\u001b[0m \u001b[0mfloat\u001b[0m\u001b[1;33m(\u001b[0m\u001b[0mv\u001b[0m\u001b[1;33m)\u001b[0m \u001b[1;33m==\u001b[0m\u001b[0mn\u001b[0m\u001b[1;33m]\u001b[0m\u001b[1;33m\u001b[0m\u001b[1;33m\u001b[0m\u001b[0m\n\u001b[0m\u001b[0;32m      4\u001b[0m     \u001b[1;32mreturn\u001b[0m \u001b[0mcluster\u001b[0m\u001b[1;33m\u001b[0m\u001b[1;33m\u001b[0m\u001b[0m\n",
      "\u001b[1;31mNameError\u001b[0m: name 'asp_to_cluster_map' is not defined"
     ]
    }
   ],
   "source": [
    "# Apply cluster function for accommodation\n",
    "name = cluster_map_accom\n",
    "cluster_list = []\n",
    "for i in range(4):\n",
    "    clusters= cluster(i,name)\n",
    "    cluster_list.append(clusters)"
   ]
  },
  {
   "cell_type": "code",
   "execution_count": 259,
   "metadata": {},
   "outputs": [
    {
     "ename": "IndexError",
     "evalue": "list index out of range",
     "output_type": "error",
     "traceback": [
      "\u001b[1;31m---------------------------------------------------------------------------\u001b[0m",
      "\u001b[1;31mIndexError\u001b[0m                                Traceback (most recent call last)",
      "\u001b[1;32m<ipython-input-259-4f7134f90925>\u001b[0m in \u001b[0;36m<module>\u001b[1;34m\u001b[0m\n\u001b[1;32m----> 1\u001b[1;33m \u001b[0mcluster1\u001b[0m \u001b[1;33m=\u001b[0m \u001b[0mcluster_list\u001b[0m\u001b[1;33m[\u001b[0m\u001b[1;36m0\u001b[0m\u001b[1;33m]\u001b[0m\u001b[1;33m\u001b[0m\u001b[1;33m\u001b[0m\u001b[0m\n\u001b[0m\u001b[0;32m      2\u001b[0m \u001b[0mcluster2\u001b[0m \u001b[1;33m=\u001b[0m \u001b[0mcluster_list\u001b[0m\u001b[1;33m[\u001b[0m\u001b[1;36m1\u001b[0m\u001b[1;33m]\u001b[0m\u001b[1;33m\u001b[0m\u001b[1;33m\u001b[0m\u001b[0m\n\u001b[0;32m      3\u001b[0m \u001b[0mcluster3\u001b[0m \u001b[1;33m=\u001b[0m \u001b[0mcluster_list\u001b[0m\u001b[1;33m[\u001b[0m\u001b[1;36m2\u001b[0m\u001b[1;33m]\u001b[0m\u001b[1;33m\u001b[0m\u001b[1;33m\u001b[0m\u001b[0m\n\u001b[0;32m      4\u001b[0m \u001b[0mcluster4\u001b[0m \u001b[1;33m=\u001b[0m \u001b[0mcluster_list\u001b[0m\u001b[1;33m[\u001b[0m\u001b[1;36m3\u001b[0m\u001b[1;33m]\u001b[0m\u001b[1;33m\u001b[0m\u001b[1;33m\u001b[0m\u001b[0m\n\u001b[0;32m      5\u001b[0m \u001b[0mcluster5\u001b[0m \u001b[1;33m=\u001b[0m \u001b[0mcluster_list\u001b[0m\u001b[1;33m[\u001b[0m\u001b[1;36m4\u001b[0m\u001b[1;33m]\u001b[0m\u001b[1;33m\u001b[0m\u001b[1;33m\u001b[0m\u001b[0m\n",
      "\u001b[1;31mIndexError\u001b[0m: list index out of range"
     ]
    }
   ],
   "source": [
    "cluster1 = cluster_list[0]\n",
    "cluster2 = cluster_list[1]\n",
    "cluster3 = cluster_list[2]\n",
    "cluster4 = cluster_list[3]\n",
    "cluster5 = cluster_list[4]"
   ]
  },
  {
   "cell_type": "code",
   "execution_count": 2602,
   "metadata": {},
   "outputs": [],
   "source": [
    "# Apply topic to each line based on word being in each cluster\n",
    "conditions = [aspects_accom[\"Result\"].isin(cluster1),aspects_accom[\"Result\"].isin(cluster2),aspects_accom[\"Result\"].isin(cluster3),\n",
    "             aspects_accom[\"Result\"].isin(cluster4),aspects_accom[\"Result\"].isin(cluster5)]\n",
    "\n",
    "values = [\"Topic1\",\"Topic2\",\"Topic3\",\"Topic4\",\"Topic5\"]\n",
    "\n",
    "aspects_accom[\"Topic\"] = np.select(conditions,values)"
   ]
  },
  {
   "cell_type": "code",
   "execution_count": 2604,
   "metadata": {},
   "outputs": [
    {
     "data": {
      "text/html": [
       "<div>\n",
       "<style scoped>\n",
       "    .dataframe tbody tr th:only-of-type {\n",
       "        vertical-align: middle;\n",
       "    }\n",
       "\n",
       "    .dataframe tbody tr th {\n",
       "        vertical-align: top;\n",
       "    }\n",
       "\n",
       "    .dataframe thead th {\n",
       "        text-align: right;\n",
       "    }\n",
       "</style>\n",
       "<table border=\"1\" class=\"dataframe\">\n",
       "  <thead>\n",
       "    <tr style=\"text-align: right;\">\n",
       "      <th></th>\n",
       "      <th>OrigID</th>\n",
       "      <th>Town</th>\n",
       "      <th>Category</th>\n",
       "      <th>Score</th>\n",
       "      <th>Review</th>\n",
       "      <th>Aspects</th>\n",
       "      <th>Result</th>\n",
       "      <th>Sentiment</th>\n",
       "      <th>Topic</th>\n",
       "    </tr>\n",
       "  </thead>\n",
       "  <tbody>\n",
       "    <tr>\n",
       "      <th>0</th>\n",
       "      <td>246</td>\n",
       "      <td>Bognor</td>\n",
       "      <td>Accommodation</td>\n",
       "      <td>0</td>\n",
       "      <td>Central B &amp; B We had room 6, excellent view, w...</td>\n",
       "      <td>{'aspect_pairs': [('view', 'excellent', 0.5719...</td>\n",
       "      <td>view</td>\n",
       "      <td>0.5719</td>\n",
       "      <td>Topic3</td>\n",
       "    </tr>\n",
       "    <tr>\n",
       "      <th>1</th>\n",
       "      <td>246</td>\n",
       "      <td>Bognor</td>\n",
       "      <td>Accommodation</td>\n",
       "      <td>0</td>\n",
       "      <td>There are 8 rooms, the 2 top floor ones are si...</td>\n",
       "      <td>{'aspect_pairs': [('ones', 'singles', 0.0, 7)]}</td>\n",
       "      <td>ones</td>\n",
       "      <td>0.0000</td>\n",
       "      <td>Topic1</td>\n",
       "    </tr>\n",
       "    <tr>\n",
       "      <th>2</th>\n",
       "      <td>246</td>\n",
       "      <td>Bognor</td>\n",
       "      <td>Accommodation</td>\n",
       "      <td>0</td>\n",
       "      <td>We were told that most of the occupancy was gi...</td>\n",
       "      <td>{'aspect_pairs': [('pool', 'new', 0.0, 1)]}</td>\n",
       "      <td>pool</td>\n",
       "      <td>0.0000</td>\n",
       "      <td>Topic4</td>\n",
       "    </tr>\n",
       "    <tr>\n",
       "      <th>3</th>\n",
       "      <td>246</td>\n",
       "      <td>Bognor</td>\n",
       "      <td>Accommodation</td>\n",
       "      <td>0</td>\n",
       "      <td>Parking could be a problem, but Alison gave us...</td>\n",
       "      <td>{'aspect_pairs': [('parking', 'problem', -0.40...</td>\n",
       "      <td>parking</td>\n",
       "      <td>-0.4019</td>\n",
       "      <td>Topic4</td>\n",
       "    </tr>\n",
       "    <tr>\n",
       "      <th>4</th>\n",
       "      <td>246</td>\n",
       "      <td>Bognor</td>\n",
       "      <td>Accommodation</td>\n",
       "      <td>0</td>\n",
       "      <td>Very good breakfast, but when did hash browns ...</td>\n",
       "      <td>{'aspect_pairs': [('breakfast', 'very good', 0...</td>\n",
       "      <td>breakfast</td>\n",
       "      <td>0.4404</td>\n",
       "      <td>Topic2</td>\n",
       "    </tr>\n",
       "  </tbody>\n",
       "</table>\n",
       "</div>"
      ],
      "text/plain": [
       "   OrigID    Town       Category  Score  \\\n",
       "0     246  Bognor  Accommodation      0   \n",
       "1     246  Bognor  Accommodation      0   \n",
       "2     246  Bognor  Accommodation      0   \n",
       "3     246  Bognor  Accommodation      0   \n",
       "4     246  Bognor  Accommodation      0   \n",
       "\n",
       "                                              Review  \\\n",
       "0  Central B & B We had room 6, excellent view, w...   \n",
       "1  There are 8 rooms, the 2 top floor ones are si...   \n",
       "2  We were told that most of the occupancy was gi...   \n",
       "3  Parking could be a problem, but Alison gave us...   \n",
       "4  Very good breakfast, but when did hash browns ...   \n",
       "\n",
       "                                             Aspects     Result  Sentiment  \\\n",
       "0  {'aspect_pairs': [('view', 'excellent', 0.5719...       view     0.5719   \n",
       "1    {'aspect_pairs': [('ones', 'singles', 0.0, 7)]}       ones     0.0000   \n",
       "2        {'aspect_pairs': [('pool', 'new', 0.0, 1)]}       pool     0.0000   \n",
       "3  {'aspect_pairs': [('parking', 'problem', -0.40...    parking    -0.4019   \n",
       "4  {'aspect_pairs': [('breakfast', 'very good', 0...  breakfast     0.4404   \n",
       "\n",
       "    Topic  \n",
       "0  Topic3  \n",
       "1  Topic1  \n",
       "2  Topic4  \n",
       "3  Topic4  \n",
       "4  Topic2  "
      ]
     },
     "execution_count": 2604,
     "metadata": {},
     "output_type": "execute_result"
    }
   ],
   "source": [
    "aspects_accom.head()"
   ]
  },
  {
   "cell_type": "code",
   "execution_count": 2623,
   "metadata": {},
   "outputs": [
    {
     "data": {
      "text/html": [
       "<div>\n",
       "<style scoped>\n",
       "    .dataframe tbody tr th:only-of-type {\n",
       "        vertical-align: middle;\n",
       "    }\n",
       "\n",
       "    .dataframe tbody tr th {\n",
       "        vertical-align: top;\n",
       "    }\n",
       "\n",
       "    .dataframe thead th {\n",
       "        text-align: right;\n",
       "    }\n",
       "</style>\n",
       "<table border=\"1\" class=\"dataframe\">\n",
       "  <thead>\n",
       "    <tr style=\"text-align: right;\">\n",
       "      <th></th>\n",
       "      <th>OrigID</th>\n",
       "      <th>Town</th>\n",
       "      <th>Category</th>\n",
       "      <th>Score</th>\n",
       "      <th>Review</th>\n",
       "      <th>Aspects</th>\n",
       "      <th>Result</th>\n",
       "      <th>Sentiment</th>\n",
       "      <th>Topic</th>\n",
       "    </tr>\n",
       "  </thead>\n",
       "  <tbody>\n",
       "    <tr>\n",
       "      <th>605</th>\n",
       "      <td>6</td>\n",
       "      <td>Littlehampton</td>\n",
       "      <td>Accommodation</td>\n",
       "      <td>0</td>\n",
       "      <td>The bed was so comfortable and the breakfast w...</td>\n",
       "      <td>{'aspect_pairs': [('drinker', 'non', 0.0, 1), ...</td>\n",
       "      <td>drinker</td>\n",
       "      <td>0.0000</td>\n",
       "      <td>Topic5</td>\n",
       "    </tr>\n",
       "    <tr>\n",
       "      <th>1779</th>\n",
       "      <td>206</td>\n",
       "      <td>Littlehampton</td>\n",
       "      <td>Accommodation</td>\n",
       "      <td>0</td>\n",
       "      <td>Had one of the best meals I have had in a long...</td>\n",
       "      <td>{'aspect_pairs': [('mealshave', 'best', 0.6369...</td>\n",
       "      <td>mealshave</td>\n",
       "      <td>0.6369</td>\n",
       "      <td>Topic5</td>\n",
       "    </tr>\n",
       "    <tr>\n",
       "      <th>1448</th>\n",
       "      <td>141</td>\n",
       "      <td>Bognor</td>\n",
       "      <td>Accommodation</td>\n",
       "      <td>0</td>\n",
       "      <td>In particular, we enjoyed it when the fairgrou...</td>\n",
       "      <td>{'aspect_pairs': [('in', 'particular', 0.0, 1)...</td>\n",
       "      <td>fairground</td>\n",
       "      <td>0.0000</td>\n",
       "      <td>Topic5</td>\n",
       "    </tr>\n",
       "    <tr>\n",
       "      <th>2173</th>\n",
       "      <td>10</td>\n",
       "      <td>Bognor</td>\n",
       "      <td>Accommodation</td>\n",
       "      <td>0</td>\n",
       "      <td>Good onsite parking; great location on the sea...</td>\n",
       "      <td>{'aspect_pairs': [('location', 'good', 0.4404,...</td>\n",
       "      <td>howeverdid</td>\n",
       "      <td>0.2023</td>\n",
       "      <td>Topic5</td>\n",
       "    </tr>\n",
       "    <tr>\n",
       "      <th>1880</th>\n",
       "      <td>329</td>\n",
       "      <td>Bognor</td>\n",
       "      <td>Accommodation</td>\n",
       "      <td>0</td>\n",
       "      <td>The waterpark is brilliant, we've done lots of...</td>\n",
       "      <td>{'aspect_pairs': [('waterpark', 'brilliant', 0...</td>\n",
       "      <td>waterpark</td>\n",
       "      <td>0.5859</td>\n",
       "      <td>Topic5</td>\n",
       "    </tr>\n",
       "  </tbody>\n",
       "</table>\n",
       "</div>"
      ],
      "text/plain": [
       "      OrigID           Town       Category  Score  \\\n",
       "605        6  Littlehampton  Accommodation      0   \n",
       "1779     206  Littlehampton  Accommodation      0   \n",
       "1448     141         Bognor  Accommodation      0   \n",
       "2173      10         Bognor  Accommodation      0   \n",
       "1880     329         Bognor  Accommodation      0   \n",
       "\n",
       "                                                 Review  \\\n",
       "605   The bed was so comfortable and the breakfast w...   \n",
       "1779  Had one of the best meals I have had in a long...   \n",
       "1448  In particular, we enjoyed it when the fairgrou...   \n",
       "2173  Good onsite parking; great location on the sea...   \n",
       "1880  The waterpark is brilliant, we've done lots of...   \n",
       "\n",
       "                                                Aspects      Result  \\\n",
       "605   {'aspect_pairs': [('drinker', 'non', 0.0, 1), ...     drinker   \n",
       "1779  {'aspect_pairs': [('mealshave', 'best', 0.6369...   mealshave   \n",
       "1448  {'aspect_pairs': [('in', 'particular', 0.0, 1)...  fairground   \n",
       "2173  {'aspect_pairs': [('location', 'good', 0.4404,...  howeverdid   \n",
       "1880  {'aspect_pairs': [('waterpark', 'brilliant', 0...   waterpark   \n",
       "\n",
       "      Sentiment   Topic  \n",
       "605      0.0000  Topic5  \n",
       "1779     0.6369  Topic5  \n",
       "1448     0.0000  Topic5  \n",
       "2173     0.2023  Topic5  \n",
       "1880     0.5859  Topic5  "
      ]
     },
     "execution_count": 2623,
     "metadata": {},
     "output_type": "execute_result"
    }
   ],
   "source": [
    "aspects_accom[aspects_accom[\"Topic\"] == \"Topic5\"].sample(5)"
   ]
  },
  {
   "cell_type": "code",
   "execution_count": 2627,
   "metadata": {},
   "outputs": [],
   "source": [
    "# Send aspects dataframe to csv\n",
    "aspects_accom.to_csv(\"TopicsAccom.csv\")"
   ]
  },
  {
   "cell_type": "markdown",
   "metadata": {},
   "source": [
    "### Food"
   ]
  },
  {
   "cell_type": "code",
   "execution_count": 2327,
   "metadata": {},
   "outputs": [],
   "source": [
    "# Apply cluster function for accommodation\n",
    "cluster1 = cluster(cluster_map_food,0)\n",
    "cluster2 = cluster(cluster_map_food,1)\n",
    "cluster3 = cluster(cluster_map_food,2)\n",
    "cluster4 = cluster(cluster_map_food,3)\n",
    "cluster5 = cluster(cluster_map_food,4)\n",
    "cluster6 = cluster(cluster_map_food,5)"
   ]
  },
  {
   "cell_type": "code",
   "execution_count": 2328,
   "metadata": {},
   "outputs": [],
   "source": [
    "# Apply topic to each line based on word being in each cluster\n",
    "conditions = [aspects_food[\"Result\"].isin(cluster1),aspects_food[\"Result\"].isin(cluster2),aspects_food[\"Result\"].isin(cluster3),\n",
    "             aspects_food[\"Result\"].isin(cluster4),aspects_food[\"Result\"].isin(cluster5),aspects_food[\"Result\"].isin(cluster6)]\n",
    "\n",
    "values = [\"Topic1\",\"Topic2\",\"Topic3\",\"Topic4\",\"Topic5\",\"Topic6\"]\n",
    "\n",
    "aspects_food[\"Topic\"] = np.select(conditions,values)"
   ]
  },
  {
   "cell_type": "code",
   "execution_count": 2329,
   "metadata": {},
   "outputs": [
    {
     "data": {
      "text/html": [
       "<div>\n",
       "<style scoped>\n",
       "    .dataframe tbody tr th:only-of-type {\n",
       "        vertical-align: middle;\n",
       "    }\n",
       "\n",
       "    .dataframe tbody tr th {\n",
       "        vertical-align: top;\n",
       "    }\n",
       "\n",
       "    .dataframe thead th {\n",
       "        text-align: right;\n",
       "    }\n",
       "</style>\n",
       "<table border=\"1\" class=\"dataframe\">\n",
       "  <thead>\n",
       "    <tr style=\"text-align: right;\">\n",
       "      <th></th>\n",
       "      <th>OrigID</th>\n",
       "      <th>Town</th>\n",
       "      <th>Category</th>\n",
       "      <th>Score</th>\n",
       "      <th>Review</th>\n",
       "      <th>Aspects</th>\n",
       "      <th>Result</th>\n",
       "      <th>Sentiment</th>\n",
       "      <th>Topic</th>\n",
       "    </tr>\n",
       "  </thead>\n",
       "  <tbody>\n",
       "    <tr>\n",
       "      <th>3110</th>\n",
       "      <td>1100</td>\n",
       "      <td>Littlehampton</td>\n",
       "      <td>Food</td>\n",
       "      <td>0</td>\n",
       "      <td>Very nice pub fare and ale This is a franchise...</td>\n",
       "      <td>{'aspect_pairs': [('fare', 'very nice', 0.4215...</td>\n",
       "      <td>fare</td>\n",
       "      <td>0.4215</td>\n",
       "      <td>Topic2</td>\n",
       "    </tr>\n",
       "    <tr>\n",
       "      <th>3111</th>\n",
       "      <td>1100</td>\n",
       "      <td>Littlehampton</td>\n",
       "      <td>Food</td>\n",
       "      <td>0</td>\n",
       "      <td>Bar and serving staff were extremely pleasant,...</td>\n",
       "      <td>{'aspect_pairs': [('staff', 'serving', 0.0, 1)...</td>\n",
       "      <td>staff</td>\n",
       "      <td>0.0000</td>\n",
       "      <td>Topic3</td>\n",
       "    </tr>\n",
       "    <tr>\n",
       "      <th>3111</th>\n",
       "      <td>1100</td>\n",
       "      <td>Littlehampton</td>\n",
       "      <td>Food</td>\n",
       "      <td>0</td>\n",
       "      <td>Bar and serving staff were extremely pleasant,...</td>\n",
       "      <td>{'aspect_pairs': [('staff', 'serving', 0.0, 1)...</td>\n",
       "      <td>restaurant</td>\n",
       "      <td>0.5106</td>\n",
       "      <td>Topic4</td>\n",
       "    </tr>\n",
       "    <tr>\n",
       "      <th>3111</th>\n",
       "      <td>1100</td>\n",
       "      <td>Littlehampton</td>\n",
       "      <td>Food</td>\n",
       "      <td>0</td>\n",
       "      <td>Bar and serving staff were extremely pleasant,...</td>\n",
       "      <td>{'aspect_pairs': [('staff', 'serving', 0.0, 1)...</td>\n",
       "      <td>bar</td>\n",
       "      <td>0.4019</td>\n",
       "      <td>Topic4</td>\n",
       "    </tr>\n",
       "    <tr>\n",
       "      <th>3111</th>\n",
       "      <td>1100</td>\n",
       "      <td>Littlehampton</td>\n",
       "      <td>Food</td>\n",
       "      <td>0</td>\n",
       "      <td>Bar and serving staff were extremely pleasant,...</td>\n",
       "      <td>{'aspect_pairs': [('staff', 'serving', 0.0, 1)...</td>\n",
       "      <td>bar</td>\n",
       "      <td>0.0000</td>\n",
       "      <td>Topic4</td>\n",
       "    </tr>\n",
       "  </tbody>\n",
       "</table>\n",
       "</div>"
      ],
      "text/plain": [
       "      OrigID           Town Category  Score  \\\n",
       "3110    1100  Littlehampton     Food      0   \n",
       "3111    1100  Littlehampton     Food      0   \n",
       "3111    1100  Littlehampton     Food      0   \n",
       "3111    1100  Littlehampton     Food      0   \n",
       "3111    1100  Littlehampton     Food      0   \n",
       "\n",
       "                                                 Review  \\\n",
       "3110  Very nice pub fare and ale This is a franchise...   \n",
       "3111  Bar and serving staff were extremely pleasant,...   \n",
       "3111  Bar and serving staff were extremely pleasant,...   \n",
       "3111  Bar and serving staff were extremely pleasant,...   \n",
       "3111  Bar and serving staff were extremely pleasant,...   \n",
       "\n",
       "                                                Aspects      Result  \\\n",
       "3110  {'aspect_pairs': [('fare', 'very nice', 0.4215...        fare   \n",
       "3111  {'aspect_pairs': [('staff', 'serving', 0.0, 1)...       staff   \n",
       "3111  {'aspect_pairs': [('staff', 'serving', 0.0, 1)...  restaurant   \n",
       "3111  {'aspect_pairs': [('staff', 'serving', 0.0, 1)...         bar   \n",
       "3111  {'aspect_pairs': [('staff', 'serving', 0.0, 1)...         bar   \n",
       "\n",
       "      Sentiment   Topic  \n",
       "3110     0.4215  Topic2  \n",
       "3111     0.0000  Topic3  \n",
       "3111     0.5106  Topic4  \n",
       "3111     0.4019  Topic4  \n",
       "3111     0.0000  Topic4  "
      ]
     },
     "execution_count": 2329,
     "metadata": {},
     "output_type": "execute_result"
    }
   ],
   "source": [
    "aspects_food.head()"
   ]
  },
  {
   "cell_type": "markdown",
   "metadata": {},
   "source": [
    "### Attractions"
   ]
  },
  {
   "cell_type": "code",
   "execution_count": null,
   "metadata": {},
   "outputs": [],
   "source": [
    "# Apply cluster function for accommodation\n",
    "cluster1 = cluster(cluster_map_attract,0)\n",
    "cluster2 = cluster(cluster_map_attract,1)\n",
    "cluster3 = cluster(cluster_map_attract,2)"
   ]
  },
  {
   "cell_type": "code",
   "execution_count": 2330,
   "metadata": {},
   "outputs": [],
   "source": [
    "# Apply topic to each line based on word being in each cluster\n",
    "conditions = [aspects_attract[\"Result\"].isin(cluster1),aspects_attract[\"Result\"].isin(cluster2),aspects_attract[\"Result\"].isin(cluster3)]\n",
    "             \n",
    "values = [\"Topic1\",\"Topic2\",\"Topic3\"]\n",
    "\n",
    "aspects_attract[\"Topic\"] = np.select(conditions,values)"
   ]
  },
  {
   "cell_type": "code",
   "execution_count": 2331,
   "metadata": {},
   "outputs": [
    {
     "data": {
      "text/html": [
       "<div>\n",
       "<style scoped>\n",
       "    .dataframe tbody tr th:only-of-type {\n",
       "        vertical-align: middle;\n",
       "    }\n",
       "\n",
       "    .dataframe tbody tr th {\n",
       "        vertical-align: top;\n",
       "    }\n",
       "\n",
       "    .dataframe thead th {\n",
       "        text-align: right;\n",
       "    }\n",
       "</style>\n",
       "<table border=\"1\" class=\"dataframe\">\n",
       "  <thead>\n",
       "    <tr style=\"text-align: right;\">\n",
       "      <th></th>\n",
       "      <th>OrigID</th>\n",
       "      <th>Town</th>\n",
       "      <th>Category</th>\n",
       "      <th>Score</th>\n",
       "      <th>Review</th>\n",
       "      <th>Aspects</th>\n",
       "      <th>Result</th>\n",
       "      <th>Sentiment</th>\n",
       "      <th>Topic</th>\n",
       "    </tr>\n",
       "  </thead>\n",
       "  <tbody>\n",
       "    <tr>\n",
       "      <th>9720</th>\n",
       "      <td>53</td>\n",
       "      <td>Arundel</td>\n",
       "      <td>Attractions</td>\n",
       "      <td>0</td>\n",
       "      <td>Very good - Although a little let down by one ...</td>\n",
       "      <td>{'aspect_pairs': [('let', 'little', 0.0, 1)]}</td>\n",
       "      <td>let</td>\n",
       "      <td>0.0000</td>\n",
       "      <td>Topic1</td>\n",
       "    </tr>\n",
       "    <tr>\n",
       "      <th>9721</th>\n",
       "      <td>53</td>\n",
       "      <td>Arundel</td>\n",
       "      <td>Attractions</td>\n",
       "      <td>0</td>\n",
       "      <td>The tractor ride is lovely and the set up is g...</td>\n",
       "      <td>{'aspect_pairs': [('ride', 'lovely', 0.5859, 3...</td>\n",
       "      <td>ride</td>\n",
       "      <td>0.5859</td>\n",
       "      <td>Topic1</td>\n",
       "    </tr>\n",
       "    <tr>\n",
       "      <th>9721</th>\n",
       "      <td>53</td>\n",
       "      <td>Arundel</td>\n",
       "      <td>Attractions</td>\n",
       "      <td>0</td>\n",
       "      <td>The tractor ride is lovely and the set up is g...</td>\n",
       "      <td>{'aspect_pairs': [('ride', 'lovely', 0.5859, 3...</td>\n",
       "      <td>set</td>\n",
       "      <td>0.6249</td>\n",
       "      <td>Topic3</td>\n",
       "    </tr>\n",
       "    <tr>\n",
       "      <th>9724</th>\n",
       "      <td>53</td>\n",
       "      <td>Arundel</td>\n",
       "      <td>Attractions</td>\n",
       "      <td>0</td>\n",
       "      <td>The volunteers are very good however left a li...</td>\n",
       "      <td>{'aspect_pairs': [('chap', 'young', 0.0, 1), (...</td>\n",
       "      <td>chap</td>\n",
       "      <td>0.0000</td>\n",
       "      <td>Topic1</td>\n",
       "    </tr>\n",
       "    <tr>\n",
       "      <th>9724</th>\n",
       "      <td>53</td>\n",
       "      <td>Arundel</td>\n",
       "      <td>Attractions</td>\n",
       "      <td>0</td>\n",
       "      <td>The volunteers are very good however left a li...</td>\n",
       "      <td>{'aspect_pairs': [('chap', 'young', 0.0, 1), (...</td>\n",
       "      <td>volunteers</td>\n",
       "      <td>0.4404</td>\n",
       "      <td>Topic3</td>\n",
       "    </tr>\n",
       "  </tbody>\n",
       "</table>\n",
       "</div>"
      ],
      "text/plain": [
       "      OrigID     Town     Category  Score  \\\n",
       "9720      53  Arundel  Attractions      0   \n",
       "9721      53  Arundel  Attractions      0   \n",
       "9721      53  Arundel  Attractions      0   \n",
       "9724      53  Arundel  Attractions      0   \n",
       "9724      53  Arundel  Attractions      0   \n",
       "\n",
       "                                                 Review  \\\n",
       "9720  Very good - Although a little let down by one ...   \n",
       "9721  The tractor ride is lovely and the set up is g...   \n",
       "9721  The tractor ride is lovely and the set up is g...   \n",
       "9724  The volunteers are very good however left a li...   \n",
       "9724  The volunteers are very good however left a li...   \n",
       "\n",
       "                                                Aspects      Result  \\\n",
       "9720      {'aspect_pairs': [('let', 'little', 0.0, 1)]}         let   \n",
       "9721  {'aspect_pairs': [('ride', 'lovely', 0.5859, 3...        ride   \n",
       "9721  {'aspect_pairs': [('ride', 'lovely', 0.5859, 3...         set   \n",
       "9724  {'aspect_pairs': [('chap', 'young', 0.0, 1), (...        chap   \n",
       "9724  {'aspect_pairs': [('chap', 'young', 0.0, 1), (...  volunteers   \n",
       "\n",
       "      Sentiment   Topic  \n",
       "9720     0.0000  Topic1  \n",
       "9721     0.5859  Topic1  \n",
       "9721     0.6249  Topic3  \n",
       "9724     0.0000  Topic1  \n",
       "9724     0.4404  Topic3  "
      ]
     },
     "execution_count": 2331,
     "metadata": {},
     "output_type": "execute_result"
    }
   ],
   "source": [
    "aspects_attract.head()"
   ]
  },
  {
   "cell_type": "code",
   "execution_count": 2546,
   "metadata": {},
   "outputs": [],
   "source": [
    "# Send aspects dataframe to csv\n",
    "aspects_attract.to_csv(\"TopicsAccom.csv\")"
   ]
  },
  {
   "cell_type": "code",
   "execution_count": null,
   "metadata": {},
   "outputs": [],
   "source": []
  },
  {
   "cell_type": "code",
   "execution_count": null,
   "metadata": {},
   "outputs": [],
   "source": []
  },
  {
   "cell_type": "code",
   "execution_count": null,
   "metadata": {},
   "outputs": [],
   "source": []
  },
  {
   "cell_type": "code",
   "execution_count": null,
   "metadata": {},
   "outputs": [],
   "source": []
  },
  {
   "cell_type": "code",
   "execution_count": null,
   "metadata": {},
   "outputs": [],
   "source": []
  },
  {
   "cell_type": "code",
   "execution_count": null,
   "metadata": {},
   "outputs": [],
   "source": []
  },
  {
   "cell_type": "code",
   "execution_count": null,
   "metadata": {},
   "outputs": [],
   "source": []
  },
  {
   "cell_type": "code",
   "execution_count": 1801,
   "metadata": {},
   "outputs": [],
   "source": [
    "# Define model - a window of 10 either side or 20 context words seemed to work best\n",
    "model1 = Word2Vec(df_new[\"Processed\"],size = 100, window = 10, min_count = 2, sample = 0.001)"
   ]
  },
  {
   "cell_type": "code",
   "execution_count": 1802,
   "metadata": {},
   "outputs": [
    {
     "data": {
      "text/plain": [
       "[('bathroom', 0.999945342540741),\n",
       " ('bed', 0.9999423027038574),\n",
       " ('around', 0.9999335408210754),\n",
       " ('shower', 0.9999334216117859),\n",
       " ('see', 0.9999322891235352),\n",
       " ('however', 0.9999309778213501),\n",
       " ('toilet', 0.9999284148216248),\n",
       " ('full', 0.9999262094497681),\n",
       " ('old', 0.999925434589386),\n",
       " ('floor', 0.999923586845398),\n",
       " ('door', 0.9999232888221741),\n",
       " ('guest', 0.9999220371246338),\n",
       " ('owner', 0.9999217987060547),\n",
       " ('beach', 0.9999216794967651),\n",
       " ('area', 0.9999210238456726),\n",
       " ('child', 0.9999207258224487),\n",
       " ('need', 0.9999202489852905),\n",
       " ('little', 0.9999200105667114),\n",
       " ('also', 0.9999188780784607),\n",
       " ('lot', 0.9999185800552368)]"
      ]
     },
     "execution_count": 1802,
     "metadata": {},
     "output_type": "execute_result"
    }
   ],
   "source": [
    "# Get most similar words to 'room', the most common aspect\n",
    "a = model1.wv.most_similar(positive = ['room'],topn = 20)\n",
    "a"
   ]
  },
  {
   "cell_type": "code",
   "execution_count": 1803,
   "metadata": {},
   "outputs": [
    {
     "name": "stdout",
     "output_type": "stream",
     "text": [
      "['not', 'food', 'good', 'would', 'staff', 'service', 'great', 'one', 'room', 'meal', 'restaurant', 'lovely', 'table', 'back', 'place', 'could', 'friendly', 'really', 'like', 'nice', 'well', 'go', 'night', 'menu', 'get', 'lunch', 'drink', 'hotel', 'visit', 'breakfast', 'le', 'family', 'order', 'went', 'also', 'chip', 'excellent', 'told', 'pub', 'ordered', 'asked', 'even', 'arrived', 'came', 'area', 'said', 'cooked', 'never', 'stay', 'fish', 'poor', 'evening', 'first', 'much', 'two', 'always', 'bar', 'made', 'busy', 'off', 'experience', 'need', 'main', 'going', 'got', 'people', 'left', 'minute', 'little', 'eat', 'clean', 'last', 'cold', 'recommend', 'disappointed', 'served', 'took', 'small', 'dinner', 'definitely', 'wait', 'new', 'lot', 'however', 'better', 'next', 'sunday', 'come', 'friend', 'best', 'money', 'customer', 'kid', 'price', 'disappointing', 'waitress', 'booked', 'looked', 'say', 'delicious', 'hot', 'quality', 'choice', 'visited', 'chicken', 'away', 'stayed', 'see', 'roast', 'way', 'old', 'take', 'value', 'bit', 'around', 'pool', 'plate', 'many', 'long', 'starter', 'hour', 'helpful', 'amazing', 'child', 'still', 'another', 'coffee', 'ok', 'thing', 'time', 'make', 'ever', 'return', 'portion', 'find', 'enough', 'think', 'warm', 'everything', 'feel', 'review', 'wanted', 'full', 'looking', 'thought', 'know', 'quite', 'burger', 'dish', 'tea', 'weekend', 'course', 'wife', 'shame', 'decided', 'worth', 'look', 'found', 'year', 'large', 'enjoyed', 'local', 'fresh', 'fantastic', 'home', 'awful', 'rude', 'week', 'want', 'special', 'floor', 'pizza', 'bad', 'side', 'waiting', 'arundel', 'wine', 'bill', 'atmosphere', 'cafe', 'birthday', 'outside', 'tasty', 'waited', 'done', 'salad', 'half', 'park', 'pleasant', 'sauce', 'steak', 'eating', 'bed', 'given', 'though', 'min', 'nothing', 'lady', 'open', 'couple', 'available', 'put', 'try', 'location', 'pay', 'welcome', 'manager', 'seemed', 'big', 'cake', 'door', 'without', 'ask', 'standard', 'hard', 'fine', 'absolutely', 'potato', 'water', 'christmas', 'husband', 'party', 'dirty', 'walk', 'saturday', 'felt', 'dog', 'avoid', 'worst', 'chef', 'used', 'expensive', 'sure', 'work', 'whole', 'selection', 'especially', 'extremely', 'right', 'free', 'today', 'top', 'every', 'check', 'although', 'owner', 'member', 'beer', 'sat', 'let', 'terrible', 'paid', 'site', 'holiday', 'something', 'waiter', 'attentive', 'tasted', 'pie', 'pudding', 'give', 'slow', 'superb', 'highly', 'group', 'problem', 'offer', 'different', 'comfortable', 'toilet', 'young', 'guest', 'thank', 'dry', 'bathroom', 'apartment', 'shower', 'beach', 'use', 'morning', 'actually', 'else', 'run', 'later', 'love', 'point', 'beef', 'taste', 'booking', 'garden', 'beautiful', 'car', 'clearly', 'needed', 'overall', 'serving', 'wonderful', 'welcoming', 'eaten', 'gave', 'egg', 'day', 'queue', 'reception', 'tried', 'front', 'occasion', 'anything', 'kitchen', 'far', 'cheese', 'lamb', 'view', 'show', 'soon', 'offered', 'three', 'due', 'must', 'early', 'dessert', 'ate', 'enjoy', 'town', 'coming', 'happy', 'glass', 'wrong', 'leave', 'perfect', 'dining', 'trip', 'adult', 'resort', 'certainly', 'visiting', 'high', 'daughter', 'returning', 'break', 'window', 'disgusting', 'veg', 'unfortunately', 'accommodation', 'whilst', 'sandwich', 'option', 'called', 'flavour', 'bread', 'rather', 'expect', 'extra', 'priced', 'recommended', 'empty', 'reasonable', 'end', 'parking', 'staying', 'loved', 'sausage', 'son', 'age', 'quickly', 'impressed', 'inside', 'huge', 'entertainment', 'star', 'least', 'quiet', 'previous', 'probably', 'behind', 'partner', 'taken', 'chose', 'part', 'fact', 'book', 'almost', 'real', 'curry', 'disappointment', 'cream', 'sea', 'tired', 'someone', 'several', 'plenty', 'start', 'along', 'call', 'either', 'everyone', 'treat', 'polite', 'fun', 'walked', 'carvery', 'sort', 'size', 'month', 'bottle', 'already', 'ordering', 'seated', 'decor', 'ago', 'tasteless', 'kept', 'set', 'brilliant', 'takeaway', 'working', 'hand', 'seems', 'gone', 'anyone', 'recently', 'fair', 'plus', 'house', 'towel', 'building', 'decent', 'past', 'pretty', 'meat', 'started', 'sit', 'maybe', 'bacon', 'may', 'guy', 'item', 'cod', 'near', 'sorry', 'wall', 'arrival', 'short', 'changed', 'within', 'lack', 'received', 'venue', 'girl', 'delivery', 'swimming', 'keep', 'seen', 'complain', 'sadly', 'person', 'help', 'brought', 'changing', 'afternoon', 'facility', 'late', 'making', 'wish', 'close', 'shop', 'round', 'totally', 'apology', 'bother', 'forward', 'average', 'since', 'cost', 'presented', 'management', 'ready', 'yes', 'taking', 'waste', 'music', 'road', 'friday', 'despite', 'including', 'business', 'quick', 'vegetable', 'reason', 'piece', 'sweet', 'twice', 'turned', 'littlehampton', 'easy', 'basic', 'live', 'change', 'comment', 'fabulous', 'complained', 'charge', 'issue', 'vegan', 'surprised', 'complaint', 'four', 'favourite', 'pork', 'spent', 'phone', 'together', 'tomato', 'cheap', 'please', 'returned', 'fry', 'tell', 'ice', 'super', 'arrive', 'meant', 'buffet', 'prawn', 'hair', 'bought', 'might', 'ride', 'seat', 'centre', 'walking', 'thanks', 'trying', 'cut', 'overpriced', 'greeted', 'fault', 'eventually', 'black', 'instead', 'load', 'amount', 'slide', 'space', 'middle', 'bag', 'class', 'stopped', 'chocolate', 'bedroom', 'name', 'wedding', 'noisy', 'second', 'finally', 'soft', 'monday', 'sign', 'ground', 'popped', 'low', 'filthy', 'photo', 'website', 'ended', 'fire', 'met', 'play', 'deal', 'inedible', 'serve', 'stage', 'card', 'completely', 'across', 'getting', 'english', 'sent', 'bland', 'machine', 'expected', 'saw', 'mention', 'apart', 'spa', 'yet', 'rest', 'choose', 'happened', 'usual', 'seem', 'frozen', 'fried', 'burnt', 'bath', 'prepared', 'everywhere', 'heard', 'beautifully', 'bowl', 'seating', 'tiny', 'worse', 'regular', 'rice', 'freshly', 'ruined', 'care', 'river', 'number', 'obviously', 'checked', 'considering', 'finished', 'picture', 'light', 'team', 'chair', 'reasonably', 'smile', 'yorkshire', 'man', 'desert', 'hungry', 'sticky', 'tv', 'clear', 'provided', 'weather', 'closed', 'vegetarian', 'saying', 'the', 'able', 'knew', 'explained', 'indian', 'server', 'gravy', 'generous', 'elsewhere', 'shown', 'cleaning', 'five', 'broken', 'honest', 'noise', 'cook', 'setting', 'anniversary', 'missing', 'air', 'per', 'oh', 'running', 'head', 'level', 'somewhere', 'sitting', 'stop', 'efficient', 'straight', 'cup', 'leaving', 'diner', 'onion', 'asking', 'cleared', 'tapa', 'included', 'slice', 'carpet', 'none', 'surprise', 'hear', 'chance', 'attention', 'caravan', 'rubbish', 'till', 'activity', 'total', 'fab', 'apparently', 'fast', 'six', 'woman', 'pint', 'spacious', 'massive', 'understand', 'longer', 'often', 'red', 'add', 'informed', 'uncomfortable', 'mistake', 'board', 'medium', 'toddler', 'trouble', 'followed', 'refund', 'perhaps', 'style', 'tough', 'range', 'establishment', 'normal', 'mum', 'lunchtime', 'tonight', 'cleaned', 'summer', 'mind', 'wet', 'upon', 'baby', 'noticed', 'batter', 'gem', 'traditional', 'non', 'in', 'sleep', 'moment', 'thoroughly', 'idea', 'request', 'mixed', 'move', 'fit', 'placed', 'relaxed', 'nearly', 'managed', 'gluten', 'future', 'glad', 'toast', 'dreadful', 'fan', 'seaside', 'wave', 'charged', 'cosy', 'enjoyable', 'nearby', 'using', 'note', 'character', 'miserable', 'parent', 'variety', 'believe', 'celebration', 'limited', 'outstanding', 'hope', 'immediately', 'fully', 'perfectly', 'finish', 'regularly', 'allowed', 'particularly', 'bring', 'forgotten', 'mean', 'harvester', 'feeling', 'roll', 'overcooked', 'rate', 'easter', 'opened', 'literally', 'anyway', 'double', 'gorgeous', 'entrance', 'event', 'bothered', 'crispy', 're', 'cooking', 'interesting', 'honestly', 'pasta', 'moved', 'fruit', 'mash', 'beyond', 'mini', 'mother', 'delivered', 'smell', 'possible', 'mouth', 'finger', 'earlier', 'cocktail', 'ambience', 'beefeater', 'simply', 'usually', 'varied', 'carrot', 'added', 'oil', 'thai', 'brown', 'pleased', 'badly', 'pre', 'heat', 'ingredient', 'world', 'shut', 'touch', 'others', 'butlin', 'cash', 'cutlery', 'opinion', 'yesterday', 'stuff', 'professional', 'thin', 'hole', 'spend', 'opted', 'mediocre', 'nicely', 'italian', 'chinese', 'soup', 'mushroom', 'baked', 'paying', 'pea', 'worked', 'replaced', 'french', 'ham', 'modern', 'state', 'covered', 'fridge', 'previously', 'slightly', 'rushed', 'online', 'lounge', 'fairly', 'okay', 'realised', 'opening', 'throughout', 'expectation', 'type', 'negative', 'word', 'tot', 'raw', 'soggy', 'normally', 'downhill', 'attitude', 'coke', 'garlic', 'bite', 'single', 'comfy', 'grubby', 'microwave', 'funny', 'drive', 'bin', 'stood', 'rock', 'john', 'sussex', 'forgot', 'showed', 'advertised', 'requested', 'relaxing', 'appalling', 'company', 'cheaper', 'papa', 'bean', 'acceptable', 'indeed', 'authentic', 'lift', 'safe', 'norfolk', 'consisted', 'suite', 'following', 'situated', 'king', 'oven', 'west', 'shocking', 'plastic', 'thrown', 'general', 'case', 'system', 'complete', 'rare', 'detail', 'based', 'turn', 'eye', 'chat', 'popular', 'exactly', 'we', 'smoking', 'properly', 'similar', 'miss', 'upset', 'mentioned', 'scone', 'refused', 'remember', 'kind', 'greasy', 'edible', 'green', 'street', 'cover', 'crisp', 'pas', 'anywhere', 'easily', 'foot', 'travel', 'crowded', 'sun', 'experienced', 'meet', 'law', 'dated', 'mile', 'shall', 'incredibly', 'mine', 'job', 'result', 'arcade', 'loud', 'positive', 'passed', 'except', 'difficult', 'decorated', 'package', 'ball', 'otherwise', 'juice', 'perfection', 'outdoor', 'watch', 'particular', 'bank', 'list', 'wood', 'london', 'jug', 'constantly', 'standing', 'arm', 'treatment', 'boy', 'credit', 'paper', 'horrible', 'smaller', 'school', 'life', 'appeared', 'tap', 'father', 'lost', 'truly', 'ale', 'brunch', 'undercooked', 'putting', 'tidy', 'base', 'impressive', 'smelt', 'paint', 'unable', 'stated', 'station', 'alternative', 'voucher', 'splash', 'goodwood', 'host', 'located', 'personal', 'convenient', 'charming', 'maintenance', 'brand', 'impression', 'con', 'thursday', 'band', 'heated', 'proper', 'excuse', 'guess', 'sound', 'barely', 'effort', 'shared', 'picked', 'mix', 'suggest', 'email', 'receive', 'hit', 'la', 'football', 'self', 'spoke', 'nicer', 'conversation', 'flat', 'offering', 'village', 'share', 'sad', 'buy', 'pot', 'indoor', 'advised', 'provide', 'golf', 'butter', 'veggie', 'hygiene', 'seafront', 'dried', 'locally', 'duck', 'george', 'kebab', 'tender', 'simple', 'mustard', 'crab', 'basically', 'stained', 'security', 'matter', 'public', 'sister', 'complaining', 'desk', 'white', 'wide', 'equally', 'cleaner', 'access', 'stand', 'talking', 'known', 'stale', 'thick', 'dust', 'unless', 'filled', 'speak', 'spot', 'gate', 'absolute', 'refurbished', 'fly', 'game', 'describe', 'die', 'lad', 'bass', 'opposite', 'agreed', 'fairground', 'supposed', 'policy', 'answer', 'collect', 'august', 'giving', 'forget', 'spoon', 'promptly', 'arriving', 'rip', 'counter', 'advisor', 'stick', 'poached', 'pastry', 'box', 'piping', 'unpleasant', 'ran', 'neither', 'male', 'watery', 'interested', 'lemon', 'driver', 'strong', 'liver', 'stair', 'corner', 'difference', 'poorly', 'decoration', 'east', 'tip', 'pitch', 'key', 'eve', 'mass', 'advance', 'heating', 'distance', 'scallop', 'fell', 'shocked', 'major', 'wednesday', 'term', 'dressing', 'men', 'celebrate', 'ceiling', 'desperate', 'disabled', 'barman', 'attached', 'hence', 'ocean', 'tray', 'homemade', 'it', 'act', 'whatsoever', 'hold', 'cleanliness', 'wake', 'ticket', 'firstly', 'replacement', 'belly', 'finding', 'stone', 'dark', 'ring', 'country', 'face', 'odd', 'temperature', 'granddaughter', 'via', 'fuss', 'payment', 'june', 'seafood', 'unacceptable', 'reading', 'cuisine', 'separate', 'platter', 'deep', 'enter', 'assumed', 'sized', 'welcomed', 'unwelcoming', 'wow', 'delightful', 'ideal', 'watched', 'accommodating', 'chilli', 'café', 'melt', 'filling', 'pick', 'gammon', 'sugar', 'lived', 'keeping', 'animal', 'lettuce', 'worn', 'nowhere', 'damp', 'hardly', 'carte', 'notice', 'snack', 'silver', 'premium', 'scrambled', 'lucky', 'biggest', 'final', 'swan', 'mess', 'catering', 'bone', 'fork', 'third', 'skegness', 'dirt', 'housekeeping', 'maintained', 'behaviour', 'drinking', 'female', 'alcohol', 'history', 'milk', 'spending', 'response', 'actual', 'happen', 'relax', 'shoulder', 'travelodge', 'edge', 'moving', 'cabbage', 'ignored', 'rang', 'reservation', 'exceptional', 'training', 'seeing', 'discount', 'awesome', 'wasted', 'prosecco', 'missed', 'apple', 'lacking', 'health', 'alone', 'chain', 'whether', 'arun', 'presentation', 'chatting', 'rib', 'mainly', 'pleasantly', 'caught', 'mark', 'luckily', 'dropped', 'premise', 'hopefully', 'improve', 'mr', 'hill', 'rush', 'colleague', 'spoken', 'onto', 'extensive', 'prompt', 'pepper', 'grey', 'rabbit', 'nobody', 'consistently', 'gin', 'delay', 'plain', 'naan', 'robin', 'hood', 'knife', 'battered', 'mezze', 'visitor', 'roasted', 'joke', 'com', 'function', 'alarm', 'en', 'brighton', 'afraid', 'neighbour', 'lighting', 'proceeded', 'turkey', 'date', 'supermarket', 'traffic', 'impossible', 'spotless', 'various', 'surly', 'control', 'save', 'personally', 'information', 'concerned', 'wonder', 'eatery', 'surroundings', 'hottest', 'ten', 'club', 'skill', 'criticism', 'medieval', 'original', 'suit', 'luke', 'art', 'recommending', 'luxury', 'treated', 'watching', 'genuinely', 'possibly', 'loo', 'cupboard', 'twin', 'checking', 'catch', 'delight', 'higher', 'line', 'smiling', 'suppose', 'interior', 'pound', 'uk', 'liked', 'locked', 'quirky', 'thinking', 'declined', 'described', 'wanting', 'hesitate', 'hospitality', 'pricey', 'pm', 'cope', 'manner', 'cider', 'terrace', 'replied', 'disaster', 'removed', 'calamari', 'improvement', 'disappoint', 'scampi', 'turkish', 'tasting', 'sen', 'reheated', 'appreciate', 'thankfully', 'furniture', 'boiled', 'entertained', 'tucked', 'tear', 'packed', 'soap', 'upstairs', 'sofa', 'duty', 'tatty', 'cancelled', 'discover', 'inn', 'talk', 'washing', 'december', 'accommodate', 'mushy', 'microwaved', 'question', 'arranged', 'floating', 'struggle', 'helping', 'shouting', 'confirmed', 'lodge', 'freezing', 'realise', 'common', 'corridor', 'generally', 'pity', 'feedback', 'hubby', 'salmon', 'helped', 'disgraceful', 'plentiful', 'contact', 'themed', 'max', 'eater', 'enjoying', 'unhappy', 'example', 'minor', 'bright', 'fussy', 'sometimes', 'smoked', 'candle', 'opportunity', 'rear', 'god', 'obvious', 'accepted', 'chichester', 'dance', 'adequate', 'downstairs', 'property', 'required', 'struggling', 'meaning', 'exception', 'grandson', 'court', 'theme', 'ridiculous', 'bloody', 'express', 'sorted', 'knowledgeable', 'wifi', 'yummy', 'anymore', 'showing', 'angmering', 'sense', 'appear', 'stunning', 'dad', 'pack', 'plaice', 'suitable', 'section', 'environment', 'reserved', 'unfriendly', 'pleasure', 'winter', 'situation', 'frankly', 'kfc', 'inviting', 'pointed', 'wheelchair', 'chap', 'milkshake', 'allow', 'tourist', 'practice', 'doubt', 'korma', 'write', 'banquet', 'apologetic', 'spotted', 'rose', 'strange', 'needle', 'spicy', 'app', 'cauliflower', 'tart', 'leaf', 'domino', 'hut', 'whitebait', 'salt', 'knight', 'squeak', 'preferred', 'message', 'american', 'gold', 'october', 'charging', 'store', 'advice', 'pop', 'stain', 'process', 'shabby', 'staffed', 'clothes', 'worried', 'period', 'custard', 'overnight', 'certain', 'private', 'pink', 'aware', 'bike', 'coast', 'crumble', 'pud', 'warning', 'held', 'fancied', 'smooth', 'swim', 'layout', 'bearing', 'replace', 'par', 'addition', 'coat', 'block', 'disgrace', 'suggestion', 'expecting', 'peaceful', 'virtually', 'gripe', 'july', 'concern', 'pillow', 'dressed', 'rule', 'bigger', 'therefore', 'mostly', 'grill', 'steep', 'assume', 'overly', 'surely', 'horrendous', 'sell', 'over', 'additional', 'send', 'newly', 'pavilion', 'safety', 'rustington', 'annoying', 'continued', 'plan', 'interest', 'log', 'travelling', 'lion', 'attempt', 'praise', 'suggested', 'toffee', 'solid', 'yogurt', 'cottage', 'lizzie', 'quantity', 'quarter', 'promised', 'zero', 'fatty', 'step', 'regarding', 'utter', 'valentine', 'recent', 'sick', 'stomach', 'settled', 'recommendation', 'meeting', 'chunk', 'fancy', 'topping', 'april', 'falling', 'branch', 'apologised', 'dined', 'weird', 'towards', 'politely', 'claim', 'attend', 'bird', 'chippy', 'organisation', 'unlikely', 'overlooking', 'selected', 'answered', 'cloth', 'explain', 'accompanied', 'playing', 'rating', 'phoned', 'cucumber', 'fed', 'hoping', 'establo', 'warmed', 'manage', 'ploughman', 'reviewer', 'rubbery', 'grilled', 'tandoori', 'india', 'telling', 'truffle', 'triple', 'pulled', 'oily', 'support', 'bun', 'napkin', 'collected', 'container', 'overcharged', 'bubble', 'boat', 'larger', 'mattress', 'bedding', 'facing', 'peeling', 'presumably', 'colour', 'horse', 'downside', 'festival', 'surrounding', 'trained', 'supplied', 'brother', 'cobweb', 'stuck', 'saving', 'sink', 'dealt', 'metal', 'catered', 'power', 'daily', 'sight', 'sarah', 'banging', 'boring', 'dusty', 'handed', 'post', 'amongst', 'biscuit', 'spirit', 'melted', 'consider', 'fashioned', 'quaint', 'hell', 'driving', 'decision', 'entered', 'immaculate', 'mould', 'hanging', 'lol', 'complex', 'requirement', 'spoilt', 'listen', 'electric', 'organised', 'dine', 'older', 'numerous', 'mint', 'parked', 'row', 'highlight', 'minimum', 'croissant', 'yellow', 'bonus', 'holding', 'dear', 'down', 'conservatory', 'midweek', 'turning', 'refreshing', 'screen', 'boiling', 'hello', 'tuesday', 'wipe', 'built', 'bottom', 'strongly', 'airy', 'co', 'knocked', 'careful', 'nan', 'heater', 'seriously', 'department', 'blood', 'responsibility', 'train', 'hostel', 'compared', 'clock', 'beginning', 'imagine', 'midday', 'patio', 'peak', 'advise', 'cereal', 'nurse', 'grace', 'paul', 'happening', 'balcony', 'vibe', 'archery', 'specifically', 'upgrade', 'struggled', 'basket', 'gf', 'spotlessly', 'skin', 'season', 'laughed', 'unavailable', 'campsite', 'elderly', 'farm', 'approached', 'gesture', 'entering', 'threw', 'blue', 'barrier', 'warmly', 'crammed', 'explaining', 'accessible', 'shelf', 'favorite', 'broke', 'no', 'reduced', 'present', 'story', 'improved', 'sponge', 'stock', 'kicked', 'penny', 'sold', 'relatively', 'ensure', 'chase', 'rump', 'uninterested', 'fare', 'coleslaw', 'fillet', 'assured', 'incredible', 'shouted', 'suspect', 'embarrassed', 'ahead', 'ginnie', 'glorious', 'wise', 'tuna', 'involved', 'gentleman', 'match', 'spur', 'afterwards', 'explanation', 'produced', 'seasoned', 'bitter', 'choosing', 'spice', 'hidden', 'executed', 'bell', 'lukewarm', 'revisited', 'risotto', 'crap', 'washed', 'china', 'tide', 'tearoom', 'plant', 'dragon', 'alison', 'bringing', 'accept', 'spring', 'grandchild', 'update', 'heavy', 'likely', 'iceland', 'acknowledged', 'membership', 'inch', 'apologise', 'rapid', 'occupied', 'notch', 'charm', 'roof', 'fear', 'camp', 'xx', 'equipped', 'understatement', 'wallpaper', 'deluxe', 'superior', 'suited', 'whoever', 'cheapest', 'allowing', 'motorhome', 'inglenook', 'resturant', 'nugget', 'minehead', 'begin', 'chaotic', 'confused', 'british', 'queuing', 'cabinet', 'wear', 'multiple', 'appears', 'singer', 'performance', 'laugh', 'conditioning', 'drunk', 'painting', 'shape', 'carefully', 'straw', 'amenity', 'starting', 'curtain', 'toiletry', 'cushion', 'socket', 'spinach', 'tony', 'grim', 'agree', 'climping', 'stocked', 'massage', 'teletubbies', 'bailiffscourt', 'stopping', 'dead', 'leg', 'latch', 'remind', 'sport', 'patient', 'attraction', 'funfair', 'grab', 'compensation', 'ton', 'description', 'fixed', 'pebble', 'on', 'serious', 'attractive', 'enormous', 'played', 'resident', 'all', 'appointed', 'crockery', 'tripadvisor', 'kettle', 'parcs', 'questionable', 'web', 'page', 'tub', 'radiator', 'closer', 'beaten', 'trade', 'horrific', 'beware', 'stating', 'fall', 'track', 'energy', 'social', 'race', 'considered', 'wrote', 'wasting', 'designed', 'amusement', 'death', 'murder', 'cutlet', 'wondering', 'balance', 'correct', 'laid', 'neglected', 'chosen', 'warn', 'travelled', 'rely', 'directed', 'faultless', 'revisit', 'living', 'lazy', 'difficulty', 'extreme', 'arrives', 'slight', 'shift', 'lacked', 'reported', 'crumb', 'reality', 'purely', 'understanding', 'manor', 'broccoli', 'mobile', 'human', 'teenager', 'ruin', 'cubicle', 'pushed', 'respect', 'account', 'serf', 'jacket', 'creamy', 'info', 'complimentary', 'muffin', 'orange', 'grease', 'santa', 'spread', 'sunny', 'loyalty', 'remained', 'unusual', 'entry', 'failed', 'loss', 'sparkling', 'outlet', 'angry', 'smiley', 'tower', 'grub', 'jumping', 'receptionist', 'important', 'tasteful', 'directly', 'greedy', 'passion', 'wrap', 'reply', 'rudely', 'denied', 'hayleigh', 'attended', 'joined', 'memory', 'portsmouth', 'luck', 'jam', 'independent', 'mid', 'position', 'promenade', 'tour', 'blanc', 'shamble', 'gym', 'feb', 'occasional', 'cheerful', 'fox', 'exceptionally', 'justin', 'pram', 'awkward', 'news', 'shrugged', 'homely', 'kindly', 'sirloin', 'hey', 'irish', 'lemonade', 'rubber', 'deserves', 'spanish', 'wellington', 'id', 'unnecessary', 'november', 'haddock', 'seasonal', 'appetising', 'de', 'cinema', 'starving', 'lasagne', 'lumpy', 'hurry', 'crust', 'become', 'worthy', 'disgusted', 'smallest', 'congealed', 'cheesy', 'sharing', 'pate', 'ambiance', 'mac', 'dissapointed', 'fino', 'nut', 'shortly', 'passing', 'caesar', 'fat', 'chewy', 'toasted', 'desired', 'nine', 'cousin', 'council', 'felpham', 'individual', 'collection', 'mystery', 'closing', 'mouthful', 'amazed', 'vile', 'south', 'cow', 'allergy', 'commented', 'ginger', 'mug', 'poppadoms', 'avocado', 'warned', 'spoiled', 'bomb', 'chaos', 'lager', 'coconut', 'tikka', 'halibut', 'cancel', 'strawberry', 'sour', 'lake', 'central', 'hash', 'shade', 'surprising', 'listed', 'wash', 'bear', 'valuable', 'bulk', 'royal', 'invited', 'drove', 'risk', 'ben', 'inconvenience', 'healthy', 'cot', 'region', 'luggage', 'wheel', 'loyal', 'annoyed', 'frame', 'blew', 'chill', 'bullet', 'unfortunate', 'shockingly', 'convenience', 'pet', 'hate', 'yuk', 'checkin', 'direct', 'bedside', 'loose', 'blocked', 'communication', 'failure', 'panto', 'upper', 'beverage', 'unsafe', 'office', 'heart', 'countryside', 'trust', 'childhood', 'woke', 'deck', 'refurb', 'february', 'clip', 'satisfaction', 'partial', 'iron', 'lamp', 'very', 'camembert', 'differently', 'frill', 'product', 'wonderfully', 'barrel', 'ray', 'repeated', 'ashamed', 'unbelievable', 'can', 'atrocious', 'spilt', 'cracked', 'rail', 'filth', 'romantic', 'beauty', 'albeit', 'stroll', 'replenished', 'bunk', 'unit', 'blow', 'fee', 'cared', 'genuine', 'route', 'wishing', 'ship', 'underneath', 'pro', 'coach', 'circus', 'hugely', 'wooden', 'nearer', 'pushing', 'partly', 'disco', 'wonky', 'fill', 'emailed', 'weekender', 'cry', 'letting', 'theatre', 'screaming', 'entire', 'continental', 'speaking', 'promise', 'butler', 'headed', 'push', 'sounded', 'proprietor', 'ie', 'follow', 'purchase', 'true', 'utensil', 'pan', 'crazy', 'became', 'shrug', 'ar', 'hotels', 'pricing', 'sliced', 'resembled', 'avisford', 'immaculately', 'tesco', 'remembered', 'dangerous', 'saved', 'initially', 'touched', 'windowsill', 'battery', 'grabbed', 'buggy', 'updated', 'feature', 'focus', 'spaced', 'mackerel', 'tile', 'pigeon', 'worthing', 'maurice', 'design', 'budget', 'al', 'foster', 'prior', 'stall', 'hake', 'rich', 'accommodated', 'belonging', 'stolen', 'ordinary', 'chilled', 'quieter', 'rope', 'delighted', 'report', 'frustrated', 'majority', 'winner', 'competition', 'refurbishment', 'potential', 'thyme', 'include', 'belief', 'festive', 'happily', 'ill', 'smashing', 'overhaul', 'exact', 'somewhat', 'noon', 'intrusive', 'venison', 'tlc', 'dryer', 'advert', 'courtyard', 'promotion', 'windy', 'cigarette', 'throwing', 'cool', 'cart', 'emily', 'asset', 'traveled', 'massively', 'stressed', 'vehicle', 'rustic', 'centerparcs', 'ridiculously', 'everytime', 'josh', 'greet', 'background', 'bbq', 'mislead', 'breath', 'bull', 'shot', 'flying', 'remainder', 'knock', 'manger', 'named', 'nasty', 'shoot', 'ear', 'earned', 'utterly', 'awake', 'resolved', 'booth', 'church', 'mobility', 'january', 'jasmine', 'burned', 'sauvignon', 'admittedly', 'gent', 'swing', 'employee', 'cracker', 'boxing', 'considerable', 'harbour', 'enquire', 'hoped', 'scene', 'heading', 'gutted', 'practically', 'tepid', 'typical', 'ample', 'sample', 'volume', 'goujon', 'pale', 'nope', 'wandered', 'omelette', 'arrogant', 'weekday', 'keen', 'bailey', 'dip', 'ketchup', 'pressure', 'blonde', 'proved', 'industry', 'dough', 'discovered', 'custom', 'burn', 'sag', 'casual', 'uncooked', 'bhajis', 'samosa', 'square', 'appearance', 'reached', 'vicky', 'halloumi', 'texture', 'cardboard', 'juicy', 'vintage', 'overdone', 'chatted', 'lobster', 'dietary', 'raspberry', 'sooner', 'chewing', 'fails', 'insult', 'vanilla', 'grumpy', 'meanwhile', 'france', 'ravioli', 'syrup', 'cute', 'doggy', 'pathetic', 'michelin', 'beresford', 'squash', 'accompanying', 'breast', 'benefit', 'bucket', 'dripping', 'flavoursome', 'roundstone', 'michael', 'displayed', 'clue', 'led', 'confirmation', 'lead', 'supplier', 'providing', 'deliver', 'vinegar', 'breaded', 'mascapone', 'flavor', 'to', 'opposed', 'unappetising', 'mussel', 'intolerance', 'slop', 'brownie', 'aggressive', 'chunky', 'tab', 'salty', 'disappeared', 'ala', 'treacle', 'tomorrow', 'knowledge', 'fawlty', 'powder', 'packet', 'poured', 'gift', 'poisoning', 'action', 'courteous', 'journey', 'grit', 'unhelpful', 'kevin', 'giant', 'tree', 'existent', 'doom', 'seaview', 'advising', 'upfront', 'beth', 'bolt', 'mouldy', 'everyday', 'scuffed', 'patch', 'hoovered', 'naturally', 'planned', 'relative', 'decade', 'fitted', 'aircon', 'disappoints', 'subway', 'housekeeper', 'furnished', 'flume', 'stephen', 'nevertheless', 'cheeky', 'speed', 'useless', 'historic', 'niece', 'wi', 'rotten', 'fortunate', 'damage', 'goodbye', 'plum', 'diabolical', 'morrison', 'supreme', 'trio', 'crackling', 'direction', 'extractor', 'dancing', 'knowing', 'supply', 'dj', 'unlike', 'leaking', 'abba', 'annex', 'understood', 'apply', 'norm', 'superbly', 'lucie', 'cathedral', 'magnificent', 'excited', 'pregnant', 'ache', 'retired', 'squid', 'wind', 'dire', 'code', 'layer', 'emptied', 'bizarre', 'again', 'channel', 'lobby', 'goat', 'charity', 'fallen', 'younger', 'relaxation', 'gross', 'picky', 'youngster', 'rosso', 'mon', 'leisure', 'statement', 'satisfied', 'dump', 'substance', 'lock', 'purpose', 'reach', 'escape', 'buzz', 'charlie', 'chateaubriand', 'length', 'september', 'pain', 'lower', 'alot', 'narrow', 'remove', 'drinker', 'celebrating', 'balanced', 'gatwick', 'waitrose', 'anchor', 'harry', 'craft', 'bang', 'frequent', 'furthest', 'temporary', 'sill', 'toy', 'enthusiasm', 'engaged', 'updating', 'linen', 'threadbare', 'useable', 'heavily', 'flawless', 'exit', 'bracket', 'makeup', 'specific', 'contacted', 'fellow', 'mopped', 'serviette', 'hazard', 'reputation', 'insulation', 'crack', 'greeting', 'skyline', 'reluctant', 'stressful', 'acknowledge', 'tricky', 'plaster', 'contained', 'photograph', 'fortunately', 'bitterly', 'relation', 'europe', 'unpack', 'sock', 'content', 'sorting', 'allocated', 'apparent', 'occasionally', 'google', 'sarcastic', 'forthcoming', 'whatever', 'wardrobe', 'hung', 'proof', 'chavs', 'bursting', 'phoning', 'advertising', 'pride', 'grime', 'recovery', 'glance', 'overlooked', 'letter', 'resolve', 'disapointing', 'dissapointing', 'slippery', 'sauna', 'redeeming', 'violence', 'billy', 'meaty', 'trout', 'disgust', 'strength', 'growing', 'confirming', 'lick', 'dente', 'compliment', 'build', 'sale', 'fitting', 'grant', 'flapjack', 'suffered', 'sleeping', 'wire', 'collecting', 'attending', 'summary', 'courtesy', 'hassle', 'unique', 'telephone', 'smoothly', 'shirt', 'adjacent', 'chloe', 'label', 'sub', 'mold', 'thrum', 'impress', 'uninteresting', 'cross', 'hire', 'client', 'comfort', 'wiped', 'raft', 'cater', 'watering', 'swimsuit', 'corporate', 'my', 'bug', 'mental', 'stuffed', 'makeover', 'preston', 'jamie', 'hovering', 'duvet', 'disability', 'purchased', 'posted', 'draught', 'chilly', 'internet', 'blanket', 'petrol', 'excellant', 'comparison', 'shrivelled', 'shoe', 'eagle', 'subject', 'exterior', 'parade', 'rain', 'fiancé', 'parlour', 'handled', 'banter', 'steam', 'bog', 'fantasy', 'joy', 'golden', 'proud', 'thankyou', 'ignorant', 'aside', 'julie', 'shake', 'slimy', 'ignoring', 'language', 'dec', 'nappy', 'costume', 'trunk', 'extortionate', 'lifeguard', 'listening', 'fayre', 'defiantly', 'flaky', 'picking', 'abroad', 'soaked', 'urine', 'repeat', 'ash', 'argue', 'clump', 'youngest', 'callum', 'getaway', 'accompany', 'reunion', 'carry', 'brake', 'city', 'peace', 'rectified', 'happens', 'interrupted', 'yr', 'countdown', 'reminded', 'patiently', 'hospitable', 'ho', 'handle', 'successful', 'rusty', 'occupant', 'reluctantly', 'aged', 'exciting', 'bench', 'glove', 'clientele', 'anti', 'beat', 'gap', 'eldest', 'impersonal', 'ringing', 'satisfactory', 'join', 'operation', 'james', 'explains', 'rob', 'mashed', 'substitute', 'plug', 'slept', 'helpfull', 'curated', 'routine', 'yeah', 'lousy', 'arrange', 'element', 'climb', 'stress', 'lose', 'noted', 'crowd', 'railway', 'chucked', 'robbed', 'cutting', 'vending', 'decline', 'insisted', 'discussion', 'mayonnaise', 'cherry', 'moathouse', 'corn', 'olive', 'diet', 'topped', 'jar', 'gastro', 'factor', 'refreshment', 'fold', 'lighter', 'substantial', 'squeeze', 'crunchy', 'gourmet', 'reflection', 'placing', 'hated', 'potentially', 'meantime', 'vast', 'brandy', 'importantly', 'labelled', 'urinal', 'pepperoni', 'shandy', 'messy', 'sam', 'daisy', 'song', 'hearty', 'freak', 'barmaid', 'samphire', 'shepherd', 'coating', 'abrupt', 'stupid', 'omg', 'campania', 'limp', 'grizzle', 'speedy', 'aswell', 'wondered', 'randomly', 'reliable', 'finishing', 'record', 'abruptly', 'jazz', 'tight', 'amazingly', 'mary', 'reviewed', 'owns', 'incompetent', 'spit', 'parmesan', 'carried', 'bud', 'flavoured', 'foodie', 'mia', 'cheesecake', 'resulting', 'replacing', 'holly', 'concept', 'tonic', 'satisfy', 'uninspiring', 'ribeye', 'chief', 'writing', 'blowing', 'clearing', 'appreciated', 'beetroot', 'gristle', 'constant', 'shank', 'dozen', 'enquired', 'so', 'chow', 'rung', 'prefer', 'wished', 'splendid', 'coupon', 'busier', 'necessary', 'address', 'icing', 'buzzing', 'sake', 'listened', 'freezer', 'mush', 'voice', 'maple', 'initial', 'nearest', 'suggests', 'knowledgable', 'understandable', 'shortage', 'rated', 'lump', 'pilau', 'celebratory', 'satay', 'dumpling', 'cappuccino', 'ushered', 'wrapped', 'constructive', 'joe', 'allowance', 'remains', 'understaffed', 'treasure', 'aldwick', 'hunter', 'banoffee', 'karim', 'leek', 'quicker', 'presence', 'cheery', 'skinny', 'tail', 'martini', 'requesting', 'remotely', 'sandy', 'memorable', 'companion', 'government', 'vat', 'highest', 'preference', 'cremated', 'noodle', 'meagre', 'weak', 'recognition', 'draft', 'powering', 'stumbled', 'macdonalds', 'accepting', 'sundae', 'removing', 'pretentious', 'moist', 'questioned', 'blown', 'measure', 'allergen', 'paneer', 'originally', 'greek', 'goodness', 'fudge', 'tinned', 'sensible', 'actor', 'dumped', 'spiced', 'definately', 'chez', 'moi', 'assistant', 'produce', 'chris', 'tartare', 'chorizo', 'alcoholic', 'brewery', 'verbally', 'arrangement', 'terrine', 'osteria', 'shredded', 'mexican', 'kukd', 'community', 'aperol', 'movie', 'fascinating', 'wwt', 'occupancy', 'accomodation', 'permit', 'lime', 'armchair', 'decide', 'student', 'hostelry', 'surprisingly', 'hunt', 'scrub', 'refreshed', 'horror', 'consisting', 'salted', 'marked', 'pull', 'extension', 'renovated', 'tint', 'cap', 'ot', 'ideally', 'handy', 'hiccup', 'retro', 'hang', 'solve', 'firm', 'mistakenly', 'yha', 'secret', 'everybody', 'unforgettable', 'woodland', 'quad', 'transfer', 'barrow', 'safely', 'center', 'persuaded', 'nephew', 'soooo', 'necessity', 'fi', 'brainer', 'leaning', 'dress', 'lightbulb', 'cheeseboard', 'excelled', 'coastal', 'noisier', 'rough', 'tracie', 'bulb', 'singing', 'teen', 'headless', 'trickle', 'waking', 'ghost', 'grown', 'ish', 'vomiting', 'sexual', 'eg', 'nature', 'spoiling', 'consumed', 'doorstep', 'weatherspoons', 'maintaining', 'wad', 'assuming', 'degree', 'celcius', 'other', 'postcode', 'bn', 'infact', 'cracking', 'dishwasher', 'drawer', 'folded', 'material', 'warming', 'includes', 'sheet', 'fm', 'defo', 'retreat', 'temple', 'shortbread', 'them', 'repair', 'tractor', 'paddling', 'comedian', 'hilarious', 'explore', 'fighting', 'ensured', 'freindly', 'text', 'anybody', 'overseas', 'avenue', 'managing', 'director', 'stepping', 'basin', 'fireplace', 'powerful', 'soufflé', 'neck', 'allows', 'flight', 'frequently', 'roundabout', 'hectic', 'caring', 'gain', 'affect', 'sone', 'warden', 'awning', 'grass', 'harder', 'enthusiastic', 'patchy', 'march', 'bow', 'adapted', 'here', 'moan', 'granted', 'torch', 'offload', 'airport', 'scattered', 'doorway', 'designated', 'cooker', 'toaster', 'useful', 'rolled', 'karts', 'sand', 'lately', 'height', 'restriction', 'undercover', 'vest', 'overcrowded', 'aspect', 'admit', 'nailed', 'unloved', 'unappealing', 'artwork', 'halloween', 'underwhelmed', 'confidence', 'conditioned', 'nightmare', 'atlantic', 'spillage', 'detract', 'regard', 'reserving', 'announcement', 'urge', 'swearing', 'adding', 'ruining', 'bored', 'interacted', 'ensuite', 'error', 'blame', 'preparing', 'anticipated', 'powered', 'icy', 'drug', 'appalled', 'quoted', 'sewage', 'blockage', 'depressing', 'demolished', 'broom', 'hoovering', 'fooled', 'responded', 'navigator', 'manic', 'guarantee', 'creation', 'posh', 'search', 'invest', 'expedia', 'reference', 'accommodates', 'intention', 'dissatisfied', 'travelodges', 'garage', 'score', 'remote', 'motorbike', 'wrist', 'trolley', 'hanger', 'distinctly', 'ultimately', 'believed', 'pond', 'undesirable', 'advertise', 'false', 'annual', 'smeared', 'strewn', 'delayed', 'outdated', 'millhouse', 'soul', 'print', 'talked', 'que', 'tool', 'repaired', 'ipa', 'horseradish', 'voiced', 'dissatisfaction', 'foolishly', 'wetherspoons', 'compliant', 'forced', 'skirting', 'suffers', 'flushed', 'ease', 'condition', 'complainer', 'criticise', 'pace', 'zone', 'stuffy', 'niggle', 'departure', 'download', 'chest', 'stinky', 'pretend', 'cable', 'switch', 'comfortably', 'cram', 'console', 'recover', 'thief', 'hide', 'oldest', 'indoors', 'stylishly', 'muesli', 'marmalade', 'friendliness', 'intend', 'pokey', 'disposable', 'dedicated', 'beachcomber', 'tribute', 'fortune', 'prize', 'halfway', 'recall', 'guide', 'poster', 'rinse', 'packing', 'mish', 'truth', 'arrogance', 'amateur', 'schedule', 'fashion', 'bend', 'wafer', 'hairdryer', 'upside', 'allocation', 'external', 'concrete', 'landing', 'lovey', 'cooler', 'puddle', 'unhygienic', 'demand', 'raised', 'distressed', 'wale', 'funeral', 'chipped', 'roaring', 'oddity', 'there', 'poo', 'wild', 'leftover', 'availability', 'renovation', 'extend', 'flaking', 'paintwork', 'apalling', 'woefully', 'lie', 'robbery', 'imagined', 'rammed', 'tin', 'duration', 'smoker', 'autograph', 'admitted', 'gandeys', 'exploring', 'shameful', 'restless', 'nicole', 'loverly', 'million', 'floorboard', 'speaker', 'unobtrusive', 'apprehensive', 'midhurst', 'manageress', 'pouring', 'distinct', 'regardless', 'electricity', 'priority', 'advantage', 'lip', 'scoop', 'dune', 'rent', 'user', 'tooth', 'adored', 'landlord', 'unexpected', 'stingy', 'parrot', 'dulce', 'gordon', 'skewer', 'seam', 'noticeable', 'loudly', 'exposed', 'baffled', 'wiping', 'aback', 'sti', 'wholly', 'pier', 'loving', 'guard', 'locker', 'argument', 'faulty', 'deeply', 'hat', 'overdue', 'solo', 'fewer', 'incident', 'onsite', 'kick', 'upto', 'coaching', 'annexe', 'brew', 'motor', 'faced', 'blind', 'connected', 'tastefully', 'antique', 'inexpensive', 'cramming', 'nelson', 'mud', 'shy', 'kayleigh', 'sing', 'iceberg', 'sometime', 'rave', 'centimetre', 'bee', 'louis', 'vodka', 'ouch', 'upgraded', 'butt', 'draw', 'immediate', 'burst', 'flame', 'stupidly', 'police', 'flatly', 'technology', 'discriminating', 'photographer', 'tag', 'arguing', 'communicate', 'obnoxious', 'inadequate', 'plotting', 'woken', 'shane', 'refresh', 'attempted', 'rectify', 'scary', 'fake', 'preparation', 'blair', 'anxious', 'belt', 'louder', 'serviced', 'accessibility', 'repeatedly', 'throughly', 'haskins', 'excessive', 'revival', 'grateful', 'hesitation', 'conveniently', 'facial', 'barnes', 'nostalgic', 'rise', 'neighbouring', 'creaking', 'scruffy', 'out', 'fend', 'session', 'remaining', 'count', 'celebrated', 'an', 'contacting', 'bypass', 'commanded', 'inconvenient', 'supplement', 'favour', 'slick', 'muslin', 'vague', 'scooter', 'easier', 'feed', 'quorn', 'signposted', 'path', 'erm', 'refilled', 'me', 'slip', 'stacking', 'mo', 'clutching', 'entertain', 'cranky', 'operate', 'ramp', 'drop', 'moaning', 'secure', 'pillar', 'string', 'sheer', 'alright', 'hmm', 'fri', 'witnessed', 'revamp', 'ability', 'strangely', 'unruly', 'adjoining', 'forest', 'beforehand', 'quote', 'mousse', 'almond', 'blackberry', 'tied', 'popping', 'storm', 'lifestyle', 'additionally', 'stewed', 'catchup', 'contemporary', 'anytime', 'dislike', 'exceeded', 'lunching', 'asparagus', 'sicilian', 'gherkin', 'equal', 'whereby', 'messed', 'intolerant', 'smelling', 'venturing', 'maker', 'marina', 'polly', 'tammy', 'moody', 'they', 'calorie', 'lush', 'society', 'unorganised', 'embarrassing', 'atmospheric', 'terribly', 'wandering', 'suddenly', 'accused', 'form', 'test', 'lit', 'safer', 'spray', 'reflecting', 'split', 'nod', 'approach', 'thirsty', 'dread', 'sweltering', 'arrow', 'pointing', 'encountered', 'superiority', 'nicest', 'bottled', 'earth', 'substandard', 'stamp', 'th', 'lee', 'ciabatta', 'sharer', 'marie', 'similarly', 'hundred', 'random', 'whipped', 'mozzarella', 'crusty', 'advertises', 'pancake', 'pic', 'pollo', 'ad', 'forza', 'honesty', 'frustrating', 'learned', 'pensioner', 'panna', 'cotta', 'biryani', 'aloo', 'diarrhoea', 'harissa', 'seasoning', 'popadums', 'plonked', 'insipid', 'largish', 'nacho', 'nibble', 'squeezey', 'busting', 'confusing', 'savoury', 'justified', 'haunt', 'idiot', 'kale', 'appearing', 'scored', 'carafe', 'taxi', 'churros', 'caramel', 'spectacular', 'jolly', 'coeliac', 'tge', 'pom', 'rachel', 'brings', 'enhanced', 'impeccable', 'catcher', 'wimpy', 'snatched', 'estate', 'uneatable', 'bengal', 'forgiven', 'spilled', 'hostile', 'scowled', 'butthe', 'bombay', 'portioned', 'tummy', 'sorbet', 'fontwell', 'masala', 'aniversary', 'penne', 'grosse', 'classy', 'nam', 'lucy', 'sublime', 'snooty', 'mamma', 'flabbergasted', 'mixture', 'outing', 'eight', 'ping', 'architecture', 'correctly', 'fryer', 'mar', 'image', 'exquisite', 'deducted', 'inexperienced', 'inattentive', 'earliest', 'marginally', 'sunshine', 'variation', 'heaven', 'planning', 'deliciously', 'butternut', 'judging', 'nyd', 'containing', 'sip', 'stringy', 'pig', 'gallery', 'refill', 'appetite', 'regret', 'hummus', 'smallish', 'rushing', 'extended', 'but', 'buzzy', 'dissspointed', 'cosmetic', 'teacake', 'tofu', 'mein', 'findon', 'queued', 'transferred', 'gristly', 'discusting', 'presume', 'bos', 'former', 'supper', 'hunger', 'learn', 'motte', 'depth', 'overwhelming', 'approachable', 'brie', 'lollipop', 'popcorn', 'yorkie', 'trimming', 'slopped', 'defence', 'restuarant', 'divine', 'pinch', 'chop', 'thrilled', 'stylish', 'furnishing', 'maitre', 'crushed', 'behaved', 'fishing', 'costing', 'recognised', 'puri', 'raise', 'device', 'cowboy', 'badge', 'dilapidated', 'veal', 'amy', 'welsh', 'sept', 'dis', 'shamefully', 'shrimp', 'sourced', 'will', 'swamped', 'this', 'terminal', 'sending', 'ripped', 'refuse', 'peppercorn', 'latte', 'katie', 'computer', 'remain', 'mick', 'confrontational', 'bruschetta', 'source', 'charcoal', 'force', 'shatter', 'consequently', 'heartburn', 'corrected', 'staffing', 'sole', 'imagination', 'sceptical', 'dave', 'st', 'dull', 'uniform', 'apron', 'meringue', 'brilliantly', 'seven', 'lemongrass', 'cramped', 'unbeknown', 'hearted', 'mayo', 'kissy', 'espresso', 'pornstar', 'flop', 'hollow', 'bloke', 'entertaining', 'warmth', 'promising', 'justice', 'expression', 'contrast', 'reflected', 'reminder', 'pocket', 'garnish', 'dare', 'pineapple', 'surpassed', 'gnocchi', 'pear', 'upsetting', 'oscas', 'destination', 'stodgy', 'challenged', 'spite', 'remarkable', 'definite', 'singapore', 'slipped', 'thicken', 'lid', 'whitbread', 'rosti', 'bisque', 'ing', 'scrummy', 'informal', 'resistance', 'poppadum', 'apologized', 'teapot', 'riverside', 'commercial', 'rioja', 'pile', 'discovering', 'flooring', 'innovative', 'wealth', 'takeout', 'coated', 'fail', 'becoming', 'disc', 'stew', 'sorely', 'leisurely', 'crud', 'moglhai', 'reorder', 'couscous', 'stroppy', 'tad', 'written', 'cx', 'sir', 'childish', 'tantrum', 'afford', 'injury', 'ny', 'magna', 'donna', 'bouncing', 'alan', 'role', 'elegant', 'peppered', 'revolting', 'somebody', 'watered', 'pettycoat', 'thermidor', 'limbo', 'somehow', 'landlady', 'pancetta', 'rainy', 'donner', 'vine', 'trully', 'shish', 'complicated', 'related', 'provides', 'closely', 'carla', 'honey', 'scollop', 'nosedived', 'assertive', 'walnut', 'circumstance', 'salsa', 'solution', 'query', 'olde', 'worlde', 'refuge', 'vacated', 'announced', 'tongue', 'unwilling', 'shrub', 'overcharge', 'caused', 'shock', 'subsequently', 'urgency', 'uncleared', 'success', 'florida', 'feta', 'cube', 'akin', 'sparse', 'melon', 'bagel', 'crumpet', 'hotter', 'panini', 'caramelised', 'employ', 'dryness', 'overflowing', 'smelly', 'minus', 'earmarked', 'avoiding', 'trimmed', 'reema', 'blended', 'instantly', 'predictably', 'searching', 'mountain', 'unbelievably', 'vase', 'magnifying', 'engine', 'ford', 'skate', 'artichoke', 'raj', 'doot', 'sachet', 'trot', 'exclusive', 'combination', 'kidney', 'puree', 'recipe', 'alight', 'fluff', 'decorate', 'discovery', 'affordable', 'tiramisu', 'throat', 'unlucky', 'environmental', 'okish', 'ranging', 'uncovered', 'hint', 'barefoot', 'accomodating', 'janet', 'cutter', 'pushchair', 'continues', 'rocky', 'crossbush', 'frites', 'fantastically', 'avalible', 'waterside', 'jus', 'miniature', 'loaded', 'vindaloo', 'tyre', 'medley', 'rhubarb', 'willing', 'tongs', 'linden', 'fishery', 'shimmer', 'lass', 'reheat', 'bode', 'mediterranean', 'stack', 'guacamole', 'berry', 'picnic', 'crown', 'magic', 'carpark', 'copper', 'italy', 'complementary', 'joking', 'learning', 'beck', 'drank', 'twelve', 'varies', 'frustration', 'eleven', 'cheque', 'consuming', 'agency', 'purchasing', 'boot', 'timely', 'piri', 'asks', 'he', 'dauphinoise', 'reserve', 'pagham', 'hock', 'paste', 'lastly', 'ending', 'overgrown', 'flour', 'hazel', 'approximately', 'carbonara', 'kiosk', 'prepare', 'calling', 'buts', 'drenched', 'suspicious', 'spritz', 'instruction', 'soda', 'sizzling', 'volunteer', 'chick', 'describing', 'skittle', 'flatbow', 'bouncer', 'cabin', 'liqourice', 'chalked', 'quiche', 'coin', 'fixing', 'shingle', 'martin', 'surface', 'washington', 'dispenser', 'shallow', 'expansive', 'whose', 'sarcasm', 'snide', 'abused', 'hmp']"
     ]
    }
   ],
   "source": [
    "# index of most frequent words\n",
    "print(model1.wv.index2word,end = \"\")"
   ]
  },
  {
   "cell_type": "code",
   "execution_count": 1804,
   "metadata": {},
   "outputs": [],
   "source": [
    "word_list_room = [a_tuple[0] for a_tuple in a]"
   ]
  },
  {
   "cell_type": "code",
   "execution_count": 1807,
   "metadata": {},
   "outputs": [
    {
     "data": {
      "image/png": "[encoded data removed]",
      "text/plain": [
       "<Figure size 1296x720 with 1 Axes>"
      ]
     },
     "metadata": {
      "needs_background": "light"
     },
     "output_type": "display_data"
    }
   ],
   "source": [
    "# visualise a range of the most frequent words related to the word 'room' in 2 dimensions:\n",
    "words = word_list_room[0:15]\n",
    "wvs = model1.wv[words]\n",
    "\n",
    "tsne = TSNE(n_components=2, random_state=0, n_iter=5000, perplexity=2)\n",
    "np.set_printoptions(suppress=True)\n",
    "T = tsne.fit_transform(wvs)\n",
    "labels = words\n",
    "\n",
    "plt.figure(figsize=(18,10))\n",
    "plt.scatter(T[:, 0], T[:, 1], c='orange', edgecolors='r')\n",
    "for label, x, y in zip(labels, T[:, 0], T[:, 1]):\n",
    "    plt.annotate(label, xy=(x+1, y+1), xytext=(0, 0), textcoords='offset points',fontsize = 10)"
   ]
  },
  {
   "cell_type": "markdown",
   "metadata": {},
   "source": [
    "The custom-trained word embeddings whilst picking up the peculiarities of the words used in the review dataset does not give particularly good word embeddings."
   ]
  },
  {
   "cell_type": "code",
   "execution_count": 1808,
   "metadata": {},
   "outputs": [],
   "source": [
    "# Function to calculate and average vector representation for each set of words comprising each document in the corpus\n",
    "def vectorize_docs(docs,model):\n",
    "    aspects = []\n",
    "    for tokens in docs:\n",
    "        vector_1 = np.zeros(model.vector_size)\n",
    "        vectors = []\n",
    "        for token in tokens:\n",
    "            if token in model.wv:\n",
    "                try:\n",
    "                    vectors.append(model.wv[token])\n",
    "                except KeyError:\n",
    "                    continue\n",
    "        if vectors:\n",
    "            vectors = np.asarray(vectors)\n",
    "            average = vectors.mean(axis = 0)\n",
    "            aspects.append(average)\n",
    "        else:\n",
    "            aspects.append(vector_1)\n",
    "    return aspects"
   ]
  },
  {
   "cell_type": "code",
   "execution_count": 1810,
   "metadata": {},
   "outputs": [
    {
     "data": {
      "text/plain": [
       "(10096, 100)"
      ]
     },
     "execution_count": 1810,
     "metadata": {},
     "output_type": "execute_result"
    }
   ],
   "source": [
    "documents = vectorize_docs(df_new[\"Processed\"], model = model1)\n",
    "len(documents), len(documents[0])"
   ]
  },
  {
   "cell_type": "markdown",
   "metadata": {},
   "source": [
    "## Food"
   ]
  },
  {
   "cell_type": "code",
   "execution_count": 1811,
   "metadata": {},
   "outputs": [],
   "source": [
    "#food = df_new[df_new[\"Category\"] == \"Food\"]\n",
    "#food[\"Processed\"] = food[\"Review_cleaned\"].apply(lambda x: gensim.utils.simple_preprocess(x))\n",
    "#model2 = Word2Vec(food[\"Processed\"],size = 100, window = 10, min_count = 2, sample = 0.001)\n",
    "#documents_food = vectorize_docs(food[\"Processed\"],model = model2)\n",
    "#len(documents_food),len(documents_food[0])"
   ]
  },
  {
   "cell_type": "markdown",
   "metadata": {},
   "source": [
    "## Attractions"
   ]
  },
  {
   "cell_type": "code",
   "execution_count": 1812,
   "metadata": {},
   "outputs": [],
   "source": [
    "#attract = df_new[df_new[\"Category\"] == \"Attractions\"]\n",
    "#attract[\"Processed\"] = attract[\"Review_cleaned\"].apply(lambda x: gensim.utils.simple_preprocess(x))\n",
    "#model3 = Word2Vec(attract[\"Processed\"],size = 100, window = 10, min_count = 2, sample = 0.001)\n",
    "#documents_attract = vectorize_docs(attract[\"Processed\"],model = model2)\n",
    "#len(documents_attract),len(documents_attract[0])"
   ]
  },
  {
   "cell_type": "markdown",
   "metadata": {},
   "source": [
    "# Section 6: Clustering Using K-Means"
   ]
  },
  {
   "cell_type": "markdown",
   "metadata": {},
   "source": [
    "## Find the optimum number of clusters (k)"
   ]
  },
  {
   "cell_type": "markdown",
   "metadata": {},
   "source": [
    "* Distortion: It is calculated as the average of the squared distances from the cluster centers of the respective clusters. Typically, the Euclidean distance metric is used.\n",
    "\n",
    "* Inertia: It is the sum of squared distances of samples to their closest cluster center - is between -1 and 1 with one being the best score (the higher the better)"
   ]
  },
  {
   "cell_type": "markdown",
   "metadata": {},
   "source": [
    "### Accommodation"
   ]
  },
  {
   "cell_type": "markdown",
   "metadata": {},
   "source": [
    "Looks to be around 6 by eye but the knee is plotted at around 3. Looking at the inertia scores they fall after zero then increase then fall again at 3 clusters with the highest at 2. This suggests that the clusters are not clearly defined in this model."
   ]
  },
  {
   "cell_type": "code",
   "execution_count": 1816,
   "metadata": {},
   "outputs": [
    {
     "data": {
      "text/html": [
       "<div>\n",
       "<style scoped>\n",
       "    .dataframe tbody tr th:only-of-type {\n",
       "        vertical-align: middle;\n",
       "    }\n",
       "\n",
       "    .dataframe tbody tr th {\n",
       "        vertical-align: top;\n",
       "    }\n",
       "\n",
       "    .dataframe thead th {\n",
       "        text-align: right;\n",
       "    }\n",
       "</style>\n",
       "<table border=\"1\" class=\"dataframe\">\n",
       "  <thead>\n",
       "    <tr style=\"text-align: right;\">\n",
       "      <th></th>\n",
       "      <th>Clusters</th>\n",
       "      <th>Scores</th>\n",
       "    </tr>\n",
       "  </thead>\n",
       "  <tbody>\n",
       "    <tr>\n",
       "      <th>0</th>\n",
       "      <td>2</td>\n",
       "      <td>0.535546</td>\n",
       "    </tr>\n",
       "    <tr>\n",
       "      <th>1</th>\n",
       "      <td>4</td>\n",
       "      <td>0.524183</td>\n",
       "    </tr>\n",
       "    <tr>\n",
       "      <th>2</th>\n",
       "      <td>6</td>\n",
       "      <td>0.504005</td>\n",
       "    </tr>\n",
       "    <tr>\n",
       "      <th>3</th>\n",
       "      <td>8</td>\n",
       "      <td>0.496607</td>\n",
       "    </tr>\n",
       "    <tr>\n",
       "      <th>4</th>\n",
       "      <td>10</td>\n",
       "      <td>0.483721</td>\n",
       "    </tr>\n",
       "    <tr>\n",
       "      <th>5</th>\n",
       "      <td>12</td>\n",
       "      <td>0.476326</td>\n",
       "    </tr>\n",
       "    <tr>\n",
       "      <th>6</th>\n",
       "      <td>14</td>\n",
       "      <td>0.463019</td>\n",
       "    </tr>\n",
       "    <tr>\n",
       "      <th>7</th>\n",
       "      <td>16</td>\n",
       "      <td>0.453869</td>\n",
       "    </tr>\n",
       "    <tr>\n",
       "      <th>8</th>\n",
       "      <td>18</td>\n",
       "      <td>0.443360</td>\n",
       "    </tr>\n",
       "    <tr>\n",
       "      <th>9</th>\n",
       "      <td>20</td>\n",
       "      <td>0.429368</td>\n",
       "    </tr>\n",
       "    <tr>\n",
       "      <th>10</th>\n",
       "      <td>22</td>\n",
       "      <td>0.417116</td>\n",
       "    </tr>\n",
       "    <tr>\n",
       "      <th>11</th>\n",
       "      <td>24</td>\n",
       "      <td>0.402873</td>\n",
       "    </tr>\n",
       "  </tbody>\n",
       "</table>\n",
       "</div>"
      ],
      "text/plain": [
       "    Clusters    Scores\n",
       "0          2  0.535546\n",
       "1          4  0.524183\n",
       "2          6  0.504005\n",
       "3          8  0.496607\n",
       "4         10  0.483721\n",
       "5         12  0.476326\n",
       "6         14  0.463019\n",
       "7         16  0.453869\n",
       "8         18  0.443360\n",
       "9         20  0.429368\n",
       "10        22  0.417116\n",
       "11        24  0.402873"
      ]
     },
     "execution_count": 1816,
     "metadata": {},
     "output_type": "execute_result"
    }
   ],
   "source": [
    "# Print the inertia scores for cluster numbers\n",
    "num = list(range(2,26,2))\n",
    "pd.DataFrame({\"Clusters\":num,\"Scores\":scores})"
   ]
  },
  {
   "cell_type": "code",
   "execution_count": 1817,
   "metadata": {},
   "outputs": [],
   "source": [
    "# Try with three clusters\n",
    "num_clusters = 3\n",
    "km = KMeans(n_clusters=num_clusters,random_state = 0)\n",
    "km.fit(documents)\n",
    "centroids = km.cluster_centers_"
   ]
  },
  {
   "cell_type": "code",
   "execution_count": 1818,
   "metadata": {},
   "outputs": [
    {
     "name": "stdout",
     "output_type": "stream",
     "text": [
      "[('little', 0.9999722838401794), ('old', 0.9999715089797974), ('however', 0.9999714493751526), ('lot', 0.9999685883522034), ('cake', 0.9999682903289795), ('also', 0.999967634677887), ('full', 0.9999663829803467), ('found', 0.9999651312828064), ('site', 0.9999650716781616), ('although', 0.9999645948410034)] \n",
      "\n",
      "[('old', 0.9999799132347107), ('cake', 0.9999750852584839), ('lot', 0.9999728202819824), ('little', 0.9999727606773376), ('however', 0.9999727010726929), ('full', 0.9999710321426392), ('bit', 0.9999693632125854), ('door', 0.9999687671661377), ('around', 0.9999687075614929), ('site', 0.9999680519104004)] \n",
      "\n",
      "[('although', 0.9999663829803467), ('little', 0.9999634027481079), ('found', 0.999962568283081), ('however', 0.9999605417251587), ('need', 0.9999603033065796), ('also', 0.9999593496322632), ('local', 0.9999580383300781), ('lot', 0.9999572038650513), ('owner', 0.9999567270278931), ('old', 0.9999562501907349)]\n"
     ]
    }
   ],
   "source": [
    "# Centroids top ten words and weights\n",
    "print(model1.wv.most_similar(positive = [centroids[0]],topn = 10),\"\\n\")\n",
    "print(model1.wv.most_similar(positive = [centroids[1]],topn = 10),\"\\n\")\n",
    "print(model1.wv.most_similar(positive = [centroids[2]],topn = 10))"
   ]
  },
  {
   "cell_type": "code",
   "execution_count": 1570,
   "metadata": {},
   "outputs": [],
   "source": [
    "# print(\"Most representative terms per cluster using centroids\")\n",
    "#for i in range(3):\n",
    "   # tokens_per_cluster = \"\"\n",
    "    #most_representative = model1.wv.most_similar(positive = [km.cluster_centers_[i]],topn = 10)\n",
    "    #for t in most_representative:\n",
    "        #tokens_per_cluster += f\"{t[0]} \"\n",
    "   # print(f\"Cluster {i}: {tokens_per_cluster}\")"
   ]
  },
  {
   "cell_type": "markdown",
   "metadata": {},
   "source": [
    "### Food"
   ]
  },
  {
   "cell_type": "code",
   "execution_count": 1476,
   "metadata": {},
   "outputs": [
    {
     "data": {
      "image/png": "[encoded data removed]",
      "text/plain": [
       "<Figure size 432x288 with 1 Axes>"
      ]
     },
     "metadata": {
      "needs_background": "light"
     },
     "output_type": "display_data"
    }
   ],
   "source": [
    "# Run function\n",
    "food_elbow,food_scores = elbow(documents_food)\n",
    "plot_elbow(food_elbow,\" Food\")"
   ]
  },
  {
   "cell_type": "markdown",
   "metadata": {},
   "source": [
    "Again seems to be around 5 or 6"
   ]
  },
  {
   "cell_type": "markdown",
   "metadata": {},
   "source": [
    "### Attractions"
   ]
  },
  {
   "cell_type": "code",
   "execution_count": 1477,
   "metadata": {},
   "outputs": [
    {
     "data": {
      "image/png": "[encoded data removed]",
      "text/plain": [
       "<Figure size 432x288 with 1 Axes>"
      ]
     },
     "metadata": {
      "needs_background": "light"
     },
     "output_type": "display_data"
    }
   ],
   "source": [
    "# Run function\n",
    "attract_elbow,attract_scores = elbow(documents_attract)\n",
    "plot_elbow(attract_elbow,\" Attractions\")"
   ]
  },
  {
   "cell_type": "markdown",
   "metadata": {},
   "source": [
    "Looks to be around 4 or 5"
   ]
  }
 ],
 "metadata": {
  "kernelspec": {
   "display_name": "Python 3",
   "language": "python",
   "name": "python3"
  },
  "language_info": {
   "codemirror_mode": {
    "name": "ipython",
    "version": 3
   },
   "file_extension": ".py",
   "mimetype": "text/x-python",
   "name": "python",
   "nbconvert_exporter": "python",
   "pygments_lexer": "ipython3",
   "version": "3.8.8"
  }
 },
 "nbformat": 4,
 "nbformat_minor": 4
}
