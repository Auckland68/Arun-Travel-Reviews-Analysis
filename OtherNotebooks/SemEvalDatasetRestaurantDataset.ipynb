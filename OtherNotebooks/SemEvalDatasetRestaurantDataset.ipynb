{
 "cells": [
  {
   "cell_type": "markdown",
   "metadata": {},
   "source": [
    "# SemiEval Restaurant Data Models"
   ]
  },
  {
   "cell_type": "markdown",
   "metadata": {},
   "source": [
    "This notebook trains classifiers based on the Sem-eval aspect based sentiment analysis restaurant dataset. This is a labelled dataset containing reviews and aspect categories. If reasonable accuracy can be obtained the trained classifier might be useful as a means of automatically tagging the Arun restaurant reviews for aspects.\n",
    "\n",
    "* Section 1 - Import libraries and dataset\n",
    "* Section 2 - Data cleaning\n",
    "* Section 3 - Machine learning models with TFIDF\n",
    "* Section 4 - Network model with Keras tokenizer\n",
    "* Section 5 - Word embeddings with the network model\n",
    "* Section 6 - Using the model trained on the SemEval restaurant data and the best network model to label the Arun food data\n"
   ]
  },
  {
   "cell_type": "markdown",
   "metadata": {},
   "source": [
    "# Section 1: Import Libraries and Datasets"
   ]
  },
  {
   "cell_type": "markdown",
   "metadata": {},
   "source": [
    "Dataset source:\n",
    "\n",
    "* Sem-eval 2016 Task 5 - Aspect Based Sentiment Analysis\n",
    "* https://alt.qcri.org/semeval2016/task5/\n",
    "* Dataset is in XML format transformed to csv using Excel data transform"
   ]
  },
  {
   "cell_type": "code",
   "execution_count": 164,
   "metadata": {},
   "outputs": [],
   "source": [
    "import pandas as pd\n",
    "import numpy as np\n",
    "from matplotlib import pyplot as plt\n",
    "import seaborn as sns\n",
    "sns.set()\n",
    "\n",
    "import keras\n",
    "from keras.preprocessing.text import one_hot\n",
    "from keras.models import Sequential\n",
    "from keras.layers import Dense,Flatten,Embedding,Dropout\n",
    "from keras.preprocessing.text import Tokenizer\n",
    "from keras.preprocessing.sequence import pad_sequences\n",
    "from keras.utils import to_categorical\n",
    "from keras.wrappers.scikit_learn import KerasClassifier\n",
    "\n",
    "#import spacy\n",
    "#nlp = spacy.load('en_core_web_sm')\n",
    "#import textblob\n",
    "#from textblob import TextBlob\n",
    "\n",
    "from sklearn.feature_extraction.text import CountVectorizer, TfidfVectorizer\n",
    "from sklearn.model_selection import train_test_split, cross_val_score, StratifiedKFold\n",
    "from sklearn.linear_model import LogisticRegression\n",
    "from sklearn.ensemble import RandomForestClassifier\n",
    "from sklearn.svm import LinearSVC\n",
    "from sklearn.svm import SVC\n",
    "import nltk\n",
    "from nltk.corpus import stopwords\n",
    "from sklearn import preprocessing\n",
    "from nltk.tokenize import sent_tokenize\n",
    "from sklearn.preprocessing import LabelEncoder\n",
    "from sklearn.model_selection import train_test_split\n",
    "from sklearn.metrics import accuracy_score,roc_auc_score,precision_score,recall_score,f1_score,confusion_matrix,classification_report\n",
    "from sklearn.utils import class_weight\n",
    "\n",
    "import warnings\n",
    "warnings.filterwarnings(\"ignore\")\n"
   ]
  },
  {
   "cell_type": "code",
   "execution_count": 80,
   "metadata": {},
   "outputs": [],
   "source": [
    "df_train = pd.read_csv(\"Restaurants_Train.csv\")\n",
    "df_test = pd.read_csv(\"Restaurants_Test.csv\")"
   ]
  },
  {
   "cell_type": "code",
   "execution_count": 81,
   "metadata": {
    "scrolled": true
   },
   "outputs": [
    {
     "data": {
      "text/html": [
       "<div>\n",
       "<style scoped>\n",
       "    .dataframe tbody tr th:only-of-type {\n",
       "        vertical-align: middle;\n",
       "    }\n",
       "\n",
       "    .dataframe tbody tr th {\n",
       "        vertical-align: top;\n",
       "    }\n",
       "\n",
       "    .dataframe thead th {\n",
       "        text-align: right;\n",
       "    }\n",
       "</style>\n",
       "<table border=\"1\" class=\"dataframe\">\n",
       "  <thead>\n",
       "    <tr style=\"text-align: right;\">\n",
       "      <th></th>\n",
       "      <th>sentences.sentence.text</th>\n",
       "      <th>sentences.sentence.Opinions.Opinion.Attribute:target</th>\n",
       "      <th>sentences.sentence.Opinions.Opinion.Attribute:category</th>\n",
       "      <th>sentences.sentence.Opinions.Opinion.Attribute:polarity</th>\n",
       "      <th>sentences.sentence.Opinions.Opinion.Attribute:from</th>\n",
       "      <th>sentences.sentence.Opinions.Opinion.Attribute:to</th>\n",
       "      <th>sentences.sentence.Attribute:id</th>\n",
       "      <th>Attribute:rid</th>\n",
       "    </tr>\n",
       "  </thead>\n",
       "  <tbody>\n",
       "    <tr>\n",
       "      <th>0</th>\n",
       "      <td>Judging from previous posts this used to be a ...</td>\n",
       "      <td>place</td>\n",
       "      <td>RESTAURANT#GENERAL</td>\n",
       "      <td>negative</td>\n",
       "      <td>51.0</td>\n",
       "      <td>56.0</td>\n",
       "      <td>1004293:0</td>\n",
       "      <td>1004293.0</td>\n",
       "    </tr>\n",
       "    <tr>\n",
       "      <th>1</th>\n",
       "      <td>We, there were four of us, arrived at noon - t...</td>\n",
       "      <td>staff</td>\n",
       "      <td>SERVICE#GENERAL</td>\n",
       "      <td>negative</td>\n",
       "      <td>75.0</td>\n",
       "      <td>80.0</td>\n",
       "      <td>1004293:1</td>\n",
       "      <td>1004293.0</td>\n",
       "    </tr>\n",
       "    <tr>\n",
       "      <th>2</th>\n",
       "      <td>They never brought us complimentary noodles, i...</td>\n",
       "      <td>NaN</td>\n",
       "      <td>SERVICE#GENERAL</td>\n",
       "      <td>negative</td>\n",
       "      <td>0.0</td>\n",
       "      <td>0.0</td>\n",
       "      <td>1004293:2</td>\n",
       "      <td>1004293.0</td>\n",
       "    </tr>\n",
       "    <tr>\n",
       "      <th>3</th>\n",
       "      <td>The food was lousy - too sweet or too salty an...</td>\n",
       "      <td>food</td>\n",
       "      <td>FOOD#QUALITY</td>\n",
       "      <td>negative</td>\n",
       "      <td>4.0</td>\n",
       "      <td>8.0</td>\n",
       "      <td>1004293:3</td>\n",
       "      <td>1004293.0</td>\n",
       "    </tr>\n",
       "    <tr>\n",
       "      <th>4</th>\n",
       "      <td>The food was lousy - too sweet or too salty an...</td>\n",
       "      <td>portions</td>\n",
       "      <td>FOOD#STYLE_OPTIONS</td>\n",
       "      <td>negative</td>\n",
       "      <td>52.0</td>\n",
       "      <td>60.0</td>\n",
       "      <td>1004293:3</td>\n",
       "      <td>1004293.0</td>\n",
       "    </tr>\n",
       "  </tbody>\n",
       "</table>\n",
       "</div>"
      ],
      "text/plain": [
       "                             sentences.sentence.text  \\\n",
       "0  Judging from previous posts this used to be a ...   \n",
       "1  We, there were four of us, arrived at noon - t...   \n",
       "2  They never brought us complimentary noodles, i...   \n",
       "3  The food was lousy - too sweet or too salty an...   \n",
       "4  The food was lousy - too sweet or too salty an...   \n",
       "\n",
       "  sentences.sentence.Opinions.Opinion.Attribute:target  \\\n",
       "0                                              place     \n",
       "1                                              staff     \n",
       "2                                                NaN     \n",
       "3                                               food     \n",
       "4                                           portions     \n",
       "\n",
       "  sentences.sentence.Opinions.Opinion.Attribute:category  \\\n",
       "0                                 RESTAURANT#GENERAL       \n",
       "1                                    SERVICE#GENERAL       \n",
       "2                                    SERVICE#GENERAL       \n",
       "3                                       FOOD#QUALITY       \n",
       "4                                 FOOD#STYLE_OPTIONS       \n",
       "\n",
       "  sentences.sentence.Opinions.Opinion.Attribute:polarity  \\\n",
       "0                                           negative       \n",
       "1                                           negative       \n",
       "2                                           negative       \n",
       "3                                           negative       \n",
       "4                                           negative       \n",
       "\n",
       "   sentences.sentence.Opinions.Opinion.Attribute:from  \\\n",
       "0                                               51.0    \n",
       "1                                               75.0    \n",
       "2                                                0.0    \n",
       "3                                                4.0    \n",
       "4                                               52.0    \n",
       "\n",
       "   sentences.sentence.Opinions.Opinion.Attribute:to  \\\n",
       "0                                              56.0   \n",
       "1                                              80.0   \n",
       "2                                               0.0   \n",
       "3                                               8.0   \n",
       "4                                              60.0   \n",
       "\n",
       "  sentences.sentence.Attribute:id  Attribute:rid  \n",
       "0                       1004293:0      1004293.0  \n",
       "1                       1004293:1      1004293.0  \n",
       "2                       1004293:2      1004293.0  \n",
       "3                       1004293:3      1004293.0  \n",
       "4                       1004293:3      1004293.0  "
      ]
     },
     "execution_count": 81,
     "metadata": {},
     "output_type": "execute_result"
    }
   ],
   "source": [
    "df_train.head()"
   ]
  },
  {
   "cell_type": "code",
   "execution_count": 82,
   "metadata": {},
   "outputs": [
    {
     "data": {
      "text/html": [
       "<div>\n",
       "<style scoped>\n",
       "    .dataframe tbody tr th:only-of-type {\n",
       "        vertical-align: middle;\n",
       "    }\n",
       "\n",
       "    .dataframe tbody tr th {\n",
       "        vertical-align: top;\n",
       "    }\n",
       "\n",
       "    .dataframe thead th {\n",
       "        text-align: right;\n",
       "    }\n",
       "</style>\n",
       "<table border=\"1\" class=\"dataframe\">\n",
       "  <thead>\n",
       "    <tr style=\"text-align: right;\">\n",
       "      <th></th>\n",
       "      <th>sentences.sentence.text</th>\n",
       "      <th>sentences.sentence.Attribute:id</th>\n",
       "      <th>Attribute:rid</th>\n",
       "    </tr>\n",
       "  </thead>\n",
       "  <tbody>\n",
       "    <tr>\n",
       "      <th>0</th>\n",
       "      <td>Yum!</td>\n",
       "      <td>en_BlueRibbonSushi_478218171:0</td>\n",
       "      <td>en_BlueRibbonSushi_478218171</td>\n",
       "    </tr>\n",
       "    <tr>\n",
       "      <th>1</th>\n",
       "      <td>Serves really good sushi.</td>\n",
       "      <td>en_BlueRibbonSushi_478218171:1</td>\n",
       "      <td>en_BlueRibbonSushi_478218171</td>\n",
       "    </tr>\n",
       "    <tr>\n",
       "      <th>2</th>\n",
       "      <td>Not the biggest portions but adequate.</td>\n",
       "      <td>en_BlueRibbonSushi_478218171:2</td>\n",
       "      <td>en_BlueRibbonSushi_478218171</td>\n",
       "    </tr>\n",
       "    <tr>\n",
       "      <th>3</th>\n",
       "      <td>Green Tea creme brulee is a must!</td>\n",
       "      <td>en_BlueRibbonSushi_478218171:3</td>\n",
       "      <td>en_BlueRibbonSushi_478218171</td>\n",
       "    </tr>\n",
       "    <tr>\n",
       "      <th>4</th>\n",
       "      <td>Don't leave the restaurant without it.</td>\n",
       "      <td>en_BlueRibbonSushi_478218171:4</td>\n",
       "      <td>en_BlueRibbonSushi_478218171</td>\n",
       "    </tr>\n",
       "  </tbody>\n",
       "</table>\n",
       "</div>"
      ],
      "text/plain": [
       "                  sentences.sentence.text sentences.sentence.Attribute:id  \\\n",
       "0                                    Yum!  en_BlueRibbonSushi_478218171:0   \n",
       "1               Serves really good sushi.  en_BlueRibbonSushi_478218171:1   \n",
       "2  Not the biggest portions but adequate.  en_BlueRibbonSushi_478218171:2   \n",
       "3       Green Tea creme brulee is a must!  en_BlueRibbonSushi_478218171:3   \n",
       "4  Don't leave the restaurant without it.  en_BlueRibbonSushi_478218171:4   \n",
       "\n",
       "                  Attribute:rid  \n",
       "0  en_BlueRibbonSushi_478218171  \n",
       "1  en_BlueRibbonSushi_478218171  \n",
       "2  en_BlueRibbonSushi_478218171  \n",
       "3  en_BlueRibbonSushi_478218171  \n",
       "4  en_BlueRibbonSushi_478218171  "
      ]
     },
     "execution_count": 82,
     "metadata": {},
     "output_type": "execute_result"
    }
   ],
   "source": [
    "df_test.head()"
   ]
  },
  {
   "cell_type": "code",
   "execution_count": 83,
   "metadata": {},
   "outputs": [
    {
     "name": "stdout",
     "output_type": "stream",
     "text": [
      "(2799, 8)\n"
     ]
    }
   ],
   "source": [
    "print(df_train.shape)"
   ]
  },
  {
   "cell_type": "markdown",
   "metadata": {},
   "source": [
    "Note the test reviews are unlabelled!"
   ]
  },
  {
   "cell_type": "markdown",
   "metadata": {},
   "source": [
    "# Section 2: Exploratory Data Analysis and Pre-processing"
   ]
  },
  {
   "cell_type": "code",
   "execution_count": 84,
   "metadata": {},
   "outputs": [
    {
     "data": {
      "text/html": [
       "<div>\n",
       "<style scoped>\n",
       "    .dataframe tbody tr th:only-of-type {\n",
       "        vertical-align: middle;\n",
       "    }\n",
       "\n",
       "    .dataframe tbody tr th {\n",
       "        vertical-align: top;\n",
       "    }\n",
       "\n",
       "    .dataframe thead th {\n",
       "        text-align: right;\n",
       "    }\n",
       "</style>\n",
       "<table border=\"1\" class=\"dataframe\">\n",
       "  <thead>\n",
       "    <tr style=\"text-align: right;\">\n",
       "      <th></th>\n",
       "      <th>sentences.sentence.text</th>\n",
       "      <th>sentences.sentence.Opinions.Opinion.Attribute:target</th>\n",
       "      <th>sentences.sentence.Opinions.Opinion.Attribute:category</th>\n",
       "      <th>sentences.sentence.Opinions.Opinion.Attribute:polarity</th>\n",
       "      <th>sentences.sentence.Opinions.Opinion.Attribute:from</th>\n",
       "      <th>sentences.sentence.Opinions.Opinion.Attribute:to</th>\n",
       "      <th>sentences.sentence.Attribute:id</th>\n",
       "      <th>Attribute:rid</th>\n",
       "    </tr>\n",
       "  </thead>\n",
       "  <tbody>\n",
       "    <tr>\n",
       "      <th>0</th>\n",
       "      <td>Judging from previous posts this used to be a ...</td>\n",
       "      <td>place</td>\n",
       "      <td>RESTAURANT#GENERAL</td>\n",
       "      <td>negative</td>\n",
       "      <td>51.0</td>\n",
       "      <td>56.0</td>\n",
       "      <td>1004293:0</td>\n",
       "      <td>1004293.0</td>\n",
       "    </tr>\n",
       "    <tr>\n",
       "      <th>1</th>\n",
       "      <td>We, there were four of us, arrived at noon - t...</td>\n",
       "      <td>staff</td>\n",
       "      <td>SERVICE#GENERAL</td>\n",
       "      <td>negative</td>\n",
       "      <td>75.0</td>\n",
       "      <td>80.0</td>\n",
       "      <td>1004293:1</td>\n",
       "      <td>1004293.0</td>\n",
       "    </tr>\n",
       "  </tbody>\n",
       "</table>\n",
       "</div>"
      ],
      "text/plain": [
       "                             sentences.sentence.text  \\\n",
       "0  Judging from previous posts this used to be a ...   \n",
       "1  We, there were four of us, arrived at noon - t...   \n",
       "\n",
       "  sentences.sentence.Opinions.Opinion.Attribute:target  \\\n",
       "0                                              place     \n",
       "1                                              staff     \n",
       "\n",
       "  sentences.sentence.Opinions.Opinion.Attribute:category  \\\n",
       "0                                 RESTAURANT#GENERAL       \n",
       "1                                    SERVICE#GENERAL       \n",
       "\n",
       "  sentences.sentence.Opinions.Opinion.Attribute:polarity  \\\n",
       "0                                           negative       \n",
       "1                                           negative       \n",
       "\n",
       "   sentences.sentence.Opinions.Opinion.Attribute:from  \\\n",
       "0                                               51.0    \n",
       "1                                               75.0    \n",
       "\n",
       "   sentences.sentence.Opinions.Opinion.Attribute:to  \\\n",
       "0                                              56.0   \n",
       "1                                              80.0   \n",
       "\n",
       "  sentences.sentence.Attribute:id  Attribute:rid  \n",
       "0                       1004293:0      1004293.0  \n",
       "1                       1004293:1      1004293.0  "
      ]
     },
     "execution_count": 84,
     "metadata": {},
     "output_type": "execute_result"
    }
   ],
   "source": [
    "df_train.head(2)"
   ]
  },
  {
   "cell_type": "code",
   "execution_count": 85,
   "metadata": {},
   "outputs": [],
   "source": [
    "df_train.drop(columns = [\"sentences.sentence.Opinions.Opinion.Attribute:from\",\n",
    "                  \"sentences.sentence.Opinions.Opinion.Attribute:to\",\n",
    "                  \"sentences.sentence.Attribute:id\",\"Attribute:rid\"],axis = 1, inplace = True)"
   ]
  },
  {
   "cell_type": "code",
   "execution_count": 86,
   "metadata": {},
   "outputs": [
    {
     "data": {
      "text/plain": [
       "Index(['sentences.sentence.text',\n",
       "       'sentences.sentence.Opinions.Opinion.Attribute:target',\n",
       "       'sentences.sentence.Opinions.Opinion.Attribute:category',\n",
       "       'sentences.sentence.Opinions.Opinion.Attribute:polarity'],\n",
       "      dtype='object')"
      ]
     },
     "execution_count": 86,
     "metadata": {},
     "output_type": "execute_result"
    }
   ],
   "source": [
    "df_train.columns"
   ]
  },
  {
   "cell_type": "code",
   "execution_count": 87,
   "metadata": {},
   "outputs": [],
   "source": [
    "df_train.columns = [\"Review\",\"Target\",\"Category\",\"Polarity\"]"
   ]
  },
  {
   "cell_type": "code",
   "execution_count": 88,
   "metadata": {},
   "outputs": [
    {
     "data": {
      "text/html": [
       "<div>\n",
       "<style scoped>\n",
       "    .dataframe tbody tr th:only-of-type {\n",
       "        vertical-align: middle;\n",
       "    }\n",
       "\n",
       "    .dataframe tbody tr th {\n",
       "        vertical-align: top;\n",
       "    }\n",
       "\n",
       "    .dataframe thead th {\n",
       "        text-align: right;\n",
       "    }\n",
       "</style>\n",
       "<table border=\"1\" class=\"dataframe\">\n",
       "  <thead>\n",
       "    <tr style=\"text-align: right;\">\n",
       "      <th></th>\n",
       "      <th>Review</th>\n",
       "      <th>Target</th>\n",
       "      <th>Category</th>\n",
       "      <th>Polarity</th>\n",
       "    </tr>\n",
       "  </thead>\n",
       "  <tbody>\n",
       "    <tr>\n",
       "      <th>2469</th>\n",
       "      <td>I book a gorgeous white organza tent which inc...</td>\n",
       "      <td>four course prix fix menu</td>\n",
       "      <td>FOOD#QUALITY</td>\n",
       "      <td>positive</td>\n",
       "    </tr>\n",
       "    <tr>\n",
       "      <th>294</th>\n",
       "      <td>When we stumbled on Leon, we thought that we h...</td>\n",
       "      <td>Leon</td>\n",
       "      <td>RESTAURANT#GENERAL</td>\n",
       "      <td>negative</td>\n",
       "    </tr>\n",
       "    <tr>\n",
       "      <th>1009</th>\n",
       "      <td>Everything was wonderful; food, drinks, staff,...</td>\n",
       "      <td>mileau</td>\n",
       "      <td>AMBIENCE#GENERAL</td>\n",
       "      <td>positive</td>\n",
       "    </tr>\n",
       "  </tbody>\n",
       "</table>\n",
       "</div>"
      ],
      "text/plain": [
       "                                                 Review  \\\n",
       "2469  I book a gorgeous white organza tent which inc...   \n",
       "294   When we stumbled on Leon, we thought that we h...   \n",
       "1009  Everything was wonderful; food, drinks, staff,...   \n",
       "\n",
       "                         Target            Category  Polarity  \n",
       "2469  four course prix fix menu        FOOD#QUALITY  positive  \n",
       "294                        Leon  RESTAURANT#GENERAL  negative  \n",
       "1009                     mileau    AMBIENCE#GENERAL  positive  "
      ]
     },
     "execution_count": 88,
     "metadata": {},
     "output_type": "execute_result"
    }
   ],
   "source": [
    "df_train.sample(3)"
   ]
  },
  {
   "cell_type": "code",
   "execution_count": 89,
   "metadata": {},
   "outputs": [
    {
     "data": {
      "text/plain": [
       "FOOD#QUALITY                849\n",
       "SERVICE#GENERAL             449\n",
       "RESTAURANT#GENERAL          422\n",
       "AMBIENCE#GENERAL            255\n",
       "FOOD#STYLE_OPTIONS          137\n",
       "RESTAURANT#MISCELLANEOUS     98\n",
       "FOOD#PRICES                  90\n",
       "RESTAURANT#PRICES            80\n",
       "DRINKS#QUALITY               47\n",
       "DRINKS#STYLE_OPTIONS         32\n",
       "LOCATION#GENERAL             28\n",
       "DRINKS#PRICES                20\n",
       "Name: Category, dtype: int64"
      ]
     },
     "execution_count": 89,
     "metadata": {},
     "output_type": "execute_result"
    }
   ],
   "source": [
    "df_train.Category.value_counts()"
   ]
  },
  {
   "cell_type": "code",
   "execution_count": 90,
   "metadata": {},
   "outputs": [
    {
     "data": {
      "text/plain": [
       "Review        0\n",
       "Target      919\n",
       "Category    292\n",
       "Polarity    292\n",
       "dtype: int64"
      ]
     },
     "execution_count": 90,
     "metadata": {},
     "output_type": "execute_result"
    }
   ],
   "source": [
    "df_train.isnull().sum()"
   ]
  },
  {
   "cell_type": "markdown",
   "metadata": {},
   "source": [
    "Target rows missing 627 values out of 2799"
   ]
  },
  {
   "cell_type": "code",
   "execution_count": 91,
   "metadata": {},
   "outputs": [],
   "source": [
    "df_train = df_train.dropna()"
   ]
  },
  {
   "cell_type": "code",
   "execution_count": 92,
   "metadata": {},
   "outputs": [
    {
     "data": {
      "text/html": [
       "<div>\n",
       "<style scoped>\n",
       "    .dataframe tbody tr th:only-of-type {\n",
       "        vertical-align: middle;\n",
       "    }\n",
       "\n",
       "    .dataframe tbody tr th {\n",
       "        vertical-align: top;\n",
       "    }\n",
       "\n",
       "    .dataframe thead th {\n",
       "        text-align: right;\n",
       "    }\n",
       "</style>\n",
       "<table border=\"1\" class=\"dataframe\">\n",
       "  <thead>\n",
       "    <tr style=\"text-align: right;\">\n",
       "      <th></th>\n",
       "      <th>Review</th>\n",
       "      <th>Target</th>\n",
       "      <th>Category</th>\n",
       "      <th>Polarity</th>\n",
       "    </tr>\n",
       "  </thead>\n",
       "  <tbody>\n",
       "    <tr>\n",
       "      <th>12</th>\n",
       "      <td>The wine list is interesting and has many good...</td>\n",
       "      <td>wine list</td>\n",
       "      <td>DRINKS#PRICES</td>\n",
       "      <td>positive</td>\n",
       "    </tr>\n",
       "    <tr>\n",
       "      <th>170</th>\n",
       "      <td>Decent wine at reasonable prices.</td>\n",
       "      <td>wine</td>\n",
       "      <td>DRINKS#PRICES</td>\n",
       "      <td>positive</td>\n",
       "    </tr>\n",
       "    <tr>\n",
       "      <th>252</th>\n",
       "      <td>Great wine selection, Gigondas is worth the pr...</td>\n",
       "      <td>house champagne</td>\n",
       "      <td>DRINKS#PRICES</td>\n",
       "      <td>positive</td>\n",
       "    </tr>\n",
       "    <tr>\n",
       "      <th>280</th>\n",
       "      <td>The drinks are always welll made and wine sele...</td>\n",
       "      <td>wine selection</td>\n",
       "      <td>DRINKS#PRICES</td>\n",
       "      <td>positive</td>\n",
       "    </tr>\n",
       "    <tr>\n",
       "      <th>291</th>\n",
       "      <td>The bar is very well stocked with interesting ...</td>\n",
       "      <td>wines</td>\n",
       "      <td>DRINKS#PRICES</td>\n",
       "      <td>positive</td>\n",
       "    </tr>\n",
       "  </tbody>\n",
       "</table>\n",
       "</div>"
      ],
      "text/plain": [
       "                                                Review           Target  \\\n",
       "12   The wine list is interesting and has many good...        wine list   \n",
       "170                  Decent wine at reasonable prices.             wine   \n",
       "252  Great wine selection, Gigondas is worth the pr...  house champagne   \n",
       "280  The drinks are always welll made and wine sele...   wine selection   \n",
       "291  The bar is very well stocked with interesting ...            wines   \n",
       "\n",
       "          Category  Polarity  \n",
       "12   DRINKS#PRICES  positive  \n",
       "170  DRINKS#PRICES  positive  \n",
       "252  DRINKS#PRICES  positive  \n",
       "280  DRINKS#PRICES  positive  \n",
       "291  DRINKS#PRICES  positive  "
      ]
     },
     "execution_count": 92,
     "metadata": {},
     "output_type": "execute_result"
    }
   ],
   "source": [
    "df_train[df_train[\"Category\"]==\"DRINKS#PRICES\"].head()"
   ]
  },
  {
   "cell_type": "code",
   "execution_count": 93,
   "metadata": {},
   "outputs": [
    {
     "data": {
      "image/png": "[encoded data removed]",
      "text/plain": [
       "<Figure size 576x432 with 1 Axes>"
      ]
     },
     "metadata": {},
     "output_type": "display_data"
    }
   ],
   "source": [
    "fig = plt.figure(figsize=(8,6))\n",
    "df_train.groupby('Category').Review.count().plot.barh(ylim=0)\n",
    "plt.show()"
   ]
  },
  {
   "cell_type": "markdown",
   "metadata": {},
   "source": [
    "* With imbalanced data, minority classes are treated as outliers and ignored. \n",
    "* With say fraud detection or cancer prediction, would require balancing the dataset by undersampling or oversampling\n",
    "* Here the majority classes is of interest so good prediction on this class with reasonable on the others is acceptable"
   ]
  },
  {
   "cell_type": "code",
   "execution_count": 94,
   "metadata": {},
   "outputs": [
    {
     "name": "stdout",
     "output_type": "stream",
     "text": [
      "<class 'pandas.core.frame.DataFrame'>\n",
      "Int64Index: 1880 entries, 0 to 2798\n",
      "Data columns (total 4 columns):\n",
      " #   Column    Non-Null Count  Dtype \n",
      "---  ------    --------------  ----- \n",
      " 0   Review    1880 non-null   object\n",
      " 1   Target    1880 non-null   object\n",
      " 2   Category  1880 non-null   object\n",
      " 3   Polarity  1880 non-null   object\n",
      "dtypes: object(4)\n",
      "memory usage: 73.4+ KB\n"
     ]
    }
   ],
   "source": [
    "# Check if null values and drop\n",
    "df_train.info()"
   ]
  },
  {
   "cell_type": "code",
   "execution_count": 95,
   "metadata": {},
   "outputs": [
    {
     "name": "stdout",
     "output_type": "stream",
     "text": [
      "<class 'pandas.core.frame.DataFrame'>\n",
      "Int64Index: 1880 entries, 0 to 2798\n",
      "Data columns (total 4 columns):\n",
      " #   Column    Non-Null Count  Dtype \n",
      "---  ------    --------------  ----- \n",
      " 0   Review    1880 non-null   object\n",
      " 1   Target    1880 non-null   object\n",
      " 2   Category  1880 non-null   object\n",
      " 3   Polarity  1880 non-null   object\n",
      "dtypes: object(4)\n",
      "memory usage: 73.4+ KB\n"
     ]
    }
   ],
   "source": [
    "# Drop rows where category column is missing\n",
    "df_train = df_train.dropna(axis=0, subset=['Category'])\n",
    "df_train.info()"
   ]
  },
  {
   "cell_type": "code",
   "execution_count": 96,
   "metadata": {},
   "outputs": [
    {
     "data": {
      "text/plain": [
       "food                     216\n",
       "place                    124\n",
       "service                  121\n",
       "restaurant                47\n",
       "staff                     38\n",
       "                        ... \n",
       "VT's                       1\n",
       "antipasti                  1\n",
       "japanese comfort food      1\n",
       "Tom Kha soup               1\n",
       "Chilli Chicken             1\n",
       "Name: Target, Length: 721, dtype: int64"
      ]
     },
     "execution_count": 96,
     "metadata": {},
     "output_type": "execute_result"
    }
   ],
   "source": [
    "df_train.Target.value_counts()"
   ]
  },
  {
   "cell_type": "code",
   "execution_count": 97,
   "metadata": {},
   "outputs": [
    {
     "data": {
      "text/plain": [
       "positive    1319\n",
       "negative     489\n",
       "neutral       72\n",
       "Name: Polarity, dtype: int64"
      ]
     },
     "execution_count": 97,
     "metadata": {},
     "output_type": "execute_result"
    }
   ],
   "source": [
    "df_train.Polarity.value_counts()"
   ]
  },
  {
   "cell_type": "code",
   "execution_count": 98,
   "metadata": {},
   "outputs": [],
   "source": [
    "# Drop neutral sentiment reviews\n",
    "#df_train = df_train[df_train[\"Polarity\"] != \"neutral\"]"
   ]
  },
  {
   "cell_type": "code",
   "execution_count": 99,
   "metadata": {},
   "outputs": [
    {
     "name": "stdout",
     "output_type": "stream",
     "text": [
      "Maximum string length: 57\n",
      "Minimum string length: 1\n",
      "Median string length: 13.0\n",
      "Mean string length: 14.925531914893616\n"
     ]
    }
   ],
   "source": [
    "print(\"Maximum string length:\",df_train.Review.str.split().apply(len).max())\n",
    "print(\"Minimum string length:\",df_train.Review.str.split().apply(len).min())\n",
    "print(\"Median string length:\",df_train.Review.str.split().apply(len).median())\n",
    "print(\"Mean string length:\",df_train.Review.str.split().apply(len).mean())"
   ]
  },
  {
   "cell_type": "markdown",
   "metadata": {},
   "source": [
    "Review sentences are quite short to a maximum of 57 tokens. The mean and median are similar so the dataset is fairly normally distributed"
   ]
  },
  {
   "cell_type": "code",
   "execution_count": 100,
   "metadata": {},
   "outputs": [
    {
     "data": {
      "text/html": [
       "<div>\n",
       "<style scoped>\n",
       "    .dataframe tbody tr th:only-of-type {\n",
       "        vertical-align: middle;\n",
       "    }\n",
       "\n",
       "    .dataframe tbody tr th {\n",
       "        vertical-align: top;\n",
       "    }\n",
       "\n",
       "    .dataframe thead th {\n",
       "        text-align: right;\n",
       "    }\n",
       "</style>\n",
       "<table border=\"1\" class=\"dataframe\">\n",
       "  <thead>\n",
       "    <tr style=\"text-align: right;\">\n",
       "      <th></th>\n",
       "      <th>sentences.sentence.text</th>\n",
       "      <th>sentences.sentence.Attribute:id</th>\n",
       "      <th>Attribute:rid</th>\n",
       "    </tr>\n",
       "  </thead>\n",
       "  <tbody>\n",
       "    <tr>\n",
       "      <th>0</th>\n",
       "      <td>Yum!</td>\n",
       "      <td>en_BlueRibbonSushi_478218171:0</td>\n",
       "      <td>en_BlueRibbonSushi_478218171</td>\n",
       "    </tr>\n",
       "    <tr>\n",
       "      <th>1</th>\n",
       "      <td>Serves really good sushi.</td>\n",
       "      <td>en_BlueRibbonSushi_478218171:1</td>\n",
       "      <td>en_BlueRibbonSushi_478218171</td>\n",
       "    </tr>\n",
       "  </tbody>\n",
       "</table>\n",
       "</div>"
      ],
      "text/plain": [
       "     sentences.sentence.text sentences.sentence.Attribute:id  \\\n",
       "0                       Yum!  en_BlueRibbonSushi_478218171:0   \n",
       "1  Serves really good sushi.  en_BlueRibbonSushi_478218171:1   \n",
       "\n",
       "                  Attribute:rid  \n",
       "0  en_BlueRibbonSushi_478218171  \n",
       "1  en_BlueRibbonSushi_478218171  "
      ]
     },
     "execution_count": 100,
     "metadata": {},
     "output_type": "execute_result"
    }
   ],
   "source": [
    "# Look at test data\n",
    "df_test.head(2)"
   ]
  },
  {
   "cell_type": "code",
   "execution_count": 102,
   "metadata": {},
   "outputs": [
    {
     "data": {
      "text/html": [
       "<div>\n",
       "<style scoped>\n",
       "    .dataframe tbody tr th:only-of-type {\n",
       "        vertical-align: middle;\n",
       "    }\n",
       "\n",
       "    .dataframe tbody tr th {\n",
       "        vertical-align: top;\n",
       "    }\n",
       "\n",
       "    .dataframe thead th {\n",
       "        text-align: right;\n",
       "    }\n",
       "</style>\n",
       "<table border=\"1\" class=\"dataframe\">\n",
       "  <thead>\n",
       "    <tr style=\"text-align: right;\">\n",
       "      <th></th>\n",
       "      <th>Review</th>\n",
       "    </tr>\n",
       "  </thead>\n",
       "  <tbody>\n",
       "    <tr>\n",
       "      <th>0</th>\n",
       "      <td>Yum!</td>\n",
       "    </tr>\n",
       "    <tr>\n",
       "      <th>1</th>\n",
       "      <td>Serves really good sushi.</td>\n",
       "    </tr>\n",
       "  </tbody>\n",
       "</table>\n",
       "</div>"
      ],
      "text/plain": [
       "                      Review\n",
       "0                       Yum!\n",
       "1  Serves really good sushi."
      ]
     },
     "execution_count": 102,
     "metadata": {},
     "output_type": "execute_result"
    }
   ],
   "source": [
    "# Drop unwanted columns and rename\n",
    "df_test.drop(columns = [\"sentences.sentence.Attribute:id\",\"Attribute:rid\"],axis =1, inplace = True)\n",
    "df_test.columns = [\"Review\"]\n",
    "df_test.head(2)"
   ]
  },
  {
   "cell_type": "markdown",
   "metadata": {},
   "source": [
    "# Section 3: Machine Learning Models"
   ]
  },
  {
   "cell_type": "markdown",
   "metadata": {},
   "source": [
    "Reference paper: https://towardsdatascience.com/multi-class-text-classification-with-scikit-learn-12f1e60e0a9f"
   ]
  },
  {
   "cell_type": "code",
   "execution_count": 103,
   "metadata": {},
   "outputs": [],
   "source": [
    "# Convert the Category to categorical and set y \n",
    "df_train['category_id'] = df_train['Category'].factorize()[0]\n",
    "y = df_train.category_id"
   ]
  },
  {
   "cell_type": "code",
   "execution_count": 208,
   "metadata": {},
   "outputs": [],
   "source": [
    "# Encode as binary\n",
    "label_encoder = preprocessing.LabelEncoder()\n",
    "cat = label_encoder.fit_transform(df_train.category_id)\n",
    "y = to_categorical(cat)"
   ]
  },
  {
   "cell_type": "code",
   "execution_count": 210,
   "metadata": {},
   "outputs": [
    {
     "name": "stdout",
     "output_type": "stream",
     "text": [
      "(1504,) (376,) (1504,) (376,)\n"
     ]
    }
   ],
   "source": [
    "# Training and test sets\n",
    "X_train, X_test, y_train, y_test = train_test_split(df_train['Target'], \n",
    "                                                    df_train['category_id'],test_size = 0.2, random_state = 0)\n",
    "print(X_train.shape,X_test.shape,y_train.shape,y_test.shape)"
   ]
  },
  {
   "cell_type": "code",
   "execution_count": 211,
   "metadata": {},
   "outputs": [
    {
     "data": {
      "text/plain": [
       "1091"
      ]
     },
     "execution_count": 211,
     "metadata": {},
     "output_type": "execute_result"
    }
   ],
   "source": [
    "# Set vectorizer for bigrams using tfidf\n",
    "tfidf = TfidfVectorizer(sublinear_tf=True, norm='l2', ngram_range=(1, 2), stop_words='english')\n",
    "X_train_tfidf = tfidf.fit_transform(X_train)\n",
    "X_test_tfidf = tfidf.transform(X_test)\n",
    "len(tfidf.vocabulary_)"
   ]
  },
  {
   "cell_type": "code",
   "execution_count": 212,
   "metadata": {},
   "outputs": [],
   "source": [
    "# Stratified K Fold\n",
    "def strat(model, X_train,y_train,vector):\n",
    "    kfold = StratifiedKFold(n_splits=10, shuffle=True, random_state=1)\n",
    "    cv_results = cross_val_score(model, X_train,y_train, cv=kfold)\n",
    "    mean = cv_results.mean()\n",
    "    df = pd.DataFrame({vector:mean},index = [0])\n",
    "    return df"
   ]
  },
  {
   "cell_type": "code",
   "execution_count": 213,
   "metadata": {},
   "outputs": [],
   "source": [
    "# Define models\n",
    "clf1 = LogisticRegression(random_state=0, class_weight = \"balanced\")\n",
    "clf2 = RandomForestClassifier(n_estimators=200, max_depth=3, random_state=0, class_weight = \"balanced\")\n",
    "clf3 = LinearSVC(class_weight = \"balanced\")\n",
    "clf4 = SVC(class_weight = \"balanced\")"
   ]
  },
  {
   "cell_type": "code",
   "execution_count": 214,
   "metadata": {},
   "outputs": [],
   "source": [
    "a = strat(clf1, X_train_tfidf, y_train,\"LR\")\n",
    "b = strat(clf2, X_train_tfidf, y_train,\"RF\")\n",
    "c = strat(clf3, X_train_tfidf, y_train,\"LSVC\")\n",
    "d = strat(clf4, X_train_tfidf, y_train, \"SVM\")\n",
    "models = pd.concat([a,b,c,d],axis = 1)"
   ]
  },
  {
   "cell_type": "code",
   "execution_count": 215,
   "metadata": {},
   "outputs": [
    {
     "data": {
      "text/html": [
       "<div>\n",
       "<style scoped>\n",
       "    .dataframe tbody tr th:only-of-type {\n",
       "        vertical-align: middle;\n",
       "    }\n",
       "\n",
       "    .dataframe tbody tr th {\n",
       "        vertical-align: top;\n",
       "    }\n",
       "\n",
       "    .dataframe thead th {\n",
       "        text-align: right;\n",
       "    }\n",
       "</style>\n",
       "<table border=\"1\" class=\"dataframe\">\n",
       "  <thead>\n",
       "    <tr style=\"text-align: right;\">\n",
       "      <th></th>\n",
       "      <th>LR</th>\n",
       "      <th>RF</th>\n",
       "      <th>LSVC</th>\n",
       "      <th>SVM</th>\n",
       "    </tr>\n",
       "  </thead>\n",
       "  <tbody>\n",
       "    <tr>\n",
       "      <th>0</th>\n",
       "      <td>0.474071</td>\n",
       "      <td>0.372269</td>\n",
       "      <td>0.694168</td>\n",
       "      <td>0.473395</td>\n",
       "    </tr>\n",
       "  </tbody>\n",
       "</table>\n",
       "</div>"
      ],
      "text/plain": [
       "         LR        RF      LSVC       SVM\n",
       "0  0.474071  0.372269  0.694168  0.473395"
      ]
     },
     "execution_count": 215,
     "metadata": {},
     "output_type": "execute_result"
    }
   ],
   "source": [
    "models"
   ]
  },
  {
   "cell_type": "markdown",
   "metadata": {},
   "source": [
    "Training accuracy pretty bad"
   ]
  },
  {
   "cell_type": "markdown",
   "metadata": {},
   "source": [
    "# Section 4: Deep Learning Model with Keras Tokenizer"
   ]
  },
  {
   "cell_type": "markdown",
   "metadata": {},
   "source": [
    "* The full training set is used since network models usually perform better with more data\n",
    "* The test set is unlabelled but a manual examination of predicted aspects will be used to determine how well the model works as well as the training accuracy"
   ]
  },
  {
   "cell_type": "code",
   "execution_count": 181,
   "metadata": {},
   "outputs": [],
   "source": [
    "# Tokenize reviews\n",
    "vocab_size = 6000 \n",
    "tokenizer = Tokenizer(num_words=vocab_size)\n",
    "tokenizer.fit_on_texts(df_train.Review)\n",
    "reviews_tokenized = tokenizer.texts_to_matrix(df_train.Review)"
   ]
  },
  {
   "cell_type": "code",
   "execution_count": 202,
   "metadata": {},
   "outputs": [],
   "source": [
    "label_encoder = preprocessing.LabelEncoder()\n",
    "cat = label_encoder.fit_transform(df_train.Category)\n",
    "y_train = to_categorical(cat)"
   ]
  },
  {
   "cell_type": "code",
   "execution_count": 198,
   "metadata": {},
   "outputs": [],
   "source": [
    "# Build model\n",
    "\n",
    "model_1 = Sequential()\n",
    "model_1.add(Dense(512, input_shape=(6000,), activation='relu'))\n",
    "model_1.add(Dropout(rate=0.5))\n",
    "model_1.add((Dense(256, activation='relu')))\n",
    "model_1.add(Dropout(rate=0.5))\n",
    "model_1.add((Dense(128, activation='relu')))\n",
    "model_1.add((Dropout(rate = 0.5)))\n",
    "model_1.add(Dense(12, activation='softmax'))\n",
    "\n",
    "#compile model\n",
    "model_1.compile(loss='categorical_crossentropy', optimizer='Adam', metrics=['accuracy'])"
   ]
  },
  {
   "cell_type": "code",
   "execution_count": 205,
   "metadata": {},
   "outputs": [
    {
     "data": {
      "text/plain": [
       "<tensorflow.python.keras.callbacks.History at 0x1fd32175a48>"
      ]
     },
     "execution_count": 205,
     "metadata": {},
     "output_type": "execute_result"
    }
   ],
   "source": [
    "model_1.fit(reviews_tokenized, y_train,\n",
    "                       epochs = 50,\n",
    "                       verbose = 0,\n",
    "                       batch_size = 8,\n",
    "                       )"
   ]
  },
  {
   "cell_type": "code",
   "execution_count": 206,
   "metadata": {},
   "outputs": [
    {
     "name": "stdout",
     "output_type": "stream",
     "text": [
      "59/59 [==============================] - 0s 2ms/step - loss: 0.3858 - accuracy: 0.7670\n",
      "Training Accuracy is 76.70212984085083\n"
     ]
    }
   ],
   "source": [
    "# Get training accuracy of the model\n",
    "loss, accuracy = model_1.evaluate(reviews_tokenized, y, verbose=1)\n",
    "print('Training Accuracy is {}'.format(accuracy*100))"
   ]
  },
  {
   "cell_type": "markdown",
   "metadata": {},
   "source": [
    "* The training accuracy of 77% is ok but not great "
   ]
  },
  {
   "cell_type": "markdown",
   "metadata": {},
   "source": [
    "# Section 5: Word Embeddings"
   ]
  },
  {
   "cell_type": "markdown",
   "metadata": {},
   "source": [
    "Reference paper: https://heartbeat.fritz.ai/using-a-keras-embedding-layer-to-handle-text-data-2c88dc019600"
   ]
  },
  {
   "cell_type": "code",
   "execution_count": 216,
   "metadata": {},
   "outputs": [],
   "source": [
    "# Set X_training, test and y training variables (again the test set is unlabelled as per Sem-eval)\n",
    "X_train= df_train[\"Review\"]\n",
    "y_train = df_train[\"Category\"]\n",
    "X_test = df_test[\"Review\"]"
   ]
  },
  {
   "cell_type": "markdown",
   "metadata": {},
   "source": [
    "Use full df_train dataset for training as neural networks usually work better with more data. The test set is unlabelled but a range of results will be examined manually"
   ]
  },
  {
   "cell_type": "code",
   "execution_count": 217,
   "metadata": {},
   "outputs": [],
   "source": [
    "# One hot encode the X variables with a vocab size of 10000\n",
    "\n",
    "vocab_size = 6000\n",
    "\n",
    "\n",
    "X_train = [one_hot(d, vocab_size,filters='!\"#$%&()*+,-./:;<=>?@[\\]^_`{|}~',lower=True, split=' ') for d in X_train]\n",
    "X_test = [one_hot(d, vocab_size,filters='!\"#$%&()*+,-./:;<=>?@[\\]^_`{|}~',lower=True, split=' ') for d in X_test]\n"
   ]
  },
  {
   "cell_type": "code",
   "execution_count": 218,
   "metadata": {},
   "outputs": [
    {
     "name": "stdout",
     "output_type": "stream",
     "text": [
      "[3048, 5957, 1320, 3376, 4113, 2166, 3219, 2203, 4634, 5610, 1606, 2515, 3354, 4807, 5610, 1682, 3620, 391, 3048, 1320, 4776, 2031, 2500, 4807, 914, 1320, 903, 3759]\n"
     ]
    }
   ],
   "source": [
    "# Example tokenized review\n",
    "print(X_train[1])"
   ]
  },
  {
   "cell_type": "code",
   "execution_count": 219,
   "metadata": {},
   "outputs": [],
   "source": [
    "# Set the maximum length of review based on analysis of mean, min and max review length earlier and pad sequences to same \n",
    "# length using padding 'pre' ('post' can also be used but as most reviews are the same length, it shouldn't make much difference)\n",
    "max_length = 50\n",
    "X_train = pad_sequences(X_train, maxlen=max_length, padding='pre')\n",
    "X_test = pad_sequences(X_test, maxlen=max_length, padding='pre')"
   ]
  },
  {
   "cell_type": "code",
   "execution_count": 220,
   "metadata": {},
   "outputs": [
    {
     "data": {
      "text/plain": [
       "array([   0,    0,    0,    0,    0,    0,    0,    0,    0,    0,    0,\n",
       "          0,    0,    0,    0,    0,    0,    0,    0,    0,    0,    0,\n",
       "          0,    0,    0,    0,    0,    0,    0,    0,    0,    0,    0,\n",
       "          0,    0, 1489, 4974, 4513,  143, 1957, 4705,  225, 5590, 2715,\n",
       "       3930, 1606, 5435, 5762, 4201, 1888])"
      ]
     },
     "execution_count": 220,
     "metadata": {},
     "output_type": "execute_result"
    }
   ],
   "source": [
    "# Check sample\n",
    "X_train[0]"
   ]
  },
  {
   "cell_type": "code",
   "execution_count": 221,
   "metadata": {},
   "outputs": [],
   "source": [
    "# Encode target categories\n",
    "\n",
    "label_encoder = LabelEncoder()\n",
    "cat = label_encoder.fit_transform(y_train)\n",
    "y_train = to_categorical(cat)\n"
   ]
  },
  {
   "cell_type": "code",
   "execution_count": 222,
   "metadata": {},
   "outputs": [
    {
     "data": {
      "text/plain": [
       "array([0., 0., 0., 0., 0., 0., 0., 0., 1., 0., 0., 0.], dtype=float32)"
      ]
     },
     "execution_count": 222,
     "metadata": {},
     "output_type": "execute_result"
    }
   ],
   "source": [
    "# Check exampled\n",
    "y_train[0]"
   ]
  },
  {
   "cell_type": "code",
   "execution_count": 223,
   "metadata": {},
   "outputs": [],
   "source": [
    "# Set embedding parameters\n",
    "input_dim = vocab_size\n",
    "output_dim = 16\n",
    "input_length = max_length"
   ]
  },
  {
   "cell_type": "code",
   "execution_count": 224,
   "metadata": {},
   "outputs": [
    {
     "name": "stdout",
     "output_type": "stream",
     "text": [
      "Model: \"sequential_6\"\n",
      "_________________________________________________________________\n",
      "Layer (type)                 Output Shape              Param #   \n",
      "=================================================================\n",
      "embedding_1 (Embedding)      (None, 50, 16)            96000     \n",
      "_________________________________________________________________\n",
      "flatten_1 (Flatten)          (None, 800)               0         \n",
      "_________________________________________________________________\n",
      "dense_24 (Dense)             (None, 512)               410112    \n",
      "_________________________________________________________________\n",
      "dropout_18 (Dropout)         (None, 512)               0         \n",
      "_________________________________________________________________\n",
      "dense_25 (Dense)             (None, 256)               131328    \n",
      "_________________________________________________________________\n",
      "dropout_19 (Dropout)         (None, 256)               0         \n",
      "_________________________________________________________________\n",
      "dense_26 (Dense)             (None, 128)               32896     \n",
      "_________________________________________________________________\n",
      "dropout_20 (Dropout)         (None, 128)               0         \n",
      "_________________________________________________________________\n",
      "dense_27 (Dense)             (None, 12)                1548      \n",
      "=================================================================\n",
      "Total params: 671,884\n",
      "Trainable params: 671,884\n",
      "Non-trainable params: 0\n",
      "_________________________________________________________________\n",
      "None\n"
     ]
    }
   ],
   "source": [
    "# Build model\n",
    "model_2 = Sequential()\n",
    "model_2.add(Embedding(input_dim, output_dim = output_dim, input_length=max_length))\n",
    "model_2.add(Flatten())\n",
    "model_2.add(Dense(512, activation='relu'))\n",
    "model_2.add(Dropout(rate=0.5))\n",
    "model_2.add((Dense(256, activation='relu')))\n",
    "model_2.add(Dropout(rate=0.5))\n",
    "model_2.add((Dense(128, activation='relu')))\n",
    "model_2.add((Dropout(rate = 0.5)))\n",
    "model_2.add(Dense(12, activation='softmax'))\n",
    "\n",
    "#compile model\n",
    "model_2.compile(loss='categorical_crossentropy', optimizer='Adam', metrics=['accuracy'])\n",
    "\n",
    "print(model_2.summary())\n"
   ]
  },
  {
   "cell_type": "code",
   "execution_count": 225,
   "metadata": {},
   "outputs": [],
   "source": [
    "history = model_2.fit(X_train, y_train, epochs=50, verbose=0)"
   ]
  },
  {
   "cell_type": "code",
   "execution_count": 226,
   "metadata": {},
   "outputs": [
    {
     "name": "stdout",
     "output_type": "stream",
     "text": [
      " 1/59 [..............................] - ETA: 0s - loss: 0.2255 - accuracy: 0.8438WARNING:tensorflow:Callbacks method `on_test_batch_end` is slow compared to the batch time (batch time: 0.0000s vs `on_test_batch_end` time: 0.0010s). Check your callbacks.\n",
      "59/59 [==============================] - 0s 507us/step - loss: 0.4094 - accuracy: 0.7676\n",
      "Training Accuracy is 76.75532102584839\n"
     ]
    }
   ],
   "source": [
    "loss, accuracy = model_2.evaluate(X_train, y_train, verbose=1)\n",
    "print('Training Accuracy is {}'.format(accuracy*100))"
   ]
  },
  {
   "cell_type": "markdown",
   "metadata": {},
   "source": [
    "* The tokenized and word embedding models performed very much the same with around 76% accuracy on the training set \n",
    "* Performance may be improved using pre-trained word embeddings such as Word2Vec but at the same time they might have less relevent corpora."
   ]
  },
  {
   "cell_type": "markdown",
   "metadata": {},
   "source": [
    "# Section 6: Aspect Labelling of Arun Restaurants Dataset"
   ]
  },
  {
   "cell_type": "code",
   "execution_count": 249,
   "metadata": {},
   "outputs": [],
   "source": [
    "# Read in data\n",
    "df_food = pd.read_excel(\"combinedaspectcheck.xlsx\",sheet_name = \"CLEANEDFOOD\", engine = \"openpyxl\")\n",
    "\n",
    "# Drop column\n",
    "df_food.drop([\"Category\"],axis = 1,inplace = True)"
   ]
  },
  {
   "cell_type": "code",
   "execution_count": 261,
   "metadata": {},
   "outputs": [],
   "source": [
    "df_food = df_food.sample(frac = 1)"
   ]
  },
  {
   "cell_type": "code",
   "execution_count": 262,
   "metadata": {},
   "outputs": [],
   "source": [
    "# Tokenize the nouns\n",
    "vocab_size = 6000 \n",
    "tokenizer = Tokenizer(num_words=vocab_size)\n",
    "tokenizer.fit_on_texts(df_food.Nouns)\n",
    "reviews_tokenized_arun = tokenizer.texts_to_matrix(df_food.Nouns)"
   ]
  },
  {
   "cell_type": "code",
   "execution_count": 263,
   "metadata": {},
   "outputs": [
    {
     "data": {
      "text/plain": [
       "array([4, 4, 4, ..., 5, 5, 5], dtype=int64)"
      ]
     },
     "execution_count": 263,
     "metadata": {},
     "output_type": "execute_result"
    }
   ],
   "source": [
    "y_pred_prob = model_1.predict(reviews_tokenized_arun)\n",
    "y_pred_class = np.argmax(model_1.predict(reviews_tokenized_arun), axis=-1)\n",
    "y_pred_class"
   ]
  },
  {
   "cell_type": "code",
   "execution_count": 264,
   "metadata": {},
   "outputs": [],
   "source": [
    "# Models output (use Model 1 which seemed to perform slightly better)\n",
    "aspects = pd.DataFrame(label_encoder.inverse_transform(np.argmax(model_1.predict(reviews_tokenized_arun), axis=-1)))\n",
    "aspects.columns = [\"Aspect\"]"
   ]
  },
  {
   "cell_type": "code",
   "execution_count": 265,
   "metadata": {},
   "outputs": [
    {
     "data": {
      "text/plain": [
       "(2100, 1)"
      ]
     },
     "execution_count": 265,
     "metadata": {},
     "output_type": "execute_result"
    }
   ],
   "source": [
    "aspects.shape"
   ]
  },
  {
   "cell_type": "code",
   "execution_count": 266,
   "metadata": {},
   "outputs": [],
   "source": [
    "food = pd.concat([df_food.reset_index(),aspects],axis = 1,ignore_index = True)\n",
    "food.drop(columns = [0,1,2,3,5,7,8],axis = 1,inplace = True)\n",
    "food.columns = [\"Nouns\",\"Aspect\",\"Predicted\"]"
   ]
  },
  {
   "cell_type": "code",
   "execution_count": 267,
   "metadata": {},
   "outputs": [
    {
     "data": {
      "text/html": [
       "<div>\n",
       "<style scoped>\n",
       "    .dataframe tbody tr th:only-of-type {\n",
       "        vertical-align: middle;\n",
       "    }\n",
       "\n",
       "    .dataframe tbody tr th {\n",
       "        vertical-align: top;\n",
       "    }\n",
       "\n",
       "    .dataframe thead th {\n",
       "        text-align: right;\n",
       "    }\n",
       "</style>\n",
       "<table border=\"1\" class=\"dataframe\">\n",
       "  <thead>\n",
       "    <tr style=\"text-align: right;\">\n",
       "      <th></th>\n",
       "      <th>Nouns</th>\n",
       "      <th>Aspect</th>\n",
       "      <th>Predicted</th>\n",
       "    </tr>\n",
       "  </thead>\n",
       "  <tbody>\n",
       "    <tr>\n",
       "      <th>0</th>\n",
       "      <td>staff</td>\n",
       "      <td>Staff&amp;Service</td>\n",
       "      <td>FOOD#PRICES</td>\n",
       "    </tr>\n",
       "    <tr>\n",
       "      <th>1</th>\n",
       "      <td>value money</td>\n",
       "      <td>Value</td>\n",
       "      <td>FOOD#PRICES</td>\n",
       "    </tr>\n",
       "    <tr>\n",
       "      <th>2</th>\n",
       "      <td>value money</td>\n",
       "      <td>Value</td>\n",
       "      <td>FOOD#PRICES</td>\n",
       "    </tr>\n",
       "    <tr>\n",
       "      <th>3</th>\n",
       "      <td>staff surroundings</td>\n",
       "      <td>Staff&amp;Service</td>\n",
       "      <td>FOOD#PRICES</td>\n",
       "    </tr>\n",
       "    <tr>\n",
       "      <th>4</th>\n",
       "      <td>staff</td>\n",
       "      <td>Staff&amp;Service</td>\n",
       "      <td>FOOD#PRICES</td>\n",
       "    </tr>\n",
       "  </tbody>\n",
       "</table>\n",
       "</div>"
      ],
      "text/plain": [
       "                Nouns         Aspect    Predicted\n",
       "0               staff  Staff&Service  FOOD#PRICES\n",
       "1         value money          Value  FOOD#PRICES\n",
       "2         value money          Value  FOOD#PRICES\n",
       "3  staff surroundings  Staff&Service  FOOD#PRICES\n",
       "4               staff  Staff&Service  FOOD#PRICES"
      ]
     },
     "execution_count": 267,
     "metadata": {},
     "output_type": "execute_result"
    }
   ],
   "source": [
    "food.head()"
   ]
  },
  {
   "cell_type": "code",
   "execution_count": 268,
   "metadata": {},
   "outputs": [
    {
     "data": {
      "text/plain": [
       "FOOD#PRICES                 1374\n",
       "FOOD#QUALITY                 416\n",
       "SERVICE#GENERAL              120\n",
       "RESTAURANT#GENERAL            86\n",
       "RESTAURANT#MISCELLANEOUS      40\n",
       "AMBIENCE#GENERAL              25\n",
       "DRINKS#PRICES                 17\n",
       "RESTAURANT#PRICES             12\n",
       "DRINKS#QUALITY                 4\n",
       "DRINKS#STYLE_OPTIONS           3\n",
       "LOCATION#GENERAL               2\n",
       "FOOD#STYLE_OPTIONS             1\n",
       "Name: Predicted, dtype: int64"
      ]
     },
     "execution_count": 268,
     "metadata": {},
     "output_type": "execute_result"
    }
   ],
   "source": [
    "food.Predicted.value_counts()"
   ]
  },
  {
   "cell_type": "markdown",
   "metadata": {},
   "source": []
  },
  {
   "cell_type": "markdown",
   "metadata": {},
   "source": [
    "Fairly unsuccessful!"
   ]
  }
 ],
 "metadata": {
  "kernelspec": {
   "display_name": "Python 3",
   "language": "python",
   "name": "python3"
  },
  "language_info": {
   "codemirror_mode": {
    "name": "ipython",
    "version": 3
   },
   "file_extension": ".py",
   "mimetype": "text/x-python",
   "name": "python",
   "nbconvert_exporter": "python",
   "pygments_lexer": "ipython3",
   "version": "3.7.10"
  }
 },
 "nbformat": 4,
 "nbformat_minor": 4
}
