{
 "cells": [
  {
   "cell_type": "markdown",
   "metadata": {},
   "source": [
    "# Word Embeddings for Aspect Models with Machine Learning"
   ]
  },
  {
   "cell_type": "markdown",
   "metadata": {},
   "source": [
    "This notebook builds word vector embeddings and document vector embeddings which can be used in the machine learning classifiers. Word vector embeddings are multi-dimensional representations of text that are more sophisticated than the traditional bag of words or bag of ngrams models. These vectors take account of context, by considering relationships between words in terms of their position in the multi-dimensional vector space.\n",
    "\n",
    "* Section 1 - Import libraries and data\n",
    "* Section 2 - Data cleaning\n",
    "* Section 3 - Using Word2Vec pretrained vectors\n",
    "* Section 4 - Word2Vec custom embeddings (trained on the corpus)\n",
    "* Section 5 - Sentence level vectors\n",
    "* Section 6 - ML models using averaged word vectors\n",
    "* Section 7 - Discussion about problems with word vectors\n",
    "* Section 8 - Doc2Vec vectors\n",
    "* Section 9 - ML models using Doc2Vec vectors"
   ]
  },
  {
   "cell_type": "markdown",
   "metadata": {},
   "source": [
    "# Section 1: Import libraries and dataset"
   ]
  },
  {
   "cell_type": "code",
   "execution_count": 5,
   "metadata": {},
   "outputs": [],
   "source": [
    "import pandas as pd\n",
    "import numpy as np\n",
    "import matplotlib.pyplot as plt\n",
    "import seaborn as sns\n",
    "from sklearn import preprocessing\n",
    "from sklearn.model_selection import train_test_split, cross_val_score, StratifiedKFold\n",
    "from sklearn.feature_extraction.text import TfidfVectorizer\n",
    "from sklearn.preprocessing import LabelBinarizer\n",
    "from sklearn.naive_bayes import MultinomialNB\n",
    "from sklearn.linear_model import LogisticRegression\n",
    "from sklearn.ensemble import RandomForestClassifier\n",
    "from sklearn.svm import LinearSVC\n",
    "from sklearn.svm import SVC\n",
    "from sklearn.model_selection import cross_val_score\n",
    "from sklearn.metrics import confusion_matrix, classification_report"
   ]
  },
  {
   "cell_type": "code",
   "execution_count": 27,
   "metadata": {},
   "outputs": [],
   "source": [
    "df_accom = pd.read_excel('combinedaspectcheck.xlsx',sheet_name = 'CLEANEDACCOM')\n",
    "df_food = pd.read_excel(\"combinedaspectcheck.xlsx\",sheet_name = \"CLEANEDFOOD\")\n",
    "df_attract = pd.read_excel(\"combinedaspectcheck.xlsx\", sheet_name = \"CLEANEDATTRACT\")"
   ]
  },
  {
   "cell_type": "code",
   "execution_count": 28,
   "metadata": {},
   "outputs": [
    {
     "data": {
      "text/html": [
       "<div>\n",
       "<style scoped>\n",
       "    .dataframe tbody tr th:only-of-type {\n",
       "        vertical-align: middle;\n",
       "    }\n",
       "\n",
       "    .dataframe tbody tr th {\n",
       "        vertical-align: top;\n",
       "    }\n",
       "\n",
       "    .dataframe thead th {\n",
       "        text-align: right;\n",
       "    }\n",
       "</style>\n",
       "<table border=\"1\" class=\"dataframe\">\n",
       "  <thead>\n",
       "    <tr style=\"text-align: right;\">\n",
       "      <th></th>\n",
       "      <th>OrigInd</th>\n",
       "      <th>Category</th>\n",
       "      <th>Cleaned</th>\n",
       "      <th>Noun Phrases</th>\n",
       "      <th>Nouns</th>\n",
       "      <th>Aspect</th>\n",
       "      <th>Sentiment</th>\n",
       "    </tr>\n",
       "  </thead>\n",
       "  <tbody>\n",
       "    <tr>\n",
       "      <th>0</th>\n",
       "      <td>2030</td>\n",
       "      <td>Accommodation</td>\n",
       "      <td>main complaint room made u feel ill</td>\n",
       "      <td>main complaint room</td>\n",
       "      <td>complaint room</td>\n",
       "      <td>Room</td>\n",
       "      <td>-0.2960</td>\n",
       "    </tr>\n",
       "    <tr>\n",
       "      <th>1</th>\n",
       "      <td>10751</td>\n",
       "      <td>Accommodation</td>\n",
       "      <td>weekend away staff great room clean shower goo...</td>\n",
       "      <td>great room</td>\n",
       "      <td>room</td>\n",
       "      <td>Room</td>\n",
       "      <td>0.6249</td>\n",
       "    </tr>\n",
       "    <tr>\n",
       "      <th>2</th>\n",
       "      <td>11247</td>\n",
       "      <td>Accommodation</td>\n",
       "      <td>great room breakfast fabulous central location</td>\n",
       "      <td>great room breakfast fabulous</td>\n",
       "      <td>room breakfast</td>\n",
       "      <td>Room</td>\n",
       "      <td>0.8176</td>\n",
       "    </tr>\n",
       "    <tr>\n",
       "      <th>3</th>\n",
       "      <td>21902</td>\n",
       "      <td>Accommodation</td>\n",
       "      <td>shower great size well toiletry clean towel pr...</td>\n",
       "      <td>clean towel</td>\n",
       "      <td>towel</td>\n",
       "      <td>Room</td>\n",
       "      <td>0.4019</td>\n",
       "    </tr>\n",
       "    <tr>\n",
       "      <th>4</th>\n",
       "      <td>22835</td>\n",
       "      <td>Accommodation</td>\n",
       "      <td>great bed breakfast stayed week encore guest h...</td>\n",
       "      <td>lovely clean room facility</td>\n",
       "      <td>room facility</td>\n",
       "      <td>Room</td>\n",
       "      <td>0.7579</td>\n",
       "    </tr>\n",
       "  </tbody>\n",
       "</table>\n",
       "</div>"
      ],
      "text/plain": [
       "   OrigInd       Category                                            Cleaned  \\\n",
       "0     2030  Accommodation                main complaint room made u feel ill   \n",
       "1    10751  Accommodation  weekend away staff great room clean shower goo...   \n",
       "2    11247  Accommodation     great room breakfast fabulous central location   \n",
       "3    21902  Accommodation  shower great size well toiletry clean towel pr...   \n",
       "4    22835  Accommodation  great bed breakfast stayed week encore guest h...   \n",
       "\n",
       "                    Noun Phrases           Nouns Aspect  Sentiment  \n",
       "0            main complaint room  complaint room   Room    -0.2960  \n",
       "1                     great room            room   Room     0.6249  \n",
       "2  great room breakfast fabulous  room breakfast   Room     0.8176  \n",
       "3                    clean towel           towel   Room     0.4019  \n",
       "4     lovely clean room facility   room facility   Room     0.7579  "
      ]
     },
     "execution_count": 28,
     "metadata": {},
     "output_type": "execute_result"
    }
   ],
   "source": [
    "df_accom.head()"
   ]
  },
  {
   "cell_type": "markdown",
   "metadata": {},
   "source": [
    "# Section 2: Preprocessing"
   ]
  },
  {
   "cell_type": "code",
   "execution_count": 29,
   "metadata": {},
   "outputs": [],
   "source": [
    "# Drop column\n",
    "df_accom.drop([\"Category\"],axis = 1, inplace = True)\n",
    "df_food.drop([\"Category\"],axis = 1,inplace = True)\n",
    "df_attract.drop([\"Category\"],axis = 1,inplace = True)"
   ]
  },
  {
   "cell_type": "code",
   "execution_count": 30,
   "metadata": {},
   "outputs": [],
   "source": [
    "# Set to title case as some categories are multiples\n",
    "df_accom[\"Aspect\"] = df_accom[\"Aspect\"].apply(lambda x: x.title())"
   ]
  },
  {
   "cell_type": "code",
   "execution_count": 31,
   "metadata": {},
   "outputs": [],
   "source": [
    "# Function to specify X and y\n",
    "def XY(df):\n",
    "    X = df[\"Nouns\"]\n",
    "    y = df[\"Aspect\"]\n",
    "\n",
    "    return X,y"
   ]
  },
  {
   "cell_type": "code",
   "execution_count": 32,
   "metadata": {},
   "outputs": [
    {
     "name": "stdout",
     "output_type": "stream",
     "text": [
      "(2220,) (2220,)\n",
      "(2100,) (2100,)\n",
      "(1650,) (1650,)\n"
     ]
    }
   ],
   "source": [
    "# Apply function and print shape\n",
    "X_accom,y_accom = XY(df_accom)\n",
    "X_food,y_food = XY(df_food)\n",
    "X_attract,y_attract = XY(df_attract)\n",
    "\n",
    "print(X_accom.shape,y_accom.shape)\n",
    "print(X_food.shape,y_food.shape)\n",
    "print(X_attract.shape,y_attract.shape)\n"
   ]
  },
  {
   "cell_type": "code",
   "execution_count": 34,
   "metadata": {},
   "outputs": [
    {
     "data": {
      "text/plain": [
       "0    complaint room\n",
       "1              room\n",
       "2    room breakfast\n",
       "3             towel\n",
       "4     room facility\n",
       "Name: Nouns, dtype: object"
      ]
     },
     "execution_count": 34,
     "metadata": {},
     "output_type": "execute_result"
    }
   ],
   "source": [
    "X_accom.head()"
   ]
  },
  {
   "cell_type": "code",
   "execution_count": 42,
   "metadata": {},
   "outputs": [],
   "source": [
    "# Train, validation split\n",
    "def train_test(X,y):\n",
    "    X_train, X_val, y_train, y_val = train_test_split(X,y, stratify = y,test_size=0.20, shuffle = True)\n",
    "    return X_train,X_val,y_train,y_val"
   ]
  },
  {
   "cell_type": "code",
   "execution_count": 43,
   "metadata": {},
   "outputs": [],
   "source": [
    "# Run function\n",
    "X_train_accom,X_val_accom,y_train_accom,y_val_accom = train_test(X_accom,y_accom)\n",
    "X_train_food,X_val_food,y_train_food,y_val_food = train_test(X_food,y_food)\n",
    "X_train_attract,X_val_attract,y_train_attract,y_val_attract = train_test(X_attract,y_attract)"
   ]
  },
  {
   "cell_type": "code",
   "execution_count": 44,
   "metadata": {},
   "outputs": [
    {
     "name": "stdout",
     "output_type": "stream",
     "text": [
      "(1776,) (444,) (1776,) (444,)\n",
      "(1680,) (420,) (1680,) (420,)\n",
      "(1320,) (330,) (1320,) (330,)\n"
     ]
    }
   ],
   "source": [
    "# Shape of training, validation and test sets for each category\n",
    "print(X_train_accom.shape, X_val_accom.shape, y_train_accom.shape, y_val_accom.shape)\n",
    "print(X_train_food.shape, X_val_food.shape, y_train_food.shape, y_val_food.shape)\n",
    "print(X_train_attract.shape,X_val_attract.shape, y_train_attract.shape, y_val_attract.shape)"
   ]
  },
  {
   "cell_type": "code",
   "execution_count": 78,
   "metadata": {},
   "outputs": [],
   "source": [
    "# Function to encode y values as integer labels (necessary for stratified cross validation as one-hot encoded doesn't work)\n",
    "def lab(y_train, y_val):\n",
    "    le = preprocessing.LabelEncoder()\n",
    "    y_train_l = le.fit_transform(y_train)\n",
    "    y_val_l = le.transform(y_val)\n",
    "    return y_train_l, y_val_l"
   ]
  },
  {
   "cell_type": "code",
   "execution_count": 79,
   "metadata": {},
   "outputs": [],
   "source": [
    "# Apply functions\n",
    "y_train_accom_l, y_val_accom_l = lab(y_train_accom, y_val_accom)\n",
    "y_train_food_l, y_val_food_l = lab(y_train_food, y_val_food)\n",
    "y_train_attract_l, y_val_attract_l = lab(y_train_attract, y_val_attract)"
   ]
  },
  {
   "cell_type": "markdown",
   "metadata": {},
   "source": [
    "# Section 3: Using Word2Vec Pretrained Vectors"
   ]
  },
  {
   "cell_type": "code",
   "execution_count": 45,
   "metadata": {},
   "outputs": [],
   "source": [
    "# Import the gensim downloader to get pre-trained word embeddings from the glove-wiki-100 with vectors of length 100 (100\n",
    "# dimensional space)\n",
    "import gensim.downloader as api"
   ]
  },
  {
   "cell_type": "code",
   "execution_count": 46,
   "metadata": {},
   "outputs": [],
   "source": [
    "# Download the glove corpora trained on wikipedia\n",
    "wik_embed = api.load('glove-wiki-gigaword-100')"
   ]
  },
  {
   "cell_type": "code",
   "execution_count": 47,
   "metadata": {},
   "outputs": [
    {
     "data": {
      "text/plain": [
       "array([-1.6486e-01,  9.1997e-01,  2.2737e-01, -4.9031e-01, -1.8082e-03,\n",
       "       -3.3803e-01,  5.7221e-02,  1.4601e-01,  4.0202e-01, -2.8858e-01,\n",
       "       -4.7495e-01, -5.6369e-01,  2.7037e-01,  5.1702e-01, -1.1241e-01,\n",
       "        1.8314e-01,  2.2066e-01, -4.8606e-01, -8.7284e-01, -6.2587e-02,\n",
       "        4.3016e-02,  2.3641e-01,  5.9705e-01, -3.8640e-01, -2.5194e-01,\n",
       "        9.6862e-01, -4.3112e-01, -4.8370e-01, -1.1396e+00,  9.2425e-02,\n",
       "       -1.1476e-01, -7.4291e-02, -6.2524e-02, -9.5122e-02, -2.2714e-01,\n",
       "        8.8291e-01,  3.9978e-01,  7.6631e-01, -6.7697e-01, -6.2829e-01,\n",
       "       -1.1872e-01, -2.4492e-01, -5.8893e-01, -8.5088e-01,  1.1107e+00,\n",
       "        4.2190e-01, -1.5072e+00, -1.9509e-01, -2.6712e-01, -7.0801e-01,\n",
       "        5.5075e-01, -4.6929e-02, -2.5203e-01,  7.4411e-01, -1.8325e-01,\n",
       "       -1.4885e+00, -4.6393e-01, -1.0338e-01,  2.3525e+00, -1.5421e-01,\n",
       "        3.9833e-01,  1.5344e-02,  8.0708e-02, -2.7373e-01,  9.7057e-01,\n",
       "       -1.9383e-02,  2.0899e-01, -6.4033e-01,  9.2509e-01, -4.5371e-01,\n",
       "       -7.0564e-01, -1.6033e-01, -7.1761e-02,  6.2856e-01,  3.5732e-01,\n",
       "        8.8802e-01, -6.9127e-01,  4.9634e-02, -9.3347e-01,  6.5396e-01,\n",
       "        3.7165e-01,  5.8363e-02, -1.0152e+00,  7.0845e-01, -1.3542e+00,\n",
       "       -3.6390e-01,  2.5994e-01, -1.8260e-01, -9.8930e-01, -4.4699e-01,\n",
       "        8.5016e-01,  9.4532e-02,  3.7019e-01, -5.0354e-01, -1.2083e+00,\n",
       "       -3.5776e-01,  2.3899e-01, -6.7904e-02,  1.5072e+00,  6.0889e-01],\n",
       "      dtype=float32)"
      ]
     },
     "execution_count": 47,
     "metadata": {},
     "output_type": "execute_result"
    }
   ],
   "source": [
    "wik_embed['food']"
   ]
  },
  {
   "cell_type": "code",
   "execution_count": 48,
   "metadata": {},
   "outputs": [
    {
     "data": {
      "text/plain": [
       "[('foods', 0.7469059228897095),\n",
       " ('supplies', 0.726469099521637),\n",
       " ('products', 0.7225048542022705),\n",
       " ('meat', 0.7138239145278931),\n",
       " ('supply', 0.6732637882232666),\n",
       " ('feed', 0.6704155206680298),\n",
       " ('medicines', 0.6687097549438477),\n",
       " ('meals', 0.6630423069000244),\n",
       " ('coffee', 0.6627735495567322),\n",
       " ('goods', 0.6610530614852905)]"
      ]
     },
     "execution_count": 48,
     "metadata": {},
     "output_type": "execute_result"
    }
   ],
   "source": [
    "# Get most similar word vectors to food based on the large wikipedia corpus\n",
    "wik_embed.most_similar('food')"
   ]
  },
  {
   "cell_type": "code",
   "execution_count": 49,
   "metadata": {},
   "outputs": [
    {
     "data": {
      "text/plain": [
       "[('services', 0.8831208348274231),\n",
       " ('public', 0.6898015737533569),\n",
       " ('network', 0.6799495220184326),\n",
       " ('private', 0.6653395891189575),\n",
       " ('system', 0.663616955280304),\n",
       " ('business', 0.6610175371170044),\n",
       " ('provided', 0.6580187082290649),\n",
       " ('available', 0.6564439535140991),\n",
       " ('information', 0.65455162525177),\n",
       " ('access', 0.653258204460144)]"
      ]
     },
     "execution_count": 49,
     "metadata": {},
     "output_type": "execute_result"
    }
   ],
   "source": [
    "# Get most similar word vectors to food based on the large wikipedia corpus\n",
    "wik_embed.most_similar('service')"
   ]
  },
  {
   "cell_type": "code",
   "execution_count": 50,
   "metadata": {},
   "outputs": [
    {
     "data": {
      "text/plain": [
       "[('tavern', 0.7660407423973083),\n",
       " ('pubs', 0.7165777087211609),\n",
       " ('cafe', 0.6937366127967834),\n",
       " ('restaurant', 0.6867989301681519),\n",
       " ('inn', 0.6567275524139404),\n",
       " ('diner', 0.6390058398246765),\n",
       " ('saloon', 0.6300128698348999),\n",
       " ('nightclub', 0.6244509220123291),\n",
       " ('shop', 0.6084840297698975),\n",
       " ('café', 0.6015617847442627),\n",
       " ('brewery', 0.5947416424751282),\n",
       " ('dining', 0.575914740562439),\n",
       " ('hotel', 0.5699751377105713),\n",
       " ('barn', 0.5652211308479309),\n",
       " ('garage', 0.5638622641563416),\n",
       " ('lounge', 0.5610031485557556),\n",
       " ('bartender', 0.5576872825622559),\n",
       " ('bar', 0.5532839298248291),\n",
       " ('coffeehouse', 0.5503674149513245),\n",
       " ('eatery', 0.5502239465713501),\n",
       " ('restaurants', 0.5499460697174072),\n",
       " ('beer', 0.5485448241233826),\n",
       " ('taverns', 0.5417128205299377),\n",
       " ('supermarket', 0.5389108657836914),\n",
       " ('motel', 0.5370784997940063),\n",
       " ('proprietor', 0.5345678329467773),\n",
       " ('bistro', 0.5325350165367126),\n",
       " ('steakhouse', 0.5205979943275452),\n",
       " ('bookshop', 0.5188742280006409),\n",
       " ('brew', 0.5171971321105957),\n",
       " ('bookstore', 0.5162118673324585),\n",
       " ('breakfast', 0.5150656700134277),\n",
       " ('mall', 0.5134524703025818),\n",
       " ('cottage', 0.5089907646179199),\n",
       " ('bakery', 0.5048946142196655),\n",
       " ('liquor', 0.5023053288459778),\n",
       " ('manor', 0.5004095435142517),\n",
       " ('club', 0.499994158744812),\n",
       " ('patrons', 0.49693870544433594),\n",
       " ('karaoke', 0.4959346652030945),\n",
       " ('grocery', 0.4957745671272278),\n",
       " ('shops', 0.49546951055526733),\n",
       " ('parlor', 0.49529439210891724),\n",
       " ('shopping', 0.4940418004989624),\n",
       " ('dublin', 0.491751492023468),\n",
       " ('cafes', 0.49174612760543823),\n",
       " ('nightclubs', 0.49008724093437195),\n",
       " ('inns', 0.4860492944717407),\n",
       " ('flea', 0.4850820004940033),\n",
       " ('belfast', 0.4841185212135315),\n",
       " ('bath', 0.4816218316555023),\n",
       " ('landlord', 0.4811308979988098),\n",
       " ('cafeteria', 0.4766353666782379),\n",
       " ('ale', 0.4764384329319),\n",
       " ('stables', 0.47541141510009766),\n",
       " ('farmhouse', 0.47292840480804443),\n",
       " ('carriage', 0.4725055992603302),\n",
       " ('hall', 0.4724768400192261),\n",
       " ('drink', 0.4704323410987854),\n",
       " ('store', 0.46847477555274963),\n",
       " ('hostel', 0.4678383469581604),\n",
       " ('garden', 0.46714967489242554),\n",
       " ('street', 0.4668969511985779),\n",
       " ('warehouse', 0.4662724435329437),\n",
       " ('premises', 0.4657129645347595),\n",
       " ('frequented', 0.46512189507484436),\n",
       " ('neighborhood', 0.46507692337036133),\n",
       " ('pizzeria', 0.46489787101745605),\n",
       " ('halls', 0.4648662507534027),\n",
       " ('upstairs', 0.46379315853118896),\n",
       " ('terrace', 0.4616590142250061),\n",
       " ('london', 0.45954981446266174),\n",
       " ('firehouse', 0.45743492245674133),\n",
       " ('hotels', 0.4569550156593323),\n",
       " ('cellar', 0.45627203583717346),\n",
       " ('irish', 0.45565181970596313),\n",
       " ('owner', 0.4535481631755829),\n",
       " ('casino', 0.45353177189826965),\n",
       " ('gourmet', 0.4527360498905182),\n",
       " ('roadhouse', 0.4527207314968109),\n",
       " ('downstairs', 0.45179298520088196),\n",
       " ('guinness', 0.4507772922515869),\n",
       " ('dog', 0.4498406946659088),\n",
       " ('lovers', 0.44956427812576294),\n",
       " ('lodge', 0.4493953287601471),\n",
       " ('lunchtime', 0.448884516954422),\n",
       " ('hangout', 0.44823142886161804),\n",
       " ('coffee', 0.4481393098831177),\n",
       " ('kiosk', 0.44796696305274963),\n",
       " ('sidewalk', 0.4475759267807007),\n",
       " ('clubs', 0.44680318236351013),\n",
       " ('brothel', 0.44642961025238037),\n",
       " ('distillery', 0.4441379904747009),\n",
       " ('soho', 0.44271671772003174),\n",
       " ('theatre', 0.4424869120121002),\n",
       " ('nursery', 0.4422339200973511),\n",
       " ('nightlife', 0.44215667247772217),\n",
       " ('tenant', 0.44185692071914673),\n",
       " ('microbrewery', 0.4417637884616852),\n",
       " ('diners', 0.44167208671569824),\n",
       " ('village', 0.44160279631614685),\n",
       " ('mob', 0.4409143924713135),\n",
       " ('winery', 0.44046372175216675),\n",
       " ('gig', 0.4403080344200134),\n",
       " ('multiplex', 0.4398224353790283),\n",
       " ('kitchen', 0.438468337059021),\n",
       " ('ballroom', 0.43803656101226807),\n",
       " ('room', 0.43787604570388794),\n",
       " ('apartment', 0.43774718046188354),\n",
       " ('mcdonald', 0.43660467863082886),\n",
       " ('opened', 0.4360305070877075),\n",
       " ('brewpub', 0.43518298864364624),\n",
       " ('wine', 0.43509095907211304),\n",
       " ('chain', 0.434677392244339),\n",
       " ('waiter', 0.43193092942237854),\n",
       " ('brunch', 0.4314628541469574),\n",
       " ('mansion', 0.4310707747936249),\n",
       " ('dine', 0.43094953894615173),\n",
       " ('town', 0.4297221899032593),\n",
       " ('house', 0.429602712392807),\n",
       " ('catering', 0.4295651614665985),\n",
       " ('buffet', 0.42955437302589417),\n",
       " ('wharf', 0.42947515845298767),\n",
       " ('kennel', 0.42796772718429565),\n",
       " ('alley', 0.4279017150402069),\n",
       " ('pizza', 0.42788705229759216),\n",
       " ('gate', 0.42783117294311523),\n",
       " ('stalls', 0.42756226658821106),\n",
       " ('basement', 0.4261153042316437),\n",
       " ('owners', 0.4256814122200012),\n",
       " ('boutique', 0.42533257603645325),\n",
       " ('dinner', 0.4253101944923401),\n",
       " ('houses', 0.42456522583961487),\n",
       " ('victorian', 0.424060583114624),\n",
       " ('bathhouse', 0.4232957065105438),\n",
       " ('communal', 0.4231042265892029),\n",
       " ('picnic', 0.4227278232574463),\n",
       " ('cafés', 0.4226328730583191),\n",
       " ('tea', 0.4226265847682953),\n",
       " ('hut', 0.4222571849822998),\n",
       " ('cat', 0.42170995473861694),\n",
       " ('lunch', 0.421670138835907),\n",
       " ('waterside', 0.42153629660606384),\n",
       " ('deli', 0.4211490750312805),\n",
       " ('supper', 0.42074382305145264),\n",
       " ('shack', 0.4195636510848999),\n",
       " ('lodging', 0.4188687205314636),\n",
       " ('taxi', 0.41812247037887573),\n",
       " ('lane', 0.41808754205703735),\n",
       " ('midtown', 0.41768962144851685),\n",
       " ('ritz', 0.4174657464027405),\n",
       " ('greenwich', 0.41718071699142456),\n",
       " ('beachside', 0.4170079827308655),\n",
       " ('disco', 0.41658899188041687),\n",
       " ('doorman', 0.41564279794692993),\n",
       " ('burger', 0.41564279794692993),\n",
       " ('hostess', 0.4155678153038025),\n",
       " ('neighbourhood', 0.4151533544063568),\n",
       " ('palace', 0.41455867886543274),\n",
       " ('lion', 0.41376936435699463),\n",
       " ('westminster', 0.4134522080421448),\n",
       " ('barbecue', 0.41287264227867126),\n",
       " ('bus', 0.4127267897129059),\n",
       " ('bedroom', 0.41245830059051514),\n",
       " ('circus', 0.41229939460754395),\n",
       " ('greyhound', 0.4116952419281006),\n",
       " ('famous', 0.41163355112075806),\n",
       " ('bathroom', 0.41023173928260803),\n",
       " ('abbey', 0.4100205898284912),\n",
       " ('waitress', 0.40991073846817017),\n",
       " ('promenade', 0.40972480177879333),\n",
       " ('bars', 0.40928953886032104),\n",
       " ('waterfront', 0.40922650694847107),\n",
       " ('cabaret', 0.40857023000717163),\n",
       " ('eateries', 0.4083411693572998),\n",
       " ('sandwich', 0.40808457136154175),\n",
       " ('drinks', 0.407898485660553),\n",
       " ('nearby', 0.40704983472824097),\n",
       " ('estate', 0.40693745017051697),\n",
       " ('snack', 0.40691179037094116),\n",
       " ('horse', 0.40598517656326294),\n",
       " ('delicatessen', 0.40544116497039795),\n",
       " ('hamburger', 0.4050518870353699),\n",
       " ('courtyard', 0.4045618772506714),\n",
       " ('cinema', 0.40405553579330444),\n",
       " ('posh', 0.40379780530929565),\n",
       " ('castle', 0.4034700393676758),\n",
       " ('situated', 0.4032673239707947),\n",
       " ('rock', 0.40316200256347656),\n",
       " ('worship', 0.40312451124191284),\n",
       " ('bazaar', 0.40298545360565186),\n",
       " ('theater', 0.40292254090309143),\n",
       " ('scottish', 0.40288421511650085),\n",
       " ('covent', 0.40208178758621216),\n",
       " ('dance', 0.4012826979160309),\n",
       " ('starbucks', 0.40122929215431213),\n",
       " ('yard', 0.401191771030426),\n",
       " ('brawl', 0.40111589431762695),\n",
       " ('grocer', 0.4011017084121704),\n",
       " ('saloons', 0.40097513794898987)]"
      ]
     },
     "execution_count": 50,
     "metadata": {},
     "output_type": "execute_result"
    }
   ],
   "source": [
    "wik_embed.most_similar(positive = ['pub'],topn = 200)"
   ]
  },
  {
   "cell_type": "markdown",
   "metadata": {},
   "source": [
    "Pre-trained word vector embeddings are quick and easy to use but they are based on words in a large dataset so many not be as relevant to the nature of the review dataset being used. The most similar words shows the closely related words to the example word 'food'."
   ]
  },
  {
   "cell_type": "markdown",
   "metadata": {},
   "source": [
    "# Section 4: Word2Vec Custom Embeddings"
   ]
  },
  {
   "cell_type": "code",
   "execution_count": 68,
   "metadata": {},
   "outputs": [],
   "source": [
    "# Run text through gensim cleaner to prep the data to remove the remaining punctuation etc.\n",
    "X_train_accom2 = X_train_accom.apply(lambda x: gensim.utils.simple_preprocess(x))\n",
    "X_train_food2 = X_train_food.apply(lambda x: gensim.utils.simple_preprocess(x))\n",
    "X_train_attract2 = X_train_attract.apply(lambda x: gensim.utils.simple_preprocess(x))\n",
    "\n",
    "# Validation\n",
    "X_val_accom2 = X_val_accom.apply(lambda x: gensim.utils.simple_preprocess(x))\n",
    "X_val_food2 = X_val_food.apply(lambda x: gensim.utils.simple_preprocess(x))\n",
    "X_val_attract2 = X_val_attract.apply(lambda x: gensim.utils.simple_preprocess(x))"
   ]
  },
  {
   "cell_type": "code",
   "execution_count": 69,
   "metadata": {},
   "outputs": [],
   "source": [
    "model_accom  = Word2Vec(X_train_accom2,size = 100, window = 10, min_count = 2, sample = 0.001)\n",
    "model_food = Word2Vec(X_train_food2, size = 100, window = 10, min_count = 2, sample = 0.001)\n",
    "model_attract = Word2Vec(X_train_attract2, size = 100, window = 10, min_count = 2, sample = 0.001)"
   ]
  },
  {
   "cell_type": "code",
   "execution_count": 60,
   "metadata": {},
   "outputs": [
    {
     "data": {
      "text/plain": [
       "[('return', 0.3306557536125183),\n",
       " ('lunch', 0.32079005241394043),\n",
       " ('problem', 0.30830395221710205),\n",
       " ('order', 0.2962275743484497),\n",
       " ('option', 0.29264575242996216),\n",
       " ('meat', 0.24101652204990387),\n",
       " ('sign', 0.22967529296875),\n",
       " ('centre', 0.22923731803894043),\n",
       " ('surroundings', 0.22715196013450623),\n",
       " ('check', 0.22552557289600372)]"
      ]
     },
     "execution_count": 60,
     "metadata": {},
     "output_type": "execute_result"
    }
   ],
   "source": [
    "model_food.wv.most_similar(positive = ['service'],topn = 10)"
   ]
  },
  {
   "cell_type": "code",
   "execution_count": 59,
   "metadata": {},
   "outputs": [
    {
     "data": {
      "text/plain": [
       "[('services', 0.8831208348274231),\n",
       " ('public', 0.6898015737533569),\n",
       " ('network', 0.6799495220184326),\n",
       " ('private', 0.6653395891189575),\n",
       " ('system', 0.663616955280304),\n",
       " ('business', 0.6610175371170044),\n",
       " ('provided', 0.6580187082290649),\n",
       " ('available', 0.6564439535140991),\n",
       " ('information', 0.65455162525177),\n",
       " ('access', 0.653258204460144)]"
      ]
     },
     "execution_count": 59,
     "metadata": {},
     "output_type": "execute_result"
    }
   ],
   "source": [
    "wik_embed.most_similar('service')"
   ]
  },
  {
   "cell_type": "markdown",
   "metadata": {},
   "source": [
    "Compared to the pre-trained vectors in Section 1, the most similar words to the sample word 'food' are quite different and more focussed on the theme of reviews."
   ]
  },
  {
   "cell_type": "code",
   "execution_count": 61,
   "metadata": {},
   "outputs": [
    {
     "name": "stdout",
     "output_type": "stream",
     "text": [
      "['food', 'staff', 'value', 'menu', 'location', 'choice', 'money', 'quality', 'table', 'ambience', 'price', 'visit', 'service', 'restaurant', 'meal', 'lunch', 'order', 'taste', 'selection', 'variety', 'dirty', 'friend', 'drink', 'place', 'pub', 'helpful', 'experience', 'range', 'view', 'coffee', 'ok', 'plenty', 'beer', 'flavour', 'portion', 'breakfast', 'superb', 'wine', 'member', 'atmosphere', 'good', 'bit', 'glass', 'river', 'area', 'party', 'option', 'time', 'decor', 'fab', 'dish', 'family', 'veg', 'lamb', 'town', 'return', 'group', 'attentive', 'people', 'tasty', 'meat', 'holiday', 'lot', 'complaint', 'lack', 'kid', 'dessert', 'problem', 'pleasant', 'rude', 'fair', 'empty', 'garden', 'plate', 'gluten', 'dinner', 'year', 'starter', 'cake', 'minute', 'fault', 'chip', 'number', 'cafe', 'chair', 'disappointment', 'harvester', 'book', 'christmas', 'shame', 'surprise', 'presentation', 'vegan', 'birthday', 'bread', 'side', 'home', 'delay', 'ingredient', 'occasion', 'countryside', 'very', 'ale', 'partner', 'toilet', 'opinion', 'work', 'lion', 'shortage', 'centre', 'gin', 'age', 'share', 'size', 'sweet', 'building', 'burger', 'eaten', 'window', 'beach', 'music', 'surroundings', 'course', 'tapa', 'carvery', 'pay', 'couple', 'look', 'wife', 'revisit', 'venue', 'morning', 'curry', 'sign', 'polite', 'trip', 'load', 'park', 'night', 'person', 'vegetarian', 'beef', 'point', 'riverside', 'room', 'hotel', 'establishment', 'waitress', 'wise', 'meet', 'queue', 'attention', 'detail', 'seafood', 'son', 'parson', 'cocktail', 'summer', 'suit', 'roast', 'bank', 'chef', 'suffer', 'sea', 'loo', 'appearance', 'architecture', 'defeater', 'steak', 'pie', 'evening', 'min', 'daughter', 'team', 'star', 'rest', 'dear', 'decoration', 'desert', 'blackcurrant', 'mousse', 'child', 'bottle', 'dog', 'country', 'tomato', 'opportunity', 'fire', 'clean', 'tuesday', 'waste', 'texture', 'check', 'yummy', 'end', 'walk', 'others', 'fun', 'water', 'awesome', 'delivery', 'dairy', 'plentiful', 'baby', 'manager', 'super', 'roundstone', 'warm', 'whilst', 'head', 'vibe', 'pastry', 'complain', 'average', 'sunday', 'saturday', 'veggie', 'cost', 'crap', 'credit', 'lunchtime', 'parent', 'pressure', 'hour', 'catch', 'doubt', 'turkey', 'wow', 'awful', 'village', 'customer', 'tasteless', 'confectionery', 'ability', 'comfy', 'accident', 'okay', 'spirit', 'standard', 'need', 'thing']"
     ]
    }
   ],
   "source": [
    "# List of most frequent words that appeared in the training data at least twice\n",
    "print(model_food.wv.index2word,end = \"\")"
   ]
  },
  {
   "cell_type": "code",
   "execution_count": 63,
   "metadata": {},
   "outputs": [
    {
     "data": {
      "image/png": "[encoded data removed]",
      "text/plain": [
       "<Figure size 1440x720 with 1 Axes>"
      ]
     },
     "metadata": {},
     "output_type": "display_data"
    }
   ],
   "source": [
    "# visualise a range of the most frequent words in 2 dimensions:\n",
    "words = ['food', 'staff', 'value', 'menu', 'location', 'choice', 'money', \n",
    "         'quality', 'table', 'ambience', 'price', 'visit', 'service', \n",
    "         'restaurant', 'meal', 'lunch', 'order', 'taste', 'selection', 'variety',\n",
    "        'dirty', 'friend', 'drink', 'place', 'pub', 'helpful', 'experience',\n",
    "         'range', 'view', 'coffee']\n",
    "        \n",
    "wvs = model_food.wv[words]\n",
    "\n",
    "tsne = TSNE(n_components=2, random_state=0, n_iter=5000, perplexity=2)\n",
    "np.set_printoptions(suppress=True)\n",
    "T = tsne.fit_transform(wvs)\n",
    "labels = words\n",
    "\n",
    "plt.figure(figsize=(20,10))\n",
    "plt.scatter(T[:, 0], T[:, 1], c='orange', edgecolors='r')\n",
    "for label, x, y in zip(labels, T[:, 0], T[:, 1]):\n",
    "    plt.annotate(label, xy=(x+1, y+1), xytext=(0, 0), textcoords='offset points')"
   ]
  },
  {
   "cell_type": "markdown",
   "metadata": {},
   "source": [
    "# Section 5: Create Sentence Level Vectors from the Word Vectors"
   ]
  },
  {
   "cell_type": "markdown",
   "metadata": {},
   "source": [
    "Need to average all the individual word vectors in a review to get just one vector representation for each review."
   ]
  },
  {
   "cell_type": "code",
   "execution_count": 64,
   "metadata": {},
   "outputs": [],
   "source": [
    "# function to average word vectors for all words in each review.\n",
    "# Code sourced from Dipanjan Sarkar \"Text Analytics with Python\" page 260\n",
    "\n",
    "def average_word_vectors(words,model,vocabulary,num_features):\n",
    "        feature_vector = np.zeros((num_features,),dtype = \"float64\")\n",
    "        nwords = 0\n",
    "    \n",
    "        for word in words:\n",
    "            if word in vocabulary:\n",
    "                nwords = nwords + 1.\n",
    "                feature_vector = np.add(feature_vector, model[word])\n",
    "        if nwords:\n",
    "            feature_vector = np.divide(feature_vector,nwords)\n",
    "        \n",
    "        return feature_vector\n",
    "\n",
    "def average_word_vectorizer(corpus,model,num_features):\n",
    "    vocabulary = set(model.wv.index2word)\n",
    "    features = corpus.apply(lambda x: average_word_vectors(x,model,vocabulary,num_features))\n",
    "    features = pd.DataFrame(features.tolist(), index= features.index)\n",
    "    return features"
   ]
  },
  {
   "cell_type": "code",
   "execution_count": 70,
   "metadata": {},
   "outputs": [
    {
     "name": "stderr",
     "output_type": "stream",
     "text": [
      "<ipython-input-64-ab28381b97c1>:18: DeprecationWarning: Call to deprecated `wv` (Attribute will be removed in 4.0.0, use self instead).\n",
      "  vocabulary = set(model.wv.index2word)\n"
     ]
    }
   ],
   "source": [
    "# Run the function to create averaged word vectors for the training and validation set\n",
    "fv_accom = (average_word_vectorizer(corpus = X_train_accom2,model = model_accom.wv, num_features = 100))\n",
    "fv_food = (average_word_vectorizer(corpus = X_train_food2,model = model_food.wv, num_features = 100))\n",
    "fv_attract = (average_word_vectorizer(corpus = X_train_attract2,model = model_attract.wv, num_features = 100))\n",
    "\n",
    "fv_accom_val = (average_word_vectorizer(corpus = X_val_accom2,model = model_accom.wv, num_features = 100))\n",
    "fv_food_val = (average_word_vectorizer(corpus = X_val_food2,model = model_food.wv, num_features = 100))\n",
    "fv_attract_val = (average_word_vectorizer(corpus = X_val_attract2,model = model_attract.wv, num_features = 100))"
   ]
  },
  {
   "cell_type": "markdown",
   "metadata": {},
   "source": [
    "# Section 6: ML Models using Averaged Word Vectors"
   ]
  },
  {
   "cell_type": "code",
   "execution_count": 73,
   "metadata": {},
   "outputs": [],
   "source": [
    "# Set models - note NB doesn't run as negative values in the dataset\n",
    "#nb = MultinomialNB()\n",
    "clf1 = LogisticRegression(random_state=0, class_weight = \"balanced\")\n",
    "clf2 = RandomForestClassifier(n_estimators=200, max_depth=3, random_state=0, class_weight = \"balanced\")\n",
    "clf3 = LinearSVC(class_weight = \"balanced\")"
   ]
  },
  {
   "cell_type": "code",
   "execution_count": 87,
   "metadata": {},
   "outputs": [],
   "source": [
    "# Stratified K Fold\n",
    "def strat(model, X_train,y_train,vector):\n",
    "    kfold = StratifiedKFold(n_splits=10, shuffle=True, random_state=1)\n",
    "    cv_results = cross_val_score(model, X_train,y_train, cv=kfold)\n",
    "    mean = cv_results.mean()\n",
    "    df = pd.DataFrame({vector:mean},index = [0])\n",
    "    return df"
   ]
  },
  {
   "cell_type": "code",
   "execution_count": 91,
   "metadata": {},
   "outputs": [],
   "source": [
    "ac1 = strat(clf1, fv_accom, y_train_accom_l,\"LR\")\n",
    "f1 = strat(clf1, fv_food, y_train_food_l,\"LR\")\n",
    "t1 = strat(clf1, fv_attract, y_train_attract_l,\"LR\")"
   ]
  },
  {
   "cell_type": "code",
   "execution_count": 92,
   "metadata": {},
   "outputs": [],
   "source": [
    "ac2 = strat(clf2, fv_accom, y_train_accom_l,\"RF\")\n",
    "f2 = strat(clf2, fv_food, y_train_food_l,\"RF\")\n",
    "t2 = strat(clf2, fv_attract, y_train_attract_l,\"RF\")"
   ]
  },
  {
   "cell_type": "code",
   "execution_count": 93,
   "metadata": {},
   "outputs": [],
   "source": [
    "ac3 = strat(clf3, fv_accom, y_train_accom_l,\"SVM\")\n",
    "f3 = strat(clf3, fv_food, y_train_food_l,\"SVM\")\n",
    "t3 = strat(clf3, fv_attract, y_train_attract_l,\"SVM\")"
   ]
  },
  {
   "cell_type": "code",
   "execution_count": 95,
   "metadata": {},
   "outputs": [
    {
     "data": {
      "text/html": [
       "<div>\n",
       "<style scoped>\n",
       "    .dataframe tbody tr th:only-of-type {\n",
       "        vertical-align: middle;\n",
       "    }\n",
       "\n",
       "    .dataframe tbody tr th {\n",
       "        vertical-align: top;\n",
       "    }\n",
       "\n",
       "    .dataframe thead th {\n",
       "        text-align: right;\n",
       "    }\n",
       "</style>\n",
       "<table border=\"1\" class=\"dataframe\">\n",
       "  <thead>\n",
       "    <tr style=\"text-align: right;\">\n",
       "      <th></th>\n",
       "      <th>LR</th>\n",
       "      <th>RF</th>\n",
       "      <th>SVM</th>\n",
       "    </tr>\n",
       "  </thead>\n",
       "  <tbody>\n",
       "    <tr>\n",
       "      <th>Accom</th>\n",
       "      <td>0.760119</td>\n",
       "      <td>0.695350</td>\n",
       "      <td>0.774767</td>\n",
       "    </tr>\n",
       "    <tr>\n",
       "      <th>Food</th>\n",
       "      <td>0.836310</td>\n",
       "      <td>0.831548</td>\n",
       "      <td>0.841667</td>\n",
       "    </tr>\n",
       "    <tr>\n",
       "      <th>Attract</th>\n",
       "      <td>0.597727</td>\n",
       "      <td>0.631818</td>\n",
       "      <td>0.601515</td>\n",
       "    </tr>\n",
       "  </tbody>\n",
       "</table>\n",
       "</div>"
      ],
      "text/plain": [
       "               LR        RF       SVM\n",
       "Accom    0.760119  0.695350  0.774767\n",
       "Food     0.836310  0.831548  0.841667\n",
       "Attract  0.597727  0.631818  0.601515"
      ]
     },
     "execution_count": 95,
     "metadata": {},
     "output_type": "execute_result"
    }
   ],
   "source": [
    "# Training accuracies all models\n",
    "models = [\"Accom\",\"Food\",\"Attract\"]\n",
    "a = pd.concat([ac1,ac2,ac3],axis = 1)\n",
    "b = pd.concat([f1,f2,f3],axis = 1)\n",
    "c = pd.concat([t1,t2,t3],axis = 1)\n",
    "all_models = pd.concat([a,b,c],axis = 0)\n",
    "all_models.set_index([models],inplace = True)\n",
    "all_models"
   ]
  },
  {
   "cell_type": "code",
   "execution_count": 96,
   "metadata": {},
   "outputs": [],
   "source": [
    "def prediction(model,X_train,y_train,X_val,y_val,labels):\n",
    "    model.fit(X_train,y_train)\n",
    "    y_pred = model.predict(X_val)\n",
    "    print(classification_report(y_val, y_pred))\n",
    "    conf_mat = confusion_matrix(y_val, y_pred)\n",
    "    fig, ax = plt.subplots(figsize=(10,8))\n",
    "    ax = sns.heatmap(conf_mat, annot=True, fmt='d',\n",
    "                     xticklabels=labels, yticklabels=labels)\n",
    "    ax.set_ylabel('Actual',labelpad = 10)\n",
    "    ax.set_xlabel('Predicted', labelpad = 13)\n",
    "    plt.show()"
   ]
  },
  {
   "cell_type": "code",
   "execution_count": 97,
   "metadata": {},
   "outputs": [],
   "source": [
    "labels_accom = [\"Entertainment\",\"Food\",\"Hotel\",\"Location\",\"Room\",\"Staff\",\"Value\"]\n",
    "labels_food = [\"Food Quality\",\"Meal Exp\",\"Menu Choice\",\"Staff\",\"Value\",\"Visit Exp\",\"\"]\n",
    "labels_attract= [\"Activities\",\"Amenities\",\"History\",\"Nature\",\"Staff/Service\",\"Value\",\"VisitGen\"]"
   ]
  },
  {
   "cell_type": "markdown",
   "metadata": {},
   "source": [
    "## Accommodation"
   ]
  },
  {
   "cell_type": "code",
   "execution_count": 98,
   "metadata": {},
   "outputs": [
    {
     "name": "stdout",
     "output_type": "stream",
     "text": [
      "              precision    recall  f1-score   support\n",
      "\n",
      "           0       0.60      0.63      0.62        70\n",
      "           1       0.88      0.70      0.78        70\n",
      "           2       0.87      0.94      0.90        70\n",
      "           3       0.79      0.95      0.87        44\n",
      "           4       0.67      0.54      0.60        70\n",
      "           5       0.81      0.83      0.82        70\n",
      "           6       0.77      0.88      0.82        50\n",
      "\n",
      "    accuracy                           0.77       444\n",
      "   macro avg       0.77      0.78      0.77       444\n",
      "weighted avg       0.77      0.77      0.76       444\n",
      "\n"
     ]
    },
    {
     "data": {
      "image/png": "[encoded data removed]",
      "text/plain": [
       "<Figure size 720x576 with 2 Axes>"
      ]
     },
     "metadata": {},
     "output_type": "display_data"
    }
   ],
   "source": [
    "prediction(clf3,fv_accom,y_train_accom_l,fv_accom_val,y_val_accom_l,labels_accom)"
   ]
  },
  {
   "cell_type": "markdown",
   "metadata": {},
   "source": [
    "## Food"
   ]
  },
  {
   "cell_type": "code",
   "execution_count": 99,
   "metadata": {},
   "outputs": [
    {
     "name": "stdout",
     "output_type": "stream",
     "text": [
      "              precision    recall  f1-score   support\n",
      "\n",
      "           0       0.76      0.89      0.82        70\n",
      "           1       0.78      0.81      0.80        70\n",
      "           2       0.96      0.76      0.85        70\n",
      "           3       0.97      1.00      0.99        70\n",
      "           4       0.85      0.96      0.90        70\n",
      "           5       0.80      0.67      0.73        70\n",
      "\n",
      "    accuracy                           0.85       420\n",
      "   macro avg       0.85      0.85      0.85       420\n",
      "weighted avg       0.85      0.85      0.85       420\n",
      "\n"
     ]
    },
    {
     "data": {
      "image/png": "[encoded data removed]",
      "text/plain": [
       "<Figure size 720x576 with 2 Axes>"
      ]
     },
     "metadata": {},
     "output_type": "display_data"
    }
   ],
   "source": [
    "prediction(clf3,fv_food,y_train_food_l,fv_food_val,y_val_food_l,labels_food)"
   ]
  },
  {
   "cell_type": "markdown",
   "metadata": {},
   "source": [
    "## Attractions"
   ]
  },
  {
   "cell_type": "code",
   "execution_count": 100,
   "metadata": {},
   "outputs": [
    {
     "name": "stdout",
     "output_type": "stream",
     "text": [
      "              precision    recall  f1-score   support\n",
      "\n",
      "           0       0.56      0.72      0.63        60\n",
      "           1       0.39      0.63      0.48        60\n",
      "           2       1.00      0.23      0.38        30\n",
      "           3       0.54      0.68      0.60        60\n",
      "           4       0.80      0.40      0.53        40\n",
      "           5       0.83      0.67      0.74        30\n",
      "           6       0.76      0.44      0.56        50\n",
      "\n",
      "    accuracy                           0.57       330\n",
      "   macro avg       0.70      0.54      0.56       330\n",
      "weighted avg       0.65      0.57      0.56       330\n",
      "\n"
     ]
    },
    {
     "data": {
      "image/png": "[encoded data removed]",
      "text/plain": [
       "<Figure size 720x576 with 2 Axes>"
      ]
     },
     "metadata": {},
     "output_type": "display_data"
    }
   ],
   "source": [
    "prediction(clf3,fv_attract,y_train_attract_l,fv_attract_val,y_val_attract_l,labels_attract)"
   ]
  },
  {
   "cell_type": "markdown",
   "metadata": {},
   "source": [
    "Analysis:\n",
    "* The results are pretty poor using average word vectors trained on the corpus"
   ]
  },
  {
   "cell_type": "markdown",
   "metadata": {},
   "source": [
    "# Section 7: Problems with Word Embeddings with Word2Vec"
   ]
  },
  {
   "cell_type": "markdown",
   "metadata": {},
   "source": [
    "Word2Vec returns a vector for each word and as such to get a vector for each document you can average the vectors for each word for each document which can provide vectors that are not very accurate and information is lost. Instead you can use Doc2Vec which returns a vector for each document and is more useful for the purposes of this dataset. This is much simpler and can be used directly in either machine learning or neural network models."
   ]
  },
  {
   "cell_type": "markdown",
   "metadata": {},
   "source": [
    "*Depending on the task you want to perform, you may simply average word embeddings of all words in the paragraph. (If doing so, you should normalize the word vectors first, so that they all have a norm equal to one.)*\n",
    "\n",
    "*According to Kenter et al. 2016, this approach \"has proven to be a strong baseline or feature across a multitude of tasks\", such as short text similarity tasks.*\n",
    "\n",
    "*However, according to Le and Mikolov, this method performs poorly for sentiment analysis tasks and/or long texts, because it \"loses the word order in the same way as the standard bag-of-words models do\" and \"fail[s] to recognize many sophisticated linguistic phenomena, for instance sarcasm\".*"
   ]
  },
  {
   "cell_type": "markdown",
   "metadata": {},
   "source": [
    "# Section 8: Using Doc2Vec on review corpus"
   ]
  },
  {
   "cell_type": "code",
   "execution_count": 117,
   "metadata": {},
   "outputs": [],
   "source": [
    "#Create tagged document objects. Useful for groups of documents for clustering. Return index and value for each review in \n",
    "# X_train.Source Code - Derek Jedamski 'Advanced NLP with Python' (03-03)\n",
    "\n",
    "def tag(X_train,X_val):\n",
    "    tagged_docs_train = [gensim.models.doc2vec.TaggedDocument(v, [i])\n",
    "                     for i, v in enumerate(X_train)]\n",
    "    tagged_docs_test = [gensim.models.doc2vec.TaggedDocument(v, [i])\n",
    "                    for i, v in enumerate(X_val)]\n",
    "    \n",
    "    return tagged_docs_train, tagged_docs_test"
   ]
  },
  {
   "cell_type": "code",
   "execution_count": 119,
   "metadata": {},
   "outputs": [
    {
     "data": {
      "text/plain": [
       "[TaggedDocument(words='window bedroom gap top', tags=[0]),\n",
       " TaggedDocument(words='restaurant food breakfast', tags=[1])]"
      ]
     },
     "execution_count": 119,
     "metadata": {},
     "output_type": "execute_result"
    }
   ],
   "source": [
    "tagged_docs_accom[0:2]"
   ]
  },
  {
   "cell_type": "code",
   "execution_count": 122,
   "metadata": {},
   "outputs": [],
   "source": [
    "# Run function\n",
    "tagged_docs_accom,tagged_docs_accom_val = tag(X_train_accom, X_val_accom)\n",
    "tagged_docs_food,tagged_docs_food_val = tag(X_train_food, X_val_food)\n",
    "tagged_docs_attract,tagged_docs_attract_val = tag(X_train_attract, X_val_attract)"
   ]
  },
  {
   "cell_type": "code",
   "execution_count": 121,
   "metadata": {},
   "outputs": [
    {
     "data": {
      "text/plain": [
       "[TaggedDocument(words='window bedroom gap top', tags=[0]),\n",
       " TaggedDocument(words='restaurant food breakfast', tags=[1])]"
      ]
     },
     "execution_count": 121,
     "metadata": {},
     "output_type": "execute_result"
    }
   ],
   "source": [
    "# Look at two examples of the tagged documents with list of words in the review followed by a tag\n",
    "tagged_docs_accom[0:2]"
   ]
  },
  {
   "cell_type": "code",
   "execution_count": 123,
   "metadata": {},
   "outputs": [],
   "source": [
    "# Train doc2vec model with vector of 100, window of 5 words and words that appear at least twice\n",
    "d2v_model = gensim.models.Doc2Vec(tagged_docs_train,\n",
    "                                  vector_size=100,\n",
    "                                  window=5,\n",
    "                                  min_count=2)"
   ]
  },
  {
   "cell_type": "code",
   "execution_count": 124,
   "metadata": {},
   "outputs": [],
   "source": [
    "# Prepare vectors for the training and test sets - stored as a list\n",
    "tv_accom = [d2v_model.infer_vector(words) for words in X_train_accom2]\n",
    "tv_accom_val = [d2v_model.infer_vector(words) for words in X_val_accom2]\n",
    "\n",
    "tv_food = [d2v_model.infer_vector(words) for words in X_train_food2]\n",
    "tv_food_val = [d2v_model.infer_vector(words) for words in X_val_food2]\n",
    "\n",
    "tv_attract = [d2v_model.infer_vector(words) for words in X_train_attract2]\n",
    "tv_attract_val = [d2v_model.infer_vector(words) for words in X_val_attract2]"
   ]
  },
  {
   "cell_type": "code",
   "execution_count": 125,
   "metadata": {},
   "outputs": [
    {
     "data": {
      "text/plain": [
       "array([-0.00216875,  0.00112238, -0.00264697,  0.00101317, -0.00182303,\n",
       "       -0.00131618, -0.00495746,  0.00174435, -0.00033027,  0.00472722,\n",
       "       -0.00441433, -0.00267177, -0.00468444, -0.00182579,  0.00488186,\n",
       "       -0.00111305, -0.00484717, -0.00353052, -0.00252325,  0.00417315,\n",
       "        0.00239303,  0.00136611,  0.00243315,  0.00460304,  0.00219655,\n",
       "       -0.00467453,  0.00413925,  0.00025734, -0.00071626,  0.00161565,\n",
       "        0.00429165,  0.00055879, -0.0042999 ,  0.00443917, -0.00224085,\n",
       "        0.00249793, -0.00018819,  0.00465028,  0.00488656,  0.00031083,\n",
       "       -0.00026273,  0.00154261, -0.00250906,  0.00469795,  0.00441918,\n",
       "        0.00091349,  0.00162073,  0.00001463, -0.00391601, -0.00481869,\n",
       "        0.00230806, -0.00010267, -0.00331535, -0.00405943, -0.00005788,\n",
       "        0.00285475, -0.00423071, -0.00231804,  0.00227981,  0.00489594,\n",
       "        0.00404778,  0.00379962,  0.00066241, -0.00226881,  0.00262704,\n",
       "       -0.00352189,  0.00128872,  0.00287889,  0.00352753, -0.00149141,\n",
       "        0.00087117,  0.00091105,  0.00292379, -0.00119881,  0.00226983,\n",
       "       -0.00068108, -0.00403963,  0.00441263,  0.00472489, -0.00305169,\n",
       "        0.00341007, -0.00145972, -0.00236595,  0.00438445,  0.00276339,\n",
       "        0.00069939, -0.00170566,  0.00114439, -0.00030736,  0.00118081,\n",
       "       -0.00023861, -0.00111485,  0.00272008, -0.00042622, -0.00023634,\n",
       "       -0.00141324,  0.00121617, -0.0040489 ,  0.00290732,  0.00319839],\n",
       "      dtype=float32)"
      ]
     },
     "execution_count": 125,
     "metadata": {},
     "output_type": "execute_result"
    }
   ],
   "source": [
    "# Example vector\n",
    "tv_food[1]"
   ]
  },
  {
   "cell_type": "markdown",
   "metadata": {},
   "source": [
    "# Section 9: Run Doc2Vec Models Through ML Models"
   ]
  },
  {
   "cell_type": "code",
   "execution_count": 126,
   "metadata": {},
   "outputs": [],
   "source": [
    "dac1 = strat(clf1, tv_accom, y_train_accom_l,\"LR\")\n",
    "df1 = strat(clf1, tv_food, y_train_food_l,\"LR\")\n",
    "dt1 = strat(clf1, tv_attract, y_train_attract_l,\"LR\")"
   ]
  },
  {
   "cell_type": "code",
   "execution_count": 127,
   "metadata": {},
   "outputs": [],
   "source": [
    "dac2 = strat(clf2, tv_accom, y_train_accom_l,\"RF\")\n",
    "df2 = strat(clf2, tv_food, y_train_food_l,\"RF\")\n",
    "dt2 = strat(clf2, tv_attract, y_train_attract_l,\"RF\")"
   ]
  },
  {
   "cell_type": "code",
   "execution_count": 128,
   "metadata": {},
   "outputs": [],
   "source": [
    "dac3 = strat(clf3, tv_accom, y_train_accom_l,\"SVM\")\n",
    "df3 = strat(clf3, tv_food, y_train_food_l,\"SVM\")\n",
    "dt3 = strat(clf3, tv_attract, y_train_attract_l,\"SVM\")"
   ]
  },
  {
   "cell_type": "code",
   "execution_count": 130,
   "metadata": {},
   "outputs": [
    {
     "data": {
      "text/html": [
       "<div>\n",
       "<style scoped>\n",
       "    .dataframe tbody tr th:only-of-type {\n",
       "        vertical-align: middle;\n",
       "    }\n",
       "\n",
       "    .dataframe tbody tr th {\n",
       "        vertical-align: top;\n",
       "    }\n",
       "\n",
       "    .dataframe thead th {\n",
       "        text-align: right;\n",
       "    }\n",
       "</style>\n",
       "<table border=\"1\" class=\"dataframe\">\n",
       "  <thead>\n",
       "    <tr style=\"text-align: right;\">\n",
       "      <th></th>\n",
       "      <th>LR</th>\n",
       "      <th>RF</th>\n",
       "      <th>SVM</th>\n",
       "    </tr>\n",
       "  </thead>\n",
       "  <tbody>\n",
       "    <tr>\n",
       "      <th>Accom</th>\n",
       "      <td>0.394144</td>\n",
       "      <td>0.447712</td>\n",
       "      <td>0.415546</td>\n",
       "    </tr>\n",
       "    <tr>\n",
       "      <th>Food</th>\n",
       "      <td>0.510714</td>\n",
       "      <td>0.530357</td>\n",
       "      <td>0.511905</td>\n",
       "    </tr>\n",
       "    <tr>\n",
       "      <th>Attract</th>\n",
       "      <td>0.397727</td>\n",
       "      <td>0.446970</td>\n",
       "      <td>0.425758</td>\n",
       "    </tr>\n",
       "  </tbody>\n",
       "</table>\n",
       "</div>"
      ],
      "text/plain": [
       "               LR        RF       SVM\n",
       "Accom    0.394144  0.447712  0.415546\n",
       "Food     0.510714  0.530357  0.511905\n",
       "Attract  0.397727  0.446970  0.425758"
      ]
     },
     "execution_count": 130,
     "metadata": {},
     "output_type": "execute_result"
    }
   ],
   "source": [
    "# Training accuracies all models\n",
    "models = [\"Accom\",\"Food\",\"Attract\"]\n",
    "da = pd.concat([dac1,dac2,dac3],axis = 1)\n",
    "db = pd.concat([df1,df2,df3],axis = 1)\n",
    "dc = pd.concat([dt1,dt2,dt3],axis = 1)\n",
    "all_modelsd = pd.concat([da,db,dc],axis = 0)\n",
    "all_modelsd.set_index([models],inplace = True)\n",
    "all_modelsd"
   ]
  },
  {
   "cell_type": "markdown",
   "metadata": {},
   "source": [
    "The best model using document level vectors is SVM as before. The results are much worse than the previous models using an average sentence level vector. This might be because we are working with nouns and not real sentences. "
   ]
  },
  {
   "cell_type": "code",
   "execution_count": 131,
   "metadata": {},
   "outputs": [
    {
     "name": "stdout",
     "output_type": "stream",
     "text": [
      "              precision    recall  f1-score   support\n",
      "\n",
      "           0       0.37      0.23      0.28        70\n",
      "           1       0.41      0.39      0.40        70\n",
      "           2       0.49      0.61      0.54        70\n",
      "           3       0.76      0.50      0.60        44\n",
      "           4       0.33      0.27      0.30        70\n",
      "           5       0.40      0.61      0.48        70\n",
      "           6       0.56      0.58      0.57        50\n",
      "\n",
      "    accuracy                           0.45       444\n",
      "   macro avg       0.47      0.46      0.45       444\n",
      "weighted avg       0.45      0.45      0.44       444\n",
      "\n"
     ]
    },
    {
     "data": {
      "image/png": "[encoded data removed]",
      "text/plain": [
       "<Figure size 720x576 with 2 Axes>"
      ]
     },
     "metadata": {},
     "output_type": "display_data"
    }
   ],
   "source": [
    "prediction(clf3,tv_accom,y_train_accom_l,tv_accom_val,y_val_accom_l,labels_accom)"
   ]
  },
  {
   "cell_type": "code",
   "execution_count": 132,
   "metadata": {},
   "outputs": [
    {
     "name": "stdout",
     "output_type": "stream",
     "text": [
      "              precision    recall  f1-score   support\n",
      "\n",
      "           0       0.37      0.23      0.28        70\n",
      "           1       0.41      0.39      0.40        70\n",
      "           2       0.49      0.61      0.54        70\n",
      "           3       0.76      0.50      0.60        44\n",
      "           4       0.33      0.27      0.30        70\n",
      "           5       0.40      0.61      0.48        70\n",
      "           6       0.56      0.58      0.57        50\n",
      "\n",
      "    accuracy                           0.45       444\n",
      "   macro avg       0.47      0.46      0.45       444\n",
      "weighted avg       0.45      0.45      0.44       444\n",
      "\n"
     ]
    },
    {
     "data": {
      "image/png": "[encoded data removed]",
      "text/plain": [
       "<Figure size 720x576 with 2 Axes>"
      ]
     },
     "metadata": {},
     "output_type": "display_data"
    }
   ],
   "source": [
    "prediction(clf3,tv_accom,y_train_accom_l,tv_accom_val,y_val_accom_l,labels_accom)"
   ]
  },
  {
   "cell_type": "code",
   "execution_count": 133,
   "metadata": {},
   "outputs": [
    {
     "name": "stdout",
     "output_type": "stream",
     "text": [
      "              precision    recall  f1-score   support\n",
      "\n",
      "           0       0.37      0.23      0.28        70\n",
      "           1       0.41      0.39      0.40        70\n",
      "           2       0.49      0.61      0.54        70\n",
      "           3       0.76      0.50      0.60        44\n",
      "           4       0.33      0.27      0.30        70\n",
      "           5       0.40      0.61      0.48        70\n",
      "           6       0.56      0.58      0.57        50\n",
      "\n",
      "    accuracy                           0.45       444\n",
      "   macro avg       0.47      0.46      0.45       444\n",
      "weighted avg       0.45      0.45      0.44       444\n",
      "\n"
     ]
    },
    {
     "data": {
      "image/png": "[encoded data removed]",
      "text/plain": [
       "<Figure size 720x576 with 2 Axes>"
      ]
     },
     "metadata": {},
     "output_type": "display_data"
    }
   ],
   "source": [
    "prediction(clf3,tv_accom,y_train_accom_l,tv_accom_val,y_val_accom_l,labels_accom)"
   ]
  }
 ],
 "metadata": {
  "kernelspec": {
   "display_name": "Python 3",
   "language": "python",
   "name": "python3"
  },
  "language_info": {
   "codemirror_mode": {
    "name": "ipython",
    "version": 3
   },
   "file_extension": ".py",
   "mimetype": "text/x-python",
   "name": "python",
   "nbconvert_exporter": "python",
   "pygments_lexer": "ipython3",
   "version": "3.8.8"
  }
 },
 "nbformat": 4,
 "nbformat_minor": 4
}
