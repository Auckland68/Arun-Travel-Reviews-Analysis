{
 "cells": [
  {
   "cell_type": "markdown",
   "id": "e6299ff3",
   "metadata": {},
   "source": [
    "# Notebook 13 b) Aspect Prediction with Neural Network Models"
   ]
  },
  {
   "cell_type": "markdown",
   "id": "7702dc2e",
   "metadata": {},
   "source": [
    "This notebook investigates predictive models for the aspects part of the review data based on the extracted nouns. The output is therefore multiclass.\n",
    "\n",
    "* Section 1 - Import libraries and dataset\n",
    "* Section 2 - Data cleaning\n",
    "* Section 3 - Data preprocessing\n",
    "* Section 4 - Building an aspect classifier (accommodation)\n",
    "* Section 5 - Building an aspect classifier (food)\n",
    "* Section 6 - Building an aspect classifier (Attractions)\n",
    "* Section 7 - Data augmentation methods (attractions)\n",
    "* Section 8 - Data augmentation (accommodation and food)\n",
    "\n",
    "Dataset needed to run this notebook:\n",
    "\n",
    "* combinedaspectcheck.xlsx"
   ]
  },
  {
   "cell_type": "markdown",
   "id": "fbb5057b",
   "metadata": {},
   "source": [
    "# Section 1: Import libraries and dataset"
   ]
  },
  {
   "cell_type": "code",
   "execution_count": 130,
   "id": "62125b2e",
   "metadata": {},
   "outputs": [],
   "source": [
    "import pandas as pd\n",
    "import numpy as np\n",
    "\n",
    "from sklearn import preprocessing\n",
    "from sklearn.model_selection import StratifiedKFold\n",
    "import keras\n",
    "from keras.wrappers.scikit_learn import KerasClassifier\n",
    "from keras.models import Sequential\n",
    "from keras.layers import Dense,Flatten,Embedding,Dropout\n",
    "from keras.preprocessing.text import Tokenizer\n",
    "from keras.preprocessing.sequence import pad_sequences\n",
    "from keras.callbacks import EarlyStopping,ModelCheckpoint\n",
    "from keras.utils import to_categorical\n",
    "from keras.models import load_model\n",
    "from matplotlib import pyplot as plt\n",
    "import seaborn as sns\n",
    "sns.set()\n",
    "import imblearn\n",
    "from imblearn.over_sampling import SMOTE\n",
    "from sklearn.preprocessing import LabelBinarizer\n",
    "from imblearn.over_sampling import SMOTE\n",
    "import os\n",
    "import pickle\n",
    "import nltk\n",
    "from nltk.corpus import stopwords\n",
    "from sklearn.model_selection import train_test_split, cross_val_score\n",
    "from sklearn.metrics import accuracy_score,roc_auc_score,precision_score,recall_score,f1_score,confusion_matrix,classification_report\n",
    "from sklearn.utils import class_weight\n",
    "import pickle\n",
    "\n",
    "import warnings\n",
    "warnings.filterwarnings('ignore')"
   ]
  },
  {
   "cell_type": "code",
   "execution_count": 131,
   "id": "b01f8796",
   "metadata": {},
   "outputs": [],
   "source": [
    "# Bring in manually annotated accommodation data from spreadsheet file\n",
    "df_accom = pd.read_excel(\"combinedaspectcheck.xlsx\",sheet_name = \"CLEANEDACCOM\",engine = \"openpyxl\")\n",
    "df_food = pd.read_excel(\"combinedaspectcheck.xlsx\",sheet_name = \"CLEANEDFOOD\", engine = \"openpyxl\")\n",
    "df_attract = pd.read_excel(\"combinedaspectcheck.xlsx\", sheet_name = \"CLEANEDATTRACT\", engine = \"openpyxl\")"
   ]
  },
  {
   "cell_type": "code",
   "execution_count": 132,
   "id": "8ec88f75",
   "metadata": {},
   "outputs": [],
   "source": [
    "df_accom.drop([\"Category\"],axis = 1, inplace = True)\n",
    "df_food.drop([\"Category\"],axis = 1,inplace = True)\n",
    "df_attract.drop([\"Category\"],axis = 1,inplace = True)"
   ]
  },
  {
   "cell_type": "markdown",
   "id": "65bc9952",
   "metadata": {},
   "source": [
    "# Section 2: Data Cleaning"
   ]
  },
  {
   "cell_type": "markdown",
   "id": "bd8e9111",
   "metadata": {},
   "source": [
    "## Accommodation"
   ]
  },
  {
   "cell_type": "code",
   "execution_count": 133,
   "id": "f98c170c",
   "metadata": {},
   "outputs": [
    {
     "name": "stdout",
     "output_type": "stream",
     "text": [
      "<class 'pandas.core.frame.DataFrame'>\n",
      "RangeIndex: 2220 entries, 0 to 2219\n",
      "Data columns (total 6 columns):\n",
      " #   Column        Non-Null Count  Dtype  \n",
      "---  ------        --------------  -----  \n",
      " 0   OrigInd       2220 non-null   int64  \n",
      " 1   Cleaned       2220 non-null   object \n",
      " 2   Noun Phrases  2220 non-null   object \n",
      " 3   Nouns         2220 non-null   object \n",
      " 4   Aspect        2220 non-null   object \n",
      " 5   Sentiment     2220 non-null   float64\n",
      "dtypes: float64(1), int64(1), object(4)\n",
      "memory usage: 104.2+ KB\n"
     ]
    }
   ],
   "source": [
    "df_accom.info()"
   ]
  },
  {
   "cell_type": "code",
   "execution_count": 134,
   "id": "156b026d",
   "metadata": {},
   "outputs": [
    {
     "data": {
      "text/plain": [
       "Staff            350\n",
       "Room             350\n",
       "Food             350\n",
       "Hotel            349\n",
       "Entertainment    348\n",
       "Value            250\n",
       "Location         215\n",
       "location           5\n",
       "entertainment      2\n",
       "hotel              1\n",
       "Name: Aspect, dtype: int64"
      ]
     },
     "execution_count": 134,
     "metadata": {},
     "output_type": "execute_result"
    }
   ],
   "source": [
    "# Aspect value counts\n",
    "df_accom[\"Aspect\"].value_counts()"
   ]
  },
  {
   "cell_type": "code",
   "execution_count": 135,
   "id": "ee393ba4",
   "metadata": {},
   "outputs": [],
   "source": [
    "# Set to title case as some categories are multiples\n",
    "df_accom[\"Aspect\"] = df_accom[\"Aspect\"].apply(lambda x: x.title())"
   ]
  },
  {
   "cell_type": "code",
   "execution_count": 136,
   "id": "64dcb337",
   "metadata": {},
   "outputs": [
    {
     "data": {
      "text/plain": [
       "Staff            350\n",
       "Room             350\n",
       "Entertainment    350\n",
       "Hotel            350\n",
       "Food             350\n",
       "Value            250\n",
       "Location         220\n",
       "Name: Aspect, dtype: int64"
      ]
     },
     "execution_count": 136,
     "metadata": {},
     "output_type": "execute_result"
    }
   ],
   "source": [
    "df_accom[\"Aspect\"].value_counts()"
   ]
  },
  {
   "cell_type": "markdown",
   "id": "1b94d8e4",
   "metadata": {},
   "source": [
    "Mostly balanced categories, the two smaller categories represent those where all datapoints were used but there were just fewer overall."
   ]
  },
  {
   "cell_type": "markdown",
   "id": "a81841ad",
   "metadata": {},
   "source": [
    "## Food"
   ]
  },
  {
   "cell_type": "code",
   "execution_count": 137,
   "id": "e5d10b69",
   "metadata": {},
   "outputs": [
    {
     "name": "stdout",
     "output_type": "stream",
     "text": [
      "<class 'pandas.core.frame.DataFrame'>\n",
      "RangeIndex: 2100 entries, 0 to 2099\n",
      "Data columns (total 8 columns):\n",
      " #   Column        Non-Null Count  Dtype  \n",
      "---  ------        --------------  -----  \n",
      " 0   OrigInd       2100 non-null   int64  \n",
      " 1   Cleaned       2100 non-null   object \n",
      " 2   Noun Phrases  2100 non-null   object \n",
      " 3   Nouns         2100 non-null   object \n",
      " 4   Sentiment     2100 non-null   float64\n",
      " 5   Aspect        2100 non-null   object \n",
      " 6   Orig Aspect   2100 non-null   object \n",
      " 7   Column1       0 non-null      float64\n",
      "dtypes: float64(2), int64(1), object(5)\n",
      "memory usage: 131.4+ KB\n"
     ]
    }
   ],
   "source": [
    "df_food.info()"
   ]
  },
  {
   "cell_type": "code",
   "execution_count": 138,
   "id": "9e96caba",
   "metadata": {},
   "outputs": [
    {
     "data": {
      "text/plain": [
       "Meal Exp         350\n",
       "Value            350\n",
       "Food Quality     350\n",
       "Staff&Service    350\n",
       "Menu Choice      350\n",
       "Visit Exp        350\n",
       "Name: Aspect, dtype: int64"
      ]
     },
     "execution_count": 138,
     "metadata": {},
     "output_type": "execute_result"
    }
   ],
   "source": [
    "# Aspect value counts\n",
    "df_food[\"Aspect\"].value_counts()"
   ]
  },
  {
   "cell_type": "markdown",
   "id": "675f4fb7",
   "metadata": {},
   "source": [
    "Balanced aspect categories"
   ]
  },
  {
   "cell_type": "markdown",
   "id": "bb96c570",
   "metadata": {},
   "source": [
    "## Attractions"
   ]
  },
  {
   "cell_type": "code",
   "execution_count": 139,
   "id": "29737f67",
   "metadata": {},
   "outputs": [
    {
     "name": "stdout",
     "output_type": "stream",
     "text": [
      "<class 'pandas.core.frame.DataFrame'>\n",
      "RangeIndex: 1650 entries, 0 to 1649\n",
      "Data columns (total 7 columns):\n",
      " #   Column        Non-Null Count  Dtype  \n",
      "---  ------        --------------  -----  \n",
      " 0   OrigInd       1650 non-null   int64  \n",
      " 1   Cleaned       1650 non-null   object \n",
      " 2   Noun Phrases  1650 non-null   object \n",
      " 3   Nouns         1650 non-null   object \n",
      " 4   Sentiment     1650 non-null   float64\n",
      " 5   Aspect        1650 non-null   object \n",
      " 6   OrigAspect    1648 non-null   object \n",
      "dtypes: float64(1), int64(1), object(5)\n",
      "memory usage: 90.4+ KB\n"
     ]
    }
   ],
   "source": [
    "df_attract.info()"
   ]
  },
  {
   "cell_type": "code",
   "execution_count": 140,
   "id": "d66e33d2",
   "metadata": {},
   "outputs": [
    {
     "data": {
      "text/plain": [
       "Amenities        300\n",
       "Activities       300\n",
       "Nature           300\n",
       "VisitExp&Gen     250\n",
       "Staff&Service    200\n",
       "Value            150\n",
       "History          150\n",
       "Name: Aspect, dtype: int64"
      ]
     },
     "execution_count": 140,
     "metadata": {},
     "output_type": "execute_result"
    }
   ],
   "source": [
    "# Aspect value counts\n",
    "df_attract[\"Aspect\"].value_counts()"
   ]
  },
  {
   "cell_type": "markdown",
   "id": "bed9f003",
   "metadata": {},
   "source": [
    "Unbalanced aspect categories due to not many datapoints available in the original dataset for some of the categories"
   ]
  },
  {
   "cell_type": "markdown",
   "id": "16e8e7e6",
   "metadata": {},
   "source": [
    "# Section 3: Data preprocessing"
   ]
  },
  {
   "cell_type": "markdown",
   "id": "467f0eb3",
   "metadata": {},
   "source": [
    "## Define X and y"
   ]
  },
  {
   "cell_type": "code",
   "execution_count": 141,
   "id": "fd564535",
   "metadata": {},
   "outputs": [],
   "source": [
    "# Function to split the data between X and y\n",
    "\n",
    "def XY(df):\n",
    "    X = df[\"Nouns\"]\n",
    "    y = df[\"Aspect\"]\n",
    "\n",
    "    return X,y"
   ]
  },
  {
   "cell_type": "code",
   "execution_count": 142,
   "id": "67a8b57d",
   "metadata": {},
   "outputs": [
    {
     "name": "stdout",
     "output_type": "stream",
     "text": [
      "(2220,) (2220,)\n",
      "(2100,) (2100,)\n",
      "(1650,) (1650,)\n"
     ]
    }
   ],
   "source": [
    "# Apply function and print shape\n",
    "X_accom,y_accom = XY(df_accom)\n",
    "X_food,y_food = XY(df_food)\n",
    "X_attract,y_attract = XY(df_attract)\n",
    "\n",
    "print(X_accom.shape,y_accom.shape)\n",
    "print(X_food.shape,y_food.shape)\n",
    "print(X_attract.shape,y_attract.shape)\n"
   ]
  },
  {
   "cell_type": "markdown",
   "id": "c4d36ff1",
   "metadata": {},
   "source": [
    "## Train test split"
   ]
  },
  {
   "cell_type": "code",
   "execution_count": 143,
   "id": "bb6d3594",
   "metadata": {},
   "outputs": [],
   "source": [
    "# Train, validation, test split\n",
    "def train_test(X,y):\n",
    "    X_train, X_test, y_train, y_test = train_test_split(X,y, stratify = y,test_size=0.20, shuffle = True, random_state = 1)\n",
    "    X_test, X_val, y_test, y_val = train_test_split(X_test, y_test, stratify = y_test,test_size=0.50, shuffle = True, random_state = 1)\n",
    "    return X_train,X_val, X_test, y_train,y_val,y_test"
   ]
  },
  {
   "cell_type": "code",
   "execution_count": 197,
   "id": "f664fe6f",
   "metadata": {},
   "outputs": [],
   "source": [
    "# Run function for each category\n",
    "X_train_accom,X_val_accom,X_test_accom,y_train_accom,y_val_accom,y_test_accom = train_test(X_accom,y_accom)\n",
    "X_train_food,X_val_food,X_test_food,y_train_food,y_val_food,y_test_food = train_test(X_food,y_food)\n",
    "X_train_attract,X_val_attract,X_test_attract,y_train_attract,y_val_attract,y_test_attract = train_test(X_attract,y_attract)"
   ]
  },
  {
   "cell_type": "code",
   "execution_count": 145,
   "id": "c6d60fbb",
   "metadata": {},
   "outputs": [
    {
     "name": "stdout",
     "output_type": "stream",
     "text": [
      "(1776,) (222,) (222,) (1776,) (222,) (222,)\n",
      "(1680,) (210,) (210,) (1680,) (210,) (210,)\n",
      "(1320,) (165,) (165,) (1320,) (165,) (165,)\n"
     ]
    }
   ],
   "source": [
    "# Shape of training, validation and test sets for each category\n",
    "print(X_train_accom.shape, X_val_accom.shape,X_test_accom.shape, y_train_accom.shape, y_val_accom.shape, y_test_accom.shape)\n",
    "print(X_train_food.shape, X_val_food.shape,X_test_food.shape, y_train_food.shape, y_val_food.shape, y_test_food.shape)\n",
    "print(X_train_attract.shape, X_val_attract.shape,X_test_attract.shape, y_train_attract.shape, y_val_attract.shape, y_test_attract.shape)"
   ]
  },
  {
   "cell_type": "code",
   "execution_count": 146,
   "id": "9e1f34d7",
   "metadata": {},
   "outputs": [
    {
     "name": "stdout",
     "output_type": "stream",
     "text": [
      "10\n",
      "9\n",
      "9\n"
     ]
    }
   ],
   "source": [
    "# Get maximum number of nouns to use in the 'maxlen' arguement\n",
    "print(pd.DataFrame(X_train_accom)[\"Nouns\"].str.split().apply(len).max())\n",
    "print(pd.DataFrame(X_train_food)[\"Nouns\"].str.split().apply(len).max())\n",
    "print(pd.DataFrame(X_train_attract)[\"Nouns\"].str.split().apply(len).max())"
   ]
  },
  {
   "cell_type": "markdown",
   "id": "2850f8ad",
   "metadata": {},
   "source": [
    "## Encode y and X"
   ]
  },
  {
   "cell_type": "code",
   "execution_count": 147,
   "id": "3f6e582c",
   "metadata": {},
   "outputs": [],
   "source": [
    "# Function to encode y values as one-hot encoded for hold-out model\n",
    "\n",
    "def bin(y_train, y_val, y_test):\n",
    "    binarizer = preprocessing.LabelBinarizer()\n",
    "    y_train_e = binarizer.fit_transform(y_train)\n",
    "    y_val_e = binarizer.transform(y_val)\n",
    "    y_test_e = binarizer.transform(y_test)\n",
    "    return y_train_e,y_val_e,y_test_e"
   ]
  },
  {
   "cell_type": "code",
   "execution_count": 148,
   "id": "61715106",
   "metadata": {},
   "outputs": [],
   "source": [
    "# Function to encode y values as integer labels (necessary for stratified cross validation as one-hot encoded doesn't work)\n",
    "\n",
    "def lab(y_train, y_val, y_test):\n",
    "    le = preprocessing.LabelEncoder()\n",
    "    y_train_l = le.fit_transform(y_train)\n",
    "    y_val_l = le.fit_transform(y_val)\n",
    "    y_test_l = le.transform(y_test)\n",
    "    return y_train_l,y_val_l, y_test_l"
   ]
  },
  {
   "cell_type": "code",
   "execution_count": 198,
   "id": "b3b33d30",
   "metadata": {},
   "outputs": [],
   "source": [
    "# Apply function\n",
    "y_train_accom_e, y_val_accom_e, y_test_accom_e = bin(y_train_accom, y_val_accom, y_test_accom)\n",
    "y_train_food_e, y_val_food_e, y_test_food_e = bin(y_train_food, y_val_food, y_test_food)\n",
    "y_train_attract_e, y_val_attract_e, y_test_attract_e = bin(y_train_attract, y_val_attract, y_test_attract)\n",
    "\n",
    "y_train_accom_l, y_val_accom_l, y_test_accom_l = lab(y_train_accom, y_val_accom, y_test_accom)\n",
    "y_train_food_l, y_val_food_l, y_test_food_l = lab(y_train_food, y_val_food, y_test_food)\n",
    "y_train_attract_l, y_val_attract_l, y_test_attract_l = lab(y_train_attract, y_val_attract, y_test_attract)"
   ]
  },
  {
   "cell_type": "code",
   "execution_count": 150,
   "id": "96106ca2",
   "metadata": {},
   "outputs": [],
   "source": [
    "# Function to fit tokenizer on text and transform to padded word embeddings\n",
    "\n",
    "def tok(X_train, X_val, X_test):\n",
    "    tokenizer = Tokenizer(num_words = 5000)\n",
    "    tokenizer.fit_on_texts(X_train)\n",
    "    X_train_s = tokenizer.texts_to_sequences(X_train)\n",
    "    X_val_s = tokenizer.texts_to_sequences(X_val)\n",
    "    X_test_s = tokenizer.texts_to_sequences(X_test)\n",
    "    X_train_w = pad_sequences(np.array(X_train_s,dtype = \"object\"), maxlen=20, padding=\"post\", truncating=\"post\", value=0.0)\n",
    "    X_val_w = pad_sequences(np.array(X_val_s,dtype = \"object\"), maxlen=20, padding=\"post\", truncating=\"post\", value=0.0)\n",
    "    X_test_w = pad_sequences(np.array(X_test_s, dtype = \"object\"), maxlen = 20, padding = \"post\", truncating = \"post\", value = 0.0)\n",
    "    \n",
    "    return tokenizer, X_train_w, X_val_w, X_test_w"
   ]
  },
  {
   "cell_type": "code",
   "execution_count": 199,
   "id": "ac8d4a36",
   "metadata": {},
   "outputs": [],
   "source": [
    "# Apply function to X training, validation and test sets\n",
    "accom_tok, X_train_accom_w, X_val_accom_w, X_test_accom_w = tok(X_train_accom, X_val_accom, X_test_accom)\n",
    "food_tok,X_train_food_w, X_val_food_w, X_test_food_w = tok(X_train_food, X_val_food, X_test_food)\n",
    "attract_tok,X_train_attract_w, X_val_attract_w, X_test_attract_w = tok(X_train_attract, X_val_attract, X_test_attract)"
   ]
  },
  {
   "cell_type": "code",
   "execution_count": 152,
   "id": "74041e78",
   "metadata": {},
   "outputs": [],
   "source": [
    "# Function to save test data and tokenizers as pickle file\n",
    "def save_tok(name,file):\n",
    "    with open(name, 'wb') as handle:\n",
    "        pickle.dump(file, handle, protocol = pickle.HIGHEST_PROTOCOL)\n",
    "        "
   ]
  },
  {
   "cell_type": "code",
   "execution_count": 153,
   "id": "313f9988",
   "metadata": {},
   "outputs": [],
   "source": [
    "# Save out test sets for use in combined model testing\n",
    "save_tok('X_test_accom.pickle',X_test_accom_w)\n",
    "save_tok('X_test_food.pickle',X_test_food_w)\n",
    "save_tok('X_test_attract.pickle',X_test_attract_w)\n",
    "\n",
    "save_tok('y_test_accom.pickle',y_test_accom_e)\n",
    "save_tok('y_test_food.pickle',y_test_food_e)\n",
    "save_tok('y_test_attract.pickle',y_test_attract_e)"
   ]
  },
  {
   "cell_type": "code",
   "execution_count": 154,
   "id": "9dcc8ba5",
   "metadata": {},
   "outputs": [],
   "source": [
    "# Save out the tokenizers\n",
    "save_tok('accom_tokenizer.pickle',accom_tok)\n",
    "save_tok('food_tokenizer.pickle',food_tok)\n",
    "save_tok('attract_tokenizer.pickle',attract_tok)"
   ]
  },
  {
   "cell_type": "code",
   "execution_count": 155,
   "id": "44b3408e",
   "metadata": {},
   "outputs": [
    {
     "name": "stdout",
     "output_type": "stream",
     "text": [
      "(1776, 7) (222, 7) (222, 7)\n",
      "(1680, 6) (210, 6) (210, 6)\n",
      "(1320, 7) (165, 7) (165, 7)\n",
      "(1776,) (222,) (222,)\n",
      "(1680,) (210,) (210,)\n",
      "(1320,) (165,) (165,)\n"
     ]
    }
   ],
   "source": [
    "# Shape of y training, validation and test\n",
    "print(y_train_accom_e.shape, y_val_accom_e.shape, y_test_accom_e.shape)\n",
    "print(y_train_food_e.shape, y_val_food_e.shape, y_test_food_e.shape)\n",
    "print(y_train_attract_e.shape, y_val_attract_e.shape, y_test_attract_e.shape)\n",
    "\n",
    "print(y_train_accom_l.shape, y_val_accom_l.shape, y_test_accom_l.shape)\n",
    "print(y_train_food_l.shape, y_val_food_l.shape, y_test_food_l.shape)\n",
    "print(y_train_attract_l.shape,  y_val_attract_l.shape,y_test_attract_l.shape)"
   ]
  },
  {
   "cell_type": "code",
   "execution_count": 156,
   "id": "ebab842d",
   "metadata": {},
   "outputs": [],
   "source": [
    "#with open('tok_accom.pickle', 'wb') as handle:\n",
    "    #pickle.dump(tok_accom, handle, protocol=pickle.HIGHEST_PROTOCOL)"
   ]
  },
  {
   "cell_type": "code",
   "execution_count": 157,
   "id": "1a430295",
   "metadata": {},
   "outputs": [
    {
     "name": "stdout",
     "output_type": "stream",
     "text": [
      "(1776, 20) (1776, 7)\n",
      "(1680, 20) (1680, 6)\n",
      "(1320, 20) (1320, 7)\n"
     ]
    }
   ],
   "source": [
    "# Get shape of training, validation and test sets\n",
    "print(X_train_accom_w.shape,y_train_accom_e.shape)\n",
    "print(X_train_food_w.shape, y_train_food_e.shape)\n",
    "print(X_train_attract_w.shape, y_train_attract_e.shape)"
   ]
  },
  {
   "cell_type": "markdown",
   "id": "8d5f5871",
   "metadata": {},
   "source": [
    "## Define general functions used for each model"
   ]
  },
  {
   "cell_type": "code",
   "execution_count": 158,
   "id": "64fe4a95",
   "metadata": {},
   "outputs": [],
   "source": [
    "# Visualise the training and test accuracies and losses\n",
    "\n",
    "import matplotlib.pyplot as plt\n",
    "plt.style.use('ggplot')\n",
    "\n",
    "def plot_history(history):\n",
    "    acc = history.history['accuracy']\n",
    "    val_acc = history.history['val_accuracy']\n",
    "    loss = history.history['loss']\n",
    "    val_loss = history.history['val_loss']\n",
    "    x = range(1, len(acc) + 1)\n",
    "\n",
    "    plt.figure(figsize=(12, 5))\n",
    "    plt.subplot(1, 2, 1)\n",
    "    plt.plot(x, acc, 'b', label='Training acc')\n",
    "    plt.plot(x, val_acc, 'r', label='Val acc')\n",
    "    plt.title('Training and Validation accuracy')\n",
    "    plt.xlabel(\"Epochs\")\n",
    "    plt.legend()\n",
    "    plt.subplot(1, 2, 2)\n",
    "    plt.plot(x, loss, 'b', label='Training loss')\n",
    "    plt.plot(x, val_loss, 'r', label='Val loss')\n",
    "    plt.xlabel(\"Epochs\")\n",
    "    plt.title('Training and Validation loss')\n",
    "    plt.legend()\n",
    "    plt.show()"
   ]
  },
  {
   "cell_type": "code",
   "execution_count": 159,
   "id": "7b1c99a9",
   "metadata": {},
   "outputs": [],
   "source": [
    "# The model will use earlystopping if the valuation loss doesn't decrease after a specified number of epochs\n",
    "\n",
    "def out(name):\n",
    "    output_dir = name\n",
    "    if not os.path.exists(output_dir):\n",
    "        os.makedirs(output_dir)\n",
    "    return output_dir\n",
    "        \n",
    "def call(output_dir,patience):\n",
    "    modelcheckpoint = ModelCheckpoint(filepath=output_dir+\"/weights.{epoch:02d}.hdf5\")\n",
    "    callbacks = [EarlyStopping(monitor = \"val_loss\", patience = patience),modelcheckpoint]\n",
    "    return callbacks"
   ]
  },
  {
   "cell_type": "code",
   "execution_count": 178,
   "id": "28f0e8ca",
   "metadata": {},
   "outputs": [],
   "source": [
    "# Confusion Matrix function\n",
    "\n",
    "def class_conf(y_val_integer,y_pred_class,labels):\n",
    "    classification = classification_report(y_val_integer, y_pred_class)\n",
    "    cf_matrix = confusion_matrix(y_val_integer, y_pred_class)\n",
    "    fig, ax = plt.subplots(figsize = (8,6))\n",
    "    sns.heatmap(cf_matrix, annot = True, fmt = \"d\",cmap = plt.cm.Blues,xticklabels = labels,yticklabels = labels)\n",
    "    ax.set_xlabel('Predicted',labelpad = 10)\n",
    "    ax.set_ylabel('Actual',labelpad = 10)\n",
    "    plt.title(\"Confusion Matrix\", fontsize = 15)\n",
    "    print(classification)\n",
    "    plt.show()\n"
   ]
  },
  {
   "cell_type": "code",
   "execution_count": 161,
   "id": "c9c08a69",
   "metadata": {},
   "outputs": [],
   "source": [
    "# Weight adjustments if required\n",
    "\n",
    "def weight(y_train):\n",
    "    from sklearn.utils import class_weight\n",
    "    class_weights = class_weight.compute_class_weight('balanced',np.unique(y_train),y_train)\n",
    "    return class_weights"
   ]
  },
  {
   "cell_type": "code",
   "execution_count": 162,
   "id": "6f4d598e",
   "metadata": {},
   "outputs": [],
   "source": [
    "# Combine training and validation sets for use in stratified cross validation (JUST USE ON TRAINING SET)\n",
    "\n",
    "#def combine(X_train, X_val, y_train,y_val):\n",
    "   # inputs = np.concatenate((X_train,X_val), axis=0)\n",
    "    #targets = np.concatenate((y_train, y_val), axis=0)\n",
    "    \n",
    "   # return inputs, targets\n"
   ]
  },
  {
   "cell_type": "code",
   "execution_count": 163,
   "id": "d27136fe",
   "metadata": {},
   "outputs": [],
   "source": [
    "# Model with output of 7 classes\n",
    "\n",
    "def create_model_a():\n",
    "    model = Sequential()\n",
    "    model.add(Embedding(input_dim = input_dim, output_dim = output_dim, input_length = input_length))\n",
    "    model.add(Flatten())\n",
    "    model.add(Dense(512, activation='relu', input_shape=(1600,)))\n",
    "    model.add(Dropout(rate=0.5))\n",
    "    model.add(Dense(256,activation = 'relu'))\n",
    "    model.add(Dropout(rate=0.5))\n",
    "    model.add(Dense(128,activation = 'relu'))\n",
    "    model.add(Dropout(rate=0.5))\n",
    "    model.add(Dense(7, activation='softmax'))\n",
    "    model.compile(optimizer='adam', loss='categorical_crossentropy', metrics=['accuracy'])\n",
    "        \n",
    "    return model\n",
    "    "
   ]
  },
  {
   "cell_type": "code",
   "execution_count": 164,
   "id": "5ed2e697",
   "metadata": {},
   "outputs": [],
   "source": [
    "# Model with output of 6 classes\n",
    "\n",
    "def create_model_b():\n",
    "    model = Sequential()\n",
    "    model.add(Embedding(input_dim = input_dim, output_dim = output_dim, input_length = input_length))\n",
    "    model.add(Flatten())\n",
    "    model.add(Dense(512, activation='relu', input_shape=(1600,)))\n",
    "    model.add(Dropout(rate=0.5))\n",
    "    model.add(Dense(256,activation = 'relu'))\n",
    "    model.add(Dropout(rate=0.5))\n",
    "    model.add(Dense(128,activation = 'relu'))\n",
    "    model.add(Dropout(rate=0.5))\n",
    "    model.add(Dense(6, activation='softmax'))\n",
    "    model.compile(optimizer='adam', loss='categorical_crossentropy', metrics=['accuracy'])\n",
    "        \n",
    "    return model"
   ]
  },
  {
   "cell_type": "code",
   "execution_count": 165,
   "id": "e0ea843a",
   "metadata": {},
   "outputs": [],
   "source": [
    "# Stratified KFold function using keras wrapper in scikit learn (Use X_train encoded as word embedding and y_train encoded \n",
    "# with labels NOT one-hot encoded)\n",
    "\n",
    "def cross(X,y,create_model_a):\n",
    "    model = KerasClassifier(build_fn=create_model_a, epochs=epochs, batch_size=batch_size, verbose=0)\n",
    "    kfold = StratifiedKFold(n_splits=n_splits, shuffle=True, random_state=1)\n",
    "    results = cross_val_score(model, X,y, cv=kfold)\n",
    "    print(results.mean())"
   ]
  },
  {
   "cell_type": "code",
   "execution_count": 166,
   "id": "52a7080a",
   "metadata": {},
   "outputs": [],
   "source": [
    "# Function to fit model, print training and validation accuracies\n",
    "\n",
    "def run_mod(model, X_train, X_val, y_train, y_val):\n",
    "    val_acc = []\n",
    "    history = model.fit(X_train, y_train,\n",
    "                       epochs = epochs,\n",
    "                       verbose = 2,\n",
    "                       callbacks = callbacks,\n",
    "                       validation_data = (X_val, y_val),\n",
    "                       batch_size = batch_size,\n",
    "                       class_weight = class_weights)\n",
    "    print(\"\\n\\n\")\n",
    "    print(model.evaluate(X_train, y_train))\n",
    "    print(model.evaluate(X_val, y_val))\n",
    "    print(\"\\n\\n\")\n",
    "    plot_history(history)\n"
   ]
  },
  {
   "cell_type": "code",
   "execution_count": 167,
   "id": "1d473333",
   "metadata": {},
   "outputs": [],
   "source": [
    "# Evaluation function\n",
    "\n",
    "def eval(model,output_dir,name,X_val,y_val,y_val_aspect,labels):\n",
    "    model.load_weights(output_dir+name)\n",
    "    y_pred_prob = model.predict(X_val)\n",
    "    y_pred_class = np.argmax(model.predict(X_val), axis=-1)\n",
    "    y_val_integer = np.argmax(y_val, axis=1)\n",
    "    df_pred = pd.DataFrame(list(zip(y_val_integer, y_val_aspect,y_pred_class)), columns=[\"Actual Class\", \"Actual Aspect\",\"Predicted Class\",])\n",
    "    df_wrong = df_pred[df_pred[\"Actual Class\"]!= df_pred[\"Predicted Class\"]]\n",
    "    class_conf(y_val_integer,y_pred_class,labels)\n",
    "    print(\"\\n\")\n",
    "    print(\"The model predicted:\", df_wrong.shape[0],\"aspects wrong from a total of:\",df_pred.shape[0],\"predictions\")\n",
    "    print(\"\\n\")\n",
    "    return df_pred, df_wrong"
   ]
  },
  {
   "cell_type": "code",
   "execution_count": 168,
   "id": "556db81c",
   "metadata": {},
   "outputs": [],
   "source": [
    "# Run weights function to get weights\n",
    "\n",
    "cw_accom = weight(y_accom)\n",
    "cw_food = weight(y_food)\n",
    "cw_attract = weight(y_attract)"
   ]
  },
  {
   "cell_type": "markdown",
   "id": "da1a6c20",
   "metadata": {},
   "source": [
    "# Section 4: Building accommodation aspect classifier"
   ]
  },
  {
   "cell_type": "code",
   "execution_count": 170,
   "id": "212e1f11",
   "metadata": {},
   "outputs": [],
   "source": [
    "# Set parameters\n",
    "\n",
    "input_dim = 6000 #number of words\n",
    "output_dim = 16\n",
    "input_length = 20 #maximum length of embedding\n",
    "batch_size = 16\n",
    "epochs = 50\n",
    "\n",
    "class_weights_accom = {0:cw_accom[0],1:cw_accom[1],2:cw_accom[2],3:cw_accom[3],4:cw_accom[4],5:cw_accom[5],6:cw_accom[6]}\n",
    "n_splits = 10\n",
    "\n",
    "# Set output directory and callbacks (patience set to 5)\n",
    "output_dir = out('model_output/AccomAspectModels')\n",
    "callbacks = call(output_dir,5)\n",
    "class_weights = class_weights_accom\n"
   ]
  },
  {
   "cell_type": "markdown",
   "id": "112a6d9f",
   "metadata": {},
   "source": [
    "### Cross validation evaluation"
   ]
  },
  {
   "cell_type": "code",
   "execution_count": 126,
   "id": "0bd55b81",
   "metadata": {},
   "outputs": [
    {
     "name": "stdout",
     "output_type": "stream",
     "text": [
      "0.9188948273658752\n"
     ]
    }
   ],
   "source": [
    "# Target encoded as integers as multi-label indicator (one-hot) encoding is not supported stratified cross validation\n",
    "# Run stratified cross validation and report mean accuracy for ten folds using create_model_a with 7 output parameters\n",
    "# On training set only not combined training and validation as hold out evaluation is also run below.\n",
    "\n",
    "cross(X_train_accom_w, y_train_accom_l,create_model_a)"
   ]
  },
  {
   "cell_type": "markdown",
   "id": "0276b9d9",
   "metadata": {},
   "source": [
    "### Hold out evaluation"
   ]
  },
  {
   "cell_type": "code",
   "execution_count": 171,
   "id": "9c9a4aa6",
   "metadata": {},
   "outputs": [
    {
     "name": "stdout",
     "output_type": "stream",
     "text": [
      "Epoch 1/50\n",
      "111/111 - 0s - loss: 1.8989 - accuracy: 0.2072 - val_loss: 1.5782 - val_accuracy: 0.5766\n",
      "Epoch 2/50\n",
      "111/111 - 0s - loss: 0.8982 - accuracy: 0.7027 - val_loss: 0.6822 - val_accuracy: 0.8153\n",
      "Epoch 3/50\n",
      "111/111 - 0s - loss: 0.3791 - accuracy: 0.8874 - val_loss: 0.5872 - val_accuracy: 0.8649\n",
      "Epoch 4/50\n",
      "111/111 - 0s - loss: 0.2023 - accuracy: 0.9476 - val_loss: 0.5161 - val_accuracy: 0.8784\n",
      "Epoch 5/50\n",
      "111/111 - 0s - loss: 0.1269 - accuracy: 0.9747 - val_loss: 0.6598 - val_accuracy: 0.8784\n",
      "Epoch 6/50\n",
      "111/111 - 0s - loss: 0.0815 - accuracy: 0.9825 - val_loss: 0.6540 - val_accuracy: 0.8784\n",
      "Epoch 7/50\n",
      "111/111 - 0s - loss: 0.0610 - accuracy: 0.9831 - val_loss: 0.7131 - val_accuracy: 0.8784\n",
      "Epoch 8/50\n",
      "111/111 - 0s - loss: 0.0429 - accuracy: 0.9882 - val_loss: 0.6186 - val_accuracy: 0.8919\n",
      "Epoch 9/50\n",
      "111/111 - 0s - loss: 0.0495 - accuracy: 0.9876 - val_loss: 0.6868 - val_accuracy: 0.8919\n",
      "\n",
      "\n",
      "\n",
      "56/56 [==============================] - 0s 999us/step - loss: 0.0109 - accuracy: 0.9966\n",
      "[0.010853637009859085, 0.9966216087341309]\n",
      "7/7 [==============================] - 0s 1ms/step - loss: 0.6868 - accuracy: 0.8919\n",
      "[0.6868157386779785, 0.8918918967247009]\n",
      "\n",
      "\n",
      "\n"
     ]
    },
    {
     "data": {
      "image/png": "[encoded data removed]",
      "text/plain": [
       "<Figure size 864x360 with 2 Axes>"
      ]
     },
     "metadata": {},
     "output_type": "display_data"
    }
   ],
   "source": [
    "# Run model using the word embeddings and the target encoded as one-hot encoding\n",
    "model1 = create_model_a()\n",
    "history1 = run_mod(model1, X_train_accom_w, X_val_accom_w, y_train_accom_e, y_val_accom_e)\n",
    "model1.save('accom.h5')"
   ]
  },
  {
   "cell_type": "code",
   "execution_count": 172,
   "id": "ed6ec131",
   "metadata": {},
   "outputs": [
    {
     "name": "stdout",
     "output_type": "stream",
     "text": [
      "              precision    recall  f1-score   support\n",
      "\n",
      "           0       0.89      0.91      0.90        35\n",
      "           1       0.97      0.86      0.91        35\n",
      "           2       1.00      0.86      0.92        35\n",
      "           3       0.95      0.91      0.93        22\n",
      "           4       0.79      0.97      0.87        35\n",
      "           5       0.81      0.86      0.83        35\n",
      "           6       0.92      0.88      0.90        25\n",
      "\n",
      "    accuracy                           0.89       222\n",
      "   macro avg       0.90      0.89      0.90       222\n",
      "weighted avg       0.90      0.89      0.89       222\n",
      "\n"
     ]
    },
    {
     "data": {
      "image/png": "[encoded data removed]",
      "text/plain": [
       "<Figure size 576x432 with 2 Axes>"
      ]
     },
     "metadata": {},
     "output_type": "display_data"
    },
    {
     "name": "stdout",
     "output_type": "stream",
     "text": [
      "\n",
      "\n",
      "The model predicted: 24 aspects wrong from a total of: 222 predictions\n",
      "\n",
      "\n"
     ]
    }
   ],
   "source": [
    "labels_accom = ['Entertainment','Food','Hotel','Location','Room','Staff','Value']\n",
    "df_pred_accom, df_wrong_accom = eval(model1, output_dir,\"/weights.08.hdf5\",X_val_accom_w, y_val_accom_e,y_val_accom,labels_accom)"
   ]
  },
  {
   "cell_type": "code",
   "execution_count": 173,
   "id": "1b3258bb",
   "metadata": {},
   "outputs": [
    {
     "data": {
      "text/html": [
       "<div>\n",
       "<style scoped>\n",
       "    .dataframe tbody tr th:only-of-type {\n",
       "        vertical-align: middle;\n",
       "    }\n",
       "\n",
       "    .dataframe tbody tr th {\n",
       "        vertical-align: top;\n",
       "    }\n",
       "\n",
       "    .dataframe thead th {\n",
       "        text-align: right;\n",
       "    }\n",
       "</style>\n",
       "<table border=\"1\" class=\"dataframe\">\n",
       "  <thead>\n",
       "    <tr style=\"text-align: right;\">\n",
       "      <th></th>\n",
       "      <th>Actual Class</th>\n",
       "      <th>Actual Aspect</th>\n",
       "      <th>Predicted Class</th>\n",
       "    </tr>\n",
       "  </thead>\n",
       "  <tbody>\n",
       "    <tr>\n",
       "      <th>0</th>\n",
       "      <td>0</td>\n",
       "      <td>Entertainment</td>\n",
       "      <td>6</td>\n",
       "    </tr>\n",
       "    <tr>\n",
       "      <th>2</th>\n",
       "      <td>2</td>\n",
       "      <td>Hotel</td>\n",
       "      <td>6</td>\n",
       "    </tr>\n",
       "    <tr>\n",
       "      <th>14</th>\n",
       "      <td>0</td>\n",
       "      <td>Entertainment</td>\n",
       "      <td>1</td>\n",
       "    </tr>\n",
       "    <tr>\n",
       "      <th>16</th>\n",
       "      <td>2</td>\n",
       "      <td>Hotel</td>\n",
       "      <td>5</td>\n",
       "    </tr>\n",
       "    <tr>\n",
       "      <th>26</th>\n",
       "      <td>2</td>\n",
       "      <td>Hotel</td>\n",
       "      <td>5</td>\n",
       "    </tr>\n",
       "    <tr>\n",
       "      <th>33</th>\n",
       "      <td>5</td>\n",
       "      <td>Staff</td>\n",
       "      <td>4</td>\n",
       "    </tr>\n",
       "    <tr>\n",
       "      <th>52</th>\n",
       "      <td>0</td>\n",
       "      <td>Entertainment</td>\n",
       "      <td>5</td>\n",
       "    </tr>\n",
       "    <tr>\n",
       "      <th>75</th>\n",
       "      <td>1</td>\n",
       "      <td>Food</td>\n",
       "      <td>4</td>\n",
       "    </tr>\n",
       "    <tr>\n",
       "      <th>77</th>\n",
       "      <td>3</td>\n",
       "      <td>Location</td>\n",
       "      <td>0</td>\n",
       "    </tr>\n",
       "    <tr>\n",
       "      <th>85</th>\n",
       "      <td>2</td>\n",
       "      <td>Hotel</td>\n",
       "      <td>4</td>\n",
       "    </tr>\n",
       "    <tr>\n",
       "      <th>88</th>\n",
       "      <td>6</td>\n",
       "      <td>Value</td>\n",
       "      <td>4</td>\n",
       "    </tr>\n",
       "    <tr>\n",
       "      <th>105</th>\n",
       "      <td>5</td>\n",
       "      <td>Staff</td>\n",
       "      <td>3</td>\n",
       "    </tr>\n",
       "    <tr>\n",
       "      <th>114</th>\n",
       "      <td>1</td>\n",
       "      <td>Food</td>\n",
       "      <td>5</td>\n",
       "    </tr>\n",
       "    <tr>\n",
       "      <th>116</th>\n",
       "      <td>5</td>\n",
       "      <td>Staff</td>\n",
       "      <td>4</td>\n",
       "    </tr>\n",
       "    <tr>\n",
       "      <th>121</th>\n",
       "      <td>2</td>\n",
       "      <td>Hotel</td>\n",
       "      <td>0</td>\n",
       "    </tr>\n",
       "    <tr>\n",
       "      <th>147</th>\n",
       "      <td>4</td>\n",
       "      <td>Room</td>\n",
       "      <td>0</td>\n",
       "    </tr>\n",
       "    <tr>\n",
       "      <th>159</th>\n",
       "      <td>1</td>\n",
       "      <td>Food</td>\n",
       "      <td>5</td>\n",
       "    </tr>\n",
       "    <tr>\n",
       "      <th>168</th>\n",
       "      <td>6</td>\n",
       "      <td>Value</td>\n",
       "      <td>4</td>\n",
       "    </tr>\n",
       "    <tr>\n",
       "      <th>180</th>\n",
       "      <td>1</td>\n",
       "      <td>Food</td>\n",
       "      <td>5</td>\n",
       "    </tr>\n",
       "    <tr>\n",
       "      <th>185</th>\n",
       "      <td>1</td>\n",
       "      <td>Food</td>\n",
       "      <td>4</td>\n",
       "    </tr>\n",
       "    <tr>\n",
       "      <th>196</th>\n",
       "      <td>3</td>\n",
       "      <td>Location</td>\n",
       "      <td>0</td>\n",
       "    </tr>\n",
       "    <tr>\n",
       "      <th>200</th>\n",
       "      <td>5</td>\n",
       "      <td>Staff</td>\n",
       "      <td>4</td>\n",
       "    </tr>\n",
       "    <tr>\n",
       "      <th>203</th>\n",
       "      <td>6</td>\n",
       "      <td>Value</td>\n",
       "      <td>5</td>\n",
       "    </tr>\n",
       "    <tr>\n",
       "      <th>221</th>\n",
       "      <td>5</td>\n",
       "      <td>Staff</td>\n",
       "      <td>4</td>\n",
       "    </tr>\n",
       "  </tbody>\n",
       "</table>\n",
       "</div>"
      ],
      "text/plain": [
       "     Actual Class  Actual Aspect  Predicted Class\n",
       "0               0  Entertainment                6\n",
       "2               2          Hotel                6\n",
       "14              0  Entertainment                1\n",
       "16              2          Hotel                5\n",
       "26              2          Hotel                5\n",
       "33              5          Staff                4\n",
       "52              0  Entertainment                5\n",
       "75              1           Food                4\n",
       "77              3       Location                0\n",
       "85              2          Hotel                4\n",
       "88              6          Value                4\n",
       "105             5          Staff                3\n",
       "114             1           Food                5\n",
       "116             5          Staff                4\n",
       "121             2          Hotel                0\n",
       "147             4           Room                0\n",
       "159             1           Food                5\n",
       "168             6          Value                4\n",
       "180             1           Food                5\n",
       "185             1           Food                4\n",
       "196             3       Location                0\n",
       "200             5          Staff                4\n",
       "203             6          Value                5\n",
       "221             5          Staff                4"
      ]
     },
     "execution_count": 173,
     "metadata": {},
     "output_type": "execute_result"
    }
   ],
   "source": [
    "df_wrong_accom"
   ]
  },
  {
   "cell_type": "markdown",
   "id": "fbb89f75",
   "metadata": {},
   "source": [
    "General comments:\n",
    "\n",
    "* the model is overfitting\n",
    "* the model seems to misclassifying some aspects - these topics may be fuzzy fitting into more than one aspect (for example index 19 (entertainment, food, staff)\n",
    "* more training data might help the model improve classification"
   ]
  },
  {
   "cell_type": "markdown",
   "id": "a68ffcce",
   "metadata": {},
   "source": [
    "# Section 5: Building a food aspect classifier"
   ]
  },
  {
   "cell_type": "markdown",
   "id": "cfcdd3f4",
   "metadata": {},
   "source": [
    "## Build model"
   ]
  },
  {
   "cell_type": "code",
   "execution_count": 174,
   "id": "87ffbd45",
   "metadata": {},
   "outputs": [],
   "source": [
    "# Parameters\n",
    "input_dim = 6000\n",
    "output_dim = 16\n",
    "input_length = 20\n",
    "batch_size = 16\n",
    "epochs = 50\n",
    "class_weights_food = {0:cw_food[0],1:cw_food[1],2:cw_food[2],3:cw_food[3],4:cw_food[4],5:cw_food[5]}\n",
    "\n",
    "# Set output directory and callbacks (patience set to 5)\n",
    "output_dir = out('model_output/FoodAspectModels')\n",
    "callbacks = call(output_dir,5)\n",
    "class_weights = class_weights_food"
   ]
  },
  {
   "cell_type": "markdown",
   "id": "026939e9",
   "metadata": {},
   "source": [
    "### Cross validation evaluation"
   ]
  },
  {
   "cell_type": "code",
   "execution_count": 175,
   "id": "aefbc86f",
   "metadata": {},
   "outputs": [
    {
     "name": "stdout",
     "output_type": "stream",
     "text": [
      "0.9476190626621246\n"
     ]
    }
   ],
   "source": [
    "# Combine training and validation sets for word embeddings and target encoded as integers as multi-label indicator (one-hot)\n",
    "# encoding is not supported\n",
    "# Run stratified cross validation and report mean accuracy for ten folds using create_model_a with 6 output parameters\n",
    "\n",
    "cross(X_train_food_cross, y_train_food_cross,create_model_b)"
   ]
  },
  {
   "cell_type": "markdown",
   "id": "d69d822f",
   "metadata": {},
   "source": [
    "### Hold-out evaluation"
   ]
  },
  {
   "cell_type": "code",
   "execution_count": 176,
   "id": "dc73690c",
   "metadata": {},
   "outputs": [
    {
     "name": "stdout",
     "output_type": "stream",
     "text": [
      "Epoch 1/50\n",
      "105/105 - 0s - loss: 1.6882 - accuracy: 0.2923 - val_loss: 1.0829 - val_accuracy: 0.5190\n",
      "Epoch 2/50\n",
      "105/105 - 0s - loss: 0.6325 - accuracy: 0.7905 - val_loss: 0.2046 - val_accuracy: 0.9476\n",
      "Epoch 3/50\n",
      "105/105 - 0s - loss: 0.1884 - accuracy: 0.9500 - val_loss: 0.1574 - val_accuracy: 0.9476\n",
      "Epoch 4/50\n",
      "105/105 - 0s - loss: 0.1134 - accuracy: 0.9690 - val_loss: 0.1611 - val_accuracy: 0.9476\n",
      "Epoch 5/50\n",
      "105/105 - 0s - loss: 0.0652 - accuracy: 0.9875 - val_loss: 0.1728 - val_accuracy: 0.9524\n",
      "Epoch 6/50\n",
      "105/105 - 0s - loss: 0.0417 - accuracy: 0.9893 - val_loss: 0.1168 - val_accuracy: 0.9714\n",
      "Epoch 7/50\n",
      "105/105 - 0s - loss: 0.0351 - accuracy: 0.9929 - val_loss: 0.1421 - val_accuracy: 0.9619\n",
      "Epoch 8/50\n",
      "105/105 - 0s - loss: 0.0329 - accuracy: 0.9905 - val_loss: 0.1752 - val_accuracy: 0.9571\n",
      "Epoch 9/50\n",
      "105/105 - 0s - loss: 0.0264 - accuracy: 0.9923 - val_loss: 0.1534 - val_accuracy: 0.9619\n",
      "Epoch 10/50\n",
      "105/105 - 0s - loss: 0.0370 - accuracy: 0.9911 - val_loss: 0.1606 - val_accuracy: 0.9667\n",
      "Epoch 11/50\n",
      "105/105 - 0s - loss: 0.0290 - accuracy: 0.9929 - val_loss: 0.1932 - val_accuracy: 0.9571\n",
      "\n",
      "\n",
      "\n",
      "53/53 [==============================] - 0s 1ms/step - loss: 0.0126 - accuracy: 0.9964\n",
      "[0.012637215666472912, 0.9964285492897034]\n",
      "7/7 [==============================] - 0s 1ms/step - loss: 0.1932 - accuracy: 0.9571\n",
      "[0.19322527945041656, 0.9571428298950195]\n",
      "\n",
      "\n",
      "\n"
     ]
    },
    {
     "data": {
      "image/png": "[encoded data removed]",
      "text/plain": [
       "<Figure size 864x360 with 2 Axes>"
      ]
     },
     "metadata": {},
     "output_type": "display_data"
    }
   ],
   "source": [
    "# Run model using the word embeddings and the target encoded as one-hot encoding\n",
    "model2 = create_model_b()\n",
    "history2 = run_mod(model2, X_train_food_w, X_val_food_w, y_train_food_e, y_val_food_e)\n",
    "model2.save('food.h5')"
   ]
  },
  {
   "cell_type": "code",
   "execution_count": 177,
   "id": "b424b162",
   "metadata": {},
   "outputs": [
    {
     "name": "stdout",
     "output_type": "stream",
     "text": [
      "              precision    recall  f1-score   support\n",
      "\n",
      "           0       0.92      0.97      0.94        35\n",
      "           1       0.94      0.94      0.94        35\n",
      "           2       0.97      1.00      0.99        35\n",
      "           3       1.00      1.00      1.00        35\n",
      "           4       1.00      1.00      1.00        35\n",
      "           5       1.00      0.91      0.96        35\n",
      "\n",
      "    accuracy                           0.97       210\n",
      "   macro avg       0.97      0.97      0.97       210\n",
      "weighted avg       0.97      0.97      0.97       210\n",
      "\n"
     ]
    },
    {
     "data": {
      "image/png": "[encoded data removed]",
      "text/plain": [
       "<Figure size 576x432 with 2 Axes>"
      ]
     },
     "metadata": {},
     "output_type": "display_data"
    },
    {
     "name": "stdout",
     "output_type": "stream",
     "text": [
      "\n",
      "\n",
      "The model predicted: 6 aspects wrong from a total of: 210 predictions\n",
      "\n",
      "\n"
     ]
    }
   ],
   "source": [
    "label_food = [\"Food Quality\",\"Meal Exp\",\"Menu Choice\",\"Staff\",\"Value\",\"Visit Exp\"]\n",
    "df_wrong_food = eval(model2, output_dir,\"/weights.06.hdf5\",X_val_food_w, y_val_food_e,y_val_food,label_food)"
   ]
  },
  {
   "cell_type": "markdown",
   "id": "708a4ca7",
   "metadata": {},
   "source": [
    "Visit experience is predicted as meal experience suggesting these aspects are a bit fuzzy. Therefore combining them may improve the model."
   ]
  },
  {
   "cell_type": "code",
   "execution_count": 186,
   "id": "1f21655a",
   "metadata": {},
   "outputs": [
    {
     "data": {
      "text/plain": [
       "Meal Exp         350\n",
       "Value            350\n",
       "Food Quality     350\n",
       "Staff&Service    350\n",
       "Menu Choice      350\n",
       "Name: Aspect, dtype: int64"
      ]
     },
     "execution_count": 186,
     "metadata": {},
     "output_type": "execute_result"
    }
   ],
   "source": [
    "# Combine the categories and sample to 350 as per other aspects\n",
    "df_food_revised = df_food.copy()\n",
    "df_food_revised[\"Aspect\"] = df_food_revised[\"Aspect\"].replace(\"Visit Exp\",\"Meal Exp\")\n",
    "df_food_revised = df_food_revised.groupby('Aspect').sample(n = 350)\n",
    "df_food_revised[\"Aspect\"].value_counts()"
   ]
  },
  {
   "cell_type": "code",
   "execution_count": 187,
   "id": "e5838e94",
   "metadata": {},
   "outputs": [
    {
     "name": "stdout",
     "output_type": "stream",
     "text": [
      "(1750,) (1750,)\n"
     ]
    }
   ],
   "source": [
    "X_food,y_food = XY(df_food_revised)\n",
    "print(X_food.shape, y_food.shape)"
   ]
  },
  {
   "cell_type": "code",
   "execution_count": 188,
   "id": "ebfb4f59",
   "metadata": {},
   "outputs": [],
   "source": [
    "# Get train, val, test, encode y as labels and one-hot encoding and X as word embeddings\n",
    "X_train_food,X_val_food,X_test_food,y_train_food,y_val_food,y_test_food = train_test(X_food,y_food)\n",
    "y_train_food_e, y_val_food_e, y_test_food_e = bin(y_train_food, y_val_food, y_test_food)\n",
    "y_train_food_l, y_val_food_l, y_test_food_l = lab(y_train_food, y_val_food, y_test_food)\n",
    "food_tok,X_train_food_w, X_val_food_w, X_test_food_w = tok(X_train_food, X_val_food, X_test_food)"
   ]
  },
  {
   "cell_type": "code",
   "execution_count": 189,
   "id": "1a7f95f6",
   "metadata": {},
   "outputs": [],
   "source": [
    "# Save out new test sets and tokenizer for use in combined model testing\n",
    "save_tok('X_test_food.pickle',X_test_food_w)\n",
    "save_tok('y_test_food.pickle',y_test_food_e)\n",
    "save_tok('food_tokenizer.pickle',food_tok)"
   ]
  },
  {
   "cell_type": "code",
   "execution_count": 190,
   "id": "0917cc48",
   "metadata": {},
   "outputs": [],
   "source": [
    "# Redefine model with output of 5\n",
    "def create_model_c():\n",
    "    model = Sequential()\n",
    "    model.add(Embedding(input_dim = input_dim, output_dim = output_dim, input_length = input_length))\n",
    "    model.add(Flatten())\n",
    "    model.add(Dense(512, activation='relu', input_shape=(1600,)))\n",
    "    model.add(Dropout(rate=0.5))\n",
    "    model.add(Dense(256,activation = 'relu'))\n",
    "    model.add(Dropout(rate=0.5))\n",
    "    model.add(Dense(128,activation = 'relu'))\n",
    "    model.add(Dropout(rate=0.5))\n",
    "    model.add(Dense(5, activation='softmax'))\n",
    "    model.compile(optimizer='adam', loss='categorical_crossentropy', metrics=['accuracy'])\n",
    "        \n",
    "    return model"
   ]
  },
  {
   "cell_type": "code",
   "execution_count": 191,
   "id": "ba447e23",
   "metadata": {},
   "outputs": [
    {
     "name": "stdout",
     "output_type": "stream",
     "text": [
      "0.9669676721096039\n"
     ]
    }
   ],
   "source": [
    "# Run cross validation\n",
    "cross(X_train_food_cross2, y_train_food_cross2,create_model_c)"
   ]
  },
  {
   "cell_type": "code",
   "execution_count": 193,
   "id": "bf8e7779",
   "metadata": {},
   "outputs": [
    {
     "name": "stdout",
     "output_type": "stream",
     "text": [
      "Epoch 1/50\n",
      "88/88 - 0s - loss: 1.5221 - accuracy: 0.3164 - val_loss: 1.0937 - val_accuracy: 0.5829\n",
      "Epoch 2/50\n",
      "88/88 - 0s - loss: 0.6242 - accuracy: 0.7650 - val_loss: 0.2938 - val_accuracy: 0.9429\n",
      "Epoch 3/50\n",
      "88/88 - 0s - loss: 0.2085 - accuracy: 0.9429 - val_loss: 0.2989 - val_accuracy: 0.9429\n",
      "Epoch 4/50\n",
      "88/88 - 0s - loss: 0.1269 - accuracy: 0.9736 - val_loss: 0.2310 - val_accuracy: 0.9657\n",
      "Epoch 5/50\n",
      "88/88 - 0s - loss: 0.0869 - accuracy: 0.9821 - val_loss: 0.2105 - val_accuracy: 0.9714\n",
      "Epoch 6/50\n",
      "88/88 - 0s - loss: 0.0517 - accuracy: 0.9886 - val_loss: 0.2036 - val_accuracy: 0.9657\n",
      "Epoch 7/50\n",
      "88/88 - 0s - loss: 0.0400 - accuracy: 0.9900 - val_loss: 0.1704 - val_accuracy: 0.9714\n",
      "Epoch 8/50\n",
      "88/88 - 0s - loss: 0.0324 - accuracy: 0.9936 - val_loss: 0.1762 - val_accuracy: 0.9714\n",
      "Epoch 9/50\n",
      "88/88 - 0s - loss: 0.0273 - accuracy: 0.9950 - val_loss: 0.1910 - val_accuracy: 0.9714\n",
      "Epoch 10/50\n",
      "88/88 - 0s - loss: 0.0179 - accuracy: 0.9964 - val_loss: 0.1989 - val_accuracy: 0.9714\n",
      "Epoch 11/50\n",
      "88/88 - 0s - loss: 0.0094 - accuracy: 0.9986 - val_loss: 0.2252 - val_accuracy: 0.9771\n",
      "Epoch 12/50\n",
      "88/88 - 0s - loss: 0.0029 - accuracy: 1.0000 - val_loss: 0.2238 - val_accuracy: 0.9771\n",
      "\n",
      "\n",
      "\n",
      "44/44 [==============================] - 0s 1ms/step - loss: 2.9317e-04 - accuracy: 1.0000\n",
      "[0.00029317470034584403, 1.0]\n",
      "6/6 [==============================] - 0s 1ms/step - loss: 0.2238 - accuracy: 0.9771\n",
      "[0.22380083799362183, 0.977142870426178]\n",
      "\n",
      "\n",
      "\n"
     ]
    },
    {
     "data": {
      "image/png": "[encoded data removed]",
      "text/plain": [
       "<Figure size 864x360 with 2 Axes>"
      ]
     },
     "metadata": {},
     "output_type": "display_data"
    }
   ],
   "source": [
    "# Run model using the word embeddings and the target encoded as one-hot encoding\n",
    "model2b = create_model_c()\n",
    "history2b = run_mod(model2b, X_train_food_w, X_val_food_w, y_train_food_e, y_val_food_e)\n",
    "model2b.save('food.h5')"
   ]
  },
  {
   "cell_type": "code",
   "execution_count": 194,
   "id": "72a3abac",
   "metadata": {},
   "outputs": [
    {
     "name": "stdout",
     "output_type": "stream",
     "text": [
      "              precision    recall  f1-score   support\n",
      "\n",
      "           0       1.00      0.97      0.99        35\n",
      "           1       0.97      0.97      0.97        35\n",
      "           2       1.00      0.97      0.99        35\n",
      "           3       0.95      1.00      0.97        35\n",
      "           4       0.97      0.97      0.97        35\n",
      "\n",
      "    accuracy                           0.98       175\n",
      "   macro avg       0.98      0.98      0.98       175\n",
      "weighted avg       0.98      0.98      0.98       175\n",
      "\n"
     ]
    },
    {
     "data": {
      "image/png": "[encoded data removed]",
      "text/plain": [
       "<Figure size 576x432 with 2 Axes>"
      ]
     },
     "metadata": {},
     "output_type": "display_data"
    },
    {
     "name": "stdout",
     "output_type": "stream",
     "text": [
      "\n",
      "\n",
      "The model predicted: 4 aspects wrong from a total of: 175 predictions\n",
      "\n",
      "\n"
     ]
    }
   ],
   "source": [
    "df_wrong_food2 = eval(model2b, output_dir,\"/weights.11.hdf5\",X_val_food_w, y_val_food_e,y_val_food,label_food)"
   ]
  },
  {
   "cell_type": "markdown",
   "id": "96c0f239",
   "metadata": {},
   "source": [
    "Analysis:\n",
    "\n",
    "* Combining the aspects of Meal and Visit experience helped improve model accuracy considerably"
   ]
  },
  {
   "cell_type": "markdown",
   "id": "e83f4dad",
   "metadata": {},
   "source": [
    "# Section 6: Building an attractions model"
   ]
  },
  {
   "cell_type": "markdown",
   "id": "e8a53023",
   "metadata": {},
   "source": [
    "## Build a model"
   ]
  },
  {
   "cell_type": "code",
   "execution_count": 200,
   "id": "e53226e6",
   "metadata": {},
   "outputs": [],
   "source": [
    "# Parameters\n",
    "input_dim = 6000\n",
    "output_dim = 16\n",
    "input_length = 20\n",
    "batch_size = 16\n",
    "epochs = 50\n",
    "class_weights_attract = {0:cw_attract[0],1:cw_attract[1],2:cw_attract[2],3:cw_attract[3],4:cw_attract[4],5:cw_attract[5],6:cw_attract[6]}\n",
    "\n",
    "output_dir = out('model_output/AtractAspectModels')\n",
    "callbacks = call(output_dir,5)\n",
    "class_weights = class_weights_attract"
   ]
  },
  {
   "cell_type": "markdown",
   "id": "7af9ca05",
   "metadata": {},
   "source": [
    "### Cross validation  evaluation"
   ]
  },
  {
   "cell_type": "code",
   "execution_count": 201,
   "id": "061222cb",
   "metadata": {},
   "outputs": [
    {
     "name": "stdout",
     "output_type": "stream",
     "text": [
      "0.8454545438289642\n"
     ]
    }
   ],
   "source": [
    "# Combine training and validation sets for word embeddings and target encoded as integers as multi-label indicator (one-hot)\n",
    "# encoding is not supported\n",
    "# Run stratified cross validation and report mean accuracy for ten folds using create_model_a with 7 output parameters\n",
    "\n",
    "cross(X_train_attract_w, y_train_attract_l,create_model_a)"
   ]
  },
  {
   "cell_type": "code",
   "execution_count": 202,
   "id": "8b63e2a1",
   "metadata": {},
   "outputs": [
    {
     "name": "stdout",
     "output_type": "stream",
     "text": [
      "Epoch 1/50\n",
      "83/83 - 0s - loss: 1.9489 - accuracy: 0.1553 - val_loss: 1.9354 - val_accuracy: 0.1212\n",
      "Epoch 2/50\n",
      "83/83 - 0s - loss: 1.7754 - accuracy: 0.3220 - val_loss: 1.3263 - val_accuracy: 0.5758\n",
      "Epoch 3/50\n",
      "83/83 - 0s - loss: 0.9276 - accuracy: 0.6614 - val_loss: 0.7838 - val_accuracy: 0.7697\n",
      "Epoch 4/50\n",
      "83/83 - 0s - loss: 0.3908 - accuracy: 0.8788 - val_loss: 0.8145 - val_accuracy: 0.8424\n",
      "Epoch 5/50\n",
      "83/83 - 0s - loss: 0.1754 - accuracy: 0.9492 - val_loss: 0.8592 - val_accuracy: 0.8364\n",
      "Epoch 6/50\n",
      "83/83 - 0s - loss: 0.0888 - accuracy: 0.9758 - val_loss: 0.8851 - val_accuracy: 0.8485\n",
      "Epoch 7/50\n",
      "83/83 - 0s - loss: 0.0587 - accuracy: 0.9871 - val_loss: 1.0152 - val_accuracy: 0.8303\n",
      "Epoch 8/50\n",
      "83/83 - 0s - loss: 0.0674 - accuracy: 0.9833 - val_loss: 1.0246 - val_accuracy: 0.8000\n",
      "\n",
      "\n",
      "\n",
      "42/42 [==============================] - 0s 951us/step - loss: 0.0188 - accuracy: 0.9970\n",
      "[0.018823130056262016, 0.9969696998596191]\n",
      "6/6 [==============================] - 0s 1ms/step - loss: 1.0246 - accuracy: 0.8000\n",
      "[1.024552583694458, 0.800000011920929]\n",
      "\n",
      "\n",
      "\n"
     ]
    },
    {
     "data": {
      "image/png": "[encoded data removed]",
      "text/plain": [
       "<Figure size 864x360 with 2 Axes>"
      ]
     },
     "metadata": {},
     "output_type": "display_data"
    }
   ],
   "source": [
    "# Run model using the word embeddings and the target encoded as one-hot encoding\n",
    "model3 = create_model_a()\n",
    "run_mod(model3, X_train_attract_w, X_val_attract_w, y_train_attract_e, y_val_attract_e)\n",
    "model3.save('attract.h5')"
   ]
  },
  {
   "cell_type": "code",
   "execution_count": 203,
   "id": "3230a674",
   "metadata": {},
   "outputs": [
    {
     "name": "stdout",
     "output_type": "stream",
     "text": [
      "              precision    recall  f1-score   support\n",
      "\n",
      "           0       0.92      0.77      0.84        30\n",
      "           1       1.00      0.83      0.91        30\n",
      "           2       0.80      0.80      0.80        15\n",
      "           3       0.96      0.90      0.93        30\n",
      "           4       0.95      0.90      0.92        20\n",
      "           5       0.76      0.87      0.81        15\n",
      "           6       0.61      0.88      0.72        25\n",
      "\n",
      "    accuracy                           0.85       165\n",
      "   macro avg       0.86      0.85      0.85       165\n",
      "weighted avg       0.87      0.85      0.85       165\n",
      "\n"
     ]
    },
    {
     "data": {
      "image/png": "[encoded data removed]",
      "text/plain": [
       "<Figure size 576x432 with 2 Axes>"
      ]
     },
     "metadata": {},
     "output_type": "display_data"
    },
    {
     "name": "stdout",
     "output_type": "stream",
     "text": [
      "\n",
      "\n",
      "The model predicted: 25 aspects wrong from a total of: 165 predictions\n",
      "\n",
      "\n"
     ]
    }
   ],
   "source": [
    "label_attract = [\"Activities\",\"Amenities\",\"History\",\"Nature\",\"Staff/Service\",\"Value\",\"Visit Exp\"]\n",
    "df_wrong_attract = eval(model3, output_dir,\"/weights.06.hdf5\",X_val_attract_w, y_val_attract_e,y_val_attract,label_attract)"
   ]
  },
  {
   "cell_type": "markdown",
   "id": "e661fc59",
   "metadata": {},
   "source": [
    "Analysis of results:\n",
    "\n",
    "* The food model performs best, possibly because the word range is much smaller and the aspects contain fewer words.\n",
    "* Combining the Visit Experience and Meal Experience categories improved the model a little.\n",
    "* The accommodation and attraction models are less accurate possibly because the range of words is greater and there is more scope for classification errors to be made. Increased training data might improve the results for these categories. The machine learning models for accommodation and attractions outperform the neural network models.\n",
    "* Data augmentation is used to increase the training set size for the attractions model which is the worst performing of the three with a cross validation accuracy of 85%"
   ]
  },
  {
   "cell_type": "markdown",
   "id": "a9f24f30",
   "metadata": {},
   "source": [
    "# Section 6: Data Augmentation - Attractions"
   ]
  },
  {
   "cell_type": "markdown",
   "id": "5cfb37ec",
   "metadata": {},
   "source": [
    "Augment the training data using a range of techniques such as changing, deleting, swapping words to increase the number of training samples with synthetic data based on the actual data. Whether to augment the validation set as well as the training set is a bone of contention.\n",
    "\n",
    "https://stats.stackexchange.com/questions/320800/data-augmentation-on-training-set-only/320967#320967\n",
    "\n",
    "On the one hand augmenting just the training is done to reduce overfitting and improve generalisation but if the augmentation is introducing samples which are different and therefore make the training set not representative, it will not perform well when it sees the validation set which does not contain the augmented samples. Some argue that the validation set should be taken from the augmented data to get a proper comparison. Performance on the validation set helps to determine which model to use. \n",
    "\n",
    "Based on reading the opinions from links such as above, a decision was taken to follow the usual practice of only augmenting the training data.\n",
    "\n",
    "Cross validation is difficult here as the folds result in augmented data leaking into the test portion so instead the models are run ten times and an average accuracy taken based on that."
   ]
  },
  {
   "cell_type": "code",
   "execution_count": 205,
   "id": "8e9bd672",
   "metadata": {},
   "outputs": [
    {
     "data": {
      "text/html": [
       "<div>\n",
       "<style scoped>\n",
       "    .dataframe tbody tr th:only-of-type {\n",
       "        vertical-align: middle;\n",
       "    }\n",
       "\n",
       "    .dataframe tbody tr th {\n",
       "        vertical-align: top;\n",
       "    }\n",
       "\n",
       "    .dataframe thead th {\n",
       "        text-align: right;\n",
       "    }\n",
       "</style>\n",
       "<table border=\"1\" class=\"dataframe\">\n",
       "  <thead>\n",
       "    <tr style=\"text-align: right;\">\n",
       "      <th></th>\n",
       "      <th>Nouns</th>\n",
       "      <th>Aspect</th>\n",
       "    </tr>\n",
       "  </thead>\n",
       "  <tbody>\n",
       "    <tr>\n",
       "      <th>1500</th>\n",
       "      <td>price stall shop</td>\n",
       "      <td>Value</td>\n",
       "    </tr>\n",
       "    <tr>\n",
       "      <th>616</th>\n",
       "      <td>walk</td>\n",
       "      <td>Nature</td>\n",
       "    </tr>\n",
       "    <tr>\n",
       "      <th>283</th>\n",
       "      <td>visit museum</td>\n",
       "      <td>History</td>\n",
       "    </tr>\n",
       "    <tr>\n",
       "      <th>1029</th>\n",
       "      <td>staff</td>\n",
       "      <td>Staff&amp;Service</td>\n",
       "    </tr>\n",
       "    <tr>\n",
       "      <th>1292</th>\n",
       "      <td>value money</td>\n",
       "      <td>Value</td>\n",
       "    </tr>\n",
       "  </tbody>\n",
       "</table>\n",
       "</div>"
      ],
      "text/plain": [
       "                 Nouns         Aspect\n",
       "1500  price stall shop          Value\n",
       "616               walk         Nature\n",
       "283       visit museum        History\n",
       "1029             staff  Staff&Service\n",
       "1292       value money          Value"
      ]
     },
     "execution_count": 205,
     "metadata": {},
     "output_type": "execute_result"
    }
   ],
   "source": [
    "# Concat and shuffle the training data\n",
    "attract_eda = pd.concat([X_train_attract,y_train_attract],axis = 1)\n",
    "attract_eda = attract_eda.sample(frac=1)\n",
    "attract_eda.head()"
   ]
  },
  {
   "cell_type": "code",
   "execution_count": 206,
   "id": "69467506",
   "metadata": {},
   "outputs": [
    {
     "data": {
      "text/plain": [
       "(1320, 2)"
      ]
     },
     "execution_count": 206,
     "metadata": {},
     "output_type": "execute_result"
    }
   ],
   "source": [
    "attract_eda.shape"
   ]
  },
  {
   "cell_type": "code",
   "execution_count": 207,
   "id": "170c0429",
   "metadata": {},
   "outputs": [
    {
     "data": {
      "text/plain": [
       "1    632\n",
       "2    401\n",
       "3    175\n",
       "4     69\n",
       "5     24\n",
       "6     13\n",
       "7      4\n",
       "8      1\n",
       "9      1\n",
       "Name: Count, dtype: int64"
      ]
     },
     "execution_count": 207,
     "metadata": {},
     "output_type": "execute_result"
    }
   ],
   "source": [
    "# Get number of words in each row, split dataframes into those with more than 1 word and those with 1\n",
    "attract_eda[\"Count\"] = attract_eda[\"Nouns\"].apply(lambda x: len(x.split()))\n",
    "attract_eda[\"Count\"].value_counts()"
   ]
  },
  {
   "cell_type": "markdown",
   "id": "b752f6d8",
   "metadata": {},
   "source": [
    "Most lines have just one word and those with more than one word have mostly two - this will inform the augmentation process"
   ]
  },
  {
   "cell_type": "markdown",
   "id": "3ea1929c",
   "metadata": {},
   "source": [
    "## Functions"
   ]
  },
  {
   "cell_type": "code",
   "execution_count": 208,
   "id": "32353688",
   "metadata": {},
   "outputs": [],
   "source": [
    "# Functions to run various data augmentation functions separately on the original dataframe (DO EACH STEP SEPARATELY NOT WITH\n",
    "#SINGLE FUNCTION)\n",
    "\n",
    "def aug(df):\n",
    "    \n",
    "    insertion = pd.DataFrame(df[\"Nouns\"].apply(lambda x: t.random_insertion(x, n = 1)))\n",
    "    insertion = pd.concat([insertion,df.Aspect],axis = 1)\n",
    "    insertion = insertion.append(df)\n",
    " \n",
    "    replaced = pd.DataFrame(df[\"Nouns\"].apply(lambda x: t.synonym_replacement(x, n = 1)))\n",
    "    replaced = pd.concat([replaced,df.Aspect],axis = 1)\n",
    "    replaced = replaced.append(df)\n",
    "\n",
    "    swapped = pd.DataFrame(df[\"Nouns\"].apply(lambda x: t.random_swap(x,n  = 1)))\n",
    "    swapped = pd.concat([swapped,df.Aspect],axis = 1)\n",
    "    swapped = swapped.append(df)\n",
    "\n",
    "    swapped[\"Count\"] = swapped[\"Nouns\"].apply(lambda x: len(x.split()))\n",
    "    equal_one = swapped[swapped[\"Count\"]==1].reset_index()\n",
    "    more_one = swapped[swapped[\"Count\"]>1].reset_index()\n",
    "\n",
    "    deleted = pd.DataFrame(more_one[\"Nouns\"].apply(lambda x: t.random_deletion(x,p = 0.2)))\n",
    "    deleted = pd.concat([deleted,more_one.Aspect],axis = 1,ignore_index=True)\n",
    "    deleted.columns = [\"Nouns\",\"Aspect\"]\n",
    "\n",
    "    equal_one.drop(columns = \"Count\",axis = 1, inplace = True)\n",
    "    equal_one = equal_one.set_index(\"index\")\n",
    "    deleted = deleted.append(equal_one)\n",
    "    #deleted = deleted.append(df)\n",
    "   \n",
    "    return insertion, replaced, swapped, deleted"
   ]
  },
  {
   "cell_type": "code",
   "execution_count": 209,
   "id": "1adb2ca4",
   "metadata": {},
   "outputs": [],
   "source": [
    "# Function to create the training set based on the new augmented dataset and then tokenize and binarize the validation and test sets\n",
    "# based on these new training sets.\n",
    "\n",
    "def proc_aug(df, X_val, y_val, X_test, y_test):\n",
    "    \n",
    "    # Set new X_train and y_train\n",
    "    X_train2 = df[\"Nouns\"]\n",
    "    y_train2 = df[\"Aspect\"]\n",
    "\n",
    "    # Encode new X_train, old X_val and old X_test\n",
    "    tokenizer = Tokenizer(num_words = 10000)\n",
    "    tokenizer.fit_on_texts(X_train2)\n",
    "    X_train_s = tokenizer.texts_to_sequences(X_train2)\n",
    "    X_val_s = tokenizer.texts_to_sequences(X_val)\n",
    "    X_test_s = tokenizer.texts_to_sequences(X_attract)\n",
    "    X_train_w = pad_sequences(np.array(X_train_s, dtype = \"object\"),maxlen = 20, padding = \"post\",truncating = \"post\", value = 0.0)\n",
    "    X_val_w = pad_sequences(np.array(X_val_s, dtype = \"object\"),maxlen = 20, padding = \"post\",truncating = \"post\", value = 0.0)\n",
    "    X_test_w = pad_sequences(np.array(X_test_s, dtype = \"object\"),maxlen = 20, padding = \"post\",truncating = \"post\", value = 0.0)\n",
    "\n",
    "    # Encode new y_train and old y_val and old y_test\n",
    "    binarizer = preprocessing.LabelBinarizer()\n",
    "    y_train_e = binarizer.fit_transform(y_train2)\n",
    "    y_val_e = binarizer.fit_transform(y_val)\n",
    "    y_test_e = binarizer.fit_transform(y_test)\n",
    "            \n",
    "    return X_train_w, y_train_e, X_val_w, y_val_e, X_test_w, y_test_e"
   ]
  },
  {
   "cell_type": "code",
   "execution_count": 210,
   "id": "8ea895b1",
   "metadata": {},
   "outputs": [],
   "source": [
    "# Define parameters - increase the input dim to match the tokenizer above\n",
    "\n",
    "input_dim = 6000\n",
    "output_dim = 16\n",
    "input_length = 20\n",
    "batch_size = 16\n",
    "epochs = 50\n",
    "class_weights_attract = {0:cw_attract[0],1:cw_attract[1],2:cw_attract[2],3:cw_attract[3],4:cw_attract[4],5:cw_attract[5],6:cw_attract[6]}\n",
    "class_weights = class_weights_attract\n",
    "\n",
    "output_dir = out('model_output/AttractAspectModelsAug1')\n",
    "callbacks = call(output_dir,5)"
   ]
  },
  {
   "cell_type": "markdown",
   "id": "99764256",
   "metadata": {},
   "source": [
    "## Random insertion"
   ]
  },
  {
   "cell_type": "code",
   "execution_count": 211,
   "id": "2b1c9857",
   "metadata": {},
   "outputs": [
    {
     "data": {
      "text/plain": [
       "'tasty food service'"
      ]
     },
     "execution_count": 211,
     "metadata": {},
     "output_type": "execute_result"
    }
   ],
   "source": [
    "# Import easy data augmentation package and set test sentence\n",
    "\n",
    "from textaugment import EDA\n",
    "t = EDA()\n",
    "\n",
    "test = \"tasty food service\"\n",
    "test"
   ]
  },
  {
   "cell_type": "code",
   "execution_count": 212,
   "id": "a98801c0",
   "metadata": {},
   "outputs": [
    {
     "data": {
      "text/plain": [
       "'religious service tasty food service'"
      ]
     },
     "execution_count": 212,
     "metadata": {},
     "output_type": "execute_result"
    }
   ],
   "source": [
    "# Random insertion one word\n",
    "t.random_insertion(test, n = 1)"
   ]
  },
  {
   "cell_type": "code",
   "execution_count": 213,
   "id": "e6d85597",
   "metadata": {},
   "outputs": [
    {
     "name": "stdout",
     "output_type": "stream",
     "text": [
      "(2640, 3) (2640, 3) (2640, 3) (2640, 2)\n"
     ]
    }
   ],
   "source": [
    "# Run  augmentation function on the accommodation data\n",
    "insertion, replaced, swapped, deleted = aug(attract_eda)\n",
    "print(insertion.shape, replaced.shape, swapped.shape, deleted.shape)"
   ]
  },
  {
   "cell_type": "code",
   "execution_count": 214,
   "id": "8acd2130",
   "metadata": {},
   "outputs": [],
   "source": [
    "# Run encoding function on the augmented data and the original validation and test data\n",
    "X_train_attract_w, y_train_attract_e, X_val_attract_w, y_val_attract_e, X_test_attract_w, y_test_attract_e = proc_aug(insertion, X_val_attract, y_val_attract, X_test_attract, y_val_attract)"
   ]
  },
  {
   "cell_type": "code",
   "execution_count": 215,
   "id": "fadc0841",
   "metadata": {},
   "outputs": [
    {
     "name": "stdout",
     "output_type": "stream",
     "text": [
      "Epoch 1/50\n",
      "165/165 - 0s - loss: 1.8842 - accuracy: 0.2015 - val_loss: 1.6696 - val_accuracy: 0.2242\n",
      "Epoch 2/50\n",
      "165/165 - 0s - loss: 0.8049 - accuracy: 0.7083 - val_loss: 0.6492 - val_accuracy: 0.8424\n",
      "Epoch 3/50\n",
      "165/165 - 0s - loss: 0.2305 - accuracy: 0.9379 - val_loss: 0.6295 - val_accuracy: 0.8485\n",
      "Epoch 4/50\n",
      "165/165 - 0s - loss: 0.1112 - accuracy: 0.9727 - val_loss: 0.6173 - val_accuracy: 0.8667\n",
      "Epoch 5/50\n",
      "165/165 - 0s - loss: 0.0611 - accuracy: 0.9833 - val_loss: 0.7847 - val_accuracy: 0.8667\n",
      "Epoch 6/50\n",
      "165/165 - 0s - loss: 0.0587 - accuracy: 0.9867 - val_loss: 0.7564 - val_accuracy: 0.8606\n",
      "Epoch 7/50\n",
      "165/165 - 0s - loss: 0.0474 - accuracy: 0.9890 - val_loss: 0.8504 - val_accuracy: 0.8485\n",
      "Epoch 8/50\n",
      "165/165 - 0s - loss: 0.0337 - accuracy: 0.9913 - val_loss: 0.8121 - val_accuracy: 0.8727\n",
      "Epoch 9/50\n",
      "165/165 - 0s - loss: 0.0224 - accuracy: 0.9943 - val_loss: 0.7733 - val_accuracy: 0.8667\n",
      "\n",
      "\n",
      "\n",
      "83/83 [==============================] - 0s 963us/step - loss: 0.0085 - accuracy: 0.9977\n",
      "[0.008508407510817051, 0.9977272748947144]\n",
      "6/6 [==============================] - 0s 1ms/step - loss: 0.7733 - accuracy: 0.8667\n",
      "[0.7732868790626526, 0.8666666746139526]\n",
      "\n",
      "\n",
      "\n"
     ]
    },
    {
     "data": {
      "image/png": "[encoded data removed]",
      "text/plain": [
       "<Figure size 864x360 with 2 Axes>"
      ]
     },
     "metadata": {},
     "output_type": "display_data"
    }
   ],
   "source": [
    "# Run model using the word embeddings and the target encoded as one-hot encoding\n",
    "model_attract_insert = create_model_a()\n",
    "run_mod(model_attract_insert, X_train_attract_w, X_val_attract_w, y_train_attract_e, y_val_attract_e)"
   ]
  },
  {
   "cell_type": "code",
   "execution_count": 216,
   "id": "47119658",
   "metadata": {},
   "outputs": [],
   "source": [
    "# Run model through ten times and get the average validation accuracy and training accuracy\n",
    "\n",
    "def evaluation(model, X_train, X_val, y_train, y_val):\n",
    "    train_acc = []\n",
    "    val_acc = []\n",
    "    for i in range(1,11):\n",
    "        history = model.fit(X_train, y_train,epochs = epochs,verbose = 0,callbacks = callbacks,validation_data = (X_val, y_val),\n",
    "                            batch_size = batch_size,class_weight = class_weights)\n",
    "        train_acc.append(model.evaluate(X_train, y_train)[1])\n",
    "        val_acc.append(model.evaluate(X_val, y_val)[1])\n",
    "        train_acc_mean = sum(train_acc)/10\n",
    "        val_acc_mean = sum(val_acc)/10\n",
    "        \n",
    "    return train_acc_mean,val_acc_mean\n",
    "    "
   ]
  },
  {
   "cell_type": "code",
   "execution_count": 217,
   "id": "539c0d56",
   "metadata": {},
   "outputs": [
    {
     "name": "stdout",
     "output_type": "stream",
     "text": [
      "83/83 [==============================] - 0s 1ms/step - loss: 0.0038 - accuracy: 0.9977\n",
      "6/6 [==============================] - 0s 1ms/step - loss: 0.9713 - accuracy: 0.8788\n",
      "83/83 [==============================] - 0s 1ms/step - loss: 0.0051 - accuracy: 0.9977\n",
      "6/6 [==============================] - 0s 1ms/step - loss: 0.8823 - accuracy: 0.8788\n",
      "83/83 [==============================] - 0s 1ms/step - loss: 0.0043 - accuracy: 0.9977\n",
      "6/6 [==============================] - 0s 1ms/step - loss: 1.1352 - accuracy: 0.8727\n",
      " 1/83 [..............................] - ETA: 0s - loss: 2.6450e-07 - accuracy: 1.0000WARNING:tensorflow:Callbacks method `on_test_batch_end` is slow compared to the batch time (batch time: 0.0000s vs `on_test_batch_end` time: 0.0147s). Check your callbacks.\n",
      "83/83 [==============================] - 0s 1ms/step - loss: 0.0039 - accuracy: 0.9977\n",
      "6/6 [==============================] - 0s 1ms/step - loss: 1.5962 - accuracy: 0.8545\n",
      "83/83 [==============================] - 0s 1ms/step - loss: 0.0036 - accuracy: 0.9977\n",
      "6/6 [==============================] - 0s 0s/step - loss: 1.5865 - accuracy: 0.8788\n",
      "83/83 [==============================] - 0s 922us/step - loss: 0.0038 - accuracy: 0.9977\n",
      "6/6 [==============================] - 0s 1ms/step - loss: 1.7025 - accuracy: 0.8727\n",
      "83/83 [==============================] - 0s 867us/step - loss: 0.0035 - accuracy: 0.9977\n",
      "6/6 [==============================] - 0s 1ms/step - loss: 1.8854 - accuracy: 0.8727\n",
      "83/83 [==============================] - 0s 976us/step - loss: 0.0040 - accuracy: 0.9977\n",
      "6/6 [==============================] - 0s 1ms/step - loss: 1.9967 - accuracy: 0.8303\n",
      "83/83 [==============================] - 0s 961us/step - loss: 0.0038 - accuracy: 0.9977\n",
      "6/6 [==============================] - 0s 0s/step - loss: 2.1522 - accuracy: 0.8727\n",
      "83/83 [==============================] - 0s 1ms/step - loss: 0.0035 - accuracy: 0.9977\n",
      "6/6 [==============================] - 0s 1ms/step - loss: 2.5406 - accuracy: 0.8848\n"
     ]
    },
    {
     "data": {
      "text/plain": [
       "(0.9977272748947144, 0.869696968793869)"
      ]
     },
     "execution_count": 217,
     "metadata": {},
     "output_type": "execute_result"
    }
   ],
   "source": [
    "evaluation(model_attract_insert, X_train_attract_w, X_val_attract_w, y_train_attract_e, y_val_attract_e)"
   ]
  },
  {
   "cell_type": "markdown",
   "id": "be55e794",
   "metadata": {},
   "source": [
    "###  Synonym replacement"
   ]
  },
  {
   "cell_type": "code",
   "execution_count": 218,
   "id": "c43cf5a8",
   "metadata": {},
   "outputs": [
    {
     "data": {
      "text/plain": [
       "'tasty food help'"
      ]
     },
     "execution_count": 218,
     "metadata": {},
     "output_type": "execute_result"
    }
   ],
   "source": [
    "# Run synonym replacement\n",
    "t.synonym_replacement(test,n = 1)"
   ]
  },
  {
   "cell_type": "code",
   "execution_count": 219,
   "id": "34ff2350",
   "metadata": {},
   "outputs": [
    {
     "name": "stdout",
     "output_type": "stream",
     "text": [
      "Epoch 1/50\n",
      "165/165 - 0s - loss: 1.9393 - accuracy: 0.1383 - val_loss: 1.8315 - val_accuracy: 0.3152\n",
      "Epoch 2/50\n",
      "165/165 - 0s - loss: 1.2943 - accuracy: 0.4636 - val_loss: 1.0644 - val_accuracy: 0.6788\n",
      "Epoch 3/50\n",
      "165/165 - 0s - loss: 0.5623 - accuracy: 0.8019 - val_loss: 1.1242 - val_accuracy: 0.8000\n",
      "Epoch 4/50\n",
      "165/165 - 0s - loss: 0.2800 - accuracy: 0.9182 - val_loss: 1.1877 - val_accuracy: 0.8364\n",
      "Epoch 5/50\n",
      "165/165 - 0s - loss: 0.1480 - accuracy: 0.9614 - val_loss: 1.4211 - val_accuracy: 0.8303\n",
      "Epoch 6/50\n",
      "165/165 - 0s - loss: 0.1224 - accuracy: 0.9667 - val_loss: 1.3123 - val_accuracy: 0.8424\n",
      "Epoch 7/50\n",
      "165/165 - 0s - loss: 0.0846 - accuracy: 0.9769 - val_loss: 1.2046 - val_accuracy: 0.8364\n",
      "\n",
      "\n",
      "\n",
      "83/83 [==============================] - 0s 963us/step - loss: 0.0410 - accuracy: 0.9913\n",
      "[0.04095028340816498, 0.991287887096405]\n",
      "6/6 [==============================] - 0s 1ms/step - loss: 1.2046 - accuracy: 0.8364\n",
      "[1.2046079635620117, 0.8363636136054993]\n",
      "\n",
      "\n",
      "\n"
     ]
    },
    {
     "data": {
      "image/png": "[encoded data removed]",
      "text/plain": [
       "<Figure size 864x360 with 2 Axes>"
      ]
     },
     "metadata": {},
     "output_type": "display_data"
    }
   ],
   "source": [
    "# Run  augmentation and encoding function on the accommodation data\n",
    "output_dir = out('model_output/AttractAspectModelsAug2')\n",
    "X_train_attract_w, y_train_attract_e, X_val_attract_w, y_val_attract_e, X_test_attract_w, y_test_attract_e = proc_aug(replaced, X_val_attract, y_val_attract, X_test_attract, y_val_attract)\n",
    "model_attract_replace = create_model_a()\n",
    "history_attract_replace = run_mod(model_attract_replace, X_train_attract_w, X_val_attract_w, y_train_attract_e, y_val_attract_e)"
   ]
  },
  {
   "cell_type": "code",
   "execution_count": 220,
   "id": "b4c67d83",
   "metadata": {},
   "outputs": [
    {
     "name": "stdout",
     "output_type": "stream",
     "text": [
      "83/83 [==============================] - 0s 1ms/step - loss: 0.0168 - accuracy: 0.9932\n",
      "6/6 [==============================] - 0s 1ms/step - loss: 1.2279 - accuracy: 0.8485\n",
      "83/83 [==============================] - 0s 867us/step - loss: 0.0210 - accuracy: 0.9928\n",
      "6/6 [==============================] - 0s 1ms/step - loss: 1.5619 - accuracy: 0.8485\n",
      "83/83 [==============================] - 0s 876us/step - loss: 0.0186 - accuracy: 0.9924\n",
      "6/6 [==============================] - 0s 1ms/step - loss: 1.3583 - accuracy: 0.8667\n",
      "83/83 [==============================] - 0s 943us/step - loss: 0.0142 - accuracy: 0.9928\n",
      "6/6 [==============================] - 0s 1ms/step - loss: 1.5961 - accuracy: 0.8364\n",
      "83/83 [==============================] - 0s 1ms/step - loss: 0.0143 - accuracy: 0.9936\n",
      "6/6 [==============================] - 0s 1ms/step - loss: 1.6226 - accuracy: 0.8545\n",
      "83/83 [==============================] - 0s 940us/step - loss: 0.0167 - accuracy: 0.9928\n",
      "6/6 [==============================] - 0s 0s/step - loss: 1.9743 - accuracy: 0.8424\n",
      "83/83 [==============================] - 0s 1ms/step - loss: 0.0125 - accuracy: 0.9932\n",
      "6/6 [==============================] - 0s 1ms/step - loss: 1.8422 - accuracy: 0.8485\n",
      "83/83 [==============================] - 0s 1ms/step - loss: 0.0130 - accuracy: 0.9932\n",
      "6/6 [==============================] - 0s 1ms/step - loss: 1.9863 - accuracy: 0.8485\n",
      "83/83 [==============================] - 0s 1ms/step - loss: 0.0127 - accuracy: 0.9920\n",
      "6/6 [==============================] - 0s 1ms/step - loss: 2.0867 - accuracy: 0.8545\n",
      "83/83 [==============================] - 0s 1ms/step - loss: 0.0119 - accuracy: 0.9932\n",
      "6/6 [==============================] - 0s 1ms/step - loss: 2.3582 - accuracy: 0.8606\n"
     ]
    },
    {
     "data": {
      "text/plain": [
       "(0.9929166734218597, 0.8509091019630433)"
      ]
     },
     "execution_count": 220,
     "metadata": {},
     "output_type": "execute_result"
    }
   ],
   "source": [
    "evaluation(model_attract_replace, X_train_attract_w, X_val_attract_w, y_train_attract_e, y_val_attract_e)"
   ]
  },
  {
   "cell_type": "markdown",
   "id": "b1446f43",
   "metadata": {},
   "source": [
    "### Random swap"
   ]
  },
  {
   "cell_type": "markdown",
   "id": "3643741b",
   "metadata": {},
   "source": [
    "Randomly swap two words in the augmented text"
   ]
  },
  {
   "cell_type": "code",
   "execution_count": 221,
   "id": "63e3aef8",
   "metadata": {},
   "outputs": [
    {
     "data": {
      "text/plain": [
       "'tasty service food'"
      ]
     },
     "execution_count": 221,
     "metadata": {},
     "output_type": "execute_result"
    }
   ],
   "source": [
    "# Randomly swap words in the sentence \n",
    "t.random_swap(test, n = 1)"
   ]
  },
  {
   "cell_type": "code",
   "execution_count": 222,
   "id": "9a82f832",
   "metadata": {},
   "outputs": [
    {
     "name": "stdout",
     "output_type": "stream",
     "text": [
      "Epoch 1/50\n",
      "165/165 - 0s - loss: 1.9204 - accuracy: 0.2042 - val_loss: 1.6887 - val_accuracy: 0.3273\n",
      "Epoch 2/50\n",
      "165/165 - 0s - loss: 0.8726 - accuracy: 0.6871 - val_loss: 0.6538 - val_accuracy: 0.8364\n",
      "Epoch 3/50\n",
      "165/165 - 0s - loss: 0.2285 - accuracy: 0.9299 - val_loss: 0.7944 - val_accuracy: 0.8606\n",
      "Epoch 4/50\n",
      "165/165 - 0s - loss: 0.0955 - accuracy: 0.9754 - val_loss: 0.9969 - val_accuracy: 0.8606\n",
      "Epoch 5/50\n",
      "165/165 - 0s - loss: 0.0643 - accuracy: 0.9830 - val_loss: 0.8732 - val_accuracy: 0.8485\n",
      "Epoch 6/50\n",
      "165/165 - 0s - loss: 0.0577 - accuracy: 0.9848 - val_loss: 0.9068 - val_accuracy: 0.8545\n",
      "Epoch 7/50\n",
      "165/165 - 0s - loss: 0.0406 - accuracy: 0.9883 - val_loss: 0.8476 - val_accuracy: 0.8667\n",
      "\n",
      "\n",
      "\n",
      "83/83 [==============================] - 0s 994us/step - loss: 0.0135 - accuracy: 0.9955\n",
      "[0.013475126586854458, 0.9954545497894287]\n",
      "6/6 [==============================] - 0s 1ms/step - loss: 0.8476 - accuracy: 0.8667\n",
      "[0.8475731015205383, 0.8666666746139526]\n",
      "\n",
      "\n",
      "\n"
     ]
    },
    {
     "data": {
      "image/png": "[encoded data removed]",
      "text/plain": [
       "<Figure size 864x360 with 2 Axes>"
      ]
     },
     "metadata": {},
     "output_type": "display_data"
    }
   ],
   "source": [
    "# Run  augmentation and encoding function on the accommodation data\n",
    "output_dir = out('model_output/AttractAspectModelsAug3')\n",
    "X_train_attract_w, y_train_attract_e, X_val_attract_w, y_val_attract_e, X_test_attract_w, y_test_attract_e = proc_aug(swapped, X_val_attract, y_val_attract, X_test_attract, y_val_attract)\n",
    "model_attract_swap = create_model_a()\n",
    "history_attract_swap = run_mod(model_attract_swap, X_train_attract_w, X_val_attract_w, y_train_attract_e, y_val_attract_e)"
   ]
  },
  {
   "cell_type": "code",
   "execution_count": 223,
   "id": "99bbc904",
   "metadata": {},
   "outputs": [
    {
     "name": "stdout",
     "output_type": "stream",
     "text": [
      "83/83 [==============================] - 0s 1ms/step - loss: 0.0090 - accuracy: 0.9970\n",
      "6/6 [==============================] - 0s 1ms/step - loss: 1.1676 - accuracy: 0.8727\n",
      "83/83 [==============================] - 0s 963us/step - loss: 0.0078 - accuracy: 0.9970\n",
      "6/6 [==============================] - 0s 1ms/step - loss: 1.0137 - accuracy: 0.8788\n",
      "83/83 [==============================] - 0s 832us/step - loss: 0.0119 - accuracy: 0.9962\n",
      "6/6 [==============================] - 0s 1ms/step - loss: 1.0904 - accuracy: 0.8606\n",
      " 1/83 [..............................] - ETA: 0s - loss: 1.2889e-06 - accuracy: 1.0000WARNING:tensorflow:Callbacks method `on_test_batch_end` is slow compared to the batch time (batch time: 0.0000s vs `on_test_batch_end` time: 0.0065s). Check your callbacks.\n",
      "83/83 [==============================] - 0s 970us/step - loss: 0.0062 - accuracy: 0.9970\n",
      "6/6 [==============================] - 0s 1ms/step - loss: 1.4698 - accuracy: 0.8727\n",
      "83/83 [==============================] - 0s 1ms/step - loss: 0.0053 - accuracy: 0.9970\n",
      "6/6 [==============================] - 0s 1ms/step - loss: 1.2935 - accuracy: 0.8788\n",
      "83/83 [==============================] - 0s 939us/step - loss: 0.0054 - accuracy: 0.9970\n",
      "6/6 [==============================] - 0s 0s/step - loss: 1.8792 - accuracy: 0.8667\n",
      "83/83 [==============================] - 0s 963us/step - loss: 0.0061 - accuracy: 0.9970\n",
      "6/6 [==============================] - 0s 1ms/step - loss: 1.7296 - accuracy: 0.8788\n",
      "83/83 [==============================] - 0s 987us/step - loss: 0.0048 - accuracy: 0.9970\n",
      "6/6 [==============================] - 0s 1ms/step - loss: 1.6167 - accuracy: 0.8848\n",
      "83/83 [==============================] - 0s 1ms/step - loss: 0.0056 - accuracy: 0.9970\n",
      "6/6 [==============================] - 0s 1ms/step - loss: 1.8491 - accuracy: 0.8727\n",
      "83/83 [==============================] - 0s 1ms/step - loss: 0.0044 - accuracy: 0.9970\n",
      "6/6 [==============================] - 0s 1ms/step - loss: 1.9575 - accuracy: 0.8727\n"
     ]
    },
    {
     "data": {
      "text/plain": [
       "(0.9968939423561096, 0.8739393949508667)"
      ]
     },
     "execution_count": 223,
     "metadata": {},
     "output_type": "execute_result"
    }
   ],
   "source": [
    "evaluation(model_attract_swap, X_train_attract_w, X_val_attract_w, y_train_attract_e, y_val_attract_e)"
   ]
  },
  {
   "cell_type": "markdown",
   "id": "4a7be90d",
   "metadata": {},
   "source": [
    "## Random deletion"
   ]
  },
  {
   "cell_type": "markdown",
   "id": "d7a94a64",
   "metadata": {},
   "source": [
    "Randomly delete words with a certain probability"
   ]
  },
  {
   "cell_type": "code",
   "execution_count": 224,
   "id": "2c05746f",
   "metadata": {},
   "outputs": [
    {
     "data": {
      "text/plain": [
       "'food service'"
      ]
     },
     "execution_count": 224,
     "metadata": {},
     "output_type": "execute_result"
    }
   ],
   "source": [
    "# Delete a random word in the sentence with a probability of 0.2 \n",
    "t.random_deletion(test, p=0.2)"
   ]
  },
  {
   "cell_type": "code",
   "execution_count": 225,
   "id": "7db2690c",
   "metadata": {},
   "outputs": [
    {
     "name": "stdout",
     "output_type": "stream",
     "text": [
      "Epoch 1/50\n",
      "165/165 - 0s - loss: 1.9046 - accuracy: 0.2072 - val_loss: 1.5430 - val_accuracy: 0.3273\n",
      "Epoch 2/50\n",
      "165/165 - 0s - loss: 1.0629 - accuracy: 0.5591 - val_loss: 0.9022 - val_accuracy: 0.7636\n",
      "Epoch 3/50\n",
      "165/165 - 0s - loss: 0.5500 - accuracy: 0.8284 - val_loss: 0.6609 - val_accuracy: 0.8182\n",
      "Epoch 4/50\n",
      "165/165 - 0s - loss: 0.3083 - accuracy: 0.9235 - val_loss: 0.7643 - val_accuracy: 0.8485\n",
      "Epoch 5/50\n",
      "165/165 - 0s - loss: 0.2039 - accuracy: 0.9534 - val_loss: 0.6874 - val_accuracy: 0.8606\n",
      "Epoch 6/50\n",
      "165/165 - 0s - loss: 0.1669 - accuracy: 0.9602 - val_loss: 0.7244 - val_accuracy: 0.8485\n",
      "Epoch 7/50\n",
      "165/165 - 0s - loss: 0.1661 - accuracy: 0.9682 - val_loss: 0.6198 - val_accuracy: 0.8606\n",
      "Epoch 8/50\n",
      "165/165 - 0s - loss: 0.1346 - accuracy: 0.9674 - val_loss: 0.6536 - val_accuracy: 0.8606\n",
      "Epoch 9/50\n",
      "165/165 - 0s - loss: 0.1170 - accuracy: 0.9746 - val_loss: 0.6298 - val_accuracy: 0.8606\n",
      "Epoch 10/50\n",
      "165/165 - 0s - loss: 0.1093 - accuracy: 0.9765 - val_loss: 0.6677 - val_accuracy: 0.8667\n",
      "Epoch 11/50\n",
      "165/165 - 0s - loss: 0.1093 - accuracy: 0.9735 - val_loss: 0.6128 - val_accuracy: 0.8848\n",
      "Epoch 12/50\n",
      "165/165 - 0s - loss: 0.0977 - accuracy: 0.9765 - val_loss: 0.6586 - val_accuracy: 0.8667\n",
      "Epoch 13/50\n",
      "165/165 - 0s - loss: 0.1008 - accuracy: 0.9765 - val_loss: 0.6798 - val_accuracy: 0.8727\n",
      "Epoch 14/50\n",
      "165/165 - 0s - loss: 0.1025 - accuracy: 0.9765 - val_loss: 0.7619 - val_accuracy: 0.8545\n",
      "Epoch 15/50\n",
      "165/165 - 0s - loss: 0.0895 - accuracy: 0.9799 - val_loss: 0.7337 - val_accuracy: 0.8727\n",
      "Epoch 16/50\n",
      "165/165 - 0s - loss: 0.0891 - accuracy: 0.9780 - val_loss: 0.7130 - val_accuracy: 0.8848\n",
      "\n",
      "\n",
      "\n",
      "83/83 [==============================] - 0s 963us/step - loss: 0.0587 - accuracy: 0.9837\n",
      "[0.058719564229249954, 0.9837121367454529]\n",
      "6/6 [==============================] - 0s 0s/step - loss: 0.7130 - accuracy: 0.8848\n",
      "[0.7130043506622314, 0.8848484754562378]\n",
      "\n",
      "\n",
      "\n"
     ]
    },
    {
     "data": {
      "image/png": "[encoded data removed]",
      "text/plain": [
       "<Figure size 864x360 with 2 Axes>"
      ]
     },
     "metadata": {},
     "output_type": "display_data"
    }
   ],
   "source": [
    "# Run  augmentation and encoding function on the accommodation data\n",
    "output_dir = out('model_output/AttractAspectModelsAug4')\n",
    "X_train_attract_w, y_train_attract_e, X_val_attract_w, y_val_attract_e, X_test_attract_w, y_test_attract_e = proc_aug(deleted, X_val_attract, y_val_attract, X_test_attract, y_val_attract)\n",
    "model_attract_delete = create_model_a()\n",
    "history_attract_del = run_mod(model_attract_delete, X_train_attract_w, X_val_attract_w, y_train_attract_e, y_val_attract_e)"
   ]
  },
  {
   "cell_type": "code",
   "execution_count": 226,
   "id": "923917ba",
   "metadata": {},
   "outputs": [
    {
     "name": "stdout",
     "output_type": "stream",
     "text": [
      "83/83 [==============================] - 0s 832us/step - loss: 0.0491 - accuracy: 0.9856\n",
      "6/6 [==============================] - 0s 1ms/step - loss: 0.9450 - accuracy: 0.8788\n",
      "83/83 [==============================] - 0s 1ms/step - loss: 0.0540 - accuracy: 0.9848\n",
      "6/6 [==============================] - 0s 1ms/step - loss: 1.0130 - accuracy: 0.8545\n",
      "83/83 [==============================] - 0s 867us/step - loss: 0.0481 - accuracy: 0.9860\n",
      "6/6 [==============================] - 0s 1ms/step - loss: 1.0447 - accuracy: 0.8182\n",
      "83/83 [==============================] - 0s 963us/step - loss: 0.0483 - accuracy: 0.9852\n",
      "6/6 [==============================] - 0s 1ms/step - loss: 1.1628 - accuracy: 0.8788\n",
      "83/83 [==============================] - 0s 971us/step - loss: 0.0466 - accuracy: 0.9867\n",
      "6/6 [==============================] - 0s 0s/step - loss: 1.2338 - accuracy: 0.8788\n",
      "83/83 [==============================] - 0s 1ms/step - loss: 0.0416 - accuracy: 0.9864\n",
      "6/6 [==============================] - 0s 1ms/step - loss: 1.2520 - accuracy: 0.8788\n",
      "83/83 [==============================] - 0s 981us/step - loss: 0.0419 - accuracy: 0.9860\n",
      "6/6 [==============================] - 0s 1ms/step - loss: 1.4239 - accuracy: 0.8424\n",
      "83/83 [==============================] - 0s 903us/step - loss: 0.0425 - accuracy: 0.9841\n",
      "6/6 [==============================] - 0s 1ms/step - loss: 1.4144 - accuracy: 0.8485\n",
      "83/83 [==============================] - 0s 705us/step - loss: 0.0398 - accuracy: 0.9860\n",
      "6/6 [==============================] - 0s 1ms/step - loss: 1.7429 - accuracy: 0.8727\n",
      "83/83 [==============================] - 0s 815us/step - loss: 0.0393 - accuracy: 0.9864\n",
      "6/6 [==============================] - 0s 1ms/step - loss: 1.8767 - accuracy: 0.8848\n"
     ]
    },
    {
     "data": {
      "text/plain": [
       "(0.9857197105884552, 0.8636363625526429)"
      ]
     },
     "execution_count": 226,
     "metadata": {},
     "output_type": "execute_result"
    }
   ],
   "source": [
    "evaluation(model_attract_delete, X_train_attract_w, X_val_attract_w, y_train_attract_e, y_val_attract_e)"
   ]
  },
  {
   "cell_type": "markdown",
   "id": "25453795",
   "metadata": {},
   "source": [
    "* Random insertion and synonym replacement seem to work the best of the augmented methods\n",
    "* The best accuracies occurred in both of these models suggesting that either might work\n",
    "* Random insertion is the quickest to run on the base dataset"
   ]
  },
  {
   "cell_type": "markdown",
   "id": "f04f9c04",
   "metadata": {},
   "source": [
    "# Section 10: Best attractions model"
   ]
  },
  {
   "cell_type": "markdown",
   "id": "f79ebdd9",
   "metadata": {},
   "source": [
    "Run best model - confusion matrix etc."
   ]
  },
  {
   "cell_type": "code",
   "execution_count": null,
   "id": "232fbbfc",
   "metadata": {},
   "outputs": [],
   "source": []
  }
 ],
 "metadata": {
  "kernelspec": {
   "display_name": "Python 3",
   "language": "python",
   "name": "python3"
  },
  "language_info": {
   "codemirror_mode": {
    "name": "ipython",
    "version": 3
   },
   "file_extension": ".py",
   "mimetype": "text/x-python",
   "name": "python",
   "nbconvert_exporter": "python",
   "pygments_lexer": "ipython3",
   "version": "3.7.10"
  }
 },
 "nbformat": 4,
 "nbformat_minor": 5
}
