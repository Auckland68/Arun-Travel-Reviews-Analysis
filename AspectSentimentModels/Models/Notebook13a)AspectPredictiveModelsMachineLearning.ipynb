{
 "cells": [
  {
   "cell_type": "markdown",
   "id": "7702dc2e",
   "metadata": {},
   "source": [
    "This notebook investigates predictive models for the aspects part of the review data based on the extracted nouns. The output is therefore multiclass.\n",
    "\n",
    "* Section 1 - Import libraries and dataset\n",
    "* Section 2 - Data cleaning\n",
    "* Section 3 - Data preprocessing\n",
    "* Section 4 - Building an aspect classifier (accommodation)\n",
    "* Section 5 - Building an aspect classifier (food)\n",
    "* Section 6 - Building an aspect classifier (Attractions)\n",
    "* Section 7 - Data augmentation methods (attractions)\n",
    "* Section 8 - Data augmentation (accommodation and food)\n",
    "\n",
    "Dataset needed to run this notebook:\n",
    "\n",
    "* combinedaspectcheck.xlsx"
   ]
  },
  {
   "cell_type": "markdown",
   "id": "fbb5057b",
   "metadata": {},
   "source": [
    "# Section 1: Import libraries and dataset"
   ]
  },
  {
   "cell_type": "code",
   "execution_count": 7,
   "id": "62125b2e",
   "metadata": {},
   "outputs": [],
   "source": [
    "import pandas as pd\n",
    "import numpy as np\n",
    "\n",
    "from sklearn import preprocessing\n",
    "from sklearn.model_selection import StratifiedKFold\n",
    "import keras\n",
    "from keras.wrappers.scikit_learn import KerasClassifier\n",
    "from keras.models import Sequential\n",
    "from keras.layers import Dense,Flatten,Embedding,Dropout\n",
    "from keras.preprocessing.text import Tokenizer\n",
    "from keras.preprocessing.sequence import pad_sequences\n",
    "from keras.callbacks import EarlyStopping,ModelCheckpoint\n",
    "from keras.utils import to_categorical\n",
    "from keras.models import load_model\n",
    "from matplotlib import pyplot as plt\n",
    "import seaborn as sns\n",
    "sns.set()\n",
    "import imblearn\n",
    "from imblearn.over_sampling import SMOTE\n",
    "from sklearn.preprocessing import LabelBinarizer\n",
    "from imblearn.over_sampling import SMOTE\n",
    "import os\n",
    "import pickle\n",
    "import nltk\n",
    "from nltk.corpus import stopwords\n",
    "from sklearn.model_selection import train_test_split, cross_val_score\n",
    "from sklearn.metrics import accuracy_score,roc_auc_score,precision_score,recall_score,f1_score,confusion_matrix,classification_report\n",
    "from sklearn.utils import class_weight\n",
    "import pickle\n",
    "\n",
    "import warnings\n",
    "warnings.filterwarnings('ignore')"
   ]
  },
  {
   "cell_type": "code",
   "execution_count": 8,
   "id": "b01f8796",
   "metadata": {},
   "outputs": [],
   "source": [
    "# Bring in manually annotated accommodation data from spreadsheet file\n",
    "df_accom = pd.read_excel(\"combinedaspectcheck.xlsx\",sheet_name = \"CLEANEDACCOM\",engine = \"openpyxl\")\n",
    "df_food = pd.read_excel(\"combinedaspectcheck.xlsx\",sheet_name = \"CLEANEDFOOD\", engine = \"openpyxl\")\n",
    "df_attract = pd.read_excel(\"combinedaspectcheck.xlsx\", sheet_name = \"CLEANEDATTRACT\", engine = \"openpyxl\")"
   ]
  },
  {
   "cell_type": "code",
   "execution_count": 9,
   "id": "8ec88f75",
   "metadata": {},
   "outputs": [],
   "source": [
    "df_accom.drop([\"Category\"],axis = 1, inplace = True)\n",
    "df_food.drop([\"Category\"],axis = 1,inplace = True)\n",
    "df_attract.drop([\"Category\"],axis = 1,inplace = True)"
   ]
  },
  {
   "cell_type": "markdown",
   "id": "65bc9952",
   "metadata": {},
   "source": [
    "# Section 2: Data Cleaning"
   ]
  },
  {
   "cell_type": "markdown",
   "id": "bd8e9111",
   "metadata": {},
   "source": [
    "## Accommodation"
   ]
  },
  {
   "cell_type": "code",
   "execution_count": 10,
   "id": "f98c170c",
   "metadata": {},
   "outputs": [
    {
     "name": "stdout",
     "output_type": "stream",
     "text": [
      "<class 'pandas.core.frame.DataFrame'>\n",
      "RangeIndex: 2220 entries, 0 to 2219\n",
      "Data columns (total 6 columns):\n",
      " #   Column        Non-Null Count  Dtype  \n",
      "---  ------        --------------  -----  \n",
      " 0   OrigInd       2220 non-null   int64  \n",
      " 1   Cleaned       2220 non-null   object \n",
      " 2   Noun Phrases  2220 non-null   object \n",
      " 3   Nouns         2220 non-null   object \n",
      " 4   Aspect        2220 non-null   object \n",
      " 5   Sentiment     2220 non-null   float64\n",
      "dtypes: float64(1), int64(1), object(4)\n",
      "memory usage: 104.2+ KB\n"
     ]
    }
   ],
   "source": [
    "df_accom.info()"
   ]
  },
  {
   "cell_type": "code",
   "execution_count": 11,
   "id": "156b026d",
   "metadata": {},
   "outputs": [
    {
     "data": {
      "text/plain": [
       "Room             350\n",
       "Food             350\n",
       "Staff            350\n",
       "Hotel            349\n",
       "Entertainment    348\n",
       "Value            250\n",
       "Location         215\n",
       "location           5\n",
       "entertainment      2\n",
       "hotel              1\n",
       "Name: Aspect, dtype: int64"
      ]
     },
     "execution_count": 11,
     "metadata": {},
     "output_type": "execute_result"
    }
   ],
   "source": [
    "# Aspect value counts\n",
    "df_accom[\"Aspect\"].value_counts()"
   ]
  },
  {
   "cell_type": "code",
   "execution_count": 12,
   "id": "ee393ba4",
   "metadata": {},
   "outputs": [],
   "source": [
    "# Set to title case as some categories are multiples\n",
    "df_accom[\"Aspect\"] = df_accom[\"Aspect\"].apply(lambda x: x.title())"
   ]
  },
  {
   "cell_type": "code",
   "execution_count": 13,
   "id": "64dcb337",
   "metadata": {},
   "outputs": [
    {
     "data": {
      "text/plain": [
       "Room             350\n",
       "Entertainment    350\n",
       "Food             350\n",
       "Staff            350\n",
       "Hotel            350\n",
       "Value            250\n",
       "Location         220\n",
       "Name: Aspect, dtype: int64"
      ]
     },
     "execution_count": 13,
     "metadata": {},
     "output_type": "execute_result"
    }
   ],
   "source": [
    "df_accom[\"Aspect\"].value_counts()"
   ]
  },
  {
   "cell_type": "markdown",
   "id": "1b94d8e4",
   "metadata": {},
   "source": [
    "Mostly balanced categories, the two smaller categories represent those where all datapoints were used but there were just fewer overall."
   ]
  },
  {
   "cell_type": "markdown",
   "id": "a81841ad",
   "metadata": {},
   "source": [
    "## Food"
   ]
  },
  {
   "cell_type": "code",
   "execution_count": 14,
   "id": "e5d10b69",
   "metadata": {},
   "outputs": [
    {
     "name": "stdout",
     "output_type": "stream",
     "text": [
      "<class 'pandas.core.frame.DataFrame'>\n",
      "RangeIndex: 2100 entries, 0 to 2099\n",
      "Data columns (total 8 columns):\n",
      " #   Column        Non-Null Count  Dtype  \n",
      "---  ------        --------------  -----  \n",
      " 0   OrigInd       2100 non-null   int64  \n",
      " 1   Cleaned       2100 non-null   object \n",
      " 2   Noun Phrases  2100 non-null   object \n",
      " 3   Nouns         2100 non-null   object \n",
      " 4   Sentiment     2100 non-null   float64\n",
      " 5   Aspect        2100 non-null   object \n",
      " 6   Orig Aspect   2100 non-null   object \n",
      " 7   Column1       0 non-null      float64\n",
      "dtypes: float64(2), int64(1), object(5)\n",
      "memory usage: 131.4+ KB\n"
     ]
    }
   ],
   "source": [
    "df_food.info()"
   ]
  },
  {
   "cell_type": "code",
   "execution_count": 15,
   "id": "9e96caba",
   "metadata": {},
   "outputs": [
    {
     "data": {
      "text/plain": [
       "Menu Choice      350\n",
       "Meal Exp         350\n",
       "Staff&Service    350\n",
       "Visit Exp        350\n",
       "Value            350\n",
       "Food Quality     350\n",
       "Name: Aspect, dtype: int64"
      ]
     },
     "execution_count": 15,
     "metadata": {},
     "output_type": "execute_result"
    }
   ],
   "source": [
    "# Aspect value counts\n",
    "df_food[\"Aspect\"].value_counts()"
   ]
  },
  {
   "cell_type": "markdown",
   "id": "675f4fb7",
   "metadata": {},
   "source": [
    "Balanced aspect categories"
   ]
  },
  {
   "cell_type": "markdown",
   "id": "bb96c570",
   "metadata": {},
   "source": [
    "## Attractions"
   ]
  },
  {
   "cell_type": "code",
   "execution_count": 16,
   "id": "29737f67",
   "metadata": {},
   "outputs": [
    {
     "name": "stdout",
     "output_type": "stream",
     "text": [
      "<class 'pandas.core.frame.DataFrame'>\n",
      "RangeIndex: 1650 entries, 0 to 1649\n",
      "Data columns (total 7 columns):\n",
      " #   Column        Non-Null Count  Dtype  \n",
      "---  ------        --------------  -----  \n",
      " 0   OrigInd       1650 non-null   int64  \n",
      " 1   Cleaned       1650 non-null   object \n",
      " 2   Noun Phrases  1650 non-null   object \n",
      " 3   Nouns         1650 non-null   object \n",
      " 4   Sentiment     1650 non-null   float64\n",
      " 5   Aspect        1650 non-null   object \n",
      " 6   OrigAspect    1648 non-null   object \n",
      "dtypes: float64(1), int64(1), object(5)\n",
      "memory usage: 90.4+ KB\n"
     ]
    }
   ],
   "source": [
    "df_attract.info()"
   ]
  },
  {
   "cell_type": "code",
   "execution_count": 17,
   "id": "d66e33d2",
   "metadata": {},
   "outputs": [
    {
     "data": {
      "text/plain": [
       "Nature           300\n",
       "Amenities        300\n",
       "Activities       300\n",
       "VisitExp&Gen     250\n",
       "Staff&Service    200\n",
       "History          150\n",
       "Value            150\n",
       "Name: Aspect, dtype: int64"
      ]
     },
     "execution_count": 17,
     "metadata": {},
     "output_type": "execute_result"
    }
   ],
   "source": [
    "# Aspect value counts\n",
    "df_attract[\"Aspect\"].value_counts()"
   ]
  },
  {
   "cell_type": "markdown",
   "id": "bed9f003",
   "metadata": {},
   "source": [
    "Unbalanced aspect categories due to not many datapoints available in the original dataset for some of the categories"
   ]
  },
  {
   "cell_type": "markdown",
   "id": "16e8e7e6",
   "metadata": {},
   "source": [
    "# Section 3: Data preprocessing"
   ]
  },
  {
   "cell_type": "markdown",
   "id": "467f0eb3",
   "metadata": {},
   "source": [
    "## Define X and y"
   ]
  },
  {
   "cell_type": "code",
   "execution_count": 18,
   "id": "fd564535",
   "metadata": {},
   "outputs": [],
   "source": [
    "# Function to split the data between X and y\n",
    "\n",
    "def XY(df):\n",
    "    X = df[\"Nouns\"]\n",
    "    y = df[\"Aspect\"]\n",
    "\n",
    "    return X,y"
   ]
  },
  {
   "cell_type": "code",
   "execution_count": 19,
   "id": "67a8b57d",
   "metadata": {},
   "outputs": [
    {
     "name": "stdout",
     "output_type": "stream",
     "text": [
      "(2220,) (2220,)\n",
      "(2100,) (2100,)\n",
      "(1650,) (1650,)\n"
     ]
    }
   ],
   "source": [
    "# Apply function and print shape\n",
    "X_accom,y_accom = XY(df_accom)\n",
    "X_food,y_food = XY(df_food)\n",
    "X_attract,y_attract = XY(df_attract)\n",
    "\n",
    "print(X_accom.shape,y_accom.shape)\n",
    "print(X_food.shape,y_food.shape)\n",
    "print(X_attract.shape,y_attract.shape)\n"
   ]
  },
  {
   "cell_type": "markdown",
   "id": "c4d36ff1",
   "metadata": {},
   "source": [
    "## Train test split"
   ]
  },
  {
   "cell_type": "code",
   "execution_count": 20,
   "id": "bb6d3594",
   "metadata": {},
   "outputs": [],
   "source": [
    "# Train, validation, test split\n",
    "def train_test(X,y):\n",
    "    X_train, X_test, y_train, y_test = train_test_split(X,y, stratify = y,test_size=0.20, shuffle = True, random_state = 1)\n",
    "    X_test, X_val, y_test, y_val = train_test_split(X_test, y_test, stratify = y_test,test_size=0.50, shuffle = True, random_state = 1)\n",
    "    return X_train,X_val, X_test, y_train,y_val,y_test"
   ]
  },
  {
   "cell_type": "code",
   "execution_count": 21,
   "id": "f664fe6f",
   "metadata": {},
   "outputs": [],
   "source": [
    "# Run function for each category\n",
    "X_train_accom,X_val_accom,X_test_accom,y_train_accom,y_val_accom,y_test_accom = train_test(X_accom,y_accom)\n",
    "X_train_food,X_val_food,X_test_food,y_train_food,y_val_food,y_test_food = train_test(X_food,y_food)\n",
    "X_train_attract,X_val_attract,X_test_attract,y_train_attract,y_val_attract,y_test_attract = train_test(X_attract,y_attract)"
   ]
  },
  {
   "cell_type": "code",
   "execution_count": 22,
   "id": "c6d60fbb",
   "metadata": {},
   "outputs": [
    {
     "name": "stdout",
     "output_type": "stream",
     "text": [
      "(1776,) (222,) (222,) (1776,) (222,) (222,)\n",
      "(1680,) (210,) (210,) (1680,) (210,) (210,)\n",
      "(1320,) (165,) (165,) (1320,) (165,) (165,)\n"
     ]
    }
   ],
   "source": [
    "# Shape of training, validation and test sets for each category\n",
    "print(X_train_accom.shape, X_val_accom.shape,X_test_accom.shape, y_train_accom.shape, y_val_accom.shape, y_test_accom.shape)\n",
    "print(X_train_food.shape, X_val_food.shape,X_test_food.shape, y_train_food.shape, y_val_food.shape, y_test_food.shape)\n",
    "print(X_train_attract.shape, X_val_attract.shape,X_test_attract.shape, y_train_attract.shape, y_val_attract.shape, y_test_attract.shape)"
   ]
  },
  {
   "cell_type": "code",
   "execution_count": 23,
   "id": "9e1f34d7",
   "metadata": {},
   "outputs": [
    {
     "name": "stdout",
     "output_type": "stream",
     "text": [
      "10\n",
      "9\n",
      "9\n"
     ]
    }
   ],
   "source": [
    "# Get maximum number of nouns to use in the 'maxlen' arguement\n",
    "print(pd.DataFrame(X_train_accom)[\"Nouns\"].str.split().apply(len).max())\n",
    "print(pd.DataFrame(X_train_food)[\"Nouns\"].str.split().apply(len).max())\n",
    "print(pd.DataFrame(X_train_attract)[\"Nouns\"].str.split().apply(len).max())"
   ]
  },
  {
   "cell_type": "markdown",
   "id": "2850f8ad",
   "metadata": {},
   "source": [
    "## Encode y and X"
   ]
  },
  {
   "cell_type": "code",
   "execution_count": 24,
   "id": "3f6e582c",
   "metadata": {},
   "outputs": [],
   "source": [
    "# Function to encode y values as one-hot encoded for hold-out model\n",
    "\n",
    "def bin(y_train, y_val, y_test):\n",
    "    binarizer = preprocessing.LabelBinarizer()\n",
    "    y_train_e = binarizer.fit_transform(y_train)\n",
    "    y_val_e = binarizer.transform(y_val)\n",
    "    y_test_e = binarizer.transform(y_test)\n",
    "    return y_train_e,y_val_e,y_test_e"
   ]
  },
  {
   "cell_type": "code",
   "execution_count": 25,
   "id": "61715106",
   "metadata": {},
   "outputs": [],
   "source": [
    "# Function to encode y values as integer labels (necessary for stratified cross validation as one-hot encoded doesn't work)\n",
    "\n",
    "def lab(y_train, y_val, y_test):\n",
    "    le = preprocessing.LabelEncoder()\n",
    "    y_train_l = le.fit_transform(y_train)\n",
    "    y_val_l = le.fit_transform(y_val)\n",
    "    y_test_l = le.transform(y_test)\n",
    "    return y_train_l,y_val_l, y_test_l"
   ]
  },
  {
   "cell_type": "code",
   "execution_count": 26,
   "id": "b3b33d30",
   "metadata": {},
   "outputs": [],
   "source": [
    "# Apply function\n",
    "y_train_accom_e, y_val_accom_e, y_test_accom_e = bin(y_train_accom, y_val_accom, y_test_accom)\n",
    "y_train_food_e, y_val_food_e, y_test_food_e = bin(y_train_food, y_val_food, y_test_food)\n",
    "y_train_attract_e, y_val_attract_e, y_test_attract_e = bin(y_train_attract, y_val_attract, y_test_attract)\n",
    "\n",
    "y_train_accom_l, y_val_accom_l, y_test_accom_l = lab(y_train_accom, y_val_accom, y_test_accom)\n",
    "y_train_food_l, y_val_food_l, y_test_food_l = lab(y_train_food, y_val_food, y_test_food)\n",
    "y_train_attract_l, y_val_attract_l, y_test_attract_l = lab(y_train_attract, y_val_attract, y_test_attract)"
   ]
  },
  {
   "cell_type": "code",
   "execution_count": 27,
   "id": "96106ca2",
   "metadata": {},
   "outputs": [],
   "source": [
    "# Function to fit tokenizer on text and transform to padded word embeddings\n",
    "\n",
    "def tok(X_train, X_val, X_test):\n",
    "    tokenizer = Tokenizer(num_words = 5000)\n",
    "    tokenizer.fit_on_texts(X_train)\n",
    "    X_train_s = tokenizer.texts_to_sequences(X_train)\n",
    "    X_val_s = tokenizer.texts_to_sequences(X_val)\n",
    "    X_test_s = tokenizer.texts_to_sequences(X_test)\n",
    "    X_train_w = pad_sequences(np.array(X_train_s,dtype = \"object\"), maxlen=20, padding=\"post\", truncating=\"post\", value=0.0)\n",
    "    X_val_w = pad_sequences(np.array(X_val_s,dtype = \"object\"), maxlen=20, padding=\"post\", truncating=\"post\", value=0.0)\n",
    "    X_test_w = pad_sequences(np.array(X_test_s, dtype = \"object\"), maxlen = 20, padding = \"post\", truncating = \"post\", value = 0.0)\n",
    "    \n",
    "    return tokenizer, X_train_w, X_val_w, X_test_w"
   ]
  },
  {
   "cell_type": "code",
   "execution_count": 28,
   "id": "ac8d4a36",
   "metadata": {},
   "outputs": [],
   "source": [
    "# Apply function to X training, validation and test sets\n",
    "accom_tok, X_train_accom_w, X_val_accom_w, X_test_accom_w = tok(X_train_accom, X_val_accom, X_test_accom)\n",
    "food_tok,X_train_food_w, X_val_food_w, X_test_food_w = tok(X_train_food, X_val_food, X_test_food)\n",
    "attract_tok,X_train_attract_w, X_val_attract_w, X_test_attract_w = tok(X_train_attract, X_val_attract, X_test_attract)"
   ]
  },
  {
   "cell_type": "code",
   "execution_count": 29,
   "id": "74041e78",
   "metadata": {},
   "outputs": [],
   "source": [
    "# Function to save test data and tokenizers as pickle file\n",
    "def save_tok(name,file):\n",
    "    with open(name, 'wb') as handle:\n",
    "        pickle.dump(file, handle, protocol = pickle.HIGHEST_PROTOCOL)\n",
    "        "
   ]
  },
  {
   "cell_type": "code",
   "execution_count": 30,
   "id": "313f9988",
   "metadata": {},
   "outputs": [],
   "source": [
    "# Save out test sets for use in combined model testing\n",
    "save_tok('X_test_accom.pickle',X_test_accom_w)\n",
    "save_tok('X_test_food.pickle',X_test_food_w)\n",
    "save_tok('X_test_attract.pickle',X_test_attract_w)\n",
    "\n",
    "save_tok('y_test_accom.pickle',y_test_accom_e)\n",
    "save_tok('y_test_food.pickle',y_test_food_e)\n",
    "save_tok('y_test_attract.pickle',y_test_attract_e)"
   ]
  },
  {
   "cell_type": "code",
   "execution_count": 31,
   "id": "9dcc8ba5",
   "metadata": {},
   "outputs": [],
   "source": [
    "# Save out the tokenizers\n",
    "save_tok('accom_tokenizer.pickle',accom_tok)\n",
    "save_tok('food_tokenizer.pickle',food_tok)\n",
    "save_tok('attract_tokenizer.pickle',attract_tok)"
   ]
  },
  {
   "cell_type": "code",
   "execution_count": 32,
   "id": "44b3408e",
   "metadata": {},
   "outputs": [
    {
     "name": "stdout",
     "output_type": "stream",
     "text": [
      "(1776, 7) (222, 7) (222, 7)\n",
      "(1680, 6) (210, 6) (210, 6)\n",
      "(1320, 7) (165, 7) (165, 7)\n",
      "(1776,) (222,) (222,)\n",
      "(1680,) (210,) (210,)\n",
      "(1320,) (165,) (165,)\n"
     ]
    }
   ],
   "source": [
    "# Shape of y training, validation and test\n",
    "print(y_train_accom_e.shape, y_val_accom_e.shape, y_test_accom_e.shape)\n",
    "print(y_train_food_e.shape, y_val_food_e.shape, y_test_food_e.shape)\n",
    "print(y_train_attract_e.shape, y_val_attract_e.shape, y_test_attract_e.shape)\n",
    "\n",
    "print(y_train_accom_l.shape, y_val_accom_l.shape, y_test_accom_l.shape)\n",
    "print(y_train_food_l.shape, y_val_food_l.shape, y_test_food_l.shape)\n",
    "print(y_train_attract_l.shape,  y_val_attract_l.shape,y_test_attract_l.shape)"
   ]
  },
  {
   "cell_type": "code",
   "execution_count": 33,
   "id": "ebab842d",
   "metadata": {},
   "outputs": [],
   "source": [
    "#with open('tok_accom.pickle', 'wb') as handle:\n",
    "    #pickle.dump(tok_accom, handle, protocol=pickle.HIGHEST_PROTOCOL)"
   ]
  },
  {
   "cell_type": "code",
   "execution_count": 34,
   "id": "1a430295",
   "metadata": {},
   "outputs": [
    {
     "name": "stdout",
     "output_type": "stream",
     "text": [
      "(1776, 20) (1776, 7)\n",
      "(1680, 20) (1680, 6)\n",
      "(1320, 20) (1320, 7)\n"
     ]
    }
   ],
   "source": [
    "# Get shape of training, validation and test sets\n",
    "print(X_train_accom_w.shape,y_train_accom_e.shape)\n",
    "print(X_train_food_w.shape, y_train_food_e.shape)\n",
    "print(X_train_attract_w.shape, y_train_attract_e.shape)"
   ]
  },
  {
   "cell_type": "markdown",
   "id": "8d5f5871",
   "metadata": {},
   "source": [
    "## Define general functions used for each model"
   ]
  },
  {
   "cell_type": "code",
   "execution_count": 35,
   "id": "64fe4a95",
   "metadata": {},
   "outputs": [],
   "source": [
    "# Visualise the training and test accuracies and losses\n",
    "\n",
    "import matplotlib.pyplot as plt\n",
    "plt.style.use('ggplot')\n",
    "\n",
    "def plot_history(history):\n",
    "    acc = history.history['accuracy']\n",
    "    val_acc = history.history['val_accuracy']\n",
    "    loss = history.history['loss']\n",
    "    val_loss = history.history['val_loss']\n",
    "    x = range(1, len(acc) + 1)\n",
    "\n",
    "    plt.figure(figsize=(12, 5))\n",
    "    plt.subplot(1, 2, 1)\n",
    "    plt.plot(x, acc, 'b', label='Training acc')\n",
    "    plt.plot(x, val_acc, 'r', label='Val acc')\n",
    "    plt.title('Training and Validation accuracy')\n",
    "    plt.xlabel(\"Epochs\")\n",
    "    plt.legend()\n",
    "    plt.subplot(1, 2, 2)\n",
    "    plt.plot(x, loss, 'b', label='Training loss')\n",
    "    plt.plot(x, val_loss, 'r', label='Val loss')\n",
    "    plt.xlabel(\"Epochs\")\n",
    "    plt.title('Training and Validation loss')\n",
    "    plt.legend()\n",
    "    plt.show()"
   ]
  },
  {
   "cell_type": "code",
   "execution_count": 36,
   "id": "7b1c99a9",
   "metadata": {},
   "outputs": [],
   "source": [
    "# The model will use earlystopping if the valuation loss doesn't decrease after a specified number of epochs\n",
    "\n",
    "def out(name):\n",
    "    output_dir = name\n",
    "    if not os.path.exists(output_dir):\n",
    "        os.makedirs(output_dir)\n",
    "    return output_dir\n",
    "        \n",
    "def call(output_dir,patience):\n",
    "    modelcheckpoint = ModelCheckpoint(filepath=output_dir+\"/weights.{epoch:02d}.hdf5\")\n",
    "    callbacks = [EarlyStopping(monitor = \"val_loss\", patience = patience),modelcheckpoint]\n",
    "    return callbacks"
   ]
  },
  {
   "cell_type": "code",
   "execution_count": 37,
   "id": "28f0e8ca",
   "metadata": {},
   "outputs": [],
   "source": [
    "# Confusion Matrix function\n",
    "\n",
    "def class_conf(y_val_integer,y_pred_class,labels):\n",
    "    classification = classification_report(y_val_integer, y_pred_class)\n",
    "    fig, ax = plt.subplots(figsize = (8,6))\n",
    "    cf_matrix = confusion_matrix(y_val_integer, y_pred_class)\n",
    "    sns.heatmap(cf_matrix, annot = True, fmt = \"d\",cmap = plt.cm.Blues,labels = labels)\n",
    "    plt.xlabel('Predicted')\n",
    "    plt.ylabel('Actual')\n",
    "    plt.title(\"Confusion Matrix\", fontsize = 15)\n",
    "    print(classification)"
   ]
  },
  {
   "cell_type": "code",
   "execution_count": 38,
   "id": "c9c08a69",
   "metadata": {},
   "outputs": [],
   "source": [
    "# Weight adjustments if required\n",
    "\n",
    "def weight(y_train):\n",
    "    from sklearn.utils import class_weight\n",
    "    class_weights = class_weight.compute_class_weight('balanced',np.unique(y_train),y_train)\n",
    "    return class_weights"
   ]
  },
  {
   "cell_type": "code",
   "execution_count": 39,
   "id": "6f4d598e",
   "metadata": {},
   "outputs": [],
   "source": [
    "# Combine training and validation sets for use in stratified cross validation\n",
    "\n",
    "def combine(X_train, X_val, y_train,y_val):\n",
    "    inputs = np.concatenate((X_train,X_val), axis=0)\n",
    "    targets = np.concatenate((y_train, y_val), axis=0)\n",
    "    \n",
    "    return inputs, targets\n"
   ]
  },
  {
   "cell_type": "code",
   "execution_count": 40,
   "id": "d27136fe",
   "metadata": {},
   "outputs": [],
   "source": [
    "# Model with output of 7 classes\n",
    "\n",
    "def create_model_a():\n",
    "    model = Sequential()\n",
    "    model.add(Embedding(input_dim = input_dim, output_dim = output_dim, input_length = input_length))\n",
    "    model.add(Flatten())\n",
    "    model.add(Dense(512, activation='relu', input_shape=(1600,)))\n",
    "    model.add(Dropout(rate=0.5))\n",
    "    model.add(Dense(256,activation = 'relu'))\n",
    "    model.add(Dropout(rate=0.5))\n",
    "    model.add(Dense(128,activation = 'relu'))\n",
    "    model.add(Dropout(rate=0.5))\n",
    "    model.add(Dense(7, activation='softmax'))\n",
    "    model.compile(optimizer='adam', loss='categorical_crossentropy', metrics=['accuracy'])\n",
    "        \n",
    "    return model\n",
    "    "
   ]
  },
  {
   "cell_type": "code",
   "execution_count": 41,
   "id": "95df813a",
   "metadata": {},
   "outputs": [
    {
     "ename": "NameError",
     "evalue": "name 'input_dim' is not defined",
     "output_type": "error",
     "traceback": [
      "\u001b[1;31m---------------------------------------------------------------------------\u001b[0m",
      "\u001b[1;31mNameError\u001b[0m                                 Traceback (most recent call last)",
      "\u001b[1;32m<ipython-input-41-eee250b40d7c>\u001b[0m in \u001b[0;36m<module>\u001b[1;34m\u001b[0m\n\u001b[0;32m      1\u001b[0m \u001b[0mmodel\u001b[0m \u001b[1;33m=\u001b[0m \u001b[0mSequential\u001b[0m\u001b[1;33m(\u001b[0m\u001b[1;33m)\u001b[0m\u001b[1;33m\u001b[0m\u001b[1;33m\u001b[0m\u001b[0m\n\u001b[1;32m----> 2\u001b[1;33m \u001b[0mmodel\u001b[0m\u001b[1;33m.\u001b[0m\u001b[0madd\u001b[0m\u001b[1;33m(\u001b[0m\u001b[0mEmbedding\u001b[0m\u001b[1;33m(\u001b[0m\u001b[0minput_dim\u001b[0m \u001b[1;33m=\u001b[0m \u001b[0minput_dim\u001b[0m\u001b[1;33m,\u001b[0m \u001b[0moutput_dim\u001b[0m \u001b[1;33m=\u001b[0m \u001b[0moutput_dim\u001b[0m\u001b[1;33m,\u001b[0m \u001b[0minput_length\u001b[0m \u001b[1;33m=\u001b[0m \u001b[0minput_length\u001b[0m\u001b[1;33m)\u001b[0m\u001b[1;33m)\u001b[0m\u001b[1;33m\u001b[0m\u001b[1;33m\u001b[0m\u001b[0m\n\u001b[0m\u001b[0;32m      3\u001b[0m \u001b[0mmodel\u001b[0m\u001b[1;33m.\u001b[0m\u001b[0madd\u001b[0m\u001b[1;33m(\u001b[0m\u001b[0mFlatten\u001b[0m\u001b[1;33m(\u001b[0m\u001b[1;33m)\u001b[0m\u001b[1;33m)\u001b[0m\u001b[1;33m\u001b[0m\u001b[1;33m\u001b[0m\u001b[0m\n\u001b[0;32m      4\u001b[0m \u001b[0mmodel\u001b[0m\u001b[1;33m.\u001b[0m\u001b[0madd\u001b[0m\u001b[1;33m(\u001b[0m\u001b[0mDense\u001b[0m\u001b[1;33m(\u001b[0m\u001b[1;36m512\u001b[0m\u001b[1;33m,\u001b[0m \u001b[0mactivation\u001b[0m\u001b[1;33m=\u001b[0m\u001b[1;34m'relu'\u001b[0m\u001b[1;33m,\u001b[0m \u001b[0minput_shape\u001b[0m\u001b[1;33m=\u001b[0m\u001b[1;33m(\u001b[0m\u001b[1;36m1600\u001b[0m\u001b[1;33m,\u001b[0m\u001b[1;33m)\u001b[0m\u001b[1;33m)\u001b[0m\u001b[1;33m)\u001b[0m\u001b[1;33m\u001b[0m\u001b[1;33m\u001b[0m\u001b[0m\n\u001b[0;32m      5\u001b[0m \u001b[0mmodel\u001b[0m\u001b[1;33m.\u001b[0m\u001b[0madd\u001b[0m\u001b[1;33m(\u001b[0m\u001b[0mDropout\u001b[0m\u001b[1;33m(\u001b[0m\u001b[0mrate\u001b[0m\u001b[1;33m=\u001b[0m\u001b[1;36m0.5\u001b[0m\u001b[1;33m)\u001b[0m\u001b[1;33m)\u001b[0m\u001b[1;33m\u001b[0m\u001b[1;33m\u001b[0m\u001b[0m\n",
      "\u001b[1;31mNameError\u001b[0m: name 'input_dim' is not defined"
     ]
    }
   ],
   "source": [
    "model = Sequential()\n",
    "model.add(Embedding(input_dim = input_dim, output_dim = output_dim, input_length = input_length))\n",
    "model.add(Flatten())\n",
    "model.add(Dense(512, activation='relu', input_shape=(1600,)))\n",
    "model.add(Dropout(rate=0.5))\n",
    "model.add(Dense(256,activation = 'relu'))\n",
    "model.add(Dropout(rate=0.5))\n",
    "model.add(Dense(128,activation = 'relu'))\n",
    "model.add(Dropout(rate=0.5))\n",
    "model.add(Dense(7, activation='softmax'))\n",
    "model.compile(optimizer='adam', loss='categorical_crossentropy', metrics=['accuracy'])\n",
    "model.summary()"
   ]
  },
  {
   "cell_type": "code",
   "execution_count": 42,
   "id": "5ed2e697",
   "metadata": {},
   "outputs": [],
   "source": [
    "# Model with output of 6 classes\n",
    "\n",
    "def create_model_b():\n",
    "    model = Sequential()\n",
    "    model.add(Embedding(input_dim = input_dim, output_dim = output_dim, input_length = input_length))\n",
    "    model.add(Flatten())\n",
    "    model.add(Dense(512, activation='relu', input_shape=(1600,)))\n",
    "    model.add(Dropout(rate=0.5))\n",
    "    model.add(Dense(256,activation = 'relu'))\n",
    "    model.add(Dropout(rate=0.5))\n",
    "    model.add(Dense(128,activation = 'relu'))\n",
    "    model.add(Dropout(rate=0.5))\n",
    "    model.add(Dense(6, activation='softmax'))\n",
    "    model.compile(optimizer='adam', loss='categorical_crossentropy', metrics=['accuracy'])\n",
    "        \n",
    "    return model"
   ]
  },
  {
   "cell_type": "code",
   "execution_count": 43,
   "id": "e0ea843a",
   "metadata": {},
   "outputs": [],
   "source": [
    "# Stratified KFold function using keras wrapper in scikit learn (Use X_train encoded as word embedding and y_train encoded \n",
    "# with labels NOT one-hot encoded)\n",
    "\n",
    "def cross(X,y,create_model_a):\n",
    "    model = KerasClassifier(build_fn=create_model_a, epochs=epochs, batch_size=batch_size, verbose=0)\n",
    "    kfold = StratifiedKFold(n_splits=n_splits, shuffle=True, random_state=1)\n",
    "    results = cross_val_score(model, X,y, cv=kfold)\n",
    "    print(results.mean())"
   ]
  },
  {
   "cell_type": "code",
   "execution_count": 44,
   "id": "52a7080a",
   "metadata": {},
   "outputs": [],
   "source": [
    "# Function to fit model, print training and validation accuracies\n",
    "\n",
    "def run_mod(model, X_train, X_val, y_train, y_val):\n",
    "    val_acc = []\n",
    "    history = model.fit(X_train, y_train,\n",
    "                       epochs = epochs,\n",
    "                       verbose = 2,\n",
    "                       callbacks = callbacks,\n",
    "                       validation_data = (X_val, y_val),\n",
    "                       batch_size = batch_size,\n",
    "                       class_weight = class_weights)\n",
    "    print(\"\\n\\n\")\n",
    "    print(model.evaluate(X_train, y_train))\n",
    "    print(model.evaluate(X_val, y_val))\n",
    "    print(\"\\n\\n\")\n",
    "    plot_history(history)\n"
   ]
  },
  {
   "cell_type": "code",
   "execution_count": 45,
   "id": "1d473333",
   "metadata": {},
   "outputs": [],
   "source": [
    "# Evaluation function\n",
    "\n",
    "def eval(model,output_dir,name,X_val,y_val,y_val_aspect,labels):\n",
    "    model.load_weights(output_dir+name)\n",
    "    y_pred_prob = model.predict(X_val)\n",
    "    y_pred_class = np.argmax(model.predict(X_val), axis=-1)\n",
    "    y_val_integer = np.argmax(y_val, axis=1)\n",
    "    df_pred = pd.DataFrame(list(zip(y_val_integer, y_val_aspect,y_pred_class)), columns=[\"Actual Class\", \"Actual Aspect\",\"Predicted Class\",])\n",
    "    df_wrong = df_pred[df_pred[\"Actual Class\"]!= df_pred[\"Predicted Class\"]]\n",
    "    class_conf(y_val_integer,y_pred_class,labels)\n",
    "    print(\"\\n\")\n",
    "    print(\"The model predicted:\", df_wrong.shape[0],\"aspects wrong from a total of:\",df_pred.shape[0],\"predictions\")\n",
    "    print(\"\\n\")\n",
    "    return df_pred, df_wrong"
   ]
  },
  {
   "cell_type": "code",
   "execution_count": 46,
   "id": "556db81c",
   "metadata": {},
   "outputs": [],
   "source": [
    "# Run weights function to get weights\n",
    "\n",
    "cw_accom = weight(y_accom)\n",
    "cw_food = weight(y_food)\n",
    "cw_attract = weight(y_attract)"
   ]
  },
  {
   "cell_type": "markdown",
   "id": "da1a6c20",
   "metadata": {},
   "source": [
    "# Section 4: Building accommodation aspect classifier"
   ]
  },
  {
   "cell_type": "code",
   "execution_count": 47,
   "id": "212e1f11",
   "metadata": {},
   "outputs": [],
   "source": [
    "# Set parameters\n",
    "\n",
    "input_dim = 6000 #number of words\n",
    "output_dim = 16\n",
    "input_length = 20 #maximum length of embedding\n",
    "batch_size = 16\n",
    "epochs = 50\n",
    "\n",
    "class_weights_accom = {0:cw_accom[0],1:cw_accom[1],2:cw_accom[2],3:cw_accom[3],4:cw_accom[4],5:cw_accom[5],6:cw_accom[6]}\n",
    "n_splits = 10\n",
    "\n",
    "# Set output directory and callbacks (patience set to 5)\n",
    "output_dir = out('model_output/AccomAspectModels')\n",
    "callbacks = call(output_dir,5)\n",
    "class_weights = class_weights_accom\n"
   ]
  },
  {
   "cell_type": "markdown",
   "id": "112a6d9f",
   "metadata": {},
   "source": [
    "### Cross validation evaluation"
   ]
  },
  {
   "cell_type": "code",
   "execution_count": 48,
   "id": "0bd55b81",
   "metadata": {},
   "outputs": [
    {
     "name": "stdout",
     "output_type": "stream",
     "text": [
      "0.9234422087669373\n"
     ]
    }
   ],
   "source": [
    "# Combine training and validation sets for word embeddings and target encoded as integers as multi-label indicator (one-hot)\n",
    "# encoding is not supported\n",
    "# Run stratified cross validation and report mean accuracy for ten folds using create_model_a with 7 output parameters\n",
    "\n",
    "X_train_accom_cross, y_train_accom_cross = combine(X_train_accom_w, X_val_accom_w, y_train_accom_l,y_val_accom_l)\n",
    "cross(X_train_accom_cross, y_train_accom_cross,create_model_a)"
   ]
  },
  {
   "cell_type": "markdown",
   "id": "0276b9d9",
   "metadata": {},
   "source": [
    "### Hold out evaluation"
   ]
  },
  {
   "cell_type": "code",
   "execution_count": 49,
   "id": "9c9a4aa6",
   "metadata": {},
   "outputs": [
    {
     "name": "stdout",
     "output_type": "stream",
     "text": [
      "Epoch 1/50\n",
      "111/111 - 0s - loss: 1.8235 - accuracy: 0.2579 - val_loss: 1.3915 - val_accuracy: 0.5811\n",
      "Epoch 2/50\n",
      "111/111 - 0s - loss: 0.8782 - accuracy: 0.6796 - val_loss: 0.6510 - val_accuracy: 0.8063\n",
      "Epoch 3/50\n",
      "111/111 - 0s - loss: 0.3877 - accuracy: 0.8930 - val_loss: 0.5461 - val_accuracy: 0.8649\n",
      "Epoch 4/50\n",
      "111/111 - 0s - loss: 0.1801 - accuracy: 0.9555 - val_loss: 0.5834 - val_accuracy: 0.8874\n",
      "Epoch 5/50\n",
      "111/111 - 0s - loss: 0.0948 - accuracy: 0.9814 - val_loss: 0.5832 - val_accuracy: 0.8739\n",
      "Epoch 6/50\n",
      "111/111 - 0s - loss: 0.0646 - accuracy: 0.9859 - val_loss: 0.5538 - val_accuracy: 0.8829\n",
      "Epoch 7/50\n",
      "111/111 - 0s - loss: 0.0597 - accuracy: 0.9831 - val_loss: 0.6789 - val_accuracy: 0.8739\n",
      "Epoch 8/50\n",
      "111/111 - 0s - loss: 0.0494 - accuracy: 0.9910 - val_loss: 0.5568 - val_accuracy: 0.9009\n",
      "\n",
      "\n",
      "\n",
      "56/56 [==============================] - 0s 857us/step - loss: 0.0148 - accuracy: 0.9961\n",
      "[0.014820967800915241, 0.9960585832595825]\n",
      "7/7 [==============================] - 0s 1ms/step - loss: 0.5568 - accuracy: 0.9009\n",
      "[0.5567889213562012, 0.9009009003639221]\n",
      "\n",
      "\n",
      "\n"
     ]
    },
    {
     "data": {
      "image/png": "[encoded data removed]",
      "text/plain": [
       "<Figure size 864x360 with 2 Axes>"
      ]
     },
     "metadata": {},
     "output_type": "display_data"
    }
   ],
   "source": [
    "# Run model using the word embeddings and the target encoded as one-hot encoding\n",
    "model1 = create_model_a()\n",
    "history1 = run_mod(model1, X_train_accom_w, X_val_accom_w, y_train_accom_e, y_val_accom_e)\n",
    "model1.save('accommodation.h5')"
   ]
  },
  {
   "cell_type": "code",
   "execution_count": 50,
   "id": "ed6ec131",
   "metadata": {},
   "outputs": [
    {
     "ename": "AttributeError",
     "evalue": "'QuadMesh' object has no property 'labels'",
     "output_type": "error",
     "traceback": [
      "\u001b[1;31m---------------------------------------------------------------------------\u001b[0m",
      "\u001b[1;31mAttributeError\u001b[0m                            Traceback (most recent call last)",
      "\u001b[1;32m<ipython-input-50-25b57f1f682a>\u001b[0m in \u001b[0;36m<module>\u001b[1;34m\u001b[0m\n\u001b[0;32m      1\u001b[0m \u001b[0mlabel_accom\u001b[0m \u001b[1;33m=\u001b[0m \u001b[1;33m[\u001b[0m\u001b[1;34m'Entertainment'\u001b[0m\u001b[1;33m,\u001b[0m\u001b[1;34m'Food'\u001b[0m\u001b[1;33m,\u001b[0m\u001b[1;34m'Hotel'\u001b[0m\u001b[1;33m,\u001b[0m\u001b[1;34m'Location'\u001b[0m\u001b[1;33m,\u001b[0m\u001b[1;34m'Room'\u001b[0m\u001b[1;33m,\u001b[0m\u001b[1;34m'Staff'\u001b[0m\u001b[1;33m,\u001b[0m\u001b[1;34m'Value'\u001b[0m\u001b[1;33m]\u001b[0m\u001b[1;33m\u001b[0m\u001b[1;33m\u001b[0m\u001b[0m\n\u001b[1;32m----> 2\u001b[1;33m \u001b[0mdf_pred_accom\u001b[0m\u001b[1;33m,\u001b[0m \u001b[0mdf_wrong_accom\u001b[0m \u001b[1;33m=\u001b[0m \u001b[0meval\u001b[0m\u001b[1;33m(\u001b[0m\u001b[0mmodel1\u001b[0m\u001b[1;33m,\u001b[0m \u001b[0moutput_dir\u001b[0m\u001b[1;33m,\u001b[0m\u001b[1;34m\"/weights.04.hdf5\"\u001b[0m\u001b[1;33m,\u001b[0m\u001b[0mX_val_accom_w\u001b[0m\u001b[1;33m,\u001b[0m \u001b[0my_val_accom_e\u001b[0m\u001b[1;33m,\u001b[0m\u001b[0my_val_accom\u001b[0m\u001b[1;33m,\u001b[0m\u001b[0mlabel_accom\u001b[0m\u001b[1;33m)\u001b[0m\u001b[1;33m\u001b[0m\u001b[1;33m\u001b[0m\u001b[0m\n\u001b[0m",
      "\u001b[1;32m<ipython-input-45-35464a555b59>\u001b[0m in \u001b[0;36meval\u001b[1;34m(model, output_dir, name, X_val, y_val, y_val_aspect, labels)\u001b[0m\n\u001b[0;32m      8\u001b[0m     \u001b[0mdf_pred\u001b[0m \u001b[1;33m=\u001b[0m \u001b[0mpd\u001b[0m\u001b[1;33m.\u001b[0m\u001b[0mDataFrame\u001b[0m\u001b[1;33m(\u001b[0m\u001b[0mlist\u001b[0m\u001b[1;33m(\u001b[0m\u001b[0mzip\u001b[0m\u001b[1;33m(\u001b[0m\u001b[0my_val_integer\u001b[0m\u001b[1;33m,\u001b[0m \u001b[0my_val_aspect\u001b[0m\u001b[1;33m,\u001b[0m\u001b[0my_pred_class\u001b[0m\u001b[1;33m)\u001b[0m\u001b[1;33m)\u001b[0m\u001b[1;33m,\u001b[0m \u001b[0mcolumns\u001b[0m\u001b[1;33m=\u001b[0m\u001b[1;33m[\u001b[0m\u001b[1;34m\"Actual Class\"\u001b[0m\u001b[1;33m,\u001b[0m \u001b[1;34m\"Actual Aspect\"\u001b[0m\u001b[1;33m,\u001b[0m\u001b[1;34m\"Predicted Class\"\u001b[0m\u001b[1;33m,\u001b[0m\u001b[1;33m]\u001b[0m\u001b[1;33m)\u001b[0m\u001b[1;33m\u001b[0m\u001b[1;33m\u001b[0m\u001b[0m\n\u001b[0;32m      9\u001b[0m     \u001b[0mdf_wrong\u001b[0m \u001b[1;33m=\u001b[0m \u001b[0mdf_pred\u001b[0m\u001b[1;33m[\u001b[0m\u001b[0mdf_pred\u001b[0m\u001b[1;33m[\u001b[0m\u001b[1;34m\"Actual Class\"\u001b[0m\u001b[1;33m]\u001b[0m\u001b[1;33m!=\u001b[0m \u001b[0mdf_pred\u001b[0m\u001b[1;33m[\u001b[0m\u001b[1;34m\"Predicted Class\"\u001b[0m\u001b[1;33m]\u001b[0m\u001b[1;33m]\u001b[0m\u001b[1;33m\u001b[0m\u001b[1;33m\u001b[0m\u001b[0m\n\u001b[1;32m---> 10\u001b[1;33m     \u001b[0mclass_conf\u001b[0m\u001b[1;33m(\u001b[0m\u001b[0my_val_integer\u001b[0m\u001b[1;33m,\u001b[0m\u001b[0my_pred_class\u001b[0m\u001b[1;33m,\u001b[0m\u001b[0mlabels\u001b[0m\u001b[1;33m)\u001b[0m\u001b[1;33m\u001b[0m\u001b[1;33m\u001b[0m\u001b[0m\n\u001b[0m\u001b[0;32m     11\u001b[0m     \u001b[0mprint\u001b[0m\u001b[1;33m(\u001b[0m\u001b[1;34m\"\\n\"\u001b[0m\u001b[1;33m)\u001b[0m\u001b[1;33m\u001b[0m\u001b[1;33m\u001b[0m\u001b[0m\n\u001b[0;32m     12\u001b[0m     \u001b[0mprint\u001b[0m\u001b[1;33m(\u001b[0m\u001b[1;34m\"The model predicted:\"\u001b[0m\u001b[1;33m,\u001b[0m \u001b[0mdf_wrong\u001b[0m\u001b[1;33m.\u001b[0m\u001b[0mshape\u001b[0m\u001b[1;33m[\u001b[0m\u001b[1;36m0\u001b[0m\u001b[1;33m]\u001b[0m\u001b[1;33m,\u001b[0m\u001b[1;34m\"aspects wrong from a total of:\"\u001b[0m\u001b[1;33m,\u001b[0m\u001b[0mdf_pred\u001b[0m\u001b[1;33m.\u001b[0m\u001b[0mshape\u001b[0m\u001b[1;33m[\u001b[0m\u001b[1;36m0\u001b[0m\u001b[1;33m]\u001b[0m\u001b[1;33m,\u001b[0m\u001b[1;34m\"predictions\"\u001b[0m\u001b[1;33m)\u001b[0m\u001b[1;33m\u001b[0m\u001b[1;33m\u001b[0m\u001b[0m\n",
      "\u001b[1;32m<ipython-input-37-bce241752885>\u001b[0m in \u001b[0;36mclass_conf\u001b[1;34m(y_val_integer, y_pred_class, labels)\u001b[0m\n\u001b[0;32m      5\u001b[0m     \u001b[0mfig\u001b[0m\u001b[1;33m,\u001b[0m \u001b[0max\u001b[0m \u001b[1;33m=\u001b[0m \u001b[0mplt\u001b[0m\u001b[1;33m.\u001b[0m\u001b[0msubplots\u001b[0m\u001b[1;33m(\u001b[0m\u001b[0mfigsize\u001b[0m \u001b[1;33m=\u001b[0m \u001b[1;33m(\u001b[0m\u001b[1;36m8\u001b[0m\u001b[1;33m,\u001b[0m\u001b[1;36m6\u001b[0m\u001b[1;33m)\u001b[0m\u001b[1;33m)\u001b[0m\u001b[1;33m\u001b[0m\u001b[1;33m\u001b[0m\u001b[0m\n\u001b[0;32m      6\u001b[0m     \u001b[0mcf_matrix\u001b[0m \u001b[1;33m=\u001b[0m \u001b[0mconfusion_matrix\u001b[0m\u001b[1;33m(\u001b[0m\u001b[0my_val_integer\u001b[0m\u001b[1;33m,\u001b[0m \u001b[0my_pred_class\u001b[0m\u001b[1;33m)\u001b[0m\u001b[1;33m\u001b[0m\u001b[1;33m\u001b[0m\u001b[0m\n\u001b[1;32m----> 7\u001b[1;33m     \u001b[0msns\u001b[0m\u001b[1;33m.\u001b[0m\u001b[0mheatmap\u001b[0m\u001b[1;33m(\u001b[0m\u001b[0mcf_matrix\u001b[0m\u001b[1;33m,\u001b[0m \u001b[0mannot\u001b[0m \u001b[1;33m=\u001b[0m \u001b[1;32mTrue\u001b[0m\u001b[1;33m,\u001b[0m \u001b[0mfmt\u001b[0m \u001b[1;33m=\u001b[0m \u001b[1;34m\"d\"\u001b[0m\u001b[1;33m,\u001b[0m\u001b[0mcmap\u001b[0m \u001b[1;33m=\u001b[0m \u001b[0mplt\u001b[0m\u001b[1;33m.\u001b[0m\u001b[0mcm\u001b[0m\u001b[1;33m.\u001b[0m\u001b[0mBlues\u001b[0m\u001b[1;33m,\u001b[0m\u001b[0mlabels\u001b[0m \u001b[1;33m=\u001b[0m \u001b[0mlabels\u001b[0m\u001b[1;33m)\u001b[0m\u001b[1;33m\u001b[0m\u001b[1;33m\u001b[0m\u001b[0m\n\u001b[0m\u001b[0;32m      8\u001b[0m     \u001b[0mplt\u001b[0m\u001b[1;33m.\u001b[0m\u001b[0mxlabel\u001b[0m\u001b[1;33m(\u001b[0m\u001b[1;34m'Predicted'\u001b[0m\u001b[1;33m)\u001b[0m\u001b[1;33m\u001b[0m\u001b[1;33m\u001b[0m\u001b[0m\n\u001b[0;32m      9\u001b[0m     \u001b[0mplt\u001b[0m\u001b[1;33m.\u001b[0m\u001b[0mylabel\u001b[0m\u001b[1;33m(\u001b[0m\u001b[1;34m'Actual'\u001b[0m\u001b[1;33m)\u001b[0m\u001b[1;33m\u001b[0m\u001b[1;33m\u001b[0m\u001b[0m\n",
      "\u001b[1;32m~\\Anaconda3\\envs\\Neural\\lib\\site-packages\\seaborn\\_decorators.py\u001b[0m in \u001b[0;36minner_f\u001b[1;34m(*args, **kwargs)\u001b[0m\n\u001b[0;32m     44\u001b[0m             )\n\u001b[0;32m     45\u001b[0m         \u001b[0mkwargs\u001b[0m\u001b[1;33m.\u001b[0m\u001b[0mupdate\u001b[0m\u001b[1;33m(\u001b[0m\u001b[1;33m{\u001b[0m\u001b[0mk\u001b[0m\u001b[1;33m:\u001b[0m \u001b[0marg\u001b[0m \u001b[1;32mfor\u001b[0m \u001b[0mk\u001b[0m\u001b[1;33m,\u001b[0m \u001b[0marg\u001b[0m \u001b[1;32min\u001b[0m \u001b[0mzip\u001b[0m\u001b[1;33m(\u001b[0m\u001b[0msig\u001b[0m\u001b[1;33m.\u001b[0m\u001b[0mparameters\u001b[0m\u001b[1;33m,\u001b[0m \u001b[0margs\u001b[0m\u001b[1;33m)\u001b[0m\u001b[1;33m}\u001b[0m\u001b[1;33m)\u001b[0m\u001b[1;33m\u001b[0m\u001b[1;33m\u001b[0m\u001b[0m\n\u001b[1;32m---> 46\u001b[1;33m         \u001b[1;32mreturn\u001b[0m \u001b[0mf\u001b[0m\u001b[1;33m(\u001b[0m\u001b[1;33m**\u001b[0m\u001b[0mkwargs\u001b[0m\u001b[1;33m)\u001b[0m\u001b[1;33m\u001b[0m\u001b[1;33m\u001b[0m\u001b[0m\n\u001b[0m\u001b[0;32m     47\u001b[0m     \u001b[1;32mreturn\u001b[0m \u001b[0minner_f\u001b[0m\u001b[1;33m\u001b[0m\u001b[1;33m\u001b[0m\u001b[0m\n\u001b[0;32m     48\u001b[0m \u001b[1;33m\u001b[0m\u001b[0m\n",
      "\u001b[1;32m~\\Anaconda3\\envs\\Neural\\lib\\site-packages\\seaborn\\matrix.py\u001b[0m in \u001b[0;36mheatmap\u001b[1;34m(data, vmin, vmax, cmap, center, robust, annot, fmt, annot_kws, linewidths, linecolor, cbar, cbar_kws, cbar_ax, square, xticklabels, yticklabels, mask, ax, **kwargs)\u001b[0m\n\u001b[0;32m    546\u001b[0m     \u001b[1;32mif\u001b[0m \u001b[0msquare\u001b[0m\u001b[1;33m:\u001b[0m\u001b[1;33m\u001b[0m\u001b[1;33m\u001b[0m\u001b[0m\n\u001b[0;32m    547\u001b[0m         \u001b[0max\u001b[0m\u001b[1;33m.\u001b[0m\u001b[0mset_aspect\u001b[0m\u001b[1;33m(\u001b[0m\u001b[1;34m\"equal\"\u001b[0m\u001b[1;33m)\u001b[0m\u001b[1;33m\u001b[0m\u001b[1;33m\u001b[0m\u001b[0m\n\u001b[1;32m--> 548\u001b[1;33m     \u001b[0mplotter\u001b[0m\u001b[1;33m.\u001b[0m\u001b[0mplot\u001b[0m\u001b[1;33m(\u001b[0m\u001b[0max\u001b[0m\u001b[1;33m,\u001b[0m \u001b[0mcbar_ax\u001b[0m\u001b[1;33m,\u001b[0m \u001b[0mkwargs\u001b[0m\u001b[1;33m)\u001b[0m\u001b[1;33m\u001b[0m\u001b[1;33m\u001b[0m\u001b[0m\n\u001b[0m\u001b[0;32m    549\u001b[0m     \u001b[1;32mreturn\u001b[0m \u001b[0max\u001b[0m\u001b[1;33m\u001b[0m\u001b[1;33m\u001b[0m\u001b[0m\n\u001b[0;32m    550\u001b[0m \u001b[1;33m\u001b[0m\u001b[0m\n",
      "\u001b[1;32m~\\Anaconda3\\envs\\Neural\\lib\\site-packages\\seaborn\\matrix.py\u001b[0m in \u001b[0;36mplot\u001b[1;34m(self, ax, cax, kws)\u001b[0m\n\u001b[0;32m    296\u001b[0m \u001b[1;33m\u001b[0m\u001b[0m\n\u001b[0;32m    297\u001b[0m         \u001b[1;31m# Draw the heatmap\u001b[0m\u001b[1;33m\u001b[0m\u001b[1;33m\u001b[0m\u001b[1;33m\u001b[0m\u001b[0m\n\u001b[1;32m--> 298\u001b[1;33m         \u001b[0mmesh\u001b[0m \u001b[1;33m=\u001b[0m \u001b[0max\u001b[0m\u001b[1;33m.\u001b[0m\u001b[0mpcolormesh\u001b[0m\u001b[1;33m(\u001b[0m\u001b[0mself\u001b[0m\u001b[1;33m.\u001b[0m\u001b[0mplot_data\u001b[0m\u001b[1;33m,\u001b[0m \u001b[0mcmap\u001b[0m\u001b[1;33m=\u001b[0m\u001b[0mself\u001b[0m\u001b[1;33m.\u001b[0m\u001b[0mcmap\u001b[0m\u001b[1;33m,\u001b[0m \u001b[1;33m**\u001b[0m\u001b[0mkws\u001b[0m\u001b[1;33m)\u001b[0m\u001b[1;33m\u001b[0m\u001b[1;33m\u001b[0m\u001b[0m\n\u001b[0m\u001b[0;32m    299\u001b[0m \u001b[1;33m\u001b[0m\u001b[0m\n\u001b[0;32m    300\u001b[0m         \u001b[1;31m# Set the axis limits\u001b[0m\u001b[1;33m\u001b[0m\u001b[1;33m\u001b[0m\u001b[1;33m\u001b[0m\u001b[0m\n",
      "\u001b[1;32m~\\Anaconda3\\envs\\Neural\\lib\\site-packages\\matplotlib\\__init__.py\u001b[0m in \u001b[0;36minner\u001b[1;34m(ax, data, *args, **kwargs)\u001b[0m\n\u001b[0;32m   1445\u001b[0m     \u001b[1;32mdef\u001b[0m \u001b[0minner\u001b[0m\u001b[1;33m(\u001b[0m\u001b[0max\u001b[0m\u001b[1;33m,\u001b[0m \u001b[1;33m*\u001b[0m\u001b[0margs\u001b[0m\u001b[1;33m,\u001b[0m \u001b[0mdata\u001b[0m\u001b[1;33m=\u001b[0m\u001b[1;32mNone\u001b[0m\u001b[1;33m,\u001b[0m \u001b[1;33m**\u001b[0m\u001b[0mkwargs\u001b[0m\u001b[1;33m)\u001b[0m\u001b[1;33m:\u001b[0m\u001b[1;33m\u001b[0m\u001b[1;33m\u001b[0m\u001b[0m\n\u001b[0;32m   1446\u001b[0m         \u001b[1;32mif\u001b[0m \u001b[0mdata\u001b[0m \u001b[1;32mis\u001b[0m \u001b[1;32mNone\u001b[0m\u001b[1;33m:\u001b[0m\u001b[1;33m\u001b[0m\u001b[1;33m\u001b[0m\u001b[0m\n\u001b[1;32m-> 1447\u001b[1;33m             \u001b[1;32mreturn\u001b[0m \u001b[0mfunc\u001b[0m\u001b[1;33m(\u001b[0m\u001b[0max\u001b[0m\u001b[1;33m,\u001b[0m \u001b[1;33m*\u001b[0m\u001b[0mmap\u001b[0m\u001b[1;33m(\u001b[0m\u001b[0msanitize_sequence\u001b[0m\u001b[1;33m,\u001b[0m \u001b[0margs\u001b[0m\u001b[1;33m)\u001b[0m\u001b[1;33m,\u001b[0m \u001b[1;33m**\u001b[0m\u001b[0mkwargs\u001b[0m\u001b[1;33m)\u001b[0m\u001b[1;33m\u001b[0m\u001b[1;33m\u001b[0m\u001b[0m\n\u001b[0m\u001b[0;32m   1448\u001b[0m \u001b[1;33m\u001b[0m\u001b[0m\n\u001b[0;32m   1449\u001b[0m         \u001b[0mbound\u001b[0m \u001b[1;33m=\u001b[0m \u001b[0mnew_sig\u001b[0m\u001b[1;33m.\u001b[0m\u001b[0mbind\u001b[0m\u001b[1;33m(\u001b[0m\u001b[0max\u001b[0m\u001b[1;33m,\u001b[0m \u001b[1;33m*\u001b[0m\u001b[0margs\u001b[0m\u001b[1;33m,\u001b[0m \u001b[1;33m**\u001b[0m\u001b[0mkwargs\u001b[0m\u001b[1;33m)\u001b[0m\u001b[1;33m\u001b[0m\u001b[1;33m\u001b[0m\u001b[0m\n",
      "\u001b[1;32m~\\Anaconda3\\envs\\Neural\\lib\\site-packages\\matplotlib\\axes\\_axes.py\u001b[0m in \u001b[0;36mpcolormesh\u001b[1;34m(self, alpha, norm, cmap, vmin, vmax, shading, antialiased, *args, **kwargs)\u001b[0m\n\u001b[0;32m   6101\u001b[0m         collection = mcoll.QuadMesh(Nx - 1, Ny - 1, coords,\n\u001b[0;32m   6102\u001b[0m                                     \u001b[0mantialiased\u001b[0m\u001b[1;33m=\u001b[0m\u001b[0mantialiased\u001b[0m\u001b[1;33m,\u001b[0m \u001b[0mshading\u001b[0m\u001b[1;33m=\u001b[0m\u001b[0mshading\u001b[0m\u001b[1;33m,\u001b[0m\u001b[1;33m\u001b[0m\u001b[1;33m\u001b[0m\u001b[0m\n\u001b[1;32m-> 6103\u001b[1;33m                                     **kwargs)\n\u001b[0m\u001b[0;32m   6104\u001b[0m         \u001b[0mcollection\u001b[0m\u001b[1;33m.\u001b[0m\u001b[0mset_alpha\u001b[0m\u001b[1;33m(\u001b[0m\u001b[0malpha\u001b[0m\u001b[1;33m)\u001b[0m\u001b[1;33m\u001b[0m\u001b[1;33m\u001b[0m\u001b[0m\n\u001b[0;32m   6105\u001b[0m         \u001b[0mcollection\u001b[0m\u001b[1;33m.\u001b[0m\u001b[0mset_array\u001b[0m\u001b[1;33m(\u001b[0m\u001b[0mC\u001b[0m\u001b[1;33m)\u001b[0m\u001b[1;33m\u001b[0m\u001b[1;33m\u001b[0m\u001b[0m\n",
      "\u001b[1;32m~\\Anaconda3\\envs\\Neural\\lib\\site-packages\\matplotlib\\collections.py\u001b[0m in \u001b[0;36m__init__\u001b[1;34m(self, meshWidth, meshHeight, coordinates, antialiased, shading, **kwargs)\u001b[0m\n\u001b[0;32m   1917\u001b[0m     def __init__(self, meshWidth, meshHeight, coordinates,\n\u001b[0;32m   1918\u001b[0m                  antialiased=True, shading='flat', **kwargs):\n\u001b[1;32m-> 1919\u001b[1;33m         \u001b[0mCollection\u001b[0m\u001b[1;33m.\u001b[0m\u001b[0m__init__\u001b[0m\u001b[1;33m(\u001b[0m\u001b[0mself\u001b[0m\u001b[1;33m,\u001b[0m \u001b[1;33m**\u001b[0m\u001b[0mkwargs\u001b[0m\u001b[1;33m)\u001b[0m\u001b[1;33m\u001b[0m\u001b[1;33m\u001b[0m\u001b[0m\n\u001b[0m\u001b[0;32m   1920\u001b[0m         \u001b[0mself\u001b[0m\u001b[1;33m.\u001b[0m\u001b[0m_meshWidth\u001b[0m \u001b[1;33m=\u001b[0m \u001b[0mmeshWidth\u001b[0m\u001b[1;33m\u001b[0m\u001b[1;33m\u001b[0m\u001b[0m\n\u001b[0;32m   1921\u001b[0m         \u001b[0mself\u001b[0m\u001b[1;33m.\u001b[0m\u001b[0m_meshHeight\u001b[0m \u001b[1;33m=\u001b[0m \u001b[0mmeshHeight\u001b[0m\u001b[1;33m\u001b[0m\u001b[1;33m\u001b[0m\u001b[0m\n",
      "\u001b[1;32m~\\Anaconda3\\envs\\Neural\\lib\\site-packages\\matplotlib\\cbook\\deprecation.py\u001b[0m in \u001b[0;36mwrapper\u001b[1;34m(*inner_args, **inner_kwargs)\u001b[0m\n\u001b[0;32m    409\u001b[0m                          \u001b[1;32melse\u001b[0m \u001b[0mdeprecation_addendum\u001b[0m\u001b[1;33m,\u001b[0m\u001b[1;33m\u001b[0m\u001b[1;33m\u001b[0m\u001b[0m\n\u001b[0;32m    410\u001b[0m                 **kwargs)\n\u001b[1;32m--> 411\u001b[1;33m         \u001b[1;32mreturn\u001b[0m \u001b[0mfunc\u001b[0m\u001b[1;33m(\u001b[0m\u001b[1;33m*\u001b[0m\u001b[0minner_args\u001b[0m\u001b[1;33m,\u001b[0m \u001b[1;33m**\u001b[0m\u001b[0minner_kwargs\u001b[0m\u001b[1;33m)\u001b[0m\u001b[1;33m\u001b[0m\u001b[1;33m\u001b[0m\u001b[0m\n\u001b[0m\u001b[0;32m    412\u001b[0m \u001b[1;33m\u001b[0m\u001b[0m\n\u001b[0;32m    413\u001b[0m     \u001b[1;32mreturn\u001b[0m \u001b[0mwrapper\u001b[0m\u001b[1;33m\u001b[0m\u001b[1;33m\u001b[0m\u001b[0m\n",
      "\u001b[1;32m~\\Anaconda3\\envs\\Neural\\lib\\site-packages\\matplotlib\\collections.py\u001b[0m in \u001b[0;36m__init__\u001b[1;34m(self, edgecolors, facecolors, linewidths, linestyles, capstyle, joinstyle, antialiaseds, offsets, transOffset, norm, cmap, pickradius, hatch, urls, offset_position, zorder, **kwargs)\u001b[0m\n\u001b[0;32m    211\u001b[0m \u001b[1;33m\u001b[0m\u001b[0m\n\u001b[0;32m    212\u001b[0m         \u001b[0mself\u001b[0m\u001b[1;33m.\u001b[0m\u001b[0m_path_effects\u001b[0m \u001b[1;33m=\u001b[0m \u001b[1;32mNone\u001b[0m\u001b[1;33m\u001b[0m\u001b[1;33m\u001b[0m\u001b[0m\n\u001b[1;32m--> 213\u001b[1;33m         \u001b[0mself\u001b[0m\u001b[1;33m.\u001b[0m\u001b[0mupdate\u001b[0m\u001b[1;33m(\u001b[0m\u001b[0mkwargs\u001b[0m\u001b[1;33m)\u001b[0m\u001b[1;33m\u001b[0m\u001b[1;33m\u001b[0m\u001b[0m\n\u001b[0m\u001b[0;32m    214\u001b[0m         \u001b[0mself\u001b[0m\u001b[1;33m.\u001b[0m\u001b[0m_paths\u001b[0m \u001b[1;33m=\u001b[0m \u001b[1;32mNone\u001b[0m\u001b[1;33m\u001b[0m\u001b[1;33m\u001b[0m\u001b[0m\n\u001b[0;32m    215\u001b[0m \u001b[1;33m\u001b[0m\u001b[0m\n",
      "\u001b[1;32m~\\Anaconda3\\envs\\Neural\\lib\\site-packages\\matplotlib\\artist.py\u001b[0m in \u001b[0;36mupdate\u001b[1;34m(self, props)\u001b[0m\n\u001b[0;32m    994\u001b[0m                     \u001b[0mfunc\u001b[0m \u001b[1;33m=\u001b[0m \u001b[0mgetattr\u001b[0m\u001b[1;33m(\u001b[0m\u001b[0mself\u001b[0m\u001b[1;33m,\u001b[0m \u001b[1;34mf\"set_{k}\"\u001b[0m\u001b[1;33m,\u001b[0m \u001b[1;32mNone\u001b[0m\u001b[1;33m)\u001b[0m\u001b[1;33m\u001b[0m\u001b[1;33m\u001b[0m\u001b[0m\n\u001b[0;32m    995\u001b[0m                     \u001b[1;32mif\u001b[0m \u001b[1;32mnot\u001b[0m \u001b[0mcallable\u001b[0m\u001b[1;33m(\u001b[0m\u001b[0mfunc\u001b[0m\u001b[1;33m)\u001b[0m\u001b[1;33m:\u001b[0m\u001b[1;33m\u001b[0m\u001b[1;33m\u001b[0m\u001b[0m\n\u001b[1;32m--> 996\u001b[1;33m                         raise AttributeError(f\"{type(self).__name__!r} object \"\n\u001b[0m\u001b[0;32m    997\u001b[0m                                              f\"has no property {k!r}\")\n\u001b[0;32m    998\u001b[0m                     \u001b[0mret\u001b[0m\u001b[1;33m.\u001b[0m\u001b[0mappend\u001b[0m\u001b[1;33m(\u001b[0m\u001b[0mfunc\u001b[0m\u001b[1;33m(\u001b[0m\u001b[0mv\u001b[0m\u001b[1;33m)\u001b[0m\u001b[1;33m)\u001b[0m\u001b[1;33m\u001b[0m\u001b[1;33m\u001b[0m\u001b[0m\n",
      "\u001b[1;31mAttributeError\u001b[0m: 'QuadMesh' object has no property 'labels'"
     ]
    },
    {
     "data": {
      "image/png": "[encoded data removed]",
      "text/plain": [
       "<Figure size 576x432 with 1 Axes>"
      ]
     },
     "metadata": {},
     "output_type": "display_data"
    }
   ],
   "source": [
    "label_accom = ['Entertainment','Food','Hotel','Location','Room','Staff','Value']\n",
    "df_pred_accom, df_wrong_accom = eval(model1, output_dir,\"/weights.04.hdf5\",X_val_accom_w, y_val_accom_e,y_val_accom,label_accom)"
   ]
  },
  {
   "cell_type": "code",
   "execution_count": 480,
   "id": "1b3258bb",
   "metadata": {},
   "outputs": [
    {
     "data": {
      "text/html": [
       "<div>\n",
       "<style scoped>\n",
       "    .dataframe tbody tr th:only-of-type {\n",
       "        vertical-align: middle;\n",
       "    }\n",
       "\n",
       "    .dataframe tbody tr th {\n",
       "        vertical-align: top;\n",
       "    }\n",
       "\n",
       "    .dataframe thead th {\n",
       "        text-align: right;\n",
       "    }\n",
       "</style>\n",
       "<table border=\"1\" class=\"dataframe\">\n",
       "  <thead>\n",
       "    <tr style=\"text-align: right;\">\n",
       "      <th></th>\n",
       "      <th>Actual Class</th>\n",
       "      <th>Actual Aspect</th>\n",
       "      <th>Predicted Class</th>\n",
       "    </tr>\n",
       "  </thead>\n",
       "  <tbody>\n",
       "    <tr>\n",
       "      <th>0</th>\n",
       "      <td>0</td>\n",
       "      <td>Entertainment</td>\n",
       "      <td>6</td>\n",
       "    </tr>\n",
       "    <tr>\n",
       "      <th>2</th>\n",
       "      <td>2</td>\n",
       "      <td>Hotel</td>\n",
       "      <td>6</td>\n",
       "    </tr>\n",
       "    <tr>\n",
       "      <th>14</th>\n",
       "      <td>0</td>\n",
       "      <td>Entertainment</td>\n",
       "      <td>1</td>\n",
       "    </tr>\n",
       "    <tr>\n",
       "      <th>16</th>\n",
       "      <td>2</td>\n",
       "      <td>Hotel</td>\n",
       "      <td>5</td>\n",
       "    </tr>\n",
       "    <tr>\n",
       "      <th>26</th>\n",
       "      <td>2</td>\n",
       "      <td>Hotel</td>\n",
       "      <td>4</td>\n",
       "    </tr>\n",
       "    <tr>\n",
       "      <th>33</th>\n",
       "      <td>5</td>\n",
       "      <td>Staff</td>\n",
       "      <td>0</td>\n",
       "    </tr>\n",
       "    <tr>\n",
       "      <th>47</th>\n",
       "      <td>4</td>\n",
       "      <td>Room</td>\n",
       "      <td>0</td>\n",
       "    </tr>\n",
       "    <tr>\n",
       "      <th>50</th>\n",
       "      <td>5</td>\n",
       "      <td>Staff</td>\n",
       "      <td>0</td>\n",
       "    </tr>\n",
       "    <tr>\n",
       "      <th>75</th>\n",
       "      <td>1</td>\n",
       "      <td>Food</td>\n",
       "      <td>5</td>\n",
       "    </tr>\n",
       "    <tr>\n",
       "      <th>77</th>\n",
       "      <td>3</td>\n",
       "      <td>Location</td>\n",
       "      <td>0</td>\n",
       "    </tr>\n",
       "    <tr>\n",
       "      <th>85</th>\n",
       "      <td>2</td>\n",
       "      <td>Hotel</td>\n",
       "      <td>0</td>\n",
       "    </tr>\n",
       "    <tr>\n",
       "      <th>88</th>\n",
       "      <td>6</td>\n",
       "      <td>Value</td>\n",
       "      <td>0</td>\n",
       "    </tr>\n",
       "    <tr>\n",
       "      <th>100</th>\n",
       "      <td>0</td>\n",
       "      <td>Entertainment</td>\n",
       "      <td>1</td>\n",
       "    </tr>\n",
       "    <tr>\n",
       "      <th>105</th>\n",
       "      <td>5</td>\n",
       "      <td>Staff</td>\n",
       "      <td>6</td>\n",
       "    </tr>\n",
       "    <tr>\n",
       "      <th>114</th>\n",
       "      <td>1</td>\n",
       "      <td>Food</td>\n",
       "      <td>5</td>\n",
       "    </tr>\n",
       "    <tr>\n",
       "      <th>116</th>\n",
       "      <td>5</td>\n",
       "      <td>Staff</td>\n",
       "      <td>4</td>\n",
       "    </tr>\n",
       "    <tr>\n",
       "      <th>121</th>\n",
       "      <td>2</td>\n",
       "      <td>Hotel</td>\n",
       "      <td>6</td>\n",
       "    </tr>\n",
       "    <tr>\n",
       "      <th>149</th>\n",
       "      <td>3</td>\n",
       "      <td>Location</td>\n",
       "      <td>4</td>\n",
       "    </tr>\n",
       "    <tr>\n",
       "      <th>159</th>\n",
       "      <td>1</td>\n",
       "      <td>Food</td>\n",
       "      <td>5</td>\n",
       "    </tr>\n",
       "    <tr>\n",
       "      <th>170</th>\n",
       "      <td>4</td>\n",
       "      <td>Room</td>\n",
       "      <td>0</td>\n",
       "    </tr>\n",
       "    <tr>\n",
       "      <th>180</th>\n",
       "      <td>1</td>\n",
       "      <td>Food</td>\n",
       "      <td>5</td>\n",
       "    </tr>\n",
       "    <tr>\n",
       "      <th>185</th>\n",
       "      <td>1</td>\n",
       "      <td>Food</td>\n",
       "      <td>4</td>\n",
       "    </tr>\n",
       "    <tr>\n",
       "      <th>194</th>\n",
       "      <td>4</td>\n",
       "      <td>Room</td>\n",
       "      <td>0</td>\n",
       "    </tr>\n",
       "    <tr>\n",
       "      <th>196</th>\n",
       "      <td>3</td>\n",
       "      <td>Location</td>\n",
       "      <td>0</td>\n",
       "    </tr>\n",
       "    <tr>\n",
       "      <th>200</th>\n",
       "      <td>5</td>\n",
       "      <td>Staff</td>\n",
       "      <td>4</td>\n",
       "    </tr>\n",
       "    <tr>\n",
       "      <th>203</th>\n",
       "      <td>6</td>\n",
       "      <td>Value</td>\n",
       "      <td>5</td>\n",
       "    </tr>\n",
       "    <tr>\n",
       "      <th>221</th>\n",
       "      <td>5</td>\n",
       "      <td>Staff</td>\n",
       "      <td>0</td>\n",
       "    </tr>\n",
       "  </tbody>\n",
       "</table>\n",
       "</div>"
      ],
      "text/plain": [
       "     Actual Class  Actual Aspect  Predicted Class\n",
       "0               0  Entertainment                6\n",
       "2               2          Hotel                6\n",
       "14              0  Entertainment                1\n",
       "16              2          Hotel                5\n",
       "26              2          Hotel                4\n",
       "33              5          Staff                0\n",
       "47              4           Room                0\n",
       "50              5          Staff                0\n",
       "75              1           Food                5\n",
       "77              3       Location                0\n",
       "85              2          Hotel                0\n",
       "88              6          Value                0\n",
       "100             0  Entertainment                1\n",
       "105             5          Staff                6\n",
       "114             1           Food                5\n",
       "116             5          Staff                4\n",
       "121             2          Hotel                6\n",
       "149             3       Location                4\n",
       "159             1           Food                5\n",
       "170             4           Room                0\n",
       "180             1           Food                5\n",
       "185             1           Food                4\n",
       "194             4           Room                0\n",
       "196             3       Location                0\n",
       "200             5          Staff                4\n",
       "203             6          Value                5\n",
       "221             5          Staff                0"
      ]
     },
     "execution_count": 480,
     "metadata": {},
     "output_type": "execute_result"
    }
   ],
   "source": [
    "df_wrong_accom"
   ]
  },
  {
   "cell_type": "markdown",
   "id": "fbb89f75",
   "metadata": {},
   "source": [
    "General comments:\n",
    "\n",
    "* the model is overfitting\n",
    "* the model seems to misclassifying some aspects - these topics may be fuzzy fitting into more than one aspect (for example index 19 (entertainment, food, staff)\n",
    "* more training data might help the model improve classification"
   ]
  },
  {
   "cell_type": "markdown",
   "id": "a68ffcce",
   "metadata": {},
   "source": [
    "# Section 5: Building a food aspect classifier"
   ]
  },
  {
   "cell_type": "markdown",
   "id": "cfcdd3f4",
   "metadata": {},
   "source": [
    "## Build model"
   ]
  },
  {
   "cell_type": "code",
   "execution_count": 468,
   "id": "87ffbd45",
   "metadata": {},
   "outputs": [],
   "source": [
    "# Parameters\n",
    "input_dim = 6000\n",
    "output_dim = 16\n",
    "input_length = 20\n",
    "batch_size = 16\n",
    "epochs = 50\n",
    "class_weights_food = {0:cw_food[0],1:cw_food[1],2:cw_food[2],3:cw_food[3],4:cw_food[4],5:cw_food[5]}\n",
    "\n",
    "# Set output directory and callbacks (patience set to 5)\n",
    "output_dir = out('model_output/FoodAspectModels')\n",
    "callbacks = call(output_dir,5)\n",
    "class_weights = class_weights_food"
   ]
  },
  {
   "cell_type": "markdown",
   "id": "026939e9",
   "metadata": {},
   "source": [
    "### Cross validation evaluation"
   ]
  },
  {
   "cell_type": "code",
   "execution_count": 469,
   "id": "aefbc86f",
   "metadata": {},
   "outputs": [
    {
     "name": "stdout",
     "output_type": "stream",
     "text": [
      "0.9560846626758576\n"
     ]
    }
   ],
   "source": [
    "# Combine training and validation sets for word embeddings and target encoded as integers as multi-label indicator (one-hot)\n",
    "# encoding is not supported\n",
    "# Run stratified cross validation and report mean accuracy for ten folds using create_model_a with 6 output parameters\n",
    "\n",
    "X_train_food_cross, y_train_food_cross = combine(X_train_food_w, X_val_food_w, y_train_food_l,y_val_food_l)\n",
    "cross(X_train_food_cross, y_train_food_cross,create_model_b)"
   ]
  },
  {
   "cell_type": "markdown",
   "id": "d69d822f",
   "metadata": {},
   "source": [
    "### Hold-out evaluation"
   ]
  },
  {
   "cell_type": "code",
   "execution_count": 470,
   "id": "dc73690c",
   "metadata": {},
   "outputs": [
    {
     "name": "stdout",
     "output_type": "stream",
     "text": [
      "Epoch 1/50\n",
      "105/105 - 0s - loss: 1.6665 - accuracy: 0.3131 - val_loss: 1.0020 - val_accuracy: 0.7476\n",
      "Epoch 2/50\n",
      "105/105 - 0s - loss: 0.5935 - accuracy: 0.7952 - val_loss: 0.1854 - val_accuracy: 0.9571\n",
      "Epoch 3/50\n",
      "105/105 - 0s - loss: 0.1714 - accuracy: 0.9524 - val_loss: 0.1654 - val_accuracy: 0.9619\n",
      "Epoch 4/50\n",
      "105/105 - 0s - loss: 0.0808 - accuracy: 0.9744 - val_loss: 0.1550 - val_accuracy: 0.9619\n",
      "Epoch 5/50\n",
      "105/105 - 0s - loss: 0.0553 - accuracy: 0.9857 - val_loss: 0.1415 - val_accuracy: 0.9619\n",
      "Epoch 6/50\n",
      "105/105 - 0s - loss: 0.0531 - accuracy: 0.9863 - val_loss: 0.1929 - val_accuracy: 0.9524\n",
      "Epoch 7/50\n",
      "105/105 - 0s - loss: 0.0303 - accuracy: 0.9929 - val_loss: 0.2208 - val_accuracy: 0.9571\n",
      "Epoch 8/50\n",
      "105/105 - 0s - loss: 0.0208 - accuracy: 0.9946 - val_loss: 0.2019 - val_accuracy: 0.9524\n",
      "Epoch 9/50\n",
      "105/105 - 0s - loss: 0.0242 - accuracy: 0.9952 - val_loss: 0.1768 - val_accuracy: 0.9619\n",
      "Epoch 10/50\n",
      "105/105 - 0s - loss: 0.0185 - accuracy: 0.9940 - val_loss: 0.1563 - val_accuracy: 0.9619\n",
      "\n",
      "\n",
      "\n",
      "53/53 [==============================] - 0s 646us/step - loss: 0.0077 - accuracy: 0.9976\n",
      "[0.007735200226306915, 0.9976190328598022]\n",
      "7/7 [==============================] - 0s 570us/step - loss: 0.1563 - accuracy: 0.9619\n",
      "[0.15627671778202057, 0.961904764175415]\n",
      "\n",
      "\n",
      "\n"
     ]
    },
    {
     "data": {
      "image/png": "[encoded data removed]",
      "text/plain": [
       "<Figure size 864x360 with 2 Axes>"
      ]
     },
     "metadata": {},
     "output_type": "display_data"
    }
   ],
   "source": [
    "# Run model using the word embeddings and the target encoded as one-hot encoding\n",
    "model2 = create_model_b()\n",
    "history2 = run_mod(model2, X_train_food_w, X_val_food_w, y_train_food_e, y_val_food_e)\n",
    "model2.save('food.h5')"
   ]
  },
  {
   "cell_type": "code",
   "execution_count": 471,
   "id": "b424b162",
   "metadata": {},
   "outputs": [
    {
     "name": "stdout",
     "output_type": "stream",
     "text": [
      "              precision    recall  f1-score   support\n",
      "\n",
      "           0       0.92      0.97      0.94        35\n",
      "           1       0.92      0.94      0.93        35\n",
      "           2       1.00      1.00      1.00        35\n",
      "           3       1.00      0.97      0.99        35\n",
      "           4       1.00      0.97      0.99        35\n",
      "           5       0.94      0.91      0.93        35\n",
      "\n",
      "    accuracy                           0.96       210\n",
      "   macro avg       0.96      0.96      0.96       210\n",
      "weighted avg       0.96      0.96      0.96       210\n",
      "\n",
      "\n",
      "\n",
      "The model predicted: 8 aspects wrong from a total of: 210 predictions\n",
      "\n",
      "\n"
     ]
    },
    {
     "data": {
      "image/png": "[encoded data removed]",
      "text/plain": [
       "<Figure size 576x432 with 2 Axes>"
      ]
     },
     "metadata": {},
     "output_type": "display_data"
    }
   ],
   "source": [
    "df_wrong_food = eval(model2, output_dir,\"/weights.03.hdf5\",X_val_food_w, y_val_food_e,y_val_food)"
   ]
  },
  {
   "cell_type": "markdown",
   "id": "708a4ca7",
   "metadata": {},
   "source": [
    "Visit experience is predicted as meal experience suggesting these aspects are a bit fuzzy. Therefore combining them may improve the model."
   ]
  },
  {
   "cell_type": "code",
   "execution_count": 472,
   "id": "1f21655a",
   "metadata": {},
   "outputs": [
    {
     "data": {
      "text/plain": [
       "Menu Choice      350\n",
       "Value            350\n",
       "Meal Exp         350\n",
       "Food Quality     350\n",
       "Staff&Service    350\n",
       "Name: Aspect, dtype: int64"
      ]
     },
     "execution_count": 472,
     "metadata": {},
     "output_type": "execute_result"
    }
   ],
   "source": [
    "# Combine the categories and sample to 350 as per other aspects\n",
    "df_food_revised = df_food.copy()\n",
    "df_food_revised[\"Aspect\"] = df_food_revised[\"Aspect\"].replace(\"Visit Exp\",\"Meal Exp\")\n",
    "df_food_revised = df_food_revised.groupby('Aspect').sample(n = 350)\n",
    "df_food_revised[\"Aspect\"].value_counts()"
   ]
  },
  {
   "cell_type": "code",
   "execution_count": 473,
   "id": "e5838e94",
   "metadata": {},
   "outputs": [
    {
     "name": "stdout",
     "output_type": "stream",
     "text": [
      "(1750,) (1750,)\n"
     ]
    }
   ],
   "source": [
    "X_food,y_food = XY(df_food_revised)\n",
    "print(X_food.shape, y_food.shape)"
   ]
  },
  {
   "cell_type": "code",
   "execution_count": 476,
   "id": "ebfb4f59",
   "metadata": {},
   "outputs": [],
   "source": [
    "# Get train, val, test, encode y as labels and one-hot encoding and X as word embeddings\n",
    "X_train_food,X_val_food,X_test_food,y_train_food,y_val_food,y_test_food = train_test(X_food,y_food)\n",
    "y_train_food_e, y_val_food_e, y_test_food_e = bin(y_train_food, y_val_food, y_test_food)\n",
    "y_train_food_l, y_val_food_l, y_test_food_l = lab(y_train_food, y_val_food, y_test_food)\n",
    "food_tok,X_train_food_w, X_val_food_w, X_test_food_w = tok(X_train_food, X_val_food, X_test_food)"
   ]
  },
  {
   "cell_type": "code",
   "execution_count": 477,
   "id": "1a7f95f6",
   "metadata": {},
   "outputs": [],
   "source": [
    "# Save out new test sets and tokenizer for use in combined model testing\n",
    "save_tok('X_test_food.pickle',X_test_food_w)\n",
    "save_tok('y_test_food.pickle',y_test_food_e)\n",
    "save_tok('food_tokenizer.pickle',food_tok)"
   ]
  },
  {
   "cell_type": "code",
   "execution_count": null,
   "id": "0917cc48",
   "metadata": {},
   "outputs": [],
   "source": [
    "# Redefine model with output of 5\n",
    "def create_model_c():\n",
    "    model = Sequential()\n",
    "    model.add(Embedding(input_dim = input_dim, output_dim = output_dim, input_length = input_length))\n",
    "    model.add(Flatten())\n",
    "    model.add(Dense(512, activation='relu', input_shape=(1600,)))\n",
    "    model.add(Dropout(rate=0.5))\n",
    "    model.add(Dense(256,activation = 'relu'))\n",
    "    model.add(Dropout(rate=0.5))\n",
    "    model.add(Dense(128,activation = 'relu'))\n",
    "    model.add(Dropout(rate=0.5))\n",
    "    model.add(Dense(5, activation='softmax'))\n",
    "    model.compile(optimizer='adam', loss='categorical_crossentropy', metrics=['accuracy'])\n",
    "        \n",
    "    return model"
   ]
  },
  {
   "cell_type": "code",
   "execution_count": null,
   "id": "ba447e23",
   "metadata": {},
   "outputs": [],
   "source": [
    "# Run cross validation\n",
    "X_train_food_cross2, y_train_food_cross2 = combine(X_train_food_w, X_val_food_w, y_train_food_l,y_val_food_l)\n",
    "cross(X_train_food_cross2, y_train_food_cross2,create_model_c)"
   ]
  },
  {
   "cell_type": "code",
   "execution_count": null,
   "id": "bf8e7779",
   "metadata": {},
   "outputs": [],
   "source": [
    "# Run model using the word embeddings and the target encoded as one-hot encoding\n",
    "model2b = create_model_c()\n",
    "history2b = run_mod(model2b, X_train_food_w, X_val_food_w, y_train_food_e, y_val_food_e)\n",
    "model2b.save('food.h5')"
   ]
  },
  {
   "cell_type": "code",
   "execution_count": null,
   "id": "72a3abac",
   "metadata": {},
   "outputs": [],
   "source": [
    "df_wrong_food2 = eval(model2b, output_dir,\"/weights.07.hdf5\",X_val_food_w, y_val_food_e,y_val_food)"
   ]
  },
  {
   "cell_type": "markdown",
   "id": "96c0f239",
   "metadata": {},
   "source": [
    "Analysis:\n",
    "\n",
    "* Combining the aspects of Meal and Visit experience helped improve model accuracy considerably"
   ]
  },
  {
   "cell_type": "markdown",
   "id": "e83f4dad",
   "metadata": {},
   "source": [
    "# Section 6: Building an attractions model"
   ]
  },
  {
   "cell_type": "markdown",
   "id": "e8a53023",
   "metadata": {},
   "source": [
    "## Build a model"
   ]
  },
  {
   "cell_type": "code",
   "execution_count": null,
   "id": "e53226e6",
   "metadata": {},
   "outputs": [],
   "source": [
    "# Parameters\n",
    "input_dim = 6000\n",
    "output_dim = 16\n",
    "input_length = 20\n",
    "batch_size = 16\n",
    "epochs = 50\n",
    "class_weights_attract = {0:cw_attract[0],1:cw_attract[1],2:cw_attract[2],3:cw_attract[3],4:cw_attract[4],5:cw_attract[5],6:cw_attract[6]}\n",
    "\n",
    "output_dir = out('model_output/AtractAspectModels')\n",
    "callbacks = call(output_dir,5)\n",
    "class_weights = class_weights_attract"
   ]
  },
  {
   "cell_type": "markdown",
   "id": "7af9ca05",
   "metadata": {},
   "source": [
    "### Cross validation  evaluation"
   ]
  },
  {
   "cell_type": "code",
   "execution_count": null,
   "id": "061222cb",
   "metadata": {},
   "outputs": [],
   "source": [
    "# Combine training and validation sets for word embeddings and target encoded as integers as multi-label indicator (one-hot)\n",
    "# encoding is not supported\n",
    "# Run stratified cross validation and report mean accuracy for ten folds using create_model_a with 7 output parameters\n",
    "\n",
    "X_train_attract_cross, y_train_attract_cross = combine(X_train_attract_w, X_val_attract_w, y_train_attract_l,y_val_attract_l)\n",
    "cross(X_train_attract_cross, y_train_attract_cross,create_model_a)"
   ]
  },
  {
   "cell_type": "code",
   "execution_count": null,
   "id": "8b63e2a1",
   "metadata": {},
   "outputs": [],
   "source": [
    "# Run model using the word embeddings and the target encoded as one-hot encoding\n",
    "model3 = create_model_a()\n",
    "run_mod(model3, X_train_attract_w, X_val_attract_w, y_train_attract_e, y_val_attract_e)\n",
    "model3.save('attract.h5')"
   ]
  },
  {
   "cell_type": "code",
   "execution_count": null,
   "id": "3230a674",
   "metadata": {},
   "outputs": [],
   "source": [
    "df_wrong_attract = eval(model3, output_dir,\"/weights.08.hdf5\",X_val_attract_w, y_val_attract_e,y_val_attract)"
   ]
  },
  {
   "cell_type": "code",
   "execution_count": null,
   "id": "2a229cbf",
   "metadata": {},
   "outputs": [],
   "source": [
    "df_wrong_attract.head()"
   ]
  },
  {
   "cell_type": "markdown",
   "id": "e661fc59",
   "metadata": {},
   "source": [
    "Analysis of results:\n",
    "\n",
    "* The food model performs best, possibly because the word range is much smaller and the aspects contain fewer words.\n",
    "* Combining the Visit Experience and Meal Experience categories improved the model a little.\n",
    "* The accommodation and attraction models are less accurate possibly because the range of words is greater and there is more scope for classification errors to be made. Increased training data might improve the results for these categories.\n",
    "* Data augmentation is used to increase the training set size for the attractions model which is the worst performing of the three with a cross validation accuracy of 85%"
   ]
  },
  {
   "cell_type": "markdown",
   "id": "a9f24f30",
   "metadata": {},
   "source": [
    "# Section 6: Data Augmentation - Attractions"
   ]
  },
  {
   "cell_type": "markdown",
   "id": "5cfb37ec",
   "metadata": {},
   "source": [
    "Augment the training data using a range of techniques such as changing, deleting, swapping words to increase the number of training samples with synthetic data based on the actual data. Whether to augment the validation set as well as the training set is a bone of contention.\n",
    "\n",
    "https://stats.stackexchange.com/questions/320800/data-augmentation-on-training-set-only/320967#320967\n",
    "\n",
    "On the one hand augmenting just the training is done to reduce overfitting and improve generalisation but if the augmentation is introducing samples which are different and therefore make the training set not representative, it will not perform well when it sees the validation set which does not contain the augmented samples. Some argue that the validation set should be taken from the augmented data to get a proper comparison. Performance on the validation set helps to determine which model to use. \n",
    "\n",
    "Based on reading the opinions from links such as above, a decision was taken to follow the usual practice of only augmenting the training data.\n",
    "\n",
    "Cross validation is difficult here as the folds result in augmented data leaking into the test portion so instead the models are run ten times and an average accuracy taken based on that."
   ]
  },
  {
   "cell_type": "code",
   "execution_count": null,
   "id": "8e9bd672",
   "metadata": {},
   "outputs": [],
   "source": [
    "# Concat and shuffle the training data\n",
    "attract_eda = pd.concat([X_train_attract,y_train_attract],axis = 1)\n",
    "attract_eda = attract_eda.sample(frac=1)\n",
    "attract_eda.head()"
   ]
  },
  {
   "cell_type": "code",
   "execution_count": null,
   "id": "69467506",
   "metadata": {},
   "outputs": [],
   "source": [
    "attract_eda.shape"
   ]
  },
  {
   "cell_type": "code",
   "execution_count": null,
   "id": "170c0429",
   "metadata": {},
   "outputs": [],
   "source": [
    "# Get number of words in each row, split dataframes into those with more than 1 word and those with 1\n",
    "attract_eda[\"Count\"] = attract_eda[\"Nouns\"].apply(lambda x: len(x.split()))\n",
    "attract_eda[\"Count\"].value_counts()"
   ]
  },
  {
   "cell_type": "markdown",
   "id": "b752f6d8",
   "metadata": {},
   "source": [
    "Most lines have just one word and those with more than one word have mostly two - this will inform the augmentation process"
   ]
  },
  {
   "cell_type": "markdown",
   "id": "3ea1929c",
   "metadata": {},
   "source": [
    "## Functions"
   ]
  },
  {
   "cell_type": "code",
   "execution_count": null,
   "id": "32353688",
   "metadata": {},
   "outputs": [],
   "source": [
    "# Functions to run various data augmentation functions separately on the original dataframe\n",
    "\n",
    "def aug(df):\n",
    "    \n",
    "    insertion = pd.DataFrame(df[\"Nouns\"].apply(lambda x: t.random_insertion(x, n = 1)))\n",
    "    insertion = pd.concat([insertion,df.Aspect],axis = 1)\n",
    "    insertion = insertion.append(df)\n",
    " \n",
    "    replaced = pd.DataFrame(df[\"Nouns\"].apply(lambda x: t.synonym_replacement(x, n = 1)))\n",
    "    replaced = pd.concat([replaced,df.Aspect],axis = 1)\n",
    "    replaced = replaced.append(df)\n",
    "\n",
    "    swapped = pd.DataFrame(df[\"Nouns\"].apply(lambda x: t.random_swap(x,n  = 1)))\n",
    "    swapped = pd.concat([swapped,df.Aspect],axis = 1)\n",
    "    swapped = swapped.append(df)\n",
    "\n",
    "    swapped[\"Count\"] = swapped[\"Nouns\"].apply(lambda x: len(x.split()))\n",
    "    equal_one = swapped[swapped[\"Count\"]==1].reset_index()\n",
    "    more_one = swapped[swapped[\"Count\"]>1].reset_index()\n",
    "\n",
    "    deleted = pd.DataFrame(more_one[\"Nouns\"].apply(lambda x: t.random_deletion(x,p = 0.2)))\n",
    "    deleted = pd.concat([deleted,more_one.Aspect],axis = 1,ignore_index=True)\n",
    "    deleted.columns = [\"Nouns\",\"Aspect\"]\n",
    "\n",
    "    equal_one.drop(columns = \"Count\",axis = 1, inplace = True)\n",
    "    equal_one = equal_one.set_index(\"index\")\n",
    "    deleted = deleted.append(equal_one)\n",
    "    #deleted = deleted.append(df)\n",
    "   \n",
    "    return insertion, replaced, swapped, deleted"
   ]
  },
  {
   "cell_type": "code",
   "execution_count": null,
   "id": "1adb2ca4",
   "metadata": {},
   "outputs": [],
   "source": [
    "# Function to create the training set based on the new augmented dataset and then tokenize and binarize the validation and test sets\n",
    "# based on these new training sets.\n",
    "\n",
    "def proc_aug(df, X_val, y_val, X_test, y_test):\n",
    "    \n",
    "    # Set new X_train and y_train\n",
    "    X_train2 = df[\"Nouns\"]\n",
    "    y_train2 = df[\"Aspect\"]\n",
    "\n",
    "    # Encode new X_train, old X_val and old X_test\n",
    "    tokenizer = Tokenizer(num_words = 10000)\n",
    "    tokenizer.fit_on_texts(X_train2)\n",
    "    X_train_s = tokenizer.texts_to_sequences(X_train2)\n",
    "    X_val_s = tokenizer.texts_to_sequences(X_val)\n",
    "    X_test_s = tokenizer.texts_to_sequences(X_attract)\n",
    "    X_train_w = pad_sequences(np.array(X_train_s, dtype = \"object\"),maxlen = 20, padding = \"post\",truncating = \"post\", value = 0.0)\n",
    "    X_val_w = pad_sequences(np.array(X_val_s, dtype = \"object\"),maxlen = 20, padding = \"post\",truncating = \"post\", value = 0.0)\n",
    "    X_test_w = pad_sequences(np.array(X_test_s, dtype = \"object\"),maxlen = 20, padding = \"post\",truncating = \"post\", value = 0.0)\n",
    "\n",
    "    # Encode new y_train and old y_val and old y_test\n",
    "    binarizer = preprocessing.LabelBinarizer()\n",
    "    y_train_e = binarizer.fit_transform(y_train2)\n",
    "    y_val_e = binarizer.fit_transform(y_val)\n",
    "    y_test_e = binarizer.fit_transform(y_test)\n",
    "            \n",
    "    return X_train_w, y_train_e, X_val_w, y_val_e, X_test_w, y_test_e"
   ]
  },
  {
   "cell_type": "code",
   "execution_count": null,
   "id": "8ea895b1",
   "metadata": {},
   "outputs": [],
   "source": [
    "# Define parameters - increase the input dim to match the tokenizer above\n",
    "\n",
    "input_dim = 6000\n",
    "output_dim = 16\n",
    "input_length = 20\n",
    "batch_size = 16\n",
    "epochs = 50\n",
    "class_weights_attract = {0:cw_attract[0],1:cw_attract[1],2:cw_attract[2],3:cw_attract[3],4:cw_attract[4],5:cw_attract[5],6:cw_attract[6]}\n",
    "class_weights = class_weights_attract\n",
    "\n",
    "output_dir = out('model_output/AttractAspectModelsAug1')\n",
    "callbacks = call(output_dir,5)"
   ]
  },
  {
   "cell_type": "markdown",
   "id": "99764256",
   "metadata": {},
   "source": [
    "## Random insertion"
   ]
  },
  {
   "cell_type": "code",
   "execution_count": null,
   "id": "2b1c9857",
   "metadata": {},
   "outputs": [],
   "source": [
    "# Import easy data augmentation package and set test sentence\n",
    "\n",
    "from textaugment import EDA\n",
    "t = EDA()\n",
    "\n",
    "test = \"tasty food service\"\n",
    "test"
   ]
  },
  {
   "cell_type": "code",
   "execution_count": null,
   "id": "a98801c0",
   "metadata": {},
   "outputs": [],
   "source": [
    "# Random insertion one word\n",
    "t.random_insertion(test, n = 1)"
   ]
  },
  {
   "cell_type": "code",
   "execution_count": null,
   "id": "e6d85597",
   "metadata": {},
   "outputs": [],
   "source": [
    "# Run  augmentation function on the accommodation data\n",
    "insertion, replaced, swapped, deleted = aug(attract_eda)\n",
    "print(insertion.shape, replaced.shape, swapped.shape, deleted.shape)"
   ]
  },
  {
   "cell_type": "code",
   "execution_count": null,
   "id": "8acd2130",
   "metadata": {},
   "outputs": [],
   "source": [
    "# Run encoding function on the augmented data and the original validation and test data\n",
    "X_train_attract_w, y_train_attract_e, X_val_attract_w, y_val_attract_e, X_test_attract_w, y_test_attract_e = proc_aug(insertion, X_val_attract, y_val_attract, X_test_attract, y_val_attract)"
   ]
  },
  {
   "cell_type": "code",
   "execution_count": null,
   "id": "fadc0841",
   "metadata": {},
   "outputs": [],
   "source": [
    "# Run model using the word embeddings and the target encoded as one-hot encoding\n",
    "model_attract_insert = create_model_a()\n",
    "run_mod(model_attract_insert, X_train_attract_w, X_val_attract_w, y_train_attract_e, y_val_attract_e)"
   ]
  },
  {
   "cell_type": "code",
   "execution_count": null,
   "id": "47119658",
   "metadata": {},
   "outputs": [],
   "source": [
    "# Run model through ten times and get the average validation accuracy and training accuracy\n",
    "\n",
    "def evaluation(model, X_train, X_val, y_train, y_val):\n",
    "    train_acc = []\n",
    "    val_acc = []\n",
    "    for i in range(1,11):\n",
    "        history = model.fit(X_train, y_train,epochs = epochs,verbose = 0,callbacks = callbacks,validation_data = (X_val, y_val),\n",
    "                            batch_size = batch_size,class_weight = class_weights)\n",
    "        train_acc.append(model.evaluate(X_train, y_train)[1])\n",
    "        val_acc.append(model.evaluate(X_val, y_val)[1])\n",
    "        train_acc_mean = sum(train_acc)/10\n",
    "        val_acc_mean = sum(val_acc)/10\n",
    "        \n",
    "    return train_acc_mean,val_acc_mean\n",
    "    "
   ]
  },
  {
   "cell_type": "code",
   "execution_count": null,
   "id": "539c0d56",
   "metadata": {},
   "outputs": [],
   "source": [
    "evaluation(model_attract_insert, X_train_attract_w, X_val_attract_w, y_train_attract_e, y_val_attract_e)"
   ]
  },
  {
   "cell_type": "markdown",
   "id": "be55e794",
   "metadata": {},
   "source": [
    "###  Synonym replacement"
   ]
  },
  {
   "cell_type": "code",
   "execution_count": null,
   "id": "c43cf5a8",
   "metadata": {},
   "outputs": [],
   "source": [
    "# Run synonym replacement\n",
    "t.synonym_replacement(test,n = 1)"
   ]
  },
  {
   "cell_type": "code",
   "execution_count": null,
   "id": "34ff2350",
   "metadata": {},
   "outputs": [],
   "source": [
    "# Run  augmentation and encoding function on the accommodation data\n",
    "output_dir = out('model_output/AttractAspectModelsAug2')\n",
    "X_train_attract_w, y_train_attract_e, X_val_attract_w, y_val_attract_e, X_test_attract_w, y_test_attract_e = proc_aug(replaced, X_val_attract, y_val_attract, X_test_attract, y_val_attract)\n",
    "model_attract_replace = create_model_a()\n",
    "history_attract_replace = run_mod(model_attract_replace, X_train_attract_w, X_val_attract_w, y_train_attract_e, y_val_attract_e)"
   ]
  },
  {
   "cell_type": "code",
   "execution_count": null,
   "id": "b4c67d83",
   "metadata": {},
   "outputs": [],
   "source": [
    "evaluation(model_attract_replace, X_train_attract_w, X_val_attract_w, y_train_attract_e, y_val_attract_e)"
   ]
  },
  {
   "cell_type": "markdown",
   "id": "b1446f43",
   "metadata": {},
   "source": [
    "### Random swap"
   ]
  },
  {
   "cell_type": "markdown",
   "id": "3643741b",
   "metadata": {},
   "source": [
    "Randomly swap two words in the augmented text"
   ]
  },
  {
   "cell_type": "code",
   "execution_count": null,
   "id": "63e3aef8",
   "metadata": {},
   "outputs": [],
   "source": [
    "# Randomly swap words in the sentence \n",
    "t.random_swap(test, n = 1)"
   ]
  },
  {
   "cell_type": "code",
   "execution_count": null,
   "id": "9a82f832",
   "metadata": {},
   "outputs": [],
   "source": [
    "# Run  augmentation and encoding function on the accommodation data\n",
    "output_dir = out('model_output/AttractAspectModelsAug3')\n",
    "X_train_attract_w, y_train_attract_e, X_val_attract_w, y_val_attract_e, X_test_attract_w, y_test_attract_e = proc_aug(swapped, X_val_attract, y_val_attract, X_test_attract, y_val_attract)\n",
    "model_attract_swap = create_model_a()\n",
    "history_attract_swap = run_mod(model_attract_swap, X_train_attract_w, X_val_attract_w, y_train_attract_e, y_val_attract_e)"
   ]
  },
  {
   "cell_type": "code",
   "execution_count": null,
   "id": "99bbc904",
   "metadata": {},
   "outputs": [],
   "source": [
    "evaluation(model_attract_swap, X_train_attract_w, X_val_attract_w, y_train_attract_e, y_val_attract_e)"
   ]
  },
  {
   "cell_type": "markdown",
   "id": "4a7be90d",
   "metadata": {},
   "source": [
    "## Random deletion"
   ]
  },
  {
   "cell_type": "markdown",
   "id": "d7a94a64",
   "metadata": {},
   "source": [
    "Randomly delete words with a certain probability"
   ]
  },
  {
   "cell_type": "code",
   "execution_count": null,
   "id": "2c05746f",
   "metadata": {},
   "outputs": [],
   "source": [
    "# Delete a random word in the sentence with a probability of 0.2 \n",
    "t.random_deletion(test, p=0.2)"
   ]
  },
  {
   "cell_type": "code",
   "execution_count": null,
   "id": "7db2690c",
   "metadata": {},
   "outputs": [],
   "source": [
    "# Run  augmentation and encoding function on the accommodation data\n",
    "output_dir = out('model_output/AttractAspectModelsAug4')\n",
    "X_train_attract_w, y_train_attract_e, X_val_attract_w, y_val_attract_e, X_test_attract_w, y_test_attract_e = proc_aug(deleted, X_val_attract, y_val_attract, X_test_attract, y_val_attract)\n",
    "model_attract_delete = create_model_a()\n",
    "history_attract_del = run_mod(model_attract_delete, X_train_attract_w, X_val_attract_w, y_train_attract_e, y_val_attract_e)"
   ]
  },
  {
   "cell_type": "code",
   "execution_count": null,
   "id": "923917ba",
   "metadata": {},
   "outputs": [],
   "source": [
    "evaluation(model_attract_delete, X_train_attract_w, X_val_attract_w, y_train_attract_e, y_val_attract_e)"
   ]
  },
  {
   "cell_type": "markdown",
   "id": "25453795",
   "metadata": {},
   "source": [
    "* Random insertion and synonym replacement seem to work the best of the augmented methods\n",
    "* The best accuracies occurred in both of these models suggesting that either might work\n",
    "* Random insertion is the quickest to run on the base dataset"
   ]
  },
  {
   "cell_type": "markdown",
   "id": "f04f9c04",
   "metadata": {},
   "source": [
    "# Section 10: Best attractions model"
   ]
  },
  {
   "cell_type": "code",
   "execution_count": null,
   "id": "89a53943",
   "metadata": {},
   "outputs": [],
   "source": [
    "output_dir = out('model_output/AttractAspectModelsAug1')\n",
    "df_wrong_attract_best = eval(model_attract_insert, output_dir,\"/weights.07.hdf5\",X_val_attract_w, y_val_attract_e,y_val_attract)"
   ]
  }
 ],
 "metadata": {
  "kernelspec": {
   "display_name": "Python 3",
   "language": "python",
   "name": "python3"
  },
  "language_info": {
   "codemirror_mode": {
    "name": "ipython",
    "version": 3
   },
   "file_extension": ".py",
   "mimetype": "text/x-python",
   "name": "python",
   "nbconvert_exporter": "python",
   "pygments_lexer": "ipython3",
   "version": "3.7.10"
  }
 },
 "nbformat": 4,
 "nbformat_minor": 5
}
