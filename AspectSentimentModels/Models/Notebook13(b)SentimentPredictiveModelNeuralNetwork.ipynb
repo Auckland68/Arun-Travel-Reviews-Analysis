{
 "cells": [
  {
   "cell_type": "markdown",
   "id": "17ef2c61",
   "metadata": {},
   "source": [
    "# Notebook 13 b) Binary Sentiment Model Using Neural Networks"
   ]
  },
  {
   "cell_type": "markdown",
   "id": "7e77c17f",
   "metadata": {},
   "source": [
    "This notebook seeks to train a model to predict sentiment on the full dataset based only on the noun phrases previously extracted but using neural network models instead of machine learning. The output of this model is BINARY - positive or negative.\n",
    "\n",
    "* Section 1 - Import libraries and data\n",
    "* Section 2 - Data preprocessing\n",
    "* Section 3 - Building a sentiment model (Models 1 to 5 based on the best simple networks from Notebook 8)\n",
    "* Section 4 - Summary results table\n",
    "\n",
    "Datasets need to run file:\n",
    "* combined_sentiment.csv\n",
    "* combined_sentiment_test.csv\n",
    "\n",
    "Models saved to:\n",
    "* SentimentModels1\n",
    "* SentimentModels2\n",
    "* SentimentModels3\n",
    "* SentimentModels4\n",
    "* SentimentModels5\n",
    "\n",
    "Final results:\n",
    "\n",
    "* results_sentiment.csv\n"
   ]
  },
  {
   "cell_type": "markdown",
   "id": "f25289f1",
   "metadata": {},
   "source": [
    "# Section 1: Import libraries and data"
   ]
  },
  {
   "cell_type": "code",
   "execution_count": 218,
   "id": "2b60828d",
   "metadata": {},
   "outputs": [],
   "source": [
    "import pandas as pd\n",
    "import numpy as np\n",
    "\n",
    "from sklearn import preprocessing\n",
    "from sklearn.preprocessing import LabelBinarizer\n",
    "import keras\n",
    "from keras.models import Sequential\n",
    "from keras.layers import Dense,Flatten,Embedding,LSTM,Dropout,SpatialDropout1D,Conv1D,GlobalMaxPooling1D,SimpleRNN,LSTM,GRU,Bidirectional\n",
    "from keras.preprocessing.text import Tokenizer\n",
    "from keras.preprocessing.sequence import pad_sequences\n",
    "from keras.callbacks import EarlyStopping,ModelCheckpoint\n",
    "from keras.utils import to_categorical\n",
    "from matplotlib import pyplot as plt\n",
    "from keras.wrappers.scikit_learn import KerasClassifier\n",
    "import seaborn as sns\n",
    "sns.set()\n",
    "import imblearn\n",
    "from imblearn.over_sampling import SMOTE\n",
    "\n",
    "import os\n",
    "import pickle\n",
    "\n",
    "import nltk\n",
    "from nltk.corpus import stopwords\n",
    "from sklearn.model_selection import train_test_split\n",
    "from sklearn.metrics import balanced_accuracy_score,roc_auc_score,precision_score,recall_score,f1_score,confusion_matrix,classification_report\n",
    "from sklearn.utils import class_weight\n",
    "from sklearn.model_selection import RandomizedSearchCV\n",
    "\n",
    "import warnings\n",
    "warnings.filterwarnings('ignore')"
   ]
  },
  {
   "cell_type": "code",
   "execution_count": 2,
   "id": "25ded65a",
   "metadata": {},
   "outputs": [],
   "source": [
    "# Bring in training and test sets from Notebook 11 (visualising topic models)\n",
    "df_train = pd.read_csv(\"combined_sentiment.csv\",index_col = 0)\n",
    "df_test = pd.read_csv(\"combined_sentiment_test.csv\",index_col = 0)"
   ]
  },
  {
   "cell_type": "code",
   "execution_count": 3,
   "id": "1622c464",
   "metadata": {},
   "outputs": [
    {
     "data": {
      "text/plain": [
       "(73027, 15)"
      ]
     },
     "execution_count": 3,
     "metadata": {},
     "output_type": "execute_result"
    }
   ],
   "source": [
    "# Combine train and test set\n",
    "df_combined_all = pd.concat([df_train, df_test],axis = 0,ignore_index = True)\n",
    "df_combined_all.shape"
   ]
  },
  {
   "cell_type": "markdown",
   "id": "61098084",
   "metadata": {},
   "source": [
    "# Section 2: Data preprocessing"
   ]
  },
  {
   "cell_type": "code",
   "execution_count": 4,
   "id": "cfc1d2a1",
   "metadata": {},
   "outputs": [],
   "source": [
    "# Choose columns, replace incorrect category label and relabel columns\n",
    "df_train = df_train[[\"OrigInd\",\"Category\",\"noun_phrases\",\"Topic Count\",\"Sentiment\",\"Score\"]]\n",
    "df_train.columns = [\"OrigInd\",\"Category\",\"Noun Phrases\",\"Aspect\",\"Sentiment\",\"Polarity\"]\n",
    "df_test = df_test[[\"OrigInd\",\"Category\",\"noun_phrases\",\"Topic\",\"Sentiment\",\"Score\"]]\n",
    "df_test[\"Category\"].replace({\"Attract\": \"Attractions\"}, inplace=True)\n",
    "df_test.columns = [\"OrigInd\",\"Category\",\"Noun Phrases\",\"Aspect\",\"Sentiment\",\"Polarity\"]"
   ]
  },
  {
   "cell_type": "code",
   "execution_count": 5,
   "id": "accb4184",
   "metadata": {},
   "outputs": [
    {
     "data": {
      "text/html": [
       "<div>\n",
       "<style scoped>\n",
       "    .dataframe tbody tr th:only-of-type {\n",
       "        vertical-align: middle;\n",
       "    }\n",
       "\n",
       "    .dataframe tbody tr th {\n",
       "        vertical-align: top;\n",
       "    }\n",
       "\n",
       "    .dataframe thead th {\n",
       "        text-align: right;\n",
       "    }\n",
       "</style>\n",
       "<table border=\"1\" class=\"dataframe\">\n",
       "  <thead>\n",
       "    <tr style=\"text-align: right;\">\n",
       "      <th></th>\n",
       "      <th>Unnamed: 0.1</th>\n",
       "      <th>OrigInd</th>\n",
       "      <th>Category</th>\n",
       "      <th>Town</th>\n",
       "      <th>Rating</th>\n",
       "      <th>all_text</th>\n",
       "      <th>cleaned</th>\n",
       "      <th>noun_phrases</th>\n",
       "      <th>nouns</th>\n",
       "      <th>Topic Count</th>\n",
       "      <th>Topic TFIDF</th>\n",
       "      <th>Sentiment</th>\n",
       "      <th>Score</th>\n",
       "      <th>Sentence</th>\n",
       "      <th>Topic</th>\n",
       "    </tr>\n",
       "  </thead>\n",
       "  <tbody>\n",
       "    <tr>\n",
       "      <th>0</th>\n",
       "      <td>0</td>\n",
       "      <td>0</td>\n",
       "      <td>Accommodation</td>\n",
       "      <td>Bognor</td>\n",
       "      <td>4</td>\n",
       "      <td>Nice break, shame about the accommodation... W...</td>\n",
       "      <td>nice break shame accommodation booked night st...</td>\n",
       "      <td>shame accommodation</td>\n",
       "      <td>['shame', 'accommodation']</td>\n",
       "      <td>VFM</td>\n",
       "      <td>VisitExp</td>\n",
       "      <td>-0.4767</td>\n",
       "      <td>negative</td>\n",
       "      <td>NaN</td>\n",
       "      <td>NaN</td>\n",
       "    </tr>\n",
       "    <tr>\n",
       "      <th>1</th>\n",
       "      <td>1</td>\n",
       "      <td>0</td>\n",
       "      <td>Accommodation</td>\n",
       "      <td>Bognor</td>\n",
       "      <td>4</td>\n",
       "      <td>Nice break, shame about the accommodation... W...</td>\n",
       "      <td>nice break shame accommodation booked night st...</td>\n",
       "      <td>night stay december post-christmas</td>\n",
       "      <td>['night', 'post-christmas']</td>\n",
       "      <td>Hotel Location</td>\n",
       "      <td>Restaurant</td>\n",
       "      <td>0.0000</td>\n",
       "      <td>neutral</td>\n",
       "      <td>NaN</td>\n",
       "      <td>NaN</td>\n",
       "    </tr>\n",
       "  </tbody>\n",
       "</table>\n",
       "</div>"
      ],
      "text/plain": [
       "   Unnamed: 0.1  OrigInd       Category    Town  Rating  \\\n",
       "0             0        0  Accommodation  Bognor       4   \n",
       "1             1        0  Accommodation  Bognor       4   \n",
       "\n",
       "                                            all_text  \\\n",
       "0  Nice break, shame about the accommodation... W...   \n",
       "1  Nice break, shame about the accommodation... W...   \n",
       "\n",
       "                                             cleaned  \\\n",
       "0  nice break shame accommodation booked night st...   \n",
       "1  nice break shame accommodation booked night st...   \n",
       "\n",
       "                         noun_phrases                        nouns  \\\n",
       "0                 shame accommodation   ['shame', 'accommodation']   \n",
       "1  night stay december post-christmas  ['night', 'post-christmas']   \n",
       "\n",
       "      Topic Count Topic TFIDF  Sentiment     Score Sentence Topic  \n",
       "0             VFM    VisitExp    -0.4767  negative      NaN   NaN  \n",
       "1  Hotel Location  Restaurant     0.0000   neutral      NaN   NaN  "
      ]
     },
     "execution_count": 5,
     "metadata": {},
     "output_type": "execute_result"
    }
   ],
   "source": [
    "df_combined_all.head(2)"
   ]
  },
  {
   "cell_type": "code",
   "execution_count": 6,
   "id": "d99be24b",
   "metadata": {},
   "outputs": [
    {
     "data": {
      "text/plain": [
       "neutral     39099\n",
       "positive    29513\n",
       "negative     4415\n",
       "Name: Score, dtype: int64"
      ]
     },
     "execution_count": 6,
     "metadata": {},
     "output_type": "execute_result"
    }
   ],
   "source": [
    "# Get Polarity distribution\n",
    "df_combined_all[\"Score\"].value_counts()"
   ]
  },
  {
   "cell_type": "code",
   "execution_count": 7,
   "id": "cefecc1a",
   "metadata": {},
   "outputs": [
    {
     "data": {
      "text/plain": [
       "<BarContainer object of 3 artists>"
      ]
     },
     "execution_count": 7,
     "metadata": {},
     "output_type": "execute_result"
    },
    {
     "data": {
      "image/png": "[encoded data removed]",
      "text/plain": [
       "<Figure size 432x288 with 1 Axes>"
      ]
     },
     "metadata": {},
     "output_type": "display_data"
    }
   ],
   "source": [
    "# Distribution of polarities\n",
    "sent = pd.DataFrame(df_combined_all[\"Score\"].value_counts())\n",
    "plt.bar(sent.index,sent[\"Score\"])"
   ]
  },
  {
   "cell_type": "markdown",
   "id": "eee8cc34",
   "metadata": {},
   "source": [
    "The dataset is imbalanced"
   ]
  },
  {
   "cell_type": "code",
   "execution_count": 8,
   "id": "2738a6dd",
   "metadata": {},
   "outputs": [],
   "source": [
    "# Drop the neutral sentiment and set 0 to positive and 1 to negative\n",
    "df_combined_all = df_combined_all[df_combined_all[\"Score\"]!=\"neutral\"]\n",
    "df_combined_all[\"Score\"].replace({\"positive\": 0,\"negative\":1}, inplace=True)"
   ]
  },
  {
   "cell_type": "code",
   "execution_count": 9,
   "id": "c15fde84",
   "metadata": {},
   "outputs": [
    {
     "data": {
      "text/plain": [
       "0    29513\n",
       "1     4415\n",
       "Name: Score, dtype: int64"
      ]
     },
     "execution_count": 9,
     "metadata": {},
     "output_type": "execute_result"
    }
   ],
   "source": [
    "df_combined_all[\"Score\"].value_counts()"
   ]
  },
  {
   "cell_type": "code",
   "execution_count": 10,
   "id": "d2073fe3",
   "metadata": {},
   "outputs": [
    {
     "name": "stdout",
     "output_type": "stream",
     "text": [
      "(4415, 15) (4415, 15)\n"
     ]
    }
   ],
   "source": [
    "pos_sampled = df_combined_all[df_combined_all[\"Score\"] == 0].sample(4415)\n",
    "negative = df_combined_all[df_combined_all[\"Score\"] == 1]\n",
    "print(pos_sampled.shape, negative.shape)"
   ]
  },
  {
   "cell_type": "code",
   "execution_count": 11,
   "id": "be697b77",
   "metadata": {},
   "outputs": [
    {
     "data": {
      "text/plain": [
       "(8830, 15)"
      ]
     },
     "execution_count": 11,
     "metadata": {},
     "output_type": "execute_result"
    }
   ],
   "source": [
    "df_combined_all = pd.concat([pos_sampled, negative], axis = 0, ignore_index = True)\n",
    "df_combined_all.shape"
   ]
  },
  {
   "cell_type": "code",
   "execution_count": 12,
   "id": "87b3d590",
   "metadata": {},
   "outputs": [
    {
     "data": {
      "text/plain": [
       "<BarContainer object of 2 artists>"
      ]
     },
     "execution_count": 12,
     "metadata": {},
     "output_type": "execute_result"
    },
    {
     "data": {
      "image/png": "[encoded data removed]",
      "text/plain": [
       "<Figure size 432x288 with 1 Axes>"
      ]
     },
     "metadata": {},
     "output_type": "display_data"
    }
   ],
   "source": [
    "# Distribution of polarities\n",
    "sent = pd.DataFrame(df_combined_all[\"Score\"].value_counts())\n",
    "plt.bar(sent.index,sent[\"Score\"])"
   ]
  },
  {
   "cell_type": "markdown",
   "id": "884a18d8",
   "metadata": {},
   "source": [
    "## Define X and y and split into training, valuation and test sets"
   ]
  },
  {
   "cell_type": "code",
   "execution_count": 109,
   "id": "15537c2f",
   "metadata": {},
   "outputs": [],
   "source": [
    "X = df_combined_all[\"noun_phrases\"]\n",
    "y = df_combined_all[\"Score\"]"
   ]
  },
  {
   "cell_type": "code",
   "execution_count": 110,
   "id": "cd6ddc98",
   "metadata": {},
   "outputs": [],
   "source": [
    "# Train, validation, test split\n",
    "X_train, X_test, y_train, y_test = train_test_split(X,y, stratify = y,test_size=0.2, random_state=42)\n",
    "X_test, X_val, y_test, y_val = train_test_split(X_test, y_test, stratify = y_test,test_size=0.50, random_state=42) "
   ]
  },
  {
   "cell_type": "code",
   "execution_count": 111,
   "id": "5019d176",
   "metadata": {},
   "outputs": [
    {
     "name": "stdout",
     "output_type": "stream",
     "text": [
      "(7064,) (883,) (883,) (7064,) (883,) (883,)\n"
     ]
    }
   ],
   "source": [
    "print(X_train.shape,X_val.shape,X_test.shape,y_train.shape,y_val.shape,y_test.shape)"
   ]
  },
  {
   "cell_type": "code",
   "execution_count": 112,
   "id": "cc6bc74e",
   "metadata": {},
   "outputs": [
    {
     "data": {
      "text/plain": [
       "0    3532\n",
       "1    3532\n",
       "Name: Score, dtype: int64"
      ]
     },
     "execution_count": 112,
     "metadata": {},
     "output_type": "execute_result"
    }
   ],
   "source": [
    "y_train.value_counts()"
   ]
  },
  {
   "cell_type": "code",
   "execution_count": 113,
   "id": "b61ba2a4",
   "metadata": {},
   "outputs": [
    {
     "data": {
      "text/plain": [
       "0    442\n",
       "1    441\n",
       "Name: Score, dtype: int64"
      ]
     },
     "execution_count": 113,
     "metadata": {},
     "output_type": "execute_result"
    }
   ],
   "source": [
    "y_val.value_counts()"
   ]
  },
  {
   "cell_type": "code",
   "execution_count": 114,
   "id": "eea55e76",
   "metadata": {},
   "outputs": [
    {
     "data": {
      "text/plain": [
       "1    442\n",
       "0    441\n",
       "Name: Score, dtype: int64"
      ]
     },
     "execution_count": 114,
     "metadata": {},
     "output_type": "execute_result"
    }
   ],
   "source": [
    "y_test.value_counts()"
   ]
  },
  {
   "cell_type": "markdown",
   "id": "7b246efc",
   "metadata": {},
   "source": [
    "## Distribution of noun phrases"
   ]
  },
  {
   "cell_type": "code",
   "execution_count": 115,
   "id": "99ee6196",
   "metadata": {},
   "outputs": [
    {
     "data": {
      "image/png": "[encoded data removed]",
      "text/plain": [
       "<Figure size 432x288 with 1 Axes>"
      ]
     },
     "metadata": {},
     "output_type": "display_data"
    }
   ],
   "source": [
    "pd.DataFrame(X_train)[\"noun_phrases\"].str.split().apply(len).plot.hist(bins = 50, title = \"Distribution of Number of Words/Noun\")\n",
    "plt.show()"
   ]
  },
  {
   "cell_type": "code",
   "execution_count": 116,
   "id": "a64e6a1e",
   "metadata": {},
   "outputs": [
    {
     "data": {
      "text/plain": [
       "14"
      ]
     },
     "execution_count": 116,
     "metadata": {},
     "output_type": "execute_result"
    }
   ],
   "source": [
    "pd.DataFrame(X_train)[\"noun_phrases\"].str.split().apply(len).max()"
   ]
  },
  {
   "cell_type": "markdown",
   "id": "2dd92010",
   "metadata": {},
   "source": [
    "## Encoding X values"
   ]
  },
  {
   "cell_type": "code",
   "execution_count": 117,
   "id": "0f912811",
   "metadata": {},
   "outputs": [],
   "source": [
    "def tok(X_train, X_val, X_test):\n",
    "    tokenizer = Tokenizer(num_words = 5000)\n",
    "    tokenizer.fit_on_texts(X_train)\n",
    "    X_train_s = tokenizer.texts_to_sequences(X_train)\n",
    "    X_val_s = tokenizer.texts_to_sequences(X_val)\n",
    "    X_test_s = tokenizer.texts_to_sequences(X_test)\n",
    "    X_train_w = pad_sequences(np.array(X_train_s,dtype = \"object\"), maxlen=20, padding=\"post\", truncating=\"post\", value=0.0)\n",
    "    X_val_w = pad_sequences(np.array(X_val_s,dtype = \"object\"), maxlen=20, padding=\"post\", truncating=\"post\", value=0.0)\n",
    "    X_test_w = pad_sequences(np.array(X_test_s, dtype = \"object\"), maxlen = 20, padding = \"post\", truncating = \"post\", value = 0.0)\n",
    "    \n",
    "    return tokenizer, X_train_w, X_val_w, X_test_w"
   ]
  },
  {
   "cell_type": "code",
   "execution_count": 118,
   "id": "f7f256c6",
   "metadata": {},
   "outputs": [],
   "source": [
    "# Apply function to X training, validation and test sets\n",
    "tok,X_train_w, X_val_w, X_test_w = tok(X_train, X_val, X_test)"
   ]
  },
  {
   "cell_type": "code",
   "execution_count": 257,
   "id": "bfcba9f9",
   "metadata": {},
   "outputs": [],
   "source": [
    "# Save tokenizer objects for use in the combined final model\n",
    "def tok_save(name,tokenizer):\n",
    "    with open(name, 'wb') as handle:\n",
    "        pickle.dump(tokenizer, handle, protocol=pickle.HIGHEST_PROTOCOL)\n",
    "        \n",
    "# Save tokenizer pickle files\n",
    "tok_save('tok_sent.pickle',tok)"
   ]
  },
  {
   "cell_type": "code",
   "execution_count": 120,
   "id": "59a3f8b4",
   "metadata": {},
   "outputs": [],
   "source": [
    "index_word = {v:k for k,v in tok.word_index.items()}"
   ]
  },
  {
   "cell_type": "code",
   "execution_count": 121,
   "id": "ab41d277",
   "metadata": {},
   "outputs": [],
   "source": [
    "#print(tokenizer.word_counts)"
   ]
  },
  {
   "cell_type": "code",
   "execution_count": 122,
   "id": "71a8a17b",
   "metadata": {},
   "outputs": [],
   "source": [
    "#print(tokenizer.word_index)"
   ]
  },
  {
   "cell_type": "markdown",
   "id": "29e5ac7c",
   "metadata": {},
   "source": [
    "# Section 3: Building a Sentiment Model"
   ]
  },
  {
   "cell_type": "code",
   "execution_count": 123,
   "id": "f60db7d9",
   "metadata": {},
   "outputs": [],
   "source": [
    "# Visualise the training and test accuracies and losses\n",
    "import matplotlib.pyplot as plt\n",
    "plt.style.use('ggplot')\n",
    "\n",
    "def plot_history(history):\n",
    "    acc = history.history['accuracy']\n",
    "    val_acc = history.history['val_accuracy']\n",
    "    loss = history.history['loss']\n",
    "    val_loss = history.history['val_loss']\n",
    "    x = range(1, len(acc) + 1)\n",
    "\n",
    "    plt.figure(figsize=(12, 5))\n",
    "    plt.subplot(1, 2, 1)\n",
    "    plt.plot(x, acc, 'b', label='Training acc')\n",
    "    plt.plot(x, val_acc, 'r', label='Val acc')\n",
    "    plt.title('Training and Validation accuracy')\n",
    "    plt.xlabel(\"Epochs\")\n",
    "    plt.legend()\n",
    "    plt.subplot(1, 2, 2)\n",
    "    plt.plot(x, loss, 'b', label='Training loss')\n",
    "    plt.plot(x, val_loss, 'r', label='Val loss')\n",
    "    plt.xlabel(\"Epochs\")\n",
    "    plt.title('Training and Validation loss')\n",
    "    plt.legend()"
   ]
  },
  {
   "cell_type": "code",
   "execution_count": 124,
   "id": "cafa747b",
   "metadata": {},
   "outputs": [],
   "source": [
    "# Confusion Matrix function\n",
    "\n",
    "def class_conf(y_val,y_pred_class):\n",
    "    classification = classification_report(y_val, y_pred_class)\n",
    "    fig, ax = plt.subplots()\n",
    "    cf_matrix = confusion_matrix(y_val, y_pred_class)\n",
    "    sns.heatmap(cf_matrix, annot = True, fmt = \"d\",)\n",
    "    plt.xlabel('Predicted')\n",
    "    plt.ylabel('Actual')\n",
    "    plt.title(\"Confusion Matrix\", fontsize = 15)\n",
    "    _ = ax.xaxis.set_ticklabels(['Good Reviews','Bad Reviews'],fontsize = 8)\n",
    "    _ = ax.yaxis.set_ticklabels(['Good Reviews', 'Bad Reviews'], fontsize = 8)\n",
    "    print(classification)  "
   ]
  },
  {
   "cell_type": "markdown",
   "id": "b3cc8f6b",
   "metadata": {},
   "source": [
    "## Sentiment Model 1"
   ]
  },
  {
   "cell_type": "code",
   "execution_count": 125,
   "id": "c9b34610",
   "metadata": {},
   "outputs": [],
   "source": [
    "# Metrics function\n",
    "\n",
    "def metric_results(y_val,y_pred_class):\n",
    "    accuracy = balanced_accuracy_score(y_val, y_pred_class)\n",
    "    rocauc = roc_auc_score(y_val,y_pred_class)\n",
    "    precision = precision_score(y_val, y_pred_class, pos_label = 1,average='binary')\n",
    "    recall = recall_score(y_val, y_pred_class, pos_label = 1, average='binary')\n",
    "    f1 = f1_score(y_val, y_pred_class, pos_label = 1, average='binary')\n",
    "          \n",
    "    \n",
    "    results = pd.DataFrame({\"Accuracy\":accuracy, \"Precision\":precision, \"Recall\":recall,\n",
    "                                    \"F1\":f1,\"ROCAUC\":rocauc}, index = [0]\n",
    "                                  )\n",
    "    return results"
   ]
  },
  {
   "cell_type": "code",
   "execution_count": 126,
   "id": "728f4376",
   "metadata": {},
   "outputs": [
    {
     "data": {
      "text/plain": [
       "array([1., 1.])"
      ]
     },
     "execution_count": 126,
     "metadata": {},
     "output_type": "execute_result"
    }
   ],
   "source": [
    "# Balanced classes - get weights\n",
    "from sklearn.utils import class_weight\n",
    "class_weights = class_weight.compute_class_weight('balanced',np.unique(y_train),y_train)\n",
    "class_weights"
   ]
  },
  {
   "cell_type": "code",
   "execution_count": 127,
   "id": "da40709a",
   "metadata": {},
   "outputs": [],
   "source": [
    "# Parameters\n",
    "input_dim = 6000\n",
    "output_dim = 16\n",
    "input_length = 20\n",
    "batch_size = 8\n",
    "epochs = 50"
   ]
  },
  {
   "cell_type": "code",
   "execution_count": 128,
   "id": "36bf629d",
   "metadata": {},
   "outputs": [
    {
     "name": "stdout",
     "output_type": "stream",
     "text": [
      "Model: \"sequential_5\"\n",
      "_________________________________________________________________\n",
      "Layer (type)                 Output Shape              Param #   \n",
      "=================================================================\n",
      "embedding_5 (Embedding)      (None, 20, 16)            96000     \n",
      "_________________________________________________________________\n",
      "flatten_5 (Flatten)          (None, 320)               0         \n",
      "_________________________________________________________________\n",
      "dense_12 (Dense)             (None, 1)                 321       \n",
      "=================================================================\n",
      "Total params: 96,321\n",
      "Trainable params: 96,321\n",
      "Non-trainable params: 0\n",
      "_________________________________________________________________\n",
      "None\n"
     ]
    }
   ],
   "source": [
    "# Simple model with embedding layer and no hidden dense layer, passing the embedding layer to the first layer of the model\n",
    "model1 = Sequential()\n",
    "model1.add(Embedding(input_dim = input_dim, output_dim = output_dim, input_length=input_length))\n",
    "model1.add(Flatten())\n",
    "model1.add(Dense(1, activation='sigmoid'))\n",
    "model1.compile(optimizer='adam', loss='binary_crossentropy', metrics=['accuracy'])\n",
    "print(model1.summary())"
   ]
  },
  {
   "cell_type": "code",
   "execution_count": 129,
   "id": "151cd8ac",
   "metadata": {},
   "outputs": [],
   "source": [
    "# The model will use earlystopping if the valuation loss doesn't decrease after 3 epochs\n",
    "output_dir = 'model_output/SentimentModels1'\n",
    "if not os.path.exists(output_dir):\n",
    "    os.makedirs(output_dir)\n",
    "\n",
    "\n",
    "modelcheckpoint = ModelCheckpoint(filepath=output_dir+\"/weights.{epoch:02d}.hdf5\")\n",
    "callbacks = [EarlyStopping(monitor = \"val_loss\", patience = 5),modelcheckpoint]"
   ]
  },
  {
   "cell_type": "code",
   "execution_count": 130,
   "id": "f36897fc",
   "metadata": {},
   "outputs": [
    {
     "name": "stdout",
     "output_type": "stream",
     "text": [
      "Epoch 1/50\n",
      "883/883 - 0s - loss: 0.4378 - accuracy: 0.8587 - val_loss: 0.2175 - val_accuracy: 0.9377\n",
      "Epoch 2/50\n",
      "883/883 - 0s - loss: 0.1295 - accuracy: 0.9724 - val_loss: 0.1186 - val_accuracy: 0.9649\n",
      "Epoch 3/50\n",
      "883/883 - 0s - loss: 0.0575 - accuracy: 0.9895 - val_loss: 0.0917 - val_accuracy: 0.9728\n",
      "Epoch 4/50\n",
      "883/883 - 0s - loss: 0.0305 - accuracy: 0.9943 - val_loss: 0.0808 - val_accuracy: 0.9728\n",
      "Epoch 5/50\n",
      "883/883 - 0s - loss: 0.0175 - accuracy: 0.9969 - val_loss: 0.0764 - val_accuracy: 0.9751\n",
      "Epoch 6/50\n",
      "883/883 - 0s - loss: 0.0106 - accuracy: 0.9980 - val_loss: 0.0735 - val_accuracy: 0.9751\n",
      "Epoch 7/50\n",
      "883/883 - 0s - loss: 0.0063 - accuracy: 0.9994 - val_loss: 0.0734 - val_accuracy: 0.9762\n",
      "Epoch 8/50\n",
      "883/883 - 0s - loss: 0.0040 - accuracy: 1.0000 - val_loss: 0.0740 - val_accuracy: 0.9751\n",
      "Epoch 9/50\n",
      "883/883 - 0s - loss: 0.0026 - accuracy: 1.0000 - val_loss: 0.0751 - val_accuracy: 0.9762\n",
      "Epoch 10/50\n",
      "883/883 - 0s - loss: 0.0017 - accuracy: 1.0000 - val_loss: 0.0758 - val_accuracy: 0.9773\n",
      "Epoch 11/50\n",
      "883/883 - 0s - loss: 0.0011 - accuracy: 1.0000 - val_loss: 0.0780 - val_accuracy: 0.9773\n",
      "Epoch 12/50\n",
      "883/883 - 0s - loss: 7.4773e-04 - accuracy: 1.0000 - val_loss: 0.0800 - val_accuracy: 0.9773\n"
     ]
    }
   ],
   "source": [
    "# Model using keras embeddings\n",
    "history = model1.fit(X_train_w,y_train,\n",
    "                    epochs=epochs,\n",
    "                    verbose=2,\n",
    "                    callbacks = callbacks,\n",
    "                    validation_data=(X_val_w, y_val),\n",
    "                    batch_size=batch_size\n",
    "                    )"
   ]
  },
  {
   "cell_type": "code",
   "execution_count": 131,
   "id": "0c3ba61f",
   "metadata": {},
   "outputs": [
    {
     "name": "stdout",
     "output_type": "stream",
     "text": [
      "Training Accuracy: 1.0000\n",
      "Validation Accuracy:  0.9773\n"
     ]
    }
   ],
   "source": [
    "# Print training and test accuracies\n",
    "loss, accuracy = model1.evaluate(X_train_w, y_train, verbose=False)\n",
    "print(\"Training Accuracy: {:.4f}\".format(accuracy))\n",
    "loss, accuracy = model1.evaluate(X_val_w, y_val, verbose=False)\n",
    "print(\"Validation Accuracy:  {:.4f}\".format(accuracy))"
   ]
  },
  {
   "cell_type": "code",
   "execution_count": 132,
   "id": "5acfe335",
   "metadata": {},
   "outputs": [
    {
     "data": {
      "image/png": "[encoded data removed]",
      "text/plain": [
       "<Figure size 864x360 with 2 Axes>"
      ]
     },
     "metadata": {},
     "output_type": "display_data"
    }
   ],
   "source": [
    "plot_history(history)"
   ]
  },
  {
   "cell_type": "code",
   "execution_count": 136,
   "id": "1023ac75",
   "metadata": {},
   "outputs": [],
   "source": [
    "# Load model weights from epoch with best validation accuracy\n",
    "model1.load_weights(output_dir+\"/weights.10.hdf5\")\n",
    "#model1.save(\"Sentiment.h5\")"
   ]
  },
  {
   "cell_type": "code",
   "execution_count": 137,
   "id": "2312c835",
   "metadata": {},
   "outputs": [],
   "source": [
    "# Get predicted y values and predicted classes\n",
    "y_pred_prob = model1.predict(X_val_w)\n",
    "y_pred_class = (model1.predict(X_val_w) > 0.5).astype(\"int32\")"
   ]
  },
  {
   "cell_type": "code",
   "execution_count": 138,
   "id": "b492d9c8",
   "metadata": {},
   "outputs": [
    {
     "data": {
      "text/html": [
       "<div>\n",
       "<style scoped>\n",
       "    .dataframe tbody tr th:only-of-type {\n",
       "        vertical-align: middle;\n",
       "    }\n",
       "\n",
       "    .dataframe tbody tr th {\n",
       "        vertical-align: top;\n",
       "    }\n",
       "\n",
       "    .dataframe thead th {\n",
       "        text-align: right;\n",
       "    }\n",
       "</style>\n",
       "<table border=\"1\" class=\"dataframe\">\n",
       "  <thead>\n",
       "    <tr style=\"text-align: right;\">\n",
       "      <th></th>\n",
       "      <th>y_prob</th>\n",
       "      <th>y_pred_class</th>\n",
       "      <th>y</th>\n",
       "    </tr>\n",
       "  </thead>\n",
       "  <tbody>\n",
       "    <tr>\n",
       "      <th>0</th>\n",
       "      <td>[1.0]</td>\n",
       "      <td>[1]</td>\n",
       "      <td>1</td>\n",
       "    </tr>\n",
       "    <tr>\n",
       "      <th>1</th>\n",
       "      <td>[0.9999721]</td>\n",
       "      <td>[1]</td>\n",
       "      <td>1</td>\n",
       "    </tr>\n",
       "    <tr>\n",
       "      <th>2</th>\n",
       "      <td>[5.9527157e-08]</td>\n",
       "      <td>[0]</td>\n",
       "      <td>0</td>\n",
       "    </tr>\n",
       "    <tr>\n",
       "      <th>3</th>\n",
       "      <td>[7.71408e-05]</td>\n",
       "      <td>[0]</td>\n",
       "      <td>0</td>\n",
       "    </tr>\n",
       "    <tr>\n",
       "      <th>4</th>\n",
       "      <td>[0.9998611]</td>\n",
       "      <td>[1]</td>\n",
       "      <td>1</td>\n",
       "    </tr>\n",
       "  </tbody>\n",
       "</table>\n",
       "</div>"
      ],
      "text/plain": [
       "            y_prob y_pred_class  y\n",
       "0            [1.0]          [1]  1\n",
       "1      [0.9999721]          [1]  1\n",
       "2  [5.9527157e-08]          [0]  0\n",
       "3    [7.71408e-05]          [0]  0\n",
       "4      [0.9998611]          [1]  1"
      ]
     },
     "execution_count": 138,
     "metadata": {},
     "output_type": "execute_result"
    }
   ],
   "source": [
    "# Create dataframe with y pred probabilities, classes and y actual\n",
    "ydf = pd.DataFrame(list(zip(y_pred_prob, y_pred_class,y_val,)), columns=['y_prob','y_pred_class', 'y'])\n",
    "ydf.head()"
   ]
  },
  {
   "cell_type": "code",
   "execution_count": 139,
   "id": "8805a34f",
   "metadata": {},
   "outputs": [
    {
     "data": {
      "image/png": "[encoded data removed]",
      "text/plain": [
       "<Figure size 432x288 with 1 Axes>"
      ]
     },
     "metadata": {},
     "output_type": "display_data"
    }
   ],
   "source": [
    "# Graph to show distribution of probabilities produced by the model\n",
    "plt.hist(y_pred_prob)\n",
    "_ = plt.axvline(x=0.5, color='blue')"
   ]
  },
  {
   "cell_type": "code",
   "execution_count": 140,
   "id": "b55ef425",
   "metadata": {},
   "outputs": [
    {
     "name": "stdout",
     "output_type": "stream",
     "text": [
      "              precision    recall  f1-score   support\n",
      "\n",
      "           0       0.98      0.98      0.98       442\n",
      "           1       0.98      0.98      0.98       441\n",
      "\n",
      "    accuracy                           0.98       883\n",
      "   macro avg       0.98      0.98      0.98       883\n",
      "weighted avg       0.98      0.98      0.98       883\n",
      "\n"
     ]
    },
    {
     "data": {
      "image/png": "[encoded data removed]",
      "text/plain": [
       "<Figure size 432x288 with 2 Axes>"
      ]
     },
     "metadata": {},
     "output_type": "display_data"
    }
   ],
   "source": [
    "# Print metrics\n",
    "class_conf(y_val,y_pred_class)"
   ]
  },
  {
   "cell_type": "code",
   "execution_count": 141,
   "id": "f6d00ca5",
   "metadata": {},
   "outputs": [
    {
     "data": {
      "text/html": [
       "<div>\n",
       "<style scoped>\n",
       "    .dataframe tbody tr th:only-of-type {\n",
       "        vertical-align: middle;\n",
       "    }\n",
       "\n",
       "    .dataframe tbody tr th {\n",
       "        vertical-align: top;\n",
       "    }\n",
       "\n",
       "    .dataframe thead th {\n",
       "        text-align: right;\n",
       "    }\n",
       "</style>\n",
       "<table border=\"1\" class=\"dataframe\">\n",
       "  <thead>\n",
       "    <tr style=\"text-align: right;\">\n",
       "      <th></th>\n",
       "      <th>Accuracy</th>\n",
       "      <th>Precision</th>\n",
       "      <th>Recall</th>\n",
       "      <th>F1</th>\n",
       "      <th>ROCAUC</th>\n",
       "    </tr>\n",
       "  </thead>\n",
       "  <tbody>\n",
       "    <tr>\n",
       "      <th>0</th>\n",
       "      <td>0.97735</td>\n",
       "      <td>0.977324</td>\n",
       "      <td>0.977324</td>\n",
       "      <td>0.977324</td>\n",
       "      <td>0.97735</td>\n",
       "    </tr>\n",
       "  </tbody>\n",
       "</table>\n",
       "</div>"
      ],
      "text/plain": [
       "   Accuracy  Precision    Recall        F1   ROCAUC\n",
       "0   0.97735   0.977324  0.977324  0.977324  0.97735"
      ]
     },
     "execution_count": 141,
     "metadata": {},
     "output_type": "execute_result"
    }
   ],
   "source": [
    "# Summarised results\n",
    "mod1_results = metric_results(y_val,y_pred_class)\n",
    "mod1_results"
   ]
  },
  {
   "cell_type": "markdown",
   "id": "8423d2a2",
   "metadata": {},
   "source": [
    "## Sentiment Model 2"
   ]
  },
  {
   "cell_type": "code",
   "execution_count": 142,
   "id": "2261b2ac",
   "metadata": {},
   "outputs": [
    {
     "name": "stdout",
     "output_type": "stream",
     "text": [
      "Model: \"sequential_6\"\n",
      "_________________________________________________________________\n",
      "Layer (type)                 Output Shape              Param #   \n",
      "=================================================================\n",
      "embedding_6 (Embedding)      (None, 20, 16)            96000     \n",
      "_________________________________________________________________\n",
      "flatten_6 (Flatten)          (None, 320)               0         \n",
      "_________________________________________________________________\n",
      "dense_13 (Dense)             (None, 64)                20544     \n",
      "_________________________________________________________________\n",
      "dense_14 (Dense)             (None, 1)                 65        \n",
      "=================================================================\n",
      "Total params: 116,609\n",
      "Trainable params: 116,609\n",
      "Non-trainable params: 0\n",
      "_________________________________________________________________\n",
      "None\n"
     ]
    }
   ],
   "source": [
    "model2 = Sequential()\n",
    "model2.add(Embedding(input_dim = input_dim, output_dim = output_dim, input_length=input_length))\n",
    "model2.add(Flatten())\n",
    "model2.add(Dense(64, activation='relu', input_shape=(1600,)))\n",
    "model2.add(Dense(1, activation='sigmoid'))\n",
    "model2.compile(optimizer='adam', loss='binary_crossentropy', metrics=['accuracy'])\n",
    "print(model2.summary())"
   ]
  },
  {
   "cell_type": "code",
   "execution_count": 143,
   "id": "06f8e5bd",
   "metadata": {},
   "outputs": [],
   "source": [
    "output_dir = 'model_output/SentimentModels2'\n",
    "if not os.path.exists(output_dir):\n",
    "    os.makedirs(output_dir)\n",
    "\n",
    "modelcheckpoint = ModelCheckpoint(filepath=output_dir+\"/weights.{epoch:02d}.hdf5\")\n",
    "\n",
    "callbacks = [EarlyStopping(monitor = \"val_loss\", patience = 5),modelcheckpoint]"
   ]
  },
  {
   "cell_type": "code",
   "execution_count": 144,
   "id": "eed1f5d7",
   "metadata": {},
   "outputs": [
    {
     "name": "stdout",
     "output_type": "stream",
     "text": [
      "Epoch 1/50\n",
      "883/883 - 1s - loss: 0.2545 - accuracy: 0.8883 - val_loss: 0.0951 - val_accuracy: 0.9683\n",
      "Epoch 2/50\n",
      "883/883 - 1s - loss: 0.0378 - accuracy: 0.9885 - val_loss: 0.0807 - val_accuracy: 0.9762\n",
      "Epoch 3/50\n",
      "883/883 - 0s - loss: 0.0083 - accuracy: 0.9983 - val_loss: 0.0788 - val_accuracy: 0.9785\n",
      "Epoch 4/50\n",
      "883/883 - 0s - loss: 0.0019 - accuracy: 0.9999 - val_loss: 0.0861 - val_accuracy: 0.9773\n",
      "Epoch 5/50\n",
      "883/883 - 0s - loss: 6.1555e-04 - accuracy: 1.0000 - val_loss: 0.0951 - val_accuracy: 0.9796\n",
      "Epoch 6/50\n",
      "883/883 - 0s - loss: 2.7005e-04 - accuracy: 1.0000 - val_loss: 0.0977 - val_accuracy: 0.9773\n",
      "Epoch 7/50\n",
      "883/883 - 0s - loss: 1.3772e-04 - accuracy: 1.0000 - val_loss: 0.1072 - val_accuracy: 0.9762\n",
      "Epoch 8/50\n",
      "883/883 - 0s - loss: 1.0895e-04 - accuracy: 1.0000 - val_loss: 0.1163 - val_accuracy: 0.9773\n"
     ]
    }
   ],
   "source": [
    "# Model using keras embeddings\n",
    "history = model2.fit(X_train_w, y_train,\n",
    "                    epochs=epochs,\n",
    "                    verbose=2,\n",
    "                    callbacks = callbacks,\n",
    "                    validation_data=(X_val_w, y_val),\n",
    "                    batch_size=batch_size)"
   ]
  },
  {
   "cell_type": "code",
   "execution_count": 145,
   "id": "a81b5976",
   "metadata": {},
   "outputs": [
    {
     "name": "stdout",
     "output_type": "stream",
     "text": [
      "Training Accuracy: 1.0000\n",
      "Testing Accuracy:  0.9773\n"
     ]
    }
   ],
   "source": [
    "# Print training and test accuracies\n",
    "loss, accuracy = model2.evaluate(X_train_w, y_train, verbose=False)\n",
    "print(\"Training Accuracy: {:.4f}\".format(accuracy))\n",
    "loss, accuracy = model2.evaluate(X_val_w, y_val, verbose=False)\n",
    "print(\"Testing Accuracy:  {:.4f}\".format(accuracy))"
   ]
  },
  {
   "cell_type": "code",
   "execution_count": 146,
   "id": "ab2de6f8",
   "metadata": {},
   "outputs": [
    {
     "data": {
      "image/png": "[encoded data removed]",
      "text/plain": [
       "<Figure size 864x360 with 2 Axes>"
      ]
     },
     "metadata": {},
     "output_type": "display_data"
    }
   ],
   "source": [
    "plot_history(history)"
   ]
  },
  {
   "cell_type": "code",
   "execution_count": 147,
   "id": "bb8299fd",
   "metadata": {},
   "outputs": [],
   "source": [
    "# Load model weights from epoch with best validation accuracy\n",
    "model2.load_weights(output_dir+\"/weights.05.hdf5\")"
   ]
  },
  {
   "cell_type": "code",
   "execution_count": 148,
   "id": "f4459600",
   "metadata": {},
   "outputs": [],
   "source": [
    "# Get predicted y values and predicted classes\n",
    "y_pred_prob = model2.predict(X_val_w)\n",
    "y_pred_class = (model2.predict(X_val_w) > 0.5).astype(\"int32\")"
   ]
  },
  {
   "cell_type": "code",
   "execution_count": 149,
   "id": "c8876ef2",
   "metadata": {},
   "outputs": [
    {
     "data": {
      "text/html": [
       "<div>\n",
       "<style scoped>\n",
       "    .dataframe tbody tr th:only-of-type {\n",
       "        vertical-align: middle;\n",
       "    }\n",
       "\n",
       "    .dataframe tbody tr th {\n",
       "        vertical-align: top;\n",
       "    }\n",
       "\n",
       "    .dataframe thead th {\n",
       "        text-align: right;\n",
       "    }\n",
       "</style>\n",
       "<table border=\"1\" class=\"dataframe\">\n",
       "  <thead>\n",
       "    <tr style=\"text-align: right;\">\n",
       "      <th></th>\n",
       "      <th>y_prob</th>\n",
       "      <th>y_pred_class</th>\n",
       "      <th>y</th>\n",
       "    </tr>\n",
       "  </thead>\n",
       "  <tbody>\n",
       "    <tr>\n",
       "      <th>0</th>\n",
       "      <td>[1.0]</td>\n",
       "      <td>[1]</td>\n",
       "      <td>1</td>\n",
       "    </tr>\n",
       "    <tr>\n",
       "      <th>1</th>\n",
       "      <td>[0.99997485]</td>\n",
       "      <td>[1]</td>\n",
       "      <td>1</td>\n",
       "    </tr>\n",
       "    <tr>\n",
       "      <th>2</th>\n",
       "      <td>[3.369214e-08]</td>\n",
       "      <td>[0]</td>\n",
       "      <td>0</td>\n",
       "    </tr>\n",
       "    <tr>\n",
       "      <th>3</th>\n",
       "      <td>[0.00026398897]</td>\n",
       "      <td>[0]</td>\n",
       "      <td>0</td>\n",
       "    </tr>\n",
       "    <tr>\n",
       "      <th>4</th>\n",
       "      <td>[0.9999887]</td>\n",
       "      <td>[1]</td>\n",
       "      <td>1</td>\n",
       "    </tr>\n",
       "  </tbody>\n",
       "</table>\n",
       "</div>"
      ],
      "text/plain": [
       "            y_prob y_pred_class  y\n",
       "0            [1.0]          [1]  1\n",
       "1     [0.99997485]          [1]  1\n",
       "2   [3.369214e-08]          [0]  0\n",
       "3  [0.00026398897]          [0]  0\n",
       "4      [0.9999887]          [1]  1"
      ]
     },
     "execution_count": 149,
     "metadata": {},
     "output_type": "execute_result"
    }
   ],
   "source": [
    "# Create dataframe with y pred probabilities, classes and y actual\n",
    "ydf = pd.DataFrame(list(zip(y_pred_prob, y_pred_class,y_val,)), columns=['y_prob','y_pred_class', 'y'])\n",
    "ydf.head()"
   ]
  },
  {
   "cell_type": "code",
   "execution_count": 150,
   "id": "ed603f2f",
   "metadata": {},
   "outputs": [
    {
     "data": {
      "image/png": "[encoded data removed]",
      "text/plain": [
       "<Figure size 432x288 with 1 Axes>"
      ]
     },
     "metadata": {},
     "output_type": "display_data"
    }
   ],
   "source": [
    "# Graph to show distribution of probabilities produced by the model\n",
    "plt.hist(y_pred_prob)\n",
    "_ = plt.axvline(x=0.5, color='blue')"
   ]
  },
  {
   "cell_type": "code",
   "execution_count": 151,
   "id": "83abc518",
   "metadata": {},
   "outputs": [
    {
     "name": "stdout",
     "output_type": "stream",
     "text": [
      "              precision    recall  f1-score   support\n",
      "\n",
      "           0       0.99      0.97      0.98       442\n",
      "           1       0.97      0.99      0.98       441\n",
      "\n",
      "    accuracy                           0.98       883\n",
      "   macro avg       0.98      0.98      0.98       883\n",
      "weighted avg       0.98      0.98      0.98       883\n",
      "\n"
     ]
    },
    {
     "data": {
      "image/png": "[encoded data removed]",
      "text/plain": [
       "<Figure size 432x288 with 2 Axes>"
      ]
     },
     "metadata": {},
     "output_type": "display_data"
    }
   ],
   "source": [
    "# Print metrics\n",
    "class_conf(y_val,y_pred_class)"
   ]
  },
  {
   "cell_type": "code",
   "execution_count": 152,
   "id": "180d2f87",
   "metadata": {},
   "outputs": [
    {
     "data": {
      "text/html": [
       "<div>\n",
       "<style scoped>\n",
       "    .dataframe tbody tr th:only-of-type {\n",
       "        vertical-align: middle;\n",
       "    }\n",
       "\n",
       "    .dataframe tbody tr th {\n",
       "        vertical-align: top;\n",
       "    }\n",
       "\n",
       "    .dataframe thead th {\n",
       "        text-align: right;\n",
       "    }\n",
       "</style>\n",
       "<table border=\"1\" class=\"dataframe\">\n",
       "  <thead>\n",
       "    <tr style=\"text-align: right;\">\n",
       "      <th></th>\n",
       "      <th>Accuracy</th>\n",
       "      <th>Precision</th>\n",
       "      <th>Recall</th>\n",
       "      <th>F1</th>\n",
       "      <th>ROCAUC</th>\n",
       "    </tr>\n",
       "  </thead>\n",
       "  <tbody>\n",
       "    <tr>\n",
       "      <th>0</th>\n",
       "      <td>0.979625</td>\n",
       "      <td>0.971047</td>\n",
       "      <td>0.988662</td>\n",
       "      <td>0.979775</td>\n",
       "      <td>0.979625</td>\n",
       "    </tr>\n",
       "  </tbody>\n",
       "</table>\n",
       "</div>"
      ],
      "text/plain": [
       "   Accuracy  Precision    Recall        F1    ROCAUC\n",
       "0  0.979625   0.971047  0.988662  0.979775  0.979625"
      ]
     },
     "execution_count": 152,
     "metadata": {},
     "output_type": "execute_result"
    }
   ],
   "source": [
    "# Summarised results\n",
    "mod2_results = metric_results(y_val,y_pred_class)\n",
    "mod2_results"
   ]
  },
  {
   "cell_type": "markdown",
   "id": "3c0fbb29",
   "metadata": {},
   "source": [
    "## Sentiment Model 3"
   ]
  },
  {
   "cell_type": "code",
   "execution_count": 203,
   "id": "4867f861",
   "metadata": {},
   "outputs": [
    {
     "name": "stdout",
     "output_type": "stream",
     "text": [
      "Model: \"sequential_10\"\n",
      "_________________________________________________________________\n",
      "Layer (type)                 Output Shape              Param #   \n",
      "=================================================================\n",
      "embedding_10 (Embedding)     (None, 20, 16)            96000     \n",
      "_________________________________________________________________\n",
      "flatten_10 (Flatten)         (None, 320)               0         \n",
      "_________________________________________________________________\n",
      "dense_24 (Dense)             (None, 128)               41088     \n",
      "_________________________________________________________________\n",
      "dropout_10 (Dropout)         (None, 128)               0         \n",
      "_________________________________________________________________\n",
      "dense_25 (Dense)             (None, 1)                 129       \n",
      "=================================================================\n",
      "Total params: 137,217\n",
      "Trainable params: 137,217\n",
      "Non-trainable params: 0\n",
      "_________________________________________________________________\n",
      "None\n"
     ]
    }
   ],
   "source": [
    "# Network with a hidden layer with more neurons in the dense layer and with dropout of 50%\n",
    "model3 = Sequential()\n",
    "model3.add(Embedding(input_dim = input_dim, output_dim = output_dim, input_length=input_length))\n",
    "model3.add(Flatten())\n",
    "model3.add(Dense(128, activation='relu'))\n",
    "model3.add(Dropout(rate=0.5))\n",
    "model3.add(Dense(1, activation='sigmoid')) \n",
    "model3.compile(optimizer='adam', loss='binary_crossentropy', metrics=['accuracy'])\n",
    "print(model3.summary())"
   ]
  },
  {
   "cell_type": "code",
   "execution_count": 204,
   "id": "dba6fac0",
   "metadata": {},
   "outputs": [],
   "source": [
    "output_dir = 'model_output/SentimentModels3'\n",
    "if not os.path.exists(output_dir):\n",
    "    os.makedirs(output_dir)\n",
    "\n",
    "modelcheckpoint = ModelCheckpoint(filepath=output_dir+\"/weights.{epoch:02d}.hdf5\")\n",
    "\n",
    "callbacks = [EarlyStopping(monitor = \"val_loss\", patience = 5),modelcheckpoint]"
   ]
  },
  {
   "cell_type": "code",
   "execution_count": 205,
   "id": "d3da17c6",
   "metadata": {},
   "outputs": [
    {
     "name": "stdout",
     "output_type": "stream",
     "text": [
      "Epoch 1/50\n",
      "883/883 - 1s - loss: 0.2680 - accuracy: 0.8795 - val_loss: 0.0973 - val_accuracy: 0.9694\n",
      "Epoch 2/50\n",
      "883/883 - 0s - loss: 0.0412 - accuracy: 0.9881 - val_loss: 0.0741 - val_accuracy: 0.9762\n",
      "Epoch 3/50\n",
      "883/883 - 0s - loss: 0.0100 - accuracy: 0.9979 - val_loss: 0.0760 - val_accuracy: 0.9785\n",
      "Epoch 4/50\n",
      "883/883 - 0s - loss: 0.0033 - accuracy: 0.9993 - val_loss: 0.0756 - val_accuracy: 0.9773\n",
      "Epoch 5/50\n",
      "883/883 - 0s - loss: 9.0629e-04 - accuracy: 1.0000 - val_loss: 0.0831 - val_accuracy: 0.9796\n",
      "Epoch 6/50\n",
      "883/883 - 0s - loss: 3.9790e-04 - accuracy: 1.0000 - val_loss: 0.0916 - val_accuracy: 0.9796\n",
      "Epoch 7/50\n",
      "883/883 - 0s - loss: 4.0410e-04 - accuracy: 1.0000 - val_loss: 0.1050 - val_accuracy: 0.9796\n"
     ]
    }
   ],
   "source": [
    "# Model using keras embeddings\n",
    "history = model3.fit(X_train_w, y_train,\n",
    "                    epochs=epochs,\n",
    "                    verbose=2,\n",
    "                    callbacks = callbacks,\n",
    "                    validation_data=(X_val_w, y_val),\n",
    "                    batch_size=batch_size)"
   ]
  },
  {
   "cell_type": "code",
   "execution_count": 206,
   "id": "06a6a9da",
   "metadata": {},
   "outputs": [
    {
     "name": "stdout",
     "output_type": "stream",
     "text": [
      "Training Accuracy: 1.0000\n",
      "Testing Accuracy:  0.9796\n"
     ]
    }
   ],
   "source": [
    "# Print training and test accuracies\n",
    "loss, accuracy = model3.evaluate(X_train_w, y_train, verbose=False)\n",
    "print(\"Training Accuracy: {:.4f}\".format(accuracy))\n",
    "loss, accuracy = model3.evaluate(X_val_w, y_val, verbose=False)\n",
    "print(\"Testing Accuracy:  {:.4f}\".format(accuracy))"
   ]
  },
  {
   "cell_type": "code",
   "execution_count": 207,
   "id": "4273eb6f",
   "metadata": {},
   "outputs": [
    {
     "data": {
      "image/png": "[encoded data removed]",
      "text/plain": [
       "<Figure size 864x360 with 2 Axes>"
      ]
     },
     "metadata": {},
     "output_type": "display_data"
    }
   ],
   "source": [
    "plot_history(history)"
   ]
  },
  {
   "cell_type": "code",
   "execution_count": 208,
   "id": "56badc5d",
   "metadata": {},
   "outputs": [],
   "source": [
    "# Load model weights from epoch with best validation accuracy\n",
    "model3.load_weights(output_dir+\"/weights.05.hdf5\")"
   ]
  },
  {
   "cell_type": "code",
   "execution_count": 209,
   "id": "cc228453",
   "metadata": {},
   "outputs": [],
   "source": [
    "# Get predicted y values and predicted classes\n",
    "y_pred_prob = model3.predict(X_val_w)\n",
    "y_pred_class = (model3.predict(X_val_w) > 0.5).astype(\"int32\")"
   ]
  },
  {
   "cell_type": "code",
   "execution_count": 256,
   "id": "1e00cd90",
   "metadata": {},
   "outputs": [],
   "source": [
    "model3.save('best_binary_sent_model.h5')"
   ]
  },
  {
   "cell_type": "code",
   "execution_count": 211,
   "id": "ff86d9b5",
   "metadata": {},
   "outputs": [
    {
     "data": {
      "text/html": [
       "<div>\n",
       "<style scoped>\n",
       "    .dataframe tbody tr th:only-of-type {\n",
       "        vertical-align: middle;\n",
       "    }\n",
       "\n",
       "    .dataframe tbody tr th {\n",
       "        vertical-align: top;\n",
       "    }\n",
       "\n",
       "    .dataframe thead th {\n",
       "        text-align: right;\n",
       "    }\n",
       "</style>\n",
       "<table border=\"1\" class=\"dataframe\">\n",
       "  <thead>\n",
       "    <tr style=\"text-align: right;\">\n",
       "      <th></th>\n",
       "      <th>y_prob</th>\n",
       "      <th>y_pred_class</th>\n",
       "      <th>y</th>\n",
       "    </tr>\n",
       "  </thead>\n",
       "  <tbody>\n",
       "    <tr>\n",
       "      <th>0</th>\n",
       "      <td>[1.0]</td>\n",
       "      <td>[1]</td>\n",
       "      <td>1</td>\n",
       "    </tr>\n",
       "    <tr>\n",
       "      <th>1</th>\n",
       "      <td>[0.99992406]</td>\n",
       "      <td>[1]</td>\n",
       "      <td>1</td>\n",
       "    </tr>\n",
       "    <tr>\n",
       "      <th>2</th>\n",
       "      <td>[6.6907376e-08]</td>\n",
       "      <td>[0]</td>\n",
       "      <td>0</td>\n",
       "    </tr>\n",
       "    <tr>\n",
       "      <th>3</th>\n",
       "      <td>[7.516984e-06]</td>\n",
       "      <td>[0]</td>\n",
       "      <td>0</td>\n",
       "    </tr>\n",
       "    <tr>\n",
       "      <th>4</th>\n",
       "      <td>[0.99999446]</td>\n",
       "      <td>[1]</td>\n",
       "      <td>1</td>\n",
       "    </tr>\n",
       "  </tbody>\n",
       "</table>\n",
       "</div>"
      ],
      "text/plain": [
       "            y_prob y_pred_class  y\n",
       "0            [1.0]          [1]  1\n",
       "1     [0.99992406]          [1]  1\n",
       "2  [6.6907376e-08]          [0]  0\n",
       "3   [7.516984e-06]          [0]  0\n",
       "4     [0.99999446]          [1]  1"
      ]
     },
     "execution_count": 211,
     "metadata": {},
     "output_type": "execute_result"
    }
   ],
   "source": [
    "# Create dataframe with y pred probabilities, classes and y actual\n",
    "ydf = pd.DataFrame(list(zip(y_pred_prob, y_pred_class,y_val,)), columns=['y_prob','y_pred_class', 'y'])\n",
    "ydf.head()"
   ]
  },
  {
   "cell_type": "code",
   "execution_count": 212,
   "id": "e535be6b",
   "metadata": {},
   "outputs": [
    {
     "data": {
      "image/png": "[encoded data removed]",
      "text/plain": [
       "<Figure size 432x288 with 1 Axes>"
      ]
     },
     "metadata": {},
     "output_type": "display_data"
    }
   ],
   "source": [
    "# Graph to show distribution of probabilities produced by the model\n",
    "plt.hist(y_pred_prob)\n",
    "_ = plt.axvline(x=0.5, color='blue')"
   ]
  },
  {
   "cell_type": "code",
   "execution_count": 213,
   "id": "f972315b",
   "metadata": {},
   "outputs": [
    {
     "name": "stdout",
     "output_type": "stream",
     "text": [
      "              precision    recall  f1-score   support\n",
      "\n",
      "           0       0.98      0.98      0.98       442\n",
      "           1       0.98      0.98      0.98       441\n",
      "\n",
      "    accuracy                           0.98       883\n",
      "   macro avg       0.98      0.98      0.98       883\n",
      "weighted avg       0.98      0.98      0.98       883\n",
      "\n"
     ]
    },
    {
     "data": {
      "image/png": "[encoded data removed]",
      "text/plain": [
       "<Figure size 432x288 with 2 Axes>"
      ]
     },
     "metadata": {},
     "output_type": "display_data"
    }
   ],
   "source": [
    "# Print metrics\n",
    "class_conf(y_val,y_pred_class)"
   ]
  },
  {
   "cell_type": "code",
   "execution_count": 214,
   "id": "0ce953d7",
   "metadata": {},
   "outputs": [
    {
     "data": {
      "text/html": [
       "<div>\n",
       "<style scoped>\n",
       "    .dataframe tbody tr th:only-of-type {\n",
       "        vertical-align: middle;\n",
       "    }\n",
       "\n",
       "    .dataframe tbody tr th {\n",
       "        vertical-align: top;\n",
       "    }\n",
       "\n",
       "    .dataframe thead th {\n",
       "        text-align: right;\n",
       "    }\n",
       "</style>\n",
       "<table border=\"1\" class=\"dataframe\">\n",
       "  <thead>\n",
       "    <tr style=\"text-align: right;\">\n",
       "      <th></th>\n",
       "      <th>Accuracy</th>\n",
       "      <th>Precision</th>\n",
       "      <th>Recall</th>\n",
       "      <th>F1</th>\n",
       "      <th>ROCAUC</th>\n",
       "    </tr>\n",
       "  </thead>\n",
       "  <tbody>\n",
       "    <tr>\n",
       "      <th>0</th>\n",
       "      <td>0.979617</td>\n",
       "      <td>0.977427</td>\n",
       "      <td>0.981859</td>\n",
       "      <td>0.979638</td>\n",
       "      <td>0.979617</td>\n",
       "    </tr>\n",
       "  </tbody>\n",
       "</table>\n",
       "</div>"
      ],
      "text/plain": [
       "   Accuracy  Precision    Recall        F1    ROCAUC\n",
       "0  0.979617   0.977427  0.981859  0.979638  0.979617"
      ]
     },
     "execution_count": 214,
     "metadata": {},
     "output_type": "execute_result"
    }
   ],
   "source": [
    "# Summarised results\n",
    "mod3_results = metric_results(y_val,y_pred_class)\n",
    "mod3_results"
   ]
  },
  {
   "cell_type": "markdown",
   "id": "eac11f41",
   "metadata": {},
   "source": [
    "## Sentiment Model 4"
   ]
  },
  {
   "cell_type": "code",
   "execution_count": 164,
   "id": "1b025ca2",
   "metadata": {},
   "outputs": [
    {
     "name": "stdout",
     "output_type": "stream",
     "text": [
      "Model: \"sequential_8\"\n",
      "_________________________________________________________________\n",
      "Layer (type)                 Output Shape              Param #   \n",
      "=================================================================\n",
      "embedding_8 (Embedding)      (None, 20, 16)            96000     \n",
      "_________________________________________________________________\n",
      "flatten_8 (Flatten)          (None, 320)               0         \n",
      "_________________________________________________________________\n",
      "dense_17 (Dense)             (None, 128)               41088     \n",
      "_________________________________________________________________\n",
      "dropout_6 (Dropout)          (None, 128)               0         \n",
      "_________________________________________________________________\n",
      "dense_18 (Dense)             (None, 128)               16512     \n",
      "_________________________________________________________________\n",
      "dropout_7 (Dropout)          (None, 128)               0         \n",
      "_________________________________________________________________\n",
      "dense_19 (Dense)             (None, 1)                 129       \n",
      "=================================================================\n",
      "Total params: 153,729\n",
      "Trainable params: 153,729\n",
      "Non-trainable params: 0\n",
      "_________________________________________________________________\n",
      "None\n"
     ]
    }
   ],
   "source": [
    "# Dense model with 2 hidden dense layers and dropout on each\n",
    "model4 = Sequential()\n",
    "model4.add(Embedding(input_dim = input_dim, output_dim = output_dim, input_length=input_length))\n",
    "model4.add(Flatten())\n",
    "model4.add(Dense(128, activation='relu'))\n",
    "model4.add(Dropout(rate=0.5))\n",
    "model4.add(Dense(128, activation='relu'))\n",
    "model4.add(Dropout(rate = 0.5))\n",
    "model4.add(Dense(1, activation='sigmoid')) \n",
    "model4.compile(optimizer='adam', loss='binary_crossentropy', metrics=['accuracy'])\n",
    "print(model4.summary())"
   ]
  },
  {
   "cell_type": "code",
   "execution_count": 165,
   "id": "89702333",
   "metadata": {},
   "outputs": [],
   "source": [
    "output_dir = 'model_output/SentimentModels4'\n",
    "if not os.path.exists(output_dir):\n",
    "    os.makedirs(output_dir)\n",
    "\n",
    "modelcheckpoint = ModelCheckpoint(filepath=output_dir+\"/weights.{epoch:02d}.hdf5\")\n",
    "\n",
    "callbacks = [EarlyStopping(monitor = \"val_loss\", patience = 5),modelcheckpoint]"
   ]
  },
  {
   "cell_type": "code",
   "execution_count": 166,
   "id": "335f1c02",
   "metadata": {},
   "outputs": [
    {
     "name": "stdout",
     "output_type": "stream",
     "text": [
      "Epoch 1/50\n",
      "883/883 - 1s - loss: 0.2655 - accuracy: 0.8706 - val_loss: 0.1087 - val_accuracy: 0.9615\n",
      "Epoch 2/50\n",
      "883/883 - 1s - loss: 0.0378 - accuracy: 0.9877 - val_loss: 0.0962 - val_accuracy: 0.9728\n",
      "Epoch 3/50\n",
      "883/883 - 1s - loss: 0.0076 - accuracy: 0.9979 - val_loss: 0.1235 - val_accuracy: 0.9773\n",
      "Epoch 4/50\n",
      "883/883 - 1s - loss: 0.0045 - accuracy: 0.9987 - val_loss: 0.1273 - val_accuracy: 0.9773\n",
      "Epoch 5/50\n",
      "883/883 - 1s - loss: 5.4858e-04 - accuracy: 1.0000 - val_loss: 0.1553 - val_accuracy: 0.9740\n",
      "Epoch 6/50\n",
      "883/883 - 1s - loss: 9.8089e-04 - accuracy: 0.9997 - val_loss: 0.1497 - val_accuracy: 0.9740\n",
      "Epoch 7/50\n",
      "883/883 - 1s - loss: 0.0029 - accuracy: 0.9992 - val_loss: 0.2440 - val_accuracy: 0.9672\n"
     ]
    }
   ],
   "source": [
    "# Model using keras embeddings\n",
    "history = model4.fit(X_train_w, y_train,\n",
    "                    epochs=epochs,\n",
    "                    verbose=2,\n",
    "                    callbacks = callbacks,\n",
    "                    validation_data=(X_val_w, y_val),\n",
    "                    batch_size=batch_size)"
   ]
  },
  {
   "cell_type": "code",
   "execution_count": 167,
   "id": "f50625ec",
   "metadata": {},
   "outputs": [
    {
     "name": "stdout",
     "output_type": "stream",
     "text": [
      "Training Accuracy: 0.9993\n",
      "Testing Accuracy:  0.9672\n"
     ]
    }
   ],
   "source": [
    "# Print training and test accuracies\n",
    "loss, accuracy = model4.evaluate(X_train_w, y_train, verbose=False)\n",
    "print(\"Training Accuracy: {:.4f}\".format(accuracy))\n",
    "loss, accuracy = model4.evaluate(X_val_w, y_val, verbose=False)\n",
    "print(\"Testing Accuracy:  {:.4f}\".format(accuracy))"
   ]
  },
  {
   "cell_type": "code",
   "execution_count": 168,
   "id": "d9897fe5",
   "metadata": {},
   "outputs": [
    {
     "data": {
      "image/png": "[encoded data removed]",
      "text/plain": [
       "<Figure size 864x360 with 2 Axes>"
      ]
     },
     "metadata": {},
     "output_type": "display_data"
    }
   ],
   "source": [
    "plot_history(history)"
   ]
  },
  {
   "cell_type": "code",
   "execution_count": 169,
   "id": "5bd799d9",
   "metadata": {},
   "outputs": [],
   "source": [
    "# Load model weights from epoch with best validation accuracy\n",
    "model4.load_weights(output_dir+\"/weights.03.hdf5\")"
   ]
  },
  {
   "cell_type": "code",
   "execution_count": 170,
   "id": "8f9ce6ff",
   "metadata": {},
   "outputs": [],
   "source": [
    "# Get predicted y values and predicted classes\n",
    "y_pred_prob = model4.predict(X_val_w)\n",
    "y_pred_class = (model4.predict(X_val_w) > 0.5).astype(\"int32\")"
   ]
  },
  {
   "cell_type": "code",
   "execution_count": 171,
   "id": "7a60b915",
   "metadata": {},
   "outputs": [
    {
     "data": {
      "text/html": [
       "<div>\n",
       "<style scoped>\n",
       "    .dataframe tbody tr th:only-of-type {\n",
       "        vertical-align: middle;\n",
       "    }\n",
       "\n",
       "    .dataframe tbody tr th {\n",
       "        vertical-align: top;\n",
       "    }\n",
       "\n",
       "    .dataframe thead th {\n",
       "        text-align: right;\n",
       "    }\n",
       "</style>\n",
       "<table border=\"1\" class=\"dataframe\">\n",
       "  <thead>\n",
       "    <tr style=\"text-align: right;\">\n",
       "      <th></th>\n",
       "      <th>y_prob</th>\n",
       "      <th>y_pred_class</th>\n",
       "      <th>y</th>\n",
       "    </tr>\n",
       "  </thead>\n",
       "  <tbody>\n",
       "    <tr>\n",
       "      <th>0</th>\n",
       "      <td>[1.0]</td>\n",
       "      <td>[1]</td>\n",
       "      <td>1</td>\n",
       "    </tr>\n",
       "    <tr>\n",
       "      <th>1</th>\n",
       "      <td>[0.999616]</td>\n",
       "      <td>[1]</td>\n",
       "      <td>1</td>\n",
       "    </tr>\n",
       "    <tr>\n",
       "      <th>2</th>\n",
       "      <td>[1.4037702e-10]</td>\n",
       "      <td>[0]</td>\n",
       "      <td>0</td>\n",
       "    </tr>\n",
       "    <tr>\n",
       "      <th>3</th>\n",
       "      <td>[1.053681e-06]</td>\n",
       "      <td>[0]</td>\n",
       "      <td>0</td>\n",
       "    </tr>\n",
       "    <tr>\n",
       "      <th>4</th>\n",
       "      <td>[0.99990225]</td>\n",
       "      <td>[1]</td>\n",
       "      <td>1</td>\n",
       "    </tr>\n",
       "  </tbody>\n",
       "</table>\n",
       "</div>"
      ],
      "text/plain": [
       "            y_prob y_pred_class  y\n",
       "0            [1.0]          [1]  1\n",
       "1       [0.999616]          [1]  1\n",
       "2  [1.4037702e-10]          [0]  0\n",
       "3   [1.053681e-06]          [0]  0\n",
       "4     [0.99990225]          [1]  1"
      ]
     },
     "execution_count": 171,
     "metadata": {},
     "output_type": "execute_result"
    }
   ],
   "source": [
    "# Create dataframe with y pred probabilities, classes and y actual\n",
    "ydf = pd.DataFrame(list(zip(y_pred_prob, y_pred_class,y_val,)), columns=['y_prob','y_pred_class', 'y'])\n",
    "ydf.head()"
   ]
  },
  {
   "cell_type": "code",
   "execution_count": 172,
   "id": "b3aa26f5",
   "metadata": {},
   "outputs": [
    {
     "data": {
      "image/png": "[encoded data removed]",
      "text/plain": [
       "<Figure size 432x288 with 1 Axes>"
      ]
     },
     "metadata": {},
     "output_type": "display_data"
    }
   ],
   "source": [
    "# Graph to show distribution of probabilities produced by the model\n",
    "plt.hist(y_pred_prob)\n",
    "_ = plt.axvline(x=0.5, color='blue')"
   ]
  },
  {
   "cell_type": "code",
   "execution_count": 173,
   "id": "925e1c10",
   "metadata": {},
   "outputs": [
    {
     "name": "stdout",
     "output_type": "stream",
     "text": [
      "              precision    recall  f1-score   support\n",
      "\n",
      "           0       0.98      0.98      0.98       442\n",
      "           1       0.98      0.98      0.98       441\n",
      "\n",
      "    accuracy                           0.98       883\n",
      "   macro avg       0.98      0.98      0.98       883\n",
      "weighted avg       0.98      0.98      0.98       883\n",
      "\n"
     ]
    },
    {
     "data": {
      "image/png": "[encoded data removed]",
      "text/plain": [
       "<Figure size 432x288 with 2 Axes>"
      ]
     },
     "metadata": {},
     "output_type": "display_data"
    }
   ],
   "source": [
    "# Print metrics\n",
    "class_conf(y_val,y_pred_class)"
   ]
  },
  {
   "cell_type": "code",
   "execution_count": 174,
   "id": "dff5ce3b",
   "metadata": {},
   "outputs": [
    {
     "data": {
      "text/html": [
       "<div>\n",
       "<style scoped>\n",
       "    .dataframe tbody tr th:only-of-type {\n",
       "        vertical-align: middle;\n",
       "    }\n",
       "\n",
       "    .dataframe tbody tr th {\n",
       "        vertical-align: top;\n",
       "    }\n",
       "\n",
       "    .dataframe thead th {\n",
       "        text-align: right;\n",
       "    }\n",
       "</style>\n",
       "<table border=\"1\" class=\"dataframe\">\n",
       "  <thead>\n",
       "    <tr style=\"text-align: right;\">\n",
       "      <th></th>\n",
       "      <th>Accuracy</th>\n",
       "      <th>Precision</th>\n",
       "      <th>Recall</th>\n",
       "      <th>F1</th>\n",
       "      <th>ROCAUC</th>\n",
       "    </tr>\n",
       "  </thead>\n",
       "  <tbody>\n",
       "    <tr>\n",
       "      <th>0</th>\n",
       "      <td>0.97735</td>\n",
       "      <td>0.977324</td>\n",
       "      <td>0.977324</td>\n",
       "      <td>0.977324</td>\n",
       "      <td>0.97735</td>\n",
       "    </tr>\n",
       "  </tbody>\n",
       "</table>\n",
       "</div>"
      ],
      "text/plain": [
       "   Accuracy  Precision    Recall        F1   ROCAUC\n",
       "0   0.97735   0.977324  0.977324  0.977324  0.97735"
      ]
     },
     "execution_count": 174,
     "metadata": {},
     "output_type": "execute_result"
    }
   ],
   "source": [
    "# Summarised results\n",
    "mod4_results = metric_results(y_val,y_pred_class)\n",
    "mod4_results"
   ]
  },
  {
   "cell_type": "markdown",
   "id": "a97fa68d",
   "metadata": {},
   "source": [
    "##  Sentiment Model 5"
   ]
  },
  {
   "cell_type": "code",
   "execution_count": 175,
   "id": "1b236367",
   "metadata": {},
   "outputs": [
    {
     "name": "stdout",
     "output_type": "stream",
     "text": [
      "Model: \"sequential_9\"\n",
      "_________________________________________________________________\n",
      "Layer (type)                 Output Shape              Param #   \n",
      "=================================================================\n",
      "embedding_9 (Embedding)      (None, 20, 16)            96000     \n",
      "_________________________________________________________________\n",
      "flatten_9 (Flatten)          (None, 320)               0         \n",
      "_________________________________________________________________\n",
      "dense_20 (Dense)             (None, 512)               164352    \n",
      "_________________________________________________________________\n",
      "dropout_8 (Dropout)          (None, 512)               0         \n",
      "_________________________________________________________________\n",
      "dense_21 (Dense)             (None, 256)               131328    \n",
      "_________________________________________________________________\n",
      "dropout_9 (Dropout)          (None, 256)               0         \n",
      "_________________________________________________________________\n",
      "dense_22 (Dense)             (None, 128)               32896     \n",
      "_________________________________________________________________\n",
      "dense_23 (Dense)             (None, 1)                 129       \n",
      "=================================================================\n",
      "Total params: 424,705\n",
      "Trainable params: 424,705\n",
      "Non-trainable params: 0\n",
      "_________________________________________________________________\n",
      "None\n"
     ]
    }
   ],
   "source": [
    "# Dense model with 2 hidden dense layers and dropout on each\n",
    "model5 = Sequential()\n",
    "model5.add(Embedding(input_dim = input_dim, output_dim = output_dim, input_length=input_length))\n",
    "model5.add(Flatten())\n",
    "model5.add(Dense(512, activation='relu'))\n",
    "model5.add(Dropout(rate=0.5))\n",
    "model5.add(Dense(256, activation='relu'))\n",
    "model5.add(Dropout(rate = 0.5))\n",
    "model5.add(Dense(128,activation = 'relu'))\n",
    "model5.add(Dense(1, activation='sigmoid')) \n",
    "model5.compile(optimizer='adam', loss='binary_crossentropy', metrics=['accuracy'])\n",
    "print(model5.summary())"
   ]
  },
  {
   "cell_type": "code",
   "execution_count": 176,
   "id": "ce74cd46",
   "metadata": {},
   "outputs": [],
   "source": [
    "output_dir = 'model_output/SentimentModels5'\n",
    "if not os.path.exists(output_dir):\n",
    "    os.makedirs(output_dir)\n",
    "\n",
    "modelcheckpoint = ModelCheckpoint(filepath=output_dir+\"/weights.{epoch:02d}.hdf5\")\n",
    "\n",
    "callbacks = [EarlyStopping(monitor = \"val_loss\", patience = 5),modelcheckpoint]"
   ]
  },
  {
   "cell_type": "code",
   "execution_count": 177,
   "id": "bb881d82",
   "metadata": {},
   "outputs": [
    {
     "name": "stdout",
     "output_type": "stream",
     "text": [
      "Epoch 1/50\n",
      "883/883 - 1s - loss: 0.2419 - accuracy: 0.8855 - val_loss: 0.1106 - val_accuracy: 0.9581\n",
      "Epoch 2/50\n",
      "883/883 - 1s - loss: 0.0349 - accuracy: 0.9892 - val_loss: 0.1232 - val_accuracy: 0.9638\n",
      "Epoch 3/50\n",
      "883/883 - 1s - loss: 0.0091 - accuracy: 0.9973 - val_loss: 0.1750 - val_accuracy: 0.9638\n",
      "Epoch 4/50\n",
      "883/883 - 1s - loss: 0.0070 - accuracy: 0.9979 - val_loss: 0.1350 - val_accuracy: 0.9694\n",
      "Epoch 5/50\n",
      "883/883 - 1s - loss: 0.0062 - accuracy: 0.9983 - val_loss: 0.1665 - val_accuracy: 0.9728\n",
      "Epoch 6/50\n",
      "883/883 - 1s - loss: 0.0056 - accuracy: 0.9984 - val_loss: 0.1725 - val_accuracy: 0.9649\n"
     ]
    }
   ],
   "source": [
    "# Model using keras embeddings\n",
    "history = model5.fit(X_train_w, y_train,\n",
    "                    epochs=epochs,\n",
    "                    verbose=2,\n",
    "                    callbacks = callbacks,\n",
    "                    validation_data=(X_val_w, y_val),\n",
    "                    batch_size=batch_size)"
   ]
  },
  {
   "cell_type": "code",
   "execution_count": 178,
   "id": "c64d75bd",
   "metadata": {},
   "outputs": [
    {
     "name": "stdout",
     "output_type": "stream",
     "text": [
      "Training Accuracy: 0.9992\n",
      "Testing Accuracy:  0.9649\n"
     ]
    }
   ],
   "source": [
    "# Print training and test accuracies\n",
    "loss, accuracy = model5.evaluate(X_train_w, y_train, verbose=False)\n",
    "print(\"Training Accuracy: {:.4f}\".format(accuracy))\n",
    "loss, accuracy = model5.evaluate(X_val_w, y_val, verbose=False)\n",
    "print(\"Testing Accuracy:  {:.4f}\".format(accuracy))"
   ]
  },
  {
   "cell_type": "code",
   "execution_count": 179,
   "id": "3027a7bd",
   "metadata": {},
   "outputs": [
    {
     "data": {
      "image/png": "[encoded data removed]",
      "text/plain": [
       "<Figure size 864x360 with 2 Axes>"
      ]
     },
     "metadata": {},
     "output_type": "display_data"
    }
   ],
   "source": [
    "plot_history(history)"
   ]
  },
  {
   "cell_type": "code",
   "execution_count": 181,
   "id": "69b11d1d",
   "metadata": {},
   "outputs": [],
   "source": [
    "# Load model weights from epoch with best validation accuracy\n",
    "model5.load_weights(output_dir+\"/weights.05.hdf5\")"
   ]
  },
  {
   "cell_type": "code",
   "execution_count": 182,
   "id": "85424fa4",
   "metadata": {},
   "outputs": [],
   "source": [
    "# Get predicted y values and predicted classes\n",
    "y_pred_prob = model5.predict(X_val_w)\n",
    "y_pred_class = (model5.predict(X_val_w) > 0.5).astype(\"int32\")"
   ]
  },
  {
   "cell_type": "code",
   "execution_count": 183,
   "id": "32bf8de8",
   "metadata": {},
   "outputs": [
    {
     "data": {
      "text/html": [
       "<div>\n",
       "<style scoped>\n",
       "    .dataframe tbody tr th:only-of-type {\n",
       "        vertical-align: middle;\n",
       "    }\n",
       "\n",
       "    .dataframe tbody tr th {\n",
       "        vertical-align: top;\n",
       "    }\n",
       "\n",
       "    .dataframe thead th {\n",
       "        text-align: right;\n",
       "    }\n",
       "</style>\n",
       "<table border=\"1\" class=\"dataframe\">\n",
       "  <thead>\n",
       "    <tr style=\"text-align: right;\">\n",
       "      <th></th>\n",
       "      <th>y_prob</th>\n",
       "      <th>y_pred_class</th>\n",
       "      <th>y</th>\n",
       "    </tr>\n",
       "  </thead>\n",
       "  <tbody>\n",
       "    <tr>\n",
       "      <th>0</th>\n",
       "      <td>[1.0]</td>\n",
       "      <td>[1]</td>\n",
       "      <td>1</td>\n",
       "    </tr>\n",
       "    <tr>\n",
       "      <th>1</th>\n",
       "      <td>[0.9999948]</td>\n",
       "      <td>[1]</td>\n",
       "      <td>1</td>\n",
       "    </tr>\n",
       "    <tr>\n",
       "      <th>2</th>\n",
       "      <td>[1.2574963e-14]</td>\n",
       "      <td>[0]</td>\n",
       "      <td>0</td>\n",
       "    </tr>\n",
       "    <tr>\n",
       "      <th>3</th>\n",
       "      <td>[1.4174872e-09]</td>\n",
       "      <td>[0]</td>\n",
       "      <td>0</td>\n",
       "    </tr>\n",
       "    <tr>\n",
       "      <th>4</th>\n",
       "      <td>[1.0]</td>\n",
       "      <td>[1]</td>\n",
       "      <td>1</td>\n",
       "    </tr>\n",
       "  </tbody>\n",
       "</table>\n",
       "</div>"
      ],
      "text/plain": [
       "            y_prob y_pred_class  y\n",
       "0            [1.0]          [1]  1\n",
       "1      [0.9999948]          [1]  1\n",
       "2  [1.2574963e-14]          [0]  0\n",
       "3  [1.4174872e-09]          [0]  0\n",
       "4            [1.0]          [1]  1"
      ]
     },
     "execution_count": 183,
     "metadata": {},
     "output_type": "execute_result"
    }
   ],
   "source": [
    "# Create dataframe with y pred probabilities, classes and y actual\n",
    "ydf = pd.DataFrame(list(zip(y_pred_prob, y_pred_class,y_val,)), columns=['y_prob','y_pred_class', 'y'])\n",
    "ydf.head()"
   ]
  },
  {
   "cell_type": "code",
   "execution_count": 184,
   "id": "0e9013e3",
   "metadata": {},
   "outputs": [
    {
     "data": {
      "image/png": "[encoded data removed]",
      "text/plain": [
       "<Figure size 432x288 with 1 Axes>"
      ]
     },
     "metadata": {},
     "output_type": "display_data"
    }
   ],
   "source": [
    "# Graph to show distribution of probabilities produced by the model\n",
    "plt.hist(y_pred_prob)\n",
    "_ = plt.axvline(x=0.5, color='blue')"
   ]
  },
  {
   "cell_type": "code",
   "execution_count": 185,
   "id": "dca08f57",
   "metadata": {},
   "outputs": [
    {
     "name": "stdout",
     "output_type": "stream",
     "text": [
      "              precision    recall  f1-score   support\n",
      "\n",
      "           0       0.99      0.96      0.97       442\n",
      "           1       0.96      0.99      0.97       441\n",
      "\n",
      "    accuracy                           0.97       883\n",
      "   macro avg       0.97      0.97      0.97       883\n",
      "weighted avg       0.97      0.97      0.97       883\n",
      "\n"
     ]
    },
    {
     "data": {
      "image/png": "[encoded data removed]",
      "text/plain": [
       "<Figure size 432x288 with 2 Axes>"
      ]
     },
     "metadata": {},
     "output_type": "display_data"
    }
   ],
   "source": [
    "# Print metrics\n",
    "class_conf(y_val,y_pred_class)"
   ]
  },
  {
   "cell_type": "code",
   "execution_count": 186,
   "id": "196aa465",
   "metadata": {},
   "outputs": [
    {
     "data": {
      "text/html": [
       "<div>\n",
       "<style scoped>\n",
       "    .dataframe tbody tr th:only-of-type {\n",
       "        vertical-align: middle;\n",
       "    }\n",
       "\n",
       "    .dataframe tbody tr th {\n",
       "        vertical-align: top;\n",
       "    }\n",
       "\n",
       "    .dataframe thead th {\n",
       "        text-align: right;\n",
       "    }\n",
       "</style>\n",
       "<table border=\"1\" class=\"dataframe\">\n",
       "  <thead>\n",
       "    <tr style=\"text-align: right;\">\n",
       "      <th></th>\n",
       "      <th>Accuracy</th>\n",
       "      <th>Precision</th>\n",
       "      <th>Recall</th>\n",
       "      <th>F1</th>\n",
       "      <th>ROCAUC</th>\n",
       "    </tr>\n",
       "  </thead>\n",
       "  <tbody>\n",
       "    <tr>\n",
       "      <th>0</th>\n",
       "      <td>0.972835</td>\n",
       "      <td>0.960265</td>\n",
       "      <td>0.986395</td>\n",
       "      <td>0.973154</td>\n",
       "      <td>0.972835</td>\n",
       "    </tr>\n",
       "  </tbody>\n",
       "</table>\n",
       "</div>"
      ],
      "text/plain": [
       "   Accuracy  Precision    Recall        F1    ROCAUC\n",
       "0  0.972835   0.960265  0.986395  0.973154  0.972835"
      ]
     },
     "execution_count": 186,
     "metadata": {},
     "output_type": "execute_result"
    }
   ],
   "source": [
    "# Summarised results\n",
    "mod5_results = metric_results(y_val,y_pred_class)\n",
    "mod5_results"
   ]
  },
  {
   "cell_type": "markdown",
   "id": "1fa88d69",
   "metadata": {},
   "source": [
    "# Section 4: Summary of results"
   ]
  },
  {
   "cell_type": "code",
   "execution_count": 190,
   "id": "ac9417e5",
   "metadata": {},
   "outputs": [
    {
     "data": {
      "text/html": [
       "<div>\n",
       "<style scoped>\n",
       "    .dataframe tbody tr th:only-of-type {\n",
       "        vertical-align: middle;\n",
       "    }\n",
       "\n",
       "    .dataframe tbody tr th {\n",
       "        vertical-align: top;\n",
       "    }\n",
       "\n",
       "    .dataframe thead th {\n",
       "        text-align: right;\n",
       "    }\n",
       "</style>\n",
       "<table border=\"1\" class=\"dataframe\">\n",
       "  <thead>\n",
       "    <tr style=\"text-align: right;\">\n",
       "      <th></th>\n",
       "      <th>Accuracy</th>\n",
       "      <th>Precision</th>\n",
       "      <th>Recall</th>\n",
       "      <th>F1</th>\n",
       "      <th>ROCAUC</th>\n",
       "    </tr>\n",
       "  </thead>\n",
       "  <tbody>\n",
       "    <tr>\n",
       "      <th>Model3</th>\n",
       "      <td>0.980754</td>\n",
       "      <td>0.975336</td>\n",
       "      <td>0.986395</td>\n",
       "      <td>0.980834</td>\n",
       "      <td>0.980754</td>\n",
       "    </tr>\n",
       "    <tr>\n",
       "      <th>Model2</th>\n",
       "      <td>0.979625</td>\n",
       "      <td>0.971047</td>\n",
       "      <td>0.988662</td>\n",
       "      <td>0.979775</td>\n",
       "      <td>0.979625</td>\n",
       "    </tr>\n",
       "    <tr>\n",
       "      <th>Model1</th>\n",
       "      <td>0.977350</td>\n",
       "      <td>0.977324</td>\n",
       "      <td>0.977324</td>\n",
       "      <td>0.977324</td>\n",
       "      <td>0.977350</td>\n",
       "    </tr>\n",
       "    <tr>\n",
       "      <th>Model4</th>\n",
       "      <td>0.977350</td>\n",
       "      <td>0.977324</td>\n",
       "      <td>0.977324</td>\n",
       "      <td>0.977324</td>\n",
       "      <td>0.977350</td>\n",
       "    </tr>\n",
       "    <tr>\n",
       "      <th>Model5</th>\n",
       "      <td>0.972835</td>\n",
       "      <td>0.960265</td>\n",
       "      <td>0.986395</td>\n",
       "      <td>0.973154</td>\n",
       "      <td>0.972835</td>\n",
       "    </tr>\n",
       "  </tbody>\n",
       "</table>\n",
       "</div>"
      ],
      "text/plain": [
       "        Accuracy  Precision    Recall        F1    ROCAUC\n",
       "Model3  0.980754   0.975336  0.986395  0.980834  0.980754\n",
       "Model2  0.979625   0.971047  0.988662  0.979775  0.979625\n",
       "Model1  0.977350   0.977324  0.977324  0.977324  0.977350\n",
       "Model4  0.977350   0.977324  0.977324  0.977324  0.977350\n",
       "Model5  0.972835   0.960265  0.986395  0.973154  0.972835"
      ]
     },
     "execution_count": 190,
     "metadata": {},
     "output_type": "execute_result"
    }
   ],
   "source": [
    "models = [\"Model1\",\"Model2\",\"Model3\",\"Model4\",\"Model5\"]\n",
    "summary_table = pd.concat([mod1_results,mod2_results,mod3_results,mod4_results,mod5_results])\n",
    "summary_table.set_index([models],inplace = True)\n",
    "summary_table.to_csv(\"results_sentiment.csv\")\n",
    "summary_table.sort_values(by = \"Accuracy\",ascending = False)"
   ]
  },
  {
   "cell_type": "markdown",
   "id": "0fe24e42",
   "metadata": {},
   "source": [
    "# Section 5: Hyperparameter Tuning"
   ]
  },
  {
   "cell_type": "code",
   "execution_count": 241,
   "id": "dd498074",
   "metadata": {},
   "outputs": [],
   "source": [
    "# Network with a hidden layer with more neurons in the dense layer and with dropout of 50%\n",
    "def create_model_final(activation, dropout_rate,learn_rate,neurons,kernel_initializer):\n",
    "    model = Sequential()\n",
    "    model.add(Embedding(input_dim = input_dim, output_dim = output_dim, input_length=input_length))\n",
    "    model.add(Flatten())\n",
    "    model.add(Dense(neurons, activation=activation, kernel_initializer=kernel_initializer))\n",
    "    model.add(Dropout(rate=dropout_rate))\n",
    "    model.add(Dense(1, activation='sigmoid')) \n",
    "    opt = keras.optimizers.Adam(lr = learn_rate)\n",
    "    model.compile(optimizer='adam', loss='binary_crossentropy', metrics=['accuracy'])\n",
    "    \n",
    "    return model\n",
    "\n",
    "model = KerasClassifier(build_fn = create_model_final, verbose = 0)"
   ]
  },
  {
   "cell_type": "code",
   "execution_count": 242,
   "id": "f516711a",
   "metadata": {},
   "outputs": [
    {
     "data": {
      "text/plain": [
       "RandomizedSearchCV(cv=3, error_score='raise',\n",
       "                   estimator=<tensorflow.python.keras.wrappers.scikit_learn.KerasClassifier object at 0x000001A1673B1388>,\n",
       "                   param_distributions={'activation': ['relu', 'tanh',\n",
       "                                                       'sigmoid',\n",
       "                                                       'hard_sigmoid',\n",
       "                                                       'linear'],\n",
       "                                        'batch_size': [8, 16, 32],\n",
       "                                        'dropout_rate': [0.0, 0.1, 0.2, 0.3,\n",
       "                                                         0.4, 0.5, 0.6, 0.7,\n",
       "                                                         0.8, 0.9],\n",
       "                                        'kernel_initializer': ['uniform',\n",
       "                                                               'lecun_uniform',\n",
       "                                                               'normal', 'zero',\n",
       "                                                               'glorot_normal',\n",
       "                                                               'glorot_uniform',\n",
       "                                                               'he_normal',\n",
       "                                                               'he_uniform'],\n",
       "                                        'learn_rate': [0.001, 0.01, 0.1, 0.2,\n",
       "                                                       0.3],\n",
       "                                        'neurons': [1, 5, 10, 15, 20, 25, 30]})"
      ]
     },
     "execution_count": 242,
     "metadata": {},
     "output_type": "execute_result"
    }
   ],
   "source": [
    "batch_size = [8,16,32]\n",
    "learn_rate = [0.001, 0.01, 0.1, 0.2, 0.3]\n",
    "activation =  ['relu', 'tanh', 'sigmoid', 'hard_sigmoid', 'linear']\n",
    "dropout_rate = [0.0, 0.1, 0.2, 0.3, 0.4, 0.5, 0.6, 0.7, 0.8, 0.9]\n",
    "neurons = [1, 5, 10, 15, 20, 25, 30]\n",
    "init = ['uniform', 'lecun_uniform', 'normal', 'zero', 'glorot_normal', 'glorot_uniform', 'he_normal', 'he_uniform']\n",
    "optimizer = [ 'SGD', 'RMSprop', 'Adagrad', 'Adadelta', 'Adam', 'Adamax', 'Nadam']\n",
    "\n",
    "\n",
    "param_distribs = {\"learn_rate\":learn_rate,\"activation\":activation, \"neurons\":neurons,\n",
    "                  \"dropout_rate\": dropout_rate,\"batch_size\":batch_size,\"kernel_initializer\":init}\n",
    "clf = RandomizedSearchCV(model, param_distribs, cv = 3, error_score='raise')\n",
    "clf.fit(X_train_w, y_train)"
   ]
  },
  {
   "cell_type": "code",
   "execution_count": 243,
   "id": "6948a940",
   "metadata": {},
   "outputs": [
    {
     "name": "stdout",
     "output_type": "stream",
     "text": [
      "0.934314509232839 {'neurons': 25, 'learn_rate': 0.001, 'kernel_initializer': 'normal', 'dropout_rate': 0.0, 'batch_size': 8, 'activation': 'sigmoid'}\n",
      "0.9300664265950521 {'neurons': 25, 'learn_rate': 0.001, 'kernel_initializer': 'normal', 'dropout_rate': 0.6, 'batch_size': 16, 'activation': 'relu'}\n",
      "0.9092572331428528 {'neurons': 10, 'learn_rate': 0.01, 'kernel_initializer': 'zero', 'dropout_rate': 0.4, 'batch_size': 16, 'activation': 'hard_sigmoid'}\n",
      "0.8952423135439554 {'neurons': 15, 'learn_rate': 0.01, 'kernel_initializer': 'glorot_uniform', 'dropout_rate': 0.7, 'batch_size': 32, 'activation': 'linear'}\n",
      "0.695084790388743 {'neurons': 10, 'learn_rate': 0.001, 'kernel_initializer': 'he_uniform', 'dropout_rate': 0.8, 'batch_size': 32, 'activation': 'sigmoid'}\n",
      "0.9268107016881307 {'neurons': 20, 'learn_rate': 0.01, 'kernel_initializer': 'normal', 'dropout_rate': 0.1, 'batch_size': 32, 'activation': 'relu'}\n",
      "0.9207242528597513 {'neurons': 20, 'learn_rate': 0.1, 'kernel_initializer': 'lecun_uniform', 'dropout_rate': 0.1, 'batch_size': 32, 'activation': 'linear'}\n",
      "0.934314509232839 {'neurons': 25, 'learn_rate': 0.001, 'kernel_initializer': 'normal', 'dropout_rate': 0.0, 'batch_size': 8, 'activation': 'sigmoid'}\n",
      "0.9310575326283773 {'neurons': 30, 'learn_rate': 0.01, 'kernel_initializer': 'normal', 'dropout_rate': 0.5, 'batch_size': 16, 'activation': 'relu'}\n",
      "0.8263005018234253 {'neurons': 1, 'learn_rate': 0.2, 'kernel_initializer': 'glorot_uniform', 'dropout_rate': 0.9, 'batch_size': 8, 'activation': 'linear'}\n",
      "0.9184607068697611 {'neurons': 30, 'learn_rate': 0.1, 'kernel_initializer': 'uniform', 'dropout_rate': 0.8, 'batch_size': 16, 'activation': 'relu'}\n"
     ]
    }
   ],
   "source": [
    "print(clf.best_score_, clf.best_params_)\n",
    "means = clf.cv_results_['mean_test_score']\n",
    "parameters = clf.cv_results_['params']\n",
    "for mean, parameter in zip(means, parameters):\n",
    "    print(mean,parameter)"
   ]
  },
  {
   "cell_type": "markdown",
   "id": "0e7defad",
   "metadata": {},
   "source": [
    "No improvements found from hyperparameter tuning, ML models better metrics overall"
   ]
  },
  {
   "cell_type": "markdown",
   "id": "63d4a820",
   "metadata": {},
   "source": [
    "# Section 6: Best Model against the Test Set"
   ]
  },
  {
   "cell_type": "code",
   "execution_count": 244,
   "id": "8cd000c3",
   "metadata": {},
   "outputs": [],
   "source": [
    "model3.load_weights('model_output/SentimentModels3/weights.05.hdf5')"
   ]
  },
  {
   "cell_type": "code",
   "execution_count": 249,
   "id": "06c0f815",
   "metadata": {},
   "outputs": [],
   "source": [
    "y_pred_prob = model3.predict(X_test_w)\n",
    "y_pred_class = (model3.predict(X_test_w) > 0.5).astype(\"int32\")"
   ]
  },
  {
   "cell_type": "code",
   "execution_count": 250,
   "id": "aa6e8525",
   "metadata": {},
   "outputs": [
    {
     "name": "stdout",
     "output_type": "stream",
     "text": [
      "              precision    recall  f1-score   support\n",
      "\n",
      "           0       0.96      0.97      0.97       441\n",
      "           1       0.97      0.96      0.97       442\n",
      "\n",
      "    accuracy                           0.97       883\n",
      "   macro avg       0.97      0.97      0.97       883\n",
      "weighted avg       0.97      0.97      0.97       883\n",
      "\n"
     ]
    },
    {
     "data": {
      "image/png": "[encoded data removed]",
      "text/plain": [
       "<Figure size 432x288 with 2 Axes>"
      ]
     },
     "metadata": {},
     "output_type": "display_data"
    }
   ],
   "source": [
    "# Print metrics\n",
    "class_conf(y_test,y_pred_class)"
   ]
  },
  {
   "cell_type": "code",
   "execution_count": 255,
   "id": "f3ca72b3",
   "metadata": {},
   "outputs": [
    {
     "data": {
      "text/html": [
       "<div>\n",
       "<style scoped>\n",
       "    .dataframe tbody tr th:only-of-type {\n",
       "        vertical-align: middle;\n",
       "    }\n",
       "\n",
       "    .dataframe tbody tr th {\n",
       "        vertical-align: top;\n",
       "    }\n",
       "\n",
       "    .dataframe thead th {\n",
       "        text-align: right;\n",
       "    }\n",
       "</style>\n",
       "<table border=\"1\" class=\"dataframe\">\n",
       "  <thead>\n",
       "    <tr style=\"text-align: right;\">\n",
       "      <th></th>\n",
       "      <th>Accuracy</th>\n",
       "      <th>Precision</th>\n",
       "      <th>Recall</th>\n",
       "      <th>F1</th>\n",
       "      <th>ROCAUC</th>\n",
       "    </tr>\n",
       "  </thead>\n",
       "  <tbody>\n",
       "    <tr>\n",
       "      <th>Binary Sentiment NN Model 3</th>\n",
       "      <td>0.96603</td>\n",
       "      <td>0.97032</td>\n",
       "      <td>0.961538</td>\n",
       "      <td>0.965909</td>\n",
       "      <td>0.96603</td>\n",
       "    </tr>\n",
       "  </tbody>\n",
       "</table>\n",
       "</div>"
      ],
      "text/plain": [
       "                             Accuracy  Precision    Recall        F1   ROCAUC\n",
       "Binary Sentiment NN Model 3   0.96603    0.97032  0.961538  0.965909  0.96603"
      ]
     },
     "execution_count": 255,
     "metadata": {},
     "output_type": "execute_result"
    }
   ],
   "source": [
    "mod6 = metric_results(y_test,y_pred_class)\n",
    "mod6.index = [\"Binary Sentiment NN Model 3\"]\n",
    "mod6"
   ]
  }
 ],
 "metadata": {
  "kernelspec": {
   "display_name": "Python 3",
   "language": "python",
   "name": "python3"
  },
  "language_info": {
   "codemirror_mode": {
    "name": "ipython",
    "version": 3
   },
   "file_extension": ".py",
   "mimetype": "text/x-python",
   "name": "python",
   "nbconvert_exporter": "python",
   "pygments_lexer": "ipython3",
   "version": "3.7.10"
  }
 },
 "nbformat": 4,
 "nbformat_minor": 5
}
