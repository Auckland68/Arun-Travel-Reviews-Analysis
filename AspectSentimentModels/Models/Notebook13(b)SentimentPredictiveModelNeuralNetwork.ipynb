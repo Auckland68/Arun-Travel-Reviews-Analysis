{
 "cells": [
  {
   "cell_type": "markdown",
   "id": "17ef2c61",
   "metadata": {},
   "source": [
    "# Notebook 13 b) Binary Sentiment Model Using Neural Networks"
   ]
  },
  {
   "cell_type": "markdown",
   "id": "7e77c17f",
   "metadata": {},
   "source": [
    "This notebook seeks to train a model to predict sentiment on the full dataset based only on the noun phrases previously extracted but using neural network models instead of machine learning. The output of this model is BINARY - positive or negative.\n",
    "\n",
    "* Section 1 - Import libraries and data\n",
    "* Section 2 - Data preprocessing\n",
    "* Section 3 - Building a sentiment model (Models 1 to 5 based on the best simple networks from Notebook 8)\n",
    "* Section 4 - Summary results table\n",
    "\n",
    "Datasets need to run file:\n",
    "* combined_sentiment.csv\n",
    "* combined_sentiment_test.csv\n",
    "\n",
    "Models saved to:\n",
    "* SentimentModels1\n",
    "* SentimentModels2\n",
    "* SentimentModels3\n",
    "* SentimentModels4\n",
    "* SentimentModels5\n",
    "\n",
    "Final results:\n",
    "\n",
    "* results_sentiment.csv\n"
   ]
  },
  {
   "cell_type": "markdown",
   "id": "f25289f1",
   "metadata": {},
   "source": [
    "# Section 1: Import libraries and data"
   ]
  },
  {
   "cell_type": "code",
   "execution_count": 96,
   "id": "2b60828d",
   "metadata": {},
   "outputs": [],
   "source": [
    "import pandas as pd\n",
    "import numpy as np\n",
    "\n",
    "from sklearn import preprocessing\n",
    "from sklearn.preprocessing import LabelBinarizer\n",
    "import keras\n",
    "from keras.models import Sequential\n",
    "from keras.layers import Dense,Flatten,Embedding,LSTM,Dropout,SpatialDropout1D,Conv1D,GlobalMaxPooling1D,SimpleRNN,LSTM,GRU,Bidirectional\n",
    "from keras.preprocessing.text import Tokenizer\n",
    "from keras.preprocessing.sequence import pad_sequences\n",
    "from keras.callbacks import EarlyStopping,ModelCheckpoint\n",
    "from keras.utils import to_categorical\n",
    "from matplotlib import pyplot as plt\n",
    "from keras.wrappers.scikit_learn import KerasClassifier\n",
    "import seaborn as sns\n",
    "sns.set()\n",
    "import imblearn\n",
    "from imblearn.over_sampling import SMOTE\n",
    "\n",
    "import os\n",
    "import pickle\n",
    "\n",
    "import nltk\n",
    "from nltk.corpus import stopwords\n",
    "from sklearn.model_selection import train_test_split\n",
    "from sklearn.metrics import balanced_accuracy_score,roc_auc_score,precision_score,recall_score,f1_score,confusion_matrix,classification_report\n",
    "from sklearn.utils import class_weight\n",
    "\n",
    "import warnings\n",
    "warnings.filterwarnings('ignore')"
   ]
  },
  {
   "cell_type": "code",
   "execution_count": 3,
   "id": "25ded65a",
   "metadata": {},
   "outputs": [],
   "source": [
    "# Bring in training and test sets from Notebook 11 (visualising topic models)\n",
    "df_train = pd.read_csv(\"combined_sentiment.csv\",index_col = 0)\n",
    "df_test = pd.read_csv(\"combined_sentiment_test.csv\",index_col = 0)"
   ]
  },
  {
   "cell_type": "code",
   "execution_count": 4,
   "id": "1622c464",
   "metadata": {},
   "outputs": [
    {
     "data": {
      "text/plain": [
       "(73027, 15)"
      ]
     },
     "execution_count": 4,
     "metadata": {},
     "output_type": "execute_result"
    }
   ],
   "source": [
    "# Combine train and test set\n",
    "df_combined_all = pd.concat([df_train, df_test],axis = 0,ignore_index = True)\n",
    "df_combined_all.shape"
   ]
  },
  {
   "cell_type": "markdown",
   "id": "61098084",
   "metadata": {},
   "source": [
    "# Section 2: Data preprocessing"
   ]
  },
  {
   "cell_type": "code",
   "execution_count": 5,
   "id": "cfc1d2a1",
   "metadata": {},
   "outputs": [],
   "source": [
    "# Choose columns, replace incorrect category label and relabel columns\n",
    "df_train = df_train[[\"OrigInd\",\"Category\",\"noun_phrases\",\"Topic Count\",\"Sentiment\",\"Score\"]]\n",
    "df_train.columns = [\"OrigInd\",\"Category\",\"Noun Phrases\",\"Aspect\",\"Sentiment\",\"Polarity\"]\n",
    "df_test = df_test[[\"OrigInd\",\"Category\",\"noun_phrases\",\"Topic\",\"Sentiment\",\"Score\"]]\n",
    "df_test[\"Category\"].replace({\"Attract\": \"Attractions\"}, inplace=True)\n",
    "df_test.columns = [\"OrigInd\",\"Category\",\"Noun Phrases\",\"Aspect\",\"Sentiment\",\"Polarity\"]"
   ]
  },
  {
   "cell_type": "code",
   "execution_count": 6,
   "id": "b392c9ad",
   "metadata": {},
   "outputs": [
    {
     "data": {
      "text/plain": [
       "Food             40587\n",
       "Accommodation    24670\n",
       "Attractions       7560\n",
       "Attract            210\n",
       "Name: Category, dtype: int64"
      ]
     },
     "execution_count": 6,
     "metadata": {},
     "output_type": "execute_result"
    }
   ],
   "source": [
    "# Get Category distribution\n",
    "df_combined_all[\"Category\"].value_counts()"
   ]
  },
  {
   "cell_type": "code",
   "execution_count": 7,
   "id": "accb4184",
   "metadata": {},
   "outputs": [
    {
     "data": {
      "text/html": [
       "<div>\n",
       "<style scoped>\n",
       "    .dataframe tbody tr th:only-of-type {\n",
       "        vertical-align: middle;\n",
       "    }\n",
       "\n",
       "    .dataframe tbody tr th {\n",
       "        vertical-align: top;\n",
       "    }\n",
       "\n",
       "    .dataframe thead th {\n",
       "        text-align: right;\n",
       "    }\n",
       "</style>\n",
       "<table border=\"1\" class=\"dataframe\">\n",
       "  <thead>\n",
       "    <tr style=\"text-align: right;\">\n",
       "      <th></th>\n",
       "      <th>Unnamed: 0.1</th>\n",
       "      <th>OrigInd</th>\n",
       "      <th>Category</th>\n",
       "      <th>Town</th>\n",
       "      <th>Rating</th>\n",
       "      <th>all_text</th>\n",
       "      <th>cleaned</th>\n",
       "      <th>noun_phrases</th>\n",
       "      <th>nouns</th>\n",
       "      <th>Topic Count</th>\n",
       "      <th>Topic TFIDF</th>\n",
       "      <th>Sentiment</th>\n",
       "      <th>Score</th>\n",
       "      <th>Sentence</th>\n",
       "      <th>Topic</th>\n",
       "    </tr>\n",
       "  </thead>\n",
       "  <tbody>\n",
       "    <tr>\n",
       "      <th>0</th>\n",
       "      <td>0</td>\n",
       "      <td>0</td>\n",
       "      <td>Accommodation</td>\n",
       "      <td>Bognor</td>\n",
       "      <td>4</td>\n",
       "      <td>Nice break, shame about the accommodation... W...</td>\n",
       "      <td>nice break shame accommodation booked night st...</td>\n",
       "      <td>shame accommodation</td>\n",
       "      <td>['shame', 'accommodation']</td>\n",
       "      <td>VFM</td>\n",
       "      <td>VisitExp</td>\n",
       "      <td>-0.4767</td>\n",
       "      <td>negative</td>\n",
       "      <td>NaN</td>\n",
       "      <td>NaN</td>\n",
       "    </tr>\n",
       "    <tr>\n",
       "      <th>1</th>\n",
       "      <td>1</td>\n",
       "      <td>0</td>\n",
       "      <td>Accommodation</td>\n",
       "      <td>Bognor</td>\n",
       "      <td>4</td>\n",
       "      <td>Nice break, shame about the accommodation... W...</td>\n",
       "      <td>nice break shame accommodation booked night st...</td>\n",
       "      <td>night stay december post-christmas</td>\n",
       "      <td>['night', 'post-christmas']</td>\n",
       "      <td>Hotel Location</td>\n",
       "      <td>Restaurant</td>\n",
       "      <td>0.0000</td>\n",
       "      <td>neutral</td>\n",
       "      <td>NaN</td>\n",
       "      <td>NaN</td>\n",
       "    </tr>\n",
       "  </tbody>\n",
       "</table>\n",
       "</div>"
      ],
      "text/plain": [
       "   Unnamed: 0.1  OrigInd       Category    Town  Rating  \\\n",
       "0             0        0  Accommodation  Bognor       4   \n",
       "1             1        0  Accommodation  Bognor       4   \n",
       "\n",
       "                                            all_text  \\\n",
       "0  Nice break, shame about the accommodation... W...   \n",
       "1  Nice break, shame about the accommodation... W...   \n",
       "\n",
       "                                             cleaned  \\\n",
       "0  nice break shame accommodation booked night st...   \n",
       "1  nice break shame accommodation booked night st...   \n",
       "\n",
       "                         noun_phrases                        nouns  \\\n",
       "0                 shame accommodation   ['shame', 'accommodation']   \n",
       "1  night stay december post-christmas  ['night', 'post-christmas']   \n",
       "\n",
       "      Topic Count Topic TFIDF  Sentiment     Score Sentence Topic  \n",
       "0             VFM    VisitExp    -0.4767  negative      NaN   NaN  \n",
       "1  Hotel Location  Restaurant     0.0000   neutral      NaN   NaN  "
      ]
     },
     "execution_count": 7,
     "metadata": {},
     "output_type": "execute_result"
    }
   ],
   "source": [
    "df_combined_all.head(2)"
   ]
  },
  {
   "cell_type": "code",
   "execution_count": 8,
   "id": "d99be24b",
   "metadata": {},
   "outputs": [
    {
     "data": {
      "text/plain": [
       "neutral     39099\n",
       "positive    29513\n",
       "negative     4415\n",
       "Name: Score, dtype: int64"
      ]
     },
     "execution_count": 8,
     "metadata": {},
     "output_type": "execute_result"
    }
   ],
   "source": [
    "# Get Polarity distribution\n",
    "df_combined_all[\"Score\"].value_counts()"
   ]
  },
  {
   "cell_type": "code",
   "execution_count": 9,
   "id": "cefecc1a",
   "metadata": {},
   "outputs": [
    {
     "data": {
      "text/plain": [
       "<BarContainer object of 3 artists>"
      ]
     },
     "execution_count": 9,
     "metadata": {},
     "output_type": "execute_result"
    },
    {
     "data": {
      "image/png": "[encoded data removed]",
      "text/plain": [
       "<Figure size 432x288 with 1 Axes>"
      ]
     },
     "metadata": {},
     "output_type": "display_data"
    }
   ],
   "source": [
    "# Distribution of polarities\n",
    "sent = pd.DataFrame(df_combined_all[\"Score\"].value_counts())\n",
    "plt.bar(sent.index,sent[\"Score\"])"
   ]
  },
  {
   "cell_type": "markdown",
   "id": "eee8cc34",
   "metadata": {},
   "source": [
    "The dataset is imbalanced"
   ]
  },
  {
   "cell_type": "code",
   "execution_count": 10,
   "id": "2738a6dd",
   "metadata": {},
   "outputs": [],
   "source": [
    "# Drop the neutral sentiment and set 0 to positive and 1 to negative\n",
    "df_combined_all = df_combined_all[df_combined_all[\"Score\"]!=\"neutral\"]\n",
    "df_combined_all[\"Score\"].replace({\"positive\": 0,\"negative\":1}, inplace=True)"
   ]
  },
  {
   "cell_type": "code",
   "execution_count": 11,
   "id": "c15fde84",
   "metadata": {},
   "outputs": [
    {
     "data": {
      "text/plain": [
       "0    29513\n",
       "1     4415\n",
       "Name: Score, dtype: int64"
      ]
     },
     "execution_count": 11,
     "metadata": {},
     "output_type": "execute_result"
    }
   ],
   "source": [
    "df_combined_all[\"Score\"].value_counts()"
   ]
  },
  {
   "cell_type": "code",
   "execution_count": 12,
   "id": "d2073fe3",
   "metadata": {},
   "outputs": [
    {
     "name": "stdout",
     "output_type": "stream",
     "text": [
      "(4415, 15) (4415, 15)\n"
     ]
    }
   ],
   "source": [
    "pos_sampled = df_combined_all[df_combined_all[\"Score\"] == 0].sample(4415)\n",
    "negative = df_combined_all[df_combined_all[\"Score\"] == 1]\n",
    "print(pos_sampled.shape, negative.shape)"
   ]
  },
  {
   "cell_type": "code",
   "execution_count": 13,
   "id": "be697b77",
   "metadata": {},
   "outputs": [
    {
     "data": {
      "text/plain": [
       "(8830, 15)"
      ]
     },
     "execution_count": 13,
     "metadata": {},
     "output_type": "execute_result"
    }
   ],
   "source": [
    "df_combined_all = pd.concat([pos_sampled, negative], axis = 0, ignore_index = True)\n",
    "df_combined_all.shape"
   ]
  },
  {
   "cell_type": "code",
   "execution_count": 14,
   "id": "87b3d590",
   "metadata": {},
   "outputs": [
    {
     "data": {
      "text/plain": [
       "<BarContainer object of 2 artists>"
      ]
     },
     "execution_count": 14,
     "metadata": {},
     "output_type": "execute_result"
    },
    {
     "data": {
      "image/png": "[encoded data removed]",
      "text/plain": [
       "<Figure size 432x288 with 1 Axes>"
      ]
     },
     "metadata": {},
     "output_type": "display_data"
    }
   ],
   "source": [
    "# Distribution of polarities\n",
    "sent = pd.DataFrame(df_combined_all[\"Score\"].value_counts())\n",
    "plt.bar(sent.index,sent[\"Score\"])"
   ]
  },
  {
   "cell_type": "markdown",
   "id": "884a18d8",
   "metadata": {},
   "source": [
    "## Define X and y and split into training, valuation and test sets"
   ]
  },
  {
   "cell_type": "code",
   "execution_count": 15,
   "id": "15537c2f",
   "metadata": {},
   "outputs": [],
   "source": [
    "X = df_combined_all[\"noun_phrases\"]\n",
    "y = df_combined_all[\"Score\"]"
   ]
  },
  {
   "cell_type": "code",
   "execution_count": 16,
   "id": "cd6ddc98",
   "metadata": {},
   "outputs": [],
   "source": [
    "# Train, validation, test split\n",
    "X_train, X_test, y_train, y_test = train_test_split(X,y, stratify = y,test_size=0.2, random_state=42)\n",
    "X_test, X_val, y_test, y_val = train_test_split(X_test, y_test, stratify = y_test,test_size=0.50, random_state=42) "
   ]
  },
  {
   "cell_type": "code",
   "execution_count": 17,
   "id": "5019d176",
   "metadata": {},
   "outputs": [
    {
     "name": "stdout",
     "output_type": "stream",
     "text": [
      "(7064,) (883,) (883,) (7064,) (883,) (883,)\n"
     ]
    }
   ],
   "source": [
    "print(X_train.shape,X_val.shape,X_test.shape,y_train.shape,y_val.shape,y_test.shape)"
   ]
  },
  {
   "cell_type": "code",
   "execution_count": 18,
   "id": "cc6bc74e",
   "metadata": {},
   "outputs": [
    {
     "data": {
      "text/plain": [
       "0    3532\n",
       "1    3532\n",
       "Name: Score, dtype: int64"
      ]
     },
     "execution_count": 18,
     "metadata": {},
     "output_type": "execute_result"
    }
   ],
   "source": [
    "y_train.value_counts()"
   ]
  },
  {
   "cell_type": "code",
   "execution_count": 19,
   "id": "b61ba2a4",
   "metadata": {},
   "outputs": [
    {
     "data": {
      "text/plain": [
       "0    442\n",
       "1    441\n",
       "Name: Score, dtype: int64"
      ]
     },
     "execution_count": 19,
     "metadata": {},
     "output_type": "execute_result"
    }
   ],
   "source": [
    "y_val.value_counts()"
   ]
  },
  {
   "cell_type": "code",
   "execution_count": 20,
   "id": "eea55e76",
   "metadata": {},
   "outputs": [
    {
     "data": {
      "text/plain": [
       "1    442\n",
       "0    441\n",
       "Name: Score, dtype: int64"
      ]
     },
     "execution_count": 20,
     "metadata": {},
     "output_type": "execute_result"
    }
   ],
   "source": [
    "y_test.value_counts()"
   ]
  },
  {
   "cell_type": "markdown",
   "id": "7b246efc",
   "metadata": {},
   "source": [
    "## Distribution of noun phrases"
   ]
  },
  {
   "cell_type": "code",
   "execution_count": 21,
   "id": "99ee6196",
   "metadata": {},
   "outputs": [
    {
     "data": {
      "image/png": "[encoded data removed]",
      "text/plain": [
       "<Figure size 432x288 with 1 Axes>"
      ]
     },
     "metadata": {},
     "output_type": "display_data"
    }
   ],
   "source": [
    "pd.DataFrame(X_train)[\"noun_phrases\"].str.split().apply(len).plot.hist(bins = 50, title = \"Distribution of Number of Words/Noun\")\n",
    "plt.show()"
   ]
  },
  {
   "cell_type": "code",
   "execution_count": 22,
   "id": "a64e6a1e",
   "metadata": {},
   "outputs": [
    {
     "data": {
      "text/plain": [
       "15"
      ]
     },
     "execution_count": 22,
     "metadata": {},
     "output_type": "execute_result"
    }
   ],
   "source": [
    "pd.DataFrame(X_train)[\"noun_phrases\"].str.split().apply(len).max()"
   ]
  },
  {
   "cell_type": "markdown",
   "id": "2dd92010",
   "metadata": {},
   "source": [
    "## Encoding X values"
   ]
  },
  {
   "cell_type": "code",
   "execution_count": 23,
   "id": "0f912811",
   "metadata": {},
   "outputs": [],
   "source": [
    "def tok(X_train, X_val, X_test):\n",
    "    tokenizer = Tokenizer(num_words = 5000)\n",
    "    tokenizer.fit_on_texts(X_train)\n",
    "    X_train_s = tokenizer.texts_to_sequences(X_train)\n",
    "    X_val_s = tokenizer.texts_to_sequences(X_val)\n",
    "    X_test_s = tokenizer.texts_to_sequences(X_test)\n",
    "    X_train_w = pad_sequences(np.array(X_train_s,dtype = \"object\"), maxlen=20, padding=\"post\", truncating=\"post\", value=0.0)\n",
    "    X_val_w = pad_sequences(np.array(X_val_s,dtype = \"object\"), maxlen=20, padding=\"post\", truncating=\"post\", value=0.0)\n",
    "    X_test_w = pad_sequences(np.array(X_test_s, dtype = \"object\"), maxlen = 20, padding = \"post\", truncating = \"post\", value = 0.0)\n",
    "    \n",
    "    return tokenizer, X_train_w, X_val_w, X_test_w"
   ]
  },
  {
   "cell_type": "code",
   "execution_count": 24,
   "id": "f7f256c6",
   "metadata": {},
   "outputs": [],
   "source": [
    "# Apply function to X training, validation and test sets\n",
    "tok,X_train_w, X_val_w, X_test_w = tok(X_train, X_val, X_test)"
   ]
  },
  {
   "cell_type": "code",
   "execution_count": 25,
   "id": "bfcba9f9",
   "metadata": {},
   "outputs": [],
   "source": [
    "# Save tokenizer objects for use in the combined final model\n",
    "def tok_save(name,tokenizer):\n",
    "    with open(name, 'wb') as handle:\n",
    "        pickle.dump(tokenizer, handle, protocol=pickle.HIGHEST_PROTOCOL)\n",
    "        \n",
    "# Save tokenizer pickle files\n",
    "tok_save('tok_sent.pickle',tok)"
   ]
  },
  {
   "cell_type": "code",
   "execution_count": 26,
   "id": "59a3f8b4",
   "metadata": {},
   "outputs": [],
   "source": [
    "index_word = {v:k for k,v in tok.word_index.items()}"
   ]
  },
  {
   "cell_type": "code",
   "execution_count": 27,
   "id": "ab41d277",
   "metadata": {},
   "outputs": [],
   "source": [
    "#print(tokenizer.word_counts)"
   ]
  },
  {
   "cell_type": "code",
   "execution_count": 28,
   "id": "71a8a17b",
   "metadata": {},
   "outputs": [],
   "source": [
    "#print(tokenizer.word_index)"
   ]
  },
  {
   "cell_type": "markdown",
   "id": "29e5ac7c",
   "metadata": {},
   "source": [
    "# Section 3: Building a Sentiment Model"
   ]
  },
  {
   "cell_type": "code",
   "execution_count": 29,
   "id": "f60db7d9",
   "metadata": {},
   "outputs": [],
   "source": [
    "# Visualise the training and test accuracies and losses\n",
    "import matplotlib.pyplot as plt\n",
    "plt.style.use('ggplot')\n",
    "\n",
    "def plot_history(history):\n",
    "    acc = history.history['accuracy']\n",
    "    val_acc = history.history['val_accuracy']\n",
    "    loss = history.history['loss']\n",
    "    val_loss = history.history['val_loss']\n",
    "    x = range(1, len(acc) + 1)\n",
    "\n",
    "    plt.figure(figsize=(12, 5))\n",
    "    plt.subplot(1, 2, 1)\n",
    "    plt.plot(x, acc, 'b', label='Training acc')\n",
    "    plt.plot(x, val_acc, 'r', label='Val acc')\n",
    "    plt.title('Training and Validation accuracy')\n",
    "    plt.xlabel(\"Epochs\")\n",
    "    plt.legend()\n",
    "    plt.subplot(1, 2, 2)\n",
    "    plt.plot(x, loss, 'b', label='Training loss')\n",
    "    plt.plot(x, val_loss, 'r', label='Val loss')\n",
    "    plt.xlabel(\"Epochs\")\n",
    "    plt.title('Training and Validation loss')\n",
    "    plt.legend()"
   ]
  },
  {
   "cell_type": "code",
   "execution_count": 30,
   "id": "cafa747b",
   "metadata": {},
   "outputs": [],
   "source": [
    "# Confusion Matrix function\n",
    "\n",
    "def class_conf(y_val,y_pred_class):\n",
    "    classification = classification_report(y_val, y_pred_class)\n",
    "    fig, ax = plt.subplots()\n",
    "    cf_matrix = confusion_matrix(y_val, y_pred_class)\n",
    "    sns.heatmap(cf_matrix, annot = True, fmt = \"d\",)\n",
    "    plt.xlabel('Predicted')\n",
    "    plt.ylabel('Actual')\n",
    "    plt.title(\"Confusion Matrix\", fontsize = 15)\n",
    "    _ = ax.xaxis.set_ticklabels(['Good Reviews','Bad Reviews'],fontsize = 8)\n",
    "    _ = ax.yaxis.set_ticklabels(['Good Reviews', 'Bad Reviews'], fontsize = 8)\n",
    "    print(classification)  "
   ]
  },
  {
   "cell_type": "markdown",
   "id": "b3cc8f6b",
   "metadata": {},
   "source": [
    "## Sentiment Model 1"
   ]
  },
  {
   "cell_type": "code",
   "execution_count": 264,
   "id": "c9b34610",
   "metadata": {},
   "outputs": [],
   "source": [
    "# Metrics function\n",
    "\n",
    "def metric_results(y_val,y_pred_class):\n",
    "    accuracy = balanced_accuracy_score(y_val, y_pred_class)\n",
    "    rocauc = roc_auc_score(y_val,y_pred_class)\n",
    "    precision = precision_score(y_val, y_pred_class, pos_label = 1,average='binary')\n",
    "    recall = recall_score(y_val, y_pred_class, pos_label = 1, average='binary')\n",
    "    f1 = f1_score(y_val, y_pred_class, pos_label = 1, average='binary')\n",
    "          \n",
    "    \n",
    "    results = pd.DataFrame({\"Accuracy\":accuracy, \"Precision\":precision, \"Recall\":recall,\n",
    "                                    \"F1\":f1,\"ROCAUC\":rocauc}, index = [0]\n",
    "                                  )\n",
    "    return results"
   ]
  },
  {
   "cell_type": "code",
   "execution_count": 265,
   "id": "728f4376",
   "metadata": {},
   "outputs": [
    {
     "data": {
      "text/plain": [
       "array([1., 1.])"
      ]
     },
     "execution_count": 265,
     "metadata": {},
     "output_type": "execute_result"
    }
   ],
   "source": [
    "# Balanced classes - get weights\n",
    "from sklearn.utils import class_weight\n",
    "class_weights = class_weight.compute_class_weight('balanced',np.unique(y_train),y_train)\n",
    "class_weights"
   ]
  },
  {
   "cell_type": "code",
   "execution_count": 266,
   "id": "da40709a",
   "metadata": {},
   "outputs": [],
   "source": [
    "# Parameters\n",
    "input_dim = 6000\n",
    "output_dim = 16\n",
    "input_length = 20\n",
    "batch_size = 8\n",
    "epochs = 50"
   ]
  },
  {
   "cell_type": "code",
   "execution_count": 267,
   "id": "36bf629d",
   "metadata": {},
   "outputs": [
    {
     "name": "stdout",
     "output_type": "stream",
     "text": [
      "Model: \"sequential_94\"\n",
      "_________________________________________________________________\n",
      "Layer (type)                 Output Shape              Param #   \n",
      "=================================================================\n",
      "embedding_94 (Embedding)     (None, 20, 16)            96000     \n",
      "_________________________________________________________________\n",
      "flatten_94 (Flatten)         (None, 320)               0         \n",
      "_________________________________________________________________\n",
      "dense_147 (Dense)            (None, 1)                 321       \n",
      "=================================================================\n",
      "Total params: 96,321\n",
      "Trainable params: 96,321\n",
      "Non-trainable params: 0\n",
      "_________________________________________________________________\n",
      "None\n"
     ]
    }
   ],
   "source": [
    "# Simple model with embedding layer and no hidden dense layer, passing the embedding layer to the first layer of the model\n",
    "model1 = Sequential()\n",
    "model1.add(Embedding(input_dim = input_dim, output_dim = output_dim, input_length=input_length))\n",
    "model1.add(Flatten())\n",
    "model1.add(Dense(1, activation='sigmoid'))\n",
    "model1.compile(optimizer='adam', loss='binary_crossentropy', metrics=['accuracy'])\n",
    "print(model1.summary())"
   ]
  },
  {
   "cell_type": "code",
   "execution_count": 268,
   "id": "151cd8ac",
   "metadata": {},
   "outputs": [],
   "source": [
    "# The model will use earlystopping if the valuation loss doesn't decrease after 3 epochs\n",
    "output_dir = 'model_output/SentimentModels1'\n",
    "if not os.path.exists(output_dir):\n",
    "    os.makedirs(output_dir)\n",
    "\n",
    "\n",
    "modelcheckpoint = ModelCheckpoint(filepath=output_dir+\"/weights.{epoch:02d}.hdf5\")\n",
    "callbacks = [EarlyStopping(monitor = \"val_loss\", patience = 5),modelcheckpoint]"
   ]
  },
  {
   "cell_type": "code",
   "execution_count": 269,
   "id": "f36897fc",
   "metadata": {},
   "outputs": [
    {
     "name": "stdout",
     "output_type": "stream",
     "text": [
      "Epoch 1/50\n",
      "883/883 - 0s - loss: 0.4312 - accuracy: 0.8565 - val_loss: 0.2078 - val_accuracy: 0.9434\n",
      "Epoch 2/50\n",
      "883/883 - 0s - loss: 0.1218 - accuracy: 0.9749 - val_loss: 0.1164 - val_accuracy: 0.9547\n",
      "Epoch 3/50\n",
      "883/883 - 0s - loss: 0.0529 - accuracy: 0.9915 - val_loss: 0.0904 - val_accuracy: 0.9649\n",
      "Epoch 4/50\n",
      "883/883 - 0s - loss: 0.0277 - accuracy: 0.9960 - val_loss: 0.0808 - val_accuracy: 0.9626\n",
      "Epoch 5/50\n",
      "883/883 - 0s - loss: 0.0160 - accuracy: 0.9973 - val_loss: 0.0777 - val_accuracy: 0.9694\n",
      "Epoch 6/50\n",
      "883/883 - 0s - loss: 0.0094 - accuracy: 0.9986 - val_loss: 0.0731 - val_accuracy: 0.9683\n",
      "Epoch 7/50\n",
      "883/883 - 0s - loss: 0.0058 - accuracy: 1.0000 - val_loss: 0.0713 - val_accuracy: 0.9694\n",
      "Epoch 8/50\n",
      "883/883 - 0s - loss: 0.0037 - accuracy: 1.0000 - val_loss: 0.0712 - val_accuracy: 0.9683\n",
      "Epoch 9/50\n",
      "883/883 - 0s - loss: 0.0024 - accuracy: 1.0000 - val_loss: 0.0716 - val_accuracy: 0.9683\n",
      "Epoch 10/50\n",
      "883/883 - 0s - loss: 0.0015 - accuracy: 1.0000 - val_loss: 0.0736 - val_accuracy: 0.9672\n",
      "Epoch 11/50\n",
      "883/883 - 0s - loss: 0.0010 - accuracy: 1.0000 - val_loss: 0.0737 - val_accuracy: 0.9672\n",
      "Epoch 12/50\n",
      "883/883 - 0s - loss: 6.9831e-04 - accuracy: 1.0000 - val_loss: 0.0754 - val_accuracy: 0.9672\n",
      "Epoch 13/50\n",
      "883/883 - 0s - loss: 4.6966e-04 - accuracy: 1.0000 - val_loss: 0.0775 - val_accuracy: 0.9660\n"
     ]
    }
   ],
   "source": [
    "# Model using keras embeddings\n",
    "history = model1.fit(X_train_w,y_train,\n",
    "                    epochs=epochs,\n",
    "                    verbose=2,\n",
    "                    callbacks = callbacks,\n",
    "                    validation_data=(X_val_w, y_val),\n",
    "                    batch_size=batch_size\n",
    "                    )"
   ]
  },
  {
   "cell_type": "code",
   "execution_count": 270,
   "id": "0c3ba61f",
   "metadata": {},
   "outputs": [
    {
     "name": "stdout",
     "output_type": "stream",
     "text": [
      "Training Accuracy: 1.0000\n",
      "Validation Accuracy:  0.9660\n"
     ]
    }
   ],
   "source": [
    "# Print training and test accuracies\n",
    "loss, accuracy = model1.evaluate(X_train_w, y_train, verbose=False)\n",
    "print(\"Training Accuracy: {:.4f}\".format(accuracy))\n",
    "loss, accuracy = model1.evaluate(X_val_w, y_val, verbose=False)\n",
    "print(\"Validation Accuracy:  {:.4f}\".format(accuracy))"
   ]
  },
  {
   "cell_type": "code",
   "execution_count": 271,
   "id": "5acfe335",
   "metadata": {},
   "outputs": [
    {
     "data": {
      "image/png": "[encoded data removed]",
      "text/plain": [
       "<Figure size 864x360 with 2 Axes>"
      ]
     },
     "metadata": {},
     "output_type": "display_data"
    }
   ],
   "source": [
    "plot_history(history)"
   ]
  },
  {
   "cell_type": "code",
   "execution_count": 273,
   "id": "1023ac75",
   "metadata": {},
   "outputs": [],
   "source": [
    "# Load model weights from epoch with best validation accuracy\n",
    "model1.load_weights(output_dir+\"/weights.05.hdf5\")"
   ]
  },
  {
   "cell_type": "code",
   "execution_count": 274,
   "id": "2312c835",
   "metadata": {},
   "outputs": [],
   "source": [
    "# Get predicted y values and predicted classes\n",
    "y_pred_prob = model1.predict(X_val_w)\n",
    "y_pred_class = (model1.predict(X_val_w) > 0.5).astype(\"int32\")"
   ]
  },
  {
   "cell_type": "code",
   "execution_count": 275,
   "id": "b492d9c8",
   "metadata": {},
   "outputs": [
    {
     "data": {
      "text/html": [
       "<div>\n",
       "<style scoped>\n",
       "    .dataframe tbody tr th:only-of-type {\n",
       "        vertical-align: middle;\n",
       "    }\n",
       "\n",
       "    .dataframe tbody tr th {\n",
       "        vertical-align: top;\n",
       "    }\n",
       "\n",
       "    .dataframe thead th {\n",
       "        text-align: right;\n",
       "    }\n",
       "</style>\n",
       "<table border=\"1\" class=\"dataframe\">\n",
       "  <thead>\n",
       "    <tr style=\"text-align: right;\">\n",
       "      <th></th>\n",
       "      <th>y_prob</th>\n",
       "      <th>y_pred_class</th>\n",
       "      <th>y</th>\n",
       "    </tr>\n",
       "  </thead>\n",
       "  <tbody>\n",
       "    <tr>\n",
       "      <th>0</th>\n",
       "      <td>[1.0]</td>\n",
       "      <td>[1]</td>\n",
       "      <td>1</td>\n",
       "    </tr>\n",
       "    <tr>\n",
       "      <th>1</th>\n",
       "      <td>[0.9747032]</td>\n",
       "      <td>[1]</td>\n",
       "      <td>1</td>\n",
       "    </tr>\n",
       "    <tr>\n",
       "      <th>2</th>\n",
       "      <td>[0.01572755]</td>\n",
       "      <td>[0]</td>\n",
       "      <td>0</td>\n",
       "    </tr>\n",
       "    <tr>\n",
       "      <th>3</th>\n",
       "      <td>[7.248225e-06]</td>\n",
       "      <td>[0]</td>\n",
       "      <td>0</td>\n",
       "    </tr>\n",
       "    <tr>\n",
       "      <th>4</th>\n",
       "      <td>[0.99865276]</td>\n",
       "      <td>[1]</td>\n",
       "      <td>1</td>\n",
       "    </tr>\n",
       "  </tbody>\n",
       "</table>\n",
       "</div>"
      ],
      "text/plain": [
       "           y_prob y_pred_class  y\n",
       "0           [1.0]          [1]  1\n",
       "1     [0.9747032]          [1]  1\n",
       "2    [0.01572755]          [0]  0\n",
       "3  [7.248225e-06]          [0]  0\n",
       "4    [0.99865276]          [1]  1"
      ]
     },
     "execution_count": 275,
     "metadata": {},
     "output_type": "execute_result"
    }
   ],
   "source": [
    "# Create dataframe with y pred probabilities, classes and y actual\n",
    "ydf = pd.DataFrame(list(zip(y_pred_prob, y_pred_class,y_val,)), columns=['y_prob','y_pred_class', 'y'])\n",
    "ydf.head()"
   ]
  },
  {
   "cell_type": "code",
   "execution_count": 276,
   "id": "8805a34f",
   "metadata": {},
   "outputs": [
    {
     "data": {
      "image/png": "[encoded data removed]",
      "text/plain": [
       "<Figure size 432x288 with 1 Axes>"
      ]
     },
     "metadata": {},
     "output_type": "display_data"
    }
   ],
   "source": [
    "# Graph to show distribution of probabilities produced by the model\n",
    "plt.hist(y_pred_prob)\n",
    "_ = plt.axvline(x=0.5, color='blue')"
   ]
  },
  {
   "cell_type": "code",
   "execution_count": 277,
   "id": "b55ef425",
   "metadata": {},
   "outputs": [
    {
     "name": "stdout",
     "output_type": "stream",
     "text": [
      "              precision    recall  f1-score   support\n",
      "\n",
      "           0       0.98      0.96      0.97       442\n",
      "           1       0.96      0.98      0.97       441\n",
      "\n",
      "    accuracy                           0.97       883\n",
      "   macro avg       0.97      0.97      0.97       883\n",
      "weighted avg       0.97      0.97      0.97       883\n",
      "\n"
     ]
    },
    {
     "data": {
      "image/png": "[encoded data removed]",
      "text/plain": [
       "<Figure size 432x288 with 2 Axes>"
      ]
     },
     "metadata": {},
     "output_type": "display_data"
    }
   ],
   "source": [
    "# Print metrics\n",
    "class_conf(y_val,y_pred_class)"
   ]
  },
  {
   "cell_type": "code",
   "execution_count": 278,
   "id": "f6d00ca5",
   "metadata": {},
   "outputs": [
    {
     "data": {
      "text/html": [
       "<div>\n",
       "<style scoped>\n",
       "    .dataframe tbody tr th:only-of-type {\n",
       "        vertical-align: middle;\n",
       "    }\n",
       "\n",
       "    .dataframe tbody tr th {\n",
       "        vertical-align: top;\n",
       "    }\n",
       "\n",
       "    .dataframe thead th {\n",
       "        text-align: right;\n",
       "    }\n",
       "</style>\n",
       "<table border=\"1\" class=\"dataframe\">\n",
       "  <thead>\n",
       "    <tr style=\"text-align: right;\">\n",
       "      <th></th>\n",
       "      <th>Accuracy</th>\n",
       "      <th>Precision</th>\n",
       "      <th>Recall</th>\n",
       "      <th>F1</th>\n",
       "      <th>ROCAUC</th>\n",
       "    </tr>\n",
       "  </thead>\n",
       "  <tbody>\n",
       "    <tr>\n",
       "      <th>0</th>\n",
       "      <td>0.969436</td>\n",
       "      <td>0.957965</td>\n",
       "      <td>0.981859</td>\n",
       "      <td>0.969765</td>\n",
       "      <td>0.969436</td>\n",
       "    </tr>\n",
       "  </tbody>\n",
       "</table>\n",
       "</div>"
      ],
      "text/plain": [
       "   Accuracy  Precision    Recall        F1    ROCAUC\n",
       "0  0.969436   0.957965  0.981859  0.969765  0.969436"
      ]
     },
     "execution_count": 278,
     "metadata": {},
     "output_type": "execute_result"
    }
   ],
   "source": [
    "# Summarised results\n",
    "mod1_results = metric_results(y_val,y_pred_class)\n",
    "mod1_results"
   ]
  },
  {
   "cell_type": "markdown",
   "id": "8423d2a2",
   "metadata": {},
   "source": [
    "## Sentiment Model 2"
   ]
  },
  {
   "cell_type": "code",
   "execution_count": 279,
   "id": "2261b2ac",
   "metadata": {},
   "outputs": [
    {
     "name": "stdout",
     "output_type": "stream",
     "text": [
      "Model: \"sequential_95\"\n",
      "_________________________________________________________________\n",
      "Layer (type)                 Output Shape              Param #   \n",
      "=================================================================\n",
      "embedding_95 (Embedding)     (None, 20, 16)            96000     \n",
      "_________________________________________________________________\n",
      "flatten_95 (Flatten)         (None, 320)               0         \n",
      "_________________________________________________________________\n",
      "dense_148 (Dense)            (None, 64)                20544     \n",
      "_________________________________________________________________\n",
      "dense_149 (Dense)            (None, 1)                 65        \n",
      "=================================================================\n",
      "Total params: 116,609\n",
      "Trainable params: 116,609\n",
      "Non-trainable params: 0\n",
      "_________________________________________________________________\n",
      "None\n"
     ]
    }
   ],
   "source": [
    "model2 = Sequential()\n",
    "model2.add(Embedding(input_dim = input_dim, output_dim = output_dim, input_length=input_length))\n",
    "model2.add(Flatten())\n",
    "model2.add(Dense(64, activation='relu', input_shape=(1600,)))\n",
    "model2.add(Dense(1, activation='sigmoid'))\n",
    "model2.compile(optimizer='adam', loss='binary_crossentropy', metrics=['accuracy'])\n",
    "print(model2.summary())"
   ]
  },
  {
   "cell_type": "code",
   "execution_count": 280,
   "id": "06f8e5bd",
   "metadata": {},
   "outputs": [],
   "source": [
    "output_dir = 'model_output/SentimentModels2'\n",
    "if not os.path.exists(output_dir):\n",
    "    os.makedirs(output_dir)\n",
    "\n",
    "modelcheckpoint = ModelCheckpoint(filepath=output_dir+\"/weights.{epoch:02d}.hdf5\")\n",
    "\n",
    "callbacks = [EarlyStopping(monitor = \"val_loss\", patience = 5),modelcheckpoint]"
   ]
  },
  {
   "cell_type": "code",
   "execution_count": 281,
   "id": "eed1f5d7",
   "metadata": {},
   "outputs": [
    {
     "name": "stdout",
     "output_type": "stream",
     "text": [
      "Epoch 1/50\n",
      "883/883 - 1s - loss: 0.2545 - accuracy: 0.8845 - val_loss: 0.0937 - val_accuracy: 0.9672\n",
      "Epoch 2/50\n",
      "883/883 - 0s - loss: 0.0378 - accuracy: 0.9871 - val_loss: 0.0831 - val_accuracy: 0.9683\n",
      "Epoch 3/50\n",
      "883/883 - 0s - loss: 0.0079 - accuracy: 0.9989 - val_loss: 0.0844 - val_accuracy: 0.9683\n",
      "Epoch 4/50\n",
      "883/883 - 0s - loss: 0.0014 - accuracy: 1.0000 - val_loss: 0.0837 - val_accuracy: 0.9694\n",
      "Epoch 5/50\n",
      "883/883 - 0s - loss: 5.2186e-04 - accuracy: 1.0000 - val_loss: 0.0877 - val_accuracy: 0.9683\n",
      "Epoch 6/50\n",
      "883/883 - 0s - loss: 2.2990e-04 - accuracy: 1.0000 - val_loss: 0.0910 - val_accuracy: 0.9717\n",
      "Epoch 7/50\n",
      "883/883 - 0s - loss: 1.2221e-04 - accuracy: 1.0000 - val_loss: 0.0945 - val_accuracy: 0.9694\n"
     ]
    }
   ],
   "source": [
    "# Model using keras embeddings\n",
    "history = model2.fit(X_train_w, y_train,\n",
    "                    epochs=epochs,\n",
    "                    verbose=2,\n",
    "                    callbacks = callbacks,\n",
    "                    validation_data=(X_val_w, y_val),\n",
    "                    batch_size=batch_size)"
   ]
  },
  {
   "cell_type": "code",
   "execution_count": 282,
   "id": "a81b5976",
   "metadata": {},
   "outputs": [
    {
     "name": "stdout",
     "output_type": "stream",
     "text": [
      "Training Accuracy: 1.0000\n",
      "Testing Accuracy:  0.9694\n"
     ]
    }
   ],
   "source": [
    "# Print training and test accuracies\n",
    "loss, accuracy = model2.evaluate(X_train_w, y_train, verbose=False)\n",
    "print(\"Training Accuracy: {:.4f}\".format(accuracy))\n",
    "loss, accuracy = model2.evaluate(X_val_w, y_val, verbose=False)\n",
    "print(\"Testing Accuracy:  {:.4f}\".format(accuracy))"
   ]
  },
  {
   "cell_type": "code",
   "execution_count": 283,
   "id": "ab2de6f8",
   "metadata": {},
   "outputs": [
    {
     "data": {
      "image/png": "[encoded data removed]",
      "text/plain": [
       "<Figure size 864x360 with 2 Axes>"
      ]
     },
     "metadata": {},
     "output_type": "display_data"
    }
   ],
   "source": [
    "plot_history(history)"
   ]
  },
  {
   "cell_type": "code",
   "execution_count": 284,
   "id": "bb8299fd",
   "metadata": {},
   "outputs": [],
   "source": [
    "# Load model weights from epoch with best validation accuracy\n",
    "model2.load_weights(output_dir+\"/weights.04.hdf5\")"
   ]
  },
  {
   "cell_type": "code",
   "execution_count": 285,
   "id": "f4459600",
   "metadata": {},
   "outputs": [],
   "source": [
    "# Get predicted y values and predicted classes\n",
    "y_pred_prob = model2.predict(X_val_w)\n",
    "y_pred_class = (model2.predict(X_val_w) > 0.5).astype(\"int32\")"
   ]
  },
  {
   "cell_type": "code",
   "execution_count": 286,
   "id": "c8876ef2",
   "metadata": {},
   "outputs": [
    {
     "data": {
      "text/html": [
       "<div>\n",
       "<style scoped>\n",
       "    .dataframe tbody tr th:only-of-type {\n",
       "        vertical-align: middle;\n",
       "    }\n",
       "\n",
       "    .dataframe tbody tr th {\n",
       "        vertical-align: top;\n",
       "    }\n",
       "\n",
       "    .dataframe thead th {\n",
       "        text-align: right;\n",
       "    }\n",
       "</style>\n",
       "<table border=\"1\" class=\"dataframe\">\n",
       "  <thead>\n",
       "    <tr style=\"text-align: right;\">\n",
       "      <th></th>\n",
       "      <th>y_prob</th>\n",
       "      <th>y_pred_class</th>\n",
       "      <th>y</th>\n",
       "    </tr>\n",
       "  </thead>\n",
       "  <tbody>\n",
       "    <tr>\n",
       "      <th>0</th>\n",
       "      <td>[1.0]</td>\n",
       "      <td>[1]</td>\n",
       "      <td>1</td>\n",
       "    </tr>\n",
       "    <tr>\n",
       "      <th>1</th>\n",
       "      <td>[0.99722886]</td>\n",
       "      <td>[1]</td>\n",
       "      <td>1</td>\n",
       "    </tr>\n",
       "    <tr>\n",
       "      <th>2</th>\n",
       "      <td>[0.0011607409]</td>\n",
       "      <td>[0]</td>\n",
       "      <td>0</td>\n",
       "    </tr>\n",
       "    <tr>\n",
       "      <th>3</th>\n",
       "      <td>[2.382881e-07]</td>\n",
       "      <td>[0]</td>\n",
       "      <td>0</td>\n",
       "    </tr>\n",
       "    <tr>\n",
       "      <th>4</th>\n",
       "      <td>[0.9999107]</td>\n",
       "      <td>[1]</td>\n",
       "      <td>1</td>\n",
       "    </tr>\n",
       "  </tbody>\n",
       "</table>\n",
       "</div>"
      ],
      "text/plain": [
       "           y_prob y_pred_class  y\n",
       "0           [1.0]          [1]  1\n",
       "1    [0.99722886]          [1]  1\n",
       "2  [0.0011607409]          [0]  0\n",
       "3  [2.382881e-07]          [0]  0\n",
       "4     [0.9999107]          [1]  1"
      ]
     },
     "execution_count": 286,
     "metadata": {},
     "output_type": "execute_result"
    }
   ],
   "source": [
    "# Create dataframe with y pred probabilities, classes and y actual\n",
    "ydf = pd.DataFrame(list(zip(y_pred_prob, y_pred_class,y_val,)), columns=['y_prob','y_pred_class', 'y'])\n",
    "ydf.head()"
   ]
  },
  {
   "cell_type": "code",
   "execution_count": 287,
   "id": "ed603f2f",
   "metadata": {},
   "outputs": [
    {
     "data": {
      "image/png": "[encoded data removed]",
      "text/plain": [
       "<Figure size 432x288 with 1 Axes>"
      ]
     },
     "metadata": {},
     "output_type": "display_data"
    }
   ],
   "source": [
    "# Graph to show distribution of probabilities produced by the model\n",
    "plt.hist(y_pred_prob)\n",
    "_ = plt.axvline(x=0.5, color='blue')"
   ]
  },
  {
   "cell_type": "code",
   "execution_count": 288,
   "id": "83abc518",
   "metadata": {},
   "outputs": [
    {
     "name": "stdout",
     "output_type": "stream",
     "text": [
      "              precision    recall  f1-score   support\n",
      "\n",
      "           0       0.97      0.97      0.97       442\n",
      "           1       0.97      0.97      0.97       441\n",
      "\n",
      "    accuracy                           0.97       883\n",
      "   macro avg       0.97      0.97      0.97       883\n",
      "weighted avg       0.97      0.97      0.97       883\n",
      "\n"
     ]
    },
    {
     "data": {
      "image/png": "[encoded data removed]",
      "text/plain": [
       "<Figure size 432x288 with 2 Axes>"
      ]
     },
     "metadata": {},
     "output_type": "display_data"
    }
   ],
   "source": [
    "# Print metrics\n",
    "class_conf(y_val,y_pred_class)"
   ]
  },
  {
   "cell_type": "code",
   "execution_count": 289,
   "id": "180d2f87",
   "metadata": {},
   "outputs": [
    {
     "data": {
      "text/html": [
       "<div>\n",
       "<style scoped>\n",
       "    .dataframe tbody tr th:only-of-type {\n",
       "        vertical-align: middle;\n",
       "    }\n",
       "\n",
       "    .dataframe tbody tr th {\n",
       "        vertical-align: top;\n",
       "    }\n",
       "\n",
       "    .dataframe thead th {\n",
       "        text-align: right;\n",
       "    }\n",
       "</style>\n",
       "<table border=\"1\" class=\"dataframe\">\n",
       "  <thead>\n",
       "    <tr style=\"text-align: right;\">\n",
       "      <th></th>\n",
       "      <th>Accuracy</th>\n",
       "      <th>Precision</th>\n",
       "      <th>Recall</th>\n",
       "      <th>F1</th>\n",
       "      <th>ROCAUC</th>\n",
       "    </tr>\n",
       "  </thead>\n",
       "  <tbody>\n",
       "    <tr>\n",
       "      <th>0</th>\n",
       "      <td>0.969424</td>\n",
       "      <td>0.968326</td>\n",
       "      <td>0.970522</td>\n",
       "      <td>0.969422</td>\n",
       "      <td>0.969424</td>\n",
       "    </tr>\n",
       "  </tbody>\n",
       "</table>\n",
       "</div>"
      ],
      "text/plain": [
       "   Accuracy  Precision    Recall        F1    ROCAUC\n",
       "0  0.969424   0.968326  0.970522  0.969422  0.969424"
      ]
     },
     "execution_count": 289,
     "metadata": {},
     "output_type": "execute_result"
    }
   ],
   "source": [
    "# Summarised results\n",
    "mod2_results = metric_results(y_val,y_pred_class)\n",
    "mod2_results"
   ]
  },
  {
   "cell_type": "markdown",
   "id": "3c0fbb29",
   "metadata": {},
   "source": [
    "## Sentiment Model 3"
   ]
  },
  {
   "cell_type": "code",
   "execution_count": 290,
   "id": "4867f861",
   "metadata": {},
   "outputs": [
    {
     "name": "stdout",
     "output_type": "stream",
     "text": [
      "Model: \"sequential_96\"\n",
      "_________________________________________________________________\n",
      "Layer (type)                 Output Shape              Param #   \n",
      "=================================================================\n",
      "embedding_96 (Embedding)     (None, 20, 16)            96000     \n",
      "_________________________________________________________________\n",
      "flatten_96 (Flatten)         (None, 320)               0         \n",
      "_________________________________________________________________\n",
      "dense_150 (Dense)            (None, 128)               41088     \n",
      "_________________________________________________________________\n",
      "dropout_50 (Dropout)         (None, 128)               0         \n",
      "_________________________________________________________________\n",
      "dense_151 (Dense)            (None, 1)                 129       \n",
      "=================================================================\n",
      "Total params: 137,217\n",
      "Trainable params: 137,217\n",
      "Non-trainable params: 0\n",
      "_________________________________________________________________\n",
      "None\n"
     ]
    }
   ],
   "source": [
    "# Network with a hidden layer with more neurons in the dense layer and with dropout of 50%\n",
    "model3 = Sequential()\n",
    "model3.add(Embedding(input_dim = input_dim, output_dim = output_dim, input_length=input_length))\n",
    "model3.add(Flatten())\n",
    "model3.add(Dense(128, activation='relu'))\n",
    "model3.add(Dropout(rate=0.5))\n",
    "model3.add(Dense(1, activation='sigmoid')) \n",
    "model3.compile(optimizer='adam', loss='binary_crossentropy', metrics=['accuracy'])\n",
    "print(model3.summary())"
   ]
  },
  {
   "cell_type": "code",
   "execution_count": 291,
   "id": "dba6fac0",
   "metadata": {},
   "outputs": [],
   "source": [
    "output_dir = 'model_output/SentimentModels3'\n",
    "if not os.path.exists(output_dir):\n",
    "    os.makedirs(output_dir)\n",
    "\n",
    "modelcheckpoint = ModelCheckpoint(filepath=output_dir+\"/weights.{epoch:02d}.hdf5\")\n",
    "\n",
    "callbacks = [EarlyStopping(monitor = \"val_loss\", patience = 5),modelcheckpoint]"
   ]
  },
  {
   "cell_type": "code",
   "execution_count": 292,
   "id": "d3da17c6",
   "metadata": {},
   "outputs": [
    {
     "name": "stdout",
     "output_type": "stream",
     "text": [
      "Epoch 1/50\n",
      "WARNING:tensorflow:Callbacks method `on_train_batch_end` is slow compared to the batch time (batch time: 0.0000s vs `on_train_batch_end` time: 0.0010s). Check your callbacks.\n",
      "883/883 - 1s - loss: 0.2672 - accuracy: 0.8867 - val_loss: 0.1098 - val_accuracy: 0.9604\n",
      "Epoch 2/50\n",
      "883/883 - 1s - loss: 0.0392 - accuracy: 0.9880 - val_loss: 0.0992 - val_accuracy: 0.9626\n",
      "Epoch 3/50\n",
      "883/883 - 0s - loss: 0.0094 - accuracy: 0.9976 - val_loss: 0.0986 - val_accuracy: 0.9683\n",
      "Epoch 4/50\n",
      "883/883 - 1s - loss: 0.0030 - accuracy: 0.9996 - val_loss: 0.1152 - val_accuracy: 0.9660\n",
      "Epoch 5/50\n",
      "883/883 - 0s - loss: 0.0015 - accuracy: 0.9997 - val_loss: 0.1260 - val_accuracy: 0.9660\n",
      "Epoch 6/50\n",
      "883/883 - 1s - loss: 6.2319e-04 - accuracy: 1.0000 - val_loss: 0.1272 - val_accuracy: 0.9672\n",
      "Epoch 7/50\n",
      "883/883 - 1s - loss: 1.5704e-04 - accuracy: 1.0000 - val_loss: 0.1339 - val_accuracy: 0.9683\n",
      "Epoch 8/50\n",
      "883/883 - 1s - loss: 1.3034e-04 - accuracy: 1.0000 - val_loss: 0.1385 - val_accuracy: 0.9694\n"
     ]
    }
   ],
   "source": [
    "# Model using keras embeddings\n",
    "history = model3.fit(X_train_w, y_train,\n",
    "                    epochs=epochs,\n",
    "                    verbose=2,\n",
    "                    callbacks = callbacks,\n",
    "                    validation_data=(X_val_w, y_val),\n",
    "                    batch_size=batch_size)"
   ]
  },
  {
   "cell_type": "code",
   "execution_count": 293,
   "id": "06a6a9da",
   "metadata": {},
   "outputs": [
    {
     "name": "stdout",
     "output_type": "stream",
     "text": [
      "Training Accuracy: 1.0000\n",
      "Testing Accuracy:  0.9694\n"
     ]
    }
   ],
   "source": [
    "# Print training and test accuracies\n",
    "loss, accuracy = model3.evaluate(X_train_w, y_train, verbose=False)\n",
    "print(\"Training Accuracy: {:.4f}\".format(accuracy))\n",
    "loss, accuracy = model3.evaluate(X_val_w, y_val, verbose=False)\n",
    "print(\"Testing Accuracy:  {:.4f}\".format(accuracy))"
   ]
  },
  {
   "cell_type": "code",
   "execution_count": 294,
   "id": "9581e8ff",
   "metadata": {},
   "outputs": [],
   "source": [
    "model3.save(\"Sentiment.h5\")"
   ]
  },
  {
   "cell_type": "code",
   "execution_count": 295,
   "id": "4273eb6f",
   "metadata": {},
   "outputs": [
    {
     "data": {
      "image/png": "[encoded data removed]",
      "text/plain": [
       "<Figure size 864x360 with 2 Axes>"
      ]
     },
     "metadata": {},
     "output_type": "display_data"
    }
   ],
   "source": [
    "plot_history(history)"
   ]
  },
  {
   "cell_type": "code",
   "execution_count": 296,
   "id": "56badc5d",
   "metadata": {},
   "outputs": [],
   "source": [
    "# Load model weights from epoch with best validation accuracy\n",
    "model3.load_weights(output_dir+\"/weights.08.hdf5\")"
   ]
  },
  {
   "cell_type": "code",
   "execution_count": 297,
   "id": "cc228453",
   "metadata": {},
   "outputs": [],
   "source": [
    "# Get predicted y values and predicted classes\n",
    "y_pred_prob = model3.predict(X_val_w)\n",
    "y_pred_class = (model3.predict(X_val_w) > 0.5).astype(\"int32\")"
   ]
  },
  {
   "cell_type": "code",
   "execution_count": 298,
   "id": "ff86d9b5",
   "metadata": {},
   "outputs": [
    {
     "data": {
      "text/html": [
       "<div>\n",
       "<style scoped>\n",
       "    .dataframe tbody tr th:only-of-type {\n",
       "        vertical-align: middle;\n",
       "    }\n",
       "\n",
       "    .dataframe tbody tr th {\n",
       "        vertical-align: top;\n",
       "    }\n",
       "\n",
       "    .dataframe thead th {\n",
       "        text-align: right;\n",
       "    }\n",
       "</style>\n",
       "<table border=\"1\" class=\"dataframe\">\n",
       "  <thead>\n",
       "    <tr style=\"text-align: right;\">\n",
       "      <th></th>\n",
       "      <th>y_prob</th>\n",
       "      <th>y_pred_class</th>\n",
       "      <th>y</th>\n",
       "    </tr>\n",
       "  </thead>\n",
       "  <tbody>\n",
       "    <tr>\n",
       "      <th>0</th>\n",
       "      <td>[1.0]</td>\n",
       "      <td>[1]</td>\n",
       "      <td>1</td>\n",
       "    </tr>\n",
       "    <tr>\n",
       "      <th>1</th>\n",
       "      <td>[0.999992]</td>\n",
       "      <td>[1]</td>\n",
       "      <td>1</td>\n",
       "    </tr>\n",
       "    <tr>\n",
       "      <th>2</th>\n",
       "      <td>[0.00020965934]</td>\n",
       "      <td>[0]</td>\n",
       "      <td>0</td>\n",
       "    </tr>\n",
       "    <tr>\n",
       "      <th>3</th>\n",
       "      <td>[6.222483e-11]</td>\n",
       "      <td>[0]</td>\n",
       "      <td>0</td>\n",
       "    </tr>\n",
       "    <tr>\n",
       "      <th>4</th>\n",
       "      <td>[0.99999964]</td>\n",
       "      <td>[1]</td>\n",
       "      <td>1</td>\n",
       "    </tr>\n",
       "  </tbody>\n",
       "</table>\n",
       "</div>"
      ],
      "text/plain": [
       "            y_prob y_pred_class  y\n",
       "0            [1.0]          [1]  1\n",
       "1       [0.999992]          [1]  1\n",
       "2  [0.00020965934]          [0]  0\n",
       "3   [6.222483e-11]          [0]  0\n",
       "4     [0.99999964]          [1]  1"
      ]
     },
     "execution_count": 298,
     "metadata": {},
     "output_type": "execute_result"
    }
   ],
   "source": [
    "# Create dataframe with y pred probabilities, classes and y actual\n",
    "ydf = pd.DataFrame(list(zip(y_pred_prob, y_pred_class,y_val,)), columns=['y_prob','y_pred_class', 'y'])\n",
    "ydf.head()"
   ]
  },
  {
   "cell_type": "code",
   "execution_count": 299,
   "id": "e535be6b",
   "metadata": {},
   "outputs": [
    {
     "data": {
      "image/png": "[encoded data removed]",
      "text/plain": [
       "<Figure size 432x288 with 1 Axes>"
      ]
     },
     "metadata": {},
     "output_type": "display_data"
    }
   ],
   "source": [
    "# Graph to show distribution of probabilities produced by the model\n",
    "plt.hist(y_pred_prob)\n",
    "_ = plt.axvline(x=0.5, color='blue')"
   ]
  },
  {
   "cell_type": "code",
   "execution_count": 300,
   "id": "f972315b",
   "metadata": {},
   "outputs": [
    {
     "name": "stdout",
     "output_type": "stream",
     "text": [
      "              precision    recall  f1-score   support\n",
      "\n",
      "           0       0.98      0.96      0.97       442\n",
      "           1       0.96      0.98      0.97       441\n",
      "\n",
      "    accuracy                           0.97       883\n",
      "   macro avg       0.97      0.97      0.97       883\n",
      "weighted avg       0.97      0.97      0.97       883\n",
      "\n"
     ]
    },
    {
     "data": {
      "image/png": "[encoded data removed]",
      "text/plain": [
       "<Figure size 432x288 with 2 Axes>"
      ]
     },
     "metadata": {},
     "output_type": "display_data"
    }
   ],
   "source": [
    "# Print metrics\n",
    "class_conf(y_val,y_pred_class)"
   ]
  },
  {
   "cell_type": "code",
   "execution_count": 301,
   "id": "0ce953d7",
   "metadata": {},
   "outputs": [
    {
     "data": {
      "text/html": [
       "<div>\n",
       "<style scoped>\n",
       "    .dataframe tbody tr th:only-of-type {\n",
       "        vertical-align: middle;\n",
       "    }\n",
       "\n",
       "    .dataframe tbody tr th {\n",
       "        vertical-align: top;\n",
       "    }\n",
       "\n",
       "    .dataframe thead th {\n",
       "        text-align: right;\n",
       "    }\n",
       "</style>\n",
       "<table border=\"1\" class=\"dataframe\">\n",
       "  <thead>\n",
       "    <tr style=\"text-align: right;\">\n",
       "      <th></th>\n",
       "      <th>Accuracy</th>\n",
       "      <th>Precision</th>\n",
       "      <th>Recall</th>\n",
       "      <th>F1</th>\n",
       "      <th>ROCAUC</th>\n",
       "    </tr>\n",
       "  </thead>\n",
       "  <tbody>\n",
       "    <tr>\n",
       "      <th>0</th>\n",
       "      <td>0.969434</td>\n",
       "      <td>0.96</td>\n",
       "      <td>0.979592</td>\n",
       "      <td>0.969697</td>\n",
       "      <td>0.969434</td>\n",
       "    </tr>\n",
       "  </tbody>\n",
       "</table>\n",
       "</div>"
      ],
      "text/plain": [
       "   Accuracy  Precision    Recall        F1    ROCAUC\n",
       "0  0.969434       0.96  0.979592  0.969697  0.969434"
      ]
     },
     "execution_count": 301,
     "metadata": {},
     "output_type": "execute_result"
    }
   ],
   "source": [
    "# Summarised results\n",
    "mod3_results = metric_results(y_val,y_pred_class)\n",
    "mod3_results"
   ]
  },
  {
   "cell_type": "markdown",
   "id": "eac11f41",
   "metadata": {},
   "source": [
    "## Sentiment Model 4"
   ]
  },
  {
   "cell_type": "code",
   "execution_count": 302,
   "id": "1b025ca2",
   "metadata": {},
   "outputs": [
    {
     "name": "stdout",
     "output_type": "stream",
     "text": [
      "Model: \"sequential_97\"\n",
      "_________________________________________________________________\n",
      "Layer (type)                 Output Shape              Param #   \n",
      "=================================================================\n",
      "embedding_97 (Embedding)     (None, 20, 16)            96000     \n",
      "_________________________________________________________________\n",
      "flatten_97 (Flatten)         (None, 320)               0         \n",
      "_________________________________________________________________\n",
      "dense_152 (Dense)            (None, 128)               41088     \n",
      "_________________________________________________________________\n",
      "dropout_51 (Dropout)         (None, 128)               0         \n",
      "_________________________________________________________________\n",
      "dense_153 (Dense)            (None, 128)               16512     \n",
      "_________________________________________________________________\n",
      "dropout_52 (Dropout)         (None, 128)               0         \n",
      "_________________________________________________________________\n",
      "dense_154 (Dense)            (None, 1)                 129       \n",
      "=================================================================\n",
      "Total params: 153,729\n",
      "Trainable params: 153,729\n",
      "Non-trainable params: 0\n",
      "_________________________________________________________________\n",
      "None\n"
     ]
    }
   ],
   "source": [
    "# Dense model with 2 hidden dense layers and dropout on each\n",
    "model4 = Sequential()\n",
    "model4.add(Embedding(input_dim = input_dim, output_dim = output_dim, input_length=input_length))\n",
    "model4.add(Flatten())\n",
    "model4.add(Dense(128, activation='relu'))\n",
    "model4.add(Dropout(rate=0.5))\n",
    "model4.add(Dense(128, activation='relu'))\n",
    "model4.add(Dropout(rate = 0.5))\n",
    "model4.add(Dense(1, activation='sigmoid')) \n",
    "model4.compile(optimizer='adam', loss='binary_crossentropy', metrics=['accuracy'])\n",
    "print(model4.summary())"
   ]
  },
  {
   "cell_type": "code",
   "execution_count": 303,
   "id": "89702333",
   "metadata": {},
   "outputs": [],
   "source": [
    "output_dir = 'model_output/SentimentModels4'\n",
    "if not os.path.exists(output_dir):\n",
    "    os.makedirs(output_dir)\n",
    "\n",
    "modelcheckpoint = ModelCheckpoint(filepath=output_dir+\"/weights.{epoch:02d}.hdf5\")\n",
    "\n",
    "callbacks = [EarlyStopping(monitor = \"val_loss\", patience = 5),modelcheckpoint]"
   ]
  },
  {
   "cell_type": "code",
   "execution_count": 304,
   "id": "335f1c02",
   "metadata": {},
   "outputs": [
    {
     "name": "stdout",
     "output_type": "stream",
     "text": [
      "Epoch 1/50\n",
      "883/883 - 1s - loss: 0.2742 - accuracy: 0.8603 - val_loss: 0.1055 - val_accuracy: 0.9547\n",
      "Epoch 2/50\n",
      "883/883 - 1s - loss: 0.0354 - accuracy: 0.9891 - val_loss: 0.1039 - val_accuracy: 0.9626\n",
      "Epoch 3/50\n",
      "883/883 - 1s - loss: 0.0081 - accuracy: 0.9977 - val_loss: 0.0992 - val_accuracy: 0.9683\n",
      "Epoch 4/50\n",
      "883/883 - 1s - loss: 0.0014 - accuracy: 0.9999 - val_loss: 0.1233 - val_accuracy: 0.9649\n",
      "Epoch 5/50\n",
      "883/883 - 1s - loss: 7.3307e-04 - accuracy: 0.9997 - val_loss: 0.1652 - val_accuracy: 0.9672\n",
      "Epoch 6/50\n",
      "883/883 - 1s - loss: 0.0022 - accuracy: 0.9994 - val_loss: 0.1532 - val_accuracy: 0.9694\n",
      "Epoch 7/50\n",
      "883/883 - 1s - loss: 0.0023 - accuracy: 0.9989 - val_loss: 0.1792 - val_accuracy: 0.9672\n",
      "Epoch 8/50\n",
      "883/883 - 1s - loss: 9.5266e-04 - accuracy: 0.9999 - val_loss: 0.1614 - val_accuracy: 0.9694\n"
     ]
    }
   ],
   "source": [
    "# Model using keras embeddings\n",
    "history = model4.fit(X_train_w, y_train,\n",
    "                    epochs=epochs,\n",
    "                    verbose=2,\n",
    "                    callbacks = callbacks,\n",
    "                    validation_data=(X_val_w, y_val),\n",
    "                    batch_size=batch_size)"
   ]
  },
  {
   "cell_type": "code",
   "execution_count": 305,
   "id": "f50625ec",
   "metadata": {},
   "outputs": [
    {
     "name": "stdout",
     "output_type": "stream",
     "text": [
      "Training Accuracy: 1.0000\n",
      "Testing Accuracy:  0.9694\n"
     ]
    }
   ],
   "source": [
    "# Print training and test accuracies\n",
    "loss, accuracy = model4.evaluate(X_train_w, y_train, verbose=False)\n",
    "print(\"Training Accuracy: {:.4f}\".format(accuracy))\n",
    "loss, accuracy = model4.evaluate(X_val_w, y_val, verbose=False)\n",
    "print(\"Testing Accuracy:  {:.4f}\".format(accuracy))"
   ]
  },
  {
   "cell_type": "code",
   "execution_count": 306,
   "id": "d9897fe5",
   "metadata": {},
   "outputs": [
    {
     "data": {
      "image/png": "[encoded data removed]",
      "text/plain": [
       "<Figure size 864x360 with 2 Axes>"
      ]
     },
     "metadata": {},
     "output_type": "display_data"
    }
   ],
   "source": [
    "plot_history(history)"
   ]
  },
  {
   "cell_type": "code",
   "execution_count": 308,
   "id": "5bd799d9",
   "metadata": {},
   "outputs": [],
   "source": [
    "# Load model weights from epoch with best validation accuracy\n",
    "model4.load_weights(output_dir+\"/weights.06.hdf5\")"
   ]
  },
  {
   "cell_type": "code",
   "execution_count": 309,
   "id": "8f9ce6ff",
   "metadata": {},
   "outputs": [],
   "source": [
    "# Get predicted y values and predicted classes\n",
    "y_pred_prob = model4.predict(X_val_w)\n",
    "y_pred_class = (model4.predict(X_val_w) > 0.5).astype(\"int32\")"
   ]
  },
  {
   "cell_type": "code",
   "execution_count": 310,
   "id": "7a60b915",
   "metadata": {},
   "outputs": [
    {
     "data": {
      "text/html": [
       "<div>\n",
       "<style scoped>\n",
       "    .dataframe tbody tr th:only-of-type {\n",
       "        vertical-align: middle;\n",
       "    }\n",
       "\n",
       "    .dataframe tbody tr th {\n",
       "        vertical-align: top;\n",
       "    }\n",
       "\n",
       "    .dataframe thead th {\n",
       "        text-align: right;\n",
       "    }\n",
       "</style>\n",
       "<table border=\"1\" class=\"dataframe\">\n",
       "  <thead>\n",
       "    <tr style=\"text-align: right;\">\n",
       "      <th></th>\n",
       "      <th>y_prob</th>\n",
       "      <th>y_pred_class</th>\n",
       "      <th>y</th>\n",
       "    </tr>\n",
       "  </thead>\n",
       "  <tbody>\n",
       "    <tr>\n",
       "      <th>0</th>\n",
       "      <td>[1.0]</td>\n",
       "      <td>[1]</td>\n",
       "      <td>1</td>\n",
       "    </tr>\n",
       "    <tr>\n",
       "      <th>1</th>\n",
       "      <td>[0.9999844]</td>\n",
       "      <td>[1]</td>\n",
       "      <td>1</td>\n",
       "    </tr>\n",
       "    <tr>\n",
       "      <th>2</th>\n",
       "      <td>[7.822337e-05]</td>\n",
       "      <td>[0]</td>\n",
       "      <td>0</td>\n",
       "    </tr>\n",
       "    <tr>\n",
       "      <th>3</th>\n",
       "      <td>[3.316e-11]</td>\n",
       "      <td>[0]</td>\n",
       "      <td>0</td>\n",
       "    </tr>\n",
       "    <tr>\n",
       "      <th>4</th>\n",
       "      <td>[1.0]</td>\n",
       "      <td>[1]</td>\n",
       "      <td>1</td>\n",
       "    </tr>\n",
       "  </tbody>\n",
       "</table>\n",
       "</div>"
      ],
      "text/plain": [
       "           y_prob y_pred_class  y\n",
       "0           [1.0]          [1]  1\n",
       "1     [0.9999844]          [1]  1\n",
       "2  [7.822337e-05]          [0]  0\n",
       "3     [3.316e-11]          [0]  0\n",
       "4           [1.0]          [1]  1"
      ]
     },
     "execution_count": 310,
     "metadata": {},
     "output_type": "execute_result"
    }
   ],
   "source": [
    "# Create dataframe with y pred probabilities, classes and y actual\n",
    "ydf = pd.DataFrame(list(zip(y_pred_prob, y_pred_class,y_val,)), columns=['y_prob','y_pred_class', 'y'])\n",
    "ydf.head()"
   ]
  },
  {
   "cell_type": "code",
   "execution_count": 311,
   "id": "b3aa26f5",
   "metadata": {},
   "outputs": [
    {
     "data": {
      "image/png": "[encoded data removed]",
      "text/plain": [
       "<Figure size 432x288 with 1 Axes>"
      ]
     },
     "metadata": {},
     "output_type": "display_data"
    }
   ],
   "source": [
    "# Graph to show distribution of probabilities produced by the model\n",
    "plt.hist(y_pred_prob)\n",
    "_ = plt.axvline(x=0.5, color='blue')"
   ]
  },
  {
   "cell_type": "code",
   "execution_count": 312,
   "id": "925e1c10",
   "metadata": {},
   "outputs": [
    {
     "name": "stdout",
     "output_type": "stream",
     "text": [
      "              precision    recall  f1-score   support\n",
      "\n",
      "           0       0.97      0.96      0.97       442\n",
      "           1       0.96      0.98      0.97       441\n",
      "\n",
      "    accuracy                           0.97       883\n",
      "   macro avg       0.97      0.97      0.97       883\n",
      "weighted avg       0.97      0.97      0.97       883\n",
      "\n"
     ]
    },
    {
     "data": {
      "image/png": "[encoded data removed]",
      "text/plain": [
       "<Figure size 432x288 with 2 Axes>"
      ]
     },
     "metadata": {},
     "output_type": "display_data"
    }
   ],
   "source": [
    "# Print metrics\n",
    "class_conf(y_val,y_pred_class)"
   ]
  },
  {
   "cell_type": "code",
   "execution_count": 313,
   "id": "dff5ce3b",
   "metadata": {},
   "outputs": [
    {
     "data": {
      "text/html": [
       "<div>\n",
       "<style scoped>\n",
       "    .dataframe tbody tr th:only-of-type {\n",
       "        vertical-align: middle;\n",
       "    }\n",
       "\n",
       "    .dataframe tbody tr th {\n",
       "        vertical-align: top;\n",
       "    }\n",
       "\n",
       "    .dataframe thead th {\n",
       "        text-align: right;\n",
       "    }\n",
       "</style>\n",
       "<table border=\"1\" class=\"dataframe\">\n",
       "  <thead>\n",
       "    <tr style=\"text-align: right;\">\n",
       "      <th></th>\n",
       "      <th>Accuracy</th>\n",
       "      <th>Precision</th>\n",
       "      <th>Recall</th>\n",
       "      <th>F1</th>\n",
       "      <th>ROCAUC</th>\n",
       "    </tr>\n",
       "  </thead>\n",
       "  <tbody>\n",
       "    <tr>\n",
       "      <th>0</th>\n",
       "      <td>0.969429</td>\n",
       "      <td>0.964126</td>\n",
       "      <td>0.975057</td>\n",
       "      <td>0.96956</td>\n",
       "      <td>0.969429</td>\n",
       "    </tr>\n",
       "  </tbody>\n",
       "</table>\n",
       "</div>"
      ],
      "text/plain": [
       "   Accuracy  Precision    Recall       F1    ROCAUC\n",
       "0  0.969429   0.964126  0.975057  0.96956  0.969429"
      ]
     },
     "execution_count": 313,
     "metadata": {},
     "output_type": "execute_result"
    }
   ],
   "source": [
    "# Summarised results\n",
    "mod4_results = metric_results(y_val,y_pred_class)\n",
    "mod4_results"
   ]
  },
  {
   "cell_type": "markdown",
   "id": "a97fa68d",
   "metadata": {},
   "source": [
    "##  Sentiment Model 5"
   ]
  },
  {
   "cell_type": "code",
   "execution_count": 314,
   "id": "1b236367",
   "metadata": {},
   "outputs": [
    {
     "name": "stdout",
     "output_type": "stream",
     "text": [
      "Model: \"sequential_98\"\n",
      "_________________________________________________________________\n",
      "Layer (type)                 Output Shape              Param #   \n",
      "=================================================================\n",
      "embedding_98 (Embedding)     (None, 20, 16)            96000     \n",
      "_________________________________________________________________\n",
      "flatten_98 (Flatten)         (None, 320)               0         \n",
      "_________________________________________________________________\n",
      "dense_155 (Dense)            (None, 512)               164352    \n",
      "_________________________________________________________________\n",
      "dropout_53 (Dropout)         (None, 512)               0         \n",
      "_________________________________________________________________\n",
      "dense_156 (Dense)            (None, 256)               131328    \n",
      "_________________________________________________________________\n",
      "dropout_54 (Dropout)         (None, 256)               0         \n",
      "_________________________________________________________________\n",
      "dense_157 (Dense)            (None, 128)               32896     \n",
      "_________________________________________________________________\n",
      "dense_158 (Dense)            (None, 1)                 129       \n",
      "=================================================================\n",
      "Total params: 424,705\n",
      "Trainable params: 424,705\n",
      "Non-trainable params: 0\n",
      "_________________________________________________________________\n",
      "None\n"
     ]
    }
   ],
   "source": [
    "# Dense model with 2 hidden dense layers and dropout on each\n",
    "model5 = Sequential()\n",
    "model5.add(Embedding(input_dim = input_dim, output_dim = output_dim, input_length=input_length))\n",
    "model5.add(Flatten())\n",
    "model5.add(Dense(512, activation='relu'))\n",
    "model5.add(Dropout(rate=0.5))\n",
    "model5.add(Dense(256, activation='relu'))\n",
    "model5.add(Dropout(rate = 0.5))\n",
    "model5.add(Dense(128,activation = 'relu'))\n",
    "model5.add(Dense(1, activation='sigmoid')) \n",
    "model5.compile(optimizer='adam', loss='binary_crossentropy', metrics=['accuracy'])\n",
    "print(model5.summary())"
   ]
  },
  {
   "cell_type": "code",
   "execution_count": 315,
   "id": "ce74cd46",
   "metadata": {},
   "outputs": [],
   "source": [
    "output_dir = 'model_output/SentimentModels5'\n",
    "if not os.path.exists(output_dir):\n",
    "    os.makedirs(output_dir)\n",
    "\n",
    "modelcheckpoint = ModelCheckpoint(filepath=output_dir+\"/weights.{epoch:02d}.hdf5\")\n",
    "\n",
    "callbacks = [EarlyStopping(monitor = \"val_loss\", patience = 5),modelcheckpoint]"
   ]
  },
  {
   "cell_type": "code",
   "execution_count": 316,
   "id": "bb881d82",
   "metadata": {},
   "outputs": [
    {
     "name": "stdout",
     "output_type": "stream",
     "text": [
      "Epoch 1/50\n",
      "883/883 - 1s - loss: 0.2378 - accuracy: 0.8808 - val_loss: 0.1045 - val_accuracy: 0.9581\n",
      "Epoch 2/50\n",
      "883/883 - 1s - loss: 0.0321 - accuracy: 0.9899 - val_loss: 0.1248 - val_accuracy: 0.9638\n",
      "Epoch 3/50\n",
      "883/883 - 1s - loss: 0.0065 - accuracy: 0.9976 - val_loss: 0.2038 - val_accuracy: 0.9660\n",
      "Epoch 4/50\n",
      "883/883 - 1s - loss: 0.0073 - accuracy: 0.9980 - val_loss: 0.2351 - val_accuracy: 0.9649\n",
      "Epoch 5/50\n",
      "883/883 - 1s - loss: 0.0049 - accuracy: 0.9990 - val_loss: 0.1623 - val_accuracy: 0.9626\n",
      "Epoch 6/50\n",
      "883/883 - 1s - loss: 0.0063 - accuracy: 0.9982 - val_loss: 0.2378 - val_accuracy: 0.9615\n"
     ]
    }
   ],
   "source": [
    "# Model using keras embeddings\n",
    "history = model5.fit(X_train_w, y_train,\n",
    "                    epochs=epochs,\n",
    "                    verbose=2,\n",
    "                    callbacks = callbacks,\n",
    "                    validation_data=(X_val_w, y_val),\n",
    "                    batch_size=batch_size)"
   ]
  },
  {
   "cell_type": "code",
   "execution_count": 317,
   "id": "c64d75bd",
   "metadata": {},
   "outputs": [
    {
     "name": "stdout",
     "output_type": "stream",
     "text": [
      "Training Accuracy: 0.9989\n",
      "Testing Accuracy:  0.9615\n"
     ]
    }
   ],
   "source": [
    "# Print training and test accuracies\n",
    "loss, accuracy = model5.evaluate(X_train_w, y_train, verbose=False)\n",
    "print(\"Training Accuracy: {:.4f}\".format(accuracy))\n",
    "loss, accuracy = model5.evaluate(X_val_w, y_val, verbose=False)\n",
    "print(\"Testing Accuracy:  {:.4f}\".format(accuracy))"
   ]
  },
  {
   "cell_type": "code",
   "execution_count": 318,
   "id": "3027a7bd",
   "metadata": {},
   "outputs": [
    {
     "data": {
      "image/png": "[encoded data removed]",
      "text/plain": [
       "<Figure size 864x360 with 2 Axes>"
      ]
     },
     "metadata": {},
     "output_type": "display_data"
    }
   ],
   "source": [
    "plot_history(history)"
   ]
  },
  {
   "cell_type": "code",
   "execution_count": 319,
   "id": "69b11d1d",
   "metadata": {},
   "outputs": [],
   "source": [
    "# Load model weights from epoch with best validation accuracy\n",
    "model5.load_weights(output_dir+\"/weights.03.hdf5\")"
   ]
  },
  {
   "cell_type": "code",
   "execution_count": 320,
   "id": "85424fa4",
   "metadata": {},
   "outputs": [],
   "source": [
    "# Get predicted y values and predicted classes\n",
    "y_pred_prob = model5.predict(X_val_w)\n",
    "y_pred_class = (model5.predict(X_val_w) > 0.5).astype(\"int32\")"
   ]
  },
  {
   "cell_type": "code",
   "execution_count": 321,
   "id": "32bf8de8",
   "metadata": {},
   "outputs": [
    {
     "data": {
      "text/html": [
       "<div>\n",
       "<style scoped>\n",
       "    .dataframe tbody tr th:only-of-type {\n",
       "        vertical-align: middle;\n",
       "    }\n",
       "\n",
       "    .dataframe tbody tr th {\n",
       "        vertical-align: top;\n",
       "    }\n",
       "\n",
       "    .dataframe thead th {\n",
       "        text-align: right;\n",
       "    }\n",
       "</style>\n",
       "<table border=\"1\" class=\"dataframe\">\n",
       "  <thead>\n",
       "    <tr style=\"text-align: right;\">\n",
       "      <th></th>\n",
       "      <th>y_prob</th>\n",
       "      <th>y_pred_class</th>\n",
       "      <th>y</th>\n",
       "    </tr>\n",
       "  </thead>\n",
       "  <tbody>\n",
       "    <tr>\n",
       "      <th>0</th>\n",
       "      <td>[1.0]</td>\n",
       "      <td>[1]</td>\n",
       "      <td>1</td>\n",
       "    </tr>\n",
       "    <tr>\n",
       "      <th>1</th>\n",
       "      <td>[0.99999964]</td>\n",
       "      <td>[1]</td>\n",
       "      <td>1</td>\n",
       "    </tr>\n",
       "    <tr>\n",
       "      <th>2</th>\n",
       "      <td>[2.7759104e-06]</td>\n",
       "      <td>[0]</td>\n",
       "      <td>0</td>\n",
       "    </tr>\n",
       "    <tr>\n",
       "      <th>3</th>\n",
       "      <td>[1.6370834e-11]</td>\n",
       "      <td>[0]</td>\n",
       "      <td>0</td>\n",
       "    </tr>\n",
       "    <tr>\n",
       "      <th>4</th>\n",
       "      <td>[1.0]</td>\n",
       "      <td>[1]</td>\n",
       "      <td>1</td>\n",
       "    </tr>\n",
       "  </tbody>\n",
       "</table>\n",
       "</div>"
      ],
      "text/plain": [
       "            y_prob y_pred_class  y\n",
       "0            [1.0]          [1]  1\n",
       "1     [0.99999964]          [1]  1\n",
       "2  [2.7759104e-06]          [0]  0\n",
       "3  [1.6370834e-11]          [0]  0\n",
       "4            [1.0]          [1]  1"
      ]
     },
     "execution_count": 321,
     "metadata": {},
     "output_type": "execute_result"
    }
   ],
   "source": [
    "# Create dataframe with y pred probabilities, classes and y actual\n",
    "ydf = pd.DataFrame(list(zip(y_pred_prob, y_pred_class,y_val,)), columns=['y_prob','y_pred_class', 'y'])\n",
    "ydf.head()"
   ]
  },
  {
   "cell_type": "code",
   "execution_count": 322,
   "id": "0e9013e3",
   "metadata": {},
   "outputs": [
    {
     "data": {
      "image/png": "[encoded data removed]",
      "text/plain": [
       "<Figure size 432x288 with 1 Axes>"
      ]
     },
     "metadata": {},
     "output_type": "display_data"
    }
   ],
   "source": [
    "# Graph to show distribution of probabilities produced by the model\n",
    "plt.hist(y_pred_prob)\n",
    "_ = plt.axvline(x=0.5, color='blue')"
   ]
  },
  {
   "cell_type": "code",
   "execution_count": 323,
   "id": "dca08f57",
   "metadata": {},
   "outputs": [
    {
     "name": "stdout",
     "output_type": "stream",
     "text": [
      "              precision    recall  f1-score   support\n",
      "\n",
      "           0       0.98      0.95      0.97       442\n",
      "           1       0.96      0.98      0.97       441\n",
      "\n",
      "    accuracy                           0.97       883\n",
      "   macro avg       0.97      0.97      0.97       883\n",
      "weighted avg       0.97      0.97      0.97       883\n",
      "\n"
     ]
    },
    {
     "data": {
      "image/png": "[encoded data removed]",
      "text/plain": [
       "<Figure size 432x288 with 2 Axes>"
      ]
     },
     "metadata": {},
     "output_type": "display_data"
    }
   ],
   "source": [
    "# Print metrics\n",
    "class_conf(y_val,y_pred_class)"
   ]
  },
  {
   "cell_type": "code",
   "execution_count": 324,
   "id": "196aa465",
   "metadata": {},
   "outputs": [
    {
     "data": {
      "text/html": [
       "<div>\n",
       "<style scoped>\n",
       "    .dataframe tbody tr th:only-of-type {\n",
       "        vertical-align: middle;\n",
       "    }\n",
       "\n",
       "    .dataframe tbody tr th {\n",
       "        vertical-align: top;\n",
       "    }\n",
       "\n",
       "    .dataframe thead th {\n",
       "        text-align: right;\n",
       "    }\n",
       "</style>\n",
       "<table border=\"1\" class=\"dataframe\">\n",
       "  <thead>\n",
       "    <tr style=\"text-align: right;\">\n",
       "      <th></th>\n",
       "      <th>Accuracy</th>\n",
       "      <th>Precision</th>\n",
       "      <th>Recall</th>\n",
       "      <th>F1</th>\n",
       "      <th>ROCAUC</th>\n",
       "    </tr>\n",
       "  </thead>\n",
       "  <tbody>\n",
       "    <tr>\n",
       "      <th>0</th>\n",
       "      <td>0.966038</td>\n",
       "      <td>0.955654</td>\n",
       "      <td>0.977324</td>\n",
       "      <td>0.966368</td>\n",
       "      <td>0.966038</td>\n",
       "    </tr>\n",
       "  </tbody>\n",
       "</table>\n",
       "</div>"
      ],
      "text/plain": [
       "   Accuracy  Precision    Recall        F1    ROCAUC\n",
       "0  0.966038   0.955654  0.977324  0.966368  0.966038"
      ]
     },
     "execution_count": 324,
     "metadata": {},
     "output_type": "execute_result"
    }
   ],
   "source": [
    "# Summarised results\n",
    "mod5_results = metric_results(y_val,y_pred_class)\n",
    "mod5_results"
   ]
  },
  {
   "cell_type": "markdown",
   "id": "1fa88d69",
   "metadata": {},
   "source": [
    "# Section 4: Summary of results"
   ]
  },
  {
   "cell_type": "code",
   "execution_count": 325,
   "id": "ac9417e5",
   "metadata": {},
   "outputs": [
    {
     "data": {
      "text/html": [
       "<div>\n",
       "<style scoped>\n",
       "    .dataframe tbody tr th:only-of-type {\n",
       "        vertical-align: middle;\n",
       "    }\n",
       "\n",
       "    .dataframe tbody tr th {\n",
       "        vertical-align: top;\n",
       "    }\n",
       "\n",
       "    .dataframe thead th {\n",
       "        text-align: right;\n",
       "    }\n",
       "</style>\n",
       "<table border=\"1\" class=\"dataframe\">\n",
       "  <thead>\n",
       "    <tr style=\"text-align: right;\">\n",
       "      <th></th>\n",
       "      <th>Accuracy</th>\n",
       "      <th>Precision</th>\n",
       "      <th>Recall</th>\n",
       "      <th>F1</th>\n",
       "      <th>ROCAUC</th>\n",
       "    </tr>\n",
       "  </thead>\n",
       "  <tbody>\n",
       "    <tr>\n",
       "      <th>Model1</th>\n",
       "      <td>0.969436</td>\n",
       "      <td>0.957965</td>\n",
       "      <td>0.981859</td>\n",
       "      <td>0.969765</td>\n",
       "      <td>0.969436</td>\n",
       "    </tr>\n",
       "    <tr>\n",
       "      <th>Model3</th>\n",
       "      <td>0.969434</td>\n",
       "      <td>0.960000</td>\n",
       "      <td>0.979592</td>\n",
       "      <td>0.969697</td>\n",
       "      <td>0.969434</td>\n",
       "    </tr>\n",
       "    <tr>\n",
       "      <th>Model4</th>\n",
       "      <td>0.969429</td>\n",
       "      <td>0.964126</td>\n",
       "      <td>0.975057</td>\n",
       "      <td>0.969560</td>\n",
       "      <td>0.969429</td>\n",
       "    </tr>\n",
       "    <tr>\n",
       "      <th>Model2</th>\n",
       "      <td>0.969424</td>\n",
       "      <td>0.968326</td>\n",
       "      <td>0.970522</td>\n",
       "      <td>0.969422</td>\n",
       "      <td>0.969424</td>\n",
       "    </tr>\n",
       "    <tr>\n",
       "      <th>Model5</th>\n",
       "      <td>0.966038</td>\n",
       "      <td>0.955654</td>\n",
       "      <td>0.977324</td>\n",
       "      <td>0.966368</td>\n",
       "      <td>0.966038</td>\n",
       "    </tr>\n",
       "  </tbody>\n",
       "</table>\n",
       "</div>"
      ],
      "text/plain": [
       "        Accuracy  Precision    Recall        F1    ROCAUC\n",
       "Model1  0.969436   0.957965  0.981859  0.969765  0.969436\n",
       "Model3  0.969434   0.960000  0.979592  0.969697  0.969434\n",
       "Model4  0.969429   0.964126  0.975057  0.969560  0.969429\n",
       "Model2  0.969424   0.968326  0.970522  0.969422  0.969424\n",
       "Model5  0.966038   0.955654  0.977324  0.966368  0.966038"
      ]
     },
     "execution_count": 325,
     "metadata": {},
     "output_type": "execute_result"
    }
   ],
   "source": [
    "models = [\"Model1\",\"Model2\",\"Model3\",\"Model4\",\"Model5\"]\n",
    "summary_table = pd.concat([mod1_results,mod2_results,mod3_results,mod4_results,mod5_results])\n",
    "summary_table.set_index([models],inplace = True)\n",
    "summary_table.to_csv(\"results_sentiment.csv\")\n",
    "summary_table.sort_values(by = \"Accuracy\",ascending = False)"
   ]
  },
  {
   "cell_type": "markdown",
   "id": "b99e70d4",
   "metadata": {},
   "source": [
    "No improvements from hyperparameter tuning"
   ]
  }
 ],
 "metadata": {
  "kernelspec": {
   "display_name": "Python 3",
   "language": "python",
   "name": "python3"
  },
  "language_info": {
   "codemirror_mode": {
    "name": "ipython",
    "version": 3
   },
   "file_extension": ".py",
   "mimetype": "text/x-python",
   "name": "python",
   "nbconvert_exporter": "python",
   "pygments_lexer": "ipython3",
   "version": "3.7.10"
  }
 },
 "nbformat": 4,
 "nbformat_minor": 5
}
