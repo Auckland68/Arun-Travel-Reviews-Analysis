{
 "cells": [
  {
   "cell_type": "markdown",
   "id": "3e19d6c7",
   "metadata": {},
   "source": [
    "# Notebook14 a) Combined Aspect Sentiment Model - Binary"
   ]
  },
  {
   "cell_type": "markdown",
   "id": "3483fbd2",
   "metadata": {},
   "source": [
    "This notebook brings together the best aspect models and the best sentiment model into one function, able to take in single raw reviews. This includes:\n",
    "\n",
    "* 3 multi-class aspect models\n",
    "* a binary sentiment model\n",
    "\n",
    "Current sample reviews taken from TripAdvisor for each category are used to test the model.\n",
    "\n",
    "* Section 1 - Import libraries\n",
    "* Section 2 - Import data and models\n",
    "* Section 3 - Functions\n",
    "* Section 4 - Testing the model\n",
    "\n",
    "\n",
    "\n",
    "Note:Notebook 14 b) repeats this model but takes account of neutral reviews. The results of Notebooks 14 a) and 14 b) are compared by using sample reviews of each category and assessing how well each performs. The best model is then run with another sample of raw text reviews and results examined in Notebook 15."
   ]
  },
  {
   "cell_type": "markdown",
   "id": "d9811613",
   "metadata": {},
   "source": [
    "# Section 1: Import libraries"
   ]
  },
  {
   "cell_type": "code",
   "execution_count": 221,
   "id": "fc48f8ed",
   "metadata": {},
   "outputs": [],
   "source": [
    "import pandas as pd\n",
    "import numpy as np\n",
    "import matplotlib.pyplot as plt\n",
    "from textblob import TextBlob\n",
    "from vaderSentiment.vaderSentiment import SentimentIntensityAnalyzer\n",
    "from sklearn.svm import LinearSVC\n",
    "import nltk\n",
    "from nltk.tokenize import word_tokenize\n",
    "from nltk.corpus import stopwords\n",
    "from nltk.stem import WordNetLemmatizer\n",
    "from sklearn import preprocessing\n",
    "from sklearn.utils import class_weight\n",
    "from keras.preprocessing.text import Tokenizer\n",
    "from keras.callbacks import EarlyStopping,ModelCheckpoint\n",
    "from keras.models import Sequential\n",
    "from keras.layers import Dense,Flatten,Embedding,Dropout\n",
    "import contractions\n",
    "import pickle\n",
    "import joblib\n",
    "import string\n",
    "import ast\n",
    "import os\n",
    "from spellchecker import SpellChecker\n",
    "from keras.models import Sequential\n",
    "from keras.preprocessing.sequence import pad_sequences\n",
    "from keras.models import load_model\n",
    "import warnings\n",
    "warnings.filterwarnings('ignore')\n",
    "from pandas import option_context"
   ]
  },
  {
   "cell_type": "markdown",
   "id": "78986ea7",
   "metadata": {},
   "source": [
    "# Section 2: Import data and models"
   ]
  },
  {
   "cell_type": "markdown",
   "id": "bcbf9282",
   "metadata": {},
   "source": [
    "### Import Test data"
   ]
  },
  {
   "cell_type": "code",
   "execution_count": 80,
   "id": "1d0d8621",
   "metadata": {},
   "outputs": [],
   "source": [
    "def open_tok(name):\n",
    "    with open(name, 'rb') as handle:\n",
    "        file = pickle.load(handle)\n",
    "        return file"
   ]
  },
  {
   "cell_type": "markdown",
   "id": "c6467573",
   "metadata": {},
   "source": [
    "### Import Tokenizers"
   ]
  },
  {
   "cell_type": "code",
   "execution_count": 306,
   "id": "a75c2247",
   "metadata": {},
   "outputs": [],
   "source": [
    "# Tokenzier objects (Aspects: Accom - Log Reg model, other 2 are NN models, Sentiment: SVM TFIDF Model)\n",
    "accom_tok = open_tok(\"accom_tok.pickle\") # Notebook 12a\n",
    "food_tok = open_tok(\"food_tokenizer.pickle\") # Notebook 12b\n",
    "attract_tok = open_tok(\"attract_tok.pickle\") # Notebook 12b\n",
    "sent_tok = open_tok(\"sent_tok.pickle\") # Notebook 13a"
   ]
  },
  {
   "cell_type": "markdown",
   "id": "c937bf33",
   "metadata": {},
   "source": [
    "### Import Models"
   ]
  },
  {
   "cell_type": "code",
   "execution_count": 305,
   "id": "c3ff419b",
   "metadata": {},
   "outputs": [],
   "source": [
    "# Aspect models \n",
    "model1 = joblib.load('best_model_accom.sav') # Logistic Regression TFIDF (Best Model) Notebook 12a\n",
    "model2 = load_model('best_model_food.h5') # Model 9 Notebook 12b\n",
    "model3 = load_model('best_model_attract.h5') # Model 7 Notebook 12b\n",
    "\n",
    "# Binary Sentiment model \n",
    "model4 = pickle.load(open('final_sentiment_model.sav', 'rb')) # SVM TFIDF Notebook 13a"
   ]
  },
  {
   "cell_type": "markdown",
   "id": "49014070",
   "metadata": {},
   "source": [
    "# Section 3: Functions"
   ]
  },
  {
   "cell_type": "markdown",
   "id": "36810f76",
   "metadata": {},
   "source": [
    "### Function 1 - Text Processing"
   ]
  },
  {
   "cell_type": "code",
   "execution_count": 83,
   "id": "0561e41f",
   "metadata": {},
   "outputs": [],
   "source": [
    "# Function to clean sentences\n",
    "\n",
    "def process(text):\n",
    "    if text != []:\n",
    "        text = text.replace('\\n',' ')\n",
    "        text = text.strip().lower()\n",
    "        text = text.replace('xmas','christmas')\n",
    "        text = text.replace('\\£',\"\") \n",
    "        text = text.replace(r'\\/',\" \") \n",
    "        text = text.replace('\\d+\\-\\d+',\"\") \n",
    "        text = text.replace('\\d+\\w{2}',\"\") \n",
    "        text = text.replace('\\.{3,}',\"\") \n",
    "        text = text.replace(' i ',\"\")\n",
    "        text = text.replace(' le ',\"\")\n",
    "        text = contractions.fix(text)\n",
    "        text = nltk.word_tokenize(text)\n",
    "        punc = string.punctuation\n",
    "        text = [word for word in text if word not in punc]\n",
    "        text = [n for n in text if not n.isnumeric()]\n",
    "        text = [e for e in text if e.encode(\"ascii\",\"ignore\")]\n",
    "        stop = stopwords.words(\"english\")\n",
    "        stop_remove = [\"not\",\"don't\",\"didn't\",\"wasn't\",\"won't\",\"isn't\"]\n",
    "        stop1 = [w for w in stop if w not in stop_remove]\n",
    "        add_stop = ['etc','read','read less','lot','butlins', 'bognor','regis','b',' i ','..','arundel castle','premier','inn','u',\n",
    "                    'castle',\"year\",\"hilton\",\"time\",\"day\",\"shoreline\",\"oyster\",\"bay\",\"church farm\",\"hotham\",\"hotham park\",\n",
    "                    \"hawk walk\",\"hawk\",\"arundel\",\"littlehampton\"]\n",
    "        stop1.extend(add_stop)\n",
    "        text = [w for w in text if w not in stop1]\n",
    "        lemmatizer = WordNetLemmatizer()\n",
    "        text = [lemmatizer.lemmatize(w) for w in text ]\n",
    "        spell = SpellChecker()\n",
    "        word_list = []\n",
    "        for w in text:\n",
    "            new = spell.correction(w)\n",
    "            if new != w:\n",
    "                word_list.append(new)\n",
    "            else:\n",
    "                word_list.append(w)\n",
    "            text = ' '.join(word_list) \n",
    "            \n",
    "                       \n",
    "    return text"
   ]
  },
  {
   "cell_type": "markdown",
   "id": "7e138af4",
   "metadata": {},
   "source": [
    "### Function 2 - Aspect Extraction"
   ]
  },
  {
   "cell_type": "code",
   "execution_count": 84,
   "id": "874539c1",
   "metadata": {},
   "outputs": [],
   "source": [
    "def extract(text):\n",
    "    text = word_tokenize(text)\n",
    "    text_pos = nltk.tag.pos_tag(text)\n",
    "    noun = [i[0] for i in text_pos if i[1].startswith('N')]\n",
    "    return noun"
   ]
  },
  {
   "cell_type": "markdown",
   "id": "11dc41d8",
   "metadata": {},
   "source": [
    "### Function 3 - Construct Dataframe"
   ]
  },
  {
   "cell_type": "code",
   "execution_count": 250,
   "id": "9f727245",
   "metadata": {},
   "outputs": [],
   "source": [
    "def construct(review_text):\n",
    "    sentences = pd.DataFrame(nltk.sent_tokenize(review_text),columns = [\"Sentences\"])\n",
    "    sentences[\"cleaned\"] = sentences[\"Sentences\"].apply(lambda x: process(x))\n",
    "    sentences = sentences[sentences.astype(str)['cleaned'] != '[]']\n",
    "    sentences[\"extract_noun_phrases\"] = sentences[\"cleaned\"].apply(phrase_extract)\n",
    "    sentences['extract_noun_phrases'] = np.where(sentences['extract_noun_phrases'].str.len() == 0, \n",
    "                                                 sentences['cleaned'], sentences['extract_noun_phrases'])\n",
    "    sentences[\"joined_phrases\"] = sentences[\"extract_noun_phrases\"].apply(lambda x: ' '.join(x) if type(x) != str else x)\n",
    "    sentences[\"extract_nouns\"] = sentences[\"cleaned\"].apply(extract)\n",
    "    sentences[\"joined_nouns\"] = sentences[\"extract_nouns\"].apply(lambda x: ' '.join(x))\n",
    "    sentences[\"joined_nouns\"] = sentences[\"joined_nouns\"].apply(lambda x: \"general\" if x == \"\" else x)\n",
    "    return sentences"
   ]
  },
  {
   "cell_type": "markdown",
   "id": "b1c8f47a",
   "metadata": {},
   "source": [
    "### Function 4 - Noun Phrase Extraction"
   ]
  },
  {
   "cell_type": "code",
   "execution_count": 86,
   "id": "52b5768e",
   "metadata": {},
   "outputs": [],
   "source": [
    "# Create function to extract noun phrases from a review using TextBlob\n",
    "def phrase_extract(text):\n",
    "    blob = TextBlob(text)\n",
    "    return blob.noun_phrases"
   ]
  },
  {
   "cell_type": "markdown",
   "id": "a747a818",
   "metadata": {},
   "source": [
    "### Function 5 - Encoding text "
   ]
  },
  {
   "cell_type": "code",
   "execution_count": 88,
   "id": "b904114e",
   "metadata": {},
   "outputs": [],
   "source": [
    "# To padded sequences for the food aspects\n",
    "def encode(nouns,tokenizer):\n",
    "    x_s = tokenizer.texts_to_sequences(noun)\n",
    "    x_w = pad_sequences(np.array(x_s, dtype = \"object\"), maxlen = 100,padding = \"post\", truncating = \"post\", value = 0.0)\n",
    "    return x_w"
   ]
  },
  {
   "cell_type": "code",
   "execution_count": 89,
   "id": "ae32b62a",
   "metadata": {},
   "outputs": [],
   "source": [
    "# To TFIDF vectorizer for all other category aspects and sentiment\n",
    "def encode2(text,vectorizer):\n",
    "    enc = vectorizer.transform(text)\n",
    "    return enc"
   ]
  },
  {
   "cell_type": "markdown",
   "id": "49e119c1",
   "metadata": {},
   "source": [
    "### Function 6 - Prediction"
   ]
  },
  {
   "cell_type": "code",
   "execution_count": 90,
   "id": "cc479c22",
   "metadata": {},
   "outputs": [],
   "source": [
    "# Machine learning model\n",
    "def predict1(model,X):\n",
    "    y_pred = model.predict(X)\n",
    "    return y_pred"
   ]
  },
  {
   "cell_type": "markdown",
   "id": "fa5082a6",
   "metadata": {},
   "source": [
    "### Function 7 - Sentiment"
   ]
  },
  {
   "cell_type": "code",
   "execution_count": 295,
   "id": "7b96ecdc",
   "metadata": {},
   "outputs": [],
   "source": [
    "def sent(df):\n",
    "    label_sent = {1:\"Negative\",0:\"Positive\"}\n",
    "    encoded_sent = encode2(df[\"joined_phrases\"],sent_tok)\n",
    "    sent_predict = pd.DataFrame(predict1(model4, encoded_sent),columns = [\"S\"])\n",
    "    sent_probs = model4.predict_proba(encoded_sent)[:,1]\n",
    "    sent_predict[\"Predicted Sentiment\"] = sent_predict[\"S\"].apply(lambda x: label_sent.get(x))\n",
    "    sentiment_summary = pd.concat([df[\"Sentences\"],sent_predict],axis = 1)\n",
    "    return sentiment_summary"
   ]
  },
  {
   "cell_type": "markdown",
   "id": "6004fcf6",
   "metadata": {},
   "source": [
    "### Function 8 - Scoring"
   ]
  },
  {
   "cell_type": "code",
   "execution_count": 146,
   "id": "728464bf",
   "metadata": {},
   "outputs": [],
   "source": [
    "def scoring(x):\n",
    "    if x == \"Positive\":\n",
    "        score = 1\n",
    "    else:\n",
    "        score = -1\n",
    "    return score"
   ]
  },
  {
   "cell_type": "markdown",
   "id": "55106527",
   "metadata": {},
   "source": [
    "### Function 9 - Percentages Positive and Negative"
   ]
  },
  {
   "cell_type": "code",
   "execution_count": 319,
   "id": "7630839d",
   "metadata": {},
   "outputs": [],
   "source": [
    "def aspect_all(df):\n",
    "    pos_df = df[df[\"Predicted Sentiment\"] == \"Positive\"]\n",
    "    neg_df = df[df[\"Predicted Sentiment\"] == \"Negative\"]\n",
    "    pos_df = pd.DataFrame(pos_df[\"Predicted Aspect\"].value_counts())\n",
    "    neg_df = pd.DataFrame(neg_df[\"Predicted Aspect\"].value_counts())\n",
    "    pos_df.columns = [\"Num Pos\"]\n",
    "    neg_df.columns = [\"Num Neg\"]\n",
    "    df_sent = pd.concat([pos_df,neg_df],axis = 1)\n",
    "    df_sent = df_sent.fillna(0)\n",
    "    df_sent[\"Total\"] = df_sent[\"Num Pos\"]+df_sent[\"Num Neg\"]\n",
    "    df_sent[\"%Pos\"] = round(df_sent[\"Num Pos\"]/(df_sent[\"Num Pos\"] + df_sent[\"Num Neg\"]),2)*100\n",
    "    df_sent[\"%Neg\"] = round(df_sent[\"Num Neg\"]/(df_sent[\"Num Pos\"] + df_sent[\"Num Neg\"]),2)*100\n",
    "    df_sent.sort_index(inplace = True)\n",
    "    return df_sent"
   ]
  },
  {
   "cell_type": "markdown",
   "id": "4940782f",
   "metadata": {},
   "source": [
    "### Function 10 - Chart"
   ]
  },
  {
   "cell_type": "code",
   "execution_count": 322,
   "id": "9e7614ac",
   "metadata": {},
   "outputs": [],
   "source": [
    "def graph_sentiment_numbers(df):\n",
    "    \n",
    "    labels = list(df.index)\n",
    "    pos = list(df[\"%Pos\"])\n",
    "    neg = list(df[\"%Neg\"]*-1)\n",
    "\n",
    "    x = np.arange(len(labels))  # the label locations\n",
    "    width = 0.35  # the width of the bars\n",
    "\n",
    "    fig, ax = plt.subplots(figsize = (8,6))\n",
    "    ax.bar(x - width/2, pos, width, label='Pos',color = \"lightsteelblue\")\n",
    "    ax.bar(x + width/2, neg, width, label='Neg',color = \"slategrey\")\n",
    "\n",
    "    # Add some text for labels, title and custom x-axis tick labels, etc.\n",
    "    ax.set_title(\"Review - Positive and Negative Aspects\",pad = 20, fontsize = 15)\n",
    "    ax.set_xticks(x)\n",
    "    ax.set_xticklabels(labels)\n",
    "    ax.set_ylabel(\"%\")\n",
    "    ax.spines['right'].set_visible(False)\n",
    "    ax.spines['top'].set_visible(False)\n",
    "    ax.legend(frameon = False, loc = \"best\")\n",
    "    \n",
    "\n",
    "    fig.tight_layout()\n",
    "\n",
    "    plt.show()"
   ]
  },
  {
   "cell_type": "markdown",
   "id": "72bd2e40",
   "metadata": {},
   "source": [
    "### Function 11 - Combined"
   ]
  },
  {
   "cell_type": "code",
   "execution_count": 323,
   "id": "dddca167",
   "metadata": {},
   "outputs": [],
   "source": [
    "# Run initial function\n",
    "def review_analyser(review,category):\n",
    "    \n",
    "    # Labels\n",
    "    label_accom = {0:'Entertainment',1:'Food',2:'Hotel',3:'Location',4:'Room',5:'Staff',6:'Value'}\n",
    "    label_food = {0:\"Food Quality\",1:\"Meal Exp\",2:\"Menu Choice\",3:\"Staff\",4:\"Value\",5:\"Visit Exp\"}\n",
    "    label_attract = {0:\"Activities\",1:\"Amenities\",2:\"History\",3:\"Nature\",4:\"Staff/Service\",5:\"Value\",6:\"Visit Exp\"}\n",
    "    label_sent = {0:\"Positive\",1:\"Negative\"}\n",
    "        \n",
    "       \n",
    "    # Models with weights\n",
    "    accom = model1\n",
    "    food = model2\n",
    "    attract = model3\n",
    "    sentiment = model4\n",
    "    \n",
    "    # Split review into sentences, extract noun_phrases and nouns and clean. Where extracted noun_phrases is an empty list\n",
    "    # the cleaned column is inserted instead.\n",
    "    sentences = construct(review)\n",
    "    \n",
    "    # Predict aspects (Deep Learning Model)\n",
    "    if category == \"food\":\n",
    "        s = food_tok.texts_to_sequences(sentences[\"joined_nouns\"])\n",
    "        w = pad_sequences(np.array(s, dtype = \"object\"), maxlen = 100,padding = \"post\", truncating = \"post\", value = 0.0)\n",
    "        predict = predict1(model2,w)\n",
    "        y_pred_class = np.argmax(model2.predict(w), axis=-1)\n",
    "        y_pred_class = pd.DataFrame(y_pred_class, columns = [\"A\"])\n",
    "        y_pred_class[\"Predicted Aspect\"] = y_pred_class[\"A\"].apply(lambda x: label_food.get(x))\n",
    "        \n",
    "        # Predict sentiment (TFIDF)\n",
    "        sentiment_summary = sent(sentences) \n",
    "                       \n",
    "    # Predict aspects (TFIDF SVM Model)\n",
    "    elif category == \"accommodation\":\n",
    "        encoded = accom_tok.transform(sentences[\"joined_nouns\"])\n",
    "        predict = predict1(model1,encoded)  \n",
    "        y_pred_class = pd.DataFrame(predict, columns = [\"A\"])\n",
    "        y_pred_class[\"Predicted Aspect\"] = y_pred_class[\"A\"].apply(lambda x: label_accom.get(x))\n",
    "        \n",
    "        # Predict sentiment (TFIDF)\n",
    "        sentiment_summary = sent(sentences)\n",
    "                        \n",
    "    else: # attractions\n",
    "        s = attract_tok.texts_to_sequences(sentences[\"joined_nouns\"])\n",
    "        w = pad_sequences(np.array(s, dtype = \"object\"), maxlen = 100,padding = \"post\", truncating = \"post\", value = 0.0)\n",
    "        predict = predict1(model3,w)\n",
    "        y_pred_class = np.argmax(model3.predict(w), axis=-1)\n",
    "        y_pred_class = pd.DataFrame(y_pred_class, columns = [\"A\"])\n",
    "        y_pred_class[\"Predicted Aspect\"] = y_pred_class[\"A\"].apply(lambda x: label_attract.get(x))  \n",
    "        \n",
    "        # Predict sentiment (TFIDF)\n",
    "        sentiment_summary = sent(sentences)\n",
    "                        \n",
    "    aspect_sentiment = pd.concat([y_pred_class,sentiment_summary],axis = 1) \n",
    "    aspect_sentiment[\"Score\"] = aspect_sentiment[\"Predicted Sentiment\"].apply(lambda x: scoring(x))\n",
    "    pos_neg = aspect_sentiment[aspect_sentiment[\"Predicted Sentiment\"] != \"Neutral\"]\n",
    "    sent_percent = aspect_all(pos_neg)\n",
    "    graph_sentiment_numbers(sent_percent)\n",
    "    \n",
    "        "
   ]
  },
  {
   "cell_type": "markdown",
   "id": "a481c977",
   "metadata": {},
   "source": [
    "# Section 4: Testing the Function"
   ]
  },
  {
   "cell_type": "markdown",
   "id": "70af23e3",
   "metadata": {},
   "source": [
    "## Sample reviews"
   ]
  },
  {
   "cell_type": "code",
   "execution_count": 317,
   "id": "ddfba1fc",
   "metadata": {},
   "outputs": [
    {
     "name": "stdout",
     "output_type": "stream",
     "text": [
      "Room absolutely stunk of cigarettes. Avoid. Nowhere to eat locally either. Tried restaurant but told had to wait 2 hours for table despite no one sitting outside on a sunny day and only 2 people that I could see inside.Asked reception and told restaurant 15 min walk away (it wasnt) but may hv to book. No offer phone up to see if table free!\n"
     ]
    }
   ],
   "source": [
    "# Accommodation Review\n",
    "review_test1 = \"Room absolutely stunk of cigarettes. Avoid. Nowhere to eat locally either. Tried restaurant but told had to wait 2 hours for table despite no one sitting outside on a sunny day and only 2 people that I could see inside.Asked reception and told restaurant 15 min walk away (it wasnt) but may hv to book. No offer phone up to see if table free!\"\n",
    "print(review_test1)"
   ]
  },
  {
   "cell_type": "code",
   "execution_count": 324,
   "id": "a7a0c6ed",
   "metadata": {},
   "outputs": [
    {
     "data": {
      "image/png": "[encoded data removed]",
      "text/plain": [
       "<Figure size 576x432 with 1 Axes>"
      ]
     },
     "metadata": {
      "needs_background": "light"
     },
     "output_type": "display_data"
    }
   ],
   "source": [
    "review_analyser(review_test1,\"accommodation\")"
   ]
  },
  {
   "cell_type": "code",
   "execution_count": 325,
   "id": "70ad2de7",
   "metadata": {},
   "outputs": [
    {
     "name": "stdout",
     "output_type": "stream",
     "text": [
      "Went for a birthday celebration they fail to tell you when you book that they no longer serve alcohol even though we have been long term customers. It was suggested we go to a nearby supermarket and purchase our own alcohol, not really ideal on a night out. Prices have gone up massively maybe to compensate for not selling alcohol anymore. Would not recommend, we left and found Magna Indian restaurant which was reasonable accommodating and lovely food\n"
     ]
    }
   ],
   "source": [
    "# Food Review\n",
    "review_test = \"Went for a birthday celebration they fail to tell you when you book that they no longer serve alcohol even though we have been long term customers. It was suggested we go to a nearby supermarket and purchase our own alcohol, not really ideal on a night out. Prices have gone up massively maybe to compensate for not selling alcohol anymore. Would not recommend, we left and found Magna Indian restaurant which was reasonable accommodating and lovely food\"\n",
    "print(review_test)"
   ]
  },
  {
   "cell_type": "code",
   "execution_count": 326,
   "id": "b3d6bd91",
   "metadata": {},
   "outputs": [
    {
     "data": {
      "image/png": "[encoded data removed]",
      "text/plain": [
       "<Figure size 576x432 with 1 Axes>"
      ]
     },
     "metadata": {
      "needs_background": "light"
     },
     "output_type": "display_data"
    }
   ],
   "source": [
    "review_analyser(review_test,\"food\")"
   ]
  },
  {
   "cell_type": "code",
   "execution_count": 327,
   "id": "77ff1418",
   "metadata": {},
   "outputs": [
    {
     "name": "stdout",
     "output_type": "stream",
     "text": [
      "On the outskirts of Bognor this park is very pleasant with a large cafe and an excellent crazy golf course. It also has a miniature railway and a boating lake but both were closed on the afternoon of our visit. However, we walked around the main pathways and saw a few squirrels. A very pleasant place for a short visit.\n"
     ]
    }
   ],
   "source": [
    "# Attraction Review\n",
    "review_test2 = \"On the outskirts of Bognor this park is very pleasant with a large cafe and an excellent crazy golf course. It also has a miniature railway and a boating lake but both were closed on the afternoon of our visit. However, we walked around the main pathways and saw a few squirrels. A very pleasant place for a short visit.\"\n",
    "print(review_test2)"
   ]
  },
  {
   "cell_type": "code",
   "execution_count": 328,
   "id": "9e56cf0a",
   "metadata": {},
   "outputs": [
    {
     "data": {
      "image/png": "[encoded data removed]",
      "text/plain": [
       "<Figure size 576x432 with 1 Axes>"
      ]
     },
     "metadata": {
      "needs_background": "light"
     },
     "output_type": "display_data"
    }
   ],
   "source": [
    "review_analyser(review_test2, \"attractions\")"
   ]
  },
  {
   "cell_type": "code",
   "execution_count": null,
   "id": "e1c07bf4",
   "metadata": {},
   "outputs": [],
   "source": []
  }
 ],
 "metadata": {
  "kernelspec": {
   "display_name": "Python 3",
   "language": "python",
   "name": "python3"
  },
  "language_info": {
   "codemirror_mode": {
    "name": "ipython",
    "version": 3
   },
   "file_extension": ".py",
   "mimetype": "text/x-python",
   "name": "python",
   "nbconvert_exporter": "python",
   "pygments_lexer": "ipython3",
   "version": "3.7.10"
  }
 },
 "nbformat": 4,
 "nbformat_minor": 5
}
