{
 "cells": [
  {
   "cell_type": "markdown",
   "id": "17ef2c61",
   "metadata": {},
   "source": [
    "# Notebook 13 d) Multi-class Sentiment Model Using Neural Networks"
   ]
  },
  {
   "cell_type": "markdown",
   "id": "7e77c17f",
   "metadata": {},
   "source": [
    "This notebook seeks to train a MULTI-CLASS model to predict sentiment on the full dataset based only on the noun phrases previously extracted but using neural network models instead of machine learning.\n",
    "\n",
    "* Section 1 - Import libraries and data\n",
    "* Section 2 - Data preprocessing\n",
    "* Section 3 - Building a sentiment model (Models 1 to 5 based on the best simple networks from Notebook 8)\n",
    "* Section 4 - Summary results table\n",
    "\n",
    "NOTE: Cross validation could not be run on this dataset as it is too resource-intensive. Only a hold-out set is used for evaluation.\n",
    "\n",
    "Datasets need to run file:\n",
    "* combined_sentiment.csv\n",
    "* combined_sentiment_test.csv\n",
    "\n",
    "Models saved to:\n",
    "* SentimentModels1\n",
    "* SentimentModels2\n",
    "* SentimentModels3\n",
    "* SentimentModels4\n",
    "* SentimentModels5\n",
    "\n",
    "Final results:\n",
    "\n",
    "* results_sentiment.csv\n"
   ]
  },
  {
   "cell_type": "markdown",
   "id": "f25289f1",
   "metadata": {},
   "source": [
    "# Section 1: Import libraries and data"
   ]
  },
  {
   "cell_type": "code",
   "execution_count": 10,
   "id": "2b60828d",
   "metadata": {},
   "outputs": [],
   "source": [
    "import pandas as pd\n",
    "import numpy as np\n",
    "\n",
    "from sklearn import preprocessing\n",
    "from sklearn.preprocessing import LabelBinarizer\n",
    "from sklearn.model_selection import StratifiedKFold\n",
    "import keras\n",
    "from keras.wrappers.scikit_learn import KerasClassifier\n",
    "from keras.models import Sequential\n",
    "from keras.layers import Dense,Flatten,Embedding,LSTM,Dropout,SpatialDropout1D,Conv1D,GlobalMaxPooling1D,SimpleRNN,LSTM,GRU,Bidirectional\n",
    "from keras.preprocessing.text import Tokenizer\n",
    "from keras.preprocessing.sequence import pad_sequences\n",
    "from keras.callbacks import EarlyStopping,ModelCheckpoint\n",
    "from keras.utils import to_categorical\n",
    "from matplotlib import pyplot as plt\n",
    "import seaborn as sns\n",
    "sns.set()\n",
    "import imblearn\n",
    "from imblearn.over_sampling import SMOTE\n",
    "from sklearn.model_selection import RandomizedSearchCV\n",
    "import os\n",
    "import pickle\n",
    "\n",
    "import nltk\n",
    "from nltk.corpus import stopwords\n",
    "from sklearn.model_selection import train_test_split,cross_val_score\n",
    "from sklearn.metrics import accuracy_score,roc_auc_score,precision_score,recall_score,f1_score,confusion_matrix,classification_report\n",
    "from sklearn.utils import class_weight\n",
    "\n",
    "import warnings\n",
    "warnings.filterwarnings('ignore')"
   ]
  },
  {
   "cell_type": "code",
   "execution_count": 13,
   "id": "25ded65a",
   "metadata": {},
   "outputs": [],
   "source": [
    "# Bring in training and test sets from Notebook 11 (visualising topic models)\n",
    "df_train = pd.read_csv(\"combined_sentiment.csv\",index_col = 0)\n",
    "df_test = pd.read_csv(\"combined_sentiment_test.csv\",index_col = 0)"
   ]
  },
  {
   "cell_type": "code",
   "execution_count": 14,
   "id": "1622c464",
   "metadata": {},
   "outputs": [
    {
     "data": {
      "text/plain": [
       "(73027, 15)"
      ]
     },
     "execution_count": 14,
     "metadata": {},
     "output_type": "execute_result"
    }
   ],
   "source": [
    "# Combine train and test set\n",
    "df_combined_all = pd.concat([df_train, df_test],axis = 0,ignore_index = True)\n",
    "df_combined_all.shape"
   ]
  },
  {
   "cell_type": "markdown",
   "id": "61098084",
   "metadata": {},
   "source": [
    "# Section 2: Data preprocessing"
   ]
  },
  {
   "cell_type": "code",
   "execution_count": 15,
   "id": "cfc1d2a1",
   "metadata": {},
   "outputs": [],
   "source": [
    "# Choose columns, replace incorrect category label and relabel columns\n",
    "df_train = df_train[[\"OrigInd\",\"Category\",\"noun_phrases\",\"Topic Count\",\"Sentiment\",\"Score\"]]\n",
    "df_train.columns = [\"OrigInd\",\"Category\",\"Noun Phrases\",\"Aspect\",\"Sentiment\",\"Polarity\"]\n",
    "df_test = df_test[[\"OrigInd\",\"Category\",\"noun_phrases\",\"Topic\",\"Sentiment\",\"Score\"]]\n",
    "df_test[\"Category\"].replace({\"Attract\": \"Attractions\"}, inplace=True)\n",
    "df_test.columns = [\"OrigInd\",\"Category\",\"Noun Phrases\",\"Aspect\",\"Sentiment\",\"Polarity\"]"
   ]
  },
  {
   "cell_type": "code",
   "execution_count": 16,
   "id": "b392c9ad",
   "metadata": {},
   "outputs": [
    {
     "data": {
      "text/plain": [
       "Food             40587\n",
       "Accommodation    24670\n",
       "Attractions       7560\n",
       "Attract            210\n",
       "Name: Category, dtype: int64"
      ]
     },
     "execution_count": 16,
     "metadata": {},
     "output_type": "execute_result"
    }
   ],
   "source": [
    "# Get Category distribution\n",
    "df_combined_all[\"Category\"].value_counts()"
   ]
  },
  {
   "cell_type": "code",
   "execution_count": 129,
   "id": "accb4184",
   "metadata": {},
   "outputs": [
    {
     "data": {
      "text/html": [
       "<div>\n",
       "<style scoped>\n",
       "    .dataframe tbody tr th:only-of-type {\n",
       "        vertical-align: middle;\n",
       "    }\n",
       "\n",
       "    .dataframe tbody tr th {\n",
       "        vertical-align: top;\n",
       "    }\n",
       "\n",
       "    .dataframe thead th {\n",
       "        text-align: right;\n",
       "    }\n",
       "</style>\n",
       "<table border=\"1\" class=\"dataframe\">\n",
       "  <thead>\n",
       "    <tr style=\"text-align: right;\">\n",
       "      <th></th>\n",
       "      <th>Unnamed: 0.1</th>\n",
       "      <th>OrigInd</th>\n",
       "      <th>Category</th>\n",
       "      <th>Town</th>\n",
       "      <th>Rating</th>\n",
       "      <th>all_text</th>\n",
       "      <th>cleaned</th>\n",
       "      <th>noun_phrases</th>\n",
       "      <th>nouns</th>\n",
       "      <th>Topic Count</th>\n",
       "      <th>Topic TFIDF</th>\n",
       "      <th>Sentiment</th>\n",
       "      <th>Score</th>\n",
       "      <th>Sentence</th>\n",
       "      <th>Topic</th>\n",
       "    </tr>\n",
       "  </thead>\n",
       "  <tbody>\n",
       "    <tr>\n",
       "      <th>0</th>\n",
       "      <td>8627</td>\n",
       "      <td>3857</td>\n",
       "      <td>Food</td>\n",
       "      <td>Arundel</td>\n",
       "      <td>5</td>\n",
       "      <td>A very pleasant modern restaurant, which is br...</td>\n",
       "      <td>pleasant modern restaurant bright airy eaten l...</td>\n",
       "      <td>bright airy eaten lunchtime good value</td>\n",
       "      <td>['airy', 'eaten', 'value']</td>\n",
       "      <td>VFM</td>\n",
       "      <td>MealExp</td>\n",
       "      <td>0.8020</td>\n",
       "      <td>1</td>\n",
       "      <td>NaN</td>\n",
       "      <td>NaN</td>\n",
       "    </tr>\n",
       "    <tr>\n",
       "      <th>1</th>\n",
       "      <td>17117</td>\n",
       "      <td>1541</td>\n",
       "      <td>Accommodation</td>\n",
       "      <td>Arundel</td>\n",
       "      <td>1</td>\n",
       "      <td>Superheated room beyond belief  Please hire mo...</td>\n",
       "      <td>superheated room beyond belief please hire mob...</td>\n",
       "      <td>lack focus client comfort</td>\n",
       "      <td>['lack', 'focus', 'client', 'comfort']</td>\n",
       "      <td>MealExp</td>\n",
       "      <td>Location</td>\n",
       "      <td>0.0516</td>\n",
       "      <td>1</td>\n",
       "      <td>NaN</td>\n",
       "      <td>NaN</td>\n",
       "    </tr>\n",
       "  </tbody>\n",
       "</table>\n",
       "</div>"
      ],
      "text/plain": [
       "   Unnamed: 0.1  OrigInd       Category     Town  Rating  \\\n",
       "0          8627     3857           Food  Arundel       5   \n",
       "1         17117     1541  Accommodation  Arundel       1   \n",
       "\n",
       "                                            all_text  \\\n",
       "0  A very pleasant modern restaurant, which is br...   \n",
       "1  Superheated room beyond belief  Please hire mo...   \n",
       "\n",
       "                                             cleaned  \\\n",
       "0  pleasant modern restaurant bright airy eaten l...   \n",
       "1  superheated room beyond belief please hire mob...   \n",
       "\n",
       "                             noun_phrases  \\\n",
       "0  bright airy eaten lunchtime good value   \n",
       "1               lack focus client comfort   \n",
       "\n",
       "                                    nouns Topic Count Topic TFIDF  Sentiment  \\\n",
       "0              ['airy', 'eaten', 'value']         VFM     MealExp     0.8020   \n",
       "1  ['lack', 'focus', 'client', 'comfort']     MealExp    Location     0.0516   \n",
       "\n",
       "   Score Sentence Topic  \n",
       "0      1      NaN   NaN  \n",
       "1      1      NaN   NaN  "
      ]
     },
     "execution_count": 129,
     "metadata": {},
     "output_type": "execute_result"
    }
   ],
   "source": [
    "df_combined_all.head(2)"
   ]
  },
  {
   "cell_type": "code",
   "execution_count": 18,
   "id": "d99be24b",
   "metadata": {},
   "outputs": [
    {
     "data": {
      "text/plain": [
       "neutral     39099\n",
       "positive    29513\n",
       "negative     4415\n",
       "Name: Score, dtype: int64"
      ]
     },
     "execution_count": 18,
     "metadata": {},
     "output_type": "execute_result"
    }
   ],
   "source": [
    "# Get Polarity distribution\n",
    "df_combined_all[\"Score\"].value_counts()"
   ]
  },
  {
   "cell_type": "code",
   "execution_count": 19,
   "id": "cefecc1a",
   "metadata": {},
   "outputs": [
    {
     "data": {
      "text/plain": [
       "<BarContainer object of 3 artists>"
      ]
     },
     "execution_count": 19,
     "metadata": {},
     "output_type": "execute_result"
    },
    {
     "data": {
      "image/png": "[encoded data removed]",
      "text/plain": [
       "<Figure size 432x288 with 1 Axes>"
      ]
     },
     "metadata": {},
     "output_type": "display_data"
    }
   ],
   "source": [
    "# Distribution of polarities\n",
    "sent = pd.DataFrame(df_combined_all[\"Score\"].value_counts())\n",
    "plt.bar(sent.index,sent[\"Score\"])"
   ]
  },
  {
   "cell_type": "code",
   "execution_count": 20,
   "id": "3b2fc7e9",
   "metadata": {},
   "outputs": [
    {
     "data": {
      "text/plain": [
       " 0    39099\n",
       " 1    29513\n",
       "-1     4415\n",
       "Name: Score, dtype: int64"
      ]
     },
     "execution_count": 20,
     "metadata": {},
     "output_type": "execute_result"
    }
   ],
   "source": [
    "df_combined_all[\"Score\"].replace({\"positive\": 1,\"negative\":-1,\"neutral\":0}, inplace=True)\n",
    "df_combined_all[\"Score\"].value_counts()"
   ]
  },
  {
   "cell_type": "code",
   "execution_count": 21,
   "id": "40732251",
   "metadata": {},
   "outputs": [
    {
     "name": "stdout",
     "output_type": "stream",
     "text": [
      "(4415, 15) (4415, 15) (4415, 15)\n"
     ]
    }
   ],
   "source": [
    "pos_sampled = df_combined_all[df_combined_all[\"Score\"] == 1].sample(4415)\n",
    "neutral_sampled = df_combined_all[df_combined_all[\"Score\"] == 0].sample(4415)\n",
    "negative = df_combined_all[df_combined_all[\"Score\"] == -1]\n",
    "print(pos_sampled.shape, neutral_sampled.shape,negative.shape)"
   ]
  },
  {
   "cell_type": "code",
   "execution_count": 22,
   "id": "b80808bb",
   "metadata": {},
   "outputs": [
    {
     "data": {
      "text/plain": [
       "(13245, 15)"
      ]
     },
     "execution_count": 22,
     "metadata": {},
     "output_type": "execute_result"
    }
   ],
   "source": [
    "df_combined_all = pd.concat([pos_sampled, neutral_sampled,negative], axis = 0, ignore_index = True)\n",
    "df_combined_all.shape"
   ]
  },
  {
   "cell_type": "code",
   "execution_count": 23,
   "id": "6e1da31a",
   "metadata": {},
   "outputs": [
    {
     "data": {
      "text/plain": [
       "<BarContainer object of 3 artists>"
      ]
     },
     "execution_count": 23,
     "metadata": {},
     "output_type": "execute_result"
    },
    {
     "data": {
      "image/png": "[encoded data removed]",
      "text/plain": [
       "<Figure size 432x288 with 1 Axes>"
      ]
     },
     "metadata": {},
     "output_type": "display_data"
    }
   ],
   "source": [
    "# Distribution of polarities\n",
    "sent = pd.DataFrame(df_combined_all[\"Score\"].value_counts())\n",
    "plt.bar(sent.index,sent[\"Score\"])"
   ]
  },
  {
   "cell_type": "markdown",
   "id": "884a18d8",
   "metadata": {},
   "source": [
    "## Define X and y and split into training, valuation and test sets"
   ]
  },
  {
   "cell_type": "code",
   "execution_count": 24,
   "id": "15537c2f",
   "metadata": {},
   "outputs": [],
   "source": [
    "X = df_combined_all[\"noun_phrases\"]\n",
    "y = df_combined_all[\"Score\"]"
   ]
  },
  {
   "cell_type": "code",
   "execution_count": 130,
   "id": "cd6ddc98",
   "metadata": {},
   "outputs": [],
   "source": [
    "# Train, validation, test split\n",
    "X_train, X_test, y_train, y_test = train_test_split(X,y, stratify = y,test_size=0.2, shuffle = True)\n",
    "X_test, X_val, y_test, y_val = train_test_split(X_test, y_test, stratify = y_test,test_size=0.50, shuffle = True) "
   ]
  },
  {
   "cell_type": "code",
   "execution_count": 131,
   "id": "5019d176",
   "metadata": {},
   "outputs": [
    {
     "name": "stdout",
     "output_type": "stream",
     "text": [
      "(10596,) (1325,) (1324,) (10596,) (1325,) (1324,)\n"
     ]
    }
   ],
   "source": [
    "print(X_train.shape,X_val.shape,X_test.shape,y_train.shape,y_val.shape,y_test.shape)"
   ]
  },
  {
   "cell_type": "code",
   "execution_count": 132,
   "id": "cc6bc74e",
   "metadata": {},
   "outputs": [
    {
     "data": {
      "text/plain": [
       " 0    3532\n",
       " 1    3532\n",
       "-1    3532\n",
       "Name: Score, dtype: int64"
      ]
     },
     "execution_count": 132,
     "metadata": {},
     "output_type": "execute_result"
    }
   ],
   "source": [
    "y_train.value_counts()"
   ]
  },
  {
   "cell_type": "code",
   "execution_count": 133,
   "id": "b61ba2a4",
   "metadata": {},
   "outputs": [
    {
     "data": {
      "text/plain": [
       " 0    442\n",
       "-1    442\n",
       " 1    441\n",
       "Name: Score, dtype: int64"
      ]
     },
     "execution_count": 133,
     "metadata": {},
     "output_type": "execute_result"
    }
   ],
   "source": [
    "y_val.value_counts()"
   ]
  },
  {
   "cell_type": "code",
   "execution_count": 134,
   "id": "eea55e76",
   "metadata": {},
   "outputs": [
    {
     "data": {
      "text/plain": [
       " 1    442\n",
       " 0    441\n",
       "-1    441\n",
       "Name: Score, dtype: int64"
      ]
     },
     "execution_count": 134,
     "metadata": {},
     "output_type": "execute_result"
    }
   ],
   "source": [
    "y_test.value_counts()"
   ]
  },
  {
   "cell_type": "markdown",
   "id": "7b246efc",
   "metadata": {},
   "source": [
    "## Distribution of noun phrases"
   ]
  },
  {
   "cell_type": "code",
   "execution_count": 135,
   "id": "99ee6196",
   "metadata": {},
   "outputs": [
    {
     "data": {
      "image/png": "[encoded data removed]",
      "text/plain": [
       "<Figure size 432x288 with 1 Axes>"
      ]
     },
     "metadata": {},
     "output_type": "display_data"
    }
   ],
   "source": [
    "pd.DataFrame(X_train)[\"noun_phrases\"].str.split().apply(len).plot.hist(bins = 50, title = \"Distribution of Number of Words/Noun\")\n",
    "plt.show()"
   ]
  },
  {
   "cell_type": "code",
   "execution_count": 136,
   "id": "a64e6a1e",
   "metadata": {},
   "outputs": [
    {
     "data": {
      "text/plain": [
       "15"
      ]
     },
     "execution_count": 136,
     "metadata": {},
     "output_type": "execute_result"
    }
   ],
   "source": [
    "pd.DataFrame(X_train)[\"noun_phrases\"].str.split().apply(len).max()"
   ]
  },
  {
   "cell_type": "markdown",
   "id": "2dd92010",
   "metadata": {},
   "source": [
    "## Encoding X values"
   ]
  },
  {
   "cell_type": "code",
   "execution_count": 137,
   "id": "0f912811",
   "metadata": {},
   "outputs": [],
   "source": [
    "def tok(X_train, X_val, X_test):\n",
    "    tokenizer = Tokenizer(num_words = 5000)\n",
    "    tokenizer.fit_on_texts(X_train)\n",
    "    X_train_s = tokenizer.texts_to_sequences(X_train)\n",
    "    X_val_s = tokenizer.texts_to_sequences(X_val)\n",
    "    X_test_s = tokenizer.texts_to_sequences(X_test)\n",
    "    X_train_w = pad_sequences(np.array(X_train_s,dtype = \"object\"), maxlen=20, padding=\"post\", truncating=\"post\", value=0.0)\n",
    "    X_val_w = pad_sequences(np.array(X_val_s,dtype = \"object\"), maxlen=20, padding=\"post\", truncating=\"post\", value=0.0)\n",
    "    X_test_w = pad_sequences(np.array(X_test_s, dtype = \"object\"), maxlen = 20, padding = \"post\", truncating = \"post\", value = 0.0)\n",
    "    \n",
    "    return tokenizer, X_train_w, X_val_w, X_test_w"
   ]
  },
  {
   "cell_type": "code",
   "execution_count": 138,
   "id": "f7f256c6",
   "metadata": {},
   "outputs": [],
   "source": [
    "# Apply function to X training, validation and test sets\n",
    "tok,X_train_w, X_val_w, X_test_w = tok(X_train, X_val, X_test)"
   ]
  },
  {
   "cell_type": "code",
   "execution_count": 139,
   "id": "bfcba9f9",
   "metadata": {},
   "outputs": [],
   "source": [
    "# Save tokenizer objects for use in the combined final model\n",
    "def tok_save(name,tokenizer):\n",
    "    with open(name, 'wb') as handle:\n",
    "        pickle.dump(tokenizer, handle, protocol=pickle.HIGHEST_PROTOCOL)\n",
    "        \n",
    "# Save tokenizer pickle files\n",
    "tok_save('tok_sent_multiclass.pickle',tok)"
   ]
  },
  {
   "cell_type": "code",
   "execution_count": 140,
   "id": "274c3e12",
   "metadata": {},
   "outputs": [],
   "source": [
    "# Encode as one hot encoding for network\n",
    "def bin(y_train, y_val, y_test):\n",
    "    binarizer = preprocessing.LabelBinarizer()\n",
    "    y_train_e = binarizer.fit_transform(y_train)\n",
    "    y_val_e = binarizer.transform(y_val)\n",
    "    y_test_e = binarizer.transform(y_test)\n",
    "    return y_train_e,y_val_e,y_test_e"
   ]
  },
  {
   "cell_type": "code",
   "execution_count": 141,
   "id": "32d9da5b",
   "metadata": {},
   "outputs": [],
   "source": [
    "# Function to encode y values as integer labels (necessary for stratified cross validation as one-hot encoded doesn't work)\n",
    "def lab(y_train, y_val, y_test):\n",
    "    le = preprocessing.LabelEncoder()\n",
    "    y_train_l = le.fit_transform(y_train)\n",
    "    y_val_l = le.fit_transform(y_val)\n",
    "    y_test_l = le.transform(y_test)\n",
    "    return y_train_l,y_val_l, y_test_l"
   ]
  },
  {
   "cell_type": "code",
   "execution_count": 142,
   "id": "d7fb1b4a",
   "metadata": {},
   "outputs": [],
   "source": [
    "y_train_e, y_val_e, y_test_e = bin(y_train, y_val, y_test)\n",
    "y_train_l, y_val_l, y_test_l = lab(y_train, y_val, y_test)"
   ]
  },
  {
   "cell_type": "code",
   "execution_count": 144,
   "id": "23593652",
   "metadata": {},
   "outputs": [
    {
     "name": "stdout",
     "output_type": "stream",
     "text": [
      "(10596, 3) (1325, 3) (1324, 3)\n",
      "(10596,) (1325,) (1324,)\n"
     ]
    }
   ],
   "source": [
    "print(y_train_e.shape, y_val_e.shape, y_test_e.shape)\n",
    "print(y_train_l.shape, y_val_l.shape, y_test_l.shape)"
   ]
  },
  {
   "cell_type": "code",
   "execution_count": 145,
   "id": "467f5346",
   "metadata": {},
   "outputs": [
    {
     "data": {
      "text/plain": [
       "Score\n",
       "-1       442\n",
       " 0       442\n",
       " 1       441\n",
       "dtype: int64"
      ]
     },
     "execution_count": 145,
     "metadata": {},
     "output_type": "execute_result"
    }
   ],
   "source": [
    "pd.DataFrame(y_val).value_counts()"
   ]
  },
  {
   "cell_type": "markdown",
   "id": "29e5ac7c",
   "metadata": {},
   "source": [
    "# Section 3: Building a Sentiment Model"
   ]
  },
  {
   "cell_type": "markdown",
   "id": "fde94549",
   "metadata": {},
   "source": [
    "## Setting Functions"
   ]
  },
  {
   "cell_type": "code",
   "execution_count": 146,
   "id": "d4f4623e",
   "metadata": {},
   "outputs": [],
   "source": [
    "# Visualise the training and test accuracies and losses\n",
    "\n",
    "import matplotlib.pyplot as plt\n",
    "plt.style.use('ggplot')\n",
    "\n",
    "def plot_history(history):\n",
    "    acc = history.history['accuracy']\n",
    "    val_acc = history.history['val_accuracy']\n",
    "    loss = history.history['loss']\n",
    "    val_loss = history.history['val_loss']\n",
    "    x = range(1, len(acc) + 1)\n",
    "\n",
    "    plt.figure(figsize=(12, 5))\n",
    "    plt.subplot(1, 2, 1)\n",
    "    plt.plot(x, acc, 'b', label='Training acc')\n",
    "    plt.plot(x, val_acc, 'r', label='Val acc')\n",
    "    plt.title('Training and Validation accuracy')\n",
    "    plt.xlabel(\"Epochs\")\n",
    "    plt.legend()\n",
    "    plt.subplot(1, 2, 2)\n",
    "    plt.plot(x, loss, 'b', label='Training loss')\n",
    "    plt.plot(x, val_loss, 'r', label='Val loss')\n",
    "    plt.xlabel(\"Epochs\")\n",
    "    plt.title('Training and Validation loss')\n",
    "    plt.legend()\n",
    "    plt.show()"
   ]
  },
  {
   "cell_type": "code",
   "execution_count": 147,
   "id": "faa8afb0",
   "metadata": {},
   "outputs": [],
   "source": [
    "# The model will use earlystopping if the valuation loss doesn't decrease after a specified number of epochs\n",
    "\n",
    "def out(name):\n",
    "    output_dir = name\n",
    "    if not os.path.exists(output_dir):\n",
    "        os.makedirs(output_dir)\n",
    "    return output_dir\n",
    "        \n",
    "def call(output_dir,patience):\n",
    "    modelcheckpoint = ModelCheckpoint(filepath=output_dir+\"/weights.{epoch:02d}.hdf5\")\n",
    "    callbacks = [EarlyStopping(monitor = \"val_loss\", patience = patience),modelcheckpoint]\n",
    "    return callbacks"
   ]
  },
  {
   "cell_type": "code",
   "execution_count": 148,
   "id": "44ad5a1c",
   "metadata": {},
   "outputs": [],
   "source": [
    "# Confusion Matrix function\n",
    "\n",
    "def class_conf(y_val_integer,y_pred_class,labels):\n",
    "    classification = classification_report(y_val_integer, y_pred_class)\n",
    "    cf_matrix = confusion_matrix(y_val_integer, y_pred_class)\n",
    "    fig, ax = plt.subplots(figsize = (8,6))\n",
    "    sns.heatmap(cf_matrix, annot = True, fmt = \"d\",cmap = plt.cm.Blues,xticklabels = labels,yticklabels = labels)\n",
    "    ax.set_xlabel('Predicted',labelpad = 10)\n",
    "    ax.set_ylabel('Actual',labelpad = 10)\n",
    "    plt.title(\"Confusion Matrix\", fontsize = 15)\n",
    "    print(classification)\n",
    "    plt.show()"
   ]
  },
  {
   "cell_type": "code",
   "execution_count": 149,
   "id": "f69fca7a",
   "metadata": {},
   "outputs": [],
   "source": [
    "# Evaluation function\n",
    "\n",
    "def eval(model,output_dir,name,X_val,y_val_e,y_val,labels):\n",
    "    model.load_weights(output_dir+name)\n",
    "    y_pred_prob = model.predict(X_val)\n",
    "    y_pred_class = np.argmax(model.predict(X_val), axis=-1)\n",
    "    y_val_integer = np.argmax(y_val, axis=1)\n",
    "    df_pred = pd.DataFrame(list(zip(y_val_integer, y_val,y_pred_class)), columns=[\"Actual Class\", \"Actual Aspect\",\"Predicted Class\",])\n",
    "    df_wrong = df_pred[df_pred[\"Actual Class\"]!= df_pred[\"Predicted Class\"]]\n",
    "    class_conf(y_val_integer,y_pred_class,labels)\n",
    "    print(\"\\n\")\n",
    "    print(\"The model predicted:\", df_wrong.shape[0],\"aspects wrong from a total of:\",df_pred.shape[0],\"predictions\")\n",
    "    print(\"\\n\")\n",
    "    return df_pred, df_wrong"
   ]
  },
  {
   "cell_type": "code",
   "execution_count": 150,
   "id": "c9b34610",
   "metadata": {},
   "outputs": [],
   "source": [
    "# Metrics function\n",
    "\n",
    "def metric_results(y_val_e,y_val_integer,y_pred_class,y_pred_prob):\n",
    "    accuracy = accuracy_score(y_val_integer, y_pred_class)\n",
    "    rocauc = roc_auc_score(y_val_e,y_pred_prob, average = 'macro', multi_class = 'ovr')\n",
    "    precision = precision_score(y_val_integer, y_pred_class, average='macro')\n",
    "    recall = recall_score(y_val_integer, y_pred_class, average='macro')\n",
    "    f1 = f1_score(y_val_integer, y_pred_class, average='macro')\n",
    "          \n",
    "    \n",
    "    results = pd.DataFrame({\"Accuracy\":accuracy, \"Precision\":precision, \"Recall\":recall,\n",
    "                                    \"F1\":f1,\"ROCAUC\":rocauc}, index = [0]\n",
    "                                  )\n",
    "    return results"
   ]
  },
  {
   "cell_type": "code",
   "execution_count": 151,
   "id": "728f4376",
   "metadata": {},
   "outputs": [
    {
     "data": {
      "text/plain": [
       "array([1., 1., 1.])"
      ]
     },
     "execution_count": 151,
     "metadata": {},
     "output_type": "execute_result"
    }
   ],
   "source": [
    "# Balanced classes - get weights\n",
    "from sklearn.utils import class_weight\n",
    "class_weights = class_weight.compute_class_weight('balanced',np.unique(y_train),y_train)\n",
    "class_weights"
   ]
  },
  {
   "cell_type": "markdown",
   "id": "b3cc8f6b",
   "metadata": {},
   "source": [
    "## Sentiment Model 1"
   ]
  },
  {
   "cell_type": "code",
   "execution_count": 204,
   "id": "da40709a",
   "metadata": {},
   "outputs": [],
   "source": [
    "# Parameters\n",
    "input_dim = 6000\n",
    "output_dim = 16\n",
    "input_length = 20\n",
    "batch_size = 8\n",
    "epochs = 50\n",
    "class_weights = {0:0.62257958,1:0.82480587,2:5.51349566}\n",
    "\n",
    "# Set output directory and callbacks (patience set to 5)\n",
    "output_dir = out('model_output/SentimentMultiClass1')\n",
    "callbacks = call(output_dir,5)"
   ]
  },
  {
   "cell_type": "code",
   "execution_count": 205,
   "id": "cbe0d391",
   "metadata": {},
   "outputs": [
    {
     "name": "stdout",
     "output_type": "stream",
     "text": [
      "Model: \"sequential_109\"\n",
      "_________________________________________________________________\n",
      "Layer (type)                 Output Shape              Param #   \n",
      "=================================================================\n",
      "embedding_109 (Embedding)    (None, 20, 16)            96000     \n",
      "_________________________________________________________________\n",
      "flatten_109 (Flatten)        (None, 320)               0         \n",
      "_________________________________________________________________\n",
      "dense_321 (Dense)            (None, 3)                 963       \n",
      "=================================================================\n",
      "Total params: 96,963\n",
      "Trainable params: 96,963\n",
      "Non-trainable params: 0\n",
      "_________________________________________________________________\n",
      "None\n"
     ]
    }
   ],
   "source": [
    "model1 = Sequential()\n",
    "model1.add(Embedding(input_dim = input_dim, output_dim = output_dim, input_length=input_length))\n",
    "model1.add(Flatten())\n",
    "model1.add(Dense(3, activation='softmax'))\n",
    "model1.compile(optimizer='adam', loss='categorical_crossentropy', metrics=['accuracy'])\n",
    "print(model1.summary()) \n",
    " "
   ]
  },
  {
   "cell_type": "code",
   "execution_count": 206,
   "id": "f36897fc",
   "metadata": {},
   "outputs": [
    {
     "name": "stdout",
     "output_type": "stream",
     "text": [
      "Epoch 1/50\n",
      "WARNING:tensorflow:Callbacks method `on_test_batch_end` is slow compared to the batch time (batch time: 0.0000s vs `on_test_batch_end` time: 0.0010s). Check your callbacks.\n",
      "1325/1325 - 1s - loss: 0.6838 - accuracy: 0.7548 - val_loss: 0.3503 - val_accuracy: 0.8921\n",
      "Epoch 2/50\n",
      "1325/1325 - 1s - loss: 0.2245 - accuracy: 0.9373 - val_loss: 0.2431 - val_accuracy: 0.9230\n",
      "Epoch 3/50\n",
      "1325/1325 - 1s - loss: 0.1019 - accuracy: 0.9753 - val_loss: 0.2135 - val_accuracy: 0.9321\n",
      "Epoch 4/50\n",
      "1325/1325 - 1s - loss: 0.0537 - accuracy: 0.9888 - val_loss: 0.2093 - val_accuracy: 0.9366\n",
      "Epoch 5/50\n",
      "1325/1325 - 1s - loss: 0.0300 - accuracy: 0.9960 - val_loss: 0.2100 - val_accuracy: 0.9411\n",
      "Epoch 6/50\n",
      "1325/1325 - 1s - loss: 0.0179 - accuracy: 0.9985 - val_loss: 0.2299 - val_accuracy: 0.9404\n",
      "Epoch 7/50\n",
      "1325/1325 - 1s - loss: 0.0112 - accuracy: 0.9992 - val_loss: 0.2261 - val_accuracy: 0.9419\n",
      "Epoch 8/50\n",
      "1325/1325 - 1s - loss: 0.0074 - accuracy: 0.9993 - val_loss: 0.2402 - val_accuracy: 0.9472\n",
      "Epoch 9/50\n",
      "1325/1325 - 1s - loss: 0.0049 - accuracy: 0.9995 - val_loss: 0.2463 - val_accuracy: 0.9457\n"
     ]
    }
   ],
   "source": [
    "# Model using keras embeddings\n",
    "history = model1.fit(X_train_w,y_train_e,\n",
    "                    epochs=epochs,\n",
    "                    verbose=2,\n",
    "                    callbacks = callbacks,\n",
    "                    validation_data=(X_val_w, y_val_e),\n",
    "                    batch_size=batch_size)"
   ]
  },
  {
   "cell_type": "code",
   "execution_count": 207,
   "id": "0c3ba61f",
   "metadata": {},
   "outputs": [
    {
     "name": "stdout",
     "output_type": "stream",
     "text": [
      "Training Accuracy: 0.9995\n",
      "Validation Accuracy:  0.9457\n"
     ]
    }
   ],
   "source": [
    "# Print training and test accuracies\n",
    "loss, accuracy = model1.evaluate(X_train_w, y_train_e, verbose=False)\n",
    "print(\"Training Accuracy: {:.4f}\".format(accuracy))\n",
    "loss, accuracy = model1.evaluate(X_val_w, y_val_e, verbose=False)\n",
    "print(\"Validation Accuracy:  {:.4f}\".format(accuracy))"
   ]
  },
  {
   "cell_type": "code",
   "execution_count": 156,
   "id": "5acfe335",
   "metadata": {},
   "outputs": [
    {
     "data": {
      "image/png": "[encoded data removed]",
      "text/plain": [
       "<Figure size 864x360 with 2 Axes>"
      ]
     },
     "metadata": {},
     "output_type": "display_data"
    }
   ],
   "source": [
    "plot_history(history)"
   ]
  },
  {
   "cell_type": "code",
   "execution_count": 208,
   "id": "1023ac75",
   "metadata": {},
   "outputs": [],
   "source": [
    "# Load model weights from epoch with best validation accuracy\n",
    "model1.load_weights(output_dir+\"/weights.08.hdf5\")"
   ]
  },
  {
   "cell_type": "code",
   "execution_count": 209,
   "id": "6d6ff0dd",
   "metadata": {},
   "outputs": [
    {
     "name": "stdout",
     "output_type": "stream",
     "text": [
      "              precision    recall  f1-score   support\n",
      "\n",
      "           0       0.98      0.92      0.95       442\n",
      "           1       0.88      0.98      0.93       442\n",
      "           2       0.99      0.94      0.96       441\n",
      "\n",
      "    accuracy                           0.95      1325\n",
      "   macro avg       0.95      0.95      0.95      1325\n",
      "weighted avg       0.95      0.95      0.95      1325\n",
      "\n"
     ]
    },
    {
     "data": {
      "image/png": "[encoded data removed]",
      "text/plain": [
       "<Figure size 576x432 with 2 Axes>"
      ]
     },
     "metadata": {},
     "output_type": "display_data"
    }
   ],
   "source": [
    "labels = ['Negative','Neutral','Positive']\n",
    "y_pred_prob = model1.predict(X_val_w)\n",
    "y_pred_class = np.argmax(model1.predict(X_val_w), axis=-1)\n",
    "y_val_integer = np.argmax(y_val_e, axis=1)\n",
    "class_conf(y_val_integer,y_pred_class,labels)"
   ]
  },
  {
   "cell_type": "code",
   "execution_count": 210,
   "id": "ec9a2812",
   "metadata": {},
   "outputs": [
    {
     "data": {
      "text/html": [
       "<div>\n",
       "<style scoped>\n",
       "    .dataframe tbody tr th:only-of-type {\n",
       "        vertical-align: middle;\n",
       "    }\n",
       "\n",
       "    .dataframe tbody tr th {\n",
       "        vertical-align: top;\n",
       "    }\n",
       "\n",
       "    .dataframe thead th {\n",
       "        text-align: right;\n",
       "    }\n",
       "</style>\n",
       "<table border=\"1\" class=\"dataframe\">\n",
       "  <thead>\n",
       "    <tr style=\"text-align: right;\">\n",
       "      <th></th>\n",
       "      <th>Accuracy</th>\n",
       "      <th>Precision</th>\n",
       "      <th>Recall</th>\n",
       "      <th>F1</th>\n",
       "      <th>ROCAUC</th>\n",
       "    </tr>\n",
       "  </thead>\n",
       "  <tbody>\n",
       "    <tr>\n",
       "      <th>0</th>\n",
       "      <td>0.94717</td>\n",
       "      <td>0.95097</td>\n",
       "      <td>0.947163</td>\n",
       "      <td>0.947619</td>\n",
       "      <td>0.986627</td>\n",
       "    </tr>\n",
       "  </tbody>\n",
       "</table>\n",
       "</div>"
      ],
      "text/plain": [
       "   Accuracy  Precision    Recall        F1    ROCAUC\n",
       "0   0.94717    0.95097  0.947163  0.947619  0.986627"
      ]
     },
     "execution_count": 210,
     "metadata": {},
     "output_type": "execute_result"
    }
   ],
   "source": [
    "results1 = metric_results(y_val_e,y_val_integer,y_pred_class,y_pred_prob)\n",
    "results1"
   ]
  },
  {
   "cell_type": "markdown",
   "id": "8423d2a2",
   "metadata": {},
   "source": [
    "## Sentiment Model 2"
   ]
  },
  {
   "cell_type": "code",
   "execution_count": 211,
   "id": "2261b2ac",
   "metadata": {},
   "outputs": [
    {
     "name": "stdout",
     "output_type": "stream",
     "text": [
      "Model: \"sequential_110\"\n",
      "_________________________________________________________________\n",
      "Layer (type)                 Output Shape              Param #   \n",
      "=================================================================\n",
      "embedding_110 (Embedding)    (None, 20, 16)            96000     \n",
      "_________________________________________________________________\n",
      "flatten_110 (Flatten)        (None, 320)               0         \n",
      "_________________________________________________________________\n",
      "dense_322 (Dense)            (None, 64)                20544     \n",
      "_________________________________________________________________\n",
      "dense_323 (Dense)            (None, 3)                 195       \n",
      "=================================================================\n",
      "Total params: 116,739\n",
      "Trainable params: 116,739\n",
      "Non-trainable params: 0\n",
      "_________________________________________________________________\n",
      "None\n"
     ]
    }
   ],
   "source": [
    "model2 = Sequential()\n",
    "model2.add(Embedding(input_dim = input_dim, output_dim = output_dim, input_length=input_length))\n",
    "model2.add(Flatten())\n",
    "model2.add(Dense(64, activation='relu', input_shape=(1600,)))\n",
    "model2.add(Dense(3, activation='softmax'))\n",
    "model2.compile(optimizer='adam', loss='categorical_crossentropy', metrics=['accuracy'])\n",
    "print(model2.summary())"
   ]
  },
  {
   "cell_type": "code",
   "execution_count": 212,
   "id": "48645395",
   "metadata": {},
   "outputs": [],
   "source": [
    "model2.save('bestsentimentnetworkmodel.h5')"
   ]
  },
  {
   "cell_type": "code",
   "execution_count": 213,
   "id": "06f8e5bd",
   "metadata": {},
   "outputs": [],
   "source": [
    "# Set output directory and callbacks (patience set to 5)\n",
    "output_dir = out('model_output/SentimentMultiClass2')\n",
    "callbacks = call(output_dir,5)"
   ]
  },
  {
   "cell_type": "code",
   "execution_count": 214,
   "id": "4bb20988",
   "metadata": {},
   "outputs": [
    {
     "name": "stdout",
     "output_type": "stream",
     "text": [
      "Epoch 1/50\n",
      "1325/1325 - 1s - loss: 0.4833 - accuracy: 0.8026 - val_loss: 0.2426 - val_accuracy: 0.9200\n",
      "Epoch 2/50\n",
      "1325/1325 - 1s - loss: 0.1094 - accuracy: 0.9686 - val_loss: 0.1917 - val_accuracy: 0.9457\n",
      "Epoch 3/50\n",
      "1325/1325 - 1s - loss: 0.0291 - accuracy: 0.9932 - val_loss: 0.1886 - val_accuracy: 0.9509\n",
      "Epoch 4/50\n",
      "1325/1325 - 1s - loss: 0.0083 - accuracy: 0.9990 - val_loss: 0.2248 - val_accuracy: 0.9502\n",
      "Epoch 5/50\n",
      "1325/1325 - 1s - loss: 0.0028 - accuracy: 0.9997 - val_loss: 0.2446 - val_accuracy: 0.9509\n",
      "Epoch 6/50\n",
      "1325/1325 - 1s - loss: 0.0015 - accuracy: 0.9996 - val_loss: 0.2595 - val_accuracy: 0.9525\n",
      "Epoch 7/50\n",
      "1325/1325 - 1s - loss: 0.0012 - accuracy: 0.9998 - val_loss: 0.2887 - val_accuracy: 0.9502\n",
      "Epoch 8/50\n",
      "1325/1325 - 1s - loss: 4.7112e-04 - accuracy: 0.9999 - val_loss: 0.2839 - val_accuracy: 0.9555\n"
     ]
    }
   ],
   "source": [
    "# Model using keras embeddings\n",
    "history = model2.fit(X_train_w,y_train_e,\n",
    "                     epochs=epochs,\n",
    "                     verbose=2,\n",
    "                     callbacks = callbacks,\n",
    "                     validation_data=(X_val_w, y_val_e),\n",
    "                     batch_size=batch_size)\n",
    "                "
   ]
  },
  {
   "cell_type": "code",
   "execution_count": 215,
   "id": "a81b5976",
   "metadata": {},
   "outputs": [
    {
     "name": "stdout",
     "output_type": "stream",
     "text": [
      "Training Accuracy: 1.0000\n",
      "Testing Accuracy:  0.9555\n"
     ]
    }
   ],
   "source": [
    "# Print training and test accuracies\n",
    "loss, accuracy = model2.evaluate(X_train_w, y_train_e, verbose=False)\n",
    "print(\"Training Accuracy: {:.4f}\".format(accuracy))\n",
    "loss, accuracy = model2.evaluate(X_val_w, y_val_e, verbose=False)\n",
    "print(\"Testing Accuracy:  {:.4f}\".format(accuracy))"
   ]
  },
  {
   "cell_type": "code",
   "execution_count": 216,
   "id": "ab2de6f8",
   "metadata": {},
   "outputs": [
    {
     "data": {
      "image/png": "[encoded data removed]",
      "text/plain": [
       "<Figure size 864x360 with 2 Axes>"
      ]
     },
     "metadata": {},
     "output_type": "display_data"
    }
   ],
   "source": [
    "plot_history(history)"
   ]
  },
  {
   "cell_type": "code",
   "execution_count": 217,
   "id": "bb8299fd",
   "metadata": {},
   "outputs": [],
   "source": [
    "# Load model weights from epoch with best validation accuracy\n",
    "model2.load_weights(output_dir+\"/weights.06.hdf5\")"
   ]
  },
  {
   "cell_type": "code",
   "execution_count": 218,
   "id": "be25d476",
   "metadata": {},
   "outputs": [
    {
     "name": "stdout",
     "output_type": "stream",
     "text": [
      "              precision    recall  f1-score   support\n",
      "\n",
      "           0       0.98      0.92      0.95       442\n",
      "           1       0.90      0.98      0.94       442\n",
      "           2       0.98      0.95      0.97       441\n",
      "\n",
      "    accuracy                           0.95      1325\n",
      "   macro avg       0.95      0.95      0.95      1325\n",
      "weighted avg       0.95      0.95      0.95      1325\n",
      "\n"
     ]
    },
    {
     "data": {
      "image/png": "[encoded data removed]",
      "text/plain": [
       "<Figure size 576x432 with 2 Axes>"
      ]
     },
     "metadata": {},
     "output_type": "display_data"
    }
   ],
   "source": [
    "y_pred_prob = model2.predict(X_val_w)\n",
    "y_pred_class = np.argmax(model2.predict(X_val_w), axis=-1)\n",
    "y_val_integer = np.argmax(y_val_e, axis=1)\n",
    "class_conf(y_val_integer,y_pred_class,labels)"
   ]
  },
  {
   "cell_type": "code",
   "execution_count": 219,
   "id": "adb4a866",
   "metadata": {},
   "outputs": [
    {
     "data": {
      "text/html": [
       "<div>\n",
       "<style scoped>\n",
       "    .dataframe tbody tr th:only-of-type {\n",
       "        vertical-align: middle;\n",
       "    }\n",
       "\n",
       "    .dataframe tbody tr th {\n",
       "        vertical-align: top;\n",
       "    }\n",
       "\n",
       "    .dataframe thead th {\n",
       "        text-align: right;\n",
       "    }\n",
       "</style>\n",
       "<table border=\"1\" class=\"dataframe\">\n",
       "  <thead>\n",
       "    <tr style=\"text-align: right;\">\n",
       "      <th></th>\n",
       "      <th>Accuracy</th>\n",
       "      <th>Precision</th>\n",
       "      <th>Recall</th>\n",
       "      <th>F1</th>\n",
       "      <th>ROCAUC</th>\n",
       "    </tr>\n",
       "  </thead>\n",
       "  <tbody>\n",
       "    <tr>\n",
       "      <th>0</th>\n",
       "      <td>0.952453</td>\n",
       "      <td>0.954715</td>\n",
       "      <td>0.952454</td>\n",
       "      <td>0.952711</td>\n",
       "      <td>0.988624</td>\n",
       "    </tr>\n",
       "  </tbody>\n",
       "</table>\n",
       "</div>"
      ],
      "text/plain": [
       "   Accuracy  Precision    Recall        F1    ROCAUC\n",
       "0  0.952453   0.954715  0.952454  0.952711  0.988624"
      ]
     },
     "execution_count": 219,
     "metadata": {},
     "output_type": "execute_result"
    }
   ],
   "source": [
    "results2 = metric_results(y_val_e,y_val_integer,y_pred_class,y_pred_prob)\n",
    "results2"
   ]
  },
  {
   "cell_type": "markdown",
   "id": "3c0fbb29",
   "metadata": {},
   "source": [
    "## Sentiment Model 3"
   ]
  },
  {
   "cell_type": "code",
   "execution_count": 220,
   "id": "4867f861",
   "metadata": {},
   "outputs": [
    {
     "name": "stdout",
     "output_type": "stream",
     "text": [
      "Model: \"sequential_111\"\n",
      "_________________________________________________________________\n",
      "Layer (type)                 Output Shape              Param #   \n",
      "=================================================================\n",
      "embedding_111 (Embedding)    (None, 20, 16)            96000     \n",
      "_________________________________________________________________\n",
      "flatten_111 (Flatten)        (None, 320)               0         \n",
      "_________________________________________________________________\n",
      "dense_324 (Dense)            (None, 128)               41088     \n",
      "_________________________________________________________________\n",
      "dropout_208 (Dropout)        (None, 128)               0         \n",
      "_________________________________________________________________\n",
      "dense_325 (Dense)            (None, 3)                 387       \n",
      "=================================================================\n",
      "Total params: 137,475\n",
      "Trainable params: 137,475\n",
      "Non-trainable params: 0\n",
      "_________________________________________________________________\n",
      "None\n"
     ]
    }
   ],
   "source": [
    "# Network with a hidden layer with more neurons in the dense layer and with dropout of 50%\n",
    "model3 = Sequential()\n",
    "model3.add(Embedding(input_dim = input_dim, output_dim = output_dim, input_length=input_length))\n",
    "model3.add(Flatten())\n",
    "model3.add(Dense(128, activation='relu'))\n",
    "model3.add(Dropout(rate=0.5))\n",
    "model3.add(Dense(3, activation='softmax')) \n",
    "model3.compile(optimizer='adam', loss='categorical_crossentropy', metrics=['accuracy'])\n",
    "print(model3.summary())\n"
   ]
  },
  {
   "cell_type": "code",
   "execution_count": 221,
   "id": "50739ba1",
   "metadata": {},
   "outputs": [],
   "source": [
    "# Set output directory and callbacks (patience set to 5)\n",
    "output_dir = out('model_output/SentimentMultiClass3')\n",
    "callbacks = call(output_dir,5)"
   ]
  },
  {
   "cell_type": "code",
   "execution_count": 222,
   "id": "8622b978",
   "metadata": {},
   "outputs": [
    {
     "name": "stdout",
     "output_type": "stream",
     "text": [
      "Epoch 1/50\n",
      "1325/1325 - 1s - loss: 0.5430 - accuracy: 0.7648 - val_loss: 0.2386 - val_accuracy: 0.9223\n",
      "Epoch 2/50\n",
      "1325/1325 - 1s - loss: 0.1312 - accuracy: 0.9638 - val_loss: 0.1930 - val_accuracy: 0.9472\n",
      "Epoch 3/50\n",
      "1325/1325 - 1s - loss: 0.0377 - accuracy: 0.9906 - val_loss: 0.1937 - val_accuracy: 0.9472\n",
      "Epoch 4/50\n",
      "1325/1325 - 1s - loss: 0.0141 - accuracy: 0.9974 - val_loss: 0.2080 - val_accuracy: 0.9487\n",
      "Epoch 5/50\n",
      "1325/1325 - 1s - loss: 0.0071 - accuracy: 0.9983 - val_loss: 0.2565 - val_accuracy: 0.9449\n",
      "Epoch 6/50\n",
      "1325/1325 - 1s - loss: 0.0035 - accuracy: 0.9992 - val_loss: 0.2596 - val_accuracy: 0.9449\n",
      "Epoch 7/50\n",
      "1325/1325 - 1s - loss: 0.0024 - accuracy: 0.9996 - val_loss: 0.2921 - val_accuracy: 0.9464\n"
     ]
    }
   ],
   "source": [
    "# Model using keras embeddings\n",
    "history = model3.fit(X_train_w,y_train_e,\n",
    "                     epochs=epochs,\n",
    "                     verbose=2,\n",
    "                     callbacks = callbacks,\n",
    "                     validation_data=(X_val_w, y_val_e),\n",
    "                     batch_size=batch_size)"
   ]
  },
  {
   "cell_type": "code",
   "execution_count": 223,
   "id": "6a29e9ae",
   "metadata": {},
   "outputs": [
    {
     "name": "stdout",
     "output_type": "stream",
     "text": [
      "Training Accuracy: 0.9999\n",
      "Testing Accuracy:  0.9525\n"
     ]
    }
   ],
   "source": [
    "# Print training and test accuracies\n",
    "loss, accuracy = model2.evaluate(X_train_w, y_train_e, verbose=False)\n",
    "print(\"Training Accuracy: {:.4f}\".format(accuracy))\n",
    "loss, accuracy = model2.evaluate(X_val_w, y_val_e, verbose=False)\n",
    "print(\"Testing Accuracy:  {:.4f}\".format(accuracy))"
   ]
  },
  {
   "cell_type": "code",
   "execution_count": 224,
   "id": "1708c234",
   "metadata": {},
   "outputs": [
    {
     "data": {
      "image/png": "[encoded data removed]",
      "text/plain": [
       "<Figure size 864x360 with 2 Axes>"
      ]
     },
     "metadata": {},
     "output_type": "display_data"
    }
   ],
   "source": [
    "plot_history(history)"
   ]
  },
  {
   "cell_type": "code",
   "execution_count": 226,
   "id": "d1a252fa",
   "metadata": {},
   "outputs": [],
   "source": [
    "# Load model weights from epoch with best validation accuracy\n",
    "model3.load_weights(output_dir+\"/weights.04.hdf5\")"
   ]
  },
  {
   "cell_type": "code",
   "execution_count": 227,
   "id": "19dd628f",
   "metadata": {},
   "outputs": [
    {
     "name": "stdout",
     "output_type": "stream",
     "text": [
      "              precision    recall  f1-score   support\n",
      "\n",
      "           0       0.97      0.93      0.95       442\n",
      "           1       0.90      0.97      0.93       442\n",
      "           2       0.99      0.95      0.97       441\n",
      "\n",
      "    accuracy                           0.95      1325\n",
      "   macro avg       0.95      0.95      0.95      1325\n",
      "weighted avg       0.95      0.95      0.95      1325\n",
      "\n"
     ]
    },
    {
     "data": {
      "image/png": "[encoded data removed]",
      "text/plain": [
       "<Figure size 576x432 with 2 Axes>"
      ]
     },
     "metadata": {},
     "output_type": "display_data"
    }
   ],
   "source": [
    "y_pred_prob = model3.predict(X_val_w)\n",
    "y_pred_class = np.argmax(model3.predict(X_val_w), axis=-1)\n",
    "y_val_integer = np.argmax(y_val_e, axis=1)\n",
    "class_conf(y_val_integer,y_pred_class,labels)"
   ]
  },
  {
   "cell_type": "code",
   "execution_count": 228,
   "id": "67657c43",
   "metadata": {},
   "outputs": [
    {
     "data": {
      "text/html": [
       "<div>\n",
       "<style scoped>\n",
       "    .dataframe tbody tr th:only-of-type {\n",
       "        vertical-align: middle;\n",
       "    }\n",
       "\n",
       "    .dataframe tbody tr th {\n",
       "        vertical-align: top;\n",
       "    }\n",
       "\n",
       "    .dataframe thead th {\n",
       "        text-align: right;\n",
       "    }\n",
       "</style>\n",
       "<table border=\"1\" class=\"dataframe\">\n",
       "  <thead>\n",
       "    <tr style=\"text-align: right;\">\n",
       "      <th></th>\n",
       "      <th>Accuracy</th>\n",
       "      <th>Precision</th>\n",
       "      <th>Recall</th>\n",
       "      <th>F1</th>\n",
       "      <th>ROCAUC</th>\n",
       "    </tr>\n",
       "  </thead>\n",
       "  <tbody>\n",
       "    <tr>\n",
       "      <th>0</th>\n",
       "      <td>0.948679</td>\n",
       "      <td>0.950644</td>\n",
       "      <td>0.948679</td>\n",
       "      <td>0.949027</td>\n",
       "      <td>0.98974</td>\n",
       "    </tr>\n",
       "  </tbody>\n",
       "</table>\n",
       "</div>"
      ],
      "text/plain": [
       "   Accuracy  Precision    Recall        F1   ROCAUC\n",
       "0  0.948679   0.950644  0.948679  0.949027  0.98974"
      ]
     },
     "execution_count": 228,
     "metadata": {},
     "output_type": "execute_result"
    }
   ],
   "source": [
    "results3 = metric_results(y_val_e,y_val_integer,y_pred_class,y_pred_prob)\n",
    "results3"
   ]
  },
  {
   "cell_type": "markdown",
   "id": "eac11f41",
   "metadata": {},
   "source": [
    "## Sentiment Model 4"
   ]
  },
  {
   "cell_type": "code",
   "execution_count": 229,
   "id": "1b025ca2",
   "metadata": {},
   "outputs": [
    {
     "name": "stdout",
     "output_type": "stream",
     "text": [
      "Model: \"sequential_112\"\n",
      "_________________________________________________________________\n",
      "Layer (type)                 Output Shape              Param #   \n",
      "=================================================================\n",
      "embedding_112 (Embedding)    (None, 20, 16)            96000     \n",
      "_________________________________________________________________\n",
      "flatten_112 (Flatten)        (None, 320)               0         \n",
      "_________________________________________________________________\n",
      "dense_326 (Dense)            (None, 128)               41088     \n",
      "_________________________________________________________________\n",
      "dropout_209 (Dropout)        (None, 128)               0         \n",
      "_________________________________________________________________\n",
      "dense_327 (Dense)            (None, 128)               16512     \n",
      "_________________________________________________________________\n",
      "dropout_210 (Dropout)        (None, 128)               0         \n",
      "_________________________________________________________________\n",
      "dense_328 (Dense)            (None, 3)                 387       \n",
      "=================================================================\n",
      "Total params: 153,987\n",
      "Trainable params: 153,987\n",
      "Non-trainable params: 0\n",
      "_________________________________________________________________\n",
      "None\n"
     ]
    }
   ],
   "source": [
    "# Dense model with 2 hidden dense layers and dropout on each\n",
    "model4 = Sequential()\n",
    "model4.add(Embedding(input_dim = input_dim, output_dim = output_dim, input_length=input_length))\n",
    "model4.add(Flatten())\n",
    "model4.add(Dense(128, activation='relu'))\n",
    "model4.add(Dropout(rate=0.5))\n",
    "model4.add(Dense(128, activation='relu'))\n",
    "model4.add(Dropout(rate = 0.5))\n",
    "model4.add(Dense(3, activation='softmax')) \n",
    "model4.compile(optimizer='adam', loss='categorical_crossentropy', metrics=['accuracy'])\n",
    "print(model4.summary())"
   ]
  },
  {
   "cell_type": "code",
   "execution_count": 230,
   "id": "563b1e55",
   "metadata": {},
   "outputs": [],
   "source": [
    "# Set output directory and callbacks (patience set to 5)\n",
    "output_dir = out('model_output/SentimentMultiClass4')\n",
    "callbacks = call(output_dir,5)"
   ]
  },
  {
   "cell_type": "code",
   "execution_count": 231,
   "id": "8d696204",
   "metadata": {},
   "outputs": [
    {
     "name": "stdout",
     "output_type": "stream",
     "text": [
      "Epoch 1/50\n",
      "1325/1325 - 1s - loss: 0.5476 - accuracy: 0.7571 - val_loss: 0.2268 - val_accuracy: 0.9298\n",
      "Epoch 2/50\n",
      "1325/1325 - 1s - loss: 0.1288 - accuracy: 0.9623 - val_loss: 0.1908 - val_accuracy: 0.9464\n",
      "Epoch 3/50\n",
      "1325/1325 - 1s - loss: 0.0384 - accuracy: 0.9910 - val_loss: 0.2026 - val_accuracy: 0.9517\n",
      "Epoch 4/50\n",
      "1325/1325 - 1s - loss: 0.0166 - accuracy: 0.9954 - val_loss: 0.2870 - val_accuracy: 0.9464\n",
      "Epoch 5/50\n",
      "1325/1325 - 1s - loss: 0.0074 - accuracy: 0.9980 - val_loss: 0.2755 - val_accuracy: 0.9532\n",
      "Epoch 6/50\n",
      "1325/1325 - 1s - loss: 0.0117 - accuracy: 0.9968 - val_loss: 0.3193 - val_accuracy: 0.9479\n",
      "Epoch 7/50\n",
      "1325/1325 - 1s - loss: 0.0072 - accuracy: 0.9976 - val_loss: 0.3831 - val_accuracy: 0.9525\n"
     ]
    }
   ],
   "source": [
    "# Model using keras embeddings\n",
    "history = model4.fit(X_train_w,y_train_e,\n",
    "                     epochs=epochs,\n",
    "                     verbose=2,\n",
    "                     callbacks = callbacks,\n",
    "                     validation_data=(X_val_w, y_val_e),\n",
    "                     batch_size=batch_size)"
   ]
  },
  {
   "cell_type": "code",
   "execution_count": 232,
   "id": "1899f570",
   "metadata": {},
   "outputs": [
    {
     "name": "stdout",
     "output_type": "stream",
     "text": [
      "Training Accuracy: 0.9999\n",
      "Testing Accuracy:  0.9525\n"
     ]
    }
   ],
   "source": [
    "# Print training and test accuracies\n",
    "loss, accuracy = model2.evaluate(X_train_w, y_train_e, verbose=False)\n",
    "print(\"Training Accuracy: {:.4f}\".format(accuracy))\n",
    "loss, accuracy = model2.evaluate(X_val_w, y_val_e, verbose=False)\n",
    "print(\"Testing Accuracy:  {:.4f}\".format(accuracy))"
   ]
  },
  {
   "cell_type": "code",
   "execution_count": 233,
   "id": "ee90eac8",
   "metadata": {},
   "outputs": [
    {
     "data": {
      "image/png": "[encoded data removed]",
      "text/plain": [
       "<Figure size 864x360 with 2 Axes>"
      ]
     },
     "metadata": {},
     "output_type": "display_data"
    }
   ],
   "source": [
    "plot_history(history)"
   ]
  },
  {
   "cell_type": "code",
   "execution_count": 234,
   "id": "9c6b89e4",
   "metadata": {},
   "outputs": [],
   "source": [
    "# Load model weights from epoch with best validation accuracy\n",
    "model4.load_weights(output_dir+\"/weights.05.hdf5\")"
   ]
  },
  {
   "cell_type": "code",
   "execution_count": 235,
   "id": "87242d5d",
   "metadata": {},
   "outputs": [
    {
     "name": "stdout",
     "output_type": "stream",
     "text": [
      "              precision    recall  f1-score   support\n",
      "\n",
      "           0       0.97      0.94      0.96       442\n",
      "           1       0.91      0.96      0.94       442\n",
      "           2       0.97      0.95      0.96       441\n",
      "\n",
      "    accuracy                           0.95      1325\n",
      "   macro avg       0.95      0.95      0.95      1325\n",
      "weighted avg       0.95      0.95      0.95      1325\n",
      "\n"
     ]
    },
    {
     "data": {
      "image/png": "[encoded data removed]",
      "text/plain": [
       "<Figure size 576x432 with 2 Axes>"
      ]
     },
     "metadata": {},
     "output_type": "display_data"
    }
   ],
   "source": [
    "y_pred_prob = model4.predict(X_val_w)\n",
    "y_pred_class = np.argmax(model4.predict(X_val_w), axis=-1)\n",
    "y_val_integer = np.argmax(y_val_e, axis=1)\n",
    "class_conf(y_val_integer,y_pred_class,labels)"
   ]
  },
  {
   "cell_type": "code",
   "execution_count": 236,
   "id": "e97f51cd",
   "metadata": {},
   "outputs": [
    {
     "data": {
      "text/html": [
       "<div>\n",
       "<style scoped>\n",
       "    .dataframe tbody tr th:only-of-type {\n",
       "        vertical-align: middle;\n",
       "    }\n",
       "\n",
       "    .dataframe tbody tr th {\n",
       "        vertical-align: top;\n",
       "    }\n",
       "\n",
       "    .dataframe thead th {\n",
       "        text-align: right;\n",
       "    }\n",
       "</style>\n",
       "<table border=\"1\" class=\"dataframe\">\n",
       "  <thead>\n",
       "    <tr style=\"text-align: right;\">\n",
       "      <th></th>\n",
       "      <th>Accuracy</th>\n",
       "      <th>Precision</th>\n",
       "      <th>Recall</th>\n",
       "      <th>F1</th>\n",
       "      <th>ROCAUC</th>\n",
       "    </tr>\n",
       "  </thead>\n",
       "  <tbody>\n",
       "    <tr>\n",
       "      <th>0</th>\n",
       "      <td>0.953208</td>\n",
       "      <td>0.954272</td>\n",
       "      <td>0.953209</td>\n",
       "      <td>0.953422</td>\n",
       "      <td>0.98771</td>\n",
       "    </tr>\n",
       "  </tbody>\n",
       "</table>\n",
       "</div>"
      ],
      "text/plain": [
       "   Accuracy  Precision    Recall        F1   ROCAUC\n",
       "0  0.953208   0.954272  0.953209  0.953422  0.98771"
      ]
     },
     "execution_count": 236,
     "metadata": {},
     "output_type": "execute_result"
    }
   ],
   "source": [
    "results4 = metric_results(y_val_e,y_val_integer,y_pred_class,y_pred_prob)\n",
    "results4"
   ]
  },
  {
   "cell_type": "code",
   "execution_count": 237,
   "id": "6b3e938c",
   "metadata": {},
   "outputs": [],
   "source": [
    "model4.save(\"SentimentMultiNeural.h5\")"
   ]
  },
  {
   "cell_type": "markdown",
   "id": "a97fa68d",
   "metadata": {},
   "source": [
    "##  Sentiment Model 5"
   ]
  },
  {
   "cell_type": "code",
   "execution_count": 238,
   "id": "1b236367",
   "metadata": {},
   "outputs": [
    {
     "name": "stdout",
     "output_type": "stream",
     "text": [
      "Model: \"sequential_113\"\n",
      "_________________________________________________________________\n",
      "Layer (type)                 Output Shape              Param #   \n",
      "=================================================================\n",
      "embedding_113 (Embedding)    (None, 20, 16)            96000     \n",
      "_________________________________________________________________\n",
      "flatten_113 (Flatten)        (None, 320)               0         \n",
      "_________________________________________________________________\n",
      "dense_329 (Dense)            (None, 512)               164352    \n",
      "_________________________________________________________________\n",
      "dropout_211 (Dropout)        (None, 512)               0         \n",
      "_________________________________________________________________\n",
      "dense_330 (Dense)            (None, 256)               131328    \n",
      "_________________________________________________________________\n",
      "dropout_212 (Dropout)        (None, 256)               0         \n",
      "_________________________________________________________________\n",
      "dense_331 (Dense)            (None, 128)               32896     \n",
      "_________________________________________________________________\n",
      "dense_332 (Dense)            (None, 3)                 387       \n",
      "=================================================================\n",
      "Total params: 424,963\n",
      "Trainable params: 424,963\n",
      "Non-trainable params: 0\n",
      "_________________________________________________________________\n",
      "None\n"
     ]
    }
   ],
   "source": [
    "# Dense model with 2 hidden dense layers and dropout on each\n",
    "model5 = Sequential()\n",
    "model5.add(Embedding(input_dim = input_dim, output_dim = output_dim, input_length=input_length))\n",
    "model5.add(Flatten())\n",
    "model5.add(Dense(512, activation='relu'))\n",
    "model5.add(Dropout(rate=0.5))\n",
    "model5.add(Dense(256, activation='relu'))\n",
    "model5.add(Dropout(rate = 0.5))\n",
    "model5.add(Dense(128,activation = 'relu'))\n",
    "model5.add(Dense(3, activation='softmax')) \n",
    "model5.compile(optimizer='adam', loss='categorical_crossentropy', metrics=['accuracy'])\n",
    "print(model5.summary())"
   ]
  },
  {
   "cell_type": "code",
   "execution_count": 239,
   "id": "09033942",
   "metadata": {},
   "outputs": [],
   "source": [
    "# Set output directory and callbacks (patience set to 5)\n",
    "output_dir = out('model_output/SentimentMultiClass5')\n",
    "callbacks = call(output_dir,5)"
   ]
  },
  {
   "cell_type": "code",
   "execution_count": 240,
   "id": "bb881d82",
   "metadata": {},
   "outputs": [
    {
     "name": "stdout",
     "output_type": "stream",
     "text": [
      "Epoch 1/50\n",
      "1325/1325 - 1s - loss: 0.4939 - accuracy: 0.7782 - val_loss: 0.2220 - val_accuracy: 0.9381\n",
      "Epoch 2/50\n",
      "1325/1325 - 1s - loss: 0.1231 - accuracy: 0.9639 - val_loss: 0.1815 - val_accuracy: 0.9464\n",
      "Epoch 3/50\n",
      "1325/1325 - 1s - loss: 0.0365 - accuracy: 0.9897 - val_loss: 0.2398 - val_accuracy: 0.9517\n",
      "Epoch 4/50\n",
      "1325/1325 - 1s - loss: 0.0203 - accuracy: 0.9944 - val_loss: 0.3123 - val_accuracy: 0.9547\n",
      "Epoch 5/50\n",
      "1325/1325 - 1s - loss: 0.0104 - accuracy: 0.9965 - val_loss: 0.3698 - val_accuracy: 0.9502\n",
      "Epoch 6/50\n",
      "1325/1325 - 1s - loss: 0.0133 - accuracy: 0.9963 - val_loss: 0.3533 - val_accuracy: 0.9472\n",
      "Epoch 7/50\n",
      "1325/1325 - 1s - loss: 0.0110 - accuracy: 0.9972 - val_loss: 0.4140 - val_accuracy: 0.9509\n"
     ]
    }
   ],
   "source": [
    "# Model using keras embeddings\n",
    "history = model5.fit(X_train_w,y_train_e,\n",
    "                     epochs=epochs,\n",
    "                     verbose=2,\n",
    "                     callbacks = callbacks,\n",
    "                     validation_data=(X_val_w, y_val_e),\n",
    "                     batch_size=batch_size)"
   ]
  },
  {
   "cell_type": "code",
   "execution_count": 241,
   "id": "c64d75bd",
   "metadata": {},
   "outputs": [
    {
     "name": "stdout",
     "output_type": "stream",
     "text": [
      "Training Accuracy: 0.9991\n",
      "Testing Accuracy:  0.9509\n"
     ]
    }
   ],
   "source": [
    "# Print training and test accuracies\n",
    "loss, accuracy = model5.evaluate(X_train_w, y_train_e, verbose=False)\n",
    "print(\"Training Accuracy: {:.4f}\".format(accuracy))\n",
    "loss, accuracy = model5.evaluate(X_val_w, y_val_e, verbose=False)\n",
    "print(\"Testing Accuracy:  {:.4f}\".format(accuracy))"
   ]
  },
  {
   "cell_type": "code",
   "execution_count": 242,
   "id": "3027a7bd",
   "metadata": {},
   "outputs": [
    {
     "data": {
      "image/png": "[encoded data removed]",
      "text/plain": [
       "<Figure size 864x360 with 2 Axes>"
      ]
     },
     "metadata": {},
     "output_type": "display_data"
    }
   ],
   "source": [
    "plot_history(history)"
   ]
  },
  {
   "cell_type": "code",
   "execution_count": 243,
   "id": "5bbe728e",
   "metadata": {},
   "outputs": [],
   "source": [
    "# Load model weights from epoch with best validation accuracy\n",
    "model5.load_weights(output_dir+\"/weights.04.hdf5\")"
   ]
  },
  {
   "cell_type": "code",
   "execution_count": 244,
   "id": "72f64d36",
   "metadata": {},
   "outputs": [
    {
     "name": "stdout",
     "output_type": "stream",
     "text": [
      "              precision    recall  f1-score   support\n",
      "\n",
      "           0       0.97      0.94      0.96       442\n",
      "           1       0.91      0.98      0.94       442\n",
      "           2       0.99      0.95      0.97       441\n",
      "\n",
      "    accuracy                           0.95      1325\n",
      "   macro avg       0.96      0.95      0.96      1325\n",
      "weighted avg       0.96      0.95      0.96      1325\n",
      "\n"
     ]
    },
    {
     "data": {
      "image/png": "[encoded data removed]",
      "text/plain": [
       "<Figure size 576x432 with 2 Axes>"
      ]
     },
     "metadata": {},
     "output_type": "display_data"
    }
   ],
   "source": [
    "y_pred_prob = model5.predict(X_val_w)\n",
    "y_pred_class = np.argmax(model5.predict(X_val_w), axis=-1)\n",
    "y_val_integer = np.argmax(y_val_e, axis=1)\n",
    "class_conf(y_val_integer,y_pred_class,labels)"
   ]
  },
  {
   "cell_type": "code",
   "execution_count": 245,
   "id": "57c5960d",
   "metadata": {},
   "outputs": [
    {
     "data": {
      "text/html": [
       "<div>\n",
       "<style scoped>\n",
       "    .dataframe tbody tr th:only-of-type {\n",
       "        vertical-align: middle;\n",
       "    }\n",
       "\n",
       "    .dataframe tbody tr th {\n",
       "        vertical-align: top;\n",
       "    }\n",
       "\n",
       "    .dataframe thead th {\n",
       "        text-align: right;\n",
       "    }\n",
       "</style>\n",
       "<table border=\"1\" class=\"dataframe\">\n",
       "  <thead>\n",
       "    <tr style=\"text-align: right;\">\n",
       "      <th></th>\n",
       "      <th>Accuracy</th>\n",
       "      <th>Precision</th>\n",
       "      <th>Recall</th>\n",
       "      <th>F1</th>\n",
       "      <th>ROCAUC</th>\n",
       "    </tr>\n",
       "  </thead>\n",
       "  <tbody>\n",
       "    <tr>\n",
       "      <th>0</th>\n",
       "      <td>0.954717</td>\n",
       "      <td>0.956728</td>\n",
       "      <td>0.954714</td>\n",
       "      <td>0.955042</td>\n",
       "      <td>0.985968</td>\n",
       "    </tr>\n",
       "  </tbody>\n",
       "</table>\n",
       "</div>"
      ],
      "text/plain": [
       "   Accuracy  Precision    Recall        F1    ROCAUC\n",
       "0  0.954717   0.956728  0.954714  0.955042  0.985968"
      ]
     },
     "execution_count": 245,
     "metadata": {},
     "output_type": "execute_result"
    }
   ],
   "source": [
    "results5 = metric_results(y_val_e,y_val_integer,y_pred_class,y_pred_prob)\n",
    "results5"
   ]
  },
  {
   "cell_type": "code",
   "execution_count": 256,
   "id": "00b13371",
   "metadata": {},
   "outputs": [],
   "source": [
    "model5.save(\"SentimentMultiNeuralb.h5\")"
   ]
  },
  {
   "cell_type": "markdown",
   "id": "1fa88d69",
   "metadata": {},
   "source": [
    "# Section 4: Summary of results"
   ]
  },
  {
   "cell_type": "code",
   "execution_count": 247,
   "id": "ac9417e5",
   "metadata": {},
   "outputs": [
    {
     "data": {
      "text/html": [
       "<div>\n",
       "<style scoped>\n",
       "    .dataframe tbody tr th:only-of-type {\n",
       "        vertical-align: middle;\n",
       "    }\n",
       "\n",
       "    .dataframe tbody tr th {\n",
       "        vertical-align: top;\n",
       "    }\n",
       "\n",
       "    .dataframe thead th {\n",
       "        text-align: right;\n",
       "    }\n",
       "</style>\n",
       "<table border=\"1\" class=\"dataframe\">\n",
       "  <thead>\n",
       "    <tr style=\"text-align: right;\">\n",
       "      <th></th>\n",
       "      <th>Accuracy</th>\n",
       "      <th>Precision</th>\n",
       "      <th>Recall</th>\n",
       "      <th>F1</th>\n",
       "      <th>ROCAUC</th>\n",
       "    </tr>\n",
       "  </thead>\n",
       "  <tbody>\n",
       "    <tr>\n",
       "      <th>Model5</th>\n",
       "      <td>0.954717</td>\n",
       "      <td>0.956728</td>\n",
       "      <td>0.954714</td>\n",
       "      <td>0.955042</td>\n",
       "      <td>0.985968</td>\n",
       "    </tr>\n",
       "    <tr>\n",
       "      <th>Model4</th>\n",
       "      <td>0.953208</td>\n",
       "      <td>0.954272</td>\n",
       "      <td>0.953209</td>\n",
       "      <td>0.953422</td>\n",
       "      <td>0.987710</td>\n",
       "    </tr>\n",
       "    <tr>\n",
       "      <th>Model2</th>\n",
       "      <td>0.952453</td>\n",
       "      <td>0.954715</td>\n",
       "      <td>0.952454</td>\n",
       "      <td>0.952711</td>\n",
       "      <td>0.988624</td>\n",
       "    </tr>\n",
       "    <tr>\n",
       "      <th>Model3</th>\n",
       "      <td>0.948679</td>\n",
       "      <td>0.950644</td>\n",
       "      <td>0.948679</td>\n",
       "      <td>0.949027</td>\n",
       "      <td>0.989740</td>\n",
       "    </tr>\n",
       "    <tr>\n",
       "      <th>Model1</th>\n",
       "      <td>0.947170</td>\n",
       "      <td>0.950970</td>\n",
       "      <td>0.947163</td>\n",
       "      <td>0.947619</td>\n",
       "      <td>0.986627</td>\n",
       "    </tr>\n",
       "  </tbody>\n",
       "</table>\n",
       "</div>"
      ],
      "text/plain": [
       "        Accuracy  Precision    Recall        F1    ROCAUC\n",
       "Model5  0.954717   0.956728  0.954714  0.955042  0.985968\n",
       "Model4  0.953208   0.954272  0.953209  0.953422  0.987710\n",
       "Model2  0.952453   0.954715  0.952454  0.952711  0.988624\n",
       "Model3  0.948679   0.950644  0.948679  0.949027  0.989740\n",
       "Model1  0.947170   0.950970  0.947163  0.947619  0.986627"
      ]
     },
     "execution_count": 247,
     "metadata": {},
     "output_type": "execute_result"
    }
   ],
   "source": [
    "models = [\"Model1\",\"Model2\",\"Model3\",\"Model4\",\"Model5\"]\n",
    "summary_table = pd.concat([results1,results2,results3,results4,results5])\n",
    "summary_table.set_index([models],inplace = True)\n",
    "summary_table.to_csv(\"results_sentiment.csv\")\n",
    "summary_table.sort_values(by = \"Accuracy\",ascending = False)"
   ]
  },
  {
   "cell_type": "markdown",
   "id": "992b7814",
   "metadata": {},
   "source": [
    "# Section 5: Hyperparameter Tuning of the Best Model"
   ]
  },
  {
   "cell_type": "code",
   "execution_count": 250,
   "id": "fec27e06",
   "metadata": {},
   "outputs": [],
   "source": [
    "def create_model_finalmulti(learning_rate, initializer, dropout_rate, activation):\n",
    "    \n",
    "    model = Sequential()\n",
    "    model.add(Embedding(input_dim = input_dim, output_dim = output_dim, input_length=input_length))\n",
    "    model.add(Flatten())\n",
    "    model.add(Dense(128, activation=activation,kernel_initializer=initializer ))\n",
    "    model.add(Dropout(rate=dropout_rate))\n",
    "    model.add(Dense(128, activation=activation))\n",
    "    model.add(Dropout(rate = dropout_rate))\n",
    "    model.add(Dense(3, activation='softmax')) \n",
    "    opt = keras.optimizers.Adam(learning_rate = learning_rate)\n",
    "    model.compile(optimizer=opt, loss='categorical_crossentropy', metrics=['accuracy'])\n",
    "    return model\n",
    "\n",
    "model = KerasClassifier(build_fn = create_model_finalmulti,verbose = 0)"
   ]
  },
  {
   "cell_type": "code",
   "execution_count": 253,
   "id": "2d6a7b40",
   "metadata": {},
   "outputs": [
    {
     "data": {
      "text/plain": [
       "RandomizedSearchCV(cv=3,\n",
       "                   estimator=<tensorflow.python.keras.wrappers.scikit_learn.KerasClassifier object at 0x000001FEC87B5F48>,\n",
       "                   param_distributions={'activation': ['softmax', 'softplus',\n",
       "                                                       'softsign', 'relu',\n",
       "                                                       'tanh', 'sigmoid',\n",
       "                                                       'hard_sigmoid',\n",
       "                                                       'linear'],\n",
       "                                        'batch_size': [8, 16, 32],\n",
       "                                        'dropout_rate': [0.0, 0.1, 0.2, 0.3,\n",
       "                                                         0.4, 0.5, 0.6, 0.7,\n",
       "                                                         0.8, 0.9],\n",
       "                                        'initializer': ['uniform',\n",
       "                                                        'lecun_uniform',\n",
       "                                                        'normal', 'zero',\n",
       "                                                        'glorot_normal',\n",
       "                                                        'glorot_uniform',\n",
       "                                                        'he_normal',\n",
       "                                                        'he_uniform'],\n",
       "                                        'learning_rate': [0.001, 0.01, 0.1]})"
      ]
     },
     "execution_count": 253,
     "metadata": {},
     "output_type": "execute_result"
    }
   ],
   "source": [
    "learning_rate = [0.001, 0.01, 0.1]\n",
    "initializer = ['uniform', 'lecun_uniform', 'normal', 'zero', 'glorot_normal', 'glorot_uniform', 'he_normal', 'he_uniform']\n",
    "dropout_rate = [0.0, 0.1, 0.2, 0.3, 0.4, 0.5, 0.6, 0.7, 0.8, 0.9]\n",
    "batch_size = [8,16,32]\n",
    "activation = ['softmax', 'softplus', 'softsign', 'relu', 'tanh', 'sigmoid', 'hard_sigmoid', 'linear']\n",
    "param_distribs = {\"learning_rate\":learning_rate, \"initializer\":initializer,\"batch_size\":batch_size,\n",
    "                  \"dropout_rate\" :dropout_rate, \"activation\":activation}\n",
    "clf = RandomizedSearchCV(model, param_distribs, cv = 3)\n",
    "clf.fit(X_train_w, y_train_e)"
   ]
  },
  {
   "cell_type": "code",
   "execution_count": 255,
   "id": "383a5aad",
   "metadata": {},
   "outputs": [
    {
     "name": "stdout",
     "output_type": "stream",
     "text": [
      "0.8959041039148966 {'learning_rate': 0.001, 'initializer': 'uniform', 'dropout_rate': 0.0, 'batch_size': 8, 'activation': 'tanh'}\n",
      "0.32550018032391864 {'learning_rate': 0.001, 'initializer': 'glorot_normal', 'dropout_rate': 0.9, 'batch_size': 8, 'activation': 'softmax'}\n",
      "0.793035089969635 {'learning_rate': 0.01, 'initializer': 'zero', 'dropout_rate': 0.8, 'batch_size': 8, 'activation': 'linear'}\n",
      "0.33484333753585815 {'learning_rate': 0.1, 'initializer': 'glorot_normal', 'dropout_rate': 0.9, 'batch_size': 8, 'activation': 'relu'}\n",
      "0.33050207297007245 {'learning_rate': 0.1, 'initializer': 'he_uniform', 'dropout_rate': 0.7, 'batch_size': 8, 'activation': 'tanh'}\n",
      "0.33050207297007245 {'learning_rate': 0.1, 'initializer': 'lecun_uniform', 'dropout_rate': 0.7, 'batch_size': 32, 'activation': 'sigmoid'}\n",
      "0.8959041039148966 {'learning_rate': 0.001, 'initializer': 'uniform', 'dropout_rate': 0.0, 'batch_size': 8, 'activation': 'tanh'}\n",
      "0.6283503373463949 {'learning_rate': 0.001, 'initializer': 'glorot_normal', 'dropout_rate': 0.2, 'batch_size': 32, 'activation': 'sigmoid'}\n",
      "0.7576443950335184 {'learning_rate': 0.01, 'initializer': 'glorot_normal', 'dropout_rate': 0.5, 'batch_size': 16, 'activation': 'softmax'}\n",
      "0.32833144068717957 {'learning_rate': 0.1, 'initializer': 'he_uniform', 'dropout_rate': 0.2, 'batch_size': 32, 'activation': 'tanh'}\n",
      "0.33323895931243896 {'learning_rate': 0.1, 'initializer': 'lecun_uniform', 'dropout_rate': 0.0, 'batch_size': 16, 'activation': 'sigmoid'}\n"
     ]
    }
   ],
   "source": [
    "print(clf.best_score_, clf.best_params_)\n",
    "means = clf.cv_results_['mean_test_score']\n",
    "parameters = clf.cv_results_['params']\n",
    "for mean, parameter in zip(means, parameters):\n",
    "    print(mean,parameter)"
   ]
  },
  {
   "cell_type": "code",
   "execution_count": 262,
   "id": "7d34ce07",
   "metadata": {},
   "outputs": [
    {
     "name": "stdout",
     "output_type": "stream",
     "text": [
      "              precision    recall  f1-score   support\n",
      "\n",
      "           0       0.96      0.92      0.94       441\n",
      "           1       0.90      0.96      0.93       441\n",
      "           2       0.98      0.96      0.97       442\n",
      "\n",
      "    accuracy                           0.95      1324\n",
      "   macro avg       0.95      0.95      0.95      1324\n",
      "weighted avg       0.95      0.95      0.95      1324\n",
      "\n"
     ]
    },
    {
     "data": {
      "image/png": "[encoded data removed]",
      "text/plain": [
       "<Figure size 576x432 with 2 Axes>"
      ]
     },
     "metadata": {},
     "output_type": "display_data"
    }
   ],
   "source": [
    "model5.load_weights('model_output/SentimentMulticlass5/weights.05.hdf5')\n",
    "y_pred_prob = model5.predict(X_test_w)\n",
    "y_pred_class = np.argmax(model5.predict(X_test_w), axis=-1)\n",
    "y_test_integer = np.argmax(y_test_e, axis=1)\n",
    "class_conf(y_test_integer,y_pred_class,labels)"
   ]
  },
  {
   "cell_type": "code",
   "execution_count": 265,
   "id": "9673b376",
   "metadata": {},
   "outputs": [
    {
     "data": {
      "text/html": [
       "<div>\n",
       "<style scoped>\n",
       "    .dataframe tbody tr th:only-of-type {\n",
       "        vertical-align: middle;\n",
       "    }\n",
       "\n",
       "    .dataframe tbody tr th {\n",
       "        vertical-align: top;\n",
       "    }\n",
       "\n",
       "    .dataframe thead th {\n",
       "        text-align: right;\n",
       "    }\n",
       "</style>\n",
       "<table border=\"1\" class=\"dataframe\">\n",
       "  <thead>\n",
       "    <tr style=\"text-align: right;\">\n",
       "      <th></th>\n",
       "      <th>Accuracy</th>\n",
       "      <th>Precision</th>\n",
       "      <th>Recall</th>\n",
       "      <th>F1</th>\n",
       "      <th>ROCAUC</th>\n",
       "    </tr>\n",
       "  </thead>\n",
       "  <tbody>\n",
       "    <tr>\n",
       "      <th>Multi-class Sentiment NN Model 5</th>\n",
       "      <td>0.94713</td>\n",
       "      <td>0.948632</td>\n",
       "      <td>0.947119</td>\n",
       "      <td>0.947358</td>\n",
       "      <td>0.982634</td>\n",
       "    </tr>\n",
       "  </tbody>\n",
       "</table>\n",
       "</div>"
      ],
      "text/plain": [
       "                                  Accuracy  Precision    Recall        F1  \\\n",
       "Multi-class Sentiment NN Model 5   0.94713   0.948632  0.947119  0.947358   \n",
       "\n",
       "                                    ROCAUC  \n",
       "Multi-class Sentiment NN Model 5  0.982634  "
      ]
     },
     "execution_count": 265,
     "metadata": {},
     "output_type": "execute_result"
    }
   ],
   "source": [
    "results6= metric_results(y_test_e,y_test_integer,y_pred_class,y_pred_prob)\n",
    "results6.index = [\"Multi-class Sentiment NN Model 5\"]\n",
    "results6"
   ]
  }
 ],
 "metadata": {
  "kernelspec": {
   "display_name": "Python 3",
   "language": "python",
   "name": "python3"
  },
  "language_info": {
   "codemirror_mode": {
    "name": "ipython",
    "version": 3
   },
   "file_extension": ".py",
   "mimetype": "text/x-python",
   "name": "python",
   "nbconvert_exporter": "python",
   "pygments_lexer": "ipython3",
   "version": "3.7.10"
  }
 },
 "nbformat": 4,
 "nbformat_minor": 5
}
