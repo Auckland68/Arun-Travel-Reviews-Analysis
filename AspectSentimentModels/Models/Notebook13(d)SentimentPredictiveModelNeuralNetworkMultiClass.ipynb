{
 "cells": [
  {
   "cell_type": "markdown",
   "id": "17ef2c61",
   "metadata": {},
   "source": [
    "# Notebook 13 d) Multi-class Sentiment Model Using Neural Networks"
   ]
  },
  {
   "cell_type": "markdown",
   "id": "7e77c17f",
   "metadata": {},
   "source": [
    "This notebook seeks to train a MULTI-CLASS model to predict sentiment on the full dataset based only on the noun phrases previously extracted but using neural network models instead of machine learning.\n",
    "\n",
    "* Section 1 - Import libraries and data\n",
    "* Section 2 - Data preprocessing\n",
    "* Section 3 - Building a sentiment model (Models 1 to 5 based on the best simple networks from Notebook 8)\n",
    "* Section 4 - Summary results table\n",
    "\n",
    "NOTE: Cross validation could not be run on this dataset as it is too resource-intensive. Only a hold-out set is used for evaluation.\n",
    "\n",
    "Datasets need to run file:\n",
    "* combined_sentiment.csv\n",
    "* combined_sentiment_test.csv\n",
    "\n",
    "Models saved to:\n",
    "* SentimentModels1\n",
    "* SentimentModels2\n",
    "* SentimentModels3\n",
    "* SentimentModels4\n",
    "* SentimentModels5\n",
    "\n",
    "Final results:\n",
    "\n",
    "* results_sentiment.csv\n"
   ]
  },
  {
   "cell_type": "markdown",
   "id": "f25289f1",
   "metadata": {},
   "source": [
    "# Section 1: Import libraries and data"
   ]
  },
  {
   "cell_type": "code",
   "execution_count": 355,
   "id": "2b60828d",
   "metadata": {},
   "outputs": [],
   "source": [
    "import pandas as pd\n",
    "import numpy as np\n",
    "\n",
    "from sklearn import preprocessing\n",
    "from sklearn.preprocessing import LabelBinarizer\n",
    "from sklearn.model_selection import StratifiedKFold\n",
    "import keras\n",
    "from keras.wrappers.scikit_learn import KerasClassifier\n",
    "from keras.models import Sequential\n",
    "from keras.layers import Dense,Flatten,Embedding,LSTM,Dropout,SpatialDropout1D,Conv1D,GlobalMaxPooling1D,SimpleRNN,LSTM,GRU,Bidirectional\n",
    "from keras.preprocessing.text import Tokenizer\n",
    "from keras.preprocessing.sequence import pad_sequences\n",
    "from keras.callbacks import EarlyStopping,ModelCheckpoint\n",
    "from keras.utils import to_categorical\n",
    "from matplotlib import pyplot as plt\n",
    "import seaborn as sns\n",
    "sns.set()\n",
    "import imblearn\n",
    "from imblearn.over_sampling import SMOTE\n",
    "from sklearn.model_selection import RandomizedSearchCV\n",
    "import os\n",
    "import pickle\n",
    "\n",
    "import nltk\n",
    "from nltk.corpus import stopwords\n",
    "from sklearn.model_selection import train_test_split,cross_val_score\n",
    "from sklearn.metrics import accuracy_score,roc_auc_score,precision_score,recall_score,f1_score,confusion_matrix,classification_report\n",
    "from sklearn.utils import class_weight\n",
    "\n",
    "import warnings\n",
    "warnings.filterwarnings('ignore')"
   ]
  },
  {
   "cell_type": "code",
   "execution_count": 356,
   "id": "25ded65a",
   "metadata": {},
   "outputs": [],
   "source": [
    "# Bring in training and test sets from Notebook 11 (visualising topic models)\n",
    "df_train = pd.read_csv(\"combined_sentiment.csv\",index_col = 0)\n",
    "df_test = pd.read_csv(\"combined_sentiment_test.csv\",index_col = 0)"
   ]
  },
  {
   "cell_type": "code",
   "execution_count": 357,
   "id": "1622c464",
   "metadata": {},
   "outputs": [
    {
     "data": {
      "text/plain": [
       "(73027, 15)"
      ]
     },
     "execution_count": 357,
     "metadata": {},
     "output_type": "execute_result"
    }
   ],
   "source": [
    "# Combine train and test set\n",
    "df_combined_all = pd.concat([df_train, df_test],axis = 0,ignore_index = True)\n",
    "df_combined_all.shape"
   ]
  },
  {
   "cell_type": "markdown",
   "id": "61098084",
   "metadata": {},
   "source": [
    "# Section 2: Data preprocessing"
   ]
  },
  {
   "cell_type": "code",
   "execution_count": 358,
   "id": "cfc1d2a1",
   "metadata": {},
   "outputs": [],
   "source": [
    "# Choose columns, replace incorrect category label and relabel columns\n",
    "df_train = df_train[[\"OrigInd\",\"Category\",\"noun_phrases\",\"Topic Count\",\"Sentiment\",\"Score\"]]\n",
    "df_train.columns = [\"OrigInd\",\"Category\",\"Noun Phrases\",\"Aspect\",\"Sentiment\",\"Polarity\"]\n",
    "df_test = df_test[[\"OrigInd\",\"Category\",\"noun_phrases\",\"Topic\",\"Sentiment\",\"Score\"]]\n",
    "df_test[\"Category\"].replace({\"Attract\": \"Attractions\"}, inplace=True)\n",
    "df_test.columns = [\"OrigInd\",\"Category\",\"Noun Phrases\",\"Aspect\",\"Sentiment\",\"Polarity\"]"
   ]
  },
  {
   "cell_type": "code",
   "execution_count": 359,
   "id": "b392c9ad",
   "metadata": {},
   "outputs": [
    {
     "data": {
      "text/plain": [
       "Food             40587\n",
       "Accommodation    24670\n",
       "Attractions       7560\n",
       "Attract            210\n",
       "Name: Category, dtype: int64"
      ]
     },
     "execution_count": 359,
     "metadata": {},
     "output_type": "execute_result"
    }
   ],
   "source": [
    "# Get Category distribution\n",
    "df_combined_all[\"Category\"].value_counts()"
   ]
  },
  {
   "cell_type": "code",
   "execution_count": 360,
   "id": "accb4184",
   "metadata": {},
   "outputs": [
    {
     "data": {
      "text/html": [
       "<div>\n",
       "<style scoped>\n",
       "    .dataframe tbody tr th:only-of-type {\n",
       "        vertical-align: middle;\n",
       "    }\n",
       "\n",
       "    .dataframe tbody tr th {\n",
       "        vertical-align: top;\n",
       "    }\n",
       "\n",
       "    .dataframe thead th {\n",
       "        text-align: right;\n",
       "    }\n",
       "</style>\n",
       "<table border=\"1\" class=\"dataframe\">\n",
       "  <thead>\n",
       "    <tr style=\"text-align: right;\">\n",
       "      <th></th>\n",
       "      <th>Unnamed: 0.1</th>\n",
       "      <th>OrigInd</th>\n",
       "      <th>Category</th>\n",
       "      <th>Town</th>\n",
       "      <th>Rating</th>\n",
       "      <th>all_text</th>\n",
       "      <th>cleaned</th>\n",
       "      <th>noun_phrases</th>\n",
       "      <th>nouns</th>\n",
       "      <th>Topic Count</th>\n",
       "      <th>Topic TFIDF</th>\n",
       "      <th>Sentiment</th>\n",
       "      <th>Score</th>\n",
       "      <th>Sentence</th>\n",
       "      <th>Topic</th>\n",
       "    </tr>\n",
       "  </thead>\n",
       "  <tbody>\n",
       "    <tr>\n",
       "      <th>0</th>\n",
       "      <td>0</td>\n",
       "      <td>0</td>\n",
       "      <td>Accommodation</td>\n",
       "      <td>Bognor</td>\n",
       "      <td>4</td>\n",
       "      <td>Nice break, shame about the accommodation... W...</td>\n",
       "      <td>nice break shame accommodation booked night st...</td>\n",
       "      <td>shame accommodation</td>\n",
       "      <td>['shame', 'accommodation']</td>\n",
       "      <td>VFM</td>\n",
       "      <td>VisitExp</td>\n",
       "      <td>-0.4767</td>\n",
       "      <td>negative</td>\n",
       "      <td>NaN</td>\n",
       "      <td>NaN</td>\n",
       "    </tr>\n",
       "    <tr>\n",
       "      <th>1</th>\n",
       "      <td>1</td>\n",
       "      <td>0</td>\n",
       "      <td>Accommodation</td>\n",
       "      <td>Bognor</td>\n",
       "      <td>4</td>\n",
       "      <td>Nice break, shame about the accommodation... W...</td>\n",
       "      <td>nice break shame accommodation booked night st...</td>\n",
       "      <td>night stay december post-christmas</td>\n",
       "      <td>['night', 'post-christmas']</td>\n",
       "      <td>Hotel Location</td>\n",
       "      <td>Restaurant</td>\n",
       "      <td>0.0000</td>\n",
       "      <td>neutral</td>\n",
       "      <td>NaN</td>\n",
       "      <td>NaN</td>\n",
       "    </tr>\n",
       "  </tbody>\n",
       "</table>\n",
       "</div>"
      ],
      "text/plain": [
       "   Unnamed: 0.1  OrigInd       Category    Town  Rating  \\\n",
       "0             0        0  Accommodation  Bognor       4   \n",
       "1             1        0  Accommodation  Bognor       4   \n",
       "\n",
       "                                            all_text  \\\n",
       "0  Nice break, shame about the accommodation... W...   \n",
       "1  Nice break, shame about the accommodation... W...   \n",
       "\n",
       "                                             cleaned  \\\n",
       "0  nice break shame accommodation booked night st...   \n",
       "1  nice break shame accommodation booked night st...   \n",
       "\n",
       "                         noun_phrases                        nouns  \\\n",
       "0                 shame accommodation   ['shame', 'accommodation']   \n",
       "1  night stay december post-christmas  ['night', 'post-christmas']   \n",
       "\n",
       "      Topic Count Topic TFIDF  Sentiment     Score Sentence Topic  \n",
       "0             VFM    VisitExp    -0.4767  negative      NaN   NaN  \n",
       "1  Hotel Location  Restaurant     0.0000   neutral      NaN   NaN  "
      ]
     },
     "execution_count": 360,
     "metadata": {},
     "output_type": "execute_result"
    }
   ],
   "source": [
    "df_combined_all.head(2)"
   ]
  },
  {
   "cell_type": "code",
   "execution_count": 361,
   "id": "d99be24b",
   "metadata": {},
   "outputs": [
    {
     "data": {
      "text/plain": [
       "neutral     39099\n",
       "positive    29513\n",
       "negative     4415\n",
       "Name: Score, dtype: int64"
      ]
     },
     "execution_count": 361,
     "metadata": {},
     "output_type": "execute_result"
    }
   ],
   "source": [
    "# Get Polarity distribution\n",
    "df_combined_all[\"Score\"].value_counts()"
   ]
  },
  {
   "cell_type": "code",
   "execution_count": 362,
   "id": "cefecc1a",
   "metadata": {},
   "outputs": [
    {
     "data": {
      "text/plain": [
       "<BarContainer object of 3 artists>"
      ]
     },
     "execution_count": 362,
     "metadata": {},
     "output_type": "execute_result"
    },
    {
     "data": {
      "image/png": "[encoded data removed]",
      "text/plain": [
       "<Figure size 432x288 with 1 Axes>"
      ]
     },
     "metadata": {},
     "output_type": "display_data"
    }
   ],
   "source": [
    "# Distribution of polarities\n",
    "sent = pd.DataFrame(df_combined_all[\"Score\"].value_counts())\n",
    "plt.bar(sent.index,sent[\"Score\"])"
   ]
  },
  {
   "cell_type": "code",
   "execution_count": 363,
   "id": "3b2fc7e9",
   "metadata": {},
   "outputs": [
    {
     "data": {
      "text/plain": [
       " 0    39099\n",
       " 1    29513\n",
       "-1     4415\n",
       "Name: Score, dtype: int64"
      ]
     },
     "execution_count": 363,
     "metadata": {},
     "output_type": "execute_result"
    }
   ],
   "source": [
    "df_combined_all[\"Score\"].replace({\"positive\": 1,\"negative\":-1,\"neutral\":0}, inplace=True)\n",
    "df_combined_all[\"Score\"].value_counts()"
   ]
  },
  {
   "cell_type": "code",
   "execution_count": 364,
   "id": "40732251",
   "metadata": {},
   "outputs": [
    {
     "name": "stdout",
     "output_type": "stream",
     "text": [
      "(4415, 15) (4415, 15) (4415, 15)\n"
     ]
    }
   ],
   "source": [
    "pos_sampled = df_combined_all[df_combined_all[\"Score\"] == 1].sample(4415)\n",
    "neutral_sampled = df_combined_all[df_combined_all[\"Score\"] == 0].sample(4415)\n",
    "negative = df_combined_all[df_combined_all[\"Score\"] == -1]\n",
    "print(pos_sampled.shape, neutral_sampled.shape,negative.shape)"
   ]
  },
  {
   "cell_type": "code",
   "execution_count": 365,
   "id": "b80808bb",
   "metadata": {},
   "outputs": [
    {
     "data": {
      "text/plain": [
       "(13245, 15)"
      ]
     },
     "execution_count": 365,
     "metadata": {},
     "output_type": "execute_result"
    }
   ],
   "source": [
    "df_combined_all = pd.concat([pos_sampled, neutral_sampled,negative], axis = 0, ignore_index = True)\n",
    "df_combined_all.shape"
   ]
  },
  {
   "cell_type": "code",
   "execution_count": 366,
   "id": "6e1da31a",
   "metadata": {},
   "outputs": [
    {
     "data": {
      "text/plain": [
       "<BarContainer object of 3 artists>"
      ]
     },
     "execution_count": 366,
     "metadata": {},
     "output_type": "execute_result"
    },
    {
     "data": {
      "image/png": "[encoded data removed]",
      "text/plain": [
       "<Figure size 432x288 with 1 Axes>"
      ]
     },
     "metadata": {},
     "output_type": "display_data"
    }
   ],
   "source": [
    "# Distribution of polarities\n",
    "sent = pd.DataFrame(df_combined_all[\"Score\"].value_counts())\n",
    "plt.bar(sent.index,sent[\"Score\"])"
   ]
  },
  {
   "cell_type": "markdown",
   "id": "884a18d8",
   "metadata": {},
   "source": [
    "## Define X and y and split into training, valuation and test sets"
   ]
  },
  {
   "cell_type": "code",
   "execution_count": 367,
   "id": "15537c2f",
   "metadata": {},
   "outputs": [],
   "source": [
    "X = df_combined_all[\"noun_phrases\"]\n",
    "y = df_combined_all[\"Score\"]"
   ]
  },
  {
   "cell_type": "code",
   "execution_count": 368,
   "id": "cd6ddc98",
   "metadata": {},
   "outputs": [],
   "source": [
    "# Train, validation, test split\n",
    "X_train, X_test, y_train, y_test = train_test_split(X,y, stratify = y,test_size=0.2, shuffle = True)\n",
    "X_test, X_val, y_test, y_val = train_test_split(X_test, y_test, stratify = y_test,test_size=0.50, shuffle = True) "
   ]
  },
  {
   "cell_type": "code",
   "execution_count": 369,
   "id": "5019d176",
   "metadata": {},
   "outputs": [
    {
     "name": "stdout",
     "output_type": "stream",
     "text": [
      "(10596,) (1325,) (1324,) (10596,) (1325,) (1324,)\n"
     ]
    }
   ],
   "source": [
    "print(X_train.shape,X_val.shape,X_test.shape,y_train.shape,y_val.shape,y_test.shape)"
   ]
  },
  {
   "cell_type": "code",
   "execution_count": 370,
   "id": "cc6bc74e",
   "metadata": {},
   "outputs": [
    {
     "data": {
      "text/plain": [
       " 0    3532\n",
       " 1    3532\n",
       "-1    3532\n",
       "Name: Score, dtype: int64"
      ]
     },
     "execution_count": 370,
     "metadata": {},
     "output_type": "execute_result"
    }
   ],
   "source": [
    "y_train.value_counts()"
   ]
  },
  {
   "cell_type": "code",
   "execution_count": 371,
   "id": "b61ba2a4",
   "metadata": {},
   "outputs": [
    {
     "data": {
      "text/plain": [
       "-1    442\n",
       " 0    442\n",
       " 1    441\n",
       "Name: Score, dtype: int64"
      ]
     },
     "execution_count": 371,
     "metadata": {},
     "output_type": "execute_result"
    }
   ],
   "source": [
    "y_val.value_counts()"
   ]
  },
  {
   "cell_type": "code",
   "execution_count": 372,
   "id": "eea55e76",
   "metadata": {},
   "outputs": [
    {
     "data": {
      "text/plain": [
       " 1    442\n",
       "-1    441\n",
       " 0    441\n",
       "Name: Score, dtype: int64"
      ]
     },
     "execution_count": 372,
     "metadata": {},
     "output_type": "execute_result"
    }
   ],
   "source": [
    "y_test.value_counts()"
   ]
  },
  {
   "cell_type": "markdown",
   "id": "7b246efc",
   "metadata": {},
   "source": [
    "## Distribution of noun phrases"
   ]
  },
  {
   "cell_type": "code",
   "execution_count": 373,
   "id": "99ee6196",
   "metadata": {},
   "outputs": [
    {
     "data": {
      "image/png": "[encoded data removed]",
      "text/plain": [
       "<Figure size 432x288 with 1 Axes>"
      ]
     },
     "metadata": {},
     "output_type": "display_data"
    }
   ],
   "source": [
    "pd.DataFrame(X_train)[\"noun_phrases\"].str.split().apply(len).plot.hist(bins = 50, title = \"Distribution of Number of Words/Noun\")\n",
    "plt.show()"
   ]
  },
  {
   "cell_type": "code",
   "execution_count": 374,
   "id": "a64e6a1e",
   "metadata": {},
   "outputs": [
    {
     "data": {
      "text/plain": [
       "15"
      ]
     },
     "execution_count": 374,
     "metadata": {},
     "output_type": "execute_result"
    }
   ],
   "source": [
    "pd.DataFrame(X_train)[\"noun_phrases\"].str.split().apply(len).max()"
   ]
  },
  {
   "cell_type": "markdown",
   "id": "2dd92010",
   "metadata": {},
   "source": [
    "## Encoding X values"
   ]
  },
  {
   "cell_type": "code",
   "execution_count": 375,
   "id": "0f912811",
   "metadata": {},
   "outputs": [],
   "source": [
    "def tok(X_train, X_val, X_test):\n",
    "    tokenizer = Tokenizer(num_words = 5000)\n",
    "    tokenizer.fit_on_texts(X_train)\n",
    "    X_train_s = tokenizer.texts_to_sequences(X_train)\n",
    "    X_val_s = tokenizer.texts_to_sequences(X_val)\n",
    "    X_test_s = tokenizer.texts_to_sequences(X_test)\n",
    "    X_train_w = pad_sequences(np.array(X_train_s,dtype = \"object\"), maxlen=20, padding=\"post\", truncating=\"post\", value=0.0)\n",
    "    X_val_w = pad_sequences(np.array(X_val_s,dtype = \"object\"), maxlen=20, padding=\"post\", truncating=\"post\", value=0.0)\n",
    "    X_test_w = pad_sequences(np.array(X_test_s, dtype = \"object\"), maxlen = 20, padding = \"post\", truncating = \"post\", value = 0.0)\n",
    "    \n",
    "    return tokenizer, X_train_w, X_val_w, X_test_w"
   ]
  },
  {
   "cell_type": "code",
   "execution_count": 376,
   "id": "f7f256c6",
   "metadata": {},
   "outputs": [],
   "source": [
    "# Apply function to X training, validation and test sets\n",
    "tok,X_train_w, X_val_w, X_test_w = tok(X_train, X_val, X_test)"
   ]
  },
  {
   "cell_type": "code",
   "execution_count": 377,
   "id": "bfcba9f9",
   "metadata": {},
   "outputs": [],
   "source": [
    "# Save tokenizer objects for use in the combined final model\n",
    "def tok_save(name,tokenizer):\n",
    "    with open(name, 'wb') as handle:\n",
    "        pickle.dump(tokenizer, handle, protocol=pickle.HIGHEST_PROTOCOL)\n",
    "        \n",
    "# Save tokenizer pickle files\n",
    "tok_save('tok_sent_multiclass.pickle',tok)"
   ]
  },
  {
   "cell_type": "code",
   "execution_count": 378,
   "id": "274c3e12",
   "metadata": {},
   "outputs": [],
   "source": [
    "# Encode as one hot encoding for network\n",
    "def bin(y_train, y_val, y_test):\n",
    "    binarizer = preprocessing.LabelBinarizer()\n",
    "    y_train_e = binarizer.fit_transform(y_train)\n",
    "    y_val_e = binarizer.transform(y_val)\n",
    "    y_test_e = binarizer.transform(y_test)\n",
    "    return y_train_e,y_val_e,y_test_e"
   ]
  },
  {
   "cell_type": "code",
   "execution_count": 379,
   "id": "32d9da5b",
   "metadata": {},
   "outputs": [],
   "source": [
    "# Function to encode y values as integer labels (necessary for stratified cross validation as one-hot encoded doesn't work)\n",
    "def lab(y_train, y_val, y_test):\n",
    "    le = preprocessing.LabelEncoder()\n",
    "    y_train_l = le.fit_transform(y_train)\n",
    "    y_val_l = le.fit_transform(y_val)\n",
    "    y_test_l = le.transform(y_test)\n",
    "    return y_train_l,y_val_l, y_test_l"
   ]
  },
  {
   "cell_type": "code",
   "execution_count": 380,
   "id": "d7fb1b4a",
   "metadata": {},
   "outputs": [],
   "source": [
    "y_train_e, y_val_e, y_test_e = bin(y_train, y_val, y_test)\n",
    "y_train_l, y_val_l, y_test_l = lab(y_train, y_val, y_test)"
   ]
  },
  {
   "cell_type": "code",
   "execution_count": 381,
   "id": "23593652",
   "metadata": {},
   "outputs": [
    {
     "name": "stdout",
     "output_type": "stream",
     "text": [
      "(10596, 3) (1325, 3) (1324, 3)\n",
      "(10596,) (1325,) (1324,)\n"
     ]
    }
   ],
   "source": [
    "print(y_train_e.shape, y_val_e.shape, y_test_e.shape)\n",
    "print(y_train_l.shape, y_val_l.shape, y_test_l.shape)"
   ]
  },
  {
   "cell_type": "code",
   "execution_count": 382,
   "id": "467f5346",
   "metadata": {},
   "outputs": [
    {
     "data": {
      "text/plain": [
       "Score\n",
       "-1       442\n",
       " 0       442\n",
       " 1       441\n",
       "dtype: int64"
      ]
     },
     "execution_count": 382,
     "metadata": {},
     "output_type": "execute_result"
    }
   ],
   "source": [
    "pd.DataFrame(y_val).value_counts()"
   ]
  },
  {
   "cell_type": "markdown",
   "id": "29e5ac7c",
   "metadata": {},
   "source": [
    "# Section 3: Building a Sentiment Model"
   ]
  },
  {
   "cell_type": "markdown",
   "id": "fde94549",
   "metadata": {},
   "source": [
    "## Setting Functions"
   ]
  },
  {
   "cell_type": "code",
   "execution_count": 383,
   "id": "d4f4623e",
   "metadata": {},
   "outputs": [],
   "source": [
    "# Visualise the training and test accuracies and losses\n",
    "\n",
    "import matplotlib.pyplot as plt\n",
    "plt.style.use('ggplot')\n",
    "\n",
    "def plot_history(history):\n",
    "    acc = history.history['accuracy']\n",
    "    val_acc = history.history['val_accuracy']\n",
    "    loss = history.history['loss']\n",
    "    val_loss = history.history['val_loss']\n",
    "    x = range(1, len(acc) + 1)\n",
    "\n",
    "    plt.figure(figsize=(12, 5))\n",
    "    plt.subplot(1, 2, 1)\n",
    "    plt.plot(x, acc, 'b', label='Training acc')\n",
    "    plt.plot(x, val_acc, 'r', label='Val acc')\n",
    "    plt.title('Training and Validation accuracy')\n",
    "    plt.xlabel(\"Epochs\")\n",
    "    plt.legend()\n",
    "    plt.subplot(1, 2, 2)\n",
    "    plt.plot(x, loss, 'b', label='Training loss')\n",
    "    plt.plot(x, val_loss, 'r', label='Val loss')\n",
    "    plt.xlabel(\"Epochs\")\n",
    "    plt.title('Training and Validation loss')\n",
    "    plt.legend()\n",
    "    plt.show()"
   ]
  },
  {
   "cell_type": "code",
   "execution_count": 384,
   "id": "faa8afb0",
   "metadata": {},
   "outputs": [],
   "source": [
    "# The model will use earlystopping if the valuation loss doesn't decrease after a specified number of epochs\n",
    "\n",
    "def out(name):\n",
    "    output_dir = name\n",
    "    if not os.path.exists(output_dir):\n",
    "        os.makedirs(output_dir)\n",
    "    return output_dir\n",
    "        \n",
    "def call(output_dir,patience):\n",
    "    modelcheckpoint = ModelCheckpoint(filepath=output_dir+\"/weights.{epoch:02d}.hdf5\")\n",
    "    callbacks = [EarlyStopping(monitor = \"val_loss\", patience = patience),modelcheckpoint]\n",
    "    return callbacks"
   ]
  },
  {
   "cell_type": "code",
   "execution_count": 385,
   "id": "44ad5a1c",
   "metadata": {},
   "outputs": [],
   "source": [
    "# Confusion Matrix function\n",
    "\n",
    "def class_conf(y_val_integer,y_pred_class,labels):\n",
    "    classification = classification_report(y_val_integer, y_pred_class)\n",
    "    cf_matrix = confusion_matrix(y_val_integer, y_pred_class)\n",
    "    fig, ax = plt.subplots(figsize = (8,6))\n",
    "    sns.heatmap(cf_matrix, annot = True, fmt = \"d\",cmap = plt.cm.Blues,xticklabels = labels,yticklabels = labels)\n",
    "    ax.set_xlabel('Predicted',labelpad = 10)\n",
    "    ax.set_ylabel('Actual',labelpad = 10)\n",
    "    plt.title(\"Confusion Matrix\", fontsize = 15)\n",
    "    print(classification)\n",
    "    plt.show()"
   ]
  },
  {
   "cell_type": "code",
   "execution_count": 386,
   "id": "f69fca7a",
   "metadata": {},
   "outputs": [],
   "source": [
    "# Evaluation function\n",
    "\n",
    "def eval(model,output_dir,name,X_val,y_val_e,y_val,labels):\n",
    "    model.load_weights(output_dir+name)\n",
    "    y_pred_prob = model.predict(X_val)\n",
    "    y_pred_class = np.argmax(model.predict(X_val), axis=-1)\n",
    "    y_val_integer = np.argmax(y_val, axis=1)\n",
    "    df_pred = pd.DataFrame(list(zip(y_val_integer, y_val,y_pred_class)), columns=[\"Actual Class\", \"Actual Aspect\",\"Predicted Class\",])\n",
    "    df_wrong = df_pred[df_pred[\"Actual Class\"]!= df_pred[\"Predicted Class\"]]\n",
    "    class_conf(y_val_integer,y_pred_class,labels)\n",
    "    print(\"\\n\")\n",
    "    print(\"The model predicted:\", df_wrong.shape[0],\"aspects wrong from a total of:\",df_pred.shape[0],\"predictions\")\n",
    "    print(\"\\n\")\n",
    "    return df_pred, df_wrong"
   ]
  },
  {
   "cell_type": "code",
   "execution_count": 387,
   "id": "c9b34610",
   "metadata": {},
   "outputs": [],
   "source": [
    "# Metrics function\n",
    "\n",
    "def metric_results(y_val_e,y_val_integer,y_pred_class,y_pred_prob):\n",
    "    accuracy = accuracy_score(y_val_integer, y_pred_class)\n",
    "    rocauc = roc_auc_score(y_val_e,y_pred_prob, average = 'macro', multi_class = 'ovr')\n",
    "    precision = precision_score(y_val_integer, y_pred_class, average='macro')\n",
    "    recall = recall_score(y_val_integer, y_pred_class, average='macro')\n",
    "    f1 = f1_score(y_val_integer, y_pred_class, average='macro')\n",
    "          \n",
    "    \n",
    "    results = pd.DataFrame({\"Accuracy\":accuracy, \"Precision\":precision, \"Recall\":recall,\n",
    "                                    \"F1\":f1,\"ROCAUC\":rocauc}, index = [0]\n",
    "                                  )\n",
    "    return results"
   ]
  },
  {
   "cell_type": "code",
   "execution_count": 388,
   "id": "728f4376",
   "metadata": {},
   "outputs": [
    {
     "data": {
      "text/plain": [
       "array([1., 1., 1.])"
      ]
     },
     "execution_count": 388,
     "metadata": {},
     "output_type": "execute_result"
    }
   ],
   "source": [
    "# Balanced classes - get weights\n",
    "from sklearn.utils import class_weight\n",
    "class_weights = class_weight.compute_class_weight('balanced',np.unique(y_train),y_train)\n",
    "class_weights"
   ]
  },
  {
   "cell_type": "markdown",
   "id": "b3cc8f6b",
   "metadata": {},
   "source": [
    "## Sentiment Model 1"
   ]
  },
  {
   "cell_type": "code",
   "execution_count": 399,
   "id": "da40709a",
   "metadata": {},
   "outputs": [],
   "source": [
    "# Parameters\n",
    "input_dim = 6000\n",
    "output_dim = 16\n",
    "input_length = 20\n",
    "batch_size = 8\n",
    "epochs = 50\n",
    "class_weights = {0:0.62257958,1:0.82480587,2:5.51349566}\n",
    "\n",
    "# Set output directory and callbacks (patience set to 5)\n",
    "output_dir = out('model_output/SentimentMultiClass1')\n",
    "callbacks = call(output_dir,5)"
   ]
  },
  {
   "cell_type": "code",
   "execution_count": 400,
   "id": "cbe0d391",
   "metadata": {},
   "outputs": [
    {
     "name": "stdout",
     "output_type": "stream",
     "text": [
      "Model: \"sequential_165\"\n",
      "_________________________________________________________________\n",
      "Layer (type)                 Output Shape              Param #   \n",
      "=================================================================\n",
      "embedding_165 (Embedding)    (None, 20, 16)            96000     \n",
      "_________________________________________________________________\n",
      "flatten_165 (Flatten)        (None, 320)               0         \n",
      "_________________________________________________________________\n",
      "dense_487 (Dense)            (None, 3)                 963       \n",
      "=================================================================\n",
      "Total params: 96,963\n",
      "Trainable params: 96,963\n",
      "Non-trainable params: 0\n",
      "_________________________________________________________________\n",
      "None\n"
     ]
    }
   ],
   "source": [
    "model1 = Sequential()\n",
    "model1.add(Embedding(input_dim = input_dim, output_dim = output_dim, input_length=input_length))\n",
    "model1.add(Flatten())\n",
    "model1.add(Dense(3, activation='softmax'))\n",
    "model1.compile(optimizer='adam', loss='categorical_crossentropy', metrics=['accuracy'])\n",
    "print(model1.summary()) \n",
    " "
   ]
  },
  {
   "cell_type": "code",
   "execution_count": 401,
   "id": "f36897fc",
   "metadata": {},
   "outputs": [
    {
     "name": "stdout",
     "output_type": "stream",
     "text": [
      "Epoch 1/50\n",
      "1325/1325 - 1s - loss: 0.6970 - accuracy: 0.7497 - val_loss: 0.3910 - val_accuracy: 0.8755\n",
      "Epoch 2/50\n",
      "1325/1325 - 1s - loss: 0.2453 - accuracy: 0.9314 - val_loss: 0.2289 - val_accuracy: 0.9298\n",
      "Epoch 3/50\n",
      "1325/1325 - 1s - loss: 0.1131 - accuracy: 0.9731 - val_loss: 0.1855 - val_accuracy: 0.9381\n",
      "Epoch 4/50\n",
      "1325/1325 - 1s - loss: 0.0591 - accuracy: 0.9883 - val_loss: 0.1740 - val_accuracy: 0.9464\n",
      "Epoch 5/50\n",
      "1325/1325 - 1s - loss: 0.0328 - accuracy: 0.9954 - val_loss: 0.1668 - val_accuracy: 0.9517\n",
      "Epoch 6/50\n",
      "1325/1325 - 1s - loss: 0.0193 - accuracy: 0.9975 - val_loss: 0.1589 - val_accuracy: 0.9517\n",
      "Epoch 7/50\n",
      "1325/1325 - 1s - loss: 0.0120 - accuracy: 0.9991 - val_loss: 0.1688 - val_accuracy: 0.9509\n",
      "Epoch 8/50\n",
      "1325/1325 - 1s - loss: 0.0080 - accuracy: 0.9992 - val_loss: 0.1652 - val_accuracy: 0.9532\n",
      "Epoch 9/50\n",
      "1325/1325 - 1s - loss: 0.0056 - accuracy: 0.9994 - val_loss: 0.1710 - val_accuracy: 0.9532\n",
      "Epoch 10/50\n",
      "1325/1325 - 1s - loss: 0.0039 - accuracy: 0.9996 - val_loss: 0.1779 - val_accuracy: 0.9532\n",
      "Epoch 11/50\n",
      "1325/1325 - 1s - loss: 0.0028 - accuracy: 0.9996 - val_loss: 0.1845 - val_accuracy: 0.9555\n"
     ]
    }
   ],
   "source": [
    "# Model using keras embeddings\n",
    "history = model1.fit(X_train_w,y_train_e,\n",
    "                    epochs=epochs,\n",
    "                    verbose=2,\n",
    "                    callbacks = callbacks,\n",
    "                    validation_data=(X_val_w, y_val_e),\n",
    "                    batch_size=batch_size)"
   ]
  },
  {
   "cell_type": "code",
   "execution_count": 402,
   "id": "0c3ba61f",
   "metadata": {},
   "outputs": [
    {
     "name": "stdout",
     "output_type": "stream",
     "text": [
      "Training Accuracy: 0.9997\n",
      "Validation Accuracy:  0.9555\n"
     ]
    }
   ],
   "source": [
    "# Print training and test accuracies\n",
    "loss, accuracy = model1.evaluate(X_train_w, y_train_e, verbose=False)\n",
    "print(\"Training Accuracy: {:.4f}\".format(accuracy))\n",
    "loss, accuracy = model1.evaluate(X_val_w, y_val_e, verbose=False)\n",
    "print(\"Validation Accuracy:  {:.4f}\".format(accuracy))"
   ]
  },
  {
   "cell_type": "code",
   "execution_count": 403,
   "id": "5acfe335",
   "metadata": {},
   "outputs": [
    {
     "data": {
      "image/png": "[encoded data removed]",
      "text/plain": [
       "<Figure size 864x360 with 2 Axes>"
      ]
     },
     "metadata": {},
     "output_type": "display_data"
    }
   ],
   "source": [
    "plot_history(history)"
   ]
  },
  {
   "cell_type": "code",
   "execution_count": 405,
   "id": "1023ac75",
   "metadata": {},
   "outputs": [],
   "source": [
    "# Load model weights from epoch with best validation accuracy\n",
    "model1.load_weights(output_dir+\"/weights.11.hdf5\")"
   ]
  },
  {
   "cell_type": "code",
   "execution_count": 406,
   "id": "6d6ff0dd",
   "metadata": {},
   "outputs": [
    {
     "name": "stdout",
     "output_type": "stream",
     "text": [
      "              precision    recall  f1-score   support\n",
      "\n",
      "           0       0.98      0.94      0.96       442\n",
      "           1       0.91      0.98      0.94       442\n",
      "           2       0.99      0.95      0.97       441\n",
      "\n",
      "    accuracy                           0.96      1325\n",
      "   macro avg       0.96      0.96      0.96      1325\n",
      "weighted avg       0.96      0.96      0.96      1325\n",
      "\n"
     ]
    },
    {
     "data": {
      "image/png": "[encoded data removed]",
      "text/plain": [
       "<Figure size 576x432 with 2 Axes>"
      ]
     },
     "metadata": {},
     "output_type": "display_data"
    }
   ],
   "source": [
    "labels = ['Negative','Neutral','Positive']\n",
    "y_pred_prob = model1.predict(X_val_w)\n",
    "y_pred_class = np.argmax(model1.predict(X_val_w), axis=-1)\n",
    "y_val_integer = np.argmax(y_val_e, axis=1)\n",
    "class_conf(y_val_integer,y_pred_class,labels)"
   ]
  },
  {
   "cell_type": "code",
   "execution_count": 407,
   "id": "ec9a2812",
   "metadata": {},
   "outputs": [
    {
     "data": {
      "text/html": [
       "<div>\n",
       "<style scoped>\n",
       "    .dataframe tbody tr th:only-of-type {\n",
       "        vertical-align: middle;\n",
       "    }\n",
       "\n",
       "    .dataframe tbody tr th {\n",
       "        vertical-align: top;\n",
       "    }\n",
       "\n",
       "    .dataframe thead th {\n",
       "        text-align: right;\n",
       "    }\n",
       "</style>\n",
       "<table border=\"1\" class=\"dataframe\">\n",
       "  <thead>\n",
       "    <tr style=\"text-align: right;\">\n",
       "      <th></th>\n",
       "      <th>Accuracy</th>\n",
       "      <th>Precision</th>\n",
       "      <th>Recall</th>\n",
       "      <th>F1</th>\n",
       "      <th>ROCAUC</th>\n",
       "    </tr>\n",
       "  </thead>\n",
       "  <tbody>\n",
       "    <tr>\n",
       "      <th>0</th>\n",
       "      <td>0.955472</td>\n",
       "      <td>0.9575</td>\n",
       "      <td>0.955469</td>\n",
       "      <td>0.955807</td>\n",
       "      <td>0.991916</td>\n",
       "    </tr>\n",
       "  </tbody>\n",
       "</table>\n",
       "</div>"
      ],
      "text/plain": [
       "   Accuracy  Precision    Recall        F1    ROCAUC\n",
       "0  0.955472     0.9575  0.955469  0.955807  0.991916"
      ]
     },
     "execution_count": 407,
     "metadata": {},
     "output_type": "execute_result"
    }
   ],
   "source": [
    "results1 = metric_results(y_val_e,y_val_integer,y_pred_class,y_pred_prob)\n",
    "results1"
   ]
  },
  {
   "cell_type": "markdown",
   "id": "8423d2a2",
   "metadata": {},
   "source": [
    "## Sentiment Model 2"
   ]
  },
  {
   "cell_type": "code",
   "execution_count": 408,
   "id": "2261b2ac",
   "metadata": {},
   "outputs": [
    {
     "name": "stdout",
     "output_type": "stream",
     "text": [
      "Model: \"sequential_166\"\n",
      "_________________________________________________________________\n",
      "Layer (type)                 Output Shape              Param #   \n",
      "=================================================================\n",
      "embedding_166 (Embedding)    (None, 20, 16)            96000     \n",
      "_________________________________________________________________\n",
      "flatten_166 (Flatten)        (None, 320)               0         \n",
      "_________________________________________________________________\n",
      "dense_488 (Dense)            (None, 64)                20544     \n",
      "_________________________________________________________________\n",
      "dense_489 (Dense)            (None, 3)                 195       \n",
      "=================================================================\n",
      "Total params: 116,739\n",
      "Trainable params: 116,739\n",
      "Non-trainable params: 0\n",
      "_________________________________________________________________\n",
      "None\n"
     ]
    }
   ],
   "source": [
    "model2 = Sequential()\n",
    "model2.add(Embedding(input_dim = input_dim, output_dim = output_dim, input_length=input_length))\n",
    "model2.add(Flatten())\n",
    "model2.add(Dense(64, activation='relu', input_shape=(1600,)))\n",
    "model2.add(Dense(3, activation='softmax'))\n",
    "model2.compile(optimizer='adam', loss='categorical_crossentropy', metrics=['accuracy'])\n",
    "print(model2.summary())"
   ]
  },
  {
   "cell_type": "code",
   "execution_count": 409,
   "id": "48645395",
   "metadata": {},
   "outputs": [],
   "source": [
    "model2.save('bestsentimentnetworkmodel.h5')"
   ]
  },
  {
   "cell_type": "code",
   "execution_count": 410,
   "id": "06f8e5bd",
   "metadata": {},
   "outputs": [],
   "source": [
    "# Set output directory and callbacks (patience set to 5)\n",
    "output_dir = out('model_output/SentimentMultiClass2')\n",
    "callbacks = call(output_dir,5)"
   ]
  },
  {
   "cell_type": "code",
   "execution_count": 411,
   "id": "4bb20988",
   "metadata": {},
   "outputs": [
    {
     "name": "stdout",
     "output_type": "stream",
     "text": [
      "Epoch 1/50\n",
      "1325/1325 - 1s - loss: 0.5037 - accuracy: 0.7895 - val_loss: 0.2306 - val_accuracy: 0.9223\n",
      "Epoch 2/50\n",
      "1325/1325 - 1s - loss: 0.1059 - accuracy: 0.9677 - val_loss: 0.1789 - val_accuracy: 0.9343\n",
      "Epoch 3/50\n",
      "1325/1325 - 1s - loss: 0.0262 - accuracy: 0.9946 - val_loss: 0.1779 - val_accuracy: 0.9426\n",
      "Epoch 4/50\n",
      "1325/1325 - 1s - loss: 0.0091 - accuracy: 0.9992 - val_loss: 0.1703 - val_accuracy: 0.9502\n",
      "Epoch 5/50\n",
      "1325/1325 - 1s - loss: 0.0050 - accuracy: 0.9995 - val_loss: 0.1918 - val_accuracy: 0.9540\n",
      "Epoch 6/50\n",
      "1325/1325 - 1s - loss: 0.0027 - accuracy: 0.9994 - val_loss: 0.2053 - val_accuracy: 0.9547\n",
      "Epoch 7/50\n",
      "1325/1325 - 1s - loss: 0.0025 - accuracy: 0.9991 - val_loss: 0.2123 - val_accuracy: 0.9532\n",
      "Epoch 8/50\n",
      "1325/1325 - 1s - loss: 5.4953e-04 - accuracy: 1.0000 - val_loss: 0.2086 - val_accuracy: 0.9555\n",
      "Epoch 9/50\n",
      "1325/1325 - 1s - loss: 4.6085e-04 - accuracy: 0.9999 - val_loss: 0.2326 - val_accuracy: 0.9562\n"
     ]
    }
   ],
   "source": [
    "# Model using keras embeddings\n",
    "history = model2.fit(X_train_w,y_train_e,\n",
    "                     epochs=epochs,\n",
    "                     verbose=2,\n",
    "                     callbacks = callbacks,\n",
    "                     validation_data=(X_val_w, y_val_e),\n",
    "                     batch_size=batch_size)\n",
    "                "
   ]
  },
  {
   "cell_type": "code",
   "execution_count": 412,
   "id": "a81b5976",
   "metadata": {},
   "outputs": [
    {
     "name": "stdout",
     "output_type": "stream",
     "text": [
      "Training Accuracy: 0.9999\n",
      "Testing Accuracy:  0.9562\n"
     ]
    }
   ],
   "source": [
    "# Print training and test accuracies\n",
    "loss, accuracy = model2.evaluate(X_train_w, y_train_e, verbose=False)\n",
    "print(\"Training Accuracy: {:.4f}\".format(accuracy))\n",
    "loss, accuracy = model2.evaluate(X_val_w, y_val_e, verbose=False)\n",
    "print(\"Testing Accuracy:  {:.4f}\".format(accuracy))"
   ]
  },
  {
   "cell_type": "code",
   "execution_count": 413,
   "id": "ab2de6f8",
   "metadata": {},
   "outputs": [
    {
     "data": {
      "image/png": "[encoded data removed]",
      "text/plain": [
       "<Figure size 864x360 with 2 Axes>"
      ]
     },
     "metadata": {},
     "output_type": "display_data"
    }
   ],
   "source": [
    "plot_history(history)"
   ]
  },
  {
   "cell_type": "code",
   "execution_count": 415,
   "id": "bb8299fd",
   "metadata": {},
   "outputs": [],
   "source": [
    "# Load model weights from epoch with best validation accuracy\n",
    "model2.load_weights(output_dir+\"/weights.09.hdf5\")"
   ]
  },
  {
   "cell_type": "code",
   "execution_count": 416,
   "id": "be25d476",
   "metadata": {},
   "outputs": [
    {
     "name": "stdout",
     "output_type": "stream",
     "text": [
      "              precision    recall  f1-score   support\n",
      "\n",
      "           0       0.98      0.93      0.96       442\n",
      "           1       0.91      0.98      0.94       442\n",
      "           2       0.98      0.96      0.97       441\n",
      "\n",
      "    accuracy                           0.96      1325\n",
      "   macro avg       0.96      0.96      0.96      1325\n",
      "weighted avg       0.96      0.96      0.96      1325\n",
      "\n"
     ]
    },
    {
     "data": {
      "image/png": "[encoded data removed]",
      "text/plain": [
       "<Figure size 576x432 with 2 Axes>"
      ]
     },
     "metadata": {},
     "output_type": "display_data"
    }
   ],
   "source": [
    "y_pred_prob = model2.predict(X_val_w)\n",
    "y_pred_class = np.argmax(model2.predict(X_val_w), axis=-1)\n",
    "y_val_integer = np.argmax(y_val_e, axis=1)\n",
    "class_conf(y_val_integer,y_pred_class,labels)"
   ]
  },
  {
   "cell_type": "code",
   "execution_count": 417,
   "id": "adb4a866",
   "metadata": {},
   "outputs": [
    {
     "data": {
      "text/html": [
       "<div>\n",
       "<style scoped>\n",
       "    .dataframe tbody tr th:only-of-type {\n",
       "        vertical-align: middle;\n",
       "    }\n",
       "\n",
       "    .dataframe tbody tr th {\n",
       "        vertical-align: top;\n",
       "    }\n",
       "\n",
       "    .dataframe thead th {\n",
       "        text-align: right;\n",
       "    }\n",
       "</style>\n",
       "<table border=\"1\" class=\"dataframe\">\n",
       "  <thead>\n",
       "    <tr style=\"text-align: right;\">\n",
       "      <th></th>\n",
       "      <th>Accuracy</th>\n",
       "      <th>Precision</th>\n",
       "      <th>Recall</th>\n",
       "      <th>F1</th>\n",
       "      <th>ROCAUC</th>\n",
       "    </tr>\n",
       "  </thead>\n",
       "  <tbody>\n",
       "    <tr>\n",
       "      <th>0</th>\n",
       "      <td>0.956226</td>\n",
       "      <td>0.95802</td>\n",
       "      <td>0.956232</td>\n",
       "      <td>0.956467</td>\n",
       "      <td>0.992249</td>\n",
       "    </tr>\n",
       "  </tbody>\n",
       "</table>\n",
       "</div>"
      ],
      "text/plain": [
       "   Accuracy  Precision    Recall        F1    ROCAUC\n",
       "0  0.956226    0.95802  0.956232  0.956467  0.992249"
      ]
     },
     "execution_count": 417,
     "metadata": {},
     "output_type": "execute_result"
    }
   ],
   "source": [
    "results2 = metric_results(y_val_e,y_val_integer,y_pred_class,y_pred_prob)\n",
    "results2"
   ]
  },
  {
   "cell_type": "markdown",
   "id": "3c0fbb29",
   "metadata": {},
   "source": [
    "## Sentiment Model 3"
   ]
  },
  {
   "cell_type": "code",
   "execution_count": 418,
   "id": "4867f861",
   "metadata": {},
   "outputs": [
    {
     "name": "stdout",
     "output_type": "stream",
     "text": [
      "Model: \"sequential_167\"\n",
      "_________________________________________________________________\n",
      "Layer (type)                 Output Shape              Param #   \n",
      "=================================================================\n",
      "embedding_167 (Embedding)    (None, 20, 16)            96000     \n",
      "_________________________________________________________________\n",
      "flatten_167 (Flatten)        (None, 320)               0         \n",
      "_________________________________________________________________\n",
      "dense_490 (Dense)            (None, 128)               41088     \n",
      "_________________________________________________________________\n",
      "dropout_314 (Dropout)        (None, 128)               0         \n",
      "_________________________________________________________________\n",
      "dense_491 (Dense)            (None, 3)                 387       \n",
      "=================================================================\n",
      "Total params: 137,475\n",
      "Trainable params: 137,475\n",
      "Non-trainable params: 0\n",
      "_________________________________________________________________\n",
      "None\n"
     ]
    }
   ],
   "source": [
    "# Network with a hidden layer with more neurons in the dense layer and with dropout of 50%\n",
    "model3 = Sequential()\n",
    "model3.add(Embedding(input_dim = input_dim, output_dim = output_dim, input_length=input_length))\n",
    "model3.add(Flatten())\n",
    "model3.add(Dense(128, activation='relu'))\n",
    "model3.add(Dropout(rate=0.5))\n",
    "model3.add(Dense(3, activation='softmax')) \n",
    "model3.compile(optimizer='adam', loss='categorical_crossentropy', metrics=['accuracy'])\n",
    "print(model3.summary())\n"
   ]
  },
  {
   "cell_type": "code",
   "execution_count": 419,
   "id": "50739ba1",
   "metadata": {},
   "outputs": [],
   "source": [
    "# Set output directory and callbacks (patience set to 5)\n",
    "output_dir = out('model_output/SentimentMultiClass3')\n",
    "callbacks = call(output_dir,5)"
   ]
  },
  {
   "cell_type": "code",
   "execution_count": 420,
   "id": "8622b978",
   "metadata": {},
   "outputs": [
    {
     "name": "stdout",
     "output_type": "stream",
     "text": [
      "Epoch 1/50\n",
      "1325/1325 - 1s - loss: 0.5321 - accuracy: 0.7730 - val_loss: 0.2241 - val_accuracy: 0.9140\n",
      "Epoch 2/50\n",
      "1325/1325 - 1s - loss: 0.1265 - accuracy: 0.9639 - val_loss: 0.1586 - val_accuracy: 0.9540\n",
      "Epoch 3/50\n",
      "1325/1325 - 1s - loss: 0.0350 - accuracy: 0.9904 - val_loss: 0.1654 - val_accuracy: 0.9532\n",
      "Epoch 4/50\n",
      "1325/1325 - 1s - loss: 0.0121 - accuracy: 0.9979 - val_loss: 0.1719 - val_accuracy: 0.9623\n",
      "Epoch 5/50\n",
      "1325/1325 - 1s - loss: 0.0072 - accuracy: 0.9992 - val_loss: 0.2307 - val_accuracy: 0.9555\n",
      "Epoch 6/50\n",
      "1325/1325 - 1s - loss: 0.0039 - accuracy: 0.9994 - val_loss: 0.2481 - val_accuracy: 0.9547\n",
      "Epoch 7/50\n",
      "1325/1325 - 1s - loss: 0.0043 - accuracy: 0.9988 - val_loss: 0.2145 - val_accuracy: 0.9547\n"
     ]
    }
   ],
   "source": [
    "# Model using keras embeddings\n",
    "history = model3.fit(X_train_w,y_train_e,\n",
    "                     epochs=epochs,\n",
    "                     verbose=2,\n",
    "                     callbacks = callbacks,\n",
    "                     validation_data=(X_val_w, y_val_e),\n",
    "                     batch_size=batch_size)"
   ]
  },
  {
   "cell_type": "code",
   "execution_count": 421,
   "id": "6a29e9ae",
   "metadata": {},
   "outputs": [
    {
     "name": "stdout",
     "output_type": "stream",
     "text": [
      "Training Accuracy: 0.9996\n",
      "Testing Accuracy:  0.9547\n"
     ]
    }
   ],
   "source": [
    "# Print training and test accuracies\n",
    "loss, accuracy = model3.evaluate(X_train_w, y_train_e, verbose=False)\n",
    "print(\"Training Accuracy: {:.4f}\".format(accuracy))\n",
    "loss, accuracy = model3.evaluate(X_val_w, y_val_e, verbose=False)\n",
    "print(\"Testing Accuracy:  {:.4f}\".format(accuracy))"
   ]
  },
  {
   "cell_type": "code",
   "execution_count": 422,
   "id": "1708c234",
   "metadata": {},
   "outputs": [
    {
     "data": {
      "image/png": "[encoded data removed]",
      "text/plain": [
       "<Figure size 864x360 with 2 Axes>"
      ]
     },
     "metadata": {},
     "output_type": "display_data"
    }
   ],
   "source": [
    "plot_history(history)"
   ]
  },
  {
   "cell_type": "code",
   "execution_count": 423,
   "id": "d1a252fa",
   "metadata": {},
   "outputs": [],
   "source": [
    "# Load model weights from epoch with best validation accuracy\n",
    "model3.load_weights(output_dir+\"/weights.04.hdf5\")"
   ]
  },
  {
   "cell_type": "code",
   "execution_count": 424,
   "id": "19dd628f",
   "metadata": {},
   "outputs": [
    {
     "name": "stdout",
     "output_type": "stream",
     "text": [
      "              precision    recall  f1-score   support\n",
      "\n",
      "           0       0.97      0.96      0.96       442\n",
      "           1       0.93      0.97      0.95       442\n",
      "           2       0.99      0.96      0.98       441\n",
      "\n",
      "    accuracy                           0.96      1325\n",
      "   macro avg       0.96      0.96      0.96      1325\n",
      "weighted avg       0.96      0.96      0.96      1325\n",
      "\n"
     ]
    },
    {
     "data": {
      "image/png": "[encoded data removed]",
      "text/plain": [
       "<Figure size 576x432 with 2 Axes>"
      ]
     },
     "metadata": {},
     "output_type": "display_data"
    }
   ],
   "source": [
    "y_pred_prob = model3.predict(X_val_w)\n",
    "y_pred_class = np.argmax(model3.predict(X_val_w), axis=-1)\n",
    "y_val_integer = np.argmax(y_val_e, axis=1)\n",
    "class_conf(y_val_integer,y_pred_class,labels)"
   ]
  },
  {
   "cell_type": "code",
   "execution_count": 425,
   "id": "67657c43",
   "metadata": {},
   "outputs": [
    {
     "data": {
      "text/html": [
       "<div>\n",
       "<style scoped>\n",
       "    .dataframe tbody tr th:only-of-type {\n",
       "        vertical-align: middle;\n",
       "    }\n",
       "\n",
       "    .dataframe tbody tr th {\n",
       "        vertical-align: top;\n",
       "    }\n",
       "\n",
       "    .dataframe thead th {\n",
       "        text-align: right;\n",
       "    }\n",
       "</style>\n",
       "<table border=\"1\" class=\"dataframe\">\n",
       "  <thead>\n",
       "    <tr style=\"text-align: right;\">\n",
       "      <th></th>\n",
       "      <th>Accuracy</th>\n",
       "      <th>Precision</th>\n",
       "      <th>Recall</th>\n",
       "      <th>F1</th>\n",
       "      <th>ROCAUC</th>\n",
       "    </tr>\n",
       "  </thead>\n",
       "  <tbody>\n",
       "    <tr>\n",
       "      <th>0</th>\n",
       "      <td>0.962264</td>\n",
       "      <td>0.963158</td>\n",
       "      <td>0.962264</td>\n",
       "      <td>0.962463</td>\n",
       "      <td>0.992342</td>\n",
       "    </tr>\n",
       "  </tbody>\n",
       "</table>\n",
       "</div>"
      ],
      "text/plain": [
       "   Accuracy  Precision    Recall        F1    ROCAUC\n",
       "0  0.962264   0.963158  0.962264  0.962463  0.992342"
      ]
     },
     "execution_count": 425,
     "metadata": {},
     "output_type": "execute_result"
    }
   ],
   "source": [
    "results3 = metric_results(y_val_e,y_val_integer,y_pred_class,y_pred_prob)\n",
    "results3"
   ]
  },
  {
   "cell_type": "markdown",
   "id": "eac11f41",
   "metadata": {},
   "source": [
    "## Sentiment Model 4"
   ]
  },
  {
   "cell_type": "code",
   "execution_count": 426,
   "id": "1b025ca2",
   "metadata": {},
   "outputs": [
    {
     "name": "stdout",
     "output_type": "stream",
     "text": [
      "Model: \"sequential_168\"\n",
      "_________________________________________________________________\n",
      "Layer (type)                 Output Shape              Param #   \n",
      "=================================================================\n",
      "embedding_168 (Embedding)    (None, 20, 16)            96000     \n",
      "_________________________________________________________________\n",
      "flatten_168 (Flatten)        (None, 320)               0         \n",
      "_________________________________________________________________\n",
      "dense_492 (Dense)            (None, 128)               41088     \n",
      "_________________________________________________________________\n",
      "dropout_315 (Dropout)        (None, 128)               0         \n",
      "_________________________________________________________________\n",
      "dense_493 (Dense)            (None, 128)               16512     \n",
      "_________________________________________________________________\n",
      "dropout_316 (Dropout)        (None, 128)               0         \n",
      "_________________________________________________________________\n",
      "dense_494 (Dense)            (None, 3)                 387       \n",
      "=================================================================\n",
      "Total params: 153,987\n",
      "Trainable params: 153,987\n",
      "Non-trainable params: 0\n",
      "_________________________________________________________________\n",
      "None\n"
     ]
    }
   ],
   "source": [
    "# Dense model with 2 hidden dense layers and dropout on each\n",
    "model4 = Sequential()\n",
    "model4.add(Embedding(input_dim = input_dim, output_dim = output_dim, input_length=input_length))\n",
    "model4.add(Flatten())\n",
    "model4.add(Dense(128, activation='relu'))\n",
    "model4.add(Dropout(rate=0.5))\n",
    "model4.add(Dense(128, activation='relu'))\n",
    "model4.add(Dropout(rate = 0.5))\n",
    "model4.add(Dense(3, activation='softmax')) \n",
    "model4.compile(optimizer='adam', loss='categorical_crossentropy', metrics=['accuracy'])\n",
    "print(model4.summary())"
   ]
  },
  {
   "cell_type": "code",
   "execution_count": 427,
   "id": "563b1e55",
   "metadata": {},
   "outputs": [],
   "source": [
    "# Set output directory and callbacks (patience set to 5)\n",
    "output_dir = out('model_output/SentimentMultiClass4')\n",
    "callbacks = call(output_dir,5)"
   ]
  },
  {
   "cell_type": "code",
   "execution_count": 428,
   "id": "8d696204",
   "metadata": {},
   "outputs": [
    {
     "name": "stdout",
     "output_type": "stream",
     "text": [
      "Epoch 1/50\n",
      "1325/1325 - 1s - loss: 0.5428 - accuracy: 0.7562 - val_loss: 0.2192 - val_accuracy: 0.9283\n",
      "Epoch 2/50\n",
      "1325/1325 - 1s - loss: 0.1358 - accuracy: 0.9572 - val_loss: 0.1767 - val_accuracy: 0.9464\n",
      "Epoch 3/50\n",
      "1325/1325 - 1s - loss: 0.0348 - accuracy: 0.9902 - val_loss: 0.1903 - val_accuracy: 0.9562\n",
      "Epoch 4/50\n",
      "1325/1325 - 1s - loss: 0.0159 - accuracy: 0.9961 - val_loss: 0.2330 - val_accuracy: 0.9562\n",
      "Epoch 5/50\n",
      "1325/1325 - 1s - loss: 0.0136 - accuracy: 0.9965 - val_loss: 0.2520 - val_accuracy: 0.9502\n",
      "Epoch 6/50\n",
      "1325/1325 - 1s - loss: 0.0112 - accuracy: 0.9975 - val_loss: 0.2274 - val_accuracy: 0.9577\n",
      "Epoch 7/50\n",
      "1325/1325 - 1s - loss: 0.0061 - accuracy: 0.9983 - val_loss: 0.3240 - val_accuracy: 0.9555\n"
     ]
    }
   ],
   "source": [
    "# Model using keras embeddings\n",
    "history = model4.fit(X_train_w,y_train_e,\n",
    "                     epochs=epochs,\n",
    "                     verbose=2,\n",
    "                     callbacks = callbacks,\n",
    "                     validation_data=(X_val_w, y_val_e),\n",
    "                     batch_size=batch_size)"
   ]
  },
  {
   "cell_type": "code",
   "execution_count": 429,
   "id": "1899f570",
   "metadata": {},
   "outputs": [
    {
     "name": "stdout",
     "output_type": "stream",
     "text": [
      "Training Accuracy: 0.9993\n",
      "Testing Accuracy:  0.9555\n"
     ]
    }
   ],
   "source": [
    "# Print training and test accuracies\n",
    "loss, accuracy = model4.evaluate(X_train_w, y_train_e, verbose=False)\n",
    "print(\"Training Accuracy: {:.4f}\".format(accuracy))\n",
    "loss, accuracy = model4.evaluate(X_val_w, y_val_e, verbose=False)\n",
    "print(\"Testing Accuracy:  {:.4f}\".format(accuracy))"
   ]
  },
  {
   "cell_type": "code",
   "execution_count": 430,
   "id": "ee90eac8",
   "metadata": {},
   "outputs": [
    {
     "data": {
      "image/png": "[encoded data removed]",
      "text/plain": [
       "<Figure size 864x360 with 2 Axes>"
      ]
     },
     "metadata": {},
     "output_type": "display_data"
    }
   ],
   "source": [
    "plot_history(history)"
   ]
  },
  {
   "cell_type": "code",
   "execution_count": 432,
   "id": "9c6b89e4",
   "metadata": {},
   "outputs": [],
   "source": [
    "# Load model weights from epoch with best validation accuracy\n",
    "model4.load_weights(output_dir+\"/weights.06.hdf5\")"
   ]
  },
  {
   "cell_type": "code",
   "execution_count": 433,
   "id": "87242d5d",
   "metadata": {},
   "outputs": [
    {
     "name": "stdout",
     "output_type": "stream",
     "text": [
      "              precision    recall  f1-score   support\n",
      "\n",
      "           0       0.97      0.95      0.96       442\n",
      "           1       0.92      0.97      0.94       442\n",
      "           2       0.98      0.96      0.97       441\n",
      "\n",
      "    accuracy                           0.96      1325\n",
      "   macro avg       0.96      0.96      0.96      1325\n",
      "weighted avg       0.96      0.96      0.96      1325\n",
      "\n"
     ]
    },
    {
     "data": {
      "image/png": "[encoded data removed]",
      "text/plain": [
       "<Figure size 576x432 with 2 Axes>"
      ]
     },
     "metadata": {},
     "output_type": "display_data"
    }
   ],
   "source": [
    "y_pred_prob = model4.predict(X_val_w)\n",
    "y_pred_class = np.argmax(model4.predict(X_val_w), axis=-1)\n",
    "y_val_integer = np.argmax(y_val_e, axis=1)\n",
    "class_conf(y_val_integer,y_pred_class,labels)"
   ]
  },
  {
   "cell_type": "code",
   "execution_count": 434,
   "id": "e97f51cd",
   "metadata": {},
   "outputs": [
    {
     "data": {
      "text/html": [
       "<div>\n",
       "<style scoped>\n",
       "    .dataframe tbody tr th:only-of-type {\n",
       "        vertical-align: middle;\n",
       "    }\n",
       "\n",
       "    .dataframe tbody tr th {\n",
       "        vertical-align: top;\n",
       "    }\n",
       "\n",
       "    .dataframe thead th {\n",
       "        text-align: right;\n",
       "    }\n",
       "</style>\n",
       "<table border=\"1\" class=\"dataframe\">\n",
       "  <thead>\n",
       "    <tr style=\"text-align: right;\">\n",
       "      <th></th>\n",
       "      <th>Accuracy</th>\n",
       "      <th>Precision</th>\n",
       "      <th>Recall</th>\n",
       "      <th>F1</th>\n",
       "      <th>ROCAUC</th>\n",
       "    </tr>\n",
       "  </thead>\n",
       "  <tbody>\n",
       "    <tr>\n",
       "      <th>0</th>\n",
       "      <td>0.957736</td>\n",
       "      <td>0.958891</td>\n",
       "      <td>0.957735</td>\n",
       "      <td>0.957942</td>\n",
       "      <td>0.993621</td>\n",
       "    </tr>\n",
       "  </tbody>\n",
       "</table>\n",
       "</div>"
      ],
      "text/plain": [
       "   Accuracy  Precision    Recall        F1    ROCAUC\n",
       "0  0.957736   0.958891  0.957735  0.957942  0.993621"
      ]
     },
     "execution_count": 434,
     "metadata": {},
     "output_type": "execute_result"
    }
   ],
   "source": [
    "results4 = metric_results(y_val_e,y_val_integer,y_pred_class,y_pred_prob)\n",
    "results4"
   ]
  },
  {
   "cell_type": "code",
   "execution_count": 435,
   "id": "6b3e938c",
   "metadata": {},
   "outputs": [],
   "source": [
    "model4.save(\"SentimentMultiNeural.h5\")"
   ]
  },
  {
   "cell_type": "markdown",
   "id": "a97fa68d",
   "metadata": {},
   "source": [
    "##  Sentiment Model 5"
   ]
  },
  {
   "cell_type": "code",
   "execution_count": 436,
   "id": "1b236367",
   "metadata": {},
   "outputs": [
    {
     "name": "stdout",
     "output_type": "stream",
     "text": [
      "Model: \"sequential_169\"\n",
      "_________________________________________________________________\n",
      "Layer (type)                 Output Shape              Param #   \n",
      "=================================================================\n",
      "embedding_169 (Embedding)    (None, 20, 16)            96000     \n",
      "_________________________________________________________________\n",
      "flatten_169 (Flatten)        (None, 320)               0         \n",
      "_________________________________________________________________\n",
      "dense_495 (Dense)            (None, 512)               164352    \n",
      "_________________________________________________________________\n",
      "dropout_317 (Dropout)        (None, 512)               0         \n",
      "_________________________________________________________________\n",
      "dense_496 (Dense)            (None, 256)               131328    \n",
      "_________________________________________________________________\n",
      "dropout_318 (Dropout)        (None, 256)               0         \n",
      "_________________________________________________________________\n",
      "dense_497 (Dense)            (None, 128)               32896     \n",
      "_________________________________________________________________\n",
      "dense_498 (Dense)            (None, 3)                 387       \n",
      "=================================================================\n",
      "Total params: 424,963\n",
      "Trainable params: 424,963\n",
      "Non-trainable params: 0\n",
      "_________________________________________________________________\n",
      "None\n"
     ]
    }
   ],
   "source": [
    "# Dense model with 2 hidden dense layers and dropout on each\n",
    "model5 = Sequential()\n",
    "model5.add(Embedding(input_dim = input_dim, output_dim = output_dim, input_length=input_length))\n",
    "model5.add(Flatten())\n",
    "model5.add(Dense(512, activation='relu'))\n",
    "model5.add(Dropout(rate=0.5))\n",
    "model5.add(Dense(256, activation='relu'))\n",
    "model5.add(Dropout(rate = 0.5))\n",
    "model5.add(Dense(128,activation = 'relu'))\n",
    "model5.add(Dense(3, activation='softmax')) \n",
    "model5.compile(optimizer='adam', loss='categorical_crossentropy', metrics=['accuracy'])\n",
    "print(model5.summary())"
   ]
  },
  {
   "cell_type": "code",
   "execution_count": 437,
   "id": "09033942",
   "metadata": {},
   "outputs": [],
   "source": [
    "# Set output directory and callbacks (patience set to 5)\n",
    "output_dir = out('model_output/SentimentMultiClass5')\n",
    "callbacks = call(output_dir,5)"
   ]
  },
  {
   "cell_type": "code",
   "execution_count": 438,
   "id": "bb881d82",
   "metadata": {},
   "outputs": [
    {
     "name": "stdout",
     "output_type": "stream",
     "text": [
      "Epoch 1/50\n",
      "1325/1325 - 1s - loss: 0.4806 - accuracy: 0.7945 - val_loss: 0.2167 - val_accuracy: 0.9260\n",
      "Epoch 2/50\n",
      "1325/1325 - 1s - loss: 0.1246 - accuracy: 0.9654 - val_loss: 0.1627 - val_accuracy: 0.9517\n",
      "Epoch 3/50\n",
      "1325/1325 - 1s - loss: 0.0335 - accuracy: 0.9911 - val_loss: 0.2103 - val_accuracy: 0.9502\n",
      "Epoch 4/50\n",
      "1325/1325 - 1s - loss: 0.0210 - accuracy: 0.9936 - val_loss: 0.2514 - val_accuracy: 0.9577\n",
      "Epoch 5/50\n",
      "1325/1325 - 1s - loss: 0.0073 - accuracy: 0.9983 - val_loss: 0.2408 - val_accuracy: 0.9525\n",
      "Epoch 6/50\n",
      "1325/1325 - 1s - loss: 0.0132 - accuracy: 0.9960 - val_loss: 0.2735 - val_accuracy: 0.9623\n",
      "Epoch 7/50\n",
      "1325/1325 - 1s - loss: 0.0128 - accuracy: 0.9967 - val_loss: 0.2754 - val_accuracy: 0.9600\n"
     ]
    }
   ],
   "source": [
    "# Model using keras embeddings\n",
    "history = model5.fit(X_train_w,y_train_e,\n",
    "                     epochs=epochs,\n",
    "                     verbose=2,\n",
    "                     callbacks = callbacks,\n",
    "                     validation_data=(X_val_w, y_val_e),\n",
    "                     batch_size=batch_size)"
   ]
  },
  {
   "cell_type": "code",
   "execution_count": 439,
   "id": "c64d75bd",
   "metadata": {},
   "outputs": [
    {
     "name": "stdout",
     "output_type": "stream",
     "text": [
      "Training Accuracy: 0.9989\n",
      "Testing Accuracy:  0.9600\n"
     ]
    }
   ],
   "source": [
    "# Print training and test accuracies\n",
    "loss, accuracy = model5.evaluate(X_train_w, y_train_e, verbose=False)\n",
    "print(\"Training Accuracy: {:.4f}\".format(accuracy))\n",
    "loss, accuracy = model5.evaluate(X_val_w, y_val_e, verbose=False)\n",
    "print(\"Testing Accuracy:  {:.4f}\".format(accuracy))"
   ]
  },
  {
   "cell_type": "code",
   "execution_count": 440,
   "id": "3027a7bd",
   "metadata": {},
   "outputs": [
    {
     "data": {
      "image/png": "[encoded data removed]",
      "text/plain": [
       "<Figure size 864x360 with 2 Axes>"
      ]
     },
     "metadata": {},
     "output_type": "display_data"
    }
   ],
   "source": [
    "plot_history(history)"
   ]
  },
  {
   "cell_type": "code",
   "execution_count": 442,
   "id": "5bbe728e",
   "metadata": {},
   "outputs": [],
   "source": [
    "# Load model weights from epoch with best validation accuracy\n",
    "model5.load_weights(output_dir+\"/weights.06.hdf5\")"
   ]
  },
  {
   "cell_type": "code",
   "execution_count": 443,
   "id": "72f64d36",
   "metadata": {},
   "outputs": [
    {
     "name": "stdout",
     "output_type": "stream",
     "text": [
      "              precision    recall  f1-score   support\n",
      "\n",
      "           0       0.97      0.96      0.96       442\n",
      "           1       0.93      0.97      0.95       442\n",
      "           2       0.99      0.96      0.97       441\n",
      "\n",
      "    accuracy                           0.96      1325\n",
      "   macro avg       0.96      0.96      0.96      1325\n",
      "weighted avg       0.96      0.96      0.96      1325\n",
      "\n"
     ]
    },
    {
     "data": {
      "image/png": "[encoded data removed]",
      "text/plain": [
       "<Figure size 576x432 with 2 Axes>"
      ]
     },
     "metadata": {},
     "output_type": "display_data"
    }
   ],
   "source": [
    "y_pred_prob = model5.predict(X_val_w)\n",
    "y_pred_class = np.argmax(model5.predict(X_val_w), axis=-1)\n",
    "y_val_integer = np.argmax(y_val_e, axis=1)\n",
    "class_conf(y_val_integer,y_pred_class,labels)"
   ]
  },
  {
   "cell_type": "code",
   "execution_count": 444,
   "id": "57c5960d",
   "metadata": {},
   "outputs": [
    {
     "data": {
      "text/html": [
       "<div>\n",
       "<style scoped>\n",
       "    .dataframe tbody tr th:only-of-type {\n",
       "        vertical-align: middle;\n",
       "    }\n",
       "\n",
       "    .dataframe tbody tr th {\n",
       "        vertical-align: top;\n",
       "    }\n",
       "\n",
       "    .dataframe thead th {\n",
       "        text-align: right;\n",
       "    }\n",
       "</style>\n",
       "<table border=\"1\" class=\"dataframe\">\n",
       "  <thead>\n",
       "    <tr style=\"text-align: right;\">\n",
       "      <th></th>\n",
       "      <th>Accuracy</th>\n",
       "      <th>Precision</th>\n",
       "      <th>Recall</th>\n",
       "      <th>F1</th>\n",
       "      <th>ROCAUC</th>\n",
       "    </tr>\n",
       "  </thead>\n",
       "  <tbody>\n",
       "    <tr>\n",
       "      <th>0</th>\n",
       "      <td>0.962264</td>\n",
       "      <td>0.96306</td>\n",
       "      <td>0.962262</td>\n",
       "      <td>0.962426</td>\n",
       "      <td>0.990328</td>\n",
       "    </tr>\n",
       "  </tbody>\n",
       "</table>\n",
       "</div>"
      ],
      "text/plain": [
       "   Accuracy  Precision    Recall        F1    ROCAUC\n",
       "0  0.962264    0.96306  0.962262  0.962426  0.990328"
      ]
     },
     "execution_count": 444,
     "metadata": {},
     "output_type": "execute_result"
    }
   ],
   "source": [
    "results5 = metric_results(y_val_e,y_val_integer,y_pred_class,y_pred_prob)\n",
    "results5"
   ]
  },
  {
   "cell_type": "code",
   "execution_count": 445,
   "id": "00b13371",
   "metadata": {},
   "outputs": [],
   "source": [
    "model5.save(\"SentimentMultiNeuralb.h5\")"
   ]
  },
  {
   "cell_type": "markdown",
   "id": "1fa88d69",
   "metadata": {},
   "source": [
    "# Section 4: Summary of results"
   ]
  },
  {
   "cell_type": "code",
   "execution_count": 446,
   "id": "ac9417e5",
   "metadata": {},
   "outputs": [
    {
     "data": {
      "text/html": [
       "<div>\n",
       "<style scoped>\n",
       "    .dataframe tbody tr th:only-of-type {\n",
       "        vertical-align: middle;\n",
       "    }\n",
       "\n",
       "    .dataframe tbody tr th {\n",
       "        vertical-align: top;\n",
       "    }\n",
       "\n",
       "    .dataframe thead th {\n",
       "        text-align: right;\n",
       "    }\n",
       "</style>\n",
       "<table border=\"1\" class=\"dataframe\">\n",
       "  <thead>\n",
       "    <tr style=\"text-align: right;\">\n",
       "      <th></th>\n",
       "      <th>Accuracy</th>\n",
       "      <th>Precision</th>\n",
       "      <th>Recall</th>\n",
       "      <th>F1</th>\n",
       "      <th>ROCAUC</th>\n",
       "    </tr>\n",
       "  </thead>\n",
       "  <tbody>\n",
       "    <tr>\n",
       "      <th>Model3</th>\n",
       "      <td>0.962264</td>\n",
       "      <td>0.963158</td>\n",
       "      <td>0.962264</td>\n",
       "      <td>0.962463</td>\n",
       "      <td>0.992342</td>\n",
       "    </tr>\n",
       "    <tr>\n",
       "      <th>Model5</th>\n",
       "      <td>0.962264</td>\n",
       "      <td>0.963060</td>\n",
       "      <td>0.962262</td>\n",
       "      <td>0.962426</td>\n",
       "      <td>0.990328</td>\n",
       "    </tr>\n",
       "    <tr>\n",
       "      <th>Model4</th>\n",
       "      <td>0.957736</td>\n",
       "      <td>0.958891</td>\n",
       "      <td>0.957735</td>\n",
       "      <td>0.957942</td>\n",
       "      <td>0.993621</td>\n",
       "    </tr>\n",
       "    <tr>\n",
       "      <th>Model2</th>\n",
       "      <td>0.956226</td>\n",
       "      <td>0.958020</td>\n",
       "      <td>0.956232</td>\n",
       "      <td>0.956467</td>\n",
       "      <td>0.992249</td>\n",
       "    </tr>\n",
       "    <tr>\n",
       "      <th>Model1</th>\n",
       "      <td>0.955472</td>\n",
       "      <td>0.957500</td>\n",
       "      <td>0.955469</td>\n",
       "      <td>0.955807</td>\n",
       "      <td>0.991916</td>\n",
       "    </tr>\n",
       "  </tbody>\n",
       "</table>\n",
       "</div>"
      ],
      "text/plain": [
       "        Accuracy  Precision    Recall        F1    ROCAUC\n",
       "Model3  0.962264   0.963158  0.962264  0.962463  0.992342\n",
       "Model5  0.962264   0.963060  0.962262  0.962426  0.990328\n",
       "Model4  0.957736   0.958891  0.957735  0.957942  0.993621\n",
       "Model2  0.956226   0.958020  0.956232  0.956467  0.992249\n",
       "Model1  0.955472   0.957500  0.955469  0.955807  0.991916"
      ]
     },
     "execution_count": 446,
     "metadata": {},
     "output_type": "execute_result"
    }
   ],
   "source": [
    "models = [\"Model1\",\"Model2\",\"Model3\",\"Model4\",\"Model5\"]\n",
    "summary_table = pd.concat([results1,results2,results3,results4,results5])\n",
    "summary_table.set_index([models],inplace = True)\n",
    "summary_table.to_csv(\"results_sentiment.csv\")\n",
    "summary_table.sort_values(by = \"Accuracy\",ascending = False)"
   ]
  },
  {
   "cell_type": "markdown",
   "id": "992b7814",
   "metadata": {},
   "source": [
    "# Section 5: Hyperparameter Tuning of the Best Model"
   ]
  },
  {
   "cell_type": "code",
   "execution_count": 447,
   "id": "51e57977",
   "metadata": {},
   "outputs": [],
   "source": [
    "# Dense model with 2 hidden dense layers and dropout on each\n",
    "def network_model(learning_rate, initializer, dropout_rate, activation):\n",
    "    model = Sequential()\n",
    "    model.add(Embedding(input_dim = input_dim, output_dim = output_dim, input_length=input_length))\n",
    "    model.add(Flatten())\n",
    "    model.add(Dense(128,activation=activation,kernel_initializer=initializer ))\n",
    "    model.add(Dropout(rate=dropout_rate))\n",
    "    model.add(Dense(3, activation='sigmoid')) \n",
    "    optimizer = keras.optimizers.Adam(learning_rate=learning_rate)\n",
    "    model.compile(optimizer=optimizer, loss='categorical_crossentropy', metrics=['accuracy'])\n",
    "    return model\n",
    "\n",
    "# Use KerasClassifier to convert to sci-kit learn implementation to allow tuning to be easier\n",
    "model = KerasClassifier(build_fn = network_model, verbose = 0)"
   ]
  },
  {
   "cell_type": "code",
   "execution_count": 448,
   "id": "0a40d50d",
   "metadata": {},
   "outputs": [],
   "source": [
    "learning_rate = [0.001, 0.01, 0.1]\n",
    "initializer = ['uniform', 'lecun_uniform', 'normal', 'zero', 'glorot_normal', 'glorot_uniform', 'he_normal', 'he_uniform']\n",
    "dropout_rate = [0.0, 0.1, 0.2, 0.3, 0.4, 0.5, 0.6, 0.7, 0.8, 0.9]\n",
    "batch_size = [8,16,32]\n",
    "activation = ['softmax', 'softplus', 'softsign', 'relu', 'tanh', 'sigmoid', 'hard_sigmoid', 'linear']\n",
    "epochs = [10,20,50,100]\n",
    "batch_size = [8,16,32]\n",
    "\n",
    "param_distribs = {\"learning_rate\":learning_rate, \"initializer\":initializer,\"batch_size\":batch_size,\n",
    "                  \"dropout_rate\" :dropout_rate, \"activation\":activation,\"epochs\" : epochs}\n",
    "clf = RandomizedSearchCV(model, param_distribs, cv = 3,n_jobs = -1)\n",
    "grid_result = clf.fit(X_train_w, y_train_e)"
   ]
  },
  {
   "cell_type": "code",
   "execution_count": 450,
   "id": "5003935c",
   "metadata": {},
   "outputs": [
    {
     "data": {
      "text/html": [
       "<div>\n",
       "<style scoped>\n",
       "    .dataframe tbody tr th:only-of-type {\n",
       "        vertical-align: middle;\n",
       "    }\n",
       "\n",
       "    .dataframe tbody tr th {\n",
       "        vertical-align: top;\n",
       "    }\n",
       "\n",
       "    .dataframe thead th {\n",
       "        text-align: right;\n",
       "    }\n",
       "</style>\n",
       "<table border=\"1\" class=\"dataframe\">\n",
       "  <thead>\n",
       "    <tr style=\"text-align: right;\">\n",
       "      <th></th>\n",
       "      <th>Mean Accuracy</th>\n",
       "      <th>Std</th>\n",
       "      <th>Activation</th>\n",
       "      <th>Learning Rate</th>\n",
       "      <th>Batch size</th>\n",
       "      <th>Epoch</th>\n",
       "      <th>Kernel Init</th>\n",
       "      <th>Dropout</th>\n",
       "    </tr>\n",
       "  </thead>\n",
       "  <tbody>\n",
       "    <tr>\n",
       "      <th>1</th>\n",
       "      <td>0.932522</td>\n",
       "      <td>0.007996</td>\n",
       "      <td>sigmoid</td>\n",
       "      <td>0.010</td>\n",
       "      <td>8</td>\n",
       "      <td>20</td>\n",
       "      <td>zero</td>\n",
       "      <td>0.7</td>\n",
       "    </tr>\n",
       "    <tr>\n",
       "      <th>0</th>\n",
       "      <td>0.931012</td>\n",
       "      <td>0.007779</td>\n",
       "      <td>relu</td>\n",
       "      <td>0.001</td>\n",
       "      <td>16</td>\n",
       "      <td>50</td>\n",
       "      <td>normal</td>\n",
       "      <td>0.2</td>\n",
       "    </tr>\n",
       "    <tr>\n",
       "      <th>9</th>\n",
       "      <td>0.926576</td>\n",
       "      <td>0.003744</td>\n",
       "      <td>relu</td>\n",
       "      <td>0.001</td>\n",
       "      <td>16</td>\n",
       "      <td>20</td>\n",
       "      <td>glorot_uniform</td>\n",
       "      <td>0.6</td>\n",
       "    </tr>\n",
       "    <tr>\n",
       "      <th>8</th>\n",
       "      <td>0.922612</td>\n",
       "      <td>0.006374</td>\n",
       "      <td>softplus</td>\n",
       "      <td>0.001</td>\n",
       "      <td>8</td>\n",
       "      <td>10</td>\n",
       "      <td>he_normal</td>\n",
       "      <td>0.1</td>\n",
       "    </tr>\n",
       "    <tr>\n",
       "      <th>7</th>\n",
       "      <td>0.507361</td>\n",
       "      <td>0.246020</td>\n",
       "      <td>linear</td>\n",
       "      <td>0.010</td>\n",
       "      <td>8</td>\n",
       "      <td>20</td>\n",
       "      <td>normal</td>\n",
       "      <td>0.0</td>\n",
       "    </tr>\n",
       "    <tr>\n",
       "      <th>2</th>\n",
       "      <td>0.333333</td>\n",
       "      <td>0.009251</td>\n",
       "      <td>softsign</td>\n",
       "      <td>0.100</td>\n",
       "      <td>16</td>\n",
       "      <td>50</td>\n",
       "      <td>he_uniform</td>\n",
       "      <td>0.7</td>\n",
       "    </tr>\n",
       "    <tr>\n",
       "      <th>3</th>\n",
       "      <td>0.333333</td>\n",
       "      <td>0.009251</td>\n",
       "      <td>relu</td>\n",
       "      <td>0.100</td>\n",
       "      <td>32</td>\n",
       "      <td>50</td>\n",
       "      <td>glorot_uniform</td>\n",
       "      <td>0.9</td>\n",
       "    </tr>\n",
       "    <tr>\n",
       "      <th>4</th>\n",
       "      <td>0.333333</td>\n",
       "      <td>0.009251</td>\n",
       "      <td>sigmoid</td>\n",
       "      <td>0.100</td>\n",
       "      <td>32</td>\n",
       "      <td>20</td>\n",
       "      <td>zero</td>\n",
       "      <td>0.9</td>\n",
       "    </tr>\n",
       "    <tr>\n",
       "      <th>5</th>\n",
       "      <td>0.333333</td>\n",
       "      <td>0.009251</td>\n",
       "      <td>relu</td>\n",
       "      <td>0.100</td>\n",
       "      <td>8</td>\n",
       "      <td>50</td>\n",
       "      <td>glorot_normal</td>\n",
       "      <td>0.6</td>\n",
       "    </tr>\n",
       "    <tr>\n",
       "      <th>6</th>\n",
       "      <td>0.327860</td>\n",
       "      <td>0.004410</td>\n",
       "      <td>softmax</td>\n",
       "      <td>0.100</td>\n",
       "      <td>8</td>\n",
       "      <td>100</td>\n",
       "      <td>uniform</td>\n",
       "      <td>0.5</td>\n",
       "    </tr>\n",
       "  </tbody>\n",
       "</table>\n",
       "</div>"
      ],
      "text/plain": [
       "   Mean Accuracy       Std Activation  Learning Rate  Batch size  Epoch  \\\n",
       "1       0.932522  0.007996    sigmoid          0.010           8     20   \n",
       "0       0.931012  0.007779       relu          0.001          16     50   \n",
       "9       0.926576  0.003744       relu          0.001          16     20   \n",
       "8       0.922612  0.006374   softplus          0.001           8     10   \n",
       "7       0.507361  0.246020     linear          0.010           8     20   \n",
       "2       0.333333  0.009251   softsign          0.100          16     50   \n",
       "3       0.333333  0.009251       relu          0.100          32     50   \n",
       "4       0.333333  0.009251    sigmoid          0.100          32     20   \n",
       "5       0.333333  0.009251       relu          0.100           8     50   \n",
       "6       0.327860  0.004410    softmax          0.100           8    100   \n",
       "\n",
       "      Kernel Init  Dropout  \n",
       "1            zero      0.7  \n",
       "0          normal      0.2  \n",
       "9  glorot_uniform      0.6  \n",
       "8       he_normal      0.1  \n",
       "7          normal      0.0  \n",
       "2      he_uniform      0.7  \n",
       "3  glorot_uniform      0.9  \n",
       "4            zero      0.9  \n",
       "5   glorot_normal      0.6  \n",
       "6         uniform      0.5  "
      ]
     },
     "execution_count": 450,
     "metadata": {},
     "output_type": "execute_result"
    }
   ],
   "source": [
    "# Extract results from the gridsearch\n",
    "\n",
    "# Set the scores\n",
    "means = grid_result.cv_results_['mean_test_score']\n",
    "stds = grid_result.cv_results_['std_test_score']\n",
    "params = grid_result.cv_results_['params']\n",
    "\n",
    "# Set the parameters\n",
    "Act = [i['activation'] for i in params]\n",
    "learning_rate = [i['learning_rate'] for i in params]\n",
    "drop = [i['dropout_rate'] for i in params]\n",
    "batch = [i['batch_size'] for i in params]\n",
    "epoch = [i['epochs'] for i in params]\n",
    "kern = [i['initializer'] for i in params]\n",
    "\n",
    "# Show in dataframe and sort\n",
    "cv_results = pd.DataFrame({'Mean Accuracy':means, 'Std':stds, 'Activation':Act, 'Learning Rate': learning_rate, \n",
    "                           'Batch size': batch, 'Epoch':epoch,'Kernel Init':kern,'Dropout': drop})\n",
    "cv_results.sort_values(by=['Mean Accuracy'],ascending=False)"
   ]
  },
  {
   "cell_type": "markdown",
   "id": "eed7eb6d",
   "metadata": {},
   "source": [
    "No improvements in accuracy"
   ]
  },
  {
   "cell_type": "markdown",
   "id": "88a1eb33",
   "metadata": {},
   "source": [
    "# Section 6: Best Model against the Test Set"
   ]
  },
  {
   "cell_type": "code",
   "execution_count": 452,
   "id": "7d34ce07",
   "metadata": {},
   "outputs": [],
   "source": [
    "model4.load_weights('model_output/SentimentMulticlass4/weights.06.hdf5')"
   ]
  },
  {
   "cell_type": "code",
   "execution_count": 451,
   "id": "f5f90d7e",
   "metadata": {},
   "outputs": [
    {
     "name": "stdout",
     "output_type": "stream",
     "text": [
      "              precision    recall  f1-score   support\n",
      "\n",
      "           0       0.97      0.95      0.96       441\n",
      "           1       0.94      0.97      0.95       441\n",
      "           2       0.98      0.97      0.98       442\n",
      "\n",
      "    accuracy                           0.96      1324\n",
      "   macro avg       0.96      0.96      0.96      1324\n",
      "weighted avg       0.96      0.96      0.96      1324\n",
      "\n"
     ]
    },
    {
     "data": {
      "image/png": "[encoded data removed]",
      "text/plain": [
       "<Figure size 576x432 with 2 Axes>"
      ]
     },
     "metadata": {},
     "output_type": "display_data"
    }
   ],
   "source": [
    "y_pred_prob = model4.predict(X_test_w)\n",
    "y_pred_class = np.argmax(model4.predict(X_test_w), axis=-1)\n",
    "y_test_integer = np.argmax(y_test_e, axis=1)\n",
    "class_conf(y_test_integer,y_pred_class,labels)"
   ]
  },
  {
   "cell_type": "code",
   "execution_count": 454,
   "id": "9673b376",
   "metadata": {},
   "outputs": [
    {
     "data": {
      "text/html": [
       "<div>\n",
       "<style scoped>\n",
       "    .dataframe tbody tr th:only-of-type {\n",
       "        vertical-align: middle;\n",
       "    }\n",
       "\n",
       "    .dataframe tbody tr th {\n",
       "        vertical-align: top;\n",
       "    }\n",
       "\n",
       "    .dataframe thead th {\n",
       "        text-align: right;\n",
       "    }\n",
       "</style>\n",
       "<table border=\"1\" class=\"dataframe\">\n",
       "  <thead>\n",
       "    <tr style=\"text-align: right;\">\n",
       "      <th></th>\n",
       "      <th>Accuracy</th>\n",
       "      <th>Precision</th>\n",
       "      <th>Recall</th>\n",
       "      <th>F1</th>\n",
       "      <th>ROCAUC</th>\n",
       "    </tr>\n",
       "  </thead>\n",
       "  <tbody>\n",
       "    <tr>\n",
       "      <th>Multi-class Sentiment NN Model 4</th>\n",
       "      <td>0.963746</td>\n",
       "      <td>0.964149</td>\n",
       "      <td>0.963741</td>\n",
       "      <td>0.963803</td>\n",
       "      <td>0.989733</td>\n",
       "    </tr>\n",
       "  </tbody>\n",
       "</table>\n",
       "</div>"
      ],
      "text/plain": [
       "                                  Accuracy  Precision    Recall        F1  \\\n",
       "Multi-class Sentiment NN Model 4  0.963746   0.964149  0.963741  0.963803   \n",
       "\n",
       "                                    ROCAUC  \n",
       "Multi-class Sentiment NN Model 4  0.989733  "
      ]
     },
     "execution_count": 454,
     "metadata": {},
     "output_type": "execute_result"
    }
   ],
   "source": [
    "results6= metric_results(y_test_e,y_test_integer,y_pred_class,y_pred_prob)\n",
    "results6.index = [\"Multi-class Sentiment NN Model 4\"]\n",
    "results6"
   ]
  }
 ],
 "metadata": {
  "kernelspec": {
   "display_name": "Python 3",
   "language": "python",
   "name": "python3"
  },
  "language_info": {
   "codemirror_mode": {
    "name": "ipython",
    "version": 3
   },
   "file_extension": ".py",
   "mimetype": "text/x-python",
   "name": "python",
   "nbconvert_exporter": "python",
   "pygments_lexer": "ipython3",
   "version": "3.7.10"
  }
 },
 "nbformat": 4,
 "nbformat_minor": 5
}
