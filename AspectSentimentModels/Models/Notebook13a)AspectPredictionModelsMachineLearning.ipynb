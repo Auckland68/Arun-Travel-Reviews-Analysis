{
 "cells": [
  {
   "cell_type": "markdown",
   "id": "21197d8f",
   "metadata": {},
   "source": [
    "# Notebook 13 a) Aspect Prediction with Machine Learning Models"
   ]
  },
  {
   "cell_type": "markdown",
   "id": "1a50d9be",
   "metadata": {},
   "source": [
    "This notebook investigates predictive models for the aspects part of the review data based on the extracted nouns using ML models. The output is therefore multiclass.\n",
    "\n",
    "* Section 1 - Import libraries and dataset\n",
    "* Section 2 - Pre-processing\n",
    "* Section 3 - Run models\n",
    "* Section 4 - Prediction on validation set\n",
    "\n",
    "Dataset:\n",
    "* combinedaspectcheck.xlsx"
   ]
  },
  {
   "cell_type": "markdown",
   "id": "b19a0a95",
   "metadata": {},
   "source": [
    "# Section 1: Import libraries and data"
   ]
  },
  {
   "cell_type": "code",
   "execution_count": 358,
   "id": "d44f1543",
   "metadata": {},
   "outputs": [],
   "source": [
    "import pandas as pd\n",
    "import numpy as np\n",
    "import matplotlib.pyplot as plt\n",
    "import seaborn as sns\n",
    "from sklearn import preprocessing\n",
    "from sklearn.model_selection import train_test_split, cross_val_score, StratifiedKFold\n",
    "from sklearn.feature_extraction.text import TfidfVectorizer\n",
    "from sklearn.preprocessing import LabelBinarizer\n",
    "from sklearn.naive_bayes import MultinomialNB\n",
    "from sklearn.linear_model import LogisticRegression\n",
    "from sklearn.ensemble import RandomForestClassifier\n",
    "from sklearn.svm import LinearSVC\n",
    "from sklearn.svm import SVC\n",
    "from sklearn.model_selection import cross_val_score\n",
    "from sklearn.metrics import confusion_matrix, classification_report"
   ]
  },
  {
   "cell_type": "code",
   "execution_count": 359,
   "id": "7c8c8b06",
   "metadata": {},
   "outputs": [],
   "source": [
    "df_accom = pd.read_excel('combinedaspectcheck.xlsx',sheet_name = 'CLEANEDACCOM')\n",
    "df_food = pd.read_excel(\"combinedaspectcheck.xlsx\",sheet_name = \"CLEANEDFOOD\")\n",
    "df_attract = pd.read_excel(\"combinedaspectcheck.xlsx\", sheet_name = \"CLEANEDATTRACT\")"
   ]
  },
  {
   "cell_type": "code",
   "execution_count": 360,
   "id": "2576c76c",
   "metadata": {},
   "outputs": [
    {
     "data": {
      "text/html": [
       "<div>\n",
       "<style scoped>\n",
       "    .dataframe tbody tr th:only-of-type {\n",
       "        vertical-align: middle;\n",
       "    }\n",
       "\n",
       "    .dataframe tbody tr th {\n",
       "        vertical-align: top;\n",
       "    }\n",
       "\n",
       "    .dataframe thead th {\n",
       "        text-align: right;\n",
       "    }\n",
       "</style>\n",
       "<table border=\"1\" class=\"dataframe\">\n",
       "  <thead>\n",
       "    <tr style=\"text-align: right;\">\n",
       "      <th></th>\n",
       "      <th>OrigInd</th>\n",
       "      <th>Category</th>\n",
       "      <th>Cleaned</th>\n",
       "      <th>Noun Phrases</th>\n",
       "      <th>Nouns</th>\n",
       "      <th>Aspect</th>\n",
       "      <th>Sentiment</th>\n",
       "    </tr>\n",
       "  </thead>\n",
       "  <tbody>\n",
       "    <tr>\n",
       "      <th>0</th>\n",
       "      <td>2030</td>\n",
       "      <td>Accommodation</td>\n",
       "      <td>main complaint room made u feel ill</td>\n",
       "      <td>main complaint room</td>\n",
       "      <td>complaint room</td>\n",
       "      <td>Room</td>\n",
       "      <td>-0.2960</td>\n",
       "    </tr>\n",
       "    <tr>\n",
       "      <th>1</th>\n",
       "      <td>10751</td>\n",
       "      <td>Accommodation</td>\n",
       "      <td>weekend away staff great room clean shower goo...</td>\n",
       "      <td>great room</td>\n",
       "      <td>room</td>\n",
       "      <td>Room</td>\n",
       "      <td>0.6249</td>\n",
       "    </tr>\n",
       "    <tr>\n",
       "      <th>2</th>\n",
       "      <td>11247</td>\n",
       "      <td>Accommodation</td>\n",
       "      <td>great room breakfast fabulous central location</td>\n",
       "      <td>great room breakfast fabulous</td>\n",
       "      <td>room breakfast</td>\n",
       "      <td>Room</td>\n",
       "      <td>0.8176</td>\n",
       "    </tr>\n",
       "    <tr>\n",
       "      <th>3</th>\n",
       "      <td>21902</td>\n",
       "      <td>Accommodation</td>\n",
       "      <td>shower great size well toiletry clean towel pr...</td>\n",
       "      <td>clean towel</td>\n",
       "      <td>towel</td>\n",
       "      <td>Room</td>\n",
       "      <td>0.4019</td>\n",
       "    </tr>\n",
       "    <tr>\n",
       "      <th>4</th>\n",
       "      <td>22835</td>\n",
       "      <td>Accommodation</td>\n",
       "      <td>great bed breakfast stayed week encore guest h...</td>\n",
       "      <td>lovely clean room facility</td>\n",
       "      <td>room facility</td>\n",
       "      <td>Room</td>\n",
       "      <td>0.7579</td>\n",
       "    </tr>\n",
       "  </tbody>\n",
       "</table>\n",
       "</div>"
      ],
      "text/plain": [
       "   OrigInd       Category                                            Cleaned  \\\n",
       "0     2030  Accommodation                main complaint room made u feel ill   \n",
       "1    10751  Accommodation  weekend away staff great room clean shower goo...   \n",
       "2    11247  Accommodation     great room breakfast fabulous central location   \n",
       "3    21902  Accommodation  shower great size well toiletry clean towel pr...   \n",
       "4    22835  Accommodation  great bed breakfast stayed week encore guest h...   \n",
       "\n",
       "                    Noun Phrases           Nouns Aspect  Sentiment  \n",
       "0            main complaint room  complaint room   Room    -0.2960  \n",
       "1                     great room            room   Room     0.6249  \n",
       "2  great room breakfast fabulous  room breakfast   Room     0.8176  \n",
       "3                    clean towel           towel   Room     0.4019  \n",
       "4     lovely clean room facility   room facility   Room     0.7579  "
      ]
     },
     "execution_count": 360,
     "metadata": {},
     "output_type": "execute_result"
    }
   ],
   "source": [
    "df_accom.head()"
   ]
  },
  {
   "cell_type": "markdown",
   "id": "95c35e60",
   "metadata": {},
   "source": [
    "# Section 2: Pre-processing"
   ]
  },
  {
   "cell_type": "code",
   "execution_count": 361,
   "id": "79af60e7",
   "metadata": {},
   "outputs": [],
   "source": [
    "# Drop column\n",
    "df_accom.drop([\"Category\"],axis = 1, inplace = True)\n",
    "df_food.drop([\"Category\"],axis = 1,inplace = True)\n",
    "df_attract.drop([\"Category\"],axis = 1,inplace = True)"
   ]
  },
  {
   "cell_type": "code",
   "execution_count": 362,
   "id": "69663721",
   "metadata": {},
   "outputs": [],
   "source": [
    "# Set to title case as some categories are multiples\n",
    "df_accom[\"Aspect\"] = df_accom[\"Aspect\"].apply(lambda x: x.title())"
   ]
  },
  {
   "cell_type": "code",
   "execution_count": 363,
   "id": "2ccbab4e",
   "metadata": {},
   "outputs": [
    {
     "data": {
      "text/plain": [
       "Room             350\n",
       "Staff            350\n",
       "Hotel            350\n",
       "Entertainment    350\n",
       "Food             350\n",
       "Value            250\n",
       "Location         220\n",
       "Name: Aspect, dtype: int64"
      ]
     },
     "execution_count": 363,
     "metadata": {},
     "output_type": "execute_result"
    }
   ],
   "source": [
    "df_accom[\"Aspect\"].value_counts()"
   ]
  },
  {
   "cell_type": "code",
   "execution_count": 364,
   "id": "30ae4bb9",
   "metadata": {},
   "outputs": [
    {
     "data": {
      "text/plain": [
       "Food Quality     350\n",
       "Visit Exp        350\n",
       "Meal Exp         350\n",
       "Menu Choice      350\n",
       "Value            350\n",
       "Staff&Service    350\n",
       "Name: Aspect, dtype: int64"
      ]
     },
     "execution_count": 364,
     "metadata": {},
     "output_type": "execute_result"
    }
   ],
   "source": [
    "df_food[\"Aspect\"].value_counts()"
   ]
  },
  {
   "cell_type": "code",
   "execution_count": 365,
   "id": "54b8b507",
   "metadata": {},
   "outputs": [
    {
     "data": {
      "text/plain": [
       "Activities       300\n",
       "Amenities        300\n",
       "Nature           300\n",
       "VisitExp&Gen     250\n",
       "Staff&Service    200\n",
       "History          150\n",
       "Value            150\n",
       "Name: Aspect, dtype: int64"
      ]
     },
     "execution_count": 365,
     "metadata": {},
     "output_type": "execute_result"
    }
   ],
   "source": [
    "df_attract[\"Aspect\"].value_counts()"
   ]
  },
  {
   "cell_type": "code",
   "execution_count": 366,
   "id": "fa4021ed",
   "metadata": {},
   "outputs": [],
   "source": [
    "# Function to specify X and y\n",
    "def XY(df):\n",
    "    X = df[\"Nouns\"]\n",
    "    y = df[\"Aspect\"]\n",
    "\n",
    "    return X,y"
   ]
  },
  {
   "cell_type": "code",
   "execution_count": 367,
   "id": "3bb9d571",
   "metadata": {},
   "outputs": [
    {
     "name": "stdout",
     "output_type": "stream",
     "text": [
      "(2220,) (2220,)\n",
      "(2100,) (2100,)\n",
      "(1650,) (1650,)\n"
     ]
    }
   ],
   "source": [
    "# Apply function and print shape\n",
    "X_accom,y_accom = XY(df_accom)\n",
    "X_food,y_food = XY(df_food)\n",
    "X_attract,y_attract = XY(df_attract)\n",
    "\n",
    "print(X_accom.shape,y_accom.shape)\n",
    "print(X_food.shape,y_food.shape)\n",
    "print(X_attract.shape,y_attract.shape)\n"
   ]
  },
  {
   "cell_type": "code",
   "execution_count": 401,
   "id": "ac0f08d4",
   "metadata": {},
   "outputs": [],
   "source": [
    "# Train, validation split\n",
    "def train_test(X,y):\n",
    "    X_train, X_val, y_train, y_val = train_test_split(X,y, stratify = y,test_size=0.20, shuffle = True)\n",
    "    return X_train,X_val,y_train,y_val"
   ]
  },
  {
   "cell_type": "code",
   "execution_count": 402,
   "id": "400da50c",
   "metadata": {},
   "outputs": [],
   "source": [
    "# Run function\n",
    "X_train_accom,X_val_accom,y_train_accom,y_val_accom = train_test(X_accom,y_accom)\n",
    "X_train_food,X_val_food,y_train_food,y_val_food = train_test(X_food,y_food)\n",
    "X_train_attract,X_val_attract,y_train_attract,y_val_attract = train_test(X_attract,y_attract)"
   ]
  },
  {
   "cell_type": "code",
   "execution_count": 403,
   "id": "a17425d4",
   "metadata": {},
   "outputs": [
    {
     "name": "stdout",
     "output_type": "stream",
     "text": [
      "(1776,) (444,) (1776,) (444,)\n",
      "(1680,) (420,) (1680,) (420,)\n",
      "(1320,) (330,) (1320,) (330,)\n"
     ]
    }
   ],
   "source": [
    "# Shape of training, validation and test sets for each category\n",
    "print(X_train_accom.shape, X_val_accom.shape, y_train_accom.shape, y_val_accom.shape)\n",
    "print(X_train_food.shape, X_val_food.shape, y_train_food.shape, y_val_food.shape)\n",
    "print(X_train_attract.shape,X_val_attract.shape, y_train_attract.shape, y_val_attract.shape)"
   ]
  },
  {
   "cell_type": "code",
   "execution_count": 404,
   "id": "e54dc924",
   "metadata": {},
   "outputs": [],
   "source": [
    "# TFIDF vectorizer function\n",
    "def vec(X_train, X_val):\n",
    "    vect = TfidfVectorizer(use_idf = True, max_df = 1.0, min_df = 1, stop_words = \"english\", \n",
    "                           ngram_range = (1,1),smooth_idf = True, norm = 'l2')\n",
    "    vect.fit(X_train)\n",
    "    X_train_tfidf = vect.transform(X_train)\n",
    "    X_val_tfidf = vect.transform(X_val)\n",
    "    return X_train_tfidf, X_val_tfidf"
   ]
  },
  {
   "cell_type": "code",
   "execution_count": 405,
   "id": "51ccf99e",
   "metadata": {},
   "outputs": [],
   "source": [
    "# Run function\n",
    "X_train_accom_tfidf, X_val_accom_tfidf = vec(X_train_accom, X_val_accom)\n",
    "X_train_food_tfidf, X_val_food_tfidf = vec(X_train_food, X_val_food)\n",
    "X_train_attract_tfidf, X_val_attract_tfidf = vec(X_train_attract, X_val_attract)"
   ]
  },
  {
   "cell_type": "code",
   "execution_count": 406,
   "id": "45816554",
   "metadata": {},
   "outputs": [],
   "source": [
    "# Function to encode y values as integer labels (necessary for stratified cross validation as one-hot encoded doesn't work)\n",
    "def lab(y_train, y_val):\n",
    "    le = preprocessing.LabelEncoder()\n",
    "    y_train_l = le.fit_transform(y_train)\n",
    "    y_val_l = le.transform(y_val)\n",
    "    return y_train_l, y_val_l"
   ]
  },
  {
   "cell_type": "code",
   "execution_count": 407,
   "id": "5d2727bf",
   "metadata": {},
   "outputs": [],
   "source": [
    "# Apply functions\n",
    "y_train_accom_l, y_val_accom_l = lab(y_train_accom, y_val_accom)\n",
    "y_train_food_l, y_val_food_l = lab(y_train_food, y_val_food)\n",
    "y_train_attract_l, y_val_attract_l = lab(y_train_attract, y_val_attract)"
   ]
  },
  {
   "cell_type": "code",
   "execution_count": 408,
   "id": "83ee0cae",
   "metadata": {},
   "outputs": [
    {
     "data": {
      "text/plain": [
       "<1776x793 sparse matrix of type '<class 'numpy.float64'>'\n",
       "\twith 3605 stored elements in Compressed Sparse Row format>"
      ]
     },
     "execution_count": 408,
     "metadata": {},
     "output_type": "execute_result"
    }
   ],
   "source": [
    "X_train_accom_tfidf"
   ]
  },
  {
   "cell_type": "code",
   "execution_count": 409,
   "id": "5e35ed96",
   "metadata": {},
   "outputs": [],
   "source": [
    "# Stratified K Fold\n",
    "def strat(model, X_train,y_train,vector):\n",
    "    kfold = StratifiedKFold(n_splits=10, shuffle=True, random_state=1)\n",
    "    cv_results = cross_val_score(model, X_train,y_train, cv=kfold)\n",
    "    mean = cv_results.mean()\n",
    "    df = pd.DataFrame({vector:mean},index = [0])\n",
    "    return df"
   ]
  },
  {
   "cell_type": "markdown",
   "id": "1d6049b3",
   "metadata": {},
   "source": [
    "# Section 3: Run models"
   ]
  },
  {
   "cell_type": "code",
   "execution_count": 410,
   "id": "70e4e14d",
   "metadata": {},
   "outputs": [],
   "source": [
    "# Define models\n",
    "clf1 = MultinomialNB()\n",
    "clf2 = LogisticRegression(random_state=0, class_weight = \"balanced\")\n",
    "clf3 = RandomForestClassifier(n_estimators=200, max_depth=3, random_state=0, class_weight = \"balanced\")\n",
    "clf4 = LinearSVC(class_weight = \"balanced\")"
   ]
  },
  {
   "cell_type": "code",
   "execution_count": 411,
   "id": "df8cbe01",
   "metadata": {},
   "outputs": [],
   "source": [
    "ac1 = strat(clf1, X_train_accom_tfidf, y_train_accom_l,\"NB\")\n",
    "f1 = strat(clf1, X_train_food_tfidf, y_train_food_l,\"NB\")\n",
    "t1 = strat(clf1, X_train_attract_tfidf, y_train_attract_l,\"NB\")"
   ]
  },
  {
   "cell_type": "code",
   "execution_count": 412,
   "id": "a842cb3b",
   "metadata": {},
   "outputs": [],
   "source": [
    "ac2 = strat(clf2, X_train_accom_tfidf, y_train_accom_l,\"LR\")\n",
    "f2 = strat(clf2, X_train_food_tfidf, y_train_food_l,\"LR\")\n",
    "t2 = strat(clf2, X_train_attract_tfidf, y_train_attract_l,\"LR\")"
   ]
  },
  {
   "cell_type": "code",
   "execution_count": 413,
   "id": "cf89aac7",
   "metadata": {},
   "outputs": [],
   "source": [
    "ac3 = strat(clf3, X_train_accom_tfidf, y_train_accom_l,\"RF\")\n",
    "f3 = strat(clf3, X_train_food_tfidf, y_train_food_l,\"RF\")\n",
    "t3 = strat(clf3, X_train_attract_tfidf, y_train_attract_l,\"RF\")"
   ]
  },
  {
   "cell_type": "code",
   "execution_count": 414,
   "id": "c7c249de",
   "metadata": {},
   "outputs": [],
   "source": [
    "ac4 = strat(clf4, X_train_accom_tfidf, y_train_accom_l,\"SVM\")\n",
    "f4 = strat(clf4, X_train_food_tfidf, y_train_food_l,\"SVM\")\n",
    "t4 = strat(clf4, X_train_attract_tfidf, y_train_attract_l,\"SVM\")"
   ]
  },
  {
   "cell_type": "code",
   "execution_count": 415,
   "id": "0c9d2135",
   "metadata": {},
   "outputs": [
    {
     "data": {
      "text/html": [
       "<div>\n",
       "<style scoped>\n",
       "    .dataframe tbody tr th:only-of-type {\n",
       "        vertical-align: middle;\n",
       "    }\n",
       "\n",
       "    .dataframe tbody tr th {\n",
       "        vertical-align: top;\n",
       "    }\n",
       "\n",
       "    .dataframe thead th {\n",
       "        text-align: right;\n",
       "    }\n",
       "</style>\n",
       "<table border=\"1\" class=\"dataframe\">\n",
       "  <thead>\n",
       "    <tr style=\"text-align: right;\">\n",
       "      <th></th>\n",
       "      <th>NB</th>\n",
       "      <th>LR</th>\n",
       "      <th>RF</th>\n",
       "      <th>SVM</th>\n",
       "    </tr>\n",
       "  </thead>\n",
       "  <tbody>\n",
       "    <tr>\n",
       "      <th>Accom</th>\n",
       "      <td>0.913848</td>\n",
       "      <td>0.924554</td>\n",
       "      <td>0.871624</td>\n",
       "      <td>0.925674</td>\n",
       "    </tr>\n",
       "    <tr>\n",
       "      <th>Food</th>\n",
       "      <td>0.932143</td>\n",
       "      <td>0.955952</td>\n",
       "      <td>0.945833</td>\n",
       "      <td>0.960119</td>\n",
       "    </tr>\n",
       "    <tr>\n",
       "      <th>Attract</th>\n",
       "      <td>0.819697</td>\n",
       "      <td>0.841667</td>\n",
       "      <td>0.747727</td>\n",
       "      <td>0.849242</td>\n",
       "    </tr>\n",
       "  </tbody>\n",
       "</table>\n",
       "</div>"
      ],
      "text/plain": [
       "               NB        LR        RF       SVM\n",
       "Accom    0.913848  0.924554  0.871624  0.925674\n",
       "Food     0.932143  0.955952  0.945833  0.960119\n",
       "Attract  0.819697  0.841667  0.747727  0.849242"
      ]
     },
     "execution_count": 415,
     "metadata": {},
     "output_type": "execute_result"
    }
   ],
   "source": [
    "# Training accuracies all models\n",
    "models = [\"Accom\",\"Food\",\"Attract\"]\n",
    "a = pd.concat([ac1,ac2,ac3,ac4],axis = 1)\n",
    "b = pd.concat([f1,f2,f3,f4],axis = 1)\n",
    "c = pd.concat([t1,t2,t3,t4],axis = 1)\n",
    "all_models = pd.concat([a,b,c],axis = 0)\n",
    "all_models.set_index([models],inplace = True)\n",
    "all_models"
   ]
  },
  {
   "cell_type": "markdown",
   "id": "9df54589",
   "metadata": {},
   "source": [
    "# Section 4: Prediction on validation set of best model"
   ]
  },
  {
   "cell_type": "code",
   "execution_count": 416,
   "id": "d8447890",
   "metadata": {},
   "outputs": [],
   "source": [
    "def prediction(model,X_train,y_train,X_val,y_val,labels):\n",
    "    model.fit(X_train,y_train)\n",
    "    y_pred = model.predict(X_val)\n",
    "    print(classification_report(y_val, y_pred))\n",
    "    conf_mat = confusion_matrix(y_val, y_pred)\n",
    "    fig, ax = plt.subplots(figsize=(10,8))\n",
    "    ax = sns.heatmap(conf_mat, annot=True, fmt='d',\n",
    "                     xticklabels=labels, yticklabels=labels)\n",
    "    ax.set_ylabel('Actual',labelpad = 10)\n",
    "    ax.set_xlabel('Predicted', labelpad = 13)\n",
    "    plt.show()\n"
   ]
  },
  {
   "cell_type": "code",
   "execution_count": 417,
   "id": "e7188c87",
   "metadata": {},
   "outputs": [],
   "source": [
    "labels_accom = [\"Entertainment\",\"Food\",\"Hotel\",\"Location\",\"Room\",\"Staff\",\"Value\"]\n",
    "labels_food = [\"Food Quality\",\"Meal Exp\",\"Menu Choice\",\"Staff\",\"Value\",\"Visit Exp\",\"\"]\n",
    "labels_attract= [\"Activities\",\"Amenities\",\"History\",\"Nature\",\"Staff/Service\",\"Value\",\"VisitGen\"]"
   ]
  },
  {
   "cell_type": "markdown",
   "id": "2ad3bac6",
   "metadata": {},
   "source": [
    "## Accommodation"
   ]
  },
  {
   "cell_type": "code",
   "execution_count": 418,
   "id": "f9ff13e0",
   "metadata": {},
   "outputs": [
    {
     "name": "stdout",
     "output_type": "stream",
     "text": [
      "              precision    recall  f1-score   support\n",
      "\n",
      "           0       0.82      0.94      0.88        70\n",
      "           1       1.00      0.94      0.97        70\n",
      "           2       0.99      0.99      0.99        70\n",
      "           3       0.98      0.93      0.95        44\n",
      "           4       0.93      0.89      0.91        70\n",
      "           5       0.97      0.97      0.97        70\n",
      "           6       0.98      0.96      0.97        50\n",
      "\n",
      "    accuracy                           0.95       444\n",
      "   macro avg       0.95      0.95      0.95       444\n",
      "weighted avg       0.95      0.95      0.95       444\n",
      "\n"
     ]
    },
    {
     "data": {
      "image/png": "[encoded data removed]",
      "text/plain": [
       "<Figure size 720x576 with 2 Axes>"
      ]
     },
     "metadata": {
      "needs_background": "light"
     },
     "output_type": "display_data"
    }
   ],
   "source": [
    "prediction(clf4,X_train_accom_tfidf,y_train_accom_l,X_val_accom_tfidf,y_val_accom_l,labels_accom)"
   ]
  },
  {
   "cell_type": "markdown",
   "id": "c5f3e3e3",
   "metadata": {},
   "source": [
    "Analysis:\n",
    "* Model performs quite well but the 'Food' category has quite a few misclassifications as 'Entertainment'"
   ]
  },
  {
   "cell_type": "code",
   "execution_count": 419,
   "id": "3964bbde",
   "metadata": {},
   "outputs": [
    {
     "data": {
      "text/plain": [
       "Room             8\n",
       "Food             4\n",
       "Entertainment    4\n",
       "Location         3\n",
       "Value            2\n",
       "Staff            2\n",
       "Hotel            1\n",
       "Name: Aspect, dtype: int64"
      ]
     },
     "execution_count": 419,
     "metadata": {},
     "output_type": "execute_result"
    }
   ],
   "source": [
    "# Get df of aspects and their respective codes\n",
    "df_accom = pd.concat([pd.DataFrame(y_val_accom).reset_index(),pd.DataFrame(y_val_accom_l).reset_index()],axis = 1,ignore_index = True)\n",
    "df_accom=df_accom[[1,3]]\n",
    "\n",
    "# Fit best model to training, predict on validation\n",
    "clf4.fit(X_train_accom_tfidf,y_train_accom_l)\n",
    "y_pred_accom = pd.DataFrame(clf4.predict(X_val_accom_tfidf))\n",
    "\n",
    "# Compare actual and predicted\n",
    "compare_accom = pd.concat([df_accom,y_pred_accom],axis = 1,ignore_index = True)\n",
    "compare_accom.columns = [\"Aspect\",\"Integer\",\"Predicted\"]\n",
    "wrong_accom = compare_accom[compare_accom[\"Integer\"]!=compare_accom[\"Predicted\"]]\n",
    "wrong_accom.Aspect.value_counts()"
   ]
  },
  {
   "cell_type": "code",
   "execution_count": 437,
   "id": "3811400f",
   "metadata": {},
   "outputs": [
    {
     "data": {
      "text/html": [
       "<div>\n",
       "<style scoped>\n",
       "    .dataframe tbody tr th:only-of-type {\n",
       "        vertical-align: middle;\n",
       "    }\n",
       "\n",
       "    .dataframe tbody tr th {\n",
       "        vertical-align: top;\n",
       "    }\n",
       "\n",
       "    .dataframe thead th {\n",
       "        text-align: right;\n",
       "    }\n",
       "</style>\n",
       "<table border=\"1\" class=\"dataframe\">\n",
       "  <thead>\n",
       "    <tr style=\"text-align: right;\">\n",
       "      <th></th>\n",
       "      <th>Aspect</th>\n",
       "      <th>Integer</th>\n",
       "      <th>Predicted</th>\n",
       "    </tr>\n",
       "  </thead>\n",
       "  <tbody>\n",
       "    <tr>\n",
       "      <th>130</th>\n",
       "      <td>Food</td>\n",
       "      <td>1</td>\n",
       "      <td>0</td>\n",
       "    </tr>\n",
       "    <tr>\n",
       "      <th>236</th>\n",
       "      <td>Food</td>\n",
       "      <td>1</td>\n",
       "      <td>4</td>\n",
       "    </tr>\n",
       "    <tr>\n",
       "      <th>271</th>\n",
       "      <td>Food</td>\n",
       "      <td>1</td>\n",
       "      <td>0</td>\n",
       "    </tr>\n",
       "    <tr>\n",
       "      <th>343</th>\n",
       "      <td>Food</td>\n",
       "      <td>1</td>\n",
       "      <td>5</td>\n",
       "    </tr>\n",
       "  </tbody>\n",
       "</table>\n",
       "</div>"
      ],
      "text/plain": [
       "    Aspect  Integer  Predicted\n",
       "130   Food        1          0\n",
       "236   Food        1          4\n",
       "271   Food        1          0\n",
       "343   Food        1          5"
      ]
     },
     "execution_count": 437,
     "metadata": {},
     "output_type": "execute_result"
    }
   ],
   "source": [
    "wrong_accom[wrong_accom[\"Aspect\"] == \"Food\"]"
   ]
  },
  {
   "cell_type": "markdown",
   "id": "c71eb451",
   "metadata": {},
   "source": [
    "Misclassified mostly as Entertainment"
   ]
  },
  {
   "cell_type": "code",
   "execution_count": 438,
   "id": "bfd57b06",
   "metadata": {},
   "outputs": [
    {
     "name": "stdout",
     "output_type": "stream",
     "text": [
      "flavour\n",
      "decor table\n",
      "chicken\n",
      "quality quantity complaint\n"
     ]
    }
   ],
   "source": [
    "print(X_val_accom.iloc[130])\n",
    "print(X_val_accom.iloc[236])\n",
    "print(X_val_accom.iloc[271])\n",
    "print(X_val_accom.iloc[343])"
   ]
  },
  {
   "cell_type": "code",
   "execution_count": 439,
   "id": "719096ee",
   "metadata": {},
   "outputs": [
    {
     "data": {
      "text/html": [
       "<div>\n",
       "<style scoped>\n",
       "    .dataframe tbody tr th:only-of-type {\n",
       "        vertical-align: middle;\n",
       "    }\n",
       "\n",
       "    .dataframe tbody tr th {\n",
       "        vertical-align: top;\n",
       "    }\n",
       "\n",
       "    .dataframe thead th {\n",
       "        text-align: right;\n",
       "    }\n",
       "</style>\n",
       "<table border=\"1\" class=\"dataframe\">\n",
       "  <thead>\n",
       "    <tr style=\"text-align: right;\">\n",
       "      <th></th>\n",
       "      <th>Aspect</th>\n",
       "      <th>Integer</th>\n",
       "      <th>Predicted</th>\n",
       "    </tr>\n",
       "  </thead>\n",
       "  <tbody>\n",
       "    <tr>\n",
       "      <th>48</th>\n",
       "      <td>Room</td>\n",
       "      <td>4</td>\n",
       "      <td>0</td>\n",
       "    </tr>\n",
       "    <tr>\n",
       "      <th>65</th>\n",
       "      <td>Room</td>\n",
       "      <td>4</td>\n",
       "      <td>3</td>\n",
       "    </tr>\n",
       "    <tr>\n",
       "      <th>77</th>\n",
       "      <td>Room</td>\n",
       "      <td>4</td>\n",
       "      <td>0</td>\n",
       "    </tr>\n",
       "    <tr>\n",
       "      <th>82</th>\n",
       "      <td>Room</td>\n",
       "      <td>4</td>\n",
       "      <td>0</td>\n",
       "    </tr>\n",
       "    <tr>\n",
       "      <th>95</th>\n",
       "      <td>Room</td>\n",
       "      <td>4</td>\n",
       "      <td>0</td>\n",
       "    </tr>\n",
       "    <tr>\n",
       "      <th>172</th>\n",
       "      <td>Room</td>\n",
       "      <td>4</td>\n",
       "      <td>0</td>\n",
       "    </tr>\n",
       "    <tr>\n",
       "      <th>269</th>\n",
       "      <td>Room</td>\n",
       "      <td>4</td>\n",
       "      <td>0</td>\n",
       "    </tr>\n",
       "    <tr>\n",
       "      <th>409</th>\n",
       "      <td>Room</td>\n",
       "      <td>4</td>\n",
       "      <td>0</td>\n",
       "    </tr>\n",
       "  </tbody>\n",
       "</table>\n",
       "</div>"
      ],
      "text/plain": [
       "    Aspect  Integer  Predicted\n",
       "48    Room        4          0\n",
       "65    Room        4          3\n",
       "77    Room        4          0\n",
       "82    Room        4          0\n",
       "95    Room        4          0\n",
       "172   Room        4          0\n",
       "269   Room        4          0\n",
       "409   Room        4          0"
      ]
     },
     "execution_count": 439,
     "metadata": {},
     "output_type": "execute_result"
    }
   ],
   "source": [
    "wrong_accom[wrong_accom[\"Aspect\"] == \"Room\"]"
   ]
  },
  {
   "cell_type": "code",
   "execution_count": 440,
   "id": "e58d14b0",
   "metadata": {},
   "outputs": [
    {
     "name": "stdout",
     "output_type": "stream",
     "text": [
      "prestige\n",
      "grid\n",
      "area\n",
      "course temple toiletry addition\n"
     ]
    }
   ],
   "source": [
    "print(X_val_accom.iloc[48])\n",
    "print(X_val_accom.iloc[77])\n",
    "print(X_val_accom.iloc[82])\n",
    "print(X_val_accom.iloc[95])"
   ]
  },
  {
   "cell_type": "markdown",
   "id": "43e5f578",
   "metadata": {},
   "source": [
    "Analysis:\n",
    "* The items the model got wrong are words which are unclear. This highlights the problems with using just one noun to categorise a row with an aspect."
   ]
  },
  {
   "cell_type": "markdown",
   "id": "776af841",
   "metadata": {},
   "source": [
    "## Food"
   ]
  },
  {
   "cell_type": "code",
   "execution_count": 424,
   "id": "281d4b6b",
   "metadata": {},
   "outputs": [
    {
     "name": "stdout",
     "output_type": "stream",
     "text": [
      "              precision    recall  f1-score   support\n",
      "\n",
      "           0       0.98      0.91      0.95        70\n",
      "           1       0.81      0.91      0.86        70\n",
      "           2       0.99      0.96      0.97        70\n",
      "           3       0.95      1.00      0.97        70\n",
      "           4       0.96      0.96      0.96        70\n",
      "           5       0.92      0.84      0.88        70\n",
      "\n",
      "    accuracy                           0.93       420\n",
      "   macro avg       0.93      0.93      0.93       420\n",
      "weighted avg       0.93      0.93      0.93       420\n",
      "\n"
     ]
    },
    {
     "data": {
      "image/png": "[encoded data removed]",
      "text/plain": [
       "<Figure size 720x576 with 2 Axes>"
      ]
     },
     "metadata": {
      "needs_background": "light"
     },
     "output_type": "display_data"
    }
   ],
   "source": [
    "prediction(clf4,X_train_food_tfidf,y_train_food_l,X_val_food_tfidf,y_val_food_l,labels_food)"
   ]
  },
  {
   "cell_type": "code",
   "execution_count": 425,
   "id": "55b41bfa",
   "metadata": {},
   "outputs": [
    {
     "data": {
      "text/plain": [
       "Visit Exp       11\n",
       "Food Quality     6\n",
       "Meal Exp         6\n",
       "Value            3\n",
       "Menu Choice      3\n",
       "Name: Aspect, dtype: int64"
      ]
     },
     "execution_count": 425,
     "metadata": {},
     "output_type": "execute_result"
    }
   ],
   "source": [
    "# Get df of aspects and their respective codes\n",
    "df_food = pd.concat([pd.DataFrame(y_val_food).reset_index(),pd.DataFrame(y_val_food_l).reset_index()],axis = 1,ignore_index = True)\n",
    "df_food=df_food[[1,3]]\n",
    "\n",
    "# Fit best model to training, predict on validation\n",
    "clf4.fit(X_train_food_tfidf,y_train_food_l)\n",
    "y_pred_food = pd.DataFrame(clf4.predict(X_val_food_tfidf))\n",
    "\n",
    "# Compare actual and predicted\n",
    "compare_food = pd.concat([df_food,y_pred_food],axis = 1,ignore_index = True)\n",
    "compare_food.columns = [\"Aspect\",\"Integer\",\"Predicted\"]\n",
    "wrong_food = compare_food[compare_food[\"Integer\"]!=compare_food[\"Predicted\"]]\n",
    "wrong_food.Aspect.value_counts()"
   ]
  },
  {
   "cell_type": "markdown",
   "id": "73071661",
   "metadata": {},
   "source": [
    "The meal and visit experiences are fuzzy categories, might be better to combine these?"
   ]
  },
  {
   "cell_type": "code",
   "execution_count": 426,
   "id": "04dd0994",
   "metadata": {},
   "outputs": [
    {
     "data": {
      "text/html": [
       "<div>\n",
       "<style scoped>\n",
       "    .dataframe tbody tr th:only-of-type {\n",
       "        vertical-align: middle;\n",
       "    }\n",
       "\n",
       "    .dataframe tbody tr th {\n",
       "        vertical-align: top;\n",
       "    }\n",
       "\n",
       "    .dataframe thead th {\n",
       "        text-align: right;\n",
       "    }\n",
       "</style>\n",
       "<table border=\"1\" class=\"dataframe\">\n",
       "  <thead>\n",
       "    <tr style=\"text-align: right;\">\n",
       "      <th></th>\n",
       "      <th>Aspect</th>\n",
       "      <th>Integer</th>\n",
       "      <th>Predicted</th>\n",
       "    </tr>\n",
       "  </thead>\n",
       "  <tbody>\n",
       "    <tr>\n",
       "      <th>13</th>\n",
       "      <td>Visit Exp</td>\n",
       "      <td>5</td>\n",
       "      <td>1</td>\n",
       "    </tr>\n",
       "    <tr>\n",
       "      <th>99</th>\n",
       "      <td>Visit Exp</td>\n",
       "      <td>5</td>\n",
       "      <td>1</td>\n",
       "    </tr>\n",
       "    <tr>\n",
       "      <th>120</th>\n",
       "      <td>Visit Exp</td>\n",
       "      <td>5</td>\n",
       "      <td>3</td>\n",
       "    </tr>\n",
       "    <tr>\n",
       "      <th>166</th>\n",
       "      <td>Visit Exp</td>\n",
       "      <td>5</td>\n",
       "      <td>3</td>\n",
       "    </tr>\n",
       "    <tr>\n",
       "      <th>177</th>\n",
       "      <td>Visit Exp</td>\n",
       "      <td>5</td>\n",
       "      <td>1</td>\n",
       "    </tr>\n",
       "    <tr>\n",
       "      <th>251</th>\n",
       "      <td>Visit Exp</td>\n",
       "      <td>5</td>\n",
       "      <td>3</td>\n",
       "    </tr>\n",
       "    <tr>\n",
       "      <th>254</th>\n",
       "      <td>Visit Exp</td>\n",
       "      <td>5</td>\n",
       "      <td>1</td>\n",
       "    </tr>\n",
       "    <tr>\n",
       "      <th>283</th>\n",
       "      <td>Visit Exp</td>\n",
       "      <td>5</td>\n",
       "      <td>1</td>\n",
       "    </tr>\n",
       "    <tr>\n",
       "      <th>288</th>\n",
       "      <td>Visit Exp</td>\n",
       "      <td>5</td>\n",
       "      <td>1</td>\n",
       "    </tr>\n",
       "    <tr>\n",
       "      <th>318</th>\n",
       "      <td>Visit Exp</td>\n",
       "      <td>5</td>\n",
       "      <td>1</td>\n",
       "    </tr>\n",
       "    <tr>\n",
       "      <th>339</th>\n",
       "      <td>Visit Exp</td>\n",
       "      <td>5</td>\n",
       "      <td>3</td>\n",
       "    </tr>\n",
       "  </tbody>\n",
       "</table>\n",
       "</div>"
      ],
      "text/plain": [
       "        Aspect  Integer  Predicted\n",
       "13   Visit Exp        5          1\n",
       "99   Visit Exp        5          1\n",
       "120  Visit Exp        5          3\n",
       "166  Visit Exp        5          3\n",
       "177  Visit Exp        5          1\n",
       "251  Visit Exp        5          3\n",
       "254  Visit Exp        5          1\n",
       "283  Visit Exp        5          1\n",
       "288  Visit Exp        5          1\n",
       "318  Visit Exp        5          1\n",
       "339  Visit Exp        5          3"
      ]
     },
     "execution_count": 426,
     "metadata": {},
     "output_type": "execute_result"
    }
   ],
   "source": [
    "wrong_food[wrong_food[\"Aspect\"] == \"Visit Exp\"]"
   ]
  },
  {
   "cell_type": "code",
   "execution_count": 427,
   "id": "1d10101e",
   "metadata": {},
   "outputs": [
    {
     "name": "stdout",
     "output_type": "stream",
     "text": [
      "staff\n",
      "rise refund\n",
      "flawless bathroom mould\n"
     ]
    }
   ],
   "source": [
    "print(X_val_accom.iloc[64])\n",
    "print(X_val_accom.iloc[221])\n",
    "print(X_val_accom.iloc[346])"
   ]
  },
  {
   "cell_type": "code",
   "execution_count": 428,
   "id": "d0fc6be2",
   "metadata": {},
   "outputs": [
    {
     "data": {
      "text/html": [
       "<div>\n",
       "<style scoped>\n",
       "    .dataframe tbody tr th:only-of-type {\n",
       "        vertical-align: middle;\n",
       "    }\n",
       "\n",
       "    .dataframe tbody tr th {\n",
       "        vertical-align: top;\n",
       "    }\n",
       "\n",
       "    .dataframe thead th {\n",
       "        text-align: right;\n",
       "    }\n",
       "</style>\n",
       "<table border=\"1\" class=\"dataframe\">\n",
       "  <thead>\n",
       "    <tr style=\"text-align: right;\">\n",
       "      <th></th>\n",
       "      <th>Aspect</th>\n",
       "      <th>Integer</th>\n",
       "      <th>Predicted</th>\n",
       "    </tr>\n",
       "  </thead>\n",
       "  <tbody>\n",
       "    <tr>\n",
       "      <th>23</th>\n",
       "      <td>Meal Exp</td>\n",
       "      <td>1</td>\n",
       "      <td>0</td>\n",
       "    </tr>\n",
       "    <tr>\n",
       "      <th>60</th>\n",
       "      <td>Meal Exp</td>\n",
       "      <td>1</td>\n",
       "      <td>2</td>\n",
       "    </tr>\n",
       "    <tr>\n",
       "      <th>67</th>\n",
       "      <td>Meal Exp</td>\n",
       "      <td>1</td>\n",
       "      <td>5</td>\n",
       "    </tr>\n",
       "    <tr>\n",
       "      <th>157</th>\n",
       "      <td>Meal Exp</td>\n",
       "      <td>1</td>\n",
       "      <td>5</td>\n",
       "    </tr>\n",
       "    <tr>\n",
       "      <th>159</th>\n",
       "      <td>Meal Exp</td>\n",
       "      <td>1</td>\n",
       "      <td>5</td>\n",
       "    </tr>\n",
       "    <tr>\n",
       "      <th>376</th>\n",
       "      <td>Meal Exp</td>\n",
       "      <td>1</td>\n",
       "      <td>5</td>\n",
       "    </tr>\n",
       "  </tbody>\n",
       "</table>\n",
       "</div>"
      ],
      "text/plain": [
       "       Aspect  Integer  Predicted\n",
       "23   Meal Exp        1          0\n",
       "60   Meal Exp        1          2\n",
       "67   Meal Exp        1          5\n",
       "157  Meal Exp        1          5\n",
       "159  Meal Exp        1          5\n",
       "376  Meal Exp        1          5"
      ]
     },
     "execution_count": 428,
     "metadata": {},
     "output_type": "execute_result"
    }
   ],
   "source": [
    "wrong_food[wrong_food[\"Aspect\"] == \"Meal Exp\"]"
   ]
  },
  {
   "cell_type": "markdown",
   "id": "e935d11f",
   "metadata": {},
   "source": [
    "Analysis:\n",
    "* The two aspects are getting mixed up\n",
    "* A particular issue with the food category is that the reviews are short and there are mixed aspects, the lines were labelled based on just the first aspect, so some aspects will be missed."
   ]
  },
  {
   "cell_type": "markdown",
   "id": "0ffe1c16",
   "metadata": {},
   "source": [
    "## Attractions"
   ]
  },
  {
   "cell_type": "code",
   "execution_count": 429,
   "id": "779f3161",
   "metadata": {},
   "outputs": [
    {
     "name": "stdout",
     "output_type": "stream",
     "text": [
      "              precision    recall  f1-score   support\n",
      "\n",
      "           0       0.91      0.83      0.87        60\n",
      "           1       0.86      0.90      0.88        60\n",
      "           2       0.90      0.87      0.88        30\n",
      "           3       0.91      0.80      0.85        60\n",
      "           4       0.93      0.93      0.93        40\n",
      "           5       0.82      0.93      0.87        30\n",
      "           6       0.70      0.78      0.74        50\n",
      "\n",
      "    accuracy                           0.85       330\n",
      "   macro avg       0.86      0.86      0.86       330\n",
      "weighted avg       0.86      0.85      0.86       330\n",
      "\n"
     ]
    },
    {
     "data": {
      "image/png": "[encoded data removed]",
      "text/plain": [
       "<Figure size 720x576 with 2 Axes>"
      ]
     },
     "metadata": {
      "needs_background": "light"
     },
     "output_type": "display_data"
    }
   ],
   "source": [
    "prediction(clf4,X_train_attract_tfidf,y_train_attract_l,X_val_attract_tfidf,y_val_attract_l,labels_attract)"
   ]
  },
  {
   "cell_type": "markdown",
   "id": "038cf938",
   "metadata": {},
   "source": [
    "There are some significant problems with some of the aspects being classified as 'Visit General' including 'Nature', 'Activities' and 'Amenities'. This is likely due to the classification of the training set itself. Looking at where the model went wrong."
   ]
  },
  {
   "cell_type": "code",
   "execution_count": 430,
   "id": "58f9d777",
   "metadata": {},
   "outputs": [],
   "source": [
    "# Get df of aspects and their respective codes\n",
    "df_attract = pd.concat([pd.DataFrame(y_val_attract).reset_index(),pd.DataFrame(y_val_attract_l).reset_index()],axis = 1,ignore_index = True)\n",
    "df_attract=df_attract[[1,3]]"
   ]
  },
  {
   "cell_type": "code",
   "execution_count": 431,
   "id": "47f1afa0",
   "metadata": {},
   "outputs": [],
   "source": [
    "# Fit best model to training, predict on validation\n",
    "clf4.fit(X_train_attract_tfidf,y_train_attract_l)\n",
    "y_pred_attract = pd.DataFrame(clf4.predict(X_val_attract_tfidf))"
   ]
  },
  {
   "cell_type": "code",
   "execution_count": 432,
   "id": "bd5e49d7",
   "metadata": {},
   "outputs": [
    {
     "data": {
      "text/plain": [
       "Nature           12\n",
       "VisitExp&Gen     11\n",
       "Activities       10\n",
       "Amenities         6\n",
       "History           4\n",
       "Staff&Service     3\n",
       "Value             2\n",
       "Name: Aspect, dtype: int64"
      ]
     },
     "execution_count": 432,
     "metadata": {},
     "output_type": "execute_result"
    }
   ],
   "source": [
    "# Compare actual and predicted\n",
    "compare = pd.concat([df_attract,y_pred_attract],axis = 1,ignore_index = True)\n",
    "compare.columns = [\"Aspect\",\"Integer\",\"Predicted\"]\n",
    "wrong = compare[compare[\"Integer\"]!=compare[\"Predicted\"]]\n",
    "wrong.Aspect.value_counts()"
   ]
  },
  {
   "cell_type": "code",
   "execution_count": 433,
   "id": "ce21c690",
   "metadata": {},
   "outputs": [
    {
     "data": {
      "text/html": [
       "<div>\n",
       "<style scoped>\n",
       "    .dataframe tbody tr th:only-of-type {\n",
       "        vertical-align: middle;\n",
       "    }\n",
       "\n",
       "    .dataframe tbody tr th {\n",
       "        vertical-align: top;\n",
       "    }\n",
       "\n",
       "    .dataframe thead th {\n",
       "        text-align: right;\n",
       "    }\n",
       "</style>\n",
       "<table border=\"1\" class=\"dataframe\">\n",
       "  <thead>\n",
       "    <tr style=\"text-align: right;\">\n",
       "      <th></th>\n",
       "      <th>Aspect</th>\n",
       "      <th>Integer</th>\n",
       "      <th>Predicted</th>\n",
       "    </tr>\n",
       "  </thead>\n",
       "  <tbody>\n",
       "    <tr>\n",
       "      <th>14</th>\n",
       "      <td>Nature</td>\n",
       "      <td>3</td>\n",
       "      <td>6</td>\n",
       "    </tr>\n",
       "    <tr>\n",
       "      <th>60</th>\n",
       "      <td>Nature</td>\n",
       "      <td>3</td>\n",
       "      <td>0</td>\n",
       "    </tr>\n",
       "    <tr>\n",
       "      <th>110</th>\n",
       "      <td>Nature</td>\n",
       "      <td>3</td>\n",
       "      <td>6</td>\n",
       "    </tr>\n",
       "    <tr>\n",
       "      <th>115</th>\n",
       "      <td>Nature</td>\n",
       "      <td>3</td>\n",
       "      <td>6</td>\n",
       "    </tr>\n",
       "    <tr>\n",
       "      <th>122</th>\n",
       "      <td>Nature</td>\n",
       "      <td>3</td>\n",
       "      <td>1</td>\n",
       "    </tr>\n",
       "    <tr>\n",
       "      <th>133</th>\n",
       "      <td>Nature</td>\n",
       "      <td>3</td>\n",
       "      <td>2</td>\n",
       "    </tr>\n",
       "    <tr>\n",
       "      <th>134</th>\n",
       "      <td>Nature</td>\n",
       "      <td>3</td>\n",
       "      <td>6</td>\n",
       "    </tr>\n",
       "    <tr>\n",
       "      <th>145</th>\n",
       "      <td>Nature</td>\n",
       "      <td>3</td>\n",
       "      <td>6</td>\n",
       "    </tr>\n",
       "    <tr>\n",
       "      <th>163</th>\n",
       "      <td>Nature</td>\n",
       "      <td>3</td>\n",
       "      <td>4</td>\n",
       "    </tr>\n",
       "    <tr>\n",
       "      <th>211</th>\n",
       "      <td>Nature</td>\n",
       "      <td>3</td>\n",
       "      <td>4</td>\n",
       "    </tr>\n",
       "    <tr>\n",
       "      <th>260</th>\n",
       "      <td>Nature</td>\n",
       "      <td>3</td>\n",
       "      <td>1</td>\n",
       "    </tr>\n",
       "    <tr>\n",
       "      <th>302</th>\n",
       "      <td>Nature</td>\n",
       "      <td>3</td>\n",
       "      <td>6</td>\n",
       "    </tr>\n",
       "  </tbody>\n",
       "</table>\n",
       "</div>"
      ],
      "text/plain": [
       "     Aspect  Integer  Predicted\n",
       "14   Nature        3          6\n",
       "60   Nature        3          0\n",
       "110  Nature        3          6\n",
       "115  Nature        3          6\n",
       "122  Nature        3          1\n",
       "133  Nature        3          2\n",
       "134  Nature        3          6\n",
       "145  Nature        3          6\n",
       "163  Nature        3          4\n",
       "211  Nature        3          4\n",
       "260  Nature        3          1\n",
       "302  Nature        3          6"
      ]
     },
     "execution_count": 433,
     "metadata": {},
     "output_type": "execute_result"
    }
   ],
   "source": [
    "wrong[wrong[\"Aspect\"]==\"Nature\"]"
   ]
  },
  {
   "cell_type": "markdown",
   "id": "1be521f8",
   "metadata": {},
   "source": [
    "The categories are being misclassified as 'Visit General'"
   ]
  },
  {
   "cell_type": "code",
   "execution_count": 441,
   "id": "633d1728",
   "metadata": {},
   "outputs": [
    {
     "name": "stdout",
     "output_type": "stream",
     "text": [
      "air\n",
      "amount work worldwide\n",
      "tawney owl\n",
      "spring sunshine\n"
     ]
    }
   ],
   "source": [
    "print(X_val_attract.iloc[14])\n",
    "print(X_val_attract.iloc[110])\n",
    "print(X_val_attract.iloc[115])\n",
    "print(X_val_attract.iloc[134])"
   ]
  },
  {
   "cell_type": "code",
   "execution_count": 442,
   "id": "759e6786",
   "metadata": {},
   "outputs": [
    {
     "data": {
      "text/html": [
       "<div>\n",
       "<style scoped>\n",
       "    .dataframe tbody tr th:only-of-type {\n",
       "        vertical-align: middle;\n",
       "    }\n",
       "\n",
       "    .dataframe tbody tr th {\n",
       "        vertical-align: top;\n",
       "    }\n",
       "\n",
       "    .dataframe thead th {\n",
       "        text-align: right;\n",
       "    }\n",
       "</style>\n",
       "<table border=\"1\" class=\"dataframe\">\n",
       "  <thead>\n",
       "    <tr style=\"text-align: right;\">\n",
       "      <th></th>\n",
       "      <th>Aspect</th>\n",
       "      <th>Integer</th>\n",
       "      <th>Predicted</th>\n",
       "    </tr>\n",
       "  </thead>\n",
       "  <tbody>\n",
       "    <tr>\n",
       "      <th>62</th>\n",
       "      <td>Activities</td>\n",
       "      <td>0</td>\n",
       "      <td>1</td>\n",
       "    </tr>\n",
       "    <tr>\n",
       "      <th>68</th>\n",
       "      <td>Activities</td>\n",
       "      <td>0</td>\n",
       "      <td>6</td>\n",
       "    </tr>\n",
       "    <tr>\n",
       "      <th>78</th>\n",
       "      <td>Activities</td>\n",
       "      <td>0</td>\n",
       "      <td>6</td>\n",
       "    </tr>\n",
       "    <tr>\n",
       "      <th>117</th>\n",
       "      <td>Activities</td>\n",
       "      <td>0</td>\n",
       "      <td>1</td>\n",
       "    </tr>\n",
       "    <tr>\n",
       "      <th>155</th>\n",
       "      <td>Activities</td>\n",
       "      <td>0</td>\n",
       "      <td>1</td>\n",
       "    </tr>\n",
       "    <tr>\n",
       "      <th>185</th>\n",
       "      <td>Activities</td>\n",
       "      <td>0</td>\n",
       "      <td>5</td>\n",
       "    </tr>\n",
       "    <tr>\n",
       "      <th>216</th>\n",
       "      <td>Activities</td>\n",
       "      <td>0</td>\n",
       "      <td>5</td>\n",
       "    </tr>\n",
       "    <tr>\n",
       "      <th>249</th>\n",
       "      <td>Activities</td>\n",
       "      <td>0</td>\n",
       "      <td>6</td>\n",
       "    </tr>\n",
       "    <tr>\n",
       "      <th>258</th>\n",
       "      <td>Activities</td>\n",
       "      <td>0</td>\n",
       "      <td>5</td>\n",
       "    </tr>\n",
       "    <tr>\n",
       "      <th>262</th>\n",
       "      <td>Activities</td>\n",
       "      <td>0</td>\n",
       "      <td>6</td>\n",
       "    </tr>\n",
       "  </tbody>\n",
       "</table>\n",
       "</div>"
      ],
      "text/plain": [
       "         Aspect  Integer  Predicted\n",
       "62   Activities        0          1\n",
       "68   Activities        0          6\n",
       "78   Activities        0          6\n",
       "117  Activities        0          1\n",
       "155  Activities        0          1\n",
       "185  Activities        0          5\n",
       "216  Activities        0          5\n",
       "249  Activities        0          6\n",
       "258  Activities        0          5\n",
       "262  Activities        0          6"
      ]
     },
     "execution_count": 442,
     "metadata": {},
     "output_type": "execute_result"
    }
   ],
   "source": [
    "wrong[wrong[\"Aspect\"]==\"Activities\"]"
   ]
  },
  {
   "cell_type": "code",
   "execution_count": 445,
   "id": "42e047d6",
   "metadata": {},
   "outputs": [
    {
     "name": "stdout",
     "output_type": "stream",
     "text": [
      "selection movie\n",
      "act\n",
      "adventure golf value money\n"
     ]
    }
   ],
   "source": [
    "print(X_val_attract.iloc[62])\n",
    "print(X_val_attract.iloc[68])\n",
    "print(X_val_attract.iloc[185])"
   ]
  },
  {
   "cell_type": "markdown",
   "id": "8bff9cd9",
   "metadata": {},
   "source": [
    "Analysis:\n",
    "It seems as though the model is really struggling, possibly because there are just too many varied words in the attractions category for the model to learn. Much more data is likely needed to train a model. Also the single nouns do not perhaps provide enough information for this category, compared to say 'food' where the aspects are clear and limited in scope with a few words repeated rather than a wide variety of different words."
   ]
  }
 ],
 "metadata": {
  "kernelspec": {
   "display_name": "Python 3",
   "language": "python",
   "name": "python3"
  },
  "language_info": {
   "codemirror_mode": {
    "name": "ipython",
    "version": 3
   },
   "file_extension": ".py",
   "mimetype": "text/x-python",
   "name": "python",
   "nbconvert_exporter": "python",
   "pygments_lexer": "ipython3",
   "version": "3.7.10"
  }
 },
 "nbformat": 4,
 "nbformat_minor": 5
}
