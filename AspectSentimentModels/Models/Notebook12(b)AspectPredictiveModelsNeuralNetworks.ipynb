{
 "cells": [
  {
   "cell_type": "markdown",
   "id": "e6299ff3",
   "metadata": {},
   "source": [
    "# Notebook 12 b) Aspect Prediction with Neural Network Models"
   ]
  },
  {
   "cell_type": "markdown",
   "id": "7702dc2e",
   "metadata": {},
   "source": [
    "This notebook investigates predictive models for the aspects part of the review data based on the extracted nouns. The output is therefore MULTICLASS.\n",
    "\n",
    "* Section 1 - Import libraries and dataset\n",
    "* Section 2 - Data cleaning\n",
    "* Section 3 - Data preprocessing\n",
    "* Section 4 - Building an aspect classifier (accommodation)\n",
    "* Section 5 - Building an aspect classifier (food)\n",
    "* Section 6 - Building an aspect classifier (Attractions)\n",
    "* Section 7 - Data augmentation methods (attractions)\n",
    "* Section 8 - Data augmentation (accommodation and food)\n",
    "\n",
    "Dataset needed to run this notebook:\n",
    "\n",
    "* combinedaspectcheck.xlsx"
   ]
  },
  {
   "cell_type": "markdown",
   "id": "fbb5057b",
   "metadata": {},
   "source": [
    "# Section 1: Import libraries and dataset"
   ]
  },
  {
   "cell_type": "code",
   "execution_count": 112,
   "id": "62125b2e",
   "metadata": {},
   "outputs": [],
   "source": [
    "import pandas as pd\n",
    "import numpy as np\n",
    "\n",
    "from sklearn import preprocessing\n",
    "from sklearn.model_selection import StratifiedKFold\n",
    "import keras\n",
    "from keras.wrappers.scikit_learn import KerasClassifier\n",
    "from keras.models import Sequential\n",
    "from keras.layers import Dense,Flatten,Embedding,Dropout\n",
    "from keras.preprocessing.text import Tokenizer\n",
    "from keras.preprocessing.sequence import pad_sequences\n",
    "from keras.callbacks import EarlyStopping,ModelCheckpoint\n",
    "from keras.utils import to_categorical\n",
    "from keras.models import load_model\n",
    "from matplotlib import pyplot as plt\n",
    "import seaborn as sns\n",
    "sns.set()\n",
    "import imblearn\n",
    "from imblearn.over_sampling import SMOTE\n",
    "from sklearn.preprocessing import LabelBinarizer\n",
    "from imblearn.over_sampling import SMOTE\n",
    "import os\n",
    "import pickle\n",
    "import nltk\n",
    "from nltk.corpus import stopwords\n",
    "from sklearn.model_selection import train_test_split, cross_val_score\n",
    "from sklearn.metrics import accuracy_score,roc_auc_score,precision_score,recall_score,f1_score,confusion_matrix,classification_report\n",
    "from sklearn.utils import class_weight\n",
    "import joblib\n",
    "import warnings\n",
    "warnings.filterwarnings('ignore')"
   ]
  },
  {
   "cell_type": "code",
   "execution_count": 113,
   "id": "b01f8796",
   "metadata": {},
   "outputs": [],
   "source": [
    "# Bring in manually annotated accommodation data from spreadsheet file\n",
    "df_accom = pd.read_excel(\"combinedaspectcheck.xlsx\",sheet_name = \"CLEANEDACCOM\",engine = \"openpyxl\")\n",
    "df_food = pd.read_excel(\"combinedaspectcheck.xlsx\",sheet_name = \"CLEANEDFOOD\", engine = \"openpyxl\")\n",
    "df_attract = pd.read_excel(\"combinedaspectcheck.xlsx\", sheet_name = \"CLEANEDATTRACT\", engine = \"openpyxl\")"
   ]
  },
  {
   "cell_type": "code",
   "execution_count": 114,
   "id": "8ec88f75",
   "metadata": {},
   "outputs": [],
   "source": [
    "df_accom.drop([\"Category\"],axis = 1, inplace = True)\n",
    "df_food.drop([\"Category\"],axis = 1,inplace = True)\n",
    "df_attract.drop([\"Category\"],axis = 1,inplace = True)"
   ]
  },
  {
   "cell_type": "markdown",
   "id": "65bc9952",
   "metadata": {},
   "source": [
    "# Section 2: Data Cleaning"
   ]
  },
  {
   "cell_type": "markdown",
   "id": "bd8e9111",
   "metadata": {},
   "source": [
    "## Accommodation"
   ]
  },
  {
   "cell_type": "code",
   "execution_count": 115,
   "id": "f98c170c",
   "metadata": {},
   "outputs": [
    {
     "name": "stdout",
     "output_type": "stream",
     "text": [
      "<class 'pandas.core.frame.DataFrame'>\n",
      "RangeIndex: 2220 entries, 0 to 2219\n",
      "Data columns (total 6 columns):\n",
      " #   Column        Non-Null Count  Dtype  \n",
      "---  ------        --------------  -----  \n",
      " 0   OrigInd       2220 non-null   int64  \n",
      " 1   Cleaned       2220 non-null   object \n",
      " 2   Noun Phrases  2220 non-null   object \n",
      " 3   Nouns         2220 non-null   object \n",
      " 4   Aspect        2220 non-null   object \n",
      " 5   Sentiment     2220 non-null   float64\n",
      "dtypes: float64(1), int64(1), object(4)\n",
      "memory usage: 104.2+ KB\n"
     ]
    }
   ],
   "source": [
    "df_accom.info()"
   ]
  },
  {
   "cell_type": "code",
   "execution_count": 116,
   "id": "156b026d",
   "metadata": {},
   "outputs": [
    {
     "data": {
      "text/plain": [
       "Staff            350\n",
       "Room             350\n",
       "Food             350\n",
       "Hotel            349\n",
       "Entertainment    348\n",
       "Value            250\n",
       "Location         215\n",
       "location           5\n",
       "entertainment      2\n",
       "hotel              1\n",
       "Name: Aspect, dtype: int64"
      ]
     },
     "execution_count": 116,
     "metadata": {},
     "output_type": "execute_result"
    }
   ],
   "source": [
    "# Aspect value counts\n",
    "df_accom[\"Aspect\"].value_counts()"
   ]
  },
  {
   "cell_type": "code",
   "execution_count": 117,
   "id": "ee393ba4",
   "metadata": {},
   "outputs": [],
   "source": [
    "# Set to title case as some categories are multiples\n",
    "df_accom[\"Aspect\"] = df_accom[\"Aspect\"].apply(lambda x: x.title())"
   ]
  },
  {
   "cell_type": "code",
   "execution_count": 118,
   "id": "64dcb337",
   "metadata": {},
   "outputs": [
    {
     "data": {
      "text/plain": [
       "Hotel            350\n",
       "Entertainment    350\n",
       "Staff            350\n",
       "Room             350\n",
       "Food             350\n",
       "Value            250\n",
       "Location         220\n",
       "Name: Aspect, dtype: int64"
      ]
     },
     "execution_count": 118,
     "metadata": {},
     "output_type": "execute_result"
    }
   ],
   "source": [
    "df_accom[\"Aspect\"].value_counts()"
   ]
  },
  {
   "cell_type": "markdown",
   "id": "1b94d8e4",
   "metadata": {},
   "source": [
    "Mostly balanced categories, the two smaller categories represent those where all datapoints were used but there were just fewer overall."
   ]
  },
  {
   "cell_type": "markdown",
   "id": "a81841ad",
   "metadata": {},
   "source": [
    "## Food"
   ]
  },
  {
   "cell_type": "code",
   "execution_count": 119,
   "id": "e5d10b69",
   "metadata": {},
   "outputs": [
    {
     "name": "stdout",
     "output_type": "stream",
     "text": [
      "<class 'pandas.core.frame.DataFrame'>\n",
      "RangeIndex: 2100 entries, 0 to 2099\n",
      "Data columns (total 8 columns):\n",
      " #   Column        Non-Null Count  Dtype  \n",
      "---  ------        --------------  -----  \n",
      " 0   OrigInd       2100 non-null   int64  \n",
      " 1   Cleaned       2097 non-null   object \n",
      " 2   Noun Phrases  2100 non-null   object \n",
      " 3   Nouns         2100 non-null   object \n",
      " 4   Sentiment     2100 non-null   float64\n",
      " 5   Aspect        2100 non-null   object \n",
      " 6   Orig Aspect   2100 non-null   object \n",
      " 7   Column1       0 non-null      float64\n",
      "dtypes: float64(2), int64(1), object(5)\n",
      "memory usage: 131.4+ KB\n"
     ]
    }
   ],
   "source": [
    "df_food.info()"
   ]
  },
  {
   "cell_type": "code",
   "execution_count": 120,
   "id": "9e96caba",
   "metadata": {},
   "outputs": [
    {
     "data": {
      "text/plain": [
       "Staff&Service    350\n",
       "Food Quality     350\n",
       "Menu Choice      350\n",
       "Value            350\n",
       "Meal Exp         350\n",
       "Visit Exp        350\n",
       "Name: Aspect, dtype: int64"
      ]
     },
     "execution_count": 120,
     "metadata": {},
     "output_type": "execute_result"
    }
   ],
   "source": [
    "# Aspect value counts\n",
    "df_food[\"Aspect\"].value_counts()"
   ]
  },
  {
   "cell_type": "markdown",
   "id": "675f4fb7",
   "metadata": {},
   "source": [
    "Balanced aspect categories"
   ]
  },
  {
   "cell_type": "markdown",
   "id": "bb96c570",
   "metadata": {},
   "source": [
    "## Attractions"
   ]
  },
  {
   "cell_type": "code",
   "execution_count": 121,
   "id": "29737f67",
   "metadata": {},
   "outputs": [
    {
     "name": "stdout",
     "output_type": "stream",
     "text": [
      "<class 'pandas.core.frame.DataFrame'>\n",
      "RangeIndex: 1650 entries, 0 to 1649\n",
      "Data columns (total 7 columns):\n",
      " #   Column        Non-Null Count  Dtype  \n",
      "---  ------        --------------  -----  \n",
      " 0   OrigInd       1650 non-null   int64  \n",
      " 1   Cleaned       1650 non-null   object \n",
      " 2   Noun Phrases  1650 non-null   object \n",
      " 3   Nouns         1650 non-null   object \n",
      " 4   Sentiment     1650 non-null   float64\n",
      " 5   Aspect        1650 non-null   object \n",
      " 6   OrigAspect    1648 non-null   object \n",
      "dtypes: float64(1), int64(1), object(5)\n",
      "memory usage: 90.4+ KB\n"
     ]
    }
   ],
   "source": [
    "df_attract.info()"
   ]
  },
  {
   "cell_type": "code",
   "execution_count": 122,
   "id": "d66e33d2",
   "metadata": {},
   "outputs": [
    {
     "data": {
      "text/plain": [
       "Activities       300\n",
       "Nature           300\n",
       "Amenities        300\n",
       "VisitExp&Gen     250\n",
       "Staff&Service    200\n",
       "Value            150\n",
       "History          150\n",
       "Name: Aspect, dtype: int64"
      ]
     },
     "execution_count": 122,
     "metadata": {},
     "output_type": "execute_result"
    }
   ],
   "source": [
    "# Aspect value counts\n",
    "df_attract[\"Aspect\"].value_counts()"
   ]
  },
  {
   "cell_type": "markdown",
   "id": "bed9f003",
   "metadata": {},
   "source": [
    "Unbalanced aspect categories due to not many datapoints available in the original dataset for some of the categories"
   ]
  },
  {
   "cell_type": "markdown",
   "id": "16e8e7e6",
   "metadata": {},
   "source": [
    "# Section 3: Data preprocessing"
   ]
  },
  {
   "cell_type": "markdown",
   "id": "467f0eb3",
   "metadata": {},
   "source": [
    "## Define X and y"
   ]
  },
  {
   "cell_type": "code",
   "execution_count": 123,
   "id": "fd564535",
   "metadata": {},
   "outputs": [],
   "source": [
    "# Function to split the data between X and y\n",
    "\n",
    "def XY(df):\n",
    "    X = df[\"Nouns\"]\n",
    "    y = df[\"Aspect\"]\n",
    "\n",
    "    return X,y"
   ]
  },
  {
   "cell_type": "code",
   "execution_count": 124,
   "id": "67a8b57d",
   "metadata": {},
   "outputs": [
    {
     "name": "stdout",
     "output_type": "stream",
     "text": [
      "(2220,) (2220,)\n",
      "(2100,) (2100,)\n",
      "(1650,) (1650,)\n"
     ]
    }
   ],
   "source": [
    "# Apply function and print shape\n",
    "X_accom,y_accom = XY(df_accom)\n",
    "X_food,y_food = XY(df_food)\n",
    "X_attract,y_attract = XY(df_attract)\n",
    "\n",
    "print(X_accom.shape,y_accom.shape)\n",
    "print(X_food.shape,y_food.shape)\n",
    "print(X_attract.shape,y_attract.shape)\n"
   ]
  },
  {
   "cell_type": "markdown",
   "id": "c4d36ff1",
   "metadata": {},
   "source": [
    "## Train test split"
   ]
  },
  {
   "cell_type": "code",
   "execution_count": 125,
   "id": "bb6d3594",
   "metadata": {},
   "outputs": [],
   "source": [
    "# Train, validation, test split\n",
    "def train_test(X,y):\n",
    "    X_train, X_test, y_train, y_test = train_test_split(X,y, stratify = y,test_size=0.20, shuffle = True, random_state = 1)\n",
    "    X_test, X_val, y_test, y_val = train_test_split(X_test, y_test, stratify = y_test,test_size=0.50, shuffle = True, random_state = 1)\n",
    "    return X_train,X_val, X_test, y_train,y_val,y_test"
   ]
  },
  {
   "cell_type": "code",
   "execution_count": 126,
   "id": "f664fe6f",
   "metadata": {},
   "outputs": [],
   "source": [
    "# Run function for each category\n",
    "X_train_accom,X_val_accom,X_test_accom,y_train_accom,y_val_accom,y_test_accom = train_test(X_accom,y_accom)\n",
    "X_train_food,X_val_food,X_test_food,y_train_food,y_val_food,y_test_food = train_test(X_food,y_food)\n",
    "X_train_attract,X_val_attract,X_test_attract,y_train_attract,y_val_attract,y_test_attract = train_test(X_attract,y_attract)"
   ]
  },
  {
   "cell_type": "code",
   "execution_count": 127,
   "id": "c6d60fbb",
   "metadata": {},
   "outputs": [
    {
     "name": "stdout",
     "output_type": "stream",
     "text": [
      "(1776,) (222,) (222,) (1776,) (222,) (222,)\n",
      "(1680,) (210,) (210,) (1680,) (210,) (210,)\n",
      "(1320,) (165,) (165,) (1320,) (165,) (165,)\n"
     ]
    }
   ],
   "source": [
    "# Shape of training, validation and test sets for each category\n",
    "print(X_train_accom.shape, X_val_accom.shape,X_test_accom.shape, y_train_accom.shape, y_val_accom.shape, y_test_accom.shape)\n",
    "print(X_train_food.shape, X_val_food.shape,X_test_food.shape, y_train_food.shape, y_val_food.shape, y_test_food.shape)\n",
    "print(X_train_attract.shape, X_val_attract.shape,X_test_attract.shape, y_train_attract.shape, y_val_attract.shape, y_test_attract.shape)"
   ]
  },
  {
   "cell_type": "code",
   "execution_count": 128,
   "id": "9e1f34d7",
   "metadata": {},
   "outputs": [
    {
     "name": "stdout",
     "output_type": "stream",
     "text": [
      "10\n",
      "9\n",
      "9\n"
     ]
    }
   ],
   "source": [
    "# Get maximum number of nouns to use in the 'maxlen' arguement\n",
    "print(pd.DataFrame(X_train_accom)[\"Nouns\"].str.split().apply(len).max())\n",
    "print(pd.DataFrame(X_train_food)[\"Nouns\"].str.split().apply(len).max())\n",
    "print(pd.DataFrame(X_train_attract)[\"Nouns\"].str.split().apply(len).max())"
   ]
  },
  {
   "cell_type": "markdown",
   "id": "2850f8ad",
   "metadata": {},
   "source": [
    "## Encode y and X"
   ]
  },
  {
   "cell_type": "code",
   "execution_count": 129,
   "id": "3f6e582c",
   "metadata": {},
   "outputs": [],
   "source": [
    "# Function to encode y values as one-hot encoded for hold-out model\n",
    "\n",
    "def bin(y_train, y_val, y_test):\n",
    "    binarizer = preprocessing.LabelBinarizer()\n",
    "    y_train_e = binarizer.fit_transform(y_train)\n",
    "    y_val_e = binarizer.transform(y_val)\n",
    "    y_test_e = binarizer.transform(y_test)\n",
    "    return y_train_e,y_val_e,y_test_e"
   ]
  },
  {
   "cell_type": "code",
   "execution_count": 130,
   "id": "61715106",
   "metadata": {},
   "outputs": [],
   "source": [
    "# Function to encode y values as integer labels (necessary for stratified cross validation as one-hot encoded doesn't work)\n",
    "\n",
    "def lab(y_train, y_val, y_test):\n",
    "    le = preprocessing.LabelEncoder()\n",
    "    y_train_l = le.fit_transform(y_train)\n",
    "    y_val_l = le.fit_transform(y_val)\n",
    "    y_test_l = le.transform(y_test)\n",
    "    return y_train_l,y_val_l, y_test_l"
   ]
  },
  {
   "cell_type": "code",
   "execution_count": 131,
   "id": "b3b33d30",
   "metadata": {},
   "outputs": [],
   "source": [
    "# Apply function\n",
    "y_train_accom_e, y_val_accom_e, y_test_accom_e = bin(y_train_accom, y_val_accom, y_test_accom)\n",
    "y_train_food_e, y_val_food_e, y_test_food_e = bin(y_train_food, y_val_food, y_test_food)\n",
    "y_train_attract_e, y_val_attract_e, y_test_attract_e = bin(y_train_attract, y_val_attract, y_test_attract)\n",
    "\n",
    "y_train_accom_l, y_val_accom_l, y_test_accom_l = lab(y_train_accom, y_val_accom, y_test_accom)\n",
    "y_train_food_l, y_val_food_l, y_test_food_l = lab(y_train_food, y_val_food, y_test_food)\n",
    "y_train_attract_l, y_val_attract_l, y_test_attract_l = lab(y_train_attract, y_val_attract, y_test_attract)"
   ]
  },
  {
   "cell_type": "code",
   "execution_count": 132,
   "id": "96106ca2",
   "metadata": {},
   "outputs": [],
   "source": [
    "# Function to fit tokenizer on text and transform to padded word embeddings\n",
    "\n",
    "def tok(X_train, X_val, X_test):\n",
    "    tokenizer = Tokenizer(num_words = 5000)\n",
    "    tokenizer.fit_on_texts(X_train)\n",
    "    X_train_s = tokenizer.texts_to_sequences(X_train)\n",
    "    X_val_s = tokenizer.texts_to_sequences(X_val)\n",
    "    X_test_s = tokenizer.texts_to_sequences(X_test)\n",
    "    X_train_w = pad_sequences(np.array(X_train_s,dtype = \"object\"), maxlen=20, padding=\"post\", truncating=\"post\", value=0.0)\n",
    "    X_val_w = pad_sequences(np.array(X_val_s,dtype = \"object\"), maxlen=20, padding=\"post\", truncating=\"post\", value=0.0)\n",
    "    X_test_w = pad_sequences(np.array(X_test_s, dtype = \"object\"), maxlen = 20, padding = \"post\", truncating = \"post\", value = 0.0)\n",
    "    \n",
    "    return tokenizer, X_train_w, X_val_w, X_test_w"
   ]
  },
  {
   "cell_type": "code",
   "execution_count": 133,
   "id": "ac8d4a36",
   "metadata": {},
   "outputs": [],
   "source": [
    "# Apply function to X training, validation and test sets\n",
    "accom_tok, X_train_accom_w, X_val_accom_w, X_test_accom_w = tok(X_train_accom, X_val_accom, X_test_accom)\n",
    "food_tok,X_train_food_w, X_val_food_w, X_test_food_w = tok(X_train_food, X_val_food, X_test_food)\n",
    "attract_tok,X_train_attract_w, X_val_attract_w, X_test_attract_w = tok(X_train_attract, X_val_attract, X_test_attract)"
   ]
  },
  {
   "cell_type": "code",
   "execution_count": 134,
   "id": "74041e78",
   "metadata": {},
   "outputs": [],
   "source": [
    "# Function to save test data and tokenizers as pickle file\n",
    "def save_tok(name,file):\n",
    "    with open(name, 'wb') as handle:\n",
    "        pickle.dump(file, handle, protocol = pickle.HIGHEST_PROTOCOL)\n",
    "        "
   ]
  },
  {
   "cell_type": "code",
   "execution_count": 197,
   "id": "313f9988",
   "metadata": {},
   "outputs": [],
   "source": [
    "# Save out the food tokenzier as the best model for this category\n",
    "save_tok('food_tokenizer.pickle',food_tok)"
   ]
  },
  {
   "cell_type": "code",
   "execution_count": 136,
   "id": "44b3408e",
   "metadata": {},
   "outputs": [
    {
     "name": "stdout",
     "output_type": "stream",
     "text": [
      "(1776, 7) (222, 7) (222, 7)\n",
      "(1680, 6) (210, 6) (210, 6)\n",
      "(1320, 7) (165, 7) (165, 7)\n",
      "(1776,) (222,) (222,)\n",
      "(1680,) (210,) (210,)\n",
      "(1320,) (165,) (165,)\n"
     ]
    }
   ],
   "source": [
    "# Shape of y training, validation and test\n",
    "print(y_train_accom_e.shape, y_val_accom_e.shape, y_test_accom_e.shape)\n",
    "print(y_train_food_e.shape, y_val_food_e.shape, y_test_food_e.shape)\n",
    "print(y_train_attract_e.shape, y_val_attract_e.shape, y_test_attract_e.shape)\n",
    "\n",
    "print(y_train_accom_l.shape, y_val_accom_l.shape, y_test_accom_l.shape)\n",
    "print(y_train_food_l.shape, y_val_food_l.shape, y_test_food_l.shape)\n",
    "print(y_train_attract_l.shape,  y_val_attract_l.shape,y_test_attract_l.shape)"
   ]
  },
  {
   "cell_type": "code",
   "execution_count": 137,
   "id": "ebab842d",
   "metadata": {},
   "outputs": [],
   "source": [
    "#with open('tok_accom.pickle', 'wb') as handle:\n",
    "    #pickle.dump(tok_accom, handle, protocol=pickle.HIGHEST_PROTOCOL)"
   ]
  },
  {
   "cell_type": "code",
   "execution_count": 138,
   "id": "1a430295",
   "metadata": {},
   "outputs": [
    {
     "name": "stdout",
     "output_type": "stream",
     "text": [
      "(1776, 20) (1776, 7)\n",
      "(1680, 20) (1680, 6)\n",
      "(1320, 20) (1320, 7)\n"
     ]
    }
   ],
   "source": [
    "# Get shape of training, validation and test sets\n",
    "print(X_train_accom_w.shape,y_train_accom_e.shape)\n",
    "print(X_train_food_w.shape, y_train_food_e.shape)\n",
    "print(X_train_attract_w.shape, y_train_attract_e.shape)"
   ]
  },
  {
   "cell_type": "markdown",
   "id": "8d5f5871",
   "metadata": {},
   "source": [
    "## Define general functions used for each model"
   ]
  },
  {
   "cell_type": "code",
   "execution_count": 139,
   "id": "64fe4a95",
   "metadata": {},
   "outputs": [],
   "source": [
    "# Visualise the training and test accuracies and losses\n",
    "\n",
    "import matplotlib.pyplot as plt\n",
    "plt.style.use('ggplot')\n",
    "\n",
    "def plot_history(history):\n",
    "    acc = history.history['accuracy']\n",
    "    val_acc = history.history['val_accuracy']\n",
    "    loss = history.history['loss']\n",
    "    val_loss = history.history['val_loss']\n",
    "    x = range(1, len(acc) + 1)\n",
    "\n",
    "    plt.figure(figsize=(12, 5))\n",
    "    plt.subplot(1, 2, 1)\n",
    "    plt.plot(x, acc, 'b', label='Training acc')\n",
    "    plt.plot(x, val_acc, 'r', label='Val acc')\n",
    "    plt.title('Training and Validation accuracy')\n",
    "    plt.xlabel(\"Epochs\")\n",
    "    plt.legend()\n",
    "    plt.subplot(1, 2, 2)\n",
    "    plt.plot(x, loss, 'b', label='Training loss')\n",
    "    plt.plot(x, val_loss, 'r', label='Val loss')\n",
    "    plt.xlabel(\"Epochs\")\n",
    "    plt.title('Training and Validation loss')\n",
    "    plt.legend()\n",
    "    plt.show()"
   ]
  },
  {
   "cell_type": "code",
   "execution_count": 140,
   "id": "55d87ef6",
   "metadata": {},
   "outputs": [],
   "source": [
    "# Metrics function\n",
    "\n",
    "def metric_results(y_val_e,y_val_integer,y_pred_class,y_pred_prob):\n",
    "    accuracy = accuracy_score(y_val_integer, y_pred_class)\n",
    "    rocauc = roc_auc_score(y_val_e,y_pred_prob, average = 'weighted', multi_class = 'ovr')\n",
    "    precision = precision_score(y_val_integer, y_pred_class, average='weighted')\n",
    "    recall = recall_score(y_val_integer, y_pred_class, average='weighted')\n",
    "    f1 = f1_score(y_val_integer, y_pred_class, average='weighted')\n",
    "          \n",
    "    \n",
    "    results = pd.DataFrame({\"Accuracy\":accuracy, \"Precision\":precision, \"Recall\":recall,\n",
    "                                    \"F1\":f1,\"ROCAUC\":rocauc}, index = [0]\n",
    "                                  )\n",
    "    return results"
   ]
  },
  {
   "cell_type": "code",
   "execution_count": 141,
   "id": "7b1c99a9",
   "metadata": {},
   "outputs": [],
   "source": [
    "# The model will use earlystopping if the valuation loss doesn't decrease after a specified number of epochs\n",
    "\n",
    "def out(name):\n",
    "    output_dir = name\n",
    "    if not os.path.exists(output_dir):\n",
    "        os.makedirs(output_dir)\n",
    "    return output_dir\n",
    "        \n",
    "def call(output_dir,patience):\n",
    "    modelcheckpoint = ModelCheckpoint(filepath=output_dir+\"/weights.{epoch:02d}.hdf5\")\n",
    "    callbacks = [EarlyStopping(monitor = \"val_loss\", patience = patience),modelcheckpoint]\n",
    "    return callbacks"
   ]
  },
  {
   "cell_type": "code",
   "execution_count": 142,
   "id": "28f0e8ca",
   "metadata": {},
   "outputs": [],
   "source": [
    "# Confusion Matrix function\n",
    "\n",
    "def class_conf(y_val_integer,y_pred_class,labels):\n",
    "    classification = classification_report(y_val_integer, y_pred_class)\n",
    "    cf_matrix = confusion_matrix(y_val_integer, y_pred_class)\n",
    "    fig, ax = plt.subplots(figsize = (8,6))\n",
    "    sns.heatmap(cf_matrix, annot = True, fmt = \"d\",cmap = plt.cm.Blues,xticklabels = labels,yticklabels = labels)\n",
    "    ax.set_xlabel('Predicted',labelpad = 10)\n",
    "    ax.set_ylabel('Actual',labelpad = 10)\n",
    "    plt.title(\"Confusion Matrix\", fontsize = 15)\n",
    "    print(classification)\n",
    "    plt.show()\n"
   ]
  },
  {
   "cell_type": "code",
   "execution_count": 143,
   "id": "c9c08a69",
   "metadata": {},
   "outputs": [],
   "source": [
    "# Weight adjustments if required\n",
    "\n",
    "def weight(y_train):\n",
    "    from sklearn.utils import class_weight\n",
    "    class_weights = class_weight.compute_class_weight('balanced',np.unique(y_train),y_train)\n",
    "    return class_weights"
   ]
  },
  {
   "cell_type": "code",
   "execution_count": 144,
   "id": "6f4d598e",
   "metadata": {},
   "outputs": [],
   "source": [
    "# Combine training and validation sets for use in stratified cross validation (JUST USE ON TRAINING SET)\n",
    "\n",
    "#def combine(X_train, X_val, y_train,y_val):\n",
    "   # inputs = np.concatenate((X_train,X_val), axis=0)\n",
    "    #targets = np.concatenate((y_train, y_val), axis=0)\n",
    "    \n",
    "   # return inputs, targets\n"
   ]
  },
  {
   "cell_type": "code",
   "execution_count": 145,
   "id": "d27136fe",
   "metadata": {},
   "outputs": [],
   "source": [
    "# Model with output of 7 classes\n",
    "\n",
    "def create_model_a():\n",
    "    model = Sequential()\n",
    "    model.add(Embedding(input_dim = input_dim, output_dim = output_dim, input_length = input_length))\n",
    "    model.add(Flatten())\n",
    "    model.add(Dense(512, activation='relu', input_shape=(1600,)))\n",
    "    model.add(Dropout(rate=0.5))\n",
    "    model.add(Dense(256,activation = 'relu'))\n",
    "    model.add(Dropout(rate=0.5))\n",
    "    model.add(Dense(128,activation = 'relu'))\n",
    "    model.add(Dropout(rate=0.5))\n",
    "    model.add(Dense(7, activation='softmax'))\n",
    "    model.compile(optimizer='adam', loss='categorical_crossentropy', metrics=['accuracy'])\n",
    "        \n",
    "    return model\n",
    "    "
   ]
  },
  {
   "cell_type": "code",
   "execution_count": 146,
   "id": "5ed2e697",
   "metadata": {},
   "outputs": [],
   "source": [
    "# Model with output of 6 classes\n",
    "\n",
    "def create_model_b():\n",
    "    model = Sequential()\n",
    "    model.add(Embedding(input_dim = input_dim, output_dim = output_dim, input_length = input_length))\n",
    "    model.add(Flatten())\n",
    "    model.add(Dense(512, activation='relu', input_shape=(1600,)))\n",
    "    model.add(Dropout(rate=0.5))\n",
    "    model.add(Dense(256,activation = 'relu'))\n",
    "    model.add(Dropout(rate=0.5))\n",
    "    model.add(Dense(128,activation = 'relu'))\n",
    "    model.add(Dropout(rate=0.5))\n",
    "    model.add(Dense(6, activation='softmax'))\n",
    "    model.compile(optimizer='adam', loss='categorical_crossentropy', metrics=['accuracy'])\n",
    "        \n",
    "    return model"
   ]
  },
  {
   "cell_type": "code",
   "execution_count": 147,
   "id": "e0ea843a",
   "metadata": {},
   "outputs": [],
   "source": [
    "# Stratified KFold function using keras wrapper in scikit learn (Use X_train encoded as word embedding and y_train encoded \n",
    "# with labels NOT one-hot encoded)\n",
    "\n",
    "def cross(X,y,create_model_a):\n",
    "    model = KerasClassifier(build_fn=create_model_a, epochs=epochs, batch_size=batch_size, verbose=0)\n",
    "    kfold = StratifiedKFold(n_splits=n_splits, shuffle=True, random_state=1)\n",
    "    results = cross_val_score(model, X,y, cv=kfold)\n",
    "    print(results.mean())"
   ]
  },
  {
   "cell_type": "code",
   "execution_count": 148,
   "id": "52a7080a",
   "metadata": {},
   "outputs": [],
   "source": [
    "# Function to fit model, print training and validation accuracies\n",
    "\n",
    "def run_mod(model, X_train, X_val, y_train, y_val):\n",
    "    val_acc = []\n",
    "    history = model.fit(X_train, y_train,\n",
    "                       epochs = epochs,\n",
    "                       verbose = 2,\n",
    "                       callbacks = callbacks,\n",
    "                       validation_data = (X_val, y_val),\n",
    "                       batch_size = batch_size,\n",
    "                       class_weight = class_weights)\n",
    "    print(\"\\n\\n\")\n",
    "    print(model.evaluate(X_train, y_train))\n",
    "    print(model.evaluate(X_val, y_val))\n",
    "    print(\"\\n\\n\")\n",
    "    plot_history(history)\n"
   ]
  },
  {
   "cell_type": "code",
   "execution_count": 149,
   "id": "1d473333",
   "metadata": {},
   "outputs": [],
   "source": [
    "# Evaluation function\n",
    "\n",
    "def eval(model,output_dir,name,X_val,y_val,y_val_aspect,labels):\n",
    "    model.load_weights(output_dir+name)\n",
    "    y_pred_prob = model.predict(X_val)\n",
    "    y_pred_class = np.argmax(model.predict(X_val), axis=-1)\n",
    "    y_val_integer = np.argmax(y_val, axis=1)\n",
    "    df_pred = pd.DataFrame(list(zip(y_val_integer, y_val_aspect,y_pred_class)), columns=[\"Actual Class\", \"Actual Aspect\",\"Predicted Class\",])\n",
    "    df_wrong = df_pred[df_pred[\"Actual Class\"]!= df_pred[\"Predicted Class\"]]\n",
    "    class_conf(y_val_integer,y_pred_class,labels)\n",
    "    print(\"\\n\")\n",
    "    print(\"The model predicted:\", df_wrong.shape[0],\"aspects wrong from a total of:\",df_pred.shape[0],\"predictions\")\n",
    "    print(\"\\n\")\n",
    "    return df_pred, df_wrong, y_val_integer, y_pred_class, y_pred_prob"
   ]
  },
  {
   "cell_type": "code",
   "execution_count": 150,
   "id": "556db81c",
   "metadata": {},
   "outputs": [],
   "source": [
    "# Run weights function to get weights\n",
    "\n",
    "cw_accom = weight(y_accom)\n",
    "cw_food = weight(y_food)\n",
    "cw_attract = weight(y_attract)"
   ]
  },
  {
   "cell_type": "markdown",
   "id": "da1a6c20",
   "metadata": {},
   "source": [
    "# Section 4: Building accommodation aspect classifier"
   ]
  },
  {
   "cell_type": "code",
   "execution_count": 151,
   "id": "212e1f11",
   "metadata": {},
   "outputs": [],
   "source": [
    "# Set parameters\n",
    "\n",
    "input_dim = 6000 #number of words\n",
    "output_dim = 16\n",
    "input_length = 20 #maximum length of embedding\n",
    "batch_size = 16\n",
    "epochs = 50\n",
    "\n",
    "class_weights_accom = {0:cw_accom[0],1:cw_accom[1],2:cw_accom[2],3:cw_accom[3],4:cw_accom[4],5:cw_accom[5],6:cw_accom[6]}\n",
    "n_splits = 10\n",
    "\n",
    "# Set output directory and callbacks (patience set to 5)\n",
    "output_dir = out('model_output/AccomAspectModels')\n",
    "callbacks = call(output_dir,5)\n",
    "class_weights = class_weights_accom\n"
   ]
  },
  {
   "cell_type": "markdown",
   "id": "112a6d9f",
   "metadata": {},
   "source": [
    "### Cross validation evaluation"
   ]
  },
  {
   "cell_type": "code",
   "execution_count": 152,
   "id": "0bd55b81",
   "metadata": {},
   "outputs": [
    {
     "name": "stdout",
     "output_type": "stream",
     "text": [
      "0.926779043674469\n"
     ]
    }
   ],
   "source": [
    "# Target encoded as integers as multi-label indicator (one-hot) encoding is not supported stratified cross validation\n",
    "# Run stratified cross validation and report mean accuracy for ten folds using create_model_a with 7 output parameters\n",
    "# On training set only not combined training and validation as hold out evaluation is also run below.\n",
    "\n",
    "#cross(X_train_accom_w, y_train_accom_l,create_model_a)"
   ]
  },
  {
   "cell_type": "markdown",
   "id": "0276b9d9",
   "metadata": {},
   "source": [
    "### Hold out evaluation"
   ]
  },
  {
   "cell_type": "code",
   "execution_count": 153,
   "id": "9c9a4aa6",
   "metadata": {},
   "outputs": [
    {
     "name": "stdout",
     "output_type": "stream",
     "text": [
      "Epoch 1/50\n",
      "111/111 - 0s - loss: 1.8990 - accuracy: 0.2078 - val_loss: 1.5788 - val_accuracy: 0.4414\n",
      "Epoch 2/50\n",
      "111/111 - 0s - loss: 1.0618 - accuracy: 0.5811 - val_loss: 0.7084 - val_accuracy: 0.8198\n",
      "Epoch 3/50\n",
      "111/111 - 0s - loss: 0.4219 - accuracy: 0.8688 - val_loss: 0.4868 - val_accuracy: 0.8919\n",
      "Epoch 4/50\n",
      "111/111 - 0s - loss: 0.1812 - accuracy: 0.9572 - val_loss: 0.4213 - val_accuracy: 0.8919\n",
      "Epoch 5/50\n",
      "111/111 - 0s - loss: 0.1172 - accuracy: 0.9735 - val_loss: 0.4405 - val_accuracy: 0.9009\n",
      "Epoch 6/50\n",
      "111/111 - 0s - loss: 0.0629 - accuracy: 0.9865 - val_loss: 0.4676 - val_accuracy: 0.9099\n",
      "Epoch 7/50\n",
      "111/111 - 0s - loss: 0.0454 - accuracy: 0.9899 - val_loss: 0.4872 - val_accuracy: 0.9009\n",
      "Epoch 8/50\n",
      "111/111 - 0s - loss: 0.0282 - accuracy: 0.9927 - val_loss: 0.5417 - val_accuracy: 0.8919\n",
      "Epoch 9/50\n",
      "111/111 - 0s - loss: 0.0201 - accuracy: 0.9944 - val_loss: 0.4910 - val_accuracy: 0.9009\n",
      "\n",
      "\n",
      "\n",
      "56/56 [==============================] - 0s 463us/step - loss: 0.0114 - accuracy: 0.9966\n",
      "[0.011370418593287468, 0.9966216087341309]\n",
      "7/7 [==============================] - 0s 570us/step - loss: 0.4910 - accuracy: 0.9009\n",
      "[0.4910253584384918, 0.9009009003639221]\n",
      "\n",
      "\n",
      "\n"
     ]
    },
    {
     "data": {
      "image/png": "[encoded data removed]",
      "text/plain": [
       "<Figure size 864x360 with 2 Axes>"
      ]
     },
     "metadata": {},
     "output_type": "display_data"
    }
   ],
   "source": [
    "# Run model using the word embeddings and the target encoded as one-hot encoding\n",
    "model1 = create_model_a()\n",
    "history1 = run_mod(model1, X_train_accom_w, X_val_accom_w, y_train_accom_e, y_val_accom_e)\n",
    "model1.save('accom.h5')"
   ]
  },
  {
   "cell_type": "code",
   "execution_count": 155,
   "id": "ed6ec131",
   "metadata": {},
   "outputs": [
    {
     "name": "stdout",
     "output_type": "stream",
     "text": [
      "              precision    recall  f1-score   support\n",
      "\n",
      "           0       0.80      0.94      0.87        35\n",
      "           1       0.91      0.91      0.91        35\n",
      "           2       1.00      0.89      0.94        35\n",
      "           3       1.00      0.91      0.95        22\n",
      "           4       0.89      0.91      0.90        35\n",
      "           5       0.88      0.83      0.85        35\n",
      "           6       0.88      0.92      0.90        25\n",
      "\n",
      "    accuracy                           0.90       222\n",
      "   macro avg       0.91      0.90      0.90       222\n",
      "weighted avg       0.91      0.90      0.90       222\n",
      "\n"
     ]
    },
    {
     "data": {
      "image/png": "[encoded data removed]",
      "text/plain": [
       "<Figure size 576x432 with 2 Axes>"
      ]
     },
     "metadata": {},
     "output_type": "display_data"
    },
    {
     "name": "stdout",
     "output_type": "stream",
     "text": [
      "\n",
      "\n",
      "The model predicted: 22 aspects wrong from a total of: 222 predictions\n",
      "\n",
      "\n"
     ]
    }
   ],
   "source": [
    "labels_accom = ['Entertainment','Food','Hotel','Location','Room','Staff','Value']\n",
    "df_pred_accom, df_wrong_accom, y_val_integer, y_pred_class, y_pred_prob = eval(model1, output_dir,\"/weights.05.hdf5\",X_val_accom_w, y_val_accom_e,y_val_accom,labels_accom)"
   ]
  },
  {
   "cell_type": "code",
   "execution_count": 156,
   "id": "c1521cb5",
   "metadata": {},
   "outputs": [
    {
     "data": {
      "text/html": [
       "<div>\n",
       "<style scoped>\n",
       "    .dataframe tbody tr th:only-of-type {\n",
       "        vertical-align: middle;\n",
       "    }\n",
       "\n",
       "    .dataframe tbody tr th {\n",
       "        vertical-align: top;\n",
       "    }\n",
       "\n",
       "    .dataframe thead th {\n",
       "        text-align: right;\n",
       "    }\n",
       "</style>\n",
       "<table border=\"1\" class=\"dataframe\">\n",
       "  <thead>\n",
       "    <tr style=\"text-align: right;\">\n",
       "      <th></th>\n",
       "      <th>Accuracy</th>\n",
       "      <th>Precision</th>\n",
       "      <th>Recall</th>\n",
       "      <th>F1</th>\n",
       "      <th>ROCAUC</th>\n",
       "    </tr>\n",
       "  </thead>\n",
       "  <tbody>\n",
       "    <tr>\n",
       "      <th>0</th>\n",
       "      <td>0.900901</td>\n",
       "      <td>0.906103</td>\n",
       "      <td>0.900901</td>\n",
       "      <td>0.901699</td>\n",
       "      <td>0.988801</td>\n",
       "    </tr>\n",
       "  </tbody>\n",
       "</table>\n",
       "</div>"
      ],
      "text/plain": [
       "   Accuracy  Precision    Recall        F1    ROCAUC\n",
       "0  0.900901   0.906103  0.900901  0.901699  0.988801"
      ]
     },
     "execution_count": 156,
     "metadata": {},
     "output_type": "execute_result"
    }
   ],
   "source": [
    "results1 = metric_results(y_val_accom_e,y_val_integer,y_pred_class,y_pred_prob)\n",
    "results1"
   ]
  },
  {
   "cell_type": "markdown",
   "id": "a68ffcce",
   "metadata": {},
   "source": [
    "# Section 5: Building a food aspect classifier"
   ]
  },
  {
   "cell_type": "markdown",
   "id": "cfcdd3f4",
   "metadata": {},
   "source": [
    "## Build model"
   ]
  },
  {
   "cell_type": "code",
   "execution_count": 157,
   "id": "87ffbd45",
   "metadata": {},
   "outputs": [],
   "source": [
    "# Parameters\n",
    "input_dim = 6000\n",
    "output_dim = 16\n",
    "input_length = 20\n",
    "batch_size = 16\n",
    "epochs = 50\n",
    "class_weights_food = {0:cw_food[0],1:cw_food[1],2:cw_food[2],3:cw_food[3],4:cw_food[4],5:cw_food[5]}\n",
    "\n",
    "# Set output directory and callbacks (patience set to 5)\n",
    "output_dir = out('model_output/FoodAspectModels')\n",
    "callbacks = call(output_dir,5)\n",
    "class_weights = class_weights_food"
   ]
  },
  {
   "cell_type": "markdown",
   "id": "026939e9",
   "metadata": {},
   "source": [
    "### Cross validation evaluation"
   ]
  },
  {
   "cell_type": "code",
   "execution_count": 47,
   "id": "aefbc86f",
   "metadata": {},
   "outputs": [
    {
     "name": "stdout",
     "output_type": "stream",
     "text": [
      "0.9470238208770752\n"
     ]
    }
   ],
   "source": [
    "# Combine training and validation sets for word embeddings and target encoded as integers as multi-label indicator (one-hot)\n",
    "# encoding is not supported\n",
    "# Run stratified cross validation and report mean accuracy for ten folds using create_model_a with 6 output parameters\n",
    "#cross(X_train_food_w, y_train_food_l,create_model_b)"
   ]
  },
  {
   "cell_type": "markdown",
   "id": "d69d822f",
   "metadata": {},
   "source": [
    "### Hold-out evaluation"
   ]
  },
  {
   "cell_type": "code",
   "execution_count": 158,
   "id": "dc73690c",
   "metadata": {},
   "outputs": [
    {
     "name": "stdout",
     "output_type": "stream",
     "text": [
      "Epoch 1/50\n",
      "105/105 - 0s - loss: 1.7285 - accuracy: 0.2762 - val_loss: 1.2253 - val_accuracy: 0.6429\n",
      "Epoch 2/50\n",
      "105/105 - 0s - loss: 0.6338 - accuracy: 0.7655 - val_loss: 0.2367 - val_accuracy: 0.9333\n",
      "Epoch 3/50\n",
      "105/105 - 0s - loss: 0.2245 - accuracy: 0.9339 - val_loss: 0.1795 - val_accuracy: 0.9524\n",
      "Epoch 4/50\n",
      "105/105 - 0s - loss: 0.1188 - accuracy: 0.9744 - val_loss: 0.1554 - val_accuracy: 0.9667\n",
      "Epoch 5/50\n",
      "105/105 - 0s - loss: 0.0850 - accuracy: 0.9786 - val_loss: 0.1364 - val_accuracy: 0.9619\n",
      "Epoch 6/50\n",
      "105/105 - 0s - loss: 0.0592 - accuracy: 0.9839 - val_loss: 0.1521 - val_accuracy: 0.9714\n",
      "Epoch 7/50\n",
      "105/105 - 0s - loss: 0.0404 - accuracy: 0.9905 - val_loss: 0.1614 - val_accuracy: 0.9714\n",
      "Epoch 8/50\n",
      "105/105 - 0s - loss: 0.0282 - accuracy: 0.9935 - val_loss: 0.1612 - val_accuracy: 0.9714\n",
      "Epoch 9/50\n",
      "105/105 - 0s - loss: 0.0189 - accuracy: 0.9958 - val_loss: 0.1702 - val_accuracy: 0.9714\n",
      "Epoch 10/50\n",
      "105/105 - 0s - loss: 0.0154 - accuracy: 0.9958 - val_loss: 0.2007 - val_accuracy: 0.9667\n",
      "\n",
      "\n",
      "\n",
      "53/53 [==============================] - 0s 452us/step - loss: 0.0070 - accuracy: 0.9976\n",
      "[0.006997300777584314, 0.9976190328598022]\n",
      "1/7 [===>..........................] - ETA: 0s - loss: 0.0422 - accuracy: 0.9688WARNING:tensorflow:Callbacks method `on_test_batch_end` is slow compared to the batch time (batch time: 0.0000s vs `on_test_batch_end` time: 0.0010s). Check your callbacks.\n",
      "7/7 [==============================] - 0s 520us/step - loss: 0.2007 - accuracy: 0.9667\n",
      "[0.20067308843135834, 0.9666666388511658]\n",
      "\n",
      "\n",
      "\n"
     ]
    },
    {
     "data": {
      "image/png": "[encoded data removed]",
      "text/plain": [
       "<Figure size 864x360 with 2 Axes>"
      ]
     },
     "metadata": {},
     "output_type": "display_data"
    }
   ],
   "source": [
    "# Run model using the word embeddings and the target encoded as one-hot encoding\n",
    "model2 = create_model_b()\n",
    "history2 = run_mod(model2, X_train_food_w, X_val_food_w, y_train_food_e, y_val_food_e)\n",
    "model2.save('food.h5')"
   ]
  },
  {
   "cell_type": "code",
   "execution_count": 159,
   "id": "b424b162",
   "metadata": {},
   "outputs": [
    {
     "name": "stdout",
     "output_type": "stream",
     "text": [
      "              precision    recall  f1-score   support\n",
      "\n",
      "           0       0.94      0.94      0.94        35\n",
      "           1       0.97      0.97      0.97        35\n",
      "           2       0.97      1.00      0.99        35\n",
      "           3       0.97      1.00      0.99        35\n",
      "           4       1.00      0.97      0.99        35\n",
      "           5       0.97      0.94      0.96        35\n",
      "\n",
      "    accuracy                           0.97       210\n",
      "   macro avg       0.97      0.97      0.97       210\n",
      "weighted avg       0.97      0.97      0.97       210\n",
      "\n"
     ]
    },
    {
     "data": {
      "image/png": "[encoded data removed]",
      "text/plain": [
       "<Figure size 576x432 with 2 Axes>"
      ]
     },
     "metadata": {},
     "output_type": "display_data"
    },
    {
     "name": "stdout",
     "output_type": "stream",
     "text": [
      "\n",
      "\n",
      "The model predicted: 6 aspects wrong from a total of: 210 predictions\n",
      "\n",
      "\n"
     ]
    }
   ],
   "source": [
    "label_food = [\"Food Quality\",\"Meal Exp\",\"Menu Choice\",\"Staff\",\"Value\",\"Visit Exp\"]\n",
    "df_pred_food, df_wrong_food, y_val_integer, y_pred_class, y_pred_prob = eval(model2, output_dir,\"/weights.06.hdf5\",X_val_food_w, y_val_food_e,y_val_food,label_food)"
   ]
  },
  {
   "cell_type": "code",
   "execution_count": 160,
   "id": "6788e8e9",
   "metadata": {},
   "outputs": [
    {
     "data": {
      "text/html": [
       "<div>\n",
       "<style scoped>\n",
       "    .dataframe tbody tr th:only-of-type {\n",
       "        vertical-align: middle;\n",
       "    }\n",
       "\n",
       "    .dataframe tbody tr th {\n",
       "        vertical-align: top;\n",
       "    }\n",
       "\n",
       "    .dataframe thead th {\n",
       "        text-align: right;\n",
       "    }\n",
       "</style>\n",
       "<table border=\"1\" class=\"dataframe\">\n",
       "  <thead>\n",
       "    <tr style=\"text-align: right;\">\n",
       "      <th></th>\n",
       "      <th>Accuracy</th>\n",
       "      <th>Precision</th>\n",
       "      <th>Recall</th>\n",
       "      <th>F1</th>\n",
       "      <th>ROCAUC</th>\n",
       "    </tr>\n",
       "  </thead>\n",
       "  <tbody>\n",
       "    <tr>\n",
       "      <th>0</th>\n",
       "      <td>0.971429</td>\n",
       "      <td>0.971553</td>\n",
       "      <td>0.971429</td>\n",
       "      <td>0.971358</td>\n",
       "      <td>0.996857</td>\n",
       "    </tr>\n",
       "  </tbody>\n",
       "</table>\n",
       "</div>"
      ],
      "text/plain": [
       "   Accuracy  Precision    Recall        F1    ROCAUC\n",
       "0  0.971429   0.971553  0.971429  0.971358  0.996857"
      ]
     },
     "execution_count": 160,
     "metadata": {},
     "output_type": "execute_result"
    }
   ],
   "source": [
    "results2 = metric_results(y_val_food_e,y_val_integer,y_pred_class,y_pred_prob)\n",
    "results2"
   ]
  },
  {
   "cell_type": "markdown",
   "id": "e83f4dad",
   "metadata": {},
   "source": [
    "# Section 6: Building an attractions model"
   ]
  },
  {
   "cell_type": "markdown",
   "id": "e8a53023",
   "metadata": {},
   "source": [
    "## Build a model"
   ]
  },
  {
   "cell_type": "code",
   "execution_count": 161,
   "id": "e53226e6",
   "metadata": {},
   "outputs": [],
   "source": [
    "# Parameters\n",
    "input_dim = 6000\n",
    "output_dim = 16\n",
    "input_length = 20\n",
    "batch_size = 16\n",
    "epochs = 50\n",
    "class_weights_attract = {0:cw_attract[0],1:cw_attract[1],2:cw_attract[2],3:cw_attract[3],4:cw_attract[4],5:cw_attract[5],6:cw_attract[6]}\n",
    "\n",
    "output_dir = out('model_output/AtractAspectModels')\n",
    "callbacks = call(output_dir,5)\n",
    "class_weights = class_weights_attract"
   ]
  },
  {
   "cell_type": "markdown",
   "id": "7af9ca05",
   "metadata": {},
   "source": [
    "### Cross validation  evaluation"
   ]
  },
  {
   "cell_type": "code",
   "execution_count": 57,
   "id": "061222cb",
   "metadata": {},
   "outputs": [
    {
     "name": "stdout",
     "output_type": "stream",
     "text": [
      "0.8507575869560242\n"
     ]
    }
   ],
   "source": [
    "# Combine training and validation sets for word embeddings and target encoded as integers as multi-label indicator (one-hot)\n",
    "# encoding is not supported\n",
    "# Run stratified cross validation and report mean accuracy for ten folds using create_model_a with 7 output parameters\n",
    "\n",
    "#cross(X_train_attract_w, y_train_attract_l,create_model_a)"
   ]
  },
  {
   "cell_type": "code",
   "execution_count": 162,
   "id": "8b63e2a1",
   "metadata": {},
   "outputs": [
    {
     "name": "stdout",
     "output_type": "stream",
     "text": [
      "Epoch 1/50\n",
      "83/83 - 0s - loss: 1.9498 - accuracy: 0.1379 - val_loss: 1.9354 - val_accuracy: 0.2061\n",
      "Epoch 2/50\n",
      "83/83 - 0s - loss: 1.8445 - accuracy: 0.2364 - val_loss: 1.5299 - val_accuracy: 0.4061\n",
      "Epoch 3/50\n",
      "83/83 - 0s - loss: 1.0927 - accuracy: 0.5333 - val_loss: 0.8852 - val_accuracy: 0.7091\n",
      "Epoch 4/50\n",
      "83/83 - 0s - loss: 0.5998 - accuracy: 0.7621 - val_loss: 0.8430 - val_accuracy: 0.8364\n",
      "Epoch 5/50\n",
      "83/83 - 0s - loss: 0.3657 - accuracy: 0.8614 - val_loss: 0.8462 - val_accuracy: 0.8182\n",
      "Epoch 6/50\n",
      "83/83 - 0s - loss: 0.2409 - accuracy: 0.9114 - val_loss: 0.8746 - val_accuracy: 0.8364\n",
      "Epoch 7/50\n",
      "83/83 - 0s - loss: 0.1857 - accuracy: 0.9424 - val_loss: 0.9161 - val_accuracy: 0.8424\n",
      "Epoch 8/50\n",
      "83/83 - 0s - loss: 0.0994 - accuracy: 0.9720 - val_loss: 1.0100 - val_accuracy: 0.8182\n",
      "Epoch 9/50\n",
      "83/83 - 0s - loss: 0.0935 - accuracy: 0.9795 - val_loss: 1.0144 - val_accuracy: 0.8485\n",
      "\n",
      "\n",
      "\n",
      " 1/42 [..............................] - ETA: 0s - loss: 0.0027 - accuracy: 1.0000WARNING:tensorflow:Callbacks method `on_test_batch_end` is slow compared to the batch time (batch time: 0.0000s vs `on_test_batch_end` time: 0.0010s). Check your callbacks.\n",
      "42/42 [==============================] - 0s 475us/step - loss: 0.0163 - accuracy: 0.9970\n",
      "[0.01631888560950756, 0.9969696998596191]\n",
      "6/6 [==============================] - 0s 499us/step - loss: 1.0144 - accuracy: 0.8485\n",
      "[1.0143948793411255, 0.8484848737716675]\n",
      "\n",
      "\n",
      "\n"
     ]
    },
    {
     "data": {
      "image/png": "[encoded data removed]",
      "text/plain": [
       "<Figure size 864x360 with 2 Axes>"
      ]
     },
     "metadata": {},
     "output_type": "display_data"
    }
   ],
   "source": [
    "# Run model using the word embeddings and the target encoded as one-hot encoding\n",
    "model3 = create_model_a()\n",
    "run_mod(model3, X_train_attract_w, X_val_attract_w, y_train_attract_e, y_val_attract_e)\n",
    "model3.save('attract.h5')"
   ]
  },
  {
   "cell_type": "code",
   "execution_count": 163,
   "id": "3230a674",
   "metadata": {},
   "outputs": [
    {
     "name": "stdout",
     "output_type": "stream",
     "text": [
      "              precision    recall  f1-score   support\n",
      "\n",
      "           0       0.92      0.80      0.86        30\n",
      "           1       0.96      0.83      0.89        30\n",
      "           2       0.76      0.87      0.81        15\n",
      "           3       0.93      0.87      0.90        30\n",
      "           4       0.90      0.90      0.90        20\n",
      "           5       0.76      0.87      0.81        15\n",
      "           6       0.68      0.84      0.75        25\n",
      "\n",
      "    accuracy                           0.85       165\n",
      "   macro avg       0.85      0.85      0.85       165\n",
      "weighted avg       0.86      0.85      0.85       165\n",
      "\n"
     ]
    },
    {
     "data": {
      "image/png": "[encoded data removed]",
      "text/plain": [
       "<Figure size 576x432 with 2 Axes>"
      ]
     },
     "metadata": {},
     "output_type": "display_data"
    },
    {
     "name": "stdout",
     "output_type": "stream",
     "text": [
      "\n",
      "\n",
      "The model predicted: 25 aspects wrong from a total of: 165 predictions\n",
      "\n",
      "\n"
     ]
    }
   ],
   "source": [
    "label_attract = [\"Activities\",\"Amenities\",\"History\",\"Nature\",\"Staff/Service\",\"Value\",\"Visit Exp\"]\n",
    "df_pred_attract,df_wrong_attract,y_val_integer, y_pred_class, y_pred_prob = eval(model3, output_dir,\"/weights.09.hdf5\",X_val_attract_w, y_val_attract_e,y_val_attract,label_attract)"
   ]
  },
  {
   "cell_type": "code",
   "execution_count": 164,
   "id": "65405a91",
   "metadata": {},
   "outputs": [
    {
     "data": {
      "text/html": [
       "<div>\n",
       "<style scoped>\n",
       "    .dataframe tbody tr th:only-of-type {\n",
       "        vertical-align: middle;\n",
       "    }\n",
       "\n",
       "    .dataframe tbody tr th {\n",
       "        vertical-align: top;\n",
       "    }\n",
       "\n",
       "    .dataframe thead th {\n",
       "        text-align: right;\n",
       "    }\n",
       "</style>\n",
       "<table border=\"1\" class=\"dataframe\">\n",
       "  <thead>\n",
       "    <tr style=\"text-align: right;\">\n",
       "      <th></th>\n",
       "      <th>Accuracy</th>\n",
       "      <th>Precision</th>\n",
       "      <th>Recall</th>\n",
       "      <th>F1</th>\n",
       "      <th>ROCAUC</th>\n",
       "    </tr>\n",
       "  </thead>\n",
       "  <tbody>\n",
       "    <tr>\n",
       "      <th>0</th>\n",
       "      <td>0.848485</td>\n",
       "      <td>0.862256</td>\n",
       "      <td>0.848485</td>\n",
       "      <td>0.851646</td>\n",
       "      <td>0.967796</td>\n",
       "    </tr>\n",
       "  </tbody>\n",
       "</table>\n",
       "</div>"
      ],
      "text/plain": [
       "   Accuracy  Precision    Recall        F1    ROCAUC\n",
       "0  0.848485   0.862256  0.848485  0.851646  0.967796"
      ]
     },
     "execution_count": 164,
     "metadata": {},
     "output_type": "execute_result"
    }
   ],
   "source": [
    "results3 = metric_results(y_val_attract_e,y_val_integer,y_pred_class,y_pred_prob)\n",
    "results3"
   ]
  },
  {
   "cell_type": "markdown",
   "id": "e661fc59",
   "metadata": {},
   "source": [
    "Analysis of results:\n",
    "\n",
    "* The food model performs best, possibly because the word range is much smaller and the aspects contain fewer words.\n",
    "* The accommodation and attraction models are less accurate possibly because the range of words is greater and there is more scope for classification errors to be made. Increased training data might improve the results for these categories. The machine learning models for accommodation and attractions outperform the neural network models.\n",
    "* Data augmentation is used to increase the training set size for the attractions model which is the worst performing of the three with a cross validation accuracy of 85%"
   ]
  },
  {
   "cell_type": "markdown",
   "id": "a9f24f30",
   "metadata": {},
   "source": [
    "# Section 6: Data Augmentation - Attractions"
   ]
  },
  {
   "cell_type": "markdown",
   "id": "5cfb37ec",
   "metadata": {},
   "source": [
    "Augment the training data using a range of techniques such as changing, deleting, swapping words to increase the number of training samples with synthetic data based on the actual data. Whether to augment the validation set as well as the training set is a bone of contention.\n",
    "\n",
    "https://stats.stackexchange.com/questions/320800/data-augmentation-on-training-set-only/320967#320967\n",
    "\n",
    "On the one hand augmenting just the training is done to reduce overfitting and improve generalisation but if the augmentation is introducing samples which are different and therefore make the training set not representative, it will not perform well when it sees the validation set which does not contain the augmented samples. Some argue that the validation set should be taken from the augmented data to get a proper comparison. Performance on the validation set helps to determine which model to use. \n",
    "\n",
    "Based on reading the opinions from links such as above, a decision was taken to follow the usual practice of only augmenting the training data.\n",
    "\n",
    "Cross validation is difficult here as the folds result in augmented data leaking into the test portion so instead the models are run ten times and an average accuracy taken based on that."
   ]
  },
  {
   "cell_type": "code",
   "execution_count": 165,
   "id": "8e9bd672",
   "metadata": {},
   "outputs": [
    {
     "data": {
      "text/html": [
       "<div>\n",
       "<style scoped>\n",
       "    .dataframe tbody tr th:only-of-type {\n",
       "        vertical-align: middle;\n",
       "    }\n",
       "\n",
       "    .dataframe tbody tr th {\n",
       "        vertical-align: top;\n",
       "    }\n",
       "\n",
       "    .dataframe thead th {\n",
       "        text-align: right;\n",
       "    }\n",
       "</style>\n",
       "<table border=\"1\" class=\"dataframe\">\n",
       "  <thead>\n",
       "    <tr style=\"text-align: right;\">\n",
       "      <th></th>\n",
       "      <th>Nouns</th>\n",
       "      <th>Aspect</th>\n",
       "    </tr>\n",
       "  </thead>\n",
       "  <tbody>\n",
       "    <tr>\n",
       "      <th>313</th>\n",
       "      <td>trust property</td>\n",
       "      <td>History</td>\n",
       "    </tr>\n",
       "    <tr>\n",
       "      <th>1354</th>\n",
       "      <td>competition child</td>\n",
       "      <td>VisitExp&amp;Gen</td>\n",
       "    </tr>\n",
       "    <tr>\n",
       "      <th>78</th>\n",
       "      <td>child park</td>\n",
       "      <td>Activities</td>\n",
       "    </tr>\n",
       "    <tr>\n",
       "      <th>1462</th>\n",
       "      <td>people</td>\n",
       "      <td>VisitExp&amp;Gen</td>\n",
       "    </tr>\n",
       "    <tr>\n",
       "      <th>752</th>\n",
       "      <td>cake coffee</td>\n",
       "      <td>Amenities</td>\n",
       "    </tr>\n",
       "  </tbody>\n",
       "</table>\n",
       "</div>"
      ],
      "text/plain": [
       "                  Nouns        Aspect\n",
       "313      trust property       History\n",
       "1354  competition child  VisitExp&Gen\n",
       "78           child park    Activities\n",
       "1462             people  VisitExp&Gen\n",
       "752         cake coffee     Amenities"
      ]
     },
     "execution_count": 165,
     "metadata": {},
     "output_type": "execute_result"
    }
   ],
   "source": [
    "# Concat and shuffle the training data\n",
    "attract_eda = pd.concat([X_train_attract,y_train_attract],axis = 1)\n",
    "attract_eda = attract_eda.sample(frac=1)\n",
    "attract_eda.head()"
   ]
  },
  {
   "cell_type": "code",
   "execution_count": 166,
   "id": "69467506",
   "metadata": {},
   "outputs": [
    {
     "data": {
      "text/plain": [
       "(1320, 2)"
      ]
     },
     "execution_count": 166,
     "metadata": {},
     "output_type": "execute_result"
    }
   ],
   "source": [
    "attract_eda.shape"
   ]
  },
  {
   "cell_type": "code",
   "execution_count": 63,
   "id": "170c0429",
   "metadata": {},
   "outputs": [
    {
     "data": {
      "text/plain": [
       "1    632\n",
       "2    401\n",
       "3    175\n",
       "4     69\n",
       "5     24\n",
       "6     13\n",
       "7      4\n",
       "8      1\n",
       "9      1\n",
       "Name: Count, dtype: int64"
      ]
     },
     "execution_count": 63,
     "metadata": {},
     "output_type": "execute_result"
    }
   ],
   "source": [
    "# Get number of words in each row, split dataframes into those with more than 1 word and those with 1\n",
    "attract_eda[\"Count\"] = attract_eda[\"Nouns\"].apply(lambda x: len(x.split()))\n",
    "attract_eda[\"Count\"].value_counts()"
   ]
  },
  {
   "cell_type": "markdown",
   "id": "b752f6d8",
   "metadata": {},
   "source": [
    "Most lines have just one word and those with more than one word have mostly two - this will inform the augmentation process"
   ]
  },
  {
   "cell_type": "markdown",
   "id": "3ea1929c",
   "metadata": {},
   "source": [
    "## Functions"
   ]
  },
  {
   "cell_type": "code",
   "execution_count": 168,
   "id": "1adb2ca4",
   "metadata": {},
   "outputs": [],
   "source": [
    "# Function to create the training set based on the new augmented dataset and then tokenize and binarize the validation and test sets\n",
    "# based on these new training sets.\n",
    "\n",
    "def proc_aug(df, X_val, y_val, X_test, y_test):\n",
    "    \n",
    "    # Set new X_train and y_train\n",
    "    X_train2 = df[\"Nouns\"]\n",
    "    y_train2 = df[\"Aspect\"]\n",
    "\n",
    "    # Encode new X_train, old X_val and old X_test\n",
    "    tokenizer = Tokenizer(num_words = 10000)\n",
    "    tokenizer.fit_on_texts(X_train2)\n",
    "    X_train_s = tokenizer.texts_to_sequences(X_train2)\n",
    "    X_val_s = tokenizer.texts_to_sequences(X_val)\n",
    "    X_test_s = tokenizer.texts_to_sequences(X_attract)\n",
    "    X_train_w = pad_sequences(np.array(X_train_s, dtype = \"object\"),maxlen = 20, padding = \"post\",truncating = \"post\", value = 0.0)\n",
    "    X_val_w = pad_sequences(np.array(X_val_s, dtype = \"object\"),maxlen = 20, padding = \"post\",truncating = \"post\", value = 0.0)\n",
    "    X_test_w = pad_sequences(np.array(X_test_s, dtype = \"object\"),maxlen = 20, padding = \"post\",truncating = \"post\", value = 0.0)\n",
    "\n",
    "    # Encode new y_train and old y_val and old y_test\n",
    "    binarizer = preprocessing.LabelBinarizer()\n",
    "    y_train_e = binarizer.fit_transform(y_train2)\n",
    "    y_val_e = binarizer.fit_transform(y_val)\n",
    "    y_test_e = binarizer.fit_transform(y_test)\n",
    "            \n",
    "    return X_train_w, y_train_e, X_val_w, y_val_e, X_test_w, y_test_e"
   ]
  },
  {
   "cell_type": "code",
   "execution_count": 169,
   "id": "32353688",
   "metadata": {},
   "outputs": [],
   "source": [
    "# Functions to run various data augmentation functions separately on the original dataframe (DO EACH STEP SEPARATELY NOT WITH\n",
    "#SINGLE FUNCTION)\n",
    "\n",
    "def aug(df):\n",
    "    \n",
    "    insertion = pd.DataFrame(df[\"Nouns\"].apply(lambda x: t.random_insertion(x, n = 1)))\n",
    "    insertion = pd.concat([insertion,df.Aspect],axis = 1)\n",
    "    insertion = insertion.append(df)\n",
    " \n",
    "    replaced = pd.DataFrame(df[\"Nouns\"].apply(lambda x: t.synonym_replacement(x, n = 1)))\n",
    "    replaced = pd.concat([replaced,df.Aspect],axis = 1)\n",
    "    replaced = replaced.append(df)\n",
    "\n",
    "    swapped = pd.DataFrame(df[\"Nouns\"].apply(lambda x: t.random_swap(x,n  = 1)))\n",
    "    swapped = pd.concat([swapped,df.Aspect],axis = 1)\n",
    "    swapped = swapped.append(df)\n",
    "\n",
    "    swapped[\"Count\"] = swapped[\"Nouns\"].apply(lambda x: len(x.split()))\n",
    "    equal_one = swapped[swapped[\"Count\"]==1].reset_index()\n",
    "    more_one = swapped[swapped[\"Count\"]>1].reset_index()\n",
    "\n",
    "    deleted = pd.DataFrame(more_one[\"Nouns\"].apply(lambda x: t.random_deletion(x,p = 0.2)))\n",
    "    deleted = pd.concat([deleted,more_one.Aspect],axis = 1,ignore_index=True)\n",
    "    deleted.columns = [\"Nouns\",\"Aspect\"]\n",
    "\n",
    "    equal_one.drop(columns = \"Count\",axis = 1, inplace = True)\n",
    "    equal_one = equal_one.set_index(\"index\")\n",
    "    deleted = deleted.append(equal_one)\n",
    "    #deleted = deleted.append(df)\n",
    "   \n",
    "    return insertion, replaced, swapped, deleted"
   ]
  },
  {
   "cell_type": "code",
   "execution_count": 170,
   "id": "47119658",
   "metadata": {},
   "outputs": [],
   "source": [
    "# Run model through ten times and get the average validation accuracy and training accuracy\n",
    "\n",
    "def evaluation(model, X_train, X_val, y_train, y_val):\n",
    "    train_acc = []\n",
    "    val_acc = []\n",
    "    for i in range(1,11):\n",
    "        history = model.fit(X_train, y_train,epochs = epochs,verbose = 0,callbacks = callbacks,validation_data = (X_val, y_val),\n",
    "                            batch_size = batch_size,class_weight = class_weights)\n",
    "        train_acc.append(model.evaluate(X_train, y_train)[1])\n",
    "        val_acc.append(model.evaluate(X_val, y_val)[1])\n",
    "        train_acc_mean = sum(train_acc)/10\n",
    "        val_acc_mean = sum(val_acc)/10\n",
    "        \n",
    "    return train_acc_mean,val_acc_mean\n",
    "    "
   ]
  },
  {
   "cell_type": "code",
   "execution_count": 171,
   "id": "8ea895b1",
   "metadata": {},
   "outputs": [],
   "source": [
    "# Define parameters - increase the input dim to match the tokenizer above\n",
    "\n",
    "input_dim = 6000\n",
    "output_dim = 16\n",
    "input_length = 20\n",
    "batch_size = 16\n",
    "epochs = 50\n",
    "class_weights_attract = {0:cw_attract[0],1:cw_attract[1],2:cw_attract[2],3:cw_attract[3],4:cw_attract[4],5:cw_attract[5],6:cw_attract[6]}\n",
    "class_weights = class_weights_attract\n",
    "\n",
    "output_dir = out('model_output/AttractAspectModelsAug1')\n",
    "callbacks = call(output_dir,5)"
   ]
  },
  {
   "cell_type": "markdown",
   "id": "99764256",
   "metadata": {},
   "source": [
    "## Random insertion"
   ]
  },
  {
   "cell_type": "code",
   "execution_count": 172,
   "id": "2b1c9857",
   "metadata": {},
   "outputs": [
    {
     "data": {
      "text/plain": [
       "'tasty food service'"
      ]
     },
     "execution_count": 172,
     "metadata": {},
     "output_type": "execute_result"
    }
   ],
   "source": [
    "# Import easy data augmentation package and set test sentence\n",
    "\n",
    "from textaugment import EDA\n",
    "t = EDA()\n",
    "\n",
    "test = \"tasty food service\"\n",
    "test"
   ]
  },
  {
   "cell_type": "code",
   "execution_count": 173,
   "id": "a98801c0",
   "metadata": {},
   "outputs": [
    {
     "data": {
      "text/plain": [
       "'avail tasty food service'"
      ]
     },
     "execution_count": 173,
     "metadata": {},
     "output_type": "execute_result"
    }
   ],
   "source": [
    "# Random insertion one word\n",
    "t.random_insertion(test, n = 1)"
   ]
  },
  {
   "cell_type": "code",
   "execution_count": 174,
   "id": "e6d85597",
   "metadata": {},
   "outputs": [
    {
     "name": "stdout",
     "output_type": "stream",
     "text": [
      "(2640, 2) (2640, 2) (2640, 3) (2640, 2)\n"
     ]
    }
   ],
   "source": [
    "# Run  augmentation function on the accommodation data\n",
    "insertion, replaced, swapped, deleted = aug(attract_eda)\n",
    "print(insertion.shape, replaced.shape, swapped.shape, deleted.shape)"
   ]
  },
  {
   "cell_type": "code",
   "execution_count": 175,
   "id": "8acd2130",
   "metadata": {},
   "outputs": [],
   "source": [
    "# Run encoding function on the augmented data and the original validation and test data\n",
    "X_train_attract_w, y_train_attract_e, X_val_attract_w, y_val_attract_e, X_test_attract_w, y_test_attract_e = proc_aug(insertion, X_val_attract, y_val_attract, X_test_attract, y_val_attract)"
   ]
  },
  {
   "cell_type": "code",
   "execution_count": 176,
   "id": "fadc0841",
   "metadata": {},
   "outputs": [
    {
     "name": "stdout",
     "output_type": "stream",
     "text": [
      "Epoch 1/50\n",
      "165/165 - 0s - loss: 1.8956 - accuracy: 0.2178 - val_loss: 1.5394 - val_accuracy: 0.2970\n",
      "Epoch 2/50\n",
      "165/165 - 0s - loss: 0.9607 - accuracy: 0.6311 - val_loss: 0.7307 - val_accuracy: 0.8061\n",
      "Epoch 3/50\n",
      "165/165 - 0s - loss: 0.3158 - accuracy: 0.9061 - val_loss: 0.7409 - val_accuracy: 0.8424\n",
      "Epoch 4/50\n",
      "165/165 - 0s - loss: 0.1474 - accuracy: 0.9598 - val_loss: 0.8959 - val_accuracy: 0.8242\n",
      "Epoch 5/50\n",
      "165/165 - 0s - loss: 0.0874 - accuracy: 0.9799 - val_loss: 0.9071 - val_accuracy: 0.8485\n",
      "Epoch 6/50\n",
      "165/165 - 0s - loss: 0.0555 - accuracy: 0.9883 - val_loss: 1.0092 - val_accuracy: 0.8545\n",
      "Epoch 7/50\n",
      "165/165 - 0s - loss: 0.0558 - accuracy: 0.9856 - val_loss: 0.8989 - val_accuracy: 0.8424\n",
      "\n",
      "\n",
      "\n",
      "83/83 [==============================] - 0s 505us/step - loss: 0.0159 - accuracy: 0.9943\n",
      "[0.015946056693792343, 0.9943181872367859]\n",
      "6/6 [==============================] - 0s 665us/step - loss: 0.8989 - accuracy: 0.8424\n",
      "[0.8989222645759583, 0.842424213886261]\n",
      "\n",
      "\n",
      "\n"
     ]
    },
    {
     "data": {
      "image/png": "[encoded data removed]",
      "text/plain": [
       "<Figure size 864x360 with 2 Axes>"
      ]
     },
     "metadata": {},
     "output_type": "display_data"
    }
   ],
   "source": [
    "# Run model using the word embeddings and the target encoded as one-hot encoding\n",
    "model_attract_insert = create_model_a()\n",
    "run_mod(model_attract_insert, X_train_attract_w, X_val_attract_w, y_train_attract_e, y_val_attract_e)"
   ]
  },
  {
   "cell_type": "code",
   "execution_count": 177,
   "id": "539c0d56",
   "metadata": {},
   "outputs": [
    {
     "name": "stdout",
     "output_type": "stream",
     "text": [
      "83/83 [==============================] - 0s 517us/step - loss: 0.0054 - accuracy: 0.9981\n",
      "6/6 [==============================] - 0s 664us/step - loss: 0.8942 - accuracy: 0.8727\n",
      "83/83 [==============================] - 0s 516us/step - loss: 0.0037 - accuracy: 0.9981\n",
      "6/6 [==============================] - 0s 665us/step - loss: 1.3079 - accuracy: 0.8667\n",
      "83/83 [==============================] - 0s 672us/step - loss: 0.0045 - accuracy: 0.9977\n",
      "6/6 [==============================] - 0s 665us/step - loss: 1.4370 - accuracy: 0.8788\n",
      "83/83 [==============================] - 0s 509us/step - loss: 0.0035 - accuracy: 0.9981\n",
      "6/6 [==============================] - 0s 665us/step - loss: 1.5538 - accuracy: 0.8485\n",
      "83/83 [==============================] - 0s 505us/step - loss: 0.0038 - accuracy: 0.9981\n",
      "6/6 [==============================] - 0s 665us/step - loss: 1.7332 - accuracy: 0.8545\n",
      "83/83 [==============================] - 0s 566us/step - loss: 0.0034 - accuracy: 0.9981\n",
      "6/6 [==============================] - 0s 580us/step - loss: 1.7248 - accuracy: 0.8788\n",
      "83/83 [==============================] - 0s 493us/step - loss: 0.0039 - accuracy: 0.9981\n",
      "6/6 [==============================] - 0s 499us/step - loss: 1.8415 - accuracy: 0.8727\n",
      "83/83 [==============================] - 0s 493us/step - loss: 0.0033 - accuracy: 0.9981\n",
      "6/6 [==============================] - 0s 556us/step - loss: 1.8568 - accuracy: 0.8727\n",
      "83/83 [==============================] - 0s 493us/step - loss: 0.0029 - accuracy: 0.9981\n",
      "6/6 [==============================] - 0s 676us/step - loss: 2.0405 - accuracy: 0.8909\n",
      "83/83 [==============================] - 0s 492us/step - loss: 0.0030 - accuracy: 0.9981\n",
      "6/6 [==============================] - 0s 2ms/step - loss: 2.0001 - accuracy: 0.8848\n"
     ]
    },
    {
     "data": {
      "text/plain": [
       "(0.9980681836605072, 0.8721212148666382)"
      ]
     },
     "execution_count": 177,
     "metadata": {},
     "output_type": "execute_result"
    }
   ],
   "source": [
    "evaluation(model_attract_insert, X_train_attract_w, X_val_attract_w, y_train_attract_e, y_val_attract_e)"
   ]
  },
  {
   "cell_type": "markdown",
   "id": "be55e794",
   "metadata": {},
   "source": [
    "###  Synonym replacement"
   ]
  },
  {
   "cell_type": "code",
   "execution_count": 178,
   "id": "c43cf5a8",
   "metadata": {},
   "outputs": [
    {
     "data": {
      "text/plain": [
       "'tasty intellectual nourishment service'"
      ]
     },
     "execution_count": 178,
     "metadata": {},
     "output_type": "execute_result"
    }
   ],
   "source": [
    "# Run synonym replacement\n",
    "t.synonym_replacement(test,n = 1)"
   ]
  },
  {
   "cell_type": "code",
   "execution_count": 179,
   "id": "34ff2350",
   "metadata": {},
   "outputs": [
    {
     "name": "stdout",
     "output_type": "stream",
     "text": [
      "Epoch 1/50\n",
      "165/165 - 0s - loss: 1.9451 - accuracy: 0.1500 - val_loss: 1.9098 - val_accuracy: 0.3333\n",
      "Epoch 2/50\n",
      "165/165 - 0s - loss: 1.3860 - accuracy: 0.4144 - val_loss: 0.8053 - val_accuracy: 0.8061\n",
      "Epoch 3/50\n",
      "165/165 - 0s - loss: 0.5514 - accuracy: 0.8098 - val_loss: 0.6259 - val_accuracy: 0.8545\n",
      "Epoch 4/50\n",
      "165/165 - 0s - loss: 0.2581 - accuracy: 0.9239 - val_loss: 0.7843 - val_accuracy: 0.8606\n",
      "Epoch 5/50\n",
      "165/165 - 0s - loss: 0.1307 - accuracy: 0.9640 - val_loss: 0.8330 - val_accuracy: 0.8727\n",
      "Epoch 6/50\n",
      "165/165 - 0s - loss: 0.0904 - accuracy: 0.9754 - val_loss: 0.9260 - val_accuracy: 0.8667\n",
      "Epoch 7/50\n",
      "165/165 - 0s - loss: 0.0539 - accuracy: 0.9864 - val_loss: 1.0064 - val_accuracy: 0.8667\n",
      "Epoch 8/50\n",
      "165/165 - 0s - loss: 0.0482 - accuracy: 0.9867 - val_loss: 1.0525 - val_accuracy: 0.8667\n",
      "\n",
      "\n",
      "\n",
      "83/83 [==============================] - 0s 381us/step - loss: 0.0268 - accuracy: 0.9928\n",
      "[0.026773149147629738, 0.9928030371665955]\n",
      "6/6 [==============================] - 0s 2ms/step - loss: 1.0525 - accuracy: 0.8667\n",
      "[1.052480697631836, 0.8666666746139526]\n",
      "\n",
      "\n",
      "\n"
     ]
    },
    {
     "data": {
      "image/png": "[encoded data removed]",
      "text/plain": [
       "<Figure size 864x360 with 2 Axes>"
      ]
     },
     "metadata": {},
     "output_type": "display_data"
    }
   ],
   "source": [
    "# Run  augmentation and encoding function on the accommodation data\n",
    "output_dir = out('model_output/AttractAspectModelsAug2')\n",
    "X_train_attract_w, y_train_attract_e, X_val_attract_w, y_val_attract_e, X_test_attract_w, y_test_attract_e = proc_aug(replaced, X_val_attract, y_val_attract, X_test_attract, y_val_attract)\n",
    "model_attract_replace = create_model_a()\n",
    "history_attract_replace = run_mod(model_attract_replace, X_train_attract_w, X_val_attract_w, y_train_attract_e, y_val_attract_e)"
   ]
  },
  {
   "cell_type": "code",
   "execution_count": 180,
   "id": "b4c67d83",
   "metadata": {},
   "outputs": [
    {
     "name": "stdout",
     "output_type": "stream",
     "text": [
      " 1/83 [..............................] - ETA: 0s - loss: 0.0089 - accuracy: 1.0000WARNING:tensorflow:Callbacks method `on_test_batch_begin` is slow compared to the batch time (batch time: 0.0000s vs `on_test_batch_begin` time: 0.0010s). Check your callbacks.\n",
      "83/83 [==============================] - 0s 493us/step - loss: 0.0234 - accuracy: 0.9932\n",
      "6/6 [==============================] - 0s 707us/step - loss: 1.2282 - accuracy: 0.8606\n",
      "83/83 [==============================] - 0s 397us/step - loss: 0.0155 - accuracy: 0.9943\n",
      "6/6 [==============================] - 0s 2ms/step - loss: 1.6393 - accuracy: 0.8606\n",
      "83/83 [==============================] - 0s 550us/step - loss: 0.0164 - accuracy: 0.9943\n",
      "6/6 [==============================] - 0s 2ms/step - loss: 1.7504 - accuracy: 0.8485\n",
      "83/83 [==============================] - 0s 481us/step - loss: 0.0139 - accuracy: 0.9947\n",
      "6/6 [==============================] - 0s 2ms/step - loss: 1.8288 - accuracy: 0.8606\n",
      "83/83 [==============================] - 0s 469us/step - loss: 0.0172 - accuracy: 0.9943\n",
      "6/6 [==============================] - 0s 499us/step - loss: 1.6094 - accuracy: 0.8545\n",
      "83/83 [==============================] - 0s 492us/step - loss: 0.0126 - accuracy: 0.9947\n",
      "1/6 [====>.........................] - ETA: 0s - loss: 1.7028 - accuracy: 0.9062WARNING:tensorflow:Callbacks method `on_test_batch_end` is slow compared to the batch time (batch time: 0.0000s vs `on_test_batch_end` time: 0.0010s). Check your callbacks.\n",
      "6/6 [==============================] - 0s 665us/step - loss: 2.1330 - accuracy: 0.8485\n",
      "83/83 [==============================] - 0s 331us/step - loss: 0.0129 - accuracy: 0.9947\n",
      "6/6 [==============================] - 0s 2ms/step - loss: 2.4339 - accuracy: 0.8606\n",
      "83/83 [==============================] - 0s 493us/step - loss: 0.0127 - accuracy: 0.9943\n",
      "6/6 [==============================] - 0s 665us/step - loss: 2.3836 - accuracy: 0.8485\n",
      "83/83 [==============================] - 0s 505us/step - loss: 0.0124 - accuracy: 0.9947\n",
      "1/6 [====>.........................] - ETA: 0s - loss: 1.1104 - accuracy: 0.8750WARNING:tensorflow:Callbacks method `on_test_batch_end` is slow compared to the batch time (batch time: 0.0000s vs `on_test_batch_end` time: 0.0010s). Check your callbacks.\n",
      "6/6 [==============================] - 0s 687us/step - loss: 2.4420 - accuracy: 0.8424\n",
      "83/83 [==============================] - 0s 481us/step - loss: 0.0113 - accuracy: 0.9947\n",
      "6/6 [==============================] - 0s 665us/step - loss: 2.9028 - accuracy: 0.8545\n"
     ]
    },
    {
     "data": {
      "text/plain": [
       "(0.9943939447402954, 0.8539394080638886)"
      ]
     },
     "execution_count": 180,
     "metadata": {},
     "output_type": "execute_result"
    }
   ],
   "source": [
    "evaluation(model_attract_replace, X_train_attract_w, X_val_attract_w, y_train_attract_e, y_val_attract_e)"
   ]
  },
  {
   "cell_type": "markdown",
   "id": "b1446f43",
   "metadata": {},
   "source": [
    "### Random swap"
   ]
  },
  {
   "cell_type": "markdown",
   "id": "3643741b",
   "metadata": {},
   "source": [
    "Randomly swap two words in the augmented text"
   ]
  },
  {
   "cell_type": "code",
   "execution_count": 181,
   "id": "63e3aef8",
   "metadata": {},
   "outputs": [
    {
     "data": {
      "text/plain": [
       "'service food tasty'"
      ]
     },
     "execution_count": 181,
     "metadata": {},
     "output_type": "execute_result"
    }
   ],
   "source": [
    "# Randomly swap words in the sentence \n",
    "t.random_swap(test, n = 1)"
   ]
  },
  {
   "cell_type": "code",
   "execution_count": 182,
   "id": "9a82f832",
   "metadata": {},
   "outputs": [
    {
     "name": "stdout",
     "output_type": "stream",
     "text": [
      "Epoch 1/50\n",
      "165/165 - 0s - loss: 1.9330 - accuracy: 0.1883 - val_loss: 1.7165 - val_accuracy: 0.4121\n",
      "Epoch 2/50\n",
      "165/165 - 0s - loss: 0.9517 - accuracy: 0.6258 - val_loss: 0.7875 - val_accuracy: 0.8061\n",
      "Epoch 3/50\n",
      "165/165 - 0s - loss: 0.3628 - accuracy: 0.9049 - val_loss: 0.7515 - val_accuracy: 0.8364\n",
      "Epoch 4/50\n",
      "165/165 - 0s - loss: 0.2089 - accuracy: 0.9523 - val_loss: 0.7825 - val_accuracy: 0.8364\n",
      "Epoch 5/50\n",
      "165/165 - 0s - loss: 0.1137 - accuracy: 0.9697 - val_loss: 1.0244 - val_accuracy: 0.8485\n",
      "Epoch 6/50\n",
      "165/165 - 0s - loss: 0.0982 - accuracy: 0.9746 - val_loss: 1.1015 - val_accuracy: 0.8606\n",
      "Epoch 7/50\n",
      "165/165 - 0s - loss: 0.0717 - accuracy: 0.9826 - val_loss: 1.0950 - val_accuracy: 0.8606\n",
      "Epoch 8/50\n",
      "165/165 - 0s - loss: 0.0462 - accuracy: 0.9864 - val_loss: 1.1054 - val_accuracy: 0.8606\n",
      "\n",
      "\n",
      "\n",
      "83/83 [==============================] - 0s 481us/step - loss: 0.0216 - accuracy: 0.9939\n",
      "[0.02163284830749035, 0.9939393997192383]\n",
      "6/6 [==============================] - 0s 665us/step - loss: 1.1054 - accuracy: 0.8606\n",
      "[1.105434775352478, 0.8606060743331909]\n",
      "\n",
      "\n",
      "\n"
     ]
    },
    {
     "data": {
      "image/png": "[encoded data removed]",
      "text/plain": [
       "<Figure size 864x360 with 2 Axes>"
      ]
     },
     "metadata": {},
     "output_type": "display_data"
    }
   ],
   "source": [
    "# Run  augmentation and encoding function on the accommodation data\n",
    "output_dir = out('model_output/AttractAspectModelsAug3')\n",
    "X_train_attract_w, y_train_attract_e, X_val_attract_w, y_val_attract_e, X_test_attract_w, y_test_attract_e = proc_aug(swapped, X_val_attract, y_val_attract, X_test_attract, y_val_attract)\n",
    "model_attract_swap = create_model_a()\n",
    "history_attract_swap = run_mod(model_attract_swap, X_train_attract_w, X_val_attract_w, y_train_attract_e, y_val_attract_e)"
   ]
  },
  {
   "cell_type": "code",
   "execution_count": 183,
   "id": "99bbc904",
   "metadata": {},
   "outputs": [
    {
     "name": "stdout",
     "output_type": "stream",
     "text": [
      "83/83 [==============================] - 0s 527us/step - loss: 0.0088 - accuracy: 0.9962\n",
      "6/6 [==============================] - 0s 665us/step - loss: 1.2944 - accuracy: 0.8545\n",
      "83/83 [==============================] - 0s 468us/step - loss: 0.0135 - accuracy: 0.9939\n",
      "6/6 [==============================] - 0s 689us/step - loss: 1.6076 - accuracy: 0.8545\n",
      "83/83 [==============================] - 0s 493us/step - loss: 0.0057 - accuracy: 0.9970\n",
      "6/6 [==============================] - 0s 499us/step - loss: 1.7121 - accuracy: 0.8485\n",
      "83/83 [==============================] - 0s 469us/step - loss: 0.0053 - accuracy: 0.9970\n",
      "1/6 [====>.........................] - ETA: 0s - loss: 0.9000 - accuracy: 0.9375WARNING:tensorflow:Callbacks method `on_test_batch_end` is slow compared to the batch time (batch time: 0.0000s vs `on_test_batch_end` time: 0.0010s). Check your callbacks.\n",
      "6/6 [==============================] - 0s 665us/step - loss: 1.8300 - accuracy: 0.8364\n",
      "83/83 [==============================] - 0s 636us/step - loss: 0.0052 - accuracy: 0.9966\n",
      "6/6 [==============================] - 0s 544us/step - loss: 1.9899 - accuracy: 0.8667\n",
      "83/83 [==============================] - 0s 493us/step - loss: 0.0063 - accuracy: 0.9970\n",
      "6/6 [==============================] - 0s 498us/step - loss: 1.9870 - accuracy: 0.8667\n",
      "83/83 [==============================] - 0s 471us/step - loss: 0.0051 - accuracy: 0.9970\n",
      "6/6 [==============================] - 0s 665us/step - loss: 2.0959 - accuracy: 0.8667\n",
      " 1/83 [..............................] - ETA: 0s - loss: 0.0019 - accuracy: 1.0000WARNING:tensorflow:Callbacks method `on_test_batch_end` is slow compared to the batch time (batch time: 0.0000s vs `on_test_batch_end` time: 0.0010s). Check your callbacks.\n",
      "83/83 [==============================] - 0s 469us/step - loss: 0.0146 - accuracy: 0.9962\n",
      "6/6 [==============================] - 0s 563us/step - loss: 3.1220 - accuracy: 0.8424\n",
      "83/83 [==============================] - 0s 481us/step - loss: 0.0048 - accuracy: 0.9970\n",
      "6/6 [==============================] - 0s 499us/step - loss: 2.6301 - accuracy: 0.8727\n",
      "83/83 [==============================] - 0s 469us/step - loss: 0.0055 - accuracy: 0.9966\n",
      "6/6 [==============================] - 0s 499us/step - loss: 2.3809 - accuracy: 0.8788\n"
     ]
    },
    {
     "data": {
      "text/plain": [
       "(0.9964393973350525, 0.8587878823280335)"
      ]
     },
     "execution_count": 183,
     "metadata": {},
     "output_type": "execute_result"
    }
   ],
   "source": [
    "evaluation(model_attract_swap, X_train_attract_w, X_val_attract_w, y_train_attract_e, y_val_attract_e)"
   ]
  },
  {
   "cell_type": "markdown",
   "id": "4a7be90d",
   "metadata": {},
   "source": [
    "## Random deletion"
   ]
  },
  {
   "cell_type": "markdown",
   "id": "d7a94a64",
   "metadata": {},
   "source": [
    "Randomly delete words with a certain probability"
   ]
  },
  {
   "cell_type": "code",
   "execution_count": 184,
   "id": "2c05746f",
   "metadata": {},
   "outputs": [
    {
     "data": {
      "text/plain": [
       "'food service'"
      ]
     },
     "execution_count": 184,
     "metadata": {},
     "output_type": "execute_result"
    }
   ],
   "source": [
    "# Delete a random word in the sentence with a probability of 0.2 \n",
    "t.random_deletion(test, p=0.2)"
   ]
  },
  {
   "cell_type": "code",
   "execution_count": 185,
   "id": "7db2690c",
   "metadata": {},
   "outputs": [
    {
     "name": "stdout",
     "output_type": "stream",
     "text": [
      "Epoch 1/50\n",
      "165/165 - 0s - loss: 1.9300 - accuracy: 0.1799 - val_loss: 1.7189 - val_accuracy: 0.5152\n",
      "Epoch 2/50\n",
      "165/165 - 0s - loss: 1.0007 - accuracy: 0.6515 - val_loss: 0.6854 - val_accuracy: 0.8364\n",
      "Epoch 3/50\n",
      "165/165 - 0s - loss: 0.4219 - accuracy: 0.8909 - val_loss: 0.6715 - val_accuracy: 0.8424\n",
      "Epoch 4/50\n",
      "165/165 - 0s - loss: 0.2636 - accuracy: 0.9383 - val_loss: 0.6395 - val_accuracy: 0.8182\n",
      "Epoch 5/50\n",
      "165/165 - 0s - loss: 0.2102 - accuracy: 0.9492 - val_loss: 0.6383 - val_accuracy: 0.8545\n",
      "Epoch 6/50\n",
      "165/165 - 0s - loss: 0.1766 - accuracy: 0.9545 - val_loss: 0.6879 - val_accuracy: 0.8545\n",
      "Epoch 7/50\n",
      "165/165 - 0s - loss: 0.1588 - accuracy: 0.9629 - val_loss: 0.7080 - val_accuracy: 0.8061\n",
      "Epoch 8/50\n",
      "165/165 - 0s - loss: 0.1549 - accuracy: 0.9648 - val_loss: 0.6784 - val_accuracy: 0.8485\n",
      "Epoch 9/50\n",
      "165/165 - 0s - loss: 0.1266 - accuracy: 0.9659 - val_loss: 0.7462 - val_accuracy: 0.8545\n",
      "Epoch 10/50\n",
      "165/165 - 0s - loss: 0.1290 - accuracy: 0.9663 - val_loss: 0.7203 - val_accuracy: 0.8061\n",
      "\n",
      "\n",
      "\n",
      "83/83 [==============================] - 0s 445us/step - loss: 0.0900 - accuracy: 0.9761\n",
      "[0.09003642946481705, 0.9761363863945007]\n",
      "6/6 [==============================] - 0s 2ms/step - loss: 0.7203 - accuracy: 0.8061\n",
      "[0.720308780670166, 0.8060606122016907]\n",
      "\n",
      "\n",
      "\n"
     ]
    },
    {
     "data": {
      "image/png": "[encoded data removed]",
      "text/plain": [
       "<Figure size 864x360 with 2 Axes>"
      ]
     },
     "metadata": {},
     "output_type": "display_data"
    }
   ],
   "source": [
    "# Run  augmentation and encoding function on the accommodation data\n",
    "output_dir = out('model_output/AttractAspectModelsAug4')\n",
    "X_train_attract_w, y_train_attract_e, X_val_attract_w, y_val_attract_e, X_test_attract_w, y_test_attract_e = proc_aug(deleted, X_val_attract, y_val_attract, X_test_attract, y_val_attract)\n",
    "model_attract_delete = create_model_a()\n",
    "history_attract_del = run_mod(model_attract_delete, X_train_attract_w, X_val_attract_w, y_train_attract_e, y_val_attract_e)"
   ]
  },
  {
   "cell_type": "code",
   "execution_count": 186,
   "id": "923917ba",
   "metadata": {},
   "outputs": [
    {
     "name": "stdout",
     "output_type": "stream",
     "text": [
      "83/83 [==============================] - 0s 403us/step - loss: 0.0730 - accuracy: 0.9788\n",
      "6/6 [==============================] - 0s 2ms/step - loss: 0.9232 - accuracy: 0.8485\n",
      "83/83 [==============================] - 0s 493us/step - loss: 0.0668 - accuracy: 0.9788\n",
      "6/6 [==============================] - 0s 665us/step - loss: 1.0936 - accuracy: 0.8424\n",
      "83/83 [==============================] - 0s 664us/step - loss: 0.0569 - accuracy: 0.9814\n",
      "6/6 [==============================] - 0s 2ms/step - loss: 1.1586 - accuracy: 0.8424\n",
      "83/83 [==============================] - 0s 569us/step - loss: 0.0544 - accuracy: 0.9818\n",
      "6/6 [==============================] - 0s 2ms/step - loss: 1.1572 - accuracy: 0.8424\n",
      "83/83 [==============================] - 0s 524us/step - loss: 0.0586 - accuracy: 0.9795\n",
      "6/6 [==============================] - 0s 1ms/step - loss: 1.2899 - accuracy: 0.8545\n",
      "83/83 [==============================] - 0s 515us/step - loss: 0.0930 - accuracy: 0.9735\n",
      "6/6 [==============================] - 0s 2ms/step - loss: 1.5883 - accuracy: 0.7818\n",
      "83/83 [==============================] - 0s 503us/step - loss: 0.0527 - accuracy: 0.9818\n",
      "6/6 [==============================] - 0s 2ms/step - loss: 1.7220 - accuracy: 0.8121\n",
      "83/83 [==============================] - 0s 493us/step - loss: 0.0529 - accuracy: 0.9792\n",
      "1/6 [====>.........................] - ETA: 0s - loss: 0.5623 - accuracy: 0.9062WARNING:tensorflow:Callbacks method `on_test_batch_begin` is slow compared to the batch time (batch time: 0.0000s vs `on_test_batch_begin` time: 0.0011s). Check your callbacks.\n",
      "6/6 [==============================] - 0s 665us/step - loss: 1.6746 - accuracy: 0.7879\n",
      "83/83 [==============================] - 0s 434us/step - loss: 0.0494 - accuracy: 0.9822\n",
      "6/6 [==============================] - 0s 578us/step - loss: 2.1661 - accuracy: 0.8242\n",
      "83/83 [==============================] - 0s 481us/step - loss: 0.0472 - accuracy: 0.9830\n",
      "6/6 [==============================] - 0s 665us/step - loss: 2.0625 - accuracy: 0.8061\n"
     ]
    },
    {
     "data": {
      "text/plain": [
       "(0.9800000190734863, 0.8242424249649047)"
      ]
     },
     "execution_count": 186,
     "metadata": {},
     "output_type": "execute_result"
    }
   ],
   "source": [
    "evaluation(model_attract_delete, X_train_attract_w, X_val_attract_w, y_train_attract_e, y_val_attract_e)"
   ]
  },
  {
   "cell_type": "markdown",
   "id": "25453795",
   "metadata": {},
   "source": [
    "* Random insertion and synonym replacement seem to work the best of the augmented methods\n",
    "* The best accuracies occurred in both of these models suggesting that either might work\n",
    "* Random insertion is the quickest to run on the base dataset"
   ]
  },
  {
   "cell_type": "markdown",
   "id": "69c731b0",
   "metadata": {},
   "source": [
    "# Section 7: Run the Best Augmented Model for Attractions"
   ]
  },
  {
   "cell_type": "code",
   "execution_count": 187,
   "id": "3cb9dc0a",
   "metadata": {},
   "outputs": [],
   "source": [
    "# Parameters\n",
    "input_dim = 6000\n",
    "output_dim = 16\n",
    "input_length = 20\n",
    "batch_size = 16\n",
    "epochs = 50\n",
    "class_weights_attract = {0:cw_attract[0],1:cw_attract[1],2:cw_attract[2],3:cw_attract[3],4:cw_attract[4],5:cw_attract[5],6:cw_attract[6]}\n",
    "\n",
    "output_dir = out('model_output/AtractAspectModels')\n",
    "callbacks = call(output_dir,5)\n",
    "class_weights = class_weights_attract"
   ]
  },
  {
   "cell_type": "code",
   "execution_count": 193,
   "id": "fbafbc16",
   "metadata": {},
   "outputs": [
    {
     "name": "stdout",
     "output_type": "stream",
     "text": [
      "Epoch 1/50\n",
      "WARNING:tensorflow:Callbacks method `on_test_batch_begin` is slow compared to the batch time (batch time: 0.0002s vs `on_test_batch_begin` time: 0.0010s). Check your callbacks.\n",
      "165/165 - 0s - loss: 1.9144 - accuracy: 0.1822 - val_loss: 1.5809 - val_accuracy: 0.3394\n",
      "Epoch 2/50\n",
      "165/165 - 0s - loss: 0.9651 - accuracy: 0.6534 - val_loss: 0.7642 - val_accuracy: 0.8182\n",
      "Epoch 3/50\n",
      "165/165 - 0s - loss: 0.3207 - accuracy: 0.9102 - val_loss: 0.8220 - val_accuracy: 0.8242\n",
      "Epoch 4/50\n",
      "165/165 - 0s - loss: 0.1441 - accuracy: 0.9640 - val_loss: 0.9306 - val_accuracy: 0.8242\n",
      "Epoch 5/50\n",
      "165/165 - 0s - loss: 0.0867 - accuracy: 0.9780 - val_loss: 0.7944 - val_accuracy: 0.8606\n",
      "Epoch 6/50\n",
      "165/165 - 0s - loss: 0.0627 - accuracy: 0.9837 - val_loss: 0.8120 - val_accuracy: 0.8545\n",
      "Epoch 7/50\n",
      "165/165 - 0s - loss: 0.0373 - accuracy: 0.9894 - val_loss: 0.8495 - val_accuracy: 0.8667\n",
      "\n",
      "\n",
      "\n",
      " 1/83 [..............................] - ETA: 0s - loss: 0.0044 - accuracy: 1.0000WARNING:tensorflow:Callbacks method `on_test_batch_end` is slow compared to the batch time (batch time: 0.0000s vs `on_test_batch_end` time: 0.0010s). Check your callbacks.\n",
      "83/83 [==============================] - 0s 493us/step - loss: 0.0075 - accuracy: 0.9981\n",
      "[0.007450753822922707, 0.998106062412262]\n",
      "6/6 [==============================] - 0s 499us/step - loss: 0.8495 - accuracy: 0.8667\n",
      "[0.849513828754425, 0.8666666746139526]\n",
      "\n",
      "\n",
      "\n"
     ]
    },
    {
     "data": {
      "image/png": "[encoded data removed]",
      "text/plain": [
       "<Figure size 864x360 with 2 Axes>"
      ]
     },
     "metadata": {},
     "output_type": "display_data"
    }
   ],
   "source": [
    "# Run encoding function on the augmented data and the original validation and test data\n",
    "X_train_attract_w, y_train_attract_e, X_val_attract_w, y_val_attract_e, X_test_attract_w, y_test_attract_e = proc_aug(insertion, X_val_attract, y_val_attract, X_test_attract, y_val_attract)\n",
    "\n",
    "# Run model using the word embeddings and the target encoded as one-hot encoding\n",
    "model_attract_insert = create_model_a()\n",
    "run_mod(model_attract_insert, X_train_attract_w, X_val_attract_w, y_train_attract_e, y_val_attract_e)"
   ]
  },
  {
   "cell_type": "code",
   "execution_count": 194,
   "id": "4a79452e",
   "metadata": {},
   "outputs": [
    {
     "name": "stdout",
     "output_type": "stream",
     "text": [
      "              precision    recall  f1-score   support\n",
      "\n",
      "           0       0.96      0.80      0.87        30\n",
      "           1       0.96      0.90      0.93        30\n",
      "           2       0.93      0.93      0.93        15\n",
      "           3       0.96      0.90      0.93        30\n",
      "           4       0.77      0.85      0.81        20\n",
      "           5       0.74      0.93      0.82        15\n",
      "           6       0.64      0.72      0.68        25\n",
      "\n",
      "    accuracy                           0.85       165\n",
      "   macro avg       0.85      0.86      0.85       165\n",
      "weighted avg       0.87      0.85      0.86       165\n",
      "\n"
     ]
    },
    {
     "data": {
      "image/png": "[encoded data removed]",
      "text/plain": [
       "<Figure size 576x432 with 2 Axes>"
      ]
     },
     "metadata": {},
     "output_type": "display_data"
    },
    {
     "name": "stdout",
     "output_type": "stream",
     "text": [
      "\n",
      "\n",
      "The model predicted: 24 aspects wrong from a total of: 165 predictions\n",
      "\n",
      "\n"
     ]
    }
   ],
   "source": [
    "df_pred_attract,df_wrong_attract,y_val_integer, y_pred_class, y_pred_prob = eval(model_attract_insert, output_dir,\"/weights.06.hdf5\",X_val_attract_w, y_val_attract_e,y_val_attract,label_attract)"
   ]
  },
  {
   "cell_type": "code",
   "execution_count": 195,
   "id": "3a7a479d",
   "metadata": {},
   "outputs": [
    {
     "data": {
      "text/html": [
       "<div>\n",
       "<style scoped>\n",
       "    .dataframe tbody tr th:only-of-type {\n",
       "        vertical-align: middle;\n",
       "    }\n",
       "\n",
       "    .dataframe tbody tr th {\n",
       "        vertical-align: top;\n",
       "    }\n",
       "\n",
       "    .dataframe thead th {\n",
       "        text-align: right;\n",
       "    }\n",
       "</style>\n",
       "<table border=\"1\" class=\"dataframe\">\n",
       "  <thead>\n",
       "    <tr style=\"text-align: right;\">\n",
       "      <th></th>\n",
       "      <th>Accuracy</th>\n",
       "      <th>Precision</th>\n",
       "      <th>Recall</th>\n",
       "      <th>F1</th>\n",
       "      <th>ROCAUC</th>\n",
       "    </tr>\n",
       "  </thead>\n",
       "  <tbody>\n",
       "    <tr>\n",
       "      <th>0</th>\n",
       "      <td>0.854545</td>\n",
       "      <td>0.868095</td>\n",
       "      <td>0.854545</td>\n",
       "      <td>0.857991</td>\n",
       "      <td>0.972962</td>\n",
       "    </tr>\n",
       "  </tbody>\n",
       "</table>\n",
       "</div>"
      ],
      "text/plain": [
       "   Accuracy  Precision    Recall        F1    ROCAUC\n",
       "0  0.854545   0.868095  0.854545  0.857991  0.972962"
      ]
     },
     "execution_count": 195,
     "metadata": {},
     "output_type": "execute_result"
    }
   ],
   "source": [
    "results4 = metric_results(y_val_attract_e,y_val_integer,y_pred_class,y_pred_prob)\n",
    "results4"
   ]
  },
  {
   "cell_type": "markdown",
   "id": "ecb9c962",
   "metadata": {},
   "source": [
    "# Section 8: Summary of all Results"
   ]
  },
  {
   "cell_type": "code",
   "execution_count": 196,
   "id": "deda4894",
   "metadata": {},
   "outputs": [
    {
     "data": {
      "text/html": [
       "<div>\n",
       "<style scoped>\n",
       "    .dataframe tbody tr th:only-of-type {\n",
       "        vertical-align: middle;\n",
       "    }\n",
       "\n",
       "    .dataframe tbody tr th {\n",
       "        vertical-align: top;\n",
       "    }\n",
       "\n",
       "    .dataframe thead th {\n",
       "        text-align: right;\n",
       "    }\n",
       "</style>\n",
       "<table border=\"1\" class=\"dataframe\">\n",
       "  <thead>\n",
       "    <tr style=\"text-align: right;\">\n",
       "      <th></th>\n",
       "      <th>Accuracy</th>\n",
       "      <th>Precision</th>\n",
       "      <th>Recall</th>\n",
       "      <th>F1</th>\n",
       "      <th>ROCAUC</th>\n",
       "    </tr>\n",
       "  </thead>\n",
       "  <tbody>\n",
       "    <tr>\n",
       "      <th>Food</th>\n",
       "      <td>0.971429</td>\n",
       "      <td>0.971553</td>\n",
       "      <td>0.971429</td>\n",
       "      <td>0.971358</td>\n",
       "      <td>0.996857</td>\n",
       "    </tr>\n",
       "    <tr>\n",
       "      <th>Accommodation</th>\n",
       "      <td>0.900901</td>\n",
       "      <td>0.906103</td>\n",
       "      <td>0.900901</td>\n",
       "      <td>0.901699</td>\n",
       "      <td>0.988801</td>\n",
       "    </tr>\n",
       "    <tr>\n",
       "      <th>Attractions Aug</th>\n",
       "      <td>0.854545</td>\n",
       "      <td>0.868095</td>\n",
       "      <td>0.854545</td>\n",
       "      <td>0.857991</td>\n",
       "      <td>0.972962</td>\n",
       "    </tr>\n",
       "    <tr>\n",
       "      <th>Attractions</th>\n",
       "      <td>0.848485</td>\n",
       "      <td>0.862256</td>\n",
       "      <td>0.848485</td>\n",
       "      <td>0.851646</td>\n",
       "      <td>0.967796</td>\n",
       "    </tr>\n",
       "  </tbody>\n",
       "</table>\n",
       "</div>"
      ],
      "text/plain": [
       "                 Accuracy  Precision    Recall        F1    ROCAUC\n",
       "Food             0.971429   0.971553  0.971429  0.971358  0.996857\n",
       "Accommodation    0.900901   0.906103  0.900901  0.901699  0.988801\n",
       "Attractions Aug  0.854545   0.868095  0.854545  0.857991  0.972962\n",
       "Attractions      0.848485   0.862256  0.848485  0.851646  0.967796"
      ]
     },
     "execution_count": 196,
     "metadata": {},
     "output_type": "execute_result"
    }
   ],
   "source": [
    "model_sum = pd.concat([results1, results2, results3,results4])\n",
    "model_sum.index = [\"Accommodation\",\"Food\",\"Attractions\",\"Attractions Aug\"]\n",
    "model_sum.sort_values(by = \"ROCAUC\",ascending = False)"
   ]
  }
 ],
 "metadata": {
  "kernelspec": {
   "display_name": "Python 3",
   "language": "python",
   "name": "python3"
  },
  "language_info": {
   "codemirror_mode": {
    "name": "ipython",
    "version": 3
   },
   "file_extension": ".py",
   "mimetype": "text/x-python",
   "name": "python",
   "nbconvert_exporter": "python",
   "pygments_lexer": "ipython3",
   "version": "3.7.10"
  }
 },
 "nbformat": 4,
 "nbformat_minor": 5
}
