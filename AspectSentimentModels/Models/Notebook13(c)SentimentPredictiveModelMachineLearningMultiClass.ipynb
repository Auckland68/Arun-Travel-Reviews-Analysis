{
 "cells": [
  {
   "cell_type": "markdown",
   "metadata": {},
   "source": [
    "# Notebook 13 c) Multi-class Sentiment Model using ML Models"
   ]
  },
  {
   "cell_type": "markdown",
   "metadata": {},
   "source": [
    "This notebook uses the noun phrases to run the same machine learning classifiers as used in Notebook 7 (Text Content Sentiment Models). However, the data here is not at review level, it has been split down into sentences and the noun phrases extracted. VADER was used to determine polarity of each noun phrase. \n",
    "\n",
    "In this notebook, neutal sentiment is retained to predict a MULTI-CLASS sentiment. This compares to Notebook 12 a) which predicts a binary output, by dropping neutral reviews. Much of this work-book remains the same as 12 a) but outputting one of three outcomes. The classes are sampled to match the minority class, resulting in a dataset of 13,245 reviews (4,415 each of positive, neutral and negative).\n",
    "\n",
    "* Section 1 - Import libraries and dataset\n",
    "* Section 2 - Feature Presence Vector (One-hot encoding)\n",
    "* Section 3 - Feature Presence Vector Bigram\n",
    "* Section 4 - BOW unigram vector\n",
    "* Section 5 - BOW bigram vector\n",
    "* Section 6 - TFIDF unigram vector\n",
    "* Section 7 - TFIDF bigram vector\n",
    "* Section 8 - Classification models training accuracy\n",
    "* Section 9 - Predict on validation set\n",
    "* Section 10 - Summary Table of Results\n",
    "* Section 11 - Hyperparameter tuning and grid search cv\n",
    "* Section 12 - Tuned Model against the Validation Set\n",
    "* Section 13 - Tuned Model against the Test Set\n",
    "\n",
    "Datasets needed to run notebook:\n",
    "\n",
    "* combined_sentiment.csv\n",
    "* combined_sentiment_test.csv\n"
   ]
  },
  {
   "cell_type": "markdown",
   "metadata": {},
   "source": [
    "# Section 1: Import libraries and dataset"
   ]
  },
  {
   "cell_type": "code",
   "execution_count": 2,
   "metadata": {},
   "outputs": [],
   "source": [
    "import pandas as pd\n",
    "import numpy as np\n",
    "import scipy\n",
    "import matplotlib.pyplot as plt\n",
    "import seaborn as sns\n",
    "import nltk\n",
    "from sklearn.dummy import DummyClassifier\n",
    "from sklearn.feature_extraction.text import CountVectorizer, TfidfVectorizer\n",
    "from sklearn import model_selection, preprocessing, linear_model, naive_bayes, metrics, svm\n",
    "from sklearn.utils import class_weight\n",
    "from sklearn.model_selection import train_test_split, KFold,cross_val_score,learning_curve,validation_curve,GridSearchCV\n",
    "from sklearn.naive_bayes import MultinomialNB\n",
    "from sklearn.linear_model import LogisticRegression\n",
    "from sklearn.ensemble import RandomForestClassifier\n",
    "import imblearn\n",
    "from sklearn.svm import SVC\n",
    "from sklearn.svm import LinearSVC\n",
    "from sklearn.metrics import confusion_matrix, classification_report,accuracy_score, roc_curve,auc,roc_auc_score,precision_recall_curve,plot_precision_recall_curve,f1_score,fbeta_score,f1_score,precision_score,recall_score, average_precision_score\n",
    "import scipy.sparse\n",
    "import pickle"
   ]
  },
  {
   "cell_type": "code",
   "execution_count": 3,
   "metadata": {},
   "outputs": [
    {
     "data": {
      "text/plain": [
       "(73027, 15)"
      ]
     },
     "execution_count": 3,
     "metadata": {},
     "output_type": "execute_result"
    }
   ],
   "source": [
    "# Bring in training and test sets from Notebook 11 (visualising topic models)\n",
    "df_train = pd.read_csv(\"combined_sentiment.csv\",index_col = 0)\n",
    "df_test = pd.read_csv(\"combined_sentiment_test.csv\",index_col = 0)\n",
    "\n",
    "# Combine train and test set\n",
    "df_combined_all = pd.concat([df_train, df_test],axis = 0,ignore_index = True)\n",
    "df_combined_all.shape"
   ]
  },
  {
   "cell_type": "code",
   "execution_count": 4,
   "metadata": {},
   "outputs": [
    {
     "data": {
      "text/html": [
       "<div>\n",
       "<style scoped>\n",
       "    .dataframe tbody tr th:only-of-type {\n",
       "        vertical-align: middle;\n",
       "    }\n",
       "\n",
       "    .dataframe tbody tr th {\n",
       "        vertical-align: top;\n",
       "    }\n",
       "\n",
       "    .dataframe thead th {\n",
       "        text-align: right;\n",
       "    }\n",
       "</style>\n",
       "<table border=\"1\" class=\"dataframe\">\n",
       "  <thead>\n",
       "    <tr style=\"text-align: right;\">\n",
       "      <th></th>\n",
       "      <th>Unnamed: 0.1</th>\n",
       "      <th>OrigInd</th>\n",
       "      <th>Category</th>\n",
       "      <th>Town</th>\n",
       "      <th>Rating</th>\n",
       "      <th>all_text</th>\n",
       "      <th>cleaned</th>\n",
       "      <th>noun_phrases</th>\n",
       "      <th>nouns</th>\n",
       "      <th>Topic Count</th>\n",
       "      <th>Topic TFIDF</th>\n",
       "      <th>Sentiment</th>\n",
       "      <th>Score</th>\n",
       "      <th>Sentence</th>\n",
       "      <th>Topic</th>\n",
       "    </tr>\n",
       "  </thead>\n",
       "  <tbody>\n",
       "    <tr>\n",
       "      <th>0</th>\n",
       "      <td>0</td>\n",
       "      <td>0</td>\n",
       "      <td>Accommodation</td>\n",
       "      <td>Bognor</td>\n",
       "      <td>4</td>\n",
       "      <td>Nice break, shame about the accommodation... W...</td>\n",
       "      <td>nice break shame accommodation booked night st...</td>\n",
       "      <td>shame accommodation</td>\n",
       "      <td>['shame', 'accommodation']</td>\n",
       "      <td>VFM</td>\n",
       "      <td>VisitExp</td>\n",
       "      <td>-0.4767</td>\n",
       "      <td>negative</td>\n",
       "      <td>NaN</td>\n",
       "      <td>NaN</td>\n",
       "    </tr>\n",
       "    <tr>\n",
       "      <th>1</th>\n",
       "      <td>1</td>\n",
       "      <td>0</td>\n",
       "      <td>Accommodation</td>\n",
       "      <td>Bognor</td>\n",
       "      <td>4</td>\n",
       "      <td>Nice break, shame about the accommodation... W...</td>\n",
       "      <td>nice break shame accommodation booked night st...</td>\n",
       "      <td>night stay december post-christmas</td>\n",
       "      <td>['night', 'post-christmas']</td>\n",
       "      <td>Hotel Location</td>\n",
       "      <td>Restaurant</td>\n",
       "      <td>0.0000</td>\n",
       "      <td>neutral</td>\n",
       "      <td>NaN</td>\n",
       "      <td>NaN</td>\n",
       "    </tr>\n",
       "  </tbody>\n",
       "</table>\n",
       "</div>"
      ],
      "text/plain": [
       "   Unnamed: 0.1  OrigInd       Category    Town  Rating  \\\n",
       "0             0        0  Accommodation  Bognor       4   \n",
       "1             1        0  Accommodation  Bognor       4   \n",
       "\n",
       "                                            all_text  \\\n",
       "0  Nice break, shame about the accommodation... W...   \n",
       "1  Nice break, shame about the accommodation... W...   \n",
       "\n",
       "                                             cleaned  \\\n",
       "0  nice break shame accommodation booked night st...   \n",
       "1  nice break shame accommodation booked night st...   \n",
       "\n",
       "                         noun_phrases                        nouns  \\\n",
       "0                 shame accommodation   ['shame', 'accommodation']   \n",
       "1  night stay december post-christmas  ['night', 'post-christmas']   \n",
       "\n",
       "      Topic Count Topic TFIDF  Sentiment     Score Sentence Topic  \n",
       "0             VFM    VisitExp    -0.4767  negative      NaN   NaN  \n",
       "1  Hotel Location  Restaurant     0.0000   neutral      NaN   NaN  "
      ]
     },
     "execution_count": 4,
     "metadata": {},
     "output_type": "execute_result"
    }
   ],
   "source": [
    "df_combined_all.head(2)"
   ]
  },
  {
   "cell_type": "markdown",
   "metadata": {},
   "source": [
    "# Section 2: Data processing"
   ]
  },
  {
   "cell_type": "code",
   "execution_count": 5,
   "metadata": {},
   "outputs": [
    {
     "data": {
      "text/plain": [
       "(73027, 15)"
      ]
     },
     "execution_count": 5,
     "metadata": {},
     "output_type": "execute_result"
    }
   ],
   "source": [
    "df_combined_all.shape"
   ]
  },
  {
   "cell_type": "code",
   "execution_count": 6,
   "metadata": {},
   "outputs": [
    {
     "data": {
      "image/png": "[encoded data removed]",
      "text/plain": [
       "<Figure size 432x288 with 1 Axes>"
      ]
     },
     "metadata": {
      "needs_background": "light"
     },
     "output_type": "display_data"
    }
   ],
   "source": [
    "# Distribution of polarities\n",
    "sent = pd.DataFrame(df_combined_all[\"Score\"].value_counts())\n",
    "plt.bar(sent.index,sent[\"Score\"])\n",
    "plt.show()"
   ]
  },
  {
   "cell_type": "code",
   "execution_count": 7,
   "metadata": {},
   "outputs": [
    {
     "data": {
      "text/plain": [
       "neutral     39099\n",
       "positive    29513\n",
       "negative     4415\n",
       "Name: Score, dtype: int64"
      ]
     },
     "execution_count": 7,
     "metadata": {},
     "output_type": "execute_result"
    }
   ],
   "source": [
    "df_combined_all[\"Score\"].value_counts()"
   ]
  },
  {
   "cell_type": "code",
   "execution_count": 8,
   "metadata": {},
   "outputs": [
    {
     "name": "stdout",
     "output_type": "stream",
     "text": [
      "(4415, 15) (4415, 15) (4415, 15)\n"
     ]
    }
   ],
   "source": [
    "neutral_sampled = df_combined_all[df_combined_all[\"Score\"] == \"neutral\"].sample(4415)\n",
    "positive_sampled = df_combined_all[df_combined_all[\"Score\"] == \"positive\"].sample(4415)\n",
    "negative = df_combined_all[df_combined_all[\"Score\"] == \"negative\"]\n",
    "print(neutral_sampled.shape, positive_sampled.shape, negative.shape)"
   ]
  },
  {
   "cell_type": "code",
   "execution_count": 9,
   "metadata": {},
   "outputs": [
    {
     "data": {
      "text/plain": [
       "(13245, 15)"
      ]
     },
     "execution_count": 9,
     "metadata": {},
     "output_type": "execute_result"
    }
   ],
   "source": [
    "df_combined = pd.concat([neutral_sampled, positive_sampled, negative], axis = 0, ignore_index = True)\n",
    "df_combined.shape"
   ]
  },
  {
   "cell_type": "code",
   "execution_count": 10,
   "metadata": {},
   "outputs": [
    {
     "data": {
      "text/plain": [
       " 0    4415\n",
       " 1    4415\n",
       "-1    4415\n",
       "Name: Score, dtype: int64"
      ]
     },
     "execution_count": 10,
     "metadata": {},
     "output_type": "execute_result"
    }
   ],
   "source": [
    "df_combined[\"Score\"].replace({\"positive\": 1,\"negative\":-1,\"neutral\":0}, inplace=True)\n",
    "df_combined[\"Score\"].value_counts()"
   ]
  },
  {
   "cell_type": "code",
   "execution_count": 11,
   "metadata": {},
   "outputs": [],
   "source": [
    "# Drop the neutral sentiment and set 0 to positive and 1 to negative\n",
    "#df_combined_all = df_combined_all[df_combined_all[\"Score\"]!=\"neutral\"]\n",
    "#df_combined_all[\"Score\"].replace({\"positive\": 0,\"negative\":1}, inplace=True)\n",
    "#df_combined_all[\"Score\"].value_counts()"
   ]
  },
  {
   "cell_type": "markdown",
   "metadata": {},
   "source": [
    "The dataset is imbalanced. Over sampling would create a dataset with a lot of duplicates and under sampling would produce a much smaller dataset. Class weights can be used with all models except Naive Bayes but this would be very intensive since the dataset is so large. Therefore, undersampling of the majority class is chosen as a method to address the imbalance."
   ]
  },
  {
   "cell_type": "code",
   "execution_count": 12,
   "metadata": {},
   "outputs": [],
   "source": [
    "X = df_combined[\"noun_phrases\"]\n",
    "y = df_combined[\"Score\"]"
   ]
  },
  {
   "cell_type": "code",
   "execution_count": 13,
   "metadata": {},
   "outputs": [
    {
     "name": "stdout",
     "output_type": "stream",
     "text": [
      "(13245,) (13245,)\n"
     ]
    }
   ],
   "source": [
    "print(X.shape, y.shape)"
   ]
  },
  {
   "cell_type": "code",
   "execution_count": 14,
   "metadata": {},
   "outputs": [
    {
     "data": {
      "text/plain": [
       " 0    4415\n",
       " 1    4415\n",
       "-1    4415\n",
       "Name: Score, dtype: int64"
      ]
     },
     "execution_count": 14,
     "metadata": {},
     "output_type": "execute_result"
    }
   ],
   "source": [
    "y.value_counts()"
   ]
  },
  {
   "cell_type": "code",
   "execution_count": 15,
   "metadata": {},
   "outputs": [],
   "source": [
    "X = np.array(X).reshape(-1, 1)"
   ]
  },
  {
   "cell_type": "code",
   "execution_count": 16,
   "metadata": {},
   "outputs": [],
   "source": [
    "X_train, X_test, y_train, y_test = train_test_split(X,y, stratify = y,test_size=0.2, shuffle = True)\n",
    "X_test, X_val, y_test, y_val = train_test_split(X_test, y_test,stratify = y_test, test_size=0.50, shuffle = True) "
   ]
  },
  {
   "cell_type": "code",
   "execution_count": 17,
   "metadata": {},
   "outputs": [
    {
     "name": "stdout",
     "output_type": "stream",
     "text": [
      "(10596, 1) (10596,) (1325, 1) (1325,) (1324, 1) (1324,)\n"
     ]
    }
   ],
   "source": [
    "print(X_train.shape, y_train.shape, X_val.shape, y_val.shape, X_test.shape, y_test.shape)"
   ]
  },
  {
   "cell_type": "code",
   "execution_count": 18,
   "metadata": {},
   "outputs": [
    {
     "data": {
      "text/plain": [
       " 0    3532\n",
       " 1    3532\n",
       "-1    3532\n",
       "Name: Score, dtype: int64"
      ]
     },
     "execution_count": 18,
     "metadata": {},
     "output_type": "execute_result"
    }
   ],
   "source": [
    "y_train.value_counts()"
   ]
  },
  {
   "cell_type": "code",
   "execution_count": 19,
   "metadata": {},
   "outputs": [],
   "source": [
    "# Reformat to the right shape\n",
    "X_train = [item for sublist in X_train for item in sublist]\n",
    "X_val = [item for sublist in X_val for item in sublist]\n",
    "X_test = [item for sublist in X_test for item in sublist]"
   ]
  },
  {
   "cell_type": "markdown",
   "metadata": {},
   "source": [
    "# Section 2: Feature Presence (One-Hot Encoding)"
   ]
  },
  {
   "cell_type": "code",
   "execution_count": 20,
   "metadata": {},
   "outputs": [],
   "source": [
    "# Apply to training dataset and valuation dataset - not binary set to true for one hot encoded feature presence vector\n",
    "vectorizer1 = CountVectorizer(max_df=1.0, min_df=1,stop_words = \"english\", binary = True)\n",
    "vectorizer1.fit(X_train)\n",
    "\n",
    "# Transform the training and test set to vectors\n",
    "X_train_fp = vectorizer1.transform(X_train)\n",
    "X_val_fp = vectorizer1.transform(X_val)\n",
    "X_test_fp = vectorizer1.transform(X_test)"
   ]
  },
  {
   "cell_type": "code",
   "execution_count": 147,
   "metadata": {},
   "outputs": [],
   "source": [
    "save_tok(\"sent_tokmulti.pickle\",vectorizer1)"
   ]
  },
  {
   "cell_type": "code",
   "execution_count": 21,
   "metadata": {},
   "outputs": [
    {
     "name": "stdout",
     "output_type": "stream",
     "text": [
      "(10596, 4230) (1325, 4230)\n"
     ]
    }
   ],
   "source": [
    "# Size of training and test sets. The number of columns is the number of words in the document term matrix\n",
    "print(X_train_fp.shape, X_val_fp.shape)"
   ]
  },
  {
   "cell_type": "markdown",
   "metadata": {},
   "source": [
    "# Section 3: Feature Presence Bigram Model"
   ]
  },
  {
   "cell_type": "code",
   "execution_count": 22,
   "metadata": {},
   "outputs": [],
   "source": [
    "# Apply to training dataset and valuation dataset\n",
    "vectorizer2 = CountVectorizer(max_df=1.0, min_df=1,stop_words = \"english\", binary = True, ngram_range=(1, 2))\n",
    "vectorizer2.fit(X_train)\n",
    "\n",
    "# Transform the training and test set to vectors\n",
    "X_train_fp_big = vectorizer2.transform(X_train)\n",
    "X_val_fp_big = vectorizer2.transform(X_val)\n",
    "X_test_fp_big = vectorizer2.transform(X_test)"
   ]
  },
  {
   "cell_type": "code",
   "execution_count": 23,
   "metadata": {},
   "outputs": [
    {
     "name": "stdout",
     "output_type": "stream",
     "text": [
      "(10596, 18715) (1325, 18715)\n"
     ]
    }
   ],
   "source": [
    "# Size of training and test sets. The number of columns is the number of words in the document term matrix\n",
    "print(X_train_fp_big.shape, X_val_fp_big.shape)"
   ]
  },
  {
   "cell_type": "markdown",
   "metadata": {},
   "source": [
    "# Section 4: Count Frequency Model"
   ]
  },
  {
   "cell_type": "code",
   "execution_count": 24,
   "metadata": {},
   "outputs": [],
   "source": [
    "# Apply to training dataset and valuation dataset\n",
    "vectorizer3 = CountVectorizer(max_df=1.0, min_df=1,stop_words = \"english\")\n",
    "vectorizer3.fit(X_train)\n",
    "\n",
    "# Transform the training and test set to vectors\n",
    "X_train_bow = vectorizer3.transform(X_train)\n",
    "X_val_bow = vectorizer3.transform(X_val)\n",
    "X_test_bow = vectorizer3.transform(X_test)"
   ]
  },
  {
   "cell_type": "code",
   "execution_count": 25,
   "metadata": {},
   "outputs": [
    {
     "name": "stdout",
     "output_type": "stream",
     "text": [
      "(10596, 4230) (1325, 4230) (10596,) (1325,)\n"
     ]
    }
   ],
   "source": [
    "# Size of training and test sets. The number of columns is the number of words in the document term matrix\n",
    "print(X_train_bow.shape, X_val_bow.shape, y_train.shape, y_val.shape)"
   ]
  },
  {
   "cell_type": "markdown",
   "metadata": {},
   "source": [
    "# Section 5: Countvectorizer Bigram Model"
   ]
  },
  {
   "cell_type": "code",
   "execution_count": 26,
   "metadata": {},
   "outputs": [],
   "source": [
    "# Apply to whole dataset with unigrams and bigrams. Set up ngram vectorizer and fit to training data\n",
    "# words must appear in at least 2 documents and not in more than 98% of documents to limit the vocabulary size\n",
    "vectorizer4 = CountVectorizer(analyzer='word', max_df = 1.0, min_df = 1,stop_words = \"english\",ngram_range=(1,2))\n",
    "vectorizer4.fit(X_train)\n",
    "\n",
    "# Transform the training and test set to vectors for use in model training and predicting\n",
    "X_train_ngram = vectorizer4.transform(X_train)\n",
    "X_val_ngram = vectorizer4.transform(X_val)\n",
    "X_test_ngram = vectorizer4.transform(X_test)"
   ]
  },
  {
   "cell_type": "code",
   "execution_count": 27,
   "metadata": {},
   "outputs": [
    {
     "name": "stdout",
     "output_type": "stream",
     "text": [
      "(10596, 18715) (1325, 18715) (10596,) (1325,)\n"
     ]
    }
   ],
   "source": [
    "# Size of training and test sets. The number of columns is the number of words in the document term matrix. Ten times as many\n",
    "# words and ngrams in the training and test set compared to the BOW model\n",
    "print(X_train_ngram.shape, X_val_ngram.shape, y_train.shape, y_val.shape)"
   ]
  },
  {
   "cell_type": "markdown",
   "metadata": {},
   "source": [
    "# Section 6 :TFIDF Vectorizer - Unigram Model"
   ]
  },
  {
   "cell_type": "code",
   "execution_count": 28,
   "metadata": {},
   "outputs": [
    {
     "data": {
      "text/plain": [
       "TfidfVectorizer(stop_words='english')"
      ]
     },
     "execution_count": 28,
     "metadata": {},
     "output_type": "execute_result"
    }
   ],
   "source": [
    "# Set up countvectorizer based on ngrams for the whole corpus based on unigrams only and fit to training set\n",
    "vectorizer5 = TfidfVectorizer(use_idf = True, max_df = 1.0,min_df = 1, stop_words = \"english\",smooth_idf = True, norm = 'l2')\n",
    "np.set_printoptions(precision = 2)\n",
    "vectorizer5.fit(X_train)"
   ]
  },
  {
   "cell_type": "code",
   "execution_count": 145,
   "metadata": {},
   "outputs": [],
   "source": [
    "# Function to save tokenizer object\n",
    "def save_tok(name,file):\n",
    "    with open(name, 'wb') as handle:\n",
    "        pickle.dump(file, handle, protocol = pickle.HIGHEST_PROTOCOL)"
   ]
  },
  {
   "cell_type": "code",
   "execution_count": 30,
   "metadata": {},
   "outputs": [],
   "source": [
    "# Transform the training and test set to vectors for use in model training and predicting\n",
    "X_train_tfidf1 = vectorizer5.transform(X_train)\n",
    "X_val_tfidf1 = vectorizer5.transform(X_val)\n",
    "X_test_tfidf1 = vectorizer5.transform(X_test)"
   ]
  },
  {
   "cell_type": "code",
   "execution_count": 31,
   "metadata": {},
   "outputs": [
    {
     "name": "stdout",
     "output_type": "stream",
     "text": [
      "(10596, 4230) (1325, 4230) (10596,) (1325,)\n"
     ]
    }
   ],
   "source": [
    "# Size of training and test sets. The number of columns is the number of words in the document term matrix.Same as BOW\n",
    "print(X_train_tfidf1.shape, X_val_tfidf1.shape, y_train.shape, y_val.shape)"
   ]
  },
  {
   "cell_type": "markdown",
   "metadata": {},
   "source": [
    "# Section 7: TFIDF - BIGRAM MODEL"
   ]
  },
  {
   "cell_type": "code",
   "execution_count": 32,
   "metadata": {},
   "outputs": [
    {
     "data": {
      "text/plain": [
       "TfidfVectorizer(max_df=0.98, min_df=2, ngram_range=(1, 2), stop_words='english')"
      ]
     },
     "execution_count": 32,
     "metadata": {},
     "output_type": "execute_result"
    }
   ],
   "source": [
    "# Set up countvectorizer based on ngrams for the whole corpus based on unigrams only and fit to training set\n",
    "vectorizer6 = TfidfVectorizer(use_idf = True, max_df = 0.98,min_df =2,stop_words = \"english\",ngram_range=(1,2),smooth_idf = True, norm = 'l2')\n",
    "np.set_printoptions(precision = 2)\n",
    "vectorizer6.fit(X_train)"
   ]
  },
  {
   "cell_type": "code",
   "execution_count": 34,
   "metadata": {},
   "outputs": [],
   "source": [
    "# Transform the training and test set to vectors for use in model training and predicting\n",
    "X_train_tfidf2 = vectorizer6.transform(X_train)\n",
    "X_val_tfidf2 = vectorizer6.transform(X_val)\n",
    "X_test_tfidf2 = vectorizer6.transform(X_test)"
   ]
  },
  {
   "cell_type": "code",
   "execution_count": 35,
   "metadata": {},
   "outputs": [
    {
     "name": "stdout",
     "output_type": "stream",
     "text": [
      "(10596, 4067) (1325, 4067) (10596,) (1325,)\n"
     ]
    }
   ],
   "source": [
    "# Size of training and test sets. The number of columns is the number of words in the document term matrix.Same as BOW\n",
    "print(X_train_tfidf2.shape, X_val_tfidf2.shape, y_train.shape, y_val.shape)"
   ]
  },
  {
   "cell_type": "markdown",
   "metadata": {},
   "source": [
    "# Section 8: Training Accuracy on Each of the Vectorizer Objects"
   ]
  },
  {
   "cell_type": "code",
   "execution_count": 36,
   "metadata": {},
   "outputs": [],
   "source": [
    "# Set models - linear kernel set as a little quicker\n",
    "dummy_model = DummyClassifier(strategy ='uniform')\n",
    "nb = MultinomialNB()\n",
    "lr = LogisticRegression(max_iter = 200)\n",
    "rf = RandomForestClassifier()\n",
    "svm = SVC(kernel = \"linear\", probability = True)"
   ]
  },
  {
   "cell_type": "code",
   "execution_count": 37,
   "metadata": {},
   "outputs": [],
   "source": [
    "# Function to train with specified model on the training set - 10 fold as the dataset for ngrams is very large\n",
    "\n",
    "def train_accuracy(model,X,y,vector):\n",
    "    kf = KFold(n_splits = 10, shuffle = True, random_state = 1)\n",
    "    cv_results = cross_val_score(model, X, y, cv = kf, scoring = \"accuracy\", n_jobs =-1)\n",
    "    train_accuracy.results = pd.DataFrame({vector:cv_results.mean()}, index = [0])\n",
    "                                "
   ]
  },
  {
   "cell_type": "markdown",
   "metadata": {},
   "source": [
    "## Dummy Classifier"
   ]
  },
  {
   "cell_type": "code",
   "execution_count": 38,
   "metadata": {},
   "outputs": [
    {
     "data": {
      "text/html": [
       "<div>\n",
       "<style scoped>\n",
       "    .dataframe tbody tr th:only-of-type {\n",
       "        vertical-align: middle;\n",
       "    }\n",
       "\n",
       "    .dataframe tbody tr th {\n",
       "        vertical-align: top;\n",
       "    }\n",
       "\n",
       "    .dataframe thead th {\n",
       "        text-align: right;\n",
       "    }\n",
       "</style>\n",
       "<table border=\"1\" class=\"dataframe\">\n",
       "  <thead>\n",
       "    <tr style=\"text-align: right;\">\n",
       "      <th></th>\n",
       "      <th>BOW-dum</th>\n",
       "    </tr>\n",
       "  </thead>\n",
       "  <tbody>\n",
       "    <tr>\n",
       "      <th>0</th>\n",
       "      <td>0.33645</td>\n",
       "    </tr>\n",
       "  </tbody>\n",
       "</table>\n",
       "</div>"
      ],
      "text/plain": [
       "   BOW-dum\n",
       "0  0.33645"
      ]
     },
     "execution_count": 38,
     "metadata": {},
     "output_type": "execute_result"
    }
   ],
   "source": [
    "# BOW\n",
    "train_accuracy(dummy_model,X_train_bow,y_train,\"BOW-dum\")\n",
    "dum_train_bow = train_accuracy.results\n",
    "dum_train_bow"
   ]
  },
  {
   "cell_type": "markdown",
   "metadata": {},
   "source": [
    "## Naive Bayes"
   ]
  },
  {
   "cell_type": "code",
   "execution_count": 39,
   "metadata": {},
   "outputs": [],
   "source": [
    "# Feature Presence\n",
    "train_accuracy(nb,X_train_fp, y_train, \"FP\")\n",
    "nb_train_fp = train_accuracy.results\n",
    "\n",
    "# Feature Presence Bigram\n",
    "train_accuracy(nb,X_train_fp_big, y_train, \"FP BIG\")\n",
    "nb_train_fp_big = train_accuracy.results\n",
    "\n",
    "# BOW\n",
    "train_accuracy(nb,X_train_bow,y_train,\"BOW\")\n",
    "nb_train_bow = train_accuracy.results\n",
    "\n",
    "# ngram\n",
    "train_accuracy(nb,X_train_ngram,y_train,\"BIGRAM\")\n",
    "nb_train_ngram = train_accuracy.results\n",
    "\n",
    "# TFIDF unigram\n",
    "train_accuracy(nb,X_train_tfidf1,y_train,\"TFIDF UNI\")\n",
    "nb_train_tfidf1 = train_accuracy.results\n",
    "\n",
    "# TFIDF bigram\n",
    "train_accuracy(nb,X_train_tfidf2,y_train,\"TFIDF BI\")\n",
    "nb_train_tfidf2 = train_accuracy.results"
   ]
  },
  {
   "cell_type": "markdown",
   "metadata": {},
   "source": [
    "## Logistic Regression"
   ]
  },
  {
   "cell_type": "code",
   "execution_count": 40,
   "metadata": {},
   "outputs": [],
   "source": [
    "# Feature Presence\n",
    "train_accuracy(lr,X_train_fp, y_train, \"FP\")\n",
    "lr_train_fp = train_accuracy.results\n",
    "\n",
    "# Feature Presence Bigram\n",
    "train_accuracy(lr,X_train_fp_big, y_train, \"FP BIG\")\n",
    "lr_train_fp_big = train_accuracy.results\n",
    "\n",
    "# BOW\n",
    "train_accuracy(lr,X_train_bow,y_train,\"BOW\")\n",
    "lr_train_bow = train_accuracy.results\n",
    "\n",
    "# ngrams\n",
    "train_accuracy(lr,X_train_ngram,y_train,\"BIGRAM\")\n",
    "lr_train_ngram = train_accuracy.results\n",
    "\n",
    "# TFIDF unigrams\n",
    "train_accuracy(lr,X_train_tfidf1,y_train,\"TFIDF UNI\")\n",
    "lr_train_tfidf1 = train_accuracy.results\n",
    "\n",
    "# TFIDF bigrams\n",
    "train_accuracy(lr,X_train_tfidf2,y_train,\"TFIDF BI\")\n",
    "lr_train_tfidf2 = train_accuracy.results"
   ]
  },
  {
   "cell_type": "markdown",
   "metadata": {},
   "source": [
    "## Random Forest"
   ]
  },
  {
   "cell_type": "code",
   "execution_count": 41,
   "metadata": {},
   "outputs": [],
   "source": [
    "# Feature Presence\n",
    "train_accuracy(rf,X_train_fp, y_train, \"FP\")\n",
    "rf_train_fp = train_accuracy.results\n",
    "\n",
    "# Feature Presence Bigram\n",
    "train_accuracy(rf,X_train_fp_big, y_train, \"FP BIG\")\n",
    "rf_train_fp_big = train_accuracy.results\n",
    "\n",
    "# BOW\n",
    "train_accuracy(rf,X_train_bow,y_train,\"BOW\")\n",
    "rf_train_bow = train_accuracy.results\n",
    "\n",
    "# bigrams\n",
    "train_accuracy(rf,X_train_ngram,y_train,\"BIGRAM\")\n",
    "rf_train_ngram = train_accuracy.results\n",
    "\n",
    "# TFIDF unigrams\n",
    "train_accuracy(rf,X_train_tfidf1,y_train,\"TFIDF UNI\")\n",
    "rf_train_tfidf1 = train_accuracy.results\n",
    "\n",
    "# TFIDF bigrams\n",
    "train_accuracy(rf,X_train_tfidf2,y_train,\"TFIDF BI\")\n",
    "rf_train_tfidf2 = train_accuracy.results"
   ]
  },
  {
   "cell_type": "markdown",
   "metadata": {},
   "source": [
    "## SVM"
   ]
  },
  {
   "cell_type": "code",
   "execution_count": 42,
   "metadata": {},
   "outputs": [],
   "source": [
    "# Feature Presence\n",
    "train_accuracy(svm,X_train_fp, y_train, \"FP\")\n",
    "svm_train_fp = train_accuracy.results\n",
    "\n",
    "# Feature Presence Bigram\n",
    "train_accuracy(svm,X_train_fp_big, y_train, \"FP BIG\")\n",
    "svm_train_fp_big = train_accuracy.results\n",
    "\n",
    "# BOW\n",
    "train_accuracy(svm,X_train_bow,y_train,\"BOW\")\n",
    "svm_train_bow = train_accuracy.results\n",
    "\n",
    "# bigrams\n",
    "train_accuracy(svm,X_train_ngram,y_train,\"BIGRAM\")\n",
    "svm_train_ngram = train_accuracy.results\n",
    "\n",
    "# TFIDF unigrams\n",
    "train_accuracy(svm,X_train_tfidf1,y_train,\"TFIDF UNI\")\n",
    "svm_train_tfidf1 = train_accuracy.results\n",
    "\n",
    "# TFIDF bigrams\n",
    "train_accuracy(svm,X_train_tfidf2,y_train,\"TFIDF BI\")\n",
    "svm_train_tfidf2 = train_accuracy.results"
   ]
  },
  {
   "cell_type": "code",
   "execution_count": 43,
   "metadata": {},
   "outputs": [],
   "source": [
    "models = [\"Multinomial NB\",\"Logistic Regression\",\"Random Forest\",\"SVM\"]\n",
    "fp = pd.concat([nb_train_fp, lr_train_fp, rf_train_fp, svm_train_fp])\n",
    "fp_big = pd.concat([nb_train_fp_big, lr_train_fp_big, rf_train_fp_big, svm_train_fp_big])\n",
    "bow = pd.concat([nb_train_bow,lr_train_bow,rf_train_bow,svm_train_bow])\n",
    "big = pd.concat([nb_train_ngram,lr_train_ngram,rf_train_ngram,svm_train_ngram])\n",
    "tfidf = pd.concat([nb_train_tfidf1,lr_train_tfidf1,rf_train_tfidf1,svm_train_tfidf1])\n",
    "tfidf_big = pd.concat([nb_train_tfidf2,lr_train_tfidf2,rf_train_tfidf2,svm_train_tfidf2])"
   ]
  },
  {
   "cell_type": "code",
   "execution_count": 44,
   "metadata": {},
   "outputs": [
    {
     "data": {
      "text/html": [
       "<div>\n",
       "<style scoped>\n",
       "    .dataframe tbody tr th:only-of-type {\n",
       "        vertical-align: middle;\n",
       "    }\n",
       "\n",
       "    .dataframe tbody tr th {\n",
       "        vertical-align: top;\n",
       "    }\n",
       "\n",
       "    .dataframe thead th {\n",
       "        text-align: right;\n",
       "    }\n",
       "</style>\n",
       "<table border=\"1\" class=\"dataframe\">\n",
       "  <thead>\n",
       "    <tr style=\"text-align: right;\">\n",
       "      <th></th>\n",
       "      <th>FP</th>\n",
       "      <th>FP BIG</th>\n",
       "      <th>BOW</th>\n",
       "      <th>BIGRAM</th>\n",
       "      <th>TFIDF UNI</th>\n",
       "      <th>TFIDF BI</th>\n",
       "    </tr>\n",
       "  </thead>\n",
       "  <tbody>\n",
       "    <tr>\n",
       "      <th>Multinomial NB</th>\n",
       "      <td>0.858156</td>\n",
       "      <td>0.852116</td>\n",
       "      <td>0.856268</td>\n",
       "      <td>0.852399</td>\n",
       "      <td>0.855135</td>\n",
       "      <td>0.858627</td>\n",
       "    </tr>\n",
       "    <tr>\n",
       "      <th>Logistic Regression</th>\n",
       "      <td>0.917516</td>\n",
       "      <td>0.905436</td>\n",
       "      <td>0.917044</td>\n",
       "      <td>0.905530</td>\n",
       "      <td>0.903077</td>\n",
       "      <td>0.903737</td>\n",
       "    </tr>\n",
       "    <tr>\n",
       "      <th>Random Forest</th>\n",
       "      <td>0.907417</td>\n",
       "      <td>0.896753</td>\n",
       "      <td>0.907700</td>\n",
       "      <td>0.896754</td>\n",
       "      <td>0.927425</td>\n",
       "      <td>0.922235</td>\n",
       "    </tr>\n",
       "    <tr>\n",
       "      <th>SVM</th>\n",
       "      <td>0.941205</td>\n",
       "      <td>0.928086</td>\n",
       "      <td>0.941488</td>\n",
       "      <td>0.928275</td>\n",
       "      <td>0.923557</td>\n",
       "      <td>0.919686</td>\n",
       "    </tr>\n",
       "  </tbody>\n",
       "</table>\n",
       "</div>"
      ],
      "text/plain": [
       "                           FP    FP BIG       BOW    BIGRAM  TFIDF UNI  \\\n",
       "Multinomial NB       0.858156  0.852116  0.856268  0.852399   0.855135   \n",
       "Logistic Regression  0.917516  0.905436  0.917044  0.905530   0.903077   \n",
       "Random Forest        0.907417  0.896753  0.907700  0.896754   0.927425   \n",
       "SVM                  0.941205  0.928086  0.941488  0.928275   0.923557   \n",
       "\n",
       "                     TFIDF BI  \n",
       "Multinomial NB       0.858627  \n",
       "Logistic Regression  0.903737  \n",
       "Random Forest        0.922235  \n",
       "SVM                  0.919686  "
      ]
     },
     "execution_count": 44,
     "metadata": {},
     "output_type": "execute_result"
    }
   ],
   "source": [
    "all_models = pd.concat([fp,fp_big,bow,big,tfidf,tfidf_big],axis = 1)\n",
    "all_models.set_index([models],inplace = True)\n",
    "all_models"
   ]
  },
  {
   "cell_type": "markdown",
   "metadata": {},
   "source": [
    "SVM TFIDF BOW has the best training accuracy"
   ]
  },
  {
   "cell_type": "markdown",
   "metadata": {},
   "source": [
    "# Section 9: Prediction on validation set with each of the Models"
   ]
  },
  {
   "cell_type": "code",
   "execution_count": 130,
   "metadata": {},
   "outputs": [],
   "source": [
    "def prediction(model,X_train,y_train,X_val,y_val):\n",
    "    labels = [\"negative\",\"neutral\",\"positive\"]\n",
    "    model.fit(X_train,y_train)\n",
    "    y_pred = model.predict(X_val)\n",
    "    target_probs = model.predict_proba(X_val)\n",
    "    #y_class = np.argmax(y_pred, axis = 0)\n",
    "    print(classification_report(y_val, y_pred))\n",
    "    conf_mat = confusion_matrix(y_val, y_pred)\n",
    "    fig, ax = plt.subplots(figsize=(8,6))\n",
    "    ax = sns.heatmap(conf_mat, annot=True, fmt='d', xticklabels = labels, yticklabels = labels,cmap = plt.cm.Blues)\n",
    "    ax.set_ylabel('Actual',labelpad = 10)\n",
    "    ax.set_xlabel('Predicted', labelpad = 13)\n",
    "    \n",
    "    # Test Set Metrics\n",
    "    accuracy = accuracy_score(y_val, y_pred)\n",
    "    rocauc = roc_auc_score(y_val,target_probs, multi_class='ovr') # weights not required as dataset is balanced\n",
    "    precision = precision_score(y_val, y_pred, average = \"macro\")\n",
    "    recall = recall_score(y_val, y_pred, average = \"macro\")\n",
    "    f1 = f1_score(y_val, y_pred, average = \"macro\")\n",
    "    prediction.results = pd.DataFrame({\"Accuracy\":accuracy, \"Precision\":precision, \"Recall\":recall,\n",
    "                                    \"F1\":f1,\"ROCAUC\":rocauc}, index = [0]\n",
    "                                  )\n",
    "        \n",
    "    plt.show()\n",
    "    return prediction.results\n",
    "    \n"
   ]
  },
  {
   "cell_type": "markdown",
   "metadata": {},
   "source": [
    "## Feature Presence"
   ]
  },
  {
   "cell_type": "markdown",
   "metadata": {},
   "source": [
    "### Naive Bayes"
   ]
  },
  {
   "cell_type": "code",
   "execution_count": 46,
   "metadata": {},
   "outputs": [
    {
     "name": "stdout",
     "output_type": "stream",
     "text": [
      "              precision    recall  f1-score   support\n",
      "\n",
      "          -1       0.86      0.91      0.89       442\n",
      "           0       0.90      0.78      0.83       442\n",
      "           1       0.87      0.94      0.91       441\n",
      "\n",
      "    accuracy                           0.88      1325\n",
      "   macro avg       0.88      0.88      0.87      1325\n",
      "weighted avg       0.88      0.88      0.87      1325\n",
      "\n"
     ]
    },
    {
     "data": {
      "image/png": "[encoded data removed]",
      "text/plain": [
       "<Figure size 576x432 with 2 Axes>"
      ]
     },
     "metadata": {
      "needs_background": "light"
     },
     "output_type": "display_data"
    }
   ],
   "source": [
    "y_pred1 = prediction(nb,X_train_fp,y_train,X_val_fp,y_val)"
   ]
  },
  {
   "cell_type": "code",
   "execution_count": 47,
   "metadata": {},
   "outputs": [
    {
     "data": {
      "text/html": [
       "<div>\n",
       "<style scoped>\n",
       "    .dataframe tbody tr th:only-of-type {\n",
       "        vertical-align: middle;\n",
       "    }\n",
       "\n",
       "    .dataframe tbody tr th {\n",
       "        vertical-align: top;\n",
       "    }\n",
       "\n",
       "    .dataframe thead th {\n",
       "        text-align: right;\n",
       "    }\n",
       "</style>\n",
       "<table border=\"1\" class=\"dataframe\">\n",
       "  <thead>\n",
       "    <tr style=\"text-align: right;\">\n",
       "      <th></th>\n",
       "      <th>Accuracy</th>\n",
       "      <th>Precision</th>\n",
       "      <th>Recall</th>\n",
       "      <th>F1</th>\n",
       "      <th>ROCAUC</th>\n",
       "    </tr>\n",
       "  </thead>\n",
       "  <tbody>\n",
       "    <tr>\n",
       "      <th>0</th>\n",
       "      <td>0.876226</td>\n",
       "      <td>0.877567</td>\n",
       "      <td>0.876275</td>\n",
       "      <td>0.874784</td>\n",
       "      <td>0.973763</td>\n",
       "    </tr>\n",
       "  </tbody>\n",
       "</table>\n",
       "</div>"
      ],
      "text/plain": [
       "   Accuracy  Precision    Recall        F1    ROCAUC\n",
       "0  0.876226   0.877567  0.876275  0.874784  0.973763"
      ]
     },
     "execution_count": 47,
     "metadata": {},
     "output_type": "execute_result"
    }
   ],
   "source": [
    "mod1 = prediction.results\n",
    "mod1"
   ]
  },
  {
   "cell_type": "markdown",
   "metadata": {},
   "source": [
    "### Logistic Regression"
   ]
  },
  {
   "cell_type": "code",
   "execution_count": 48,
   "metadata": {},
   "outputs": [
    {
     "name": "stdout",
     "output_type": "stream",
     "text": [
      "              precision    recall  f1-score   support\n",
      "\n",
      "          -1       0.99      0.88      0.93       442\n",
      "           0       0.84      0.99      0.91       442\n",
      "           1       0.99      0.93      0.96       441\n",
      "\n",
      "    accuracy                           0.93      1325\n",
      "   macro avg       0.94      0.93      0.93      1325\n",
      "weighted avg       0.94      0.93      0.93      1325\n",
      "\n"
     ]
    },
    {
     "data": {
      "image/png": "[encoded data removed]",
      "text/plain": [
       "<Figure size 576x432 with 2 Axes>"
      ]
     },
     "metadata": {
      "needs_background": "light"
     },
     "output_type": "display_data"
    }
   ],
   "source": [
    "y_pred2 = prediction(lr,X_train_fp,y_train,X_val_fp,y_val)"
   ]
  },
  {
   "cell_type": "code",
   "execution_count": 49,
   "metadata": {},
   "outputs": [
    {
     "data": {
      "text/html": [
       "<div>\n",
       "<style scoped>\n",
       "    .dataframe tbody tr th:only-of-type {\n",
       "        vertical-align: middle;\n",
       "    }\n",
       "\n",
       "    .dataframe tbody tr th {\n",
       "        vertical-align: top;\n",
       "    }\n",
       "\n",
       "    .dataframe thead th {\n",
       "        text-align: right;\n",
       "    }\n",
       "</style>\n",
       "<table border=\"1\" class=\"dataframe\">\n",
       "  <thead>\n",
       "    <tr style=\"text-align: right;\">\n",
       "      <th></th>\n",
       "      <th>Accuracy</th>\n",
       "      <th>Precision</th>\n",
       "      <th>Recall</th>\n",
       "      <th>F1</th>\n",
       "      <th>ROCAUC</th>\n",
       "    </tr>\n",
       "  </thead>\n",
       "  <tbody>\n",
       "    <tr>\n",
       "      <th>0</th>\n",
       "      <td>0.932075</td>\n",
       "      <td>0.941161</td>\n",
       "      <td>0.932072</td>\n",
       "      <td>0.932976</td>\n",
       "      <td>0.987268</td>\n",
       "    </tr>\n",
       "  </tbody>\n",
       "</table>\n",
       "</div>"
      ],
      "text/plain": [
       "   Accuracy  Precision    Recall        F1    ROCAUC\n",
       "0  0.932075   0.941161  0.932072  0.932976  0.987268"
      ]
     },
     "execution_count": 49,
     "metadata": {},
     "output_type": "execute_result"
    }
   ],
   "source": [
    "mod2 = prediction.results\n",
    "mod2"
   ]
  },
  {
   "cell_type": "markdown",
   "metadata": {},
   "source": [
    "### Random Forest"
   ]
  },
  {
   "cell_type": "code",
   "execution_count": 50,
   "metadata": {},
   "outputs": [
    {
     "name": "stdout",
     "output_type": "stream",
     "text": [
      "              precision    recall  f1-score   support\n",
      "\n",
      "          -1       0.94      0.89      0.91       442\n",
      "           0       0.88      0.94      0.91       442\n",
      "           1       0.97      0.96      0.96       441\n",
      "\n",
      "    accuracy                           0.93      1325\n",
      "   macro avg       0.93      0.93      0.93      1325\n",
      "weighted avg       0.93      0.93      0.93      1325\n",
      "\n"
     ]
    },
    {
     "data": {
      "image/png": "[encoded data removed]",
      "text/plain": [
       "<Figure size 576x432 with 2 Axes>"
      ]
     },
     "metadata": {
      "needs_background": "light"
     },
     "output_type": "display_data"
    }
   ],
   "source": [
    "y_pred3 = prediction(rf,X_train_fp,y_train,X_val_fp,y_val)"
   ]
  },
  {
   "cell_type": "code",
   "execution_count": 51,
   "metadata": {},
   "outputs": [
    {
     "data": {
      "text/html": [
       "<div>\n",
       "<style scoped>\n",
       "    .dataframe tbody tr th:only-of-type {\n",
       "        vertical-align: middle;\n",
       "    }\n",
       "\n",
       "    .dataframe tbody tr th {\n",
       "        vertical-align: top;\n",
       "    }\n",
       "\n",
       "    .dataframe thead th {\n",
       "        text-align: right;\n",
       "    }\n",
       "</style>\n",
       "<table border=\"1\" class=\"dataframe\">\n",
       "  <thead>\n",
       "    <tr style=\"text-align: right;\">\n",
       "      <th></th>\n",
       "      <th>Accuracy</th>\n",
       "      <th>Precision</th>\n",
       "      <th>Recall</th>\n",
       "      <th>F1</th>\n",
       "      <th>ROCAUC</th>\n",
       "    </tr>\n",
       "  </thead>\n",
       "  <tbody>\n",
       "    <tr>\n",
       "      <th>0</th>\n",
       "      <td>0.928302</td>\n",
       "      <td>0.929809</td>\n",
       "      <td>0.928323</td>\n",
       "      <td>0.928542</td>\n",
       "      <td>0.981981</td>\n",
       "    </tr>\n",
       "  </tbody>\n",
       "</table>\n",
       "</div>"
      ],
      "text/plain": [
       "   Accuracy  Precision    Recall        F1    ROCAUC\n",
       "0  0.928302   0.929809  0.928323  0.928542  0.981981"
      ]
     },
     "execution_count": 51,
     "metadata": {},
     "output_type": "execute_result"
    }
   ],
   "source": [
    "mod3 = prediction.results\n",
    "mod3"
   ]
  },
  {
   "cell_type": "markdown",
   "metadata": {},
   "source": [
    "### Support Vector Machines"
   ]
  },
  {
   "cell_type": "code",
   "execution_count": 52,
   "metadata": {},
   "outputs": [
    {
     "name": "stdout",
     "output_type": "stream",
     "text": [
      "              precision    recall  f1-score   support\n",
      "\n",
      "          -1       0.99      0.89      0.94       442\n",
      "           0       0.90      0.98      0.94       442\n",
      "           1       0.98      0.98      0.98       441\n",
      "\n",
      "    accuracy                           0.95      1325\n",
      "   macro avg       0.95      0.95      0.95      1325\n",
      "weighted avg       0.95      0.95      0.95      1325\n",
      "\n"
     ]
    },
    {
     "data": {
      "image/png": "[encoded data removed]",
      "text/plain": [
       "<Figure size 576x432 with 2 Axes>"
      ]
     },
     "metadata": {
      "needs_background": "light"
     },
     "output_type": "display_data"
    }
   ],
   "source": [
    "prediction(svm,X_train_fp,y_train,X_val_fp,y_val)"
   ]
  },
  {
   "cell_type": "code",
   "execution_count": 53,
   "metadata": {},
   "outputs": [
    {
     "data": {
      "text/html": [
       "<div>\n",
       "<style scoped>\n",
       "    .dataframe tbody tr th:only-of-type {\n",
       "        vertical-align: middle;\n",
       "    }\n",
       "\n",
       "    .dataframe tbody tr th {\n",
       "        vertical-align: top;\n",
       "    }\n",
       "\n",
       "    .dataframe thead th {\n",
       "        text-align: right;\n",
       "    }\n",
       "</style>\n",
       "<table border=\"1\" class=\"dataframe\">\n",
       "  <thead>\n",
       "    <tr style=\"text-align: right;\">\n",
       "      <th></th>\n",
       "      <th>Accuracy</th>\n",
       "      <th>Precision</th>\n",
       "      <th>Recall</th>\n",
       "      <th>F1</th>\n",
       "      <th>ROCAUC</th>\n",
       "    </tr>\n",
       "  </thead>\n",
       "  <tbody>\n",
       "    <tr>\n",
       "      <th>0</th>\n",
       "      <td>0.950943</td>\n",
       "      <td>0.953759</td>\n",
       "      <td>0.950963</td>\n",
       "      <td>0.950976</td>\n",
       "      <td>0.991831</td>\n",
       "    </tr>\n",
       "  </tbody>\n",
       "</table>\n",
       "</div>"
      ],
      "text/plain": [
       "   Accuracy  Precision    Recall        F1    ROCAUC\n",
       "0  0.950943   0.953759  0.950963  0.950976  0.991831"
      ]
     },
     "execution_count": 53,
     "metadata": {},
     "output_type": "execute_result"
    }
   ],
   "source": [
    "mod4 = prediction.results\n",
    "mod4"
   ]
  },
  {
   "cell_type": "markdown",
   "metadata": {},
   "source": [
    "## Feature Presence Bigram"
   ]
  },
  {
   "cell_type": "markdown",
   "metadata": {},
   "source": [
    "### Naive Bayes"
   ]
  },
  {
   "cell_type": "code",
   "execution_count": 54,
   "metadata": {},
   "outputs": [
    {
     "name": "stdout",
     "output_type": "stream",
     "text": [
      "              precision    recall  f1-score   support\n",
      "\n",
      "          -1       0.85      0.92      0.88       442\n",
      "           0       0.90      0.76      0.82       442\n",
      "           1       0.87      0.95      0.91       441\n",
      "\n",
      "    accuracy                           0.87      1325\n",
      "   macro avg       0.87      0.87      0.87      1325\n",
      "weighted avg       0.87      0.87      0.87      1325\n",
      "\n"
     ]
    },
    {
     "data": {
      "image/png": "[encoded data removed]",
      "text/plain": [
       "<Figure size 576x432 with 2 Axes>"
      ]
     },
     "metadata": {
      "needs_background": "light"
     },
     "output_type": "display_data"
    }
   ],
   "source": [
    "prediction(nb,X_train_fp_big,y_train,X_val_fp_big,y_val)"
   ]
  },
  {
   "cell_type": "code",
   "execution_count": 55,
   "metadata": {},
   "outputs": [
    {
     "data": {
      "text/html": [
       "<div>\n",
       "<style scoped>\n",
       "    .dataframe tbody tr th:only-of-type {\n",
       "        vertical-align: middle;\n",
       "    }\n",
       "\n",
       "    .dataframe tbody tr th {\n",
       "        vertical-align: top;\n",
       "    }\n",
       "\n",
       "    .dataframe thead th {\n",
       "        text-align: right;\n",
       "    }\n",
       "</style>\n",
       "<table border=\"1\" class=\"dataframe\">\n",
       "  <thead>\n",
       "    <tr style=\"text-align: right;\">\n",
       "      <th></th>\n",
       "      <th>Accuracy</th>\n",
       "      <th>Precision</th>\n",
       "      <th>Recall</th>\n",
       "      <th>F1</th>\n",
       "      <th>ROCAUC</th>\n",
       "    </tr>\n",
       "  </thead>\n",
       "  <tbody>\n",
       "    <tr>\n",
       "      <th>0</th>\n",
       "      <td>0.872453</td>\n",
       "      <td>0.874281</td>\n",
       "      <td>0.872508</td>\n",
       "      <td>0.87048</td>\n",
       "      <td>0.972663</td>\n",
       "    </tr>\n",
       "  </tbody>\n",
       "</table>\n",
       "</div>"
      ],
      "text/plain": [
       "   Accuracy  Precision    Recall       F1    ROCAUC\n",
       "0  0.872453   0.874281  0.872508  0.87048  0.972663"
      ]
     },
     "execution_count": 55,
     "metadata": {},
     "output_type": "execute_result"
    }
   ],
   "source": [
    "mod5 = prediction.results\n",
    "mod5"
   ]
  },
  {
   "cell_type": "markdown",
   "metadata": {},
   "source": [
    "### Logistic Regression"
   ]
  },
  {
   "cell_type": "code",
   "execution_count": 56,
   "metadata": {},
   "outputs": [
    {
     "name": "stdout",
     "output_type": "stream",
     "text": [
      "              precision    recall  f1-score   support\n",
      "\n",
      "          -1       0.99      0.86      0.92       442\n",
      "           0       0.83      0.99      0.90       442\n",
      "           1       0.99      0.92      0.95       441\n",
      "\n",
      "    accuracy                           0.92      1325\n",
      "   macro avg       0.93      0.92      0.92      1325\n",
      "weighted avg       0.93      0.92      0.92      1325\n",
      "\n"
     ]
    },
    {
     "data": {
      "image/png": "[encoded data removed]",
      "text/plain": [
       "<Figure size 576x432 with 2 Axes>"
      ]
     },
     "metadata": {
      "needs_background": "light"
     },
     "output_type": "display_data"
    }
   ],
   "source": [
    "prediction(lr,X_train_fp_big,y_train,X_val_fp_big,y_val)"
   ]
  },
  {
   "cell_type": "code",
   "execution_count": 57,
   "metadata": {},
   "outputs": [
    {
     "data": {
      "text/html": [
       "<div>\n",
       "<style scoped>\n",
       "    .dataframe tbody tr th:only-of-type {\n",
       "        vertical-align: middle;\n",
       "    }\n",
       "\n",
       "    .dataframe tbody tr th {\n",
       "        vertical-align: top;\n",
       "    }\n",
       "\n",
       "    .dataframe thead th {\n",
       "        text-align: right;\n",
       "    }\n",
       "</style>\n",
       "<table border=\"1\" class=\"dataframe\">\n",
       "  <thead>\n",
       "    <tr style=\"text-align: right;\">\n",
       "      <th></th>\n",
       "      <th>Accuracy</th>\n",
       "      <th>Precision</th>\n",
       "      <th>Recall</th>\n",
       "      <th>F1</th>\n",
       "      <th>ROCAUC</th>\n",
       "    </tr>\n",
       "  </thead>\n",
       "  <tbody>\n",
       "    <tr>\n",
       "      <th>0</th>\n",
       "      <td>0.923774</td>\n",
       "      <td>0.934997</td>\n",
       "      <td>0.92377</td>\n",
       "      <td>0.924825</td>\n",
       "      <td>0.986072</td>\n",
       "    </tr>\n",
       "  </tbody>\n",
       "</table>\n",
       "</div>"
      ],
      "text/plain": [
       "   Accuracy  Precision   Recall        F1    ROCAUC\n",
       "0  0.923774   0.934997  0.92377  0.924825  0.986072"
      ]
     },
     "execution_count": 57,
     "metadata": {},
     "output_type": "execute_result"
    }
   ],
   "source": [
    "mod6 = prediction.results\n",
    "mod6"
   ]
  },
  {
   "cell_type": "markdown",
   "metadata": {},
   "source": [
    "### Random Forest"
   ]
  },
  {
   "cell_type": "code",
   "execution_count": 58,
   "metadata": {},
   "outputs": [
    {
     "name": "stdout",
     "output_type": "stream",
     "text": [
      "              precision    recall  f1-score   support\n",
      "\n",
      "          -1       0.94      0.87      0.90       442\n",
      "           0       0.85      0.95      0.89       442\n",
      "           1       0.98      0.94      0.96       441\n",
      "\n",
      "    accuracy                           0.92      1325\n",
      "   macro avg       0.92      0.92      0.92      1325\n",
      "weighted avg       0.92      0.92      0.92      1325\n",
      "\n"
     ]
    },
    {
     "data": {
      "image/png": "[encoded data removed]",
      "text/plain": [
       "<Figure size 576x432 with 2 Axes>"
      ]
     },
     "metadata": {
      "needs_background": "light"
     },
     "output_type": "display_data"
    }
   ],
   "source": [
    "prediction(rf,X_train_fp_big,y_train,X_val_fp_big,y_val)"
   ]
  },
  {
   "cell_type": "code",
   "execution_count": 59,
   "metadata": {},
   "outputs": [
    {
     "data": {
      "text/html": [
       "<div>\n",
       "<style scoped>\n",
       "    .dataframe tbody tr th:only-of-type {\n",
       "        vertical-align: middle;\n",
       "    }\n",
       "\n",
       "    .dataframe tbody tr th {\n",
       "        vertical-align: top;\n",
       "    }\n",
       "\n",
       "    .dataframe thead th {\n",
       "        text-align: right;\n",
       "    }\n",
       "</style>\n",
       "<table border=\"1\" class=\"dataframe\">\n",
       "  <thead>\n",
       "    <tr style=\"text-align: right;\">\n",
       "      <th></th>\n",
       "      <th>Accuracy</th>\n",
       "      <th>Precision</th>\n",
       "      <th>Recall</th>\n",
       "      <th>F1</th>\n",
       "      <th>ROCAUC</th>\n",
       "    </tr>\n",
       "  </thead>\n",
       "  <tbody>\n",
       "    <tr>\n",
       "      <th>0</th>\n",
       "      <td>0.917736</td>\n",
       "      <td>0.922049</td>\n",
       "      <td>0.91775</td>\n",
       "      <td>0.918369</td>\n",
       "      <td>0.980468</td>\n",
       "    </tr>\n",
       "  </tbody>\n",
       "</table>\n",
       "</div>"
      ],
      "text/plain": [
       "   Accuracy  Precision   Recall        F1    ROCAUC\n",
       "0  0.917736   0.922049  0.91775  0.918369  0.980468"
      ]
     },
     "execution_count": 59,
     "metadata": {},
     "output_type": "execute_result"
    }
   ],
   "source": [
    "mod7 = prediction.results\n",
    "mod7"
   ]
  },
  {
   "cell_type": "markdown",
   "metadata": {},
   "source": [
    "### Support Vector Machines"
   ]
  },
  {
   "cell_type": "code",
   "execution_count": 60,
   "metadata": {},
   "outputs": [
    {
     "name": "stdout",
     "output_type": "stream",
     "text": [
      "              precision    recall  f1-score   support\n",
      "\n",
      "          -1       0.98      0.88      0.93       442\n",
      "           0       0.88      0.98      0.93       442\n",
      "           1       0.98      0.97      0.97       441\n",
      "\n",
      "    accuracy                           0.94      1325\n",
      "   macro avg       0.95      0.94      0.94      1325\n",
      "weighted avg       0.95      0.94      0.94      1325\n",
      "\n"
     ]
    },
    {
     "data": {
      "image/png": "[encoded data removed]",
      "text/plain": [
       "<Figure size 576x432 with 2 Axes>"
      ]
     },
     "metadata": {
      "needs_background": "light"
     },
     "output_type": "display_data"
    }
   ],
   "source": [
    "prediction(svm,X_train_fp_big,y_train,X_val_fp_big,y_val)"
   ]
  },
  {
   "cell_type": "code",
   "execution_count": 61,
   "metadata": {},
   "outputs": [
    {
     "data": {
      "text/html": [
       "<div>\n",
       "<style scoped>\n",
       "    .dataframe tbody tr th:only-of-type {\n",
       "        vertical-align: middle;\n",
       "    }\n",
       "\n",
       "    .dataframe tbody tr th {\n",
       "        vertical-align: top;\n",
       "    }\n",
       "\n",
       "    .dataframe thead th {\n",
       "        text-align: right;\n",
       "    }\n",
       "</style>\n",
       "<table border=\"1\" class=\"dataframe\">\n",
       "  <thead>\n",
       "    <tr style=\"text-align: right;\">\n",
       "      <th></th>\n",
       "      <th>Accuracy</th>\n",
       "      <th>Precision</th>\n",
       "      <th>Recall</th>\n",
       "      <th>F1</th>\n",
       "      <th>ROCAUC</th>\n",
       "    </tr>\n",
       "  </thead>\n",
       "  <tbody>\n",
       "    <tr>\n",
       "      <th>0</th>\n",
       "      <td>0.944151</td>\n",
       "      <td>0.948011</td>\n",
       "      <td>0.944169</td>\n",
       "      <td>0.944219</td>\n",
       "      <td>0.989851</td>\n",
       "    </tr>\n",
       "  </tbody>\n",
       "</table>\n",
       "</div>"
      ],
      "text/plain": [
       "   Accuracy  Precision    Recall        F1    ROCAUC\n",
       "0  0.944151   0.948011  0.944169  0.944219  0.989851"
      ]
     },
     "execution_count": 61,
     "metadata": {},
     "output_type": "execute_result"
    }
   ],
   "source": [
    "mod8 = prediction.results\n",
    "mod8"
   ]
  },
  {
   "cell_type": "markdown",
   "metadata": {},
   "source": [
    "## BOW"
   ]
  },
  {
   "cell_type": "markdown",
   "metadata": {},
   "source": [
    "### Naive Bayes"
   ]
  },
  {
   "cell_type": "code",
   "execution_count": 62,
   "metadata": {},
   "outputs": [
    {
     "name": "stdout",
     "output_type": "stream",
     "text": [
      "              precision    recall  f1-score   support\n",
      "\n",
      "          -1       0.86      0.91      0.88       442\n",
      "           0       0.90      0.78      0.83       442\n",
      "           1       0.87      0.94      0.91       441\n",
      "\n",
      "    accuracy                           0.88      1325\n",
      "   macro avg       0.88      0.88      0.87      1325\n",
      "weighted avg       0.88      0.88      0.87      1325\n",
      "\n"
     ]
    },
    {
     "data": {
      "image/png": "[encoded data removed]",
      "text/plain": [
       "<Figure size 576x432 with 2 Axes>"
      ]
     },
     "metadata": {
      "needs_background": "light"
     },
     "output_type": "display_data"
    }
   ],
   "source": [
    "prediction(nb,X_train_bow,y_train,X_val_bow,y_val)"
   ]
  },
  {
   "cell_type": "code",
   "execution_count": 63,
   "metadata": {},
   "outputs": [
    {
     "data": {
      "text/html": [
       "<div>\n",
       "<style scoped>\n",
       "    .dataframe tbody tr th:only-of-type {\n",
       "        vertical-align: middle;\n",
       "    }\n",
       "\n",
       "    .dataframe tbody tr th {\n",
       "        vertical-align: top;\n",
       "    }\n",
       "\n",
       "    .dataframe thead th {\n",
       "        text-align: right;\n",
       "    }\n",
       "</style>\n",
       "<table border=\"1\" class=\"dataframe\">\n",
       "  <thead>\n",
       "    <tr style=\"text-align: right;\">\n",
       "      <th></th>\n",
       "      <th>Accuracy</th>\n",
       "      <th>Precision</th>\n",
       "      <th>Recall</th>\n",
       "      <th>F1</th>\n",
       "      <th>ROCAUC</th>\n",
       "    </tr>\n",
       "  </thead>\n",
       "  <tbody>\n",
       "    <tr>\n",
       "      <th>0</th>\n",
       "      <td>0.876226</td>\n",
       "      <td>0.877556</td>\n",
       "      <td>0.876277</td>\n",
       "      <td>0.874773</td>\n",
       "      <td>0.973365</td>\n",
       "    </tr>\n",
       "  </tbody>\n",
       "</table>\n",
       "</div>"
      ],
      "text/plain": [
       "   Accuracy  Precision    Recall        F1    ROCAUC\n",
       "0  0.876226   0.877556  0.876277  0.874773  0.973365"
      ]
     },
     "execution_count": 63,
     "metadata": {},
     "output_type": "execute_result"
    }
   ],
   "source": [
    "mod9 = prediction.results\n",
    "mod9"
   ]
  },
  {
   "cell_type": "markdown",
   "metadata": {},
   "source": [
    "### Logistic Regression"
   ]
  },
  {
   "cell_type": "code",
   "execution_count": 64,
   "metadata": {},
   "outputs": [
    {
     "name": "stdout",
     "output_type": "stream",
     "text": [
      "              precision    recall  f1-score   support\n",
      "\n",
      "          -1       0.99      0.88      0.93       442\n",
      "           0       0.84      0.99      0.91       442\n",
      "           1       0.99      0.93      0.96       441\n",
      "\n",
      "    accuracy                           0.93      1325\n",
      "   macro avg       0.94      0.93      0.93      1325\n",
      "weighted avg       0.94      0.93      0.93      1325\n",
      "\n"
     ]
    },
    {
     "data": {
      "image/png": "[encoded data removed]",
      "text/plain": [
       "<Figure size 576x432 with 2 Axes>"
      ]
     },
     "metadata": {
      "needs_background": "light"
     },
     "output_type": "display_data"
    }
   ],
   "source": [
    "prediction(lr,X_train_bow,y_train,X_val_bow,y_val)"
   ]
  },
  {
   "cell_type": "code",
   "execution_count": 65,
   "metadata": {},
   "outputs": [
    {
     "data": {
      "text/html": [
       "<div>\n",
       "<style scoped>\n",
       "    .dataframe tbody tr th:only-of-type {\n",
       "        vertical-align: middle;\n",
       "    }\n",
       "\n",
       "    .dataframe tbody tr th {\n",
       "        vertical-align: top;\n",
       "    }\n",
       "\n",
       "    .dataframe thead th {\n",
       "        text-align: right;\n",
       "    }\n",
       "</style>\n",
       "<table border=\"1\" class=\"dataframe\">\n",
       "  <thead>\n",
       "    <tr style=\"text-align: right;\">\n",
       "      <th></th>\n",
       "      <th>Accuracy</th>\n",
       "      <th>Precision</th>\n",
       "      <th>Recall</th>\n",
       "      <th>F1</th>\n",
       "      <th>ROCAUC</th>\n",
       "    </tr>\n",
       "  </thead>\n",
       "  <tbody>\n",
       "    <tr>\n",
       "      <th>0</th>\n",
       "      <td>0.93283</td>\n",
       "      <td>0.941404</td>\n",
       "      <td>0.932828</td>\n",
       "      <td>0.933642</td>\n",
       "      <td>0.987267</td>\n",
       "    </tr>\n",
       "  </tbody>\n",
       "</table>\n",
       "</div>"
      ],
      "text/plain": [
       "   Accuracy  Precision    Recall        F1    ROCAUC\n",
       "0   0.93283   0.941404  0.932828  0.933642  0.987267"
      ]
     },
     "execution_count": 65,
     "metadata": {},
     "output_type": "execute_result"
    }
   ],
   "source": [
    "mod10 = prediction.results\n",
    "mod10"
   ]
  },
  {
   "cell_type": "markdown",
   "metadata": {},
   "source": [
    "### Random Forest"
   ]
  },
  {
   "cell_type": "code",
   "execution_count": 66,
   "metadata": {},
   "outputs": [
    {
     "name": "stdout",
     "output_type": "stream",
     "text": [
      "              precision    recall  f1-score   support\n",
      "\n",
      "          -1       0.93      0.89      0.91       442\n",
      "           0       0.88      0.94      0.91       442\n",
      "           1       0.97      0.96      0.97       441\n",
      "\n",
      "    accuracy                           0.93      1325\n",
      "   macro avg       0.93      0.93      0.93      1325\n",
      "weighted avg       0.93      0.93      0.93      1325\n",
      "\n"
     ]
    },
    {
     "data": {
      "image/png": "[encoded data removed]",
      "text/plain": [
       "<Figure size 576x432 with 2 Axes>"
      ]
     },
     "metadata": {
      "needs_background": "light"
     },
     "output_type": "display_data"
    }
   ],
   "source": [
    "prediction(rf,X_train_bow,y_train,X_val_bow,y_val)"
   ]
  },
  {
   "cell_type": "code",
   "execution_count": 67,
   "metadata": {},
   "outputs": [
    {
     "data": {
      "text/html": [
       "<div>\n",
       "<style scoped>\n",
       "    .dataframe tbody tr th:only-of-type {\n",
       "        vertical-align: middle;\n",
       "    }\n",
       "\n",
       "    .dataframe tbody tr th {\n",
       "        vertical-align: top;\n",
       "    }\n",
       "\n",
       "    .dataframe thead th {\n",
       "        text-align: right;\n",
       "    }\n",
       "</style>\n",
       "<table border=\"1\" class=\"dataframe\">\n",
       "  <thead>\n",
       "    <tr style=\"text-align: right;\">\n",
       "      <th></th>\n",
       "      <th>Accuracy</th>\n",
       "      <th>Precision</th>\n",
       "      <th>Recall</th>\n",
       "      <th>F1</th>\n",
       "      <th>ROCAUC</th>\n",
       "    </tr>\n",
       "  </thead>\n",
       "  <tbody>\n",
       "    <tr>\n",
       "      <th>0</th>\n",
       "      <td>0.928302</td>\n",
       "      <td>0.929545</td>\n",
       "      <td>0.928325</td>\n",
       "      <td>0.928474</td>\n",
       "      <td>0.980896</td>\n",
       "    </tr>\n",
       "  </tbody>\n",
       "</table>\n",
       "</div>"
      ],
      "text/plain": [
       "   Accuracy  Precision    Recall        F1    ROCAUC\n",
       "0  0.928302   0.929545  0.928325  0.928474  0.980896"
      ]
     },
     "execution_count": 67,
     "metadata": {},
     "output_type": "execute_result"
    }
   ],
   "source": [
    "mod11 = prediction.results\n",
    "mod11"
   ]
  },
  {
   "cell_type": "markdown",
   "metadata": {},
   "source": [
    "### SVM"
   ]
  },
  {
   "cell_type": "code",
   "execution_count": 68,
   "metadata": {},
   "outputs": [
    {
     "name": "stdout",
     "output_type": "stream",
     "text": [
      "              precision    recall  f1-score   support\n",
      "\n",
      "          -1       0.99      0.89      0.94       442\n",
      "           0       0.90      0.98      0.94       442\n",
      "           1       0.98      0.98      0.98       441\n",
      "\n",
      "    accuracy                           0.95      1325\n",
      "   macro avg       0.95      0.95      0.95      1325\n",
      "weighted avg       0.95      0.95      0.95      1325\n",
      "\n"
     ]
    },
    {
     "data": {
      "image/png": "[encoded data removed]",
      "text/plain": [
       "<Figure size 576x432 with 2 Axes>"
      ]
     },
     "metadata": {
      "needs_background": "light"
     },
     "output_type": "display_data"
    }
   ],
   "source": [
    "prediction(svm,X_train_bow,y_train,X_val_bow,y_val)"
   ]
  },
  {
   "cell_type": "code",
   "execution_count": 69,
   "metadata": {},
   "outputs": [
    {
     "data": {
      "text/html": [
       "<div>\n",
       "<style scoped>\n",
       "    .dataframe tbody tr th:only-of-type {\n",
       "        vertical-align: middle;\n",
       "    }\n",
       "\n",
       "    .dataframe tbody tr th {\n",
       "        vertical-align: top;\n",
       "    }\n",
       "\n",
       "    .dataframe thead th {\n",
       "        text-align: right;\n",
       "    }\n",
       "</style>\n",
       "<table border=\"1\" class=\"dataframe\">\n",
       "  <thead>\n",
       "    <tr style=\"text-align: right;\">\n",
       "      <th></th>\n",
       "      <th>Accuracy</th>\n",
       "      <th>Precision</th>\n",
       "      <th>Recall</th>\n",
       "      <th>F1</th>\n",
       "      <th>ROCAUC</th>\n",
       "    </tr>\n",
       "  </thead>\n",
       "  <tbody>\n",
       "    <tr>\n",
       "      <th>0</th>\n",
       "      <td>0.950189</td>\n",
       "      <td>0.952947</td>\n",
       "      <td>0.950209</td>\n",
       "      <td>0.950223</td>\n",
       "      <td>0.991839</td>\n",
       "    </tr>\n",
       "  </tbody>\n",
       "</table>\n",
       "</div>"
      ],
      "text/plain": [
       "   Accuracy  Precision    Recall        F1    ROCAUC\n",
       "0  0.950189   0.952947  0.950209  0.950223  0.991839"
      ]
     },
     "execution_count": 69,
     "metadata": {},
     "output_type": "execute_result"
    }
   ],
   "source": [
    "mod12 = prediction.results\n",
    "mod12"
   ]
  },
  {
   "cell_type": "markdown",
   "metadata": {},
   "source": [
    "## NGRAMs"
   ]
  },
  {
   "cell_type": "markdown",
   "metadata": {},
   "source": [
    "### Naive Bayes"
   ]
  },
  {
   "cell_type": "code",
   "execution_count": 70,
   "metadata": {},
   "outputs": [
    {
     "name": "stdout",
     "output_type": "stream",
     "text": [
      "              precision    recall  f1-score   support\n",
      "\n",
      "          -1       0.85      0.91      0.88       442\n",
      "           0       0.89      0.75      0.82       442\n",
      "           1       0.87      0.95      0.90       441\n",
      "\n",
      "    accuracy                           0.87      1325\n",
      "   macro avg       0.87      0.87      0.87      1325\n",
      "weighted avg       0.87      0.87      0.87      1325\n",
      "\n"
     ]
    },
    {
     "data": {
      "image/png": "[encoded data removed]",
      "text/plain": [
       "<Figure size 576x432 with 2 Axes>"
      ]
     },
     "metadata": {
      "needs_background": "light"
     },
     "output_type": "display_data"
    }
   ],
   "source": [
    "prediction(nb,X_train_ngram,y_train,X_val_ngram,y_val)"
   ]
  },
  {
   "cell_type": "code",
   "execution_count": 71,
   "metadata": {},
   "outputs": [
    {
     "data": {
      "text/html": [
       "<div>\n",
       "<style scoped>\n",
       "    .dataframe tbody tr th:only-of-type {\n",
       "        vertical-align: middle;\n",
       "    }\n",
       "\n",
       "    .dataframe tbody tr th {\n",
       "        vertical-align: top;\n",
       "    }\n",
       "\n",
       "    .dataframe thead th {\n",
       "        text-align: right;\n",
       "    }\n",
       "</style>\n",
       "<table border=\"1\" class=\"dataframe\">\n",
       "  <thead>\n",
       "    <tr style=\"text-align: right;\">\n",
       "      <th></th>\n",
       "      <th>Accuracy</th>\n",
       "      <th>Precision</th>\n",
       "      <th>Recall</th>\n",
       "      <th>F1</th>\n",
       "      <th>ROCAUC</th>\n",
       "    </tr>\n",
       "  </thead>\n",
       "  <tbody>\n",
       "    <tr>\n",
       "      <th>0</th>\n",
       "      <td>0.869434</td>\n",
       "      <td>0.871287</td>\n",
       "      <td>0.869491</td>\n",
       "      <td>0.867302</td>\n",
       "      <td>0.972294</td>\n",
       "    </tr>\n",
       "  </tbody>\n",
       "</table>\n",
       "</div>"
      ],
      "text/plain": [
       "   Accuracy  Precision    Recall        F1    ROCAUC\n",
       "0  0.869434   0.871287  0.869491  0.867302  0.972294"
      ]
     },
     "execution_count": 71,
     "metadata": {},
     "output_type": "execute_result"
    }
   ],
   "source": [
    "mod13 = prediction.results\n",
    "mod13"
   ]
  },
  {
   "cell_type": "markdown",
   "metadata": {},
   "source": [
    "### Logistic Regression"
   ]
  },
  {
   "cell_type": "code",
   "execution_count": 72,
   "metadata": {},
   "outputs": [
    {
     "name": "stdout",
     "output_type": "stream",
     "text": [
      "              precision    recall  f1-score   support\n",
      "\n",
      "          -1       0.99      0.86      0.92       442\n",
      "           0       0.83      0.99      0.90       442\n",
      "           1       0.99      0.92      0.95       441\n",
      "\n",
      "    accuracy                           0.92      1325\n",
      "   macro avg       0.93      0.92      0.92      1325\n",
      "weighted avg       0.93      0.92      0.92      1325\n",
      "\n"
     ]
    },
    {
     "data": {
      "image/png": "[encoded data removed]",
      "text/plain": [
       "<Figure size 576x432 with 2 Axes>"
      ]
     },
     "metadata": {
      "needs_background": "light"
     },
     "output_type": "display_data"
    }
   ],
   "source": [
    "prediction(lr,X_train_ngram,y_train,X_val_ngram,y_val)"
   ]
  },
  {
   "cell_type": "code",
   "execution_count": 73,
   "metadata": {},
   "outputs": [
    {
     "data": {
      "text/html": [
       "<div>\n",
       "<style scoped>\n",
       "    .dataframe tbody tr th:only-of-type {\n",
       "        vertical-align: middle;\n",
       "    }\n",
       "\n",
       "    .dataframe tbody tr th {\n",
       "        vertical-align: top;\n",
       "    }\n",
       "\n",
       "    .dataframe thead th {\n",
       "        text-align: right;\n",
       "    }\n",
       "</style>\n",
       "<table border=\"1\" class=\"dataframe\">\n",
       "  <thead>\n",
       "    <tr style=\"text-align: right;\">\n",
       "      <th></th>\n",
       "      <th>Accuracy</th>\n",
       "      <th>Precision</th>\n",
       "      <th>Recall</th>\n",
       "      <th>F1</th>\n",
       "      <th>ROCAUC</th>\n",
       "    </tr>\n",
       "  </thead>\n",
       "  <tbody>\n",
       "    <tr>\n",
       "      <th>0</th>\n",
       "      <td>0.923774</td>\n",
       "      <td>0.934658</td>\n",
       "      <td>0.92377</td>\n",
       "      <td>0.924763</td>\n",
       "      <td>0.98605</td>\n",
       "    </tr>\n",
       "  </tbody>\n",
       "</table>\n",
       "</div>"
      ],
      "text/plain": [
       "   Accuracy  Precision   Recall        F1   ROCAUC\n",
       "0  0.923774   0.934658  0.92377  0.924763  0.98605"
      ]
     },
     "execution_count": 73,
     "metadata": {},
     "output_type": "execute_result"
    }
   ],
   "source": [
    "mod14 = prediction.results\n",
    "mod14"
   ]
  },
  {
   "cell_type": "markdown",
   "metadata": {},
   "source": [
    "### Random Forest"
   ]
  },
  {
   "cell_type": "code",
   "execution_count": 74,
   "metadata": {},
   "outputs": [
    {
     "name": "stdout",
     "output_type": "stream",
     "text": [
      "              precision    recall  f1-score   support\n",
      "\n",
      "          -1       0.95      0.87      0.91       442\n",
      "           0       0.85      0.95      0.89       442\n",
      "           1       0.97      0.94      0.96       441\n",
      "\n",
      "    accuracy                           0.92      1325\n",
      "   macro avg       0.92      0.92      0.92      1325\n",
      "weighted avg       0.92      0.92      0.92      1325\n",
      "\n"
     ]
    },
    {
     "data": {
      "image/png": "[encoded data removed]",
      "text/plain": [
       "<Figure size 576x432 with 2 Axes>"
      ]
     },
     "metadata": {
      "needs_background": "light"
     },
     "output_type": "display_data"
    }
   ],
   "source": [
    "prediction(rf,X_train_ngram,y_train,X_val_ngram,y_val)"
   ]
  },
  {
   "cell_type": "code",
   "execution_count": 75,
   "metadata": {},
   "outputs": [
    {
     "data": {
      "text/html": [
       "<div>\n",
       "<style scoped>\n",
       "    .dataframe tbody tr th:only-of-type {\n",
       "        vertical-align: middle;\n",
       "    }\n",
       "\n",
       "    .dataframe tbody tr th {\n",
       "        vertical-align: top;\n",
       "    }\n",
       "\n",
       "    .dataframe thead th {\n",
       "        text-align: right;\n",
       "    }\n",
       "</style>\n",
       "<table border=\"1\" class=\"dataframe\">\n",
       "  <thead>\n",
       "    <tr style=\"text-align: right;\">\n",
       "      <th></th>\n",
       "      <th>Accuracy</th>\n",
       "      <th>Precision</th>\n",
       "      <th>Recall</th>\n",
       "      <th>F1</th>\n",
       "      <th>ROCAUC</th>\n",
       "    </tr>\n",
       "  </thead>\n",
       "  <tbody>\n",
       "    <tr>\n",
       "      <th>0</th>\n",
       "      <td>0.917736</td>\n",
       "      <td>0.922028</td>\n",
       "      <td>0.917752</td>\n",
       "      <td>0.918314</td>\n",
       "      <td>0.98024</td>\n",
       "    </tr>\n",
       "  </tbody>\n",
       "</table>\n",
       "</div>"
      ],
      "text/plain": [
       "   Accuracy  Precision    Recall        F1   ROCAUC\n",
       "0  0.917736   0.922028  0.917752  0.918314  0.98024"
      ]
     },
     "execution_count": 75,
     "metadata": {},
     "output_type": "execute_result"
    }
   ],
   "source": [
    "mod15 = prediction.results\n",
    "mod15"
   ]
  },
  {
   "cell_type": "markdown",
   "metadata": {},
   "source": [
    "### Support Vector Machine"
   ]
  },
  {
   "cell_type": "code",
   "execution_count": 76,
   "metadata": {},
   "outputs": [
    {
     "name": "stdout",
     "output_type": "stream",
     "text": [
      "              precision    recall  f1-score   support\n",
      "\n",
      "          -1       0.98      0.88      0.93       442\n",
      "           0       0.88      0.98      0.93       442\n",
      "           1       0.98      0.97      0.97       441\n",
      "\n",
      "    accuracy                           0.94      1325\n",
      "   macro avg       0.95      0.94      0.94      1325\n",
      "weighted avg       0.95      0.94      0.94      1325\n",
      "\n"
     ]
    },
    {
     "data": {
      "image/png": "[encoded data removed]",
      "text/plain": [
       "<Figure size 576x432 with 2 Axes>"
      ]
     },
     "metadata": {
      "needs_background": "light"
     },
     "output_type": "display_data"
    }
   ],
   "source": [
    "prediction(svm,X_train_ngram,y_train,X_val_ngram,y_val)"
   ]
  },
  {
   "cell_type": "code",
   "execution_count": 77,
   "metadata": {},
   "outputs": [
    {
     "data": {
      "text/html": [
       "<div>\n",
       "<style scoped>\n",
       "    .dataframe tbody tr th:only-of-type {\n",
       "        vertical-align: middle;\n",
       "    }\n",
       "\n",
       "    .dataframe tbody tr th {\n",
       "        vertical-align: top;\n",
       "    }\n",
       "\n",
       "    .dataframe thead th {\n",
       "        text-align: right;\n",
       "    }\n",
       "</style>\n",
       "<table border=\"1\" class=\"dataframe\">\n",
       "  <thead>\n",
       "    <tr style=\"text-align: right;\">\n",
       "      <th></th>\n",
       "      <th>Accuracy</th>\n",
       "      <th>Precision</th>\n",
       "      <th>Recall</th>\n",
       "      <th>F1</th>\n",
       "      <th>ROCAUC</th>\n",
       "    </tr>\n",
       "  </thead>\n",
       "  <tbody>\n",
       "    <tr>\n",
       "      <th>0</th>\n",
       "      <td>0.942642</td>\n",
       "      <td>0.946793</td>\n",
       "      <td>0.942661</td>\n",
       "      <td>0.942702</td>\n",
       "      <td>0.989883</td>\n",
       "    </tr>\n",
       "  </tbody>\n",
       "</table>\n",
       "</div>"
      ],
      "text/plain": [
       "   Accuracy  Precision    Recall        F1    ROCAUC\n",
       "0  0.942642   0.946793  0.942661  0.942702  0.989883"
      ]
     },
     "execution_count": 77,
     "metadata": {},
     "output_type": "execute_result"
    }
   ],
   "source": [
    "mod16 = prediction.results\n",
    "mod16"
   ]
  },
  {
   "cell_type": "markdown",
   "metadata": {},
   "source": [
    "## TFIDF Unigram"
   ]
  },
  {
   "cell_type": "markdown",
   "metadata": {},
   "source": [
    "### Naive Bayes"
   ]
  },
  {
   "cell_type": "code",
   "execution_count": 78,
   "metadata": {},
   "outputs": [
    {
     "name": "stdout",
     "output_type": "stream",
     "text": [
      "              precision    recall  f1-score   support\n",
      "\n",
      "          -1       0.87      0.92      0.89       442\n",
      "           0       0.90      0.78      0.83       442\n",
      "           1       0.87      0.94      0.91       441\n",
      "\n",
      "    accuracy                           0.88      1325\n",
      "   macro avg       0.88      0.88      0.88      1325\n",
      "weighted avg       0.88      0.88      0.88      1325\n",
      "\n"
     ]
    },
    {
     "data": {
      "image/png": "[encoded data removed]",
      "text/plain": [
       "<Figure size 576x432 with 2 Axes>"
      ]
     },
     "metadata": {
      "needs_background": "light"
     },
     "output_type": "display_data"
    }
   ],
   "source": [
    "prediction(nb,X_train_tfidf1,y_train,X_val_tfidf1,y_val)"
   ]
  },
  {
   "cell_type": "code",
   "execution_count": 79,
   "metadata": {},
   "outputs": [
    {
     "data": {
      "text/html": [
       "<div>\n",
       "<style scoped>\n",
       "    .dataframe tbody tr th:only-of-type {\n",
       "        vertical-align: middle;\n",
       "    }\n",
       "\n",
       "    .dataframe tbody tr th {\n",
       "        vertical-align: top;\n",
       "    }\n",
       "\n",
       "    .dataframe thead th {\n",
       "        text-align: right;\n",
       "    }\n",
       "</style>\n",
       "<table border=\"1\" class=\"dataframe\">\n",
       "  <thead>\n",
       "    <tr style=\"text-align: right;\">\n",
       "      <th></th>\n",
       "      <th>Accuracy</th>\n",
       "      <th>Precision</th>\n",
       "      <th>Recall</th>\n",
       "      <th>F1</th>\n",
       "      <th>ROCAUC</th>\n",
       "    </tr>\n",
       "  </thead>\n",
       "  <tbody>\n",
       "    <tr>\n",
       "      <th>0</th>\n",
       "      <td>0.879245</td>\n",
       "      <td>0.880411</td>\n",
       "      <td>0.879294</td>\n",
       "      <td>0.877707</td>\n",
       "      <td>0.972445</td>\n",
       "    </tr>\n",
       "  </tbody>\n",
       "</table>\n",
       "</div>"
      ],
      "text/plain": [
       "   Accuracy  Precision    Recall        F1    ROCAUC\n",
       "0  0.879245   0.880411  0.879294  0.877707  0.972445"
      ]
     },
     "execution_count": 79,
     "metadata": {},
     "output_type": "execute_result"
    }
   ],
   "source": [
    "mod17 = prediction.results\n",
    "mod17"
   ]
  },
  {
   "cell_type": "markdown",
   "metadata": {},
   "source": [
    "### Logistic Regression"
   ]
  },
  {
   "cell_type": "code",
   "execution_count": 80,
   "metadata": {},
   "outputs": [
    {
     "name": "stdout",
     "output_type": "stream",
     "text": [
      "              precision    recall  f1-score   support\n",
      "\n",
      "          -1       0.98      0.87      0.92       442\n",
      "           0       0.84      0.99      0.91       442\n",
      "           1       0.99      0.92      0.95       441\n",
      "\n",
      "    accuracy                           0.93      1325\n",
      "   macro avg       0.94      0.93      0.93      1325\n",
      "weighted avg       0.94      0.93      0.93      1325\n",
      "\n"
     ]
    },
    {
     "data": {
      "image/png": "[encoded data removed]",
      "text/plain": [
       "<Figure size 576x432 with 2 Axes>"
      ]
     },
     "metadata": {
      "needs_background": "light"
     },
     "output_type": "display_data"
    }
   ],
   "source": [
    "prediction(lr,X_train_tfidf1,y_train,X_val_tfidf1,y_val)"
   ]
  },
  {
   "cell_type": "code",
   "execution_count": 81,
   "metadata": {},
   "outputs": [
    {
     "data": {
      "text/html": [
       "<div>\n",
       "<style scoped>\n",
       "    .dataframe tbody tr th:only-of-type {\n",
       "        vertical-align: middle;\n",
       "    }\n",
       "\n",
       "    .dataframe tbody tr th {\n",
       "        vertical-align: top;\n",
       "    }\n",
       "\n",
       "    .dataframe thead th {\n",
       "        text-align: right;\n",
       "    }\n",
       "</style>\n",
       "<table border=\"1\" class=\"dataframe\">\n",
       "  <thead>\n",
       "    <tr style=\"text-align: right;\">\n",
       "      <th></th>\n",
       "      <th>Accuracy</th>\n",
       "      <th>Precision</th>\n",
       "      <th>Recall</th>\n",
       "      <th>F1</th>\n",
       "      <th>ROCAUC</th>\n",
       "    </tr>\n",
       "  </thead>\n",
       "  <tbody>\n",
       "    <tr>\n",
       "      <th>0</th>\n",
       "      <td>0.926038</td>\n",
       "      <td>0.935152</td>\n",
       "      <td>0.92603</td>\n",
       "      <td>0.926951</td>\n",
       "      <td>0.985613</td>\n",
       "    </tr>\n",
       "  </tbody>\n",
       "</table>\n",
       "</div>"
      ],
      "text/plain": [
       "   Accuracy  Precision   Recall        F1    ROCAUC\n",
       "0  0.926038   0.935152  0.92603  0.926951  0.985613"
      ]
     },
     "execution_count": 81,
     "metadata": {},
     "output_type": "execute_result"
    }
   ],
   "source": [
    "mod18 = prediction.results\n",
    "mod18"
   ]
  },
  {
   "cell_type": "markdown",
   "metadata": {},
   "source": [
    "### Random Forest"
   ]
  },
  {
   "cell_type": "code",
   "execution_count": 82,
   "metadata": {},
   "outputs": [
    {
     "name": "stdout",
     "output_type": "stream",
     "text": [
      "              precision    recall  f1-score   support\n",
      "\n",
      "          -1       0.98      0.89      0.93       442\n",
      "           0       0.89      0.98      0.93       442\n",
      "           1       0.98      0.96      0.97       441\n",
      "\n",
      "    accuracy                           0.94      1325\n",
      "   macro avg       0.95      0.94      0.95      1325\n",
      "weighted avg       0.95      0.94      0.94      1325\n",
      "\n"
     ]
    },
    {
     "data": {
      "image/png": "[encoded data removed]",
      "text/plain": [
       "<Figure size 576x432 with 2 Axes>"
      ]
     },
     "metadata": {
      "needs_background": "light"
     },
     "output_type": "display_data"
    }
   ],
   "source": [
    "prediction(rf,X_train_tfidf1,y_train,X_val_tfidf1,y_val)"
   ]
  },
  {
   "cell_type": "code",
   "execution_count": 83,
   "metadata": {},
   "outputs": [
    {
     "data": {
      "text/html": [
       "<div>\n",
       "<style scoped>\n",
       "    .dataframe tbody tr th:only-of-type {\n",
       "        vertical-align: middle;\n",
       "    }\n",
       "\n",
       "    .dataframe tbody tr th {\n",
       "        vertical-align: top;\n",
       "    }\n",
       "\n",
       "    .dataframe thead th {\n",
       "        text-align: right;\n",
       "    }\n",
       "</style>\n",
       "<table border=\"1\" class=\"dataframe\">\n",
       "  <thead>\n",
       "    <tr style=\"text-align: right;\">\n",
       "      <th></th>\n",
       "      <th>Accuracy</th>\n",
       "      <th>Precision</th>\n",
       "      <th>Recall</th>\n",
       "      <th>F1</th>\n",
       "      <th>ROCAUC</th>\n",
       "    </tr>\n",
       "  </thead>\n",
       "  <tbody>\n",
       "    <tr>\n",
       "      <th>0</th>\n",
       "      <td>0.944906</td>\n",
       "      <td>0.948472</td>\n",
       "      <td>0.94492</td>\n",
       "      <td>0.945006</td>\n",
       "      <td>0.985659</td>\n",
       "    </tr>\n",
       "  </tbody>\n",
       "</table>\n",
       "</div>"
      ],
      "text/plain": [
       "   Accuracy  Precision   Recall        F1    ROCAUC\n",
       "0  0.944906   0.948472  0.94492  0.945006  0.985659"
      ]
     },
     "execution_count": 83,
     "metadata": {},
     "output_type": "execute_result"
    }
   ],
   "source": [
    "mod19 = prediction.results\n",
    "mod19"
   ]
  },
  {
   "cell_type": "markdown",
   "metadata": {},
   "source": [
    "### Support Vector Machine"
   ]
  },
  {
   "cell_type": "code",
   "execution_count": 84,
   "metadata": {},
   "outputs": [
    {
     "name": "stdout",
     "output_type": "stream",
     "text": [
      "              precision    recall  f1-score   support\n",
      "\n",
      "          -1       0.99      0.88      0.93       442\n",
      "           0       0.86      0.99      0.92       442\n",
      "           1       0.99      0.95      0.97       441\n",
      "\n",
      "    accuracy                           0.94      1325\n",
      "   macro avg       0.95      0.94      0.94      1325\n",
      "weighted avg       0.95      0.94      0.94      1325\n",
      "\n"
     ]
    },
    {
     "data": {
      "image/png": "[encoded data removed]",
      "text/plain": [
       "<Figure size 576x432 with 2 Axes>"
      ]
     },
     "metadata": {
      "needs_background": "light"
     },
     "output_type": "display_data"
    }
   ],
   "source": [
    "prediction(svm,X_train_tfidf1,y_train,X_val_tfidf1,y_val)"
   ]
  },
  {
   "cell_type": "code",
   "execution_count": 85,
   "metadata": {},
   "outputs": [
    {
     "data": {
      "text/html": [
       "<div>\n",
       "<style scoped>\n",
       "    .dataframe tbody tr th:only-of-type {\n",
       "        vertical-align: middle;\n",
       "    }\n",
       "\n",
       "    .dataframe tbody tr th {\n",
       "        vertical-align: top;\n",
       "    }\n",
       "\n",
       "    .dataframe thead th {\n",
       "        text-align: right;\n",
       "    }\n",
       "</style>\n",
       "<table border=\"1\" class=\"dataframe\">\n",
       "  <thead>\n",
       "    <tr style=\"text-align: right;\">\n",
       "      <th></th>\n",
       "      <th>Accuracy</th>\n",
       "      <th>Precision</th>\n",
       "      <th>Recall</th>\n",
       "      <th>F1</th>\n",
       "      <th>ROCAUC</th>\n",
       "    </tr>\n",
       "  </thead>\n",
       "  <tbody>\n",
       "    <tr>\n",
       "      <th>0</th>\n",
       "      <td>0.940377</td>\n",
       "      <td>0.946612</td>\n",
       "      <td>0.940381</td>\n",
       "      <td>0.940834</td>\n",
       "      <td>0.990037</td>\n",
       "    </tr>\n",
       "  </tbody>\n",
       "</table>\n",
       "</div>"
      ],
      "text/plain": [
       "   Accuracy  Precision    Recall        F1    ROCAUC\n",
       "0  0.940377   0.946612  0.940381  0.940834  0.990037"
      ]
     },
     "execution_count": 85,
     "metadata": {},
     "output_type": "execute_result"
    }
   ],
   "source": [
    "mod20 = prediction.results\n",
    "mod20"
   ]
  },
  {
   "cell_type": "markdown",
   "metadata": {},
   "source": [
    "## TFIDF Bigrams"
   ]
  },
  {
   "cell_type": "markdown",
   "metadata": {},
   "source": [
    "### Naive Bayes"
   ]
  },
  {
   "cell_type": "code",
   "execution_count": 86,
   "metadata": {},
   "outputs": [
    {
     "name": "stdout",
     "output_type": "stream",
     "text": [
      "              precision    recall  f1-score   support\n",
      "\n",
      "          -1       0.87      0.90      0.88       442\n",
      "           0       0.87      0.81      0.84       442\n",
      "           1       0.91      0.93      0.92       441\n",
      "\n",
      "    accuracy                           0.88      1325\n",
      "   macro avg       0.88      0.88      0.88      1325\n",
      "weighted avg       0.88      0.88      0.88      1325\n",
      "\n"
     ]
    },
    {
     "data": {
      "image/png": "[encoded data removed]",
      "text/plain": [
       "<Figure size 576x432 with 2 Axes>"
      ]
     },
     "metadata": {
      "needs_background": "light"
     },
     "output_type": "display_data"
    }
   ],
   "source": [
    "prediction(nb,X_train_tfidf2,y_train,X_val_tfidf2,y_val)"
   ]
  },
  {
   "cell_type": "code",
   "execution_count": 87,
   "metadata": {},
   "outputs": [
    {
     "data": {
      "text/html": [
       "<div>\n",
       "<style scoped>\n",
       "    .dataframe tbody tr th:only-of-type {\n",
       "        vertical-align: middle;\n",
       "    }\n",
       "\n",
       "    .dataframe tbody tr th {\n",
       "        vertical-align: top;\n",
       "    }\n",
       "\n",
       "    .dataframe thead th {\n",
       "        text-align: right;\n",
       "    }\n",
       "</style>\n",
       "<table border=\"1\" class=\"dataframe\">\n",
       "  <thead>\n",
       "    <tr style=\"text-align: right;\">\n",
       "      <th></th>\n",
       "      <th>Accuracy</th>\n",
       "      <th>Precision</th>\n",
       "      <th>Recall</th>\n",
       "      <th>F1</th>\n",
       "      <th>ROCAUC</th>\n",
       "    </tr>\n",
       "  </thead>\n",
       "  <tbody>\n",
       "    <tr>\n",
       "      <th>0</th>\n",
       "      <td>0.88</td>\n",
       "      <td>0.879698</td>\n",
       "      <td>0.880037</td>\n",
       "      <td>0.879347</td>\n",
       "      <td>0.968958</td>\n",
       "    </tr>\n",
       "  </tbody>\n",
       "</table>\n",
       "</div>"
      ],
      "text/plain": [
       "   Accuracy  Precision    Recall        F1    ROCAUC\n",
       "0      0.88   0.879698  0.880037  0.879347  0.968958"
      ]
     },
     "execution_count": 87,
     "metadata": {},
     "output_type": "execute_result"
    }
   ],
   "source": [
    "mod21 = prediction.results\n",
    "mod21"
   ]
  },
  {
   "cell_type": "markdown",
   "metadata": {},
   "source": [
    "### Logistic Regression"
   ]
  },
  {
   "cell_type": "code",
   "execution_count": 88,
   "metadata": {},
   "outputs": [
    {
     "name": "stdout",
     "output_type": "stream",
     "text": [
      "              precision    recall  f1-score   support\n",
      "\n",
      "          -1       0.97      0.87      0.92       442\n",
      "           0       0.83      0.98      0.90       442\n",
      "           1       0.99      0.92      0.95       441\n",
      "\n",
      "    accuracy                           0.92      1325\n",
      "   macro avg       0.93      0.92      0.92      1325\n",
      "weighted avg       0.93      0.92      0.92      1325\n",
      "\n"
     ]
    },
    {
     "data": {
      "image/png": "[encoded data removed]",
      "text/plain": [
       "<Figure size 576x432 with 2 Axes>"
      ]
     },
     "metadata": {
      "needs_background": "light"
     },
     "output_type": "display_data"
    }
   ],
   "source": [
    "prediction(lr,X_train_tfidf2,y_train,X_val_tfidf2,y_val)"
   ]
  },
  {
   "cell_type": "code",
   "execution_count": 89,
   "metadata": {},
   "outputs": [
    {
     "data": {
      "text/html": [
       "<div>\n",
       "<style scoped>\n",
       "    .dataframe tbody tr th:only-of-type {\n",
       "        vertical-align: middle;\n",
       "    }\n",
       "\n",
       "    .dataframe tbody tr th {\n",
       "        vertical-align: top;\n",
       "    }\n",
       "\n",
       "    .dataframe thead th {\n",
       "        text-align: right;\n",
       "    }\n",
       "</style>\n",
       "<table border=\"1\" class=\"dataframe\">\n",
       "  <thead>\n",
       "    <tr style=\"text-align: right;\">\n",
       "      <th></th>\n",
       "      <th>Accuracy</th>\n",
       "      <th>Precision</th>\n",
       "      <th>Recall</th>\n",
       "      <th>F1</th>\n",
       "      <th>ROCAUC</th>\n",
       "    </tr>\n",
       "  </thead>\n",
       "  <tbody>\n",
       "    <tr>\n",
       "      <th>0</th>\n",
       "      <td>0.922264</td>\n",
       "      <td>0.930799</td>\n",
       "      <td>0.922265</td>\n",
       "      <td>0.923197</td>\n",
       "      <td>0.980927</td>\n",
       "    </tr>\n",
       "  </tbody>\n",
       "</table>\n",
       "</div>"
      ],
      "text/plain": [
       "   Accuracy  Precision    Recall        F1    ROCAUC\n",
       "0  0.922264   0.930799  0.922265  0.923197  0.980927"
      ]
     },
     "execution_count": 89,
     "metadata": {},
     "output_type": "execute_result"
    }
   ],
   "source": [
    "mod22 = prediction.results\n",
    "mod22"
   ]
  },
  {
   "cell_type": "markdown",
   "metadata": {},
   "source": [
    "### Random Forest"
   ]
  },
  {
   "cell_type": "code",
   "execution_count": 90,
   "metadata": {},
   "outputs": [
    {
     "name": "stdout",
     "output_type": "stream",
     "text": [
      "              precision    recall  f1-score   support\n",
      "\n",
      "          -1       0.97      0.87      0.92       442\n",
      "           0       0.88      0.98      0.92       442\n",
      "           1       0.97      0.97      0.97       441\n",
      "\n",
      "    accuracy                           0.94      1325\n",
      "   macro avg       0.94      0.94      0.94      1325\n",
      "weighted avg       0.94      0.94      0.94      1325\n",
      "\n"
     ]
    },
    {
     "data": {
      "image/png": "[encoded data removed]",
      "text/plain": [
       "<Figure size 576x432 with 2 Axes>"
      ]
     },
     "metadata": {
      "needs_background": "light"
     },
     "output_type": "display_data"
    }
   ],
   "source": [
    "prediction(rf,X_train_tfidf2,y_train,X_val_tfidf2,y_val)"
   ]
  },
  {
   "cell_type": "code",
   "execution_count": 91,
   "metadata": {},
   "outputs": [
    {
     "data": {
      "text/html": [
       "<div>\n",
       "<style scoped>\n",
       "    .dataframe tbody tr th:only-of-type {\n",
       "        vertical-align: middle;\n",
       "    }\n",
       "\n",
       "    .dataframe tbody tr th {\n",
       "        vertical-align: top;\n",
       "    }\n",
       "\n",
       "    .dataframe thead th {\n",
       "        text-align: right;\n",
       "    }\n",
       "</style>\n",
       "<table border=\"1\" class=\"dataframe\">\n",
       "  <thead>\n",
       "    <tr style=\"text-align: right;\">\n",
       "      <th></th>\n",
       "      <th>Accuracy</th>\n",
       "      <th>Precision</th>\n",
       "      <th>Recall</th>\n",
       "      <th>F1</th>\n",
       "      <th>ROCAUC</th>\n",
       "    </tr>\n",
       "  </thead>\n",
       "  <tbody>\n",
       "    <tr>\n",
       "      <th>0</th>\n",
       "      <td>0.939623</td>\n",
       "      <td>0.943094</td>\n",
       "      <td>0.939646</td>\n",
       "      <td>0.93962</td>\n",
       "      <td>0.982605</td>\n",
       "    </tr>\n",
       "  </tbody>\n",
       "</table>\n",
       "</div>"
      ],
      "text/plain": [
       "   Accuracy  Precision    Recall       F1    ROCAUC\n",
       "0  0.939623   0.943094  0.939646  0.93962  0.982605"
      ]
     },
     "execution_count": 91,
     "metadata": {},
     "output_type": "execute_result"
    }
   ],
   "source": [
    "mod23 = prediction.results\n",
    "mod23"
   ]
  },
  {
   "cell_type": "markdown",
   "metadata": {},
   "source": [
    "### SVM"
   ]
  },
  {
   "cell_type": "code",
   "execution_count": 92,
   "metadata": {},
   "outputs": [
    {
     "name": "stdout",
     "output_type": "stream",
     "text": [
      "              precision    recall  f1-score   support\n",
      "\n",
      "          -1       0.98      0.88      0.93       442\n",
      "           0       0.86      0.99      0.92       442\n",
      "           1       0.98      0.95      0.97       441\n",
      "\n",
      "    accuracy                           0.94      1325\n",
      "   macro avg       0.94      0.94      0.94      1325\n",
      "weighted avg       0.94      0.94      0.94      1325\n",
      "\n"
     ]
    },
    {
     "data": {
      "image/png": "[encoded data removed]",
      "text/plain": [
       "<Figure size 576x432 with 2 Axes>"
      ]
     },
     "metadata": {
      "needs_background": "light"
     },
     "output_type": "display_data"
    }
   ],
   "source": [
    "prediction(svm,X_train_tfidf2,y_train,X_val_tfidf2,y_val)"
   ]
  },
  {
   "cell_type": "code",
   "execution_count": 93,
   "metadata": {},
   "outputs": [
    {
     "data": {
      "text/html": [
       "<div>\n",
       "<style scoped>\n",
       "    .dataframe tbody tr th:only-of-type {\n",
       "        vertical-align: middle;\n",
       "    }\n",
       "\n",
       "    .dataframe tbody tr th {\n",
       "        vertical-align: top;\n",
       "    }\n",
       "\n",
       "    .dataframe thead th {\n",
       "        text-align: right;\n",
       "    }\n",
       "</style>\n",
       "<table border=\"1\" class=\"dataframe\">\n",
       "  <thead>\n",
       "    <tr style=\"text-align: right;\">\n",
       "      <th></th>\n",
       "      <th>Accuracy</th>\n",
       "      <th>Precision</th>\n",
       "      <th>Recall</th>\n",
       "      <th>F1</th>\n",
       "      <th>ROCAUC</th>\n",
       "    </tr>\n",
       "  </thead>\n",
       "  <tbody>\n",
       "    <tr>\n",
       "      <th>0</th>\n",
       "      <td>0.937358</td>\n",
       "      <td>0.943398</td>\n",
       "      <td>0.937366</td>\n",
       "      <td>0.937758</td>\n",
       "      <td>0.98339</td>\n",
       "    </tr>\n",
       "  </tbody>\n",
       "</table>\n",
       "</div>"
      ],
      "text/plain": [
       "   Accuracy  Precision    Recall        F1   ROCAUC\n",
       "0  0.937358   0.943398  0.937366  0.937758  0.98339"
      ]
     },
     "execution_count": 93,
     "metadata": {},
     "output_type": "execute_result"
    }
   ],
   "source": [
    "mod24 = prediction.results\n",
    "mod24"
   ]
  },
  {
   "cell_type": "markdown",
   "metadata": {},
   "source": [
    "# Section 10: Summarised Results Tables"
   ]
  },
  {
   "cell_type": "markdown",
   "metadata": {},
   "source": [
    "### Feature Presence"
   ]
  },
  {
   "cell_type": "code",
   "execution_count": 94,
   "metadata": {},
   "outputs": [
    {
     "data": {
      "text/html": [
       "<div>\n",
       "<style scoped>\n",
       "    .dataframe tbody tr th:only-of-type {\n",
       "        vertical-align: middle;\n",
       "    }\n",
       "\n",
       "    .dataframe tbody tr th {\n",
       "        vertical-align: top;\n",
       "    }\n",
       "\n",
       "    .dataframe thead th {\n",
       "        text-align: right;\n",
       "    }\n",
       "</style>\n",
       "<table border=\"1\" class=\"dataframe\">\n",
       "  <thead>\n",
       "    <tr style=\"text-align: right;\">\n",
       "      <th></th>\n",
       "      <th>Accuracy</th>\n",
       "      <th>Precision</th>\n",
       "      <th>Recall</th>\n",
       "      <th>F1</th>\n",
       "      <th>ROCAUC</th>\n",
       "    </tr>\n",
       "  </thead>\n",
       "  <tbody>\n",
       "    <tr>\n",
       "      <th>Support Vector Machine</th>\n",
       "      <td>0.950943</td>\n",
       "      <td>0.953759</td>\n",
       "      <td>0.950963</td>\n",
       "      <td>0.950976</td>\n",
       "      <td>0.991831</td>\n",
       "    </tr>\n",
       "    <tr>\n",
       "      <th>Logistic Regression</th>\n",
       "      <td>0.932075</td>\n",
       "      <td>0.941161</td>\n",
       "      <td>0.932072</td>\n",
       "      <td>0.932976</td>\n",
       "      <td>0.987268</td>\n",
       "    </tr>\n",
       "    <tr>\n",
       "      <th>Random Forest</th>\n",
       "      <td>0.928302</td>\n",
       "      <td>0.929809</td>\n",
       "      <td>0.928323</td>\n",
       "      <td>0.928542</td>\n",
       "      <td>0.981981</td>\n",
       "    </tr>\n",
       "    <tr>\n",
       "      <th>Multinomial NB</th>\n",
       "      <td>0.876226</td>\n",
       "      <td>0.877567</td>\n",
       "      <td>0.876275</td>\n",
       "      <td>0.874784</td>\n",
       "      <td>0.973763</td>\n",
       "    </tr>\n",
       "  </tbody>\n",
       "</table>\n",
       "</div>"
      ],
      "text/plain": [
       "                        Accuracy  Precision    Recall        F1    ROCAUC\n",
       "Support Vector Machine  0.950943   0.953759  0.950963  0.950976  0.991831\n",
       "Logistic Regression     0.932075   0.941161  0.932072  0.932976  0.987268\n",
       "Random Forest           0.928302   0.929809  0.928323  0.928542  0.981981\n",
       "Multinomial NB          0.876226   0.877567  0.876275  0.874784  0.973763"
      ]
     },
     "execution_count": 94,
     "metadata": {},
     "output_type": "execute_result"
    }
   ],
   "source": [
    "models = [\"Multinomial NB\",\"Logistic Regression\",\"Random Forest\",\"Support Vector Machine\"]\n",
    "\n",
    "model_summary_fp = pd.concat([mod1,mod2,mod3,mod4])\n",
    "model_summary_fp.set_index([models],inplace = True)\n",
    "model_summary_fp\n",
    "model_summary_fp.sort_values(by = \"ROCAUC\",ascending = False)"
   ]
  },
  {
   "cell_type": "markdown",
   "metadata": {},
   "source": [
    "### Feature Presence Ngram"
   ]
  },
  {
   "cell_type": "code",
   "execution_count": 95,
   "metadata": {},
   "outputs": [
    {
     "data": {
      "text/html": [
       "<div>\n",
       "<style scoped>\n",
       "    .dataframe tbody tr th:only-of-type {\n",
       "        vertical-align: middle;\n",
       "    }\n",
       "\n",
       "    .dataframe tbody tr th {\n",
       "        vertical-align: top;\n",
       "    }\n",
       "\n",
       "    .dataframe thead th {\n",
       "        text-align: right;\n",
       "    }\n",
       "</style>\n",
       "<table border=\"1\" class=\"dataframe\">\n",
       "  <thead>\n",
       "    <tr style=\"text-align: right;\">\n",
       "      <th></th>\n",
       "      <th>Accuracy</th>\n",
       "      <th>Precision</th>\n",
       "      <th>Recall</th>\n",
       "      <th>F1</th>\n",
       "      <th>ROCAUC</th>\n",
       "    </tr>\n",
       "  </thead>\n",
       "  <tbody>\n",
       "    <tr>\n",
       "      <th>Support Vector Machine</th>\n",
       "      <td>0.944151</td>\n",
       "      <td>0.948011</td>\n",
       "      <td>0.944169</td>\n",
       "      <td>0.944219</td>\n",
       "      <td>0.989851</td>\n",
       "    </tr>\n",
       "    <tr>\n",
       "      <th>Logistic Regression</th>\n",
       "      <td>0.923774</td>\n",
       "      <td>0.934997</td>\n",
       "      <td>0.923770</td>\n",
       "      <td>0.924825</td>\n",
       "      <td>0.986072</td>\n",
       "    </tr>\n",
       "    <tr>\n",
       "      <th>Random Forest</th>\n",
       "      <td>0.917736</td>\n",
       "      <td>0.922049</td>\n",
       "      <td>0.917750</td>\n",
       "      <td>0.918369</td>\n",
       "      <td>0.980468</td>\n",
       "    </tr>\n",
       "    <tr>\n",
       "      <th>Multinomial NB</th>\n",
       "      <td>0.872453</td>\n",
       "      <td>0.874281</td>\n",
       "      <td>0.872508</td>\n",
       "      <td>0.870480</td>\n",
       "      <td>0.972663</td>\n",
       "    </tr>\n",
       "  </tbody>\n",
       "</table>\n",
       "</div>"
      ],
      "text/plain": [
       "                        Accuracy  Precision    Recall        F1    ROCAUC\n",
       "Support Vector Machine  0.944151   0.948011  0.944169  0.944219  0.989851\n",
       "Logistic Regression     0.923774   0.934997  0.923770  0.924825  0.986072\n",
       "Random Forest           0.917736   0.922049  0.917750  0.918369  0.980468\n",
       "Multinomial NB          0.872453   0.874281  0.872508  0.870480  0.972663"
      ]
     },
     "execution_count": 95,
     "metadata": {},
     "output_type": "execute_result"
    }
   ],
   "source": [
    "models = [\"Multinomial NB\",\"Logistic Regression\",\"Random Forest\",\"Support Vector Machine\"]\n",
    "\n",
    "model_summary_fp_ngram = pd.concat([mod5,mod6,mod7,mod8])\n",
    "model_summary_fp_ngram.set_index([models],inplace = True)\n",
    "model_summary_fp_ngram\n",
    "model_summary_fp_ngram.sort_values(by = \"ROCAUC\",ascending = False)"
   ]
  },
  {
   "cell_type": "markdown",
   "metadata": {},
   "source": [
    "### BOWs"
   ]
  },
  {
   "cell_type": "code",
   "execution_count": 96,
   "metadata": {},
   "outputs": [
    {
     "data": {
      "text/html": [
       "<div>\n",
       "<style scoped>\n",
       "    .dataframe tbody tr th:only-of-type {\n",
       "        vertical-align: middle;\n",
       "    }\n",
       "\n",
       "    .dataframe tbody tr th {\n",
       "        vertical-align: top;\n",
       "    }\n",
       "\n",
       "    .dataframe thead th {\n",
       "        text-align: right;\n",
       "    }\n",
       "</style>\n",
       "<table border=\"1\" class=\"dataframe\">\n",
       "  <thead>\n",
       "    <tr style=\"text-align: right;\">\n",
       "      <th></th>\n",
       "      <th>Accuracy</th>\n",
       "      <th>Precision</th>\n",
       "      <th>Recall</th>\n",
       "      <th>F1</th>\n",
       "      <th>ROCAUC</th>\n",
       "    </tr>\n",
       "  </thead>\n",
       "  <tbody>\n",
       "    <tr>\n",
       "      <th>Support Vector Machine</th>\n",
       "      <td>0.950189</td>\n",
       "      <td>0.952947</td>\n",
       "      <td>0.950209</td>\n",
       "      <td>0.950223</td>\n",
       "      <td>0.991839</td>\n",
       "    </tr>\n",
       "    <tr>\n",
       "      <th>Logistic Regression</th>\n",
       "      <td>0.932830</td>\n",
       "      <td>0.941404</td>\n",
       "      <td>0.932828</td>\n",
       "      <td>0.933642</td>\n",
       "      <td>0.987267</td>\n",
       "    </tr>\n",
       "    <tr>\n",
       "      <th>Random Forest</th>\n",
       "      <td>0.928302</td>\n",
       "      <td>0.929545</td>\n",
       "      <td>0.928325</td>\n",
       "      <td>0.928474</td>\n",
       "      <td>0.980896</td>\n",
       "    </tr>\n",
       "    <tr>\n",
       "      <th>Multinomial NB</th>\n",
       "      <td>0.876226</td>\n",
       "      <td>0.877556</td>\n",
       "      <td>0.876277</td>\n",
       "      <td>0.874773</td>\n",
       "      <td>0.973365</td>\n",
       "    </tr>\n",
       "  </tbody>\n",
       "</table>\n",
       "</div>"
      ],
      "text/plain": [
       "                        Accuracy  Precision    Recall        F1    ROCAUC\n",
       "Support Vector Machine  0.950189   0.952947  0.950209  0.950223  0.991839\n",
       "Logistic Regression     0.932830   0.941404  0.932828  0.933642  0.987267\n",
       "Random Forest           0.928302   0.929545  0.928325  0.928474  0.980896\n",
       "Multinomial NB          0.876226   0.877556  0.876277  0.874773  0.973365"
      ]
     },
     "execution_count": 96,
     "metadata": {},
     "output_type": "execute_result"
    }
   ],
   "source": [
    "models = [\"Multinomial NB\",\"Logistic Regression\",\"Random Forest\",\"Support Vector Machine\"]\n",
    "\n",
    "model_summary_bow = pd.concat([mod9,mod10,mod11,mod12])\n",
    "model_summary_bow.set_index([models],inplace = True)\n",
    "model_summary_bow\n",
    "model_summary_bow.sort_values(by = \"ROCAUC\",ascending = False)"
   ]
  },
  {
   "cell_type": "code",
   "execution_count": 97,
   "metadata": {},
   "outputs": [],
   "source": [
    "# Save to csv\n",
    "#model_summary_bow.to_csv(\"model_summary_bow.csv\")"
   ]
  },
  {
   "cell_type": "markdown",
   "metadata": {},
   "source": [
    "### BOW Ngram"
   ]
  },
  {
   "cell_type": "code",
   "execution_count": 98,
   "metadata": {},
   "outputs": [
    {
     "data": {
      "text/html": [
       "<div>\n",
       "<style scoped>\n",
       "    .dataframe tbody tr th:only-of-type {\n",
       "        vertical-align: middle;\n",
       "    }\n",
       "\n",
       "    .dataframe tbody tr th {\n",
       "        vertical-align: top;\n",
       "    }\n",
       "\n",
       "    .dataframe thead th {\n",
       "        text-align: right;\n",
       "    }\n",
       "</style>\n",
       "<table border=\"1\" class=\"dataframe\">\n",
       "  <thead>\n",
       "    <tr style=\"text-align: right;\">\n",
       "      <th></th>\n",
       "      <th>Accuracy</th>\n",
       "      <th>Precision</th>\n",
       "      <th>Recall</th>\n",
       "      <th>F1</th>\n",
       "      <th>ROCAUC</th>\n",
       "    </tr>\n",
       "  </thead>\n",
       "  <tbody>\n",
       "    <tr>\n",
       "      <th>Multinomial NB</th>\n",
       "      <td>0.869434</td>\n",
       "      <td>0.871287</td>\n",
       "      <td>0.869491</td>\n",
       "      <td>0.867302</td>\n",
       "      <td>0.972294</td>\n",
       "    </tr>\n",
       "    <tr>\n",
       "      <th>Logistic Regression</th>\n",
       "      <td>0.923774</td>\n",
       "      <td>0.934658</td>\n",
       "      <td>0.923770</td>\n",
       "      <td>0.924763</td>\n",
       "      <td>0.986050</td>\n",
       "    </tr>\n",
       "    <tr>\n",
       "      <th>Random Forest</th>\n",
       "      <td>0.917736</td>\n",
       "      <td>0.922028</td>\n",
       "      <td>0.917752</td>\n",
       "      <td>0.918314</td>\n",
       "      <td>0.980240</td>\n",
       "    </tr>\n",
       "    <tr>\n",
       "      <th>Support Vector Machine</th>\n",
       "      <td>0.942642</td>\n",
       "      <td>0.946793</td>\n",
       "      <td>0.942661</td>\n",
       "      <td>0.942702</td>\n",
       "      <td>0.989883</td>\n",
       "    </tr>\n",
       "  </tbody>\n",
       "</table>\n",
       "</div>"
      ],
      "text/plain": [
       "                        Accuracy  Precision    Recall        F1    ROCAUC\n",
       "Multinomial NB          0.869434   0.871287  0.869491  0.867302  0.972294\n",
       "Logistic Regression     0.923774   0.934658  0.923770  0.924763  0.986050\n",
       "Random Forest           0.917736   0.922028  0.917752  0.918314  0.980240\n",
       "Support Vector Machine  0.942642   0.946793  0.942661  0.942702  0.989883"
      ]
     },
     "execution_count": 98,
     "metadata": {},
     "output_type": "execute_result"
    }
   ],
   "source": [
    "model_summary_bow_ngram = pd.concat([mod13, mod14, mod15, mod16])\n",
    "model_summary_bow_ngram.set_index([models],inplace = True)\n",
    "model_summary_bow_ngram.sort_values(by = \"ROCAUC\",ascending = False)\n",
    "model_summary_bow_ngram"
   ]
  },
  {
   "cell_type": "code",
   "execution_count": 99,
   "metadata": {},
   "outputs": [],
   "source": [
    "# Save to csv\n",
    "#model_summary_ngram.to_csv(\"model_summary_ngram.csv\")"
   ]
  },
  {
   "cell_type": "markdown",
   "metadata": {},
   "source": [
    "### TFIDF "
   ]
  },
  {
   "cell_type": "code",
   "execution_count": 100,
   "metadata": {},
   "outputs": [
    {
     "data": {
      "text/html": [
       "<div>\n",
       "<style scoped>\n",
       "    .dataframe tbody tr th:only-of-type {\n",
       "        vertical-align: middle;\n",
       "    }\n",
       "\n",
       "    .dataframe tbody tr th {\n",
       "        vertical-align: top;\n",
       "    }\n",
       "\n",
       "    .dataframe thead th {\n",
       "        text-align: right;\n",
       "    }\n",
       "</style>\n",
       "<table border=\"1\" class=\"dataframe\">\n",
       "  <thead>\n",
       "    <tr style=\"text-align: right;\">\n",
       "      <th></th>\n",
       "      <th>Accuracy</th>\n",
       "      <th>Precision</th>\n",
       "      <th>Recall</th>\n",
       "      <th>F1</th>\n",
       "      <th>ROCAUC</th>\n",
       "    </tr>\n",
       "  </thead>\n",
       "  <tbody>\n",
       "    <tr>\n",
       "      <th>Multinomial NB</th>\n",
       "      <td>0.879245</td>\n",
       "      <td>0.880411</td>\n",
       "      <td>0.879294</td>\n",
       "      <td>0.877707</td>\n",
       "      <td>0.972445</td>\n",
       "    </tr>\n",
       "    <tr>\n",
       "      <th>Logistic Regression</th>\n",
       "      <td>0.926038</td>\n",
       "      <td>0.935152</td>\n",
       "      <td>0.926030</td>\n",
       "      <td>0.926951</td>\n",
       "      <td>0.985613</td>\n",
       "    </tr>\n",
       "    <tr>\n",
       "      <th>Random Forest</th>\n",
       "      <td>0.944906</td>\n",
       "      <td>0.948472</td>\n",
       "      <td>0.944920</td>\n",
       "      <td>0.945006</td>\n",
       "      <td>0.985659</td>\n",
       "    </tr>\n",
       "    <tr>\n",
       "      <th>Support Vector Machine</th>\n",
       "      <td>0.940377</td>\n",
       "      <td>0.946612</td>\n",
       "      <td>0.940381</td>\n",
       "      <td>0.940834</td>\n",
       "      <td>0.990037</td>\n",
       "    </tr>\n",
       "  </tbody>\n",
       "</table>\n",
       "</div>"
      ],
      "text/plain": [
       "                        Accuracy  Precision    Recall        F1    ROCAUC\n",
       "Multinomial NB          0.879245   0.880411  0.879294  0.877707  0.972445\n",
       "Logistic Regression     0.926038   0.935152  0.926030  0.926951  0.985613\n",
       "Random Forest           0.944906   0.948472  0.944920  0.945006  0.985659\n",
       "Support Vector Machine  0.940377   0.946612  0.940381  0.940834  0.990037"
      ]
     },
     "execution_count": 100,
     "metadata": {},
     "output_type": "execute_result"
    }
   ],
   "source": [
    "model_summary_tfidf1 = pd.concat([mod17, mod18, mod19, mod20])\n",
    "model_summary_tfidf1.set_index([models],inplace = True)\n",
    "model_summary_tfidf1.sort_values(by = \"ROCAUC\",ascending = False)\n",
    "model_summary_tfidf1"
   ]
  },
  {
   "cell_type": "code",
   "execution_count": 101,
   "metadata": {},
   "outputs": [],
   "source": [
    "# Save to csv\n",
    "#model_summary_tfidf1.to_csv(\"model_summary_tfidf_bow.csv\")"
   ]
  },
  {
   "cell_type": "markdown",
   "metadata": {},
   "source": [
    "### TFIDF Ngram"
   ]
  },
  {
   "cell_type": "code",
   "execution_count": 102,
   "metadata": {},
   "outputs": [
    {
     "data": {
      "text/html": [
       "<div>\n",
       "<style scoped>\n",
       "    .dataframe tbody tr th:only-of-type {\n",
       "        vertical-align: middle;\n",
       "    }\n",
       "\n",
       "    .dataframe tbody tr th {\n",
       "        vertical-align: top;\n",
       "    }\n",
       "\n",
       "    .dataframe thead th {\n",
       "        text-align: right;\n",
       "    }\n",
       "</style>\n",
       "<table border=\"1\" class=\"dataframe\">\n",
       "  <thead>\n",
       "    <tr style=\"text-align: right;\">\n",
       "      <th></th>\n",
       "      <th>Accuracy</th>\n",
       "      <th>Precision</th>\n",
       "      <th>Recall</th>\n",
       "      <th>F1</th>\n",
       "      <th>ROCAUC</th>\n",
       "    </tr>\n",
       "  </thead>\n",
       "  <tbody>\n",
       "    <tr>\n",
       "      <th>Multinomial NB</th>\n",
       "      <td>0.880000</td>\n",
       "      <td>0.879698</td>\n",
       "      <td>0.880037</td>\n",
       "      <td>0.879347</td>\n",
       "      <td>0.968958</td>\n",
       "    </tr>\n",
       "    <tr>\n",
       "      <th>Logistic Regression</th>\n",
       "      <td>0.922264</td>\n",
       "      <td>0.930799</td>\n",
       "      <td>0.922265</td>\n",
       "      <td>0.923197</td>\n",
       "      <td>0.980927</td>\n",
       "    </tr>\n",
       "    <tr>\n",
       "      <th>Random Forest</th>\n",
       "      <td>0.939623</td>\n",
       "      <td>0.943094</td>\n",
       "      <td>0.939646</td>\n",
       "      <td>0.939620</td>\n",
       "      <td>0.982605</td>\n",
       "    </tr>\n",
       "    <tr>\n",
       "      <th>Support Vector Machine</th>\n",
       "      <td>0.937358</td>\n",
       "      <td>0.943398</td>\n",
       "      <td>0.937366</td>\n",
       "      <td>0.937758</td>\n",
       "      <td>0.983390</td>\n",
       "    </tr>\n",
       "  </tbody>\n",
       "</table>\n",
       "</div>"
      ],
      "text/plain": [
       "                        Accuracy  Precision    Recall        F1    ROCAUC\n",
       "Multinomial NB          0.880000   0.879698  0.880037  0.879347  0.968958\n",
       "Logistic Regression     0.922264   0.930799  0.922265  0.923197  0.980927\n",
       "Random Forest           0.939623   0.943094  0.939646  0.939620  0.982605\n",
       "Support Vector Machine  0.937358   0.943398  0.937366  0.937758  0.983390"
      ]
     },
     "execution_count": 102,
     "metadata": {},
     "output_type": "execute_result"
    }
   ],
   "source": [
    "model_summary_tfidf2 = pd.concat([mod21, mod22, mod23, mod24])\n",
    "model_summary_tfidf2.set_index([models],inplace = True)\n",
    "model_summary_tfidf2.sort_values(by = \"ROCAUC\",ascending = False)\n",
    "model_summary_tfidf2"
   ]
  },
  {
   "cell_type": "markdown",
   "metadata": {},
   "source": [
    "### Summary of all models"
   ]
  },
  {
   "cell_type": "code",
   "execution_count": 103,
   "metadata": {},
   "outputs": [],
   "source": [
    "all_ml_models = pd.concat([model_summary_fp,model_summary_fp_ngram,model_summary_bow,model_summary_bow_ngram,model_summary_tfidf1,model_summary_tfidf2])\n",
    "all_ml_models.index = ['Multinomial NB FP', 'Logistic Regression FP', 'Random Forest FP','Support Vector Machine FP',\n",
    "                       'Multinomial NB FP BIG', 'Logistic Regression FP BIG', 'Random Forest FP BIG','Support Vector Machine FP BIG',\n",
    "                       'Multinomial NB BOW', 'Logistic Regression BOW', 'Random Forest BOW',\n",
    "                       'Support Vector Machine BOW','Multinomial NB BIG', 'Logistic Regression BIG', 'Random Forest BIG',\n",
    "                       'Support Vector Machine BIG','Multinomial NB TFIDF', 'Logistic Regression TFIDF', 'Random Forest TFIDF',\n",
    "                       'Support Vector Machine TFIDF','Multinomial NB TFIDF BIG', 'Logistic Regression TFIDF BIG', 'Random Forest TFIDF BIG',\n",
    "                       'Support Vector Machine TFIDF BIG']"
   ]
  },
  {
   "cell_type": "code",
   "execution_count": 109,
   "metadata": {},
   "outputs": [
    {
     "data": {
      "text/html": [
       "<div>\n",
       "<style scoped>\n",
       "    .dataframe tbody tr th:only-of-type {\n",
       "        vertical-align: middle;\n",
       "    }\n",
       "\n",
       "    .dataframe tbody tr th {\n",
       "        vertical-align: top;\n",
       "    }\n",
       "\n",
       "    .dataframe thead th {\n",
       "        text-align: right;\n",
       "    }\n",
       "</style>\n",
       "<table border=\"1\" class=\"dataframe\">\n",
       "  <thead>\n",
       "    <tr style=\"text-align: right;\">\n",
       "      <th></th>\n",
       "      <th>Accuracy</th>\n",
       "      <th>Precision</th>\n",
       "      <th>Recall</th>\n",
       "      <th>F1</th>\n",
       "      <th>ROCAUC</th>\n",
       "    </tr>\n",
       "  </thead>\n",
       "  <tbody>\n",
       "    <tr>\n",
       "      <th>Support Vector Machine FP</th>\n",
       "      <td>0.950943</td>\n",
       "      <td>0.953759</td>\n",
       "      <td>0.950963</td>\n",
       "      <td>0.950976</td>\n",
       "      <td>0.991831</td>\n",
       "    </tr>\n",
       "    <tr>\n",
       "      <th>Support Vector Machine BOW</th>\n",
       "      <td>0.950189</td>\n",
       "      <td>0.952947</td>\n",
       "      <td>0.950209</td>\n",
       "      <td>0.950223</td>\n",
       "      <td>0.991839</td>\n",
       "    </tr>\n",
       "    <tr>\n",
       "      <th>Random Forest TFIDF</th>\n",
       "      <td>0.944906</td>\n",
       "      <td>0.948472</td>\n",
       "      <td>0.944920</td>\n",
       "      <td>0.945006</td>\n",
       "      <td>0.985659</td>\n",
       "    </tr>\n",
       "    <tr>\n",
       "      <th>Support Vector Machine FP BIG</th>\n",
       "      <td>0.944151</td>\n",
       "      <td>0.948011</td>\n",
       "      <td>0.944169</td>\n",
       "      <td>0.944219</td>\n",
       "      <td>0.989851</td>\n",
       "    </tr>\n",
       "    <tr>\n",
       "      <th>Support Vector Machine BIG</th>\n",
       "      <td>0.942642</td>\n",
       "      <td>0.946793</td>\n",
       "      <td>0.942661</td>\n",
       "      <td>0.942702</td>\n",
       "      <td>0.989883</td>\n",
       "    </tr>\n",
       "    <tr>\n",
       "      <th>Support Vector Machine TFIDF</th>\n",
       "      <td>0.940377</td>\n",
       "      <td>0.946612</td>\n",
       "      <td>0.940381</td>\n",
       "      <td>0.940834</td>\n",
       "      <td>0.990037</td>\n",
       "    </tr>\n",
       "    <tr>\n",
       "      <th>Random Forest TFIDF BIG</th>\n",
       "      <td>0.939623</td>\n",
       "      <td>0.943094</td>\n",
       "      <td>0.939646</td>\n",
       "      <td>0.939620</td>\n",
       "      <td>0.982605</td>\n",
       "    </tr>\n",
       "    <tr>\n",
       "      <th>Support Vector Machine TFIDF BIG</th>\n",
       "      <td>0.937358</td>\n",
       "      <td>0.943398</td>\n",
       "      <td>0.937366</td>\n",
       "      <td>0.937758</td>\n",
       "      <td>0.983390</td>\n",
       "    </tr>\n",
       "    <tr>\n",
       "      <th>Logistic Regression BOW</th>\n",
       "      <td>0.932830</td>\n",
       "      <td>0.941404</td>\n",
       "      <td>0.932828</td>\n",
       "      <td>0.933642</td>\n",
       "      <td>0.987267</td>\n",
       "    </tr>\n",
       "    <tr>\n",
       "      <th>Logistic Regression FP</th>\n",
       "      <td>0.932075</td>\n",
       "      <td>0.941161</td>\n",
       "      <td>0.932072</td>\n",
       "      <td>0.932976</td>\n",
       "      <td>0.987268</td>\n",
       "    </tr>\n",
       "    <tr>\n",
       "      <th>Random Forest FP</th>\n",
       "      <td>0.928302</td>\n",
       "      <td>0.929809</td>\n",
       "      <td>0.928323</td>\n",
       "      <td>0.928542</td>\n",
       "      <td>0.981981</td>\n",
       "    </tr>\n",
       "    <tr>\n",
       "      <th>Random Forest BOW</th>\n",
       "      <td>0.928302</td>\n",
       "      <td>0.929545</td>\n",
       "      <td>0.928325</td>\n",
       "      <td>0.928474</td>\n",
       "      <td>0.980896</td>\n",
       "    </tr>\n",
       "    <tr>\n",
       "      <th>Logistic Regression TFIDF</th>\n",
       "      <td>0.926038</td>\n",
       "      <td>0.935152</td>\n",
       "      <td>0.926030</td>\n",
       "      <td>0.926951</td>\n",
       "      <td>0.985613</td>\n",
       "    </tr>\n",
       "    <tr>\n",
       "      <th>Logistic Regression BIG</th>\n",
       "      <td>0.923774</td>\n",
       "      <td>0.934658</td>\n",
       "      <td>0.923770</td>\n",
       "      <td>0.924763</td>\n",
       "      <td>0.986050</td>\n",
       "    </tr>\n",
       "    <tr>\n",
       "      <th>Logistic Regression FP BIG</th>\n",
       "      <td>0.923774</td>\n",
       "      <td>0.934997</td>\n",
       "      <td>0.923770</td>\n",
       "      <td>0.924825</td>\n",
       "      <td>0.986072</td>\n",
       "    </tr>\n",
       "    <tr>\n",
       "      <th>Logistic Regression TFIDF BIG</th>\n",
       "      <td>0.922264</td>\n",
       "      <td>0.930799</td>\n",
       "      <td>0.922265</td>\n",
       "      <td>0.923197</td>\n",
       "      <td>0.980927</td>\n",
       "    </tr>\n",
       "    <tr>\n",
       "      <th>Random Forest FP BIG</th>\n",
       "      <td>0.917736</td>\n",
       "      <td>0.922049</td>\n",
       "      <td>0.917750</td>\n",
       "      <td>0.918369</td>\n",
       "      <td>0.980468</td>\n",
       "    </tr>\n",
       "    <tr>\n",
       "      <th>Random Forest BIG</th>\n",
       "      <td>0.917736</td>\n",
       "      <td>0.922028</td>\n",
       "      <td>0.917752</td>\n",
       "      <td>0.918314</td>\n",
       "      <td>0.980240</td>\n",
       "    </tr>\n",
       "    <tr>\n",
       "      <th>Multinomial NB TFIDF BIG</th>\n",
       "      <td>0.880000</td>\n",
       "      <td>0.879698</td>\n",
       "      <td>0.880037</td>\n",
       "      <td>0.879347</td>\n",
       "      <td>0.968958</td>\n",
       "    </tr>\n",
       "    <tr>\n",
       "      <th>Multinomial NB TFIDF</th>\n",
       "      <td>0.879245</td>\n",
       "      <td>0.880411</td>\n",
       "      <td>0.879294</td>\n",
       "      <td>0.877707</td>\n",
       "      <td>0.972445</td>\n",
       "    </tr>\n",
       "    <tr>\n",
       "      <th>Multinomial NB FP</th>\n",
       "      <td>0.876226</td>\n",
       "      <td>0.877567</td>\n",
       "      <td>0.876275</td>\n",
       "      <td>0.874784</td>\n",
       "      <td>0.973763</td>\n",
       "    </tr>\n",
       "    <tr>\n",
       "      <th>Multinomial NB BOW</th>\n",
       "      <td>0.876226</td>\n",
       "      <td>0.877556</td>\n",
       "      <td>0.876277</td>\n",
       "      <td>0.874773</td>\n",
       "      <td>0.973365</td>\n",
       "    </tr>\n",
       "    <tr>\n",
       "      <th>Multinomial NB FP BIG</th>\n",
       "      <td>0.872453</td>\n",
       "      <td>0.874281</td>\n",
       "      <td>0.872508</td>\n",
       "      <td>0.870480</td>\n",
       "      <td>0.972663</td>\n",
       "    </tr>\n",
       "    <tr>\n",
       "      <th>Multinomial NB BIG</th>\n",
       "      <td>0.869434</td>\n",
       "      <td>0.871287</td>\n",
       "      <td>0.869491</td>\n",
       "      <td>0.867302</td>\n",
       "      <td>0.972294</td>\n",
       "    </tr>\n",
       "  </tbody>\n",
       "</table>\n",
       "</div>"
      ],
      "text/plain": [
       "                                  Accuracy  Precision    Recall        F1  \\\n",
       "Support Vector Machine FP         0.950943   0.953759  0.950963  0.950976   \n",
       "Support Vector Machine BOW        0.950189   0.952947  0.950209  0.950223   \n",
       "Random Forest TFIDF               0.944906   0.948472  0.944920  0.945006   \n",
       "Support Vector Machine FP BIG     0.944151   0.948011  0.944169  0.944219   \n",
       "Support Vector Machine BIG        0.942642   0.946793  0.942661  0.942702   \n",
       "Support Vector Machine TFIDF      0.940377   0.946612  0.940381  0.940834   \n",
       "Random Forest TFIDF BIG           0.939623   0.943094  0.939646  0.939620   \n",
       "Support Vector Machine TFIDF BIG  0.937358   0.943398  0.937366  0.937758   \n",
       "Logistic Regression BOW           0.932830   0.941404  0.932828  0.933642   \n",
       "Logistic Regression FP            0.932075   0.941161  0.932072  0.932976   \n",
       "Random Forest FP                  0.928302   0.929809  0.928323  0.928542   \n",
       "Random Forest BOW                 0.928302   0.929545  0.928325  0.928474   \n",
       "Logistic Regression TFIDF         0.926038   0.935152  0.926030  0.926951   \n",
       "Logistic Regression BIG           0.923774   0.934658  0.923770  0.924763   \n",
       "Logistic Regression FP BIG        0.923774   0.934997  0.923770  0.924825   \n",
       "Logistic Regression TFIDF BIG     0.922264   0.930799  0.922265  0.923197   \n",
       "Random Forest FP BIG              0.917736   0.922049  0.917750  0.918369   \n",
       "Random Forest BIG                 0.917736   0.922028  0.917752  0.918314   \n",
       "Multinomial NB TFIDF BIG          0.880000   0.879698  0.880037  0.879347   \n",
       "Multinomial NB TFIDF              0.879245   0.880411  0.879294  0.877707   \n",
       "Multinomial NB FP                 0.876226   0.877567  0.876275  0.874784   \n",
       "Multinomial NB BOW                0.876226   0.877556  0.876277  0.874773   \n",
       "Multinomial NB FP BIG             0.872453   0.874281  0.872508  0.870480   \n",
       "Multinomial NB BIG                0.869434   0.871287  0.869491  0.867302   \n",
       "\n",
       "                                    ROCAUC  \n",
       "Support Vector Machine FP         0.991831  \n",
       "Support Vector Machine BOW        0.991839  \n",
       "Random Forest TFIDF               0.985659  \n",
       "Support Vector Machine FP BIG     0.989851  \n",
       "Support Vector Machine BIG        0.989883  \n",
       "Support Vector Machine TFIDF      0.990037  \n",
       "Random Forest TFIDF BIG           0.982605  \n",
       "Support Vector Machine TFIDF BIG  0.983390  \n",
       "Logistic Regression BOW           0.987267  \n",
       "Logistic Regression FP            0.987268  \n",
       "Random Forest FP                  0.981981  \n",
       "Random Forest BOW                 0.980896  \n",
       "Logistic Regression TFIDF         0.985613  \n",
       "Logistic Regression BIG           0.986050  \n",
       "Logistic Regression FP BIG        0.986072  \n",
       "Logistic Regression TFIDF BIG     0.980927  \n",
       "Random Forest FP BIG              0.980468  \n",
       "Random Forest BIG                 0.980240  \n",
       "Multinomial NB TFIDF BIG          0.968958  \n",
       "Multinomial NB TFIDF              0.972445  \n",
       "Multinomial NB FP                 0.973763  \n",
       "Multinomial NB BOW                0.973365  \n",
       "Multinomial NB FP BIG             0.972663  \n",
       "Multinomial NB BIG                0.972294  "
      ]
     },
     "execution_count": 109,
     "metadata": {},
     "output_type": "execute_result"
    }
   ],
   "source": [
    "# Sorted by Accuracy\n",
    "all_ml_models.sort_values(by = \"Accuracy\",ascending = False)"
   ]
  },
  {
   "cell_type": "code",
   "execution_count": 110,
   "metadata": {},
   "outputs": [
    {
     "data": {
      "text/html": [
       "<div>\n",
       "<style scoped>\n",
       "    .dataframe tbody tr th:only-of-type {\n",
       "        vertical-align: middle;\n",
       "    }\n",
       "\n",
       "    .dataframe tbody tr th {\n",
       "        vertical-align: top;\n",
       "    }\n",
       "\n",
       "    .dataframe thead th {\n",
       "        text-align: right;\n",
       "    }\n",
       "</style>\n",
       "<table border=\"1\" class=\"dataframe\">\n",
       "  <thead>\n",
       "    <tr style=\"text-align: right;\">\n",
       "      <th></th>\n",
       "      <th>Accuracy</th>\n",
       "      <th>Precision</th>\n",
       "      <th>Recall</th>\n",
       "      <th>F1</th>\n",
       "      <th>ROCAUC</th>\n",
       "    </tr>\n",
       "  </thead>\n",
       "  <tbody>\n",
       "    <tr>\n",
       "      <th>Support Vector Machine FP</th>\n",
       "      <td>0.950943</td>\n",
       "      <td>0.953759</td>\n",
       "      <td>0.950963</td>\n",
       "      <td>0.950976</td>\n",
       "      <td>0.991831</td>\n",
       "    </tr>\n",
       "    <tr>\n",
       "      <th>Support Vector Machine BOW</th>\n",
       "      <td>0.950189</td>\n",
       "      <td>0.952947</td>\n",
       "      <td>0.950209</td>\n",
       "      <td>0.950223</td>\n",
       "      <td>0.991839</td>\n",
       "    </tr>\n",
       "    <tr>\n",
       "      <th>Random Forest TFIDF</th>\n",
       "      <td>0.944906</td>\n",
       "      <td>0.948472</td>\n",
       "      <td>0.944920</td>\n",
       "      <td>0.945006</td>\n",
       "      <td>0.985659</td>\n",
       "    </tr>\n",
       "    <tr>\n",
       "      <th>Support Vector Machine FP BIG</th>\n",
       "      <td>0.944151</td>\n",
       "      <td>0.948011</td>\n",
       "      <td>0.944169</td>\n",
       "      <td>0.944219</td>\n",
       "      <td>0.989851</td>\n",
       "    </tr>\n",
       "    <tr>\n",
       "      <th>Support Vector Machine BIG</th>\n",
       "      <td>0.942642</td>\n",
       "      <td>0.946793</td>\n",
       "      <td>0.942661</td>\n",
       "      <td>0.942702</td>\n",
       "      <td>0.989883</td>\n",
       "    </tr>\n",
       "  </tbody>\n",
       "</table>\n",
       "</div>"
      ],
      "text/plain": [
       "                               Accuracy  Precision    Recall        F1  \\\n",
       "Support Vector Machine FP      0.950943   0.953759  0.950963  0.950976   \n",
       "Support Vector Machine BOW     0.950189   0.952947  0.950209  0.950223   \n",
       "Random Forest TFIDF            0.944906   0.948472  0.944920  0.945006   \n",
       "Support Vector Machine FP BIG  0.944151   0.948011  0.944169  0.944219   \n",
       "Support Vector Machine BIG     0.942642   0.946793  0.942661  0.942702   \n",
       "\n",
       "                                 ROCAUC  \n",
       "Support Vector Machine FP      0.991831  \n",
       "Support Vector Machine BOW     0.991839  \n",
       "Random Forest TFIDF            0.985659  \n",
       "Support Vector Machine FP BIG  0.989851  \n",
       "Support Vector Machine BIG     0.989883  "
      ]
     },
     "execution_count": 110,
     "metadata": {},
     "output_type": "execute_result"
    }
   ],
   "source": [
    "# Sorted by recall\n",
    "all_ml_models.sort_values(by = \"Accuracy\",ascending = False).head(5)"
   ]
  },
  {
   "cell_type": "code",
   "execution_count": 111,
   "metadata": {},
   "outputs": [
    {
     "data": {
      "text/html": [
       "<div>\n",
       "<style scoped>\n",
       "    .dataframe tbody tr th:only-of-type {\n",
       "        vertical-align: middle;\n",
       "    }\n",
       "\n",
       "    .dataframe tbody tr th {\n",
       "        vertical-align: top;\n",
       "    }\n",
       "\n",
       "    .dataframe thead th {\n",
       "        text-align: right;\n",
       "    }\n",
       "</style>\n",
       "<table border=\"1\" class=\"dataframe\">\n",
       "  <thead>\n",
       "    <tr style=\"text-align: right;\">\n",
       "      <th></th>\n",
       "      <th>Accuracy</th>\n",
       "      <th>Precision</th>\n",
       "      <th>Recall</th>\n",
       "      <th>F1</th>\n",
       "      <th>ROCAUC</th>\n",
       "    </tr>\n",
       "  </thead>\n",
       "  <tbody>\n",
       "    <tr>\n",
       "      <th>Support Vector Machine FP</th>\n",
       "      <td>0.950943</td>\n",
       "      <td>0.953759</td>\n",
       "      <td>0.950963</td>\n",
       "      <td>0.950976</td>\n",
       "      <td>0.991831</td>\n",
       "    </tr>\n",
       "    <tr>\n",
       "      <th>Support Vector Machine BOW</th>\n",
       "      <td>0.950189</td>\n",
       "      <td>0.952947</td>\n",
       "      <td>0.950209</td>\n",
       "      <td>0.950223</td>\n",
       "      <td>0.991839</td>\n",
       "    </tr>\n",
       "    <tr>\n",
       "      <th>Random Forest TFIDF</th>\n",
       "      <td>0.944906</td>\n",
       "      <td>0.948472</td>\n",
       "      <td>0.944920</td>\n",
       "      <td>0.945006</td>\n",
       "      <td>0.985659</td>\n",
       "    </tr>\n",
       "    <tr>\n",
       "      <th>Support Vector Machine FP BIG</th>\n",
       "      <td>0.944151</td>\n",
       "      <td>0.948011</td>\n",
       "      <td>0.944169</td>\n",
       "      <td>0.944219</td>\n",
       "      <td>0.989851</td>\n",
       "    </tr>\n",
       "    <tr>\n",
       "      <th>Support Vector Machine BIG</th>\n",
       "      <td>0.942642</td>\n",
       "      <td>0.946793</td>\n",
       "      <td>0.942661</td>\n",
       "      <td>0.942702</td>\n",
       "      <td>0.989883</td>\n",
       "    </tr>\n",
       "  </tbody>\n",
       "</table>\n",
       "</div>"
      ],
      "text/plain": [
       "                               Accuracy  Precision    Recall        F1  \\\n",
       "Support Vector Machine FP      0.950943   0.953759  0.950963  0.950976   \n",
       "Support Vector Machine BOW     0.950189   0.952947  0.950209  0.950223   \n",
       "Random Forest TFIDF            0.944906   0.948472  0.944920  0.945006   \n",
       "Support Vector Machine FP BIG  0.944151   0.948011  0.944169  0.944219   \n",
       "Support Vector Machine BIG     0.942642   0.946793  0.942661  0.942702   \n",
       "\n",
       "                                 ROCAUC  \n",
       "Support Vector Machine FP      0.991831  \n",
       "Support Vector Machine BOW     0.991839  \n",
       "Random Forest TFIDF            0.985659  \n",
       "Support Vector Machine FP BIG  0.989851  \n",
       "Support Vector Machine BIG     0.989883  "
      ]
     },
     "execution_count": 111,
     "metadata": {},
     "output_type": "execute_result"
    }
   ],
   "source": [
    "# Sorted by F1-score\n",
    "all_ml_models.sort_values(by = \"F1\",ascending = False).head(5)"
   ]
  },
  {
   "cell_type": "code",
   "execution_count": 112,
   "metadata": {},
   "outputs": [
    {
     "data": {
      "text/html": [
       "<div>\n",
       "<style scoped>\n",
       "    .dataframe tbody tr th:only-of-type {\n",
       "        vertical-align: middle;\n",
       "    }\n",
       "\n",
       "    .dataframe tbody tr th {\n",
       "        vertical-align: top;\n",
       "    }\n",
       "\n",
       "    .dataframe thead th {\n",
       "        text-align: right;\n",
       "    }\n",
       "</style>\n",
       "<table border=\"1\" class=\"dataframe\">\n",
       "  <thead>\n",
       "    <tr style=\"text-align: right;\">\n",
       "      <th></th>\n",
       "      <th>Accuracy</th>\n",
       "      <th>Precision</th>\n",
       "      <th>Recall</th>\n",
       "      <th>F1</th>\n",
       "      <th>ROCAUC</th>\n",
       "    </tr>\n",
       "  </thead>\n",
       "  <tbody>\n",
       "    <tr>\n",
       "      <th>Support Vector Machine FP</th>\n",
       "      <td>0.950943</td>\n",
       "      <td>0.953759</td>\n",
       "      <td>0.950963</td>\n",
       "      <td>0.950976</td>\n",
       "      <td>0.991831</td>\n",
       "    </tr>\n",
       "    <tr>\n",
       "      <th>Support Vector Machine BOW</th>\n",
       "      <td>0.950189</td>\n",
       "      <td>0.952947</td>\n",
       "      <td>0.950209</td>\n",
       "      <td>0.950223</td>\n",
       "      <td>0.991839</td>\n",
       "    </tr>\n",
       "    <tr>\n",
       "      <th>Random Forest TFIDF</th>\n",
       "      <td>0.944906</td>\n",
       "      <td>0.948472</td>\n",
       "      <td>0.944920</td>\n",
       "      <td>0.945006</td>\n",
       "      <td>0.985659</td>\n",
       "    </tr>\n",
       "    <tr>\n",
       "      <th>Support Vector Machine FP BIG</th>\n",
       "      <td>0.944151</td>\n",
       "      <td>0.948011</td>\n",
       "      <td>0.944169</td>\n",
       "      <td>0.944219</td>\n",
       "      <td>0.989851</td>\n",
       "    </tr>\n",
       "    <tr>\n",
       "      <th>Support Vector Machine BIG</th>\n",
       "      <td>0.942642</td>\n",
       "      <td>0.946793</td>\n",
       "      <td>0.942661</td>\n",
       "      <td>0.942702</td>\n",
       "      <td>0.989883</td>\n",
       "    </tr>\n",
       "  </tbody>\n",
       "</table>\n",
       "</div>"
      ],
      "text/plain": [
       "                               Accuracy  Precision    Recall        F1  \\\n",
       "Support Vector Machine FP      0.950943   0.953759  0.950963  0.950976   \n",
       "Support Vector Machine BOW     0.950189   0.952947  0.950209  0.950223   \n",
       "Random Forest TFIDF            0.944906   0.948472  0.944920  0.945006   \n",
       "Support Vector Machine FP BIG  0.944151   0.948011  0.944169  0.944219   \n",
       "Support Vector Machine BIG     0.942642   0.946793  0.942661  0.942702   \n",
       "\n",
       "                                 ROCAUC  \n",
       "Support Vector Machine FP      0.991831  \n",
       "Support Vector Machine BOW     0.991839  \n",
       "Random Forest TFIDF            0.985659  \n",
       "Support Vector Machine FP BIG  0.989851  \n",
       "Support Vector Machine BIG     0.989883  "
      ]
     },
     "execution_count": 112,
     "metadata": {},
     "output_type": "execute_result"
    }
   ],
   "source": [
    "# Sorted by ROCAUC\n",
    "all_ml_models.sort_values(by = \"Recall\",ascending = False).head()"
   ]
  },
  {
   "cell_type": "code",
   "execution_count": 113,
   "metadata": {},
   "outputs": [],
   "source": [
    "final_text_models = all_ml_models.sort_values(by = \"ROCAUC\",ascending = False)\n",
    "final_text_models.to_csv(\"TextSentimentModels.csv\")"
   ]
  },
  {
   "cell_type": "markdown",
   "metadata": {},
   "source": [
    "# Section 11: Hyperparameter Tuning"
   ]
  },
  {
   "cell_type": "code",
   "execution_count": 117,
   "metadata": {},
   "outputs": [
    {
     "data": {
      "text/plain": [
       "dict_keys(['C', 'break_ties', 'cache_size', 'class_weight', 'coef0', 'decision_function_shape', 'degree', 'gamma', 'kernel', 'max_iter', 'probability', 'random_state', 'shrinking', 'tol', 'verbose'])"
      ]
     },
     "execution_count": 117,
     "metadata": {},
     "output_type": "execute_result"
    }
   ],
   "source": [
    "best_model = SVC(probability = True)\n",
    "best_model.get_params().keys()"
   ]
  },
  {
   "cell_type": "code",
   "execution_count": 118,
   "metadata": {},
   "outputs": [],
   "source": [
    "# Using feature presence - no need to use weighting as balanced classes but one versus rest roc auc score as multiclass\n",
    "# cv reduced to 5 as model struggling to run\n",
    "params = {'C': [0.1,1, 10, 100], 'gamma': [1,0.1,0.01,0.001],'kernel': ['rbf', 'poly', 'sigmoid','linear']}\n",
    "clf = GridSearchCV(best_model,param_grid = params, cv = 5, scoring = 'accuracy')"
   ]
  },
  {
   "cell_type": "code",
   "execution_count": 119,
   "metadata": {},
   "outputs": [
    {
     "data": {
      "text/plain": [
       "GridSearchCV(cv=5, estimator=SVC(probability=True),\n",
       "             param_grid={'C': [0.1, 1, 10, 100], 'gamma': [1, 0.1, 0.01, 0.001],\n",
       "                         'kernel': ['rbf', 'poly', 'sigmoid', 'linear']},\n",
       "             scoring='accuracy')"
      ]
     },
     "execution_count": 119,
     "metadata": {},
     "output_type": "execute_result"
    }
   ],
   "source": [
    "clf.fit(X_train_fp,y_train)"
   ]
  },
  {
   "cell_type": "code",
   "execution_count": 120,
   "metadata": {},
   "outputs": [
    {
     "name": "stdout",
     "output_type": "stream",
     "text": [
      "Best parameters are: {'C': 100, 'gamma': 0.01, 'kernel': 'rbf'}\n",
      "Best score: 0.9380897895945933\n",
      "Best estimator: SVC(C=100, gamma=0.01, probability=True)\n",
      "\n",
      "\n"
     ]
    }
   ],
   "source": [
    "# Get results\n",
    "def display(results):\n",
    "    print(f'Best parameters are: {results.best_params_}')\n",
    "    print(f'Best score: {results.best_score_}')\n",
    "    print(f'Best estimator: {results.best_estimator_}')\n",
    "    print(\"\\n\")\n",
    "    \n",
    "display(clf)"
   ]
  },
  {
   "cell_type": "markdown",
   "metadata": {},
   "source": [
    "# Section 12: Tuned Model Against the Validation Set"
   ]
  },
  {
   "cell_type": "code",
   "execution_count": 121,
   "metadata": {},
   "outputs": [],
   "source": [
    "# Set up the best model\n",
    "best_model = SVC(C=100, gamma=0.01,kernel='rbf', probability = True)"
   ]
  },
  {
   "cell_type": "code",
   "execution_count": 122,
   "metadata": {},
   "outputs": [
    {
     "name": "stdout",
     "output_type": "stream",
     "text": [
      "              precision    recall  f1-score   support\n",
      "\n",
      "          -1       0.99      0.90      0.94       442\n",
      "           0       0.90      0.98      0.94       442\n",
      "           1       0.97      0.98      0.97       441\n",
      "\n",
      "    accuracy                           0.95      1325\n",
      "   macro avg       0.95      0.95      0.95      1325\n",
      "weighted avg       0.95      0.95      0.95      1325\n",
      "\n"
     ]
    },
    {
     "data": {
      "image/png": "[encoded data removed]",
      "text/plain": [
       "<Figure size 576x432 with 2 Axes>"
      ]
     },
     "metadata": {
      "needs_background": "light"
     },
     "output_type": "display_data"
    },
    {
     "data": {
      "text/html": [
       "<div>\n",
       "<style scoped>\n",
       "    .dataframe tbody tr th:only-of-type {\n",
       "        vertical-align: middle;\n",
       "    }\n",
       "\n",
       "    .dataframe tbody tr th {\n",
       "        vertical-align: top;\n",
       "    }\n",
       "\n",
       "    .dataframe thead th {\n",
       "        text-align: right;\n",
       "    }\n",
       "</style>\n",
       "<table border=\"1\" class=\"dataframe\">\n",
       "  <thead>\n",
       "    <tr style=\"text-align: right;\">\n",
       "      <th></th>\n",
       "      <th>Accuracy</th>\n",
       "      <th>Precision</th>\n",
       "      <th>Recall</th>\n",
       "      <th>F1</th>\n",
       "      <th>ROCAUC</th>\n",
       "    </tr>\n",
       "  </thead>\n",
       "  <tbody>\n",
       "    <tr>\n",
       "      <th>0</th>\n",
       "      <td>0.951698</td>\n",
       "      <td>0.954097</td>\n",
       "      <td>0.951716</td>\n",
       "      <td>0.95164</td>\n",
       "      <td>0.987132</td>\n",
       "    </tr>\n",
       "  </tbody>\n",
       "</table>\n",
       "</div>"
      ],
      "text/plain": [
       "   Accuracy  Precision    Recall       F1    ROCAUC\n",
       "0  0.951698   0.954097  0.951716  0.95164  0.987132"
      ]
     },
     "execution_count": 122,
     "metadata": {},
     "output_type": "execute_result"
    }
   ],
   "source": [
    "prediction(best_model,X_train_fp,y_train,X_val_fp,y_val)\n",
    "best_model_val_results = prediction.results\n",
    "best_model_val_results"
   ]
  },
  {
   "cell_type": "markdown",
   "metadata": {},
   "source": [
    "# Section 13: Best Model Against the Test Set"
   ]
  },
  {
   "cell_type": "code",
   "execution_count": 131,
   "metadata": {},
   "outputs": [
    {
     "name": "stdout",
     "output_type": "stream",
     "text": [
      "              precision    recall  f1-score   support\n",
      "\n",
      "          -1       0.96      0.91      0.93       441\n",
      "           0       0.89      0.97      0.92       441\n",
      "           1       0.98      0.95      0.96       442\n",
      "\n",
      "    accuracy                           0.94      1324\n",
      "   macro avg       0.94      0.94      0.94      1324\n",
      "weighted avg       0.94      0.94      0.94      1324\n",
      "\n"
     ]
    },
    {
     "data": {
      "image/png": "[encoded data removed]",
      "text/plain": [
       "<Figure size 576x432 with 2 Axes>"
      ]
     },
     "metadata": {
      "needs_background": "light"
     },
     "output_type": "display_data"
    },
    {
     "data": {
      "text/html": [
       "<div>\n",
       "<style scoped>\n",
       "    .dataframe tbody tr th:only-of-type {\n",
       "        vertical-align: middle;\n",
       "    }\n",
       "\n",
       "    .dataframe tbody tr th {\n",
       "        vertical-align: top;\n",
       "    }\n",
       "\n",
       "    .dataframe thead th {\n",
       "        text-align: right;\n",
       "    }\n",
       "</style>\n",
       "<table border=\"1\" class=\"dataframe\">\n",
       "  <thead>\n",
       "    <tr style=\"text-align: right;\">\n",
       "      <th></th>\n",
       "      <th>Accuracy</th>\n",
       "      <th>Precision</th>\n",
       "      <th>Recall</th>\n",
       "      <th>F1</th>\n",
       "      <th>ROCAUC</th>\n",
       "    </tr>\n",
       "  </thead>\n",
       "  <tbody>\n",
       "    <tr>\n",
       "      <th>0</th>\n",
       "      <td>0.940332</td>\n",
       "      <td>0.942827</td>\n",
       "      <td>0.940327</td>\n",
       "      <td>0.940625</td>\n",
       "      <td>0.981787</td>\n",
       "    </tr>\n",
       "  </tbody>\n",
       "</table>\n",
       "</div>"
      ],
      "text/plain": [
       "   Accuracy  Precision    Recall        F1    ROCAUC\n",
       "0  0.940332   0.942827  0.940327  0.940625  0.981787"
      ]
     },
     "execution_count": 131,
     "metadata": {},
     "output_type": "execute_result"
    }
   ],
   "source": [
    "prediction(best_model,X_train_fp,y_train,X_test_fp,y_test)\n",
    "best_model_test_results = prediction.results\n",
    "best_model_test_results"
   ]
  },
  {
   "cell_type": "code",
   "execution_count": 142,
   "metadata": {},
   "outputs": [
    {
     "data": {
      "text/html": [
       "<div>\n",
       "<style scoped>\n",
       "    .dataframe tbody tr th:only-of-type {\n",
       "        vertical-align: middle;\n",
       "    }\n",
       "\n",
       "    .dataframe tbody tr th {\n",
       "        vertical-align: top;\n",
       "    }\n",
       "\n",
       "    .dataframe thead th {\n",
       "        text-align: right;\n",
       "    }\n",
       "</style>\n",
       "<table border=\"1\" class=\"dataframe\">\n",
       "  <thead>\n",
       "    <tr style=\"text-align: right;\">\n",
       "      <th></th>\n",
       "      <th>Accuracy</th>\n",
       "      <th>Precision</th>\n",
       "      <th>Recall</th>\n",
       "      <th>F1</th>\n",
       "      <th>ROCAUC</th>\n",
       "    </tr>\n",
       "  </thead>\n",
       "  <tbody>\n",
       "    <tr>\n",
       "      <th>Multi-class Sentiment SVM TFIDF</th>\n",
       "      <td>0.940332</td>\n",
       "      <td>0.942827</td>\n",
       "      <td>0.940327</td>\n",
       "      <td>0.940625</td>\n",
       "      <td>0.981787</td>\n",
       "    </tr>\n",
       "  </tbody>\n",
       "</table>\n",
       "</div>"
      ],
      "text/plain": [
       "                                 Accuracy  Precision    Recall        F1  \\\n",
       "Multi-class Sentiment SVM TFIDF  0.940332   0.942827  0.940327  0.940625   \n",
       "\n",
       "                                   ROCAUC  \n",
       "Multi-class Sentiment SVM TFIDF  0.981787  "
      ]
     },
     "execution_count": 142,
     "metadata": {},
     "output_type": "execute_result"
    }
   ],
   "source": [
    "a = pd.DataFrame({\"Accuracy\":0.940332,\"Precision\":0.942827,\"Recall\":0.940327,\"F1\":0.940625,\"ROCAUC\":0.981787},index = [\"Multi-class Sentiment SVM TFIDF\"])\n",
    "a"
   ]
  },
  {
   "cell_type": "code",
   "execution_count": 143,
   "metadata": {},
   "outputs": [],
   "source": [
    "filename = 'multiclasssentiment_model.sav'\n",
    "pickle.dump(best_model, open(filename, 'wb'))"
   ]
  }
 ],
 "metadata": {
  "kernelspec": {
   "display_name": "Python 3",
   "language": "python",
   "name": "python3"
  },
  "language_info": {
   "codemirror_mode": {
    "name": "ipython",
    "version": 3
   },
   "file_extension": ".py",
   "mimetype": "text/x-python",
   "name": "python",
   "nbconvert_exporter": "python",
   "pygments_lexer": "ipython3",
   "version": "3.7.10"
  }
 },
 "nbformat": 4,
 "nbformat_minor": 4
}
