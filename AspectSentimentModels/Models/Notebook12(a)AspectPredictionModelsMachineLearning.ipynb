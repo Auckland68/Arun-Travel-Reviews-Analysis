{
 "cells": [
  {
   "cell_type": "markdown",
   "id": "5557624d",
   "metadata": {},
   "source": [
    "# Notebook 12 a) Aspect Prediction with Machine Learning Models"
   ]
  },
  {
   "cell_type": "markdown",
   "id": "5a26119a",
   "metadata": {},
   "source": [
    "This notebook investigates predictive models for the aspects part of the review data based on the extracted nouns using ML models. The output is therefore MULTICLASS.\n",
    "\n",
    "* Section 1 - Import libraries and dataset\n",
    "* Section 2 - Pre-processing\n",
    "* Section 3 - Run models\n",
    "* Section 4 - Prediction on validation set\n",
    "\n",
    "Dataset:\n",
    "* combinedaspectcheck.xlsx"
   ]
  },
  {
   "cell_type": "markdown",
   "id": "4c68832c",
   "metadata": {},
   "source": [
    "# Section 1: Import libraries and data"
   ]
  },
  {
   "cell_type": "code",
   "execution_count": 1,
   "id": "350425b4",
   "metadata": {},
   "outputs": [],
   "source": [
    "import pandas as pd\n",
    "import numpy as np\n",
    "import matplotlib.pyplot as plt\n",
    "import seaborn as sns\n",
    "from sklearn import preprocessing\n",
    "from sklearn.model_selection import train_test_split, cross_val_score, StratifiedKFold\n",
    "from sklearn.feature_extraction.text import TfidfVectorizer\n",
    "from sklearn.preprocessing import LabelBinarizer\n",
    "from sklearn.naive_bayes import MultinomialNB\n",
    "from sklearn.linear_model import LogisticRegression\n",
    "from sklearn.ensemble import RandomForestClassifier\n",
    "from sklearn.svm import LinearSVC\n",
    "from sklearn.svm import SVC\n",
    "from sklearn.model_selection import GridSearchCV\n",
    "from sklearn.model_selection import cross_val_score\n",
    "from sklearn.metrics import confusion_matrix, classification_report,accuracy_score, roc_auc_score,precision_score, recall_score, f1_score\n",
    "import joblib\n",
    "import pickle\n",
    "import warnings"
   ]
  },
  {
   "cell_type": "code",
   "execution_count": 2,
   "id": "72052cc7",
   "metadata": {},
   "outputs": [],
   "source": [
    "df_accom = pd.read_excel('combinedaspectcheck.xlsx',sheet_name = 'CLEANEDACCOM')\n",
    "df_food = pd.read_excel(\"combinedaspectcheck.xlsx\",sheet_name = \"CLEANEDFOOD\")\n",
    "df_attract = pd.read_excel(\"combinedaspectcheck.xlsx\", sheet_name = \"CLEANEDATTRACT\")"
   ]
  },
  {
   "cell_type": "code",
   "execution_count": 3,
   "id": "83d51b96",
   "metadata": {},
   "outputs": [
    {
     "data": {
      "text/html": [
       "<div>\n",
       "<style scoped>\n",
       "    .dataframe tbody tr th:only-of-type {\n",
       "        vertical-align: middle;\n",
       "    }\n",
       "\n",
       "    .dataframe tbody tr th {\n",
       "        vertical-align: top;\n",
       "    }\n",
       "\n",
       "    .dataframe thead th {\n",
       "        text-align: right;\n",
       "    }\n",
       "</style>\n",
       "<table border=\"1\" class=\"dataframe\">\n",
       "  <thead>\n",
       "    <tr style=\"text-align: right;\">\n",
       "      <th></th>\n",
       "      <th>OrigInd</th>\n",
       "      <th>Category</th>\n",
       "      <th>Cleaned</th>\n",
       "      <th>Noun Phrases</th>\n",
       "      <th>Nouns</th>\n",
       "      <th>Aspect</th>\n",
       "      <th>Sentiment</th>\n",
       "    </tr>\n",
       "  </thead>\n",
       "  <tbody>\n",
       "    <tr>\n",
       "      <th>0</th>\n",
       "      <td>2030</td>\n",
       "      <td>Accommodation</td>\n",
       "      <td>main complaint room made u feel ill</td>\n",
       "      <td>main complaint room</td>\n",
       "      <td>complaint room</td>\n",
       "      <td>Room</td>\n",
       "      <td>-0.2960</td>\n",
       "    </tr>\n",
       "    <tr>\n",
       "      <th>1</th>\n",
       "      <td>10751</td>\n",
       "      <td>Accommodation</td>\n",
       "      <td>weekend away staff great room clean shower goo...</td>\n",
       "      <td>great room</td>\n",
       "      <td>room</td>\n",
       "      <td>Room</td>\n",
       "      <td>0.6249</td>\n",
       "    </tr>\n",
       "    <tr>\n",
       "      <th>2</th>\n",
       "      <td>11247</td>\n",
       "      <td>Accommodation</td>\n",
       "      <td>great room breakfast fabulous central location</td>\n",
       "      <td>great room breakfast fabulous</td>\n",
       "      <td>room breakfast</td>\n",
       "      <td>Room</td>\n",
       "      <td>0.8176</td>\n",
       "    </tr>\n",
       "    <tr>\n",
       "      <th>3</th>\n",
       "      <td>21902</td>\n",
       "      <td>Accommodation</td>\n",
       "      <td>shower great size well toiletry clean towel pr...</td>\n",
       "      <td>clean towel</td>\n",
       "      <td>towel</td>\n",
       "      <td>Room</td>\n",
       "      <td>0.4019</td>\n",
       "    </tr>\n",
       "    <tr>\n",
       "      <th>4</th>\n",
       "      <td>22835</td>\n",
       "      <td>Accommodation</td>\n",
       "      <td>great bed breakfast stayed week encore guest h...</td>\n",
       "      <td>lovely clean room facility</td>\n",
       "      <td>room facility</td>\n",
       "      <td>Room</td>\n",
       "      <td>0.7579</td>\n",
       "    </tr>\n",
       "  </tbody>\n",
       "</table>\n",
       "</div>"
      ],
      "text/plain": [
       "   OrigInd       Category                                            Cleaned  \\\n",
       "0     2030  Accommodation                main complaint room made u feel ill   \n",
       "1    10751  Accommodation  weekend away staff great room clean shower goo...   \n",
       "2    11247  Accommodation     great room breakfast fabulous central location   \n",
       "3    21902  Accommodation  shower great size well toiletry clean towel pr...   \n",
       "4    22835  Accommodation  great bed breakfast stayed week encore guest h...   \n",
       "\n",
       "                    Noun Phrases           Nouns Aspect  Sentiment  \n",
       "0            main complaint room  complaint room   Room    -0.2960  \n",
       "1                     great room            room   Room     0.6249  \n",
       "2  great room breakfast fabulous  room breakfast   Room     0.8176  \n",
       "3                    clean towel           towel   Room     0.4019  \n",
       "4     lovely clean room facility   room facility   Room     0.7579  "
      ]
     },
     "execution_count": 3,
     "metadata": {},
     "output_type": "execute_result"
    }
   ],
   "source": [
    "df_accom.head()"
   ]
  },
  {
   "cell_type": "markdown",
   "id": "109f9dab",
   "metadata": {},
   "source": [
    "# Section 2: Pre-processing"
   ]
  },
  {
   "cell_type": "code",
   "execution_count": 4,
   "id": "f130a7a2",
   "metadata": {},
   "outputs": [],
   "source": [
    "# Drop column\n",
    "df_accom.drop([\"Category\"],axis = 1, inplace = True)\n",
    "df_food.drop([\"Category\"],axis = 1,inplace = True)\n",
    "df_attract.drop([\"Category\"],axis = 1,inplace = True)"
   ]
  },
  {
   "cell_type": "code",
   "execution_count": 5,
   "id": "be14f627",
   "metadata": {},
   "outputs": [],
   "source": [
    "# Set to title case as some categories are multiples\n",
    "df_accom[\"Aspect\"] = df_accom[\"Aspect\"].apply(lambda x: x.title())"
   ]
  },
  {
   "cell_type": "code",
   "execution_count": 6,
   "id": "67e693bf",
   "metadata": {},
   "outputs": [
    {
     "data": {
      "text/plain": [
       "Staff            350\n",
       "Hotel            350\n",
       "Food             350\n",
       "Room             350\n",
       "Entertainment    350\n",
       "Value            250\n",
       "Location         220\n",
       "Name: Aspect, dtype: int64"
      ]
     },
     "execution_count": 6,
     "metadata": {},
     "output_type": "execute_result"
    }
   ],
   "source": [
    "df_accom[\"Aspect\"].value_counts()"
   ]
  },
  {
   "cell_type": "code",
   "execution_count": 7,
   "id": "4e2cf745",
   "metadata": {},
   "outputs": [
    {
     "data": {
      "text/plain": [
       "Staff&Service    350\n",
       "Value            350\n",
       "Meal Exp         350\n",
       "Menu Choice      350\n",
       "Visit Exp        350\n",
       "Food Quality     350\n",
       "Name: Aspect, dtype: int64"
      ]
     },
     "execution_count": 7,
     "metadata": {},
     "output_type": "execute_result"
    }
   ],
   "source": [
    "df_food[\"Aspect\"].value_counts()"
   ]
  },
  {
   "cell_type": "code",
   "execution_count": 8,
   "id": "85f7cef9",
   "metadata": {},
   "outputs": [
    {
     "data": {
      "text/plain": [
       "Nature           300\n",
       "Activities       300\n",
       "Amenities        300\n",
       "VisitExp&Gen     250\n",
       "Staff&Service    200\n",
       "Value            150\n",
       "History          150\n",
       "Name: Aspect, dtype: int64"
      ]
     },
     "execution_count": 8,
     "metadata": {},
     "output_type": "execute_result"
    }
   ],
   "source": [
    "df_attract[\"Aspect\"].value_counts()"
   ]
  },
  {
   "cell_type": "code",
   "execution_count": 9,
   "id": "efa103cd",
   "metadata": {},
   "outputs": [],
   "source": [
    "# Function to specify X and y\n",
    "def XY(df):\n",
    "    X = df[\"Nouns\"]\n",
    "    y = df[\"Aspect\"]\n",
    "\n",
    "    return X,y"
   ]
  },
  {
   "cell_type": "code",
   "execution_count": 10,
   "id": "e6abd8b1",
   "metadata": {},
   "outputs": [
    {
     "name": "stdout",
     "output_type": "stream",
     "text": [
      "(2220,) (2220,)\n",
      "(2100,) (2100,)\n",
      "(1650,) (1650,)\n"
     ]
    }
   ],
   "source": [
    "# Apply function and print shape\n",
    "X_accom,y_accom = XY(df_accom)\n",
    "X_food,y_food = XY(df_food)\n",
    "X_attract,y_attract = XY(df_attract)\n",
    "\n",
    "print(X_accom.shape,y_accom.shape)\n",
    "print(X_food.shape,y_food.shape)\n",
    "print(X_attract.shape,y_attract.shape)\n"
   ]
  },
  {
   "cell_type": "code",
   "execution_count": 56,
   "id": "906fb44e",
   "metadata": {},
   "outputs": [],
   "source": [
    "# Train, validation split\n",
    "def train_test(X,y):\n",
    "    X_train, X_test, y_train, y_test = train_test_split(X,y, stratify = y,test_size=0.20, shuffle = True)\n",
    "    X_test, X_val, y_test, y_val = train_test_split(X_test, y_test, stratify = y_test,test_size=0.50, shuffle = True)\n",
    "    return X_train,X_val, X_test, y_train,y_val,y_test"
   ]
  },
  {
   "cell_type": "code",
   "execution_count": 57,
   "id": "a250c608",
   "metadata": {},
   "outputs": [],
   "source": [
    "# Run function for each category\n",
    "X_train_accom,X_val_accom,X_test_accom,y_train_accom,y_val_accom,y_test_accom = train_test(X_accom,y_accom)\n",
    "X_train_food,X_val_food,X_test_food,y_train_food,y_val_food,y_test_food = train_test(X_food,y_food)\n",
    "X_train_attract,X_val_attract,X_test_attract,y_train_attract,y_val_attract,y_test_attract = train_test(X_attract,y_attract)"
   ]
  },
  {
   "cell_type": "code",
   "execution_count": 58,
   "id": "0d2b6f4f",
   "metadata": {},
   "outputs": [
    {
     "name": "stdout",
     "output_type": "stream",
     "text": [
      "(1776,) (222,) (222,) (1776,) (222,) (222,)\n",
      "(1680,) (210,) (210,) (1680,) (210,) (210,)\n",
      "(1320,) (165,) (165,) (1320,) (165,) (165,)\n"
     ]
    }
   ],
   "source": [
    "# Shape of training, validation and test sets for each category\n",
    "print(X_train_accom.shape, X_val_accom.shape,X_test_accom.shape, y_train_accom.shape, y_val_accom.shape, y_test_accom.shape)\n",
    "print(X_train_food.shape, X_val_food.shape,X_test_food.shape, y_train_food.shape, y_val_food.shape, y_test_food.shape)\n",
    "print(X_train_attract.shape, X_val_attract.shape,X_test_attract.shape, y_train_attract.shape, y_val_attract.shape, y_test_attract.shape)"
   ]
  },
  {
   "cell_type": "code",
   "execution_count": 59,
   "id": "2cb9b883",
   "metadata": {},
   "outputs": [
    {
     "data": {
      "text/plain": [
       "Staff            280\n",
       "Hotel            280\n",
       "Food             280\n",
       "Room             280\n",
       "Entertainment    280\n",
       "Value            200\n",
       "Location         176\n",
       "Name: Aspect, dtype: int64"
      ]
     },
     "execution_count": 59,
     "metadata": {},
     "output_type": "execute_result"
    }
   ],
   "source": [
    "y_train_accom.value_counts()"
   ]
  },
  {
   "cell_type": "code",
   "execution_count": 163,
   "id": "a2696038",
   "metadata": {},
   "outputs": [],
   "source": [
    "# TFIDF vectorizer function\n",
    "def vec(X_train, X_val, X_test):\n",
    "    vect = TfidfVectorizer(use_idf = True, max_df = 1.0, min_df = 1, stop_words = \"english\", \n",
    "                           ngram_range = (1,1),smooth_idf = True, norm = 'l2')\n",
    "    vect.fit(X_train)\n",
    "    X_train_tfidf = vect.transform(X_train)\n",
    "    X_val_tfidf = vect.transform(X_val)\n",
    "    X_test_tfidf = vect.transform(X_test)\n",
    "    return vect, X_train_tfidf, X_val_tfidf, X_test_tfidf"
   ]
  },
  {
   "cell_type": "code",
   "execution_count": 164,
   "id": "fc0ea857",
   "metadata": {},
   "outputs": [],
   "source": [
    "# Run function\n",
    "accom_vect,X_train_accom_tfidf, X_val_accom_tfidf, X_test_accom_tfidf = vec(X_train_accom, X_val_accom,X_test_accom)\n",
    "food_vect, X_train_food_tfidf, X_val_food_tfidf, X_test_food_tfidf = vec(X_train_food, X_val_food, X_test_food)\n",
    "attract_vect,X_train_attract_tfidf, X_val_attract_tfidf, X_test_attract_tfidf = vec(X_train_attract, X_val_attract,X_test_attract)"
   ]
  },
  {
   "cell_type": "code",
   "execution_count": 62,
   "id": "4171348f",
   "metadata": {},
   "outputs": [],
   "source": [
    "# Function to save tokenizer objects\n",
    "def save_tok(name,file):\n",
    "    with open(name, 'wb') as handle:\n",
    "        pickle.dump(file, handle, protocol = pickle.HIGHEST_PROTOCOL)"
   ]
  },
  {
   "cell_type": "code",
   "execution_count": 177,
   "id": "b8b3a5ff",
   "metadata": {},
   "outputs": [],
   "source": [
    "save_tok('accom_tok.pickle',accom_vect)\n",
    "save_tok('food_tok.pickle',food_vect)\n",
    "save_tok('attract_tok.pickle',attract_vect)"
   ]
  },
  {
   "cell_type": "code",
   "execution_count": 64,
   "id": "238835e4",
   "metadata": {},
   "outputs": [],
   "source": [
    "# Function to encode y values as integer labels (necessary for stratified cross validation as one-hot encoded doesn't work)\n",
    "def lab(y_train, y_val, y_test):\n",
    "    le = preprocessing.LabelEncoder()\n",
    "    y_train_l = le.fit_transform(y_train)\n",
    "    y_val_l = le.transform(y_val)\n",
    "    y_test_l = le.transform(y_test)\n",
    "    return y_train_l, y_val_l, y_test_l"
   ]
  },
  {
   "cell_type": "code",
   "execution_count": 65,
   "id": "a2aef85c",
   "metadata": {},
   "outputs": [],
   "source": [
    "# Apply functions\n",
    "y_train_accom_l, y_val_accom_l, y_test_accom_l = lab(y_train_accom, y_val_accom, y_test_accom)\n",
    "y_train_food_l, y_val_food_l, y_test_food_l = lab(y_train_food, y_val_food, y_test_food)\n",
    "y_train_attract_l, y_val_attract_l, y_test_attract_l = lab(y_train_attract, y_val_attract, y_test_attract)"
   ]
  },
  {
   "cell_type": "code",
   "execution_count": 66,
   "id": "d43b03b9",
   "metadata": {},
   "outputs": [
    {
     "data": {
      "text/plain": [
       "<1776x770 sparse matrix of type '<class 'numpy.float64'>'\n",
       "\twith 3574 stored elements in Compressed Sparse Row format>"
      ]
     },
     "execution_count": 66,
     "metadata": {},
     "output_type": "execute_result"
    }
   ],
   "source": [
    "X_train_accom_tfidf"
   ]
  },
  {
   "cell_type": "code",
   "execution_count": 67,
   "id": "86fc5acc",
   "metadata": {},
   "outputs": [],
   "source": [
    "# Stratified K Fold\n",
    "def strat(model, X_train,y_train,vector):\n",
    "    kfold = StratifiedKFold(n_splits=10, shuffle=True, random_state=1)\n",
    "    cv_results = cross_val_score(model, X_train,y_train, cv=kfold)\n",
    "    mean = cv_results.mean()\n",
    "    df = pd.DataFrame({vector:mean},index = [0])\n",
    "    return df"
   ]
  },
  {
   "cell_type": "markdown",
   "id": "5ed93e96",
   "metadata": {},
   "source": [
    "# Section 3: Run models"
   ]
  },
  {
   "cell_type": "code",
   "execution_count": 68,
   "id": "a61a86c3",
   "metadata": {},
   "outputs": [],
   "source": [
    "# Define models - balanced as some imbalance in classes\n",
    "clf1 = MultinomialNB()\n",
    "clf2 = LogisticRegression(multi_class = 'multinomial', class_weight = \"balanced\")\n",
    "clf3 = RandomForestClassifier(class_weight = \"balanced\")\n",
    "clf4 = SVC(decision_function_shape='ovr',class_weight = \"balanced\", probability = True)"
   ]
  },
  {
   "cell_type": "code",
   "execution_count": 69,
   "id": "415acc41",
   "metadata": {},
   "outputs": [],
   "source": [
    "# Define models and run cross-validation on the training set data only\n",
    "ac1 = strat(clf1, X_train_accom_tfidf, y_train_accom_l,\"NB\")\n",
    "f1 = strat(clf1, X_train_food_tfidf, y_train_food_l,\"NB\")\n",
    "t1 = strat(clf1, X_train_attract_tfidf, y_train_attract_l,\"NB\")\n",
    "\n",
    "ac2 = strat(clf2, X_train_accom_tfidf, y_train_accom_l,\"LR\")\n",
    "f2 = strat(clf2, X_train_food_tfidf, y_train_food_l,\"LR\")\n",
    "t2 = strat(clf2, X_train_attract_tfidf, y_train_attract_l,\"LR\")\n",
    "\n",
    "ac3 = strat(clf3, X_train_accom_tfidf, y_train_accom_l,\"RF\")\n",
    "f3 = strat(clf3, X_train_food_tfidf, y_train_food_l,\"RF\")\n",
    "t3 = strat(clf3, X_train_attract_tfidf, y_train_attract_l,\"RF\")\n",
    "\n",
    "ac4 = strat(clf4, X_train_accom_tfidf, y_train_accom_l,\"SVM\")\n",
    "f4 = strat(clf4, X_train_food_tfidf, y_train_food_l,\"SVM\")\n",
    "t4 = strat(clf4, X_train_attract_tfidf, y_train_attract_l,\"SVM\")"
   ]
  },
  {
   "cell_type": "code",
   "execution_count": 70,
   "id": "9198cc0e",
   "metadata": {},
   "outputs": [
    {
     "data": {
      "text/html": [
       "<div>\n",
       "<style scoped>\n",
       "    .dataframe tbody tr th:only-of-type {\n",
       "        vertical-align: middle;\n",
       "    }\n",
       "\n",
       "    .dataframe tbody tr th {\n",
       "        vertical-align: top;\n",
       "    }\n",
       "\n",
       "    .dataframe thead th {\n",
       "        text-align: right;\n",
       "    }\n",
       "</style>\n",
       "<table border=\"1\" class=\"dataframe\">\n",
       "  <thead>\n",
       "    <tr style=\"text-align: right;\">\n",
       "      <th></th>\n",
       "      <th>NB</th>\n",
       "      <th>LR</th>\n",
       "      <th>RF</th>\n",
       "      <th>SVM</th>\n",
       "    </tr>\n",
       "  </thead>\n",
       "  <tbody>\n",
       "    <tr>\n",
       "      <th>Accom</th>\n",
       "      <td>0.913315</td>\n",
       "      <td>0.914994</td>\n",
       "      <td>0.916092</td>\n",
       "      <td>0.907103</td>\n",
       "    </tr>\n",
       "    <tr>\n",
       "      <th>Food</th>\n",
       "      <td>0.927381</td>\n",
       "      <td>0.954167</td>\n",
       "      <td>0.963690</td>\n",
       "      <td>0.944643</td>\n",
       "    </tr>\n",
       "    <tr>\n",
       "      <th>Attract</th>\n",
       "      <td>0.811364</td>\n",
       "      <td>0.844697</td>\n",
       "      <td>0.801515</td>\n",
       "      <td>0.809848</td>\n",
       "    </tr>\n",
       "  </tbody>\n",
       "</table>\n",
       "</div>"
      ],
      "text/plain": [
       "               NB        LR        RF       SVM\n",
       "Accom    0.913315  0.914994  0.916092  0.907103\n",
       "Food     0.927381  0.954167  0.963690  0.944643\n",
       "Attract  0.811364  0.844697  0.801515  0.809848"
      ]
     },
     "execution_count": 70,
     "metadata": {},
     "output_type": "execute_result"
    }
   ],
   "source": [
    "# Training accuracies all models\n",
    "models = [\"Accom\",\"Food\",\"Attract\"]\n",
    "a = pd.concat([ac1,ac2,ac3,ac4],axis = 1)\n",
    "b = pd.concat([f1,f2,f3,f4],axis = 1)\n",
    "c = pd.concat([t1,t2,t3,t4],axis = 1)\n",
    "all_models = pd.concat([a,b,c],axis = 0)\n",
    "all_models.set_index([models],inplace = True)\n",
    "all_models"
   ]
  },
  {
   "cell_type": "markdown",
   "id": "42157d26",
   "metadata": {},
   "source": [
    "# Section 4: Prediction on validation set"
   ]
  },
  {
   "cell_type": "code",
   "execution_count": 71,
   "id": "a088c05d",
   "metadata": {},
   "outputs": [],
   "source": [
    "# Function to produce predictions and metrics\n",
    "\n",
    "def prediction(model,X_train,y_train,X_val,y_val,labels):\n",
    "    model.fit(X_train,y_train)\n",
    "    y_pred = model.predict(X_val)\n",
    "    target_probs = model.predict_proba(X_val)\n",
    "    #y_class = np.argmax(y_pred, axis = 0)\n",
    "    print(classification_report(y_val, y_pred))\n",
    "    conf_mat = confusion_matrix(y_val, y_pred)\n",
    "    fig, ax = plt.subplots(figsize=(8,6))\n",
    "    ax = sns.heatmap(conf_mat, annot=True, fmt='d', xticklabels = labels, yticklabels = labels,cmap = plt.cm.Blues)\n",
    "    ax.set_ylabel('Actual',labelpad = 10)\n",
    "    ax.set_xlabel('Predicted', labelpad = 13)\n",
    "    \n",
    "    # Test Set Metrics - using weighted average as there is label imbalance. ROCAUC also using one versus rest to\n",
    "    # calculate the average score across classes\n",
    "    accuracy = accuracy_score(y_val, y_pred)\n",
    "    rocauc = roc_auc_score(y_val,target_probs, average = \"weighted\", multi_class='ovr')\n",
    "    precision = precision_score(y_val, y_pred, average='weighted')\n",
    "    recall = recall_score(y_val, y_pred, average='weighted')\n",
    "    f1 = f1_score(y_val, y_pred, average='weighted')\n",
    "    prediction.results = pd.DataFrame({\"Accuracy\":accuracy, \"Precision\":precision, \"Recall\":recall,\n",
    "                                    \"F1\":f1,\"ROCAUC\":rocauc}, index = [0]\n",
    "                                  )\n",
    "        \n",
    "    plt.show()"
   ]
  },
  {
   "cell_type": "code",
   "execution_count": 72,
   "id": "930a3045",
   "metadata": {},
   "outputs": [],
   "source": [
    "# Define labels for confusion matrices\n",
    "labels_accom = [\"Entertainment\",\"Food\",\"Hotel\",\"Location\",\"Room\",\"Staff\",\"Value\"]\n",
    "labels_food = [\"Food Quality\",\"Meal Exp\",\"Menu Choice\",\"Staff\",\"Value\",\"Visit Exp\"]\n",
    "labels_attract = [\"Activities\",\"Amenities\",\"History\",\"Nature\",\"Staff\",\"Value\",\"VisitGen\",]"
   ]
  },
  {
   "cell_type": "markdown",
   "id": "98a42003",
   "metadata": {},
   "source": [
    "## Accommodation"
   ]
  },
  {
   "cell_type": "markdown",
   "id": "7a41136e",
   "metadata": {},
   "source": [
    "### Multinomial NB"
   ]
  },
  {
   "cell_type": "code",
   "execution_count": 73,
   "id": "d7f001c3",
   "metadata": {},
   "outputs": [
    {
     "name": "stdout",
     "output_type": "stream",
     "text": [
      "              precision    recall  f1-score   support\n",
      "\n",
      "           0       0.82      0.89      0.85        35\n",
      "           1       0.92      0.94      0.93        35\n",
      "           2       0.94      0.94      0.94        35\n",
      "           3       1.00      0.91      0.95        22\n",
      "           4       0.94      0.91      0.93        35\n",
      "           5       0.92      0.94      0.93        35\n",
      "           6       1.00      0.92      0.96        25\n",
      "\n",
      "    accuracy                           0.92       222\n",
      "   macro avg       0.93      0.92      0.93       222\n",
      "weighted avg       0.93      0.92      0.92       222\n",
      "\n"
     ]
    },
    {
     "data": {
      "image/png": "[encoded data removed]",
      "text/plain": [
       "<Figure size 576x432 with 2 Axes>"
      ]
     },
     "metadata": {
      "needs_background": "light"
     },
     "output_type": "display_data"
    }
   ],
   "source": [
    "prediction(clf1,X_train_accom_tfidf,y_train_accom_l,X_val_accom_tfidf,y_val_accom_l,labels_accom)"
   ]
  },
  {
   "cell_type": "code",
   "execution_count": 74,
   "id": "e872873b",
   "metadata": {},
   "outputs": [
    {
     "data": {
      "text/html": [
       "<div>\n",
       "<style scoped>\n",
       "    .dataframe tbody tr th:only-of-type {\n",
       "        vertical-align: middle;\n",
       "    }\n",
       "\n",
       "    .dataframe tbody tr th {\n",
       "        vertical-align: top;\n",
       "    }\n",
       "\n",
       "    .dataframe thead th {\n",
       "        text-align: right;\n",
       "    }\n",
       "</style>\n",
       "<table border=\"1\" class=\"dataframe\">\n",
       "  <thead>\n",
       "    <tr style=\"text-align: right;\">\n",
       "      <th></th>\n",
       "      <th>Accuracy</th>\n",
       "      <th>Precision</th>\n",
       "      <th>Recall</th>\n",
       "      <th>F1</th>\n",
       "      <th>ROCAUC</th>\n",
       "    </tr>\n",
       "  </thead>\n",
       "  <tbody>\n",
       "    <tr>\n",
       "      <th>0</th>\n",
       "      <td>0.923423</td>\n",
       "      <td>0.926399</td>\n",
       "      <td>0.923423</td>\n",
       "      <td>0.924193</td>\n",
       "      <td>0.992637</td>\n",
       "    </tr>\n",
       "  </tbody>\n",
       "</table>\n",
       "</div>"
      ],
      "text/plain": [
       "   Accuracy  Precision    Recall        F1    ROCAUC\n",
       "0  0.923423   0.926399  0.923423  0.924193  0.992637"
      ]
     },
     "execution_count": 74,
     "metadata": {},
     "output_type": "execute_result"
    }
   ],
   "source": [
    "modnb1 = prediction.results\n",
    "modnb1"
   ]
  },
  {
   "cell_type": "markdown",
   "id": "c4cc67a2",
   "metadata": {},
   "source": [
    "### Logistic Regression"
   ]
  },
  {
   "cell_type": "code",
   "execution_count": 75,
   "id": "70ea17f1",
   "metadata": {},
   "outputs": [
    {
     "name": "stdout",
     "output_type": "stream",
     "text": [
      "              precision    recall  f1-score   support\n",
      "\n",
      "           0       0.71      0.97      0.82        35\n",
      "           1       1.00      0.97      0.99        35\n",
      "           2       0.97      0.94      0.96        35\n",
      "           3       0.95      0.91      0.93        22\n",
      "           4       0.94      0.89      0.91        35\n",
      "           5       1.00      0.89      0.94        35\n",
      "           6       1.00      0.84      0.91        25\n",
      "\n",
      "    accuracy                           0.92       222\n",
      "   macro avg       0.94      0.92      0.92       222\n",
      "weighted avg       0.94      0.92      0.92       222\n",
      "\n"
     ]
    },
    {
     "data": {
      "image/png": "[encoded data removed]",
      "text/plain": [
       "<Figure size 576x432 with 2 Axes>"
      ]
     },
     "metadata": {
      "needs_background": "light"
     },
     "output_type": "display_data"
    }
   ],
   "source": [
    "prediction(clf2,X_train_accom_tfidf,y_train_accom_l,X_val_accom_tfidf,y_val_accom_l,labels_accom)"
   ]
  },
  {
   "cell_type": "code",
   "execution_count": 76,
   "id": "c1a97ebf",
   "metadata": {},
   "outputs": [
    {
     "data": {
      "text/html": [
       "<div>\n",
       "<style scoped>\n",
       "    .dataframe tbody tr th:only-of-type {\n",
       "        vertical-align: middle;\n",
       "    }\n",
       "\n",
       "    .dataframe tbody tr th {\n",
       "        vertical-align: top;\n",
       "    }\n",
       "\n",
       "    .dataframe thead th {\n",
       "        text-align: right;\n",
       "    }\n",
       "</style>\n",
       "<table border=\"1\" class=\"dataframe\">\n",
       "  <thead>\n",
       "    <tr style=\"text-align: right;\">\n",
       "      <th></th>\n",
       "      <th>Accuracy</th>\n",
       "      <th>Precision</th>\n",
       "      <th>Recall</th>\n",
       "      <th>F1</th>\n",
       "      <th>ROCAUC</th>\n",
       "    </tr>\n",
       "  </thead>\n",
       "  <tbody>\n",
       "    <tr>\n",
       "      <th>0</th>\n",
       "      <td>0.918919</td>\n",
       "      <td>0.935106</td>\n",
       "      <td>0.918919</td>\n",
       "      <td>0.922196</td>\n",
       "      <td>0.995721</td>\n",
       "    </tr>\n",
       "  </tbody>\n",
       "</table>\n",
       "</div>"
      ],
      "text/plain": [
       "   Accuracy  Precision    Recall        F1    ROCAUC\n",
       "0  0.918919   0.935106  0.918919  0.922196  0.995721"
      ]
     },
     "execution_count": 76,
     "metadata": {},
     "output_type": "execute_result"
    }
   ],
   "source": [
    "modlr1 = prediction.results\n",
    "modlr1"
   ]
  },
  {
   "cell_type": "markdown",
   "id": "74e9fd96",
   "metadata": {},
   "source": [
    "### Random Forest"
   ]
  },
  {
   "cell_type": "code",
   "execution_count": 77,
   "id": "e88102d6",
   "metadata": {},
   "outputs": [
    {
     "name": "stdout",
     "output_type": "stream",
     "text": [
      "              precision    recall  f1-score   support\n",
      "\n",
      "           0       0.67      0.94      0.79        35\n",
      "           1       1.00      0.97      0.99        35\n",
      "           2       1.00      0.94      0.97        35\n",
      "           3       1.00      0.91      0.95        22\n",
      "           4       0.94      0.89      0.91        35\n",
      "           5       1.00      0.89      0.94        35\n",
      "           6       1.00      0.88      0.94        25\n",
      "\n",
      "    accuracy                           0.92       222\n",
      "   macro avg       0.94      0.92      0.93       222\n",
      "weighted avg       0.94      0.92      0.92       222\n",
      "\n"
     ]
    },
    {
     "data": {
      "image/png": "[encoded data removed]",
      "text/plain": [
       "<Figure size 576x432 with 2 Axes>"
      ]
     },
     "metadata": {
      "needs_background": "light"
     },
     "output_type": "display_data"
    }
   ],
   "source": [
    "prediction(clf3,X_train_accom_tfidf,y_train_accom_l,X_val_accom_tfidf,y_val_accom_l,labels_accom)"
   ]
  },
  {
   "cell_type": "code",
   "execution_count": 78,
   "id": "8a85d9e6",
   "metadata": {},
   "outputs": [
    {
     "data": {
      "text/html": [
       "<div>\n",
       "<style scoped>\n",
       "    .dataframe tbody tr th:only-of-type {\n",
       "        vertical-align: middle;\n",
       "    }\n",
       "\n",
       "    .dataframe tbody tr th {\n",
       "        vertical-align: top;\n",
       "    }\n",
       "\n",
       "    .dataframe thead th {\n",
       "        text-align: right;\n",
       "    }\n",
       "</style>\n",
       "<table border=\"1\" class=\"dataframe\">\n",
       "  <thead>\n",
       "    <tr style=\"text-align: right;\">\n",
       "      <th></th>\n",
       "      <th>Accuracy</th>\n",
       "      <th>Precision</th>\n",
       "      <th>Recall</th>\n",
       "      <th>F1</th>\n",
       "      <th>ROCAUC</th>\n",
       "    </tr>\n",
       "  </thead>\n",
       "  <tbody>\n",
       "    <tr>\n",
       "      <th>0</th>\n",
       "      <td>0.918919</td>\n",
       "      <td>0.938965</td>\n",
       "      <td>0.918919</td>\n",
       "      <td>0.923921</td>\n",
       "      <td>0.979215</td>\n",
       "    </tr>\n",
       "  </tbody>\n",
       "</table>\n",
       "</div>"
      ],
      "text/plain": [
       "   Accuracy  Precision    Recall        F1    ROCAUC\n",
       "0  0.918919   0.938965  0.918919  0.923921  0.979215"
      ]
     },
     "execution_count": 78,
     "metadata": {},
     "output_type": "execute_result"
    }
   ],
   "source": [
    "modrf1 = prediction.results\n",
    "modrf1"
   ]
  },
  {
   "cell_type": "markdown",
   "id": "64514050",
   "metadata": {},
   "source": [
    "### SVM"
   ]
  },
  {
   "cell_type": "code",
   "execution_count": 79,
   "id": "9ed76e0a",
   "metadata": {},
   "outputs": [
    {
     "name": "stdout",
     "output_type": "stream",
     "text": [
      "              precision    recall  f1-score   support\n",
      "\n",
      "           0       0.69      0.94      0.80        35\n",
      "           1       0.97      0.91      0.94        35\n",
      "           2       0.94      0.94      0.94        35\n",
      "           3       0.90      0.86      0.88        22\n",
      "           4       0.94      0.86      0.90        35\n",
      "           5       0.97      0.86      0.91        35\n",
      "           6       1.00      0.88      0.94        25\n",
      "\n",
      "    accuracy                           0.90       222\n",
      "   macro avg       0.92      0.89      0.90       222\n",
      "weighted avg       0.91      0.90      0.90       222\n",
      "\n"
     ]
    },
    {
     "data": {
      "image/png": "[encoded data removed]",
      "text/plain": [
       "<Figure size 576x432 with 2 Axes>"
      ]
     },
     "metadata": {
      "needs_background": "light"
     },
     "output_type": "display_data"
    }
   ],
   "source": [
    "prediction(clf4,X_train_accom_tfidf,y_train_accom_l,X_val_accom_tfidf,y_val_accom_l,labels_accom)"
   ]
  },
  {
   "cell_type": "code",
   "execution_count": 80,
   "id": "5a59f2d0",
   "metadata": {},
   "outputs": [
    {
     "data": {
      "text/html": [
       "<div>\n",
       "<style scoped>\n",
       "    .dataframe tbody tr th:only-of-type {\n",
       "        vertical-align: middle;\n",
       "    }\n",
       "\n",
       "    .dataframe tbody tr th {\n",
       "        vertical-align: top;\n",
       "    }\n",
       "\n",
       "    .dataframe thead th {\n",
       "        text-align: right;\n",
       "    }\n",
       "</style>\n",
       "<table border=\"1\" class=\"dataframe\">\n",
       "  <thead>\n",
       "    <tr style=\"text-align: right;\">\n",
       "      <th></th>\n",
       "      <th>Accuracy</th>\n",
       "      <th>Precision</th>\n",
       "      <th>Recall</th>\n",
       "      <th>F1</th>\n",
       "      <th>ROCAUC</th>\n",
       "    </tr>\n",
       "  </thead>\n",
       "  <tbody>\n",
       "    <tr>\n",
       "      <th>0</th>\n",
       "      <td>0.896396</td>\n",
       "      <td>0.912568</td>\n",
       "      <td>0.896396</td>\n",
       "      <td>0.89991</td>\n",
       "      <td>0.986667</td>\n",
       "    </tr>\n",
       "  </tbody>\n",
       "</table>\n",
       "</div>"
      ],
      "text/plain": [
       "   Accuracy  Precision    Recall       F1    ROCAUC\n",
       "0  0.896396   0.912568  0.896396  0.89991  0.986667"
      ]
     },
     "execution_count": 80,
     "metadata": {},
     "output_type": "execute_result"
    }
   ],
   "source": [
    "modsvm1 = prediction.results\n",
    "modsvm1"
   ]
  },
  {
   "cell_type": "markdown",
   "id": "0d9311be",
   "metadata": {},
   "source": [
    "## Food"
   ]
  },
  {
   "cell_type": "markdown",
   "id": "22f72f7e",
   "metadata": {},
   "source": [
    "### Multinomial NB"
   ]
  },
  {
   "cell_type": "code",
   "execution_count": 81,
   "id": "3029162b",
   "metadata": {},
   "outputs": [
    {
     "name": "stdout",
     "output_type": "stream",
     "text": [
      "              precision    recall  f1-score   support\n",
      "\n",
      "           0       0.91      0.91      0.91        35\n",
      "           1       0.93      0.74      0.83        35\n",
      "           2       0.87      0.97      0.92        35\n",
      "           3       0.97      0.94      0.96        35\n",
      "           4       0.97      1.00      0.99        35\n",
      "           5       0.89      0.97      0.93        35\n",
      "\n",
      "    accuracy                           0.92       210\n",
      "   macro avg       0.93      0.92      0.92       210\n",
      "weighted avg       0.93      0.92      0.92       210\n",
      "\n"
     ]
    },
    {
     "data": {
      "image/png": "[encoded data removed]",
      "text/plain": [
       "<Figure size 576x432 with 2 Axes>"
      ]
     },
     "metadata": {
      "needs_background": "light"
     },
     "output_type": "display_data"
    }
   ],
   "source": [
    "prediction(clf1,X_train_food_tfidf,y_train_food_l,X_val_food_tfidf,y_val_food_l,labels_food)"
   ]
  },
  {
   "cell_type": "code",
   "execution_count": 82,
   "id": "b9c7b74a",
   "metadata": {},
   "outputs": [
    {
     "data": {
      "text/html": [
       "<div>\n",
       "<style scoped>\n",
       "    .dataframe tbody tr th:only-of-type {\n",
       "        vertical-align: middle;\n",
       "    }\n",
       "\n",
       "    .dataframe tbody tr th {\n",
       "        vertical-align: top;\n",
       "    }\n",
       "\n",
       "    .dataframe thead th {\n",
       "        text-align: right;\n",
       "    }\n",
       "</style>\n",
       "<table border=\"1\" class=\"dataframe\">\n",
       "  <thead>\n",
       "    <tr style=\"text-align: right;\">\n",
       "      <th></th>\n",
       "      <th>Accuracy</th>\n",
       "      <th>Precision</th>\n",
       "      <th>Recall</th>\n",
       "      <th>F1</th>\n",
       "      <th>ROCAUC</th>\n",
       "    </tr>\n",
       "  </thead>\n",
       "  <tbody>\n",
       "    <tr>\n",
       "      <th>0</th>\n",
       "      <td>0.92381</td>\n",
       "      <td>0.925367</td>\n",
       "      <td>0.92381</td>\n",
       "      <td>0.922091</td>\n",
       "      <td>0.993551</td>\n",
       "    </tr>\n",
       "  </tbody>\n",
       "</table>\n",
       "</div>"
      ],
      "text/plain": [
       "   Accuracy  Precision   Recall        F1    ROCAUC\n",
       "0   0.92381   0.925367  0.92381  0.922091  0.993551"
      ]
     },
     "execution_count": 82,
     "metadata": {},
     "output_type": "execute_result"
    }
   ],
   "source": [
    "modnb2 = prediction.results\n",
    "modnb2"
   ]
  },
  {
   "cell_type": "markdown",
   "id": "c536df64",
   "metadata": {},
   "source": [
    "### Logistic Regression"
   ]
  },
  {
   "cell_type": "code",
   "execution_count": 83,
   "id": "2e3b000b",
   "metadata": {},
   "outputs": [
    {
     "name": "stdout",
     "output_type": "stream",
     "text": [
      "              precision    recall  f1-score   support\n",
      "\n",
      "           0       0.91      0.89      0.90        35\n",
      "           1       0.80      0.94      0.87        35\n",
      "           2       0.97      0.94      0.96        35\n",
      "           3       1.00      1.00      1.00        35\n",
      "           4       1.00      0.94      0.97        35\n",
      "           5       1.00      0.94      0.97        35\n",
      "\n",
      "    accuracy                           0.94       210\n",
      "   macro avg       0.95      0.94      0.94       210\n",
      "weighted avg       0.95      0.94      0.94       210\n",
      "\n"
     ]
    },
    {
     "data": {
      "image/png": "[encoded data removed]",
      "text/plain": [
       "<Figure size 576x432 with 2 Axes>"
      ]
     },
     "metadata": {
      "needs_background": "light"
     },
     "output_type": "display_data"
    }
   ],
   "source": [
    "prediction(clf2,X_train_food_tfidf,y_train_food_l,X_val_food_tfidf,y_val_food_l,labels_food)"
   ]
  },
  {
   "cell_type": "code",
   "execution_count": 84,
   "id": "366a0ec2",
   "metadata": {},
   "outputs": [
    {
     "data": {
      "text/html": [
       "<div>\n",
       "<style scoped>\n",
       "    .dataframe tbody tr th:only-of-type {\n",
       "        vertical-align: middle;\n",
       "    }\n",
       "\n",
       "    .dataframe tbody tr th {\n",
       "        vertical-align: top;\n",
       "    }\n",
       "\n",
       "    .dataframe thead th {\n",
       "        text-align: right;\n",
       "    }\n",
       "</style>\n",
       "<table border=\"1\" class=\"dataframe\">\n",
       "  <thead>\n",
       "    <tr style=\"text-align: right;\">\n",
       "      <th></th>\n",
       "      <th>Accuracy</th>\n",
       "      <th>Precision</th>\n",
       "      <th>Recall</th>\n",
       "      <th>F1</th>\n",
       "      <th>ROCAUC</th>\n",
       "    </tr>\n",
       "  </thead>\n",
       "  <tbody>\n",
       "    <tr>\n",
       "      <th>0</th>\n",
       "      <td>0.942857</td>\n",
       "      <td>0.947872</td>\n",
       "      <td>0.942857</td>\n",
       "      <td>0.944112</td>\n",
       "      <td>0.996354</td>\n",
       "    </tr>\n",
       "  </tbody>\n",
       "</table>\n",
       "</div>"
      ],
      "text/plain": [
       "   Accuracy  Precision    Recall        F1    ROCAUC\n",
       "0  0.942857   0.947872  0.942857  0.944112  0.996354"
      ]
     },
     "execution_count": 84,
     "metadata": {},
     "output_type": "execute_result"
    }
   ],
   "source": [
    "modlr2 = prediction.results\n",
    "modlr2"
   ]
  },
  {
   "cell_type": "markdown",
   "id": "8970aa26",
   "metadata": {},
   "source": [
    "### Random Forest"
   ]
  },
  {
   "cell_type": "code",
   "execution_count": 85,
   "id": "7fba0219",
   "metadata": {},
   "outputs": [
    {
     "name": "stdout",
     "output_type": "stream",
     "text": [
      "              precision    recall  f1-score   support\n",
      "\n",
      "           0       0.97      0.91      0.94        35\n",
      "           1       0.85      1.00      0.92        35\n",
      "           2       0.97      0.97      0.97        35\n",
      "           3       1.00      1.00      1.00        35\n",
      "           4       1.00      1.00      1.00        35\n",
      "           5       1.00      0.89      0.94        35\n",
      "\n",
      "    accuracy                           0.96       210\n",
      "   macro avg       0.97      0.96      0.96       210\n",
      "weighted avg       0.97      0.96      0.96       210\n",
      "\n"
     ]
    },
    {
     "data": {
      "image/png": "[encoded data removed]",
      "text/plain": [
       "<Figure size 576x432 with 2 Axes>"
      ]
     },
     "metadata": {
      "needs_background": "light"
     },
     "output_type": "display_data"
    }
   ],
   "source": [
    "prediction(clf3,X_train_food_tfidf,y_train_food_l,X_val_food_tfidf,y_val_food_l,labels_food)"
   ]
  },
  {
   "cell_type": "code",
   "execution_count": 86,
   "id": "26f38917",
   "metadata": {},
   "outputs": [
    {
     "data": {
      "text/html": [
       "<div>\n",
       "<style scoped>\n",
       "    .dataframe tbody tr th:only-of-type {\n",
       "        vertical-align: middle;\n",
       "    }\n",
       "\n",
       "    .dataframe tbody tr th {\n",
       "        vertical-align: top;\n",
       "    }\n",
       "\n",
       "    .dataframe thead th {\n",
       "        text-align: right;\n",
       "    }\n",
       "</style>\n",
       "<table border=\"1\" class=\"dataframe\">\n",
       "  <thead>\n",
       "    <tr style=\"text-align: right;\">\n",
       "      <th></th>\n",
       "      <th>Accuracy</th>\n",
       "      <th>Precision</th>\n",
       "      <th>Recall</th>\n",
       "      <th>F1</th>\n",
       "      <th>ROCAUC</th>\n",
       "    </tr>\n",
       "  </thead>\n",
       "  <tbody>\n",
       "    <tr>\n",
       "      <th>0</th>\n",
       "      <td>0.961905</td>\n",
       "      <td>0.965797</td>\n",
       "      <td>0.961905</td>\n",
       "      <td>0.962175</td>\n",
       "      <td>0.993646</td>\n",
       "    </tr>\n",
       "  </tbody>\n",
       "</table>\n",
       "</div>"
      ],
      "text/plain": [
       "   Accuracy  Precision    Recall        F1    ROCAUC\n",
       "0  0.961905   0.965797  0.961905  0.962175  0.993646"
      ]
     },
     "execution_count": 86,
     "metadata": {},
     "output_type": "execute_result"
    }
   ],
   "source": [
    "modrf2 = prediction.results\n",
    "modrf2"
   ]
  },
  {
   "cell_type": "markdown",
   "id": "f366d992",
   "metadata": {},
   "source": [
    "### SVM"
   ]
  },
  {
   "cell_type": "code",
   "execution_count": 87,
   "id": "f6ef800f",
   "metadata": {},
   "outputs": [
    {
     "name": "stdout",
     "output_type": "stream",
     "text": [
      "              precision    recall  f1-score   support\n",
      "\n",
      "           0       0.91      0.91      0.91        35\n",
      "           1       0.84      0.91      0.88        35\n",
      "           2       0.97      0.97      0.97        35\n",
      "           3       1.00      1.00      1.00        35\n",
      "           4       1.00      0.94      0.97        35\n",
      "           5       0.97      0.94      0.96        35\n",
      "\n",
      "    accuracy                           0.95       210\n",
      "   macro avg       0.95      0.95      0.95       210\n",
      "weighted avg       0.95      0.95      0.95       210\n",
      "\n"
     ]
    },
    {
     "data": {
      "image/png": "[encoded data removed]",
      "text/plain": [
       "<Figure size 576x432 with 2 Axes>"
      ]
     },
     "metadata": {
      "needs_background": "light"
     },
     "output_type": "display_data"
    }
   ],
   "source": [
    "prediction(clf4,X_train_food_tfidf,y_train_food_l,X_val_food_tfidf,y_val_food_l,labels_food)"
   ]
  },
  {
   "cell_type": "code",
   "execution_count": 88,
   "id": "373b3448",
   "metadata": {},
   "outputs": [
    {
     "data": {
      "text/html": [
       "<div>\n",
       "<style scoped>\n",
       "    .dataframe tbody tr th:only-of-type {\n",
       "        vertical-align: middle;\n",
       "    }\n",
       "\n",
       "    .dataframe tbody tr th {\n",
       "        vertical-align: top;\n",
       "    }\n",
       "\n",
       "    .dataframe thead th {\n",
       "        text-align: right;\n",
       "    }\n",
       "</style>\n",
       "<table border=\"1\" class=\"dataframe\">\n",
       "  <thead>\n",
       "    <tr style=\"text-align: right;\">\n",
       "      <th></th>\n",
       "      <th>Accuracy</th>\n",
       "      <th>Precision</th>\n",
       "      <th>Recall</th>\n",
       "      <th>F1</th>\n",
       "      <th>ROCAUC</th>\n",
       "    </tr>\n",
       "  </thead>\n",
       "  <tbody>\n",
       "    <tr>\n",
       "      <th>0</th>\n",
       "      <td>0.947619</td>\n",
       "      <td>0.949735</td>\n",
       "      <td>0.947619</td>\n",
       "      <td>0.948256</td>\n",
       "      <td>0.994367</td>\n",
       "    </tr>\n",
       "  </tbody>\n",
       "</table>\n",
       "</div>"
      ],
      "text/plain": [
       "   Accuracy  Precision    Recall        F1    ROCAUC\n",
       "0  0.947619   0.949735  0.947619  0.948256  0.994367"
      ]
     },
     "execution_count": 88,
     "metadata": {},
     "output_type": "execute_result"
    }
   ],
   "source": [
    "modsvm2 = prediction.results\n",
    "modsvm2"
   ]
  },
  {
   "cell_type": "markdown",
   "id": "55a62e23",
   "metadata": {},
   "source": [
    "## Attractions"
   ]
  },
  {
   "cell_type": "markdown",
   "id": "9e182f23",
   "metadata": {},
   "source": [
    "### Multinomial NB"
   ]
  },
  {
   "cell_type": "code",
   "execution_count": 89,
   "id": "b9936c46",
   "metadata": {},
   "outputs": [
    {
     "name": "stdout",
     "output_type": "stream",
     "text": [
      "              precision    recall  f1-score   support\n",
      "\n",
      "           0       0.70      0.93      0.80        30\n",
      "           1       0.84      0.87      0.85        30\n",
      "           2       1.00      0.67      0.80        15\n",
      "           3       0.80      0.80      0.80        30\n",
      "           4       0.84      0.80      0.82        20\n",
      "           5       0.93      0.87      0.90        15\n",
      "           6       0.76      0.64      0.70        25\n",
      "\n",
      "    accuracy                           0.81       165\n",
      "   macro avg       0.84      0.80      0.81       165\n",
      "weighted avg       0.82      0.81      0.80       165\n",
      "\n"
     ]
    },
    {
     "data": {
      "image/png": "[encoded data removed]",
      "text/plain": [
       "<Figure size 576x432 with 2 Axes>"
      ]
     },
     "metadata": {
      "needs_background": "light"
     },
     "output_type": "display_data"
    }
   ],
   "source": [
    "prediction(clf1,X_train_attract_tfidf,y_train_attract_l,X_val_attract_tfidf,y_val_attract_l,labels_attract)"
   ]
  },
  {
   "cell_type": "code",
   "execution_count": 90,
   "id": "533d3a9b",
   "metadata": {},
   "outputs": [
    {
     "data": {
      "text/html": [
       "<div>\n",
       "<style scoped>\n",
       "    .dataframe tbody tr th:only-of-type {\n",
       "        vertical-align: middle;\n",
       "    }\n",
       "\n",
       "    .dataframe tbody tr th {\n",
       "        vertical-align: top;\n",
       "    }\n",
       "\n",
       "    .dataframe thead th {\n",
       "        text-align: right;\n",
       "    }\n",
       "</style>\n",
       "<table border=\"1\" class=\"dataframe\">\n",
       "  <thead>\n",
       "    <tr style=\"text-align: right;\">\n",
       "      <th></th>\n",
       "      <th>Accuracy</th>\n",
       "      <th>Precision</th>\n",
       "      <th>Recall</th>\n",
       "      <th>F1</th>\n",
       "      <th>ROCAUC</th>\n",
       "    </tr>\n",
       "  </thead>\n",
       "  <tbody>\n",
       "    <tr>\n",
       "      <th>0</th>\n",
       "      <td>0.806061</td>\n",
       "      <td>0.818058</td>\n",
       "      <td>0.806061</td>\n",
       "      <td>0.804992</td>\n",
       "      <td>0.976545</td>\n",
       "    </tr>\n",
       "  </tbody>\n",
       "</table>\n",
       "</div>"
      ],
      "text/plain": [
       "   Accuracy  Precision    Recall        F1    ROCAUC\n",
       "0  0.806061   0.818058  0.806061  0.804992  0.976545"
      ]
     },
     "execution_count": 90,
     "metadata": {},
     "output_type": "execute_result"
    }
   ],
   "source": [
    "modnb3 = prediction.results\n",
    "modnb3"
   ]
  },
  {
   "cell_type": "markdown",
   "id": "90f6aea4",
   "metadata": {},
   "source": [
    "### Logistic Regression"
   ]
  },
  {
   "cell_type": "code",
   "execution_count": 91,
   "id": "8cbdb023",
   "metadata": {},
   "outputs": [
    {
     "name": "stdout",
     "output_type": "stream",
     "text": [
      "              precision    recall  f1-score   support\n",
      "\n",
      "           0       1.00      0.90      0.95        30\n",
      "           1       0.92      0.80      0.86        30\n",
      "           2       1.00      0.80      0.89        15\n",
      "           3       0.91      0.70      0.79        30\n",
      "           4       0.89      0.80      0.84        20\n",
      "           5       0.88      0.93      0.90        15\n",
      "           6       0.56      0.96      0.71        25\n",
      "\n",
      "    accuracy                           0.84       165\n",
      "   macro avg       0.88      0.84      0.85       165\n",
      "weighted avg       0.88      0.84      0.84       165\n",
      "\n"
     ]
    },
    {
     "data": {
      "image/png": "[encoded data removed]",
      "text/plain": [
       "<Figure size 576x432 with 2 Axes>"
      ]
     },
     "metadata": {
      "needs_background": "light"
     },
     "output_type": "display_data"
    }
   ],
   "source": [
    "prediction(clf2,X_train_attract_tfidf,y_train_attract_l,X_val_attract_tfidf,y_val_attract_l,labels_attract)"
   ]
  },
  {
   "cell_type": "code",
   "execution_count": 167,
   "id": "f04b252e",
   "metadata": {},
   "outputs": [
    {
     "data": {
      "text/plain": [
       "['best_model_attract.sav']"
      ]
     },
     "execution_count": 167,
     "metadata": {},
     "output_type": "execute_result"
    }
   ],
   "source": [
    "clf2.fit(X_train_attract_tfidf,y_train_attract_l)\n",
    "filename = 'best_model_attract.sav'\n",
    "joblib.dump(clf2, filename)"
   ]
  },
  {
   "cell_type": "code",
   "execution_count": 168,
   "id": "f6665dd1",
   "metadata": {},
   "outputs": [
    {
     "data": {
      "text/html": [
       "<div>\n",
       "<style scoped>\n",
       "    .dataframe tbody tr th:only-of-type {\n",
       "        vertical-align: middle;\n",
       "    }\n",
       "\n",
       "    .dataframe tbody tr th {\n",
       "        vertical-align: top;\n",
       "    }\n",
       "\n",
       "    .dataframe thead th {\n",
       "        text-align: right;\n",
       "    }\n",
       "</style>\n",
       "<table border=\"1\" class=\"dataframe\">\n",
       "  <thead>\n",
       "    <tr style=\"text-align: right;\">\n",
       "      <th></th>\n",
       "      <th>Accuracy</th>\n",
       "      <th>Precision</th>\n",
       "      <th>Recall</th>\n",
       "      <th>F1</th>\n",
       "      <th>ROCAUC</th>\n",
       "    </tr>\n",
       "  </thead>\n",
       "  <tbody>\n",
       "    <tr>\n",
       "      <th>Attractions</th>\n",
       "      <td>0.836364</td>\n",
       "      <td>0.863515</td>\n",
       "      <td>0.836364</td>\n",
       "      <td>0.841142</td>\n",
       "      <td>0.978697</td>\n",
       "    </tr>\n",
       "  </tbody>\n",
       "</table>\n",
       "</div>"
      ],
      "text/plain": [
       "             Accuracy  Precision    Recall        F1    ROCAUC\n",
       "Attractions  0.836364   0.863515  0.836364  0.841142  0.978697"
      ]
     },
     "execution_count": 168,
     "metadata": {},
     "output_type": "execute_result"
    }
   ],
   "source": [
    "modlr3 = prediction.results\n",
    "modlr3"
   ]
  },
  {
   "cell_type": "markdown",
   "id": "b7217c79",
   "metadata": {},
   "source": [
    "### Random Forest"
   ]
  },
  {
   "cell_type": "code",
   "execution_count": 94,
   "id": "a74f354e",
   "metadata": {},
   "outputs": [
    {
     "name": "stdout",
     "output_type": "stream",
     "text": [
      "              precision    recall  f1-score   support\n",
      "\n",
      "           0       0.57      0.90      0.70        30\n",
      "           1       0.88      0.73      0.80        30\n",
      "           2       1.00      0.80      0.89        15\n",
      "           3       0.95      0.70      0.81        30\n",
      "           4       0.89      0.80      0.84        20\n",
      "           5       0.88      1.00      0.94        15\n",
      "           6       0.75      0.72      0.73        25\n",
      "\n",
      "    accuracy                           0.79       165\n",
      "   macro avg       0.85      0.81      0.82       165\n",
      "weighted avg       0.83      0.79      0.80       165\n",
      "\n"
     ]
    },
    {
     "data": {
      "image/png": "[encoded data removed]",
      "text/plain": [
       "<Figure size 576x432 with 2 Axes>"
      ]
     },
     "metadata": {
      "needs_background": "light"
     },
     "output_type": "display_data"
    }
   ],
   "source": [
    "prediction(clf3,X_train_attract_tfidf,y_train_attract_l,X_val_attract_tfidf,y_val_attract_l,labels_attract)"
   ]
  },
  {
   "cell_type": "code",
   "execution_count": 95,
   "id": "232285b2",
   "metadata": {},
   "outputs": [
    {
     "data": {
      "text/html": [
       "<div>\n",
       "<style scoped>\n",
       "    .dataframe tbody tr th:only-of-type {\n",
       "        vertical-align: middle;\n",
       "    }\n",
       "\n",
       "    .dataframe tbody tr th {\n",
       "        vertical-align: top;\n",
       "    }\n",
       "\n",
       "    .dataframe thead th {\n",
       "        text-align: right;\n",
       "    }\n",
       "</style>\n",
       "<table border=\"1\" class=\"dataframe\">\n",
       "  <thead>\n",
       "    <tr style=\"text-align: right;\">\n",
       "      <th></th>\n",
       "      <th>Accuracy</th>\n",
       "      <th>Precision</th>\n",
       "      <th>Recall</th>\n",
       "      <th>F1</th>\n",
       "      <th>ROCAUC</th>\n",
       "    </tr>\n",
       "  </thead>\n",
       "  <tbody>\n",
       "    <tr>\n",
       "      <th>0</th>\n",
       "      <td>0.793939</td>\n",
       "      <td>0.830506</td>\n",
       "      <td>0.793939</td>\n",
       "      <td>0.799243</td>\n",
       "      <td>0.961193</td>\n",
       "    </tr>\n",
       "  </tbody>\n",
       "</table>\n",
       "</div>"
      ],
      "text/plain": [
       "   Accuracy  Precision    Recall        F1    ROCAUC\n",
       "0  0.793939   0.830506  0.793939  0.799243  0.961193"
      ]
     },
     "execution_count": 95,
     "metadata": {},
     "output_type": "execute_result"
    }
   ],
   "source": [
    "modrf3 = prediction.results\n",
    "modrf3"
   ]
  },
  {
   "cell_type": "markdown",
   "id": "8b2d8a6c",
   "metadata": {},
   "source": [
    "### SVM"
   ]
  },
  {
   "cell_type": "code",
   "execution_count": 96,
   "id": "7e2072c2",
   "metadata": {},
   "outputs": [
    {
     "name": "stdout",
     "output_type": "stream",
     "text": [
      "              precision    recall  f1-score   support\n",
      "\n",
      "           0       0.74      0.93      0.82        30\n",
      "           1       0.93      0.87      0.90        30\n",
      "           2       1.00      0.87      0.93        15\n",
      "           3       0.91      0.70      0.79        30\n",
      "           4       0.93      0.65      0.76        20\n",
      "           5       0.93      0.93      0.93        15\n",
      "           6       0.56      0.76      0.64        25\n",
      "\n",
      "    accuracy                           0.81       165\n",
      "   macro avg       0.86      0.82      0.83       165\n",
      "weighted avg       0.84      0.81      0.82       165\n",
      "\n"
     ]
    },
    {
     "data": {
      "image/png": "[encoded data removed]",
      "text/plain": [
       "<Figure size 576x432 with 2 Axes>"
      ]
     },
     "metadata": {
      "needs_background": "light"
     },
     "output_type": "display_data"
    }
   ],
   "source": [
    "prediction(clf4,X_train_attract_tfidf,y_train_attract_l,X_val_attract_tfidf,y_val_attract_l,labels_attract)"
   ]
  },
  {
   "cell_type": "code",
   "execution_count": 97,
   "id": "0f419f22",
   "metadata": {},
   "outputs": [
    {
     "data": {
      "text/html": [
       "<div>\n",
       "<style scoped>\n",
       "    .dataframe tbody tr th:only-of-type {\n",
       "        vertical-align: middle;\n",
       "    }\n",
       "\n",
       "    .dataframe tbody tr th {\n",
       "        vertical-align: top;\n",
       "    }\n",
       "\n",
       "    .dataframe thead th {\n",
       "        text-align: right;\n",
       "    }\n",
       "</style>\n",
       "<table border=\"1\" class=\"dataframe\">\n",
       "  <thead>\n",
       "    <tr style=\"text-align: right;\">\n",
       "      <th></th>\n",
       "      <th>Accuracy</th>\n",
       "      <th>Precision</th>\n",
       "      <th>Recall</th>\n",
       "      <th>F1</th>\n",
       "      <th>ROCAUC</th>\n",
       "    </tr>\n",
       "  </thead>\n",
       "  <tbody>\n",
       "    <tr>\n",
       "      <th>0</th>\n",
       "      <td>0.812121</td>\n",
       "      <td>0.841792</td>\n",
       "      <td>0.812121</td>\n",
       "      <td>0.816366</td>\n",
       "      <td>0.966052</td>\n",
       "    </tr>\n",
       "  </tbody>\n",
       "</table>\n",
       "</div>"
      ],
      "text/plain": [
       "   Accuracy  Precision    Recall        F1    ROCAUC\n",
       "0  0.812121   0.841792  0.812121  0.816366  0.966052"
      ]
     },
     "execution_count": 97,
     "metadata": {},
     "output_type": "execute_result"
    }
   ],
   "source": [
    "modsvm3 = prediction.results\n",
    "modsvm3"
   ]
  },
  {
   "cell_type": "markdown",
   "id": "fc3dab19",
   "metadata": {},
   "source": [
    "# Section 5: Summary Tables"
   ]
  },
  {
   "cell_type": "code",
   "execution_count": 98,
   "id": "daaab7c5",
   "metadata": {},
   "outputs": [
    {
     "data": {
      "text/html": [
       "<div>\n",
       "<style scoped>\n",
       "    .dataframe tbody tr th:only-of-type {\n",
       "        vertical-align: middle;\n",
       "    }\n",
       "\n",
       "    .dataframe tbody tr th {\n",
       "        vertical-align: top;\n",
       "    }\n",
       "\n",
       "    .dataframe thead th {\n",
       "        text-align: right;\n",
       "    }\n",
       "</style>\n",
       "<table border=\"1\" class=\"dataframe\">\n",
       "  <thead>\n",
       "    <tr style=\"text-align: right;\">\n",
       "      <th></th>\n",
       "      <th>Accuracy</th>\n",
       "      <th>Precision</th>\n",
       "      <th>Recall</th>\n",
       "      <th>F1</th>\n",
       "      <th>ROCAUC</th>\n",
       "    </tr>\n",
       "  </thead>\n",
       "  <tbody>\n",
       "    <tr>\n",
       "      <th>Accom LR</th>\n",
       "      <td>0.918919</td>\n",
       "      <td>0.935106</td>\n",
       "      <td>0.918919</td>\n",
       "      <td>0.922196</td>\n",
       "      <td>0.995721</td>\n",
       "    </tr>\n",
       "    <tr>\n",
       "      <th>Accom NB</th>\n",
       "      <td>0.923423</td>\n",
       "      <td>0.926399</td>\n",
       "      <td>0.923423</td>\n",
       "      <td>0.924193</td>\n",
       "      <td>0.992637</td>\n",
       "    </tr>\n",
       "    <tr>\n",
       "      <th>Accom SVM</th>\n",
       "      <td>0.896396</td>\n",
       "      <td>0.912568</td>\n",
       "      <td>0.896396</td>\n",
       "      <td>0.899910</td>\n",
       "      <td>0.986667</td>\n",
       "    </tr>\n",
       "    <tr>\n",
       "      <th>Accom RF</th>\n",
       "      <td>0.918919</td>\n",
       "      <td>0.938965</td>\n",
       "      <td>0.918919</td>\n",
       "      <td>0.923921</td>\n",
       "      <td>0.979215</td>\n",
       "    </tr>\n",
       "  </tbody>\n",
       "</table>\n",
       "</div>"
      ],
      "text/plain": [
       "           Accuracy  Precision    Recall        F1    ROCAUC\n",
       "Accom LR   0.918919   0.935106  0.918919  0.922196  0.995721\n",
       "Accom NB   0.923423   0.926399  0.923423  0.924193  0.992637\n",
       "Accom SVM  0.896396   0.912568  0.896396  0.899910  0.986667\n",
       "Accom RF   0.918919   0.938965  0.918919  0.923921  0.979215"
      ]
     },
     "execution_count": 98,
     "metadata": {},
     "output_type": "execute_result"
    }
   ],
   "source": [
    "accom = pd.concat([modnb1,modlr1,modrf1,modsvm1])\n",
    "accom.index = [\"Accom NB\",\"Accom LR\",\"Accom RF\",\"Accom SVM\"]\n",
    "accom.sort_values(by = \"ROCAUC\",ascending = False)"
   ]
  },
  {
   "cell_type": "code",
   "execution_count": 99,
   "id": "1d3d238e",
   "metadata": {},
   "outputs": [
    {
     "data": {
      "text/html": [
       "<div>\n",
       "<style scoped>\n",
       "    .dataframe tbody tr th:only-of-type {\n",
       "        vertical-align: middle;\n",
       "    }\n",
       "\n",
       "    .dataframe tbody tr th {\n",
       "        vertical-align: top;\n",
       "    }\n",
       "\n",
       "    .dataframe thead th {\n",
       "        text-align: right;\n",
       "    }\n",
       "</style>\n",
       "<table border=\"1\" class=\"dataframe\">\n",
       "  <thead>\n",
       "    <tr style=\"text-align: right;\">\n",
       "      <th></th>\n",
       "      <th>Accuracy</th>\n",
       "      <th>Precision</th>\n",
       "      <th>Recall</th>\n",
       "      <th>F1</th>\n",
       "      <th>ROCAUC</th>\n",
       "    </tr>\n",
       "  </thead>\n",
       "  <tbody>\n",
       "    <tr>\n",
       "      <th>Food LR</th>\n",
       "      <td>0.942857</td>\n",
       "      <td>0.947872</td>\n",
       "      <td>0.942857</td>\n",
       "      <td>0.944112</td>\n",
       "      <td>0.996354</td>\n",
       "    </tr>\n",
       "    <tr>\n",
       "      <th>Food SVM</th>\n",
       "      <td>0.947619</td>\n",
       "      <td>0.949735</td>\n",
       "      <td>0.947619</td>\n",
       "      <td>0.948256</td>\n",
       "      <td>0.994367</td>\n",
       "    </tr>\n",
       "    <tr>\n",
       "      <th>Food RF</th>\n",
       "      <td>0.961905</td>\n",
       "      <td>0.965797</td>\n",
       "      <td>0.961905</td>\n",
       "      <td>0.962175</td>\n",
       "      <td>0.993646</td>\n",
       "    </tr>\n",
       "    <tr>\n",
       "      <th>Food NB</th>\n",
       "      <td>0.923810</td>\n",
       "      <td>0.925367</td>\n",
       "      <td>0.923810</td>\n",
       "      <td>0.922091</td>\n",
       "      <td>0.993551</td>\n",
       "    </tr>\n",
       "  </tbody>\n",
       "</table>\n",
       "</div>"
      ],
      "text/plain": [
       "          Accuracy  Precision    Recall        F1    ROCAUC\n",
       "Food LR   0.942857   0.947872  0.942857  0.944112  0.996354\n",
       "Food SVM  0.947619   0.949735  0.947619  0.948256  0.994367\n",
       "Food RF   0.961905   0.965797  0.961905  0.962175  0.993646\n",
       "Food NB   0.923810   0.925367  0.923810  0.922091  0.993551"
      ]
     },
     "execution_count": 99,
     "metadata": {},
     "output_type": "execute_result"
    }
   ],
   "source": [
    "food = pd.concat([modnb2,modlr2,modrf2,modsvm2])\n",
    "food.index = [\"Food NB\",\"Food LR\",\"Food RF\",\"Food SVM\"]\n",
    "food.sort_values(by = \"ROCAUC\",ascending = False)"
   ]
  },
  {
   "cell_type": "code",
   "execution_count": 100,
   "id": "62ae508e",
   "metadata": {},
   "outputs": [
    {
     "data": {
      "text/html": [
       "<div>\n",
       "<style scoped>\n",
       "    .dataframe tbody tr th:only-of-type {\n",
       "        vertical-align: middle;\n",
       "    }\n",
       "\n",
       "    .dataframe tbody tr th {\n",
       "        vertical-align: top;\n",
       "    }\n",
       "\n",
       "    .dataframe thead th {\n",
       "        text-align: right;\n",
       "    }\n",
       "</style>\n",
       "<table border=\"1\" class=\"dataframe\">\n",
       "  <thead>\n",
       "    <tr style=\"text-align: right;\">\n",
       "      <th></th>\n",
       "      <th>Accuracy</th>\n",
       "      <th>Precision</th>\n",
       "      <th>Recall</th>\n",
       "      <th>F1</th>\n",
       "      <th>ROCAUC</th>\n",
       "    </tr>\n",
       "  </thead>\n",
       "  <tbody>\n",
       "    <tr>\n",
       "      <th>Attract LR</th>\n",
       "      <td>0.836364</td>\n",
       "      <td>0.878424</td>\n",
       "      <td>0.836364</td>\n",
       "      <td>0.844120</td>\n",
       "      <td>0.981034</td>\n",
       "    </tr>\n",
       "    <tr>\n",
       "      <th>Attract NB</th>\n",
       "      <td>0.806061</td>\n",
       "      <td>0.818058</td>\n",
       "      <td>0.806061</td>\n",
       "      <td>0.804992</td>\n",
       "      <td>0.976545</td>\n",
       "    </tr>\n",
       "    <tr>\n",
       "      <th>Attract SVM</th>\n",
       "      <td>0.812121</td>\n",
       "      <td>0.841792</td>\n",
       "      <td>0.812121</td>\n",
       "      <td>0.816366</td>\n",
       "      <td>0.966052</td>\n",
       "    </tr>\n",
       "    <tr>\n",
       "      <th>Attract RF</th>\n",
       "      <td>0.793939</td>\n",
       "      <td>0.830506</td>\n",
       "      <td>0.793939</td>\n",
       "      <td>0.799243</td>\n",
       "      <td>0.961193</td>\n",
       "    </tr>\n",
       "  </tbody>\n",
       "</table>\n",
       "</div>"
      ],
      "text/plain": [
       "             Accuracy  Precision    Recall        F1    ROCAUC\n",
       "Attract LR   0.836364   0.878424  0.836364  0.844120  0.981034\n",
       "Attract NB   0.806061   0.818058  0.806061  0.804992  0.976545\n",
       "Attract SVM  0.812121   0.841792  0.812121  0.816366  0.966052\n",
       "Attract RF   0.793939   0.830506  0.793939  0.799243  0.961193"
      ]
     },
     "execution_count": 100,
     "metadata": {},
     "output_type": "execute_result"
    }
   ],
   "source": [
    "attract = pd.concat([modnb3,modlr3,modrf3,modsvm3])\n",
    "attract.index = [\"Attract NB\",\"Attract LR\",\"Attract RF\",\"Attract SVM\"]\n",
    "attract.sort_values(by = \"ROCAUC\",ascending = False)"
   ]
  },
  {
   "cell_type": "markdown",
   "id": "4737eb2f",
   "metadata": {},
   "source": [
    "# Section 6: Hyperparameter Tuning "
   ]
  },
  {
   "cell_type": "code",
   "execution_count": 101,
   "id": "9f17bd38",
   "metadata": {},
   "outputs": [],
   "source": [
    "warnings.filterwarnings('ignore') "
   ]
  },
  {
   "cell_type": "code",
   "execution_count": 135,
   "id": "0db0e482",
   "metadata": {},
   "outputs": [
    {
     "data": {
      "text/plain": [
       "dict_keys(['C', 'class_weight', 'dual', 'fit_intercept', 'intercept_scaling', 'l1_ratio', 'max_iter', 'multi_class', 'n_jobs', 'penalty', 'random_state', 'solver', 'tol', 'verbose', 'warm_start'])"
      ]
     },
     "execution_count": 135,
     "metadata": {},
     "output_type": "execute_result"
    }
   ],
   "source": [
    "best_model = LogisticRegression(class_weight = \"balanced\")\n",
    "best_model.get_params().keys()"
   ]
  },
  {
   "cell_type": "code",
   "execution_count": 136,
   "id": "837b0eda",
   "metadata": {},
   "outputs": [],
   "source": [
    "parameters = {'C': [0.001,0.01,0.1,1,10,100], 'penalty': ['none', 'l1', 'l2', 'elasticnet'],'solver': ['newton-cg', 'lbfgs', 'sag','saga']}\n",
    "clf = GridSearchCV(best_model,param_grid=parameters, cv = 10, scoring = 'roc_auc_ovr_weighted')"
   ]
  },
  {
   "cell_type": "markdown",
   "id": "0973b879",
   "metadata": {},
   "source": [
    "Note liblinear not supported with multinomial loss in multi-class problems"
   ]
  },
  {
   "cell_type": "markdown",
   "id": "d3fd9d59",
   "metadata": {},
   "source": [
    "### Accommodation"
   ]
  },
  {
   "cell_type": "code",
   "execution_count": 137,
   "id": "f2a1dcc7",
   "metadata": {},
   "outputs": [
    {
     "data": {
      "text/plain": [
       "GridSearchCV(cv=10, estimator=LogisticRegression(class_weight='balanced'),\n",
       "             param_grid={'C': [0.001, 0.01, 0.1, 1, 10, 100],\n",
       "                         'penalty': ['none', 'l1', 'l2', 'elasticnet'],\n",
       "                         'solver': ['newton-cg', 'lbfgs', 'sag', 'saga']},\n",
       "             scoring='roc_auc_ovr_weighted')"
      ]
     },
     "execution_count": 137,
     "metadata": {},
     "output_type": "execute_result"
    }
   ],
   "source": [
    "clf.fit(X_train_accom_tfidf,y_train_accom)"
   ]
  },
  {
   "cell_type": "code",
   "execution_count": 138,
   "id": "22590bb6",
   "metadata": {},
   "outputs": [
    {
     "name": "stdout",
     "output_type": "stream",
     "text": [
      "Best parameters are: {'C': 10, 'penalty': 'l2', 'solver': 'saga'}\n",
      "Best score: 0.9963403200470096\n",
      "Best estimator: LogisticRegression(C=10, class_weight='balanced', solver='saga')\n",
      "\n",
      "\n"
     ]
    }
   ],
   "source": [
    "# Get results\n",
    "def display(results):\n",
    "    print(f'Best parameters are: {results.best_params_}')\n",
    "    print(f'Best score: {results.best_score_}')\n",
    "    print(f'Best estimator: {results.best_estimator_}')\n",
    "    print(\"\\n\")\n",
    "    \n",
    "display(clf)"
   ]
  },
  {
   "cell_type": "code",
   "execution_count": 139,
   "id": "1d551f75",
   "metadata": {},
   "outputs": [],
   "source": [
    "# Set up the best model\n",
    "best_model_accom = LogisticRegression(class_weight = \"balanced\",C=10, penalty = 'l2', solver = 'saga')"
   ]
  },
  {
   "cell_type": "code",
   "execution_count": 140,
   "id": "09180e85",
   "metadata": {},
   "outputs": [
    {
     "name": "stdout",
     "output_type": "stream",
     "text": [
      "              precision    recall  f1-score   support\n",
      "\n",
      "           0       0.72      0.89      0.79        35\n",
      "           1       0.97      0.94      0.96        35\n",
      "           2       0.97      0.94      0.96        35\n",
      "           3       1.00      0.91      0.95        22\n",
      "           4       0.91      0.91      0.91        35\n",
      "           5       0.97      0.89      0.93        35\n",
      "           6       0.96      0.92      0.94        25\n",
      "\n",
      "    accuracy                           0.91       222\n",
      "   macro avg       0.93      0.91      0.92       222\n",
      "weighted avg       0.92      0.91      0.92       222\n",
      "\n"
     ]
    },
    {
     "data": {
      "image/png": "[encoded data removed]",
      "text/plain": [
       "<Figure size 576x432 with 2 Axes>"
      ]
     },
     "metadata": {
      "needs_background": "light"
     },
     "output_type": "display_data"
    }
   ],
   "source": [
    "prediction(best_model_accom,X_train_accom_tfidf,y_train_accom_l,X_val_accom_tfidf,y_val_accom_l,labels_accom)"
   ]
  },
  {
   "cell_type": "code",
   "execution_count": 141,
   "id": "6d9a840d",
   "metadata": {},
   "outputs": [
    {
     "data": {
      "text/html": [
       "<div>\n",
       "<style scoped>\n",
       "    .dataframe tbody tr th:only-of-type {\n",
       "        vertical-align: middle;\n",
       "    }\n",
       "\n",
       "    .dataframe tbody tr th {\n",
       "        vertical-align: top;\n",
       "    }\n",
       "\n",
       "    .dataframe thead th {\n",
       "        text-align: right;\n",
       "    }\n",
       "</style>\n",
       "<table border=\"1\" class=\"dataframe\">\n",
       "  <thead>\n",
       "    <tr style=\"text-align: right;\">\n",
       "      <th></th>\n",
       "      <th>Accuracy</th>\n",
       "      <th>Precision</th>\n",
       "      <th>Recall</th>\n",
       "      <th>F1</th>\n",
       "      <th>ROCAUC</th>\n",
       "    </tr>\n",
       "  </thead>\n",
       "  <tbody>\n",
       "    <tr>\n",
       "      <th>Accommodation</th>\n",
       "      <td>0.914414</td>\n",
       "      <td>0.923596</td>\n",
       "      <td>0.914414</td>\n",
       "      <td>0.917058</td>\n",
       "      <td>0.995764</td>\n",
       "    </tr>\n",
       "  </tbody>\n",
       "</table>\n",
       "</div>"
      ],
      "text/plain": [
       "               Accuracy  Precision    Recall        F1    ROCAUC\n",
       "Accommodation  0.914414   0.923596  0.914414  0.917058  0.995764"
      ]
     },
     "execution_count": 141,
     "metadata": {},
     "output_type": "execute_result"
    }
   ],
   "source": [
    "modlrah = prediction.results\n",
    "modlrah.index = [\"Accommodation\"]\n",
    "modlrah"
   ]
  },
  {
   "cell_type": "code",
   "execution_count": 175,
   "id": "e60e4cfb",
   "metadata": {},
   "outputs": [
    {
     "data": {
      "text/plain": [
       "['best_model_accom.sav']"
      ]
     },
     "execution_count": 175,
     "metadata": {},
     "output_type": "execute_result"
    }
   ],
   "source": [
    "# Save out for combined model\n",
    "best_model_accom.fit(X_train_accom_tfidf,y_train_accom_l)\n",
    "filename = 'best_model_accom.sav'\n",
    "joblib.dump(best_model_accom, filename)"
   ]
  },
  {
   "cell_type": "code",
   "execution_count": 176,
   "id": "f39c3960",
   "metadata": {},
   "outputs": [
    {
     "data": {
      "text/plain": [
       "<1776x770 sparse matrix of type '<class 'numpy.float64'>'\n",
       "\twith 3574 stored elements in Compressed Sparse Row format>"
      ]
     },
     "execution_count": 176,
     "metadata": {},
     "output_type": "execute_result"
    }
   ],
   "source": [
    "X_train_accom_tfidf"
   ]
  },
  {
   "cell_type": "markdown",
   "id": "09241903",
   "metadata": {},
   "source": [
    "### Food"
   ]
  },
  {
   "cell_type": "code",
   "execution_count": 142,
   "id": "3e2ece53",
   "metadata": {},
   "outputs": [
    {
     "data": {
      "text/plain": [
       "GridSearchCV(cv=10, estimator=LogisticRegression(class_weight='balanced'),\n",
       "             param_grid={'C': [0.001, 0.01, 0.1, 1, 10, 100],\n",
       "                         'penalty': ['none', 'l1', 'l2', 'elasticnet'],\n",
       "                         'solver': ['newton-cg', 'lbfgs', 'sag', 'saga']},\n",
       "             scoring='roc_auc_ovr_weighted')"
      ]
     },
     "execution_count": 142,
     "metadata": {},
     "output_type": "execute_result"
    }
   ],
   "source": [
    "clf.fit(X_train_food_tfidf, y_train_food)"
   ]
  },
  {
   "cell_type": "code",
   "execution_count": 143,
   "id": "cf38b6cc",
   "metadata": {},
   "outputs": [
    {
     "name": "stdout",
     "output_type": "stream",
     "text": [
      "Best parameters are: {'C': 10, 'penalty': 'l2', 'solver': 'saga'}\n",
      "Best score: 0.9979251700680271\n",
      "Best estimator: LogisticRegression(C=10, class_weight='balanced', solver='saga')\n",
      "\n",
      "\n"
     ]
    }
   ],
   "source": [
    "# Get results\n",
    "def display(results):\n",
    "    print(f'Best parameters are: {results.best_params_}')\n",
    "    print(f'Best score: {results.best_score_}')\n",
    "    print(f'Best estimator: {results.best_estimator_}')\n",
    "    print(\"\\n\")\n",
    "    \n",
    "display(clf)"
   ]
  },
  {
   "cell_type": "code",
   "execution_count": 144,
   "id": "031551f0",
   "metadata": {},
   "outputs": [],
   "source": [
    "# Set up the best model\n",
    "best_model_food = LogisticRegression(multi_class = 'multinomial', class_weight = \"balanced\",C=10, penalty = 'l2', solver = 'saga')"
   ]
  },
  {
   "cell_type": "code",
   "execution_count": 145,
   "id": "42c6344e",
   "metadata": {},
   "outputs": [
    {
     "name": "stdout",
     "output_type": "stream",
     "text": [
      "              precision    recall  f1-score   support\n",
      "\n",
      "           0       0.91      0.91      0.91        35\n",
      "           1       0.84      0.91      0.88        35\n",
      "           2       0.97      1.00      0.99        35\n",
      "           3       1.00      1.00      1.00        35\n",
      "           4       1.00      0.94      0.97        35\n",
      "           5       1.00      0.94      0.97        35\n",
      "\n",
      "    accuracy                           0.95       210\n",
      "   macro avg       0.95      0.95      0.95       210\n",
      "weighted avg       0.95      0.95      0.95       210\n",
      "\n"
     ]
    },
    {
     "data": {
      "image/png": "[encoded data removed]",
      "text/plain": [
       "<Figure size 576x432 with 2 Axes>"
      ]
     },
     "metadata": {
      "needs_background": "light"
     },
     "output_type": "display_data"
    }
   ],
   "source": [
    "prediction(best_model_food,X_train_food_tfidf,y_train_food_l,X_val_food_tfidf,y_val_food_l,labels_food)"
   ]
  },
  {
   "cell_type": "code",
   "execution_count": 146,
   "id": "61878ab3",
   "metadata": {},
   "outputs": [
    {
     "data": {
      "text/html": [
       "<div>\n",
       "<style scoped>\n",
       "    .dataframe tbody tr th:only-of-type {\n",
       "        vertical-align: middle;\n",
       "    }\n",
       "\n",
       "    .dataframe tbody tr th {\n",
       "        vertical-align: top;\n",
       "    }\n",
       "\n",
       "    .dataframe thead th {\n",
       "        text-align: right;\n",
       "    }\n",
       "</style>\n",
       "<table border=\"1\" class=\"dataframe\">\n",
       "  <thead>\n",
       "    <tr style=\"text-align: right;\">\n",
       "      <th></th>\n",
       "      <th>Accuracy</th>\n",
       "      <th>Precision</th>\n",
       "      <th>Recall</th>\n",
       "      <th>F1</th>\n",
       "      <th>ROCAUC</th>\n",
       "    </tr>\n",
       "  </thead>\n",
       "  <tbody>\n",
       "    <tr>\n",
       "      <th>Food</th>\n",
       "      <td>0.952381</td>\n",
       "      <td>0.954769</td>\n",
       "      <td>0.952381</td>\n",
       "      <td>0.953015</td>\n",
       "      <td>0.996354</td>\n",
       "    </tr>\n",
       "  </tbody>\n",
       "</table>\n",
       "</div>"
      ],
      "text/plain": [
       "      Accuracy  Precision    Recall        F1    ROCAUC\n",
       "Food  0.952381   0.954769  0.952381  0.953015  0.996354"
      ]
     },
     "execution_count": 146,
     "metadata": {},
     "output_type": "execute_result"
    }
   ],
   "source": [
    "modlrfh = prediction.results\n",
    "modlrfh.index = [\"Food\"]\n",
    "modlrfh"
   ]
  },
  {
   "cell_type": "markdown",
   "id": "dfc97453",
   "metadata": {},
   "source": [
    "### Attractions"
   ]
  },
  {
   "cell_type": "code",
   "execution_count": 152,
   "id": "4d7bf6a3",
   "metadata": {},
   "outputs": [
    {
     "data": {
      "text/plain": [
       "GridSearchCV(cv=10, estimator=LogisticRegression(class_weight='balanced'),\n",
       "             param_grid={'C': [0.001, 0.01, 0.1, 1, 10, 100],\n",
       "                         'penalty': ['none', 'l1', 'l2', 'elasticnet'],\n",
       "                         'solver': ['newton-cg', 'lbfgs', 'sag', 'saga']},\n",
       "             scoring='roc_auc_ovr_weighted')"
      ]
     },
     "execution_count": 152,
     "metadata": {},
     "output_type": "execute_result"
    }
   ],
   "source": [
    "clf.fit(X_train_attract_tfidf, y_train_attract)"
   ]
  },
  {
   "cell_type": "code",
   "execution_count": 153,
   "id": "70079b43",
   "metadata": {},
   "outputs": [
    {
     "name": "stdout",
     "output_type": "stream",
     "text": [
      "Best parameters are: {'C': 10, 'penalty': 'l2', 'solver': 'sag'}\n",
      "Best score: 0.976010854301084\n",
      "Best estimator: LogisticRegression(C=10, class_weight='balanced', solver='sag')\n",
      "\n",
      "\n"
     ]
    }
   ],
   "source": [
    "# Get results\n",
    "def display(results):\n",
    "    print(f'Best parameters are: {results.best_params_}')\n",
    "    print(f'Best score: {results.best_score_}')\n",
    "    print(f'Best estimator: {results.best_estimator_}')\n",
    "    print(\"\\n\")\n",
    "    \n",
    "display(clf)"
   ]
  },
  {
   "cell_type": "code",
   "execution_count": 154,
   "id": "ca85f23a",
   "metadata": {},
   "outputs": [],
   "source": [
    "# Set up the best model\n",
    "best_model_attract = LogisticRegression(multi_class = 'multinomial', class_weight = \"balanced\",C=10, penalty = 'l2', solver = 'sag')"
   ]
  },
  {
   "cell_type": "code",
   "execution_count": 155,
   "id": "0cf7fe31",
   "metadata": {},
   "outputs": [
    {
     "name": "stdout",
     "output_type": "stream",
     "text": [
      "              precision    recall  f1-score   support\n",
      "\n",
      "           0       0.96      0.90      0.93        30\n",
      "           1       0.89      0.83      0.86        30\n",
      "           2       1.00      0.87      0.93        15\n",
      "           3       0.88      0.70      0.78        30\n",
      "           4       0.88      0.75      0.81        20\n",
      "           5       0.88      0.93      0.90        15\n",
      "           6       0.59      0.92      0.72        25\n",
      "\n",
      "    accuracy                           0.84       165\n",
      "   macro avg       0.87      0.84      0.85       165\n",
      "weighted avg       0.86      0.84      0.84       165\n",
      "\n"
     ]
    },
    {
     "data": {
      "image/png": "[encoded data removed]",
      "text/plain": [
       "<Figure size 576x432 with 2 Axes>"
      ]
     },
     "metadata": {
      "needs_background": "light"
     },
     "output_type": "display_data"
    }
   ],
   "source": [
    "prediction(best_model_attract,X_train_attract_tfidf,y_train_attract_l,X_val_attract_tfidf,y_val_attract_l,labels_attract)"
   ]
  },
  {
   "cell_type": "code",
   "execution_count": 156,
   "id": "15b3d989",
   "metadata": {},
   "outputs": [
    {
     "data": {
      "text/html": [
       "<div>\n",
       "<style scoped>\n",
       "    .dataframe tbody tr th:only-of-type {\n",
       "        vertical-align: middle;\n",
       "    }\n",
       "\n",
       "    .dataframe tbody tr th {\n",
       "        vertical-align: top;\n",
       "    }\n",
       "\n",
       "    .dataframe thead th {\n",
       "        text-align: right;\n",
       "    }\n",
       "</style>\n",
       "<table border=\"1\" class=\"dataframe\">\n",
       "  <thead>\n",
       "    <tr style=\"text-align: right;\">\n",
       "      <th></th>\n",
       "      <th>Accuracy</th>\n",
       "      <th>Precision</th>\n",
       "      <th>Recall</th>\n",
       "      <th>F1</th>\n",
       "      <th>ROCAUC</th>\n",
       "    </tr>\n",
       "  </thead>\n",
       "  <tbody>\n",
       "    <tr>\n",
       "      <th>Attractions</th>\n",
       "      <td>0.836364</td>\n",
       "      <td>0.863515</td>\n",
       "      <td>0.836364</td>\n",
       "      <td>0.841142</td>\n",
       "      <td>0.978697</td>\n",
       "    </tr>\n",
       "  </tbody>\n",
       "</table>\n",
       "</div>"
      ],
      "text/plain": [
       "             Accuracy  Precision    Recall        F1    ROCAUC\n",
       "Attractions  0.836364   0.863515  0.836364  0.841142  0.978697"
      ]
     },
     "execution_count": 156,
     "metadata": {},
     "output_type": "execute_result"
    }
   ],
   "source": [
    "modlath = prediction.results\n",
    "modlath.index = [\"Attractions\"]\n",
    "modlath"
   ]
  }
 ],
 "metadata": {
  "kernelspec": {
   "display_name": "Python 3",
   "language": "python",
   "name": "python3"
  },
  "language_info": {
   "codemirror_mode": {
    "name": "ipython",
    "version": 3
   },
   "file_extension": ".py",
   "mimetype": "text/x-python",
   "name": "python",
   "nbconvert_exporter": "python",
   "pygments_lexer": "ipython3",
   "version": "3.7.10"
  }
 },
 "nbformat": 4,
 "nbformat_minor": 5
}
