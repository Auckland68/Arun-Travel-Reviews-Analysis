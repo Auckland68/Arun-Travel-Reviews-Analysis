{
 "cells": [
  {
   "cell_type": "markdown",
   "id": "17ef2c61",
   "metadata": {},
   "source": [
    "# Notebook 12 Sentiment Predictive Model for the Aspect Dataset"
   ]
  },
  {
   "cell_type": "markdown",
   "id": "7e77c17f",
   "metadata": {},
   "source": [
    "This notebook seeks to train a model to predict sentiment on the full dataset based only on the noun phrases previously extracted.\n",
    "\n",
    "* Section 1 - Import libraries and data\n",
    "* Section 2 - Data preprocessing\n",
    "* Section 3 - Building a sentiment model (Models 1 to 5 based on the best simple networks from Notebook 8)\n",
    "* Section 4 - Summary results\n",
    "\n",
    "Datasets need to run file:\n",
    "* combined_sentiment.csv\n",
    "* combined_sentiment_test.csv\n",
    "\n",
    "Models saved to:\n",
    "* SentimentModels1\n",
    "* SentimentModels2\n",
    "* SentimentModels3\n",
    "* SentimentModels4\n",
    "* SentimentModels5\n",
    "\n",
    "Final results:\n",
    "\n",
    "* results_sentiment.csv\n"
   ]
  },
  {
   "cell_type": "markdown",
   "id": "f25289f1",
   "metadata": {},
   "source": [
    "# Section 1: Import libraries and data"
   ]
  },
  {
   "cell_type": "code",
   "execution_count": 1,
   "id": "2b60828d",
   "metadata": {},
   "outputs": [],
   "source": [
    "import pandas as pd\n",
    "import numpy as np\n",
    "\n",
    "from sklearn import preprocessing\n",
    "from sklearn.preprocessing import LabelBinarizer\n",
    "import keras\n",
    "from keras.models import Sequential\n",
    "from keras.layers import Dense,Flatten,Embedding,LSTM,Dropout,SpatialDropout1D,Conv1D,GlobalMaxPooling1D,SimpleRNN,LSTM,GRU,Bidirectional\n",
    "from keras.preprocessing.text import Tokenizer\n",
    "from keras.preprocessing.sequence import pad_sequences\n",
    "from keras.callbacks import EarlyStopping,ModelCheckpoint\n",
    "from keras.utils import to_categorical\n",
    "from matplotlib import pyplot as plt\n",
    "import seaborn as sns\n",
    "sns.set()\n",
    "import imblearn\n",
    "from imblearn.over_sampling import SMOTE\n",
    "\n",
    "import os\n",
    "import pickle\n",
    "\n",
    "import nltk\n",
    "from nltk.corpus import stopwords\n",
    "from sklearn.model_selection import train_test_split\n",
    "from sklearn.metrics import accuracy_score,roc_auc_score,precision_score,recall_score,f1_score,confusion_matrix,classification_report\n",
    "from sklearn.utils import class_weight\n",
    "\n",
    "import warnings\n",
    "warnings.filterwarnings('ignore')"
   ]
  },
  {
   "cell_type": "code",
   "execution_count": 18,
   "id": "25ded65a",
   "metadata": {},
   "outputs": [],
   "source": [
    "# Bring in training and test sets from Notebook 11 (visualising topic models)\n",
    "df_train = pd.read_csv(\"combined_sentiment.csv\",index_col = 0)\n",
    "df_test = pd.read_csv(\"combined_sentiment_test.csv\",index_col = 0)"
   ]
  },
  {
   "cell_type": "code",
   "execution_count": 19,
   "id": "1622c464",
   "metadata": {},
   "outputs": [
    {
     "data": {
      "text/plain": [
       "(72932, 15)"
      ]
     },
     "execution_count": 19,
     "metadata": {},
     "output_type": "execute_result"
    }
   ],
   "source": [
    "# Combine train and test set\n",
    "df_combined_all = pd.concat([df_train, df_test],axis = 0,ignore_index = True)\n",
    "df_combined_all.shape"
   ]
  },
  {
   "cell_type": "markdown",
   "id": "61098084",
   "metadata": {},
   "source": [
    "# Section 2: Data preprocessing"
   ]
  },
  {
   "cell_type": "code",
   "execution_count": 21,
   "id": "cfc1d2a1",
   "metadata": {},
   "outputs": [],
   "source": [
    "# Choose columns, replace incorrect category label and relabel columns\n",
    "df_train = df_train[[\"OrigInd\",\"Category\",\"noun_phrases\",\"Topic Count\",\"Sentiment\",\"Score\"]]\n",
    "df_train.columns = [\"OrigInd\",\"Category\",\"Noun Phrases\",\"Aspect\",\"Sentiment\",\"Polarity\"]\n",
    "df_test = df_test[[\"OrigInd\",\"Category\",\"noun_phrases\",\"Topic\",\"Sentiment\",\"Score\"]]\n",
    "df_test[\"Category\"].replace({\"Attract\": \"Attractions\"}, inplace=True)\n",
    "df_test.columns = [\"OrigInd\",\"Category\",\"Noun Phrases\",\"Aspect\",\"Sentiment\",\"Polarity\"]"
   ]
  },
  {
   "cell_type": "code",
   "execution_count": 23,
   "id": "b392c9ad",
   "metadata": {},
   "outputs": [
    {
     "data": {
      "text/plain": [
       "Food             40557\n",
       "Accommodation    24638\n",
       "Attractions       7527\n",
       "Attract            210\n",
       "Name: Category, dtype: int64"
      ]
     },
     "execution_count": 23,
     "metadata": {},
     "output_type": "execute_result"
    }
   ],
   "source": [
    "# Get Category distribution\n",
    "df_combined_all[\"Category\"].value_counts()"
   ]
  },
  {
   "cell_type": "code",
   "execution_count": 32,
   "id": "accb4184",
   "metadata": {},
   "outputs": [
    {
     "data": {
      "text/html": [
       "<div>\n",
       "<style scoped>\n",
       "    .dataframe tbody tr th:only-of-type {\n",
       "        vertical-align: middle;\n",
       "    }\n",
       "\n",
       "    .dataframe tbody tr th {\n",
       "        vertical-align: top;\n",
       "    }\n",
       "\n",
       "    .dataframe thead th {\n",
       "        text-align: right;\n",
       "    }\n",
       "</style>\n",
       "<table border=\"1\" class=\"dataframe\">\n",
       "  <thead>\n",
       "    <tr style=\"text-align: right;\">\n",
       "      <th></th>\n",
       "      <th>Unnamed: 0.1</th>\n",
       "      <th>OrigInd</th>\n",
       "      <th>Category</th>\n",
       "      <th>Town</th>\n",
       "      <th>Rating</th>\n",
       "      <th>all_text</th>\n",
       "      <th>cleaned</th>\n",
       "      <th>noun_phrases</th>\n",
       "      <th>nouns</th>\n",
       "      <th>Topic Count</th>\n",
       "      <th>Topic TFIDF</th>\n",
       "      <th>Sentiment</th>\n",
       "      <th>Score</th>\n",
       "      <th>Sentence</th>\n",
       "      <th>Topic</th>\n",
       "    </tr>\n",
       "  </thead>\n",
       "  <tbody>\n",
       "    <tr>\n",
       "      <th>0</th>\n",
       "      <td>0</td>\n",
       "      <td>0</td>\n",
       "      <td>Accommodation</td>\n",
       "      <td>Bognor</td>\n",
       "      <td>4</td>\n",
       "      <td>Nice break, shame about the accommodation... W...</td>\n",
       "      <td>nice break shame accommodation booked night st...</td>\n",
       "      <td>shame accommodation</td>\n",
       "      <td>['shame', 'accommodation']</td>\n",
       "      <td>Entertainment&amp;Activities</td>\n",
       "      <td>Entertainment</td>\n",
       "      <td>-0.4767</td>\n",
       "      <td>1</td>\n",
       "      <td>NaN</td>\n",
       "      <td>NaN</td>\n",
       "    </tr>\n",
       "    <tr>\n",
       "      <th>3</th>\n",
       "      <td>3</td>\n",
       "      <td>0</td>\n",
       "      <td>Accommodation</td>\n",
       "      <td>Bognor</td>\n",
       "      <td>4</td>\n",
       "      <td>Nice break, shame about the accommodation... W...</td>\n",
       "      <td>would never not really sure expect review eith...</td>\n",
       "      <td>good terrible</td>\n",
       "      <td>['terrible']</td>\n",
       "      <td>Food</td>\n",
       "      <td>Food</td>\n",
       "      <td>-0.0516</td>\n",
       "      <td>1</td>\n",
       "      <td>NaN</td>\n",
       "      <td>NaN</td>\n",
       "    </tr>\n",
       "  </tbody>\n",
       "</table>\n",
       "</div>"
      ],
      "text/plain": [
       "   Unnamed: 0.1  OrigInd       Category    Town  Rating  \\\n",
       "0             0        0  Accommodation  Bognor       4   \n",
       "3             3        0  Accommodation  Bognor       4   \n",
       "\n",
       "                                            all_text  \\\n",
       "0  Nice break, shame about the accommodation... W...   \n",
       "3  Nice break, shame about the accommodation... W...   \n",
       "\n",
       "                                             cleaned         noun_phrases  \\\n",
       "0  nice break shame accommodation booked night st...  shame accommodation   \n",
       "3  would never not really sure expect review eith...        good terrible   \n",
       "\n",
       "                        nouns               Topic Count    Topic TFIDF  \\\n",
       "0  ['shame', 'accommodation']  Entertainment&Activities  Entertainment   \n",
       "3                ['terrible']                      Food           Food   \n",
       "\n",
       "   Sentiment  Score Sentence Topic  \n",
       "0    -0.4767      1      NaN   NaN  \n",
       "3    -0.0516      1      NaN   NaN  "
      ]
     },
     "execution_count": 32,
     "metadata": {},
     "output_type": "execute_result"
    }
   ],
   "source": [
    "df_combined_all.head(2)"
   ]
  },
  {
   "cell_type": "code",
   "execution_count": 26,
   "id": "d99be24b",
   "metadata": {},
   "outputs": [
    {
     "data": {
      "text/plain": [
       "neutral     38994\n",
       "positive    29512\n",
       "negative     4426\n",
       "Name: Score, dtype: int64"
      ]
     },
     "execution_count": 26,
     "metadata": {},
     "output_type": "execute_result"
    }
   ],
   "source": [
    "# Get Polarity distribution\n",
    "df_combined_all[\"Score\"].value_counts()"
   ]
  },
  {
   "cell_type": "code",
   "execution_count": 28,
   "id": "cefecc1a",
   "metadata": {},
   "outputs": [
    {
     "data": {
      "text/plain": [
       "<BarContainer object of 3 artists>"
      ]
     },
     "execution_count": 28,
     "metadata": {},
     "output_type": "execute_result"
    },
    {
     "data": {
      "image/png": "[encoded data removed]",
      "text/plain": [
       "<Figure size 432x288 with 1 Axes>"
      ]
     },
     "metadata": {},
     "output_type": "display_data"
    }
   ],
   "source": [
    "# Distribution of polarities\n",
    "sent = pd.DataFrame(df_combined_all[\"Score\"].value_counts())\n",
    "plt.bar(sent.index,sent[\"Score\"])"
   ]
  },
  {
   "cell_type": "markdown",
   "id": "eee8cc34",
   "metadata": {},
   "source": [
    "The dataset is imbalanced"
   ]
  },
  {
   "cell_type": "code",
   "execution_count": 29,
   "id": "2738a6dd",
   "metadata": {},
   "outputs": [],
   "source": [
    "# Drop the neutral sentiment and set 0 to positive and 1 to negative\n",
    "df_combined_all = df_combined_all[df_combined_all[\"Score\"]!=\"neutral\"]\n",
    "df_combined_all[\"Score\"].replace({\"positive\": 0,\"negative\":1}, inplace=True)"
   ]
  },
  {
   "cell_type": "code",
   "execution_count": 34,
   "id": "59294803",
   "metadata": {},
   "outputs": [],
   "source": [
    "df_combined_all.to_csv(\"combinedall.csv\")"
   ]
  },
  {
   "cell_type": "markdown",
   "id": "884a18d8",
   "metadata": {},
   "source": [
    "## Define X and y and split into training, valuation and test sets"
   ]
  },
  {
   "cell_type": "code",
   "execution_count": 109,
   "id": "15537c2f",
   "metadata": {},
   "outputs": [],
   "source": [
    "X = df_combined[\"Noun Phrases\"]\n",
    "y = df_combined[\"Polarity\"]"
   ]
  },
  {
   "cell_type": "code",
   "execution_count": 110,
   "id": "cd6ddc98",
   "metadata": {},
   "outputs": [],
   "source": [
    "# Train, validation, test split\n",
    "X_train, X_test, y_train, y_test = train_test_split(X,y, stratify = y,test_size=0.2, random_state=42)\n",
    "X_test, X_val, y_test, y_val = train_test_split(X_test, y_test, stratify = y_test,test_size=0.50, random_state=42) "
   ]
  },
  {
   "cell_type": "code",
   "execution_count": 111,
   "id": "5019d176",
   "metadata": {},
   "outputs": [
    {
     "name": "stdout",
     "output_type": "stream",
     "text": [
      "(27140,) (3393,) (3393,) (27140,) (3393,) (3393,)\n"
     ]
    }
   ],
   "source": [
    "print(X_train.shape,X_val.shape,X_test.shape,y_train.shape,y_val.shape,y_test.shape)"
   ]
  },
  {
   "cell_type": "code",
   "execution_count": 112,
   "id": "cc6bc74e",
   "metadata": {},
   "outputs": [
    {
     "data": {
      "text/plain": [
       "0    23606\n",
       "1     3534\n",
       "Name: Polarity, dtype: int64"
      ]
     },
     "execution_count": 112,
     "metadata": {},
     "output_type": "execute_result"
    }
   ],
   "source": [
    "y_train.value_counts()"
   ]
  },
  {
   "cell_type": "code",
   "execution_count": 113,
   "id": "b61ba2a4",
   "metadata": {},
   "outputs": [
    {
     "data": {
      "text/plain": [
       "0    2951\n",
       "1     442\n",
       "Name: Polarity, dtype: int64"
      ]
     },
     "execution_count": 113,
     "metadata": {},
     "output_type": "execute_result"
    }
   ],
   "source": [
    "y_val.value_counts()"
   ]
  },
  {
   "cell_type": "code",
   "execution_count": 114,
   "id": "eea55e76",
   "metadata": {},
   "outputs": [
    {
     "data": {
      "text/plain": [
       "0    2951\n",
       "1     442\n",
       "Name: Polarity, dtype: int64"
      ]
     },
     "execution_count": 114,
     "metadata": {},
     "output_type": "execute_result"
    }
   ],
   "source": [
    "y_test.value_counts()"
   ]
  },
  {
   "cell_type": "markdown",
   "id": "7b246efc",
   "metadata": {},
   "source": [
    "## Distribution of noun phrases"
   ]
  },
  {
   "cell_type": "code",
   "execution_count": 117,
   "id": "99ee6196",
   "metadata": {},
   "outputs": [
    {
     "data": {
      "text/plain": [
       "<AxesSubplot:title={'center':'Distribution of Number of Words/Noun'}, ylabel='Frequency'>"
      ]
     },
     "execution_count": 117,
     "metadata": {},
     "output_type": "execute_result"
    },
    {
     "data": {
      "image/png": "[encoded data removed]",
      "text/plain": [
       "<Figure size 432x288 with 1 Axes>"
      ]
     },
     "metadata": {},
     "output_type": "display_data"
    }
   ],
   "source": [
    "pd.DataFrame(X_train)[\"Noun Phrases\"].str.split().apply(len).plot.hist(bins = 50, title = \"Distribution of Number of Words/Noun\")"
   ]
  },
  {
   "cell_type": "code",
   "execution_count": 118,
   "id": "a64e6a1e",
   "metadata": {},
   "outputs": [
    {
     "data": {
      "text/plain": [
       "15"
      ]
     },
     "execution_count": 118,
     "metadata": {},
     "output_type": "execute_result"
    }
   ],
   "source": [
    "pd.DataFrame(X_train)[\"Noun Phrases\"].str.split().apply(len).max()"
   ]
  },
  {
   "cell_type": "markdown",
   "id": "2dd92010",
   "metadata": {},
   "source": [
    "## Encoding X values"
   ]
  },
  {
   "cell_type": "code",
   "execution_count": 119,
   "id": "b459972f",
   "metadata": {},
   "outputs": [],
   "source": [
    "num_words = 6000\n",
    "maxlen = 20\n",
    "tokenizer = Tokenizer(num_words=num_words)\n",
    "tokenizer.fit_on_texts(X_train)"
   ]
  },
  {
   "cell_type": "code",
   "execution_count": 120,
   "id": "59a3f8b4",
   "metadata": {},
   "outputs": [],
   "source": [
    "index_word = {v:k for k,v in tokenizer.word_index.items()}"
   ]
  },
  {
   "cell_type": "code",
   "execution_count": 121,
   "id": "ab41d277",
   "metadata": {},
   "outputs": [],
   "source": [
    "#print(tokenizer.word_counts)"
   ]
  },
  {
   "cell_type": "code",
   "execution_count": 122,
   "id": "71a8a17b",
   "metadata": {},
   "outputs": [],
   "source": [
    "#print(tokenizer.word_index)"
   ]
  },
  {
   "cell_type": "code",
   "execution_count": 123,
   "id": "075e73fa",
   "metadata": {},
   "outputs": [],
   "source": [
    "X_train_s = tokenizer.texts_to_sequences(X_train)\n",
    "X_val_s = tokenizer.texts_to_sequences(X_val)\n",
    "X_test_s = tokenizer.texts_to_sequences(X_test)"
   ]
  },
  {
   "cell_type": "code",
   "execution_count": 124,
   "id": "a2545f06",
   "metadata": {},
   "outputs": [],
   "source": [
    "X_train_w = pad_sequences(np.array(X_train_s,dtype = \"object\"), maxlen=maxlen, padding=\"post\", truncating=\"post\", value=0.0)\n",
    "X_val_w = pad_sequences(np.array(X_val_s,dtype = \"object\"), maxlen=maxlen, padding=\"post\", truncating=\"post\", value=0.0 )\n",
    "X_test_w = pad_sequences(np.array(X_test_s,dtype = \"object\"), maxlen = maxlen, padding = \"post\",truncating = \"post\",value = 0.0)"
   ]
  },
  {
   "cell_type": "code",
   "execution_count": 125,
   "id": "311f29c3",
   "metadata": {},
   "outputs": [
    {
     "data": {
      "text/plain": [
       "array([ 1, 12, 27,  0,  0,  0,  0,  0,  0,  0,  0,  0,  0,  0,  0,  0,  0,\n",
       "        0,  0,  0])"
      ]
     },
     "execution_count": 125,
     "metadata": {},
     "output_type": "execute_result"
    }
   ],
   "source": [
    "X_train_w[1]"
   ]
  },
  {
   "cell_type": "markdown",
   "id": "29e5ac7c",
   "metadata": {},
   "source": [
    "# Section 3: Building a Sentiment Model"
   ]
  },
  {
   "cell_type": "code",
   "execution_count": 126,
   "id": "f60db7d9",
   "metadata": {},
   "outputs": [],
   "source": [
    "# Visualise the training and test accuracies and losses\n",
    "import matplotlib.pyplot as plt\n",
    "plt.style.use('ggplot')\n",
    "\n",
    "def plot_history(history):\n",
    "    acc = history.history['accuracy']\n",
    "    val_acc = history.history['val_accuracy']\n",
    "    loss = history.history['loss']\n",
    "    val_loss = history.history['val_loss']\n",
    "    x = range(1, len(acc) + 1)\n",
    "\n",
    "    plt.figure(figsize=(12, 5))\n",
    "    plt.subplot(1, 2, 1)\n",
    "    plt.plot(x, acc, 'b', label='Training acc')\n",
    "    plt.plot(x, val_acc, 'r', label='Val acc')\n",
    "    plt.title('Training and Validation accuracy')\n",
    "    plt.xlabel(\"Epochs\")\n",
    "    plt.legend()\n",
    "    plt.subplot(1, 2, 2)\n",
    "    plt.plot(x, loss, 'b', label='Training loss')\n",
    "    plt.plot(x, val_loss, 'r', label='Val loss')\n",
    "    plt.xlabel(\"Epochs\")\n",
    "    plt.title('Training and Validation loss')\n",
    "    plt.legend()"
   ]
  },
  {
   "cell_type": "code",
   "execution_count": 127,
   "id": "cafa747b",
   "metadata": {},
   "outputs": [],
   "source": [
    "# Confusion Matrix function\n",
    "\n",
    "def class_conf(y_val,y_pred_class):\n",
    "    classification = classification_report(y_val, y_pred_class)\n",
    "    fig, ax = plt.subplots()\n",
    "    cf_matrix = confusion_matrix(y_val, y_pred_class)\n",
    "    sns.heatmap(cf_matrix, annot = True, fmt = \"d\",)\n",
    "    plt.xlabel('Predicted')\n",
    "    plt.ylabel('Actual')\n",
    "    plt.title(\"Confusion Matrix\", fontsize = 15)\n",
    "    _ = ax.xaxis.set_ticklabels(['Good Reviews','Bad Reviews'],fontsize = 8)\n",
    "    _ = ax.yaxis.set_ticklabels(['Good Reviews', 'Bad Reviews'], fontsize = 8)\n",
    "    print(classification)  "
   ]
  },
  {
   "cell_type": "markdown",
   "id": "b3cc8f6b",
   "metadata": {},
   "source": [
    "## Sentiment Model 1"
   ]
  },
  {
   "cell_type": "code",
   "execution_count": 128,
   "id": "c9b34610",
   "metadata": {},
   "outputs": [],
   "source": [
    "# Metrics function\n",
    "\n",
    "def metric_results(y_val,y_pred_class):\n",
    "    accuracy = accuracy_score(y_val, y_pred_class)\n",
    "    rocauc = roc_auc_score(y_val,y_pred_class)\n",
    "    precision = precision_score(y_val, y_pred_class, average='binary')\n",
    "    recall = recall_score(y_val, y_pred_class, average='binary')\n",
    "    f1 = f1_score(y_val, y_pred_class, average='binary')\n",
    "          \n",
    "    \n",
    "    results = pd.DataFrame({\"Accuracy\":accuracy, \"Precision\":precision, \"Recall\":recall,\n",
    "                                    \"F1\":f1,\"ROCAUC\":rocauc}, index = [0]\n",
    "                                  )\n",
    "    return results"
   ]
  },
  {
   "cell_type": "code",
   "execution_count": 129,
   "id": "728f4376",
   "metadata": {},
   "outputs": [
    {
     "data": {
      "text/plain": [
       "array([0.57485385, 3.83984154])"
      ]
     },
     "execution_count": 129,
     "metadata": {},
     "output_type": "execute_result"
    }
   ],
   "source": [
    "# Balanced classes - get weights\n",
    "from sklearn.utils import class_weight\n",
    "class_weights = class_weight.compute_class_weight('balanced',np.unique(y_train),y_train)\n",
    "class_weights"
   ]
  },
  {
   "cell_type": "code",
   "execution_count": 205,
   "id": "da40709a",
   "metadata": {},
   "outputs": [],
   "source": [
    "# Parameters\n",
    "input_dim = 6000\n",
    "output_dim = 16\n",
    "input_length = 20\n",
    "batch_size = 8\n",
    "epochs = 50\n",
    "class_weights = {0:0.57485385,\n",
    "                 1:3.83984154}"
   ]
  },
  {
   "cell_type": "code",
   "execution_count": 206,
   "id": "36bf629d",
   "metadata": {},
   "outputs": [],
   "source": [
    "# Simple model with embedding layer and no hidden dense layer, passing the embedding layer to the first layer of the model\n",
    "model = Sequential()\n",
    "model.add(Embedding(input_dim = input_dim, output_dim = output_dim, input_length=input_length))\n",
    "model.add(Flatten())\n",
    "model.add(Dense(1, activation='sigmoid'))"
   ]
  },
  {
   "cell_type": "code",
   "execution_count": 136,
   "id": "ee7cccd2",
   "metadata": {},
   "outputs": [
    {
     "name": "stdout",
     "output_type": "stream",
     "text": [
      "Model: \"sequential_6\"\n",
      "_________________________________________________________________\n",
      "Layer (type)                 Output Shape              Param #   \n",
      "=================================================================\n",
      "embedding_6 (Embedding)      (None, 20, 16)            96000     \n",
      "_________________________________________________________________\n",
      "flatten_6 (Flatten)          (None, 320)               0         \n",
      "_________________________________________________________________\n",
      "dense_13 (Dense)             (None, 1)                 321       \n",
      "=================================================================\n",
      "Total params: 96,321\n",
      "Trainable params: 96,321\n",
      "Non-trainable params: 0\n",
      "_________________________________________________________________\n",
      "None\n"
     ]
    }
   ],
   "source": [
    "# Compile the model\n",
    "model.compile(optimizer='adam', loss='binary_crossentropy', metrics=['accuracy'])\n",
    "print(model.summary())"
   ]
  },
  {
   "cell_type": "code",
   "execution_count": 137,
   "id": "151cd8ac",
   "metadata": {},
   "outputs": [],
   "source": [
    "# The model will use earlystopping if the valuation loss doesn't decrease after 3 epochs\n",
    "output_dir = 'model_output/SentimentModels1'\n",
    "if not os.path.exists(output_dir):\n",
    "    os.makedirs(output_dir)\n",
    "\n",
    "\n",
    "modelcheckpoint = ModelCheckpoint(filepath=output_dir+\"/weights.{epoch:02d}.hdf5\")\n",
    "callbacks = [EarlyStopping(monitor = \"val_loss\", patience = 5),modelcheckpoint]"
   ]
  },
  {
   "cell_type": "code",
   "execution_count": 138,
   "id": "f36897fc",
   "metadata": {},
   "outputs": [
    {
     "name": "stdout",
     "output_type": "stream",
     "text": [
      "Epoch 1/50\n",
      "3393/3393 - 2s - loss: 0.2266 - accuracy: 0.9157 - val_loss: 0.0710 - val_accuracy: 0.9761\n",
      "Epoch 2/50\n",
      "3393/3393 - 2s - loss: 0.0489 - accuracy: 0.9850 - val_loss: 0.0383 - val_accuracy: 0.9882\n",
      "Epoch 3/50\n",
      "3393/3393 - 2s - loss: 0.0224 - accuracy: 0.9940 - val_loss: 0.0324 - val_accuracy: 0.9888\n",
      "Epoch 4/50\n",
      "3393/3393 - 2s - loss: 0.0112 - accuracy: 0.9969 - val_loss: 0.0379 - val_accuracy: 0.9867\n",
      "Epoch 5/50\n",
      "3393/3393 - 2s - loss: 0.0060 - accuracy: 0.9983 - val_loss: 0.0276 - val_accuracy: 0.9900\n",
      "Epoch 6/50\n",
      "3393/3393 - 2s - loss: 0.0036 - accuracy: 0.9990 - val_loss: 0.0287 - val_accuracy: 0.9906\n",
      "Epoch 7/50\n",
      "3393/3393 - 2s - loss: 0.0022 - accuracy: 0.9993 - val_loss: 0.0350 - val_accuracy: 0.9885\n",
      "Epoch 8/50\n",
      "3393/3393 - 2s - loss: 0.0015 - accuracy: 0.9996 - val_loss: 0.0336 - val_accuracy: 0.9897\n",
      "Epoch 9/50\n",
      "3393/3393 - 2s - loss: 9.7095e-04 - accuracy: 0.9997 - val_loss: 0.0343 - val_accuracy: 0.9894\n",
      "Epoch 10/50\n",
      "3393/3393 - 2s - loss: 7.1174e-04 - accuracy: 0.9998 - val_loss: 0.0348 - val_accuracy: 0.9894\n"
     ]
    }
   ],
   "source": [
    "# Model using keras embeddings\n",
    "history = model.fit(X_train_w,y_train,\n",
    "                    epochs=epochs,\n",
    "                    verbose=2,\n",
    "                    callbacks = callbacks,\n",
    "                    validation_data=(X_val_w, y_val),\n",
    "                    batch_size=batch_size,\n",
    "                    class_weight = class_weights)"
   ]
  },
  {
   "cell_type": "code",
   "execution_count": 139,
   "id": "0c3ba61f",
   "metadata": {},
   "outputs": [
    {
     "name": "stdout",
     "output_type": "stream",
     "text": [
      "Training Accuracy: 1.0000\n",
      "Validation Accuracy:  0.9894\n"
     ]
    }
   ],
   "source": [
    "# Print training and test accuracies\n",
    "loss, accuracy = model.evaluate(X_train_w, y_train, verbose=False)\n",
    "print(\"Training Accuracy: {:.4f}\".format(accuracy))\n",
    "loss, accuracy = model.evaluate(X_val_w, y_val, verbose=False)\n",
    "print(\"Validation Accuracy:  {:.4f}\".format(accuracy))"
   ]
  },
  {
   "cell_type": "code",
   "execution_count": 140,
   "id": "5acfe335",
   "metadata": {},
   "outputs": [
    {
     "data": {
      "image/png": "[encoded data removed]",
      "text/plain": [
       "<Figure size 864x360 with 2 Axes>"
      ]
     },
     "metadata": {},
     "output_type": "display_data"
    }
   ],
   "source": [
    "plot_history(history)"
   ]
  },
  {
   "cell_type": "code",
   "execution_count": 141,
   "id": "1023ac75",
   "metadata": {},
   "outputs": [],
   "source": [
    "# Load model weights from epoch with best validation accuracy\n",
    "model.load_weights(output_dir+\"/weights.06.hdf5\")"
   ]
  },
  {
   "cell_type": "code",
   "execution_count": 142,
   "id": "2312c835",
   "metadata": {},
   "outputs": [],
   "source": [
    "# Get predicted y values and predicted classes\n",
    "y_pred_prob = model.predict(X_val_w)\n",
    "y_pred_class = (model.predict(X_val_w) > 0.5).astype(\"int32\")"
   ]
  },
  {
   "cell_type": "code",
   "execution_count": 143,
   "id": "b492d9c8",
   "metadata": {},
   "outputs": [
    {
     "data": {
      "text/html": [
       "<div>\n",
       "<style scoped>\n",
       "    .dataframe tbody tr th:only-of-type {\n",
       "        vertical-align: middle;\n",
       "    }\n",
       "\n",
       "    .dataframe tbody tr th {\n",
       "        vertical-align: top;\n",
       "    }\n",
       "\n",
       "    .dataframe thead th {\n",
       "        text-align: right;\n",
       "    }\n",
       "</style>\n",
       "<table border=\"1\" class=\"dataframe\">\n",
       "  <thead>\n",
       "    <tr style=\"text-align: right;\">\n",
       "      <th></th>\n",
       "      <th>y_prob</th>\n",
       "      <th>y_pred_class</th>\n",
       "      <th>y</th>\n",
       "    </tr>\n",
       "  </thead>\n",
       "  <tbody>\n",
       "    <tr>\n",
       "      <th>0</th>\n",
       "      <td>[0.9999032]</td>\n",
       "      <td>[1]</td>\n",
       "      <td>1</td>\n",
       "    </tr>\n",
       "    <tr>\n",
       "      <th>1</th>\n",
       "      <td>[3.9698187e-09]</td>\n",
       "      <td>[0]</td>\n",
       "      <td>0</td>\n",
       "    </tr>\n",
       "    <tr>\n",
       "      <th>2</th>\n",
       "      <td>[5.2715994e-05]</td>\n",
       "      <td>[0]</td>\n",
       "      <td>0</td>\n",
       "    </tr>\n",
       "    <tr>\n",
       "      <th>3</th>\n",
       "      <td>[1.3584706e-09]</td>\n",
       "      <td>[0]</td>\n",
       "      <td>0</td>\n",
       "    </tr>\n",
       "    <tr>\n",
       "      <th>4</th>\n",
       "      <td>[0.4658544]</td>\n",
       "      <td>[0]</td>\n",
       "      <td>0</td>\n",
       "    </tr>\n",
       "  </tbody>\n",
       "</table>\n",
       "</div>"
      ],
      "text/plain": [
       "            y_prob y_pred_class  y\n",
       "0      [0.9999032]          [1]  1\n",
       "1  [3.9698187e-09]          [0]  0\n",
       "2  [5.2715994e-05]          [0]  0\n",
       "3  [1.3584706e-09]          [0]  0\n",
       "4      [0.4658544]          [0]  0"
      ]
     },
     "execution_count": 143,
     "metadata": {},
     "output_type": "execute_result"
    }
   ],
   "source": [
    "# Create dataframe with y pred probabilities, classes and y actual\n",
    "ydf = pd.DataFrame(list(zip(y_pred_prob, y_pred_class,y_val,)), columns=['y_prob','y_pred_class', 'y'])\n",
    "ydf.head()"
   ]
  },
  {
   "cell_type": "code",
   "execution_count": 144,
   "id": "8805a34f",
   "metadata": {},
   "outputs": [
    {
     "data": {
      "image/png": "[encoded data removed]",
      "text/plain": [
       "<Figure size 432x288 with 1 Axes>"
      ]
     },
     "metadata": {},
     "output_type": "display_data"
    }
   ],
   "source": [
    "# Graph to show distribution of probabilities produced by the model\n",
    "plt.hist(y_pred_prob)\n",
    "_ = plt.axvline(x=0.5, color='blue')"
   ]
  },
  {
   "cell_type": "code",
   "execution_count": 145,
   "id": "b55ef425",
   "metadata": {},
   "outputs": [
    {
     "name": "stdout",
     "output_type": "stream",
     "text": [
      "              precision    recall  f1-score   support\n",
      "\n",
      "           0       0.99      1.00      0.99      2951\n",
      "           1       0.97      0.96      0.96       442\n",
      "\n",
      "    accuracy                           0.99      3393\n",
      "   macro avg       0.98      0.98      0.98      3393\n",
      "weighted avg       0.99      0.99      0.99      3393\n",
      "\n"
     ]
    },
    {
     "data": {
      "image/png": "[encoded data removed]",
      "text/plain": [
       "<Figure size 432x288 with 2 Axes>"
      ]
     },
     "metadata": {},
     "output_type": "display_data"
    }
   ],
   "source": [
    "# Print metrics\n",
    "class_conf(y_val,y_pred_class)"
   ]
  },
  {
   "cell_type": "code",
   "execution_count": 146,
   "id": "f6d00ca5",
   "metadata": {},
   "outputs": [
    {
     "data": {
      "text/html": [
       "<div>\n",
       "<style scoped>\n",
       "    .dataframe tbody tr th:only-of-type {\n",
       "        vertical-align: middle;\n",
       "    }\n",
       "\n",
       "    .dataframe tbody tr th {\n",
       "        vertical-align: top;\n",
       "    }\n",
       "\n",
       "    .dataframe thead th {\n",
       "        text-align: right;\n",
       "    }\n",
       "</style>\n",
       "<table border=\"1\" class=\"dataframe\">\n",
       "  <thead>\n",
       "    <tr style=\"text-align: right;\">\n",
       "      <th></th>\n",
       "      <th>Accuracy</th>\n",
       "      <th>Precision</th>\n",
       "      <th>Recall</th>\n",
       "      <th>F1</th>\n",
       "      <th>ROCAUC</th>\n",
       "    </tr>\n",
       "  </thead>\n",
       "  <tbody>\n",
       "    <tr>\n",
       "      <th>0</th>\n",
       "      <td>0.990569</td>\n",
       "      <td>0.970183</td>\n",
       "      <td>0.957014</td>\n",
       "      <td>0.963554</td>\n",
       "      <td>0.976304</td>\n",
       "    </tr>\n",
       "  </tbody>\n",
       "</table>\n",
       "</div>"
      ],
      "text/plain": [
       "   Accuracy  Precision    Recall        F1    ROCAUC\n",
       "0  0.990569   0.970183  0.957014  0.963554  0.976304"
      ]
     },
     "execution_count": 146,
     "metadata": {},
     "output_type": "execute_result"
    }
   ],
   "source": [
    "# Summarised results\n",
    "model1 = metric_results(y_val,y_pred_class)\n",
    "model1"
   ]
  },
  {
   "cell_type": "markdown",
   "id": "b6a9f76e",
   "metadata": {},
   "source": [
    "High accuracy but recall on the low side"
   ]
  },
  {
   "cell_type": "markdown",
   "id": "8423d2a2",
   "metadata": {},
   "source": [
    "## Sentiment Model 2"
   ]
  },
  {
   "cell_type": "code",
   "execution_count": 147,
   "id": "2261b2ac",
   "metadata": {},
   "outputs": [],
   "source": [
    "model = Sequential()\n",
    "model.add(Embedding(input_dim = input_dim, output_dim = output_dim, input_length=input_length))\n",
    "model.add(Flatten())\n",
    "model.add(Dense(64, activation='relu', input_shape=(1600,)))\n",
    "model.add(Dense(1, activation='sigmoid'))"
   ]
  },
  {
   "cell_type": "code",
   "execution_count": 148,
   "id": "0a3e2085",
   "metadata": {},
   "outputs": [
    {
     "name": "stdout",
     "output_type": "stream",
     "text": [
      "Model: \"sequential_7\"\n",
      "_________________________________________________________________\n",
      "Layer (type)                 Output Shape              Param #   \n",
      "=================================================================\n",
      "embedding_7 (Embedding)      (None, 20, 16)            96000     \n",
      "_________________________________________________________________\n",
      "flatten_7 (Flatten)          (None, 320)               0         \n",
      "_________________________________________________________________\n",
      "dense_14 (Dense)             (None, 64)                20544     \n",
      "_________________________________________________________________\n",
      "dense_15 (Dense)             (None, 1)                 65        \n",
      "=================================================================\n",
      "Total params: 116,609\n",
      "Trainable params: 116,609\n",
      "Non-trainable params: 0\n",
      "_________________________________________________________________\n",
      "None\n"
     ]
    }
   ],
   "source": [
    "# Compile the model\n",
    "model.compile(optimizer='adam', loss='binary_crossentropy', metrics=['accuracy'])\n",
    "print(model.summary())"
   ]
  },
  {
   "cell_type": "code",
   "execution_count": 149,
   "id": "06f8e5bd",
   "metadata": {},
   "outputs": [],
   "source": [
    "output_dir = 'model_output/SentimentModels2'\n",
    "if not os.path.exists(output_dir):\n",
    "    os.makedirs(output_dir)\n",
    "\n",
    "modelcheckpoint = ModelCheckpoint(filepath=output_dir+\"/weights.{epoch:02d}.hdf5\")\n",
    "\n",
    "callbacks = [EarlyStopping(monitor = \"val_loss\", patience = 5),modelcheckpoint]"
   ]
  },
  {
   "cell_type": "code",
   "execution_count": 150,
   "id": "eed1f5d7",
   "metadata": {},
   "outputs": [
    {
     "name": "stdout",
     "output_type": "stream",
     "text": [
      "Epoch 1/50\n",
      "3393/3393 - 2s - loss: 0.1451 - accuracy: 0.9419 - val_loss: 0.0470 - val_accuracy: 0.9823\n",
      "Epoch 2/50\n",
      "3393/3393 - 2s - loss: 0.0255 - accuracy: 0.9916 - val_loss: 0.0312 - val_accuracy: 0.9882\n",
      "Epoch 3/50\n",
      "3393/3393 - 2s - loss: 0.0061 - accuracy: 0.9977 - val_loss: 0.0282 - val_accuracy: 0.9923\n",
      "Epoch 4/50\n",
      "3393/3393 - 2s - loss: 0.0042 - accuracy: 0.9987 - val_loss: 0.0372 - val_accuracy: 0.9909\n",
      "Epoch 5/50\n",
      "3393/3393 - 2s - loss: 0.0038 - accuracy: 0.9989 - val_loss: 0.0398 - val_accuracy: 0.9909\n",
      "Epoch 6/50\n",
      "3393/3393 - 2s - loss: 7.4216e-04 - accuracy: 0.9996 - val_loss: 0.0470 - val_accuracy: 0.9900\n",
      "Epoch 7/50\n",
      "3393/3393 - 2s - loss: 9.9459e-04 - accuracy: 0.9996 - val_loss: 0.0463 - val_accuracy: 0.9894\n",
      "Epoch 8/50\n",
      "3393/3393 - 2s - loss: 5.0584e-04 - accuracy: 0.9999 - val_loss: 0.0537 - val_accuracy: 0.9894\n"
     ]
    }
   ],
   "source": [
    "# Model using keras embeddings\n",
    "history = model.fit(X_train_w, y_train,\n",
    "                    epochs=epochs,\n",
    "                    verbose=2,\n",
    "                    callbacks = callbacks,\n",
    "                    validation_data=(X_val_w, y_val),\n",
    "                    batch_size=batch_size,class_weight = class_weights)"
   ]
  },
  {
   "cell_type": "code",
   "execution_count": 151,
   "id": "a81b5976",
   "metadata": {},
   "outputs": [
    {
     "name": "stdout",
     "output_type": "stream",
     "text": [
      "Training Accuracy: 0.9998\n",
      "Testing Accuracy:  0.9894\n"
     ]
    }
   ],
   "source": [
    "# Print training and test accuracies\n",
    "loss, accuracy = model.evaluate(X_train_w, y_train, verbose=False)\n",
    "print(\"Training Accuracy: {:.4f}\".format(accuracy))\n",
    "loss, accuracy = model.evaluate(X_val_w, y_val, verbose=False)\n",
    "print(\"Testing Accuracy:  {:.4f}\".format(accuracy))"
   ]
  },
  {
   "cell_type": "code",
   "execution_count": 152,
   "id": "ab2de6f8",
   "metadata": {},
   "outputs": [
    {
     "data": {
      "image/png": "[encoded data removed]",
      "text/plain": [
       "<Figure size 864x360 with 2 Axes>"
      ]
     },
     "metadata": {},
     "output_type": "display_data"
    }
   ],
   "source": [
    "plot_history(history)"
   ]
  },
  {
   "cell_type": "code",
   "execution_count": 153,
   "id": "bb8299fd",
   "metadata": {},
   "outputs": [],
   "source": [
    "# Load model weights from epoch with best validation accuracy\n",
    "model.load_weights(output_dir+\"/weights.03.hdf5\")"
   ]
  },
  {
   "cell_type": "code",
   "execution_count": 154,
   "id": "f4459600",
   "metadata": {},
   "outputs": [],
   "source": [
    "# Get predicted y values and predicted classes\n",
    "y_pred_prob = model.predict(X_val_w)\n",
    "y_pred_class = (model.predict(X_val_w) > 0.5).astype(\"int32\")"
   ]
  },
  {
   "cell_type": "code",
   "execution_count": 155,
   "id": "c8876ef2",
   "metadata": {},
   "outputs": [
    {
     "data": {
      "text/html": [
       "<div>\n",
       "<style scoped>\n",
       "    .dataframe tbody tr th:only-of-type {\n",
       "        vertical-align: middle;\n",
       "    }\n",
       "\n",
       "    .dataframe tbody tr th {\n",
       "        vertical-align: top;\n",
       "    }\n",
       "\n",
       "    .dataframe thead th {\n",
       "        text-align: right;\n",
       "    }\n",
       "</style>\n",
       "<table border=\"1\" class=\"dataframe\">\n",
       "  <thead>\n",
       "    <tr style=\"text-align: right;\">\n",
       "      <th></th>\n",
       "      <th>y_prob</th>\n",
       "      <th>y_pred_class</th>\n",
       "      <th>y</th>\n",
       "    </tr>\n",
       "  </thead>\n",
       "  <tbody>\n",
       "    <tr>\n",
       "      <th>0</th>\n",
       "      <td>[0.9999481]</td>\n",
       "      <td>[1]</td>\n",
       "      <td>1</td>\n",
       "    </tr>\n",
       "    <tr>\n",
       "      <th>1</th>\n",
       "      <td>[2.9650694e-08]</td>\n",
       "      <td>[0]</td>\n",
       "      <td>0</td>\n",
       "    </tr>\n",
       "    <tr>\n",
       "      <th>2</th>\n",
       "      <td>[2.1083813e-05]</td>\n",
       "      <td>[0]</td>\n",
       "      <td>0</td>\n",
       "    </tr>\n",
       "    <tr>\n",
       "      <th>3</th>\n",
       "      <td>[5.6221644e-08]</td>\n",
       "      <td>[0]</td>\n",
       "      <td>0</td>\n",
       "    </tr>\n",
       "    <tr>\n",
       "      <th>4</th>\n",
       "      <td>[0.4817678]</td>\n",
       "      <td>[0]</td>\n",
       "      <td>0</td>\n",
       "    </tr>\n",
       "  </tbody>\n",
       "</table>\n",
       "</div>"
      ],
      "text/plain": [
       "            y_prob y_pred_class  y\n",
       "0      [0.9999481]          [1]  1\n",
       "1  [2.9650694e-08]          [0]  0\n",
       "2  [2.1083813e-05]          [0]  0\n",
       "3  [5.6221644e-08]          [0]  0\n",
       "4      [0.4817678]          [0]  0"
      ]
     },
     "execution_count": 155,
     "metadata": {},
     "output_type": "execute_result"
    }
   ],
   "source": [
    "# Create dataframe with y pred probabilities, classes and y actual\n",
    "ydf = pd.DataFrame(list(zip(y_pred_prob, y_pred_class,y_val,)), columns=['y_prob','y_pred_class', 'y'])\n",
    "ydf.head()"
   ]
  },
  {
   "cell_type": "code",
   "execution_count": 156,
   "id": "ed603f2f",
   "metadata": {},
   "outputs": [
    {
     "data": {
      "image/png": "[encoded data removed]",
      "text/plain": [
       "<Figure size 432x288 with 1 Axes>"
      ]
     },
     "metadata": {},
     "output_type": "display_data"
    }
   ],
   "source": [
    "# Graph to show distribution of probabilities produced by the model\n",
    "plt.hist(y_pred_prob)\n",
    "_ = plt.axvline(x=0.5, color='blue')"
   ]
  },
  {
   "cell_type": "code",
   "execution_count": 157,
   "id": "83abc518",
   "metadata": {},
   "outputs": [
    {
     "name": "stdout",
     "output_type": "stream",
     "text": [
      "              precision    recall  f1-score   support\n",
      "\n",
      "           0       1.00      1.00      1.00      2951\n",
      "           1       0.97      0.97      0.97       442\n",
      "\n",
      "    accuracy                           0.99      3393\n",
      "   macro avg       0.98      0.98      0.98      3393\n",
      "weighted avg       0.99      0.99      0.99      3393\n",
      "\n"
     ]
    },
    {
     "data": {
      "image/png": "[encoded data removed]",
      "text/plain": [
       "<Figure size 432x288 with 2 Axes>"
      ]
     },
     "metadata": {},
     "output_type": "display_data"
    }
   ],
   "source": [
    "# Print metrics\n",
    "class_conf(y_val,y_pred_class)"
   ]
  },
  {
   "cell_type": "code",
   "execution_count": 158,
   "id": "180d2f87",
   "metadata": {},
   "outputs": [
    {
     "data": {
      "text/html": [
       "<div>\n",
       "<style scoped>\n",
       "    .dataframe tbody tr th:only-of-type {\n",
       "        vertical-align: middle;\n",
       "    }\n",
       "\n",
       "    .dataframe tbody tr th {\n",
       "        vertical-align: top;\n",
       "    }\n",
       "\n",
       "    .dataframe thead th {\n",
       "        text-align: right;\n",
       "    }\n",
       "</style>\n",
       "<table border=\"1\" class=\"dataframe\">\n",
       "  <thead>\n",
       "    <tr style=\"text-align: right;\">\n",
       "      <th></th>\n",
       "      <th>Accuracy</th>\n",
       "      <th>Precision</th>\n",
       "      <th>Recall</th>\n",
       "      <th>F1</th>\n",
       "      <th>ROCAUC</th>\n",
       "    </tr>\n",
       "  </thead>\n",
       "  <tbody>\n",
       "    <tr>\n",
       "      <th>0</th>\n",
       "      <td>0.992337</td>\n",
       "      <td>0.970588</td>\n",
       "      <td>0.970588</td>\n",
       "      <td>0.970588</td>\n",
       "      <td>0.983091</td>\n",
       "    </tr>\n",
       "  </tbody>\n",
       "</table>\n",
       "</div>"
      ],
      "text/plain": [
       "   Accuracy  Precision    Recall        F1    ROCAUC\n",
       "0  0.992337   0.970588  0.970588  0.970588  0.983091"
      ]
     },
     "execution_count": 158,
     "metadata": {},
     "output_type": "execute_result"
    }
   ],
   "source": [
    "# Summarised results\n",
    "model2 = metric_results(y_val,y_pred_class)\n",
    "model2"
   ]
  },
  {
   "cell_type": "markdown",
   "id": "d8527ca3",
   "metadata": {},
   "source": [
    "Accuracy still very good and recall improved"
   ]
  },
  {
   "cell_type": "markdown",
   "id": "3c0fbb29",
   "metadata": {},
   "source": [
    "## Sentiment Model 3"
   ]
  },
  {
   "cell_type": "code",
   "execution_count": 159,
   "id": "4867f861",
   "metadata": {},
   "outputs": [],
   "source": [
    "# Network with a hidden layer with more neurons in the dense layer and with dropout of 50%\n",
    "model = Sequential()\n",
    "model.add(Embedding(input_dim = input_dim, output_dim = output_dim, input_length=input_length))\n",
    "model.add(Flatten())\n",
    "model.add(Dense(128, activation='relu'))\n",
    "model.add(Dropout(rate=0.5))\n",
    "model.add(Dense(1, activation='sigmoid')) "
   ]
  },
  {
   "cell_type": "code",
   "execution_count": 160,
   "id": "28063b8e",
   "metadata": {},
   "outputs": [
    {
     "name": "stdout",
     "output_type": "stream",
     "text": [
      "Model: \"sequential_8\"\n",
      "_________________________________________________________________\n",
      "Layer (type)                 Output Shape              Param #   \n",
      "=================================================================\n",
      "embedding_8 (Embedding)      (None, 20, 16)            96000     \n",
      "_________________________________________________________________\n",
      "flatten_8 (Flatten)          (None, 320)               0         \n",
      "_________________________________________________________________\n",
      "dense_16 (Dense)             (None, 128)               41088     \n",
      "_________________________________________________________________\n",
      "dropout_5 (Dropout)          (None, 128)               0         \n",
      "_________________________________________________________________\n",
      "dense_17 (Dense)             (None, 1)                 129       \n",
      "=================================================================\n",
      "Total params: 137,217\n",
      "Trainable params: 137,217\n",
      "Non-trainable params: 0\n",
      "_________________________________________________________________\n",
      "None\n"
     ]
    }
   ],
   "source": [
    "# Compile the model\n",
    "model.compile(optimizer='adam', loss='binary_crossentropy', metrics=['accuracy'])\n",
    "print(model.summary())"
   ]
  },
  {
   "cell_type": "code",
   "execution_count": 161,
   "id": "dba6fac0",
   "metadata": {},
   "outputs": [],
   "source": [
    "output_dir = 'model_output/SentimentModels3'\n",
    "if not os.path.exists(output_dir):\n",
    "    os.makedirs(output_dir)\n",
    "\n",
    "modelcheckpoint = ModelCheckpoint(filepath=output_dir+\"/weights.{epoch:02d}.hdf5\")\n",
    "\n",
    "callbacks = [EarlyStopping(monitor = \"val_loss\", patience = 5),modelcheckpoint]"
   ]
  },
  {
   "cell_type": "code",
   "execution_count": 162,
   "id": "d3da17c6",
   "metadata": {},
   "outputs": [
    {
     "name": "stdout",
     "output_type": "stream",
     "text": [
      "Epoch 1/50\n",
      "3393/3393 - 2s - loss: 0.1515 - accuracy: 0.9324 - val_loss: 0.0696 - val_accuracy: 0.9752\n",
      "Epoch 2/50\n",
      "3393/3393 - 2s - loss: 0.0276 - accuracy: 0.9920 - val_loss: 0.0289 - val_accuracy: 0.9909\n",
      "Epoch 3/50\n",
      "3393/3393 - 2s - loss: 0.0083 - accuracy: 0.9971 - val_loss: 0.0431 - val_accuracy: 0.9900\n",
      "Epoch 4/50\n",
      "3393/3393 - 2s - loss: 0.0070 - accuracy: 0.9976 - val_loss: 0.0437 - val_accuracy: 0.9903\n",
      "Epoch 5/50\n",
      "3393/3393 - 2s - loss: 0.0046 - accuracy: 0.9986 - val_loss: 0.0487 - val_accuracy: 0.9894\n",
      "Epoch 6/50\n",
      "3393/3393 - 2s - loss: 0.0036 - accuracy: 0.9988 - val_loss: 0.0504 - val_accuracy: 0.9915\n",
      "Epoch 7/50\n",
      "3393/3393 - 2s - loss: 0.0035 - accuracy: 0.9991 - val_loss: 0.0537 - val_accuracy: 0.9900\n"
     ]
    }
   ],
   "source": [
    "# Model using keras embeddings\n",
    "history = model.fit(X_train_w, y_train,\n",
    "                    epochs=epochs,\n",
    "                    verbose=2,\n",
    "                    callbacks = callbacks,\n",
    "                    validation_data=(X_val_w, y_val),\n",
    "                    batch_size=batch_size,class_weight = class_weights)"
   ]
  },
  {
   "cell_type": "code",
   "execution_count": 163,
   "id": "06a6a9da",
   "metadata": {},
   "outputs": [
    {
     "name": "stdout",
     "output_type": "stream",
     "text": [
      "Training Accuracy: 0.9996\n",
      "Testing Accuracy:  0.9900\n"
     ]
    }
   ],
   "source": [
    "# Print training and test accuracies\n",
    "loss, accuracy = model.evaluate(X_train_w, y_train, verbose=False)\n",
    "print(\"Training Accuracy: {:.4f}\".format(accuracy))\n",
    "loss, accuracy = model.evaluate(X_val_w, y_val, verbose=False)\n",
    "print(\"Testing Accuracy:  {:.4f}\".format(accuracy))"
   ]
  },
  {
   "cell_type": "code",
   "execution_count": 164,
   "id": "4273eb6f",
   "metadata": {},
   "outputs": [
    {
     "data": {
      "image/png": "[encoded data removed]",
      "text/plain": [
       "<Figure size 864x360 with 2 Axes>"
      ]
     },
     "metadata": {},
     "output_type": "display_data"
    }
   ],
   "source": [
    "plot_history(history)"
   ]
  },
  {
   "cell_type": "code",
   "execution_count": 165,
   "id": "56badc5d",
   "metadata": {},
   "outputs": [],
   "source": [
    "# Load model weights from epoch with best validation accuracy\n",
    "model.load_weights(output_dir+\"/weights.06.hdf5\")"
   ]
  },
  {
   "cell_type": "code",
   "execution_count": 166,
   "id": "cc228453",
   "metadata": {},
   "outputs": [],
   "source": [
    "# Get predicted y values and predicted classes\n",
    "y_pred_prob = model.predict(X_val_w)\n",
    "y_pred_class = (model.predict(X_val_w) > 0.5).astype(\"int32\")"
   ]
  },
  {
   "cell_type": "code",
   "execution_count": 167,
   "id": "ff86d9b5",
   "metadata": {},
   "outputs": [
    {
     "data": {
      "text/html": [
       "<div>\n",
       "<style scoped>\n",
       "    .dataframe tbody tr th:only-of-type {\n",
       "        vertical-align: middle;\n",
       "    }\n",
       "\n",
       "    .dataframe tbody tr th {\n",
       "        vertical-align: top;\n",
       "    }\n",
       "\n",
       "    .dataframe thead th {\n",
       "        text-align: right;\n",
       "    }\n",
       "</style>\n",
       "<table border=\"1\" class=\"dataframe\">\n",
       "  <thead>\n",
       "    <tr style=\"text-align: right;\">\n",
       "      <th></th>\n",
       "      <th>y_prob</th>\n",
       "      <th>y_pred_class</th>\n",
       "      <th>y</th>\n",
       "    </tr>\n",
       "  </thead>\n",
       "  <tbody>\n",
       "    <tr>\n",
       "      <th>0</th>\n",
       "      <td>[1.0]</td>\n",
       "      <td>[1]</td>\n",
       "      <td>1</td>\n",
       "    </tr>\n",
       "    <tr>\n",
       "      <th>1</th>\n",
       "      <td>[1.1007388e-15]</td>\n",
       "      <td>[0]</td>\n",
       "      <td>0</td>\n",
       "    </tr>\n",
       "    <tr>\n",
       "      <th>2</th>\n",
       "      <td>[5.3304893e-07]</td>\n",
       "      <td>[0]</td>\n",
       "      <td>0</td>\n",
       "    </tr>\n",
       "    <tr>\n",
       "      <th>3</th>\n",
       "      <td>[2.7018985e-13]</td>\n",
       "      <td>[0]</td>\n",
       "      <td>0</td>\n",
       "    </tr>\n",
       "    <tr>\n",
       "      <th>4</th>\n",
       "      <td>[0.0289855]</td>\n",
       "      <td>[0]</td>\n",
       "      <td>0</td>\n",
       "    </tr>\n",
       "  </tbody>\n",
       "</table>\n",
       "</div>"
      ],
      "text/plain": [
       "            y_prob y_pred_class  y\n",
       "0            [1.0]          [1]  1\n",
       "1  [1.1007388e-15]          [0]  0\n",
       "2  [5.3304893e-07]          [0]  0\n",
       "3  [2.7018985e-13]          [0]  0\n",
       "4      [0.0289855]          [0]  0"
      ]
     },
     "execution_count": 167,
     "metadata": {},
     "output_type": "execute_result"
    }
   ],
   "source": [
    "# Create dataframe with y pred probabilities, classes and y actual\n",
    "ydf = pd.DataFrame(list(zip(y_pred_prob, y_pred_class,y_val,)), columns=['y_prob','y_pred_class', 'y'])\n",
    "ydf.head()"
   ]
  },
  {
   "cell_type": "code",
   "execution_count": 168,
   "id": "e535be6b",
   "metadata": {},
   "outputs": [
    {
     "data": {
      "image/png": "[encoded data removed]",
      "text/plain": [
       "<Figure size 432x288 with 1 Axes>"
      ]
     },
     "metadata": {},
     "output_type": "display_data"
    }
   ],
   "source": [
    "# Graph to show distribution of probabilities produced by the model\n",
    "plt.hist(y_pred_prob)\n",
    "_ = plt.axvline(x=0.5, color='blue')"
   ]
  },
  {
   "cell_type": "code",
   "execution_count": 169,
   "id": "f972315b",
   "metadata": {},
   "outputs": [
    {
     "name": "stdout",
     "output_type": "stream",
     "text": [
      "              precision    recall  f1-score   support\n",
      "\n",
      "           0       0.99      1.00      1.00      2951\n",
      "           1       0.97      0.96      0.97       442\n",
      "\n",
      "    accuracy                           0.99      3393\n",
      "   macro avg       0.98      0.98      0.98      3393\n",
      "weighted avg       0.99      0.99      0.99      3393\n",
      "\n"
     ]
    },
    {
     "data": {
      "image/png": "[encoded data removed]",
      "text/plain": [
       "<Figure size 432x288 with 2 Axes>"
      ]
     },
     "metadata": {},
     "output_type": "display_data"
    }
   ],
   "source": [
    "# Print metrics\n",
    "class_conf(y_val,y_pred_class)"
   ]
  },
  {
   "cell_type": "code",
   "execution_count": 170,
   "id": "0ce953d7",
   "metadata": {},
   "outputs": [
    {
     "data": {
      "text/html": [
       "<div>\n",
       "<style scoped>\n",
       "    .dataframe tbody tr th:only-of-type {\n",
       "        vertical-align: middle;\n",
       "    }\n",
       "\n",
       "    .dataframe tbody tr th {\n",
       "        vertical-align: top;\n",
       "    }\n",
       "\n",
       "    .dataframe thead th {\n",
       "        text-align: right;\n",
       "    }\n",
       "</style>\n",
       "<table border=\"1\" class=\"dataframe\">\n",
       "  <thead>\n",
       "    <tr style=\"text-align: right;\">\n",
       "      <th></th>\n",
       "      <th>Accuracy</th>\n",
       "      <th>Precision</th>\n",
       "      <th>Recall</th>\n",
       "      <th>F1</th>\n",
       "      <th>ROCAUC</th>\n",
       "    </tr>\n",
       "  </thead>\n",
       "  <tbody>\n",
       "    <tr>\n",
       "      <th>0</th>\n",
       "      <td>0.991453</td>\n",
       "      <td>0.970387</td>\n",
       "      <td>0.963801</td>\n",
       "      <td>0.967083</td>\n",
       "      <td>0.979698</td>\n",
       "    </tr>\n",
       "  </tbody>\n",
       "</table>\n",
       "</div>"
      ],
      "text/plain": [
       "   Accuracy  Precision    Recall        F1    ROCAUC\n",
       "0  0.991453   0.970387  0.963801  0.967083  0.979698"
      ]
     },
     "execution_count": 170,
     "metadata": {},
     "output_type": "execute_result"
    }
   ],
   "source": [
    "# Summarised results\n",
    "model3 = metric_results(y_val,y_pred_class)\n",
    "model3"
   ]
  },
  {
   "cell_type": "markdown",
   "id": "8b8685ba",
   "metadata": {},
   "source": [
    "Accuracy and recall slightly reduced on the previous model"
   ]
  },
  {
   "cell_type": "markdown",
   "id": "eac11f41",
   "metadata": {},
   "source": [
    "## Sentiment Model 4"
   ]
  },
  {
   "cell_type": "code",
   "execution_count": 171,
   "id": "1b025ca2",
   "metadata": {},
   "outputs": [],
   "source": [
    "# Dense model with 2 hidden dense layers and dropout on each\n",
    "model = Sequential()\n",
    "model.add(Embedding(input_dim = input_dim, output_dim = output_dim, input_length=input_length))\n",
    "model.add(Flatten())\n",
    "model.add(Dense(128, activation='relu'))\n",
    "model.add(Dropout(rate=0.5))\n",
    "model.add(Dense(128, activation='relu'))\n",
    "model.add(Dropout(rate = 0.5))\n",
    "model.add(Dense(1, activation='sigmoid')) "
   ]
  },
  {
   "cell_type": "code",
   "execution_count": 172,
   "id": "b6b6c896",
   "metadata": {},
   "outputs": [
    {
     "name": "stdout",
     "output_type": "stream",
     "text": [
      "Model: \"sequential_9\"\n",
      "_________________________________________________________________\n",
      "Layer (type)                 Output Shape              Param #   \n",
      "=================================================================\n",
      "embedding_9 (Embedding)      (None, 20, 16)            96000     \n",
      "_________________________________________________________________\n",
      "flatten_9 (Flatten)          (None, 320)               0         \n",
      "_________________________________________________________________\n",
      "dense_18 (Dense)             (None, 128)               41088     \n",
      "_________________________________________________________________\n",
      "dropout_6 (Dropout)          (None, 128)               0         \n",
      "_________________________________________________________________\n",
      "dense_19 (Dense)             (None, 128)               16512     \n",
      "_________________________________________________________________\n",
      "dropout_7 (Dropout)          (None, 128)               0         \n",
      "_________________________________________________________________\n",
      "dense_20 (Dense)             (None, 1)                 129       \n",
      "=================================================================\n",
      "Total params: 153,729\n",
      "Trainable params: 153,729\n",
      "Non-trainable params: 0\n",
      "_________________________________________________________________\n",
      "None\n"
     ]
    }
   ],
   "source": [
    "# Compile the model\n",
    "model.compile(optimizer='adam', loss='binary_crossentropy', metrics=['accuracy'])\n",
    "print(model.summary())"
   ]
  },
  {
   "cell_type": "code",
   "execution_count": 173,
   "id": "89702333",
   "metadata": {},
   "outputs": [],
   "source": [
    "output_dir = 'model_output/SentimentModels4'\n",
    "if not os.path.exists(output_dir):\n",
    "    os.makedirs(output_dir)\n",
    "\n",
    "modelcheckpoint = ModelCheckpoint(filepath=output_dir+\"/weights.{epoch:02d}.hdf5\")\n",
    "\n",
    "callbacks = [EarlyStopping(monitor = \"val_loss\", patience = 5),modelcheckpoint]"
   ]
  },
  {
   "cell_type": "code",
   "execution_count": 174,
   "id": "335f1c02",
   "metadata": {},
   "outputs": [
    {
     "name": "stdout",
     "output_type": "stream",
     "text": [
      "Epoch 1/50\n",
      "WARNING:tensorflow:Callbacks method `on_test_batch_end` is slow compared to the batch time (batch time: 0.0000s vs `on_test_batch_end` time: 0.0010s). Check your callbacks.\n",
      "3393/3393 - 2s - loss: 0.1660 - accuracy: 0.9399 - val_loss: 0.0474 - val_accuracy: 0.9847\n",
      "Epoch 2/50\n",
      "3393/3393 - 2s - loss: 0.0320 - accuracy: 0.9924 - val_loss: 0.0419 - val_accuracy: 0.9879\n",
      "Epoch 3/50\n",
      "3393/3393 - 2s - loss: 0.0135 - accuracy: 0.9967 - val_loss: 0.0592 - val_accuracy: 0.9867\n",
      "Epoch 4/50\n",
      "3393/3393 - 2s - loss: 0.0090 - accuracy: 0.9979 - val_loss: 0.0531 - val_accuracy: 0.9876\n",
      "Epoch 5/50\n",
      "3393/3393 - 2s - loss: 0.0056 - accuracy: 0.9985 - val_loss: 0.0557 - val_accuracy: 0.9906\n",
      "Epoch 6/50\n",
      "3393/3393 - 2s - loss: 0.0056 - accuracy: 0.9990 - val_loss: 0.1068 - val_accuracy: 0.9826\n",
      "Epoch 7/50\n",
      "3393/3393 - 2s - loss: 0.0043 - accuracy: 0.9988 - val_loss: 0.0469 - val_accuracy: 0.9912\n"
     ]
    }
   ],
   "source": [
    "# Model using keras embeddings\n",
    "history = model.fit(X_train_w, y_train,\n",
    "                    epochs=epochs,\n",
    "                    verbose=2,\n",
    "                    callbacks = callbacks,\n",
    "                    validation_data=(X_val_w, y_val),\n",
    "                    batch_size=batch_size,class_weight = class_weights)"
   ]
  },
  {
   "cell_type": "code",
   "execution_count": 175,
   "id": "f50625ec",
   "metadata": {},
   "outputs": [
    {
     "name": "stdout",
     "output_type": "stream",
     "text": [
      "Training Accuracy: 0.9993\n",
      "Testing Accuracy:  0.9912\n"
     ]
    }
   ],
   "source": [
    "# Print training and test accuracies\n",
    "loss, accuracy = model.evaluate(X_train_w, y_train, verbose=False)\n",
    "print(\"Training Accuracy: {:.4f}\".format(accuracy))\n",
    "loss, accuracy = model.evaluate(X_val_w, y_val, verbose=False)\n",
    "print(\"Testing Accuracy:  {:.4f}\".format(accuracy))"
   ]
  },
  {
   "cell_type": "code",
   "execution_count": 176,
   "id": "d9897fe5",
   "metadata": {},
   "outputs": [
    {
     "data": {
      "image/png": "[encoded data removed]",
      "text/plain": [
       "<Figure size 864x360 with 2 Axes>"
      ]
     },
     "metadata": {},
     "output_type": "display_data"
    }
   ],
   "source": [
    "plot_history(history)"
   ]
  },
  {
   "cell_type": "code",
   "execution_count": 177,
   "id": "5bd799d9",
   "metadata": {},
   "outputs": [],
   "source": [
    "# Load model weights from epoch with best validation accuracy\n",
    "model.load_weights(output_dir+\"/weights.07.hdf5\")"
   ]
  },
  {
   "cell_type": "code",
   "execution_count": 178,
   "id": "8f9ce6ff",
   "metadata": {},
   "outputs": [],
   "source": [
    "# Get predicted y values and predicted classes\n",
    "y_pred_prob = model.predict(X_val_w)\n",
    "y_pred_class = (model.predict(X_val_w) > 0.5).astype(\"int32\")"
   ]
  },
  {
   "cell_type": "code",
   "execution_count": 179,
   "id": "7a60b915",
   "metadata": {},
   "outputs": [
    {
     "data": {
      "text/html": [
       "<div>\n",
       "<style scoped>\n",
       "    .dataframe tbody tr th:only-of-type {\n",
       "        vertical-align: middle;\n",
       "    }\n",
       "\n",
       "    .dataframe tbody tr th {\n",
       "        vertical-align: top;\n",
       "    }\n",
       "\n",
       "    .dataframe thead th {\n",
       "        text-align: right;\n",
       "    }\n",
       "</style>\n",
       "<table border=\"1\" class=\"dataframe\">\n",
       "  <thead>\n",
       "    <tr style=\"text-align: right;\">\n",
       "      <th></th>\n",
       "      <th>y_prob</th>\n",
       "      <th>y_pred_class</th>\n",
       "      <th>y</th>\n",
       "    </tr>\n",
       "  </thead>\n",
       "  <tbody>\n",
       "    <tr>\n",
       "      <th>0</th>\n",
       "      <td>[0.9999995]</td>\n",
       "      <td>[1]</td>\n",
       "      <td>1</td>\n",
       "    </tr>\n",
       "    <tr>\n",
       "      <th>1</th>\n",
       "      <td>[8.574475e-20]</td>\n",
       "      <td>[0]</td>\n",
       "      <td>0</td>\n",
       "    </tr>\n",
       "    <tr>\n",
       "      <th>2</th>\n",
       "      <td>[5.644906e-10]</td>\n",
       "      <td>[0]</td>\n",
       "      <td>0</td>\n",
       "    </tr>\n",
       "    <tr>\n",
       "      <th>3</th>\n",
       "      <td>[1.1379466e-25]</td>\n",
       "      <td>[0]</td>\n",
       "      <td>0</td>\n",
       "    </tr>\n",
       "    <tr>\n",
       "      <th>4</th>\n",
       "      <td>[0.00033190846]</td>\n",
       "      <td>[0]</td>\n",
       "      <td>0</td>\n",
       "    </tr>\n",
       "  </tbody>\n",
       "</table>\n",
       "</div>"
      ],
      "text/plain": [
       "            y_prob y_pred_class  y\n",
       "0      [0.9999995]          [1]  1\n",
       "1   [8.574475e-20]          [0]  0\n",
       "2   [5.644906e-10]          [0]  0\n",
       "3  [1.1379466e-25]          [0]  0\n",
       "4  [0.00033190846]          [0]  0"
      ]
     },
     "execution_count": 179,
     "metadata": {},
     "output_type": "execute_result"
    }
   ],
   "source": [
    "# Create dataframe with y pred probabilities, classes and y actual\n",
    "ydf = pd.DataFrame(list(zip(y_pred_prob, y_pred_class,y_val,)), columns=['y_prob','y_pred_class', 'y'])\n",
    "ydf.head()"
   ]
  },
  {
   "cell_type": "code",
   "execution_count": 180,
   "id": "b3aa26f5",
   "metadata": {},
   "outputs": [
    {
     "data": {
      "image/png": "[encoded data removed]",
      "text/plain": [
       "<Figure size 432x288 with 1 Axes>"
      ]
     },
     "metadata": {},
     "output_type": "display_data"
    }
   ],
   "source": [
    "# Graph to show distribution of probabilities produced by the model\n",
    "plt.hist(y_pred_prob)\n",
    "_ = plt.axvline(x=0.5, color='blue')"
   ]
  },
  {
   "cell_type": "code",
   "execution_count": 181,
   "id": "925e1c10",
   "metadata": {},
   "outputs": [
    {
     "name": "stdout",
     "output_type": "stream",
     "text": [
      "              precision    recall  f1-score   support\n",
      "\n",
      "           0       0.99      1.00      0.99      2951\n",
      "           1       0.98      0.95      0.97       442\n",
      "\n",
      "    accuracy                           0.99      3393\n",
      "   macro avg       0.99      0.97      0.98      3393\n",
      "weighted avg       0.99      0.99      0.99      3393\n",
      "\n"
     ]
    },
    {
     "data": {
      "image/png": "[encoded data removed]",
      "text/plain": [
       "<Figure size 432x288 with 2 Axes>"
      ]
     },
     "metadata": {},
     "output_type": "display_data"
    }
   ],
   "source": [
    "# Print metrics\n",
    "class_conf(y_val,y_pred_class)"
   ]
  },
  {
   "cell_type": "code",
   "execution_count": 182,
   "id": "dff5ce3b",
   "metadata": {},
   "outputs": [
    {
     "data": {
      "text/html": [
       "<div>\n",
       "<style scoped>\n",
       "    .dataframe tbody tr th:only-of-type {\n",
       "        vertical-align: middle;\n",
       "    }\n",
       "\n",
       "    .dataframe tbody tr th {\n",
       "        vertical-align: top;\n",
       "    }\n",
       "\n",
       "    .dataframe thead th {\n",
       "        text-align: right;\n",
       "    }\n",
       "</style>\n",
       "<table border=\"1\" class=\"dataframe\">\n",
       "  <thead>\n",
       "    <tr style=\"text-align: right;\">\n",
       "      <th></th>\n",
       "      <th>Accuracy</th>\n",
       "      <th>Precision</th>\n",
       "      <th>Recall</th>\n",
       "      <th>F1</th>\n",
       "      <th>ROCAUC</th>\n",
       "    </tr>\n",
       "  </thead>\n",
       "  <tbody>\n",
       "    <tr>\n",
       "      <th>0</th>\n",
       "      <td>0.991158</td>\n",
       "      <td>0.981308</td>\n",
       "      <td>0.950226</td>\n",
       "      <td>0.965517</td>\n",
       "      <td>0.973758</td>\n",
       "    </tr>\n",
       "  </tbody>\n",
       "</table>\n",
       "</div>"
      ],
      "text/plain": [
       "   Accuracy  Precision    Recall        F1    ROCAUC\n",
       "0  0.991158   0.981308  0.950226  0.965517  0.973758"
      ]
     },
     "execution_count": 182,
     "metadata": {},
     "output_type": "execute_result"
    }
   ],
   "source": [
    "# Summarised results\n",
    "model4 = metric_results(y_val,y_pred_class)\n",
    "model4"
   ]
  },
  {
   "cell_type": "markdown",
   "id": "67f1c5f9",
   "metadata": {},
   "source": [
    "No real change to accuracy and recall reduced further"
   ]
  },
  {
   "cell_type": "markdown",
   "id": "a97fa68d",
   "metadata": {},
   "source": [
    "##  Sentiment Model 5"
   ]
  },
  {
   "cell_type": "code",
   "execution_count": 183,
   "id": "1b236367",
   "metadata": {},
   "outputs": [],
   "source": [
    "# Dense model with 2 hidden dense layers and dropout on each\n",
    "model = Sequential()\n",
    "model.add(Embedding(input_dim = input_dim, output_dim = output_dim, input_length=input_length))\n",
    "model.add(Flatten())\n",
    "model.add(Dense(512, activation='relu'))\n",
    "model.add(Dropout(rate=0.5))\n",
    "model.add(Dense(256, activation='relu'))\n",
    "model.add(Dropout(rate = 0.5))\n",
    "model.add(Dense(128,activation = 'relu'))\n",
    "model.add(Dense(1, activation='sigmoid')) "
   ]
  },
  {
   "cell_type": "code",
   "execution_count": 184,
   "id": "202d6c34",
   "metadata": {},
   "outputs": [
    {
     "name": "stdout",
     "output_type": "stream",
     "text": [
      "Model: \"sequential_10\"\n",
      "_________________________________________________________________\n",
      "Layer (type)                 Output Shape              Param #   \n",
      "=================================================================\n",
      "embedding_10 (Embedding)     (None, 20, 16)            96000     \n",
      "_________________________________________________________________\n",
      "flatten_10 (Flatten)         (None, 320)               0         \n",
      "_________________________________________________________________\n",
      "dense_21 (Dense)             (None, 512)               164352    \n",
      "_________________________________________________________________\n",
      "dropout_8 (Dropout)          (None, 512)               0         \n",
      "_________________________________________________________________\n",
      "dense_22 (Dense)             (None, 256)               131328    \n",
      "_________________________________________________________________\n",
      "dropout_9 (Dropout)          (None, 256)               0         \n",
      "_________________________________________________________________\n",
      "dense_23 (Dense)             (None, 128)               32896     \n",
      "_________________________________________________________________\n",
      "dense_24 (Dense)             (None, 1)                 129       \n",
      "=================================================================\n",
      "Total params: 424,705\n",
      "Trainable params: 424,705\n",
      "Non-trainable params: 0\n",
      "_________________________________________________________________\n",
      "None\n"
     ]
    }
   ],
   "source": [
    "# Compile the model\n",
    "model.compile(optimizer='adam', loss='binary_crossentropy', metrics=['accuracy'])\n",
    "print(model.summary())"
   ]
  },
  {
   "cell_type": "code",
   "execution_count": 185,
   "id": "ce74cd46",
   "metadata": {},
   "outputs": [],
   "source": [
    "output_dir = 'model_output/SentimentModels5'\n",
    "if not os.path.exists(output_dir):\n",
    "    os.makedirs(output_dir)\n",
    "\n",
    "modelcheckpoint = ModelCheckpoint(filepath=output_dir+\"/weights.{epoch:02d}.hdf5\")\n",
    "\n",
    "callbacks = [EarlyStopping(monitor = \"val_loss\", patience = 5),modelcheckpoint]"
   ]
  },
  {
   "cell_type": "code",
   "execution_count": 186,
   "id": "bb881d82",
   "metadata": {},
   "outputs": [
    {
     "name": "stdout",
     "output_type": "stream",
     "text": [
      "Epoch 1/50\n",
      "3393/3393 - 4s - loss: 0.1619 - accuracy: 0.9447 - val_loss: 0.0365 - val_accuracy: 0.9861\n",
      "Epoch 2/50\n",
      "3393/3393 - 4s - loss: 0.0367 - accuracy: 0.9922 - val_loss: 0.0467 - val_accuracy: 0.9882\n",
      "Epoch 3/50\n",
      "3393/3393 - 3s - loss: 0.0133 - accuracy: 0.9969 - val_loss: 0.0579 - val_accuracy: 0.9885\n",
      "Epoch 4/50\n",
      "3393/3393 - 3s - loss: 0.0108 - accuracy: 0.9978 - val_loss: 0.0801 - val_accuracy: 0.9894\n",
      "Epoch 5/50\n",
      "3393/3393 - 4s - loss: 0.0080 - accuracy: 0.9985 - val_loss: 0.0763 - val_accuracy: 0.9891\n",
      "Epoch 6/50\n",
      "3393/3393 - 3s - loss: 0.0075 - accuracy: 0.9986 - val_loss: 0.0977 - val_accuracy: 0.9882\n"
     ]
    }
   ],
   "source": [
    "# Model using keras embeddings\n",
    "history = model.fit(X_train_w, y_train,\n",
    "                    epochs=epochs,\n",
    "                    verbose=2,\n",
    "                    callbacks = callbacks,\n",
    "                    validation_data=(X_val_w, y_val),\n",
    "                    batch_size=batch_size,class_weight = class_weights)"
   ]
  },
  {
   "cell_type": "code",
   "execution_count": 187,
   "id": "c64d75bd",
   "metadata": {},
   "outputs": [
    {
     "name": "stdout",
     "output_type": "stream",
     "text": [
      "Training Accuracy: 0.9992\n",
      "Testing Accuracy:  0.9882\n"
     ]
    }
   ],
   "source": [
    "# Print training and test accuracies\n",
    "loss, accuracy = model.evaluate(X_train_w, y_train, verbose=False)\n",
    "print(\"Training Accuracy: {:.4f}\".format(accuracy))\n",
    "loss, accuracy = model.evaluate(X_val_w, y_val, verbose=False)\n",
    "print(\"Testing Accuracy:  {:.4f}\".format(accuracy))"
   ]
  },
  {
   "cell_type": "code",
   "execution_count": 188,
   "id": "3027a7bd",
   "metadata": {},
   "outputs": [
    {
     "data": {
      "image/png": "[encoded data removed]",
      "text/plain": [
       "<Figure size 864x360 with 2 Axes>"
      ]
     },
     "metadata": {},
     "output_type": "display_data"
    }
   ],
   "source": [
    "plot_history(history)"
   ]
  },
  {
   "cell_type": "code",
   "execution_count": 189,
   "id": "69b11d1d",
   "metadata": {},
   "outputs": [],
   "source": [
    "# Load model weights from epoch with best validation accuracy\n",
    "model.load_weights(output_dir+\"/weights.04.hdf5\")"
   ]
  },
  {
   "cell_type": "code",
   "execution_count": 190,
   "id": "85424fa4",
   "metadata": {},
   "outputs": [],
   "source": [
    "# Get predicted y values and predicted classes\n",
    "y_pred_prob = model.predict(X_val_w)\n",
    "y_pred_class = (model.predict(X_val_w) > 0.5).astype(\"int32\")"
   ]
  },
  {
   "cell_type": "code",
   "execution_count": 191,
   "id": "32bf8de8",
   "metadata": {},
   "outputs": [
    {
     "data": {
      "text/html": [
       "<div>\n",
       "<style scoped>\n",
       "    .dataframe tbody tr th:only-of-type {\n",
       "        vertical-align: middle;\n",
       "    }\n",
       "\n",
       "    .dataframe tbody tr th {\n",
       "        vertical-align: top;\n",
       "    }\n",
       "\n",
       "    .dataframe thead th {\n",
       "        text-align: right;\n",
       "    }\n",
       "</style>\n",
       "<table border=\"1\" class=\"dataframe\">\n",
       "  <thead>\n",
       "    <tr style=\"text-align: right;\">\n",
       "      <th></th>\n",
       "      <th>y_prob</th>\n",
       "      <th>y_pred_class</th>\n",
       "      <th>y</th>\n",
       "    </tr>\n",
       "  </thead>\n",
       "  <tbody>\n",
       "    <tr>\n",
       "      <th>0</th>\n",
       "      <td>[1.0]</td>\n",
       "      <td>[1]</td>\n",
       "      <td>1</td>\n",
       "    </tr>\n",
       "    <tr>\n",
       "      <th>1</th>\n",
       "      <td>[5.9369156e-21]</td>\n",
       "      <td>[0]</td>\n",
       "      <td>0</td>\n",
       "    </tr>\n",
       "    <tr>\n",
       "      <th>2</th>\n",
       "      <td>[4.1593146e-11]</td>\n",
       "      <td>[0]</td>\n",
       "      <td>0</td>\n",
       "    </tr>\n",
       "    <tr>\n",
       "      <th>3</th>\n",
       "      <td>[4.3874828e-23]</td>\n",
       "      <td>[0]</td>\n",
       "      <td>0</td>\n",
       "    </tr>\n",
       "    <tr>\n",
       "      <th>4</th>\n",
       "      <td>[0.081876904]</td>\n",
       "      <td>[0]</td>\n",
       "      <td>0</td>\n",
       "    </tr>\n",
       "  </tbody>\n",
       "</table>\n",
       "</div>"
      ],
      "text/plain": [
       "            y_prob y_pred_class  y\n",
       "0            [1.0]          [1]  1\n",
       "1  [5.9369156e-21]          [0]  0\n",
       "2  [4.1593146e-11]          [0]  0\n",
       "3  [4.3874828e-23]          [0]  0\n",
       "4    [0.081876904]          [0]  0"
      ]
     },
     "execution_count": 191,
     "metadata": {},
     "output_type": "execute_result"
    }
   ],
   "source": [
    "# Create dataframe with y pred probabilities, classes and y actual\n",
    "ydf = pd.DataFrame(list(zip(y_pred_prob, y_pred_class,y_val,)), columns=['y_prob','y_pred_class', 'y'])\n",
    "ydf.head()"
   ]
  },
  {
   "cell_type": "code",
   "execution_count": 192,
   "id": "0e9013e3",
   "metadata": {},
   "outputs": [
    {
     "data": {
      "image/png": "[encoded data removed]",
      "text/plain": [
       "<Figure size 432x288 with 1 Axes>"
      ]
     },
     "metadata": {},
     "output_type": "display_data"
    }
   ],
   "source": [
    "# Graph to show distribution of probabilities produced by the model\n",
    "plt.hist(y_pred_prob)\n",
    "_ = plt.axvline(x=0.5, color='blue')"
   ]
  },
  {
   "cell_type": "code",
   "execution_count": 193,
   "id": "dca08f57",
   "metadata": {},
   "outputs": [
    {
     "name": "stdout",
     "output_type": "stream",
     "text": [
      "              precision    recall  f1-score   support\n",
      "\n",
      "           0       0.99      0.99      0.99      2951\n",
      "           1       0.96      0.96      0.96       442\n",
      "\n",
      "    accuracy                           0.99      3393\n",
      "   macro avg       0.97      0.98      0.98      3393\n",
      "weighted avg       0.99      0.99      0.99      3393\n",
      "\n"
     ]
    },
    {
     "data": {
      "image/png": "[encoded data removed]",
      "text/plain": [
       "<Figure size 432x288 with 2 Axes>"
      ]
     },
     "metadata": {},
     "output_type": "display_data"
    }
   ],
   "source": [
    "# Print metrics\n",
    "class_conf(y_val,y_pred_class)"
   ]
  },
  {
   "cell_type": "code",
   "execution_count": 194,
   "id": "196aa465",
   "metadata": {},
   "outputs": [
    {
     "data": {
      "text/html": [
       "<div>\n",
       "<style scoped>\n",
       "    .dataframe tbody tr th:only-of-type {\n",
       "        vertical-align: middle;\n",
       "    }\n",
       "\n",
       "    .dataframe tbody tr th {\n",
       "        vertical-align: top;\n",
       "    }\n",
       "\n",
       "    .dataframe thead th {\n",
       "        text-align: right;\n",
       "    }\n",
       "</style>\n",
       "<table border=\"1\" class=\"dataframe\">\n",
       "  <thead>\n",
       "    <tr style=\"text-align: right;\">\n",
       "      <th></th>\n",
       "      <th>Accuracy</th>\n",
       "      <th>Precision</th>\n",
       "      <th>Recall</th>\n",
       "      <th>F1</th>\n",
       "      <th>ROCAUC</th>\n",
       "    </tr>\n",
       "  </thead>\n",
       "  <tbody>\n",
       "    <tr>\n",
       "      <th>0</th>\n",
       "      <td>0.98939</td>\n",
       "      <td>0.955157</td>\n",
       "      <td>0.963801</td>\n",
       "      <td>0.959459</td>\n",
       "      <td>0.978512</td>\n",
       "    </tr>\n",
       "  </tbody>\n",
       "</table>\n",
       "</div>"
      ],
      "text/plain": [
       "   Accuracy  Precision    Recall        F1    ROCAUC\n",
       "0   0.98939   0.955157  0.963801  0.959459  0.978512"
      ]
     },
     "execution_count": 194,
     "metadata": {},
     "output_type": "execute_result"
    }
   ],
   "source": [
    "# Summarised results\n",
    "model5 = metric_results(y_val,y_pred_class)\n",
    "model5"
   ]
  },
  {
   "cell_type": "markdown",
   "id": "ce02a95e",
   "metadata": {},
   "source": [
    "No improvements in accuracy and recall"
   ]
  },
  {
   "cell_type": "markdown",
   "id": "1fa88d69",
   "metadata": {},
   "source": [
    "# Section 4: Summary of results"
   ]
  },
  {
   "cell_type": "code",
   "execution_count": 197,
   "id": "ac9417e5",
   "metadata": {},
   "outputs": [
    {
     "data": {
      "text/html": [
       "<div>\n",
       "<style scoped>\n",
       "    .dataframe tbody tr th:only-of-type {\n",
       "        vertical-align: middle;\n",
       "    }\n",
       "\n",
       "    .dataframe tbody tr th {\n",
       "        vertical-align: top;\n",
       "    }\n",
       "\n",
       "    .dataframe thead th {\n",
       "        text-align: right;\n",
       "    }\n",
       "</style>\n",
       "<table border=\"1\" class=\"dataframe\">\n",
       "  <thead>\n",
       "    <tr style=\"text-align: right;\">\n",
       "      <th></th>\n",
       "      <th>Accuracy</th>\n",
       "      <th>Precision</th>\n",
       "      <th>Recall</th>\n",
       "      <th>F1</th>\n",
       "      <th>ROCAUC</th>\n",
       "    </tr>\n",
       "  </thead>\n",
       "  <tbody>\n",
       "    <tr>\n",
       "      <th>Model2</th>\n",
       "      <td>0.992337</td>\n",
       "      <td>0.970588</td>\n",
       "      <td>0.970588</td>\n",
       "      <td>0.970588</td>\n",
       "      <td>0.983091</td>\n",
       "    </tr>\n",
       "    <tr>\n",
       "      <th>Model3</th>\n",
       "      <td>0.991453</td>\n",
       "      <td>0.970387</td>\n",
       "      <td>0.963801</td>\n",
       "      <td>0.967083</td>\n",
       "      <td>0.979698</td>\n",
       "    </tr>\n",
       "    <tr>\n",
       "      <th>Model5</th>\n",
       "      <td>0.989390</td>\n",
       "      <td>0.955157</td>\n",
       "      <td>0.963801</td>\n",
       "      <td>0.959459</td>\n",
       "      <td>0.978512</td>\n",
       "    </tr>\n",
       "    <tr>\n",
       "      <th>Model1</th>\n",
       "      <td>0.990569</td>\n",
       "      <td>0.970183</td>\n",
       "      <td>0.957014</td>\n",
       "      <td>0.963554</td>\n",
       "      <td>0.976304</td>\n",
       "    </tr>\n",
       "    <tr>\n",
       "      <th>Model4</th>\n",
       "      <td>0.991158</td>\n",
       "      <td>0.981308</td>\n",
       "      <td>0.950226</td>\n",
       "      <td>0.965517</td>\n",
       "      <td>0.973758</td>\n",
       "    </tr>\n",
       "  </tbody>\n",
       "</table>\n",
       "</div>"
      ],
      "text/plain": [
       "        Accuracy  Precision    Recall        F1    ROCAUC\n",
       "Model2  0.992337   0.970588  0.970588  0.970588  0.983091\n",
       "Model3  0.991453   0.970387  0.963801  0.967083  0.979698\n",
       "Model5  0.989390   0.955157  0.963801  0.959459  0.978512\n",
       "Model1  0.990569   0.970183  0.957014  0.963554  0.976304\n",
       "Model4  0.991158   0.981308  0.950226  0.965517  0.973758"
      ]
     },
     "execution_count": 197,
     "metadata": {},
     "output_type": "execute_result"
    }
   ],
   "source": [
    "models = [\"Model1\",\"Model2\",\"Model3\",\"Model4\",\"Model5\"]\n",
    "summary_table = pd.concat([model1,model2,model3,model4,model5])\n",
    "summary_table.set_index([models],inplace = True)\n",
    "summary_table.to_csv(\"results_sentiment.csv\")\n",
    "summary_table.sort_values(by = \"Recall\",ascending = False)"
   ]
  },
  {
   "cell_type": "markdown",
   "id": "12a48c70",
   "metadata": {},
   "source": [
    "The model that has the best accuracy and recall is Model 2, which is a network with one dense layer. This is in effect a simple binary text classification task, so it is perhaps not surprising that a simple model works fairly well."
   ]
  }
 ],
 "metadata": {
  "kernelspec": {
   "display_name": "Python 3",
   "language": "python",
   "name": "python3"
  },
  "language_info": {
   "codemirror_mode": {
    "name": "ipython",
    "version": 3
   },
   "file_extension": ".py",
   "mimetype": "text/x-python",
   "name": "python",
   "nbconvert_exporter": "python",
   "pygments_lexer": "ipython3",
   "version": "3.7.10"
  }
 },
 "nbformat": 4,
 "nbformat_minor": 5
}
