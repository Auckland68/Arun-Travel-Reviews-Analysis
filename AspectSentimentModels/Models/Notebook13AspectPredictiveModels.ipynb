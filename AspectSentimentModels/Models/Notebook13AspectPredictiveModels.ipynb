{
 "cells": [
  {
   "cell_type": "markdown",
   "id": "7702dc2e",
   "metadata": {},
   "source": [
    "This notebook investigates predictive models for the aspects part of the review data based on the extracted nouns. The output is therefore multiclass.\n",
    "\n",
    "* Section 1 - Import libraries and dataset\n",
    "* Section 2 - Data cleaning\n",
    "* Section 3 - Data preprocessing\n",
    "* Section 4 - Building an aspect classifier (Accommodation)\n",
    "* Section 5 - Building an aspect classifier (Food)\n",
    "* Section 6 - Building an aspect classifier (Attractions)\n",
    "\n",
    "Dataset needed to run this notebook:\n",
    "\n",
    "* combinedaspectcheck.xlsx"
   ]
  },
  {
   "cell_type": "markdown",
   "id": "fbb5057b",
   "metadata": {},
   "source": [
    "# Section 1: Import libraries and dataset"
   ]
  },
  {
   "cell_type": "code",
   "execution_count": 125,
   "id": "62125b2e",
   "metadata": {},
   "outputs": [],
   "source": [
    "import pandas as pd\n",
    "import numpy as np\n",
    "\n",
    "from sklearn import preprocessing\n",
    "import keras\n",
    "from keras.models import Sequential\n",
    "from keras.layers import Dense,Flatten,Embedding,LSTM,Dropout,SpatialDropout1D,Conv1D,GlobalMaxPooling1D,SimpleRNN,LSTM,GRU,Bidirectional\n",
    "from keras.preprocessing.text import Tokenizer\n",
    "from keras.preprocessing.sequence import pad_sequences\n",
    "from keras.callbacks import EarlyStopping,ModelCheckpoint\n",
    "from keras.utils import to_categorical\n",
    "from matplotlib import pyplot as plt\n",
    "import seaborn as sns\n",
    "sns.set()\n",
    "import imblearn\n",
    "from imblearn.over_sampling import SMOTE\n",
    "from sklearn.preprocessing import LabelBinarizer\n",
    "from imblearn.over_sampling import SMOTE\n",
    "import os\n",
    "import pickle\n",
    "import nltk\n",
    "from nltk.corpus import stopwords\n",
    "from sklearn.model_selection import train_test_split\n",
    "from sklearn.metrics import accuracy_score,roc_auc_score,precision_score,recall_score,f1_score,confusion_matrix,classification_report\n",
    "from sklearn.utils import class_weight\n",
    "\n",
    "import warnings\n",
    "warnings.filterwarnings('ignore')"
   ]
  },
  {
   "cell_type": "code",
   "execution_count": 262,
   "id": "b01f8796",
   "metadata": {},
   "outputs": [],
   "source": [
    "# Bring in manually annotated accommodation data from spreadsheet file\n",
    "df_accom = pd.read_excel(\"combinedaspectcheck.xlsx\",sheet_name = \"CLEANEDACCOM\",engine = \"openpyxl\")\n",
    "df_food = pd.read_excel(\"combinedaspectcheck.xlsx\",sheet_name = \"CLEANEDFOOD\", engine = \"openpyxl\")\n",
    "df_attract = pd.read_excel(\"combinedaspectcheck.xlsx\", sheet_name = \"CLEANEDATTRACT\", engine = \"openpyxl\")"
   ]
  },
  {
   "cell_type": "code",
   "execution_count": 263,
   "id": "c27464bf",
   "metadata": {},
   "outputs": [],
   "source": [
    "df_accom.drop([\"Category\"],axis = 1, inplace = True)\n",
    "df_food.drop([\"Category\"],axis = 1,inplace = True)\n",
    "df_attract.drop([\"Category\"],axis = 1,inplace = True)"
   ]
  },
  {
   "cell_type": "markdown",
   "id": "0f3ae3e5",
   "metadata": {},
   "source": [
    "# Section 2: Data Cleaning"
   ]
  },
  {
   "cell_type": "markdown",
   "id": "6ad8340f",
   "metadata": {},
   "source": [
    "## Accommodation"
   ]
  },
  {
   "cell_type": "code",
   "execution_count": 264,
   "id": "10e177f0",
   "metadata": {},
   "outputs": [
    {
     "name": "stdout",
     "output_type": "stream",
     "text": [
      "<class 'pandas.core.frame.DataFrame'>\n",
      "RangeIndex: 2220 entries, 0 to 2219\n",
      "Data columns (total 6 columns):\n",
      " #   Column        Non-Null Count  Dtype  \n",
      "---  ------        --------------  -----  \n",
      " 0   OrigId        2220 non-null   int64  \n",
      " 1   Cleaned       2220 non-null   object \n",
      " 2   Noun Phrases  2220 non-null   object \n",
      " 3   Nouns         2220 non-null   object \n",
      " 4   Aspect        2220 non-null   object \n",
      " 5   Sentiment     2220 non-null   float64\n",
      "dtypes: float64(1), int64(1), object(4)\n",
      "memory usage: 104.2+ KB\n"
     ]
    }
   ],
   "source": [
    "df_accom.info()"
   ]
  },
  {
   "cell_type": "code",
   "execution_count": 265,
   "id": "06a3b449",
   "metadata": {},
   "outputs": [
    {
     "data": {
      "text/plain": [
       "Food             350\n",
       "Room             350\n",
       "Staff            350\n",
       "Hotel            349\n",
       "Entertainment    348\n",
       "Value            250\n",
       "Location         215\n",
       "location           5\n",
       "entertainment      2\n",
       "hotel              1\n",
       "Name: Aspect, dtype: int64"
      ]
     },
     "execution_count": 265,
     "metadata": {},
     "output_type": "execute_result"
    }
   ],
   "source": [
    "# Aspect value counts\n",
    "df_accom[\"Aspect\"].value_counts()"
   ]
  },
  {
   "cell_type": "code",
   "execution_count": 266,
   "id": "fedc1797",
   "metadata": {},
   "outputs": [],
   "source": [
    "# Set to title case as some categories are multiples\n",
    "df_accom[\"Aspect\"] = df_accom[\"Aspect\"].apply(lambda x: x.title())"
   ]
  },
  {
   "cell_type": "code",
   "execution_count": 267,
   "id": "84cbdce4",
   "metadata": {},
   "outputs": [
    {
     "data": {
      "text/plain": [
       "Food             350\n",
       "Entertainment    350\n",
       "Room             350\n",
       "Hotel            350\n",
       "Staff            350\n",
       "Value            250\n",
       "Location         220\n",
       "Name: Aspect, dtype: int64"
      ]
     },
     "execution_count": 267,
     "metadata": {},
     "output_type": "execute_result"
    }
   ],
   "source": [
    "df_accom[\"Aspect\"].value_counts()"
   ]
  },
  {
   "cell_type": "markdown",
   "id": "2f5f75c1",
   "metadata": {},
   "source": [
    "Mostly balanced categories, the two smaller categories represent those where all datapoints were used but there were just fewer overall."
   ]
  },
  {
   "cell_type": "markdown",
   "id": "82b0ed14",
   "metadata": {},
   "source": [
    "## Food"
   ]
  },
  {
   "cell_type": "code",
   "execution_count": 268,
   "id": "e8f5c964",
   "metadata": {},
   "outputs": [
    {
     "name": "stdout",
     "output_type": "stream",
     "text": [
      "<class 'pandas.core.frame.DataFrame'>\n",
      "RangeIndex: 2100 entries, 0 to 2099\n",
      "Data columns (total 8 columns):\n",
      " #   Column        Non-Null Count  Dtype  \n",
      "---  ------        --------------  -----  \n",
      " 0   OrigInd       2100 non-null   int64  \n",
      " 1   Cleaned       2100 non-null   object \n",
      " 2   Noun Phrases  2100 non-null   object \n",
      " 3   Nouns         2100 non-null   object \n",
      " 4   Sentiment     2100 non-null   float64\n",
      " 5   Aspect        2100 non-null   object \n",
      " 6   Orig Aspect   2100 non-null   object \n",
      " 7   Column1       0 non-null      float64\n",
      "dtypes: float64(2), int64(1), object(5)\n",
      "memory usage: 131.4+ KB\n"
     ]
    }
   ],
   "source": [
    "df_food.info()"
   ]
  },
  {
   "cell_type": "code",
   "execution_count": 269,
   "id": "bfd3676f",
   "metadata": {},
   "outputs": [
    {
     "data": {
      "text/plain": [
       "Visit Exp        350\n",
       "Staff&Service    350\n",
       "Meal Exp         350\n",
       "Food Quality     350\n",
       "Value            350\n",
       "Menu Choice      350\n",
       "Name: Aspect, dtype: int64"
      ]
     },
     "execution_count": 269,
     "metadata": {},
     "output_type": "execute_result"
    }
   ],
   "source": [
    "# Aspect value counts\n",
    "df_food[\"Aspect\"].value_counts()"
   ]
  },
  {
   "cell_type": "markdown",
   "id": "2767f6cd",
   "metadata": {},
   "source": [
    "Balanced aspect categories"
   ]
  },
  {
   "cell_type": "markdown",
   "id": "4bea2a25",
   "metadata": {},
   "source": [
    "## Attractions"
   ]
  },
  {
   "cell_type": "code",
   "execution_count": 270,
   "id": "37868ec1",
   "metadata": {},
   "outputs": [
    {
     "name": "stdout",
     "output_type": "stream",
     "text": [
      "<class 'pandas.core.frame.DataFrame'>\n",
      "RangeIndex: 1650 entries, 0 to 1649\n",
      "Data columns (total 7 columns):\n",
      " #   Column        Non-Null Count  Dtype  \n",
      "---  ------        --------------  -----  \n",
      " 0   OrigInd       1650 non-null   int64  \n",
      " 1   Cleaned       1650 non-null   object \n",
      " 2   Noun Phrases  1650 non-null   object \n",
      " 3   Nouns         1650 non-null   object \n",
      " 4   Sentiment     1650 non-null   float64\n",
      " 5   Aspect        1650 non-null   object \n",
      " 6   OrigAspect    1648 non-null   object \n",
      "dtypes: float64(1), int64(1), object(5)\n",
      "memory usage: 90.4+ KB\n"
     ]
    }
   ],
   "source": [
    "df_attract.info()"
   ]
  },
  {
   "cell_type": "code",
   "execution_count": 271,
   "id": "63a0c5cc",
   "metadata": {},
   "outputs": [
    {
     "data": {
      "text/plain": [
       "Amenities        300\n",
       "Nature           300\n",
       "Activities       300\n",
       "VisitExp&Gen     250\n",
       "Staff&Service    200\n",
       "Value            150\n",
       "History          150\n",
       "Name: Aspect, dtype: int64"
      ]
     },
     "execution_count": 271,
     "metadata": {},
     "output_type": "execute_result"
    }
   ],
   "source": [
    "df_attract[\"Aspect\"].value_counts()"
   ]
  },
  {
   "cell_type": "markdown",
   "id": "f2c2ed99",
   "metadata": {},
   "source": [
    "Unbalanced aspect categories due to not many datapoints available in the original dataset for some of the categories"
   ]
  },
  {
   "cell_type": "markdown",
   "id": "7451c97d",
   "metadata": {},
   "source": [
    "# Section 3: Data preprocessing"
   ]
  },
  {
   "cell_type": "markdown",
   "id": "467f0eb3",
   "metadata": {},
   "source": [
    "## Define X and y"
   ]
  },
  {
   "cell_type": "code",
   "execution_count": 272,
   "id": "fd564535",
   "metadata": {},
   "outputs": [],
   "source": [
    "def XY(df):\n",
    "    X = df[\"Nouns\"]\n",
    "    y = df[\"Aspect\"]\n",
    "\n",
    "    return X,y"
   ]
  },
  {
   "cell_type": "code",
   "execution_count": 273,
   "id": "67a8b57d",
   "metadata": {},
   "outputs": [],
   "source": [
    "X_accom,y_accom = XY(df_accom)\n",
    "X_food,y_food = XY(df_food)\n",
    "X_attract,y_attract = XY(df_attract)"
   ]
  },
  {
   "cell_type": "code",
   "execution_count": 274,
   "id": "0be071b8",
   "metadata": {},
   "outputs": [
    {
     "name": "stdout",
     "output_type": "stream",
     "text": [
      "(2220,) (2220,)\n",
      "(2100,) (2100,)\n",
      "(1650,) (1650,)\n"
     ]
    }
   ],
   "source": [
    "print(X_accom.shape,y_accom.shape)\n",
    "print(X_food.shape,y_food.shape)\n",
    "print(X_attract.shape,y_attract.shape)"
   ]
  },
  {
   "cell_type": "markdown",
   "id": "ed532a2b",
   "metadata": {},
   "source": [
    "## Train test split"
   ]
  },
  {
   "cell_type": "code",
   "execution_count": 275,
   "id": "ff29cfd4",
   "metadata": {},
   "outputs": [],
   "source": [
    "# Train, validation, test split\n",
    "def train_test(X,y):\n",
    "    X_train, X_test, y_train, y_test = train_test_split(X,y, stratify = y,test_size=0.20, shuffle = True)\n",
    "    X_test, X_val, y_test, y_val = train_test_split(X_test, y_test, stratify = y_test,test_size=0.50, shuffle = True)\n",
    "    return X_train,X_val,X_test,y_train,y_val,y_test"
   ]
  },
  {
   "cell_type": "code",
   "execution_count": 276,
   "id": "a61a1a4b",
   "metadata": {},
   "outputs": [],
   "source": [
    "# Train, validation, test split\n",
    "X_train_accom,X_val_accom,X_test_accom,y_train_accom,y_val_accom,y_test_accom = train_test(X_accom,y_accom)\n",
    "X_train_food,X_val_food,X_test_food,y_train_food,y_val_food,y_test_food = train_test(X_food,y_food)\n",
    "X_train_attract,X_val_attract,X_test_attract,y_train_attract,y_val_attract,y_test_attract = train_test(X_attract,y_attract)"
   ]
  },
  {
   "cell_type": "code",
   "execution_count": 277,
   "id": "2d7568ad",
   "metadata": {},
   "outputs": [
    {
     "name": "stdout",
     "output_type": "stream",
     "text": [
      "(1776,) (222,) (222,) (1776,) (222,) (222,)\n",
      "(1680,) (210,) (210,) (1680,) (210,) (210,)\n",
      "(1320,) (165,) (165,) (1320,) (165,) (165,)\n"
     ]
    }
   ],
   "source": [
    "print(X_train_accom.shape, X_val_accom.shape,X_test_accom.shape, y_train_accom.shape, y_val_accom.shape, y_test_accom.shape)\n",
    "print(X_train_food.shape, X_val_food.shape,X_test_food.shape, y_train_food.shape, y_val_food.shape, y_test_food.shape)\n",
    "print(X_train_attract.shape, X_val_attract.shape,X_test_attract.shape, y_train_attract.shape, y_val_attract.shape, y_test_attract.shape)"
   ]
  },
  {
   "cell_type": "markdown",
   "id": "ade7505d",
   "metadata": {},
   "source": [
    "## Encode y and X"
   ]
  },
  {
   "cell_type": "code",
   "execution_count": 278,
   "id": "2eb43913",
   "metadata": {},
   "outputs": [],
   "source": [
    "# Function to encode y values as one-hot encoded\n",
    "def bin(y_train, y_val, y_test):\n",
    "    binarizer = preprocessing.LabelBinarizer()\n",
    "    y_train_e = binarizer.fit_transform(y_train)\n",
    "    y_val_e = binarizer.transform(y_val)\n",
    "    y_test_e = binarizer.transform(y_test)\n",
    "    return y_train_e,y_val_e,y_test_e"
   ]
  },
  {
   "cell_type": "code",
   "execution_count": 279,
   "id": "0e41c25c",
   "metadata": {},
   "outputs": [],
   "source": [
    "# Apply function\n",
    "y_train_accom_e, y_val_accom_e, y_test_accom_e = bin(y_train_accom, y_val_accom, y_test_accom)\n",
    "y_train_food_e, y_val_food_e, y_test_food_e = bin(y_train_food, y_val_food, y_test_food)\n",
    "y_train_attract_e, y_val_attract_e, y_test_attract_e = bin(y_train_attract, y_val_attract, y_test_attract)"
   ]
  },
  {
   "cell_type": "code",
   "execution_count": 280,
   "id": "b6f9e09d",
   "metadata": {},
   "outputs": [
    {
     "name": "stdout",
     "output_type": "stream",
     "text": [
      "(1776, 7) (222, 7) (222, 7)\n",
      "(1680, 6) (210, 6) (210, 6)\n",
      "(1320, 7) (165, 7) (165, 7)\n"
     ]
    }
   ],
   "source": [
    "print(y_train_accom_e.shape, y_val_accom_e.shape, y_test_accom_e.shape)\n",
    "print(y_train_food_e.shape, y_val_food_e.shape, y_test_food_e.shape)\n",
    "print(y_train_attract_e.shape, y_val_attract_e.shape, y_test_attract_e.shape)"
   ]
  },
  {
   "cell_type": "code",
   "execution_count": 281,
   "id": "d4f1e34f",
   "metadata": {},
   "outputs": [
    {
     "name": "stdout",
     "output_type": "stream",
     "text": [
      "12\n",
      "9\n",
      "10\n"
     ]
    }
   ],
   "source": [
    "# Get maximum number of nouns to use in the 'maxlen' arguement\n",
    "print(pd.DataFrame(X_train_accom)[\"Nouns\"].str.split().apply(len).max())\n",
    "print(pd.DataFrame(X_train_food)[\"Nouns\"].str.split().apply(len).max())\n",
    "print(pd.DataFrame(X_train_attract)[\"Nouns\"].str.split().apply(len).max())"
   ]
  },
  {
   "cell_type": "code",
   "execution_count": 282,
   "id": "aa769938",
   "metadata": {},
   "outputs": [],
   "source": [
    "# Fit tokenizer on text and transform to vectors\n",
    "def tok(X_train, X_val, X_test):\n",
    "    tokenizer = Tokenizer(num_words = 5000)\n",
    "    tokenizer.fit_on_texts(X_train)\n",
    "    X_train_s = tokenizer.texts_to_sequences(X_train)\n",
    "    X_val_s = tokenizer.texts_to_sequences(X_val)\n",
    "    X_test_s = tokenizer.texts_to_sequences(X_test)\n",
    "    X_train_w = pad_sequences(np.array(X_train_s,dtype = \"object\"), maxlen=15, padding=\"post\", truncating=\"post\", value=0.0)\n",
    "    X_val_w = pad_sequences(np.array(X_val_s,dtype = \"object\"), maxlen=15, padding=\"post\", truncating=\"post\", value=0.0)\n",
    "    X_test_w = pad_sequences(np.array(X_test_s, dtype = \"object\"), maxlen = 15, padding = \"post\", truncating = \"post\", value = 0.0)\n",
    "    \n",
    "    return X_train_w, X_val_w, X_test_w"
   ]
  },
  {
   "cell_type": "code",
   "execution_count": 283,
   "id": "15992d29",
   "metadata": {},
   "outputs": [],
   "source": [
    "X_train_accom_w, X_val_accom_w, X_test_accom_w = tok(X_train_accom, X_val_accom, X_test_accom)\n",
    "X_train_food_w, X_val_food_w, X_test_food_w = tok(X_train_food, X_val_food, X_test_food)\n",
    "X_train_attract_w, X_val_attract_w, X_test_attract_w = tok(X_train_attract, X_val_attract, X_test_attract)"
   ]
  },
  {
   "cell_type": "code",
   "execution_count": 284,
   "id": "1a430295",
   "metadata": {},
   "outputs": [
    {
     "name": "stdout",
     "output_type": "stream",
     "text": [
      "(1776, 15) (1776, 7)\n",
      "(1680, 15) (1680, 6)\n",
      "(1320, 15) (1320, 7)\n"
     ]
    }
   ],
   "source": [
    "print(X_train_accom_w.shape,y_train_accom_e.shape)\n",
    "print(X_train_food_w.shape, y_train_food_e.shape)\n",
    "print(X_train_attract_w.shape, y_train_attract_e.shape)"
   ]
  },
  {
   "cell_type": "markdown",
   "id": "da1a6c20",
   "metadata": {},
   "source": [
    "# Section 4: Building accommodation aspect classifier"
   ]
  },
  {
   "cell_type": "markdown",
   "id": "8d5f5871",
   "metadata": {},
   "source": [
    "## Define functions used for each model"
   ]
  },
  {
   "cell_type": "code",
   "execution_count": 285,
   "id": "64fe4a95",
   "metadata": {},
   "outputs": [],
   "source": [
    "# Visualise the training and test accuracies and losses\n",
    "import matplotlib.pyplot as plt\n",
    "plt.style.use('ggplot')\n",
    "\n",
    "def plot_history(history):\n",
    "    acc = history.history['accuracy']\n",
    "    val_acc = history.history['val_accuracy']\n",
    "    loss = history.history['loss']\n",
    "    val_loss = history.history['val_loss']\n",
    "    x = range(1, len(acc) + 1)\n",
    "\n",
    "    plt.figure(figsize=(12, 5))\n",
    "    plt.subplot(1, 2, 1)\n",
    "    plt.plot(x, acc, 'b', label='Training acc')\n",
    "    plt.plot(x, val_acc, 'r', label='Val acc')\n",
    "    plt.title('Training and Validation accuracy')\n",
    "    plt.xlabel(\"Epochs\")\n",
    "    plt.legend()\n",
    "    plt.subplot(1, 2, 2)\n",
    "    plt.plot(x, loss, 'b', label='Training loss')\n",
    "    plt.plot(x, val_loss, 'r', label='Val loss')\n",
    "    plt.xlabel(\"Epochs\")\n",
    "    plt.title('Training and Validation loss')\n",
    "    plt.legend()"
   ]
  },
  {
   "cell_type": "code",
   "execution_count": 286,
   "id": "7b1c99a9",
   "metadata": {},
   "outputs": [],
   "source": [
    "# The model will use earlystopping if the valuation loss doesn't decrease after 5 epochs\n",
    "\n",
    "def out(name):\n",
    "    output_dir = name\n",
    "    if not os.path.exists(output_dir):\n",
    "        os.makedirs(output_dir)\n",
    "    return output_dir\n",
    "        \n",
    "def call(output_dir,patience):\n",
    "    modelcheckpoint = ModelCheckpoint(filepath=output_dir+\"/weights.{epoch:02d}.hdf5\")\n",
    "    callbacks = [EarlyStopping(monitor = \"val_loss\", patience = patience),modelcheckpoint]\n",
    "    return callbacks"
   ]
  },
  {
   "cell_type": "code",
   "execution_count": 287,
   "id": "8a2081c5",
   "metadata": {},
   "outputs": [],
   "source": [
    "# Confusion Matrix function\n",
    "\n",
    "def class_conf(y_val_integer,y_pred_class):\n",
    "    classification = classification_report(y_val_integer, y_pred_class)\n",
    "    fig, ax = plt.subplots(figsize = (8,6))\n",
    "    cf_matrix = confusion_matrix(y_val_integer, y_pred_class)\n",
    "    sns.heatmap(cf_matrix, annot = True, fmt = \"d\",cmap = plt.cm.Blues)\n",
    "    plt.xlabel('Predicted')\n",
    "    plt.ylabel('Actual')\n",
    "    plt.title(\"Confusion Matrix\", fontsize = 15)\n",
    "    print(classification)"
   ]
  },
  {
   "cell_type": "code",
   "execution_count": 288,
   "id": "c9c08a69",
   "metadata": {},
   "outputs": [],
   "source": [
    "# Weight adjustments if required\n",
    "def weight(y_train):\n",
    "    from sklearn.utils import class_weight\n",
    "    class_weights = class_weight.compute_class_weight('balanced',np.unique(y_train),y_train)\n",
    "    return class_weights"
   ]
  },
  {
   "cell_type": "code",
   "execution_count": 289,
   "id": "8bfadfb5",
   "metadata": {},
   "outputs": [],
   "source": [
    "# Run function\n",
    "cw_accom = weight(y_accom)\n",
    "cw_food = weight(y_food)\n",
    "cw_attract = weight(y_attract)"
   ]
  },
  {
   "cell_type": "code",
   "execution_count": 290,
   "id": "0070ab1b",
   "metadata": {},
   "outputs": [
    {
     "name": "stdout",
     "output_type": "stream",
     "text": [
      "[0.90612245 0.90612245 0.90612245 1.44155844 0.90612245 0.90612245\n",
      " 1.26857143]\n",
      "[1. 1. 1. 1. 1. 1.]\n",
      "[0.78571429 0.78571429 1.57142857 0.78571429 1.17857143 1.57142857\n",
      " 0.94285714]\n"
     ]
    }
   ],
   "source": [
    "# Print weights\n",
    "print(cw_accom)\n",
    "print(cw_food)\n",
    "print(cw_attract)"
   ]
  },
  {
   "cell_type": "markdown",
   "id": "02044291",
   "metadata": {},
   "source": [
    "## Build Accommodation Model"
   ]
  },
  {
   "cell_type": "code",
   "execution_count": 291,
   "id": "212e1f11",
   "metadata": {},
   "outputs": [],
   "source": [
    "# Set parameters\n",
    "input_dim = 6000\n",
    "output_dim = 16\n",
    "input_length = 15\n",
    "batch_size = 16\n",
    "epochs = 50\n",
    "class_weights = {0:cw_accom[0],1:cw_accom[1],2:cw_accom[2],3:cw_accom[3],4:cw_accom[4],5:cw_accom[5],6:cw_accom[6]}"
   ]
  },
  {
   "cell_type": "code",
   "execution_count": 292,
   "id": "6ac9070d",
   "metadata": {},
   "outputs": [],
   "source": [
    "# Define model - best performing sentiment model as a starting point\n",
    "model = Sequential()\n",
    "model.add(Embedding(input_dim = input_dim, output_dim = output_dim, input_length=input_length))\n",
    "model.add(Flatten())\n",
    "model.add(Dense(512, activation='relu', input_shape=(1600,)))\n",
    "model.add(Dense(256,activation = 'relu'))\n",
    "model.add(Dense(128,activation = 'relu'))\n",
    "model.add(Dense(7, activation='softmax'))"
   ]
  },
  {
   "cell_type": "code",
   "execution_count": 293,
   "id": "58c72705",
   "metadata": {},
   "outputs": [
    {
     "name": "stdout",
     "output_type": "stream",
     "text": [
      "Model: \"sequential_7\"\n",
      "_________________________________________________________________\n",
      "Layer (type)                 Output Shape              Param #   \n",
      "=================================================================\n",
      "embedding_7 (Embedding)      (None, 15, 16)            96000     \n",
      "_________________________________________________________________\n",
      "flatten_7 (Flatten)          (None, 240)               0         \n",
      "_________________________________________________________________\n",
      "dense_28 (Dense)             (None, 512)               123392    \n",
      "_________________________________________________________________\n",
      "dense_29 (Dense)             (None, 256)               131328    \n",
      "_________________________________________________________________\n",
      "dense_30 (Dense)             (None, 128)               32896     \n",
      "_________________________________________________________________\n",
      "dense_31 (Dense)             (None, 7)                 903       \n",
      "=================================================================\n",
      "Total params: 384,519\n",
      "Trainable params: 384,519\n",
      "Non-trainable params: 0\n",
      "_________________________________________________________________\n",
      "None\n"
     ]
    }
   ],
   "source": [
    "model.compile(optimizer='adam', loss='categorical_crossentropy', metrics=['accuracy'])\n",
    "print(model.summary())"
   ]
  },
  {
   "cell_type": "code",
   "execution_count": 294,
   "id": "75e579d5",
   "metadata": {},
   "outputs": [],
   "source": [
    "# Set output directory and callbacks (patience set to 5)\n",
    "output_dir = out('model_output/AccomAspectModels')\n",
    "callbacks = call(output_dir,5)"
   ]
  },
  {
   "cell_type": "code",
   "execution_count": 295,
   "id": "0acf5e27",
   "metadata": {},
   "outputs": [
    {
     "name": "stdout",
     "output_type": "stream",
     "text": [
      "Epoch 1/50\n",
      "111/111 - 0s - loss: 1.3958 - accuracy: 0.4820 - val_loss: 0.5898 - val_accuracy: 0.8694\n",
      "Epoch 2/50\n",
      "111/111 - 0s - loss: 0.3416 - accuracy: 0.9003 - val_loss: 0.3720 - val_accuracy: 0.8919\n",
      "Epoch 3/50\n",
      "111/111 - 0s - loss: 0.1232 - accuracy: 0.9668 - val_loss: 0.1901 - val_accuracy: 0.9505\n",
      "Epoch 4/50\n",
      "111/111 - 0s - loss: 0.0501 - accuracy: 0.9870 - val_loss: 0.2107 - val_accuracy: 0.9550\n",
      "Epoch 5/50\n",
      "111/111 - 0s - loss: 0.0274 - accuracy: 0.9932 - val_loss: 0.1963 - val_accuracy: 0.9459\n",
      "Epoch 6/50\n",
      "111/111 - 0s - loss: 0.0198 - accuracy: 0.9955 - val_loss: 0.2056 - val_accuracy: 0.9414\n",
      "Epoch 7/50\n",
      "111/111 - 0s - loss: 0.0111 - accuracy: 0.9972 - val_loss: 0.1694 - val_accuracy: 0.9459\n",
      "Epoch 8/50\n",
      "111/111 - 0s - loss: 0.0173 - accuracy: 0.9955 - val_loss: 0.1900 - val_accuracy: 0.9459\n",
      "Epoch 9/50\n",
      "111/111 - 0s - loss: 0.0127 - accuracy: 0.9977 - val_loss: 0.2078 - val_accuracy: 0.9550\n",
      "Epoch 10/50\n",
      "111/111 - 0s - loss: 0.0124 - accuracy: 0.9966 - val_loss: 0.2315 - val_accuracy: 0.9459\n",
      "Epoch 11/50\n",
      "111/111 - 0s - loss: 0.0082 - accuracy: 0.9983 - val_loss: 0.2152 - val_accuracy: 0.9369\n",
      "Epoch 12/50\n",
      "111/111 - 0s - loss: 0.0035 - accuracy: 0.9994 - val_loss: 0.1955 - val_accuracy: 0.9550\n"
     ]
    }
   ],
   "source": [
    "# Model using keras embeddings\n",
    "history = model.fit(X_train_accom_w,y_train_accom_e,\n",
    "                    epochs=epochs,\n",
    "                    verbose=2,\n",
    "                    callbacks = callbacks,\n",
    "                    validation_data=(X_val_accom_w, y_val_accom_e),\n",
    "                    batch_size=batch_size,\n",
    "                    class_weight = class_weights)"
   ]
  },
  {
   "cell_type": "markdown",
   "id": "eb1a0169",
   "metadata": {},
   "source": [
    "## Evaluate model"
   ]
  },
  {
   "cell_type": "code",
   "execution_count": 296,
   "id": "fc1e10c5",
   "metadata": {},
   "outputs": [
    {
     "name": "stdout",
     "output_type": "stream",
     "text": [
      "56/56 [==============================] - 0s 427us/step - loss: 0.0068 - accuracy: 0.9989\n",
      "[0.006796261761337519, 0.9988738894462585]\n",
      "7/7 [==============================] - 0s 570us/step - loss: 0.1955 - accuracy: 0.9550\n",
      "[0.19550715386867523, 0.954954981803894]\n"
     ]
    }
   ],
   "source": [
    "print(model.evaluate(X_train_accom_w, y_train_accom_e))\n",
    "print(model.evaluate(X_val_accom_w, y_val_accom_e))"
   ]
  },
  {
   "cell_type": "markdown",
   "id": "6dda2103",
   "metadata": {},
   "source": [
    "The model is overfitting as shown with the training accuracy of 1 and the validation accuracy falling short of this."
   ]
  },
  {
   "cell_type": "code",
   "execution_count": 297,
   "id": "a6ea836e",
   "metadata": {},
   "outputs": [
    {
     "data": {
      "image/png": "[encoded data removed]",
      "text/plain": [
       "<Figure size 864x360 with 2 Axes>"
      ]
     },
     "metadata": {},
     "output_type": "display_data"
    }
   ],
   "source": [
    "plot_history(history)"
   ]
  },
  {
   "cell_type": "code",
   "execution_count": 298,
   "id": "4d8724a3",
   "metadata": {},
   "outputs": [],
   "source": [
    "# Load model weights from epoch with best validation accuracy\n",
    "model.load_weights(output_dir+\"/weights.04.hdf5\")"
   ]
  },
  {
   "cell_type": "code",
   "execution_count": 299,
   "id": "8498ec02",
   "metadata": {},
   "outputs": [],
   "source": [
    "# Get predicted y values and predicted classes and convert original labels to integers\n",
    "y_pred_prob = model.predict(X_val_accom_w)\n",
    "y_pred_class = np.argmax(model.predict(X_val_accom_w), axis=-1)\n",
    "y_val_accom_integer = np.argmax(y_val_accom_e, axis=1)"
   ]
  },
  {
   "cell_type": "code",
   "execution_count": 300,
   "id": "ade538c6",
   "metadata": {},
   "outputs": [
    {
     "name": "stdout",
     "output_type": "stream",
     "text": [
      "              precision    recall  f1-score   support\n",
      "\n",
      "           0       0.97      0.89      0.93        35\n",
      "           1       1.00      0.94      0.97        35\n",
      "           2       1.00      0.97      0.99        35\n",
      "           3       0.95      0.95      0.95        22\n",
      "           4       0.85      0.97      0.91        35\n",
      "           5       0.95      1.00      0.97        35\n",
      "           6       1.00      0.96      0.98        25\n",
      "\n",
      "    accuracy                           0.95       222\n",
      "   macro avg       0.96      0.96      0.96       222\n",
      "weighted avg       0.96      0.95      0.96       222\n",
      "\n"
     ]
    },
    {
     "data": {
      "image/png": "[encoded data removed]",
      "text/plain": [
       "<Figure size 576x432 with 2 Axes>"
      ]
     },
     "metadata": {},
     "output_type": "display_data"
    }
   ],
   "source": [
    "class_conf(y_val_accom_integer,y_pred_class)"
   ]
  },
  {
   "cell_type": "code",
   "execution_count": 301,
   "id": "840d5b9d",
   "metadata": {},
   "outputs": [
    {
     "data": {
      "text/html": [
       "<div>\n",
       "<style scoped>\n",
       "    .dataframe tbody tr th:only-of-type {\n",
       "        vertical-align: middle;\n",
       "    }\n",
       "\n",
       "    .dataframe tbody tr th {\n",
       "        vertical-align: top;\n",
       "    }\n",
       "\n",
       "    .dataframe thead th {\n",
       "        text-align: right;\n",
       "    }\n",
       "</style>\n",
       "<table border=\"1\" class=\"dataframe\">\n",
       "  <thead>\n",
       "    <tr style=\"text-align: right;\">\n",
       "      <th></th>\n",
       "      <th>Actual Class</th>\n",
       "      <th>Actual Aspect</th>\n",
       "      <th>Predicted Class</th>\n",
       "    </tr>\n",
       "  </thead>\n",
       "  <tbody>\n",
       "    <tr>\n",
       "      <th>172</th>\n",
       "      <td>1</td>\n",
       "      <td>Food</td>\n",
       "      <td>1</td>\n",
       "    </tr>\n",
       "    <tr>\n",
       "      <th>130</th>\n",
       "      <td>5</td>\n",
       "      <td>Staff</td>\n",
       "      <td>5</td>\n",
       "    </tr>\n",
       "    <tr>\n",
       "      <th>164</th>\n",
       "      <td>0</td>\n",
       "      <td>Entertainment</td>\n",
       "      <td>0</td>\n",
       "    </tr>\n",
       "  </tbody>\n",
       "</table>\n",
       "</div>"
      ],
      "text/plain": [
       "     Actual Class  Actual Aspect  Predicted Class\n",
       "172             1           Food                1\n",
       "130             5          Staff                5\n",
       "164             0  Entertainment                0"
      ]
     },
     "execution_count": 301,
     "metadata": {},
     "output_type": "execute_result"
    }
   ],
   "source": [
    "# Create dataframe with y pred probabilities, classes and y actual\n",
    "accom_pred = pd.DataFrame(list(zip(y_val_accom_integer, y_val_accom,y_pred_class)), columns=[\"Actual Class\", \"Actual Aspect\",\"Predicted Class\",])\n",
    "accom_pred.sample(3)"
   ]
  },
  {
   "cell_type": "code",
   "execution_count": 302,
   "id": "f55512e2",
   "metadata": {},
   "outputs": [
    {
     "data": {
      "text/html": [
       "<div>\n",
       "<style scoped>\n",
       "    .dataframe tbody tr th:only-of-type {\n",
       "        vertical-align: middle;\n",
       "    }\n",
       "\n",
       "    .dataframe tbody tr th {\n",
       "        vertical-align: top;\n",
       "    }\n",
       "\n",
       "    .dataframe thead th {\n",
       "        text-align: right;\n",
       "    }\n",
       "</style>\n",
       "<table border=\"1\" class=\"dataframe\">\n",
       "  <thead>\n",
       "    <tr style=\"text-align: right;\">\n",
       "      <th></th>\n",
       "      <th>Actual Class</th>\n",
       "      <th>Actual Aspect</th>\n",
       "      <th>Predicted Class</th>\n",
       "    </tr>\n",
       "  </thead>\n",
       "  <tbody>\n",
       "    <tr>\n",
       "      <th>63</th>\n",
       "      <td>1</td>\n",
       "      <td>Food</td>\n",
       "      <td>4</td>\n",
       "    </tr>\n",
       "    <tr>\n",
       "      <th>72</th>\n",
       "      <td>4</td>\n",
       "      <td>Room</td>\n",
       "      <td>3</td>\n",
       "    </tr>\n",
       "    <tr>\n",
       "      <th>76</th>\n",
       "      <td>0</td>\n",
       "      <td>Entertainment</td>\n",
       "      <td>4</td>\n",
       "    </tr>\n",
       "    <tr>\n",
       "      <th>90</th>\n",
       "      <td>2</td>\n",
       "      <td>Hotel</td>\n",
       "      <td>4</td>\n",
       "    </tr>\n",
       "    <tr>\n",
       "      <th>91</th>\n",
       "      <td>0</td>\n",
       "      <td>Entertainment</td>\n",
       "      <td>5</td>\n",
       "    </tr>\n",
       "    <tr>\n",
       "      <th>120</th>\n",
       "      <td>0</td>\n",
       "      <td>Entertainment</td>\n",
       "      <td>4</td>\n",
       "    </tr>\n",
       "    <tr>\n",
       "      <th>145</th>\n",
       "      <td>6</td>\n",
       "      <td>Value</td>\n",
       "      <td>5</td>\n",
       "    </tr>\n",
       "    <tr>\n",
       "      <th>147</th>\n",
       "      <td>0</td>\n",
       "      <td>Entertainment</td>\n",
       "      <td>4</td>\n",
       "    </tr>\n",
       "    <tr>\n",
       "      <th>165</th>\n",
       "      <td>1</td>\n",
       "      <td>Food</td>\n",
       "      <td>4</td>\n",
       "    </tr>\n",
       "    <tr>\n",
       "      <th>198</th>\n",
       "      <td>3</td>\n",
       "      <td>Location</td>\n",
       "      <td>0</td>\n",
       "    </tr>\n",
       "  </tbody>\n",
       "</table>\n",
       "</div>"
      ],
      "text/plain": [
       "     Actual Class  Actual Aspect  Predicted Class\n",
       "63              1           Food                4\n",
       "72              4           Room                3\n",
       "76              0  Entertainment                4\n",
       "90              2          Hotel                4\n",
       "91              0  Entertainment                5\n",
       "120             0  Entertainment                4\n",
       "145             6          Value                5\n",
       "147             0  Entertainment                4\n",
       "165             1           Food                4\n",
       "198             3       Location                0"
      ]
     },
     "execution_count": 302,
     "metadata": {},
     "output_type": "execute_result"
    }
   ],
   "source": [
    "# Items not classified correctly\n",
    "accom_wrong = accom_pred[accom_pred[\"Actual Class\"]!= accom_pred[\"Predicted Class\"]]\n",
    "accom_wrong.head(10)"
   ]
  },
  {
   "cell_type": "code",
   "execution_count": 303,
   "id": "188a9065",
   "metadata": {},
   "outputs": [
    {
     "name": "stdout",
     "output_type": "stream",
     "text": [
      "The model predicted: 10 aspects wrong from a total of: 222 predictions\n"
     ]
    }
   ],
   "source": [
    "print(\"The model predicted:\", accom_wrong.shape[0],\"aspects wrong from a total of:\",accom_pred.shape[0],\"predictions\")"
   ]
  },
  {
   "cell_type": "code",
   "execution_count": 304,
   "id": "1df4c7a3",
   "metadata": {},
   "outputs": [
    {
     "data": {
      "text/html": [
       "<div>\n",
       "<style scoped>\n",
       "    .dataframe tbody tr th:only-of-type {\n",
       "        vertical-align: middle;\n",
       "    }\n",
       "\n",
       "    .dataframe tbody tr th {\n",
       "        vertical-align: top;\n",
       "    }\n",
       "\n",
       "    .dataframe thead th {\n",
       "        text-align: right;\n",
       "    }\n",
       "</style>\n",
       "<table border=\"1\" class=\"dataframe\">\n",
       "  <thead>\n",
       "    <tr style=\"text-align: right;\">\n",
       "      <th></th>\n",
       "      <th>Actual Class</th>\n",
       "      <th>Actual Aspect</th>\n",
       "      <th>Predicted Class</th>\n",
       "    </tr>\n",
       "  </thead>\n",
       "  <tbody>\n",
       "    <tr>\n",
       "      <th>0</th>\n",
       "      <td>0</td>\n",
       "      <td>Entertainment</td>\n",
       "      <td>35</td>\n",
       "    </tr>\n",
       "    <tr>\n",
       "      <th>1</th>\n",
       "      <td>1</td>\n",
       "      <td>Food</td>\n",
       "      <td>35</td>\n",
       "    </tr>\n",
       "    <tr>\n",
       "      <th>2</th>\n",
       "      <td>2</td>\n",
       "      <td>Hotel</td>\n",
       "      <td>35</td>\n",
       "    </tr>\n",
       "    <tr>\n",
       "      <th>3</th>\n",
       "      <td>3</td>\n",
       "      <td>Location</td>\n",
       "      <td>22</td>\n",
       "    </tr>\n",
       "    <tr>\n",
       "      <th>4</th>\n",
       "      <td>4</td>\n",
       "      <td>Room</td>\n",
       "      <td>35</td>\n",
       "    </tr>\n",
       "    <tr>\n",
       "      <th>5</th>\n",
       "      <td>5</td>\n",
       "      <td>Staff</td>\n",
       "      <td>35</td>\n",
       "    </tr>\n",
       "    <tr>\n",
       "      <th>6</th>\n",
       "      <td>6</td>\n",
       "      <td>Value</td>\n",
       "      <td>25</td>\n",
       "    </tr>\n",
       "  </tbody>\n",
       "</table>\n",
       "</div>"
      ],
      "text/plain": [
       "   Actual Class  Actual Aspect  Predicted Class\n",
       "0             0  Entertainment               35\n",
       "1             1           Food               35\n",
       "2             2          Hotel               35\n",
       "3             3       Location               22\n",
       "4             4           Room               35\n",
       "5             5          Staff               35\n",
       "6             6          Value               25"
      ]
     },
     "execution_count": 304,
     "metadata": {},
     "output_type": "execute_result"
    }
   ],
   "source": [
    "# Get the aspects and aspect classes\n",
    "accom_pred.groupby([\"Actual Class\",\"Actual Aspect\"],as_index = False).count()"
   ]
  },
  {
   "cell_type": "code",
   "execution_count": 308,
   "id": "0829a7a2",
   "metadata": {},
   "outputs": [
    {
     "data": {
      "text/plain": [
       "'need'"
      ]
     },
     "execution_count": 308,
     "metadata": {},
     "output_type": "execute_result"
    }
   ],
   "source": [
    "X_val_accom.iloc[76]"
   ]
  },
  {
   "cell_type": "code",
   "execution_count": 309,
   "id": "b6a2ff29",
   "metadata": {},
   "outputs": [
    {
     "data": {
      "text/plain": [
       "'thanks becca stage'"
      ]
     },
     "execution_count": 309,
     "metadata": {},
     "output_type": "execute_result"
    }
   ],
   "source": [
    "X_val_accom.iloc[91]"
   ]
  },
  {
   "cell_type": "code",
   "execution_count": 310,
   "id": "0cfa028f",
   "metadata": {},
   "outputs": [
    {
     "data": {
      "text/plain": [
       "'grandson'"
      ]
     },
     "execution_count": 310,
     "metadata": {},
     "output_type": "execute_result"
    }
   ],
   "source": [
    "X_val_accom.iloc[120]"
   ]
  },
  {
   "cell_type": "markdown",
   "id": "8e3e7819",
   "metadata": {},
   "source": [
    "General comments:\n",
    "\n",
    "* the model is overfitting\n",
    "* the model seems to misclassifying some aspects - these topics may be fuzzy fitting into more than one aspect\n",
    "* more training data might help the model"
   ]
  },
  {
   "cell_type": "markdown",
   "id": "35e646bc",
   "metadata": {},
   "source": [
    "# Section 5: Building a food aspect classifier"
   ]
  },
  {
   "cell_type": "markdown",
   "id": "8738a586",
   "metadata": {},
   "source": [
    "## Build model"
   ]
  },
  {
   "cell_type": "code",
   "execution_count": 311,
   "id": "13be3594",
   "metadata": {},
   "outputs": [],
   "source": [
    "# Parameters\n",
    "input_dim = 6000\n",
    "output_dim = 16\n",
    "input_length = 15\n",
    "batch_size = 16\n",
    "epochs = 50\n",
    "class_weights = {0:cw_food[0],1:cw_food[1],2:cw_food[2],3:cw_food[3],4:cw_food[4],5:cw_food[5]}"
   ]
  },
  {
   "cell_type": "code",
   "execution_count": 312,
   "id": "4c2438db",
   "metadata": {},
   "outputs": [],
   "source": [
    "# Define model - best performing sentiment model as a starting point\n",
    "model2 = Sequential()\n",
    "model2.add(Embedding(input_dim = input_dim, output_dim = output_dim, input_length=input_length))\n",
    "model2.add(Flatten())\n",
    "model2.add(Dense(512, activation='relu', input_shape=(1600,)))\n",
    "model2.add(Dense(256,activation = 'relu'))\n",
    "model2.add(Dense(128,activation = 'relu'))\n",
    "model2.add(Dense(6, activation='softmax'))"
   ]
  },
  {
   "cell_type": "code",
   "execution_count": 313,
   "id": "66a0303a",
   "metadata": {},
   "outputs": [
    {
     "name": "stdout",
     "output_type": "stream",
     "text": [
      "Model: \"sequential_8\"\n",
      "_________________________________________________________________\n",
      "Layer (type)                 Output Shape              Param #   \n",
      "=================================================================\n",
      "embedding_8 (Embedding)      (None, 15, 16)            96000     \n",
      "_________________________________________________________________\n",
      "flatten_8 (Flatten)          (None, 240)               0         \n",
      "_________________________________________________________________\n",
      "dense_32 (Dense)             (None, 512)               123392    \n",
      "_________________________________________________________________\n",
      "dense_33 (Dense)             (None, 256)               131328    \n",
      "_________________________________________________________________\n",
      "dense_34 (Dense)             (None, 128)               32896     \n",
      "_________________________________________________________________\n",
      "dense_35 (Dense)             (None, 6)                 774       \n",
      "=================================================================\n",
      "Total params: 384,390\n",
      "Trainable params: 384,390\n",
      "Non-trainable params: 0\n",
      "_________________________________________________________________\n",
      "None\n"
     ]
    }
   ],
   "source": [
    "model2.compile(optimizer='adam', loss='categorical_crossentropy', metrics=['accuracy'])\n",
    "print(model2.summary())"
   ]
  },
  {
   "cell_type": "code",
   "execution_count": 314,
   "id": "db64581b",
   "metadata": {},
   "outputs": [],
   "source": [
    "output_dir = out('model_output/FoodAspectModels1')\n",
    "callbacks = call(output_dir,5)"
   ]
  },
  {
   "cell_type": "code",
   "execution_count": 315,
   "id": "74698e7b",
   "metadata": {},
   "outputs": [
    {
     "name": "stdout",
     "output_type": "stream",
     "text": [
      "Epoch 1/50\n",
      "105/105 - 0s - loss: 1.0961 - accuracy: 0.6048 - val_loss: 0.2803 - val_accuracy: 0.9095\n",
      "Epoch 2/50\n",
      "105/105 - 0s - loss: 0.1771 - accuracy: 0.9476 - val_loss: 0.1949 - val_accuracy: 0.9381\n",
      "Epoch 3/50\n",
      "105/105 - 0s - loss: 0.0754 - accuracy: 0.9780 - val_loss: 0.1537 - val_accuracy: 0.9619\n",
      "Epoch 4/50\n",
      "105/105 - 0s - loss: 0.0385 - accuracy: 0.9905 - val_loss: 0.1731 - val_accuracy: 0.9524\n",
      "Epoch 5/50\n",
      "105/105 - 0s - loss: 0.0231 - accuracy: 0.9940 - val_loss: 0.2248 - val_accuracy: 0.9524\n",
      "Epoch 6/50\n",
      "105/105 - 0s - loss: 0.0240 - accuracy: 0.9923 - val_loss: 0.2234 - val_accuracy: 0.9571\n",
      "Epoch 7/50\n",
      "105/105 - 0s - loss: 0.0195 - accuracy: 0.9946 - val_loss: 0.2030 - val_accuracy: 0.9524\n",
      "Epoch 8/50\n",
      "105/105 - 0s - loss: 0.0104 - accuracy: 0.9958 - val_loss: 0.2822 - val_accuracy: 0.9238\n"
     ]
    }
   ],
   "source": [
    "# Model using keras embeddings\n",
    "history2 = model2.fit(X_train_food_w,y_train_food_e,\n",
    "                    epochs=epochs,\n",
    "                    verbose=2,\n",
    "                    callbacks = callbacks,\n",
    "                    validation_data=(X_val_food_w, y_val_food_e),\n",
    "                    batch_size=batch_size,\n",
    "                    class_weight = class_weights)"
   ]
  },
  {
   "cell_type": "code",
   "execution_count": 316,
   "id": "42755d3f",
   "metadata": {},
   "outputs": [
    {
     "name": "stdout",
     "output_type": "stream",
     "text": [
      "53/53 [==============================] - 0s 428us/step - loss: 0.0558 - accuracy: 0.9804\n",
      "[0.055776599794626236, 0.9803571701049805]\n",
      "7/7 [==============================] - 0s 427us/step - loss: 0.2822 - accuracy: 0.9238\n",
      "[0.28219830989837646, 0.9238095283508301]\n"
     ]
    }
   ],
   "source": [
    "print(model2.evaluate(X_train_food_w, y_train_food_e))\n",
    "print(model2.evaluate(X_val_food_w, y_val_food_e))"
   ]
  },
  {
   "cell_type": "markdown",
   "id": "ddcabde0",
   "metadata": {},
   "source": [
    "Again the training accuracy is above the validation accuracy but not as far adrift as the previous model."
   ]
  },
  {
   "cell_type": "markdown",
   "id": "6d7de8d8",
   "metadata": {},
   "source": [
    "## Evaluate model"
   ]
  },
  {
   "cell_type": "code",
   "execution_count": 317,
   "id": "e0c482ae",
   "metadata": {},
   "outputs": [],
   "source": [
    "# Load model weights from epoch with best validation accuracy\n",
    "model2.load_weights(output_dir+\"/weights.03.hdf5\")"
   ]
  },
  {
   "cell_type": "code",
   "execution_count": 318,
   "id": "b17254cb",
   "metadata": {},
   "outputs": [
    {
     "data": {
      "image/png": "[encoded data removed]",
      "text/plain": [
       "<Figure size 864x360 with 2 Axes>"
      ]
     },
     "metadata": {},
     "output_type": "display_data"
    }
   ],
   "source": [
    "plot_history(history2)"
   ]
  },
  {
   "cell_type": "code",
   "execution_count": 319,
   "id": "c75ccb48",
   "metadata": {},
   "outputs": [],
   "source": [
    "# Get predicted y values and predicted classes and convert original labels to integers\n",
    "y_pred_prob2 = model2.predict(X_val_food_w)\n",
    "y_pred_class2 = np.argmax(model2.predict(X_val_food_w), axis=-1)\n",
    "y_val_food_integer = np.argmax(y_val_food_e, axis=1)"
   ]
  },
  {
   "cell_type": "code",
   "execution_count": 320,
   "id": "eb8916f6",
   "metadata": {},
   "outputs": [
    {
     "name": "stdout",
     "output_type": "stream",
     "text": [
      "              precision    recall  f1-score   support\n",
      "\n",
      "           0       0.92      1.00      0.96        35\n",
      "           1       0.91      0.91      0.91        35\n",
      "           2       1.00      0.97      0.99        35\n",
      "           3       1.00      1.00      1.00        35\n",
      "           4       1.00      0.97      0.99        35\n",
      "           5       0.94      0.91      0.93        35\n",
      "\n",
      "    accuracy                           0.96       210\n",
      "   macro avg       0.96      0.96      0.96       210\n",
      "weighted avg       0.96      0.96      0.96       210\n",
      "\n"
     ]
    },
    {
     "data": {
      "image/png": "[encoded data removed]",
      "text/plain": [
       "<Figure size 576x432 with 2 Axes>"
      ]
     },
     "metadata": {},
     "output_type": "display_data"
    }
   ],
   "source": [
    "class_conf(y_val_food_integer,y_pred_class2)"
   ]
  },
  {
   "cell_type": "code",
   "execution_count": 321,
   "id": "4e6a332e",
   "metadata": {},
   "outputs": [
    {
     "data": {
      "text/html": [
       "<div>\n",
       "<style scoped>\n",
       "    .dataframe tbody tr th:only-of-type {\n",
       "        vertical-align: middle;\n",
       "    }\n",
       "\n",
       "    .dataframe tbody tr th {\n",
       "        vertical-align: top;\n",
       "    }\n",
       "\n",
       "    .dataframe thead th {\n",
       "        text-align: right;\n",
       "    }\n",
       "</style>\n",
       "<table border=\"1\" class=\"dataframe\">\n",
       "  <thead>\n",
       "    <tr style=\"text-align: right;\">\n",
       "      <th></th>\n",
       "      <th>Actual Class</th>\n",
       "      <th>Actual Aspect</th>\n",
       "      <th>Predicted Class</th>\n",
       "    </tr>\n",
       "  </thead>\n",
       "  <tbody>\n",
       "    <tr>\n",
       "      <th>0</th>\n",
       "      <td>5</td>\n",
       "      <td>Visit Exp</td>\n",
       "      <td>5</td>\n",
       "    </tr>\n",
       "    <tr>\n",
       "      <th>1</th>\n",
       "      <td>3</td>\n",
       "      <td>Staff&amp;Service</td>\n",
       "      <td>3</td>\n",
       "    </tr>\n",
       "    <tr>\n",
       "      <th>2</th>\n",
       "      <td>3</td>\n",
       "      <td>Staff&amp;Service</td>\n",
       "      <td>3</td>\n",
       "    </tr>\n",
       "    <tr>\n",
       "      <th>3</th>\n",
       "      <td>3</td>\n",
       "      <td>Staff&amp;Service</td>\n",
       "      <td>3</td>\n",
       "    </tr>\n",
       "    <tr>\n",
       "      <th>4</th>\n",
       "      <td>2</td>\n",
       "      <td>Menu Choice</td>\n",
       "      <td>2</td>\n",
       "    </tr>\n",
       "    <tr>\n",
       "      <th>5</th>\n",
       "      <td>1</td>\n",
       "      <td>Meal Exp</td>\n",
       "      <td>1</td>\n",
       "    </tr>\n",
       "    <tr>\n",
       "      <th>6</th>\n",
       "      <td>2</td>\n",
       "      <td>Menu Choice</td>\n",
       "      <td>2</td>\n",
       "    </tr>\n",
       "    <tr>\n",
       "      <th>7</th>\n",
       "      <td>4</td>\n",
       "      <td>Value</td>\n",
       "      <td>4</td>\n",
       "    </tr>\n",
       "    <tr>\n",
       "      <th>8</th>\n",
       "      <td>2</td>\n",
       "      <td>Menu Choice</td>\n",
       "      <td>2</td>\n",
       "    </tr>\n",
       "    <tr>\n",
       "      <th>9</th>\n",
       "      <td>4</td>\n",
       "      <td>Value</td>\n",
       "      <td>5</td>\n",
       "    </tr>\n",
       "  </tbody>\n",
       "</table>\n",
       "</div>"
      ],
      "text/plain": [
       "   Actual Class  Actual Aspect  Predicted Class\n",
       "0             5      Visit Exp                5\n",
       "1             3  Staff&Service                3\n",
       "2             3  Staff&Service                3\n",
       "3             3  Staff&Service                3\n",
       "4             2    Menu Choice                2\n",
       "5             1       Meal Exp                1\n",
       "6             2    Menu Choice                2\n",
       "7             4          Value                4\n",
       "8             2    Menu Choice                2\n",
       "9             4          Value                5"
      ]
     },
     "execution_count": 321,
     "metadata": {},
     "output_type": "execute_result"
    }
   ],
   "source": [
    "# Create dataframe with y pred probabilities, classes and y actual\n",
    "food_pred = pd.DataFrame(list(zip(y_val_food_integer, y_val_food,y_pred_class2)), columns=[\"Actual Class\", \"Actual Aspect\",\"Predicted Class\"])\n",
    "food_pred.head(10)"
   ]
  },
  {
   "cell_type": "code",
   "execution_count": 322,
   "id": "b495943b",
   "metadata": {},
   "outputs": [
    {
     "data": {
      "text/html": [
       "<div>\n",
       "<style scoped>\n",
       "    .dataframe tbody tr th:only-of-type {\n",
       "        vertical-align: middle;\n",
       "    }\n",
       "\n",
       "    .dataframe tbody tr th {\n",
       "        vertical-align: top;\n",
       "    }\n",
       "\n",
       "    .dataframe thead th {\n",
       "        text-align: right;\n",
       "    }\n",
       "</style>\n",
       "<table border=\"1\" class=\"dataframe\">\n",
       "  <thead>\n",
       "    <tr style=\"text-align: right;\">\n",
       "      <th></th>\n",
       "      <th>Actual Class</th>\n",
       "      <th>Actual Aspect</th>\n",
       "      <th>Predicted Class</th>\n",
       "    </tr>\n",
       "  </thead>\n",
       "  <tbody>\n",
       "    <tr>\n",
       "      <th>9</th>\n",
       "      <td>4</td>\n",
       "      <td>Value</td>\n",
       "      <td>5</td>\n",
       "    </tr>\n",
       "    <tr>\n",
       "      <th>59</th>\n",
       "      <td>5</td>\n",
       "      <td>Visit Exp</td>\n",
       "      <td>1</td>\n",
       "    </tr>\n",
       "    <tr>\n",
       "      <th>70</th>\n",
       "      <td>1</td>\n",
       "      <td>Meal Exp</td>\n",
       "      <td>0</td>\n",
       "    </tr>\n",
       "    <tr>\n",
       "      <th>71</th>\n",
       "      <td>5</td>\n",
       "      <td>Visit Exp</td>\n",
       "      <td>1</td>\n",
       "    </tr>\n",
       "    <tr>\n",
       "      <th>79</th>\n",
       "      <td>1</td>\n",
       "      <td>Meal Exp</td>\n",
       "      <td>5</td>\n",
       "    </tr>\n",
       "    <tr>\n",
       "      <th>142</th>\n",
       "      <td>5</td>\n",
       "      <td>Visit Exp</td>\n",
       "      <td>0</td>\n",
       "    </tr>\n",
       "    <tr>\n",
       "      <th>168</th>\n",
       "      <td>2</td>\n",
       "      <td>Menu Choice</td>\n",
       "      <td>1</td>\n",
       "    </tr>\n",
       "    <tr>\n",
       "      <th>195</th>\n",
       "      <td>1</td>\n",
       "      <td>Meal Exp</td>\n",
       "      <td>0</td>\n",
       "    </tr>\n",
       "  </tbody>\n",
       "</table>\n",
       "</div>"
      ],
      "text/plain": [
       "     Actual Class Actual Aspect  Predicted Class\n",
       "9               4         Value                5\n",
       "59              5     Visit Exp                1\n",
       "70              1      Meal Exp                0\n",
       "71              5     Visit Exp                1\n",
       "79              1      Meal Exp                5\n",
       "142             5     Visit Exp                0\n",
       "168             2   Menu Choice                1\n",
       "195             1      Meal Exp                0"
      ]
     },
     "execution_count": 322,
     "metadata": {},
     "output_type": "execute_result"
    }
   ],
   "source": [
    "# Items not classified correctly\n",
    "food_wrong = food_pred[food_pred[\"Actual Class\"]!= food_pred[\"Predicted Class\"]]\n",
    "food_wrong.head(10)"
   ]
  },
  {
   "cell_type": "code",
   "execution_count": 323,
   "id": "7523e460",
   "metadata": {},
   "outputs": [
    {
     "data": {
      "text/html": [
       "<div>\n",
       "<style scoped>\n",
       "    .dataframe tbody tr th:only-of-type {\n",
       "        vertical-align: middle;\n",
       "    }\n",
       "\n",
       "    .dataframe tbody tr th {\n",
       "        vertical-align: top;\n",
       "    }\n",
       "\n",
       "    .dataframe thead th {\n",
       "        text-align: right;\n",
       "    }\n",
       "</style>\n",
       "<table border=\"1\" class=\"dataframe\">\n",
       "  <thead>\n",
       "    <tr style=\"text-align: right;\">\n",
       "      <th></th>\n",
       "      <th>Actual Class</th>\n",
       "      <th>Actual Aspect</th>\n",
       "      <th>Predicted Class</th>\n",
       "    </tr>\n",
       "  </thead>\n",
       "  <tbody>\n",
       "    <tr>\n",
       "      <th>0</th>\n",
       "      <td>0</td>\n",
       "      <td>Food Quality</td>\n",
       "      <td>35</td>\n",
       "    </tr>\n",
       "    <tr>\n",
       "      <th>1</th>\n",
       "      <td>1</td>\n",
       "      <td>Meal Exp</td>\n",
       "      <td>35</td>\n",
       "    </tr>\n",
       "    <tr>\n",
       "      <th>2</th>\n",
       "      <td>2</td>\n",
       "      <td>Menu Choice</td>\n",
       "      <td>35</td>\n",
       "    </tr>\n",
       "    <tr>\n",
       "      <th>3</th>\n",
       "      <td>3</td>\n",
       "      <td>Staff&amp;Service</td>\n",
       "      <td>35</td>\n",
       "    </tr>\n",
       "    <tr>\n",
       "      <th>4</th>\n",
       "      <td>4</td>\n",
       "      <td>Value</td>\n",
       "      <td>35</td>\n",
       "    </tr>\n",
       "    <tr>\n",
       "      <th>5</th>\n",
       "      <td>5</td>\n",
       "      <td>Visit Exp</td>\n",
       "      <td>35</td>\n",
       "    </tr>\n",
       "  </tbody>\n",
       "</table>\n",
       "</div>"
      ],
      "text/plain": [
       "   Actual Class  Actual Aspect  Predicted Class\n",
       "0             0   Food Quality               35\n",
       "1             1       Meal Exp               35\n",
       "2             2    Menu Choice               35\n",
       "3             3  Staff&Service               35\n",
       "4             4          Value               35\n",
       "5             5      Visit Exp               35"
      ]
     },
     "execution_count": 323,
     "metadata": {},
     "output_type": "execute_result"
    }
   ],
   "source": [
    "# Get the aspects and aspect classes as reference table\n",
    "food_pred.groupby([\"Actual Class\",\"Actual Aspect\"],as_index = False).count()"
   ]
  },
  {
   "cell_type": "code",
   "execution_count": 324,
   "id": "49915c7d",
   "metadata": {},
   "outputs": [
    {
     "name": "stdout",
     "output_type": "stream",
     "text": [
      "The model predicted: 8 aspects wrong from a total of: 210 predictions\n"
     ]
    }
   ],
   "source": [
    "print(\"The model predicted:\", food_wrong.shape[0],\"aspects wrong from a total of:\",food_pred.shape[0],\"predictions\")"
   ]
  },
  {
   "cell_type": "markdown",
   "id": "f1bccae5",
   "metadata": {},
   "source": [
    "## Analysis of the food model results"
   ]
  },
  {
   "cell_type": "markdown",
   "id": "ff42c79b",
   "metadata": {},
   "source": [
    "There are some labelling issues but the model does have some clear problems with misclassifying meal and visit experiences which are close in meaning. Therefore, combining the two categories may simplify the model a little."
   ]
  },
  {
   "cell_type": "markdown",
   "id": "84b51a01",
   "metadata": {},
   "source": [
    "## Recategorise the aspects and re-run the model"
   ]
  },
  {
   "cell_type": "code",
   "execution_count": 325,
   "id": "2b159bc3",
   "metadata": {},
   "outputs": [
    {
     "data": {
      "text/plain": [
       "Meal Exp         700\n",
       "Staff&Service    350\n",
       "Food Quality     350\n",
       "Value            350\n",
       "Menu Choice      350\n",
       "Name: Aspect, dtype: int64"
      ]
     },
     "execution_count": 325,
     "metadata": {},
     "output_type": "execute_result"
    }
   ],
   "source": [
    "# Combine the two categories\n",
    "df_food[\"Aspect\"] = df_food[\"Aspect\"].replace(\"Visit Exp\",\"Meal Exp\")\n",
    "df_food.Aspect.value_counts()"
   ]
  },
  {
   "cell_type": "code",
   "execution_count": 326,
   "id": "e63fd64a",
   "metadata": {},
   "outputs": [
    {
     "data": {
      "text/plain": [
       "(350, 8)"
      ]
     },
     "execution_count": 326,
     "metadata": {},
     "output_type": "execute_result"
    }
   ],
   "source": [
    "# Take random 350 items from this combined category\n",
    "meal = df_food[df_food[\"Aspect\"] == \"Meal Exp\"]\n",
    "meal = meal.sample(n = 350)\n",
    "meal.shape"
   ]
  },
  {
   "cell_type": "code",
   "execution_count": 327,
   "id": "014df919",
   "metadata": {},
   "outputs": [],
   "source": [
    "# Create new dataframe dropping the two aspect categories no longer wanted and then concat with the new combined category\n",
    "aspect_list = [\"Menu Choice\",\"Food Quality\",\"Staff&Service\",\"Value\"]\n",
    "df_food_new = df_food[df_food[\"Aspect\"].isin(aspect_list)]\n",
    "df_food_new = pd.concat([df_food_new,meal],axis = 0,ignore_index = True)"
   ]
  },
  {
   "cell_type": "code",
   "execution_count": 328,
   "id": "41d36fcd",
   "metadata": {},
   "outputs": [],
   "source": [
    "# Define X and y, train, test, split and encode X and y variables\n",
    "X_food_new,y_food_new = XY(df_food_new)\n",
    "X_train_food2,X_val_food2,X_test_food2,y_train_food2,y_val_food2,y_test_food2 = train_test(X_food_new,y_food_new)\n",
    "y_train_food_e2, y_val_food_e2, y_test_food_e2 = bin(y_train_food2, y_val_food2, y_test_food2)\n",
    "X_train_food_w2, X_val_food_w2, X_test_food_w2 = tok(X_train_food2, X_val_food2, X_test_food2)"
   ]
  },
  {
   "cell_type": "code",
   "execution_count": 329,
   "id": "aee72477",
   "metadata": {},
   "outputs": [
    {
     "name": "stdout",
     "output_type": "stream",
     "text": [
      "Model: \"sequential_9\"\n",
      "_________________________________________________________________\n",
      "Layer (type)                 Output Shape              Param #   \n",
      "=================================================================\n",
      "embedding_9 (Embedding)      (None, 15, 16)            96000     \n",
      "_________________________________________________________________\n",
      "flatten_9 (Flatten)          (None, 240)               0         \n",
      "_________________________________________________________________\n",
      "dense_36 (Dense)             (None, 512)               123392    \n",
      "_________________________________________________________________\n",
      "dense_37 (Dense)             (None, 256)               131328    \n",
      "_________________________________________________________________\n",
      "dense_38 (Dense)             (None, 128)               32896     \n",
      "_________________________________________________________________\n",
      "dense_39 (Dense)             (None, 5)                 645       \n",
      "=================================================================\n",
      "Total params: 384,261\n",
      "Trainable params: 384,261\n",
      "Non-trainable params: 0\n",
      "_________________________________________________________________\n",
      "None\n"
     ]
    }
   ],
   "source": [
    "# Define model - set output to only 5 categories\n",
    "\n",
    "model3 = Sequential()\n",
    "model3.add(Embedding(input_dim = input_dim, output_dim = output_dim, input_length=input_length))\n",
    "model3.add(Flatten())\n",
    "model3.add(Dense(512, activation='relu', input_shape=(1600,)))\n",
    "model3.add(Dense(256,activation = 'relu'))\n",
    "model3.add(Dense(128,activation = 'relu'))\n",
    "model3.add(Dense(5, activation='softmax'))\n",
    "\n",
    "model3.compile(optimizer='adam', loss='categorical_crossentropy', metrics=['accuracy'])\n",
    "print(model3.summary())"
   ]
  },
  {
   "cell_type": "code",
   "execution_count": 330,
   "id": "b15876aa",
   "metadata": {},
   "outputs": [],
   "source": [
    "# Set output directory and callbacks\n",
    "output_dir = out('model_output/FoodAspectModels2')\n",
    "callbacks = call(output_dir,5)"
   ]
  },
  {
   "cell_type": "code",
   "execution_count": 331,
   "id": "e6be74a8",
   "metadata": {},
   "outputs": [
    {
     "name": "stdout",
     "output_type": "stream",
     "text": [
      "Epoch 1/50\n",
      "88/88 - 0s - loss: 0.9639 - accuracy: 0.6443 - val_loss: 0.2941 - val_accuracy: 0.8971\n",
      "Epoch 2/50\n",
      "88/88 - 0s - loss: 0.1733 - accuracy: 0.9564 - val_loss: 0.1141 - val_accuracy: 0.9714\n",
      "Epoch 3/50\n",
      "88/88 - 0s - loss: 0.0754 - accuracy: 0.9814 - val_loss: 0.1003 - val_accuracy: 0.9657\n",
      "Epoch 4/50\n",
      "88/88 - 0s - loss: 0.0368 - accuracy: 0.9943 - val_loss: 0.0904 - val_accuracy: 0.9714\n",
      "Epoch 5/50\n",
      "88/88 - 0s - loss: 0.0191 - accuracy: 0.9943 - val_loss: 0.1045 - val_accuracy: 0.9600\n",
      "Epoch 6/50\n",
      "88/88 - 0s - loss: 0.0092 - accuracy: 0.9971 - val_loss: 0.1139 - val_accuracy: 0.9657\n",
      "Epoch 7/50\n",
      "88/88 - 0s - loss: 0.0039 - accuracy: 0.9993 - val_loss: 0.1284 - val_accuracy: 0.9714\n",
      "Epoch 8/50\n",
      "88/88 - 0s - loss: 0.0014 - accuracy: 1.0000 - val_loss: 0.1309 - val_accuracy: 0.9657\n",
      "Epoch 9/50\n",
      "88/88 - 0s - loss: 0.0011 - accuracy: 1.0000 - val_loss: 0.1157 - val_accuracy: 0.9714\n"
     ]
    }
   ],
   "source": [
    "# Run model\n",
    "\n",
    "history3 = model3.fit(X_train_food_w2,y_train_food_e2,\n",
    "                    epochs=epochs,\n",
    "                    verbose=2,\n",
    "                    callbacks = callbacks,\n",
    "                    validation_data=(X_val_food_w2, y_val_food_e2),\n",
    "                    batch_size=batch_size,\n",
    "                     )"
   ]
  },
  {
   "cell_type": "code",
   "execution_count": 332,
   "id": "62094259",
   "metadata": {},
   "outputs": [
    {
     "name": "stdout",
     "output_type": "stream",
     "text": [
      "44/44 [==============================] - 0s 431us/step - loss: 5.0312e-04 - accuracy: 1.0000\n",
      "[0.0005031158798374236, 1.0]\n",
      "6/6 [==============================] - 0s 665us/step - loss: 0.1157 - accuracy: 0.9714\n",
      "[0.11570765823125839, 0.9714285731315613]\n"
     ]
    }
   ],
   "source": [
    "print(model3.evaluate(X_train_food_w2, y_train_food_e2))\n",
    "print(model3.evaluate(X_val_food_w2, y_val_food_e2))"
   ]
  },
  {
   "cell_type": "code",
   "execution_count": 333,
   "id": "17353f0f",
   "metadata": {},
   "outputs": [],
   "source": [
    "# Load model weights from epoch with best validation accuracy\n",
    "model3.load_weights(output_dir+\"/weights.02.hdf5\")"
   ]
  },
  {
   "cell_type": "code",
   "execution_count": 334,
   "id": "defa8540",
   "metadata": {},
   "outputs": [
    {
     "data": {
      "image/png": "[encoded data removed]",
      "text/plain": [
       "<Figure size 864x360 with 2 Axes>"
      ]
     },
     "metadata": {},
     "output_type": "display_data"
    }
   ],
   "source": [
    "plot_history(history3)"
   ]
  },
  {
   "cell_type": "code",
   "execution_count": 335,
   "id": "e8e7af7f",
   "metadata": {},
   "outputs": [],
   "source": [
    "# Get predicted y values and predicted classes and convert original labels to integers\n",
    "y_pred_prob3 = model3.predict(X_val_food_w2)\n",
    "y_pred_class3 = np.argmax(model3.predict(X_val_food_w2), axis=-1)\n",
    "y_val_food_integer = np.argmax(y_val_food_e2, axis=1)"
   ]
  },
  {
   "cell_type": "code",
   "execution_count": 336,
   "id": "7886e5e5",
   "metadata": {},
   "outputs": [
    {
     "name": "stdout",
     "output_type": "stream",
     "text": [
      "              precision    recall  f1-score   support\n",
      "\n",
      "           0       0.97      0.89      0.93        35\n",
      "           1       0.89      0.97      0.93        35\n",
      "           2       1.00      1.00      1.00        35\n",
      "           3       1.00      1.00      1.00        35\n",
      "           4       1.00      1.00      1.00        35\n",
      "\n",
      "    accuracy                           0.97       175\n",
      "   macro avg       0.97      0.97      0.97       175\n",
      "weighted avg       0.97      0.97      0.97       175\n",
      "\n"
     ]
    },
    {
     "data": {
      "image/png": "[encoded data removed]",
      "text/plain": [
       "<Figure size 576x432 with 2 Axes>"
      ]
     },
     "metadata": {},
     "output_type": "display_data"
    }
   ],
   "source": [
    "class_conf(y_val_food_integer,y_pred_class3)"
   ]
  },
  {
   "cell_type": "code",
   "execution_count": 337,
   "id": "a7f0fe12",
   "metadata": {},
   "outputs": [
    {
     "data": {
      "text/html": [
       "<div>\n",
       "<style scoped>\n",
       "    .dataframe tbody tr th:only-of-type {\n",
       "        vertical-align: middle;\n",
       "    }\n",
       "\n",
       "    .dataframe tbody tr th {\n",
       "        vertical-align: top;\n",
       "    }\n",
       "\n",
       "    .dataframe thead th {\n",
       "        text-align: right;\n",
       "    }\n",
       "</style>\n",
       "<table border=\"1\" class=\"dataframe\">\n",
       "  <thead>\n",
       "    <tr style=\"text-align: right;\">\n",
       "      <th></th>\n",
       "      <th>Actual Class</th>\n",
       "      <th>Actual Aspect</th>\n",
       "      <th>Predicted Class</th>\n",
       "    </tr>\n",
       "  </thead>\n",
       "  <tbody>\n",
       "    <tr>\n",
       "      <th>0</th>\n",
       "      <td>2</td>\n",
       "      <td>Menu Choice</td>\n",
       "      <td>2</td>\n",
       "    </tr>\n",
       "    <tr>\n",
       "      <th>1</th>\n",
       "      <td>0</td>\n",
       "      <td>Food Quality</td>\n",
       "      <td>0</td>\n",
       "    </tr>\n",
       "    <tr>\n",
       "      <th>2</th>\n",
       "      <td>2</td>\n",
       "      <td>Menu Choice</td>\n",
       "      <td>2</td>\n",
       "    </tr>\n",
       "    <tr>\n",
       "      <th>3</th>\n",
       "      <td>3</td>\n",
       "      <td>Staff&amp;Service</td>\n",
       "      <td>3</td>\n",
       "    </tr>\n",
       "    <tr>\n",
       "      <th>4</th>\n",
       "      <td>3</td>\n",
       "      <td>Staff&amp;Service</td>\n",
       "      <td>3</td>\n",
       "    </tr>\n",
       "    <tr>\n",
       "      <th>5</th>\n",
       "      <td>4</td>\n",
       "      <td>Value</td>\n",
       "      <td>4</td>\n",
       "    </tr>\n",
       "    <tr>\n",
       "      <th>6</th>\n",
       "      <td>1</td>\n",
       "      <td>Meal Exp</td>\n",
       "      <td>1</td>\n",
       "    </tr>\n",
       "    <tr>\n",
       "      <th>7</th>\n",
       "      <td>4</td>\n",
       "      <td>Value</td>\n",
       "      <td>4</td>\n",
       "    </tr>\n",
       "    <tr>\n",
       "      <th>8</th>\n",
       "      <td>0</td>\n",
       "      <td>Food Quality</td>\n",
       "      <td>1</td>\n",
       "    </tr>\n",
       "    <tr>\n",
       "      <th>9</th>\n",
       "      <td>0</td>\n",
       "      <td>Food Quality</td>\n",
       "      <td>0</td>\n",
       "    </tr>\n",
       "  </tbody>\n",
       "</table>\n",
       "</div>"
      ],
      "text/plain": [
       "   Actual Class  Actual Aspect  Predicted Class\n",
       "0             2    Menu Choice                2\n",
       "1             0   Food Quality                0\n",
       "2             2    Menu Choice                2\n",
       "3             3  Staff&Service                3\n",
       "4             3  Staff&Service                3\n",
       "5             4          Value                4\n",
       "6             1       Meal Exp                1\n",
       "7             4          Value                4\n",
       "8             0   Food Quality                1\n",
       "9             0   Food Quality                0"
      ]
     },
     "execution_count": 337,
     "metadata": {},
     "output_type": "execute_result"
    }
   ],
   "source": [
    "# Create dataframe with y pred probabilities, classes and y actual\n",
    "food_pred2 = pd.DataFrame(list(zip(y_val_food_integer,y_val_food2, y_pred_class3 )), columns=[\"Actual Class\", \"Actual Aspect\",\"Predicted Class\"])\n",
    "food_pred2.head(10)"
   ]
  },
  {
   "cell_type": "code",
   "execution_count": 338,
   "id": "8ccedab5",
   "metadata": {},
   "outputs": [
    {
     "data": {
      "text/html": [
       "<div>\n",
       "<style scoped>\n",
       "    .dataframe tbody tr th:only-of-type {\n",
       "        vertical-align: middle;\n",
       "    }\n",
       "\n",
       "    .dataframe tbody tr th {\n",
       "        vertical-align: top;\n",
       "    }\n",
       "\n",
       "    .dataframe thead th {\n",
       "        text-align: right;\n",
       "    }\n",
       "</style>\n",
       "<table border=\"1\" class=\"dataframe\">\n",
       "  <thead>\n",
       "    <tr style=\"text-align: right;\">\n",
       "      <th></th>\n",
       "      <th>Actual Class</th>\n",
       "      <th>Actual Aspect</th>\n",
       "      <th>Predicted Class</th>\n",
       "    </tr>\n",
       "  </thead>\n",
       "  <tbody>\n",
       "    <tr>\n",
       "      <th>8</th>\n",
       "      <td>0</td>\n",
       "      <td>Food Quality</td>\n",
       "      <td>1</td>\n",
       "    </tr>\n",
       "    <tr>\n",
       "      <th>29</th>\n",
       "      <td>0</td>\n",
       "      <td>Food Quality</td>\n",
       "      <td>1</td>\n",
       "    </tr>\n",
       "    <tr>\n",
       "      <th>140</th>\n",
       "      <td>1</td>\n",
       "      <td>Meal Exp</td>\n",
       "      <td>0</td>\n",
       "    </tr>\n",
       "    <tr>\n",
       "      <th>150</th>\n",
       "      <td>0</td>\n",
       "      <td>Food Quality</td>\n",
       "      <td>1</td>\n",
       "    </tr>\n",
       "    <tr>\n",
       "      <th>174</th>\n",
       "      <td>0</td>\n",
       "      <td>Food Quality</td>\n",
       "      <td>1</td>\n",
       "    </tr>\n",
       "  </tbody>\n",
       "</table>\n",
       "</div>"
      ],
      "text/plain": [
       "     Actual Class Actual Aspect  Predicted Class\n",
       "8               0  Food Quality                1\n",
       "29              0  Food Quality                1\n",
       "140             1      Meal Exp                0\n",
       "150             0  Food Quality                1\n",
       "174             0  Food Quality                1"
      ]
     },
     "execution_count": 338,
     "metadata": {},
     "output_type": "execute_result"
    }
   ],
   "source": [
    "# Items not classified correctly\n",
    "food_wrong2 = food_pred2[food_pred2[\"Actual Class\"]!= food_pred2[\"Predicted Class\"]]\n",
    "food_wrong2"
   ]
  },
  {
   "cell_type": "code",
   "execution_count": 342,
   "id": "0aa6870f",
   "metadata": {},
   "outputs": [
    {
     "name": "stdout",
     "output_type": "stream",
     "text": [
      "The model predicted: 5 aspects wrong from a total of: 175 predictions\n"
     ]
    }
   ],
   "source": [
    "print(\"The model predicted:\", food_wrong2.shape[0],\"aspects wrong from a total of:\",food_pred2.shape[0],\"predictions\")"
   ]
  },
  {
   "cell_type": "markdown",
   "id": "b9e244f3",
   "metadata": {},
   "source": [
    "General comments:\n",
    "\n",
    "* Food reviews tend to be shorter, mention multiple topics in the one noun phrase. The labelling of the model took the first mentioned aspect in a noun phrase as the one that it was labelled as, for example if a row had nouns \"Food\", \"Service\", then the word \"Food\" is the one that is used to label the data. This means that some aspects are being missed. A multi-label model might actually perform better.\n",
    "\n",
    "* Where reviews lack punctuation, those rows cannot be split into sentences, then noun phrases properly. This results in many nouns for a datapoint which compounds the problem above and confuses the model. One measure might be to exclude those datapoints where the number of nouns is more than say 3 or 4 but there would still be cases where at least two aspects are mentioned in a single noun-phrase.\n"
   ]
  },
  {
   "cell_type": "markdown",
   "id": "3865a2e2",
   "metadata": {},
   "source": [
    "# Section 6: Building an attractions model"
   ]
  },
  {
   "cell_type": "markdown",
   "id": "60c496de",
   "metadata": {},
   "source": [
    "## Build a model"
   ]
  },
  {
   "cell_type": "code",
   "execution_count": 343,
   "id": "d9f46377",
   "metadata": {},
   "outputs": [],
   "source": [
    "# Parameters\n",
    "input_dim = 6000\n",
    "output_dim = 16\n",
    "input_length = 15\n",
    "batch_size = 16\n",
    "epochs = 50\n",
    "class_weights = {0:cw_attract[0],1:cw_attract[1],2:cw_attract[2],3:cw_attract[3],4:cw_attract[4],5:cw_attract[5],6:cw_attract[6]}"
   ]
  },
  {
   "cell_type": "code",
   "execution_count": 344,
   "id": "fad7f398",
   "metadata": {},
   "outputs": [
    {
     "name": "stdout",
     "output_type": "stream",
     "text": [
      "{0: 0.7857142857142857, 1: 0.7857142857142857, 2: 1.5714285714285714, 3: 0.7857142857142857, 4: 1.1785714285714286, 5: 1.5714285714285714, 6: 0.9428571428571428}\n"
     ]
    }
   ],
   "source": [
    "print(class_weights)"
   ]
  },
  {
   "cell_type": "code",
   "execution_count": 345,
   "id": "e509a8cc",
   "metadata": {},
   "outputs": [
    {
     "name": "stdout",
     "output_type": "stream",
     "text": [
      "Model: \"sequential_10\"\n",
      "_________________________________________________________________\n",
      "Layer (type)                 Output Shape              Param #   \n",
      "=================================================================\n",
      "embedding_10 (Embedding)     (None, 15, 16)            96000     \n",
      "_________________________________________________________________\n",
      "flatten_10 (Flatten)         (None, 240)               0         \n",
      "_________________________________________________________________\n",
      "dense_40 (Dense)             (None, 512)               123392    \n",
      "_________________________________________________________________\n",
      "dense_41 (Dense)             (None, 256)               131328    \n",
      "_________________________________________________________________\n",
      "dense_42 (Dense)             (None, 128)               32896     \n",
      "_________________________________________________________________\n",
      "dense_43 (Dense)             (None, 7)                 903       \n",
      "=================================================================\n",
      "Total params: 384,519\n",
      "Trainable params: 384,519\n",
      "Non-trainable params: 0\n",
      "_________________________________________________________________\n",
      "None\n"
     ]
    }
   ],
   "source": [
    "# Define model - best performing sentiment model as a starting point\n",
    "model4 = Sequential()\n",
    "model4.add(Embedding(input_dim = input_dim, output_dim = output_dim, input_length=input_length))\n",
    "model4.add(Flatten())\n",
    "model4.add(Dense(512, activation='relu', input_shape=(1600,)))\n",
    "model4.add(Dense(256,activation = 'relu'))\n",
    "model4.add(Dense(128,activation = 'relu'))\n",
    "model4.add(Dense(7, activation='softmax'))\n",
    "\n",
    "model4.compile(optimizer='adam', loss='categorical_crossentropy', metrics=['accuracy'])\n",
    "print(model4.summary())"
   ]
  },
  {
   "cell_type": "code",
   "execution_count": 346,
   "id": "15140751",
   "metadata": {},
   "outputs": [],
   "source": [
    "output_dir = out('model_output/AttractAspectModels4')\n",
    "callbacks = call(output_dir,5)"
   ]
  },
  {
   "cell_type": "code",
   "execution_count": 347,
   "id": "16408daa",
   "metadata": {},
   "outputs": [
    {
     "name": "stdout",
     "output_type": "stream",
     "text": [
      "Epoch 1/50\n",
      "83/83 - 0s - loss: 1.8248 - accuracy: 0.2098 - val_loss: 1.4588 - val_accuracy: 0.3212\n",
      "Epoch 2/50\n",
      "83/83 - 0s - loss: 1.0739 - accuracy: 0.5621 - val_loss: 0.7594 - val_accuracy: 0.7697\n",
      "Epoch 3/50\n",
      "83/83 - 0s - loss: 0.5020 - accuracy: 0.8424 - val_loss: 0.5665 - val_accuracy: 0.8182\n",
      "Epoch 4/50\n",
      "83/83 - 0s - loss: 0.2073 - accuracy: 0.9402 - val_loss: 0.5532 - val_accuracy: 0.8727\n",
      "Epoch 5/50\n",
      "83/83 - 0s - loss: 0.1022 - accuracy: 0.9720 - val_loss: 0.6419 - val_accuracy: 0.8424\n",
      "Epoch 6/50\n",
      "83/83 - 0s - loss: 0.0584 - accuracy: 0.9826 - val_loss: 0.7492 - val_accuracy: 0.8727\n",
      "Epoch 7/50\n",
      "83/83 - 0s - loss: 0.0495 - accuracy: 0.9848 - val_loss: 0.6558 - val_accuracy: 0.8667\n",
      "Epoch 8/50\n",
      "83/83 - 0s - loss: 0.0217 - accuracy: 0.9947 - val_loss: 0.6593 - val_accuracy: 0.8606\n",
      "Epoch 9/50\n",
      "83/83 - 0s - loss: 0.0275 - accuracy: 0.9932 - val_loss: 0.6466 - val_accuracy: 0.8667\n"
     ]
    }
   ],
   "source": [
    "# Model using keras embeddings\n",
    "history4 = model4.fit(X_train_attract_w,y_train_attract_e,\n",
    "                    epochs=epochs,\n",
    "                    verbose=2,\n",
    "                    callbacks = callbacks,\n",
    "                    validation_data=(X_val_attract_w, y_val_attract_e),\n",
    "                    batch_size=batch_size,\n",
    "                    class_weight = class_weights)"
   ]
  },
  {
   "cell_type": "code",
   "execution_count": 348,
   "id": "b92f4f14",
   "metadata": {},
   "outputs": [
    {
     "name": "stdout",
     "output_type": "stream",
     "text": [
      " 1/42 [..............................] - ETA: 0s - loss: 0.0037 - accuracy: 1.0000WARNING:tensorflow:Callbacks method `on_test_batch_end` is slow compared to the batch time (batch time: 0.0000s vs `on_test_batch_end` time: 0.0010s). Check your callbacks.\n",
      "42/42 [==============================] - 0s 475us/step - loss: 0.0157 - accuracy: 0.9962\n",
      "[0.01573372632265091, 0.9962121248245239]\n",
      "6/6 [==============================] - 0s 665us/step - loss: 0.6466 - accuracy: 0.8667\n",
      "[0.6465871930122375, 0.8666666746139526]\n"
     ]
    }
   ],
   "source": [
    "print(model4.evaluate(X_train_attract_w, y_train_attract_e))\n",
    "print(model4.evaluate(X_val_attract_w, y_val_attract_e))"
   ]
  },
  {
   "cell_type": "code",
   "execution_count": 349,
   "id": "a989cab3",
   "metadata": {},
   "outputs": [],
   "source": [
    "# Load model weights from epoch with best validation accuracy\n",
    "model4.load_weights(output_dir+\"/weights.07.hdf5\")"
   ]
  },
  {
   "cell_type": "code",
   "execution_count": 350,
   "id": "25904aee",
   "metadata": {},
   "outputs": [
    {
     "data": {
      "image/png": "[encoded data removed]",
      "text/plain": [
       "<Figure size 864x360 with 2 Axes>"
      ]
     },
     "metadata": {},
     "output_type": "display_data"
    }
   ],
   "source": [
    "plot_history(history4)"
   ]
  },
  {
   "cell_type": "code",
   "execution_count": 351,
   "id": "cfe5b9ff",
   "metadata": {},
   "outputs": [],
   "source": [
    "# Get predicted y values and predicted classes and convert original labels to integers\n",
    "y_pred_prob4 = model4.predict(X_val_attract_w)\n",
    "y_pred_class4 = np.argmax(model4.predict(X_val_attract_w), axis=-1)\n",
    "y_val_attract_integer = np.argmax(y_val_attract_e, axis=1)"
   ]
  },
  {
   "cell_type": "code",
   "execution_count": 352,
   "id": "1e13ceb6",
   "metadata": {},
   "outputs": [
    {
     "name": "stdout",
     "output_type": "stream",
     "text": [
      "              precision    recall  f1-score   support\n",
      "\n",
      "           0       1.00      0.93      0.97        30\n",
      "           1       0.89      0.80      0.84        30\n",
      "           2       0.92      0.80      0.86        15\n",
      "           3       1.00      0.80      0.89        30\n",
      "           4       0.86      0.95      0.90        20\n",
      "           5       0.93      0.93      0.93        15\n",
      "           6       0.61      0.88      0.72        25\n",
      "\n",
      "    accuracy                           0.87       165\n",
      "   macro avg       0.89      0.87      0.87       165\n",
      "weighted avg       0.89      0.87      0.87       165\n",
      "\n"
     ]
    },
    {
     "data": {
      "image/png": "[encoded data removed]",
      "text/plain": [
       "<Figure size 576x432 with 2 Axes>"
      ]
     },
     "metadata": {},
     "output_type": "display_data"
    }
   ],
   "source": [
    "class_conf(y_val_attract_integer,y_pred_class4)"
   ]
  },
  {
   "cell_type": "code",
   "execution_count": 353,
   "id": "a4681bd0",
   "metadata": {},
   "outputs": [
    {
     "data": {
      "text/html": [
       "<div>\n",
       "<style scoped>\n",
       "    .dataframe tbody tr th:only-of-type {\n",
       "        vertical-align: middle;\n",
       "    }\n",
       "\n",
       "    .dataframe tbody tr th {\n",
       "        vertical-align: top;\n",
       "    }\n",
       "\n",
       "    .dataframe thead th {\n",
       "        text-align: right;\n",
       "    }\n",
       "</style>\n",
       "<table border=\"1\" class=\"dataframe\">\n",
       "  <thead>\n",
       "    <tr style=\"text-align: right;\">\n",
       "      <th></th>\n",
       "      <th>Actual Class</th>\n",
       "      <th>Actual Aspect</th>\n",
       "      <th>Predicted Class</th>\n",
       "    </tr>\n",
       "  </thead>\n",
       "  <tbody>\n",
       "    <tr>\n",
       "      <th>0</th>\n",
       "      <td>2</td>\n",
       "      <td>History</td>\n",
       "      <td>2</td>\n",
       "    </tr>\n",
       "    <tr>\n",
       "      <th>1</th>\n",
       "      <td>5</td>\n",
       "      <td>Value</td>\n",
       "      <td>5</td>\n",
       "    </tr>\n",
       "    <tr>\n",
       "      <th>2</th>\n",
       "      <td>0</td>\n",
       "      <td>Activities</td>\n",
       "      <td>0</td>\n",
       "    </tr>\n",
       "    <tr>\n",
       "      <th>3</th>\n",
       "      <td>2</td>\n",
       "      <td>History</td>\n",
       "      <td>2</td>\n",
       "    </tr>\n",
       "    <tr>\n",
       "      <th>4</th>\n",
       "      <td>3</td>\n",
       "      <td>Nature</td>\n",
       "      <td>3</td>\n",
       "    </tr>\n",
       "    <tr>\n",
       "      <th>5</th>\n",
       "      <td>6</td>\n",
       "      <td>VisitExp&amp;Gen</td>\n",
       "      <td>6</td>\n",
       "    </tr>\n",
       "    <tr>\n",
       "      <th>6</th>\n",
       "      <td>5</td>\n",
       "      <td>Value</td>\n",
       "      <td>5</td>\n",
       "    </tr>\n",
       "    <tr>\n",
       "      <th>7</th>\n",
       "      <td>3</td>\n",
       "      <td>Nature</td>\n",
       "      <td>3</td>\n",
       "    </tr>\n",
       "    <tr>\n",
       "      <th>8</th>\n",
       "      <td>3</td>\n",
       "      <td>Nature</td>\n",
       "      <td>1</td>\n",
       "    </tr>\n",
       "    <tr>\n",
       "      <th>9</th>\n",
       "      <td>6</td>\n",
       "      <td>VisitExp&amp;Gen</td>\n",
       "      <td>6</td>\n",
       "    </tr>\n",
       "  </tbody>\n",
       "</table>\n",
       "</div>"
      ],
      "text/plain": [
       "   Actual Class Actual Aspect  Predicted Class\n",
       "0             2       History                2\n",
       "1             5         Value                5\n",
       "2             0    Activities                0\n",
       "3             2       History                2\n",
       "4             3        Nature                3\n",
       "5             6  VisitExp&Gen                6\n",
       "6             5         Value                5\n",
       "7             3        Nature                3\n",
       "8             3        Nature                1\n",
       "9             6  VisitExp&Gen                6"
      ]
     },
     "execution_count": 353,
     "metadata": {},
     "output_type": "execute_result"
    }
   ],
   "source": [
    "# Create dataframe with y pred probabilities, classes and y actual\n",
    "attract_pred = pd.DataFrame(list(zip(y_val_attract_integer, y_val_attract,y_pred_class4)), columns=[\"Actual Class\",\"Actual Aspect\", \"Predicted Class\"])\n",
    "attract_pred.head(10)"
   ]
  },
  {
   "cell_type": "code",
   "execution_count": 358,
   "id": "1658d8bd",
   "metadata": {},
   "outputs": [
    {
     "data": {
      "text/html": [
       "<div>\n",
       "<style scoped>\n",
       "    .dataframe tbody tr th:only-of-type {\n",
       "        vertical-align: middle;\n",
       "    }\n",
       "\n",
       "    .dataframe tbody tr th {\n",
       "        vertical-align: top;\n",
       "    }\n",
       "\n",
       "    .dataframe thead th {\n",
       "        text-align: right;\n",
       "    }\n",
       "</style>\n",
       "<table border=\"1\" class=\"dataframe\">\n",
       "  <thead>\n",
       "    <tr style=\"text-align: right;\">\n",
       "      <th></th>\n",
       "      <th>Actual Class</th>\n",
       "      <th>Actual Aspect</th>\n",
       "      <th>Predicted Class</th>\n",
       "    </tr>\n",
       "  </thead>\n",
       "  <tbody>\n",
       "    <tr>\n",
       "      <th>8</th>\n",
       "      <td>3</td>\n",
       "      <td>Nature</td>\n",
       "      <td>1</td>\n",
       "    </tr>\n",
       "    <tr>\n",
       "      <th>16</th>\n",
       "      <td>0</td>\n",
       "      <td>Activities</td>\n",
       "      <td>6</td>\n",
       "    </tr>\n",
       "    <tr>\n",
       "      <th>33</th>\n",
       "      <td>4</td>\n",
       "      <td>Staff&amp;Service</td>\n",
       "      <td>6</td>\n",
       "    </tr>\n",
       "    <tr>\n",
       "      <th>49</th>\n",
       "      <td>2</td>\n",
       "      <td>History</td>\n",
       "      <td>6</td>\n",
       "    </tr>\n",
       "    <tr>\n",
       "      <th>53</th>\n",
       "      <td>1</td>\n",
       "      <td>Amenities</td>\n",
       "      <td>6</td>\n",
       "    </tr>\n",
       "    <tr>\n",
       "      <th>54</th>\n",
       "      <td>3</td>\n",
       "      <td>Nature</td>\n",
       "      <td>2</td>\n",
       "    </tr>\n",
       "    <tr>\n",
       "      <th>57</th>\n",
       "      <td>3</td>\n",
       "      <td>Nature</td>\n",
       "      <td>6</td>\n",
       "    </tr>\n",
       "    <tr>\n",
       "      <th>71</th>\n",
       "      <td>6</td>\n",
       "      <td>VisitExp&amp;Gen</td>\n",
       "      <td>1</td>\n",
       "    </tr>\n",
       "    <tr>\n",
       "      <th>78</th>\n",
       "      <td>3</td>\n",
       "      <td>Nature</td>\n",
       "      <td>6</td>\n",
       "    </tr>\n",
       "    <tr>\n",
       "      <th>79</th>\n",
       "      <td>3</td>\n",
       "      <td>Nature</td>\n",
       "      <td>6</td>\n",
       "    </tr>\n",
       "    <tr>\n",
       "      <th>80</th>\n",
       "      <td>6</td>\n",
       "      <td>VisitExp&amp;Gen</td>\n",
       "      <td>4</td>\n",
       "    </tr>\n",
       "    <tr>\n",
       "      <th>82</th>\n",
       "      <td>0</td>\n",
       "      <td>Activities</td>\n",
       "      <td>6</td>\n",
       "    </tr>\n",
       "    <tr>\n",
       "      <th>84</th>\n",
       "      <td>2</td>\n",
       "      <td>History</td>\n",
       "      <td>6</td>\n",
       "    </tr>\n",
       "    <tr>\n",
       "      <th>86</th>\n",
       "      <td>3</td>\n",
       "      <td>Nature</td>\n",
       "      <td>6</td>\n",
       "    </tr>\n",
       "    <tr>\n",
       "      <th>88</th>\n",
       "      <td>6</td>\n",
       "      <td>VisitExp&amp;Gen</td>\n",
       "      <td>4</td>\n",
       "    </tr>\n",
       "    <tr>\n",
       "      <th>89</th>\n",
       "      <td>1</td>\n",
       "      <td>Amenities</td>\n",
       "      <td>6</td>\n",
       "    </tr>\n",
       "    <tr>\n",
       "      <th>101</th>\n",
       "      <td>1</td>\n",
       "      <td>Amenities</td>\n",
       "      <td>5</td>\n",
       "    </tr>\n",
       "    <tr>\n",
       "      <th>108</th>\n",
       "      <td>1</td>\n",
       "      <td>Amenities</td>\n",
       "      <td>6</td>\n",
       "    </tr>\n",
       "    <tr>\n",
       "      <th>118</th>\n",
       "      <td>1</td>\n",
       "      <td>Amenities</td>\n",
       "      <td>6</td>\n",
       "    </tr>\n",
       "    <tr>\n",
       "      <th>128</th>\n",
       "      <td>1</td>\n",
       "      <td>Amenities</td>\n",
       "      <td>4</td>\n",
       "    </tr>\n",
       "    <tr>\n",
       "      <th>131</th>\n",
       "      <td>5</td>\n",
       "      <td>Value</td>\n",
       "      <td>1</td>\n",
       "    </tr>\n",
       "    <tr>\n",
       "      <th>134</th>\n",
       "      <td>2</td>\n",
       "      <td>History</td>\n",
       "      <td>6</td>\n",
       "    </tr>\n",
       "  </tbody>\n",
       "</table>\n",
       "</div>"
      ],
      "text/plain": [
       "     Actual Class  Actual Aspect  Predicted Class\n",
       "8               3         Nature                1\n",
       "16              0     Activities                6\n",
       "33              4  Staff&Service                6\n",
       "49              2        History                6\n",
       "53              1      Amenities                6\n",
       "54              3         Nature                2\n",
       "57              3         Nature                6\n",
       "71              6   VisitExp&Gen                1\n",
       "78              3         Nature                6\n",
       "79              3         Nature                6\n",
       "80              6   VisitExp&Gen                4\n",
       "82              0     Activities                6\n",
       "84              2        History                6\n",
       "86              3         Nature                6\n",
       "88              6   VisitExp&Gen                4\n",
       "89              1      Amenities                6\n",
       "101             1      Amenities                5\n",
       "108             1      Amenities                6\n",
       "118             1      Amenities                6\n",
       "128             1      Amenities                4\n",
       "131             5          Value                1\n",
       "134             2        History                6"
      ]
     },
     "execution_count": 358,
     "metadata": {},
     "output_type": "execute_result"
    }
   ],
   "source": [
    "# Items not classified correctly\n",
    "attract_wrong = attract_pred[attract_pred[\"Actual Class\"]!= attract_pred[\"Predicted Class\"]]\n",
    "attract_wrong"
   ]
  },
  {
   "cell_type": "code",
   "execution_count": 359,
   "id": "bbf3f062",
   "metadata": {},
   "outputs": [
    {
     "name": "stdout",
     "output_type": "stream",
     "text": [
      "The model predicted: 22 aspects wrong from a total of: 165 predictions\n"
     ]
    }
   ],
   "source": [
    "print(\"The model predicted:\", attract_wrong.shape[0],\"aspects wrong from a total of:\",attract_pred.shape[0],\"predictions\")"
   ]
  },
  {
   "cell_type": "markdown",
   "id": "06ca4507",
   "metadata": {},
   "source": [
    "## Analysis of results"
   ]
  },
  {
   "cell_type": "markdown",
   "id": "a31f5e40",
   "metadata": {},
   "source": [
    "* Model does not perform as well as the previous models for accommodation and food. The model is overfitting and does not generalise to new data well. The attractions category is a difficult one to classify based on the nouns as features since many of the words are vague and the aspects are in some cases a bit 'fuzzy' (the nouns could be classed to more than one category based on interpretation). This is particularly the case where is just one word noun in the training features. Also there are very few datapoints in some of the aspect classes. The class weights in the model are balanced but more training data is likely to help the model perform better. Labelling is time consuming and difficult so tactics include:\n",
    "\n",
    "* Creating synthetic datapoints for the classes with less datapoints\n",
    "* Augmenting the training data using techniques such as swapping, deleting or adding words"
   ]
  },
  {
   "cell_type": "markdown",
   "id": "83b9def9",
   "metadata": {},
   "source": [
    "# Section 7: Synthetic Minority Oversampling"
   ]
  },
  {
   "cell_type": "code",
   "execution_count": 360,
   "id": "11f307ad",
   "metadata": {},
   "outputs": [
    {
     "name": "stdout",
     "output_type": "stream",
     "text": [
      "1320\n",
      "1320\n"
     ]
    }
   ],
   "source": [
    "print(len(X_train_attract_w))\n",
    "print(len(y_train_attract))"
   ]
  },
  {
   "cell_type": "code",
   "execution_count": 361,
   "id": "8829f5f8",
   "metadata": {},
   "outputs": [],
   "source": [
    "# Label encode the y data to classes\n",
    "le = preprocessing.LabelEncoder()\n",
    "y_train_attract_labelled = le.fit_transform(y_train_attract)\n",
    "y_val_attract_labelled = le.transform(y_val_attract)\n",
    "y_test_attract_labelled = le.transform(y_test_attract)"
   ]
  },
  {
   "cell_type": "code",
   "execution_count": 362,
   "id": "86641c05",
   "metadata": {},
   "outputs": [
    {
     "data": {
      "text/plain": [
       "array([0, 6, 3, ..., 6, 6, 6])"
      ]
     },
     "execution_count": 362,
     "metadata": {},
     "output_type": "execute_result"
    }
   ],
   "source": [
    "# Creates samples in all minority classes to match the number in the majority class\n",
    "oversample = SMOTE()\n",
    "X_train_attract_over, y_train_attract_over = oversample.fit_resample(X_train_attract_w, y_train_attract_labelled)\n",
    "y_train_attract_over"
   ]
  },
  {
   "cell_type": "code",
   "execution_count": 363,
   "id": "6163f875",
   "metadata": {},
   "outputs": [
    {
     "name": "stdout",
     "output_type": "stream",
     "text": [
      "1680\n",
      "1680\n"
     ]
    }
   ],
   "source": [
    "# New lengths of training sets\n",
    "print(len(X_train_attract_over))\n",
    "print(len(y_train_attract_over))"
   ]
  },
  {
   "cell_type": "code",
   "execution_count": 364,
   "id": "7973e840",
   "metadata": {},
   "outputs": [
    {
     "data": {
      "text/plain": [
       "0    240\n",
       "1    240\n",
       "2    240\n",
       "3    240\n",
       "4    240\n",
       "5    240\n",
       "6    240\n",
       "dtype: int64"
      ]
     },
     "execution_count": 364,
     "metadata": {},
     "output_type": "execute_result"
    }
   ],
   "source": [
    "# Check class distribution\n",
    "pd.Series(y_train_attract_over).value_counts()"
   ]
  },
  {
   "cell_type": "code",
   "execution_count": 365,
   "id": "0073adb0",
   "metadata": {},
   "outputs": [],
   "source": [
    "# One-hot encoded the oversample y data\n",
    "y_train_e2, y_val_e2, y_test_e2 = bin(y_train_attract_over, y_val_attract_labelled, y_test_attract_labelled)"
   ]
  },
  {
   "cell_type": "code",
   "execution_count": 366,
   "id": "be71178c",
   "metadata": {},
   "outputs": [
    {
     "data": {
      "text/plain": [
       "1680"
      ]
     },
     "execution_count": 366,
     "metadata": {},
     "output_type": "execute_result"
    }
   ],
   "source": [
    "len(X_train_attract_over)"
   ]
  },
  {
   "cell_type": "code",
   "execution_count": 367,
   "id": "6f9e88a3",
   "metadata": {},
   "outputs": [
    {
     "name": "stdout",
     "output_type": "stream",
     "text": [
      "Epoch 1/50\n",
      "105/105 - 0s - loss: 0.5674 - accuracy: 0.8863 - val_loss: 0.5838 - val_accuracy: 0.8545\n",
      "Epoch 2/50\n",
      "105/105 - 0s - loss: 0.3135 - accuracy: 0.9214 - val_loss: 0.6621 - val_accuracy: 0.8424\n",
      "Epoch 3/50\n",
      "105/105 - 0s - loss: 0.2203 - accuracy: 0.9381 - val_loss: 0.7436 - val_accuracy: 0.8545\n",
      "Epoch 4/50\n",
      "105/105 - 0s - loss: 0.1744 - accuracy: 0.9524 - val_loss: 0.8218 - val_accuracy: 0.8364\n",
      "Epoch 5/50\n",
      "105/105 - 0s - loss: 0.1358 - accuracy: 0.9637 - val_loss: 0.8745 - val_accuracy: 0.8364\n",
      "Epoch 6/50\n",
      "105/105 - 0s - loss: 0.1210 - accuracy: 0.9667 - val_loss: 0.8027 - val_accuracy: 0.8182\n"
     ]
    }
   ],
   "source": [
    "# Model using keras embeddings using the previous model 4 but no class weights as the classes are balanced\n",
    "history5 = model4.fit(X_train_attract_over,y_train_e2,\n",
    "                    epochs=epochs,\n",
    "                    verbose=2,\n",
    "                    callbacks = callbacks,\n",
    "                    validation_data=(X_val_attract_w, y_val_e2),\n",
    "                    batch_size=batch_size\n",
    "                     )"
   ]
  },
  {
   "cell_type": "code",
   "execution_count": 368,
   "id": "86fbae45",
   "metadata": {},
   "outputs": [
    {
     "name": "stdout",
     "output_type": "stream",
     "text": [
      "53/53 [==============================] - 0s 452us/step - loss: 0.0915 - accuracy: 0.9738\n",
      "[0.09151766449213028, 0.973809540271759]\n",
      "6/6 [==============================] - 0s 665us/step - loss: 0.8027 - accuracy: 0.8182\n",
      "[0.802695095539093, 0.8181818127632141]\n"
     ]
    }
   ],
   "source": [
    "print(model4.evaluate(X_train_attract_over, y_train_e2))\n",
    "print(model4.evaluate(X_val_attract_w, y_val_e2))"
   ]
  },
  {
   "cell_type": "markdown",
   "id": "c3f47554",
   "metadata": {},
   "source": [
    "The model has not improved. SMOTE can not perform as well with text data, as it is oversampling on high-dimensional word embeddings and the resultant embeddings may not make much sense."
   ]
  },
  {
   "cell_type": "markdown",
   "id": "dd92436f",
   "metadata": {},
   "source": [
    "# Section 8: Data Augmentation"
   ]
  },
  {
   "cell_type": "code",
   "execution_count": 369,
   "id": "98266646",
   "metadata": {},
   "outputs": [
    {
     "data": {
      "text/plain": [
       "Amenities        300\n",
       "Nature           300\n",
       "Activities       300\n",
       "VisitExp&Gen     250\n",
       "Staff&Service    200\n",
       "Value            150\n",
       "History          150\n",
       "Name: Aspect, dtype: int64"
      ]
     },
     "execution_count": 369,
     "metadata": {},
     "output_type": "execute_result"
    }
   ],
   "source": [
    "# Look at value counts of classes in the attractions category\n",
    "pd.Series(y_attract.value_counts())"
   ]
  },
  {
   "cell_type": "code",
   "execution_count": 370,
   "id": "4f65e140",
   "metadata": {},
   "outputs": [
    {
     "data": {
      "text/html": [
       "<div>\n",
       "<style scoped>\n",
       "    .dataframe tbody tr th:only-of-type {\n",
       "        vertical-align: middle;\n",
       "    }\n",
       "\n",
       "    .dataframe tbody tr th {\n",
       "        vertical-align: top;\n",
       "    }\n",
       "\n",
       "    .dataframe thead th {\n",
       "        text-align: right;\n",
       "    }\n",
       "</style>\n",
       "<table border=\"1\" class=\"dataframe\">\n",
       "  <thead>\n",
       "    <tr style=\"text-align: right;\">\n",
       "      <th></th>\n",
       "      <th>Nouns</th>\n",
       "      <th>Aspect</th>\n",
       "    </tr>\n",
       "  </thead>\n",
       "  <tbody>\n",
       "    <tr>\n",
       "      <th>682</th>\n",
       "      <td>cup tea</td>\n",
       "      <td>Amenities</td>\n",
       "    </tr>\n",
       "    <tr>\n",
       "      <th>1045</th>\n",
       "      <td>staff member</td>\n",
       "      <td>Staff&amp;Service</td>\n",
       "    </tr>\n",
       "    <tr>\n",
       "      <th>684</th>\n",
       "      <td>wine good</td>\n",
       "      <td>Amenities</td>\n",
       "    </tr>\n",
       "    <tr>\n",
       "      <th>767</th>\n",
       "      <td>hand towel dispenser</td>\n",
       "      <td>Amenities</td>\n",
       "    </tr>\n",
       "    <tr>\n",
       "      <th>1330</th>\n",
       "      <td>auditorium</td>\n",
       "      <td>Activities</td>\n",
       "    </tr>\n",
       "  </tbody>\n",
       "</table>\n",
       "</div>"
      ],
      "text/plain": [
       "                     Nouns         Aspect\n",
       "682                cup tea      Amenities\n",
       "1045          staff member  Staff&Service\n",
       "684              wine good      Amenities\n",
       "767   hand towel dispenser      Amenities\n",
       "1330            auditorium     Activities"
      ]
     },
     "execution_count": 370,
     "metadata": {},
     "output_type": "execute_result"
    }
   ],
   "source": [
    "# Concat and shuffle the data\n",
    "attract_eda = pd.concat([X_attract,y_attract],axis = 1)\n",
    "attract_eda = attract_eda.sample(frac=1)\n",
    "attract_eda.head()"
   ]
  },
  {
   "cell_type": "code",
   "execution_count": 371,
   "id": "16da5f2a",
   "metadata": {},
   "outputs": [
    {
     "data": {
      "text/plain": [
       "(1650, 2)"
      ]
     },
     "execution_count": 371,
     "metadata": {},
     "output_type": "execute_result"
    }
   ],
   "source": [
    "attract_eda.shape"
   ]
  },
  {
   "cell_type": "code",
   "execution_count": 372,
   "id": "e47227d4",
   "metadata": {},
   "outputs": [
    {
     "data": {
      "text/plain": [
       "1     781\n",
       "2     497\n",
       "3     222\n",
       "4      89\n",
       "5      33\n",
       "6      17\n",
       "7       8\n",
       "8       1\n",
       "9       1\n",
       "10      1\n",
       "Name: Count, dtype: int64"
      ]
     },
     "execution_count": 372,
     "metadata": {},
     "output_type": "execute_result"
    }
   ],
   "source": [
    "# Get number of words in each row, split dataframes into those with more than 1 word and those with 1\n",
    "attract_eda[\"Count\"] = attract_eda[\"Nouns\"].apply(lambda x: len(x.split()))\n",
    "attract_eda[\"Count\"].value_counts()"
   ]
  },
  {
   "cell_type": "markdown",
   "id": "593fd8ff",
   "metadata": {},
   "source": [
    "Most lines with more than one word have two words, this will inform the augmentation process"
   ]
  },
  {
   "cell_type": "code",
   "execution_count": 373,
   "id": "4fcd8841",
   "metadata": {},
   "outputs": [
    {
     "data": {
      "text/plain": [
       "(1650, 3)"
      ]
     },
     "execution_count": 373,
     "metadata": {},
     "output_type": "execute_result"
    }
   ],
   "source": [
    "attract_eda.shape"
   ]
  },
  {
   "cell_type": "markdown",
   "id": "7f49d90c",
   "metadata": {},
   "source": [
    "## Random insertion"
   ]
  },
  {
   "cell_type": "code",
   "execution_count": 381,
   "id": "2a688812",
   "metadata": {},
   "outputs": [],
   "source": [
    "from textaugment import EDA\n",
    "t = EDA()"
   ]
  },
  {
   "cell_type": "code",
   "execution_count": 382,
   "id": "17b8ac4b",
   "metadata": {},
   "outputs": [
    {
     "data": {
      "text/plain": [
       "'room'"
      ]
     },
     "execution_count": 382,
     "metadata": {},
     "output_type": "execute_result"
    }
   ],
   "source": [
    "# Take sample\n",
    "test = attract_eda[\"Nouns\"].iloc[10]\n",
    "test"
   ]
  },
  {
   "cell_type": "code",
   "execution_count": 383,
   "id": "cd9be291",
   "metadata": {},
   "outputs": [
    {
     "data": {
      "text/plain": [
       "'way way room'"
      ]
     },
     "execution_count": 383,
     "metadata": {},
     "output_type": "execute_result"
    }
   ],
   "source": [
    "# Random insertion two words\n",
    "t.random_insertion(test, n = 2)"
   ]
  },
  {
   "cell_type": "code",
   "execution_count": 384,
   "id": "1974e4e7",
   "metadata": {},
   "outputs": [
    {
     "data": {
      "text/plain": [
       "(3300, 3)"
      ]
     },
     "execution_count": 384,
     "metadata": {},
     "output_type": "execute_result"
    }
   ],
   "source": [
    "insertion = pd.DataFrame(attract_eda[\"Nouns\"].apply(lambda x: t.random_insertion(x)))\n",
    "insertion = pd.concat([insertion,attract_eda.Aspect],axis = 1)\n",
    "insertion = insertion.append(attract_eda)\n",
    "insertion.shape"
   ]
  },
  {
   "cell_type": "markdown",
   "id": "37c2d11e",
   "metadata": {},
   "source": [
    "## Synonym replacement"
   ]
  },
  {
   "cell_type": "code",
   "execution_count": 385,
   "id": "c43cf5a8",
   "metadata": {},
   "outputs": [
    {
     "data": {
      "text/plain": [
       "'board'"
      ]
     },
     "execution_count": 385,
     "metadata": {},
     "output_type": "execute_result"
    }
   ],
   "source": [
    "# Run synonym replacement\n",
    "t.synonym_replacement(test,n = 1)"
   ]
  },
  {
   "cell_type": "code",
   "execution_count": 386,
   "id": "f3a2532b",
   "metadata": {},
   "outputs": [
    {
     "data": {
      "text/plain": [
       "(6600, 3)"
      ]
     },
     "execution_count": 386,
     "metadata": {},
     "output_type": "execute_result"
    }
   ],
   "source": [
    "# Apply to the whole dataframe and conat to original df\n",
    "replaced = pd.DataFrame(insertion[\"Nouns\"].apply(lambda x: t.synonym_replacement(x)))\n",
    "replaced = pd.concat([replaced,insertion.Aspect],axis = 1)\n",
    "replaced = replaced.append(insertion)\n",
    "replaced.shape"
   ]
  },
  {
   "cell_type": "markdown",
   "id": "a8f04af4",
   "metadata": {},
   "source": [
    "## Random swap"
   ]
  },
  {
   "cell_type": "markdown",
   "id": "0358a6c4",
   "metadata": {},
   "source": [
    "Swap out a specified number of words randomly"
   ]
  },
  {
   "cell_type": "code",
   "execution_count": 390,
   "id": "c9f13446",
   "metadata": {},
   "outputs": [
    {
     "data": {
      "text/plain": [
       "'hide'"
      ]
     },
     "execution_count": 390,
     "metadata": {},
     "output_type": "execute_result"
    }
   ],
   "source": [
    "# Take sample\n",
    "test = attract_eda[\"Nouns\"].iloc[8]\n",
    "test"
   ]
  },
  {
   "cell_type": "code",
   "execution_count": 391,
   "id": "d9a54a6c",
   "metadata": {},
   "outputs": [
    {
     "data": {
      "text/plain": [
       "'hide'"
      ]
     },
     "execution_count": 391,
     "metadata": {},
     "output_type": "execute_result"
    }
   ],
   "source": [
    "t.random_swap(test, n = 1)"
   ]
  },
  {
   "cell_type": "code",
   "execution_count": 392,
   "id": "4f00f8d5",
   "metadata": {},
   "outputs": [
    {
     "data": {
      "text/plain": [
       "(13200, 3)"
      ]
     },
     "execution_count": 392,
     "metadata": {},
     "output_type": "execute_result"
    }
   ],
   "source": [
    "swapped = pd.DataFrame(replaced[\"Nouns\"].apply(lambda x: t.random_swap(x,n  = 1)))\n",
    "swapped = pd.concat([swapped,replaced.Aspect],axis = 1)\n",
    "swapped = swapped.append(replaced)\n",
    "swapped.shape"
   ]
  },
  {
   "cell_type": "code",
   "execution_count": 393,
   "id": "415e0ef4",
   "metadata": {},
   "outputs": [
    {
     "data": {
      "text/html": [
       "<div>\n",
       "<style scoped>\n",
       "    .dataframe tbody tr th:only-of-type {\n",
       "        vertical-align: middle;\n",
       "    }\n",
       "\n",
       "    .dataframe tbody tr th {\n",
       "        vertical-align: top;\n",
       "    }\n",
       "\n",
       "    .dataframe thead th {\n",
       "        text-align: right;\n",
       "    }\n",
       "</style>\n",
       "<table border=\"1\" class=\"dataframe\">\n",
       "  <thead>\n",
       "    <tr style=\"text-align: right;\">\n",
       "      <th></th>\n",
       "      <th>Nouns</th>\n",
       "      <th>Aspect</th>\n",
       "      <th>Count</th>\n",
       "    </tr>\n",
       "  </thead>\n",
       "  <tbody>\n",
       "    <tr>\n",
       "      <th>682</th>\n",
       "      <td>cup afternoon tea tea</td>\n",
       "      <td>Amenities</td>\n",
       "      <td>NaN</td>\n",
       "    </tr>\n",
       "    <tr>\n",
       "      <th>1045</th>\n",
       "      <td>staff member phallus</td>\n",
       "      <td>Staff&amp;Service</td>\n",
       "      <td>NaN</td>\n",
       "    </tr>\n",
       "    <tr>\n",
       "      <th>684</th>\n",
       "      <td>undecomposed wine vino</td>\n",
       "      <td>Amenities</td>\n",
       "      <td>NaN</td>\n",
       "    </tr>\n",
       "    <tr>\n",
       "      <th>767</th>\n",
       "      <td>hand mitt baseball towel dispenser</td>\n",
       "      <td>Amenities</td>\n",
       "      <td>NaN</td>\n",
       "    </tr>\n",
       "    <tr>\n",
       "      <th>1330</th>\n",
       "      <td>auditorium</td>\n",
       "      <td>Activities</td>\n",
       "      <td>NaN</td>\n",
       "    </tr>\n",
       "  </tbody>\n",
       "</table>\n",
       "</div>"
      ],
      "text/plain": [
       "                                   Nouns         Aspect  Count\n",
       "682                cup afternoon tea tea      Amenities    NaN\n",
       "1045                staff member phallus  Staff&Service    NaN\n",
       "684               undecomposed wine vino      Amenities    NaN\n",
       "767   hand mitt baseball towel dispenser      Amenities    NaN\n",
       "1330                          auditorium     Activities    NaN"
      ]
     },
     "execution_count": 393,
     "metadata": {},
     "output_type": "execute_result"
    }
   ],
   "source": [
    "swapped.head()"
   ]
  },
  {
   "cell_type": "markdown",
   "id": "346e7760",
   "metadata": {},
   "source": [
    "## Random deletion"
   ]
  },
  {
   "cell_type": "markdown",
   "id": "c27274a2",
   "metadata": {},
   "source": [
    "Randomly delete words with a certain probability"
   ]
  },
  {
   "cell_type": "code",
   "execution_count": 399,
   "id": "43fedae4",
   "metadata": {},
   "outputs": [
    {
     "data": {
      "text/plain": [
       "'hide'"
      ]
     },
     "execution_count": 399,
     "metadata": {},
     "output_type": "execute_result"
    }
   ],
   "source": [
    "# Take sample\n",
    "test = attract_eda[\"Nouns\"].iloc[8]\n",
    "test"
   ]
  },
  {
   "cell_type": "code",
   "execution_count": 400,
   "id": "8d9ccb42",
   "metadata": {},
   "outputs": [
    {
     "data": {
      "text/plain": [
       "['hide']"
      ]
     },
     "execution_count": 400,
     "metadata": {},
     "output_type": "execute_result"
    }
   ],
   "source": [
    "# Delete a random word in the sentence with a probability of 0.2 \n",
    "t.random_deletion(test, p=0.2)"
   ]
  },
  {
   "cell_type": "code",
   "execution_count": 401,
   "id": "b96f2aa3",
   "metadata": {},
   "outputs": [],
   "source": [
    "swapped[\"Count\"] = swapped[\"Nouns\"].apply(lambda x: len(x.split()))\n",
    "equal_one = swapped[swapped[\"Count\"]==1].reset_index()\n",
    "more_one = swapped[swapped[\"Count\"]>1].reset_index()"
   ]
  },
  {
   "cell_type": "code",
   "execution_count": 402,
   "id": "07119e22",
   "metadata": {},
   "outputs": [
    {
     "name": "stdout",
     "output_type": "stream",
     "text": [
      "(3180, 4) (10020, 4)\n"
     ]
    }
   ],
   "source": [
    "print(equal_one.shape, more_one.shape)"
   ]
  },
  {
   "cell_type": "code",
   "execution_count": 403,
   "id": "c4981c0d",
   "metadata": {},
   "outputs": [
    {
     "data": {
      "text/html": [
       "<div>\n",
       "<style scoped>\n",
       "    .dataframe tbody tr th:only-of-type {\n",
       "        vertical-align: middle;\n",
       "    }\n",
       "\n",
       "    .dataframe tbody tr th {\n",
       "        vertical-align: top;\n",
       "    }\n",
       "\n",
       "    .dataframe thead th {\n",
       "        text-align: right;\n",
       "    }\n",
       "</style>\n",
       "<table border=\"1\" class=\"dataframe\">\n",
       "  <thead>\n",
       "    <tr style=\"text-align: right;\">\n",
       "      <th></th>\n",
       "      <th>index</th>\n",
       "      <th>Nouns</th>\n",
       "      <th>Aspect</th>\n",
       "      <th>Count</th>\n",
       "    </tr>\n",
       "  </thead>\n",
       "  <tbody>\n",
       "    <tr>\n",
       "      <th>0</th>\n",
       "      <td>682</td>\n",
       "      <td>cup afternoon tea tea</td>\n",
       "      <td>Amenities</td>\n",
       "      <td>4</td>\n",
       "    </tr>\n",
       "    <tr>\n",
       "      <th>1</th>\n",
       "      <td>1045</td>\n",
       "      <td>staff member phallus</td>\n",
       "      <td>Staff&amp;Service</td>\n",
       "      <td>3</td>\n",
       "    </tr>\n",
       "    <tr>\n",
       "      <th>2</th>\n",
       "      <td>684</td>\n",
       "      <td>undecomposed wine vino</td>\n",
       "      <td>Amenities</td>\n",
       "      <td>3</td>\n",
       "    </tr>\n",
       "    <tr>\n",
       "      <th>3</th>\n",
       "      <td>767</td>\n",
       "      <td>hand mitt baseball towel dispenser</td>\n",
       "      <td>Amenities</td>\n",
       "      <td>5</td>\n",
       "    </tr>\n",
       "    <tr>\n",
       "      <th>4</th>\n",
       "      <td>253</td>\n",
       "      <td>reenactment fun reenactment</td>\n",
       "      <td>History</td>\n",
       "      <td>3</td>\n",
       "    </tr>\n",
       "  </tbody>\n",
       "</table>\n",
       "</div>"
      ],
      "text/plain": [
       "   index                               Nouns         Aspect  Count\n",
       "0    682               cup afternoon tea tea      Amenities      4\n",
       "1   1045                staff member phallus  Staff&Service      3\n",
       "2    684              undecomposed wine vino      Amenities      3\n",
       "3    767  hand mitt baseball towel dispenser      Amenities      5\n",
       "4    253         reenactment fun reenactment        History      3"
      ]
     },
     "execution_count": 403,
     "metadata": {},
     "output_type": "execute_result"
    }
   ],
   "source": [
    "more_one.head()"
   ]
  },
  {
   "cell_type": "code",
   "execution_count": 404,
   "id": "da58fdd4",
   "metadata": {},
   "outputs": [
    {
     "data": {
      "text/html": [
       "<div>\n",
       "<style scoped>\n",
       "    .dataframe tbody tr th:only-of-type {\n",
       "        vertical-align: middle;\n",
       "    }\n",
       "\n",
       "    .dataframe tbody tr th {\n",
       "        vertical-align: top;\n",
       "    }\n",
       "\n",
       "    .dataframe thead th {\n",
       "        text-align: right;\n",
       "    }\n",
       "</style>\n",
       "<table border=\"1\" class=\"dataframe\">\n",
       "  <thead>\n",
       "    <tr style=\"text-align: right;\">\n",
       "      <th></th>\n",
       "      <th>Nouns</th>\n",
       "      <th>Aspect</th>\n",
       "    </tr>\n",
       "  </thead>\n",
       "  <tbody>\n",
       "    <tr>\n",
       "      <th>0</th>\n",
       "      <td>cup afternoon tea</td>\n",
       "      <td>Amenities</td>\n",
       "    </tr>\n",
       "    <tr>\n",
       "      <th>1</th>\n",
       "      <td>staff member phallus</td>\n",
       "      <td>Staff&amp;Service</td>\n",
       "    </tr>\n",
       "    <tr>\n",
       "      <th>2</th>\n",
       "      <td>undecomposed wine</td>\n",
       "      <td>Amenities</td>\n",
       "    </tr>\n",
       "    <tr>\n",
       "      <th>3</th>\n",
       "      <td>hand mitt baseball towel dispenser</td>\n",
       "      <td>Amenities</td>\n",
       "    </tr>\n",
       "    <tr>\n",
       "      <th>4</th>\n",
       "      <td>reenactment</td>\n",
       "      <td>History</td>\n",
       "    </tr>\n",
       "  </tbody>\n",
       "</table>\n",
       "</div>"
      ],
      "text/plain": [
       "                                Nouns         Aspect\n",
       "0                   cup afternoon tea      Amenities\n",
       "1                staff member phallus  Staff&Service\n",
       "2                   undecomposed wine      Amenities\n",
       "3  hand mitt baseball towel dispenser      Amenities\n",
       "4                         reenactment        History"
      ]
     },
     "execution_count": 404,
     "metadata": {},
     "output_type": "execute_result"
    }
   ],
   "source": [
    "# Apply to the dataset with at least one word so we are not left with empty rows\n",
    "deleted = pd.DataFrame(more_one[\"Nouns\"].apply(lambda x: t.random_deletion(x,p = 0.2)))\n",
    "deleted = pd.concat([deleted,more_one.Aspect],axis = 1,ignore_index=True)\n",
    "deleted.columns = [\"Nouns\",\"Aspect\"]\n",
    "deleted.head()"
   ]
  },
  {
   "cell_type": "code",
   "execution_count": 405,
   "id": "28abf454",
   "metadata": {},
   "outputs": [
    {
     "data": {
      "text/plain": [
       "(10020, 2)"
      ]
     },
     "execution_count": 405,
     "metadata": {},
     "output_type": "execute_result"
    }
   ],
   "source": [
    "deleted.shape"
   ]
  },
  {
   "cell_type": "code",
   "execution_count": 406,
   "id": "a7defd47",
   "metadata": {},
   "outputs": [
    {
     "data": {
      "text/html": [
       "<div>\n",
       "<style scoped>\n",
       "    .dataframe tbody tr th:only-of-type {\n",
       "        vertical-align: middle;\n",
       "    }\n",
       "\n",
       "    .dataframe tbody tr th {\n",
       "        vertical-align: top;\n",
       "    }\n",
       "\n",
       "    .dataframe thead th {\n",
       "        text-align: right;\n",
       "    }\n",
       "</style>\n",
       "<table border=\"1\" class=\"dataframe\">\n",
       "  <thead>\n",
       "    <tr style=\"text-align: right;\">\n",
       "      <th></th>\n",
       "      <th>index</th>\n",
       "      <th>Nouns</th>\n",
       "      <th>Aspect</th>\n",
       "      <th>Count</th>\n",
       "    </tr>\n",
       "  </thead>\n",
       "  <tbody>\n",
       "    <tr>\n",
       "      <th>0</th>\n",
       "      <td>1330</td>\n",
       "      <td>auditorium</td>\n",
       "      <td>Activities</td>\n",
       "      <td>1</td>\n",
       "    </tr>\n",
       "    <tr>\n",
       "      <th>1</th>\n",
       "      <td>332</td>\n",
       "      <td>museum</td>\n",
       "      <td>History</td>\n",
       "      <td>1</td>\n",
       "    </tr>\n",
       "    <tr>\n",
       "      <th>2</th>\n",
       "      <td>1216</td>\n",
       "      <td>money</td>\n",
       "      <td>Value</td>\n",
       "      <td>1</td>\n",
       "    </tr>\n",
       "    <tr>\n",
       "      <th>3</th>\n",
       "      <td>438</td>\n",
       "      <td>garden</td>\n",
       "      <td>Nature</td>\n",
       "      <td>1</td>\n",
       "    </tr>\n",
       "    <tr>\n",
       "      <th>4</th>\n",
       "      <td>1178</td>\n",
       "      <td>helpful</td>\n",
       "      <td>Staff&amp;Service</td>\n",
       "      <td>1</td>\n",
       "    </tr>\n",
       "  </tbody>\n",
       "</table>\n",
       "</div>"
      ],
      "text/plain": [
       "   index       Nouns         Aspect  Count\n",
       "0   1330  auditorium     Activities      1\n",
       "1    332      museum        History      1\n",
       "2   1216       money          Value      1\n",
       "3    438      garden         Nature      1\n",
       "4   1178     helpful  Staff&Service      1"
      ]
     },
     "execution_count": 406,
     "metadata": {},
     "output_type": "execute_result"
    }
   ],
   "source": [
    "equal_one.head()"
   ]
  },
  {
   "cell_type": "code",
   "execution_count": 407,
   "id": "d4ec3bfe",
   "metadata": {},
   "outputs": [],
   "source": [
    "equal_one.drop(columns = \"Count\",axis = 1, inplace = True)\n",
    "equal_one = equal_one.set_index(\"index\")"
   ]
  },
  {
   "cell_type": "code",
   "execution_count": 408,
   "id": "a7c6693c",
   "metadata": {},
   "outputs": [
    {
     "data": {
      "text/plain": [
       "(13200, 2)"
      ]
     },
     "execution_count": 408,
     "metadata": {},
     "output_type": "execute_result"
    }
   ],
   "source": [
    "deleted = deleted.append(equal_one)\n",
    "deleted.shape"
   ]
  },
  {
   "cell_type": "code",
   "execution_count": 409,
   "id": "dc3dfe0a",
   "metadata": {},
   "outputs": [
    {
     "data": {
      "text/plain": [
       "Nature           2400\n",
       "Amenities        2400\n",
       "Activities       2400\n",
       "VisitExp&Gen     2000\n",
       "Staff&Service    1600\n",
       "History          1200\n",
       "Value            1200\n",
       "Name: Aspect, dtype: int64"
      ]
     },
     "execution_count": 409,
     "metadata": {},
     "output_type": "execute_result"
    }
   ],
   "source": [
    "deleted.Aspect.value_counts()"
   ]
  },
  {
   "cell_type": "code",
   "execution_count": 410,
   "id": "452c50b5",
   "metadata": {},
   "outputs": [
    {
     "data": {
      "text/html": [
       "<div>\n",
       "<style scoped>\n",
       "    .dataframe tbody tr th:only-of-type {\n",
       "        vertical-align: middle;\n",
       "    }\n",
       "\n",
       "    .dataframe tbody tr th {\n",
       "        vertical-align: top;\n",
       "    }\n",
       "\n",
       "    .dataframe thead th {\n",
       "        text-align: right;\n",
       "    }\n",
       "</style>\n",
       "<table border=\"1\" class=\"dataframe\">\n",
       "  <thead>\n",
       "    <tr style=\"text-align: right;\">\n",
       "      <th></th>\n",
       "      <th>Nouns</th>\n",
       "      <th>Aspect</th>\n",
       "    </tr>\n",
       "  </thead>\n",
       "  <tbody>\n",
       "    <tr>\n",
       "      <th>0</th>\n",
       "      <td>cup afternoon tea</td>\n",
       "      <td>Amenities</td>\n",
       "    </tr>\n",
       "    <tr>\n",
       "      <th>1</th>\n",
       "      <td>staff member phallus</td>\n",
       "      <td>Staff&amp;Service</td>\n",
       "    </tr>\n",
       "    <tr>\n",
       "      <th>2</th>\n",
       "      <td>undecomposed wine</td>\n",
       "      <td>Amenities</td>\n",
       "    </tr>\n",
       "    <tr>\n",
       "      <th>3</th>\n",
       "      <td>hand mitt baseball towel dispenser</td>\n",
       "      <td>Amenities</td>\n",
       "    </tr>\n",
       "    <tr>\n",
       "      <th>4</th>\n",
       "      <td>reenactment</td>\n",
       "      <td>History</td>\n",
       "    </tr>\n",
       "  </tbody>\n",
       "</table>\n",
       "</div>"
      ],
      "text/plain": [
       "                                Nouns         Aspect\n",
       "0                   cup afternoon tea      Amenities\n",
       "1                staff member phallus  Staff&Service\n",
       "2                   undecomposed wine      Amenities\n",
       "3  hand mitt baseball towel dispenser      Amenities\n",
       "4                         reenactment        History"
      ]
     },
     "execution_count": 410,
     "metadata": {},
     "output_type": "execute_result"
    }
   ],
   "source": [
    "deleted.head()"
   ]
  },
  {
   "cell_type": "markdown",
   "id": "ac5214ad",
   "metadata": {},
   "source": [
    "# Section 6: Use augmented data in model"
   ]
  },
  {
   "cell_type": "markdown",
   "id": "3cb58c39",
   "metadata": {},
   "source": [
    "Data has to be encoded manually as the encoder applies different encoding depending on the order of the aspects. The validation set needs to be kept as it is untouched and the aspects in the new data coded the same way in order to assess the output of the model properly."
   ]
  },
  {
   "cell_type": "code",
   "execution_count": 411,
   "id": "f113dff0",
   "metadata": {},
   "outputs": [],
   "source": [
    "# Train, test split then encode X and y values as before\n",
    "def tts(df):\n",
    "    X,y = XY(df)\n",
    "    X_train,X_val,X_test,y_train,y_val,y_test = train_test(X,y)\n",
    "    y_train_e, y_val_e, y_test_e = bin(y_train, y_val, y_test)\n",
    "    X_train_w, X_val_w, X_test_w = tok(X_train, X_val, X_test)\n",
    "    return y_train_e, y_val_e, y_test_e, X_train_w, X_val_w, X_test_w"
   ]
  },
  {
   "cell_type": "code",
   "execution_count": 412,
   "id": "78caf6b3",
   "metadata": {},
   "outputs": [],
   "source": [
    "y_train_attract_e, y_val_attract_e, y_test_attract_e, X_train_attract_w, X_val_attract_w, X_test_attract_w = tts(deleted)"
   ]
  },
  {
   "cell_type": "code",
   "execution_count": 413,
   "id": "e63be69b",
   "metadata": {},
   "outputs": [
    {
     "name": "stdout",
     "output_type": "stream",
     "text": [
      "(10560, 15) (1320, 15) (1320, 15)\n",
      "(10560, 7) (1320, 7) (1320, 7)\n"
     ]
    }
   ],
   "source": [
    "print(X_train_attract_w.shape, X_val_attract_w.shape,X_test_attract_w.shape)\n",
    "print(y_train_attract_e.shape, y_val_attract_e.shape, y_test_attract_e.shape)"
   ]
  },
  {
   "cell_type": "code",
   "execution_count": 414,
   "id": "c82cbef6",
   "metadata": {},
   "outputs": [
    {
     "data": {
      "text/plain": [
       "array([0.78571429, 0.78571429, 1.57142857, 0.78571429, 1.17857143,\n",
       "       1.57142857, 0.94285714])"
      ]
     },
     "execution_count": 414,
     "metadata": {},
     "output_type": "execute_result"
    }
   ],
   "source": [
    "cw_attract = weight(y_attract)\n",
    "cw_attract"
   ]
  },
  {
   "cell_type": "code",
   "execution_count": 415,
   "id": "ad5907ef",
   "metadata": {},
   "outputs": [
    {
     "name": "stdout",
     "output_type": "stream",
     "text": [
      "Model: \"sequential_11\"\n",
      "_________________________________________________________________\n",
      "Layer (type)                 Output Shape              Param #   \n",
      "=================================================================\n",
      "embedding_11 (Embedding)     (None, 15, 16)            96000     \n",
      "_________________________________________________________________\n",
      "flatten_11 (Flatten)         (None, 240)               0         \n",
      "_________________________________________________________________\n",
      "dense_44 (Dense)             (None, 512)               123392    \n",
      "_________________________________________________________________\n",
      "dense_45 (Dense)             (None, 256)               131328    \n",
      "_________________________________________________________________\n",
      "dense_46 (Dense)             (None, 128)               32896     \n",
      "_________________________________________________________________\n",
      "dense_47 (Dense)             (None, 7)                 903       \n",
      "=================================================================\n",
      "Total params: 384,519\n",
      "Trainable params: 384,519\n",
      "Non-trainable params: 0\n",
      "_________________________________________________________________\n",
      "None\n"
     ]
    }
   ],
   "source": [
    "# Define model \n",
    "\n",
    "input_dim = 6000\n",
    "output_dim = 16\n",
    "input_length = 15\n",
    "batch_size = 16\n",
    "epochs = 50\n",
    "class_weights = {0:cw_attract[0],1:cw_attract[1],2:cw_attract[2],3:cw_attract[3],4:cw_attract[4],5:cw_attract[5],6:cw_attract[6]}\n",
    "\n",
    "model6 = Sequential()\n",
    "model6.add(Embedding(input_dim = input_dim, output_dim = output_dim, input_length=input_length))\n",
    "model6.add(Flatten())\n",
    "model6.add(Dense(512, activation='relu', input_shape=(1600,)))\n",
    "model6.add(Dense(256,activation = 'relu'))\n",
    "model6.add(Dense(128,activation = 'relu'))\n",
    "model6.add(Dense(7, activation='softmax'))\n",
    "\n",
    "model6.compile(optimizer='adam', loss='categorical_crossentropy', metrics=['accuracy'])\n",
    "print(model6.summary())"
   ]
  },
  {
   "cell_type": "code",
   "execution_count": 416,
   "id": "c12fc9b8",
   "metadata": {},
   "outputs": [],
   "source": [
    "output_dir = out('model_output/AttractAspectModels')\n",
    "callbacks = call(output_dir,5)"
   ]
  },
  {
   "cell_type": "code",
   "execution_count": 417,
   "id": "a8573e8b",
   "metadata": {},
   "outputs": [
    {
     "name": "stdout",
     "output_type": "stream",
     "text": [
      "Epoch 1/50\n",
      "660/660 - 1s - loss: 0.9204 - accuracy: 0.6599 - val_loss: 0.4279 - val_accuracy: 0.8871\n",
      "Epoch 2/50\n",
      "660/660 - 1s - loss: 0.2660 - accuracy: 0.9226 - val_loss: 0.2851 - val_accuracy: 0.9144\n",
      "Epoch 3/50\n",
      "660/660 - 1s - loss: 0.1637 - accuracy: 0.9543 - val_loss: 0.2765 - val_accuracy: 0.9258\n",
      "Epoch 4/50\n",
      "660/660 - 1s - loss: 0.1296 - accuracy: 0.9623 - val_loss: 0.2694 - val_accuracy: 0.9250\n",
      "Epoch 5/50\n",
      "660/660 - 1s - loss: 0.1147 - accuracy: 0.9651 - val_loss: 0.2529 - val_accuracy: 0.9379\n",
      "Epoch 6/50\n",
      "660/660 - 1s - loss: 0.1041 - accuracy: 0.9698 - val_loss: 0.3123 - val_accuracy: 0.9189\n",
      "Epoch 7/50\n",
      "660/660 - 1s - loss: 0.1012 - accuracy: 0.9684 - val_loss: 0.2576 - val_accuracy: 0.9288\n",
      "Epoch 8/50\n",
      "660/660 - 1s - loss: 0.0899 - accuracy: 0.9709 - val_loss: 0.3120 - val_accuracy: 0.9205\n",
      "Epoch 9/50\n",
      "660/660 - 1s - loss: 0.0856 - accuracy: 0.9717 - val_loss: 0.3001 - val_accuracy: 0.9220\n",
      "Epoch 10/50\n",
      "660/660 - 1s - loss: 0.0796 - accuracy: 0.9744 - val_loss: 0.3198 - val_accuracy: 0.9288\n"
     ]
    }
   ],
   "source": [
    "# Model using keras embeddings using the previous model 4 but no class weights as the classes are balanced\n",
    "history6 = model6.fit(X_train_attract_w,y_train_attract_e,\n",
    "                    epochs=epochs,\n",
    "                    verbose=2,\n",
    "                    callbacks = callbacks,\n",
    "                    validation_data=(X_val_attract_w, y_val_attract_e),\n",
    "                    batch_size=batch_size,\n",
    "                      class_weight = class_weights\n",
    "                     )"
   ]
  },
  {
   "cell_type": "code",
   "execution_count": 418,
   "id": "a1d24a6a",
   "metadata": {},
   "outputs": [
    {
     "name": "stdout",
     "output_type": "stream",
     "text": [
      "330/330 [==============================] - 0s 639us/step - loss: 0.0632 - accuracy: 0.9787\n",
      "[0.06323931366205215, 0.9786931872367859]\n",
      "42/42 [==============================] - 0s 427us/step - loss: 0.3198 - accuracy: 0.9288\n",
      "[0.31977149844169617, 0.928787887096405]\n"
     ]
    }
   ],
   "source": [
    "print(model6.evaluate(X_train_attract_w, y_train_attract_e))\n",
    "print(model6.evaluate(X_val_attract_w, y_val_attract_e))"
   ]
  },
  {
   "cell_type": "code",
   "execution_count": 423,
   "id": "258ec71a",
   "metadata": {},
   "outputs": [],
   "source": [
    "# Load model weights from epoch with best validation accuracy\n",
    "model6.load_weights(output_dir+\"/weights.05.hdf5\")"
   ]
  },
  {
   "cell_type": "code",
   "execution_count": 424,
   "id": "ea99ae33",
   "metadata": {},
   "outputs": [
    {
     "data": {
      "image/png": "[encoded data removed]",
      "text/plain": [
       "<Figure size 864x360 with 2 Axes>"
      ]
     },
     "metadata": {},
     "output_type": "display_data"
    }
   ],
   "source": [
    "plot_history(history6)"
   ]
  },
  {
   "cell_type": "code",
   "execution_count": 425,
   "id": "3a64e090",
   "metadata": {},
   "outputs": [],
   "source": [
    "# Get predicted y values and predicted classes and convert original labels to integers\n",
    "y_pred_prob5 = model6.predict(X_val_attract_w)\n",
    "y_pred_class5 = np.argmax(model6.predict(X_val_attract_w), axis=-1)\n",
    "y_val_attract_integer = np.argmax(y_val_attract_e, axis=1)"
   ]
  },
  {
   "cell_type": "code",
   "execution_count": 426,
   "id": "59355a3e",
   "metadata": {},
   "outputs": [
    {
     "name": "stdout",
     "output_type": "stream",
     "text": [
      "              precision    recall  f1-score   support\n",
      "\n",
      "           0       0.95      0.94      0.94       240\n",
      "           1       0.94      0.93      0.94       240\n",
      "           2       0.96      0.89      0.93       120\n",
      "           3       0.93      0.95      0.94       240\n",
      "           4       0.95      0.99      0.97       160\n",
      "           5       0.96      0.95      0.95       120\n",
      "           6       0.90      0.91      0.90       200\n",
      "\n",
      "    accuracy                           0.94      1320\n",
      "   macro avg       0.94      0.94      0.94      1320\n",
      "weighted avg       0.94      0.94      0.94      1320\n",
      "\n"
     ]
    },
    {
     "data": {
      "image/png": "[encoded data removed]",
      "text/plain": [
       "<Figure size 576x432 with 2 Axes>"
      ]
     },
     "metadata": {},
     "output_type": "display_data"
    }
   ],
   "source": [
    "class_conf(y_val_attract_integer,y_pred_class5)"
   ]
  },
  {
   "cell_type": "code",
   "execution_count": 427,
   "id": "fb6685e3",
   "metadata": {},
   "outputs": [
    {
     "data": {
      "text/html": [
       "<div>\n",
       "<style scoped>\n",
       "    .dataframe tbody tr th:only-of-type {\n",
       "        vertical-align: middle;\n",
       "    }\n",
       "\n",
       "    .dataframe tbody tr th {\n",
       "        vertical-align: top;\n",
       "    }\n",
       "\n",
       "    .dataframe thead th {\n",
       "        text-align: right;\n",
       "    }\n",
       "</style>\n",
       "<table border=\"1\" class=\"dataframe\">\n",
       "  <thead>\n",
       "    <tr style=\"text-align: right;\">\n",
       "      <th></th>\n",
       "      <th>Actual Class</th>\n",
       "      <th>Actual Aspect</th>\n",
       "      <th>Predicted Class</th>\n",
       "    </tr>\n",
       "  </thead>\n",
       "  <tbody>\n",
       "    <tr>\n",
       "      <th>0</th>\n",
       "      <td>4</td>\n",
       "      <td>History</td>\n",
       "      <td>4</td>\n",
       "    </tr>\n",
       "    <tr>\n",
       "      <th>1</th>\n",
       "      <td>4</td>\n",
       "      <td>Value</td>\n",
       "      <td>4</td>\n",
       "    </tr>\n",
       "    <tr>\n",
       "      <th>2</th>\n",
       "      <td>3</td>\n",
       "      <td>Activities</td>\n",
       "      <td>3</td>\n",
       "    </tr>\n",
       "    <tr>\n",
       "      <th>3</th>\n",
       "      <td>0</td>\n",
       "      <td>History</td>\n",
       "      <td>0</td>\n",
       "    </tr>\n",
       "    <tr>\n",
       "      <th>4</th>\n",
       "      <td>6</td>\n",
       "      <td>Nature</td>\n",
       "      <td>6</td>\n",
       "    </tr>\n",
       "    <tr>\n",
       "      <th>5</th>\n",
       "      <td>3</td>\n",
       "      <td>VisitExp&amp;Gen</td>\n",
       "      <td>6</td>\n",
       "    </tr>\n",
       "    <tr>\n",
       "      <th>6</th>\n",
       "      <td>0</td>\n",
       "      <td>Value</td>\n",
       "      <td>0</td>\n",
       "    </tr>\n",
       "    <tr>\n",
       "      <th>7</th>\n",
       "      <td>4</td>\n",
       "      <td>Nature</td>\n",
       "      <td>4</td>\n",
       "    </tr>\n",
       "    <tr>\n",
       "      <th>8</th>\n",
       "      <td>3</td>\n",
       "      <td>Nature</td>\n",
       "      <td>3</td>\n",
       "    </tr>\n",
       "    <tr>\n",
       "      <th>9</th>\n",
       "      <td>3</td>\n",
       "      <td>VisitExp&amp;Gen</td>\n",
       "      <td>3</td>\n",
       "    </tr>\n",
       "  </tbody>\n",
       "</table>\n",
       "</div>"
      ],
      "text/plain": [
       "   Actual Class Actual Aspect  Predicted Class\n",
       "0             4       History                4\n",
       "1             4         Value                4\n",
       "2             3    Activities                3\n",
       "3             0       History                0\n",
       "4             6        Nature                6\n",
       "5             3  VisitExp&Gen                6\n",
       "6             0         Value                0\n",
       "7             4        Nature                4\n",
       "8             3        Nature                3\n",
       "9             3  VisitExp&Gen                3"
      ]
     },
     "execution_count": 427,
     "metadata": {},
     "output_type": "execute_result"
    }
   ],
   "source": [
    "# Create dataframe with y pred probabilities, classes and y actual\n",
    "attract_pred = pd.DataFrame(list(zip(y_val_attract_integer, y_val_attract,y_pred_class5)), columns=[\"Actual Class\",\"Actual Aspect\", \"Predicted Class\"])\n",
    "attract_pred.head(10)"
   ]
  },
  {
   "cell_type": "code",
   "execution_count": 430,
   "id": "4b996f50",
   "metadata": {},
   "outputs": [
    {
     "data": {
      "text/plain": [
       "(8, 3)"
      ]
     },
     "execution_count": 430,
     "metadata": {},
     "output_type": "execute_result"
    }
   ],
   "source": [
    "# Items not classified correctly\n",
    "attract_pred[attract_pred[\"Actual Class\"]!= attract_pred[\"Predicted Class\"]].shape"
   ]
  },
  {
   "cell_type": "code",
   "execution_count": 431,
   "id": "60454a6c",
   "metadata": {},
   "outputs": [
    {
     "data": {
      "text/plain": [
       "(165, 3)"
      ]
     },
     "execution_count": 431,
     "metadata": {},
     "output_type": "execute_result"
    }
   ],
   "source": [
    "attract_pred.shape"
   ]
  },
  {
   "cell_type": "markdown",
   "id": "5562e483",
   "metadata": {},
   "source": [
    "Comment:\n",
    "\n",
    "* The data augmentation increased the results for the attractions model . \n",
    "* The spread of different words in the attractions model is likely contributing to the problems. There are so many different words being used in comparison to the 'food' model for example. More data helps the model classify better to a point.\n",
    "* The same augmentation was applied to the accommodation category to see if this model could be improved with more data."
   ]
  },
  {
   "cell_type": "markdown",
   "id": "7c1e5727",
   "metadata": {},
   "source": [
    "# Section 8: Applying data augmentation to accommodation and food models"
   ]
  },
  {
   "cell_type": "markdown",
   "id": "236ac06c",
   "metadata": {},
   "source": [
    "## Accommodation model"
   ]
  },
  {
   "cell_type": "code",
   "execution_count": 432,
   "id": "0cdb0e61",
   "metadata": {},
   "outputs": [
    {
     "data": {
      "text/plain": [
       "Food             350\n",
       "Entertainment    350\n",
       "Room             350\n",
       "Hotel            350\n",
       "Staff            350\n",
       "Value            250\n",
       "Location         220\n",
       "Name: Aspect, dtype: int64"
      ]
     },
     "execution_count": 432,
     "metadata": {},
     "output_type": "execute_result"
    }
   ],
   "source": [
    "# Look at value counts of classes in the attractions category\n",
    "pd.Series(y_accom.value_counts())"
   ]
  },
  {
   "cell_type": "code",
   "execution_count": 433,
   "id": "61ccb67f",
   "metadata": {},
   "outputs": [],
   "source": [
    "def aug(X,y):\n",
    "    # Concat and shuffle the data\n",
    "    df_eda = pd.concat([X,y],axis = 1)\n",
    "    df_eda = df_eda.sample(frac=1)\n",
    "    \n",
    "    # Random insertion\n",
    "    df_insertion = pd.DataFrame(df_eda[\"Nouns\"].apply(lambda x: t.random_insertion(x)))\n",
    "    df_insertion = pd.concat([df_insertion,df_eda.Aspect],axis = 1)\n",
    "    df_insertion = df_insertion.append(df_eda)\n",
    "    \n",
    "    # Random replacement \n",
    "    df_replaced = df_insertion[\"Nouns\"].apply(lambda x: t.synonym_replacement(x))\n",
    "    df_replaced = pd.concat([df_replaced,df_insertion.Aspect],axis = 1)\n",
    "    df_replaced = df_replaced.append(df_insertion)\n",
    "    \n",
    "    # Random swap\n",
    "    df_swapped = pd.DataFrame(df_replaced[\"Nouns\"].apply(lambda x: t.random_swap(x,n  = 1)))\n",
    "    df_swapped = pd.concat([df_swapped,df_replaced.Aspect],axis = 1)\n",
    "    df_swapped = df_swapped.append(df_replaced)\n",
    "    \n",
    "    # Split into dataframes with one noun and more than one noun\n",
    "    df_swapped[\"Count\"] = df_swapped[\"Nouns\"].apply(lambda x: len(x.split()))\n",
    "    df_equal_one = df_swapped[df_swapped[\"Count\"]==1].reset_index()\n",
    "    df_more_one = df_swapped[df_swapped[\"Count\"]>1].reset_index()\n",
    "    \n",
    "    # Apply to the dataset with at least one noun so we are not left with empty rows\n",
    "    df_deleted = pd.DataFrame(df_more_one[\"Nouns\"].apply(lambda x: t.random_deletion(x,p = 0.2)))\n",
    "    df_deleted = pd.concat([df_deleted,df_more_one.Aspect],axis = 1,ignore_index=True)\n",
    "    df_deleted.columns = [\"Nouns\",\"Aspect\"]\n",
    "    \n",
    "    # Append the dataframe with deleted nouns to dataframe with single nouns\n",
    "    df_equal_one.drop(columns = \"Count\",axis = 1, inplace = True)\n",
    "    df_equal_one = df_equal_one.set_index(\"index\")\n",
    "    df_deleted = df_deleted.append(df_equal_one)\n",
    "        \n",
    "    return df_deleted"
   ]
  },
  {
   "cell_type": "code",
   "execution_count": 434,
   "id": "426f8a11",
   "metadata": {},
   "outputs": [
    {
     "data": {
      "text/plain": [
       "(17760, 2)"
      ]
     },
     "execution_count": 434,
     "metadata": {},
     "output_type": "execute_result"
    }
   ],
   "source": [
    "df_accom_augmented = aug(X_accom, y_accom)\n",
    "df_accom_augmented.shape"
   ]
  },
  {
   "cell_type": "code",
   "execution_count": 435,
   "id": "e642d80e",
   "metadata": {},
   "outputs": [],
   "source": [
    "y_train_accom_e, y_val_accom_e, y_test_accom_e, X_train_accom_w, X_val_accom_w, X_test_accom_w = tts(df_accom_augmented)"
   ]
  },
  {
   "cell_type": "code",
   "execution_count": 436,
   "id": "a71917c4",
   "metadata": {},
   "outputs": [
    {
     "name": "stdout",
     "output_type": "stream",
     "text": [
      "Model: \"sequential_12\"\n",
      "_________________________________________________________________\n",
      "Layer (type)                 Output Shape              Param #   \n",
      "=================================================================\n",
      "embedding_12 (Embedding)     (None, 15, 16)            96000     \n",
      "_________________________________________________________________\n",
      "flatten_12 (Flatten)         (None, 240)               0         \n",
      "_________________________________________________________________\n",
      "dense_48 (Dense)             (None, 512)               123392    \n",
      "_________________________________________________________________\n",
      "dense_49 (Dense)             (None, 256)               131328    \n",
      "_________________________________________________________________\n",
      "dense_50 (Dense)             (None, 128)               32896     \n",
      "_________________________________________________________________\n",
      "dense_51 (Dense)             (None, 7)                 903       \n",
      "=================================================================\n",
      "Total params: 384,519\n",
      "Trainable params: 384,519\n",
      "Non-trainable params: 0\n",
      "_________________________________________________________________\n",
      "None\n"
     ]
    }
   ],
   "source": [
    "# Define model \n",
    "\n",
    "input_dim = 6000\n",
    "output_dim = 16\n",
    "input_length = 15\n",
    "batch_size = 16\n",
    "epochs = 50\n",
    "class_weights = {0:cw_attract[0],1:cw_attract[1],2:cw_attract[2],3:cw_attract[3],4:cw_attract[4],5:cw_attract[5],6:cw_attract[6]}\n",
    "\n",
    "model7 = Sequential()\n",
    "model7.add(Embedding(input_dim = input_dim, output_dim = output_dim, input_length=input_length))\n",
    "model7.add(Flatten())\n",
    "model7.add(Dense(512, activation='relu', input_shape=(1600,)))\n",
    "model7.add(Dense(256,activation = 'relu'))\n",
    "model7.add(Dense(128,activation = 'relu'))\n",
    "model7.add(Dense(7, activation='softmax'))\n",
    "\n",
    "model7.compile(optimizer='adam', loss='categorical_crossentropy', metrics=['accuracy'])\n",
    "print(model7.summary())"
   ]
  },
  {
   "cell_type": "code",
   "execution_count": 437,
   "id": "f5655237",
   "metadata": {},
   "outputs": [],
   "source": [
    "output_dir = out('model_output/AccomAspectModels')\n",
    "callbacks = call(output_dir,5)"
   ]
  },
  {
   "cell_type": "code",
   "execution_count": 438,
   "id": "8a36345b",
   "metadata": {},
   "outputs": [
    {
     "name": "stdout",
     "output_type": "stream",
     "text": [
      "Epoch 1/50\n",
      "888/888 - 1s - loss: 0.6480 - accuracy: 0.7886 - val_loss: 0.2590 - val_accuracy: 0.9330\n",
      "Epoch 2/50\n",
      "888/888 - 1s - loss: 0.2213 - accuracy: 0.9443 - val_loss: 0.1869 - val_accuracy: 0.9510\n",
      "Epoch 3/50\n",
      "888/888 - 1s - loss: 0.1702 - accuracy: 0.9593 - val_loss: 0.1933 - val_accuracy: 0.9431\n",
      "Epoch 4/50\n",
      "888/888 - 1s - loss: 0.1448 - accuracy: 0.9662 - val_loss: 0.1792 - val_accuracy: 0.9521\n",
      "Epoch 5/50\n",
      "888/888 - 1s - loss: 0.1241 - accuracy: 0.9698 - val_loss: 0.1747 - val_accuracy: 0.9521\n",
      "Epoch 6/50\n",
      "888/888 - 1s - loss: 0.1138 - accuracy: 0.9734 - val_loss: 0.1853 - val_accuracy: 0.9566\n",
      "Epoch 7/50\n",
      "888/888 - 1s - loss: 0.1035 - accuracy: 0.9751 - val_loss: 0.1818 - val_accuracy: 0.9493\n",
      "Epoch 8/50\n",
      "888/888 - 1s - loss: 0.0972 - accuracy: 0.9763 - val_loss: 0.1856 - val_accuracy: 0.9538\n",
      "Epoch 9/50\n",
      "888/888 - 1s - loss: 0.0931 - accuracy: 0.9766 - val_loss: 0.1824 - val_accuracy: 0.9578\n",
      "Epoch 10/50\n",
      "888/888 - 1s - loss: 0.0870 - accuracy: 0.9784 - val_loss: 0.2164 - val_accuracy: 0.9482\n"
     ]
    }
   ],
   "source": [
    "# Model using keras embeddings using the previous model 4 but no class weights as the classes are balanced\n",
    "history7= model7.fit(X_train_accom_w,y_train_accom_e,\n",
    "                    epochs=epochs,\n",
    "                    verbose=2,\n",
    "                    callbacks = callbacks,\n",
    "                    validation_data=(X_val_accom_w, y_val_accom_e),\n",
    "                    batch_size=batch_size,\n",
    "                      class_weight = class_weights\n",
    "                     )"
   ]
  },
  {
   "cell_type": "code",
   "execution_count": 439,
   "id": "6e2addee",
   "metadata": {},
   "outputs": [
    {
     "name": "stdout",
     "output_type": "stream",
     "text": [
      "444/444 [==============================] - 0s 643us/step - loss: 0.0717 - accuracy: 0.9799\n",
      "[0.07173813879489899, 0.9799408912658691]\n",
      "56/56 [==============================] - 0s 659us/step - loss: 0.2164 - accuracy: 0.9482\n",
      "[0.21639926731586456, 0.9481981992721558]\n"
     ]
    }
   ],
   "source": [
    "print(model7.evaluate(X_train_accom_w, y_train_accom_e))\n",
    "print(model7.evaluate(X_val_accom_w, y_val_accom_e))"
   ]
  },
  {
   "cell_type": "code",
   "execution_count": 440,
   "id": "430a1aca",
   "metadata": {},
   "outputs": [
    {
     "data": {
      "image/png": "[encoded data removed]",
      "text/plain": [
       "<Figure size 864x360 with 2 Axes>"
      ]
     },
     "metadata": {},
     "output_type": "display_data"
    }
   ],
   "source": [
    "plot_history(history7)"
   ]
  },
  {
   "cell_type": "code",
   "execution_count": 442,
   "id": "ff920d8d",
   "metadata": {},
   "outputs": [],
   "source": [
    "# Load model weights from epoch with best validation accuracy\n",
    "model6.load_weights(output_dir+\"/weights.06.hdf5\")"
   ]
  },
  {
   "cell_type": "code",
   "execution_count": 443,
   "id": "f821b69d",
   "metadata": {},
   "outputs": [],
   "source": [
    "# Get predicted y values and predicted classes and convert original labels to integers\n",
    "y_pred_prob6 = model6.predict(X_val_accom_w)\n",
    "y_pred_class6 = np.argmax(model7.predict(X_val_accom_w), axis=-1)\n",
    "y_val_accom_integer = np.argmax(y_val_accom_e, axis=1)"
   ]
  },
  {
   "cell_type": "code",
   "execution_count": 444,
   "id": "7c5f4476",
   "metadata": {},
   "outputs": [
    {
     "name": "stdout",
     "output_type": "stream",
     "text": [
      "              precision    recall  f1-score   support\n",
      "\n",
      "           0       0.92      0.96      0.94       280\n",
      "           1       0.97      0.94      0.95       280\n",
      "           2       0.96      0.96      0.96       280\n",
      "           3       0.92      0.97      0.95       176\n",
      "           4       0.94      0.94      0.94       280\n",
      "           5       0.98      0.94      0.96       280\n",
      "           6       0.95      0.94      0.94       200\n",
      "\n",
      "    accuracy                           0.95      1776\n",
      "   macro avg       0.95      0.95      0.95      1776\n",
      "weighted avg       0.95      0.95      0.95      1776\n",
      "\n"
     ]
    },
    {
     "data": {
      "image/png": "[encoded data removed]",
      "text/plain": [
       "<Figure size 576x432 with 2 Axes>"
      ]
     },
     "metadata": {},
     "output_type": "display_data"
    }
   ],
   "source": [
    "class_conf(y_val_accom_integer,y_pred_class6)"
   ]
  },
  {
   "cell_type": "code",
   "execution_count": 448,
   "id": "20fc70d2",
   "metadata": {},
   "outputs": [
    {
     "data": {
      "text/html": [
       "<div>\n",
       "<style scoped>\n",
       "    .dataframe tbody tr th:only-of-type {\n",
       "        vertical-align: middle;\n",
       "    }\n",
       "\n",
       "    .dataframe tbody tr th {\n",
       "        vertical-align: top;\n",
       "    }\n",
       "\n",
       "    .dataframe thead th {\n",
       "        text-align: right;\n",
       "    }\n",
       "</style>\n",
       "<table border=\"1\" class=\"dataframe\">\n",
       "  <thead>\n",
       "    <tr style=\"text-align: right;\">\n",
       "      <th></th>\n",
       "      <th>Actual Class</th>\n",
       "      <th>Actual Aspect</th>\n",
       "      <th>Predicted Class</th>\n",
       "    </tr>\n",
       "  </thead>\n",
       "  <tbody>\n",
       "    <tr>\n",
       "      <th>0</th>\n",
       "      <td>6</td>\n",
       "      <td>Food</td>\n",
       "      <td>6</td>\n",
       "    </tr>\n",
       "    <tr>\n",
       "      <th>1</th>\n",
       "      <td>4</td>\n",
       "      <td>Entertainment</td>\n",
       "      <td>4</td>\n",
       "    </tr>\n",
       "    <tr>\n",
       "      <th>2</th>\n",
       "      <td>6</td>\n",
       "      <td>Value</td>\n",
       "      <td>6</td>\n",
       "    </tr>\n",
       "    <tr>\n",
       "      <th>3</th>\n",
       "      <td>4</td>\n",
       "      <td>Location</td>\n",
       "      <td>4</td>\n",
       "    </tr>\n",
       "    <tr>\n",
       "      <th>4</th>\n",
       "      <td>4</td>\n",
       "      <td>Food</td>\n",
       "      <td>4</td>\n",
       "    </tr>\n",
       "    <tr>\n",
       "      <th>5</th>\n",
       "      <td>4</td>\n",
       "      <td>Staff</td>\n",
       "      <td>4</td>\n",
       "    </tr>\n",
       "    <tr>\n",
       "      <th>6</th>\n",
       "      <td>1</td>\n",
       "      <td>Food</td>\n",
       "      <td>1</td>\n",
       "    </tr>\n",
       "    <tr>\n",
       "      <th>7</th>\n",
       "      <td>1</td>\n",
       "      <td>Value</td>\n",
       "      <td>1</td>\n",
       "    </tr>\n",
       "    <tr>\n",
       "      <th>8</th>\n",
       "      <td>1</td>\n",
       "      <td>Location</td>\n",
       "      <td>1</td>\n",
       "    </tr>\n",
       "    <tr>\n",
       "      <th>9</th>\n",
       "      <td>1</td>\n",
       "      <td>Hotel</td>\n",
       "      <td>1</td>\n",
       "    </tr>\n",
       "  </tbody>\n",
       "</table>\n",
       "</div>"
      ],
      "text/plain": [
       "   Actual Class  Actual Aspect  Predicted Class\n",
       "0             6           Food                6\n",
       "1             4  Entertainment                4\n",
       "2             6          Value                6\n",
       "3             4       Location                4\n",
       "4             4           Food                4\n",
       "5             4          Staff                4\n",
       "6             1           Food                1\n",
       "7             1          Value                1\n",
       "8             1       Location                1\n",
       "9             1          Hotel                1"
      ]
     },
     "execution_count": 448,
     "metadata": {},
     "output_type": "execute_result"
    }
   ],
   "source": [
    "# Create dataframe with y pred probabilities, classes and y actual\n",
    "accom_pred = pd.DataFrame(list(zip(y_val_accom_integer, y_val_accom,y_pred_class6)), columns=[\"Actual Class\",\"Actual Aspect\", \"Predicted Class\"])\n",
    "accom_pred.head(10)"
   ]
  },
  {
   "cell_type": "code",
   "execution_count": 451,
   "id": "891577a3",
   "metadata": {},
   "outputs": [
    {
     "data": {
      "text/html": [
       "<div>\n",
       "<style scoped>\n",
       "    .dataframe tbody tr th:only-of-type {\n",
       "        vertical-align: middle;\n",
       "    }\n",
       "\n",
       "    .dataframe tbody tr th {\n",
       "        vertical-align: top;\n",
       "    }\n",
       "\n",
       "    .dataframe thead th {\n",
       "        text-align: right;\n",
       "    }\n",
       "</style>\n",
       "<table border=\"1\" class=\"dataframe\">\n",
       "  <thead>\n",
       "    <tr style=\"text-align: right;\">\n",
       "      <th></th>\n",
       "      <th>Actual Class</th>\n",
       "      <th>Actual Aspect</th>\n",
       "      <th>Predicted Class</th>\n",
       "    </tr>\n",
       "  </thead>\n",
       "  <tbody>\n",
       "    <tr>\n",
       "      <th>26</th>\n",
       "      <td>4</td>\n",
       "      <td>Entertainment</td>\n",
       "      <td>0</td>\n",
       "    </tr>\n",
       "    <tr>\n",
       "      <th>47</th>\n",
       "      <td>4</td>\n",
       "      <td>Staff</td>\n",
       "      <td>0</td>\n",
       "    </tr>\n",
       "    <tr>\n",
       "      <th>96</th>\n",
       "      <td>2</td>\n",
       "      <td>Entertainment</td>\n",
       "      <td>4</td>\n",
       "    </tr>\n",
       "    <tr>\n",
       "      <th>102</th>\n",
       "      <td>6</td>\n",
       "      <td>Hotel</td>\n",
       "      <td>4</td>\n",
       "    </tr>\n",
       "    <tr>\n",
       "      <th>105</th>\n",
       "      <td>5</td>\n",
       "      <td>Hotel</td>\n",
       "      <td>2</td>\n",
       "    </tr>\n",
       "    <tr>\n",
       "      <th>143</th>\n",
       "      <td>1</td>\n",
       "      <td>Staff</td>\n",
       "      <td>0</td>\n",
       "    </tr>\n",
       "    <tr>\n",
       "      <th>147</th>\n",
       "      <td>4</td>\n",
       "      <td>Entertainment</td>\n",
       "      <td>2</td>\n",
       "    </tr>\n",
       "  </tbody>\n",
       "</table>\n",
       "</div>"
      ],
      "text/plain": [
       "     Actual Class  Actual Aspect  Predicted Class\n",
       "26              4  Entertainment                0\n",
       "47              4          Staff                0\n",
       "96              2  Entertainment                4\n",
       "102             6          Hotel                4\n",
       "105             5          Hotel                2\n",
       "143             1          Staff                0\n",
       "147             4  Entertainment                2"
      ]
     },
     "execution_count": 451,
     "metadata": {},
     "output_type": "execute_result"
    }
   ],
   "source": [
    "# Items not classified correctly\n",
    "wrong_accom_aug = accom_pred[accom_pred[\"Actual Class\"]!= accom_pred[\"Predicted Class\"]]\n",
    "wrong_accom_aug"
   ]
  },
  {
   "cell_type": "code",
   "execution_count": 452,
   "id": "7a127484",
   "metadata": {},
   "outputs": [
    {
     "name": "stdout",
     "output_type": "stream",
     "text": [
      "The model predicted: 7 aspects wrong from a total of: 222 predictions\n"
     ]
    }
   ],
   "source": [
    "print(\"The model predicted:\", wrong_accom_aug.shape[0],\"aspects wrong from a total of:\",accom_pred.shape[0],\"predictions\")"
   ]
  },
  {
   "cell_type": "markdown",
   "id": "02074d5f",
   "metadata": {},
   "source": [
    "## Food model"
   ]
  },
  {
   "cell_type": "code",
   "execution_count": 481,
   "id": "eb271fd1",
   "metadata": {},
   "outputs": [
    {
     "data": {
      "text/plain": [
       "Staff&Service    350\n",
       "Meal Exp         350\n",
       "Food Quality     350\n",
       "Value            350\n",
       "Menu Choice      350\n",
       "Name: Aspect, dtype: int64"
      ]
     },
     "execution_count": 481,
     "metadata": {},
     "output_type": "execute_result"
    }
   ],
   "source": [
    "# Balanced aspects\n",
    "y_food_new.value_counts()"
   ]
  },
  {
   "cell_type": "code",
   "execution_count": 482,
   "id": "d161f97d",
   "metadata": {},
   "outputs": [
    {
     "data": {
      "text/plain": [
       "(14000, 2)"
      ]
     },
     "execution_count": 482,
     "metadata": {},
     "output_type": "execute_result"
    }
   ],
   "source": [
    "df_food_augmented = aug(X_food_new, y_food_new)\n",
    "df_food_augmented.shape"
   ]
  },
  {
   "cell_type": "code",
   "execution_count": 483,
   "id": "7514de20",
   "metadata": {},
   "outputs": [],
   "source": [
    "y_train_food_e, y_val_food_e, y_test_food_e, X_train_food_w, X_val_food_w, X_test_food_w = tts(df_food_augmented)"
   ]
  },
  {
   "cell_type": "code",
   "execution_count": 486,
   "id": "b96162e3",
   "metadata": {},
   "outputs": [
    {
     "name": "stdout",
     "output_type": "stream",
     "text": [
      "Model: \"sequential_16\"\n",
      "_________________________________________________________________\n",
      "Layer (type)                 Output Shape              Param #   \n",
      "=================================================================\n",
      "embedding_16 (Embedding)     (None, 15, 16)            96000     \n",
      "_________________________________________________________________\n",
      "flatten_16 (Flatten)         (None, 240)               0         \n",
      "_________________________________________________________________\n",
      "dense_64 (Dense)             (None, 512)               123392    \n",
      "_________________________________________________________________\n",
      "dense_65 (Dense)             (None, 256)               131328    \n",
      "_________________________________________________________________\n",
      "dense_66 (Dense)             (None, 128)               32896     \n",
      "_________________________________________________________________\n",
      "dense_67 (Dense)             (None, 5)                 645       \n",
      "=================================================================\n",
      "Total params: 384,261\n",
      "Trainable params: 384,261\n",
      "Non-trainable params: 0\n",
      "_________________________________________________________________\n",
      "None\n"
     ]
    }
   ],
   "source": [
    "# Define model \n",
    "\n",
    "input_dim = 6000\n",
    "output_dim = 16\n",
    "input_length = 15\n",
    "batch_size = 16\n",
    "epochs = 50\n",
    "class_weights = {0:cw_attract[0],1:cw_attract[1],2:cw_attract[2],3:cw_attract[3],4:cw_attract[4],5:cw_attract[5],6:cw_attract[6]}\n",
    "\n",
    "model8 = Sequential()\n",
    "model8.add(Embedding(input_dim = input_dim, output_dim = output_dim, input_length=input_length))\n",
    "model8.add(Flatten())\n",
    "model8.add(Dense(512, activation='relu', input_shape=(1600,)))\n",
    "model8.add(Dense(256,activation = 'relu'))\n",
    "model8.add(Dense(128,activation = 'relu'))\n",
    "model8.add(Dense(5, activation='softmax'))\n",
    "\n",
    "model8.compile(optimizer='adam', loss='categorical_crossentropy', metrics=['accuracy'])\n",
    "print(model8.summary())"
   ]
  },
  {
   "cell_type": "code",
   "execution_count": 487,
   "id": "1843df49",
   "metadata": {},
   "outputs": [],
   "source": [
    "output_dir = out('model_output/FoodAspectModels')\n",
    "callbacks = call(output_dir,5)"
   ]
  },
  {
   "cell_type": "code",
   "execution_count": 492,
   "id": "21ba2b3d",
   "metadata": {},
   "outputs": [
    {
     "data": {
      "text/plain": [
       "{0: 1.0, 1: 1.0, 2: 1.0, 3: 1.0, 4: 1.0}"
      ]
     },
     "execution_count": 492,
     "metadata": {},
     "output_type": "execute_result"
    }
   ],
   "source": [
    "cw_food = weight(y_food_new)\n",
    "class_weights = {0:cw_food[0],1:cw_food[1],2:cw_food[2],3:cw_food[3],4:cw_food[4]}\n",
    "class_weights"
   ]
  },
  {
   "cell_type": "code",
   "execution_count": 493,
   "id": "40e8996f",
   "metadata": {},
   "outputs": [
    {
     "name": "stdout",
     "output_type": "stream",
     "text": [
      "Epoch 1/50\n",
      "700/700 - 1s - loss: 0.0860 - accuracy: 0.9742 - val_loss: 0.2050 - val_accuracy: 0.9621\n",
      "Epoch 2/50\n",
      "700/700 - 1s - loss: 0.0827 - accuracy: 0.9748 - val_loss: 0.2173 - val_accuracy: 0.9579\n",
      "Epoch 3/50\n",
      "700/700 - 1s - loss: 0.0819 - accuracy: 0.9742 - val_loss: 0.2279 - val_accuracy: 0.9543\n",
      "Epoch 4/50\n",
      "700/700 - 1s - loss: 0.0829 - accuracy: 0.9740 - val_loss: 0.2238 - val_accuracy: 0.9529\n",
      "Epoch 5/50\n",
      "700/700 - 1s - loss: 0.0784 - accuracy: 0.9754 - val_loss: 0.2147 - val_accuracy: 0.9571\n",
      "Epoch 6/50\n",
      "700/700 - 1s - loss: 0.0753 - accuracy: 0.9768 - val_loss: 0.2310 - val_accuracy: 0.9550\n"
     ]
    }
   ],
   "source": [
    "# Model using keras embeddings using the previous model 4 but no class weights as the classes are balanced\n",
    "history8= model8.fit(X_train_food_w,y_train_food_e,\n",
    "                    epochs=epochs,\n",
    "                    verbose=2,\n",
    "                    callbacks = callbacks,\n",
    "                    validation_data=(X_val_food_w, y_val_food_e),\n",
    "                    batch_size=batch_size,\n",
    "                      class_weight = class_weights\n",
    "                     )"
   ]
  },
  {
   "cell_type": "code",
   "execution_count": 494,
   "id": "cd65941a",
   "metadata": {},
   "outputs": [
    {
     "name": "stdout",
     "output_type": "stream",
     "text": [
      "350/350 [==============================] - 0s 638us/step - loss: 0.0643 - accuracy: 0.9801\n",
      "[0.06426393985748291, 0.9800893068313599]\n",
      "44/44 [==============================] - 0s 431us/step - loss: 0.2310 - accuracy: 0.9550\n",
      "[0.23104844987392426, 0.9549999833106995]\n"
     ]
    }
   ],
   "source": [
    "print(model8.evaluate(X_train_food_w, y_train_food_e))\n",
    "print(model8.evaluate(X_val_food_w, y_val_food_e))"
   ]
  },
  {
   "cell_type": "markdown",
   "id": "730d68c0",
   "metadata": {},
   "source": [
    "Analysis:\n",
    "* The accommodation model has performed better with the augmented data but there are still some problems with the entertainment category in particular.\n",
    "* Augmenting did improve both the accommodation and attraction models but further tweaking with parameters is only likely to improve the model by very small amounts. There appear to be some issues with some of the aspect classes and the ability of the model to discriminate between them. This may be due to the nature of the features which are often single words, with ambiguous meaning. \n",
    "* The food model was not improved"
   ]
  },
  {
   "cell_type": "markdown",
   "id": "bc4188ef",
   "metadata": {},
   "source": [
    "Possible improvements:\n",
    "* Try multilabel classification as an alternative model, where rows can be labelled with multiple aspects, in particular the food category is likely to benefit from this as even at the noun phrase level, there are often multiple aspects.\n",
    "* More data is often helpful, instead of augmenting data sets, larger labelled datasets would likely produce better quality training data. Paid services such as 'Mechanical Turk' can be useful if budget is available to do this. Labelling the data several times using different people produces a consensus which can be more accurate than just using one person to label."
   ]
  }
 ],
 "metadata": {
  "kernelspec": {
   "display_name": "Python 3",
   "language": "python",
   "name": "python3"
  },
  "language_info": {
   "codemirror_mode": {
    "name": "ipython",
    "version": 3
   },
   "file_extension": ".py",
   "mimetype": "text/x-python",
   "name": "python",
   "nbconvert_exporter": "python",
   "pygments_lexer": "ipython3",
   "version": "3.7.10"
  }
 },
 "nbformat": 4,
 "nbformat_minor": 5
}
