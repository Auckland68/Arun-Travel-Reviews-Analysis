{
 "cells": [
  {
   "cell_type": "markdown",
   "id": "7702dc2e",
   "metadata": {},
   "source": [
    "This notebook investigates predictive models for the aspects part of the review data based on the extracted nouns. The output is therefore multiclass.\n",
    "\n",
    "* Section 1 - Import libraries and dataset\n",
    "* Section 2 - Data cleaning\n",
    "* Section 3 - Data preprocessing\n",
    "* Section 4 - Building an aspect classifier (Accommodation)\n",
    "* Section 5 - Building an aspect classifier (Food)\n",
    "* Section 6 - Building an aspect classifier (Attractions)\n",
    "\n",
    "Dataset needed to run this notebook:\n",
    "\n",
    "* combinedaspectcheck.xlsx"
   ]
  },
  {
   "cell_type": "markdown",
   "id": "fbb5057b",
   "metadata": {},
   "source": [
    "# Section 1: Import libraries and dataset"
   ]
  },
  {
   "cell_type": "code",
   "execution_count": 571,
   "id": "62125b2e",
   "metadata": {},
   "outputs": [],
   "source": [
    "import pandas as pd\n",
    "import numpy as np\n",
    "\n",
    "from sklearn import preprocessing\n",
    "import keras\n",
    "from keras.models import Sequential\n",
    "from keras.layers import Dense,Flatten,Embedding,LSTM,Dropout,SpatialDropout1D,Conv1D,GlobalMaxPooling1D,SimpleRNN,LSTM,GRU,Bidirectional\n",
    "from keras.preprocessing.text import Tokenizer\n",
    "from keras.preprocessing.sequence import pad_sequences\n",
    "from keras.callbacks import EarlyStopping,ModelCheckpoint\n",
    "from keras.utils import to_categorical\n",
    "from matplotlib import pyplot as plt\n",
    "import seaborn as sns\n",
    "sns.set()\n",
    "import imblearn\n",
    "from imblearn.over_sampling import SMOTE\n",
    "from sklearn.preprocessing import LabelBinarizer\n",
    "import os\n",
    "import pickle\n",
    "import nltk\n",
    "from nltk.corpus import stopwords\n",
    "from sklearn.model_selection import train_test_split\n",
    "from sklearn.metrics import accuracy_score,roc_auc_score,precision_score,recall_score,f1_score,confusion_matrix,classification_report\n",
    "from sklearn.utils import class_weight\n",
    "\n",
    "import warnings\n",
    "warnings.filterwarnings('ignore')"
   ]
  },
  {
   "cell_type": "code",
   "execution_count": 1064,
   "id": "b01f8796",
   "metadata": {},
   "outputs": [],
   "source": [
    "# Bring in manually annotated accommodation data from spreadsheet file\n",
    "df_accom = pd.read_excel(\"combinedaspectcheck.xlsx\",sheet_name = \"CLEANEDACCOM\",engine = \"openpyxl\")\n",
    "df_food = pd.read_excel(\"combinedaspectcheck.xlsx\",sheet_name = \"CLEANEDFOOD\", engine = \"openpyxl\")\n",
    "# df_attract = pd.read_excel(\"combinedaspectcheck.xlsx, sheet_name = \"\", engine = \"openpyxl\")"
   ]
  },
  {
   "cell_type": "code",
   "execution_count": 1065,
   "id": "55192538",
   "metadata": {},
   "outputs": [],
   "source": [
    "df_accom.drop([\"Category\"],axis = 1, inplace = True)\n",
    "df_food.drop([\"Category\"],axis = 1,inplace = True)"
   ]
  },
  {
   "cell_type": "markdown",
   "id": "e891c4d9",
   "metadata": {},
   "source": [
    "# Section 2: Data Cleaning"
   ]
  },
  {
   "cell_type": "markdown",
   "id": "d30c5a48",
   "metadata": {},
   "source": [
    "## Accommodation"
   ]
  },
  {
   "cell_type": "code",
   "execution_count": 1066,
   "id": "c4871c25",
   "metadata": {},
   "outputs": [
    {
     "name": "stdout",
     "output_type": "stream",
     "text": [
      "<class 'pandas.core.frame.DataFrame'>\n",
      "RangeIndex: 2000 entries, 0 to 1999\n",
      "Data columns (total 7 columns):\n",
      " #   Column        Non-Null Count  Dtype  \n",
      "---  ------        --------------  -----  \n",
      " 0   OrigId        2000 non-null   int64  \n",
      " 1   Cleaned       2000 non-null   object \n",
      " 2   Noun Phrases  2000 non-null   object \n",
      " 3   Nouns         2000 non-null   object \n",
      " 4   Aspect        2000 non-null   object \n",
      " 5   Sentiment     2000 non-null   float64\n",
      " 6   Polarity      2000 non-null   object \n",
      "dtypes: float64(1), int64(1), object(5)\n",
      "memory usage: 109.5+ KB\n"
     ]
    }
   ],
   "source": [
    "df_accom.info()"
   ]
  },
  {
   "cell_type": "code",
   "execution_count": 1067,
   "id": "1b8dcb5c",
   "metadata": {},
   "outputs": [
    {
     "data": {
      "text/plain": [
       "positive    1782\n",
       "negative     218\n",
       "Name: Polarity, dtype: int64"
      ]
     },
     "execution_count": 1067,
     "metadata": {},
     "output_type": "execute_result"
    }
   ],
   "source": [
    "# Positive and negative polarity counts\n",
    "df_accom[\"Polarity\"].value_counts()"
   ]
  },
  {
   "cell_type": "code",
   "execution_count": 1068,
   "id": "1ca75cf4",
   "metadata": {},
   "outputs": [
    {
     "data": {
      "text/plain": [
       "Room             310\n",
       "Food             310\n",
       "Staff            310\n",
       "Hotel            309\n",
       "Entertainment    308\n",
       "Value            237\n",
       "Location         208\n",
       "location           5\n",
       "entertainment      2\n",
       "hotel              1\n",
       "Name: Aspect, dtype: int64"
      ]
     },
     "execution_count": 1068,
     "metadata": {},
     "output_type": "execute_result"
    }
   ],
   "source": [
    "# Aspect value counts\n",
    "df_accom[\"Aspect\"].value_counts()"
   ]
  },
  {
   "cell_type": "code",
   "execution_count": 1069,
   "id": "1fa26987",
   "metadata": {},
   "outputs": [],
   "source": [
    "# Set to title case as some categories are multiples\n",
    "df_accom[\"Aspect\"] = df_accom[\"Aspect\"].apply(lambda x: x.title())"
   ]
  },
  {
   "cell_type": "code",
   "execution_count": 1070,
   "id": "063adbb4",
   "metadata": {},
   "outputs": [
    {
     "data": {
      "text/plain": [
       "Room             310\n",
       "Hotel            310\n",
       "Entertainment    310\n",
       "Food             310\n",
       "Staff            310\n",
       "Value            237\n",
       "Location         213\n",
       "Name: Aspect, dtype: int64"
      ]
     },
     "execution_count": 1070,
     "metadata": {},
     "output_type": "execute_result"
    }
   ],
   "source": [
    "df_accom[\"Aspect\"].value_counts()"
   ]
  },
  {
   "cell_type": "markdown",
   "id": "8f63dee9",
   "metadata": {},
   "source": [
    "Mostly balanced categories, the two smaller categories represent those where all datapoints were used but there were just fewer overall."
   ]
  },
  {
   "cell_type": "markdown",
   "id": "a7d98f63",
   "metadata": {},
   "source": [
    "## Food"
   ]
  },
  {
   "cell_type": "code",
   "execution_count": 1071,
   "id": "3eea5871",
   "metadata": {},
   "outputs": [
    {
     "name": "stdout",
     "output_type": "stream",
     "text": [
      "<class 'pandas.core.frame.DataFrame'>\n",
      "RangeIndex: 2101 entries, 0 to 2100\n",
      "Data columns (total 9 columns):\n",
      " #   Column        Non-Null Count  Dtype  \n",
      "---  ------        --------------  -----  \n",
      " 0   OrigInd       2101 non-null   int64  \n",
      " 1   Cleaned       2101 non-null   object \n",
      " 2   Noun Phrases  2101 non-null   object \n",
      " 3   Nouns         2101 non-null   object \n",
      " 4   Sentiment     2101 non-null   float64\n",
      " 5   Aspect        2101 non-null   object \n",
      " 6   Orig Aspect   2101 non-null   object \n",
      " 7   Polarity      2101 non-null   int64  \n",
      " 8   Unnamed: 9    0 non-null      float64\n",
      "dtypes: float64(2), int64(2), object(5)\n",
      "memory usage: 147.9+ KB\n"
     ]
    }
   ],
   "source": [
    "df_food.info()"
   ]
  },
  {
   "cell_type": "code",
   "execution_count": 1072,
   "id": "110df64f",
   "metadata": {},
   "outputs": [
    {
     "data": {
      "text/plain": [
       "0    1843\n",
       "1     258\n",
       "Name: Polarity, dtype: int64"
      ]
     },
     "execution_count": 1072,
     "metadata": {},
     "output_type": "execute_result"
    }
   ],
   "source": [
    "# Positive and negative polarity counts\n",
    "df_food[\"Polarity\"].value_counts()"
   ]
  },
  {
   "cell_type": "code",
   "execution_count": 1073,
   "id": "912fc658",
   "metadata": {},
   "outputs": [
    {
     "data": {
      "text/plain": [
       "Menu Choice      351\n",
       "Food Quality     350\n",
       "Staff&Service    350\n",
       "Value            350\n",
       "Visit Exp        350\n",
       "Meal Exp         350\n",
       "Name: Aspect, dtype: int64"
      ]
     },
     "execution_count": 1073,
     "metadata": {},
     "output_type": "execute_result"
    }
   ],
   "source": [
    "# Aspect value counts\n",
    "df_food[\"Aspect\"].value_counts()"
   ]
  },
  {
   "cell_type": "markdown",
   "id": "debba8d7",
   "metadata": {},
   "source": [
    "## Attractions"
   ]
  },
  {
   "cell_type": "code",
   "execution_count": null,
   "id": "66a4743a",
   "metadata": {},
   "outputs": [],
   "source": [
    "df_attract.info()"
   ]
  },
  {
   "cell_type": "code",
   "execution_count": null,
   "id": "0018637f",
   "metadata": {},
   "outputs": [],
   "source": [
    "df_attract[\"Polarity\"].value_counts()"
   ]
  },
  {
   "cell_type": "code",
   "execution_count": null,
   "id": "a4f851e5",
   "metadata": {},
   "outputs": [],
   "source": [
    "df_attract[\"Aspect\"].value_counts()"
   ]
  },
  {
   "cell_type": "markdown",
   "id": "7e87cc1f",
   "metadata": {},
   "source": [
    "# Section 3: Data preprocessing"
   ]
  },
  {
   "cell_type": "markdown",
   "id": "467f0eb3",
   "metadata": {},
   "source": [
    "## Define X and y"
   ]
  },
  {
   "cell_type": "code",
   "execution_count": 1074,
   "id": "fd564535",
   "metadata": {},
   "outputs": [],
   "source": [
    "def XY(df):\n",
    "    X = df[\"Nouns\"]\n",
    "    y = df[\"Aspect\"]\n",
    "\n",
    "    return X,y"
   ]
  },
  {
   "cell_type": "code",
   "execution_count": 1075,
   "id": "67a8b57d",
   "metadata": {},
   "outputs": [],
   "source": [
    "X_accom,y_accom = XY(df_accom)\n",
    "X_food,y_food = XY(df_food)"
   ]
  },
  {
   "cell_type": "code",
   "execution_count": 1076,
   "id": "0be071b8",
   "metadata": {},
   "outputs": [
    {
     "name": "stdout",
     "output_type": "stream",
     "text": [
      "(2000,) (2000,)\n",
      "(2101,) (2101,)\n"
     ]
    }
   ],
   "source": [
    "print(X_accom.shape,y_accom.shape)\n",
    "print(X_food.shape,y_food.shape)"
   ]
  },
  {
   "cell_type": "markdown",
   "id": "bfd80fa0",
   "metadata": {},
   "source": [
    "## Train test split"
   ]
  },
  {
   "cell_type": "code",
   "execution_count": 1077,
   "id": "f85e9d53",
   "metadata": {},
   "outputs": [],
   "source": [
    "# Train, validation, test split\n",
    "def train_test(X,y):\n",
    "    X_train, X_test, y_train, y_test = train_test_split(X,y, stratify = y,test_size=0.10, shuffle = True)\n",
    "    X_test, X_val, y_test, y_val = train_test_split(X_test, y_test, stratify = y_test,test_size=0.50, shuffle = True)\n",
    "    return X_train,X_val,X_test,y_train,y_val,y_test"
   ]
  },
  {
   "cell_type": "code",
   "execution_count": 1078,
   "id": "47e03900",
   "metadata": {},
   "outputs": [],
   "source": [
    "# Train, validation, test split\n",
    "X_train_accom,X_val_accom,X_test_accom,y_train_accom,y_val_accom,y_test_accom = train_test(X_accom,y_accom)\n",
    "X_train_food,X_val_food,X_test_food,y_train_food,y_val_food,y_test_food = train_test(X_food,y_food)"
   ]
  },
  {
   "cell_type": "code",
   "execution_count": 1079,
   "id": "230e3645",
   "metadata": {},
   "outputs": [
    {
     "name": "stdout",
     "output_type": "stream",
     "text": [
      "(1800,) (100,) (100,) (1800,) (100,) (100,)\n",
      "(1890,) (106,) (105,) (1890,) (106,) (105,)\n"
     ]
    }
   ],
   "source": [
    "print(X_train_accom.shape, X_val_accom.shape,X_test_accom.shape, y_train_accom.shape, y_val_accom.shape, y_test_accom.shape)\n",
    "print(X_train_food.shape, X_val_food.shape,X_test_food.shape, y_train_food.shape, y_val_food.shape, y_test_food.shape)"
   ]
  },
  {
   "cell_type": "markdown",
   "id": "392e2b1c",
   "metadata": {},
   "source": [
    "## Encode y and X"
   ]
  },
  {
   "cell_type": "code",
   "execution_count": 1080,
   "id": "60d80302",
   "metadata": {},
   "outputs": [],
   "source": [
    "# Function to encode y values as one-hot encoded\n",
    "def bin(y_train, y_val, y_test):\n",
    "    binarizer = preprocessing.LabelBinarizer()\n",
    "    y_train_e = binarizer.fit_transform(y_train)\n",
    "    y_val_e = binarizer.transform(y_val)\n",
    "    y_test_e = binarizer.transform(y_test)\n",
    "    return y_train_e,y_val_e,y_test_e"
   ]
  },
  {
   "cell_type": "code",
   "execution_count": 1081,
   "id": "d2576463",
   "metadata": {},
   "outputs": [],
   "source": [
    "# Apply function\n",
    "y_train_accom_e, y_val_accom_e, y_test_accom_e = bin(y_train_accom, y_val_accom, y_test_accom)\n",
    "y_train_food_e, y_val_food_e, y_test_food_e = bin(y_train_food, y_val_food, y_test_food)"
   ]
  },
  {
   "cell_type": "code",
   "execution_count": 1082,
   "id": "3e0a551d",
   "metadata": {},
   "outputs": [
    {
     "name": "stdout",
     "output_type": "stream",
     "text": [
      "(1800, 7) (100, 7) (100, 7)\n",
      "(1890, 6) (106, 6) (105, 6)\n"
     ]
    }
   ],
   "source": [
    "print(y_train_accom_e.shape, y_val_accom_e.shape, y_test_accom_e.shape)\n",
    "print(y_train_food_e.shape, y_val_food_e.shape, y_test_food_e.shape)"
   ]
  },
  {
   "cell_type": "code",
   "execution_count": 1083,
   "id": "bfcd3e40",
   "metadata": {},
   "outputs": [
    {
     "name": "stdout",
     "output_type": "stream",
     "text": [
      "12\n",
      "10\n"
     ]
    }
   ],
   "source": [
    "# Get maximum number of nouns to use in the 'maxlen' arguement\n",
    "print(pd.DataFrame(X_train_accom)[\"Nouns\"].str.split().apply(len).max())\n",
    "print(pd.DataFrame(X_train_food)[\"Nouns\"].str.split().apply(len).max())"
   ]
  },
  {
   "cell_type": "code",
   "execution_count": 1084,
   "id": "9932ab07",
   "metadata": {},
   "outputs": [],
   "source": [
    "# Fit tokenizer on text and transform to vectors\n",
    "def tok(X_train, X_val, X_test):\n",
    "    tokenizer = Tokenizer(num_words = 5000)\n",
    "    tokenizer.fit_on_texts(X_train)\n",
    "    X_train_s = tokenizer.texts_to_sequences(X_train)\n",
    "    X_val_s = tokenizer.texts_to_sequences(X_val)\n",
    "    X_test_s = tokenizer.texts_to_sequences(X_test)\n",
    "    X_train_w = pad_sequences(np.array(X_train_s,dtype = \"object\"), maxlen=15, padding=\"post\", truncating=\"post\", value=0.0)\n",
    "    X_val_w = pad_sequences(np.array(X_val_s,dtype = \"object\"), maxlen=15, padding=\"post\", truncating=\"post\", value=0.0)\n",
    "    X_test_w = pad_sequences(np.array(X_test_s, dtype = \"object\"), maxlen = 15, padding = \"post\", truncating = \"post\", value = 0.0)\n",
    "    \n",
    "    return X_train_w, X_val_w, X_test_w"
   ]
  },
  {
   "cell_type": "code",
   "execution_count": 1085,
   "id": "62676d86",
   "metadata": {},
   "outputs": [],
   "source": [
    "X_train_accom_w, X_val_accom_w, X_test_accom_w = tok(X_train_accom, X_val_accom, X_test_accom)\n",
    "X_train_food_w, X_val_food_w, X_test_food_w = tok(X_train_food, X_val_food, X_test_food)"
   ]
  },
  {
   "cell_type": "code",
   "execution_count": 1086,
   "id": "1a430295",
   "metadata": {},
   "outputs": [
    {
     "name": "stdout",
     "output_type": "stream",
     "text": [
      "(1800, 15) (1800, 7)\n",
      "(1890, 15) (1890, 6)\n"
     ]
    }
   ],
   "source": [
    "print(X_train_accom_w.shape,y_train_accom_e.shape)\n",
    "print(X_train_food_w.shape, y_train_food_e.shape)"
   ]
  },
  {
   "cell_type": "markdown",
   "id": "da1a6c20",
   "metadata": {},
   "source": [
    "# Section 4: Building accommodation aspect classifier"
   ]
  },
  {
   "cell_type": "markdown",
   "id": "8d5f5871",
   "metadata": {},
   "source": [
    "## Define functions used for each model"
   ]
  },
  {
   "cell_type": "code",
   "execution_count": 678,
   "id": "64fe4a95",
   "metadata": {},
   "outputs": [],
   "source": [
    "# Visualise the training and test accuracies and losses\n",
    "import matplotlib.pyplot as plt\n",
    "plt.style.use('ggplot')\n",
    "\n",
    "def plot_history(history):\n",
    "    acc = history.history['accuracy']\n",
    "    val_acc = history.history['val_accuracy']\n",
    "    loss = history.history['loss']\n",
    "    val_loss = history.history['val_loss']\n",
    "    x = range(1, len(acc) + 1)\n",
    "\n",
    "    plt.figure(figsize=(12, 5))\n",
    "    plt.subplot(1, 2, 1)\n",
    "    plt.plot(x, acc, 'b', label='Training acc')\n",
    "    plt.plot(x, val_acc, 'r', label='Val acc')\n",
    "    plt.title('Training and Validation accuracy')\n",
    "    plt.xlabel(\"Epochs\")\n",
    "    plt.legend()\n",
    "    plt.subplot(1, 2, 2)\n",
    "    plt.plot(x, loss, 'b', label='Training loss')\n",
    "    plt.plot(x, val_loss, 'r', label='Val loss')\n",
    "    plt.xlabel(\"Epochs\")\n",
    "    plt.title('Training and Validation loss')\n",
    "    plt.legend()"
   ]
  },
  {
   "cell_type": "code",
   "execution_count": 679,
   "id": "7b1c99a9",
   "metadata": {},
   "outputs": [],
   "source": [
    "# The model will use earlystopping if the valuation loss doesn't decrease after 5 epochs\n",
    "\n",
    "def out(name):\n",
    "    output_dir = name\n",
    "    if not os.path.exists(output_dir):\n",
    "        os.makedirs(output_dir)\n",
    "    return output_dir\n",
    "        \n",
    "def call(output_dir):\n",
    "    modelcheckpoint = ModelCheckpoint(filepath=output_dir+\"/weights.{epoch:02d}.hdf5\")\n",
    "    callbacks = [EarlyStopping(monitor = \"val_loss\", patience = 5),modelcheckpoint]\n",
    "    return callbacks"
   ]
  },
  {
   "cell_type": "code",
   "execution_count": 926,
   "id": "70ff1c9d",
   "metadata": {},
   "outputs": [],
   "source": [
    "# Confusion Matrix function\n",
    "\n",
    "def class_conf(y_val_integer,y_pred_class):\n",
    "    classification = classification_report(y_val_integer, y_pred_class)\n",
    "    fig, ax = plt.subplots(figsize = (8,6))\n",
    "    cf_matrix = confusion_matrix(y_val_integer, y_pred_class)\n",
    "    sns.heatmap(cnf_matrix, annot = True, fmt = \"d\",cmap = plt.cm.Blues)\n",
    "    plt.xlabel('Predicted')\n",
    "    plt.ylabel('Actual')\n",
    "    plt.title(\"Confusion Matrix\", fontsize = 15)\n",
    "    print(classification)"
   ]
  },
  {
   "cell_type": "code",
   "execution_count": 743,
   "id": "c9c08a69",
   "metadata": {},
   "outputs": [],
   "source": [
    "# Weight adjustments if required\n",
    "def weight(y_train):\n",
    "    from sklearn.utils import class_weight\n",
    "    class_weights = class_weight.compute_class_weight('balanced',np.unique(y_train),y_train)\n",
    "    return class_weights"
   ]
  },
  {
   "cell_type": "code",
   "execution_count": 750,
   "id": "4f760df1",
   "metadata": {},
   "outputs": [],
   "source": [
    "cw_accom = weight(y_accom)\n",
    "cw_food = weight(y_food)"
   ]
  },
  {
   "cell_type": "code",
   "execution_count": 751,
   "id": "8bb799ad",
   "metadata": {},
   "outputs": [
    {
     "name": "stdout",
     "output_type": "stream",
     "text": [
      "[0.92165899 0.92165899 0.92165899 1.34138162 0.92165899 0.92165899\n",
      " 1.20554551]\n",
      "[1. 1. 1. 1. 1. 1.]\n"
     ]
    }
   ],
   "source": [
    "print(cw_accom)\n",
    "print(cw_food)"
   ]
  },
  {
   "cell_type": "markdown",
   "id": "4df6daaf",
   "metadata": {},
   "source": [
    "## Build Accommodation Model"
   ]
  },
  {
   "cell_type": "code",
   "execution_count": 778,
   "id": "212e1f11",
   "metadata": {},
   "outputs": [],
   "source": [
    "# Parameters\n",
    "input_dim = 6000\n",
    "output_dim = 16\n",
    "input_length = 15\n",
    "batch_size = 16\n",
    "epochs = 50\n",
    "class_weights = {0:cw_accom[0],1:cw_accom[1],2:cw_accom[2],3:cw_accom[3],4:cw_accom[4],5:cw_accom[5],6:cw_accom[6]}"
   ]
  },
  {
   "cell_type": "code",
   "execution_count": 779,
   "id": "6ac9070d",
   "metadata": {},
   "outputs": [],
   "source": [
    "# Define model - best performing sentiment model as a starting point\n",
    "model = Sequential()\n",
    "model.add(Embedding(input_dim = input_dim, output_dim = output_dim, input_length=input_length))\n",
    "model.add(Flatten())\n",
    "model.add(Dense(512, activation='relu', input_shape=(1600,)))\n",
    "model.add(Dense(256,activation = 'relu'))\n",
    "model.add(Dense(128,activation = 'relu'))\n",
    "model.add(Dense(7, activation='softmax'))"
   ]
  },
  {
   "cell_type": "code",
   "execution_count": 780,
   "id": "58c72705",
   "metadata": {},
   "outputs": [
    {
     "name": "stdout",
     "output_type": "stream",
     "text": [
      "Model: \"sequential_16\"\n",
      "_________________________________________________________________\n",
      "Layer (type)                 Output Shape              Param #   \n",
      "=================================================================\n",
      "embedding_16 (Embedding)     (None, 15, 16)            96000     \n",
      "_________________________________________________________________\n",
      "flatten_16 (Flatten)         (None, 240)               0         \n",
      "_________________________________________________________________\n",
      "dense_64 (Dense)             (None, 512)               123392    \n",
      "_________________________________________________________________\n",
      "dense_65 (Dense)             (None, 256)               131328    \n",
      "_________________________________________________________________\n",
      "dense_66 (Dense)             (None, 128)               32896     \n",
      "_________________________________________________________________\n",
      "dense_67 (Dense)             (None, 7)                 903       \n",
      "=================================================================\n",
      "Total params: 384,519\n",
      "Trainable params: 384,519\n",
      "Non-trainable params: 0\n",
      "_________________________________________________________________\n",
      "None\n"
     ]
    }
   ],
   "source": [
    "model.compile(optimizer='adam', loss='categorical_crossentropy', metrics=['accuracy'])\n",
    "print(model.summary())"
   ]
  },
  {
   "cell_type": "code",
   "execution_count": 781,
   "id": "75e579d5",
   "metadata": {},
   "outputs": [],
   "source": [
    "output_dir = out('model_output/AccomAspectModels1')\n",
    "callbacks = call(output_dir)"
   ]
  },
  {
   "cell_type": "code",
   "execution_count": 782,
   "id": "0acf5e27",
   "metadata": {},
   "outputs": [
    {
     "name": "stdout",
     "output_type": "stream",
     "text": [
      "Epoch 1/50\n",
      "113/113 - 0s - loss: 1.3248 - accuracy: 0.5311 - val_loss: 0.5099 - val_accuracy: 0.8700\n",
      "Epoch 2/50\n",
      "113/113 - 0s - loss: 0.3481 - accuracy: 0.9106 - val_loss: 0.3257 - val_accuracy: 0.9200\n",
      "Epoch 3/50\n",
      "113/113 - 0s - loss: 0.1378 - accuracy: 0.9678 - val_loss: 0.1555 - val_accuracy: 0.9500\n",
      "Epoch 4/50\n",
      "113/113 - 0s - loss: 0.0570 - accuracy: 0.9872 - val_loss: 0.1545 - val_accuracy: 0.9600\n",
      "Epoch 5/50\n",
      "113/113 - 0s - loss: 0.0304 - accuracy: 0.9944 - val_loss: 0.0872 - val_accuracy: 0.9600\n",
      "Epoch 6/50\n",
      "113/113 - 0s - loss: 0.0084 - accuracy: 0.9989 - val_loss: 0.0732 - val_accuracy: 0.9800\n",
      "Epoch 7/50\n",
      "113/113 - 0s - loss: 0.0057 - accuracy: 0.9989 - val_loss: 0.0667 - val_accuracy: 0.9800\n",
      "Epoch 8/50\n",
      "113/113 - 0s - loss: 0.0023 - accuracy: 0.9994 - val_loss: 0.0588 - val_accuracy: 0.9800\n",
      "Epoch 9/50\n",
      "113/113 - 0s - loss: 0.0018 - accuracy: 0.9994 - val_loss: 0.0644 - val_accuracy: 0.9800\n",
      "Epoch 10/50\n",
      "113/113 - 0s - loss: 6.6672e-04 - accuracy: 1.0000 - val_loss: 0.0688 - val_accuracy: 0.9800\n",
      "Epoch 11/50\n",
      "113/113 - 0s - loss: 4.9482e-04 - accuracy: 1.0000 - val_loss: 0.0651 - val_accuracy: 0.9800\n",
      "Epoch 12/50\n",
      "113/113 - 0s - loss: 3.3931e-04 - accuracy: 1.0000 - val_loss: 0.0676 - val_accuracy: 0.9800\n",
      "Epoch 13/50\n",
      "113/113 - 0s - loss: 2.7029e-04 - accuracy: 1.0000 - val_loss: 0.0717 - val_accuracy: 0.9800\n"
     ]
    }
   ],
   "source": [
    "# Model using keras embeddings\n",
    "history = model.fit(X_train_accom_w,y_train_accom_e,\n",
    "                    epochs=epochs,\n",
    "                    verbose=2,\n",
    "                    callbacks = callbacks,\n",
    "                    validation_data=(X_val_accom_w, y_val_accom_e),\n",
    "                    batch_size=batch_size,\n",
    "                    class_weight = class_weights)"
   ]
  },
  {
   "cell_type": "markdown",
   "id": "5ea5cdce",
   "metadata": {},
   "source": [
    "## Evaluate model"
   ]
  },
  {
   "cell_type": "code",
   "execution_count": 786,
   "id": "d1eb191d",
   "metadata": {},
   "outputs": [
    {
     "name": "stdout",
     "output_type": "stream",
     "text": [
      "57/57 [==============================] - 0s 472us/step - loss: 2.1382e-04 - accuracy: 1.0000\n"
     ]
    },
    {
     "data": {
      "text/plain": [
       "[0.00021381553960964084, 1.0]"
      ]
     },
     "execution_count": 786,
     "metadata": {},
     "output_type": "execute_result"
    }
   ],
   "source": [
    "model.evaluate(X_train_accom_w, y_train_accom_e)"
   ]
  },
  {
   "cell_type": "code",
   "execution_count": 787,
   "id": "2b230805",
   "metadata": {},
   "outputs": [
    {
     "name": "stdout",
     "output_type": "stream",
     "text": [
      "4/4 [==============================] - 0s 499us/step - loss: 0.0717 - accuracy: 0.9800\n"
     ]
    },
    {
     "data": {
      "text/plain": [
       "[0.07174749672412872, 0.9800000190734863]"
      ]
     },
     "execution_count": 787,
     "metadata": {},
     "output_type": "execute_result"
    }
   ],
   "source": [
    "model.evaluate(X_val_accom_w, y_val_accom_e)"
   ]
  },
  {
   "cell_type": "code",
   "execution_count": 788,
   "id": "87156fb9",
   "metadata": {},
   "outputs": [
    {
     "data": {
      "image/png": "[encoded data removed]",
      "text/plain": [
       "<Figure size 864x360 with 2 Axes>"
      ]
     },
     "metadata": {},
     "output_type": "display_data"
    }
   ],
   "source": [
    "plot_history(history)"
   ]
  },
  {
   "cell_type": "code",
   "execution_count": 789,
   "id": "e533eac3",
   "metadata": {},
   "outputs": [],
   "source": [
    "# Load model weights from epoch with best validation accuracy\n",
    "model.load_weights(output_dir+\"/weights.06.hdf5\")"
   ]
  },
  {
   "cell_type": "code",
   "execution_count": 790,
   "id": "217b774b",
   "metadata": {},
   "outputs": [],
   "source": [
    "# Get predicted y values and predicted classes and convert original labels to integers\n",
    "y_pred_prob = model.predict(X_val_accom_w)\n",
    "y_pred_class = np.argmax(model.predict(X_val_accom_w), axis=-1)\n",
    "y_val_accom_integer = np.argmax(y_val_accom_e, axis=1)"
   ]
  },
  {
   "cell_type": "code",
   "execution_count": 791,
   "id": "3888e9b0",
   "metadata": {},
   "outputs": [
    {
     "name": "stdout",
     "output_type": "stream",
     "text": [
      "              precision    recall  f1-score   support\n",
      "\n",
      "           0       1.00      1.00      1.00        15\n",
      "           1       1.00      0.88      0.93        16\n",
      "           2       1.00      1.00      1.00        16\n",
      "           3       1.00      1.00      1.00        10\n",
      "           4       0.88      1.00      0.94        15\n",
      "           5       1.00      1.00      1.00        16\n",
      "           6       1.00      1.00      1.00        12\n",
      "\n",
      "    accuracy                           0.98       100\n",
      "   macro avg       0.98      0.98      0.98       100\n",
      "weighted avg       0.98      0.98      0.98       100\n",
      "\n"
     ]
    },
    {
     "data": {
      "image/png": "[encoded data removed]",
      "text/plain": [
       "<Figure size 576x432 with 2 Axes>"
      ]
     },
     "metadata": {},
     "output_type": "display_data"
    }
   ],
   "source": [
    "class_conf(y_val_accom_integer,y_pred_class)"
   ]
  },
  {
   "cell_type": "code",
   "execution_count": 979,
   "id": "5f845261",
   "metadata": {},
   "outputs": [
    {
     "data": {
      "text/html": [
       "<div>\n",
       "<style scoped>\n",
       "    .dataframe tbody tr th:only-of-type {\n",
       "        vertical-align: middle;\n",
       "    }\n",
       "\n",
       "    .dataframe tbody tr th {\n",
       "        vertical-align: top;\n",
       "    }\n",
       "\n",
       "    .dataframe thead th {\n",
       "        text-align: right;\n",
       "    }\n",
       "</style>\n",
       "<table border=\"1\" class=\"dataframe\">\n",
       "  <thead>\n",
       "    <tr style=\"text-align: right;\">\n",
       "      <th></th>\n",
       "      <th>Actual Class</th>\n",
       "      <th>Predicted Class</th>\n",
       "      <th>Actual Aspect</th>\n",
       "    </tr>\n",
       "  </thead>\n",
       "  <tbody>\n",
       "    <tr>\n",
       "      <th>0</th>\n",
       "      <td>6</td>\n",
       "      <td>6</td>\n",
       "      <td>Hotel</td>\n",
       "    </tr>\n",
       "    <tr>\n",
       "      <th>1</th>\n",
       "      <td>0</td>\n",
       "      <td>0</td>\n",
       "      <td>Entertainment</td>\n",
       "    </tr>\n",
       "    <tr>\n",
       "      <th>2</th>\n",
       "      <td>1</td>\n",
       "      <td>1</td>\n",
       "      <td>Food</td>\n",
       "    </tr>\n",
       "    <tr>\n",
       "      <th>3</th>\n",
       "      <td>2</td>\n",
       "      <td>2</td>\n",
       "      <td>Value</td>\n",
       "    </tr>\n",
       "    <tr>\n",
       "      <th>4</th>\n",
       "      <td>6</td>\n",
       "      <td>6</td>\n",
       "      <td>Room</td>\n",
       "    </tr>\n",
       "  </tbody>\n",
       "</table>\n",
       "</div>"
      ],
      "text/plain": [
       "   Actual Class  Predicted Class  Actual Aspect\n",
       "0             6                6          Hotel\n",
       "1             0                0  Entertainment\n",
       "2             1                1           Food\n",
       "3             2                2          Value\n",
       "4             6                6           Room"
      ]
     },
     "execution_count": 979,
     "metadata": {},
     "output_type": "execute_result"
    }
   ],
   "source": [
    "# Create dataframe with y pred probabilities, classes and y actual\n",
    "accom_pred = pd.DataFrame(list(zip(y_val_accom_integer, y_pred_class, y_val_accom)), columns=[\"Actual Class\", \"Predicted Class\",\"Actual Aspect\"])\n",
    "accom_pred.head()"
   ]
  },
  {
   "cell_type": "code",
   "execution_count": 898,
   "id": "81bf35f7",
   "metadata": {},
   "outputs": [
    {
     "data": {
      "text/html": [
       "<div>\n",
       "<style scoped>\n",
       "    .dataframe tbody tr th:only-of-type {\n",
       "        vertical-align: middle;\n",
       "    }\n",
       "\n",
       "    .dataframe tbody tr th {\n",
       "        vertical-align: top;\n",
       "    }\n",
       "\n",
       "    .dataframe thead th {\n",
       "        text-align: right;\n",
       "    }\n",
       "</style>\n",
       "<table border=\"1\" class=\"dataframe\">\n",
       "  <thead>\n",
       "    <tr style=\"text-align: right;\">\n",
       "      <th></th>\n",
       "      <th>Actual Class</th>\n",
       "      <th>Predicted Class</th>\n",
       "      <th>Actual Aspect</th>\n",
       "    </tr>\n",
       "  </thead>\n",
       "  <tbody>\n",
       "    <tr>\n",
       "      <th>17</th>\n",
       "      <td>1</td>\n",
       "      <td>4</td>\n",
       "      <td>Food</td>\n",
       "    </tr>\n",
       "    <tr>\n",
       "      <th>36</th>\n",
       "      <td>1</td>\n",
       "      <td>4</td>\n",
       "      <td>Food</td>\n",
       "    </tr>\n",
       "  </tbody>\n",
       "</table>\n",
       "</div>"
      ],
      "text/plain": [
       "    Actual Class  Predicted Class Actual Aspect\n",
       "17             1                4          Food\n",
       "36             1                4          Food"
      ]
     },
     "execution_count": 898,
     "metadata": {},
     "output_type": "execute_result"
    }
   ],
   "source": [
    "# Items not classified correctly\n",
    "accom_pred[accom_pred[\"Actual Class\"]!= accom_pred[\"Predicted Class\"]]"
   ]
  },
  {
   "cell_type": "markdown",
   "id": "383fa21b",
   "metadata": {},
   "source": [
    "The model predicted these as entertainment when they are both clearly referring to food aspects"
   ]
  },
  {
   "cell_type": "code",
   "execution_count": 899,
   "id": "83d3ece4",
   "metadata": {},
   "outputs": [
    {
     "data": {
      "text/plain": [
       "'steak'"
      ]
     },
     "execution_count": 899,
     "metadata": {},
     "output_type": "execute_result"
    }
   ],
   "source": [
    "X_val_accom.iloc[17]"
   ]
  },
  {
   "cell_type": "code",
   "execution_count": 900,
   "id": "5acdafed",
   "metadata": {},
   "outputs": [
    {
     "data": {
      "text/plain": [
       "'flavour'"
      ]
     },
     "execution_count": 900,
     "metadata": {},
     "output_type": "execute_result"
    }
   ],
   "source": [
    "X_val_accom.iloc[36]"
   ]
  },
  {
   "cell_type": "markdown",
   "id": "71414864",
   "metadata": {},
   "source": [
    "Analysis:\n",
    "\n",
    "There is no obvious reason for the misclassifications but there are only two out of the 100 validation set"
   ]
  },
  {
   "cell_type": "markdown",
   "id": "310d9fd1",
   "metadata": {},
   "source": [
    "# Section 5: Building a food aspect classifier"
   ]
  },
  {
   "cell_type": "markdown",
   "id": "3428925d",
   "metadata": {},
   "source": [
    "## Build model"
   ]
  },
  {
   "cell_type": "code",
   "execution_count": 1113,
   "id": "9d75a87a",
   "metadata": {},
   "outputs": [],
   "source": [
    "# Parameters\n",
    "input_dim = 6000\n",
    "output_dim = 16\n",
    "input_length = 15\n",
    "batch_size = 16\n",
    "epochs = 50\n",
    "class_weights = {0:cw_food[0],1:cw_food[1],2:cw_food[2],3:cw_food[3],4:cw_food[4],5:cw_food[5]}"
   ]
  },
  {
   "cell_type": "code",
   "execution_count": 1114,
   "id": "e04c1e46",
   "metadata": {},
   "outputs": [],
   "source": [
    "# Define model - best performing sentiment model as a starting point\n",
    "model2 = Sequential()\n",
    "model2.add(Embedding(input_dim = input_dim, output_dim = output_dim, input_length=input_length))\n",
    "model2.add(Flatten())\n",
    "model2.add(Dense(512, activation='relu', input_shape=(1600,)))\n",
    "model2.add(Dense(256,activation = 'relu'))\n",
    "model2.add(Dense(128,activation = 'relu'))\n",
    "model2.add(Dense(6, activation='softmax'))"
   ]
  },
  {
   "cell_type": "code",
   "execution_count": 1115,
   "id": "f5ce48c6",
   "metadata": {},
   "outputs": [
    {
     "name": "stdout",
     "output_type": "stream",
     "text": [
      "Model: \"sequential_28\"\n",
      "_________________________________________________________________\n",
      "Layer (type)                 Output Shape              Param #   \n",
      "=================================================================\n",
      "embedding_28 (Embedding)     (None, 15, 16)            96000     \n",
      "_________________________________________________________________\n",
      "flatten_28 (Flatten)         (None, 240)               0         \n",
      "_________________________________________________________________\n",
      "dense_112 (Dense)            (None, 512)               123392    \n",
      "_________________________________________________________________\n",
      "dense_113 (Dense)            (None, 256)               131328    \n",
      "_________________________________________________________________\n",
      "dense_114 (Dense)            (None, 128)               32896     \n",
      "_________________________________________________________________\n",
      "dense_115 (Dense)            (None, 6)                 774       \n",
      "=================================================================\n",
      "Total params: 384,390\n",
      "Trainable params: 384,390\n",
      "Non-trainable params: 0\n",
      "_________________________________________________________________\n",
      "None\n"
     ]
    }
   ],
   "source": [
    "model2.compile(optimizer='adam', loss='categorical_crossentropy', metrics=['accuracy'])\n",
    "print(model2.summary())"
   ]
  },
  {
   "cell_type": "code",
   "execution_count": 1116,
   "id": "864eed06",
   "metadata": {},
   "outputs": [],
   "source": [
    "output_dir = out('model_output/FoodAspectModels1')\n",
    "callbacks = call(output_dir)"
   ]
  },
  {
   "cell_type": "code",
   "execution_count": 1117,
   "id": "4a342f35",
   "metadata": {},
   "outputs": [
    {
     "name": "stdout",
     "output_type": "stream",
     "text": [
      "Epoch 1/50\n",
      "119/119 - 0s - loss: 1.0498 - accuracy: 0.6138 - val_loss: 0.2404 - val_accuracy: 0.9340\n",
      "Epoch 2/50\n",
      "119/119 - 0s - loss: 0.2059 - accuracy: 0.9349 - val_loss: 0.1838 - val_accuracy: 0.9528\n",
      "Epoch 3/50\n",
      "119/119 - 0s - loss: 0.0930 - accuracy: 0.9757 - val_loss: 0.2134 - val_accuracy: 0.9434\n",
      "Epoch 4/50\n",
      "119/119 - 0s - loss: 0.0585 - accuracy: 0.9820 - val_loss: 0.2558 - val_accuracy: 0.9434\n",
      "Epoch 5/50\n",
      "119/119 - 0s - loss: 0.0423 - accuracy: 0.9915 - val_loss: 0.2458 - val_accuracy: 0.9528\n",
      "Epoch 6/50\n",
      "119/119 - 0s - loss: 0.0396 - accuracy: 0.9921 - val_loss: 0.3346 - val_accuracy: 0.9528\n",
      "Epoch 7/50\n",
      "119/119 - 0s - loss: 0.0330 - accuracy: 0.9910 - val_loss: 0.3150 - val_accuracy: 0.9528\n"
     ]
    }
   ],
   "source": [
    "# Model using keras embeddings\n",
    "history2 = model2.fit(X_train_food_w,y_train_food_e,\n",
    "                    epochs=epochs,\n",
    "                    verbose=2,\n",
    "                    callbacks = callbacks,\n",
    "                    validation_data=(X_val_food_w, y_val_food_e),\n",
    "                    batch_size=batch_size,\n",
    "                    class_weight = class_weights)"
   ]
  },
  {
   "cell_type": "code",
   "execution_count": 1118,
   "id": "71dc6d16",
   "metadata": {},
   "outputs": [],
   "source": [
    "# Load model weights from epoch with best validation accuracy\n",
    "model2.load_weights(output_dir+\"/weights.02.hdf5\")"
   ]
  },
  {
   "cell_type": "markdown",
   "id": "b83aa40e",
   "metadata": {},
   "source": [
    "## Evaluate model"
   ]
  },
  {
   "cell_type": "code",
   "execution_count": 1119,
   "id": "2371aa10",
   "metadata": {},
   "outputs": [
    {
     "name": "stdout",
     "output_type": "stream",
     "text": [
      "60/60 [==============================] - 0s 465us/step - loss: 0.0904 - accuracy: 0.9810\n",
      "[0.09037983417510986, 0.9809523820877075]\n",
      "4/4 [==============================] - 0s 740us/step - loss: 0.1838 - accuracy: 0.9528\n",
      "[0.18376374244689941, 0.9528301954269409]\n"
     ]
    }
   ],
   "source": [
    "print(model2.evaluate(X_train_food_w, y_train_food_e))\n",
    "print(model2.evaluate(X_val_food_w, y_val_food_e))"
   ]
  },
  {
   "cell_type": "code",
   "execution_count": 1120,
   "id": "a5f28a3e",
   "metadata": {},
   "outputs": [
    {
     "data": {
      "image/png": "[encoded data removed]",
      "text/plain": [
       "<Figure size 864x360 with 2 Axes>"
      ]
     },
     "metadata": {},
     "output_type": "display_data"
    }
   ],
   "source": [
    "plot_history(history2)"
   ]
  },
  {
   "cell_type": "code",
   "execution_count": 1121,
   "id": "33db9e87",
   "metadata": {},
   "outputs": [],
   "source": [
    "# Get predicted y values and predicted classes and convert original labels to integers\n",
    "y_pred_prob2 = model2.predict(X_val_food_w)\n",
    "y_pred_class2 = np.argmax(model2.predict(X_val_food_w), axis=-1)\n",
    "y_val_food_integer = np.argmax(y_val_food_e, axis=1)"
   ]
  },
  {
   "cell_type": "code",
   "execution_count": 1122,
   "id": "7e3eed7a",
   "metadata": {},
   "outputs": [
    {
     "name": "stdout",
     "output_type": "stream",
     "text": [
      "              precision    recall  f1-score   support\n",
      "\n",
      "           0       1.00      1.00      1.00        18\n",
      "           1       0.84      0.94      0.89        17\n",
      "           2       0.95      1.00      0.97        18\n",
      "           3       1.00      1.00      1.00        17\n",
      "           4       1.00      0.94      0.97        18\n",
      "           5       0.94      0.83      0.88        18\n",
      "\n",
      "    accuracy                           0.95       106\n",
      "   macro avg       0.95      0.95      0.95       106\n",
      "weighted avg       0.96      0.95      0.95       106\n",
      "\n"
     ]
    },
    {
     "data": {
      "image/png": "[encoded data removed]",
      "text/plain": [
       "<Figure size 576x432 with 2 Axes>"
      ]
     },
     "metadata": {},
     "output_type": "display_data"
    }
   ],
   "source": [
    "class_conf(y_val_food_integer,y_pred_class2)"
   ]
  },
  {
   "cell_type": "code",
   "execution_count": 1123,
   "id": "c604bfc4",
   "metadata": {},
   "outputs": [
    {
     "data": {
      "text/html": [
       "<div>\n",
       "<style scoped>\n",
       "    .dataframe tbody tr th:only-of-type {\n",
       "        vertical-align: middle;\n",
       "    }\n",
       "\n",
       "    .dataframe tbody tr th {\n",
       "        vertical-align: top;\n",
       "    }\n",
       "\n",
       "    .dataframe thead th {\n",
       "        text-align: right;\n",
       "    }\n",
       "</style>\n",
       "<table border=\"1\" class=\"dataframe\">\n",
       "  <thead>\n",
       "    <tr style=\"text-align: right;\">\n",
       "      <th></th>\n",
       "      <th>Actual Class</th>\n",
       "      <th>Predicted Class</th>\n",
       "      <th>Actual Aspect</th>\n",
       "    </tr>\n",
       "  </thead>\n",
       "  <tbody>\n",
       "    <tr>\n",
       "      <th>0</th>\n",
       "      <td>2</td>\n",
       "      <td>2</td>\n",
       "      <td>Menu Choice</td>\n",
       "    </tr>\n",
       "    <tr>\n",
       "      <th>1</th>\n",
       "      <td>2</td>\n",
       "      <td>2</td>\n",
       "      <td>Menu Choice</td>\n",
       "    </tr>\n",
       "    <tr>\n",
       "      <th>2</th>\n",
       "      <td>4</td>\n",
       "      <td>4</td>\n",
       "      <td>Value</td>\n",
       "    </tr>\n",
       "    <tr>\n",
       "      <th>3</th>\n",
       "      <td>5</td>\n",
       "      <td>5</td>\n",
       "      <td>Visit Exp</td>\n",
       "    </tr>\n",
       "    <tr>\n",
       "      <th>4</th>\n",
       "      <td>1</td>\n",
       "      <td>1</td>\n",
       "      <td>Meal Exp</td>\n",
       "    </tr>\n",
       "    <tr>\n",
       "      <th>5</th>\n",
       "      <td>2</td>\n",
       "      <td>2</td>\n",
       "      <td>Menu Choice</td>\n",
       "    </tr>\n",
       "    <tr>\n",
       "      <th>6</th>\n",
       "      <td>3</td>\n",
       "      <td>3</td>\n",
       "      <td>Staff&amp;Service</td>\n",
       "    </tr>\n",
       "    <tr>\n",
       "      <th>7</th>\n",
       "      <td>0</td>\n",
       "      <td>0</td>\n",
       "      <td>Food Quality</td>\n",
       "    </tr>\n",
       "    <tr>\n",
       "      <th>8</th>\n",
       "      <td>3</td>\n",
       "      <td>3</td>\n",
       "      <td>Staff&amp;Service</td>\n",
       "    </tr>\n",
       "    <tr>\n",
       "      <th>9</th>\n",
       "      <td>2</td>\n",
       "      <td>2</td>\n",
       "      <td>Menu Choice</td>\n",
       "    </tr>\n",
       "  </tbody>\n",
       "</table>\n",
       "</div>"
      ],
      "text/plain": [
       "   Actual Class  Predicted Class  Actual Aspect\n",
       "0             2                2    Menu Choice\n",
       "1             2                2    Menu Choice\n",
       "2             4                4          Value\n",
       "3             5                5      Visit Exp\n",
       "4             1                1       Meal Exp\n",
       "5             2                2    Menu Choice\n",
       "6             3                3  Staff&Service\n",
       "7             0                0   Food Quality\n",
       "8             3                3  Staff&Service\n",
       "9             2                2    Menu Choice"
      ]
     },
     "execution_count": 1123,
     "metadata": {},
     "output_type": "execute_result"
    }
   ],
   "source": [
    "# Create dataframe with y pred probabilities, classes and y actual\n",
    "food_pred = pd.DataFrame(list(zip(y_val_food_integer, y_pred_class2, y_val_food)), columns=[\"Actual Class\", \"Predicted Class\",\"Actual Aspect\"])\n",
    "food_pred.head(10)"
   ]
  },
  {
   "cell_type": "code",
   "execution_count": 1124,
   "id": "86f2b7b3",
   "metadata": {},
   "outputs": [
    {
     "data": {
      "text/html": [
       "<div>\n",
       "<style scoped>\n",
       "    .dataframe tbody tr th:only-of-type {\n",
       "        vertical-align: middle;\n",
       "    }\n",
       "\n",
       "    .dataframe tbody tr th {\n",
       "        vertical-align: top;\n",
       "    }\n",
       "\n",
       "    .dataframe thead th {\n",
       "        text-align: right;\n",
       "    }\n",
       "</style>\n",
       "<table border=\"1\" class=\"dataframe\">\n",
       "  <thead>\n",
       "    <tr style=\"text-align: right;\">\n",
       "      <th></th>\n",
       "      <th>Actual Class</th>\n",
       "      <th>Predicted Class</th>\n",
       "      <th>Actual Aspect</th>\n",
       "    </tr>\n",
       "  </thead>\n",
       "  <tbody>\n",
       "    <tr>\n",
       "      <th>16</th>\n",
       "      <td>1</td>\n",
       "      <td>5</td>\n",
       "      <td>Meal Exp</td>\n",
       "    </tr>\n",
       "    <tr>\n",
       "      <th>23</th>\n",
       "      <td>5</td>\n",
       "      <td>1</td>\n",
       "      <td>Visit Exp</td>\n",
       "    </tr>\n",
       "    <tr>\n",
       "      <th>56</th>\n",
       "      <td>4</td>\n",
       "      <td>2</td>\n",
       "      <td>Value</td>\n",
       "    </tr>\n",
       "    <tr>\n",
       "      <th>72</th>\n",
       "      <td>5</td>\n",
       "      <td>1</td>\n",
       "      <td>Visit Exp</td>\n",
       "    </tr>\n",
       "    <tr>\n",
       "      <th>84</th>\n",
       "      <td>5</td>\n",
       "      <td>1</td>\n",
       "      <td>Visit Exp</td>\n",
       "    </tr>\n",
       "  </tbody>\n",
       "</table>\n",
       "</div>"
      ],
      "text/plain": [
       "    Actual Class  Predicted Class Actual Aspect\n",
       "16             1                5      Meal Exp\n",
       "23             5                1     Visit Exp\n",
       "56             4                2         Value\n",
       "72             5                1     Visit Exp\n",
       "84             5                1     Visit Exp"
      ]
     },
     "execution_count": 1124,
     "metadata": {},
     "output_type": "execute_result"
    }
   ],
   "source": [
    "# Items not classified correctly\n",
    "food_pred[food_pred[\"Actual Class\"]!= food_pred[\"Predicted Class\"]]"
   ]
  },
  {
   "cell_type": "markdown",
   "id": "ae5920c5",
   "metadata": {},
   "source": [
    "## Analysis of the food model results"
   ]
  },
  {
   "cell_type": "code",
   "execution_count": 1126,
   "id": "1be0d3b9",
   "metadata": {},
   "outputs": [
    {
     "data": {
      "text/plain": [
       "'bank holiday meal'"
      ]
     },
     "execution_count": 1126,
     "metadata": {},
     "output_type": "execute_result"
    }
   ],
   "source": [
    "X_val_food.iloc[16]"
   ]
  },
  {
   "cell_type": "code",
   "execution_count": 1127,
   "id": "52651cab",
   "metadata": {},
   "outputs": [
    {
     "data": {
      "text/plain": [
       "'expectation'"
      ]
     },
     "execution_count": 1127,
     "metadata": {},
     "output_type": "execute_result"
    }
   ],
   "source": [
    "X_val_food.iloc[23]"
   ]
  },
  {
   "cell_type": "code",
   "execution_count": 1128,
   "id": "7e8d2b49",
   "metadata": {},
   "outputs": [
    {
     "data": {
      "text/plain": [
       "'meal express lunch menu value money'"
      ]
     },
     "execution_count": 1128,
     "metadata": {},
     "output_type": "execute_result"
    }
   ],
   "source": [
    "X_val_food.iloc[56]"
   ]
  },
  {
   "cell_type": "code",
   "execution_count": 1129,
   "id": "9b791048",
   "metadata": {},
   "outputs": [
    {
     "data": {
      "text/plain": [
       "'place stay'"
      ]
     },
     "execution_count": 1129,
     "metadata": {},
     "output_type": "execute_result"
    }
   ],
   "source": [
    "X_val_food.iloc[72]"
   ]
  },
  {
   "cell_type": "code",
   "execution_count": 1130,
   "id": "743e9452",
   "metadata": {},
   "outputs": [
    {
     "data": {
      "text/plain": [
       "'walk revisit'"
      ]
     },
     "execution_count": 1130,
     "metadata": {},
     "output_type": "execute_result"
    }
   ],
   "source": [
    "X_val_food.iloc[84]"
   ]
  },
  {
   "cell_type": "markdown",
   "id": "2ed56a8e",
   "metadata": {},
   "source": [
    "The main problem appears to be the classification between 'meal experience' and 'visit experience'. These are very close categories and the model struggles to classify between them. If the categories are combined the model may perform a little better. In fact there is little benefit in splitting these things anyway since the purpose of the visit is the meal itself and if one is bad the other is likely to be also."
   ]
  },
  {
   "cell_type": "markdown",
   "id": "7118a0e8",
   "metadata": {},
   "source": [
    "## Recategorise the aspects and re-run the model"
   ]
  },
  {
   "cell_type": "code",
   "execution_count": 1135,
   "id": "e1e36903",
   "metadata": {},
   "outputs": [
    {
     "data": {
      "text/plain": [
       "Meal Exp         700\n",
       "Menu Choice      351\n",
       "Food Quality     350\n",
       "Staff&Service    350\n",
       "Value            350\n",
       "Name: Aspect, dtype: int64"
      ]
     },
     "execution_count": 1135,
     "metadata": {},
     "output_type": "execute_result"
    }
   ],
   "source": [
    "# Combine the two categories\n",
    "df_food[\"Aspect\"] = df_food[\"Aspect\"].replace(\"Visit Exp\",\"Meal Exp\")\n",
    "df_food.Aspect.value_counts()"
   ]
  },
  {
   "cell_type": "code",
   "execution_count": 1137,
   "id": "b3808289",
   "metadata": {},
   "outputs": [
    {
     "data": {
      "text/plain": [
       "(350, 9)"
      ]
     },
     "execution_count": 1137,
     "metadata": {},
     "output_type": "execute_result"
    }
   ],
   "source": [
    "# Take random 350 items from this combined category\n",
    "meal = df_food[df_food[\"Aspect\"] == \"Meal Exp\"]\n",
    "meal = meal.sample(n = 350)\n",
    "meal.shape"
   ]
  },
  {
   "cell_type": "code",
   "execution_count": 1147,
   "id": "ca362c08",
   "metadata": {},
   "outputs": [
    {
     "data": {
      "text/html": [
       "<div>\n",
       "<style scoped>\n",
       "    .dataframe tbody tr th:only-of-type {\n",
       "        vertical-align: middle;\n",
       "    }\n",
       "\n",
       "    .dataframe tbody tr th {\n",
       "        vertical-align: top;\n",
       "    }\n",
       "\n",
       "    .dataframe thead th {\n",
       "        text-align: right;\n",
       "    }\n",
       "</style>\n",
       "<table border=\"1\" class=\"dataframe\">\n",
       "  <thead>\n",
       "    <tr style=\"text-align: right;\">\n",
       "      <th></th>\n",
       "      <th>OrigInd</th>\n",
       "      <th>Cleaned</th>\n",
       "      <th>Noun Phrases</th>\n",
       "      <th>Nouns</th>\n",
       "      <th>Sentiment</th>\n",
       "      <th>Aspect</th>\n",
       "      <th>Orig Aspect</th>\n",
       "      <th>Polarity</th>\n",
       "    </tr>\n",
       "  </thead>\n",
       "  <tbody>\n",
       "    <tr>\n",
       "      <th>0</th>\n",
       "      <td>56424</td>\n",
       "      <td>really good quality sausage nice friendly welc...</td>\n",
       "      <td>good quality sausage</td>\n",
       "      <td>quality sausage</td>\n",
       "      <td>0.4404</td>\n",
       "      <td>Food Quality</td>\n",
       "      <td>Quality</td>\n",
       "      <td>0</td>\n",
       "    </tr>\n",
       "    <tr>\n",
       "      <th>1</th>\n",
       "      <td>48050</td>\n",
       "      <td>quality breakfast river fabulous breakfast nex...</td>\n",
       "      <td>quality breakfast river fabulous breakfast</td>\n",
       "      <td>quality breakfast river breakfast</td>\n",
       "      <td>0.5267</td>\n",
       "      <td>Food Quality</td>\n",
       "      <td>Quality</td>\n",
       "      <td>0</td>\n",
       "    </tr>\n",
       "  </tbody>\n",
       "</table>\n",
       "</div>"
      ],
      "text/plain": [
       "   OrigInd                                            Cleaned  \\\n",
       "0    56424  really good quality sausage nice friendly welc...   \n",
       "1    48050  quality breakfast river fabulous breakfast nex...   \n",
       "\n",
       "                                 Noun Phrases  \\\n",
       "0                        good quality sausage   \n",
       "1  quality breakfast river fabulous breakfast   \n",
       "\n",
       "                               Nouns  Sentiment        Aspect Orig Aspect  \\\n",
       "0                    quality sausage     0.4404  Food Quality     Quality   \n",
       "1  quality breakfast river breakfast     0.5267  Food Quality     Quality   \n",
       "\n",
       "   Polarity  \n",
       "0         0  \n",
       "1         0  "
      ]
     },
     "execution_count": 1147,
     "metadata": {},
     "output_type": "execute_result"
    }
   ],
   "source": [
    "# Create new dataframe dropping the two aspect categories no longer wanted and then concat with the new combined category\n",
    "aspect_list = [\"Menu Choice\",\"Food Quality\",\"Staff&Service\",\"Value\"]\n",
    "df_food_new = df_food[df_food[\"Aspect\"].isin(aspect_list)]\n",
    "df_food_new = pd.concat([df_food_new,meal],axis = 0,ignore_index = True)\n",
    "df_food_new.drop(columns = \"Unnamed: 9\", axis = 1, inplace = True)\n",
    "df_food_new.head(2)"
   ]
  },
  {
   "cell_type": "code",
   "execution_count": 1150,
   "id": "8eb1fefa",
   "metadata": {},
   "outputs": [],
   "source": [
    "# Define X and y, train, test, split and encode X and y variables\n",
    "X_food_new,y_food_new = XY(df_food_new)\n",
    "X_train_food2,X_val_food2,X_test_food2,y_train_food2,y_val_food2,y_test_food2 = train_test(X_food_new,y_food_new)\n",
    "y_train_food_e2, y_val_food_e2, y_test_food_e2 = bin(y_train_food2, y_val_food2, y_test_food2)\n",
    "X_train_food_w2, X_val_food_w2, X_test_food_w2 = tok(X_train_food2, X_val_food2, X_test_food2)"
   ]
  },
  {
   "cell_type": "code",
   "execution_count": 1165,
   "id": "6854dc32",
   "metadata": {},
   "outputs": [
    {
     "name": "stdout",
     "output_type": "stream",
     "text": [
      "Model: \"sequential_30\"\n",
      "_________________________________________________________________\n",
      "Layer (type)                 Output Shape              Param #   \n",
      "=================================================================\n",
      "embedding_30 (Embedding)     (None, 15, 16)            96000     \n",
      "_________________________________________________________________\n",
      "flatten_30 (Flatten)         (None, 240)               0         \n",
      "_________________________________________________________________\n",
      "dense_120 (Dense)            (None, 512)               123392    \n",
      "_________________________________________________________________\n",
      "dense_121 (Dense)            (None, 256)               131328    \n",
      "_________________________________________________________________\n",
      "dense_122 (Dense)            (None, 128)               32896     \n",
      "_________________________________________________________________\n",
      "dense_123 (Dense)            (None, 5)                 645       \n",
      "=================================================================\n",
      "Total params: 384,261\n",
      "Trainable params: 384,261\n",
      "Non-trainable params: 0\n",
      "_________________________________________________________________\n",
      "None\n"
     ]
    }
   ],
   "source": [
    "# Define model - set output to only 5 categories\n",
    "\n",
    "model3 = Sequential()\n",
    "model3.add(Embedding(input_dim = input_dim, output_dim = output_dim, input_length=input_length))\n",
    "model3.add(Flatten())\n",
    "model3.add(Dense(512, activation='relu', input_shape=(1600,)))\n",
    "model3.add(Dense(256,activation = 'relu'))\n",
    "model3.add(Dense(128,activation = 'relu'))\n",
    "model3.add(Dense(5, activation='softmax'))\n",
    "\n",
    "model3.compile(optimizer='adam', loss='categorical_crossentropy', metrics=['accuracy'])\n",
    "print(model3.summary())"
   ]
  },
  {
   "cell_type": "code",
   "execution_count": 1152,
   "id": "b5d5c04c",
   "metadata": {},
   "outputs": [],
   "source": [
    "# Set output directory and callbacks\n",
    "output_dir = out('model_output/FoodAspectModels2')\n",
    "callbacks = call(output_dir)"
   ]
  },
  {
   "cell_type": "code",
   "execution_count": 1153,
   "id": "7ce83040",
   "metadata": {},
   "outputs": [
    {
     "name": "stdout",
     "output_type": "stream",
     "text": [
      "Epoch 1/50\n",
      "99/99 - 0s - loss: 0.8896 - accuracy: 0.6902 - val_loss: 0.1491 - val_accuracy: 0.9659\n",
      "Epoch 2/50\n",
      "99/99 - 0s - loss: 0.1362 - accuracy: 0.9606 - val_loss: 0.0398 - val_accuracy: 0.9886\n",
      "Epoch 3/50\n",
      "99/99 - 0s - loss: 0.0739 - accuracy: 0.9765 - val_loss: 0.1099 - val_accuracy: 0.9773\n",
      "Epoch 4/50\n",
      "99/99 - 0s - loss: 0.0503 - accuracy: 0.9848 - val_loss: 0.0332 - val_accuracy: 0.9886\n",
      "Epoch 5/50\n",
      "99/99 - 0s - loss: 0.0386 - accuracy: 0.9917 - val_loss: 0.0127 - val_accuracy: 1.0000\n",
      "Epoch 6/50\n",
      "99/99 - 0s - loss: 0.0227 - accuracy: 0.9956 - val_loss: 0.0960 - val_accuracy: 0.9773\n",
      "Epoch 7/50\n",
      "99/99 - 0s - loss: 0.0290 - accuracy: 0.9924 - val_loss: 0.0091 - val_accuracy: 1.0000\n",
      "Epoch 8/50\n",
      "99/99 - 0s - loss: 0.0257 - accuracy: 0.9930 - val_loss: 0.0302 - val_accuracy: 0.9773\n",
      "Epoch 9/50\n",
      "99/99 - 0s - loss: 0.0218 - accuracy: 0.9962 - val_loss: 0.0289 - val_accuracy: 0.9886\n",
      "Epoch 10/50\n",
      "99/99 - 0s - loss: 0.0201 - accuracy: 0.9956 - val_loss: 0.0096 - val_accuracy: 1.0000\n",
      "Epoch 11/50\n",
      "99/99 - 0s - loss: 0.0238 - accuracy: 0.9937 - val_loss: 0.0514 - val_accuracy: 0.9773\n",
      "Epoch 12/50\n",
      "99/99 - 0s - loss: 0.0211 - accuracy: 0.9937 - val_loss: 0.0142 - val_accuracy: 1.0000\n"
     ]
    }
   ],
   "source": [
    "# Run model\n",
    "\n",
    "history3 = model3.fit(X_train_food_w2,y_train_food_e2,\n",
    "                    epochs=epochs,\n",
    "                    verbose=2,\n",
    "                    callbacks = callbacks,\n",
    "                    validation_data=(X_val_food_w2, y_val_food_e2),\n",
    "                    batch_size=batch_size,\n",
    "                     )"
   ]
  },
  {
   "cell_type": "code",
   "execution_count": 1166,
   "id": "27301d3a",
   "metadata": {},
   "outputs": [],
   "source": [
    "# Load model weights from epoch with best validation accuracy\n",
    "model3.load_weights(output_dir+\"/weights.05.hdf5\")"
   ]
  },
  {
   "cell_type": "code",
   "execution_count": 1167,
   "id": "d135ce61",
   "metadata": {},
   "outputs": [
    {
     "name": "stdout",
     "output_type": "stream",
     "text": [
      "50/50 [==============================] - 0s 443us/step - loss: 0.0190 - accuracy: 0.9956\n",
      "[0.019030462950468063, 0.995555579662323]\n",
      "3/3 [==============================] - 0s 666us/step - loss: 0.0127 - accuracy: 1.0000\n",
      "[0.012695959769189358, 1.0]\n"
     ]
    }
   ],
   "source": [
    "print(model3.evaluate(X_train_food_w2, y_train_food_e2))\n",
    "print(model3.evaluate(X_val_food_w2, y_val_food_e2))"
   ]
  },
  {
   "cell_type": "code",
   "execution_count": 1168,
   "id": "f54e0706",
   "metadata": {},
   "outputs": [
    {
     "data": {
      "image/png": "[encoded data removed]",
      "text/plain": [
       "<Figure size 864x360 with 2 Axes>"
      ]
     },
     "metadata": {},
     "output_type": "display_data"
    }
   ],
   "source": [
    "plot_history(history3)"
   ]
  },
  {
   "cell_type": "code",
   "execution_count": 1169,
   "id": "c661a153",
   "metadata": {},
   "outputs": [],
   "source": [
    "# Get predicted y values and predicted classes and convert original labels to integers\n",
    "y_pred_prob3 = model3.predict(X_val_food_w2)\n",
    "y_pred_class3 = np.argmax(model3.predict(X_val_food_w2), axis=-1)\n",
    "y_val_food_integer = np.argmax(y_val_food_e2, axis=1)"
   ]
  },
  {
   "cell_type": "code",
   "execution_count": 1170,
   "id": "519a9591",
   "metadata": {},
   "outputs": [
    {
     "name": "stdout",
     "output_type": "stream",
     "text": [
      "              precision    recall  f1-score   support\n",
      "\n",
      "           0       1.00      1.00      1.00        17\n",
      "           1       1.00      1.00      1.00        17\n",
      "           2       1.00      1.00      1.00        18\n",
      "           3       1.00      1.00      1.00        18\n",
      "           4       1.00      1.00      1.00        18\n",
      "\n",
      "    accuracy                           1.00        88\n",
      "   macro avg       1.00      1.00      1.00        88\n",
      "weighted avg       1.00      1.00      1.00        88\n",
      "\n"
     ]
    },
    {
     "data": {
      "image/png": "[encoded data removed]",
      "text/plain": [
       "<Figure size 576x432 with 2 Axes>"
      ]
     },
     "metadata": {},
     "output_type": "display_data"
    }
   ],
   "source": [
    "class_conf(y_val_food_integer,y_pred_class3)"
   ]
  },
  {
   "cell_type": "code",
   "execution_count": 1171,
   "id": "8d6061c4",
   "metadata": {},
   "outputs": [
    {
     "data": {
      "text/html": [
       "<div>\n",
       "<style scoped>\n",
       "    .dataframe tbody tr th:only-of-type {\n",
       "        vertical-align: middle;\n",
       "    }\n",
       "\n",
       "    .dataframe tbody tr th {\n",
       "        vertical-align: top;\n",
       "    }\n",
       "\n",
       "    .dataframe thead th {\n",
       "        text-align: right;\n",
       "    }\n",
       "</style>\n",
       "<table border=\"1\" class=\"dataframe\">\n",
       "  <thead>\n",
       "    <tr style=\"text-align: right;\">\n",
       "      <th></th>\n",
       "      <th>Actual Class</th>\n",
       "      <th>Predicted Class</th>\n",
       "      <th>Actual Aspect</th>\n",
       "    </tr>\n",
       "  </thead>\n",
       "  <tbody>\n",
       "    <tr>\n",
       "      <th>0</th>\n",
       "      <td>0</td>\n",
       "      <td>0</td>\n",
       "      <td>Food Quality</td>\n",
       "    </tr>\n",
       "    <tr>\n",
       "      <th>1</th>\n",
       "      <td>3</td>\n",
       "      <td>3</td>\n",
       "      <td>Staff&amp;Service</td>\n",
       "    </tr>\n",
       "    <tr>\n",
       "      <th>2</th>\n",
       "      <td>1</td>\n",
       "      <td>1</td>\n",
       "      <td>Meal Exp</td>\n",
       "    </tr>\n",
       "    <tr>\n",
       "      <th>3</th>\n",
       "      <td>2</td>\n",
       "      <td>2</td>\n",
       "      <td>Menu Choice</td>\n",
       "    </tr>\n",
       "    <tr>\n",
       "      <th>4</th>\n",
       "      <td>3</td>\n",
       "      <td>3</td>\n",
       "      <td>Staff&amp;Service</td>\n",
       "    </tr>\n",
       "    <tr>\n",
       "      <th>5</th>\n",
       "      <td>3</td>\n",
       "      <td>3</td>\n",
       "      <td>Staff&amp;Service</td>\n",
       "    </tr>\n",
       "    <tr>\n",
       "      <th>6</th>\n",
       "      <td>4</td>\n",
       "      <td>4</td>\n",
       "      <td>Value</td>\n",
       "    </tr>\n",
       "    <tr>\n",
       "      <th>7</th>\n",
       "      <td>1</td>\n",
       "      <td>1</td>\n",
       "      <td>Meal Exp</td>\n",
       "    </tr>\n",
       "    <tr>\n",
       "      <th>8</th>\n",
       "      <td>0</td>\n",
       "      <td>0</td>\n",
       "      <td>Food Quality</td>\n",
       "    </tr>\n",
       "    <tr>\n",
       "      <th>9</th>\n",
       "      <td>3</td>\n",
       "      <td>3</td>\n",
       "      <td>Staff&amp;Service</td>\n",
       "    </tr>\n",
       "  </tbody>\n",
       "</table>\n",
       "</div>"
      ],
      "text/plain": [
       "   Actual Class  Predicted Class  Actual Aspect\n",
       "0             0                0   Food Quality\n",
       "1             3                3  Staff&Service\n",
       "2             1                1       Meal Exp\n",
       "3             2                2    Menu Choice\n",
       "4             3                3  Staff&Service\n",
       "5             3                3  Staff&Service\n",
       "6             4                4          Value\n",
       "7             1                1       Meal Exp\n",
       "8             0                0   Food Quality\n",
       "9             3                3  Staff&Service"
      ]
     },
     "execution_count": 1171,
     "metadata": {},
     "output_type": "execute_result"
    }
   ],
   "source": [
    "# Create dataframe with y pred probabilities, classes and y actual\n",
    "food_pred2 = pd.DataFrame(list(zip(y_val_food_integer, y_pred_class3, y_val_food2)), columns=[\"Actual Class\", \"Predicted Class\",\"Actual Aspect\"])\n",
    "food_pred2.head(10)"
   ]
  },
  {
   "cell_type": "code",
   "execution_count": 1172,
   "id": "76cf0ead",
   "metadata": {},
   "outputs": [
    {
     "data": {
      "text/html": [
       "<div>\n",
       "<style scoped>\n",
       "    .dataframe tbody tr th:only-of-type {\n",
       "        vertical-align: middle;\n",
       "    }\n",
       "\n",
       "    .dataframe tbody tr th {\n",
       "        vertical-align: top;\n",
       "    }\n",
       "\n",
       "    .dataframe thead th {\n",
       "        text-align: right;\n",
       "    }\n",
       "</style>\n",
       "<table border=\"1\" class=\"dataframe\">\n",
       "  <thead>\n",
       "    <tr style=\"text-align: right;\">\n",
       "      <th></th>\n",
       "      <th>Actual Class</th>\n",
       "      <th>Predicted Class</th>\n",
       "      <th>Actual Aspect</th>\n",
       "    </tr>\n",
       "  </thead>\n",
       "  <tbody>\n",
       "  </tbody>\n",
       "</table>\n",
       "</div>"
      ],
      "text/plain": [
       "Empty DataFrame\n",
       "Columns: [Actual Class, Predicted Class, Actual Aspect]\n",
       "Index: []"
      ]
     },
     "execution_count": 1172,
     "metadata": {},
     "output_type": "execute_result"
    }
   ],
   "source": [
    "# Items not classified correctly\n",
    "food_pred2[food_pred2[\"Actual Class\"]!= food_pred2[\"Predicted Class\"]]"
   ]
  },
  {
   "cell_type": "markdown",
   "id": "ce3b8a56",
   "metadata": {},
   "source": [
    "Combining the aspects of Visit Experience and Meal Experience has improved the prediction with the model to 100%"
   ]
  },
  {
   "cell_type": "markdown",
   "id": "e3601fec",
   "metadata": {},
   "source": [
    "# Section 6: Building an attraction model"
   ]
  },
  {
   "cell_type": "markdown",
   "id": "bdfafd01",
   "metadata": {},
   "source": [
    "## Build a model"
   ]
  },
  {
   "cell_type": "code",
   "execution_count": null,
   "id": "d6c3c918",
   "metadata": {},
   "outputs": [],
   "source": []
  },
  {
   "cell_type": "code",
   "execution_count": null,
   "id": "fc467868",
   "metadata": {},
   "outputs": [],
   "source": []
  },
  {
   "cell_type": "code",
   "execution_count": null,
   "id": "f3173cff",
   "metadata": {},
   "outputs": [],
   "source": []
  },
  {
   "cell_type": "code",
   "execution_count": null,
   "id": "e795bddb",
   "metadata": {},
   "outputs": [],
   "source": []
  },
  {
   "cell_type": "code",
   "execution_count": null,
   "id": "0ff39d26",
   "metadata": {},
   "outputs": [],
   "source": []
  },
  {
   "cell_type": "code",
   "execution_count": null,
   "id": "26779c63",
   "metadata": {},
   "outputs": [],
   "source": []
  },
  {
   "cell_type": "code",
   "execution_count": null,
   "id": "d52b554e",
   "metadata": {},
   "outputs": [],
   "source": []
  },
  {
   "cell_type": "markdown",
   "id": "989588e6",
   "metadata": {},
   "source": [
    "# Section 5: Data Augmentation"
   ]
  },
  {
   "cell_type": "code",
   "execution_count": 470,
   "id": "a15a86b8",
   "metadata": {},
   "outputs": [
    {
     "data": {
      "text/html": [
       "<div>\n",
       "<style scoped>\n",
       "    .dataframe tbody tr th:only-of-type {\n",
       "        vertical-align: middle;\n",
       "    }\n",
       "\n",
       "    .dataframe tbody tr th {\n",
       "        vertical-align: top;\n",
       "    }\n",
       "\n",
       "    .dataframe thead th {\n",
       "        text-align: right;\n",
       "    }\n",
       "</style>\n",
       "<table border=\"1\" class=\"dataframe\">\n",
       "  <thead>\n",
       "    <tr style=\"text-align: right;\">\n",
       "      <th></th>\n",
       "      <th>Nouns</th>\n",
       "      <th>Aspect</th>\n",
       "    </tr>\n",
       "  </thead>\n",
       "  <tbody>\n",
       "    <tr>\n",
       "      <th>1967</th>\n",
       "      <td>alarm</td>\n",
       "      <td>Room</td>\n",
       "    </tr>\n",
       "    <tr>\n",
       "      <th>1467</th>\n",
       "      <td>hotel</td>\n",
       "      <td>Hotel</td>\n",
       "    </tr>\n",
       "    <tr>\n",
       "      <th>1927</th>\n",
       "      <td>room food good</td>\n",
       "      <td>Food</td>\n",
       "    </tr>\n",
       "    <tr>\n",
       "      <th>826</th>\n",
       "      <td>entertainment team</td>\n",
       "      <td>Entertainment</td>\n",
       "    </tr>\n",
       "    <tr>\n",
       "      <th>1017</th>\n",
       "      <td>fun holiday</td>\n",
       "      <td>Entertainment</td>\n",
       "    </tr>\n",
       "  </tbody>\n",
       "</table>\n",
       "</div>"
      ],
      "text/plain": [
       "                   Nouns         Aspect\n",
       "1967               alarm           Room\n",
       "1467               hotel          Hotel\n",
       "1927      room food good           Food\n",
       "826   entertainment team  Entertainment\n",
       "1017         fun holiday  Entertainment"
      ]
     },
     "execution_count": 470,
     "metadata": {},
     "output_type": "execute_result"
    }
   ],
   "source": [
    "accom_eda = pd.concat([X_accom,y_accom],axis = 1)\n",
    "accom_eda = accom_eda.sample(frac=1)\n",
    "accom_eda.head()"
   ]
  },
  {
   "cell_type": "code",
   "execution_count": 471,
   "id": "86405f41",
   "metadata": {},
   "outputs": [],
   "source": [
    "# Get number of words in each row, split dataframes into those with more than 1 word and those with 1\n",
    "accom_eda[\"Count\"] = accom_eda[\"Nouns\"].apply(lambda x: len(x.split()))\n",
    "accom_eda_old = accom_eda[accom_eda[\"Count\"]==1]\n",
    "accom_eda_new = accom_eda[accom_eda[\"Count\"]>1]"
   ]
  },
  {
   "cell_type": "code",
   "execution_count": 472,
   "id": "01d4dfcf",
   "metadata": {},
   "outputs": [
    {
     "data": {
      "text/plain": [
       "2     709\n",
       "3     317\n",
       "4     120\n",
       "5      48\n",
       "6      18\n",
       "7       7\n",
       "8       2\n",
       "10      1\n",
       "12      1\n",
       "Name: Count, dtype: int64"
      ]
     },
     "execution_count": 472,
     "metadata": {},
     "output_type": "execute_result"
    }
   ],
   "source": [
    "# Check the distribution of number of words\n",
    "accom_eda_new[\"Count\"].value_counts()"
   ]
  },
  {
   "cell_type": "markdown",
   "id": "3bc87c04",
   "metadata": {},
   "source": [
    "Most lines have two words, this will inform the augmentation process"
   ]
  },
  {
   "cell_type": "code",
   "execution_count": 473,
   "id": "8a18e4c0",
   "metadata": {},
   "outputs": [
    {
     "name": "stdout",
     "output_type": "stream",
     "text": [
      "(1223, 3) (777, 3)\n"
     ]
    }
   ],
   "source": [
    "# Get shape of dataframes\n",
    "accom_eda_new.reset_index(inplace = True)\n",
    "accom_eda_old.reset_index(inplace = True)\n",
    "accom_eda_new.drop(columns = [\"Count\"],axis = 1, inplace = True)\n",
    "accom_eda_old.drop(columns = [\"Count\"],axis = 1,inplace = True)\n",
    "print(accom_eda_new.shape, accom_eda_old.shape)"
   ]
  },
  {
   "cell_type": "code",
   "execution_count": 474,
   "id": "de09c416",
   "metadata": {},
   "outputs": [
    {
     "data": {
      "text/html": [
       "<div>\n",
       "<style scoped>\n",
       "    .dataframe tbody tr th:only-of-type {\n",
       "        vertical-align: middle;\n",
       "    }\n",
       "\n",
       "    .dataframe tbody tr th {\n",
       "        vertical-align: top;\n",
       "    }\n",
       "\n",
       "    .dataframe thead th {\n",
       "        text-align: right;\n",
       "    }\n",
       "</style>\n",
       "<table border=\"1\" class=\"dataframe\">\n",
       "  <thead>\n",
       "    <tr style=\"text-align: right;\">\n",
       "      <th></th>\n",
       "      <th>index</th>\n",
       "      <th>Nouns</th>\n",
       "      <th>Aspect</th>\n",
       "    </tr>\n",
       "  </thead>\n",
       "  <tbody>\n",
       "    <tr>\n",
       "      <th>707</th>\n",
       "      <td>1808</td>\n",
       "      <td>note staff</td>\n",
       "      <td>Staff</td>\n",
       "    </tr>\n",
       "    <tr>\n",
       "      <th>941</th>\n",
       "      <td>1441</td>\n",
       "      <td>place hotel</td>\n",
       "      <td>Hotel</td>\n",
       "    </tr>\n",
       "    <tr>\n",
       "      <th>690</th>\n",
       "      <td>805</td>\n",
       "      <td>hour fun family</td>\n",
       "      <td>Entertainment</td>\n",
       "    </tr>\n",
       "    <tr>\n",
       "      <th>1104</th>\n",
       "      <td>1158</td>\n",
       "      <td>value money</td>\n",
       "      <td>Value</td>\n",
       "    </tr>\n",
       "    <tr>\n",
       "      <th>195</th>\n",
       "      <td>765</td>\n",
       "      <td>family fun bike pedal</td>\n",
       "      <td>Entertainment</td>\n",
       "    </tr>\n",
       "  </tbody>\n",
       "</table>\n",
       "</div>"
      ],
      "text/plain": [
       "      index                  Nouns         Aspect\n",
       "707    1808             note staff          Staff\n",
       "941    1441            place hotel          Hotel\n",
       "690     805        hour fun family  Entertainment\n",
       "1104   1158            value money          Value\n",
       "195     765  family fun bike pedal  Entertainment"
      ]
     },
     "execution_count": 474,
     "metadata": {},
     "output_type": "execute_result"
    }
   ],
   "source": [
    "# Check head\n",
    "accom_eda_new.sample(5)"
   ]
  },
  {
   "cell_type": "markdown",
   "id": "9326c63e",
   "metadata": {},
   "source": [
    "## Synonym replacement"
   ]
  },
  {
   "cell_type": "markdown",
   "id": "bcbf5055",
   "metadata": {},
   "source": [
    "Distribution above suggests most rows only have two words, so replacement of one word is used in the augmentation"
   ]
  },
  {
   "cell_type": "code",
   "execution_count": 477,
   "id": "ec9c4942",
   "metadata": {},
   "outputs": [
    {
     "data": {
      "text/plain": [
       "'plenty room'"
      ]
     },
     "execution_count": 477,
     "metadata": {},
     "output_type": "execute_result"
    }
   ],
   "source": [
    "# Take sample\n",
    "test = accom_eda_new[\"Nouns\"].iloc[4]\n",
    "test"
   ]
  },
  {
   "cell_type": "code",
   "execution_count": 478,
   "id": "c43cf5a8",
   "metadata": {},
   "outputs": [
    {
     "data": {
      "text/plain": [
       "'quite a little room'"
      ]
     },
     "execution_count": 478,
     "metadata": {},
     "output_type": "execute_result"
    }
   ],
   "source": [
    "# Run synonym replacement\n",
    "from textaugment import EDA\n",
    "t = EDA()\n",
    "t.synonym_replacement(test,n = 1)"
   ]
  },
  {
   "cell_type": "code",
   "execution_count": 479,
   "id": "f3a2532b",
   "metadata": {},
   "outputs": [
    {
     "data": {
      "text/html": [
       "<div>\n",
       "<style scoped>\n",
       "    .dataframe tbody tr th:only-of-type {\n",
       "        vertical-align: middle;\n",
       "    }\n",
       "\n",
       "    .dataframe tbody tr th {\n",
       "        vertical-align: top;\n",
       "    }\n",
       "\n",
       "    .dataframe thead th {\n",
       "        text-align: right;\n",
       "    }\n",
       "</style>\n",
       "<table border=\"1\" class=\"dataframe\">\n",
       "  <thead>\n",
       "    <tr style=\"text-align: right;\">\n",
       "      <th></th>\n",
       "      <th>Nouns</th>\n",
       "      <th>Aspect</th>\n",
       "    </tr>\n",
       "  </thead>\n",
       "  <tbody>\n",
       "    <tr>\n",
       "      <th>0</th>\n",
       "      <td>room food for thought good</td>\n",
       "      <td>Food</td>\n",
       "    </tr>\n",
       "    <tr>\n",
       "      <th>1</th>\n",
       "      <td>entertainment team up</td>\n",
       "      <td>Entertainment</td>\n",
       "    </tr>\n",
       "    <tr>\n",
       "      <th>2</th>\n",
       "      <td>play holiday</td>\n",
       "      <td>Entertainment</td>\n",
       "    </tr>\n",
       "    <tr>\n",
       "      <th>3</th>\n",
       "      <td>lack faculty</td>\n",
       "      <td>Staff</td>\n",
       "    </tr>\n",
       "    <tr>\n",
       "      <th>4</th>\n",
       "      <td>plenty way</td>\n",
       "      <td>Room</td>\n",
       "    </tr>\n",
       "  </tbody>\n",
       "</table>\n",
       "</div>"
      ],
      "text/plain": [
       "                        Nouns         Aspect\n",
       "0  room food for thought good           Food\n",
       "1       entertainment team up  Entertainment\n",
       "2                play holiday  Entertainment\n",
       "3                lack faculty          Staff\n",
       "4                  plenty way           Room"
      ]
     },
     "execution_count": 479,
     "metadata": {},
     "output_type": "execute_result"
    }
   ],
   "source": [
    "# Apply to the whole dataframe and conat to original df\n",
    "replaced = pd.DataFrame(accom_eda_new[\"Nouns\"].apply(lambda x: t.synonym_replacement(x)))\n",
    "replaced = pd.concat([replaced,accom_eda_new.Aspect],axis = 1)\n",
    "replaced.head()"
   ]
  },
  {
   "cell_type": "code",
   "execution_count": 480,
   "id": "00c00596",
   "metadata": {},
   "outputs": [],
   "source": [
    "# Append to original phrases and then append to the rows that were not replaced\n",
    "accom_eda_one = accom_eda_new.append(replaced)\n",
    "accom_eda_one = accom_eda_one.append(accom_eda_old)"
   ]
  },
  {
   "cell_type": "code",
   "execution_count": 481,
   "id": "6c1d66b0",
   "metadata": {},
   "outputs": [
    {
     "data": {
      "text/plain": [
       "(3223, 3)"
      ]
     },
     "execution_count": 481,
     "metadata": {},
     "output_type": "execute_result"
    }
   ],
   "source": [
    "# New training data shape\n",
    "accom_eda_one.shape"
   ]
  },
  {
   "cell_type": "code",
   "execution_count": 482,
   "id": "02a5c9c8",
   "metadata": {},
   "outputs": [
    {
     "data": {
      "text/html": [
       "<div>\n",
       "<style scoped>\n",
       "    .dataframe tbody tr th:only-of-type {\n",
       "        vertical-align: middle;\n",
       "    }\n",
       "\n",
       "    .dataframe tbody tr th {\n",
       "        vertical-align: top;\n",
       "    }\n",
       "\n",
       "    .dataframe thead th {\n",
       "        text-align: right;\n",
       "    }\n",
       "</style>\n",
       "<table border=\"1\" class=\"dataframe\">\n",
       "  <thead>\n",
       "    <tr style=\"text-align: right;\">\n",
       "      <th></th>\n",
       "      <th>index</th>\n",
       "      <th>Nouns</th>\n",
       "      <th>Aspect</th>\n",
       "    </tr>\n",
       "  </thead>\n",
       "  <tbody>\n",
       "    <tr>\n",
       "      <th>0</th>\n",
       "      <td>1927.0</td>\n",
       "      <td>room food good</td>\n",
       "      <td>Food</td>\n",
       "    </tr>\n",
       "    <tr>\n",
       "      <th>1</th>\n",
       "      <td>826.0</td>\n",
       "      <td>entertainment team</td>\n",
       "      <td>Entertainment</td>\n",
       "    </tr>\n",
       "    <tr>\n",
       "      <th>2</th>\n",
       "      <td>1017.0</td>\n",
       "      <td>fun holiday</td>\n",
       "      <td>Entertainment</td>\n",
       "    </tr>\n",
       "    <tr>\n",
       "      <th>3</th>\n",
       "      <td>319.0</td>\n",
       "      <td>lack staff</td>\n",
       "      <td>Staff</td>\n",
       "    </tr>\n",
       "    <tr>\n",
       "      <th>4</th>\n",
       "      <td>60.0</td>\n",
       "      <td>plenty room</td>\n",
       "      <td>Room</td>\n",
       "    </tr>\n",
       "  </tbody>\n",
       "</table>\n",
       "</div>"
      ],
      "text/plain": [
       "    index               Nouns         Aspect\n",
       "0  1927.0      room food good           Food\n",
       "1   826.0  entertainment team  Entertainment\n",
       "2  1017.0         fun holiday  Entertainment\n",
       "3   319.0          lack staff          Staff\n",
       "4    60.0         plenty room           Room"
      ]
     },
     "execution_count": 482,
     "metadata": {},
     "output_type": "execute_result"
    }
   ],
   "source": [
    "accom_eda_one.head()"
   ]
  },
  {
   "cell_type": "markdown",
   "id": "c31df836",
   "metadata": {},
   "source": [
    "## Random deletion"
   ]
  },
  {
   "cell_type": "code",
   "execution_count": 483,
   "id": "714c19be",
   "metadata": {},
   "outputs": [
    {
     "data": {
      "text/plain": [
       "'plenty room'"
      ]
     },
     "execution_count": 483,
     "metadata": {},
     "output_type": "execute_result"
    }
   ],
   "source": [
    "# Take sample\n",
    "test = accom_eda_new[\"Nouns\"].iloc[4]\n",
    "test"
   ]
  },
  {
   "cell_type": "code",
   "execution_count": 484,
   "id": "2a1f816f",
   "metadata": {},
   "outputs": [
    {
     "data": {
      "text/plain": [
       "'plenty'"
      ]
     },
     "execution_count": 484,
     "metadata": {},
     "output_type": "execute_result"
    }
   ],
   "source": [
    "# Delete a random word in the sentence with a probability of 0.2\n",
    "t.random_deletion(test, p=0.2)"
   ]
  },
  {
   "cell_type": "code",
   "execution_count": 485,
   "id": "fe61f5ab",
   "metadata": {},
   "outputs": [
    {
     "data": {
      "text/html": [
       "<div>\n",
       "<style scoped>\n",
       "    .dataframe tbody tr th:only-of-type {\n",
       "        vertical-align: middle;\n",
       "    }\n",
       "\n",
       "    .dataframe tbody tr th {\n",
       "        vertical-align: top;\n",
       "    }\n",
       "\n",
       "    .dataframe thead th {\n",
       "        text-align: right;\n",
       "    }\n",
       "</style>\n",
       "<table border=\"1\" class=\"dataframe\">\n",
       "  <thead>\n",
       "    <tr style=\"text-align: right;\">\n",
       "      <th></th>\n",
       "      <th>Nouns</th>\n",
       "      <th>Aspect</th>\n",
       "    </tr>\n",
       "  </thead>\n",
       "  <tbody>\n",
       "    <tr>\n",
       "      <th>0</th>\n",
       "      <td>room food good</td>\n",
       "      <td>Food</td>\n",
       "    </tr>\n",
       "    <tr>\n",
       "      <th>1</th>\n",
       "      <td>entertainment team</td>\n",
       "      <td>Entertainment</td>\n",
       "    </tr>\n",
       "    <tr>\n",
       "      <th>2</th>\n",
       "      <td>fun holiday</td>\n",
       "      <td>Entertainment</td>\n",
       "    </tr>\n",
       "    <tr>\n",
       "      <th>3</th>\n",
       "      <td>staff</td>\n",
       "      <td>Staff</td>\n",
       "    </tr>\n",
       "    <tr>\n",
       "      <th>4</th>\n",
       "      <td>plenty room</td>\n",
       "      <td>Room</td>\n",
       "    </tr>\n",
       "  </tbody>\n",
       "</table>\n",
       "</div>"
      ],
      "text/plain": [
       "                Nouns         Aspect\n",
       "0      room food good           Food\n",
       "1  entertainment team  Entertainment\n",
       "2         fun holiday  Entertainment\n",
       "3               staff          Staff\n",
       "4         plenty room           Room"
      ]
     },
     "execution_count": 485,
     "metadata": {},
     "output_type": "execute_result"
    }
   ],
   "source": [
    "# Apply to the dataset with at least one word\n",
    "deleted = pd.DataFrame(accom_eda_new[\"Nouns\"].apply(lambda x: t.random_deletion(x,p = 0.2)))\n",
    "deleted = pd.concat([deleted,accom_eda_new.Aspect],axis = 1)\n",
    "deleted.head()"
   ]
  },
  {
   "cell_type": "code",
   "execution_count": 486,
   "id": "ef066bdd",
   "metadata": {},
   "outputs": [
    {
     "data": {
      "text/html": [
       "<div>\n",
       "<style scoped>\n",
       "    .dataframe tbody tr th:only-of-type {\n",
       "        vertical-align: middle;\n",
       "    }\n",
       "\n",
       "    .dataframe tbody tr th {\n",
       "        vertical-align: top;\n",
       "    }\n",
       "\n",
       "    .dataframe thead th {\n",
       "        text-align: right;\n",
       "    }\n",
       "</style>\n",
       "<table border=\"1\" class=\"dataframe\">\n",
       "  <thead>\n",
       "    <tr style=\"text-align: right;\">\n",
       "      <th></th>\n",
       "      <th>index</th>\n",
       "      <th>Nouns</th>\n",
       "      <th>Aspect</th>\n",
       "    </tr>\n",
       "  </thead>\n",
       "  <tbody>\n",
       "    <tr>\n",
       "      <th>0</th>\n",
       "      <td>1927.0</td>\n",
       "      <td>room food good</td>\n",
       "      <td>Food</td>\n",
       "    </tr>\n",
       "    <tr>\n",
       "      <th>1</th>\n",
       "      <td>826.0</td>\n",
       "      <td>entertainment team</td>\n",
       "      <td>Entertainment</td>\n",
       "    </tr>\n",
       "    <tr>\n",
       "      <th>2</th>\n",
       "      <td>1017.0</td>\n",
       "      <td>fun holiday</td>\n",
       "      <td>Entertainment</td>\n",
       "    </tr>\n",
       "    <tr>\n",
       "      <th>3</th>\n",
       "      <td>319.0</td>\n",
       "      <td>lack staff</td>\n",
       "      <td>Staff</td>\n",
       "    </tr>\n",
       "    <tr>\n",
       "      <th>4</th>\n",
       "      <td>60.0</td>\n",
       "      <td>plenty room</td>\n",
       "      <td>Room</td>\n",
       "    </tr>\n",
       "  </tbody>\n",
       "</table>\n",
       "</div>"
      ],
      "text/plain": [
       "    index               Nouns         Aspect\n",
       "0  1927.0      room food good           Food\n",
       "1   826.0  entertainment team  Entertainment\n",
       "2  1017.0         fun holiday  Entertainment\n",
       "3   319.0          lack staff          Staff\n",
       "4    60.0         plenty room           Room"
      ]
     },
     "execution_count": 486,
     "metadata": {},
     "output_type": "execute_result"
    }
   ],
   "source": [
    "# Append to original phrases and then append to the rows that were not replaced\n",
    "accom_eda_two = accom_eda_one.append(deleted)\n",
    "accom_eda_two.head()"
   ]
  },
  {
   "cell_type": "code",
   "execution_count": 487,
   "id": "a3ac974d",
   "metadata": {},
   "outputs": [
    {
     "data": {
      "text/plain": [
       "(4446, 3)"
      ]
     },
     "execution_count": 487,
     "metadata": {},
     "output_type": "execute_result"
    }
   ],
   "source": [
    "accom_eda_two.shape"
   ]
  },
  {
   "cell_type": "code",
   "execution_count": 488,
   "id": "b5dffc31",
   "metadata": {},
   "outputs": [
    {
     "data": {
      "text/html": [
       "<div>\n",
       "<style scoped>\n",
       "    .dataframe tbody tr th:only-of-type {\n",
       "        vertical-align: middle;\n",
       "    }\n",
       "\n",
       "    .dataframe tbody tr th {\n",
       "        vertical-align: top;\n",
       "    }\n",
       "\n",
       "    .dataframe thead th {\n",
       "        text-align: right;\n",
       "    }\n",
       "</style>\n",
       "<table border=\"1\" class=\"dataframe\">\n",
       "  <thead>\n",
       "    <tr style=\"text-align: right;\">\n",
       "      <th></th>\n",
       "      <th>index</th>\n",
       "      <th>Nouns</th>\n",
       "      <th>Aspect</th>\n",
       "    </tr>\n",
       "  </thead>\n",
       "  <tbody>\n",
       "    <tr>\n",
       "      <th>0</th>\n",
       "      <td>1927.0</td>\n",
       "      <td>room food good</td>\n",
       "      <td>Food</td>\n",
       "    </tr>\n",
       "    <tr>\n",
       "      <th>1</th>\n",
       "      <td>826.0</td>\n",
       "      <td>entertainment team</td>\n",
       "      <td>Entertainment</td>\n",
       "    </tr>\n",
       "    <tr>\n",
       "      <th>2</th>\n",
       "      <td>1017.0</td>\n",
       "      <td>fun holiday</td>\n",
       "      <td>Entertainment</td>\n",
       "    </tr>\n",
       "    <tr>\n",
       "      <th>3</th>\n",
       "      <td>319.0</td>\n",
       "      <td>lack staff</td>\n",
       "      <td>Staff</td>\n",
       "    </tr>\n",
       "    <tr>\n",
       "      <th>4</th>\n",
       "      <td>60.0</td>\n",
       "      <td>plenty room</td>\n",
       "      <td>Room</td>\n",
       "    </tr>\n",
       "  </tbody>\n",
       "</table>\n",
       "</div>"
      ],
      "text/plain": [
       "    index               Nouns         Aspect\n",
       "0  1927.0      room food good           Food\n",
       "1   826.0  entertainment team  Entertainment\n",
       "2  1017.0         fun holiday  Entertainment\n",
       "3   319.0          lack staff          Staff\n",
       "4    60.0         plenty room           Room"
      ]
     },
     "execution_count": 488,
     "metadata": {},
     "output_type": "execute_result"
    }
   ],
   "source": [
    "accom_eda_two.head()"
   ]
  },
  {
   "cell_type": "markdown",
   "id": "84a6aed2",
   "metadata": {},
   "source": [
    "## Random swap"
   ]
  },
  {
   "cell_type": "code",
   "execution_count": 489,
   "id": "8e5aa98f",
   "metadata": {},
   "outputs": [
    {
     "data": {
      "text/plain": [
       "'plenty room'"
      ]
     },
     "execution_count": 489,
     "metadata": {},
     "output_type": "execute_result"
    }
   ],
   "source": [
    "# Take sample\n",
    "test = accom_eda_new[\"Nouns\"].iloc[4]\n",
    "test"
   ]
  },
  {
   "cell_type": "code",
   "execution_count": 492,
   "id": "0908c7be",
   "metadata": {},
   "outputs": [
    {
     "data": {
      "text/plain": [
       "'room plenty'"
      ]
     },
     "execution_count": 492,
     "metadata": {},
     "output_type": "execute_result"
    }
   ],
   "source": [
    "t.random_swap(test, n = 1)"
   ]
  },
  {
   "cell_type": "code",
   "execution_count": 493,
   "id": "97687090",
   "metadata": {},
   "outputs": [
    {
     "data": {
      "text/html": [
       "<div>\n",
       "<style scoped>\n",
       "    .dataframe tbody tr th:only-of-type {\n",
       "        vertical-align: middle;\n",
       "    }\n",
       "\n",
       "    .dataframe tbody tr th {\n",
       "        vertical-align: top;\n",
       "    }\n",
       "\n",
       "    .dataframe thead th {\n",
       "        text-align: right;\n",
       "    }\n",
       "</style>\n",
       "<table border=\"1\" class=\"dataframe\">\n",
       "  <thead>\n",
       "    <tr style=\"text-align: right;\">\n",
       "      <th></th>\n",
       "      <th>Nouns</th>\n",
       "      <th>Aspect</th>\n",
       "    </tr>\n",
       "  </thead>\n",
       "  <tbody>\n",
       "    <tr>\n",
       "      <th>0</th>\n",
       "      <td>room good food</td>\n",
       "      <td>Food</td>\n",
       "    </tr>\n",
       "    <tr>\n",
       "      <th>1</th>\n",
       "      <td>team entertainment</td>\n",
       "      <td>Entertainment</td>\n",
       "    </tr>\n",
       "    <tr>\n",
       "      <th>2</th>\n",
       "      <td>holiday fun</td>\n",
       "      <td>Entertainment</td>\n",
       "    </tr>\n",
       "    <tr>\n",
       "      <th>3</th>\n",
       "      <td>staff lack</td>\n",
       "      <td>Staff</td>\n",
       "    </tr>\n",
       "    <tr>\n",
       "      <th>4</th>\n",
       "      <td>room plenty</td>\n",
       "      <td>Room</td>\n",
       "    </tr>\n",
       "  </tbody>\n",
       "</table>\n",
       "</div>"
      ],
      "text/plain": [
       "                Nouns         Aspect\n",
       "0      room good food           Food\n",
       "1  team entertainment  Entertainment\n",
       "2         holiday fun  Entertainment\n",
       "3          staff lack          Staff\n",
       "4         room plenty           Room"
      ]
     },
     "execution_count": 493,
     "metadata": {},
     "output_type": "execute_result"
    }
   ],
   "source": [
    "# Apply to the dataset with at least one word (use n = 1 as there may only be two words in the sentence)\n",
    "swapped = pd.DataFrame(accom_eda_new[\"Nouns\"].apply(lambda x: t.random_swap(x,n  = 1)))\n",
    "swapped = pd.concat([swapped,accom_eda_new.Aspect],axis = 1)\n",
    "swapped.head()"
   ]
  },
  {
   "cell_type": "code",
   "execution_count": 494,
   "id": "edcab2d5",
   "metadata": {},
   "outputs": [
    {
     "data": {
      "text/plain": [
       "(5669, 3)"
      ]
     },
     "execution_count": 494,
     "metadata": {},
     "output_type": "execute_result"
    }
   ],
   "source": [
    "# Append to original phrases and then append to the rows that were not replaced\n",
    "accom_eda_three = accom_eda_two.append(swapped)\n",
    "accom_eda_three.shape"
   ]
  },
  {
   "cell_type": "markdown",
   "id": "d57561d7",
   "metadata": {},
   "source": [
    "## Random insertion"
   ]
  },
  {
   "cell_type": "code",
   "execution_count": 495,
   "id": "c3eea0c5",
   "metadata": {},
   "outputs": [
    {
     "data": {
      "text/plain": [
       "'way way plenty room'"
      ]
     },
     "execution_count": 495,
     "metadata": {},
     "output_type": "execute_result"
    }
   ],
   "source": [
    "t.random_insertion(test, n = 2)"
   ]
  },
  {
   "cell_type": "code",
   "execution_count": 496,
   "id": "ded56dd6",
   "metadata": {},
   "outputs": [
    {
     "data": {
      "text/plain": [
       "'plenty way room'"
      ]
     },
     "execution_count": 496,
     "metadata": {},
     "output_type": "execute_result"
    }
   ],
   "source": [
    "t.random_insertion(test)"
   ]
  },
  {
   "cell_type": "code",
   "execution_count": 497,
   "id": "41ab2ece",
   "metadata": {},
   "outputs": [
    {
     "data": {
      "text/plain": [
       "(5669, 2)"
      ]
     },
     "execution_count": 497,
     "metadata": {},
     "output_type": "execute_result"
    }
   ],
   "source": [
    "# Apply to the dataset \n",
    "insert = pd.DataFrame(accom_eda_three[\"Nouns\"].apply(lambda x: t.random_insertion(x,n  = 1)))\n",
    "insert = pd.concat([insert,accom_eda_three.Aspect],axis = 1)\n",
    "insert.shape"
   ]
  },
  {
   "cell_type": "code",
   "execution_count": 498,
   "id": "f72517e0",
   "metadata": {},
   "outputs": [
    {
     "data": {
      "text/plain": [
       "(11338, 2)"
      ]
     },
     "execution_count": 498,
     "metadata": {},
     "output_type": "execute_result"
    }
   ],
   "source": [
    "# Append to original dataframe\n",
    "accom_eda_four = accom_eda_three.append(insert)\n",
    "accom_eda_four.drop(columns = [\"index\"],axis = 1, inplace = True)\n",
    "accom_eda_four.shape"
   ]
  },
  {
   "cell_type": "code",
   "execution_count": 499,
   "id": "901fa5d9",
   "metadata": {},
   "outputs": [
    {
     "data": {
      "text/html": [
       "<div>\n",
       "<style scoped>\n",
       "    .dataframe tbody tr th:only-of-type {\n",
       "        vertical-align: middle;\n",
       "    }\n",
       "\n",
       "    .dataframe tbody tr th {\n",
       "        vertical-align: top;\n",
       "    }\n",
       "\n",
       "    .dataframe thead th {\n",
       "        text-align: right;\n",
       "    }\n",
       "</style>\n",
       "<table border=\"1\" class=\"dataframe\">\n",
       "  <thead>\n",
       "    <tr style=\"text-align: right;\">\n",
       "      <th></th>\n",
       "      <th>Nouns</th>\n",
       "      <th>Aspect</th>\n",
       "    </tr>\n",
       "  </thead>\n",
       "  <tbody>\n",
       "    <tr>\n",
       "      <th>118</th>\n",
       "      <td>hotel edna</td>\n",
       "      <td>Hotel</td>\n",
       "    </tr>\n",
       "    <tr>\n",
       "      <th>1013</th>\n",
       "      <td>emplacement location location ambiance hotel</td>\n",
       "      <td>Location</td>\n",
       "    </tr>\n",
       "    <tr>\n",
       "      <th>608</th>\n",
       "      <td>space hotel</td>\n",
       "      <td>Hotel</td>\n",
       "    </tr>\n",
       "    <tr>\n",
       "      <th>951</th>\n",
       "      <td>staff staff faculty reception restaurant fault...</td>\n",
       "      <td>Staff</td>\n",
       "    </tr>\n",
       "    <tr>\n",
       "      <th>790</th>\n",
       "      <td>fabulous fab hotel</td>\n",
       "      <td>Hotel</td>\n",
       "    </tr>\n",
       "  </tbody>\n",
       "</table>\n",
       "</div>"
      ],
      "text/plain": [
       "                                                  Nouns    Aspect\n",
       "118                                          hotel edna     Hotel\n",
       "1013       emplacement location location ambiance hotel  Location\n",
       "608                                         space hotel     Hotel\n",
       "951   staff staff faculty reception restaurant fault...     Staff\n",
       "790                                  fabulous fab hotel     Hotel"
      ]
     },
     "execution_count": 499,
     "metadata": {},
     "output_type": "execute_result"
    }
   ],
   "source": [
    "accom_eda_four.sample(5)"
   ]
  },
  {
   "cell_type": "code",
   "execution_count": 500,
   "id": "7e4479c3",
   "metadata": {},
   "outputs": [
    {
     "data": {
      "text/plain": [
       "Entertainment    2024\n",
       "Food             1916\n",
       "Room             1730\n",
       "Staff            1652\n",
       "Value            1524\n",
       "Hotel            1430\n",
       "Location         1062\n",
       "Name: Aspect, dtype: int64"
      ]
     },
     "execution_count": 500,
     "metadata": {},
     "output_type": "execute_result"
    }
   ],
   "source": [
    "accom_eda_four.Aspect.value_counts()"
   ]
  },
  {
   "cell_type": "code",
   "execution_count": 501,
   "id": "83a929aa",
   "metadata": {},
   "outputs": [
    {
     "name": "stdout",
     "output_type": "stream",
     "text": [
      "<class 'pandas.core.frame.DataFrame'>\n",
      "Int64Index: 11338 entries, 0 to 1222\n",
      "Data columns (total 2 columns):\n",
      " #   Column  Non-Null Count  Dtype \n",
      "---  ------  --------------  ----- \n",
      " 0   Nouns   11338 non-null  object\n",
      " 1   Aspect  11338 non-null  object\n",
      "dtypes: object(2)\n",
      "memory usage: 265.7+ KB\n"
     ]
    }
   ],
   "source": [
    "accom_eda_four.info()"
   ]
  },
  {
   "cell_type": "markdown",
   "id": "e4e571ad",
   "metadata": {},
   "source": [
    "# Section 6: Use augmented data in model"
   ]
  },
  {
   "cell_type": "markdown",
   "id": "9287da28",
   "metadata": {},
   "source": [
    "Data has to be encoded manually as the encoder applies different encoding depending on the order of the aspects. The validation set needs to be kept as it is untouched and the aspects in the new data coded the same way in order to assess the output of the model properly."
   ]
  },
  {
   "cell_type": "code",
   "execution_count": 548,
   "id": "5304e0fd",
   "metadata": {},
   "outputs": [
    {
     "data": {
      "text/plain": [
       "Room             310\n",
       "Hotel            310\n",
       "Entertainment    310\n",
       "Food             310\n",
       "Staff            310\n",
       "Value            237\n",
       "Location         213\n",
       "Name: Aspect, dtype: int64"
      ]
     },
     "execution_count": 548,
     "metadata": {},
     "output_type": "execute_result"
    }
   ],
   "source": [
    "pd.DataFrame(y_accom).Aspect.value_counts()"
   ]
  },
  {
   "cell_type": "code",
   "execution_count": 549,
   "id": "bd8afaf9",
   "metadata": {},
   "outputs": [
    {
     "data": {
      "text/html": [
       "<div>\n",
       "<style scoped>\n",
       "    .dataframe tbody tr th:only-of-type {\n",
       "        vertical-align: middle;\n",
       "    }\n",
       "\n",
       "    .dataframe tbody tr th {\n",
       "        vertical-align: top;\n",
       "    }\n",
       "\n",
       "    .dataframe thead th {\n",
       "        text-align: right;\n",
       "    }\n",
       "</style>\n",
       "<table border=\"1\" class=\"dataframe\">\n",
       "  <thead>\n",
       "    <tr style=\"text-align: right;\">\n",
       "      <th></th>\n",
       "      <th>0</th>\n",
       "      <th>1</th>\n",
       "      <th>2</th>\n",
       "      <th>3</th>\n",
       "      <th>4</th>\n",
       "      <th>5</th>\n",
       "      <th>6</th>\n",
       "      <th>7</th>\n",
       "    </tr>\n",
       "  </thead>\n",
       "  <tbody>\n",
       "    <tr>\n",
       "      <th>1019</th>\n",
       "      <td>Location</td>\n",
       "      <td>0.0</td>\n",
       "      <td>0.0</td>\n",
       "      <td>0.0</td>\n",
       "      <td>1.0</td>\n",
       "      <td>0.0</td>\n",
       "      <td>0.0</td>\n",
       "      <td>0.0</td>\n",
       "    </tr>\n",
       "    <tr>\n",
       "      <th>1021</th>\n",
       "      <td>Location</td>\n",
       "      <td>0.0</td>\n",
       "      <td>0.0</td>\n",
       "      <td>0.0</td>\n",
       "      <td>1.0</td>\n",
       "      <td>0.0</td>\n",
       "      <td>0.0</td>\n",
       "      <td>0.0</td>\n",
       "    </tr>\n",
       "    <tr>\n",
       "      <th>1024</th>\n",
       "      <td>Location</td>\n",
       "      <td>0.0</td>\n",
       "      <td>0.0</td>\n",
       "      <td>0.0</td>\n",
       "      <td>1.0</td>\n",
       "      <td>0.0</td>\n",
       "      <td>0.0</td>\n",
       "      <td>0.0</td>\n",
       "    </tr>\n",
       "    <tr>\n",
       "      <th>1028</th>\n",
       "      <td>Location</td>\n",
       "      <td>0.0</td>\n",
       "      <td>0.0</td>\n",
       "      <td>0.0</td>\n",
       "      <td>1.0</td>\n",
       "      <td>0.0</td>\n",
       "      <td>0.0</td>\n",
       "      <td>0.0</td>\n",
       "    </tr>\n",
       "    <tr>\n",
       "      <th>1036</th>\n",
       "      <td>Location</td>\n",
       "      <td>0.0</td>\n",
       "      <td>0.0</td>\n",
       "      <td>0.0</td>\n",
       "      <td>1.0</td>\n",
       "      <td>0.0</td>\n",
       "      <td>0.0</td>\n",
       "      <td>0.0</td>\n",
       "    </tr>\n",
       "  </tbody>\n",
       "</table>\n",
       "</div>"
      ],
      "text/plain": [
       "             0    1    2    3    4    5    6    7\n",
       "1019  Location  0.0  0.0  0.0  1.0  0.0  0.0  0.0\n",
       "1021  Location  0.0  0.0  0.0  1.0  0.0  0.0  0.0\n",
       "1024  Location  0.0  0.0  0.0  1.0  0.0  0.0  0.0\n",
       "1028  Location  0.0  0.0  0.0  1.0  0.0  0.0  0.0\n",
       "1036  Location  0.0  0.0  0.0  1.0  0.0  0.0  0.0"
      ]
     },
     "execution_count": 549,
     "metadata": {},
     "output_type": "execute_result"
    }
   ],
   "source": [
    "# Use to get the one hot encoded representation as per the y_val data\n",
    "amalgamated = pd.concat([y_accom,pd.DataFrame(y_accom_e.tolist())],axis = 1,ignore_index = True)\n",
    "amalgamated[amalgamated[0] == \"Location\"].head()"
   ]
  },
  {
   "cell_type": "code",
   "execution_count": 550,
   "id": "a6a71a02",
   "metadata": {},
   "outputs": [],
   "source": [
    "# Apply to each aspect\n",
    "Room = [0,0,0,0,1,0,0]\n",
    "Hotel = [0,0,1,0,0,0,0]\n",
    "Entertainment = [1,0,0,0,0,0,0]\n",
    "Food = [0,1,0,0,0,0,0]\n",
    "Staff = [0,0,0,0,0,1,0]\n",
    "Value = [0,0,0,0,0,0,1]\n",
    "Location = [0,0,0,1,0,0,0]"
   ]
  },
  {
   "cell_type": "code",
   "execution_count": null,
   "id": "fc86bdcf",
   "metadata": {},
   "outputs": [],
   "source": []
  },
  {
   "cell_type": "code",
   "execution_count": null,
   "id": "0415fb11",
   "metadata": {},
   "outputs": [],
   "source": []
  },
  {
   "cell_type": "code",
   "execution_count": null,
   "id": "9ee2dffe",
   "metadata": {},
   "outputs": [],
   "source": []
  },
  {
   "cell_type": "code",
   "execution_count": null,
   "id": "39efd957",
   "metadata": {},
   "outputs": [],
   "source": []
  },
  {
   "cell_type": "code",
   "execution_count": null,
   "id": "bce38b9c",
   "metadata": {},
   "outputs": [],
   "source": []
  },
  {
   "cell_type": "code",
   "execution_count": null,
   "id": "e11ad16a",
   "metadata": {},
   "outputs": [],
   "source": []
  },
  {
   "cell_type": "code",
   "execution_count": null,
   "id": "d2a32efe",
   "metadata": {},
   "outputs": [],
   "source": []
  },
  {
   "cell_type": "code",
   "execution_count": null,
   "id": "ab0be19f",
   "metadata": {},
   "outputs": [],
   "source": []
  },
  {
   "cell_type": "code",
   "execution_count": null,
   "id": "731d0889",
   "metadata": {},
   "outputs": [],
   "source": []
  },
  {
   "cell_type": "code",
   "execution_count": 331,
   "id": "2c0efb07",
   "metadata": {},
   "outputs": [
    {
     "name": "stdout",
     "output_type": "stream",
     "text": [
      "Model: \"sequential_6\"\n",
      "_________________________________________________________________\n",
      "Layer (type)                 Output Shape              Param #   \n",
      "=================================================================\n",
      "embedding_6 (Embedding)      (None, 15, 16)            96000     \n",
      "_________________________________________________________________\n",
      "flatten_6 (Flatten)          (None, 240)               0         \n",
      "_________________________________________________________________\n",
      "dense_24 (Dense)             (None, 512)               123392    \n",
      "_________________________________________________________________\n",
      "dense_25 (Dense)             (None, 256)               131328    \n",
      "_________________________________________________________________\n",
      "dense_26 (Dense)             (None, 128)               32896     \n",
      "_________________________________________________________________\n",
      "dense_27 (Dense)             (None, 7)                 903       \n",
      "=================================================================\n",
      "Total params: 384,519\n",
      "Trainable params: 384,519\n",
      "Non-trainable params: 0\n",
      "_________________________________________________________________\n",
      "None\n"
     ]
    }
   ],
   "source": [
    "# Define model - best performing sentiment model as a starting point\n",
    "model = Sequential()\n",
    "model.add(Embedding(input_dim = input_dim, output_dim = output_dim, input_length=input_length))\n",
    "model.add(Flatten())\n",
    "model.add(Dense(512, activation='relu', input_shape=(1600,)))\n",
    "model.add(Dense(256,activation = 'relu'))\n",
    "model.add(Dense(128,activation = 'relu'))\n",
    "model.add(Dense(7, activation='softmax'))\n",
    "\n",
    "model.compile(optimizer='adam', loss='categorical_crossentropy', metrics=['accuracy'])\n",
    "print(model.summary())"
   ]
  },
  {
   "cell_type": "code",
   "execution_count": 332,
   "id": "6458a7bb",
   "metadata": {},
   "outputs": [],
   "source": [
    "output_dir = out('model_output/AugmentAccomModels1')\n",
    "callbacks = call(output_dir)"
   ]
  },
  {
   "cell_type": "code",
   "execution_count": 333,
   "id": "2065fd83",
   "metadata": {},
   "outputs": [
    {
     "name": "stdout",
     "output_type": "stream",
     "text": [
      "Epoch 1/50\n",
      "638/638 - 1s - loss: 0.5101 - accuracy: 0.8373 - val_loss: 3.5583 - val_accuracy: 0.4000\n",
      "Epoch 2/50\n",
      "638/638 - 1s - loss: 0.0996 - accuracy: 0.9743 - val_loss: 4.3219 - val_accuracy: 0.3800\n",
      "Epoch 3/50\n",
      "638/638 - 1s - loss: 0.0672 - accuracy: 0.9828 - val_loss: 5.7195 - val_accuracy: 0.3500\n",
      "Epoch 4/50\n",
      "638/638 - 1s - loss: 0.0541 - accuracy: 0.9870 - val_loss: 5.7786 - val_accuracy: 0.3400\n",
      "Epoch 5/50\n",
      "638/638 - 1s - loss: 0.0437 - accuracy: 0.9898 - val_loss: 5.7048 - val_accuracy: 0.3800\n",
      "Epoch 6/50\n",
      "638/638 - 1s - loss: 0.0428 - accuracy: 0.9912 - val_loss: 5.1414 - val_accuracy: 0.3800\n"
     ]
    }
   ],
   "source": [
    "# Model using keras embeddings\n",
    "history = model.fit(X_train_accom_w,y_train_accom_e,\n",
    "                    epochs=epochs,\n",
    "                    verbose=2,\n",
    "                    callbacks = callbacks,\n",
    "                    validation_data=(X_val_accom_w, y_val_accom_e),\n",
    "                    batch_size=batch_size,\n",
    "                    class_weight = class_weights)"
   ]
  },
  {
   "cell_type": "code",
   "execution_count": 334,
   "id": "bf64c516",
   "metadata": {},
   "outputs": [
    {
     "name": "stdout",
     "output_type": "stream",
     "text": [
      "  1/319 [..............................] - ETA: 0s - loss: 0.0061 - accuracy: 1.0000WARNING:tensorflow:Callbacks method `on_test_batch_end` is slow compared to the batch time (batch time: 0.0000s vs `on_test_batch_end` time: 0.0010s). Check your callbacks.\n",
      "319/319 [==============================] - 0s 439us/step - loss: 0.0408 - accuracy: 0.9901\n"
     ]
    },
    {
     "data": {
      "text/plain": [
       "[0.04084132984280586, 0.9900980591773987]"
      ]
     },
     "execution_count": 334,
     "metadata": {},
     "output_type": "execute_result"
    }
   ],
   "source": [
    "model.evaluate(X_train_accom_w,y_train_accom_e)"
   ]
  },
  {
   "cell_type": "code",
   "execution_count": 335,
   "id": "b050d8ff",
   "metadata": {},
   "outputs": [
    {
     "name": "stdout",
     "output_type": "stream",
     "text": [
      "4/4 [==============================] - 0s 742us/step - loss: 5.1414 - accuracy: 0.3800\n"
     ]
    },
    {
     "data": {
      "text/plain": [
       "[5.141357898712158, 0.3799999952316284]"
      ]
     },
     "execution_count": 335,
     "metadata": {},
     "output_type": "execute_result"
    }
   ],
   "source": [
    "model.evaluate(X_val_accom_w,y_val_accom_e)"
   ]
  },
  {
   "cell_type": "code",
   "execution_count": 341,
   "id": "89609a1d",
   "metadata": {},
   "outputs": [],
   "source": [
    "# Get predicted y values and predicted classes\n",
    "y_pred_prob = model.predict(X_val_accom_w)\n",
    "y_pred_class = (model.predict(X_val_accom_w) > 0.5).astype(\"int32\")"
   ]
  },
  {
   "cell_type": "code",
   "execution_count": null,
   "id": "4ec2467e",
   "metadata": {},
   "outputs": [],
   "source": []
  },
  {
   "cell_type": "code",
   "execution_count": null,
   "id": "ad817a7e",
   "metadata": {},
   "outputs": [],
   "source": []
  },
  {
   "cell_type": "code",
   "execution_count": null,
   "id": "e116b8e6",
   "metadata": {},
   "outputs": [],
   "source": []
  },
  {
   "cell_type": "code",
   "execution_count": null,
   "id": "be976e19",
   "metadata": {},
   "outputs": [],
   "source": []
  },
  {
   "cell_type": "markdown",
   "id": "f6154c10",
   "metadata": {},
   "source": [
    "This model does not perform as well as the accommodation model. This is in part due to the fact that food reviews tend to be shorter, mention multiple topics in the one noun phrase. The labelling of the model took the first mentioned aspect in a noun phrase as the one that it was labelled as, for example if a row had nouns \"Food\", \"Service\", then the word \"Food\" is the one that is used to label the data. This means that some of the rows will be by nature fuzzy.\n",
    "\n",
    "Where reviews lack punctuation, those rows cannot be split into sentences, then noun phrases properly. This results in many nouns for a datapoint which compounds the problem above and confuses the model. One measure might be to exclude those datapoints where the number of nouns is more than say 3 or 4 but there would still be cases where at least two aspects are mentioned in a single noun-phrase.\n"
   ]
  },
  {
   "cell_type": "code",
   "execution_count": null,
   "id": "abd0c579",
   "metadata": {},
   "outputs": [],
   "source": []
  }
 ],
 "metadata": {
  "kernelspec": {
   "display_name": "Python 3",
   "language": "python",
   "name": "python3"
  },
  "language_info": {
   "codemirror_mode": {
    "name": "ipython",
    "version": 3
   },
   "file_extension": ".py",
   "mimetype": "text/x-python",
   "name": "python",
   "nbconvert_exporter": "python",
   "pygments_lexer": "ipython3",
   "version": "3.7.10"
  }
 },
 "nbformat": 4,
 "nbformat_minor": 5
}
