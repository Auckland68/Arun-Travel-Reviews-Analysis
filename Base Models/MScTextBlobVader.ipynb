{
 "cells": [
  {
   "cell_type": "markdown",
   "metadata": {},
   "source": [
    "# Using TextBlob and Vader as Out of the Box Analysers"
   ]
  },
  {
   "cell_type": "markdown",
   "metadata": {},
   "source": [
    "This notebook uses two 'Out of the Box' or Rules-based sentiment analysers, TextBlob and Vader to determine the sentiment of the training set reviews. The data is not balanced according to the number of positive and negative reviews, since each review is considered separately against a set of rules within each of these algorithms. The analyser is not learning anything, it is simply treating each review separately and comparing it to a set of rules. The data can be fed raw into the analyser (although cleaning can be used first) and does not need the extensive cleaning of machine learning models, which make them very easy and quick to use.\n",
    "\n",
    "* Section 1 - import libraries and dataset\n",
    "* Section 2 - Pre-processing\n",
    "\n",
    "* Section 2 - analyser performance against sample phrases  \n",
    "* Section 3 - TextBlob and VADER \n",
    "* Section 4 - Comparison of analyser scores with user scores\n",
    "* Section 5 - VADER scores compared to review length\n",
    "* Section 6 - Rerunning results with cleaned text\n",
    "* Section 7 - Summary\n",
    "\n",
    "*Note: Rating refers to the user rating and score is the binary score allocated - with 1 referring to the majority class of positive reviews and -1 relating to the minority class of negative reviews.*"
   ]
  },
  {
   "cell_type": "markdown",
   "metadata": {},
   "source": [
    "# Section 1: Import libraries and Dataset"
   ]
  },
  {
   "cell_type": "code",
   "execution_count": 103,
   "metadata": {},
   "outputs": [],
   "source": [
    "import pandas as pd\n",
    "import numpy as np\n",
    "import pickle\n",
    "import matplotlib.pyplot as plt\n",
    "%matplotlib inline\n",
    "import seaborn as sns\n",
    "sns.set()\n",
    "import nltk\n",
    "from textblob import TextBlob\n",
    "from vaderSentiment.vaderSentiment import SentimentIntensityAnalyzer\n",
    "import nltk\n",
    "from sklearn.metrics import f1_score,precision_score,recall_score,accuracy_score, roc_auc_score\n",
    "import warnings\n",
    "warnings.filterwarnings(\"ignore\")"
   ]
  },
  {
   "cell_type": "code",
   "execution_count": 217,
   "metadata": {},
   "outputs": [],
   "source": [
    "df_train = pd.read_csv(\"train_cleaned.csv\",index_col = 0)\n",
    "df_val = pd.read_csv(\"val_cleaned.csv\",index_col = 0)\n",
    "df_test = pd.read_csv(\"test_cleaned.csv\",index_col = 0)"
   ]
  },
  {
   "cell_type": "code",
   "execution_count": 9,
   "metadata": {},
   "outputs": [
    {
     "data": {
      "text/html": [
       "<div>\n",
       "<style scoped>\n",
       "    .dataframe tbody tr th:only-of-type {\n",
       "        vertical-align: middle;\n",
       "    }\n",
       "\n",
       "    .dataframe tbody tr th {\n",
       "        vertical-align: top;\n",
       "    }\n",
       "\n",
       "    .dataframe thead th {\n",
       "        text-align: right;\n",
       "    }\n",
       "</style>\n",
       "<table border=\"1\" class=\"dataframe\">\n",
       "  <thead>\n",
       "    <tr style=\"text-align: right;\">\n",
       "      <th></th>\n",
       "      <th>OrgInd</th>\n",
       "      <th>Town</th>\n",
       "      <th>Category</th>\n",
       "      <th>Score</th>\n",
       "      <th>Sent</th>\n",
       "      <th>Sent_clean</th>\n",
       "      <th>Pos</th>\n",
       "    </tr>\n",
       "  </thead>\n",
       "  <tbody>\n",
       "    <tr>\n",
       "      <th>0</th>\n",
       "      <td>245</td>\n",
       "      <td>Bognor</td>\n",
       "      <td>Accommodation</td>\n",
       "      <td>0</td>\n",
       "      <td>Central B &amp; B We had room 6, excellent view, w...</td>\n",
       "      <td>central room excellent view could see sea room...</td>\n",
       "      <td>[('central', 'JJ'), ('room', 'NN'), ('excellen...</td>\n",
       "    </tr>\n",
       "    <tr>\n",
       "      <th>1</th>\n",
       "      <td>209</td>\n",
       "      <td>Littlehampton</td>\n",
       "      <td>Accommodation</td>\n",
       "      <td>1</td>\n",
       "      <td>Not what it used to be... We lived in the area...</td>\n",
       "      <td>not used lived area year fact daughter worked ...</td>\n",
       "      <td>[('not', 'RB'), ('used', 'VBN'), ('lived', 'VB...</td>\n",
       "    </tr>\n",
       "    <tr>\n",
       "      <th>2</th>\n",
       "      <td>28</td>\n",
       "      <td>Bognor</td>\n",
       "      <td>Accommodation</td>\n",
       "      <td>0</td>\n",
       "      <td>Easter Break 5 days at Bognor Stayed in Rockpo...</td>\n",
       "      <td>easter break day stayed rockpool xu apartment ...</td>\n",
       "      <td>[('easter', 'JJ'), ('break', 'NN'), ('day', 'N...</td>\n",
       "    </tr>\n",
       "    <tr>\n",
       "      <th>3</th>\n",
       "      <td>365</td>\n",
       "      <td>Arundel</td>\n",
       "      <td>Accommodation</td>\n",
       "      <td>0</td>\n",
       "      <td>Fantastic pub inn tucked away at top of Arunde...</td>\n",
       "      <td>fantastic pub tucked away top asunder high str...</td>\n",
       "      <td>[('fantastic', 'JJ'), ('pub', 'NN'), ('tucked'...</td>\n",
       "    </tr>\n",
       "    <tr>\n",
       "      <th>4</th>\n",
       "      <td>389</td>\n",
       "      <td>Arundel</td>\n",
       "      <td>Accommodation</td>\n",
       "      <td>1</td>\n",
       "      <td>Charging top prices for low quality food Had t...</td>\n",
       "      <td>charging top price low quality food buttermilk...</td>\n",
       "      <td>[('charging', 'VBG'), ('top', 'JJ'), ('price',...</td>\n",
       "    </tr>\n",
       "  </tbody>\n",
       "</table>\n",
       "</div>"
      ],
      "text/plain": [
       "   OrgInd           Town       Category  Score  \\\n",
       "0     245         Bognor  Accommodation      0   \n",
       "1     209  Littlehampton  Accommodation      1   \n",
       "2      28         Bognor  Accommodation      0   \n",
       "3     365        Arundel  Accommodation      0   \n",
       "4     389        Arundel  Accommodation      1   \n",
       "\n",
       "                                                Sent  \\\n",
       "0  Central B & B We had room 6, excellent view, w...   \n",
       "1  Not what it used to be... We lived in the area...   \n",
       "2  Easter Break 5 days at Bognor Stayed in Rockpo...   \n",
       "3  Fantastic pub inn tucked away at top of Arunde...   \n",
       "4  Charging top prices for low quality food Had t...   \n",
       "\n",
       "                                          Sent_clean  \\\n",
       "0  central room excellent view could see sea room...   \n",
       "1  not used lived area year fact daughter worked ...   \n",
       "2  easter break day stayed rockpool xu apartment ...   \n",
       "3  fantastic pub tucked away top asunder high str...   \n",
       "4  charging top price low quality food buttermilk...   \n",
       "\n",
       "                                                 Pos  \n",
       "0  [('central', 'JJ'), ('room', 'NN'), ('excellen...  \n",
       "1  [('not', 'RB'), ('used', 'VBN'), ('lived', 'VB...  \n",
       "2  [('easter', 'JJ'), ('break', 'NN'), ('day', 'N...  \n",
       "3  [('fantastic', 'JJ'), ('pub', 'NN'), ('tucked'...  \n",
       "4  [('charging', 'VBG'), ('top', 'JJ'), ('price',...  "
      ]
     },
     "execution_count": 9,
     "metadata": {},
     "output_type": "execute_result"
    }
   ],
   "source": [
    "df_train.head()"
   ]
  },
  {
   "cell_type": "code",
   "execution_count": 12,
   "metadata": {},
   "outputs": [],
   "source": [
    "df_train = df_train[[\"Town\",\"Category\",\"Sent\",\"Score\"]]\n",
    "df_val = df_val[[\"Town\",\"Category\",\"Sent\",\"Score\"]]\n",
    "df_test = df_test[[\"Town\",\"Category\",\"Sent\",\"Score\"]]"
   ]
  },
  {
   "cell_type": "code",
   "execution_count": 13,
   "metadata": {},
   "outputs": [
    {
     "data": {
      "text/html": [
       "<div>\n",
       "<style scoped>\n",
       "    .dataframe tbody tr th:only-of-type {\n",
       "        vertical-align: middle;\n",
       "    }\n",
       "\n",
       "    .dataframe tbody tr th {\n",
       "        vertical-align: top;\n",
       "    }\n",
       "\n",
       "    .dataframe thead th {\n",
       "        text-align: right;\n",
       "    }\n",
       "</style>\n",
       "<table border=\"1\" class=\"dataframe\">\n",
       "  <thead>\n",
       "    <tr style=\"text-align: right;\">\n",
       "      <th></th>\n",
       "      <th>Town</th>\n",
       "      <th>Category</th>\n",
       "      <th>Sent</th>\n",
       "      <th>Score</th>\n",
       "    </tr>\n",
       "  </thead>\n",
       "  <tbody>\n",
       "    <tr>\n",
       "      <th>0</th>\n",
       "      <td>Bognor</td>\n",
       "      <td>Accommodation</td>\n",
       "      <td>Central B &amp; B We had room 6, excellent view, w...</td>\n",
       "      <td>0</td>\n",
       "    </tr>\n",
       "    <tr>\n",
       "      <th>1</th>\n",
       "      <td>Littlehampton</td>\n",
       "      <td>Accommodation</td>\n",
       "      <td>Not what it used to be... We lived in the area...</td>\n",
       "      <td>1</td>\n",
       "    </tr>\n",
       "    <tr>\n",
       "      <th>2</th>\n",
       "      <td>Bognor</td>\n",
       "      <td>Accommodation</td>\n",
       "      <td>Easter Break 5 days at Bognor Stayed in Rockpo...</td>\n",
       "      <td>0</td>\n",
       "    </tr>\n",
       "    <tr>\n",
       "      <th>3</th>\n",
       "      <td>Arundel</td>\n",
       "      <td>Accommodation</td>\n",
       "      <td>Fantastic pub inn tucked away at top of Arunde...</td>\n",
       "      <td>0</td>\n",
       "    </tr>\n",
       "    <tr>\n",
       "      <th>4</th>\n",
       "      <td>Arundel</td>\n",
       "      <td>Accommodation</td>\n",
       "      <td>Charging top prices for low quality food Had t...</td>\n",
       "      <td>1</td>\n",
       "    </tr>\n",
       "  </tbody>\n",
       "</table>\n",
       "</div>"
      ],
      "text/plain": [
       "            Town       Category  \\\n",
       "0         Bognor  Accommodation   \n",
       "1  Littlehampton  Accommodation   \n",
       "2         Bognor  Accommodation   \n",
       "3        Arundel  Accommodation   \n",
       "4        Arundel  Accommodation   \n",
       "\n",
       "                                                Sent  Score  \n",
       "0  Central B & B We had room 6, excellent view, w...      0  \n",
       "1  Not what it used to be... We lived in the area...      1  \n",
       "2  Easter Break 5 days at Bognor Stayed in Rockpo...      0  \n",
       "3  Fantastic pub inn tucked away at top of Arunde...      0  \n",
       "4  Charging top prices for low quality food Had t...      1  "
      ]
     },
     "execution_count": 13,
     "metadata": {},
     "output_type": "execute_result"
    }
   ],
   "source": [
    "df_train.head()"
   ]
  },
  {
   "cell_type": "markdown",
   "metadata": {},
   "source": [
    "# Section 2: Preprocessing"
   ]
  },
  {
   "cell_type": "code",
   "execution_count": 14,
   "metadata": {},
   "outputs": [],
   "source": [
    "# Put bad reviews as -1 and good reviews as 1\n",
    "df_train.Score.replace(1, -1, inplace = True)\n",
    "df_train.Score.replace(0, 1, inplace = True)"
   ]
  },
  {
   "cell_type": "code",
   "execution_count": 18,
   "metadata": {},
   "outputs": [
    {
     "data": {
      "text/plain": [
       " 1    727\n",
       "-1    726\n",
       "Name: Score, dtype: int64"
      ]
     },
     "execution_count": 18,
     "metadata": {},
     "output_type": "execute_result"
    }
   ],
   "source": [
    "# Compare numbers of positive and negative reviews\n",
    "df_train.Score.value_counts()"
   ]
  },
  {
   "cell_type": "markdown",
   "metadata": {},
   "source": [
    "# Section 3: Testing TextBlob and Vader Against Sample Phrases"
   ]
  },
  {
   "cell_type": "code",
   "execution_count": 19,
   "metadata": {},
   "outputs": [],
   "source": [
    "# Set up an analyser object for Vader\n",
    "sia = SentimentIntensityAnalyzer()"
   ]
  },
  {
   "cell_type": "code",
   "execution_count": 20,
   "metadata": {},
   "outputs": [],
   "source": [
    "# Results function\n",
    "def pol(text):\n",
    "    pol1 = TextBlob(text).sentiment.polarity\n",
    "    pol2 = sia.polarity_scores(text)['compound']\n",
    "    return pol1, pol2, "
   ]
  },
  {
   "cell_type": "markdown",
   "metadata": {},
   "source": [
    "## Capitalisation"
   ]
  },
  {
   "cell_type": "code",
   "execution_count": 21,
   "metadata": {},
   "outputs": [],
   "source": [
    "# Capitalisation of a word\n",
    "t1 = \"This is the worst restaurant I have ever eaten in\"\n",
    "t2 = \"This is the WORST restaurant I have ever eaten in\""
   ]
  },
  {
   "cell_type": "code",
   "execution_count": 22,
   "metadata": {},
   "outputs": [
    {
     "data": {
      "text/html": [
       "<div>\n",
       "<style scoped>\n",
       "    .dataframe tbody tr th:only-of-type {\n",
       "        vertical-align: middle;\n",
       "    }\n",
       "\n",
       "    .dataframe tbody tr th {\n",
       "        vertical-align: top;\n",
       "    }\n",
       "\n",
       "    .dataframe thead th {\n",
       "        text-align: right;\n",
       "    }\n",
       "</style>\n",
       "<table border=\"1\" class=\"dataframe\">\n",
       "  <thead>\n",
       "    <tr style=\"text-align: right;\">\n",
       "      <th></th>\n",
       "      <th>S1</th>\n",
       "      <th>S2</th>\n",
       "    </tr>\n",
       "  </thead>\n",
       "  <tbody>\n",
       "    <tr>\n",
       "      <th>TextBlob</th>\n",
       "      <td>-1.0000</td>\n",
       "      <td>-1.0000</td>\n",
       "    </tr>\n",
       "    <tr>\n",
       "      <th>Vader</th>\n",
       "      <td>-0.6249</td>\n",
       "      <td>-0.7034</td>\n",
       "    </tr>\n",
       "  </tbody>\n",
       "</table>\n",
       "</div>"
      ],
      "text/plain": [
       "              S1      S2\n",
       "TextBlob -1.0000 -1.0000\n",
       "Vader    -0.6249 -0.7034"
      ]
     },
     "execution_count": 22,
     "metadata": {},
     "output_type": "execute_result"
    }
   ],
   "source": [
    "sent_1 = pol(t1)\n",
    "sent_2 = pol(t2)\n",
    "data1 = pd.DataFrame([sent_1,sent_2],index = [\"S1\",\"S2\"],columns = [\"TextBlob\",\"Vader\"])\n",
    "data1.T"
   ]
  },
  {
   "cell_type": "markdown",
   "metadata": {},
   "source": [
    "* Both analysers are negative but only Vader picks up the intensity of capitalisation"
   ]
  },
  {
   "cell_type": "markdown",
   "metadata": {},
   "source": [
    "## Word Strength"
   ]
  },
  {
   "cell_type": "code",
   "execution_count": 23,
   "metadata": {},
   "outputs": [],
   "source": [
    "# Word Strength\n",
    "t3 = \"The food is good\"\n",
    "t4 = \"The food is great\"\n",
    "t5 = \"The food is incredible\"\n",
    "t6 = \"The food is awesome\""
   ]
  },
  {
   "cell_type": "code",
   "execution_count": 41,
   "metadata": {},
   "outputs": [
    {
     "data": {
      "text/html": [
       "<div>\n",
       "<style scoped>\n",
       "    .dataframe tbody tr th:only-of-type {\n",
       "        vertical-align: middle;\n",
       "    }\n",
       "\n",
       "    .dataframe tbody tr th {\n",
       "        vertical-align: top;\n",
       "    }\n",
       "\n",
       "    .dataframe thead th {\n",
       "        text-align: right;\n",
       "    }\n",
       "</style>\n",
       "<table border=\"1\" class=\"dataframe\">\n",
       "  <thead>\n",
       "    <tr style=\"text-align: right;\">\n",
       "      <th></th>\n",
       "      <th>S3</th>\n",
       "      <th>S4</th>\n",
       "      <th>S5</th>\n",
       "      <th>S6</th>\n",
       "    </tr>\n",
       "  </thead>\n",
       "  <tbody>\n",
       "    <tr>\n",
       "      <th>TextBlob</th>\n",
       "      <td>0.7000</td>\n",
       "      <td>0.8000</td>\n",
       "      <td>0.9</td>\n",
       "      <td>1.0000</td>\n",
       "    </tr>\n",
       "    <tr>\n",
       "      <th>Vader</th>\n",
       "      <td>0.4404</td>\n",
       "      <td>0.6249</td>\n",
       "      <td>0.0</td>\n",
       "      <td>0.6249</td>\n",
       "    </tr>\n",
       "  </tbody>\n",
       "</table>\n",
       "</div>"
      ],
      "text/plain": [
       "              S3      S4   S5      S6\n",
       "TextBlob  0.7000  0.8000  0.9  1.0000\n",
       "Vader     0.4404  0.6249  0.0  0.6249"
      ]
     },
     "execution_count": 41,
     "metadata": {},
     "output_type": "execute_result"
    }
   ],
   "source": [
    "sent_3 = pol(t3)\n",
    "sent_4 = pol(t4)\n",
    "sent_5 = pol(t5)\n",
    "sent_6 = pol(t6)\n",
    "data2 = pd.DataFrame([sent_3,sent_4,sent_5,sent_6],index = [\"S3\",\"S4\",\"S5\",\"S6\"],columns = [\"TextBlob\",\"Vader\"])\n",
    "data2.T"
   ]
  },
  {
   "cell_type": "markdown",
   "metadata": {},
   "source": [
    "* TextBlob picks up the increasing intensity of words more effectively than Vader "
   ]
  },
  {
   "cell_type": "markdown",
   "metadata": {},
   "source": [
    "## Promotor Words"
   ]
  },
  {
   "cell_type": "code",
   "execution_count": 25,
   "metadata": {},
   "outputs": [],
   "source": [
    "# Promotor words - modulate intensity\n",
    "t7 = \"The food is good\"\n",
    "t8 = \"The food is very good\"\n",
    "t9 = \"The food is very very good\""
   ]
  },
  {
   "cell_type": "code",
   "execution_count": 42,
   "metadata": {},
   "outputs": [
    {
     "data": {
      "text/html": [
       "<div>\n",
       "<style scoped>\n",
       "    .dataframe tbody tr th:only-of-type {\n",
       "        vertical-align: middle;\n",
       "    }\n",
       "\n",
       "    .dataframe tbody tr th {\n",
       "        vertical-align: top;\n",
       "    }\n",
       "\n",
       "    .dataframe thead th {\n",
       "        text-align: right;\n",
       "    }\n",
       "</style>\n",
       "<table border=\"1\" class=\"dataframe\">\n",
       "  <thead>\n",
       "    <tr style=\"text-align: right;\">\n",
       "      <th></th>\n",
       "      <th>S7</th>\n",
       "      <th>S8</th>\n",
       "      <th>S9</th>\n",
       "    </tr>\n",
       "  </thead>\n",
       "  <tbody>\n",
       "    <tr>\n",
       "      <th>TextBlob</th>\n",
       "      <td>0.7000</td>\n",
       "      <td>0.9100</td>\n",
       "      <td>0.9100</td>\n",
       "    </tr>\n",
       "    <tr>\n",
       "      <th>Vader</th>\n",
       "      <td>0.4404</td>\n",
       "      <td>0.4927</td>\n",
       "      <td>0.5379</td>\n",
       "    </tr>\n",
       "  </tbody>\n",
       "</table>\n",
       "</div>"
      ],
      "text/plain": [
       "              S7      S8      S9\n",
       "TextBlob  0.7000  0.9100  0.9100\n",
       "Vader     0.4404  0.4927  0.5379"
      ]
     },
     "execution_count": 42,
     "metadata": {},
     "output_type": "execute_result"
    }
   ],
   "source": [
    "sent_7 = pol(t7)\n",
    "sent_8 = pol(t8)\n",
    "sent_9 = pol(t9)\n",
    "data3 = pd.DataFrame([sent_7,sent_8,sent_9],index = [\"S7\",\"S8\",\"S9\"],columns = [\"TextBlob\",\"Vader\"])\n",
    "data3.T"
   ]
  },
  {
   "cell_type": "markdown",
   "metadata": {},
   "source": [
    "* TextBlob picks up increased instensity from the use of the word 'very'\n",
    "* Vader picks up the increased intensity from repeated words also"
   ]
  },
  {
   "cell_type": "markdown",
   "metadata": {},
   "source": [
    "## Double Negation"
   ]
  },
  {
   "cell_type": "code",
   "execution_count": 27,
   "metadata": {},
   "outputs": [],
   "source": [
    "# Double Negation\n",
    "t10 = \"This is not the worst place in the town, not by any means\""
   ]
  },
  {
   "cell_type": "code",
   "execution_count": 28,
   "metadata": {},
   "outputs": [
    {
     "data": {
      "text/html": [
       "<div>\n",
       "<style scoped>\n",
       "    .dataframe tbody tr th:only-of-type {\n",
       "        vertical-align: middle;\n",
       "    }\n",
       "\n",
       "    .dataframe tbody tr th {\n",
       "        vertical-align: top;\n",
       "    }\n",
       "\n",
       "    .dataframe thead th {\n",
       "        text-align: right;\n",
       "    }\n",
       "</style>\n",
       "<table border=\"1\" class=\"dataframe\">\n",
       "  <thead>\n",
       "    <tr style=\"text-align: right;\">\n",
       "      <th></th>\n",
       "      <th>S10</th>\n",
       "    </tr>\n",
       "  </thead>\n",
       "  <tbody>\n",
       "    <tr>\n",
       "      <th>TextBlob</th>\n",
       "      <td>-1.0000</td>\n",
       "    </tr>\n",
       "    <tr>\n",
       "      <th>Vader</th>\n",
       "      <td>0.5096</td>\n",
       "    </tr>\n",
       "  </tbody>\n",
       "</table>\n",
       "</div>"
      ],
      "text/plain": [
       "             S10\n",
       "TextBlob -1.0000\n",
       "Vader     0.5096"
      ]
     },
     "execution_count": 28,
     "metadata": {},
     "output_type": "execute_result"
    }
   ],
   "source": [
    "sent_10 = pol(t10)\n",
    "data4 = pd.DataFrame([sent_10],index = [\"S10\"],columns = [\"TextBlob\",\"Vader\"])\n",
    "data4.T"
   ]
  },
  {
   "cell_type": "markdown",
   "metadata": {},
   "source": [
    "* Vader picks up that the review is positive and not negative"
   ]
  },
  {
   "cell_type": "markdown",
   "metadata": {},
   "source": [
    "## Adjectives"
   ]
  },
  {
   "cell_type": "code",
   "execution_count": 29,
   "metadata": {},
   "outputs": [],
   "source": [
    "# Adjectives\n",
    "t11 = \"The restaurant is worth visiting\"\n",
    "t12 = \"The restaurant is hardly worth visiting\""
   ]
  },
  {
   "cell_type": "code",
   "execution_count": 30,
   "metadata": {},
   "outputs": [
    {
     "data": {
      "text/html": [
       "<div>\n",
       "<style scoped>\n",
       "    .dataframe tbody tr th:only-of-type {\n",
       "        vertical-align: middle;\n",
       "    }\n",
       "\n",
       "    .dataframe tbody tr th {\n",
       "        vertical-align: top;\n",
       "    }\n",
       "\n",
       "    .dataframe thead th {\n",
       "        text-align: right;\n",
       "    }\n",
       "</style>\n",
       "<table border=\"1\" class=\"dataframe\">\n",
       "  <thead>\n",
       "    <tr style=\"text-align: right;\">\n",
       "      <th></th>\n",
       "      <th>S11</th>\n",
       "      <th>S12</th>\n",
       "    </tr>\n",
       "  </thead>\n",
       "  <tbody>\n",
       "    <tr>\n",
       "      <th>TextBlob</th>\n",
       "      <td>0.3000</td>\n",
       "      <td>0.3000</td>\n",
       "    </tr>\n",
       "    <tr>\n",
       "      <th>Vader</th>\n",
       "      <td>0.2263</td>\n",
       "      <td>0.1548</td>\n",
       "    </tr>\n",
       "  </tbody>\n",
       "</table>\n",
       "</div>"
      ],
      "text/plain": [
       "             S11     S12\n",
       "TextBlob  0.3000  0.3000\n",
       "Vader     0.2263  0.1548"
      ]
     },
     "execution_count": 30,
     "metadata": {},
     "output_type": "execute_result"
    }
   ],
   "source": [
    "sent_11 = pol(t11)\n",
    "sent_12 = pol(t12)\n",
    "data5 = pd.DataFrame([sent_11,sent_12],index = [\"S11\",\"S12\"],columns = [\"TextBlob\",\"Vader\"])\n",
    "data5.T"
   ]
  },
  {
   "cell_type": "markdown",
   "metadata": {},
   "source": [
    "* Vader adjusts the score downwards for the word 'hardly'."
   ]
  },
  {
   "cell_type": "markdown",
   "metadata": {},
   "source": [
    "## Punctuation"
   ]
  },
  {
   "cell_type": "code",
   "execution_count": 31,
   "metadata": {},
   "outputs": [],
   "source": [
    "# Punctuation\n",
    "t13 = \"The food is great\"\n",
    "t14 = \"The food is great!\"\n",
    "t15 = \"The food is great!!\""
   ]
  },
  {
   "cell_type": "code",
   "execution_count": 32,
   "metadata": {},
   "outputs": [
    {
     "data": {
      "text/html": [
       "<div>\n",
       "<style scoped>\n",
       "    .dataframe tbody tr th:only-of-type {\n",
       "        vertical-align: middle;\n",
       "    }\n",
       "\n",
       "    .dataframe tbody tr th {\n",
       "        vertical-align: top;\n",
       "    }\n",
       "\n",
       "    .dataframe thead th {\n",
       "        text-align: right;\n",
       "    }\n",
       "</style>\n",
       "<table border=\"1\" class=\"dataframe\">\n",
       "  <thead>\n",
       "    <tr style=\"text-align: right;\">\n",
       "      <th></th>\n",
       "      <th>S13</th>\n",
       "      <th>S14</th>\n",
       "      <th>S15</th>\n",
       "    </tr>\n",
       "  </thead>\n",
       "  <tbody>\n",
       "    <tr>\n",
       "      <th>TextBlob</th>\n",
       "      <td>0.8000</td>\n",
       "      <td>1.0000</td>\n",
       "      <td>1.0000</td>\n",
       "    </tr>\n",
       "    <tr>\n",
       "      <th>Vader</th>\n",
       "      <td>0.6249</td>\n",
       "      <td>0.6588</td>\n",
       "      <td>0.6892</td>\n",
       "    </tr>\n",
       "  </tbody>\n",
       "</table>\n",
       "</div>"
      ],
      "text/plain": [
       "             S13     S14     S15\n",
       "TextBlob  0.8000  1.0000  1.0000\n",
       "Vader     0.6249  0.6588  0.6892"
      ]
     },
     "execution_count": 32,
     "metadata": {},
     "output_type": "execute_result"
    }
   ],
   "source": [
    "sent_13 = pol(t13)\n",
    "sent_14 = pol(t14)\n",
    "sent_15 = pol(t15)\n",
    "data6 = pd.DataFrame([sent_13,sent_14,sent_15],index = [\"S13\",\"S14\",\"S15\"],columns = [\"TextBlob\",\"Vader\"])\n",
    "data6.T"
   ]
  },
  {
   "cell_type": "markdown",
   "metadata": {},
   "source": [
    "* VADER picks up the second exclamation mark."
   ]
  },
  {
   "cell_type": "markdown",
   "metadata": {},
   "source": [
    "## Intent"
   ]
  },
  {
   "cell_type": "code",
   "execution_count": 33,
   "metadata": {},
   "outputs": [],
   "source": [
    "# Intent (sarcasm)\n",
    "t16 = \"Is this the best restaurant in town??\""
   ]
  },
  {
   "cell_type": "code",
   "execution_count": 34,
   "metadata": {},
   "outputs": [
    {
     "data": {
      "text/html": [
       "<div>\n",
       "<style scoped>\n",
       "    .dataframe tbody tr th:only-of-type {\n",
       "        vertical-align: middle;\n",
       "    }\n",
       "\n",
       "    .dataframe tbody tr th {\n",
       "        vertical-align: top;\n",
       "    }\n",
       "\n",
       "    .dataframe thead th {\n",
       "        text-align: right;\n",
       "    }\n",
       "</style>\n",
       "<table border=\"1\" class=\"dataframe\">\n",
       "  <thead>\n",
       "    <tr style=\"text-align: right;\">\n",
       "      <th></th>\n",
       "      <th>S16</th>\n",
       "    </tr>\n",
       "  </thead>\n",
       "  <tbody>\n",
       "    <tr>\n",
       "      <th>TextBlob</th>\n",
       "      <td>1.0000</td>\n",
       "    </tr>\n",
       "    <tr>\n",
       "      <th>Vader</th>\n",
       "      <td>0.6767</td>\n",
       "    </tr>\n",
       "  </tbody>\n",
       "</table>\n",
       "</div>"
      ],
      "text/plain": [
       "             S16\n",
       "TextBlob  1.0000\n",
       "Vader     0.6767"
      ]
     },
     "execution_count": 34,
     "metadata": {},
     "output_type": "execute_result"
    }
   ],
   "source": [
    "sent_16 = pol(t16)\n",
    "data7 = pd.DataFrame([sent_16],index = [\"S16\"],columns = [\"TextBlob\",\"Vader\"])\n",
    "data7.T"
   ]
  },
  {
   "cell_type": "markdown",
   "metadata": {},
   "source": [
    "* Both analysers return positive to a negative sentiment but Vader does have a lower score"
   ]
  },
  {
   "cell_type": "markdown",
   "metadata": {},
   "source": [
    "## Contrast"
   ]
  },
  {
   "cell_type": "code",
   "execution_count": 35,
   "metadata": {},
   "outputs": [],
   "source": [
    "# Mixed sentences - contrast\n",
    "t17 = \"The view is amazing but the food is awful\"\n",
    "t18 = \"I loved this place, however it could do with a refurbishment\""
   ]
  },
  {
   "cell_type": "code",
   "execution_count": 36,
   "metadata": {},
   "outputs": [
    {
     "data": {
      "text/html": [
       "<div>\n",
       "<style scoped>\n",
       "    .dataframe tbody tr th:only-of-type {\n",
       "        vertical-align: middle;\n",
       "    }\n",
       "\n",
       "    .dataframe tbody tr th {\n",
       "        vertical-align: top;\n",
       "    }\n",
       "\n",
       "    .dataframe thead th {\n",
       "        text-align: right;\n",
       "    }\n",
       "</style>\n",
       "<table border=\"1\" class=\"dataframe\">\n",
       "  <thead>\n",
       "    <tr style=\"text-align: right;\">\n",
       "      <th></th>\n",
       "      <th>S17</th>\n",
       "      <th>S18</th>\n",
       "    </tr>\n",
       "  </thead>\n",
       "  <tbody>\n",
       "    <tr>\n",
       "      <th>TextBlob</th>\n",
       "      <td>-0.2000</td>\n",
       "      <td>0.7000</td>\n",
       "    </tr>\n",
       "    <tr>\n",
       "      <th>Vader</th>\n",
       "      <td>-0.3818</td>\n",
       "      <td>0.5994</td>\n",
       "    </tr>\n",
       "  </tbody>\n",
       "</table>\n",
       "</div>"
      ],
      "text/plain": [
       "             S17     S18\n",
       "TextBlob -0.2000  0.7000\n",
       "Vader    -0.3818  0.5994"
      ]
     },
     "execution_count": 36,
     "metadata": {},
     "output_type": "execute_result"
    }
   ],
   "source": [
    "sent_17 = pol(t17)\n",
    "sent_18 = pol(t18)\n",
    "data8 = pd.DataFrame([sent_17,sent_18],index = [\"S17\",\"S18\"],columns = [\"TextBlob\",\"Vader\"])\n",
    "data8.T"
   ]
  },
  {
   "cell_type": "markdown",
   "metadata": {},
   "source": [
    "* Both analysers swap from negative to positive between the two sentences."
   ]
  },
  {
   "cell_type": "markdown",
   "metadata": {},
   "source": [
    "## Context - ambiguous adjectives and one word, many meanings"
   ]
  },
  {
   "cell_type": "code",
   "execution_count": 37,
   "metadata": {},
   "outputs": [],
   "source": [
    "# Context - ambiguous adjectives - convey perspective\n",
    "t19 = \"The food is pretty good\"\n",
    "t20 = \"The food is pretty bad\"\n",
    "\n",
    "# One word with many meanings (low can be seen as negative but in context of prices it isnt)\n",
    "t21 = \"The prices are high\"\n",
    "t22 = \"The prices are low\""
   ]
  },
  {
   "cell_type": "code",
   "execution_count": 38,
   "metadata": {},
   "outputs": [
    {
     "data": {
      "text/html": [
       "<div>\n",
       "<style scoped>\n",
       "    .dataframe tbody tr th:only-of-type {\n",
       "        vertical-align: middle;\n",
       "    }\n",
       "\n",
       "    .dataframe tbody tr th {\n",
       "        vertical-align: top;\n",
       "    }\n",
       "\n",
       "    .dataframe thead th {\n",
       "        text-align: right;\n",
       "    }\n",
       "</style>\n",
       "<table border=\"1\" class=\"dataframe\">\n",
       "  <thead>\n",
       "    <tr style=\"text-align: right;\">\n",
       "      <th></th>\n",
       "      <th>S19</th>\n",
       "      <th>S20</th>\n",
       "      <th>S21</th>\n",
       "      <th>S22</th>\n",
       "    </tr>\n",
       "  </thead>\n",
       "  <tbody>\n",
       "    <tr>\n",
       "      <th>TextBlob</th>\n",
       "      <td>0.4750</td>\n",
       "      <td>-0.2250</td>\n",
       "      <td>0.16</td>\n",
       "      <td>0.0000</td>\n",
       "    </tr>\n",
       "    <tr>\n",
       "      <th>Vader</th>\n",
       "      <td>0.7269</td>\n",
       "      <td>-0.0772</td>\n",
       "      <td>0.00</td>\n",
       "      <td>-0.2732</td>\n",
       "    </tr>\n",
       "  </tbody>\n",
       "</table>\n",
       "</div>"
      ],
      "text/plain": [
       "             S19     S20   S21     S22\n",
       "TextBlob  0.4750 -0.2250  0.16  0.0000\n",
       "Vader     0.7269 -0.0772  0.00 -0.2732"
      ]
     },
     "execution_count": 38,
     "metadata": {},
     "output_type": "execute_result"
    }
   ],
   "source": [
    "sent_19 = pol(t19)\n",
    "sent_20 = pol(t20)\n",
    "sent_21 = pol(t21)\n",
    "sent_22 = pol(t22)\n",
    "data9 = pd.DataFrame([sent_19,sent_20,sent_21,sent_22],index = [\"S19\",\"S20\",\"S21\",\"S22\"],columns = [\"TextBlob\",\"Vader\"])\n",
    "data9.T"
   ]
  },
  {
   "cell_type": "markdown",
   "metadata": {},
   "source": [
    "* Both analysers deal with the first two sentences "
   ]
  },
  {
   "cell_type": "markdown",
   "metadata": {},
   "source": [
    "## Emojis"
   ]
  },
  {
   "cell_type": "code",
   "execution_count": 157,
   "metadata": {},
   "outputs": [],
   "source": [
    "t23 = \"Love this place\"\n",
    "t24 = \"Love this place :)\"\n",
    "sent_23 = pol(t23)\n",
    "sent_24 = pol(t24)"
   ]
  },
  {
   "cell_type": "code",
   "execution_count": 159,
   "metadata": {},
   "outputs": [
    {
     "data": {
      "text/html": [
       "<div>\n",
       "<style scoped>\n",
       "    .dataframe tbody tr th:only-of-type {\n",
       "        vertical-align: middle;\n",
       "    }\n",
       "\n",
       "    .dataframe tbody tr th {\n",
       "        vertical-align: top;\n",
       "    }\n",
       "\n",
       "    .dataframe thead th {\n",
       "        text-align: right;\n",
       "    }\n",
       "</style>\n",
       "<table border=\"1\" class=\"dataframe\">\n",
       "  <thead>\n",
       "    <tr style=\"text-align: right;\">\n",
       "      <th></th>\n",
       "      <th>S23</th>\n",
       "      <th>S24</th>\n",
       "    </tr>\n",
       "  </thead>\n",
       "  <tbody>\n",
       "    <tr>\n",
       "      <th>TextBlob</th>\n",
       "      <td>0.5000</td>\n",
       "      <td>0.500</td>\n",
       "    </tr>\n",
       "    <tr>\n",
       "      <th>Vader</th>\n",
       "      <td>0.6369</td>\n",
       "      <td>0.802</td>\n",
       "    </tr>\n",
       "  </tbody>\n",
       "</table>\n",
       "</div>"
      ],
      "text/plain": [
       "             S23    S24\n",
       "TextBlob  0.5000  0.500\n",
       "Vader     0.6369  0.802"
      ]
     },
     "execution_count": 159,
     "metadata": {},
     "output_type": "execute_result"
    }
   ],
   "source": [
    "data10 = pd.DataFrame([sent_23,sent_24],index = [\"S23\",\"S24\"],columns = [\"TextBlob\",\"Vader\"])\n",
    "data10.T"
   ]
  },
  {
   "cell_type": "markdown",
   "metadata": {},
   "source": [
    "# Section 4: Passing All Reviews Through TextBlob and Vader"
   ]
  },
  {
   "cell_type": "code",
   "execution_count": 69,
   "metadata": {},
   "outputs": [],
   "source": [
    "# Run TextBlob against each review in the dataframe\n",
    "df_train[\"Polarity\"] = df_train[\"Sent\"].apply(lambda x: TextBlob(x).sentiment.polarity)\n",
    "df_train[\"Subjectivity\"] = df_train[\"Sent\"].apply(lambda x: TextBlob(x).sentiment.subjectivity)\n",
    "\n",
    "# Round TextBlob polarity\n",
    "#df_train.Polarity = df_train.Polarity.apply(lambda x: round(x,2))\n",
    "#df_train.Subjectivity = df_train.Subjectivity.apply(lambda x: round(x,2))"
   ]
  },
  {
   "cell_type": "code",
   "execution_count": 70,
   "metadata": {},
   "outputs": [],
   "source": [
    "# Run VADER against each review in the dataframe\n",
    "df_train[\"VNeg\"] = df_train[\"Sent\"].apply(lambda x: sia.polarity_scores(x)['neg'])\n",
    "df_train[\"VNeu\"] = df_train[\"Sent\"].apply(lambda x: sia.polarity_scores(x)['neu'])\n",
    "df_train[\"VPos\"] = df_train[\"Sent\"].apply(lambda x: sia.polarity_scores(x)['pos'])\n",
    "df_train[\"VComp\"] = df_train[\"Sent\"].apply(lambda x: sia.polarity_scores(x)['compound'])"
   ]
  },
  {
   "cell_type": "code",
   "execution_count": 71,
   "metadata": {},
   "outputs": [
    {
     "data": {
      "text/html": [
       "<div>\n",
       "<style scoped>\n",
       "    .dataframe tbody tr th:only-of-type {\n",
       "        vertical-align: middle;\n",
       "    }\n",
       "\n",
       "    .dataframe tbody tr th {\n",
       "        vertical-align: top;\n",
       "    }\n",
       "\n",
       "    .dataframe thead th {\n",
       "        text-align: right;\n",
       "    }\n",
       "</style>\n",
       "<table border=\"1\" class=\"dataframe\">\n",
       "  <thead>\n",
       "    <tr style=\"text-align: right;\">\n",
       "      <th></th>\n",
       "      <th>Score</th>\n",
       "      <th>Polarity</th>\n",
       "      <th>Subjectivity</th>\n",
       "      <th>VNeg</th>\n",
       "      <th>VNeu</th>\n",
       "      <th>VPos</th>\n",
       "      <th>VComp</th>\n",
       "      <th>TB_score</th>\n",
       "    </tr>\n",
       "  </thead>\n",
       "  <tbody>\n",
       "    <tr>\n",
       "      <th>count</th>\n",
       "      <td>1453.000000</td>\n",
       "      <td>1453.000000</td>\n",
       "      <td>1453.000000</td>\n",
       "      <td>1453.000000</td>\n",
       "      <td>1453.000000</td>\n",
       "      <td>1453.000000</td>\n",
       "      <td>1453.000000</td>\n",
       "      <td>1453.000000</td>\n",
       "    </tr>\n",
       "    <tr>\n",
       "      <th>mean</th>\n",
       "      <td>0.000688</td>\n",
       "      <td>0.163928</td>\n",
       "      <td>0.561965</td>\n",
       "      <td>0.065449</td>\n",
       "      <td>0.747056</td>\n",
       "      <td>0.187495</td>\n",
       "      <td>0.391645</td>\n",
       "      <td>0.285616</td>\n",
       "    </tr>\n",
       "    <tr>\n",
       "      <th>std</th>\n",
       "      <td>1.000344</td>\n",
       "      <td>0.270587</td>\n",
       "      <td>0.118932</td>\n",
       "      <td>0.071461</td>\n",
       "      <td>0.107764</td>\n",
       "      <td>0.133375</td>\n",
       "      <td>0.744444</td>\n",
       "      <td>0.451863</td>\n",
       "    </tr>\n",
       "    <tr>\n",
       "      <th>min</th>\n",
       "      <td>-1.000000</td>\n",
       "      <td>-0.812500</td>\n",
       "      <td>0.111111</td>\n",
       "      <td>0.000000</td>\n",
       "      <td>0.365000</td>\n",
       "      <td>0.000000</td>\n",
       "      <td>-0.991100</td>\n",
       "      <td>0.000000</td>\n",
       "    </tr>\n",
       "    <tr>\n",
       "      <th>25%</th>\n",
       "      <td>-1.000000</td>\n",
       "      <td>-0.028388</td>\n",
       "      <td>0.484615</td>\n",
       "      <td>0.000000</td>\n",
       "      <td>0.680000</td>\n",
       "      <td>0.078000</td>\n",
       "      <td>-0.361200</td>\n",
       "      <td>0.000000</td>\n",
       "    </tr>\n",
       "    <tr>\n",
       "      <th>50%</th>\n",
       "      <td>1.000000</td>\n",
       "      <td>0.166875</td>\n",
       "      <td>0.556667</td>\n",
       "      <td>0.045000</td>\n",
       "      <td>0.760000</td>\n",
       "      <td>0.158000</td>\n",
       "      <td>0.875000</td>\n",
       "      <td>0.000000</td>\n",
       "    </tr>\n",
       "    <tr>\n",
       "      <th>75%</th>\n",
       "      <td>1.000000</td>\n",
       "      <td>0.369792</td>\n",
       "      <td>0.639955</td>\n",
       "      <td>0.104000</td>\n",
       "      <td>0.827000</td>\n",
       "      <td>0.275000</td>\n",
       "      <td>0.968100</td>\n",
       "      <td>1.000000</td>\n",
       "    </tr>\n",
       "    <tr>\n",
       "      <th>max</th>\n",
       "      <td>1.000000</td>\n",
       "      <td>0.950000</td>\n",
       "      <td>1.000000</td>\n",
       "      <td>0.414000</td>\n",
       "      <td>1.000000</td>\n",
       "      <td>0.635000</td>\n",
       "      <td>0.999400</td>\n",
       "      <td>1.000000</td>\n",
       "    </tr>\n",
       "  </tbody>\n",
       "</table>\n",
       "</div>"
      ],
      "text/plain": [
       "             Score     Polarity  Subjectivity         VNeg         VNeu  \\\n",
       "count  1453.000000  1453.000000   1453.000000  1453.000000  1453.000000   \n",
       "mean      0.000688     0.163928      0.561965     0.065449     0.747056   \n",
       "std       1.000344     0.270587      0.118932     0.071461     0.107764   \n",
       "min      -1.000000    -0.812500      0.111111     0.000000     0.365000   \n",
       "25%      -1.000000    -0.028388      0.484615     0.000000     0.680000   \n",
       "50%       1.000000     0.166875      0.556667     0.045000     0.760000   \n",
       "75%       1.000000     0.369792      0.639955     0.104000     0.827000   \n",
       "max       1.000000     0.950000      1.000000     0.414000     1.000000   \n",
       "\n",
       "              VPos        VComp     TB_score  \n",
       "count  1453.000000  1453.000000  1453.000000  \n",
       "mean      0.187495     0.391645     0.285616  \n",
       "std       0.133375     0.744444     0.451863  \n",
       "min       0.000000    -0.991100     0.000000  \n",
       "25%       0.078000    -0.361200     0.000000  \n",
       "50%       0.158000     0.875000     0.000000  \n",
       "75%       0.275000     0.968100     1.000000  \n",
       "max       0.635000     0.999400     1.000000  "
      ]
     },
     "execution_count": 71,
     "metadata": {},
     "output_type": "execute_result"
    }
   ],
   "source": [
    "# Check basic descriptive statistics\n",
    "df_train.describe()"
   ]
  },
  {
   "cell_type": "code",
   "execution_count": 72,
   "metadata": {},
   "outputs": [
    {
     "data": {
      "image/png": "[encoded data removed]",
      "text/plain": [
       "<Figure size 720x432 with 1 Axes>"
      ]
     },
     "metadata": {},
     "output_type": "display_data"
    }
   ],
   "source": [
    "# Look at how the Polarity scores are distributed - TextBlob\n",
    "num_bins = 50\n",
    "\n",
    "fig, ax = plt.subplots(figsize=(10,6))\n",
    "ax.set_facecolor(\"White\")\n",
    "n, bins, patches = plt.hist(df_train.Polarity, num_bins, facecolor='green', alpha=0.5)\n",
    "plt.xlabel('Polarity')\n",
    "plt.ylabel('Count')\n",
    "plt.title('TextBlob - Distribution of Polarity Scores',size = 20)\n",
    "plt.show();"
   ]
  },
  {
   "cell_type": "code",
   "execution_count": 73,
   "metadata": {},
   "outputs": [
    {
     "name": "stdout",
     "output_type": "stream",
     "text": [
      "1003\n",
      "45\n",
      "405\n"
     ]
    }
   ],
   "source": [
    "# How many reviews have positive, neutral and negative sentiment?\n",
    "print(df_train[df_train[\"Polarity\"] >= 0.01].shape[0])\n",
    "print(df_train[(df_train[\"Polarity\"] >-0.01) & (df_train[\"Polarity\"]<0.01)].shape[0])\n",
    "print(df_train[df_train[\"Polarity\"] <= -0.01].shape[0])"
   ]
  },
  {
   "cell_type": "code",
   "execution_count": 74,
   "metadata": {},
   "outputs": [
    {
     "data": {
      "text/plain": [
       "-0.22933829756514126"
      ]
     },
     "execution_count": 74,
     "metadata": {},
     "output_type": "execute_result"
    }
   ],
   "source": [
    "# Get skew\n",
    "df_train.Polarity.skew()"
   ]
  },
  {
   "cell_type": "code",
   "execution_count": 75,
   "metadata": {},
   "outputs": [
    {
     "data": {
      "image/png": "[encoded data removed]",
      "text/plain": [
       "<Figure size 720x432 with 1 Axes>"
      ]
     },
     "metadata": {},
     "output_type": "display_data"
    }
   ],
   "source": [
    "# Plot Vader Compound Scores\n",
    "num_bins = 50\n",
    "fig, ax = plt.subplots(figsize=(10,6))\n",
    "ax.set_facecolor(\"White\")\n",
    "n, bins, patches = plt.hist(df_train.VComp, num_bins, facecolor='brown', alpha=0.5)\n",
    "plt.xlabel('Polarity')\n",
    "plt.ylabel('Count')\n",
    "plt.title('Distribution of VADER Compound Scores', fontsize = 20)\n",
    "plt.show();"
   ]
  },
  {
   "cell_type": "code",
   "execution_count": 76,
   "metadata": {},
   "outputs": [
    {
     "name": "stdout",
     "output_type": "stream",
     "text": [
      "1015\n",
      "15\n",
      "423\n"
     ]
    }
   ],
   "source": [
    "# How many reviews have sentiment above and below 0.05 threshold suggested in the documentation\n",
    "print(df_train[df_train[\"VComp\"] >= 0.05].shape[0])\n",
    "print(df_train[(df_train[\"VComp\"] <0.05) & (df_train[\"VComp\"] > -0.05)].shape[0])\n",
    "print(df_train[df_train[\"VComp\"] <= -0.05].shape[0])"
   ]
  },
  {
   "cell_type": "code",
   "execution_count": 77,
   "metadata": {},
   "outputs": [
    {
     "data": {
      "text/plain": [
       "-0.8407105437634207"
      ]
     },
     "execution_count": 77,
     "metadata": {},
     "output_type": "execute_result"
    }
   ],
   "source": [
    "# Get skew of VComp distribution\n",
    "df_train.VComp.skew()"
   ]
  },
  {
   "cell_type": "code",
   "execution_count": 78,
   "metadata": {},
   "outputs": [
    {
     "data": {
      "image/png": "[encoded data removed]",
      "text/plain": [
       "<Figure size 720x432 with 1 Axes>"
      ]
     },
     "metadata": {},
     "output_type": "display_data"
    }
   ],
   "source": [
    "# Look at the Distribution of Polarity with regard to Ratings\n",
    "fig, ax = plt.subplots(figsize = (10,6))\n",
    "ax.set_facecolor(\"White\")\n",
    "sns.boxenplot(x='Score', y='Polarity', data=df_train)\n",
    "plt.title(\"TextBlob\",fontsize = 20)\n",
    "plt.show();"
   ]
  },
  {
   "cell_type": "code",
   "execution_count": 79,
   "metadata": {},
   "outputs": [
    {
     "data": {
      "image/png": "[encoded data removed]",
      "text/plain": [
       "<Figure size 720x432 with 1 Axes>"
      ]
     },
     "metadata": {},
     "output_type": "display_data"
    }
   ],
   "source": [
    "# Look at the Distribution of VADER Compound Score with regard to Ratings\n",
    "fig, ax = plt.subplots(figsize = (10,6))\n",
    "ax.set_facecolor(\"White\")\n",
    "sns.boxenplot(x='Score', y='VComp', data=df_train)\n",
    "plt.title(\"VADER\", fontsize = 20)\n",
    "plt.show();"
   ]
  },
  {
   "cell_type": "markdown",
   "metadata": {},
   "source": [
    "* TextBlob scores are slightly negatively skewed with bimodal distribution\n",
    "* VADER's distribution is heavily negatively skewed\n",
    "* The TextBlob boxplot shows negative reviews only just below zero score and positive between 0.25 and 0.50 \n",
    "* VADER scores most reviews as strongly positive and there are outliers.  \n",
    "* The boxplot for VADER shows greater variation in the compound polarity for negative reviews compared to positive. "
   ]
  },
  {
   "cell_type": "markdown",
   "metadata": {},
   "source": [
    "# Section 4: Comparison of Analyser Scores with User Rating"
   ]
  },
  {
   "cell_type": "markdown",
   "metadata": {},
   "source": [
    "### TextBlob"
   ]
  },
  {
   "cell_type": "markdown",
   "metadata": {},
   "source": [
    "Uses a weighted average score over all the words in a sentence"
   ]
  },
  {
   "cell_type": "code",
   "execution_count": 88,
   "metadata": {},
   "outputs": [
    {
     "data": {
      "text/html": [
       "<div>\n",
       "<style scoped>\n",
       "    .dataframe tbody tr th:only-of-type {\n",
       "        vertical-align: middle;\n",
       "    }\n",
       "\n",
       "    .dataframe tbody tr th {\n",
       "        vertical-align: top;\n",
       "    }\n",
       "\n",
       "    .dataframe thead th {\n",
       "        text-align: right;\n",
       "    }\n",
       "</style>\n",
       "<table border=\"1\" class=\"dataframe\">\n",
       "  <thead>\n",
       "    <tr style=\"text-align: right;\">\n",
       "      <th></th>\n",
       "      <th>Town</th>\n",
       "      <th>Category</th>\n",
       "      <th>Sent</th>\n",
       "      <th>Score</th>\n",
       "      <th>Polarity</th>\n",
       "      <th>Subjectivity</th>\n",
       "      <th>VNeg</th>\n",
       "      <th>VNeu</th>\n",
       "      <th>VPos</th>\n",
       "      <th>VComp</th>\n",
       "      <th>TB_score</th>\n",
       "    </tr>\n",
       "  </thead>\n",
       "  <tbody>\n",
       "    <tr>\n",
       "      <th>1176</th>\n",
       "      <td>Bognor</td>\n",
       "      <td>Food</td>\n",
       "      <td>Overcharged on the bill £29. We were a party o...</td>\n",
       "      <td>-1</td>\n",
       "      <td>0.0</td>\n",
       "      <td>0.5</td>\n",
       "      <td>0.061</td>\n",
       "      <td>0.796</td>\n",
       "      <td>0.143</td>\n",
       "      <td>0.4767</td>\n",
       "      <td>-1</td>\n",
       "    </tr>\n",
       "  </tbody>\n",
       "</table>\n",
       "</div>"
      ],
      "text/plain": [
       "        Town Category                                               Sent  \\\n",
       "1176  Bognor     Food  Overcharged on the bill £29. We were a party o...   \n",
       "\n",
       "      Score  Polarity  Subjectivity   VNeg   VNeu   VPos   VComp  TB_score  \n",
       "1176     -1       0.0           0.5  0.061  0.796  0.143  0.4767        -1  "
      ]
     },
     "execution_count": 88,
     "metadata": {},
     "output_type": "execute_result"
    }
   ],
   "source": [
    "# Check for any polaritiy scores that are zero or neutral sentiment\n",
    "df_train[df_train[\"Polarity\"] == 0]"
   ]
  },
  {
   "cell_type": "code",
   "execution_count": 89,
   "metadata": {},
   "outputs": [],
   "source": [
    "# Set polarities greater than zero 1 and polarities less than zero to -1 \n",
    "# Assume for ease that polarity >0 is positive and <=0 is negative, so any neutral polarities are ignored\n",
    "\n",
    "conditions = [(df_train[\"Polarity\"]>0),df_train[\"Polarity\"]<=0]\n",
    "choices = [1,-1]\n",
    "df_train[\"TB_score\"] = np.select(conditions,choices,default = 'null')\n",
    "df_train[\"TB_score\"] = df_train[\"TB_score\"].astype('int64')"
   ]
  },
  {
   "cell_type": "code",
   "execution_count": 106,
   "metadata": {},
   "outputs": [
    {
     "data": {
      "text/plain": [
       " 1    1028\n",
       "-1     425\n",
       "Name: TB_score, dtype: int64"
      ]
     },
     "execution_count": 106,
     "metadata": {},
     "output_type": "execute_result"
    }
   ],
   "source": [
    "df_train[\"TB_score\"].value_counts()"
   ]
  },
  {
   "cell_type": "code",
   "execution_count": 107,
   "metadata": {},
   "outputs": [
    {
     "data": {
      "text/plain": [
       " 1    727\n",
       "-1    726\n",
       "Name: Score, dtype: int64"
      ]
     },
     "execution_count": 107,
     "metadata": {},
     "output_type": "execute_result"
    }
   ],
   "source": [
    "# Value counts of scores - 1 is positive reviews and -1 is negative reviews\n",
    "df_train[\"Score\"].value_counts()"
   ]
  },
  {
   "cell_type": "code",
   "execution_count": 91,
   "metadata": {},
   "outputs": [
    {
     "data": {
      "text/html": [
       "<div>\n",
       "<style scoped>\n",
       "    .dataframe tbody tr th:only-of-type {\n",
       "        vertical-align: middle;\n",
       "    }\n",
       "\n",
       "    .dataframe tbody tr th {\n",
       "        vertical-align: top;\n",
       "    }\n",
       "\n",
       "    .dataframe thead th {\n",
       "        text-align: right;\n",
       "    }\n",
       "</style>\n",
       "<table border=\"1\" class=\"dataframe\">\n",
       "  <thead>\n",
       "    <tr style=\"text-align: right;\">\n",
       "      <th></th>\n",
       "      <th>Town</th>\n",
       "      <th>Category</th>\n",
       "      <th>Sent</th>\n",
       "      <th>Score</th>\n",
       "      <th>Polarity</th>\n",
       "      <th>Subjectivity</th>\n",
       "      <th>VNeg</th>\n",
       "      <th>VNeu</th>\n",
       "      <th>VPos</th>\n",
       "      <th>VComp</th>\n",
       "      <th>TB_score</th>\n",
       "    </tr>\n",
       "  </thead>\n",
       "  <tbody>\n",
       "    <tr>\n",
       "      <th>0</th>\n",
       "      <td>Bognor</td>\n",
       "      <td>Accommodation</td>\n",
       "      <td>Central B &amp; B We had room 6, excellent view, w...</td>\n",
       "      <td>1</td>\n",
       "      <td>0.214026</td>\n",
       "      <td>0.513420</td>\n",
       "      <td>0.032</td>\n",
       "      <td>0.853</td>\n",
       "      <td>0.115</td>\n",
       "      <td>0.9217</td>\n",
       "      <td>1</td>\n",
       "    </tr>\n",
       "    <tr>\n",
       "      <th>1</th>\n",
       "      <td>Littlehampton</td>\n",
       "      <td>Accommodation</td>\n",
       "      <td>Not what it used to be... We lived in the area...</td>\n",
       "      <td>-1</td>\n",
       "      <td>0.145588</td>\n",
       "      <td>0.493627</td>\n",
       "      <td>0.045</td>\n",
       "      <td>0.918</td>\n",
       "      <td>0.037</td>\n",
       "      <td>0.1296</td>\n",
       "      <td>1</td>\n",
       "    </tr>\n",
       "    <tr>\n",
       "      <th>2</th>\n",
       "      <td>Bognor</td>\n",
       "      <td>Accommodation</td>\n",
       "      <td>Easter Break 5 days at Bognor Stayed in Rockpo...</td>\n",
       "      <td>1</td>\n",
       "      <td>0.318723</td>\n",
       "      <td>0.501515</td>\n",
       "      <td>0.000</td>\n",
       "      <td>0.796</td>\n",
       "      <td>0.204</td>\n",
       "      <td>0.9685</td>\n",
       "      <td>1</td>\n",
       "    </tr>\n",
       "  </tbody>\n",
       "</table>\n",
       "</div>"
      ],
      "text/plain": [
       "            Town       Category  \\\n",
       "0         Bognor  Accommodation   \n",
       "1  Littlehampton  Accommodation   \n",
       "2         Bognor  Accommodation   \n",
       "\n",
       "                                                Sent  Score  Polarity  \\\n",
       "0  Central B & B We had room 6, excellent view, w...      1  0.214026   \n",
       "1  Not what it used to be... We lived in the area...     -1  0.145588   \n",
       "2  Easter Break 5 days at Bognor Stayed in Rockpo...      1  0.318723   \n",
       "\n",
       "   Subjectivity   VNeg   VNeu   VPos   VComp  TB_score  \n",
       "0      0.513420  0.032  0.853  0.115  0.9217         1  \n",
       "1      0.493627  0.045  0.918  0.037  0.1296         1  \n",
       "2      0.501515  0.000  0.796  0.204  0.9685         1  "
      ]
     },
     "execution_count": 91,
     "metadata": {},
     "output_type": "execute_result"
    }
   ],
   "source": [
    "df_train.head(3)"
   ]
  },
  {
   "cell_type": "code",
   "execution_count": 92,
   "metadata": {},
   "outputs": [
    {
     "data": {
      "image/png": "[encoded data removed]",
      "text/plain": [
       "<Figure size 432x288 with 2 Axes>"
      ]
     },
     "metadata": {},
     "output_type": "display_data"
    }
   ],
   "source": [
    "confusion_matrix = pd.crosstab(df_train['Score'], df_train['TB_score'], rownames=['User_score'], colnames=['TextBlob_score'])\n",
    "sns.heatmap(confusion_matrix, annot=True,fmt=\".0f\")\n",
    "plt.show()"
   ]
  },
  {
   "cell_type": "markdown",
   "metadata": {},
   "source": [
    "Noting that the -1 is actually the positive class in this case (i.e. the class we are interested in representing negative reviews) and the +1 is actually the negative class (the class representing good reviews that we are not interested in)."
   ]
  },
  {
   "cell_type": "code",
   "execution_count": 150,
   "metadata": {},
   "outputs": [],
   "source": [
    "# Metrics function (pos_label = -1 as that represents negative reviews which is the class we are interested in)\n",
    "def metrics(y_true,y_pred):\n",
    "    a = accuracy_score(y_true, y_pred)*100\n",
    "    p = precision_score(y_true, y_pred,pos_label = -1)*100\n",
    "    r = recall_score(y_true, y_pred,pos_label = -1)*100\n",
    "    f1 = f1_score(y_true, y_pred,pos_label = -1)*100\n",
    "    roc = roc_auc_score(y_true,y_pred)*100\n",
    "    \n",
    "    return a,p,r,f1,roc"
   ]
  },
  {
   "cell_type": "code",
   "execution_count": 151,
   "metadata": {},
   "outputs": [
    {
     "data": {
      "text/plain": [
       "(79.00894700619409,\n",
       " 99.52941176470588,\n",
       " 58.26446280991735,\n",
       " 73.50130321459599,\n",
       " 78.99467982311548)"
      ]
     },
     "execution_count": 151,
     "metadata": {},
     "output_type": "execute_result"
    }
   ],
   "source": [
    "metrics(df_train['Score'], df_train['TB_score'])"
   ]
  },
  {
   "cell_type": "markdown",
   "metadata": {},
   "source": [
    "### VADER"
   ]
  },
  {
   "cell_type": "markdown",
   "metadata": {},
   "source": [
    "A compound score greater than and equal to 0.05 is positive and negative is <= 0.05. Neutral is defined by VADER as between -0.05 and 0.05. "
   ]
  },
  {
   "cell_type": "code",
   "execution_count": 163,
   "metadata": {},
   "outputs": [
    {
     "data": {
      "text/html": [
       "<div>\n",
       "<style scoped>\n",
       "    .dataframe tbody tr th:only-of-type {\n",
       "        vertical-align: middle;\n",
       "    }\n",
       "\n",
       "    .dataframe tbody tr th {\n",
       "        vertical-align: top;\n",
       "    }\n",
       "\n",
       "    .dataframe thead th {\n",
       "        text-align: right;\n",
       "    }\n",
       "</style>\n",
       "<table border=\"1\" class=\"dataframe\">\n",
       "  <thead>\n",
       "    <tr style=\"text-align: right;\">\n",
       "      <th></th>\n",
       "      <th>Town</th>\n",
       "      <th>Category</th>\n",
       "      <th>Sent</th>\n",
       "      <th>Score</th>\n",
       "      <th>Polarity</th>\n",
       "      <th>Subjectivity</th>\n",
       "      <th>VNeg</th>\n",
       "      <th>VNeu</th>\n",
       "      <th>VPos</th>\n",
       "      <th>VComp</th>\n",
       "      <th>TB_score</th>\n",
       "    </tr>\n",
       "  </thead>\n",
       "  <tbody>\n",
       "    <tr>\n",
       "      <th>309</th>\n",
       "      <td>Arundel</td>\n",
       "      <td>Accommodation</td>\n",
       "      <td>Sunday lunch Heard the news that this is the p...</td>\n",
       "      <td>-1</td>\n",
       "      <td>-0.083333</td>\n",
       "      <td>0.522222</td>\n",
       "      <td>0.033</td>\n",
       "      <td>0.935</td>\n",
       "      <td>0.032</td>\n",
       "      <td>-0.0129</td>\n",
       "      <td>-1</td>\n",
       "    </tr>\n",
       "    <tr>\n",
       "      <th>354</th>\n",
       "      <td>Bognor</td>\n",
       "      <td>Food</td>\n",
       "      <td>Flies Went in for a sandwiches. Used toilet fi...</td>\n",
       "      <td>-1</td>\n",
       "      <td>0.072222</td>\n",
       "      <td>0.111111</td>\n",
       "      <td>0.000</td>\n",
       "      <td>1.000</td>\n",
       "      <td>0.000</td>\n",
       "      <td>0.0000</td>\n",
       "      <td>1</td>\n",
       "    </tr>\n",
       "    <tr>\n",
       "      <th>472</th>\n",
       "      <td>Arundel</td>\n",
       "      <td>Food</td>\n",
       "      <td>Very disappointing Went today with a friend at...</td>\n",
       "      <td>-1</td>\n",
       "      <td>-0.238333</td>\n",
       "      <td>0.568333</td>\n",
       "      <td>0.062</td>\n",
       "      <td>0.875</td>\n",
       "      <td>0.063</td>\n",
       "      <td>0.0475</td>\n",
       "      <td>-1</td>\n",
       "    </tr>\n",
       "    <tr>\n",
       "      <th>480</th>\n",
       "      <td>Littlehampton</td>\n",
       "      <td>Food</td>\n",
       "      <td>Disappointed I went to lunch with my friend wh...</td>\n",
       "      <td>-1</td>\n",
       "      <td>-0.342840</td>\n",
       "      <td>0.732099</td>\n",
       "      <td>0.113</td>\n",
       "      <td>0.773</td>\n",
       "      <td>0.113</td>\n",
       "      <td>-0.0018</td>\n",
       "      <td>-1</td>\n",
       "    </tr>\n",
       "    <tr>\n",
       "      <th>484</th>\n",
       "      <td>Bognor</td>\n",
       "      <td>Food</td>\n",
       "      <td>Dissapointed Used to order a decent take away ...</td>\n",
       "      <td>-1</td>\n",
       "      <td>-0.108333</td>\n",
       "      <td>0.804167</td>\n",
       "      <td>0.000</td>\n",
       "      <td>1.000</td>\n",
       "      <td>0.000</td>\n",
       "      <td>0.0000</td>\n",
       "      <td>-1</td>\n",
       "    </tr>\n",
       "    <tr>\n",
       "      <th>554</th>\n",
       "      <td>Littlehampton</td>\n",
       "      <td>Food</td>\n",
       "      <td>Hair in food.. not the first timw We always or...</td>\n",
       "      <td>-1</td>\n",
       "      <td>0.024038</td>\n",
       "      <td>0.433013</td>\n",
       "      <td>0.062</td>\n",
       "      <td>0.867</td>\n",
       "      <td>0.071</td>\n",
       "      <td>0.0260</td>\n",
       "      <td>1</td>\n",
       "    </tr>\n",
       "    <tr>\n",
       "      <th>572</th>\n",
       "      <td>Littlehampton</td>\n",
       "      <td>Food</td>\n",
       "      <td>Long wait  Very very very long wait defidently...</td>\n",
       "      <td>-1</td>\n",
       "      <td>-0.177798</td>\n",
       "      <td>0.529524</td>\n",
       "      <td>0.019</td>\n",
       "      <td>0.981</td>\n",
       "      <td>0.000</td>\n",
       "      <td>-0.0387</td>\n",
       "      <td>-1</td>\n",
       "    </tr>\n",
       "    <tr>\n",
       "      <th>600</th>\n",
       "      <td>Bognor</td>\n",
       "      <td>Food</td>\n",
       "      <td>Flies Went in for a sandwiches. Used toilet fi...</td>\n",
       "      <td>-1</td>\n",
       "      <td>0.072222</td>\n",
       "      <td>0.111111</td>\n",
       "      <td>0.000</td>\n",
       "      <td>1.000</td>\n",
       "      <td>0.000</td>\n",
       "      <td>0.0000</td>\n",
       "      <td>1</td>\n",
       "    </tr>\n",
       "    <tr>\n",
       "      <th>782</th>\n",
       "      <td>Arundel</td>\n",
       "      <td>Food</td>\n",
       "      <td>Slow service. Visited earlier in the week, ear...</td>\n",
       "      <td>-1</td>\n",
       "      <td>-0.040972</td>\n",
       "      <td>0.391667</td>\n",
       "      <td>0.000</td>\n",
       "      <td>1.000</td>\n",
       "      <td>0.000</td>\n",
       "      <td>0.0000</td>\n",
       "      <td>-1</td>\n",
       "    </tr>\n",
       "    <tr>\n",
       "      <th>876</th>\n",
       "      <td>Littlehampton</td>\n",
       "      <td>Food</td>\n",
       "      <td>All day breakfast, not The menu states all day...</td>\n",
       "      <td>-1</td>\n",
       "      <td>-0.300000</td>\n",
       "      <td>0.600000</td>\n",
       "      <td>0.000</td>\n",
       "      <td>1.000</td>\n",
       "      <td>0.000</td>\n",
       "      <td>0.0000</td>\n",
       "      <td>-1</td>\n",
       "    </tr>\n",
       "    <tr>\n",
       "      <th>899</th>\n",
       "      <td>Littlehampton</td>\n",
       "      <td>Food</td>\n",
       "      <td>Plants and food yippee Haskins garden centre h...</td>\n",
       "      <td>1</td>\n",
       "      <td>0.050000</td>\n",
       "      <td>0.625000</td>\n",
       "      <td>0.000</td>\n",
       "      <td>1.000</td>\n",
       "      <td>0.000</td>\n",
       "      <td>0.0000</td>\n",
       "      <td>1</td>\n",
       "    </tr>\n",
       "    <tr>\n",
       "      <th>903</th>\n",
       "      <td>Littlehampton</td>\n",
       "      <td>Food</td>\n",
       "      <td>Run out of buns The woman behind the counter w...</td>\n",
       "      <td>-1</td>\n",
       "      <td>-0.200000</td>\n",
       "      <td>0.350000</td>\n",
       "      <td>0.000</td>\n",
       "      <td>1.000</td>\n",
       "      <td>0.000</td>\n",
       "      <td>0.0000</td>\n",
       "      <td>-1</td>\n",
       "    </tr>\n",
       "    <tr>\n",
       "      <th>957</th>\n",
       "      <td>Littlehampton</td>\n",
       "      <td>Food</td>\n",
       "      <td>Disappointing Come here regularly but today th...</td>\n",
       "      <td>-1</td>\n",
       "      <td>-0.143333</td>\n",
       "      <td>0.452051</td>\n",
       "      <td>0.142</td>\n",
       "      <td>0.748</td>\n",
       "      <td>0.111</td>\n",
       "      <td>0.0018</td>\n",
       "      <td>-1</td>\n",
       "    </tr>\n",
       "    <tr>\n",
       "      <th>1185</th>\n",
       "      <td>Arundel</td>\n",
       "      <td>Food</td>\n",
       "      <td>Three visits, all poor Three times I have been...</td>\n",
       "      <td>-1</td>\n",
       "      <td>-0.027077</td>\n",
       "      <td>0.394024</td>\n",
       "      <td>0.115</td>\n",
       "      <td>0.778</td>\n",
       "      <td>0.107</td>\n",
       "      <td>-0.0387</td>\n",
       "      <td>-1</td>\n",
       "    </tr>\n",
       "    <tr>\n",
       "      <th>1403</th>\n",
       "      <td>Arundel</td>\n",
       "      <td>Attractions</td>\n",
       "      <td>Arundel Castle NOT dog friendly  Arrived today...</td>\n",
       "      <td>-1</td>\n",
       "      <td>0.104167</td>\n",
       "      <td>0.283333</td>\n",
       "      <td>0.047</td>\n",
       "      <td>0.904</td>\n",
       "      <td>0.049</td>\n",
       "      <td>0.0186</td>\n",
       "      <td>1</td>\n",
       "    </tr>\n",
       "  </tbody>\n",
       "</table>\n",
       "</div>"
      ],
      "text/plain": [
       "               Town       Category  \\\n",
       "309         Arundel  Accommodation   \n",
       "354          Bognor           Food   \n",
       "472         Arundel           Food   \n",
       "480   Littlehampton           Food   \n",
       "484          Bognor           Food   \n",
       "554   Littlehampton           Food   \n",
       "572   Littlehampton           Food   \n",
       "600          Bognor           Food   \n",
       "782         Arundel           Food   \n",
       "876   Littlehampton           Food   \n",
       "899   Littlehampton           Food   \n",
       "903   Littlehampton           Food   \n",
       "957   Littlehampton           Food   \n",
       "1185        Arundel           Food   \n",
       "1403        Arundel    Attractions   \n",
       "\n",
       "                                                   Sent  Score  Polarity  \\\n",
       "309   Sunday lunch Heard the news that this is the p...     -1 -0.083333   \n",
       "354   Flies Went in for a sandwiches. Used toilet fi...     -1  0.072222   \n",
       "472   Very disappointing Went today with a friend at...     -1 -0.238333   \n",
       "480   Disappointed I went to lunch with my friend wh...     -1 -0.342840   \n",
       "484   Dissapointed Used to order a decent take away ...     -1 -0.108333   \n",
       "554   Hair in food.. not the first timw We always or...     -1  0.024038   \n",
       "572   Long wait  Very very very long wait defidently...     -1 -0.177798   \n",
       "600   Flies Went in for a sandwiches. Used toilet fi...     -1  0.072222   \n",
       "782   Slow service. Visited earlier in the week, ear...     -1 -0.040972   \n",
       "876   All day breakfast, not The menu states all day...     -1 -0.300000   \n",
       "899   Plants and food yippee Haskins garden centre h...      1  0.050000   \n",
       "903   Run out of buns The woman behind the counter w...     -1 -0.200000   \n",
       "957   Disappointing Come here regularly but today th...     -1 -0.143333   \n",
       "1185  Three visits, all poor Three times I have been...     -1 -0.027077   \n",
       "1403  Arundel Castle NOT dog friendly  Arrived today...     -1  0.104167   \n",
       "\n",
       "      Subjectivity   VNeg   VNeu   VPos   VComp  TB_score  \n",
       "309       0.522222  0.033  0.935  0.032 -0.0129        -1  \n",
       "354       0.111111  0.000  1.000  0.000  0.0000         1  \n",
       "472       0.568333  0.062  0.875  0.063  0.0475        -1  \n",
       "480       0.732099  0.113  0.773  0.113 -0.0018        -1  \n",
       "484       0.804167  0.000  1.000  0.000  0.0000        -1  \n",
       "554       0.433013  0.062  0.867  0.071  0.0260         1  \n",
       "572       0.529524  0.019  0.981  0.000 -0.0387        -1  \n",
       "600       0.111111  0.000  1.000  0.000  0.0000         1  \n",
       "782       0.391667  0.000  1.000  0.000  0.0000        -1  \n",
       "876       0.600000  0.000  1.000  0.000  0.0000        -1  \n",
       "899       0.625000  0.000  1.000  0.000  0.0000         1  \n",
       "903       0.350000  0.000  1.000  0.000  0.0000        -1  \n",
       "957       0.452051  0.142  0.748  0.111  0.0018        -1  \n",
       "1185      0.394024  0.115  0.778  0.107 -0.0387        -1  \n",
       "1403      0.283333  0.047  0.904  0.049  0.0186         1  "
      ]
     },
     "execution_count": 163,
     "metadata": {},
     "output_type": "execute_result"
    }
   ],
   "source": [
    "# How many instances are affected by this (ie how many does VADER say are neutral)\n",
    "df_train[(df_train[\"VComp\"]>-0.05) & (df_train[\"VComp\"]<0.05)]"
   ]
  },
  {
   "cell_type": "markdown",
   "metadata": {},
   "source": [
    "Most of these are actually scored as bad reviews by users so we will treat compound scores between -0.05 and +0.05 as negative. Therefore good reviews are compound score of 0.05 and above and bad reviews as compound score of less than 0.05."
   ]
  },
  {
   "cell_type": "code",
   "execution_count": 173,
   "metadata": {},
   "outputs": [],
   "source": [
    "# Set polarities greater than equal to zero to zero (majority class) and polarities less than zero to 1 (minority class)\n",
    "conditions = [(df_train[\"VComp\"]>=0.05),\n",
    "              df_train[\"VComp\"]<0.05]\n",
    "choices = [1,-1]\n",
    "df_train[\"VComp_score\"] = np.select(conditions,choices,default = 'null')\n",
    "df_train[\"VComp_score\"] = df_train[\"VComp_score\"].astype('int32')"
   ]
  },
  {
   "cell_type": "code",
   "execution_count": 174,
   "metadata": {},
   "outputs": [
    {
     "data": {
      "image/png": "[encoded data removed]",
      "text/plain": [
       "<Figure size 432x288 with 2 Axes>"
      ]
     },
     "metadata": {},
     "output_type": "display_data"
    }
   ],
   "source": [
    "confusion_matrix = pd.crosstab(df_train['Score'], df_train['VComp_score'], rownames=['User_score'], colnames=['Vader_score'])\n",
    "sns.heatmap(confusion_matrix, annot=True,fmt=\".0f\")\n",
    "plt.show()"
   ]
  },
  {
   "cell_type": "code",
   "execution_count": 175,
   "metadata": {},
   "outputs": [
    {
     "data": {
      "text/plain": [
       " 1    1015\n",
       "-1     438\n",
       "Name: VComp_score, dtype: int64"
      ]
     },
     "execution_count": 175,
     "metadata": {},
     "output_type": "execute_result"
    }
   ],
   "source": [
    "df_train[\"VComp_score\"].value_counts()"
   ]
  },
  {
   "cell_type": "code",
   "execution_count": 176,
   "metadata": {},
   "outputs": [
    {
     "data": {
      "text/plain": [
       "(79.62835512732278,\n",
       " 99.08675799086758,\n",
       " 59.77961432506888,\n",
       " 74.5704467353952,\n",
       " 79.61470399884804)"
      ]
     },
     "execution_count": 176,
     "metadata": {},
     "output_type": "execute_result"
    }
   ],
   "source": [
    "metrics(df_train['Score'], df_train['VComp_score'])"
   ]
  },
  {
   "cell_type": "markdown",
   "metadata": {},
   "source": [
    "* Both analysers had similar metrics with Vader achieving slightly better accuracy and recall\n",
    "* Neither did as well with the bad reviews, misclassifying many of them as good reviews"
   ]
  },
  {
   "cell_type": "code",
   "execution_count": 177,
   "metadata": {},
   "outputs": [
    {
     "data": {
      "text/html": [
       "<div>\n",
       "<style scoped>\n",
       "    .dataframe tbody tr th:only-of-type {\n",
       "        vertical-align: middle;\n",
       "    }\n",
       "\n",
       "    .dataframe tbody tr th {\n",
       "        vertical-align: top;\n",
       "    }\n",
       "\n",
       "    .dataframe thead th {\n",
       "        text-align: right;\n",
       "    }\n",
       "</style>\n",
       "<table border=\"1\" class=\"dataframe\">\n",
       "  <thead>\n",
       "    <tr style=\"text-align: right;\">\n",
       "      <th></th>\n",
       "      <th>Town</th>\n",
       "      <th>Category</th>\n",
       "      <th>Sent</th>\n",
       "      <th>Score</th>\n",
       "      <th>Polarity</th>\n",
       "      <th>Subjectivity</th>\n",
       "      <th>VNeg</th>\n",
       "      <th>VNeu</th>\n",
       "      <th>VPos</th>\n",
       "      <th>VComp</th>\n",
       "      <th>TB_score</th>\n",
       "      <th>VComp_score</th>\n",
       "    </tr>\n",
       "  </thead>\n",
       "  <tbody>\n",
       "    <tr>\n",
       "      <th>1</th>\n",
       "      <td>Littlehampton</td>\n",
       "      <td>Accommodation</td>\n",
       "      <td>Not what it used to be... We lived in the area...</td>\n",
       "      <td>-1</td>\n",
       "      <td>0.145588</td>\n",
       "      <td>0.493627</td>\n",
       "      <td>0.045</td>\n",
       "      <td>0.918</td>\n",
       "      <td>0.037</td>\n",
       "      <td>0.1296</td>\n",
       "      <td>1</td>\n",
       "      <td>1</td>\n",
       "    </tr>\n",
       "    <tr>\n",
       "      <th>4</th>\n",
       "      <td>Arundel</td>\n",
       "      <td>Accommodation</td>\n",
       "      <td>Charging top prices for low quality food Had t...</td>\n",
       "      <td>-1</td>\n",
       "      <td>-0.015476</td>\n",
       "      <td>0.441071</td>\n",
       "      <td>0.074</td>\n",
       "      <td>0.797</td>\n",
       "      <td>0.130</td>\n",
       "      <td>0.7399</td>\n",
       "      <td>-1</td>\n",
       "      <td>1</td>\n",
       "    </tr>\n",
       "  </tbody>\n",
       "</table>\n",
       "</div>"
      ],
      "text/plain": [
       "            Town       Category  \\\n",
       "1  Littlehampton  Accommodation   \n",
       "4        Arundel  Accommodation   \n",
       "\n",
       "                                                Sent  Score  Polarity  \\\n",
       "1  Not what it used to be... We lived in the area...     -1  0.145588   \n",
       "4  Charging top prices for low quality food Had t...     -1 -0.015476   \n",
       "\n",
       "   Subjectivity   VNeg   VNeu   VPos   VComp  TB_score  VComp_score  \n",
       "1      0.493627  0.045  0.918  0.037  0.1296         1            1  \n",
       "4      0.441071  0.074  0.797  0.130  0.7399        -1            1  "
      ]
     },
     "execution_count": 177,
     "metadata": {},
     "output_type": "execute_result"
    }
   ],
   "source": [
    "# Examine some reviews that VADER set as negative but user score was positive\n",
    "wrong = df_train[df_train[\"Score\"] != df_train[\"VComp_score\"]]\n",
    "wrong_neg = wrong[wrong[\"VComp_score\"] == 1]\n",
    "wrong_neg.head(2)"
   ]
  },
  {
   "cell_type": "code",
   "execution_count": 178,
   "metadata": {},
   "outputs": [
    {
     "data": {
      "text/plain": [
       "(292, 12)"
      ]
     },
     "execution_count": 178,
     "metadata": {},
     "output_type": "execute_result"
    }
   ],
   "source": [
    "wrong_neg.shape"
   ]
  },
  {
   "cell_type": "code",
   "execution_count": 183,
   "metadata": {},
   "outputs": [
    {
     "data": {
      "text/plain": [
       "'Not what it used to be... We lived in the area for 25 years and in fact, my daughter worked at The Seaview bar some years ago when she was a student. We always sent visitors there when our house was full, it was our preferred local hostelry.\\nSo it wasn\\'t surprising we booked a room for 4 nights at The Seaview when we went back last week, and sent them a message through the booking site advising we would be bringing our dog (they are listed as dog friendly on the site).\\nWhen booking in, my wife was rather surprised to be told they were not going to accept dogs in future. We were also told the room had no furniture (?) as the dog was staying - we were glad it had 2 beds... - and basically, please pay upfront and don\\'t come back.\\nThe rate included breakfast and I ordered a cooked breakfast and my wife asked for a boiled egg - the lady said: \"We don\\'t do boiled eggs.\" so she had toast. When we returned the beds were un-made and the bathroom wasn\\'t cleaned nor towels replaced. The hot water was temperamental - on and off - and an American lady told my wife during breakfast that she had to wash her hair in cold water. She wasn\\'t pleased...\\nThe next day we asked for the bathroom to be cleaned, and it was; but do we need to ask?\\nWe were sorry to see the Seaview like this. We were not made welcome and Beth, the Labrador, and us will not be returning (even if we could)...'"
      ]
     },
     "execution_count": 183,
     "metadata": {},
     "output_type": "execute_result"
    }
   ],
   "source": [
    "wrong_neg[\"Sent\"].iloc[0]"
   ]
  },
  {
   "cell_type": "code",
   "execution_count": 184,
   "metadata": {},
   "outputs": [
    {
     "data": {
      "text/plain": [
       "'Charging top prices for low quality food Had the buttermilk chicken burger from the pub menu. The chicken steaklets were clearly over cooked. They definitely were not freshly prepared and likely bought in bulk at an Iceland store. Same goes for the french fries. This would be all good and well for the local pub. This is however a Hilton restaurant charging £15 for a low quality burger. My advice would be to go elsewhere, no matter how hungry you might be.\\nRead less'"
      ]
     },
     "execution_count": 184,
     "metadata": {},
     "output_type": "execute_result"
    }
   ],
   "source": [
    "wrong_neg[\"Sent\"].iloc[1]"
   ]
  },
  {
   "cell_type": "code",
   "execution_count": 185,
   "metadata": {},
   "outputs": [
    {
     "data": {
      "text/html": [
       "<div>\n",
       "<style scoped>\n",
       "    .dataframe tbody tr th:only-of-type {\n",
       "        vertical-align: middle;\n",
       "    }\n",
       "\n",
       "    .dataframe tbody tr th {\n",
       "        vertical-align: top;\n",
       "    }\n",
       "\n",
       "    .dataframe thead th {\n",
       "        text-align: right;\n",
       "    }\n",
       "</style>\n",
       "<table border=\"1\" class=\"dataframe\">\n",
       "  <thead>\n",
       "    <tr style=\"text-align: right;\">\n",
       "      <th></th>\n",
       "      <th>Town</th>\n",
       "      <th>Category</th>\n",
       "      <th>Sent</th>\n",
       "      <th>Score</th>\n",
       "      <th>Polarity</th>\n",
       "      <th>Subjectivity</th>\n",
       "      <th>VNeg</th>\n",
       "      <th>VNeu</th>\n",
       "      <th>VPos</th>\n",
       "      <th>VComp</th>\n",
       "      <th>TB_score</th>\n",
       "      <th>VComp_score</th>\n",
       "    </tr>\n",
       "  </thead>\n",
       "  <tbody>\n",
       "    <tr>\n",
       "      <th>553</th>\n",
       "      <td>Arundel</td>\n",
       "      <td>Food</td>\n",
       "      <td>One of many! Arundel is a real tourist hotspot...</td>\n",
       "      <td>1</td>\n",
       "      <td>0.290025</td>\n",
       "      <td>0.548889</td>\n",
       "      <td>0.109</td>\n",
       "      <td>0.822</td>\n",
       "      <td>0.069</td>\n",
       "      <td>-0.7405</td>\n",
       "      <td>1</td>\n",
       "      <td>-1</td>\n",
       "    </tr>\n",
       "    <tr>\n",
       "      <th>899</th>\n",
       "      <td>Littlehampton</td>\n",
       "      <td>Food</td>\n",
       "      <td>Plants and food yippee Haskins garden centre h...</td>\n",
       "      <td>1</td>\n",
       "      <td>0.050000</td>\n",
       "      <td>0.625000</td>\n",
       "      <td>0.000</td>\n",
       "      <td>1.000</td>\n",
       "      <td>0.000</td>\n",
       "      <td>0.0000</td>\n",
       "      <td>1</td>\n",
       "      <td>-1</td>\n",
       "    </tr>\n",
       "  </tbody>\n",
       "</table>\n",
       "</div>"
      ],
      "text/plain": [
       "              Town Category  \\\n",
       "553        Arundel     Food   \n",
       "899  Littlehampton     Food   \n",
       "\n",
       "                                                  Sent  Score  Polarity  \\\n",
       "553  One of many! Arundel is a real tourist hotspot...      1  0.290025   \n",
       "899  Plants and food yippee Haskins garden centre h...      1  0.050000   \n",
       "\n",
       "     Subjectivity   VNeg   VNeu   VPos   VComp  TB_score  VComp_score  \n",
       "553      0.548889  0.109  0.822  0.069 -0.7405         1           -1  \n",
       "899      0.625000  0.000  1.000  0.000  0.0000         1           -1  "
      ]
     },
     "execution_count": 185,
     "metadata": {},
     "output_type": "execute_result"
    }
   ],
   "source": [
    "# Examine some reviews that VADER set as positive but user score was negative\n",
    "wrong_pos = wrong[wrong[\"VComp_score\"] == -1]\n",
    "wrong_pos.head(2)"
   ]
  },
  {
   "cell_type": "code",
   "execution_count": 186,
   "metadata": {},
   "outputs": [
    {
     "data": {
      "text/plain": [
       "(4, 12)"
      ]
     },
     "execution_count": 186,
     "metadata": {},
     "output_type": "execute_result"
    }
   ],
   "source": [
    "wrong_pos.shape"
   ]
  },
  {
   "cell_type": "code",
   "execution_count": 187,
   "metadata": {},
   "outputs": [
    {
     "data": {
      "text/plain": [
       "\"One of many! Arundel is a real tourist hotspot. Our granddaughter wanted to go there because it sounds like the place in 'Frozen'!!!!!\\nTook a break to have a sit down and coffee and teacake. Nice place, good service, but there were so many tea places to choose from!\\nOnly problem was the toilets were upstairs - my poor old knees! THAT'S why we live in a bungalow!\\nTry the place yourself.\""
      ]
     },
     "execution_count": 187,
     "metadata": {},
     "output_type": "execute_result"
    }
   ],
   "source": [
    "wrong_pos[\"Sent\"].iloc[0]"
   ]
  },
  {
   "cell_type": "code",
   "execution_count": 188,
   "metadata": {},
   "outputs": [
    {
     "data": {
      "text/plain": [
       "'Plants and food yippee Haskins garden centre has a wide selection of plants and shrubs, if you can’t get it here then it’s very possible you won’t find it around. Also they do a wide range of meals, light snacks and coffee/tea. '"
      ]
     },
     "execution_count": 188,
     "metadata": {},
     "output_type": "execute_result"
    }
   ],
   "source": [
    "wrong_pos[\"Sent\"].iloc[1]"
   ]
  },
  {
   "cell_type": "markdown",
   "metadata": {},
   "source": [
    "* Vader misclassified more negative reviews as positive than the reverse\n",
    "* Looking at examples, these appear to be quite long and/or contain mixed sentiments"
   ]
  },
  {
   "cell_type": "markdown",
   "metadata": {},
   "source": [
    "# Section 5: Relationship VADER polarity and length of review"
   ]
  },
  {
   "cell_type": "markdown",
   "metadata": {},
   "source": [
    "Does the length of review affect the polarity that VADER gives?"
   ]
  },
  {
   "cell_type": "markdown",
   "metadata": {},
   "source": [
    "## VADER classed as positive when the user score is negative"
   ]
  },
  {
   "cell_type": "code",
   "execution_count": 205,
   "metadata": {},
   "outputs": [],
   "source": [
    "# Looking at reviews VADER misclassified as positive when they are scored negative by the user\n",
    "wrong_neg[\"Num_tokens\"] = wrong_neg[\"Sent\"].apply(lambda x: len(nltk.word_tokenize(x)))"
   ]
  },
  {
   "cell_type": "code",
   "execution_count": 207,
   "metadata": {},
   "outputs": [
    {
     "data": {
      "text/html": [
       "<div>\n",
       "<style scoped>\n",
       "    .dataframe tbody tr th:only-of-type {\n",
       "        vertical-align: middle;\n",
       "    }\n",
       "\n",
       "    .dataframe tbody tr th {\n",
       "        vertical-align: top;\n",
       "    }\n",
       "\n",
       "    .dataframe thead th {\n",
       "        text-align: right;\n",
       "    }\n",
       "</style>\n",
       "<table border=\"1\" class=\"dataframe\">\n",
       "  <thead>\n",
       "    <tr style=\"text-align: right;\">\n",
       "      <th></th>\n",
       "      <th>Town</th>\n",
       "      <th>Category</th>\n",
       "      <th>Sent</th>\n",
       "      <th>Score</th>\n",
       "      <th>Polarity</th>\n",
       "      <th>Subjectivity</th>\n",
       "      <th>VNeg</th>\n",
       "      <th>VNeu</th>\n",
       "      <th>VPos</th>\n",
       "      <th>VComp</th>\n",
       "      <th>TB_score</th>\n",
       "      <th>VComp_score</th>\n",
       "      <th>Num_tokens</th>\n",
       "    </tr>\n",
       "  </thead>\n",
       "  <tbody>\n",
       "    <tr>\n",
       "      <th>1</th>\n",
       "      <td>Littlehampton</td>\n",
       "      <td>Accommodation</td>\n",
       "      <td>Not what it used to be... We lived in the area...</td>\n",
       "      <td>-1</td>\n",
       "      <td>0.145588</td>\n",
       "      <td>0.493627</td>\n",
       "      <td>0.045</td>\n",
       "      <td>0.918</td>\n",
       "      <td>0.037</td>\n",
       "      <td>0.1296</td>\n",
       "      <td>1</td>\n",
       "      <td>1</td>\n",
       "      <td>310</td>\n",
       "    </tr>\n",
       "    <tr>\n",
       "      <th>4</th>\n",
       "      <td>Arundel</td>\n",
       "      <td>Accommodation</td>\n",
       "      <td>Charging top prices for low quality food Had t...</td>\n",
       "      <td>-1</td>\n",
       "      <td>-0.015476</td>\n",
       "      <td>0.441071</td>\n",
       "      <td>0.074</td>\n",
       "      <td>0.797</td>\n",
       "      <td>0.130</td>\n",
       "      <td>0.7399</td>\n",
       "      <td>-1</td>\n",
       "      <td>1</td>\n",
       "      <td>92</td>\n",
       "    </tr>\n",
       "    <tr>\n",
       "      <th>10</th>\n",
       "      <td>Bognor</td>\n",
       "      <td>Accommodation</td>\n",
       "      <td>Seen Better Days We stayed here for two nights...</td>\n",
       "      <td>-1</td>\n",
       "      <td>-0.005764</td>\n",
       "      <td>0.590000</td>\n",
       "      <td>0.048</td>\n",
       "      <td>0.780</td>\n",
       "      <td>0.173</td>\n",
       "      <td>0.8550</td>\n",
       "      <td>-1</td>\n",
       "      <td>1</td>\n",
       "      <td>83</td>\n",
       "    </tr>\n",
       "    <tr>\n",
       "      <th>15</th>\n",
       "      <td>Arundel</td>\n",
       "      <td>Accommodation</td>\n",
       "      <td>Not great. The room was hot, the fan supplied ...</td>\n",
       "      <td>-1</td>\n",
       "      <td>-0.119667</td>\n",
       "      <td>0.596667</td>\n",
       "      <td>0.188</td>\n",
       "      <td>0.659</td>\n",
       "      <td>0.152</td>\n",
       "      <td>0.1758</td>\n",
       "      <td>-1</td>\n",
       "      <td>1</td>\n",
       "      <td>57</td>\n",
       "    </tr>\n",
       "    <tr>\n",
       "      <th>20</th>\n",
       "      <td>Arundel</td>\n",
       "      <td>Accommodation</td>\n",
       "      <td>Wedding Anniversary  On arrival my husband and...</td>\n",
       "      <td>-1</td>\n",
       "      <td>0.100139</td>\n",
       "      <td>0.582222</td>\n",
       "      <td>0.052</td>\n",
       "      <td>0.834</td>\n",
       "      <td>0.113</td>\n",
       "      <td>0.9794</td>\n",
       "      <td>1</td>\n",
       "      <td>1</td>\n",
       "      <td>332</td>\n",
       "    </tr>\n",
       "  </tbody>\n",
       "</table>\n",
       "</div>"
      ],
      "text/plain": [
       "             Town       Category  \\\n",
       "1   Littlehampton  Accommodation   \n",
       "4         Arundel  Accommodation   \n",
       "10         Bognor  Accommodation   \n",
       "15        Arundel  Accommodation   \n",
       "20        Arundel  Accommodation   \n",
       "\n",
       "                                                 Sent  Score  Polarity  \\\n",
       "1   Not what it used to be... We lived in the area...     -1  0.145588   \n",
       "4   Charging top prices for low quality food Had t...     -1 -0.015476   \n",
       "10  Seen Better Days We stayed here for two nights...     -1 -0.005764   \n",
       "15  Not great. The room was hot, the fan supplied ...     -1 -0.119667   \n",
       "20  Wedding Anniversary  On arrival my husband and...     -1  0.100139   \n",
       "\n",
       "    Subjectivity   VNeg   VNeu   VPos   VComp  TB_score  VComp_score  \\\n",
       "1       0.493627  0.045  0.918  0.037  0.1296         1            1   \n",
       "4       0.441071  0.074  0.797  0.130  0.7399        -1            1   \n",
       "10      0.590000  0.048  0.780  0.173  0.8550        -1            1   \n",
       "15      0.596667  0.188  0.659  0.152  0.1758        -1            1   \n",
       "20      0.582222  0.052  0.834  0.113  0.9794         1            1   \n",
       "\n",
       "    Num_tokens  \n",
       "1          310  \n",
       "4           92  \n",
       "10          83  \n",
       "15          57  \n",
       "20         332  "
      ]
     },
     "execution_count": 207,
     "metadata": {},
     "output_type": "execute_result"
    }
   ],
   "source": [
    "wrong_neg.head()"
   ]
  },
  {
   "cell_type": "code",
   "execution_count": 213,
   "metadata": {},
   "outputs": [
    {
     "data": {
      "image/png": "[encoded data removed]",
      "text/plain": [
       "<Figure size 432x288 with 1 Axes>"
      ]
     },
     "metadata": {},
     "output_type": "display_data"
    }
   ],
   "source": [
    "# Plot a scatter plot of the number of tokens and the vader compound polarity score - log used to spread data out\n",
    "fig, ax = plt.subplots()\n",
    "ax.set_facecolor(\"White\")\n",
    "plt.scatter(x = np.log(wrong_neg[\"Num_tokens\"]), y = wrong_neg[\"VComp\"])\n",
    "plt.xlabel(\"Log Number of Tokens\")\n",
    "plt.ylabel(\"Vader Compound Polarity Score\")\n",
    "ax = plt.title(\"Polarity Against Number of Words for Bad Reviews Misclassified\")"
   ]
  },
  {
   "cell_type": "code",
   "execution_count": 209,
   "metadata": {},
   "outputs": [
    {
     "data": {
      "text/plain": [
       "-0.3862763045143224"
      ]
     },
     "execution_count": 209,
     "metadata": {},
     "output_type": "execute_result"
    }
   ],
   "source": [
    "# Correlation between the two series\n",
    "pd.Series.corr(wrong_pos[\"Num_tokens\"],wrong_pos[\"VComp\"])"
   ]
  },
  {
   "cell_type": "markdown",
   "metadata": {},
   "source": [
    "Seems that the longer the review the more likely VADER is to class it as positive, thereby perhaps missing longer bad reviews"
   ]
  },
  {
   "cell_type": "markdown",
   "metadata": {},
   "source": [
    " # VADER classed as negative when the user score is positive"
   ]
  },
  {
   "cell_type": "code",
   "execution_count": 210,
   "metadata": {},
   "outputs": [],
   "source": [
    "# Looking at reviews VADER misclassified as negative when they are scored positive by the user\n",
    "wrong_pos[\"Num_tokens\"] = wrong_pos[\"Sent\"].apply(lambda x: len(nltk.word_tokenize(x)))"
   ]
  },
  {
   "cell_type": "code",
   "execution_count": 212,
   "metadata": {},
   "outputs": [
    {
     "data": {
      "text/html": [
       "<div>\n",
       "<style scoped>\n",
       "    .dataframe tbody tr th:only-of-type {\n",
       "        vertical-align: middle;\n",
       "    }\n",
       "\n",
       "    .dataframe tbody tr th {\n",
       "        vertical-align: top;\n",
       "    }\n",
       "\n",
       "    .dataframe thead th {\n",
       "        text-align: right;\n",
       "    }\n",
       "</style>\n",
       "<table border=\"1\" class=\"dataframe\">\n",
       "  <thead>\n",
       "    <tr style=\"text-align: right;\">\n",
       "      <th></th>\n",
       "      <th>Town</th>\n",
       "      <th>Category</th>\n",
       "      <th>Sent</th>\n",
       "      <th>Score</th>\n",
       "      <th>Polarity</th>\n",
       "      <th>Subjectivity</th>\n",
       "      <th>VNeg</th>\n",
       "      <th>VNeu</th>\n",
       "      <th>VPos</th>\n",
       "      <th>VComp</th>\n",
       "      <th>TB_score</th>\n",
       "      <th>VComp_score</th>\n",
       "      <th>Num_tokens</th>\n",
       "    </tr>\n",
       "  </thead>\n",
       "  <tbody>\n",
       "    <tr>\n",
       "      <th>553</th>\n",
       "      <td>Arundel</td>\n",
       "      <td>Food</td>\n",
       "      <td>One of many! Arundel is a real tourist hotspot...</td>\n",
       "      <td>1</td>\n",
       "      <td>0.290025</td>\n",
       "      <td>0.548889</td>\n",
       "      <td>0.109</td>\n",
       "      <td>0.822</td>\n",
       "      <td>0.069</td>\n",
       "      <td>-0.7405</td>\n",
       "      <td>1</td>\n",
       "      <td>-1</td>\n",
       "      <td>88</td>\n",
       "    </tr>\n",
       "    <tr>\n",
       "      <th>899</th>\n",
       "      <td>Littlehampton</td>\n",
       "      <td>Food</td>\n",
       "      <td>Plants and food yippee Haskins garden centre h...</td>\n",
       "      <td>1</td>\n",
       "      <td>0.050000</td>\n",
       "      <td>0.625000</td>\n",
       "      <td>0.000</td>\n",
       "      <td>1.000</td>\n",
       "      <td>0.000</td>\n",
       "      <td>0.0000</td>\n",
       "      <td>1</td>\n",
       "      <td>-1</td>\n",
       "      <td>52</td>\n",
       "    </tr>\n",
       "    <tr>\n",
       "      <th>1103</th>\n",
       "      <td>Bognor</td>\n",
       "      <td>Food</td>\n",
       "      <td>Never lets us down ! Our favourite place to ea...</td>\n",
       "      <td>1</td>\n",
       "      <td>0.124938</td>\n",
       "      <td>0.304365</td>\n",
       "      <td>0.118</td>\n",
       "      <td>0.832</td>\n",
       "      <td>0.049</td>\n",
       "      <td>-0.6671</td>\n",
       "      <td>1</td>\n",
       "      <td>-1</td>\n",
       "      <td>61</td>\n",
       "    </tr>\n",
       "    <tr>\n",
       "      <th>1141</th>\n",
       "      <td>Arundel</td>\n",
       "      <td>Food</td>\n",
       "      <td>Lovely roast dinner!  Great roast dinner with ...</td>\n",
       "      <td>1</td>\n",
       "      <td>0.281364</td>\n",
       "      <td>0.668182</td>\n",
       "      <td>0.079</td>\n",
       "      <td>0.834</td>\n",
       "      <td>0.087</td>\n",
       "      <td>-0.2363</td>\n",
       "      <td>1</td>\n",
       "      <td>-1</td>\n",
       "      <td>89</td>\n",
       "    </tr>\n",
       "  </tbody>\n",
       "</table>\n",
       "</div>"
      ],
      "text/plain": [
       "               Town Category  \\\n",
       "553         Arundel     Food   \n",
       "899   Littlehampton     Food   \n",
       "1103         Bognor     Food   \n",
       "1141        Arundel     Food   \n",
       "\n",
       "                                                   Sent  Score  Polarity  \\\n",
       "553   One of many! Arundel is a real tourist hotspot...      1  0.290025   \n",
       "899   Plants and food yippee Haskins garden centre h...      1  0.050000   \n",
       "1103  Never lets us down ! Our favourite place to ea...      1  0.124938   \n",
       "1141  Lovely roast dinner!  Great roast dinner with ...      1  0.281364   \n",
       "\n",
       "      Subjectivity   VNeg   VNeu   VPos   VComp  TB_score  VComp_score  \\\n",
       "553       0.548889  0.109  0.822  0.069 -0.7405         1           -1   \n",
       "899       0.625000  0.000  1.000  0.000  0.0000         1           -1   \n",
       "1103      0.304365  0.118  0.832  0.049 -0.6671         1           -1   \n",
       "1141      0.668182  0.079  0.834  0.087 -0.2363         1           -1   \n",
       "\n",
       "      Num_tokens  \n",
       "553           88  \n",
       "899           52  \n",
       "1103          61  \n",
       "1141          89  "
      ]
     },
     "execution_count": 212,
     "metadata": {},
     "output_type": "execute_result"
    }
   ],
   "source": [
    "wrong_pos.head()"
   ]
  },
  {
   "cell_type": "code",
   "execution_count": 214,
   "metadata": {},
   "outputs": [
    {
     "data": {
      "image/png": "[encoded data removed]",
      "text/plain": [
       "<Figure size 432x288 with 1 Axes>"
      ]
     },
     "metadata": {},
     "output_type": "display_data"
    }
   ],
   "source": [
    "fig, ax = plt.subplots()\n",
    "ax.set_facecolor(\"White\")\n",
    "plt.scatter(x = np.log(wrong_pos[\"Num_tokens\"]), y = wrong_pos[\"VComp\"])\n",
    "plt.xlabel(\"Number of Tokens\")\n",
    "plt.ylabel(\"Vader Compound Polarity Score\")\n",
    "ax = plt.title(\"Polarity Against Number of Words for Positive Reviews Misclassified\")"
   ]
  },
  {
   "cell_type": "code",
   "execution_count": 215,
   "metadata": {},
   "outputs": [
    {
     "data": {
      "text/plain": [
       "0.300972092693382"
      ]
     },
     "execution_count": 215,
     "metadata": {},
     "output_type": "execute_result"
    }
   ],
   "source": [
    "pd.Series.corr(wrong_neg[\"Num_tokens\"], wrong_neg[\"VComp\"])"
   ]
  },
  {
   "cell_type": "markdown",
   "metadata": {},
   "source": [
    "# Section 6: Run the models with cleaned reviews"
   ]
  },
  {
   "cell_type": "code",
   "execution_count": 226,
   "metadata": {},
   "outputs": [],
   "source": [
    "df_train = pd.read_csv(\"train_cleaned.csv\",index_col = 0)\n",
    "df_val = pd.read_csv(\"val_cleaned.csv\",index_col = 0)\n",
    "df_test = pd.read_csv(\"test_cleaned.csv\",index_col = 0)"
   ]
  },
  {
   "cell_type": "code",
   "execution_count": 227,
   "metadata": {},
   "outputs": [],
   "source": [
    "df_train_cleaned = df_train[[\"Town\",\"Category\",\"Sent_clean\",\"Score\"]]\n",
    "df_val_cleaned = df_val[[\"Town\",\"Category\",\"Sent_clean\",\"Score\"]]\n",
    "df_test_cleaned = df_test[[\"Town\",\"Category\",\"Sent_clean\",\"Score\"]]"
   ]
  },
  {
   "cell_type": "code",
   "execution_count": 228,
   "metadata": {},
   "outputs": [],
   "source": [
    "df_train_cleaned.Score.replace(1, -1, inplace = True)\n",
    "df_train_cleaned.Score.replace(0, 1, inplace = True)"
   ]
  },
  {
   "cell_type": "code",
   "execution_count": 229,
   "metadata": {},
   "outputs": [],
   "source": [
    "# Run TextBlob against each review in the dataframe\n",
    "df_train_cleaned[\"Polarity\"] = df_train_cleaned[\"Sent_clean\"].apply(lambda x: TextBlob(x).sentiment.polarity)\n",
    "df_train_cleaned[\"Subjectivity\"] = df_train_cleaned[\"Sent_clean\"].apply(lambda x: TextBlob(x).sentiment.subjectivity)"
   ]
  },
  {
   "cell_type": "code",
   "execution_count": 230,
   "metadata": {},
   "outputs": [],
   "source": [
    "# Run VADER against each review in the dataframe\n",
    "df_train_cleaned[\"VNeg\"] = df_train_cleaned[\"Sent_clean\"].apply(lambda x: sia.polarity_scores(x)['neg'])\n",
    "df_train_cleaned[\"VNeu\"] = df_train_cleaned[\"Sent_clean\"].apply(lambda x: sia.polarity_scores(x)['neu'])\n",
    "df_train_cleaned[\"VPos\"] = df_train_cleaned[\"Sent_clean\"].apply(lambda x: sia.polarity_scores(x)['pos'])\n",
    "df_train_cleaned[\"VComp\"] = df_train_cleaned[\"Sent_clean\"].apply(lambda x: sia.polarity_scores(x)['compound'])"
   ]
  },
  {
   "cell_type": "code",
   "execution_count": 231,
   "metadata": {},
   "outputs": [],
   "source": [
    "conditions = [(df_train_cleaned[\"Polarity\"]>0),df_train_cleaned[\"Polarity\"]<=0]\n",
    "choices = [1,-1]\n",
    "df_train_cleaned[\"TB_score\"] = np.select(conditions,choices,default = 'null')\n",
    "df_train_cleaned[\"TB_score\"] = df_train_cleaned[\"TB_score\"].astype('int64')"
   ]
  },
  {
   "cell_type": "code",
   "execution_count": 232,
   "metadata": {},
   "outputs": [],
   "source": [
    "# Set polarities greater than equal to zero to zero (majority class) and polarities less than zero to 1 (minority class)\n",
    "conditions = [(df_train_cleaned[\"VComp\"]>=0.05),\n",
    "              df_train_cleaned[\"VComp\"]<0.05]\n",
    "choices = [1,-1]\n",
    "df_train_cleaned[\"VComp_score\"] = np.select(conditions,choices,default = 'null')\n",
    "df_train_cleaned[\"VComp_score\"] = df_train_cleaned[\"VComp_score\"].astype('int32')"
   ]
  },
  {
   "cell_type": "code",
   "execution_count": 233,
   "metadata": {},
   "outputs": [
    {
     "data": {
      "image/png": "[encoded data removed]",
      "text/plain": [
       "<Figure size 432x288 with 2 Axes>"
      ]
     },
     "metadata": {},
     "output_type": "display_data"
    }
   ],
   "source": [
    "confusion_matrix = pd.crosstab(df_train_cleaned['Score'], df_train_cleaned['TB_score'], rownames=['User_score'], colnames=['TextBlob_score'])\n",
    "sns.heatmap(confusion_matrix, annot=True,fmt=\".0f\")\n",
    "plt.show()"
   ]
  },
  {
   "cell_type": "code",
   "execution_count": 234,
   "metadata": {},
   "outputs": [
    {
     "data": {
      "text/plain": [
       "(80.38540949759118,\n",
       " 98.67549668874173,\n",
       " 61.57024793388429,\n",
       " 75.82697201017811,\n",
       " 80.37246922141259)"
      ]
     },
     "execution_count": 234,
     "metadata": {},
     "output_type": "execute_result"
    }
   ],
   "source": [
    "metrics(df_train_cleaned['Score'], df_train_cleaned['TB_score'])"
   ]
  },
  {
   "cell_type": "code",
   "execution_count": 235,
   "metadata": {},
   "outputs": [
    {
     "data": {
      "image/png": "[encoded data removed]",
      "text/plain": [
       "<Figure size 432x288 with 2 Axes>"
      ]
     },
     "metadata": {},
     "output_type": "display_data"
    }
   ],
   "source": [
    "confusion_matrix = pd.crosstab(df_train_cleaned['Score'], df_train_cleaned['VComp_score'], rownames=['User_score'], colnames=['Vader_score'])\n",
    "sns.heatmap(confusion_matrix, annot=True,fmt=\".0f\")\n",
    "plt.show()"
   ]
  },
  {
   "cell_type": "code",
   "execution_count": 236,
   "metadata": {},
   "outputs": [
    {
     "data": {
      "text/plain": [
       "(77.56366139022711,\n",
       " 99.01960784313727,\n",
       " 55.64738292011019,\n",
       " 71.25220458553791,\n",
       " 77.54858829636872)"
      ]
     },
     "execution_count": 236,
     "metadata": {},
     "output_type": "execute_result"
    }
   ],
   "source": [
    "metrics(df_train_cleaned['Score'], df_train_cleaned['VComp_score'])"
   ]
  },
  {
   "cell_type": "markdown",
   "metadata": {},
   "source": [
    "# Section 7: Summary"
   ]
  },
  {
   "cell_type": "markdown",
   "metadata": {},
   "source": [
    "Summary\n",
    "\n",
    "* There appears to be a negative relationship between the length of review and the VADER score.\n",
    "* For negative reviews misclassified as positive, the longer reviews are more positive \n",
    "* There are very few good reviews misclassed as bad reviews.\n",
    "* Therefore where people write long and negative reviews VADER does not always pick up the negative sentiment and tends to classify the review as positive\n",
    "* When the data was cleaned, VADER's results got worse but TextBlob's improved (with the exception of precision)\n",
    "* Recall on both is still fairly low, with the best recall of % on TextBlob with the cleaned text."
   ]
  },
  {
   "cell_type": "markdown",
   "metadata": {},
   "source": [
    "The Rules Based Sentiment Analysers achieve good accuracy but recall is poor. They appear to struggle with longer review text when classifying \"Bad\" reviews. They do not appear to account for context well in these cases. Machine Learning techniques may perform better."
   ]
  }
 ],
 "metadata": {
  "kernelspec": {
   "display_name": "Python 3",
   "language": "python",
   "name": "python3"
  },
  "language_info": {
   "codemirror_mode": {
    "name": "ipython",
    "version": 3
   },
   "file_extension": ".py",
   "mimetype": "text/x-python",
   "name": "python",
   "nbconvert_exporter": "python",
   "pygments_lexer": "ipython3",
   "version": "3.8.8"
  }
 },
 "nbformat": 4,
 "nbformat_minor": 2
}
