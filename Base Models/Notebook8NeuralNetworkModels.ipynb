{
 "cells": [
  {
   "cell_type": "markdown",
   "metadata": {},
   "source": [
    "# Neural Network for Text Reviews - using full data set and adjusted class weights"
   ]
  },
  {
   "cell_type": "markdown",
   "metadata": {},
   "source": [
    "In this notebook, the full review set is input to a range of neural network models using balanced class_weights. Class weights need to be balanced as there are many more positive reviews(majority class - zero) than negative reviews(minority class - one). \n",
    "\n",
    "* Section 1 - Import libraries and dataset\n",
    "* Section 2 - Data exploration and preprocessing\n",
    "* Section 3 - Creating word embeddings\n",
    "* Section 4 - Shallow fully connected network\n",
    "* Section 5 - Single dense layer network\n",
    "* Section 6 - Multi-layer dense network\n",
    "* Section 7 - Convolutional network\n",
    "* Section 8 - Recurrent network\n",
    "* Section 9 - LSTM\n",
    "* Section 10 - GRU\n",
    "* Section 11 - Bidirectional \n",
    "* Section 12 - Stacked bidirectional\n",
    "* Section 13 - Summary\n",
    "* Section 14 - Hyperparameter tuning\n",
    "\n",
    "Datasets needed to run notebook:\n",
    "\n",
    "* fulldatasetcleaned.csv"
   ]
  },
  {
   "cell_type": "markdown",
   "metadata": {},
   "source": [
    "Note: \n",
    "* Run in Python 3.6 or 3.7 environment.\n",
    "* Also Numpy Version 1.19 (not the latest)"
   ]
  },
  {
   "cell_type": "markdown",
   "metadata": {},
   "source": [
    "# Section 1: Import libraries and dataset"
   ]
  },
  {
   "cell_type": "code",
   "execution_count": 1,
   "metadata": {},
   "outputs": [],
   "source": [
    "import pandas as pd\n",
    "import numpy as np\n",
    "import keras\n",
    "from keras.models import Sequential\n",
    "from keras.layers import Dense,Flatten,Embedding,LSTM,Dropout,SpatialDropout1D,Conv1D,GlobalMaxPooling1D,SimpleRNN,LSTM,GRU,Bidirectional\n",
    "from keras.preprocessing.text import Tokenizer\n",
    "from keras.preprocessing.sequence import pad_sequences\n",
    "from keras.callbacks import EarlyStopping,ModelCheckpoint\n",
    "from matplotlib import pyplot as plt\n",
    "import seaborn as sns\n",
    "sns.set()\n",
    "\n",
    "import os\n",
    "import pickle\n",
    "\n",
    "import nltk\n",
    "from nltk.corpus import stopwords\n",
    "from sklearn.model_selection import train_test_split\n",
    "from sklearn.metrics import accuracy_score,roc_auc_score,precision_score,recall_score,f1_score,confusion_matrix,classification_report\n",
    "from sklearn.utils import class_weight\n",
    "\n",
    "import warnings\n",
    "warnings.simplefilter(action='ignore', category=FutureWarning)"
   ]
  },
  {
   "cell_type": "code",
   "execution_count": 2,
   "metadata": {},
   "outputs": [],
   "source": [
    "# import full dataset\n",
    "df = pd.read_csv(\"fulldatasetcleaned.csv\")"
   ]
  },
  {
   "cell_type": "code",
   "execution_count": 3,
   "metadata": {},
   "outputs": [
    {
     "data": {
      "text/plain": [
       "(10407, 6)"
      ]
     },
     "execution_count": 3,
     "metadata": {},
     "output_type": "execute_result"
    }
   ],
   "source": [
    "df.shape"
   ]
  },
  {
   "cell_type": "code",
   "execution_count": 4,
   "metadata": {},
   "outputs": [
    {
     "data": {
      "text/html": [
       "<div>\n",
       "<style scoped>\n",
       "    .dataframe tbody tr th:only-of-type {\n",
       "        vertical-align: middle;\n",
       "    }\n",
       "\n",
       "    .dataframe tbody tr th {\n",
       "        vertical-align: top;\n",
       "    }\n",
       "\n",
       "    .dataframe thead th {\n",
       "        text-align: right;\n",
       "    }\n",
       "</style>\n",
       "<table border=\"1\" class=\"dataframe\">\n",
       "  <thead>\n",
       "    <tr style=\"text-align: right;\">\n",
       "      <th></th>\n",
       "      <th>Unnamed: 0</th>\n",
       "      <th>Category</th>\n",
       "      <th>Town</th>\n",
       "      <th>Rating</th>\n",
       "      <th>all_text</th>\n",
       "      <th>cleaned</th>\n",
       "    </tr>\n",
       "  </thead>\n",
       "  <tbody>\n",
       "    <tr>\n",
       "      <th>0</th>\n",
       "      <td>0</td>\n",
       "      <td>Accommodation</td>\n",
       "      <td>Bognor</td>\n",
       "      <td>4</td>\n",
       "      <td>Nice break, shame about the accommodation... W...</td>\n",
       "      <td>nice break shame accommodation booked night st...</td>\n",
       "    </tr>\n",
       "    <tr>\n",
       "      <th>1</th>\n",
       "      <td>1</td>\n",
       "      <td>Accommodation</td>\n",
       "      <td>Bognor</td>\n",
       "      <td>1</td>\n",
       "      <td>Horrendous noise Oyster Bay In Oyster Bay. Oh ...</td>\n",
       "      <td>horrendous noise oh dear poor sound insulation...</td>\n",
       "    </tr>\n",
       "    <tr>\n",
       "      <th>2</th>\n",
       "      <td>2</td>\n",
       "      <td>Accommodation</td>\n",
       "      <td>Bognor</td>\n",
       "      <td>5</td>\n",
       "      <td>Perfect festive few days! Arrived on 27th dec ...</td>\n",
       "      <td>perfect festive day arrived dec night festive ...</td>\n",
       "    </tr>\n",
       "    <tr>\n",
       "      <th>3</th>\n",
       "      <td>3</td>\n",
       "      <td>Accommodation</td>\n",
       "      <td>Bognor</td>\n",
       "      <td>5</td>\n",
       "      <td>Christmas  Just got home a few days ago from o...</td>\n",
       "      <td>christmas got home day ago first christmas awa...</td>\n",
       "    </tr>\n",
       "    <tr>\n",
       "      <th>4</th>\n",
       "      <td>4</td>\n",
       "      <td>Accommodation</td>\n",
       "      <td>Bognor</td>\n",
       "      <td>4</td>\n",
       "      <td>Butlins xmas Went for Xmas break for 4 nights,...</td>\n",
       "      <td>christmas went christmas break night included ...</td>\n",
       "    </tr>\n",
       "  </tbody>\n",
       "</table>\n",
       "</div>"
      ],
      "text/plain": [
       "   Unnamed: 0       Category    Town  Rating  \\\n",
       "0           0  Accommodation  Bognor       4   \n",
       "1           1  Accommodation  Bognor       1   \n",
       "2           2  Accommodation  Bognor       5   \n",
       "3           3  Accommodation  Bognor       5   \n",
       "4           4  Accommodation  Bognor       4   \n",
       "\n",
       "                                            all_text  \\\n",
       "0  Nice break, shame about the accommodation... W...   \n",
       "1  Horrendous noise Oyster Bay In Oyster Bay. Oh ...   \n",
       "2  Perfect festive few days! Arrived on 27th dec ...   \n",
       "3  Christmas  Just got home a few days ago from o...   \n",
       "4  Butlins xmas Went for Xmas break for 4 nights,...   \n",
       "\n",
       "                                             cleaned  \n",
       "0  nice break shame accommodation booked night st...  \n",
       "1  horrendous noise oh dear poor sound insulation...  \n",
       "2  perfect festive day arrived dec night festive ...  \n",
       "3  christmas got home day ago first christmas awa...  \n",
       "4  christmas went christmas break night included ...  "
      ]
     },
     "execution_count": 4,
     "metadata": {},
     "output_type": "execute_result"
    }
   ],
   "source": [
    "df.head()"
   ]
  },
  {
   "cell_type": "code",
   "execution_count": 5,
   "metadata": {},
   "outputs": [
    {
     "name": "stdout",
     "output_type": "stream",
     "text": [
      "<class 'pandas.core.frame.DataFrame'>\n",
      "RangeIndex: 10407 entries, 0 to 10406\n",
      "Data columns (total 6 columns):\n",
      " #   Column      Non-Null Count  Dtype \n",
      "---  ------      --------------  ----- \n",
      " 0   Unnamed: 0  10407 non-null  int64 \n",
      " 1   Category    10407 non-null  object\n",
      " 2   Town        10407 non-null  object\n",
      " 3   Rating      10407 non-null  int64 \n",
      " 4   all_text    10407 non-null  object\n",
      " 5   cleaned     10407 non-null  object\n",
      "dtypes: int64(2), object(4)\n",
      "memory usage: 488.0+ KB\n"
     ]
    }
   ],
   "source": [
    "df.info()"
   ]
  },
  {
   "cell_type": "code",
   "execution_count": 6,
   "metadata": {},
   "outputs": [],
   "source": [
    "# Convert rating to 1 or zero as before (1 for reviews rated 1 or 2 and zero for those rated 4 or 5. Drop those rated 3)\n",
    "df = df[df[\"Rating\"] != 3]\n",
    "df.replace([1,2], 1, inplace = True)\n",
    "df.Rating.replace([4,5], 0, inplace = True)"
   ]
  },
  {
   "cell_type": "markdown",
   "metadata": {},
   "source": [
    "# Section 2: Data Exploration and Preparation"
   ]
  },
  {
   "cell_type": "code",
   "execution_count": 7,
   "metadata": {},
   "outputs": [
    {
     "data": {
      "image/png": "[encoded data removed]",
      "text/plain": [
       "<Figure size 432x288 with 1 Axes>"
      ]
     },
     "metadata": {},
     "output_type": "display_data"
    }
   ],
   "source": [
    "# Plot the value counts for each rating\n",
    "ax = df['Rating'].value_counts().sort_index().plot.bar(title = \"Number of Reviews By User Rating\")"
   ]
  },
  {
   "cell_type": "code",
   "execution_count": 8,
   "metadata": {},
   "outputs": [
    {
     "data": {
      "text/plain": [
       "0    8229\n",
       "1    1301\n",
       "Name: Rating, dtype: int64"
      ]
     },
     "execution_count": 8,
     "metadata": {},
     "output_type": "execute_result"
    }
   ],
   "source": [
    "# Value counts\n",
    "df.Rating.value_counts()"
   ]
  },
  {
   "cell_type": "code",
   "execution_count": 9,
   "metadata": {},
   "outputs": [
    {
     "data": {
      "image/png": "[encoded data removed]",
      "text/plain": [
       "<Figure size 432x288 with 1 Axes>"
      ]
     },
     "metadata": {},
     "output_type": "display_data"
    }
   ],
   "source": [
    "# Plot the distribution of review length in characters\n",
    "ax = df[\"cleaned\"].str.split().apply(len).plot.hist(bins = 50, title = \"Distribution of Number of Words/Review\")"
   ]
  },
  {
   "cell_type": "code",
   "execution_count": 10,
   "metadata": {},
   "outputs": [
    {
     "name": "stdout",
     "output_type": "stream",
     "text": [
      "1062\n",
      "9\n",
      "44.94554039874082\n",
      "33.0\n"
     ]
    }
   ],
   "source": [
    "# Find maximum , minimum, mean, median review length in words/tokens\n",
    "print(df.cleaned.str.split().apply(len).max())\n",
    "print(df.cleaned.str.split().apply(len).min())\n",
    "print(df.cleaned.str.split().apply(len).mean())\n",
    "print(df.cleaned.str.split().apply(len).median())"
   ]
  },
  {
   "cell_type": "code",
   "execution_count": 11,
   "metadata": {},
   "outputs": [],
   "source": [
    "X = df[\"cleaned\"]\n",
    "y = df.Rating"
   ]
  },
  {
   "cell_type": "code",
   "execution_count": 12,
   "metadata": {},
   "outputs": [],
   "source": [
    "# Split into training and validation sets, stratify on y, so the split of zero and one rated items between training and validation sets reflects the overall dataset\n",
    "X_train, X_test, y_train, y_test = train_test_split(X, y, stratify = y,test_size=0.2, random_state=1)\n",
    "X_train, X_val, y_train, y_val = train_test_split(X_train, y_train, stratify = y_train,test_size=0.25, random_state=1) # 0.25 x 0.8 = 0.2"
   ]
  },
  {
   "cell_type": "code",
   "execution_count": 13,
   "metadata": {},
   "outputs": [
    {
     "name": "stdout",
     "output_type": "stream",
     "text": [
      "(5718,) (1906,) (1906,) (5718,) (1906,) (1906,)\n"
     ]
    }
   ],
   "source": [
    "print(X_train.shape, X_val.shape,X_test.shape,y_train.shape,y_val.shape,y_test.shape)"
   ]
  },
  {
   "cell_type": "code",
   "execution_count": 14,
   "metadata": {},
   "outputs": [
    {
     "name": "stdout",
     "output_type": "stream",
     "text": [
      "0    4937\n",
      "1     781\n",
      "Name: Rating, dtype: int64\n",
      "0    1646\n",
      "1     260\n",
      "Name: Rating, dtype: int64\n",
      "0    1646\n",
      "1     260\n",
      "Name: Rating, dtype: int64\n"
     ]
    }
   ],
   "source": [
    "print(y_train.value_counts())\n",
    "print(y_val.value_counts())\n",
    "print(y_test.value_counts())"
   ]
  },
  {
   "cell_type": "markdown",
   "metadata": {},
   "source": [
    "# Section 3: Create Word Embeddings and Metrics Functions"
   ]
  },
  {
   "cell_type": "markdown",
   "metadata": {},
   "source": [
    "## Preprocessing of each dataset"
   ]
  },
  {
   "cell_type": "code",
   "execution_count": 15,
   "metadata": {},
   "outputs": [],
   "source": [
    "# Initialize and fit the tokenizer, which sets text to lower case, removes punctuation and tokenizes. Num_words is maximum\n",
    "# number of words to keep\n",
    "\n",
    "num_words = 10000\n",
    "\n",
    "tokenizer = Tokenizer(num_words=num_words)\n",
    "tokenizer.fit_on_texts(X_train)"
   ]
  },
  {
   "cell_type": "code",
   "execution_count": 16,
   "metadata": {},
   "outputs": [],
   "source": [
    "with open('tokenizer2.pickle','wb') as handle:\n",
    "    pickle.dump(tokenizer,handle,4)"
   ]
  },
  {
   "cell_type": "code",
   "execution_count": 17,
   "metadata": {},
   "outputs": [],
   "source": [
    "# Examine words and counts of each word - uncomment to run\n",
    "#print(tokenizer.word_counts)"
   ]
  },
  {
   "cell_type": "code",
   "execution_count": 18,
   "metadata": {},
   "outputs": [],
   "source": [
    "# Get word plus unique ID in order of the highest frequency words descending - uncomment to run\n",
    "#print(tokenizer.word_index)"
   ]
  },
  {
   "cell_type": "code",
   "execution_count": 19,
   "metadata": {},
   "outputs": [],
   "source": [
    "# Get a list of index words for each word in the index\n",
    "index_word = {v:k for k,v in tokenizer.word_index.items()}"
   ]
  },
  {
   "cell_type": "code",
   "execution_count": 20,
   "metadata": {},
   "outputs": [],
   "source": [
    "# Create word sequences from the text\n",
    "X_train_s = tokenizer.texts_to_sequences(X_train)\n",
    "X_val_s = tokenizer.texts_to_sequences(X_val)\n",
    "X_test_s = tokenizer.texts_to_sequences(X_test)"
   ]
  },
  {
   "cell_type": "code",
   "execution_count": 21,
   "metadata": {},
   "outputs": [
    {
     "data": {
      "text/plain": [
       "12346"
      ]
     },
     "execution_count": 21,
     "metadata": {},
     "output_type": "execute_result"
    }
   ],
   "source": [
    "# Size of the dictionary (add 1 for zeroth index) - number of words in the dictionary \n",
    "vocabulary_size = len(tokenizer.word_index) + 1\n",
    "vocabulary_size"
   ]
  },
  {
   "cell_type": "code",
   "execution_count": 22,
   "metadata": {},
   "outputs": [
    {
     "name": "stdout",
     "output_type": "stream",
     "text": [
      "[4, 999, 324, 145, 332, 999, 109, 68, 14, 258, 247, 223, 28, 7, 836, 145, 3, 7005, 84, 5352, 1, 114, 154, 20, 1, 150, 223, 72, 23, 112, 3, 3, 1220, 13]\n"
     ]
    }
   ],
   "source": [
    "# Examine two padded review sequences to show different lengths for each review\n",
    "print(X_train_s[0])"
   ]
  },
  {
   "cell_type": "code",
   "execution_count": 23,
   "metadata": {},
   "outputs": [],
   "source": [
    "# Pad the vectors to consistent length. Padding to end of review and cutting long reviews at the end on the assumption \n",
    "# that more information will be contained at the front of the review rather than the end.\n",
    "maxlen = 100\n",
    "\n",
    "X_train_w = pad_sequences(np.array(X_train_s,dtype = \"object\"), maxlen=maxlen, padding=\"post\", truncating=\"post\", value=0.0)\n",
    "X_val_w = pad_sequences(np.array(X_val_s,dtype = \"object\"), maxlen=maxlen, padding=\"post\", truncating=\"post\", value=0.0 )\n",
    "X_test_w = pad_sequences(np.array(X_test_s,dtype = \"object\"), maxlen = maxlen, padding = \"post\",truncating = \"post\",value = 0.0)"
   ]
  },
  {
   "cell_type": "code",
   "execution_count": 24,
   "metadata": {},
   "outputs": [
    {
     "name": "stdout",
     "output_type": "stream",
     "text": [
      "[   4  999  324  145  332  999  109   68   14  258  247  223   28    7\n",
      "  836  145    3 7005   84 5352    1  114  154   20    1  150  223   72\n",
      "   23  112    3    3 1220   13    0    0    0    0    0    0    0    0\n",
      "    0    0    0    0    0    0    0    0    0    0    0    0    0    0\n",
      "    0    0    0    0    0    0    0    0    0    0    0    0    0    0\n",
      "    0    0    0    0    0    0    0    0    0    0    0    0    0    0\n",
      "    0    0    0    0    0    0    0    0    0    0    0    0    0    0\n",
      "    0    0]\n"
     ]
    }
   ],
   "source": [
    "# Show padded sequences\n",
    "print(X_train_w[0])"
   ]
  },
  {
   "cell_type": "code",
   "execution_count": 25,
   "metadata": {},
   "outputs": [],
   "source": [
    "# Confusion Matrix function\n",
    "\n",
    "def class_conf(y_val,y_pred_class):\n",
    "    classification = classification_report(y_val, y_pred_class)\n",
    "    fig, ax = plt.subplots()\n",
    "    cf_matrix = confusion_matrix(y_val, y_pred_class)\n",
    "    sns.heatmap(cf_matrix, annot = True, fmt = \"d\",)\n",
    "    plt.xlabel('Predicted')\n",
    "    plt.ylabel('Actual')\n",
    "    plt.title(\"Confusion Matrix\", fontsize = 15)\n",
    "    _ = ax.xaxis.set_ticklabels(['Good Reviews','Bad Reviews'],fontsize = 8)\n",
    "    _ = ax.yaxis.set_ticklabels(['Good Reviews', 'Bad Reviews'], fontsize = 8)\n",
    "    print(classification)  "
   ]
  },
  {
   "cell_type": "code",
   "execution_count": 54,
   "metadata": {},
   "outputs": [],
   "source": [
    "# Metrics function\n",
    "\n",
    "def metric_results(y_val,y_pred_class):\n",
    "    accuracy = accuracy_score(y_val, y_pred_class)\n",
    "    rocauc = roc_auc_score(y_val,y_pred_class)\n",
    "    precision = precision_score(y_val, y_pred_class, average='binary')\n",
    "    recall = recall_score(y_val, y_pred_class, average='binary')\n",
    "    f1 = f1_score(y_val, y_pred_class, average='binary')\n",
    "          \n",
    "    \n",
    "    results = pd.DataFrame({\"Accuracy\":accuracy, \"Precision\":precision, \"Recall\":recall,\n",
    "                                    \"F1\":f1,\"ROCAUC\":rocauc}, index = [0]\n",
    "                                  )\n",
    "    return results"
   ]
  },
  {
   "cell_type": "markdown",
   "metadata": {},
   "source": [
    "# Section 4: Simple Perceptron - no hidden layers"
   ]
  },
  {
   "cell_type": "code",
   "execution_count": 27,
   "metadata": {},
   "outputs": [
    {
     "data": {
      "text/plain": [
       "array([0.57909662, 3.66069142])"
      ]
     },
     "execution_count": 27,
     "metadata": {},
     "output_type": "execute_result"
    }
   ],
   "source": [
    "# Balanced classes - get weights\n",
    "from sklearn.utils import class_weight\n",
    "class_weights = class_weight.compute_class_weight('balanced',np.unique(y_train),y_train)\n",
    "class_weights"
   ]
  },
  {
   "cell_type": "code",
   "execution_count": 87,
   "metadata": {},
   "outputs": [],
   "source": [
    "# Set parameters\n",
    "input_dim = vocabulary_size\n",
    "output_dim = 16\n",
    "input_length = 100\n",
    "batch_size = 16\n",
    "epochs = 10\n",
    "class_weights = {0:0.58168871,\n",
    "                 1:3.56039851}"
   ]
  },
  {
   "cell_type": "code",
   "execution_count": 88,
   "metadata": {},
   "outputs": [],
   "source": [
    "# Simple model with embedding layer and no hidden dense layer, passing the embedding layer to the first layer of the model\n",
    "model = Sequential()\n",
    "model.add(Embedding(input_dim = input_dim, output_dim = output_dim, input_length=input_length))\n",
    "model.add(Flatten())\n",
    "model.add(Dense(1, activation='sigmoid'))"
   ]
  },
  {
   "cell_type": "code",
   "execution_count": 89,
   "metadata": {
    "scrolled": true
   },
   "outputs": [
    {
     "name": "stdout",
     "output_type": "stream",
     "text": [
      "Model: \"sequential_2\"\n",
      "_________________________________________________________________\n",
      "Layer (type)                 Output Shape              Param #   \n",
      "=================================================================\n",
      "embedding_2 (Embedding)      (None, 100, 16)           197536    \n",
      "_________________________________________________________________\n",
      "flatten_2 (Flatten)          (None, 1600)              0         \n",
      "_________________________________________________________________\n",
      "dense_3 (Dense)              (None, 1)                 1601      \n",
      "=================================================================\n",
      "Total params: 199,137\n",
      "Trainable params: 199,137\n",
      "Non-trainable params: 0\n",
      "_________________________________________________________________\n",
      "None\n"
     ]
    }
   ],
   "source": [
    "# Compile the model\n",
    "model.compile(optimizer='adam', loss='binary_crossentropy', metrics=['accuracy'])\n",
    "print(model.summary())"
   ]
  },
  {
   "cell_type": "code",
   "execution_count": 90,
   "metadata": {},
   "outputs": [],
   "source": [
    "#plot_model(model, to_file='model_plot.png', show_shapes=True, show_layer_names=True) \n",
    "# Doesn't work due to compatability issues with graphviz and pydot so models visualised on Colab notebook"
   ]
  },
  {
   "cell_type": "code",
   "execution_count": 91,
   "metadata": {},
   "outputs": [],
   "source": [
    "# The model will use earlystopping if the valuation loss doesn't decrease after 3 epochs\n",
    "output_dir = 'model_output/simpleNN_full'\n",
    "if not os.path.exists(output_dir):\n",
    "    os.makedirs(output_dir)\n",
    "\n",
    "\n",
    "modelcheckpoint = ModelCheckpoint(filepath=output_dir+\"/weights.{epoch:02d}.hdf5\")\n",
    "callbacks = [EarlyStopping(monitor = \"val_loss\", patience = 3),modelcheckpoint]"
   ]
  },
  {
   "cell_type": "code",
   "execution_count": 92,
   "metadata": {},
   "outputs": [
    {
     "name": "stdout",
     "output_type": "stream",
     "text": [
      "Epoch 1/10\n",
      "358/358 - 1s - loss: 0.5426 - accuracy: 0.8639 - val_loss: 0.2332 - val_accuracy: 0.9407\n",
      "Epoch 2/10\n",
      "358/358 - 0s - loss: 0.1615 - accuracy: 0.9622 - val_loss: 0.1409 - val_accuracy: 0.9591\n",
      "Epoch 3/10\n",
      "358/358 - 0s - loss: 0.0729 - accuracy: 0.9829 - val_loss: 0.0958 - val_accuracy: 0.9675\n",
      "Epoch 4/10\n",
      "358/358 - 0s - loss: 0.0412 - accuracy: 0.9920 - val_loss: 0.0889 - val_accuracy: 0.9669\n",
      "Epoch 5/10\n",
      "358/358 - 0s - loss: 0.0254 - accuracy: 0.9970 - val_loss: 0.0852 - val_accuracy: 0.9664\n",
      "Epoch 6/10\n",
      "358/358 - 0s - loss: 0.0166 - accuracy: 0.9984 - val_loss: 0.0807 - val_accuracy: 0.9685\n",
      "Epoch 7/10\n",
      "358/358 - 0s - loss: 0.0113 - accuracy: 0.9990 - val_loss: 0.0884 - val_accuracy: 0.9648\n",
      "Epoch 8/10\n",
      "358/358 - 0s - loss: 0.0078 - accuracy: 0.9997 - val_loss: 0.0858 - val_accuracy: 0.9690\n",
      "Epoch 9/10\n",
      "358/358 - 0s - loss: 0.0052 - accuracy: 0.9998 - val_loss: 0.0882 - val_accuracy: 0.9690\n"
     ]
    }
   ],
   "source": [
    "# Model using keras embeddings\n",
    "history = model.fit(X_train_w,y_train,\n",
    "                    epochs=epochs,\n",
    "                    verbose=2,\n",
    "                    callbacks = callbacks,\n",
    "                    validation_data=(X_val_w, y_val),\n",
    "                    batch_size=batch_size,\n",
    "                    class_weight = class_weights)"
   ]
  },
  {
   "cell_type": "code",
   "execution_count": 93,
   "metadata": {},
   "outputs": [
    {
     "name": "stdout",
     "output_type": "stream",
     "text": [
      "Training Accuracy: 1.0000\n",
      "Validation Accuracy:  0.9690\n"
     ]
    }
   ],
   "source": [
    "# Print training and test accuracies\n",
    "loss, accuracy = model.evaluate(X_train_w, y_train, verbose=False)\n",
    "print(\"Training Accuracy: {:.4f}\".format(accuracy))\n",
    "loss, accuracy = model.evaluate(X_val_w, y_val, verbose=False)\n",
    "print(\"Validation Accuracy:  {:.4f}\".format(accuracy))"
   ]
  },
  {
   "cell_type": "code",
   "execution_count": 94,
   "metadata": {},
   "outputs": [],
   "source": [
    "# Visualise the training and test accuracies and losses\n",
    "import matplotlib.pyplot as plt\n",
    "plt.style.use('ggplot')\n",
    "\n",
    "def plot_history(history):\n",
    "    acc = history.history['accuracy']\n",
    "    val_acc = history.history['val_accuracy']\n",
    "    loss = history.history['loss']\n",
    "    val_loss = history.history['val_loss']\n",
    "    x = range(1, len(acc) + 1)\n",
    "\n",
    "    plt.figure(figsize=(12, 5))\n",
    "    plt.subplot(1, 2, 1)\n",
    "    plt.plot(x, acc, 'b', label='Training acc')\n",
    "    plt.plot(x, val_acc, 'r', label='Val acc')\n",
    "    plt.title('Training and Validation accuracy')\n",
    "    plt.xlabel(\"Epochs\")\n",
    "    plt.legend()\n",
    "    plt.subplot(1, 2, 2)\n",
    "    plt.plot(x, loss, 'b', label='Training loss')\n",
    "    plt.plot(x, val_loss, 'r', label='Val loss')\n",
    "    plt.xlabel(\"Epochs\")\n",
    "    plt.title('Training and Validation loss')\n",
    "    plt.legend()"
   ]
  },
  {
   "cell_type": "code",
   "execution_count": 95,
   "metadata": {},
   "outputs": [
    {
     "data": {
      "image/png": "[encoded data removed]",
      "text/plain": [
       "<Figure size 864x360 with 2 Axes>"
      ]
     },
     "metadata": {},
     "output_type": "display_data"
    }
   ],
   "source": [
    "plot_history(history)"
   ]
  },
  {
   "cell_type": "code",
   "execution_count": 96,
   "metadata": {},
   "outputs": [],
   "source": [
    "# Load model weights from epoch with best validation accuracy\n",
    "model.load_weights(output_dir+\"/weights.03.hdf5\")"
   ]
  },
  {
   "cell_type": "code",
   "execution_count": 97,
   "metadata": {},
   "outputs": [],
   "source": [
    "# Get predicted y values and predicted classes\n",
    "y_pred_prob = model.predict(X_val_w)\n",
    "y_pred_class = (model.predict(X_val_w) > 0.5).astype(\"int32\")"
   ]
  },
  {
   "cell_type": "code",
   "execution_count": 98,
   "metadata": {},
   "outputs": [
    {
     "data": {
      "text/html": [
       "<div>\n",
       "<style scoped>\n",
       "    .dataframe tbody tr th:only-of-type {\n",
       "        vertical-align: middle;\n",
       "    }\n",
       "\n",
       "    .dataframe tbody tr th {\n",
       "        vertical-align: top;\n",
       "    }\n",
       "\n",
       "    .dataframe thead th {\n",
       "        text-align: right;\n",
       "    }\n",
       "</style>\n",
       "<table border=\"1\" class=\"dataframe\">\n",
       "  <thead>\n",
       "    <tr style=\"text-align: right;\">\n",
       "      <th></th>\n",
       "      <th>y_prob</th>\n",
       "      <th>y_pred_class</th>\n",
       "      <th>y</th>\n",
       "    </tr>\n",
       "  </thead>\n",
       "  <tbody>\n",
       "    <tr>\n",
       "      <th>0</th>\n",
       "      <td>[0.006997168]</td>\n",
       "      <td>[0]</td>\n",
       "      <td>0</td>\n",
       "    </tr>\n",
       "    <tr>\n",
       "      <th>1</th>\n",
       "      <td>[0.0044840276]</td>\n",
       "      <td>[0]</td>\n",
       "      <td>0</td>\n",
       "    </tr>\n",
       "    <tr>\n",
       "      <th>2</th>\n",
       "      <td>[0.004755825]</td>\n",
       "      <td>[0]</td>\n",
       "      <td>0</td>\n",
       "    </tr>\n",
       "    <tr>\n",
       "      <th>3</th>\n",
       "      <td>[0.91838026]</td>\n",
       "      <td>[1]</td>\n",
       "      <td>1</td>\n",
       "    </tr>\n",
       "    <tr>\n",
       "      <th>4</th>\n",
       "      <td>[0.9749714]</td>\n",
       "      <td>[1]</td>\n",
       "      <td>1</td>\n",
       "    </tr>\n",
       "  </tbody>\n",
       "</table>\n",
       "</div>"
      ],
      "text/plain": [
       "           y_prob y_pred_class  y\n",
       "0   [0.006997168]          [0]  0\n",
       "1  [0.0044840276]          [0]  0\n",
       "2   [0.004755825]          [0]  0\n",
       "3    [0.91838026]          [1]  1\n",
       "4     [0.9749714]          [1]  1"
      ]
     },
     "execution_count": 98,
     "metadata": {},
     "output_type": "execute_result"
    }
   ],
   "source": [
    "# Create dataframe with y pred probabilities, classes and y actual\n",
    "ydf = pd.DataFrame(list(zip(y_pred_prob, y_pred_class,y_val,)), columns=['y_prob','y_pred_class', 'y'])\n",
    "ydf.head()"
   ]
  },
  {
   "cell_type": "code",
   "execution_count": 99,
   "metadata": {},
   "outputs": [
    {
     "data": {
      "image/png": "[encoded data removed]",
      "text/plain": [
       "<Figure size 432x288 with 1 Axes>"
      ]
     },
     "metadata": {},
     "output_type": "display_data"
    }
   ],
   "source": [
    "# Graph to show distribution of probabilities produced by the model\n",
    "plt.hist(y_pred_prob)\n",
    "_ = plt.axvline(x=0.5, color='blue')"
   ]
  },
  {
   "cell_type": "code",
   "execution_count": 100,
   "metadata": {},
   "outputs": [
    {
     "name": "stdout",
     "output_type": "stream",
     "text": [
      "              precision    recall  f1-score   support\n",
      "\n",
      "           0       0.99      0.97      0.98      1646\n",
      "           1       0.85      0.93      0.89       260\n",
      "\n",
      "    accuracy                           0.97      1906\n",
      "   macro avg       0.92      0.95      0.93      1906\n",
      "weighted avg       0.97      0.97      0.97      1906\n",
      "\n"
     ]
    },
    {
     "data": {
      "image/png": "[encoded data removed]",
      "text/plain": [
       "<Figure size 432x288 with 2 Axes>"
      ]
     },
     "metadata": {},
     "output_type": "display_data"
    }
   ],
   "source": [
    "# Print metrics\n",
    "class_conf(y_val,y_pred_class)"
   ]
  },
  {
   "cell_type": "code",
   "execution_count": 101,
   "metadata": {},
   "outputs": [
    {
     "data": {
      "text/html": [
       "<div>\n",
       "<style scoped>\n",
       "    .dataframe tbody tr th:only-of-type {\n",
       "        vertical-align: middle;\n",
       "    }\n",
       "\n",
       "    .dataframe tbody tr th {\n",
       "        vertical-align: top;\n",
       "    }\n",
       "\n",
       "    .dataframe thead th {\n",
       "        text-align: right;\n",
       "    }\n",
       "</style>\n",
       "<table border=\"1\" class=\"dataframe\">\n",
       "  <thead>\n",
       "    <tr style=\"text-align: right;\">\n",
       "      <th></th>\n",
       "      <th>Accuracy</th>\n",
       "      <th>Precision</th>\n",
       "      <th>Recall</th>\n",
       "      <th>F1</th>\n",
       "      <th>ROCAUC</th>\n",
       "    </tr>\n",
       "  </thead>\n",
       "  <tbody>\n",
       "    <tr>\n",
       "      <th>0</th>\n",
       "      <td>0.967471</td>\n",
       "      <td>0.848592</td>\n",
       "      <td>0.926923</td>\n",
       "      <td>0.886029</td>\n",
       "      <td>0.9504</td>\n",
       "    </tr>\n",
       "  </tbody>\n",
       "</table>\n",
       "</div>"
      ],
      "text/plain": [
       "   Accuracy  Precision    Recall        F1  ROCAUC\n",
       "0  0.967471   0.848592  0.926923  0.886029  0.9504"
      ]
     },
     "execution_count": 101,
     "metadata": {},
     "output_type": "execute_result"
    }
   ],
   "source": [
    "# Summarised results\n",
    "simple_model = metric_results(y_val,y_pred_class)\n",
    "simple_model"
   ]
  },
  {
   "cell_type": "code",
   "execution_count": 102,
   "metadata": {},
   "outputs": [
    {
     "data": {
      "text/html": [
       "<div>\n",
       "<style scoped>\n",
       "    .dataframe tbody tr th:only-of-type {\n",
       "        vertical-align: middle;\n",
       "    }\n",
       "\n",
       "    .dataframe tbody tr th {\n",
       "        vertical-align: top;\n",
       "    }\n",
       "\n",
       "    .dataframe thead th {\n",
       "        text-align: right;\n",
       "    }\n",
       "</style>\n",
       "<table border=\"1\" class=\"dataframe\">\n",
       "  <thead>\n",
       "    <tr style=\"text-align: right;\">\n",
       "      <th></th>\n",
       "      <th>y_prob</th>\n",
       "      <th>y_pred_class</th>\n",
       "      <th>y</th>\n",
       "    </tr>\n",
       "  </thead>\n",
       "  <tbody>\n",
       "    <tr>\n",
       "      <th>39</th>\n",
       "      <td>[0.775072]</td>\n",
       "      <td>[1]</td>\n",
       "      <td>0</td>\n",
       "    </tr>\n",
       "    <tr>\n",
       "      <th>43</th>\n",
       "      <td>[0.97972584]</td>\n",
       "      <td>[1]</td>\n",
       "      <td>0</td>\n",
       "    </tr>\n",
       "    <tr>\n",
       "      <th>59</th>\n",
       "      <td>[0.7959802]</td>\n",
       "      <td>[1]</td>\n",
       "      <td>0</td>\n",
       "    </tr>\n",
       "    <tr>\n",
       "      <th>60</th>\n",
       "      <td>[0.9390029]</td>\n",
       "      <td>[1]</td>\n",
       "      <td>0</td>\n",
       "    </tr>\n",
       "    <tr>\n",
       "      <th>76</th>\n",
       "      <td>[0.2339651]</td>\n",
       "      <td>[0]</td>\n",
       "      <td>1</td>\n",
       "    </tr>\n",
       "  </tbody>\n",
       "</table>\n",
       "</div>"
      ],
      "text/plain": [
       "          y_prob y_pred_class  y\n",
       "39    [0.775072]          [1]  0\n",
       "43  [0.97972584]          [1]  0\n",
       "59   [0.7959802]          [1]  0\n",
       "60   [0.9390029]          [1]  0\n",
       "76   [0.2339651]          [0]  1"
      ]
     },
     "execution_count": 102,
     "metadata": {},
     "output_type": "execute_result"
    }
   ],
   "source": [
    "# What it got wrong\n",
    "not_correct = ydf[ydf.y != ydf.y_pred_class]\n",
    "not_correct.head()"
   ]
  },
  {
   "cell_type": "code",
   "execution_count": 103,
   "metadata": {},
   "outputs": [
    {
     "data": {
      "text/plain": [
       "'could refurbishment I coming since small child granted not fit much quaint charm not think chessington world adventure thorpe park place enjoy kid fun slot machine something age le'"
      ]
     },
     "execution_count": 103,
     "metadata": {},
     "output_type": "execute_result"
    }
   ],
   "source": [
    "X_val.iloc[39]"
   ]
  },
  {
   "cell_type": "code",
   "execution_count": 105,
   "metadata": {},
   "outputs": [
    {
     "data": {
      "text/html": [
       "<div>\n",
       "<style scoped>\n",
       "    .dataframe tbody tr th:only-of-type {\n",
       "        vertical-align: middle;\n",
       "    }\n",
       "\n",
       "    .dataframe tbody tr th {\n",
       "        vertical-align: top;\n",
       "    }\n",
       "\n",
       "    .dataframe thead th {\n",
       "        text-align: right;\n",
       "    }\n",
       "</style>\n",
       "<table border=\"1\" class=\"dataframe\">\n",
       "  <thead>\n",
       "    <tr style=\"text-align: right;\">\n",
       "      <th></th>\n",
       "      <th>y_prob</th>\n",
       "      <th>y_pred_class</th>\n",
       "      <th>y</th>\n",
       "    </tr>\n",
       "  </thead>\n",
       "  <tbody>\n",
       "    <tr>\n",
       "      <th>43</th>\n",
       "      <td>[0.97972584]</td>\n",
       "      <td>[1]</td>\n",
       "      <td>0</td>\n",
       "    </tr>\n",
       "    <tr>\n",
       "      <th>60</th>\n",
       "      <td>[0.9390029]</td>\n",
       "      <td>[1]</td>\n",
       "      <td>0</td>\n",
       "    </tr>\n",
       "    <tr>\n",
       "      <th>114</th>\n",
       "      <td>[0.9901458]</td>\n",
       "      <td>[1]</td>\n",
       "      <td>0</td>\n",
       "    </tr>\n",
       "    <tr>\n",
       "      <th>1041</th>\n",
       "      <td>[0.94924176]</td>\n",
       "      <td>[1]</td>\n",
       "      <td>0</td>\n",
       "    </tr>\n",
       "    <tr>\n",
       "      <th>1449</th>\n",
       "      <td>[0.9212854]</td>\n",
       "      <td>[1]</td>\n",
       "      <td>0</td>\n",
       "    </tr>\n",
       "  </tbody>\n",
       "</table>\n",
       "</div>"
      ],
      "text/plain": [
       "            y_prob y_pred_class  y\n",
       "43    [0.97972584]          [1]  0\n",
       "60     [0.9390029]          [1]  0\n",
       "114    [0.9901458]          [1]  0\n",
       "1041  [0.94924176]          [1]  0\n",
       "1449   [0.9212854]          [1]  0"
      ]
     },
     "execution_count": 105,
     "metadata": {},
     "output_type": "execute_result"
    }
   ],
   "source": [
    "# Where the model STRONGLY predicted a bad review but was actually rated as good by user\n",
    "ydf[(ydf.y == 0) & (ydf.y_prob> 0.9)].head()"
   ]
  },
  {
   "cell_type": "code",
   "execution_count": 106,
   "metadata": {},
   "outputs": [
    {
     "data": {
      "text/plain": [
       "'food staff terrible food not cooked staff rude not want listen anything say would not return'"
      ]
     },
     "execution_count": 106,
     "metadata": {},
     "output_type": "execute_result"
    }
   ],
   "source": [
    "X_val.iloc[43]"
   ]
  },
  {
   "cell_type": "markdown",
   "metadata": {},
   "source": [
    "In this case the model is correct, it is a bad review and the good rating seems wrong"
   ]
  },
  {
   "cell_type": "code",
   "execution_count": 109,
   "metadata": {},
   "outputs": [
    {
     "data": {
      "text/html": [
       "<div>\n",
       "<style scoped>\n",
       "    .dataframe tbody tr th:only-of-type {\n",
       "        vertical-align: middle;\n",
       "    }\n",
       "\n",
       "    .dataframe tbody tr th {\n",
       "        vertical-align: top;\n",
       "    }\n",
       "\n",
       "    .dataframe thead th {\n",
       "        text-align: right;\n",
       "    }\n",
       "</style>\n",
       "<table border=\"1\" class=\"dataframe\">\n",
       "  <thead>\n",
       "    <tr style=\"text-align: right;\">\n",
       "      <th></th>\n",
       "      <th>y_prob</th>\n",
       "      <th>y_pred_class</th>\n",
       "      <th>y</th>\n",
       "    </tr>\n",
       "  </thead>\n",
       "  <tbody>\n",
       "    <tr>\n",
       "      <th>419</th>\n",
       "      <td>[0.047908396]</td>\n",
       "      <td>[0]</td>\n",
       "      <td>1</td>\n",
       "    </tr>\n",
       "    <tr>\n",
       "      <th>1435</th>\n",
       "      <td>[0.023578793]</td>\n",
       "      <td>[0]</td>\n",
       "      <td>1</td>\n",
       "    </tr>\n",
       "  </tbody>\n",
       "</table>\n",
       "</div>"
      ],
      "text/plain": [
       "             y_prob y_pred_class  y\n",
       "419   [0.047908396]          [0]  1\n",
       "1435  [0.023578793]          [0]  1"
      ]
     },
     "execution_count": 109,
     "metadata": {},
     "output_type": "execute_result"
    }
   ],
   "source": [
    "# Where the model STRONGLY predicted a good review but user rated as bad\n",
    "ydf[(ydf.y == 1) & (ydf.y_prob < 0.1)].head()"
   ]
  },
  {
   "cell_type": "code",
   "execution_count": 110,
   "metadata": {},
   "outputs": [
    {
     "data": {
      "text/plain": [
       "'nice hotel prepared early wake call I stayed hotel several time local work bang middle hotel fine staff friendly breakfast always brilliant big last several time I stayed fire alarm gone unsociable time night sometimes stay away work need fresh next save commuting hour bournemouth not know fire alarm keep going always get told reception moan someone smoked room shower set last night probably final straw term staying norfolk arm I never offer compensation numerous occasion happened bigger concern take granted not actual fire not even get bed alarm one fire may actually occur frequent stayed probably ignore great shame not I would easily give 5. le'"
      ]
     },
     "execution_count": 110,
     "metadata": {},
     "output_type": "execute_result"
    }
   ],
   "source": [
    "X_val.iloc[419]"
   ]
  },
  {
   "cell_type": "markdown",
   "metadata": {},
   "source": [
    "Long review and mixed sentiment"
   ]
  },
  {
   "cell_type": "code",
   "execution_count": 111,
   "metadata": {},
   "outputs": [],
   "source": [
    "model.save(\"mlpfull.h5\")"
   ]
  },
  {
   "cell_type": "markdown",
   "metadata": {},
   "source": [
    "# Section 5: Shallow Fully Connected Feed Forward Neural Network"
   ]
  },
  {
   "cell_type": "markdown",
   "metadata": {},
   "source": [
    "One hidden layer - no dropout"
   ]
  },
  {
   "cell_type": "code",
   "execution_count": 112,
   "metadata": {},
   "outputs": [],
   "source": [
    "model = Sequential()\n",
    "model.add(Embedding(input_dim = input_dim, output_dim = output_dim, input_length=input_length))\n",
    "model.add(Flatten())\n",
    "model.add(Dense(64, activation='relu', input_shape=(1600,)))\n",
    "model.add(Dense(1, activation='sigmoid'))"
   ]
  },
  {
   "cell_type": "code",
   "execution_count": 113,
   "metadata": {},
   "outputs": [
    {
     "name": "stdout",
     "output_type": "stream",
     "text": [
      "Model: \"sequential_3\"\n",
      "_________________________________________________________________\n",
      "Layer (type)                 Output Shape              Param #   \n",
      "=================================================================\n",
      "embedding_3 (Embedding)      (None, 100, 16)           197536    \n",
      "_________________________________________________________________\n",
      "flatten_3 (Flatten)          (None, 1600)              0         \n",
      "_________________________________________________________________\n",
      "dense_4 (Dense)              (None, 64)                102464    \n",
      "_________________________________________________________________\n",
      "dense_5 (Dense)              (None, 1)                 65        \n",
      "=================================================================\n",
      "Total params: 300,065\n",
      "Trainable params: 300,065\n",
      "Non-trainable params: 0\n",
      "_________________________________________________________________\n",
      "None\n"
     ]
    }
   ],
   "source": [
    "# Compile the model\n",
    "model.compile(optimizer='adam', loss='binary_crossentropy', metrics=['accuracy'])\n",
    "print(model.summary())"
   ]
  },
  {
   "cell_type": "code",
   "execution_count": 114,
   "metadata": {},
   "outputs": [],
   "source": [
    "output_dir = 'model_output/shallowconnected_full'\n",
    "if not os.path.exists(output_dir):\n",
    "    os.makedirs(output_dir)\n",
    "\n",
    "modelcheckpoint = ModelCheckpoint(filepath=output_dir+\"/weights.{epoch:02d}.hdf5\")\n",
    "\n",
    "callbacks = [EarlyStopping(monitor = \"val_loss\", patience = 3),modelcheckpoint]"
   ]
  },
  {
   "cell_type": "code",
   "execution_count": 115,
   "metadata": {},
   "outputs": [
    {
     "name": "stdout",
     "output_type": "stream",
     "text": [
      "Epoch 1/10\n",
      "358/358 - 1s - loss: 0.3812 - accuracy: 0.8318 - val_loss: 0.1204 - val_accuracy: 0.9607\n",
      "Epoch 2/10\n",
      "358/358 - 1s - loss: 0.0645 - accuracy: 0.9799 - val_loss: 0.0946 - val_accuracy: 0.9648\n",
      "Epoch 3/10\n",
      "358/358 - 1s - loss: 0.0181 - accuracy: 0.9963 - val_loss: 0.1326 - val_accuracy: 0.9544\n",
      "Epoch 4/10\n",
      "358/358 - 1s - loss: 0.0063 - accuracy: 0.9997 - val_loss: 0.0978 - val_accuracy: 0.9685\n",
      "Epoch 5/10\n",
      "358/358 - 1s - loss: 0.0037 - accuracy: 0.9991 - val_loss: 0.1095 - val_accuracy: 0.9664\n"
     ]
    }
   ],
   "source": [
    "# Model using keras embeddings\n",
    "history = model.fit(X_train_w, y_train,\n",
    "                    epochs=epochs,\n",
    "                    verbose=2,\n",
    "                    callbacks = callbacks,\n",
    "                    validation_data=(X_val_w, y_val),\n",
    "                    batch_size=batch_size,class_weight = class_weights)"
   ]
  },
  {
   "cell_type": "code",
   "execution_count": 116,
   "metadata": {},
   "outputs": [
    {
     "name": "stdout",
     "output_type": "stream",
     "text": [
      "Training Accuracy: 1.0000\n",
      "Testing Accuracy:  0.9664\n"
     ]
    }
   ],
   "source": [
    "# Print training and test accuracies\n",
    "loss, accuracy = model.evaluate(X_train_w, y_train, verbose=False)\n",
    "print(\"Training Accuracy: {:.4f}\".format(accuracy))\n",
    "loss, accuracy = model.evaluate(X_val_w, y_val, verbose=False)\n",
    "print(\"Testing Accuracy:  {:.4f}\".format(accuracy))"
   ]
  },
  {
   "cell_type": "markdown",
   "metadata": {},
   "source": [
    "Training accuracy of 1.0, model overfitting"
   ]
  },
  {
   "cell_type": "code",
   "execution_count": 117,
   "metadata": {},
   "outputs": [
    {
     "data": {
      "image/png": "[encoded data removed]",
      "text/plain": [
       "<Figure size 864x360 with 2 Axes>"
      ]
     },
     "metadata": {},
     "output_type": "display_data"
    }
   ],
   "source": [
    "plot_history(history)"
   ]
  },
  {
   "cell_type": "code",
   "execution_count": 118,
   "metadata": {},
   "outputs": [],
   "source": [
    "# Load weights from epoch with best validation accuracy\n",
    "model.load_weights(output_dir+\"/weights.02.hdf5\")"
   ]
  },
  {
   "cell_type": "code",
   "execution_count": 119,
   "metadata": {},
   "outputs": [],
   "source": [
    "# Get predicted y values and predicted classes\n",
    "y_pred_prob = model.predict(X_val_w)\n",
    "y_pred_class = (model.predict(X_val_w) > 0.5).astype(\"int32\")"
   ]
  },
  {
   "cell_type": "code",
   "execution_count": 120,
   "metadata": {},
   "outputs": [
    {
     "data": {
      "text/html": [
       "<div>\n",
       "<style scoped>\n",
       "    .dataframe tbody tr th:only-of-type {\n",
       "        vertical-align: middle;\n",
       "    }\n",
       "\n",
       "    .dataframe tbody tr th {\n",
       "        vertical-align: top;\n",
       "    }\n",
       "\n",
       "    .dataframe thead th {\n",
       "        text-align: right;\n",
       "    }\n",
       "</style>\n",
       "<table border=\"1\" class=\"dataframe\">\n",
       "  <thead>\n",
       "    <tr style=\"text-align: right;\">\n",
       "      <th></th>\n",
       "      <th>y_prob</th>\n",
       "      <th>y_pred_class</th>\n",
       "      <th>y</th>\n",
       "    </tr>\n",
       "  </thead>\n",
       "  <tbody>\n",
       "    <tr>\n",
       "      <th>0</th>\n",
       "      <td>[0.00396806]</td>\n",
       "      <td>[0]</td>\n",
       "      <td>0</td>\n",
       "    </tr>\n",
       "    <tr>\n",
       "      <th>1</th>\n",
       "      <td>[0.004070252]</td>\n",
       "      <td>[0]</td>\n",
       "      <td>0</td>\n",
       "    </tr>\n",
       "    <tr>\n",
       "      <th>2</th>\n",
       "      <td>[0.004751593]</td>\n",
       "      <td>[0]</td>\n",
       "      <td>0</td>\n",
       "    </tr>\n",
       "    <tr>\n",
       "      <th>3</th>\n",
       "      <td>[0.89615774]</td>\n",
       "      <td>[1]</td>\n",
       "      <td>1</td>\n",
       "    </tr>\n",
       "    <tr>\n",
       "      <th>4</th>\n",
       "      <td>[0.997642]</td>\n",
       "      <td>[1]</td>\n",
       "      <td>1</td>\n",
       "    </tr>\n",
       "  </tbody>\n",
       "</table>\n",
       "</div>"
      ],
      "text/plain": [
       "          y_prob y_pred_class  y\n",
       "0   [0.00396806]          [0]  0\n",
       "1  [0.004070252]          [0]  0\n",
       "2  [0.004751593]          [0]  0\n",
       "3   [0.89615774]          [1]  1\n",
       "4     [0.997642]          [1]  1"
      ]
     },
     "execution_count": 120,
     "metadata": {},
     "output_type": "execute_result"
    }
   ],
   "source": [
    "# Create dataframe with y pred probabilities, classes and y actual\n",
    "ydf = pd.DataFrame(list(zip(y_pred_prob, y_pred_class,y_val,)), columns=['y_prob','y_pred_class', 'y'])\n",
    "ydf.head()"
   ]
  },
  {
   "cell_type": "code",
   "execution_count": 121,
   "metadata": {},
   "outputs": [
    {
     "data": {
      "image/png": "[encoded data removed]",
      "text/plain": [
       "<Figure size 432x288 with 1 Axes>"
      ]
     },
     "metadata": {},
     "output_type": "display_data"
    }
   ],
   "source": [
    "plt.hist(y_pred_prob)\n",
    "_ = plt.axvline(x=0.5, color='blue')"
   ]
  },
  {
   "cell_type": "code",
   "execution_count": 122,
   "metadata": {},
   "outputs": [
    {
     "name": "stdout",
     "output_type": "stream",
     "text": [
      "              precision    recall  f1-score   support\n",
      "\n",
      "           0       0.99      0.97      0.98      1646\n",
      "           1       0.84      0.92      0.88       260\n",
      "\n",
      "    accuracy                           0.96      1906\n",
      "   macro avg       0.91      0.94      0.93      1906\n",
      "weighted avg       0.97      0.96      0.97      1906\n",
      "\n"
     ]
    },
    {
     "data": {
      "image/png": "[encoded data removed]",
      "text/plain": [
       "<Figure size 432x288 with 2 Axes>"
      ]
     },
     "metadata": {},
     "output_type": "display_data"
    }
   ],
   "source": [
    "class_conf(y_val,y_pred_class)"
   ]
  },
  {
   "cell_type": "code",
   "execution_count": 123,
   "metadata": {},
   "outputs": [
    {
     "data": {
      "text/html": [
       "<div>\n",
       "<style scoped>\n",
       "    .dataframe tbody tr th:only-of-type {\n",
       "        vertical-align: middle;\n",
       "    }\n",
       "\n",
       "    .dataframe tbody tr th {\n",
       "        vertical-align: top;\n",
       "    }\n",
       "\n",
       "    .dataframe thead th {\n",
       "        text-align: right;\n",
       "    }\n",
       "</style>\n",
       "<table border=\"1\" class=\"dataframe\">\n",
       "  <thead>\n",
       "    <tr style=\"text-align: right;\">\n",
       "      <th></th>\n",
       "      <th>Accuracy</th>\n",
       "      <th>Precision</th>\n",
       "      <th>Recall</th>\n",
       "      <th>F1</th>\n",
       "      <th>ROCAUC</th>\n",
       "    </tr>\n",
       "  </thead>\n",
       "  <tbody>\n",
       "    <tr>\n",
       "      <th>0</th>\n",
       "      <td>0.964848</td>\n",
       "      <td>0.840989</td>\n",
       "      <td>0.915385</td>\n",
       "      <td>0.876611</td>\n",
       "      <td>0.944023</td>\n",
       "    </tr>\n",
       "  </tbody>\n",
       "</table>\n",
       "</div>"
      ],
      "text/plain": [
       "   Accuracy  Precision    Recall        F1    ROCAUC\n",
       "0  0.964848   0.840989  0.915385  0.876611  0.944023"
      ]
     },
     "execution_count": 123,
     "metadata": {},
     "output_type": "execute_result"
    }
   ],
   "source": [
    "shallow = metric_results(y_val,y_pred_class)\n",
    "shallow"
   ]
  },
  {
   "cell_type": "code",
   "execution_count": 124,
   "metadata": {},
   "outputs": [
    {
     "data": {
      "text/html": [
       "<div>\n",
       "<style scoped>\n",
       "    .dataframe tbody tr th:only-of-type {\n",
       "        vertical-align: middle;\n",
       "    }\n",
       "\n",
       "    .dataframe tbody tr th {\n",
       "        vertical-align: top;\n",
       "    }\n",
       "\n",
       "    .dataframe thead th {\n",
       "        text-align: right;\n",
       "    }\n",
       "</style>\n",
       "<table border=\"1\" class=\"dataframe\">\n",
       "  <thead>\n",
       "    <tr style=\"text-align: right;\">\n",
       "      <th></th>\n",
       "      <th>y_prob</th>\n",
       "      <th>y_pred_class</th>\n",
       "      <th>y</th>\n",
       "    </tr>\n",
       "  </thead>\n",
       "  <tbody>\n",
       "    <tr>\n",
       "      <th>39</th>\n",
       "      <td>[0.6312186]</td>\n",
       "      <td>[1]</td>\n",
       "      <td>0</td>\n",
       "    </tr>\n",
       "    <tr>\n",
       "      <th>43</th>\n",
       "      <td>[0.99897486]</td>\n",
       "      <td>[1]</td>\n",
       "      <td>0</td>\n",
       "    </tr>\n",
       "    <tr>\n",
       "      <th>59</th>\n",
       "      <td>[0.57367605]</td>\n",
       "      <td>[1]</td>\n",
       "      <td>0</td>\n",
       "    </tr>\n",
       "    <tr>\n",
       "      <th>60</th>\n",
       "      <td>[0.88859886]</td>\n",
       "      <td>[1]</td>\n",
       "      <td>0</td>\n",
       "    </tr>\n",
       "    <tr>\n",
       "      <th>76</th>\n",
       "      <td>[0.116980314]</td>\n",
       "      <td>[0]</td>\n",
       "      <td>1</td>\n",
       "    </tr>\n",
       "  </tbody>\n",
       "</table>\n",
       "</div>"
      ],
      "text/plain": [
       "           y_prob y_pred_class  y\n",
       "39    [0.6312186]          [1]  0\n",
       "43   [0.99897486]          [1]  0\n",
       "59   [0.57367605]          [1]  0\n",
       "60   [0.88859886]          [1]  0\n",
       "76  [0.116980314]          [0]  1"
      ]
     },
     "execution_count": 124,
     "metadata": {},
     "output_type": "execute_result"
    }
   ],
   "source": [
    "# What it got wrong\n",
    "not_correct = ydf[ydf.y != ydf.y_pred_class]\n",
    "not_correct.head()"
   ]
  },
  {
   "cell_type": "code",
   "execution_count": 125,
   "metadata": {},
   "outputs": [
    {
     "data": {
      "text/plain": [
       "'clean would booked last minute stop could see daughter brighton headed patrick tripadvisor review photo looked good arrival found pleasant little tired village pub staff friendly shown room found extremely basic shared bathroom thought would booked ensuite could error would unfair apportion blame asked changing room told one else booked share bathroom possibly reluctant change u would mean preparing another room not know tired push agreed mean route loo shower across stair bar dining room food drink good usual pub menu range hot nicely presented retiring night pub closed dark around 10.30 moonlight flit loo not stressful anticipated shower sounded like powered combine harvester shower screen door propped outside bathroom replaced shower curtain shower holder broken could not change angle water floor bathmat cold soggy would showered not comment standard room room certainly not star I would reluctant return acknowledge age building updating would tricky keeping better order would make nicer stay'"
      ]
     },
     "execution_count": 125,
     "metadata": {},
     "output_type": "execute_result"
    }
   ],
   "source": [
    "X_val.iloc[76]"
   ]
  },
  {
   "cell_type": "markdown",
   "metadata": {},
   "source": [
    "A long and mixed sentiment review"
   ]
  },
  {
   "cell_type": "code",
   "execution_count": 128,
   "metadata": {},
   "outputs": [
    {
     "data": {
      "text/html": [
       "<div>\n",
       "<style scoped>\n",
       "    .dataframe tbody tr th:only-of-type {\n",
       "        vertical-align: middle;\n",
       "    }\n",
       "\n",
       "    .dataframe tbody tr th {\n",
       "        vertical-align: top;\n",
       "    }\n",
       "\n",
       "    .dataframe thead th {\n",
       "        text-align: right;\n",
       "    }\n",
       "</style>\n",
       "<table border=\"1\" class=\"dataframe\">\n",
       "  <thead>\n",
       "    <tr style=\"text-align: right;\">\n",
       "      <th></th>\n",
       "      <th>y_prob</th>\n",
       "      <th>y_pred_class</th>\n",
       "      <th>y</th>\n",
       "    </tr>\n",
       "  </thead>\n",
       "  <tbody>\n",
       "    <tr>\n",
       "      <th>43</th>\n",
       "      <td>[0.99897486]</td>\n",
       "      <td>[1]</td>\n",
       "      <td>0</td>\n",
       "    </tr>\n",
       "    <tr>\n",
       "      <th>114</th>\n",
       "      <td>[0.9977411]</td>\n",
       "      <td>[1]</td>\n",
       "      <td>0</td>\n",
       "    </tr>\n",
       "    <tr>\n",
       "      <th>557</th>\n",
       "      <td>[0.9069897]</td>\n",
       "      <td>[1]</td>\n",
       "      <td>0</td>\n",
       "    </tr>\n",
       "    <tr>\n",
       "      <th>885</th>\n",
       "      <td>[0.9073645]</td>\n",
       "      <td>[1]</td>\n",
       "      <td>0</td>\n",
       "    </tr>\n",
       "    <tr>\n",
       "      <th>1041</th>\n",
       "      <td>[0.9074623]</td>\n",
       "      <td>[1]</td>\n",
       "      <td>0</td>\n",
       "    </tr>\n",
       "  </tbody>\n",
       "</table>\n",
       "</div>"
      ],
      "text/plain": [
       "            y_prob y_pred_class  y\n",
       "43    [0.99897486]          [1]  0\n",
       "114    [0.9977411]          [1]  0\n",
       "557    [0.9069897]          [1]  0\n",
       "885    [0.9073645]          [1]  0\n",
       "1041   [0.9074623]          [1]  0"
      ]
     },
     "execution_count": 128,
     "metadata": {},
     "output_type": "execute_result"
    }
   ],
   "source": [
    "# Where the model STRONGLY predicted a bad review but was actually rated as good by user\n",
    "ydf[(ydf.y == 0) & (ydf.y_prob > 0.9)].head()"
   ]
  },
  {
   "cell_type": "code",
   "execution_count": 129,
   "metadata": {},
   "outputs": [
    {
     "data": {
      "text/plain": [
       "'sweet not always sweet desert menu lacked savory option today kitchen could not even muster couple piece cheese waiter luke professionalism grace personified for staff made party welcome short notice kid not much like pasta sauce plate cleared relish'"
      ]
     },
     "execution_count": 129,
     "metadata": {},
     "output_type": "execute_result"
    }
   ],
   "source": [
    "X_val.iloc[1041]"
   ]
  },
  {
   "cell_type": "markdown",
   "metadata": {},
   "source": [
    "The model seems to be right here and the rating wrong, as the sentiment appears to be negative"
   ]
  },
  {
   "cell_type": "code",
   "execution_count": 130,
   "metadata": {},
   "outputs": [
    {
     "data": {
      "text/html": [
       "<div>\n",
       "<style scoped>\n",
       "    .dataframe tbody tr th:only-of-type {\n",
       "        vertical-align: middle;\n",
       "    }\n",
       "\n",
       "    .dataframe tbody tr th {\n",
       "        vertical-align: top;\n",
       "    }\n",
       "\n",
       "    .dataframe thead th {\n",
       "        text-align: right;\n",
       "    }\n",
       "</style>\n",
       "<table border=\"1\" class=\"dataframe\">\n",
       "  <thead>\n",
       "    <tr style=\"text-align: right;\">\n",
       "      <th></th>\n",
       "      <th>y_prob</th>\n",
       "      <th>y_pred_class</th>\n",
       "      <th>y</th>\n",
       "    </tr>\n",
       "  </thead>\n",
       "  <tbody>\n",
       "    <tr>\n",
       "      <th>419</th>\n",
       "      <td>[0.02226767]</td>\n",
       "      <td>[0]</td>\n",
       "      <td>1</td>\n",
       "    </tr>\n",
       "    <tr>\n",
       "      <th>1283</th>\n",
       "      <td>[0.040382504]</td>\n",
       "      <td>[0]</td>\n",
       "      <td>1</td>\n",
       "    </tr>\n",
       "    <tr>\n",
       "      <th>1435</th>\n",
       "      <td>[0.019085854]</td>\n",
       "      <td>[0]</td>\n",
       "      <td>1</td>\n",
       "    </tr>\n",
       "    <tr>\n",
       "      <th>1609</th>\n",
       "      <td>[0.05357811]</td>\n",
       "      <td>[0]</td>\n",
       "      <td>1</td>\n",
       "    </tr>\n",
       "  </tbody>\n",
       "</table>\n",
       "</div>"
      ],
      "text/plain": [
       "             y_prob y_pred_class  y\n",
       "419    [0.02226767]          [0]  1\n",
       "1283  [0.040382504]          [0]  1\n",
       "1435  [0.019085854]          [0]  1\n",
       "1609   [0.05357811]          [0]  1"
      ]
     },
     "execution_count": 130,
     "metadata": {},
     "output_type": "execute_result"
    }
   ],
   "source": [
    "# Where the model STRONGLY predicted a good review but user rated as bad\n",
    "ydf[(ydf.y == 1) & (ydf.y_prob < 0.1)].head()"
   ]
  },
  {
   "cell_type": "code",
   "execution_count": 131,
   "metadata": {},
   "outputs": [
    {
     "data": {
      "text/plain": [
       "'friendly not busy passing helping friend house move laptop pub bit empty bit like atmosphere lemonade driving back portsmouth owner certainly bit drunk think drink profit talking man regular said busy friday night used live music profit low thing keep open listed building status'"
      ]
     },
     "execution_count": 131,
     "metadata": {},
     "output_type": "execute_result"
    }
   ],
   "source": [
    "X_val.iloc[1609]"
   ]
  },
  {
   "cell_type": "markdown",
   "metadata": {},
   "source": [
    "Sentiment not clear from this review"
   ]
  },
  {
   "cell_type": "code",
   "execution_count": 132,
   "metadata": {},
   "outputs": [],
   "source": [
    "model.save(\"shallowfull.h5\")"
   ]
  },
  {
   "cell_type": "markdown",
   "metadata": {},
   "source": [
    "# Section 6: Shallow Network with dropout"
   ]
  },
  {
   "cell_type": "code",
   "execution_count": 133,
   "metadata": {},
   "outputs": [],
   "source": [
    "# Network with a hidden layer with more neurons in the dense layer and with dropout of 50%\n",
    "model = Sequential()\n",
    "model.add(Embedding(input_dim = input_dim, output_dim = output_dim, input_length=input_length))\n",
    "model.add(Flatten())\n",
    "model.add(Dense(128, activation='relu'))\n",
    "model.add(Dropout(rate=0.5))\n",
    "model.add(Dense(1, activation='sigmoid')) "
   ]
  },
  {
   "cell_type": "code",
   "execution_count": 134,
   "metadata": {},
   "outputs": [
    {
     "name": "stdout",
     "output_type": "stream",
     "text": [
      "Model: \"sequential_4\"\n",
      "_________________________________________________________________\n",
      "Layer (type)                 Output Shape              Param #   \n",
      "=================================================================\n",
      "embedding_4 (Embedding)      (None, 100, 16)           197536    \n",
      "_________________________________________________________________\n",
      "flatten_4 (Flatten)          (None, 1600)              0         \n",
      "_________________________________________________________________\n",
      "dense_6 (Dense)              (None, 128)               204928    \n",
      "_________________________________________________________________\n",
      "dropout (Dropout)            (None, 128)               0         \n",
      "_________________________________________________________________\n",
      "dense_7 (Dense)              (None, 1)                 129       \n",
      "=================================================================\n",
      "Total params: 402,593\n",
      "Trainable params: 402,593\n",
      "Non-trainable params: 0\n",
      "_________________________________________________________________\n",
      "None\n"
     ]
    }
   ],
   "source": [
    "# Compile the model\n",
    "model.compile(optimizer='adam', loss='binary_crossentropy', metrics=['accuracy'])\n",
    "print(model.summary())"
   ]
  },
  {
   "cell_type": "code",
   "execution_count": 135,
   "metadata": {},
   "outputs": [],
   "source": [
    "# The model will use earlystopping if the valuation loss doesn't decrease after 2 epochs\n",
    "output_dir = 'model_output/shallow_drop_full'\n",
    "if not os.path.exists(output_dir):\n",
    "    os.makedirs(output_dir)\n",
    "\n",
    "modelcheckpoint = ModelCheckpoint(filepath=output_dir+\"/weights.{epoch:02d}.hdf5\")\n",
    "callbacks = [EarlyStopping(monitor = \"val_loss\", patience = 3),modelcheckpoint]"
   ]
  },
  {
   "cell_type": "code",
   "execution_count": 136,
   "metadata": {},
   "outputs": [
    {
     "name": "stdout",
     "output_type": "stream",
     "text": [
      "Epoch 1/10\n",
      "358/358 - 1s - loss: 0.3438 - accuracy: 0.8839 - val_loss: 0.1154 - val_accuracy: 0.9586\n",
      "Epoch 2/10\n",
      "358/358 - 1s - loss: 0.0663 - accuracy: 0.9809 - val_loss: 0.1072 - val_accuracy: 0.9633\n",
      "Epoch 3/10\n",
      "358/358 - 1s - loss: 0.0191 - accuracy: 0.9974 - val_loss: 0.0993 - val_accuracy: 0.9669\n",
      "Epoch 4/10\n",
      "358/358 - 1s - loss: 0.0071 - accuracy: 0.9995 - val_loss: 0.1031 - val_accuracy: 0.9664\n",
      "Epoch 5/10\n",
      "358/358 - 1s - loss: 0.0031 - accuracy: 0.9998 - val_loss: 0.1120 - val_accuracy: 0.9669\n",
      "Epoch 6/10\n",
      "358/358 - 1s - loss: 9.0186e-04 - accuracy: 1.0000 - val_loss: 0.1176 - val_accuracy: 0.9675\n"
     ]
    }
   ],
   "source": [
    "# Model using keras embeddings\n",
    "history = model.fit(X_train_w, y_train,\n",
    "                    epochs=epochs,\n",
    "                    verbose=2,\n",
    "                    callbacks = callbacks,\n",
    "                    validation_data=(X_val_w, y_val),\n",
    "                    batch_size=batch_size,\n",
    "                    class_weight = class_weights)"
   ]
  },
  {
   "cell_type": "code",
   "execution_count": 137,
   "metadata": {},
   "outputs": [
    {
     "name": "stdout",
     "output_type": "stream",
     "text": [
      "Training Accuracy: 1.0000\n",
      "Testing Accuracy:  0.9675\n"
     ]
    }
   ],
   "source": [
    "# Print training and test accuracies\n",
    "loss, accuracy = model.evaluate(X_train_w, y_train, verbose=False)\n",
    "print(\"Training Accuracy: {:.4f}\".format(accuracy))\n",
    "loss, accuracy = model.evaluate(X_val_w, y_val, verbose=False)\n",
    "print(\"Testing Accuracy:  {:.4f}\".format(accuracy))"
   ]
  },
  {
   "cell_type": "code",
   "execution_count": 138,
   "metadata": {
    "scrolled": true
   },
   "outputs": [
    {
     "data": {
      "image/png": "[encoded data removed]",
      "text/plain": [
       "<Figure size 864x360 with 2 Axes>"
      ]
     },
     "metadata": {},
     "output_type": "display_data"
    }
   ],
   "source": [
    "plot_history(history)"
   ]
  },
  {
   "cell_type": "code",
   "execution_count": 139,
   "metadata": {},
   "outputs": [],
   "source": [
    "# Load weights from epoch with best validation accuracy\n",
    "model.load_weights(output_dir+\"/weights.03.hdf5\") "
   ]
  },
  {
   "cell_type": "code",
   "execution_count": 145,
   "metadata": {},
   "outputs": [],
   "source": [
    "# Get predicted y values and predicted classes\n",
    "y_pred_prob = model.predict(X_val_w)\n",
    "y_pred_class = y_pred_class = (model.predict(X_val_w) > 0.5).astype(\"int32\")"
   ]
  },
  {
   "cell_type": "code",
   "execution_count": 146,
   "metadata": {},
   "outputs": [
    {
     "data": {
      "text/html": [
       "<div>\n",
       "<style scoped>\n",
       "    .dataframe tbody tr th:only-of-type {\n",
       "        vertical-align: middle;\n",
       "    }\n",
       "\n",
       "    .dataframe tbody tr th {\n",
       "        vertical-align: top;\n",
       "    }\n",
       "\n",
       "    .dataframe thead th {\n",
       "        text-align: right;\n",
       "    }\n",
       "</style>\n",
       "<table border=\"1\" class=\"dataframe\">\n",
       "  <thead>\n",
       "    <tr style=\"text-align: right;\">\n",
       "      <th></th>\n",
       "      <th>y_prob</th>\n",
       "      <th>y_pred_class</th>\n",
       "      <th>y</th>\n",
       "    </tr>\n",
       "  </thead>\n",
       "  <tbody>\n",
       "    <tr>\n",
       "      <th>0</th>\n",
       "      <td>[0.0002437532]</td>\n",
       "      <td>[0]</td>\n",
       "      <td>0</td>\n",
       "    </tr>\n",
       "    <tr>\n",
       "      <th>1</th>\n",
       "      <td>[0.00039061904]</td>\n",
       "      <td>[0]</td>\n",
       "      <td>0</td>\n",
       "    </tr>\n",
       "    <tr>\n",
       "      <th>2</th>\n",
       "      <td>[0.001282692]</td>\n",
       "      <td>[0]</td>\n",
       "      <td>0</td>\n",
       "    </tr>\n",
       "    <tr>\n",
       "      <th>3</th>\n",
       "      <td>[0.89921296]</td>\n",
       "      <td>[1]</td>\n",
       "      <td>1</td>\n",
       "    </tr>\n",
       "    <tr>\n",
       "      <th>4</th>\n",
       "      <td>[0.99973124]</td>\n",
       "      <td>[1]</td>\n",
       "      <td>1</td>\n",
       "    </tr>\n",
       "  </tbody>\n",
       "</table>\n",
       "</div>"
      ],
      "text/plain": [
       "            y_prob y_pred_class  y\n",
       "0   [0.0002437532]          [0]  0\n",
       "1  [0.00039061904]          [0]  0\n",
       "2    [0.001282692]          [0]  0\n",
       "3     [0.89921296]          [1]  1\n",
       "4     [0.99973124]          [1]  1"
      ]
     },
     "execution_count": 146,
     "metadata": {},
     "output_type": "execute_result"
    }
   ],
   "source": [
    "# Create dataframe with y pred probabilities, classes and y actual\n",
    "ydf = pd.DataFrame(list(zip(y_pred_prob, y_pred_class,y_val,)), columns=['y_prob','y_pred_class', 'y'])\n",
    "ydf.head()"
   ]
  },
  {
   "cell_type": "code",
   "execution_count": 147,
   "metadata": {},
   "outputs": [
    {
     "data": {
      "image/png": "[encoded data removed]",
      "text/plain": [
       "<Figure size 432x288 with 1 Axes>"
      ]
     },
     "metadata": {},
     "output_type": "display_data"
    }
   ],
   "source": [
    "plt.hist(y_pred_prob)\n",
    "_ = plt.axvline(x=0.5, color='blue')"
   ]
  },
  {
   "cell_type": "code",
   "execution_count": 149,
   "metadata": {},
   "outputs": [
    {
     "name": "stdout",
     "output_type": "stream",
     "text": [
      "              precision    recall  f1-score   support\n",
      "\n",
      "           0       0.98      0.98      0.98      1646\n",
      "           1       0.89      0.87      0.88       260\n",
      "\n",
      "    accuracy                           0.97      1906\n",
      "   macro avg       0.93      0.93      0.93      1906\n",
      "weighted avg       0.97      0.97      0.97      1906\n",
      "\n"
     ]
    },
    {
     "data": {
      "image/png": "[encoded data removed]",
      "text/plain": [
       "<Figure size 432x288 with 2 Axes>"
      ]
     },
     "metadata": {},
     "output_type": "display_data"
    }
   ],
   "source": [
    "class_conf(y_val,y_pred_class)"
   ]
  },
  {
   "cell_type": "code",
   "execution_count": 150,
   "metadata": {},
   "outputs": [
    {
     "data": {
      "text/html": [
       "<div>\n",
       "<style scoped>\n",
       "    .dataframe tbody tr th:only-of-type {\n",
       "        vertical-align: middle;\n",
       "    }\n",
       "\n",
       "    .dataframe tbody tr th {\n",
       "        vertical-align: top;\n",
       "    }\n",
       "\n",
       "    .dataframe thead th {\n",
       "        text-align: right;\n",
       "    }\n",
       "</style>\n",
       "<table border=\"1\" class=\"dataframe\">\n",
       "  <thead>\n",
       "    <tr style=\"text-align: right;\">\n",
       "      <th></th>\n",
       "      <th>Accuracy</th>\n",
       "      <th>Precision</th>\n",
       "      <th>Recall</th>\n",
       "      <th>F1</th>\n",
       "      <th>ROCAUC</th>\n",
       "    </tr>\n",
       "  </thead>\n",
       "  <tbody>\n",
       "    <tr>\n",
       "      <th>0</th>\n",
       "      <td>0.966946</td>\n",
       "      <td>0.886275</td>\n",
       "      <td>0.869231</td>\n",
       "      <td>0.87767</td>\n",
       "      <td>0.925806</td>\n",
       "    </tr>\n",
       "  </tbody>\n",
       "</table>\n",
       "</div>"
      ],
      "text/plain": [
       "   Accuracy  Precision    Recall       F1    ROCAUC\n",
       "0  0.966946   0.886275  0.869231  0.87767  0.925806"
      ]
     },
     "execution_count": 150,
     "metadata": {},
     "output_type": "execute_result"
    }
   ],
   "source": [
    "dense_1 = metric_results(y_val,y_pred_class)\n",
    "dense_1"
   ]
  },
  {
   "cell_type": "code",
   "execution_count": 152,
   "metadata": {},
   "outputs": [
    {
     "data": {
      "text/html": [
       "<div>\n",
       "<style scoped>\n",
       "    .dataframe tbody tr th:only-of-type {\n",
       "        vertical-align: middle;\n",
       "    }\n",
       "\n",
       "    .dataframe tbody tr th {\n",
       "        vertical-align: top;\n",
       "    }\n",
       "\n",
       "    .dataframe thead th {\n",
       "        text-align: right;\n",
       "    }\n",
       "</style>\n",
       "<table border=\"1\" class=\"dataframe\">\n",
       "  <thead>\n",
       "    <tr style=\"text-align: right;\">\n",
       "      <th></th>\n",
       "      <th>y_prob</th>\n",
       "      <th>y_pred_class</th>\n",
       "      <th>y</th>\n",
       "    </tr>\n",
       "  </thead>\n",
       "  <tbody>\n",
       "    <tr>\n",
       "      <th>39</th>\n",
       "      <td>[0.6078924]</td>\n",
       "      <td>[1]</td>\n",
       "      <td>0</td>\n",
       "    </tr>\n",
       "    <tr>\n",
       "      <th>43</th>\n",
       "      <td>[0.9996511]</td>\n",
       "      <td>[1]</td>\n",
       "      <td>0</td>\n",
       "    </tr>\n",
       "    <tr>\n",
       "      <th>60</th>\n",
       "      <td>[0.98806566]</td>\n",
       "      <td>[1]</td>\n",
       "      <td>0</td>\n",
       "    </tr>\n",
       "    <tr>\n",
       "      <th>76</th>\n",
       "      <td>[0.0083526075]</td>\n",
       "      <td>[0]</td>\n",
       "      <td>1</td>\n",
       "    </tr>\n",
       "    <tr>\n",
       "      <th>82</th>\n",
       "      <td>[0.128775]</td>\n",
       "      <td>[0]</td>\n",
       "      <td>1</td>\n",
       "    </tr>\n",
       "  </tbody>\n",
       "</table>\n",
       "</div>"
      ],
      "text/plain": [
       "            y_prob y_pred_class  y\n",
       "39     [0.6078924]          [1]  0\n",
       "43     [0.9996511]          [1]  0\n",
       "60    [0.98806566]          [1]  0\n",
       "76  [0.0083526075]          [0]  1\n",
       "82      [0.128775]          [0]  1"
      ]
     },
     "execution_count": 152,
     "metadata": {},
     "output_type": "execute_result"
    }
   ],
   "source": [
    "# What it got wrong\n",
    "not_correct = ydf[ydf.y != ydf.y_pred_class]\n",
    "not_correct.head()"
   ]
  },
  {
   "cell_type": "code",
   "execution_count": 155,
   "metadata": {},
   "outputs": [
    {
     "data": {
      "text/html": [
       "<div>\n",
       "<style scoped>\n",
       "    .dataframe tbody tr th:only-of-type {\n",
       "        vertical-align: middle;\n",
       "    }\n",
       "\n",
       "    .dataframe tbody tr th {\n",
       "        vertical-align: top;\n",
       "    }\n",
       "\n",
       "    .dataframe thead th {\n",
       "        text-align: right;\n",
       "    }\n",
       "</style>\n",
       "<table border=\"1\" class=\"dataframe\">\n",
       "  <thead>\n",
       "    <tr style=\"text-align: right;\">\n",
       "      <th></th>\n",
       "      <th>y_prob</th>\n",
       "      <th>y_pred_class</th>\n",
       "      <th>y</th>\n",
       "    </tr>\n",
       "  </thead>\n",
       "  <tbody>\n",
       "    <tr>\n",
       "      <th>43</th>\n",
       "      <td>[0.9996511]</td>\n",
       "      <td>[1]</td>\n",
       "      <td>0</td>\n",
       "    </tr>\n",
       "    <tr>\n",
       "      <th>60</th>\n",
       "      <td>[0.98806566]</td>\n",
       "      <td>[1]</td>\n",
       "      <td>0</td>\n",
       "    </tr>\n",
       "    <tr>\n",
       "      <th>114</th>\n",
       "      <td>[0.99871606]</td>\n",
       "      <td>[1]</td>\n",
       "      <td>0</td>\n",
       "    </tr>\n",
       "    <tr>\n",
       "      <th>516</th>\n",
       "      <td>[0.96687]</td>\n",
       "      <td>[1]</td>\n",
       "      <td>0</td>\n",
       "    </tr>\n",
       "    <tr>\n",
       "      <th>932</th>\n",
       "      <td>[0.93437535]</td>\n",
       "      <td>[1]</td>\n",
       "      <td>0</td>\n",
       "    </tr>\n",
       "  </tbody>\n",
       "</table>\n",
       "</div>"
      ],
      "text/plain": [
       "           y_prob y_pred_class  y\n",
       "43    [0.9996511]          [1]  0\n",
       "60   [0.98806566]          [1]  0\n",
       "114  [0.99871606]          [1]  0\n",
       "516     [0.96687]          [1]  0\n",
       "932  [0.93437535]          [1]  0"
      ]
     },
     "execution_count": 155,
     "metadata": {},
     "output_type": "execute_result"
    }
   ],
   "source": [
    "# What did it get wrong? Where the model STRONGLY predicted a bad review but was actually rated as good by user\n",
    "ydf[(ydf.y == 0) & (ydf.y_prob > 0.9)].head()"
   ]
  },
  {
   "cell_type": "code",
   "execution_count": 156,
   "metadata": {},
   "outputs": [
    {
     "data": {
      "text/plain": [
       "'come love phil collins group adult little one staff great wee kid helped not best behaved luckily not busypeople bother lunch lovely burger vegan burger two camembert starter couple thing improve 1. large glass wine appeared not cooled think better option server would advise bottle not cold want another option room temperature white wine meh fair not tell staff replacement requested given 2. husband wanted cheesecake nope none left changed brownie nope none either ok lovely lunch coffee nope coffee machine broken not presented alternative like get cup tea house finally 0.50 charge added bill charity charity giving money like give charity term not restaurant bill not say anything bill paid others I sure would remove requested find bit bizarre finally phil collins restaurant couple hour serenaded dulcet tone pa two hour hint future not everyone love phil'"
      ]
     },
     "execution_count": 156,
     "metadata": {},
     "output_type": "execute_result"
    }
   ],
   "source": [
    "X_val.iloc[516]"
   ]
  },
  {
   "cell_type": "markdown",
   "metadata": {},
   "source": [
    "Long mixed sentiment reviews"
   ]
  },
  {
   "cell_type": "code",
   "execution_count": 157,
   "metadata": {},
   "outputs": [
    {
     "data": {
      "text/html": [
       "<div>\n",
       "<style scoped>\n",
       "    .dataframe tbody tr th:only-of-type {\n",
       "        vertical-align: middle;\n",
       "    }\n",
       "\n",
       "    .dataframe tbody tr th {\n",
       "        vertical-align: top;\n",
       "    }\n",
       "\n",
       "    .dataframe thead th {\n",
       "        text-align: right;\n",
       "    }\n",
       "</style>\n",
       "<table border=\"1\" class=\"dataframe\">\n",
       "  <thead>\n",
       "    <tr style=\"text-align: right;\">\n",
       "      <th></th>\n",
       "      <th>y_prob</th>\n",
       "      <th>y_pred_class</th>\n",
       "      <th>y</th>\n",
       "    </tr>\n",
       "  </thead>\n",
       "  <tbody>\n",
       "    <tr>\n",
       "      <th>76</th>\n",
       "      <td>[0.0083526075]</td>\n",
       "      <td>[0]</td>\n",
       "      <td>1</td>\n",
       "    </tr>\n",
       "    <tr>\n",
       "      <th>93</th>\n",
       "      <td>[0.045943677]</td>\n",
       "      <td>[0]</td>\n",
       "      <td>1</td>\n",
       "    </tr>\n",
       "    <tr>\n",
       "      <th>315</th>\n",
       "      <td>[0.054246962]</td>\n",
       "      <td>[0]</td>\n",
       "      <td>1</td>\n",
       "    </tr>\n",
       "    <tr>\n",
       "      <th>419</th>\n",
       "      <td>[0.004540354]</td>\n",
       "      <td>[0]</td>\n",
       "      <td>1</td>\n",
       "    </tr>\n",
       "    <tr>\n",
       "      <th>995</th>\n",
       "      <td>[0.019612998]</td>\n",
       "      <td>[0]</td>\n",
       "      <td>1</td>\n",
       "    </tr>\n",
       "  </tbody>\n",
       "</table>\n",
       "</div>"
      ],
      "text/plain": [
       "             y_prob y_pred_class  y\n",
       "76   [0.0083526075]          [0]  1\n",
       "93    [0.045943677]          [0]  1\n",
       "315   [0.054246962]          [0]  1\n",
       "419   [0.004540354]          [0]  1\n",
       "995   [0.019612998]          [0]  1"
      ]
     },
     "execution_count": 157,
     "metadata": {},
     "output_type": "execute_result"
    }
   ],
   "source": [
    "# What did it get wrong? Where the model STRONGLY predicted a good review but user rated as bad\n",
    "ydf[(ydf.y == 1) & (ydf.y_prob < 0.1)].head()"
   ]
  },
  {
   "cell_type": "code",
   "execution_count": 158,
   "metadata": {},
   "outputs": [
    {
     "data": {
      "text/plain": [
       "'family disaster please everyone visited last not family friendly unsafe place man killed week punch similar incident last help feeling safety site please not visit place closed le'"
      ]
     },
     "execution_count": 158,
     "metadata": {},
     "output_type": "execute_result"
    }
   ],
   "source": [
    "X_val.iloc[995]"
   ]
  },
  {
   "cell_type": "markdown",
   "metadata": {},
   "source": [
    "Sentiment is clearly negative here but the model predicted positive, not clear why"
   ]
  },
  {
   "cell_type": "code",
   "execution_count": 159,
   "metadata": {},
   "outputs": [],
   "source": [
    "model.save(\"shallowdropfull.h5\")"
   ]
  },
  {
   "cell_type": "markdown",
   "metadata": {},
   "source": [
    "# Section 7: Deep Network with dropout"
   ]
  },
  {
   "cell_type": "code",
   "execution_count": 160,
   "metadata": {},
   "outputs": [],
   "source": [
    "# Dense model with 2 hidden dense layers and dropout on each\n",
    "model = Sequential()\n",
    "model.add(Embedding(input_dim = input_dim, output_dim = output_dim, input_length=input_length))\n",
    "model.add(Flatten())\n",
    "model.add(Dense(128, activation='relu'))\n",
    "model.add(Dropout(rate=0.5))\n",
    "model.add(Dense(128, activation='relu'))\n",
    "model.add(Dropout(rate = 0.5))\n",
    "model.add(Dense(1, activation='sigmoid')) "
   ]
  },
  {
   "cell_type": "code",
   "execution_count": 161,
   "metadata": {},
   "outputs": [
    {
     "name": "stdout",
     "output_type": "stream",
     "text": [
      "Model: \"sequential_5\"\n",
      "_________________________________________________________________\n",
      "Layer (type)                 Output Shape              Param #   \n",
      "=================================================================\n",
      "embedding_5 (Embedding)      (None, 100, 16)           197536    \n",
      "_________________________________________________________________\n",
      "flatten_5 (Flatten)          (None, 1600)              0         \n",
      "_________________________________________________________________\n",
      "dense_8 (Dense)              (None, 128)               204928    \n",
      "_________________________________________________________________\n",
      "dropout_1 (Dropout)          (None, 128)               0         \n",
      "_________________________________________________________________\n",
      "dense_9 (Dense)              (None, 128)               16512     \n",
      "_________________________________________________________________\n",
      "dropout_2 (Dropout)          (None, 128)               0         \n",
      "_________________________________________________________________\n",
      "dense_10 (Dense)             (None, 1)                 129       \n",
      "=================================================================\n",
      "Total params: 419,105\n",
      "Trainable params: 419,105\n",
      "Non-trainable params: 0\n",
      "_________________________________________________________________\n",
      "None\n"
     ]
    }
   ],
   "source": [
    "# Compile the model\n",
    "model.compile(optimizer='adam', loss='binary_crossentropy', metrics=['accuracy'])\n",
    "print(model.summary())"
   ]
  },
  {
   "cell_type": "code",
   "execution_count": 162,
   "metadata": {},
   "outputs": [],
   "source": [
    "# The model will use earlystopping if the valuation loss doesn't decrease after 5 epochs\n",
    "output_dir = 'model_output/deepNN2_full'\n",
    "if not os.path.exists(output_dir):\n",
    "    os.makedirs(output_dir)\n",
    "\n",
    "modelcheckpoint = ModelCheckpoint(filepath=output_dir+\"/weights.{epoch:02d}.hdf5\")\n",
    "callbacks = [EarlyStopping(monitor = \"val_loss\", patience = 3),modelcheckpoint]"
   ]
  },
  {
   "cell_type": "code",
   "execution_count": 163,
   "metadata": {},
   "outputs": [
    {
     "name": "stdout",
     "output_type": "stream",
     "text": [
      "Epoch 1/10\n",
      "358/358 - 1s - loss: 0.4140 - accuracy: 0.8416 - val_loss: 0.1698 - val_accuracy: 0.9533\n",
      "Epoch 2/10\n",
      "358/358 - 1s - loss: 0.0885 - accuracy: 0.9790 - val_loss: 0.1403 - val_accuracy: 0.9607\n",
      "Epoch 3/10\n",
      "358/358 - 1s - loss: 0.0222 - accuracy: 0.9956 - val_loss: 0.1346 - val_accuracy: 0.9622\n",
      "Epoch 4/10\n",
      "358/358 - 1s - loss: 0.0070 - accuracy: 0.9990 - val_loss: 0.1586 - val_accuracy: 0.9607\n",
      "Epoch 5/10\n",
      "358/358 - 1s - loss: 0.0029 - accuracy: 0.9993 - val_loss: 0.1823 - val_accuracy: 0.9612\n",
      "Epoch 6/10\n",
      "358/358 - 1s - loss: 0.0015 - accuracy: 0.9997 - val_loss: 0.1844 - val_accuracy: 0.9643\n"
     ]
    }
   ],
   "source": [
    "# Model using keras embeddings\n",
    "history = model.fit(X_train_w, y_train,\n",
    "                    epochs=epochs,\n",
    "                    verbose=2,\n",
    "                    callbacks = callbacks,\n",
    "                    validation_data=(X_val_w, y_val),\n",
    "                    batch_size=batch_size,\n",
    "                    class_weight = class_weights)"
   ]
  },
  {
   "cell_type": "code",
   "execution_count": 164,
   "metadata": {},
   "outputs": [
    {
     "name": "stdout",
     "output_type": "stream",
     "text": [
      "Training Accuracy: 1.0000\n",
      "Testing Accuracy:  0.9643\n"
     ]
    }
   ],
   "source": [
    "# Print training and test accuracies\n",
    "loss, accuracy = model.evaluate(X_train_w, y_train, verbose=False)\n",
    "print(\"Training Accuracy: {:.4f}\".format(accuracy))\n",
    "loss, accuracy = model.evaluate(X_val_w, y_val, verbose=False)\n",
    "print(\"Testing Accuracy:  {:.4f}\".format(accuracy))"
   ]
  },
  {
   "cell_type": "code",
   "execution_count": 165,
   "metadata": {},
   "outputs": [
    {
     "data": {
      "image/png": "[encoded data removed]",
      "text/plain": [
       "<Figure size 864x360 with 2 Axes>"
      ]
     },
     "metadata": {},
     "output_type": "display_data"
    }
   ],
   "source": [
    "plot_history(history)"
   ]
  },
  {
   "cell_type": "code",
   "execution_count": 166,
   "metadata": {},
   "outputs": [],
   "source": [
    "# Load weights from epoch with best validation accuracy\n",
    "model.load_weights(output_dir+\"/weights.03.hdf5\") # NOT zero-indexed"
   ]
  },
  {
   "cell_type": "code",
   "execution_count": 167,
   "metadata": {},
   "outputs": [],
   "source": [
    "# Get predicted y values and predicted classes\n",
    "y_pred_prob = model.predict(X_val_w)\n",
    "y_pred_class = y_pred_class = (model.predict(X_val_w) > 0.5).astype(\"int32\")"
   ]
  },
  {
   "cell_type": "code",
   "execution_count": 172,
   "metadata": {},
   "outputs": [
    {
     "data": {
      "text/html": [
       "<div>\n",
       "<style scoped>\n",
       "    .dataframe tbody tr th:only-of-type {\n",
       "        vertical-align: middle;\n",
       "    }\n",
       "\n",
       "    .dataframe tbody tr th {\n",
       "        vertical-align: top;\n",
       "    }\n",
       "\n",
       "    .dataframe thead th {\n",
       "        text-align: right;\n",
       "    }\n",
       "</style>\n",
       "<table border=\"1\" class=\"dataframe\">\n",
       "  <thead>\n",
       "    <tr style=\"text-align: right;\">\n",
       "      <th></th>\n",
       "      <th>y_prob</th>\n",
       "      <th>y_pred_class</th>\n",
       "      <th>y</th>\n",
       "    </tr>\n",
       "  </thead>\n",
       "  <tbody>\n",
       "    <tr>\n",
       "      <th>0</th>\n",
       "      <td>[5.7505174e-05]</td>\n",
       "      <td>[0]</td>\n",
       "      <td>0</td>\n",
       "    </tr>\n",
       "    <tr>\n",
       "      <th>1</th>\n",
       "      <td>[5.9702186e-05]</td>\n",
       "      <td>[0]</td>\n",
       "      <td>0</td>\n",
       "    </tr>\n",
       "    <tr>\n",
       "      <th>2</th>\n",
       "      <td>[0.00018587708]</td>\n",
       "      <td>[0]</td>\n",
       "      <td>0</td>\n",
       "    </tr>\n",
       "    <tr>\n",
       "      <th>3</th>\n",
       "      <td>[0.9872099]</td>\n",
       "      <td>[1]</td>\n",
       "      <td>1</td>\n",
       "    </tr>\n",
       "    <tr>\n",
       "      <th>4</th>\n",
       "      <td>[0.9997513]</td>\n",
       "      <td>[1]</td>\n",
       "      <td>1</td>\n",
       "    </tr>\n",
       "  </tbody>\n",
       "</table>\n",
       "</div>"
      ],
      "text/plain": [
       "            y_prob y_pred_class  y\n",
       "0  [5.7505174e-05]          [0]  0\n",
       "1  [5.9702186e-05]          [0]  0\n",
       "2  [0.00018587708]          [0]  0\n",
       "3      [0.9872099]          [1]  1\n",
       "4      [0.9997513]          [1]  1"
      ]
     },
     "execution_count": 172,
     "metadata": {},
     "output_type": "execute_result"
    }
   ],
   "source": [
    "# Create dataframe with y pred probabilities, classes and y actual\n",
    "ydf = pd.DataFrame(list(zip(y_pred_prob, y_pred_class,y_val,)), columns=['y_prob','y_pred_class', 'y'])\n",
    "ydf.head()"
   ]
  },
  {
   "cell_type": "code",
   "execution_count": 173,
   "metadata": {},
   "outputs": [
    {
     "data": {
      "image/png": "[encoded data removed]",
      "text/plain": [
       "<Figure size 432x288 with 1 Axes>"
      ]
     },
     "metadata": {},
     "output_type": "display_data"
    }
   ],
   "source": [
    "plt.hist(y_pred)\n",
    "_ = plt.axvline(x=0.5, color='blue')"
   ]
  },
  {
   "cell_type": "code",
   "execution_count": 169,
   "metadata": {},
   "outputs": [
    {
     "name": "stdout",
     "output_type": "stream",
     "text": [
      "              precision    recall  f1-score   support\n",
      "\n",
      "           0       0.98      0.98      0.98      1646\n",
      "           1       0.86      0.86      0.86       260\n",
      "\n",
      "    accuracy                           0.96      1906\n",
      "   macro avg       0.92      0.92      0.92      1906\n",
      "weighted avg       0.96      0.96      0.96      1906\n",
      "\n"
     ]
    },
    {
     "data": {
      "image/png": "[encoded data removed]",
      "text/plain": [
       "<Figure size 432x288 with 2 Axes>"
      ]
     },
     "metadata": {},
     "output_type": "display_data"
    }
   ],
   "source": [
    "class_conf(y_val,y_pred_class)"
   ]
  },
  {
   "cell_type": "code",
   "execution_count": 174,
   "metadata": {},
   "outputs": [
    {
     "data": {
      "text/html": [
       "<div>\n",
       "<style scoped>\n",
       "    .dataframe tbody tr th:only-of-type {\n",
       "        vertical-align: middle;\n",
       "    }\n",
       "\n",
       "    .dataframe tbody tr th {\n",
       "        vertical-align: top;\n",
       "    }\n",
       "\n",
       "    .dataframe thead th {\n",
       "        text-align: right;\n",
       "    }\n",
       "</style>\n",
       "<table border=\"1\" class=\"dataframe\">\n",
       "  <thead>\n",
       "    <tr style=\"text-align: right;\">\n",
       "      <th></th>\n",
       "      <th>Accuracy</th>\n",
       "      <th>Precision</th>\n",
       "      <th>Recall</th>\n",
       "      <th>F1</th>\n",
       "      <th>ROCAUC</th>\n",
       "    </tr>\n",
       "  </thead>\n",
       "  <tbody>\n",
       "    <tr>\n",
       "      <th>0</th>\n",
       "      <td>0.962225</td>\n",
       "      <td>0.861538</td>\n",
       "      <td>0.861538</td>\n",
       "      <td>0.861538</td>\n",
       "      <td>0.919834</td>\n",
       "    </tr>\n",
       "  </tbody>\n",
       "</table>\n",
       "</div>"
      ],
      "text/plain": [
       "   Accuracy  Precision    Recall        F1    ROCAUC\n",
       "0  0.962225   0.861538  0.861538  0.861538  0.919834"
      ]
     },
     "execution_count": 174,
     "metadata": {},
     "output_type": "execute_result"
    }
   ],
   "source": [
    "dense_2 = metric_results(y_val,y_pred_class)\n",
    "dense_2"
   ]
  },
  {
   "cell_type": "code",
   "execution_count": 175,
   "metadata": {},
   "outputs": [
    {
     "data": {
      "text/html": [
       "<div>\n",
       "<style scoped>\n",
       "    .dataframe tbody tr th:only-of-type {\n",
       "        vertical-align: middle;\n",
       "    }\n",
       "\n",
       "    .dataframe tbody tr th {\n",
       "        vertical-align: top;\n",
       "    }\n",
       "\n",
       "    .dataframe thead th {\n",
       "        text-align: right;\n",
       "    }\n",
       "</style>\n",
       "<table border=\"1\" class=\"dataframe\">\n",
       "  <thead>\n",
       "    <tr style=\"text-align: right;\">\n",
       "      <th></th>\n",
       "      <th>y_prob</th>\n",
       "      <th>y_pred_class</th>\n",
       "      <th>y</th>\n",
       "    </tr>\n",
       "  </thead>\n",
       "  <tbody>\n",
       "    <tr>\n",
       "      <th>43</th>\n",
       "      <td>[0.9999663]</td>\n",
       "      <td>[1]</td>\n",
       "      <td>0</td>\n",
       "    </tr>\n",
       "    <tr>\n",
       "      <th>53</th>\n",
       "      <td>[0.8695061]</td>\n",
       "      <td>[1]</td>\n",
       "      <td>0</td>\n",
       "    </tr>\n",
       "    <tr>\n",
       "      <th>59</th>\n",
       "      <td>[0.9844015]</td>\n",
       "      <td>[1]</td>\n",
       "      <td>0</td>\n",
       "    </tr>\n",
       "    <tr>\n",
       "      <th>60</th>\n",
       "      <td>[0.9998144]</td>\n",
       "      <td>[1]</td>\n",
       "      <td>0</td>\n",
       "    </tr>\n",
       "    <tr>\n",
       "      <th>76</th>\n",
       "      <td>[0.015126407]</td>\n",
       "      <td>[0]</td>\n",
       "      <td>1</td>\n",
       "    </tr>\n",
       "  </tbody>\n",
       "</table>\n",
       "</div>"
      ],
      "text/plain": [
       "           y_prob y_pred_class  y\n",
       "43    [0.9999663]          [1]  0\n",
       "53    [0.8695061]          [1]  0\n",
       "59    [0.9844015]          [1]  0\n",
       "60    [0.9998144]          [1]  0\n",
       "76  [0.015126407]          [0]  1"
      ]
     },
     "execution_count": 175,
     "metadata": {},
     "output_type": "execute_result"
    }
   ],
   "source": [
    "# What it got wrong\n",
    "not_correct = ydf[ydf.y != ydf.y_pred_class]\n",
    "not_correct.head()"
   ]
  },
  {
   "cell_type": "code",
   "execution_count": 176,
   "metadata": {},
   "outputs": [
    {
     "data": {
      "text/html": [
       "<div>\n",
       "<style scoped>\n",
       "    .dataframe tbody tr th:only-of-type {\n",
       "        vertical-align: middle;\n",
       "    }\n",
       "\n",
       "    .dataframe tbody tr th {\n",
       "        vertical-align: top;\n",
       "    }\n",
       "\n",
       "    .dataframe thead th {\n",
       "        text-align: right;\n",
       "    }\n",
       "</style>\n",
       "<table border=\"1\" class=\"dataframe\">\n",
       "  <thead>\n",
       "    <tr style=\"text-align: right;\">\n",
       "      <th></th>\n",
       "      <th>y_prob</th>\n",
       "      <th>y_pred_class</th>\n",
       "      <th>y</th>\n",
       "    </tr>\n",
       "  </thead>\n",
       "  <tbody>\n",
       "    <tr>\n",
       "      <th>43</th>\n",
       "      <td>[0.9999663]</td>\n",
       "      <td>[1]</td>\n",
       "      <td>0</td>\n",
       "    </tr>\n",
       "    <tr>\n",
       "      <th>59</th>\n",
       "      <td>[0.9844015]</td>\n",
       "      <td>[1]</td>\n",
       "      <td>0</td>\n",
       "    </tr>\n",
       "    <tr>\n",
       "      <th>60</th>\n",
       "      <td>[0.9998144]</td>\n",
       "      <td>[1]</td>\n",
       "      <td>0</td>\n",
       "    </tr>\n",
       "    <tr>\n",
       "      <th>114</th>\n",
       "      <td>[0.99993575]</td>\n",
       "      <td>[1]</td>\n",
       "      <td>0</td>\n",
       "    </tr>\n",
       "    <tr>\n",
       "      <th>516</th>\n",
       "      <td>[0.995396]</td>\n",
       "      <td>[1]</td>\n",
       "      <td>0</td>\n",
       "    </tr>\n",
       "  </tbody>\n",
       "</table>\n",
       "</div>"
      ],
      "text/plain": [
       "           y_prob y_pred_class  y\n",
       "43    [0.9999663]          [1]  0\n",
       "59    [0.9844015]          [1]  0\n",
       "60    [0.9998144]          [1]  0\n",
       "114  [0.99993575]          [1]  0\n",
       "516    [0.995396]          [1]  0"
      ]
     },
     "execution_count": 176,
     "metadata": {},
     "output_type": "execute_result"
    }
   ],
   "source": [
    "# What did it get wrong? Where the model STRONGLY predicted a bad review but was actually rated as good by user\n",
    "ydf[(ydf.y == 0) & (ydf.y_prob > 0.9)].head()"
   ]
  },
  {
   "cell_type": "code",
   "execution_count": 177,
   "metadata": {},
   "outputs": [
    {
     "data": {
      "text/html": [
       "<div>\n",
       "<style scoped>\n",
       "    .dataframe tbody tr th:only-of-type {\n",
       "        vertical-align: middle;\n",
       "    }\n",
       "\n",
       "    .dataframe tbody tr th {\n",
       "        vertical-align: top;\n",
       "    }\n",
       "\n",
       "    .dataframe thead th {\n",
       "        text-align: right;\n",
       "    }\n",
       "</style>\n",
       "<table border=\"1\" class=\"dataframe\">\n",
       "  <thead>\n",
       "    <tr style=\"text-align: right;\">\n",
       "      <th></th>\n",
       "      <th>y_prob</th>\n",
       "      <th>y_pred_class</th>\n",
       "      <th>y</th>\n",
       "    </tr>\n",
       "  </thead>\n",
       "  <tbody>\n",
       "    <tr>\n",
       "      <th>76</th>\n",
       "      <td>[0.015126407]</td>\n",
       "      <td>[0]</td>\n",
       "      <td>1</td>\n",
       "    </tr>\n",
       "    <tr>\n",
       "      <th>100</th>\n",
       "      <td>[0.0061165392]</td>\n",
       "      <td>[0]</td>\n",
       "      <td>1</td>\n",
       "    </tr>\n",
       "    <tr>\n",
       "      <th>279</th>\n",
       "      <td>[0.02390176]</td>\n",
       "      <td>[0]</td>\n",
       "      <td>1</td>\n",
       "    </tr>\n",
       "    <tr>\n",
       "      <th>315</th>\n",
       "      <td>[0.053687185]</td>\n",
       "      <td>[0]</td>\n",
       "      <td>1</td>\n",
       "    </tr>\n",
       "    <tr>\n",
       "      <th>416</th>\n",
       "      <td>[0.021241933]</td>\n",
       "      <td>[0]</td>\n",
       "      <td>1</td>\n",
       "    </tr>\n",
       "  </tbody>\n",
       "</table>\n",
       "</div>"
      ],
      "text/plain": [
       "             y_prob y_pred_class  y\n",
       "76    [0.015126407]          [0]  1\n",
       "100  [0.0061165392]          [0]  1\n",
       "279    [0.02390176]          [0]  1\n",
       "315   [0.053687185]          [0]  1\n",
       "416   [0.021241933]          [0]  1"
      ]
     },
     "execution_count": 177,
     "metadata": {},
     "output_type": "execute_result"
    }
   ],
   "source": [
    "# What did it get wrong? Where the model strongly predicted a good review but user rated as bad\n",
    "ydf[(ydf.y == 1) & (ydf.y_prob < 0.1)].head()"
   ]
  },
  {
   "cell_type": "markdown",
   "metadata": {},
   "source": [
    "Looking at the probability histogram, this model is classifying well for both positive and negative reviews, where the high probabilities for each output means the model is certain of the class. The same reviews are causing a problem."
   ]
  },
  {
   "cell_type": "code",
   "execution_count": 178,
   "metadata": {},
   "outputs": [],
   "source": [
    "model.save(\"deepdropfull.h5\")"
   ]
  },
  {
   "cell_type": "markdown",
   "metadata": {},
   "source": [
    "# Section 8: Convolutional Neural Network"
   ]
  },
  {
   "cell_type": "markdown",
   "metadata": {},
   "source": [
    "Does not consider each word independently. There is some attempt to capture sequences of words by looking for double and triplets of words."
   ]
  },
  {
   "cell_type": "code",
   "execution_count": 210,
   "metadata": {},
   "outputs": [],
   "source": [
    "# Set parameters for this model - maxlen 400\n",
    "input_dim = vocabulary_size #as per Maas et al. (2011)\n",
    "output_dim = 64\n",
    "maxlen = 400\n",
    "\n",
    "# Embedding - padding and truncating at the front of a review\n",
    "pad_type = 'post'\n",
    "truncating = 'post'\n",
    "drop_embed = 0.2\n",
    "\n",
    "# Convolutional layer - 256 filters to look for the word embeddings and the window of k_conv set to 3 to pick up trigrams\n",
    "filters = 256 \n",
    "kernel_size = 3\n",
    "\n",
    "# Dense layer: \n",
    "n_dense = 256\n",
    "dropout = 0.2\n",
    "\n",
    "# Training parameters:\n",
    "epochs = 10\n",
    "batch_size = 128"
   ]
  },
  {
   "cell_type": "code",
   "execution_count": 211,
   "metadata": {},
   "outputs": [],
   "source": [
    "# Create sequences \n",
    "X_train_w2 = pad_sequences(np.array(X_train_s,dtype = \"object\"), padding=pad_type, truncating = truncating,maxlen = maxlen)\n",
    "X_val_w2 = pad_sequences(np.array(X_val_s,dtype = \"object\"), padding=pad_type, truncating = truncating, maxlen=maxlen)"
   ]
  },
  {
   "cell_type": "code",
   "execution_count": 212,
   "metadata": {},
   "outputs": [
    {
     "data": {
      "text/plain": [
       "(5718, 400)"
      ]
     },
     "execution_count": 212,
     "metadata": {},
     "output_type": "execute_result"
    }
   ],
   "source": [
    "# Check that the sequence is length 400\n",
    "X_train_w2.shape"
   ]
  },
  {
   "cell_type": "code",
   "execution_count": 213,
   "metadata": {},
   "outputs": [],
   "source": [
    "# Build model\n",
    "\n",
    "model = Sequential()\n",
    "\n",
    "# Embedding layer with dropout on the embedding. Dropout is Spatial so 1d feature maps are dropped rather ind. elements\n",
    "model.add(Embedding(input_dim = input_dim, output_dim = output_dim, input_length=maxlen))\n",
    "model.add(SpatialDropout1D(drop_embed))\n",
    "\n",
    "# Convolution layers - 1D as not image data, one dimension of time. \n",
    "model.add(Conv1D(filters, kernel_size, activation='relu'))\n",
    "#model.add(Conv1D(filters, kernel_size, activation='relu'))\n",
    "model.add(GlobalMaxPooling1D())\n",
    "model.add(Dense(n_dense, activation='relu'))\n",
    "model.add(Dropout(dropout))\n",
    "\n",
    "# Output layer\n",
    "model.add(Dense(1, activation='sigmoid'))"
   ]
  },
  {
   "cell_type": "code",
   "execution_count": 214,
   "metadata": {},
   "outputs": [
    {
     "name": "stdout",
     "output_type": "stream",
     "text": [
      "Model: \"sequential_8\"\n",
      "_________________________________________________________________\n",
      "Layer (type)                 Output Shape              Param #   \n",
      "=================================================================\n",
      "embedding_8 (Embedding)      (None, 400, 64)           790144    \n",
      "_________________________________________________________________\n",
      "spatial_dropout1d_2 (Spatial (None, 400, 64)           0         \n",
      "_________________________________________________________________\n",
      "conv1d_1 (Conv1D)            (None, 398, 256)          49408     \n",
      "_________________________________________________________________\n",
      "global_max_pooling1d_1 (Glob (None, 256)               0         \n",
      "_________________________________________________________________\n",
      "dense_14 (Dense)             (None, 256)               65792     \n",
      "_________________________________________________________________\n",
      "dropout_4 (Dropout)          (None, 256)               0         \n",
      "_________________________________________________________________\n",
      "dense_15 (Dense)             (None, 1)                 257       \n",
      "=================================================================\n",
      "Total params: 905,601\n",
      "Trainable params: 905,601\n",
      "Non-trainable params: 0\n",
      "_________________________________________________________________\n"
     ]
    }
   ],
   "source": [
    "model.summary()"
   ]
  },
  {
   "cell_type": "code",
   "execution_count": 215,
   "metadata": {},
   "outputs": [],
   "source": [
    "# Compile model\n",
    "model.compile(loss='binary_crossentropy', optimizer='adam', metrics=['accuracy'])"
   ]
  },
  {
   "cell_type": "code",
   "execution_count": 216,
   "metadata": {},
   "outputs": [],
   "source": [
    "# The model will use earlystopping if the valuation loss doesn't decrease after 5 epochs\n",
    "output_dir = 'model_output/CNN_full'\n",
    "if not os.path.exists(output_dir):\n",
    "    os.makedirs(output_dir)\n",
    "\n",
    "modelcheckpoint = ModelCheckpoint(filepath=output_dir+\"/weights.{epoch:02d}.hdf5\")\n",
    "callbacks = [EarlyStopping(monitor = \"val_loss\", patience = 3),modelcheckpoint]"
   ]
  },
  {
   "cell_type": "code",
   "execution_count": 217,
   "metadata": {},
   "outputs": [
    {
     "name": "stdout",
     "output_type": "stream",
     "text": [
      "Epoch 1/10\n",
      "45/45 - 6s - loss: 0.6073 - accuracy: 0.5427 - val_loss: 0.4197 - val_accuracy: 0.7744\n",
      "Epoch 2/10\n",
      "45/45 - 6s - loss: 0.2305 - accuracy: 0.9049 - val_loss: 0.1132 - val_accuracy: 0.9601\n",
      "Epoch 3/10\n",
      "45/45 - 6s - loss: 0.0786 - accuracy: 0.9729 - val_loss: 0.1291 - val_accuracy: 0.9517\n",
      "Epoch 4/10\n",
      "45/45 - 6s - loss: 0.0332 - accuracy: 0.9911 - val_loss: 0.1197 - val_accuracy: 0.9596\n",
      "Epoch 5/10\n",
      "45/45 - 6s - loss: 0.0148 - accuracy: 0.9967 - val_loss: 0.1257 - val_accuracy: 0.9617\n"
     ]
    }
   ],
   "source": [
    "# Model using keras embeddings\n",
    "history = model.fit(X_train_w2, y_train,\n",
    "                    epochs=epochs,\n",
    "                    verbose=2,\n",
    "                    callbacks = callbacks,\n",
    "                    validation_data=(X_val_w2, y_val),\n",
    "                    batch_size=batch_size,\n",
    "                    class_weight = class_weights)"
   ]
  },
  {
   "cell_type": "code",
   "execution_count": 218,
   "metadata": {},
   "outputs": [
    {
     "name": "stdout",
     "output_type": "stream",
     "text": [
      "Training Accuracy: 0.9995\n",
      "Testing Accuracy:  0.9617\n"
     ]
    }
   ],
   "source": [
    "# Print training and test accuracies\n",
    "loss, accuracy = model.evaluate(X_train_w2, y_train, verbose=False)\n",
    "print(\"Training Accuracy: {:.4f}\".format(accuracy))\n",
    "loss, accuracy = model.evaluate(X_val_w2, y_val, verbose=False)\n",
    "print(\"Testing Accuracy:  {:.4f}\".format(accuracy))"
   ]
  },
  {
   "cell_type": "code",
   "execution_count": 219,
   "metadata": {},
   "outputs": [
    {
     "data": {
      "image/png": "[encoded data removed]",
      "text/plain": [
       "<Figure size 864x360 with 2 Axes>"
      ]
     },
     "metadata": {},
     "output_type": "display_data"
    }
   ],
   "source": [
    "plot_history(history)"
   ]
  },
  {
   "cell_type": "code",
   "execution_count": 220,
   "metadata": {},
   "outputs": [],
   "source": [
    "model.load_weights(output_dir+\"/weights.02.hdf5\")"
   ]
  },
  {
   "cell_type": "code",
   "execution_count": 221,
   "metadata": {},
   "outputs": [],
   "source": [
    "# Get predicted y values and predicted classes\n",
    "y_pred_prob = model.predict(X_val_w2)\n",
    "y_pred_class = y_pred_class = (model.predict(X_val_w2) > 0.5).astype(\"int32\")"
   ]
  },
  {
   "cell_type": "code",
   "execution_count": 222,
   "metadata": {},
   "outputs": [
    {
     "data": {
      "text/html": [
       "<div>\n",
       "<style scoped>\n",
       "    .dataframe tbody tr th:only-of-type {\n",
       "        vertical-align: middle;\n",
       "    }\n",
       "\n",
       "    .dataframe tbody tr th {\n",
       "        vertical-align: top;\n",
       "    }\n",
       "\n",
       "    .dataframe thead th {\n",
       "        text-align: right;\n",
       "    }\n",
       "</style>\n",
       "<table border=\"1\" class=\"dataframe\">\n",
       "  <thead>\n",
       "    <tr style=\"text-align: right;\">\n",
       "      <th></th>\n",
       "      <th>y_prob</th>\n",
       "      <th>y_pred_class</th>\n",
       "      <th>y</th>\n",
       "    </tr>\n",
       "  </thead>\n",
       "  <tbody>\n",
       "    <tr>\n",
       "      <th>0</th>\n",
       "      <td>[0.0019523203]</td>\n",
       "      <td>[0]</td>\n",
       "      <td>0</td>\n",
       "    </tr>\n",
       "    <tr>\n",
       "      <th>1</th>\n",
       "      <td>[0.0030799806]</td>\n",
       "      <td>[0]</td>\n",
       "      <td>0</td>\n",
       "    </tr>\n",
       "    <tr>\n",
       "      <th>2</th>\n",
       "      <td>[0.013178378]</td>\n",
       "      <td>[0]</td>\n",
       "      <td>0</td>\n",
       "    </tr>\n",
       "    <tr>\n",
       "      <th>3</th>\n",
       "      <td>[0.9088937]</td>\n",
       "      <td>[1]</td>\n",
       "      <td>1</td>\n",
       "    </tr>\n",
       "    <tr>\n",
       "      <th>4</th>\n",
       "      <td>[0.9977141]</td>\n",
       "      <td>[1]</td>\n",
       "      <td>1</td>\n",
       "    </tr>\n",
       "  </tbody>\n",
       "</table>\n",
       "</div>"
      ],
      "text/plain": [
       "           y_prob y_pred_class  y\n",
       "0  [0.0019523203]          [0]  0\n",
       "1  [0.0030799806]          [0]  0\n",
       "2   [0.013178378]          [0]  0\n",
       "3     [0.9088937]          [1]  1\n",
       "4     [0.9977141]          [1]  1"
      ]
     },
     "execution_count": 222,
     "metadata": {},
     "output_type": "execute_result"
    }
   ],
   "source": [
    "# Create dataframe with y pred probabilities, classes and y actual\n",
    "ydf = pd.DataFrame(list(zip(y_pred_prob, y_pred_class,y_val,)), columns=['y_prob','y_pred_class', 'y'])\n",
    "ydf.head()"
   ]
  },
  {
   "cell_type": "code",
   "execution_count": 223,
   "metadata": {},
   "outputs": [
    {
     "data": {
      "image/png": "[encoded data removed]",
      "text/plain": [
       "<Figure size 432x288 with 1 Axes>"
      ]
     },
     "metadata": {},
     "output_type": "display_data"
    }
   ],
   "source": [
    "plt.hist(y_pred_prob)\n",
    "_ = plt.axvline(x=0.5, color='blue')"
   ]
  },
  {
   "cell_type": "code",
   "execution_count": 224,
   "metadata": {},
   "outputs": [
    {
     "name": "stdout",
     "output_type": "stream",
     "text": [
      "              precision    recall  f1-score   support\n",
      "\n",
      "           0       0.98      0.97      0.98      1646\n",
      "           1       0.84      0.88      0.86       260\n",
      "\n",
      "    accuracy                           0.96      1906\n",
      "   macro avg       0.91      0.93      0.92      1906\n",
      "weighted avg       0.96      0.96      0.96      1906\n",
      "\n"
     ]
    },
    {
     "data": {
      "image/png": "[encoded data removed]",
      "text/plain": [
       "<Figure size 432x288 with 2 Axes>"
      ]
     },
     "metadata": {},
     "output_type": "display_data"
    }
   ],
   "source": [
    "class_conf(y_val,y_pred_class)"
   ]
  },
  {
   "cell_type": "code",
   "execution_count": 225,
   "metadata": {},
   "outputs": [
    {
     "data": {
      "text/html": [
       "<div>\n",
       "<style scoped>\n",
       "    .dataframe tbody tr th:only-of-type {\n",
       "        vertical-align: middle;\n",
       "    }\n",
       "\n",
       "    .dataframe tbody tr th {\n",
       "        vertical-align: top;\n",
       "    }\n",
       "\n",
       "    .dataframe thead th {\n",
       "        text-align: right;\n",
       "    }\n",
       "</style>\n",
       "<table border=\"1\" class=\"dataframe\">\n",
       "  <thead>\n",
       "    <tr style=\"text-align: right;\">\n",
       "      <th></th>\n",
       "      <th>Accuracy</th>\n",
       "      <th>Precision</th>\n",
       "      <th>Recall</th>\n",
       "      <th>F1</th>\n",
       "      <th>ROCAUC</th>\n",
       "    </tr>\n",
       "  </thead>\n",
       "  <tbody>\n",
       "    <tr>\n",
       "      <th>0</th>\n",
       "      <td>0.960126</td>\n",
       "      <td>0.835766</td>\n",
       "      <td>0.880769</td>\n",
       "      <td>0.857678</td>\n",
       "      <td>0.926715</td>\n",
       "    </tr>\n",
       "  </tbody>\n",
       "</table>\n",
       "</div>"
      ],
      "text/plain": [
       "   Accuracy  Precision    Recall        F1    ROCAUC\n",
       "0  0.960126   0.835766  0.880769  0.857678  0.926715"
      ]
     },
     "execution_count": 225,
     "metadata": {},
     "output_type": "execute_result"
    }
   ],
   "source": [
    "conv = metric_results(y_val,y_pred_class)\n",
    "conv"
   ]
  },
  {
   "cell_type": "code",
   "execution_count": 226,
   "metadata": {},
   "outputs": [
    {
     "data": {
      "text/html": [
       "<div>\n",
       "<style scoped>\n",
       "    .dataframe tbody tr th:only-of-type {\n",
       "        vertical-align: middle;\n",
       "    }\n",
       "\n",
       "    .dataframe tbody tr th {\n",
       "        vertical-align: top;\n",
       "    }\n",
       "\n",
       "    .dataframe thead th {\n",
       "        text-align: right;\n",
       "    }\n",
       "</style>\n",
       "<table border=\"1\" class=\"dataframe\">\n",
       "  <thead>\n",
       "    <tr style=\"text-align: right;\">\n",
       "      <th></th>\n",
       "      <th>y_prob</th>\n",
       "      <th>y_pred_class</th>\n",
       "      <th>y</th>\n",
       "    </tr>\n",
       "  </thead>\n",
       "  <tbody>\n",
       "    <tr>\n",
       "      <th>39</th>\n",
       "      <td>[0.6542346]</td>\n",
       "      <td>[1]</td>\n",
       "      <td>0</td>\n",
       "    </tr>\n",
       "    <tr>\n",
       "      <th>43</th>\n",
       "      <td>[0.9883479]</td>\n",
       "      <td>[1]</td>\n",
       "      <td>0</td>\n",
       "    </tr>\n",
       "    <tr>\n",
       "      <th>48</th>\n",
       "      <td>[0.5281787]</td>\n",
       "      <td>[1]</td>\n",
       "      <td>0</td>\n",
       "    </tr>\n",
       "    <tr>\n",
       "      <th>60</th>\n",
       "      <td>[0.6755213]</td>\n",
       "      <td>[1]</td>\n",
       "      <td>0</td>\n",
       "    </tr>\n",
       "    <tr>\n",
       "      <th>82</th>\n",
       "      <td>[0.2825355]</td>\n",
       "      <td>[0]</td>\n",
       "      <td>1</td>\n",
       "    </tr>\n",
       "  </tbody>\n",
       "</table>\n",
       "</div>"
      ],
      "text/plain": [
       "         y_prob y_pred_class  y\n",
       "39  [0.6542346]          [1]  0\n",
       "43  [0.9883479]          [1]  0\n",
       "48  [0.5281787]          [1]  0\n",
       "60  [0.6755213]          [1]  0\n",
       "82  [0.2825355]          [0]  1"
      ]
     },
     "execution_count": 226,
     "metadata": {},
     "output_type": "execute_result"
    }
   ],
   "source": [
    "# What it got wrong\n",
    "not_correct = ydf[ydf.y != ydf.y_pred_class]\n",
    "not_correct.head()"
   ]
  },
  {
   "cell_type": "code",
   "execution_count": 227,
   "metadata": {},
   "outputs": [
    {
     "data": {
      "text/html": [
       "<div>\n",
       "<style scoped>\n",
       "    .dataframe tbody tr th:only-of-type {\n",
       "        vertical-align: middle;\n",
       "    }\n",
       "\n",
       "    .dataframe tbody tr th {\n",
       "        vertical-align: top;\n",
       "    }\n",
       "\n",
       "    .dataframe thead th {\n",
       "        text-align: right;\n",
       "    }\n",
       "</style>\n",
       "<table border=\"1\" class=\"dataframe\">\n",
       "  <thead>\n",
       "    <tr style=\"text-align: right;\">\n",
       "      <th></th>\n",
       "      <th>y_prob</th>\n",
       "      <th>y_pred_class</th>\n",
       "      <th>y</th>\n",
       "    </tr>\n",
       "  </thead>\n",
       "  <tbody>\n",
       "    <tr>\n",
       "      <th>43</th>\n",
       "      <td>[0.9883479]</td>\n",
       "      <td>[1]</td>\n",
       "      <td>0</td>\n",
       "    </tr>\n",
       "    <tr>\n",
       "      <th>114</th>\n",
       "      <td>[0.9867871]</td>\n",
       "      <td>[1]</td>\n",
       "      <td>0</td>\n",
       "    </tr>\n",
       "    <tr>\n",
       "      <th>428</th>\n",
       "      <td>[0.9254073]</td>\n",
       "      <td>[1]</td>\n",
       "      <td>0</td>\n",
       "    </tr>\n",
       "    <tr>\n",
       "      <th>779</th>\n",
       "      <td>[0.9640466]</td>\n",
       "      <td>[1]</td>\n",
       "      <td>0</td>\n",
       "    </tr>\n",
       "    <tr>\n",
       "      <th>1004</th>\n",
       "      <td>[0.9639063]</td>\n",
       "      <td>[1]</td>\n",
       "      <td>0</td>\n",
       "    </tr>\n",
       "  </tbody>\n",
       "</table>\n",
       "</div>"
      ],
      "text/plain": [
       "           y_prob y_pred_class  y\n",
       "43    [0.9883479]          [1]  0\n",
       "114   [0.9867871]          [1]  0\n",
       "428   [0.9254073]          [1]  0\n",
       "779   [0.9640466]          [1]  0\n",
       "1004  [0.9639063]          [1]  0"
      ]
     },
     "execution_count": 227,
     "metadata": {},
     "output_type": "execute_result"
    }
   ],
   "source": [
    "# What did it get wrong? Where the model STRONGLY predicted a bad review but was actually rated as good by user\n",
    "ydf[(ydf.y == 0) & (ydf.y_prob > 0.9)].head()"
   ]
  },
  {
   "cell_type": "code",
   "execution_count": 228,
   "metadata": {},
   "outputs": [
    {
     "data": {
      "text/html": [
       "<div>\n",
       "<style scoped>\n",
       "    .dataframe tbody tr th:only-of-type {\n",
       "        vertical-align: middle;\n",
       "    }\n",
       "\n",
       "    .dataframe tbody tr th {\n",
       "        vertical-align: top;\n",
       "    }\n",
       "\n",
       "    .dataframe thead th {\n",
       "        text-align: right;\n",
       "    }\n",
       "</style>\n",
       "<table border=\"1\" class=\"dataframe\">\n",
       "  <thead>\n",
       "    <tr style=\"text-align: right;\">\n",
       "      <th></th>\n",
       "      <th>y_prob</th>\n",
       "      <th>y_pred_class</th>\n",
       "      <th>y</th>\n",
       "    </tr>\n",
       "  </thead>\n",
       "  <tbody>\n",
       "    <tr>\n",
       "      <th>306</th>\n",
       "      <td>[0.080467165]</td>\n",
       "      <td>[0]</td>\n",
       "      <td>1</td>\n",
       "    </tr>\n",
       "    <tr>\n",
       "      <th>315</th>\n",
       "      <td>[0.0061681867]</td>\n",
       "      <td>[0]</td>\n",
       "      <td>1</td>\n",
       "    </tr>\n",
       "    <tr>\n",
       "      <th>802</th>\n",
       "      <td>[0.078921646]</td>\n",
       "      <td>[0]</td>\n",
       "      <td>1</td>\n",
       "    </tr>\n",
       "    <tr>\n",
       "      <th>995</th>\n",
       "      <td>[0.09145397]</td>\n",
       "      <td>[0]</td>\n",
       "      <td>1</td>\n",
       "    </tr>\n",
       "    <tr>\n",
       "      <th>1066</th>\n",
       "      <td>[0.07619855]</td>\n",
       "      <td>[0]</td>\n",
       "      <td>1</td>\n",
       "    </tr>\n",
       "  </tbody>\n",
       "</table>\n",
       "</div>"
      ],
      "text/plain": [
       "              y_prob y_pred_class  y\n",
       "306    [0.080467165]          [0]  1\n",
       "315   [0.0061681867]          [0]  1\n",
       "802    [0.078921646]          [0]  1\n",
       "995     [0.09145397]          [0]  1\n",
       "1066    [0.07619855]          [0]  1"
      ]
     },
     "execution_count": 228,
     "metadata": {},
     "output_type": "execute_result"
    }
   ],
   "source": [
    "# What did it get wrong? Where the model STRONGLY predicted a good review but user rated as bad\n",
    "ydf[(ydf.y == 1) & (ydf.y_prob < 0.1)].head()"
   ]
  },
  {
   "cell_type": "code",
   "execution_count": 229,
   "metadata": {},
   "outputs": [],
   "source": [
    "model.save(\"conv_full.h5\")"
   ]
  },
  {
   "cell_type": "markdown",
   "metadata": {},
   "source": [
    "# Section 9: Recurrent Neural Network"
   ]
  },
  {
   "cell_type": "code",
   "execution_count": 230,
   "metadata": {},
   "outputs": [],
   "source": [
    "# Set parameters - note maxlen to 100 due to vanishing gradient problem\n",
    "# simple rnn can backpropagate around 10 words but leave for 100 initially\n",
    "\n",
    "input_dim = 10000\n",
    "output_dim = 64\n",
    "maxlen = 100\n",
    "n_dim = 64\n",
    "\n",
    "# Embedding\n",
    "pad_type = 'post'\n",
    "truncating = 'post'\n",
    "drop_embed = 0.2\n",
    "\n",
    "# Recurrent layer: \n",
    "n_rnn = 256 \n",
    "drop_rnn = 0.2\n",
    "\n",
    "# Dense layer: \n",
    "#n_dense = 256\n",
    "#dropout = 0.5\n",
    "\n",
    "# Training parameters - more epochs needed\n",
    "epochs = 16\n",
    "batch_size = 128"
   ]
  },
  {
   "cell_type": "code",
   "execution_count": 231,
   "metadata": {},
   "outputs": [],
   "source": [
    "# Create sequences \n",
    "X_train_w3 = pad_sequences(np.array(X_train_s,dtype = \"object\"), padding=pad_type, truncating = truncating,maxlen = maxlen)\n",
    "X_val_w3 = pad_sequences(np.array(X_val_s,dtype = \"object\"), padding=pad_type, truncating = truncating, maxlen=maxlen)"
   ]
  },
  {
   "cell_type": "code",
   "execution_count": 232,
   "metadata": {},
   "outputs": [],
   "source": [
    "model = Sequential()\n",
    "\n",
    "# Embedding\n",
    "model.add(Embedding(input_dim = input_dim, output_dim = output_dim, input_length=maxlen))\n",
    "model.add(SpatialDropout1D(drop_embed))\n",
    "\n",
    "# Recurrent layer\n",
    "model.add(SimpleRNN(n_rnn, dropout=drop_rnn))\n",
    "# model.add(Dense(n_dense, activation='relu')) \n",
    "# model.add(Dropout(dropout))\n",
    "\n",
    "# Output layer\n",
    "model.add(Dense(1, activation='sigmoid'))"
   ]
  },
  {
   "cell_type": "code",
   "execution_count": 233,
   "metadata": {},
   "outputs": [
    {
     "name": "stdout",
     "output_type": "stream",
     "text": [
      "Model: \"sequential_9\"\n",
      "_________________________________________________________________\n",
      "Layer (type)                 Output Shape              Param #   \n",
      "=================================================================\n",
      "embedding_9 (Embedding)      (None, 100, 64)           640000    \n",
      "_________________________________________________________________\n",
      "spatial_dropout1d_3 (Spatial (None, 100, 64)           0         \n",
      "_________________________________________________________________\n",
      "simple_rnn_1 (SimpleRNN)     (None, 256)               82176     \n",
      "_________________________________________________________________\n",
      "dense_16 (Dense)             (None, 1)                 257       \n",
      "=================================================================\n",
      "Total params: 722,433\n",
      "Trainable params: 722,433\n",
      "Non-trainable params: 0\n",
      "_________________________________________________________________\n"
     ]
    }
   ],
   "source": [
    "model.summary()"
   ]
  },
  {
   "cell_type": "markdown",
   "metadata": {},
   "source": [
    "Note you can reverse the direction if the beginning of the sentence is more important in the review as the later words are given more importance in the model"
   ]
  },
  {
   "cell_type": "code",
   "execution_count": 234,
   "metadata": {},
   "outputs": [],
   "source": [
    "# Compile model\n",
    "model.compile(loss='binary_crossentropy', optimizer='adam', metrics=['accuracy'])"
   ]
  },
  {
   "cell_type": "code",
   "execution_count": 235,
   "metadata": {},
   "outputs": [],
   "source": [
    "output_dir = 'model_output/RNN_full'\n",
    "if not os.path.exists(output_dir):\n",
    "    os.makedirs(output_dir)\n",
    "\n",
    "modelcheckpoint = ModelCheckpoint(filepath=output_dir+\"/weights.{epoch:02d}.hdf5\")\n",
    "callbacks = [EarlyStopping(monitor = \"val_loss\", patience = 3),modelcheckpoint]"
   ]
  },
  {
   "cell_type": "code",
   "execution_count": 236,
   "metadata": {},
   "outputs": [
    {
     "name": "stdout",
     "output_type": "stream",
     "text": [
      "Epoch 1/16\n",
      "45/45 - 4s - loss: 0.7008 - accuracy: 0.4767 - val_loss: 0.7038 - val_accuracy: 0.1364\n",
      "Epoch 2/16\n",
      "45/45 - 5s - loss: 0.6793 - accuracy: 0.5331 - val_loss: 0.6438 - val_accuracy: 0.8431\n",
      "Epoch 3/16\n",
      "45/45 - 5s - loss: 0.6732 - accuracy: 0.5995 - val_loss: 0.5784 - val_accuracy: 0.8426\n",
      "Epoch 4/16\n",
      "45/45 - 5s - loss: 0.6652 - accuracy: 0.6306 - val_loss: 0.7325 - val_accuracy: 0.1380\n",
      "Epoch 5/16\n",
      "45/45 - 5s - loss: 0.6565 - accuracy: 0.6712 - val_loss: 0.6432 - val_accuracy: 0.8421\n",
      "Epoch 6/16\n",
      "45/45 - 4s - loss: 0.6886 - accuracy: 0.5138 - val_loss: 0.6650 - val_accuracy: 0.8437\n"
     ]
    }
   ],
   "source": [
    "# Model using keras embeddings\n",
    "history = model.fit(X_train_w3, y_train,\n",
    "                    epochs=epochs,\n",
    "                    verbose=2,\n",
    "                    callbacks = callbacks,\n",
    "                    validation_data=(X_val_w3, y_val),\n",
    "                    batch_size=batch_size,\n",
    "                    class_weight = class_weights)"
   ]
  },
  {
   "cell_type": "code",
   "execution_count": 237,
   "metadata": {},
   "outputs": [
    {
     "name": "stdout",
     "output_type": "stream",
     "text": [
      "Training Accuracy: 0.8540\n",
      "Testing Accuracy:  0.8437\n"
     ]
    }
   ],
   "source": [
    "# Print training and test accuracies\n",
    "loss, accuracy = model.evaluate(X_train_w3, y_train, verbose=False)\n",
    "print(\"Training Accuracy: {:.4f}\".format(accuracy))\n",
    "loss, accuracy = model.evaluate(X_val_w3, y_val, verbose=False)\n",
    "print(\"Testing Accuracy:  {:.4f}\".format(accuracy))"
   ]
  },
  {
   "cell_type": "code",
   "execution_count": 238,
   "metadata": {},
   "outputs": [
    {
     "data": {
      "image/png": "[encoded data removed]",
      "text/plain": [
       "<Figure size 864x360 with 2 Axes>"
      ]
     },
     "metadata": {},
     "output_type": "display_data"
    }
   ],
   "source": [
    "plot_history(history)"
   ]
  },
  {
   "cell_type": "markdown",
   "metadata": {},
   "source": [
    "Not very successful. Model struggling to learn patterns. Problems with vanishing gradients common with RNNs."
   ]
  },
  {
   "cell_type": "code",
   "execution_count": 239,
   "metadata": {},
   "outputs": [],
   "source": [
    "model.load_weights(output_dir+\"/weights.02.hdf5\")"
   ]
  },
  {
   "cell_type": "code",
   "execution_count": 241,
   "metadata": {},
   "outputs": [],
   "source": [
    "# Get predicted y values and predicted classes\n",
    "y_pred_prob = model.predict(X_val_w3)\n",
    "y_pred_class = y_pred_class = (model.predict(X_val_w3) > 0.5).astype(\"int32\")"
   ]
  },
  {
   "cell_type": "code",
   "execution_count": 242,
   "metadata": {},
   "outputs": [
    {
     "data": {
      "text/html": [
       "<div>\n",
       "<style scoped>\n",
       "    .dataframe tbody tr th:only-of-type {\n",
       "        vertical-align: middle;\n",
       "    }\n",
       "\n",
       "    .dataframe tbody tr th {\n",
       "        vertical-align: top;\n",
       "    }\n",
       "\n",
       "    .dataframe thead th {\n",
       "        text-align: right;\n",
       "    }\n",
       "</style>\n",
       "<table border=\"1\" class=\"dataframe\">\n",
       "  <thead>\n",
       "    <tr style=\"text-align: right;\">\n",
       "      <th></th>\n",
       "      <th>y_prob</th>\n",
       "      <th>y_pred_class</th>\n",
       "      <th>y</th>\n",
       "    </tr>\n",
       "  </thead>\n",
       "  <tbody>\n",
       "    <tr>\n",
       "      <th>0</th>\n",
       "      <td>[0.4611857]</td>\n",
       "      <td>[0]</td>\n",
       "      <td>0</td>\n",
       "    </tr>\n",
       "    <tr>\n",
       "      <th>1</th>\n",
       "      <td>[0.46118543]</td>\n",
       "      <td>[0]</td>\n",
       "      <td>0</td>\n",
       "    </tr>\n",
       "    <tr>\n",
       "      <th>2</th>\n",
       "      <td>[0.46119]</td>\n",
       "      <td>[0]</td>\n",
       "      <td>0</td>\n",
       "    </tr>\n",
       "    <tr>\n",
       "      <th>3</th>\n",
       "      <td>[0.46023014]</td>\n",
       "      <td>[0]</td>\n",
       "      <td>1</td>\n",
       "    </tr>\n",
       "    <tr>\n",
       "      <th>4</th>\n",
       "      <td>[0.46118543]</td>\n",
       "      <td>[0]</td>\n",
       "      <td>1</td>\n",
       "    </tr>\n",
       "  </tbody>\n",
       "</table>\n",
       "</div>"
      ],
      "text/plain": [
       "         y_prob y_pred_class  y\n",
       "0   [0.4611857]          [0]  0\n",
       "1  [0.46118543]          [0]  0\n",
       "2     [0.46119]          [0]  0\n",
       "3  [0.46023014]          [0]  1\n",
       "4  [0.46118543]          [0]  1"
      ]
     },
     "execution_count": 242,
     "metadata": {},
     "output_type": "execute_result"
    }
   ],
   "source": [
    "# Create dataframe with y pred probabilities, classes and y actual\n",
    "ydf = pd.DataFrame(list(zip(y_pred_prob, y_pred_class,y_val,)), columns=['y_prob','y_pred_class', 'y'])\n",
    "ydf.head()"
   ]
  },
  {
   "cell_type": "code",
   "execution_count": 243,
   "metadata": {},
   "outputs": [
    {
     "data": {
      "image/png": "[encoded data removed]",
      "text/plain": [
       "<Figure size 432x288 with 1 Axes>"
      ]
     },
     "metadata": {},
     "output_type": "display_data"
    }
   ],
   "source": [
    "plt.hist(y_pred_prob)\n",
    "_ = plt.axvline(x=0.5, color='blue')"
   ]
  },
  {
   "cell_type": "code",
   "execution_count": 244,
   "metadata": {},
   "outputs": [
    {
     "name": "stdout",
     "output_type": "stream",
     "text": [
      "              precision    recall  f1-score   support\n",
      "\n",
      "           0       0.88      0.95      0.91      1646\n",
      "           1       0.36      0.18      0.24       260\n",
      "\n",
      "    accuracy                           0.84      1906\n",
      "   macro avg       0.62      0.57      0.58      1906\n",
      "weighted avg       0.81      0.84      0.82      1906\n",
      "\n"
     ]
    },
    {
     "data": {
      "image/png": "[encoded data removed]",
      "text/plain": [
       "<Figure size 432x288 with 2 Axes>"
      ]
     },
     "metadata": {},
     "output_type": "display_data"
    }
   ],
   "source": [
    "class_conf(y_val,y_pred_class)"
   ]
  },
  {
   "cell_type": "code",
   "execution_count": 245,
   "metadata": {},
   "outputs": [
    {
     "data": {
      "text/html": [
       "<div>\n",
       "<style scoped>\n",
       "    .dataframe tbody tr th:only-of-type {\n",
       "        vertical-align: middle;\n",
       "    }\n",
       "\n",
       "    .dataframe tbody tr th {\n",
       "        vertical-align: top;\n",
       "    }\n",
       "\n",
       "    .dataframe thead th {\n",
       "        text-align: right;\n",
       "    }\n",
       "</style>\n",
       "<table border=\"1\" class=\"dataframe\">\n",
       "  <thead>\n",
       "    <tr style=\"text-align: right;\">\n",
       "      <th></th>\n",
       "      <th>Accuracy</th>\n",
       "      <th>Precision</th>\n",
       "      <th>Recall</th>\n",
       "      <th>F1</th>\n",
       "      <th>ROCAUC</th>\n",
       "    </tr>\n",
       "  </thead>\n",
       "  <tbody>\n",
       "    <tr>\n",
       "      <th>0</th>\n",
       "      <td>0.843127</td>\n",
       "      <td>0.355556</td>\n",
       "      <td>0.184615</td>\n",
       "      <td>0.243038</td>\n",
       "      <td>0.56588</td>\n",
       "    </tr>\n",
       "  </tbody>\n",
       "</table>\n",
       "</div>"
      ],
      "text/plain": [
       "   Accuracy  Precision    Recall        F1   ROCAUC\n",
       "0  0.843127   0.355556  0.184615  0.243038  0.56588"
      ]
     },
     "execution_count": 245,
     "metadata": {},
     "output_type": "execute_result"
    }
   ],
   "source": [
    "rnn = metric_results(y_val,y_pred_class)\n",
    "rnn"
   ]
  },
  {
   "cell_type": "markdown",
   "metadata": {},
   "source": [
    "Gradient diminishes so much that the parameter updates become too small. Simple RNNs rarely used in practice. LSTMs can backpropagate through 100 timesteps"
   ]
  },
  {
   "cell_type": "code",
   "execution_count": 246,
   "metadata": {},
   "outputs": [],
   "source": [
    "model.save(\"rnn_full.h5\")"
   ]
  },
  {
   "cell_type": "markdown",
   "metadata": {},
   "source": [
    "# Section 10: LSTM Model"
   ]
  },
  {
   "cell_type": "code",
   "execution_count": 247,
   "metadata": {},
   "outputs": [],
   "source": [
    "# output directory name:\n",
    "output_dir = 'model_output/LSTM'\n",
    "\n",
    "input_dim = 10000 \n",
    "output_dim = 64\n",
    "maxlen = 100 # shorter review length\n",
    "n_dim = 64\n",
    "\n",
    "# Embedding\n",
    "pad_type = 'post'\n",
    "truncating = 'post'\n",
    "drop_embed = 0.2\n",
    "\n",
    "# LSTM layer \n",
    "n_lstm = 256 \n",
    "drop_lstm = 0.2\n",
    "\n",
    "# Dense layer: \n",
    "#n_dense = 256\n",
    "#dropout = 0.5\n",
    "\n",
    "# Training parameters:\n",
    "epochs = 10\n",
    "batch_size = 128"
   ]
  },
  {
   "cell_type": "code",
   "execution_count": 249,
   "metadata": {},
   "outputs": [],
   "source": [
    "# Create sequences \n",
    "X_train_w4 = pad_sequences(np.array(X_train_s,dtype = \"object\"), padding=pad_type, truncating = truncating,maxlen = maxlen)\n",
    "X_val_w4 = pad_sequences(np.array(X_val_s,dtype = \"object\"), padding=pad_type, truncating = truncating, maxlen=maxlen)"
   ]
  },
  {
   "cell_type": "code",
   "execution_count": 250,
   "metadata": {},
   "outputs": [],
   "source": [
    "model = Sequential()\n",
    "\n",
    "# Embedding\n",
    "model.add(Embedding(input_dim = input_dim, output_dim = output_dim, input_length=maxlen))\n",
    "model.add(SpatialDropout1D(drop_embed))\n",
    "\n",
    "# LSTM layer\n",
    "model.add(LSTM(n_lstm, dropout=drop_lstm))\n",
    "# model.add(Dense(n_dense, activation='relu')) # typically don't see top dense layer in NLP like in \n",
    "# model.add(Dropout(dropout))\n",
    "\n",
    "# Output layer\n",
    "model.add(Dense(1, activation='sigmoid'))"
   ]
  },
  {
   "cell_type": "code",
   "execution_count": 251,
   "metadata": {},
   "outputs": [
    {
     "name": "stdout",
     "output_type": "stream",
     "text": [
      "Model: \"sequential_10\"\n",
      "_________________________________________________________________\n",
      "Layer (type)                 Output Shape              Param #   \n",
      "=================================================================\n",
      "embedding_10 (Embedding)     (None, 100, 64)           640000    \n",
      "_________________________________________________________________\n",
      "spatial_dropout1d_4 (Spatial (None, 100, 64)           0         \n",
      "_________________________________________________________________\n",
      "lstm (LSTM)                  (None, 256)               328704    \n",
      "_________________________________________________________________\n",
      "dense_17 (Dense)             (None, 1)                 257       \n",
      "=================================================================\n",
      "Total params: 968,961\n",
      "Trainable params: 968,961\n",
      "Non-trainable params: 0\n",
      "_________________________________________________________________\n"
     ]
    }
   ],
   "source": [
    "model.summary()"
   ]
  },
  {
   "cell_type": "code",
   "execution_count": 252,
   "metadata": {},
   "outputs": [],
   "source": [
    "model.compile(loss='binary_crossentropy', optimizer='adam', metrics=['accuracy'])"
   ]
  },
  {
   "cell_type": "code",
   "execution_count": 253,
   "metadata": {},
   "outputs": [],
   "source": [
    "output_dir = 'model_output/LSTM_full'\n",
    "if not os.path.exists(output_dir):\n",
    "    os.makedirs(output_dir)\n",
    "\n",
    "modelcheckpoint = ModelCheckpoint(filepath=output_dir+\"/weights.{epoch:02d}.hdf5\")\n",
    "callbacks = [EarlyStopping(monitor = \"val_loss\", patience = 3),modelcheckpoint]"
   ]
  },
  {
   "cell_type": "code",
   "execution_count": 254,
   "metadata": {},
   "outputs": [
    {
     "name": "stdout",
     "output_type": "stream",
     "text": [
      "Epoch 1/10\n",
      "45/45 - 16s - loss: 0.6777 - accuracy: 0.7165 - val_loss: 0.5631 - val_accuracy: 0.8431\n",
      "Epoch 2/10\n",
      "45/45 - 16s - loss: 0.5937 - accuracy: 0.8249 - val_loss: 0.2733 - val_accuracy: 0.9260\n",
      "Epoch 3/10\n",
      "45/45 - 16s - loss: 0.4094 - accuracy: 0.8785 - val_loss: 0.4155 - val_accuracy: 0.8379\n",
      "Epoch 4/10\n",
      "45/45 - 16s - loss: 0.3509 - accuracy: 0.8393 - val_loss: 0.3803 - val_accuracy: 0.8384\n",
      "Epoch 5/10\n",
      "45/45 - 17s - loss: 0.3243 - accuracy: 0.8603 - val_loss: 0.4839 - val_accuracy: 0.8541\n"
     ]
    }
   ],
   "source": [
    "# Model using keras embeddings\n",
    "history = model.fit(X_train_w4, y_train,\n",
    "                    epochs=epochs,\n",
    "                    verbose=2,\n",
    "                    callbacks = callbacks,\n",
    "                    validation_data=(X_val_w4, y_val),\n",
    "                    batch_size=batch_size,\n",
    "                    class_weight = class_weights)"
   ]
  },
  {
   "cell_type": "code",
   "execution_count": 255,
   "metadata": {},
   "outputs": [
    {
     "name": "stdout",
     "output_type": "stream",
     "text": [
      "Training Accuracy: 0.8585\n",
      "Testing Accuracy:  0.8541\n"
     ]
    }
   ],
   "source": [
    "# Print training and test accuracies\n",
    "loss, accuracy = model.evaluate(X_train_w4, y_train, verbose=False)\n",
    "print(\"Training Accuracy: {:.4f}\".format(accuracy))\n",
    "loss, accuracy = model.evaluate(X_val_w4, y_val, verbose=False)\n",
    "print(\"Testing Accuracy:  {:.4f}\".format(accuracy))"
   ]
  },
  {
   "cell_type": "code",
   "execution_count": 256,
   "metadata": {},
   "outputs": [
    {
     "data": {
      "image/png": "[encoded data removed]",
      "text/plain": [
       "<Figure size 864x360 with 2 Axes>"
      ]
     },
     "metadata": {},
     "output_type": "display_data"
    }
   ],
   "source": [
    "plot_history(history)"
   ]
  },
  {
   "cell_type": "code",
   "execution_count": 257,
   "metadata": {},
   "outputs": [],
   "source": [
    "model.load_weights(output_dir+\"/weights.02.hdf5\")"
   ]
  },
  {
   "cell_type": "code",
   "execution_count": 258,
   "metadata": {},
   "outputs": [],
   "source": [
    "# Get predicted y values and predicted classes\n",
    "y_pred_prob = model.predict(X_val_w4)\n",
    "y_pred_class = y_pred_class = (model.predict(X_val_w4) > 0.5).astype(\"int32\")"
   ]
  },
  {
   "cell_type": "code",
   "execution_count": 259,
   "metadata": {},
   "outputs": [
    {
     "data": {
      "text/html": [
       "<div>\n",
       "<style scoped>\n",
       "    .dataframe tbody tr th:only-of-type {\n",
       "        vertical-align: middle;\n",
       "    }\n",
       "\n",
       "    .dataframe tbody tr th {\n",
       "        vertical-align: top;\n",
       "    }\n",
       "\n",
       "    .dataframe thead th {\n",
       "        text-align: right;\n",
       "    }\n",
       "</style>\n",
       "<table border=\"1\" class=\"dataframe\">\n",
       "  <thead>\n",
       "    <tr style=\"text-align: right;\">\n",
       "      <th></th>\n",
       "      <th>y_prob</th>\n",
       "      <th>y_pred_class</th>\n",
       "      <th>y</th>\n",
       "    </tr>\n",
       "  </thead>\n",
       "  <tbody>\n",
       "    <tr>\n",
       "      <th>0</th>\n",
       "      <td>[0.123606086]</td>\n",
       "      <td>[0]</td>\n",
       "      <td>0</td>\n",
       "    </tr>\n",
       "    <tr>\n",
       "      <th>1</th>\n",
       "      <td>[0.12359148]</td>\n",
       "      <td>[0]</td>\n",
       "      <td>0</td>\n",
       "    </tr>\n",
       "    <tr>\n",
       "      <th>2</th>\n",
       "      <td>[0.123645514]</td>\n",
       "      <td>[0]</td>\n",
       "      <td>0</td>\n",
       "    </tr>\n",
       "    <tr>\n",
       "      <th>3</th>\n",
       "      <td>[0.13254449]</td>\n",
       "      <td>[0]</td>\n",
       "      <td>1</td>\n",
       "    </tr>\n",
       "    <tr>\n",
       "      <th>4</th>\n",
       "      <td>[0.8971248]</td>\n",
       "      <td>[1]</td>\n",
       "      <td>1</td>\n",
       "    </tr>\n",
       "  </tbody>\n",
       "</table>\n",
       "</div>"
      ],
      "text/plain": [
       "          y_prob y_pred_class  y\n",
       "0  [0.123606086]          [0]  0\n",
       "1   [0.12359148]          [0]  0\n",
       "2  [0.123645514]          [0]  0\n",
       "3   [0.13254449]          [0]  1\n",
       "4    [0.8971248]          [1]  1"
      ]
     },
     "execution_count": 259,
     "metadata": {},
     "output_type": "execute_result"
    }
   ],
   "source": [
    "# Create dataframe with y pred probabilities, classes and y actual\n",
    "ydf = pd.DataFrame(list(zip(y_pred_prob, y_pred_class,y_val,)), columns=['y_prob','y_pred_class', 'y'])\n",
    "ydf.head()"
   ]
  },
  {
   "cell_type": "code",
   "execution_count": 260,
   "metadata": {},
   "outputs": [
    {
     "data": {
      "image/png": "[encoded data removed]",
      "text/plain": [
       "<Figure size 432x288 with 1 Axes>"
      ]
     },
     "metadata": {},
     "output_type": "display_data"
    }
   ],
   "source": [
    "plt.hist(y_pred_prob)\n",
    "_ = plt.axvline(x=0.5, color='blue')"
   ]
  },
  {
   "cell_type": "code",
   "execution_count": 261,
   "metadata": {},
   "outputs": [
    {
     "name": "stdout",
     "output_type": "stream",
     "text": [
      "              precision    recall  f1-score   support\n",
      "\n",
      "           0       0.93      0.99      0.96      1646\n",
      "           1       0.88      0.53      0.66       260\n",
      "\n",
      "    accuracy                           0.93      1906\n",
      "   macro avg       0.90      0.76      0.81      1906\n",
      "weighted avg       0.92      0.93      0.92      1906\n",
      "\n"
     ]
    },
    {
     "data": {
      "image/png": "[encoded data removed]",
      "text/plain": [
       "<Figure size 432x288 with 2 Axes>"
      ]
     },
     "metadata": {},
     "output_type": "display_data"
    }
   ],
   "source": [
    "class_conf(y_val,y_pred_class)"
   ]
  },
  {
   "cell_type": "code",
   "execution_count": 262,
   "metadata": {},
   "outputs": [
    {
     "data": {
      "text/html": [
       "<div>\n",
       "<style scoped>\n",
       "    .dataframe tbody tr th:only-of-type {\n",
       "        vertical-align: middle;\n",
       "    }\n",
       "\n",
       "    .dataframe tbody tr th {\n",
       "        vertical-align: top;\n",
       "    }\n",
       "\n",
       "    .dataframe thead th {\n",
       "        text-align: right;\n",
       "    }\n",
       "</style>\n",
       "<table border=\"1\" class=\"dataframe\">\n",
       "  <thead>\n",
       "    <tr style=\"text-align: right;\">\n",
       "      <th></th>\n",
       "      <th>Accuracy</th>\n",
       "      <th>Precision</th>\n",
       "      <th>Recall</th>\n",
       "      <th>F1</th>\n",
       "      <th>ROCAUC</th>\n",
       "    </tr>\n",
       "  </thead>\n",
       "  <tbody>\n",
       "    <tr>\n",
       "      <th>0</th>\n",
       "      <td>0.926023</td>\n",
       "      <td>0.878981</td>\n",
       "      <td>0.530769</td>\n",
       "      <td>0.661871</td>\n",
       "      <td>0.759613</td>\n",
       "    </tr>\n",
       "  </tbody>\n",
       "</table>\n",
       "</div>"
      ],
      "text/plain": [
       "   Accuracy  Precision    Recall        F1    ROCAUC\n",
       "0  0.926023   0.878981  0.530769  0.661871  0.759613"
      ]
     },
     "execution_count": 262,
     "metadata": {},
     "output_type": "execute_result"
    }
   ],
   "source": [
    "lstm = metric_results(y_val,y_pred_class)\n",
    "lstm"
   ]
  },
  {
   "cell_type": "code",
   "execution_count": 263,
   "metadata": {},
   "outputs": [],
   "source": [
    "model.save(\"lstmfull.h5\")"
   ]
  },
  {
   "cell_type": "markdown",
   "metadata": {},
   "source": [
    "# Section 11: GRU Model"
   ]
  },
  {
   "cell_type": "code",
   "execution_count": 264,
   "metadata": {},
   "outputs": [],
   "source": [
    "# output directory name:\n",
    "output_dir = 'model_output/GRU_full'\n",
    "\n",
    "input_dim = 10000\n",
    "output_dim = 64\n",
    "maxlen = 100\n",
    "n_dim = 64\n",
    "\n",
    "# Embedding\n",
    "pad_type = 'post'\n",
    "truncating = 'post'\n",
    "drop_embed = 0.2\n",
    "\n",
    "# GRU layer\n",
    "n_gru = 256 \n",
    "drop_gru = 0.2\n",
    "\n",
    "# Dense layer: \n",
    "#n_dense = 256\n",
    "#dropout = 0.5\n",
    "\n",
    "# Training parameters:\n",
    "epochs = 16\n",
    "batch_size = 128"
   ]
  },
  {
   "cell_type": "code",
   "execution_count": 265,
   "metadata": {},
   "outputs": [],
   "source": [
    "# Create sequences \n",
    "X_train_w5 = pad_sequences(np.array(X_train_s,dtype = \"object\"), padding=pad_type, truncating = truncating,maxlen = maxlen)\n",
    "X_val_w5 = pad_sequences(np.array(X_val_s,dtype = \"object\"), padding=pad_type, truncating = truncating, maxlen=maxlen)"
   ]
  },
  {
   "cell_type": "code",
   "execution_count": 266,
   "metadata": {},
   "outputs": [],
   "source": [
    "model = Sequential()\n",
    "\n",
    "# Embedding\n",
    "model.add(Embedding(input_dim = input_dim, output_dim = output_dim, input_length=maxlen))\n",
    "model.add(SpatialDropout1D(drop_embed))\n",
    "\n",
    "# GRU layer\n",
    "model.add(GRU(n_gru, dropout=drop_gru))\n",
    "# model.add(Dense(n_dense, activation='relu')) # typically don't see top dense layer in NLP like in \n",
    "# model.add(Dropout(dropout))\n",
    "\n",
    "# Output layer\n",
    "model.add(Dense(1, activation='sigmoid'))"
   ]
  },
  {
   "cell_type": "code",
   "execution_count": 267,
   "metadata": {},
   "outputs": [
    {
     "name": "stdout",
     "output_type": "stream",
     "text": [
      "Model: \"sequential_11\"\n",
      "_________________________________________________________________\n",
      "Layer (type)                 Output Shape              Param #   \n",
      "=================================================================\n",
      "embedding_11 (Embedding)     (None, 100, 64)           640000    \n",
      "_________________________________________________________________\n",
      "spatial_dropout1d_5 (Spatial (None, 100, 64)           0         \n",
      "_________________________________________________________________\n",
      "gru (GRU)                    (None, 256)               247296    \n",
      "_________________________________________________________________\n",
      "dense_18 (Dense)             (None, 1)                 257       \n",
      "=================================================================\n",
      "Total params: 887,553\n",
      "Trainable params: 887,553\n",
      "Non-trainable params: 0\n",
      "_________________________________________________________________\n"
     ]
    }
   ],
   "source": [
    "model.summary()"
   ]
  },
  {
   "cell_type": "code",
   "execution_count": 268,
   "metadata": {},
   "outputs": [],
   "source": [
    "model.compile(loss='binary_crossentropy', optimizer='adam', metrics=['accuracy'])"
   ]
  },
  {
   "cell_type": "code",
   "execution_count": 269,
   "metadata": {},
   "outputs": [],
   "source": [
    "output_dir = 'model_output/GRU_full'\n",
    "if not os.path.exists(output_dir):\n",
    "    os.makedirs(output_dir)\n",
    "\n",
    "modelcheckpoint = ModelCheckpoint(filepath=output_dir+\"/weights.{epoch:02d}.hdf5\")\n",
    "callbacks = [EarlyStopping(monitor = \"val_loss\", patience = 3),modelcheckpoint]"
   ]
  },
  {
   "cell_type": "code",
   "execution_count": 270,
   "metadata": {},
   "outputs": [
    {
     "name": "stdout",
     "output_type": "stream",
     "text": [
      "Epoch 1/16\n",
      "45/45 - 13s - loss: 0.6802 - accuracy: 0.7707 - val_loss: 0.7054 - val_accuracy: 0.1364\n",
      "Epoch 2/16\n",
      "45/45 - 12s - loss: 0.6722 - accuracy: 0.6303 - val_loss: 0.6202 - val_accuracy: 0.8431\n",
      "Epoch 3/16\n",
      "45/45 - 12s - loss: 0.6481 - accuracy: 0.8061 - val_loss: 0.5933 - val_accuracy: 0.8547\n",
      "Epoch 4/16\n",
      "45/45 - 12s - loss: 0.6470 - accuracy: 0.8445 - val_loss: 0.6943 - val_accuracy: 0.1548\n",
      "Epoch 5/16\n",
      "45/45 - 12s - loss: 0.6505 - accuracy: 0.7471 - val_loss: 0.7120 - val_accuracy: 0.1569\n",
      "Epoch 6/16\n",
      "45/45 - 13s - loss: 0.4772 - accuracy: 0.8750 - val_loss: 0.4116 - val_accuracy: 0.9014\n",
      "Epoch 7/16\n",
      "45/45 - 12s - loss: 0.3804 - accuracy: 0.8526 - val_loss: 0.3378 - val_accuracy: 0.8835\n",
      "Epoch 8/16\n",
      "45/45 - 13s - loss: 0.2781 - accuracy: 0.9112 - val_loss: 0.2649 - val_accuracy: 0.9166\n",
      "Epoch 9/16\n",
      "45/45 - 12s - loss: 0.2807 - accuracy: 0.8832 - val_loss: 0.2297 - val_accuracy: 0.9229\n",
      "Epoch 10/16\n",
      "45/45 - 13s - loss: 0.2209 - accuracy: 0.9568 - val_loss: 0.2725 - val_accuracy: 0.9302\n",
      "Epoch 11/16\n",
      "45/45 - 12s - loss: 0.2340 - accuracy: 0.9386 - val_loss: 0.2472 - val_accuracy: 0.9297\n",
      "Epoch 12/16\n",
      "45/45 - 14s - loss: 0.2521 - accuracy: 0.9614 - val_loss: 0.2645 - val_accuracy: 0.9328\n"
     ]
    }
   ],
   "source": [
    "# Model using keras embeddings\n",
    "history = model.fit(X_train_w5, y_train,\n",
    "                    epochs=epochs,\n",
    "                    verbose=2,\n",
    "                    callbacks = callbacks,\n",
    "                    validation_data=(X_val_w5, y_val),\n",
    "                    batch_size=batch_size,\n",
    "                    class_weight = class_weights)"
   ]
  },
  {
   "cell_type": "code",
   "execution_count": 274,
   "metadata": {},
   "outputs": [
    {
     "name": "stdout",
     "output_type": "stream",
     "text": [
      "Training Accuracy: 0.8699\n",
      "Testing Accuracy:  0.8547\n"
     ]
    }
   ],
   "source": [
    "# Print training and test accuracies\n",
    "loss, accuracy = model.evaluate(X_train_w5, y_train, verbose=False)\n",
    "print(\"Training Accuracy: {:.4f}\".format(accuracy))\n",
    "loss, accuracy = model.evaluate(X_val_w5, y_val, verbose=False)\n",
    "print(\"Testing Accuracy:  {:.4f}\".format(accuracy))"
   ]
  },
  {
   "cell_type": "code",
   "execution_count": 275,
   "metadata": {},
   "outputs": [
    {
     "data": {
      "image/png": "[encoded data removed]",
      "text/plain": [
       "<Figure size 864x360 with 2 Axes>"
      ]
     },
     "metadata": {},
     "output_type": "display_data"
    }
   ],
   "source": [
    "plot_history(history)"
   ]
  },
  {
   "cell_type": "code",
   "execution_count": 276,
   "metadata": {},
   "outputs": [],
   "source": [
    "model.load_weights(output_dir+\"/weights.12.hdf5\")"
   ]
  },
  {
   "cell_type": "code",
   "execution_count": 277,
   "metadata": {},
   "outputs": [],
   "source": [
    "# Get predicted y values and predicted classes\n",
    "y_pred_prob = model.predict(X_val_w5)\n",
    "y_pred_class = y_pred_class = (model.predict(X_val_w5) > 0.5).astype(\"int32\")"
   ]
  },
  {
   "cell_type": "code",
   "execution_count": 278,
   "metadata": {},
   "outputs": [
    {
     "data": {
      "text/html": [
       "<div>\n",
       "<style scoped>\n",
       "    .dataframe tbody tr th:only-of-type {\n",
       "        vertical-align: middle;\n",
       "    }\n",
       "\n",
       "    .dataframe tbody tr th {\n",
       "        vertical-align: top;\n",
       "    }\n",
       "\n",
       "    .dataframe thead th {\n",
       "        text-align: right;\n",
       "    }\n",
       "</style>\n",
       "<table border=\"1\" class=\"dataframe\">\n",
       "  <thead>\n",
       "    <tr style=\"text-align: right;\">\n",
       "      <th></th>\n",
       "      <th>y_prob</th>\n",
       "      <th>y_pred_class</th>\n",
       "      <th>y</th>\n",
       "    </tr>\n",
       "  </thead>\n",
       "  <tbody>\n",
       "    <tr>\n",
       "      <th>0</th>\n",
       "      <td>[0.0807946]</td>\n",
       "      <td>[0]</td>\n",
       "      <td>0</td>\n",
       "    </tr>\n",
       "    <tr>\n",
       "      <th>1</th>\n",
       "      <td>[0.08079356]</td>\n",
       "      <td>[0]</td>\n",
       "      <td>0</td>\n",
       "    </tr>\n",
       "    <tr>\n",
       "      <th>2</th>\n",
       "      <td>[0.08079937]</td>\n",
       "      <td>[0]</td>\n",
       "      <td>0</td>\n",
       "    </tr>\n",
       "    <tr>\n",
       "      <th>3</th>\n",
       "      <td>[0.08563933]</td>\n",
       "      <td>[0]</td>\n",
       "      <td>1</td>\n",
       "    </tr>\n",
       "    <tr>\n",
       "      <th>4</th>\n",
       "      <td>[0.9867333]</td>\n",
       "      <td>[1]</td>\n",
       "      <td>1</td>\n",
       "    </tr>\n",
       "  </tbody>\n",
       "</table>\n",
       "</div>"
      ],
      "text/plain": [
       "         y_prob y_pred_class  y\n",
       "0   [0.0807946]          [0]  0\n",
       "1  [0.08079356]          [0]  0\n",
       "2  [0.08079937]          [0]  0\n",
       "3  [0.08563933]          [0]  1\n",
       "4   [0.9867333]          [1]  1"
      ]
     },
     "execution_count": 278,
     "metadata": {},
     "output_type": "execute_result"
    }
   ],
   "source": [
    "# Create dataframe with y pred probabilities, classes and y actual\n",
    "ydf = pd.DataFrame(list(zip(y_pred_prob, y_pred_class,y_val,)), columns=['y_prob','y_pred_class', 'y'])\n",
    "ydf.head()"
   ]
  },
  {
   "cell_type": "code",
   "execution_count": 279,
   "metadata": {},
   "outputs": [
    {
     "data": {
      "image/png": "[encoded data removed]",
      "text/plain": [
       "<Figure size 432x288 with 1 Axes>"
      ]
     },
     "metadata": {},
     "output_type": "display_data"
    }
   ],
   "source": [
    "plt.hist(y_pred_prob)\n",
    "_ = plt.axvline(x=0.5, color='blue')"
   ]
  },
  {
   "cell_type": "code",
   "execution_count": 280,
   "metadata": {},
   "outputs": [
    {
     "name": "stdout",
     "output_type": "stream",
     "text": [
      "              precision    recall  f1-score   support\n",
      "\n",
      "           0       0.97      0.95      0.96      1646\n",
      "           1       0.73      0.82      0.77       260\n",
      "\n",
      "    accuracy                           0.93      1906\n",
      "   macro avg       0.85      0.88      0.86      1906\n",
      "weighted avg       0.94      0.93      0.93      1906\n",
      "\n"
     ]
    },
    {
     "data": {
      "image/png": "[encoded data removed]",
      "text/plain": [
       "<Figure size 432x288 with 2 Axes>"
      ]
     },
     "metadata": {},
     "output_type": "display_data"
    }
   ],
   "source": [
    "class_conf(y_val,y_pred_class)"
   ]
  },
  {
   "cell_type": "code",
   "execution_count": 281,
   "metadata": {},
   "outputs": [
    {
     "data": {
      "text/html": [
       "<div>\n",
       "<style scoped>\n",
       "    .dataframe tbody tr th:only-of-type {\n",
       "        vertical-align: middle;\n",
       "    }\n",
       "\n",
       "    .dataframe tbody tr th {\n",
       "        vertical-align: top;\n",
       "    }\n",
       "\n",
       "    .dataframe thead th {\n",
       "        text-align: right;\n",
       "    }\n",
       "</style>\n",
       "<table border=\"1\" class=\"dataframe\">\n",
       "  <thead>\n",
       "    <tr style=\"text-align: right;\">\n",
       "      <th></th>\n",
       "      <th>Accuracy</th>\n",
       "      <th>Precision</th>\n",
       "      <th>Recall</th>\n",
       "      <th>F1</th>\n",
       "      <th>ROCAUC</th>\n",
       "    </tr>\n",
       "  </thead>\n",
       "  <tbody>\n",
       "    <tr>\n",
       "      <th>0</th>\n",
       "      <td>0.932844</td>\n",
       "      <td>0.726027</td>\n",
       "      <td>0.815385</td>\n",
       "      <td>0.768116</td>\n",
       "      <td>0.883391</td>\n",
       "    </tr>\n",
       "  </tbody>\n",
       "</table>\n",
       "</div>"
      ],
      "text/plain": [
       "   Accuracy  Precision    Recall        F1    ROCAUC\n",
       "0  0.932844   0.726027  0.815385  0.768116  0.883391"
      ]
     },
     "execution_count": 281,
     "metadata": {},
     "output_type": "execute_result"
    }
   ],
   "source": [
    "gru = metric_results(y_val,y_pred_class)\n",
    "gru"
   ]
  },
  {
   "cell_type": "code",
   "execution_count": 282,
   "metadata": {},
   "outputs": [],
   "source": [
    "model.save(\"gru_full.h5\")"
   ]
  },
  {
   "cell_type": "markdown",
   "metadata": {},
   "source": [
    "# Section 12: Bidirectional LSTM"
   ]
  },
  {
   "cell_type": "markdown",
   "metadata": {},
   "source": [
    "Goes backward and forward time steps instead of just backpropagation. Learns patterns before and after a given word."
   ]
  },
  {
   "cell_type": "code",
   "execution_count": 283,
   "metadata": {},
   "outputs": [],
   "source": [
    "# output directory name:\n",
    "output_dir = 'model_output/BID_full'\n",
    "\n",
    "input_dim = 10000\n",
    "output_dim = 64\n",
    "maxlen = 100\n",
    "n_dim = 64\n",
    "\n",
    "# Embedding\n",
    "pad_type = 'post'\n",
    "truncating = 'post'\n",
    "drop_embed = 0.2\n",
    "\n",
    "# LSTM layer architecture:\n",
    "n_lstm = 256 \n",
    "drop_lstm = 0.2\n",
    "\n",
    "# Dense layer: \n",
    "#n_dense = 256\n",
    "#dropout = 0.5\n",
    "\n",
    "# Training parameters:\n",
    "epochs = 16\n",
    "batch_size = 128"
   ]
  },
  {
   "cell_type": "code",
   "execution_count": 284,
   "metadata": {},
   "outputs": [],
   "source": [
    "# Create sequences \n",
    "X_train_w6 = pad_sequences(np.array(X_train_s,dtype = \"object\"), padding=pad_type, truncating = truncating,maxlen = maxlen)\n",
    "X_val_w6 = pad_sequences(np.array(X_val_s,dtype = \"object\"), padding=pad_type, truncating = truncating, maxlen=maxlen)"
   ]
  },
  {
   "cell_type": "code",
   "execution_count": 285,
   "metadata": {},
   "outputs": [],
   "source": [
    "model = Sequential()\n",
    "\n",
    "model.add(Embedding(input_dim = input_dim, output_dim = output_dim, input_length=maxlen))\n",
    "model.add(SpatialDropout1D(drop_embed))\n",
    "\n",
    "model.add(Bidirectional(LSTM(n_lstm, dropout=drop_lstm)))\n",
    "model.add(Dense(1, activation='sigmoid'))"
   ]
  },
  {
   "cell_type": "code",
   "execution_count": 286,
   "metadata": {},
   "outputs": [
    {
     "name": "stdout",
     "output_type": "stream",
     "text": [
      "Model: \"sequential_12\"\n",
      "_________________________________________________________________\n",
      "Layer (type)                 Output Shape              Param #   \n",
      "=================================================================\n",
      "embedding_12 (Embedding)     (None, 100, 64)           640000    \n",
      "_________________________________________________________________\n",
      "spatial_dropout1d_6 (Spatial (None, 100, 64)           0         \n",
      "_________________________________________________________________\n",
      "bidirectional (Bidirectional (None, 512)               657408    \n",
      "_________________________________________________________________\n",
      "dense_19 (Dense)             (None, 1)                 513       \n",
      "=================================================================\n",
      "Total params: 1,297,921\n",
      "Trainable params: 1,297,921\n",
      "Non-trainable params: 0\n",
      "_________________________________________________________________\n"
     ]
    }
   ],
   "source": [
    "model.summary()"
   ]
  },
  {
   "cell_type": "code",
   "execution_count": 287,
   "metadata": {},
   "outputs": [],
   "source": [
    "model.compile(loss='binary_crossentropy', optimizer='adam', metrics=['accuracy'])"
   ]
  },
  {
   "cell_type": "code",
   "execution_count": 288,
   "metadata": {},
   "outputs": [],
   "source": [
    "output_dir = 'model_output/BID_full'\n",
    "if not os.path.exists(output_dir):\n",
    "    os.makedirs(output_dir)\n",
    "\n",
    "modelcheckpoint = ModelCheckpoint(filepath=output_dir+\"/weights.{epoch:02d}.hdf5\")\n",
    "callbacks = [EarlyStopping(monitor = \"val_loss\", patience = 3),modelcheckpoint]"
   ]
  },
  {
   "cell_type": "code",
   "execution_count": 289,
   "metadata": {},
   "outputs": [
    {
     "name": "stdout",
     "output_type": "stream",
     "text": [
      "Epoch 1/16\n",
      "45/45 - 45s - loss: 0.5849 - accuracy: 0.8195 - val_loss: 0.3360 - val_accuracy: 0.9066\n",
      "Epoch 2/16\n",
      "45/45 - 44s - loss: 0.3206 - accuracy: 0.9147 - val_loss: 0.1677 - val_accuracy: 0.9481\n",
      "Epoch 3/16\n",
      "45/45 - 41s - loss: 0.0948 - accuracy: 0.9680 - val_loss: 0.1461 - val_accuracy: 0.9496\n",
      "Epoch 4/16\n",
      "45/45 - 40s - loss: 0.0578 - accuracy: 0.9802 - val_loss: 0.1315 - val_accuracy: 0.9586\n",
      "Epoch 5/16\n",
      "45/45 - 39s - loss: 0.0343 - accuracy: 0.9909 - val_loss: 0.1144 - val_accuracy: 0.9607\n",
      "Epoch 6/16\n",
      "45/45 - 38s - loss: 0.0369 - accuracy: 0.9916 - val_loss: 0.1022 - val_accuracy: 0.9669\n",
      "Epoch 7/16\n",
      "45/45 - 38s - loss: 0.0199 - accuracy: 0.9951 - val_loss: 0.1334 - val_accuracy: 0.9617\n",
      "Epoch 8/16\n",
      "45/45 - 39s - loss: 0.0101 - accuracy: 0.9986 - val_loss: 0.1712 - val_accuracy: 0.9617\n",
      "Epoch 9/16\n",
      "45/45 - 40s - loss: 0.0062 - accuracy: 0.9984 - val_loss: 0.1361 - val_accuracy: 0.9554\n"
     ]
    }
   ],
   "source": [
    "# Model using keras embeddings\n",
    "history = model.fit(X_train_w6, y_train,\n",
    "                    epochs=epochs,\n",
    "                    verbose=2,\n",
    "                    callbacks = callbacks,\n",
    "                    validation_data=(X_val_w6, y_val),\n",
    "                    batch_size=batch_size,\n",
    "                    class_weight = class_weights)"
   ]
  },
  {
   "cell_type": "code",
   "execution_count": 290,
   "metadata": {},
   "outputs": [
    {
     "name": "stdout",
     "output_type": "stream",
     "text": [
      "Training Accuracy: 0.9976\n",
      "Testing Accuracy:  0.9554\n"
     ]
    }
   ],
   "source": [
    "# Print training and test accuracies\n",
    "loss, accuracy = model.evaluate(X_train_w6, y_train, verbose=False)\n",
    "print(\"Training Accuracy: {:.4f}\".format(accuracy))\n",
    "loss, accuracy = model.evaluate(X_val_w6, y_val, verbose=False)\n",
    "print(\"Testing Accuracy:  {:.4f}\".format(accuracy))"
   ]
  },
  {
   "cell_type": "code",
   "execution_count": 291,
   "metadata": {},
   "outputs": [
    {
     "data": {
      "image/png": "[encoded data removed]",
      "text/plain": [
       "<Figure size 864x360 with 2 Axes>"
      ]
     },
     "metadata": {},
     "output_type": "display_data"
    }
   ],
   "source": [
    "plot_history(history)"
   ]
  },
  {
   "cell_type": "code",
   "execution_count": 292,
   "metadata": {},
   "outputs": [],
   "source": [
    "model.load_weights(output_dir+\"/weights.06.hdf5\")"
   ]
  },
  {
   "cell_type": "code",
   "execution_count": 293,
   "metadata": {},
   "outputs": [],
   "source": [
    "# Get predicted y values and predicted classes\n",
    "y_pred_prob = model.predict(X_val_w6)\n",
    "y_pred_class = y_pred_class = (model.predict(X_val_w6) > 0.5).astype(\"int32\")"
   ]
  },
  {
   "cell_type": "code",
   "execution_count": 294,
   "metadata": {},
   "outputs": [
    {
     "data": {
      "text/html": [
       "<div>\n",
       "<style scoped>\n",
       "    .dataframe tbody tr th:only-of-type {\n",
       "        vertical-align: middle;\n",
       "    }\n",
       "\n",
       "    .dataframe tbody tr th {\n",
       "        vertical-align: top;\n",
       "    }\n",
       "\n",
       "    .dataframe thead th {\n",
       "        text-align: right;\n",
       "    }\n",
       "</style>\n",
       "<table border=\"1\" class=\"dataframe\">\n",
       "  <thead>\n",
       "    <tr style=\"text-align: right;\">\n",
       "      <th></th>\n",
       "      <th>y_prob</th>\n",
       "      <th>y_pred_class</th>\n",
       "      <th>y</th>\n",
       "    </tr>\n",
       "  </thead>\n",
       "  <tbody>\n",
       "    <tr>\n",
       "      <th>0</th>\n",
       "      <td>[0.0013504326]</td>\n",
       "      <td>[0]</td>\n",
       "      <td>0</td>\n",
       "    </tr>\n",
       "    <tr>\n",
       "      <th>1</th>\n",
       "      <td>[0.0007430613]</td>\n",
       "      <td>[0]</td>\n",
       "      <td>0</td>\n",
       "    </tr>\n",
       "    <tr>\n",
       "      <th>2</th>\n",
       "      <td>[0.0005129874]</td>\n",
       "      <td>[0]</td>\n",
       "      <td>0</td>\n",
       "    </tr>\n",
       "    <tr>\n",
       "      <th>3</th>\n",
       "      <td>[0.98144037]</td>\n",
       "      <td>[1]</td>\n",
       "      <td>1</td>\n",
       "    </tr>\n",
       "    <tr>\n",
       "      <th>4</th>\n",
       "      <td>[0.99669915]</td>\n",
       "      <td>[1]</td>\n",
       "      <td>1</td>\n",
       "    </tr>\n",
       "  </tbody>\n",
       "</table>\n",
       "</div>"
      ],
      "text/plain": [
       "           y_prob y_pred_class  y\n",
       "0  [0.0013504326]          [0]  0\n",
       "1  [0.0007430613]          [0]  0\n",
       "2  [0.0005129874]          [0]  0\n",
       "3    [0.98144037]          [1]  1\n",
       "4    [0.99669915]          [1]  1"
      ]
     },
     "execution_count": 294,
     "metadata": {},
     "output_type": "execute_result"
    }
   ],
   "source": [
    "# Create dataframe with y pred probabilities, classes and y actual\n",
    "ydf = pd.DataFrame(list(zip(y_pred_prob, y_pred_class,y_val,)), columns=['y_prob','y_pred_class', 'y'])\n",
    "ydf.head()"
   ]
  },
  {
   "cell_type": "code",
   "execution_count": 295,
   "metadata": {},
   "outputs": [
    {
     "data": {
      "image/png": "[encoded data removed]",
      "text/plain": [
       "<Figure size 432x288 with 1 Axes>"
      ]
     },
     "metadata": {},
     "output_type": "display_data"
    }
   ],
   "source": [
    "plt.hist(y_pred_prob)\n",
    "_ = plt.axvline(x=0.5, color='blue')"
   ]
  },
  {
   "cell_type": "code",
   "execution_count": 296,
   "metadata": {},
   "outputs": [
    {
     "name": "stdout",
     "output_type": "stream",
     "text": [
      "              precision    recall  f1-score   support\n",
      "\n",
      "           0       0.98      0.98      0.98      1646\n",
      "           1       0.88      0.87      0.88       260\n",
      "\n",
      "    accuracy                           0.97      1906\n",
      "   macro avg       0.93      0.93      0.93      1906\n",
      "weighted avg       0.97      0.97      0.97      1906\n",
      "\n"
     ]
    },
    {
     "data": {
      "image/png": "[encoded data removed]",
      "text/plain": [
       "<Figure size 432x288 with 2 Axes>"
      ]
     },
     "metadata": {},
     "output_type": "display_data"
    }
   ],
   "source": [
    "class_conf(y_val,y_pred_class)"
   ]
  },
  {
   "cell_type": "code",
   "execution_count": 297,
   "metadata": {},
   "outputs": [
    {
     "data": {
      "text/html": [
       "<div>\n",
       "<style scoped>\n",
       "    .dataframe tbody tr th:only-of-type {\n",
       "        vertical-align: middle;\n",
       "    }\n",
       "\n",
       "    .dataframe tbody tr th {\n",
       "        vertical-align: top;\n",
       "    }\n",
       "\n",
       "    .dataframe thead th {\n",
       "        text-align: right;\n",
       "    }\n",
       "</style>\n",
       "<table border=\"1\" class=\"dataframe\">\n",
       "  <thead>\n",
       "    <tr style=\"text-align: right;\">\n",
       "      <th></th>\n",
       "      <th>Accuracy</th>\n",
       "      <th>Precision</th>\n",
       "      <th>Recall</th>\n",
       "      <th>F1</th>\n",
       "      <th>ROCAUC</th>\n",
       "    </tr>\n",
       "  </thead>\n",
       "  <tbody>\n",
       "    <tr>\n",
       "      <th>0</th>\n",
       "      <td>0.966946</td>\n",
       "      <td>0.883268</td>\n",
       "      <td>0.873077</td>\n",
       "      <td>0.878143</td>\n",
       "      <td>0.927425</td>\n",
       "    </tr>\n",
       "  </tbody>\n",
       "</table>\n",
       "</div>"
      ],
      "text/plain": [
       "   Accuracy  Precision    Recall        F1    ROCAUC\n",
       "0  0.966946   0.883268  0.873077  0.878143  0.927425"
      ]
     },
     "execution_count": 297,
     "metadata": {},
     "output_type": "execute_result"
    }
   ],
   "source": [
    "bid = metric_results(y_val,y_pred_class)\n",
    "bid"
   ]
  },
  {
   "cell_type": "code",
   "execution_count": 298,
   "metadata": {},
   "outputs": [],
   "source": [
    "model.save(\"bidfull.h5\")"
   ]
  },
  {
   "cell_type": "markdown",
   "metadata": {},
   "source": [
    "# Section 13: Stacked LSTM"
   ]
  },
  {
   "cell_type": "code",
   "execution_count": 299,
   "metadata": {},
   "outputs": [],
   "source": [
    "input_dim = 10000\n",
    "output_dim = 64\n",
    "maxlen = 100\n",
    "n_dim = 64\n",
    "\n",
    "# Embedding\n",
    "pad_type = 'post'\n",
    "truncating = 'post'\n",
    "drop_embed = 0.2\n",
    "\n",
    "# LSTM layers:\n",
    "n_lstm_1 = 64\n",
    "n_lstm_2 = 64 \n",
    "drop_lstm = 0.2\n",
    "\n",
    "# Dense layer: \n",
    "#n_dense = 256\n",
    "#dropout = 0.5\n",
    "\n",
    "# Training parameters:\n",
    "epochs = 16\n",
    "batch_size = 128"
   ]
  },
  {
   "cell_type": "code",
   "execution_count": 300,
   "metadata": {},
   "outputs": [],
   "source": [
    "# Create sequences \n",
    "X_train_w7 = pad_sequences(np.array(X_train_s,dtype = \"object\"), padding=pad_type, truncating = truncating,maxlen = maxlen)\n",
    "X_val_w7 = pad_sequences(np.array(X_val_s,dtype = \"object\"), padding=pad_type, truncating = truncating, maxlen=maxlen)"
   ]
  },
  {
   "cell_type": "code",
   "execution_count": 301,
   "metadata": {},
   "outputs": [],
   "source": [
    "model = Sequential()\n",
    "\n",
    "model.add(Embedding(input_dim = input_dim, output_dim = output_dim, input_length=maxlen))\n",
    "model.add(SpatialDropout1D(drop_embed))\n",
    "\n",
    "model.add(Bidirectional(LSTM(n_lstm_1, dropout=drop_lstm, return_sequences=True))) # retain temporal dimension\n",
    "model.add(Bidirectional(LSTM(n_lstm_2, dropout=drop_lstm)))\n",
    "\n",
    "model.add(Dense(1, activation='sigmoid'))"
   ]
  },
  {
   "cell_type": "code",
   "execution_count": 302,
   "metadata": {},
   "outputs": [
    {
     "name": "stdout",
     "output_type": "stream",
     "text": [
      "Model: \"sequential_13\"\n",
      "_________________________________________________________________\n",
      "Layer (type)                 Output Shape              Param #   \n",
      "=================================================================\n",
      "embedding_13 (Embedding)     (None, 100, 64)           640000    \n",
      "_________________________________________________________________\n",
      "spatial_dropout1d_7 (Spatial (None, 100, 64)           0         \n",
      "_________________________________________________________________\n",
      "bidirectional_1 (Bidirection (None, 100, 128)          66048     \n",
      "_________________________________________________________________\n",
      "bidirectional_2 (Bidirection (None, 128)               98816     \n",
      "_________________________________________________________________\n",
      "dense_20 (Dense)             (None, 1)                 129       \n",
      "=================================================================\n",
      "Total params: 804,993\n",
      "Trainable params: 804,993\n",
      "Non-trainable params: 0\n",
      "_________________________________________________________________\n"
     ]
    }
   ],
   "source": [
    "model.summary()"
   ]
  },
  {
   "cell_type": "code",
   "execution_count": 303,
   "metadata": {},
   "outputs": [],
   "source": [
    "model.compile(loss='binary_crossentropy', optimizer='adam', metrics=['accuracy'])"
   ]
  },
  {
   "cell_type": "code",
   "execution_count": 304,
   "metadata": {},
   "outputs": [],
   "source": [
    "output_dir = 'model_output/SLSTM_full'\n",
    "if not os.path.exists(output_dir):\n",
    "    os.makedirs(output_dir)\n",
    "\n",
    "modelcheckpoint = ModelCheckpoint(filepath=output_dir+\"/weights.{epoch:02d}.hdf5\")\n",
    "callbacks = [EarlyStopping(monitor = \"val_loss\", patience = 3),modelcheckpoint]"
   ]
  },
  {
   "cell_type": "code",
   "execution_count": 305,
   "metadata": {},
   "outputs": [
    {
     "name": "stdout",
     "output_type": "stream",
     "text": [
      "Epoch 1/16\n",
      "45/45 - 36s - loss: 0.5229 - accuracy: 0.8538 - val_loss: 0.1854 - val_accuracy: 0.9444\n",
      "Epoch 2/16\n",
      "45/45 - 42s - loss: 0.1500 - accuracy: 0.9636 - val_loss: 0.1385 - val_accuracy: 0.9523\n",
      "Epoch 3/16\n",
      "45/45 - 42s - loss: 0.0684 - accuracy: 0.9832 - val_loss: 0.1286 - val_accuracy: 0.9580\n",
      "Epoch 4/16\n",
      "45/45 - 43s - loss: 0.0434 - accuracy: 0.9907 - val_loss: 0.1176 - val_accuracy: 0.9565\n",
      "Epoch 5/16\n",
      "45/45 - 42s - loss: 0.0300 - accuracy: 0.9927 - val_loss: 0.2819 - val_accuracy: 0.9412\n",
      "Epoch 6/16\n",
      "45/45 - 43s - loss: 0.0185 - accuracy: 0.9944 - val_loss: 0.1530 - val_accuracy: 0.9675\n",
      "Epoch 7/16\n",
      "45/45 - 42s - loss: 0.0237 - accuracy: 0.9932 - val_loss: 0.2097 - val_accuracy: 0.9470\n"
     ]
    }
   ],
   "source": [
    "# Model using keras embeddings\n",
    "history = model.fit(X_train_w7, y_train,\n",
    "                    epochs=epochs,\n",
    "                    verbose=2,\n",
    "                    callbacks = callbacks,\n",
    "                    validation_data=(X_val_w7, y_val),\n",
    "                    batch_size=batch_size,\n",
    "                    class_weight = class_weights)"
   ]
  },
  {
   "cell_type": "code",
   "execution_count": 306,
   "metadata": {},
   "outputs": [
    {
     "name": "stdout",
     "output_type": "stream",
     "text": [
      "Training Accuracy: 0.9918\n",
      "Testing Accuracy:  0.9470\n"
     ]
    }
   ],
   "source": [
    "# Print training and test accuracies\n",
    "loss, accuracy = model.evaluate(X_train_w7, y_train, verbose=False)\n",
    "print(\"Training Accuracy: {:.4f}\".format(accuracy))\n",
    "loss, accuracy = model.evaluate(X_val_w7, y_val, verbose=False)\n",
    "print(\"Testing Accuracy:  {:.4f}\".format(accuracy))"
   ]
  },
  {
   "cell_type": "code",
   "execution_count": 307,
   "metadata": {},
   "outputs": [
    {
     "data": {
      "image/png": "[encoded data removed]",
      "text/plain": [
       "<Figure size 864x360 with 2 Axes>"
      ]
     },
     "metadata": {},
     "output_type": "display_data"
    }
   ],
   "source": [
    "plot_history(history)"
   ]
  },
  {
   "cell_type": "code",
   "execution_count": 315,
   "metadata": {},
   "outputs": [],
   "source": [
    "model.load_weights(output_dir+\"/weights.06.hdf5\") "
   ]
  },
  {
   "cell_type": "code",
   "execution_count": 316,
   "metadata": {},
   "outputs": [],
   "source": [
    "# Get predicted y values and predicted classes\n",
    "y_pred_prob = model.predict(X_val_w7)\n",
    "y_pred_class = y_pred_class = (model.predict(X_val_w7) > 0.5).astype(\"int32\")"
   ]
  },
  {
   "cell_type": "code",
   "execution_count": 317,
   "metadata": {},
   "outputs": [
    {
     "data": {
      "text/html": [
       "<div>\n",
       "<style scoped>\n",
       "    .dataframe tbody tr th:only-of-type {\n",
       "        vertical-align: middle;\n",
       "    }\n",
       "\n",
       "    .dataframe tbody tr th {\n",
       "        vertical-align: top;\n",
       "    }\n",
       "\n",
       "    .dataframe thead th {\n",
       "        text-align: right;\n",
       "    }\n",
       "</style>\n",
       "<table border=\"1\" class=\"dataframe\">\n",
       "  <thead>\n",
       "    <tr style=\"text-align: right;\">\n",
       "      <th></th>\n",
       "      <th>y_prob</th>\n",
       "      <th>y_pred_class</th>\n",
       "      <th>y</th>\n",
       "    </tr>\n",
       "  </thead>\n",
       "  <tbody>\n",
       "    <tr>\n",
       "      <th>0</th>\n",
       "      <td>[0.0014462471]</td>\n",
       "      <td>[0]</td>\n",
       "      <td>0</td>\n",
       "    </tr>\n",
       "    <tr>\n",
       "      <th>1</th>\n",
       "      <td>[0.0014331043]</td>\n",
       "      <td>[0]</td>\n",
       "      <td>0</td>\n",
       "    </tr>\n",
       "    <tr>\n",
       "      <th>2</th>\n",
       "      <td>[0.0014646053]</td>\n",
       "      <td>[0]</td>\n",
       "      <td>0</td>\n",
       "    </tr>\n",
       "    <tr>\n",
       "      <th>3</th>\n",
       "      <td>[0.77871835]</td>\n",
       "      <td>[1]</td>\n",
       "      <td>1</td>\n",
       "    </tr>\n",
       "    <tr>\n",
       "      <th>4</th>\n",
       "      <td>[0.9991692]</td>\n",
       "      <td>[1]</td>\n",
       "      <td>1</td>\n",
       "    </tr>\n",
       "  </tbody>\n",
       "</table>\n",
       "</div>"
      ],
      "text/plain": [
       "           y_prob y_pred_class  y\n",
       "0  [0.0014462471]          [0]  0\n",
       "1  [0.0014331043]          [0]  0\n",
       "2  [0.0014646053]          [0]  0\n",
       "3    [0.77871835]          [1]  1\n",
       "4     [0.9991692]          [1]  1"
      ]
     },
     "execution_count": 317,
     "metadata": {},
     "output_type": "execute_result"
    }
   ],
   "source": [
    "# Create dataframe with y pred probabilities, classes and y actual\n",
    "ydf = pd.DataFrame(list(zip(y_pred_prob, y_pred_class,y_val,)), columns=['y_prob','y_pred_class', 'y'])\n",
    "ydf.head()"
   ]
  },
  {
   "cell_type": "code",
   "execution_count": 318,
   "metadata": {},
   "outputs": [
    {
     "data": {
      "image/png": "[encoded data removed]",
      "text/plain": [
       "<Figure size 432x288 with 1 Axes>"
      ]
     },
     "metadata": {},
     "output_type": "display_data"
    }
   ],
   "source": [
    "plt.hist(y_pred_prob)\n",
    "_ = plt.axvline(x=0.5, color='blue')"
   ]
  },
  {
   "cell_type": "code",
   "execution_count": 319,
   "metadata": {},
   "outputs": [
    {
     "name": "stdout",
     "output_type": "stream",
     "text": [
      "              precision    recall  f1-score   support\n",
      "\n",
      "           0       0.98      0.98      0.98      1646\n",
      "           1       0.88      0.88      0.88       260\n",
      "\n",
      "    accuracy                           0.97      1906\n",
      "   macro avg       0.93      0.93      0.93      1906\n",
      "weighted avg       0.97      0.97      0.97      1906\n",
      "\n"
     ]
    },
    {
     "data": {
      "image/png": "[encoded data removed]",
      "text/plain": [
       "<Figure size 432x288 with 2 Axes>"
      ]
     },
     "metadata": {},
     "output_type": "display_data"
    }
   ],
   "source": [
    "class_conf(y_val,y_pred_class)"
   ]
  },
  {
   "cell_type": "code",
   "execution_count": 320,
   "metadata": {},
   "outputs": [
    {
     "data": {
      "text/html": [
       "<div>\n",
       "<style scoped>\n",
       "    .dataframe tbody tr th:only-of-type {\n",
       "        vertical-align: middle;\n",
       "    }\n",
       "\n",
       "    .dataframe tbody tr th {\n",
       "        vertical-align: top;\n",
       "    }\n",
       "\n",
       "    .dataframe thead th {\n",
       "        text-align: right;\n",
       "    }\n",
       "</style>\n",
       "<table border=\"1\" class=\"dataframe\">\n",
       "  <thead>\n",
       "    <tr style=\"text-align: right;\">\n",
       "      <th></th>\n",
       "      <th>Accuracy</th>\n",
       "      <th>Precision</th>\n",
       "      <th>Recall</th>\n",
       "      <th>F1</th>\n",
       "      <th>ROCAUC</th>\n",
       "    </tr>\n",
       "  </thead>\n",
       "  <tbody>\n",
       "    <tr>\n",
       "      <th>0</th>\n",
       "      <td>0.967471</td>\n",
       "      <td>0.883721</td>\n",
       "      <td>0.876923</td>\n",
       "      <td>0.880309</td>\n",
       "      <td>0.929349</td>\n",
       "    </tr>\n",
       "  </tbody>\n",
       "</table>\n",
       "</div>"
      ],
      "text/plain": [
       "   Accuracy  Precision    Recall        F1    ROCAUC\n",
       "0  0.967471   0.883721  0.876923  0.880309  0.929349"
      ]
     },
     "execution_count": 320,
     "metadata": {},
     "output_type": "execute_result"
    }
   ],
   "source": [
    "stack = metric_results(y_val,y_pred_class)\n",
    "stack"
   ]
  },
  {
   "cell_type": "code",
   "execution_count": 321,
   "metadata": {},
   "outputs": [],
   "source": [
    "model.save(\"stackfull.h5\")"
   ]
  },
  {
   "cell_type": "markdown",
   "metadata": {},
   "source": [
    "# Section 14: Summary of Validation Set Metrics"
   ]
  },
  {
   "cell_type": "code",
   "execution_count": 327,
   "metadata": {},
   "outputs": [
    {
     "data": {
      "text/html": [
       "<div>\n",
       "<style scoped>\n",
       "    .dataframe tbody tr th:only-of-type {\n",
       "        vertical-align: middle;\n",
       "    }\n",
       "\n",
       "    .dataframe tbody tr th {\n",
       "        vertical-align: top;\n",
       "    }\n",
       "\n",
       "    .dataframe thead th {\n",
       "        text-align: right;\n",
       "    }\n",
       "</style>\n",
       "<table border=\"1\" class=\"dataframe\">\n",
       "  <thead>\n",
       "    <tr style=\"text-align: right;\">\n",
       "      <th></th>\n",
       "      <th>Accuracy</th>\n",
       "      <th>Precision</th>\n",
       "      <th>Recall</th>\n",
       "      <th>F1</th>\n",
       "      <th>ROCAUC</th>\n",
       "    </tr>\n",
       "  </thead>\n",
       "  <tbody>\n",
       "    <tr>\n",
       "      <th>Simple MLP</th>\n",
       "      <td>0.967471</td>\n",
       "      <td>0.848592</td>\n",
       "      <td>0.926923</td>\n",
       "      <td>0.886029</td>\n",
       "      <td>0.950400</td>\n",
       "    </tr>\n",
       "    <tr>\n",
       "      <th>Stacked Bi-LSTM</th>\n",
       "      <td>0.967471</td>\n",
       "      <td>0.883721</td>\n",
       "      <td>0.876923</td>\n",
       "      <td>0.880309</td>\n",
       "      <td>0.929349</td>\n",
       "    </tr>\n",
       "    <tr>\n",
       "      <th>Shallow_dropout</th>\n",
       "      <td>0.966946</td>\n",
       "      <td>0.886275</td>\n",
       "      <td>0.869231</td>\n",
       "      <td>0.877670</td>\n",
       "      <td>0.925806</td>\n",
       "    </tr>\n",
       "    <tr>\n",
       "      <th>Bi-LSTM</th>\n",
       "      <td>0.966946</td>\n",
       "      <td>0.883268</td>\n",
       "      <td>0.873077</td>\n",
       "      <td>0.878143</td>\n",
       "      <td>0.927425</td>\n",
       "    </tr>\n",
       "    <tr>\n",
       "      <th>Shallow NN</th>\n",
       "      <td>0.964848</td>\n",
       "      <td>0.840989</td>\n",
       "      <td>0.915385</td>\n",
       "      <td>0.876611</td>\n",
       "      <td>0.944023</td>\n",
       "    </tr>\n",
       "    <tr>\n",
       "      <th>Deep_dropout</th>\n",
       "      <td>0.962225</td>\n",
       "      <td>0.861538</td>\n",
       "      <td>0.861538</td>\n",
       "      <td>0.861538</td>\n",
       "      <td>0.919834</td>\n",
       "    </tr>\n",
       "    <tr>\n",
       "      <th>Conv</th>\n",
       "      <td>0.960126</td>\n",
       "      <td>0.835766</td>\n",
       "      <td>0.880769</td>\n",
       "      <td>0.857678</td>\n",
       "      <td>0.926715</td>\n",
       "    </tr>\n",
       "    <tr>\n",
       "      <th>GRU</th>\n",
       "      <td>0.932844</td>\n",
       "      <td>0.726027</td>\n",
       "      <td>0.815385</td>\n",
       "      <td>0.768116</td>\n",
       "      <td>0.883391</td>\n",
       "    </tr>\n",
       "    <tr>\n",
       "      <th>LSTM</th>\n",
       "      <td>0.926023</td>\n",
       "      <td>0.878981</td>\n",
       "      <td>0.530769</td>\n",
       "      <td>0.661871</td>\n",
       "      <td>0.759613</td>\n",
       "    </tr>\n",
       "    <tr>\n",
       "      <th>RNN</th>\n",
       "      <td>0.843127</td>\n",
       "      <td>0.355556</td>\n",
       "      <td>0.184615</td>\n",
       "      <td>0.243038</td>\n",
       "      <td>0.565880</td>\n",
       "    </tr>\n",
       "  </tbody>\n",
       "</table>\n",
       "</div>"
      ],
      "text/plain": [
       "                 Accuracy  Precision    Recall        F1    ROCAUC\n",
       "Simple MLP       0.967471   0.848592  0.926923  0.886029  0.950400\n",
       "Stacked Bi-LSTM  0.967471   0.883721  0.876923  0.880309  0.929349\n",
       "Shallow_dropout  0.966946   0.886275  0.869231  0.877670  0.925806\n",
       "Bi-LSTM          0.966946   0.883268  0.873077  0.878143  0.927425\n",
       "Shallow NN       0.964848   0.840989  0.915385  0.876611  0.944023\n",
       "Deep_dropout     0.962225   0.861538  0.861538  0.861538  0.919834\n",
       "Conv             0.960126   0.835766  0.880769  0.857678  0.926715\n",
       "GRU              0.932844   0.726027  0.815385  0.768116  0.883391\n",
       "LSTM             0.926023   0.878981  0.530769  0.661871  0.759613\n",
       "RNN              0.843127   0.355556  0.184615  0.243038  0.565880"
      ]
     },
     "execution_count": 327,
     "metadata": {},
     "output_type": "execute_result"
    }
   ],
   "source": [
    "models = [\"Simple MLP\",\"Shallow NN\",\"Shallow_dropout\",\"Deep_dropout\", \"Conv\",\"RNN\",\"LSTM\",\"GRU\",\"Bi-LSTM\",\"Stacked Bi-LSTM\"]\n",
    "summary_neural2 = pd.concat([simple_model,shallow,dense_1,dense_2,conv,rnn,lstm,gru,bid,stack])\n",
    "summary_neural2.set_index([models],inplace = True)\n",
    "summary_neural2.to_csv(\"summary_nets_fulldata.csv\")\n",
    "summary_neural2.sort_values(by = \"Accuracy\",ascending = False)"
   ]
  },
  {
   "cell_type": "code",
   "execution_count": 323,
   "metadata": {},
   "outputs": [
    {
     "data": {
      "text/html": [
       "<div>\n",
       "<style scoped>\n",
       "    .dataframe tbody tr th:only-of-type {\n",
       "        vertical-align: middle;\n",
       "    }\n",
       "\n",
       "    .dataframe tbody tr th {\n",
       "        vertical-align: top;\n",
       "    }\n",
       "\n",
       "    .dataframe thead th {\n",
       "        text-align: right;\n",
       "    }\n",
       "</style>\n",
       "<table border=\"1\" class=\"dataframe\">\n",
       "  <thead>\n",
       "    <tr style=\"text-align: right;\">\n",
       "      <th></th>\n",
       "      <th>Accuracy</th>\n",
       "      <th>Precision</th>\n",
       "      <th>Recall</th>\n",
       "      <th>F1</th>\n",
       "      <th>ROCAUC</th>\n",
       "    </tr>\n",
       "  </thead>\n",
       "  <tbody>\n",
       "    <tr>\n",
       "      <th>Simple MLP</th>\n",
       "      <td>0.967471</td>\n",
       "      <td>0.848592</td>\n",
       "      <td>0.926923</td>\n",
       "      <td>0.886029</td>\n",
       "      <td>0.950400</td>\n",
       "    </tr>\n",
       "    <tr>\n",
       "      <th>Shallow NN</th>\n",
       "      <td>0.964848</td>\n",
       "      <td>0.840989</td>\n",
       "      <td>0.915385</td>\n",
       "      <td>0.876611</td>\n",
       "      <td>0.944023</td>\n",
       "    </tr>\n",
       "    <tr>\n",
       "      <th>Stacked Bi-LSTM</th>\n",
       "      <td>0.967471</td>\n",
       "      <td>0.883721</td>\n",
       "      <td>0.876923</td>\n",
       "      <td>0.880309</td>\n",
       "      <td>0.929349</td>\n",
       "    </tr>\n",
       "    <tr>\n",
       "      <th>Bi-LSTM</th>\n",
       "      <td>0.966946</td>\n",
       "      <td>0.883268</td>\n",
       "      <td>0.873077</td>\n",
       "      <td>0.878143</td>\n",
       "      <td>0.927425</td>\n",
       "    </tr>\n",
       "    <tr>\n",
       "      <th>Conv</th>\n",
       "      <td>0.960126</td>\n",
       "      <td>0.835766</td>\n",
       "      <td>0.880769</td>\n",
       "      <td>0.857678</td>\n",
       "      <td>0.926715</td>\n",
       "    </tr>\n",
       "    <tr>\n",
       "      <th>Shallow_dropout</th>\n",
       "      <td>0.966946</td>\n",
       "      <td>0.886275</td>\n",
       "      <td>0.869231</td>\n",
       "      <td>0.877670</td>\n",
       "      <td>0.925806</td>\n",
       "    </tr>\n",
       "    <tr>\n",
       "      <th>Deep_dropout</th>\n",
       "      <td>0.962225</td>\n",
       "      <td>0.861538</td>\n",
       "      <td>0.861538</td>\n",
       "      <td>0.861538</td>\n",
       "      <td>0.919834</td>\n",
       "    </tr>\n",
       "    <tr>\n",
       "      <th>GRU</th>\n",
       "      <td>0.932844</td>\n",
       "      <td>0.726027</td>\n",
       "      <td>0.815385</td>\n",
       "      <td>0.768116</td>\n",
       "      <td>0.883391</td>\n",
       "    </tr>\n",
       "    <tr>\n",
       "      <th>LSTM</th>\n",
       "      <td>0.926023</td>\n",
       "      <td>0.878981</td>\n",
       "      <td>0.530769</td>\n",
       "      <td>0.661871</td>\n",
       "      <td>0.759613</td>\n",
       "    </tr>\n",
       "    <tr>\n",
       "      <th>RNN</th>\n",
       "      <td>0.843127</td>\n",
       "      <td>0.355556</td>\n",
       "      <td>0.184615</td>\n",
       "      <td>0.243038</td>\n",
       "      <td>0.565880</td>\n",
       "    </tr>\n",
       "  </tbody>\n",
       "</table>\n",
       "</div>"
      ],
      "text/plain": [
       "                 Accuracy  Precision    Recall        F1    ROCAUC\n",
       "Simple MLP       0.967471   0.848592  0.926923  0.886029  0.950400\n",
       "Shallow NN       0.964848   0.840989  0.915385  0.876611  0.944023\n",
       "Stacked Bi-LSTM  0.967471   0.883721  0.876923  0.880309  0.929349\n",
       "Bi-LSTM          0.966946   0.883268  0.873077  0.878143  0.927425\n",
       "Conv             0.960126   0.835766  0.880769  0.857678  0.926715\n",
       "Shallow_dropout  0.966946   0.886275  0.869231  0.877670  0.925806\n",
       "Deep_dropout     0.962225   0.861538  0.861538  0.861538  0.919834\n",
       "GRU              0.932844   0.726027  0.815385  0.768116  0.883391\n",
       "LSTM             0.926023   0.878981  0.530769  0.661871  0.759613\n",
       "RNN              0.843127   0.355556  0.184615  0.243038  0.565880"
      ]
     },
     "execution_count": 323,
     "metadata": {},
     "output_type": "execute_result"
    }
   ],
   "source": [
    "# Sort by AUROC score\n",
    "summary_neural2.sort_values(by = \"ROCAUC\",ascending = False)"
   ]
  },
  {
   "cell_type": "code",
   "execution_count": 325,
   "metadata": {},
   "outputs": [
    {
     "data": {
      "text/html": [
       "<div>\n",
       "<style scoped>\n",
       "    .dataframe tbody tr th:only-of-type {\n",
       "        vertical-align: middle;\n",
       "    }\n",
       "\n",
       "    .dataframe tbody tr th {\n",
       "        vertical-align: top;\n",
       "    }\n",
       "\n",
       "    .dataframe thead th {\n",
       "        text-align: right;\n",
       "    }\n",
       "</style>\n",
       "<table border=\"1\" class=\"dataframe\">\n",
       "  <thead>\n",
       "    <tr style=\"text-align: right;\">\n",
       "      <th></th>\n",
       "      <th>Accuracy</th>\n",
       "      <th>Precision</th>\n",
       "      <th>Recall</th>\n",
       "      <th>F1</th>\n",
       "      <th>ROCAUC</th>\n",
       "    </tr>\n",
       "  </thead>\n",
       "  <tbody>\n",
       "    <tr>\n",
       "      <th>Simple MLP</th>\n",
       "      <td>0.967471</td>\n",
       "      <td>0.848592</td>\n",
       "      <td>0.926923</td>\n",
       "      <td>0.886029</td>\n",
       "      <td>0.950400</td>\n",
       "    </tr>\n",
       "    <tr>\n",
       "      <th>Stacked Bi-LSTM</th>\n",
       "      <td>0.967471</td>\n",
       "      <td>0.883721</td>\n",
       "      <td>0.876923</td>\n",
       "      <td>0.880309</td>\n",
       "      <td>0.929349</td>\n",
       "    </tr>\n",
       "    <tr>\n",
       "      <th>Bi-LSTM</th>\n",
       "      <td>0.966946</td>\n",
       "      <td>0.883268</td>\n",
       "      <td>0.873077</td>\n",
       "      <td>0.878143</td>\n",
       "      <td>0.927425</td>\n",
       "    </tr>\n",
       "    <tr>\n",
       "      <th>Shallow_dropout</th>\n",
       "      <td>0.966946</td>\n",
       "      <td>0.886275</td>\n",
       "      <td>0.869231</td>\n",
       "      <td>0.877670</td>\n",
       "      <td>0.925806</td>\n",
       "    </tr>\n",
       "    <tr>\n",
       "      <th>Shallow NN</th>\n",
       "      <td>0.964848</td>\n",
       "      <td>0.840989</td>\n",
       "      <td>0.915385</td>\n",
       "      <td>0.876611</td>\n",
       "      <td>0.944023</td>\n",
       "    </tr>\n",
       "    <tr>\n",
       "      <th>Deep_dropout</th>\n",
       "      <td>0.962225</td>\n",
       "      <td>0.861538</td>\n",
       "      <td>0.861538</td>\n",
       "      <td>0.861538</td>\n",
       "      <td>0.919834</td>\n",
       "    </tr>\n",
       "    <tr>\n",
       "      <th>Conv</th>\n",
       "      <td>0.960126</td>\n",
       "      <td>0.835766</td>\n",
       "      <td>0.880769</td>\n",
       "      <td>0.857678</td>\n",
       "      <td>0.926715</td>\n",
       "    </tr>\n",
       "    <tr>\n",
       "      <th>GRU</th>\n",
       "      <td>0.932844</td>\n",
       "      <td>0.726027</td>\n",
       "      <td>0.815385</td>\n",
       "      <td>0.768116</td>\n",
       "      <td>0.883391</td>\n",
       "    </tr>\n",
       "    <tr>\n",
       "      <th>LSTM</th>\n",
       "      <td>0.926023</td>\n",
       "      <td>0.878981</td>\n",
       "      <td>0.530769</td>\n",
       "      <td>0.661871</td>\n",
       "      <td>0.759613</td>\n",
       "    </tr>\n",
       "    <tr>\n",
       "      <th>RNN</th>\n",
       "      <td>0.843127</td>\n",
       "      <td>0.355556</td>\n",
       "      <td>0.184615</td>\n",
       "      <td>0.243038</td>\n",
       "      <td>0.565880</td>\n",
       "    </tr>\n",
       "  </tbody>\n",
       "</table>\n",
       "</div>"
      ],
      "text/plain": [
       "                 Accuracy  Precision    Recall        F1    ROCAUC\n",
       "Simple MLP       0.967471   0.848592  0.926923  0.886029  0.950400\n",
       "Stacked Bi-LSTM  0.967471   0.883721  0.876923  0.880309  0.929349\n",
       "Bi-LSTM          0.966946   0.883268  0.873077  0.878143  0.927425\n",
       "Shallow_dropout  0.966946   0.886275  0.869231  0.877670  0.925806\n",
       "Shallow NN       0.964848   0.840989  0.915385  0.876611  0.944023\n",
       "Deep_dropout     0.962225   0.861538  0.861538  0.861538  0.919834\n",
       "Conv             0.960126   0.835766  0.880769  0.857678  0.926715\n",
       "GRU              0.932844   0.726027  0.815385  0.768116  0.883391\n",
       "LSTM             0.926023   0.878981  0.530769  0.661871  0.759613\n",
       "RNN              0.843127   0.355556  0.184615  0.243038  0.565880"
      ]
     },
     "execution_count": 325,
     "metadata": {},
     "output_type": "execute_result"
    }
   ],
   "source": [
    "# Sort by F1 score (precision/recall)\n",
    "summary_neural2.sort_values(by = \"F1\",ascending = False)"
   ]
  },
  {
   "cell_type": "code",
   "execution_count": 328,
   "metadata": {},
   "outputs": [
    {
     "data": {
      "text/html": [
       "<div>\n",
       "<style scoped>\n",
       "    .dataframe tbody tr th:only-of-type {\n",
       "        vertical-align: middle;\n",
       "    }\n",
       "\n",
       "    .dataframe tbody tr th {\n",
       "        vertical-align: top;\n",
       "    }\n",
       "\n",
       "    .dataframe thead th {\n",
       "        text-align: right;\n",
       "    }\n",
       "</style>\n",
       "<table border=\"1\" class=\"dataframe\">\n",
       "  <thead>\n",
       "    <tr style=\"text-align: right;\">\n",
       "      <th></th>\n",
       "      <th>Accuracy</th>\n",
       "      <th>Precision</th>\n",
       "      <th>Recall</th>\n",
       "      <th>F1</th>\n",
       "      <th>ROCAUC</th>\n",
       "    </tr>\n",
       "  </thead>\n",
       "  <tbody>\n",
       "    <tr>\n",
       "      <th>Simple MLP</th>\n",
       "      <td>0.967471</td>\n",
       "      <td>0.848592</td>\n",
       "      <td>0.926923</td>\n",
       "      <td>0.886029</td>\n",
       "      <td>0.950400</td>\n",
       "    </tr>\n",
       "    <tr>\n",
       "      <th>Shallow NN</th>\n",
       "      <td>0.964848</td>\n",
       "      <td>0.840989</td>\n",
       "      <td>0.915385</td>\n",
       "      <td>0.876611</td>\n",
       "      <td>0.944023</td>\n",
       "    </tr>\n",
       "    <tr>\n",
       "      <th>Conv</th>\n",
       "      <td>0.960126</td>\n",
       "      <td>0.835766</td>\n",
       "      <td>0.880769</td>\n",
       "      <td>0.857678</td>\n",
       "      <td>0.926715</td>\n",
       "    </tr>\n",
       "    <tr>\n",
       "      <th>Stacked Bi-LSTM</th>\n",
       "      <td>0.967471</td>\n",
       "      <td>0.883721</td>\n",
       "      <td>0.876923</td>\n",
       "      <td>0.880309</td>\n",
       "      <td>0.929349</td>\n",
       "    </tr>\n",
       "    <tr>\n",
       "      <th>Bi-LSTM</th>\n",
       "      <td>0.966946</td>\n",
       "      <td>0.883268</td>\n",
       "      <td>0.873077</td>\n",
       "      <td>0.878143</td>\n",
       "      <td>0.927425</td>\n",
       "    </tr>\n",
       "    <tr>\n",
       "      <th>Shallow_dropout</th>\n",
       "      <td>0.966946</td>\n",
       "      <td>0.886275</td>\n",
       "      <td>0.869231</td>\n",
       "      <td>0.877670</td>\n",
       "      <td>0.925806</td>\n",
       "    </tr>\n",
       "    <tr>\n",
       "      <th>Deep_dropout</th>\n",
       "      <td>0.962225</td>\n",
       "      <td>0.861538</td>\n",
       "      <td>0.861538</td>\n",
       "      <td>0.861538</td>\n",
       "      <td>0.919834</td>\n",
       "    </tr>\n",
       "    <tr>\n",
       "      <th>GRU</th>\n",
       "      <td>0.932844</td>\n",
       "      <td>0.726027</td>\n",
       "      <td>0.815385</td>\n",
       "      <td>0.768116</td>\n",
       "      <td>0.883391</td>\n",
       "    </tr>\n",
       "    <tr>\n",
       "      <th>LSTM</th>\n",
       "      <td>0.926023</td>\n",
       "      <td>0.878981</td>\n",
       "      <td>0.530769</td>\n",
       "      <td>0.661871</td>\n",
       "      <td>0.759613</td>\n",
       "    </tr>\n",
       "    <tr>\n",
       "      <th>RNN</th>\n",
       "      <td>0.843127</td>\n",
       "      <td>0.355556</td>\n",
       "      <td>0.184615</td>\n",
       "      <td>0.243038</td>\n",
       "      <td>0.565880</td>\n",
       "    </tr>\n",
       "  </tbody>\n",
       "</table>\n",
       "</div>"
      ],
      "text/plain": [
       "                 Accuracy  Precision    Recall        F1    ROCAUC\n",
       "Simple MLP       0.967471   0.848592  0.926923  0.886029  0.950400\n",
       "Shallow NN       0.964848   0.840989  0.915385  0.876611  0.944023\n",
       "Conv             0.960126   0.835766  0.880769  0.857678  0.926715\n",
       "Stacked Bi-LSTM  0.967471   0.883721  0.876923  0.880309  0.929349\n",
       "Bi-LSTM          0.966946   0.883268  0.873077  0.878143  0.927425\n",
       "Shallow_dropout  0.966946   0.886275  0.869231  0.877670  0.925806\n",
       "Deep_dropout     0.962225   0.861538  0.861538  0.861538  0.919834\n",
       "GRU              0.932844   0.726027  0.815385  0.768116  0.883391\n",
       "LSTM             0.926023   0.878981  0.530769  0.661871  0.759613\n",
       "RNN              0.843127   0.355556  0.184615  0.243038  0.565880"
      ]
     },
     "execution_count": 328,
     "metadata": {},
     "output_type": "execute_result"
    }
   ],
   "source": [
    "# Sort by Recall\n",
    "summary_neural2.sort_values(by = \"Recall\",ascending = False)"
   ]
  },
  {
   "cell_type": "markdown",
   "metadata": {},
   "source": [
    "* The best model on all metrics was the simple multi-layer perceptron but it did not do better than the machine learning models\n",
    "* Much more data is likely needed for these models to perform at their best and the dataset is quite small at only 10,000 reviews\n",
    "* However, the neural networks did not need as much text processing\n",
    "* The more complicated models classified the reviews into positive and negative very cleanly, with most datapoints classified with 0 or 1 probability compared to the simpler models. \n",
    "* The complex models did not generalise so well to the validation datasets"
   ]
  }
 ],
 "metadata": {
  "kernelspec": {
   "display_name": "Python 3",
   "language": "python",
   "name": "python3"
  },
  "language_info": {
   "codemirror_mode": {
    "name": "ipython",
    "version": 3
   },
   "file_extension": ".py",
   "mimetype": "text/x-python",
   "name": "python",
   "nbconvert_exporter": "python",
   "pygments_lexer": "ipython3",
   "version": "3.7.10"
  }
 },
 "nbformat": 4,
 "nbformat_minor": 4
}
