{
 "cells": [
  {
   "cell_type": "markdown",
   "metadata": {},
   "source": [
    "# Using TextBlob and Vader as Out of the Box Analysers"
   ]
  },
  {
   "cell_type": "markdown",
   "metadata": {},
   "source": [
    "This notebook uses two 'Out of the Box' or Rules-based sentiment analysers, TextBlob and Vader to determine the sentiment of the training set reviews. The analyser is not learning anything, it is simply treating each review separately and comparing it to a set of rules. The data can be fed raw into the analyser (although cleaning can be used first) and does not need the extensive cleaning of machine learning models, which make them very easy and quick to use.\n",
    "\n",
    "* Section 1 - import libraries and dataset\n",
    "* Section 2 - Pre-processing\n",
    "\n",
    "* Section 2 - analyser performance against sample phrases  \n",
    "* Section 3 - TextBlob and VADER \n",
    "* Section 4 - Comparison of analyser scores with user scores\n",
    "* Section 5 - VADER scores compared to review length\n",
    "* Section 6 - Rerunning results with cleaned review text\n",
    "* Section 7 - Summary\n",
    "\n",
    "*Note: Rating refers to the user rating and score is the binary score allocated - with 1 referring to the majority class of positive reviews and -1 relating to the minority class of negative reviews.*\n",
    "\n",
    "Data needed to run notebook:\n",
    "\n",
    "* sampled_data.csv\n",
    "* cleanedsampletext.csv"
   ]
  },
  {
   "cell_type": "markdown",
   "metadata": {},
   "source": [
    "# Section 1: Import libraries and Dataset"
   ]
  },
  {
   "cell_type": "code",
   "execution_count": 1,
   "metadata": {},
   "outputs": [],
   "source": [
    "import pandas as pd\n",
    "import numpy as np\n",
    "import pickle\n",
    "import matplotlib.pyplot as plt\n",
    "%matplotlib inline\n",
    "import seaborn as sns\n",
    "sns.set()\n",
    "import nltk\n",
    "from textblob import TextBlob\n",
    "from vaderSentiment.vaderSentiment import SentimentIntensityAnalyzer\n",
    "import nltk\n",
    "from sklearn.metrics import f1_score,precision_score,recall_score,accuracy_score, roc_auc_score\n",
    "import warnings\n",
    "warnings.filterwarnings(\"ignore\")"
   ]
  },
  {
   "cell_type": "code",
   "execution_count": 2,
   "metadata": {},
   "outputs": [],
   "source": [
    "df = pd.read_csv('sampled_data.csv',index_col = 0)"
   ]
  },
  {
   "cell_type": "code",
   "execution_count": 3,
   "metadata": {},
   "outputs": [
    {
     "data": {
      "text/html": [
       "<div>\n",
       "<style scoped>\n",
       "    .dataframe tbody tr th:only-of-type {\n",
       "        vertical-align: middle;\n",
       "    }\n",
       "\n",
       "    .dataframe tbody tr th {\n",
       "        vertical-align: top;\n",
       "    }\n",
       "\n",
       "    .dataframe thead th {\n",
       "        text-align: right;\n",
       "    }\n",
       "</style>\n",
       "<table border=\"1\" class=\"dataframe\">\n",
       "  <thead>\n",
       "    <tr style=\"text-align: right;\">\n",
       "      <th></th>\n",
       "      <th>Name</th>\n",
       "      <th>Category</th>\n",
       "      <th>Town</th>\n",
       "      <th>Type</th>\n",
       "      <th>Contributions</th>\n",
       "      <th>Title</th>\n",
       "      <th>Review</th>\n",
       "      <th>Rating</th>\n",
       "      <th>Date</th>\n",
       "      <th>LocCode</th>\n",
       "      <th>Cuisine</th>\n",
       "      <th>Score</th>\n",
       "    </tr>\n",
       "  </thead>\n",
       "  <tbody>\n",
       "    <tr>\n",
       "      <th>0</th>\n",
       "      <td>Motte &amp; Bailey</td>\n",
       "      <td>Food</td>\n",
       "      <td>Arundel</td>\n",
       "      <td>Café</td>\n",
       "      <td>21</td>\n",
       "      <td>Excellent Breakfasts</td>\n",
       "      <td>Whether it was the full English or poached egg...</td>\n",
       "      <td>5</td>\n",
       "      <td>2.0</td>\n",
       "      <td>0.0</td>\n",
       "      <td>Other</td>\n",
       "      <td>0</td>\n",
       "    </tr>\n",
       "    <tr>\n",
       "      <th>1</th>\n",
       "      <td>Carlton Hotel</td>\n",
       "      <td>Accommodation</td>\n",
       "      <td>Bognor</td>\n",
       "      <td>B&amp;B/Inn</td>\n",
       "      <td>87</td>\n",
       "      <td>Won't be returning</td>\n",
       "      <td>Stayed here for one night for work. Check in a...</td>\n",
       "      <td>2</td>\n",
       "      <td>4.0</td>\n",
       "      <td>2.0</td>\n",
       "      <td>0</td>\n",
       "      <td>1</td>\n",
       "    </tr>\n",
       "  </tbody>\n",
       "</table>\n",
       "</div>"
      ],
      "text/plain": [
       "             Name       Category     Town     Type  Contributions  \\\n",
       "0  Motte & Bailey           Food  Arundel     Café             21   \n",
       "1   Carlton Hotel  Accommodation   Bognor  B&B/Inn             87   \n",
       "\n",
       "                  Title                                             Review  \\\n",
       "0  Excellent Breakfasts  Whether it was the full English or poached egg...   \n",
       "1    Won't be returning  Stayed here for one night for work. Check in a...   \n",
       "\n",
       "   Rating  Date  LocCode Cuisine  Score  \n",
       "0       5   2.0      0.0   Other      0  \n",
       "1       2   4.0      2.0       0      1  "
      ]
     },
     "execution_count": 3,
     "metadata": {},
     "output_type": "execute_result"
    }
   ],
   "source": [
    "df.head(2)"
   ]
  },
  {
   "cell_type": "code",
   "execution_count": 4,
   "metadata": {},
   "outputs": [],
   "source": [
    "# Function to select columns of interest, join title and review, drop unwanted columns and reset index\n",
    "def proc(df):\n",
    "    df = df[[\"Town\",\"Category\",\"Title\",\"Review\",\"Score\"]]\n",
    "    df[\"all_text\"] = df[\"Title\"] +\" \"+ df[\"Review\"]\n",
    "    df.drop(columns = [\"Title\",\"Review\"],axis = 1, inplace = True)\n",
    "    df.columns = [\"Town\",\"Category\",\"Score\",\"all_text\"]\n",
    "    return df"
   ]
  },
  {
   "cell_type": "code",
   "execution_count": 5,
   "metadata": {},
   "outputs": [],
   "source": [
    "df = proc(df)"
   ]
  },
  {
   "cell_type": "code",
   "execution_count": 6,
   "metadata": {},
   "outputs": [
    {
     "data": {
      "text/html": [
       "<div>\n",
       "<style scoped>\n",
       "    .dataframe tbody tr th:only-of-type {\n",
       "        vertical-align: middle;\n",
       "    }\n",
       "\n",
       "    .dataframe tbody tr th {\n",
       "        vertical-align: top;\n",
       "    }\n",
       "\n",
       "    .dataframe thead th {\n",
       "        text-align: right;\n",
       "    }\n",
       "</style>\n",
       "<table border=\"1\" class=\"dataframe\">\n",
       "  <thead>\n",
       "    <tr style=\"text-align: right;\">\n",
       "      <th></th>\n",
       "      <th>Town</th>\n",
       "      <th>Category</th>\n",
       "      <th>Score</th>\n",
       "      <th>all_text</th>\n",
       "    </tr>\n",
       "  </thead>\n",
       "  <tbody>\n",
       "    <tr>\n",
       "      <th>0</th>\n",
       "      <td>Arundel</td>\n",
       "      <td>Food</td>\n",
       "      <td>0</td>\n",
       "      <td>Excellent Breakfasts Whether it was the full E...</td>\n",
       "    </tr>\n",
       "    <tr>\n",
       "      <th>1</th>\n",
       "      <td>Bognor</td>\n",
       "      <td>Accommodation</td>\n",
       "      <td>1</td>\n",
       "      <td>Won't be returning Stayed here for one night f...</td>\n",
       "    </tr>\n",
       "    <tr>\n",
       "      <th>2</th>\n",
       "      <td>Bognor</td>\n",
       "      <td>Food</td>\n",
       "      <td>1</td>\n",
       "      <td>Christmas lunch Sadly it’s not as good as it u...</td>\n",
       "    </tr>\n",
       "    <tr>\n",
       "      <th>3</th>\n",
       "      <td>Arundel</td>\n",
       "      <td>Food</td>\n",
       "      <td>0</td>\n",
       "      <td>The Pub that can! On saturday night we held a ...</td>\n",
       "    </tr>\n",
       "    <tr>\n",
       "      <th>4</th>\n",
       "      <td>Arundel</td>\n",
       "      <td>Food</td>\n",
       "      <td>1</td>\n",
       "      <td>Very disappointing experience Kept my husband ...</td>\n",
       "    </tr>\n",
       "  </tbody>\n",
       "</table>\n",
       "</div>"
      ],
      "text/plain": [
       "      Town       Category  Score  \\\n",
       "0  Arundel           Food      0   \n",
       "1   Bognor  Accommodation      1   \n",
       "2   Bognor           Food      1   \n",
       "3  Arundel           Food      0   \n",
       "4  Arundel           Food      1   \n",
       "\n",
       "                                            all_text  \n",
       "0  Excellent Breakfasts Whether it was the full E...  \n",
       "1  Won't be returning Stayed here for one night f...  \n",
       "2  Christmas lunch Sadly it’s not as good as it u...  \n",
       "3  The Pub that can! On saturday night we held a ...  \n",
       "4  Very disappointing experience Kept my husband ...  "
      ]
     },
     "execution_count": 6,
     "metadata": {},
     "output_type": "execute_result"
    }
   ],
   "source": [
    "df.head()"
   ]
  },
  {
   "cell_type": "markdown",
   "metadata": {},
   "source": [
    "# Section 2: Preprocessing"
   ]
  },
  {
   "cell_type": "code",
   "execution_count": 7,
   "metadata": {},
   "outputs": [],
   "source": [
    "# Put bad reviews as -1 and good reviews as 1\n",
    "df.Score.replace(1, -1, inplace = True)\n",
    "df.Score.replace(0, 1, inplace = True)"
   ]
  },
  {
   "cell_type": "code",
   "execution_count": 8,
   "metadata": {},
   "outputs": [
    {
     "data": {
      "text/plain": [
       "-1    1301\n",
       " 1    1301\n",
       "Name: Score, dtype: int64"
      ]
     },
     "execution_count": 8,
     "metadata": {},
     "output_type": "execute_result"
    }
   ],
   "source": [
    "# Compare numbers of positive and negative reviews\n",
    "df.Score.value_counts()"
   ]
  },
  {
   "cell_type": "markdown",
   "metadata": {},
   "source": [
    "# Section 3: Testing TextBlob and Vader Against Sample Phrases"
   ]
  },
  {
   "cell_type": "code",
   "execution_count": 9,
   "metadata": {},
   "outputs": [],
   "source": [
    "# Set up an analyser object for Vader\n",
    "sia = SentimentIntensityAnalyzer()"
   ]
  },
  {
   "cell_type": "code",
   "execution_count": 10,
   "metadata": {},
   "outputs": [],
   "source": [
    "# Results function\n",
    "def pol(text):\n",
    "    pol1 = TextBlob(text).sentiment.polarity\n",
    "    pol2 = sia.polarity_scores(text)['compound']\n",
    "    return pol1, pol2, "
   ]
  },
  {
   "cell_type": "markdown",
   "metadata": {},
   "source": [
    "## Capitalisation"
   ]
  },
  {
   "cell_type": "code",
   "execution_count": 11,
   "metadata": {},
   "outputs": [],
   "source": [
    "# Capitalisation of a word\n",
    "t1 = \"This is the worst restaurant I have ever eaten in\"\n",
    "t2 = \"This is the WORST restaurant I have ever eaten in\""
   ]
  },
  {
   "cell_type": "code",
   "execution_count": 12,
   "metadata": {},
   "outputs": [
    {
     "data": {
      "text/html": [
       "<div>\n",
       "<style scoped>\n",
       "    .dataframe tbody tr th:only-of-type {\n",
       "        vertical-align: middle;\n",
       "    }\n",
       "\n",
       "    .dataframe tbody tr th {\n",
       "        vertical-align: top;\n",
       "    }\n",
       "\n",
       "    .dataframe thead th {\n",
       "        text-align: right;\n",
       "    }\n",
       "</style>\n",
       "<table border=\"1\" class=\"dataframe\">\n",
       "  <thead>\n",
       "    <tr style=\"text-align: right;\">\n",
       "      <th></th>\n",
       "      <th>S1</th>\n",
       "      <th>S2</th>\n",
       "    </tr>\n",
       "  </thead>\n",
       "  <tbody>\n",
       "    <tr>\n",
       "      <th>TextBlob</th>\n",
       "      <td>-1.0000</td>\n",
       "      <td>-1.0000</td>\n",
       "    </tr>\n",
       "    <tr>\n",
       "      <th>Vader</th>\n",
       "      <td>-0.6249</td>\n",
       "      <td>-0.7034</td>\n",
       "    </tr>\n",
       "  </tbody>\n",
       "</table>\n",
       "</div>"
      ],
      "text/plain": [
       "              S1      S2\n",
       "TextBlob -1.0000 -1.0000\n",
       "Vader    -0.6249 -0.7034"
      ]
     },
     "execution_count": 12,
     "metadata": {},
     "output_type": "execute_result"
    }
   ],
   "source": [
    "sent_1 = pol(t1)\n",
    "sent_2 = pol(t2)\n",
    "data1 = pd.DataFrame([sent_1,sent_2],index = [\"S1\",\"S2\"],columns = [\"TextBlob\",\"Vader\"])\n",
    "data1.T"
   ]
  },
  {
   "cell_type": "markdown",
   "metadata": {},
   "source": [
    "* Both analysers are negative but only Vader picks up the intensity of capitalisation"
   ]
  },
  {
   "cell_type": "markdown",
   "metadata": {},
   "source": [
    "## Word Strength"
   ]
  },
  {
   "cell_type": "code",
   "execution_count": 13,
   "metadata": {},
   "outputs": [],
   "source": [
    "# Word Strength\n",
    "t3 = \"The food is good\"\n",
    "t4 = \"The food is great\"\n",
    "t5 = \"The food is incredible\"\n",
    "t6 = \"The food is awesome\""
   ]
  },
  {
   "cell_type": "code",
   "execution_count": 14,
   "metadata": {},
   "outputs": [
    {
     "data": {
      "text/html": [
       "<div>\n",
       "<style scoped>\n",
       "    .dataframe tbody tr th:only-of-type {\n",
       "        vertical-align: middle;\n",
       "    }\n",
       "\n",
       "    .dataframe tbody tr th {\n",
       "        vertical-align: top;\n",
       "    }\n",
       "\n",
       "    .dataframe thead th {\n",
       "        text-align: right;\n",
       "    }\n",
       "</style>\n",
       "<table border=\"1\" class=\"dataframe\">\n",
       "  <thead>\n",
       "    <tr style=\"text-align: right;\">\n",
       "      <th></th>\n",
       "      <th>S3</th>\n",
       "      <th>S4</th>\n",
       "      <th>S5</th>\n",
       "      <th>S6</th>\n",
       "    </tr>\n",
       "  </thead>\n",
       "  <tbody>\n",
       "    <tr>\n",
       "      <th>TextBlob</th>\n",
       "      <td>0.7000</td>\n",
       "      <td>0.8000</td>\n",
       "      <td>0.9</td>\n",
       "      <td>1.0000</td>\n",
       "    </tr>\n",
       "    <tr>\n",
       "      <th>Vader</th>\n",
       "      <td>0.4404</td>\n",
       "      <td>0.6249</td>\n",
       "      <td>0.0</td>\n",
       "      <td>0.6249</td>\n",
       "    </tr>\n",
       "  </tbody>\n",
       "</table>\n",
       "</div>"
      ],
      "text/plain": [
       "              S3      S4   S5      S6\n",
       "TextBlob  0.7000  0.8000  0.9  1.0000\n",
       "Vader     0.4404  0.6249  0.0  0.6249"
      ]
     },
     "execution_count": 14,
     "metadata": {},
     "output_type": "execute_result"
    }
   ],
   "source": [
    "sent_3 = pol(t3)\n",
    "sent_4 = pol(t4)\n",
    "sent_5 = pol(t5)\n",
    "sent_6 = pol(t6)\n",
    "data2 = pd.DataFrame([sent_3,sent_4,sent_5,sent_6],index = [\"S3\",\"S4\",\"S5\",\"S6\"],columns = [\"TextBlob\",\"Vader\"])\n",
    "data2.T"
   ]
  },
  {
   "cell_type": "markdown",
   "metadata": {},
   "source": [
    "* TextBlob picks up the increasing intensity of words more effectively than Vader "
   ]
  },
  {
   "cell_type": "markdown",
   "metadata": {},
   "source": [
    "## Promotor Words"
   ]
  },
  {
   "cell_type": "code",
   "execution_count": 15,
   "metadata": {},
   "outputs": [],
   "source": [
    "# Promotor words - modulate intensity\n",
    "t7 = \"The food is good\"\n",
    "t8 = \"The food is very good\"\n",
    "t9 = \"The food is very very good\""
   ]
  },
  {
   "cell_type": "code",
   "execution_count": 16,
   "metadata": {},
   "outputs": [
    {
     "data": {
      "text/html": [
       "<div>\n",
       "<style scoped>\n",
       "    .dataframe tbody tr th:only-of-type {\n",
       "        vertical-align: middle;\n",
       "    }\n",
       "\n",
       "    .dataframe tbody tr th {\n",
       "        vertical-align: top;\n",
       "    }\n",
       "\n",
       "    .dataframe thead th {\n",
       "        text-align: right;\n",
       "    }\n",
       "</style>\n",
       "<table border=\"1\" class=\"dataframe\">\n",
       "  <thead>\n",
       "    <tr style=\"text-align: right;\">\n",
       "      <th></th>\n",
       "      <th>S7</th>\n",
       "      <th>S8</th>\n",
       "      <th>S9</th>\n",
       "    </tr>\n",
       "  </thead>\n",
       "  <tbody>\n",
       "    <tr>\n",
       "      <th>TextBlob</th>\n",
       "      <td>0.7000</td>\n",
       "      <td>0.9100</td>\n",
       "      <td>0.9100</td>\n",
       "    </tr>\n",
       "    <tr>\n",
       "      <th>Vader</th>\n",
       "      <td>0.4404</td>\n",
       "      <td>0.4927</td>\n",
       "      <td>0.5379</td>\n",
       "    </tr>\n",
       "  </tbody>\n",
       "</table>\n",
       "</div>"
      ],
      "text/plain": [
       "              S7      S8      S9\n",
       "TextBlob  0.7000  0.9100  0.9100\n",
       "Vader     0.4404  0.4927  0.5379"
      ]
     },
     "execution_count": 16,
     "metadata": {},
     "output_type": "execute_result"
    }
   ],
   "source": [
    "sent_7 = pol(t7)\n",
    "sent_8 = pol(t8)\n",
    "sent_9 = pol(t9)\n",
    "data3 = pd.DataFrame([sent_7,sent_8,sent_9],index = [\"S7\",\"S8\",\"S9\"],columns = [\"TextBlob\",\"Vader\"])\n",
    "data3.T"
   ]
  },
  {
   "cell_type": "markdown",
   "metadata": {},
   "source": [
    "* TextBlob picks up increased instensity from the use of the word 'very'\n",
    "* Vader picks up the increased intensity from repeated words also"
   ]
  },
  {
   "cell_type": "markdown",
   "metadata": {},
   "source": [
    "## Double Negation"
   ]
  },
  {
   "cell_type": "code",
   "execution_count": 17,
   "metadata": {},
   "outputs": [],
   "source": [
    "# Double Negation\n",
    "t10 = \"This is not the worst place in the town, not by any means\""
   ]
  },
  {
   "cell_type": "code",
   "execution_count": 18,
   "metadata": {},
   "outputs": [
    {
     "data": {
      "text/html": [
       "<div>\n",
       "<style scoped>\n",
       "    .dataframe tbody tr th:only-of-type {\n",
       "        vertical-align: middle;\n",
       "    }\n",
       "\n",
       "    .dataframe tbody tr th {\n",
       "        vertical-align: top;\n",
       "    }\n",
       "\n",
       "    .dataframe thead th {\n",
       "        text-align: right;\n",
       "    }\n",
       "</style>\n",
       "<table border=\"1\" class=\"dataframe\">\n",
       "  <thead>\n",
       "    <tr style=\"text-align: right;\">\n",
       "      <th></th>\n",
       "      <th>S10</th>\n",
       "    </tr>\n",
       "  </thead>\n",
       "  <tbody>\n",
       "    <tr>\n",
       "      <th>TextBlob</th>\n",
       "      <td>-1.0000</td>\n",
       "    </tr>\n",
       "    <tr>\n",
       "      <th>Vader</th>\n",
       "      <td>0.5096</td>\n",
       "    </tr>\n",
       "  </tbody>\n",
       "</table>\n",
       "</div>"
      ],
      "text/plain": [
       "             S10\n",
       "TextBlob -1.0000\n",
       "Vader     0.5096"
      ]
     },
     "execution_count": 18,
     "metadata": {},
     "output_type": "execute_result"
    }
   ],
   "source": [
    "sent_10 = pol(t10)\n",
    "data4 = pd.DataFrame([sent_10],index = [\"S10\"],columns = [\"TextBlob\",\"Vader\"])\n",
    "data4.T"
   ]
  },
  {
   "cell_type": "markdown",
   "metadata": {},
   "source": [
    "* Vader picks up that the review is positive and not negative"
   ]
  },
  {
   "cell_type": "markdown",
   "metadata": {},
   "source": [
    "## Adjectives"
   ]
  },
  {
   "cell_type": "code",
   "execution_count": 19,
   "metadata": {},
   "outputs": [],
   "source": [
    "# Adjectives\n",
    "t11 = \"The restaurant is worth visiting\"\n",
    "t12 = \"The restaurant is hardly worth visiting\""
   ]
  },
  {
   "cell_type": "code",
   "execution_count": 20,
   "metadata": {},
   "outputs": [
    {
     "data": {
      "text/html": [
       "<div>\n",
       "<style scoped>\n",
       "    .dataframe tbody tr th:only-of-type {\n",
       "        vertical-align: middle;\n",
       "    }\n",
       "\n",
       "    .dataframe tbody tr th {\n",
       "        vertical-align: top;\n",
       "    }\n",
       "\n",
       "    .dataframe thead th {\n",
       "        text-align: right;\n",
       "    }\n",
       "</style>\n",
       "<table border=\"1\" class=\"dataframe\">\n",
       "  <thead>\n",
       "    <tr style=\"text-align: right;\">\n",
       "      <th></th>\n",
       "      <th>S11</th>\n",
       "      <th>S12</th>\n",
       "    </tr>\n",
       "  </thead>\n",
       "  <tbody>\n",
       "    <tr>\n",
       "      <th>TextBlob</th>\n",
       "      <td>0.3000</td>\n",
       "      <td>0.3000</td>\n",
       "    </tr>\n",
       "    <tr>\n",
       "      <th>Vader</th>\n",
       "      <td>0.2263</td>\n",
       "      <td>0.1548</td>\n",
       "    </tr>\n",
       "  </tbody>\n",
       "</table>\n",
       "</div>"
      ],
      "text/plain": [
       "             S11     S12\n",
       "TextBlob  0.3000  0.3000\n",
       "Vader     0.2263  0.1548"
      ]
     },
     "execution_count": 20,
     "metadata": {},
     "output_type": "execute_result"
    }
   ],
   "source": [
    "sent_11 = pol(t11)\n",
    "sent_12 = pol(t12)\n",
    "data5 = pd.DataFrame([sent_11,sent_12],index = [\"S11\",\"S12\"],columns = [\"TextBlob\",\"Vader\"])\n",
    "data5.T"
   ]
  },
  {
   "cell_type": "markdown",
   "metadata": {},
   "source": [
    "* Vader adjusts the score downwards for the word 'hardly'."
   ]
  },
  {
   "cell_type": "markdown",
   "metadata": {},
   "source": [
    "## Punctuation"
   ]
  },
  {
   "cell_type": "code",
   "execution_count": 21,
   "metadata": {},
   "outputs": [],
   "source": [
    "# Punctuation\n",
    "t13 = \"The food is great\"\n",
    "t14 = \"The food is great!\"\n",
    "t15 = \"The food is great!!\""
   ]
  },
  {
   "cell_type": "code",
   "execution_count": 22,
   "metadata": {},
   "outputs": [
    {
     "data": {
      "text/html": [
       "<div>\n",
       "<style scoped>\n",
       "    .dataframe tbody tr th:only-of-type {\n",
       "        vertical-align: middle;\n",
       "    }\n",
       "\n",
       "    .dataframe tbody tr th {\n",
       "        vertical-align: top;\n",
       "    }\n",
       "\n",
       "    .dataframe thead th {\n",
       "        text-align: right;\n",
       "    }\n",
       "</style>\n",
       "<table border=\"1\" class=\"dataframe\">\n",
       "  <thead>\n",
       "    <tr style=\"text-align: right;\">\n",
       "      <th></th>\n",
       "      <th>S13</th>\n",
       "      <th>S14</th>\n",
       "      <th>S15</th>\n",
       "    </tr>\n",
       "  </thead>\n",
       "  <tbody>\n",
       "    <tr>\n",
       "      <th>TextBlob</th>\n",
       "      <td>0.8000</td>\n",
       "      <td>1.0000</td>\n",
       "      <td>1.0000</td>\n",
       "    </tr>\n",
       "    <tr>\n",
       "      <th>Vader</th>\n",
       "      <td>0.6249</td>\n",
       "      <td>0.6588</td>\n",
       "      <td>0.6892</td>\n",
       "    </tr>\n",
       "  </tbody>\n",
       "</table>\n",
       "</div>"
      ],
      "text/plain": [
       "             S13     S14     S15\n",
       "TextBlob  0.8000  1.0000  1.0000\n",
       "Vader     0.6249  0.6588  0.6892"
      ]
     },
     "execution_count": 22,
     "metadata": {},
     "output_type": "execute_result"
    }
   ],
   "source": [
    "sent_13 = pol(t13)\n",
    "sent_14 = pol(t14)\n",
    "sent_15 = pol(t15)\n",
    "data6 = pd.DataFrame([sent_13,sent_14,sent_15],index = [\"S13\",\"S14\",\"S15\"],columns = [\"TextBlob\",\"Vader\"])\n",
    "data6.T"
   ]
  },
  {
   "cell_type": "markdown",
   "metadata": {},
   "source": [
    "* VADER picks up the second exclamation mark."
   ]
  },
  {
   "cell_type": "markdown",
   "metadata": {},
   "source": [
    "## Intent"
   ]
  },
  {
   "cell_type": "code",
   "execution_count": 23,
   "metadata": {},
   "outputs": [],
   "source": [
    "# Intent (sarcasm)\n",
    "t16 = \"Is this the best restaurant in town??\""
   ]
  },
  {
   "cell_type": "code",
   "execution_count": 24,
   "metadata": {},
   "outputs": [
    {
     "data": {
      "text/html": [
       "<div>\n",
       "<style scoped>\n",
       "    .dataframe tbody tr th:only-of-type {\n",
       "        vertical-align: middle;\n",
       "    }\n",
       "\n",
       "    .dataframe tbody tr th {\n",
       "        vertical-align: top;\n",
       "    }\n",
       "\n",
       "    .dataframe thead th {\n",
       "        text-align: right;\n",
       "    }\n",
       "</style>\n",
       "<table border=\"1\" class=\"dataframe\">\n",
       "  <thead>\n",
       "    <tr style=\"text-align: right;\">\n",
       "      <th></th>\n",
       "      <th>S16</th>\n",
       "    </tr>\n",
       "  </thead>\n",
       "  <tbody>\n",
       "    <tr>\n",
       "      <th>TextBlob</th>\n",
       "      <td>1.0000</td>\n",
       "    </tr>\n",
       "    <tr>\n",
       "      <th>Vader</th>\n",
       "      <td>0.6767</td>\n",
       "    </tr>\n",
       "  </tbody>\n",
       "</table>\n",
       "</div>"
      ],
      "text/plain": [
       "             S16\n",
       "TextBlob  1.0000\n",
       "Vader     0.6767"
      ]
     },
     "execution_count": 24,
     "metadata": {},
     "output_type": "execute_result"
    }
   ],
   "source": [
    "sent_16 = pol(t16)\n",
    "data7 = pd.DataFrame([sent_16],index = [\"S16\"],columns = [\"TextBlob\",\"Vader\"])\n",
    "data7.T"
   ]
  },
  {
   "cell_type": "markdown",
   "metadata": {},
   "source": [
    "* Both analysers return positive to a negative sentiment but Vader does have a lower score"
   ]
  },
  {
   "cell_type": "markdown",
   "metadata": {},
   "source": [
    "## Contrast"
   ]
  },
  {
   "cell_type": "code",
   "execution_count": 25,
   "metadata": {},
   "outputs": [],
   "source": [
    "# Mixed sentences - contrast\n",
    "t17 = \"The view is amazing but the food is awful\"\n",
    "t18 = \"I loved this place, however it could do with a refurbishment\""
   ]
  },
  {
   "cell_type": "code",
   "execution_count": 26,
   "metadata": {},
   "outputs": [
    {
     "data": {
      "text/html": [
       "<div>\n",
       "<style scoped>\n",
       "    .dataframe tbody tr th:only-of-type {\n",
       "        vertical-align: middle;\n",
       "    }\n",
       "\n",
       "    .dataframe tbody tr th {\n",
       "        vertical-align: top;\n",
       "    }\n",
       "\n",
       "    .dataframe thead th {\n",
       "        text-align: right;\n",
       "    }\n",
       "</style>\n",
       "<table border=\"1\" class=\"dataframe\">\n",
       "  <thead>\n",
       "    <tr style=\"text-align: right;\">\n",
       "      <th></th>\n",
       "      <th>S17</th>\n",
       "      <th>S18</th>\n",
       "    </tr>\n",
       "  </thead>\n",
       "  <tbody>\n",
       "    <tr>\n",
       "      <th>TextBlob</th>\n",
       "      <td>-0.2000</td>\n",
       "      <td>0.7000</td>\n",
       "    </tr>\n",
       "    <tr>\n",
       "      <th>Vader</th>\n",
       "      <td>-0.3818</td>\n",
       "      <td>0.5994</td>\n",
       "    </tr>\n",
       "  </tbody>\n",
       "</table>\n",
       "</div>"
      ],
      "text/plain": [
       "             S17     S18\n",
       "TextBlob -0.2000  0.7000\n",
       "Vader    -0.3818  0.5994"
      ]
     },
     "execution_count": 26,
     "metadata": {},
     "output_type": "execute_result"
    }
   ],
   "source": [
    "sent_17 = pol(t17)\n",
    "sent_18 = pol(t18)\n",
    "data8 = pd.DataFrame([sent_17,sent_18],index = [\"S17\",\"S18\"],columns = [\"TextBlob\",\"Vader\"])\n",
    "data8.T"
   ]
  },
  {
   "cell_type": "markdown",
   "metadata": {},
   "source": [
    "* Both analysers swap from negative to positive between the two sentences."
   ]
  },
  {
   "cell_type": "markdown",
   "metadata": {},
   "source": [
    "## Context - ambiguous adjectives and one word, many meanings"
   ]
  },
  {
   "cell_type": "code",
   "execution_count": 27,
   "metadata": {},
   "outputs": [],
   "source": [
    "# Context - ambiguous adjectives - convey perspective\n",
    "t19 = \"The food is pretty good\"\n",
    "t20 = \"The food is pretty bad\"\n",
    "\n",
    "# One word with many meanings (low can be seen as negative but in context of prices it isnt)\n",
    "t21 = \"The prices are high\"\n",
    "t22 = \"The prices are low\""
   ]
  },
  {
   "cell_type": "code",
   "execution_count": 28,
   "metadata": {},
   "outputs": [
    {
     "data": {
      "text/html": [
       "<div>\n",
       "<style scoped>\n",
       "    .dataframe tbody tr th:only-of-type {\n",
       "        vertical-align: middle;\n",
       "    }\n",
       "\n",
       "    .dataframe tbody tr th {\n",
       "        vertical-align: top;\n",
       "    }\n",
       "\n",
       "    .dataframe thead th {\n",
       "        text-align: right;\n",
       "    }\n",
       "</style>\n",
       "<table border=\"1\" class=\"dataframe\">\n",
       "  <thead>\n",
       "    <tr style=\"text-align: right;\">\n",
       "      <th></th>\n",
       "      <th>S19</th>\n",
       "      <th>S20</th>\n",
       "      <th>S21</th>\n",
       "      <th>S22</th>\n",
       "    </tr>\n",
       "  </thead>\n",
       "  <tbody>\n",
       "    <tr>\n",
       "      <th>TextBlob</th>\n",
       "      <td>0.4750</td>\n",
       "      <td>-0.2250</td>\n",
       "      <td>0.16</td>\n",
       "      <td>0.0000</td>\n",
       "    </tr>\n",
       "    <tr>\n",
       "      <th>Vader</th>\n",
       "      <td>0.7269</td>\n",
       "      <td>-0.0772</td>\n",
       "      <td>0.00</td>\n",
       "      <td>-0.2732</td>\n",
       "    </tr>\n",
       "  </tbody>\n",
       "</table>\n",
       "</div>"
      ],
      "text/plain": [
       "             S19     S20   S21     S22\n",
       "TextBlob  0.4750 -0.2250  0.16  0.0000\n",
       "Vader     0.7269 -0.0772  0.00 -0.2732"
      ]
     },
     "execution_count": 28,
     "metadata": {},
     "output_type": "execute_result"
    }
   ],
   "source": [
    "sent_19 = pol(t19)\n",
    "sent_20 = pol(t20)\n",
    "sent_21 = pol(t21)\n",
    "sent_22 = pol(t22)\n",
    "data9 = pd.DataFrame([sent_19,sent_20,sent_21,sent_22],index = [\"S19\",\"S20\",\"S21\",\"S22\"],columns = [\"TextBlob\",\"Vader\"])\n",
    "data9.T"
   ]
  },
  {
   "cell_type": "markdown",
   "metadata": {},
   "source": [
    "* Both analysers deal with the first two sentences "
   ]
  },
  {
   "cell_type": "markdown",
   "metadata": {},
   "source": [
    "## Emojis"
   ]
  },
  {
   "cell_type": "code",
   "execution_count": 29,
   "metadata": {},
   "outputs": [],
   "source": [
    "t23 = \"Love this place\"\n",
    "t24 = \"Love this place :)\"\n",
    "sent_23 = pol(t23)\n",
    "sent_24 = pol(t24)"
   ]
  },
  {
   "cell_type": "code",
   "execution_count": 30,
   "metadata": {},
   "outputs": [
    {
     "data": {
      "text/html": [
       "<div>\n",
       "<style scoped>\n",
       "    .dataframe tbody tr th:only-of-type {\n",
       "        vertical-align: middle;\n",
       "    }\n",
       "\n",
       "    .dataframe tbody tr th {\n",
       "        vertical-align: top;\n",
       "    }\n",
       "\n",
       "    .dataframe thead th {\n",
       "        text-align: right;\n",
       "    }\n",
       "</style>\n",
       "<table border=\"1\" class=\"dataframe\">\n",
       "  <thead>\n",
       "    <tr style=\"text-align: right;\">\n",
       "      <th></th>\n",
       "      <th>S23</th>\n",
       "      <th>S24</th>\n",
       "    </tr>\n",
       "  </thead>\n",
       "  <tbody>\n",
       "    <tr>\n",
       "      <th>TextBlob</th>\n",
       "      <td>0.5000</td>\n",
       "      <td>0.500</td>\n",
       "    </tr>\n",
       "    <tr>\n",
       "      <th>Vader</th>\n",
       "      <td>0.6369</td>\n",
       "      <td>0.802</td>\n",
       "    </tr>\n",
       "  </tbody>\n",
       "</table>\n",
       "</div>"
      ],
      "text/plain": [
       "             S23    S24\n",
       "TextBlob  0.5000  0.500\n",
       "Vader     0.6369  0.802"
      ]
     },
     "execution_count": 30,
     "metadata": {},
     "output_type": "execute_result"
    }
   ],
   "source": [
    "data10 = pd.DataFrame([sent_23,sent_24],index = [\"S23\",\"S24\"],columns = [\"TextBlob\",\"Vader\"])\n",
    "data10.T"
   ]
  },
  {
   "cell_type": "markdown",
   "metadata": {},
   "source": [
    "# Section 4: Passing All Reviews Through TextBlob and Vader"
   ]
  },
  {
   "cell_type": "markdown",
   "metadata": {},
   "source": [
    "## TextBlob"
   ]
  },
  {
   "cell_type": "code",
   "execution_count": 31,
   "metadata": {},
   "outputs": [],
   "source": [
    "# Run TextBlob against each review in the dataframe\n",
    "df[\"Polarity\"] = df[\"all_text\"].apply(lambda x: TextBlob(x).sentiment.polarity)\n",
    "df[\"Subjectivity\"] = df[\"all_text\"].apply(lambda x: TextBlob(x).sentiment.subjectivity)"
   ]
  },
  {
   "cell_type": "code",
   "execution_count": 32,
   "metadata": {},
   "outputs": [
    {
     "data": {
      "text/html": [
       "<div>\n",
       "<style scoped>\n",
       "    .dataframe tbody tr th:only-of-type {\n",
       "        vertical-align: middle;\n",
       "    }\n",
       "\n",
       "    .dataframe tbody tr th {\n",
       "        vertical-align: top;\n",
       "    }\n",
       "\n",
       "    .dataframe thead th {\n",
       "        text-align: right;\n",
       "    }\n",
       "</style>\n",
       "<table border=\"1\" class=\"dataframe\">\n",
       "  <thead>\n",
       "    <tr style=\"text-align: right;\">\n",
       "      <th></th>\n",
       "      <th>Score</th>\n",
       "      <th>Polarity</th>\n",
       "      <th>Subjectivity</th>\n",
       "    </tr>\n",
       "  </thead>\n",
       "  <tbody>\n",
       "    <tr>\n",
       "      <th>count</th>\n",
       "      <td>2602.000000</td>\n",
       "      <td>2602.000000</td>\n",
       "      <td>2602.000000</td>\n",
       "    </tr>\n",
       "    <tr>\n",
       "      <th>mean</th>\n",
       "      <td>0.000000</td>\n",
       "      <td>0.159195</td>\n",
       "      <td>0.556086</td>\n",
       "    </tr>\n",
       "    <tr>\n",
       "      <th>std</th>\n",
       "      <td>1.000192</td>\n",
       "      <td>0.272254</td>\n",
       "      <td>0.123231</td>\n",
       "    </tr>\n",
       "    <tr>\n",
       "      <th>min</th>\n",
       "      <td>-1.000000</td>\n",
       "      <td>-1.000000</td>\n",
       "      <td>0.111111</td>\n",
       "    </tr>\n",
       "    <tr>\n",
       "      <th>25%</th>\n",
       "      <td>-1.000000</td>\n",
       "      <td>-0.033333</td>\n",
       "      <td>0.475201</td>\n",
       "    </tr>\n",
       "    <tr>\n",
       "      <th>50%</th>\n",
       "      <td>0.000000</td>\n",
       "      <td>0.169444</td>\n",
       "      <td>0.550000</td>\n",
       "    </tr>\n",
       "    <tr>\n",
       "      <th>75%</th>\n",
       "      <td>1.000000</td>\n",
       "      <td>0.365078</td>\n",
       "      <td>0.634187</td>\n",
       "    </tr>\n",
       "    <tr>\n",
       "      <th>max</th>\n",
       "      <td>1.000000</td>\n",
       "      <td>1.000000</td>\n",
       "      <td>1.000000</td>\n",
       "    </tr>\n",
       "  </tbody>\n",
       "</table>\n",
       "</div>"
      ],
      "text/plain": [
       "             Score     Polarity  Subjectivity\n",
       "count  2602.000000  2602.000000   2602.000000\n",
       "mean      0.000000     0.159195      0.556086\n",
       "std       1.000192     0.272254      0.123231\n",
       "min      -1.000000    -1.000000      0.111111\n",
       "25%      -1.000000    -0.033333      0.475201\n",
       "50%       0.000000     0.169444      0.550000\n",
       "75%       1.000000     0.365078      0.634187\n",
       "max       1.000000     1.000000      1.000000"
      ]
     },
     "execution_count": 32,
     "metadata": {},
     "output_type": "execute_result"
    }
   ],
   "source": [
    "# Check basic descriptive statistics\n",
    "df.describe()"
   ]
  },
  {
   "cell_type": "code",
   "execution_count": 33,
   "metadata": {},
   "outputs": [
    {
     "data": {
      "image/png": "[encoded data removed]",
      "text/plain": [
       "<Figure size 720x432 with 1 Axes>"
      ]
     },
     "metadata": {},
     "output_type": "display_data"
    }
   ],
   "source": [
    "# Look at how the Polarity scores are distributed - TextBlob\n",
    "num_bins = 50\n",
    "\n",
    "fig, ax = plt.subplots(figsize=(10,6))\n",
    "ax.set_facecolor(\"White\")\n",
    "n, bins, patches = plt.hist(df.Polarity, num_bins, facecolor='green', alpha=0.5)\n",
    "plt.xlabel('Polarity')\n",
    "plt.ylabel('Count')\n",
    "plt.title('TextBlob - Distribution of Polarity Scores',size = 20)\n",
    "plt.show();"
   ]
  },
  {
   "cell_type": "code",
   "execution_count": 34,
   "metadata": {},
   "outputs": [
    {
     "name": "stdout",
     "output_type": "stream",
     "text": [
      "1816\n",
      "4\n",
      "782\n"
     ]
    }
   ],
   "source": [
    "# How many reviews have positive, neutral and negative sentiment according to TextBlob?\n",
    "print(df[df[\"Polarity\"] > 0].shape[0])\n",
    "print(df[(df[\"Polarity\"] == 0) & (df[\"Polarity\"]<0.01)].shape[0])\n",
    "print(df[df[\"Polarity\"] <0].shape[0])"
   ]
  },
  {
   "cell_type": "markdown",
   "metadata": {},
   "source": [
    "Most are rated positive, there are very few neutral as we would expect as the sample data set had reviews rated '3' stripped out, leaving the most highly rated and lowest rated reviews in the dataset. The distribution appears bimodal."
   ]
  },
  {
   "cell_type": "code",
   "execution_count": 35,
   "metadata": {},
   "outputs": [
    {
     "data": {
      "text/plain": [
       "-0.2028473583026537"
      ]
     },
     "execution_count": 35,
     "metadata": {},
     "output_type": "execute_result"
    }
   ],
   "source": [
    "# Get skew - small negative skew\n",
    "df.Polarity.skew()"
   ]
  },
  {
   "cell_type": "code",
   "execution_count": 36,
   "metadata": {},
   "outputs": [
    {
     "data": {
      "image/png": "[encoded data removed]",
      "text/plain": [
       "<Figure size 720x432 with 1 Axes>"
      ]
     },
     "metadata": {},
     "output_type": "display_data"
    }
   ],
   "source": [
    "# Look at the Distribution of Polarity with regard to Ratings\n",
    "fig, ax = plt.subplots(figsize = (10,6))\n",
    "ax.set_facecolor(\"White\")\n",
    "sns.boxenplot(x='Score', y='Polarity', data=df)\n",
    "plt.title(\"TextBlob\",fontsize = 20)\n",
    "plt.show();"
   ]
  },
  {
   "cell_type": "markdown",
   "metadata": {},
   "source": [
    "## VADER"
   ]
  },
  {
   "cell_type": "code",
   "execution_count": 37,
   "metadata": {},
   "outputs": [],
   "source": [
    "# Run VADER against each review in the dataframe\n",
    "df[\"VNeg\"] = df[\"all_text\"].apply(lambda x: sia.polarity_scores(x)['neg'])\n",
    "df[\"VNeu\"] = df[\"all_text\"].apply(lambda x: sia.polarity_scores(x)['neu'])\n",
    "df[\"VPos\"] = df[\"all_text\"].apply(lambda x: sia.polarity_scores(x)['pos'])\n",
    "df[\"VComp\"] = df[\"all_text\"].apply(lambda x: sia.polarity_scores(x)['compound'])"
   ]
  },
  {
   "cell_type": "code",
   "execution_count": 38,
   "metadata": {},
   "outputs": [
    {
     "data": {
      "image/png": "[encoded data removed]",
      "text/plain": [
       "<Figure size 720x432 with 1 Axes>"
      ]
     },
     "metadata": {},
     "output_type": "display_data"
    }
   ],
   "source": [
    "# Plot Vader Compound Scores\n",
    "num_bins = 50\n",
    "fig, ax = plt.subplots(figsize=(10,6))\n",
    "ax.set_facecolor(\"White\")\n",
    "n, bins, patches = plt.hist(df.VComp, num_bins, facecolor='brown', alpha=0.5)\n",
    "plt.xlabel('Polarity')\n",
    "plt.ylabel('Count')\n",
    "plt.title('Distribution of VADER Compound Scores', fontsize = 20)\n",
    "plt.show();"
   ]
  },
  {
   "cell_type": "code",
   "execution_count": 39,
   "metadata": {},
   "outputs": [
    {
     "name": "stdout",
     "output_type": "stream",
     "text": [
      "1812\n",
      "28\n",
      "762\n"
     ]
    }
   ],
   "source": [
    "# How many reviews have sentiment above and below 0.05 threshold suggested in the documentation\n",
    "print(df[df[\"VComp\"] >= 0.05].shape[0])\n",
    "print(df[(df[\"VComp\"] <0.05) & (df[\"VComp\"] > -0.05)].shape[0])\n",
    "print(df[df[\"VComp\"] <= -0.05].shape[0])"
   ]
  },
  {
   "cell_type": "markdown",
   "metadata": {},
   "source": [
    "Vader has a few more neutrals, probably because the threshold scores are a bit different as per the documentation. The distribution of polarities is very different however."
   ]
  },
  {
   "cell_type": "code",
   "execution_count": 40,
   "metadata": {},
   "outputs": [
    {
     "data": {
      "text/plain": [
       "-0.8318932659576479"
      ]
     },
     "execution_count": 40,
     "metadata": {},
     "output_type": "execute_result"
    }
   ],
   "source": [
    "# Get skew of VComp distribution\n",
    "df.VComp.skew()"
   ]
  },
  {
   "cell_type": "code",
   "execution_count": 41,
   "metadata": {},
   "outputs": [
    {
     "data": {
      "image/png": "[encoded data removed]",
      "text/plain": [
       "<Figure size 720x432 with 1 Axes>"
      ]
     },
     "metadata": {},
     "output_type": "display_data"
    }
   ],
   "source": [
    "# Look at the Distribution of Polarity with regard to Ratings\n",
    "fig, ax = plt.subplots(figsize = (10,6))\n",
    "ax.set_facecolor(\"White\")\n",
    "sns.boxenplot(x='Score', y='VComp', data=df)\n",
    "plt.title(\"VADER\",fontsize = 20)\n",
    "plt.show();"
   ]
  },
  {
   "cell_type": "markdown",
   "metadata": {},
   "source": [
    "* TextBlob scores are slightly negatively skewed with bimodal distribution\n",
    "* VADER's distribution is negatively skewed with a unimodal distribution\n",
    "* VADER scores most reviews as strongly positive and there are outliers.  \n",
    "* The boxplot for VADER shows greater variation in the compound polarity for negative reviews compared to positive. "
   ]
  },
  {
   "cell_type": "markdown",
   "metadata": {},
   "source": [
    "# Section 4: Comparison of Analyser Scores with User Rating"
   ]
  },
  {
   "cell_type": "markdown",
   "metadata": {},
   "source": [
    "## TextBlob"
   ]
  },
  {
   "cell_type": "markdown",
   "metadata": {},
   "source": [
    "Uses a weighted average score over all the words in a sentence"
   ]
  },
  {
   "cell_type": "code",
   "execution_count": 42,
   "metadata": {},
   "outputs": [
    {
     "data": {
      "text/html": [
       "<div>\n",
       "<style scoped>\n",
       "    .dataframe tbody tr th:only-of-type {\n",
       "        vertical-align: middle;\n",
       "    }\n",
       "\n",
       "    .dataframe tbody tr th {\n",
       "        vertical-align: top;\n",
       "    }\n",
       "\n",
       "    .dataframe thead th {\n",
       "        text-align: right;\n",
       "    }\n",
       "</style>\n",
       "<table border=\"1\" class=\"dataframe\">\n",
       "  <thead>\n",
       "    <tr style=\"text-align: right;\">\n",
       "      <th></th>\n",
       "      <th>Town</th>\n",
       "      <th>Category</th>\n",
       "      <th>Score</th>\n",
       "      <th>all_text</th>\n",
       "      <th>Polarity</th>\n",
       "      <th>Subjectivity</th>\n",
       "      <th>VNeg</th>\n",
       "      <th>VNeu</th>\n",
       "      <th>VPos</th>\n",
       "      <th>VComp</th>\n",
       "    </tr>\n",
       "  </thead>\n",
       "  <tbody>\n",
       "    <tr>\n",
       "      <th>690</th>\n",
       "      <td>Arundel</td>\n",
       "      <td>Food</td>\n",
       "      <td>-1</td>\n",
       "      <td>I think you have to announce your arrival ... ...</td>\n",
       "      <td>0.0</td>\n",
       "      <td>0.4</td>\n",
       "      <td>0.113</td>\n",
       "      <td>0.835</td>\n",
       "      <td>0.051</td>\n",
       "      <td>-0.5046</td>\n",
       "    </tr>\n",
       "    <tr>\n",
       "      <th>1219</th>\n",
       "      <td>Arundel</td>\n",
       "      <td>Food</td>\n",
       "      <td>-1</td>\n",
       "      <td>A Miss Evening dinner disaster.\\nLost our rese...</td>\n",
       "      <td>0.0</td>\n",
       "      <td>0.7</td>\n",
       "      <td>0.341</td>\n",
       "      <td>0.659</td>\n",
       "      <td>0.000</td>\n",
       "      <td>-0.9097</td>\n",
       "    </tr>\n",
       "    <tr>\n",
       "      <th>1353</th>\n",
       "      <td>Arundel</td>\n",
       "      <td>Food</td>\n",
       "      <td>1</td>\n",
       "      <td>Yummy Sunday roast Yummy Sunday roast and came...</td>\n",
       "      <td>0.0</td>\n",
       "      <td>1.0</td>\n",
       "      <td>0.000</td>\n",
       "      <td>0.646</td>\n",
       "      <td>0.354</td>\n",
       "      <td>0.8519</td>\n",
       "    </tr>\n",
       "    <tr>\n",
       "      <th>1817</th>\n",
       "      <td>Bognor</td>\n",
       "      <td>Food</td>\n",
       "      <td>-1</td>\n",
       "      <td>Overcharged on the bill £29. We were a party o...</td>\n",
       "      <td>0.0</td>\n",
       "      <td>0.5</td>\n",
       "      <td>0.061</td>\n",
       "      <td>0.796</td>\n",
       "      <td>0.143</td>\n",
       "      <td>0.4767</td>\n",
       "    </tr>\n",
       "  </tbody>\n",
       "</table>\n",
       "</div>"
      ],
      "text/plain": [
       "         Town Category  Score  \\\n",
       "690   Arundel     Food     -1   \n",
       "1219  Arundel     Food     -1   \n",
       "1353  Arundel     Food      1   \n",
       "1817   Bognor     Food     -1   \n",
       "\n",
       "                                               all_text  Polarity  \\\n",
       "690   I think you have to announce your arrival ... ...       0.0   \n",
       "1219  A Miss Evening dinner disaster.\\nLost our rese...       0.0   \n",
       "1353  Yummy Sunday roast Yummy Sunday roast and came...       0.0   \n",
       "1817  Overcharged on the bill £29. We were a party o...       0.0   \n",
       "\n",
       "      Subjectivity   VNeg   VNeu   VPos   VComp  \n",
       "690            0.4  0.113  0.835  0.051 -0.5046  \n",
       "1219           0.7  0.341  0.659  0.000 -0.9097  \n",
       "1353           1.0  0.000  0.646  0.354  0.8519  \n",
       "1817           0.5  0.061  0.796  0.143  0.4767  "
      ]
     },
     "execution_count": 42,
     "metadata": {},
     "output_type": "execute_result"
    }
   ],
   "source": [
    "# Check for any polaritiy scores that are zero or neutral sentiment\n",
    "df[df[\"Polarity\"] == 0]"
   ]
  },
  {
   "cell_type": "code",
   "execution_count": 43,
   "metadata": {},
   "outputs": [],
   "source": [
    "# Set polarities greater than zero 1 and polarities less than zero to -1 \n",
    "# Assume for ease that polarity >0 is positive and <=0 is negative, so any neutral polarities are ignored\n",
    "\n",
    "conditions = [(df[\"Polarity\"]>0),df[\"Polarity\"]<=0]\n",
    "choices = [1,-1]\n",
    "df[\"TB_score\"] = np.select(conditions,choices,default = 'null')\n",
    "df[\"TB_score\"] = df[\"TB_score\"].astype('int64')"
   ]
  },
  {
   "cell_type": "code",
   "execution_count": 44,
   "metadata": {},
   "outputs": [
    {
     "data": {
      "text/plain": [
       " 1    1816\n",
       "-1     786\n",
       "Name: TB_score, dtype: int64"
      ]
     },
     "execution_count": 44,
     "metadata": {},
     "output_type": "execute_result"
    }
   ],
   "source": [
    "df[\"TB_score\"].value_counts()"
   ]
  },
  {
   "cell_type": "code",
   "execution_count": 45,
   "metadata": {},
   "outputs": [
    {
     "data": {
      "text/plain": [
       "-1    1301\n",
       " 1    1301\n",
       "Name: Score, dtype: int64"
      ]
     },
     "execution_count": 45,
     "metadata": {},
     "output_type": "execute_result"
    }
   ],
   "source": [
    "# Value counts of scores - 1 is positive reviews and -1 is negative reviews\n",
    "df[\"Score\"].value_counts()"
   ]
  },
  {
   "cell_type": "code",
   "execution_count": 46,
   "metadata": {},
   "outputs": [
    {
     "data": {
      "text/html": [
       "<div>\n",
       "<style scoped>\n",
       "    .dataframe tbody tr th:only-of-type {\n",
       "        vertical-align: middle;\n",
       "    }\n",
       "\n",
       "    .dataframe tbody tr th {\n",
       "        vertical-align: top;\n",
       "    }\n",
       "\n",
       "    .dataframe thead th {\n",
       "        text-align: right;\n",
       "    }\n",
       "</style>\n",
       "<table border=\"1\" class=\"dataframe\">\n",
       "  <thead>\n",
       "    <tr style=\"text-align: right;\">\n",
       "      <th></th>\n",
       "      <th>Town</th>\n",
       "      <th>Category</th>\n",
       "      <th>Score</th>\n",
       "      <th>all_text</th>\n",
       "      <th>Polarity</th>\n",
       "      <th>Subjectivity</th>\n",
       "      <th>VNeg</th>\n",
       "      <th>VNeu</th>\n",
       "      <th>VPos</th>\n",
       "      <th>VComp</th>\n",
       "      <th>TB_score</th>\n",
       "    </tr>\n",
       "  </thead>\n",
       "  <tbody>\n",
       "    <tr>\n",
       "      <th>0</th>\n",
       "      <td>Arundel</td>\n",
       "      <td>Food</td>\n",
       "      <td>1</td>\n",
       "      <td>Excellent Breakfasts Whether it was the full E...</td>\n",
       "      <td>0.355000</td>\n",
       "      <td>0.566429</td>\n",
       "      <td>0.028</td>\n",
       "      <td>0.820</td>\n",
       "      <td>0.153</td>\n",
       "      <td>0.8001</td>\n",
       "      <td>1</td>\n",
       "    </tr>\n",
       "    <tr>\n",
       "      <th>1</th>\n",
       "      <td>Bognor</td>\n",
       "      <td>Accommodation</td>\n",
       "      <td>-1</td>\n",
       "      <td>Won't be returning Stayed here for one night f...</td>\n",
       "      <td>-0.124375</td>\n",
       "      <td>0.682083</td>\n",
       "      <td>0.142</td>\n",
       "      <td>0.797</td>\n",
       "      <td>0.061</td>\n",
       "      <td>-0.9222</td>\n",
       "      <td>-1</td>\n",
       "    </tr>\n",
       "    <tr>\n",
       "      <th>2</th>\n",
       "      <td>Bognor</td>\n",
       "      <td>Food</td>\n",
       "      <td>-1</td>\n",
       "      <td>Christmas lunch Sadly it’s not as good as it u...</td>\n",
       "      <td>-0.079167</td>\n",
       "      <td>0.585417</td>\n",
       "      <td>0.245</td>\n",
       "      <td>0.647</td>\n",
       "      <td>0.108</td>\n",
       "      <td>-0.7844</td>\n",
       "      <td>-1</td>\n",
       "    </tr>\n",
       "  </tbody>\n",
       "</table>\n",
       "</div>"
      ],
      "text/plain": [
       "      Town       Category  Score  \\\n",
       "0  Arundel           Food      1   \n",
       "1   Bognor  Accommodation     -1   \n",
       "2   Bognor           Food     -1   \n",
       "\n",
       "                                            all_text  Polarity  Subjectivity  \\\n",
       "0  Excellent Breakfasts Whether it was the full E...  0.355000      0.566429   \n",
       "1  Won't be returning Stayed here for one night f... -0.124375      0.682083   \n",
       "2  Christmas lunch Sadly it’s not as good as it u... -0.079167      0.585417   \n",
       "\n",
       "    VNeg   VNeu   VPos   VComp  TB_score  \n",
       "0  0.028  0.820  0.153  0.8001         1  \n",
       "1  0.142  0.797  0.061 -0.9222        -1  \n",
       "2  0.245  0.647  0.108 -0.7844        -1  "
      ]
     },
     "execution_count": 46,
     "metadata": {},
     "output_type": "execute_result"
    }
   ],
   "source": [
    "df.head(3)"
   ]
  },
  {
   "cell_type": "code",
   "execution_count": 47,
   "metadata": {},
   "outputs": [
    {
     "data": {
      "image/png": "[encoded data removed]",
      "text/plain": [
       "<Figure size 432x288 with 2 Axes>"
      ]
     },
     "metadata": {},
     "output_type": "display_data"
    }
   ],
   "source": [
    "confusion_matrix = pd.crosstab(df['Score'], df['TB_score'], rownames=['User_score'], colnames=['TextBlob_score'])\n",
    "sns.heatmap(confusion_matrix, annot=True,fmt=\".0f\")\n",
    "plt.show()"
   ]
  },
  {
   "cell_type": "markdown",
   "metadata": {},
   "source": [
    "Noting that the -1 is actually the positive class in this case (i.e. the class we are interested in representing negative reviews) and the +1 is actually the negative class (the class representing good reviews that we are not interested in)."
   ]
  },
  {
   "cell_type": "code",
   "execution_count": 50,
   "metadata": {},
   "outputs": [],
   "source": [
    "# Metrics function (pos_label = -1 as that represents negative reviews which is the class we are interested in\n",
    "def metrics(y_true,y_pred):\n",
    "    a = accuracy_score(y_true, y_pred)*100\n",
    "    p = precision_score(y_true, y_pred,pos_label = -1)*100\n",
    "    r = recall_score(y_true, y_pred,pos_label = -1)*100\n",
    "    f1 = f1_score(y_true, y_pred,pos_label = -1)*100\n",
    "    roc = roc_auc_score(y_true,y_pred)*100\n",
    "    \n",
    "    return a,p,r,f1,roc"
   ]
  },
  {
   "cell_type": "code",
   "execution_count": 51,
   "metadata": {},
   "outputs": [
    {
     "data": {
      "text/plain": [
       "(79.51575710991546,\n",
       " 98.85496183206108,\n",
       " 59.72328977709454,\n",
       " 74.46094873023479,\n",
       " 79.51575710991544)"
      ]
     },
     "execution_count": 51,
     "metadata": {},
     "output_type": "execute_result"
    }
   ],
   "source": [
    "metrics(df['Score'], df['TB_score'])"
   ]
  },
  {
   "cell_type": "markdown",
   "metadata": {},
   "source": [
    "## VADER"
   ]
  },
  {
   "cell_type": "markdown",
   "metadata": {},
   "source": [
    "A compound score greater than and equal to 0.05 is positive and negative is <= 0.05. Neutral is defined by VADER as between -0.05 and 0.05. "
   ]
  },
  {
   "cell_type": "code",
   "execution_count": 52,
   "metadata": {},
   "outputs": [
    {
     "data": {
      "text/html": [
       "<div>\n",
       "<style scoped>\n",
       "    .dataframe tbody tr th:only-of-type {\n",
       "        vertical-align: middle;\n",
       "    }\n",
       "\n",
       "    .dataframe tbody tr th {\n",
       "        vertical-align: top;\n",
       "    }\n",
       "\n",
       "    .dataframe thead th {\n",
       "        text-align: right;\n",
       "    }\n",
       "</style>\n",
       "<table border=\"1\" class=\"dataframe\">\n",
       "  <thead>\n",
       "    <tr style=\"text-align: right;\">\n",
       "      <th></th>\n",
       "      <th>Town</th>\n",
       "      <th>Category</th>\n",
       "      <th>Score</th>\n",
       "      <th>all_text</th>\n",
       "      <th>Polarity</th>\n",
       "      <th>Subjectivity</th>\n",
       "      <th>VNeg</th>\n",
       "      <th>VNeu</th>\n",
       "      <th>VPos</th>\n",
       "      <th>VComp</th>\n",
       "      <th>TB_score</th>\n",
       "    </tr>\n",
       "  </thead>\n",
       "  <tbody>\n",
       "    <tr>\n",
       "      <th>171</th>\n",
       "      <td>Littlehampton</td>\n",
       "      <td>Food</td>\n",
       "      <td>-1</td>\n",
       "      <td>Mr We were 12 people the table has been booked...</td>\n",
       "      <td>0.037500</td>\n",
       "      <td>0.337500</td>\n",
       "      <td>0.000</td>\n",
       "      <td>1.000</td>\n",
       "      <td>0.000</td>\n",
       "      <td>0.0000</td>\n",
       "      <td>1</td>\n",
       "    </tr>\n",
       "    <tr>\n",
       "      <th>292</th>\n",
       "      <td>Littlehampton</td>\n",
       "      <td>Food</td>\n",
       "      <td>-1</td>\n",
       "      <td>All day breakfast, not The menu states all day...</td>\n",
       "      <td>-0.300000</td>\n",
       "      <td>0.600000</td>\n",
       "      <td>0.000</td>\n",
       "      <td>1.000</td>\n",
       "      <td>0.000</td>\n",
       "      <td>0.0000</td>\n",
       "      <td>-1</td>\n",
       "    </tr>\n",
       "    <tr>\n",
       "      <th>330</th>\n",
       "      <td>Arundel</td>\n",
       "      <td>Attractions</td>\n",
       "      <td>1</td>\n",
       "      <td>Coins I prefer to come here for coins to colle...</td>\n",
       "      <td>0.300000</td>\n",
       "      <td>0.533333</td>\n",
       "      <td>0.000</td>\n",
       "      <td>1.000</td>\n",
       "      <td>0.000</td>\n",
       "      <td>0.0000</td>\n",
       "      <td>1</td>\n",
       "    </tr>\n",
       "    <tr>\n",
       "      <th>354</th>\n",
       "      <td>Arundel</td>\n",
       "      <td>Accommodation</td>\n",
       "      <td>-1</td>\n",
       "      <td>Sunday lunch Heard the news that this is the p...</td>\n",
       "      <td>-0.083333</td>\n",
       "      <td>0.522222</td>\n",
       "      <td>0.033</td>\n",
       "      <td>0.935</td>\n",
       "      <td>0.032</td>\n",
       "      <td>-0.0129</td>\n",
       "      <td>-1</td>\n",
       "    </tr>\n",
       "    <tr>\n",
       "      <th>644</th>\n",
       "      <td>Arundel</td>\n",
       "      <td>Food</td>\n",
       "      <td>-1</td>\n",
       "      <td>Slow service. Visited earlier in the week, ear...</td>\n",
       "      <td>-0.040972</td>\n",
       "      <td>0.391667</td>\n",
       "      <td>0.000</td>\n",
       "      <td>1.000</td>\n",
       "      <td>0.000</td>\n",
       "      <td>0.0000</td>\n",
       "      <td>-1</td>\n",
       "    </tr>\n",
       "  </tbody>\n",
       "</table>\n",
       "</div>"
      ],
      "text/plain": [
       "              Town       Category  Score  \\\n",
       "171  Littlehampton           Food     -1   \n",
       "292  Littlehampton           Food     -1   \n",
       "330        Arundel    Attractions      1   \n",
       "354        Arundel  Accommodation     -1   \n",
       "644        Arundel           Food     -1   \n",
       "\n",
       "                                              all_text  Polarity  \\\n",
       "171  Mr We were 12 people the table has been booked...  0.037500   \n",
       "292  All day breakfast, not The menu states all day... -0.300000   \n",
       "330  Coins I prefer to come here for coins to colle...  0.300000   \n",
       "354  Sunday lunch Heard the news that this is the p... -0.083333   \n",
       "644  Slow service. Visited earlier in the week, ear... -0.040972   \n",
       "\n",
       "     Subjectivity   VNeg   VNeu   VPos   VComp  TB_score  \n",
       "171      0.337500  0.000  1.000  0.000  0.0000         1  \n",
       "292      0.600000  0.000  1.000  0.000  0.0000        -1  \n",
       "330      0.533333  0.000  1.000  0.000  0.0000         1  \n",
       "354      0.522222  0.033  0.935  0.032 -0.0129        -1  \n",
       "644      0.391667  0.000  1.000  0.000  0.0000        -1  "
      ]
     },
     "execution_count": 52,
     "metadata": {},
     "output_type": "execute_result"
    }
   ],
   "source": [
    "# How many instances are affected by this (ie how many does VADER say are neutral)\n",
    "df[(df[\"VComp\"]>-0.05) & (df[\"VComp\"]<0.05)].head()"
   ]
  },
  {
   "cell_type": "markdown",
   "metadata": {},
   "source": [
    "Most of these are actually scored as bad reviews by users so we will treat compound scores between -0.05 and +0.05 as negative. Therefore good reviews are compound score of 0.05 and above and bad reviews as compound score of less than 0.05."
   ]
  },
  {
   "cell_type": "code",
   "execution_count": 53,
   "metadata": {},
   "outputs": [],
   "source": [
    "# Set polarities greater than equal to 0.05 (majority class) and polarities less than 0.05 to 1 (minority class)\n",
    "conditions = [(df[\"VComp\"]>=0.05),\n",
    "              df[\"VComp\"]<0.05]\n",
    "choices = [1,-1]\n",
    "df[\"VComp_score\"] = np.select(conditions,choices,default = 'null')\n",
    "df[\"VComp_score\"] = df[\"VComp_score\"].astype('int32')"
   ]
  },
  {
   "cell_type": "code",
   "execution_count": 54,
   "metadata": {},
   "outputs": [
    {
     "data": {
      "image/png": "[encoded data removed]",
      "text/plain": [
       "<Figure size 432x288 with 2 Axes>"
      ]
     },
     "metadata": {},
     "output_type": "display_data"
    }
   ],
   "source": [
    "confusion_matrix = pd.crosstab(df['Score'], df['VComp_score'], rownames=['User_score'], colnames=['Vader_score'])\n",
    "sns.heatmap(confusion_matrix, annot=True,fmt=\".0f\")\n",
    "plt.show()"
   ]
  },
  {
   "cell_type": "code",
   "execution_count": 55,
   "metadata": {},
   "outputs": [
    {
     "data": {
      "text/plain": [
       " 1    1812\n",
       "-1     790\n",
       "Name: VComp_score, dtype: int64"
      ]
     },
     "execution_count": 55,
     "metadata": {},
     "output_type": "execute_result"
    }
   ],
   "source": [
    "df[\"VComp_score\"].value_counts()"
   ]
  },
  {
   "cell_type": "code",
   "execution_count": 56,
   "metadata": {},
   "outputs": [
    {
     "data": {
      "text/plain": [
       "(79.51575710991546,\n",
       " 98.60759493670886,\n",
       " 59.87701767870869,\n",
       " 74.50980392156863,\n",
       " 79.51575710991546)"
      ]
     },
     "execution_count": 56,
     "metadata": {},
     "output_type": "execute_result"
    }
   ],
   "source": [
    "metrics(df['Score'], df['VComp_score'])"
   ]
  },
  {
   "cell_type": "markdown",
   "metadata": {},
   "source": [
    "* Both analysers had very similar metrics with Vader achieving slightly better recall and F1 score\n",
    "* Neither did as well with the bad reviews, misclassifying many of them as good reviews"
   ]
  },
  {
   "cell_type": "markdown",
   "metadata": {},
   "source": [
    "## Examination of reviews which VADER got wrong"
   ]
  },
  {
   "cell_type": "code",
   "execution_count": 57,
   "metadata": {},
   "outputs": [
    {
     "data": {
      "text/html": [
       "<div>\n",
       "<style scoped>\n",
       "    .dataframe tbody tr th:only-of-type {\n",
       "        vertical-align: middle;\n",
       "    }\n",
       "\n",
       "    .dataframe tbody tr th {\n",
       "        vertical-align: top;\n",
       "    }\n",
       "\n",
       "    .dataframe thead th {\n",
       "        text-align: right;\n",
       "    }\n",
       "</style>\n",
       "<table border=\"1\" class=\"dataframe\">\n",
       "  <thead>\n",
       "    <tr style=\"text-align: right;\">\n",
       "      <th></th>\n",
       "      <th>Town</th>\n",
       "      <th>Category</th>\n",
       "      <th>Score</th>\n",
       "      <th>all_text</th>\n",
       "      <th>Polarity</th>\n",
       "      <th>Subjectivity</th>\n",
       "      <th>VNeg</th>\n",
       "      <th>VNeu</th>\n",
       "      <th>VPos</th>\n",
       "      <th>VComp</th>\n",
       "      <th>TB_score</th>\n",
       "      <th>VComp_score</th>\n",
       "    </tr>\n",
       "  </thead>\n",
       "  <tbody>\n",
       "    <tr>\n",
       "      <th>9</th>\n",
       "      <td>Arundel</td>\n",
       "      <td>Accommodation</td>\n",
       "      <td>-1</td>\n",
       "      <td>Appalling customer service Booked a double roo...</td>\n",
       "      <td>-0.176852</td>\n",
       "      <td>0.375926</td>\n",
       "      <td>0.123</td>\n",
       "      <td>0.751</td>\n",
       "      <td>0.126</td>\n",
       "      <td>0.5255</td>\n",
       "      <td>-1</td>\n",
       "      <td>1</td>\n",
       "    </tr>\n",
       "    <tr>\n",
       "      <th>12</th>\n",
       "      <td>Bognor</td>\n",
       "      <td>Accommodation</td>\n",
       "      <td>-1</td>\n",
       "      <td>If you dont want any sleep stay here Do not st...</td>\n",
       "      <td>0.206667</td>\n",
       "      <td>0.500000</td>\n",
       "      <td>0.072</td>\n",
       "      <td>0.799</td>\n",
       "      <td>0.129</td>\n",
       "      <td>0.4753</td>\n",
       "      <td>1</td>\n",
       "      <td>1</td>\n",
       "    </tr>\n",
       "  </tbody>\n",
       "</table>\n",
       "</div>"
      ],
      "text/plain": [
       "       Town       Category  Score  \\\n",
       "9   Arundel  Accommodation     -1   \n",
       "12   Bognor  Accommodation     -1   \n",
       "\n",
       "                                             all_text  Polarity  Subjectivity  \\\n",
       "9   Appalling customer service Booked a double roo... -0.176852      0.375926   \n",
       "12  If you dont want any sleep stay here Do not st...  0.206667      0.500000   \n",
       "\n",
       "     VNeg   VNeu   VPos   VComp  TB_score  VComp_score  \n",
       "9   0.123  0.751  0.126  0.5255        -1            1  \n",
       "12  0.072  0.799  0.129  0.4753         1            1  "
      ]
     },
     "execution_count": 57,
     "metadata": {},
     "output_type": "execute_result"
    }
   ],
   "source": [
    "# Examine some reviews that VADER set as positive but user score was negative\n",
    "wrong = df[df[\"Score\"] != df[\"VComp_score\"]]\n",
    "wrong_neg = wrong[wrong[\"VComp_score\"] == 1]\n",
    "wrong_neg.head(2)"
   ]
  },
  {
   "cell_type": "code",
   "execution_count": 58,
   "metadata": {},
   "outputs": [
    {
     "data": {
      "text/plain": [
       "(522, 12)"
      ]
     },
     "execution_count": 58,
     "metadata": {},
     "output_type": "execute_result"
    }
   ],
   "source": [
    "wrong_neg.shape"
   ]
  },
  {
   "cell_type": "code",
   "execution_count": 59,
   "metadata": {},
   "outputs": [
    {
     "data": {
      "text/plain": [
       "'Appalling customer service Booked a double room during August festival, costing £89 no breakfast, had to pay for parking. At no point were we told the band would be playing outside our bedroom in the courtyard with smoke billowing from a wood burner into our room because the window does not shut. On return to our room at 9 pm it was full of smoke and the music was deafening. We complained but the ‘owner’ just kept saying you knew there was a festival on. Yes we did in the surrounding streets but not in our room! Refused to move us or do anything to help resolve the situation. Appalling customer service, bad attitude by the management. Had we been told the band was playing outside our room we would never have booked a room at this hotel.\\nRead less'"
      ]
     },
     "execution_count": 59,
     "metadata": {},
     "output_type": "execute_result"
    }
   ],
   "source": [
    "wrong_neg[\"all_text\"].iloc[0]"
   ]
  },
  {
   "cell_type": "code",
   "execution_count": 60,
   "metadata": {},
   "outputs": [
    {
     "data": {
      "text/plain": [
       "\"If you dont want any sleep stay here Do not stay in the hotel part above the pub and definitely avoid room 5 as the noise is absolutely horrendous everytime water is used you get woke up, I have stayed in the navigator too part which was fine, breakfast was fine,staff were fine but like i say if you want to sleep this ain't for you\""
      ]
     },
     "execution_count": 60,
     "metadata": {},
     "output_type": "execute_result"
    }
   ],
   "source": [
    "wrong_neg[\"all_text\"].iloc[1]"
   ]
  },
  {
   "cell_type": "code",
   "execution_count": 61,
   "metadata": {},
   "outputs": [
    {
     "data": {
      "text/html": [
       "<div>\n",
       "<style scoped>\n",
       "    .dataframe tbody tr th:only-of-type {\n",
       "        vertical-align: middle;\n",
       "    }\n",
       "\n",
       "    .dataframe tbody tr th {\n",
       "        vertical-align: top;\n",
       "    }\n",
       "\n",
       "    .dataframe thead th {\n",
       "        text-align: right;\n",
       "    }\n",
       "</style>\n",
       "<table border=\"1\" class=\"dataframe\">\n",
       "  <thead>\n",
       "    <tr style=\"text-align: right;\">\n",
       "      <th></th>\n",
       "      <th>Town</th>\n",
       "      <th>Category</th>\n",
       "      <th>Score</th>\n",
       "      <th>all_text</th>\n",
       "      <th>Polarity</th>\n",
       "      <th>Subjectivity</th>\n",
       "      <th>VNeg</th>\n",
       "      <th>VNeu</th>\n",
       "      <th>VPos</th>\n",
       "      <th>VComp</th>\n",
       "      <th>TB_score</th>\n",
       "      <th>VComp_score</th>\n",
       "    </tr>\n",
       "  </thead>\n",
       "  <tbody>\n",
       "    <tr>\n",
       "      <th>268</th>\n",
       "      <td>Arundel</td>\n",
       "      <td>Accommodation</td>\n",
       "      <td>1</td>\n",
       "      <td>Enjoyed our first family camping trip! Went fo...</td>\n",
       "      <td>0.227402</td>\n",
       "      <td>0.500588</td>\n",
       "      <td>0.085</td>\n",
       "      <td>0.824</td>\n",
       "      <td>0.091</td>\n",
       "      <td>-0.4833</td>\n",
       "      <td>1</td>\n",
       "      <td>-1</td>\n",
       "    </tr>\n",
       "    <tr>\n",
       "      <th>330</th>\n",
       "      <td>Arundel</td>\n",
       "      <td>Attractions</td>\n",
       "      <td>1</td>\n",
       "      <td>Coins I prefer to come here for coins to colle...</td>\n",
       "      <td>0.300000</td>\n",
       "      <td>0.533333</td>\n",
       "      <td>0.000</td>\n",
       "      <td>1.000</td>\n",
       "      <td>0.000</td>\n",
       "      <td>0.0000</td>\n",
       "      <td>1</td>\n",
       "      <td>-1</td>\n",
       "    </tr>\n",
       "  </tbody>\n",
       "</table>\n",
       "</div>"
      ],
      "text/plain": [
       "        Town       Category  Score  \\\n",
       "268  Arundel  Accommodation      1   \n",
       "330  Arundel    Attractions      1   \n",
       "\n",
       "                                              all_text  Polarity  \\\n",
       "268  Enjoyed our first family camping trip! Went fo...  0.227402   \n",
       "330  Coins I prefer to come here for coins to colle...  0.300000   \n",
       "\n",
       "     Subjectivity   VNeg   VNeu   VPos   VComp  TB_score  VComp_score  \n",
       "268      0.500588  0.085  0.824  0.091 -0.4833         1           -1  \n",
       "330      0.533333  0.000  1.000  0.000  0.0000         1           -1  "
      ]
     },
     "execution_count": 61,
     "metadata": {},
     "output_type": "execute_result"
    }
   ],
   "source": [
    "# Examine some reviews that VADER set as negative but user score was positive\n",
    "wrong_pos = wrong[wrong[\"VComp_score\"] == -1]\n",
    "wrong_pos.head(2)"
   ]
  },
  {
   "cell_type": "code",
   "execution_count": 62,
   "metadata": {},
   "outputs": [
    {
     "data": {
      "text/plain": [
       "(11, 12)"
      ]
     },
     "execution_count": 62,
     "metadata": {},
     "output_type": "execute_result"
    }
   ],
   "source": [
    "wrong_pos.shape"
   ]
  },
  {
   "cell_type": "code",
   "execution_count": 63,
   "metadata": {},
   "outputs": [
    {
     "data": {
      "text/plain": [
       "'Enjoyed our first family camping trip! Went for Friday / Saturday night at the end of May half term (2 kids 5 & 7 years old). Had a really enjoyable time - toilets/showers / sinks really kept well. All off the electricity grid so hot water is off in the middle of the day. Composting toilets but really no different to normal loos.\\n\\nHad a nice walk through the fields to the worlds end pub.\\n\\nThere’s a rope swing and slide for the kids (rope swing was too much for my 5 year old).\\n\\nWe cheated on the weather as only booked when we saw there was no rain!\\n\\nI could hear the road in the night (no bother for the kids) so if you are a very light sleeper you may want some ear plugs. But 5-stars still fair I think...'"
      ]
     },
     "execution_count": 63,
     "metadata": {},
     "output_type": "execute_result"
    }
   ],
   "source": [
    "wrong_pos[\"all_text\"].iloc[0]"
   ]
  },
  {
   "cell_type": "code",
   "execution_count": 64,
   "metadata": {},
   "outputs": [
    {
     "data": {
      "text/plain": [
       "'Coins I prefer to come here for coins to collect, it’s a long way (an hour by buss) but the coins are all fairly priced and you get a lot of info from the very knowledgeable owner!'"
      ]
     },
     "execution_count": 64,
     "metadata": {},
     "output_type": "execute_result"
    }
   ],
   "source": [
    "wrong_pos[\"all_text\"].iloc[1]"
   ]
  },
  {
   "cell_type": "markdown",
   "metadata": {},
   "source": [
    "* Vader misclassified more negative reviews as positive than the reverse\n",
    "* Looking at examples, these appear to be quite long and/or contain mixed sentiments"
   ]
  },
  {
   "cell_type": "markdown",
   "metadata": {},
   "source": [
    "# Section 5: Relationship VADER polarity and length of review"
   ]
  },
  {
   "cell_type": "markdown",
   "metadata": {},
   "source": [
    "Does the length of review affect the polarity that VADER gives?"
   ]
  },
  {
   "cell_type": "markdown",
   "metadata": {},
   "source": [
    "## VADER classed as positive when the user score is negative"
   ]
  },
  {
   "cell_type": "code",
   "execution_count": 65,
   "metadata": {},
   "outputs": [],
   "source": [
    "# Looking at reviews VADER misclassified as positive when they are scored negative by the user\n",
    "wrong_neg[\"Num_tokens\"] = wrong_neg[\"all_text\"].apply(lambda x: len(nltk.word_tokenize(x)))"
   ]
  },
  {
   "cell_type": "code",
   "execution_count": 66,
   "metadata": {},
   "outputs": [
    {
     "data": {
      "text/html": [
       "<div>\n",
       "<style scoped>\n",
       "    .dataframe tbody tr th:only-of-type {\n",
       "        vertical-align: middle;\n",
       "    }\n",
       "\n",
       "    .dataframe tbody tr th {\n",
       "        vertical-align: top;\n",
       "    }\n",
       "\n",
       "    .dataframe thead th {\n",
       "        text-align: right;\n",
       "    }\n",
       "</style>\n",
       "<table border=\"1\" class=\"dataframe\">\n",
       "  <thead>\n",
       "    <tr style=\"text-align: right;\">\n",
       "      <th></th>\n",
       "      <th>Town</th>\n",
       "      <th>Category</th>\n",
       "      <th>Score</th>\n",
       "      <th>all_text</th>\n",
       "      <th>Polarity</th>\n",
       "      <th>Subjectivity</th>\n",
       "      <th>VNeg</th>\n",
       "      <th>VNeu</th>\n",
       "      <th>VPos</th>\n",
       "      <th>VComp</th>\n",
       "      <th>TB_score</th>\n",
       "      <th>VComp_score</th>\n",
       "      <th>Num_tokens</th>\n",
       "    </tr>\n",
       "  </thead>\n",
       "  <tbody>\n",
       "    <tr>\n",
       "      <th>9</th>\n",
       "      <td>Arundel</td>\n",
       "      <td>Accommodation</td>\n",
       "      <td>-1</td>\n",
       "      <td>Appalling customer service Booked a double roo...</td>\n",
       "      <td>-0.176852</td>\n",
       "      <td>0.375926</td>\n",
       "      <td>0.123</td>\n",
       "      <td>0.751</td>\n",
       "      <td>0.126</td>\n",
       "      <td>0.5255</td>\n",
       "      <td>-1</td>\n",
       "      <td>1</td>\n",
       "      <td>153</td>\n",
       "    </tr>\n",
       "    <tr>\n",
       "      <th>12</th>\n",
       "      <td>Bognor</td>\n",
       "      <td>Accommodation</td>\n",
       "      <td>-1</td>\n",
       "      <td>If you dont want any sleep stay here Do not st...</td>\n",
       "      <td>0.206667</td>\n",
       "      <td>0.500000</td>\n",
       "      <td>0.072</td>\n",
       "      <td>0.799</td>\n",
       "      <td>0.129</td>\n",
       "      <td>0.4753</td>\n",
       "      <td>1</td>\n",
       "      <td>1</td>\n",
       "      <td>71</td>\n",
       "    </tr>\n",
       "    <tr>\n",
       "      <th>20</th>\n",
       "      <td>Arundel</td>\n",
       "      <td>Food</td>\n",
       "      <td>-1</td>\n",
       "      <td>Back to square one Historically this has never...</td>\n",
       "      <td>0.056818</td>\n",
       "      <td>0.456818</td>\n",
       "      <td>0.063</td>\n",
       "      <td>0.847</td>\n",
       "      <td>0.090</td>\n",
       "      <td>0.6248</td>\n",
       "      <td>1</td>\n",
       "      <td>1</td>\n",
       "      <td>192</td>\n",
       "    </tr>\n",
       "    <tr>\n",
       "      <th>29</th>\n",
       "      <td>Arundel</td>\n",
       "      <td>Accommodation</td>\n",
       "      <td>-1</td>\n",
       "      <td>ABSOLUTELY FILTHY This was my first and last t...</td>\n",
       "      <td>-0.029431</td>\n",
       "      <td>0.461070</td>\n",
       "      <td>0.087</td>\n",
       "      <td>0.812</td>\n",
       "      <td>0.102</td>\n",
       "      <td>0.8587</td>\n",
       "      <td>-1</td>\n",
       "      <td>1</td>\n",
       "      <td>465</td>\n",
       "    </tr>\n",
       "    <tr>\n",
       "      <th>30</th>\n",
       "      <td>Littlehampton</td>\n",
       "      <td>Accommodation</td>\n",
       "      <td>-1</td>\n",
       "      <td>Half Term Break Site Complex not big enough fo...</td>\n",
       "      <td>0.128384</td>\n",
       "      <td>0.461171</td>\n",
       "      <td>0.083</td>\n",
       "      <td>0.777</td>\n",
       "      <td>0.140</td>\n",
       "      <td>0.9830</td>\n",
       "      <td>1</td>\n",
       "      <td>1</td>\n",
       "      <td>404</td>\n",
       "    </tr>\n",
       "  </tbody>\n",
       "</table>\n",
       "</div>"
      ],
      "text/plain": [
       "             Town       Category  Score  \\\n",
       "9         Arundel  Accommodation     -1   \n",
       "12         Bognor  Accommodation     -1   \n",
       "20        Arundel           Food     -1   \n",
       "29        Arundel  Accommodation     -1   \n",
       "30  Littlehampton  Accommodation     -1   \n",
       "\n",
       "                                             all_text  Polarity  Subjectivity  \\\n",
       "9   Appalling customer service Booked a double roo... -0.176852      0.375926   \n",
       "12  If you dont want any sleep stay here Do not st...  0.206667      0.500000   \n",
       "20  Back to square one Historically this has never...  0.056818      0.456818   \n",
       "29  ABSOLUTELY FILTHY This was my first and last t... -0.029431      0.461070   \n",
       "30  Half Term Break Site Complex not big enough fo...  0.128384      0.461171   \n",
       "\n",
       "     VNeg   VNeu   VPos   VComp  TB_score  VComp_score  Num_tokens  \n",
       "9   0.123  0.751  0.126  0.5255        -1            1         153  \n",
       "12  0.072  0.799  0.129  0.4753         1            1          71  \n",
       "20  0.063  0.847  0.090  0.6248         1            1         192  \n",
       "29  0.087  0.812  0.102  0.8587        -1            1         465  \n",
       "30  0.083  0.777  0.140  0.9830         1            1         404  "
      ]
     },
     "execution_count": 66,
     "metadata": {},
     "output_type": "execute_result"
    }
   ],
   "source": [
    "wrong_neg.head()"
   ]
  },
  {
   "cell_type": "code",
   "execution_count": 67,
   "metadata": {},
   "outputs": [
    {
     "data": {
      "image/png": "[encoded data removed]",
      "text/plain": [
       "<Figure size 432x288 with 1 Axes>"
      ]
     },
     "metadata": {},
     "output_type": "display_data"
    }
   ],
   "source": [
    "# Plot a scatter plot of the number of tokens and the vader compound polarity score - log used to spread data out\n",
    "fig, ax = plt.subplots()\n",
    "ax.set_facecolor(\"White\")\n",
    "plt.scatter(x = np.log(wrong_neg[\"Num_tokens\"]), y = wrong_neg[\"VComp\"])\n",
    "plt.xlabel(\"Log Number of Tokens\")\n",
    "plt.ylabel(\"Vader Compound Polarity Score\")\n",
    "ax = plt.title(\"Polarity Against Number of Words for Bad Reviews Misclassified\")"
   ]
  },
  {
   "cell_type": "code",
   "execution_count": 68,
   "metadata": {},
   "outputs": [
    {
     "data": {
      "text/plain": [
       "0.28761602688563237"
      ]
     },
     "execution_count": 68,
     "metadata": {},
     "output_type": "execute_result"
    }
   ],
   "source": [
    "# Correlation between the two series\n",
    "pd.Series.corr(wrong_neg[\"Num_tokens\"],wrong_neg[\"VComp\"])"
   ]
  },
  {
   "cell_type": "markdown",
   "metadata": {},
   "source": [
    "Seems that the longer the review the more likely VADER is to class it as positive, thereby perhaps missing longer bad reviews"
   ]
  },
  {
   "cell_type": "markdown",
   "metadata": {},
   "source": [
    " ## VADER classed as negative when the user score is positive"
   ]
  },
  {
   "cell_type": "code",
   "execution_count": 69,
   "metadata": {},
   "outputs": [],
   "source": [
    "# Looking at reviews VADER misclassified as negative when they are scored positive by the user\n",
    "wrong_pos[\"Num_tokens\"] = wrong_pos[\"all_text\"].apply(lambda x: len(nltk.word_tokenize(x)))"
   ]
  },
  {
   "cell_type": "code",
   "execution_count": 70,
   "metadata": {},
   "outputs": [
    {
     "data": {
      "text/html": [
       "<div>\n",
       "<style scoped>\n",
       "    .dataframe tbody tr th:only-of-type {\n",
       "        vertical-align: middle;\n",
       "    }\n",
       "\n",
       "    .dataframe tbody tr th {\n",
       "        vertical-align: top;\n",
       "    }\n",
       "\n",
       "    .dataframe thead th {\n",
       "        text-align: right;\n",
       "    }\n",
       "</style>\n",
       "<table border=\"1\" class=\"dataframe\">\n",
       "  <thead>\n",
       "    <tr style=\"text-align: right;\">\n",
       "      <th></th>\n",
       "      <th>Town</th>\n",
       "      <th>Category</th>\n",
       "      <th>Score</th>\n",
       "      <th>all_text</th>\n",
       "      <th>Polarity</th>\n",
       "      <th>Subjectivity</th>\n",
       "      <th>VNeg</th>\n",
       "      <th>VNeu</th>\n",
       "      <th>VPos</th>\n",
       "      <th>VComp</th>\n",
       "      <th>TB_score</th>\n",
       "      <th>VComp_score</th>\n",
       "      <th>Num_tokens</th>\n",
       "    </tr>\n",
       "  </thead>\n",
       "  <tbody>\n",
       "    <tr>\n",
       "      <th>268</th>\n",
       "      <td>Arundel</td>\n",
       "      <td>Accommodation</td>\n",
       "      <td>1</td>\n",
       "      <td>Enjoyed our first family camping trip! Went fo...</td>\n",
       "      <td>0.227402</td>\n",
       "      <td>0.500588</td>\n",
       "      <td>0.085</td>\n",
       "      <td>0.824</td>\n",
       "      <td>0.091</td>\n",
       "      <td>-0.4833</td>\n",
       "      <td>1</td>\n",
       "      <td>-1</td>\n",
       "      <td>160</td>\n",
       "    </tr>\n",
       "    <tr>\n",
       "      <th>330</th>\n",
       "      <td>Arundel</td>\n",
       "      <td>Attractions</td>\n",
       "      <td>1</td>\n",
       "      <td>Coins I prefer to come here for coins to colle...</td>\n",
       "      <td>0.300000</td>\n",
       "      <td>0.533333</td>\n",
       "      <td>0.000</td>\n",
       "      <td>1.000</td>\n",
       "      <td>0.000</td>\n",
       "      <td>0.0000</td>\n",
       "      <td>1</td>\n",
       "      <td>-1</td>\n",
       "      <td>43</td>\n",
       "    </tr>\n",
       "    <tr>\n",
       "      <th>348</th>\n",
       "      <td>Arundel</td>\n",
       "      <td>Accommodation</td>\n",
       "      <td>1</td>\n",
       "      <td>Good value but can be expensive in the height ...</td>\n",
       "      <td>0.097801</td>\n",
       "      <td>0.566435</td>\n",
       "      <td>0.140</td>\n",
       "      <td>0.741</td>\n",
       "      <td>0.119</td>\n",
       "      <td>-0.3045</td>\n",
       "      <td>1</td>\n",
       "      <td>-1</td>\n",
       "      <td>138</td>\n",
       "    </tr>\n",
       "    <tr>\n",
       "      <th>434</th>\n",
       "      <td>Bognor</td>\n",
       "      <td>Food</td>\n",
       "      <td>1</td>\n",
       "      <td>Dinner The whole experience was exemplary. The...</td>\n",
       "      <td>-0.013000</td>\n",
       "      <td>0.303000</td>\n",
       "      <td>0.128</td>\n",
       "      <td>0.815</td>\n",
       "      <td>0.057</td>\n",
       "      <td>-0.3818</td>\n",
       "      <td>-1</td>\n",
       "      <td>-1</td>\n",
       "      <td>37</td>\n",
       "    </tr>\n",
       "    <tr>\n",
       "      <th>699</th>\n",
       "      <td>Bognor</td>\n",
       "      <td>Food</td>\n",
       "      <td>1</td>\n",
       "      <td>Takeaway  Local and really good. First time we...</td>\n",
       "      <td>0.178333</td>\n",
       "      <td>0.481667</td>\n",
       "      <td>0.178</td>\n",
       "      <td>0.767</td>\n",
       "      <td>0.054</td>\n",
       "      <td>-0.7408</td>\n",
       "      <td>1</td>\n",
       "      <td>-1</td>\n",
       "      <td>57</td>\n",
       "    </tr>\n",
       "  </tbody>\n",
       "</table>\n",
       "</div>"
      ],
      "text/plain": [
       "        Town       Category  Score  \\\n",
       "268  Arundel  Accommodation      1   \n",
       "330  Arundel    Attractions      1   \n",
       "348  Arundel  Accommodation      1   \n",
       "434   Bognor           Food      1   \n",
       "699   Bognor           Food      1   \n",
       "\n",
       "                                              all_text  Polarity  \\\n",
       "268  Enjoyed our first family camping trip! Went fo...  0.227402   \n",
       "330  Coins I prefer to come here for coins to colle...  0.300000   \n",
       "348  Good value but can be expensive in the height ...  0.097801   \n",
       "434  Dinner The whole experience was exemplary. The... -0.013000   \n",
       "699  Takeaway  Local and really good. First time we...  0.178333   \n",
       "\n",
       "     Subjectivity   VNeg   VNeu   VPos   VComp  TB_score  VComp_score  \\\n",
       "268      0.500588  0.085  0.824  0.091 -0.4833         1           -1   \n",
       "330      0.533333  0.000  1.000  0.000  0.0000         1           -1   \n",
       "348      0.566435  0.140  0.741  0.119 -0.3045         1           -1   \n",
       "434      0.303000  0.128  0.815  0.057 -0.3818        -1           -1   \n",
       "699      0.481667  0.178  0.767  0.054 -0.7408         1           -1   \n",
       "\n",
       "     Num_tokens  \n",
       "268         160  \n",
       "330          43  \n",
       "348         138  \n",
       "434          37  \n",
       "699          57  "
      ]
     },
     "execution_count": 70,
     "metadata": {},
     "output_type": "execute_result"
    }
   ],
   "source": [
    "wrong_pos.head()"
   ]
  },
  {
   "cell_type": "code",
   "execution_count": 71,
   "metadata": {},
   "outputs": [
    {
     "data": {
      "image/png": "[encoded data removed]",
      "text/plain": [
       "<Figure size 432x288 with 1 Axes>"
      ]
     },
     "metadata": {},
     "output_type": "display_data"
    }
   ],
   "source": [
    "fig, ax = plt.subplots()\n",
    "ax.set_facecolor(\"White\")\n",
    "plt.scatter(x = np.log(wrong_pos[\"Num_tokens\"]), y = wrong_pos[\"VComp\"])\n",
    "plt.xlabel(\"Number of Tokens\")\n",
    "plt.ylabel(\"Vader Compound Polarity Score\")\n",
    "ax = plt.title(\"Polarity Against Number of Words for Positive Reviews Misclassified\")"
   ]
  },
  {
   "cell_type": "code",
   "execution_count": 72,
   "metadata": {},
   "outputs": [
    {
     "data": {
      "text/plain": [
       "0.28761602688563237"
      ]
     },
     "execution_count": 72,
     "metadata": {},
     "output_type": "execute_result"
    }
   ],
   "source": [
    "pd.Series.corr(wrong_neg[\"Num_tokens\"], wrong_neg[\"VComp\"])"
   ]
  },
  {
   "cell_type": "markdown",
   "metadata": {},
   "source": [
    "There are not many points in the scatter plot but there may be a negative correlation between the number of tokens and the Vader score - more likely to give negative score with shorter reviews?"
   ]
  },
  {
   "cell_type": "markdown",
   "metadata": {},
   "source": [
    "# Section 6: Run VADER with cleaned reviews"
   ]
  },
  {
   "cell_type": "code",
   "execution_count": 73,
   "metadata": {},
   "outputs": [
    {
     "data": {
      "text/html": [
       "<div>\n",
       "<style scoped>\n",
       "    .dataframe tbody tr th:only-of-type {\n",
       "        vertical-align: middle;\n",
       "    }\n",
       "\n",
       "    .dataframe tbody tr th {\n",
       "        vertical-align: top;\n",
       "    }\n",
       "\n",
       "    .dataframe thead th {\n",
       "        text-align: right;\n",
       "    }\n",
       "</style>\n",
       "<table border=\"1\" class=\"dataframe\">\n",
       "  <thead>\n",
       "    <tr style=\"text-align: right;\">\n",
       "      <th></th>\n",
       "      <th>OrgInd</th>\n",
       "      <th>Town</th>\n",
       "      <th>Category</th>\n",
       "      <th>Score</th>\n",
       "      <th>Review</th>\n",
       "      <th>Review_clean</th>\n",
       "      <th>Pos</th>\n",
       "    </tr>\n",
       "  </thead>\n",
       "  <tbody>\n",
       "    <tr>\n",
       "      <th>0</th>\n",
       "      <td>0</td>\n",
       "      <td>Arundel</td>\n",
       "      <td>Food</td>\n",
       "      <td>1</td>\n",
       "      <td>Very disappointing Three of us ate on a quiet ...</td>\n",
       "      <td>disappointing three u ate quiet night first go...</td>\n",
       "      <td>[('disappointing', 'JJ'), ('three', 'CD'), ('u...</td>\n",
       "    </tr>\n",
       "    <tr>\n",
       "      <th>1</th>\n",
       "      <td>1</td>\n",
       "      <td>Bognor</td>\n",
       "      <td>Accommodation</td>\n",
       "      <td>0</td>\n",
       "      <td>Amazing place!!!  We had a lovely stay at the ...</td>\n",
       "      <td>amazing place lovely stay inklenook room world...</td>\n",
       "      <td>[('amazing', 'JJ'), ('place', 'NN'), ('lovely'...</td>\n",
       "    </tr>\n",
       "  </tbody>\n",
       "</table>\n",
       "</div>"
      ],
      "text/plain": [
       "   OrgInd     Town       Category  Score  \\\n",
       "0       0  Arundel           Food      1   \n",
       "1       1   Bognor  Accommodation      0   \n",
       "\n",
       "                                              Review  \\\n",
       "0  Very disappointing Three of us ate on a quiet ...   \n",
       "1  Amazing place!!!  We had a lovely stay at the ...   \n",
       "\n",
       "                                        Review_clean  \\\n",
       "0  disappointing three u ate quiet night first go...   \n",
       "1  amazing place lovely stay inklenook room world...   \n",
       "\n",
       "                                                 Pos  \n",
       "0  [('disappointing', 'JJ'), ('three', 'CD'), ('u...  \n",
       "1  [('amazing', 'JJ'), ('place', 'NN'), ('lovely'...  "
      ]
     },
     "execution_count": 73,
     "metadata": {},
     "output_type": "execute_result"
    }
   ],
   "source": [
    "df_clean = pd.read_csv(\"cleanedsampletext.csv\",index_col = 0)\n",
    "df_clean.head(2)"
   ]
  },
  {
   "cell_type": "code",
   "execution_count": 74,
   "metadata": {},
   "outputs": [],
   "source": [
    "# Put bad reviews as -1 and good reviews as 1\n",
    "df_clean.Score.replace(1, -1, inplace = True)\n",
    "df_clean.Score.replace(0, 1, inplace = True)"
   ]
  },
  {
   "cell_type": "code",
   "execution_count": 75,
   "metadata": {},
   "outputs": [],
   "source": [
    "df_clean = df_clean[[\"Town\",\"Category\",\"Review_clean\",\"Score\"]]"
   ]
  },
  {
   "cell_type": "code",
   "execution_count": 76,
   "metadata": {},
   "outputs": [],
   "source": [
    "# Run TextBlob against each review in the dataframe\n",
    "df_clean[\"Polarity\"] = df_clean[\"Review_clean\"].apply(lambda x: TextBlob(x).sentiment.polarity)\n",
    "df_clean[\"Subjectivity\"] = df_clean[\"Review_clean\"].apply(lambda x: TextBlob(x).sentiment.subjectivity)"
   ]
  },
  {
   "cell_type": "code",
   "execution_count": 77,
   "metadata": {},
   "outputs": [],
   "source": [
    "# Run VADER against each review in the dataframe\n",
    "df_clean[\"VNeg\"] = df_clean[\"Review_clean\"].apply(lambda x: sia.polarity_scores(x)['neg'])\n",
    "df_clean[\"VNeu\"] = df_clean[\"Review_clean\"].apply(lambda x: sia.polarity_scores(x)['neu'])\n",
    "df_clean[\"VPos\"] = df_clean[\"Review_clean\"].apply(lambda x: sia.polarity_scores(x)['pos'])\n",
    "df_clean[\"VComp\"] = df_clean[\"Review_clean\"].apply(lambda x: sia.polarity_scores(x)['compound'])"
   ]
  },
  {
   "cell_type": "code",
   "execution_count": 78,
   "metadata": {},
   "outputs": [],
   "source": [
    "# Set polarities TextBlob\n",
    "conditions = [(df_clean[\"Polarity\"]>0),df_clean[\"Polarity\"]<=0]\n",
    "choices = [1,-1]\n",
    "df_clean[\"TB_score\"] = np.select(conditions,choices,default = 'null')\n",
    "df_clean[\"TB_score\"] = df_clean[\"TB_score\"].astype('int64')"
   ]
  },
  {
   "cell_type": "code",
   "execution_count": 79,
   "metadata": {},
   "outputs": [],
   "source": [
    "# Set polarities VADER\n",
    "conditions = [(df_clean[\"VComp\"]>=0.05),df_clean[\"VComp\"]<0.05]\n",
    "choices = [1,-1]\n",
    "df_clean[\"VComp_score\"] = np.select(conditions,choices,default = 'null')\n",
    "df_clean[\"VComp_score\"] = df_clean[\"VComp_score\"].astype('int32')"
   ]
  },
  {
   "cell_type": "code",
   "execution_count": 80,
   "metadata": {},
   "outputs": [
    {
     "data": {
      "image/png": "[encoded data removed]",
      "text/plain": [
       "<Figure size 432x288 with 2 Axes>"
      ]
     },
     "metadata": {},
     "output_type": "display_data"
    }
   ],
   "source": [
    "confusion_matrix = pd.crosstab(df_clean['Score'], df_clean['TB_score'], rownames=['User_score'], colnames=['TextBlob_score'])\n",
    "sns.heatmap(confusion_matrix, annot=True,fmt=\".0f\")\n",
    "plt.show()"
   ]
  },
  {
   "cell_type": "code",
   "execution_count": 81,
   "metadata": {},
   "outputs": [
    {
     "data": {
      "text/plain": [
       "-1    1301\n",
       " 1    1301\n",
       "Name: Score, dtype: int64"
      ]
     },
     "execution_count": 81,
     "metadata": {},
     "output_type": "execute_result"
    }
   ],
   "source": [
    "df_clean[\"Score\"].value_counts()"
   ]
  },
  {
   "cell_type": "code",
   "execution_count": 82,
   "metadata": {},
   "outputs": [
    {
     "data": {
      "text/plain": [
       "(80.86087624903921,\n",
       " 98.19927971188476,\n",
       " 62.874711760184475,\n",
       " 76.6635426429241,\n",
       " 80.86087624903921)"
      ]
     },
     "execution_count": 82,
     "metadata": {},
     "output_type": "execute_result"
    }
   ],
   "source": [
    "metrics(df_clean['Score'], df_clean['TB_score'])"
   ]
  },
  {
   "cell_type": "code",
   "execution_count": 83,
   "metadata": {},
   "outputs": [
    {
     "data": {
      "image/png": "[encoded data removed]",
      "text/plain": [
       "<Figure size 432x288 with 2 Axes>"
      ]
     },
     "metadata": {},
     "output_type": "display_data"
    }
   ],
   "source": [
    "confusion_matrix = pd.crosstab(df_clean['Score'], df_clean['VComp_score'], rownames=['User_score'], colnames=['Vader_score'])\n",
    "sns.heatmap(confusion_matrix, annot=True,fmt=\".0f\")\n",
    "plt.show()"
   ]
  },
  {
   "cell_type": "code",
   "execution_count": 84,
   "metadata": {},
   "outputs": [
    {
     "data": {
      "text/plain": [
       "(77.32513451191392,\n",
       " 98.63201094391245,\n",
       " 55.41890853189854,\n",
       " 70.96456692913385,\n",
       " 77.32513451191392)"
      ]
     },
     "execution_count": 84,
     "metadata": {},
     "output_type": "execute_result"
    }
   ],
   "source": [
    "metrics(df_clean['Score'], df_clean['VComp_score'])"
   ]
  },
  {
   "cell_type": "markdown",
   "metadata": {},
   "source": [
    "# Section 7: Summary"
   ]
  },
  {
   "cell_type": "markdown",
   "metadata": {},
   "source": [
    "Summary\n",
    "\n",
    "* There appears to be a negative relationship between the length of review and the VADER score.\n",
    "* For negative reviews misclassified as positive, the longer reviews are more positive \n",
    "* There are very few good reviews misclassed as bad reviews.\n",
    "* Therefore where people write long and negative reviews VADER does not always pick up the negative sentiment and tends to classify the review as positive\n",
    "* When the data was cleaned, VADER's results generally got worse but TextBlob's improved \n",
    "* Recall on both is still fairly low, with the best recall of % on TextBlob with the cleaned text."
   ]
  },
  {
   "cell_type": "markdown",
   "metadata": {},
   "source": [
    "The Rules Based Sentiment Analysers achieve good accuracy but recall is poor. They appear to struggle with longer review text when classifying \"Bad\" reviews. They do not appear to account for context well in these cases. "
   ]
  }
 ],
 "metadata": {
  "kernelspec": {
   "display_name": "Python 3",
   "language": "python",
   "name": "python3"
  },
  "language_info": {
   "codemirror_mode": {
    "name": "ipython",
    "version": 3
   },
   "file_extension": ".py",
   "mimetype": "text/x-python",
   "name": "python",
   "nbconvert_exporter": "python",
   "pygments_lexer": "ipython3",
   "version": "3.7.10"
  }
 },
 "nbformat": 4,
 "nbformat_minor": 2
}
