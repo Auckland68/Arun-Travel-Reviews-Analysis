{
 "cells": [
  {
   "cell_type": "markdown",
   "metadata": {},
   "source": [
    "# Using TextBlob and Vader as Out of the Box Analysers"
   ]
  },
  {
   "cell_type": "markdown",
   "metadata": {},
   "source": [
    "This notebook uses two 'Out of the Box' or Rules-based sentiment analysers, TextBlob and Vader to determine the sentiment of the training set reviews. The analyser is not learning anything, it is simply treating each review separately and comparing it to a set of rules. The data can be fed raw into the analyser (although cleaning can be used first) and does not need the extensive cleaning of machine learning models, which make them very easy and quick to use.\n",
    "\n",
    "* Section 1 - import libraries and dataset\n",
    "* Section 2 - Pre-processing\n",
    "\n",
    "* Section 2 - analyser performance against sample phrases  \n",
    "* Section 3 - TextBlob and VADER \n",
    "* Section 4 - Comparison of analyser scores with user scores\n",
    "* Section 5 - VADER scores compared to review length\n",
    "* Section 6 - Rerunning results with cleaned review text\n",
    "* Section 7 - Summary\n",
    "\n",
    "*Note: Rating refers to the user rating and score is the binary score allocated - with 1 referring to the majority class of positive reviews and -1 relating to the minority class of negative reviews.*\n",
    "\n",
    "Data needed to run notebook:\n",
    "\n",
    "* sampled_data.csv\n",
    "* cleanedsampletext.csv"
   ]
  },
  {
   "cell_type": "markdown",
   "metadata": {},
   "source": [
    "# Section 1: Import libraries and Dataset"
   ]
  },
  {
   "cell_type": "code",
   "execution_count": 1,
   "metadata": {},
   "outputs": [],
   "source": [
    "import pandas as pd\n",
    "import numpy as np\n",
    "import pickle\n",
    "import matplotlib.pyplot as plt\n",
    "%matplotlib inline\n",
    "import seaborn as sns\n",
    "sns.set()\n",
    "import nltk\n",
    "from textblob import TextBlob\n",
    "from vaderSentiment.vaderSentiment import SentimentIntensityAnalyzer\n",
    "import nltk\n",
    "from sklearn.metrics import f1_score,precision_score,recall_score,accuracy_score, roc_auc_score\n",
    "import warnings\n",
    "warnings.filterwarnings(\"ignore\")"
   ]
  },
  {
   "cell_type": "code",
   "execution_count": 30,
   "metadata": {},
   "outputs": [],
   "source": [
    "df = pd.read_csv('sampled_data.csv',index_col = 0)"
   ]
  },
  {
   "cell_type": "code",
   "execution_count": 31,
   "metadata": {},
   "outputs": [
    {
     "data": {
      "text/html": [
       "<div>\n",
       "<style scoped>\n",
       "    .dataframe tbody tr th:only-of-type {\n",
       "        vertical-align: middle;\n",
       "    }\n",
       "\n",
       "    .dataframe tbody tr th {\n",
       "        vertical-align: top;\n",
       "    }\n",
       "\n",
       "    .dataframe thead th {\n",
       "        text-align: right;\n",
       "    }\n",
       "</style>\n",
       "<table border=\"1\" class=\"dataframe\">\n",
       "  <thead>\n",
       "    <tr style=\"text-align: right;\">\n",
       "      <th></th>\n",
       "      <th>Name</th>\n",
       "      <th>Category</th>\n",
       "      <th>Town</th>\n",
       "      <th>Type</th>\n",
       "      <th>Contributions</th>\n",
       "      <th>Title</th>\n",
       "      <th>Review</th>\n",
       "      <th>Rating</th>\n",
       "      <th>Date</th>\n",
       "      <th>LocCode</th>\n",
       "      <th>Cuisine</th>\n",
       "      <th>Score</th>\n",
       "    </tr>\n",
       "  </thead>\n",
       "  <tbody>\n",
       "    <tr>\n",
       "      <th>0</th>\n",
       "      <td>The Spur</td>\n",
       "      <td>Food</td>\n",
       "      <td>Arundel</td>\n",
       "      <td>Pub/Bar</td>\n",
       "      <td>14</td>\n",
       "      <td>Very disappointing</td>\n",
       "      <td>Three of us ate on a quiet night. First of all...</td>\n",
       "      <td>2</td>\n",
       "      <td>4.0</td>\n",
       "      <td>2.0</td>\n",
       "      <td>British</td>\n",
       "      <td>1</td>\n",
       "    </tr>\n",
       "    <tr>\n",
       "      <th>1</th>\n",
       "      <td>Inglenook</td>\n",
       "      <td>Accommodation</td>\n",
       "      <td>Bognor</td>\n",
       "      <td>Hotel</td>\n",
       "      <td>10</td>\n",
       "      <td>Amazing place!!!</td>\n",
       "      <td>We had a lovely stay at the Inklenook ..room w...</td>\n",
       "      <td>5</td>\n",
       "      <td>1.0</td>\n",
       "      <td>1.0</td>\n",
       "      <td>0</td>\n",
       "      <td>0</td>\n",
       "    </tr>\n",
       "  </tbody>\n",
       "</table>\n",
       "</div>"
      ],
      "text/plain": [
       "        Name       Category     Town      Type  Contributions  \\\n",
       "0   The Spur           Food  Arundel   Pub/Bar             14   \n",
       "1  Inglenook  Accommodation   Bognor     Hotel             10   \n",
       "\n",
       "                Title                                             Review  \\\n",
       "0  Very disappointing  Three of us ate on a quiet night. First of all...   \n",
       "1   Amazing place!!!   We had a lovely stay at the Inklenook ..room w...   \n",
       "\n",
       "   Rating  Date  LocCode  Cuisine  Score  \n",
       "0       2   4.0      2.0  British      1  \n",
       "1       5   1.0      1.0        0      0  "
      ]
     },
     "execution_count": 31,
     "metadata": {},
     "output_type": "execute_result"
    }
   ],
   "source": [
    "df.head(2)"
   ]
  },
  {
   "cell_type": "code",
   "execution_count": 32,
   "metadata": {},
   "outputs": [],
   "source": [
    "# Function to select columns of interest, join title and review, drop unwanted columns and reset index\n",
    "def proc(df):\n",
    "    df = df[[\"Town\",\"Category\",\"Title\",\"Review\",\"Score\"]]\n",
    "    df[\"all_text\"] = df[\"Title\"] +\" \"+ df[\"Review\"]\n",
    "    df.drop(columns = [\"Title\",\"Review\"],axis = 1, inplace = True)\n",
    "    df.columns = [\"Town\",\"Category\",\"Score\",\"all_text\"]\n",
    "    return df"
   ]
  },
  {
   "cell_type": "code",
   "execution_count": 33,
   "metadata": {},
   "outputs": [],
   "source": [
    "df = proc(df)"
   ]
  },
  {
   "cell_type": "code",
   "execution_count": 34,
   "metadata": {},
   "outputs": [
    {
     "data": {
      "text/html": [
       "<div>\n",
       "<style scoped>\n",
       "    .dataframe tbody tr th:only-of-type {\n",
       "        vertical-align: middle;\n",
       "    }\n",
       "\n",
       "    .dataframe tbody tr th {\n",
       "        vertical-align: top;\n",
       "    }\n",
       "\n",
       "    .dataframe thead th {\n",
       "        text-align: right;\n",
       "    }\n",
       "</style>\n",
       "<table border=\"1\" class=\"dataframe\">\n",
       "  <thead>\n",
       "    <tr style=\"text-align: right;\">\n",
       "      <th></th>\n",
       "      <th>Town</th>\n",
       "      <th>Category</th>\n",
       "      <th>Score</th>\n",
       "      <th>all_text</th>\n",
       "    </tr>\n",
       "  </thead>\n",
       "  <tbody>\n",
       "    <tr>\n",
       "      <th>0</th>\n",
       "      <td>Arundel</td>\n",
       "      <td>Food</td>\n",
       "      <td>1</td>\n",
       "      <td>Very disappointing Three of us ate on a quiet ...</td>\n",
       "    </tr>\n",
       "    <tr>\n",
       "      <th>1</th>\n",
       "      <td>Bognor</td>\n",
       "      <td>Accommodation</td>\n",
       "      <td>0</td>\n",
       "      <td>Amazing place!!!  We had a lovely stay at the ...</td>\n",
       "    </tr>\n",
       "    <tr>\n",
       "      <th>2</th>\n",
       "      <td>Bognor</td>\n",
       "      <td>Food</td>\n",
       "      <td>0</td>\n",
       "      <td>Seaside Cafe Great cafe, located near to shine...</td>\n",
       "    </tr>\n",
       "    <tr>\n",
       "      <th>3</th>\n",
       "      <td>Arundel</td>\n",
       "      <td>Food</td>\n",
       "      <td>0</td>\n",
       "      <td>Delicious Tasty Roast Had the most delicious t...</td>\n",
       "    </tr>\n",
       "    <tr>\n",
       "      <th>4</th>\n",
       "      <td>Littlehampton</td>\n",
       "      <td>Food</td>\n",
       "      <td>1</td>\n",
       "      <td>High priced low volume Beautiful setting, grea...</td>\n",
       "    </tr>\n",
       "  </tbody>\n",
       "</table>\n",
       "</div>"
      ],
      "text/plain": [
       "            Town       Category  Score  \\\n",
       "0        Arundel           Food      1   \n",
       "1         Bognor  Accommodation      0   \n",
       "2         Bognor           Food      0   \n",
       "3        Arundel           Food      0   \n",
       "4  Littlehampton           Food      1   \n",
       "\n",
       "                                            all_text  \n",
       "0  Very disappointing Three of us ate on a quiet ...  \n",
       "1  Amazing place!!!  We had a lovely stay at the ...  \n",
       "2  Seaside Cafe Great cafe, located near to shine...  \n",
       "3  Delicious Tasty Roast Had the most delicious t...  \n",
       "4  High priced low volume Beautiful setting, grea...  "
      ]
     },
     "execution_count": 34,
     "metadata": {},
     "output_type": "execute_result"
    }
   ],
   "source": [
    "df.head()"
   ]
  },
  {
   "cell_type": "markdown",
   "metadata": {},
   "source": [
    "# Section 2: Preprocessing"
   ]
  },
  {
   "cell_type": "code",
   "execution_count": 36,
   "metadata": {},
   "outputs": [],
   "source": [
    "# Put bad reviews as -1 and good reviews as 1\n",
    "df.Score.replace(1, -1, inplace = True)\n",
    "df.Score.replace(0, 1, inplace = True)"
   ]
  },
  {
   "cell_type": "code",
   "execution_count": 37,
   "metadata": {},
   "outputs": [
    {
     "data": {
      "text/plain": [
       "-1    1301\n",
       " 1    1301\n",
       "Name: Score, dtype: int64"
      ]
     },
     "execution_count": 37,
     "metadata": {},
     "output_type": "execute_result"
    }
   ],
   "source": [
    "# Compare numbers of positive and negative reviews\n",
    "df.Score.value_counts()"
   ]
  },
  {
   "cell_type": "markdown",
   "metadata": {},
   "source": [
    "# Section 3: Testing TextBlob and Vader Against Sample Phrases"
   ]
  },
  {
   "cell_type": "code",
   "execution_count": 38,
   "metadata": {},
   "outputs": [],
   "source": [
    "# Set up an analyser object for Vader\n",
    "sia = SentimentIntensityAnalyzer()"
   ]
  },
  {
   "cell_type": "code",
   "execution_count": 39,
   "metadata": {},
   "outputs": [],
   "source": [
    "# Results function\n",
    "def pol(text):\n",
    "    pol1 = TextBlob(text).sentiment.polarity\n",
    "    pol2 = sia.polarity_scores(text)['compound']\n",
    "    return pol1, pol2, "
   ]
  },
  {
   "cell_type": "markdown",
   "metadata": {},
   "source": [
    "## Capitalisation"
   ]
  },
  {
   "cell_type": "code",
   "execution_count": 40,
   "metadata": {},
   "outputs": [],
   "source": [
    "# Capitalisation of a word\n",
    "t1 = \"This is the worst restaurant I have ever eaten in\"\n",
    "t2 = \"This is the WORST restaurant I have ever eaten in\""
   ]
  },
  {
   "cell_type": "code",
   "execution_count": 41,
   "metadata": {},
   "outputs": [
    {
     "data": {
      "text/html": [
       "<div>\n",
       "<style scoped>\n",
       "    .dataframe tbody tr th:only-of-type {\n",
       "        vertical-align: middle;\n",
       "    }\n",
       "\n",
       "    .dataframe tbody tr th {\n",
       "        vertical-align: top;\n",
       "    }\n",
       "\n",
       "    .dataframe thead th {\n",
       "        text-align: right;\n",
       "    }\n",
       "</style>\n",
       "<table border=\"1\" class=\"dataframe\">\n",
       "  <thead>\n",
       "    <tr style=\"text-align: right;\">\n",
       "      <th></th>\n",
       "      <th>S1</th>\n",
       "      <th>S2</th>\n",
       "    </tr>\n",
       "  </thead>\n",
       "  <tbody>\n",
       "    <tr>\n",
       "      <th>TextBlob</th>\n",
       "      <td>-1.0000</td>\n",
       "      <td>-1.0000</td>\n",
       "    </tr>\n",
       "    <tr>\n",
       "      <th>Vader</th>\n",
       "      <td>-0.6249</td>\n",
       "      <td>-0.7034</td>\n",
       "    </tr>\n",
       "  </tbody>\n",
       "</table>\n",
       "</div>"
      ],
      "text/plain": [
       "              S1      S2\n",
       "TextBlob -1.0000 -1.0000\n",
       "Vader    -0.6249 -0.7034"
      ]
     },
     "execution_count": 41,
     "metadata": {},
     "output_type": "execute_result"
    }
   ],
   "source": [
    "sent_1 = pol(t1)\n",
    "sent_2 = pol(t2)\n",
    "data1 = pd.DataFrame([sent_1,sent_2],index = [\"S1\",\"S2\"],columns = [\"TextBlob\",\"Vader\"])\n",
    "data1.T"
   ]
  },
  {
   "cell_type": "markdown",
   "metadata": {},
   "source": [
    "* Both analysers are negative but only Vader picks up the intensity of capitalisation"
   ]
  },
  {
   "cell_type": "markdown",
   "metadata": {},
   "source": [
    "## Word Strength"
   ]
  },
  {
   "cell_type": "code",
   "execution_count": 42,
   "metadata": {},
   "outputs": [],
   "source": [
    "# Word Strength\n",
    "t3 = \"The food is good\"\n",
    "t4 = \"The food is great\"\n",
    "t5 = \"The food is incredible\"\n",
    "t6 = \"The food is awesome\""
   ]
  },
  {
   "cell_type": "code",
   "execution_count": 43,
   "metadata": {},
   "outputs": [
    {
     "data": {
      "text/html": [
       "<div>\n",
       "<style scoped>\n",
       "    .dataframe tbody tr th:only-of-type {\n",
       "        vertical-align: middle;\n",
       "    }\n",
       "\n",
       "    .dataframe tbody tr th {\n",
       "        vertical-align: top;\n",
       "    }\n",
       "\n",
       "    .dataframe thead th {\n",
       "        text-align: right;\n",
       "    }\n",
       "</style>\n",
       "<table border=\"1\" class=\"dataframe\">\n",
       "  <thead>\n",
       "    <tr style=\"text-align: right;\">\n",
       "      <th></th>\n",
       "      <th>S3</th>\n",
       "      <th>S4</th>\n",
       "      <th>S5</th>\n",
       "      <th>S6</th>\n",
       "    </tr>\n",
       "  </thead>\n",
       "  <tbody>\n",
       "    <tr>\n",
       "      <th>TextBlob</th>\n",
       "      <td>0.7000</td>\n",
       "      <td>0.8000</td>\n",
       "      <td>0.9</td>\n",
       "      <td>1.0000</td>\n",
       "    </tr>\n",
       "    <tr>\n",
       "      <th>Vader</th>\n",
       "      <td>0.4404</td>\n",
       "      <td>0.6249</td>\n",
       "      <td>0.0</td>\n",
       "      <td>0.6249</td>\n",
       "    </tr>\n",
       "  </tbody>\n",
       "</table>\n",
       "</div>"
      ],
      "text/plain": [
       "              S3      S4   S5      S6\n",
       "TextBlob  0.7000  0.8000  0.9  1.0000\n",
       "Vader     0.4404  0.6249  0.0  0.6249"
      ]
     },
     "execution_count": 43,
     "metadata": {},
     "output_type": "execute_result"
    }
   ],
   "source": [
    "sent_3 = pol(t3)\n",
    "sent_4 = pol(t4)\n",
    "sent_5 = pol(t5)\n",
    "sent_6 = pol(t6)\n",
    "data2 = pd.DataFrame([sent_3,sent_4,sent_5,sent_6],index = [\"S3\",\"S4\",\"S5\",\"S6\"],columns = [\"TextBlob\",\"Vader\"])\n",
    "data2.T"
   ]
  },
  {
   "cell_type": "markdown",
   "metadata": {},
   "source": [
    "* TextBlob picks up the increasing intensity of words more effectively than Vader "
   ]
  },
  {
   "cell_type": "markdown",
   "metadata": {},
   "source": [
    "## Promotor Words"
   ]
  },
  {
   "cell_type": "code",
   "execution_count": 44,
   "metadata": {},
   "outputs": [],
   "source": [
    "# Promotor words - modulate intensity\n",
    "t7 = \"The food is good\"\n",
    "t8 = \"The food is very good\"\n",
    "t9 = \"The food is very very good\""
   ]
  },
  {
   "cell_type": "code",
   "execution_count": 45,
   "metadata": {},
   "outputs": [
    {
     "data": {
      "text/html": [
       "<div>\n",
       "<style scoped>\n",
       "    .dataframe tbody tr th:only-of-type {\n",
       "        vertical-align: middle;\n",
       "    }\n",
       "\n",
       "    .dataframe tbody tr th {\n",
       "        vertical-align: top;\n",
       "    }\n",
       "\n",
       "    .dataframe thead th {\n",
       "        text-align: right;\n",
       "    }\n",
       "</style>\n",
       "<table border=\"1\" class=\"dataframe\">\n",
       "  <thead>\n",
       "    <tr style=\"text-align: right;\">\n",
       "      <th></th>\n",
       "      <th>S7</th>\n",
       "      <th>S8</th>\n",
       "      <th>S9</th>\n",
       "    </tr>\n",
       "  </thead>\n",
       "  <tbody>\n",
       "    <tr>\n",
       "      <th>TextBlob</th>\n",
       "      <td>0.7000</td>\n",
       "      <td>0.9100</td>\n",
       "      <td>0.9100</td>\n",
       "    </tr>\n",
       "    <tr>\n",
       "      <th>Vader</th>\n",
       "      <td>0.4404</td>\n",
       "      <td>0.4927</td>\n",
       "      <td>0.5379</td>\n",
       "    </tr>\n",
       "  </tbody>\n",
       "</table>\n",
       "</div>"
      ],
      "text/plain": [
       "              S7      S8      S9\n",
       "TextBlob  0.7000  0.9100  0.9100\n",
       "Vader     0.4404  0.4927  0.5379"
      ]
     },
     "execution_count": 45,
     "metadata": {},
     "output_type": "execute_result"
    }
   ],
   "source": [
    "sent_7 = pol(t7)\n",
    "sent_8 = pol(t8)\n",
    "sent_9 = pol(t9)\n",
    "data3 = pd.DataFrame([sent_7,sent_8,sent_9],index = [\"S7\",\"S8\",\"S9\"],columns = [\"TextBlob\",\"Vader\"])\n",
    "data3.T"
   ]
  },
  {
   "cell_type": "markdown",
   "metadata": {},
   "source": [
    "* TextBlob picks up increased instensity from the use of the word 'very'\n",
    "* Vader picks up the increased intensity from repeated words also"
   ]
  },
  {
   "cell_type": "markdown",
   "metadata": {},
   "source": [
    "## Double Negation"
   ]
  },
  {
   "cell_type": "code",
   "execution_count": 46,
   "metadata": {},
   "outputs": [],
   "source": [
    "# Double Negation\n",
    "t10 = \"This is not the worst place in the town, not by any means\""
   ]
  },
  {
   "cell_type": "code",
   "execution_count": 47,
   "metadata": {},
   "outputs": [
    {
     "data": {
      "text/html": [
       "<div>\n",
       "<style scoped>\n",
       "    .dataframe tbody tr th:only-of-type {\n",
       "        vertical-align: middle;\n",
       "    }\n",
       "\n",
       "    .dataframe tbody tr th {\n",
       "        vertical-align: top;\n",
       "    }\n",
       "\n",
       "    .dataframe thead th {\n",
       "        text-align: right;\n",
       "    }\n",
       "</style>\n",
       "<table border=\"1\" class=\"dataframe\">\n",
       "  <thead>\n",
       "    <tr style=\"text-align: right;\">\n",
       "      <th></th>\n",
       "      <th>S10</th>\n",
       "    </tr>\n",
       "  </thead>\n",
       "  <tbody>\n",
       "    <tr>\n",
       "      <th>TextBlob</th>\n",
       "      <td>-1.0000</td>\n",
       "    </tr>\n",
       "    <tr>\n",
       "      <th>Vader</th>\n",
       "      <td>0.5096</td>\n",
       "    </tr>\n",
       "  </tbody>\n",
       "</table>\n",
       "</div>"
      ],
      "text/plain": [
       "             S10\n",
       "TextBlob -1.0000\n",
       "Vader     0.5096"
      ]
     },
     "execution_count": 47,
     "metadata": {},
     "output_type": "execute_result"
    }
   ],
   "source": [
    "sent_10 = pol(t10)\n",
    "data4 = pd.DataFrame([sent_10],index = [\"S10\"],columns = [\"TextBlob\",\"Vader\"])\n",
    "data4.T"
   ]
  },
  {
   "cell_type": "markdown",
   "metadata": {},
   "source": [
    "* Vader picks up that the review is positive and not negative"
   ]
  },
  {
   "cell_type": "markdown",
   "metadata": {},
   "source": [
    "## Adjectives"
   ]
  },
  {
   "cell_type": "code",
   "execution_count": 48,
   "metadata": {},
   "outputs": [],
   "source": [
    "# Adjectives\n",
    "t11 = \"The restaurant is worth visiting\"\n",
    "t12 = \"The restaurant is hardly worth visiting\""
   ]
  },
  {
   "cell_type": "code",
   "execution_count": 49,
   "metadata": {},
   "outputs": [
    {
     "data": {
      "text/html": [
       "<div>\n",
       "<style scoped>\n",
       "    .dataframe tbody tr th:only-of-type {\n",
       "        vertical-align: middle;\n",
       "    }\n",
       "\n",
       "    .dataframe tbody tr th {\n",
       "        vertical-align: top;\n",
       "    }\n",
       "\n",
       "    .dataframe thead th {\n",
       "        text-align: right;\n",
       "    }\n",
       "</style>\n",
       "<table border=\"1\" class=\"dataframe\">\n",
       "  <thead>\n",
       "    <tr style=\"text-align: right;\">\n",
       "      <th></th>\n",
       "      <th>S11</th>\n",
       "      <th>S12</th>\n",
       "    </tr>\n",
       "  </thead>\n",
       "  <tbody>\n",
       "    <tr>\n",
       "      <th>TextBlob</th>\n",
       "      <td>0.3000</td>\n",
       "      <td>0.3000</td>\n",
       "    </tr>\n",
       "    <tr>\n",
       "      <th>Vader</th>\n",
       "      <td>0.2263</td>\n",
       "      <td>0.1548</td>\n",
       "    </tr>\n",
       "  </tbody>\n",
       "</table>\n",
       "</div>"
      ],
      "text/plain": [
       "             S11     S12\n",
       "TextBlob  0.3000  0.3000\n",
       "Vader     0.2263  0.1548"
      ]
     },
     "execution_count": 49,
     "metadata": {},
     "output_type": "execute_result"
    }
   ],
   "source": [
    "sent_11 = pol(t11)\n",
    "sent_12 = pol(t12)\n",
    "data5 = pd.DataFrame([sent_11,sent_12],index = [\"S11\",\"S12\"],columns = [\"TextBlob\",\"Vader\"])\n",
    "data5.T"
   ]
  },
  {
   "cell_type": "markdown",
   "metadata": {},
   "source": [
    "* Vader adjusts the score downwards for the word 'hardly'."
   ]
  },
  {
   "cell_type": "markdown",
   "metadata": {},
   "source": [
    "## Punctuation"
   ]
  },
  {
   "cell_type": "code",
   "execution_count": 50,
   "metadata": {},
   "outputs": [],
   "source": [
    "# Punctuation\n",
    "t13 = \"The food is great\"\n",
    "t14 = \"The food is great!\"\n",
    "t15 = \"The food is great!!\""
   ]
  },
  {
   "cell_type": "code",
   "execution_count": 51,
   "metadata": {},
   "outputs": [
    {
     "data": {
      "text/html": [
       "<div>\n",
       "<style scoped>\n",
       "    .dataframe tbody tr th:only-of-type {\n",
       "        vertical-align: middle;\n",
       "    }\n",
       "\n",
       "    .dataframe tbody tr th {\n",
       "        vertical-align: top;\n",
       "    }\n",
       "\n",
       "    .dataframe thead th {\n",
       "        text-align: right;\n",
       "    }\n",
       "</style>\n",
       "<table border=\"1\" class=\"dataframe\">\n",
       "  <thead>\n",
       "    <tr style=\"text-align: right;\">\n",
       "      <th></th>\n",
       "      <th>S13</th>\n",
       "      <th>S14</th>\n",
       "      <th>S15</th>\n",
       "    </tr>\n",
       "  </thead>\n",
       "  <tbody>\n",
       "    <tr>\n",
       "      <th>TextBlob</th>\n",
       "      <td>0.8000</td>\n",
       "      <td>1.0000</td>\n",
       "      <td>1.0000</td>\n",
       "    </tr>\n",
       "    <tr>\n",
       "      <th>Vader</th>\n",
       "      <td>0.6249</td>\n",
       "      <td>0.6588</td>\n",
       "      <td>0.6892</td>\n",
       "    </tr>\n",
       "  </tbody>\n",
       "</table>\n",
       "</div>"
      ],
      "text/plain": [
       "             S13     S14     S15\n",
       "TextBlob  0.8000  1.0000  1.0000\n",
       "Vader     0.6249  0.6588  0.6892"
      ]
     },
     "execution_count": 51,
     "metadata": {},
     "output_type": "execute_result"
    }
   ],
   "source": [
    "sent_13 = pol(t13)\n",
    "sent_14 = pol(t14)\n",
    "sent_15 = pol(t15)\n",
    "data6 = pd.DataFrame([sent_13,sent_14,sent_15],index = [\"S13\",\"S14\",\"S15\"],columns = [\"TextBlob\",\"Vader\"])\n",
    "data6.T"
   ]
  },
  {
   "cell_type": "markdown",
   "metadata": {},
   "source": [
    "* VADER picks up the second exclamation mark."
   ]
  },
  {
   "cell_type": "markdown",
   "metadata": {},
   "source": [
    "## Intent"
   ]
  },
  {
   "cell_type": "code",
   "execution_count": 52,
   "metadata": {},
   "outputs": [],
   "source": [
    "# Intent (sarcasm)\n",
    "t16 = \"Is this the best restaurant in town??\""
   ]
  },
  {
   "cell_type": "code",
   "execution_count": 53,
   "metadata": {},
   "outputs": [
    {
     "data": {
      "text/html": [
       "<div>\n",
       "<style scoped>\n",
       "    .dataframe tbody tr th:only-of-type {\n",
       "        vertical-align: middle;\n",
       "    }\n",
       "\n",
       "    .dataframe tbody tr th {\n",
       "        vertical-align: top;\n",
       "    }\n",
       "\n",
       "    .dataframe thead th {\n",
       "        text-align: right;\n",
       "    }\n",
       "</style>\n",
       "<table border=\"1\" class=\"dataframe\">\n",
       "  <thead>\n",
       "    <tr style=\"text-align: right;\">\n",
       "      <th></th>\n",
       "      <th>S16</th>\n",
       "    </tr>\n",
       "  </thead>\n",
       "  <tbody>\n",
       "    <tr>\n",
       "      <th>TextBlob</th>\n",
       "      <td>1.0000</td>\n",
       "    </tr>\n",
       "    <tr>\n",
       "      <th>Vader</th>\n",
       "      <td>0.6767</td>\n",
       "    </tr>\n",
       "  </tbody>\n",
       "</table>\n",
       "</div>"
      ],
      "text/plain": [
       "             S16\n",
       "TextBlob  1.0000\n",
       "Vader     0.6767"
      ]
     },
     "execution_count": 53,
     "metadata": {},
     "output_type": "execute_result"
    }
   ],
   "source": [
    "sent_16 = pol(t16)\n",
    "data7 = pd.DataFrame([sent_16],index = [\"S16\"],columns = [\"TextBlob\",\"Vader\"])\n",
    "data7.T"
   ]
  },
  {
   "cell_type": "markdown",
   "metadata": {},
   "source": [
    "* Both analysers return positive to a negative sentiment but Vader does have a lower score"
   ]
  },
  {
   "cell_type": "markdown",
   "metadata": {},
   "source": [
    "## Contrast"
   ]
  },
  {
   "cell_type": "code",
   "execution_count": 54,
   "metadata": {},
   "outputs": [],
   "source": [
    "# Mixed sentences - contrast\n",
    "t17 = \"The view is amazing but the food is awful\"\n",
    "t18 = \"I loved this place, however it could do with a refurbishment\""
   ]
  },
  {
   "cell_type": "code",
   "execution_count": 55,
   "metadata": {},
   "outputs": [
    {
     "data": {
      "text/html": [
       "<div>\n",
       "<style scoped>\n",
       "    .dataframe tbody tr th:only-of-type {\n",
       "        vertical-align: middle;\n",
       "    }\n",
       "\n",
       "    .dataframe tbody tr th {\n",
       "        vertical-align: top;\n",
       "    }\n",
       "\n",
       "    .dataframe thead th {\n",
       "        text-align: right;\n",
       "    }\n",
       "</style>\n",
       "<table border=\"1\" class=\"dataframe\">\n",
       "  <thead>\n",
       "    <tr style=\"text-align: right;\">\n",
       "      <th></th>\n",
       "      <th>S17</th>\n",
       "      <th>S18</th>\n",
       "    </tr>\n",
       "  </thead>\n",
       "  <tbody>\n",
       "    <tr>\n",
       "      <th>TextBlob</th>\n",
       "      <td>-0.2000</td>\n",
       "      <td>0.7000</td>\n",
       "    </tr>\n",
       "    <tr>\n",
       "      <th>Vader</th>\n",
       "      <td>-0.3818</td>\n",
       "      <td>0.5994</td>\n",
       "    </tr>\n",
       "  </tbody>\n",
       "</table>\n",
       "</div>"
      ],
      "text/plain": [
       "             S17     S18\n",
       "TextBlob -0.2000  0.7000\n",
       "Vader    -0.3818  0.5994"
      ]
     },
     "execution_count": 55,
     "metadata": {},
     "output_type": "execute_result"
    }
   ],
   "source": [
    "sent_17 = pol(t17)\n",
    "sent_18 = pol(t18)\n",
    "data8 = pd.DataFrame([sent_17,sent_18],index = [\"S17\",\"S18\"],columns = [\"TextBlob\",\"Vader\"])\n",
    "data8.T"
   ]
  },
  {
   "cell_type": "markdown",
   "metadata": {},
   "source": [
    "* Both analysers swap from negative to positive between the two sentences."
   ]
  },
  {
   "cell_type": "markdown",
   "metadata": {},
   "source": [
    "## Context - ambiguous adjectives and one word, many meanings"
   ]
  },
  {
   "cell_type": "code",
   "execution_count": 56,
   "metadata": {},
   "outputs": [],
   "source": [
    "# Context - ambiguous adjectives - convey perspective\n",
    "t19 = \"The food is pretty good\"\n",
    "t20 = \"The food is pretty bad\"\n",
    "\n",
    "# One word with many meanings (low can be seen as negative but in context of prices it isnt)\n",
    "t21 = \"The prices are high\"\n",
    "t22 = \"The prices are low\""
   ]
  },
  {
   "cell_type": "code",
   "execution_count": 57,
   "metadata": {},
   "outputs": [
    {
     "data": {
      "text/html": [
       "<div>\n",
       "<style scoped>\n",
       "    .dataframe tbody tr th:only-of-type {\n",
       "        vertical-align: middle;\n",
       "    }\n",
       "\n",
       "    .dataframe tbody tr th {\n",
       "        vertical-align: top;\n",
       "    }\n",
       "\n",
       "    .dataframe thead th {\n",
       "        text-align: right;\n",
       "    }\n",
       "</style>\n",
       "<table border=\"1\" class=\"dataframe\">\n",
       "  <thead>\n",
       "    <tr style=\"text-align: right;\">\n",
       "      <th></th>\n",
       "      <th>S19</th>\n",
       "      <th>S20</th>\n",
       "      <th>S21</th>\n",
       "      <th>S22</th>\n",
       "    </tr>\n",
       "  </thead>\n",
       "  <tbody>\n",
       "    <tr>\n",
       "      <th>TextBlob</th>\n",
       "      <td>0.4750</td>\n",
       "      <td>-0.2250</td>\n",
       "      <td>0.16</td>\n",
       "      <td>0.0000</td>\n",
       "    </tr>\n",
       "    <tr>\n",
       "      <th>Vader</th>\n",
       "      <td>0.7269</td>\n",
       "      <td>-0.0772</td>\n",
       "      <td>0.00</td>\n",
       "      <td>-0.2732</td>\n",
       "    </tr>\n",
       "  </tbody>\n",
       "</table>\n",
       "</div>"
      ],
      "text/plain": [
       "             S19     S20   S21     S22\n",
       "TextBlob  0.4750 -0.2250  0.16  0.0000\n",
       "Vader     0.7269 -0.0772  0.00 -0.2732"
      ]
     },
     "execution_count": 57,
     "metadata": {},
     "output_type": "execute_result"
    }
   ],
   "source": [
    "sent_19 = pol(t19)\n",
    "sent_20 = pol(t20)\n",
    "sent_21 = pol(t21)\n",
    "sent_22 = pol(t22)\n",
    "data9 = pd.DataFrame([sent_19,sent_20,sent_21,sent_22],index = [\"S19\",\"S20\",\"S21\",\"S22\"],columns = [\"TextBlob\",\"Vader\"])\n",
    "data9.T"
   ]
  },
  {
   "cell_type": "markdown",
   "metadata": {},
   "source": [
    "* Both analysers deal with the first two sentences "
   ]
  },
  {
   "cell_type": "markdown",
   "metadata": {},
   "source": [
    "## Emojis"
   ]
  },
  {
   "cell_type": "code",
   "execution_count": 58,
   "metadata": {},
   "outputs": [],
   "source": [
    "t23 = \"Love this place\"\n",
    "t24 = \"Love this place :)\"\n",
    "sent_23 = pol(t23)\n",
    "sent_24 = pol(t24)"
   ]
  },
  {
   "cell_type": "code",
   "execution_count": 59,
   "metadata": {},
   "outputs": [
    {
     "data": {
      "text/html": [
       "<div>\n",
       "<style scoped>\n",
       "    .dataframe tbody tr th:only-of-type {\n",
       "        vertical-align: middle;\n",
       "    }\n",
       "\n",
       "    .dataframe tbody tr th {\n",
       "        vertical-align: top;\n",
       "    }\n",
       "\n",
       "    .dataframe thead th {\n",
       "        text-align: right;\n",
       "    }\n",
       "</style>\n",
       "<table border=\"1\" class=\"dataframe\">\n",
       "  <thead>\n",
       "    <tr style=\"text-align: right;\">\n",
       "      <th></th>\n",
       "      <th>S23</th>\n",
       "      <th>S24</th>\n",
       "    </tr>\n",
       "  </thead>\n",
       "  <tbody>\n",
       "    <tr>\n",
       "      <th>TextBlob</th>\n",
       "      <td>0.5000</td>\n",
       "      <td>0.500</td>\n",
       "    </tr>\n",
       "    <tr>\n",
       "      <th>Vader</th>\n",
       "      <td>0.6369</td>\n",
       "      <td>0.802</td>\n",
       "    </tr>\n",
       "  </tbody>\n",
       "</table>\n",
       "</div>"
      ],
      "text/plain": [
       "             S23    S24\n",
       "TextBlob  0.5000  0.500\n",
       "Vader     0.6369  0.802"
      ]
     },
     "execution_count": 59,
     "metadata": {},
     "output_type": "execute_result"
    }
   ],
   "source": [
    "data10 = pd.DataFrame([sent_23,sent_24],index = [\"S23\",\"S24\"],columns = [\"TextBlob\",\"Vader\"])\n",
    "data10.T"
   ]
  },
  {
   "cell_type": "markdown",
   "metadata": {},
   "source": [
    "# Section 4: Passing All Reviews Through TextBlob and Vader"
   ]
  },
  {
   "cell_type": "markdown",
   "metadata": {},
   "source": [
    "## TextBlob"
   ]
  },
  {
   "cell_type": "code",
   "execution_count": 62,
   "metadata": {},
   "outputs": [],
   "source": [
    "# Run TextBlob against each review in the dataframe\n",
    "df[\"Polarity\"] = df[\"all_text\"].apply(lambda x: TextBlob(x).sentiment.polarity)\n",
    "df[\"Subjectivity\"] = df[\"all_text\"].apply(lambda x: TextBlob(x).sentiment.subjectivity)"
   ]
  },
  {
   "cell_type": "code",
   "execution_count": 65,
   "metadata": {},
   "outputs": [
    {
     "data": {
      "text/html": [
       "<div>\n",
       "<style scoped>\n",
       "    .dataframe tbody tr th:only-of-type {\n",
       "        vertical-align: middle;\n",
       "    }\n",
       "\n",
       "    .dataframe tbody tr th {\n",
       "        vertical-align: top;\n",
       "    }\n",
       "\n",
       "    .dataframe thead th {\n",
       "        text-align: right;\n",
       "    }\n",
       "</style>\n",
       "<table border=\"1\" class=\"dataframe\">\n",
       "  <thead>\n",
       "    <tr style=\"text-align: right;\">\n",
       "      <th></th>\n",
       "      <th>Score</th>\n",
       "      <th>Polarity</th>\n",
       "      <th>Subjectivity</th>\n",
       "      <th>VNeg</th>\n",
       "      <th>VNeu</th>\n",
       "      <th>VPos</th>\n",
       "      <th>VComp</th>\n",
       "    </tr>\n",
       "  </thead>\n",
       "  <tbody>\n",
       "    <tr>\n",
       "      <th>count</th>\n",
       "      <td>2602.000000</td>\n",
       "      <td>2602.000000</td>\n",
       "      <td>2602.000000</td>\n",
       "      <td>2602.000000</td>\n",
       "      <td>2602.000000</td>\n",
       "      <td>2602.000000</td>\n",
       "      <td>2602.000000</td>\n",
       "    </tr>\n",
       "    <tr>\n",
       "      <th>mean</th>\n",
       "      <td>0.000000</td>\n",
       "      <td>0.161373</td>\n",
       "      <td>0.558723</td>\n",
       "      <td>0.065479</td>\n",
       "      <td>0.745256</td>\n",
       "      <td>0.189264</td>\n",
       "      <td>0.386939</td>\n",
       "    </tr>\n",
       "    <tr>\n",
       "      <th>std</th>\n",
       "      <td>1.000192</td>\n",
       "      <td>0.273605</td>\n",
       "      <td>0.121380</td>\n",
       "      <td>0.071509</td>\n",
       "      <td>0.110096</td>\n",
       "      <td>0.137371</td>\n",
       "      <td>0.745357</td>\n",
       "    </tr>\n",
       "    <tr>\n",
       "      <th>min</th>\n",
       "      <td>-1.000000</td>\n",
       "      <td>-1.000000</td>\n",
       "      <td>0.000000</td>\n",
       "      <td>0.000000</td>\n",
       "      <td>0.339000</td>\n",
       "      <td>0.000000</td>\n",
       "      <td>-0.996800</td>\n",
       "    </tr>\n",
       "    <tr>\n",
       "      <th>25%</th>\n",
       "      <td>-1.000000</td>\n",
       "      <td>-0.033333</td>\n",
       "      <td>0.477083</td>\n",
       "      <td>0.000000</td>\n",
       "      <td>0.680000</td>\n",
       "      <td>0.077000</td>\n",
       "      <td>-0.386150</td>\n",
       "    </tr>\n",
       "    <tr>\n",
       "      <th>50%</th>\n",
       "      <td>0.000000</td>\n",
       "      <td>0.169079</td>\n",
       "      <td>0.555556</td>\n",
       "      <td>0.046000</td>\n",
       "      <td>0.760000</td>\n",
       "      <td>0.158000</td>\n",
       "      <td>0.872000</td>\n",
       "    </tr>\n",
       "    <tr>\n",
       "      <th>75%</th>\n",
       "      <td>1.000000</td>\n",
       "      <td>0.375000</td>\n",
       "      <td>0.637326</td>\n",
       "      <td>0.104000</td>\n",
       "      <td>0.824000</td>\n",
       "      <td>0.278000</td>\n",
       "      <td>0.966975</td>\n",
       "    </tr>\n",
       "    <tr>\n",
       "      <th>max</th>\n",
       "      <td>1.000000</td>\n",
       "      <td>1.000000</td>\n",
       "      <td>1.000000</td>\n",
       "      <td>0.472000</td>\n",
       "      <td>1.000000</td>\n",
       "      <td>0.661000</td>\n",
       "      <td>0.999600</td>\n",
       "    </tr>\n",
       "  </tbody>\n",
       "</table>\n",
       "</div>"
      ],
      "text/plain": [
       "             Score     Polarity  Subjectivity         VNeg         VNeu  \\\n",
       "count  2602.000000  2602.000000   2602.000000  2602.000000  2602.000000   \n",
       "mean      0.000000     0.161373      0.558723     0.065479     0.745256   \n",
       "std       1.000192     0.273605      0.121380     0.071509     0.110096   \n",
       "min      -1.000000    -1.000000      0.000000     0.000000     0.339000   \n",
       "25%      -1.000000    -0.033333      0.477083     0.000000     0.680000   \n",
       "50%       0.000000     0.169079      0.555556     0.046000     0.760000   \n",
       "75%       1.000000     0.375000      0.637326     0.104000     0.824000   \n",
       "max       1.000000     1.000000      1.000000     0.472000     1.000000   \n",
       "\n",
       "              VPos        VComp  \n",
       "count  2602.000000  2602.000000  \n",
       "mean      0.189264     0.386939  \n",
       "std       0.137371     0.745357  \n",
       "min       0.000000    -0.996800  \n",
       "25%       0.077000    -0.386150  \n",
       "50%       0.158000     0.872000  \n",
       "75%       0.278000     0.966975  \n",
       "max       0.661000     0.999600  "
      ]
     },
     "execution_count": 65,
     "metadata": {},
     "output_type": "execute_result"
    }
   ],
   "source": [
    "# Check basic descriptive statistics\n",
    "df.describe()"
   ]
  },
  {
   "cell_type": "code",
   "execution_count": 66,
   "metadata": {},
   "outputs": [
    {
     "data": {
      "image/png": "[encoded data removed]",
      "text/plain": [
       "<Figure size 720x432 with 1 Axes>"
      ]
     },
     "metadata": {},
     "output_type": "display_data"
    }
   ],
   "source": [
    "# Look at how the Polarity scores are distributed - TextBlob\n",
    "num_bins = 50\n",
    "\n",
    "fig, ax = plt.subplots(figsize=(10,6))\n",
    "ax.set_facecolor(\"White\")\n",
    "n, bins, patches = plt.hist(df.Polarity, num_bins, facecolor='green', alpha=0.5)\n",
    "plt.xlabel('Polarity')\n",
    "plt.ylabel('Count')\n",
    "plt.title('TextBlob - Distribution of Polarity Scores',size = 20)\n",
    "plt.show();"
   ]
  },
  {
   "cell_type": "code",
   "execution_count": 76,
   "metadata": {},
   "outputs": [
    {
     "name": "stdout",
     "output_type": "stream",
     "text": [
      "1817\n",
      "5\n",
      "780\n"
     ]
    }
   ],
   "source": [
    "# How many reviews have positive, neutral and negative sentiment according to TextBlob?\n",
    "print(df[df[\"Polarity\"] > 0].shape[0])\n",
    "print(df[(df[\"Polarity\"] == 0) & (df[\"Polarity\"]<0.01)].shape[0])\n",
    "print(df[df[\"Polarity\"] <0].shape[0])"
   ]
  },
  {
   "cell_type": "markdown",
   "metadata": {},
   "source": [
    "Most are rated positive, there are very few neutral as we would expect as the sample data set had reviews rated '3' stripped out, leaving the most highly rated and lowest rated reviews in the dataset. The distribution appears bimodal."
   ]
  },
  {
   "cell_type": "code",
   "execution_count": 77,
   "metadata": {},
   "outputs": [
    {
     "data": {
      "text/plain": [
       "-0.22690765121306322"
      ]
     },
     "execution_count": 77,
     "metadata": {},
     "output_type": "execute_result"
    }
   ],
   "source": [
    "# Get skew - small negative skew\n",
    "df.Polarity.skew()"
   ]
  },
  {
   "cell_type": "code",
   "execution_count": 82,
   "metadata": {},
   "outputs": [
    {
     "data": {
      "image/png": "[encoded data removed]",
      "text/plain": [
       "<Figure size 720x432 with 1 Axes>"
      ]
     },
     "metadata": {},
     "output_type": "display_data"
    }
   ],
   "source": [
    "# Look at the Distribution of Polarity with regard to Ratings\n",
    "fig, ax = plt.subplots(figsize = (10,6))\n",
    "ax.set_facecolor(\"White\")\n",
    "sns.boxenplot(x='Score', y='Polarity', data=df)\n",
    "plt.title(\"TextBlob\",fontsize = 20)\n",
    "plt.show();"
   ]
  },
  {
   "cell_type": "markdown",
   "metadata": {},
   "source": [
    "## VADER"
   ]
  },
  {
   "cell_type": "code",
   "execution_count": null,
   "metadata": {},
   "outputs": [],
   "source": [
    "# Run VADER against each review in the dataframe\n",
    "df[\"VNeg\"] = df[\"all_text\"].apply(lambda x: sia.polarity_scores(x)['neg'])\n",
    "df[\"VNeu\"] = df[\"all_text\"].apply(lambda x: sia.polarity_scores(x)['neu'])\n",
    "df[\"VPos\"] = df[\"all_text\"].apply(lambda x: sia.polarity_scores(x)['pos'])\n",
    "df[\"VComp\"] = df[\"all_text\"].apply(lambda x: sia.polarity_scores(x)['compound'])"
   ]
  },
  {
   "cell_type": "code",
   "execution_count": 78,
   "metadata": {},
   "outputs": [
    {
     "data": {
      "image/png": "[encoded data removed]",
      "text/plain": [
       "<Figure size 720x432 with 1 Axes>"
      ]
     },
     "metadata": {},
     "output_type": "display_data"
    }
   ],
   "source": [
    "# Plot Vader Compound Scores\n",
    "num_bins = 50\n",
    "fig, ax = plt.subplots(figsize=(10,6))\n",
    "ax.set_facecolor(\"White\")\n",
    "n, bins, patches = plt.hist(df.VComp, num_bins, facecolor='brown', alpha=0.5)\n",
    "plt.xlabel('Polarity')\n",
    "plt.ylabel('Count')\n",
    "plt.title('Distribution of VADER Compound Scores', fontsize = 20)\n",
    "plt.show();"
   ]
  },
  {
   "cell_type": "code",
   "execution_count": 79,
   "metadata": {},
   "outputs": [
    {
     "name": "stdout",
     "output_type": "stream",
     "text": [
      "1811\n",
      "27\n",
      "764\n"
     ]
    }
   ],
   "source": [
    "# How many reviews have sentiment above and below 0.05 threshold suggested in the documentation\n",
    "print(df[df[\"VComp\"] >= 0.05].shape[0])\n",
    "print(df[(df[\"VComp\"] <0.05) & (df[\"VComp\"] > -0.05)].shape[0])\n",
    "print(df[df[\"VComp\"] <= -0.05].shape[0])"
   ]
  },
  {
   "cell_type": "markdown",
   "metadata": {},
   "source": [
    "Vader has a few more neutrals, probably because the threshold scores are a bit different as per the documentation. The distribution of polarities is very different however."
   ]
  },
  {
   "cell_type": "code",
   "execution_count": 80,
   "metadata": {},
   "outputs": [
    {
     "data": {
      "text/plain": [
       "-0.830825005700086"
      ]
     },
     "execution_count": 80,
     "metadata": {},
     "output_type": "execute_result"
    }
   ],
   "source": [
    "# Get skew of VComp distribution\n",
    "df.VComp.skew()"
   ]
  },
  {
   "cell_type": "code",
   "execution_count": 84,
   "metadata": {},
   "outputs": [
    {
     "data": {
      "image/png": "[encoded data removed]",
      "text/plain": [
       "<Figure size 720x432 with 1 Axes>"
      ]
     },
     "metadata": {},
     "output_type": "display_data"
    }
   ],
   "source": [
    "# Look at the Distribution of Polarity with regard to Ratings\n",
    "fig, ax = plt.subplots(figsize = (10,6))\n",
    "ax.set_facecolor(\"White\")\n",
    "sns.boxenplot(x='Score', y='VComp', data=df)\n",
    "plt.title(\"VADER\",fontsize = 20)\n",
    "plt.show();"
   ]
  },
  {
   "cell_type": "markdown",
   "metadata": {},
   "source": [
    "* TextBlob scores are slightly negatively skewed with bimodal distribution\n",
    "* VADER's distribution is negatively skewed with a unimodal distribution\n",
    "* VADER scores most reviews as strongly positive and there are outliers.  \n",
    "* The boxplot for VADER shows greater variation in the compound polarity for negative reviews compared to positive. "
   ]
  },
  {
   "cell_type": "markdown",
   "metadata": {},
   "source": [
    "# Section 4: Comparison of Analyser Scores with User Rating"
   ]
  },
  {
   "cell_type": "markdown",
   "metadata": {},
   "source": [
    "## TextBlob"
   ]
  },
  {
   "cell_type": "markdown",
   "metadata": {},
   "source": [
    "Uses a weighted average score over all the words in a sentence"
   ]
  },
  {
   "cell_type": "code",
   "execution_count": 86,
   "metadata": {},
   "outputs": [
    {
     "data": {
      "text/html": [
       "<div>\n",
       "<style scoped>\n",
       "    .dataframe tbody tr th:only-of-type {\n",
       "        vertical-align: middle;\n",
       "    }\n",
       "\n",
       "    .dataframe tbody tr th {\n",
       "        vertical-align: top;\n",
       "    }\n",
       "\n",
       "    .dataframe thead th {\n",
       "        text-align: right;\n",
       "    }\n",
       "</style>\n",
       "<table border=\"1\" class=\"dataframe\">\n",
       "  <thead>\n",
       "    <tr style=\"text-align: right;\">\n",
       "      <th></th>\n",
       "      <th>Town</th>\n",
       "      <th>Category</th>\n",
       "      <th>Score</th>\n",
       "      <th>all_text</th>\n",
       "      <th>Polarity</th>\n",
       "      <th>Subjectivity</th>\n",
       "      <th>VNeg</th>\n",
       "      <th>VNeu</th>\n",
       "      <th>VPos</th>\n",
       "      <th>VComp</th>\n",
       "    </tr>\n",
       "  </thead>\n",
       "  <tbody>\n",
       "    <tr>\n",
       "      <th>213</th>\n",
       "      <td>Arundel</td>\n",
       "      <td>Food</td>\n",
       "      <td>-1</td>\n",
       "      <td>A Miss Evening dinner disaster.\\nLost our rese...</td>\n",
       "      <td>0.0</td>\n",
       "      <td>0.7</td>\n",
       "      <td>0.341</td>\n",
       "      <td>0.659</td>\n",
       "      <td>0.000</td>\n",
       "      <td>-0.9097</td>\n",
       "    </tr>\n",
       "    <tr>\n",
       "      <th>306</th>\n",
       "      <td>Arundel</td>\n",
       "      <td>Food</td>\n",
       "      <td>-1</td>\n",
       "      <td>I think you have to announce your arrival ... ...</td>\n",
       "      <td>0.0</td>\n",
       "      <td>0.4</td>\n",
       "      <td>0.113</td>\n",
       "      <td>0.835</td>\n",
       "      <td>0.051</td>\n",
       "      <td>-0.5046</td>\n",
       "    </tr>\n",
       "    <tr>\n",
       "      <th>432</th>\n",
       "      <td>Bognor</td>\n",
       "      <td>Food</td>\n",
       "      <td>-1</td>\n",
       "      <td>Overcharged on the bill £29. We were a party o...</td>\n",
       "      <td>0.0</td>\n",
       "      <td>0.5</td>\n",
       "      <td>0.061</td>\n",
       "      <td>0.796</td>\n",
       "      <td>0.143</td>\n",
       "      <td>0.4767</td>\n",
       "    </tr>\n",
       "    <tr>\n",
       "      <th>1746</th>\n",
       "      <td>Bognor</td>\n",
       "      <td>Food</td>\n",
       "      <td>1</td>\n",
       "      <td>Aprils Hen do Meal TONY what a legend!!!!! Ove...</td>\n",
       "      <td>0.0</td>\n",
       "      <td>0.6</td>\n",
       "      <td>0.000</td>\n",
       "      <td>0.886</td>\n",
       "      <td>0.114</td>\n",
       "      <td>0.5951</td>\n",
       "    </tr>\n",
       "    <tr>\n",
       "      <th>2134</th>\n",
       "      <td>Bognor</td>\n",
       "      <td>Food</td>\n",
       "      <td>1</td>\n",
       "      <td>A local gem Went here for lunch with my mum mi...</td>\n",
       "      <td>0.0</td>\n",
       "      <td>0.0</td>\n",
       "      <td>0.000</td>\n",
       "      <td>0.906</td>\n",
       "      <td>0.094</td>\n",
       "      <td>0.4019</td>\n",
       "    </tr>\n",
       "  </tbody>\n",
       "</table>\n",
       "</div>"
      ],
      "text/plain": [
       "         Town Category  Score  \\\n",
       "213   Arundel     Food     -1   \n",
       "306   Arundel     Food     -1   \n",
       "432    Bognor     Food     -1   \n",
       "1746   Bognor     Food      1   \n",
       "2134   Bognor     Food      1   \n",
       "\n",
       "                                               all_text  Polarity  \\\n",
       "213   A Miss Evening dinner disaster.\\nLost our rese...       0.0   \n",
       "306   I think you have to announce your arrival ... ...       0.0   \n",
       "432   Overcharged on the bill £29. We were a party o...       0.0   \n",
       "1746  Aprils Hen do Meal TONY what a legend!!!!! Ove...       0.0   \n",
       "2134  A local gem Went here for lunch with my mum mi...       0.0   \n",
       "\n",
       "      Subjectivity   VNeg   VNeu   VPos   VComp  \n",
       "213            0.7  0.341  0.659  0.000 -0.9097  \n",
       "306            0.4  0.113  0.835  0.051 -0.5046  \n",
       "432            0.5  0.061  0.796  0.143  0.4767  \n",
       "1746           0.6  0.000  0.886  0.114  0.5951  \n",
       "2134           0.0  0.000  0.906  0.094  0.4019  "
      ]
     },
     "execution_count": 86,
     "metadata": {},
     "output_type": "execute_result"
    }
   ],
   "source": [
    "# Check for any polaritiy scores that are zero or neutral sentiment\n",
    "df[df[\"Polarity\"] == 0]"
   ]
  },
  {
   "cell_type": "code",
   "execution_count": 87,
   "metadata": {},
   "outputs": [],
   "source": [
    "# Set polarities greater than zero 1 and polarities less than zero to -1 \n",
    "# Assume for ease that polarity >0 is positive and <=0 is negative, so any neutral polarities are ignored\n",
    "\n",
    "conditions = [(df[\"Polarity\"]>0),df[\"Polarity\"]<=0]\n",
    "choices = [1,-1]\n",
    "df[\"TB_score\"] = np.select(conditions,choices,default = 'null')\n",
    "df[\"TB_score\"] = df[\"TB_score\"].astype('int64')"
   ]
  },
  {
   "cell_type": "code",
   "execution_count": 88,
   "metadata": {},
   "outputs": [
    {
     "data": {
      "text/plain": [
       " 1    1817\n",
       "-1     785\n",
       "Name: TB_score, dtype: int64"
      ]
     },
     "execution_count": 88,
     "metadata": {},
     "output_type": "execute_result"
    }
   ],
   "source": [
    "df[\"TB_score\"].value_counts()"
   ]
  },
  {
   "cell_type": "code",
   "execution_count": 89,
   "metadata": {},
   "outputs": [
    {
     "data": {
      "text/plain": [
       "-1    1301\n",
       " 1    1301\n",
       "Name: Score, dtype: int64"
      ]
     },
     "execution_count": 89,
     "metadata": {},
     "output_type": "execute_result"
    }
   ],
   "source": [
    "# Value counts of scores - 1 is positive reviews and -1 is negative reviews\n",
    "df[\"Score\"].value_counts()"
   ]
  },
  {
   "cell_type": "code",
   "execution_count": 90,
   "metadata": {},
   "outputs": [
    {
     "data": {
      "text/html": [
       "<div>\n",
       "<style scoped>\n",
       "    .dataframe tbody tr th:only-of-type {\n",
       "        vertical-align: middle;\n",
       "    }\n",
       "\n",
       "    .dataframe tbody tr th {\n",
       "        vertical-align: top;\n",
       "    }\n",
       "\n",
       "    .dataframe thead th {\n",
       "        text-align: right;\n",
       "    }\n",
       "</style>\n",
       "<table border=\"1\" class=\"dataframe\">\n",
       "  <thead>\n",
       "    <tr style=\"text-align: right;\">\n",
       "      <th></th>\n",
       "      <th>Town</th>\n",
       "      <th>Category</th>\n",
       "      <th>Score</th>\n",
       "      <th>all_text</th>\n",
       "      <th>Polarity</th>\n",
       "      <th>Subjectivity</th>\n",
       "      <th>VNeg</th>\n",
       "      <th>VNeu</th>\n",
       "      <th>VPos</th>\n",
       "      <th>VComp</th>\n",
       "      <th>TB_score</th>\n",
       "    </tr>\n",
       "  </thead>\n",
       "  <tbody>\n",
       "    <tr>\n",
       "      <th>0</th>\n",
       "      <td>Arundel</td>\n",
       "      <td>Food</td>\n",
       "      <td>-1</td>\n",
       "      <td>Very disappointing Three of us ate on a quiet ...</td>\n",
       "      <td>0.042381</td>\n",
       "      <td>0.592222</td>\n",
       "      <td>0.102</td>\n",
       "      <td>0.765</td>\n",
       "      <td>0.133</td>\n",
       "      <td>0.6200</td>\n",
       "      <td>1</td>\n",
       "    </tr>\n",
       "    <tr>\n",
       "      <th>1</th>\n",
       "      <td>Bognor</td>\n",
       "      <td>Accommodation</td>\n",
       "      <td>1</td>\n",
       "      <td>Amazing place!!!  We had a lovely stay at the ...</td>\n",
       "      <td>0.403943</td>\n",
       "      <td>0.614286</td>\n",
       "      <td>0.041</td>\n",
       "      <td>0.547</td>\n",
       "      <td>0.412</td>\n",
       "      <td>0.9763</td>\n",
       "      <td>1</td>\n",
       "    </tr>\n",
       "    <tr>\n",
       "      <th>2</th>\n",
       "      <td>Bognor</td>\n",
       "      <td>Food</td>\n",
       "      <td>1</td>\n",
       "      <td>Seaside Cafe Great cafe, located near to shine...</td>\n",
       "      <td>0.378571</td>\n",
       "      <td>0.571429</td>\n",
       "      <td>0.000</td>\n",
       "      <td>0.732</td>\n",
       "      <td>0.268</td>\n",
       "      <td>0.8720</td>\n",
       "      <td>1</td>\n",
       "    </tr>\n",
       "  </tbody>\n",
       "</table>\n",
       "</div>"
      ],
      "text/plain": [
       "      Town       Category  Score  \\\n",
       "0  Arundel           Food     -1   \n",
       "1   Bognor  Accommodation      1   \n",
       "2   Bognor           Food      1   \n",
       "\n",
       "                                            all_text  Polarity  Subjectivity  \\\n",
       "0  Very disappointing Three of us ate on a quiet ...  0.042381      0.592222   \n",
       "1  Amazing place!!!  We had a lovely stay at the ...  0.403943      0.614286   \n",
       "2  Seaside Cafe Great cafe, located near to shine...  0.378571      0.571429   \n",
       "\n",
       "    VNeg   VNeu   VPos   VComp  TB_score  \n",
       "0  0.102  0.765  0.133  0.6200         1  \n",
       "1  0.041  0.547  0.412  0.9763         1  \n",
       "2  0.000  0.732  0.268  0.8720         1  "
      ]
     },
     "execution_count": 90,
     "metadata": {},
     "output_type": "execute_result"
    }
   ],
   "source": [
    "df.head(3)"
   ]
  },
  {
   "cell_type": "code",
   "execution_count": 91,
   "metadata": {},
   "outputs": [
    {
     "data": {
      "image/png": "[encoded data removed]",
      "text/plain": [
       "<Figure size 432x288 with 2 Axes>"
      ]
     },
     "metadata": {},
     "output_type": "display_data"
    }
   ],
   "source": [
    "confusion_matrix = pd.crosstab(df['Score'], df['TB_score'], rownames=['User_score'], colnames=['TextBlob_score'])\n",
    "sns.heatmap(confusion_matrix, annot=True,fmt=\".0f\")\n",
    "plt.show()"
   ]
  },
  {
   "cell_type": "markdown",
   "metadata": {},
   "source": [
    "Noting that the -1 is actually the positive class in this case (i.e. the class we are interested in representing negative reviews) and the +1 is actually the negative class (the class representing good reviews that we are not interested in)."
   ]
  },
  {
   "cell_type": "code",
   "execution_count": 92,
   "metadata": {},
   "outputs": [],
   "source": [
    "# Metrics function (pos_label = -1 as that represents negative reviews which is the class we are interested in\n",
    "def metrics(y_true,y_pred):\n",
    "    a = accuracy_score(y_true, y_pred)*100\n",
    "    p = precision_score(y_true, y_pred,pos_label = -1)*100\n",
    "    r = recall_score(y_true, y_pred,pos_label = -1)*100\n",
    "    f1 = f1_score(y_true, y_pred,pos_label = -1)*100\n",
    "    roc = roc_auc_score(y_true,y_pred)*100\n",
    "    \n",
    "    return a,p,r,f1,roc"
   ]
  },
  {
   "cell_type": "code",
   "execution_count": 93,
   "metadata": {},
   "outputs": [
    {
     "data": {
      "text/plain": [
       "(79.55418908531898,\n",
       " 98.98089171974522,\n",
       " 59.72328977709454,\n",
       " 74.49664429530202,\n",
       " 79.55418908531897)"
      ]
     },
     "execution_count": 93,
     "metadata": {},
     "output_type": "execute_result"
    }
   ],
   "source": [
    "metrics(df['Score'], df['TB_score'])"
   ]
  },
  {
   "cell_type": "markdown",
   "metadata": {},
   "source": [
    "## VADER"
   ]
  },
  {
   "cell_type": "markdown",
   "metadata": {},
   "source": [
    "A compound score greater than and equal to 0.05 is positive and negative is <= 0.05. Neutral is defined by VADER as between -0.05 and 0.05. "
   ]
  },
  {
   "cell_type": "code",
   "execution_count": 101,
   "metadata": {},
   "outputs": [
    {
     "data": {
      "text/html": [
       "<div>\n",
       "<style scoped>\n",
       "    .dataframe tbody tr th:only-of-type {\n",
       "        vertical-align: middle;\n",
       "    }\n",
       "\n",
       "    .dataframe tbody tr th {\n",
       "        vertical-align: top;\n",
       "    }\n",
       "\n",
       "    .dataframe thead th {\n",
       "        text-align: right;\n",
       "    }\n",
       "</style>\n",
       "<table border=\"1\" class=\"dataframe\">\n",
       "  <thead>\n",
       "    <tr style=\"text-align: right;\">\n",
       "      <th></th>\n",
       "      <th>Town</th>\n",
       "      <th>Category</th>\n",
       "      <th>Score</th>\n",
       "      <th>all_text</th>\n",
       "      <th>Polarity</th>\n",
       "      <th>Subjectivity</th>\n",
       "      <th>VNeg</th>\n",
       "      <th>VNeu</th>\n",
       "      <th>VPos</th>\n",
       "      <th>VComp</th>\n",
       "      <th>TB_score</th>\n",
       "    </tr>\n",
       "  </thead>\n",
       "  <tbody>\n",
       "    <tr>\n",
       "      <th>52</th>\n",
       "      <td>Arundel</td>\n",
       "      <td>Attractions</td>\n",
       "      <td>-1</td>\n",
       "      <td>Arundel Castle NOT dog friendly  Arrived today...</td>\n",
       "      <td>0.104167</td>\n",
       "      <td>0.283333</td>\n",
       "      <td>0.047</td>\n",
       "      <td>0.904</td>\n",
       "      <td>0.049</td>\n",
       "      <td>0.0186</td>\n",
       "      <td>1</td>\n",
       "    </tr>\n",
       "    <tr>\n",
       "      <th>153</th>\n",
       "      <td>Bognor</td>\n",
       "      <td>Food</td>\n",
       "      <td>-1</td>\n",
       "      <td>Flies Went in for a sandwiches. Used toilet fi...</td>\n",
       "      <td>0.072222</td>\n",
       "      <td>0.111111</td>\n",
       "      <td>0.000</td>\n",
       "      <td>1.000</td>\n",
       "      <td>0.000</td>\n",
       "      <td>0.0000</td>\n",
       "      <td>1</td>\n",
       "    </tr>\n",
       "    <tr>\n",
       "      <th>221</th>\n",
       "      <td>Littlehampton</td>\n",
       "      <td>Food</td>\n",
       "      <td>1</td>\n",
       "      <td>Plants and food yippee Haskins garden centre h...</td>\n",
       "      <td>0.050000</td>\n",
       "      <td>0.625000</td>\n",
       "      <td>0.000</td>\n",
       "      <td>1.000</td>\n",
       "      <td>0.000</td>\n",
       "      <td>0.0000</td>\n",
       "      <td>1</td>\n",
       "    </tr>\n",
       "    <tr>\n",
       "      <th>391</th>\n",
       "      <td>Bognor</td>\n",
       "      <td>Food</td>\n",
       "      <td>-1</td>\n",
       "      <td>Boarded up - patio overgrown - Closed This pub...</td>\n",
       "      <td>0.059091</td>\n",
       "      <td>0.251136</td>\n",
       "      <td>0.000</td>\n",
       "      <td>1.000</td>\n",
       "      <td>0.000</td>\n",
       "      <td>0.0000</td>\n",
       "      <td>1</td>\n",
       "    </tr>\n",
       "    <tr>\n",
       "      <th>562</th>\n",
       "      <td>Arundel</td>\n",
       "      <td>Attractions</td>\n",
       "      <td>-1</td>\n",
       "      <td>Wet, wetlands. Called in to view visitors cent...</td>\n",
       "      <td>-0.122222</td>\n",
       "      <td>0.188889</td>\n",
       "      <td>0.000</td>\n",
       "      <td>1.000</td>\n",
       "      <td>0.000</td>\n",
       "      <td>0.0000</td>\n",
       "      <td>-1</td>\n",
       "    </tr>\n",
       "  </tbody>\n",
       "</table>\n",
       "</div>"
      ],
      "text/plain": [
       "              Town     Category  Score  \\\n",
       "52         Arundel  Attractions     -1   \n",
       "153         Bognor         Food     -1   \n",
       "221  Littlehampton         Food      1   \n",
       "391         Bognor         Food     -1   \n",
       "562        Arundel  Attractions     -1   \n",
       "\n",
       "                                              all_text  Polarity  \\\n",
       "52   Arundel Castle NOT dog friendly  Arrived today...  0.104167   \n",
       "153  Flies Went in for a sandwiches. Used toilet fi...  0.072222   \n",
       "221  Plants and food yippee Haskins garden centre h...  0.050000   \n",
       "391  Boarded up - patio overgrown - Closed This pub...  0.059091   \n",
       "562  Wet, wetlands. Called in to view visitors cent... -0.122222   \n",
       "\n",
       "     Subjectivity   VNeg   VNeu   VPos   VComp  TB_score  \n",
       "52       0.283333  0.047  0.904  0.049  0.0186         1  \n",
       "153      0.111111  0.000  1.000  0.000  0.0000         1  \n",
       "221      0.625000  0.000  1.000  0.000  0.0000         1  \n",
       "391      0.251136  0.000  1.000  0.000  0.0000         1  \n",
       "562      0.188889  0.000  1.000  0.000  0.0000        -1  "
      ]
     },
     "execution_count": 101,
     "metadata": {},
     "output_type": "execute_result"
    }
   ],
   "source": [
    "# How many instances are affected by this (ie how many does VADER say are neutral)\n",
    "df[(df[\"VComp\"]>-0.05) & (df[\"VComp\"]<0.05)].head()"
   ]
  },
  {
   "cell_type": "markdown",
   "metadata": {},
   "source": [
    "Most of these are actually scored as bad reviews by users so we will treat compound scores between -0.05 and +0.05 as negative. Therefore good reviews are compound score of 0.05 and above and bad reviews as compound score of less than 0.05."
   ]
  },
  {
   "cell_type": "code",
   "execution_count": 102,
   "metadata": {},
   "outputs": [],
   "source": [
    "# Set polarities greater than equal to 0.05 (majority class) and polarities less than 0.05 to 1 (minority class)\n",
    "conditions = [(df[\"VComp\"]>=0.05),\n",
    "              df[\"VComp\"]<0.05]\n",
    "choices = [1,-1]\n",
    "df[\"VComp_score\"] = np.select(conditions,choices,default = 'null')\n",
    "df[\"VComp_score\"] = df[\"VComp_score\"].astype('int32')"
   ]
  },
  {
   "cell_type": "code",
   "execution_count": 103,
   "metadata": {},
   "outputs": [
    {
     "data": {
      "image/png": "[encoded data removed]",
      "text/plain": [
       "<Figure size 432x288 with 2 Axes>"
      ]
     },
     "metadata": {},
     "output_type": "display_data"
    }
   ],
   "source": [
    "confusion_matrix = pd.crosstab(df['Score'], df['VComp_score'], rownames=['User_score'], colnames=['Vader_score'])\n",
    "sns.heatmap(confusion_matrix, annot=True,fmt=\".0f\")\n",
    "plt.show()"
   ]
  },
  {
   "cell_type": "code",
   "execution_count": 104,
   "metadata": {},
   "outputs": [
    {
     "data": {
      "text/plain": [
       " 1    1811\n",
       "-1     791\n",
       "Name: VComp_score, dtype: int64"
      ]
     },
     "execution_count": 104,
     "metadata": {},
     "output_type": "execute_result"
    }
   ],
   "source": [
    "df[\"VComp_score\"].value_counts()"
   ]
  },
  {
   "cell_type": "code",
   "execution_count": 105,
   "metadata": {},
   "outputs": [
    {
     "data": {
      "text/plain": [
       "(79.47732513451191,\n",
       " 98.48293299620732,\n",
       " 59.87701767870869,\n",
       " 74.47418738049714,\n",
       " 79.47732513451191)"
      ]
     },
     "execution_count": 105,
     "metadata": {},
     "output_type": "execute_result"
    }
   ],
   "source": [
    "metrics(df['Score'], df['VComp_score'])"
   ]
  },
  {
   "cell_type": "markdown",
   "metadata": {},
   "source": [
    "* Both analysers had very similar metrics with Vader achieving slightly better recall and F1 score\n",
    "* Neither did as well with the bad reviews, misclassifying many of them as good reviews"
   ]
  },
  {
   "cell_type": "markdown",
   "metadata": {},
   "source": [
    "## Examination of reviews which VADER got wrong"
   ]
  },
  {
   "cell_type": "code",
   "execution_count": 106,
   "metadata": {},
   "outputs": [
    {
     "data": {
      "text/html": [
       "<div>\n",
       "<style scoped>\n",
       "    .dataframe tbody tr th:only-of-type {\n",
       "        vertical-align: middle;\n",
       "    }\n",
       "\n",
       "    .dataframe tbody tr th {\n",
       "        vertical-align: top;\n",
       "    }\n",
       "\n",
       "    .dataframe thead th {\n",
       "        text-align: right;\n",
       "    }\n",
       "</style>\n",
       "<table border=\"1\" class=\"dataframe\">\n",
       "  <thead>\n",
       "    <tr style=\"text-align: right;\">\n",
       "      <th></th>\n",
       "      <th>Town</th>\n",
       "      <th>Category</th>\n",
       "      <th>Score</th>\n",
       "      <th>all_text</th>\n",
       "      <th>Polarity</th>\n",
       "      <th>Subjectivity</th>\n",
       "      <th>VNeg</th>\n",
       "      <th>VNeu</th>\n",
       "      <th>VPos</th>\n",
       "      <th>VComp</th>\n",
       "      <th>TB_score</th>\n",
       "      <th>VComp_score</th>\n",
       "    </tr>\n",
       "  </thead>\n",
       "  <tbody>\n",
       "    <tr>\n",
       "      <th>0</th>\n",
       "      <td>Arundel</td>\n",
       "      <td>Food</td>\n",
       "      <td>-1</td>\n",
       "      <td>Very disappointing Three of us ate on a quiet ...</td>\n",
       "      <td>0.042381</td>\n",
       "      <td>0.592222</td>\n",
       "      <td>0.102</td>\n",
       "      <td>0.765</td>\n",
       "      <td>0.133</td>\n",
       "      <td>0.6200</td>\n",
       "      <td>1</td>\n",
       "      <td>1</td>\n",
       "    </tr>\n",
       "    <tr>\n",
       "      <th>4</th>\n",
       "      <td>Littlehampton</td>\n",
       "      <td>Food</td>\n",
       "      <td>-1</td>\n",
       "      <td>High priced low volume Beautiful setting, grea...</td>\n",
       "      <td>0.281677</td>\n",
       "      <td>0.601083</td>\n",
       "      <td>0.037</td>\n",
       "      <td>0.831</td>\n",
       "      <td>0.133</td>\n",
       "      <td>0.6167</td>\n",
       "      <td>1</td>\n",
       "      <td>1</td>\n",
       "    </tr>\n",
       "  </tbody>\n",
       "</table>\n",
       "</div>"
      ],
      "text/plain": [
       "            Town Category  Score  \\\n",
       "0        Arundel     Food     -1   \n",
       "4  Littlehampton     Food     -1   \n",
       "\n",
       "                                            all_text  Polarity  Subjectivity  \\\n",
       "0  Very disappointing Three of us ate on a quiet ...  0.042381      0.592222   \n",
       "4  High priced low volume Beautiful setting, grea...  0.281677      0.601083   \n",
       "\n",
       "    VNeg   VNeu   VPos   VComp  TB_score  VComp_score  \n",
       "0  0.102  0.765  0.133  0.6200         1            1  \n",
       "4  0.037  0.831  0.133  0.6167         1            1  "
      ]
     },
     "execution_count": 106,
     "metadata": {},
     "output_type": "execute_result"
    }
   ],
   "source": [
    "# Examine some reviews that VADER set as positive but user score was negative\n",
    "wrong = df[df[\"Score\"] != df[\"VComp_score\"]]\n",
    "wrong_neg = wrong[wrong[\"VComp_score\"] == 1]\n",
    "wrong_neg.head(2)"
   ]
  },
  {
   "cell_type": "code",
   "execution_count": 116,
   "metadata": {},
   "outputs": [
    {
     "data": {
      "text/plain": [
       "(522, 12)"
      ]
     },
     "execution_count": 116,
     "metadata": {},
     "output_type": "execute_result"
    }
   ],
   "source": [
    "wrong_neg.shape"
   ]
  },
  {
   "cell_type": "code",
   "execution_count": 117,
   "metadata": {},
   "outputs": [
    {
     "data": {
      "text/plain": [
       "\"Very disappointing Three of us ate on a quiet night. First of all the good bit. The beer is good.\\n\\nThe rest however was very disappointing. The waitress was so cold that we wondered if one of us had met her before and upset her in some way.\\n\\nThe food was a great disappointment. My son had the half pounder burger which tasted awful. Very salty and like some cheap mass produced rubbish. No texture, no taste. I have never seen him leave a burger before. Whitebait to start. Tiny portion but OK. My main was scampi. OKish, but again a tiny portion. The chips were good.\\n\\nWe didn't bother with desert....we didn;t feel welcome and it we had enough poor food. We were home by 8.30pm.\\n\\nWe are locals and will not be using the Spur again.\""
      ]
     },
     "execution_count": 117,
     "metadata": {},
     "output_type": "execute_result"
    }
   ],
   "source": [
    "wrong_neg[\"all_text\"].iloc[0]"
   ]
  },
  {
   "cell_type": "code",
   "execution_count": 118,
   "metadata": {},
   "outputs": [
    {
     "data": {
      "text/plain": [
       "'High priced low volume Beautiful setting, great atmosphere but very high priced drinks for very little volume of alcohol. Almost £8 per glass which you would expect a decent amount for the money you spend. Too much ice!!'"
      ]
     },
     "execution_count": 118,
     "metadata": {},
     "output_type": "execute_result"
    }
   ],
   "source": [
    "wrong_neg[\"all_text\"].iloc[1]"
   ]
  },
  {
   "cell_type": "code",
   "execution_count": 119,
   "metadata": {},
   "outputs": [
    {
     "data": {
      "text/html": [
       "<div>\n",
       "<style scoped>\n",
       "    .dataframe tbody tr th:only-of-type {\n",
       "        vertical-align: middle;\n",
       "    }\n",
       "\n",
       "    .dataframe tbody tr th {\n",
       "        vertical-align: top;\n",
       "    }\n",
       "\n",
       "    .dataframe thead th {\n",
       "        text-align: right;\n",
       "    }\n",
       "</style>\n",
       "<table border=\"1\" class=\"dataframe\">\n",
       "  <thead>\n",
       "    <tr style=\"text-align: right;\">\n",
       "      <th></th>\n",
       "      <th>Town</th>\n",
       "      <th>Category</th>\n",
       "      <th>Score</th>\n",
       "      <th>all_text</th>\n",
       "      <th>Polarity</th>\n",
       "      <th>Subjectivity</th>\n",
       "      <th>VNeg</th>\n",
       "      <th>VNeu</th>\n",
       "      <th>VPos</th>\n",
       "      <th>VComp</th>\n",
       "      <th>TB_score</th>\n",
       "      <th>VComp_score</th>\n",
       "    </tr>\n",
       "  </thead>\n",
       "  <tbody>\n",
       "    <tr>\n",
       "      <th>221</th>\n",
       "      <td>Littlehampton</td>\n",
       "      <td>Food</td>\n",
       "      <td>1</td>\n",
       "      <td>Plants and food yippee Haskins garden centre h...</td>\n",
       "      <td>0.050000</td>\n",
       "      <td>0.625000</td>\n",
       "      <td>0.000</td>\n",
       "      <td>1.000</td>\n",
       "      <td>0.0</td>\n",
       "      <td>0.0000</td>\n",
       "      <td>1</td>\n",
       "      <td>-1</td>\n",
       "    </tr>\n",
       "    <tr>\n",
       "      <th>247</th>\n",
       "      <td>Littlehampton</td>\n",
       "      <td>Food</td>\n",
       "      <td>1</td>\n",
       "      <td>Sunday lunch Had Sunday lunch in the garden. V...</td>\n",
       "      <td>0.033333</td>\n",
       "      <td>0.454167</td>\n",
       "      <td>0.046</td>\n",
       "      <td>0.954</td>\n",
       "      <td>0.0</td>\n",
       "      <td>-0.0909</td>\n",
       "      <td>1</td>\n",
       "      <td>-1</td>\n",
       "    </tr>\n",
       "  </tbody>\n",
       "</table>\n",
       "</div>"
      ],
      "text/plain": [
       "              Town Category  Score  \\\n",
       "221  Littlehampton     Food      1   \n",
       "247  Littlehampton     Food      1   \n",
       "\n",
       "                                              all_text  Polarity  \\\n",
       "221  Plants and food yippee Haskins garden centre h...  0.050000   \n",
       "247  Sunday lunch Had Sunday lunch in the garden. V...  0.033333   \n",
       "\n",
       "     Subjectivity   VNeg   VNeu  VPos   VComp  TB_score  VComp_score  \n",
       "221      0.625000  0.000  1.000   0.0  0.0000         1           -1  \n",
       "247      0.454167  0.046  0.954   0.0 -0.0909         1           -1  "
      ]
     },
     "execution_count": 119,
     "metadata": {},
     "output_type": "execute_result"
    }
   ],
   "source": [
    "# Examine some reviews that VADER set as negative but user score was positive\n",
    "wrong_pos = wrong[wrong[\"VComp_score\"] == -1]\n",
    "wrong_pos.head(2)"
   ]
  },
  {
   "cell_type": "code",
   "execution_count": 120,
   "metadata": {},
   "outputs": [
    {
     "data": {
      "text/plain": [
       "(12, 12)"
      ]
     },
     "execution_count": 120,
     "metadata": {},
     "output_type": "execute_result"
    }
   ],
   "source": [
    "wrong_pos.shape"
   ]
  },
  {
   "cell_type": "code",
   "execution_count": 121,
   "metadata": {},
   "outputs": [
    {
     "data": {
      "text/plain": [
       "'Plants and food yippee Haskins garden centre has a wide selection of plants and shrubs, if you can’t get it here then it’s very possible you won’t find it around. Also they do a wide range of meals, light snacks and coffee/tea. '"
      ]
     },
     "execution_count": 121,
     "metadata": {},
     "output_type": "execute_result"
    }
   ],
   "source": [
    "wrong_pos[\"all_text\"].iloc[0]"
   ]
  },
  {
   "cell_type": "code",
   "execution_count": 122,
   "metadata": {},
   "outputs": [
    {
     "data": {
      "text/plain": [
       "'Sunday lunch Had Sunday lunch in the garden. Very tasty. Only slight downside was the flatness of the soft drinks, not just this visit but the week before too'"
      ]
     },
     "execution_count": 122,
     "metadata": {},
     "output_type": "execute_result"
    }
   ],
   "source": [
    "wrong_pos[\"all_text\"].iloc[1]"
   ]
  },
  {
   "cell_type": "markdown",
   "metadata": {},
   "source": [
    "* Vader misclassified more negative reviews as positive than the reverse\n",
    "* Looking at examples, these appear to be quite long and/or contain mixed sentiments"
   ]
  },
  {
   "cell_type": "markdown",
   "metadata": {},
   "source": [
    "# Section 5: Relationship VADER polarity and length of review"
   ]
  },
  {
   "cell_type": "markdown",
   "metadata": {},
   "source": [
    "Does the length of review affect the polarity that VADER gives?"
   ]
  },
  {
   "cell_type": "markdown",
   "metadata": {},
   "source": [
    "## VADER classed as positive when the user score is negative"
   ]
  },
  {
   "cell_type": "code",
   "execution_count": 130,
   "metadata": {},
   "outputs": [],
   "source": [
    "# Looking at reviews VADER misclassified as positive when they are scored negative by the user\n",
    "wrong_neg[\"Num_tokens\"] = wrong_neg[\"all_text\"].apply(lambda x: len(nltk.word_tokenize(x)))"
   ]
  },
  {
   "cell_type": "code",
   "execution_count": 131,
   "metadata": {},
   "outputs": [
    {
     "data": {
      "text/html": [
       "<div>\n",
       "<style scoped>\n",
       "    .dataframe tbody tr th:only-of-type {\n",
       "        vertical-align: middle;\n",
       "    }\n",
       "\n",
       "    .dataframe tbody tr th {\n",
       "        vertical-align: top;\n",
       "    }\n",
       "\n",
       "    .dataframe thead th {\n",
       "        text-align: right;\n",
       "    }\n",
       "</style>\n",
       "<table border=\"1\" class=\"dataframe\">\n",
       "  <thead>\n",
       "    <tr style=\"text-align: right;\">\n",
       "      <th></th>\n",
       "      <th>Town</th>\n",
       "      <th>Category</th>\n",
       "      <th>Score</th>\n",
       "      <th>all_text</th>\n",
       "      <th>Polarity</th>\n",
       "      <th>Subjectivity</th>\n",
       "      <th>VNeg</th>\n",
       "      <th>VNeu</th>\n",
       "      <th>VPos</th>\n",
       "      <th>VComp</th>\n",
       "      <th>TB_score</th>\n",
       "      <th>VComp_score</th>\n",
       "      <th>Num_tokens</th>\n",
       "    </tr>\n",
       "  </thead>\n",
       "  <tbody>\n",
       "    <tr>\n",
       "      <th>0</th>\n",
       "      <td>Arundel</td>\n",
       "      <td>Food</td>\n",
       "      <td>-1</td>\n",
       "      <td>Very disappointing Three of us ate on a quiet ...</td>\n",
       "      <td>0.042381</td>\n",
       "      <td>0.592222</td>\n",
       "      <td>0.102</td>\n",
       "      <td>0.765</td>\n",
       "      <td>0.133</td>\n",
       "      <td>0.6200</td>\n",
       "      <td>1</td>\n",
       "      <td>1</td>\n",
       "      <td>162</td>\n",
       "    </tr>\n",
       "    <tr>\n",
       "      <th>4</th>\n",
       "      <td>Littlehampton</td>\n",
       "      <td>Food</td>\n",
       "      <td>-1</td>\n",
       "      <td>High priced low volume Beautiful setting, grea...</td>\n",
       "      <td>0.281677</td>\n",
       "      <td>0.601083</td>\n",
       "      <td>0.037</td>\n",
       "      <td>0.831</td>\n",
       "      <td>0.133</td>\n",
       "      <td>0.6167</td>\n",
       "      <td>1</td>\n",
       "      <td>1</td>\n",
       "      <td>43</td>\n",
       "    </tr>\n",
       "    <tr>\n",
       "      <th>8</th>\n",
       "      <td>Littlehampton</td>\n",
       "      <td>Food</td>\n",
       "      <td>-1</td>\n",
       "      <td>Meal for 12 on 29th Dec 2019. Twelve of us vis...</td>\n",
       "      <td>0.063889</td>\n",
       "      <td>0.498611</td>\n",
       "      <td>0.024</td>\n",
       "      <td>0.875</td>\n",
       "      <td>0.101</td>\n",
       "      <td>0.8765</td>\n",
       "      <td>1</td>\n",
       "      <td>1</td>\n",
       "      <td>177</td>\n",
       "    </tr>\n",
       "    <tr>\n",
       "      <th>16</th>\n",
       "      <td>Littlehampton</td>\n",
       "      <td>Food</td>\n",
       "      <td>-1</td>\n",
       "      <td>Chips Been here before and last time said we w...</td>\n",
       "      <td>0.035516</td>\n",
       "      <td>0.403175</td>\n",
       "      <td>0.039</td>\n",
       "      <td>0.875</td>\n",
       "      <td>0.086</td>\n",
       "      <td>0.8588</td>\n",
       "      <td>1</td>\n",
       "      <td>1</td>\n",
       "      <td>165</td>\n",
       "    </tr>\n",
       "    <tr>\n",
       "      <th>19</th>\n",
       "      <td>Bognor</td>\n",
       "      <td>Accommodation</td>\n",
       "      <td>-1</td>\n",
       "      <td>Butlins discrimination Butlins discrimination....</td>\n",
       "      <td>0.127959</td>\n",
       "      <td>0.349740</td>\n",
       "      <td>0.030</td>\n",
       "      <td>0.923</td>\n",
       "      <td>0.046</td>\n",
       "      <td>0.1303</td>\n",
       "      <td>1</td>\n",
       "      <td>1</td>\n",
       "      <td>370</td>\n",
       "    </tr>\n",
       "  </tbody>\n",
       "</table>\n",
       "</div>"
      ],
      "text/plain": [
       "             Town       Category  Score  \\\n",
       "0         Arundel           Food     -1   \n",
       "4   Littlehampton           Food     -1   \n",
       "8   Littlehampton           Food     -1   \n",
       "16  Littlehampton           Food     -1   \n",
       "19         Bognor  Accommodation     -1   \n",
       "\n",
       "                                             all_text  Polarity  Subjectivity  \\\n",
       "0   Very disappointing Three of us ate on a quiet ...  0.042381      0.592222   \n",
       "4   High priced low volume Beautiful setting, grea...  0.281677      0.601083   \n",
       "8   Meal for 12 on 29th Dec 2019. Twelve of us vis...  0.063889      0.498611   \n",
       "16  Chips Been here before and last time said we w...  0.035516      0.403175   \n",
       "19  Butlins discrimination Butlins discrimination....  0.127959      0.349740   \n",
       "\n",
       "     VNeg   VNeu   VPos   VComp  TB_score  VComp_score  Num_tokens  \n",
       "0   0.102  0.765  0.133  0.6200         1            1         162  \n",
       "4   0.037  0.831  0.133  0.6167         1            1          43  \n",
       "8   0.024  0.875  0.101  0.8765         1            1         177  \n",
       "16  0.039  0.875  0.086  0.8588         1            1         165  \n",
       "19  0.030  0.923  0.046  0.1303         1            1         370  "
      ]
     },
     "execution_count": 131,
     "metadata": {},
     "output_type": "execute_result"
    }
   ],
   "source": [
    "wrong_neg.head()"
   ]
  },
  {
   "cell_type": "code",
   "execution_count": 132,
   "metadata": {},
   "outputs": [
    {
     "data": {
      "image/png": "[encoded data removed]",
      "text/plain": [
       "<Figure size 432x288 with 1 Axes>"
      ]
     },
     "metadata": {},
     "output_type": "display_data"
    }
   ],
   "source": [
    "# Plot a scatter plot of the number of tokens and the vader compound polarity score - log used to spread data out\n",
    "fig, ax = plt.subplots()\n",
    "ax.set_facecolor(\"White\")\n",
    "plt.scatter(x = np.log(wrong_neg[\"Num_tokens\"]), y = wrong_neg[\"VComp\"])\n",
    "plt.xlabel(\"Log Number of Tokens\")\n",
    "plt.ylabel(\"Vader Compound Polarity Score\")\n",
    "ax = plt.title(\"Polarity Against Number of Words for Bad Reviews Misclassified\")"
   ]
  },
  {
   "cell_type": "code",
   "execution_count": 134,
   "metadata": {},
   "outputs": [
    {
     "data": {
      "text/plain": [
       "0.2876160268856325"
      ]
     },
     "execution_count": 134,
     "metadata": {},
     "output_type": "execute_result"
    }
   ],
   "source": [
    "# Correlation between the two series\n",
    "pd.Series.corr(wrong_neg[\"Num_tokens\"],wrong_neg[\"VComp\"])"
   ]
  },
  {
   "cell_type": "markdown",
   "metadata": {},
   "source": [
    "Seems that the longer the review the more likely VADER is to class it as positive, thereby perhaps missing longer bad reviews"
   ]
  },
  {
   "cell_type": "markdown",
   "metadata": {},
   "source": [
    " ## VADER classed as negative when the user score is positive"
   ]
  },
  {
   "cell_type": "code",
   "execution_count": 136,
   "metadata": {},
   "outputs": [],
   "source": [
    "# Looking at reviews VADER misclassified as negative when they are scored positive by the user\n",
    "wrong_pos[\"Num_tokens\"] = wrong_pos[\"all_text\"].apply(lambda x: len(nltk.word_tokenize(x)))"
   ]
  },
  {
   "cell_type": "code",
   "execution_count": 137,
   "metadata": {},
   "outputs": [
    {
     "data": {
      "text/html": [
       "<div>\n",
       "<style scoped>\n",
       "    .dataframe tbody tr th:only-of-type {\n",
       "        vertical-align: middle;\n",
       "    }\n",
       "\n",
       "    .dataframe tbody tr th {\n",
       "        vertical-align: top;\n",
       "    }\n",
       "\n",
       "    .dataframe thead th {\n",
       "        text-align: right;\n",
       "    }\n",
       "</style>\n",
       "<table border=\"1\" class=\"dataframe\">\n",
       "  <thead>\n",
       "    <tr style=\"text-align: right;\">\n",
       "      <th></th>\n",
       "      <th>Town</th>\n",
       "      <th>Category</th>\n",
       "      <th>Score</th>\n",
       "      <th>all_text</th>\n",
       "      <th>Polarity</th>\n",
       "      <th>Subjectivity</th>\n",
       "      <th>VNeg</th>\n",
       "      <th>VNeu</th>\n",
       "      <th>VPos</th>\n",
       "      <th>VComp</th>\n",
       "      <th>TB_score</th>\n",
       "      <th>VComp_score</th>\n",
       "      <th>Num_tokens</th>\n",
       "    </tr>\n",
       "  </thead>\n",
       "  <tbody>\n",
       "    <tr>\n",
       "      <th>221</th>\n",
       "      <td>Littlehampton</td>\n",
       "      <td>Food</td>\n",
       "      <td>1</td>\n",
       "      <td>Plants and food yippee Haskins garden centre h...</td>\n",
       "      <td>0.050000</td>\n",
       "      <td>0.625000</td>\n",
       "      <td>0.000</td>\n",
       "      <td>1.000</td>\n",
       "      <td>0.000</td>\n",
       "      <td>0.0000</td>\n",
       "      <td>1</td>\n",
       "      <td>-1</td>\n",
       "      <td>52</td>\n",
       "    </tr>\n",
       "    <tr>\n",
       "      <th>247</th>\n",
       "      <td>Littlehampton</td>\n",
       "      <td>Food</td>\n",
       "      <td>1</td>\n",
       "      <td>Sunday lunch Had Sunday lunch in the garden. V...</td>\n",
       "      <td>0.033333</td>\n",
       "      <td>0.454167</td>\n",
       "      <td>0.046</td>\n",
       "      <td>0.954</td>\n",
       "      <td>0.000</td>\n",
       "      <td>-0.0909</td>\n",
       "      <td>1</td>\n",
       "      <td>-1</td>\n",
       "      <td>32</td>\n",
       "    </tr>\n",
       "    <tr>\n",
       "      <th>368</th>\n",
       "      <td>Bognor</td>\n",
       "      <td>Food</td>\n",
       "      <td>1</td>\n",
       "      <td>Give me that lemon and herb chicken recipe It'...</td>\n",
       "      <td>-0.200000</td>\n",
       "      <td>0.338889</td>\n",
       "      <td>0.082</td>\n",
       "      <td>0.866</td>\n",
       "      <td>0.052</td>\n",
       "      <td>-0.3753</td>\n",
       "      <td>-1</td>\n",
       "      <td>-1</td>\n",
       "      <td>54</td>\n",
       "    </tr>\n",
       "    <tr>\n",
       "      <th>419</th>\n",
       "      <td>Littlehampton</td>\n",
       "      <td>Food</td>\n",
       "      <td>1</td>\n",
       "      <td>Great breakfast good value Had breakfast as a ...</td>\n",
       "      <td>0.162135</td>\n",
       "      <td>0.480848</td>\n",
       "      <td>0.152</td>\n",
       "      <td>0.717</td>\n",
       "      <td>0.131</td>\n",
       "      <td>-0.6545</td>\n",
       "      <td>1</td>\n",
       "      <td>-1</td>\n",
       "      <td>139</td>\n",
       "    </tr>\n",
       "    <tr>\n",
       "      <th>1061</th>\n",
       "      <td>Bognor</td>\n",
       "      <td>Food</td>\n",
       "      <td>1</td>\n",
       "      <td>It really does not get better Returned for a f...</td>\n",
       "      <td>0.290000</td>\n",
       "      <td>0.540000</td>\n",
       "      <td>0.184</td>\n",
       "      <td>0.723</td>\n",
       "      <td>0.092</td>\n",
       "      <td>-0.3999</td>\n",
       "      <td>1</td>\n",
       "      <td>-1</td>\n",
       "      <td>36</td>\n",
       "    </tr>\n",
       "  </tbody>\n",
       "</table>\n",
       "</div>"
      ],
      "text/plain": [
       "               Town Category  Score  \\\n",
       "221   Littlehampton     Food      1   \n",
       "247   Littlehampton     Food      1   \n",
       "368          Bognor     Food      1   \n",
       "419   Littlehampton     Food      1   \n",
       "1061         Bognor     Food      1   \n",
       "\n",
       "                                               all_text  Polarity  \\\n",
       "221   Plants and food yippee Haskins garden centre h...  0.050000   \n",
       "247   Sunday lunch Had Sunday lunch in the garden. V...  0.033333   \n",
       "368   Give me that lemon and herb chicken recipe It'... -0.200000   \n",
       "419   Great breakfast good value Had breakfast as a ...  0.162135   \n",
       "1061  It really does not get better Returned for a f...  0.290000   \n",
       "\n",
       "      Subjectivity   VNeg   VNeu   VPos   VComp  TB_score  VComp_score  \\\n",
       "221       0.625000  0.000  1.000  0.000  0.0000         1           -1   \n",
       "247       0.454167  0.046  0.954  0.000 -0.0909         1           -1   \n",
       "368       0.338889  0.082  0.866  0.052 -0.3753        -1           -1   \n",
       "419       0.480848  0.152  0.717  0.131 -0.6545         1           -1   \n",
       "1061      0.540000  0.184  0.723  0.092 -0.3999         1           -1   \n",
       "\n",
       "      Num_tokens  \n",
       "221           52  \n",
       "247           32  \n",
       "368           54  \n",
       "419          139  \n",
       "1061          36  "
      ]
     },
     "execution_count": 137,
     "metadata": {},
     "output_type": "execute_result"
    }
   ],
   "source": [
    "wrong_pos.head()"
   ]
  },
  {
   "cell_type": "code",
   "execution_count": 138,
   "metadata": {},
   "outputs": [
    {
     "data": {
      "image/png": "[encoded data removed]",
      "text/plain": [
       "<Figure size 432x288 with 1 Axes>"
      ]
     },
     "metadata": {},
     "output_type": "display_data"
    }
   ],
   "source": [
    "fig, ax = plt.subplots()\n",
    "ax.set_facecolor(\"White\")\n",
    "plt.scatter(x = np.log(wrong_pos[\"Num_tokens\"]), y = wrong_pos[\"VComp\"])\n",
    "plt.xlabel(\"Number of Tokens\")\n",
    "plt.ylabel(\"Vader Compound Polarity Score\")\n",
    "ax = plt.title(\"Polarity Against Number of Words for Positive Reviews Misclassified\")"
   ]
  },
  {
   "cell_type": "code",
   "execution_count": 139,
   "metadata": {},
   "outputs": [
    {
     "data": {
      "text/plain": [
       "0.2876160268856325"
      ]
     },
     "execution_count": 139,
     "metadata": {},
     "output_type": "execute_result"
    }
   ],
   "source": [
    "pd.Series.corr(wrong_neg[\"Num_tokens\"], wrong_neg[\"VComp\"])"
   ]
  },
  {
   "cell_type": "markdown",
   "metadata": {},
   "source": [
    "There are not many points in the scatter plot but there may be a negative correlation between the number of tokens and the Vader score - more likely to give negative score with shorter reviews?"
   ]
  },
  {
   "cell_type": "markdown",
   "metadata": {},
   "source": [
    "# Section 6: Run VADER with cleaned reviews"
   ]
  },
  {
   "cell_type": "code",
   "execution_count": 166,
   "metadata": {},
   "outputs": [
    {
     "data": {
      "text/html": [
       "<div>\n",
       "<style scoped>\n",
       "    .dataframe tbody tr th:only-of-type {\n",
       "        vertical-align: middle;\n",
       "    }\n",
       "\n",
       "    .dataframe tbody tr th {\n",
       "        vertical-align: top;\n",
       "    }\n",
       "\n",
       "    .dataframe thead th {\n",
       "        text-align: right;\n",
       "    }\n",
       "</style>\n",
       "<table border=\"1\" class=\"dataframe\">\n",
       "  <thead>\n",
       "    <tr style=\"text-align: right;\">\n",
       "      <th></th>\n",
       "      <th>OrgInd</th>\n",
       "      <th>Town</th>\n",
       "      <th>Category</th>\n",
       "      <th>Score</th>\n",
       "      <th>Review</th>\n",
       "      <th>Review_clean</th>\n",
       "      <th>Pos</th>\n",
       "    </tr>\n",
       "  </thead>\n",
       "  <tbody>\n",
       "    <tr>\n",
       "      <th>0</th>\n",
       "      <td>0</td>\n",
       "      <td>Arundel</td>\n",
       "      <td>Food</td>\n",
       "      <td>1</td>\n",
       "      <td>Very disappointing Three of us ate on a quiet ...</td>\n",
       "      <td>disappointing three u ate quiet night first go...</td>\n",
       "      <td>[('disappointing', 'JJ'), ('three', 'CD'), ('u...</td>\n",
       "    </tr>\n",
       "    <tr>\n",
       "      <th>1</th>\n",
       "      <td>1</td>\n",
       "      <td>Bognor</td>\n",
       "      <td>Accommodation</td>\n",
       "      <td>0</td>\n",
       "      <td>Amazing place!!!  We had a lovely stay at the ...</td>\n",
       "      <td>amazing place lovely stay inklenook room world...</td>\n",
       "      <td>[('amazing', 'JJ'), ('place', 'NN'), ('lovely'...</td>\n",
       "    </tr>\n",
       "  </tbody>\n",
       "</table>\n",
       "</div>"
      ],
      "text/plain": [
       "   OrgInd     Town       Category  Score  \\\n",
       "0       0  Arundel           Food      1   \n",
       "1       1   Bognor  Accommodation      0   \n",
       "\n",
       "                                              Review  \\\n",
       "0  Very disappointing Three of us ate on a quiet ...   \n",
       "1  Amazing place!!!  We had a lovely stay at the ...   \n",
       "\n",
       "                                        Review_clean  \\\n",
       "0  disappointing three u ate quiet night first go...   \n",
       "1  amazing place lovely stay inklenook room world...   \n",
       "\n",
       "                                                 Pos  \n",
       "0  [('disappointing', 'JJ'), ('three', 'CD'), ('u...  \n",
       "1  [('amazing', 'JJ'), ('place', 'NN'), ('lovely'...  "
      ]
     },
     "execution_count": 166,
     "metadata": {},
     "output_type": "execute_result"
    }
   ],
   "source": [
    "df_clean = pd.read_csv(\"cleanedsampletext.csv\",index_col = 0)\n",
    "df_clean.head(2)"
   ]
  },
  {
   "cell_type": "code",
   "execution_count": 178,
   "metadata": {},
   "outputs": [],
   "source": [
    "# Put bad reviews as -1 and good reviews as 1\n",
    "df_clean.Score.replace(1, -1, inplace = True)\n",
    "df_clean.Score.replace(0, 1, inplace = True)"
   ]
  },
  {
   "cell_type": "code",
   "execution_count": 167,
   "metadata": {},
   "outputs": [],
   "source": [
    "df_clean = df_clean[[\"Town\",\"Category\",\"Review_clean\",\"Score\"]]"
   ]
  },
  {
   "cell_type": "code",
   "execution_count": 168,
   "metadata": {},
   "outputs": [],
   "source": [
    "# Run TextBlob against each review in the dataframe\n",
    "df_clean[\"Polarity\"] = df_clean[\"Review_clean\"].apply(lambda x: TextBlob(x).sentiment.polarity)\n",
    "df_clean[\"Subjectivity\"] = df_clean[\"Review_clean\"].apply(lambda x: TextBlob(x).sentiment.subjectivity)"
   ]
  },
  {
   "cell_type": "code",
   "execution_count": 169,
   "metadata": {},
   "outputs": [],
   "source": [
    "# Run VADER against each review in the dataframe\n",
    "df_clean[\"VNeg\"] = df_clean[\"Review_clean\"].apply(lambda x: sia.polarity_scores(x)['neg'])\n",
    "df_clean[\"VNeu\"] = df_clean[\"Review_clean\"].apply(lambda x: sia.polarity_scores(x)['neu'])\n",
    "df_clean[\"VPos\"] = df_clean[\"Review_clean\"].apply(lambda x: sia.polarity_scores(x)['pos'])\n",
    "df_clean[\"VComp\"] = df_clean[\"Review_clean\"].apply(lambda x: sia.polarity_scores(x)['compound'])"
   ]
  },
  {
   "cell_type": "code",
   "execution_count": 170,
   "metadata": {},
   "outputs": [],
   "source": [
    "# Set polarities TextBlob\n",
    "conditions = [(df_clean[\"Polarity\"]>0),df_clean[\"Polarity\"]<=0]\n",
    "choices = [1,-1]\n",
    "df_clean[\"TB_score\"] = np.select(conditions,choices,default = 'null')\n",
    "df_clean[\"TB_score\"] = df_clean[\"TB_score\"].astype('int64')"
   ]
  },
  {
   "cell_type": "code",
   "execution_count": 171,
   "metadata": {},
   "outputs": [],
   "source": [
    "# Set polarities VADER\n",
    "conditions = [(df_clean[\"VComp\"]>=0.05),df_clean[\"VComp\"]<0.05]\n",
    "choices = [1,-1]\n",
    "df_clean[\"VComp_score\"] = np.select(conditions,choices,default = 'null')\n",
    "df_clean[\"VComp_score\"] = df_clean[\"VComp_score\"].astype('int32')"
   ]
  },
  {
   "cell_type": "code",
   "execution_count": 173,
   "metadata": {},
   "outputs": [
    {
     "data": {
      "image/png": "[encoded data removed]",
      "text/plain": [
       "<Figure size 432x288 with 2 Axes>"
      ]
     },
     "metadata": {},
     "output_type": "display_data"
    }
   ],
   "source": [
    "confusion_matrix = pd.crosstab(df_clean['Score'], df_clean['TB_score'], rownames=['User_score'], colnames=['TextBlob_score'])\n",
    "sns.heatmap(confusion_matrix, annot=True,fmt=\".0f\")\n",
    "plt.show()"
   ]
  },
  {
   "cell_type": "code",
   "execution_count": 179,
   "metadata": {},
   "outputs": [
    {
     "data": {
      "text/plain": [
       "-1    1301\n",
       " 1    1301\n",
       "Name: Score, dtype: int64"
      ]
     },
     "execution_count": 179,
     "metadata": {},
     "output_type": "execute_result"
    }
   ],
   "source": [
    "df_clean[\"Score\"].value_counts()"
   ]
  },
  {
   "cell_type": "code",
   "execution_count": 180,
   "metadata": {},
   "outputs": [
    {
     "data": {
      "text/plain": [
       "(80.86087624903921,\n",
       " 98.19927971188476,\n",
       " 62.874711760184475,\n",
       " 76.6635426429241,\n",
       " 80.86087624903921)"
      ]
     },
     "execution_count": 180,
     "metadata": {},
     "output_type": "execute_result"
    }
   ],
   "source": [
    "metrics(df_clean['Score'], df_clean['TB_score'])"
   ]
  },
  {
   "cell_type": "code",
   "execution_count": 181,
   "metadata": {},
   "outputs": [
    {
     "data": {
      "image/png": "[encoded data removed]",
      "text/plain": [
       "<Figure size 432x288 with 2 Axes>"
      ]
     },
     "metadata": {},
     "output_type": "display_data"
    }
   ],
   "source": [
    "confusion_matrix = pd.crosstab(df_clean['Score'], df_clean['VComp_score'], rownames=['User_score'], colnames=['Vader_score'])\n",
    "sns.heatmap(confusion_matrix, annot=True,fmt=\".0f\")\n",
    "plt.show()"
   ]
  },
  {
   "cell_type": "code",
   "execution_count": 182,
   "metadata": {},
   "outputs": [
    {
     "data": {
      "text/plain": [
       "(77.32513451191392,\n",
       " 98.63201094391245,\n",
       " 55.41890853189854,\n",
       " 70.96456692913385,\n",
       " 77.32513451191392)"
      ]
     },
     "execution_count": 182,
     "metadata": {},
     "output_type": "execute_result"
    }
   ],
   "source": [
    "metrics(df_clean['Score'], df_clean['VComp_score'])"
   ]
  },
  {
   "cell_type": "markdown",
   "metadata": {},
   "source": [
    "# Section 7: Summary"
   ]
  },
  {
   "cell_type": "markdown",
   "metadata": {},
   "source": [
    "Summary\n",
    "\n",
    "* There appears to be a negative relationship between the length of review and the VADER score.\n",
    "* For negative reviews misclassified as positive, the longer reviews are more positive \n",
    "* There are very few good reviews misclassed as bad reviews.\n",
    "* Therefore where people write long and negative reviews VADER does not always pick up the negative sentiment and tends to classify the review as positive\n",
    "* When the data was cleaned, VADER's results generally got worse but TextBlob's improved \n",
    "* Recall on both is still fairly low, with the best recall of % on TextBlob with the cleaned text."
   ]
  },
  {
   "cell_type": "markdown",
   "metadata": {},
   "source": [
    "The Rules Based Sentiment Analysers achieve good accuracy but recall is poor. They appear to struggle with longer review text when classifying \"Bad\" reviews. They do not appear to account for context well in these cases. "
   ]
  }
 ],
 "metadata": {
  "kernelspec": {
   "display_name": "Python 3",
   "language": "python",
   "name": "python3"
  },
  "language_info": {
   "codemirror_mode": {
    "name": "ipython",
    "version": 3
   },
   "file_extension": ".py",
   "mimetype": "text/x-python",
   "name": "python",
   "nbconvert_exporter": "python",
   "pygments_lexer": "ipython3",
   "version": "3.8.8"
  }
 },
 "nbformat": 4,
 "nbformat_minor": 2
}
