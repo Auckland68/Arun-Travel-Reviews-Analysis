{
 "cells": [
  {
   "cell_type": "markdown",
   "metadata": {},
   "source": [
    "# Keyword Extraction"
   ]
  },
  {
   "cell_type": "markdown",
   "metadata": {},
   "source": [
    "This notebook shows various keyword extraction to extract the key themes in the reviews as a first step to infer topics which can be used as apsects for each category. Various methods are considered, including extracting noun phrases and keywords for each category.\n",
    "\n",
    "* Section 1 - preprocessing\n",
    "* Section 2 - noun phrase extraction\n",
    "* Section 3 - TextRank\n",
    "* Section 4 - Keyword extraction - unigrams\n",
    "* Section 5 - Bigrams\n",
    "* Section 6 - Noun-adjective pairs\n",
    "* Section 7 - Summary\n"
   ]
  },
  {
   "cell_type": "markdown",
   "metadata": {},
   "source": [
    "# Import Libraries and Dataset"
   ]
  },
  {
   "cell_type": "code",
   "execution_count": 490,
   "metadata": {},
   "outputs": [
    {
     "name": "stdout",
     "output_type": "stream",
     "text": [
      "Requirement already satisfied: contractions in c:\\users\\imoge\\anaconda3\\envs\\mscthesis\\lib\\site-packages (0.0.48)\n",
      "Requirement already satisfied: textsearch>=0.0.21 in c:\\users\\imoge\\anaconda3\\envs\\mscthesis\\lib\\site-packages (from contractions) (0.0.21)\n",
      "Requirement already satisfied: anyascii in c:\\users\\imoge\\anaconda3\\envs\\mscthesis\\lib\\site-packages (from textsearch>=0.0.21->contractions) (0.2.0)\n",
      "Requirement already satisfied: pyahocorasick in c:\\users\\imoge\\anaconda3\\envs\\mscthesis\\lib\\site-packages (from textsearch>=0.0.21->contractions) (1.4.0)\n"
     ]
    }
   ],
   "source": [
    "#!pip install pyLDAvis\n",
    "!pip install contractions"
   ]
  },
  {
   "cell_type": "code",
   "execution_count": 698,
   "metadata": {},
   "outputs": [
    {
     "name": "stderr",
     "output_type": "stream",
     "text": [
      "[nltk_data] Downloading package brown to\n",
      "[nltk_data]     C:\\Users\\imoge\\AppData\\Roaming\\nltk_data...\n",
      "[nltk_data]   Package brown is already up-to-date!\n"
     ]
    }
   ],
   "source": [
    "import pandas as pd\n",
    "import numpy as np\n",
    "import matplotlib.pyplot as plt\n",
    "import contractions\n",
    "import string\n",
    "#from nltk.stem import WordNetLemmatizer\n",
    "from textblob import TextBlob\n",
    "import nltk\n",
    "nltk.download('brown')\n",
    "from nltk.corpus import stopwords\n",
    "from nltk.util import ngrams\n",
    "from nltk.tokenize import RegexpTokenizer, word_tokenize,sent_tokenize\n",
    "import gensim\n",
    "from gensim.utils import simple_preprocess\n",
    "from gensim import corpora, models\n",
    "from gensim.models import TfidfModel\n",
    "from gensim.summarization import keywords\n",
    "from operator import itemgetter\n",
    "from collections import Counter\n",
    "import ast\n",
    "import warnings\n",
    "warnings.filterwarnings(\"ignore\")"
   ]
  },
  {
   "cell_type": "code",
   "execution_count": 492,
   "metadata": {},
   "outputs": [],
   "source": [
    "# Bring in dataframe of cleaned sentences from Text Processing Notebook\n",
    "df_train = pd.read_csv(\"train_cleaned.csv\",index_col = 0)\n",
    "df_val = pd.read_csv(\"val_cleaned.csv\",index_col = 0)\n",
    "df_test = pd.read_csv(\"test_cleaned.csv\",index_col = 0)"
   ]
  },
  {
   "cell_type": "code",
   "execution_count": 493,
   "metadata": {},
   "outputs": [
    {
     "data": {
      "text/plain": [
       "(1453, 7)"
      ]
     },
     "execution_count": 493,
     "metadata": {},
     "output_type": "execute_result"
    }
   ],
   "source": [
    "# Get shape\n",
    "df_train.shape"
   ]
  },
  {
   "cell_type": "code",
   "execution_count": 494,
   "metadata": {},
   "outputs": [
    {
     "data": {
      "text/html": [
       "<div>\n",
       "<style scoped>\n",
       "    .dataframe tbody tr th:only-of-type {\n",
       "        vertical-align: middle;\n",
       "    }\n",
       "\n",
       "    .dataframe tbody tr th {\n",
       "        vertical-align: top;\n",
       "    }\n",
       "\n",
       "    .dataframe thead th {\n",
       "        text-align: right;\n",
       "    }\n",
       "</style>\n",
       "<table border=\"1\" class=\"dataframe\">\n",
       "  <thead>\n",
       "    <tr style=\"text-align: right;\">\n",
       "      <th></th>\n",
       "      <th>OrgInd</th>\n",
       "      <th>Town</th>\n",
       "      <th>Category</th>\n",
       "      <th>Score</th>\n",
       "      <th>Sent</th>\n",
       "      <th>Sent_clean</th>\n",
       "      <th>Pos</th>\n",
       "    </tr>\n",
       "  </thead>\n",
       "  <tbody>\n",
       "    <tr>\n",
       "      <th>0</th>\n",
       "      <td>245</td>\n",
       "      <td>Bognor</td>\n",
       "      <td>Accommodation</td>\n",
       "      <td>0</td>\n",
       "      <td>Central B &amp; B We had room 6, excellent view, w...</td>\n",
       "      <td>central room excellent view could see sea room...</td>\n",
       "      <td>[('central', 'JJ'), ('room', 'NN'), ('excellen...</td>\n",
       "    </tr>\n",
       "    <tr>\n",
       "      <th>1</th>\n",
       "      <td>209</td>\n",
       "      <td>Littlehampton</td>\n",
       "      <td>Accommodation</td>\n",
       "      <td>1</td>\n",
       "      <td>Not what it used to be... We lived in the area...</td>\n",
       "      <td>not used lived area year fact daughter worked ...</td>\n",
       "      <td>[('not', 'RB'), ('used', 'VBN'), ('lived', 'VB...</td>\n",
       "    </tr>\n",
       "    <tr>\n",
       "      <th>2</th>\n",
       "      <td>28</td>\n",
       "      <td>Bognor</td>\n",
       "      <td>Accommodation</td>\n",
       "      <td>0</td>\n",
       "      <td>Easter Break 5 days at Bognor Stayed in Rockpo...</td>\n",
       "      <td>easter break day stayed rockpool xu apartment ...</td>\n",
       "      <td>[('easter', 'JJ'), ('break', 'NN'), ('day', 'N...</td>\n",
       "    </tr>\n",
       "    <tr>\n",
       "      <th>3</th>\n",
       "      <td>365</td>\n",
       "      <td>Arundel</td>\n",
       "      <td>Accommodation</td>\n",
       "      <td>0</td>\n",
       "      <td>Fantastic pub inn tucked away at top of Arunde...</td>\n",
       "      <td>fantastic pub tucked away top asunder high str...</td>\n",
       "      <td>[('fantastic', 'JJ'), ('pub', 'NN'), ('tucked'...</td>\n",
       "    </tr>\n",
       "    <tr>\n",
       "      <th>4</th>\n",
       "      <td>389</td>\n",
       "      <td>Arundel</td>\n",
       "      <td>Accommodation</td>\n",
       "      <td>1</td>\n",
       "      <td>Charging top prices for low quality food Had t...</td>\n",
       "      <td>charging top price low quality food buttermilk...</td>\n",
       "      <td>[('charging', 'VBG'), ('top', 'JJ'), ('price',...</td>\n",
       "    </tr>\n",
       "  </tbody>\n",
       "</table>\n",
       "</div>"
      ],
      "text/plain": [
       "   OrgInd           Town       Category  Score  \\\n",
       "0     245         Bognor  Accommodation      0   \n",
       "1     209  Littlehampton  Accommodation      1   \n",
       "2      28         Bognor  Accommodation      0   \n",
       "3     365        Arundel  Accommodation      0   \n",
       "4     389        Arundel  Accommodation      1   \n",
       "\n",
       "                                                Sent  \\\n",
       "0  Central B & B We had room 6, excellent view, w...   \n",
       "1  Not what it used to be... We lived in the area...   \n",
       "2  Easter Break 5 days at Bognor Stayed in Rockpo...   \n",
       "3  Fantastic pub inn tucked away at top of Arunde...   \n",
       "4  Charging top prices for low quality food Had t...   \n",
       "\n",
       "                                          Sent_clean  \\\n",
       "0  central room excellent view could see sea room...   \n",
       "1  not used lived area year fact daughter worked ...   \n",
       "2  easter break day stayed rockpool xu apartment ...   \n",
       "3  fantastic pub tucked away top asunder high str...   \n",
       "4  charging top price low quality food buttermilk...   \n",
       "\n",
       "                                                 Pos  \n",
       "0  [('central', 'JJ'), ('room', 'NN'), ('excellen...  \n",
       "1  [('not', 'RB'), ('used', 'VBN'), ('lived', 'VB...  \n",
       "2  [('easter', 'JJ'), ('break', 'NN'), ('day', 'N...  \n",
       "3  [('fantastic', 'JJ'), ('pub', 'NN'), ('tucked'...  \n",
       "4  [('charging', 'VBG'), ('top', 'JJ'), ('price',...  "
      ]
     },
     "execution_count": 494,
     "metadata": {},
     "output_type": "execute_result"
    }
   ],
   "source": [
    "# Look at first few rows\n",
    "df_train.head()"
   ]
  },
  {
   "cell_type": "code",
   "execution_count": 495,
   "metadata": {},
   "outputs": [
    {
     "data": {
      "text/plain": [
       "Bognor           557\n",
       "Arundel          460\n",
       "Littlehampton    436\n",
       "Name: Town, dtype: int64"
      ]
     },
     "execution_count": 495,
     "metadata": {},
     "output_type": "execute_result"
    }
   ],
   "source": [
    "# Look at the split over towns\n",
    "df_train[\"Town\"].value_counts()"
   ]
  },
  {
   "cell_type": "code",
   "execution_count": 496,
   "metadata": {},
   "outputs": [
    {
     "data": {
      "text/plain": [
       "Food             1062\n",
       "Accommodation     332\n",
       "Attractions        59\n",
       "Name: Category, dtype: int64"
      ]
     },
     "execution_count": 496,
     "metadata": {},
     "output_type": "execute_result"
    }
   ],
   "source": [
    "# Look at the split over categories\n",
    "df_train[\"Category\"].value_counts()"
   ]
  },
  {
   "cell_type": "code",
   "execution_count": 497,
   "metadata": {},
   "outputs": [
    {
     "name": "stdout",
     "output_type": "stream",
     "text": [
      "<class 'pandas.core.frame.DataFrame'>\n",
      "Int64Index: 1453 entries, 0 to 1452\n",
      "Data columns (total 7 columns):\n",
      " #   Column      Non-Null Count  Dtype \n",
      "---  ------      --------------  ----- \n",
      " 0   OrgInd      1453 non-null   int64 \n",
      " 1   Town        1453 non-null   object\n",
      " 2   Category    1453 non-null   object\n",
      " 3   Score       1453 non-null   int64 \n",
      " 4   Sent        1453 non-null   object\n",
      " 5   Sent_clean  1453 non-null   object\n",
      " 6   Pos         1453 non-null   object\n",
      "dtypes: int64(2), object(5)\n",
      "memory usage: 90.8+ KB\n"
     ]
    }
   ],
   "source": [
    "df_train.info()"
   ]
  },
  {
   "cell_type": "markdown",
   "metadata": {},
   "source": [
    "# Section 2: Noun Phrase Extraction - unweighted and weighted"
   ]
  },
  {
   "cell_type": "markdown",
   "metadata": {},
   "source": [
    "A noun phrase is a small group of words which contains a noun\n"
   ]
  },
  {
   "cell_type": "markdown",
   "metadata": {},
   "source": [
    "## Unweighted"
   ]
  },
  {
   "cell_type": "code",
   "execution_count": 498,
   "metadata": {},
   "outputs": [],
   "source": [
    "# Create function to extract noun phrases from a review using TextBlob\n",
    "def noun_finder(x):\n",
    "    blob = TextBlob(x)\n",
    "    return blob.noun_phrases"
   ]
  },
  {
   "cell_type": "code",
   "execution_count": 566,
   "metadata": {},
   "outputs": [
    {
     "data": {
      "text/plain": [
       "'central room excellent view could see sea room top floor one single told occupancy given workman digging part put new swimming pool accomodation parking could problem alison gave u permit sort u thankfully good breakfast hash brown come english breakfast edible bubble squeak black pudding room clean shade green decor bit ofputting lime green armchair not thing not cheap near high street decide'"
      ]
     },
     "execution_count": 566,
     "metadata": {},
     "output_type": "execute_result"
    }
   ],
   "source": [
    "# Sample review\n",
    "example = h_train[\"Sent_clean\"].iloc[0]\n",
    "example2 = h_train[\"Sent_clean\"].iloc[1]\n",
    "example"
   ]
  },
  {
   "cell_type": "code",
   "execution_count": 635,
   "metadata": {},
   "outputs": [
    {
     "data": {
      "text/plain": [
       "WordList(['central room', 'excellent view', 'sea room top floor', 'pool accomodation', 'problem alison', 'sort u', 'good breakfast hash', 'english breakfast edible bubble squeak', 'clean shade green decor bit', 'lime green armchair', 'high street'])"
      ]
     },
     "execution_count": 635,
     "metadata": {},
     "output_type": "execute_result"
    }
   ],
   "source": [
    "example_noun_phrases = noun_finder(example)\n",
    "example_noun_phrases"
   ]
  },
  {
   "cell_type": "code",
   "execution_count": 660,
   "metadata": {},
   "outputs": [],
   "source": [
    "# Put to a normal python list \n",
    "new_list = []\n",
    "for item in example_noun_phrases:\n",
    "    new_list.append(item)"
   ]
  },
  {
   "cell_type": "code",
   "execution_count": 665,
   "metadata": {},
   "outputs": [],
   "source": [
    "new_list = [new_list]"
   ]
  },
  {
   "cell_type": "code",
   "execution_count": 499,
   "metadata": {},
   "outputs": [],
   "source": [
    "# Make sure sentences are strings and then apply the function to whole dataframe\n",
    "df_train[\"Sent_clean\"] = df_train[\"Sent_clean\"].astype(str)\n",
    "df_train[\"noun_phrases\"] = df_train[\"Sent_clean\"].apply(lambda x: noun_finder(x))"
   ]
  },
  {
   "cell_type": "code",
   "execution_count": 500,
   "metadata": {},
   "outputs": [],
   "source": [
    "# Remove empty lists\n",
    "df_train = df_train[(df_train['noun_phrases'].str.len() != 0)]"
   ]
  },
  {
   "cell_type": "code",
   "execution_count": 501,
   "metadata": {},
   "outputs": [
    {
     "data": {
      "text/plain": [
       "(1452, 8)"
      ]
     },
     "execution_count": 501,
     "metadata": {},
     "output_type": "execute_result"
    }
   ],
   "source": [
    "# Revised shape\n",
    "df_train.shape"
   ]
  },
  {
   "cell_type": "code",
   "execution_count": 502,
   "metadata": {},
   "outputs": [],
   "source": [
    "# Split between the categories - accommodation, food and attractions\n",
    "h_train = df_train[df_train[\"Category\"] == \"Accommodation\"]\n",
    "f_train = df_train[df_train[\"Category\"] == \"Food\"]\n",
    "a_train = df_train[df_train[\"Category\"] == \"Attractions\"]"
   ]
  },
  {
   "cell_type": "markdown",
   "metadata": {},
   "source": [
    "Extracting noun phrases for each review does appear to identify helpful information at a detail level."
   ]
  },
  {
   "cell_type": "code",
   "execution_count": 555,
   "metadata": {},
   "outputs": [],
   "source": [
    "# Function to extract the noun phrases into list of lists\n",
    "def noun_extract(df):\n",
    "    words = df[\"noun_phrases\"].apply(lambda x: [item for item in x]).tolist()\n",
    "    return words"
   ]
  },
  {
   "cell_type": "code",
   "execution_count": 504,
   "metadata": {},
   "outputs": [],
   "source": [
    "# Apply to dataframes\n",
    "words_accom = noun_extract(h_train)\n",
    "words_food = noun_extract(f_train)\n",
    "words_attract = noun_extract(a_train)"
   ]
  },
  {
   "cell_type": "code",
   "execution_count": 505,
   "metadata": {},
   "outputs": [
    {
     "data": {
      "text/plain": [
       "[['central room',\n",
       "  'excellent view',\n",
       "  'sea room top floor',\n",
       "  'pool accomodation',\n",
       "  'problem alison',\n",
       "  'sort u',\n",
       "  'good breakfast hash',\n",
       "  'english breakfast edible bubble squeak',\n",
       "  'clean shade green decor bit',\n",
       "  'lime green armchair',\n",
       "  'high street']]"
      ]
     },
     "execution_count": 505,
     "metadata": {},
     "output_type": "execute_result"
    }
   ],
   "source": [
    "words_accom[0:1]"
   ]
  },
  {
   "cell_type": "markdown",
   "metadata": {},
   "source": [
    "## Weighted"
   ]
  },
  {
   "cell_type": "code",
   "execution_count": 626,
   "metadata": {},
   "outputs": [
    {
     "data": {
      "text/plain": [
       "'central room excellent view could see sea room top floor one single told occupancy given workman digging part put new swimming pool accomodation parking could problem alison gave u permit sort u thankfully good breakfast hash brown come english breakfast edible bubble squeak black pudding room clean shade green decor bit ofputting lime green armchair not thing not cheap near high street decide'"
      ]
     },
     "execution_count": 626,
     "metadata": {},
     "output_type": "execute_result"
    }
   ],
   "source": [
    "# Example review text\n",
    "example"
   ]
  },
  {
   "cell_type": "code",
   "execution_count": 671,
   "metadata": {},
   "outputs": [
    {
     "name": "stdout",
     "output_type": "stream",
     "text": [
      "[['central room', 1], ['clean shade green decor bit', 1], ['english breakfast edible bubble squeak', 1], ['excellent view', 1], ['good breakfast hash', 1], ['high street', 1], ['lime green armchair', 1], ['pool accomodation', 1], ['problem alison', 1], ['sea room top floor', 1], ['sort u', 1]]\n"
     ]
    }
   ],
   "source": [
    "# Set dictionary and corpus and print out the words and number of occurrences for each word\n",
    "dictionary  = corpora.Dictionary(new_list)\n",
    "corpus = [dictionary.doc2bow(word) for word in new_list]\n",
    "for doc in corpus:\n",
    "    print([[mydict[id], freq] for id, freq in doc])"
   ]
  },
  {
   "cell_type": "code",
   "execution_count": 672,
   "metadata": {},
   "outputs": [
    {
     "name": "stdout",
     "output_type": "stream",
     "text": [
      "[['central room', 0.3], ['clean shade green decor bit', 0.3], ['english breakfast edible bubble squeak', 0.3], ['excellent view', 0.3], ['good breakfast hash', 0.3], ['high street', 0.3], ['lime green armchair', 0.3], ['pool accomodation', 0.3], ['problem alison', 0.3], ['sea room top floor', 0.3], ['sort u', 0.3]]\n"
     ]
    }
   ],
   "source": [
    "# Use the TFIDF weighting and print out words and weights from the example\n",
    "tfidf = models.TfidfModel(corpus, smartirs='ntc')\n",
    "for doc in tfidf[corpus]:\n",
    "    print([[mydict[id], np.around(freq, decimals=2)] for id, freq in doc])"
   ]
  },
  {
   "cell_type": "code",
   "execution_count": 583,
   "metadata": {},
   "outputs": [],
   "source": [
    "# Create the gensim dictionary and corpus and get the weighted noun phrases bassed on the TFIDF model (for whole dataframe)\n",
    "# Code source: Text Analytics with Python (Sarkar)\n",
    "\n",
    "def createdictionary(df):\n",
    "    dictionary  = corpora.Dictionary(df)\n",
    "    corpus = [dictionary.doc2bow(word) for word in df]\n",
    "    model = TfidfModel(corpus) \n",
    "    vector = model[corpus]\n",
    "    weighted_noun_phrases = {dictionary.get(idx): value for doc in vector for idx, value in doc}\n",
    "    weighted_noun_phrases_s = sorted(weighted_noun_phrases.items(),key = itemgetter(1),reverse = True)\n",
    "    weighted_noun_phrases_s = [(term,round(wt,3)) for term,wt in weighted_noun_phrases_s]\n",
    "    \n",
    "    return weighted_noun_phrases, weighted_noun_phrases_s"
   ]
  },
  {
   "cell_type": "code",
   "execution_count": 584,
   "metadata": {},
   "outputs": [],
   "source": [
    "# Run function against the noun phrases word list\n",
    "weighted_noun_accom = createdictionary(words_accom)[1]\n",
    "weighted_noun_food = createdictionary(words_food)[1]\n",
    "weighted_noun_attract = createdictionary(words_attract)[1]"
   ]
  },
  {
   "cell_type": "code",
   "execution_count": 508,
   "metadata": {},
   "outputs": [
    {
     "data": {
      "text/plain": [
       "[('friendly place stay', 0.894),\n",
       " ('littlehampton oh', 0.75),\n",
       " ('clean warm.breakfast plentiful tasty', 0.707),\n",
       " ('good text email staff criticism decor room', 0.707),\n",
       " ('busy mum', 0.707),\n",
       " ('friendly kind place', 0.707),\n",
       " ('main entrance axe entrance', 0.707),\n",
       " ('main entrance disability', 0.707),\n",
       " ('basic travelodges inn', 0.707),\n",
       " ('need overall', 0.707)]"
      ]
     },
     "execution_count": 508,
     "metadata": {},
     "output_type": "execute_result"
    }
   ],
   "source": [
    "# Get the top 10 weighted noun phrases for accomodation\n",
    "weighted_noun_accom[:10]"
   ]
  },
  {
   "cell_type": "code",
   "execution_count": 509,
   "metadata": {},
   "outputs": [
    {
     "data": {
      "text/plain": [
       "[('great food jasmine tammy', 1.0),\n",
       " ('gem accident coffee staff', 1.0),\n",
       " ('good ufc', 1.0),\n",
       " ('excellent meal food', 1.0),\n",
       " ('bad customer relation', 1.0),\n",
       " ('area april hen night', 1.0),\n",
       " ('usual pub grub service', 1.0),\n",
       " ('bill 29. party 8.', 1.0),\n",
       " ('meal delicious sunday roast staff awesome food', 1.0),\n",
       " ('expectation delicious food exceptional wine', 1.0)]"
      ]
     },
     "execution_count": 509,
     "metadata": {},
     "output_type": "execute_result"
    }
   ],
   "source": [
    "# Get the top 10 weighted noun phrases for food\n",
    "weighted_noun_food[:10]"
   ]
  },
  {
   "cell_type": "code",
   "execution_count": 510,
   "metadata": {},
   "outputs": [
    {
     "data": {
      "text/plain": [
       "[('bin lol', 1.0),\n",
       " ('soft play', 0.802),\n",
       " ('lovely food', 0.729),\n",
       " ('ground self spoilt family u', 0.707),\n",
       " ('holiday family dog', 0.707),\n",
       " ('local shop', 0.707),\n",
       " ('way high adult party', 0.707),\n",
       " ('beach dog', 0.577),\n",
       " ('big pebble walk', 0.577),\n",
       " ('nice dog tide', 0.577)]"
      ]
     },
     "execution_count": 510,
     "metadata": {},
     "output_type": "execute_result"
    }
   ],
   "source": [
    "# Get the top 10 weighted noun phrases for attractions\n",
    "weighted_noun_attract[:10]"
   ]
  },
  {
   "cell_type": "markdown",
   "metadata": {},
   "source": [
    "This does highlight noun phrases but is perhaps too specific, a more general summary is more helpful when considering a large number of reviews."
   ]
  },
  {
   "cell_type": "markdown",
   "metadata": {},
   "source": [
    "# Section 3: Keywords in Gensim using TextRank"
   ]
  },
  {
   "cell_type": "markdown",
   "metadata": {},
   "source": [
    "Useful to find most relevant sentences or keywords in text. Graph based model so two words found together given higher weight\n",
    "\n",
    "Source: https://web.eecs.umich.edu/~mihalcea/papers/mihalcea.emnlp04.pdf"
   ]
  },
  {
   "cell_type": "code",
   "execution_count": 677,
   "metadata": {},
   "outputs": [],
   "source": [
    "# Function to join list of lists to list of strings then join to get a string. Textrank is a graph-based ranking model\n",
    "    \n",
    "def join_words(df):\n",
    "    words_joined = [','.join(word) for word in df] \n",
    "    words_joined = ''.join(words_joined)\n",
    "    key_words = keywords(words_joined,ratio = 1.0, scores = True, lemmatize = True)\n",
    "    [(item,round(score,3)) for item,score in key_words[:15]]\n",
    "    return key_words"
   ]
  },
  {
   "cell_type": "code",
   "execution_count": 679,
   "metadata": {},
   "outputs": [
    {
     "name": "stdout",
     "output_type": "stream",
     "text": [
      "[('breakfast', 0.3271584398929237), ('room', 0.2715342606344531), ('alison', 0.2209085350518678), ('accomodation', 0.21144897561639747), ('squeak shade green decor', 0.2087990178594937), ('view', 0.1825972809866289), ('edible bubble', 0.17402620012362077), ('bit', 0.17067215521670961), ('hash', 0.16907513401674962), ('floor', 0.12158316097942867), ('street', 0.11295160675812556), ('central', 0.10463174076214639)]\n"
     ]
    }
   ],
   "source": [
    "# Example review\n",
    "print(join_words(new_list))"
   ]
  },
  {
   "cell_type": "code",
   "execution_count": 673,
   "metadata": {},
   "outputs": [],
   "source": [
    "# Run function against the noun phrases dataframe\n",
    "key_words_accom = join_words(words_accom)\n",
    "key_words_food = join_words(words_food)\n",
    "key_words_attract = join_words(words_attract)"
   ]
  },
  {
   "cell_type": "code",
   "execution_count": 676,
   "metadata": {},
   "outputs": [
    {
     "data": {
      "text/plain": [
       "[('room', 0.4013187462734255),\n",
       " ('staff', 0.21018994448200798),\n",
       " ('food', 0.1381372717729494),\n",
       " ('breakfast', 0.13364229007144154),\n",
       " ('hotels expedite', 0.1268328573914479),\n",
       " ('lovely', 0.11035801064670926),\n",
       " ('area', 0.10522561445357863),\n",
       " ('bed', 0.10266964835127043),\n",
       " ('service', 0.09891203331906172),\n",
       " ('floor', 0.09715593454595772)]"
      ]
     },
     "execution_count": 676,
     "metadata": {},
     "output_type": "execute_result"
    }
   ],
   "source": [
    "# First 10 key words - weighted\n",
    "key_words_accom[0:10]"
   ]
  },
  {
   "cell_type": "code",
   "execution_count": 514,
   "metadata": {},
   "outputs": [
    {
     "data": {
      "text/plain": [
       "[('food', 0.4082934920343299),\n",
       " ('serviceate', 0.22634296648545033),\n",
       " ('staff', 0.20814669805768246),\n",
       " ('table', 0.1610509328649532),\n",
       " ('place', 0.14078649495581932),\n",
       " ('menu', 0.13130242318556162),\n",
       " ('birthday restaurant', 0.10918795495013355),\n",
       " ('chip fish', 0.10706428766839243),\n",
       " ('drink', 0.08553543629449094),\n",
       " ('waitress', 0.08319197608953838)]"
      ]
     },
     "execution_count": 514,
     "metadata": {},
     "output_type": "execute_result"
    }
   ],
   "source": [
    "key_words_food[0:10]"
   ]
  },
  {
   "cell_type": "code",
   "execution_count": 515,
   "metadata": {},
   "outputs": [
    {
     "data": {
      "text/plain": [
       "[('goodness', 0.2667026828364715),\n",
       " ('great', 0.19421556639883336),\n",
       " ('cafe visit', 0.15796843890985524),\n",
       " ('park', 0.12585717332105012),\n",
       " ('lovely', 0.11312002288952913),\n",
       " ('beautiful', 0.10692160302106894),\n",
       " ('old', 0.09725674893268463),\n",
       " ('toilet', 0.09686780941270524),\n",
       " ('beach resident', 0.09287771617391655),\n",
       " ('family kid', 0.08677690339199262)]"
      ]
     },
     "execution_count": 515,
     "metadata": {},
     "output_type": "execute_result"
    }
   ],
   "source": [
    "key_words_attract[0:10]"
   ]
  },
  {
   "cell_type": "markdown",
   "metadata": {},
   "source": [
    "* Service, food and staff are the main themes for food outlets, for accommodation and attractions it is less clearcut\n",
    "* Many of the words are very specific rather than being general aspects"
   ]
  },
  {
   "cell_type": "markdown",
   "metadata": {},
   "source": [
    "# Section 4: Extracting Nouns - Unigrams"
   ]
  },
  {
   "cell_type": "code",
   "execution_count": 516,
   "metadata": {},
   "outputs": [
    {
     "name": "stdout",
     "output_type": "stream",
     "text": [
      "[('central', 'JJ'), ('room', 'NN'), ('excellent', 'JJ'), ('view', 'NN'), ('could', 'MD'), ('see', 'VB'), ('sea', 'JJ'), ('room', 'NN'), ('top', 'JJ'), ('floor', 'NN'), ('one', 'CD'), ('single', 'JJ'), ('told', 'VBD'), ('occupancy', 'NN'), ('given', 'VBN'), ('workman', 'JJ'), ('digging', 'VBG'), ('part', 'NN'), ('put', 'VBD'), ('new', 'JJ'), ('swimming', 'VBG'), ('pool', 'NN'), ('accomodation', 'NN'), ('parking', 'NN'), ('could', 'MD'), ('problem', 'NN'), ('alison', 'NN'), ('gave', 'VBD'), ('u', 'JJ'), ('permit', 'NN'), ('sort', 'NN'), ('u', 'IN'), ('thankfully', 'RB'), ('good', 'JJ'), ('breakfast', 'NN'), ('hash', 'NN'), ('brown', 'IN'), ('come', 'JJ'), ('english', 'JJ'), ('breakfast', 'NN'), ('edible', 'JJ'), ('bubble', 'JJ'), ('squeak', 'JJ'), ('black', 'JJ'), ('pudding', 'NN'), ('room', 'NN'), ('clean', 'JJ'), ('shade', 'NN'), ('green', 'JJ'), ('decor', 'NN'), ('bit', 'NN'), ('ofputting', 'VBG'), ('lime', 'JJ'), ('green', 'JJ'), ('armchair', 'NN'), ('not', 'RB'), ('thing', 'NN'), ('not', 'RB'), ('cheap', 'JJ'), ('near', 'RB'), ('high', 'JJ'), ('street', 'NN'), ('decide', 'VB')]\n"
     ]
    }
   ],
   "source": [
    "# check one line of the Pos column\n",
    "print(h_train.Pos.iloc[0])"
   ]
  },
  {
   "cell_type": "code",
   "execution_count": 517,
   "metadata": {},
   "outputs": [
    {
     "data": {
      "text/plain": [
       "str"
      ]
     },
     "execution_count": 517,
     "metadata": {},
     "output_type": "execute_result"
    }
   ],
   "source": [
    "# check type - it a string and not a list so needs to be converted\n",
    "type(h_train.Pos.iloc[0])"
   ]
  },
  {
   "cell_type": "code",
   "execution_count": 518,
   "metadata": {},
   "outputs": [],
   "source": [
    "# Tokenize and get parts of speech function then extract nouns only (convert string to a list first with literal eval)\n",
    "\n",
    "def token(df):\n",
    "    import ast\n",
    "    df[\"Pos\"] = df[\"Pos\"].apply(lambda x: ast.literal_eval(x))\n",
    "    df['noun_adj'] = df['Pos'].apply(lambda x: [i[0] for i in x if i[1].startswith((\"N\",\"J\"))])\n",
    "    df['nouns'] = df['Pos'].apply(lambda x: [i[0] for i in x if i[1].startswith('N')])\n",
    "    df[\"nouns_count\"] = df[\"nouns\"].apply(lambda x: Counter(x))\n",
    "    return df"
   ]
  },
  {
   "cell_type": "code",
   "execution_count": 519,
   "metadata": {},
   "outputs": [],
   "source": [
    "# Run function for each of the categories\n",
    "nouns_accom = token(h_train)\n",
    "nouns_food = token(f_train)\n",
    "nouns_attract = token(a_train)"
   ]
  },
  {
   "cell_type": "code",
   "execution_count": 520,
   "metadata": {},
   "outputs": [],
   "source": [
    "nouns_attract.nouns.to_csv(\"LOOKATTHIS.csv\")"
   ]
  },
  {
   "cell_type": "code",
   "execution_count": 521,
   "metadata": {},
   "outputs": [],
   "source": [
    "# Function to get the top words across all the reviews for each category\n",
    "def count_total(df,col):\n",
    "    df = df[col].sum().most_common()\n",
    "    return df"
   ]
  },
  {
   "cell_type": "code",
   "execution_count": 687,
   "metadata": {},
   "outputs": [
    {
     "name": "stdout",
     "output_type": "stream",
     "text": [
      "Counter({'room': 3, 'breakfast': 2, 'view': 1, 'floor': 1, 'occupancy': 1, 'part': 1, 'pool': 1, 'accomodation': 1, 'parking': 1, 'problem': 1, 'alison': 1, 'permit': 1, 'sort': 1, 'hash': 1, 'pudding': 1, 'shade': 1, 'decor': 1, 'bit': 1, 'armchair': 1, 'thing': 1, 'street': 1})\n"
     ]
    }
   ],
   "source": [
    "# Example review\n",
    "print(nouns_accom[\"nouns_count\"].iloc[0])"
   ]
  },
  {
   "cell_type": "code",
   "execution_count": 522,
   "metadata": {},
   "outputs": [],
   "source": [
    "# Run function for all dataframes\n",
    "accom_count = pd.DataFrame(count_total(nouns_accom,\"nouns_count\"),columns = [\"Word\",\"Count\"])\n",
    "food_count = pd.DataFrame(count_total(nouns_food,\"nouns_count\"),columns = [\"Word\",\"Count\"])\n",
    "attract_count = pd.DataFrame(count_total(nouns_attract,\"nouns_count\"),columns = [\"Word\",\"Count\"])"
   ]
  },
  {
   "cell_type": "code",
   "execution_count": 523,
   "metadata": {},
   "outputs": [
    {
     "data": {
      "text/html": [
       "<div>\n",
       "<style scoped>\n",
       "    .dataframe tbody tr th:only-of-type {\n",
       "        vertical-align: middle;\n",
       "    }\n",
       "\n",
       "    .dataframe tbody tr th {\n",
       "        vertical-align: top;\n",
       "    }\n",
       "\n",
       "    .dataframe thead th {\n",
       "        text-align: right;\n",
       "    }\n",
       "</style>\n",
       "<table border=\"1\" class=\"dataframe\">\n",
       "  <thead>\n",
       "    <tr style=\"text-align: right;\">\n",
       "      <th></th>\n",
       "      <th>Word</th>\n",
       "      <th>Count</th>\n",
       "    </tr>\n",
       "  </thead>\n",
       "  <tbody>\n",
       "    <tr>\n",
       "      <th>0</th>\n",
       "      <td>room</td>\n",
       "      <td>425</td>\n",
       "    </tr>\n",
       "    <tr>\n",
       "      <th>1</th>\n",
       "      <td>hotel</td>\n",
       "      <td>215</td>\n",
       "    </tr>\n",
       "    <tr>\n",
       "      <th>2</th>\n",
       "      <td>staff</td>\n",
       "      <td>204</td>\n",
       "    </tr>\n",
       "    <tr>\n",
       "      <th>3</th>\n",
       "      <td>night</td>\n",
       "      <td>133</td>\n",
       "    </tr>\n",
       "    <tr>\n",
       "      <th>4</th>\n",
       "      <td>food</td>\n",
       "      <td>129</td>\n",
       "    </tr>\n",
       "    <tr>\n",
       "      <th>5</th>\n",
       "      <td>pool</td>\n",
       "      <td>113</td>\n",
       "    </tr>\n",
       "    <tr>\n",
       "      <th>6</th>\n",
       "      <td>place</td>\n",
       "      <td>104</td>\n",
       "    </tr>\n",
       "    <tr>\n",
       "      <th>7</th>\n",
       "      <td>stay</td>\n",
       "      <td>103</td>\n",
       "    </tr>\n",
       "    <tr>\n",
       "      <th>8</th>\n",
       "      <td>breakfast</td>\n",
       "      <td>102</td>\n",
       "    </tr>\n",
       "    <tr>\n",
       "      <th>9</th>\n",
       "      <td>family</td>\n",
       "      <td>99</td>\n",
       "    </tr>\n",
       "  </tbody>\n",
       "</table>\n",
       "</div>"
      ],
      "text/plain": [
       "        Word  Count\n",
       "0       room    425\n",
       "1      hotel    215\n",
       "2      staff    204\n",
       "3      night    133\n",
       "4       food    129\n",
       "5       pool    113\n",
       "6      place    104\n",
       "7       stay    103\n",
       "8  breakfast    102\n",
       "9     family     99"
      ]
     },
     "execution_count": 523,
     "metadata": {},
     "output_type": "execute_result"
    }
   ],
   "source": [
    "# List accommodation top 10 words\n",
    "accom_count.head(10)"
   ]
  },
  {
   "cell_type": "code",
   "execution_count": 524,
   "metadata": {},
   "outputs": [],
   "source": [
    "accom_count.to_csv(\"ACCOM_NOUNS.csv\")"
   ]
  },
  {
   "cell_type": "code",
   "execution_count": 526,
   "metadata": {},
   "outputs": [],
   "source": [
    "def graphmatplot(df,name):\n",
    "    fig, ax = plt.subplots(figsize = (8,6))\n",
    "    ax.set_facecolor(\"White\")\n",
    "    df = df.sort_values(by = \"Count\",ascending = False).head(15)\n",
    "    ax.barh(df[\"Word\"], width = df[\"Count\"], color = \"slategrey\")\n",
    "    ax.set_title(name,fontsize = 12)\n",
    "    ax.invert_yaxis()\n",
    "    ax.set_xlabel(\"Number\",labelpad = 10)\n",
    "    ax.spines['right'].set_visible(False)\n",
    "    ax.spines['top'].set_visible(False)\n",
    "    ax.spines['left'].set_visible(False)\n",
    "    ax.spines['bottom'].set_visible(False)\n",
    "    plt.show()"
   ]
  },
  {
   "cell_type": "code",
   "execution_count": 527,
   "metadata": {},
   "outputs": [
    {
     "data": {
      "image/png": "[encoded data removed]",
      "text/plain": [
       "<Figure size 576x432 with 1 Axes>"
      ]
     },
     "metadata": {
      "needs_background": "light"
     },
     "output_type": "display_data"
    }
   ],
   "source": [
    "graphmatplot(accom_count,\"Top 15 Accommodation Words\")"
   ]
  },
  {
   "cell_type": "code",
   "execution_count": 529,
   "metadata": {},
   "outputs": [
    {
     "data": {
      "text/html": [
       "<div>\n",
       "<style scoped>\n",
       "    .dataframe tbody tr th:only-of-type {\n",
       "        vertical-align: middle;\n",
       "    }\n",
       "\n",
       "    .dataframe tbody tr th {\n",
       "        vertical-align: top;\n",
       "    }\n",
       "\n",
       "    .dataframe thead th {\n",
       "        text-align: right;\n",
       "    }\n",
       "</style>\n",
       "<table border=\"1\" class=\"dataframe\">\n",
       "  <thead>\n",
       "    <tr style=\"text-align: right;\">\n",
       "      <th></th>\n",
       "      <th>Word</th>\n",
       "      <th>Count</th>\n",
       "    </tr>\n",
       "  </thead>\n",
       "  <tbody>\n",
       "    <tr>\n",
       "      <th>0</th>\n",
       "      <td>food</td>\n",
       "      <td>1012</td>\n",
       "    </tr>\n",
       "    <tr>\n",
       "      <th>1</th>\n",
       "      <td>staff</td>\n",
       "      <td>483</td>\n",
       "    </tr>\n",
       "    <tr>\n",
       "      <th>2</th>\n",
       "      <td>service</td>\n",
       "      <td>458</td>\n",
       "    </tr>\n",
       "    <tr>\n",
       "      <th>3</th>\n",
       "      <td>meal</td>\n",
       "      <td>316</td>\n",
       "    </tr>\n",
       "    <tr>\n",
       "      <th>4</th>\n",
       "      <td>restaurant</td>\n",
       "      <td>296</td>\n",
       "    </tr>\n",
       "    <tr>\n",
       "      <th>5</th>\n",
       "      <td>place</td>\n",
       "      <td>274</td>\n",
       "    </tr>\n",
       "    <tr>\n",
       "      <th>6</th>\n",
       "      <td>order</td>\n",
       "      <td>227</td>\n",
       "    </tr>\n",
       "    <tr>\n",
       "      <th>7</th>\n",
       "      <td>chip</td>\n",
       "      <td>216</td>\n",
       "    </tr>\n",
       "    <tr>\n",
       "      <th>8</th>\n",
       "      <td>menu</td>\n",
       "      <td>193</td>\n",
       "    </tr>\n",
       "    <tr>\n",
       "      <th>9</th>\n",
       "      <td>lunch</td>\n",
       "      <td>189</td>\n",
       "    </tr>\n",
       "  </tbody>\n",
       "</table>\n",
       "</div>"
      ],
      "text/plain": [
       "         Word  Count\n",
       "0        food   1012\n",
       "1       staff    483\n",
       "2     service    458\n",
       "3        meal    316\n",
       "4  restaurant    296\n",
       "5       place    274\n",
       "6       order    227\n",
       "7        chip    216\n",
       "8        menu    193\n",
       "9       lunch    189"
      ]
     },
     "execution_count": 529,
     "metadata": {},
     "output_type": "execute_result"
    }
   ],
   "source": [
    "# Top 10 nouns associated with food and the frequencies\n",
    "food_count.head(10)"
   ]
  },
  {
   "cell_type": "code",
   "execution_count": 530,
   "metadata": {},
   "outputs": [],
   "source": [
    "food_count.to_csv(\"FOOD_NOUNS.csv\")"
   ]
  },
  {
   "cell_type": "code",
   "execution_count": 531,
   "metadata": {},
   "outputs": [
    {
     "data": {
      "image/png": "[encoded data removed]",
      "text/plain": [
       "<Figure size 576x432 with 1 Axes>"
      ]
     },
     "metadata": {
      "needs_background": "light"
     },
     "output_type": "display_data"
    }
   ],
   "source": [
    "graphmatplot(food_count,\"Top 15 Food Words\")"
   ]
  },
  {
   "cell_type": "code",
   "execution_count": 533,
   "metadata": {},
   "outputs": [
    {
     "data": {
      "text/html": [
       "<div>\n",
       "<style scoped>\n",
       "    .dataframe tbody tr th:only-of-type {\n",
       "        vertical-align: middle;\n",
       "    }\n",
       "\n",
       "    .dataframe tbody tr th {\n",
       "        vertical-align: top;\n",
       "    }\n",
       "\n",
       "    .dataframe thead th {\n",
       "        text-align: right;\n",
       "    }\n",
       "</style>\n",
       "<table border=\"1\" class=\"dataframe\">\n",
       "  <thead>\n",
       "    <tr style=\"text-align: right;\">\n",
       "      <th></th>\n",
       "      <th>Word</th>\n",
       "      <th>Count</th>\n",
       "    </tr>\n",
       "  </thead>\n",
       "  <tbody>\n",
       "    <tr>\n",
       "      <th>0</th>\n",
       "      <td>beach</td>\n",
       "      <td>22</td>\n",
       "    </tr>\n",
       "    <tr>\n",
       "      <th>1</th>\n",
       "      <td>food</td>\n",
       "      <td>20</td>\n",
       "    </tr>\n",
       "    <tr>\n",
       "      <th>2</th>\n",
       "      <td>visit</td>\n",
       "      <td>20</td>\n",
       "    </tr>\n",
       "    <tr>\n",
       "      <th>3</th>\n",
       "      <td>money</td>\n",
       "      <td>16</td>\n",
       "    </tr>\n",
       "    <tr>\n",
       "      <th>4</th>\n",
       "      <td>room</td>\n",
       "      <td>16</td>\n",
       "    </tr>\n",
       "    <tr>\n",
       "      <th>5</th>\n",
       "      <td>area</td>\n",
       "      <td>16</td>\n",
       "    </tr>\n",
       "    <tr>\n",
       "      <th>6</th>\n",
       "      <td>staff</td>\n",
       "      <td>15</td>\n",
       "    </tr>\n",
       "    <tr>\n",
       "      <th>7</th>\n",
       "      <td>park</td>\n",
       "      <td>14</td>\n",
       "    </tr>\n",
       "    <tr>\n",
       "      <th>8</th>\n",
       "      <td>car</td>\n",
       "      <td>13</td>\n",
       "    </tr>\n",
       "    <tr>\n",
       "      <th>9</th>\n",
       "      <td>garden</td>\n",
       "      <td>12</td>\n",
       "    </tr>\n",
       "  </tbody>\n",
       "</table>\n",
       "</div>"
      ],
      "text/plain": [
       "     Word  Count\n",
       "0   beach     22\n",
       "1    food     20\n",
       "2   visit     20\n",
       "3   money     16\n",
       "4    room     16\n",
       "5    area     16\n",
       "6   staff     15\n",
       "7    park     14\n",
       "8     car     13\n",
       "9  garden     12"
      ]
     },
     "execution_count": 533,
     "metadata": {},
     "output_type": "execute_result"
    }
   ],
   "source": [
    "# Top 10 nouns associated with attractions and the frequencies\n",
    "attract_count.head(10)"
   ]
  },
  {
   "cell_type": "code",
   "execution_count": 534,
   "metadata": {},
   "outputs": [],
   "source": [
    "attract_count.to_csv(\"ATTRACT_NOUNS.csv\")"
   ]
  },
  {
   "cell_type": "code",
   "execution_count": 535,
   "metadata": {},
   "outputs": [
    {
     "data": {
      "image/png": "[encoded data removed]",
      "text/plain": [
       "<Figure size 576x432 with 1 Axes>"
      ]
     },
     "metadata": {
      "needs_background": "light"
     },
     "output_type": "display_data"
    }
   ],
   "source": [
    "graphmatplot(attract_count,\"Top 15 Attraction Words\")"
   ]
  },
  {
   "cell_type": "markdown",
   "metadata": {},
   "source": [
    "* Using just nouns gives a good idea of the important themes based on frequency of noun occurrence \n",
    "* Certain words like 'car-park' are not picked up as it splits them into car and park so bigrams might be better"
   ]
  },
  {
   "cell_type": "markdown",
   "metadata": {},
   "source": [
    "# Section 5: Bigrams"
   ]
  },
  {
   "cell_type": "code",
   "execution_count": 537,
   "metadata": {},
   "outputs": [],
   "source": [
    "nouns_accom[\"bigrams\"] = nouns_accom[\"nouns\"].apply(lambda x: ngrams(x,2))\n",
    "nouns_food[\"bigrams\"] = nouns_food[\"nouns\"].apply(lambda x: ngrams(x,2))\n",
    "nouns_attract[\"bigrams\"] = nouns_attract[\"nouns\"].apply(lambda x: ngrams(x,2))"
   ]
  },
  {
   "cell_type": "code",
   "execution_count": 538,
   "metadata": {},
   "outputs": [],
   "source": [
    "nouns_accom[\"bigrams_count\"] = nouns_accom[\"bigrams\"].apply(Counter)\n",
    "nouns_food[\"bigrams_count\"] = nouns_food[\"bigrams\"].apply(Counter)\n",
    "nouns_attract[\"bigrams_count\"] = nouns_attract[\"bigrams\"].apply(Counter)"
   ]
  },
  {
   "cell_type": "code",
   "execution_count": 689,
   "metadata": {},
   "outputs": [
    {
     "name": "stdout",
     "output_type": "stream",
     "text": [
      "Counter({('room', 'view'): 1, ('view', 'room'): 1, ('room', 'floor'): 1, ('floor', 'occupancy'): 1, ('occupancy', 'part'): 1, ('part', 'pool'): 1, ('pool', 'accomodation'): 1, ('accomodation', 'parking'): 1, ('parking', 'problem'): 1, ('problem', 'alison'): 1, ('alison', 'permit'): 1, ('permit', 'sort'): 1, ('sort', 'breakfast'): 1, ('breakfast', 'hash'): 1, ('hash', 'breakfast'): 1, ('breakfast', 'pudding'): 1, ('pudding', 'room'): 1, ('room', 'shade'): 1, ('shade', 'decor'): 1, ('decor', 'bit'): 1, ('bit', 'armchair'): 1, ('armchair', 'thing'): 1, ('thing', 'street'): 1})\n"
     ]
    }
   ],
   "source": [
    "# Example review\n",
    "print(nouns_accom[\"bigrams_count\"].iloc[0])"
   ]
  },
  {
   "cell_type": "code",
   "execution_count": 690,
   "metadata": {},
   "outputs": [],
   "source": [
    "# Save files for Topic Model Notebook\n",
    "nouns_accom.to_csv(\"NOUNS_ACCOM.CSV\")\n",
    "nouns_food.to_csv(\"NOUNS_FOOD.csv\")\n",
    "nouns_attract.to_csv(\"NOUNS_ATTRACT.CSV\")"
   ]
  },
  {
   "cell_type": "code",
   "execution_count": 540,
   "metadata": {},
   "outputs": [],
   "source": [
    "accom_bigram = pd.DataFrame(nouns_accom[\"bigrams_count\"].sum().most_common(),columns = [\"Word\",\"Count\"] )\n",
    "accom_bigram[\"Word\"] = accom_bigram[\"Word\"].apply(lambda x: ' '.join(x))"
   ]
  },
  {
   "cell_type": "code",
   "execution_count": 541,
   "metadata": {},
   "outputs": [
    {
     "data": {
      "text/html": [
       "<div>\n",
       "<style scoped>\n",
       "    .dataframe tbody tr th:only-of-type {\n",
       "        vertical-align: middle;\n",
       "    }\n",
       "\n",
       "    .dataframe tbody tr th {\n",
       "        vertical-align: top;\n",
       "    }\n",
       "\n",
       "    .dataframe thead th {\n",
       "        text-align: right;\n",
       "    }\n",
       "</style>\n",
       "<table border=\"1\" class=\"dataframe\">\n",
       "  <thead>\n",
       "    <tr style=\"text-align: right;\">\n",
       "      <th></th>\n",
       "      <th>Word</th>\n",
       "      <th>Count</th>\n",
       "    </tr>\n",
       "  </thead>\n",
       "  <tbody>\n",
       "    <tr>\n",
       "      <th>0</th>\n",
       "      <td>room room</td>\n",
       "      <td>27</td>\n",
       "    </tr>\n",
       "    <tr>\n",
       "      <th>1</th>\n",
       "      <td>staff room</td>\n",
       "      <td>20</td>\n",
       "    </tr>\n",
       "    <tr>\n",
       "      <th>2</th>\n",
       "      <td>hotel room</td>\n",
       "      <td>18</td>\n",
       "    </tr>\n",
       "    <tr>\n",
       "      <th>3</th>\n",
       "      <td>car park</td>\n",
       "      <td>14</td>\n",
       "    </tr>\n",
       "    <tr>\n",
       "      <th>4</th>\n",
       "      <td>value money</td>\n",
       "      <td>13</td>\n",
       "    </tr>\n",
       "    <tr>\n",
       "      <th>5</th>\n",
       "      <td>night stay</td>\n",
       "      <td>12</td>\n",
       "    </tr>\n",
       "    <tr>\n",
       "      <th>6</th>\n",
       "      <td>pool pool</td>\n",
       "      <td>12</td>\n",
       "    </tr>\n",
       "    <tr>\n",
       "      <th>7</th>\n",
       "      <td>customer service</td>\n",
       "      <td>12</td>\n",
       "    </tr>\n",
       "    <tr>\n",
       "      <th>8</th>\n",
       "      <td>place stay</td>\n",
       "      <td>10</td>\n",
       "    </tr>\n",
       "    <tr>\n",
       "      <th>9</th>\n",
       "      <td>member staff</td>\n",
       "      <td>10</td>\n",
       "    </tr>\n",
       "    <tr>\n",
       "      <th>10</th>\n",
       "      <td>staff hotel</td>\n",
       "      <td>9</td>\n",
       "    </tr>\n",
       "    <tr>\n",
       "      <th>11</th>\n",
       "      <td>room hotel</td>\n",
       "      <td>9</td>\n",
       "    </tr>\n",
       "    <tr>\n",
       "      <th>12</th>\n",
       "      <td>stay night</td>\n",
       "      <td>9</td>\n",
       "    </tr>\n",
       "    <tr>\n",
       "      <th>13</th>\n",
       "      <td>room floor</td>\n",
       "      <td>8</td>\n",
       "    </tr>\n",
       "    <tr>\n",
       "      <th>14</th>\n",
       "      <td>room night</td>\n",
       "      <td>8</td>\n",
       "    </tr>\n",
       "  </tbody>\n",
       "</table>\n",
       "</div>"
      ],
      "text/plain": [
       "                Word  Count\n",
       "0          room room     27\n",
       "1         staff room     20\n",
       "2         hotel room     18\n",
       "3           car park     14\n",
       "4        value money     13\n",
       "5         night stay     12\n",
       "6          pool pool     12\n",
       "7   customer service     12\n",
       "8         place stay     10\n",
       "9       member staff     10\n",
       "10       staff hotel      9\n",
       "11        room hotel      9\n",
       "12        stay night      9\n",
       "13        room floor      8\n",
       "14        room night      8"
      ]
     },
     "execution_count": 541,
     "metadata": {},
     "output_type": "execute_result"
    }
   ],
   "source": [
    "accom_bigram.head(15)"
   ]
  },
  {
   "cell_type": "code",
   "execution_count": 543,
   "metadata": {},
   "outputs": [],
   "source": [
    "food_bigram = pd.DataFrame(nouns_food[\"bigrams_count\"].sum().most_common(),columns = [\"Word\",\"Count\"] )\n",
    "food_bigram[\"Word\"] = food_bigram[\"Word\"].apply(lambda x: ' '.join(x))"
   ]
  },
  {
   "cell_type": "code",
   "execution_count": 544,
   "metadata": {},
   "outputs": [
    {
     "data": {
      "text/html": [
       "<div>\n",
       "<style scoped>\n",
       "    .dataframe tbody tr th:only-of-type {\n",
       "        vertical-align: middle;\n",
       "    }\n",
       "\n",
       "    .dataframe tbody tr th {\n",
       "        vertical-align: top;\n",
       "    }\n",
       "\n",
       "    .dataframe thead th {\n",
       "        text-align: right;\n",
       "    }\n",
       "</style>\n",
       "<table border=\"1\" class=\"dataframe\">\n",
       "  <thead>\n",
       "    <tr style=\"text-align: right;\">\n",
       "      <th></th>\n",
       "      <th>Word</th>\n",
       "      <th>Count</th>\n",
       "    </tr>\n",
       "  </thead>\n",
       "  <tbody>\n",
       "    <tr>\n",
       "      <th>0</th>\n",
       "      <td>food service</td>\n",
       "      <td>84</td>\n",
       "    </tr>\n",
       "    <tr>\n",
       "      <th>1</th>\n",
       "      <td>staff food</td>\n",
       "      <td>53</td>\n",
       "    </tr>\n",
       "    <tr>\n",
       "      <th>2</th>\n",
       "      <td>service food</td>\n",
       "      <td>51</td>\n",
       "    </tr>\n",
       "    <tr>\n",
       "      <th>3</th>\n",
       "      <td>food staff</td>\n",
       "      <td>43</td>\n",
       "    </tr>\n",
       "    <tr>\n",
       "      <th>4</th>\n",
       "      <td>value money</td>\n",
       "      <td>35</td>\n",
       "    </tr>\n",
       "    <tr>\n",
       "      <th>5</th>\n",
       "      <td>customer service</td>\n",
       "      <td>34</td>\n",
       "    </tr>\n",
       "    <tr>\n",
       "      <th>6</th>\n",
       "      <td>restaurant food</td>\n",
       "      <td>28</td>\n",
       "    </tr>\n",
       "    <tr>\n",
       "      <th>7</th>\n",
       "      <td>food food</td>\n",
       "      <td>27</td>\n",
       "    </tr>\n",
       "    <tr>\n",
       "      <th>8</th>\n",
       "      <td>food order</td>\n",
       "      <td>23</td>\n",
       "    </tr>\n",
       "    <tr>\n",
       "      <th>9</th>\n",
       "      <td>quality food</td>\n",
       "      <td>22</td>\n",
       "    </tr>\n",
       "    <tr>\n",
       "      <th>10</th>\n",
       "      <td>service staff</td>\n",
       "      <td>21</td>\n",
       "    </tr>\n",
       "    <tr>\n",
       "      <th>11</th>\n",
       "      <td>fish chip</td>\n",
       "      <td>20</td>\n",
       "    </tr>\n",
       "    <tr>\n",
       "      <th>12</th>\n",
       "      <td>place eat</td>\n",
       "      <td>20</td>\n",
       "    </tr>\n",
       "    <tr>\n",
       "      <th>13</th>\n",
       "      <td>food restaurant</td>\n",
       "      <td>19</td>\n",
       "    </tr>\n",
       "    <tr>\n",
       "      <th>14</th>\n",
       "      <td>menu food</td>\n",
       "      <td>19</td>\n",
       "    </tr>\n",
       "  </tbody>\n",
       "</table>\n",
       "</div>"
      ],
      "text/plain": [
       "                Word  Count\n",
       "0       food service     84\n",
       "1         staff food     53\n",
       "2       service food     51\n",
       "3         food staff     43\n",
       "4        value money     35\n",
       "5   customer service     34\n",
       "6    restaurant food     28\n",
       "7          food food     27\n",
       "8         food order     23\n",
       "9       quality food     22\n",
       "10     service staff     21\n",
       "11         fish chip     20\n",
       "12         place eat     20\n",
       "13   food restaurant     19\n",
       "14         menu food     19"
      ]
     },
     "execution_count": 544,
     "metadata": {},
     "output_type": "execute_result"
    }
   ],
   "source": [
    "food_bigram.head(15)"
   ]
  },
  {
   "cell_type": "code",
   "execution_count": 546,
   "metadata": {},
   "outputs": [],
   "source": [
    "attract_bigram = pd.DataFrame(nouns_attract[\"bigrams_count\"].sum().most_common(),columns = [\"Word\",\"Count\"] )\n",
    "attract_bigram[\"Word\"] = attract_bigram[\"Word\"].apply(lambda x: ' '.join(x))"
   ]
  },
  {
   "cell_type": "code",
   "execution_count": 547,
   "metadata": {},
   "outputs": [
    {
     "data": {
      "text/html": [
       "<div>\n",
       "<style scoped>\n",
       "    .dataframe tbody tr th:only-of-type {\n",
       "        vertical-align: middle;\n",
       "    }\n",
       "\n",
       "    .dataframe tbody tr th {\n",
       "        vertical-align: top;\n",
       "    }\n",
       "\n",
       "    .dataframe thead th {\n",
       "        text-align: right;\n",
       "    }\n",
       "</style>\n",
       "<table border=\"1\" class=\"dataframe\">\n",
       "  <thead>\n",
       "    <tr style=\"text-align: right;\">\n",
       "      <th></th>\n",
       "      <th>Word</th>\n",
       "      <th>Count</th>\n",
       "    </tr>\n",
       "  </thead>\n",
       "  <tbody>\n",
       "    <tr>\n",
       "      <th>0</th>\n",
       "      <td>car park</td>\n",
       "      <td>11</td>\n",
       "    </tr>\n",
       "    <tr>\n",
       "      <th>1</th>\n",
       "      <td>food drink</td>\n",
       "      <td>4</td>\n",
       "    </tr>\n",
       "    <tr>\n",
       "      <th>2</th>\n",
       "      <td>value money</td>\n",
       "      <td>3</td>\n",
       "    </tr>\n",
       "    <tr>\n",
       "      <th>3</th>\n",
       "      <td>money car</td>\n",
       "      <td>3</td>\n",
       "    </tr>\n",
       "    <tr>\n",
       "      <th>4</th>\n",
       "      <td>park entrance</td>\n",
       "      <td>3</td>\n",
       "    </tr>\n",
       "    <tr>\n",
       "      <th>5</th>\n",
       "      <td>lamb daughter</td>\n",
       "      <td>2</td>\n",
       "    </tr>\n",
       "    <tr>\n",
       "      <th>6</th>\n",
       "      <td>gift shop</td>\n",
       "      <td>2</td>\n",
       "    </tr>\n",
       "    <tr>\n",
       "      <th>7</th>\n",
       "      <td>fun fun</td>\n",
       "      <td>2</td>\n",
       "    </tr>\n",
       "    <tr>\n",
       "      <th>8</th>\n",
       "      <td>walk dog</td>\n",
       "      <td>2</td>\n",
       "    </tr>\n",
       "    <tr>\n",
       "      <th>9</th>\n",
       "      <td>visit hour</td>\n",
       "      <td>2</td>\n",
       "    </tr>\n",
       "    <tr>\n",
       "      <th>10</th>\n",
       "      <td>waste money</td>\n",
       "      <td>2</td>\n",
       "    </tr>\n",
       "    <tr>\n",
       "      <th>11</th>\n",
       "      <td>room block</td>\n",
       "      <td>2</td>\n",
       "    </tr>\n",
       "    <tr>\n",
       "      <th>12</th>\n",
       "      <td>block floor</td>\n",
       "      <td>2</td>\n",
       "    </tr>\n",
       "    <tr>\n",
       "      <th>13</th>\n",
       "      <td>food food</td>\n",
       "      <td>2</td>\n",
       "    </tr>\n",
       "    <tr>\n",
       "      <th>14</th>\n",
       "      <td>visit garden</td>\n",
       "      <td>2</td>\n",
       "    </tr>\n",
       "  </tbody>\n",
       "</table>\n",
       "</div>"
      ],
      "text/plain": [
       "             Word  Count\n",
       "0        car park     11\n",
       "1      food drink      4\n",
       "2     value money      3\n",
       "3       money car      3\n",
       "4   park entrance      3\n",
       "5   lamb daughter      2\n",
       "6       gift shop      2\n",
       "7         fun fun      2\n",
       "8        walk dog      2\n",
       "9      visit hour      2\n",
       "10    waste money      2\n",
       "11     room block      2\n",
       "12    block floor      2\n",
       "13      food food      2\n",
       "14   visit garden      2"
      ]
     },
     "execution_count": 547,
     "metadata": {},
     "output_type": "execute_result"
    }
   ],
   "source": [
    "attract_bigram.head(15)"
   ]
  },
  {
   "cell_type": "markdown",
   "metadata": {},
   "source": [
    "# Section 6: Nouns and Adjective Pairs"
   ]
  },
  {
   "cell_type": "code",
   "execution_count": 695,
   "metadata": {},
   "outputs": [],
   "source": [
    "# Bring in files from Keywords Notebook\n",
    "df_accom = pd.read_csv(\"NOUNS_ACCOM.csv\",index_col = 0)\n",
    "df_food = pd.read_csv(\"NOUNS_FOOD.csv\",index_col = 0)\n",
    "df_attract = pd.read_csv(\"NOUNS_ATTRACT.csv\",index_col = 0)"
   ]
  },
  {
   "cell_type": "code",
   "execution_count": 696,
   "metadata": {},
   "outputs": [],
   "source": [
    "# Function to drop nulls, drop unwanted columns,transform column which is a string to literal, then to a list\n",
    "\n",
    "def prep(df):\n",
    "    df.dropna(inplace = True)\n",
    "    df_new = df.drop(columns = [\"Sent\",\"Pos\",\"noun_phrases\",\"nouns_count\",\"bigrams\",\"bigrams_count\"],axis = 1)\n",
    "    df_new[\"nouns\"] = df_new[\"nouns\"].apply(lambda x: ast.literal_eval(x))\n",
    "    words = df_new.nouns.values.tolist()\n",
    "    return df_new, words"
   ]
  },
  {
   "cell_type": "code",
   "execution_count": 699,
   "metadata": {},
   "outputs": [],
   "source": [
    "# Run function\n",
    "accom_df, accom_nouns = prep(df_accom)\n",
    "food_df,food_nouns = prep(df_food)\n",
    "attract_df,attract_nouns = prep(df_attract)"
   ]
  },
  {
   "cell_type": "code",
   "execution_count": 700,
   "metadata": {},
   "outputs": [],
   "source": [
    "# Get the nouns and adjective pairs\n",
    "#nlp = nlp = spacy.load(\"en.core.web.sm\")\n",
    "\n",
    "import en_core_web_sm\n",
    "nlp = en_core_web_sm.load()\n",
    "\n",
    "def transform(x):\n",
    "    doc = nlp(x)\n",
    "    noun_adj_pairs = {}\n",
    "    for chunk in doc.noun_chunks:\n",
    "        adj = []\n",
    "        noun = \"\"\n",
    "        for tok in chunk:\n",
    "            if tok.pos_ == \"NOUN\":\n",
    "                noun = tok.text\n",
    "            if tok.pos_ == \"ADJ\":\n",
    "                adj.append(tok.text)\n",
    "        adj = ' '.join(adj)\n",
    "        if noun:\n",
    "            noun_adj_pairs.update({noun:adj}) \n",
    "    return noun_adj_pairs"
   ]
  },
  {
   "cell_type": "code",
   "execution_count": 701,
   "metadata": {},
   "outputs": [],
   "source": [
    "# Run the function\n",
    "df_accom[\"noun_adj\"] = df_accom[\"Sent_clean\"].apply(lambda x: transform(x))\n",
    "df_food[\"noun_adj\"] = df_food[\"Sent_clean\"].apply(lambda x: transform(x))\n",
    "df_attract[\"noun_adj\"] = df_attract[\"Sent_clean\"].apply(lambda x: transform(x))"
   ]
  },
  {
   "cell_type": "code",
   "execution_count": 702,
   "metadata": {},
   "outputs": [],
   "source": [
    "# Split the items out and  put onto separate lines in the dataframe\n",
    "df_accom[\"noun_adj\"] = df_accom[\"noun_adj\"].apply(lambda x: [(k, v) for k, v in x.items()])\n",
    "df_food[\"noun_adj\"] = df_food[\"noun_adj\"].apply(lambda x: [(k, v) for k, v in x.items()])\n",
    "df_attract[\"noun_adj\"] = df_attract[\"noun_adj\"].apply(lambda x: [(k, v) for k, v in x.items()])\n",
    "\n",
    "df_accom = df_accom.explode(\"noun_adj\")\n",
    "df_food = df_food.explode(\"noun_adj\")\n",
    "df_attract = df_attract.explode(\"noun_adj\")"
   ]
  },
  {
   "cell_type": "code",
   "execution_count": 710,
   "metadata": {},
   "outputs": [
    {
     "data": {
      "text/plain": [
       "0              (view, central excellent)\n",
       "0                           (floor, top)\n",
       "0                          (occupancy, )\n",
       "0                            (workman, )\n",
       "0                               (part, )\n",
       "0                         (parking, new)\n",
       "0                             (permit, )\n",
       "0                          (brown, good)\n",
       "0    (room, english edible squeak black)\n",
       "0                      (armchair, green)\n",
       "0                         (street, high)\n",
       "Name: noun_adj, dtype: object"
      ]
     },
     "execution_count": 710,
     "metadata": {},
     "output_type": "execute_result"
    }
   ],
   "source": [
    "# Look at example review\n",
    "df_accom[\"noun_adj\"][0]"
   ]
  },
  {
   "cell_type": "markdown",
   "metadata": {},
   "source": [
    "# Section 7: Summary"
   ]
  },
  {
   "cell_type": "markdown",
   "metadata": {},
   "source": [
    "Comments:\n",
    "\n",
    "* Keyword extraction identified key words in the reviews which helps to identify some of the main aspects in the reviews\n",
    "* Bigrams give more perspective by linking words like 'car' and 'park' together\n",
    "* There is quite a lot of repetition amongst the bigrams for the food category in particular, with the word 'food' being teamed up with many other different words, in particular the word 'service'. This suggests the topics might be fuzzy.\n",
    "* Unigrams and Bigrams are a bit too specific, more useful would be topics based on the distribution of topics such as that provided by topic modelling which is considered in the Notebook - Topic Models\n"
   ]
  }
 ],
 "metadata": {
  "celltoolbar": "Raw Cell Format",
  "kernelspec": {
   "display_name": "Python 3",
   "language": "python",
   "name": "python3"
  },
  "language_info": {
   "codemirror_mode": {
    "name": "ipython",
    "version": 3
   },
   "file_extension": ".py",
   "mimetype": "text/x-python",
   "name": "python",
   "nbconvert_exporter": "python",
   "pygments_lexer": "ipython3",
   "version": "3.8.8"
  }
 },
 "nbformat": 4,
 "nbformat_minor": 4
}
