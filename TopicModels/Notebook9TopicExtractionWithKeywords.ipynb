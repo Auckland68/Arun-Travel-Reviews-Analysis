{
 "cells": [
  {
   "cell_type": "markdown",
   "metadata": {},
   "source": [
    "# Keyword Extraction"
   ]
  },
  {
   "cell_type": "markdown",
   "metadata": {},
   "source": [
    "This notebook shows various keyword extraction to extract the key phrases and words in the reviews. Various methods are considered, including extracting noun phrases and keywords for each category.\n",
    "\n",
    "* Section 1 - Import libraries and dataset\n",
    "* Section 2 - Cleaning\n",
    "* Section 3 - Key Noun phrase extraction\n",
    "* Section 4 - TextRank\n",
    "* Section 5 - Keyword extraction\n",
    "* Section 6 - Keyword extration - bigrams\n",
    "* Section 7 - Summary\n",
    "\n",
    "Dataset needed to run notebook:\n",
    "\n",
    "* explodedsentencecleaned.csv\n",
    "\n",
    "Data saved to:\n",
    "\n",
    "* noun_phrase_exploded.csv"
   ]
  },
  {
   "cell_type": "markdown",
   "metadata": {},
   "source": [
    "# Import Libraries and Dataset"
   ]
  },
  {
   "cell_type": "code",
   "execution_count": 3,
   "metadata": {},
   "outputs": [
    {
     "name": "stdout",
     "output_type": "stream",
     "text": [
      "Requirement already satisfied: contractions in c:\\users\\imoge\\anaconda3\\envs\\mscthesis\\lib\\site-packages (0.0.48)\n",
      "Requirement already satisfied: textsearch>=0.0.21 in c:\\users\\imoge\\anaconda3\\envs\\mscthesis\\lib\\site-packages (from contractions) (0.0.21)\n",
      "Requirement already satisfied: pyahocorasick in c:\\users\\imoge\\anaconda3\\envs\\mscthesis\\lib\\site-packages (from textsearch>=0.0.21->contractions) (1.4.0)\n",
      "Requirement already satisfied: anyascii in c:\\users\\imoge\\anaconda3\\envs\\mscthesis\\lib\\site-packages (from textsearch>=0.0.21->contractions) (0.2.0)\n"
     ]
    }
   ],
   "source": [
    "#!pip install pyLDAvis\n",
    "!pip install contractions"
   ]
  },
  {
   "cell_type": "code",
   "execution_count": 4,
   "metadata": {},
   "outputs": [
    {
     "name": "stderr",
     "output_type": "stream",
     "text": [
      "[nltk_data] Downloading package stopwords to\n",
      "[nltk_data]     C:\\Users\\imoge\\AppData\\Roaming\\nltk_data...\n",
      "[nltk_data]   Package stopwords is already up-to-date!\n",
      "[nltk_data] Downloading package brown to\n",
      "[nltk_data]     C:\\Users\\imoge\\AppData\\Roaming\\nltk_data...\n",
      "[nltk_data]   Package brown is already up-to-date!\n",
      "[nltk_data] Downloading package wordnet to\n",
      "[nltk_data]     C:\\Users\\imoge\\AppData\\Roaming\\nltk_data...\n",
      "[nltk_data]   Package wordnet is already up-to-date!\n"
     ]
    }
   ],
   "source": [
    "import pandas as pd\n",
    "import numpy as np\n",
    "import matplotlib.pyplot as plt\n",
    "import contractions\n",
    "import string\n",
    "import re\n",
    "from textblob import TextBlob\n",
    "import nltk\n",
    "nltk.download('stopwords')\n",
    "nltk.download('brown')\n",
    "nltk.download('wordnet')\n",
    "from nltk.util import ngrams\n",
    "from nltk.tokenize import RegexpTokenizer, word_tokenize,sent_tokenize\n",
    "from nltk.corpus import stopwords\n",
    "from nltk.stem import WordNetLemmatizer\n",
    "from nltk.tokenize import sent_tokenize\n",
    "from spellchecker import SpellChecker\n",
    "import gensim\n",
    "from gensim.utils import simple_preprocess\n",
    "from gensim import corpora, models\n",
    "from gensim.models import TfidfModel\n",
    "from gensim.summarization import keywords\n",
    "from operator import itemgetter\n",
    "from collections import Counter\n",
    "import ast\n",
    "import warnings\n",
    "warnings.filterwarnings(\"ignore\")"
   ]
  },
  {
   "cell_type": "markdown",
   "metadata": {},
   "source": [
    "# Section2: Cleaning and pre-processing"
   ]
  },
  {
   "cell_type": "code",
   "execution_count": 5,
   "metadata": {},
   "outputs": [
    {
     "data": {
      "text/html": [
       "<div>\n",
       "<style scoped>\n",
       "    .dataframe tbody tr th:only-of-type {\n",
       "        vertical-align: middle;\n",
       "    }\n",
       "\n",
       "    .dataframe tbody tr th {\n",
       "        vertical-align: top;\n",
       "    }\n",
       "\n",
       "    .dataframe thead th {\n",
       "        text-align: right;\n",
       "    }\n",
       "</style>\n",
       "<table border=\"1\" class=\"dataframe\">\n",
       "  <thead>\n",
       "    <tr style=\"text-align: right;\">\n",
       "      <th></th>\n",
       "      <th>OrigInd</th>\n",
       "      <th>Category</th>\n",
       "      <th>Town</th>\n",
       "      <th>Rating</th>\n",
       "      <th>all_text</th>\n",
       "      <th>sentences</th>\n",
       "      <th>len</th>\n",
       "      <th>cleaned_sentences</th>\n",
       "    </tr>\n",
       "  </thead>\n",
       "  <tbody>\n",
       "    <tr>\n",
       "      <th>0</th>\n",
       "      <td>0</td>\n",
       "      <td>Accommodation</td>\n",
       "      <td>Bognor</td>\n",
       "      <td>4</td>\n",
       "      <td>Nice break, shame about the accommodation... W...</td>\n",
       "      <td>Nice break, shame about the accommodation... W...</td>\n",
       "      <td>173</td>\n",
       "      <td>nice break shame accommodation booked night st...</td>\n",
       "    </tr>\n",
       "    <tr>\n",
       "      <th>0</th>\n",
       "      <td>0</td>\n",
       "      <td>Accommodation</td>\n",
       "      <td>Bognor</td>\n",
       "      <td>4</td>\n",
       "      <td>Nice break, shame about the accommodation... W...</td>\n",
       "      <td>We’d never been to Butlins before so weren’t r...</td>\n",
       "      <td>283</td>\n",
       "      <td>would never not really sure expect review eith...</td>\n",
       "    </tr>\n",
       "    <tr>\n",
       "      <th>0</th>\n",
       "      <td>0</td>\n",
       "      <td>Accommodation</td>\n",
       "      <td>Bognor</td>\n",
       "      <td>4</td>\n",
       "      <td>Nice break, shame about the accommodation... W...</td>\n",
       "      <td>First impressions weren’t good –we arrived and...</td>\n",
       "      <td>159</td>\n",
       "      <td>first impression not good we arrived parked ca...</td>\n",
       "    </tr>\n",
       "    <tr>\n",
       "      <th>0</th>\n",
       "      <td>0</td>\n",
       "      <td>Accommodation</td>\n",
       "      <td>Bognor</td>\n",
       "      <td>4</td>\n",
       "      <td>Nice break, shame about the accommodation... W...</td>\n",
       "      <td>Bearing in mind that people in the apartments ...</td>\n",
       "      <td>289</td>\n",
       "      <td>bearing mind people apartment obviously self-c...</td>\n",
       "    </tr>\n",
       "    <tr>\n",
       "      <th>0</th>\n",
       "      <td>0</td>\n",
       "      <td>Accommodation</td>\n",
       "      <td>Bognor</td>\n",
       "      <td>4</td>\n",
       "      <td>Nice break, shame about the accommodation... W...</td>\n",
       "      <td>So, we had to do 2 trips back and forth from o...</td>\n",
       "      <td>182</td>\n",
       "      <td>trip back forth one side resort balancing stuf...</td>\n",
       "    </tr>\n",
       "  </tbody>\n",
       "</table>\n",
       "</div>"
      ],
      "text/plain": [
       "   OrigInd       Category    Town  Rating  \\\n",
       "0        0  Accommodation  Bognor       4   \n",
       "0        0  Accommodation  Bognor       4   \n",
       "0        0  Accommodation  Bognor       4   \n",
       "0        0  Accommodation  Bognor       4   \n",
       "0        0  Accommodation  Bognor       4   \n",
       "\n",
       "                                            all_text  \\\n",
       "0  Nice break, shame about the accommodation... W...   \n",
       "0  Nice break, shame about the accommodation... W...   \n",
       "0  Nice break, shame about the accommodation... W...   \n",
       "0  Nice break, shame about the accommodation... W...   \n",
       "0  Nice break, shame about the accommodation... W...   \n",
       "\n",
       "                                           sentences  len  \\\n",
       "0  Nice break, shame about the accommodation... W...  173   \n",
       "0  We’d never been to Butlins before so weren’t r...  283   \n",
       "0  First impressions weren’t good –we arrived and...  159   \n",
       "0  Bearing in mind that people in the apartments ...  289   \n",
       "0  So, we had to do 2 trips back and forth from o...  182   \n",
       "\n",
       "                                   cleaned_sentences  \n",
       "0  nice break shame accommodation booked night st...  \n",
       "0  would never not really sure expect review eith...  \n",
       "0  first impression not good we arrived parked ca...  \n",
       "0  bearing mind people apartment obviously self-c...  \n",
       "0  trip back forth one side resort balancing stuf...  "
      ]
     },
     "execution_count": 5,
     "metadata": {},
     "output_type": "execute_result"
    }
   ],
   "source": [
    "# Read back in PRE-PROCESSED FILE\n",
    "df = pd.read_csv(\"explodedsentencescleaned.csv\",index_col = 0)\n",
    "df.columns = [\"OrigInd\",\"Category\",\"Town\",\"Rating\",\"all_text\",\"sentences\",\"len\",\"cleaned_sentences\"]\n",
    "df.head()"
   ]
  },
  {
   "cell_type": "code",
   "execution_count": 6,
   "metadata": {},
   "outputs": [
    {
     "data": {
      "text/plain": [
       "'nice break shame accommodation booked night stay december post-christmas treat family adult kid 5.5 year old'"
      ]
     },
     "execution_count": 6,
     "metadata": {},
     "output_type": "execute_result"
    }
   ],
   "source": [
    "df[\"cleaned_sentences\"].iloc[0]"
   ]
  },
  {
   "cell_type": "code",
   "execution_count": 7,
   "metadata": {},
   "outputs": [
    {
     "data": {
      "text/plain": [
       "(59956, 8)"
      ]
     },
     "execution_count": 7,
     "metadata": {},
     "output_type": "execute_result"
    }
   ],
   "source": [
    "df.shape"
   ]
  },
  {
   "cell_type": "code",
   "execution_count": 8,
   "metadata": {},
   "outputs": [],
   "source": [
    "#df[\"Score\"] = df[\"Rating\"]\n",
    "#df = df[df[\"Rating\"] != 3]\n",
    "#df.Score.replace([1,2], 1, inplace = True)\n",
    "#df.Score.replace([4,5], 0, inplace = True)\n",
    "#df.drop(columns = [\"Rating\"],axis = 1, inplace = True)"
   ]
  },
  {
   "cell_type": "markdown",
   "metadata": {},
   "source": [
    "# Section 3: Noun Phrase Extraction - unweighted and weighted"
   ]
  },
  {
   "cell_type": "markdown",
   "metadata": {},
   "source": [
    "A noun phrase is a small group of words which contains a noun\n",
    "\n",
    "Using the full dataset not split into sentences.\n"
   ]
  },
  {
   "cell_type": "markdown",
   "metadata": {},
   "source": [
    "## Unweighted"
   ]
  },
  {
   "cell_type": "code",
   "execution_count": 9,
   "metadata": {},
   "outputs": [],
   "source": [
    "# Create function to extract noun phrases from a review using TextBlob\n",
    "def noun_finder(x):\n",
    "    blob = TextBlob(x)\n",
    "    return blob.noun_phrases"
   ]
  },
  {
   "cell_type": "code",
   "execution_count": 10,
   "metadata": {},
   "outputs": [
    {
     "data": {
      "text/plain": [
       "'first impression not good we arrived parked car park discover apartment furthest distance away accommodation'"
      ]
     },
     "execution_count": 10,
     "metadata": {},
     "output_type": "execute_result"
    }
   ],
   "source": [
    "# Sample review\n",
    "example = df[\"cleaned_sentences\"].iloc[2]\n",
    "example"
   ]
  },
  {
   "cell_type": "code",
   "execution_count": 11,
   "metadata": {},
   "outputs": [
    {
     "data": {
      "text/plain": [
       "WordList(['car park', 'apartment furthest distance'])"
      ]
     },
     "execution_count": 11,
     "metadata": {},
     "output_type": "execute_result"
    }
   ],
   "source": [
    "example_noun_phrases = noun_finder(example)\n",
    "example_noun_phrases"
   ]
  },
  {
   "cell_type": "code",
   "execution_count": 12,
   "metadata": {},
   "outputs": [
    {
     "data": {
      "text/plain": [
       "['car park', 'apartment furthest distance']"
      ]
     },
     "execution_count": 12,
     "metadata": {},
     "output_type": "execute_result"
    }
   ],
   "source": [
    "# Put to a normal python list \n",
    "new_list = []\n",
    "for item in example_noun_phrases:\n",
    "    new_list.append(item)\n",
    "new_list"
   ]
  },
  {
   "cell_type": "code",
   "execution_count": 13,
   "metadata": {},
   "outputs": [],
   "source": [
    "# Make sure sentences are strings and then apply the function to whole dataframe\n",
    "df[\"cleaned_sentences\"] = df[\"cleaned_sentences\"].astype(str)\n",
    "df[\"noun_phrases\"] = df[\"cleaned_sentences\"].apply(lambda x: noun_finder(x))"
   ]
  },
  {
   "cell_type": "code",
   "execution_count": 14,
   "metadata": {},
   "outputs": [
    {
     "data": {
      "text/html": [
       "<div>\n",
       "<style scoped>\n",
       "    .dataframe tbody tr th:only-of-type {\n",
       "        vertical-align: middle;\n",
       "    }\n",
       "\n",
       "    .dataframe tbody tr th {\n",
       "        vertical-align: top;\n",
       "    }\n",
       "\n",
       "    .dataframe thead th {\n",
       "        text-align: right;\n",
       "    }\n",
       "</style>\n",
       "<table border=\"1\" class=\"dataframe\">\n",
       "  <thead>\n",
       "    <tr style=\"text-align: right;\">\n",
       "      <th></th>\n",
       "      <th>OrigInd</th>\n",
       "      <th>Category</th>\n",
       "      <th>Town</th>\n",
       "      <th>Rating</th>\n",
       "      <th>all_text</th>\n",
       "      <th>sentences</th>\n",
       "      <th>len</th>\n",
       "      <th>cleaned_sentences</th>\n",
       "      <th>noun_phrases</th>\n",
       "    </tr>\n",
       "  </thead>\n",
       "  <tbody>\n",
       "    <tr>\n",
       "      <th>0</th>\n",
       "      <td>0</td>\n",
       "      <td>Accommodation</td>\n",
       "      <td>Bognor</td>\n",
       "      <td>4</td>\n",
       "      <td>Nice break, shame about the accommodation... W...</td>\n",
       "      <td>Nice break, shame about the accommodation... W...</td>\n",
       "      <td>173</td>\n",
       "      <td>nice break shame accommodation booked night st...</td>\n",
       "      <td>[shame accommodation, night stay december post...</td>\n",
       "    </tr>\n",
       "    <tr>\n",
       "      <th>0</th>\n",
       "      <td>0</td>\n",
       "      <td>Accommodation</td>\n",
       "      <td>Bognor</td>\n",
       "      <td>4</td>\n",
       "      <td>Nice break, shame about the accommodation... W...</td>\n",
       "      <td>We’d never been to Butlins before so weren’t r...</td>\n",
       "      <td>283</td>\n",
       "      <td>would never not really sure expect review eith...</td>\n",
       "      <td>[good terrible, usual choice]</td>\n",
       "    </tr>\n",
       "  </tbody>\n",
       "</table>\n",
       "</div>"
      ],
      "text/plain": [
       "   OrigInd       Category    Town  Rating  \\\n",
       "0        0  Accommodation  Bognor       4   \n",
       "0        0  Accommodation  Bognor       4   \n",
       "\n",
       "                                            all_text  \\\n",
       "0  Nice break, shame about the accommodation... W...   \n",
       "0  Nice break, shame about the accommodation... W...   \n",
       "\n",
       "                                           sentences  len  \\\n",
       "0  Nice break, shame about the accommodation... W...  173   \n",
       "0  We’d never been to Butlins before so weren’t r...  283   \n",
       "\n",
       "                                   cleaned_sentences  \\\n",
       "0  nice break shame accommodation booked night st...   \n",
       "0  would never not really sure expect review eith...   \n",
       "\n",
       "                                        noun_phrases  \n",
       "0  [shame accommodation, night stay december post...  \n",
       "0                      [good terrible, usual choice]  "
      ]
     },
     "execution_count": 14,
     "metadata": {},
     "output_type": "execute_result"
    }
   ],
   "source": [
    "df.head(2)"
   ]
  },
  {
   "cell_type": "code",
   "execution_count": 15,
   "metadata": {},
   "outputs": [
    {
     "data": {
      "text/plain": [
       "(45734, 9)"
      ]
     },
     "execution_count": 15,
     "metadata": {},
     "output_type": "execute_result"
    }
   ],
   "source": [
    "# Remove any empty lists\n",
    "df = df[(df['noun_phrases'].str.len() != 0)]\n",
    "df.shape"
   ]
  },
  {
   "cell_type": "code",
   "execution_count": 16,
   "metadata": {},
   "outputs": [
    {
     "data": {
      "text/plain": [
       "WordList(['basic thing', 'resort day'])"
      ]
     },
     "execution_count": 16,
     "metadata": {},
     "output_type": "execute_result"
    }
   ],
   "source": [
    "# Look at an example\n",
    "df[\"noun_phrases\"].iloc[10]"
   ]
  },
  {
   "cell_type": "code",
   "execution_count": 17,
   "metadata": {},
   "outputs": [
    {
     "data": {
      "text/plain": [
       "'No towels were provided (although we already knew this, but it’s still a basic thing that’s provided in most resorts these days).'"
      ]
     },
     "execution_count": 17,
     "metadata": {},
     "output_type": "execute_result"
    }
   ],
   "source": [
    "# Compare to original review sentence\n",
    "df[\"sentences\"].iloc[10]"
   ]
  },
  {
   "cell_type": "code",
   "execution_count": 18,
   "metadata": {},
   "outputs": [],
   "source": [
    "# Split between the categories - accommodation, food and attractions\n",
    "h = df[df[\"Category\"] == \"Accommodation\"]\n",
    "f = df[df[\"Category\"] == \"Food\"]\n",
    "a = df[df[\"Category\"] == \"Attractions\"]"
   ]
  },
  {
   "cell_type": "markdown",
   "metadata": {},
   "source": [
    "Extracting noun phrases for each review does appear to identify helpful information at a detail level."
   ]
  },
  {
   "cell_type": "code",
   "execution_count": 19,
   "metadata": {},
   "outputs": [],
   "source": [
    "# Function to extract the noun phrases into list of lists\n",
    "def noun_extract(df):\n",
    "    words = df[\"noun_phrases\"].apply(lambda x: [item for item in x]).tolist()\n",
    "    return words"
   ]
  },
  {
   "cell_type": "code",
   "execution_count": 20,
   "metadata": {},
   "outputs": [],
   "source": [
    "# Apply to dataframes\n",
    "words_accom = noun_extract(h)\n",
    "words_food = noun_extract(f)\n",
    "words_attract = noun_extract(a)"
   ]
  },
  {
   "cell_type": "code",
   "execution_count": 21,
   "metadata": {},
   "outputs": [
    {
     "data": {
      "text/plain": [
       "['seat table', 'queue min door']"
      ]
     },
     "execution_count": 21,
     "metadata": {},
     "output_type": "execute_result"
    }
   ],
   "source": [
    "# Look at an example\n",
    "words_accom[20]"
   ]
  },
  {
   "cell_type": "markdown",
   "metadata": {},
   "source": [
    "## Weighted"
   ]
  },
  {
   "cell_type": "code",
   "execution_count": 22,
   "metadata": {},
   "outputs": [],
   "source": [
    "# Create the gensim dictionary and corpus and get the weighted noun phrases bassed on the TFIDF model (for whole dataframe)\n",
    "# Code source: Text Analytics with Python (Sarkar)\n",
    "\n",
    "def createdictionary(df):\n",
    "    dictionary  = corpora.Dictionary(df)\n",
    "    corpus = [dictionary.doc2bow(word) for word in df]\n",
    "    model = TfidfModel(corpus) \n",
    "    vector = model[corpus]\n",
    "    weighted_noun_phrases = {dictionary.get(idx): value for doc in vector for idx, value in doc}\n",
    "    weighted_noun_phrases_s = sorted(weighted_noun_phrases.items(),key = itemgetter(1),reverse = True)\n",
    "    weighted_noun_phrases_s = [(term,round(wt,3)) for term,wt in weighted_noun_phrases_s]\n",
    "    \n",
    "    return weighted_noun_phrases, weighted_noun_phrases_s"
   ]
  },
  {
   "cell_type": "code",
   "execution_count": 23,
   "metadata": {},
   "outputs": [],
   "source": [
    "# Run function against the noun phrases word list\n",
    "weighted_noun_accom = createdictionary(words_accom)[1]\n",
    "weighted_noun_food = createdictionary(words_food)[1]\n",
    "weighted_noun_attract = createdictionary(words_attract)[1]"
   ]
  },
  {
   "cell_type": "code",
   "execution_count": 24,
   "metadata": {},
   "outputs": [
    {
     "data": {
      "text/plain": [
       "[('usual choice', 1.0),\n",
       " ('basic apartment', 1.0),\n",
       " ('tobacco smoke kid room', 1.0),\n",
       " ('resort day', 1.0),\n",
       " ('wife decision', 1.0),\n",
       " ('basic usual thing need plate cup cutlery tea coffee toaster', 1.0),\n",
       " ('yes building', 1.0),\n",
       " ('apartment place', 1.0),\n",
       " ('absolute highlight weekend', 1.0),\n",
       " ('busy wave pool', 1.0)]"
      ]
     },
     "execution_count": 24,
     "metadata": {},
     "output_type": "execute_result"
    }
   ],
   "source": [
    "# Get the top 10 weighted noun phrases for accomodation\n",
    "weighted_noun_accom[:10]"
   ]
  },
  {
   "cell_type": "code",
   "execution_count": 25,
   "metadata": {},
   "outputs": [
    {
     "data": {
      "text/plain": [
       "[('salad steak frites homemade pie', 1.0),\n",
       " ('aubergine curry delicious', 1.0),\n",
       " ('decent lunch', 1.0),\n",
       " ('staff attentive', 1.0),\n",
       " ('location river pleasant', 1.0),\n",
       " ('lovely staff', 1.0),\n",
       " ('worth visit', 1.0),\n",
       " ('dinner eaten', 1.0),\n",
       " ('quiet couple table', 1.0),\n",
       " ('dish member group', 1.0)]"
      ]
     },
     "execution_count": 25,
     "metadata": {},
     "output_type": "execute_result"
    }
   ],
   "source": [
    "# Get the top 10 weighted noun phrases for food\n",
    "weighted_noun_food[:10]"
   ]
  },
  {
   "cell_type": "code",
   "execution_count": 26,
   "metadata": {},
   "outputs": [
    {
     "data": {
      "text/plain": [
       "[('beautiful garden winter', 1.0),\n",
       " ('beautiful garden walk', 1.0),\n",
       " ('cafe ground wonder behold', 1.0),\n",
       " ('marvellous garden', 1.0),\n",
       " ('latte froth taste', 1.0),\n",
       " ('americana dish water', 1.0),\n",
       " ('cake stale', 1.0),\n",
       " ('worth visit', 1.0),\n",
       " ('dominates skyline', 1.0),\n",
       " ('part building', 1.0)]"
      ]
     },
     "execution_count": 26,
     "metadata": {},
     "output_type": "execute_result"
    }
   ],
   "source": [
    "# Get the top 10 weighted noun phrases for attractions\n",
    "weighted_noun_attract[:10]"
   ]
  },
  {
   "cell_type": "markdown",
   "metadata": {},
   "source": [
    "This does highlight noun phrases but is perhaps too specific, a more general summary is more helpful when considering a large number of reviews."
   ]
  },
  {
   "cell_type": "markdown",
   "metadata": {},
   "source": [
    "# Section 4: Keywords in Gensim using TextRank"
   ]
  },
  {
   "cell_type": "markdown",
   "metadata": {},
   "source": [
    "Useful to find most relevant sentences or keywords in text. Graph based model so two words found together given higher weight\n",
    "\n",
    "Source: https://web.eecs.umich.edu/~mihalcea/papers/mihalcea.emnlp04.pdf"
   ]
  },
  {
   "cell_type": "code",
   "execution_count": 27,
   "metadata": {},
   "outputs": [],
   "source": [
    "# Function to join list of lists to list of strings then join to get a string. Textrank is a graph-based ranking model\n",
    "    \n",
    "def join_words(df):\n",
    "    words_joined = [','.join(word) for word in df] \n",
    "    words_joined = ' '.join(words_joined)\n",
    "    key_words = keywords(words_joined,ratio = 1.0, scores = True, lemmatize = True)\n",
    "    [(item,round(score,3)) for item,score in key_words[:15]]\n",
    "    return key_words"
   ]
  },
  {
   "cell_type": "code",
   "execution_count": 28,
   "metadata": {},
   "outputs": [],
   "source": [
    "# Run function against the noun phrases dataframe\n",
    "key_words_accom = join_words(words_accom)\n",
    "key_words_food = join_words(words_food)\n",
    "key_words_attract = join_words(words_attract)"
   ]
  },
  {
   "cell_type": "code",
   "execution_count": 29,
   "metadata": {},
   "outputs": [
    {
     "data": {
      "text/plain": [
       "[('rooms', 0.28452962374641216),\n",
       " ('hotels', 0.19587295312710828),\n",
       " ('great', 0.168932098000206),\n",
       " ('nights', 0.14969637411709785),\n",
       " ('breakfast', 0.12743138012258634),\n",
       " ('restaurants', 0.11497922983221022),\n",
       " ('nice', 0.10715854746578576),\n",
       " ('families', 0.10387669074832792),\n",
       " ('poole', 0.10140055538106281),\n",
       " ('bits', 0.10045778905338532),\n",
       " ('kids', 0.09863448157460544),\n",
       " ('needs', 0.098339198838506),\n",
       " ('weekenders', 0.09572227410410056),\n",
       " ('helpfulness', 0.08911276683485878),\n",
       " ('small', 0.08220319819597384)]"
      ]
     },
     "execution_count": 29,
     "metadata": {},
     "output_type": "execute_result"
    }
   ],
   "source": [
    "# First 10 key words - weighted\n",
    "key_words_accom[0:15]"
   ]
  },
  {
   "cell_type": "code",
   "execution_count": 30,
   "metadata": {},
   "outputs": [
    {
     "data": {
      "text/plain": [
       "[('goodness', 0.22572711796121223),\n",
       " ('greatful', 0.1925163211708813),\n",
       " ('restaurants', 0.16155298262017853),\n",
       " ('places', 0.13576044680616864),\n",
       " ('service fantastic', 0.12659582916436066),\n",
       " ('food menu bit mish', 0.12345743817385607),\n",
       " ('lovely birthday', 0.11089713555794911),\n",
       " ('pub', 0.10593546070109845),\n",
       " ('deliciousness', 0.10534266824742261),\n",
       " ('visiting', 0.1028061921091894),\n",
       " ('excelent', 0.10152445608420622),\n",
       " ('friendliness', 0.10020314756933701),\n",
       " ('chips', 0.09394037821214161),\n",
       " ('drinks', 0.0931793189561707),\n",
       " ('friends', 0.08880857592849987)]"
      ]
     },
     "execution_count": 30,
     "metadata": {},
     "output_type": "execute_result"
    }
   ],
   "source": [
    "key_words_food[0:15]"
   ]
  },
  {
   "cell_type": "code",
   "execution_count": 31,
   "metadata": {},
   "outputs": [
    {
     "data": {
      "text/plain": [
       "[('visit', 0.19593521573414013),\n",
       " ('places', 0.16506520928960625),\n",
       " ('park', 0.14161468934890112),\n",
       " ('gorgeous great', 0.1377175528415157),\n",
       " ('staff', 0.1316991665074741),\n",
       " ('walk', 0.1270435017550803),\n",
       " ('goodness reception', 0.11889518080788569),\n",
       " ('child', 0.11059348109620476),\n",
       " ('nice', 0.10574411634387558),\n",
       " ('cafe ground', 0.09070804229002584),\n",
       " ('prices', 0.08729077372760435),\n",
       " ('birds', 0.08723562124975229),\n",
       " ('small', 0.08567485791581897),\n",
       " ('birthday age lovely', 0.0835118799516613),\n",
       " ('people', 0.0819489389619156)]"
      ]
     },
     "execution_count": 31,
     "metadata": {},
     "output_type": "execute_result"
    }
   ],
   "source": [
    "key_words_attract[0:15]"
   ]
  },
  {
   "cell_type": "markdown",
   "metadata": {},
   "source": [
    "* Service, food and staff are the main themes for food outlets, for accommodation and attractions it is less clearcut\n",
    "* Many of the words are very specific rather than being general aspects"
   ]
  },
  {
   "cell_type": "markdown",
   "metadata": {},
   "source": [
    "# Section 5: Extracting Nouns - Unigrams"
   ]
  },
  {
   "cell_type": "code",
   "execution_count": 32,
   "metadata": {},
   "outputs": [],
   "source": [
    "# Tokenize and get parts of speech function then extract nouns only (convert string to a list first with literal eval)\n",
    "\n",
    "def token(df):\n",
    "    import ast\n",
    "    df['pos'] = df[\"cleaned_sentences\"].apply(lambda x:nltk.tag.pos_tag(x.split()))\n",
    "    df['nouns'] = df['pos'].apply(lambda x: [i[0] for i in x if i[1].startswith('N')])\n",
    "    df[\"nouns_count\"] = df[\"nouns\"].apply(lambda x: Counter(x))\n",
    "    return df"
   ]
  },
  {
   "cell_type": "code",
   "execution_count": 33,
   "metadata": {},
   "outputs": [],
   "source": [
    "# Run function for each of the categories\n",
    "nouns_accom = token(h)\n",
    "nouns_food = token(f)\n",
    "nouns_attract = token(a)"
   ]
  },
  {
   "cell_type": "code",
   "execution_count": 34,
   "metadata": {},
   "outputs": [],
   "source": [
    "# Function to get the top words across all the reviews for each category\n",
    "def count_total(df,col):\n",
    "    df = df[col].sum().most_common()\n",
    "    return df"
   ]
  },
  {
   "cell_type": "code",
   "execution_count": 35,
   "metadata": {},
   "outputs": [
    {
     "name": "stdout",
     "output_type": "stream",
     "text": [
      "Counter({'break': 1, 'accommodation': 1, 'night': 1, 'stay': 1, 'treat': 1, 'family': 1, 'adult': 1, 'kid': 1, 'year': 1})\n"
     ]
    }
   ],
   "source": [
    "# Example review\n",
    "print(nouns_accom[\"nouns_count\"].iloc[0])"
   ]
  },
  {
   "cell_type": "code",
   "execution_count": 36,
   "metadata": {},
   "outputs": [],
   "source": [
    "# Run function for all dataframes\n",
    "accom_count = pd.DataFrame(count_total(nouns_accom,\"nouns_count\"),columns = [\"Word\",\"Count\"])\n",
    "food_count = pd.DataFrame(count_total(nouns_food,\"nouns_count\"),columns = [\"Word\",\"Count\"])\n",
    "attract_count = pd.DataFrame(count_total(nouns_attract,\"nouns_count\"),columns = [\"Word\",\"Count\"])"
   ]
  },
  {
   "cell_type": "code",
   "execution_count": 37,
   "metadata": {},
   "outputs": [
    {
     "data": {
      "text/html": [
       "<div>\n",
       "<style scoped>\n",
       "    .dataframe tbody tr th:only-of-type {\n",
       "        vertical-align: middle;\n",
       "    }\n",
       "\n",
       "    .dataframe tbody tr th {\n",
       "        vertical-align: top;\n",
       "    }\n",
       "\n",
       "    .dataframe thead th {\n",
       "        text-align: right;\n",
       "    }\n",
       "</style>\n",
       "<table border=\"1\" class=\"dataframe\">\n",
       "  <thead>\n",
       "    <tr style=\"text-align: right;\">\n",
       "      <th></th>\n",
       "      <th>Word</th>\n",
       "      <th>Count</th>\n",
       "    </tr>\n",
       "  </thead>\n",
       "  <tbody>\n",
       "    <tr>\n",
       "      <th>0</th>\n",
       "      <td>room</td>\n",
       "      <td>2488</td>\n",
       "    </tr>\n",
       "    <tr>\n",
       "      <th>1</th>\n",
       "      <td>staff</td>\n",
       "      <td>1630</td>\n",
       "    </tr>\n",
       "    <tr>\n",
       "      <th>2</th>\n",
       "      <td>hotel</td>\n",
       "      <td>1557</td>\n",
       "    </tr>\n",
       "    <tr>\n",
       "      <th>3</th>\n",
       "      <td>food</td>\n",
       "      <td>1040</td>\n",
       "    </tr>\n",
       "    <tr>\n",
       "      <th>4</th>\n",
       "      <td>night</td>\n",
       "      <td>887</td>\n",
       "    </tr>\n",
       "    <tr>\n",
       "      <th>5</th>\n",
       "      <td>breakfast</td>\n",
       "      <td>791</td>\n",
       "    </tr>\n",
       "    <tr>\n",
       "      <th>6</th>\n",
       "      <td>pool</td>\n",
       "      <td>693</td>\n",
       "    </tr>\n",
       "    <tr>\n",
       "      <th>7</th>\n",
       "      <td>stay</td>\n",
       "      <td>691</td>\n",
       "    </tr>\n",
       "    <tr>\n",
       "      <th>8</th>\n",
       "      <td>family</td>\n",
       "      <td>600</td>\n",
       "    </tr>\n",
       "    <tr>\n",
       "      <th>9</th>\n",
       "      <td>place</td>\n",
       "      <td>582</td>\n",
       "    </tr>\n",
       "    <tr>\n",
       "      <th>10</th>\n",
       "      <td>restaurant</td>\n",
       "      <td>567</td>\n",
       "    </tr>\n",
       "    <tr>\n",
       "      <th>11</th>\n",
       "      <td>service</td>\n",
       "      <td>562</td>\n",
       "    </tr>\n",
       "    <tr>\n",
       "      <th>12</th>\n",
       "      <td>area</td>\n",
       "      <td>530</td>\n",
       "    </tr>\n",
       "    <tr>\n",
       "      <th>13</th>\n",
       "      <td>weekend</td>\n",
       "      <td>525</td>\n",
       "    </tr>\n",
       "    <tr>\n",
       "      <th>14</th>\n",
       "      <td>child</td>\n",
       "      <td>424</td>\n",
       "    </tr>\n",
       "  </tbody>\n",
       "</table>\n",
       "</div>"
      ],
      "text/plain": [
       "          Word  Count\n",
       "0         room   2488\n",
       "1        staff   1630\n",
       "2        hotel   1557\n",
       "3         food   1040\n",
       "4        night    887\n",
       "5    breakfast    791\n",
       "6         pool    693\n",
       "7         stay    691\n",
       "8       family    600\n",
       "9        place    582\n",
       "10  restaurant    567\n",
       "11     service    562\n",
       "12        area    530\n",
       "13     weekend    525\n",
       "14       child    424"
      ]
     },
     "execution_count": 37,
     "metadata": {},
     "output_type": "execute_result"
    }
   ],
   "source": [
    "# List accommodation top 15 words\n",
    "accom_count.head(15)"
   ]
  },
  {
   "cell_type": "code",
   "execution_count": 100,
   "metadata": {},
   "outputs": [],
   "source": [
    "def graphmatplot(df,name):\n",
    "    fig, ax = plt.subplots(figsize = (8,6))\n",
    "    ax.set_facecolor(\"White\")\n",
    "    df = df.sort_values(by = \"Count\",ascending = False).head(10)\n",
    "    ax.barh(df[\"Word\"], width = df[\"Count\"], color = \"lightsteelblue\")\n",
    "    ax.set_title(name,fontsize = 14)\n",
    "    ax.invert_yaxis()\n",
    "    ax.set_xlabel(\"Number of Occurrences\",labelpad = 10)\n",
    "    plt.yticks(fontsize=14)\n",
    "    ax.spines['right'].set_visible(False)\n",
    "    ax.spines['top'].set_visible(False)\n",
    "    ax.spines['left'].set_visible(False)\n",
    "    ax.spines['bottom'].set_visible(False)\n",
    "    plt.show()"
   ]
  },
  {
   "cell_type": "code",
   "execution_count": 101,
   "metadata": {},
   "outputs": [
    {
     "data": {
      "image/png": "[encoded data removed]",
      "text/plain": [
       "<Figure size 576x432 with 1 Axes>"
      ]
     },
     "metadata": {
      "needs_background": "light"
     },
     "output_type": "display_data"
    }
   ],
   "source": [
    "graphmatplot(accom_count,\"Top 10 Accommodation Words\")"
   ]
  },
  {
   "cell_type": "code",
   "execution_count": 102,
   "metadata": {},
   "outputs": [
    {
     "data": {
      "text/html": [
       "<div>\n",
       "<style scoped>\n",
       "    .dataframe tbody tr th:only-of-type {\n",
       "        vertical-align: middle;\n",
       "    }\n",
       "\n",
       "    .dataframe tbody tr th {\n",
       "        vertical-align: top;\n",
       "    }\n",
       "\n",
       "    .dataframe thead th {\n",
       "        text-align: right;\n",
       "    }\n",
       "</style>\n",
       "<table border=\"1\" class=\"dataframe\">\n",
       "  <thead>\n",
       "    <tr style=\"text-align: right;\">\n",
       "      <th></th>\n",
       "      <th>Word</th>\n",
       "      <th>Count</th>\n",
       "    </tr>\n",
       "  </thead>\n",
       "  <tbody>\n",
       "    <tr>\n",
       "      <th>0</th>\n",
       "      <td>food</td>\n",
       "      <td>5763</td>\n",
       "    </tr>\n",
       "    <tr>\n",
       "      <th>1</th>\n",
       "      <td>service</td>\n",
       "      <td>2895</td>\n",
       "    </tr>\n",
       "    <tr>\n",
       "      <th>2</th>\n",
       "      <td>staff</td>\n",
       "      <td>2804</td>\n",
       "    </tr>\n",
       "    <tr>\n",
       "      <th>3</th>\n",
       "      <td>meal</td>\n",
       "      <td>1713</td>\n",
       "    </tr>\n",
       "    <tr>\n",
       "      <th>4</th>\n",
       "      <td>restaurant</td>\n",
       "      <td>1600</td>\n",
       "    </tr>\n",
       "    <tr>\n",
       "      <th>5</th>\n",
       "      <td>lunch</td>\n",
       "      <td>1437</td>\n",
       "    </tr>\n",
       "    <tr>\n",
       "      <th>6</th>\n",
       "      <td>place</td>\n",
       "      <td>1371</td>\n",
       "    </tr>\n",
       "    <tr>\n",
       "      <th>7</th>\n",
       "      <td>menu</td>\n",
       "      <td>1169</td>\n",
       "    </tr>\n",
       "    <tr>\n",
       "      <th>8</th>\n",
       "      <td>visit</td>\n",
       "      <td>891</td>\n",
       "    </tr>\n",
       "    <tr>\n",
       "      <th>10</th>\n",
       "      <td>family</td>\n",
       "      <td>793</td>\n",
       "    </tr>\n",
       "    <tr>\n",
       "      <th>11</th>\n",
       "      <td>pub</td>\n",
       "      <td>756</td>\n",
       "    </tr>\n",
       "    <tr>\n",
       "      <th>12</th>\n",
       "      <td>night</td>\n",
       "      <td>674</td>\n",
       "    </tr>\n",
       "    <tr>\n",
       "      <th>13</th>\n",
       "      <td>friend</td>\n",
       "      <td>643</td>\n",
       "    </tr>\n",
       "    <tr>\n",
       "      <th>14</th>\n",
       "      <td>value</td>\n",
       "      <td>642</td>\n",
       "    </tr>\n",
       "    <tr>\n",
       "      <th>15</th>\n",
       "      <td>choice</td>\n",
       "      <td>640</td>\n",
       "    </tr>\n",
       "  </tbody>\n",
       "</table>\n",
       "</div>"
      ],
      "text/plain": [
       "          Word  Count\n",
       "0         food   5763\n",
       "1      service   2895\n",
       "2        staff   2804\n",
       "3         meal   1713\n",
       "4   restaurant   1600\n",
       "5        lunch   1437\n",
       "6        place   1371\n",
       "7         menu   1169\n",
       "8        visit    891\n",
       "10      family    793\n",
       "11         pub    756\n",
       "12       night    674\n",
       "13      friend    643\n",
       "14       value    642\n",
       "15      choice    640"
      ]
     },
     "execution_count": 102,
     "metadata": {},
     "output_type": "execute_result"
    }
   ],
   "source": [
    "# Top 15 nouns associated with food and the frequencies\n",
    "food_count.head(15)"
   ]
  },
  {
   "cell_type": "code",
   "execution_count": 103,
   "metadata": {},
   "outputs": [],
   "source": [
    "# Remove odd words\n",
    "food_count = food_count[food_count[\"Word\"] != \"chip\"]"
   ]
  },
  {
   "cell_type": "code",
   "execution_count": 104,
   "metadata": {},
   "outputs": [
    {
     "data": {
      "image/png": "[encoded data removed]",
      "text/plain": [
       "<Figure size 576x432 with 1 Axes>"
      ]
     },
     "metadata": {
      "needs_background": "light"
     },
     "output_type": "display_data"
    }
   ],
   "source": [
    "graphmatplot(food_count,\"Top 10 Food Words\")"
   ]
  },
  {
   "cell_type": "code",
   "execution_count": 98,
   "metadata": {},
   "outputs": [
    {
     "data": {
      "text/html": [
       "<div>\n",
       "<style scoped>\n",
       "    .dataframe tbody tr th:only-of-type {\n",
       "        vertical-align: middle;\n",
       "    }\n",
       "\n",
       "    .dataframe tbody tr th {\n",
       "        vertical-align: top;\n",
       "    }\n",
       "\n",
       "    .dataframe thead th {\n",
       "        text-align: right;\n",
       "    }\n",
       "</style>\n",
       "<table border=\"1\" class=\"dataframe\">\n",
       "  <thead>\n",
       "    <tr style=\"text-align: right;\">\n",
       "      <th></th>\n",
       "      <th>Word</th>\n",
       "      <th>Count</th>\n",
       "    </tr>\n",
       "  </thead>\n",
       "  <tbody>\n",
       "    <tr>\n",
       "      <th>0</th>\n",
       "      <td>visit</td>\n",
       "      <td>377</td>\n",
       "    </tr>\n",
       "    <tr>\n",
       "      <th>1</th>\n",
       "      <td>garden</td>\n",
       "      <td>362</td>\n",
       "    </tr>\n",
       "    <tr>\n",
       "      <th>2</th>\n",
       "      <td>place</td>\n",
       "      <td>313</td>\n",
       "    </tr>\n",
       "    <tr>\n",
       "      <th>3</th>\n",
       "      <td>staff</td>\n",
       "      <td>256</td>\n",
       "    </tr>\n",
       "    <tr>\n",
       "      <th>4</th>\n",
       "      <td>park</td>\n",
       "      <td>241</td>\n",
       "    </tr>\n",
       "    <tr>\n",
       "      <th>5</th>\n",
       "      <td>area</td>\n",
       "      <td>218</td>\n",
       "    </tr>\n",
       "    <tr>\n",
       "      <th>6</th>\n",
       "      <td>beach</td>\n",
       "      <td>202</td>\n",
       "    </tr>\n",
       "    <tr>\n",
       "      <th>7</th>\n",
       "      <td>walk</td>\n",
       "      <td>190</td>\n",
       "    </tr>\n",
       "    <tr>\n",
       "      <th>8</th>\n",
       "      <td>room</td>\n",
       "      <td>177</td>\n",
       "    </tr>\n",
       "    <tr>\n",
       "      <th>9</th>\n",
       "      <td>family</td>\n",
       "      <td>160</td>\n",
       "    </tr>\n",
       "    <tr>\n",
       "      <th>10</th>\n",
       "      <td>shop</td>\n",
       "      <td>157</td>\n",
       "    </tr>\n",
       "    <tr>\n",
       "      <th>11</th>\n",
       "      <td>food</td>\n",
       "      <td>156</td>\n",
       "    </tr>\n",
       "    <tr>\n",
       "      <th>12</th>\n",
       "      <td>child</td>\n",
       "      <td>153</td>\n",
       "    </tr>\n",
       "    <tr>\n",
       "      <th>13</th>\n",
       "      <td>experience</td>\n",
       "      <td>145</td>\n",
       "    </tr>\n",
       "    <tr>\n",
       "      <th>14</th>\n",
       "      <td>lot</td>\n",
       "      <td>143</td>\n",
       "    </tr>\n",
       "  </tbody>\n",
       "</table>\n",
       "</div>"
      ],
      "text/plain": [
       "          Word  Count\n",
       "0        visit    377\n",
       "1       garden    362\n",
       "2        place    313\n",
       "3        staff    256\n",
       "4         park    241\n",
       "5         area    218\n",
       "6        beach    202\n",
       "7         walk    190\n",
       "8         room    177\n",
       "9       family    160\n",
       "10        shop    157\n",
       "11        food    156\n",
       "12       child    153\n",
       "13  experience    145\n",
       "14         lot    143"
      ]
     },
     "execution_count": 98,
     "metadata": {},
     "output_type": "execute_result"
    }
   ],
   "source": [
    "# Top 15 nouns associated with attractions and the frequencies\n",
    "attract_count.head(15)"
   ]
  },
  {
   "cell_type": "code",
   "execution_count": 99,
   "metadata": {},
   "outputs": [
    {
     "data": {
      "image/png": "[encoded data removed]",
      "text/plain": [
       "<Figure size 576x432 with 1 Axes>"
      ]
     },
     "metadata": {
      "needs_background": "light"
     },
     "output_type": "display_data"
    }
   ],
   "source": [
    "graphmatplot(attract_count,\"Top 10 Attraction Words\")"
   ]
  },
  {
   "cell_type": "markdown",
   "metadata": {},
   "source": [
    "* Using just nouns gives a good idea of the important themes based on frequency of noun occurrence \n",
    "* Certain words like 'car-park' are not picked up as it splits them into car and park so bigrams could be preferable"
   ]
  },
  {
   "cell_type": "markdown",
   "metadata": {},
   "source": [
    "# Section 6: Bigrams"
   ]
  },
  {
   "cell_type": "code",
   "execution_count": 52,
   "metadata": {},
   "outputs": [],
   "source": [
    "nouns_accom[\"bigrams\"] = nouns_accom[\"nouns\"].apply(lambda x: ngrams(x,2))\n",
    "nouns_food[\"bigrams\"] = nouns_food[\"nouns\"].apply(lambda x: ngrams(x,2))\n",
    "nouns_attract[\"bigrams\"] = nouns_attract[\"nouns\"].apply(lambda x: ngrams(x,2))"
   ]
  },
  {
   "cell_type": "code",
   "execution_count": 53,
   "metadata": {},
   "outputs": [],
   "source": [
    "nouns_accom[\"bigrams_count\"] = nouns_accom[\"bigrams\"].apply(Counter)\n",
    "nouns_food[\"bigrams_count\"] = nouns_food[\"bigrams\"].apply(Counter)\n",
    "nouns_attract[\"bigrams_count\"] = nouns_attract[\"bigrams\"].apply(Counter)"
   ]
  },
  {
   "cell_type": "code",
   "execution_count": 54,
   "metadata": {},
   "outputs": [
    {
     "name": "stdout",
     "output_type": "stream",
     "text": [
      "Counter({('break', 'accommodation'): 1, ('accommodation', 'night'): 1, ('night', 'stay'): 1, ('stay', 'treat'): 1, ('treat', 'family'): 1, ('family', 'adult'): 1, ('adult', 'kid'): 1, ('kid', 'year'): 1})\n"
     ]
    }
   ],
   "source": [
    "# Example review\n",
    "print(nouns_accom[\"bigrams_count\"].iloc[0])"
   ]
  },
  {
   "cell_type": "code",
   "execution_count": 55,
   "metadata": {},
   "outputs": [],
   "source": [
    "# Create dataframe for accommodation\n",
    "accom_bigram = pd.DataFrame(nouns_accom[\"bigrams_count\"].sum().most_common(),columns = [\"Word\",\"Count\"] )\n",
    "accom_bigram[\"Word\"] = accom_bigram[\"Word\"].apply(lambda x: ' '.join(x))"
   ]
  },
  {
   "cell_type": "code",
   "execution_count": 56,
   "metadata": {},
   "outputs": [
    {
     "data": {
      "text/html": [
       "<div>\n",
       "<style scoped>\n",
       "    .dataframe tbody tr th:only-of-type {\n",
       "        vertical-align: middle;\n",
       "    }\n",
       "\n",
       "    .dataframe tbody tr th {\n",
       "        vertical-align: top;\n",
       "    }\n",
       "\n",
       "    .dataframe thead th {\n",
       "        text-align: right;\n",
       "    }\n",
       "</style>\n",
       "<table border=\"1\" class=\"dataframe\">\n",
       "  <thead>\n",
       "    <tr style=\"text-align: right;\">\n",
       "      <th></th>\n",
       "      <th>Word</th>\n",
       "      <th>Count</th>\n",
       "    </tr>\n",
       "  </thead>\n",
       "  <tbody>\n",
       "    <tr>\n",
       "      <th>0</th>\n",
       "      <td>value money</td>\n",
       "      <td>121</td>\n",
       "    </tr>\n",
       "    <tr>\n",
       "      <th>1</th>\n",
       "      <td>car park</td>\n",
       "      <td>112</td>\n",
       "    </tr>\n",
       "    <tr>\n",
       "      <th>2</th>\n",
       "      <td>hotel room</td>\n",
       "      <td>83</td>\n",
       "    </tr>\n",
       "    <tr>\n",
       "      <th>3</th>\n",
       "      <td>night stay</td>\n",
       "      <td>82</td>\n",
       "    </tr>\n",
       "    <tr>\n",
       "      <th>4</th>\n",
       "      <td>place stay</td>\n",
       "      <td>81</td>\n",
       "    </tr>\n",
       "    <tr>\n",
       "      <th>5</th>\n",
       "      <td>customer service</td>\n",
       "      <td>77</td>\n",
       "    </tr>\n",
       "    <tr>\n",
       "      <th>6</th>\n",
       "      <td>hotel staff</td>\n",
       "      <td>77</td>\n",
       "    </tr>\n",
       "    <tr>\n",
       "      <th>7</th>\n",
       "      <td>staff helpful</td>\n",
       "      <td>72</td>\n",
       "    </tr>\n",
       "    <tr>\n",
       "      <th>8</th>\n",
       "      <td>tea coffee</td>\n",
       "      <td>71</td>\n",
       "    </tr>\n",
       "    <tr>\n",
       "      <th>9</th>\n",
       "      <td>room room</td>\n",
       "      <td>70</td>\n",
       "    </tr>\n",
       "    <tr>\n",
       "      <th>10</th>\n",
       "      <td>room clean</td>\n",
       "      <td>68</td>\n",
       "    </tr>\n",
       "    <tr>\n",
       "      <th>11</th>\n",
       "      <td>member staff</td>\n",
       "      <td>65</td>\n",
       "    </tr>\n",
       "    <tr>\n",
       "      <th>12</th>\n",
       "      <td>sea view</td>\n",
       "      <td>57</td>\n",
       "    </tr>\n",
       "    <tr>\n",
       "      <th>13</th>\n",
       "      <td>room bed</td>\n",
       "      <td>57</td>\n",
       "    </tr>\n",
       "    <tr>\n",
       "      <th>14</th>\n",
       "      <td>staff room</td>\n",
       "      <td>57</td>\n",
       "    </tr>\n",
       "  </tbody>\n",
       "</table>\n",
       "</div>"
      ],
      "text/plain": [
       "                Word  Count\n",
       "0        value money    121\n",
       "1           car park    112\n",
       "2         hotel room     83\n",
       "3         night stay     82\n",
       "4         place stay     81\n",
       "5   customer service     77\n",
       "6        hotel staff     77\n",
       "7      staff helpful     72\n",
       "8         tea coffee     71\n",
       "9          room room     70\n",
       "10        room clean     68\n",
       "11      member staff     65\n",
       "12          sea view     57\n",
       "13          room bed     57\n",
       "14        staff room     57"
      ]
     },
     "execution_count": 56,
     "metadata": {},
     "output_type": "execute_result"
    }
   ],
   "source": [
    "accom_bigram.head(15)"
   ]
  },
  {
   "cell_type": "code",
   "execution_count": 105,
   "metadata": {},
   "outputs": [],
   "source": [
    "# Replace repeated words with another phrase\n",
    "accom_bigram = accom_bigram.replace(to_replace =\"room room\",value =\"room general\")"
   ]
  },
  {
   "cell_type": "code",
   "execution_count": 106,
   "metadata": {},
   "outputs": [
    {
     "data": {
      "image/png": "[encoded data removed]",
      "text/plain": [
       "<Figure size 576x432 with 1 Axes>"
      ]
     },
     "metadata": {
      "needs_background": "light"
     },
     "output_type": "display_data"
    }
   ],
   "source": [
    "graphmatplot(accom_bigram,\"Top 10 Accommodation Bigrams\")"
   ]
  },
  {
   "cell_type": "code",
   "execution_count": 59,
   "metadata": {},
   "outputs": [],
   "source": [
    "# Create dataframe for food\n",
    "food_bigram = pd.DataFrame(nouns_food[\"bigrams_count\"].sum().most_common(),columns = [\"Word\",\"Count\"] )\n",
    "food_bigram[\"Word\"] = food_bigram[\"Word\"].apply(lambda x: ' '.join(x))"
   ]
  },
  {
   "cell_type": "code",
   "execution_count": 60,
   "metadata": {},
   "outputs": [
    {
     "data": {
      "text/html": [
       "<div>\n",
       "<style scoped>\n",
       "    .dataframe tbody tr th:only-of-type {\n",
       "        vertical-align: middle;\n",
       "    }\n",
       "\n",
       "    .dataframe tbody tr th {\n",
       "        vertical-align: top;\n",
       "    }\n",
       "\n",
       "    .dataframe thead th {\n",
       "        text-align: right;\n",
       "    }\n",
       "</style>\n",
       "<table border=\"1\" class=\"dataframe\">\n",
       "  <thead>\n",
       "    <tr style=\"text-align: right;\">\n",
       "      <th></th>\n",
       "      <th>Word</th>\n",
       "      <th>Count</th>\n",
       "    </tr>\n",
       "  </thead>\n",
       "  <tbody>\n",
       "    <tr>\n",
       "      <th>0</th>\n",
       "      <td>food service</td>\n",
       "      <td>621</td>\n",
       "    </tr>\n",
       "    <tr>\n",
       "      <th>1</th>\n",
       "      <td>service food</td>\n",
       "      <td>362</td>\n",
       "    </tr>\n",
       "    <tr>\n",
       "      <th>2</th>\n",
       "      <td>food staff</td>\n",
       "      <td>278</td>\n",
       "    </tr>\n",
       "    <tr>\n",
       "      <th>3</th>\n",
       "      <td>staff food</td>\n",
       "      <td>237</td>\n",
       "    </tr>\n",
       "    <tr>\n",
       "      <th>4</th>\n",
       "      <td>value money</td>\n",
       "      <td>236</td>\n",
       "    </tr>\n",
       "    <tr>\n",
       "      <th>5</th>\n",
       "      <td>quality food</td>\n",
       "      <td>160</td>\n",
       "    </tr>\n",
       "    <tr>\n",
       "      <th>6</th>\n",
       "      <td>service staff</td>\n",
       "      <td>146</td>\n",
       "    </tr>\n",
       "    <tr>\n",
       "      <th>7</th>\n",
       "      <td>customer service</td>\n",
       "      <td>138</td>\n",
       "    </tr>\n",
       "    <tr>\n",
       "      <th>8</th>\n",
       "      <td>ice cream</td>\n",
       "      <td>130</td>\n",
       "    </tr>\n",
       "    <tr>\n",
       "      <th>9</th>\n",
       "      <td>portion size</td>\n",
       "      <td>108</td>\n",
       "    </tr>\n",
       "    <tr>\n",
       "      <th>10</th>\n",
       "      <td>food price</td>\n",
       "      <td>105</td>\n",
       "    </tr>\n",
       "    <tr>\n",
       "      <th>11</th>\n",
       "      <td>food quality</td>\n",
       "      <td>103</td>\n",
       "    </tr>\n",
       "    <tr>\n",
       "      <th>12</th>\n",
       "      <td>sunday lunch</td>\n",
       "      <td>101</td>\n",
       "    </tr>\n",
       "    <tr>\n",
       "      <th>13</th>\n",
       "      <td>food excellent</td>\n",
       "      <td>99</td>\n",
       "    </tr>\n",
       "    <tr>\n",
       "      <th>14</th>\n",
       "      <td>food value</td>\n",
       "      <td>92</td>\n",
       "    </tr>\n",
       "  </tbody>\n",
       "</table>\n",
       "</div>"
      ],
      "text/plain": [
       "                Word  Count\n",
       "0       food service    621\n",
       "1       service food    362\n",
       "2         food staff    278\n",
       "3         staff food    237\n",
       "4        value money    236\n",
       "5       quality food    160\n",
       "6      service staff    146\n",
       "7   customer service    138\n",
       "8          ice cream    130\n",
       "9       portion size    108\n",
       "10        food price    105\n",
       "11      food quality    103\n",
       "12      sunday lunch    101\n",
       "13    food excellent     99\n",
       "14        food value     92"
      ]
     },
     "execution_count": 60,
     "metadata": {},
     "output_type": "execute_result"
    }
   ],
   "source": [
    "food_bigram.head(15)"
   ]
  },
  {
   "cell_type": "code",
   "execution_count": 107,
   "metadata": {},
   "outputs": [
    {
     "data": {
      "image/png": "[encoded data removed]",
      "text/plain": [
       "<Figure size 576x432 with 1 Axes>"
      ]
     },
     "metadata": {
      "needs_background": "light"
     },
     "output_type": "display_data"
    }
   ],
   "source": [
    "graphmatplot(food_bigram,\"Top 10 Food Bigrams\")"
   ]
  },
  {
   "cell_type": "code",
   "execution_count": 64,
   "metadata": {},
   "outputs": [],
   "source": [
    "# Create dataframe for attractions\n",
    "attract_bigram = pd.DataFrame(nouns_attract[\"bigrams_count\"].sum().most_common(),columns = [\"Word\",\"Count\"] )\n",
    "attract_bigram[\"Word\"] = attract_bigram[\"Word\"].apply(lambda x: ' '.join(x))"
   ]
  },
  {
   "cell_type": "code",
   "execution_count": 65,
   "metadata": {},
   "outputs": [
    {
     "data": {
      "text/html": [
       "<div>\n",
       "<style scoped>\n",
       "    .dataframe tbody tr th:only-of-type {\n",
       "        vertical-align: middle;\n",
       "    }\n",
       "\n",
       "    .dataframe tbody tr th {\n",
       "        vertical-align: top;\n",
       "    }\n",
       "\n",
       "    .dataframe thead th {\n",
       "        text-align: right;\n",
       "    }\n",
       "</style>\n",
       "<table border=\"1\" class=\"dataframe\">\n",
       "  <thead>\n",
       "    <tr style=\"text-align: right;\">\n",
       "      <th></th>\n",
       "      <th>Word</th>\n",
       "      <th>Count</th>\n",
       "    </tr>\n",
       "  </thead>\n",
       "  <tbody>\n",
       "    <tr>\n",
       "      <th>0</th>\n",
       "      <td>car park</td>\n",
       "      <td>56</td>\n",
       "    </tr>\n",
       "    <tr>\n",
       "      <th>1</th>\n",
       "      <td>value money</td>\n",
       "      <td>36</td>\n",
       "    </tr>\n",
       "    <tr>\n",
       "      <th>2</th>\n",
       "      <td>ice cream</td>\n",
       "      <td>32</td>\n",
       "    </tr>\n",
       "    <tr>\n",
       "      <th>3</th>\n",
       "      <td>place visit</td>\n",
       "      <td>31</td>\n",
       "    </tr>\n",
       "    <tr>\n",
       "      <th>4</th>\n",
       "      <td>gift shop</td>\n",
       "      <td>29</td>\n",
       "    </tr>\n",
       "    <tr>\n",
       "      <th>5</th>\n",
       "      <td>gold ticket</td>\n",
       "      <td>26</td>\n",
       "    </tr>\n",
       "    <tr>\n",
       "      <th>6</th>\n",
       "      <td>tulip festival</td>\n",
       "      <td>26</td>\n",
       "    </tr>\n",
       "    <tr>\n",
       "      <th>7</th>\n",
       "      <td>play area</td>\n",
       "      <td>21</td>\n",
       "    </tr>\n",
       "    <tr>\n",
       "      <th>8</th>\n",
       "      <td>visit garden</td>\n",
       "      <td>18</td>\n",
       "    </tr>\n",
       "    <tr>\n",
       "      <th>9</th>\n",
       "      <td>boat trip</td>\n",
       "      <td>18</td>\n",
       "    </tr>\n",
       "    <tr>\n",
       "      <th>10</th>\n",
       "      <td>beach beach</td>\n",
       "      <td>18</td>\n",
       "    </tr>\n",
       "    <tr>\n",
       "      <th>11</th>\n",
       "      <td>golf course</td>\n",
       "      <td>16</td>\n",
       "    </tr>\n",
       "    <tr>\n",
       "      <th>12</th>\n",
       "      <td>mini golf</td>\n",
       "      <td>15</td>\n",
       "    </tr>\n",
       "    <tr>\n",
       "      <th>13</th>\n",
       "      <td>entrance fee</td>\n",
       "      <td>14</td>\n",
       "    </tr>\n",
       "    <tr>\n",
       "      <th>14</th>\n",
       "      <td>bank holiday</td>\n",
       "      <td>14</td>\n",
       "    </tr>\n",
       "  </tbody>\n",
       "</table>\n",
       "</div>"
      ],
      "text/plain": [
       "              Word  Count\n",
       "0         car park     56\n",
       "1      value money     36\n",
       "2        ice cream     32\n",
       "3      place visit     31\n",
       "4        gift shop     29\n",
       "5      gold ticket     26\n",
       "6   tulip festival     26\n",
       "7        play area     21\n",
       "8     visit garden     18\n",
       "9        boat trip     18\n",
       "10     beach beach     18\n",
       "11     golf course     16\n",
       "12       mini golf     15\n",
       "13    entrance fee     14\n",
       "14    bank holiday     14"
      ]
     },
     "execution_count": 65,
     "metadata": {},
     "output_type": "execute_result"
    }
   ],
   "source": [
    "attract_bigram.head(15)"
   ]
  },
  {
   "cell_type": "code",
   "execution_count": 66,
   "metadata": {},
   "outputs": [],
   "source": [
    "# Replace repeated words\n",
    "#attract_bigram = attract_bigram.replace(to_replace =\"gotham park\",value =\"hotham park\")\n",
    "attract_bigram = attract_bigram.replace(to_replace =\"beach beach\",value =\"beach experience\")"
   ]
  },
  {
   "cell_type": "code",
   "execution_count": 108,
   "metadata": {},
   "outputs": [
    {
     "data": {
      "image/png": "[encoded data removed]",
      "text/plain": [
       "<Figure size 576x432 with 1 Axes>"
      ]
     },
     "metadata": {
      "needs_background": "light"
     },
     "output_type": "display_data"
    }
   ],
   "source": [
    "graphmatplot(attract_bigram,\"Top 10 Attraction Bigrams\")"
   ]
  },
  {
   "cell_type": "markdown",
   "metadata": {},
   "source": [
    "# Section 7: Exploding dataframe on noun-phrases and nouns"
   ]
  },
  {
   "cell_type": "code",
   "execution_count": 61,
   "metadata": {},
   "outputs": [
    {
     "data": {
      "text/html": [
       "<div>\n",
       "<style scoped>\n",
       "    .dataframe tbody tr th:only-of-type {\n",
       "        vertical-align: middle;\n",
       "    }\n",
       "\n",
       "    .dataframe tbody tr th {\n",
       "        vertical-align: top;\n",
       "    }\n",
       "\n",
       "    .dataframe thead th {\n",
       "        text-align: right;\n",
       "    }\n",
       "</style>\n",
       "<table border=\"1\" class=\"dataframe\">\n",
       "  <thead>\n",
       "    <tr style=\"text-align: right;\">\n",
       "      <th></th>\n",
       "      <th>OrigInd</th>\n",
       "      <th>Category</th>\n",
       "      <th>Town</th>\n",
       "      <th>Rating</th>\n",
       "      <th>all_text</th>\n",
       "      <th>sentences</th>\n",
       "      <th>len</th>\n",
       "      <th>cleaned_sentences</th>\n",
       "      <th>noun_phrases</th>\n",
       "    </tr>\n",
       "  </thead>\n",
       "  <tbody>\n",
       "    <tr>\n",
       "      <th>0</th>\n",
       "      <td>0</td>\n",
       "      <td>Accommodation</td>\n",
       "      <td>Bognor</td>\n",
       "      <td>4</td>\n",
       "      <td>Nice break, shame about the accommodation... W...</td>\n",
       "      <td>Nice break, shame about the accommodation... W...</td>\n",
       "      <td>173</td>\n",
       "      <td>nice break shame accommodation booked night st...</td>\n",
       "      <td>[shame accommodation, night stay december post...</td>\n",
       "    </tr>\n",
       "    <tr>\n",
       "      <th>0</th>\n",
       "      <td>0</td>\n",
       "      <td>Accommodation</td>\n",
       "      <td>Bognor</td>\n",
       "      <td>4</td>\n",
       "      <td>Nice break, shame about the accommodation... W...</td>\n",
       "      <td>We’d never been to Butlins before so weren’t r...</td>\n",
       "      <td>283</td>\n",
       "      <td>would never not really sure expect review eith...</td>\n",
       "      <td>[good terrible, usual choice]</td>\n",
       "    </tr>\n",
       "  </tbody>\n",
       "</table>\n",
       "</div>"
      ],
      "text/plain": [
       "   OrigInd       Category    Town  Rating  \\\n",
       "0        0  Accommodation  Bognor       4   \n",
       "0        0  Accommodation  Bognor       4   \n",
       "\n",
       "                                            all_text  \\\n",
       "0  Nice break, shame about the accommodation... W...   \n",
       "0  Nice break, shame about the accommodation... W...   \n",
       "\n",
       "                                           sentences  len  \\\n",
       "0  Nice break, shame about the accommodation... W...  173   \n",
       "0  We’d never been to Butlins before so weren’t r...  283   \n",
       "\n",
       "                                   cleaned_sentences  \\\n",
       "0  nice break shame accommodation booked night st...   \n",
       "0  would never not really sure expect review eith...   \n",
       "\n",
       "                                        noun_phrases  \n",
       "0  [shame accommodation, night stay december post...  \n",
       "0                      [good terrible, usual choice]  "
      ]
     },
     "execution_count": 61,
     "metadata": {},
     "output_type": "execute_result"
    }
   ],
   "source": [
    "df.head(2)"
   ]
  },
  {
   "cell_type": "code",
   "execution_count": 62,
   "metadata": {},
   "outputs": [
    {
     "data": {
      "text/plain": [
       "(80298, 9)"
      ]
     },
     "execution_count": 62,
     "metadata": {},
     "output_type": "execute_result"
    }
   ],
   "source": [
    "# Split each noun phrase onto a separate line and check shape\n",
    "df3 = df.explode(\"noun_phrases\")\n",
    "df3.shape"
   ]
  },
  {
   "cell_type": "code",
   "execution_count": 63,
   "metadata": {},
   "outputs": [
    {
     "data": {
      "text/html": [
       "<div>\n",
       "<style scoped>\n",
       "    .dataframe tbody tr th:only-of-type {\n",
       "        vertical-align: middle;\n",
       "    }\n",
       "\n",
       "    .dataframe tbody tr th {\n",
       "        vertical-align: top;\n",
       "    }\n",
       "\n",
       "    .dataframe thead th {\n",
       "        text-align: right;\n",
       "    }\n",
       "</style>\n",
       "<table border=\"1\" class=\"dataframe\">\n",
       "  <thead>\n",
       "    <tr style=\"text-align: right;\">\n",
       "      <th></th>\n",
       "      <th>OrigInd</th>\n",
       "      <th>Category</th>\n",
       "      <th>Town</th>\n",
       "      <th>Rating</th>\n",
       "      <th>all_text</th>\n",
       "      <th>sentences</th>\n",
       "      <th>len</th>\n",
       "      <th>cleaned_sentences</th>\n",
       "      <th>noun_phrases</th>\n",
       "    </tr>\n",
       "  </thead>\n",
       "  <tbody>\n",
       "    <tr>\n",
       "      <th>0</th>\n",
       "      <td>0</td>\n",
       "      <td>Accommodation</td>\n",
       "      <td>Bognor</td>\n",
       "      <td>4</td>\n",
       "      <td>Nice break, shame about the accommodation... W...</td>\n",
       "      <td>Nice break, shame about the accommodation... W...</td>\n",
       "      <td>173</td>\n",
       "      <td>nice break shame accommodation booked night st...</td>\n",
       "      <td>shame accommodation</td>\n",
       "    </tr>\n",
       "    <tr>\n",
       "      <th>0</th>\n",
       "      <td>0</td>\n",
       "      <td>Accommodation</td>\n",
       "      <td>Bognor</td>\n",
       "      <td>4</td>\n",
       "      <td>Nice break, shame about the accommodation... W...</td>\n",
       "      <td>Nice break, shame about the accommodation... W...</td>\n",
       "      <td>173</td>\n",
       "      <td>nice break shame accommodation booked night st...</td>\n",
       "      <td>night stay december post-christmas</td>\n",
       "    </tr>\n",
       "  </tbody>\n",
       "</table>\n",
       "</div>"
      ],
      "text/plain": [
       "   OrigInd       Category    Town  Rating  \\\n",
       "0        0  Accommodation  Bognor       4   \n",
       "0        0  Accommodation  Bognor       4   \n",
       "\n",
       "                                            all_text  \\\n",
       "0  Nice break, shame about the accommodation... W...   \n",
       "0  Nice break, shame about the accommodation... W...   \n",
       "\n",
       "                                           sentences  len  \\\n",
       "0  Nice break, shame about the accommodation... W...  173   \n",
       "0  Nice break, shame about the accommodation... W...  173   \n",
       "\n",
       "                                   cleaned_sentences  \\\n",
       "0  nice break shame accommodation booked night st...   \n",
       "0  nice break shame accommodation booked night st...   \n",
       "\n",
       "                         noun_phrases  \n",
       "0                 shame accommodation  \n",
       "0  night stay december post-christmas  "
      ]
     },
     "execution_count": 63,
     "metadata": {},
     "output_type": "execute_result"
    }
   ],
   "source": [
    "df3.head(2)"
   ]
  },
  {
   "cell_type": "code",
   "execution_count": 64,
   "metadata": {},
   "outputs": [
    {
     "data": {
      "text/plain": [
       "'shame accommodation'"
      ]
     },
     "execution_count": 64,
     "metadata": {},
     "output_type": "execute_result"
    }
   ],
   "source": [
    "df3[\"noun_phrases\"].iloc[0]"
   ]
  },
  {
   "cell_type": "code",
   "execution_count": 65,
   "metadata": {},
   "outputs": [],
   "source": [
    "# Uncomment to save over the file\n",
    "df3.to_csv(\"noun_phrase_exploded.csv\")"
   ]
  },
  {
   "cell_type": "markdown",
   "metadata": {},
   "source": [
    "# Section 8: Summary"
   ]
  },
  {
   "cell_type": "markdown",
   "metadata": {},
   "source": [
    "Comments:\n",
    "\n",
    "* Keyword extraction identified key words in the reviews which helps to identify some of the main aspects in the reviews\n",
    "* Bigrams give more perspective by linking words like 'car' and 'park' together\n",
    "* There is quite a lot of repetition amongst the bigrams for the food category in particular, with the word 'food' being teamed up with many other different words, in particular the word 'service'. This suggests the topics might be fuzzy.\n",
    "* Unigrams and Bigrams are a bit too specific, more useful would be topics based on the distribution of topics such as that provided by topic modelling which is considered in the Notebook - Topic Models\n",
    "* Splitting out the noun-phrases and exploding them onto separate lines gives a dataframe of almost 80,000 lines on which to generate sentiment. Also, these phrases need to be clustered into summary topics, e.g. 'the fish and chips were nice' to a topic of 'food'.\n"
   ]
  }
 ],
 "metadata": {
  "celltoolbar": "Raw Cell Format",
  "kernelspec": {
   "display_name": "Python 3",
   "language": "python",
   "name": "python3"
  },
  "language_info": {
   "codemirror_mode": {
    "name": "ipython",
    "version": 3
   },
   "file_extension": ".py",
   "mimetype": "text/x-python",
   "name": "python",
   "nbconvert_exporter": "python",
   "pygments_lexer": "ipython3",
   "version": "3.8.8"
  }
 },
 "nbformat": 4,
 "nbformat_minor": 4
}
