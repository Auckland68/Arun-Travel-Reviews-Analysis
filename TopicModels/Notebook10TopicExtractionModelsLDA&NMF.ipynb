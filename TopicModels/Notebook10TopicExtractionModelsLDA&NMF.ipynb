{
 "cells": [
  {
   "cell_type": "markdown",
   "metadata": {},
   "source": [
    "# Topic Models 1 - Comparison of Topic Models"
   ]
  },
  {
   "cell_type": "markdown",
   "metadata": {},
   "source": [
    "This notebook explores a number of topic modelling algorithms within Gensim and compares them using the coherence measure.\n",
    "\n",
    "* Section 1 - Import libraries and dataset\n",
    "* Section 2 - Data cleaning and pre-processing\n",
    "* Section 3 - Set up Gensim Model\n",
    "* Section 4 - Comparison of Models - LSI, LDA and NMF\n",
    "* Section 5 - Running the Gensim LDA model\n",
    "* Section 6 - Running and evaluating Scikit learn NMF models\n",
    "\n",
    "Dataset need to run notebook:\n",
    "\n",
    "* noun_phrase_exploded.csv\n",
    "\n",
    "Data saved to:\n",
    "\n",
    "* topicmodelsaccom.csv\n",
    "* topicmodelsfood.csv\n",
    "* topicmodelsattract.csv\n"
   ]
  },
  {
   "cell_type": "markdown",
   "metadata": {},
   "source": [
    "# Section 1: Import Libraries and Dataset"
   ]
  },
  {
   "cell_type": "code",
   "execution_count": 185,
   "metadata": {
    "scrolled": true
   },
   "outputs": [
    {
     "name": "stderr",
     "output_type": "stream",
     "text": [
      "[nltk_data] Downloading package stopwords to\n",
      "[nltk_data]     C:\\Users\\imoge\\AppData\\Roaming\\nltk_data...\n",
      "[nltk_data]   Package stopwords is already up-to-date!\n",
      "[nltk_data] Downloading package averaged_perceptron_tagger to\n",
      "[nltk_data]     C:\\Users\\imoge\\AppData\\Roaming\\nltk_data...\n",
      "[nltk_data]   Package averaged_perceptron_tagger is already up-to-\n",
      "[nltk_data]       date!\n"
     ]
    }
   ],
   "source": [
    "import pandas as pd\n",
    "import numpy as np\n",
    "import matplotlib.pyplot as plt\n",
    "import string\n",
    "import nltk\n",
    "nltk.download('stopwords')\n",
    "nltk.download('averaged_perceptron_tagger')\n",
    "from nltk.corpus import stopwords\n",
    "from nltk.util import ngrams\n",
    "import gensim\n",
    "from gensim.models import CoherenceModel, LdaModel, LsiModel, HdpModel,Phrases\n",
    "from gensim.corpora import Dictionary\n",
    "from gensim.models.nmf import Nmf as GensimNmf\n",
    "import pyLDAvis\n",
    "import pyLDAvis.gensim_models as gensimvis\n",
    "pyLDAvis.enable_notebook()\n",
    "from sklearn.feature_extraction.text import CountVectorizer, TfidfVectorizer\n",
    "from sklearn.decomposition import NMF, LatentDirichletAllocation\n",
    "from sklearn.model_selection import GridSearchCV\n",
    "import pyLDAvis.sklearn\n",
    "from sklearn.model_selection import RandomizedSearchCV\n",
    "from collections import Counter\n",
    "import ast\n",
    "import pickle\n",
    "import warnings\n",
    "import re\n",
    "warnings.filterwarnings(\"ignore\")\n",
    "import os\n",
    "%matplotlib inline"
   ]
  },
  {
   "cell_type": "code",
   "execution_count": 186,
   "metadata": {
    "scrolled": true
   },
   "outputs": [
    {
     "data": {
      "text/html": [
       "<div>\n",
       "<style scoped>\n",
       "    .dataframe tbody tr th:only-of-type {\n",
       "        vertical-align: middle;\n",
       "    }\n",
       "\n",
       "    .dataframe tbody tr th {\n",
       "        vertical-align: top;\n",
       "    }\n",
       "\n",
       "    .dataframe thead th {\n",
       "        text-align: right;\n",
       "    }\n",
       "</style>\n",
       "<table border=\"1\" class=\"dataframe\">\n",
       "  <thead>\n",
       "    <tr style=\"text-align: right;\">\n",
       "      <th></th>\n",
       "      <th>OrigInd</th>\n",
       "      <th>Category</th>\n",
       "      <th>Town</th>\n",
       "      <th>Rating</th>\n",
       "      <th>all_text</th>\n",
       "      <th>sentences</th>\n",
       "      <th>cleaned_sentences</th>\n",
       "      <th>noun_phrases</th>\n",
       "    </tr>\n",
       "  </thead>\n",
       "  <tbody>\n",
       "    <tr>\n",
       "      <th>0</th>\n",
       "      <td>0</td>\n",
       "      <td>Accommodation</td>\n",
       "      <td>Bognor</td>\n",
       "      <td>4</td>\n",
       "      <td>Nice break, shame about the accommodation... W...</td>\n",
       "      <td>Nice break, shame about the accommodation... W...</td>\n",
       "      <td>nice break shame accommodation booked night st...</td>\n",
       "      <td>shame accommodation</td>\n",
       "    </tr>\n",
       "    <tr>\n",
       "      <th>1</th>\n",
       "      <td>0</td>\n",
       "      <td>Accommodation</td>\n",
       "      <td>Bognor</td>\n",
       "      <td>4</td>\n",
       "      <td>Nice break, shame about the accommodation... W...</td>\n",
       "      <td>Nice break, shame about the accommodation... W...</td>\n",
       "      <td>nice break shame accommodation booked night st...</td>\n",
       "      <td>night stay december post-christmas</td>\n",
       "    </tr>\n",
       "  </tbody>\n",
       "</table>\n",
       "</div>"
      ],
      "text/plain": [
       "   OrigInd       Category    Town  Rating  \\\n",
       "0        0  Accommodation  Bognor       4   \n",
       "1        0  Accommodation  Bognor       4   \n",
       "\n",
       "                                            all_text  \\\n",
       "0  Nice break, shame about the accommodation... W...   \n",
       "1  Nice break, shame about the accommodation... W...   \n",
       "\n",
       "                                           sentences  \\\n",
       "0  Nice break, shame about the accommodation... W...   \n",
       "1  Nice break, shame about the accommodation... W...   \n",
       "\n",
       "                                   cleaned_sentences  \\\n",
       "0  nice break shame accommodation booked night st...   \n",
       "1  nice break shame accommodation booked night st...   \n",
       "\n",
       "                         noun_phrases  \n",
       "0                 shame accommodation  \n",
       "1  night stay december post-christmas  "
      ]
     },
     "execution_count": 186,
     "metadata": {},
     "output_type": "execute_result"
    }
   ],
   "source": [
    "# Bring in data from the aspect extraction - keywords notebook\n",
    "df = pd.read_csv(\"noun_phrase_exploded.csv\")\n",
    "df.drop(columns = [\"Unnamed: 0\"],axis = 1,inplace = True)\n",
    "df.drop(columns = [\"len\"],axis = 1,inplace = True)\n",
    "df.head(2)"
   ]
  },
  {
   "cell_type": "code",
   "execution_count": 187,
   "metadata": {
    "scrolled": true
   },
   "outputs": [
    {
     "data": {
      "text/plain": [
       "Index(['OrigInd', 'Category', 'Town', 'Rating', 'all_text', 'sentences',\n",
       "       'cleaned_sentences', 'noun_phrases'],\n",
       "      dtype='object')"
      ]
     },
     "execution_count": 187,
     "metadata": {},
     "output_type": "execute_result"
    }
   ],
   "source": [
    "df.columns"
   ]
  },
  {
   "cell_type": "code",
   "execution_count": 188,
   "metadata": {
    "scrolled": true
   },
   "outputs": [
    {
     "data": {
      "text/html": [
       "<div>\n",
       "<style scoped>\n",
       "    .dataframe tbody tr th:only-of-type {\n",
       "        vertical-align: middle;\n",
       "    }\n",
       "\n",
       "    .dataframe tbody tr th {\n",
       "        vertical-align: top;\n",
       "    }\n",
       "\n",
       "    .dataframe thead th {\n",
       "        text-align: right;\n",
       "    }\n",
       "</style>\n",
       "<table border=\"1\" class=\"dataframe\">\n",
       "  <thead>\n",
       "    <tr style=\"text-align: right;\">\n",
       "      <th></th>\n",
       "      <th>OrigInd</th>\n",
       "      <th>cleaned_sentences</th>\n",
       "      <th>noun_phrases</th>\n",
       "    </tr>\n",
       "  </thead>\n",
       "  <tbody>\n",
       "    <tr>\n",
       "      <th>0</th>\n",
       "      <td>0</td>\n",
       "      <td>nice break shame accommodation booked night st...</td>\n",
       "      <td>shame accommodation</td>\n",
       "    </tr>\n",
       "    <tr>\n",
       "      <th>1</th>\n",
       "      <td>0</td>\n",
       "      <td>nice break shame accommodation booked night st...</td>\n",
       "      <td>night stay december post-christmas</td>\n",
       "    </tr>\n",
       "    <tr>\n",
       "      <th>2</th>\n",
       "      <td>0</td>\n",
       "      <td>nice break shame accommodation booked night st...</td>\n",
       "      <td>family adult kid</td>\n",
       "    </tr>\n",
       "    <tr>\n",
       "      <th>3</th>\n",
       "      <td>0</td>\n",
       "      <td>would never not really sure expect review eith...</td>\n",
       "      <td>good terrible</td>\n",
       "    </tr>\n",
       "    <tr>\n",
       "      <th>4</th>\n",
       "      <td>0</td>\n",
       "      <td>would never not really sure expect review eith...</td>\n",
       "      <td>usual choice</td>\n",
       "    </tr>\n",
       "    <tr>\n",
       "      <th>5</th>\n",
       "      <td>0</td>\n",
       "      <td>first impression not good we arrived parked ca...</td>\n",
       "      <td>car park</td>\n",
       "    </tr>\n",
       "    <tr>\n",
       "      <th>6</th>\n",
       "      <td>0</td>\n",
       "      <td>first impression not good we arrived parked ca...</td>\n",
       "      <td>apartment furthest distance</td>\n",
       "    </tr>\n",
       "    <tr>\n",
       "      <th>7</th>\n",
       "      <td>0</td>\n",
       "      <td>bearing mind people apartment obviously self-c...</td>\n",
       "      <td>mind people apartment</td>\n",
       "    </tr>\n",
       "    <tr>\n",
       "      <th>8</th>\n",
       "      <td>0</td>\n",
       "      <td>bearing mind people apartment obviously self-c...</td>\n",
       "      <td>ton stuff haul room</td>\n",
       "    </tr>\n",
       "    <tr>\n",
       "      <th>9</th>\n",
       "      <td>0</td>\n",
       "      <td>bearing mind people apartment obviously self-c...</td>\n",
       "      <td>available nearer part resort</td>\n",
       "    </tr>\n",
       "  </tbody>\n",
       "</table>\n",
       "</div>"
      ],
      "text/plain": [
       "   OrigInd                                  cleaned_sentences  \\\n",
       "0        0  nice break shame accommodation booked night st...   \n",
       "1        0  nice break shame accommodation booked night st...   \n",
       "2        0  nice break shame accommodation booked night st...   \n",
       "3        0  would never not really sure expect review eith...   \n",
       "4        0  would never not really sure expect review eith...   \n",
       "5        0  first impression not good we arrived parked ca...   \n",
       "6        0  first impression not good we arrived parked ca...   \n",
       "7        0  bearing mind people apartment obviously self-c...   \n",
       "8        0  bearing mind people apartment obviously self-c...   \n",
       "9        0  bearing mind people apartment obviously self-c...   \n",
       "\n",
       "                         noun_phrases  \n",
       "0                 shame accommodation  \n",
       "1  night stay december post-christmas  \n",
       "2                    family adult kid  \n",
       "3                       good terrible  \n",
       "4                        usual choice  \n",
       "5                            car park  \n",
       "6         apartment furthest distance  \n",
       "7               mind people apartment  \n",
       "8                 ton stuff haul room  \n",
       "9        available nearer part resort  "
      ]
     },
     "execution_count": 188,
     "metadata": {},
     "output_type": "execute_result"
    }
   ],
   "source": [
    "df[[\"OrigInd\",\"cleaned_sentences\",\"noun_phrases\"]].head(10)"
   ]
  },
  {
   "cell_type": "markdown",
   "metadata": {},
   "source": [
    "# Section 2: Data Cleaning and Pre-processing"
   ]
  },
  {
   "cell_type": "code",
   "execution_count": 189,
   "metadata": {
    "scrolled": true
   },
   "outputs": [],
   "source": [
    "# Get parts of speech, noun phrases and nouns\n",
    "df['pos'] = df[\"noun_phrases\"].apply(lambda x:nltk.tag.pos_tag(x.split()))\n",
    "df['nouns'] = df['pos'].apply(lambda x: [i[0] for i in x if i[1].startswith('N')])"
   ]
  },
  {
   "cell_type": "code",
   "execution_count": 190,
   "metadata": {
    "scrolled": true
   },
   "outputs": [
    {
     "data": {
      "text/plain": [
       "[('hot', 'JJ'), ('delicious', 'JJ')]"
      ]
     },
     "execution_count": 190,
     "metadata": {},
     "output_type": "execute_result"
    }
   ],
   "source": [
    "tokens = nltk.word_tokenize(\"hot delicious\")\n",
    "nltk.pos_tag(tokens)"
   ]
  },
  {
   "cell_type": "code",
   "execution_count": 191,
   "metadata": {
    "scrolled": true
   },
   "outputs": [
    {
     "data": {
      "text/html": [
       "<div>\n",
       "<style scoped>\n",
       "    .dataframe tbody tr th:only-of-type {\n",
       "        vertical-align: middle;\n",
       "    }\n",
       "\n",
       "    .dataframe tbody tr th {\n",
       "        vertical-align: top;\n",
       "    }\n",
       "\n",
       "    .dataframe thead th {\n",
       "        text-align: right;\n",
       "    }\n",
       "</style>\n",
       "<table border=\"1\" class=\"dataframe\">\n",
       "  <thead>\n",
       "    <tr style=\"text-align: right;\">\n",
       "      <th></th>\n",
       "      <th>cleaned_sentences</th>\n",
       "      <th>noun_phrases</th>\n",
       "      <th>nouns</th>\n",
       "    </tr>\n",
       "  </thead>\n",
       "  <tbody>\n",
       "    <tr>\n",
       "      <th>0</th>\n",
       "      <td>nice break shame accommodation booked night st...</td>\n",
       "      <td>shame accommodation</td>\n",
       "      <td>[shame, accommodation]</td>\n",
       "    </tr>\n",
       "    <tr>\n",
       "      <th>1</th>\n",
       "      <td>nice break shame accommodation booked night st...</td>\n",
       "      <td>night stay december post-christmas</td>\n",
       "      <td>[night, post-christmas]</td>\n",
       "    </tr>\n",
       "    <tr>\n",
       "      <th>2</th>\n",
       "      <td>nice break shame accommodation booked night st...</td>\n",
       "      <td>family adult kid</td>\n",
       "      <td>[family, adult, kid]</td>\n",
       "    </tr>\n",
       "    <tr>\n",
       "      <th>3</th>\n",
       "      <td>would never not really sure expect review eith...</td>\n",
       "      <td>good terrible</td>\n",
       "      <td>[terrible]</td>\n",
       "    </tr>\n",
       "    <tr>\n",
       "      <th>4</th>\n",
       "      <td>would never not really sure expect review eith...</td>\n",
       "      <td>usual choice</td>\n",
       "      <td>[choice]</td>\n",
       "    </tr>\n",
       "  </tbody>\n",
       "</table>\n",
       "</div>"
      ],
      "text/plain": [
       "                                   cleaned_sentences  \\\n",
       "0  nice break shame accommodation booked night st...   \n",
       "1  nice break shame accommodation booked night st...   \n",
       "2  nice break shame accommodation booked night st...   \n",
       "3  would never not really sure expect review eith...   \n",
       "4  would never not really sure expect review eith...   \n",
       "\n",
       "                         noun_phrases                    nouns  \n",
       "0                 shame accommodation   [shame, accommodation]  \n",
       "1  night stay december post-christmas  [night, post-christmas]  \n",
       "2                    family adult kid     [family, adult, kid]  \n",
       "3                       good terrible               [terrible]  \n",
       "4                        usual choice                 [choice]  "
      ]
     },
     "execution_count": 191,
     "metadata": {},
     "output_type": "execute_result"
    }
   ],
   "source": [
    "# Look at examples - nouns are effectively fine-grained aspects\n",
    "df[[\"cleaned_sentences\",\"noun_phrases\",\"nouns\"]].head()"
   ]
  },
  {
   "cell_type": "code",
   "execution_count": 192,
   "metadata": {
    "scrolled": true
   },
   "outputs": [
    {
     "data": {
      "text/plain": [
       "(1225, 10)"
      ]
     },
     "execution_count": 192,
     "metadata": {},
     "output_type": "execute_result"
    }
   ],
   "source": [
    "# Check to find how many rows have empty lists\n",
    "result = df[df.astype(str)['nouns'] == '[]']\n",
    "result.shape"
   ]
  },
  {
   "cell_type": "code",
   "execution_count": 193,
   "metadata": {
    "scrolled": true
   },
   "outputs": [
    {
     "data": {
      "text/html": [
       "<div>\n",
       "<style scoped>\n",
       "    .dataframe tbody tr th:only-of-type {\n",
       "        vertical-align: middle;\n",
       "    }\n",
       "\n",
       "    .dataframe tbody tr th {\n",
       "        vertical-align: top;\n",
       "    }\n",
       "\n",
       "    .dataframe thead th {\n",
       "        text-align: right;\n",
       "    }\n",
       "</style>\n",
       "<table border=\"1\" class=\"dataframe\">\n",
       "  <thead>\n",
       "    <tr style=\"text-align: right;\">\n",
       "      <th></th>\n",
       "      <th>all_text</th>\n",
       "      <th>cleaned_sentences</th>\n",
       "      <th>noun_phrases</th>\n",
       "      <th>pos</th>\n",
       "      <th>nouns</th>\n",
       "    </tr>\n",
       "  </thead>\n",
       "  <tbody>\n",
       "    <tr>\n",
       "      <th>32308</th>\n",
       "      <td>Lovely Dinner!!! and great service from Donna!...</td>\n",
       "      <td>great dinner lovely atmosphere</td>\n",
       "      <td>lovely atmosphere</td>\n",
       "      <td>[(lovely, RB), (atmosphere, JJ)]</td>\n",
       "      <td>[]</td>\n",
       "    </tr>\n",
       "    <tr>\n",
       "      <th>29342</th>\n",
       "      <td>Gave Vintage Inns a second chance, we weren’t ...</td>\n",
       "      <td>starter delicious scallop chorizo novel dough ...</td>\n",
       "      <td>lovely plentiful</td>\n",
       "      <td>[(lovely, RB), (plentiful, JJ)]</td>\n",
       "      <td>[]</td>\n",
       "    </tr>\n",
       "    <tr>\n",
       "      <th>79140</th>\n",
       "      <td>Friendly and helpful Four of us older folk dec...</td>\n",
       "      <td>friendly helpful four u older folk decided try...</td>\n",
       "      <td>friendly helpful</td>\n",
       "      <td>[(friendly, RB), (helpful, JJ)]</td>\n",
       "      <td>[]</td>\n",
       "    </tr>\n",
       "    <tr>\n",
       "      <th>20419</th>\n",
       "      <td>Ok We had a good bison burger. But the cod and...</td>\n",
       "      <td>pleasant service nice atmosphere</td>\n",
       "      <td>nice atmosphere</td>\n",
       "      <td>[(nice, RB), (atmosphere, RB)]</td>\n",
       "      <td>[]</td>\n",
       "    </tr>\n",
       "    <tr>\n",
       "      <th>29944</th>\n",
       "      <td>Awesome Cafe Both the service and food was sub...</td>\n",
       "      <td>dish fresh hot delicious</td>\n",
       "      <td>fresh hot delicious</td>\n",
       "      <td>[(fresh, JJ), (hot, JJ), (delicious, JJ)]</td>\n",
       "      <td>[]</td>\n",
       "    </tr>\n",
       "    <tr>\n",
       "      <th>68753</th>\n",
       "      <td>Great little takeaway place My husband and I w...</td>\n",
       "      <td>great little takeaway place husband visiting c...</td>\n",
       "      <td>lovely little cafe</td>\n",
       "      <td>[(lovely, RB), (little, JJ), (cafe, JJ)]</td>\n",
       "      <td>[]</td>\n",
       "    </tr>\n",
       "    <tr>\n",
       "      <th>47570</th>\n",
       "      <td>Wonderful service and very good menu If you lo...</td>\n",
       "      <td>flavour good thoroughly enjoyed squid starter ...</td>\n",
       "      <td>flavour good</td>\n",
       "      <td>[(flavour, RB), (good, JJ)]</td>\n",
       "      <td>[]</td>\n",
       "    </tr>\n",
       "    <tr>\n",
       "      <th>68240</th>\n",
       "      <td>Cute bar but poor food We came in to have a fi...</td>\n",
       "      <td>fish finger sandwich cost pretty disappointing...</td>\n",
       "      <td>pretty disappointing garnish</td>\n",
       "      <td>[(pretty, RB), (disappointing, JJ), (garnish, ...</td>\n",
       "      <td>[]</td>\n",
       "    </tr>\n",
       "    <tr>\n",
       "      <th>78015</th>\n",
       "      <td>Lovely beach The beach is fine but people shou...</td>\n",
       "      <td>lovely beach beach fine people aware pebble no...</td>\n",
       "      <td>aware pebble</td>\n",
       "      <td>[(aware, JJ), (pebble, JJ)]</td>\n",
       "      <td>[]</td>\n",
       "    </tr>\n",
       "    <tr>\n",
       "      <th>68423</th>\n",
       "      <td>Under New Management  Been going here for few ...</td>\n",
       "      <td>not returning bottom find new chippy</td>\n",
       "      <td>new chippy</td>\n",
       "      <td>[(new, JJ), (chippy, JJ)]</td>\n",
       "      <td>[]</td>\n",
       "    </tr>\n",
       "  </tbody>\n",
       "</table>\n",
       "</div>"
      ],
      "text/plain": [
       "                                                all_text  \\\n",
       "32308  Lovely Dinner!!! and great service from Donna!...   \n",
       "29342  Gave Vintage Inns a second chance, we weren’t ...   \n",
       "79140  Friendly and helpful Four of us older folk dec...   \n",
       "20419  Ok We had a good bison burger. But the cod and...   \n",
       "29944  Awesome Cafe Both the service and food was sub...   \n",
       "68753  Great little takeaway place My husband and I w...   \n",
       "47570  Wonderful service and very good menu If you lo...   \n",
       "68240  Cute bar but poor food We came in to have a fi...   \n",
       "78015  Lovely beach The beach is fine but people shou...   \n",
       "68423  Under New Management  Been going here for few ...   \n",
       "\n",
       "                                       cleaned_sentences  \\\n",
       "32308                     great dinner lovely atmosphere   \n",
       "29342  starter delicious scallop chorizo novel dough ...   \n",
       "79140  friendly helpful four u older folk decided try...   \n",
       "20419                   pleasant service nice atmosphere   \n",
       "29944                           dish fresh hot delicious   \n",
       "68753  great little takeaway place husband visiting c...   \n",
       "47570  flavour good thoroughly enjoyed squid starter ...   \n",
       "68240  fish finger sandwich cost pretty disappointing...   \n",
       "78015  lovely beach beach fine people aware pebble no...   \n",
       "68423               not returning bottom find new chippy   \n",
       "\n",
       "                       noun_phrases  \\\n",
       "32308             lovely atmosphere   \n",
       "29342              lovely plentiful   \n",
       "79140              friendly helpful   \n",
       "20419               nice atmosphere   \n",
       "29944           fresh hot delicious   \n",
       "68753            lovely little cafe   \n",
       "47570                  flavour good   \n",
       "68240  pretty disappointing garnish   \n",
       "78015                  aware pebble   \n",
       "68423                    new chippy   \n",
       "\n",
       "                                                     pos nouns  \n",
       "32308                   [(lovely, RB), (atmosphere, JJ)]    []  \n",
       "29342                    [(lovely, RB), (plentiful, JJ)]    []  \n",
       "79140                    [(friendly, RB), (helpful, JJ)]    []  \n",
       "20419                     [(nice, RB), (atmosphere, RB)]    []  \n",
       "29944          [(fresh, JJ), (hot, JJ), (delicious, JJ)]    []  \n",
       "68753           [(lovely, RB), (little, JJ), (cafe, JJ)]    []  \n",
       "47570                        [(flavour, RB), (good, JJ)]    []  \n",
       "68240  [(pretty, RB), (disappointing, JJ), (garnish, ...    []  \n",
       "78015                        [(aware, JJ), (pebble, JJ)]    []  \n",
       "68423                          [(new, JJ), (chippy, JJ)]    []  "
      ]
     },
     "execution_count": 193,
     "metadata": {},
     "output_type": "execute_result"
    }
   ],
   "source": [
    "# Have a look at what words are causing the problems - basically implicit aspects\n",
    "result[[\"all_text\",\"cleaned_sentences\",\"noun_phrases\",\"pos\",\"nouns\"]].sample(10)"
   ]
  },
  {
   "cell_type": "code",
   "execution_count": 194,
   "metadata": {
    "scrolled": true
   },
   "outputs": [],
   "source": [
    "# Analyse\n",
    "result[\"test\"] = result[\"noun_phrases\"].apply(lambda x: x.split())\n",
    "result[\"combined\"] = result[\"test\"].apply(lambda x: ngrams(x,2))\n",
    "result[\"word_count\"] = result[\"combined\"].apply(Counter)\n",
    "result_df = pd.DataFrame(result[\"word_count\"].sum().most_common(),columns = [\"Word\",\"Count\"])"
   ]
  },
  {
   "cell_type": "code",
   "execution_count": 195,
   "metadata": {
    "scrolled": true
   },
   "outputs": [
    {
     "data": {
      "text/html": [
       "<div>\n",
       "<style scoped>\n",
       "    .dataframe tbody tr th:only-of-type {\n",
       "        vertical-align: middle;\n",
       "    }\n",
       "\n",
       "    .dataframe tbody tr th {\n",
       "        vertical-align: top;\n",
       "    }\n",
       "\n",
       "    .dataframe thead th {\n",
       "        text-align: right;\n",
       "    }\n",
       "</style>\n",
       "<table border=\"1\" class=\"dataframe\">\n",
       "  <thead>\n",
       "    <tr style=\"text-align: right;\">\n",
       "      <th></th>\n",
       "      <th>Word</th>\n",
       "      <th>Count</th>\n",
       "    </tr>\n",
       "  </thead>\n",
       "  <tbody>\n",
       "    <tr>\n",
       "      <th>0</th>\n",
       "      <td>(friendly, helpful)</td>\n",
       "      <td>262</td>\n",
       "    </tr>\n",
       "    <tr>\n",
       "      <th>1</th>\n",
       "      <td>(lovely, atmosphere)</td>\n",
       "      <td>61</td>\n",
       "    </tr>\n",
       "    <tr>\n",
       "      <th>2</th>\n",
       "      <td>(friendly, attentive)</td>\n",
       "      <td>54</td>\n",
       "    </tr>\n",
       "    <tr>\n",
       "      <th>3</th>\n",
       "      <td>(nice, atmosphere)</td>\n",
       "      <td>45</td>\n",
       "    </tr>\n",
       "    <tr>\n",
       "      <th>4</th>\n",
       "      <td>(lovely, evening)</td>\n",
       "      <td>42</td>\n",
       "    </tr>\n",
       "    <tr>\n",
       "      <th>5</th>\n",
       "      <td>(friendly, polite)</td>\n",
       "      <td>25</td>\n",
       "    </tr>\n",
       "    <tr>\n",
       "      <th>6</th>\n",
       "      <td>(friendly, atmosphere)</td>\n",
       "      <td>24</td>\n",
       "    </tr>\n",
       "    <tr>\n",
       "      <th>7</th>\n",
       "      <td>(lovely, touch)</td>\n",
       "      <td>20</td>\n",
       "    </tr>\n",
       "    <tr>\n",
       "      <th>8</th>\n",
       "      <td>(lovely, setting)</td>\n",
       "      <td>17</td>\n",
       "    </tr>\n",
       "    <tr>\n",
       "      <th>9</th>\n",
       "      <td>(lovely, cafe)</td>\n",
       "      <td>14</td>\n",
       "    </tr>\n",
       "  </tbody>\n",
       "</table>\n",
       "</div>"
      ],
      "text/plain": [
       "                     Word  Count\n",
       "0     (friendly, helpful)    262\n",
       "1    (lovely, atmosphere)     61\n",
       "2   (friendly, attentive)     54\n",
       "3      (nice, atmosphere)     45\n",
       "4       (lovely, evening)     42\n",
       "5      (friendly, polite)     25\n",
       "6  (friendly, atmosphere)     24\n",
       "7         (lovely, touch)     20\n",
       "8       (lovely, setting)     17\n",
       "9          (lovely, cafe)     14"
      ]
     },
     "execution_count": 195,
     "metadata": {},
     "output_type": "execute_result"
    }
   ],
   "source": [
    "result_df.sort_values(by = \"Count\",ascending = False).head(10)"
   ]
  },
  {
   "cell_type": "markdown",
   "metadata": {},
   "source": [
    "The most common words appear to be combinations of two adjectives 'friendly helpful', or instances where a word is not correctly recognised as a noun 'lovely evening' or 'lovely setting'. The term 'friendly helpful' is clearly talking about staff but this word is not present in the noun-phrase, possibly because it is caught up within the previous noun-phrase for this sentence in the overall review. These are in effect implicit aspects.\n",
    "\n",
    "The cases where the second word is not recognised as a noun could be corrected fairly easily. However, the phrases comprised of two adjectives or a verb and adjective or verb and verb are more tricky.\n",
    "\n",
    "Decision made to drop these items from the data"
   ]
  },
  {
   "cell_type": "code",
   "execution_count": 196,
   "metadata": {
    "scrolled": true
   },
   "outputs": [
    {
     "data": {
      "text/plain": [
       "(79073, 9)"
      ]
     },
     "execution_count": 196,
     "metadata": {},
     "output_type": "execute_result"
    }
   ],
   "source": [
    "# Drop empty lists\n",
    "df2 = df[df.astype(str)['nouns'] != '[]']\n",
    "df2.drop(columns = [\"pos\"],axis = 1,inplace = True)\n",
    "df2.shape"
   ]
  },
  {
   "cell_type": "code",
   "execution_count": 197,
   "metadata": {
    "scrolled": true
   },
   "outputs": [
    {
     "name": "stdout",
     "output_type": "stream",
     "text": [
      "(26664, 9) (44047, 9) (8362, 9)\n"
     ]
    }
   ],
   "source": [
    "# Split into categories\n",
    "dfaccom = df2[df2[\"Category\"]==\"Accommodation\"]\n",
    "dffood = df2[df2[\"Category\"]==\"Food\"]\n",
    "dfattract = df2[df2[\"Category\"] ==\"Attractions\"]\n",
    "print(dfaccom.shape,dffood.shape,dfattract.shape)"
   ]
  },
  {
   "cell_type": "code",
   "execution_count": 222,
   "metadata": {
    "scrolled": true
   },
   "outputs": [],
   "source": [
    "# Extract a 10% sample to test the topic models\n",
    "def samp(df):\n",
    "    s = np.random.rand(len(df)) < 0.9\n",
    "    df_train = df[s]\n",
    "    df_test = df[~s]\n",
    "    return df_train,df_test"
   ]
  },
  {
   "cell_type": "code",
   "execution_count": 223,
   "metadata": {
    "scrolled": true
   },
   "outputs": [],
   "source": [
    "# Run function\n",
    "train_test_accom = samp(dfaccom)\n",
    "train_test_food = samp(dffood)\n",
    "train_test_attract = samp(dfattract)"
   ]
  },
  {
   "cell_type": "code",
   "execution_count": 224,
   "metadata": {
    "scrolled": true
   },
   "outputs": [],
   "source": [
    "# Extract training and test sets\n",
    "df_accom = train_test_accom[0]\n",
    "df_food = train_test_food[0]\n",
    "df_attract = train_test_attract[0]\n",
    "\n",
    "df_accom_test = train_test_accom[1]\n",
    "df_food_test = train_test_food[1]\n",
    "df_attract_test = train_test_attract[1]"
   ]
  },
  {
   "cell_type": "code",
   "execution_count": 225,
   "metadata": {
    "scrolled": true
   },
   "outputs": [],
   "source": [
    "# Extract nouns from training and test sets\n",
    "accom_nouns = df_accom[\"nouns\"]\n",
    "food_nouns = df_food[\"nouns\"]\n",
    "attract_nouns = df_attract[\"nouns\"]\n",
    "\n",
    "accom_nouns_test = df_accom_test[\"nouns\"]\n",
    "food_nouns_test = df_food_test[\"nouns\"]\n",
    "attract_nouns_test = df_attract_test[\"nouns\"]"
   ]
  },
  {
   "cell_type": "code",
   "execution_count": 226,
   "metadata": {},
   "outputs": [
    {
     "name": "stdout",
     "output_type": "stream",
     "text": [
      "(23979,) (39687,) (7506,)\n",
      "(2685,) (4360,) (7506,)\n"
     ]
    }
   ],
   "source": [
    "print(accom_nouns.shape,food_nouns.shape,attract_nouns.shape)\n",
    "print(accom_nouns_test.shape,food_nouns_test.shape,attract_nouns.shape)"
   ]
  },
  {
   "cell_type": "code",
   "execution_count": 227,
   "metadata": {
    "scrolled": true
   },
   "outputs": [
    {
     "data": {
      "text/plain": [
       "71828            [garden, winter]\n",
       "71830             [garden, visit]\n",
       "71831                    [autumn]\n",
       "71832            [plenty, flower]\n",
       "71833    [ground, wonder, behold]\n",
       "71834                    [garden]\n",
       "71835                [experience]\n",
       "71836              [latte, taste]\n",
       "71837                     [water]\n",
       "71838                     [stale]\n",
       "Name: nouns, dtype: object"
      ]
     },
     "execution_count": 227,
     "metadata": {},
     "output_type": "execute_result"
    }
   ],
   "source": [
    "attract_nouns.head(10)"
   ]
  },
  {
   "cell_type": "code",
   "execution_count": 228,
   "metadata": {
    "scrolled": true
   },
   "outputs": [],
   "source": [
    "# Implode dataframe back to sentence level from noun phrase level\n",
    "#df_comb = df.groupby([\"OrigInd\",\"Category\",\"Town\",\"Rating\",\"all_text\",\"sentences\",\"cleaned_sentences\"]).agg({'noun_phrases':lambda x: \" \".join(x)}).rename({'noun_phrases':'sentence'},axis = 1).reset_index()\n",
    "#df_comb.drop(columns = [\"sentence\"],axis = 1,inplace = True)"
   ]
  },
  {
   "cell_type": "markdown",
   "metadata": {},
   "source": [
    "# Section 3: Create BOW and Dictionaries for Gensim Topic Model"
   ]
  },
  {
   "cell_type": "markdown",
   "metadata": {},
   "source": [
    "Note: Gensim is used as it is easier to compare models using coherence and much quicker to run on larger datasets with limited compute resources"
   ]
  },
  {
   "cell_type": "code",
   "execution_count": 229,
   "metadata": {
    "scrolled": true
   },
   "outputs": [],
   "source": [
    "# Functions to extract bigrams\n",
    "def make_bigrams(texts):\n",
    "    bigram = gensim.models.Phrases(texts,min_count = 1,threshold = 1)\n",
    "    bigram_mod = gensim.models.phrases.Phraser(bigram)\n",
    "    return [bigram_mod[doc] for doc in texts]"
   ]
  },
  {
   "cell_type": "code",
   "execution_count": 230,
   "metadata": {
    "scrolled": true
   },
   "outputs": [],
   "source": [
    "# Run function for training set\n",
    "accom_nouns_bigrams = make_bigrams(accom_nouns)\n",
    "food_nouns_bigrams = make_bigrams(food_nouns)\n",
    "attract_nouns_bigrams = make_bigrams(attract_nouns)\n",
    "\n",
    "# Run function for test set\n",
    "accom_test_bigrams = make_bigrams(accom_nouns_test)\n",
    "food_test_bigrams = make_bigrams(food_nouns_test)\n",
    "attract_test_bigrams = make_bigrams(attract_nouns_test)"
   ]
  },
  {
   "cell_type": "code",
   "execution_count": 231,
   "metadata": {
    "scrolled": true
   },
   "outputs": [
    {
     "name": "stdout",
     "output_type": "stream",
     "text": [
      "[['food', 'service'], ['setting'], ['dinner', 'eaten'], ['fruit', 'watery', 'base'], ['porridge', 'oat'], ['couple_table'], ['group'], ['plate', 'rest'], ['job'], ['member_group']]\n"
     ]
    }
   ],
   "source": [
    "# Print first ten items of bigrams\n",
    "print(food_nouns_bigrams[20:30])"
   ]
  },
  {
   "cell_type": "code",
   "execution_count": 232,
   "metadata": {
    "scrolled": true
   },
   "outputs": [],
   "source": [
    "# Function to create dictionary and bow corpus for each category, filtering words that occur in more than 98% \n",
    "# documents and less than 2 documents, keep n = None to keep all the tokens in the dictionary as the dataset is pruned to just nouns anyway.\n",
    "\n",
    "def run_topic(df):\n",
    "    dictionary = gensim.corpora.Dictionary(df)\n",
    "    dictionary.filter_extremes(no_below = 0.98, no_above = 2, keep_n = None)\n",
    "    bow_corpus = [dictionary.doc2bow(doc) for doc in df]\n",
    "    return dictionary,bow_corpus\n"
   ]
  },
  {
   "cell_type": "code",
   "execution_count": 233,
   "metadata": {
    "scrolled": true
   },
   "outputs": [],
   "source": [
    "# Create dictionaries and corpi for unigrams\n",
    "accom_dict, accom_bow = run_topic(accom_nouns)\n",
    "food_dict, food_bow = run_topic(food_nouns)\n",
    "attract_dict, attract_bow = run_topic(attract_nouns)"
   ]
  },
  {
   "cell_type": "code",
   "execution_count": 234,
   "metadata": {
    "scrolled": true
   },
   "outputs": [
    {
     "name": "stdout",
     "output_type": "stream",
     "text": [
      "4613 5620 2704\n"
     ]
    }
   ],
   "source": [
    "print(len(accom_dict),len(food_dict),len(attract_dict))"
   ]
  },
  {
   "cell_type": "code",
   "execution_count": 235,
   "metadata": {
    "scrolled": true
   },
   "outputs": [],
   "source": [
    "# Create dictionaries and corpi for bigrams\n",
    "accom_dict_big, accom_bow_big = run_topic(accom_nouns_bigrams)\n",
    "food_dict_big, food_bow_big = run_topic(food_nouns_bigrams)\n",
    "attract_dict_big, attract_bow_big = run_topic(attract_nouns_bigrams)"
   ]
  },
  {
   "cell_type": "code",
   "execution_count": 236,
   "metadata": {
    "scrolled": true
   },
   "outputs": [
    {
     "name": "stdout",
     "output_type": "stream",
     "text": [
      "[[('location', 1)], [('decor', 1)], [('frites', 1), ('pie', 1), ('steak', 1)], [('aubergine', 1), ('curry', 1)], [('curry', 1), ('problem', 1)], [('food', 1), ('quality', 1), ('review', 1)], [('bit', 1), ('competent', 1), ('mash', 1), ('menu', 1)], [('food', 1), ('quality', 1)], [('lack', 1), ('specialisation', 1)], [('attentive', 1), ('staff', 1)]]\n"
     ]
    }
   ],
   "source": [
    "# Look at an example item with word and frequencies\n",
    "print([[(food_dict[id], freq) for id, freq in cp] for cp in food_bow[:10]])"
   ]
  },
  {
   "cell_type": "markdown",
   "metadata": {},
   "source": [
    "# Section 4: Comparing Gensim Bigram Models with 10 topics"
   ]
  },
  {
   "cell_type": "markdown",
   "metadata": {},
   "source": [
    "### Latent Semantic Indexing"
   ]
  },
  {
   "cell_type": "code",
   "execution_count": 237,
   "metadata": {
    "scrolled": true
   },
   "outputs": [],
   "source": [
    "# Set random number of topics as a starting point to compare the gensim models\n",
    "num_topics = 10"
   ]
  },
  {
   "cell_type": "code",
   "execution_count": 238,
   "metadata": {
    "scrolled": true
   },
   "outputs": [],
   "source": [
    "# Function to run LSI Model\n",
    "def lsi(corpus, num_topics,dictionary):\n",
    "    lsi_model = LsiModel(corpus = corpus,num_topics = num_topics, id2word = dictionary, chunksize = 500)\n",
    "    return lsi_model"
   ]
  },
  {
   "cell_type": "code",
   "execution_count": 239,
   "metadata": {
    "scrolled": true
   },
   "outputs": [],
   "source": [
    "# run function for each category\n",
    "lsi_accom = lsi(accom_bow_big, num_topics, accom_dict_big)\n",
    "lsi_food = lsi(food_bow_big, num_topics, food_dict_big)\n",
    "lsi_attract = lsi(attract_bow_big, num_topics, attract_dict_big)"
   ]
  },
  {
   "cell_type": "code",
   "execution_count": 240,
   "metadata": {
    "scrolled": true
   },
   "outputs": [],
   "source": [
    "# Show topics as a list - uncomment to show\n",
    "lsi_accom_topics = lsi_accom.show_topics(formatted = False)\n",
    "lsi_food_topics = lsi_food.show_topics(formatted = False)\n",
    "lsi_attract_topics = lsi_attract.show_topics(formatted = False)"
   ]
  },
  {
   "cell_type": "markdown",
   "metadata": {},
   "source": [
    "### Latent Dirchlet Allocation"
   ]
  },
  {
   "cell_type": "code",
   "execution_count": 241,
   "metadata": {
    "scrolled": true
   },
   "outputs": [],
   "source": [
    "# Define model\n",
    "def lda(corpus, dictionary, num_topics):\n",
    "    lda_model = LdaModel(corpus = corpus, num_topics=num_topics, id2word=dictionary,random_state = 42)\n",
    "    return lda_model"
   ]
  },
  {
   "cell_type": "code",
   "execution_count": 242,
   "metadata": {
    "scrolled": true
   },
   "outputs": [],
   "source": [
    "# Run models for each category\n",
    "lda_accom = lda(accom_bow_big, accom_dict_big,num_topics)\n",
    "lda_food = lda(food_bow_big, food_dict_big,num_topics)\n",
    "lda_attract = lda(attract_bow_big, attract_dict_big,num_topics)"
   ]
  },
  {
   "cell_type": "code",
   "execution_count": 243,
   "metadata": {
    "scrolled": true
   },
   "outputs": [],
   "source": [
    "# Show topics - uncomment to run\n",
    "lda_accom_topics = lda_accom.show_topics(formatted = False)\n",
    "lda_food_topics = lda_food.show_topics(formatted = False)\n",
    "lda_attract_topics = lda_attract.show_topics(formatted = False)"
   ]
  },
  {
   "cell_type": "markdown",
   "metadata": {},
   "source": [
    "### Non-negative Matrix Factorisation"
   ]
  },
  {
   "cell_type": "code",
   "execution_count": 244,
   "metadata": {
    "scrolled": true
   },
   "outputs": [],
   "source": [
    "# Function to run NMF Model\n",
    "def nmf(corpus, dictionary,num_topics):\n",
    "    nmf_model = GensimNmf(corpus = corpus, id2word = dictionary,num_topics = num_topics)\n",
    "    return nmf_model"
   ]
  },
  {
   "cell_type": "code",
   "execution_count": 245,
   "metadata": {
    "scrolled": true
   },
   "outputs": [],
   "source": [
    "# run function for each category\n",
    "nmf_accom = nmf(accom_bow_big, accom_dict_big,num_topics)\n",
    "nmf_food = nmf(food_bow_big, food_dict_big,num_topics)\n",
    "nmf_attract = nmf(attract_bow_big, attract_dict_big,num_topics)"
   ]
  },
  {
   "cell_type": "code",
   "execution_count": 246,
   "metadata": {
    "scrolled": true
   },
   "outputs": [],
   "source": [
    "# Show topics - uncomment to run\n",
    "nmf_accom_topics = nmf_accom.show_topics(formatted = False)\n",
    "nmf_food_topics = nmf_food.show_topics(formatted = False)\n",
    "nmf_attract_topics = nmf_attract.show_topics(formatted = False)"
   ]
  },
  {
   "cell_type": "markdown",
   "metadata": {},
   "source": [
    "### Comparison of models with random 5 topics for all models and categories"
   ]
  },
  {
   "cell_type": "code",
   "execution_count": 247,
   "metadata": {
    "scrolled": true
   },
   "outputs": [],
   "source": [
    "# Function to get coherence for each model on the top ten topic words using a standard 5 topics\n",
    "def evaluate(model,model_topics,text,dictionary):\n",
    "    model_topics = model.show_topics(formatted = False)\n",
    "    model_topics = [[word for word, prob in topic] for topicid,topic in model_topics]\n",
    "    model_coherence = CoherenceModel(topics = model_topics[:10],texts = text, dictionary = dictionary,window_size = 10).get_coherence()\n",
    "    return model_coherence"
   ]
  },
  {
   "cell_type": "code",
   "execution_count": 248,
   "metadata": {
    "scrolled": true
   },
   "outputs": [],
   "source": [
    "# Run function for LSI\n",
    "lsi_accom_eval = evaluate(lsi_accom,lsi_accom_topics,accom_nouns_bigrams,accom_dict_big)\n",
    "lsi_food_eval = evaluate(lsi_food,lsi_food_topics,food_nouns_bigrams,food_dict_big)\n",
    "lsi_attract_eval = evaluate(lsi_attract,lsi_attract_topics,attract_nouns_bigrams, attract_dict_big)"
   ]
  },
  {
   "cell_type": "code",
   "execution_count": 249,
   "metadata": {
    "scrolled": true
   },
   "outputs": [],
   "source": [
    "# Run function for LDA\n",
    "lda_accom_eval = evaluate(lda_accom,lda_accom_topics,accom_nouns_bigrams,accom_dict_big)\n",
    "lda_food_eval = evaluate(lda_food,lda_food_topics,food_nouns_bigrams,food_dict_big)\n",
    "lda_attract_eval = evaluate(lda_attract,lda_attract_topics,attract_nouns_bigrams,attract_dict_big)"
   ]
  },
  {
   "cell_type": "code",
   "execution_count": 250,
   "metadata": {
    "scrolled": true
   },
   "outputs": [],
   "source": [
    "# Run function for NMF\n",
    "nmf_accom_eval = evaluate(nmf_accom,nmf_accom_topics,accom_nouns_bigrams,accom_dict_big)\n",
    "nmf_food_eval = evaluate(nmf_food, nmf_food_topics,food_nouns_bigrams,food_dict_big)\n",
    "nmf_attract_eval = evaluate(nmf_attract,nmf_attract_topics,attract_nouns_bigrams,attract_dict_big)"
   ]
  },
  {
   "cell_type": "code",
   "execution_count": 251,
   "metadata": {
    "scrolled": true
   },
   "outputs": [],
   "source": [
    "# Function to graph results\n",
    "def graph(coherences,indices,name):\n",
    "    assert len(coherences) == len(indices)\n",
    "    n = len(coherences)\n",
    "    x = np.arange(n)\n",
    "    fig, ax = plt.subplots()\n",
    "    ax.spines[\"right\"].set_visible(False)\n",
    "    ax.spines[\"top\"].set_visible(False)\n",
    "    ax.set_facecolor(\"White\")\n",
    "    ax.bar(x,coherences,width = 0.5,tick_label=indices,align = 'center',color = \"lightsteelblue\",ec = \"grey\")\n",
    "    ax.set_title(\"Topic Models Average Coherence Comparison: \" + name,fontsize = 10,pad = 15)\n",
    "    ax.set_xlabel('Models',labelpad = 10)\n",
    "    ax.set_ylabel('Coherence Value',labelpad = 10)"
   ]
  },
  {
   "cell_type": "code",
   "execution_count": 252,
   "metadata": {
    "scrolled": true
   },
   "outputs": [
    {
     "data": {
      "image/png": "[encoded data removed]",
      "text/plain": [
       "<Figure size 432x288 with 1 Axes>"
      ]
     },
     "metadata": {
      "needs_background": "light"
     },
     "output_type": "display_data"
    }
   ],
   "source": [
    "# Run function for accommodation\n",
    "graph([lsi_accom_eval,lda_accom_eval, nmf_accom_eval],['LSI','LDA','NMF'],\"Accommodation\")"
   ]
  },
  {
   "cell_type": "code",
   "execution_count": 253,
   "metadata": {
    "scrolled": true
   },
   "outputs": [
    {
     "data": {
      "image/png": "[encoded data removed]",
      "text/plain": [
       "<Figure size 432x288 with 1 Axes>"
      ]
     },
     "metadata": {
      "needs_background": "light"
     },
     "output_type": "display_data"
    }
   ],
   "source": [
    "# Run function for food\n",
    "graph([lsi_food_eval,lda_food_eval, nmf_food_eval],['LSI','LDA','NMF'],\"Food\")"
   ]
  },
  {
   "cell_type": "code",
   "execution_count": 254,
   "metadata": {
    "scrolled": true
   },
   "outputs": [
    {
     "data": {
      "image/png": "[encoded data removed]",
      "text/plain": [
       "<Figure size 432x288 with 1 Axes>"
      ]
     },
     "metadata": {
      "needs_background": "light"
     },
     "output_type": "display_data"
    }
   ],
   "source": [
    "# Run function for attractions\n",
    "graph([lda_attract_eval,lda_attract_eval, nmf_attract_eval],['LSI','LDA','NMF'],\"Attractions\")"
   ]
  },
  {
   "cell_type": "markdown",
   "metadata": {},
   "source": [
    "Comment - LDA appears to offer the highest coherence for each category"
   ]
  },
  {
   "cell_type": "markdown",
   "metadata": {},
   "source": [
    "# Section 5: Gensim LDA and NMF Models"
   ]
  },
  {
   "cell_type": "markdown",
   "metadata": {},
   "source": [
    "## Get optimum number of topics"
   ]
  },
  {
   "cell_type": "code",
   "execution_count": 255,
   "metadata": {
    "scrolled": true
   },
   "outputs": [],
   "source": [
    "# Function to collect topic coherence and respective weights over a range of topic numbers [COMMENTED OUT BELOW AS TAKES 1 HOUR TO RUN]\n",
    "\n",
    "def results(model,dictionary, corpus, texts):\n",
    "    \n",
    "    # Get coherence values\n",
    "    cv = []\n",
    "    tm_list = []\n",
    "    for num_topics in range(2,50+1,2):\n",
    "        tm = model(corpus = corpus, num_topics = num_topics, id2word = dictionary)\n",
    "        tm_list.append(tm)\n",
    "        cm = CoherenceModel(model = tm, texts = texts, dictionary = dictionary, coherence = 'c_v')\n",
    "        cv.append(cm.get_coherence())\n",
    "        \n",
    "    return cv"
   ]
  },
  {
   "cell_type": "code",
   "execution_count": 256,
   "metadata": {
    "scrolled": true
   },
   "outputs": [],
   "source": [
    "# Graph results\n",
    "def graph_results(cv,name,num):\n",
    "    \n",
    "    x = range(2,50+1,2)\n",
    "    fig, ax = plt.subplots()\n",
    "    ax.set_facecolor(\"White\")\n",
    "    ax.plot(x,cv)\n",
    "    ax.set_xlabel(\"Number of Topics\")\n",
    "    ax.spines[\"right\"].set_visible(False)\n",
    "    ax.spines[\"top\"].set_visible(False)\n",
    "    plt.axvline(num,color = \"grey\",linestyle = \"--\",linewidth = 1)\n",
    "    ax.set_ylabel(\"Coherence Score\")\n",
    "    ax.legend((\"c_v\"), loc = 'best',bbox_to_anchor=(1.0,1.0),frameon = False)\n",
    "    ax.set_title(\"Coherence Values By Number of Topics:\" + name,fontsize = 11)\n",
    "    plt.show()"
   ]
  },
  {
   "cell_type": "markdown",
   "metadata": {},
   "source": [
    "#### Accommodation"
   ]
  },
  {
   "cell_type": "code",
   "execution_count": 257,
   "metadata": {
    "scrolled": true
   },
   "outputs": [],
   "source": [
    "# run function for accommodation reviews - uncomment to run as takes a long time\n",
    "#cv_lda = results(LdaModel,accom_dict_big,accom_bow_big,accom_nouns_bigrams)\n",
    "#cv_nmf = results(GensimNmf,accom_dict_big,accom_bow_big,accom_nouns_bigrams)"
   ]
  },
  {
   "cell_type": "code",
   "execution_count": 269,
   "metadata": {
    "scrolled": true
   },
   "outputs": [
    {
     "data": {
      "image/png": "[encoded data removed]",
      "text/plain": [
       "<Figure size 432x288 with 1 Axes>"
      ]
     },
     "metadata": {
      "needs_background": "light"
     },
     "output_type": "display_data"
    }
   ],
   "source": [
    "#graph_results(cv_lda,\"Accommodation LDA\",18)"
   ]
  },
  {
   "cell_type": "code",
   "execution_count": 271,
   "metadata": {
    "scrolled": true
   },
   "outputs": [
    {
     "data": {
      "image/png": "[encoded data removed]",
      "text/plain": [
       "<Figure size 432x288 with 1 Axes>"
      ]
     },
     "metadata": {
      "needs_background": "light"
     },
     "output_type": "display_data"
    }
   ],
   "source": [
    "#graph_results(cv_nmf,\"Accommodation NMF\",46)"
   ]
  },
  {
   "cell_type": "markdown",
   "metadata": {},
   "source": [
    "#### Food"
   ]
  },
  {
   "cell_type": "code",
   "execution_count": 260,
   "metadata": {
    "scrolled": true
   },
   "outputs": [],
   "source": [
    "# run function for food reviews - uncomment to run as takes a long time\n",
    "#cv_lda2 = results(LdaModel,food_dict_big,food_bow_big,food_nouns_bigrams)\n",
    "#cv_nmf2 = results(GensimNmf, food_dict_big,food_bow_big,food_nouns_bigrams)"
   ]
  },
  {
   "cell_type": "code",
   "execution_count": 272,
   "metadata": {
    "scrolled": true
   },
   "outputs": [
    {
     "data": {
      "image/png": "[encoded data removed]",
      "text/plain": [
       "<Figure size 432x288 with 1 Axes>"
      ]
     },
     "metadata": {
      "needs_background": "light"
     },
     "output_type": "display_data"
    }
   ],
   "source": [
    "#graph_results(cv_lda2,\"Food LDA\",18)"
   ]
  },
  {
   "cell_type": "code",
   "execution_count": 273,
   "metadata": {
    "scrolled": true
   },
   "outputs": [
    {
     "data": {
      "image/png": "[encoded data removed]",
      "text/plain": [
       "<Figure size 432x288 with 1 Axes>"
      ]
     },
     "metadata": {
      "needs_background": "light"
     },
     "output_type": "display_data"
    }
   ],
   "source": [
    "#graph_results(cv_nmf2,\"Food NMF\",50)"
   ]
  },
  {
   "cell_type": "markdown",
   "metadata": {},
   "source": [
    "#### Attractions"
   ]
  },
  {
   "cell_type": "code",
   "execution_count": 263,
   "metadata": {
    "scrolled": true
   },
   "outputs": [],
   "source": [
    "# run function for attraction reviews - uncomment to run as takes a long time\n",
    "#cv_lda3 = results(LdaModel,attract_dict_big,attract_bow_big,attract_nouns_bigrams)\n",
    "#cv_nmf3 = results(GensimNmf,attract_dict_big,attract_bow_big,attract_nouns_bigrams)"
   ]
  },
  {
   "cell_type": "code",
   "execution_count": 276,
   "metadata": {
    "scrolled": true
   },
   "outputs": [
    {
     "data": {
      "image/png": "[encoded data removed]",
      "text/plain": [
       "<Figure size 432x288 with 1 Axes>"
      ]
     },
     "metadata": {
      "needs_background": "light"
     },
     "output_type": "display_data"
    }
   ],
   "source": [
    "#graph_results(cv_lda3,\"Attractions LDA\",14)"
   ]
  },
  {
   "cell_type": "code",
   "execution_count": 277,
   "metadata": {
    "scrolled": true
   },
   "outputs": [
    {
     "data": {
      "image/png": "[encoded data removed]",
      "text/plain": [
       "<Figure size 432x288 with 1 Axes>"
      ]
     },
     "metadata": {
      "needs_background": "light"
     },
     "output_type": "display_data"
    }
   ],
   "source": [
    "#graph_results(cv_nmf3,\"Attractions NMF\",12)"
   ]
  },
  {
   "cell_type": "markdown",
   "metadata": {},
   "source": [
    "## Implement Gensim LDA Model"
   ]
  },
  {
   "cell_type": "code",
   "execution_count": 282,
   "metadata": {
    "scrolled": true
   },
   "outputs": [],
   "source": [
    "# Function to run gensim lda\n",
    "def lda_mod(corpus,n,dict):\n",
    "    lda_model = LdaModel(corpus = corpus, num_topics=n, id2word=dict, passes=20)\n",
    "    topics = lda_model.print_topics(num_words = 3)\n",
    "    return topics,lda_model"
   ]
  },
  {
   "cell_type": "code",
   "execution_count": 283,
   "metadata": {
    "scrolled": true
   },
   "outputs": [],
   "source": [
    "# Run function using the highest topic coherence from the section above\n",
    "lda_accom = lda_mod(accom_bow_big,18,accom_dict_big)\n",
    "lda_food = lda_mod(food_bow_big,18,food_dict_big)\n",
    "lda_attract = lda_mod(attract_bow_big,14,attract_dict_big)"
   ]
  },
  {
   "cell_type": "code",
   "execution_count": 284,
   "metadata": {
    "scrolled": true
   },
   "outputs": [
    {
     "data": {
      "text/plain": [
       "[(0, '0.099*\"need\" + 0.067*\"plenty\" + 0.051*\"trip\"'),\n",
       " (1, '0.122*\"site\" + 0.103*\"people\" + 0.087*\"shower\"'),\n",
       " (2, '0.134*\"visit\" + 0.043*\"fun\" + 0.043*\"issue\"'),\n",
       " (3, '0.108*\"kid\" + 0.105*\"experience\" + 0.065*\"way\"'),\n",
       " (4, '0.105*\"house\" + 0.075*\"thing\" + 0.066*\"day\"'),\n",
       " (5, '0.081*\"facility\" + 0.080*\"stay\" + 0.056*\"lunch\"'),\n",
       " (6, '0.136*\"child\" + 0.075*\"door\" + 0.060*\"apartment\"'),\n",
       " (7, '0.324*\"breakfast\" + 0.058*\"floor\" + 0.038*\"tea_coffee\"'),\n",
       " (8, '0.071*\"time\" + 0.061*\"friend\" + 0.059*\"side\"'),\n",
       " (9, '0.158*\"service\" + 0.149*\"location\" + 0.106*\"weekend\"'),\n",
       " (10, '0.305*\"staff\" + 0.176*\"food\" + 0.079*\"pub\"'),\n",
       " (11, '0.356*\"hotel\" + 0.120*\"place\" + 0.046*\"tidy\"'),\n",
       " (12, '0.116*\"meal\" + 0.081*\"value_money\" + 0.066*\"road\"'),\n",
       " (13, '0.210*\"night\" + 0.129*\"family\" + 0.058*\"dinner\"'),\n",
       " (14, '0.503*\"room\" + 0.095*\"area\" + 0.031*\"bedroom\"'),\n",
       " (15, '0.087*\"value\" + 0.073*\"beach\" + 0.054*\"size\"'),\n",
       " (16, '0.182*\"bed\" + 0.122*\"pool\" + 0.081*\"view\"'),\n",
       " (17, '0.161*\"restaurant\" + 0.085*\"walk\" + 0.065*\"morning\"')]"
      ]
     },
     "execution_count": 284,
     "metadata": {},
     "output_type": "execute_result"
    }
   ],
   "source": [
    "# Print top 3 words for each topic in each category\n",
    "lda_accom[0]"
   ]
  },
  {
   "cell_type": "code",
   "execution_count": 285,
   "metadata": {
    "scrolled": true
   },
   "outputs": [
    {
     "data": {
      "text/plain": [
       "[(0, '0.173*\"price\" + 0.105*\"bit\" + 0.054*\"need\"'),\n",
       " (1, '0.085*\"selection\" + 0.078*\"owner\" + 0.067*\"waitress\"'),\n",
       " (2, '0.127*\"tasty\" + 0.078*\"sunday_lunch\" + 0.069*\"plate\"'),\n",
       " (3, '0.278*\"lunch\" + 0.207*\"visit\" + 0.045*\"venue\"'),\n",
       " (4, '0.511*\"staff\" + 0.080*\"course\" + 0.042*\"look\"'),\n",
       " (5, '0.201*\"menu\" + 0.077*\"value_money\" + 0.061*\"pizza\"'),\n",
       " (6, '0.182*\"pub\" + 0.138*\"experience\" + 0.092*\"evening\"'),\n",
       " (7, '0.142*\"choice\" + 0.140*\"drink\" + 0.105*\"table\"'),\n",
       " (8, '0.207*\"chip\" + 0.057*\"thing\" + 0.054*\"cake\"'),\n",
       " (9, '0.240*\"meal\" + 0.232*\"restaurant\" + 0.098*\"breakfast\"'),\n",
       " (10, '0.152*\"portion\" + 0.070*\"beer\" + 0.059*\"option\"'),\n",
       " (11, '0.335*\"place\" + 0.120*\"value\" + 0.084*\"people\"'),\n",
       " (12, '0.119*\"area\" + 0.069*\"wine\" + 0.049*\"sunday\"'),\n",
       " (13, '0.075*\"u\" + 0.049*\"superb\" + 0.048*\"child\"'),\n",
       " (14, '0.143*\"family\" + 0.133*\"order\" + 0.055*\"sauce\"'),\n",
       " (15, '0.534*\"food\" + 0.275*\"service\" + 0.051*\"quality\"'),\n",
       " (16, '0.130*\"night\" + 0.071*\"atmosphere\" + 0.071*\"customer\"'),\n",
       " (17, '0.113*\"friend\" + 0.095*\"coffee\" + 0.073*\"burger\"')]"
      ]
     },
     "execution_count": 285,
     "metadata": {},
     "output_type": "execute_result"
    }
   ],
   "source": [
    "lda_food[0]"
   ]
  },
  {
   "cell_type": "code",
   "execution_count": 286,
   "metadata": {
    "scrolled": true
   },
   "outputs": [
    {
     "data": {
      "text/plain": [
       "[(0, '0.104*\"park\" + 0.062*\"view\" + 0.043*\"show\"'),\n",
       " (1, '0.086*\"price\" + 0.052*\"thing\" + 0.050*\"part\"'),\n",
       " (2, '0.054*\"building\" + 0.034*\"event\" + 0.033*\"photo\"'),\n",
       " (3, '0.129*\"garden\" + 0.086*\"shop\" + 0.054*\"hour\"'),\n",
       " (4, '0.106*\"beach\" + 0.091*\"walk\" + 0.049*\"fun\"'),\n",
       " (5, '0.047*\"play\" + 0.040*\"age\" + 0.035*\"money\"'),\n",
       " (6, '0.100*\"lot\" + 0.033*\"lunch\" + 0.031*\"space\"'),\n",
       " (7, '0.077*\"town\" + 0.042*\"year\" + 0.041*\"pool\"'),\n",
       " (8, '0.064*\"history\" + 0.052*\"look\" + 0.045*\"service\"'),\n",
       " (9, '0.209*\"place\" + 0.106*\"experience\" + 0.079*\"child\"'),\n",
       " (10, '0.134*\"staff\" + 0.098*\"area\" + 0.069*\"way\"'),\n",
       " (11, '0.075*\"room\" + 0.052*\"car_park\" + 0.046*\"cinema\"'),\n",
       " (12, '0.249*\"visit\" + 0.095*\"family\" + 0.069*\"cafe\"'),\n",
       " (13, '0.105*\"food\" + 0.071*\"people\" + 0.061*\"value\"')]"
      ]
     },
     "execution_count": 286,
     "metadata": {},
     "output_type": "execute_result"
    }
   ],
   "source": [
    "lda_attract[0]"
   ]
  },
  {
   "cell_type": "markdown",
   "metadata": {},
   "source": [
    "## Generate perplexity scores"
   ]
  },
  {
   "cell_type": "code",
   "execution_count": 287,
   "metadata": {
    "scrolled": true
   },
   "outputs": [],
   "source": [
    "# Generate perplexity - looking for low perplexity\n",
    "def perp(lda,corpus):\n",
    "    print('Perplexity:', lda.log_perplexity(corpus))"
   ]
  },
  {
   "cell_type": "code",
   "execution_count": 288,
   "metadata": {
    "scrolled": true
   },
   "outputs": [
    {
     "name": "stdout",
     "output_type": "stream",
     "text": [
      "Perplexity: -15.278578591371147\n",
      "Perplexity: -15.15779718586759\n",
      "Perplexity: -12.15372783852275\n"
     ]
    }
   ],
   "source": [
    "perp(lda_accom[1],accom_bow_big)\n",
    "perp(lda_food[1],food_bow_big)\n",
    "perp(lda_attract[1],attract_bow_big)"
   ]
  },
  {
   "cell_type": "code",
   "execution_count": 289,
   "metadata": {
    "scrolled": true
   },
   "outputs": [],
   "source": [
    "# Coherence - as per the graph for the chosen number of topics\n",
    "def coher(lda,text,d):\n",
    "    coherence_score_lda = CoherenceModel(model = lda,texts = text,dictionary = d,coherence = 'c_v')\n",
    "    coherence_score = coherence_score_lda.get_coherence()\n",
    "    print('Coherence:', coherence_score)"
   ]
  },
  {
   "cell_type": "code",
   "execution_count": 290,
   "metadata": {
    "scrolled": true
   },
   "outputs": [
    {
     "name": "stdout",
     "output_type": "stream",
     "text": [
      "Coherence: 0.7385968458004495\n",
      "Coherence: 0.7249037514168841\n",
      "Coherence: 0.7500233422853633\n"
     ]
    }
   ],
   "source": [
    "coher(lda_accom[1],accom_nouns_bigrams,accom_dict_big)\n",
    "coher(lda_food[1],food_nouns_bigrams,food_dict_big)\n",
    "coher(lda_attract[1],attract_nouns_bigrams,attract_dict_big)"
   ]
  },
  {
   "cell_type": "markdown",
   "metadata": {},
   "source": [
    "## Visualising the models"
   ]
  },
  {
   "cell_type": "code",
   "execution_count": 291,
   "metadata": {
    "scrolled": true
   },
   "outputs": [],
   "source": [
    "# Function to run pyLDAvis\n",
    "def vis(lda_model,bow_corpus,gen_dict):\n",
    "    lda_vis = gensimvis.prepare(lda_model, bow_corpus, gen_dict,sort_topics = False)\n",
    "    return lda_vis"
   ]
  },
  {
   "cell_type": "code",
   "execution_count": 292,
   "metadata": {
    "scrolled": true
   },
   "outputs": [
    {
     "data": {
      "text/html": [
       "\n",
       "<link rel=\"stylesheet\" type=\"text/css\" href=\"https://cdn.jsdelivr.net/gh/bmabey/pyLDAvis@3.3.1/pyLDAvis/js/ldavis.v1.0.0.css\">\n",
       "\n",
       "\n",
       "<div id=\"ldavis_el176017235716784484584842693\"></div>\n",
       "<script type=\"text/javascript\">\n",
       "\n",
       "var ldavis_el176017235716784484584842693_data = {\"mdsDat\": {\"x\": [-0.06171918536940402, -0.05239952885870565, -0.05309938935663177, -0.05934029881592556, -0.05978148886610795, -0.01802806106363904, -0.0654110482324909, -0.035714273534719135, -0.0590006561592825, 0.009519967737469232, 0.21657399055167528, 0.1648775131447037, -0.043182929200540475, -0.030190421142344524, 0.2869118789280291, -0.05949875231011916, -0.04518215814464667, -0.03533515930731953], \"y\": [-0.008303656769187852, -0.007350312689493976, -0.007426258038896673, -0.008070453764544162, -0.008116456822923604, -0.002944099079732915, -0.008642055752089579, -0.005376489362068641, -0.008038477648279968, 0.0016590420676207067, 0.29639596610205904, 0.08950472924029439, -0.006304167158844916, -0.004658062453235428, -0.2923670326839294, -0.008088597822203843, -0.006537787880194648, -0.005335829484348404], \"topics\": [1, 2, 3, 4, 5, 6, 7, 8, 9, 10, 11, 12, 13, 14, 15, 16, 17, 18], \"cluster\": [1, 1, 1, 1, 1, 1, 1, 1, 1, 1, 1, 1, 1, 1, 1, 1, 1, 1], \"Freq\": [4.7289514068014356, 5.157377197614751, 5.172639955420384, 4.950685088759609, 4.855117478928529, 5.864786463867194, 4.82503456336573, 5.338895758393751, 5.034649942998757, 6.079061674525764, 6.9007746640676295, 7.086035645558855, 5.036254672288583, 5.938983018169744, 7.215185740135959, 4.925565062000619, 5.350100023097591, 5.539901644005114]}, \"tinfo\": {\"Term\": [\"room\", \"hotel\", \"staff\", \"breakfast\", \"night\", \"food\", \"bed\", \"service\", \"restaurant\", \"location\", \"place\", \"family\", \"visit\", \"child\", \"pool\", \"site\", \"weekend\", \"area\", \"meal\", \"kid\", \"people\", \"experience\", \"house\", \"pub\", \"need\", \"bit\", \"walk\", \"facility\", \"stay\", \"shower\", \"need\", \"plenty\", \"trip\", \"table\", \"group\", \"job\", \"standard\", \"good\", \"music\", \"lack\", \"case\", \"fridge\", \"food_service\", \"girl\", \"chocolate\", \"spot\", \"steak\", \"rule\", \"member\", \"pool_area\", \"moment\", \"complain\", \"wet\", \"joy\", \"splash_pool\", \"rubbish\", \"law\", \"upgrade\", \"heater\", \"metal\", \"site\", \"people\", \"shower\", \"entertainment\", \"reception\", \"order\", \"party\", \"arrival\", \"atmosphere\", \"min\", \"luxury\", \"person\", \"class\", \"item\", \"papa_john\", \"rain\", \"shelf\", \"food_drink\", \"stone\", \"staff_attentive\", \"surprise\", \"maintenance\", \"pas\", \"christmas_party\", \"beauty\", \"attraction\", \"comment\", \"control\", \"food_outlet\", \"presentation\", \"visit\", \"fun\", \"issue\", \"evening\", \"superb\", \"team\", \"distance\", \"member_staff\", \"thanks\", \"adult\", \"chair\", \"charge\", \"chip\", \"event\", \"food_good\", \"christmas\", \"buffet\", \"man\", \"load\", \"refund\", \"business\", \"sheet\", \"downstairs\", \"requirement\", \"smile\", \"fish\", \"corner\", \"pack\", \"tea_towel\", \"mirror\", \"kid\", \"experience\", \"way\", \"bath\", \"coffee\", \"space\", \"wife\", \"kitchen\", \"son\", \"others\", \"wifi\", \"decor\", \"month\", \"queue\", \"sofa\", \"portion\", \"butin\", \"roll\", \"date\", \"decent\", \"resident\", \"highlight\", \"shop_site\", \"animal\", \"disaster\", \"sugar\", \"sale\", \"dark\", \"lot_storage\", \"winner\", \"house\", \"thing\", \"day\", \"helpful\", \"building\", \"resort\", \"end\", \"tasty\", \"money\", \"ate\", \"i\", \"occasion\", \"toiletry\", \"carvery\", \"paint\", \"example\", \"budget\", \"mini_fridge\", \"board\", \"waste_money\", \"talk\", \"tot\", \"hairdryer\", \"manage\", \"period\", \"bird\", \"music_weekend\", \"band\", \"deck\", \"capacity\", \"facility\", \"stay\", \"lunch\", \"park\", \"car_park\", \"night_stay\", \"show\", \"host\", \"lady\", \"option\", \"part\", \"touch\", \"selection\", \"entrance\", \"use\", \"character\", \"amount\", \"coast\", \"plate\", \"slide\", \"term\", \"tot_week\", \"offering\", \"disappointment\", \"family_visit\", \"salad\", \"dish\", \"swim\", \"dance_floor\", \"chip_shop\", \"child\", \"door\", \"apartment\", \"ground\", \"base\", \"beer\", \"waitress\", \"comfy_bed\", \"seat\", \"bed_comfy\", \"section\", \"communication\", \"room_comfy\", \"salisbury\", \"comfort\", \"roof\", \"package\", \"management\", \"effort\", \"feeling\", \"line\", \"leisure\", \"shoe\", \"coffee_facility\", \"attention\", \"ate_restaurant\", \"improvement\", \"bottom\", \"recommendation\", \"screen\", \"breakfast\", \"floor\", \"tea_coffee\", \"look\", \"customer_service\", \"weather\", \"reception_staff\", \"carpet\", \"reason\", \"round\", \"staff_member\", \"milk\", \"summer\", \"bag\", \"information\", \"glass\", \"phone\", \"desk\", \"detail\", \"beachcomber\", \"luggage\", \"instruction\", \"pizza\", \"twin_room\", \"cater\", \"struggle\", \"cup\", \"cutlery\", \"youth\", \"sunday_night\", \"time\", \"friend\", \"side\", \"work\", \"couple\", \"hour\", \"window\", \"activity\", \"air\", \"birthday\", \"lounge\", \"football\", \"kind\", \"meat\", \"mix\", \"bike\", \"guy\", \"stuff\", \"travel\", \"choice_food\", \"skyline_gang\", \"mini\", \"cold\", \"cross\", \"relation\", \"sauna\", \"splash\", \"restriction\", \"bother\", \"god\", \"service\", \"location\", \"weekend\", \"bit\", \"accommodation\", \"dog\", \"husband\", \"daughter\", \"security\", \"family_holiday\", \"shame\", \"hair\", \"card\", \"front\", \"session\", \"act\", \"type\", \"opinion\", \"rope\", \"internet\", \"shut\", \"criticism\", \"roast_dinner\", \"outdoor\", \"respect\", \"drop\", \"checkout\", \"interest\", \"pricey\", \"mum\", \"staff\", \"food\", \"pub\", \"price\", \"town\", \"check\", \"comfy\", \"star\", \"wall\", \"drive\", \"dirty\", \"street\", \"starter\", \"stair\", \"note\", \"monday\", \"head\", \"stage\", \"cupboard\", \"entry\", \"quieter\", \"fry\", \"impression\", \"height\", \"coat\", \"chip_restaurant\", \"eye\", \"pastry\", \"clock\", \"question\", \"hotel\", \"place\", \"tidy\", \"u\", \"choice\", \"garden\", \"towel\", \"noise\", \"range\", \"chicken\", \"style\", \"chef\", \"number\", \"supermarket\", \"life\", \"self\", \"dessert\", \"lamb\", \"camp\", \"notice\", \"pie\", \"mind\", \"plug\", \"knowledge\", \"non\", \"food_ok\", \"disco\", \"saturday_night\", \"june\", \"form\", \"meal\", \"value_money\", \"road\", \"quality\", \"owner\", \"toilet\", \"point\", \"car\", \"course\", \"sleep\", \"play\", \"fire\", \"rest\", \"company\", \"cake\", \"baby\", \"start\", \"gem\", \"picture\", \"cleanliness\", \"men\", \"relax\", \"idea\", \"system\", \"pub_grub\", \"heart\", \"expectation\", \"meet\", \"deck_restaurant\", \"tent\", \"night\", \"family\", \"dinner\", \"lot\", \"problem\", \"spa\", \"burger\", \"biscuit\", \"fault\", \"pay\", \"food_restaurant\", \"hand\", \"waiter\", \"boy\", \"machine\", \"curtain\", \"sort\", \"diner\", \"saturday\", \"friday\", \"gripe\", \"decoration\", \"pub_kitchen\", \"food_court\", \"stand\", \"hair_dryer\", \"photo\", \"wow\", \"info\", \"amusement\", \"room\", \"area\", \"bedroom\", \"review\", \"book\", \"centre\", \"guest\", \"sea_view\", \"customer\", \"quality_food\", \"balcony\", \"lot_choice\", \"arcade\", \"difference\", \"seaside\", \"making\", \"conversation\", \"memory\", \"season\", \"bunk\", \"family_meal\", \"store\", \"selection_food\", \"head_office\", \"travel_cot\", \"wednesday\", \"towel_rail\", \"food_quality\", \"addition\", \"cooking\", \"value\", \"beach\", \"size\", \"week\", \"drink\", \"manager\", \"home\", \"cost\", \"ok\", \"afternoon\", \"fair\", \"request\", \"level\", \"complaint\", \"toddler\", \"age\", \"yes\", \"kettle\", \"fab\", \"care\", \"ticket\", \"gate\", \"sandwich\", \"safety\", \"cream\", \"min_walk\", \"granddaughter\", \"alarm\", \"attitude\", \"rib\", \"bed\", \"pool\", \"view\", \"water\", \"whilst\", \"sea\", \"partner\", \"fact\", \"fan\", \"sunday\", \"parent\", \"variety\", \"adult_child\", \"foot\", \"polite\", \"ice_cream\", \"world\", \"top\", \"light\", \"funfair\", \"play_area\", \"tray\", \"duck\", \"mould\", \"bingo\", \"manner\", \"dad\", \"pavilion\", \"snack\", \"sun_holiday\", \"restaurant\", \"walk\", \"morning\", \"bathroom\", \"holiday\", \"year\", \"shop\", \"access\", \"minute\", \"ground_floor\", \"amenity\", \"chichester\", \"name\", \"step\", \"cook\", \"school\", \"place_visit\", \"pillow\", \"hope\", \"adult_weekend\", \"centre_stage\", \"quirky\", \"clothes\", \"piece\", \"fairground\", \"glass_wine\", \"bill\", \"gold_apartment\", \"situation\", \"silver\"], \"Freq\": [1515.0, 1055.0, 879.0, 723.0, 521.0, 508.0, 407.0, 401.0, 374.0, 378.0, 356.0, 320.0, 291.0, 274.0, 273.0, 263.0, 270.0, 287.0, 244.0, 224.0, 223.0, 218.0, 214.0, 229.0, 196.0, 210.0, 196.0, 199.0, 197.0, 188.0, 195.30828876591636, 133.03879623087735, 100.49375749522069, 77.83059652496969, 76.2041731158807, 72.6872422929786, 57.50437296832615, 57.007532282648135, 51.168623165157925, 49.25476098313656, 46.28457014036878, 44.44235426522952, 41.497195848877766, 37.317417117378156, 37.2753579317832, 36.916026353942584, 32.090643538450394, 28.39142006706581, 24.061638088970884, 20.989967320007707, 20.43553623355024, 17.306339447620417, 16.83840525435139, 16.68009649590508, 12.777158961751216, 9.622858927211277, 9.593123723154696, 9.556731232854753, 9.382152684914276, 8.849767535727752, 262.29900234581737, 222.30081199982416, 187.38862563088833, 145.9903694239617, 128.56572531960592, 73.41391729688758, 58.30740502977155, 43.36023664100356, 42.1403269037029, 36.46282904518522, 32.34234352541733, 32.25883574539269, 31.858429732750842, 24.62176689048719, 22.811422541584594, 21.784743287133967, 21.42316513214009, 18.043779311778337, 17.420940672237478, 16.945499032244726, 16.386460336642685, 12.814134931403352, 12.726178418593019, 12.670698156666502, 12.388786925364355, 11.323990005557137, 10.974206258701756, 10.408315411203642, 9.661581318999925, 9.025662301663013, 290.56674218882824, 93.27838910377537, 92.05427357138423, 79.70464029238268, 74.227010617103, 70.29658017159007, 63.37415258889209, 62.9216044200369, 55.30985327734122, 51.74320387153306, 51.22532988857422, 48.17058648800571, 47.66631450416412, 46.30243641871317, 39.523775527868395, 39.3028436487154, 36.256615582505496, 29.8622976883151, 28.12153959655384, 28.02582659448144, 25.195550385558374, 24.997417951967154, 22.338388094948222, 21.676045186749803, 18.863799675177287, 18.100488081223887, 16.152440352027824, 15.171901210337833, 13.274120513974195, 12.980413915283814, 223.1819399719821, 217.3355627639083, 133.58548015387015, 95.18007443201769, 94.07333788979061, 76.67334849940748, 76.06149396297715, 73.15313394777591, 65.89364229422252, 46.83790422919308, 44.303494263356825, 41.118043770748905, 40.76900189904634, 34.254136499934496, 33.73529380552821, 30.716010168463892, 19.581186221735248, 18.786707021944473, 17.62277641999913, 16.93745681773722, 16.176478673970514, 15.105016841055498, 9.079282073641998, 8.962858393374415, 8.551273578123585, 7.655368756487591, 7.050215490446986, 5.473583596058934, 5.424623736173682, 5.328908565373262, 213.57622414714712, 152.0405697423349, 133.06095139502426, 117.41350039329059, 117.08596914669734, 74.46130835803852, 70.21552706354449, 53.2740005295707, 48.98645439291432, 45.19261122223695, 41.59819451186939, 40.682869477350465, 40.636968567342606, 35.466649572142266, 20.681778352512293, 19.910039085157923, 19.742430129411247, 19.67516897861221, 18.207059420848978, 17.848877834043513, 16.14546567679547, 14.135407526958526, 14.130760588632558, 13.227734217953794, 12.349898200208075, 11.407957852395635, 9.946428230876126, 9.915325567262547, 9.514919260431544, 8.697700244315689, 198.13431714992328, 196.6739109109497, 136.14721026045495, 126.37065759418357, 119.72112600756203, 114.2684840076431, 98.58552456207212, 95.95826071002973, 82.89420617154563, 71.49847750231766, 70.16657179106349, 62.24956042264836, 60.27533458251223, 54.56482004326442, 49.69521445399223, 37.48873884659452, 32.5543377456885, 32.5090913059225, 30.687071724136995, 30.41613833331514, 25.944682250463615, 25.041213532865193, 17.609535421129262, 16.814836790352967, 16.727495625465092, 14.510401825959796, 13.806302158487444, 11.493774028911504, 11.439187654470876, 11.183393444523682, 273.7656512789413, 150.8062794409064, 120.15382932111862, 78.85358966677798, 57.792384522366916, 53.07636568396865, 45.618060062606204, 36.04067796928308, 31.916112067890698, 28.930310792184006, 28.915404346304022, 27.652592639951735, 23.98450332842178, 23.282475794824684, 23.23974973916969, 21.89857502325618, 21.272464881116345, 20.62431977616727, 20.37459645404036, 17.67178115897041, 17.30018422184413, 15.684893817818283, 15.158572589664622, 14.887641085062155, 13.929268479015233, 13.873281092037521, 13.068709335646414, 12.721356488350372, 12.044769576848493, 11.673895251364593, 721.8102199900416, 129.03154343833808, 85.4414985528325, 85.2626609196066, 77.05336725354047, 62.59225368227793, 56.3487368342354, 42.69398344334983, 35.24487017304982, 35.01535440058689, 34.12643092927606, 31.139147556223428, 26.22451029171158, 22.839868106410034, 22.827058387419214, 20.53398577269051, 18.247484161672404, 15.663922924310302, 14.827140699731476, 11.912411467049102, 11.80466798190251, 11.777736004620905, 11.190768221995324, 10.725954858381003, 9.532038374451066, 9.431939600005705, 9.17331951464762, 7.845607613429296, 7.663491227956835, 7.654914552048545, 149.1965522786304, 129.24398552697411, 124.42410821535518, 115.71868434837468, 99.0106547660574, 95.02890118273724, 92.75550584565742, 83.90695042523406, 66.60760915133034, 61.78461789999852, 52.384303697699906, 37.535699565201995, 36.979671356550625, 26.235919348663064, 24.910387675649357, 24.43230979935711, 24.41580004352104, 23.024049169519277, 22.862991898974663, 16.947893029028883, 14.423670827305031, 14.353847094215404, 13.896720744368507, 12.195005569515596, 11.911357976143357, 11.610926443564106, 10.69173354706171, 9.724147285587865, 8.685369311848648, 8.669170949983862, 400.2933746287388, 377.3924096665174, 269.03718989531717, 209.64914850845167, 120.68711978705522, 96.44713493887188, 81.76833209580805, 57.6053048053887, 31.308939950615134, 30.958913595519686, 30.752783022980065, 30.29329362250313, 28.20559048998672, 24.203707626770566, 18.758394063717958, 17.732238904893592, 16.96997741667611, 16.1958958586306, 15.99208507972933, 15.43582646898881, 15.405560374414653, 15.29203236953844, 14.115019682519815, 14.097947562058987, 13.824435379093293, 13.407384486802552, 12.208664821493166, 11.120297337557133, 10.099617695725223, 9.206036615081539, 878.650368823044, 507.448066233933, 228.12023320737777, 153.41599594226577, 106.6835339987781, 99.30957133455917, 65.12464961205742, 50.751590551791296, 45.23646507097885, 35.70557180742241, 32.62526780740425, 29.912429279976436, 24.316080268985683, 21.273533211386816, 21.02598639712337, 19.28790942061643, 17.608760976935166, 15.409850928305122, 13.354974535138506, 13.083844228100208, 12.183207402890844, 8.631514063566478, 8.543370910316018, 8.26465391538802, 7.4817318844604745, 7.227868758262678, 6.855273463272604, 6.809871448014793, 6.7156146524224365, 6.645438628306948, 1054.6848663002522, 354.9237917018752, 135.59171966042933, 130.8319366239914, 129.64132380857473, 103.8081515068111, 53.45594090563493, 48.755614086330255, 39.349257391937456, 37.70137472150594, 31.509534807187112, 31.41831623539338, 29.877926105506404, 26.840551365027643, 26.27146964205763, 25.70744045714999, 21.68305530044042, 21.134207159383557, 18.215631839499427, 16.54120749476212, 15.126306643558893, 14.923052932897237, 14.736514219949818, 13.77272673507495, 12.307985476356892, 10.712080825697372, 10.41828662527327, 10.312088229093323, 10.01258270359272, 9.300592436098734, 243.73855014254576, 169.4407788493863, 139.11933098704625, 137.92365151245394, 98.49871034559445, 71.67843064918574, 68.21509617597916, 66.83649377485943, 60.7816924035412, 58.44157115110081, 56.56478333546477, 52.42713068168377, 30.965672662946307, 28.596539440976027, 28.1909889767751, 26.97153022700192, 24.38156985901173, 21.545218350782193, 20.038976213638385, 19.97687935374313, 18.490294594022707, 18.403764127268328, 18.1770891367588, 17.058773608194954, 15.654868749619418, 11.59288250174953, 11.253553733816682, 10.790837406229832, 9.608413045814006, 9.254230556969846, 520.5013769687773, 318.9455161168603, 142.76716381131857, 117.32117994359868, 90.08507005362182, 67.94893463857684, 58.43938973333413, 54.94053645644026, 49.01344293801644, 42.95104366316501, 35.64076713544711, 34.213315431564425, 33.630117773144455, 29.382600982882277, 24.97414639535852, 24.95995925135118, 23.500624014746574, 22.419986876166927, 21.177991477826215, 17.83840107889653, 16.947066784659093, 15.366167060566088, 14.321754383480513, 14.245285654178613, 13.873498619709746, 13.542051727739524, 13.355745256264525, 12.639920557176028, 12.34067601015261, 12.000722838385117, 1514.429053675177, 286.5062388342736, 92.26188044047251, 84.70232319813267, 75.36433090378857, 58.717658348192586, 57.33992592116274, 56.50935937264919, 37.52474215303046, 31.064790400158554, 28.024221227571406, 20.87321265545505, 18.796240563563302, 15.831868264323953, 15.380131963526441, 13.520189819032463, 12.939819634195704, 11.248868477885512, 10.997896070026515, 10.94515664067093, 10.650905385471452, 10.234663633499581, 9.469743686793436, 8.938634765841009, 8.806795664962406, 8.370211170738669, 7.955209265123002, 7.459848194939957, 7.45689066670487, 7.052822143048662, 179.79750946687926, 149.37921786639268, 110.47217181848286, 108.30301582802441, 99.27597494709136, 72.92405089069916, 56.71062745981836, 55.649286945423505, 49.12800064359157, 44.880695742545285, 44.55664707965007, 44.43192189393157, 42.04648948843176, 42.000117991799726, 36.71508942899417, 32.15857351772263, 31.19484268535498, 27.098056420471803, 26.054101864280362, 23.740466530171165, 19.87485181357526, 19.137266811138307, 14.925711954299475, 14.03365077804577, 13.642045194245302, 13.60374971853319, 13.233914902870957, 12.855195506187204, 10.934006888306435, 10.254139090182976, 406.2443430995706, 272.7034117634821, 181.58490139540405, 133.34263830738243, 59.00611565702619, 52.620842880327935, 47.42207333992022, 43.69814774257427, 40.301301584538734, 34.44123270180858, 33.0385009905338, 29.260769054353197, 27.77901357530977, 25.599145095413455, 23.445861367287616, 21.518874771502016, 21.204962838411408, 20.32224876766712, 18.239689136880873, 17.869298654115372, 17.404694008781423, 16.17027203838135, 14.358713920740549, 14.200835999832139, 12.819768134929264, 12.58703501191655, 11.51743891872563, 10.763655899281519, 10.596187988067932, 9.810151134042734, 373.11009776007035, 195.60281257406896, 150.2401595899308, 146.57210301681903, 129.63334997589945, 93.51365132580061, 82.95813389541621, 76.65934814798536, 56.93797772076045, 50.20246972526215, 43.16003470612155, 36.8659985631176, 33.6984326339883, 30.897933116315215, 27.754410443352466, 27.180665124558676, 26.24914141385495, 25.67819543088265, 25.371264097254485, 21.605659613984482, 21.457445664950974, 15.90690147917256, 14.197786280549437, 13.858289771196544, 13.667917695391843, 13.085134336232139, 11.600978850007166, 10.551654605549894, 9.456775965457174, 8.571664337576697], \"Total\": [1515.0, 1055.0, 879.0, 723.0, 521.0, 508.0, 407.0, 401.0, 374.0, 378.0, 356.0, 320.0, 291.0, 274.0, 273.0, 263.0, 270.0, 287.0, 244.0, 224.0, 223.0, 218.0, 214.0, 229.0, 196.0, 210.0, 196.0, 199.0, 197.0, 188.0, 196.53186204988378, 134.26236951484478, 101.71733077918816, 79.05416980893716, 77.42774639984817, 73.91081557694606, 58.72794625229362, 58.231105566615604, 52.39219644912539, 50.47833426710403, 47.50814342433625, 45.66592754919699, 42.720769132845234, 38.540990401345624, 38.498931215750666, 38.13959963791005, 33.31421683532414, 29.614993366354412, 25.285211372938353, 22.213540603975172, 21.65910951751771, 18.52991273158788, 18.061978538318858, 17.90366979235103, 14.000732245718678, 10.84643221117874, 10.816697007122158, 10.780304516822216, 10.605725968881739, 10.073340819695215, 263.5261777956804, 223.52798744968706, 188.61580108075123, 147.2175448738246, 129.79290076946882, 74.64109274675053, 59.53458047963451, 44.58741209086652, 43.36750235356586, 37.69000449504818, 33.56951898052319, 33.48601119525565, 33.085605182613804, 25.848942340350145, 24.03859799144755, 23.011918736996922, 22.65034058200305, 19.270954761641296, 18.648116122100436, 18.172674482107684, 17.613635786505643, 14.041310388597998, 13.953353868455972, 13.897873606529455, 13.615962375227308, 12.55116545542009, 12.201381713948363, 11.635490861066595, 10.888756773481477, 10.252837759010417, 291.7942003618496, 94.50584727679673, 93.28173174440559, 80.93209846540404, 75.45446879012437, 71.52403834461143, 64.60161076642564, 64.14906259305825, 56.53731145036258, 52.97066204455442, 52.452788061595584, 49.39804466102707, 48.89377267718548, 47.52989459173453, 40.751233700889756, 40.530301821736764, 37.48407375552686, 31.08975586133646, 29.348997769575202, 29.25328477498725, 26.423008558579735, 26.224876124988516, 23.565846267969587, 22.903503367255617, 20.091257848198648, 19.32794625870105, 17.379898544112514, 16.399359383359197, 14.501578694372958, 14.207872101341712, 224.40442102610362, 218.55804381802983, 134.80796120799167, 96.40255548613924, 95.29581894391215, 77.89582955352903, 77.2839750170987, 74.37561500189746, 67.11612334834406, 48.06038528331464, 45.525975317478384, 42.340524824870464, 41.991482953167896, 35.476617554056055, 34.95777485964977, 31.93849122258545, 20.803667275856807, 20.009188076066028, 18.84525748130638, 18.1599379035108, 17.39895972809207, 16.327497902554462, 10.301763132219355, 10.185339447495966, 9.773754648504209, 8.877849823964556, 8.272696549187142, 6.696064650180489, 6.647104805050045, 6.55138963524445, 214.79970982252527, 153.26405541771305, 134.28443707040242, 118.6369860686688, 118.30945482207555, 75.68479403341674, 71.4390127389227, 54.497486204948906, 50.209940068292525, 46.416096897615155, 42.821680195665536, 41.90635515272867, 41.86045424272081, 36.69013524752047, 21.9052640278905, 21.13352476053613, 20.965915804789457, 20.898654653990416, 19.430545104645127, 19.072363509421724, 17.368951352173678, 15.358893202336729, 15.354246264010762, 14.451219897388253, 13.573383875586279, 12.631443547898241, 11.16991390625433, 11.138811250125201, 10.738404935809747, 9.921185919693892, 199.37024141252897, 197.9098351735554, 137.38313452306065, 127.60658185678932, 120.95705027016778, 115.50440827024885, 99.82144882467787, 97.19418498455161, 84.13013043415138, 72.73440177244602, 71.40249605366924, 63.48548468525411, 61.51125884511798, 55.80074431428811, 50.93113871659798, 38.72466310920027, 33.79026200829425, 33.74501558156479, 31.922995986742745, 31.652062595920885, 27.1806065214873, 26.27713779547094, 18.845459695168667, 18.050761052958716, 17.963419888070842, 15.74632608856554, 15.042226421093188, 12.729698291517249, 12.67511191707662, 12.419317715547368, 274.98173593932563, 152.02236410129066, 121.36991398150295, 80.0696743271623, 59.008469182751234, 54.29245034435297, 46.83414472299052, 37.2567626296674, 33.13219672827501, 30.146395452568328, 30.131489012072, 28.86867731281025, 25.20058802036064, 24.49856045972118, 24.45583439955401, 23.11465969205844, 22.488549541500667, 21.84040443655159, 21.590681114424683, 18.887865819354733, 18.516268882228452, 16.900978478202603, 16.374657257571563, 16.10372575006507, 15.145353139399548, 15.089365752421836, 14.284793996030729, 13.937441156257307, 13.260854273569734, 12.889979911748908, 723.0463543010128, 130.26767774930943, 86.67763286825968, 86.49879523057797, 78.28950156451184, 63.828387993249294, 57.58487114520677, 43.930117754321195, 36.481004484021184, 36.25148871155825, 35.36256524024743, 32.37528186719479, 27.460644615926487, 24.076002417381403, 24.063192712192176, 21.77012008366188, 19.483618472643773, 16.900057243141553, 16.06327505334674, 13.148545785857157, 13.040802292873874, 13.013870330454123, 12.42690254029838, 11.962089176874988, 10.768172702981017, 10.66807391097707, 10.409453833141605, 9.0817419394459, 8.899625552729796, 8.891048870879793, 150.419420957179, 130.4668542055227, 125.64697689390381, 116.94155302692332, 100.23352344460604, 96.25176986128588, 93.97837452420606, 85.1298191037827, 67.83047782987897, 63.00748657854715, 53.60717238828333, 38.75856824836922, 38.202540035099254, 27.458788037051153, 26.133256376850824, 25.655178477905743, 25.63866872206967, 24.24691784806791, 24.085860577523295, 18.170761707577515, 15.646539505853658, 15.57671577276403, 15.119589422917134, 13.417874268326035, 13.134226671226722, 12.833795122112733, 11.914602225610338, 10.947015968592297, 9.908238002432071, 9.892039628532489, 401.53291408339805, 378.63194912117666, 270.27672934997645, 210.88868796311093, 121.9266592417145, 97.68667439353116, 83.00787155046733, 58.84484426004797, 32.5484794126061, 32.198453050178955, 31.992322481695595, 31.532833077162405, 29.445129944645995, 25.443247088807247, 19.997933522889408, 18.97177837516685, 18.209516871335385, 17.435435313289876, 17.231624567149513, 16.675365949237175, 16.645099833586105, 16.531571831720335, 15.354559144663535, 15.337487025136198, 15.06397485053617, 14.646923977549772, 13.44820429995288, 12.359836800345938, 11.339157158244376, 10.44557608238252, 879.8971788603671, 508.69487627125613, 229.36704325311885, 154.6628059795889, 107.93034403610129, 100.55638137188235, 66.37145965789267, 51.99840058911446, 46.48327510830202, 36.952381852077266, 33.87207784878367, 31.15923931729961, 25.562890333957633, 22.520343248709988, 22.27279643444654, 20.534719474239274, 18.855571022118223, 16.656660965628294, 14.601784596181771, 14.330654297286868, 13.43001745232246, 9.878324116376543, 9.790180972647027, 9.511463956767445, 8.728541921783643, 8.474678795585847, 8.102083500595773, 8.056681485337963, 7.9624247292401, 7.892248678443588, 1055.928870397401, 356.1677957990238, 136.83572375757794, 132.07594072114, 130.88532790572333, 105.0521556120893, 54.69994500278356, 49.99961819131557, 40.593261494328985, 38.94537881865457, 32.75353891275368, 32.66232033254201, 31.121930202655037, 28.08455548199139, 27.515473739206264, 26.951444569343863, 22.927059404966457, 22.378211289036482, 19.459635948491925, 17.785211599288157, 16.370310755714595, 16.167057030045868, 15.980518333000838, 15.016730832223578, 13.551989585502145, 11.956084922846, 11.662290742654484, 11.55609232624195, 11.256586808225798, 10.544596546121108, 244.9736721177831, 170.67590082462365, 140.3544529622836, 139.1587734876913, 99.73383232545042, 72.91355262442312, 69.45021815121653, 68.07161575009681, 62.01681437877856, 59.67669312633817, 57.79990531070213, 53.66225265692113, 32.20079463818367, 29.831661416213397, 29.42611095201247, 28.20665220223929, 25.6166918342491, 22.7803403344375, 21.274098188875755, 21.212001344921056, 19.72541658219019, 19.638886111473674, 19.412211111996168, 18.293895590764016, 16.889990724856787, 12.828004485404836, 12.48867571643145, 12.02595939632151, 10.84353502105137, 10.48935253220721, 521.7318326762678, 320.1759718243508, 143.99761951880905, 118.55163565108917, 91.31552576111231, 69.17939034606734, 59.66984544528043, 56.17099216798701, 50.24389864550693, 44.1814993706555, 36.871222842937605, 35.44377113905492, 34.86057348063495, 30.613056690372776, 26.20460210284902, 26.19041495884168, 24.731079730073766, 23.65044259118005, 22.408447192801162, 19.06885678638703, 18.177522513333052, 16.596622768056587, 15.55221009938895, 15.475741361669106, 15.103954342016385, 14.772507447208442, 14.586200968210823, 13.870376264666522, 13.571131725165724, 13.231178553712303, 1515.6758035273126, 287.75298868640886, 93.50863029260775, 85.94907305026791, 76.61108075592381, 59.9644082132341, 58.586675773297976, 57.75610922478443, 38.77149201265014, 32.311540256912394, 29.270971084162454, 22.11996250759029, 20.042990415698544, 17.07861812379089, 16.626881855571032, 14.766939687445527, 14.186569497764602, 12.495618345212327, 12.244645955241658, 12.191906544692717, 11.897655245736226, 11.481413520824104, 10.71649356024216, 10.185384625460697, 10.053545517097644, 9.616961042780193, 9.201959125676181, 8.706598072670651, 8.703640518840109, 8.299572007476394, 181.02087584215585, 150.60258424166926, 111.69553819375942, 109.52638220330097, 100.49934132236791, 74.14741726597572, 57.93399383509493, 56.872653320700074, 50.35136701886814, 46.104062117821854, 45.78001345492664, 45.65528826920814, 43.26985586370833, 43.223484367076296, 37.93845580427074, 33.3819398929992, 32.41820906063155, 28.321422803877905, 27.27746823955693, 24.963832913284428, 21.098218188851828, 20.360633186414876, 16.14907834189173, 15.257017153322336, 14.865411569521868, 14.827116099052658, 14.457281278147523, 14.07856188146377, 12.157373263583, 11.477505486495353, 407.4742313488596, 273.9333000127711, 182.814789644693, 134.5725265566714, 60.23600391379961, 53.8507311296169, 48.65196158920918, 44.92803599186323, 41.531189833827696, 35.67112095847495, 34.268389254677075, 30.490657303642166, 29.008901824598738, 26.829033344702424, 24.675749616576585, 22.748763020790985, 22.434851087700377, 21.552137016956088, 19.469577393547244, 19.09918690340434, 18.63458225807039, 17.400160299058264, 15.588602190444082, 15.430724249121104, 14.049656412445646, 13.816923269042206, 12.7473271724704, 11.993544148570484, 11.826076244841348, 11.0400393833317, 374.34212814775333, 196.83484296175195, 151.4721899776138, 147.804133404502, 130.86538036358243, 94.74568171348359, 84.1901642830992, 77.89137853566834, 58.170008108443426, 51.43450011294512, 44.39206510983921, 38.098028950800575, 34.93046302167127, 32.12996351132988, 28.986440849991723, 28.412695516697454, 27.481171801537926, 26.910225818565625, 26.60329448493746, 22.837690001667458, 22.68947605263395, 17.13893187423294, 15.429816668232414, 15.090320166256925, 14.89994808307482, 14.317164723915116, 12.833009237690144, 11.783684993232871, 10.688806353140151, 9.803694725259675], \"Category\": [\"Default\", \"Default\", \"Default\", \"Default\", \"Default\", \"Default\", \"Default\", \"Default\", \"Default\", \"Default\", \"Default\", \"Default\", \"Default\", \"Default\", \"Default\", \"Default\", \"Default\", \"Default\", \"Default\", \"Default\", \"Default\", \"Default\", \"Default\", \"Default\", \"Default\", \"Default\", \"Default\", \"Default\", \"Default\", \"Default\", \"Topic1\", \"Topic1\", \"Topic1\", \"Topic1\", \"Topic1\", \"Topic1\", \"Topic1\", \"Topic1\", \"Topic1\", \"Topic1\", \"Topic1\", \"Topic1\", \"Topic1\", \"Topic1\", \"Topic1\", \"Topic1\", \"Topic1\", \"Topic1\", \"Topic1\", \"Topic1\", \"Topic1\", \"Topic1\", \"Topic1\", \"Topic1\", \"Topic1\", \"Topic1\", \"Topic1\", \"Topic1\", \"Topic1\", \"Topic1\", \"Topic2\", \"Topic2\", \"Topic2\", \"Topic2\", \"Topic2\", \"Topic2\", \"Topic2\", \"Topic2\", \"Topic2\", \"Topic2\", \"Topic2\", \"Topic2\", \"Topic2\", \"Topic2\", \"Topic2\", \"Topic2\", \"Topic2\", \"Topic2\", \"Topic2\", \"Topic2\", \"Topic2\", \"Topic2\", \"Topic2\", \"Topic2\", \"Topic2\", \"Topic2\", \"Topic2\", \"Topic2\", \"Topic2\", \"Topic2\", \"Topic3\", \"Topic3\", \"Topic3\", \"Topic3\", \"Topic3\", \"Topic3\", \"Topic3\", \"Topic3\", \"Topic3\", \"Topic3\", \"Topic3\", \"Topic3\", \"Topic3\", \"Topic3\", \"Topic3\", \"Topic3\", \"Topic3\", \"Topic3\", \"Topic3\", \"Topic3\", \"Topic3\", \"Topic3\", \"Topic3\", \"Topic3\", \"Topic3\", \"Topic3\", \"Topic3\", \"Topic3\", \"Topic3\", \"Topic3\", \"Topic4\", \"Topic4\", \"Topic4\", \"Topic4\", \"Topic4\", \"Topic4\", \"Topic4\", \"Topic4\", \"Topic4\", \"Topic4\", \"Topic4\", \"Topic4\", \"Topic4\", \"Topic4\", \"Topic4\", \"Topic4\", \"Topic4\", \"Topic4\", \"Topic4\", \"Topic4\", \"Topic4\", \"Topic4\", \"Topic4\", \"Topic4\", \"Topic4\", \"Topic4\", \"Topic4\", \"Topic4\", \"Topic4\", \"Topic4\", \"Topic5\", \"Topic5\", \"Topic5\", \"Topic5\", \"Topic5\", \"Topic5\", \"Topic5\", \"Topic5\", \"Topic5\", \"Topic5\", \"Topic5\", \"Topic5\", \"Topic5\", \"Topic5\", \"Topic5\", \"Topic5\", \"Topic5\", \"Topic5\", \"Topic5\", \"Topic5\", \"Topic5\", \"Topic5\", \"Topic5\", \"Topic5\", \"Topic5\", \"Topic5\", \"Topic5\", \"Topic5\", \"Topic5\", \"Topic5\", \"Topic6\", \"Topic6\", \"Topic6\", \"Topic6\", \"Topic6\", \"Topic6\", \"Topic6\", \"Topic6\", \"Topic6\", \"Topic6\", \"Topic6\", \"Topic6\", \"Topic6\", \"Topic6\", \"Topic6\", \"Topic6\", \"Topic6\", \"Topic6\", \"Topic6\", \"Topic6\", \"Topic6\", \"Topic6\", \"Topic6\", \"Topic6\", \"Topic6\", \"Topic6\", \"Topic6\", \"Topic6\", \"Topic6\", \"Topic6\", \"Topic7\", \"Topic7\", \"Topic7\", \"Topic7\", \"Topic7\", \"Topic7\", \"Topic7\", \"Topic7\", \"Topic7\", \"Topic7\", \"Topic7\", \"Topic7\", \"Topic7\", \"Topic7\", \"Topic7\", \"Topic7\", \"Topic7\", \"Topic7\", \"Topic7\", \"Topic7\", \"Topic7\", \"Topic7\", \"Topic7\", \"Topic7\", \"Topic7\", \"Topic7\", \"Topic7\", \"Topic7\", \"Topic7\", \"Topic7\", \"Topic8\", \"Topic8\", \"Topic8\", \"Topic8\", \"Topic8\", \"Topic8\", \"Topic8\", \"Topic8\", \"Topic8\", \"Topic8\", \"Topic8\", \"Topic8\", \"Topic8\", \"Topic8\", \"Topic8\", \"Topic8\", \"Topic8\", \"Topic8\", \"Topic8\", \"Topic8\", \"Topic8\", \"Topic8\", \"Topic8\", \"Topic8\", \"Topic8\", \"Topic8\", \"Topic8\", \"Topic8\", \"Topic8\", \"Topic8\", \"Topic9\", \"Topic9\", \"Topic9\", \"Topic9\", \"Topic9\", \"Topic9\", \"Topic9\", \"Topic9\", \"Topic9\", \"Topic9\", \"Topic9\", \"Topic9\", \"Topic9\", \"Topic9\", \"Topic9\", \"Topic9\", \"Topic9\", \"Topic9\", \"Topic9\", \"Topic9\", \"Topic9\", \"Topic9\", \"Topic9\", \"Topic9\", \"Topic9\", \"Topic9\", \"Topic9\", \"Topic9\", \"Topic9\", \"Topic9\", \"Topic10\", \"Topic10\", \"Topic10\", \"Topic10\", \"Topic10\", \"Topic10\", \"Topic10\", \"Topic10\", \"Topic10\", \"Topic10\", \"Topic10\", \"Topic10\", \"Topic10\", \"Topic10\", \"Topic10\", \"Topic10\", \"Topic10\", \"Topic10\", \"Topic10\", \"Topic10\", \"Topic10\", \"Topic10\", \"Topic10\", \"Topic10\", \"Topic10\", \"Topic10\", \"Topic10\", \"Topic10\", \"Topic10\", \"Topic10\", \"Topic11\", \"Topic11\", \"Topic11\", \"Topic11\", \"Topic11\", \"Topic11\", \"Topic11\", \"Topic11\", \"Topic11\", \"Topic11\", \"Topic11\", \"Topic11\", \"Topic11\", \"Topic11\", \"Topic11\", \"Topic11\", \"Topic11\", \"Topic11\", \"Topic11\", \"Topic11\", \"Topic11\", \"Topic11\", \"Topic11\", \"Topic11\", \"Topic11\", \"Topic11\", \"Topic11\", \"Topic11\", \"Topic11\", \"Topic11\", \"Topic12\", \"Topic12\", \"Topic12\", \"Topic12\", \"Topic12\", \"Topic12\", \"Topic12\", \"Topic12\", \"Topic12\", \"Topic12\", \"Topic12\", \"Topic12\", \"Topic12\", \"Topic12\", \"Topic12\", \"Topic12\", \"Topic12\", \"Topic12\", \"Topic12\", \"Topic12\", \"Topic12\", \"Topic12\", \"Topic12\", \"Topic12\", \"Topic12\", \"Topic12\", \"Topic12\", \"Topic12\", \"Topic12\", \"Topic12\", \"Topic13\", \"Topic13\", \"Topic13\", \"Topic13\", \"Topic13\", \"Topic13\", \"Topic13\", \"Topic13\", \"Topic13\", \"Topic13\", \"Topic13\", \"Topic13\", \"Topic13\", \"Topic13\", \"Topic13\", \"Topic13\", \"Topic13\", \"Topic13\", \"Topic13\", \"Topic13\", \"Topic13\", \"Topic13\", \"Topic13\", \"Topic13\", \"Topic13\", \"Topic13\", \"Topic13\", \"Topic13\", \"Topic13\", \"Topic13\", \"Topic14\", \"Topic14\", \"Topic14\", \"Topic14\", \"Topic14\", \"Topic14\", \"Topic14\", \"Topic14\", \"Topic14\", \"Topic14\", \"Topic14\", \"Topic14\", \"Topic14\", \"Topic14\", \"Topic14\", \"Topic14\", \"Topic14\", \"Topic14\", \"Topic14\", \"Topic14\", \"Topic14\", \"Topic14\", \"Topic14\", \"Topic14\", \"Topic14\", \"Topic14\", \"Topic14\", \"Topic14\", \"Topic14\", \"Topic14\", \"Topic15\", \"Topic15\", \"Topic15\", \"Topic15\", \"Topic15\", \"Topic15\", \"Topic15\", \"Topic15\", \"Topic15\", \"Topic15\", \"Topic15\", \"Topic15\", \"Topic15\", \"Topic15\", \"Topic15\", \"Topic15\", \"Topic15\", \"Topic15\", \"Topic15\", \"Topic15\", \"Topic15\", \"Topic15\", \"Topic15\", \"Topic15\", \"Topic15\", \"Topic15\", \"Topic15\", \"Topic15\", \"Topic15\", \"Topic15\", \"Topic16\", \"Topic16\", \"Topic16\", \"Topic16\", \"Topic16\", \"Topic16\", \"Topic16\", \"Topic16\", \"Topic16\", \"Topic16\", \"Topic16\", \"Topic16\", \"Topic16\", \"Topic16\", \"Topic16\", \"Topic16\", \"Topic16\", \"Topic16\", \"Topic16\", \"Topic16\", \"Topic16\", \"Topic16\", \"Topic16\", \"Topic16\", \"Topic16\", \"Topic16\", \"Topic16\", \"Topic16\", \"Topic16\", \"Topic16\", \"Topic17\", \"Topic17\", \"Topic17\", \"Topic17\", \"Topic17\", \"Topic17\", \"Topic17\", \"Topic17\", \"Topic17\", \"Topic17\", \"Topic17\", \"Topic17\", \"Topic17\", \"Topic17\", \"Topic17\", \"Topic17\", \"Topic17\", \"Topic17\", \"Topic17\", \"Topic17\", \"Topic17\", \"Topic17\", \"Topic17\", \"Topic17\", \"Topic17\", \"Topic17\", \"Topic17\", \"Topic17\", \"Topic17\", \"Topic17\", \"Topic18\", \"Topic18\", \"Topic18\", \"Topic18\", \"Topic18\", \"Topic18\", \"Topic18\", \"Topic18\", \"Topic18\", \"Topic18\", \"Topic18\", \"Topic18\", \"Topic18\", \"Topic18\", \"Topic18\", \"Topic18\", \"Topic18\", \"Topic18\", \"Topic18\", \"Topic18\", \"Topic18\", \"Topic18\", \"Topic18\", \"Topic18\", \"Topic18\", \"Topic18\", \"Topic18\", \"Topic18\", \"Topic18\", \"Topic18\"], \"logprob\": [30.0, 29.0, 28.0, 27.0, 26.0, 25.0, 24.0, 23.0, 22.0, 21.0, 20.0, 19.0, 18.0, 17.0, 16.0, 15.0, 14.0, 13.0, 12.0, 11.0, 10.0, 9.0, 8.0, 7.0, 6.0, 5.0, 4.0, 3.0, 2.0, 1.0, -2.3138, -2.6978, -2.9783, -3.2339, -3.255, -3.3023, -3.5366, -3.5452, -3.6533, -3.6914, -3.7536, -3.7942, -3.8628, -3.969, -3.9701, -3.9798, -4.1199, -4.2423, -4.4078, -4.5444, -4.5711, -4.7373, -4.7648, -4.7742, -5.0408, -5.3243, -5.3274, -5.3312, -5.3496, -5.408, -2.1057, -2.2711, -2.442, -2.6916, -2.8187, -3.379, -3.6094, -3.9056, -3.9341, -4.0789, -4.1988, -4.2014, -4.2138, -4.4715, -4.5479, -4.5939, -4.6107, -4.7823, -4.8175, -4.8451, -4.8787, -5.1246, -5.1315, -5.1359, -5.1584, -5.2482, -5.2796, -5.3325, -5.407, -5.4751, -2.0063, -3.1425, -3.1557, -3.2998, -3.371, -3.4254, -3.529, -3.5362, -3.6651, -3.7318, -3.7419, -3.8034, -3.8139, -3.8429, -4.0012, -4.0068, -4.0875, -4.2815, -4.3416, -4.345, -4.4514, -4.4593, -4.5718, -4.6019, -4.7409, -4.7822, -4.896, -4.9587, -5.0923, -5.1147, -2.2263, -2.2528, -2.7395, -3.0785, -3.0902, -3.2947, -3.3027, -3.3417, -3.4462, -3.7875, -3.8432, -3.9178, -3.9263, -4.1004, -4.1157, -4.2095, -4.6597, -4.7011, -4.765, -4.8047, -4.8507, -4.9192, -5.4282, -5.4412, -5.4882, -5.5988, -5.6812, -5.9343, -5.9433, -5.9611, -2.2508, -2.5906, -2.7239, -2.849, -2.8518, -3.3045, -3.3632, -3.6393, -3.7232, -3.8038, -3.8867, -3.9089, -3.9101, -4.0462, -4.5855, -4.6235, -4.632, -4.6354, -4.7129, -4.7328, -4.8331, -4.9661, -4.9664, -5.0324, -5.1011, -5.1804, -5.3175, -5.3207, -5.3619, -5.4517, -2.5147, -2.5221, -2.8899, -2.9645, -3.0185, -3.0651, -3.2128, -3.2398, -3.3861, -3.534, -3.5528, -3.6725, -3.7048, -3.8043, -3.8978, -4.1796, -4.3208, -4.3222, -4.3798, -4.3887, -4.5477, -4.5832, -4.9352, -4.9814, -4.9866, -5.1288, -5.1786, -5.3619, -5.3666, -5.3893, -1.9963, -2.5925, -2.8198, -3.2409, -3.5517, -3.6368, -3.7882, -4.0239, -4.1454, -4.2436, -4.2442, -4.2888, -4.4311, -4.4608, -4.4627, -4.5221, -4.5511, -4.5821, -4.5942, -4.7366, -4.7578, -4.8558, -4.89, -4.908, -4.9745, -4.9786, -5.0383, -5.0653, -5.1199, -5.1512, -1.128, -2.8497, -3.2619, -3.264, -3.3652, -3.5731, -3.6782, -3.9557, -4.1474, -4.1539, -4.1797, -4.2713, -4.443, -4.5812, -4.5818, -4.6877, -4.8057, -4.9584, -5.0133, -5.2322, -5.2412, -5.2435, -5.2946, -5.3371, -5.4551, -5.4656, -5.4934, -5.6498, -5.6733, -5.6744, -2.6458, -2.7894, -2.8274, -2.8999, -3.0558, -3.0969, -3.1211, -3.2214, -3.4522, -3.5274, -3.6925, -4.0258, -4.0407, -4.3839, -4.4358, -4.4552, -4.4558, -4.5145, -4.5215, -4.8209, -4.9822, -4.987, -5.0194, -5.15, -5.1736, -5.1991, -5.2816, -5.3764, -5.4894, -5.4913, -1.8474, -1.9063, -2.2447, -2.4941, -3.0464, -3.2706, -3.4357, -3.786, -4.3957, -4.4069, -4.4136, -4.4286, -4.5, -4.6531, -4.9079, -4.9642, -5.0081, -5.0548, -5.0675, -5.1029, -5.1048, -5.1122, -5.1923, -5.1935, -5.2131, -5.2438, -5.3374, -5.4308, -5.5271, -5.6197, -1.188, -1.737, -2.5365, -2.9332, -3.2965, -3.3681, -3.79, -4.0394, -4.1544, -4.391, -4.4813, -4.5681, -4.7752, -4.9089, -4.9206, -5.0069, -5.098, -5.2313, -5.3745, -5.395, -5.4663, -5.8109, -5.8212, -5.8544, -5.9539, -5.9884, -6.0413, -6.048, -6.0619, -6.0724, -1.0318, -2.1209, -3.0832, -3.1189, -3.1281, -3.3503, -4.014, -4.106, -4.3204, -4.3631, -4.5426, -4.5455, -4.5957, -4.7029, -4.7244, -4.7461, -4.9163, -4.9419, -5.0906, -5.187, -5.2764, -5.2899, -5.3025, -5.3702, -5.4826, -5.6215, -5.6493, -5.6595, -5.689, -5.7628, -2.1553, -2.5189, -2.716, -2.7247, -3.0613, -3.3792, -3.4287, -3.4491, -3.5441, -3.5834, -3.616, -3.692, -4.2185, -4.2981, -4.3124, -4.3566, -4.4576, -4.5812, -4.6537, -4.6568, -4.7341, -4.7388, -4.7512, -4.8147, -4.9006, -5.201, -5.2307, -5.2727, -5.3887, -5.4263, -1.5615, -2.0512, -2.855, -3.0513, -3.3155, -3.5975, -3.7483, -3.81, -3.9242, -4.0562, -4.2428, -4.2836, -4.3008, -4.4359, -4.5984, -4.599, -4.6592, -4.7063, -4.7633, -4.9349, -4.9862, -5.0841, -5.1545, -5.1598, -5.1863, -5.2105, -5.2243, -5.2794, -5.3034, -5.3313, -0.6881, -2.3531, -3.4863, -3.5718, -3.6886, -3.9382, -3.9619, -3.9765, -4.3859, -4.5748, -4.6778, -4.9724, -5.0772, -5.2489, -5.2778, -5.4067, -5.4506, -5.5906, -5.6132, -5.618, -5.6453, -5.6851, -5.7628, -5.8205, -5.8354, -5.8862, -5.9371, -6.0014, -6.0018, -6.0575, -2.4373, -2.6227, -2.9244, -2.9442, -3.0313, -3.3397, -3.5912, -3.6101, -3.7347, -3.8251, -3.8324, -3.8352, -3.8904, -3.8915, -4.026, -4.1585, -4.1889, -4.3297, -4.369, -4.462, -4.6397, -4.6775, -4.9261, -4.9877, -5.016, -5.0188, -5.0464, -5.0754, -5.2373, -5.3015, -1.7049, -2.1034, -2.5101, -2.8189, -3.6342, -3.7487, -3.8527, -3.9345, -4.0154, -4.1726, -4.2142, -4.3356, -4.3875, -4.4693, -4.5571, -4.6429, -4.6576, -4.7001, -4.8082, -4.8287, -4.8551, -4.9287, -5.0475, -5.0585, -5.1608, -5.1792, -5.268, -5.3357, -5.3513, -5.4284, -1.8248, -2.4706, -2.7345, -2.7592, -2.882, -3.2086, -3.3284, -3.4073, -3.7047, -3.8306, -3.9818, -4.1394, -4.2292, -4.316, -4.4233, -4.4442, -4.4791, -4.5011, -4.5131, -4.6737, -4.6806, -4.9799, -5.0936, -5.1178, -5.1316, -5.1752, -5.2956, -5.3904, -5.5, -5.5982], \"loglift\": [30.0, 29.0, 28.0, 27.0, 26.0, 25.0, 24.0, 23.0, 22.0, 21.0, 20.0, 19.0, 18.0, 17.0, 16.0, 15.0, 14.0, 13.0, 12.0, 11.0, 10.0, 9.0, 8.0, 7.0, 6.0, 5.0, 4.0, 3.0, 2.0, 1.0, 3.0452, 3.0423, 3.0394, 3.0359, 3.0355, 3.0348, 3.0304, 3.0302, 3.0278, 3.0269, 3.0254, 3.0243, 3.0224, 3.0192, 3.0192, 3.0189, 3.014, 3.0093, 3.0019, 2.9948, 2.9933, 2.9832, 2.9813, 2.9807, 2.96, 2.9318, 2.9314, 2.931, 2.9289, 2.922, 2.9601, 2.9592, 2.9582, 2.9564, 2.9552, 2.9482, 2.9439, 2.9368, 2.936, 2.9316, 2.9275, 2.9274, 2.9269, 2.9161, 2.9123, 2.9099, 2.909, 2.8989, 2.8967, 2.8948, 2.8925, 2.8733, 2.8727, 2.8723, 2.8703, 2.8619, 2.8587, 2.8533, 2.8452, 2.8373, 2.9576, 2.9487, 2.9485, 2.9465, 2.9454, 2.9445, 2.9426, 2.9425, 2.9398, 2.9383, 2.9381, 2.9366, 2.9364, 2.9356, 2.9312, 2.931, 2.9285, 2.9215, 2.9191, 2.9189, 2.9142, 2.9139, 2.9083, 2.9067, 2.8987, 2.8962, 2.8885, 2.884, 2.8733, 2.8714, 3.0002, 3.0, 2.9965, 2.9929, 2.9927, 2.9898, 2.9897, 2.9891, 2.9873, 2.9799, 2.9784, 2.9763, 2.9761, 2.9706, 2.97, 2.9666, 2.9451, 2.9426, 2.9386, 2.936, 2.9328, 2.9278, 2.8793, 2.8778, 2.872, 2.8575, 2.8457, 2.8041, 2.8024, 2.7991, 3.0194, 3.0171, 3.016, 3.0148, 3.0147, 3.0088, 3.0079, 3.0024, 3.0005, 2.9984, 2.9961, 2.9955, 2.9955, 2.9912, 2.9677, 2.9655, 2.965, 2.9648, 2.9601, 2.9588, 2.9521, 2.9421, 2.9421, 2.9367, 2.9307, 2.9233, 2.9091, 2.9088, 2.9042, 2.8935, 2.83, 2.8299, 2.8272, 2.8265, 2.8259, 2.8254, 2.8237, 2.8234, 2.8214, 2.8191, 2.8187, 2.8165, 2.8159, 2.8138, 2.8116, 2.8038, 2.7989, 2.7989, 2.7967, 2.7964, 2.7897, 2.788, 2.7684, 2.7653, 2.7649, 2.7545, 2.7505, 2.7341, 2.7336, 2.7314, 3.0269, 3.0233, 3.0213, 3.016, 3.0105, 3.0087, 3.005, 2.9982, 2.994, 2.9902, 2.9902, 2.9883, 2.9819, 2.9804, 2.9803, 2.9773, 2.9758, 2.9741, 2.9734, 2.9648, 2.9634, 2.9567, 2.9542, 2.9528, 2.9477, 2.9473, 2.9424, 2.9401, 2.9352, 2.9323, 2.9284, 2.9206, 2.9158, 2.9158, 2.9142, 2.9106, 2.9085, 2.9016, 2.8957, 2.8955, 2.8946, 2.8912, 2.8841, 2.8774, 2.8774, 2.8717, 2.8646, 2.8542, 2.8501, 2.8314, 2.8306, 2.8303, 2.8254, 2.8211, 2.8082, 2.807, 2.8037, 2.7838, 2.7806, 2.7805, 2.9807, 2.9794, 2.979, 2.9783, 2.9766, 2.976, 2.9757, 2.9744, 2.9706, 2.9692, 2.9658, 2.9568, 2.9563, 2.9433, 2.9409, 2.94, 2.94, 2.9371, 2.9367, 2.9192, 2.9074, 2.9071, 2.9045, 2.8933, 2.8911, 2.8887, 2.8805, 2.8704, 2.8571, 2.8569, 2.7972, 2.797, 2.7957, 2.7944, 2.7901, 2.7875, 2.7853, 2.779, 2.7615, 2.7611, 2.7608, 2.7602, 2.7573, 2.7504, 2.7363, 2.7328, 2.7298, 2.7266, 2.7257, 2.7231, 2.7229, 2.7224, 2.7161, 2.716, 2.7145, 2.7119, 2.7036, 2.6946, 2.6846, 2.674, 2.6721, 2.6711, 2.6681, 2.6654, 2.6619, 2.6611, 2.6546, 2.6493, 2.6463, 2.6392, 2.636, 2.6327, 2.6235, 2.6166, 2.6159, 2.6109, 2.6051, 2.5957, 2.5843, 2.5825, 2.5761, 2.5386, 2.5373, 2.533, 2.5194, 2.5144, 2.5064, 2.5054, 2.5032, 2.5016, 2.6459, 2.6435, 2.6379, 2.6376, 2.6375, 2.6351, 2.624, 2.6218, 2.6159, 2.6146, 2.6083, 2.6082, 2.6063, 2.6017, 2.6008, 2.5998, 2.5913, 2.5898, 2.581, 2.5745, 2.568, 2.567, 2.566, 2.5606, 2.5508, 2.5372, 2.5342, 2.5331, 2.5299, 2.5215, 2.9835, 2.9812, 2.9797, 2.9796, 2.976, 2.9714, 2.9706, 2.9702, 2.9684, 2.9676, 2.9669, 2.9652, 2.9494, 2.9462, 2.9456, 2.9437, 2.9391, 2.9328, 2.9287, 2.9285, 2.9238, 2.9236, 2.9228, 2.9186, 2.9126, 2.8873, 2.8844, 2.8801, 2.8676, 2.8632, 2.8213, 2.8198, 2.8151, 2.8132, 2.8101, 2.8057, 2.8028, 2.8015, 2.7988, 2.7954, 2.7897, 2.7883, 2.7877, 2.7826, 2.7755, 2.7755, 2.7726, 2.7702, 2.7672, 2.7569, 2.7535, 2.7466, 2.7412, 2.7408, 2.7387, 2.7367, 2.7355, 2.7307, 2.7286, 2.726, 2.6282, 2.6246, 2.6156, 2.6144, 2.6126, 2.608, 2.6075, 2.6072, 2.5963, 2.5896, 2.5855, 2.571, 2.5648, 2.5532, 2.551, 2.5408, 2.537, 2.5239, 2.5216, 2.5211, 2.5183, 2.514, 2.5053, 2.4984, 2.4966, 2.4901, 2.4834, 2.4744, 2.4744, 2.4662, 3.004, 3.0026, 2.9997, 2.9995, 2.9985, 2.9941, 2.9894, 2.989, 2.9861, 2.9838, 2.9836, 2.9836, 2.9821, 2.982, 2.978, 2.9734, 2.9723, 2.9666, 2.9648, 2.9605, 2.951, 2.9488, 2.932, 2.9271, 2.9249, 2.9246, 2.9223, 2.9198, 2.9047, 2.898, 2.925, 2.9236, 2.9213, 2.9189, 2.9074, 2.905, 2.9025, 2.9003, 2.898, 2.893, 2.8915, 2.8869, 2.8847, 2.8811, 2.8769, 2.8725, 2.8717, 2.8693, 2.8628, 2.8615, 2.8598, 2.8547, 2.8459, 2.845, 2.8364, 2.8348, 2.8266, 2.8199, 2.8182, 2.8099, 2.8899, 2.8869, 2.885, 2.8848, 2.8837, 2.8801, 2.8785, 2.8772, 2.8718, 2.8689, 2.865, 2.8603, 2.8573, 2.8541, 2.8498, 2.8489, 2.8473, 2.8463, 2.8458, 2.8377, 2.8374, 2.8186, 2.81, 2.808, 2.8069, 2.8032, 2.7923, 2.7828, 2.7707, 2.7589]}, \"token.table\": {\"Topic\": [18, 10, 10, 9, 15, 3, 17, 18, 16, 16, 9, 16, 18, 6, 14, 4, 7, 15, 15, 2, 5, 7, 2, 7, 16, 2, 13, 8, 15, 5, 7, 4, 18, 16, 8, 2, 17, 7, 15, 7, 9, 18, 17, 5, 9, 14, 10, 5, 15, 9, 7, 14, 8, 5, 3, 5, 15, 14, 3, 4, 13, 12, 5, 13, 6, 10, 16, 8, 5, 1, 8, 15, 18, 3, 6, 3, 11, 10, 12, 18, 12, 7, 3, 11, 6, 1, 12, 9, 3, 2, 2, 13, 11, 18, 6, 11, 4, 7, 9, 7, 11, 7, 2, 7, 13, 1, 16, 2, 15, 18, 15, 3, 16, 9, 13, 16, 10, 9, 8, 11, 14, 15, 8, 8, 17, 6, 4, 4, 10, 5, 4, 5, 13, 4, 14, 8, 12, 8, 15, 14, 14, 11, 6, 4, 12, 6, 3, 10, 7, 3, 16, 11, 10, 17, 7, 5, 2, 6, 11, 3, 3, 5, 13, 4, 11, 16, 6, 17, 16, 18, 14, 10, 15, 6, 17, 14, 7, 13, 3, 8, 11, 14, 2, 3, 12, 2, 15, 14, 1, 17, 9, 12, 14, 1, 9, 10, 11, 3, 17, 12, 16, 13, 1, 8, 18, 9, 18, 1, 16, 14, 7, 18, 1, 15, 9, 10, 14, 5, 14, 11, 15, 13, 1, 11, 5, 4, 18, 16, 18, 6, 12, 9, 5, 10, 5, 17, 13, 11, 7, 14, 8, 8, 10, 10, 3, 2, 1, 1, 12, 16, 4, 9, 4, 12, 1, 6, 12, 1, 7, 16, 12, 17, 7, 3, 10, 8, 14, 15, 4, 9, 8, 6, 2, 14, 2, 15, 3, 5, 7, 16, 17, 13, 9, 13, 1, 3, 15, 13, 1, 8, 2, 16, 12, 9, 5, 18, 3, 9, 1, 11, 5, 4, 18, 17, 10, 1, 5, 18, 1, 14, 6, 12, 12, 11, 12, 12, 5, 6, 16, 10, 6, 2, 4, 10, 13, 3, 7, 5, 2, 17, 6, 6, 17, 2, 2, 11, 17, 14, 2, 5, 2, 8, 14, 13, 12, 18, 18, 8, 12, 18, 6, 13, 17, 1, 12, 13, 17, 17, 1, 4, 2, 11, 10, 14, 11, 13, 14, 13, 15, 11, 4, 11, 18, 2, 12, 8, 2, 8, 7, 3, 9, 13, 16, 3, 4, 5, 10, 13, 18, 9, 15, 16, 13, 10, 4, 7, 15, 7, 10, 8, 1, 1, 16, 6, 4, 7, 16, 14, 12, 9, 18, 7, 17, 15, 15, 15, 7, 7, 10, 6, 15, 12, 10, 10, 10, 3, 2, 7, 18, 4, 6, 2, 10, 9, 18, 2, 18, 16, 9, 13, 6, 3, 17, 4, 4, 14, 14, 4, 9, 1, 1, 11, 2, 8, 11, 11, 14, 1, 11, 13, 11, 6, 1, 18, 2, 15, 11, 8, 9, 12, 4, 8, 17, 17, 8, 3, 12, 2, 6, 13, 1, 5, 5, 8, 3, 3, 13, 6, 3, 5, 16, 12, 9, 16, 13, 5, 17, 5, 6, 6, 12, 15, 11, 9, 15, 17, 1, 8, 10, 12, 1, 6, 16, 13, 17, 17, 3, 14, 7, 18, 11, 5, 17, 4, 8, 15, 16, 10, 1, 17, 4, 4, 9, 4, 9, 17, 14, 18, 16, 8], \"Freq\": [0.9885561335230425, 0.9923998635944135, 0.9487776867328969, 0.9867282802233455, 0.804261157712986, 0.9816754783291554, 0.9652209576667526, 0.963319845325587, 0.9760528233932977, 0.9586021693937261, 0.9877565681910447, 0.9233897687459232, 0.9686415780298838, 0.9766127291910235, 0.9069486857339047, 0.8836229804999401, 0.9887129030864129, 0.9479623352570369, 0.9973832115876667, 0.96439775227072, 0.9694912542789027, 0.927805729525312, 0.9684671175568998, 0.9243759370377443, 0.9048007132387822, 0.8764126358679915, 0.957221006109208, 0.9553080948104327, 0.9565791281571067, 0.8977618684298649, 0.9829097552144935, 0.9854510549117041, 0.9945594660583591, 0.9893588529722862, 0.9126484552312578, 0.8813185340341886, 0.9963820255725634, 0.961972387233756, 0.983866405829206, 0.9761946580757448, 0.9354836498474886, 0.9350885499837699, 0.925289531527915, 0.8708426680045054, 0.9840100497058999, 0.9791530802146952, 0.9957859856225841, 0.9263764811053532, 0.9789706562023767, 0.9083350639933018, 0.9327393640089783, 0.947308212091083, 0.998552853085022, 0.9539292338201223, 0.9604078850872488, 0.9889319511779948, 0.902237887050441, 0.9720152543915713, 0.9461450971631437, 0.9613689612893644, 0.9515358670964661, 0.9249916107189536, 0.907149616270641, 0.9842575243985554, 0.992087685107812, 0.9509212576965121, 0.9613908282180688, 0.978827333003684, 0.9539348864178774, 0.9682550544889595, 0.9286626687582417, 0.9839169893946981, 0.925539221411954, 0.9723029391709442, 0.9554634444633677, 0.9716983805610009, 0.9845223013134644, 0.8923124405569928, 0.9491058713643864, 0.9711788514776301, 0.975725520014669, 0.996429814016658, 0.9817201122301097, 0.8259900072727295, 0.8857169332442016, 0.9610656408264803, 0.9932358506496539, 0.9355689251546737, 0.9622430193471678, 0.9353948933520579, 0.9671879907705517, 0.9428624708619843, 0.8791291896668328, 0.9073341764859603, 0.9779222036580774, 0.8019667044882082, 0.9864021427354035, 0.9314614662969772, 0.9259510697281141, 0.9404708759566772, 0.9793366054481585, 0.9662675299472573, 0.9015372404442549, 0.9699093483432724, 0.9721215186573084, 0.917435513391283, 0.9716939903158702, 0.8594394615065966, 0.9163596598915917, 0.9659688867944611, 0.8434169850799875, 0.9206037629845683, 0.984656011813283, 0.9876935041070591, 0.983604214615601, 0.9417835446079276, 0.9073547363002956, 0.8943294414620474, 0.8645986758061996, 0.8903021349458461, 0.954547686216029, 0.9801015650262201, 0.9835290615121713, 0.8808882759872937, 0.9413738141055675, 0.867842435787899, 0.7467072468998978, 0.9551474697469728, 0.9856428499272694, 0.9904349521178764, 0.9361265490182896, 0.9312370002599398, 0.9222084846488021, 0.9683394376802091, 0.9037983335302652, 0.9467423553546354, 0.9595648360920792, 0.933807081693144, 0.9368439462740635, 0.9302151498934085, 0.9930719721468817, 0.9742537835240898, 0.9417885456532324, 0.9208334282646817, 0.8574644742327762, 0.9307132872543581, 0.9752078818558187, 0.9827338334117467, 0.9932749098638575, 0.9335544223549542, 0.9850810830932858, 0.9742267804037718, 0.8875583719780268, 0.8980920693827247, 0.9263255704628071, 0.9798567661596663, 0.9917296211204437, 0.9856499348865662, 0.9071462984395072, 0.9884829569098288, 0.9678119506707137, 0.9463636675197302, 0.8807979524624227, 0.9928712584043484, 0.863975297154771, 0.9531676390074799, 0.9931271517613618, 0.9793439447913702, 0.9829617032398951, 0.9396005893405031, 0.9963271078162106, 0.9627791730145777, 0.9245519199206986, 0.9463676797584278, 0.9631315683476874, 0.9752427920794285, 0.9529927929472624, 0.9690238002577265, 0.9312939801815087, 0.990268670085998, 0.9966681868634503, 0.9046416370511156, 0.9340481684814537, 0.9815653752619187, 0.9200336122555397, 0.9183784896687234, 0.8039879573598863, 0.9763711974878403, 0.9597205488624444, 0.9690993956416204, 0.9804283728049955, 0.8535177197756991, 0.9439475161851302, 0.9635192442461123, 0.9887568822406648, 0.943275829387274, 0.9110857159545479, 0.9840660941075289, 0.9424484974693652, 0.9899844452885438, 0.9331733363124127, 0.9657450098206898, 0.9600168447852907, 0.9646249041942657, 0.9080010079289687, 0.9098224772614639, 0.9334940645746279, 0.9788582827917077, 0.8992008766993949, 0.9352209569555284, 0.9866407059083112, 0.9721101573886185, 0.9815602743688925, 0.9729174637004898, 0.9360860448788002, 0.951389300371093, 0.9477064100343763, 0.9117998864467208, 0.9592658711910018, 0.9546250272073644, 0.8836190611302437, 0.9354533679539242, 0.8485982031222474, 0.841090292342218, 0.986201722389329, 0.918695570473981, 0.9933872475579244, 0.9838783109316875, 0.9397332354515253, 0.9877134112010774, 0.9991203286287159, 0.9869948379849027, 0.9962769511039562, 0.9878581207825025, 0.9808115844144596, 0.9670855500975301, 0.9272514035702268, 0.9192884202187142, 0.9100586262295606, 0.8842298669717954, 0.9558166397573051, 0.9220930972332237, 0.8899793886997053, 0.8995304838084338, 0.9862595631487892, 0.9671575599043003, 0.9876768295703916, 0.9495260020525453, 0.888368754256171, 0.9533419343714268, 0.993741562578483, 0.9685219874386782, 0.981504489047084, 0.9322934636317892, 0.970713489488748, 0.9865668764767227, 0.9384128038101198, 0.9244966363960818, 0.9466907505169239, 0.9706526440090735, 0.9449228549153819, 0.9245192967550337, 0.9181115325191818, 0.9540359851410787, 0.9956898800405922, 0.9826726461729015, 0.9869117313939404, 0.9493686977450353, 0.7522071859317337, 0.9700194523105531, 0.9201887836730246, 0.989932282970087, 0.9532457113420715, 0.954030895103038, 0.9258395149897423, 0.9480637353657265, 0.9649480727286222, 0.8995780350937342, 0.9615206559478766, 0.9845251890317394, 0.9408751678550187, 0.9960254009773142, 0.9468735460908633, 0.9146879377760639, 0.9491714206386324, 0.9820876167692809, 0.8803085766631653, 0.9125282563741622, 0.8934473836528356, 0.9575206210455163, 0.9551604061158917, 0.9442159828298974, 0.9278126484073795, 0.898777393401443, 0.9569994016902507, 0.9798864028648193, 0.91498571406568, 0.9566354701263071, 0.9233989967973598, 0.9252622137758164, 0.9759023797549482, 0.9763884749135039, 0.9902807903032803, 0.9072808102832507, 0.8616087738022775, 0.9734274082118839, 0.8952620480271326, 0.9733624194705349, 0.9922055282339157, 0.9985973010837507, 0.9869753172820128, 0.9800074835073602, 0.8854788386819263, 0.9428542150873311, 0.9558503088420053, 0.9639504942222599, 0.9783718925345466, 0.9551372209092138, 0.9731612645519289, 0.9176713808690662, 0.976154313087331, 0.9780135487523128, 0.9779363965339917, 0.9127962082090615, 0.9826154045721155, 0.9146698751672484, 0.9338085571613377, 0.9586736764853467, 0.956794568809002, 0.9629866100431329, 0.9874098825200697, 0.9803578847913795, 0.9660453240681753, 0.9742237122144589, 0.9316756474863583, 0.8688440783887291, 0.9171600874384654, 0.9732580517301269, 0.9931642231153225, 0.8840831519974734, 0.9556229260454231, 0.9238530319854669, 0.8912533173190339, 0.9401103549695008, 0.9162929295501466, 0.9277470488204113, 0.9661754670992894, 0.8851763312964617, 0.9967212201305174, 0.9461023055263228, 0.971086799399215, 0.9861607851015973, 0.9122823235083536, 0.9905977414266832, 0.9386428955201033, 0.9791185947312805, 0.9320892113668208, 0.9965929661975101, 0.9453693301031891, 0.9706156682216162, 0.8778057559811286, 0.9892488309063243, 0.8818997620761687, 0.9855936244121967, 0.9940399316583148, 0.9473066184964212, 0.9001936001719822, 0.9916730116352039, 0.9594095407868457, 0.886946203192935, 0.9583777243756083, 0.8935208046155468, 0.9335470913479015, 0.956026320596638, 0.9607505917071588, 0.9594034071986732, 0.993891031290863, 0.9724776471026507, 0.9049190762858508, 0.9571574684816639, 0.913643437134256, 0.916548927359165, 0.963743777950811, 0.9605517394973152, 0.9195952085667896, 0.9777393325180636, 0.9293695813294391, 0.9627091613211379, 0.9964147018279931, 0.9134909484640064, 0.9889577279127508, 0.8712694593582365, 0.9903497685061152, 0.911781306652864, 0.9495637667940576, 0.9517769369349008, 0.998894352259624, 0.9523587299077849, 0.9285253365200696, 0.9654775912372604, 0.9219621535728241, 0.9454670360254341, 0.9176105564613192, 0.952603160612335, 0.8461569886408811, 0.9388306728395325, 0.9288455775887254, 0.9371465956260622, 0.8653444190032711, 0.9350312893279638, 0.9502794264673956, 0.9309556789194285, 0.9842020505242683, 0.9869085844781946, 0.9021535204434061, 0.8983518217030315, 0.9658279003484005, 0.962448287516801, 0.9524254453494878, 0.9754311832745409, 0.8398269405386203, 0.9646978266082965, 0.9961823451337798, 0.9500981678058293, 0.9689824806478694, 0.9532933494461243, 0.9271383767485449, 0.9160497080367329, 0.9858633809158855, 0.8736368604566324, 0.9917708184528494, 0.9914333737073308, 0.9011661179546271, 0.9868920292822125, 0.9180212411970644, 0.9942086292585943, 0.8420023436345617, 0.9848200006806167, 0.8947665389374017, 0.9719037192160005, 0.9478055311272576, 0.9456849413588861, 0.9301479013208891, 0.9726019501099515, 0.9833702649577779, 0.9704388268505418, 0.9829517094590241, 0.9884996467890053, 0.9232368644549116, 0.9285228637934494, 0.9701203041267032, 0.9989803594307131, 0.935470451349235, 0.9614687104572198, 0.9005406324204543, 0.9324902275280783, 0.9269095816222518, 0.987604772535951, 0.980799398100651, 0.9368891250786876, 0.9388609694154383, 0.9954027793881112, 0.960550871064433, 0.9648314723130194, 0.9116202349176062, 0.870972897358219, 0.9627962895533204, 0.843638699460014, 0.9485741711222374, 0.9769936642644662, 0.9011190951220058, 0.9468095291878418, 0.905793870182931, 0.953151992043639, 0.8997813549537242, 0.9807238880155666, 0.9613824942792191, 0.9083871265385254, 0.8641210300585147, 0.9292717297775952, 0.9866652219423094, 0.9211839952558588, 0.9725219214824459, 0.9806451467034235, 0.8964541222704522, 0.9786919421793772, 0.8580129204701432, 0.9565643790710121, 0.9728089042275688, 0.9917524339658902, 0.9479473489646572, 0.993892503107898, 0.9905635791698528, 0.9752637321584108, 0.9874707432083467, 0.9794446988622815, 0.9279822221000661, 0.9115240151464831, 0.9513973780016839, 0.9766011917114789, 0.9689223635837833, 0.8693800842559319, 0.9913801438843732, 0.9549170944493214, 0.8952065701293217, 0.9195317586163821, 0.9831166354245354, 0.9195718103544245, 0.9335777615693169, 0.9918536206120107, 0.9276175811541703, 0.9817176929465642, 0.9943604524207141, 0.9901807998872336, 0.9511110144724855, 0.9955430868242302, 0.997278217453038, 0.9753138461387333, 0.9821893892175414, 0.995758662698178, 0.9680901333899964, 0.9437739581205037, 0.9883146538382842, 0.9940065764606804, 0.9870216369346989, 0.8318636172500558, 0.9860637941964729, 0.9952762142969281, 0.9412036429970366, 0.9794806455692449, 0.9833862709984234, 0.9664812163421674, 0.9895893653283601, 0.7631968602663389, 0.9919485161386001, 0.9360436544868793, 0.9372492679319938, 0.9921296496051548, 0.9562527017461365, 0.8989142242671263], \"Term\": [\"access\", \"accommodation\", \"act\", \"activity\", \"addition\", \"adult\", \"adult_child\", \"adult_weekend\", \"afternoon\", \"age\", \"air\", \"alarm\", \"amenity\", \"amount\", \"amusement\", \"animal\", \"apartment\", \"arcade\", \"area\", \"arrival\", \"ate\", \"ate_restaurant\", \"atmosphere\", \"attention\", \"attitude\", \"attraction\", \"baby\", \"bag\", \"balcony\", \"band\", \"base\", \"bath\", \"bathroom\", \"beach\", \"beachcomber\", \"beauty\", \"bed\", \"bed_comfy\", \"bedroom\", \"beer\", \"bike\", \"bill\", \"bingo\", \"bird\", \"birthday\", \"biscuit\", \"bit\", \"board\", \"book\", \"bother\", \"bottom\", \"boy\", \"breakfast\", \"budget\", \"buffet\", \"building\", \"bunk\", \"burger\", \"business\", \"butin\", \"cake\", \"camp\", \"capacity\", \"car\", \"car_park\", \"card\", \"care\", \"carpet\", \"carvery\", \"case\", \"cater\", \"centre\", \"centre_stage\", \"chair\", \"character\", \"charge\", \"check\", \"checkout\", \"chef\", \"chichester\", \"chicken\", \"child\", \"chip\", \"chip_restaurant\", \"chip_shop\", \"chocolate\", \"choice\", \"choice_food\", \"christmas\", \"christmas_party\", \"class\", \"cleanliness\", \"clock\", \"clothes\", \"coast\", \"coat\", \"coffee\", \"coffee_facility\", \"cold\", \"comfort\", \"comfy\", \"comfy_bed\", \"comment\", \"communication\", \"company\", \"complain\", \"complaint\", \"control\", \"conversation\", \"cook\", \"cooking\", \"corner\", \"cost\", \"couple\", \"course\", \"cream\", \"criticism\", \"cross\", \"cup\", \"cupboard\", \"curtain\", \"customer\", \"customer_service\", \"cutlery\", \"dad\", \"dance_floor\", \"dark\", \"date\", \"daughter\", \"day\", \"decent\", \"deck\", \"deck_restaurant\", \"decor\", \"decoration\", \"desk\", \"dessert\", \"detail\", \"difference\", \"diner\", \"dinner\", \"dirty\", \"disappointment\", \"disaster\", \"disco\", \"dish\", \"distance\", \"dog\", \"door\", \"downstairs\", \"drink\", \"drive\", \"drop\", \"duck\", \"effort\", \"end\", \"entertainment\", \"entrance\", \"entry\", \"evening\", \"event\", \"example\", \"expectation\", \"experience\", \"eye\", \"fab\", \"facility\", \"fact\", \"fair\", \"fairground\", \"family\", \"family_holiday\", \"family_meal\", \"family_visit\", \"fan\", \"fault\", \"feeling\", \"fire\", \"fish\", \"floor\", \"food\", \"food_court\", \"food_drink\", \"food_good\", \"food_ok\", \"food_outlet\", \"food_quality\", \"food_restaurant\", \"food_service\", \"foot\", \"football\", \"form\", \"friday\", \"fridge\", \"friend\", \"front\", \"fry\", \"fun\", \"funfair\", \"garden\", \"gate\", \"gem\", \"girl\", \"glass\", \"glass_wine\", \"god\", \"gold_apartment\", \"good\", \"granddaughter\", \"gripe\", \"ground\", \"ground_floor\", \"group\", \"guest\", \"guy\", \"hair\", \"hair_dryer\", \"hairdryer\", \"hand\", \"head\", \"head_office\", \"heart\", \"heater\", \"height\", \"helpful\", \"highlight\", \"holiday\", \"home\", \"hope\", \"host\", \"hotel\", \"hour\", \"house\", \"husband\", \"i\", \"ice_cream\", \"idea\", \"impression\", \"improvement\", \"info\", \"information\", \"instruction\", \"interest\", \"internet\", \"issue\", \"item\", \"job\", \"joy\", \"june\", \"kettle\", \"kid\", \"kind\", \"kitchen\", \"knowledge\", \"lack\", \"lady\", \"lamb\", \"law\", \"leisure\", \"level\", \"life\", \"light\", \"line\", \"load\", \"location\", \"look\", \"lot\", \"lot_choice\", \"lot_storage\", \"lounge\", \"luggage\", \"lunch\", \"luxury\", \"machine\", \"maintenance\", \"making\", \"man\", \"manage\", \"management\", \"manager\", \"manner\", \"meal\", \"meat\", \"meet\", \"member\", \"member_staff\", \"memory\", \"men\", \"metal\", \"milk\", \"min\", \"min_walk\", \"mind\", \"mini\", \"mini_fridge\", \"minute\", \"mirror\", \"mix\", \"moment\", \"monday\", \"money\", \"month\", \"morning\", \"mould\", \"mum\", \"music\", \"music_weekend\", \"name\", \"need\", \"night\", \"night_stay\", \"noise\", \"non\", \"note\", \"notice\", \"number\", \"occasion\", \"offering\", \"ok\", \"opinion\", \"option\", \"order\", \"others\", \"outdoor\", \"owner\", \"pack\", \"package\", \"paint\", \"papa_john\", \"parent\", \"park\", \"part\", \"partner\", \"party\", \"pas\", \"pastry\", \"pavilion\", \"pay\", \"people\", \"period\", \"person\", \"phone\", \"photo\", \"picture\", \"pie\", \"piece\", \"pillow\", \"pizza\", \"place\", \"place_visit\", \"plate\", \"play\", \"play_area\", \"plenty\", \"plug\", \"point\", \"polite\", \"pool\", \"pool_area\", \"portion\", \"presentation\", \"price\", \"pricey\", \"problem\", \"pub\", \"pub_grub\", \"pub_kitchen\", \"quality\", \"quality_food\", \"question\", \"queue\", \"quieter\", \"quirky\", \"rain\", \"range\", \"reason\", \"reception\", \"reception_staff\", \"recommendation\", \"refund\", \"relation\", \"relax\", \"request\", \"requirement\", \"resident\", \"resort\", \"respect\", \"rest\", \"restaurant\", \"restriction\", \"review\", \"rib\", \"road\", \"roast_dinner\", \"roll\", \"roof\", \"room\", \"room_comfy\", \"rope\", \"round\", \"rubbish\", \"rule\", \"safety\", \"salad\", \"sale\", \"salisbury\", \"sandwich\", \"saturday\", \"saturday_night\", \"sauna\", \"school\", \"screen\", \"sea\", \"sea_view\", \"seaside\", \"season\", \"seat\", \"section\", \"security\", \"selection\", \"selection_food\", \"self\", \"service\", \"session\", \"shame\", \"sheet\", \"shelf\", \"shoe\", \"shop\", \"shop_site\", \"show\", \"shower\", \"shut\", \"side\", \"silver\", \"site\", \"situation\", \"size\", \"skyline_gang\", \"sleep\", \"slide\", \"smile\", \"snack\", \"sofa\", \"son\", \"sort\", \"spa\", \"space\", \"splash\", \"splash_pool\", \"spot\", \"staff\", \"staff_attentive\", \"staff_member\", \"stage\", \"stair\", \"stand\", \"standard\", \"star\", \"start\", \"starter\", \"stay\", \"steak\", \"step\", \"stone\", \"store\", \"street\", \"struggle\", \"stuff\", \"style\", \"sugar\", \"summer\", \"sun_holiday\", \"sunday\", \"sunday_night\", \"superb\", \"supermarket\", \"surprise\", \"swim\", \"system\", \"table\", \"talk\", \"tasty\", \"tea_coffee\", \"tea_towel\", \"team\", \"tent\", \"term\", \"thanks\", \"thing\", \"ticket\", \"tidy\", \"time\", \"toddler\", \"toilet\", \"toiletry\", \"top\", \"tot\", \"tot_week\", \"touch\", \"towel\", \"towel_rail\", \"town\", \"travel\", \"travel_cot\", \"tray\", \"trip\", \"twin_room\", \"type\", \"u\", \"upgrade\", \"use\", \"value\", \"value_money\", \"variety\", \"view\", \"visit\", \"waiter\", \"waitress\", \"walk\", \"wall\", \"waste_money\", \"water\", \"way\", \"weather\", \"wednesday\", \"week\", \"weekend\", \"wet\", \"whilst\", \"wife\", \"wifi\", \"window\", \"winner\", \"work\", \"world\", \"wow\", \"year\", \"yes\", \"youth\"]}, \"R\": 30, \"lambda.step\": 0.01, \"plot.opts\": {\"xlab\": \"PC1\", \"ylab\": \"PC2\"}, \"topic.order\": [1, 2, 3, 4, 5, 6, 7, 8, 9, 10, 11, 12, 13, 14, 15, 16, 17, 18]};\n",
       "\n",
       "function LDAvis_load_lib(url, callback){\n",
       "  var s = document.createElement('script');\n",
       "  s.src = url;\n",
       "  s.async = true;\n",
       "  s.onreadystatechange = s.onload = callback;\n",
       "  s.onerror = function(){console.warn(\"failed to load library \" + url);};\n",
       "  document.getElementsByTagName(\"head\")[0].appendChild(s);\n",
       "}\n",
       "\n",
       "if(typeof(LDAvis) !== \"undefined\"){\n",
       "   // already loaded: just create the visualization\n",
       "   !function(LDAvis){\n",
       "       new LDAvis(\"#\" + \"ldavis_el176017235716784484584842693\", ldavis_el176017235716784484584842693_data);\n",
       "   }(LDAvis);\n",
       "}else if(typeof define === \"function\" && define.amd){\n",
       "   // require.js is available: use it to load d3/LDAvis\n",
       "   require.config({paths: {d3: \"https://d3js.org/d3.v5\"}});\n",
       "   require([\"d3\"], function(d3){\n",
       "      window.d3 = d3;\n",
       "      LDAvis_load_lib(\"https://cdn.jsdelivr.net/gh/bmabey/pyLDAvis@3.3.1/pyLDAvis/js/ldavis.v3.0.0.js\", function(){\n",
       "        new LDAvis(\"#\" + \"ldavis_el176017235716784484584842693\", ldavis_el176017235716784484584842693_data);\n",
       "      });\n",
       "    });\n",
       "}else{\n",
       "    // require.js not available: dynamically load d3 & LDAvis\n",
       "    LDAvis_load_lib(\"https://d3js.org/d3.v5.js\", function(){\n",
       "         LDAvis_load_lib(\"https://cdn.jsdelivr.net/gh/bmabey/pyLDAvis@3.3.1/pyLDAvis/js/ldavis.v3.0.0.js\", function(){\n",
       "                 new LDAvis(\"#\" + \"ldavis_el176017235716784484584842693\", ldavis_el176017235716784484584842693_data);\n",
       "            })\n",
       "         });\n",
       "}\n",
       "</script>"
      ],
      "text/plain": [
       "PreparedData(topic_coordinates=              x         y  topics  cluster      Freq\n",
       "topic                                               \n",
       "0     -0.061719 -0.008304       1        1  4.728951\n",
       "1     -0.052400 -0.007350       2        1  5.157377\n",
       "2     -0.053099 -0.007426       3        1  5.172640\n",
       "3     -0.059340 -0.008070       4        1  4.950685\n",
       "4     -0.059781 -0.008116       5        1  4.855117\n",
       "5     -0.018028 -0.002944       6        1  5.864786\n",
       "6     -0.065411 -0.008642       7        1  4.825035\n",
       "7     -0.035714 -0.005376       8        1  5.338896\n",
       "8     -0.059001 -0.008038       9        1  5.034650\n",
       "9      0.009520  0.001659      10        1  6.079062\n",
       "10     0.216574  0.296396      11        1  6.900775\n",
       "11     0.164878  0.089505      12        1  7.086036\n",
       "12    -0.043183 -0.006304      13        1  5.036255\n",
       "13    -0.030190 -0.004658      14        1  5.938983\n",
       "14     0.286912 -0.292367      15        1  7.215186\n",
       "15    -0.059499 -0.008089      16        1  4.925565\n",
       "16    -0.045182 -0.006538      17        1  5.350100\n",
       "17    -0.035335 -0.005336      18        1  5.539902, topic_info=                Term         Freq        Total Category  logprob  loglift\n",
       "11              room  1515.000000  1515.000000  Default  30.0000  30.0000\n",
       "150            hotel  1055.000000  1055.000000  Default  29.0000  29.0000\n",
       "142            staff   879.000000   879.000000  Default  28.0000  28.0000\n",
       "301        breakfast   723.000000   723.000000  Default  27.0000  27.0000\n",
       "66             night   521.000000   521.000000  Default  26.0000  26.0000\n",
       "...              ...          ...          ...      ...      ...      ...\n",
       "212       glass_wine    13.085134    14.317165  Topic18  -5.1752   2.8032\n",
       "1429            bill    11.600979    12.833009  Topic18  -5.2956   2.7923\n",
       "538   gold_apartment    10.551655    11.783685  Topic18  -5.3904   2.7828\n",
       "1374       situation     9.456776    10.688806  Topic18  -5.5000   2.7707\n",
       "1219          silver     8.571664     9.803695  Topic18  -5.5982   2.7589\n",
       "\n",
       "[570 rows x 6 columns], token_table=      Topic      Freq           Term\n",
       "term                                \n",
       "880      18  0.988556         access\n",
       "0        10  0.992400  accommodation\n",
       "473      10  0.948778            act\n",
       "234       9  0.986728       activity\n",
       "761      15  0.804261       addition\n",
       "...     ...       ...            ...\n",
       "784      17  0.936044          world\n",
       "865      14  0.937249            wow\n",
       "343      18  0.992130           year\n",
       "49       16  0.956253            yes\n",
       "1161      8  0.898914          youth\n",
       "\n",
       "[540 rows x 3 columns], R=30, lambda_step=0.01, plot_opts={'xlab': 'PC1', 'ylab': 'PC2'}, topic_order=[1, 2, 3, 4, 5, 6, 7, 8, 9, 10, 11, 12, 13, 14, 15, 16, 17, 18])"
      ]
     },
     "execution_count": 292,
     "metadata": {},
     "output_type": "execute_result"
    }
   ],
   "source": [
    "vis(lda_accom[1],accom_bow_big,accom_dict_big)"
   ]
  },
  {
   "cell_type": "code",
   "execution_count": 293,
   "metadata": {
    "scrolled": true
   },
   "outputs": [
    {
     "data": {
      "text/html": [
       "\n",
       "<link rel=\"stylesheet\" type=\"text/css\" href=\"https://cdn.jsdelivr.net/gh/bmabey/pyLDAvis@3.3.1/pyLDAvis/js/ldavis.v1.0.0.css\">\n",
       "\n",
       "\n",
       "<div id=\"ldavis_el176017235716766562746797038\"></div>\n",
       "<script type=\"text/javascript\">\n",
       "\n",
       "var ldavis_el176017235716766562746797038_data = {\"mdsDat\": {\"x\": [0.026239986326604493, 0.04390682898529563, 0.0525940972525256, 0.030044571126000872, 0.01048308449180047, 0.01608468647958149, 0.03265022913102989, 0.040392516341731965, 0.03290556984922317, -0.07582560192316624, 0.04568653398569198, 0.009325983588831374, 0.057920643734847635, 0.03425474262928, 0.03759773072562857, -0.44428445769478836, 0.041880249995788696, 0.008142604974092511], \"y\": [-0.018691808617776237, -0.02481412806670041, -0.02668863505625791, -0.01995015185191751, -0.01045029294423681, -0.013956814540736608, -0.02108896612938607, -0.023541596732932105, -0.021190621966638186, 0.4190095654153263, -0.02513179189611337, -0.00994321310241312, -0.027670741818547877, -0.02163535211618697, -0.022735608103999293, -0.09802359637999702, -0.024085320169552542, -0.00941092592193426], \"topics\": [1, 2, 3, 4, 5, 6, 7, 8, 9, 10, 11, 12, 13, 14, 15, 16, 17, 18], \"cluster\": [1, 1, 1, 1, 1, 1, 1, 1, 1, 1, 1, 1, 1, 1, 1, 1, 1, 1], \"Freq\": [5.321739031435928, 4.99316689722667, 4.620827890162129, 5.284981225779419, 5.482197611489351, 5.549821079412859, 5.297648644225816, 5.221175409190354, 5.2305801579069815, 7.3559618024570215, 4.705996215527377, 5.368071171183215, 4.525204402370772, 5.211095207373501, 5.127937643618437, 9.793857139621732, 5.082690012879516, 5.827048458138921]}, \"tinfo\": {\"Term\": [\"food\", \"staff\", \"service\", \"place\", \"meal\", \"restaurant\", \"lunch\", \"menu\", \"visit\", \"chip\", \"pub\", \"price\", \"portion\", \"choice\", \"family\", \"drink\", \"experience\", \"order\", \"night\", \"value\", \"breakfast\", \"friend\", \"tasty\", \"area\", \"bit\", \"table\", \"coffee\", \"evening\", \"people\", \"course\", \"price\", \"bit\", \"need\", \"way\", \"husband\", \"variety\", \"end\", \"star\", \"bacon\", \"disappointment\", \"chair\", \"fact\", \"morning\", \"cheese\", \"dry\", \"slice\", \"desert\", \"reception\", \"cosy\", \"event\", \"apology\", \"run\", \"pub_grub\", \"drive\", \"colour\", \"setting\", \"ice\", \"cider\", \"middle\", \"cold\", \"selection\", \"owner\", \"waitress\", \"decor\", \"work\", \"week\", \"toilet\", \"class\", \"chocolate\", \"amount\", \"onion\", \"number\", \"diner\", \"lunchtime\", \"world\", \"gravy\", \"vibe\", \"lunch_friend\", \"fruit\", \"bag\", \"bean\", \"plentiful\", \"family_lunch\", \"barman\", \"coke\", \"crisp\", \"leaf\", \"wrap\", \"base\", \"baguette\", \"tasty\", \"sunday_lunch\", \"plate\", \"customer_service\", \"year\", \"afternoon\", \"helpful\", \"family_meal\", \"style\", \"lunch_menu\", \"sort\", \"chilli\", \"min\", \"manner\", \"batter\", \"food_average\", \"pot\", \"staff_pleasant\", \"shut\", \"brand\", \"heart\", \"serf\", \"service_smile\", \"crab\", \"steak_pie\", \"beer_garden\", \"biq\", \"visit_area\", \"majority\", \"dessert_menu\", \"lunch\", \"visit\", \"venue\", \"meat\", \"thanks\", \"round\", \"phone\", \"eaten\", \"roast_dinner\", \"reason\", \"ale\", \"vegan\", \"eater\", \"moment\", \"pub_restaurant\", \"recommendation\", \"bun\", \"stay\", \"baby\", \"practice\", \"view_river\", \"feedback\", \"table_window\", \"noise\", \"fish_finger\", \"sundae\", \"owner_manager\", \"family_gathering\", \"meet_friend\", \"caters\", \"staff\", \"course\", \"look\", \"cod\", \"staff_helpful\", \"piece\", \"cod_chip\", \"egg\", \"use\", \"celebration\", \"mum\", \"fire\", \"family_birthday\", \"yorkshire\", \"granddaughter\", \"sister\", \"vegan_option\", \"voucher\", \"mess\", \"family_group\", \"opportunity\", \"stroll\", \"country_pub\", \"world_end\", \"purchase\", \"ie\", \"whitebait\", \"bird\", \"doggie\", \"underneath\", \"menu\", \"value_money\", \"pizza\", \"curry\", \"side\", \"home\", \"fish_chip\", \"saturday\", \"business\", \"problem\", \"fish\", \"pleasant\", \"idea\", \"mile\", \"check\", \"woman\", \"touch\", \"drink_order\", \"parent\", \"centre\", \"friday\", \"pastry\", \"head\", \"opinion\", \"air\", \"allergy\", \"okay\", \"history\", \"towel\", \"chain\", \"pub\", \"experience\", \"evening\", \"birthday\", \"roast\", \"walk\", \"water\", \"christmas\", \"pint\", \"chip_shop\", \"ingredient\", \"establishment\", \"type\", \"yes\", \"attitude\", \"item\", \"wet\", \"christmas_lunch\", \"past\", \"lad\", \"question\", \"rush\", \"warm\", \"wait_food\", \"sussex\", \"delay\", \"travel\", \"memory\", \"content\", \"level\", \"choice\", \"drink\", \"table\", \"starter\", \"bread\", \"location\", \"garden\", \"kitchen\", \"tidy\", \"filling\", \"river\", \"average\", \"summer\", \"stuff\", \"god\", \"veggie\", \"word\", \"riverside\", \"platter\", \"finger_sandwich\", \"asset\", \"result\", \"pud\", \"group_people\", \"supermarket\", \"couple_year\", \"countryside\", \"lobster\", \"charm\", \"describe\", \"chip\", \"thing\", \"cake\", \"dog\", \"party\", \"ice_cream\", \"pie\", \"potato\", \"view\", \"road\", \"beef\", \"cocktail\", \"bottle\", \"homemade\", \"glass\", \"holiday\", \"visitor\", \"driver\", \"park\", \"mother\", \"request\", \"tap\", \"birthday_celebration\", \"finger\", \"picture\", \"car\", \"rip\", \"broccoli\", \"accommodate\", \"bottom\", \"meal\", \"restaurant\", \"breakfast\", \"dinner\", \"chicken\", \"dish\", \"time\", \"fun\", \"manager\", \"ok\", \"attentive\", \"wow\", \"medium\", \"staff_polite\", \"effort\", \"christmas_meal\", \"carrot\", \"pancake\", \"mezzo\", \"excuse\", \"bin\", \"yoghurt\", \"grub\", \"chunk\", \"respect\", \"cutlery\", \"coleslaw\", \"pricey\", \"england\", \"adult_kid\", \"portion\", \"beer\", \"option\", \"whilst\", \"shame\", \"size\", \"surroundings\", \"girl\", \"sunday_roast\", \"snack\", \"job\", \"pork\", \"space\", \"salmon\", \"building\", \"making\", \"butter\", \"character\", \"bowl\", \"fan\", \"book_table\", \"ham_egg\", \"ham\", \"company\", \"photo\", \"salt\", \"edge\", \"monday\", \"roll\", \"christmas_dinner\", \"place\", \"value\", \"people\", \"flavour\", \"weekend\", \"minute\", \"town\", \"part\", \"gin\", \"day\", \"roast_potato\", \"start\", \"cash\", \"place_visit\", \"doubt\", \"choice_menu\", \"weather\", \"bone\", \"portion_chip\", \"couple_time\", \"coconut\", \"chicken_curry\", \"olive\", \"latte\", \"tomato_sauce\", \"order_drink\", \"rabbit\", \"chocolate_brownie\", \"arrives\", \"process\", \"area\", \"wine\", \"sunday\", \"house\", \"team\", \"hour\", \"return\", \"wait\", \"son\", \"trip\", \"point\", \"book\", \"name\", \"crispy\", \"tender\", \"month\", \"card\", \"turkey\", \"chance\", \"bank_holiday\", \"child_menu\", \"soggy\", \"pas\", \"refund\", \"max\", \"way_home\", \"specialise\", \"garnish\", \"onion_ring\", \"joke\", \"u\", \"superb\", \"child\", \"lady\", \"partner\", \"i\", \"range\", \"salad\", \"guy\", \"veg\", \"sausage\", \"lamb\", \"cost\", \"member_staff\", \"management\", \"staff_attentive\", \"age\", \"money\", \"door\", \"standard\", \"birthday_meal\", \"soup\", \"menu_choice\", \"adult\", \"english\", \"till\", \"conversation\", \"comment\", \"case\", \"guest\", \"family\", \"order\", \"sauce\", \"portion_size\", \"plenty\", \"food_good\", \"occasion\", \"bill\", \"spot\", \"fry\", \"cream\", \"prawn\", \"kind\", \"person\", \"surprise\", \"theme\", \"tart\", \"u_table\", \"requirement\", \"feeling\", \"trip_advisor\", \"credit\", \"flower\", \"queue\", \"glass_wine\", \"lettuce\", \"guess\", \"hassle\", \"oh\", \"system\", \"food\", \"service\", \"quality\", \"gem\", \"ambience\", \"hope\", \"saturday_night\", \"lack\", \"toffee\", \"improvement\", \"mark\", \"mistake\", \"adult_child\", \"kid_meal\", \"june\", \"colleague\", \"lager\", \"menu_selection\", \"chip_pea\", \"chatty\", \"line\", \"coast\", \"note\", \"country\", \"background_music\", \"map\", \"emma\", \"ribeye_steak\", \"payment\", \"work_christmas\", \"night\", \"atmosphere\", \"customer\", \"chef\", \"quality_food\", \"couple\", \"daughter\", \"steak\", \"issue\", \"hand\", \"yummy\", \"front\", \"top\", \"tomato\", \"wall\", \"pea\", \"list\", \"bland\", \"cup\", \"site\", \"online\", \"mix\", \"ambiance\", \"mash\", \"season\", \"mind\", \"burnt\", \"temperature\", \"reply\", \"tip\", \"friend\", \"coffee\", \"burger\", \"wife\", \"review\", \"tea\", \"taste\", \"waiter\", \"sandwich\", \"lot\", \"group\", \"dessert\", \"car_park\", \"rude\", \"mushroom\", \"rest\", \"roast_beef\", \"super\", \"complaint\", \"tasteless\", \"server\", \"sun\", \"avocado\", \"ball\", \"plenty_choice\", \"staff_rude\", \"lot_choice\", \"friend_birthday\", \"meet\", \"response\"], \"Freq\": [3453.0, 1850.0, 1780.0, 1188.0, 1167.0, 1128.0, 973.0, 737.0, 723.0, 717.0, 638.0, 608.0, 473.0, 489.0, 485.0, 483.0, 485.0, 451.0, 438.0, 425.0, 478.0, 437.0, 389.0, 357.0, 370.0, 362.0, 367.0, 322.0, 299.0, 290.0, 606.8409652412253, 369.11327729437005, 190.3121263327323, 189.03563925245444, 166.7278596345908, 80.39022058027821, 79.12034073867599, 78.132928535838, 76.74354214732723, 74.28433315089113, 71.85777399790082, 71.28807810340784, 70.77241881302935, 59.64000744102137, 55.19179041257482, 52.59251319485795, 49.719752611382795, 45.84946924378599, 43.41467232443893, 36.327979930889505, 35.37777191688773, 31.800868936571494, 30.654876457213813, 29.98986345056736, 29.63243082829578, 28.258930625143922, 26.59440087582603, 23.82720386309477, 22.825585114858526, 22.15876150217261, 279.6320054605225, 257.76336475516854, 220.3697898330762, 209.54971105084286, 176.5548359509502, 155.30920932143383, 94.44257362625791, 73.98165891333069, 65.87071630789679, 64.97598989413846, 64.24549264989493, 62.62334099281925, 54.263271400274036, 51.530803376440076, 47.84176648820241, 47.26211370543819, 46.61249917358063, 46.27557747199937, 43.49318943311462, 39.12715726876416, 36.90314533422875, 36.77118753444372, 34.24173576381878, 34.18342918623946, 31.498193176645863, 24.983130476366743, 24.2489698710187, 23.573880771480614, 23.251408226255748, 18.470938560953154, 388.61225067056415, 238.22391374026682, 212.10789326327995, 197.27461425375031, 169.2669016349774, 126.71879927577356, 121.1864148269899, 88.25757457094244, 86.6729976834874, 56.613087192663905, 55.57544883336567, 55.306189937818246, 49.18566163914384, 47.969971030625494, 45.813688072379044, 34.70480554314719, 33.28485093803831, 33.275432335105755, 30.89402685635806, 26.752368924319356, 25.677408675706708, 24.38759454341515, 21.69384709693728, 20.13226234688553, 16.896189014345055, 16.70408704110058, 16.373239068000792, 15.14073257166292, 12.941976348154643, 12.225208724711457, 971.9214691907382, 722.1792834568604, 155.6034376126891, 133.3988340873778, 91.60022761576157, 84.32928350647957, 71.25522365743751, 71.17621130684321, 63.19948856299334, 50.742219282220184, 50.420642266838435, 41.79170670997174, 37.22346296696291, 35.94823939527855, 34.074706991982815, 30.112208345844998, 29.094773135469996, 28.66595067318899, 27.489450269765708, 18.227272992867476, 17.761361873094543, 14.719604228197023, 14.390111345839067, 13.954719152925316, 9.507430149951267, 9.116668554743582, 8.095113646911667, 7.120787314897951, 7.089173432933311, 6.9867402608850675, 1849.1195331831807, 289.16568271070946, 153.00861456013226, 78.94607820875572, 69.46725368345058, 69.29461656895823, 65.0095167628089, 64.33018647932374, 58.873195557163385, 47.545193593197155, 37.62029991218238, 33.41043203082891, 24.444719251198325, 23.669423994644713, 22.460400923463204, 21.28699707406187, 21.16801224505385, 19.880891993747433, 19.533651379998965, 14.33630419560081, 11.906519613144948, 11.264914067201188, 9.075407030882486, 6.740236164383618, 6.351013404572194, 6.291708606110182, 5.905345620709711, 5.817563658335951, 5.607515483460076, 4.835601531753264, 735.8891513746462, 282.1473632532742, 223.6330817268303, 184.40503870860667, 176.54619559058187, 118.75847387990211, 113.45721090925383, 108.0270172721993, 104.22688148524216, 101.91271260234576, 96.79562654234242, 72.84063651389127, 53.11984429666176, 50.31414090600112, 47.84688051465688, 43.2342869041289, 40.97073764860202, 40.966087130391074, 37.42638719220168, 36.08040020339492, 32.2717282229522, 29.89703089928823, 29.585729580778587, 29.183985585050493, 28.272484015705132, 26.25561880124072, 26.18066419348251, 25.732595982946854, 18.63919333477432, 18.35320865890422, 637.1842651606133, 483.9145837705294, 320.78438440071307, 169.9573626805678, 153.30879335700206, 92.37275305553032, 78.69441168633972, 76.18936842916663, 74.37351714105812, 61.356109344833705, 55.902004226049364, 53.748290730379644, 50.95266185565766, 43.93976885133428, 43.72476710985468, 39.55647442216537, 31.053816375921738, 30.76318838707534, 28.001873744662877, 24.159494558641274, 23.49000687257702, 20.445309733189745, 19.647026340064052, 19.464661905312358, 19.401248369615743, 17.789677255055388, 17.71765256797563, 17.634358745427583, 17.586873558258386, 16.653104682062967, 488.5458627904766, 481.87706441733707, 360.8625457177361, 255.9576681710984, 207.74127734398297, 198.2819189758529, 117.82585428233754, 68.74812239893126, 54.44853740468647, 45.71761196200502, 43.47116741476892, 38.49312750456013, 38.242405751802025, 31.120226023083738, 23.439180051763184, 22.416783251421517, 21.61703607923541, 19.971403741309437, 18.862220742273767, 17.92642382832184, 14.853823945911019, 14.618477776676208, 14.580200234993647, 14.45721484049394, 14.356861572540428, 13.448536086623854, 13.348531351170557, 13.142286842633395, 12.53829929344804, 12.410844009786592, 715.9981417344296, 195.66100161905104, 185.6919826471967, 157.91296927236863, 137.63341715506186, 129.0670636111461, 117.72207629763122, 106.5518429104956, 98.85517848914621, 90.51120626757341, 88.94893757407971, 76.79972949904477, 69.29122547242497, 61.23788978051877, 58.667020871609424, 52.933409680788294, 38.87195200360882, 35.20211311350999, 34.290460393418826, 33.375705456455435, 30.211379885434592, 25.26533756691635, 25.26419354399303, 24.41977912196036, 24.382501030416876, 22.453522305440092, 16.328100158236083, 16.164369721375323, 15.908143985292488, 15.880730879041353, 1166.641211789166, 1127.3308582176255, 477.1036942674706, 287.9208707884029, 189.59299574209174, 184.91303485492108, 170.59033282430204, 99.425897758542, 96.56589752381755, 83.32413825441147, 69.36254549026516, 51.71595103116566, 33.354073657810424, 32.70597686248315, 26.426008343380325, 24.414556729760605, 23.135282428157552, 22.844690187860028, 22.72309397059757, 22.28322187223833, 21.028105699552466, 15.211856266593985, 13.28096531489308, 11.897586584762102, 10.690048982572005, 9.970434983757682, 9.806601640670591, 8.492878358634508, 6.704494571116609, 4.891678284774138, 472.36683350049856, 217.47359279546535, 184.0257009412142, 144.93015973212775, 139.7506954860041, 113.22207830040959, 99.70158584828278, 81.38832253269024, 76.35371123385822, 70.0723859695658, 65.14948197459958, 59.471460694577594, 57.754534895178566, 48.70360274861107, 44.61173427038027, 43.06651263220815, 38.76511840469386, 35.99950127579411, 35.42945585249786, 30.06597074641098, 29.497422204460914, 27.508208766143365, 25.901780026117464, 25.74086962438492, 25.439695360338906, 25.075183037629056, 22.924585812472383, 22.856487844846978, 21.812310321958844, 19.284203674744088, 1187.2391769878432, 424.6462827100308, 298.18797996995585, 145.60417759390364, 108.43506719014675, 99.3373755579861, 91.10153879599278, 77.18455664111936, 62.84883055431621, 51.74301753703773, 42.81144957216996, 38.14237381604729, 34.141135018386414, 30.364278764579986, 27.235836541057438, 26.27985263229142, 23.73377129102377, 23.412307132853734, 22.84447794316521, 20.828887598334003, 19.50490178595413, 18.694285994041586, 14.849603065181599, 14.23868245304767, 14.160566348859897, 13.712909302709194, 12.570672029788458, 11.92282935923503, 6.822351411027236, 6.692241571368452, 356.25104288296126, 205.70235701468397, 147.00167570026596, 138.29355063891052, 132.98821982040388, 132.79536025345678, 129.30463327353593, 104.33691435473277, 99.22543423964731, 94.5614021289716, 93.3683856323837, 74.70313650684619, 61.819208707405856, 57.33255661649763, 48.91490692842229, 43.71399345109753, 39.37173546718988, 39.11381447253769, 38.84750501104159, 31.678890518978772, 25.928333400855454, 22.938577186990784, 21.022869075774164, 15.053550598044486, 13.460340477312975, 12.337128107822346, 11.640195601177885, 11.13446055902257, 11.075409984260068, 8.175837445218324, 258.32284192458974, 168.60687968104867, 165.1337467404606, 163.9062800230521, 139.76548995488756, 121.22969605771753, 118.84232112706194, 118.21659703157124, 106.87128890433937, 102.78426230107931, 100.95739981184059, 94.6794475843025, 92.81735028295603, 90.24602975540604, 89.54207091150289, 87.04400288504822, 81.52194798695882, 81.50805925119442, 72.20329880218951, 61.65574016430208, 59.12961253133542, 57.727273421606206, 56.98489933487548, 50.026078446946514, 46.424073940618456, 41.081088192725005, 32.479802469640696, 30.098503059362184, 29.312491026535152, 28.457884925915128, 484.1232380537835, 449.89884539222913, 187.42118789986506, 148.478464810945, 137.32434263452583, 135.89756278361375, 119.37273635714271, 118.64725678815958, 99.90383564826493, 91.89066091066636, 88.66452439185652, 88.6331077242566, 63.02349469197497, 56.99008110979153, 56.93022601662971, 45.26790027855195, 36.09124878750597, 35.69014520727079, 27.676560330408503, 27.537848076505597, 25.5141594284888, 24.915687369805873, 18.234420961589265, 17.341473643941285, 16.987603909756718, 16.415451749592798, 16.217881356430613, 14.022940636311926, 12.95631432634201, 12.542985441130966, 3451.9398446208397, 1779.1537365106121, 331.6170073933081, 60.474901376812866, 57.506976700077075, 33.07397549137087, 29.197082682465588, 26.429948485561177, 23.423347102273823, 23.250093533669805, 21.078051872810384, 19.11082126158901, 18.953410455314213, 18.276095835647126, 12.40057310602249, 12.108101131515825, 11.921263640756841, 10.363341798530639, 10.251317937924595, 9.669680527212364, 9.233112776974593, 9.221817069707722, 9.08529394456414, 8.696697361614955, 7.541679094371958, 7.4320330791911005, 7.134137327393729, 4.9904629783258985, 4.855450014752636, 4.210971052770366, 437.26013722898034, 239.82648725691425, 238.39461019214866, 226.60304490046332, 209.4371561847063, 133.40915465117104, 129.67019359061928, 115.05852819526046, 71.60088916651561, 69.01537629148046, 62.134526167594885, 60.896271593735875, 57.33617946434884, 52.68625019486047, 50.75886553873885, 44.86360511512529, 44.26376565280109, 40.95186980080116, 37.81416164237933, 37.484748863589964, 34.67382048325749, 31.834188642799823, 28.533841094345195, 23.698760591546847, 23.007074122025028, 20.103057284046113, 19.503896397911827, 16.877287447817828, 16.298787174064753, 15.359586130424958, 435.75343615972656, 366.0366446422969, 280.493368458633, 225.57464296823036, 190.19749206040905, 165.73632614477864, 152.7236812605158, 140.13985006592068, 138.84664044320976, 135.1758759495548, 134.797711691446, 104.65001421099011, 83.22325401923587, 73.29488992197545, 54.17980233872482, 53.42052692041623, 53.36532448927635, 44.83118565976053, 44.60563292855091, 40.854889798949756, 35.488591846383656, 31.81002630777738, 28.250921440066236, 25.60082831625268, 23.950876836217233, 22.987261362699464, 22.2888473596556, 17.912747945089816, 17.81731779088066, 16.023841065393235], \"Total\": [3453.0, 1850.0, 1780.0, 1188.0, 1167.0, 1128.0, 973.0, 737.0, 723.0, 717.0, 638.0, 608.0, 473.0, 489.0, 485.0, 483.0, 485.0, 451.0, 438.0, 425.0, 478.0, 437.0, 389.0, 357.0, 370.0, 362.0, 367.0, 322.0, 299.0, 290.0, 608.1178767513749, 370.3901888045196, 191.5890378428818, 190.31255076260393, 168.0047711447403, 81.66713209042774, 80.39725224882552, 79.40984004598754, 78.02045365747676, 75.56124466104066, 73.13468550805035, 72.56498961355737, 72.04933032317888, 60.916918951170906, 56.46870192272436, 53.86942470500749, 50.99666412153233, 47.126380759373205, 44.69158383458847, 37.60489144714662, 36.65468343247495, 33.07778046588807, 31.931787973729215, 31.266774978154565, 30.90934235144734, 29.535842135293443, 27.87131239141323, 25.104115397721323, 24.102496637458554, 23.43567301232213, 280.9021901782959, 259.0335494729419, 221.6399745508495, 210.81989576861616, 177.8250206687235, 156.57939403920713, 95.71275834403127, 75.25184363110405, 67.14090102567015, 66.24617461191183, 65.51567737332321, 63.893525710592606, 55.53345611804739, 52.80098809421343, 49.111951205975764, 48.53229842321154, 47.88268389746156, 47.545762189772724, 44.76337415088798, 40.39734198653751, 38.173330058109684, 38.04137225221707, 35.511920481592135, 35.45361390401281, 32.768377900074135, 26.25331519969267, 25.519154595794074, 24.844065489253953, 24.52159294946677, 19.74112331030228, 389.8781026712664, 239.48976574096903, 213.37374526398216, 198.54046625445253, 170.5327536356796, 127.98465127647582, 122.45226682769216, 89.52342657164469, 87.93884968418965, 57.87893919336616, 56.84130083406792, 56.572041944175425, 50.45151363984609, 49.23582303132775, 47.0795400730813, 35.97065754384944, 34.550702958300676, 34.54128433580801, 32.15987886332218, 28.018220942114205, 26.943260676408947, 25.653446580644648, 22.95969909763952, 21.398114347587768, 18.16204102115487, 17.969939041802817, 17.63909108196694, 16.40658457236516, 14.207828361404859, 13.4910607254137, 973.1954451369884, 723.4532594031106, 156.87741355893928, 134.67281003362797, 92.87420356201177, 85.60325945272977, 72.52919960368772, 72.45018725309342, 64.47346450924354, 52.01619522847037, 51.694618213088624, 43.06568265622193, 38.4974389132131, 37.22221534152874, 35.348682938233004, 31.38618429209518, 30.36874908172018, 29.939926619439174, 28.763426221670816, 19.501248964631117, 19.035337819344726, 15.993580178866827, 15.664087292089253, 15.228695099175502, 10.781406109791124, 10.390644514281083, 9.369089593161853, 8.39476326773578, 8.363149414193645, 8.260716239387765, 1850.4006437651208, 290.4467932926495, 154.28972514207229, 80.22718879069579, 70.74836426539065, 70.5757271573488, 66.29062735482351, 65.61129706826584, 60.154306158578926, 48.82630417513721, 38.90141049977736, 34.69154261276896, 25.72582984492671, 24.95053457658476, 23.741511511403253, 22.568107656001917, 22.449122833267882, 21.16200257568748, 20.814761961939013, 15.617414777540862, 13.187630200739925, 12.546024697372085, 10.356517612822538, 8.021346746323669, 7.632124010778169, 7.572819261341152, 7.186456208202345, 7.09867424662666, 6.888626071507703, 6.116712125967304, 737.1682099481211, 283.42642182674905, 224.91214030030517, 185.68409728208152, 177.82525416405673, 120.03753245337698, 114.7362694827287, 109.30607584567417, 105.50594005871703, 103.19177117582063, 98.07468511581729, 74.11969508736614, 54.39890287013663, 51.59319948491367, 49.12593908813175, 44.51334547760377, 42.24979622207689, 42.245145703865944, 38.705445772027204, 37.35945878887537, 33.55078679642707, 31.176089478870665, 30.86478816070395, 30.463044158525353, 29.55154258917999, 27.534677374715578, 27.45972277284173, 27.011654590735102, 19.91825192017809, 19.63226723237908, 638.4571935496531, 485.18751215956905, 322.0573127897527, 171.2302910696075, 154.58172174604175, 93.64568144457004, 79.96734007537944, 77.46229681820635, 75.64644553009784, 62.62903773987342, 57.17493261508908, 55.02121911941936, 52.22559024469737, 45.21269724037399, 44.99769551070885, 40.82940281664276, 32.32674478468796, 32.036116782702685, 29.27480214015308, 25.43242295368098, 24.76293526161672, 21.718238122229447, 20.919954729103754, 20.737590307941737, 20.674176758655445, 19.06260564409509, 18.990580970467867, 18.907287145457552, 18.85980195273577, 17.92603307110267, 489.81353958884324, 483.14474121570373, 362.1302225161028, 257.225344969465, 209.0089541423497, 199.54959577421963, 119.09353108070428, 70.015799197298, 55.7162142030532, 46.98528876637175, 44.73884421313565, 39.76080430292686, 39.51008256282571, 32.38790282145047, 24.706856867021525, 23.68446004978824, 22.884712883154716, 21.23908053967616, 20.12989754064049, 19.19410063940094, 16.121500744277743, 15.886154575042934, 15.847877033360373, 15.724891644298342, 15.624538426960685, 14.71621288499058, 14.616208149537282, 14.409963647261993, 13.805976098180645, 13.678520854359817, 717.2719320639069, 196.93479194852816, 186.96577297667383, 159.18675960184575, 138.907207484539, 130.34085394062322, 118.99586662710836, 107.82563323997273, 100.12896881862335, 91.78499659705055, 90.22272790921177, 78.07351982852191, 70.5650158019021, 62.5116801099959, 59.940811207086554, 54.207200010265424, 40.14574233308595, 36.47590348143847, 35.56425072916994, 34.649495785932565, 31.485170214911715, 26.539127961142594, 26.537983873470154, 25.693569451437483, 25.656291359894, 23.727312634917215, 17.60189049430085, 17.438160075224985, 17.181934314769613, 17.154521220780353, 1167.9264255547514, 1128.616071983211, 478.38890803940666, 289.2060845539883, 190.8782095076772, 186.19824862050655, 171.87554659623817, 100.71111153623505, 97.85111128940302, 84.60935202565186, 70.64775925585063, 53.00116480320162, 34.639287448914466, 33.99119063917377, 27.711222132907903, 25.699770501933703, 24.420496242703567, 24.129903972088922, 24.00830776793782, 23.568435649627347, 22.313319471503803, 16.497070050703186, 14.566179098910869, 13.182800355785236, 11.975262754745104, 11.25564874934314, 11.091815406256048, 9.778092174984371, 7.989708355799706, 6.1768921141440085, 473.63893846348026, 218.74569775844714, 185.297805904196, 146.20226469510953, 141.0228004489859, 114.49418326339136, 100.97369081126456, 82.66042749567202, 77.62581619683999, 71.34449093882156, 66.42158693758137, 60.74356566355936, 59.02663985816033, 49.97570771159283, 45.88383923336203, 44.33861760154058, 40.03722337367562, 37.271606245141754, 36.7015608277415, 31.33807571550032, 30.76952716744268, 28.780313741695704, 27.173885008470712, 27.012974587366685, 26.71180033569012, 26.34728801171599, 24.19669078245618, 24.128592807828742, 23.084415284940608, 20.556308637725852, 1188.5228569602643, 425.92996268245184, 299.4716599423769, 146.88785756632478, 109.7187471625679, 100.62105553040725, 92.38521876841392, 78.4682366135405, 64.1325105452108, 53.02669750945886, 44.095129544591096, 39.42605378846842, 35.424814996245225, 31.647958737001115, 28.519516519829224, 27.563532611063206, 25.017451269099826, 24.695987110712544, 24.12815791558634, 22.112567583227133, 20.788581771539242, 19.977965985164303, 16.133283085542697, 15.522362432470834, 15.444246350934172, 14.996589275130328, 13.854352002209593, 13.206509338022043, 8.10603138981425, 7.975921611853342, 357.5110364379297, 206.96235056965244, 148.26166925523444, 139.553544193879, 134.24821337537236, 134.05535380842525, 130.5646268285044, 105.59690790970126, 100.4854277946158, 95.82139568394008, 94.6283791873522, 75.96313006181468, 63.07920226237433, 58.5925501714661, 50.174900483390765, 44.973987006066004, 40.63172902215835, 40.373808027506165, 40.107498566010065, 32.93888407394725, 27.188326955823925, 24.198570741959255, 22.282862630742635, 16.31354415946346, 14.720334038869092, 13.597121668790823, 12.90018917457869, 12.394454138764278, 12.335403545490417, 9.435831012918559, 259.59578965805827, 169.87982741451722, 166.40669447392915, 165.17922775652065, 141.0384376883561, 122.5026437911861, 120.1152688605305, 119.48954476503981, 108.14423663780794, 104.05721003454788, 102.23034754530916, 95.95239531777106, 94.0902980164246, 91.51897748887461, 90.81501864497146, 88.31695061851678, 82.79489572042739, 82.781006984663, 73.47624653565808, 62.928687897770644, 60.40256026480398, 59.00022115507477, 58.25784706834404, 51.299026180415076, 47.69702167408702, 42.35403592619357, 33.75275020310926, 31.371450798830743, 30.585438771096314, 29.730832659383687, 485.3950073721195, 451.17061471056513, 188.69295721820112, 149.75023412928107, 138.5961119528619, 137.1693321019498, 120.64450567547874, 119.91902610649561, 101.17560496660096, 93.16243023500239, 89.93629371019254, 89.90487704259263, 64.295264010311, 58.261850428127566, 58.201995334965744, 46.5396696013076, 37.36301811849896, 36.96191452560682, 28.948329654297115, 28.809617394841624, 26.785928746824826, 26.18745669357958, 19.506190317277216, 18.613242968727814, 18.259373228092745, 17.68722109800321, 17.489650686766645, 15.294709960921942, 14.22808365104392, 13.81475476572887, 3453.237826506183, 1780.4517183959551, 332.91498927865115, 61.77288326860641, 58.80495858542011, 34.37195739935909, 30.495064567808623, 27.727930382718668, 24.721328987616857, 24.5480754432778, 22.37603378063847, 20.408803179494132, 20.251392357427527, 19.574077727264147, 13.69855501921858, 13.406083036431465, 13.219245538845362, 11.661323690147661, 11.549299835429581, 10.967662442555408, 10.531094675670316, 10.519798980439472, 10.383275843171079, 9.994679246957991, 8.839660979714994, 8.730015094597418, 8.432119255995628, 6.288444882454555, 6.153431952756905, 5.508952969415003, 438.5295223014079, 241.0958723293418, 239.66399526457622, 227.87242997289087, 210.70654125713386, 134.6785397235986, 130.93957866304683, 116.32791326768802, 72.87027423894317, 70.28476136390802, 63.40391124002244, 62.165656671818354, 58.60556454314227, 53.95563526728803, 52.02825061116641, 46.13299019381472, 45.53315072522865, 42.221254880230745, 39.083546714806886, 38.754133936017524, 35.94320556227269, 33.103573715227384, 29.80322616677275, 24.968145669629326, 24.276459200726567, 21.372442368390466, 20.77328147033938, 18.14667252024538, 17.568172252492307, 16.62897122020699, 437.0325579373699, 367.31576641994025, 281.7724902362763, 226.8537647458737, 191.47661383805237, 167.01544792242197, 154.00280303815913, 141.418971843564, 140.12576222711496, 136.45499772719813, 136.07683346908934, 105.92913598863343, 84.50237580253412, 74.57401170561879, 55.45892411636815, 54.69964869805956, 54.64444626691968, 46.11030743740386, 45.884754706194244, 42.13401157659309, 36.76771362402699, 33.08914809778659, 29.530043217709565, 26.879950099550936, 25.229998613860563, 24.266383140342793, 23.567969137298928, 19.191869729083805, 19.09643958126948, 17.302962843036564], \"Category\": [\"Default\", \"Default\", \"Default\", \"Default\", \"Default\", \"Default\", \"Default\", \"Default\", \"Default\", \"Default\", \"Default\", \"Default\", \"Default\", \"Default\", \"Default\", \"Default\", \"Default\", \"Default\", \"Default\", \"Default\", \"Default\", \"Default\", \"Default\", \"Default\", \"Default\", \"Default\", \"Default\", \"Default\", \"Default\", \"Default\", \"Topic1\", \"Topic1\", \"Topic1\", \"Topic1\", \"Topic1\", \"Topic1\", \"Topic1\", \"Topic1\", \"Topic1\", \"Topic1\", \"Topic1\", \"Topic1\", \"Topic1\", \"Topic1\", \"Topic1\", \"Topic1\", \"Topic1\", \"Topic1\", \"Topic1\", \"Topic1\", \"Topic1\", \"Topic1\", \"Topic1\", \"Topic1\", \"Topic1\", \"Topic1\", \"Topic1\", \"Topic1\", \"Topic1\", \"Topic1\", \"Topic2\", \"Topic2\", \"Topic2\", \"Topic2\", \"Topic2\", \"Topic2\", \"Topic2\", \"Topic2\", \"Topic2\", \"Topic2\", \"Topic2\", \"Topic2\", \"Topic2\", \"Topic2\", \"Topic2\", \"Topic2\", \"Topic2\", \"Topic2\", \"Topic2\", \"Topic2\", \"Topic2\", \"Topic2\", \"Topic2\", \"Topic2\", \"Topic2\", \"Topic2\", \"Topic2\", \"Topic2\", \"Topic2\", \"Topic2\", \"Topic3\", \"Topic3\", \"Topic3\", \"Topic3\", \"Topic3\", \"Topic3\", \"Topic3\", \"Topic3\", \"Topic3\", \"Topic3\", \"Topic3\", \"Topic3\", \"Topic3\", \"Topic3\", \"Topic3\", \"Topic3\", \"Topic3\", \"Topic3\", \"Topic3\", \"Topic3\", \"Topic3\", \"Topic3\", \"Topic3\", \"Topic3\", \"Topic3\", \"Topic3\", \"Topic3\", \"Topic3\", \"Topic3\", \"Topic3\", \"Topic4\", \"Topic4\", \"Topic4\", \"Topic4\", \"Topic4\", \"Topic4\", \"Topic4\", \"Topic4\", \"Topic4\", \"Topic4\", \"Topic4\", \"Topic4\", \"Topic4\", \"Topic4\", \"Topic4\", \"Topic4\", \"Topic4\", \"Topic4\", \"Topic4\", \"Topic4\", \"Topic4\", \"Topic4\", \"Topic4\", \"Topic4\", \"Topic4\", \"Topic4\", \"Topic4\", \"Topic4\", \"Topic4\", \"Topic4\", \"Topic5\", \"Topic5\", \"Topic5\", \"Topic5\", \"Topic5\", \"Topic5\", \"Topic5\", \"Topic5\", \"Topic5\", \"Topic5\", \"Topic5\", \"Topic5\", \"Topic5\", \"Topic5\", \"Topic5\", \"Topic5\", \"Topic5\", \"Topic5\", \"Topic5\", \"Topic5\", \"Topic5\", \"Topic5\", \"Topic5\", \"Topic5\", \"Topic5\", \"Topic5\", \"Topic5\", \"Topic5\", \"Topic5\", \"Topic5\", \"Topic6\", \"Topic6\", \"Topic6\", \"Topic6\", \"Topic6\", \"Topic6\", \"Topic6\", \"Topic6\", \"Topic6\", \"Topic6\", \"Topic6\", \"Topic6\", \"Topic6\", \"Topic6\", \"Topic6\", \"Topic6\", \"Topic6\", \"Topic6\", \"Topic6\", \"Topic6\", \"Topic6\", \"Topic6\", \"Topic6\", \"Topic6\", \"Topic6\", \"Topic6\", \"Topic6\", \"Topic6\", \"Topic6\", \"Topic6\", \"Topic7\", \"Topic7\", \"Topic7\", \"Topic7\", \"Topic7\", \"Topic7\", \"Topic7\", \"Topic7\", \"Topic7\", \"Topic7\", \"Topic7\", \"Topic7\", \"Topic7\", \"Topic7\", \"Topic7\", \"Topic7\", \"Topic7\", \"Topic7\", \"Topic7\", \"Topic7\", \"Topic7\", \"Topic7\", \"Topic7\", \"Topic7\", \"Topic7\", \"Topic7\", \"Topic7\", \"Topic7\", \"Topic7\", \"Topic7\", \"Topic8\", \"Topic8\", \"Topic8\", \"Topic8\", \"Topic8\", \"Topic8\", \"Topic8\", \"Topic8\", \"Topic8\", \"Topic8\", \"Topic8\", \"Topic8\", \"Topic8\", \"Topic8\", \"Topic8\", \"Topic8\", \"Topic8\", \"Topic8\", \"Topic8\", \"Topic8\", \"Topic8\", \"Topic8\", \"Topic8\", \"Topic8\", \"Topic8\", \"Topic8\", \"Topic8\", \"Topic8\", \"Topic8\", \"Topic8\", \"Topic9\", \"Topic9\", \"Topic9\", \"Topic9\", \"Topic9\", \"Topic9\", \"Topic9\", \"Topic9\", \"Topic9\", \"Topic9\", \"Topic9\", \"Topic9\", \"Topic9\", \"Topic9\", \"Topic9\", \"Topic9\", \"Topic9\", \"Topic9\", \"Topic9\", \"Topic9\", \"Topic9\", \"Topic9\", \"Topic9\", \"Topic9\", \"Topic9\", \"Topic9\", \"Topic9\", \"Topic9\", \"Topic9\", \"Topic9\", \"Topic10\", \"Topic10\", \"Topic10\", \"Topic10\", \"Topic10\", \"Topic10\", \"Topic10\", \"Topic10\", \"Topic10\", \"Topic10\", \"Topic10\", \"Topic10\", \"Topic10\", \"Topic10\", \"Topic10\", \"Topic10\", \"Topic10\", \"Topic10\", \"Topic10\", \"Topic10\", \"Topic10\", \"Topic10\", \"Topic10\", \"Topic10\", \"Topic10\", \"Topic10\", \"Topic10\", \"Topic10\", \"Topic10\", \"Topic10\", \"Topic11\", \"Topic11\", \"Topic11\", \"Topic11\", \"Topic11\", \"Topic11\", \"Topic11\", \"Topic11\", \"Topic11\", \"Topic11\", \"Topic11\", \"Topic11\", \"Topic11\", \"Topic11\", \"Topic11\", \"Topic11\", \"Topic11\", \"Topic11\", \"Topic11\", \"Topic11\", \"Topic11\", \"Topic11\", \"Topic11\", \"Topic11\", \"Topic11\", \"Topic11\", \"Topic11\", \"Topic11\", \"Topic11\", \"Topic11\", \"Topic12\", \"Topic12\", \"Topic12\", \"Topic12\", \"Topic12\", \"Topic12\", \"Topic12\", \"Topic12\", \"Topic12\", \"Topic12\", \"Topic12\", \"Topic12\", \"Topic12\", \"Topic12\", \"Topic12\", \"Topic12\", \"Topic12\", \"Topic12\", \"Topic12\", \"Topic12\", \"Topic12\", \"Topic12\", \"Topic12\", \"Topic12\", \"Topic12\", \"Topic12\", \"Topic12\", \"Topic12\", \"Topic12\", \"Topic12\", \"Topic13\", \"Topic13\", \"Topic13\", \"Topic13\", \"Topic13\", \"Topic13\", \"Topic13\", \"Topic13\", \"Topic13\", \"Topic13\", \"Topic13\", \"Topic13\", \"Topic13\", \"Topic13\", \"Topic13\", \"Topic13\", \"Topic13\", \"Topic13\", \"Topic13\", \"Topic13\", \"Topic13\", \"Topic13\", \"Topic13\", \"Topic13\", \"Topic13\", \"Topic13\", \"Topic13\", \"Topic13\", \"Topic13\", \"Topic13\", \"Topic14\", \"Topic14\", \"Topic14\", \"Topic14\", \"Topic14\", \"Topic14\", \"Topic14\", \"Topic14\", \"Topic14\", \"Topic14\", \"Topic14\", \"Topic14\", \"Topic14\", \"Topic14\", \"Topic14\", \"Topic14\", \"Topic14\", \"Topic14\", \"Topic14\", \"Topic14\", \"Topic14\", \"Topic14\", \"Topic14\", \"Topic14\", \"Topic14\", \"Topic14\", \"Topic14\", \"Topic14\", \"Topic14\", \"Topic14\", \"Topic15\", \"Topic15\", \"Topic15\", \"Topic15\", \"Topic15\", \"Topic15\", \"Topic15\", \"Topic15\", \"Topic15\", \"Topic15\", \"Topic15\", \"Topic15\", \"Topic15\", \"Topic15\", \"Topic15\", \"Topic15\", \"Topic15\", \"Topic15\", \"Topic15\", \"Topic15\", \"Topic15\", \"Topic15\", \"Topic15\", \"Topic15\", \"Topic15\", \"Topic15\", \"Topic15\", \"Topic15\", \"Topic15\", \"Topic15\", \"Topic16\", \"Topic16\", \"Topic16\", \"Topic16\", \"Topic16\", \"Topic16\", \"Topic16\", \"Topic16\", \"Topic16\", \"Topic16\", \"Topic16\", \"Topic16\", \"Topic16\", \"Topic16\", \"Topic16\", \"Topic16\", \"Topic16\", \"Topic16\", \"Topic16\", \"Topic16\", \"Topic16\", \"Topic16\", \"Topic16\", \"Topic16\", \"Topic16\", \"Topic16\", \"Topic16\", \"Topic16\", \"Topic16\", \"Topic16\", \"Topic17\", \"Topic17\", \"Topic17\", \"Topic17\", \"Topic17\", \"Topic17\", \"Topic17\", \"Topic17\", \"Topic17\", \"Topic17\", \"Topic17\", \"Topic17\", \"Topic17\", \"Topic17\", \"Topic17\", \"Topic17\", \"Topic17\", \"Topic17\", \"Topic17\", \"Topic17\", \"Topic17\", \"Topic17\", \"Topic17\", \"Topic17\", \"Topic17\", \"Topic17\", \"Topic17\", \"Topic17\", \"Topic17\", \"Topic17\", \"Topic18\", \"Topic18\", \"Topic18\", \"Topic18\", \"Topic18\", \"Topic18\", \"Topic18\", \"Topic18\", \"Topic18\", \"Topic18\", \"Topic18\", \"Topic18\", \"Topic18\", \"Topic18\", \"Topic18\", \"Topic18\", \"Topic18\", \"Topic18\", \"Topic18\", \"Topic18\", \"Topic18\", \"Topic18\", \"Topic18\", \"Topic18\", \"Topic18\", \"Topic18\", \"Topic18\", \"Topic18\", \"Topic18\", \"Topic18\"], \"logprob\": [30.0, 29.0, 28.0, 27.0, 26.0, 25.0, 24.0, 23.0, 22.0, 21.0, 20.0, 19.0, 18.0, 17.0, 16.0, 15.0, 14.0, 13.0, 12.0, 11.0, 10.0, 9.0, 8.0, 7.0, 6.0, 5.0, 4.0, 3.0, 2.0, 1.0, -1.7567, -2.2539, -2.9163, -2.923, -3.0486, -3.7781, -3.794, -3.8066, -3.8245, -3.8571, -3.8903, -3.8982, -3.9055, -4.0766, -4.1541, -4.2024, -4.2586, -4.3396, -4.3942, -4.5724, -4.5989, -4.7055, -4.7422, -4.7641, -4.7761, -4.8236, -4.8843, -4.9941, -5.0371, -5.0667, -2.4678, -2.5492, -2.7059, -2.7563, -2.9276, -3.0558, -3.5532, -3.7974, -3.9135, -3.9272, -3.9385, -3.9641, -4.1074, -4.1591, -4.2333, -4.2455, -4.2594, -4.2666, -4.3286, -4.4344, -4.4929, -4.4965, -4.5678, -4.5695, -4.6513, -4.883, -4.9129, -4.9411, -4.9549, -5.185, -2.0612, -2.5505, -2.6666, -2.7391, -2.8923, -3.1818, -3.2264, -3.5435, -3.5616, -3.9875, -4.006, -4.0109, -4.1281, -4.1532, -4.1992, -4.4769, -4.5186, -4.5189, -4.5932, -4.7371, -4.7781, -4.8297, -4.9467, -5.0214, -5.1966, -5.2081, -5.2281, -5.3063, -5.4633, -5.5202, -1.2788, -1.5758, -3.1107, -3.2647, -3.6406, -3.7233, -3.8918, -3.8929, -4.0117, -4.2313, -4.2376, -4.4253, -4.5411, -4.576, -4.6295, -4.7531, -4.7875, -4.8023, -4.8442, -5.2551, -5.281, -5.4689, -5.4915, -5.5222, -5.906, -5.9479, -6.0668, -6.195, -6.1995, -6.214, -0.6722, -2.5277, -3.1642, -3.8259, -3.9538, -3.9563, -4.0201, -4.0306, -4.1193, -4.333, -4.5671, -4.6858, -4.9983, -5.0305, -5.0829, -5.1366, -5.1422, -5.2049, -5.2225, -5.5319, -5.7176, -5.773, -5.9891, -6.2866, -6.3461, -6.3554, -6.4188, -6.4338, -6.4706, -6.6187, -1.6058, -2.5645, -2.7969, -2.9898, -3.0333, -3.4298, -3.4755, -3.5245, -3.5604, -3.5828, -3.6343, -3.9187, -4.2344, -4.2886, -4.3389, -4.4403, -4.4941, -4.4942, -4.5846, -4.6212, -4.7327, -4.8092, -4.8196, -4.8333, -4.865, -4.939, -4.9419, -4.9592, -5.2817, -5.2971, -1.7034, -1.9785, -2.3897, -3.0249, -3.128, -3.6346, -3.7949, -3.8272, -3.8513, -4.0437, -4.1368, -4.1761, -4.2295, -4.3776, -4.3825, -4.4827, -4.7247, -4.7341, -4.8282, -4.9757, -5.0039, -5.1427, -5.1825, -5.1918, -5.1951, -5.2818, -5.2859, -5.2906, -5.2933, -5.3478, -1.9545, -1.9682, -2.2574, -2.6009, -2.8096, -2.8562, -3.3767, -3.9154, -4.1486, -4.3234, -4.3738, -4.4954, -4.5019, -4.708, -4.9915, -5.0361, -5.0724, -5.1516, -5.2087, -5.2596, -5.4476, -5.4636, -5.4662, -5.4747, -5.4817, -5.547, -5.5545, -5.5701, -5.6171, -5.6273, -1.574, -2.8713, -2.9236, -3.0856, -3.2231, -3.2874, -3.3794, -3.4791, -3.554, -3.6422, -3.6596, -3.8065, -3.9094, -4.0329, -4.0758, -4.1787, -4.4874, -4.5866, -4.6128, -4.6399, -4.7395, -4.9183, -4.9183, -4.9523, -4.9538, -5.0362, -5.3548, -5.3649, -5.3809, -5.3826, -1.4268, -1.4611, -2.3209, -2.826, -3.2438, -3.2688, -3.3494, -3.8893, -3.9184, -4.0659, -4.2493, -4.5429, -4.9815, -5.0011, -5.2143, -5.2935, -5.3473, -5.36, -5.3653, -5.3848, -5.4428, -5.7666, -5.9023, -6.0123, -6.1194, -6.1891, -6.2056, -6.3494, -6.5859, -6.9011, -1.8842, -2.6599, -2.8269, -3.0657, -3.1021, -3.3126, -3.4398, -3.6428, -3.7066, -3.7925, -3.8653, -3.9565, -3.9858, -4.1562, -4.244, -4.2793, -4.3845, -4.4585, -4.4745, -4.6386, -4.6577, -4.7275, -4.7877, -4.7939, -4.8057, -4.8201, -4.9098, -4.9128, -4.9595, -5.0827, -1.0942, -2.1224, -2.4759, -3.1927, -3.4875, -3.5751, -3.6617, -3.8274, -4.0329, -4.2273, -4.4168, -4.5323, -4.6431, -4.7604, -4.8691, -4.9048, -5.0067, -5.0204, -5.0449, -5.1373, -5.203, -5.2454, -5.4757, -5.5177, -5.5232, -5.5553, -5.6423, -5.6952, -6.2534, -6.2727, -2.1272, -2.6764, -3.0124, -3.0734, -3.1126, -3.114, -3.1407, -3.3552, -3.4054, -3.4536, -3.4663, -3.6893, -3.8786, -3.954, -4.1127, -4.2252, -4.3298, -4.3364, -4.3432, -4.5472, -4.7475, -4.87, -4.9572, -5.2912, -5.4031, -5.4902, -5.5484, -5.5928, -5.5981, -5.9016, -2.5897, -3.0164, -3.0372, -3.0447, -3.204, -3.3463, -3.3662, -3.3714, -3.4723, -3.5113, -3.5293, -3.5935, -3.6133, -3.6414, -3.6492, -3.6775, -3.7431, -3.7433, -3.8645, -4.0224, -4.0642, -4.0882, -4.1012, -4.2314, -4.3061, -4.4284, -4.6633, -4.7395, -4.7659, -4.7955, -1.9455, -2.0188, -2.8945, -3.1274, -3.2055, -3.216, -3.3456, -3.3517, -3.5237, -3.6073, -3.643, -3.6434, -3.9844, -4.085, -4.086, -4.3153, -4.5418, -4.553, -4.8073, -4.8123, -4.8886, -4.9124, -5.2246, -5.2748, -5.2954, -5.3296, -5.3418, -5.4872, -5.5663, -5.5987, -0.6282, -1.291, -2.9709, -4.6727, -4.723, -5.2762, -5.4009, -5.5004, -5.6212, -5.6286, -5.7267, -5.8247, -5.8329, -5.8693, -6.2572, -6.281, -6.2966, -6.4366, -6.4475, -6.5059, -6.5521, -6.5533, -6.5683, -6.612, -6.7545, -6.7691, -6.81, -7.1674, -7.1948, -7.3372, -2.0385, -2.6391, -2.6451, -2.6958, -2.7746, -3.2256, -3.254, -3.3736, -3.8479, -3.8847, -3.9897, -4.0098, -4.0701, -4.1546, -4.1919, -4.3154, -4.3288, -4.4066, -4.4863, -4.4951, -4.573, -4.6585, -4.7679, -4.9536, -4.9832, -5.1181, -5.1484, -5.293, -5.3279, -5.3873, -2.1786, -2.3529, -2.6191, -2.837, -3.0076, -3.1453, -3.227, -3.313, -3.3223, -3.3491, -3.3519, -3.6051, -3.8341, -3.9612, -4.2634, -4.2775, -4.2785, -4.4528, -4.4578, -4.5456, -4.6865, -4.7959, -4.9145, -5.013, -5.0797, -5.1207, -5.1516, -5.3702, -5.3755, -5.4816], \"loglift\": [30.0, 29.0, 28.0, 27.0, 26.0, 25.0, 24.0, 23.0, 22.0, 21.0, 20.0, 19.0, 18.0, 17.0, 16.0, 15.0, 14.0, 13.0, 12.0, 11.0, 10.0, 9.0, 8.0, 7.0, 6.0, 5.0, 4.0, 3.0, 2.0, 1.0, 2.9313, 2.9299, 2.9267, 2.9266, 2.9257, 2.9176, 2.9174, 2.9172, 2.9169, 2.9163, 2.9158, 2.9156, 2.9155, 2.9122, 2.9105, 2.9094, 2.908, 2.9059, 2.9044, 2.8988, 2.8979, 2.894, 2.8926, 2.8917, 2.8912, 2.8892, 2.8865, 2.8812, 2.8789, 2.8773, 2.9926, 2.9922, 2.9914, 2.9911, 2.9899, 2.989, 2.9837, 2.9801, 2.978, 2.9777, 2.9775, 2.977, 2.974, 2.9727, 2.9709, 2.9706, 2.9702, 2.97, 2.9683, 2.9652, 2.9633, 2.9631, 2.9607, 2.9606, 2.9576, 2.9475, 2.946, 2.9446, 2.9439, 2.9306, 3.0713, 3.0693, 3.0686, 3.0682, 3.0671, 3.0647, 3.0642, 3.0604, 3.0601, 3.0525, 3.0521, 3.052, 3.0492, 3.0486, 3.0473, 3.0388, 3.0373, 3.0373, 3.0344, 3.0284, 3.0265, 3.024, 3.0179, 3.0136, 3.0024, 3.0015, 3.0001, 2.9943, 2.9813, 2.9761, 2.939, 2.9385, 2.9321, 2.9308, 2.9265, 2.9253, 2.9226, 2.9226, 2.9203, 2.9155, 2.9153, 2.9103, 2.9066, 2.9055, 2.9036, 2.8989, 2.8974, 2.8968, 2.895, 2.8727, 2.871, 2.8573, 2.8555, 2.8529, 2.8146, 2.8095, 2.7941, 2.7757, 2.775, 2.7728, 2.903, 2.8992, 2.8953, 2.8876, 2.8854, 2.8853, 2.8841, 2.8839, 2.8821, 2.8771, 2.8702, 2.866, 2.8526, 2.851, 2.8482, 2.8452, 2.8449, 2.8412, 2.8401, 2.8181, 2.8015, 2.796, 2.7716, 2.7297, 2.7199, 2.7183, 2.7073, 2.7046, 2.6979, 2.6686, 2.8897, 2.8869, 2.8857, 2.8845, 2.8842, 2.8807, 2.8802, 2.8796, 2.8792, 2.8789, 2.8783, 2.874, 2.8676, 2.8663, 2.865, 2.8622, 2.8607, 2.8607, 2.8578, 2.8566, 2.8525, 2.8495, 2.8491, 2.8485, 2.8472, 2.8438, 2.8437, 2.8429, 2.825, 2.824, 2.9359, 2.9353, 2.9339, 2.9304, 2.9296, 2.9242, 2.9219, 2.9213, 2.9209, 2.9174, 2.9154, 2.9145, 2.9132, 2.9093, 2.9092, 2.9062, 2.8977, 2.8974, 2.8935, 2.8866, 2.8851, 2.8775, 2.8751, 2.8746, 2.8744, 2.8688, 2.8685, 2.8682, 2.868, 2.8642, 2.9499, 2.9498, 2.9489, 2.9475, 2.9464, 2.9461, 2.9417, 2.9342, 2.9294, 2.9251, 2.9237, 2.92, 2.9198, 2.9125, 2.8998, 2.8974, 2.8955, 2.8909, 2.8874, 2.8841, 2.8706, 2.8693, 2.8691, 2.8684, 2.8678, 2.8624, 2.8617, 2.8604, 2.8561, 2.8552, 2.9489, 2.9442, 2.9438, 2.9426, 2.9414, 2.9408, 2.9399, 2.9388, 2.9378, 2.9367, 2.9364, 2.9342, 2.9324, 2.9301, 2.9292, 2.9269, 2.9184, 2.9151, 2.9142, 2.9132, 2.9093, 2.9015, 2.9015, 2.8998, 2.8997, 2.8955, 2.8755, 2.8748, 2.8736, 2.8735, 2.6086, 2.6085, 2.607, 2.6052, 2.6029, 2.6027, 2.6022, 2.5968, 2.5964, 2.5944, 2.5913, 2.5851, 2.5719, 2.5711, 2.5622, 2.5584, 2.5556, 2.5549, 2.5546, 2.5536, 2.5503, 2.5286, 2.5173, 2.5071, 2.4961, 2.4884, 2.4865, 2.4687, 2.4343, 2.3764, 3.0536, 3.0505, 3.0494, 3.0476, 3.0473, 3.0452, 3.0437, 3.0408, 3.0398, 3.0383, 3.037, 3.0352, 3.0345, 3.0305, 3.0282, 3.0272, 3.024, 3.0216, 3.0211, 3.0149, 3.0141, 3.0111, 3.0084, 3.0081, 3.0075, 3.0068, 3.0023, 3.0022, 2.9996, 2.9925, 2.9236, 2.9217, 2.9204, 2.9159, 2.9129, 2.9119, 2.9107, 2.9082, 2.9045, 2.9002, 2.8952, 2.8916, 2.8878, 2.8833, 2.8786, 2.877, 2.872, 2.8713, 2.87, 2.8649, 2.861, 2.8583, 2.8418, 2.8384, 2.8379, 2.8352, 2.8275, 2.8224, 2.7523, 2.7492, 3.092, 3.0894, 3.087, 3.0864, 3.0861, 3.0861, 3.0858, 3.0835, 3.0829, 3.0823, 3.0821, 3.0788, 3.0753, 3.0738, 3.0701, 3.0671, 3.064, 3.0638, 3.0636, 3.0565, 3.0481, 3.042, 3.0373, 3.0151, 3.006, 2.9983, 2.9927, 2.9883, 2.9878, 2.9522, 2.9495, 2.9469, 2.9467, 2.9466, 2.9453, 2.9439, 2.9437, 2.9437, 2.9425, 2.9421, 2.9419, 2.941, 2.9408, 2.9404, 2.9403, 2.9399, 2.9389, 2.9389, 2.9369, 2.9339, 2.9331, 2.9326, 2.9323, 2.9293, 2.9273, 2.9239, 2.9159, 2.913, 2.9119, 2.9106, 2.9678, 2.9676, 2.9637, 2.9619, 2.9612, 2.9612, 2.9599, 2.9598, 2.9578, 2.9567, 2.9562, 2.9562, 2.9505, 2.9484, 2.9484, 2.9428, 2.9358, 2.9355, 2.9255, 2.9253, 2.9218, 2.9207, 2.903, 2.8997, 2.8983, 2.8958, 2.895, 2.8837, 2.8768, 2.8739, 2.323, 2.3227, 2.3195, 2.3022, 2.3011, 2.2849, 2.2799, 2.2755, 2.2695, 2.2691, 2.2637, 2.2577, 2.2572, 2.2548, 2.2239, 2.2216, 2.2201, 2.2054, 2.2042, 2.1975, 2.1919, 2.1917, 2.1899, 2.1843, 2.1646, 2.1624, 2.1563, 2.0922, 2.0865, 2.0547, 2.9764, 2.9741, 2.974, 2.9737, 2.9733, 2.9699, 2.9696, 2.9684, 2.9618, 2.9611, 2.9591, 2.9587, 2.9574, 2.9555, 2.9546, 2.9514, 2.9511, 2.9488, 2.9463, 2.946, 2.9434, 2.9402, 2.9358, 2.9272, 2.9256, 2.9181, 2.9163, 2.9068, 2.9043, 2.8999, 2.8397, 2.8392, 2.8381, 2.837, 2.836, 2.835, 2.8343, 2.8336, 2.8335, 2.8332, 2.8332, 2.8305, 2.8274, 2.8254, 2.8193, 2.819, 2.819, 2.8145, 2.8144, 2.8118, 2.8073, 2.8032, 2.7984, 2.7939, 2.7906, 2.7885, 2.7869, 2.7737, 2.7733, 2.7659]}, \"token.table\": {\"Topic\": [9, 14, 16, 10, 3, 14, 6, 4, 6, 17, 16, 2, 1, 13, 12, 8, 17, 10, 7, 8, 18, 4, 16, 1, 2, 2, 18, 13, 2, 2, 3, 2, 9, 11, 3, 15, 10, 3, 5, 7, 9, 14, 1, 17, 12, 13, 11, 9, 9, 11, 3, 8, 10, 9, 11, 4, 18, 17, 6, 11, 9, 9, 18, 13, 10, 14, 12, 4, 5, 6, 6, 1, 13, 11, 8, 16, 6, 1, 17, 10, 12, 14, 13, 3, 9, 16, 7, 2, 12, 8, 12, 7, 11, 7, 10, 10, 1, 2, 16, 9, 12, 5, 5, 18, 2, 1, 10, 16, 1, 14, 11, 18, 7, 14, 14, 1, 16, 5, 8, 17, 12, 8, 5, 3, 15, 15, 2, 13, 17, 6, 17, 3, 10, 17, 12, 2, 7, 8, 1, 18, 3, 2, 10, 1, 10, 9, 5, 14, 12, 8, 6, 1, 9, 1, 4, 4, 11, 10, 5, 16, 1, 10, 14, 7, 7, 1, 10, 7, 1, 15, 5, 4, 5, 2, 3, 11, 4, 15, 8, 9, 8, 5, 6, 6, 4, 12, 15, 16, 3, 15, 6, 18, 18, 17, 2, 15, 10, 8, 13, 16, 12, 11, 9, 15, 8, 5, 2, 18, 8, 10, 15, 14, 14, 11, 11, 17, 15, 6, 3, 3, 6, 9, 6, 9, 16, 13, 13, 1, 14, 1, 9, 6, 5, 16, 7, 17, 7, 11, 13, 16, 16, 15, 8, 16, 7, 14, 16, 14, 12, 2, 15, 7, 16, 17, 8, 8, 5, 18, 18, 4, 2, 3, 2, 3, 11, 14, 10, 3, 16, 16, 17, 13, 10, 4, 10, 18, 4, 14, 7, 6, 14, 16, 5, 10, 1, 6, 3, 17, 12, 16, 17, 4, 11, 14, 13, 1, 9, 5, 18, 13, 1, 17, 4, 16, 2, 15, 15, 10, 6, 12, 2, 13, 17, 6, 5, 11, 15, 12, 2, 4, 10, 6, 9, 12, 14, 9, 13, 7, 6, 16, 17, 12, 15, 4, 11, 9, 9, 5, 7, 6, 12, 12, 3, 8, 6, 2, 15, 18, 13, 11, 11, 12, 15, 3, 9, 4, 15, 1, 10, 6, 12, 7, 1, 4, 8, 5, 16, 17, 7, 15, 12, 14, 4, 1, 4, 13, 17, 9, 15, 10, 18, 18, 10, 8, 13, 18, 16, 9, 8, 8, 9, 7, 18, 4, 12, 11, 4, 18, 1, 7, 14, 11, 11, 18, 6, 16, 15, 14, 17, 2, 3, 18, 16, 3, 1, 11, 3, 6, 5, 17, 11, 1, 11, 13, 13, 3, 14, 11, 13, 15, 5, 14, 5, 3, 10, 18, 14, 1, 12, 8, 4, 17, 3, 5, 8, 3, 8, 18, 4, 13, 3, 11, 18, 14, 8, 15, 11, 7, 15, 8, 4, 9, 15, 18, 18, 3, 18, 13, 17, 13, 4, 15, 9, 8, 14, 10, 17, 16, 2, 17, 12, 17, 6, 6, 12, 7, 13, 15, 13, 7, 14, 15, 5, 5, 12, 6, 1, 14, 4, 5, 8, 4, 2, 9, 4, 4, 3, 9, 5, 13, 7, 18, 2, 7, 17, 7, 7, 1, 13, 12, 2, 12, 7, 11, 5, 18, 13, 6, 8, 2, 16, 2, 5, 10, 2, 3, 7, 10, 5, 17], \"Freq\": [0.9312106371077428, 0.9746773715382726, 0.9382070953275191, 0.8094685656806065, 0.9923064893590345, 0.9903992182910465, 0.94749706941701, 0.9672186724331091, 0.9442638330629276, 0.9730490195162745, 0.9863113824959026, 0.9811887309839058, 0.9548575167611747, 0.9957734551274697, 0.8635545143331114, 0.9304344699623691, 0.9954546201112692, 0.9766764116341854, 0.9778278531959173, 0.9557150733292072, 0.9481868954126021, 0.9386920665124997, 0.9050120834224498, 0.9869206905415248, 0.9654100513097328, 0.9118022169795351, 0.967263700405246, 0.9714961784424916, 0.9589995562103111, 0.9379488537876632, 0.9770698679000361, 0.9692630939893487, 0.9864476730248928, 0.9920195104345556, 0.9460243554779745, 0.9923362777673039, 0.9411419052561393, 0.9070762164359683, 0.8452282484791075, 0.9928149916587635, 0.9420459413645335, 0.9767797878325823, 0.9962466910665031, 0.9710748796146612, 0.9313253969922561, 0.9873210850970604, 0.9424909210397285, 0.9778216473968405, 0.9326987208840426, 0.9536379164982175, 0.9636586154339402, 0.9951726750344747, 0.9970966968170335, 0.9175279921149347, 0.9807374612035648, 0.9549290266109753, 0.9937094986285211, 0.962775189300569, 0.9857264903011249, 0.9740935238191969, 0.9948344931732809, 0.9272015056447945, 0.9822209045808974, 0.9598410143642054, 0.9418318027370968, 0.9481636087367634, 0.9597791831405119, 0.8473841489220307, 0.983076659413473, 0.9636113896467852, 0.9168579353032127, 0.984484988208154, 0.9723867454813391, 0.9658827087628534, 0.9416212158815155, 0.9117713142956697, 0.9770805584782446, 0.984948041250972, 0.9961714105870787, 0.9953991107212168, 0.951047770033719, 0.9915466473366579, 0.9562927517476622, 0.9722116810680672, 0.9982267087180632, 0.8658533540988501, 0.9739890983693611, 0.9830073620067454, 0.9086428285369506, 0.9983390830936888, 0.9432753184025603, 0.981122470178774, 0.924290461621614, 0.9676578534867211, 0.9338604793452997, 0.9102770030749827, 0.9560185499377707, 0.9833646118061801, 0.8555296557219974, 0.9862498856093621, 0.9620665911602082, 0.9847035798063747, 0.9805307717497471, 0.9964178874411942, 0.9460340116478535, 0.9387398428213573, 0.9015656710586585, 0.895116043022381, 0.9705803397203383, 0.9562834754559116, 0.962500442737601, 0.9807178939528077, 0.9544108705441073, 0.9480708922217604, 0.9884122163558854, 0.9621498347239309, 0.9004791227031388, 0.8690179784812014, 0.8894235677952871, 0.9875366949549389, 0.9496861873213204, 0.8833794469811601, 0.9950187320842901, 0.9346617966014665, 0.9895893674114521, 0.954655516666851, 0.9522606882155843, 0.9728199205051558, 0.9722761416021545, 0.9909303095594496, 0.9930569660130248, 0.9922410464550927, 0.8884427919433416, 0.9928243341498395, 0.9806381019810687, 0.9961109184423654, 0.9442570620231948, 0.8772878389241323, 0.9804562879023393, 0.9912287022832591, 0.8894778731071217, 0.9723868056260045, 0.9958296708872901, 0.9793380235060416, 0.9935646622383183, 0.9925448598563471, 0.8710009714153042, 0.9799085200284197, 0.9467201164236875, 0.9976306453986784, 0.9705257093301491, 0.959484949150028, 0.9595375757535515, 0.9739908679903032, 0.9799836645276372, 0.9611028952708033, 0.9505432047210423, 0.9382480453333822, 0.9754417738977275, 0.8301590368308269, 0.9826206467293049, 0.8761270985465596, 0.9644208041818053, 0.9814395403125679, 0.9967170042481136, 0.9573222688489267, 0.9334518559931598, 0.9975524675928211, 0.978433268964942, 0.9971260368340582, 0.9329145121720124, 0.8338531745026835, 0.8964351782558251, 0.9574249868469983, 0.982982928268217, 0.957301918354914, 0.9378763123856597, 0.9718976693183511, 0.9790298454635242, 0.9340858632103087, 0.9377881432511751, 0.9512404901779619, 0.9890421762297968, 0.9848673005444886, 0.9275228015869386, 0.9939555414515874, 0.922783983300771, 0.999641546117478, 0.9730152960738575, 0.9914752657607117, 0.9537779305791954, 0.9976373432170748, 0.9378971540601061, 0.9812491858974156, 0.9606067642500762, 0.987522542809691, 0.983009704588362, 0.990817880108339, 0.8874937029777654, 0.971299975413202, 0.9823410851129486, 0.97991266745192, 0.984304329752292, 0.9310286715561983, 0.9309156613401594, 0.9266469824144604, 0.9684272438562544, 0.9920865775486027, 0.8903082015879094, 0.8924783851498864, 0.9148267330522631, 0.9417832430321322, 0.9894193470370486, 0.9568009871203625, 0.972887239913399, 0.9817206270751065, 0.9153491655461311, 0.9719813997685243, 0.9649908491872013, 0.9881401392941488, 0.9625474778919283, 0.9777298954744608, 0.9913565996220394, 0.9758176374825323, 0.960084979059567, 0.9921274773558583, 0.9888677553633415, 0.9940193892239247, 0.9877337848010247, 0.9687380206867593, 0.9897127117086861, 0.9742843550820105, 0.7923073023318656, 0.9369369934170656, 0.9794502142573754, 0.9880572119697324, 0.9796861389237689, 0.978597516212353, 0.8478320551785244, 0.8760048036573516, 0.9195835559050805, 0.9798544413768442, 0.985491857424414, 0.937682677398974, 0.9436772911377813, 0.9928609197867249, 0.9077673884441776, 0.9900742934596165, 0.9019245659870535, 0.940470026540595, 0.9046079037145248, 0.9483414390997937, 0.8546120111133784, 0.9663289119946805, 0.9021535597329632, 0.9922345331334426, 0.9916408876813755, 0.9893371605918972, 0.9334703330539651, 0.9987716289230884, 0.9674889597183653, 0.9848141792918883, 0.9848300548318486, 0.9149885309224393, 0.9698092165711981, 0.9910255081468665, 0.9913019762556831, 0.9748999213328592, 0.8018313741899439, 0.9385041248092357, 0.9612247668513503, 0.8831321331209914, 0.99920677746947, 0.9875787099622391, 0.9526754858531065, 0.9425840834568497, 0.8370052540398053, 0.9834025954992858, 0.952013890809527, 0.9984152735666622, 0.978408967518686, 0.8575355822125692, 0.9608565323288899, 0.9580017143363859, 0.9542579901973671, 0.9691199712206348, 0.9712295323742338, 0.9357844861745755, 0.9838894998480971, 0.9309708086699745, 0.9666630036768583, 0.9671643578891148, 0.9532259167860564, 0.9905653843422357, 0.978343325310815, 0.9854359461986381, 0.952394811280277, 0.9768283337751333, 0.973693609466586, 0.9828913140358775, 0.9917060085442627, 0.9965121565969357, 0.9193171121245953, 0.8667784749183142, 0.9860153951334623, 0.986368996530167, 0.9136859410470352, 0.9809790290656766, 0.9468413142799305, 0.9297549618677273, 0.9768654246725323, 0.8917422084680307, 0.9737584462065144, 0.9519731465144495, 0.9099436227235664, 0.9929961075477224, 0.9974053835236674, 0.9335456044806784, 0.9960099783404703, 0.8538716510768453, 0.9531741206514588, 0.9559378341210129, 0.9560162045565904, 0.9812887777665805, 0.9926372008554811, 0.9934689675145909, 0.9424282843725506, 0.9564539451351382, 0.9622759140569009, 0.8125546911687004, 0.9754407813355522, 0.9950858123180668, 0.9783417378807047, 0.9789160832872342, 0.9359159504721607, 0.9354430717729095, 0.9916310821935601, 0.9776732423339302, 0.9782349914981431, 0.9959444594716529, 0.9987186977925194, 0.9479284351102742, 0.9935617886714104, 0.9438696824780491, 0.984893420216498, 0.9726252711045044, 0.9884837176860722, 0.9512485659359157, 0.9827918516481381, 0.9712962904875151, 0.9965396880822402, 0.9532430979798268, 0.9883123112330491, 0.9551180489678539, 0.9923428853124819, 0.9230178042773624, 0.9899351729032014, 0.9981617433163671, 0.8181555109969892, 0.9884509088056056, 0.8776415241590407, 0.9977176331250158, 0.9708194237511595, 0.9618463029983424, 0.9464990148790554, 0.7861507480128381, 0.9972515828120755, 0.991900862465151, 0.928807500282516, 0.91332821628997, 0.938333312011032, 0.9907150117457134, 0.9804638685315805, 0.9760987213271375, 0.9558345710585693, 0.9194813740886908, 0.9107378826918185, 0.9528295319741253, 0.9672406088495561, 0.9185602207885866, 0.9246971252925662, 0.9689276121782505, 0.9985680941257807, 0.9442184343066208, 0.9880164569339326, 0.9922882810153449, 0.7951091396142381, 0.9089932700797388, 0.9611334569831128, 0.9416603493093091, 0.9914474410180915, 0.989767731086342, 0.969906433695254, 0.9771461868776682, 0.975164387634157, 0.9530239223495499, 0.9812710466519666, 0.9788932944652059, 0.9674167839949375, 0.9208850132059854, 0.9875340995903131, 0.9804763602904117, 0.9488642621921132, 0.991966058137901, 0.9880512054287066, 0.9509735562459883, 0.991027978769534, 0.9879649480330304, 0.9474198774140685, 0.9967882408545009, 0.9355468055550804, 0.9519221227051817, 0.9991846347862423, 0.9582007110128815, 0.9480007332021114, 0.9927472689116262, 0.9639339790970108, 0.9953591846785982, 0.9305166529731222, 0.954736856230265, 0.9869497015411339, 0.9838605162433325, 0.9811549438347738, 0.950469358098039, 0.9852174805121804, 0.98519912771659, 0.9830471626123941, 0.982607177697607, 0.9302189167618862, 0.9883805491749811, 0.9992430591883762, 0.9850883594905204, 0.975287566242066, 0.9553784879327663, 0.9708397787622227, 0.947813271841182, 0.9852422173607159, 0.9822460283867708, 0.9638296595413888, 0.9952362976921637, 0.9686062483924425, 0.9885847409242845, 0.9360181479712912, 0.8767717476519938, 0.9571474933371956, 0.9893238348288464, 0.9617798175839167, 0.9670844321960816, 0.8661637868209467, 0.9914902532692893, 0.9937794179372977, 0.9790557281521225, 0.9759206238450885, 0.9948208835156725, 0.8960264692262853, 0.9793478672329361, 0.9903569850379685, 0.9190208742916675, 0.9410228571157786, 0.9968789610868435, 0.8937641714414055, 0.9420053302657074, 0.9635195927112722, 0.993488410481005, 0.9730856015328226, 0.997747750732216, 0.9939200359304868, 0.990702197489346, 0.9368108660711162, 0.9765839000761011, 0.9905872295160187, 0.9669170491647766, 0.9952532920197642, 0.9691972215341373, 0.9680305336532008, 0.9949059269129484, 0.902040168412372, 0.9303706937244722, 0.982105224280812, 0.982288499383726, 0.9064864469189968, 0.9726038891416131, 0.9704188816554853, 0.9538989704589558, 0.9850060563055405, 0.9478383008919888, 0.9914278467968741, 0.9706588950395088, 0.9659727904147608, 0.976532764130477, 0.993852790678307, 0.9739755221569917, 0.8174326169076159, 0.980810913926329, 0.9978166300473555, 0.9949672235299891, 0.9795862540075269, 0.9898401078195651, 0.9752544812831856, 0.935448576586681, 0.9288791027430114, 0.9944070115701542, 0.981565697124418, 0.9887248532373444, 0.9456096955477953, 0.9979912186665527, 0.9142670696535844, 0.9714604272707223, 0.9450901410898381, 0.9848773231971261, 0.9162105971745279, 0.9899661846987994, 0.9926007275800636, 0.982426510019641, 0.9802366868174935, 0.9560250133895406, 0.9879033105957057, 0.9931031833825756, 0.8825397236492587, 0.9593303387241319, 0.9899131424738324, 0.9843349727643056, 0.958958293093699, 0.9917767026549367, 0.8349038561108646, 0.9962364973451946, 0.9953501177049661, 0.9660024322735934, 0.9613404420814933, 0.995360491647233, 0.726090787524868, 0.9773588469064844, 0.872671413090106, 0.9811105131949639, 0.9660254683510214, 0.9910119692375687, 0.9731779496824383, 0.9092523674748308, 0.9619032380381619, 0.9778576555836157], \"Term\": [\"accommodate\", \"adult\", \"adult_child\", \"adult_kid\", \"afternoon\", \"age\", \"air\", \"ale\", \"allergy\", \"ambiance\", \"ambience\", \"amount\", \"apology\", \"area\", \"arrives\", \"asset\", \"atmosphere\", \"attentive\", \"attitude\", \"average\", \"avocado\", \"baby\", \"background_music\", \"bacon\", \"bag\", \"baguette\", \"ball\", \"bank_holiday\", \"barman\", \"base\", \"batter\", \"bean\", \"beef\", \"beer\", \"beer_garden\", \"bill\", \"bin\", \"biq\", \"bird\", \"birthday\", \"birthday_celebration\", \"birthday_meal\", \"bit\", \"bland\", \"bone\", \"book\", \"book_table\", \"bottle\", \"bottom\", \"bowl\", \"brand\", \"bread\", \"breakfast\", \"broccoli\", \"building\", \"bun\", \"burger\", \"burnt\", \"business\", \"butter\", \"cake\", \"car\", \"car_park\", \"card\", \"carrot\", \"case\", \"cash\", \"caters\", \"celebration\", \"centre\", \"chain\", \"chair\", \"chance\", \"character\", \"charm\", \"chatty\", \"check\", \"cheese\", \"chef\", \"chicken\", \"chicken_curry\", \"child\", \"child_menu\", \"chilli\", \"chip\", \"chip_pea\", \"chip_shop\", \"chocolate\", \"chocolate_brownie\", \"choice\", \"choice_menu\", \"christmas\", \"christmas_dinner\", \"christmas_lunch\", \"christmas_meal\", \"chunk\", \"cider\", \"class\", \"coast\", \"cocktail\", \"coconut\", \"cod\", \"cod_chip\", \"coffee\", \"coke\", \"cold\", \"coleslaw\", \"colleague\", \"colour\", \"comment\", \"company\", \"complaint\", \"content\", \"conversation\", \"cost\", \"cosy\", \"country\", \"country_pub\", \"countryside\", \"couple\", \"couple_time\", \"couple_year\", \"course\", \"crab\", \"cream\", \"credit\", \"crisp\", \"crispy\", \"cup\", \"curry\", \"customer\", \"customer_service\", \"cutlery\", \"daughter\", \"day\", \"decor\", \"delay\", \"describe\", \"desert\", \"dessert\", \"dessert_menu\", \"diner\", \"dinner\", \"disappointment\", \"dish\", \"dog\", \"doggie\", \"door\", \"doubt\", \"drink\", \"drink_order\", \"drive\", \"driver\", \"dry\", \"eaten\", \"eater\", \"edge\", \"effort\", \"egg\", \"emma\", \"end\", \"england\", \"english\", \"establishment\", \"evening\", \"event\", \"excuse\", \"experience\", \"fact\", \"family\", \"family_birthday\", \"family_gathering\", \"family_group\", \"family_lunch\", \"family_meal\", \"fan\", \"feedback\", \"feeling\", \"filling\", \"finger\", \"finger_sandwich\", \"fire\", \"fish\", \"fish_chip\", \"fish_finger\", \"flavour\", \"flower\", \"food\", \"food_average\", \"food_good\", \"friday\", \"friend\", \"friend_birthday\", \"front\", \"fruit\", \"fry\", \"fun\", \"garden\", \"garnish\", \"gem\", \"gin\", \"girl\", \"glass\", \"glass_wine\", \"god\", \"granddaughter\", \"gravy\", \"group\", \"group_people\", \"grub\", \"guess\", \"guest\", \"guy\", \"ham\", \"ham_egg\", \"hand\", \"hassle\", \"head\", \"heart\", \"helpful\", \"history\", \"holiday\", \"home\", \"homemade\", \"hope\", \"hour\", \"house\", \"husband\", \"i\", \"ice\", \"ice_cream\", \"idea\", \"ie\", \"improvement\", \"ingredient\", \"issue\", \"item\", \"job\", \"joke\", \"june\", \"kid_meal\", \"kind\", \"kitchen\", \"lack\", \"lad\", \"lady\", \"lager\", \"lamb\", \"latte\", \"leaf\", \"lettuce\", \"level\", \"line\", \"list\", \"lobster\", \"location\", \"look\", \"lot\", \"lot_choice\", \"lunch\", \"lunch_friend\", \"lunch_menu\", \"lunchtime\", \"majority\", \"making\", \"management\", \"manager\", \"manner\", \"map\", \"mark\", \"mash\", \"max\", \"meal\", \"meat\", \"medium\", \"meet\", \"meet_friend\", \"member_staff\", \"memory\", \"menu\", \"menu_choice\", \"menu_selection\", \"mess\", \"mezzo\", \"middle\", \"mile\", \"min\", \"mind\", \"minute\", \"mistake\", \"mix\", \"moment\", \"monday\", \"money\", \"month\", \"morning\", \"mother\", \"mum\", \"mushroom\", \"name\", \"need\", \"night\", \"noise\", \"note\", \"number\", \"occasion\", \"oh\", \"ok\", \"okay\", \"olive\", \"onion\", \"onion_ring\", \"online\", \"opinion\", \"opportunity\", \"option\", \"order\", \"order_drink\", \"owner\", \"owner_manager\", \"pancake\", \"parent\", \"park\", \"part\", \"partner\", \"party\", \"pas\", \"past\", \"pastry\", \"payment\", \"pea\", \"people\", \"person\", \"phone\", \"photo\", \"picture\", \"pie\", \"piece\", \"pint\", \"pizza\", \"place\", \"place_visit\", \"plate\", \"platter\", \"pleasant\", \"plentiful\", \"plenty\", \"plenty_choice\", \"point\", \"pork\", \"portion\", \"portion_chip\", \"portion_size\", \"pot\", \"potato\", \"practice\", \"prawn\", \"price\", \"pricey\", \"problem\", \"process\", \"pub\", \"pub_grub\", \"pub_restaurant\", \"pud\", \"purchase\", \"quality\", \"quality_food\", \"question\", \"queue\", \"rabbit\", \"range\", \"reason\", \"reception\", \"recommendation\", \"refund\", \"reply\", \"request\", \"requirement\", \"respect\", \"response\", \"rest\", \"restaurant\", \"result\", \"return\", \"review\", \"ribeye_steak\", \"rip\", \"river\", \"riverside\", \"road\", \"roast\", \"roast_beef\", \"roast_dinner\", \"roast_potato\", \"roll\", \"round\", \"rude\", \"run\", \"rush\", \"salad\", \"salmon\", \"salt\", \"sandwich\", \"saturday\", \"saturday_night\", \"sauce\", \"sausage\", \"season\", \"selection\", \"serf\", \"server\", \"service\", \"service_smile\", \"setting\", \"shame\", \"shut\", \"side\", \"sister\", \"site\", \"size\", \"slice\", \"snack\", \"soggy\", \"son\", \"sort\", \"soup\", \"space\", \"specialise\", \"spot\", \"staff\", \"staff_attentive\", \"staff_helpful\", \"staff_pleasant\", \"staff_polite\", \"staff_rude\", \"standard\", \"star\", \"start\", \"starter\", \"stay\", \"steak\", \"steak_pie\", \"stroll\", \"stuff\", \"style\", \"summer\", \"sun\", \"sundae\", \"sunday\", \"sunday_lunch\", \"sunday_roast\", \"super\", \"superb\", \"supermarket\", \"surprise\", \"surroundings\", \"sussex\", \"system\", \"table\", \"table_window\", \"tap\", \"tart\", \"taste\", \"tasteless\", \"tasty\", \"tea\", \"team\", \"temperature\", \"tender\", \"thanks\", \"theme\", \"thing\", \"tidy\", \"till\", \"time\", \"tip\", \"toffee\", \"toilet\", \"tomato\", \"tomato_sauce\", \"top\", \"touch\", \"towel\", \"town\", \"travel\", \"trip\", \"trip_advisor\", \"turkey\", \"type\", \"u\", \"u_table\", \"underneath\", \"use\", \"value\", \"value_money\", \"variety\", \"veg\", \"vegan\", \"vegan_option\", \"veggie\", \"venue\", \"vibe\", \"view\", \"view_river\", \"visit\", \"visit_area\", \"visitor\", \"voucher\", \"wait\", \"wait_food\", \"waiter\", \"waitress\", \"walk\", \"wall\", \"warm\", \"water\", \"way\", \"way_home\", \"weather\", \"week\", \"weekend\", \"wet\", \"whilst\", \"whitebait\", \"wife\", \"wine\", \"woman\", \"word\", \"work\", \"work_christmas\", \"world\", \"world_end\", \"wow\", \"wrap\", \"year\", \"yes\", \"yoghurt\", \"yorkshire\", \"yummy\"]}, \"R\": 30, \"lambda.step\": 0.01, \"plot.opts\": {\"xlab\": \"PC1\", \"ylab\": \"PC2\"}, \"topic.order\": [1, 2, 3, 4, 5, 6, 7, 8, 9, 10, 11, 12, 13, 14, 15, 16, 17, 18]};\n",
       "\n",
       "function LDAvis_load_lib(url, callback){\n",
       "  var s = document.createElement('script');\n",
       "  s.src = url;\n",
       "  s.async = true;\n",
       "  s.onreadystatechange = s.onload = callback;\n",
       "  s.onerror = function(){console.warn(\"failed to load library \" + url);};\n",
       "  document.getElementsByTagName(\"head\")[0].appendChild(s);\n",
       "}\n",
       "\n",
       "if(typeof(LDAvis) !== \"undefined\"){\n",
       "   // already loaded: just create the visualization\n",
       "   !function(LDAvis){\n",
       "       new LDAvis(\"#\" + \"ldavis_el176017235716766562746797038\", ldavis_el176017235716766562746797038_data);\n",
       "   }(LDAvis);\n",
       "}else if(typeof define === \"function\" && define.amd){\n",
       "   // require.js is available: use it to load d3/LDAvis\n",
       "   require.config({paths: {d3: \"https://d3js.org/d3.v5\"}});\n",
       "   require([\"d3\"], function(d3){\n",
       "      window.d3 = d3;\n",
       "      LDAvis_load_lib(\"https://cdn.jsdelivr.net/gh/bmabey/pyLDAvis@3.3.1/pyLDAvis/js/ldavis.v3.0.0.js\", function(){\n",
       "        new LDAvis(\"#\" + \"ldavis_el176017235716766562746797038\", ldavis_el176017235716766562746797038_data);\n",
       "      });\n",
       "    });\n",
       "}else{\n",
       "    // require.js not available: dynamically load d3 & LDAvis\n",
       "    LDAvis_load_lib(\"https://d3js.org/d3.v5.js\", function(){\n",
       "         LDAvis_load_lib(\"https://cdn.jsdelivr.net/gh/bmabey/pyLDAvis@3.3.1/pyLDAvis/js/ldavis.v3.0.0.js\", function(){\n",
       "                 new LDAvis(\"#\" + \"ldavis_el176017235716766562746797038\", ldavis_el176017235716766562746797038_data);\n",
       "            })\n",
       "         });\n",
       "}\n",
       "</script>"
      ],
      "text/plain": [
       "PreparedData(topic_coordinates=              x         y  topics  cluster      Freq\n",
       "topic                                               \n",
       "0      0.026240 -0.018692       1        1  5.321739\n",
       "1      0.043907 -0.024814       2        1  4.993167\n",
       "2      0.052594 -0.026689       3        1  4.620828\n",
       "3      0.030045 -0.019950       4        1  5.284981\n",
       "4      0.010483 -0.010450       5        1  5.482198\n",
       "5      0.016085 -0.013957       6        1  5.549821\n",
       "6      0.032650 -0.021089       7        1  5.297649\n",
       "7      0.040393 -0.023542       8        1  5.221175\n",
       "8      0.032906 -0.021191       9        1  5.230580\n",
       "9     -0.075826  0.419010      10        1  7.355962\n",
       "10     0.045687 -0.025132      11        1  4.705996\n",
       "11     0.009326 -0.009943      12        1  5.368071\n",
       "12     0.057921 -0.027671      13        1  4.525204\n",
       "13     0.034255 -0.021635      14        1  5.211095\n",
       "14     0.037598 -0.022736      15        1  5.127938\n",
       "15    -0.444284 -0.098024      16        1  9.793857\n",
       "16     0.041880 -0.024085      17        1  5.082690\n",
       "17     0.008143 -0.009411      18        1  5.827048, topic_info=                 Term         Freq        Total Category  logprob  loglift\n",
       "13               food  3453.000000  3453.000000  Default  30.0000  30.0000\n",
       "29              staff  1850.000000  1850.000000  Default  29.0000  29.0000\n",
       "34            service  1780.000000  1780.000000  Default  28.0000  28.0000\n",
       "191             place  1188.000000  1188.000000  Default  27.0000  27.0000\n",
       "69               meal  1167.000000  1167.000000  Default  26.0000  26.0000\n",
       "...               ...          ...          ...      ...      ...      ...\n",
       "1140       staff_rude    22.987261    24.266383  Topic18  -5.1207   2.7885\n",
       "1202       lot_choice    22.288847    23.567969  Topic18  -5.1516   2.7869\n",
       "636   friend_birthday    17.912748    19.191870  Topic18  -5.3702   2.7737\n",
       "1119             meet    17.817318    19.096440  Topic18  -5.3755   2.7733\n",
       "1054         response    16.023841    17.302963  Topic18  -5.4816   2.7659\n",
       "\n",
       "[570 rows x 6 columns], token_table=      Topic      Freq         Term\n",
       "term                              \n",
       "922       9  0.931211  accommodate\n",
       "141      14  0.974677        adult\n",
       "1155     16  0.938207  adult_child\n",
       "440      10  0.809469    adult_kid\n",
       "158       3  0.992306    afternoon\n",
       "...     ...       ...          ...\n",
       "176       3  0.991012         year\n",
       "460       7  0.973178          yes\n",
       "190      10  0.909252      yoghurt\n",
       "905       5  0.961903    yorkshire\n",
       "571      17  0.977858        yummy\n",
       "\n",
       "[540 rows x 3 columns], R=30, lambda_step=0.01, plot_opts={'xlab': 'PC1', 'ylab': 'PC2'}, topic_order=[1, 2, 3, 4, 5, 6, 7, 8, 9, 10, 11, 12, 13, 14, 15, 16, 17, 18])"
      ]
     },
     "execution_count": 293,
     "metadata": {},
     "output_type": "execute_result"
    }
   ],
   "source": [
    "vis(lda_food[1],food_bow_big,food_dict_big)"
   ]
  },
  {
   "cell_type": "code",
   "execution_count": 294,
   "metadata": {
    "scrolled": true
   },
   "outputs": [
    {
     "data": {
      "text/html": [
       "\n",
       "<link rel=\"stylesheet\" type=\"text/css\" href=\"https://cdn.jsdelivr.net/gh/bmabey/pyLDAvis@3.3.1/pyLDAvis/js/ldavis.v1.0.0.css\">\n",
       "\n",
       "\n",
       "<div id=\"ldavis_el176017235716778889430220050\"></div>\n",
       "<script type=\"text/javascript\">\n",
       "\n",
       "var ldavis_el176017235716778889430220050_data = {\"mdsDat\": {\"x\": [0.03284052667988709, 0.03136087704522978, 0.026176049006922754, 0.02833383874332857, -0.36968323101193507, 0.029591187012980597, 0.028669067098680362, 0.029618942097176477, 0.02208053256479786, 0.023670349272516288, 0.03514695546163264, 0.02668644070887246, 0.02922355644721133, 0.02628490887269906], \"y\": [0.03730496797360487, 0.02293426554584918, 0.019155345155401234, -0.35497559140105117, 0.0009688598186306407, 0.01888834369251765, 0.02315493003158547, 0.028376384752569584, 0.02175901372728734, 0.02618151418647166, 0.06649372878925339, 0.03020507999578176, 0.033466650001095166, 0.02608650773100318], \"topics\": [1, 2, 3, 4, 5, 6, 7, 8, 9, 10, 11, 12, 13, 14], \"cluster\": [1, 1, 1, 1, 1, 1, 1, 1, 1, 1, 1, 1, 1, 1], \"Freq\": [7.449307409285251, 7.146584061912331, 5.5637473485692555, 8.316112716620452, 8.877033860227227, 6.279377462995541, 6.460210165742089, 6.9905896936753, 6.753294880775782, 7.219045587523784, 7.695391174897584, 7.0757777587890525, 7.394503825731588, 6.779024053254765]}, \"tinfo\": {\"Term\": [\"visit\", \"place\", \"garden\", \"staff\", \"beach\", \"park\", \"experience\", \"walk\", \"area\", \"food\", \"family\", \"lot\", \"shop\", \"price\", \"child\", \"town\", \"room\", \"way\", \"cafe\", \"people\", \"view\", \"history\", \"value\", \"hour\", \"fun\", \"thing\", \"car_park\", \"look\", \"part\", \"kid\", \"park\", \"view\", \"show\", \"lake\", \"daughter\", \"centre\", \"art\", \"chocolate\", \"hill\", \"life\", \"adult\", \"husband\", \"pleasant\", \"week\", \"sort\", \"location\", \"promenade\", \"gift\", \"boat_trip\", \"sunny\", \"adventure_golf\", \"toy\", \"box\", \"table\", \"gel\", \"gallery\", \"help\", \"harbour_park\", \"slice\", \"favourite\", \"order\", \"head\", \"price\", \"thing\", \"part\", \"value_money\", \"tour\", \"ice_cream\", \"sea\", \"weekend\", \"end\", \"community\", \"group\", \"entertainment\", \"access\", \"pond\", \"item\", \"colour\", \"man\", \"music\", \"woodland\", \"foot\", \"arm\", \"front\", \"till\", \"heart\", \"duke_norfolk\", \"question\", \"ball\", \"travel\", \"gate\", \"example\", \"style\", \"building\", \"event\", \"photo\", \"tulip_festival\", \"activity\", \"step\", \"christmas\", \"tea\", \"entrance_fee\", \"person\", \"rain\", \"stroll\", \"festival\", \"wildfowl\", \"direction\", \"bottle\", \"reception\", \"passion\", \"route\", \"ground_garden\", \"roll\", \"bacon\", \"adventure\", \"area_plenty\", \"disappointment\", \"online\", \"duty\", \"outlet\", \"walk_round\", \"technology\", \"garden\", \"shop\", \"hour\", \"course\", \"ground\", \"range\", \"restaurant\", \"selection\", \"facility\", \"whilst\", \"hand\", \"couple\", \"coffee\", \"village\", \"tulip\", \"flower\", \"cake\", \"sculpture\", \"grandad\", \"pay\", \"host\", \"childhood\", \"winter\", \"place_walk\", \"wonder\", \"norfolk\", \"tea_coffee\", \"pas\", \"past\", \"sight\", \"beach\", \"walk\", \"fun\", \"bird\", \"book\", \"machine\", \"trip\", \"museum\", \"dog\", \"martin\", \"road\", \"cathedral\", \"round\", \"class\", \"place_visit\", \"run\", \"load\", \"school\", \"visitor\", \"baby\", \"helpful\", \"amusement\", \"birthday\", \"issue\", \"fact\", \"holiday\", \"path\", \"train\", \"view_top\", \"girl\", \"play\", \"age\", \"money\", \"street\", \"seat\", \"variety\", \"beer\", \"use\", \"chip\", \"floor\", \"stall\", \"breakfast\", \"member\", \"visit_garden\", \"bench\", \"wet\", \"queue\", \"shoe\", \"sun\", \"bed\", \"wall\", \"collection\", \"wander\", \"tee\", \"buffet\", \"quiche\", \"moment\", \"ruin\", \"gold\", \"shape\", \"lot\", \"lunch\", \"space\", \"plant\", \"cost\", \"house\", \"tree\", \"duck\", \"knowledge\", \"choice\", \"character\", \"chapel\", \"option\", \"mile\", \"lady\", \"entry\", \"station\", \"fair\", \"company\", \"meat\", \"picture\", \"informative\", \"fire\", \"level\", \"wait\", \"generation\", \"office\", \"brighton\", \"bloom\", \"discount\", \"town\", \"year\", \"pool\", \"son\", \"night\", \"friend\", \"side\", \"kevin\", \"game\", \"interest\", \"effort\", \"dirty\", \"pub\", \"gold_ticket\", \"food_drink\", \"tea_room\", \"club\", \"business\", \"stuff\", \"venue\", \"resident\", \"membership\", \"sussex\", \"murder_mystery\", \"others\", \"surprise\", \"base\", \"minute_walk\", \"door\", \"type\", \"history\", \"look\", \"service\", \"water\", \"need\", \"home\", \"size\", \"review\", \"idea\", \"treatment\", \"menu\", \"bank_holiday\", \"wildlife\", \"massage\", \"country\", \"section\", \"statue\", \"england\", \"alice_wonderland\", \"reason\", \"beauty\", \"mix\", \"i\", \"window\", \"quaint\", \"challenge\", \"antique\", \"model\", \"craft\", \"drive\", \"place\", \"experience\", \"child\", \"kid\", \"play_area\", \"superb\", \"hotel\", \"bedroom\", \"charge\", \"world\", \"point\", \"taste\", \"party\", \"picnic\", \"art_craft\", \"wheelchair\", \"coin\", \"prize\", \"town_centre\", \"ok\", \"fab\", \"member_staff\", \"top\", \"product\", \"season\", \"century\", \"state\", \"super\", \"scheme\", \"awesome\", \"staff\", \"area\", \"way\", \"golf\", \"bit\", \"plenty\", \"church\", \"toilet\", \"boat\", \"u\", \"information\", \"sand\", \"kind\", \"thanks\", \"shame\", \"opportunity\", \"attraction\", \"buggy\", \"staff_helpful\", \"knight\", \"yes\", \"website\", \"making\", \"swan\", \"gentleman\", \"gardener\", \"management\", \"condition\", \"touch\", \"clever\", \"room\", \"car_park\", \"cinema\", \"work\", \"screen\", \"weather\", \"arcade\", \"drink\", \"entrance\", \"summer\", \"wine\", \"guy\", \"dinner\", \"couple_hour\", \"rest\", \"snack\", \"treasure\", \"trust\", \"wife\", \"pleasure\", \"architecture\", \"sky\", \"wood\", \"return\", \"good\", \"story\", \"amount\", \"peaceful\", \"problem\", \"heritage\", \"visit\", \"family\", \"cafe\", \"ticket\", \"site\", \"display\", \"quality\", \"meal\", \"bird_prey\", \"car\", \"month\", \"climb\", \"talk\", \"partner\", \"card\", \"period\", \"coffee_shop\", \"package\", \"monday\", \"saturday\", \"market\", \"car_boot\", \"easter\", \"beautiful\", \"boardwalk\", \"hut\", \"surface\", \"tip\", \"access_area\", \"family_trip\", \"food\", \"people\", \"value\", \"time\", \"afternoon\", \"day\", \"morning\", \"team\", \"gift_shop\", \"river\", \"minute\", \"gem\", \"setting\", \"chair\", \"spa\", \"london\", \"loo\", \"sunday\", \"portion\", \"manager\", \"detail\", \"practice\", \"tower\", \"estate\", \"date\", \"joy\", \"waste_money\", \"property\", \"performance\", \"magnificent\"], \"Freq\": [242.0, 198.0, 142.0, 136.0, 124.0, 102.0, 101.0, 107.0, 100.0, 94.0, 93.0, 85.0, 94.0, 81.0, 75.0, 71.0, 70.0, 70.0, 67.0, 63.0, 61.0, 57.0, 54.0, 59.0, 57.0, 49.0, 49.0, 46.0, 47.0, 46.0, 101.98956606849927, 60.4328070558075, 42.02796332105642, 23.03380388429792, 21.90904379764856, 20.270679787466943, 19.408957114230528, 18.630708683355337, 17.94690932654899, 17.893676842670978, 17.802023347624175, 17.5404929260278, 16.27871488656839, 15.717626160506821, 14.948978432327765, 14.21148430188325, 13.467028524460023, 12.954502063675843, 12.841476767414, 11.992146735818904, 11.047393909597162, 10.825456603915796, 10.727926204792062, 10.614052770623791, 8.880568092194208, 8.660642838992572, 7.1085955161836845, 6.970123352671416, 6.415121290115351, 6.173130801058442, 9.436771835120911, 7.055454034226964, 80.26574226732613, 48.98969197273198, 46.856056825342854, 32.28870807991453, 26.186439270831226, 26.113128519826056, 23.52861985661484, 22.744582798968235, 21.062959609016396, 19.993802293351965, 18.820634716746362, 17.71587840161798, 17.542390026704368, 15.269919130621057, 15.055743690497078, 13.623231431216341, 11.794626174540147, 11.288169818324882, 11.27742010083421, 11.091338152071582, 10.0936066982657, 8.307553316071383, 8.233614850709369, 7.8583219848184385, 7.578153598611468, 7.354741415934797, 7.058211423661662, 6.984200496141627, 6.6637920402051, 6.15766438281508, 8.571116518596668, 39.77022269239332, 24.907302707678866, 23.78530682351396, 22.23902035024967, 20.50646317584867, 16.151995232717777, 15.684206725909926, 14.189975293763425, 12.577215128388078, 11.068376774939775, 9.746437823116958, 9.74328820358727, 9.001599702003569, 8.866619406255056, 8.688709402104683, 8.291030175423495, 8.175496095549807, 7.278995026258853, 6.506396889942379, 6.26641273774993, 6.262764915562653, 5.852450508247689, 5.852196989023569, 5.435431774855719, 5.389698062273941, 5.3840434960941295, 5.242828190687524, 4.992048401507631, 4.814637959367254, 3.6978133916010623, 141.03600479053918, 93.58352107837685, 58.88460705620869, 48.802298315675245, 40.06961725130216, 38.78808395875696, 28.367532205644668, 26.81529356571631, 24.87039979907131, 20.389964499995532, 18.46763205207294, 17.04188735478161, 15.988717316543593, 15.09439387566315, 13.75014747225461, 11.968988859599582, 11.955615426617692, 10.807218093181385, 10.04774851441594, 9.545006383884628, 9.236200365690715, 9.143447826094361, 8.628324806186697, 7.686310508583239, 7.4047638827082665, 7.127678623510594, 7.026391427998039, 6.687576458356846, 6.58089630713293, 6.467354195025076, 124.0059455551685, 106.2431053588437, 56.6678466257746, 49.582112346731506, 38.14694036789664, 36.46900223413542, 35.155975650595124, 33.85722019930122, 24.48165455608006, 22.1360139555853, 22.082421299383462, 21.20807153640327, 19.659783819575814, 17.236279878167498, 15.558761419799836, 15.307272837961392, 14.836176906572602, 14.621592648554568, 14.341228881433114, 13.642659126837803, 13.558391127334033, 12.284753302566774, 11.438594447935893, 11.020645470974376, 10.740167838436061, 10.42598170477719, 9.979666141394636, 9.829404999576766, 8.513749751555835, 7.932510718006376, 38.37607082087076, 32.86897096197508, 28.64248410717085, 27.78272293653135, 26.114129813094927, 20.621824220004044, 19.94063902747104, 19.232427413034344, 16.469017196712354, 15.762861406830092, 13.304240988480126, 13.258957617175097, 12.278228814777453, 12.008006786169817, 11.872240286014593, 11.559870785646156, 11.16861592188966, 9.053391845607116, 8.86669459341188, 8.586744986007673, 8.16029333194103, 7.9537941935337715, 6.892199378867637, 6.723290378759273, 6.332647276227465, 6.277237434794409, 5.92423931811957, 5.62151646763334, 5.505497773230776, 5.099650007081998, 84.56626007518058, 27.75176754404443, 26.243045519739812, 20.228131809379754, 18.354556419367547, 18.203652333680306, 18.003307102678736, 16.50232071409068, 14.776427938127785, 14.702346717487762, 13.497328497794841, 12.775340829116214, 11.502168991299806, 10.695917978739464, 10.149032524940196, 9.477731342645143, 9.189569836523749, 8.817136305435874, 8.684667687034782, 7.7704815908132705, 7.173345283247809, 7.168098751290688, 6.6153326517515785, 6.449365700210009, 6.259095262674834, 5.965763381385408, 5.833401303570089, 5.77529683025346, 5.637840139464436, 5.579721460736371, 70.73817308202042, 38.70767950535428, 37.42596595600835, 26.518476630109294, 26.283631709656508, 24.62952926684701, 21.190258712095602, 19.62428203918139, 18.836530193755976, 12.839953025930475, 11.54134430601641, 11.230836622101382, 11.211727931410286, 11.111774517339464, 10.9181982542717, 10.477117648566454, 10.391442805659162, 10.246669879006074, 9.808678124490928, 9.785373822548252, 9.578548036059306, 9.139998631605776, 8.654282973328508, 8.358207577252216, 7.908030360300921, 7.903238669942155, 7.670573964332701, 7.540711555174543, 7.476543383091553, 7.372317499431548, 56.28907607001852, 45.83160723668732, 39.52576497449452, 33.50265118810401, 25.37606539351559, 20.333338897753265, 20.174694351906627, 20.025618077403056, 18.938892460939712, 17.776618915525678, 16.18076358441409, 13.323906944489924, 13.208403768995334, 12.231415450425553, 11.697484789655968, 11.10975467115021, 10.180264512117056, 10.02604687987853, 9.673472828248796, 9.206527491819653, 8.790479286985546, 8.515598971666678, 8.407291387020015, 8.074717645975726, 8.001376573883347, 7.875099811954102, 7.8749546131477235, 6.9753919080929405, 6.717834800366913, 6.508891655504939, 197.86096750674994, 100.56279876464708, 74.38861210818477, 45.85106590861332, 14.783139888715128, 14.554113039249687, 13.679349529450265, 13.169545639708904, 12.854890792647405, 12.494209221286903, 12.068309234067652, 11.788555186265278, 11.764978737310294, 10.665492001554831, 9.486359128503365, 8.571808266603506, 8.026895451548057, 8.02679756175102, 7.921762691419742, 7.484079771063379, 7.367185684104505, 7.1474354362159875, 6.050253520141225, 5.982673402692684, 5.92592113144259, 5.098856409502377, 4.907996439145871, 4.8860898490259395, 4.616247804591169, 3.523918268117759, 135.5569258475083, 99.3862564545414, 69.5215389157456, 40.36947060949348, 38.691542244396686, 34.73618069410575, 33.363560618926996, 33.1783947058796, 23.667677851525895, 21.788004301406033, 21.014473530435918, 14.254752943603874, 12.708556276364119, 10.505075518547962, 10.175014890734738, 9.16774985179825, 8.394583832332248, 8.242552021125093, 8.07567068734322, 8.054656112284015, 7.749529258036834, 7.370971251434946, 7.187679390252115, 7.0913257680505755, 5.650229238461535, 5.218660523248166, 5.065053135956228, 5.060357430381354, 4.177074059920674, 4.176969240867301, 70.00290328569467, 48.420792062781814, 42.820306568748, 38.68807785109254, 28.090245857609215, 27.6547394028202, 26.6683099181353, 25.833080952839012, 23.466508699993348, 22.91249288898146, 21.9160330431814, 18.066371111791234, 12.966113141875748, 12.644974759260773, 12.371230783741973, 11.821576675779646, 11.036708698012767, 10.731622869367936, 10.446448223788225, 10.424577472587286, 10.002416307806625, 9.690544167104306, 9.078503702443829, 8.718190380488968, 8.665437630704677, 8.564592048127807, 8.545182210240798, 8.499738727398059, 7.714766158654367, 6.022723589367668, 241.88918019449005, 92.06821667210089, 67.01665572389595, 37.33751242859687, 27.138921234358385, 22.10910844062308, 21.26308559536928, 16.415086694205264, 16.16754150415175, 11.905316808273321, 11.402482228769387, 11.071226877289103, 9.883786281952995, 7.678011920640095, 7.2829570307362905, 7.209191115088223, 6.578533885968005, 6.433769388726742, 6.210850626289978, 6.210815848303651, 6.14194820878176, 5.469533457974737, 5.234193986135495, 4.343418647411336, 4.142578486346253, 3.963330034844275, 3.7403137133809308, 3.4358432829804664, 2.7635976796523964, 2.667957539760088, 93.4253062001066, 63.01962479146994, 53.86411054362822, 34.443236920137785, 28.51928290224381, 27.58446438875348, 23.190127869036758, 22.687054921042257, 21.778962023341983, 21.524967640703654, 20.887504728331056, 15.287247672085607, 10.890006050107125, 10.1675531619877, 9.950029075388604, 9.379799239476444, 8.942466238131107, 8.722841169651144, 8.125376414103155, 7.103847885699046, 6.997733808329366, 6.991329830053942, 6.1567746107293795, 6.047839072867735, 5.896162176573133, 5.888744145355997, 5.620709125232775, 5.49486884037304, 5.266909407821712, 4.4922292736247105], \"Total\": [242.0, 198.0, 142.0, 136.0, 124.0, 102.0, 101.0, 107.0, 100.0, 94.0, 93.0, 85.0, 94.0, 81.0, 75.0, 71.0, 70.0, 70.0, 67.0, 63.0, 61.0, 57.0, 54.0, 59.0, 57.0, 49.0, 49.0, 46.0, 47.0, 46.0, 102.95983427407988, 61.40307492894405, 42.99823152557836, 24.004071822590404, 22.879311759941146, 21.240947856758105, 20.37922597366353, 19.6009765799525, 18.91717727754721, 18.863945053389962, 18.772291505933936, 18.51076118350617, 17.248982921926977, 16.68789480393866, 15.919246831923727, 15.181752496282286, 14.437296551832382, 13.924770257930426, 13.811744554203418, 12.962414841002586, 12.017661985484194, 11.795728982382794, 11.698194342763136, 11.584321316538869, 9.850836240557635, 9.630910857908015, 8.078863362228722, 7.940407834249914, 7.385389194608414, 7.143398761238411, 12.199547514258667, 9.731832340816785, 81.23730470468287, 49.96125441719765, 47.82761933911375, 33.2602703346223, 27.158001648276105, 27.084691164823262, 24.50018233605318, 23.7161452887915, 22.03452225870148, 20.965364769398864, 19.792197227154528, 18.687441232934756, 18.513952648373696, 16.241481821294258, 16.027306184629644, 14.594794097236676, 12.766188459848534, 12.25973306381176, 12.249010209235943, 12.06290106034897, 11.065169483316845, 9.279115910148807, 9.205177828383622, 8.829884801143015, 8.54971609628504, 8.326304025161043, 8.02977401004559, 7.955763345487955, 7.635354587647418, 7.129226906183803, 11.967822297364837, 40.7281778327331, 25.865257870663346, 24.74326215663435, 23.196975400439463, 21.464418222996706, 17.109950385210464, 16.642162461985226, 15.14793043811238, 13.53517006184235, 12.026332091106411, 10.704392762036807, 10.70124382132567, 9.9595549330366, 9.824574779962463, 9.64666453540665, 9.248985437365478, 9.1334515134868, 8.236950348043164, 7.46435228229655, 7.224367774478784, 7.222452428983843, 6.810405433254607, 6.810152364996412, 6.394252611012737, 6.347653258985149, 6.341998864534566, 6.201276834422986, 5.950003538384448, 5.772593099473212, 4.655768594842524, 142.01080038555807, 94.5583169134802, 59.85940286059249, 49.77709406531038, 41.044412840947736, 39.762879842522274, 29.34232818200382, 27.79008929561763, 25.845195776643745, 21.364760397734386, 19.442427665087674, 18.0166835406347, 16.963513061136208, 16.069189386708707, 14.724943412070985, 12.943784521050896, 12.930411372738472, 11.782013722148548, 11.022548165398975, 10.519802338599384, 10.210996858231642, 10.11824367607486, 9.603120428760176, 8.66110621659801, 8.379559599220729, 8.102474263854981, 8.001211265193751, 7.662372169776613, 7.555691904701627, 7.442149440626703, 124.98255197909471, 107.2197115669037, 57.64445297148526, 50.55871878281253, 39.123546690201096, 37.4456087327878, 36.13258192852027, 34.83382653243966, 25.45826083425959, 23.112620204816732, 23.05902822299631, 22.184677691003127, 20.636390468408177, 18.21288690275488, 16.535367819489387, 16.2838791756287, 15.812783841367933, 15.598199496308712, 15.317835172337526, 14.619265690890746, 14.53499779240993, 13.261359973220266, 12.415200888376122, 11.997252285174834, 11.716774206005637, 11.402588519505828, 10.956272630053636, 10.806011618817653, 9.490355813875833, 8.909117216645209, 39.34315736400532, 33.83605760636576, 29.609570626453227, 28.749809552689833, 27.08121642308403, 21.588910983198335, 20.90772545481037, 20.199514308279195, 17.43610398366864, 16.729948117673967, 14.271327865061597, 14.226044340435763, 13.245315360347401, 12.975093247361663, 12.839326814410256, 12.526957308692657, 12.135702540525898, 10.020478378324299, 9.83378110995632, 9.553831843087506, 9.12738058761924, 8.920881376016167, 7.859286149401779, 7.690377069421814, 7.2997337666738, 7.244323838517723, 6.8913257727325306, 6.588602871356654, 6.472584550174733, 6.066736397048886, 85.52963624772421, 28.715143645524623, 27.206421498682673, 21.191507817875937, 19.31793268645439, 19.167028514746722, 18.966683071643242, 17.46569677693144, 15.739804031037949, 15.665722877677931, 14.46070470161167, 13.738717052058313, 12.465545227562336, 11.659294368628387, 11.11240849844974, 10.441107486462545, 10.15294656827296, 9.780512333455524, 9.64804439925623, 8.733857816939036, 8.136721491866824, 8.131474596969332, 7.578709236242812, 7.412741683569542, 7.222470989470237, 6.929139259254087, 6.796777376388908, 6.73867299665281, 6.601216092332635, 6.543097503159221, 71.70989349992368, 39.6793999813768, 38.39768644430299, 27.4901971696489, 27.255352240365074, 25.601249840125316, 22.161979424286297, 20.596002507863076, 19.80825115287264, 13.811673801564579, 12.513064597530049, 12.20255735222165, 12.183448675633406, 12.083494828390265, 11.889918660868185, 11.448838336116474, 11.363163879748926, 11.21839139351109, 10.780398880702833, 10.75709431534587, 10.550269094349487, 10.111719744386408, 9.626003778888741, 9.32992840376318, 8.879750534272969, 8.874958944415328, 8.642294603868935, 8.512431855740367, 8.44826406215344, 8.344038289678938, 57.25616664513999, 46.79869792236045, 40.49285542627137, 34.46974163419972, 26.343155951502265, 21.300429487162482, 21.141784753867565, 20.992708490740995, 19.905983194549, 18.743709436957257, 17.14785412774994, 14.290997418581778, 14.175494611798003, 13.198507316492766, 12.664575569925203, 12.076846117362093, 11.147354844432325, 10.993137354785567, 10.640563420852263, 10.173617725032239, 9.75756960579265, 9.48268951579419, 9.374382072865524, 9.041808097814268, 8.968467167702356, 8.842190559413982, 8.842045721296834, 7.942482209272639, 7.684925627164917, 7.475982033197813, 198.83207807232702, 101.53390925561364, 75.35972277035613, 46.82217654202609, 15.754251242112069, 15.525223890171645, 14.65046039454992, 14.140656486815876, 13.826001434230134, 13.465319924777548, 13.03941995248805, 12.759666074846145, 12.73608971791737, 11.636602883694373, 10.457471229081257, 9.542918947573938, 8.998006052216644, 8.99790866374805, 8.8928733864265, 8.455191519080541, 8.338296546531897, 8.118545695027866, 7.02136432571162, 6.95378569998072, 6.897031698959541, 6.069967426891687, 5.879107086158391, 5.8572006157216885, 5.587358380958871, 4.495028902063175, 136.5309610719008, 100.36029178451881, 70.49557431076433, 41.343505925222765, 39.66557754629936, 35.71021607342667, 34.33759606241727, 34.15243004437928, 24.641713083882436, 22.762039667973745, 21.988508720735854, 15.228788618370308, 13.682929700008854, 11.47911171203036, 11.149050224111805, 10.141784907653788, 9.368619047807877, 9.216587519689549, 9.049705622201333, 9.028691481849863, 8.723564674448266, 8.345006671777925, 8.161714620245748, 8.06536103609835, 6.624264245332752, 6.1926959639386245, 6.039088167079912, 6.034392829906785, 5.151109245779263, 5.151005094777068, 70.9737071981354, 49.39159584845437, 43.7911104203209, 39.6588817823323, 29.061049570597415, 28.625543250742737, 27.6391139527545, 26.80388480933754, 24.437312640024203, 23.883296979249938, 22.886837034305547, 19.03717497984949, 13.936918125753802, 13.615778359782821, 13.342034741061905, 12.792380838566478, 12.007512639696007, 11.702426740736742, 11.417252049933099, 11.395381533049248, 10.973220105017086, 10.661347988191958, 10.04930738484553, 9.688994167505868, 9.63624140113866, 9.535395939460345, 9.51598627059285, 9.470542622569953, 8.68557014589099, 6.9935281829111675, 242.8583486078261, 93.03738519560974, 67.98582420699837, 38.306681015651044, 28.10808986281459, 23.07827693232452, 22.232254345479696, 17.384255209356034, 17.136709988525702, 12.87448579067287, 12.371650795392107, 12.040395727873126, 10.852954966152643, 8.64718054106733, 8.252125716579467, 8.178359917709065, 7.547702701694038, 7.402938824436039, 7.180019156422648, 7.179984508794671, 7.11111717382314, 6.4387027487461905, 6.2033625121823865, 5.312587306338949, 5.111747384679033, 4.932498552901602, 4.709481986416357, 4.405011638079733, 3.7327661899737925, 3.637126290090056, 94.3956233580119, 63.98994193590408, 54.83442760708852, 35.41355409089563, 29.489600179803475, 28.55478160383417, 24.16044502710186, 23.65737217806068, 22.749279095058213, 22.495284781022967, 21.857821751969233, 16.25756477453585, 11.860323091398064, 11.137870450600255, 10.920346391041857, 10.350116606822677, 9.912783910811779, 9.693158244678289, 9.095734836168122, 8.074165152163781, 7.968050915578284, 7.962209639793253, 7.127091958614683, 7.0181567534119, 6.866479184413735, 6.8590613874713515, 6.591026075202388, 6.465186152391551, 6.23745643405753, 5.462546454532756], \"Category\": [\"Default\", \"Default\", \"Default\", \"Default\", \"Default\", \"Default\", \"Default\", \"Default\", \"Default\", \"Default\", \"Default\", \"Default\", \"Default\", \"Default\", \"Default\", \"Default\", \"Default\", \"Default\", \"Default\", \"Default\", \"Default\", \"Default\", \"Default\", \"Default\", \"Default\", \"Default\", \"Default\", \"Default\", \"Default\", \"Default\", \"Topic1\", \"Topic1\", \"Topic1\", \"Topic1\", \"Topic1\", \"Topic1\", \"Topic1\", \"Topic1\", \"Topic1\", \"Topic1\", \"Topic1\", \"Topic1\", \"Topic1\", \"Topic1\", \"Topic1\", \"Topic1\", \"Topic1\", \"Topic1\", \"Topic1\", \"Topic1\", \"Topic1\", \"Topic1\", \"Topic1\", \"Topic1\", \"Topic1\", \"Topic1\", \"Topic1\", \"Topic1\", \"Topic1\", \"Topic1\", \"Topic1\", \"Topic1\", \"Topic2\", \"Topic2\", \"Topic2\", \"Topic2\", \"Topic2\", \"Topic2\", \"Topic2\", \"Topic2\", \"Topic2\", \"Topic2\", \"Topic2\", \"Topic2\", \"Topic2\", \"Topic2\", \"Topic2\", \"Topic2\", \"Topic2\", \"Topic2\", \"Topic2\", \"Topic2\", \"Topic2\", \"Topic2\", \"Topic2\", \"Topic2\", \"Topic2\", \"Topic2\", \"Topic2\", \"Topic2\", \"Topic2\", \"Topic2\", \"Topic2\", \"Topic3\", \"Topic3\", \"Topic3\", \"Topic3\", \"Topic3\", \"Topic3\", \"Topic3\", \"Topic3\", \"Topic3\", \"Topic3\", \"Topic3\", \"Topic3\", \"Topic3\", \"Topic3\", \"Topic3\", \"Topic3\", \"Topic3\", \"Topic3\", \"Topic3\", \"Topic3\", \"Topic3\", \"Topic3\", \"Topic3\", \"Topic3\", \"Topic3\", \"Topic3\", \"Topic3\", \"Topic3\", \"Topic3\", \"Topic3\", \"Topic4\", \"Topic4\", \"Topic4\", \"Topic4\", \"Topic4\", \"Topic4\", \"Topic4\", \"Topic4\", \"Topic4\", \"Topic4\", \"Topic4\", \"Topic4\", \"Topic4\", \"Topic4\", \"Topic4\", \"Topic4\", \"Topic4\", \"Topic4\", \"Topic4\", \"Topic4\", \"Topic4\", \"Topic4\", \"Topic4\", \"Topic4\", \"Topic4\", \"Topic4\", \"Topic4\", \"Topic4\", \"Topic4\", \"Topic4\", \"Topic5\", \"Topic5\", \"Topic5\", \"Topic5\", \"Topic5\", \"Topic5\", \"Topic5\", \"Topic5\", \"Topic5\", \"Topic5\", \"Topic5\", \"Topic5\", \"Topic5\", \"Topic5\", \"Topic5\", \"Topic5\", \"Topic5\", \"Topic5\", \"Topic5\", \"Topic5\", \"Topic5\", \"Topic5\", \"Topic5\", \"Topic5\", \"Topic5\", \"Topic5\", \"Topic5\", \"Topic5\", \"Topic5\", \"Topic5\", \"Topic6\", \"Topic6\", \"Topic6\", \"Topic6\", \"Topic6\", \"Topic6\", \"Topic6\", \"Topic6\", \"Topic6\", \"Topic6\", \"Topic6\", \"Topic6\", \"Topic6\", \"Topic6\", \"Topic6\", \"Topic6\", \"Topic6\", \"Topic6\", \"Topic6\", \"Topic6\", \"Topic6\", \"Topic6\", \"Topic6\", \"Topic6\", \"Topic6\", \"Topic6\", \"Topic6\", \"Topic6\", \"Topic6\", \"Topic6\", \"Topic7\", \"Topic7\", \"Topic7\", \"Topic7\", \"Topic7\", \"Topic7\", \"Topic7\", \"Topic7\", \"Topic7\", \"Topic7\", \"Topic7\", \"Topic7\", \"Topic7\", \"Topic7\", \"Topic7\", \"Topic7\", \"Topic7\", \"Topic7\", \"Topic7\", \"Topic7\", \"Topic7\", \"Topic7\", \"Topic7\", \"Topic7\", \"Topic7\", \"Topic7\", \"Topic7\", \"Topic7\", \"Topic7\", \"Topic7\", \"Topic8\", \"Topic8\", \"Topic8\", \"Topic8\", \"Topic8\", \"Topic8\", \"Topic8\", \"Topic8\", \"Topic8\", \"Topic8\", \"Topic8\", \"Topic8\", \"Topic8\", \"Topic8\", \"Topic8\", \"Topic8\", \"Topic8\", \"Topic8\", \"Topic8\", \"Topic8\", \"Topic8\", \"Topic8\", \"Topic8\", \"Topic8\", \"Topic8\", \"Topic8\", \"Topic8\", \"Topic8\", \"Topic8\", \"Topic8\", \"Topic9\", \"Topic9\", \"Topic9\", \"Topic9\", \"Topic9\", \"Topic9\", \"Topic9\", \"Topic9\", \"Topic9\", \"Topic9\", \"Topic9\", \"Topic9\", \"Topic9\", \"Topic9\", \"Topic9\", \"Topic9\", \"Topic9\", \"Topic9\", \"Topic9\", \"Topic9\", \"Topic9\", \"Topic9\", \"Topic9\", \"Topic9\", \"Topic9\", \"Topic9\", \"Topic9\", \"Topic9\", \"Topic9\", \"Topic9\", \"Topic10\", \"Topic10\", \"Topic10\", \"Topic10\", \"Topic10\", \"Topic10\", \"Topic10\", \"Topic10\", \"Topic10\", \"Topic10\", \"Topic10\", \"Topic10\", \"Topic10\", \"Topic10\", \"Topic10\", \"Topic10\", \"Topic10\", \"Topic10\", \"Topic10\", \"Topic10\", \"Topic10\", \"Topic10\", \"Topic10\", \"Topic10\", \"Topic10\", \"Topic10\", \"Topic10\", \"Topic10\", \"Topic10\", \"Topic10\", \"Topic11\", \"Topic11\", \"Topic11\", \"Topic11\", \"Topic11\", \"Topic11\", \"Topic11\", \"Topic11\", \"Topic11\", \"Topic11\", \"Topic11\", \"Topic11\", \"Topic11\", \"Topic11\", \"Topic11\", \"Topic11\", \"Topic11\", \"Topic11\", \"Topic11\", \"Topic11\", \"Topic11\", \"Topic11\", \"Topic11\", \"Topic11\", \"Topic11\", \"Topic11\", \"Topic11\", \"Topic11\", \"Topic11\", \"Topic11\", \"Topic12\", \"Topic12\", \"Topic12\", \"Topic12\", \"Topic12\", \"Topic12\", \"Topic12\", \"Topic12\", \"Topic12\", \"Topic12\", \"Topic12\", \"Topic12\", \"Topic12\", \"Topic12\", \"Topic12\", \"Topic12\", \"Topic12\", \"Topic12\", \"Topic12\", \"Topic12\", \"Topic12\", \"Topic12\", \"Topic12\", \"Topic12\", \"Topic12\", \"Topic12\", \"Topic12\", \"Topic12\", \"Topic12\", \"Topic12\", \"Topic13\", \"Topic13\", \"Topic13\", \"Topic13\", \"Topic13\", \"Topic13\", \"Topic13\", \"Topic13\", \"Topic13\", \"Topic13\", \"Topic13\", \"Topic13\", \"Topic13\", \"Topic13\", \"Topic13\", \"Topic13\", \"Topic13\", \"Topic13\", \"Topic13\", \"Topic13\", \"Topic13\", \"Topic13\", \"Topic13\", \"Topic13\", \"Topic13\", \"Topic13\", \"Topic13\", \"Topic13\", \"Topic13\", \"Topic13\", \"Topic14\", \"Topic14\", \"Topic14\", \"Topic14\", \"Topic14\", \"Topic14\", \"Topic14\", \"Topic14\", \"Topic14\", \"Topic14\", \"Topic14\", \"Topic14\", \"Topic14\", \"Topic14\", \"Topic14\", \"Topic14\", \"Topic14\", \"Topic14\", \"Topic14\", \"Topic14\", \"Topic14\", \"Topic14\", \"Topic14\", \"Topic14\", \"Topic14\", \"Topic14\", \"Topic14\", \"Topic14\", \"Topic14\", \"Topic14\"], \"logprob\": [30.0, 29.0, 28.0, 27.0, 26.0, 25.0, 24.0, 23.0, 22.0, 21.0, 20.0, 19.0, 18.0, 17.0, 16.0, 15.0, 14.0, 13.0, 12.0, 11.0, 10.0, 9.0, 8.0, 7.0, 6.0, 5.0, 4.0, 3.0, 2.0, 1.0, -2.2597, -2.7831, -3.1463, -3.7477, -3.7977, -3.8754, -3.9189, -3.9598, -3.9972, -4.0002, -4.0053, -4.0201, -4.0948, -4.1298, -4.18, -4.2306, -4.2844, -4.3232, -4.3319, -4.4004, -4.4824, -4.5027, -4.5118, -4.5224, -4.7007, -4.7258, -4.9233, -4.943, -5.026, -5.0644, -4.64, -4.9308, -2.4578, -2.9515, -2.996, -3.3684, -3.5779, -3.5807, -3.6849, -3.7188, -3.7956, -3.8477, -3.9082, -3.9687, -3.9785, -4.1172, -4.1314, -4.2314, -4.3755, -4.4194, -4.4203, -4.437, -4.5312, -4.726, -4.7349, -4.7816, -4.8179, -4.8478, -4.8889, -4.8995, -4.9464, -5.0254, -4.6947, -2.9096, -3.3776, -3.4237, -3.4909, -3.572, -3.8107, -3.8401, -3.9402, -4.0609, -4.1887, -4.3159, -4.3162, -4.3954, -4.4105, -4.4307, -4.4776, -4.4916, -4.6078, -4.72, -4.7576, -4.7581, -4.8259, -4.8259, -4.8998, -4.9083, -4.9093, -4.9359, -4.9849, -5.0211, -5.285, -2.0457, -2.4558, -2.9191, -3.1069, -3.3041, -3.3366, -3.6494, -3.7057, -3.781, -3.9796, -4.0787, -4.159, -4.2228, -4.2804, -4.3736, -4.5124, -4.5135, -4.6145, -4.6873, -4.7387, -4.7716, -4.7817, -4.8396, -4.9552, -4.9926, -5.0307, -5.045, -5.0944, -5.1105, -5.1279, -2.2396, -2.3942, -3.0228, -3.1563, -3.4185, -3.4635, -3.5002, -3.5378, -3.862, -3.9628, -3.9652, -4.0056, -4.0814, -4.2129, -4.3153, -4.3316, -4.3629, -4.3775, -4.3968, -4.4468, -4.453, -4.5516, -4.623, -4.6602, -4.686, -4.7157, -4.7594, -4.7746, -4.9183, -4.989, -3.0663, -3.2212, -3.3589, -3.3894, -3.4513, -3.6874, -3.721, -3.7572, -3.9123, -3.9561, -4.1257, -4.1291, -4.2059, -4.2282, -4.2396, -4.2662, -4.3007, -4.5106, -4.5315, -4.5635, -4.6145, -4.6401, -4.7834, -4.8082, -4.868, -4.8768, -4.9347, -4.9872, -5.008, -5.0846, -2.3046, -3.4189, -3.4748, -3.7351, -3.8323, -3.8405, -3.8516, -3.9387, -4.0491, -4.0541, -4.1397, -4.1946, -4.2996, -4.3723, -4.4248, -4.4932, -4.5241, -4.5655, -4.5806, -4.6918, -4.7718, -4.7725, -4.8528, -4.8782, -4.9081, -4.9561, -4.9786, -4.9886, -5.0127, -5.023, -2.5621, -3.165, -3.1987, -3.5432, -3.5521, -3.6171, -3.7675, -3.8443, -3.8853, -4.2685, -4.3751, -4.4024, -4.4041, -4.4131, -4.4306, -4.4719, -4.4801, -4.4941, -4.5378, -4.5402, -4.5615, -4.6084, -4.663, -4.6978, -4.7532, -4.7538, -4.7837, -4.8007, -4.8093, -4.8233, -2.756, -2.9616, -3.1096, -3.2749, -3.5527, -3.7743, -3.7821, -3.7895, -3.8453, -3.9086, -4.0027, -4.197, -4.2057, -4.2825, -4.3272, -4.3787, -4.4661, -4.4813, -4.5171, -4.5666, -4.6129, -4.6446, -4.6574, -4.6978, -4.7069, -4.7228, -4.7228, -4.8441, -4.8818, -4.9134, -1.5657, -2.2424, -2.5439, -3.0278, -4.1597, -4.1753, -4.2373, -4.2753, -4.2995, -4.328, -4.3626, -4.3861, -4.3881, -4.4862, -4.6034, -4.7047, -4.7704, -4.7704, -4.7836, -4.8404, -4.8562, -4.8865, -5.0531, -5.0643, -5.0739, -5.2242, -5.2624, -5.2668, -5.3236, -5.5936, -2.0077, -2.3181, -2.6755, -3.219, -3.2615, -3.3693, -3.4097, -3.4152, -3.753, -3.8358, -3.8719, -4.26, -4.3748, -4.5653, -4.5972, -4.7014, -4.7895, -4.8078, -4.8283, -4.8309, -4.8695, -4.9196, -4.9447, -4.9582, -5.1854, -5.2649, -5.2948, -5.2957, -5.4875, -5.4875, -2.5846, -2.9532, -3.0762, -3.1776, -3.4977, -3.5134, -3.5497, -3.5815, -3.6776, -3.7015, -3.746, -3.9391, -4.2708, -4.2959, -4.3178, -4.3632, -4.4319, -4.46, -4.4869, -4.489, -4.5303, -4.562, -4.6273, -4.6678, -4.6738, -4.6855, -4.6878, -4.6931, -4.79, -5.0376, -1.3888, -2.3547, -2.6723, -3.2572, -3.5763, -3.7812, -3.8203, -4.079, -4.0942, -4.4002, -4.4434, -4.4729, -4.5863, -4.8389, -4.8917, -4.9019, -4.9934, -5.0157, -5.0509, -5.0509, -5.0621, -5.178, -5.222, -5.4086, -5.4559, -5.5001, -5.5581, -5.643, -5.8607, -5.8959, -2.2532, -2.6469, -2.8039, -3.251, -3.4397, -3.4731, -3.6466, -3.6685, -3.7094, -3.7211, -3.7512, -4.0633, -4.4025, -4.4711, -4.4928, -4.5518, -4.5995, -4.6244, -4.6953, -4.8297, -4.8447, -4.8457, -4.9728, -4.9906, -5.016, -5.0173, -5.0639, -5.0865, -5.1289, -5.288], \"loglift\": [30.0, 29.0, 28.0, 27.0, 26.0, 25.0, 24.0, 23.0, 22.0, 21.0, 20.0, 19.0, 18.0, 17.0, 16.0, 15.0, 14.0, 13.0, 12.0, 11.0, 10.0, 9.0, 8.0, 7.0, 6.0, 5.0, 4.0, 3.0, 2.0, 1.0, 2.5876, 2.5811, 2.5742, 2.5558, 2.5537, 2.5503, 2.5483, 2.5463, 2.5444, 2.5442, 2.544, 2.5432, 2.5392, 2.5371, 2.5342, 2.531, 2.5275, 2.5248, 2.5242, 2.5192, 2.5129, 2.5112, 2.5105, 2.5096, 2.4934, 2.4909, 2.4691, 2.4667, 2.4562, 2.4511, 2.3403, 2.2754, 2.6265, 2.6189, 2.618, 2.6089, 2.6021, 2.602, 2.5981, 2.5967, 2.5934, 2.5911, 2.5882, 2.5851, 2.5846, 2.5769, 2.576, 2.5696, 2.5594, 2.556, 2.5559, 2.5546, 2.5466, 2.5279, 2.527, 2.522, 2.5179, 2.5145, 2.5096, 2.5083, 2.5024, 2.492, 2.3047, 2.8651, 2.8512, 2.8494, 2.8467, 2.8432, 2.8313, 2.8296, 2.8236, 2.8155, 2.8059, 2.7951, 2.7951, 2.7878, 2.7863, 2.7843, 2.7796, 2.7781, 2.7653, 2.7515, 2.7466, 2.7463, 2.7373, 2.7373, 2.7264, 2.7253, 2.7251, 2.721, 2.7134, 2.7074, 2.6585, 2.4801, 2.4766, 2.4706, 2.4672, 2.4629, 2.4622, 2.4532, 2.4513, 2.4485, 2.4403, 2.4355, 2.4314, 2.4278, 2.4244, 2.4185, 2.4087, 2.4086, 2.4006, 2.3944, 2.3897, 2.3866, 2.3857, 2.3799, 2.3676, 2.3633, 2.3588, 2.3571, 2.3509, 2.3488, 2.3466, 2.4139, 2.4126, 2.4046, 2.4022, 2.3964, 2.3953, 2.3943, 2.3933, 2.3826, 2.3785, 2.3784, 2.3767, 2.3732, 2.3666, 2.3608, 2.3599, 2.358, 2.357, 2.3558, 2.3526, 2.3521, 2.3452, 2.3398, 2.3368, 2.3347, 2.3322, 2.3283, 2.327, 2.3131, 2.3056, 2.743, 2.7389, 2.7347, 2.7337, 2.7315, 2.7221, 2.7205, 2.7188, 2.7108, 2.7084, 2.6977, 2.6975, 2.6921, 2.6904, 2.6896, 2.6876, 2.6849, 2.6664, 2.6644, 2.6612, 2.6559, 2.6532, 2.6366, 2.6335, 2.6258, 2.6246, 2.6167, 2.6092, 2.6061, 2.5943, 2.7282, 2.7054, 2.7035, 2.693, 2.6884, 2.6879, 2.6874, 2.6828, 2.6763, 2.676, 2.6706, 2.6668, 2.6591, 2.6533, 2.6488, 2.6427, 2.6398, 2.6358, 2.6343, 2.6226, 2.6135, 2.6134, 2.6036, 2.6003, 2.5963, 2.5898, 2.5867, 2.5852, 2.5818, 2.5802, 2.647, 2.6358, 2.635, 2.6246, 2.6243, 2.6219, 2.6158, 2.6123, 2.6103, 2.5877, 2.5798, 2.5776, 2.5775, 2.5768, 2.5753, 2.5719, 2.5712, 2.57, 2.5661, 2.5659, 2.564, 2.5596, 2.5542, 2.5506, 2.5447, 2.5446, 2.5413, 2.5394, 2.5384, 2.5368, 2.6781, 2.6743, 2.671, 2.6667, 2.6577, 2.6487, 2.6483, 2.648, 2.6453, 2.6422, 2.6371, 2.6251, 2.6245, 2.619, 2.6157, 2.6117, 2.6044, 2.6031, 2.5999, 2.5953, 2.5908, 2.5876, 2.5863, 2.582, 2.581, 2.5793, 2.5793, 2.5653, 2.5606, 2.5566, 2.6236, 2.6188, 2.6155, 2.6075, 2.5648, 2.5639, 2.5599, 2.5573, 2.5556, 2.5536, 2.5511, 2.5493, 2.5491, 2.5413, 2.531, 2.5211, 2.5142, 2.5142, 2.5128, 2.5064, 2.5046, 2.5011, 2.4796, 2.478, 2.4767, 2.4541, 2.4479, 2.4472, 2.4375, 2.385, 2.5574, 2.5548, 2.5506, 2.5407, 2.5397, 2.5369, 2.5358, 2.5356, 2.5242, 2.5208, 2.5192, 2.4985, 2.4907, 2.4759, 2.4731, 2.4636, 2.4548, 2.4529, 2.4507, 2.4504, 2.4462, 2.4404, 2.4375, 2.4358, 2.4055, 2.3934, 2.3887, 2.3885, 2.3549, 2.3549, 2.6347, 2.6286, 2.6261, 2.6237, 2.6145, 2.614, 2.6127, 2.6116, 2.608, 2.607, 2.6051, 2.5962, 2.5763, 2.5745, 2.5729, 2.5696, 2.5642, 2.5619, 2.5596, 2.5595, 2.5559, 2.553, 2.5469, 2.5429, 2.5423, 2.5411, 2.5409, 2.5403, 2.53, 2.499, 2.6004, 2.594, 2.5901, 2.5788, 2.5693, 2.5615, 2.5599, 2.5471, 2.5462, 2.5262, 2.5229, 2.5205, 2.5109, 2.4856, 2.4795, 2.4783, 2.467, 2.4641, 2.4594, 2.4594, 2.4579, 2.4413, 2.4346, 2.403, 2.3942, 2.3857, 2.374, 2.356, 2.3038, 2.2946, 2.681, 2.6761, 2.6735, 2.6636, 2.6579, 2.6568, 2.6503, 2.6495, 2.6477, 2.6472, 2.6459, 2.6298, 2.606, 2.6002, 2.5983, 2.5929, 2.5883, 2.5859, 2.5785, 2.5633, 2.5615, 2.5613, 2.545, 2.5425, 2.539, 2.5388, 2.5321, 2.5287, 2.5222, 2.4958]}, \"token.table\": {\"Topic\": [2, 13, 3, 1, 3, 1, 14, 6, 9, 12, 5, 9, 12, 12, 11, 3, 2, 1, 10, 11, 10, 5, 3, 2, 9, 8, 5, 13, 9, 6, 10, 6, 6, 5, 13, 5, 11, 7, 13, 11, 1, 5, 3, 1, 6, 7, 6, 11, 3, 8, 13, 4, 13, 13, 12, 13, 5, 1, 10, 14, 9, 7, 7, 10, 10, 4, 6, 1, 7, 3, 11, 12, 5, 11, 13, 8, 4, 13, 10, 6, 2, 2, 7, 11, 7, 9, 4, 12, 4, 9, 14, 1, 14, 14, 12, 3, 8, 3, 7, 13, 5, 8, 12, 9, 7, 2, 3, 13, 8, 2, 9, 2, 12, 3, 7, 14, 3, 2, 10, 10, 4, 5, 7, 13, 13, 1, 3, 7, 6, 4, 14, 8, 2, 8, 2, 5, 1, 8, 4, 11, 2, 1, 14, 7, 11, 1, 14, 5, 6, 8, 11, 12, 4, 4, 3, 2, 12, 4, 1, 1, 12, 2, 1, 5, 12, 1, 9, 5, 9, 4, 10, 4, 7, 1, 13, 9, 2, 9, 11, 7, 8, 5, 2, 14, 8, 10, 11, 11, 7, 7, 1, 7, 1, 5, 1, 14, 14, 9, 7, 7, 5, 14, 11, 2, 11, 14, 13, 5, 9, 13, 7, 6, 10, 8, 9, 7, 14, 8, 9, 9, 6, 13, 6, 13, 14, 8, 5, 2, 9, 8, 4, 7, 10, 3, 11, 7, 1, 6, 8, 3, 13, 1, 2, 13, 10, 4, 3, 4, 5, 4, 12, 14, 14, 13, 3, 3, 10, 7, 10, 5, 4, 7, 6, 10, 1, 12, 11, 10, 2, 8, 14, 14, 2, 10, 12, 10, 1, 14, 8, 9, 13, 2, 6, 6, 3, 4, 9, 3, 8, 12, 4, 12, 9, 14, 5, 3, 12, 5, 3, 6, 5, 11, 13, 10, 5, 12, 4, 2, 10, 6, 9, 4, 9, 14, 11, 6, 6, 4, 1, 8, 4, 13, 9, 12, 1, 12, 8, 1, 14, 7, 11, 11, 6, 10, 7, 9, 3, 12, 6, 3, 8, 2, 11, 12, 6, 14, 1, 10, 10, 13, 8, 8, 11, 1, 13, 10, 3, 4, 8, 14, 3, 6, 11, 2, 13, 2, 14, 13, 11, 10, 11, 2, 14, 8, 10, 1, 5, 2, 12, 9, 7, 5, 12, 4, 3, 8, 11, 6, 14, 2, 6, 8, 1, 5, 4, 13, 6, 5, 7, 5, 3, 6, 6, 14, 9, 11, 12, 11, 1, 2, 6, 10, 4, 12, 3, 9, 9, 12, 4, 4, 12, 2, 12, 10, 8, 11], \"Freq\": [0.9722397124949521, 0.8036935203865696, 0.9783633444814668, 0.9588600301838582, 0.8810375566396246, 0.9153194700671894, 0.9833975307627675, 0.9752909273269333, 0.9397998587558856, 0.9457769004787874, 0.9048845687193899, 0.9047679973799848, 0.9768764673915747, 0.9113095248520424, 0.9864459164044734, 0.7819522161806003, 0.9037367222505882, 0.93232196475735, 0.8606287125105193, 0.8539145373695054, 0.8898719201035701, 0.9576404380367333, 0.8810048181129616, 0.8717555427142408, 0.9096635888476778, 0.9256800845945016, 0.9921384868244725, 0.7529288027374577, 0.9223608299608835, 0.9420303965797534, 0.9193349694988083, 0.9565842082261738, 0.9346284406852051, 0.988949111127348, 0.9336681317891933, 0.8860106331665466, 0.9832202734090416, 0.9089234341183056, 0.782511282147633, 0.9739582600569209, 0.9412279490821908, 0.9712820849526278, 0.8649597357652187, 0.9403160588458628, 0.9138169183860277, 0.890383017988895, 0.8219477849168139, 0.8680002205707337, 0.9821210309058347, 0.8913933958289395, 0.9854995623205683, 0.9280447198532227, 0.9320760607537114, 0.7765539418594298, 0.9718252503376459, 0.8482662819758304, 0.9465992831852785, 0.9415775668239175, 0.8237276493195951, 0.8978377010536218, 0.9047531769695542, 0.9462310018279589, 0.8989880001180806, 0.9402573883592159, 0.9819569032319875, 0.8894824327349411, 0.9176361883931322, 0.9693394572713704, 0.9575044903528507, 0.9614135204212745, 0.96104572783762, 0.9819344517020105, 0.9334050165011775, 0.7765474749881057, 0.9135912347577877, 0.8800365906736315, 0.9432008536401791, 0.9274345157274001, 0.8890858656434459, 0.896772377391772, 0.9592461467236943, 0.9539543060654058, 0.9328315280860245, 0.8285837765184466, 0.9317767222898278, 0.9475248446933048, 0.9435698840831789, 0.9547746486824685, 0.984388520866831, 0.9108741371882871, 0.8738102656190145, 0.9615673858913575, 0.9805713238668344, 0.8785084425495256, 0.932774368242683, 0.9329649607868954, 0.901450383103284, 0.7876926788530019, 0.9169968806216022, 0.9532774073434297, 0.942719542243939, 0.8285725858592208, 0.9700086455729919, 0.9363318382676458, 0.9733364902139758, 0.9357035847630193, 0.8062855656185584, 0.8060144784672538, 0.9589976864954951, 0.9530499347090249, 0.9096584239117843, 0.9632137313843049, 0.9411836865535645, 0.9604607803672098, 0.8619775260113912, 0.8549253330773896, 0.9665474871741089, 0.8416059804178311, 0.9947415670338319, 0.8395000058988634, 0.9672977607154538, 0.9388249535748294, 0.9201971934756751, 0.988849802760163, 0.8248270092171365, 0.8399363105077188, 0.9036548380436475, 0.92364013208538, 0.9563687757702709, 0.9270858905665504, 0.985215168793168, 0.9251535114536096, 0.9118867795539872, 0.9765148247105121, 0.8621511011895212, 0.9888202083936152, 0.9344910499934729, 0.9591962386464681, 0.9928822287965862, 0.8074027901766945, 0.9167878085615954, 0.9136280190046615, 0.922647408023521, 0.8659084159676554, 0.9057609687336087, 0.9335881137856654, 0.9670636114697376, 0.8979565321077296, 0.9269867320370538, 0.9103326608917326, 0.9675038220596788, 0.9339741114140749, 0.9072312363661182, 0.9745540801132917, 0.8305225020791361, 0.959974265713781, 0.9455184405802163, 0.9258103108349063, 0.881566809428404, 0.7192890048712548, 0.20551114424892994, 0.906014085140093, 0.8664585209755181, 0.9631924407522579, 0.8579360578915125, 0.951516166281541, 0.9780605877280362, 0.8769938495012346, 0.9389482034648063, 0.8814026803606946, 0.9556013683507245, 0.9856429763826083, 0.9391127052454253, 0.9724073376322699, 0.8109480331518703, 0.853389582141769, 0.9599518725089978, 0.9544868904140796, 0.9550443036728699, 0.8608524710399954, 0.9412327706818102, 0.916876609621092, 0.9359027541624655, 0.874755256012069, 0.9710622239613956, 0.9824404459009262, 0.9500889272267172, 0.8860641673361179, 0.9529978880563507, 0.8998949238947678, 0.9581707707754205, 0.8094171166518718, 0.9542012526571314, 0.9485995730086688, 0.9221596784316123, 0.8695554206671743, 0.907918510175914, 0.9829333302459505, 0.9938075704403769, 0.9750952440164414, 0.9613944389820533, 0.732259218899795, 0.8576629208078377, 0.9399829900476321, 0.8279395600242836, 0.8669626974528856, 0.8437492806456216, 0.9518609229521775, 0.9091937226117139, 0.9203730506319856, 0.9159755250977704, 0.9059806938175657, 0.8622233911040361, 0.8900563136153387, 0.9330613545462579, 0.9434533216347682, 0.9607544721654641, 0.9398019432725552, 0.9490978255704532, 0.8813365665242138, 0.8706597537067088, 0.8356523665585069, 0.9794130541728073, 0.8891295253901779, 0.9519692196977275, 0.857455668874505, 0.9760627351214733, 0.8972462893559864, 0.9490130964575765, 0.9539410744247913, 0.8639336296601271, 0.8827712999462355, 0.8278937247256126, 0.7883949692833863, 0.8874177555479305, 0.9626534404180751, 0.7377322797817641, 0.1639405066181698, 0.9009262106094742, 0.8403356347175561, 0.8104889345019116, 0.9906775852851045, 0.9826957864399302, 0.9251570453520972, 0.942204417979105, 0.9135552078259436, 0.849829087735484, 0.9264538692537423, 0.912719164414499, 0.9505882029083267, 0.8447245652994165, 0.9845297259857547, 0.8016088052654258, 0.8559173318897967, 0.9146595916916851, 0.9699610281001262, 0.9452930644744779, 0.8602973577253381, 0.9958151718757154, 0.967622866008558, 0.9236695405800385, 0.9437742784460647, 0.9658604582347485, 0.9521239549553514, 0.9275909236167621, 0.8775485025225073, 0.9801116836715202, 0.9202863351072823, 0.9235610497272148, 0.9635997224382157, 0.8795331156960446, 0.8791529382767875, 0.9847692546031559, 0.8890954886252008, 0.9210679167428838, 0.8628393595759839, 0.9004455891951627, 0.773372936547301, 0.9028642294032663, 0.8920141926604758, 0.9445735764654816, 0.8407091524458968, 0.9064164158001287, 0.8282346473936307, 0.9341959158547564, 0.9808142708590626, 0.8846410631151841, 0.8759010750959697, 0.9478431223480167, 0.8994130380329761, 0.9542528400037767, 0.9288889893425101, 0.9527117479300569, 0.9779827290099128, 0.954073163328706, 0.8307427510248295, 0.9862807335762083, 0.9691617354603551, 0.937790679655103, 0.9106634770907879, 0.9211564295103453, 0.919311466646268, 0.8356563990703151, 0.8948772674112822, 0.9616494521402759, 0.9634889452970434, 0.9336264801085343, 0.9795845463844921, 0.8699394553899377, 0.9600750421918861, 0.9108338297186729, 0.9715693862220794, 0.9878285830652582, 0.9274620864230899, 0.8969373891933162, 0.8241663511920856, 0.8981607125133131, 0.9940955282231699, 0.976784358561711, 0.9475687887782741, 0.8062186936540124, 0.9605775465987629, 0.9459939277993693, 0.9379676951803433, 0.8124148696699972, 0.9380583764221897, 0.9821682919688145, 0.9422556329687463, 0.9157218683285695, 0.9556567371882742, 0.9961110573914352, 0.8840066554622367, 0.9109173388011075, 0.8504692849993944, 0.8864421711943394, 0.8970738026693943, 0.9351283691523802, 0.9438517348561568, 0.9739194949686308, 0.9344708117080543, 0.9276094614551076, 0.7520165136460696, 0.1671147808102377, 0.9630161204285423, 0.9152125616145605, 0.9284899485615181, 0.9257534299891187, 0.8536501185530813, 0.9661696414887684, 0.8493503131633737, 0.9014126206222164, 0.9349674285125816, 0.8679090704892086, 0.949559296520493, 0.9214080433565999, 0.9404634831044899, 0.9242186618956096, 0.874867537925271, 0.8734510617076344, 0.9722127980608805, 0.8591492292875212, 0.9102284500240092, 0.9582623007729562, 0.9807600023576116, 0.9658889525010749, 0.869076094905247, 0.9600843765280527, 0.6810424685524289, 0.9662562797762339, 0.8545347772410167, 0.77653177386551, 0.9573605722809281, 0.8418580866979918, 0.9901004803483018, 0.8995967503833662, 0.932540923619792, 0.9254108132352866, 0.8798652870902692, 0.9160931435237271, 0.9603221849197644, 0.949032571062016, 0.9686548298496683, 0.9399759762399059, 0.9507676605754083, 0.9483995055486075, 0.83892232477631, 0.9665214682388091, 0.9406166757292996, 0.9847827789310113, 0.9621088367008725, 0.9727215984327946, 0.9296190687604352, 0.9771497611387101, 0.9483311454815124, 0.9334633900330365, 0.9964656409271226, 0.9248488447233366, 0.9139672703413466, 0.8307406161613528, 0.9886241853379487, 0.8661618641466836, 0.8764836661737907, 0.8906661326401527, 0.9103286698521763, 0.986372348270413, 0.9929701358473981, 0.9781473753960458, 0.8388249734626793, 0.9587788147024809, 0.9698034701646917, 0.9579341339076016, 0.943107664378522, 0.9361209593588931, 0.8758674991377279, 0.91607018131266, 0.9170755840279703, 0.8847787868815629, 0.9612512190751282, 0.9371953696473592, 0.8353660973604122, 0.8955841089677585, 0.8980317439613064, 0.9833862743294536, 0.8911782317120285, 0.9828777657500953, 0.9170563065156586], \"Term\": [\"access\", \"access_area\", \"activity\", \"adult\", \"adventure\", \"adventure_golf\", \"afternoon\", \"age\", \"alice_wonderland\", \"amount\", \"amusement\", \"antique\", \"arcade\", \"architecture\", \"area\", \"area_plenty\", \"arm\", \"art\", \"art_craft\", \"attraction\", \"awesome\", \"baby\", \"bacon\", \"ball\", \"bank_holiday\", \"base\", \"beach\", \"beautiful\", \"beauty\", \"bed\", \"bedroom\", \"beer\", \"bench\", \"bird\", \"bird_prey\", \"birthday\", \"bit\", \"bloom\", \"boardwalk\", \"boat\", \"boat_trip\", \"book\", \"bottle\", \"box\", \"breakfast\", \"brighton\", \"buffet\", \"buggy\", \"building\", \"business\", \"cafe\", \"cake\", \"car\", \"car_boot\", \"car_park\", \"card\", \"cathedral\", \"centre\", \"century\", \"chair\", \"challenge\", \"chapel\", \"character\", \"charge\", \"child\", \"childhood\", \"chip\", \"chocolate\", \"choice\", \"christmas\", \"church\", \"cinema\", \"class\", \"clever\", \"climb\", \"club\", \"coffee\", \"coffee_shop\", \"coin\", \"collection\", \"colour\", \"community\", \"company\", \"condition\", \"cost\", \"country\", \"couple\", \"couple_hour\", \"course\", \"craft\", \"date\", \"daughter\", \"day\", \"detail\", \"dinner\", \"direction\", \"dirty\", \"disappointment\", \"discount\", \"display\", \"dog\", \"door\", \"drink\", \"drive\", \"duck\", \"duke_norfolk\", \"duty\", \"easter\", \"effort\", \"end\", \"england\", \"entertainment\", \"entrance\", \"entrance_fee\", \"entry\", \"estate\", \"event\", \"example\", \"experience\", \"fab\", \"facility\", \"fact\", \"fair\", \"family\", \"family_trip\", \"favourite\", \"festival\", \"fire\", \"floor\", \"flower\", \"food\", \"food_drink\", \"foot\", \"friend\", \"front\", \"fun\", \"gallery\", \"game\", \"garden\", \"gardener\", \"gate\", \"gel\", \"gem\", \"generation\", \"gentleman\", \"gift\", \"gift_shop\", \"girl\", \"gold\", \"gold_ticket\", \"golf\", \"good\", \"grandad\", \"ground\", \"ground_garden\", \"group\", \"guy\", \"hand\", \"harbour_park\", \"head\", \"head\", \"heart\", \"help\", \"helpful\", \"heritage\", \"hill\", \"history\", \"holiday\", \"home\", \"host\", \"hotel\", \"hour\", \"house\", \"husband\", \"hut\", \"i\", \"ice_cream\", \"idea\", \"information\", \"informative\", \"interest\", \"issue\", \"item\", \"joy\", \"kevin\", \"kid\", \"kind\", \"knight\", \"knowledge\", \"lady\", \"lake\", \"level\", \"life\", \"load\", \"location\", \"london\", \"loo\", \"look\", \"lot\", \"lunch\", \"machine\", \"magnificent\", \"making\", \"man\", \"management\", \"manager\", \"market\", \"martin\", \"massage\", \"meal\", \"meat\", \"member\", \"member_staff\", \"membership\", \"menu\", \"mile\", \"minute\", \"minute_walk\", \"mix\", \"model\", \"moment\", \"monday\", \"money\", \"month\", \"morning\", \"murder_mystery\", \"museum\", \"music\", \"need\", \"night\", \"norfolk\", \"office\", \"ok\", \"online\", \"opportunity\", \"option\", \"order\", \"order\", \"others\", \"outlet\", \"package\", \"park\", \"part\", \"partner\", \"party\", \"pas\", \"passion\", \"past\", \"path\", \"pay\", \"peaceful\", \"people\", \"performance\", \"period\", \"person\", \"photo\", \"picnic\", \"picture\", \"place\", \"place_visit\", \"place_walk\", \"plant\", \"play\", \"play_area\", \"pleasant\", \"pleasure\", \"plenty\", \"point\", \"pond\", \"pool\", \"portion\", \"practice\", \"price\", \"prize\", \"problem\", \"product\", \"promenade\", \"property\", \"pub\", \"quaint\", \"quality\", \"question\", \"queue\", \"quiche\", \"rain\", \"range\", \"reason\", \"reception\", \"resident\", \"rest\", \"restaurant\", \"return\", \"review\", \"river\", \"road\", \"roll\", \"room\", \"round\", \"route\", \"ruin\", \"run\", \"sand\", \"saturday\", \"scheme\", \"school\", \"screen\", \"sculpture\", \"sea\", \"season\", \"seat\", \"section\", \"selection\", \"service\", \"setting\", \"shame\", \"shape\", \"shoe\", \"shop\", \"show\", \"side\", \"sight\", \"site\", \"size\", \"sky\", \"slice\", \"snack\", \"son\", \"sort\", \"spa\", \"space\", \"staff\", \"staff_helpful\", \"stall\", \"state\", \"station\", \"statue\", \"step\", \"story\", \"street\", \"stroll\", \"stuff\", \"style\", \"style\", \"summer\", \"sun\", \"sunday\", \"sunny\", \"super\", \"superb\", \"surface\", \"surprise\", \"sussex\", \"swan\", \"table\", \"talk\", \"taste\", \"tea\", \"tea_coffee\", \"tea_room\", \"team\", \"technology\", \"tee\", \"thanks\", \"thing\", \"ticket\", \"till\", \"time\", \"tip\", \"toilet\", \"top\", \"touch\", \"tour\", \"tower\", \"town\", \"town_centre\", \"toy\", \"train\", \"travel\", \"treasure\", \"treatment\", \"tree\", \"trip\", \"trust\", \"tulip\", \"tulip_festival\", \"type\", \"u\", \"use\", \"value\", \"value_money\", \"variety\", \"venue\", \"view\", \"view_top\", \"village\", \"visit\", \"visit_garden\", \"visitor\", \"wait\", \"walk\", \"walk_round\", \"wall\", \"wander\", \"waste_money\", \"water\", \"way\", \"weather\", \"website\", \"week\", \"weekend\", \"wet\", \"wheelchair\", \"whilst\", \"wife\", \"wildfowl\", \"wildlife\", \"window\", \"wine\", \"winter\", \"wonder\", \"wood\", \"woodland\", \"work\", \"world\", \"year\", \"yes\"]}, \"R\": 30, \"lambda.step\": 0.01, \"plot.opts\": {\"xlab\": \"PC1\", \"ylab\": \"PC2\"}, \"topic.order\": [1, 2, 3, 4, 5, 6, 7, 8, 9, 10, 11, 12, 13, 14]};\n",
       "\n",
       "function LDAvis_load_lib(url, callback){\n",
       "  var s = document.createElement('script');\n",
       "  s.src = url;\n",
       "  s.async = true;\n",
       "  s.onreadystatechange = s.onload = callback;\n",
       "  s.onerror = function(){console.warn(\"failed to load library \" + url);};\n",
       "  document.getElementsByTagName(\"head\")[0].appendChild(s);\n",
       "}\n",
       "\n",
       "if(typeof(LDAvis) !== \"undefined\"){\n",
       "   // already loaded: just create the visualization\n",
       "   !function(LDAvis){\n",
       "       new LDAvis(\"#\" + \"ldavis_el176017235716778889430220050\", ldavis_el176017235716778889430220050_data);\n",
       "   }(LDAvis);\n",
       "}else if(typeof define === \"function\" && define.amd){\n",
       "   // require.js is available: use it to load d3/LDAvis\n",
       "   require.config({paths: {d3: \"https://d3js.org/d3.v5\"}});\n",
       "   require([\"d3\"], function(d3){\n",
       "      window.d3 = d3;\n",
       "      LDAvis_load_lib(\"https://cdn.jsdelivr.net/gh/bmabey/pyLDAvis@3.3.1/pyLDAvis/js/ldavis.v3.0.0.js\", function(){\n",
       "        new LDAvis(\"#\" + \"ldavis_el176017235716778889430220050\", ldavis_el176017235716778889430220050_data);\n",
       "      });\n",
       "    });\n",
       "}else{\n",
       "    // require.js not available: dynamically load d3 & LDAvis\n",
       "    LDAvis_load_lib(\"https://d3js.org/d3.v5.js\", function(){\n",
       "         LDAvis_load_lib(\"https://cdn.jsdelivr.net/gh/bmabey/pyLDAvis@3.3.1/pyLDAvis/js/ldavis.v3.0.0.js\", function(){\n",
       "                 new LDAvis(\"#\" + \"ldavis_el176017235716778889430220050\", ldavis_el176017235716778889430220050_data);\n",
       "            })\n",
       "         });\n",
       "}\n",
       "</script>"
      ],
      "text/plain": [
       "PreparedData(topic_coordinates=              x         y  topics  cluster      Freq\n",
       "topic                                               \n",
       "0      0.032841  0.037305       1        1  7.449307\n",
       "1      0.031361  0.022934       2        1  7.146584\n",
       "2      0.026176  0.019155       3        1  5.563747\n",
       "3      0.028334 -0.354976       4        1  8.316113\n",
       "4     -0.369683  0.000969       5        1  8.877034\n",
       "5      0.029591  0.018888       6        1  6.279377\n",
       "6      0.028669  0.023155       7        1  6.460210\n",
       "7      0.029619  0.028376       8        1  6.990590\n",
       "8      0.022081  0.021759       9        1  6.753295\n",
       "9      0.023670  0.026182      10        1  7.219046\n",
       "10     0.035147  0.066494      11        1  7.695391\n",
       "11     0.026686  0.030205      12        1  7.075778\n",
       "12     0.029224  0.033467      13        1  7.394504\n",
       "13     0.026285  0.026087      14        1  6.779024, topic_info=             Term        Freq       Total Category  logprob  loglift\n",
       "2           visit  242.000000  242.000000  Default  30.0000  30.0000\n",
       "120         place  198.000000  198.000000  Default  29.0000  29.0000\n",
       "0          garden  142.000000  142.000000  Default  28.0000  28.0000\n",
       "117         staff  136.000000  136.000000  Default  27.0000  27.0000\n",
       "1689        beach  124.000000  124.000000  Default  26.0000  26.0000\n",
       "...           ...         ...         ...      ...      ...      ...\n",
       "508           joy    5.888744    6.859061  Topic14  -5.0173   2.5388\n",
       "898   waste_money    5.620709    6.591026  Topic14  -5.0639   2.5321\n",
       "568      property    5.494869    6.465186  Topic14  -5.0865   2.5287\n",
       "2789  performance    5.266909    6.237456  Topic14  -5.1289   2.5222\n",
       "330   magnificent    4.492229    5.462546  Topic14  -5.2880   2.4958\n",
       "\n",
       "[453 rows x 6 columns], token_table=      Topic      Freq         Term\n",
       "term                              \n",
       "153       2  0.972240       access\n",
       "761      13  0.803694  access_area\n",
       "487       3  0.978363     activity\n",
       "413       1  0.958860        adult\n",
       "1047      3  0.881038    adventure\n",
       "...     ...       ...          ...\n",
       "1285      2  0.898032     woodland\n",
       "125      12  0.983386         work\n",
       "122      10  0.891178        world\n",
       "20        8  0.982878         year\n",
       "1155     11  0.917056          yes\n",
       "\n",
       "[426 rows x 3 columns], R=30, lambda_step=0.01, plot_opts={'xlab': 'PC1', 'ylab': 'PC2'}, topic_order=[1, 2, 3, 4, 5, 6, 7, 8, 9, 10, 11, 12, 13, 14])"
      ]
     },
     "execution_count": 294,
     "metadata": {},
     "output_type": "execute_result"
    }
   ],
   "source": [
    "vis(lda_attract[1],attract_bow_big,attract_dict_big)"
   ]
  },
  {
   "cell_type": "markdown",
   "metadata": {},
   "source": [
    "Analysis\n",
    "* Using the most coherent topics in the LDA model the visualisation shows that many of the topics for accommodation and food are overlapping, indicating that the model is not performing well."
   ]
  },
  {
   "cell_type": "markdown",
   "metadata": {},
   "source": [
    "# Section 6: SciKit Learn NMF Model"
   ]
  },
  {
   "cell_type": "markdown",
   "metadata": {},
   "source": [
    "* There are no scores available for nmf through sklearn implementation, so the models are run with different topic numbers and the results assessed manually.\n",
    "* The initial topic numbers are taken from the Gensim LDA model above as a starting point. As the models run very quickly, this can easily be repeated until a satisfactory set of results is derived. \n",
    "* The Scikit learn implementation is used as it accepts tf-idf weights as well as term frequencies, TFIDF is used by most as it usually returns the best results since it weights rare words higher and frequent words throughout the corpus lower. \n",
    "* However with these very short texts of just a few nouns (ie very processed and cleaned dataset) and adjustments using the vectorizer function, the countvectorizer model may work a little better, so both are compared. "
   ]
  },
  {
   "cell_type": "markdown",
   "metadata": {},
   "source": [
    "## Set up countvectorizer and tf-idf vectorizer models"
   ]
  },
  {
   "cell_type": "code",
   "execution_count": 295,
   "metadata": {
    "scrolled": true
   },
   "outputs": [],
   "source": [
    "#Convert list of strings to a string for training set\n",
    "accom_joined = accom_nouns.apply(lambda x:' '.join(x))\n",
    "food_joined = food_nouns.apply(lambda x:' '.join(x))\n",
    "attract_joined = attract_nouns.apply(lambda x:' '.join(x))\n",
    "\n",
    "# Test set\n",
    "accom_nouns_joined_test = accom_nouns_test.apply(lambda x:' '.join(x))\n",
    "food_nouns_joined_test = food_nouns_test.apply(lambda x: ' '.join(x))\n",
    "attract_nouns_joined_test = attract_nouns_test.apply(lambda x:' '.join(x))"
   ]
  },
  {
   "cell_type": "code",
   "execution_count": 296,
   "metadata": {
    "scrolled": true
   },
   "outputs": [],
   "source": [
    "# add some words to remove that do not add useful information\n",
    "sw_accom = [\"le\",\"hour\",\"place\",\"lot\",\"bit\",\"get\",\"side\",\"night\",\"stay\",\"week\",\"hour\",\"day\",\"home\",\"weekend\",\"avisford\"\n",
    "            \"people\",\"area\",\"holiday\",\"chip\",\"kid\",\"breakfast\",\"pub\",\"dinner\",\"lunch\",\"evening\",\"child\",\"adult\",\"people\",\"avisford\"]\n",
    "sw_food = [\"restaurant\",\"chip\",\"review\",\"time\",\"sunday\",\"thing\",\"roast\",\"family\",\"lunch\",\"pub\",\"dinner\",\"breakfast\",\"birthday\",\"evening\",\"place\",\n",
    "          \"friend\",\"night\",\"group\"]\n",
    "sw_attract = [\"lot\",\"room\"]"
   ]
  },
  {
   "cell_type": "code",
   "execution_count": 297,
   "metadata": {
    "scrolled": true
   },
   "outputs": [],
   "source": [
    "# Function to transform to bow and tfidf models - Maximum features in the dictionary to be 1000, exclude words occurring in less # than 2 documents \n",
    "# and in more than 95% of documents and to include unigrams,bigrams and trigrams. \n",
    "\n",
    "def transform(df,sw):\n",
    "            \n",
    "    countvectorizer = CountVectorizer(stop_words = sw,max_features = 1500,max_df = 0.95, min_df = 3,ngram_range=(1,3))\n",
    "    tf_idf_vectorizer = TfidfVectorizer(stop_words = sw,max_features = 1500,max_df = 0.95,min_df = 2,ngram_range=(1, 3))\n",
    "    vector1 = countvectorizer.fit_transform(df)\n",
    "    vector2 = tf_idf_vectorizer.fit_transform(df)\n",
    "    \n",
    "    \n",
    "    return countvectorizer,tf_idf_vectorizer,vector1,vector2"
   ]
  },
  {
   "cell_type": "code",
   "execution_count": 298,
   "metadata": {
    "scrolled": true
   },
   "outputs": [],
   "source": [
    "# Create vectorizer and tfidf vectorizer objects \n",
    "cv_accom,tfidf_accom,vec1_accom,vec2_accom = transform(accom_joined,sw_accom)\n",
    "cv_food,tfidf_food,vec1_food,vec2_food = transform(food_joined,sw_food)\n",
    "cv_attract,tfidf_attract,vec1_attract,vec2_attract = transform(attract_joined,sw_attract)"
   ]
  },
  {
   "cell_type": "markdown",
   "metadata": {},
   "source": [
    "## Fit NMF Model"
   ]
  },
  {
   "cell_type": "code",
   "execution_count": 299,
   "metadata": {
    "scrolled": true
   },
   "outputs": [],
   "source": [
    "# NMF function - alpha set to 1.0 for regularization and max_iter to 1000 rather than default of 200, as topics are fuzzy. \n",
    "# The model is initialised with Nonnegative Double Singular Value Decomposition (NNDSVD) initialization (better for sparse data) to help convergence. \n",
    "# Alpha controls the amount of regularisation to prevent overfitting. The solver used is the default coordinate descent and the optimizer is '\n",
    "# 'frobenius'(square root of the absolute sum of squares of the elements) and also the default. The maximum iterations is the number before timing out. \n",
    "# Shuffle is set to True to shuffle the coordinates in the solver.\n",
    "\n",
    "# Define and fit model\n",
    "def nmf(vector,num_topics,vectorizer):\n",
    "    nmf_model = NMF(n_components = num_topics, \n",
    "                    init = 'nndsvd',\n",
    "                    alpha = 1,\n",
    "                    solver=\"cd\",\n",
    "                    beta_loss='frobenius',\n",
    "                    max_iter = 1000,\n",
    "                    shuffle=True,\n",
    "                    random_state = 0)\n",
    "    \n",
    "    W = nmf_model.fit_transform(vector) # each column represents the weight of each word in a doc (w)\n",
    "    H = nmf_model.components_  # each row represents a word embedding (h) and is a weighting\n",
    "\n",
    "        \n",
    "    # Extract topics,features and weights\n",
    "    feature_names = np.array(vectorizer.get_feature_names())\n",
    "    feature_idxs = np.argsort(-H)\n",
    "    topics = [feature_names[idx] for idx in feature_idxs]\n",
    "    topics = pd.DataFrame(topics).T\n",
    "    topics.columns = [\"T\" + str(i) for i in range(1,num_topics+1)]\n",
    "               \n",
    "    return topics,H,W,nmf_model\n",
    "               "
   ]
  },
  {
   "cell_type": "code",
   "execution_count": 300,
   "metadata": {
    "scrolled": true
   },
   "outputs": [],
   "source": [
    "# Get countvectorizer doc topics, H,W,and nmf fitted model - start with number of topics suggested by LDA model and then adjust to find most coherent topics\n",
    "accom_count_topics,H_accom,W_accom,count_mod = nmf(vec1_accom,18,cv_accom)"
   ]
  },
  {
   "cell_type": "markdown",
   "metadata": {},
   "source": [
    "## Run models for accommodation"
   ]
  },
  {
   "cell_type": "markdown",
   "metadata": {},
   "source": [
    "### Countvectorizer NMF Model - accommodation (using LDA model number of topics)"
   ]
  },
  {
   "cell_type": "code",
   "execution_count": 303,
   "metadata": {
    "scrolled": true
   },
   "outputs": [
    {
     "data": {
      "text/html": [
       "<div>\n",
       "<style scoped>\n",
       "    .dataframe tbody tr th:only-of-type {\n",
       "        vertical-align: middle;\n",
       "    }\n",
       "\n",
       "    .dataframe tbody tr th {\n",
       "        vertical-align: top;\n",
       "    }\n",
       "\n",
       "    .dataframe thead th {\n",
       "        text-align: right;\n",
       "    }\n",
       "</style>\n",
       "<table border=\"1\" class=\"dataframe\">\n",
       "  <thead>\n",
       "    <tr style=\"text-align: right;\">\n",
       "      <th></th>\n",
       "      <th>T1</th>\n",
       "      <th>T2</th>\n",
       "      <th>T3</th>\n",
       "      <th>T4</th>\n",
       "      <th>T5</th>\n",
       "      <th>T6</th>\n",
       "      <th>T7</th>\n",
       "      <th>T8</th>\n",
       "      <th>T9</th>\n",
       "      <th>T10</th>\n",
       "      <th>T11</th>\n",
       "      <th>T12</th>\n",
       "      <th>T13</th>\n",
       "      <th>T14</th>\n",
       "      <th>T15</th>\n",
       "      <th>T16</th>\n",
       "      <th>T17</th>\n",
       "      <th>T18</th>\n",
       "    </tr>\n",
       "  </thead>\n",
       "  <tbody>\n",
       "    <tr>\n",
       "      <th>0</th>\n",
       "      <td>room</td>\n",
       "      <td>staff</td>\n",
       "      <td>hotel</td>\n",
       "      <td>food</td>\n",
       "      <td>pool</td>\n",
       "      <td>service</td>\n",
       "      <td>restau...</td>\n",
       "      <td>family</td>\n",
       "      <td>value</td>\n",
       "      <td>park</td>\n",
       "      <td>bed</td>\n",
       "      <td>tea</td>\n",
       "      <td>location</td>\n",
       "      <td>floor</td>\n",
       "      <td>visit</td>\n",
       "      <td>entert...</td>\n",
       "      <td>view</td>\n",
       "      <td>choice</td>\n",
       "    </tr>\n",
       "    <tr>\n",
       "      <th>1</th>\n",
       "      <td>hotel ...</td>\n",
       "      <td>member</td>\n",
       "      <td>hotel ...</td>\n",
       "      <td>quality</td>\n",
       "      <td>splash</td>\n",
       "      <td>customer</td>\n",
       "      <td>food r...</td>\n",
       "      <td>family...</td>\n",
       "      <td>money</td>\n",
       "      <td>car</td>\n",
       "      <td>comfy</td>\n",
       "      <td>coffee</td>\n",
       "      <td>town</td>\n",
       "      <td>ground</td>\n",
       "      <td>family...</td>\n",
       "      <td>show</td>\n",
       "      <td>sea</td>\n",
       "      <td>meal</td>\n",
       "    </tr>\n",
       "    <tr>\n",
       "      <th>2</th>\n",
       "      <td>room room</td>\n",
       "      <td>helpful</td>\n",
       "      <td>hotel ...</td>\n",
       "      <td>good</td>\n",
       "      <td>splash...</td>\n",
       "      <td>custom...</td>\n",
       "      <td>hotel ...</td>\n",
       "      <td>fun</td>\n",
       "      <td>value ...</td>\n",
       "      <td>car park</td>\n",
       "      <td>comfy bed</td>\n",
       "      <td>tea co...</td>\n",
       "      <td>centre</td>\n",
       "      <td>ground...</td>\n",
       "      <td>year</td>\n",
       "      <td>activity</td>\n",
       "      <td>sea view</td>\n",
       "      <td>plenty</td>\n",
       "    </tr>\n",
       "    <tr>\n",
       "      <th>3</th>\n",
       "      <td>shower</td>\n",
       "      <td>reception</td>\n",
       "      <td>hotel ...</td>\n",
       "      <td>food good</td>\n",
       "      <td>wave</td>\n",
       "      <td>guest</td>\n",
       "      <td>site</td>\n",
       "      <td>friend</td>\n",
       "      <td>waste</td>\n",
       "      <td>hotel car</td>\n",
       "      <td>bunk</td>\n",
       "      <td>facility</td>\n",
       "      <td>minute</td>\n",
       "      <td>apartment</td>\n",
       "      <td>visit ...</td>\n",
       "      <td>centre</td>\n",
       "      <td>view room</td>\n",
       "      <td>menu</td>\n",
       "    </tr>\n",
       "    <tr>\n",
       "      <th>4</th>\n",
       "      <td>family...</td>\n",
       "      <td>staff ...</td>\n",
       "      <td>room h...</td>\n",
       "      <td>drink</td>\n",
       "      <td>wave pool</td>\n",
       "      <td>food s...</td>\n",
       "      <td>deck</td>\n",
       "      <td>family...</td>\n",
       "      <td>waste ...</td>\n",
       "      <td>hotel ...</td>\n",
       "      <td>bunk bed</td>\n",
       "      <td>coffee...</td>\n",
       "      <td>walk</td>\n",
       "      <td>bathroom</td>\n",
       "      <td>resort</td>\n",
       "      <td>stage</td>\n",
       "      <td>sea vi...</td>\n",
       "      <td>quality</td>\n",
       "    </tr>\n",
       "    <tr>\n",
       "      <th>5</th>\n",
       "      <td>size</td>\n",
       "      <td>member...</td>\n",
       "      <td>hotel ...</td>\n",
       "      <td>court</td>\n",
       "      <td>slide</td>\n",
       "      <td>room s...</td>\n",
       "      <td>deck r...</td>\n",
       "      <td>family...</td>\n",
       "      <td>accomm...</td>\n",
       "      <td>water</td>\n",
       "      <td>bed comfy</td>\n",
       "      <td>fridge</td>\n",
       "      <td>beach</td>\n",
       "      <td>floor ...</td>\n",
       "      <td>visit ...</td>\n",
       "      <td>team</td>\n",
       "      <td>balcony</td>\n",
       "      <td>plenty...</td>\n",
       "    </tr>\n",
       "    <tr>\n",
       "      <th>6</th>\n",
       "      <td>room s...</td>\n",
       "      <td>recept...</td>\n",
       "      <td>staff ...</td>\n",
       "      <td>qualit...</td>\n",
       "      <td>fun</td>\n",
       "      <td>guest ...</td>\n",
       "      <td>shop</td>\n",
       "      <td>member</td>\n",
       "      <td>price</td>\n",
       "      <td>space</td>\n",
       "      <td>size</td>\n",
       "      <td>tea co...</td>\n",
       "      <td>hotel ...</td>\n",
       "      <td>room g...</td>\n",
       "      <td>return</td>\n",
       "      <td>centre...</td>\n",
       "      <td>room s...</td>\n",
       "      <td>choice...</td>\n",
       "    </tr>\n",
       "    <tr>\n",
       "      <th>7</th>\n",
       "      <td>room h...</td>\n",
       "      <td>staff ...</td>\n",
       "      <td>spa</td>\n",
       "      <td>food c...</td>\n",
       "      <td>water</td>\n",
       "      <td>servic...</td>\n",
       "      <td>ate</td>\n",
       "      <td>raft</td>\n",
       "      <td>food v...</td>\n",
       "      <td>road</td>\n",
       "      <td>bathroom</td>\n",
       "      <td>biscuit</td>\n",
       "      <td>shop</td>\n",
       "      <td>room g...</td>\n",
       "      <td>review</td>\n",
       "      <td>fun</td>\n",
       "      <td>room sea</td>\n",
       "      <td>price</td>\n",
       "    </tr>\n",
       "    <tr>\n",
       "      <th>8</th>\n",
       "      <td>steam</td>\n",
       "      <td>hotel ...</td>\n",
       "      <td>star</td>\n",
       "      <td>food s...</td>\n",
       "      <td>activity</td>\n",
       "      <td>servic...</td>\n",
       "      <td>diner</td>\n",
       "      <td>family...</td>\n",
       "      <td>pay</td>\n",
       "      <td>park car</td>\n",
       "      <td>size bed</td>\n",
       "      <td>fridge...</td>\n",
       "      <td>locati...</td>\n",
       "      <td>ground...</td>\n",
       "      <td>apartment</td>\n",
       "      <td>skyline</td>\n",
       "      <td>walk</td>\n",
       "      <td>course</td>\n",
       "    </tr>\n",
       "    <tr>\n",
       "      <th>9</th>\n",
       "      <td>steam ...</td>\n",
       "      <td>polite</td>\n",
       "      <td>hotel ...</td>\n",
       "      <td>food r...</td>\n",
       "      <td>facility</td>\n",
       "      <td>quality</td>\n",
       "      <td>restau...</td>\n",
       "      <td>group</td>\n",
       "      <td>activity</td>\n",
       "      <td>caravan</td>\n",
       "      <td>sofa</td>\n",
       "      <td>making</td>\n",
       "      <td>conven...</td>\n",
       "      <td>dance</td>\n",
       "      <td>beach</td>\n",
       "      <td>site</td>\n",
       "      <td>front</td>\n",
       "      <td>choice...</td>\n",
       "    </tr>\n",
       "  </tbody>\n",
       "</table>\n",
       "</div>"
      ],
      "text/plain": [
       "          T1         T2         T3         T4         T5         T6  \\\n",
       "0       room      staff      hotel       food       pool    service   \n",
       "1  hotel ...     member  hotel ...    quality     splash   customer   \n",
       "2  room room    helpful  hotel ...       good  splash...  custom...   \n",
       "3     shower  reception  hotel ...  food good       wave      guest   \n",
       "4  family...  staff ...  room h...      drink  wave pool  food s...   \n",
       "5       size  member...  hotel ...      court      slide  room s...   \n",
       "6  room s...  recept...  staff ...  qualit...        fun  guest ...   \n",
       "7  room h...  staff ...        spa  food c...      water  servic...   \n",
       "8      steam  hotel ...       star  food s...   activity  servic...   \n",
       "9  steam ...     polite  hotel ...  food r...   facility    quality   \n",
       "\n",
       "          T7         T8         T9        T10        T11        T12  \\\n",
       "0  restau...     family      value       park        bed        tea   \n",
       "1  food r...  family...      money        car      comfy     coffee   \n",
       "2  hotel ...        fun  value ...   car park  comfy bed  tea co...   \n",
       "3       site     friend      waste  hotel car       bunk   facility   \n",
       "4       deck  family...  waste ...  hotel ...   bunk bed  coffee...   \n",
       "5  deck r...  family...  accomm...      water  bed comfy     fridge   \n",
       "6       shop     member      price      space       size  tea co...   \n",
       "7        ate       raft  food v...       road   bathroom    biscuit   \n",
       "8      diner  family...        pay   park car   size bed  fridge...   \n",
       "9  restau...      group   activity    caravan       sofa     making   \n",
       "\n",
       "         T13        T14        T15        T16        T17        T18  \n",
       "0   location      floor      visit  entert...       view     choice  \n",
       "1       town     ground  family...       show        sea       meal  \n",
       "2     centre  ground...       year   activity   sea view     plenty  \n",
       "3     minute  apartment  visit ...     centre  view room       menu  \n",
       "4       walk   bathroom     resort      stage  sea vi...    quality  \n",
       "5      beach  floor ...  visit ...       team    balcony  plenty...  \n",
       "6  hotel ...  room g...     return  centre...  room s...  choice...  \n",
       "7       shop  room g...     review        fun   room sea      price  \n",
       "8  locati...  ground...  apartment    skyline       walk     course  \n",
       "9  conven...      dance      beach       site      front  choice...  "
      ]
     },
     "execution_count": 303,
     "metadata": {},
     "output_type": "execute_result"
    }
   ],
   "source": [
    "pd. set_option('display.max_colwidth', 10)\n",
    "accom_count_topics.head(10)"
   ]
  },
  {
   "cell_type": "markdown",
   "metadata": {},
   "source": [
    "Inferring topics can be difficult and should usually be done by domain experts. For the purposes of this project, the topics are inferred by looking at the top 5/10 words."
   ]
  },
  {
   "cell_type": "code",
   "execution_count": 304,
   "metadata": {
    "scrolled": true
   },
   "outputs": [],
   "source": [
    "# Apply inferred topics to documents with the associated weights\n",
    "pd.options.display.float_format = '{:,.3f}'.format\n",
    "accom_count_df = pd.DataFrame(W_accom)\n",
    "accom_count_df.columns = [\"RoomGen\",\"Staff\",\"HotelGen\",\"Food\",\"Leisure&Fac\",\"CustomerServ\",\"EatingFac\",\"FamilyFac\",\"VFM\",\"Parking&Other\",\"RoomComf\",\n",
    "                         \"RoomFac\",\"HotelLoc\",\"RoomLoc\",\"Visit Exp\",\"Entertainment\",\"Views\",\"MealChoice\"]\n",
    "accom_count_df[\"Top\"] = accom_count_df.idxmax(axis=\"columns\")\n",
    "#topics_per_doc_accom_count.head()"
   ]
  },
  {
   "cell_type": "code",
   "execution_count": 305,
   "metadata": {
    "scrolled": true
   },
   "outputs": [],
   "source": [
    "# Add the most likely countvectorizer topic to the review dataframe\n",
    "predict_count_accom = pd.DataFrame(df_accom[[\"OrigInd\",\"Category\",\"Town\",\"Rating\",\"all_text\",\"cleaned_sentences\",\"noun_phrases\",\"nouns\"]]).reset_index(drop = True)\n",
    "accom_predict_count = pd.concat([predict_count_accom,accom_count_df[\"Top\"]],axis = 1,ignore_index = True)\n",
    "accom_predict_count.columns = [\"OrigInd\",\"Category\",\"Town\",\"Rating\",\"all_text\",\"cleaned\",\"noun_phrases\",\"nouns\",\"Topic Count\"]\n",
    "pd.set_option('max_colwidth',40)"
   ]
  },
  {
   "cell_type": "code",
   "execution_count": 306,
   "metadata": {},
   "outputs": [
    {
     "data": {
      "text/html": [
       "<div>\n",
       "<style scoped>\n",
       "    .dataframe tbody tr th:only-of-type {\n",
       "        vertical-align: middle;\n",
       "    }\n",
       "\n",
       "    .dataframe tbody tr th {\n",
       "        vertical-align: top;\n",
       "    }\n",
       "\n",
       "    .dataframe thead th {\n",
       "        text-align: right;\n",
       "    }\n",
       "</style>\n",
       "<table border=\"1\" class=\"dataframe\">\n",
       "  <thead>\n",
       "    <tr style=\"text-align: right;\">\n",
       "      <th></th>\n",
       "      <th>noun_phrases</th>\n",
       "      <th>nouns</th>\n",
       "      <th>Topic Count</th>\n",
       "    </tr>\n",
       "  </thead>\n",
       "  <tbody>\n",
       "    <tr>\n",
       "      <th>13018</th>\n",
       "      <td>close location</td>\n",
       "      <td>[location]</td>\n",
       "      <td>HotelLoc</td>\n",
       "    </tr>\n",
       "    <tr>\n",
       "      <th>18961</th>\n",
       "      <td>turning round dirty table guest</td>\n",
       "      <td>[round, dirty, table, guest]</td>\n",
       "      <td>CustomerServ</td>\n",
       "    </tr>\n",
       "    <tr>\n",
       "      <th>8185</th>\n",
       "      <td>extra hotel room</td>\n",
       "      <td>[hotel, room]</td>\n",
       "      <td>HotelGen</td>\n",
       "    </tr>\n",
       "    <tr>\n",
       "      <th>13787</th>\n",
       "      <td>church farm</td>\n",
       "      <td>[church, farm]</td>\n",
       "      <td>Visit Exp</td>\n",
       "    </tr>\n",
       "    <tr>\n",
       "      <th>4134</th>\n",
       "      <td>mould dirt cobweb everywhere</td>\n",
       "      <td>[cobweb]</td>\n",
       "      <td>RoomGen</td>\n",
       "    </tr>\n",
       "    <tr>\n",
       "      <th>6796</th>\n",
       "      <td>hi-de-hi experience</td>\n",
       "      <td>[experience]</td>\n",
       "      <td>RoomLoc</td>\n",
       "    </tr>\n",
       "    <tr>\n",
       "      <th>12561</th>\n",
       "      <td>amazing spa hotel</td>\n",
       "      <td>[hotel]</td>\n",
       "      <td>HotelGen</td>\n",
       "    </tr>\n",
       "    <tr>\n",
       "      <th>23287</th>\n",
       "      <td>amazing requirement request</td>\n",
       "      <td>[requirement, request]</td>\n",
       "      <td>RoomLoc</td>\n",
       "    </tr>\n",
       "    <tr>\n",
       "      <th>18461</th>\n",
       "      <td>return key card</td>\n",
       "      <td>[return, card]</td>\n",
       "      <td>Visit Exp</td>\n",
       "    </tr>\n",
       "    <tr>\n",
       "      <th>3846</th>\n",
       "      <td>show milkshake daughter</td>\n",
       "      <td>[show, daughter]</td>\n",
       "      <td>Entertainment</td>\n",
       "    </tr>\n",
       "  </tbody>\n",
       "</table>\n",
       "</div>"
      ],
      "text/plain": [
       "                          noun_phrases                         nouns  \\\n",
       "13018                   close location                    [location]   \n",
       "18961  turning round dirty table guest  [round, dirty, table, guest]   \n",
       "8185                  extra hotel room                 [hotel, room]   \n",
       "13787                      church farm                [church, farm]   \n",
       "4134      mould dirt cobweb everywhere                      [cobweb]   \n",
       "6796               hi-de-hi experience                  [experience]   \n",
       "12561                amazing spa hotel                       [hotel]   \n",
       "23287      amazing requirement request        [requirement, request]   \n",
       "18461                  return key card                [return, card]   \n",
       "3846           show milkshake daughter              [show, daughter]   \n",
       "\n",
       "         Topic Count  \n",
       "13018       HotelLoc  \n",
       "18961   CustomerServ  \n",
       "8185        HotelGen  \n",
       "13787      Visit Exp  \n",
       "4134         RoomGen  \n",
       "6796         RoomLoc  \n",
       "12561       HotelGen  \n",
       "23287        RoomLoc  \n",
       "18461      Visit Exp  \n",
       "3846   Entertainment  "
      ]
     },
     "execution_count": 306,
     "metadata": {},
     "output_type": "execute_result"
    }
   ],
   "source": [
    "#accom_predict_count[[\"noun_phrases\",\"nouns\",\"Topic Count\"]].sample(10)"
   ]
  },
  {
   "cell_type": "markdown",
   "metadata": {},
   "source": [
    "### TFIDF NMF Model - accommodation"
   ]
  },
  {
   "cell_type": "code",
   "execution_count": 307,
   "metadata": {
    "scrolled": true
   },
   "outputs": [],
   "source": [
    "# Get countvectorizer doc topics, H,W,and nmf fitted model for tfidf vectorizer\n",
    "accom_tfidf_topics,H_accom_tfidf,W_accom_tfidf,tfidf_mod = nmf(vec2_accom,18,tfidf_accom)"
   ]
  },
  {
   "cell_type": "code",
   "execution_count": 311,
   "metadata": {
    "scrolled": false
   },
   "outputs": [
    {
     "data": {
      "text/html": [
       "<div>\n",
       "<style scoped>\n",
       "    .dataframe tbody tr th:only-of-type {\n",
       "        vertical-align: middle;\n",
       "    }\n",
       "\n",
       "    .dataframe tbody tr th {\n",
       "        vertical-align: top;\n",
       "    }\n",
       "\n",
       "    .dataframe thead th {\n",
       "        text-align: right;\n",
       "    }\n",
       "</style>\n",
       "<table border=\"1\" class=\"dataframe\">\n",
       "  <thead>\n",
       "    <tr style=\"text-align: right;\">\n",
       "      <th></th>\n",
       "      <th>T1</th>\n",
       "      <th>T2</th>\n",
       "      <th>T3</th>\n",
       "      <th>T4</th>\n",
       "      <th>T5</th>\n",
       "      <th>T6</th>\n",
       "      <th>T7</th>\n",
       "      <th>T8</th>\n",
       "      <th>T9</th>\n",
       "      <th>T10</th>\n",
       "      <th>T11</th>\n",
       "      <th>T12</th>\n",
       "      <th>T13</th>\n",
       "      <th>T14</th>\n",
       "      <th>T15</th>\n",
       "      <th>T16</th>\n",
       "      <th>T17</th>\n",
       "      <th>T18</th>\n",
       "    </tr>\n",
       "  </thead>\n",
       "  <tbody>\n",
       "    <tr>\n",
       "      <th>0</th>\n",
       "      <td>room</td>\n",
       "      <td>staff</td>\n",
       "      <td>hotel</td>\n",
       "      <td>food</td>\n",
       "      <td>pool</td>\n",
       "      <td>family</td>\n",
       "      <td>service</td>\n",
       "      <td>bed</td>\n",
       "      <td>restau...</td>\n",
       "      <td>location</td>\n",
       "      <td>visit</td>\n",
       "      <td>value</td>\n",
       "      <td>entert...</td>\n",
       "      <td>park</td>\n",
       "      <td>meal</td>\n",
       "      <td>price</td>\n",
       "      <td>experi...</td>\n",
       "      <td>site</td>\n",
       "    </tr>\n",
       "    <tr>\n",
       "      <th>1</th>\n",
       "      <td>hotel ...</td>\n",
       "      <td>member</td>\n",
       "      <td>hotel ...</td>\n",
       "      <td>good</td>\n",
       "      <td>splash</td>\n",
       "      <td>family...</td>\n",
       "      <td>customer</td>\n",
       "      <td>comfy</td>\n",
       "      <td>food r...</td>\n",
       "      <td>town</td>\n",
       "      <td>family...</td>\n",
       "      <td>money</td>\n",
       "      <td>show</td>\n",
       "      <td>car</td>\n",
       "      <td>choice</td>\n",
       "      <td>quality</td>\n",
       "      <td>year</td>\n",
       "      <td>facility</td>\n",
       "    </tr>\n",
       "    <tr>\n",
       "      <th>2</th>\n",
       "      <td>family...</td>\n",
       "      <td>helpful</td>\n",
       "      <td>hotel ...</td>\n",
       "      <td>quality</td>\n",
       "      <td>splash...</td>\n",
       "      <td>fun</td>\n",
       "      <td>custom...</td>\n",
       "      <td>comfy bed</td>\n",
       "      <td>hotel ...</td>\n",
       "      <td>hotel ...</td>\n",
       "      <td>return</td>\n",
       "      <td>value ...</td>\n",
       "      <td>fun</td>\n",
       "      <td>car park</td>\n",
       "      <td>course</td>\n",
       "      <td>drink</td>\n",
       "      <td>reception</td>\n",
       "      <td>shop</td>\n",
       "    </tr>\n",
       "    <tr>\n",
       "      <th>3</th>\n",
       "      <td>floor</td>\n",
       "      <td>staff ...</td>\n",
       "      <td>room h...</td>\n",
       "      <td>food good</td>\n",
       "      <td>water</td>\n",
       "      <td>friend</td>\n",
       "      <td>food s...</td>\n",
       "      <td>bed comfy</td>\n",
       "      <td>deck r...</td>\n",
       "      <td>locati...</td>\n",
       "      <td>visit ...</td>\n",
       "      <td>waste ...</td>\n",
       "      <td>activity</td>\n",
       "      <td>water</td>\n",
       "      <td>time</td>\n",
       "      <td>choice</td>\n",
       "      <td>need</td>\n",
       "      <td>caravan</td>\n",
       "    </tr>\n",
       "    <tr>\n",
       "      <th>4</th>\n",
       "      <td>room room</td>\n",
       "      <td>member...</td>\n",
       "      <td>hotel ...</td>\n",
       "      <td>food r...</td>\n",
       "      <td>wave</td>\n",
       "      <td>family...</td>\n",
       "      <td>room s...</td>\n",
       "      <td>bunk bed</td>\n",
       "      <td>deck</td>\n",
       "      <td>locati...</td>\n",
       "      <td>friend</td>\n",
       "      <td>waste</td>\n",
       "      <td>facility</td>\n",
       "      <td>road</td>\n",
       "      <td>birthday</td>\n",
       "      <td>good</td>\n",
       "      <td>accomm...</td>\n",
       "      <td>tidy</td>\n",
       "    </tr>\n",
       "    <tr>\n",
       "      <th>5</th>\n",
       "      <td>room h...</td>\n",
       "      <td>reception</td>\n",
       "      <td>hotel ...</td>\n",
       "      <td>choice</td>\n",
       "      <td>wave pool</td>\n",
       "      <td>family...</td>\n",
       "      <td>guest</td>\n",
       "      <td>bunk</td>\n",
       "      <td>choice</td>\n",
       "      <td>thing</td>\n",
       "      <td>visit ...</td>\n",
       "      <td>accomm...</td>\n",
       "      <td>team</td>\n",
       "      <td>walk</td>\n",
       "      <td>course...</td>\n",
       "      <td>point</td>\n",
       "      <td>daughter</td>\n",
       "      <td>walk</td>\n",
       "    </tr>\n",
       "    <tr>\n",
       "      <th>6</th>\n",
       "      <td>room s...</td>\n",
       "      <td>recept...</td>\n",
       "      <td>staff ...</td>\n",
       "      <td>food s...</td>\n",
       "      <td>slide</td>\n",
       "      <td>visit ...</td>\n",
       "      <td>guest ...</td>\n",
       "      <td>size</td>\n",
       "      <td>ate</td>\n",
       "      <td>centre</td>\n",
       "      <td>year</td>\n",
       "      <td>activity</td>\n",
       "      <td>stage</td>\n",
       "      <td>facility</td>\n",
       "      <td>family...</td>\n",
       "      <td>apartment</td>\n",
       "      <td>spa</td>\n",
       "      <td>time</td>\n",
       "    </tr>\n",
       "    <tr>\n",
       "      <th>7</th>\n",
       "      <td>view</td>\n",
       "      <td>hotel ...</td>\n",
       "      <td>food h...</td>\n",
       "      <td>qualit...</td>\n",
       "      <td>fun</td>\n",
       "      <td>family...</td>\n",
       "      <td>servic...</td>\n",
       "      <td>sleep</td>\n",
       "      <td>staff ...</td>\n",
       "      <td>beach</td>\n",
       "      <td>apartment</td>\n",
       "      <td>quality</td>\n",
       "      <td>ok</td>\n",
       "      <td>space</td>\n",
       "      <td>morning</td>\n",
       "      <td>fun</td>\n",
       "      <td>rest</td>\n",
       "      <td>shop site</td>\n",
       "    </tr>\n",
       "    <tr>\n",
       "      <th>8</th>\n",
       "      <td>shower</td>\n",
       "      <td>staff ...</td>\n",
       "      <td>hotel ...</td>\n",
       "      <td>drink</td>\n",
       "      <td>spa</td>\n",
       "      <td>friend...</td>\n",
       "      <td>servic...</td>\n",
       "      <td>size bed</td>\n",
       "      <td>diner</td>\n",
       "      <td>room l...</td>\n",
       "      <td>tot</td>\n",
       "      <td>food v...</td>\n",
       "      <td>plenty</td>\n",
       "      <td>water ...</td>\n",
       "      <td>door</td>\n",
       "      <td>price ...</td>\n",
       "      <td>floor</td>\n",
       "      <td>restau...</td>\n",
       "    </tr>\n",
       "    <tr>\n",
       "      <th>9</th>\n",
       "      <td>bathroom</td>\n",
       "      <td>staff ...</td>\n",
       "      <td>visit ...</td>\n",
       "      <td>food c...</td>\n",
       "      <td>activity</td>\n",
       "      <td>plenty</td>\n",
       "      <td>staff ...</td>\n",
       "      <td>tidy</td>\n",
       "      <td>team</td>\n",
       "      <td>good</td>\n",
       "      <td>resort</td>\n",
       "      <td>pay</td>\n",
       "      <td>entert...</td>\n",
       "      <td>caravan</td>\n",
       "      <td>menu</td>\n",
       "      <td>range</td>\n",
       "      <td>tidy</td>\n",
       "      <td>food site</td>\n",
       "    </tr>\n",
       "  </tbody>\n",
       "</table>\n",
       "</div>"
      ],
      "text/plain": [
       "          T1         T2         T3         T4         T5         T6  \\\n",
       "0       room      staff      hotel       food       pool     family   \n",
       "1  hotel ...     member  hotel ...       good     splash  family...   \n",
       "2  family...    helpful  hotel ...    quality  splash...        fun   \n",
       "3      floor  staff ...  room h...  food good      water     friend   \n",
       "4  room room  member...  hotel ...  food r...       wave  family...   \n",
       "5  room h...  reception  hotel ...     choice  wave pool  family...   \n",
       "6  room s...  recept...  staff ...  food s...      slide  visit ...   \n",
       "7       view  hotel ...  food h...  qualit...        fun  family...   \n",
       "8     shower  staff ...  hotel ...      drink        spa  friend...   \n",
       "9   bathroom  staff ...  visit ...  food c...   activity     plenty   \n",
       "\n",
       "          T7         T8         T9        T10        T11        T12  \\\n",
       "0    service        bed  restau...   location      visit      value   \n",
       "1   customer      comfy  food r...       town  family...      money   \n",
       "2  custom...  comfy bed  hotel ...  hotel ...     return  value ...   \n",
       "3  food s...  bed comfy  deck r...  locati...  visit ...  waste ...   \n",
       "4  room s...   bunk bed       deck  locati...     friend      waste   \n",
       "5      guest       bunk     choice      thing  visit ...  accomm...   \n",
       "6  guest ...       size        ate     centre       year   activity   \n",
       "7  servic...      sleep  staff ...      beach  apartment    quality   \n",
       "8  servic...   size bed      diner  room l...        tot  food v...   \n",
       "9  staff ...       tidy       team       good     resort        pay   \n",
       "\n",
       "         T13        T14        T15        T16        T17        T18  \n",
       "0  entert...       park       meal      price  experi...       site  \n",
       "1       show        car     choice    quality       year   facility  \n",
       "2        fun   car park     course      drink  reception       shop  \n",
       "3   activity      water       time     choice       need    caravan  \n",
       "4   facility       road   birthday       good  accomm...       tidy  \n",
       "5       team       walk  course...      point   daughter       walk  \n",
       "6      stage   facility  family...  apartment        spa       time  \n",
       "7         ok      space    morning        fun       rest  shop site  \n",
       "8     plenty  water ...       door  price ...      floor  restau...  \n",
       "9  entert...    caravan       menu      range       tidy  food site  "
      ]
     },
     "execution_count": 311,
     "metadata": {},
     "output_type": "execute_result"
    }
   ],
   "source": [
    "pd.set_option('display.max_colwidth', 10)\n",
    "accom_tfidf_topics.head(10)"
   ]
  },
  {
   "cell_type": "code",
   "execution_count": 313,
   "metadata": {
    "scrolled": true
   },
   "outputs": [],
   "source": [
    "# Apply inferred topics to documents with the associated weights\n",
    "pd.options.display.float_format = '{:,.3f}'.format\n",
    "accom_tfidf_df = pd.DataFrame(W_accom_tfidf)\n",
    "accom_tfidf_df.columns = [\"RoomGen\",\"Staff\",\"HotelGen\",\"Food\",\"Leisure&Fac\",\"FamilyFac\",\"CustomerServ\",\"RoomComf\",\"EatingFac\",\"HotelLoc\",\"Visit Exp\",\"VFM\",\n",
    "                          \"Entertainment\",\"Parking&Other\", \"MealChoice\",\"PriceQual\",\"GenExp\",\"SiteGen\"\n",
    "                          ]\n",
    "                                                                          \n",
    "accom_tfidf_df[\"Top\"] = accom_tfidf_df.idxmax(axis=\"columns\")\n",
    "#topics_per_doc_accom_count.head()"
   ]
  },
  {
   "cell_type": "code",
   "execution_count": 314,
   "metadata": {
    "scrolled": true
   },
   "outputs": [],
   "source": [
    "# Add the most likely tfidf topic to the review and conat the two top topics to the original dataframe\n",
    "predict_tfidf_accom = pd.DataFrame(df_accom[[\"OrigInd\",\"Town\",\"Rating\",\"all_text\",\"cleaned_sentences\",\"noun_phrases\",\"nouns\"]]).reset_index(drop = True)\n",
    "accom_predict_final = pd.concat([accom_predict_count,accom_tfidf_df[\"Top\"]],axis = 1,ignore_index = True)\n",
    "accom_predict_final.columns = [\"OrigInd\",\"Category\",\"Town\",\"Rating\",\"all_text\",\"cleaned\",\"noun_phrases\",\"nouns\",\"Topic Count\",\"Topic TFIDF\"]"
   ]
  },
  {
   "cell_type": "code",
   "execution_count": 317,
   "metadata": {
    "scrolled": true
   },
   "outputs": [
    {
     "data": {
      "text/html": [
       "<div>\n",
       "<style scoped>\n",
       "    .dataframe tbody tr th:only-of-type {\n",
       "        vertical-align: middle;\n",
       "    }\n",
       "\n",
       "    .dataframe tbody tr th {\n",
       "        vertical-align: top;\n",
       "    }\n",
       "\n",
       "    .dataframe thead th {\n",
       "        text-align: right;\n",
       "    }\n",
       "</style>\n",
       "<table border=\"1\" class=\"dataframe\">\n",
       "  <thead>\n",
       "    <tr style=\"text-align: right;\">\n",
       "      <th></th>\n",
       "      <th>noun_phrases</th>\n",
       "      <th>nouns</th>\n",
       "      <th>Topic Count</th>\n",
       "      <th>Topic TFIDF</th>\n",
       "    </tr>\n",
       "  </thead>\n",
       "  <tbody>\n",
       "    <tr>\n",
       "      <th>3865</th>\n",
       "      <td>old chair table</td>\n",
       "      <td>[chair, table]</td>\n",
       "      <td>RoomFac</td>\n",
       "      <td>EatingFac</td>\n",
       "    </tr>\n",
       "    <tr>\n",
       "      <th>23561</th>\n",
       "      <td>tea coffee facility</td>\n",
       "      <td>[tea, coffee, facility]</td>\n",
       "      <td>RoomFac</td>\n",
       "      <td>SiteGen</td>\n",
       "    </tr>\n",
       "    <tr>\n",
       "      <th>18160</th>\n",
       "      <td>pate pie terrine ham seafood</td>\n",
       "      <td>[pate, pie, terrine, ham, ...</td>\n",
       "      <td>MealChoice</td>\n",
       "      <td>MealChoice</td>\n",
       "    </tr>\n",
       "    <tr>\n",
       "      <th>21447</th>\n",
       "      <td>unforgivable pub</td>\n",
       "      <td>[pub]</td>\n",
       "      <td>RoomGen</td>\n",
       "      <td>RoomGen</td>\n",
       "    </tr>\n",
       "    <tr>\n",
       "      <th>21105</th>\n",
       "      <td>great inexpensive bolt hole</td>\n",
       "      <td>[bolt, hole]</td>\n",
       "      <td>Parking&amp;Other</td>\n",
       "      <td>Parking&amp;Other</td>\n",
       "    </tr>\n",
       "    <tr>\n",
       "      <th>19051</th>\n",
       "      <td>hotel oh</td>\n",
       "      <td>[hotel, oh]</td>\n",
       "      <td>HotelGen</td>\n",
       "      <td>HotelGen</td>\n",
       "    </tr>\n",
       "    <tr>\n",
       "      <th>12569</th>\n",
       "      <td>temple spa product</td>\n",
       "      <td>[product]</td>\n",
       "      <td>MealChoice</td>\n",
       "      <td>Staff</td>\n",
       "    </tr>\n",
       "    <tr>\n",
       "      <th>11857</th>\n",
       "      <td>good the-facilities</td>\n",
       "      <td>[the-facilities]</td>\n",
       "      <td>RoomComf</td>\n",
       "      <td>EatingFac</td>\n",
       "    </tr>\n",
       "    <tr>\n",
       "      <th>13479</th>\n",
       "      <td>comfortable chair table te...</td>\n",
       "      <td>[chair, terrace]</td>\n",
       "      <td>RoomFac</td>\n",
       "      <td>Leisure&amp;Fac</td>\n",
       "    </tr>\n",
       "    <tr>\n",
       "      <th>17379</th>\n",
       "      <td>need word methinks</td>\n",
       "      <td>[need, word, methinks]</td>\n",
       "      <td>Entertainment</td>\n",
       "      <td>GenExp</td>\n",
       "    </tr>\n",
       "  </tbody>\n",
       "</table>\n",
       "</div>"
      ],
      "text/plain": [
       "                        noun_phrases                          nouns  \\\n",
       "3865                 old chair table                 [chair, table]   \n",
       "23561            tea coffee facility        [tea, coffee, facility]   \n",
       "18160   pate pie terrine ham seafood  [pate, pie, terrine, ham, ...   \n",
       "21447               unforgivable pub                          [pub]   \n",
       "21105    great inexpensive bolt hole                   [bolt, hole]   \n",
       "19051                       hotel oh                    [hotel, oh]   \n",
       "12569             temple spa product                      [product]   \n",
       "11857            good the-facilities               [the-facilities]   \n",
       "13479  comfortable chair table te...               [chair, terrace]   \n",
       "17379             need word methinks         [need, word, methinks]   \n",
       "\n",
       "         Topic Count    Topic TFIDF  \n",
       "3865         RoomFac      EatingFac  \n",
       "23561        RoomFac        SiteGen  \n",
       "18160     MealChoice     MealChoice  \n",
       "21447        RoomGen        RoomGen  \n",
       "21105  Parking&Other  Parking&Other  \n",
       "19051       HotelGen       HotelGen  \n",
       "12569     MealChoice          Staff  \n",
       "11857       RoomComf      EatingFac  \n",
       "13479        RoomFac    Leisure&Fac  \n",
       "17379  Entertainment         GenExp  "
      ]
     },
     "execution_count": 317,
     "metadata": {},
     "output_type": "execute_result"
    }
   ],
   "source": [
    "pd.set_option('max_colwidth', 30)\n",
    "accom_predict_final[[\"noun_phrases\",\"nouns\",\"Topic Count\",\"Topic TFIDF\"]].sample(10)"
   ]
  },
  {
   "cell_type": "markdown",
   "metadata": {},
   "source": [
    "* The countvectorizer model seems to be performing slightly better than the nmf model\n",
    "* There seem to be some problems with the rows with just one noun which is understandable\n",
    "* These lines could be dropped from the analysis"
   ]
  },
  {
   "cell_type": "code",
   "execution_count": 318,
   "metadata": {},
   "outputs": [
    {
     "data": {
      "text/html": [
       "<div>\n",
       "<style scoped>\n",
       "    .dataframe tbody tr th:only-of-type {\n",
       "        vertical-align: middle;\n",
       "    }\n",
       "\n",
       "    .dataframe tbody tr th {\n",
       "        vertical-align: top;\n",
       "    }\n",
       "\n",
       "    .dataframe thead th {\n",
       "        text-align: right;\n",
       "    }\n",
       "</style>\n",
       "<table border=\"1\" class=\"dataframe\">\n",
       "  <thead>\n",
       "    <tr style=\"text-align: right;\">\n",
       "      <th></th>\n",
       "      <th>noun_phrases</th>\n",
       "      <th>nouns</th>\n",
       "      <th>Topic Count</th>\n",
       "      <th>Topic TFIDF</th>\n",
       "    </tr>\n",
       "  </thead>\n",
       "  <tbody>\n",
       "    <tr>\n",
       "      <th>21187</th>\n",
       "      <td>problem walk gale</td>\n",
       "      <td>[problem, walk, gale]</td>\n",
       "      <td>HotelLoc</td>\n",
       "      <td>SiteGen</td>\n",
       "    </tr>\n",
       "    <tr>\n",
       "      <th>6691</th>\n",
       "      <td>massive choice omelette st...</td>\n",
       "      <td>[choice, omelette, station...</td>\n",
       "      <td>MealChoice</td>\n",
       "      <td>MealChoice</td>\n",
       "    </tr>\n",
       "    <tr>\n",
       "      <th>19997</th>\n",
       "      <td>pool lil bit breakfast</td>\n",
       "      <td>[pool, lil, bit, breakfast]</td>\n",
       "      <td>Leisure&amp;Fac</td>\n",
       "      <td>Leisure&amp;Fac</td>\n",
       "    </tr>\n",
       "    <tr>\n",
       "      <th>15727</th>\n",
       "      <td>whilst business area</td>\n",
       "      <td>[whilst, business, area]</td>\n",
       "      <td>HotelLoc</td>\n",
       "      <td>SiteGen</td>\n",
       "    </tr>\n",
       "    <tr>\n",
       "      <th>823</th>\n",
       "      <td>new pool good splash pool kid</td>\n",
       "      <td>[pool, splash, pool, kid]</td>\n",
       "      <td>Leisure&amp;Fac</td>\n",
       "      <td>Leisure&amp;Fac</td>\n",
       "    </tr>\n",
       "    <tr>\n",
       "      <th>17736</th>\n",
       "      <td>morning elephant room</td>\n",
       "      <td>[morning, elephant, room]</td>\n",
       "      <td>RoomGen</td>\n",
       "      <td>RoomGen</td>\n",
       "    </tr>\n",
       "    <tr>\n",
       "      <th>979</th>\n",
       "      <td>lovely plenty lot team member</td>\n",
       "      <td>[plenty, lot, team, member]</td>\n",
       "      <td>MealChoice</td>\n",
       "      <td>Entertainment</td>\n",
       "    </tr>\n",
       "    <tr>\n",
       "      <th>15721</th>\n",
       "      <td>good value place stay group u</td>\n",
       "      <td>[value, place, group, u]</td>\n",
       "      <td>VFM</td>\n",
       "      <td>VFM</td>\n",
       "    </tr>\n",
       "    <tr>\n",
       "      <th>12650</th>\n",
       "      <td>experience top mark team</td>\n",
       "      <td>[experience, mark, team]</td>\n",
       "      <td>Entertainment</td>\n",
       "      <td>GenExp</td>\n",
       "    </tr>\n",
       "    <tr>\n",
       "      <th>19578</th>\n",
       "      <td>fan kettle stuff</td>\n",
       "      <td>[fan, kettle, stuff]</td>\n",
       "      <td>RoomFac</td>\n",
       "      <td>RoomGen</td>\n",
       "    </tr>\n",
       "  </tbody>\n",
       "</table>\n",
       "</div>"
      ],
      "text/plain": [
       "                        noun_phrases                          nouns  \\\n",
       "21187              problem walk gale          [problem, walk, gale]   \n",
       "6691   massive choice omelette st...  [choice, omelette, station...   \n",
       "19997         pool lil bit breakfast    [pool, lil, bit, breakfast]   \n",
       "15727           whilst business area       [whilst, business, area]   \n",
       "823    new pool good splash pool kid      [pool, splash, pool, kid]   \n",
       "17736          morning elephant room      [morning, elephant, room]   \n",
       "979    lovely plenty lot team member    [plenty, lot, team, member]   \n",
       "15721  good value place stay group u       [value, place, group, u]   \n",
       "12650       experience top mark team       [experience, mark, team]   \n",
       "19578               fan kettle stuff           [fan, kettle, stuff]   \n",
       "\n",
       "         Topic Count    Topic TFIDF  \n",
       "21187       HotelLoc        SiteGen  \n",
       "6691      MealChoice     MealChoice  \n",
       "19997    Leisure&Fac    Leisure&Fac  \n",
       "15727       HotelLoc        SiteGen  \n",
       "823      Leisure&Fac    Leisure&Fac  \n",
       "17736        RoomGen        RoomGen  \n",
       "979       MealChoice  Entertainment  \n",
       "15721            VFM            VFM  \n",
       "12650  Entertainment         GenExp  \n",
       "19578        RoomFac        RoomGen  "
      ]
     },
     "execution_count": 318,
     "metadata": {},
     "output_type": "execute_result"
    }
   ],
   "source": [
    "# drop rows where there is only one noun\n",
    "accom_predict_final[\"len\"] = accom_predict_final[\"nouns\"].apply(lambda x: len(x))\n",
    "greater_one = accom_predict_final[accom_predict_final[\"len\"]>2]\n",
    "greater_one[[\"noun_phrases\",\"nouns\",\"Topic Count\",\"Topic TFIDF\"]].sample(10)"
   ]
  },
  {
   "cell_type": "markdown",
   "metadata": {},
   "source": [
    "* The topics seem a little better"
   ]
  },
  {
   "cell_type": "code",
   "execution_count": 319,
   "metadata": {},
   "outputs": [
    {
     "data": {
      "text/plain": [
       "(5657, 11)"
      ]
     },
     "execution_count": 319,
     "metadata": {},
     "output_type": "execute_result"
    }
   ],
   "source": [
    "greater_one.shape"
   ]
  },
  {
   "cell_type": "code",
   "execution_count": 347,
   "metadata": {},
   "outputs": [
    {
     "data": {
      "text/plain": [
       "Entertainment    684\n",
       "RoomLoc          600\n",
       "MealChoice       597\n",
       "RoomGen          464\n",
       "EatingFac        317\n",
       "RoomFac          312\n",
       "Visit Exp        305\n",
       "FamilyFac        287\n",
       "Staff            267\n",
       "HotelLoc         256\n",
       "Food             253\n",
       "HotelGen         252\n",
       "Parking&Other    228\n",
       "CustomerServ     206\n",
       "Leisure&Fac      187\n",
       "RoomComf         183\n",
       "Views            171\n",
       "VFM               88\n",
       "Name: Topic Count, dtype: int64"
      ]
     },
     "execution_count": 347,
     "metadata": {},
     "output_type": "execute_result"
    }
   ],
   "source": [
    "# Topic distribution in the test set\n",
    "greater_one[\"Topic Count\"].value_counts()"
   ]
  },
  {
   "cell_type": "markdown",
   "metadata": {},
   "source": [
    "Analysis:\n",
    "\n",
    "* the countvectorizer model seems to give more coherent topics than the tfidf model, which is interesting as NMF usually is expected to work better with the weighted tfidf vectorizer. \n",
    "* However, when applying the topics to the dataset above, both seem to get some things right and others wrong and both clearly seem to struggle when there is only one word to go on in the nouns data set, suggesting that when there is just one noun that the model may get it right if the word is something obvious like 'food' or 'staff' but has problems with unusual words like 'rhubarb'. \n",
    "* Dropping rows with single nouns seems to improve results"
   ]
  },
  {
   "cell_type": "markdown",
   "metadata": {},
   "source": [
    "## Predict against new documents - accommodation"
   ]
  },
  {
   "cell_type": "code",
   "execution_count": 320,
   "metadata": {
    "scrolled": true
   },
   "outputs": [],
   "source": [
    "# Predict on test set - transform the joined nouns to a vector using the fitted vectorizer and then transform the vector using the fitted nmf weights\n",
    "vec_test = cv_accom.transform(accom_nouns_joined_test)\n",
    "predicted_test = pd.DataFrame(count_mod.transform(vec_test))\n",
    "predicted_test.columns = [\"RoomGen\",\"Staff\",\"HotelGen\",\"Food\",\"Leisure&Fac\",\"CustomerServ\",\"EatingFac\",\"FamilyFac\",\"VFM\",\"Parking&Other\",\"RoomComf\",\n",
    "                         \"RoomFac\",\"HotelLoc\",\"RoomLoc\",\"Visit Exp\",\"Entertainment\",\"Views\",\"MealChoice\"]\n",
    "predicted_test[\"TOP\"] = predicted_test.idxmax(axis=\"columns\")"
   ]
  },
  {
   "cell_type": "code",
   "execution_count": 322,
   "metadata": {
    "scrolled": true
   },
   "outputs": [
    {
     "data": {
      "text/html": [
       "<div>\n",
       "<style scoped>\n",
       "    .dataframe tbody tr th:only-of-type {\n",
       "        vertical-align: middle;\n",
       "    }\n",
       "\n",
       "    .dataframe tbody tr th {\n",
       "        vertical-align: top;\n",
       "    }\n",
       "\n",
       "    .dataframe thead th {\n",
       "        text-align: right;\n",
       "    }\n",
       "</style>\n",
       "<table border=\"1\" class=\"dataframe\">\n",
       "  <thead>\n",
       "    <tr style=\"text-align: right;\">\n",
       "      <th></th>\n",
       "      <th>OrigInd</th>\n",
       "      <th>Town</th>\n",
       "      <th>Rating</th>\n",
       "      <th>Sentence</th>\n",
       "      <th>cleaned</th>\n",
       "      <th>noun_phrases</th>\n",
       "      <th>nouns</th>\n",
       "      <th>Topic</th>\n",
       "    </tr>\n",
       "  </thead>\n",
       "  <tbody>\n",
       "    <tr>\n",
       "      <th>1210</th>\n",
       "      <td>787</td>\n",
       "      <td>Arundel</td>\n",
       "      <td>2</td>\n",
       "      <td>Overpriced We stayed on th...</td>\n",
       "      <td>overpriced stayed june ass...</td>\n",
       "      <td>annexe car park hotel</td>\n",
       "      <td>[annexe, car, park, hotel]</td>\n",
       "      <td>Parking&amp;Other</td>\n",
       "    </tr>\n",
       "    <tr>\n",
       "      <th>1250</th>\n",
       "      <td>826</td>\n",
       "      <td>Arundel</td>\n",
       "      <td>3</td>\n",
       "      <td>A Curate’s egg... The Norf...</td>\n",
       "      <td>however approaching car pa...</td>\n",
       "      <td>car park side</td>\n",
       "      <td>[car, park, side]</td>\n",
       "      <td>Parking&amp;Other</td>\n",
       "    </tr>\n",
       "    <tr>\n",
       "      <th>718</th>\n",
       "      <td>385</td>\n",
       "      <td>Bognor</td>\n",
       "      <td>5</td>\n",
       "      <td>Enjoyable holiday with lot...</td>\n",
       "      <td>photo booth arcade ticket ...</td>\n",
       "      <td>photo character ticket</td>\n",
       "      <td>[photo, character, ticket]</td>\n",
       "      <td>Entertainment</td>\n",
       "    </tr>\n",
       "    <tr>\n",
       "      <th>1982</th>\n",
       "      <td>1680</td>\n",
       "      <td>Littlehampton</td>\n",
       "      <td>4</td>\n",
       "      <td>Lovely stay overall As we ...</td>\n",
       "      <td>lovely stay overall drove ...</td>\n",
       "      <td>breakfast continental choi...</td>\n",
       "      <td>[breakfast, choice, bit]</td>\n",
       "      <td>MealChoice</td>\n",
       "    </tr>\n",
       "    <tr>\n",
       "      <th>898</th>\n",
       "      <td>504</td>\n",
       "      <td>Bognor</td>\n",
       "      <td>1</td>\n",
       "      <td>Watch your kids My 2 16yr ...</td>\n",
       "      <td>watch kid mix talk not eve...</td>\n",
       "      <td>kid mix talk</td>\n",
       "      <td>[kid, mix, talk]</td>\n",
       "      <td>Entertainment</td>\n",
       "    </tr>\n",
       "  </tbody>\n",
       "</table>\n",
       "</div>"
      ],
      "text/plain": [
       "      OrigInd           Town  Rating                       Sentence  \\\n",
       "1210      787        Arundel       2  Overpriced We stayed on th...   \n",
       "1250      826        Arundel       3  A Curate’s egg... The Norf...   \n",
       "718       385         Bognor       5  Enjoyable holiday with lot...   \n",
       "1982     1680  Littlehampton       4  Lovely stay overall As we ...   \n",
       "898       504         Bognor       1  Watch your kids My 2 16yr ...   \n",
       "\n",
       "                            cleaned                   noun_phrases  \\\n",
       "1210  overpriced stayed june ass...          annexe car park hotel   \n",
       "1250  however approaching car pa...                  car park side   \n",
       "718   photo booth arcade ticket ...         photo character ticket   \n",
       "1982  lovely stay overall drove ...  breakfast continental choi...   \n",
       "898   watch kid mix talk not eve...                   kid mix talk   \n",
       "\n",
       "                           nouns          Topic  \n",
       "1210  [annexe, car, park, hotel]  Parking&Other  \n",
       "1250           [car, park, side]  Parking&Other  \n",
       "718   [photo, character, ticket]  Entertainment  \n",
       "1982    [breakfast, choice, bit]     MealChoice  \n",
       "898             [kid, mix, talk]  Entertainment  "
      ]
     },
     "execution_count": 322,
     "metadata": {},
     "output_type": "execute_result"
    }
   ],
   "source": [
    "# Add predictions to the original test dataframe and drop those where there is just one noun\n",
    "predict_test_df = pd.DataFrame(df_accom_test[[\"OrigInd\",\"Town\",\"Rating\",\"all_text\",\"cleaned_sentences\",\"noun_phrases\",\"nouns\"]]).reset_index(drop = True)\n",
    "predictions_accom = pd.concat([predict_test_df,predicted_test[\"TOP\"]],axis = 1,ignore_index = True)\n",
    "predictions_accom.columns = [\"OrigInd\",\"Town\",\"Rating\",\"Sentence\",\"cleaned\",\"noun_phrases\",\"nouns\",\"Topic\"]\n",
    "predictions_accom[\"len\"] = predictions_accom[\"nouns\"].apply(lambda x: len(x))\n",
    "predictions_accom = predictions_accom[predictions_accom[\"len\"]>2]\n",
    "predictions_accom.drop(columns = [\"len\"],axis = 1,inplace = True)\n",
    "predictions_accom.sample(5,random_state = 1)"
   ]
  },
  {
   "cell_type": "markdown",
   "metadata": {},
   "source": [
    "## Run models for Food"
   ]
  },
  {
   "cell_type": "code",
   "execution_count": 323,
   "metadata": {
    "scrolled": true
   },
   "outputs": [],
   "source": [
    "# Reset model with different parameters - the solver 'mu' and beta_loss 'kullback-leibler' removes some crossover fuzziness with the term 'food service'\n",
    "# appearing in different topics\n",
    "\n",
    "def nmf(vectorizer,vector,num_topics):\n",
    "    nmf_model = NMF(n_components = num_topics, \n",
    "                    solver=\"mu\",\n",
    "                    init = 'nndsvd',\n",
    "                    alpha = 1.0,\n",
    "                    beta_loss= 'kullback-leibler',\n",
    "                    max_iter = 10000,\n",
    "                    )\n",
    "    \n",
    "    W = nmf_model.fit_transform(vector) # each column represents the weight of each word in a doc (w)\n",
    "    H = nmf_model.components_  # each row represents a word embedding (h) and is a weighting\n",
    "    \n",
    "    # Extract topics,features and weights\n",
    "    feature_names = np.array(vectorizer.get_feature_names())\n",
    "    feature_idxs = np.argsort(-H)\n",
    "    topics = [feature_names[idx] for idx in feature_idxs]\n",
    "    topics = pd.DataFrame(topics).T\n",
    "    topics.columns = [\"T\" + str(i) for i in range(1,num_topics+1)]\n",
    "    \n",
    "           \n",
    "    return topics,H,W,nmf_model"
   ]
  },
  {
   "cell_type": "markdown",
   "metadata": {},
   "source": [
    "### Countvectorizer NMF - Food"
   ]
  },
  {
   "cell_type": "code",
   "execution_count": 340,
   "metadata": {
    "scrolled": true
   },
   "outputs": [],
   "source": [
    "# Get countvectorizer nmf and tfidf nmf output - doc topics, H,W,and nmf fitted model (note num topics from LDA model of 18 too large, various topic numbers\n",
    "# were tried and manually assessed\n",
    "food_count_topics,H_food,W_food,count_mod2 = nmf(cv_food,vec1_food,12)\n",
    "food_tfidf_topics,H_food_tfidf,W_food_tfidf,tfidf_mod2 = nmf(tfidf_food,vec2_food,12)"
   ]
  },
  {
   "cell_type": "code",
   "execution_count": 341,
   "metadata": {
    "scrolled": true
   },
   "outputs": [
    {
     "data": {
      "text/html": [
       "<div>\n",
       "<style scoped>\n",
       "    .dataframe tbody tr th:only-of-type {\n",
       "        vertical-align: middle;\n",
       "    }\n",
       "\n",
       "    .dataframe tbody tr th {\n",
       "        vertical-align: top;\n",
       "    }\n",
       "\n",
       "    .dataframe thead th {\n",
       "        text-align: right;\n",
       "    }\n",
       "</style>\n",
       "<table border=\"1\" class=\"dataframe\">\n",
       "  <thead>\n",
       "    <tr style=\"text-align: right;\">\n",
       "      <th></th>\n",
       "      <th>T1</th>\n",
       "      <th>T2</th>\n",
       "      <th>T3</th>\n",
       "      <th>T4</th>\n",
       "      <th>T5</th>\n",
       "      <th>T6</th>\n",
       "      <th>T7</th>\n",
       "      <th>T8</th>\n",
       "      <th>T9</th>\n",
       "      <th>T10</th>\n",
       "      <th>T11</th>\n",
       "      <th>T12</th>\n",
       "    </tr>\n",
       "  </thead>\n",
       "  <tbody>\n",
       "    <tr>\n",
       "      <th>0</th>\n",
       "      <td>food</td>\n",
       "      <td>service</td>\n",
       "      <td>staff</td>\n",
       "      <td>meal</td>\n",
       "      <td>menu</td>\n",
       "      <td>value</td>\n",
       "      <td>visit</td>\n",
       "      <td>quality</td>\n",
       "      <td>drink</td>\n",
       "      <td>table</td>\n",
       "      <td>choice</td>\n",
       "      <td>portion</td>\n",
       "    </tr>\n",
       "    <tr>\n",
       "      <th>1</th>\n",
       "      <td>good</td>\n",
       "      <td>food service</td>\n",
       "      <td>owner</td>\n",
       "      <td>christmas</td>\n",
       "      <td>course</td>\n",
       "      <td>money</td>\n",
       "      <td>area</td>\n",
       "      <td>price</td>\n",
       "      <td>order</td>\n",
       "      <td>people</td>\n",
       "      <td>burger</td>\n",
       "      <td>chicken</td>\n",
       "    </tr>\n",
       "    <tr>\n",
       "      <th>2</th>\n",
       "      <td>superb</td>\n",
       "      <td>customer</td>\n",
       "      <td>chef</td>\n",
       "      <td>party</td>\n",
       "      <td>dish</td>\n",
       "      <td>value money</td>\n",
       "      <td>cafe</td>\n",
       "      <td>experience</td>\n",
       "      <td>coffee</td>\n",
       "      <td>atmosphere</td>\n",
       "      <td>steak</td>\n",
       "      <td>wife</td>\n",
       "    </tr>\n",
       "    <tr>\n",
       "      <th>3</th>\n",
       "      <td>ok</td>\n",
       "      <td>service food</td>\n",
       "      <td>member</td>\n",
       "      <td>work</td>\n",
       "      <td>option</td>\n",
       "      <td>tasty</td>\n",
       "      <td>way</td>\n",
       "      <td>tea</td>\n",
       "      <td>starter</td>\n",
       "      <td>plate</td>\n",
       "      <td>beer</td>\n",
       "      <td>cream</td>\n",
       "    </tr>\n",
       "    <tr>\n",
       "      <th>4</th>\n",
       "      <td>occasion</td>\n",
       "      <td>customer service</td>\n",
       "      <td>attentive</td>\n",
       "      <td>end</td>\n",
       "      <td>dessert</td>\n",
       "      <td>location</td>\n",
       "      <td>year</td>\n",
       "      <td>fish</td>\n",
       "      <td>bit</td>\n",
       "      <td>saturday</td>\n",
       "      <td>pie</td>\n",
       "      <td>lamb</td>\n",
       "    </tr>\n",
       "    <tr>\n",
       "      <th>5</th>\n",
       "      <td>food good</td>\n",
       "      <td>waiter</td>\n",
       "      <td>helpful</td>\n",
       "      <td>son</td>\n",
       "      <td>child</td>\n",
       "      <td>decor</td>\n",
       "      <td>return</td>\n",
       "      <td>quality food</td>\n",
       "      <td>wine</td>\n",
       "      <td>view</td>\n",
       "      <td>beef</td>\n",
       "      <td>size</td>\n",
       "    </tr>\n",
       "    <tr>\n",
       "      <th>6</th>\n",
       "      <td>shame</td>\n",
       "      <td>star</td>\n",
       "      <td>house</td>\n",
       "      <td>celebration</td>\n",
       "      <td>kid</td>\n",
       "      <td>venue</td>\n",
       "      <td>lady</td>\n",
       "      <td>afternoon</td>\n",
       "      <td>selection</td>\n",
       "      <td>room</td>\n",
       "      <td>potato</td>\n",
       "      <td>prawn</td>\n",
       "    </tr>\n",
       "    <tr>\n",
       "      <th>7</th>\n",
       "      <td>ambience</td>\n",
       "      <td>guy</td>\n",
       "      <td>dog</td>\n",
       "      <td>morning</td>\n",
       "      <td>look</td>\n",
       "      <td>gem</td>\n",
       "      <td>daughter</td>\n",
       "      <td>taste</td>\n",
       "      <td>waitress</td>\n",
       "      <td>need</td>\n",
       "      <td>sauce</td>\n",
       "      <td>ice</td>\n",
       "    </tr>\n",
       "    <tr>\n",
       "      <th>8</th>\n",
       "      <td>wait</td>\n",
       "      <td>class</td>\n",
       "      <td>manager</td>\n",
       "      <td>ate</td>\n",
       "      <td>board</td>\n",
       "      <td>toilet</td>\n",
       "      <td>weekend</td>\n",
       "      <td>team</td>\n",
       "      <td>side</td>\n",
       "      <td>garden</td>\n",
       "      <td>pizza</td>\n",
       "      <td>partner</td>\n",
       "    </tr>\n",
       "    <tr>\n",
       "      <th>9</th>\n",
       "      <td>fun</td>\n",
       "      <td>fault</td>\n",
       "      <td>hotel</td>\n",
       "      <td>point</td>\n",
       "      <td>variety</td>\n",
       "      <td>girl</td>\n",
       "      <td>walk</td>\n",
       "      <td>flavour</td>\n",
       "      <td>couple</td>\n",
       "      <td>river</td>\n",
       "      <td>bread</td>\n",
       "      <td>ice cream</td>\n",
       "    </tr>\n",
       "  </tbody>\n",
       "</table>\n",
       "</div>"
      ],
      "text/plain": [
       "          T1                T2         T3           T4       T5           T6  \\\n",
       "0       food           service      staff         meal     menu        value   \n",
       "1       good      food service      owner    christmas   course        money   \n",
       "2     superb          customer       chef        party     dish  value money   \n",
       "3         ok      service food     member         work   option        tasty   \n",
       "4   occasion  customer service  attentive          end  dessert     location   \n",
       "5  food good            waiter    helpful          son    child        decor   \n",
       "6      shame              star      house  celebration      kid        venue   \n",
       "7   ambience               guy        dog      morning     look          gem   \n",
       "8       wait             class    manager          ate    board       toilet   \n",
       "9        fun             fault      hotel        point  variety         girl   \n",
       "\n",
       "         T7            T8         T9         T10     T11        T12  \n",
       "0     visit       quality      drink       table  choice    portion  \n",
       "1      area         price      order      people  burger    chicken  \n",
       "2      cafe    experience     coffee  atmosphere   steak       wife  \n",
       "3       way           tea    starter       plate    beer      cream  \n",
       "4      year          fish        bit    saturday     pie       lamb  \n",
       "5    return  quality food       wine        view    beef       size  \n",
       "6      lady     afternoon  selection        room  potato      prawn  \n",
       "7  daughter         taste   waitress        need   sauce        ice  \n",
       "8   weekend          team       side      garden   pizza    partner  \n",
       "9      walk       flavour     couple       river   bread  ice cream  "
      ]
     },
     "execution_count": 341,
     "metadata": {},
     "output_type": "execute_result"
    }
   ],
   "source": [
    "pd.set_option('max_colwidth',20)\n",
    "food_count_topics.head(10)"
   ]
  },
  {
   "cell_type": "code",
   "execution_count": 343,
   "metadata": {
    "scrolled": true
   },
   "outputs": [],
   "source": [
    "# Apply inferred topics to documents with the associated weights\n",
    "pd.options.display.float_format = '{:,.3f}'.format\n",
    "food_count_df = pd.DataFrame(W_food)\n",
    "food_count_df.columns = [\"Food\",\"Service\",\"StaffGen\",\"MealExp\",\"Menu\",\"VFM\",\"VisitExp\",\"Quality\",\"Drinks&Ordering\",\n",
    "                        \"Booking&Table\",\"FoodChoice\",\"FoodPort\"]\n",
    "food_count_df[\"Top\"] = food_count_df.idxmax(axis=\"columns\")\n",
    "#topics_per_doc_accom_count.head()"
   ]
  },
  {
   "cell_type": "code",
   "execution_count": 344,
   "metadata": {
    "scrolled": true
   },
   "outputs": [
    {
     "data": {
      "text/html": [
       "<div>\n",
       "<style scoped>\n",
       "    .dataframe tbody tr th:only-of-type {\n",
       "        vertical-align: middle;\n",
       "    }\n",
       "\n",
       "    .dataframe tbody tr th {\n",
       "        vertical-align: top;\n",
       "    }\n",
       "\n",
       "    .dataframe thead th {\n",
       "        text-align: right;\n",
       "    }\n",
       "</style>\n",
       "<table border=\"1\" class=\"dataframe\">\n",
       "  <thead>\n",
       "    <tr style=\"text-align: right;\">\n",
       "      <th></th>\n",
       "      <th>OrigInd</th>\n",
       "      <th>Category</th>\n",
       "      <th>Town</th>\n",
       "      <th>Rating</th>\n",
       "      <th>all_text</th>\n",
       "      <th>cleaned</th>\n",
       "      <th>noun_phrases</th>\n",
       "      <th>nouns</th>\n",
       "      <th>Topic Count</th>\n",
       "    </tr>\n",
       "  </thead>\n",
       "  <tbody>\n",
       "    <tr>\n",
       "      <th>37990</th>\n",
       "      <td>8824</td>\n",
       "      <td>Food</td>\n",
       "      <td>Littlehampton</td>\n",
       "      <td>5</td>\n",
       "      <td>Great good and service Stopped here ...</td>\n",
       "      <td>great good service stopped my lovely...</td>\n",
       "      <td>lovely brunch</td>\n",
       "      <td>[brunch]</td>\n",
       "      <td>VisitExp</td>\n",
       "    </tr>\n",
       "    <tr>\n",
       "      <th>21943</th>\n",
       "      <td>6052</td>\n",
       "      <td>Food</td>\n",
       "      <td>Bognor</td>\n",
       "      <td>5</td>\n",
       "      <td>Still tops We were the first paying ...</td>\n",
       "      <td>think last place might find top rest...</td>\n",
       "      <td>fine humble pie mustard</td>\n",
       "      <td>[pie, mustard]</td>\n",
       "      <td>VisitExp</td>\n",
       "    </tr>\n",
       "    <tr>\n",
       "      <th>16270</th>\n",
       "      <td>5082</td>\n",
       "      <td>Food</td>\n",
       "      <td>Bognor</td>\n",
       "      <td>1</td>\n",
       "      <td>Terrible Went there for xmas day lun...</td>\n",
       "      <td>veg swimming water sprout could used...</td>\n",
       "      <td>water sprout</td>\n",
       "      <td>[water, sprout]</td>\n",
       "      <td>Booking&amp;Table</td>\n",
       "    </tr>\n",
       "    <tr>\n",
       "      <th>5464</th>\n",
       "      <td>3326</td>\n",
       "      <td>Food</td>\n",
       "      <td>Arundel</td>\n",
       "      <td>5</td>\n",
       "      <td>Great service, good food We stayed a...</td>\n",
       "      <td>remembered order without double chec...</td>\n",
       "      <td>double check</td>\n",
       "      <td>[check]</td>\n",
       "      <td>MealExp</td>\n",
       "    </tr>\n",
       "    <tr>\n",
       "      <th>4368</th>\n",
       "      <td>3123</td>\n",
       "      <td>Food</td>\n",
       "      <td>Littlehampton</td>\n",
       "      <td>1</td>\n",
       "      <td>Long wait. Bad service Went with my ...</td>\n",
       "      <td>dirty table slow cleared</td>\n",
       "      <td>dirty table</td>\n",
       "      <td>[dirty, table]</td>\n",
       "      <td>Booking&amp;Table</td>\n",
       "    </tr>\n",
       "  </tbody>\n",
       "</table>\n",
       "</div>"
      ],
      "text/plain": [
       "       OrigInd Category           Town  Rating  \\\n",
       "37990     8824     Food  Littlehampton       5   \n",
       "21943     6052     Food         Bognor       5   \n",
       "16270     5082     Food         Bognor       1   \n",
       "5464      3326     Food        Arundel       5   \n",
       "4368      3123     Food  Littlehampton       1   \n",
       "\n",
       "                                      all_text  \\\n",
       "37990  Great good and service Stopped here ...   \n",
       "21943  Still tops We were the first paying ...   \n",
       "16270  Terrible Went there for xmas day lun...   \n",
       "5464   Great service, good food We stayed a...   \n",
       "4368   Long wait. Bad service Went with my ...   \n",
       "\n",
       "                                       cleaned             noun_phrases  \\\n",
       "37990  great good service stopped my lovely...            lovely brunch   \n",
       "21943  think last place might find top rest...  fine humble pie mustard   \n",
       "16270  veg swimming water sprout could used...             water sprout   \n",
       "5464   remembered order without double chec...             double check   \n",
       "4368                  dirty table slow cleared              dirty table   \n",
       "\n",
       "                 nouns    Topic Count  \n",
       "37990         [brunch]       VisitExp  \n",
       "21943   [pie, mustard]       VisitExp  \n",
       "16270  [water, sprout]  Booking&Table  \n",
       "5464           [check]        MealExp  \n",
       "4368    [dirty, table]  Booking&Table  "
      ]
     },
     "execution_count": 344,
     "metadata": {},
     "output_type": "execute_result"
    }
   ],
   "source": [
    "# Add the most likely countvectorizer topic to the review dataframe\n",
    "predict_count_food = pd.DataFrame(df_food[[\"OrigInd\",\"Category\",\"Town\",\"Rating\",\"all_text\",\"cleaned_sentences\",\"noun_phrases\",\"nouns\"]]).reset_index(drop = True)\n",
    "food_predict_count = pd.concat([predict_count_food,food_count_df[\"Top\"]],axis = 1,ignore_index = True)\n",
    "food_predict_count.columns = [\"OrigInd\",\"Category\",\"Town\",\"Rating\",\"all_text\",\"cleaned\",\"noun_phrases\",\"nouns\",\"Topic Count\"]\n",
    "pd.set_option('max_colwidth',40)\n",
    "food_predict_count.sample(5)"
   ]
  },
  {
   "cell_type": "markdown",
   "metadata": {},
   "source": [
    "### TFIDF NMF - Food"
   ]
  },
  {
   "cell_type": "code",
   "execution_count": 348,
   "metadata": {
    "scrolled": true
   },
   "outputs": [
    {
     "data": {
      "text/html": [
       "<div>\n",
       "<style scoped>\n",
       "    .dataframe tbody tr th:only-of-type {\n",
       "        vertical-align: middle;\n",
       "    }\n",
       "\n",
       "    .dataframe tbody tr th {\n",
       "        vertical-align: top;\n",
       "    }\n",
       "\n",
       "    .dataframe thead th {\n",
       "        text-align: right;\n",
       "    }\n",
       "</style>\n",
       "<table border=\"1\" class=\"dataframe\">\n",
       "  <thead>\n",
       "    <tr style=\"text-align: right;\">\n",
       "      <th></th>\n",
       "      <th>T1</th>\n",
       "      <th>T2</th>\n",
       "      <th>T3</th>\n",
       "      <th>T4</th>\n",
       "      <th>T5</th>\n",
       "      <th>T6</th>\n",
       "      <th>T7</th>\n",
       "      <th>T8</th>\n",
       "      <th>T9</th>\n",
       "      <th>T10</th>\n",
       "      <th>T11</th>\n",
       "      <th>T12</th>\n",
       "    </tr>\n",
       "  </thead>\n",
       "  <tbody>\n",
       "    <tr>\n",
       "      <th>0</th>\n",
       "      <td>food</td>\n",
       "      <td>service</td>\n",
       "      <td>staff</td>\n",
       "      <td>meal</td>\n",
       "      <td>menu</td>\n",
       "      <td>visit</td>\n",
       "      <td>value</td>\n",
       "      <td>price</td>\n",
       "      <td>table</td>\n",
       "      <td>experience</td>\n",
       "      <td>portion</td>\n",
       "      <td>drink</td>\n",
       "    </tr>\n",
       "    <tr>\n",
       "      <th>1</th>\n",
       "      <td>good</td>\n",
       "      <td>customer</td>\n",
       "      <td>attentive</td>\n",
       "      <td>steak</td>\n",
       "      <td>option</td>\n",
       "      <td>area</td>\n",
       "      <td>tasty</td>\n",
       "      <td>lady</td>\n",
       "      <td>plate</td>\n",
       "      <td>people</td>\n",
       "      <td>bit</td>\n",
       "      <td>choice</td>\n",
       "    </tr>\n",
       "    <tr>\n",
       "      <th>2</th>\n",
       "      <td>superb</td>\n",
       "      <td>food service</td>\n",
       "      <td>member</td>\n",
       "      <td>christmas</td>\n",
       "      <td>party</td>\n",
       "      <td>cafe</td>\n",
       "      <td>money</td>\n",
       "      <td>end</td>\n",
       "      <td>saturday</td>\n",
       "      <td>wife</td>\n",
       "      <td>waitress</td>\n",
       "      <td>order</td>\n",
       "    </tr>\n",
       "    <tr>\n",
       "      <th>3</th>\n",
       "      <td>quality</td>\n",
       "      <td>service food</td>\n",
       "      <td>helpful</td>\n",
       "      <td>partner</td>\n",
       "      <td>pie</td>\n",
       "      <td>way</td>\n",
       "      <td>value money</td>\n",
       "      <td>hotel</td>\n",
       "      <td>bread</td>\n",
       "      <td>location</td>\n",
       "      <td>atmosphere</td>\n",
       "      <td>course</td>\n",
       "    </tr>\n",
       "    <tr>\n",
       "      <th>4</th>\n",
       "      <td>quality food</td>\n",
       "      <td>customer service</td>\n",
       "      <td>house</td>\n",
       "      <td>son</td>\n",
       "      <td>child</td>\n",
       "      <td>year</td>\n",
       "      <td>curry</td>\n",
       "      <td>board</td>\n",
       "      <td>couple</td>\n",
       "      <td>owner</td>\n",
       "      <td>dish</td>\n",
       "      <td>coffee</td>\n",
       "    </tr>\n",
       "    <tr>\n",
       "      <th>5</th>\n",
       "      <td>ok</td>\n",
       "      <td>star</td>\n",
       "      <td>management</td>\n",
       "      <td>celebration</td>\n",
       "      <td>kid</td>\n",
       "      <td>return</td>\n",
       "      <td>carvery</td>\n",
       "      <td>fun</td>\n",
       "      <td>decor</td>\n",
       "      <td>chef</td>\n",
       "      <td>beef</td>\n",
       "      <td>quality</td>\n",
       "    </tr>\n",
       "    <tr>\n",
       "      <th>6</th>\n",
       "      <td>ambience</td>\n",
       "      <td>environment</td>\n",
       "      <td>kitchen</td>\n",
       "      <td>ate</td>\n",
       "      <td>taste</td>\n",
       "      <td>week</td>\n",
       "      <td>venue</td>\n",
       "      <td>egg</td>\n",
       "      <td>need</td>\n",
       "      <td>occasion</td>\n",
       "      <td>potato</td>\n",
       "      <td>burger</td>\n",
       "    </tr>\n",
       "    <tr>\n",
       "      <th>7</th>\n",
       "      <td>food good</td>\n",
       "      <td>smile</td>\n",
       "      <td>pleasant</td>\n",
       "      <td>friday</td>\n",
       "      <td>lot</td>\n",
       "      <td>weekend</td>\n",
       "      <td>manager</td>\n",
       "      <td>class</td>\n",
       "      <td>room</td>\n",
       "      <td>team</td>\n",
       "      <td>sauce</td>\n",
       "      <td>starter</td>\n",
       "    </tr>\n",
       "    <tr>\n",
       "      <th>8</th>\n",
       "      <td>standard</td>\n",
       "      <td>street</td>\n",
       "      <td>rude</td>\n",
       "      <td>part</td>\n",
       "      <td>look</td>\n",
       "      <td>daughter</td>\n",
       "      <td>gem</td>\n",
       "      <td>business</td>\n",
       "      <td>plenty</td>\n",
       "      <td>shame</td>\n",
       "      <td>lamb</td>\n",
       "      <td>selection</td>\n",
       "    </tr>\n",
       "    <tr>\n",
       "      <th>9</th>\n",
       "      <td>thai</td>\n",
       "      <td>charge</td>\n",
       "      <td>polite</td>\n",
       "      <td>age</td>\n",
       "      <td>sausage</td>\n",
       "      <td>walk</td>\n",
       "      <td>girl</td>\n",
       "      <td>point</td>\n",
       "      <td>garden</td>\n",
       "      <td>thanks</td>\n",
       "      <td>size</td>\n",
       "      <td>wine</td>\n",
       "    </tr>\n",
       "  </tbody>\n",
       "</table>\n",
       "</div>"
      ],
      "text/plain": [
       "             T1                T2          T3           T4       T5        T6  \\\n",
       "0          food           service       staff         meal     menu     visit   \n",
       "1          good          customer   attentive        steak   option      area   \n",
       "2        superb      food service      member    christmas    party      cafe   \n",
       "3       quality      service food     helpful      partner      pie       way   \n",
       "4  quality food  customer service       house          son    child      year   \n",
       "5            ok              star  management  celebration      kid    return   \n",
       "6      ambience       environment     kitchen          ate    taste      week   \n",
       "7     food good             smile    pleasant       friday      lot   weekend   \n",
       "8      standard            street        rude         part     look  daughter   \n",
       "9          thai            charge      polite          age  sausage      walk   \n",
       "\n",
       "            T7        T8        T9         T10         T11        T12  \n",
       "0        value     price     table  experience     portion      drink  \n",
       "1        tasty      lady     plate      people         bit     choice  \n",
       "2        money       end  saturday        wife    waitress      order  \n",
       "3  value money     hotel     bread    location  atmosphere     course  \n",
       "4        curry     board    couple       owner        dish     coffee  \n",
       "5      carvery       fun     decor        chef        beef    quality  \n",
       "6        venue       egg      need    occasion      potato     burger  \n",
       "7      manager     class      room        team       sauce    starter  \n",
       "8          gem  business    plenty       shame        lamb  selection  \n",
       "9         girl     point    garden      thanks        size       wine  "
      ]
     },
     "execution_count": 348,
     "metadata": {},
     "output_type": "execute_result"
    }
   ],
   "source": [
    "food_tfidf_topics.head(10)"
   ]
  },
  {
   "cell_type": "code",
   "execution_count": 351,
   "metadata": {
    "scrolled": true
   },
   "outputs": [],
   "source": [
    "# Apply inferred topics to documents with the associated weights\n",
    "pd.options.display.float_format = '{:,.3f}'.format\n",
    "food_tfidf_df = pd.DataFrame(W_food_tfidf)\n",
    "food_tfidf_df.columns = [\"Food\",\"Service\",\"StaffGen\",\"MealExp\",\"Menu&Choice\",\"VisitExp\",\"VFM\",\"FoodPrice\",\"Table&Ordering\",\"GenExp\",\"FoodPort\",\"FoodChoice\"]\n",
    "                          \n",
    "food_tfidf_df[\"Top\"] = food_tfidf_df.idxmax(axis=\"columns\")\n",
    "#topics_per_doc_accom_count.head()"
   ]
  },
  {
   "cell_type": "code",
   "execution_count": 352,
   "metadata": {
    "scrolled": true
   },
   "outputs": [],
   "source": [
    "# Add the most likely tfidf topic to the review and conat the two top topics to the original dataframe\n",
    "predict_tfidf_food = pd.DataFrame(df_food[[\"OrigInd\",\"Town\",\"Rating\",\"all_text\",\"cleaned_sentences\",\"noun_phrases\",\"nouns\"]]).reset_index(drop = True)\n",
    "food_predict_final = pd.concat([food_predict_count,food_tfidf_df[\"Top\"]],axis = 1,ignore_index = True)\n",
    "food_predict_final.columns = [\"OrigInd\",\"Category\",\"Town\",\"Rating\",\"all_text\",\"cleaned_sentences\",\"noun_phrases\",\"nouns\",\"Topic Count\",\"Topic TFIDF\"]"
   ]
  },
  {
   "cell_type": "code",
   "execution_count": 353,
   "metadata": {
    "scrolled": true
   },
   "outputs": [
    {
     "data": {
      "text/html": [
       "<div>\n",
       "<style scoped>\n",
       "    .dataframe tbody tr th:only-of-type {\n",
       "        vertical-align: middle;\n",
       "    }\n",
       "\n",
       "    .dataframe tbody tr th {\n",
       "        vertical-align: top;\n",
       "    }\n",
       "\n",
       "    .dataframe thead th {\n",
       "        text-align: right;\n",
       "    }\n",
       "</style>\n",
       "<table border=\"1\" class=\"dataframe\">\n",
       "  <thead>\n",
       "    <tr style=\"text-align: right;\">\n",
       "      <th></th>\n",
       "      <th>OrigInd</th>\n",
       "      <th>Category</th>\n",
       "      <th>Town</th>\n",
       "      <th>Rating</th>\n",
       "      <th>all_text</th>\n",
       "      <th>cleaned_sentences</th>\n",
       "      <th>noun_phrases</th>\n",
       "      <th>nouns</th>\n",
       "      <th>Topic Count</th>\n",
       "      <th>Topic TFIDF</th>\n",
       "    </tr>\n",
       "  </thead>\n",
       "  <tbody>\n",
       "    <tr>\n",
       "      <th>14953</th>\n",
       "      <td>4853</td>\n",
       "      <td>Food</td>\n",
       "      <td>Arundel</td>\n",
       "      <td>5</td>\n",
       "      <td>A wonderful send-off My fa...</td>\n",
       "      <td>landlady jen gave u person...</td>\n",
       "      <td>show u part pub</td>\n",
       "      <td>[show, part, pub]</td>\n",
       "      <td>VisitExp</td>\n",
       "      <td>MealExp</td>\n",
       "    </tr>\n",
       "    <tr>\n",
       "      <th>16878</th>\n",
       "      <td>5188</td>\n",
       "      <td>Food</td>\n",
       "      <td>Arundel</td>\n",
       "      <td>1</td>\n",
       "      <td>Disappointed!!!! A friend ...</td>\n",
       "      <td>friend went local pub meal...</td>\n",
       "      <td>local pub meal</td>\n",
       "      <td>[pub, meal]</td>\n",
       "      <td>MealExp</td>\n",
       "      <td>MealExp</td>\n",
       "    </tr>\n",
       "    <tr>\n",
       "      <th>12450</th>\n",
       "      <td>4454</td>\n",
       "      <td>Food</td>\n",
       "      <td>Arundel</td>\n",
       "      <td>4</td>\n",
       "      <td>Friendly greeting and good...</td>\n",
       "      <td>friendly greeting good foo...</td>\n",
       "      <td>food night area</td>\n",
       "      <td>[food, night, area]</td>\n",
       "      <td>VisitExp</td>\n",
       "      <td>VisitExp</td>\n",
       "    </tr>\n",
       "    <tr>\n",
       "      <th>37468</th>\n",
       "      <td>8716</td>\n",
       "      <td>Food</td>\n",
       "      <td>Littlehampton</td>\n",
       "      <td>5</td>\n",
       "      <td>Great Chinese This is our ...</td>\n",
       "      <td>great friendly service bus...</td>\n",
       "      <td>extra mile customer</td>\n",
       "      <td>[mile, customer]</td>\n",
       "      <td>Service</td>\n",
       "      <td>VisitExp</td>\n",
       "    </tr>\n",
       "    <tr>\n",
       "      <th>15145</th>\n",
       "      <td>4880</td>\n",
       "      <td>Food</td>\n",
       "      <td>Arundel</td>\n",
       "      <td>5</td>\n",
       "      <td>What a Transformation 5* T...</td>\n",
       "      <td>transformation treatment m...</td>\n",
       "      <td>transformation treatment m...</td>\n",
       "      <td>[transformation, treatment...</td>\n",
       "      <td>VisitExp</td>\n",
       "      <td>VisitExp</td>\n",
       "    </tr>\n",
       "  </tbody>\n",
       "</table>\n",
       "</div>"
      ],
      "text/plain": [
       "       OrigInd Category           Town  Rating                       all_text  \\\n",
       "14953     4853     Food        Arundel       5  A wonderful send-off My fa...   \n",
       "16878     5188     Food        Arundel       1  Disappointed!!!! A friend ...   \n",
       "12450     4454     Food        Arundel       4  Friendly greeting and good...   \n",
       "37468     8716     Food  Littlehampton       5  Great Chinese This is our ...   \n",
       "15145     4880     Food        Arundel       5  What a Transformation 5* T...   \n",
       "\n",
       "                   cleaned_sentences                   noun_phrases  \\\n",
       "14953  landlady jen gave u person...                show u part pub   \n",
       "16878  friend went local pub meal...                 local pub meal   \n",
       "12450  friendly greeting good foo...                food night area   \n",
       "37468  great friendly service bus...            extra mile customer   \n",
       "15145  transformation treatment m...  transformation treatment m...   \n",
       "\n",
       "                               nouns Topic Count Topic TFIDF  \n",
       "14953              [show, part, pub]    VisitExp     MealExp  \n",
       "16878                    [pub, meal]     MealExp     MealExp  \n",
       "12450            [food, night, area]    VisitExp    VisitExp  \n",
       "37468               [mile, customer]     Service    VisitExp  \n",
       "15145  [transformation, treatment...    VisitExp    VisitExp  "
      ]
     },
     "execution_count": 353,
     "metadata": {},
     "output_type": "execute_result"
    }
   ],
   "source": [
    "pd.set_option('max_colwidth', 30)\n",
    "food_predict_final.sample(5)"
   ]
  },
  {
   "cell_type": "markdown",
   "metadata": {},
   "source": [
    "Again the countvectorizer seems to be providing slightly better results"
   ]
  },
  {
   "cell_type": "markdown",
   "metadata": {},
   "source": [
    "## Predict against new documents - food"
   ]
  },
  {
   "cell_type": "code",
   "execution_count": 354,
   "metadata": {
    "scrolled": true
   },
   "outputs": [],
   "source": [
    "# Predict on test set - transform the joined nouns to a vector using the fitted vectorizer and then transform the vector using the fitted nmf weights\n",
    "vec_test2 = cv_food.transform(food_nouns_joined_test)\n",
    "predicted_test2 = pd.DataFrame(count_mod2.transform(vec_test2))\n",
    "predicted_test2.columns = [\"Food\",\"Service\",\"StaffGen\",\"MealExp\",\"Menu\",\"VFM\",\"VisitExp\",\"Quality\",\"Drinks&Ordering\",\n",
    "                        \"Booking&Table\",\"FoodChoice\",\"FoodPort\"]\n",
    "predicted_test2[\"Topic Count\"] = predicted_test2.idxmax(axis=\"columns\")"
   ]
  },
  {
   "cell_type": "code",
   "execution_count": 357,
   "metadata": {
    "scrolled": true
   },
   "outputs": [
    {
     "data": {
      "text/html": [
       "<div>\n",
       "<style scoped>\n",
       "    .dataframe tbody tr th:only-of-type {\n",
       "        vertical-align: middle;\n",
       "    }\n",
       "\n",
       "    .dataframe tbody tr th {\n",
       "        vertical-align: top;\n",
       "    }\n",
       "\n",
       "    .dataframe thead th {\n",
       "        text-align: right;\n",
       "    }\n",
       "</style>\n",
       "<table border=\"1\" class=\"dataframe\">\n",
       "  <thead>\n",
       "    <tr style=\"text-align: right;\">\n",
       "      <th></th>\n",
       "      <th>OrigInd</th>\n",
       "      <th>Town</th>\n",
       "      <th>Rating</th>\n",
       "      <th>Sentence</th>\n",
       "      <th>cleaned_sentences</th>\n",
       "      <th>noun_phrases</th>\n",
       "      <th>nouns</th>\n",
       "      <th>Topic</th>\n",
       "    </tr>\n",
       "  </thead>\n",
       "  <tbody>\n",
       "    <tr>\n",
       "      <th>3723</th>\n",
       "      <td>8037</td>\n",
       "      <td>Arundel</td>\n",
       "      <td>5</td>\n",
       "      <td>Excellent lunch I enjoyed ...</td>\n",
       "      <td>excellent lunch enjoyed lu...</td>\n",
       "      <td>lunch fish chip badge beer</td>\n",
       "      <td>[lunch, chip, badge, beer]</td>\n",
       "      <td>FoodChoice</td>\n",
       "    </tr>\n",
       "    <tr>\n",
       "      <th>965</th>\n",
       "      <td>3804</td>\n",
       "      <td>Littlehampton</td>\n",
       "      <td>4</td>\n",
       "      <td>Good for Goodwood A group ...</td>\n",
       "      <td>good godhood group u old f...</td>\n",
       "      <td>old friend stay godhood</td>\n",
       "      <td>[friend, stay, godhood]</td>\n",
       "      <td>VisitExp</td>\n",
       "    </tr>\n",
       "    <tr>\n",
       "      <th>2120</th>\n",
       "      <td>5495</td>\n",
       "      <td>Littlehampton</td>\n",
       "      <td>4</td>\n",
       "      <td>Bank Holiday Dinner My wif...</td>\n",
       "      <td>bank holiday dinner wife v...</td>\n",
       "      <td>bank holiday dinner wife</td>\n",
       "      <td>[bank, holiday, dinner, wife]</td>\n",
       "      <td>VisitExp</td>\n",
       "    </tr>\n",
       "    <tr>\n",
       "      <th>35</th>\n",
       "      <td>2508</td>\n",
       "      <td>Arundel</td>\n",
       "      <td>3</td>\n",
       "      <td>Great food poor service We...</td>\n",
       "      <td>waitress cleared plate ask...</td>\n",
       "      <td>round drink waitress</td>\n",
       "      <td>[round, drink, waitress]</td>\n",
       "      <td>Drinks&amp;Ordering</td>\n",
       "    </tr>\n",
       "    <tr>\n",
       "      <th>2988</th>\n",
       "      <td>6926</td>\n",
       "      <td>Littlehampton</td>\n",
       "      <td>5</td>\n",
       "      <td>Great food and fabulous se...</td>\n",
       "      <td>glad saved bit room scrumm...</td>\n",
       "      <td>bit room scrummy banoffee pie</td>\n",
       "      <td>[bit, room, scrummy, banof...</td>\n",
       "      <td>MealExp</td>\n",
       "    </tr>\n",
       "  </tbody>\n",
       "</table>\n",
       "</div>"
      ],
      "text/plain": [
       "      OrigInd           Town  Rating                       Sentence  \\\n",
       "3723     8037        Arundel       5  Excellent lunch I enjoyed ...   \n",
       "965      3804  Littlehampton       4  Good for Goodwood A group ...   \n",
       "2120     5495  Littlehampton       4  Bank Holiday Dinner My wif...   \n",
       "35       2508        Arundel       3  Great food poor service We...   \n",
       "2988     6926  Littlehampton       5  Great food and fabulous se...   \n",
       "\n",
       "                  cleaned_sentences                   noun_phrases  \\\n",
       "3723  excellent lunch enjoyed lu...     lunch fish chip badge beer   \n",
       "965   good godhood group u old f...        old friend stay godhood   \n",
       "2120  bank holiday dinner wife v...       bank holiday dinner wife   \n",
       "35    waitress cleared plate ask...           round drink waitress   \n",
       "2988  glad saved bit room scrumm...  bit room scrummy banoffee pie   \n",
       "\n",
       "                              nouns            Topic  \n",
       "3723     [lunch, chip, badge, beer]       FoodChoice  \n",
       "965         [friend, stay, godhood]         VisitExp  \n",
       "2120  [bank, holiday, dinner, wife]         VisitExp  \n",
       "35         [round, drink, waitress]  Drinks&Ordering  \n",
       "2988  [bit, room, scrummy, banof...          MealExp  "
      ]
     },
     "execution_count": 357,
     "metadata": {},
     "output_type": "execute_result"
    }
   ],
   "source": [
    "predict_test2_df = pd.DataFrame(df_food_test[[\"OrigInd\",\"Town\",\"Rating\",\"all_text\",\"cleaned_sentences\",\"noun_phrases\",\"nouns\"]]).reset_index(drop = True)\n",
    "predictions_food = pd.concat([predict_test2_df,predicted_test2[\"Topic Count\"]],axis = 1,ignore_index = True)\n",
    "predictions_food.columns = [\"OrigInd\",\"Town\",\"Rating\",\"Sentence\",\"cleaned_sentences\",\"noun_phrases\",\"nouns\",\"Topic\"]\n",
    "predictions_food[\"len\"] = predictions_food[\"nouns\"].apply(lambda x: len(x))\n",
    "predictions_food = predictions_food[predictions_food[\"len\"]>2]\n",
    "predictions_food.drop(columns = [\"len\"],axis = 1, inplace = True)\n",
    "predictions_food.sample(5)"
   ]
  },
  {
   "cell_type": "markdown",
   "metadata": {},
   "source": [
    "Model seems to be predicted reasonably well on new documents"
   ]
  },
  {
   "cell_type": "code",
   "execution_count": 358,
   "metadata": {},
   "outputs": [
    {
     "data": {
      "text/plain": [
       "FoodChoice         100\n",
       "VisitExp           100\n",
       "MealExp             98\n",
       "FoodPort            90\n",
       "Food                86\n",
       "Service             78\n",
       "StaffGen            67\n",
       "Drinks&Ordering     62\n",
       "Booking&Table       59\n",
       "Menu                55\n",
       "Quality             52\n",
       "VFM                 51\n",
       "Name: Topic, dtype: int64"
      ]
     },
     "execution_count": 358,
     "metadata": {},
     "output_type": "execute_result"
    }
   ],
   "source": [
    "# Topic distribution in the test set\n",
    "predictions_food[\"Topic\"].value_counts()"
   ]
  },
  {
   "cell_type": "markdown",
   "metadata": {},
   "source": [
    "## Run models for attractions"
   ]
  },
  {
   "cell_type": "code",
   "execution_count": 359,
   "metadata": {
    "scrolled": true
   },
   "outputs": [],
   "source": [
    "# Reset model with different parameters\n",
    "\n",
    "def nmf(vectorizer,vector,num_topics):\n",
    "    nmf_model = NMF(n_components = num_topics, \n",
    "                    solver=\"cd\",\n",
    "                    init = 'nndsvd',\n",
    "                    alpha = 1.0,\n",
    "                    beta_loss= 'frobenius',\n",
    "                    max_iter = 2000,\n",
    "                    shuffle=False,\n",
    "                    random_state = 0)\n",
    "    \n",
    "    W = nmf_model.fit_transform(vector) # each column represents the weight of each word in a doc (w)\n",
    "    H = nmf_model.components_  # each row represents a word embedding (h) and is a weighting\n",
    "    \n",
    "    # Extract topics,features and weights\n",
    "    feature_names = np.array(vectorizer.get_feature_names())\n",
    "    feature_idxs = np.argsort(-H)\n",
    "    topics = [feature_names[idx] for idx in feature_idxs]\n",
    "    topics = pd.DataFrame(topics).T\n",
    "    topics.columns = [\"T\" + str(i) for i in range(1,num_topics+1)]\n",
    "    \n",
    "           \n",
    "    return topics,H,W,nmf_model"
   ]
  },
  {
   "cell_type": "markdown",
   "metadata": {},
   "source": [
    "### Countvectorizer NMF - attractions"
   ]
  },
  {
   "cell_type": "code",
   "execution_count": 360,
   "metadata": {
    "scrolled": true
   },
   "outputs": [],
   "source": [
    "# Get countvectorizer nmf and tfidf nmf output - doc topics, H,W,and nmf fitted model\n",
    "attract_count_topics,H_attract,W_attract,count_mod3 = nmf(cv_attract,vec1_attract,12)\n",
    "attract_tfidf_topics,H_attract_tfidf,W_attract_tfidf,tfidf_mod3 = nmf(tfidf_attract,vec2_attract,12)"
   ]
  },
  {
   "cell_type": "code",
   "execution_count": 361,
   "metadata": {
    "scrolled": true
   },
   "outputs": [],
   "source": [
    "attract_count_topics = attract_count_topics\n",
    "attract_tfidf_topics = attract_tfidf_topics"
   ]
  },
  {
   "cell_type": "code",
   "execution_count": 362,
   "metadata": {
    "scrolled": true
   },
   "outputs": [
    {
     "data": {
      "text/html": [
       "<div>\n",
       "<style scoped>\n",
       "    .dataframe tbody tr th:only-of-type {\n",
       "        vertical-align: middle;\n",
       "    }\n",
       "\n",
       "    .dataframe tbody tr th {\n",
       "        vertical-align: top;\n",
       "    }\n",
       "\n",
       "    .dataframe thead th {\n",
       "        text-align: right;\n",
       "    }\n",
       "</style>\n",
       "<table border=\"1\" class=\"dataframe\">\n",
       "  <thead>\n",
       "    <tr style=\"text-align: right;\">\n",
       "      <th></th>\n",
       "      <th>T1</th>\n",
       "      <th>T2</th>\n",
       "      <th>T3</th>\n",
       "      <th>T4</th>\n",
       "      <th>T5</th>\n",
       "      <th>T6</th>\n",
       "      <th>T7</th>\n",
       "      <th>T8</th>\n",
       "      <th>T9</th>\n",
       "      <th>T10</th>\n",
       "      <th>T11</th>\n",
       "      <th>T12</th>\n",
       "    </tr>\n",
       "  </thead>\n",
       "  <tbody>\n",
       "    <tr>\n",
       "      <th>0</th>\n",
       "      <td>visit</td>\n",
       "      <td>garden</td>\n",
       "      <td>park</td>\n",
       "      <td>place</td>\n",
       "      <td>shop</td>\n",
       "      <td>walk</td>\n",
       "      <td>staff</td>\n",
       "      <td>area</td>\n",
       "      <td>beach</td>\n",
       "      <td>value</td>\n",
       "      <td>family</td>\n",
       "      <td>food</td>\n",
       "    </tr>\n",
       "    <tr>\n",
       "      <th>1</th>\n",
       "      <td>place visit</td>\n",
       "      <td>ground</td>\n",
       "      <td>car</td>\n",
       "      <td>place visit</td>\n",
       "      <td>gift</td>\n",
       "      <td>dog</td>\n",
       "      <td>member</td>\n",
       "      <td>play</td>\n",
       "      <td>cafe</td>\n",
       "      <td>money</td>\n",
       "      <td>fun</td>\n",
       "      <td>price</td>\n",
       "    </tr>\n",
       "    <tr>\n",
       "      <th>2</th>\n",
       "      <td>visit garden</td>\n",
       "      <td>ticket</td>\n",
       "      <td>car park</td>\n",
       "      <td>place walk</td>\n",
       "      <td>gift shop</td>\n",
       "      <td>town</td>\n",
       "      <td>helpful</td>\n",
       "      <td>play area</td>\n",
       "      <td>town</td>\n",
       "      <td>value money</td>\n",
       "      <td>ticket</td>\n",
       "      <td>cafe</td>\n",
       "    </tr>\n",
       "    <tr>\n",
       "      <th>3</th>\n",
       "      <td>cafe</td>\n",
       "      <td>visit garden</td>\n",
       "      <td>road</td>\n",
       "      <td>child</td>\n",
       "      <td>restaurant</td>\n",
       "      <td>minute</td>\n",
       "      <td>staff helpful</td>\n",
       "      <td>child</td>\n",
       "      <td>sand</td>\n",
       "      <td>golf</td>\n",
       "      <td>history</td>\n",
       "      <td>drink</td>\n",
       "    </tr>\n",
       "    <tr>\n",
       "      <th>4</th>\n",
       "      <td>visit cafe</td>\n",
       "      <td>ground garden</td>\n",
       "      <td>town</td>\n",
       "      <td>dog</td>\n",
       "      <td>coffee</td>\n",
       "      <td>park walk</td>\n",
       "      <td>member staff</td>\n",
       "      <td>golf</td>\n",
       "      <td>hour</td>\n",
       "      <td>fun</td>\n",
       "      <td>child</td>\n",
       "      <td>ticket</td>\n",
       "    </tr>\n",
       "    <tr>\n",
       "      <th>5</th>\n",
       "      <td>museum</td>\n",
       "      <td>tulip</td>\n",
       "      <td>harbour</td>\n",
       "      <td>kid</td>\n",
       "      <td>cafe</td>\n",
       "      <td>minute walk</td>\n",
       "      <td>staff member</td>\n",
       "      <td>plenty</td>\n",
       "      <td>promenade</td>\n",
       "      <td>cinema</td>\n",
       "      <td>kid</td>\n",
       "      <td>food drink</td>\n",
       "    </tr>\n",
       "    <tr>\n",
       "      <th>6</th>\n",
       "      <td>visit museum</td>\n",
       "      <td>chapel</td>\n",
       "      <td>harbour park</td>\n",
       "      <td>history</td>\n",
       "      <td>tea</td>\n",
       "      <td>round</td>\n",
       "      <td>cafe</td>\n",
       "      <td>age</td>\n",
       "      <td>beach cafe</td>\n",
       "      <td>ticket</td>\n",
       "      <td>duke</td>\n",
       "      <td>restaurant</td>\n",
       "    </tr>\n",
       "    <tr>\n",
       "      <th>7</th>\n",
       "      <td>garden visit</td>\n",
       "      <td>garden garden</td>\n",
       "      <td>park walk</td>\n",
       "      <td>book</td>\n",
       "      <td>shop restaurant</td>\n",
       "      <td>place walk</td>\n",
       "      <td>knowledge</td>\n",
       "      <td>access</td>\n",
       "      <td>dog</td>\n",
       "      <td>adventure</td>\n",
       "      <td>dog</td>\n",
       "      <td>quality</td>\n",
       "    </tr>\n",
       "    <tr>\n",
       "      <th>8</th>\n",
       "      <td>sunny</td>\n",
       "      <td>garden ground</td>\n",
       "      <td>child</td>\n",
       "      <td>plenty</td>\n",
       "      <td>coffee shop</td>\n",
       "      <td>walk dog</td>\n",
       "      <td>hand</td>\n",
       "      <td>access area</td>\n",
       "      <td>sea</td>\n",
       "      <td>adventure golf</td>\n",
       "      <td>experience</td>\n",
       "      <td>quality food</td>\n",
       "    </tr>\n",
       "    <tr>\n",
       "      <th>9</th>\n",
       "      <td>visit park</td>\n",
       "      <td>access</td>\n",
       "      <td>hour</td>\n",
       "      <td>idea</td>\n",
       "      <td>cream</td>\n",
       "      <td>walk round</td>\n",
       "      <td>restaurant</td>\n",
       "      <td>history</td>\n",
       "      <td>visit beach</td>\n",
       "      <td>waste</td>\n",
       "      <td>adult</td>\n",
       "      <td>fun</td>\n",
       "    </tr>\n",
       "  </tbody>\n",
       "</table>\n",
       "</div>"
      ],
      "text/plain": [
       "             T1             T2            T3           T4               T5  \\\n",
       "0         visit         garden          park        place             shop   \n",
       "1   place visit         ground           car  place visit             gift   \n",
       "2  visit garden         ticket      car park   place walk        gift shop   \n",
       "3          cafe   visit garden          road        child       restaurant   \n",
       "4    visit cafe  ground garden          town          dog           coffee   \n",
       "5        museum          tulip       harbour          kid             cafe   \n",
       "6  visit museum         chapel  harbour park      history              tea   \n",
       "7  garden visit  garden garden     park walk         book  shop restaurant   \n",
       "8         sunny  garden ground         child       plenty      coffee shop   \n",
       "9    visit park         access          hour         idea            cream   \n",
       "\n",
       "            T6             T7           T8           T9             T10  \\\n",
       "0         walk          staff         area        beach           value   \n",
       "1          dog         member         play         cafe           money   \n",
       "2         town        helpful    play area         town     value money   \n",
       "3       minute  staff helpful        child         sand            golf   \n",
       "4    park walk   member staff         golf         hour             fun   \n",
       "5  minute walk   staff member       plenty    promenade          cinema   \n",
       "6        round           cafe          age   beach cafe          ticket   \n",
       "7   place walk      knowledge       access          dog       adventure   \n",
       "8     walk dog           hand  access area          sea  adventure golf   \n",
       "9   walk round     restaurant      history  visit beach           waste   \n",
       "\n",
       "          T11           T12  \n",
       "0      family          food  \n",
       "1         fun         price  \n",
       "2      ticket          cafe  \n",
       "3     history         drink  \n",
       "4       child        ticket  \n",
       "5         kid    food drink  \n",
       "6        duke    restaurant  \n",
       "7         dog       quality  \n",
       "8  experience  quality food  \n",
       "9       adult           fun  "
      ]
     },
     "execution_count": 362,
     "metadata": {},
     "output_type": "execute_result"
    }
   ],
   "source": [
    "pd.set_option('max_colwidth', 20)\n",
    "attract_count_topics.head(10)"
   ]
  },
  {
   "cell_type": "code",
   "execution_count": 364,
   "metadata": {
    "scrolled": true
   },
   "outputs": [],
   "source": [
    "# Apply inferred topics to documents with the associated weights\n",
    "pd.options.display.float_format = '{:,.3f}'.format\n",
    "attract_count_df = pd.DataFrame(W_attract)\n",
    "attract_count_df.columns = [\"VisitExp\",\"Gardens&Grounds\",\"Parking\",\"Attraction\",\"Shop&Facilities\",\"Walking&Exp\",\"Staff\",\"PlayArea\",\"BeachFac\",\"VFM\",\n",
    "                           \"FamilyExp\",\"Food\"]\n",
    "attract_count_df[\"Top\"] = attract_count_df.idxmax(axis=\"columns\")\n",
    "#topics_per_doc_accom_count.head()"
   ]
  },
  {
   "cell_type": "code",
   "execution_count": 365,
   "metadata": {
    "scrolled": true
   },
   "outputs": [
    {
     "data": {
      "text/html": [
       "<div>\n",
       "<style scoped>\n",
       "    .dataframe tbody tr th:only-of-type {\n",
       "        vertical-align: middle;\n",
       "    }\n",
       "\n",
       "    .dataframe tbody tr th {\n",
       "        vertical-align: top;\n",
       "    }\n",
       "\n",
       "    .dataframe thead th {\n",
       "        text-align: right;\n",
       "    }\n",
       "</style>\n",
       "<table border=\"1\" class=\"dataframe\">\n",
       "  <thead>\n",
       "    <tr style=\"text-align: right;\">\n",
       "      <th></th>\n",
       "      <th>OrigInd</th>\n",
       "      <th>Category</th>\n",
       "      <th>Town</th>\n",
       "      <th>Rating</th>\n",
       "      <th>all_text</th>\n",
       "      <th>cleaned_sentences</th>\n",
       "      <th>noun_phrases</th>\n",
       "      <th>nouns</th>\n",
       "      <th>Topic Count</th>\n",
       "    </tr>\n",
       "  </thead>\n",
       "  <tbody>\n",
       "    <tr>\n",
       "      <th>1973</th>\n",
       "      <td>9463</td>\n",
       "      <td>Attractions</td>\n",
       "      <td>Arundel</td>\n",
       "      <td>5</td>\n",
       "      <td>One of the top castles to visit For ...</td>\n",
       "      <td>guess quite expensive seems shame us...</td>\n",
       "      <td>whole experience</td>\n",
       "      <td>[experience]</td>\n",
       "      <td>FamilyExp</td>\n",
       "    </tr>\n",
       "    <tr>\n",
       "      <th>4777</th>\n",
       "      <td>9955</td>\n",
       "      <td>Attractions</td>\n",
       "      <td>Arundel</td>\n",
       "      <td>5</td>\n",
       "      <td>Great soft play at reasonable price ...</td>\n",
       "      <td>great soft play reasonable price vis...</td>\n",
       "      <td>reasonable price</td>\n",
       "      <td>[price]</td>\n",
       "      <td>Food</td>\n",
       "    </tr>\n",
       "    <tr>\n",
       "      <th>4507</th>\n",
       "      <td>9913</td>\n",
       "      <td>Attractions</td>\n",
       "      <td>Arundel</td>\n",
       "      <td>5</td>\n",
       "      <td>Great gardens! Great gardens with in...</td>\n",
       "      <td>staff pleasant helpful garden recept...</td>\n",
       "      <td>staff pleasant helpful garden reception</td>\n",
       "      <td>[staff, garden, reception]</td>\n",
       "      <td>Staff</td>\n",
       "    </tr>\n",
       "    <tr>\n",
       "      <th>5773</th>\n",
       "      <td>10087</td>\n",
       "      <td>Attractions</td>\n",
       "      <td>Littlehampton</td>\n",
       "      <td>4</td>\n",
       "      <td>A long pleasant beach with a clean w...</td>\n",
       "      <td>also two side funfair part want ente...</td>\n",
       "      <td>side funfair part</td>\n",
       "      <td>[side, funfair, part]</td>\n",
       "      <td>Walking&amp;Exp</td>\n",
       "    </tr>\n",
       "    <tr>\n",
       "      <th>7330</th>\n",
       "      <td>10371</td>\n",
       "      <td>Attractions</td>\n",
       "      <td>Arundel</td>\n",
       "      <td>5</td>\n",
       "      <td>Good English Fizz Tried some excelle...</td>\n",
       "      <td>good english fizz tried excellent fi...</td>\n",
       "      <td>excellent fizz</td>\n",
       "      <td>[fizz]</td>\n",
       "      <td>FamilyExp</td>\n",
       "    </tr>\n",
       "  </tbody>\n",
       "</table>\n",
       "</div>"
      ],
      "text/plain": [
       "      OrigInd     Category           Town  Rating  \\\n",
       "1973     9463  Attractions        Arundel       5   \n",
       "4777     9955  Attractions        Arundel       5   \n",
       "4507     9913  Attractions        Arundel       5   \n",
       "5773    10087  Attractions  Littlehampton       4   \n",
       "7330    10371  Attractions        Arundel       5   \n",
       "\n",
       "                                     all_text  \\\n",
       "1973  One of the top castles to visit For ...   \n",
       "4777  Great soft play at reasonable price ...   \n",
       "4507  Great gardens! Great gardens with in...   \n",
       "5773  A long pleasant beach with a clean w...   \n",
       "7330  Good English Fizz Tried some excelle...   \n",
       "\n",
       "                            cleaned_sentences  \\\n",
       "1973  guess quite expensive seems shame us...   \n",
       "4777  great soft play reasonable price vis...   \n",
       "4507  staff pleasant helpful garden recept...   \n",
       "5773  also two side funfair part want ente...   \n",
       "7330  good english fizz tried excellent fi...   \n",
       "\n",
       "                                 noun_phrases                       nouns  \\\n",
       "1973                         whole experience                [experience]   \n",
       "4777                         reasonable price                     [price]   \n",
       "4507  staff pleasant helpful garden reception  [staff, garden, reception]   \n",
       "5773                        side funfair part       [side, funfair, part]   \n",
       "7330                           excellent fizz                      [fizz]   \n",
       "\n",
       "      Topic Count  \n",
       "1973    FamilyExp  \n",
       "4777         Food  \n",
       "4507        Staff  \n",
       "5773  Walking&Exp  \n",
       "7330    FamilyExp  "
      ]
     },
     "execution_count": 365,
     "metadata": {},
     "output_type": "execute_result"
    }
   ],
   "source": [
    "# Add the most likely countvectorizer topic to the review dataframe\n",
    "predict_count_attract = pd.DataFrame(df_attract[[\"OrigInd\",\"Category\",\"Town\",\"Rating\",\"all_text\",\"cleaned_sentences\",\"noun_phrases\",\"nouns\"]]).reset_index(drop = True)\n",
    "attract_predict_count = pd.concat([predict_count_attract,attract_count_df[\"Top\"]],axis = 1,ignore_index = True)\n",
    "attract_predict_count.columns = [\"OrigInd\",\"Category\",\"Town\",\"Rating\",\"all_text\",\"cleaned_sentences\",\"noun_phrases\",\"nouns\",\"Topic Count\"]\n",
    "pd.set_option('max_colwidth',40)\n",
    "attract_predict_count.sample(5)"
   ]
  },
  {
   "cell_type": "markdown",
   "metadata": {},
   "source": [
    "### TFIDF NMF - attractions"
   ]
  },
  {
   "cell_type": "code",
   "execution_count": 366,
   "metadata": {
    "scrolled": true
   },
   "outputs": [
    {
     "data": {
      "text/html": [
       "<div>\n",
       "<style scoped>\n",
       "    .dataframe tbody tr th:only-of-type {\n",
       "        vertical-align: middle;\n",
       "    }\n",
       "\n",
       "    .dataframe tbody tr th {\n",
       "        vertical-align: top;\n",
       "    }\n",
       "\n",
       "    .dataframe thead th {\n",
       "        text-align: right;\n",
       "    }\n",
       "</style>\n",
       "<table border=\"1\" class=\"dataframe\">\n",
       "  <thead>\n",
       "    <tr style=\"text-align: right;\">\n",
       "      <th></th>\n",
       "      <th>T1</th>\n",
       "      <th>T2</th>\n",
       "      <th>T3</th>\n",
       "      <th>T4</th>\n",
       "      <th>T5</th>\n",
       "      <th>T6</th>\n",
       "      <th>T7</th>\n",
       "      <th>T8</th>\n",
       "      <th>T9</th>\n",
       "      <th>T10</th>\n",
       "      <th>T11</th>\n",
       "      <th>T12</th>\n",
       "    </tr>\n",
       "  </thead>\n",
       "  <tbody>\n",
       "    <tr>\n",
       "      <th>0</th>\n",
       "      <td>visit</td>\n",
       "      <td>place</td>\n",
       "      <td>garden</td>\n",
       "      <td>staff</td>\n",
       "      <td>walk</td>\n",
       "      <td>experience</td>\n",
       "      <td>beach</td>\n",
       "      <td>park</td>\n",
       "      <td>price</td>\n",
       "      <td>area</td>\n",
       "      <td>value</td>\n",
       "      <td>food</td>\n",
       "    </tr>\n",
       "    <tr>\n",
       "      <th>1</th>\n",
       "      <td>place visit</td>\n",
       "      <td>place visit</td>\n",
       "      <td>visit garden</td>\n",
       "      <td>member</td>\n",
       "      <td>place walk</td>\n",
       "      <td>bird</td>\n",
       "      <td>cafe</td>\n",
       "      <td>car</td>\n",
       "      <td>ticket</td>\n",
       "      <td>play</td>\n",
       "      <td>money</td>\n",
       "      <td>cafe</td>\n",
       "    </tr>\n",
       "    <tr>\n",
       "      <th>2</th>\n",
       "      <td>visit garden</td>\n",
       "      <td>place walk</td>\n",
       "      <td>ground</td>\n",
       "      <td>helpful</td>\n",
       "      <td>dog</td>\n",
       "      <td>owl</td>\n",
       "      <td>shop</td>\n",
       "      <td>car park</td>\n",
       "      <td>cinema</td>\n",
       "      <td>child</td>\n",
       "      <td>value money</td>\n",
       "      <td>drink</td>\n",
       "    </tr>\n",
       "    <tr>\n",
       "      <th>3</th>\n",
       "      <td>cafe</td>\n",
       "      <td>child</td>\n",
       "      <td>ground garden</td>\n",
       "      <td>staff helpful</td>\n",
       "      <td>park walk</td>\n",
       "      <td>family</td>\n",
       "      <td>view</td>\n",
       "      <td>town</td>\n",
       "      <td>child</td>\n",
       "      <td>play area</td>\n",
       "      <td>cinema</td>\n",
       "      <td>shop</td>\n",
       "    </tr>\n",
       "    <tr>\n",
       "      <th>4</th>\n",
       "      <td>visit cafe</td>\n",
       "      <td>history</td>\n",
       "      <td>tulip</td>\n",
       "      <td>member staff</td>\n",
       "      <td>minute walk</td>\n",
       "      <td>owl experience</td>\n",
       "      <td>part</td>\n",
       "      <td>child</td>\n",
       "      <td>entry</td>\n",
       "      <td>history</td>\n",
       "      <td>fun</td>\n",
       "      <td>food drink</td>\n",
       "    </tr>\n",
       "    <tr>\n",
       "      <th>5</th>\n",
       "      <td>visit museum</td>\n",
       "      <td>kid</td>\n",
       "      <td>chapel</td>\n",
       "      <td>reception</td>\n",
       "      <td>minute</td>\n",
       "      <td>cinema</td>\n",
       "      <td>hour</td>\n",
       "      <td>hour</td>\n",
       "      <td>ticket price</td>\n",
       "      <td>family</td>\n",
       "      <td>shop</td>\n",
       "      <td>fun</td>\n",
       "    </tr>\n",
       "    <tr>\n",
       "      <th>6</th>\n",
       "      <td>family</td>\n",
       "      <td>people</td>\n",
       "      <td>garden ground</td>\n",
       "      <td>staff member</td>\n",
       "      <td>hour</td>\n",
       "      <td>round</td>\n",
       "      <td>beach cafe</td>\n",
       "      <td>fun</td>\n",
       "      <td>entry price</td>\n",
       "      <td>people</td>\n",
       "      <td>way</td>\n",
       "      <td>restaurant</td>\n",
       "    </tr>\n",
       "    <tr>\n",
       "      <th>7</th>\n",
       "      <td>museum</td>\n",
       "      <td>trip</td>\n",
       "      <td>ticket</td>\n",
       "      <td>site</td>\n",
       "      <td>walk dog</td>\n",
       "      <td>end</td>\n",
       "      <td>visit beach</td>\n",
       "      <td>park walk</td>\n",
       "      <td>entrance</td>\n",
       "      <td>shop</td>\n",
       "      <td>ticket</td>\n",
       "      <td>family</td>\n",
       "    </tr>\n",
       "    <tr>\n",
       "      <th>8</th>\n",
       "      <td>return</td>\n",
       "      <td>year</td>\n",
       "      <td>superb</td>\n",
       "      <td>ground</td>\n",
       "      <td>walk round</td>\n",
       "      <td>friend</td>\n",
       "      <td>dog</td>\n",
       "      <td>cafe</td>\n",
       "      <td>adult</td>\n",
       "      <td>plenty</td>\n",
       "      <td>golf</td>\n",
       "      <td>minute</td>\n",
       "    </tr>\n",
       "    <tr>\n",
       "      <th>9</th>\n",
       "      <td>ground</td>\n",
       "      <td>idea</td>\n",
       "      <td>garden garden</td>\n",
       "      <td>cafe</td>\n",
       "      <td>ground</td>\n",
       "      <td>bird prey</td>\n",
       "      <td>promenade</td>\n",
       "      <td>harbour park</td>\n",
       "      <td>pay</td>\n",
       "      <td>reception</td>\n",
       "      <td>kid</td>\n",
       "      <td>quality</td>\n",
       "    </tr>\n",
       "  </tbody>\n",
       "</table>\n",
       "</div>"
      ],
      "text/plain": [
       "             T1           T2             T3             T4           T5  \\\n",
       "0         visit        place         garden          staff         walk   \n",
       "1   place visit  place visit   visit garden         member   place walk   \n",
       "2  visit garden   place walk         ground        helpful          dog   \n",
       "3          cafe        child  ground garden  staff helpful    park walk   \n",
       "4    visit cafe      history          tulip   member staff  minute walk   \n",
       "5  visit museum          kid         chapel      reception       minute   \n",
       "6        family       people  garden ground   staff member         hour   \n",
       "7        museum         trip         ticket           site     walk dog   \n",
       "8        return         year         superb         ground   walk round   \n",
       "9        ground         idea  garden garden           cafe       ground   \n",
       "\n",
       "               T6           T7            T8            T9        T10  \\\n",
       "0      experience        beach          park         price       area   \n",
       "1            bird         cafe           car        ticket       play   \n",
       "2             owl         shop      car park        cinema      child   \n",
       "3          family         view          town         child  play area   \n",
       "4  owl experience         part         child         entry    history   \n",
       "5          cinema         hour          hour  ticket price     family   \n",
       "6           round   beach cafe           fun   entry price     people   \n",
       "7             end  visit beach     park walk      entrance       shop   \n",
       "8          friend          dog          cafe         adult     plenty   \n",
       "9       bird prey    promenade  harbour park           pay  reception   \n",
       "\n",
       "           T11         T12  \n",
       "0        value        food  \n",
       "1        money        cafe  \n",
       "2  value money       drink  \n",
       "3       cinema        shop  \n",
       "4          fun  food drink  \n",
       "5         shop         fun  \n",
       "6          way  restaurant  \n",
       "7       ticket      family  \n",
       "8         golf      minute  \n",
       "9          kid     quality  "
      ]
     },
     "execution_count": 366,
     "metadata": {},
     "output_type": "execute_result"
    }
   ],
   "source": [
    "pd.set_option('max_colwidth',15)\n",
    "attract_tfidf_topics = attract_tfidf_topics\n",
    "attract_tfidf_topics.head(10)"
   ]
  },
  {
   "cell_type": "code",
   "execution_count": 367,
   "metadata": {
    "scrolled": true
   },
   "outputs": [],
   "source": [
    "# Apply inferred topics to documents with the associated weights\n",
    "pd.options.display.float_format = '{:,.3f}'.format\n",
    "attract_tfidf_df = pd.DataFrame(W_attract_tfidf)\n",
    "attract_tfidf_df.columns = [\"VisitExp\",\"Attraction\",\"Gardens&Grounds\",\"Staff\",\"Walking&Exp\",\"GenExp\",\"BeachFac\",\"Parking\",\"Prices\",\n",
    "                           \"PlayArea\",\"VFM\",\"Food\"]\n",
    "                          \n",
    "attract_tfidf_df[\"Top\"] = attract_tfidf_df.idxmax(axis=\"columns\")"
   ]
  },
  {
   "cell_type": "code",
   "execution_count": 368,
   "metadata": {
    "scrolled": true
   },
   "outputs": [],
   "source": [
    "# Add the most likely tfidf topic to the review and conat the two top topics to the original dataframe\n",
    "predict_tfidf_attract = pd.DataFrame(df_attract[[\"OrigInd\",\"Town\",\"Rating\",\"all_text\",\"cleaned_sentences\",\"noun_phrases\",\"nouns\"]]).reset_index(drop = True)\n",
    "attract_predict_final = pd.concat([attract_predict_count,attract_tfidf_df[\"Top\"]],axis = 1,ignore_index = True)\n",
    "attract_predict_final.columns = [\"OrigInd\",\"Category\",\"Town\",\"Rating\",\"all_text\",\"cleaned\",\"noun_phrases\",\"nouns\",\"Topic Count\",\"Topic TFIDF\"]"
   ]
  },
  {
   "cell_type": "code",
   "execution_count": 374,
   "metadata": {
    "scrolled": true
   },
   "outputs": [
    {
     "data": {
      "text/html": [
       "<div>\n",
       "<style scoped>\n",
       "    .dataframe tbody tr th:only-of-type {\n",
       "        vertical-align: middle;\n",
       "    }\n",
       "\n",
       "    .dataframe tbody tr th {\n",
       "        vertical-align: top;\n",
       "    }\n",
       "\n",
       "    .dataframe thead th {\n",
       "        text-align: right;\n",
       "    }\n",
       "</style>\n",
       "<table border=\"1\" class=\"dataframe\">\n",
       "  <thead>\n",
       "    <tr style=\"text-align: right;\">\n",
       "      <th></th>\n",
       "      <th>OrigInd</th>\n",
       "      <th>Category</th>\n",
       "      <th>Town</th>\n",
       "      <th>Rating</th>\n",
       "      <th>all_text</th>\n",
       "      <th>cleaned</th>\n",
       "      <th>noun_phrases</th>\n",
       "      <th>nouns</th>\n",
       "      <th>Topic Count</th>\n",
       "      <th>Topic TFIDF</th>\n",
       "    </tr>\n",
       "  </thead>\n",
       "  <tbody>\n",
       "    <tr>\n",
       "      <th>2988</th>\n",
       "      <td>9648</td>\n",
       "      <td>Attractions</td>\n",
       "      <td>Arundel</td>\n",
       "      <td>5</td>\n",
       "      <td>Lovely architecture  Lovel...</td>\n",
       "      <td>cathedral souvenir shop</td>\n",
       "      <td>cathedral souvenir shop</td>\n",
       "      <td>[souvenir, shop]</td>\n",
       "      <td>Shop&amp;Facilities</td>\n",
       "      <td>Food</td>\n",
       "    </tr>\n",
       "    <tr>\n",
       "      <th>341</th>\n",
       "      <td>9217</td>\n",
       "      <td>Attractions</td>\n",
       "      <td>Arundel</td>\n",
       "      <td>5</td>\n",
       "      <td>Tea in the Castle after se...</td>\n",
       "      <td>arbor fountain bench lovel...</td>\n",
       "      <td>arbor fountain bench</td>\n",
       "      <td>[arbor, fountain, bench]</td>\n",
       "      <td>Gardens&amp;Grounds</td>\n",
       "      <td>Gardens&amp;Grounds</td>\n",
       "    </tr>\n",
       "    <tr>\n",
       "      <th>2515</th>\n",
       "      <td>9539</td>\n",
       "      <td>Attractions</td>\n",
       "      <td>Bognor</td>\n",
       "      <td>5</td>\n",
       "      <td>Best value ever for Cinema...</td>\n",
       "      <td>picturedrome cinema conven...</td>\n",
       "      <td>railway station genuinegem...</td>\n",
       "      <td>[railway, station, genuine...</td>\n",
       "      <td>Parking</td>\n",
       "      <td>Parking</td>\n",
       "    </tr>\n",
       "    <tr>\n",
       "      <th>232</th>\n",
       "      <td>9200</td>\n",
       "      <td>Attractions</td>\n",
       "      <td>Arundel</td>\n",
       "      <td>5</td>\n",
       "      <td>Castle and Keep and Chapel...</td>\n",
       "      <td>everything place oozing hi...</td>\n",
       "      <td>history survival family</td>\n",
       "      <td>[history, family]</td>\n",
       "      <td>FamilyExp</td>\n",
       "      <td>PlayArea</td>\n",
       "    </tr>\n",
       "    <tr>\n",
       "      <th>4400</th>\n",
       "      <td>9899</td>\n",
       "      <td>Attractions</td>\n",
       "      <td>Arundel</td>\n",
       "      <td>5</td>\n",
       "      <td>A very curvaceous garden I...</td>\n",
       "      <td>initially met enthusiastic...</td>\n",
       "      <td>beth chatty</td>\n",
       "      <td>[beth]</td>\n",
       "      <td>VisitExp</td>\n",
       "      <td>VisitExp</td>\n",
       "    </tr>\n",
       "    <tr>\n",
       "      <th>3852</th>\n",
       "      <td>9803</td>\n",
       "      <td>Attractions</td>\n",
       "      <td>Arundel</td>\n",
       "      <td>5</td>\n",
       "      <td>Hawk walk We\\nWent yesterd...</td>\n",
       "      <td>bird followed u wood walke...</td>\n",
       "      <td>unreal experience</td>\n",
       "      <td>[experience]</td>\n",
       "      <td>FamilyExp</td>\n",
       "      <td>GenExp</td>\n",
       "    </tr>\n",
       "    <tr>\n",
       "      <th>1859</th>\n",
       "      <td>9444</td>\n",
       "      <td>Attractions</td>\n",
       "      <td>Arundel</td>\n",
       "      <td>5</td>\n",
       "      <td>A really good day out Our ...</td>\n",
       "      <td>well tended pleasure walk ...</td>\n",
       "      <td>pleasure walk round</td>\n",
       "      <td>[pleasure, walk, round]</td>\n",
       "      <td>Walking&amp;Exp</td>\n",
       "      <td>Walking&amp;Exp</td>\n",
       "    </tr>\n",
       "    <tr>\n",
       "      <th>6905</th>\n",
       "      <td>10311</td>\n",
       "      <td>Attractions</td>\n",
       "      <td>Bognor</td>\n",
       "      <td>5</td>\n",
       "      <td>Private The reason this be...</td>\n",
       "      <td>private part stretch one e...</td>\n",
       "      <td>private part</td>\n",
       "      <td>[part]</td>\n",
       "      <td>Walking&amp;Exp</td>\n",
       "      <td>BeachFac</td>\n",
       "    </tr>\n",
       "    <tr>\n",
       "      <th>5777</th>\n",
       "      <td>10088</td>\n",
       "      <td>Attractions</td>\n",
       "      <td>Littlehampton</td>\n",
       "      <td>5</td>\n",
       "      <td>D&amp;JB Not been here for ove...</td>\n",
       "      <td>promonarrd beach good coul...</td>\n",
       "      <td>promonarrd beach good</td>\n",
       "      <td>[beach]</td>\n",
       "      <td>BeachFac</td>\n",
       "      <td>BeachFac</td>\n",
       "    </tr>\n",
       "    <tr>\n",
       "      <th>4366</th>\n",
       "      <td>9891</td>\n",
       "      <td>Attractions</td>\n",
       "      <td>Arundel</td>\n",
       "      <td>5</td>\n",
       "      <td>Delicious food in cafe  Lo...</td>\n",
       "      <td>delicious food cafe lovely...</td>\n",
       "      <td>delicious food cafe</td>\n",
       "      <td>[food, cafe]</td>\n",
       "      <td>Food</td>\n",
       "      <td>Food</td>\n",
       "    </tr>\n",
       "  </tbody>\n",
       "</table>\n",
       "</div>"
      ],
      "text/plain": [
       "      OrigInd     Category           Town  Rating  \\\n",
       "2988     9648  Attractions        Arundel       5   \n",
       "341      9217  Attractions        Arundel       5   \n",
       "2515     9539  Attractions         Bognor       5   \n",
       "232      9200  Attractions        Arundel       5   \n",
       "4400     9899  Attractions        Arundel       5   \n",
       "3852     9803  Attractions        Arundel       5   \n",
       "1859     9444  Attractions        Arundel       5   \n",
       "6905    10311  Attractions         Bognor       5   \n",
       "5777    10088  Attractions  Littlehampton       5   \n",
       "4366     9891  Attractions        Arundel       5   \n",
       "\n",
       "                           all_text                        cleaned  \\\n",
       "2988  Lovely architecture  Lovel...        cathedral souvenir shop   \n",
       "341   Tea in the Castle after se...  arbor fountain bench lovel...   \n",
       "2515  Best value ever for Cinema...  picturedrome cinema conven...   \n",
       "232   Castle and Keep and Chapel...  everything place oozing hi...   \n",
       "4400  A very curvaceous garden I...  initially met enthusiastic...   \n",
       "3852  Hawk walk We\\nWent yesterd...  bird followed u wood walke...   \n",
       "1859  A really good day out Our ...  well tended pleasure walk ...   \n",
       "6905  Private The reason this be...  private part stretch one e...   \n",
       "5777  D&JB Not been here for ove...  promonarrd beach good coul...   \n",
       "4366  Delicious food in cafe  Lo...  delicious food cafe lovely...   \n",
       "\n",
       "                       noun_phrases                          nouns  \\\n",
       "2988        cathedral souvenir shop               [souvenir, shop]   \n",
       "341            arbor fountain bench       [arbor, fountain, bench]   \n",
       "2515  railway station genuinegem...  [railway, station, genuine...   \n",
       "232         history survival family              [history, family]   \n",
       "4400                    beth chatty                         [beth]   \n",
       "3852              unreal experience                   [experience]   \n",
       "1859            pleasure walk round        [pleasure, walk, round]   \n",
       "6905                   private part                         [part]   \n",
       "5777          promonarrd beach good                        [beach]   \n",
       "4366            delicious food cafe                   [food, cafe]   \n",
       "\n",
       "          Topic Count      Topic TFIDF  \n",
       "2988  Shop&Facilities             Food  \n",
       "341   Gardens&Grounds  Gardens&Grounds  \n",
       "2515          Parking          Parking  \n",
       "232         FamilyExp         PlayArea  \n",
       "4400         VisitExp         VisitExp  \n",
       "3852        FamilyExp           GenExp  \n",
       "1859      Walking&Exp      Walking&Exp  \n",
       "6905      Walking&Exp         BeachFac  \n",
       "5777         BeachFac         BeachFac  \n",
       "4366             Food             Food  "
      ]
     },
     "execution_count": 374,
     "metadata": {},
     "output_type": "execute_result"
    }
   ],
   "source": [
    "pd.set_option('max_colwidth', 30)\n",
    "#attract_predict_final.sample(10)"
   ]
  },
  {
   "cell_type": "markdown",
   "metadata": {},
   "source": [
    "* Both models are struggling with this category\n",
    "* Manual inspection suggests the Topic Count may be slightly better"
   ]
  },
  {
   "cell_type": "markdown",
   "metadata": {},
   "source": [
    "## Predict against new documents - attractions"
   ]
  },
  {
   "cell_type": "code",
   "execution_count": 375,
   "metadata": {
    "scrolled": true
   },
   "outputs": [],
   "source": [
    "# Predict on test set - transform the joined nouns to a vector using the fitted vectorizer and then transform the vector using the fitted nmf weights\n",
    "vec_test3 = cv_attract.transform(attract_nouns_joined_test)\n",
    "predicted_test3 = pd.DataFrame(count_mod3.transform(vec_test3))\n",
    "predicted_test3.columns = [\"VisitExp\",\"Gardens&Grounds\",\"Parking\",\"Attraction\",\"Shop&Facilities\",\"Walking&Exp\",\"Staff\",\"PlayArea\",\"BeachFac\",\"VFM\",\n",
    "                           \"FamilyExp\",\"Food\"]\n",
    "predicted_test3[\"Topic Count\"] = predicted_test3.idxmax(axis=\"columns\")"
   ]
  },
  {
   "cell_type": "code",
   "execution_count": 379,
   "metadata": {
    "scrolled": true
   },
   "outputs": [],
   "source": [
    "# Add the topics to the original dataframe and drop those wheret the noun column has only one word\n",
    "predict_test3_df = pd.DataFrame(df_attract_test[[\"OrigInd\",\"Town\",\"Rating\",\"all_text\",\"cleaned_sentences\",\"noun_phrases\",\"nouns\"]]).reset_index(drop = True)\n",
    "predictions_attract = pd.concat([predict_test3_df,predicted_test3[\"Topic Count\"]],axis = 1,ignore_index = True)\n",
    "predictions_attract.columns = [\"OrigInd\",\"Town\",\"Rating\",\"Sentence\",\"cleaned\",\"noun_phrases\",\"nouns\",\"Topic\"]\n",
    "predictions_attract[\"len\"] = predictions_attract[\"nouns\"].apply(lambda x: len(x))\n",
    "predictions_attract = predictions_attract[predictions_attract[\"len\"]>2]\n",
    "predictions_attract.drop(columns = [\"len\"],axis = 1, inplace = True)\n",
    "#predictions_attract.sample(5)"
   ]
  },
  {
   "cell_type": "code",
   "execution_count": 382,
   "metadata": {},
   "outputs": [
    {
     "data": {
      "text/plain": [
       "PlayArea           37\n",
       "Food               26\n",
       "FamilyExp          21\n",
       "Shop&Facilities    21\n",
       "Gardens&Grounds    17\n",
       "Parking            15\n",
       "BeachFac           14\n",
       "VFM                12\n",
       "Walking&Exp        10\n",
       "Attraction          9\n",
       "VisitExp            9\n",
       "Staff               7\n",
       "Name: Topic, dtype: int64"
      ]
     },
     "execution_count": 382,
     "metadata": {},
     "output_type": "execute_result"
    }
   ],
   "source": [
    "predictions_attract[\"Topic\"].value_counts()"
   ]
  },
  {
   "cell_type": "code",
   "execution_count": 377,
   "metadata": {
    "scrolled": true
   },
   "outputs": [],
   "source": [
    "# Save dataframes to file - choose random sample of 100 items from each to check if the topics make sense\n",
    "predictions_accom.to_csv(\"topicmodels_accom.csv\")\n",
    "predictions_food.to_csv(\"topicmodels_food.csv\")\n",
    "predictions_attract.to_csv(\"topicmodels_attract.csv\")"
   ]
  }
 ],
 "metadata": {
  "celltoolbar": "Raw Cell Format",
  "kernelspec": {
   "display_name": "Python 3",
   "language": "python",
   "name": "python3"
  },
  "language_info": {
   "codemirror_mode": {
    "name": "ipython",
    "version": 3
   },
   "file_extension": ".py",
   "mimetype": "text/x-python",
   "name": "python",
   "nbconvert_exporter": "python",
   "pygments_lexer": "ipython3",
   "version": "3.8.8"
  }
 },
 "nbformat": 4,
 "nbformat_minor": 4
}
