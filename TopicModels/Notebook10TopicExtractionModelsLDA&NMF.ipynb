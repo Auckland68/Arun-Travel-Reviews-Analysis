{
 "cells": [
  {
   "cell_type": "markdown",
   "metadata": {},
   "source": [
    "# Topic Models 1 - Comparison of Topic Models"
   ]
  },
  {
   "cell_type": "markdown",
   "metadata": {},
   "source": [
    "This notebook explores a number of topic modelling algorithms within Gensim and compares them using the coherence measure.\n",
    "\n",
    "* Section 1 - Import libraries and dataset\n",
    "* Section 2 - Data cleaning and pre-processing\n",
    "* Section 3 - Set up Gensim Model\n",
    "* Section 4 - Comparison of Models - LSI, LDA and NMF\n",
    "* Section 5 - Running the Gensim LDA model\n",
    "* Section 6 - Running and evaluating Scikit learn NMF models\n",
    "\n",
    "Dataset need to run notebook:\n",
    "\n",
    "* noun_phrase_exploded.csv\n",
    "\n",
    "Data saved to:\n",
    "\n",
    "* topicmodelsaccom.csv\n",
    "* topicmodelsfood.csv\n",
    "* topicmodelsattract.csv\n"
   ]
  },
  {
   "cell_type": "markdown",
   "metadata": {},
   "source": [
    "# Section 1: Import Libraries and Dataset"
   ]
  },
  {
   "cell_type": "code",
   "execution_count": 1,
   "metadata": {
    "scrolled": true
   },
   "outputs": [
    {
     "name": "stderr",
     "output_type": "stream",
     "text": [
      "[nltk_data] Downloading package stopwords to\n",
      "[nltk_data]     C:\\Users\\imoge\\AppData\\Roaming\\nltk_data...\n",
      "[nltk_data]   Package stopwords is already up-to-date!\n",
      "[nltk_data] Downloading package averaged_perceptron_tagger to\n",
      "[nltk_data]     C:\\Users\\imoge\\AppData\\Roaming\\nltk_data...\n",
      "[nltk_data]   Package averaged_perceptron_tagger is already up-to-\n",
      "[nltk_data]       date!\n"
     ]
    }
   ],
   "source": [
    "import pandas as pd\n",
    "import numpy as np\n",
    "import matplotlib.pyplot as plt\n",
    "import string\n",
    "import nltk\n",
    "nltk.download('stopwords')\n",
    "nltk.download('averaged_perceptron_tagger')\n",
    "from nltk.corpus import stopwords\n",
    "from nltk.util import ngrams\n",
    "import gensim\n",
    "from gensim.models import CoherenceModel, LdaModel, LsiModel, HdpModel,Phrases\n",
    "from gensim.corpora import Dictionary\n",
    "from gensim.models.nmf import Nmf as GensimNmf\n",
    "import pyLDAvis\n",
    "import pyLDAvis.gensim_models as gensimvis\n",
    "pyLDAvis.enable_notebook()\n",
    "from sklearn.feature_extraction.text import CountVectorizer, TfidfVectorizer\n",
    "from sklearn.decomposition import NMF, LatentDirichletAllocation\n",
    "from sklearn.model_selection import GridSearchCV\n",
    "import pyLDAvis.sklearn\n",
    "from sklearn.model_selection import RandomizedSearchCV\n",
    "from collections import Counter\n",
    "import ast\n",
    "import pickle\n",
    "import warnings\n",
    "import re\n",
    "warnings.filterwarnings(\"ignore\")\n",
    "import os\n",
    "%matplotlib inline"
   ]
  },
  {
   "cell_type": "code",
   "execution_count": 29,
   "metadata": {
    "scrolled": true
   },
   "outputs": [
    {
     "data": {
      "text/html": [
       "<div>\n",
       "<style scoped>\n",
       "    .dataframe tbody tr th:only-of-type {\n",
       "        vertical-align: middle;\n",
       "    }\n",
       "\n",
       "    .dataframe tbody tr th {\n",
       "        vertical-align: top;\n",
       "    }\n",
       "\n",
       "    .dataframe thead th {\n",
       "        text-align: right;\n",
       "    }\n",
       "</style>\n",
       "<table border=\"1\" class=\"dataframe\">\n",
       "  <thead>\n",
       "    <tr style=\"text-align: right;\">\n",
       "      <th></th>\n",
       "      <th>OrigInd</th>\n",
       "      <th>Category</th>\n",
       "      <th>Town</th>\n",
       "      <th>Rating</th>\n",
       "      <th>all_text</th>\n",
       "      <th>sentences</th>\n",
       "      <th>cleaned_sentences</th>\n",
       "      <th>noun_phrases</th>\n",
       "    </tr>\n",
       "  </thead>\n",
       "  <tbody>\n",
       "    <tr>\n",
       "      <th>0</th>\n",
       "      <td>0</td>\n",
       "      <td>Accommodation</td>\n",
       "      <td>Bognor</td>\n",
       "      <td>4</td>\n",
       "      <td>Nice break, shame about the accommodation... W...</td>\n",
       "      <td>Nice break, shame about the accommodation... W...</td>\n",
       "      <td>nice break shame accommodation booked night st...</td>\n",
       "      <td>shame accommodation</td>\n",
       "    </tr>\n",
       "    <tr>\n",
       "      <th>1</th>\n",
       "      <td>0</td>\n",
       "      <td>Accommodation</td>\n",
       "      <td>Bognor</td>\n",
       "      <td>4</td>\n",
       "      <td>Nice break, shame about the accommodation... W...</td>\n",
       "      <td>Nice break, shame about the accommodation... W...</td>\n",
       "      <td>nice break shame accommodation booked night st...</td>\n",
       "      <td>night stay december post-christmas</td>\n",
       "    </tr>\n",
       "  </tbody>\n",
       "</table>\n",
       "</div>"
      ],
      "text/plain": [
       "   OrigInd       Category    Town  Rating  \\\n",
       "0        0  Accommodation  Bognor       4   \n",
       "1        0  Accommodation  Bognor       4   \n",
       "\n",
       "                                            all_text  \\\n",
       "0  Nice break, shame about the accommodation... W...   \n",
       "1  Nice break, shame about the accommodation... W...   \n",
       "\n",
       "                                           sentences  \\\n",
       "0  Nice break, shame about the accommodation... W...   \n",
       "1  Nice break, shame about the accommodation... W...   \n",
       "\n",
       "                                   cleaned_sentences  \\\n",
       "0  nice break shame accommodation booked night st...   \n",
       "1  nice break shame accommodation booked night st...   \n",
       "\n",
       "                         noun_phrases  \n",
       "0                 shame accommodation  \n",
       "1  night stay december post-christmas  "
      ]
     },
     "execution_count": 29,
     "metadata": {},
     "output_type": "execute_result"
    }
   ],
   "source": [
    "# Bring in data from the aspect extraction - keywords notebook\n",
    "df = pd.read_csv(\"noun_phrase_exploded.csv\")\n",
    "df.drop(columns = [\"Unnamed: 0\"],axis = 1,inplace = True)\n",
    "df.drop(columns = [\"len\"],axis = 1,inplace = True)\n",
    "df.head(2)"
   ]
  },
  {
   "cell_type": "code",
   "execution_count": 30,
   "metadata": {
    "scrolled": true
   },
   "outputs": [
    {
     "data": {
      "text/plain": [
       "Index(['OrigInd', 'Category', 'Town', 'Rating', 'all_text', 'sentences',\n",
       "       'cleaned_sentences', 'noun_phrases'],\n",
       "      dtype='object')"
      ]
     },
     "execution_count": 30,
     "metadata": {},
     "output_type": "execute_result"
    }
   ],
   "source": [
    "df.columns"
   ]
  },
  {
   "cell_type": "code",
   "execution_count": 31,
   "metadata": {
    "scrolled": true
   },
   "outputs": [
    {
     "data": {
      "text/html": [
       "<div>\n",
       "<style scoped>\n",
       "    .dataframe tbody tr th:only-of-type {\n",
       "        vertical-align: middle;\n",
       "    }\n",
       "\n",
       "    .dataframe tbody tr th {\n",
       "        vertical-align: top;\n",
       "    }\n",
       "\n",
       "    .dataframe thead th {\n",
       "        text-align: right;\n",
       "    }\n",
       "</style>\n",
       "<table border=\"1\" class=\"dataframe\">\n",
       "  <thead>\n",
       "    <tr style=\"text-align: right;\">\n",
       "      <th></th>\n",
       "      <th>OrigInd</th>\n",
       "      <th>cleaned_sentences</th>\n",
       "      <th>noun_phrases</th>\n",
       "    </tr>\n",
       "  </thead>\n",
       "  <tbody>\n",
       "    <tr>\n",
       "      <th>0</th>\n",
       "      <td>0</td>\n",
       "      <td>nice break shame accommodation booked night st...</td>\n",
       "      <td>shame accommodation</td>\n",
       "    </tr>\n",
       "    <tr>\n",
       "      <th>1</th>\n",
       "      <td>0</td>\n",
       "      <td>nice break shame accommodation booked night st...</td>\n",
       "      <td>night stay december post-christmas</td>\n",
       "    </tr>\n",
       "    <tr>\n",
       "      <th>2</th>\n",
       "      <td>0</td>\n",
       "      <td>nice break shame accommodation booked night st...</td>\n",
       "      <td>family adult kid</td>\n",
       "    </tr>\n",
       "    <tr>\n",
       "      <th>3</th>\n",
       "      <td>0</td>\n",
       "      <td>would never not really sure expect review eith...</td>\n",
       "      <td>good terrible</td>\n",
       "    </tr>\n",
       "    <tr>\n",
       "      <th>4</th>\n",
       "      <td>0</td>\n",
       "      <td>would never not really sure expect review eith...</td>\n",
       "      <td>usual choice</td>\n",
       "    </tr>\n",
       "    <tr>\n",
       "      <th>5</th>\n",
       "      <td>0</td>\n",
       "      <td>first impression not good we arrived parked ca...</td>\n",
       "      <td>car park</td>\n",
       "    </tr>\n",
       "    <tr>\n",
       "      <th>6</th>\n",
       "      <td>0</td>\n",
       "      <td>first impression not good we arrived parked ca...</td>\n",
       "      <td>apartment furthest distance</td>\n",
       "    </tr>\n",
       "    <tr>\n",
       "      <th>7</th>\n",
       "      <td>0</td>\n",
       "      <td>bearing mind people apartment obviously self-c...</td>\n",
       "      <td>mind people apartment</td>\n",
       "    </tr>\n",
       "    <tr>\n",
       "      <th>8</th>\n",
       "      <td>0</td>\n",
       "      <td>bearing mind people apartment obviously self-c...</td>\n",
       "      <td>ton stuff haul room</td>\n",
       "    </tr>\n",
       "    <tr>\n",
       "      <th>9</th>\n",
       "      <td>0</td>\n",
       "      <td>bearing mind people apartment obviously self-c...</td>\n",
       "      <td>available nearer part resort</td>\n",
       "    </tr>\n",
       "  </tbody>\n",
       "</table>\n",
       "</div>"
      ],
      "text/plain": [
       "   OrigInd                                  cleaned_sentences  \\\n",
       "0        0  nice break shame accommodation booked night st...   \n",
       "1        0  nice break shame accommodation booked night st...   \n",
       "2        0  nice break shame accommodation booked night st...   \n",
       "3        0  would never not really sure expect review eith...   \n",
       "4        0  would never not really sure expect review eith...   \n",
       "5        0  first impression not good we arrived parked ca...   \n",
       "6        0  first impression not good we arrived parked ca...   \n",
       "7        0  bearing mind people apartment obviously self-c...   \n",
       "8        0  bearing mind people apartment obviously self-c...   \n",
       "9        0  bearing mind people apartment obviously self-c...   \n",
       "\n",
       "                         noun_phrases  \n",
       "0                 shame accommodation  \n",
       "1  night stay december post-christmas  \n",
       "2                    family adult kid  \n",
       "3                       good terrible  \n",
       "4                        usual choice  \n",
       "5                            car park  \n",
       "6         apartment furthest distance  \n",
       "7               mind people apartment  \n",
       "8                 ton stuff haul room  \n",
       "9        available nearer part resort  "
      ]
     },
     "execution_count": 31,
     "metadata": {},
     "output_type": "execute_result"
    }
   ],
   "source": [
    "df[[\"OrigInd\",\"cleaned_sentences\",\"noun_phrases\"]].head(10)"
   ]
  },
  {
   "cell_type": "markdown",
   "metadata": {},
   "source": [
    "# Section 2: Data Cleaning and Pre-processing"
   ]
  },
  {
   "cell_type": "code",
   "execution_count": 32,
   "metadata": {
    "scrolled": true
   },
   "outputs": [],
   "source": [
    "# Get parts of speech, noun phrases and nouns\n",
    "df['pos'] = df[\"noun_phrases\"].apply(lambda x:nltk.tag.pos_tag(x.split()))\n",
    "df['nouns'] = df['pos'].apply(lambda x: [i[0] for i in x if i[1].startswith('N')])"
   ]
  },
  {
   "cell_type": "code",
   "execution_count": 33,
   "metadata": {
    "scrolled": true
   },
   "outputs": [
    {
     "data": {
      "text/plain": [
       "[('hot', 'JJ'), ('delicious', 'JJ')]"
      ]
     },
     "execution_count": 33,
     "metadata": {},
     "output_type": "execute_result"
    }
   ],
   "source": [
    "tokens = nltk.word_tokenize(\"hot delicious\")\n",
    "nltk.pos_tag(tokens)"
   ]
  },
  {
   "cell_type": "code",
   "execution_count": 34,
   "metadata": {
    "scrolled": true
   },
   "outputs": [
    {
     "data": {
      "text/html": [
       "<div>\n",
       "<style scoped>\n",
       "    .dataframe tbody tr th:only-of-type {\n",
       "        vertical-align: middle;\n",
       "    }\n",
       "\n",
       "    .dataframe tbody tr th {\n",
       "        vertical-align: top;\n",
       "    }\n",
       "\n",
       "    .dataframe thead th {\n",
       "        text-align: right;\n",
       "    }\n",
       "</style>\n",
       "<table border=\"1\" class=\"dataframe\">\n",
       "  <thead>\n",
       "    <tr style=\"text-align: right;\">\n",
       "      <th></th>\n",
       "      <th>cleaned_sentences</th>\n",
       "      <th>noun_phrases</th>\n",
       "      <th>nouns</th>\n",
       "    </tr>\n",
       "  </thead>\n",
       "  <tbody>\n",
       "    <tr>\n",
       "      <th>0</th>\n",
       "      <td>nice break shame accommodation booked night st...</td>\n",
       "      <td>shame accommodation</td>\n",
       "      <td>[shame, accommodation]</td>\n",
       "    </tr>\n",
       "    <tr>\n",
       "      <th>1</th>\n",
       "      <td>nice break shame accommodation booked night st...</td>\n",
       "      <td>night stay december post-christmas</td>\n",
       "      <td>[night, post-christmas]</td>\n",
       "    </tr>\n",
       "    <tr>\n",
       "      <th>2</th>\n",
       "      <td>nice break shame accommodation booked night st...</td>\n",
       "      <td>family adult kid</td>\n",
       "      <td>[family, adult, kid]</td>\n",
       "    </tr>\n",
       "    <tr>\n",
       "      <th>3</th>\n",
       "      <td>would never not really sure expect review eith...</td>\n",
       "      <td>good terrible</td>\n",
       "      <td>[terrible]</td>\n",
       "    </tr>\n",
       "    <tr>\n",
       "      <th>4</th>\n",
       "      <td>would never not really sure expect review eith...</td>\n",
       "      <td>usual choice</td>\n",
       "      <td>[choice]</td>\n",
       "    </tr>\n",
       "  </tbody>\n",
       "</table>\n",
       "</div>"
      ],
      "text/plain": [
       "                                   cleaned_sentences  \\\n",
       "0  nice break shame accommodation booked night st...   \n",
       "1  nice break shame accommodation booked night st...   \n",
       "2  nice break shame accommodation booked night st...   \n",
       "3  would never not really sure expect review eith...   \n",
       "4  would never not really sure expect review eith...   \n",
       "\n",
       "                         noun_phrases                    nouns  \n",
       "0                 shame accommodation   [shame, accommodation]  \n",
       "1  night stay december post-christmas  [night, post-christmas]  \n",
       "2                    family adult kid     [family, adult, kid]  \n",
       "3                       good terrible               [terrible]  \n",
       "4                        usual choice                 [choice]  "
      ]
     },
     "execution_count": 34,
     "metadata": {},
     "output_type": "execute_result"
    }
   ],
   "source": [
    "# Look at examples - nouns are effectively fine-grained aspects\n",
    "df[[\"cleaned_sentences\",\"noun_phrases\",\"nouns\"]].head()"
   ]
  },
  {
   "cell_type": "code",
   "execution_count": 36,
   "metadata": {
    "scrolled": true
   },
   "outputs": [
    {
     "data": {
      "text/plain": [
       "(1225, 10)"
      ]
     },
     "execution_count": 36,
     "metadata": {},
     "output_type": "execute_result"
    }
   ],
   "source": [
    "# Check to find how many rows have empty lists\n",
    "result = df[df.astype(str)['nouns'] == '[]']\n",
    "result.shape"
   ]
  },
  {
   "cell_type": "code",
   "execution_count": 37,
   "metadata": {
    "scrolled": true
   },
   "outputs": [
    {
     "data": {
      "text/html": [
       "<div>\n",
       "<style scoped>\n",
       "    .dataframe tbody tr th:only-of-type {\n",
       "        vertical-align: middle;\n",
       "    }\n",
       "\n",
       "    .dataframe tbody tr th {\n",
       "        vertical-align: top;\n",
       "    }\n",
       "\n",
       "    .dataframe thead th {\n",
       "        text-align: right;\n",
       "    }\n",
       "</style>\n",
       "<table border=\"1\" class=\"dataframe\">\n",
       "  <thead>\n",
       "    <tr style=\"text-align: right;\">\n",
       "      <th></th>\n",
       "      <th>all_text</th>\n",
       "      <th>cleaned_sentences</th>\n",
       "      <th>noun_phrases</th>\n",
       "      <th>pos</th>\n",
       "      <th>nouns</th>\n",
       "    </tr>\n",
       "  </thead>\n",
       "  <tbody>\n",
       "    <tr>\n",
       "      <th>8570</th>\n",
       "      <td>We need a Butlins abroad! We need a Butlins ab...</td>\n",
       "      <td>thing need improve queue centre stage red queu...</td>\n",
       "      <td>funny british</td>\n",
       "      <td>[(funny, JJ), (british, JJ)]</td>\n",
       "      <td>[]</td>\n",
       "    </tr>\n",
       "    <tr>\n",
       "      <th>875</th>\n",
       "      <td>BUTLINS HALLOWEEN AND FIREWORKS 3 Day break We...</td>\n",
       "      <td>halloween firework break stayed ocean hotel la...</td>\n",
       "      <td>ready 1.</td>\n",
       "      <td>[(ready, JJ), (1., CD)]</td>\n",
       "      <td>[]</td>\n",
       "    </tr>\n",
       "    <tr>\n",
       "      <th>41230</th>\n",
       "      <td>Lovely lunch!  My friend and I visited for lun...</td>\n",
       "      <td>love food staff always seem friendly polite</td>\n",
       "      <td>friendly polite</td>\n",
       "      <td>[(friendly, RB), (polite, JJ)]</td>\n",
       "      <td>[]</td>\n",
       "    </tr>\n",
       "    <tr>\n",
       "      <th>27121</th>\n",
       "      <td>Fabulous Sunday Roast We have just returned fr...</td>\n",
       "      <td>great experience lovely atmosphere really warm...</td>\n",
       "      <td>lovely atmosphere</td>\n",
       "      <td>[(lovely, RB), (atmosphere, JJ)]</td>\n",
       "      <td>[]</td>\n",
       "    </tr>\n",
       "    <tr>\n",
       "      <th>36233</th>\n",
       "      <td>Menu to suit all  Had a lovely meal at 47 Muss...</td>\n",
       "      <td>menu suit lovely meal mussel row last night fo...</td>\n",
       "      <td>friendly polite</td>\n",
       "      <td>[(friendly, RB), (polite, JJ)]</td>\n",
       "      <td>[]</td>\n",
       "    </tr>\n",
       "    <tr>\n",
       "      <th>50281</th>\n",
       "      <td>Delicious food and a warm friendly welcome. We...</td>\n",
       "      <td>visited saturday lunchtime february lovely riv...</td>\n",
       "      <td>saturday lunchtime february</td>\n",
       "      <td>[(saturday, JJ), (lunchtime, VBD), (february, ...</td>\n",
       "      <td>[]</td>\n",
       "    </tr>\n",
       "    <tr>\n",
       "      <th>48417</th>\n",
       "      <td>Dog friendly and warm Really appreciated a dog...</td>\n",
       "      <td>would not minded semi skimmed milk option hot ...</td>\n",
       "      <td>hot overall</td>\n",
       "      <td>[(hot, JJ), (overall, JJ)]</td>\n",
       "      <td>[]</td>\n",
       "    </tr>\n",
       "    <tr>\n",
       "      <th>64528</th>\n",
       "      <td>Lovely drink Stopped here for a drink mid afte...</td>\n",
       "      <td>lovely drink stopped drink mid afternoon</td>\n",
       "      <td>lovely drink</td>\n",
       "      <td>[(lovely, RB), (drink, VB)]</td>\n",
       "      <td>[]</td>\n",
       "    </tr>\n",
       "    <tr>\n",
       "      <th>71544</th>\n",
       "      <td>Buffet for a wake We cannot speak highly enoug...</td>\n",
       "      <td>liaised abbie helpful speedy getting back u</td>\n",
       "      <td>abbie helpful</td>\n",
       "      <td>[(abbie, RB), (helpful, JJ)]</td>\n",
       "      <td>[]</td>\n",
       "    </tr>\n",
       "    <tr>\n",
       "      <th>45150</th>\n",
       "      <td>Fantastic! We had a fantastic dinner at The Ch...</td>\n",
       "      <td>one best meal experience long lovely setting</td>\n",
       "      <td>long lovely setting</td>\n",
       "      <td>[(long, RB), (lovely, RB), (setting, VBG)]</td>\n",
       "      <td>[]</td>\n",
       "    </tr>\n",
       "  </tbody>\n",
       "</table>\n",
       "</div>"
      ],
      "text/plain": [
       "                                                all_text  \\\n",
       "8570   We need a Butlins abroad! We need a Butlins ab...   \n",
       "875    BUTLINS HALLOWEEN AND FIREWORKS 3 Day break We...   \n",
       "41230  Lovely lunch!  My friend and I visited for lun...   \n",
       "27121  Fabulous Sunday Roast We have just returned fr...   \n",
       "36233  Menu to suit all  Had a lovely meal at 47 Muss...   \n",
       "50281  Delicious food and a warm friendly welcome. We...   \n",
       "48417  Dog friendly and warm Really appreciated a dog...   \n",
       "64528  Lovely drink Stopped here for a drink mid afte...   \n",
       "71544  Buffet for a wake We cannot speak highly enoug...   \n",
       "45150  Fantastic! We had a fantastic dinner at The Ch...   \n",
       "\n",
       "                                       cleaned_sentences  \\\n",
       "8570   thing need improve queue centre stage red queu...   \n",
       "875    halloween firework break stayed ocean hotel la...   \n",
       "41230        love food staff always seem friendly polite   \n",
       "27121  great experience lovely atmosphere really warm...   \n",
       "36233  menu suit lovely meal mussel row last night fo...   \n",
       "50281  visited saturday lunchtime february lovely riv...   \n",
       "48417  would not minded semi skimmed milk option hot ...   \n",
       "64528           lovely drink stopped drink mid afternoon   \n",
       "71544        liaised abbie helpful speedy getting back u   \n",
       "45150       one best meal experience long lovely setting   \n",
       "\n",
       "                      noun_phrases  \\\n",
       "8570                 funny british   \n",
       "875                       ready 1.   \n",
       "41230              friendly polite   \n",
       "27121            lovely atmosphere   \n",
       "36233              friendly polite   \n",
       "50281  saturday lunchtime february   \n",
       "48417                  hot overall   \n",
       "64528                 lovely drink   \n",
       "71544                abbie helpful   \n",
       "45150          long lovely setting   \n",
       "\n",
       "                                                     pos nouns  \n",
       "8570                        [(funny, JJ), (british, JJ)]    []  \n",
       "875                              [(ready, JJ), (1., CD)]    []  \n",
       "41230                     [(friendly, RB), (polite, JJ)]    []  \n",
       "27121                   [(lovely, RB), (atmosphere, JJ)]    []  \n",
       "36233                     [(friendly, RB), (polite, JJ)]    []  \n",
       "50281  [(saturday, JJ), (lunchtime, VBD), (february, ...    []  \n",
       "48417                         [(hot, JJ), (overall, JJ)]    []  \n",
       "64528                        [(lovely, RB), (drink, VB)]    []  \n",
       "71544                       [(abbie, RB), (helpful, JJ)]    []  \n",
       "45150         [(long, RB), (lovely, RB), (setting, VBG)]    []  "
      ]
     },
     "execution_count": 37,
     "metadata": {},
     "output_type": "execute_result"
    }
   ],
   "source": [
    "# Have a look at what words are causing the problems - basically implicit aspects\n",
    "result[[\"all_text\",\"cleaned_sentences\",\"noun_phrases\",\"pos\",\"nouns\"]].sample(10)"
   ]
  },
  {
   "cell_type": "code",
   "execution_count": 38,
   "metadata": {
    "scrolled": true
   },
   "outputs": [],
   "source": [
    "# Analyse\n",
    "result[\"test\"] = result[\"noun_phrases\"].apply(lambda x: x.split())\n",
    "result[\"combined\"] = result[\"test\"].apply(lambda x: ngrams(x,2))\n",
    "result[\"word_count\"] = result[\"combined\"].apply(Counter)\n",
    "result_df = pd.DataFrame(result[\"word_count\"].sum().most_common(),columns = [\"Word\",\"Count\"])"
   ]
  },
  {
   "cell_type": "code",
   "execution_count": 39,
   "metadata": {
    "scrolled": true
   },
   "outputs": [
    {
     "data": {
      "text/html": [
       "<div>\n",
       "<style scoped>\n",
       "    .dataframe tbody tr th:only-of-type {\n",
       "        vertical-align: middle;\n",
       "    }\n",
       "\n",
       "    .dataframe tbody tr th {\n",
       "        vertical-align: top;\n",
       "    }\n",
       "\n",
       "    .dataframe thead th {\n",
       "        text-align: right;\n",
       "    }\n",
       "</style>\n",
       "<table border=\"1\" class=\"dataframe\">\n",
       "  <thead>\n",
       "    <tr style=\"text-align: right;\">\n",
       "      <th></th>\n",
       "      <th>Word</th>\n",
       "      <th>Count</th>\n",
       "    </tr>\n",
       "  </thead>\n",
       "  <tbody>\n",
       "    <tr>\n",
       "      <th>0</th>\n",
       "      <td>(friendly, helpful)</td>\n",
       "      <td>262</td>\n",
       "    </tr>\n",
       "    <tr>\n",
       "      <th>1</th>\n",
       "      <td>(lovely, atmosphere)</td>\n",
       "      <td>61</td>\n",
       "    </tr>\n",
       "    <tr>\n",
       "      <th>2</th>\n",
       "      <td>(friendly, attentive)</td>\n",
       "      <td>54</td>\n",
       "    </tr>\n",
       "    <tr>\n",
       "      <th>3</th>\n",
       "      <td>(nice, atmosphere)</td>\n",
       "      <td>45</td>\n",
       "    </tr>\n",
       "    <tr>\n",
       "      <th>4</th>\n",
       "      <td>(lovely, evening)</td>\n",
       "      <td>42</td>\n",
       "    </tr>\n",
       "    <tr>\n",
       "      <th>5</th>\n",
       "      <td>(friendly, polite)</td>\n",
       "      <td>25</td>\n",
       "    </tr>\n",
       "    <tr>\n",
       "      <th>6</th>\n",
       "      <td>(friendly, atmosphere)</td>\n",
       "      <td>24</td>\n",
       "    </tr>\n",
       "    <tr>\n",
       "      <th>7</th>\n",
       "      <td>(lovely, touch)</td>\n",
       "      <td>20</td>\n",
       "    </tr>\n",
       "    <tr>\n",
       "      <th>8</th>\n",
       "      <td>(lovely, setting)</td>\n",
       "      <td>17</td>\n",
       "    </tr>\n",
       "    <tr>\n",
       "      <th>9</th>\n",
       "      <td>(lovely, cafe)</td>\n",
       "      <td>14</td>\n",
       "    </tr>\n",
       "  </tbody>\n",
       "</table>\n",
       "</div>"
      ],
      "text/plain": [
       "                     Word  Count\n",
       "0     (friendly, helpful)    262\n",
       "1    (lovely, atmosphere)     61\n",
       "2   (friendly, attentive)     54\n",
       "3      (nice, atmosphere)     45\n",
       "4       (lovely, evening)     42\n",
       "5      (friendly, polite)     25\n",
       "6  (friendly, atmosphere)     24\n",
       "7         (lovely, touch)     20\n",
       "8       (lovely, setting)     17\n",
       "9          (lovely, cafe)     14"
      ]
     },
     "execution_count": 39,
     "metadata": {},
     "output_type": "execute_result"
    }
   ],
   "source": [
    "result_df.sort_values(by = \"Count\",ascending = False).head(10)"
   ]
  },
  {
   "cell_type": "markdown",
   "metadata": {},
   "source": [
    "The most common words appear to be combinations of two adjectives 'friendly helpful', or instances where a word is not correctly recognised as a noun 'lovely evening' or 'lovely setting'. The term 'friendly helpful' is clearly talking about staff but this word is not present in the noun-phrase, possibly because it is caught up within the previous noun-phrase for this sentence in the overall review. These are in effect implicit aspects.\n",
    "\n",
    "The cases where the second word is not recognised as a noun could be corrected fairly easily. However, the phrases comprised of two adjectives or a verb and adjective or verb and verb are more tricky.\n",
    "\n",
    "Decision made to drop these items from the data"
   ]
  },
  {
   "cell_type": "code",
   "execution_count": 40,
   "metadata": {
    "scrolled": true
   },
   "outputs": [
    {
     "data": {
      "text/plain": [
       "(79073, 9)"
      ]
     },
     "execution_count": 40,
     "metadata": {},
     "output_type": "execute_result"
    }
   ],
   "source": [
    "# Drop empty lists\n",
    "df2 = df[df.astype(str)['nouns'] != '[]']\n",
    "df2.drop(columns = [\"pos\"],axis = 1,inplace = True)\n",
    "df2.shape"
   ]
  },
  {
   "cell_type": "code",
   "execution_count": 41,
   "metadata": {
    "scrolled": true
   },
   "outputs": [
    {
     "name": "stdout",
     "output_type": "stream",
     "text": [
      "(26664, 9) (44047, 9) (8362, 9)\n"
     ]
    }
   ],
   "source": [
    "# Split into categories\n",
    "dfaccom = df2[df2[\"Category\"]==\"Accommodation\"]\n",
    "dffood = df2[df2[\"Category\"]==\"Food\"]\n",
    "dfattract = df2[df2[\"Category\"] ==\"Attractions\"]\n",
    "print(dfaccom.shape,dffood.shape,dfattract.shape)"
   ]
  },
  {
   "cell_type": "code",
   "execution_count": 42,
   "metadata": {
    "scrolled": true
   },
   "outputs": [],
   "source": [
    "# Extract a sample to test the topic models\n",
    "def samp(df):\n",
    "    s = np.random.rand(len(df)) < 0.8\n",
    "    df_train = df[s]\n",
    "    df_test = df[~s]\n",
    "    return df_train,df_test"
   ]
  },
  {
   "cell_type": "code",
   "execution_count": 43,
   "metadata": {
    "scrolled": true
   },
   "outputs": [],
   "source": [
    "# Run function\n",
    "train_test_accom = samp(dfaccom)\n",
    "train_test_food = samp(dffood)\n",
    "train_test_attract = samp(dfattract)"
   ]
  },
  {
   "cell_type": "code",
   "execution_count": 44,
   "metadata": {
    "scrolled": true
   },
   "outputs": [],
   "source": [
    "# Extract training and test sets\n",
    "df_accom = train_test_accom[0]\n",
    "df_food = train_test_food[0]\n",
    "df_attract = train_test_attract[0]\n",
    "\n",
    "df_accom_test = train_test_accom[1]\n",
    "df_food_test = train_test_food[1]\n",
    "df_attract_test = train_test_attract[1]"
   ]
  },
  {
   "cell_type": "code",
   "execution_count": 45,
   "metadata": {
    "scrolled": true
   },
   "outputs": [],
   "source": [
    "# Extract nouns from training and test sets\n",
    "accom_nouns = df_accom[\"nouns\"]\n",
    "food_nouns = df_food[\"nouns\"]\n",
    "attract_nouns = df_attract[\"nouns\"]\n",
    "\n",
    "accom_nouns_test = df_accom_test[\"nouns\"]\n",
    "food_nouns_test = df_food_test[\"nouns\"]\n",
    "attract_nouns_test = df_attract_test[\"nouns\"]"
   ]
  },
  {
   "cell_type": "code",
   "execution_count": 46,
   "metadata": {
    "scrolled": true
   },
   "outputs": [
    {
     "data": {
      "text/plain": [
       "71828            [garden, winter]\n",
       "71829              [garden, walk]\n",
       "71830             [garden, visit]\n",
       "71831                    [autumn]\n",
       "71832            [plenty, flower]\n",
       "71833    [ground, wonder, behold]\n",
       "71834                    [garden]\n",
       "71835                [experience]\n",
       "71836              [latte, taste]\n",
       "71837                     [water]\n",
       "Name: nouns, dtype: object"
      ]
     },
     "execution_count": 46,
     "metadata": {},
     "output_type": "execute_result"
    }
   ],
   "source": [
    "attract_nouns.head(10)"
   ]
  },
  {
   "cell_type": "code",
   "execution_count": 15,
   "metadata": {
    "scrolled": true
   },
   "outputs": [],
   "source": [
    "# Implode dataframe back to sentence level from noun phrase level\n",
    "#df_comb = df.groupby([\"OrigInd\",\"Category\",\"Town\",\"Rating\",\"all_text\",\"sentences\",\"cleaned_sentences\"]).agg({'noun_phrases':lambda x: \" \".join(x)}).rename({'noun_phrases':'sentence'},axis = 1).reset_index()\n",
    "#df_comb.drop(columns = [\"sentence\"],axis = 1,inplace = True)"
   ]
  },
  {
   "cell_type": "markdown",
   "metadata": {},
   "source": [
    "# Section 3: Create BOW and Dictionaries for Gensim Topic Model"
   ]
  },
  {
   "cell_type": "markdown",
   "metadata": {},
   "source": [
    "Note: Gensim is used as it is easier to compare models using coherence and much quicker to run on larger datasets with limited compute resources"
   ]
  },
  {
   "cell_type": "code",
   "execution_count": 47,
   "metadata": {
    "scrolled": true
   },
   "outputs": [],
   "source": [
    "# Functions to extract bigrams\n",
    "def make_bigrams(texts):\n",
    "    bigram = gensim.models.Phrases(texts,min_count = 1,threshold = 1)\n",
    "    bigram_mod = gensim.models.phrases.Phraser(bigram)\n",
    "    return [bigram_mod[doc] for doc in texts]"
   ]
  },
  {
   "cell_type": "code",
   "execution_count": 48,
   "metadata": {
    "scrolled": true
   },
   "outputs": [],
   "source": [
    "# Run function for training set\n",
    "accom_nouns_bigrams = make_bigrams(accom_nouns)\n",
    "food_nouns_bigrams = make_bigrams(food_nouns)\n",
    "attract_nouns_bigrams = make_bigrams(attract_nouns)\n",
    "\n",
    "# Run function for test set\n",
    "accom_test_bigrams = make_bigrams(accom_nouns_test)\n",
    "food_test_bigrams = make_bigrams(food_nouns_test)\n",
    "attract_test_bigrams = make_bigrams(attract_nouns_test)"
   ]
  },
  {
   "cell_type": "code",
   "execution_count": 49,
   "metadata": {
    "scrolled": true
   },
   "outputs": [
    {
     "name": "stdout",
     "output_type": "stream",
     "text": [
      "[['setting'], ['dinner', 'eaten'], ['fruit', 'watery', 'base'], ['porridge', 'oat'], ['couple_table'], ['group'], ['plate', 'rest'], ['member_group'], ['lunch_date', 'friend'], ['setting']]\n"
     ]
    }
   ],
   "source": [
    "# Print first ten items of bigrams\n",
    "print(food_nouns_bigrams[20:30])"
   ]
  },
  {
   "cell_type": "code",
   "execution_count": 50,
   "metadata": {
    "scrolled": true
   },
   "outputs": [],
   "source": [
    "# Function to create dictionary and bow corpus for each category, filtering words that occur in more than 98% \n",
    "# documents and less than 2 documents, keep n = None to keep all the tokens in the dictionary as the dataset is pruned to just nouns anyway.\n",
    "\n",
    "def run_topic(df):\n",
    "    dictionary = gensim.corpora.Dictionary(df)\n",
    "    dictionary.filter_extremes(no_below = 0.98, no_above = 2, keep_n = None)\n",
    "    bow_corpus = [dictionary.doc2bow(doc) for doc in df]\n",
    "    return dictionary,bow_corpus\n"
   ]
  },
  {
   "cell_type": "code",
   "execution_count": 51,
   "metadata": {
    "scrolled": true
   },
   "outputs": [],
   "source": [
    "# Create dictionaries and corpi for unigrams\n",
    "accom_dict, accom_bow = run_topic(accom_nouns)\n",
    "food_dict, food_bow = run_topic(food_nouns)\n",
    "attract_dict, attract_bow = run_topic(attract_nouns)"
   ]
  },
  {
   "cell_type": "code",
   "execution_count": 52,
   "metadata": {
    "scrolled": true
   },
   "outputs": [
    {
     "name": "stdout",
     "output_type": "stream",
     "text": [
      "4353 5317 2565\n"
     ]
    }
   ],
   "source": [
    "print(len(accom_dict),len(food_dict),len(attract_dict))"
   ]
  },
  {
   "cell_type": "code",
   "execution_count": 53,
   "metadata": {
    "scrolled": true
   },
   "outputs": [],
   "source": [
    "# Create dictionaries and corpi for bigrams\n",
    "accom_dict_big, accom_bow_big = run_topic(accom_nouns_bigrams)\n",
    "food_dict_big, food_bow_big = run_topic(food_nouns_bigrams)\n",
    "attract_dict_big, attract_bow_big = run_topic(attract_nouns_bigrams)"
   ]
  },
  {
   "cell_type": "code",
   "execution_count": 54,
   "metadata": {
    "scrolled": true
   },
   "outputs": [
    {
     "name": "stdout",
     "output_type": "stream",
     "text": [
      "[[('staff', 1)], [('frites', 1), ('pie', 1), ('steak', 1)], [('curry', 1), ('problem', 1)], [('lunch', 1)], [('food', 1), ('quality', 1), ('review', 1)], [('bit', 1), ('competent', 1), ('mash', 1), ('menu', 1)], [('food', 1), ('quality', 1)], [('lack', 1), ('specialisation', 1)], [('staff', 1), ('attentive', 1)], [('problem', 1), ('review', 1)]]\n"
     ]
    }
   ],
   "source": [
    "# Look at an example item with word and frequencies\n",
    "print([[(food_dict[id], freq) for id, freq in cp] for cp in food_bow[:10]])"
   ]
  },
  {
   "cell_type": "markdown",
   "metadata": {},
   "source": [
    "# Section 4: Comparing Gensim Bigram Models with 15 topics"
   ]
  },
  {
   "cell_type": "markdown",
   "metadata": {},
   "source": [
    "### Latent Semantic Indexing"
   ]
  },
  {
   "cell_type": "code",
   "execution_count": 66,
   "metadata": {
    "scrolled": true
   },
   "outputs": [],
   "source": [
    "# Set random number of topics as a starting point to compare the gensim models\n",
    "num_topics = 5"
   ]
  },
  {
   "cell_type": "code",
   "execution_count": 67,
   "metadata": {
    "scrolled": true
   },
   "outputs": [],
   "source": [
    "# Function to run LSI Model\n",
    "def lsi(corpus, num_topics,dictionary):\n",
    "    lsi_model = LsiModel(corpus = corpus,num_topics = num_topics, id2word = dictionary, chunksize = 500)\n",
    "    return lsi_model"
   ]
  },
  {
   "cell_type": "code",
   "execution_count": 68,
   "metadata": {
    "scrolled": true
   },
   "outputs": [],
   "source": [
    "# run function for each category\n",
    "lsi_accom = lsi(accom_bow_big, num_topics, accom_dict_big)\n",
    "lsi_food = lsi(food_bow_big, num_topics, food_dict_big)\n",
    "lsi_attract = lsi(attract_bow_big, num_topics, attract_dict_big)"
   ]
  },
  {
   "cell_type": "code",
   "execution_count": 69,
   "metadata": {
    "scrolled": true
   },
   "outputs": [],
   "source": [
    "# Show topics as a list - uncomment to show\n",
    "lsi_accom_topics = lsi_accom.show_topics(formatted = False)\n",
    "lsi_food_topics = lsi_food.show_topics(formatted = False)\n",
    "lsi_attract_topics = lsi_attract.show_topics(formatted = False)"
   ]
  },
  {
   "cell_type": "markdown",
   "metadata": {},
   "source": [
    "### Latent Dirchlet Allocation"
   ]
  },
  {
   "cell_type": "code",
   "execution_count": 70,
   "metadata": {
    "scrolled": true
   },
   "outputs": [],
   "source": [
    "# Define model\n",
    "def lda(corpus, dictionary, num_topics):\n",
    "    lda_model = LdaModel(corpus = corpus, num_topics=num_topics, id2word=dictionary,random_state = 42)\n",
    "    return lda_model"
   ]
  },
  {
   "cell_type": "code",
   "execution_count": 71,
   "metadata": {
    "scrolled": true
   },
   "outputs": [],
   "source": [
    "# Run models for each category\n",
    "lda_accom = lda(accom_bow_big, accom_dict_big,num_topics)\n",
    "lda_food = lda(food_bow_big, food_dict_big,num_topics)\n",
    "lda_attract = lda(attract_bow_big, attract_dict_big,num_topics)"
   ]
  },
  {
   "cell_type": "code",
   "execution_count": 72,
   "metadata": {
    "scrolled": true
   },
   "outputs": [],
   "source": [
    "# Show topics - uncomment to run\n",
    "lda_accom_topics = lda_accom.show_topics(formatted = False)\n",
    "lda_food_topics = lda_food.show_topics(formatted = False)\n",
    "lda_attract_topics = lda_attract.show_topics(formatted = False)"
   ]
  },
  {
   "cell_type": "markdown",
   "metadata": {},
   "source": [
    "### Non-negative Matrix Factorisation"
   ]
  },
  {
   "cell_type": "code",
   "execution_count": 73,
   "metadata": {
    "scrolled": true
   },
   "outputs": [],
   "source": [
    "# Function to run NMF Model\n",
    "def nmf(corpus, dictionary,num_topics):\n",
    "    nmf_model = GensimNmf(corpus = corpus, id2word = dictionary,num_topics = num_topics)\n",
    "    return nmf_model"
   ]
  },
  {
   "cell_type": "code",
   "execution_count": 74,
   "metadata": {
    "scrolled": true
   },
   "outputs": [],
   "source": [
    "# run function for each category\n",
    "nmf_accom = nmf(accom_bow_big, accom_dict_big,num_topics)\n",
    "nmf_food = nmf(food_bow_big, food_dict_big,num_topics)\n",
    "nmf_attract = nmf(attract_bow_big, attract_dict_big,num_topics)"
   ]
  },
  {
   "cell_type": "code",
   "execution_count": 75,
   "metadata": {
    "scrolled": true
   },
   "outputs": [],
   "source": [
    "# Show topics - uncomment to run\n",
    "nmf_accom_topics = nmf_accom.show_topics(formatted = False)\n",
    "nmf_food_topics = nmf_food.show_topics(formatted = False)\n",
    "nmf_attract_topics = nmf_attract.show_topics(formatted = False)"
   ]
  },
  {
   "cell_type": "markdown",
   "metadata": {},
   "source": [
    "### Comparison of models with random 5 topics for all models and categories"
   ]
  },
  {
   "cell_type": "code",
   "execution_count": 76,
   "metadata": {
    "scrolled": true
   },
   "outputs": [],
   "source": [
    "# Function to get coherence for each model on the top ten topic words using a standard 5 topics\n",
    "def evaluate(model,model_topics,text,dictionary):\n",
    "    model_topics = model.show_topics(formatted = False)\n",
    "    model_topics = [[word for word, prob in topic] for topicid,topic in model_topics]\n",
    "    model_coherence = CoherenceModel(topics = model_topics[:10],texts = text, dictionary = dictionary,window_size = 10).get_coherence()\n",
    "    return model_coherence"
   ]
  },
  {
   "cell_type": "code",
   "execution_count": 77,
   "metadata": {
    "scrolled": true
   },
   "outputs": [],
   "source": [
    "# Run function for LSI\n",
    "lsi_accom_eval = evaluate(lsi_accom,lsi_accom_topics,accom_nouns_bigrams,accom_dict_big)\n",
    "lsi_food_eval = evaluate(lsi_food,lsi_food_topics,food_nouns_bigrams,food_dict_big)\n",
    "lsi_attract_eval = evaluate(lsi_attract,lsi_attract_topics,attract_nouns_bigrams, attract_dict_big)"
   ]
  },
  {
   "cell_type": "code",
   "execution_count": 78,
   "metadata": {
    "scrolled": true
   },
   "outputs": [],
   "source": [
    "# Run function for LDA\n",
    "lda_accom_eval = evaluate(lda_accom,lda_accom_topics,accom_nouns_bigrams,accom_dict_big)\n",
    "lda_food_eval = evaluate(lda_food,lda_food_topics,food_nouns_bigrams,food_dict_big)\n",
    "lda_attract_eval = evaluate(lda_attract,lda_attract_topics,attract_nouns_bigrams,attract_dict_big)"
   ]
  },
  {
   "cell_type": "code",
   "execution_count": 79,
   "metadata": {
    "scrolled": true
   },
   "outputs": [],
   "source": [
    "# Run function for NMF\n",
    "nmf_accom_eval = evaluate(nmf_accom,nmf_accom_topics,accom_nouns_bigrams,accom_dict_big)\n",
    "nmf_food_eval = evaluate(nmf_food, nmf_food_topics,food_nouns_bigrams,food_dict_big)\n",
    "nmf_attract_eval = evaluate(nmf_attract,nmf_attract_topics,attract_nouns_bigrams,attract_dict_big)"
   ]
  },
  {
   "cell_type": "code",
   "execution_count": 80,
   "metadata": {
    "scrolled": true
   },
   "outputs": [],
   "source": [
    "# Function to graph results\n",
    "def graph(coherences,indices,name):\n",
    "    assert len(coherences) == len(indices)\n",
    "    n = len(coherences)\n",
    "    x = np.arange(n)\n",
    "    fig, ax = plt.subplots()\n",
    "    ax.spines[\"right\"].set_visible(False)\n",
    "    ax.spines[\"top\"].set_visible(False)\n",
    "    ax.set_facecolor(\"White\")\n",
    "    ax.bar(x,coherences,width = 0.5,tick_label=indices,align = 'center',color = \"lightsteelblue\",ec = \"grey\")\n",
    "    ax.set_title(\"Topic Models Average Coherence Comparison: \" + name,fontsize = 10,pad = 15)\n",
    "    ax.set_xlabel('Models',labelpad = 10)\n",
    "    ax.set_ylabel('Coherence Value',labelpad = 10)"
   ]
  },
  {
   "cell_type": "code",
   "execution_count": 81,
   "metadata": {
    "scrolled": true
   },
   "outputs": [
    {
     "data": {
      "image/png": "[encoded data removed]",
      "text/plain": [
       "<Figure size 432x288 with 1 Axes>"
      ]
     },
     "metadata": {
      "needs_background": "light"
     },
     "output_type": "display_data"
    }
   ],
   "source": [
    "# Run function for accommodation\n",
    "graph([lsi_accom_eval,lda_accom_eval, nmf_accom_eval],['LSI','LDA','NMF'],\"Accommodation\")"
   ]
  },
  {
   "cell_type": "code",
   "execution_count": 82,
   "metadata": {
    "scrolled": true
   },
   "outputs": [
    {
     "data": {
      "image/png": "[encoded data removed]",
      "text/plain": [
       "<Figure size 432x288 with 1 Axes>"
      ]
     },
     "metadata": {
      "needs_background": "light"
     },
     "output_type": "display_data"
    }
   ],
   "source": [
    "# Run function for food\n",
    "graph([lsi_food_eval,lda_food_eval, nmf_food_eval],['LSI','LDA','NMF'],\"Food\")"
   ]
  },
  {
   "cell_type": "code",
   "execution_count": 83,
   "metadata": {
    "scrolled": true
   },
   "outputs": [
    {
     "data": {
      "image/png": "[encoded data removed]",
      "text/plain": [
       "<Figure size 432x288 with 1 Axes>"
      ]
     },
     "metadata": {
      "needs_background": "light"
     },
     "output_type": "display_data"
    }
   ],
   "source": [
    "# Run function for attractions\n",
    "graph([lda_attract_eval,lda_attract_eval, nmf_attract_eval],['LSI','LDA','NMF'],\"Attractions\")"
   ]
  },
  {
   "cell_type": "markdown",
   "metadata": {},
   "source": [
    "Comment - LDA appears to offer the highest coherence for each category"
   ]
  },
  {
   "cell_type": "markdown",
   "metadata": {},
   "source": [
    "# Section 5: Gensim LDA and NMF Models"
   ]
  },
  {
   "cell_type": "markdown",
   "metadata": {},
   "source": [
    "## Get optimum number of topics"
   ]
  },
  {
   "cell_type": "code",
   "execution_count": 84,
   "metadata": {
    "scrolled": true
   },
   "outputs": [],
   "source": [
    "# Function to collect topic coherence and respective weights over a range of topic numbers\n",
    "\n",
    "def results(model,dictionary, corpus, texts):\n",
    "    \n",
    "    # Get coherence values\n",
    "    cv = []\n",
    "    tm_list = []\n",
    "    for num_topics in range(2,50+1,2):\n",
    "        tm = model(corpus = corpus, num_topics = num_topics, id2word = dictionary)\n",
    "        tm_list.append(tm)\n",
    "        cm = CoherenceModel(model = tm, texts = texts, dictionary = dictionary, coherence = 'c_v')\n",
    "        cv.append(cm.get_coherence())\n",
    "        \n",
    "    return cv"
   ]
  },
  {
   "cell_type": "code",
   "execution_count": 85,
   "metadata": {
    "scrolled": true
   },
   "outputs": [],
   "source": [
    "# Graph results\n",
    "def graph_results(cv,name,num):\n",
    "    \n",
    "    x = range(2,50+1,2)\n",
    "    fig, ax = plt.subplots()\n",
    "    ax.set_facecolor(\"White\")\n",
    "    ax.plot(x,cv)\n",
    "    ax.set_xlabel(\"Number of Topics\")\n",
    "    ax.spines[\"right\"].set_visible(False)\n",
    "    ax.spines[\"top\"].set_visible(False)\n",
    "    plt.axvline(num,color = \"grey\",linestyle = \"--\",linewidth = 1)\n",
    "    ax.set_ylabel(\"Coherence Score\")\n",
    "    ax.legend((\"c_v\"), loc = 'best',bbox_to_anchor=(1.0,1.0),frameon = False)\n",
    "    ax.set_title(\"Coherence Values By Number of Topics:\" + name,fontsize = 11)\n",
    "    plt.show()"
   ]
  },
  {
   "cell_type": "markdown",
   "metadata": {},
   "source": [
    "#### Accommodation"
   ]
  },
  {
   "cell_type": "code",
   "execution_count": 87,
   "metadata": {
    "scrolled": true
   },
   "outputs": [],
   "source": [
    "# run function for accommodation reviews\n",
    "cv_lda = results(LdaModel,accom_dict_big,accom_bow_big,accom_nouns_bigrams)\n",
    "cv_nmf = results(GensimNmf,accom_dict_big,accom_bow_big,accom_nouns_bigrams)"
   ]
  },
  {
   "cell_type": "code",
   "execution_count": 88,
   "metadata": {
    "scrolled": true
   },
   "outputs": [
    {
     "data": {
      "image/png": "[encoded data removed]",
      "text/plain": [
       "<Figure size 432x288 with 1 Axes>"
      ]
     },
     "metadata": {
      "needs_background": "light"
     },
     "output_type": "display_data"
    }
   ],
   "source": [
    "graph_results(cv_lda,\"Accommodation LDA\",16)"
   ]
  },
  {
   "cell_type": "code",
   "execution_count": 96,
   "metadata": {
    "scrolled": true
   },
   "outputs": [
    {
     "data": {
      "image/png": "[encoded data removed]",
      "text/plain": [
       "<Figure size 432x288 with 1 Axes>"
      ]
     },
     "metadata": {
      "needs_background": "light"
     },
     "output_type": "display_data"
    }
   ],
   "source": [
    "graph_results(cv_nmf,\"Accommodation NMF\",28)"
   ]
  },
  {
   "cell_type": "markdown",
   "metadata": {},
   "source": [
    "#### Food"
   ]
  },
  {
   "cell_type": "code",
   "execution_count": 90,
   "metadata": {
    "scrolled": true
   },
   "outputs": [],
   "source": [
    "# run function for food reviews\n",
    "cv_lda2 = results(LdaModel,food_dict_big,food_bow_big,food_nouns_bigrams)\n",
    "cv_nmf2 = results(GensimNmf, food_dict_big,food_bow_big,food_nouns_bigrams)"
   ]
  },
  {
   "cell_type": "code",
   "execution_count": 185,
   "metadata": {
    "scrolled": true
   },
   "outputs": [
    {
     "data": {
      "image/png": "[encoded data removed]",
      "text/plain": [
       "<Figure size 432x288 with 1 Axes>"
      ]
     },
     "metadata": {
      "needs_background": "light"
     },
     "output_type": "display_data"
    }
   ],
   "source": [
    "graph_results(cv_lda2,\"Food LDA\",20)"
   ]
  },
  {
   "cell_type": "code",
   "execution_count": 100,
   "metadata": {
    "scrolled": true
   },
   "outputs": [
    {
     "data": {
      "image/png": "[encoded data removed]",
      "text/plain": [
       "<Figure size 432x288 with 1 Axes>"
      ]
     },
     "metadata": {
      "needs_background": "light"
     },
     "output_type": "display_data"
    }
   ],
   "source": [
    "graph_results(cv_nmf2,\"Food NMF\",46)"
   ]
  },
  {
   "cell_type": "markdown",
   "metadata": {},
   "source": [
    "#### Attractions"
   ]
  },
  {
   "cell_type": "code",
   "execution_count": 93,
   "metadata": {
    "scrolled": true
   },
   "outputs": [],
   "source": [
    "cv_lda3 = results(LdaModel,attract_dict_big,attract_bow_big,attract_nouns_bigrams)\n",
    "cv_nmf3 = results(GensimNmf,attract_dict_big,attract_bow_big,attract_nouns_bigrams)"
   ]
  },
  {
   "cell_type": "code",
   "execution_count": 107,
   "metadata": {
    "scrolled": true
   },
   "outputs": [
    {
     "data": {
      "image/png": "[encoded data removed]",
      "text/plain": [
       "<Figure size 432x288 with 1 Axes>"
      ]
     },
     "metadata": {
      "needs_background": "light"
     },
     "output_type": "display_data"
    }
   ],
   "source": [
    "graph_results(cv_lda3,\"Attractions LDA\",6)"
   ]
  },
  {
   "cell_type": "code",
   "execution_count": 110,
   "metadata": {
    "scrolled": true
   },
   "outputs": [
    {
     "data": {
      "image/png": "[encoded data removed]",
      "text/plain": [
       "<Figure size 432x288 with 1 Axes>"
      ]
     },
     "metadata": {
      "needs_background": "light"
     },
     "output_type": "display_data"
    }
   ],
   "source": [
    "graph_results(cv_nmf3,\"Attractions NMF\",4)"
   ]
  },
  {
   "cell_type": "markdown",
   "metadata": {},
   "source": [
    "## Implement Gensim LDA Model"
   ]
  },
  {
   "cell_type": "code",
   "execution_count": 112,
   "metadata": {
    "scrolled": true
   },
   "outputs": [],
   "source": [
    "# Function to run gensim lda\n",
    "def lda_mod(corpus,n,dict):\n",
    "    lda_model = LdaModel(corpus = corpus, num_topics=n, id2word=dict, passes=20)\n",
    "    topics = lda_model.print_topics(num_words = 5)\n",
    "    return topics,lda_model"
   ]
  },
  {
   "cell_type": "code",
   "execution_count": 114,
   "metadata": {
    "scrolled": true
   },
   "outputs": [],
   "source": [
    "# Run function using the highest topic coherence from the section above\n",
    "lda_accom = lda_mod(accom_bow_big,16,accom_dict_big)\n",
    "lda_food = lda_mod(food_bow_big,20,food_dict_big)\n",
    "lda_attract = lda_mod(attract_bow_big,6,attract_dict_big)"
   ]
  },
  {
   "cell_type": "code",
   "execution_count": 115,
   "metadata": {
    "scrolled": true
   },
   "outputs": [
    {
     "data": {
      "text/plain": [
       "[(0,\n",
       "  '0.111*\"family\" + 0.067*\"house\" + 0.055*\"u\" + 0.052*\"town\" + 0.049*\"time\"'),\n",
       " (1,\n",
       "  '0.183*\"area\" + 0.074*\"thing\" + 0.066*\"entertainment\" + 0.040*\"bath\" + 0.037*\"sea_view\"'),\n",
       " (2,\n",
       "  '0.112*\"stay\" + 0.075*\"quality\" + 0.075*\"tidy\" + 0.049*\"trip\" + 0.047*\"year\"'),\n",
       " (3,\n",
       "  '0.192*\"night\" + 0.077*\"experience\" + 0.059*\"shower\" + 0.047*\"floor\" + 0.040*\"side\"'),\n",
       " (4,\n",
       "  '0.151*\"service\" + 0.082*\"child\" + 0.069*\"need\" + 0.058*\"morning\" + 0.055*\"choice\"'),\n",
       " (5,\n",
       "  '0.068*\"plenty\" + 0.055*\"size\" + 0.039*\"husband\" + 0.038*\"manager\" + 0.036*\"group\"'),\n",
       " (6,\n",
       "  '0.136*\"bed\" + 0.048*\"value\" + 0.047*\"park\" + 0.043*\"day\" + 0.040*\"bedroom\"'),\n",
       " (7,\n",
       "  '0.257*\"breakfast\" + 0.143*\"place\" + 0.049*\"water\" + 0.043*\"door\" + 0.038*\"night_stay\"'),\n",
       " (8,\n",
       "  '0.149*\"pool\" + 0.050*\"hour\" + 0.050*\"toilet\" + 0.045*\"access\" + 0.029*\"resort\"'),\n",
       " (9,\n",
       "  '0.139*\"pub\" + 0.123*\"restaurant\" + 0.060*\"lunch\" + 0.048*\"dinner\" + 0.040*\"week\"'),\n",
       " (10,\n",
       "  '0.208*\"food\" + 0.103*\"weekend\" + 0.044*\"accommodation\" + 0.044*\"friend\" + 0.039*\"owner\"'),\n",
       " (11,\n",
       "  '0.121*\"site\" + 0.097*\"meal\" + 0.086*\"facility\" + 0.041*\"dog\" + 0.037*\"lady\"'),\n",
       " (12,\n",
       "  '0.349*\"hotel\" + 0.068*\"kid\" + 0.061*\"walk\" + 0.049*\"view\" + 0.040*\"bathroom\"'),\n",
       " (13,\n",
       "  '0.155*\"location\" + 0.092*\"visit\" + 0.077*\"people\" + 0.064*\"beach\" + 0.049*\"lot\"'),\n",
       " (14,\n",
       "  '0.455*\"room\" + 0.049*\"price\" + 0.041*\"value_money\" + 0.034*\"garden\" + 0.026*\"problem\"'),\n",
       " (15,\n",
       "  '0.310*\"staff\" + 0.076*\"bit\" + 0.044*\"road\" + 0.042*\"check\" + 0.039*\"way\"')]"
      ]
     },
     "execution_count": 115,
     "metadata": {},
     "output_type": "execute_result"
    }
   ],
   "source": [
    "# Print top 5 words for each topic in each category\n",
    "lda_accom[0]"
   ]
  },
  {
   "cell_type": "code",
   "execution_count": 116,
   "metadata": {
    "scrolled": true
   },
   "outputs": [
    {
     "data": {
      "text/plain": [
       "[(0,\n",
       "  '0.190*\"value\" + 0.112*\"course\" + 0.077*\"review\" + 0.049*\"food_good\" + 0.047*\"home\"'),\n",
       " (1,\n",
       "  '0.156*\"experience\" + 0.094*\"cafe\" + 0.075*\"customer\" + 0.064*\"dish\" + 0.062*\"time\"'),\n",
       " (2,\n",
       "  '0.101*\"value_money\" + 0.076*\"chicken\" + 0.062*\"quality_food\" + 0.062*\"tea\" + 0.051*\"shame\"'),\n",
       " (3,\n",
       "  '0.091*\"location\" + 0.058*\"return\" + 0.047*\"money\" + 0.047*\"management\" + 0.042*\"cream\"'),\n",
       " (4,\n",
       "  '0.330*\"meal\" + 0.118*\"quality\" + 0.080*\"table\" + 0.050*\"chef\" + 0.048*\"way\"'),\n",
       " (5,\n",
       "  '0.067*\"side\" + 0.056*\"wine\" + 0.053*\"waiter\" + 0.050*\"roast\" + 0.044*\"range\"'),\n",
       " (6,\n",
       "  '0.264*\"lunch\" + 0.083*\"dinner\" + 0.041*\"look\" + 0.036*\"bill\" + 0.033*\"business\"'),\n",
       " (7,\n",
       "  '0.343*\"place\" + 0.108*\"night\" + 0.079*\"evening\" + 0.072*\"burger\" + 0.034*\"group\"'),\n",
       " (8,\n",
       "  '0.215*\"price\" + 0.076*\"sunday_lunch\" + 0.054*\"birthday\" + 0.054*\"superb\" + 0.042*\"meat\"'),\n",
       " (9,\n",
       "  '0.305*\"restaurant\" + 0.099*\"bit\" + 0.091*\"coffee\" + 0.043*\"sauce\" + 0.039*\"year\"'),\n",
       " (10,\n",
       "  '0.092*\"area\" + 0.089*\"pizza\" + 0.084*\"selection\" + 0.072*\"starter\" + 0.043*\"couple\"'),\n",
       " (11,\n",
       "  '0.422*\"staff\" + 0.090*\"order\" + 0.044*\"decor\" + 0.040*\"bread\" + 0.039*\"curry\"'),\n",
       " (12,\n",
       "  '0.112*\"wife\" + 0.059*\"lot\" + 0.058*\"ice_cream\" + 0.044*\"lamb\" + 0.043*\"ate\"'),\n",
       " (13,\n",
       "  '0.443*\"service\" + 0.126*\"visit\" + 0.123*\"chip\" + 0.036*\"beer\" + 0.022*\"dessert\"'),\n",
       " (14,\n",
       "  '0.152*\"portion\" + 0.149*\"family\" + 0.068*\"waitress\" + 0.053*\"husband\" + 0.049*\"flavour\"'),\n",
       " (15,\n",
       "  '0.195*\"breakfast\" + 0.099*\"u\" + 0.068*\"plate\" + 0.055*\"lady\" + 0.054*\"delivery\"'),\n",
       " (16,\n",
       "  '0.207*\"menu\" + 0.131*\"friend\" + 0.121*\"drink\" + 0.092*\"tasty\" + 0.039*\"sandwich\"'),\n",
       " (17,\n",
       "  '0.192*\"pub\" + 0.136*\"choice\" + 0.105*\"people\" + 0.071*\"atmosphere\" + 0.056*\"kid\"'),\n",
       " (18,\n",
       "  '0.094*\"owner\" + 0.066*\"need\" + 0.058*\"work\" + 0.053*\"plenty\" + 0.053*\"dog\"'),\n",
       " (19,\n",
       "  '0.712*\"food\" + 0.030*\"thing\" + 0.026*\"cake\" + 0.021*\"customer_service\" + 0.020*\"house\"')]"
      ]
     },
     "execution_count": 116,
     "metadata": {},
     "output_type": "execute_result"
    }
   ],
   "source": [
    "lda_food[0]"
   ]
  },
  {
   "cell_type": "code",
   "execution_count": 117,
   "metadata": {
    "scrolled": true
   },
   "outputs": [
    {
     "data": {
      "text/plain": [
       "[(0,\n",
       "  '0.077*\"place\" + 0.041*\"area\" + 0.035*\"food\" + 0.027*\"child\" + 0.022*\"cafe\"'),\n",
       " (1,\n",
       "  '0.051*\"beach\" + 0.026*\"family\" + 0.026*\"lot\" + 0.022*\"machine\" + 0.016*\"history\"'),\n",
       " (2,\n",
       "  '0.049*\"staff\" + 0.021*\"people\" + 0.020*\"hour\" + 0.016*\"trip\" + 0.015*\"thing\"'),\n",
       " (3,\n",
       "  '0.087*\"visit\" + 0.035*\"park\" + 0.022*\"town\" + 0.021*\"shop\" + 0.020*\"value\"'),\n",
       " (4,\n",
       "  '0.036*\"walk\" + 0.028*\"experience\" + 0.024*\"price\" + 0.019*\"way\" + 0.019*\"course\"'),\n",
       " (5,\n",
       "  '0.053*\"garden\" + 0.027*\"room\" + 0.016*\"year\" + 0.015*\"kid\" + 0.014*\"part\"')]"
      ]
     },
     "execution_count": 117,
     "metadata": {},
     "output_type": "execute_result"
    }
   ],
   "source": [
    "lda_attract[0]"
   ]
  },
  {
   "cell_type": "markdown",
   "metadata": {},
   "source": [
    "## Generate perplexity scores"
   ]
  },
  {
   "cell_type": "code",
   "execution_count": 118,
   "metadata": {
    "scrolled": true
   },
   "outputs": [],
   "source": [
    "# Generate perplexity - looking for low perplexity\n",
    "def perp(lda,corpus):\n",
    "    print('Perplexity:', lda.log_perplexity(corpus))"
   ]
  },
  {
   "cell_type": "code",
   "execution_count": 119,
   "metadata": {
    "scrolled": true
   },
   "outputs": [
    {
     "name": "stdout",
     "output_type": "stream",
     "text": [
      "Perplexity: -14.151215546175138\n",
      "Perplexity: -15.867318070086489\n",
      "Perplexity: -7.996114646534051\n"
     ]
    }
   ],
   "source": [
    "perp(lda_accom[1],accom_bow_big)\n",
    "perp(lda_food[1],food_bow_big)\n",
    "perp(lda_attract[1],attract_bow_big)"
   ]
  },
  {
   "cell_type": "code",
   "execution_count": 120,
   "metadata": {
    "scrolled": true
   },
   "outputs": [],
   "source": [
    "# Coherence - as per the graph for the chosen number of topics\n",
    "def coher(lda,text,d):\n",
    "    coherence_score_lda = CoherenceModel(model = lda,texts = text,dictionary = d,coherence = 'c_v')\n",
    "    coherence_score = coherence_score_lda.get_coherence()\n",
    "    print('Coherence:', coherence_score)"
   ]
  },
  {
   "cell_type": "code",
   "execution_count": 121,
   "metadata": {
    "scrolled": true
   },
   "outputs": [
    {
     "name": "stdout",
     "output_type": "stream",
     "text": [
      "Coherence: 0.7427709673934345\n",
      "Coherence: 0.7347523189694021\n",
      "Coherence: 0.7521127197218404\n"
     ]
    }
   ],
   "source": [
    "coher(lda_accom[1],accom_nouns_bigrams,accom_dict_big)\n",
    "coher(lda_food[1],food_nouns_bigrams,food_dict_big)\n",
    "coher(lda_attract[1],attract_nouns_bigrams,attract_dict_big)"
   ]
  },
  {
   "cell_type": "markdown",
   "metadata": {},
   "source": [
    "## Visualising the models"
   ]
  },
  {
   "cell_type": "code",
   "execution_count": 122,
   "metadata": {
    "scrolled": true
   },
   "outputs": [],
   "source": [
    "# Function to run pyLDAvis\n",
    "def vis(lda_model,bow_corpus,gen_dict):\n",
    "    lda_vis = gensimvis.prepare(lda_model, bow_corpus, gen_dict,sort_topics = False)\n",
    "    return lda_vis"
   ]
  },
  {
   "cell_type": "code",
   "execution_count": 123,
   "metadata": {
    "scrolled": true
   },
   "outputs": [
    {
     "data": {
      "text/html": [
       "\n",
       "<link rel=\"stylesheet\" type=\"text/css\" href=\"https://cdn.jsdelivr.net/gh/bmabey/pyLDAvis@3.3.1/pyLDAvis/js/ldavis.v1.0.0.css\">\n",
       "\n",
       "\n",
       "<div id=\"ldavis_el2268426709022101124026256537\"></div>\n",
       "<script type=\"text/javascript\">\n",
       "\n",
       "var ldavis_el2268426709022101124026256537_data = {\"mdsDat\": {\"x\": [0.02889923230335724, 0.043185455923184284, 0.042023963757026606, 0.03443315051218124, 0.030906059649571323, 0.044150617605108404, 0.01977743749352077, 0.02477397561057922, 0.04324993343368144, 0.03620898142589326, 0.025514264101035737, 0.03699606118282818, -0.01887216564645959, 0.02674126318255043, -0.4040842418802626, -0.013903988653796037], \"y\": [0.0337223519643539, 0.03436622605489744, 0.03498575221907348, 0.03434589429862207, 0.03370461428250166, 0.03455608130376044, 0.030122152320951504, 0.03157662440613797, 0.03453381764094438, 0.034707626787856743, 0.03180251436824953, 0.035152284850285896, -0.3641175846170233, 0.0323869218098919, 0.0580650416906152, -0.1299103193811193], \"topics\": [1, 2, 3, 4, 5, 6, 7, 8, 9, 10, 11, 12, 13, 14, 15, 16], \"cluster\": [1, 1, 1, 1, 1, 1, 1, 1, 1, 1, 1, 1, 1, 1, 1, 1], \"Freq\": [6.337799828822349, 5.217126119853889, 5.384468873855054, 6.1430757154681075, 6.476927996387645, 5.150024964621098, 6.587281808963776, 6.167432483236175, 5.564252346115529, 6.126570730218912, 6.618272940094042, 5.927703130542481, 7.1593074576508275, 6.182311631634631, 7.908154877577184, 7.0492890949583]}, \"tinfo\": {\"Term\": [\"room\", \"hotel\", \"staff\", \"breakfast\", \"food\", \"night\", \"area\", \"location\", \"service\", \"place\", \"bed\", \"pool\", \"pub\", \"restaurant\", \"site\", \"family\", \"weekend\", \"stay\", \"meal\", \"visit\", \"child\", \"facility\", \"bit\", \"experience\", \"people\", \"kid\", \"need\", \"quality\", \"tidy\", \"house\", \"family\", \"house\", \"u\", \"town\", \"time\", \"reception\", \"touch\", \"course\", \"venue\", \"minute\", \"point\", \"sea\", \"dirty\", \"fair\", \"atmosphere\", \"chicken\", \"decor\", \"chocolate\", \"lamb\", \"company\", \"person\", \"polite\", \"step\", \"head\", \"offering\", \"salad\", \"note\", \"outdoor\", \"duck\", \"attraction\", \"area\", \"thing\", \"entertainment\", \"bath\", \"sea_view\", \"sleep\", \"base\", \"customer\", \"queue\", \"rest\", \"boy\", \"hope\", \"station\", \"peaceful\", \"downstairs\", \"holiday_park\", \"attentive\", \"system\", \"twin_room\", \"sorry\", \"christmas_party\", \"music_weekend\", \"waste\", \"manage\", \"restriction\", \"rib\", \"sauna\", \"toilet_seat\", \"redcoat\", \"addition\", \"stay\", \"quality\", \"tidy\", \"trip\", \"year\", \"couple\", \"standard\", \"wifi\", \"range\", \"ok\", \"toiletry\", \"toddler\", \"request\", \"kettle\", \"idea\", \"care\", \"package\", \"meat\", \"act\", \"decent\", \"stone\", \"detail\", \"pub_kitchen\", \"entry\", \"accomodation\", \"date\", \"splash_pool\", \"immaculate\", \"relation\", \"heater\", \"night\", \"experience\", \"shower\", \"floor\", \"side\", \"work\", \"coffee\", \"good\", \"tasty\", \"adult\", \"shame\", \"family_holiday\", \"quality_food\", \"occasion\", \"food_good\", \"waiter\", \"term\", \"section\", \"steak\", \"lot_choice\", \"stair\", \"light\", \"awful\", \"waste_money\", \"bottom\", \"attention\", \"return_visit\", \"photo\", \"tot\", \"beachcomber\", \"service\", \"child\", \"need\", \"morning\", \"choice\", \"drink\", \"window\", \"selection\", \"night_sleep\", \"lounge\", \"whilst\", \"birthday\", \"hotel_restaurant\", \"luxury\", \"wine\", \"ice_cream\", \"baby\", \"load\", \"dish\", \"condition\", \"card\", \"sister\", \"pie\", \"conversation\", \"drop\", \"gripe\", \"phone\", \"budget\", \"roof\", \"checkout\", \"plenty\", \"size\", \"husband\", \"manager\", \"group\", \"play\", \"milk\", \"fridge\", \"chair\", \"case\", \"security\", \"amount\", \"portion\", \"sort\", \"wet\", \"help\", \"comfort\", \"smile\", \"tray\", \"pillow\", \"meeting\", \"type\", \"info\", \"food_ok\", \"wardrobe\", \"cinema\", \"clothes\", \"notch\", \"toy\", \"gem\", \"bed\", \"value\", \"park\", \"day\", \"bedroom\", \"review\", \"car\", \"kitchen\", \"centre\", \"daughter\", \"guest\", \"table\", \"job\", \"ground_floor\", \"noise\", \"use\", \"arrival\", \"others\", \"bonus\", \"rule\", \"plate\", \"school\", \"camp\", \"staff_member\", \"age\", \"seat\", \"place_visit\", \"arcade\", \"opinion\", \"cleanliness\", \"breakfast\", \"place\", \"water\", \"door\", \"night_stay\", \"look\", \"reception_staff\", \"member_staff\", \"football\", \"self\", \"name\", \"coast\", \"hair\", \"spot\", \"room_comfy\", \"kind\", \"fridge_tea\", \"member\", \"cake\", \"juice\", \"storage\", \"effort\", \"fairground\", \"beauty\", \"coffee_facility\", \"coffee_making\", \"season\", \"food_outlet\", \"disaster\", \"cooking\", \"pool\", \"hour\", \"toilet\", \"access\", \"resort\", \"wall\", \"air\", \"music\", \"lack\", \"hand\", \"event\", \"parent\", \"comfy_bed\", \"tot_week\", \"rain\", \"monday\", \"feeling\", \"fish\", \"pool_area\", \"min_walk\", \"safety\", \"memory\", \"decoration\", \"direction\", \"luggage\", \"tent\", \"golf\", \"control\", \"luck\", \"granddaughter\", \"pub\", \"restaurant\", \"lunch\", \"dinner\", \"week\", \"option\", \"end\", \"son\", \"entrance\", \"pay\", \"partner\", \"drive\", \"slide\", \"complaint\", \"front\", \"game\", \"cook\", \"diner\", \"stuff\", \"criticism\", \"curtain\", \"mini_fridge\", \"bunk\", \"paper\", \"sandwich\", \"hairdryer\", \"wow\", \"behaviour\", \"dust\", \"stand\", \"food\", \"weekend\", \"accommodation\", \"friend\", \"owner\", \"show\", \"apartment\", \"building\", \"activity\", \"comfy\", \"distance\", \"amenity\", \"supermarket\", \"starter\", \"buffet\", \"foot\", \"seaside\", \"gate\", \"requirement\", \"butin\", \"picture\", \"mix\", \"cold\", \"store\", \"family_meal\", \"youth\", \"contact\", \"cupboard\", \"voucher\", \"gin\", \"site\", \"meal\", \"facility\", \"dog\", \"lady\", \"tea_coffee\", \"customer_service\", \"part\", \"cost\", \"i\", \"beer\", \"number\", \"variety\", \"balcony\", \"bike\", \"fab\", \"glass\", \"adult_weekend\", \"salisbury\", \"saturday\", \"shut\", \"papa_john\", \"taste\", \"stage\", \"glass_wine\", \"shelf\", \"disco\", \"skyline_gang\", \"form\", \"instruction\", \"hotel\", \"kid\", \"walk\", \"view\", \"bathroom\", \"holiday\", \"superb\", \"weather\", \"order\", \"burger\", \"chip\", \"chef\", \"fault\", \"brighton\", \"dessert\", \"food_service\", \"receptionist\", \"food_restaurant\", \"class\", \"yes\", \"friday\", \"mould\", \"spending\", \"pavilion\", \"chip_shop\", \"presentation\", \"layout\", \"dirty_room\", \"age_group\", \"toilet_roll\", \"location\", \"visit\", \"people\", \"beach\", \"lot\", \"helpful\", \"book\", \"party\", \"biscuit\", \"carpet\", \"thanks\", \"level\", \"life\", \"afternoon\", \"min\", \"christmas\", \"sofa\", \"ate\", \"sunday\", \"man\", \"sheet\", \"promenade\", \"summer\", \"visitor\", \"desk\", \"talk\", \"play_area\", \"environment\", \"choice_breakfast\", \"sun_holiday\", \"room\", \"price\", \"value_money\", \"garden\", \"problem\", \"fun\", \"space\", \"issue\", \"team\", \"towel\", \"pub_restaurant\", \"money\", \"round\", \"fact\", \"girl\", \"breakfast_dinner\", \"quieter\", \"example\", \"centre_stage\", \"refund\", \"knowledge\", \"notice\", \"tea_towel\", \"surprise\", \"filthy\", \"pack\", \"comment\", \"pub_grub\", \"resident\", \"food_drink\", \"staff\", \"bit\", \"road\", \"check\", \"way\", \"car_park\", \"shop\", \"evening\", \"star\", \"wife\", \"spa\", \"ground\", \"month\", \"character\", \"cafe\", \"adult_child\", \"fan\", \"waitress\", \"machine\", \"relax\", \"bed_comfy\", \"bag\", \"ticket\", \"item\", \"taxi\", \"ale\", \"meet\", \"complain\", \"highlight\", \"swim\"], \"Freq\": [1342.0, 933.0, 815.0, 592.0, 513.0, 441.0, 357.0, 359.0, 364.0, 329.0, 335.0, 310.0, 318.0, 282.0, 267.0, 263.0, 255.0, 225.0, 215.0, 212.0, 200.0, 191.0, 200.0, 177.0, 177.0, 181.0, 167.0, 151.0, 151.0, 159.0, 262.02548736650743, 158.57811978414756, 131.0719507576171, 122.7693574136268, 115.43743805339211, 93.75416908637722, 58.0986772808546, 56.07688635341375, 51.90629392958642, 51.824135205129906, 50.92181024108819, 48.617173331705814, 36.868004999029125, 34.707221747030474, 33.09197242542305, 30.919605563170375, 29.169411361529928, 28.916272302581316, 25.69722528773382, 25.014348806368268, 24.17101754597312, 22.150592631059368, 20.754598218694316, 20.680479390834556, 18.65094112664575, 18.03364974431723, 16.5842136663385, 14.83977717450434, 14.36876791627441, 14.018649666844503, 356.0575526055994, 143.05400135743423, 127.36784306369792, 77.68160175396919, 71.72831866087468, 62.3108524967148, 51.30323139847397, 48.31422974627634, 35.0586302768434, 33.47679025708217, 27.8403810884671, 25.85178024053616, 25.68326923086224, 24.24707782787404, 22.05066749782121, 21.634041762592723, 19.283052250125554, 17.629432718485322, 15.867693950340074, 14.39934834634303, 13.665338963555607, 13.550003026044216, 13.15791009061121, 12.706875784093384, 10.223388148156115, 10.068826167763998, 9.31534771730111, 9.202927975240922, 9.058238144864301, 9.039637326626188, 224.11690271752695, 150.46859690416784, 150.02342906959882, 99.18362826575317, 94.34603114945118, 72.33993757361434, 49.77317188466459, 42.792315006259, 36.56123611977827, 33.78738421936294, 33.55087011904982, 30.85307357934217, 30.410310915897064, 23.087106801265705, 19.666929168372036, 19.465930120148474, 17.3246849458239, 17.172348097208843, 16.931952458104412, 16.590952640977598, 15.00992639095663, 14.365506854707057, 14.332747377459953, 14.331103750417606, 13.989201293311881, 13.474484394280672, 12.878505602489499, 12.864809956349825, 10.87776951606251, 10.240192663628234, 440.01648650508844, 176.4704743912428, 135.1978293807712, 108.25948092839751, 92.33509635554047, 90.4685584333104, 80.705454695051, 51.81513877476975, 48.93594475695936, 46.110769980670504, 34.709211220471815, 32.48982761231495, 32.4708496651732, 28.07176322340782, 25.378696365650562, 24.138628985704578, 23.652440887212347, 20.879519962013248, 20.519823793650026, 19.996916427022175, 19.580832238430016, 18.230973777693443, 13.835237953154586, 13.399215300042036, 12.689204265127037, 12.657831272966918, 11.82249350825017, 11.355541342699496, 10.976907737361442, 10.610261943258582, 363.49889399444646, 198.87072102063613, 165.99419323387497, 140.345363563041, 132.527659000366, 81.27548091462502, 76.00656104056641, 74.23234695815411, 61.30179120835152, 50.79846254371548, 47.299719368931335, 40.07310927830411, 27.38330610195024, 27.29129378056094, 24.00503700128828, 21.97752658267158, 21.27435201681159, 18.216035413886228, 17.877685397441315, 17.356114393268907, 16.62435106345816, 16.346067237126412, 15.91438757940424, 14.466160713566811, 14.00849321187745, 13.889147626806041, 13.768701652510815, 13.542445217795054, 13.371021661419128, 12.835893052734276, 131.05584695440686, 105.8710914013101, 73.99571752228766, 73.44576206173257, 68.66115884964304, 55.255519930642194, 47.24981387991496, 46.59971117178779, 45.85157398196687, 41.57082789540563, 35.36156984953915, 32.38767849316399, 30.86298008391391, 24.76405596306494, 23.793969321572177, 22.571380345871162, 19.43256634203881, 19.0458569008581, 18.41961307508604, 18.333754702667317, 17.69919208468064, 17.68630457031292, 16.37745325849733, 15.521775927980237, 15.379796988487547, 14.564373925282274, 14.559159933685791, 12.609269178875005, 12.542968190430535, 12.369610566509927, 334.3254402001605, 118.01049671066718, 116.01493369063755, 106.35372365787136, 99.06810332263508, 78.79321596167131, 69.34260499863957, 67.29741582615043, 66.50779163101762, 63.735933470901664, 62.16549185937346, 61.27493265185779, 60.42260931339827, 44.04329490045042, 42.10594532803547, 40.06365974043637, 38.800261942738814, 35.79078765568699, 29.71253964749405, 27.90988897852997, 27.220184684212178, 26.134095326655263, 25.980742605001254, 25.04678280538482, 23.048862623133413, 20.364923641716004, 20.349886730045213, 19.17472590498299, 17.681192712444265, 16.253239385249167, 591.0293726963273, 327.9519245061869, 111.49328370972418, 98.84411263940726, 87.2189463440737, 65.61907278951516, 45.700546662935714, 42.409500888938, 32.383625499479315, 30.350060500333246, 25.48301319700612, 25.4703667230511, 22.87109249289076, 22.27482665799906, 20.04653207487161, 19.258790318898264, 19.2555580616755, 17.518399612127492, 17.399406524124363, 14.31609749372002, 13.693125936238134, 12.876449056417979, 12.650957374060233, 12.546298597641357, 10.151071842648282, 9.927875919145777, 8.647469129115269, 8.438657285395978, 7.738998819878292, 7.406779502422334, 309.77097800714046, 104.65694830624649, 103.88412879363321, 94.27030751284815, 60.708451612522644, 58.65253062309373, 53.31952906502321, 52.471009655227185, 44.32151151950191, 43.69410502434545, 41.07358462318722, 38.10552216638821, 31.386350007754846, 28.448302546670266, 26.063271049605877, 25.05862808534156, 24.520219856978553, 21.96428712257322, 20.83169707967858, 20.61266408721019, 16.98467148689371, 16.39008411650697, 16.285638034070757, 16.259454575577884, 15.507128186566693, 15.495835387220398, 14.613816098183575, 13.928959719324054, 12.363699515583876, 10.255295736067758, 317.2106261189387, 281.2712228139752, 137.88389837624698, 110.4384272623495, 92.06814859176762, 69.44473730751695, 61.68181819843512, 54.470330404910214, 48.24028862679125, 43.93819385912439, 41.180994753628475, 39.057513832247544, 36.78734207634426, 32.99474204813991, 27.78733437380276, 25.999801107687894, 25.492124427882658, 20.96717807394547, 16.6087447207588, 15.799228673327827, 15.060731777350941, 14.767931674758026, 14.347141235485907, 14.257649109444035, 13.756725830190259, 13.189374265915205, 12.425408586844773, 12.314985384503062, 12.260490375267295, 11.393012246938353, 512.7099427793239, 254.28559238185076, 107.61014327238989, 107.30976347590747, 96.41035594750007, 89.20710288716964, 89.20396053153532, 88.15533256711144, 72.10382624232321, 66.16658416382084, 59.070901654919446, 49.90271615892127, 30.13269594372829, 28.805629543215968, 24.413652333105386, 23.116695580001387, 19.924167919543788, 19.16184576551209, 18.95646365235606, 15.71470460510575, 15.029882404835831, 14.136250902370119, 13.18710789593025, 12.999092580854064, 12.388594671579524, 10.368363208469923, 10.265812845811938, 9.543313388018749, 8.614808169734212, 8.573261542279655, 266.32957594535185, 214.01079186115592, 190.5233388090227, 89.97680483623964, 80.80967908035599, 73.183559655524, 71.24439590112483, 61.73574782146535, 46.12178333947443, 38.1273876372619, 32.83795777961393, 30.93817607534559, 29.53910518763715, 29.477713463893352, 27.807296917854828, 25.341676501355227, 21.701859131083005, 18.970075554648446, 18.79091623537708, 17.630902744858137, 16.876114749634496, 16.708727663716417, 16.24230898024505, 15.422410576938905, 13.189933666546308, 12.628109898982805, 12.477715606035966, 10.275701046769797, 10.096101451731636, 10.056016812000994, 932.3874264047935, 180.43404025271028, 163.90625542488348, 131.2576700701026, 107.73658753845615, 95.2623651546057, 64.67560697499336, 57.04696967412427, 49.030689939906345, 46.11832252807269, 44.14021403232511, 34.5665586326528, 30.399882045123064, 29.73986069446186, 25.142146712838674, 24.65091198027756, 24.125538255179208, 23.803927526298285, 22.645149881797114, 20.635320126952777, 12.506048005541759, 9.079127033323582, 8.51046954334028, 8.446861163166128, 7.789225864443487, 7.334045923476765, 7.288046867515677, 7.250048322597735, 7.221573485638676, 6.1483321690802715, 357.86234979141597, 211.256093711144, 176.48177902605167, 147.25854140966484, 113.83285355057022, 95.27202377759393, 81.13392508338517, 51.6430031219747, 48.828386518400066, 38.81580499563387, 33.81009787332546, 33.39617546264843, 31.95865525581804, 30.56786050667358, 28.97342936375766, 28.88271425654845, 25.42347258643631, 24.12782173512669, 23.644354008089515, 22.678924857803526, 17.496404063242903, 17.145006134174526, 16.900616927439263, 16.511524926219497, 13.338814637206672, 10.869322915513377, 10.556335733048405, 9.557425655181488, 8.84543801805125, 8.665721706981772, 1341.6910861824733, 143.57174333310692, 119.48856549202564, 101.4472534082987, 75.77464597224372, 67.8769470644934, 62.479620912668594, 60.35179593527774, 51.71414509566787, 45.04900865047369, 42.173296724957815, 31.23768329009226, 30.441403996143528, 24.656305044952337, 21.321412035507496, 20.075496458412623, 16.85572294125627, 16.73669632490902, 16.593068687881264, 16.410372554996506, 13.5154777070734, 12.342392185009968, 12.234059039216243, 11.767620887488631, 11.479411819537496, 10.991429590873986, 10.842475804049231, 10.741910932134896, 10.499917638614011, 10.476312268971313, 814.0361592187521, 199.51273889266554, 116.56612956624207, 109.93885014093802, 101.32006533100643, 93.30524802531038, 67.83326057430249, 57.35167826826065, 55.33689556067848, 50.98032706351048, 49.99537383551477, 45.44562851354033, 29.67028042796776, 28.61437222383076, 25.339971706632472, 25.325751841064623, 24.690242267506896, 24.01079105843668, 22.386200776977365, 18.633112902894162, 18.104320826985848, 17.256214231969096, 16.95218386637104, 16.610945015646372, 15.361968862136134, 14.83683818141404, 10.621676852224732, 10.580587997726033, 9.63629362743385, 8.861714037752847], \"Total\": [1342.0, 933.0, 815.0, 592.0, 513.0, 441.0, 357.0, 359.0, 364.0, 329.0, 335.0, 310.0, 318.0, 282.0, 267.0, 263.0, 255.0, 225.0, 215.0, 212.0, 200.0, 191.0, 200.0, 177.0, 177.0, 181.0, 167.0, 151.0, 151.0, 159.0, 263.2237625631161, 159.77639500293753, 132.27022593720042, 123.96763260864685, 116.6357132498742, 94.95244424305854, 59.296952452319616, 57.27516159711119, 53.10456912538551, 53.022410388966755, 52.12008540394955, 49.81544855087594, 38.066280198760836, 35.90549697180419, 34.290247645433496, 32.11788074626991, 30.367686624522648, 30.114547498125276, 26.895500556390072, 26.21262398810499, 25.369292708246462, 23.34886779107326, 21.952873412774622, 21.87875460424581, 19.849216342894326, 19.231924928703755, 17.782488831897442, 16.038052351324666, 15.56704315307158, 15.216924854034652, 357.23763562498317, 144.23408432836467, 128.54792603462835, 78.86168474764521, 72.90840166459779, 63.49093551645889, 52.483314431238085, 49.494312772565515, 36.23871324777379, 34.65687328738908, 29.02046407399764, 27.03186325972958, 26.863352283648414, 25.427160867728876, 23.230750539310115, 22.814124741559684, 20.463135248202132, 18.809515792984385, 17.047776943436205, 15.579431433673378, 14.845421978353976, 14.730086015792228, 14.337993114129208, 13.886958814129079, 11.403471123939672, 11.248909233494297, 10.495430747319922, 10.383010959805674, 10.238321133388446, 10.21972039470009, 225.30475084438072, 151.65644503910892, 151.21127715977264, 100.37147639143922, 95.53387925948716, 73.52778570873019, 50.961019976002774, 43.98016317578296, 37.74908427637287, 34.97523236090339, 34.73871831524246, 32.04092168977323, 31.5981590227655, 24.274954968182612, 20.854777269507565, 20.65377835784618, 18.512533051736444, 18.360196245909997, 18.11980059590608, 17.778800825419232, 16.197774506473408, 15.5533550096397, 15.520595499624267, 15.518951952961167, 15.177049488420204, 14.662332536848314, 14.066353710590723, 14.05265820453226, 12.065617722098589, 11.42804076452361, 441.2095926300999, 177.6635804741946, 136.39093551891457, 109.45258705114, 93.5282024925294, 91.66166458394964, 81.89856089211712, 53.008244913304175, 50.129050925551795, 47.30387613156746, 35.90231734473637, 33.68293371821911, 33.66395576506271, 29.264869321660537, 26.571802439671497, 25.331735116986927, 24.845547002709896, 22.072626154099538, 21.71293005322923, 21.19002253215035, 20.773938368202465, 19.424079897333126, 15.02834405111189, 14.592321412686388, 13.882310411693894, 13.85093737731018, 13.015599582271106, 12.548647463537442, 12.1700138341745, 11.80336813817995, 364.6923073083631, 200.0641342966913, 167.18760654086745, 141.53877690954275, 133.72107232423684, 82.46889421482652, 77.19997434554385, 75.42576027624136, 62.495204486215904, 51.99187590588547, 48.49313274539502, 41.26652257094564, 28.576719413192873, 28.484707179895004, 25.198450321730668, 23.17093989815719, 22.467765317019325, 19.40944870713, 19.071098719065247, 18.549527671877193, 17.817764383396415, 17.539480562958992, 17.10780092923306, 15.659574020443166, 15.201906504525764, 15.082560968588705, 14.962115008937973, 14.735858611514924, 14.564434995675171, 14.029306362082135, 132.23679509702703, 107.0520395335553, 75.17666564820551, 74.62671019175389, 69.84210696168365, 56.43646802876644, 48.43076201477595, 47.780659294406384, 47.03252214206569, 42.7517760392174, 36.54251800880571, 33.56862660611527, 32.04392821938894, 25.9450041235866, 24.974917469019847, 23.75232844570341, 20.613514478443143, 20.22680500083996, 19.600561238180024, 19.51470282652693, 18.88014021863506, 18.8672526950143, 17.558401400648922, 16.70272402733748, 16.56074516826068, 15.745322184899786, 15.740108024736845, 13.790217321350125, 13.723916404885617, 13.550558735707364, 335.52641087244916, 119.21146741408107, 117.2159043755031, 107.55469433858299, 100.26907404743964, 79.9941866408412, 70.54357574656714, 68.49838662524458, 67.70876236881722, 64.93690417381208, 63.36646255786208, 62.475903377905134, 61.62357999110004, 45.24426563197359, 43.30691602975518, 41.26463046949059, 40.00123265509033, 36.991758379604974, 30.91351043831506, 29.11085979701224, 28.421155370665044, 27.335066143562283, 27.18171350946582, 26.247753464246586, 24.24983331050952, 21.565894332633967, 21.550857501574043, 20.375696612097425, 18.882163441714017, 17.454210179133405, 592.2311966774165, 329.1537484723859, 112.6951077206304, 100.0459366149453, 88.42077028146869, 66.82089678182318, 46.902370623396315, 43.6113248156114, 33.58544958694707, 31.551884515184984, 26.684837194215213, 26.672190784971768, 24.07291647706965, 23.47665062961476, 21.248356192565637, 20.46061429620185, 20.45738219651249, 18.72022359994123, 18.601230476984085, 15.517921485194446, 14.894949980234976, 14.07827303435537, 13.85278135595844, 13.748122536241125, 11.352895829393235, 11.12969995500807, 9.849293169766517, 9.640481291054854, 8.94082290779181, 8.608603463030502, 310.9469110597811, 105.83288138637705, 105.06006188672598, 95.44624060253783, 61.88438466516331, 59.82846373989708, 54.495462148318495, 53.64694277208341, 45.497444636625374, 44.87003811228636, 42.249517700494856, 39.281455288261455, 32.562283097190715, 29.62423559931093, 27.23920412189895, 26.234561168251354, 25.696152987949798, 23.140220312803404, 22.007630132319242, 21.788597256288707, 18.160604592085893, 17.566017186521396, 17.461571162930298, 17.435387815933883, 16.68306129469255, 16.67176850120307, 15.78974915913043, 15.104892878331771, 13.539632568224539, 11.431228814960265, 318.40163533225314, 282.4622319712029, 139.07490756839462, 111.62943645595361, 93.25915777097914, 70.6357465283246, 62.872827397543155, 55.661339535762956, 49.4312978272148, 45.12920302162505, 42.372003950302826, 40.248523049403786, 37.978351221797155, 34.18575122517722, 28.978343573977096, 27.190810255914396, 26.683133630518796, 22.158187306474392, 17.79975390107731, 16.990237882168433, 16.25174096408125, 15.958940816332367, 15.538150606267763, 15.448658326041757, 14.947735019896562, 14.380383479218489, 13.616417751497558, 13.50599452368437, 13.451499603346917, 12.584021455525182, 513.9058867038713, 255.48153628100235, 108.80608719444447, 108.50570743985219, 97.60630005583067, 90.40304678819604, 90.39990445751015, 89.35127649234381, 73.29977018216137, 67.36252813675743, 60.26684568725979, 51.09866015924319, 31.32863999280878, 30.001573536708545, 25.609596244912964, 24.31263959910267, 21.12011194740091, 20.357789730061427, 20.15240764839464, 16.910648529553256, 16.22582637540074, 15.33219493055105, 14.38305183345081, 14.195036584207582, 13.584538638594434, 11.564307223095565, 11.461756739272376, 10.739257281479187, 9.810752114441314, 9.769205486224775, 267.5236371657996, 215.20485303729993, 191.71740002863243, 91.17086602784535, 82.00374024898994, 74.37762088579038, 72.43845706137702, 62.9298090152882, 47.315844558852824, 39.3214488624058, 34.03201902547982, 32.13223728321836, 30.733166388724477, 30.67177468243672, 29.001358095426305, 26.53573771206348, 22.895920330347447, 20.164136739161503, 19.984977438271684, 18.824963930235455, 18.070175993151192, 17.902788848569575, 17.43637016795578, 16.61647176098134, 14.383994839141552, 13.82217113410955, 13.671776821961886, 11.469762233329236, 11.290162652877468, 11.25007805545045, 933.5897439730909, 181.6363578388572, 165.10857301612023, 132.45998760914355, 108.93890511022073, 96.46468266612382, 65.87792458124716, 58.24928721457915, 50.2330075068503, 47.3206400788086, 45.3425316868236, 35.76887619623932, 31.60219966825197, 30.94217851998223, 26.344464287642843, 25.853229544465922, 25.3278557776719, 25.006245016488236, 23.84746749374141, 21.837637668862858, 13.708365558462107, 10.281444577374113, 9.712787314038785, 9.649178722695359, 8.99154340445827, 8.536363525366424, 8.490364457406704, 8.452365853281508, 8.423890984134824, 7.35064970261105, 359.0627913700769, 212.45653530230422, 177.68222058921435, 148.45898306277726, 115.03329517519573, 96.4724653782782, 82.3343667084022, 52.84344472540951, 50.02882828431387, 40.016246610711995, 35.01053946520725, 34.59661702312045, 33.15909685033792, 31.768302095668858, 30.173870984250573, 30.083155825793508, 26.62391419056356, 25.32826336397686, 24.84479561210615, 23.879366453586808, 18.696845706891978, 18.345447786665115, 18.101058542762264, 17.711966527999113, 14.539256270581381, 12.069764570465008, 11.75677727973644, 10.757867256022852, 10.045879590516998, 9.866163277200771, 1342.898240242348, 144.7788973202864, 120.69571944873317, 102.65440746478843, 76.98179998026912, 69.08410104473943, 63.68677500601728, 61.55894992157812, 52.921299113545984, 46.25616268063319, 43.38045080640557, 32.44483729006509, 31.648558091772614, 25.863459105264248, 22.528565994757653, 21.282650457366888, 18.062876979334725, 17.943850318180033, 17.80022266420803, 17.617526562941084, 14.722631763156656, 13.54954616515471, 13.441212998087146, 12.974774846283962, 12.686565802799993, 12.198583651326604, 12.049629884354902, 11.949064983490612, 11.707071630245279, 11.683466226458078, 815.2402007079603, 200.71678041657324, 117.77017111739207, 111.14289165353796, 102.52410684693785, 94.50928952996783, 69.03730219946188, 58.55571978308755, 56.5409371582979, 52.18436862385006, 51.19941540605424, 46.64967001591005, 30.874321988391753, 29.818413735182865, 26.54401336535656, 26.529793448455187, 25.894283777590584, 25.214832613275494, 23.590242275655022, 19.837154438338185, 19.30836231808121, 18.460255814199513, 18.156225362490275, 17.814986563185286, 16.56601046231623, 16.040879707467276, 11.825718392435105, 11.78462952298087, 10.84033518127908, 10.06575551608852], \"Category\": [\"Default\", \"Default\", \"Default\", \"Default\", \"Default\", \"Default\", \"Default\", \"Default\", \"Default\", \"Default\", \"Default\", \"Default\", \"Default\", \"Default\", \"Default\", \"Default\", \"Default\", \"Default\", \"Default\", \"Default\", \"Default\", \"Default\", \"Default\", \"Default\", \"Default\", \"Default\", \"Default\", \"Default\", \"Default\", \"Default\", \"Topic1\", \"Topic1\", \"Topic1\", \"Topic1\", \"Topic1\", \"Topic1\", \"Topic1\", \"Topic1\", \"Topic1\", \"Topic1\", \"Topic1\", \"Topic1\", \"Topic1\", \"Topic1\", \"Topic1\", \"Topic1\", \"Topic1\", \"Topic1\", \"Topic1\", \"Topic1\", \"Topic1\", \"Topic1\", \"Topic1\", \"Topic1\", \"Topic1\", \"Topic1\", \"Topic1\", \"Topic1\", \"Topic1\", \"Topic1\", \"Topic2\", \"Topic2\", \"Topic2\", \"Topic2\", \"Topic2\", \"Topic2\", \"Topic2\", \"Topic2\", \"Topic2\", \"Topic2\", \"Topic2\", \"Topic2\", \"Topic2\", \"Topic2\", \"Topic2\", \"Topic2\", \"Topic2\", \"Topic2\", \"Topic2\", \"Topic2\", \"Topic2\", \"Topic2\", \"Topic2\", \"Topic2\", \"Topic2\", \"Topic2\", \"Topic2\", \"Topic2\", \"Topic2\", \"Topic2\", \"Topic3\", \"Topic3\", \"Topic3\", \"Topic3\", \"Topic3\", \"Topic3\", \"Topic3\", \"Topic3\", \"Topic3\", \"Topic3\", \"Topic3\", \"Topic3\", \"Topic3\", \"Topic3\", \"Topic3\", \"Topic3\", \"Topic3\", \"Topic3\", \"Topic3\", \"Topic3\", \"Topic3\", \"Topic3\", \"Topic3\", \"Topic3\", \"Topic3\", \"Topic3\", \"Topic3\", \"Topic3\", \"Topic3\", \"Topic3\", \"Topic4\", \"Topic4\", \"Topic4\", \"Topic4\", \"Topic4\", \"Topic4\", \"Topic4\", \"Topic4\", \"Topic4\", \"Topic4\", \"Topic4\", \"Topic4\", \"Topic4\", \"Topic4\", \"Topic4\", \"Topic4\", \"Topic4\", \"Topic4\", \"Topic4\", \"Topic4\", \"Topic4\", \"Topic4\", \"Topic4\", \"Topic4\", \"Topic4\", \"Topic4\", \"Topic4\", \"Topic4\", \"Topic4\", \"Topic4\", \"Topic5\", \"Topic5\", \"Topic5\", \"Topic5\", \"Topic5\", \"Topic5\", \"Topic5\", \"Topic5\", \"Topic5\", \"Topic5\", \"Topic5\", \"Topic5\", \"Topic5\", \"Topic5\", \"Topic5\", \"Topic5\", \"Topic5\", \"Topic5\", \"Topic5\", \"Topic5\", \"Topic5\", \"Topic5\", \"Topic5\", \"Topic5\", \"Topic5\", \"Topic5\", \"Topic5\", \"Topic5\", \"Topic5\", \"Topic5\", \"Topic6\", \"Topic6\", \"Topic6\", \"Topic6\", \"Topic6\", \"Topic6\", \"Topic6\", \"Topic6\", \"Topic6\", \"Topic6\", \"Topic6\", \"Topic6\", \"Topic6\", \"Topic6\", \"Topic6\", \"Topic6\", \"Topic6\", \"Topic6\", \"Topic6\", \"Topic6\", \"Topic6\", \"Topic6\", \"Topic6\", \"Topic6\", \"Topic6\", \"Topic6\", \"Topic6\", \"Topic6\", \"Topic6\", \"Topic6\", \"Topic7\", \"Topic7\", \"Topic7\", \"Topic7\", \"Topic7\", \"Topic7\", \"Topic7\", \"Topic7\", \"Topic7\", \"Topic7\", \"Topic7\", \"Topic7\", \"Topic7\", \"Topic7\", \"Topic7\", \"Topic7\", \"Topic7\", \"Topic7\", \"Topic7\", \"Topic7\", \"Topic7\", \"Topic7\", \"Topic7\", \"Topic7\", \"Topic7\", \"Topic7\", \"Topic7\", \"Topic7\", \"Topic7\", \"Topic7\", \"Topic8\", \"Topic8\", \"Topic8\", \"Topic8\", \"Topic8\", \"Topic8\", \"Topic8\", \"Topic8\", \"Topic8\", \"Topic8\", \"Topic8\", \"Topic8\", \"Topic8\", \"Topic8\", \"Topic8\", \"Topic8\", \"Topic8\", \"Topic8\", \"Topic8\", \"Topic8\", \"Topic8\", \"Topic8\", \"Topic8\", \"Topic8\", \"Topic8\", \"Topic8\", \"Topic8\", \"Topic8\", \"Topic8\", \"Topic8\", \"Topic9\", \"Topic9\", \"Topic9\", \"Topic9\", \"Topic9\", \"Topic9\", \"Topic9\", \"Topic9\", \"Topic9\", \"Topic9\", \"Topic9\", \"Topic9\", \"Topic9\", \"Topic9\", \"Topic9\", \"Topic9\", \"Topic9\", \"Topic9\", \"Topic9\", \"Topic9\", \"Topic9\", \"Topic9\", \"Topic9\", \"Topic9\", \"Topic9\", \"Topic9\", \"Topic9\", \"Topic9\", \"Topic9\", \"Topic9\", \"Topic10\", \"Topic10\", \"Topic10\", \"Topic10\", \"Topic10\", \"Topic10\", \"Topic10\", \"Topic10\", \"Topic10\", \"Topic10\", \"Topic10\", \"Topic10\", \"Topic10\", \"Topic10\", \"Topic10\", \"Topic10\", \"Topic10\", \"Topic10\", \"Topic10\", \"Topic10\", \"Topic10\", \"Topic10\", \"Topic10\", \"Topic10\", \"Topic10\", \"Topic10\", \"Topic10\", \"Topic10\", \"Topic10\", \"Topic10\", \"Topic11\", \"Topic11\", \"Topic11\", \"Topic11\", \"Topic11\", \"Topic11\", \"Topic11\", \"Topic11\", \"Topic11\", \"Topic11\", \"Topic11\", \"Topic11\", \"Topic11\", \"Topic11\", \"Topic11\", \"Topic11\", \"Topic11\", \"Topic11\", \"Topic11\", \"Topic11\", \"Topic11\", \"Topic11\", \"Topic11\", \"Topic11\", \"Topic11\", \"Topic11\", \"Topic11\", \"Topic11\", \"Topic11\", \"Topic11\", \"Topic12\", \"Topic12\", \"Topic12\", \"Topic12\", \"Topic12\", \"Topic12\", \"Topic12\", \"Topic12\", \"Topic12\", \"Topic12\", \"Topic12\", \"Topic12\", \"Topic12\", \"Topic12\", \"Topic12\", \"Topic12\", \"Topic12\", \"Topic12\", \"Topic12\", \"Topic12\", \"Topic12\", \"Topic12\", \"Topic12\", \"Topic12\", \"Topic12\", \"Topic12\", \"Topic12\", \"Topic12\", \"Topic12\", \"Topic12\", \"Topic13\", \"Topic13\", \"Topic13\", \"Topic13\", \"Topic13\", \"Topic13\", \"Topic13\", \"Topic13\", \"Topic13\", \"Topic13\", \"Topic13\", \"Topic13\", \"Topic13\", \"Topic13\", \"Topic13\", \"Topic13\", \"Topic13\", \"Topic13\", \"Topic13\", \"Topic13\", \"Topic13\", \"Topic13\", \"Topic13\", \"Topic13\", \"Topic13\", \"Topic13\", \"Topic13\", \"Topic13\", \"Topic13\", \"Topic13\", \"Topic14\", \"Topic14\", \"Topic14\", \"Topic14\", \"Topic14\", \"Topic14\", \"Topic14\", \"Topic14\", \"Topic14\", \"Topic14\", \"Topic14\", \"Topic14\", \"Topic14\", \"Topic14\", \"Topic14\", \"Topic14\", \"Topic14\", \"Topic14\", \"Topic14\", \"Topic14\", \"Topic14\", \"Topic14\", \"Topic14\", \"Topic14\", \"Topic14\", \"Topic14\", \"Topic14\", \"Topic14\", \"Topic14\", \"Topic14\", \"Topic15\", \"Topic15\", \"Topic15\", \"Topic15\", \"Topic15\", \"Topic15\", \"Topic15\", \"Topic15\", \"Topic15\", \"Topic15\", \"Topic15\", \"Topic15\", \"Topic15\", \"Topic15\", \"Topic15\", \"Topic15\", \"Topic15\", \"Topic15\", \"Topic15\", \"Topic15\", \"Topic15\", \"Topic15\", \"Topic15\", \"Topic15\", \"Topic15\", \"Topic15\", \"Topic15\", \"Topic15\", \"Topic15\", \"Topic15\", \"Topic16\", \"Topic16\", \"Topic16\", \"Topic16\", \"Topic16\", \"Topic16\", \"Topic16\", \"Topic16\", \"Topic16\", \"Topic16\", \"Topic16\", \"Topic16\", \"Topic16\", \"Topic16\", \"Topic16\", \"Topic16\", \"Topic16\", \"Topic16\", \"Topic16\", \"Topic16\", \"Topic16\", \"Topic16\", \"Topic16\", \"Topic16\", \"Topic16\", \"Topic16\", \"Topic16\", \"Topic16\", \"Topic16\", \"Topic16\"], \"logprob\": [30.0, 29.0, 28.0, 27.0, 26.0, 25.0, 24.0, 23.0, 22.0, 21.0, 20.0, 19.0, 18.0, 17.0, 16.0, 15.0, 14.0, 13.0, 12.0, 11.0, 10.0, 9.0, 8.0, 7.0, 6.0, 5.0, 4.0, 3.0, 2.0, 1.0, -2.1988, -2.701, -2.8915, -2.9569, -3.0185, -3.2265, -3.7051, -3.7405, -3.8178, -3.8194, -3.8369, -3.8832, -4.1599, -4.2203, -4.2679, -4.3358, -4.3941, -4.4028, -4.5208, -4.5478, -4.5821, -4.6694, -4.7345, -4.738, -4.8413, -4.875, -4.9588, -5.0699, -5.1022, -5.1268, -1.6975, -2.6094, -2.7256, -3.22, -3.2998, -3.4405, -3.6349, -3.6949, -4.0156, -4.0618, -4.2462, -4.3203, -4.3268, -4.3843, -4.4793, -4.4984, -4.6134, -4.7031, -4.8084, -4.9055, -4.9578, -4.9663, -4.9956, -5.0305, -5.248, -5.2632, -5.341, -5.3531, -5.369, -5.371, -2.192, -2.5905, -2.5934, -3.0072, -3.0572, -3.3228, -3.6967, -3.8479, -4.0052, -4.0841, -4.0911, -4.175, -4.1894, -4.4649, -4.6253, -4.6355, -4.7521, -4.7609, -4.775, -4.7954, -4.8955, -4.9394, -4.9417, -4.9418, -4.9659, -5.0034, -5.0487, -5.0497, -5.2175, -5.2779, -1.6492, -2.5629, -2.8293, -3.0515, -3.2106, -3.231, -3.3452, -3.7883, -3.8455, -3.905, -4.189, -4.2551, -4.2557, -4.4013, -4.5021, -4.5522, -4.5726, -4.6973, -4.7146, -4.7404, -4.7615, -4.8329, -5.1088, -5.1408, -5.1953, -5.1977, -5.266, -5.3063, -5.3402, -5.3742, -1.8932, -2.4963, -2.677, -2.8448, -2.9021, -3.3911, -3.4581, -3.4817, -3.6731, -3.8611, -3.9324, -4.0982, -4.479, -4.4824, -4.6107, -4.6989, -4.7314, -4.8866, -4.9054, -4.935, -4.9781, -4.995, -5.0217, -5.1171, -5.1493, -5.1578, -5.1665, -5.1831, -5.1958, -5.2367, -2.6841, -2.8975, -3.2557, -3.2631, -3.3305, -3.5477, -3.7042, -3.7181, -3.7343, -3.8323, -3.9941, -4.0819, -4.1301, -4.3503, -4.3903, -4.443, -4.5927, -4.6128, -4.6463, -4.651, -4.6862, -4.6869, -4.7638, -4.8175, -4.8266, -4.8811, -4.8815, -5.0253, -5.0305, -5.0445, -1.9937, -3.0351, -3.0521, -3.1391, -3.21, -3.439, -3.5668, -3.5967, -3.6085, -3.6511, -3.676, -3.6905, -3.7045, -4.0207, -4.0656, -4.1154, -4.1474, -4.2281, -4.4143, -4.4769, -4.5019, -4.5426, -4.5485, -4.5851, -4.6682, -4.792, -4.7928, -4.8522, -4.9333, -5.0175, -1.3581, -1.9471, -3.026, -3.1464, -3.2716, -3.5561, -3.9179, -3.9926, -4.2623, -4.3272, -4.502, -4.5025, -4.6101, -4.6365, -4.7419, -4.782, -4.7822, -4.8767, -4.8835, -5.0786, -5.1231, -5.1846, -5.2022, -5.2106, -5.4224, -5.4446, -5.5827, -5.6072, -5.6937, -5.7376, -1.9012, -2.9864, -2.9938, -3.0909, -3.531, -3.5654, -3.6608, -3.6768, -3.8456, -3.8598, -3.9217, -3.9967, -4.1907, -4.289, -4.3765, -4.4158, -4.4376, -4.5476, -4.6006, -4.6112, -4.8047, -4.8404, -4.8468, -4.8484, -4.8958, -4.8965, -4.9551, -5.0031, -5.1223, -5.3093, -1.9738, -2.094, -2.8069, -3.0289, -3.2108, -3.4928, -3.6113, -3.7357, -3.8571, -3.9505, -4.0154, -4.0683, -4.1282, -4.237, -4.4087, -4.4752, -4.495, -4.6904, -4.9234, -4.9734, -5.0212, -5.0409, -5.0698, -5.076, -5.1118, -5.1539, -5.2136, -5.2225, -5.2269, -5.3003, -1.5708, -2.2721, -3.132, -3.1348, -3.2419, -3.3196, -3.3196, -3.3314, -3.5324, -3.6184, -3.7318, -3.9005, -4.4049, -4.45, -4.6154, -4.67, -4.8186, -4.8576, -4.8684, -5.0559, -5.1005, -5.1618, -5.2313, -5.2456, -5.2938, -5.4718, -5.4817, -5.5547, -5.657, -5.6619, -2.1156, -2.3343, -2.4506, -3.2008, -3.3082, -3.4074, -3.4342, -3.5775, -3.869, -4.0594, -4.2087, -4.2683, -4.3146, -4.3167, -4.375, -4.4679, -4.6229, -4.7575, -4.767, -4.8307, -4.8744, -4.8844, -4.9127, -4.9645, -5.1209, -5.1644, -5.1764, -5.3705, -5.3882, -5.3922, -1.0514, -2.6937, -2.7898, -3.0119, -3.2094, -3.3325, -3.7197, -3.8452, -3.9967, -4.0579, -4.1017, -4.3462, -4.4747, -4.4966, -4.6646, -4.6843, -4.7058, -4.7193, -4.7692, -4.8621, -5.3629, -5.6831, -5.7478, -5.7553, -5.8364, -5.8966, -5.9029, -5.9081, -5.912, -6.0729, -1.8622, -2.3893, -2.5692, -2.7502, -3.0077, -3.1856, -3.3463, -3.798, -3.8541, -4.0836, -4.2216, -4.2339, -4.2779, -4.3224, -4.376, -4.3791, -4.5067, -4.559, -4.5793, -4.6209, -4.8804, -4.9007, -4.915, -4.9383, -5.1517, -5.3564, -5.3857, -5.4851, -5.5625, -5.583, -0.7869, -3.0218, -3.2054, -3.369, -3.6608, -3.7709, -3.8537, -3.8884, -4.0429, -4.1808, -4.2468, -4.547, -4.5728, -4.7836, -4.9289, -4.9891, -5.1639, -5.171, -5.1796, -5.1907, -5.3848, -5.4755, -5.4844, -5.5232, -5.548, -5.5915, -5.6051, -5.6144, -5.6372, -5.6395, -1.1716, -2.5777, -3.1152, -3.1737, -3.2553, -3.3377, -3.6566, -3.8244, -3.8602, -3.9422, -3.9617, -4.0571, -4.4835, -4.5197, -4.6412, -4.6418, -4.6672, -4.6951, -4.7652, -4.9487, -4.9775, -5.0254, -5.0432, -5.0636, -5.1417, -5.1765, -5.5107, -5.5146, -5.6081, -5.6919], \"loglift\": [30.0, 29.0, 28.0, 27.0, 26.0, 25.0, 24.0, 23.0, 22.0, 21.0, 20.0, 19.0, 18.0, 17.0, 16.0, 15.0, 14.0, 13.0, 12.0, 11.0, 10.0, 9.0, 8.0, 7.0, 6.0, 5.0, 4.0, 3.0, 2.0, 1.0, 2.7541, 2.7511, 2.7495, 2.7489, 2.7483, 2.7459, 2.7382, 2.7375, 2.7358, 2.7358, 2.7354, 2.7343, 2.7267, 2.7247, 2.7231, 2.7206, 2.7184, 2.718, 2.7131, 2.7118, 2.7103, 2.706, 2.7025, 2.7023, 2.6964, 2.6943, 2.6889, 2.681, 2.6785, 2.6766, 2.9499, 2.945, 2.944, 2.9381, 2.9369, 2.9345, 2.9305, 2.9291, 2.9201, 2.9186, 2.9117, 2.9086, 2.9083, 2.9057, 2.9011, 2.9001, 2.8938, 2.8884, 2.8815, 2.8745, 2.8704, 2.8697, 2.8673, 2.8644, 2.844, 2.8424, 2.8339, 2.8326, 2.8308, 2.8305, 2.9164, 2.9138, 2.9138, 2.9097, 2.9091, 2.9054, 2.8981, 2.8943, 2.8897, 2.8871, 2.8869, 2.8839, 2.8833, 2.8715, 2.863, 2.8624, 2.8553, 2.8548, 2.8538, 2.8525, 2.8455, 2.8422, 2.842, 2.842, 2.8402, 2.8372, 2.8334, 2.8333, 2.818, 2.8119, 2.7871, 2.7831, 2.7811, 2.7789, 2.777, 2.7767, 2.7752, 2.7671, 2.7658, 2.7643, 2.756, 2.7538, 2.7538, 2.7482, 2.7439, 2.7416, 2.7406, 2.7343, 2.7333, 2.7319, 2.7307, 2.7265, 2.7071, 2.7045, 2.7, 2.6998, 2.6937, 2.6899, 2.6867, 2.6833, 2.7336, 2.7309, 2.7298, 2.7285, 2.728, 2.7223, 2.7213, 2.721, 2.7176, 2.7137, 2.712, 2.7076, 2.6943, 2.6941, 2.6884, 2.684, 2.6823, 2.6735, 2.6723, 2.6704, 2.6676, 2.6665, 2.6646, 2.6577, 2.6552, 2.6545, 2.6538, 2.6525, 2.6514, 2.648, 2.9572, 2.9551, 2.9503, 2.9502, 2.9491, 2.945, 2.9415, 2.9411, 2.9407, 2.9382, 2.9333, 2.9304, 2.9286, 2.9196, 2.9177, 2.9152, 2.9072, 2.906, 2.904, 2.9037, 2.9016, 2.9015, 2.8965, 2.8928, 2.8922, 2.8882, 2.8882, 2.8766, 2.8762, 2.875, 2.7164, 2.7099, 2.7097, 2.7088, 2.708, 2.7049, 2.7029, 2.7023, 2.7021, 2.7014, 2.7009, 2.7006, 2.7003, 2.6931, 2.6919, 2.6905, 2.6895, 2.687, 2.6804, 2.6779, 2.6769, 2.6751, 2.6748, 2.6732, 2.6692, 2.6627, 2.6627, 2.6593, 2.6543, 2.6487, 2.7839, 2.7822, 2.7752, 2.7738, 2.7722, 2.7677, 2.7599, 2.7579, 2.7494, 2.7471, 2.7398, 2.7398, 2.7347, 2.7333, 2.7277, 2.7254, 2.7253, 2.7195, 2.7191, 2.7053, 2.7018, 2.6967, 2.6951, 2.6944, 2.674, 2.6716, 2.6558, 2.6527, 2.6415, 2.6355, 2.885, 2.8776, 2.8776, 2.8764, 2.8696, 2.869, 2.867, 2.8666, 2.8626, 2.8623, 2.8606, 2.8584, 2.852, 2.8483, 2.8447, 2.8429, 2.842, 2.8367, 2.8339, 2.8333, 2.8219, 2.8195, 2.8191, 2.819, 2.8157, 2.8157, 2.8114, 2.8078, 2.798, 2.7803, 2.7888, 2.7883, 2.7839, 2.7818, 2.7797, 2.7755, 2.7734, 2.7709, 2.7681, 2.7658, 2.764, 2.7625, 2.7607, 2.7571, 2.7506, 2.7477, 2.7469, 2.7373, 2.7233, 2.7199, 2.7164, 2.715, 2.7128, 2.7123, 2.7095, 2.7061, 2.701, 2.7002, 2.6998, 2.6931, 2.713, 2.7106, 2.7043, 2.7043, 2.703, 2.702, 2.702, 2.7019, 2.6989, 2.6974, 2.6953, 2.6917, 2.6764, 2.6747, 2.6675, 2.6649, 2.657, 2.6548, 2.6542, 2.642, 2.6388, 2.6341, 2.6285, 2.6273, 2.6232, 2.6062, 2.6051, 2.5973, 2.5853, 2.5847, 2.8211, 2.82, 2.8193, 2.8123, 2.8109, 2.8093, 2.8089, 2.8064, 2.8, 2.7947, 2.7898, 2.7877, 2.7859, 2.7858, 2.7835, 2.7795, 2.772, 2.7645, 2.7639, 2.76, 2.7572, 2.7565, 2.7546, 2.751, 2.7389, 2.7352, 2.7341, 2.7156, 2.7138, 2.7133, 2.6355, 2.6301, 2.6294, 2.6276, 2.6257, 2.6242, 2.6183, 2.6159, 2.6125, 2.611, 2.6099, 2.6026, 2.598, 2.5971, 2.59, 2.5891, 2.5881, 2.5875, 2.585, 2.5801, 2.545, 2.5124, 2.5046, 2.5037, 2.4932, 2.4849, 2.4841, 2.4833, 2.4828, 2.4581, 2.7801, 2.7778, 2.7767, 2.7754, 2.773, 2.771, 2.7688, 2.7605, 2.7592, 2.753, 2.7486, 2.7482, 2.7466, 2.745, 2.7429, 2.7428, 2.7373, 2.7349, 2.734, 2.7319, 2.7171, 2.7158, 2.7149, 2.7133, 2.6973, 2.6787, 2.6758, 2.6652, 2.6562, 2.6537, 2.5364, 2.5289, 2.5272, 2.5254, 2.5215, 2.5196, 2.5181, 2.5175, 2.5142, 2.5108, 2.5091, 2.4994, 2.4984, 2.4895, 2.4822, 2.4789, 2.4681, 2.4676, 2.467, 2.4663, 2.4517, 2.444, 2.4432, 2.4396, 2.4373, 2.4331, 2.4317, 2.4308, 2.4285, 2.4282, 2.6508, 2.6462, 2.642, 2.6414, 2.6404, 2.6394, 2.6346, 2.6315, 2.6307, 2.6289, 2.6284, 2.6261, 2.6125, 2.611, 2.6058, 2.6058, 2.6046, 2.6033, 2.5999, 2.5896, 2.5879, 2.5848, 2.5836, 2.5823, 2.5768, 2.5742, 2.5449, 2.5445, 2.5345, 2.5248]}, \"token.table\": {\"Topic\": [9, 11, 3, 3, 11, 2, 4, 16, 12, 14, 7, 13, 9, 16, 11, 6, 11, 7, 2, 7, 14, 1, 4, 2, 1, 4, 5, 16, 12, 2, 2, 13, 14, 4, 8, 7, 16, 7, 12, 10, 12, 5, 14, 16, 7, 14, 4, 2, 8, 15, 13, 5, 11, 11, 10, 13, 11, 16, 8, 7, 7, 16, 5, 3, 14, 6, 7, 15, 6, 16, 16, 5, 13, 1, 5, 13, 13, 1, 5, 14, 14, 2, 6, 13, 7, 6, 8, 4, 8, 8, 11, 6, 11, 9, 15, 1, 16, 10, 5, 11, 9, 5, 10, 8, 12, 3, 1, 10, 11, 10, 2, 12, 3, 7, 7, 3, 1, 9, 14, 13, 3, 10, 10, 9, 1, 13, 8, 12, 5, 11, 12, 8, 2, 5, 10, 5, 1, 10, 8, 10, 2, 10, 3, 14, 16, 9, 15, 4, 12, 12, 15, 1, 8, 1, 4, 11, 16, 13, 9, 15, 9, 4, 11, 15, 4, 6, 8, 13, 13, 11, 8, 12, 13, 6, 8, 11, 10, 15, 10, 15, 11, 6, 11, 15, 12, 12, 9, 4, 9, 5, 16, 7, 6, 7, 8, 10, 9, 1, 3, 6, 14, 16, 13, 2, 2, 13, 5, 9, 1, 6, 12, 5, 3, 3, 6, 12, 15, 16, 7, 8, 3, 13, 8, 7, 15, 9, 12, 1, 13, 14, 14, 4, 5, 14, 8, 14, 4, 5, 9, 9, 10, 5, 16, 14, 2, 6, 12, 3, 16, 6, 8, 8, 9, 6, 14, 9, 10, 1, 11, 9, 15, 16, 5, 13, 9, 2, 8, 5, 4, 5, 8, 7, 6, 1, 15, 12, 4, 1, 3, 7, 10, 13, 7, 1, 11, 15, 3, 12, 10, 9, 7, 12, 10, 14, 13, 10, 2, 14, 1, 5, 4, 11, 5, 6, 8, 7, 7, 6, 14, 6, 1, 1, 9, 9, 6, 13, 15, 15, 14, 10, 15, 3, 15, 3, 4, 2, 15, 9, 3, 1, 8, 13, 2, 15, 3, 16, 3, 11, 15, 9, 2, 10, 2, 4, 7, 2, 16, 5, 15, 8, 15, 7, 9, 1, 12, 10, 12, 2, 7, 1, 2, 11, 8, 7, 4, 6, 5, 8, 5, 4, 14, 12, 16, 11, 4, 12, 4, 5, 12, 6, 12, 2, 10, 6, 14, 10, 2, 6, 16, 15, 13, 3, 8, 16, 7, 12, 4, 10, 3, 16, 11, 2, 3, 4, 1, 3, 8, 11, 10, 14, 14, 14, 13, 11, 15, 16, 2, 7, 14, 12, 4, 16, 12, 15, 15, 9, 4, 14, 2, 16, 3, 1, 3, 9, 13, 2, 3, 4, 9, 1, 15, 1, 6, 6, 3, 2, 6, 1, 7, 7, 15, 12, 1, 13, 14, 14, 11, 4, 16, 13, 9, 6, 2, 4, 8, 16, 13, 10, 11, 6, 5, 16, 3, 5, 5, 4, 10, 3, 13, 11], \"Freq\": [0.984847589665052, 0.9925915248380917, 0.922445433856016, 0.9382001700306192, 0.9822677454658966, 0.8806503164868744, 0.9724361672193425, 0.9423367750138189, 0.9422669686175759, 0.9758154498356523, 0.9484601277664099, 0.830969917961128, 0.9725580426449391, 0.9351108089799632, 0.9784992374395074, 0.9532710520295904, 0.9845143148556298, 0.9324834562328216, 0.9965355396476692, 0.9749699549580526, 0.947558056196384, 0.962372752195468, 0.9385646361592728, 0.9284989699547296, 0.9200282011176527, 0.9315730297619979, 0.9346723941473836, 0.9208973142681862, 0.9454946868987658, 0.9717374093592837, 0.9890734676744153, 0.9913813608712996, 0.9901724837886009, 0.9319373818748122, 0.9455836581126612, 0.9954506982968043, 0.9322385660405803, 0.9873433153791844, 0.9696750573421122, 0.8884943629257787, 0.9654720274777675, 0.9693087158296843, 0.979435291219154, 0.9964288964027541, 0.970449475799978, 0.9837933203138851, 0.9364435468212358, 0.9648363971232294, 0.9979210877705804, 0.9397325788939552, 0.969550349553643, 0.9500634044534122, 0.9371487066988535, 0.9848768081958, 0.9010081286219928, 0.9720916691615079, 0.9461494023743799, 0.9418319549457543, 0.9139180346716664, 0.9565254225398889, 0.9781188332143447, 0.9840302520791964, 0.9541039848883368, 0.9199285317585524, 0.9746041496445608, 0.9824153261252171, 0.9895321913439133, 0.955044232911924, 0.978046634646833, 0.9725534113769031, 0.9897169163359484, 0.926631699706544, 0.9785043233670239, 0.9651944424633391, 0.9946810341572108, 0.9703913381789898, 0.8897248937299648, 0.9629897311857447, 0.9946076387834488, 0.8958896947655757, 0.9639946077444175, 0.9430516707718595, 0.9526638974961992, 0.9644629982632823, 0.9166842747847783, 0.9529794825058566, 0.9373058329384045, 0.989028367747502, 0.8808325338553255, 0.8984968184609744, 0.9038415595336844, 0.9217254059160801, 0.9797732036720583, 0.9520216966197466, 0.912891109981915, 0.9537389317202556, 0.9334192456834739, 0.9653144604789631, 0.9164653839554944, 0.8724666059031041, 0.9268519884760812, 0.8940217646867893, 0.93692144056897, 0.8131400209176063, 0.9721901918665715, 0.9792216548614384, 0.9777362200026423, 0.9417172443943409, 0.9311630905096107, 0.9229780386699626, 0.9698083943617497, 0.9801423564259766, 0.8866256420886199, 0.9855720843835681, 0.9855450815220691, 0.9561949743930006, 0.9549624361765441, 0.9162978434590633, 0.894131017299977, 0.9489659659439923, 0.9001273353127375, 0.9477309542312614, 0.9854031650818506, 0.9176738807827316, 0.9719888522547169, 0.82817049350536, 0.8947722242689881, 0.8777205886453325, 0.9438365489663961, 0.9789793928516887, 0.9871574541423381, 0.9895454363232074, 0.9470206295217415, 0.9821885059959682, 0.9689796555299367, 0.9209371203429028, 0.8993358508958471, 0.8920938448389975, 0.9234087141424202, 0.986117573621681, 0.987958374107013, 0.9710447046683288, 0.9021227749421998, 0.9295522766746768, 0.9734318049739544, 0.9704252789498655, 0.9473997887051164, 0.9906363449967945, 0.9421256824013107, 0.9962580338116139, 0.9666147091249484, 0.9747811046170658, 0.9384397014544926, 0.9953508659279092, 0.9500360113433702, 0.8833571988898709, 0.9654640466107615, 0.9493010079971882, 0.9729082797617115, 0.8670589165723824, 0.9507256068701937, 0.9867286183883319, 0.9982372517472382, 0.8559103784931783, 0.940846977044929, 0.9579275795859808, 0.8298340879954808, 0.9597602512562461, 0.9669971775480344, 0.9460099923024764, 0.9527935577327137, 0.885726832062189, 0.948326038181493, 0.9836616048013014, 0.9287600836454558, 0.9861232420360299, 0.9662388027293713, 0.9843075175279858, 0.956205414818215, 0.9838837171666894, 0.9333036764764084, 0.8855723394178977, 0.9212622267686552, 0.9321498760678621, 0.9608698703777394, 0.9037823042472567, 0.9499834258814835, 0.980979469987109, 0.8747965911514964, 0.9282243267013293, 0.9646370485504523, 0.9724989318625544, 0.9879427039315173, 0.9784355556124927, 0.9554305570705717, 0.9040092719910202, 0.9806098200739409, 0.9598352547875244, 0.8750406308527777, 0.968326118114138, 0.9847369363630906, 0.9224807012674006, 0.9848163843425135, 0.9643148816453773, 0.9618278899306661, 0.9982971706969216, 0.9448250378080503, 0.9921302210100814, 0.9951407402643972, 0.9843479936485637, 0.9663936884159626, 0.949465153191722, 0.959012879473071, 0.9250918801830136, 0.9112446876518424, 0.8888827215874462, 0.9746754952193936, 0.95425275453929, 0.9736532672828401, 0.9021826804161442, 0.9474785856511905, 0.9909910226216442, 0.9286133702997867, 0.9781252274824768, 0.9509169437379369, 0.9670872804267355, 0.9877598235648488, 0.9667044472917493, 0.8244640186079926, 0.9538504871140016, 0.9650443781515086, 0.9266848208584311, 0.9273833724802166, 0.9970400960622469, 0.9877149690986117, 0.9910174252278697, 0.9438404310167768, 0.9809224828186438, 0.8862869756275498, 0.9590565974297622, 0.9922710172008131, 0.9478770425646876, 0.9325889807712513, 0.9631746321538307, 0.9361300896761747, 0.9782020380159592, 0.9944013667893861, 0.9259160290177726, 0.9301760480815005, 0.9533827498925912, 0.9615269766359258, 0.9630526056609361, 0.910849615488079, 0.9704575778853235, 0.9610964405308393, 0.9638068827004869, 0.9399120012180892, 0.9807173913545902, 0.9131112709833535, 0.9529414210386946, 0.9554678830056111, 0.9716812570420014, 0.9891282308414593, 0.8753633725562138, 0.9693003424429911, 0.9504357262401932, 0.936861627374648, 0.9928965635345874, 0.9972584625304962, 0.9760748924896199, 0.9839317133638853, 0.9698220018978672, 0.9426972539347365, 0.9559966639487579, 0.8856385190863684, 0.9647631979921395, 0.9567785761228622, 0.9572166312148473, 0.9721164865799851, 0.9532805949679917, 0.9768425109279665, 0.9754542368047114, 0.9731897475803213, 0.9352756601247203, 0.9835430699154474, 0.9017440314723539, 0.9182968074920157, 0.9495727254448567, 0.9062275638784918, 0.9673776014952177, 0.9896267969608635, 0.9852246649109914, 0.9676200362882997, 0.9840388012213757, 0.8290861046218984, 0.9749784408759897, 0.9438725827412304, 0.9905324202746008, 0.9460255859714464, 0.9356965904644343, 0.8765884954504187, 0.9244521451764601, 0.9352458604226508, 0.9223814556649078, 0.9964948037877723, 0.9280373181688585, 0.9499965658633325, 0.9745471664166819, 0.9356305506407105, 0.9906471183295122, 0.978509524777857, 0.9422298415861964, 0.9969547500679335, 0.9542145098649449, 0.9674219648651788, 0.8200213099171553, 0.9946200908094824, 0.9872463364000224, 0.9266604008628729, 0.9955979015912072, 0.9205741215064205, 0.9020272450460372, 0.9681780437790718, 0.989077648241842, 0.9505715912688548, 0.9658179571856105, 0.9411568278657528, 0.9545065958479054, 0.9801562265487399, 0.9899692498634318, 0.9807606606787124, 0.9475733046915685, 0.8790503719061784, 0.9081865120417305, 0.9116814616008534, 0.9577986630622655, 0.9494224007919552, 0.9428153862059038, 0.8541845745749902, 0.9857090820253214, 0.9521920724454972, 0.9948232655353655, 0.8769259720408008, 0.921970587997, 0.9875717638669805, 0.8889750812660488, 0.9934603889076091, 0.8925852601807265, 0.9993311181626198, 0.9412492815325445, 0.947910483409948, 0.9618403645664134, 0.9360921831538767, 0.935943753250352, 0.9507141080687221, 0.9365967473577064, 0.9561771308942351, 0.857516019749662, 0.9511592129848676, 0.9836306090861927, 0.9875405077623738, 0.9469646775457194, 0.9137711554395076, 0.9273902436652292, 0.9514046880234811, 0.9577884039508716, 0.981097170634812, 0.9508148391441371, 0.9953596298182067, 0.9748674344312581, 0.9092442793028724, 0.9405179456879503, 0.9849747576105319, 0.9844800940007784, 0.9898018478015228, 0.9407766701576785, 0.9836605168088046, 0.9122276992506742, 0.9943046633862289, 0.9901726343735325, 0.8718576546374824, 0.9765173484320074, 0.9742392391896243, 0.9393475637507251, 0.9390054302706875, 0.9701527209079198, 0.8986207269246299, 0.9635766439240032, 0.9765736503719452, 0.9735145168544347, 0.9266135156683059, 0.924191177576613, 0.9371013074687907, 0.9984787296960046, 0.9524624663232145, 0.9027187128390802, 0.9627447451472615, 0.8741243837573325, 0.9811420576657353, 0.9727465225066267, 0.9666159664764561, 0.9678613348575289, 0.9942089510341399, 0.9671656450105315, 0.9565945926595589, 0.926053143535569, 0.9399158787761932, 0.915813067679086, 0.9550693843565498, 0.9391715937407139, 0.9122087023227818, 0.9659970794167247, 0.9866734632757834, 0.9575902435243355, 0.9248715405213261, 0.8941206634330549, 0.9569624331697938, 0.9763764379847752, 0.9113682322285932, 0.9176221797243378, 0.9774771134760045, 0.9054684611072452, 0.9814780189338703, 0.892776567241941, 0.9825911470621823, 0.8997245852422656, 0.9659678652831563, 0.9711361355567941, 0.9914438786496876, 0.9363179659094246, 0.991989505131335, 0.9859758799059262, 0.9675127419912684, 0.9899099442005953, 0.816254377877471, 0.866800587502071, 0.9787350152490132, 0.9038609281701065, 0.9451720671790529, 0.9781278396497276, 0.9728433443710814, 0.9921944737647643, 0.9472514708244719, 0.9183410506091896, 0.9863359946396465, 0.9385387932448505, 0.9540339704442781, 0.9903967357113044, 0.9693531614096095, 0.9898376604167363, 0.9859504590843966, 0.9761441310846036, 0.9792001113354765, 0.988977897133347, 0.9931443139641164, 0.9598030785077628, 0.9173608603108118, 0.9474281919167119, 0.9518207147393122, 0.9932857937303353, 0.9861526823837763, 0.9057563441497843, 0.9066819809802602, 0.89087949972771, 0.9849584622179647, 0.9851341611859809, 0.9785527467490372, 0.986498293560925, 0.9942010044930495, 0.9609641365089922, 0.969209398096954, 0.9773041495933944, 0.9777135166173582, 0.9844562856954743, 0.9524395228107679, 0.981871760768344, 0.8812890599423786, 0.9839441329989241, 0.9616424779289565, 0.8647297072866224], \"Term\": [\"access\", \"accommodation\", \"accomodation\", \"act\", \"activity\", \"addition\", \"adult\", \"adult_child\", \"adult_weekend\", \"afternoon\", \"age\", \"age_group\", \"air\", \"ale\", \"amenity\", \"amount\", \"apartment\", \"arcade\", \"area\", \"arrival\", \"ate\", \"atmosphere\", \"attention\", \"attentive\", \"attraction\", \"awful\", \"baby\", \"bag\", \"balcony\", \"base\", \"bath\", \"bathroom\", \"beach\", \"beachcomber\", \"beauty\", \"bed\", \"bed_comfy\", \"bedroom\", \"beer\", \"behaviour\", \"bike\", \"birthday\", \"biscuit\", \"bit\", \"bonus\", \"book\", \"bottom\", \"boy\", \"breakfast\", \"breakfast_dinner\", \"brighton\", \"budget\", \"buffet\", \"building\", \"bunk\", \"burger\", \"butin\", \"cafe\", \"cake\", \"camp\", \"car\", \"car_park\", \"card\", \"care\", \"carpet\", \"case\", \"centre\", \"centre_stage\", \"chair\", \"character\", \"check\", \"checkout\", \"chef\", \"chicken\", \"child\", \"chip\", \"chip_shop\", \"chocolate\", \"choice\", \"choice_breakfast\", \"christmas\", \"christmas_party\", \"cinema\", \"class\", \"cleanliness\", \"clothes\", \"coast\", \"coffee\", \"coffee_facility\", \"coffee_making\", \"cold\", \"comfort\", \"comfy\", \"comfy_bed\", \"comment\", \"company\", \"complain\", \"complaint\", \"condition\", \"contact\", \"control\", \"conversation\", \"cook\", \"cooking\", \"cost\", \"couple\", \"course\", \"criticism\", \"cupboard\", \"curtain\", \"customer\", \"customer_service\", \"date\", \"daughter\", \"day\", \"decent\", \"decor\", \"decoration\", \"desk\", \"dessert\", \"detail\", \"diner\", \"dinner\", \"direction\", \"dirty\", \"dirty_room\", \"disaster\", \"disco\", \"dish\", \"distance\", \"dog\", \"door\", \"downstairs\", \"drink\", \"drive\", \"drop\", \"duck\", \"dust\", \"effort\", \"end\", \"entertainment\", \"entrance\", \"entry\", \"environment\", \"evening\", \"event\", \"example\", \"experience\", \"fab\", \"facility\", \"fact\", \"fair\", \"fairground\", \"family\", \"family_holiday\", \"family_meal\", \"fan\", \"fault\", \"feeling\", \"filthy\", \"fish\", \"floor\", \"food\", \"food_drink\", \"food_good\", \"food_ok\", \"food_outlet\", \"food_restaurant\", \"food_service\", \"foot\", \"football\", \"form\", \"friday\", \"fridge\", \"fridge_tea\", \"friend\", \"front\", \"fun\", \"game\", \"garden\", \"gate\", \"gem\", \"gin\", \"girl\", \"glass\", \"glass_wine\", \"golf\", \"good\", \"granddaughter\", \"gripe\", \"ground\", \"ground_floor\", \"group\", \"guest\", \"hair\", \"hairdryer\", \"hand\", \"head\", \"heater\", \"help\", \"helpful\", \"highlight\", \"holiday\", \"holiday_park\", \"hope\", \"hotel\", \"hotel_restaurant\", \"hour\", \"house\", \"husband\", \"i\", \"ice_cream\", \"idea\", \"immaculate\", \"info\", \"instruction\", \"issue\", \"item\", \"job\", \"juice\", \"kettle\", \"kid\", \"kind\", \"kitchen\", \"knowledge\", \"lack\", \"lady\", \"lamb\", \"layout\", \"level\", \"life\", \"light\", \"load\", \"location\", \"look\", \"lot\", \"lot_choice\", \"lounge\", \"luck\", \"luggage\", \"lunch\", \"luxury\", \"machine\", \"man\", \"manage\", \"manager\", \"meal\", \"meat\", \"meet\", \"meeting\", \"member\", \"member_staff\", \"memory\", \"milk\", \"min\", \"min_walk\", \"mini_fridge\", \"minute\", \"mix\", \"monday\", \"money\", \"month\", \"morning\", \"mould\", \"music\", \"music_weekend\", \"name\", \"need\", \"night\", \"night_sleep\", \"night_stay\", \"noise\", \"notch\", \"note\", \"notice\", \"number\", \"occasion\", \"offering\", \"ok\", \"opinion\", \"option\", \"order\", \"others\", \"outdoor\", \"owner\", \"pack\", \"package\", \"papa_john\", \"paper\", \"parent\", \"park\", \"part\", \"partner\", \"party\", \"pavilion\", \"pay\", \"peaceful\", \"people\", \"person\", \"phone\", \"photo\", \"picture\", \"pie\", \"pillow\", \"place\", \"place_visit\", \"plate\", \"play\", \"play_area\", \"plenty\", \"point\", \"polite\", \"pool\", \"pool_area\", \"portion\", \"presentation\", \"price\", \"problem\", \"promenade\", \"pub\", \"pub_grub\", \"pub_kitchen\", \"pub_restaurant\", \"quality\", \"quality_food\", \"queue\", \"quieter\", \"rain\", \"range\", \"reception\", \"reception_staff\", \"receptionist\", \"redcoat\", \"refund\", \"relation\", \"relax\", \"request\", \"requirement\", \"resident\", \"resort\", \"rest\", \"restaurant\", \"restriction\", \"return_visit\", \"review\", \"rib\", \"road\", \"roof\", \"room\", \"room_comfy\", \"round\", \"rule\", \"safety\", \"salad\", \"salisbury\", \"sandwich\", \"saturday\", \"sauna\", \"school\", \"sea\", \"sea_view\", \"seaside\", \"season\", \"seat\", \"section\", \"security\", \"selection\", \"self\", \"service\", \"shame\", \"sheet\", \"shelf\", \"shop\", \"show\", \"shower\", \"shut\", \"side\", \"sister\", \"site\", \"size\", \"skyline_gang\", \"sleep\", \"slide\", \"smile\", \"sofa\", \"son\", \"sorry\", \"sort\", \"spa\", \"space\", \"spending\", \"splash_pool\", \"spot\", \"staff\", \"staff_member\", \"stage\", \"stair\", \"stand\", \"standard\", \"star\", \"starter\", \"station\", \"stay\", \"steak\", \"step\", \"stone\", \"storage\", \"store\", \"stuff\", \"summer\", \"sun_holiday\", \"sunday\", \"superb\", \"supermarket\", \"surprise\", \"swim\", \"system\", \"table\", \"talk\", \"taste\", \"tasty\", \"taxi\", \"tea_coffee\", \"tea_towel\", \"team\", \"tent\", \"term\", \"thanks\", \"thing\", \"ticket\", \"tidy\", \"time\", \"toddler\", \"toilet\", \"toilet_roll\", \"toilet_seat\", \"toiletry\", \"tot\", \"tot_week\", \"touch\", \"towel\", \"town\", \"toy\", \"tray\", \"trip\", \"twin_room\", \"type\", \"u\", \"use\", \"value\", \"value_money\", \"variety\", \"venue\", \"view\", \"visit\", \"visitor\", \"voucher\", \"waiter\", \"waitress\", \"walk\", \"wall\", \"wardrobe\", \"waste\", \"waste_money\", \"water\", \"way\", \"weather\", \"week\", \"weekend\", \"wet\", \"whilst\", \"wife\", \"wifi\", \"window\", \"wine\", \"work\", \"wow\", \"year\", \"yes\", \"youth\"]}, \"R\": 30, \"lambda.step\": 0.01, \"plot.opts\": {\"xlab\": \"PC1\", \"ylab\": \"PC2\"}, \"topic.order\": [1, 2, 3, 4, 5, 6, 7, 8, 9, 10, 11, 12, 13, 14, 15, 16]};\n",
       "\n",
       "function LDAvis_load_lib(url, callback){\n",
       "  var s = document.createElement('script');\n",
       "  s.src = url;\n",
       "  s.async = true;\n",
       "  s.onreadystatechange = s.onload = callback;\n",
       "  s.onerror = function(){console.warn(\"failed to load library \" + url);};\n",
       "  document.getElementsByTagName(\"head\")[0].appendChild(s);\n",
       "}\n",
       "\n",
       "if(typeof(LDAvis) !== \"undefined\"){\n",
       "   // already loaded: just create the visualization\n",
       "   !function(LDAvis){\n",
       "       new LDAvis(\"#\" + \"ldavis_el2268426709022101124026256537\", ldavis_el2268426709022101124026256537_data);\n",
       "   }(LDAvis);\n",
       "}else if(typeof define === \"function\" && define.amd){\n",
       "   // require.js is available: use it to load d3/LDAvis\n",
       "   require.config({paths: {d3: \"https://d3js.org/d3.v5\"}});\n",
       "   require([\"d3\"], function(d3){\n",
       "      window.d3 = d3;\n",
       "      LDAvis_load_lib(\"https://cdn.jsdelivr.net/gh/bmabey/pyLDAvis@3.3.1/pyLDAvis/js/ldavis.v3.0.0.js\", function(){\n",
       "        new LDAvis(\"#\" + \"ldavis_el2268426709022101124026256537\", ldavis_el2268426709022101124026256537_data);\n",
       "      });\n",
       "    });\n",
       "}else{\n",
       "    // require.js not available: dynamically load d3 & LDAvis\n",
       "    LDAvis_load_lib(\"https://d3js.org/d3.v5.js\", function(){\n",
       "         LDAvis_load_lib(\"https://cdn.jsdelivr.net/gh/bmabey/pyLDAvis@3.3.1/pyLDAvis/js/ldavis.v3.0.0.js\", function(){\n",
       "                 new LDAvis(\"#\" + \"ldavis_el2268426709022101124026256537\", ldavis_el2268426709022101124026256537_data);\n",
       "            })\n",
       "         });\n",
       "}\n",
       "</script>"
      ],
      "text/plain": [
       "PreparedData(topic_coordinates=              x         y  topics  cluster      Freq\n",
       "topic                                               \n",
       "0      0.028899  0.033722       1        1  6.337800\n",
       "1      0.043185  0.034366       2        1  5.217126\n",
       "2      0.042024  0.034986       3        1  5.384469\n",
       "3      0.034433  0.034346       4        1  6.143076\n",
       "4      0.030906  0.033705       5        1  6.476928\n",
       "5      0.044151  0.034556       6        1  5.150025\n",
       "6      0.019777  0.030122       7        1  6.587282\n",
       "7      0.024774  0.031577       8        1  6.167432\n",
       "8      0.043250  0.034534       9        1  5.564252\n",
       "9      0.036209  0.034708      10        1  6.126571\n",
       "10     0.025514  0.031803      11        1  6.618273\n",
       "11     0.036996  0.035152      12        1  5.927703\n",
       "12    -0.018872 -0.364118      13        1  7.159307\n",
       "13     0.026741  0.032387      14        1  6.182312\n",
       "14    -0.404084  0.058065      15        1  7.908155\n",
       "15    -0.013904 -0.129910      16        1  7.049289, topic_info=           Term         Freq        Total Category  logprob  loglift\n",
       "10         room  1342.000000  1342.000000  Default  30.0000  30.0000\n",
       "144       hotel   933.000000   933.000000  Default  29.0000  29.0000\n",
       "134       staff   815.000000   815.000000  Default  28.0000  28.0000\n",
       "292   breakfast   592.000000   592.000000  Default  27.0000  27.0000\n",
       "171        food   513.000000   513.000000  Default  26.0000  26.0000\n",
       "...         ...          ...          ...      ...      ...      ...\n",
       "1421        ale    14.836838    16.040880  Topic16  -5.1765   2.5742\n",
       "54         meet    10.621677    11.825718  Topic16  -5.5107   2.5449\n",
       "451    complain    10.580588    11.784630  Topic16  -5.5146   2.5445\n",
       "612   highlight     9.636294    10.840335  Topic16  -5.6081   2.5345\n",
       "565        swim     8.861714    10.065756  Topic16  -5.6919   2.5248\n",
       "\n",
       "[510 rows x 6 columns], token_table=      Topic      Freq           Term\n",
       "term                                \n",
       "815       9  0.984848         access\n",
       "0        11  0.992592  accommodation\n",
       "1141      3  0.922445   accomodation\n",
       "454       3  0.938200            act\n",
       "227      11  0.982268       activity\n",
       "...     ...       ...            ...\n",
       "154       4  0.981872           work\n",
       "803      10  0.881289            wow\n",
       "644       3  0.983944           year\n",
       "708      13  0.961642            yes\n",
       "1086     11  0.864730          youth\n",
       "\n",
       "[480 rows x 3 columns], R=30, lambda_step=0.01, plot_opts={'xlab': 'PC1', 'ylab': 'PC2'}, topic_order=[1, 2, 3, 4, 5, 6, 7, 8, 9, 10, 11, 12, 13, 14, 15, 16])"
      ]
     },
     "execution_count": 123,
     "metadata": {},
     "output_type": "execute_result"
    }
   ],
   "source": [
    "vis(lda_accom[1],accom_bow_big,accom_dict_big)"
   ]
  },
  {
   "cell_type": "code",
   "execution_count": 124,
   "metadata": {
    "scrolled": true
   },
   "outputs": [
    {
     "data": {
      "text/html": [
       "\n",
       "<link rel=\"stylesheet\" type=\"text/css\" href=\"https://cdn.jsdelivr.net/gh/bmabey/pyLDAvis@3.3.1/pyLDAvis/js/ldavis.v1.0.0.css\">\n",
       "\n",
       "\n",
       "<div id=\"ldavis_el226842670754727408101000973\"></div>\n",
       "<script type=\"text/javascript\">\n",
       "\n",
       "var ldavis_el226842670754727408101000973_data = {\"mdsDat\": {\"x\": [0.06126423893902236, 0.036244993729092026, 0.04896281564991143, 0.0793718941587503, -0.01492528052974065, 0.053407017009791787, 0.023778028705614858, -0.014668468288033759, 0.05061944760912415, -0.01536163665584303, 0.04857589386353309, -0.07168122621629597, 0.06895633502605011, -0.18979704085873536, 0.041726757550980584, 0.054060523799069775, 0.018424534474857354, 0.0381318723151144, 0.05490073022142529, -0.3719914305036888], \"y\": [0.01707145055094274, 0.011651970267447607, 0.014624577108961237, 0.019865338026195827, -0.0045950506007007745, 0.015585687641330106, 0.008440104522841928, -0.00448862421844857, 0.015001410442667899, -0.0047767471211744, 0.014541532285631407, -0.03598293326009235, 0.018397989397224014, -0.3761178909296602, 0.012983243940251464, 0.015664576193518458, 0.006888488273116134, 0.012059669070953296, 0.01589586660768282, 0.22728934180131152], \"topics\": [1, 2, 3, 4, 5, 6, 7, 8, 9, 10, 11, 12, 13, 14, 15, 16, 17, 18, 19, 20], \"cluster\": [1, 1, 1, 1, 1, 1, 1, 1, 1, 1, 1, 1, 1, 1, 1, 1, 1, 1, 1, 1], \"Freq\": [4.190507955568696, 4.655545088283511, 4.41502945686651, 3.7813377027229524, 5.701056788340962, 4.454536302147711, 5.1592654793961215, 5.459518857974705, 4.547838227876911, 5.675588182084938, 4.534823164608364, 5.7783426750434375, 4.254717619890338, 6.639564917620359, 4.5723398674511575, 4.32836223718309, 5.303622678210473, 4.756824954336274, 4.2563650177073935, 7.534812826686096]}, \"tinfo\": {\"Term\": [\"food\", \"service\", \"staff\", \"place\", \"meal\", \"restaurant\", \"lunch\", \"menu\", \"price\", \"pub\", \"breakfast\", \"value\", \"visit\", \"experience\", \"chip\", \"portion\", \"family\", \"friend\", \"choice\", \"quality\", \"drink\", \"night\", \"bit\", \"people\", \"wife\", \"course\", \"coffee\", \"order\", \"tasty\", \"value_money\", \"value\", \"course\", \"review\", \"food_good\", \"home\", \"garden\", \"size\", \"yummy\", \"show\", \"butter\", \"lunch_friend\", \"setting\", \"guest\", \"bone\", \"crisp\", \"granddaughter\", \"colleague\", \"carrot\", \"olive\", \"burger_fry\", \"chewy\", \"note\", \"group_people\", \"drinker\", \"guess\", \"caesar_salad\", \"map\", \"co\", \"parmesan\", \"sharer\", \"experience\", \"cafe\", \"customer\", \"dish\", \"time\", \"taste\", \"option\", \"cocktail\", \"egg\", \"amount\", \"issue\", \"environment\", \"slice\", \"woman\", \"tomato\", \"park\", \"family_birthday\", \"requirement\", \"christmas_meal\", \"family_lunch\", \"car\", \"voucher\", \"rip\", \"opportunity\", \"approach\", \"texture\", \"pity\", \"waiter_waitress\", \"tree\", \"banoffee_pie\", \"value_money\", \"chicken\", \"quality_food\", \"tea\", \"shame\", \"child\", \"daughter\", \"afternoon\", \"road\", \"water\", \"onion\", \"charge\", \"birthday_meal\", \"hand\", \"person\", \"saturday_night\", \"lunch_menu\", \"bowl\", \"plentiful\", \"past\", \"bag\", \"criticism\", \"couple_time\", \"soggy\", \"lobster\", \"rush\", \"menu_selection\", \"size_portion\", \"april\", \"towel\", \"location\", \"return\", \"money\", \"management\", \"cream\", \"point\", \"number\", \"check\", \"glass\", \"gravy\", \"tender\", \"mum\", \"bean\", \"event\", \"mark\", \"salt\", \"meet\", \"restaurant_area\", \"riverside\", \"yoghurt\", \"cutlery\", \"view_river\", \"steak_pie\", \"wise\", \"prawn_cocktail\", \"side_salad\", \"beer_garden\", \"chunk\", \"juicy\", \"squid\", \"meal\", \"quality\", \"table\", \"chef\", \"way\", \"week\", \"fun\", \"manager\", \"part\", \"phone\", \"idea\", \"sea_bass\", \"till\", \"mother\", \"sun\", \"notch\", \"okay\", \"word\", \"portion_chip\", \"birthday_celebration\", \"wednesday\", \"filthy\", \"appetite\", \"apple\", \"specialise\", \"describe\", \"plenty_room\", \"supermarket\", \"beer_wine\", \"dessert_menu\", \"side\", \"wine\", \"waiter\", \"roast\", \"range\", \"town\", \"hour\", \"round\", \"i\", \"fact\", \"cost\", \"toilet\", \"job\", \"chair\", \"book\", \"roast_beef\", \"batter\", \"start\", \"reason\", \"fruit\", \"average\", \"wet\", \"making\", \"adult_child\", \"crab\", \"platter\", \"lettuce\", \"selection_beer\", \"base\", \"line\", \"lunch\", \"dinner\", \"look\", \"bill\", \"business\", \"good\", \"pleasant\", \"kind\", \"cod\", \"pint\", \"christmas\", \"use\", \"hope\", \"smile\", \"holiday\", \"life\", \"bland\", \"rest\", \"cosy\", \"choice_menu\", \"name\", \"moment\", \"opinion\", \"finger\", \"cup\", \"improvement\", \"request\", \"fare\", \"fair\", \"corner\", \"place\", \"night\", \"evening\", \"burger\", \"group\", \"venue\", \"pie\", \"beef\", \"dry\", \"top\", \"lunchtime\", \"attitude\", \"recommendation\", \"super\", \"kid_meal\", \"mezzo\", \"trip_advisor\", \"heart\", \"cold\", \"middle\", \"hubby\", \"chain\", \"memory\", \"expectation\", \"awful\", \"stroll\", \"success\", \"cauliflower\", \"doggie\", \"country_pub\", \"price\", \"sunday_lunch\", \"birthday\", \"superb\", \"meat\", \"ok\", \"potato\", \"girl\", \"family_meal\", \"diner\", \"roast_potato\", \"drink_order\", \"pea\", \"fire\", \"touch\", \"pub_grub\", \"drive\", \"case\", \"season\", \"wedding\", \"comment\", \"mess\", \"response\", \"level\", \"travel\", \"queue\", \"cabbage\", \"chip_pea\", \"tip\", \"sorry\", \"restaurant\", \"bit\", \"coffee\", \"sauce\", \"year\", \"salad\", \"minute\", \"helpful\", \"problem\", \"steak\", \"team\", \"polite\", \"establishment\", \"space\", \"river\", \"suit\", \"staff_pleasant\", \"baby\", \"effort\", \"stay\", \"toffee\", \"brilliant\", \"hassle\", \"warm\", \"family_group\", \"time_year\", \"period\", \"knife\", \"couple_table\", \"pate\", \"area\", \"pizza\", \"selection\", \"starter\", \"couple\", \"occasion\", \"walk\", \"prawn\", \"gem\", \"car_park\", \"member_staff\", \"gin\", \"front\", \"adult\", \"allergy\", \"others\", \"month\", \"bun\", \"yes\", \"bank_holiday\", \"pot\", \"mind\", \"cider\", \"ham_egg\", \"content\", \"country\", \"group_u\", \"nut\", \"countryside\", \"serf\", \"staff\", \"order\", \"decor\", \"bread\", \"curry\", \"party\", \"saturday\", \"thanks\", \"board\", \"fry\", \"bottle\", \"snack\", \"standard\", \"homemade\", \"cheese\", \"tasteless\", \"lack\", \"doubt\", \"cash\", \"online\", \"shut\", \"friend_family\", \"flower\", \"hummus\", \"delay\", \"rubbery\", \"test\", \"warmth\", \"arrives\", \"coleslaw\", \"wife\", \"lot\", \"ice_cream\", \"lamb\", \"ate\", \"fab\", \"end\", \"pork\", \"mile\", \"variety\", \"soup\", \"style\", \"mushroom\", \"parent\", \"wall\", \"theme\", \"vegan\", \"pub_restaurant\", \"head\", \"veggie\", \"sample\", \"excellent\", \"temperature\", \"risotto\", \"pas\", \"chicken_pie\", \"sunshine\", \"plenty_table\", \"choice_beef\", \"preference\", \"service\", \"visit\", \"chip\", \"beer\", \"dessert\", \"rude\", \"ambience\", \"bacon\", \"roast_dinner\", \"staff_helpful\", \"attentive\", \"apology\", \"filling\", \"picture\", \"question\", \"stomach\", \"ball\", \"ham\", \"god\", \"roll\", \"june\", \"wrap\", \"grub\", \"class_food\", \"plain\", \"view_sea\", \"detail\", \"system\", \"squash\", \"crunchy\", \"portion\", \"family\", \"waitress\", \"husband\", \"flavour\", \"sunday\", \"sausage\", \"view\", \"fish_chip\", \"staff_attentive\", \"piece\", \"ale\", \"world\", \"reception\", \"run\", \"yorkshire\", \"ice\", \"place_look\", \"glass_wine\", \"latte\", \"beetroot\", \"squeak\", \"ploughman\", \"accommodate\", \"situation\", \"england\", \"pint_beer\", \"twist\", \"humour\", \"ciabatta\", \"breakfast\", \"u\", \"plate\", \"lady\", \"delivery\", \"rice\", \"crispy\", \"day\", \"medium\", \"menu_choice\", \"salmon\", \"window\", \"turkey\", \"seat\", \"friday\", \"place_visit\", \"food_average\", \"lush\", \"sussex\", \"christmas_lunch\", \"mash\", \"coconut\", \"eye\", \"chicken_curry\", \"wait_food\", \"tomato_sauce\", \"rabbit\", \"bos\", \"rank\", \"tourist\", \"menu\", \"friend\", \"drink\", \"tasty\", \"sandwich\", \"weekend\", \"chilli\", \"kitchen\", \"ingredient\", \"complaint\", \"desert\", \"list\", \"vibe\", \"site\", \"summer\", \"host\", \"ambiance\", \"conversation\", \"vegan_option\", \"offering\", \"lot_choice\", \"practice\", \"bottom\", \"order_drink\", \"burger_chip\", \"mint\", \"salty\", \"table_window\", \"regard\", \"custard\", \"pub\", \"choice\", \"people\", \"atmosphere\", \"kid\", \"partner\", \"fish\", \"veg\", \"disappointment\", \"trip\", \"eaten\", \"visitor\", \"avocado\", \"centre\", \"tart\", \"weather\", \"pre\", \"hake\", \"pressure\", \"sunny\", \"waste\", \"section\", \"joke\", \"male\", \"boat\", \"gammon\", \"saturday_afternoon\", \"fatty\", \"playground\", \"saturday_lunchtime\", \"owner\", \"need\", \"work\", \"plenty\", \"dog\", \"portion_size\", \"guy\", \"door\", \"wait\", \"sunday_roast\", \"chocolate\", \"age\", \"type\", \"min\", \"manner\", \"staff_polite\", \"u_table\", \"colour\", \"stuff\", \"mistake\", \"barman\", \"tap\", \"monday\", \"cooking\", \"vinegar\", \"lager\", \"reply\", \"pancake\", \"excuse\", \"accommodate_u\", \"food\", \"thing\", \"cake\", \"customer_service\", \"house\", \"whilst\", \"spot\", \"celebration\", \"tidy\", \"english\", \"building\", \"server\", \"company\", \"chance\", \"edge\", \"gem_restaurant\", \"asset\", \"attention_detail\", \"policy\", \"quality_quantity\", \"finish\", \"pud\", \"promenade\", \"airy\", \"wife_birthday\", \"afterwards\", \"emma\", \"loo\", \"lasagne\", \"camembert\"], \"Freq\": [3157.0, 1733.0, 1436.0, 1103.0, 1108.0, 1021.0, 803.0, 648.0, 577.0, 539.0, 498.0, 470.0, 493.0, 427.0, 483.0, 410.0, 401.0, 411.0, 381.0, 397.0, 378.0, 349.0, 330.0, 294.0, 281.0, 276.0, 306.0, 306.0, 287.0, 264.0, 468.99754857107064, 275.3036033157802, 189.12205613620628, 122.04267694177072, 115.20215684777715, 111.99847283530013, 95.3868327542313, 57.409190789111534, 39.69962683159905, 39.46227725246044, 36.29648049106827, 36.19678493751933, 32.107537262019626, 29.230224428647002, 26.736061958376737, 25.003364081661047, 21.237052897231536, 21.028883232957305, 15.608575625523963, 15.069604149453758, 13.51478175880572, 13.352550759807515, 11.157124589030081, 11.143330698088757, 10.872189072829144, 7.332587401345372, 7.128654809584223, 6.790848072158652, 6.57416692929267, 6.459775735602793, 426.55560671431783, 256.78225793012496, 205.06527983894114, 176.14336096551472, 169.8869104882085, 163.38224350923656, 158.50482804809505, 72.34294546254245, 66.08687784632593, 53.89935266498748, 53.46794989394292, 52.98166526189539, 52.498392470420065, 46.27058000262243, 41.81529952174778, 34.28758687261646, 31.234448350872736, 30.7312591255119, 23.363212312816298, 23.226650866939544, 21.546727872797263, 15.301035792111257, 11.746872486367058, 11.01772885550213, 9.462362059667658, 7.455813888895405, 7.263727375385008, 6.630586162759045, 6.292519182463783, 5.233896145545268, 263.6329658678658, 198.68509472754494, 160.09962360439144, 160.02469323416162, 131.32025198225716, 130.5683825029709, 112.23310777375701, 110.10346446274795, 82.80264845599355, 79.27350450736998, 65.94240987070607, 49.84657918432596, 45.19333929068411, 42.524345451333254, 42.288361743669306, 37.5065449558474, 37.19428505530705, 32.78606476130704, 32.739704075785276, 28.483958710119573, 26.237148950894507, 22.09933008436391, 21.759292017110887, 21.61385603168356, 18.138276308503062, 17.31966273990562, 13.005731119401776, 12.683024149540065, 12.53396339898097, 12.40535503772465, 203.3948139962925, 128.49265225729673, 104.74920041695914, 103.65878790072117, 93.69647385610506, 93.05252064190167, 88.94525925446078, 68.41408122155076, 55.79854808384551, 51.071124632436884, 48.68229910454063, 48.500345316297114, 48.35260633665321, 47.69463467021094, 40.334785541264196, 31.469335569136792, 28.018723196181885, 22.84269890751791, 22.137190549292484, 22.079354586476676, 21.333289738876896, 20.079583607214424, 18.492538085734886, 18.409553077649935, 15.879675425728903, 15.270640845108144, 14.30986273244158, 13.713276214001889, 12.724771128624738, 10.250828386472625, 1106.8352484983563, 396.57238387195395, 269.8436970897498, 167.1745316012838, 159.466326999735, 111.01138134572274, 93.51705404379223, 82.73793751616701, 69.63925572143533, 55.46234471195468, 54.11446286241032, 33.72009448750748, 32.38969417526852, 24.960100207069917, 24.78834793191684, 20.532287483497324, 19.86591209797916, 17.202196842080298, 15.983891847765852, 14.319399760045547, 13.712484418319457, 13.296864228914682, 12.256389258598356, 11.096442530514722, 9.79915727591321, 9.699071333406469, 9.130079019058583, 8.553961095078664, 6.895339684534088, 6.621994922804684, 175.6271146918211, 147.14558463735742, 137.6983483069282, 130.36513259947324, 115.44182039945328, 101.47753240219492, 99.89764133076694, 90.58735403161464, 85.90540475097893, 82.5438867892415, 76.00396243697497, 75.51935101365063, 70.58884397912313, 64.9541616132194, 64.73699594949153, 56.33391416871476, 44.292832511819064, 43.66286599106377, 43.388132694743376, 42.12648034161963, 36.37052545188901, 36.11462887498937, 33.29582725404793, 31.50183548490699, 26.713193638300226, 21.505005567229215, 19.386984614109632, 19.3159689852134, 18.80724079742905, 14.199529633862237, 802.2201740631116, 252.9550048306786, 125.91029443421634, 110.14456689140799, 99.75924808057108, 78.50151330739095, 78.15262020697807, 73.84285444224737, 73.79910774036011, 71.96448997639543, 61.76057883262416, 58.1616107021009, 51.64432514983092, 50.31859585971442, 46.4475926000495, 43.0719572378057, 42.843253010397575, 39.77553321913172, 38.423339804945826, 37.9073714141945, 35.10460117802223, 34.43662813107542, 31.151832373843217, 28.229902865046835, 23.87777922751375, 23.321246278908735, 19.14916269364998, 18.6403435198274, 16.47541213374716, 13.977752938944574, 1102.680494279785, 348.1121138311048, 252.60515373558832, 230.43476359372454, 109.94950492220264, 92.98231487699516, 79.10065731782522, 77.28043464136526, 56.04034488195734, 41.233125154862236, 37.86338061302358, 34.74327083434007, 30.658603651530584, 29.205609063726385, 23.125168805072637, 23.10813308302497, 20.705337501477818, 19.77422446883556, 19.274118346845324, 16.569661927686106, 16.00081577676049, 14.783545116968414, 12.637753524207858, 12.283765048579827, 12.114091022965203, 9.220662007005846, 8.690185516262794, 7.003993250013055, 6.482327204292811, 6.411061674087516, 576.6360104143215, 203.58354591076156, 145.75463131945614, 143.36244489750513, 113.77592320431229, 100.76366218347255, 97.26395656000732, 71.50031943438327, 69.74476182213137, 56.11150035245569, 46.50160928957759, 41.12104988441306, 39.71473178227329, 34.6283012203162, 30.474595569836335, 28.14165130712415, 28.046262953336274, 25.73724244979482, 22.598068749707416, 20.577478522246277, 20.209325653594313, 20.13767281053346, 18.684352438031265, 18.361953914628128, 17.084024991133376, 16.741942661917484, 16.28106808465045, 15.188919181563326, 15.000115965950432, 11.4052127304979, 1020.3656799510759, 329.6863838060254, 305.3727714020333, 143.65483053327802, 129.740503921345, 102.14843543564038, 92.09199090056033, 88.63136656191747, 86.77981840553474, 86.68577198920754, 74.27422770095411, 56.09399497563576, 46.61482317603163, 42.988985944492626, 34.831514176410806, 26.832163857908252, 26.306223961571753, 25.30188079880316, 23.93364453185928, 23.39079594619238, 19.564223260587575, 16.81015125175451, 12.081352653891383, 11.22432185723472, 9.868641085588624, 8.176119090125388, 7.955178156823855, 6.770641855003629, 6.714444733825972, 5.817522234776612, 244.6267175060113, 237.16534845069702, 222.96150621552505, 193.27061329285272, 114.64224211981877, 103.17371077797218, 92.19084785929122, 83.49095272172973, 78.77492894910472, 76.23131069421673, 74.41526522729275, 72.99593118367329, 59.59642133438905, 50.863543984413994, 45.562542163065714, 41.56956874177117, 35.78657810485353, 33.152893995382875, 29.40888083507466, 27.687923389857982, 27.616747845083708, 23.87338856099024, 22.83516738793277, 21.33891462822325, 18.51708447506929, 15.196744565482991, 14.895107489668346, 14.628889123189117, 11.388542142390715, 10.35444001655292, 1435.5911409795278, 304.8342687623132, 148.13515029196162, 136.33517703267904, 132.2071061891238, 93.9800284370291, 78.11063635604567, 76.03449924238711, 64.20273211406862, 63.26375487146552, 54.03170360563992, 46.66337941710498, 45.268855842720754, 39.37479650771539, 38.67912346358042, 28.766203134289906, 28.67861159533279, 23.883601305904413, 22.85275733240877, 22.748207584907497, 21.860537397502775, 12.741952164989673, 12.559080394354226, 10.967339634083277, 10.441380938645398, 9.236357345587173, 7.7331323830707905, 7.314970616856168, 6.853911996103096, 6.7458212365337795, 280.51884661286255, 148.95137433255027, 145.2811497911645, 109.31120819323331, 107.11619085985474, 95.72031221637239, 91.31265202201364, 83.75892379158849, 77.68927618195461, 75.19705550398609, 75.1323477041358, 73.79754755772156, 70.49984306754313, 63.48620336381359, 44.562260340445114, 43.29418807155493, 42.20033233978148, 41.84742990201111, 28.45045671652559, 25.838850847629253, 17.639958560654254, 17.39703488977073, 16.40914692770165, 16.402849930380242, 15.185508203348167, 10.188580154815654, 10.074824822393193, 9.513471829099329, 9.427721164705082, 9.156603880883907, 1732.0385075876363, 492.2024250306426, 481.934266075181, 138.89788920075753, 87.6685193575914, 68.9104866092607, 66.1892647563636, 55.4938579751863, 53.10608097094186, 48.493172420878, 48.21960072860445, 26.146466881037753, 25.375798380729645, 20.84215223603889, 19.73378719406677, 17.281592308507708, 17.146164237621992, 16.878684333237576, 15.92299620404699, 13.602315320100988, 11.244526766156897, 11.14150238385324, 10.444987341023168, 9.717460056232262, 9.55786413189993, 9.403152376315873, 8.753642566238927, 6.006589312201556, 3.503844372142262, 3.4532413079849427, 409.297507739302, 400.44007640318944, 183.3823314034352, 143.3502500668339, 131.1897520078009, 126.4590684261266, 93.58312027070964, 92.27545832315002, 86.37478569625634, 77.9711434984038, 62.86762393890702, 56.40170026680407, 44.12036992010532, 33.532488969099, 29.495065659837234, 25.506396907706115, 22.517047422753063, 21.006685188964717, 15.66960661914397, 13.737572239535266, 12.788169426615209, 10.542773773207525, 9.904937999202069, 9.576346096553971, 7.549087541694958, 7.164003248134374, 7.163437340310206, 7.157585239244779, 6.497813800054906, 6.0731999362648414, 497.267150897362, 253.14060286632557, 173.6727996238792, 141.1413730543546, 138.0349452845396, 83.95604576301561, 62.73342623449167, 56.05832364191827, 42.67828473695956, 41.33320447416977, 38.53768146373103, 35.93192245839888, 34.293217832961275, 33.01669674922702, 32.90468029122496, 30.314967707573384, 29.292740404864066, 27.426785036182046, 27.185962940439666, 26.24132656492494, 25.197032466118657, 24.566295612500316, 23.282052692600935, 21.31222984729087, 19.63662818140659, 17.621709480668123, 16.203901813492724, 15.90464981271781, 13.753534675610787, 12.587692848071883, 647.6644836752375, 409.8972061200778, 376.969736506139, 285.74720434914263, 122.40394130243862, 105.03959366294461, 58.604094647718064, 57.03587011750756, 49.519446347366134, 42.84588525326961, 40.63980950327309, 34.918362715522655, 34.90421667497718, 34.68931316734404, 34.192361163737324, 32.57793301908331, 26.360848515563067, 26.266496024368774, 20.430712010240267, 20.19387705125784, 19.584485106258853, 16.55053305081793, 14.263560267514933, 11.7764529953744, 10.968770053769294, 10.478205576281443, 9.203235154326553, 9.122024814572224, 8.446814526864644, 8.32863039161881, 538.5151399814694, 380.2605275203578, 293.01084197776794, 199.4631626056028, 156.02948140037333, 126.31473296219347, 100.93934685783154, 94.97095416557708, 66.8371509977694, 64.30708463998111, 47.79138253130624, 31.043125727280895, 27.180313790853244, 27.09905317370408, 26.293303260837064, 25.69228921078, 12.12233858839397, 11.506055084458144, 10.061236799820072, 9.74113767022037, 9.002754605836577, 7.189460014920574, 5.374478090672449, 5.347922802180476, 4.604779932158686, 4.534538162374083, 4.0983321787878415, 4.0194809667116465, 3.9759180362947633, 3.9091777439677124, 236.36644950754902, 166.23006806342957, 145.00332973455278, 134.02097863365293, 133.27385788545385, 123.14186406746758, 89.09916870253916, 78.49765400456437, 73.66087300558175, 71.04650110619303, 69.98161998430334, 62.56838737727718, 52.01459390748754, 50.789840837286604, 40.96323954412143, 39.89799905454761, 33.16002999378875, 28.384168817935794, 28.251774496122362, 27.22671784759247, 25.44829818751896, 23.802291517710007, 22.392310075458965, 21.427732207900938, 20.870684294818563, 19.661461042396226, 15.99646955099819, 15.426935944448598, 14.304689005811934, 12.629092840971795, 3156.6988263075764, 131.3520892305607, 113.78675595276232, 93.66150268725927, 90.65329823921842, 87.58406285974677, 54.45462343133228, 39.38251152076465, 29.988060811735078, 27.681148197922123, 26.049878233738873, 20.967832490877285, 17.02019102732242, 16.3319540868981, 13.162444606179786, 13.066967592324756, 11.114887632393392, 11.046758664010456, 10.266005581539895, 9.612419206489987, 9.276059211849336, 9.202350337507948, 8.58997553885485, 8.131349714773526, 7.900458514507619, 7.561573465255011, 6.731720205302389, 6.178384178429176, 6.0871863317662305, 5.971038983327008], \"Total\": [3157.0, 1733.0, 1436.0, 1103.0, 1108.0, 1021.0, 803.0, 648.0, 577.0, 539.0, 498.0, 470.0, 493.0, 427.0, 483.0, 410.0, 401.0, 411.0, 381.0, 397.0, 378.0, 349.0, 330.0, 294.0, 281.0, 276.0, 306.0, 306.0, 287.0, 264.0, 470.25657652871786, 276.5626312734274, 190.3810840938535, 123.30170489941794, 116.46118480542437, 113.25750079294735, 96.64586071187853, 58.66821874675878, 40.958654789246296, 40.72130521010769, 37.55550844871552, 37.45581289516658, 33.366565219666874, 30.48925238629424, 27.995089916023975, 26.262392039308285, 22.496080854878773, 22.287911190604543, 16.8676035831712, 16.328632107100994, 14.773809716452961, 14.611578717454757, 12.416152546677322, 12.402358655735997, 12.131217030476384, 8.591615358992614, 8.387682772127535, 8.049876029805889, 7.833194886939908, 7.718803693250032, 427.8220284712309, 258.04867968703803, 206.33170159585427, 177.40978272242785, 171.15333224512165, 164.6486652661497, 159.77124980500818, 73.60936721945556, 67.35329960323905, 55.16577442190063, 54.73437165085607, 54.24808701880853, 53.76481422733321, 47.53700175953558, 43.08172127866093, 35.554008629529605, 32.50087010778587, 31.997680882425037, 24.629634069729434, 24.49307262385268, 22.8131496297104, 16.567457549024393, 13.013294243280198, 12.284150612415269, 10.728783816580796, 8.72223564580854, 8.530149132298147, 7.897007919672181, 7.558940939376918, 6.500317902458403, 264.89703061456356, 199.94915947424275, 161.36368835108925, 161.28875798085943, 132.58431672895497, 131.83244724966872, 113.49717252045484, 111.36752920944578, 84.06671320269137, 80.5375692540678, 67.2064746174039, 51.1106439310238, 46.45740403738195, 43.788410198031094, 43.55242649036715, 38.770609702545244, 38.45834980200489, 34.05012950800488, 34.00376882248312, 29.7480234568174, 27.501213697592334, 23.363394831061736, 23.023356763808714, 22.877920778381387, 19.40234105520089, 18.583727486603447, 14.269795866099608, 13.947088896237899, 13.798028145678801, 13.669419784422482, 204.63647709245166, 129.73431535345588, 105.9908635131183, 104.90045099688032, 94.93813695226422, 94.29418373806082, 90.18692235061994, 69.65574431770992, 57.04021118000469, 52.312787728596064, 49.92396220069981, 49.74200841245629, 49.59426943281239, 48.93629776637012, 41.576448637423375, 32.71099866529596, 29.26038629234105, 24.084362003677075, 23.37885364545165, 23.32101768263584, 22.57495283503606, 21.32124670337359, 19.73420118189405, 19.6512161738091, 17.12133852188807, 16.51230394126731, 15.55152582860075, 14.954939310161057, 13.966434224783908, 11.492491482631793, 1108.1047245213115, 397.8418598949089, 271.11317311270477, 168.4440076242388, 160.73580302269, 112.28085736867772, 94.7865300667472, 84.00741353912198, 70.90873174439031, 56.73182073490967, 55.38393888536531, 34.98957051046247, 33.65917019822351, 26.229576230024904, 26.057823954871825, 21.80176350645231, 21.135388120934145, 18.471672865035284, 17.253367870720837, 15.588875783000537, 14.981960441274447, 14.56634025186967, 13.525865281553346, 12.36591855346971, 11.068633298868198, 10.96854736445959, 10.399555042013573, 9.823437118033654, 8.164815707489076, 7.891470945759672, 176.8883050322664, 148.4067749778027, 138.9595386473735, 131.62632293991854, 116.70301073989857, 102.73872274264022, 101.15883167121224, 91.84854437205993, 87.16659509142423, 83.8050771296868, 77.26515277742027, 76.78054135409593, 71.85003431956842, 66.2153519536647, 65.99818628993683, 57.59510450916007, 45.554022852264374, 44.92405633150908, 44.64932303518869, 43.38767068206494, 37.63171579233432, 37.37581921543468, 34.55701759449324, 32.7630258253523, 27.97438397874553, 22.76619590767452, 20.648174954554936, 20.5771593256587, 20.068431137874352, 15.460719974307546, 803.4854243667796, 254.2202551343466, 127.17554473788434, 111.40981719507599, 101.02449838423908, 79.76676361105895, 79.41787051064607, 75.10810474591537, 75.06435804402811, 73.22974028006342, 63.025829136292174, 59.42686100576891, 52.90957545349893, 51.58384616338243, 47.71284290371751, 44.33720754147371, 44.10850331406559, 41.04078352279973, 39.68859010861384, 39.17262171786251, 36.36985148169024, 35.701878434743435, 32.417082677511225, 29.49515316871484, 25.143029531181753, 24.58649658257674, 20.414412997317985, 19.905593823495405, 17.740662437415164, 15.243003242612582, 1103.9526207569904, 349.3842403083098, 253.87728021279332, 231.70689007092955, 111.22163139940764, 94.25444135420017, 80.37278379503023, 78.55256111857027, 57.31247135916235, 42.50525163206725, 39.13550709022859, 36.01539731154509, 31.93073012873559, 30.47773554093139, 24.397295282277643, 24.380259560229977, 21.977463978682824, 21.046350946040565, 20.54624482405033, 17.841788404891112, 17.272942253965496, 16.055671594173425, 13.909880001412867, 13.555891525784839, 13.386217500170213, 10.492788504924773, 9.962311993467805, 8.276119727218065, 7.754453681497821, 7.6831881512925255, 577.8975122956184, 204.8450477920584, 147.016133200753, 144.62394677880198, 115.03742508560916, 102.02516406476941, 98.52545844130418, 72.76182131568014, 71.00626370342823, 57.37300223375255, 47.763111170874446, 42.38255176570992, 40.97623366357015, 35.88980310161306, 31.73609745113319, 29.403153188421005, 29.30776483463313, 26.998744331091675, 23.85957063100427, 21.838980403543133, 21.470827534891168, 21.399174691830314, 19.94585431932812, 19.623455795924983, 18.34552687243023, 18.00344454321434, 17.542569965947305, 16.45042106286018, 16.261617847247287, 12.666714611794758, 1021.6354152306853, 330.95611908563484, 306.6425066816428, 144.92456581288752, 131.01023920095452, 103.4181707152499, 93.36172618016985, 89.901101841527, 88.04955368514426, 87.95550726881706, 75.54396298056363, 57.36373025524528, 47.88455845564115, 44.258721224102146, 36.10124945602033, 28.101899137517766, 27.575959241181266, 26.571616078412674, 25.203379811468793, 24.660531225801893, 20.833958540197088, 18.079886531364025, 13.351087933500901, 12.494057136844239, 11.138376365198143, 9.445854369734905, 9.224913436433374, 8.040377134613143, 7.984180013435487, 7.087257514386127, 245.88920668382468, 238.42783762851042, 224.22399539333844, 194.5331024706661, 115.9047312976322, 104.4361999557856, 93.45333703710465, 84.75344189954315, 80.03741812691814, 77.49379987203015, 75.67775440510617, 74.25842036148671, 60.85891051220246, 52.12603316222741, 46.82503134087913, 42.832057919584585, 37.04906728266695, 34.41538317319629, 30.671370012888076, 28.950412567671396, 28.879237022897122, 25.135877738803654, 24.097656565746185, 22.601403806036664, 19.779573652882704, 16.4592337432964, 16.15759666748176, 15.891378301002531, 12.651031320204131, 11.616929194366334, 1436.8692536072724, 306.1123813900575, 149.413262919706, 137.61328966042342, 133.48521881686818, 95.25814106477348, 79.38874898379005, 77.31261187013149, 65.480844741813, 64.5418674992099, 55.309816233384296, 47.941492044849355, 46.54696847046513, 40.652909135459765, 39.957236091324795, 30.044315762034287, 29.95672422307717, 25.161713933648794, 24.130869960153152, 24.02632021265188, 23.138650025247156, 14.020064792734056, 13.837193022098608, 12.24545226182766, 11.719493566389781, 10.514469973331556, 9.011245010815172, 8.593083244600551, 8.132024623847478, 8.02393386427816, 281.76854875211217, 150.2010764717999, 146.53085193041412, 110.56091033248295, 108.36589299910437, 96.97001435562203, 92.56235416126327, 85.00862593083812, 78.93897832120425, 76.44675764323573, 76.38204984338543, 75.04724969697119, 71.74954520679276, 64.73590550306322, 45.81196247969475, 44.54389021080456, 43.45003447903112, 43.09713204126074, 29.700158855775225, 27.088552986878888, 18.88966069990389, 18.646737029020365, 17.658849066951284, 17.652552069629877, 16.4352103425978, 11.43828229406529, 11.32452696164283, 10.763173968348964, 10.677423303954717, 10.406306020133544, 1733.319740320951, 493.4836577639569, 483.2154988084953, 140.17912193407187, 88.94975209090575, 70.19171934257504, 67.47049748967794, 56.775090708500656, 54.387313704256215, 49.77440515419235, 49.5008334619188, 27.4276996143521, 26.657031114043992, 22.123384969353236, 21.01501992738112, 18.562825041822055, 18.42739697093634, 18.159917066551923, 17.204228937361336, 14.883548053415337, 12.525759499471247, 12.422735117167589, 11.726220074337517, 10.998692789546611, 10.839096865214279, 10.684385109630222, 10.034875299553276, 7.287822045515905, 4.785077105456611, 4.734474041299291, 410.5628534035693, 401.70542206745677, 184.64767706770252, 144.61559573110122, 132.45509767206823, 127.72441409039395, 94.84846593497699, 93.54080398741736, 87.64013136052368, 79.23648916267115, 64.13296960317437, 57.66704593107142, 45.38571558437267, 34.79783463336635, 30.760411324104577, 26.77174257197346, 23.782393087020406, 22.27203085323206, 16.934952283411313, 15.002917903802613, 14.053515090882554, 11.80811943747487, 11.170283663469414, 10.841691760821318, 8.814433205962304, 8.42934891240172, 8.428783004577552, 8.422930903512126, 7.763159464322251, 7.3385456005321865, 498.5290350324859, 254.40248700144946, 174.9346837590031, 142.4032571894785, 139.29682941966348, 85.2179298981395, 63.99531036961557, 57.32020777704217, 43.94016887208346, 42.59508860929367, 39.79956559885493, 37.19380659352278, 35.555101968085175, 34.27858088435092, 34.16656442634886, 31.576851842697284, 30.554624539987966, 28.688669171305943, 28.447847075563562, 27.503210700048836, 26.458916601242553, 25.828179747624215, 24.54393682772483, 22.57411398241477, 20.89851231653049, 18.88359361579202, 17.465785948616624, 17.16653394784171, 15.015418810734687, 13.849576983195783, 648.929547902999, 411.1622703478393, 378.2348007339005, 287.01226857690415, 123.66900553020014, 106.30465789070612, 59.869158875479584, 58.30093434526908, 50.784510575127655, 44.11094948103113, 41.90487373103461, 36.183426943284175, 36.1692809027387, 35.95437739510556, 35.457425391498845, 33.84299724684483, 27.625912743324584, 27.53156025213029, 21.695776238001784, 21.458941279019356, 20.84954933402037, 17.81559728476691, 15.528624495276452, 13.041517223135918, 12.233834281530813, 11.743269813154887, 10.468299382088071, 10.387089042333743, 9.711878754626161, 9.593694619380328, 539.7785686002392, 381.5239561391276, 294.27427059653775, 200.72659122437267, 157.2929100191432, 127.57816158096334, 102.2027754766014, 96.23438278434695, 68.10057961653926, 65.57051325875098, 49.054811150076105, 32.30655434605076, 28.44374240962311, 28.362481792473943, 27.55673187960693, 26.955717829549865, 13.385767207163832, 12.769483703228007, 11.324665418589936, 11.004566288990233, 10.26618322460644, 8.452888633690437, 6.637906709442312, 6.61135142095034, 5.86820855092855, 5.797966781143947, 5.3617607975577055, 5.2829095854815105, 5.239346659551835, 5.172606362737576, 237.62996382818707, 167.49358238406762, 146.26684405519083, 135.28449295429098, 134.5373722060919, 124.40537838810563, 90.36268302317721, 79.76116832520242, 74.9243873262198, 72.31001542683109, 71.24513430494139, 63.83190169791523, 53.27810822812559, 52.053355157924656, 42.22675386475947, 41.16151337518566, 34.42354431442679, 29.647683138573846, 29.515288816760414, 28.490232168230524, 26.711812508157013, 25.06580583834806, 23.655824396097017, 22.69124652853899, 22.134198615456615, 20.924975363034278, 17.25998387163624, 16.69045026508665, 15.568203326449984, 13.892607161609845, 3157.982242608429, 132.63550553141326, 115.07017225361488, 94.94491898811184, 91.93671454007098, 88.86747916059933, 55.73803973218484, 40.66592782161721, 31.271477112587636, 28.96456449877468, 27.33329453459143, 22.251248791729843, 18.303607328174976, 17.61537038775066, 14.445860911888246, 14.350383893177316, 12.398303933245952, 12.330174964863016, 11.549421882392455, 10.895835507342547, 10.559475512701894, 10.485766638360506, 9.873391844801029, 9.414766015626086, 9.183874815360177, 8.84498976610757, 8.015136506154947, 7.4618004792817345, 7.370602632618789, 7.254455314571721], \"Category\": [\"Default\", \"Default\", \"Default\", \"Default\", \"Default\", \"Default\", \"Default\", \"Default\", \"Default\", \"Default\", \"Default\", \"Default\", \"Default\", \"Default\", \"Default\", \"Default\", \"Default\", \"Default\", \"Default\", \"Default\", \"Default\", \"Default\", \"Default\", \"Default\", \"Default\", \"Default\", \"Default\", \"Default\", \"Default\", \"Default\", \"Topic1\", \"Topic1\", \"Topic1\", \"Topic1\", \"Topic1\", \"Topic1\", \"Topic1\", \"Topic1\", \"Topic1\", \"Topic1\", \"Topic1\", \"Topic1\", \"Topic1\", \"Topic1\", \"Topic1\", \"Topic1\", \"Topic1\", \"Topic1\", \"Topic1\", \"Topic1\", \"Topic1\", \"Topic1\", \"Topic1\", \"Topic1\", \"Topic1\", \"Topic1\", \"Topic1\", \"Topic1\", \"Topic1\", \"Topic1\", \"Topic2\", \"Topic2\", \"Topic2\", \"Topic2\", \"Topic2\", \"Topic2\", \"Topic2\", \"Topic2\", \"Topic2\", \"Topic2\", \"Topic2\", \"Topic2\", \"Topic2\", \"Topic2\", \"Topic2\", \"Topic2\", \"Topic2\", \"Topic2\", \"Topic2\", \"Topic2\", \"Topic2\", \"Topic2\", \"Topic2\", \"Topic2\", \"Topic2\", \"Topic2\", \"Topic2\", \"Topic2\", \"Topic2\", \"Topic2\", \"Topic3\", \"Topic3\", \"Topic3\", \"Topic3\", \"Topic3\", \"Topic3\", \"Topic3\", \"Topic3\", \"Topic3\", \"Topic3\", \"Topic3\", \"Topic3\", \"Topic3\", \"Topic3\", \"Topic3\", \"Topic3\", \"Topic3\", \"Topic3\", \"Topic3\", \"Topic3\", \"Topic3\", \"Topic3\", \"Topic3\", \"Topic3\", \"Topic3\", \"Topic3\", \"Topic3\", \"Topic3\", \"Topic3\", \"Topic3\", \"Topic4\", \"Topic4\", \"Topic4\", \"Topic4\", \"Topic4\", \"Topic4\", \"Topic4\", \"Topic4\", \"Topic4\", \"Topic4\", \"Topic4\", \"Topic4\", \"Topic4\", \"Topic4\", \"Topic4\", \"Topic4\", \"Topic4\", \"Topic4\", \"Topic4\", \"Topic4\", \"Topic4\", \"Topic4\", \"Topic4\", \"Topic4\", \"Topic4\", \"Topic4\", \"Topic4\", \"Topic4\", \"Topic4\", \"Topic4\", \"Topic5\", \"Topic5\", \"Topic5\", \"Topic5\", \"Topic5\", \"Topic5\", \"Topic5\", \"Topic5\", \"Topic5\", \"Topic5\", \"Topic5\", \"Topic5\", \"Topic5\", \"Topic5\", \"Topic5\", \"Topic5\", \"Topic5\", \"Topic5\", \"Topic5\", \"Topic5\", \"Topic5\", \"Topic5\", \"Topic5\", \"Topic5\", \"Topic5\", \"Topic5\", \"Topic5\", \"Topic5\", \"Topic5\", \"Topic5\", \"Topic6\", \"Topic6\", \"Topic6\", \"Topic6\", \"Topic6\", \"Topic6\", \"Topic6\", \"Topic6\", \"Topic6\", \"Topic6\", \"Topic6\", \"Topic6\", \"Topic6\", \"Topic6\", \"Topic6\", \"Topic6\", \"Topic6\", \"Topic6\", \"Topic6\", \"Topic6\", \"Topic6\", \"Topic6\", \"Topic6\", \"Topic6\", \"Topic6\", \"Topic6\", \"Topic6\", \"Topic6\", \"Topic6\", \"Topic6\", \"Topic7\", \"Topic7\", \"Topic7\", \"Topic7\", \"Topic7\", \"Topic7\", \"Topic7\", \"Topic7\", \"Topic7\", \"Topic7\", \"Topic7\", \"Topic7\", \"Topic7\", \"Topic7\", \"Topic7\", \"Topic7\", \"Topic7\", \"Topic7\", \"Topic7\", \"Topic7\", \"Topic7\", \"Topic7\", \"Topic7\", \"Topic7\", \"Topic7\", \"Topic7\", \"Topic7\", \"Topic7\", \"Topic7\", \"Topic7\", \"Topic8\", \"Topic8\", \"Topic8\", \"Topic8\", \"Topic8\", \"Topic8\", \"Topic8\", \"Topic8\", \"Topic8\", \"Topic8\", \"Topic8\", \"Topic8\", \"Topic8\", \"Topic8\", \"Topic8\", \"Topic8\", \"Topic8\", \"Topic8\", \"Topic8\", \"Topic8\", \"Topic8\", \"Topic8\", \"Topic8\", \"Topic8\", \"Topic8\", \"Topic8\", \"Topic8\", \"Topic8\", \"Topic8\", \"Topic8\", \"Topic9\", \"Topic9\", \"Topic9\", \"Topic9\", \"Topic9\", \"Topic9\", \"Topic9\", \"Topic9\", \"Topic9\", \"Topic9\", \"Topic9\", \"Topic9\", \"Topic9\", \"Topic9\", \"Topic9\", \"Topic9\", \"Topic9\", \"Topic9\", \"Topic9\", \"Topic9\", \"Topic9\", \"Topic9\", \"Topic9\", \"Topic9\", \"Topic9\", \"Topic9\", \"Topic9\", \"Topic9\", \"Topic9\", \"Topic9\", \"Topic10\", \"Topic10\", \"Topic10\", \"Topic10\", \"Topic10\", \"Topic10\", \"Topic10\", \"Topic10\", \"Topic10\", \"Topic10\", \"Topic10\", \"Topic10\", \"Topic10\", \"Topic10\", \"Topic10\", \"Topic10\", \"Topic10\", \"Topic10\", \"Topic10\", \"Topic10\", \"Topic10\", \"Topic10\", \"Topic10\", \"Topic10\", \"Topic10\", \"Topic10\", \"Topic10\", \"Topic10\", \"Topic10\", \"Topic10\", \"Topic11\", \"Topic11\", \"Topic11\", \"Topic11\", \"Topic11\", \"Topic11\", \"Topic11\", \"Topic11\", \"Topic11\", \"Topic11\", \"Topic11\", \"Topic11\", \"Topic11\", \"Topic11\", \"Topic11\", \"Topic11\", \"Topic11\", \"Topic11\", \"Topic11\", \"Topic11\", \"Topic11\", \"Topic11\", \"Topic11\", \"Topic11\", \"Topic11\", \"Topic11\", \"Topic11\", \"Topic11\", \"Topic11\", \"Topic11\", \"Topic12\", \"Topic12\", \"Topic12\", \"Topic12\", \"Topic12\", \"Topic12\", \"Topic12\", \"Topic12\", \"Topic12\", \"Topic12\", \"Topic12\", \"Topic12\", \"Topic12\", \"Topic12\", \"Topic12\", \"Topic12\", \"Topic12\", \"Topic12\", \"Topic12\", \"Topic12\", \"Topic12\", \"Topic12\", \"Topic12\", \"Topic12\", \"Topic12\", \"Topic12\", \"Topic12\", \"Topic12\", \"Topic12\", \"Topic12\", \"Topic13\", \"Topic13\", \"Topic13\", \"Topic13\", \"Topic13\", \"Topic13\", \"Topic13\", \"Topic13\", \"Topic13\", \"Topic13\", \"Topic13\", \"Topic13\", \"Topic13\", \"Topic13\", \"Topic13\", \"Topic13\", \"Topic13\", \"Topic13\", \"Topic13\", \"Topic13\", \"Topic13\", \"Topic13\", \"Topic13\", \"Topic13\", \"Topic13\", \"Topic13\", \"Topic13\", \"Topic13\", \"Topic13\", \"Topic13\", \"Topic14\", \"Topic14\", \"Topic14\", \"Topic14\", \"Topic14\", \"Topic14\", \"Topic14\", \"Topic14\", \"Topic14\", \"Topic14\", \"Topic14\", \"Topic14\", \"Topic14\", \"Topic14\", \"Topic14\", \"Topic14\", \"Topic14\", \"Topic14\", \"Topic14\", \"Topic14\", \"Topic14\", \"Topic14\", \"Topic14\", \"Topic14\", \"Topic14\", \"Topic14\", \"Topic14\", \"Topic14\", \"Topic14\", \"Topic14\", \"Topic15\", \"Topic15\", \"Topic15\", \"Topic15\", \"Topic15\", \"Topic15\", \"Topic15\", \"Topic15\", \"Topic15\", \"Topic15\", \"Topic15\", \"Topic15\", \"Topic15\", \"Topic15\", \"Topic15\", \"Topic15\", \"Topic15\", \"Topic15\", \"Topic15\", \"Topic15\", \"Topic15\", \"Topic15\", \"Topic15\", \"Topic15\", \"Topic15\", \"Topic15\", \"Topic15\", \"Topic15\", \"Topic15\", \"Topic15\", \"Topic16\", \"Topic16\", \"Topic16\", \"Topic16\", \"Topic16\", \"Topic16\", \"Topic16\", \"Topic16\", \"Topic16\", \"Topic16\", \"Topic16\", \"Topic16\", \"Topic16\", \"Topic16\", \"Topic16\", \"Topic16\", \"Topic16\", \"Topic16\", \"Topic16\", \"Topic16\", \"Topic16\", \"Topic16\", \"Topic16\", \"Topic16\", \"Topic16\", \"Topic16\", \"Topic16\", \"Topic16\", \"Topic16\", \"Topic16\", \"Topic17\", \"Topic17\", \"Topic17\", \"Topic17\", \"Topic17\", \"Topic17\", \"Topic17\", \"Topic17\", \"Topic17\", \"Topic17\", \"Topic17\", \"Topic17\", \"Topic17\", \"Topic17\", \"Topic17\", \"Topic17\", \"Topic17\", \"Topic17\", \"Topic17\", \"Topic17\", \"Topic17\", \"Topic17\", \"Topic17\", \"Topic17\", \"Topic17\", \"Topic17\", \"Topic17\", \"Topic17\", \"Topic17\", \"Topic17\", \"Topic18\", \"Topic18\", \"Topic18\", \"Topic18\", \"Topic18\", \"Topic18\", \"Topic18\", \"Topic18\", \"Topic18\", \"Topic18\", \"Topic18\", \"Topic18\", \"Topic18\", \"Topic18\", \"Topic18\", \"Topic18\", \"Topic18\", \"Topic18\", \"Topic18\", \"Topic18\", \"Topic18\", \"Topic18\", \"Topic18\", \"Topic18\", \"Topic18\", \"Topic18\", \"Topic18\", \"Topic18\", \"Topic18\", \"Topic18\", \"Topic19\", \"Topic19\", \"Topic19\", \"Topic19\", \"Topic19\", \"Topic19\", \"Topic19\", \"Topic19\", \"Topic19\", \"Topic19\", \"Topic19\", \"Topic19\", \"Topic19\", \"Topic19\", \"Topic19\", \"Topic19\", \"Topic19\", \"Topic19\", \"Topic19\", \"Topic19\", \"Topic19\", \"Topic19\", \"Topic19\", \"Topic19\", \"Topic19\", \"Topic19\", \"Topic19\", \"Topic19\", \"Topic19\", \"Topic19\", \"Topic20\", \"Topic20\", \"Topic20\", \"Topic20\", \"Topic20\", \"Topic20\", \"Topic20\", \"Topic20\", \"Topic20\", \"Topic20\", \"Topic20\", \"Topic20\", \"Topic20\", \"Topic20\", \"Topic20\", \"Topic20\", \"Topic20\", \"Topic20\", \"Topic20\", \"Topic20\", \"Topic20\", \"Topic20\", \"Topic20\", \"Topic20\", \"Topic20\", \"Topic20\", \"Topic20\", \"Topic20\", \"Topic20\", \"Topic20\"], \"logprob\": [30.0, 29.0, 28.0, 27.0, 26.0, 25.0, 24.0, 23.0, 22.0, 21.0, 20.0, 19.0, 18.0, 17.0, 16.0, 15.0, 14.0, 13.0, 12.0, 11.0, 10.0, 9.0, 8.0, 7.0, 6.0, 5.0, 4.0, 3.0, 2.0, 1.0, -1.6601, -2.1928, -2.5683, -3.0063, -3.064, -3.0922, -3.2528, -3.7605, -4.1294, -4.1354, -4.219, -4.2217, -4.3416, -4.4355, -4.5247, -4.5917, -4.755, -4.7648, -5.0629, -5.098, -5.2069, -5.219, -5.3986, -5.3999, -5.4245, -5.8184, -5.8466, -5.8951, -5.9276, -5.9451, -1.8602, -2.3677, -2.5926, -2.7446, -2.7808, -2.8198, -2.8502, -3.6345, -3.725, -3.9288, -3.9369, -3.946, -3.9552, -4.0814, -4.1827, -4.3812, -4.4744, -4.4907, -4.7648, -4.7706, -4.8457, -5.188, -5.4524, -5.5164, -5.6686, -5.9069, -5.933, -6.0242, -6.0766, -6.2608, -2.2883, -2.5712, -2.7871, -2.7876, -2.9853, -2.991, -3.1423, -3.1615, -3.4464, -3.49, -3.6741, -3.9539, -4.0519, -4.1128, -4.1184, -4.2384, -4.2467, -4.3729, -4.3743, -4.5136, -4.5957, -4.7674, -4.7829, -4.7896, -4.9649, -5.0111, -5.2975, -5.3226, -5.3345, -5.3448, -2.3928, -2.8521, -3.0564, -3.0669, -3.1679, -3.1748, -3.2199, -3.4824, -3.6862, -3.7747, -3.8226, -3.8264, -3.8294, -3.8431, -4.0107, -4.2589, -4.3751, -4.5793, -4.6107, -4.6133, -4.6477, -4.7083, -4.7906, -4.7951, -4.9429, -4.982, -5.047, -5.0896, -5.1644, -5.3806, -1.1093, -2.1357, -2.5207, -2.9995, -3.0467, -3.4089, -3.5804, -3.7029, -3.8752, -4.1028, -4.1274, -4.6004, -4.6407, -4.9013, -4.9082, -5.0965, -5.1295, -5.2735, -5.347, -5.4569, -5.5002, -5.531, -5.6125, -5.7119, -5.8362, -5.8465, -5.907, -5.9721, -6.1877, -6.2281, -2.7034, -2.8804, -2.9467, -3.0015, -3.123, -3.252, -3.2677, -3.3655, -3.4186, -3.4585, -3.541, -3.5474, -3.6149, -3.6981, -3.7015, -3.8405, -4.081, -4.0953, -4.1016, -4.1311, -4.278, -4.2851, -4.3664, -4.4218, -4.5866, -4.8035, -4.9072, -4.9109, -4.9376, -5.2186, -1.3313, -2.4855, -3.1831, -3.3169, -3.4159, -3.6556, -3.66, -3.7167, -3.7173, -3.7425, -3.8954, -3.9555, -4.0743, -4.1003, -4.1804, -4.2558, -4.2611, -4.3354, -4.37, -4.3835, -4.4603, -4.4796, -4.5798, -4.6783, -4.8457, -4.8693, -5.0664, -5.0933, -5.2168, -5.3812, -1.0697, -2.2227, -2.5434, -2.6353, -3.3752, -3.5428, -3.7045, -3.7278, -4.0492, -4.356, -4.4413, -4.5273, -4.6523, -4.7009, -4.9343, -4.9351, -5.0449, -5.0909, -5.1165, -5.2677, -5.3026, -5.3817, -5.5386, -5.567, -5.5809, -5.8538, -5.913, -6.1288, -6.2062, -6.2172, -1.5353, -2.5765, -2.9106, -2.9272, -3.1583, -3.2798, -3.3151, -3.6228, -3.6477, -3.8652, -4.053, -4.176, -4.2108, -4.3479, -4.4756, -4.5553, -4.5587, -4.6446, -4.7747, -4.8683, -4.8864, -4.8899, -4.9648, -4.9823, -5.0544, -5.0746, -5.1025, -5.172, -5.1845, -5.4585, -1.1861, -2.3159, -2.3925, -3.1466, -3.2485, -3.4876, -3.5913, -3.6296, -3.6507, -3.6518, -3.8063, -4.087, -4.2721, -4.3531, -4.5635, -4.8245, -4.8443, -4.8832, -4.9388, -4.9617, -5.1404, -5.2921, -5.6224, -5.696, -5.8247, -6.0128, -6.0402, -6.2015, -6.2098, -6.3532, -2.3899, -2.4209, -2.4827, -2.6256, -3.1479, -3.2533, -3.3658, -3.4649, -3.5231, -3.5559, -3.58, -3.5993, -3.8021, -3.9605, -4.0706, -4.1623, -4.3121, -4.3885, -4.5084, -4.5687, -4.5712, -4.7169, -4.7614, -4.8291, -4.971, -5.1686, -5.1886, -5.2067, -5.4571, -5.5523, -0.8627, -2.4122, -3.1339, -3.2169, -3.2476, -3.5889, -3.7739, -3.8008, -3.97, -3.9847, -4.1424, -4.289, -4.3194, -4.4589, -4.4767, -4.7728, -4.7758, -4.9588, -5.0029, -5.0075, -5.0473, -5.5871, -5.6016, -5.7371, -5.7862, -5.9089, -6.0865, -6.1421, -6.2072, -6.2231, -2.1893, -2.8223, -2.8472, -3.1317, -3.152, -3.2645, -3.3116, -3.398, -3.4732, -3.5058, -3.5067, -3.5246, -3.5703, -3.6751, -4.029, -4.0579, -4.0835, -4.0919, -4.4777, -4.574, -4.9557, -4.9696, -5.0281, -5.0285, -5.1056, -5.5046, -5.5159, -5.5732, -5.5823, -5.6114, -0.8139, -2.072, -2.0931, -3.3372, -3.7974, -4.0381, -4.0784, -4.2547, -4.2986, -4.3895, -4.3952, -5.0072, -5.0371, -5.234, -5.2886, -5.4213, -5.4292, -5.4449, -5.5032, -5.6607, -5.851, -5.8603, -5.9248, -5.997, -6.0136, -6.0299, -6.1015, -6.4781, -7.0171, -7.0316, -1.8835, -1.9053, -2.6863, -2.9326, -3.0213, -3.058, -3.3591, -3.3731, -3.4392, -3.5416, -3.7569, -3.8654, -4.111, -4.3854, -4.5137, -4.659, -4.7836, -4.8531, -5.1462, -5.2778, -5.3494, -5.5425, -5.6049, -5.6386, -5.8765, -5.9288, -5.9289, -5.9297, -6.0264, -6.094, -1.6339, -2.3091, -2.6859, -2.8933, -2.9156, -3.4128, -3.7042, -3.8167, -4.0894, -4.1214, -4.1914, -4.2614, -4.3081, -4.3461, -4.3495, -4.4314, -4.4657, -4.5316, -4.5404, -4.5757, -4.6163, -4.6417, -4.6954, -4.7838, -4.8657, -4.9739, -5.0578, -5.0765, -5.2218, -5.3104, -1.5729, -2.0304, -2.1141, -2.3912, -3.2389, -3.3919, -3.9755, -4.0026, -4.1439, -4.2887, -4.3415, -4.4933, -4.4937, -4.4998, -4.5143, -4.5626, -4.7744, -4.778, -5.0292, -5.0409, -5.0715, -5.2399, -5.3886, -5.5802, -5.6512, -5.697, -5.8267, -5.8356, -5.9125, -5.9266, -1.6486, -1.9966, -2.2573, -2.6418, -2.8874, -3.0987, -3.3229, -3.3839, -3.7352, -3.7738, -4.0706, -4.5021, -4.635, -4.638, -4.6681, -4.6913, -5.4424, -5.4946, -5.6288, -5.6611, -5.7399, -5.9648, -6.2558, -6.2608, -6.4104, -6.4257, -6.5269, -6.5463, -6.5572, -6.5741, -2.3609, -2.7129, -2.8495, -2.9283, -2.9339, -3.013, -3.3365, -3.4632, -3.5268, -3.563, -3.5781, -3.69, -3.8748, -3.8986, -4.1136, -4.14, -4.325, -4.4805, -4.4851, -4.5221, -4.5896, -4.6565, -4.7176, -4.7616, -4.788, -4.8476, -5.0539, -5.0902, -5.1657, -5.2903, -0.3401, -3.5195, -3.6631, -3.8577, -3.8904, -3.9248, -4.4, -4.7241, -4.9966, -5.0767, -5.1374, -5.3544, -5.563, -5.6043, -5.82, -5.8273, -5.9891, -5.9953, -6.0686, -6.1344, -6.17, -6.178, -6.2468, -6.3017, -6.3305, -6.3743, -6.4906, -6.5764, -6.5912, -6.6105], \"loglift\": [30.0, 29.0, 28.0, 27.0, 26.0, 25.0, 24.0, 23.0, 22.0, 21.0, 20.0, 19.0, 18.0, 17.0, 16.0, 15.0, 14.0, 13.0, 12.0, 11.0, 10.0, 9.0, 8.0, 7.0, 6.0, 5.0, 4.0, 3.0, 2.0, 1.0, 3.1697, 3.1678, 3.1657, 3.1621, 3.1615, 3.1612, 3.1592, 3.1507, 3.1411, 3.1409, 3.1382, 3.1382, 3.1339, 3.1302, 3.1263, 3.1232, 3.1148, 3.1142, 3.0948, 3.0921, 3.0833, 3.0822, 3.0654, 3.0653, 3.0628, 3.0139, 3.0097, 3.0023, 2.9971, 2.9943, 3.0641, 3.0622, 3.061, 3.0599, 3.0597, 3.0594, 3.0592, 3.0498, 3.0481, 3.0439, 3.0437, 3.0435, 3.0433, 3.0401, 3.0373, 3.0308, 3.0274, 3.0267, 3.0143, 3.014, 3.01, 2.9876, 2.9647, 2.9583, 2.9415, 2.9102, 2.9064, 2.8923, 2.8837, 2.8504, 3.1154, 3.1138, 3.1123, 3.1123, 3.1106, 3.1105, 3.109, 3.1087, 3.105, 3.1043, 3.1012, 3.0951, 3.0926, 3.0909, 3.0907, 3.087, 3.0867, 3.0823, 3.0823, 3.0767, 3.0731, 3.0645, 3.0637, 3.0633, 3.0528, 3.0497, 3.0274, 3.0251, 3.0241, 3.0231, 3.269, 3.2655, 3.2633, 3.2632, 3.2619, 3.2618, 3.2612, 3.2571, 3.2531, 3.2511, 3.2499, 3.2498, 3.2497, 3.2494, 3.2448, 3.2364, 3.2317, 3.2222, 3.2205, 3.2204, 3.2185, 3.2151, 3.2101, 3.2098, 3.1998, 3.1969, 3.1919, 3.1884, 3.182, 3.1608, 2.8634, 2.8613, 2.8598, 2.857, 2.8566, 2.8531, 2.851, 2.8493, 2.8465, 2.8419, 2.8413, 2.8276, 2.8261, 2.8149, 2.8146, 2.8045, 2.8026, 2.7933, 2.7881, 2.7796, 2.776, 2.7733, 2.766, 2.7562, 2.7427, 2.7415, 2.7343, 2.7261, 2.6955, 2.6891, 3.1041, 3.1027, 3.1021, 3.1016, 3.1004, 3.0989, 3.0987, 3.0974, 3.0967, 3.0961, 3.0948, 3.0947, 3.0935, 3.092, 3.092, 3.0891, 3.0832, 3.0828, 3.0826, 3.0817, 3.0772, 3.0769, 3.0741, 3.072, 3.0651, 3.0543, 3.0482, 3.048, 3.0463, 3.0262, 2.9628, 2.9594, 2.9544, 2.953, 2.9518, 2.9484, 2.9483, 2.9474, 2.9474, 2.9469, 2.9441, 2.9429, 2.9402, 2.9395, 2.9375, 2.9354, 2.9353, 2.9331, 2.932, 2.9315, 2.929, 2.9283, 2.9246, 2.9205, 2.9127, 2.9115, 2.9004, 2.8987, 2.8904, 2.8777, 2.9067, 2.9042, 2.9028, 2.9023, 2.8963, 2.8942, 2.8919, 2.8915, 2.8854, 2.8774, 2.8748, 2.8718, 2.8672, 2.8652, 2.8543, 2.8542, 2.8482, 2.8455, 2.8439, 2.8338, 2.8313, 2.8253, 2.8119, 2.8093, 2.808, 2.7786, 2.7712, 2.7409, 2.7286, 2.7268, 3.0883, 3.0843, 3.0819, 3.0818, 3.0795, 3.0781, 3.0776, 3.073, 3.0726, 3.0683, 3.0638, 3.0603, 3.0592, 3.0547, 3.05, 3.0467, 3.0465, 3.0427, 3.0362, 3.031, 3.03, 3.0298, 3.0252, 3.0241, 3.0193, 3.0179, 3.0159, 3.0107, 3.0098, 2.9856, 2.8678, 2.8652, 2.8648, 2.8602, 2.8593, 2.8566, 2.8553, 2.8548, 2.8545, 2.8545, 2.852, 2.8466, 2.8421, 2.8399, 2.8332, 2.8228, 2.8219, 2.82, 2.8173, 2.8161, 2.8061, 2.7962, 2.7691, 2.7618, 2.748, 2.7246, 2.7209, 2.6971, 2.6958, 2.6716, 3.0882, 3.0881, 3.0877, 3.0869, 3.0824, 3.0812, 3.0798, 3.0784, 3.0775, 3.077, 3.0766, 3.0762, 3.0724, 3.0689, 3.0661, 3.0635, 3.0587, 3.056, 3.0514, 3.0488, 3.0487, 3.0419, 3.0396, 3.0359, 3.0274, 3.0136, 3.012, 3.0106, 2.9883, 2.9783, 2.8502, 2.8469, 2.8425, 2.8417, 2.8414, 2.8375, 2.8348, 2.8344, 2.8313, 2.8311, 2.8277, 2.824, 2.8232, 2.8191, 2.8185, 2.8076, 2.8075, 2.7989, 2.7966, 2.7964, 2.7942, 2.7555, 2.7541, 2.7408, 2.7356, 2.7214, 2.6981, 2.69, 2.6801, 2.6775, 3.1527, 3.1488, 3.1486, 3.1458, 3.1455, 3.1442, 3.1435, 3.1423, 3.1412, 3.1407, 3.1406, 3.1403, 3.1396, 3.1376, 3.1295, 3.1287, 3.128, 3.1277, 3.1142, 3.1099, 3.0887, 3.0878, 3.0837, 3.0837, 3.0781, 3.0414, 3.0402, 3.0337, 3.0327, 3.0292, 2.7114, 2.7095, 2.7095, 2.7029, 2.6976, 2.6937, 2.693, 2.6893, 2.6883, 2.686, 2.6859, 2.6643, 2.6629, 2.6525, 2.6492, 2.6406, 2.6401, 2.639, 2.6347, 2.6221, 2.6042, 2.6033, 2.5964, 2.5883, 2.5863, 2.5844, 2.5755, 2.5188, 2.4005, 2.3966, 3.0821, 3.082, 3.0783, 3.0764, 3.0755, 3.0752, 3.0717, 3.0715, 3.0706, 3.069, 3.0652, 3.063, 3.0569, 3.0481, 3.0431, 3.0367, 3.0305, 3.0267, 3.0075, 2.997, 2.9908, 2.9718, 2.9649, 2.961, 2.9302, 2.9225, 2.9225, 2.9224, 2.9072, 2.8959, 3.1374, 3.135, 3.1327, 3.1311, 3.1309, 3.1251, 3.1201, 3.1177, 3.1108, 3.1099, 3.1078, 3.1055, 3.1038, 3.1025, 3.1023, 3.0992, 3.0978, 3.095, 3.0946, 3.093, 3.0911, 3.0899, 3.0872, 3.0825, 3.0777, 3.0708, 3.065, 3.0636, 3.0522, 3.0444, 2.9348, 2.9337, 2.9334, 2.9324, 2.9265, 2.9248, 2.9154, 2.9148, 2.9116, 2.9077, 2.9061, 2.9012, 2.9012, 2.901, 2.9004, 2.8987, 2.8899, 2.8897, 2.8767, 2.876, 2.8742, 2.8631, 2.8518, 2.8347, 2.8276, 2.8228, 2.808, 2.8069, 2.7972, 2.7954, 3.0432, 3.0423, 3.0413, 3.0393, 3.0375, 3.0356, 3.0332, 3.0324, 3.0269, 3.0261, 3.0195, 3.0057, 3.0002, 3.0, 2.9987, 2.9976, 2.9464, 2.9414, 2.9273, 2.9236, 2.9143, 2.8837, 2.8345, 2.8335, 2.8031, 2.7998, 2.7769, 2.7723, 2.7696, 2.7655, 3.1514, 3.1492, 3.1481, 3.1474, 3.1473, 3.1465, 3.1427, 3.1408, 3.1397, 3.1391, 3.1389, 3.1368, 3.1328, 3.1322, 3.1264, 3.1256, 3.1194, 3.1132, 3.113, 3.1114, 3.1083, 3.105, 3.1019, 3.0995, 3.098, 3.0945, 3.0807, 3.078, 3.0721, 3.0614, 2.5852, 2.5759, 2.5744, 2.572, 2.5716, 2.5711, 2.5623, 2.5536, 2.5437, 2.5403, 2.5375, 2.5262, 2.5129, 2.51, 2.4926, 2.4919, 2.4764, 2.4757, 2.4678, 2.4603, 2.456, 2.4551, 2.4464, 2.4391, 2.4351, 2.4289, 2.4111, 2.3969, 2.3943, 2.3909]}, \"token.table\": {\"Topic\": [15, 19, 11, 6, 3, 20, 19, 20, 15, 11, 17, 14, 2, 14, 5, 5, 2, 3, 11, 12, 20, 13, 18, 20, 14, 8, 6, 18, 8, 10, 14, 3, 14, 11, 2, 19, 6, 6, 4, 8, 14, 4, 5, 15, 7, 9, 5, 3, 10, 7, 12, 18, 1, 6, 16, 12, 17, 3, 12, 16, 10, 20, 11, 8, 17, 1, 7, 1, 9, 1, 2, 20, 20, 2, 11, 1, 9, 12, 8, 20, 18, 8, 6, 20, 3, 4, 12, 5, 1, 3, 16, 13, 3, 17, 14, 9, 19, 18, 13, 7, 7, 16, 2, 4, 15, 11, 14, 1, 2, 16, 7, 10, 8, 12, 1, 19, 9, 20, 17, 11, 17, 19, 7, 6, 7, 11, 8, 11, 11, 10, 3, 1, 6, 4, 1, 16, 3, 14, 7, 12, 17, 2, 20, 4, 3, 16, 12, 12, 16, 5, 17, 14, 5, 14, 9, 7, 18, 2, 19, 8, 19, 12, 17, 9, 1, 9, 8, 18, 20, 10, 2, 20, 13, 15, 20, 2, 10, 8, 4, 13, 19, 8, 2, 16, 13, 6, 7, 15, 2, 10, 2, 9, 7, 18, 14, 5, 7, 20, 9, 18, 15, 15, 12, 20, 16, 1, 16, 17, 12, 11, 6, 12, 5, 18, 1, 11, 20, 11, 9, 4, 15, 14, 7, 1, 4, 8, 1, 11, 14, 1, 1, 19, 18, 14, 11, 3, 10, 13, 8, 10, 7, 1, 12, 7, 17, 6, 20, 8, 12, 15, 15, 6, 15, 13, 5, 7, 17, 2, 6, 18, 4, 14, 18, 8, 7, 17, 10, 12, 16, 19, 13, 20, 15, 6, 9, 7, 6, 17, 3, 4, 20, 7, 13, 17, 7, 1, 3, 8, 16, 6, 18, 4, 5, 19, 1, 4, 16, 5, 9, 16, 4, 11, 8, 17, 16, 3, 9, 8, 8, 13, 19, 11, 17, 10, 19, 7, 19, 4, 11, 5, 4, 13, 7, 19, 8, 5, 1, 4, 11, 11, 17, 9, 5, 1, 3, 12, 7, 2, 2, 12, 17, 11, 19, 19, 13, 2, 1, 5, 18, 12, 13, 3, 10, 9, 18, 10, 3, 5, 14, 8, 15, 7, 15, 2, 11, 8, 15, 16, 14, 16, 6, 18, 7, 3, 19, 5, 13, 15, 4, 20, 10, 13, 15, 5, 19, 11, 9, 17, 11, 4, 18, 13, 18, 9, 10, 20, 18, 9, 13, 20, 5, 3, 20, 14, 9, 16, 6, 16, 6, 15, 8, 17, 19, 7, 2, 9, 7, 10, 4, 4, 1, 16, 2, 13, 10, 4, 3, 6, 6, 14, 9, 14, 6, 12, 14, 15, 3, 10, 16, 4, 17, 13, 17, 12, 18, 18, 3, 10, 15, 5, 9, 16, 18, 11, 6, 11, 20, 14, 1, 3, 1, 1, 12, 6, 4, 17, 15, 1, 3, 2, 7, 12, 3, 9, 13, 10, 5, 20, 14, 15, 4, 12, 15, 14, 10, 19, 12, 6, 11, 10, 10, 4, 14, 8, 19, 13, 8, 10, 17, 5, 15, 9, 19, 18, 13, 8, 9, 5, 16, 14, 5, 17, 19, 18, 2, 12, 17, 3, 10, 13, 4, 12, 2, 12, 13, 20, 20, 5, 2, 10, 9, 10, 6, 2, 16, 8, 9, 16, 3, 6, 9, 2, 18, 8, 16, 15, 19, 16, 19, 7, 1, 3, 13, 18, 13, 17, 13, 8, 17, 15, 4, 14, 19, 14, 18, 2, 19, 16, 6, 2, 15, 11, 13, 10, 12, 18, 3, 5, 18, 9, 5, 5, 17, 6, 20, 13, 20, 16, 6, 4, 2, 5, 19, 15, 14, 10, 11, 4, 15, 1], \"Freq\": [0.9223652747753867, 0.9357494852315098, 0.9783978735016541, 0.9767107644629738, 0.9877205751159847, 0.9044668463783394, 0.9869673051282067, 0.8497290306229662, 0.9710918791806327, 0.9823805490940727, 0.9411453746911055, 0.9782053261145303, 0.9788677955830922, 0.9479467970545723, 0.8871890818227851, 0.8895416828468071, 0.8388648847682952, 0.9421636093756829, 0.9963837099813492, 0.860794245441932, 0.8872181275136827, 0.987395545209823, 0.9913982935004227, 0.8921203495770675, 0.969680642588101, 0.9718065775378912, 0.9566398778801709, 0.9492421781623693, 0.8964444212748981, 0.9408535757187352, 0.9687346918102787, 0.9454128201722326, 0.9225394138310675, 0.9671710181867076, 0.7691931494779684, 0.9359155239789784, 0.9467606047261988, 0.9658861554926949, 0.9678537570762643, 0.9802353851171476, 0.991588462548464, 0.9002332089017693, 0.8573371709516158, 0.9250354744653144, 0.9873456645871034, 0.9930882878046762, 0.8980763074183203, 0.9686292407511783, 0.9971110397104112, 0.9748687162161745, 0.9773850696695823, 0.8520487908032564, 0.951154840813227, 0.9848755496772034, 0.9320460407799226, 0.9763185574897335, 0.9015608564852969, 0.9691593094305851, 0.9882766434520649, 0.9969329067616166, 0.9402713877937953, 0.9512208624209536, 0.9588735314648877, 0.9926334082236095, 0.8991457417897585, 0.9186317568804065, 0.9898589114459893, 0.9577296159534584, 0.9120670478190106, 0.8147478334994696, 0.9959361168276084, 0.9906998292202411, 0.8270779458725248, 0.9643560997534771, 0.9807236207993808, 0.9422148096521732, 0.9630077488477298, 0.9531359639324841, 0.8458070002272647, 0.9590338174767615, 0.9519618275141394, 0.9342493032458059, 0.9816454656238155, 0.908297676847377, 0.978269811420833, 0.9762296084274424, 0.9760434858623112, 0.9914273731395654, 0.9476228724137957, 0.9952529959278723, 0.9302690690921024, 0.8742571430667052, 0.9936855662848145, 0.9854823603370255, 0.9974845616262465, 0.9118307636432013, 0.98252323731173, 0.9960056082597029, 0.8428999903625222, 0.9700652734885038, 0.983723670908417, 0.9453441739423475, 0.9338344181194188, 0.9361455576411314, 0.8176006972777936, 0.9544496551873655, 0.9091989558526637, 0.8695786089228501, 0.9781363801884416, 0.967935032367103, 0.9858207267501865, 0.9946435779585248, 0.9247431909192293, 0.8723900418924659, 0.9334959336015048, 0.9444245565202332, 0.9314964673578138, 0.9287786661502339, 0.9748146549983272, 0.9605869334413542, 0.9443707425912491, 0.9254670065652015, 0.9184541771179511, 0.9836258296018021, 0.9574540162804284, 0.9113425469219838, 0.7809258190547674, 0.8694943298759068, 0.9921941814841972, 0.8767337394974382, 0.9555513657583864, 0.9943498105068197, 0.9651687065035695, 0.9901184394134896, 0.9644548412236247, 0.984447135831251, 0.9416439759324233, 0.6336501106206729, 0.9545389098889536, 0.9888735334890839, 0.8338810351372986, 0.9935458216766772, 0.990047713998996, 0.9302345016379502, 0.9868087240659232, 0.9769678473222329, 0.9905412485338367, 0.8532791919165261, 0.9906901727407127, 0.9116977542898809, 0.9784064799516514, 0.989322599910845, 0.8870336149132391, 0.8968721315750335, 0.9760688445732963, 0.9952000082223907, 0.9838389097018497, 0.9920535232003888, 0.9885728985122672, 0.7737488992056321, 0.9779194768308586, 0.9538300953300628, 0.9967353592754962, 0.9673792230974518, 0.8869280679052596, 0.9553782131796098, 0.9770997249283243, 0.9784972946517099, 0.899911751836239, 0.95225323665038, 0.9799074490602392, 0.8733475711392553, 0.9831210628184616, 0.83043187234796, 0.9666984636066085, 0.9769929763905628, 0.9815272713340235, 0.9965444713601075, 0.9808670085579388, 0.9116876573924163, 0.8992688306051575, 0.8852239616387194, 0.9980785737607567, 0.9370949803789912, 0.9899967596986771, 0.9903934563720889, 0.901882895097305, 0.9957545455605765, 0.9538206176385928, 0.897796920495971, 0.93904102409762, 0.9858285220071417, 0.9545055610234298, 0.7571585194251286, 0.9378388723427268, 0.8924685113222848, 0.9493085131593508, 0.8523150595097251, 0.9752073562762714, 0.9882314793214518, 0.9812856127089005, 0.9890144079190462, 0.9394969036883728, 0.9996889651261568, 0.9491198283928061, 0.9894429286239003, 0.9658565487652829, 0.9971732076806171, 0.9272425050943625, 0.9858868569125921, 0.9680169352202961, 0.9761105843547404, 0.9917020903055177, 0.8623712740578161, 0.988896975616244, 0.9870383359284145, 0.9058991102099132, 0.9830534994501529, 0.989529930643504, 0.9817635461285015, 0.9447915608048598, 0.9300038995211121, 0.9903874298473776, 0.9519315667278595, 0.9749050321040634, 0.9890162427574845, 0.8859427232910168, 0.9283558878647157, 0.8527897256409763, 0.9067515627134105, 0.9590438748888245, 0.9849198476894749, 0.9397404216872536, 0.936127623143812, 0.9291458256407533, 0.981995002913658, 0.8988031581972645, 0.9427559002619736, 0.9502834981359363, 0.9899767430757922, 0.9641010092990276, 0.9874534609289299, 0.9593409384319312, 0.982808868797325, 0.9750909400637255, 0.9885444340146327, 0.9898113115662546, 0.9263042604294438, 0.8982926693765271, 0.7728811996680812, 0.9888283437001825, 0.9866164889175647, 0.9671020033956378, 0.9895526989009721, 0.9750119093510158, 0.9354728487953419, 0.9845521682449396, 0.9683129339289868, 0.988169326185876, 0.7532495135684241, 0.9308030804978884, 0.8781902606755578, 0.9917802396879437, 0.9427274512969211, 0.985246535647997, 0.9776858748512554, 0.8706059284042278, 0.9680631227916383, 0.9901458912023947, 0.9557956295294701, 0.9858818968857174, 0.8140446987939423, 0.933151810185643, 0.9201781775782875, 0.9172696281017888, 0.9698400594980443, 0.905520572344952, 0.9672936743902356, 0.9277231004644677, 0.9920030039819718, 0.8040954749003895, 0.9907565189494002, 0.992003542850604, 0.9592533478585, 0.9981512740346842, 0.9585810840282014, 0.9620797613648815, 0.9709852465279003, 0.9411381141027299, 0.9549435193521633, 0.75627503087429, 0.9914161379829807, 0.9880080400445511, 0.9709484212618279, 0.8345570749601026, 0.9620831338633287, 0.944861060517722, 0.9990030504366013, 0.9909818471263842, 0.9786034306144695, 0.9569251656574692, 0.9778302829108131, 0.9345875017383005, 0.9985675673021781, 0.9625522880366625, 0.9110151344830216, 0.934615483448318, 0.943386182709822, 0.9528192810166751, 0.9881050104628474, 0.9797639334730897, 0.9548105003291715, 0.8515515830861635, 0.9854145136783141, 0.9476932248417308, 0.9523308433797353, 0.9300035218231408, 0.9906514252240651, 0.9716843807520698, 0.9531225278196674, 0.9850828618277006, 0.975615940118501, 0.9623355217059418, 0.9910827485876874, 0.9960380573918036, 0.9632248324216972, 0.8897053666398422, 0.9868393075217099, 0.9439080560465736, 0.9862480638285036, 0.9320124296884218, 0.989951850857906, 0.9462802332070936, 0.948563909574161, 0.9820482382944177, 0.9572835039420047, 0.9562859282678666, 0.8954628078951253, 0.9951727873071692, 0.9963661012827831, 0.9201383393269423, 0.980573944844146, 0.9931407479009441, 0.8987175158106573, 0.9731848115883529, 0.9562916056604961, 0.8936328153498296, 0.9871844874102942, 0.987629845410793, 0.9867922987924153, 0.9126746593027817, 0.9412390050265069, 0.8465898110546783, 0.9761756126347437, 0.9956697858975078, 0.8672168096888981, 0.9643549943030038, 0.9694735562427665, 0.9492218315185754, 0.9829197928675563, 0.9823340536048046, 0.9832070921546309, 0.8304876274781781, 0.8206187126899734, 0.9940114474773072, 0.9991370818465586, 0.9428866248608189, 0.950063044582389, 0.9225860903681766, 0.9946569557338855, 0.9663450182550598, 0.7634539685797682, 0.9821467070128, 0.9704806597255939, 0.990505246194588, 0.865421641949155, 0.9290939670218828, 0.8952324131842206, 0.9862750417177805, 0.8658442043099482, 0.9762266113243119, 0.9881350166551484, 0.9961933881971707, 0.9273551760959194, 0.9887032344878105, 0.969554700416773, 0.9845171139983788, 0.9542200425991735, 0.9793112602834293, 0.9345063751613496, 0.8964745773837907, 0.8648602090489458, 0.8830282953511863, 0.9984469351805078, 0.9880799658690225, 0.9115408505476337, 0.998557614834064, 0.9522788192331165, 0.9745428062310421, 0.8583063413861353, 0.9978839333419282, 0.9915489763215986, 0.9177818436466982, 0.9517002633883483, 0.9442637468176862, 0.9160767254946967, 0.9854073110102176, 0.9323749258323216, 0.963060514178707, 0.9770722907970447, 0.9708515863876851, 0.8237335125491838, 0.9269997074732611, 0.9307149807587508, 0.968820212749449, 0.9525789016511788, 0.9746402618697196, 0.9983992183451118, 0.9549765111688854, 0.9866317916834045, 0.9927456863667576, 0.9857080558094372, 0.9221339174895363, 0.9063845237158094, 0.969495530691759, 0.941021332082298, 0.9873111108778638, 0.9876443943460999, 0.972304859540512, 0.9744919612724383, 0.9840230011787887, 0.9406359256378664, 0.9907614826357765, 0.8559632604237026, 0.9830219382893475, 0.9427702280845289, 0.9147788037816893, 0.9862870257185783, 0.9799101928168297, 0.9476934751273367, 0.8597384992064303, 0.9529022403293662, 0.9865042536483196, 0.9825069798735131, 0.746023582742074, 0.7733045431052326, 0.9801238693830844, 0.9936203651347748, 0.9910545107228339, 0.9717181292589295, 0.963973759448659, 0.9627002970553361, 0.8281192741733636, 0.9945411935453595, 0.9233538847273218, 0.8608126840309512, 0.943767255337377, 0.9992386053823475, 0.961132524363009, 0.9880504967100006, 0.7773225280035172, 0.9765945733770047, 0.9507901271679745, 0.9949781584932685, 0.9084135111219833, 0.9734558775801392, 0.9076023169122887, 0.9829701893101745, 0.9320941521715426, 0.9671752938665227, 0.9692956946566976, 0.9803616448989826, 0.9616258493555505, 0.868417765547289, 0.9819060912057322, 0.9715599278675797, 0.9034539070891915, 0.9688177097627414, 0.8359321933263402, 0.9315623929996694, 0.8701333401127732, 0.9993950363924274, 0.9843949526823096, 0.9643510525400443, 0.9428502476596438, 0.9717815677815703, 0.9667654302460812, 0.9794307013442827, 0.9921190663635394, 0.9326644178668582, 0.9891364702622116, 0.9121220481179059, 0.9158088793973433, 0.8577319552162769, 0.9486608846632749, 0.986045462009603, 0.903404752421046, 0.9607891576250567, 0.9588964687817331, 0.9594047470462685, 0.9864989469501615, 0.9958746974790612, 0.9818833474298362, 0.9087136864271267, 0.8830390915109196, 0.9515142606658948, 0.9887712455995565, 0.9161762723026947, 0.9491052144748329, 0.823291233310467, 0.9958940648293692, 0.8664602722976085, 0.9574796898523211, 0.9435081095099317, 0.9899867681072017, 0.9652408205829754, 0.9964730825552396, 0.9920096230078703, 0.9795620600290605, 0.9060613146042549, 0.9814926107630364, 0.887779656462399, 0.8025465355735764, 0.9830220213962452, 0.9653400229863606, 0.9876691725578268, 0.9593406762331725, 0.9507067408836158, 0.9932614093456862, 0.8469323882054004, 0.9224174458471333, 0.9599711913322643, 0.9898341254134139, 0.9748914099400963, 0.9532083969942519, 0.9645866904848143, 0.9452958116918311, 0.9386568279863994, 0.8778719352576373, 0.9830762667062184, 0.9266564061208677, 0.7937619896914525, 0.9760484830650402, 0.9555242597767003, 0.9562621991780235, 0.8310646353612132, 0.9760106304328037, 0.9944871332903225, 0.9586462015234675, 0.9759896285682934, 0.9973278916416364, 0.9966136630052725, 0.9810749639639721, 0.9871731625575747, 0.9666275413491121, 0.9218384159479159, 0.9598150190079862, 0.9866909045751374, 0.9676719892252499, 0.9835280014524503, 0.938031451830416, 0.8423507677468473, 0.9487580899059708, 0.9969935017287511, 0.95955760765894, 0.9053893728481776, 0.9876623972619886, 0.9570059197075107, 0.9930948342466187, 0.8864116727757546, 0.991076643400727, 0.9844485271132949, 0.982276190851797, 0.8804185765696275, 0.8146086568401903, 0.8766646574579346, 0.9809086707196574, 0.9892008937022888, 0.9645448941262409, 0.9615833528836806, 0.9344571463044848, 0.9885923798704886, 0.9877271803833143, 0.9631895903738071, 0.9902385082958003, 0.9972724111490942, 0.871092012994327, 0.9679030811078455, 0.9905208170043913, 0.9159738430840825, 0.9676672549246911, 0.9203281221041442, 0.9913388159608283, 0.9694680238808485, 0.8854732791330758, 0.9922888530918188, 0.9455071614934133, 0.9433550584878878, 0.971173240968581, 0.9715652054486323], \"Term\": [\"accommodate\", \"accommodate_u\", \"adult\", \"adult_child\", \"afternoon\", \"afterwards\", \"age\", \"airy\", \"ale\", \"allergy\", \"ambiance\", \"ambience\", \"amount\", \"apology\", \"appetite\", \"apple\", \"approach\", \"april\", \"area\", \"arrives\", \"asset\", \"ate\", \"atmosphere\", \"attention_detail\", \"attentive\", \"attitude\", \"average\", \"avocado\", \"awful\", \"baby\", \"bacon\", \"bag\", \"ball\", \"bank_holiday\", \"banoffee_pie\", \"barman\", \"base\", \"batter\", \"bean\", \"beef\", \"beer\", \"beer_garden\", \"beer_wine\", \"beetroot\", \"bill\", \"birthday\", \"birthday_celebration\", \"birthday_meal\", \"bit\", \"bland\", \"board\", \"boat\", \"bone\", \"book\", \"bos\", \"bottle\", \"bottom\", \"bowl\", \"bread\", \"breakfast\", \"brilliant\", \"building\", \"bun\", \"burger\", \"burger_chip\", \"burger_fry\", \"business\", \"butter\", \"cabbage\", \"caesar_salad\", \"cafe\", \"cake\", \"camembert\", \"car\", \"car_park\", \"carrot\", \"case\", \"cash\", \"cauliflower\", \"celebration\", \"centre\", \"chain\", \"chair\", \"chance\", \"charge\", \"check\", \"cheese\", \"chef\", \"chewy\", \"chicken\", \"chicken_curry\", \"chicken_pie\", \"child\", \"chilli\", \"chip\", \"chip_pea\", \"chocolate\", \"choice\", \"choice_beef\", \"choice_menu\", \"christmas\", \"christmas_lunch\", \"christmas_meal\", \"chunk\", \"ciabatta\", \"cider\", \"class_food\", \"co\", \"cocktail\", \"coconut\", \"cod\", \"coffee\", \"cold\", \"coleslaw\", \"colleague\", \"colour\", \"comment\", \"company\", \"complaint\", \"content\", \"conversation\", \"cooking\", \"corner\", \"cost\", \"cosy\", \"country\", \"country_pub\", \"countryside\", \"couple\", \"couple_table\", \"couple_time\", \"course\", \"crab\", \"cream\", \"crisp\", \"crispy\", \"criticism\", \"crunchy\", \"cup\", \"curry\", \"custard\", \"customer\", \"customer_service\", \"cutlery\", \"daughter\", \"day\", \"decor\", \"delay\", \"delivery\", \"describe\", \"desert\", \"dessert\", \"dessert_menu\", \"detail\", \"diner\", \"dinner\", \"disappointment\", \"dish\", \"dog\", \"doggie\", \"door\", \"doubt\", \"drink\", \"drink_order\", \"drinker\", \"drive\", \"dry\", \"eaten\", \"edge\", \"effort\", \"egg\", \"emma\", \"end\", \"england\", \"english\", \"environment\", \"establishment\", \"evening\", \"event\", \"excellent\", \"excuse\", \"expectation\", \"experience\", \"eye\", \"fab\", \"fact\", \"fair\", \"family\", \"family_birthday\", \"family_group\", \"family_lunch\", \"family_meal\", \"fare\", \"fatty\", \"filling\", \"filthy\", \"finger\", \"finish\", \"fire\", \"fish\", \"fish_chip\", \"flavour\", \"flower\", \"food\", \"food_average\", \"food_good\", \"friday\", \"friend\", \"friend_family\", \"front\", \"fruit\", \"fry\", \"fun\", \"gammon\", \"garden\", \"gem\", \"gem_restaurant\", \"gin\", \"girl\", \"glass\", \"glass_wine\", \"god\", \"good\", \"granddaughter\", \"gravy\", \"group\", \"group_people\", \"group_u\", \"grub\", \"guess\", \"guest\", \"guy\", \"hake\", \"ham\", \"ham_egg\", \"hand\", \"hassle\", \"head\", \"heart\", \"helpful\", \"holiday\", \"home\", \"homemade\", \"hope\", \"host\", \"hour\", \"house\", \"hubby\", \"hummus\", \"humour\", \"husband\", \"i\", \"ice\", \"ice_cream\", \"idea\", \"improvement\", \"ingredient\", \"issue\", \"job\", \"joke\", \"juicy\", \"june\", \"kid\", \"kid_meal\", \"kind\", \"kitchen\", \"knife\", \"lack\", \"lady\", \"lager\", \"lamb\", \"lasagne\", \"latte\", \"lettuce\", \"level\", \"life\", \"line\", \"list\", \"lobster\", \"location\", \"loo\", \"look\", \"lot\", \"lot_choice\", \"lunch\", \"lunch_friend\", \"lunch_menu\", \"lunchtime\", \"lush\", \"making\", \"male\", \"management\", \"manager\", \"manner\", \"map\", \"mark\", \"mash\", \"meal\", \"meat\", \"medium\", \"meet\", \"member_staff\", \"memory\", \"menu\", \"menu_choice\", \"menu_selection\", \"mess\", \"mezzo\", \"middle\", \"mile\", \"min\", \"mind\", \"mint\", \"minute\", \"mistake\", \"moment\", \"monday\", \"money\", \"month\", \"mother\", \"mum\", \"mushroom\", \"name\", \"need\", \"night\", \"notch\", \"note\", \"number\", \"nut\", \"occasion\", \"offering\", \"ok\", \"okay\", \"olive\", \"onion\", \"online\", \"opinion\", \"opportunity\", \"option\", \"order\", \"order_drink\", \"others\", \"owner\", \"pancake\", \"parent\", \"park\", \"parmesan\", \"part\", \"partner\", \"party\", \"pas\", \"past\", \"pate\", \"pea\", \"people\", \"period\", \"person\", \"phone\", \"picture\", \"pie\", \"piece\", \"pint\", \"pint_beer\", \"pity\", \"pizza\", \"place\", \"place_look\", \"place_visit\", \"plain\", \"plate\", \"platter\", \"playground\", \"pleasant\", \"plentiful\", \"plenty\", \"plenty_room\", \"plenty_table\", \"ploughman\", \"point\", \"policy\", \"polite\", \"pork\", \"portion\", \"portion_chip\", \"portion_size\", \"pot\", \"potato\", \"practice\", \"prawn\", \"prawn_cocktail\", \"pre\", \"preference\", \"pressure\", \"price\", \"problem\", \"promenade\", \"pub\", \"pub_grub\", \"pub_restaurant\", \"pud\", \"quality\", \"quality_food\", \"quality_quantity\", \"question\", \"queue\", \"rabbit\", \"range\", \"rank\", \"reason\", \"reception\", \"recommendation\", \"regard\", \"reply\", \"request\", \"requirement\", \"response\", \"rest\", \"restaurant\", \"restaurant_area\", \"return\", \"review\", \"rice\", \"rip\", \"risotto\", \"river\", \"riverside\", \"road\", \"roast\", \"roast_beef\", \"roast_dinner\", \"roast_potato\", \"roll\", \"round\", \"rubbery\", \"rude\", \"run\", \"rush\", \"salad\", \"salmon\", \"salt\", \"salty\", \"sample\", \"sandwich\", \"saturday\", \"saturday_afternoon\", \"saturday_lunchtime\", \"saturday_night\", \"sauce\", \"sausage\", \"sea_bass\", \"season\", \"seat\", \"section\", \"selection\", \"selection_beer\", \"serf\", \"server\", \"service\", \"setting\", \"shame\", \"sharer\", \"show\", \"shut\", \"side\", \"side_salad\", \"site\", \"situation\", \"size\", \"size_portion\", \"slice\", \"smile\", \"snack\", \"soggy\", \"sorry\", \"soup\", \"space\", \"specialise\", \"spot\", \"squash\", \"squeak\", \"squid\", \"staff\", \"staff_attentive\", \"staff_helpful\", \"staff_pleasant\", \"staff_polite\", \"standard\", \"start\", \"starter\", \"stay\", \"steak\", \"steak_pie\", \"stomach\", \"stroll\", \"stuff\", \"style\", \"success\", \"suit\", \"summer\", \"sun\", \"sunday\", \"sunday_lunch\", \"sunday_roast\", \"sunny\", \"sunshine\", \"super\", \"superb\", \"supermarket\", \"sussex\", \"system\", \"table\", \"table_window\", \"tap\", \"tart\", \"taste\", \"tasteless\", \"tasty\", \"tea\", \"team\", \"temperature\", \"tender\", \"test\", \"texture\", \"thanks\", \"theme\", \"thing\", \"tidy\", \"till\", \"time\", \"time_year\", \"tip\", \"toffee\", \"toilet\", \"tomato\", \"tomato_sauce\", \"top\", \"touch\", \"tourist\", \"towel\", \"town\", \"travel\", \"tree\", \"trip\", \"trip_advisor\", \"turkey\", \"twist\", \"type\", \"u\", \"u_table\", \"use\", \"value\", \"value_money\", \"variety\", \"veg\", \"vegan\", \"vegan_option\", \"veggie\", \"venue\", \"vibe\", \"view\", \"view_river\", \"view_sea\", \"vinegar\", \"visit\", \"visitor\", \"voucher\", \"wait\", \"wait_food\", \"waiter\", \"waiter_waitress\", \"waitress\", \"walk\", \"wall\", \"warm\", \"warmth\", \"waste\", \"water\", \"way\", \"weather\", \"wedding\", \"wednesday\", \"week\", \"weekend\", \"wet\", \"whilst\", \"wife\", \"wife_birthday\", \"window\", \"wine\", \"wise\", \"woman\", \"word\", \"work\", \"world\", \"wrap\", \"year\", \"yes\", \"yoghurt\", \"yorkshire\", \"yummy\"]}, \"R\": 30, \"lambda.step\": 0.01, \"plot.opts\": {\"xlab\": \"PC1\", \"ylab\": \"PC2\"}, \"topic.order\": [1, 2, 3, 4, 5, 6, 7, 8, 9, 10, 11, 12, 13, 14, 15, 16, 17, 18, 19, 20]};\n",
       "\n",
       "function LDAvis_load_lib(url, callback){\n",
       "  var s = document.createElement('script');\n",
       "  s.src = url;\n",
       "  s.async = true;\n",
       "  s.onreadystatechange = s.onload = callback;\n",
       "  s.onerror = function(){console.warn(\"failed to load library \" + url);};\n",
       "  document.getElementsByTagName(\"head\")[0].appendChild(s);\n",
       "}\n",
       "\n",
       "if(typeof(LDAvis) !== \"undefined\"){\n",
       "   // already loaded: just create the visualization\n",
       "   !function(LDAvis){\n",
       "       new LDAvis(\"#\" + \"ldavis_el226842670754727408101000973\", ldavis_el226842670754727408101000973_data);\n",
       "   }(LDAvis);\n",
       "}else if(typeof define === \"function\" && define.amd){\n",
       "   // require.js is available: use it to load d3/LDAvis\n",
       "   require.config({paths: {d3: \"https://d3js.org/d3.v5\"}});\n",
       "   require([\"d3\"], function(d3){\n",
       "      window.d3 = d3;\n",
       "      LDAvis_load_lib(\"https://cdn.jsdelivr.net/gh/bmabey/pyLDAvis@3.3.1/pyLDAvis/js/ldavis.v3.0.0.js\", function(){\n",
       "        new LDAvis(\"#\" + \"ldavis_el226842670754727408101000973\", ldavis_el226842670754727408101000973_data);\n",
       "      });\n",
       "    });\n",
       "}else{\n",
       "    // require.js not available: dynamically load d3 & LDAvis\n",
       "    LDAvis_load_lib(\"https://d3js.org/d3.v5.js\", function(){\n",
       "         LDAvis_load_lib(\"https://cdn.jsdelivr.net/gh/bmabey/pyLDAvis@3.3.1/pyLDAvis/js/ldavis.v3.0.0.js\", function(){\n",
       "                 new LDAvis(\"#\" + \"ldavis_el226842670754727408101000973\", ldavis_el226842670754727408101000973_data);\n",
       "            })\n",
       "         });\n",
       "}\n",
       "</script>"
      ],
      "text/plain": [
       "PreparedData(topic_coordinates=              x         y  topics  cluster      Freq\n",
       "topic                                               \n",
       "0      0.061264  0.017071       1        1  4.190508\n",
       "1      0.036245  0.011652       2        1  4.655545\n",
       "2      0.048963  0.014625       3        1  4.415029\n",
       "3      0.079372  0.019865       4        1  3.781338\n",
       "4     -0.014925 -0.004595       5        1  5.701057\n",
       "5      0.053407  0.015586       6        1  4.454536\n",
       "6      0.023778  0.008440       7        1  5.159265\n",
       "7     -0.014668 -0.004489       8        1  5.459519\n",
       "8      0.050619  0.015001       9        1  4.547838\n",
       "9     -0.015362 -0.004777      10        1  5.675588\n",
       "10     0.048576  0.014542      11        1  4.534823\n",
       "11    -0.071681 -0.035983      12        1  5.778343\n",
       "12     0.068956  0.018398      13        1  4.254718\n",
       "13    -0.189797 -0.376118      14        1  6.639565\n",
       "14     0.041727  0.012983      15        1  4.572340\n",
       "15     0.054061  0.015665      16        1  4.328362\n",
       "16     0.018425  0.006888      17        1  5.303623\n",
       "17     0.038132  0.012060      18        1  4.756825\n",
       "18     0.054901  0.015896      19        1  4.256365\n",
       "19    -0.371991  0.227289      20        1  7.534813, topic_info=            Term         Freq        Total Category  logprob  loglift\n",
       "12          food  3157.000000  3157.000000  Default  30.0000  30.0000\n",
       "34       service  1733.000000  1733.000000  Default  29.0000  29.0000\n",
       "0          staff  1436.000000  1436.000000  Default  28.0000  28.0000\n",
       "86         place  1103.000000  1103.000000  Default  27.0000  27.0000\n",
       "64          meal  1108.000000  1108.000000  Default  26.0000  26.0000\n",
       "...          ...          ...          ...      ...      ...      ...\n",
       "278   afterwards     7.561573     8.844990  Topic20  -6.3743   2.4289\n",
       "1008        emma     6.731720     8.015137  Topic20  -6.4906   2.4111\n",
       "543          loo     6.178384     7.461800  Topic20  -6.5764   2.3969\n",
       "1135     lasagne     6.087186     7.370603  Topic20  -6.5912   2.3943\n",
       "677    camembert     5.971039     7.254455  Topic20  -6.6105   2.3909\n",
       "\n",
       "[630 rows x 6 columns], token_table=      Topic      Freq           Term\n",
       "term                                \n",
       "840      15  0.922365    accommodate\n",
       "869      19  0.935749  accommodate_u\n",
       "120      11  0.978398          adult\n",
       "1070      6  0.976711    adult_child\n",
       "135       3  0.987721      afternoon\n",
       "...     ...       ...            ...\n",
       "158      10  0.992289           year\n",
       "428      11  0.945507            yes\n",
       "171       4  0.943355        yoghurt\n",
       "825      15  0.971173      yorkshire\n",
       "535       1  0.971565          yummy\n",
       "\n",
       "[600 rows x 3 columns], R=30, lambda_step=0.01, plot_opts={'xlab': 'PC1', 'ylab': 'PC2'}, topic_order=[1, 2, 3, 4, 5, 6, 7, 8, 9, 10, 11, 12, 13, 14, 15, 16, 17, 18, 19, 20])"
      ]
     },
     "execution_count": 124,
     "metadata": {},
     "output_type": "execute_result"
    }
   ],
   "source": [
    "vis(lda_food[1],food_bow_big,food_dict_big)"
   ]
  },
  {
   "cell_type": "code",
   "execution_count": 125,
   "metadata": {
    "scrolled": true
   },
   "outputs": [
    {
     "data": {
      "text/html": [
       "\n",
       "<link rel=\"stylesheet\" type=\"text/css\" href=\"https://cdn.jsdelivr.net/gh/bmabey/pyLDAvis@3.3.1/pyLDAvis/js/ldavis.v1.0.0.css\">\n",
       "\n",
       "\n",
       "<div id=\"ldavis_el2268426707547276324264831658\"></div>\n",
       "<script type=\"text/javascript\">\n",
       "\n",
       "var ldavis_el2268426707547276324264831658_data = {\"mdsDat\": {\"x\": [-0.033765465568630616, -0.068965733866003, 0.014146689023340648, 0.2794559892034247, -0.17967902694159363, -0.011192451850538025], \"y\": [0.11175456162947903, -0.27822885875646264, -0.03639192649700143, 0.03212611096530618, 0.13037727768041987, 0.04036283497825862], \"topics\": [1, 2, 3, 4, 5, 6], \"cluster\": [1, 1, 1, 1, 1, 1], \"Freq\": [14.654461785139791, 17.21760940358538, 16.14793159048336, 16.769643904217162, 19.413091709167276, 15.797261607407028]}, \"tinfo\": {\"Term\": [\"visit\", \"place\", \"garden\", \"beach\", \"staff\", \"area\", \"walk\", \"park\", \"food\", \"experience\", \"room\", \"family\", \"lot\", \"price\", \"child\", \"machine\", \"town\", \"people\", \"cafe\", \"hour\", \"value\", \"way\", \"course\", \"shop\", \"view\", \"fun\", \"car_park\", \"look\", \"history\", \"trip\", \"place\", \"area\", \"food\", \"child\", \"cafe\", \"view\", \"toilet\", \"value_money\", \"river\", \"whilst\", \"return\", \"section\", \"stall\", \"summer\", \"night\", \"house\", \"colour\", \"round\", \"cost\", \"player\", \"display\", \"tulip_festival\", \"atmosphere\", \"kind\", \"bird_prey\", \"hotel\", \"flower\", \"sunny\", \"travel\", \"coffee\", \"treatment\", \"name\", \"arcade\", \"beach\", \"family\", \"lot\", \"machine\", \"history\", \"money\", \"ticket\", \"play\", \"pool\", \"golf\", \"need\", \"event\", \"payout\", \"martin\", \"game\", \"choice\", \"minute\", \"activity\", \"space\", \"group\", \"son\", \"bottle\", \"entertainment\", \"adult\", \"tour\", \"floor\", \"percentage\", \"effort\", \"artist\", \"bank_holiday\", \"wine\", \"staff\", \"people\", \"hour\", \"trip\", \"thing\", \"bit\", \"range\", \"road\", \"weather\", \"ice_cream\", \"bird\", \"selection\", \"review\", \"ground\", \"photo\", \"lake\", \"bench\", \"lunch\", \"village\", \"weekend\", \"tree\", \"location\", \"gel\", \"taste\", \"home\", \"bow\", \"load\", \"superb\", \"membership\", \"amusement_arcade\", \"water\", \"shop\", \"visit\", \"park\", \"town\", \"value\", \"fun\", \"car_park\", \"look\", \"time\", \"church\", \"street\", \"show\", \"plenty\", \"day\", \"beer\", \"site\", \"drink\", \"seat\", \"car\", \"sea\", \"centre\", \"entrance\", \"use\", \"plant\", \"end\", \"amusement\", \"size\", \"spa\", \"visitor\", \"ruin\", \"helpful\", \"shop\", \"couple\", \"walk\", \"experience\", \"price\", \"way\", \"course\", \"cinema\", \"work\", \"owner\", \"museum\", \"building\", \"age\", \"facility\", \"quality\", \"afternoon\", \"book\", \"school\", \"hand\", \"restaurant\", \"service\", \"idea\", \"screen\", \"team\", \"cathedral\", \"coin\", \"chip\", \"fizz\", \"pleasant\", \"lady\", \"issue\", \"golf_course\", \"side\", \"arcade\", \"garden\", \"room\", \"year\", \"kid\", \"part\", \"dog\", \"information\", \"friend\", \"boat\", \"art\", \"u\", \"meal\", \"sculpture\", \"toy\", \"morning\", \"massage\", \"place_visit\", \"resident\", \"pond\", \"breakfast\", \"tide\", \"prize\", \"interest\", \"variety\", \"access\", \"bedroom\", \"sky\", \"harbour\", \"attraction\", \"country\", \"fruit_machine\"], \"Freq\": [171.0, 133.0, 98.0, 103.0, 93.0, 72.0, 82.0, 70.0, 60.0, 64.0, 51.0, 54.0, 52.0, 56.0, 46.0, 45.0, 44.0, 40.0, 38.0, 39.0, 39.0, 43.0, 43.0, 54.0, 33.0, 35.0, 34.0, 32.0, 32.0, 31.0, 133.042422824772, 71.4837979194384, 59.647487619465416, 46.13634556983478, 37.65886317745289, 33.02989903560626, 23.573011865831635, 22.46426783178808, 21.716753420898524, 16.154431397079236, 15.32189485494264, 15.205858927024455, 14.988479676674755, 14.28232877274888, 14.099138579350948, 13.008760302165731, 12.920155764213616, 12.51296035370437, 11.963893285952649, 11.289850736048066, 10.903281668560528, 10.529989429150772, 9.671155403855451, 9.524591524604961, 8.993672587121786, 8.2118446465077, 8.034257333984305, 7.428687657900587, 7.18188625627079, 6.719216944667655, 12.5193413901712, 8.141505484145569, 10.16785958678216, 103.1729908576986, 53.548747016464795, 52.13928551711267, 44.53836141897128, 32.30844304698654, 29.307292776061296, 27.834370920230466, 27.481968748575564, 24.696921465586616, 22.893437764175356, 20.325504909832564, 17.12842008064823, 16.093267124594217, 16.053751117308444, 15.99261745186567, 15.886742631141596, 14.883243429168822, 13.79484076156344, 13.661781584745636, 13.537410230741626, 12.592839715723807, 12.360598021311626, 12.242898213258565, 12.119389225680685, 11.715188457970465, 11.008042327494735, 10.77247287992614, 10.447037113988126, 9.521618870397027, 9.257404516157402, 23.250302729260888, 93.1336553896461, 40.01678790949776, 38.608590342328746, 30.435614762622812, 28.782022810368495, 28.45785721348322, 27.266827783741775, 25.63489441941368, 25.42444260337686, 23.4151723220413, 23.370964946015064, 23.086638904024962, 19.982834768049216, 19.24144491515654, 14.34489266496776, 14.111410680220049, 13.719217331087506, 13.374917813174065, 13.2291099268551, 12.970390855669416, 12.127372175977486, 12.102750973556374, 12.091784521514796, 11.719986136204916, 11.447196415950152, 10.73380981822634, 10.313785767636551, 10.164283462107258, 9.83957896670723, 9.511880885633298, 12.781010944939311, 12.998694973720083, 171.0691927257151, 69.71141282457137, 43.66063027786756, 38.67232763453287, 34.762284933151626, 33.866449589524564, 32.07976701744591, 25.009725783594188, 24.90194831048972, 24.416386359006232, 23.42458401689432, 22.880046884957288, 20.80054688113286, 19.7621330471398, 19.410290811097536, 18.520891863691745, 18.199292603041002, 16.00460830807334, 15.939551449979534, 15.85358457480707, 15.689934330392834, 14.34170230364691, 13.695004382458126, 13.675049164876029, 13.526159256856161, 13.210510262557897, 12.702237132289055, 11.668359285124692, 11.080922340966383, 11.046237112671717, 41.193174745781604, 11.339278770670779, 81.94658697231469, 63.388938737205685, 55.72066334365685, 42.577459299739004, 42.371270016675574, 31.144373127167672, 26.950766936407785, 24.623308862309205, 23.593256054451437, 22.129882351365662, 21.180926548081683, 20.235519642993445, 19.600273248865246, 18.91780395578345, 16.136999668819954, 15.696437361715912, 15.502311779353855, 15.446007062685306, 15.27452059977879, 14.17453662531563, 13.699314050790838, 13.513429869604575, 12.53460417317306, 11.934630805866313, 11.818527792890478, 11.382723945507532, 11.192239813542368, 10.798033393392659, 10.475444292018683, 10.27135605030316, 19.078738403940687, 26.27783796677307, 98.21796959757913, 51.0685289631396, 29.2491350117348, 27.498807050236557, 26.928414150290173, 21.640131816126154, 17.40485589187985, 16.991046187778515, 15.135864273308488, 14.982948074464765, 13.772561182526786, 12.878921977508949, 12.20843893112957, 12.195930800895352, 12.190482245860807, 11.796314695196688, 11.44152234722503, 11.475790936293594, 11.282123112370229, 11.254583410858627, 10.697366941827532, 10.064487928200878, 10.015646575317321, 10.004079433218243, 9.06681716094574, 9.060845738538957, 8.924290786939105, 8.932096573521008, 8.676121830530045, 8.38078833266131, 21.710845299849055], \"Total\": [171.0, 133.0, 98.0, 103.0, 93.0, 72.0, 82.0, 70.0, 60.0, 64.0, 51.0, 54.0, 52.0, 56.0, 46.0, 45.0, 44.0, 40.0, 38.0, 39.0, 39.0, 43.0, 43.0, 54.0, 33.0, 35.0, 34.0, 32.0, 32.0, 31.0, 133.69848037938075, 72.1401947271959, 60.30395146376349, 46.79277125462151, 38.3152331729437, 33.685813301932804, 24.229413773150654, 23.11985272763171, 22.373350732578615, 16.81172250639046, 15.979409782467979, 15.86416286164116, 15.645062056135071, 14.939372102469186, 14.75601305755782, 13.665274405650743, 13.576454373036578, 13.169430471592628, 12.620649590956665, 11.946394498157499, 11.559520225087951, 11.186152155155556, 10.327003184210087, 10.18103183607272, 9.65008363654587, 8.868333256655303, 8.69064625582781, 8.08491165993516, 7.839646622081773, 7.375054468524776, 20.269925557224333, 12.162597118653498, 36.97407446096747, 103.82787243094616, 54.20278789254761, 52.794501274706526, 45.194569417145864, 32.96266477613286, 29.961474640301788, 28.48888842486559, 28.136334738399405, 25.35187023940693, 23.547595756743586, 20.98007649401347, 17.782620757560863, 16.747829804125235, 16.70892611233659, 16.64671586864422, 16.540815826604113, 15.537758857124022, 14.448911094213248, 14.316145848824629, 14.19203602039971, 13.247224203979558, 13.013974677888699, 12.896896531904549, 12.775061458880387, 12.3690770941049, 11.663524201958689, 11.42619605224243, 11.101535195041413, 10.177294685142252, 9.911277765676202, 29.722379821724818, 93.78579837295038, 40.66911126340002, 39.26091364159039, 31.087745195354607, 29.434023011905225, 29.110238472933055, 27.9191505936118, 26.287909591138984, 26.07725972780936, 24.067137901005115, 24.023417325365003, 23.738706309460536, 20.63470947963677, 19.89330666481733, 14.997263825150103, 14.763282970274764, 14.37210966739756, 14.027175785445241, 13.881028486023887, 13.622923435067712, 12.779873283123466, 12.756656508649977, 12.745282613683598, 12.372945013220063, 12.099461135556679, 11.386923878821719, 10.96713675358584, 10.81679400621963, 10.492531685662943, 10.164332942157682, 18.087194091498056, 54.711108281021865, 171.71946243517948, 70.36221208915023, 44.3107276968113, 39.323236265351234, 35.41281169256998, 34.516646891874785, 32.730688319809154, 25.660074404084085, 25.552255981997483, 25.0667368083453, 24.075094855322874, 23.53124181553216, 21.4506078174156, 20.411838151958445, 20.060698943567232, 19.171300785529848, 18.849991494965803, 16.658427661222337, 16.590994295834122, 16.50518584789489, 16.34012699240657, 14.992700235650751, 14.346339364708632, 14.32588058003386, 14.178310216726555, 13.86113887843832, 13.352536393228512, 12.319665785727452, 11.730914994282875, 11.697575914946173, 54.711108281021865, 17.191171910235596, 82.60177034543975, 64.0440212553396, 56.37640384315265, 43.23370811635415, 43.02756029224654, 31.799581685771262, 27.60718083862657, 25.279069738490897, 24.248411619532963, 22.784724619458533, 21.836389235717952, 20.891041740683796, 20.25609791953634, 19.574211583712568, 16.792737994936786, 16.352340546822738, 16.157861655259453, 16.102291163686694, 15.92981692728548, 14.83008980174564, 14.354634013086963, 14.17015134762254, 13.18953131399386, 12.59102738803193, 12.475219501358332, 12.037966680048171, 11.848097191208126, 11.453155582817304, 11.131967804957142, 10.92735087402351, 24.098694167779904, 36.97407446096747, 98.87045513477301, 51.72112109389818, 29.901799277950712, 28.15110434841585, 27.580811894674348, 22.29326394748108, 18.057252376188014, 17.643506553159256, 15.788397771552475, 15.635514402018293, 14.424925669815531, 13.531623048430452, 12.860318302888263, 12.848619455745432, 12.843235839221595, 12.449452228204763, 12.093709815994986, 12.132267311490294, 11.934420712001003, 11.910599159670937, 11.350414024646472, 10.717501640758828, 10.669007080897455, 10.65771654339157, 9.719383776574631, 9.713638927318534, 9.578021017328716, 9.586557447867193, 9.328430121237455, 9.033242093135794, 25.088823506580162], \"Category\": [\"Default\", \"Default\", \"Default\", \"Default\", \"Default\", \"Default\", \"Default\", \"Default\", \"Default\", \"Default\", \"Default\", \"Default\", \"Default\", \"Default\", \"Default\", \"Default\", \"Default\", \"Default\", \"Default\", \"Default\", \"Default\", \"Default\", \"Default\", \"Default\", \"Default\", \"Default\", \"Default\", \"Default\", \"Default\", \"Default\", \"Topic1\", \"Topic1\", \"Topic1\", \"Topic1\", \"Topic1\", \"Topic1\", \"Topic1\", \"Topic1\", \"Topic1\", \"Topic1\", \"Topic1\", \"Topic1\", \"Topic1\", \"Topic1\", \"Topic1\", \"Topic1\", \"Topic1\", \"Topic1\", \"Topic1\", \"Topic1\", \"Topic1\", \"Topic1\", \"Topic1\", \"Topic1\", \"Topic1\", \"Topic1\", \"Topic1\", \"Topic1\", \"Topic1\", \"Topic1\", \"Topic1\", \"Topic1\", \"Topic1\", \"Topic2\", \"Topic2\", \"Topic2\", \"Topic2\", \"Topic2\", \"Topic2\", \"Topic2\", \"Topic2\", \"Topic2\", \"Topic2\", \"Topic2\", \"Topic2\", \"Topic2\", \"Topic2\", \"Topic2\", \"Topic2\", \"Topic2\", \"Topic2\", \"Topic2\", \"Topic2\", \"Topic2\", \"Topic2\", \"Topic2\", \"Topic2\", \"Topic2\", \"Topic2\", \"Topic2\", \"Topic2\", \"Topic2\", \"Topic2\", \"Topic2\", \"Topic3\", \"Topic3\", \"Topic3\", \"Topic3\", \"Topic3\", \"Topic3\", \"Topic3\", \"Topic3\", \"Topic3\", \"Topic3\", \"Topic3\", \"Topic3\", \"Topic3\", \"Topic3\", \"Topic3\", \"Topic3\", \"Topic3\", \"Topic3\", \"Topic3\", \"Topic3\", \"Topic3\", \"Topic3\", \"Topic3\", \"Topic3\", \"Topic3\", \"Topic3\", \"Topic3\", \"Topic3\", \"Topic3\", \"Topic3\", \"Topic3\", \"Topic3\", \"Topic4\", \"Topic4\", \"Topic4\", \"Topic4\", \"Topic4\", \"Topic4\", \"Topic4\", \"Topic4\", \"Topic4\", \"Topic4\", \"Topic4\", \"Topic4\", \"Topic4\", \"Topic4\", \"Topic4\", \"Topic4\", \"Topic4\", \"Topic4\", \"Topic4\", \"Topic4\", \"Topic4\", \"Topic4\", \"Topic4\", \"Topic4\", \"Topic4\", \"Topic4\", \"Topic4\", \"Topic4\", \"Topic4\", \"Topic4\", \"Topic4\", \"Topic4\", \"Topic5\", \"Topic5\", \"Topic5\", \"Topic5\", \"Topic5\", \"Topic5\", \"Topic5\", \"Topic5\", \"Topic5\", \"Topic5\", \"Topic5\", \"Topic5\", \"Topic5\", \"Topic5\", \"Topic5\", \"Topic5\", \"Topic5\", \"Topic5\", \"Topic5\", \"Topic5\", \"Topic5\", \"Topic5\", \"Topic5\", \"Topic5\", \"Topic5\", \"Topic5\", \"Topic5\", \"Topic5\", \"Topic5\", \"Topic5\", \"Topic5\", \"Topic5\", \"Topic6\", \"Topic6\", \"Topic6\", \"Topic6\", \"Topic6\", \"Topic6\", \"Topic6\", \"Topic6\", \"Topic6\", \"Topic6\", \"Topic6\", \"Topic6\", \"Topic6\", \"Topic6\", \"Topic6\", \"Topic6\", \"Topic6\", \"Topic6\", \"Topic6\", \"Topic6\", \"Topic6\", \"Topic6\", \"Topic6\", \"Topic6\", \"Topic6\", \"Topic6\", \"Topic6\", \"Topic6\", \"Topic6\", \"Topic6\", \"Topic6\"], \"logprob\": [30.0, 29.0, 28.0, 27.0, 26.0, 25.0, 24.0, 23.0, 22.0, 21.0, 20.0, 19.0, 18.0, 17.0, 16.0, 15.0, 14.0, 13.0, 12.0, 11.0, 10.0, 9.0, 8.0, 7.0, 6.0, 5.0, 4.0, 3.0, 2.0, 1.0, -2.562, -3.1832, -3.3643, -3.6211, -3.8241, -3.9553, -4.2926, -4.3408, -4.3746, -4.6705, -4.7234, -4.731, -4.7454, -4.7937, -4.8066, -4.8871, -4.8939, -4.9259, -4.9708, -5.0288, -5.0637, -5.0985, -5.1836, -5.1988, -5.2562, -5.3471, -5.369, -5.4474, -5.4812, -5.5477, -4.9254, -5.3557, -5.1335, -2.9775, -3.6333, -3.66, -3.8176, -4.1386, -4.2361, -4.2876, -4.3004, -4.4072, -4.4831, -4.602, -4.7732, -4.8355, -4.838, -4.8418, -4.8484, -4.9137, -4.9896, -4.9993, -5.0084, -5.0808, -5.0994, -5.109, -5.1191, -5.153, -5.2153, -5.2369, -5.2676, -5.3603, -5.3885, -4.4676, -3.0157, -3.8605, -3.8963, -4.1341, -4.19, -4.2013, -4.2441, -4.3058, -4.3141, -4.3964, -4.3983, -4.4105, -4.5549, -4.5927, -4.8864, -4.9028, -4.931, -4.9564, -4.9673, -4.9871, -5.0543, -5.0563, -5.0572, -5.0885, -5.112, -5.1764, -5.2163, -5.2309, -5.2633, -5.2972, -5.0018, -4.9849, -2.4455, -3.3432, -3.8111, -3.9324, -4.039, -4.0651, -4.1193, -4.3683, -4.3726, -4.3923, -4.4338, -4.4573, -4.5526, -4.6038, -4.6217, -4.6686, -4.6862, -4.8147, -4.8187, -4.8241, -4.8345, -4.9244, -4.9705, -4.972, -4.9829, -5.0065, -5.0458, -5.1307, -5.1823, -5.1854, -3.8693, -5.1593, -3.3278, -3.5846, -3.7136, -3.9826, -3.9874, -4.2953, -4.4399, -4.5302, -4.573, -4.637, -4.6808, -4.7265, -4.7584, -4.7938, -4.9528, -4.9805, -4.9929, -4.9966, -5.0077, -5.0825, -5.1166, -5.1302, -5.2054, -5.2545, -5.2642, -5.3018, -5.3187, -5.3546, -5.3849, -5.4046, -4.7853, -4.4652, -2.9406, -3.5946, -4.152, -4.2137, -4.2346, -4.4533, -4.6711, -4.6951, -4.8107, -4.8209, -4.9051, -4.9722, -5.0257, -5.0267, -5.0272, -5.06, -5.0906, -5.0876, -5.1046, -5.107, -5.1578, -5.2188, -5.2237, -5.2248, -5.3232, -5.3238, -5.339, -5.3382, -5.3672, -5.4019, -4.45], \"loglift\": [30.0, 29.0, 28.0, 27.0, 26.0, 25.0, 24.0, 23.0, 22.0, 21.0, 20.0, 19.0, 18.0, 17.0, 16.0, 15.0, 14.0, 13.0, 12.0, 11.0, 10.0, 9.0, 8.0, 7.0, 6.0, 5.0, 4.0, 3.0, 2.0, 1.0, 1.9155, 1.9113, 1.9095, 1.9063, 1.9031, 1.9008, 1.893, 1.8917, 1.8906, 1.8805, 1.8784, 1.878, 1.8776, 1.8754, 1.8749, 1.8712, 1.8709, 1.8693, 1.867, 1.8639, 1.862, 1.86, 1.8548, 1.8538, 1.85, 1.8435, 1.8419, 1.8358, 1.8328, 1.8273, 1.4386, 1.519, 0.6294, 1.7529, 1.7471, 1.7467, 1.7446, 1.7392, 1.7372, 1.736, 1.7357, 1.7331, 1.7311, 1.7275, 1.7218, 1.7194, 1.7192, 1.7192, 1.7189, 1.7162, 1.7129, 1.7125, 1.712, 1.7086, 1.7077, 1.7072, 1.7065, 1.7049, 1.7014, 1.7003, 1.6985, 1.6926, 1.691, 1.5137, 1.8164, 1.8072, 1.8066, 1.8022, 1.801, 1.8007, 1.7997, 1.7982, 1.798, 1.7959, 1.7958, 1.7955, 1.7913, 1.7901, 1.7789, 1.7782, 1.7769, 1.7758, 1.7753, 1.7743, 1.771, 1.7708, 1.7707, 1.7692, 1.768, 1.7643, 1.762, 1.7612, 1.7591, 1.757, 1.4761, 0.3862, 1.7818, 1.7763, 1.7708, 1.7689, 1.7671, 1.7666, 1.7655, 1.7599, 1.7598, 1.7593, 1.7582, 1.7575, 1.7548, 1.7533, 1.7526, 1.7511, 1.7505, 1.7456, 1.7455, 1.7453, 1.745, 1.7412, 1.7391, 1.7391, 1.7385, 1.7375, 1.7357, 1.7313, 1.7286, 1.7283, 1.5018, 1.3695, 1.6313, 1.6289, 1.6275, 1.6239, 1.6239, 1.6184, 1.6152, 1.6129, 1.6118, 1.6101, 1.6087, 1.6073, 1.6063, 1.6051, 1.5994, 1.5983, 1.5978, 1.5976, 1.5972, 1.594, 1.5925, 1.5918, 1.5883, 1.5857, 1.5851, 1.5833, 1.5823, 1.5803, 1.5784, 1.5773, 1.4056, 1.2977, 1.8387, 1.8326, 1.8233, 1.8219, 1.8214, 1.8156, 1.8085, 1.8077, 1.8031, 1.8027, 1.7991, 1.7959, 1.7933, 1.7932, 1.7932, 1.7914, 1.7899, 1.7897, 1.7891, 1.7887, 1.7861, 1.7825, 1.7821, 1.782, 1.7758, 1.7758, 1.7746, 1.7746, 1.7728, 1.7704, 1.7007]}, \"token.table\": {\"Topic\": [6, 2, 2, 5, 5, 4, 3, 1, 5, 1, 6, 2, 1, 6, 2, 2, 6, 4, 3, 3, 1, 3, 6, 5, 2, 3, 6, 5, 1, 4, 4, 5, 4, 1, 5, 2, 4, 5, 1, 5, 1, 1, 6, 2, 4, 5, 4, 1, 6, 4, 2, 4, 2, 4, 2, 5, 5, 2, 5, 2, 1, 1, 6, 4, 6, 4, 2, 6, 3, 2, 5, 3, 2, 5, 6, 4, 2, 3, 1, 3, 1, 3, 5, 6, 6, 5, 6, 1, 5, 3, 3, 3, 4, 2, 3, 2, 2, 6, 6, 3, 2, 2, 6, 5, 1, 2, 2, 1, 5, 4, 6, 2, 3, 2, 3, 1, 6, 4, 2, 1, 5, 4, 6, 2, 5, 6, 5, 3, 6, 5, 1, 3, 1, 3, 6, 1, 4, 5, 5, 6, 4, 4, 1, 3, 5, 3, 4, 4, 2, 5, 4, 4, 6, 2, 4, 2, 3, 1, 4, 1, 1, 3, 3, 5, 3, 2, 6, 4, 1, 2, 4, 6, 1, 1, 4, 3, 3, 1, 6, 4, 4, 1, 6, 1, 3, 4, 4, 5, 2, 3, 5, 3, 3, 1, 2, 5, 5, 6], \"Freq\": [0.9259846310104074, 0.9689311470403444, 0.9393301189684989, 0.9706648933850106, 0.9616974570892031, 0.9874237328707763, 0.9838323928296275, 0.27045977879870203, 0.7031954248766252, 0.9841947373235178, 0.9593544295583739, 0.9825793896485003, 0.9683351328185826, 0.9647925624173634, 0.9080564799795994, 0.9920264914269841, 0.9265322776913703, 0.9798235637137398, 0.9741089042590823, 0.9573991779976934, 0.9326344039046526, 0.9618608939268786, 0.9500647384896136, 0.95279280870244, 0.9220857037925941, 0.966020333240187, 0.9235471576648966, 0.9655591791182604, 0.9917726411445591, 0.960474801427086, 0.9850319501342871, 0.9856301706647627, 0.9693922956972143, 0.98305782638289, 0.9619069226552215, 0.9673041624866974, 0.9783871928026016, 0.9748555910680726, 0.949145532399058, 0.9530596376437307, 0.9575401384487071, 0.9508226905054561, 0.8856178011745155, 0.29084695482703005, 0.6398633006194661, 0.9761185555195956, 0.9789932378023454, 0.9515965875578808, 0.9868451767236975, 0.9910647280825544, 0.9007763182579089, 0.9772523177047808, 0.930456406338859, 0.9791845563645477, 0.9559895716030435, 0.9836983806626203, 0.9573481422446944, 0.9962587184085508, 0.9137755812392714, 0.9431111737353568, 0.9205299312045208, 0.9949596758357346, 0.9635272868678121, 0.11957515661159544, 0.8768844818183665, 0.9883428716094691, 0.9611505432214186, 0.9911960035625762, 0.9415248263790207, 0.9767451521420498, 0.915134886331141, 0.9550951141573057, 0.9864687476748455, 0.9902300404207219, 0.9388145900072096, 0.9403657715052852, 0.9707952987820968, 0.9091313965771837, 0.9020860818459143, 0.993354366534303, 0.951316425422409, 0.9556599581805467, 0.9440266503546101, 0.941449986179392, 0.9372943446541251, 0.8983137730192617, 0.9591097978193305, 0.982218714273017, 0.9604339974655408, 0.9482985612474135, 0.9118150183301377, 0.9406853584137108, 0.977675742328739, 0.9849510601383943, 0.9267724450626013, 0.9956948496322647, 0.9575720122543857, 0.9638978310076559, 0.960712543755635, 0.9530588326613356, 0.9653901915926916, 0.9679096355621799, 0.9343439729848718, 0.9897555508612013, 0.6577542544536464, 0.24665784542011743, 0.953285370799619, 0.9487657638544444, 0.9889604427149479, 0.9948521787704556, 0.9789414504224041, 0.9553476591969525, 0.9835474333563275, 0.9627000928135845, 0.9335036152742934, 0.99477570442537, 0.9095637457293329, 0.975858694270079, 0.9596132634557912, 0.9207799057444936, 0.9284191227062641, 0.9774239787387037, 0.9217037228240689, 0.9861205411638632, 0.9933233796855886, 0.9330532744655566, 0.9873569963695059, 0.9670781318890801, 0.9066730659307235, 0.931544452122904, 0.938708012636202, 0.9692406873834047, 0.9833127037142914, 0.9890478324211815, 0.9860575123151526, 0.9871345634909496, 0.9376932664980446, 0.9784532039426492, 0.9752948063486921, 0.9331028764120833, 0.9643786089431351, 0.9549075926536728, 0.9455273581607847, 0.9688817789886831, 0.9416304072087083, 0.2376117100978089, 0.7493907780007819, 0.9553441071869682, 0.1659840974017598, 0.788424462658359, 0.9471255240631902, 0.937873872703356, 0.9396513104029579, 0.9813376598619589, 0.9735977957410927, 0.9779168323539688, 0.991621350070236, 0.9587689678813313, 0.9574441293854349, 0.9371210452470137, 0.8658103260037523, 0.9244883460154667, 0.9698580238721191, 0.9879922702694994, 0.9852543768233899, 0.9828393295809015, 0.9691276438123246, 0.9742762084906883, 0.9905316003392177, 0.9701613069999537, 0.9929875289131471, 0.9339524795898628, 0.8928973890587418, 0.6413442399331711, 0.3453392061178614, 0.9389764463350875, 0.9650104827957369, 0.9833586963082958, 0.9705422627788858, 0.9337877620410074, 0.9917800187357406, 0.9515631547992813, 0.9382872925252085, 0.979640886334383, 0.9365300282388334, 0.9958102452396678, 0.9740523979069473, 0.9927148008702096, 0.2764386767071995, 0.7187405594387187, 0.9945943078552232, 0.9586896882934158, 0.9542738797559266, 0.9517168745747553, 0.7738276725468912, 0.20186808849049337, 0.9780064164401375, 0.969841303877132], \"Term\": [\"access\", \"activity\", \"adult\", \"afternoon\", \"age\", \"amusement\", \"amusement_arcade\", \"arcade\", \"arcade\", \"area\", \"art\", \"artist\", \"atmosphere\", \"attraction\", \"bank_holiday\", \"beach\", \"bedroom\", \"beer\", \"bench\", \"bird\", \"bird_prey\", \"bit\", \"boat\", \"book\", \"bottle\", \"bow\", \"breakfast\", \"building\", \"cafe\", \"car\", \"car_park\", \"cathedral\", \"centre\", \"child\", \"chip\", \"choice\", \"church\", \"cinema\", \"coffee\", \"coin\", \"colour\", \"cost\", \"country\", \"couple\", \"couple\", \"course\", \"day\", \"display\", \"dog\", \"drink\", \"effort\", \"end\", \"entertainment\", \"entrance\", \"event\", \"experience\", \"facility\", \"family\", \"fizz\", \"floor\", \"flower\", \"food\", \"friend\", \"fruit_machine\", \"fruit_machine\", \"fun\", \"game\", \"garden\", \"gel\", \"golf\", \"golf_course\", \"ground\", \"group\", \"hand\", \"harbour\", \"helpful\", \"history\", \"home\", \"hotel\", \"hour\", \"house\", \"ice_cream\", \"idea\", \"information\", \"interest\", \"issue\", \"kid\", \"kind\", \"lady\", \"lake\", \"load\", \"location\", \"look\", \"lot\", \"lunch\", \"machine\", \"martin\", \"massage\", \"meal\", \"membership\", \"minute\", \"money\", \"morning\", \"museum\", \"name\", \"name\", \"need\", \"night\", \"owner\", \"park\", \"part\", \"payout\", \"people\", \"percentage\", \"photo\", \"place\", \"place_visit\", \"plant\", \"play\", \"player\", \"pleasant\", \"plenty\", \"pond\", \"pool\", \"price\", \"prize\", \"quality\", \"range\", \"resident\", \"restaurant\", \"return\", \"review\", \"river\", \"road\", \"room\", \"round\", \"ruin\", \"school\", \"screen\", \"sculpture\", \"sea\", \"seat\", \"section\", \"selection\", \"service\", \"shop\", \"shop\", \"show\", \"side\", \"side\", \"site\", \"size\", \"sky\", \"son\", \"spa\", \"space\", \"staff\", \"stall\", \"street\", \"summer\", \"sunny\", \"superb\", \"taste\", \"team\", \"thing\", \"ticket\", \"tide\", \"time\", \"toilet\", \"tour\", \"town\", \"toy\", \"travel\", \"treatment\", \"treatment\", \"tree\", \"trip\", \"tulip_festival\", \"u\", \"use\", \"value\", \"value_money\", \"variety\", \"view\", \"village\", \"visit\", \"visitor\", \"walk\", \"water\", \"water\", \"way\", \"weather\", \"weekend\", \"whilst\", \"wine\", \"wine\", \"work\", \"year\"]}, \"R\": 30, \"lambda.step\": 0.01, \"plot.opts\": {\"xlab\": \"PC1\", \"ylab\": \"PC2\"}, \"topic.order\": [1, 2, 3, 4, 5, 6]};\n",
       "\n",
       "function LDAvis_load_lib(url, callback){\n",
       "  var s = document.createElement('script');\n",
       "  s.src = url;\n",
       "  s.async = true;\n",
       "  s.onreadystatechange = s.onload = callback;\n",
       "  s.onerror = function(){console.warn(\"failed to load library \" + url);};\n",
       "  document.getElementsByTagName(\"head\")[0].appendChild(s);\n",
       "}\n",
       "\n",
       "if(typeof(LDAvis) !== \"undefined\"){\n",
       "   // already loaded: just create the visualization\n",
       "   !function(LDAvis){\n",
       "       new LDAvis(\"#\" + \"ldavis_el2268426707547276324264831658\", ldavis_el2268426707547276324264831658_data);\n",
       "   }(LDAvis);\n",
       "}else if(typeof define === \"function\" && define.amd){\n",
       "   // require.js is available: use it to load d3/LDAvis\n",
       "   require.config({paths: {d3: \"https://d3js.org/d3.v5\"}});\n",
       "   require([\"d3\"], function(d3){\n",
       "      window.d3 = d3;\n",
       "      LDAvis_load_lib(\"https://cdn.jsdelivr.net/gh/bmabey/pyLDAvis@3.3.1/pyLDAvis/js/ldavis.v3.0.0.js\", function(){\n",
       "        new LDAvis(\"#\" + \"ldavis_el2268426707547276324264831658\", ldavis_el2268426707547276324264831658_data);\n",
       "      });\n",
       "    });\n",
       "}else{\n",
       "    // require.js not available: dynamically load d3 & LDAvis\n",
       "    LDAvis_load_lib(\"https://d3js.org/d3.v5.js\", function(){\n",
       "         LDAvis_load_lib(\"https://cdn.jsdelivr.net/gh/bmabey/pyLDAvis@3.3.1/pyLDAvis/js/ldavis.v3.0.0.js\", function(){\n",
       "                 new LDAvis(\"#\" + \"ldavis_el2268426707547276324264831658\", ldavis_el2268426707547276324264831658_data);\n",
       "            })\n",
       "         });\n",
       "}\n",
       "</script>"
      ],
      "text/plain": [
       "PreparedData(topic_coordinates=              x         y  topics  cluster       Freq\n",
       "topic                                                \n",
       "0     -0.033765  0.111755       1        1  14.654462\n",
       "1     -0.068966 -0.278229       2        1  17.217609\n",
       "2      0.014147 -0.036392       3        1  16.147932\n",
       "3      0.279456  0.032126       4        1  16.769644\n",
       "4     -0.179679  0.130377       5        1  19.413092\n",
       "5     -0.011192  0.040363       6        1  15.797262, topic_info=               Term        Freq       Total Category  logprob  loglift\n",
       "3             visit  171.000000  171.000000  Default  30.0000  30.0000\n",
       "109           place  133.000000  133.000000  Default  29.0000  29.0000\n",
       "0            garden   98.000000   98.000000  Default  28.0000  28.0000\n",
       "1545          beach  103.000000  103.000000  Default  27.0000  27.0000\n",
       "68            staff   93.000000   93.000000  Default  26.0000  26.0000\n",
       "...             ...         ...         ...      ...      ...      ...\n",
       "198             sky    8.924291    9.578021   Topic6  -5.3390   1.7746\n",
       "2371        harbour    8.932097    9.586557   Topic6  -5.3382   1.7746\n",
       "74       attraction    8.676122    9.328430   Topic6  -5.3672   1.7728\n",
       "1001        country    8.380788    9.033242   Topic6  -5.4019   1.7704\n",
       "2835  fruit_machine   21.710845   25.088824   Topic6  -4.4500   1.7007\n",
       "\n",
       "[221 rows x 6 columns], token_table=      Topic      Freq       Term\n",
       "term                            \n",
       "142       6  0.925985     access\n",
       "814       2  0.968931   activity\n",
       "403       2  0.939330      adult\n",
       "63        5  0.970665  afternoon\n",
       "155       5  0.961697        age\n",
       "...     ...       ...        ...\n",
       "923       1  0.951717     whilst\n",
       "1376      2  0.773828       wine\n",
       "1376      5  0.201868       wine\n",
       "114       5  0.978006       work\n",
       "37        6  0.969841       year\n",
       "\n",
       "[198 rows x 3 columns], R=30, lambda_step=0.01, plot_opts={'xlab': 'PC1', 'ylab': 'PC2'}, topic_order=[1, 2, 3, 4, 5, 6])"
      ]
     },
     "execution_count": 125,
     "metadata": {},
     "output_type": "execute_result"
    }
   ],
   "source": [
    "vis(lda_attract[1],attract_bow_big,attract_dict_big)"
   ]
  },
  {
   "cell_type": "markdown",
   "metadata": {},
   "source": [
    "Analysis\n",
    "* Using the most coherent topics in the LDA model the visualisation shows that many of the topics for accommodation and food are overlapping, indicating that the model is not performing well."
   ]
  },
  {
   "cell_type": "markdown",
   "metadata": {},
   "source": [
    "# Section 6: SciKit Learn NMF Model"
   ]
  },
  {
   "cell_type": "markdown",
   "metadata": {},
   "source": [
    "The scikit learn is a different implementation of NMF and is easier to interpret.\n",
    "\n",
    "There are no scores available for nmf through sklearn implementation, so the models are run with different topic numbers and the results assessed manually.The initial scores are taken from the Gensim LDA model above as a starting point. As the models run very quickly, this can easily be repeated until a satisfactory set of results is derived. The Scikit learn implementation is used as it accepts tf-idf weights as well as term frequencies, whereas Gensim uses just term frequencies. TFIDF is used by most as it usually returns the best results since it weights rare words higher and frequent words throughout the corpus lower. However with these very short texts of just a few nouns (ie very processed and cleaned dataset) and adjustments using the vectorizer function, the countvectorizer model may work a little better, so both are used and compared. "
   ]
  },
  {
   "cell_type": "markdown",
   "metadata": {},
   "source": [
    "## Set up countvectorizer and tf-idf vectorizer models"
   ]
  },
  {
   "cell_type": "code",
   "execution_count": 345,
   "metadata": {
    "scrolled": true
   },
   "outputs": [],
   "source": [
    "#Convert list of strings to a string for training set\n",
    "accom_joined = accom_nouns.apply(lambda x:' '.join(x))\n",
    "food_joined = food_nouns.apply(lambda x:' '.join(x))\n",
    "attract_joined = attract_nouns.apply(lambda x:' '.join(x))\n",
    "\n",
    "# Test set\n",
    "accom_nouns_joined_test = accom_nouns_test.apply(lambda x:' '.join(x))\n",
    "food_nouns_joined_test = food_nouns_test.apply(lambda x: ' '.join(x))\n",
    "attract_nouns_joined_test = attract_nouns_test.apply(lambda x:' '.join(x))"
   ]
  },
  {
   "cell_type": "code",
   "execution_count": 317,
   "metadata": {
    "scrolled": true
   },
   "outputs": [],
   "source": [
    "# add some words to remove that do not add useful information\n",
    "sw_accom = [\"le\",\"hour\",\"place\",\"lot\",\"bit\",\"get\",\"side\",\"night\",\"stay\",\"week\",\"hour\",\"day\",\"home\",\"weekend\",\"avisford\"\n",
    "            \"people\",\"area\",\"holiday\",\"chip\",\"kid\",\"breakfast\",\"pub\",\"dinner\",\"lunch\",\"evening\",\"child\",\"adult\",\"people\",\"avisford\"]\n",
    "sw_food = [\"restaurant\",\"chip\",\"review\",\"time\",\"sunday\",\"thing\",\"roast\",\"family\",\"lunch\",\"pub\",\"dinner\",\"breakfast\",\"birthday\",\"evening\",\"place\",\n",
    "          \"friend\",\"night\",\"group\"]\n",
    "sw_attract = [\"lot\",\"room\"]"
   ]
  },
  {
   "cell_type": "code",
   "execution_count": 318,
   "metadata": {
    "scrolled": true
   },
   "outputs": [],
   "source": [
    "# Function to transform to bow and tfidf models - Maximum features in the dictionary to be 1000, exclude words occurring in less # than 2 documents \n",
    "# and in more than 95% of documents and to include unigrams,bigrams and trigrams. \n",
    "\n",
    "def transform(df,sw):\n",
    "            \n",
    "    countvectorizer = CountVectorizer(stop_words = sw,max_features = 1500,max_df = 0.95, min_df = 3,ngram_range=(1,3))\n",
    "    tf_idf_vectorizer = TfidfVectorizer(stop_words = sw,max_features = 1500,max_df = 0.95,min_df = 2,ngram_range=(1, 3))\n",
    "    vector1 = countvectorizer.fit_transform(df)\n",
    "    vector2 = tf_idf_vectorizer.fit_transform(df)\n",
    "    \n",
    "    \n",
    "    return countvectorizer,tf_idf_vectorizer,vector1,vector2"
   ]
  },
  {
   "cell_type": "code",
   "execution_count": 319,
   "metadata": {
    "scrolled": true
   },
   "outputs": [],
   "source": [
    "# Create vectorizer and tfidf vectorizer objects \n",
    "cv_accom,tfidf_accom,vec1_accom,vec2_accom = transform(accom_joined,sw_accom)\n",
    "cv_food,tfidf_food,vec1_food,vec2_food = transform(food_joined,sw_food)\n",
    "cv_attract,tfidf_attract,vec1_attract,vec2_attract = transform(attract_joined,sw_attract)"
   ]
  },
  {
   "cell_type": "markdown",
   "metadata": {},
   "source": [
    "## Fit NMF Model"
   ]
  },
  {
   "cell_type": "code",
   "execution_count": 273,
   "metadata": {
    "scrolled": true
   },
   "outputs": [],
   "source": [
    "# NMF function - alpha set to 1.0 for regularization and max_iter to 1000 rather than default of 200, as topics are fuzzy. \n",
    "# The model is initialised with Nonnegative Double Singular Value Decomposition (NNDSVD) initialization (better for sparse data) to help convergence. \n",
    "# Alpha controls the amount of regularisation to prevent overfitting. The solver used is the default coordinate descent and the optimizer is '\n",
    "# 'frobenius'(square root of the absolute sum of squares of the elements) and also the default. The maximum iterations is the number before timing out. \n",
    "# Shuffle is set to True to shuffle the coordinates in the solver.\n",
    "\n",
    "# Define and fit model\n",
    "def nmf(vector,num_topics,vectorizer):\n",
    "    nmf_model = NMF(n_components = num_topics, \n",
    "                    init = 'nndsvd',\n",
    "                    alpha = 1,\n",
    "                    solver=\"cd\",\n",
    "                    beta_loss='frobenius',\n",
    "                    max_iter = 1000,\n",
    "                    shuffle=True,\n",
    "                    random_state = 0)\n",
    "    \n",
    "    W = nmf_model.fit_transform(vector) # each column represents the weight of each word in a doc (w)\n",
    "    H = nmf_model.components_  # each row represents a word embedding (h) and is a weighting\n",
    "\n",
    "        \n",
    "    # Extract topics,features and weights\n",
    "    feature_names = np.array(vectorizer.get_feature_names())\n",
    "    feature_idxs = np.argsort(-H)\n",
    "    topics = [feature_names[idx] for idx in feature_idxs]\n",
    "    topics = pd.DataFrame(topics).T\n",
    "    topics.columns = [\"T\" + str(i) for i in range(1,num_topics+1)]\n",
    "               \n",
    "    return topics,H,W,nmf_model\n",
    "               "
   ]
  },
  {
   "cell_type": "code",
   "execution_count": 147,
   "metadata": {
    "scrolled": true
   },
   "outputs": [],
   "source": [
    "# Get countvectorizer doc topics, H,W,and nmf fitted model - start with number of topics suggested by LDA model and then adjust to find most coherent topics\n",
    "accom_count_topics,H_accom,W_accom,count_mod = nmf(vec1_accom,16,cv_accom)"
   ]
  },
  {
   "cell_type": "markdown",
   "metadata": {},
   "source": [
    "## Run models for accommodation"
   ]
  },
  {
   "cell_type": "markdown",
   "metadata": {},
   "source": [
    "### Countvectorizer NMF Model - accommodation (using LDA model number of topics)"
   ]
  },
  {
   "cell_type": "code",
   "execution_count": 148,
   "metadata": {
    "scrolled": true
   },
   "outputs": [
    {
     "data": {
      "text/html": [
       "<div>\n",
       "<style scoped>\n",
       "    .dataframe tbody tr th:only-of-type {\n",
       "        vertical-align: middle;\n",
       "    }\n",
       "\n",
       "    .dataframe tbody tr th {\n",
       "        vertical-align: top;\n",
       "    }\n",
       "\n",
       "    .dataframe thead th {\n",
       "        text-align: right;\n",
       "    }\n",
       "</style>\n",
       "<table border=\"1\" class=\"dataframe\">\n",
       "  <thead>\n",
       "    <tr style=\"text-align: right;\">\n",
       "      <th></th>\n",
       "      <th>T1</th>\n",
       "      <th>T2</th>\n",
       "      <th>T3</th>\n",
       "      <th>T4</th>\n",
       "      <th>T5</th>\n",
       "      <th>T6</th>\n",
       "      <th>T7</th>\n",
       "      <th>T8</th>\n",
       "      <th>T9</th>\n",
       "      <th>T10</th>\n",
       "      <th>T11</th>\n",
       "      <th>T12</th>\n",
       "      <th>T13</th>\n",
       "      <th>T14</th>\n",
       "      <th>T15</th>\n",
       "      <th>T16</th>\n",
       "    </tr>\n",
       "  </thead>\n",
       "  <tbody>\n",
       "    <tr>\n",
       "      <th>0</th>\n",
       "      <td>room</td>\n",
       "      <td>hotel</td>\n",
       "      <td>staff</td>\n",
       "      <td>food</td>\n",
       "      <td>pool</td>\n",
       "      <td>service</td>\n",
       "      <td>family</td>\n",
       "      <td>restaurant</td>\n",
       "      <td>value</td>\n",
       "      <td>park</td>\n",
       "      <td>bed</td>\n",
       "      <td>coffee</td>\n",
       "      <td>location</td>\n",
       "      <td>view</td>\n",
       "      <td>entertainment</td>\n",
       "      <td>visit</td>\n",
       "    </tr>\n",
       "    <tr>\n",
       "      <th>1</th>\n",
       "      <td>hotel room</td>\n",
       "      <td>hotel room</td>\n",
       "      <td>member</td>\n",
       "      <td>quality</td>\n",
       "      <td>splash</td>\n",
       "      <td>customer</td>\n",
       "      <td>family room</td>\n",
       "      <td>hotel restaurant</td>\n",
       "      <td>money</td>\n",
       "      <td>car</td>\n",
       "      <td>comfy</td>\n",
       "      <td>tea</td>\n",
       "      <td>town</td>\n",
       "      <td>floor</td>\n",
       "      <td>show</td>\n",
       "      <td>year</td>\n",
       "    </tr>\n",
       "    <tr>\n",
       "      <th>2</th>\n",
       "      <td>shower</td>\n",
       "      <td>hotel hotel</td>\n",
       "      <td>helpful</td>\n",
       "      <td>choice</td>\n",
       "      <td>splash pool</td>\n",
       "      <td>customer service</td>\n",
       "      <td>friend</td>\n",
       "      <td>food restaurant</td>\n",
       "      <td>value money</td>\n",
       "      <td>car park</td>\n",
       "      <td>comfy bed</td>\n",
       "      <td>tea coffee</td>\n",
       "      <td>centre</td>\n",
       "      <td>sea</td>\n",
       "      <td>activity</td>\n",
       "      <td>visit family</td>\n",
       "    </tr>\n",
       "    <tr>\n",
       "      <th>3</th>\n",
       "      <td>room room</td>\n",
       "      <td>hotel staff</td>\n",
       "      <td>reception</td>\n",
       "      <td>good</td>\n",
       "      <td>wave</td>\n",
       "      <td>food service</td>\n",
       "      <td>meal</td>\n",
       "      <td>meal</td>\n",
       "      <td>waste</td>\n",
       "      <td>caravan</td>\n",
       "      <td>bed comfy</td>\n",
       "      <td>facility</td>\n",
       "      <td>minute</td>\n",
       "      <td>sea view</td>\n",
       "      <td>centre</td>\n",
       "      <td>family visit</td>\n",
       "    </tr>\n",
       "    <tr>\n",
       "      <th>4</th>\n",
       "      <td>size</td>\n",
       "      <td>hotel restaurant</td>\n",
       "      <td>member staff</td>\n",
       "      <td>food good</td>\n",
       "      <td>wave pool</td>\n",
       "      <td>room service</td>\n",
       "      <td>fun</td>\n",
       "      <td>site</td>\n",
       "      <td>waste money</td>\n",
       "      <td>hotel car</td>\n",
       "      <td>bunk</td>\n",
       "      <td>coffee facility</td>\n",
       "      <td>walk</td>\n",
       "      <td>ground</td>\n",
       "      <td>stage</td>\n",
       "      <td>apartment</td>\n",
       "    </tr>\n",
       "    <tr>\n",
       "      <th>5</th>\n",
       "      <td>family room</td>\n",
       "      <td>room hotel</td>\n",
       "      <td>staff helpful</td>\n",
       "      <td>quality food</td>\n",
       "      <td>fun</td>\n",
       "      <td>guest</td>\n",
       "      <td>member</td>\n",
       "      <td>shop</td>\n",
       "      <td>accommodation</td>\n",
       "      <td>hotel car park</td>\n",
       "      <td>bunk bed</td>\n",
       "      <td>fridge</td>\n",
       "      <td>beach</td>\n",
       "      <td>ground floor</td>\n",
       "      <td>choice</td>\n",
       "      <td>return</td>\n",
       "    </tr>\n",
       "    <tr>\n",
       "      <th>6</th>\n",
       "      <td>twin</td>\n",
       "      <td>spa</td>\n",
       "      <td>reception staff</td>\n",
       "      <td>drink</td>\n",
       "      <td>slide</td>\n",
       "      <td>guest service</td>\n",
       "      <td>raft</td>\n",
       "      <td>deck</td>\n",
       "      <td>price</td>\n",
       "      <td>water</td>\n",
       "      <td>size</td>\n",
       "      <td>tea coffee facility</td>\n",
       "      <td>shop</td>\n",
       "      <td>view room</td>\n",
       "      <td>team</td>\n",
       "      <td>resort</td>\n",
       "    </tr>\n",
       "    <tr>\n",
       "      <th>7</th>\n",
       "      <td>room service</td>\n",
       "      <td>staff hotel</td>\n",
       "      <td>staff member</td>\n",
       "      <td>food service</td>\n",
       "      <td>water</td>\n",
       "      <td>service staff</td>\n",
       "      <td>family raft</td>\n",
       "      <td>deck restaurant</td>\n",
       "      <td>activity</td>\n",
       "      <td>space</td>\n",
       "      <td>bathroom</td>\n",
       "      <td>biscuit</td>\n",
       "      <td>convenient</td>\n",
       "      <td>apartment</td>\n",
       "      <td>plenty</td>\n",
       "      <td>beach</td>\n",
       "    </tr>\n",
       "    <tr>\n",
       "      <th>8</th>\n",
       "      <td>room hotel</td>\n",
       "      <td>hotel spa</td>\n",
       "      <td>hotel staff</td>\n",
       "      <td>court</td>\n",
       "      <td>activity</td>\n",
       "      <td>meal</td>\n",
       "      <td>family member</td>\n",
       "      <td>restaurant food</td>\n",
       "      <td>package</td>\n",
       "      <td>park car</td>\n",
       "      <td>sofa</td>\n",
       "      <td>making</td>\n",
       "      <td>site</td>\n",
       "      <td>sea view room</td>\n",
       "      <td>skyline</td>\n",
       "      <td>visit hotel</td>\n",
       "    </tr>\n",
       "    <tr>\n",
       "      <th>9</th>\n",
       "      <td>room size</td>\n",
       "      <td>part</td>\n",
       "      <td>polite</td>\n",
       "      <td>food court</td>\n",
       "      <td>facility</td>\n",
       "      <td>quality</td>\n",
       "      <td>family visit</td>\n",
       "      <td>choice</td>\n",
       "      <td>pay</td>\n",
       "      <td>check</td>\n",
       "      <td>shower</td>\n",
       "      <td>coffee making</td>\n",
       "      <td>hotel location</td>\n",
       "      <td>bathroom</td>\n",
       "      <td>site</td>\n",
       "      <td>return visit</td>\n",
       "    </tr>\n",
       "  </tbody>\n",
       "</table>\n",
       "</div>"
      ],
      "text/plain": [
       "             T1                T2               T3            T4           T5  \\\n",
       "0          room             hotel            staff          food         pool   \n",
       "1    hotel room        hotel room           member       quality       splash   \n",
       "2        shower       hotel hotel          helpful        choice  splash pool   \n",
       "3     room room       hotel staff        reception          good         wave   \n",
       "4          size  hotel restaurant     member staff     food good    wave pool   \n",
       "5   family room        room hotel    staff helpful  quality food          fun   \n",
       "6          twin               spa  reception staff         drink        slide   \n",
       "7  room service       staff hotel     staff member  food service        water   \n",
       "8    room hotel         hotel spa      hotel staff         court     activity   \n",
       "9     room size              part           polite    food court     facility   \n",
       "\n",
       "                 T6             T7                T8             T9  \\\n",
       "0           service         family        restaurant          value   \n",
       "1          customer    family room  hotel restaurant          money   \n",
       "2  customer service         friend   food restaurant    value money   \n",
       "3      food service           meal              meal          waste   \n",
       "4      room service            fun              site    waste money   \n",
       "5             guest         member              shop  accommodation   \n",
       "6     guest service           raft              deck          price   \n",
       "7     service staff    family raft   deck restaurant       activity   \n",
       "8              meal  family member   restaurant food        package   \n",
       "9           quality   family visit            choice            pay   \n",
       "\n",
       "              T10        T11                  T12             T13  \\\n",
       "0            park        bed               coffee        location   \n",
       "1             car      comfy                  tea            town   \n",
       "2        car park  comfy bed           tea coffee          centre   \n",
       "3         caravan  bed comfy             facility          minute   \n",
       "4       hotel car       bunk      coffee facility            walk   \n",
       "5  hotel car park   bunk bed               fridge           beach   \n",
       "6           water       size  tea coffee facility            shop   \n",
       "7           space   bathroom              biscuit      convenient   \n",
       "8        park car       sofa               making            site   \n",
       "9           check     shower        coffee making  hotel location   \n",
       "\n",
       "             T14            T15           T16  \n",
       "0           view  entertainment         visit  \n",
       "1          floor           show          year  \n",
       "2            sea       activity  visit family  \n",
       "3       sea view         centre  family visit  \n",
       "4         ground          stage     apartment  \n",
       "5   ground floor         choice        return  \n",
       "6      view room           team        resort  \n",
       "7      apartment         plenty         beach  \n",
       "8  sea view room        skyline   visit hotel  \n",
       "9       bathroom           site  return visit  "
      ]
     },
     "execution_count": 148,
     "metadata": {},
     "output_type": "execute_result"
    }
   ],
   "source": [
    "accom_count_topics.head(10)"
   ]
  },
  {
   "cell_type": "markdown",
   "metadata": {},
   "source": [
    "Inferring topics can be difficult and should usually be done by domain experts. For the purposes of this project, the topics are inferred by looking at the top 5/10 words."
   ]
  },
  {
   "cell_type": "code",
   "execution_count": 154,
   "metadata": {
    "scrolled": true
   },
   "outputs": [],
   "source": [
    "# Apply inferred topics to documents with the associated weights\n",
    "pd.options.display.float_format = '{:,.3f}'.format\n",
    "accom_count_df = pd.DataFrame(W_accom)\n",
    "accom_count_df.columns = [\"Room Gen\",\"Hotel Gen\",\"Staff\",\"Food\",\"Leisure & Fac\",\"Customer Serv\",\"Family Fac\",\"Restaurant\",\"VFM\",\"Parking & Facilities\",\"Room Comf\",\n",
    "                         \"Room Fac\",\"Hotel Loc\",\"Room Loc\",\"Entertainment\",\"Visit Exp\"]\n",
    "accom_count_df[\"Top\"] = accom_count_df.idxmax(axis=\"columns\")\n",
    "#topics_per_doc_accom_count.head()"
   ]
  },
  {
   "cell_type": "code",
   "execution_count": 155,
   "metadata": {
    "scrolled": true
   },
   "outputs": [],
   "source": [
    "# Add the most likely countvectorizer topic to the review dataframe\n",
    "predict_count_accom = pd.DataFrame(df_accom[[\"OrigInd\",\"Category\",\"Town\",\"Rating\",\"all_text\",\"cleaned_sentences\",\"noun_phrases\",\"nouns\"]]).reset_index(drop = True)\n",
    "accom_predict_count = pd.concat([predict_count_accom,accom_count_df[\"Top\"]],axis = 1,ignore_index = True)\n",
    "accom_predict_count.columns = [\"OrigInd\",\"Category\",\"Town\",\"Rating\",\"all_text\",\"cleaned\",\"noun_phrases\",\"nouns\",\"Topic Count\"]\n",
    "pd.set_option('max_colwidth',40)"
   ]
  },
  {
   "cell_type": "code",
   "execution_count": 161,
   "metadata": {},
   "outputs": [
    {
     "data": {
      "text/html": [
       "<div>\n",
       "<style scoped>\n",
       "    .dataframe tbody tr th:only-of-type {\n",
       "        vertical-align: middle;\n",
       "    }\n",
       "\n",
       "    .dataframe tbody tr th {\n",
       "        vertical-align: top;\n",
       "    }\n",
       "\n",
       "    .dataframe thead th {\n",
       "        text-align: right;\n",
       "    }\n",
       "</style>\n",
       "<table border=\"1\" class=\"dataframe\">\n",
       "  <thead>\n",
       "    <tr style=\"text-align: right;\">\n",
       "      <th></th>\n",
       "      <th>noun_phrases</th>\n",
       "      <th>nouns</th>\n",
       "      <th>Topic Count</th>\n",
       "    </tr>\n",
       "  </thead>\n",
       "  <tbody>\n",
       "    <tr>\n",
       "      <th>19092</th>\n",
       "      <td>brilliant room</td>\n",
       "      <td>[room]</td>\n",
       "      <td>Room Gen</td>\n",
       "    </tr>\n",
       "    <tr>\n",
       "      <th>19337</th>\n",
       "      <td>egg breakfast deserve</td>\n",
       "      <td>[egg, breakfast, deserve]</td>\n",
       "      <td>VFM</td>\n",
       "    </tr>\n",
       "    <tr>\n",
       "      <th>11125</th>\n",
       "      <td>spa treatment good</td>\n",
       "      <td>[treatment]</td>\n",
       "      <td>Leisure &amp; Fac</td>\n",
       "    </tr>\n",
       "    <tr>\n",
       "      <th>4801</th>\n",
       "      <td>mobility scooter</td>\n",
       "      <td>[mobility, scooter]</td>\n",
       "      <td>Room Loc</td>\n",
       "    </tr>\n",
       "    <tr>\n",
       "      <th>3501</th>\n",
       "      <td>new pool</td>\n",
       "      <td>[pool]</td>\n",
       "      <td>Leisure &amp; Fac</td>\n",
       "    </tr>\n",
       "    <tr>\n",
       "      <th>18219</th>\n",
       "      <td>arden house bed breakfast</td>\n",
       "      <td>[house, breakfast]</td>\n",
       "      <td>Visit Exp</td>\n",
       "    </tr>\n",
       "    <tr>\n",
       "      <th>18163</th>\n",
       "      <td>lovely breakfast</td>\n",
       "      <td>[breakfast]</td>\n",
       "      <td>Room Gen</td>\n",
       "    </tr>\n",
       "    <tr>\n",
       "      <th>11651</th>\n",
       "      <td>reception staff self</td>\n",
       "      <td>[reception, staff, self]</td>\n",
       "      <td>Staff</td>\n",
       "    </tr>\n",
       "    <tr>\n",
       "      <th>15497</th>\n",
       "      <td>room key</td>\n",
       "      <td>[room, key]</td>\n",
       "      <td>Room Gen</td>\n",
       "    </tr>\n",
       "    <tr>\n",
       "      <th>18854</th>\n",
       "      <td>lovely little village surround</td>\n",
       "      <td>[village, surround]</td>\n",
       "      <td>Hotel Loc</td>\n",
       "    </tr>\n",
       "  </tbody>\n",
       "</table>\n",
       "</div>"
      ],
      "text/plain": [
       "                         noun_phrases                      nouns  \\\n",
       "19092                  brilliant room                     [room]   \n",
       "19337           egg breakfast deserve  [egg, breakfast, deserve]   \n",
       "11125              spa treatment good                [treatment]   \n",
       "4801                 mobility scooter        [mobility, scooter]   \n",
       "3501                         new pool                     [pool]   \n",
       "18219       arden house bed breakfast         [house, breakfast]   \n",
       "18163                lovely breakfast                [breakfast]   \n",
       "11651            reception staff self   [reception, staff, self]   \n",
       "15497                        room key                [room, key]   \n",
       "18854  lovely little village surround        [village, surround]   \n",
       "\n",
       "         Topic Count  \n",
       "19092       Room Gen  \n",
       "19337            VFM  \n",
       "11125  Leisure & Fac  \n",
       "4801        Room Loc  \n",
       "3501   Leisure & Fac  \n",
       "18219      Visit Exp  \n",
       "18163       Room Gen  \n",
       "11651          Staff  \n",
       "15497       Room Gen  \n",
       "18854      Hotel Loc  "
      ]
     },
     "execution_count": 161,
     "metadata": {},
     "output_type": "execute_result"
    }
   ],
   "source": [
    "#accom_predict_count[[\"noun_phrases\",\"nouns\",\"Topic Count\"]].sample(10)"
   ]
  },
  {
   "cell_type": "markdown",
   "metadata": {},
   "source": [
    "7 out of 10 topics categorised correctly"
   ]
  },
  {
   "cell_type": "markdown",
   "metadata": {},
   "source": [
    "### TFIDF NMF Model - accommodation"
   ]
  },
  {
   "cell_type": "code",
   "execution_count": 152,
   "metadata": {
    "scrolled": true
   },
   "outputs": [],
   "source": [
    "# Get countvectorizer doc topics, H,W,and nmf fitted model for tfidf vectorizer\n",
    "accom_tfidf_topics,H_accom_tfidf,W_accom_tfidf,tfidf_mod = nmf(vec2_accom,16,tfidf_accom)"
   ]
  },
  {
   "cell_type": "code",
   "execution_count": 153,
   "metadata": {
    "scrolled": true
   },
   "outputs": [
    {
     "data": {
      "text/html": [
       "<div>\n",
       "<style scoped>\n",
       "    .dataframe tbody tr th:only-of-type {\n",
       "        vertical-align: middle;\n",
       "    }\n",
       "\n",
       "    .dataframe tbody tr th {\n",
       "        vertical-align: top;\n",
       "    }\n",
       "\n",
       "    .dataframe thead th {\n",
       "        text-align: right;\n",
       "    }\n",
       "</style>\n",
       "<table border=\"1\" class=\"dataframe\">\n",
       "  <thead>\n",
       "    <tr style=\"text-align: right;\">\n",
       "      <th></th>\n",
       "      <th>T1</th>\n",
       "      <th>T2</th>\n",
       "      <th>T3</th>\n",
       "      <th>T4</th>\n",
       "      <th>T5</th>\n",
       "      <th>T6</th>\n",
       "      <th>T7</th>\n",
       "      <th>T8</th>\n",
       "      <th>T9</th>\n",
       "      <th>T10</th>\n",
       "      <th>T11</th>\n",
       "      <th>T12</th>\n",
       "      <th>T13</th>\n",
       "      <th>T14</th>\n",
       "      <th>T15</th>\n",
       "      <th>T16</th>\n",
       "    </tr>\n",
       "  </thead>\n",
       "  <tbody>\n",
       "    <tr>\n",
       "      <th>0</th>\n",
       "      <td>room</td>\n",
       "      <td>staff</td>\n",
       "      <td>hotel</td>\n",
       "      <td>food</td>\n",
       "      <td>pool</td>\n",
       "      <td>family</td>\n",
       "      <td>service</td>\n",
       "      <td>bed</td>\n",
       "      <td>location</td>\n",
       "      <td>restaurant</td>\n",
       "      <td>value</td>\n",
       "      <td>visit</td>\n",
       "      <td>entertainment</td>\n",
       "      <td>park</td>\n",
       "      <td>meal</td>\n",
       "      <td>price</td>\n",
       "    </tr>\n",
       "    <tr>\n",
       "      <th>1</th>\n",
       "      <td>hotel room</td>\n",
       "      <td>member</td>\n",
       "      <td>hotel room</td>\n",
       "      <td>quality</td>\n",
       "      <td>splash</td>\n",
       "      <td>family room</td>\n",
       "      <td>customer</td>\n",
       "      <td>comfy</td>\n",
       "      <td>town</td>\n",
       "      <td>food restaurant</td>\n",
       "      <td>money</td>\n",
       "      <td>family visit</td>\n",
       "      <td>show</td>\n",
       "      <td>car</td>\n",
       "      <td>choice</td>\n",
       "      <td>quality</td>\n",
       "    </tr>\n",
       "    <tr>\n",
       "      <th>2</th>\n",
       "      <td>family room</td>\n",
       "      <td>member staff</td>\n",
       "      <td>hotel staff</td>\n",
       "      <td>good</td>\n",
       "      <td>splash pool</td>\n",
       "      <td>friend</td>\n",
       "      <td>customer service</td>\n",
       "      <td>comfy bed</td>\n",
       "      <td>hotel location</td>\n",
       "      <td>hotel restaurant</td>\n",
       "      <td>value money</td>\n",
       "      <td>visit family</td>\n",
       "      <td>fun</td>\n",
       "      <td>car park</td>\n",
       "      <td>course</td>\n",
       "      <td>experience</td>\n",
       "    </tr>\n",
       "    <tr>\n",
       "      <th>3</th>\n",
       "      <td>room room</td>\n",
       "      <td>helpful</td>\n",
       "      <td>hotel restaurant</td>\n",
       "      <td>food good</td>\n",
       "      <td>water</td>\n",
       "      <td>fun</td>\n",
       "      <td>food service</td>\n",
       "      <td>bed comfy</td>\n",
       "      <td>site</td>\n",
       "      <td>site</td>\n",
       "      <td>accommodation</td>\n",
       "      <td>year</td>\n",
       "      <td>site</td>\n",
       "      <td>site</td>\n",
       "      <td>course meal</td>\n",
       "      <td>drink</td>\n",
       "    </tr>\n",
       "    <tr>\n",
       "      <th>4</th>\n",
       "      <td>floor</td>\n",
       "      <td>staff helpful</td>\n",
       "      <td>room hotel</td>\n",
       "      <td>food restaurant</td>\n",
       "      <td>wave</td>\n",
       "      <td>family visit</td>\n",
       "      <td>room service</td>\n",
       "      <td>bunk bed</td>\n",
       "      <td>thing</td>\n",
       "      <td>deck restaurant</td>\n",
       "      <td>waste money</td>\n",
       "      <td>apartment</td>\n",
       "      <td>facility</td>\n",
       "      <td>facility</td>\n",
       "      <td>menu</td>\n",
       "      <td>choice</td>\n",
       "    </tr>\n",
       "    <tr>\n",
       "      <th>5</th>\n",
       "      <td>shower</td>\n",
       "      <td>reception</td>\n",
       "      <td>hotel hotel</td>\n",
       "      <td>food service</td>\n",
       "      <td>wave pool</td>\n",
       "      <td>visit family</td>\n",
       "      <td>guest</td>\n",
       "      <td>bunk</td>\n",
       "      <td>location hotel</td>\n",
       "      <td>deck</td>\n",
       "      <td>waste</td>\n",
       "      <td>tot</td>\n",
       "      <td>team</td>\n",
       "      <td>water</td>\n",
       "      <td>family meal</td>\n",
       "      <td>point</td>\n",
       "    </tr>\n",
       "    <tr>\n",
       "      <th>6</th>\n",
       "      <td>room service</td>\n",
       "      <td>reception staff</td>\n",
       "      <td>staff hotel</td>\n",
       "      <td>quality food</td>\n",
       "      <td>fun</td>\n",
       "      <td>trip</td>\n",
       "      <td>guest service</td>\n",
       "      <td>size</td>\n",
       "      <td>good</td>\n",
       "      <td>choice</td>\n",
       "      <td>activity</td>\n",
       "      <td>beach</td>\n",
       "      <td>activity</td>\n",
       "      <td>show</td>\n",
       "      <td>door</td>\n",
       "      <td>price drink</td>\n",
       "    </tr>\n",
       "    <tr>\n",
       "      <th>7</th>\n",
       "      <td>view</td>\n",
       "      <td>hotel staff</td>\n",
       "      <td>spa</td>\n",
       "      <td>choice</td>\n",
       "      <td>slide</td>\n",
       "      <td>friend family</td>\n",
       "      <td>service staff</td>\n",
       "      <td>sleep</td>\n",
       "      <td>facility</td>\n",
       "      <td>table</td>\n",
       "      <td>experience</td>\n",
       "      <td>visit hotel</td>\n",
       "      <td>entertainment team</td>\n",
       "      <td>plenty</td>\n",
       "      <td>morning</td>\n",
       "      <td>floor</td>\n",
       "    </tr>\n",
       "    <tr>\n",
       "      <th>8</th>\n",
       "      <td>room hotel</td>\n",
       "      <td>staff member</td>\n",
       "      <td>hotel spa</td>\n",
       "      <td>drink</td>\n",
       "      <td>facility</td>\n",
       "      <td>plenty</td>\n",
       "      <td>quality</td>\n",
       "      <td>quality</td>\n",
       "      <td>superb</td>\n",
       "      <td>shop</td>\n",
       "      <td>quality</td>\n",
       "      <td>return</td>\n",
       "      <td>stage</td>\n",
       "      <td>road</td>\n",
       "      <td>time</td>\n",
       "      <td>good</td>\n",
       "    </tr>\n",
       "    <tr>\n",
       "      <th>9</th>\n",
       "      <td>size</td>\n",
       "      <td>service staff</td>\n",
       "      <td>part</td>\n",
       "      <td>food court</td>\n",
       "      <td>outdoor</td>\n",
       "      <td>family raft</td>\n",
       "      <td>need</td>\n",
       "      <td>tidy</td>\n",
       "      <td>convenient</td>\n",
       "      <td>team</td>\n",
       "      <td>package</td>\n",
       "      <td>friend</td>\n",
       "      <td>good</td>\n",
       "      <td>caravan</td>\n",
       "      <td>meal plan</td>\n",
       "      <td>price hotel</td>\n",
       "    </tr>\n",
       "    <tr>\n",
       "      <th>10</th>\n",
       "      <td>spotless</td>\n",
       "      <td>staff hotel</td>\n",
       "      <td>chain</td>\n",
       "      <td>court</td>\n",
       "      <td>activity</td>\n",
       "      <td>raft</td>\n",
       "      <td>staff service</td>\n",
       "      <td>size bed</td>\n",
       "      <td>fab</td>\n",
       "      <td>staff restaurant</td>\n",
       "      <td>choice</td>\n",
       "      <td>site</td>\n",
       "      <td>skyline</td>\n",
       "      <td>splash</td>\n",
       "      <td>plan</td>\n",
       "      <td>site</td>\n",
       "    </tr>\n",
       "    <tr>\n",
       "      <th>11</th>\n",
       "      <td>twin</td>\n",
       "      <td>check</td>\n",
       "      <td>experience</td>\n",
       "      <td>food drink</td>\n",
       "      <td>part</td>\n",
       "      <td>member</td>\n",
       "      <td>service food</td>\n",
       "      <td>towel</td>\n",
       "      <td>room location</td>\n",
       "      <td>restaurant food</td>\n",
       "      <td>cost</td>\n",
       "      <td>return visit</td>\n",
       "      <td>thing</td>\n",
       "      <td>water park</td>\n",
       "      <td>drink</td>\n",
       "      <td>town</td>\n",
       "    </tr>\n",
       "    <tr>\n",
       "      <th>12</th>\n",
       "      <td>morning</td>\n",
       "      <td>room staff</td>\n",
       "      <td>food hotel</td>\n",
       "      <td>selection</td>\n",
       "      <td>spa</td>\n",
       "      <td>group</td>\n",
       "      <td>smile</td>\n",
       "      <td>thing</td>\n",
       "      <td>centre</td>\n",
       "      <td>walk</td>\n",
       "      <td>pay</td>\n",
       "      <td>resort</td>\n",
       "      <td>quality</td>\n",
       "      <td>space</td>\n",
       "      <td>couple</td>\n",
       "      <td>star</td>\n",
       "    </tr>\n",
       "    <tr>\n",
       "      <th>13</th>\n",
       "      <td>bathroom</td>\n",
       "      <td>staff staff</td>\n",
       "      <td>return</td>\n",
       "      <td>superb</td>\n",
       "      <td>sauna</td>\n",
       "      <td>party</td>\n",
       "      <td>service restaurant</td>\n",
       "      <td>bathroom</td>\n",
       "      <td>convenient location</td>\n",
       "      <td>reception</td>\n",
       "      <td>tidy</td>\n",
       "      <td>show</td>\n",
       "      <td>entertainment good</td>\n",
       "      <td>check</td>\n",
       "      <td>choice meal</td>\n",
       "      <td>accommodation</td>\n",
       "    </tr>\n",
       "    <tr>\n",
       "      <th>14</th>\n",
       "      <td>room size</td>\n",
       "      <td>polite</td>\n",
       "      <td>hotel food</td>\n",
       "      <td>ok</td>\n",
       "      <td>look</td>\n",
       "      <td>family member</td>\n",
       "      <td>choice</td>\n",
       "      <td>room bed</td>\n",
       "      <td>beach</td>\n",
       "      <td>kitchen</td>\n",
       "      <td>tasty</td>\n",
       "      <td>time</td>\n",
       "      <td>load</td>\n",
       "      <td>reception</td>\n",
       "      <td>site</td>\n",
       "      <td>ok</td>\n",
       "    </tr>\n",
       "  </tbody>\n",
       "</table>\n",
       "</div>"
      ],
      "text/plain": [
       "              T1               T2                T3               T4  \\\n",
       "0           room            staff             hotel             food   \n",
       "1     hotel room           member        hotel room          quality   \n",
       "2    family room     member staff       hotel staff             good   \n",
       "3      room room          helpful  hotel restaurant        food good   \n",
       "4          floor    staff helpful        room hotel  food restaurant   \n",
       "5         shower        reception       hotel hotel     food service   \n",
       "6   room service  reception staff       staff hotel     quality food   \n",
       "7           view      hotel staff               spa           choice   \n",
       "8     room hotel     staff member         hotel spa            drink   \n",
       "9           size    service staff              part       food court   \n",
       "10      spotless      staff hotel             chain            court   \n",
       "11          twin            check        experience       food drink   \n",
       "12       morning       room staff        food hotel        selection   \n",
       "13      bathroom      staff staff            return           superb   \n",
       "14     room size           polite        hotel food               ok   \n",
       "\n",
       "             T5             T6                  T7         T8  \\\n",
       "0          pool         family             service        bed   \n",
       "1        splash    family room            customer      comfy   \n",
       "2   splash pool         friend    customer service  comfy bed   \n",
       "3         water            fun        food service  bed comfy   \n",
       "4          wave   family visit        room service   bunk bed   \n",
       "5     wave pool   visit family               guest       bunk   \n",
       "6           fun           trip       guest service       size   \n",
       "7         slide  friend family       service staff      sleep   \n",
       "8      facility         plenty             quality    quality   \n",
       "9       outdoor    family raft                need       tidy   \n",
       "10     activity           raft       staff service   size bed   \n",
       "11         part         member        service food      towel   \n",
       "12          spa          group               smile      thing   \n",
       "13        sauna          party  service restaurant   bathroom   \n",
       "14         look  family member              choice   room bed   \n",
       "\n",
       "                     T9               T10            T11           T12  \\\n",
       "0              location        restaurant          value         visit   \n",
       "1                  town   food restaurant          money  family visit   \n",
       "2        hotel location  hotel restaurant    value money  visit family   \n",
       "3                  site              site  accommodation          year   \n",
       "4                 thing   deck restaurant    waste money     apartment   \n",
       "5        location hotel              deck          waste           tot   \n",
       "6                  good            choice       activity         beach   \n",
       "7              facility             table     experience   visit hotel   \n",
       "8                superb              shop        quality        return   \n",
       "9            convenient              team        package        friend   \n",
       "10                  fab  staff restaurant         choice          site   \n",
       "11        room location   restaurant food           cost  return visit   \n",
       "12               centre              walk            pay        resort   \n",
       "13  convenient location         reception           tidy          show   \n",
       "14                beach           kitchen          tasty          time   \n",
       "\n",
       "                   T13         T14          T15            T16  \n",
       "0        entertainment        park         meal          price  \n",
       "1                 show         car       choice        quality  \n",
       "2                  fun    car park       course     experience  \n",
       "3                 site        site  course meal          drink  \n",
       "4             facility    facility         menu         choice  \n",
       "5                 team       water  family meal          point  \n",
       "6             activity        show         door    price drink  \n",
       "7   entertainment team      plenty      morning          floor  \n",
       "8                stage        road         time           good  \n",
       "9                 good     caravan    meal plan    price hotel  \n",
       "10             skyline      splash         plan           site  \n",
       "11               thing  water park        drink           town  \n",
       "12             quality       space       couple           star  \n",
       "13  entertainment good       check  choice meal  accommodation  \n",
       "14                load   reception         site             ok  "
      ]
     },
     "execution_count": 153,
     "metadata": {},
     "output_type": "execute_result"
    }
   ],
   "source": [
    "accom_tfidf_topics.head(15)"
   ]
  },
  {
   "cell_type": "code",
   "execution_count": 158,
   "metadata": {
    "scrolled": true
   },
   "outputs": [],
   "source": [
    "# Apply inferred topics to documents with the associated weights\n",
    "pd.options.display.float_format = '{:,.3f}'.format\n",
    "accom_tfidf_df = pd.DataFrame(W_accom_tfidf)\n",
    "accom_tfidf_df.columns = [\"Room Gen\",\"Staff\",\"Hotel Gen\",\"Food\",\"Leisure & Fac\",\"Family Exp\",\"Customer Serv\",\"Room Comf\",\"Location\",\"Restaurant\",\n",
    "                          \"VFM\",\"Visit Exp\",\"Entertainment\",\"Parking & Facilities\",\"Meal Choice\",\"Price & Quality\"]\n",
    "                                                                          \n",
    "accom_tfidf_df[\"Top\"] = accom_tfidf_df.idxmax(axis=\"columns\")\n",
    "#topics_per_doc_accom_count.head()"
   ]
  },
  {
   "cell_type": "code",
   "execution_count": 159,
   "metadata": {
    "scrolled": true
   },
   "outputs": [],
   "source": [
    "# Add the most likely tfidf topic to the review and conat the two top topics to the original dataframe\n",
    "predict_tfidf_accom = pd.DataFrame(df_accom[[\"OrigInd\",\"Town\",\"Rating\",\"all_text\",\"cleaned_sentences\",\"noun_phrases\",\"nouns\"]]).reset_index(drop = True)\n",
    "accom_predict_final = pd.concat([accom_predict_count,accom_tfidf_df[\"Top\"]],axis = 1,ignore_index = True)\n",
    "accom_predict_final.columns = [\"OrigInd\",\"Category\",\"Town\",\"Rating\",\"all_text\",\"cleaned\",\"noun_phrases\",\"nouns\",\"Topic Count\",\"Topic TFIDF\"]\n",
    "#accom_predict_final['is_equal'] =( accom_predict_final['Topic Count'].str.lower().str.replace('s/+',\"\") == accom_predict_final['Topic TFIDF'].str.lower().str.replace('s/+',\"\"))\n",
    "#accom_predict_diff = accom_predict_final[accom_predict_final[\"is_equal\"] == False]"
   ]
  },
  {
   "cell_type": "code",
   "execution_count": 164,
   "metadata": {
    "scrolled": true
   },
   "outputs": [
    {
     "data": {
      "text/html": [
       "<div>\n",
       "<style scoped>\n",
       "    .dataframe tbody tr th:only-of-type {\n",
       "        vertical-align: middle;\n",
       "    }\n",
       "\n",
       "    .dataframe tbody tr th {\n",
       "        vertical-align: top;\n",
       "    }\n",
       "\n",
       "    .dataframe thead th {\n",
       "        text-align: right;\n",
       "    }\n",
       "</style>\n",
       "<table border=\"1\" class=\"dataframe\">\n",
       "  <thead>\n",
       "    <tr style=\"text-align: right;\">\n",
       "      <th></th>\n",
       "      <th>noun_phrases</th>\n",
       "      <th>nouns</th>\n",
       "      <th>Topic Count</th>\n",
       "      <th>Topic TFIDF</th>\n",
       "    </tr>\n",
       "  </thead>\n",
       "  <tbody>\n",
       "    <tr>\n",
       "      <th>18007</th>\n",
       "      <td>reasonable price overall hotel</td>\n",
       "      <td>[price, hotel]</td>\n",
       "      <td>Hotel Gen</td>\n",
       "      <td>Price &amp; Quality</td>\n",
       "    </tr>\n",
       "    <tr>\n",
       "      <th>12600</th>\n",
       "      <td>cold bonus</td>\n",
       "      <td>[bonus]</td>\n",
       "      <td>Room Loc</td>\n",
       "      <td>Location</td>\n",
       "    </tr>\n",
       "    <tr>\n",
       "      <th>10794</th>\n",
       "      <td>complaint charlie</td>\n",
       "      <td>[complaint, charlie]</td>\n",
       "      <td>Customer Serv</td>\n",
       "      <td>Customer Serv</td>\n",
       "    </tr>\n",
       "    <tr>\n",
       "      <th>16719</th>\n",
       "      <td>wave experience</td>\n",
       "      <td>[wave, experience]</td>\n",
       "      <td>Leisure &amp; Fac</td>\n",
       "      <td>Price &amp; Quality</td>\n",
       "    </tr>\n",
       "    <tr>\n",
       "      <th>20287</th>\n",
       "      <td>week encore guest house</td>\n",
       "      <td>[week, house]</td>\n",
       "      <td>Visit Exp</td>\n",
       "      <td>Restaurant</td>\n",
       "    </tr>\n",
       "    <tr>\n",
       "      <th>4903</th>\n",
       "      <td>staff understanding kind</td>\n",
       "      <td>[staff, kind]</td>\n",
       "      <td>Staff</td>\n",
       "      <td>Staff</td>\n",
       "    </tr>\n",
       "    <tr>\n",
       "      <th>20097</th>\n",
       "      <td>motor bike</td>\n",
       "      <td>[motor, bike]</td>\n",
       "      <td>Family Fac</td>\n",
       "      <td>Family Exp</td>\n",
       "    </tr>\n",
       "    <tr>\n",
       "      <th>18885</th>\n",
       "      <td>lovely little hotel guest house</td>\n",
       "      <td>[hotel, house]</td>\n",
       "      <td>Hotel Gen</td>\n",
       "      <td>Hotel Gen</td>\n",
       "    </tr>\n",
       "    <tr>\n",
       "      <th>11078</th>\n",
       "      <td>morning evening</td>\n",
       "      <td>[morning, evening]</td>\n",
       "      <td>Entertainment</td>\n",
       "      <td>Meal Choice</td>\n",
       "    </tr>\n",
       "    <tr>\n",
       "      <th>991</th>\n",
       "      <td>lovely walk beach pelham</td>\n",
       "      <td>[beach, pelham]</td>\n",
       "      <td>Hotel Loc</td>\n",
       "      <td>Visit Exp</td>\n",
       "    </tr>\n",
       "  </tbody>\n",
       "</table>\n",
       "</div>"
      ],
      "text/plain": [
       "                          noun_phrases                 nouns    Topic Count  \\\n",
       "18007   reasonable price overall hotel        [price, hotel]      Hotel Gen   \n",
       "12600                       cold bonus               [bonus]       Room Loc   \n",
       "10794                complaint charlie  [complaint, charlie]  Customer Serv   \n",
       "16719                  wave experience    [wave, experience]  Leisure & Fac   \n",
       "20287          week encore guest house         [week, house]      Visit Exp   \n",
       "4903          staff understanding kind         [staff, kind]          Staff   \n",
       "20097                       motor bike         [motor, bike]     Family Fac   \n",
       "18885  lovely little hotel guest house        [hotel, house]      Hotel Gen   \n",
       "11078                  morning evening    [morning, evening]  Entertainment   \n",
       "991           lovely walk beach pelham       [beach, pelham]      Hotel Loc   \n",
       "\n",
       "           Topic TFIDF  \n",
       "18007  Price & Quality  \n",
       "12600         Location  \n",
       "10794    Customer Serv  \n",
       "16719  Price & Quality  \n",
       "20287       Restaurant  \n",
       "4903             Staff  \n",
       "20097       Family Exp  \n",
       "18885        Hotel Gen  \n",
       "11078      Meal Choice  \n",
       "991          Visit Exp  "
      ]
     },
     "execution_count": 164,
     "metadata": {},
     "output_type": "execute_result"
    }
   ],
   "source": [
    "#pd.set_option('max_colwidth', 30)\n",
    "#accom_predict_final[[\"noun_phrases\",\"nouns\",\"Topic Count\",\"Topic TFIDF\"]].sample(10)"
   ]
  },
  {
   "cell_type": "markdown",
   "metadata": {},
   "source": [
    "The countvectorizer model seems to be performing slightly better than the nmf model"
   ]
  },
  {
   "cell_type": "code",
   "execution_count": 165,
   "metadata": {},
   "outputs": [
    {
     "data": {
      "text/html": [
       "<div>\n",
       "<style scoped>\n",
       "    .dataframe tbody tr th:only-of-type {\n",
       "        vertical-align: middle;\n",
       "    }\n",
       "\n",
       "    .dataframe tbody tr th {\n",
       "        vertical-align: top;\n",
       "    }\n",
       "\n",
       "    .dataframe thead th {\n",
       "        text-align: right;\n",
       "    }\n",
       "</style>\n",
       "<table border=\"1\" class=\"dataframe\">\n",
       "  <thead>\n",
       "    <tr style=\"text-align: right;\">\n",
       "      <th></th>\n",
       "      <th>noun_phrases</th>\n",
       "      <th>nouns</th>\n",
       "      <th>Topic Count</th>\n",
       "      <th>Topic TFIDF</th>\n",
       "    </tr>\n",
       "  </thead>\n",
       "  <tbody>\n",
       "    <tr>\n",
       "      <th>21145</th>\n",
       "      <td>frequent star bus town</td>\n",
       "      <td>[star, bus, town]</td>\n",
       "      <td>Hotel Loc</td>\n",
       "      <td>Price &amp; Quality</td>\n",
       "    </tr>\n",
       "    <tr>\n",
       "      <th>15982</th>\n",
       "      <td>dinner service resource bit</td>\n",
       "      <td>[dinner, service, resource, bit]</td>\n",
       "      <td>Customer Serv</td>\n",
       "      <td>Customer Serv</td>\n",
       "    </tr>\n",
       "    <tr>\n",
       "      <th>7608</th>\n",
       "      <td>gem food beverage supervisor attentive</td>\n",
       "      <td>[gem, food, beverage, supervisor, at...</td>\n",
       "      <td>Food</td>\n",
       "      <td>Food</td>\n",
       "    </tr>\n",
       "    <tr>\n",
       "      <th>5883</th>\n",
       "      <td>water guard pool</td>\n",
       "      <td>[water, guard, pool]</td>\n",
       "      <td>Leisure &amp; Fac</td>\n",
       "      <td>Leisure &amp; Fac</td>\n",
       "    </tr>\n",
       "    <tr>\n",
       "      <th>10013</th>\n",
       "      <td>full english vegetarian option fish ...</td>\n",
       "      <td>[option, fish, breakfast]</td>\n",
       "      <td>Room Fac</td>\n",
       "      <td>Price &amp; Quality</td>\n",
       "    </tr>\n",
       "    <tr>\n",
       "      <th>8555</th>\n",
       "      <td>restaurant terrance club</td>\n",
       "      <td>[restaurant, terrance, club]</td>\n",
       "      <td>Restaurant</td>\n",
       "      <td>Restaurant</td>\n",
       "    </tr>\n",
       "    <tr>\n",
       "      <th>310</th>\n",
       "      <td>disney quality pay</td>\n",
       "      <td>[disney, quality, pay]</td>\n",
       "      <td>Food</td>\n",
       "      <td>Price &amp; Quality</td>\n",
       "    </tr>\n",
       "    <tr>\n",
       "      <th>13752</th>\n",
       "      <td>different end corridor issue</td>\n",
       "      <td>[end, corridor, issue]</td>\n",
       "      <td>Room Loc</td>\n",
       "      <td>Restaurant</td>\n",
       "    </tr>\n",
       "    <tr>\n",
       "      <th>14948</th>\n",
       "      <td>early check time.gave u</td>\n",
       "      <td>[check, time.gave, u]</td>\n",
       "      <td>Parking &amp; Facilities</td>\n",
       "      <td>Parking &amp; Facilities</td>\n",
       "    </tr>\n",
       "    <tr>\n",
       "      <th>16801</th>\n",
       "      <td>sea front morning run</td>\n",
       "      <td>[sea, front, morning, run]</td>\n",
       "      <td>Room Loc</td>\n",
       "      <td>Meal Choice</td>\n",
       "    </tr>\n",
       "  </tbody>\n",
       "</table>\n",
       "</div>"
      ],
      "text/plain": [
       "                                  noun_phrases  \\\n",
       "21145                   frequent star bus town   \n",
       "15982              dinner service resource bit   \n",
       "7608    gem food beverage supervisor attentive   \n",
       "5883                          water guard pool   \n",
       "10013  full english vegetarian option fish ...   \n",
       "8555                  restaurant terrance club   \n",
       "310                         disney quality pay   \n",
       "13752             different end corridor issue   \n",
       "14948                  early check time.gave u   \n",
       "16801                    sea front morning run   \n",
       "\n",
       "                                         nouns           Topic Count  \\\n",
       "21145                        [star, bus, town]             Hotel Loc   \n",
       "15982         [dinner, service, resource, bit]         Customer Serv   \n",
       "7608   [gem, food, beverage, supervisor, at...                  Food   \n",
       "5883                      [water, guard, pool]         Leisure & Fac   \n",
       "10013                [option, fish, breakfast]              Room Fac   \n",
       "8555              [restaurant, terrance, club]            Restaurant   \n",
       "310                     [disney, quality, pay]                  Food   \n",
       "13752                   [end, corridor, issue]              Room Loc   \n",
       "14948                    [check, time.gave, u]  Parking & Facilities   \n",
       "16801               [sea, front, morning, run]              Room Loc   \n",
       "\n",
       "                Topic TFIDF  \n",
       "21145       Price & Quality  \n",
       "15982         Customer Serv  \n",
       "7608                   Food  \n",
       "5883          Leisure & Fac  \n",
       "10013       Price & Quality  \n",
       "8555             Restaurant  \n",
       "310         Price & Quality  \n",
       "13752            Restaurant  \n",
       "14948  Parking & Facilities  \n",
       "16801           Meal Choice  "
      ]
     },
     "execution_count": 165,
     "metadata": {},
     "output_type": "execute_result"
    }
   ],
   "source": [
    "# drop rows where there is only one noun\n",
    "accom_predict_final[\"len\"] = accom_predict_final[\"nouns\"].apply(lambda x: len(x))\n",
    "greater_one = accom_predict_final[accom_predict_final[\"len\"]>2]\n",
    "greater_one[[\"noun_phrases\",\"nouns\",\"Topic Count\",\"Topic TFIDF\"]].sample(10)"
   ]
  },
  {
   "cell_type": "code",
   "execution_count": 166,
   "metadata": {},
   "outputs": [
    {
     "data": {
      "text/plain": [
       "(5043, 11)"
      ]
     },
     "execution_count": 166,
     "metadata": {},
     "output_type": "execute_result"
    }
   ],
   "source": [
    "greater_one.shape"
   ]
  },
  {
   "cell_type": "markdown",
   "metadata": {},
   "source": [
    "Analysis:\n",
    "\n",
    "* the countvectorizer model seems to give more coherent topics than the tfidf model, which is interesting as NMF usually is expected to work better with the weighted tfidf vectorizer. \n",
    "* However, when applying the topics to the dataset above, both seem to get some things right and others wrong and both clearly seem to struggle when there is only one word to go on in the nouns data set, suggesting that when there is just one noun that the model may get it right if the word is something obvious like 'food' or 'staff' but has problems with unusual words like 'rhubarb'. \n",
    "* Therefore, the model does not seem to generalise well."
   ]
  },
  {
   "cell_type": "markdown",
   "metadata": {},
   "source": [
    "## Predict against new documents - accommodation"
   ]
  },
  {
   "cell_type": "code",
   "execution_count": 173,
   "metadata": {
    "scrolled": true
   },
   "outputs": [],
   "source": [
    "# Predict on test set - transform the joined nouns to a vector using the fitted vectorizer and then transform the vector using the fitted nmf weights\n",
    "vec_test = cv_accom.transform(accom_nouns_joined_test)\n",
    "predicted_test = pd.DataFrame(count_mod.transform(vec_test))\n",
    "predicted_test.columns = [\"Room Gen\",\"Hotel Gen\",\"Staff\",\"Food\",\"Leisure & Fac\",\"Customer Serv\",\"Family Fac\",\"Restaurant\",\"VFM\",\"Parking & Facilities\",\"Room Comf\",\n",
    "                         \"Room Fac\",\"Hotel Loc\",\"Room Loc\",\"Entertainment\",\"Visit Exp\"]\n",
    "predicted_test[\"TOP\"] = predicted_test.idxmax(axis=\"columns\")"
   ]
  },
  {
   "cell_type": "code",
   "execution_count": 196,
   "metadata": {
    "scrolled": true
   },
   "outputs": [
    {
     "data": {
      "text/html": [
       "<div>\n",
       "<style scoped>\n",
       "    .dataframe tbody tr th:only-of-type {\n",
       "        vertical-align: middle;\n",
       "    }\n",
       "\n",
       "    .dataframe tbody tr th {\n",
       "        vertical-align: top;\n",
       "    }\n",
       "\n",
       "    .dataframe thead th {\n",
       "        text-align: right;\n",
       "    }\n",
       "</style>\n",
       "<table border=\"1\" class=\"dataframe\">\n",
       "  <thead>\n",
       "    <tr style=\"text-align: right;\">\n",
       "      <th></th>\n",
       "      <th>OrigInd</th>\n",
       "      <th>Town</th>\n",
       "      <th>Rating</th>\n",
       "      <th>Sentence</th>\n",
       "      <th>cleaned</th>\n",
       "      <th>noun_phrases</th>\n",
       "      <th>nouns</th>\n",
       "      <th>Topic</th>\n",
       "      <th>len</th>\n",
       "    </tr>\n",
       "  </thead>\n",
       "  <tbody>\n",
       "    <tr>\n",
       "      <th>2557</th>\n",
       "      <td>884</td>\n",
       "      <td>Bognor</td>\n",
       "      <td>5</td>\n",
       "      <td>Faultless for a family  The Shorelin...</td>\n",
       "      <td>faultless family hotel butin absolut...</td>\n",
       "      <td>faultless family hotel butin</td>\n",
       "      <td>[family, hotel, butin]</td>\n",
       "      <td>Family Fac</td>\n",
       "      <td>3</td>\n",
       "    </tr>\n",
       "    <tr>\n",
       "      <th>4315</th>\n",
       "      <td>1809</td>\n",
       "      <td>Bognor</td>\n",
       "      <td>5</td>\n",
       "      <td>Great place to chill with the family...</td>\n",
       "      <td>great place chill family child first...</td>\n",
       "      <td>trip butin resort</td>\n",
       "      <td>[trip, butin, resort]</td>\n",
       "      <td>Visit Exp</td>\n",
       "      <td>3</td>\n",
       "    </tr>\n",
       "    <tr>\n",
       "      <th>3020</th>\n",
       "      <td>1048</td>\n",
       "      <td>Littlehampton</td>\n",
       "      <td>4</td>\n",
       "      <td>Fun filled family holiday  We got ho...</td>\n",
       "      <td>fun filled family holiday got home y...</td>\n",
       "      <td>monday friday stay weekend road</td>\n",
       "      <td>[monday, weekend, road]</td>\n",
       "      <td>Parking &amp; Facilities</td>\n",
       "      <td>3</td>\n",
       "    </tr>\n",
       "    <tr>\n",
       "      <th>2699</th>\n",
       "      <td>943</td>\n",
       "      <td>Littlehampton</td>\n",
       "      <td>5</td>\n",
       "      <td>Heaven but... First of all I have to...</td>\n",
       "      <td>heaven first say hotel wee slice heaven</td>\n",
       "      <td>hotel wee slice heaven</td>\n",
       "      <td>[hotel, wee, slice, heaven]</td>\n",
       "      <td>Hotel Gen</td>\n",
       "      <td>4</td>\n",
       "    </tr>\n",
       "    <tr>\n",
       "      <th>2342</th>\n",
       "      <td>795</td>\n",
       "      <td>Arundel</td>\n",
       "      <td>5</td>\n",
       "      <td>A fine traditional coaching inn. Cou...</td>\n",
       "      <td>moment parked hotel car park barrier...</td>\n",
       "      <td>hotel car park barrier ticket system</td>\n",
       "      <td>[hotel, car, park, barrier, ticket, ...</td>\n",
       "      <td>Parking &amp; Facilities</td>\n",
       "      <td>6</td>\n",
       "    </tr>\n",
       "  </tbody>\n",
       "</table>\n",
       "</div>"
      ],
      "text/plain": [
       "      OrigInd           Town  Rating                                 Sentence  \\\n",
       "2557      884         Bognor       5  Faultless for a family  The Shorelin...   \n",
       "4315     1809         Bognor       5  Great place to chill with the family...   \n",
       "3020     1048  Littlehampton       4  Fun filled family holiday  We got ho...   \n",
       "2699      943  Littlehampton       5  Heaven but... First of all I have to...   \n",
       "2342      795        Arundel       5  A fine traditional coaching inn. Cou...   \n",
       "\n",
       "                                      cleaned  \\\n",
       "2557  faultless family hotel butin absolut...   \n",
       "4315  great place chill family child first...   \n",
       "3020  fun filled family holiday got home y...   \n",
       "2699  heaven first say hotel wee slice heaven   \n",
       "2342  moment parked hotel car park barrier...   \n",
       "\n",
       "                              noun_phrases  \\\n",
       "2557          faultless family hotel butin   \n",
       "4315                     trip butin resort   \n",
       "3020       monday friday stay weekend road   \n",
       "2699                hotel wee slice heaven   \n",
       "2342  hotel car park barrier ticket system   \n",
       "\n",
       "                                        nouns                 Topic  len  \n",
       "2557                   [family, hotel, butin]            Family Fac    3  \n",
       "4315                    [trip, butin, resort]             Visit Exp    3  \n",
       "3020                  [monday, weekend, road]  Parking & Facilities    3  \n",
       "2699              [hotel, wee, slice, heaven]             Hotel Gen    4  \n",
       "2342  [hotel, car, park, barrier, ticket, ...  Parking & Facilities    6  "
      ]
     },
     "execution_count": 196,
     "metadata": {},
     "output_type": "execute_result"
    }
   ],
   "source": [
    "# Add predictions to the original test dataframe and drop those where there is just one noun\n",
    "predict_test_df = pd.DataFrame(df_accom_test[[\"OrigInd\",\"Town\",\"Rating\",\"all_text\",\"cleaned_sentences\",\"noun_phrases\",\"nouns\"]]).reset_index(drop = True)\n",
    "predictions_accom = pd.concat([predict_test_df,predicted_test[\"TOP\"]],axis = 1,ignore_index = True)\n",
    "predictions_accom.columns = [\"OrigInd\",\"Town\",\"Rating\",\"Sentence\",\"cleaned\",\"noun_phrases\",\"nouns\",\"Topic\"]\n",
    "predictions_accom[\"len\"] = predictions_accom[\"nouns\"].apply(lambda x: len(x))\n",
    "predictions_accom = predictions_accom[predictions_accom[\"len\"]>2]\n",
    "predictions_accom.sample(5,random_state = 1)"
   ]
  },
  {
   "cell_type": "markdown",
   "metadata": {},
   "source": [
    "## Run models for Food"
   ]
  },
  {
   "cell_type": "code",
   "execution_count": 320,
   "metadata": {
    "scrolled": true
   },
   "outputs": [],
   "source": [
    "# Reset model with different parameters - the solver 'mu' and beta_loss 'kullback-leibler' removes some crossover fuzziness with the term 'food service'\n",
    "# appearing in different topics\n",
    "\n",
    "def nmf(vectorizer,vector,num_topics):\n",
    "    nmf_model = NMF(n_components = num_topics, \n",
    "                    solver=\"mu\",\n",
    "                    init = 'nndsvd',\n",
    "                    alpha = 1.0,\n",
    "                    beta_loss= 'kullback-leibler',\n",
    "                    max_iter = 10000,\n",
    "                    )\n",
    "    \n",
    "    W = nmf_model.fit_transform(vector) # each column represents the weight of each word in a doc (w)\n",
    "    H = nmf_model.components_  # each row represents a word embedding (h) and is a weighting\n",
    "    \n",
    "    # Extract topics,features and weights\n",
    "    feature_names = np.array(vectorizer.get_feature_names())\n",
    "    feature_idxs = np.argsort(-H)\n",
    "    topics = [feature_names[idx] for idx in feature_idxs]\n",
    "    topics = pd.DataFrame(topics).T\n",
    "    topics.columns = [\"T\" + str(i) for i in range(1,num_topics+1)]\n",
    "    \n",
    "           \n",
    "    return topics,H,W,nmf_model"
   ]
  },
  {
   "cell_type": "markdown",
   "metadata": {},
   "source": [
    "### Countvectorizer NMF - Food"
   ]
  },
  {
   "cell_type": "code",
   "execution_count": 326,
   "metadata": {
    "scrolled": true
   },
   "outputs": [],
   "source": [
    "# Get countvectorizer nmf and tfidf nmf output - doc topics, H,W,and nmf fitted model (note num topics from LDA model of 20 too large, so try 14 which had\n",
    "# a similar coherence value)\n",
    "food_count_topics,H_food,W_food,count_mod2 = nmf(cv_food,vec1_food,10)\n",
    "food_tfidf_topics,H_food_tfidf,W_food_tfidf,tfidf_mod2 = nmf(tfidf_food,vec2_food,10)"
   ]
  },
  {
   "cell_type": "code",
   "execution_count": 322,
   "metadata": {
    "scrolled": true
   },
   "outputs": [
    {
     "data": {
      "text/html": [
       "<div>\n",
       "<style scoped>\n",
       "    .dataframe tbody tr th:only-of-type {\n",
       "        vertical-align: middle;\n",
       "    }\n",
       "\n",
       "    .dataframe tbody tr th {\n",
       "        vertical-align: top;\n",
       "    }\n",
       "\n",
       "    .dataframe thead th {\n",
       "        text-align: right;\n",
       "    }\n",
       "</style>\n",
       "<table border=\"1\" class=\"dataframe\">\n",
       "  <thead>\n",
       "    <tr style=\"text-align: right;\">\n",
       "      <th></th>\n",
       "      <th>T1</th>\n",
       "      <th>T2</th>\n",
       "      <th>T3</th>\n",
       "      <th>T4</th>\n",
       "      <th>T5</th>\n",
       "      <th>T6</th>\n",
       "      <th>T7</th>\n",
       "      <th>T8</th>\n",
       "      <th>T9</th>\n",
       "      <th>T10</th>\n",
       "    </tr>\n",
       "  </thead>\n",
       "  <tbody>\n",
       "    <tr>\n",
       "      <th>0</th>\n",
       "      <td>food</td>\n",
       "      <td>service</td>\n",
       "      <td>staff</td>\n",
       "      <td>meal</td>\n",
       "      <td>menu</td>\n",
       "      <td>value</td>\n",
       "      <td>visit</td>\n",
       "      <td>quality</td>\n",
       "      <td>drink</td>\n",
       "      <td>table</td>\n",
       "    </tr>\n",
       "    <tr>\n",
       "      <th>1</th>\n",
       "      <td>good</td>\n",
       "      <td>customer</td>\n",
       "      <td>owner</td>\n",
       "      <td>steak</td>\n",
       "      <td>choice</td>\n",
       "      <td>money</td>\n",
       "      <td>experience</td>\n",
       "      <td>price</td>\n",
       "      <td>order</td>\n",
       "      <td>atmosphere</td>\n",
       "    </tr>\n",
       "    <tr>\n",
       "      <th>2</th>\n",
       "      <td>superb</td>\n",
       "      <td>food service</td>\n",
       "      <td>chef</td>\n",
       "      <td>pie</td>\n",
       "      <td>starter</td>\n",
       "      <td>value money</td>\n",
       "      <td>wife</td>\n",
       "      <td>portion</td>\n",
       "      <td>chicken</td>\n",
       "      <td>saturday</td>\n",
       "    </tr>\n",
       "    <tr>\n",
       "      <th>3</th>\n",
       "      <td>ok</td>\n",
       "      <td>waitress</td>\n",
       "      <td>member</td>\n",
       "      <td>christmas</td>\n",
       "      <td>course</td>\n",
       "      <td>tasty</td>\n",
       "      <td>area</td>\n",
       "      <td>tea</td>\n",
       "      <td>burger</td>\n",
       "      <td>plate</td>\n",
       "    </tr>\n",
       "    <tr>\n",
       "      <th>4</th>\n",
       "      <td>occasion</td>\n",
       "      <td>service food</td>\n",
       "      <td>attentive</td>\n",
       "      <td>husband</td>\n",
       "      <td>dish</td>\n",
       "      <td>location</td>\n",
       "      <td>lamb</td>\n",
       "      <td>fish</td>\n",
       "      <td>coffee</td>\n",
       "      <td>view</td>\n",
       "    </tr>\n",
       "    <tr>\n",
       "      <th>5</th>\n",
       "      <td>shame</td>\n",
       "      <td>waiter</td>\n",
       "      <td>helpful</td>\n",
       "      <td>work</td>\n",
       "      <td>beef</td>\n",
       "      <td>decor</td>\n",
       "      <td>cafe</td>\n",
       "      <td>size</td>\n",
       "      <td>bit</td>\n",
       "      <td>need</td>\n",
       "    </tr>\n",
       "    <tr>\n",
       "      <th>6</th>\n",
       "      <td>food good</td>\n",
       "      <td>customer service</td>\n",
       "      <td>dog</td>\n",
       "      <td>end</td>\n",
       "      <td>option</td>\n",
       "      <td>venue</td>\n",
       "      <td>way</td>\n",
       "      <td>meat</td>\n",
       "      <td>selection</td>\n",
       "      <td>room</td>\n",
       "    </tr>\n",
       "    <tr>\n",
       "      <th>7</th>\n",
       "      <td>wait</td>\n",
       "      <td>star</td>\n",
       "      <td>house</td>\n",
       "      <td>egg</td>\n",
       "      <td>pizza</td>\n",
       "      <td>gem</td>\n",
       "      <td>curry</td>\n",
       "      <td>quality food</td>\n",
       "      <td>wine</td>\n",
       "      <td>book</td>\n",
       "    </tr>\n",
       "    <tr>\n",
       "      <th>8</th>\n",
       "      <td>fab</td>\n",
       "      <td>spot</td>\n",
       "      <td>manager</td>\n",
       "      <td>celebration</td>\n",
       "      <td>dessert</td>\n",
       "      <td>ambience</td>\n",
       "      <td>year</td>\n",
       "      <td>taste</td>\n",
       "      <td>people</td>\n",
       "      <td>river</td>\n",
       "    </tr>\n",
       "    <tr>\n",
       "      <th>9</th>\n",
       "      <td>average</td>\n",
       "      <td>guy</td>\n",
       "      <td>team</td>\n",
       "      <td>sea</td>\n",
       "      <td>party</td>\n",
       "      <td>toilet</td>\n",
       "      <td>return</td>\n",
       "      <td>flavour</td>\n",
       "      <td>beer</td>\n",
       "      <td>plenty</td>\n",
       "    </tr>\n",
       "  </tbody>\n",
       "</table>\n",
       "</div>"
      ],
      "text/plain": [
       "          T1                T2         T3           T4       T5           T6  \\\n",
       "0       food           service      staff         meal     menu        value   \n",
       "1       good          customer      owner        steak   choice        money   \n",
       "2     superb      food service       chef          pie  starter  value money   \n",
       "3         ok          waitress     member    christmas   course        tasty   \n",
       "4   occasion      service food  attentive      husband     dish     location   \n",
       "5      shame            waiter    helpful         work     beef        decor   \n",
       "6  food good  customer service        dog          end   option        venue   \n",
       "7       wait              star      house          egg    pizza          gem   \n",
       "8        fab              spot    manager  celebration  dessert     ambience   \n",
       "9    average               guy       team          sea    party       toilet   \n",
       "\n",
       "           T7            T8         T9         T10  \n",
       "0       visit       quality      drink       table  \n",
       "1  experience         price      order  atmosphere  \n",
       "2        wife       portion    chicken    saturday  \n",
       "3        area           tea     burger       plate  \n",
       "4        lamb          fish     coffee        view  \n",
       "5        cafe          size        bit        need  \n",
       "6         way          meat  selection        room  \n",
       "7       curry  quality food       wine        book  \n",
       "8        year         taste     people       river  \n",
       "9      return       flavour       beer      plenty  "
      ]
     },
     "execution_count": 322,
     "metadata": {},
     "output_type": "execute_result"
    }
   ],
   "source": [
    "pd.set_option('max_colwidth', 20)\n",
    "food_count_topics.head(10)"
   ]
  },
  {
   "cell_type": "code",
   "execution_count": 323,
   "metadata": {
    "scrolled": true
   },
   "outputs": [],
   "source": [
    "# Apply inferred topics to documents with the associated weights\n",
    "pd.options.display.float_format = '{:,.3f}'.format\n",
    "food_count_df = pd.DataFrame(W_food)\n",
    "food_count_df.columns = [\"Food\",\"Service\",\"StaffGen\",\"MealExp\",\"Menu\",\"VFM\",\"VisitExp\",\"Quality\",\"Drinks&Ordering\",\n",
    "                        \"Booking&Table\"]\n",
    "food_count_df[\"Top\"] = food_count_df.idxmax(axis=\"columns\")\n",
    "#topics_per_doc_accom_count.head()"
   ]
  },
  {
   "cell_type": "code",
   "execution_count": 324,
   "metadata": {
    "scrolled": true
   },
   "outputs": [
    {
     "data": {
      "text/html": [
       "<div>\n",
       "<style scoped>\n",
       "    .dataframe tbody tr th:only-of-type {\n",
       "        vertical-align: middle;\n",
       "    }\n",
       "\n",
       "    .dataframe tbody tr th {\n",
       "        vertical-align: top;\n",
       "    }\n",
       "\n",
       "    .dataframe thead th {\n",
       "        text-align: right;\n",
       "    }\n",
       "</style>\n",
       "<table border=\"1\" class=\"dataframe\">\n",
       "  <thead>\n",
       "    <tr style=\"text-align: right;\">\n",
       "      <th></th>\n",
       "      <th>OrigInd</th>\n",
       "      <th>Category</th>\n",
       "      <th>Town</th>\n",
       "      <th>Rating</th>\n",
       "      <th>all_text</th>\n",
       "      <th>cleaned</th>\n",
       "      <th>noun_phrases</th>\n",
       "      <th>nouns</th>\n",
       "      <th>Topic Count</th>\n",
       "    </tr>\n",
       "  </thead>\n",
       "  <tbody>\n",
       "    <tr>\n",
       "      <th>27900</th>\n",
       "      <td>7671</td>\n",
       "      <td>Food</td>\n",
       "      <td>Bognor</td>\n",
       "      <td>5</td>\n",
       "      <td>Fantastic place! Great place.... fan...</td>\n",
       "      <td>nothing much trouble staff went way ...</td>\n",
       "      <td>accommodate need requirement</td>\n",
       "      <td>[accommodate]</td>\n",
       "      <td>Booking&amp;Table</td>\n",
       "    </tr>\n",
       "    <tr>\n",
       "      <th>25437</th>\n",
       "      <td>7191</td>\n",
       "      <td>Food</td>\n",
       "      <td>Bognor</td>\n",
       "      <td>2</td>\n",
       "      <td>Nice peaceful afternoon  A nice plac...</td>\n",
       "      <td>really could not believe sight mind age</td>\n",
       "      <td>sight mind age</td>\n",
       "      <td>[sight, mind, age]</td>\n",
       "      <td>Food</td>\n",
       "    </tr>\n",
       "    <tr>\n",
       "      <th>21871</th>\n",
       "      <td>6497</td>\n",
       "      <td>Food</td>\n",
       "      <td>Bognor</td>\n",
       "      <td>4</td>\n",
       "      <td>Very good pizza but better not come ...</td>\n",
       "      <td>main issue cook hard serving everyon...</td>\n",
       "      <td>hard serving</td>\n",
       "      <td>[serving]</td>\n",
       "      <td>Food</td>\n",
       "    </tr>\n",
       "    <tr>\n",
       "      <th>24966</th>\n",
       "      <td>7089</td>\n",
       "      <td>Food</td>\n",
       "      <td>Bognor</td>\n",
       "      <td>4</td>\n",
       "      <td>Great atmosphere We visited in a gro...</td>\n",
       "      <td>loud full music great</td>\n",
       "      <td>loud full music</td>\n",
       "      <td>[music]</td>\n",
       "      <td>StaffGen</td>\n",
       "    </tr>\n",
       "    <tr>\n",
       "      <th>29142</th>\n",
       "      <td>7902</td>\n",
       "      <td>Food</td>\n",
       "      <td>Littlehampton</td>\n",
       "      <td>5</td>\n",
       "      <td>Delicious food, lovely helpful staff...</td>\n",
       "      <td>enjoyed main bottle wine desert coff...</td>\n",
       "      <td>aspect evening</td>\n",
       "      <td>[aspect, evening]</td>\n",
       "      <td>Menu</td>\n",
       "    </tr>\n",
       "  </tbody>\n",
       "</table>\n",
       "</div>"
      ],
      "text/plain": [
       "       OrigInd Category           Town  Rating  \\\n",
       "27900     7671     Food         Bognor       5   \n",
       "25437     7191     Food         Bognor       2   \n",
       "21871     6497     Food         Bognor       4   \n",
       "24966     7089     Food         Bognor       4   \n",
       "29142     7902     Food  Littlehampton       5   \n",
       "\n",
       "                                      all_text  \\\n",
       "27900  Fantastic place! Great place.... fan...   \n",
       "25437  Nice peaceful afternoon  A nice plac...   \n",
       "21871  Very good pizza but better not come ...   \n",
       "24966  Great atmosphere We visited in a gro...   \n",
       "29142  Delicious food, lovely helpful staff...   \n",
       "\n",
       "                                       cleaned                  noun_phrases  \\\n",
       "27900  nothing much trouble staff went way ...  accommodate need requirement   \n",
       "25437  really could not believe sight mind age                sight mind age   \n",
       "21871  main issue cook hard serving everyon...                  hard serving   \n",
       "24966                    loud full music great               loud full music   \n",
       "29142  enjoyed main bottle wine desert coff...                aspect evening   \n",
       "\n",
       "                    nouns    Topic Count  \n",
       "27900       [accommodate]  Booking&Table  \n",
       "25437  [sight, mind, age]           Food  \n",
       "21871           [serving]           Food  \n",
       "24966             [music]       StaffGen  \n",
       "29142   [aspect, evening]           Menu  "
      ]
     },
     "execution_count": 324,
     "metadata": {},
     "output_type": "execute_result"
    }
   ],
   "source": [
    "# Add the most likely countvectorizer topic to the review dataframe\n",
    "predict_count_food = pd.DataFrame(df_food[[\"OrigInd\",\"Category\",\"Town\",\"Rating\",\"all_text\",\"cleaned_sentences\",\"noun_phrases\",\"nouns\"]]).reset_index(drop = True)\n",
    "food_predict_count = pd.concat([predict_count_food,food_count_df[\"Top\"]],axis = 1,ignore_index = True)\n",
    "food_predict_count.columns = [\"OrigInd\",\"Category\",\"Town\",\"Rating\",\"all_text\",\"cleaned\",\"noun_phrases\",\"nouns\",\"Topic Count\"]\n",
    "pd.set_option('max_colwidth',40)\n",
    "food_predict_count.sample(5)"
   ]
  },
  {
   "cell_type": "code",
   "execution_count": 325,
   "metadata": {
    "scrolled": true
   },
   "outputs": [
    {
     "data": {
      "text/plain": [
       "Food               7777\n",
       "Drinks&Ordering    4030\n",
       "VisitExp           3825\n",
       "StaffGen           3340\n",
       "Service            3190\n",
       "Menu               3119\n",
       "MealExp            3097\n",
       "Quality            2675\n",
       "Booking&Table      2495\n",
       "VFM                1718\n",
       "Name: Topic Count, dtype: int64"
      ]
     },
     "execution_count": 325,
     "metadata": {},
     "output_type": "execute_result"
    }
   ],
   "source": [
    "food_predict_count[\"Topic Count\"].value_counts()"
   ]
  },
  {
   "cell_type": "markdown",
   "metadata": {},
   "source": [
    "### TFIDF NMF - Food"
   ]
  },
  {
   "cell_type": "code",
   "execution_count": 327,
   "metadata": {
    "scrolled": true
   },
   "outputs": [
    {
     "data": {
      "text/html": [
       "<div>\n",
       "<style scoped>\n",
       "    .dataframe tbody tr th:only-of-type {\n",
       "        vertical-align: middle;\n",
       "    }\n",
       "\n",
       "    .dataframe tbody tr th {\n",
       "        vertical-align: top;\n",
       "    }\n",
       "\n",
       "    .dataframe thead th {\n",
       "        text-align: right;\n",
       "    }\n",
       "</style>\n",
       "<table border=\"1\" class=\"dataframe\">\n",
       "  <thead>\n",
       "    <tr style=\"text-align: right;\">\n",
       "      <th></th>\n",
       "      <th>T1</th>\n",
       "      <th>T2</th>\n",
       "      <th>T3</th>\n",
       "      <th>T4</th>\n",
       "      <th>T5</th>\n",
       "      <th>T6</th>\n",
       "      <th>T7</th>\n",
       "      <th>T8</th>\n",
       "      <th>T9</th>\n",
       "      <th>T10</th>\n",
       "    </tr>\n",
       "  </thead>\n",
       "  <tbody>\n",
       "    <tr>\n",
       "      <th>0</th>\n",
       "      <td>food</td>\n",
       "      <td>service</td>\n",
       "      <td>staff</td>\n",
       "      <td>meal</td>\n",
       "      <td>menu</td>\n",
       "      <td>visit</td>\n",
       "      <td>value</td>\n",
       "      <td>price</td>\n",
       "      <td>table</td>\n",
       "      <td>experience</td>\n",
       "    </tr>\n",
       "    <tr>\n",
       "      <th>1</th>\n",
       "      <td>beer</td>\n",
       "      <td>customer</td>\n",
       "      <td>atmosphere</td>\n",
       "      <td>steak</td>\n",
       "      <td>choice</td>\n",
       "      <td>area</td>\n",
       "      <td>tasty</td>\n",
       "      <td>quality</td>\n",
       "      <td>order</td>\n",
       "      <td>people</td>\n",
       "    </tr>\n",
       "    <tr>\n",
       "      <th>2</th>\n",
       "      <td>superb</td>\n",
       "      <td>food service</td>\n",
       "      <td>work</td>\n",
       "      <td>christmas</td>\n",
       "      <td>course</td>\n",
       "      <td>cafe</td>\n",
       "      <td>money</td>\n",
       "      <td>drink</td>\n",
       "      <td>coffee</td>\n",
       "      <td>wife</td>\n",
       "    </tr>\n",
       "    <tr>\n",
       "      <th>3</th>\n",
       "      <td>good</td>\n",
       "      <td>service food</td>\n",
       "      <td>attentive</td>\n",
       "      <td>pie</td>\n",
       "      <td>dish</td>\n",
       "      <td>year</td>\n",
       "      <td>location</td>\n",
       "      <td>portion</td>\n",
       "      <td>bit</td>\n",
       "      <td>fish</td>\n",
       "    </tr>\n",
       "    <tr>\n",
       "      <th>4</th>\n",
       "      <td>ok</td>\n",
       "      <td>waiter</td>\n",
       "      <td>helpful</td>\n",
       "      <td>husband</td>\n",
       "      <td>starter</td>\n",
       "      <td>lamb</td>\n",
       "      <td>value money</td>\n",
       "      <td>burger</td>\n",
       "      <td>waitress</td>\n",
       "      <td>owner</td>\n",
       "    </tr>\n",
       "    <tr>\n",
       "      <th>5</th>\n",
       "      <td>quality food</td>\n",
       "      <td>flavour</td>\n",
       "      <td>member</td>\n",
       "      <td>home</td>\n",
       "      <td>selection</td>\n",
       "      <td>dog</td>\n",
       "      <td>decor</td>\n",
       "      <td>chicken</td>\n",
       "      <td>saturday</td>\n",
       "      <td>chef</td>\n",
       "    </tr>\n",
       "    <tr>\n",
       "      <th>6</th>\n",
       "      <td>ambience</td>\n",
       "      <td>customer service</td>\n",
       "      <td>manager</td>\n",
       "      <td>partner</td>\n",
       "      <td>beef</td>\n",
       "      <td>return</td>\n",
       "      <td>room</td>\n",
       "      <td>wine</td>\n",
       "      <td>plate</td>\n",
       "      <td>meat</td>\n",
       "    </tr>\n",
       "    <tr>\n",
       "      <th>7</th>\n",
       "      <td>prawn</td>\n",
       "      <td>class</td>\n",
       "      <td>house</td>\n",
       "      <td>celebration</td>\n",
       "      <td>option</td>\n",
       "      <td>walk</td>\n",
       "      <td>afternoon</td>\n",
       "      <td>pizza</td>\n",
       "      <td>side</td>\n",
       "      <td>taste</td>\n",
       "    </tr>\n",
       "    <tr>\n",
       "      <th>8</th>\n",
       "      <td>food good</td>\n",
       "      <td>fault</td>\n",
       "      <td>management</td>\n",
       "      <td>son</td>\n",
       "      <td>party</td>\n",
       "      <td>week</td>\n",
       "      <td>curry</td>\n",
       "      <td>size</td>\n",
       "      <td>couple</td>\n",
       "      <td>occasion</td>\n",
       "    </tr>\n",
       "    <tr>\n",
       "      <th>9</th>\n",
       "      <td>horse</td>\n",
       "      <td>man</td>\n",
       "      <td>rude</td>\n",
       "      <td>ate</td>\n",
       "      <td>way</td>\n",
       "      <td>daughter</td>\n",
       "      <td>carvery</td>\n",
       "      <td>lady</td>\n",
       "      <td>bread</td>\n",
       "      <td>team</td>\n",
       "    </tr>\n",
       "  </tbody>\n",
       "</table>\n",
       "</div>"
      ],
      "text/plain": [
       "             T1                T2          T3           T4         T5  \\\n",
       "0          food           service       staff         meal       menu   \n",
       "1          beer          customer  atmosphere        steak     choice   \n",
       "2        superb      food service        work    christmas     course   \n",
       "3          good      service food   attentive          pie       dish   \n",
       "4            ok            waiter     helpful      husband    starter   \n",
       "5  quality food           flavour      member         home  selection   \n",
       "6      ambience  customer service     manager      partner       beef   \n",
       "7         prawn             class       house  celebration     option   \n",
       "8     food good             fault  management          son      party   \n",
       "9         horse               man        rude          ate        way   \n",
       "\n",
       "         T6           T7       T8        T9         T10  \n",
       "0     visit        value    price     table  experience  \n",
       "1      area        tasty  quality     order      people  \n",
       "2      cafe        money    drink    coffee        wife  \n",
       "3      year     location  portion       bit        fish  \n",
       "4      lamb  value money   burger  waitress       owner  \n",
       "5       dog        decor  chicken  saturday        chef  \n",
       "6    return         room     wine     plate        meat  \n",
       "7      walk    afternoon    pizza      side       taste  \n",
       "8      week        curry     size    couple    occasion  \n",
       "9  daughter      carvery     lady     bread        team  "
      ]
     },
     "execution_count": 327,
     "metadata": {},
     "output_type": "execute_result"
    }
   ],
   "source": [
    "food_tfidf_topics.head(10)"
   ]
  },
  {
   "cell_type": "code",
   "execution_count": 328,
   "metadata": {
    "scrolled": true
   },
   "outputs": [],
   "source": [
    "# Apply inferred topics to documents with the associated weights\n",
    "pd.options.display.float_format = '{:,.3f}'.format\n",
    "food_tfidf_df = pd.DataFrame(W_food_tfidf)\n",
    "food_tfidf_df.columns = [\"Food\",\"Service\",\"StaffGen\",\"MealExp\",\"Menu&Choice\",\"VisitExp\",\"Value\",\"Price&Quality\",\"Table&Ordering\",\"GenExp\"]\n",
    "                          \n",
    "food_tfidf_df[\"Top\"] = food_tfidf_df.idxmax(axis=\"columns\")\n",
    "#topics_per_doc_accom_count.head()"
   ]
  },
  {
   "cell_type": "code",
   "execution_count": 336,
   "metadata": {
    "scrolled": true
   },
   "outputs": [],
   "source": [
    "# Add the most likely tfidf topic to the review and conat the two top topics to the original dataframe\n",
    "predict_tfidf_food = pd.DataFrame(df_food[[\"OrigInd\",\"Town\",\"Rating\",\"all_text\",\"cleaned_sentences\",\"noun_phrases\",\"nouns\"]]).reset_index(drop = True)\n",
    "food_predict_final = pd.concat([food_predict_count,food_tfidf_df[\"Top\"]],axis = 1,ignore_index = True)\n",
    "food_predict_final.columns = [\"OrigInd\",\"Category\",\"Town\",\"Rating\",\"all_text\",\"cleaned_sentences\",\"noun_phrases\",\"nouns\",\"Topic Count\",\"Topic TFIDF\"]"
   ]
  },
  {
   "cell_type": "code",
   "execution_count": 338,
   "metadata": {
    "scrolled": true
   },
   "outputs": [
    {
     "data": {
      "text/html": [
       "<div>\n",
       "<style scoped>\n",
       "    .dataframe tbody tr th:only-of-type {\n",
       "        vertical-align: middle;\n",
       "    }\n",
       "\n",
       "    .dataframe tbody tr th {\n",
       "        vertical-align: top;\n",
       "    }\n",
       "\n",
       "    .dataframe thead th {\n",
       "        text-align: right;\n",
       "    }\n",
       "</style>\n",
       "<table border=\"1\" class=\"dataframe\">\n",
       "  <thead>\n",
       "    <tr style=\"text-align: right;\">\n",
       "      <th></th>\n",
       "      <th>OrigInd</th>\n",
       "      <th>Category</th>\n",
       "      <th>Town</th>\n",
       "      <th>Rating</th>\n",
       "      <th>all_text</th>\n",
       "      <th>cleaned_sentences</th>\n",
       "      <th>noun_phrases</th>\n",
       "      <th>nouns</th>\n",
       "      <th>Topic Count</th>\n",
       "      <th>Topic TFIDF</th>\n",
       "    </tr>\n",
       "  </thead>\n",
       "  <tbody>\n",
       "    <tr>\n",
       "      <th>34779</th>\n",
       "      <td>9053</td>\n",
       "      <td>Food</td>\n",
       "      <td>Bognor</td>\n",
       "      <td>5</td>\n",
       "      <td>Warm welcome - guaranteed!...</td>\n",
       "      <td>many thanks orhan neil tea...</td>\n",
       "      <td>thanks orhan neil team</td>\n",
       "      <td>[thanks, team]</td>\n",
       "      <td>StaffGen</td>\n",
       "      <td>GenExp</td>\n",
       "    </tr>\n",
       "    <tr>\n",
       "      <th>35229</th>\n",
       "      <td>9161</td>\n",
       "      <td>Food</td>\n",
       "      <td>Littlehampton</td>\n",
       "      <td>3</td>\n",
       "      <td>Drink only Stopped for a d...</td>\n",
       "      <td>drink stopped drink shoppi...</td>\n",
       "      <td>service staff</td>\n",
       "      <td>[service, staff]</td>\n",
       "      <td>Service</td>\n",
       "      <td>StaffGen</td>\n",
       "    </tr>\n",
       "    <tr>\n",
       "      <th>35120</th>\n",
       "      <td>9140</td>\n",
       "      <td>Food</td>\n",
       "      <td>Littlehampton</td>\n",
       "      <td>5</td>\n",
       "      <td>Good coffee Very good qual...</td>\n",
       "      <td>good coffee good quality c...</td>\n",
       "      <td>good coffee good quality</td>\n",
       "      <td>[coffee, quality]</td>\n",
       "      <td>Quality</td>\n",
       "      <td>Table&amp;Ordering</td>\n",
       "    </tr>\n",
       "    <tr>\n",
       "      <th>5565</th>\n",
       "      <td>3466</td>\n",
       "      <td>Food</td>\n",
       "      <td>Littlehampton</td>\n",
       "      <td>2</td>\n",
       "      <td>So disappointing Every cou...</td>\n",
       "      <td>kept waiting order meal go...</td>\n",
       "      <td>order meal</td>\n",
       "      <td>[order, meal]</td>\n",
       "      <td>MealExp</td>\n",
       "      <td>Table&amp;Ordering</td>\n",
       "    </tr>\n",
       "    <tr>\n",
       "      <th>21552</th>\n",
       "      <td>6440</td>\n",
       "      <td>Food</td>\n",
       "      <td>Arundel</td>\n",
       "      <td>1</td>\n",
       "      <td>Horrendous on every level ...</td>\n",
       "      <td>half hour later middle tow...</td>\n",
       "      <td>middle town car</td>\n",
       "      <td>[town, car]</td>\n",
       "      <td>VisitExp</td>\n",
       "      <td>VisitExp</td>\n",
       "    </tr>\n",
       "  </tbody>\n",
       "</table>\n",
       "</div>"
      ],
      "text/plain": [
       "       OrigInd Category           Town  Rating                       all_text  \\\n",
       "34779     9053     Food         Bognor       5  Warm welcome - guaranteed!...   \n",
       "35229     9161     Food  Littlehampton       3  Drink only Stopped for a d...   \n",
       "35120     9140     Food  Littlehampton       5  Good coffee Very good qual...   \n",
       "5565      3466     Food  Littlehampton       2  So disappointing Every cou...   \n",
       "21552     6440     Food        Arundel       1  Horrendous on every level ...   \n",
       "\n",
       "                   cleaned_sentences              noun_phrases  \\\n",
       "34779  many thanks orhan neil tea...    thanks orhan neil team   \n",
       "35229  drink stopped drink shoppi...             service staff   \n",
       "35120  good coffee good quality c...  good coffee good quality   \n",
       "5565   kept waiting order meal go...                order meal   \n",
       "21552  half hour later middle tow...           middle town car   \n",
       "\n",
       "                   nouns Topic Count     Topic TFIDF  \n",
       "34779     [thanks, team]    StaffGen          GenExp  \n",
       "35229   [service, staff]     Service        StaffGen  \n",
       "35120  [coffee, quality]     Quality  Table&Ordering  \n",
       "5565       [order, meal]     MealExp  Table&Ordering  \n",
       "21552        [town, car]    VisitExp        VisitExp  "
      ]
     },
     "execution_count": 338,
     "metadata": {},
     "output_type": "execute_result"
    }
   ],
   "source": [
    "pd.set_option('max_colwidth', 30)\n",
    "food_predict_final.sample(5)"
   ]
  },
  {
   "cell_type": "markdown",
   "metadata": {},
   "source": [
    "Again the countvectorizer seems to be providing slightly better results"
   ]
  },
  {
   "cell_type": "markdown",
   "metadata": {},
   "source": [
    "## Predict against new documents - food"
   ]
  },
  {
   "cell_type": "code",
   "execution_count": 348,
   "metadata": {
    "scrolled": true
   },
   "outputs": [],
   "source": [
    "# Predict on test set - transform the joined nouns to a vector using the fitted vectorizer and then transform the vector using the fitted nmf weights\n",
    "vec_test2 = cv_food.transform(food_nouns_joined_test)\n",
    "predicted_test2 = pd.DataFrame(count_mod2.transform(vec_test2))\n",
    "predicted_test2.columns = [\"Food\",\"Service\",\"StaffGen\",\"MealExp\",\"Menu\",\"VFM\",\"VisitExp\",\"Quality\",\"Drinks&Ordering\",\n",
    "                        \"Booking&Table\"]\n",
    "predicted_test2[\"Topic Count\"] = predicted_test2.idxmax(axis=\"columns\")"
   ]
  },
  {
   "cell_type": "code",
   "execution_count": 351,
   "metadata": {
    "scrolled": true
   },
   "outputs": [
    {
     "data": {
      "text/html": [
       "<div>\n",
       "<style scoped>\n",
       "    .dataframe tbody tr th:only-of-type {\n",
       "        vertical-align: middle;\n",
       "    }\n",
       "\n",
       "    .dataframe tbody tr th {\n",
       "        vertical-align: top;\n",
       "    }\n",
       "\n",
       "    .dataframe thead th {\n",
       "        text-align: right;\n",
       "    }\n",
       "</style>\n",
       "<table border=\"1\" class=\"dataframe\">\n",
       "  <thead>\n",
       "    <tr style=\"text-align: right;\">\n",
       "      <th></th>\n",
       "      <th>OrigInd</th>\n",
       "      <th>Town</th>\n",
       "      <th>Rating</th>\n",
       "      <th>Sentence</th>\n",
       "      <th>cleaned_sentences</th>\n",
       "      <th>noun_phrases</th>\n",
       "      <th>nouns</th>\n",
       "      <th>Topic</th>\n",
       "      <th>len</th>\n",
       "    </tr>\n",
       "  </thead>\n",
       "  <tbody>\n",
       "    <tr>\n",
       "      <th>7580</th>\n",
       "      <td>8119</td>\n",
       "      <td>Bognor</td>\n",
       "      <td>5</td>\n",
       "      <td>Lovely little cafe Ate her...</td>\n",
       "      <td>lovely little cafe great m...</td>\n",
       "      <td>friendly efficient staff g...</td>\n",
       "      <td>[staff, value, money]</td>\n",
       "      <td>VFM</td>\n",
       "      <td>3</td>\n",
       "    </tr>\n",
       "    <tr>\n",
       "      <th>4761</th>\n",
       "      <td>5987</td>\n",
       "      <td>Arundel</td>\n",
       "      <td>3</td>\n",
       "      <td>Alright  We went for a mou...</td>\n",
       "      <td>big queue toilet baby napp...</td>\n",
       "      <td>big queue toilet baby nappy</td>\n",
       "      <td>[queue, toilet, baby]</td>\n",
       "      <td>VFM</td>\n",
       "      <td>3</td>\n",
       "    </tr>\n",
       "    <tr>\n",
       "      <th>3498</th>\n",
       "      <td>4942</td>\n",
       "      <td>Littlehampton</td>\n",
       "      <td>5</td>\n",
       "      <td>Really impressed Came out ...</td>\n",
       "      <td>lamb burger feta tzatziki ...</td>\n",
       "      <td>mozzarella chicken curry b...</td>\n",
       "      <td>[mozzarella, chicken, curr...</td>\n",
       "      <td>Drinks&amp;Ordering</td>\n",
       "      <td>5</td>\n",
       "    </tr>\n",
       "    <tr>\n",
       "      <th>2728</th>\n",
       "      <td>4411</td>\n",
       "      <td>Arundel</td>\n",
       "      <td>5</td>\n",
       "      <td>Way above our expectations...</td>\n",
       "      <td>part pub chain catering la...</td>\n",
       "      <td>different age taste budget</td>\n",
       "      <td>[age, taste, budget]</td>\n",
       "      <td>MealExp</td>\n",
       "      <td>3</td>\n",
       "    </tr>\n",
       "    <tr>\n",
       "      <th>7012</th>\n",
       "      <td>7651</td>\n",
       "      <td>Bognor</td>\n",
       "      <td>3</td>\n",
       "      <td>Two visits in one weekend!...</td>\n",
       "      <td>dessert eton mess crime br...</td>\n",
       "      <td>dessert eton mess crime br...</td>\n",
       "      <td>[eton, mess, crime, brulee]</td>\n",
       "      <td>MealExp</td>\n",
       "      <td>4</td>\n",
       "    </tr>\n",
       "  </tbody>\n",
       "</table>\n",
       "</div>"
      ],
      "text/plain": [
       "      OrigInd           Town  Rating                       Sentence  \\\n",
       "7580     8119         Bognor       5  Lovely little cafe Ate her...   \n",
       "4761     5987        Arundel       3  Alright  We went for a mou...   \n",
       "3498     4942  Littlehampton       5  Really impressed Came out ...   \n",
       "2728     4411        Arundel       5  Way above our expectations...   \n",
       "7012     7651         Bognor       3  Two visits in one weekend!...   \n",
       "\n",
       "                  cleaned_sentences                   noun_phrases  \\\n",
       "7580  lovely little cafe great m...  friendly efficient staff g...   \n",
       "4761  big queue toilet baby napp...    big queue toilet baby nappy   \n",
       "3498  lamb burger feta tzatziki ...  mozzarella chicken curry b...   \n",
       "2728  part pub chain catering la...     different age taste budget   \n",
       "7012  dessert eton mess crime br...  dessert eton mess crime br...   \n",
       "\n",
       "                              nouns            Topic  len  \n",
       "7580          [staff, value, money]              VFM    3  \n",
       "4761          [queue, toilet, baby]              VFM    3  \n",
       "3498  [mozzarella, chicken, curr...  Drinks&Ordering    5  \n",
       "2728           [age, taste, budget]          MealExp    3  \n",
       "7012    [eton, mess, crime, brulee]          MealExp    4  "
      ]
     },
     "execution_count": 351,
     "metadata": {},
     "output_type": "execute_result"
    }
   ],
   "source": [
    "predict_test2_df = pd.DataFrame(df_food_test[[\"OrigInd\",\"Town\",\"Rating\",\"all_text\",\"cleaned_sentences\",\"noun_phrases\",\"nouns\"]]).reset_index(drop = True)\n",
    "predictions_food = pd.concat([predict_test2_df,predicted_test2[\"Topic Count\"]],axis = 1,ignore_index = True)\n",
    "predictions_food.columns = [\"OrigInd\",\"Town\",\"Rating\",\"Sentence\",\"cleaned_sentences\",\"noun_phrases\",\"nouns\",\"Topic\"]\n",
    "predictions_food[\"len\"] = predictions_food[\"nouns\"].apply(lambda x: len(x))\n",
    "predictions_food = predictions_food[predictions_food[\"len\"]>2]\n",
    "predictions_food.sample(5,random_state = 1)"
   ]
  },
  {
   "cell_type": "markdown",
   "metadata": {},
   "source": [
    "Model seems to be predicted reasonably well on new documents"
   ]
  },
  {
   "cell_type": "markdown",
   "metadata": {},
   "source": [
    "## Run models for attractions"
   ]
  },
  {
   "cell_type": "code",
   "execution_count": 352,
   "metadata": {
    "scrolled": true
   },
   "outputs": [],
   "source": [
    "# Reset model with different parameters\n",
    "\n",
    "def nmf(vectorizer,vector,num_topics):\n",
    "    nmf_model = NMF(n_components = num_topics, \n",
    "                    solver=\"cd\",\n",
    "                    init = 'nndsvd',\n",
    "                    alpha = 1.0,\n",
    "                    beta_loss= 'frobenius',\n",
    "                    max_iter = 2000,\n",
    "                    shuffle=False,\n",
    "                    random_state = 0)\n",
    "    \n",
    "    W = nmf_model.fit_transform(vector) # each column represents the weight of each word in a doc (w)\n",
    "    H = nmf_model.components_  # each row represents a word embedding (h) and is a weighting\n",
    "    \n",
    "    # Extract topics,features and weights\n",
    "    feature_names = np.array(vectorizer.get_feature_names())\n",
    "    feature_idxs = np.argsort(-H)\n",
    "    topics = [feature_names[idx] for idx in feature_idxs]\n",
    "    topics = pd.DataFrame(topics).T\n",
    "    topics.columns = [\"T\" + str(i) for i in range(1,num_topics+1)]\n",
    "    \n",
    "           \n",
    "    return topics,H,W,nmf_model"
   ]
  },
  {
   "cell_type": "markdown",
   "metadata": {},
   "source": [
    "### Countvectorizer NMF - attractions"
   ]
  },
  {
   "cell_type": "code",
   "execution_count": 358,
   "metadata": {
    "scrolled": true
   },
   "outputs": [],
   "source": [
    "# Get countvectorizer nmf and tfidf nmf output - doc topics, H,W,and nmf fitted model\n",
    "attract_count_topics,H_attract,W_attract,count_mod3 = nmf(cv_attract,vec1_attract,6)\n",
    "attract_tfidf_topics,H_attract_tfidf,W_attract_tfidf,tfidf_mod3 = nmf(tfidf_attract,vec2_attract,6)"
   ]
  },
  {
   "cell_type": "code",
   "execution_count": 359,
   "metadata": {
    "scrolled": true
   },
   "outputs": [],
   "source": [
    "attract_count_topics = attract_count_topics\n",
    "attract_tfidf_topics = attract_tfidf_topics"
   ]
  },
  {
   "cell_type": "code",
   "execution_count": 361,
   "metadata": {
    "scrolled": true
   },
   "outputs": [
    {
     "data": {
      "text/html": [
       "<div>\n",
       "<style scoped>\n",
       "    .dataframe tbody tr th:only-of-type {\n",
       "        vertical-align: middle;\n",
       "    }\n",
       "\n",
       "    .dataframe tbody tr th {\n",
       "        vertical-align: top;\n",
       "    }\n",
       "\n",
       "    .dataframe thead th {\n",
       "        text-align: right;\n",
       "    }\n",
       "</style>\n",
       "<table border=\"1\" class=\"dataframe\">\n",
       "  <thead>\n",
       "    <tr style=\"text-align: right;\">\n",
       "      <th></th>\n",
       "      <th>T1</th>\n",
       "      <th>T2</th>\n",
       "      <th>T3</th>\n",
       "      <th>T4</th>\n",
       "      <th>T5</th>\n",
       "      <th>T6</th>\n",
       "    </tr>\n",
       "  </thead>\n",
       "  <tbody>\n",
       "    <tr>\n",
       "      <th>0</th>\n",
       "      <td>visit</td>\n",
       "      <td>garden</td>\n",
       "      <td>park</td>\n",
       "      <td>place</td>\n",
       "      <td>beach</td>\n",
       "      <td>walk</td>\n",
       "    </tr>\n",
       "    <tr>\n",
       "      <th>1</th>\n",
       "      <td>place visit</td>\n",
       "      <td>ground</td>\n",
       "      <td>car</td>\n",
       "      <td>place visit</td>\n",
       "      <td>shop</td>\n",
       "      <td>area</td>\n",
       "    </tr>\n",
       "    <tr>\n",
       "      <th>2</th>\n",
       "      <td>visit garden</td>\n",
       "      <td>ticket</td>\n",
       "      <td>car park</td>\n",
       "      <td>family</td>\n",
       "      <td>cafe</td>\n",
       "      <td>dog</td>\n",
       "    </tr>\n",
       "    <tr>\n",
       "      <th>3</th>\n",
       "      <td>family</td>\n",
       "      <td>visit garden</td>\n",
       "      <td>harbour</td>\n",
       "      <td>dog</td>\n",
       "      <td>gift</td>\n",
       "      <td>town</td>\n",
       "    </tr>\n",
       "    <tr>\n",
       "      <th>4</th>\n",
       "      <td>cafe</td>\n",
       "      <td>ground garden</td>\n",
       "      <td>harbour park</td>\n",
       "      <td>child</td>\n",
       "      <td>staff</td>\n",
       "      <td>experience</td>\n",
       "    </tr>\n",
       "    <tr>\n",
       "      <th>5</th>\n",
       "      <td>museum</td>\n",
       "      <td>chapel</td>\n",
       "      <td>entrance</td>\n",
       "      <td>place walk</td>\n",
       "      <td>gift shop</td>\n",
       "      <td>play</td>\n",
       "    </tr>\n",
       "    <tr>\n",
       "      <th>6</th>\n",
       "      <td>garden visit</td>\n",
       "      <td>garden garden</td>\n",
       "      <td>park walk</td>\n",
       "      <td>history</td>\n",
       "      <td>food</td>\n",
       "      <td>round</td>\n",
       "    </tr>\n",
       "    <tr>\n",
       "      <th>7</th>\n",
       "      <td>money</td>\n",
       "      <td>tulip</td>\n",
       "      <td>fun</td>\n",
       "      <td>kid</td>\n",
       "      <td>family</td>\n",
       "      <td>family</td>\n",
       "    </tr>\n",
       "    <tr>\n",
       "      <th>8</th>\n",
       "      <td>family visit</td>\n",
       "      <td>garden ground</td>\n",
       "      <td>child</td>\n",
       "      <td>book</td>\n",
       "      <td>cream</td>\n",
       "      <td>park walk</td>\n",
       "    </tr>\n",
       "    <tr>\n",
       "      <th>9</th>\n",
       "      <td>sunny</td>\n",
       "      <td>round</td>\n",
       "      <td>road</td>\n",
       "      <td>quality</td>\n",
       "      <td>ice</td>\n",
       "      <td>child</td>\n",
       "    </tr>\n",
       "  </tbody>\n",
       "</table>\n",
       "</div>"
      ],
      "text/plain": [
       "             T1             T2            T3           T4         T5  \\\n",
       "0         visit         garden          park        place      beach   \n",
       "1   place visit         ground           car  place visit       shop   \n",
       "2  visit garden         ticket      car park       family       cafe   \n",
       "3        family   visit garden       harbour          dog       gift   \n",
       "4          cafe  ground garden  harbour park        child      staff   \n",
       "5        museum         chapel      entrance   place walk  gift shop   \n",
       "6  garden visit  garden garden     park walk      history       food   \n",
       "7         money          tulip           fun          kid     family   \n",
       "8  family visit  garden ground         child         book      cream   \n",
       "9         sunny          round          road      quality        ice   \n",
       "\n",
       "           T6  \n",
       "0        walk  \n",
       "1        area  \n",
       "2         dog  \n",
       "3        town  \n",
       "4  experience  \n",
       "5        play  \n",
       "6       round  \n",
       "7      family  \n",
       "8   park walk  \n",
       "9       child  "
      ]
     },
     "execution_count": 361,
     "metadata": {},
     "output_type": "execute_result"
    }
   ],
   "source": [
    "pd.set_option('max_colwidth', 20)\n",
    "attract_count_topics.head(10)"
   ]
  },
  {
   "cell_type": "code",
   "execution_count": 362,
   "metadata": {
    "scrolled": true
   },
   "outputs": [],
   "source": [
    "# Apply inferred topics to documents with the associated weights\n",
    "pd.options.display.float_format = '{:,.3f}'.format\n",
    "attract_count_df = pd.DataFrame(W_attract)\n",
    "attract_count_df.columns = [\"VisitExp\",\"Gardens&Grounds\",\"Parking\",\"Attraction\",\"Shop&Facilities\",\"Walking&Exp\"]\n",
    "attract_count_df[\"Top\"] = attract_count_df.idxmax(axis=\"columns\")\n",
    "#topics_per_doc_accom_count.head()"
   ]
  },
  {
   "cell_type": "code",
   "execution_count": 363,
   "metadata": {
    "scrolled": true
   },
   "outputs": [
    {
     "data": {
      "text/html": [
       "<div>\n",
       "<style scoped>\n",
       "    .dataframe tbody tr th:only-of-type {\n",
       "        vertical-align: middle;\n",
       "    }\n",
       "\n",
       "    .dataframe tbody tr th {\n",
       "        vertical-align: top;\n",
       "    }\n",
       "\n",
       "    .dataframe thead th {\n",
       "        text-align: right;\n",
       "    }\n",
       "</style>\n",
       "<table border=\"1\" class=\"dataframe\">\n",
       "  <thead>\n",
       "    <tr style=\"text-align: right;\">\n",
       "      <th></th>\n",
       "      <th>OrigInd</th>\n",
       "      <th>Category</th>\n",
       "      <th>Town</th>\n",
       "      <th>Rating</th>\n",
       "      <th>all_text</th>\n",
       "      <th>cleaned_sentences</th>\n",
       "      <th>noun_phrases</th>\n",
       "      <th>nouns</th>\n",
       "      <th>Topic Count</th>\n",
       "    </tr>\n",
       "  </thead>\n",
       "  <tbody>\n",
       "    <tr>\n",
       "      <th>5641</th>\n",
       "      <td>10209</td>\n",
       "      <td>Attractions</td>\n",
       "      <td>Bognor</td>\n",
       "      <td>5</td>\n",
       "      <td>Meal before movies Been to the Wheat...</td>\n",
       "      <td>manager micheal incredibly friendly ...</td>\n",
       "      <td>manager micheal</td>\n",
       "      <td>[manager, micheal]</td>\n",
       "      <td>Shop&amp;Facilities</td>\n",
       "    </tr>\n",
       "    <tr>\n",
       "      <th>4752</th>\n",
       "      <td>10029</td>\n",
       "      <td>Attractions</td>\n",
       "      <td>Arundel</td>\n",
       "      <td>5</td>\n",
       "      <td>Martin the postman We saw an advert ...</td>\n",
       "      <td>learned much martin interesting not ...</td>\n",
       "      <td>fact figure</td>\n",
       "      <td>[fact, figure]</td>\n",
       "      <td>Walking&amp;Exp</td>\n",
       "    </tr>\n",
       "    <tr>\n",
       "      <th>3888</th>\n",
       "      <td>9898</td>\n",
       "      <td>Attractions</td>\n",
       "      <td>Arundel</td>\n",
       "      <td>5</td>\n",
       "      <td>Wonderful The most beautiful gardens...</td>\n",
       "      <td>wonderful beautiful garden wonderful...</td>\n",
       "      <td>wonderful beautiful garden</td>\n",
       "      <td>[garden]</td>\n",
       "      <td>Gardens&amp;Grounds</td>\n",
       "    </tr>\n",
       "    <tr>\n",
       "      <th>610</th>\n",
       "      <td>9266</td>\n",
       "      <td>Attractions</td>\n",
       "      <td>Arundel</td>\n",
       "      <td>5</td>\n",
       "      <td>Stunning castle and gardens!  We bou...</td>\n",
       "      <td>allow plenty explore much see</td>\n",
       "      <td>plenty explore</td>\n",
       "      <td>[plenty, explore]</td>\n",
       "      <td>Shop&amp;Facilities</td>\n",
       "    </tr>\n",
       "    <tr>\n",
       "      <th>5820</th>\n",
       "      <td>10246</td>\n",
       "      <td>Attractions</td>\n",
       "      <td>Bognor</td>\n",
       "      <td>5</td>\n",
       "      <td>Fantastic shop - a must visit! This ...</td>\n",
       "      <td>provide tea custard cream amazing th...</td>\n",
       "      <td>tea custard cream</td>\n",
       "      <td>[tea, custard, cream]</td>\n",
       "      <td>Shop&amp;Facilities</td>\n",
       "    </tr>\n",
       "  </tbody>\n",
       "</table>\n",
       "</div>"
      ],
      "text/plain": [
       "      OrigInd     Category     Town  Rating  \\\n",
       "5641    10209  Attractions   Bognor       5   \n",
       "4752    10029  Attractions  Arundel       5   \n",
       "3888     9898  Attractions  Arundel       5   \n",
       "610      9266  Attractions  Arundel       5   \n",
       "5820    10246  Attractions   Bognor       5   \n",
       "\n",
       "                                     all_text  \\\n",
       "5641  Meal before movies Been to the Wheat...   \n",
       "4752  Martin the postman We saw an advert ...   \n",
       "3888  Wonderful The most beautiful gardens...   \n",
       "610   Stunning castle and gardens!  We bou...   \n",
       "5820  Fantastic shop - a must visit! This ...   \n",
       "\n",
       "                            cleaned_sentences                noun_phrases  \\\n",
       "5641  manager micheal incredibly friendly ...             manager micheal   \n",
       "4752  learned much martin interesting not ...                 fact figure   \n",
       "3888  wonderful beautiful garden wonderful...  wonderful beautiful garden   \n",
       "610             allow plenty explore much see              plenty explore   \n",
       "5820  provide tea custard cream amazing th...           tea custard cream   \n",
       "\n",
       "                      nouns      Topic Count  \n",
       "5641     [manager, micheal]  Shop&Facilities  \n",
       "4752         [fact, figure]      Walking&Exp  \n",
       "3888               [garden]  Gardens&Grounds  \n",
       "610       [plenty, explore]  Shop&Facilities  \n",
       "5820  [tea, custard, cream]  Shop&Facilities  "
      ]
     },
     "execution_count": 363,
     "metadata": {},
     "output_type": "execute_result"
    }
   ],
   "source": [
    "# Add the most likely countvectorizer topic to the review dataframe\n",
    "predict_count_attract = pd.DataFrame(df_attract[[\"OrigInd\",\"Category\",\"Town\",\"Rating\",\"all_text\",\"cleaned_sentences\",\"noun_phrases\",\"nouns\"]]).reset_index(drop = True)\n",
    "attract_predict_count = pd.concat([predict_count_attract,attract_count_df[\"Top\"]],axis = 1,ignore_index = True)\n",
    "attract_predict_count.columns = [\"OrigInd\",\"Category\",\"Town\",\"Rating\",\"all_text\",\"cleaned_sentences\",\"noun_phrases\",\"nouns\",\"Topic Count\"]\n",
    "pd.set_option('max_colwidth',40)\n",
    "attract_predict_count.sample(5)"
   ]
  },
  {
   "cell_type": "code",
   "execution_count": 364,
   "metadata": {
    "scrolled": true
   },
   "outputs": [
    {
     "data": {
      "text/plain": [
       "Shop&Facilities    2321\n",
       "Walking&Exp        1561\n",
       "VisitExp           1081\n",
       "Gardens&Grounds     667\n",
       "Attraction          555\n",
       "Parking             487\n",
       "Name: Topic Count, dtype: int64"
      ]
     },
     "execution_count": 364,
     "metadata": {},
     "output_type": "execute_result"
    }
   ],
   "source": [
    "attract_predict_count[\"Topic Count\"].value_counts()"
   ]
  },
  {
   "cell_type": "markdown",
   "metadata": {},
   "source": [
    "### TFIDF NMF - attractions"
   ]
  },
  {
   "cell_type": "code",
   "execution_count": 366,
   "metadata": {
    "scrolled": true
   },
   "outputs": [
    {
     "data": {
      "text/html": [
       "<div>\n",
       "<style scoped>\n",
       "    .dataframe tbody tr th:only-of-type {\n",
       "        vertical-align: middle;\n",
       "    }\n",
       "\n",
       "    .dataframe tbody tr th {\n",
       "        vertical-align: top;\n",
       "    }\n",
       "\n",
       "    .dataframe thead th {\n",
       "        text-align: right;\n",
       "    }\n",
       "</style>\n",
       "<table border=\"1\" class=\"dataframe\">\n",
       "  <thead>\n",
       "    <tr style=\"text-align: right;\">\n",
       "      <th></th>\n",
       "      <th>T1</th>\n",
       "      <th>T2</th>\n",
       "      <th>T3</th>\n",
       "      <th>T4</th>\n",
       "      <th>T5</th>\n",
       "      <th>T6</th>\n",
       "    </tr>\n",
       "  </thead>\n",
       "  <tbody>\n",
       "    <tr>\n",
       "      <th>0</th>\n",
       "      <td>visit</td>\n",
       "      <td>place</td>\n",
       "      <td>garden</td>\n",
       "      <td>staff</td>\n",
       "      <td>experience</td>\n",
       "      <td>walk</td>\n",
       "    </tr>\n",
       "    <tr>\n",
       "      <th>1</th>\n",
       "      <td>place visit</td>\n",
       "      <td>place visit</td>\n",
       "      <td>visit garden</td>\n",
       "      <td>helpful</td>\n",
       "      <td>bird</td>\n",
       "      <td>park</td>\n",
       "    </tr>\n",
       "    <tr>\n",
       "      <th>2</th>\n",
       "      <td>visit garden</td>\n",
       "      <td>kid</td>\n",
       "      <td>ground</td>\n",
       "      <td>member</td>\n",
       "      <td>owl</td>\n",
       "      <td>beach</td>\n",
       "    </tr>\n",
       "    <tr>\n",
       "      <th>3</th>\n",
       "      <td>family</td>\n",
       "      <td>history</td>\n",
       "      <td>ground garden</td>\n",
       "      <td>staff helpful</td>\n",
       "      <td>family</td>\n",
       "      <td>area</td>\n",
       "    </tr>\n",
       "    <tr>\n",
       "      <th>4</th>\n",
       "      <td>return</td>\n",
       "      <td>place walk</td>\n",
       "      <td>chapel</td>\n",
       "      <td>member staff</td>\n",
       "      <td>owl experience</td>\n",
       "      <td>car</td>\n",
       "    </tr>\n",
       "    <tr>\n",
       "      <th>5</th>\n",
       "      <td>beach</td>\n",
       "      <td>people</td>\n",
       "      <td>garden ground</td>\n",
       "      <td>food</td>\n",
       "      <td>round</td>\n",
       "      <td>car park</td>\n",
       "    </tr>\n",
       "    <tr>\n",
       "      <th>6</th>\n",
       "      <td>play</td>\n",
       "      <td>dog</td>\n",
       "      <td>ticket</td>\n",
       "      <td>cafe</td>\n",
       "      <td>end</td>\n",
       "      <td>dog</td>\n",
       "    </tr>\n",
       "    <tr>\n",
       "      <th>7</th>\n",
       "      <td>visit museum</td>\n",
       "      <td>idea</td>\n",
       "      <td>superb</td>\n",
       "      <td>bit</td>\n",
       "      <td>friend</td>\n",
       "      <td>town</td>\n",
       "    </tr>\n",
       "    <tr>\n",
       "      <th>8</th>\n",
       "      <td>cafe</td>\n",
       "      <td>child</td>\n",
       "      <td>garden garden</td>\n",
       "      <td>staff cafe</td>\n",
       "      <td>way</td>\n",
       "      <td>park walk</td>\n",
       "    </tr>\n",
       "    <tr>\n",
       "      <th>9</th>\n",
       "      <td>ground</td>\n",
       "      <td>need</td>\n",
       "      <td>garden chapel</td>\n",
       "      <td>hand</td>\n",
       "      <td>recomend</td>\n",
       "      <td>hour</td>\n",
       "    </tr>\n",
       "  </tbody>\n",
       "</table>\n",
       "</div>"
      ],
      "text/plain": [
       "             T1           T2             T3             T4              T5  \\\n",
       "0         visit        place         garden          staff      experience   \n",
       "1   place visit  place visit   visit garden        helpful            bird   \n",
       "2  visit garden          kid         ground         member             owl   \n",
       "3        family      history  ground garden  staff helpful          family   \n",
       "4        return   place walk         chapel   member staff  owl experience   \n",
       "5         beach       people  garden ground           food           round   \n",
       "6          play          dog         ticket           cafe             end   \n",
       "7  visit museum         idea         superb            bit          friend   \n",
       "8          cafe        child  garden garden     staff cafe             way   \n",
       "9        ground         need  garden chapel           hand        recomend   \n",
       "\n",
       "          T6  \n",
       "0       walk  \n",
       "1       park  \n",
       "2      beach  \n",
       "3       area  \n",
       "4        car  \n",
       "5   car park  \n",
       "6        dog  \n",
       "7       town  \n",
       "8  park walk  \n",
       "9       hour  "
      ]
     },
     "execution_count": 366,
     "metadata": {},
     "output_type": "execute_result"
    }
   ],
   "source": [
    "pd.set_option('max_colwidth',15)\n",
    "attract_tfidf_topics = attract_tfidf_topics\n",
    "attract_tfidf_topics.head(10)"
   ]
  },
  {
   "cell_type": "code",
   "execution_count": 373,
   "metadata": {
    "scrolled": true
   },
   "outputs": [],
   "source": [
    "# Apply inferred topics to documents with the associated weights\n",
    "pd.options.display.float_format = '{:,.3f}'.format\n",
    "attract_tfidf_df = pd.DataFrame(W_attract_tfidf)\n",
    "attract_tfidf_df.columns = [\"VisitExp\",\"Attraction\",\"Gardens&Grounds\",\"Staff\",\"GenExp\",\"Walking&Exp\"]\n",
    "                          \n",
    "attract_tfidf_df[\"Top\"] = attract_tfidf_df.idxmax(axis=\"columns\")"
   ]
  },
  {
   "cell_type": "code",
   "execution_count": 374,
   "metadata": {
    "scrolled": true
   },
   "outputs": [],
   "source": [
    "# Add the most likely tfidf topic to the review and conat the two top topics to the original dataframe\n",
    "predict_tfidf_attract = pd.DataFrame(df_attract[[\"OrigInd\",\"Town\",\"Rating\",\"all_text\",\"cleaned_sentences\",\"noun_phrases\",\"nouns\"]]).reset_index(drop = True)\n",
    "attract_predict_final = pd.concat([attract_predict_count,attract_tfidf_df[\"Top\"]],axis = 1,ignore_index = True)\n",
    "attract_predict_final.columns = [\"OrigInd\",\"Category\",\"Town\",\"Rating\",\"all_text\",\"cleaned\",\"noun_phrases\",\"nouns\",\"Topic Count\",\"Topic TFIDF\"]\n",
    "#accom_predict_final['is_equal'] =( accom_predict_final['Topic Count'].str.lower().str.replace('s/+',\"\") == accom_predict_final['Topic TFIDF'].str.lower().str.replace('s/+',\"\"))\n",
    "#accom_predict_diff = accom_predict_final[accom_predict_final[\"is_equal\"] == False]"
   ]
  },
  {
   "cell_type": "code",
   "execution_count": 376,
   "metadata": {
    "scrolled": true
   },
   "outputs": [
    {
     "data": {
      "text/html": [
       "<div>\n",
       "<style scoped>\n",
       "    .dataframe tbody tr th:only-of-type {\n",
       "        vertical-align: middle;\n",
       "    }\n",
       "\n",
       "    .dataframe tbody tr th {\n",
       "        vertical-align: top;\n",
       "    }\n",
       "\n",
       "    .dataframe thead th {\n",
       "        text-align: right;\n",
       "    }\n",
       "</style>\n",
       "<table border=\"1\" class=\"dataframe\">\n",
       "  <thead>\n",
       "    <tr style=\"text-align: right;\">\n",
       "      <th></th>\n",
       "      <th>OrigInd</th>\n",
       "      <th>Category</th>\n",
       "      <th>Town</th>\n",
       "      <th>Rating</th>\n",
       "      <th>all_text</th>\n",
       "      <th>cleaned</th>\n",
       "      <th>noun_phrases</th>\n",
       "      <th>nouns</th>\n",
       "      <th>Topic Count</th>\n",
       "      <th>Topic TFIDF</th>\n",
       "    </tr>\n",
       "  </thead>\n",
       "  <tbody>\n",
       "    <tr>\n",
       "      <th>0</th>\n",
       "      <td>9169</td>\n",
       "      <td>Attractions</td>\n",
       "      <td>Arundel</td>\n",
       "      <td>5</td>\n",
       "      <td>Beautiful gardens &amp; castle...</td>\n",
       "      <td>beautiful garden winter st...</td>\n",
       "      <td>beautiful garden winter</td>\n",
       "      <td>[garden, winter]</td>\n",
       "      <td>Gardens&amp;Grounds</td>\n",
       "      <td>Gardens&amp;Grounds</td>\n",
       "    </tr>\n",
       "    <tr>\n",
       "      <th>1</th>\n",
       "      <td>9169</td>\n",
       "      <td>Attractions</td>\n",
       "      <td>Arundel</td>\n",
       "      <td>5</td>\n",
       "      <td>Beautiful gardens &amp; castle...</td>\n",
       "      <td>beautiful garden walk around</td>\n",
       "      <td>beautiful garden walk</td>\n",
       "      <td>[garden, walk]</td>\n",
       "      <td>Walking&amp;Exp</td>\n",
       "      <td>Walking&amp;Exp</td>\n",
       "    </tr>\n",
       "    <tr>\n",
       "      <th>2</th>\n",
       "      <td>9170</td>\n",
       "      <td>Attractions</td>\n",
       "      <td>Arundel</td>\n",
       "      <td>4</td>\n",
       "      <td>Garden visit  Even in the ...</td>\n",
       "      <td>garden visit even middle a...</td>\n",
       "      <td>garden visit</td>\n",
       "      <td>[garden, visit]</td>\n",
       "      <td>Gardens&amp;Grounds</td>\n",
       "      <td>Gardens&amp;Grounds</td>\n",
       "    </tr>\n",
       "    <tr>\n",
       "      <th>3</th>\n",
       "      <td>9170</td>\n",
       "      <td>Attractions</td>\n",
       "      <td>Arundel</td>\n",
       "      <td>4</td>\n",
       "      <td>Garden visit  Even in the ...</td>\n",
       "      <td>garden visit even middle a...</td>\n",
       "      <td>middle autumn</td>\n",
       "      <td>[autumn]</td>\n",
       "      <td>VisitExp</td>\n",
       "      <td>VisitExp</td>\n",
       "    </tr>\n",
       "    <tr>\n",
       "      <th>4</th>\n",
       "      <td>9170</td>\n",
       "      <td>Attractions</td>\n",
       "      <td>Arundel</td>\n",
       "      <td>4</td>\n",
       "      <td>Garden visit  Even in the ...</td>\n",
       "      <td>garden visit even middle a...</td>\n",
       "      <td>plenty flower</td>\n",
       "      <td>[plenty, flower]</td>\n",
       "      <td>Shop&amp;Facilities</td>\n",
       "      <td>Attraction</td>\n",
       "    </tr>\n",
       "    <tr>\n",
       "      <th>5</th>\n",
       "      <td>9171</td>\n",
       "      <td>Attractions</td>\n",
       "      <td>Arundel</td>\n",
       "      <td>4</td>\n",
       "      <td>Brilliant Day except for t...</td>\n",
       "      <td>brilliant except cafe grou...</td>\n",
       "      <td>cafe ground wonder behold</td>\n",
       "      <td>[ground, wonder, behold]</td>\n",
       "      <td>Gardens&amp;Grounds</td>\n",
       "      <td>Gardens&amp;Grounds</td>\n",
       "    </tr>\n",
       "    <tr>\n",
       "      <th>6</th>\n",
       "      <td>9171</td>\n",
       "      <td>Attractions</td>\n",
       "      <td>Arundel</td>\n",
       "      <td>4</td>\n",
       "      <td>Brilliant Day except for t...</td>\n",
       "      <td>definite must anyone inter...</td>\n",
       "      <td>marvellous garden</td>\n",
       "      <td>[garden]</td>\n",
       "      <td>Gardens&amp;Grounds</td>\n",
       "      <td>Gardens&amp;Grounds</td>\n",
       "    </tr>\n",
       "    <tr>\n",
       "      <th>7</th>\n",
       "      <td>9171</td>\n",
       "      <td>Attractions</td>\n",
       "      <td>Arundel</td>\n",
       "      <td>4</td>\n",
       "      <td>Brilliant Day except for t...</td>\n",
       "      <td>however cafe totally diffe...</td>\n",
       "      <td>different experience</td>\n",
       "      <td>[experience]</td>\n",
       "      <td>Walking&amp;Exp</td>\n",
       "      <td>GenExp</td>\n",
       "    </tr>\n",
       "    <tr>\n",
       "      <th>8</th>\n",
       "      <td>9171</td>\n",
       "      <td>Attractions</td>\n",
       "      <td>Arundel</td>\n",
       "      <td>4</td>\n",
       "      <td>Brilliant Day except for t...</td>\n",
       "      <td>latte froth taste</td>\n",
       "      <td>latte froth taste</td>\n",
       "      <td>[latte, taste]</td>\n",
       "      <td>Shop&amp;Facilities</td>\n",
       "      <td>Staff</td>\n",
       "    </tr>\n",
       "    <tr>\n",
       "      <th>9</th>\n",
       "      <td>9171</td>\n",
       "      <td>Attractions</td>\n",
       "      <td>Arundel</td>\n",
       "      <td>4</td>\n",
       "      <td>Brilliant Day except for t...</td>\n",
       "      <td>americana dish water</td>\n",
       "      <td>americana dish water</td>\n",
       "      <td>[water]</td>\n",
       "      <td>Attraction</td>\n",
       "      <td>Attraction</td>\n",
       "    </tr>\n",
       "  </tbody>\n",
       "</table>\n",
       "</div>"
      ],
      "text/plain": [
       "   OrigInd     Category     Town  Rating                       all_text  \\\n",
       "0     9169  Attractions  Arundel       5  Beautiful gardens & castle...   \n",
       "1     9169  Attractions  Arundel       5  Beautiful gardens & castle...   \n",
       "2     9170  Attractions  Arundel       4  Garden visit  Even in the ...   \n",
       "3     9170  Attractions  Arundel       4  Garden visit  Even in the ...   \n",
       "4     9170  Attractions  Arundel       4  Garden visit  Even in the ...   \n",
       "5     9171  Attractions  Arundel       4  Brilliant Day except for t...   \n",
       "6     9171  Attractions  Arundel       4  Brilliant Day except for t...   \n",
       "7     9171  Attractions  Arundel       4  Brilliant Day except for t...   \n",
       "8     9171  Attractions  Arundel       4  Brilliant Day except for t...   \n",
       "9     9171  Attractions  Arundel       4  Brilliant Day except for t...   \n",
       "\n",
       "                         cleaned               noun_phrases  \\\n",
       "0  beautiful garden winter st...    beautiful garden winter   \n",
       "1   beautiful garden walk around      beautiful garden walk   \n",
       "2  garden visit even middle a...               garden visit   \n",
       "3  garden visit even middle a...              middle autumn   \n",
       "4  garden visit even middle a...              plenty flower   \n",
       "5  brilliant except cafe grou...  cafe ground wonder behold   \n",
       "6  definite must anyone inter...          marvellous garden   \n",
       "7  however cafe totally diffe...       different experience   \n",
       "8              latte froth taste          latte froth taste   \n",
       "9           americana dish water       americana dish water   \n",
       "\n",
       "                      nouns      Topic Count      Topic TFIDF  \n",
       "0          [garden, winter]  Gardens&Grounds  Gardens&Grounds  \n",
       "1            [garden, walk]      Walking&Exp      Walking&Exp  \n",
       "2           [garden, visit]  Gardens&Grounds  Gardens&Grounds  \n",
       "3                  [autumn]         VisitExp         VisitExp  \n",
       "4          [plenty, flower]  Shop&Facilities       Attraction  \n",
       "5  [ground, wonder, behold]  Gardens&Grounds  Gardens&Grounds  \n",
       "6                  [garden]  Gardens&Grounds  Gardens&Grounds  \n",
       "7              [experience]      Walking&Exp           GenExp  \n",
       "8            [latte, taste]  Shop&Facilities            Staff  \n",
       "9                   [water]       Attraction       Attraction  "
      ]
     },
     "execution_count": 376,
     "metadata": {},
     "output_type": "execute_result"
    }
   ],
   "source": [
    "pd.set_option('max_colwidth', 30)\n",
    "attract_predict_final.head(10)"
   ]
  },
  {
   "cell_type": "markdown",
   "metadata": {},
   "source": [
    "## Predict against new documents - attractions"
   ]
  },
  {
   "cell_type": "code",
   "execution_count": 379,
   "metadata": {
    "scrolled": true
   },
   "outputs": [],
   "source": [
    "# Predict on test set - transform the joined nouns to a vector using the fitted vectorizer and then transform the vector using the fitted nmf weights\n",
    "vec_test3 = cv_attract.transform(attract_nouns_joined_test)\n",
    "predicted_test3 = pd.DataFrame(count_mod3.transform(vec_test3))\n",
    "predicted_test3.columns = [\"VisitExp\",\"Gardens&Grounds\",\"Parking\",\"Attraction\",\"Shop&Facilities\",\"Walking&Exp\"]\n",
    "predicted_test3[\"Topic Count\"] = predicted_test3.idxmax(axis=\"columns\")"
   ]
  },
  {
   "cell_type": "code",
   "execution_count": 381,
   "metadata": {
    "scrolled": true
   },
   "outputs": [
    {
     "data": {
      "text/html": [
       "<div>\n",
       "<style scoped>\n",
       "    .dataframe tbody tr th:only-of-type {\n",
       "        vertical-align: middle;\n",
       "    }\n",
       "\n",
       "    .dataframe tbody tr th {\n",
       "        vertical-align: top;\n",
       "    }\n",
       "\n",
       "    .dataframe thead th {\n",
       "        text-align: right;\n",
       "    }\n",
       "</style>\n",
       "<table border=\"1\" class=\"dataframe\">\n",
       "  <thead>\n",
       "    <tr style=\"text-align: right;\">\n",
       "      <th></th>\n",
       "      <th>OrigInd</th>\n",
       "      <th>Town</th>\n",
       "      <th>Rating</th>\n",
       "      <th>Sentence</th>\n",
       "      <th>cleaned</th>\n",
       "      <th>noun_phrases</th>\n",
       "      <th>nouns</th>\n",
       "      <th>Topic</th>\n",
       "    </tr>\n",
       "  </thead>\n",
       "  <tbody>\n",
       "    <tr>\n",
       "      <th>1039</th>\n",
       "      <td>9917</td>\n",
       "      <td>Arundel</td>\n",
       "      <td>4</td>\n",
       "      <td>Good value newly refurbish...</td>\n",
       "      <td>good value newly refurbish...</td>\n",
       "      <td>visit cafe</td>\n",
       "      <td>[visit, cafe]</td>\n",
       "      <td>VisitExp</td>\n",
       "    </tr>\n",
       "    <tr>\n",
       "      <th>136</th>\n",
       "      <td>9264</td>\n",
       "      <td>Arundel</td>\n",
       "      <td>2</td>\n",
       "      <td>access to wheelchair users...</td>\n",
       "      <td>really disappointed not re...</td>\n",
       "      <td>real meaning access</td>\n",
       "      <td>[meaning, access]</td>\n",
       "      <td>Shop&amp;Facilities</td>\n",
       "    </tr>\n",
       "    <tr>\n",
       "      <th>976</th>\n",
       "      <td>9868</td>\n",
       "      <td>Arundel</td>\n",
       "      <td>5</td>\n",
       "      <td>Nice stroll While in the a...</td>\n",
       "      <td>great play nice place eat</td>\n",
       "      <td>great play</td>\n",
       "      <td>[play]</td>\n",
       "      <td>Walking&amp;Exp</td>\n",
       "    </tr>\n",
       "    <tr>\n",
       "      <th>1265</th>\n",
       "      <td>10058</td>\n",
       "      <td>Arundel</td>\n",
       "      <td>1</td>\n",
       "      <td>Just Terrible 5 friends an...</td>\n",
       "      <td>part group two separate re...</td>\n",
       "      <td>part group</td>\n",
       "      <td>[part, group]</td>\n",
       "      <td>Walking&amp;Exp</td>\n",
       "    </tr>\n",
       "    <tr>\n",
       "      <th>453</th>\n",
       "      <td>9465</td>\n",
       "      <td>Arundel</td>\n",
       "      <td>2</td>\n",
       "      <td>Disappointing on this occa...</td>\n",
       "      <td>disappointing occasion wet...</td>\n",
       "      <td>slimbridge queen</td>\n",
       "      <td>[slimbridge, queen]</td>\n",
       "      <td>Shop&amp;Facilities</td>\n",
       "    </tr>\n",
       "  </tbody>\n",
       "</table>\n",
       "</div>"
      ],
      "text/plain": [
       "      OrigInd     Town  Rating                       Sentence  \\\n",
       "1039     9917  Arundel       4  Good value newly refurbish...   \n",
       "136      9264  Arundel       2  access to wheelchair users...   \n",
       "976      9868  Arundel       5  Nice stroll While in the a...   \n",
       "1265    10058  Arundel       1  Just Terrible 5 friends an...   \n",
       "453      9465  Arundel       2  Disappointing on this occa...   \n",
       "\n",
       "                            cleaned         noun_phrases                nouns  \\\n",
       "1039  good value newly refurbish...           visit cafe        [visit, cafe]   \n",
       "136   really disappointed not re...  real meaning access    [meaning, access]   \n",
       "976       great play nice place eat           great play               [play]   \n",
       "1265  part group two separate re...           part group        [part, group]   \n",
       "453   disappointing occasion wet...     slimbridge queen  [slimbridge, queen]   \n",
       "\n",
       "                Topic  \n",
       "1039         VisitExp  \n",
       "136   Shop&Facilities  \n",
       "976       Walking&Exp  \n",
       "1265      Walking&Exp  \n",
       "453   Shop&Facilities  "
      ]
     },
     "execution_count": 381,
     "metadata": {},
     "output_type": "execute_result"
    }
   ],
   "source": [
    "predict_test3_df = pd.DataFrame(df_attract_test[[\"OrigInd\",\"Town\",\"Rating\",\"all_text\",\"cleaned_sentences\",\"noun_phrases\",\"nouns\"]]).reset_index(drop = True)\n",
    "predictions_attract = pd.concat([predict_test3_df,predicted_test3[\"Topic Count\"]],axis = 1,ignore_index = True)\n",
    "predictions_attract.columns = [\"OrigInd\",\"Town\",\"Rating\",\"Sentence\",\"cleaned\",\"noun_phrases\",\"nouns\",\"Topic\"]\n",
    "predictions_attract.sample(5)"
   ]
  },
  {
   "cell_type": "code",
   "execution_count": 383,
   "metadata": {
    "scrolled": true
   },
   "outputs": [],
   "source": [
    "# Save dataframes to file - choose random sample of 100 items from each to check if the topics make sense\n",
    "predictions_accom.to_csv(\"topicmodels_accom.csv\")\n",
    "predictions_food.to_csv(\"topicmodels_food.csv\")\n",
    "predictions_attract.to_csv(\"topicmodels_attract.csv\")"
   ]
  }
 ],
 "metadata": {
  "celltoolbar": "Raw Cell Format",
  "kernelspec": {
   "display_name": "Python 3",
   "language": "python",
   "name": "python3"
  },
  "language_info": {
   "codemirror_mode": {
    "name": "ipython",
    "version": 3
   },
   "file_extension": ".py",
   "mimetype": "text/x-python",
   "name": "python",
   "nbconvert_exporter": "python",
   "pygments_lexer": "ipython3",
   "version": "3.8.8"
  }
 },
 "nbformat": 4,
 "nbformat_minor": 4
}
