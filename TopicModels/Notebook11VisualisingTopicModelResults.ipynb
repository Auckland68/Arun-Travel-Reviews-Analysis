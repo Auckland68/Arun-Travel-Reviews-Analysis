{
 "cells": [
  {
   "cell_type": "markdown",
   "id": "3f9e6e1b",
   "metadata": {},
   "source": [
    "# Visualising the Topic Modelling Results"
   ]
  },
  {
   "cell_type": "markdown",
   "id": "290cc24e",
   "metadata": {},
   "source": [
    "This notebook visualises the results from the previous notebook containing topic models\n",
    "* Section 1 - Import libraries and dataset\n",
    "* Section 2 - Get sentiment analyser scores\n",
    "* Section 3 - Category Analysis for Arun Distict\n",
    "* Section 4 - Sentiment scores across categories\n",
    "* Section 5 - Comparing Aspects and Towns\n",
    "\n",
    "\n",
    "Datasets need to run notebook:\n",
    "* topicmodelsaccom.csv\n",
    "* topicmodelsfood.csv\n",
    "* topicmodelsattract.csv\n",
    "\n",
    "\n"
   ]
  },
  {
   "cell_type": "markdown",
   "id": "64a6cbe9",
   "metadata": {},
   "source": [
    "# Section 1: Import libraries and data"
   ]
  },
  {
   "cell_type": "code",
   "execution_count": 39,
   "id": "fe0d05d5",
   "metadata": {},
   "outputs": [
    {
     "name": "stderr",
     "output_type": "stream",
     "text": [
      "[nltk_data] Downloading package vader_lexicon to\n",
      "[nltk_data]     C:\\Users\\imoge\\AppData\\Roaming\\nltk_data...\n",
      "[nltk_data]   Package vader_lexicon is already up-to-date!\n"
     ]
    }
   ],
   "source": [
    "import pandas as pd\n",
    "import numpy as np\n",
    "import matplotlib.pyplot as plt\n",
    "import nltk\n",
    "nltk.download('vader_lexicon')\n",
    "from nltk.sentiment.vader import SentimentIntensityAnalyzer"
   ]
  },
  {
   "cell_type": "code",
   "execution_count": 150,
   "id": "f666fcf2",
   "metadata": {},
   "outputs": [],
   "source": [
    "df_accom = pd.read_csv(\"topicmodelsaccom.csv\")\n",
    "df_food = pd.read_csv(\"topicmodelsfood.csv\")\n",
    "df_attract = pd.read_csv(\"topicmodelsattract.csv\")"
   ]
  },
  {
   "cell_type": "markdown",
   "id": "362dc214",
   "metadata": {},
   "source": [
    "# Section 2: Get sentiment scores"
   ]
  },
  {
   "cell_type": "code",
   "execution_count": 152,
   "id": "74956380",
   "metadata": {},
   "outputs": [],
   "source": [
    "# Apply sentiment to each line based on the noun-phrases and then put to positive or negative\n",
    "sid = SentimentIntensityAnalyzer()\n",
    "df_accom[\"Sentiment\"] = df_accom[\"noun_phrases\"].apply(lambda x: sid.polarity_scores(x)[\"compound\"])\n",
    "df_food[\"Sentiment\"] = df_food[\"noun_phrases\"].apply(lambda x: sid.polarity_scores(x)[\"compound\"])\n",
    "df_attract[\"Sentiment\"] = df_attract[\"noun_phrases\"].apply(lambda x: sid.polarity_scores(x)[\"compound\"])"
   ]
  },
  {
   "cell_type": "code",
   "execution_count": 153,
   "id": "d6a6d0fa",
   "metadata": {},
   "outputs": [
    {
     "name": "stdout",
     "output_type": "stream",
     "text": [
      "(23979, 12) (39687, 12) (7506, 12)\n"
     ]
    }
   ],
   "source": [
    "print(df_accom.shape,df_food.shape, df_attract.shape)"
   ]
  },
  {
   "cell_type": "code",
   "execution_count": 154,
   "id": "f5ea6154",
   "metadata": {},
   "outputs": [],
   "source": [
    "# Convert sentiment score to positive to negative with VADER (above 0.05 positive, below -0.05 negative and between is \n",
    "# neutral as per the VADER notes)\n",
    "def polar(x): \n",
    "    if x >= 0.05:\n",
    "        return 'positive'\n",
    "    elif x <0.05 and x>= -0.05:\n",
    "        return 'neutral'\n",
    "    else:\n",
    "        return 'negative'"
   ]
  },
  {
   "cell_type": "code",
   "execution_count": 155,
   "id": "95d5e198",
   "metadata": {},
   "outputs": [
    {
     "data": {
      "text/html": [
       "<div>\n",
       "<style scoped>\n",
       "    .dataframe tbody tr th:only-of-type {\n",
       "        vertical-align: middle;\n",
       "    }\n",
       "\n",
       "    .dataframe tbody tr th {\n",
       "        vertical-align: top;\n",
       "    }\n",
       "\n",
       "    .dataframe thead th {\n",
       "        text-align: right;\n",
       "    }\n",
       "</style>\n",
       "<table border=\"1\" class=\"dataframe\">\n",
       "  <thead>\n",
       "    <tr style=\"text-align: right;\">\n",
       "      <th></th>\n",
       "      <th>Unnamed: 0</th>\n",
       "      <th>OrigInd</th>\n",
       "      <th>Category</th>\n",
       "      <th>Town</th>\n",
       "      <th>Rating</th>\n",
       "      <th>all_text</th>\n",
       "      <th>cleaned</th>\n",
       "      <th>noun_phrases</th>\n",
       "      <th>nouns</th>\n",
       "      <th>Topic Count</th>\n",
       "      <th>Topic TFIDF</th>\n",
       "      <th>Sentiment</th>\n",
       "      <th>Score</th>\n",
       "    </tr>\n",
       "  </thead>\n",
       "  <tbody>\n",
       "    <tr>\n",
       "      <th>0</th>\n",
       "      <td>0</td>\n",
       "      <td>0</td>\n",
       "      <td>Accommodation</td>\n",
       "      <td>Bognor</td>\n",
       "      <td>4</td>\n",
       "      <td>Nice break, shame about the accommodation... W...</td>\n",
       "      <td>nice break shame accommodation booked night st...</td>\n",
       "      <td>shame accommodation</td>\n",
       "      <td>['shame', 'accommodation']</td>\n",
       "      <td>Location</td>\n",
       "      <td>Entertainment</td>\n",
       "      <td>-0.4767</td>\n",
       "      <td>negative</td>\n",
       "    </tr>\n",
       "    <tr>\n",
       "      <th>1</th>\n",
       "      <td>1</td>\n",
       "      <td>0</td>\n",
       "      <td>Accommodation</td>\n",
       "      <td>Bognor</td>\n",
       "      <td>4</td>\n",
       "      <td>Nice break, shame about the accommodation... W...</td>\n",
       "      <td>nice break shame accommodation booked night st...</td>\n",
       "      <td>family adult kid</td>\n",
       "      <td>['family', 'adult', 'kid']</td>\n",
       "      <td>FamilyExp</td>\n",
       "      <td>FamilyExp</td>\n",
       "      <td>0.0000</td>\n",
       "      <td>neutral</td>\n",
       "    </tr>\n",
       "  </tbody>\n",
       "</table>\n",
       "</div>"
      ],
      "text/plain": [
       "   Unnamed: 0  OrigInd       Category    Town  Rating  \\\n",
       "0           0        0  Accommodation  Bognor       4   \n",
       "1           1        0  Accommodation  Bognor       4   \n",
       "\n",
       "                                            all_text  \\\n",
       "0  Nice break, shame about the accommodation... W...   \n",
       "1  Nice break, shame about the accommodation... W...   \n",
       "\n",
       "                                             cleaned         noun_phrases  \\\n",
       "0  nice break shame accommodation booked night st...  shame accommodation   \n",
       "1  nice break shame accommodation booked night st...     family adult kid   \n",
       "\n",
       "                        nouns Topic Count    Topic TFIDF  Sentiment     Score  \n",
       "0  ['shame', 'accommodation']    Location  Entertainment    -0.4767  negative  \n",
       "1  ['family', 'adult', 'kid']   FamilyExp      FamilyExp     0.0000   neutral  "
      ]
     },
     "execution_count": 155,
     "metadata": {},
     "output_type": "execute_result"
    }
   ],
   "source": [
    "# Apply function to dataframes\n",
    "df_accom[\"Score\"] = df_accom[\"Sentiment\"].apply(lambda x: polar(x))\n",
    "df_food[\"Score\"] = df_food[\"Sentiment\"].apply(lambda x: polar(x))\n",
    "df_attract[\"Score\"] = df_attract[\"Sentiment\"].apply(lambda x: polar(x))\n",
    "df_accom.head(2)"
   ]
  },
  {
   "cell_type": "code",
   "execution_count": 156,
   "id": "ac7af6ff",
   "metadata": {},
   "outputs": [
    {
     "data": {
      "text/plain": [
       "neutral     13454\n",
       "positive     8853\n",
       "negative     1672\n",
       "Name: Score, dtype: int64"
      ]
     },
     "execution_count": 156,
     "metadata": {},
     "output_type": "execute_result"
    }
   ],
   "source": [
    "df_accom[\"Score\"].value_counts()"
   ]
  },
  {
   "cell_type": "code",
   "execution_count": 157,
   "id": "f624f734",
   "metadata": {},
   "outputs": [
    {
     "data": {
      "text/plain": [
       "neutral     20626\n",
       "positive    16797\n",
       "negative     2264\n",
       "Name: Score, dtype: int64"
      ]
     },
     "execution_count": 157,
     "metadata": {},
     "output_type": "execute_result"
    }
   ],
   "source": [
    "df_food[\"Score\"].value_counts()"
   ]
  },
  {
   "cell_type": "code",
   "execution_count": 158,
   "id": "ae8cd6f8",
   "metadata": {},
   "outputs": [
    {
     "data": {
      "text/plain": [
       "neutral     4013\n",
       "positive    3141\n",
       "negative     352\n",
       "Name: Score, dtype: int64"
      ]
     },
     "execution_count": 158,
     "metadata": {},
     "output_type": "execute_result"
    }
   ],
   "source": [
    "df_attract[\"Score\"].value_counts()"
   ]
  },
  {
   "cell_type": "markdown",
   "id": "4d472270",
   "metadata": {},
   "source": [
    "# Section 3: Category Analysis"
   ]
  },
  {
   "cell_type": "code",
   "execution_count": 114,
   "id": "1a471477",
   "metadata": {},
   "outputs": [],
   "source": [
    "# Numbers of aspects split into positive and negative into one dataframe\n",
    "\n",
    "def aspect_all(df):\n",
    "    \n",
    "    pos_df = df[df[\"Score\"] == \"positive\"]\n",
    "    neg_df = df[df[\"Score\"] == \"negative\"]\n",
    "    pos_df = pd.DataFrame(pos_df[\"Topic Count\"].value_counts())\n",
    "    neg_df = pd.DataFrame(neg_df[\"Topic Count\"].value_counts())\n",
    "    pos_df.columns = [\"Num Pos\"]\n",
    "    neg_df.columns = [\"Num Neg\"]\n",
    "    df_sent = pd.concat([pos_df,neg_df],axis = 1)\n",
    "    df_sent[\"%Pos\"] = round(df_sent[\"Num Pos\"]/(df_sent[\"Num Pos\"] + df_sent[\"Num Neg\"]),2)*100\n",
    "    df_sent[\"%Neg\"] = round(df_sent[\"Num Neg\"]/(df_sent[\"Num Pos\"] + df_sent[\"Num Neg\"]),2)*100\n",
    "    df_sent.sort_index(inplace = True)\n",
    "    return df_sent\n",
    "    "
   ]
  },
  {
   "cell_type": "code",
   "execution_count": 173,
   "id": "dc75cd5f",
   "metadata": {},
   "outputs": [],
   "source": [
    "def graph_sentiment_numbers(name,df):\n",
    "    \n",
    "    labels = list(df.index)\n",
    "    pos = list(df[\"%Pos\"])\n",
    "    neg = list(df[\"%Neg\"]*-1)\n",
    "\n",
    "    x = np.arange(len(labels))  # the label locations\n",
    "    width = 0.35  # the width of the bars\n",
    "\n",
    "    fig, ax = plt.subplots(figsize = (10,6))\n",
    "    ax.barh(x - width/2, pos, width, label='Pos',color = \"lightsteelblue\")\n",
    "    ax.barh(x + width/2, neg, width, label='Neg',color = \"slategrey\")\n",
    "\n",
    "    # Add some text for labels, title and custom x-axis tick labels, etc.\n",
    "    ax.set_title(name + \" - % Positive and Negative\")\n",
    "    ax.set_yticks(x)\n",
    "    ax.set_yticklabels(labels)\n",
    "    #(\"% of Aspect\")\n",
    "    ax.spines['right'].set_visible(False)\n",
    "    ax.spines['top'].set_visible(False)\n",
    "    ax.legend(frameon = False, loc = \"best\")\n",
    "    ax.invert_yaxis()\n",
    "\n",
    "    fig.tight_layout()\n",
    "\n",
    "    plt.show()"
   ]
  },
  {
   "cell_type": "markdown",
   "id": "aeaadaa0",
   "metadata": {},
   "source": [
    "## Accomodation"
   ]
  },
  {
   "cell_type": "code",
   "execution_count": 134,
   "id": "75feafa6",
   "metadata": {},
   "outputs": [
    {
     "data": {
      "text/html": [
       "<div>\n",
       "<style scoped>\n",
       "    .dataframe tbody tr th:only-of-type {\n",
       "        vertical-align: middle;\n",
       "    }\n",
       "\n",
       "    .dataframe tbody tr th {\n",
       "        vertical-align: top;\n",
       "    }\n",
       "\n",
       "    .dataframe thead th {\n",
       "        text-align: right;\n",
       "    }\n",
       "</style>\n",
       "<table border=\"1\" class=\"dataframe\">\n",
       "  <thead>\n",
       "    <tr style=\"text-align: right;\">\n",
       "      <th></th>\n",
       "      <th>Num Pos</th>\n",
       "      <th>Num Neg</th>\n",
       "      <th>%Pos</th>\n",
       "      <th>%Neg</th>\n",
       "    </tr>\n",
       "  </thead>\n",
       "  <tbody>\n",
       "    <tr>\n",
       "      <th>CustServ</th>\n",
       "      <td>389</td>\n",
       "      <td>92</td>\n",
       "      <td>81.0</td>\n",
       "      <td>19.0</td>\n",
       "    </tr>\n",
       "    <tr>\n",
       "      <th>FamilyExp</th>\n",
       "      <td>820</td>\n",
       "      <td>82</td>\n",
       "      <td>91.0</td>\n",
       "      <td>9.0</td>\n",
       "    </tr>\n",
       "    <tr>\n",
       "      <th>Food</th>\n",
       "      <td>736</td>\n",
       "      <td>90</td>\n",
       "      <td>89.0</td>\n",
       "      <td>11.0</td>\n",
       "    </tr>\n",
       "    <tr>\n",
       "      <th>HotelGen</th>\n",
       "      <td>392</td>\n",
       "      <td>43</td>\n",
       "      <td>90.0</td>\n",
       "      <td>10.0</td>\n",
       "    </tr>\n",
       "    <tr>\n",
       "      <th>Leisure</th>\n",
       "      <td>384</td>\n",
       "      <td>85</td>\n",
       "      <td>82.0</td>\n",
       "      <td>18.0</td>\n",
       "    </tr>\n",
       "    <tr>\n",
       "      <th>Location</th>\n",
       "      <td>759</td>\n",
       "      <td>129</td>\n",
       "      <td>85.0</td>\n",
       "      <td>15.0</td>\n",
       "    </tr>\n",
       "    <tr>\n",
       "      <th>MealExp</th>\n",
       "      <td>502</td>\n",
       "      <td>156</td>\n",
       "      <td>76.0</td>\n",
       "      <td>24.0</td>\n",
       "    </tr>\n",
       "    <tr>\n",
       "      <th>Parking&amp;Fac</th>\n",
       "      <td>306</td>\n",
       "      <td>107</td>\n",
       "      <td>74.0</td>\n",
       "      <td>26.0</td>\n",
       "    </tr>\n",
       "    <tr>\n",
       "      <th>Room</th>\n",
       "      <td>1553</td>\n",
       "      <td>325</td>\n",
       "      <td>83.0</td>\n",
       "      <td>17.0</td>\n",
       "    </tr>\n",
       "    <tr>\n",
       "      <th>RoomComf</th>\n",
       "      <td>490</td>\n",
       "      <td>61</td>\n",
       "      <td>89.0</td>\n",
       "      <td>11.0</td>\n",
       "    </tr>\n",
       "    <tr>\n",
       "      <th>RoomFac</th>\n",
       "      <td>661</td>\n",
       "      <td>79</td>\n",
       "      <td>89.0</td>\n",
       "      <td>11.0</td>\n",
       "    </tr>\n",
       "    <tr>\n",
       "      <th>RoomLoc</th>\n",
       "      <td>690</td>\n",
       "      <td>212</td>\n",
       "      <td>76.0</td>\n",
       "      <td>24.0</td>\n",
       "    </tr>\n",
       "    <tr>\n",
       "      <th>Service&amp;Staff</th>\n",
       "      <td>855</td>\n",
       "      <td>121</td>\n",
       "      <td>88.0</td>\n",
       "      <td>12.0</td>\n",
       "    </tr>\n",
       "    <tr>\n",
       "      <th>Value</th>\n",
       "      <td>316</td>\n",
       "      <td>90</td>\n",
       "      <td>78.0</td>\n",
       "      <td>22.0</td>\n",
       "    </tr>\n",
       "  </tbody>\n",
       "</table>\n",
       "</div>"
      ],
      "text/plain": [
       "               Num Pos  Num Neg  %Pos  %Neg\n",
       "CustServ           389       92  81.0  19.0\n",
       "FamilyExp          820       82  91.0   9.0\n",
       "Food               736       90  89.0  11.0\n",
       "HotelGen           392       43  90.0  10.0\n",
       "Leisure            384       85  82.0  18.0\n",
       "Location           759      129  85.0  15.0\n",
       "MealExp            502      156  76.0  24.0\n",
       "Parking&Fac        306      107  74.0  26.0\n",
       "Room              1553      325  83.0  17.0\n",
       "RoomComf           490       61  89.0  11.0\n",
       "RoomFac            661       79  89.0  11.0\n",
       "RoomLoc            690      212  76.0  24.0\n",
       "Service&Staff      855      121  88.0  12.0\n",
       "Value              316       90  78.0  22.0"
      ]
     },
     "execution_count": 134,
     "metadata": {},
     "output_type": "execute_result"
    }
   ],
   "source": [
    "accom_sent = aspect_all(df_accom)\n",
    "accom_sent"
   ]
  },
  {
   "cell_type": "markdown",
   "id": "a22046bc",
   "metadata": {},
   "source": [
    "Review noun phrases are predominantly positive, with the highest % positive relating to the Family Experience and the lowest to Parking & Other Facilities"
   ]
  },
  {
   "cell_type": "code",
   "execution_count": 135,
   "id": "96baba7d",
   "metadata": {},
   "outputs": [
    {
     "data": {
      "image/png": "[encoded data removed]",
      "text/plain": [
       "<Figure size 720x432 with 1 Axes>"
      ]
     },
     "metadata": {
      "needs_background": "light"
     },
     "output_type": "display_data"
    }
   ],
   "source": [
    "graph_sentiment_numbers(\"Accommodation Aspects Arun\",accom_sent)"
   ]
  },
  {
   "cell_type": "markdown",
   "id": "db8cba47",
   "metadata": {},
   "source": [
    "### Split down by town"
   ]
  },
  {
   "cell_type": "code",
   "execution_count": 136,
   "id": "832437ed",
   "metadata": {},
   "outputs": [],
   "source": [
    "arundel_accom_aspects_pos = df_accom[(df_accom[\"Town\"] == \"Arundel\") & (df_accom[\"Score\"] == \"positive\")]\n",
    "arundel_accom_aspects_neg = df_accom[(df_accom[\"Town\"] == \"Bognor\") & (df_accom[\"Score\"] == \"negative\")]\n",
    "bognor_accom_aspects_pos = df_accom[(df_accom[\"Town\"] == \"Bognor\") & (df_accom[\"Score\"] == \"positive\")]\n",
    "bognor_accom_aspects_neg = df_accom[(df_accom[\"Town\"] == \"Bognor\") & (df_accom[\"Score\"] == \"negative\")]\n",
    "little_accom_aspects_pos = df_accom[(df_accom[\"Town\"] == \"Littlehampton\") & (df_accom[\"Score\"] == \"positive\")]\n",
    "little_accom_aspects_neg = df_accom[(df_accom[\"Town\"] == \"Littlehampton\") & (df_accom[\"Score\"] == \"negative\")]"
   ]
  },
  {
   "cell_type": "code",
   "execution_count": 137,
   "id": "c3d10d6d",
   "metadata": {},
   "outputs": [],
   "source": [
    "# Create dataframe to compare percentages for each aspect for the town\n",
    "def aspect_perc(df1,df2):\n",
    "    df_pos = pd.DataFrame(df1[\"Topic Count\"].value_counts())\n",
    "    df_neg = pd.DataFrame(df2[\"Topic Count\"].value_counts())\n",
    "    df_comb = pd.concat([df_pos,df_neg],axis = 1)\n",
    "    df_comb.columns = [\"Num Pos\",\"Num Neg\"]\n",
    "    df_comb[\"%Pos\"] = round(df_comb[\"Num Pos\"]/(df_comb[\"Num Pos\"] + df_comb[\"Num Neg\"]),2)*100\n",
    "    df_comb[\"%Neg\"] = round(df_comb[\"Num Neg\"]/(df_comb[\"Num Neg\"] + df_comb[\"Num Pos\"]),2)*100\n",
    "    df_comb.sort_index(inplace = True)\n",
    "    \n",
    "    return df_comb\n"
   ]
  },
  {
   "cell_type": "markdown",
   "id": "63dfc110",
   "metadata": {},
   "source": [
    "### Arundel"
   ]
  },
  {
   "cell_type": "code",
   "execution_count": 138,
   "id": "f6f4abe5",
   "metadata": {},
   "outputs": [
    {
     "data": {
      "text/html": [
       "<div>\n",
       "<style scoped>\n",
       "    .dataframe tbody tr th:only-of-type {\n",
       "        vertical-align: middle;\n",
       "    }\n",
       "\n",
       "    .dataframe tbody tr th {\n",
       "        vertical-align: top;\n",
       "    }\n",
       "\n",
       "    .dataframe thead th {\n",
       "        text-align: right;\n",
       "    }\n",
       "</style>\n",
       "<table border=\"1\" class=\"dataframe\">\n",
       "  <thead>\n",
       "    <tr style=\"text-align: right;\">\n",
       "      <th></th>\n",
       "      <th>Num Pos</th>\n",
       "      <th>Num Neg</th>\n",
       "      <th>%Pos</th>\n",
       "      <th>%Neg</th>\n",
       "    </tr>\n",
       "  </thead>\n",
       "  <tbody>\n",
       "    <tr>\n",
       "      <th>CustServ</th>\n",
       "      <td>115</td>\n",
       "      <td>49</td>\n",
       "      <td>70.0</td>\n",
       "      <td>30.0</td>\n",
       "    </tr>\n",
       "    <tr>\n",
       "      <th>FamilyExp</th>\n",
       "      <td>173</td>\n",
       "      <td>50</td>\n",
       "      <td>78.0</td>\n",
       "      <td>22.0</td>\n",
       "    </tr>\n",
       "    <tr>\n",
       "      <th>Food</th>\n",
       "      <td>257</td>\n",
       "      <td>39</td>\n",
       "      <td>87.0</td>\n",
       "      <td>13.0</td>\n",
       "    </tr>\n",
       "    <tr>\n",
       "      <th>HotelGen</th>\n",
       "      <td>159</td>\n",
       "      <td>21</td>\n",
       "      <td>88.0</td>\n",
       "      <td>12.0</td>\n",
       "    </tr>\n",
       "    <tr>\n",
       "      <th>Leisure</th>\n",
       "      <td>42</td>\n",
       "      <td>61</td>\n",
       "      <td>41.0</td>\n",
       "      <td>59.0</td>\n",
       "    </tr>\n",
       "    <tr>\n",
       "      <th>Location</th>\n",
       "      <td>272</td>\n",
       "      <td>72</td>\n",
       "      <td>79.0</td>\n",
       "      <td>21.0</td>\n",
       "    </tr>\n",
       "    <tr>\n",
       "      <th>MealExp</th>\n",
       "      <td>151</td>\n",
       "      <td>67</td>\n",
       "      <td>69.0</td>\n",
       "      <td>31.0</td>\n",
       "    </tr>\n",
       "    <tr>\n",
       "      <th>Parking&amp;Fac</th>\n",
       "      <td>55</td>\n",
       "      <td>32</td>\n",
       "      <td>63.0</td>\n",
       "      <td>37.0</td>\n",
       "    </tr>\n",
       "    <tr>\n",
       "      <th>Room</th>\n",
       "      <td>555</td>\n",
       "      <td>185</td>\n",
       "      <td>75.0</td>\n",
       "      <td>25.0</td>\n",
       "    </tr>\n",
       "    <tr>\n",
       "      <th>RoomComf</th>\n",
       "      <td>158</td>\n",
       "      <td>31</td>\n",
       "      <td>84.0</td>\n",
       "      <td>16.0</td>\n",
       "    </tr>\n",
       "    <tr>\n",
       "      <th>RoomFac</th>\n",
       "      <td>150</td>\n",
       "      <td>37</td>\n",
       "      <td>80.0</td>\n",
       "      <td>20.0</td>\n",
       "    </tr>\n",
       "    <tr>\n",
       "      <th>RoomLoc</th>\n",
       "      <td>194</td>\n",
       "      <td>125</td>\n",
       "      <td>61.0</td>\n",
       "      <td>39.0</td>\n",
       "    </tr>\n",
       "    <tr>\n",
       "      <th>Service&amp;Staff</th>\n",
       "      <td>297</td>\n",
       "      <td>57</td>\n",
       "      <td>84.0</td>\n",
       "      <td>16.0</td>\n",
       "    </tr>\n",
       "    <tr>\n",
       "      <th>Value</th>\n",
       "      <td>104</td>\n",
       "      <td>56</td>\n",
       "      <td>65.0</td>\n",
       "      <td>35.0</td>\n",
       "    </tr>\n",
       "  </tbody>\n",
       "</table>\n",
       "</div>"
      ],
      "text/plain": [
       "               Num Pos  Num Neg  %Pos  %Neg\n",
       "CustServ           115       49  70.0  30.0\n",
       "FamilyExp          173       50  78.0  22.0\n",
       "Food               257       39  87.0  13.0\n",
       "HotelGen           159       21  88.0  12.0\n",
       "Leisure             42       61  41.0  59.0\n",
       "Location           272       72  79.0  21.0\n",
       "MealExp            151       67  69.0  31.0\n",
       "Parking&Fac         55       32  63.0  37.0\n",
       "Room               555      185  75.0  25.0\n",
       "RoomComf           158       31  84.0  16.0\n",
       "RoomFac            150       37  80.0  20.0\n",
       "RoomLoc            194      125  61.0  39.0\n",
       "Service&Staff      297       57  84.0  16.0\n",
       "Value              104       56  65.0  35.0"
      ]
     },
     "execution_count": 138,
     "metadata": {},
     "output_type": "execute_result"
    }
   ],
   "source": [
    "arundel_percent = aspect_perc(arundel_accom_aspects_pos,arundel_accom_aspects_neg)\n",
    "arundel_percent"
   ]
  },
  {
   "cell_type": "code",
   "execution_count": 139,
   "id": "14ab06dc",
   "metadata": {},
   "outputs": [
    {
     "data": {
      "image/png": "[encoded data removed]",
      "text/plain": [
       "<Figure size 720x432 with 1 Axes>"
      ]
     },
     "metadata": {
      "needs_background": "light"
     },
     "output_type": "display_data"
    }
   ],
   "source": [
    "graph_sentiment_numbers(\"Accommodation Aspects Arundel\",arundel_percent)"
   ]
  },
  {
   "cell_type": "markdown",
   "id": "df0e3b7d",
   "metadata": {},
   "source": [
    "### Bognor"
   ]
  },
  {
   "cell_type": "code",
   "execution_count": 140,
   "id": "94a7908c",
   "metadata": {},
   "outputs": [
    {
     "data": {
      "text/html": [
       "<div>\n",
       "<style scoped>\n",
       "    .dataframe tbody tr th:only-of-type {\n",
       "        vertical-align: middle;\n",
       "    }\n",
       "\n",
       "    .dataframe tbody tr th {\n",
       "        vertical-align: top;\n",
       "    }\n",
       "\n",
       "    .dataframe thead th {\n",
       "        text-align: right;\n",
       "    }\n",
       "</style>\n",
       "<table border=\"1\" class=\"dataframe\">\n",
       "  <thead>\n",
       "    <tr style=\"text-align: right;\">\n",
       "      <th></th>\n",
       "      <th>Num Pos</th>\n",
       "      <th>Num Neg</th>\n",
       "      <th>%Pos</th>\n",
       "      <th>%Neg</th>\n",
       "    </tr>\n",
       "  </thead>\n",
       "  <tbody>\n",
       "    <tr>\n",
       "      <th>CustServ</th>\n",
       "      <td>167</td>\n",
       "      <td>49</td>\n",
       "      <td>77.0</td>\n",
       "      <td>23.0</td>\n",
       "    </tr>\n",
       "    <tr>\n",
       "      <th>FamilyExp</th>\n",
       "      <td>484</td>\n",
       "      <td>50</td>\n",
       "      <td>91.0</td>\n",
       "      <td>9.0</td>\n",
       "    </tr>\n",
       "    <tr>\n",
       "      <th>Food</th>\n",
       "      <td>331</td>\n",
       "      <td>39</td>\n",
       "      <td>89.0</td>\n",
       "      <td>11.0</td>\n",
       "    </tr>\n",
       "    <tr>\n",
       "      <th>HotelGen</th>\n",
       "      <td>146</td>\n",
       "      <td>21</td>\n",
       "      <td>87.0</td>\n",
       "      <td>13.0</td>\n",
       "    </tr>\n",
       "    <tr>\n",
       "      <th>Leisure</th>\n",
       "      <td>256</td>\n",
       "      <td>61</td>\n",
       "      <td>81.0</td>\n",
       "      <td>19.0</td>\n",
       "    </tr>\n",
       "    <tr>\n",
       "      <th>Location</th>\n",
       "      <td>277</td>\n",
       "      <td>72</td>\n",
       "      <td>79.0</td>\n",
       "      <td>21.0</td>\n",
       "    </tr>\n",
       "    <tr>\n",
       "      <th>MealExp</th>\n",
       "      <td>217</td>\n",
       "      <td>67</td>\n",
       "      <td>76.0</td>\n",
       "      <td>24.0</td>\n",
       "    </tr>\n",
       "    <tr>\n",
       "      <th>Parking&amp;Fac</th>\n",
       "      <td>158</td>\n",
       "      <td>32</td>\n",
       "      <td>83.0</td>\n",
       "      <td>17.0</td>\n",
       "    </tr>\n",
       "    <tr>\n",
       "      <th>Room</th>\n",
       "      <td>688</td>\n",
       "      <td>185</td>\n",
       "      <td>79.0</td>\n",
       "      <td>21.0</td>\n",
       "    </tr>\n",
       "    <tr>\n",
       "      <th>RoomComf</th>\n",
       "      <td>217</td>\n",
       "      <td>31</td>\n",
       "      <td>88.0</td>\n",
       "      <td>12.0</td>\n",
       "    </tr>\n",
       "    <tr>\n",
       "      <th>RoomFac</th>\n",
       "      <td>354</td>\n",
       "      <td>37</td>\n",
       "      <td>91.0</td>\n",
       "      <td>9.0</td>\n",
       "    </tr>\n",
       "    <tr>\n",
       "      <th>RoomLoc</th>\n",
       "      <td>329</td>\n",
       "      <td>125</td>\n",
       "      <td>72.0</td>\n",
       "      <td>28.0</td>\n",
       "    </tr>\n",
       "    <tr>\n",
       "      <th>Service&amp;Staff</th>\n",
       "      <td>318</td>\n",
       "      <td>57</td>\n",
       "      <td>85.0</td>\n",
       "      <td>15.0</td>\n",
       "    </tr>\n",
       "    <tr>\n",
       "      <th>Value</th>\n",
       "      <td>148</td>\n",
       "      <td>56</td>\n",
       "      <td>73.0</td>\n",
       "      <td>27.0</td>\n",
       "    </tr>\n",
       "  </tbody>\n",
       "</table>\n",
       "</div>"
      ],
      "text/plain": [
       "               Num Pos  Num Neg  %Pos  %Neg\n",
       "CustServ           167       49  77.0  23.0\n",
       "FamilyExp          484       50  91.0   9.0\n",
       "Food               331       39  89.0  11.0\n",
       "HotelGen           146       21  87.0  13.0\n",
       "Leisure            256       61  81.0  19.0\n",
       "Location           277       72  79.0  21.0\n",
       "MealExp            217       67  76.0  24.0\n",
       "Parking&Fac        158       32  83.0  17.0\n",
       "Room               688      185  79.0  21.0\n",
       "RoomComf           217       31  88.0  12.0\n",
       "RoomFac            354       37  91.0   9.0\n",
       "RoomLoc            329      125  72.0  28.0\n",
       "Service&Staff      318       57  85.0  15.0\n",
       "Value              148       56  73.0  27.0"
      ]
     },
     "execution_count": 140,
     "metadata": {},
     "output_type": "execute_result"
    }
   ],
   "source": [
    "bognor_percent = aspect_perc(bognor_accom_aspects_pos,bognor_accom_aspects_neg)\n",
    "bognor_percent"
   ]
  },
  {
   "cell_type": "code",
   "execution_count": 141,
   "id": "d4c98876",
   "metadata": {},
   "outputs": [
    {
     "data": {
      "image/png": "[encoded data removed]",
      "text/plain": [
       "<Figure size 720x432 with 1 Axes>"
      ]
     },
     "metadata": {
      "needs_background": "light"
     },
     "output_type": "display_data"
    }
   ],
   "source": [
    "graph_sentiment_numbers(\"Accommodation Aspects Bognor\",bognor_percent)"
   ]
  },
  {
   "cell_type": "markdown",
   "id": "dd565792",
   "metadata": {},
   "source": [
    "### Littlehampton"
   ]
  },
  {
   "cell_type": "code",
   "execution_count": 142,
   "id": "8c6de7d3",
   "metadata": {},
   "outputs": [
    {
     "data": {
      "text/html": [
       "<div>\n",
       "<style scoped>\n",
       "    .dataframe tbody tr th:only-of-type {\n",
       "        vertical-align: middle;\n",
       "    }\n",
       "\n",
       "    .dataframe tbody tr th {\n",
       "        vertical-align: top;\n",
       "    }\n",
       "\n",
       "    .dataframe thead th {\n",
       "        text-align: right;\n",
       "    }\n",
       "</style>\n",
       "<table border=\"1\" class=\"dataframe\">\n",
       "  <thead>\n",
       "    <tr style=\"text-align: right;\">\n",
       "      <th></th>\n",
       "      <th>Num Pos</th>\n",
       "      <th>Num Neg</th>\n",
       "      <th>%Pos</th>\n",
       "      <th>%Neg</th>\n",
       "    </tr>\n",
       "  </thead>\n",
       "  <tbody>\n",
       "    <tr>\n",
       "      <th>CustServ</th>\n",
       "      <td>107</td>\n",
       "      <td>24</td>\n",
       "      <td>82.0</td>\n",
       "      <td>18.0</td>\n",
       "    </tr>\n",
       "    <tr>\n",
       "      <th>FamilyExp</th>\n",
       "      <td>163</td>\n",
       "      <td>13</td>\n",
       "      <td>93.0</td>\n",
       "      <td>7.0</td>\n",
       "    </tr>\n",
       "    <tr>\n",
       "      <th>Food</th>\n",
       "      <td>148</td>\n",
       "      <td>23</td>\n",
       "      <td>87.0</td>\n",
       "      <td>13.0</td>\n",
       "    </tr>\n",
       "    <tr>\n",
       "      <th>HotelGen</th>\n",
       "      <td>87</td>\n",
       "      <td>5</td>\n",
       "      <td>95.0</td>\n",
       "      <td>5.0</td>\n",
       "    </tr>\n",
       "    <tr>\n",
       "      <th>Leisure</th>\n",
       "      <td>86</td>\n",
       "      <td>14</td>\n",
       "      <td>86.0</td>\n",
       "      <td>14.0</td>\n",
       "    </tr>\n",
       "    <tr>\n",
       "      <th>Location</th>\n",
       "      <td>210</td>\n",
       "      <td>25</td>\n",
       "      <td>89.0</td>\n",
       "      <td>11.0</td>\n",
       "    </tr>\n",
       "    <tr>\n",
       "      <th>MealExp</th>\n",
       "      <td>134</td>\n",
       "      <td>38</td>\n",
       "      <td>78.0</td>\n",
       "      <td>22.0</td>\n",
       "    </tr>\n",
       "    <tr>\n",
       "      <th>Parking&amp;Fac</th>\n",
       "      <td>93</td>\n",
       "      <td>30</td>\n",
       "      <td>76.0</td>\n",
       "      <td>24.0</td>\n",
       "    </tr>\n",
       "    <tr>\n",
       "      <th>Room</th>\n",
       "      <td>310</td>\n",
       "      <td>53</td>\n",
       "      <td>85.0</td>\n",
       "      <td>15.0</td>\n",
       "    </tr>\n",
       "    <tr>\n",
       "      <th>RoomComf</th>\n",
       "      <td>115</td>\n",
       "      <td>14</td>\n",
       "      <td>89.0</td>\n",
       "      <td>11.0</td>\n",
       "    </tr>\n",
       "    <tr>\n",
       "      <th>RoomFac</th>\n",
       "      <td>157</td>\n",
       "      <td>22</td>\n",
       "      <td>88.0</td>\n",
       "      <td>12.0</td>\n",
       "    </tr>\n",
       "    <tr>\n",
       "      <th>RoomLoc</th>\n",
       "      <td>167</td>\n",
       "      <td>41</td>\n",
       "      <td>80.0</td>\n",
       "      <td>20.0</td>\n",
       "    </tr>\n",
       "    <tr>\n",
       "      <th>Service&amp;Staff</th>\n",
       "      <td>240</td>\n",
       "      <td>30</td>\n",
       "      <td>89.0</td>\n",
       "      <td>11.0</td>\n",
       "    </tr>\n",
       "    <tr>\n",
       "      <th>Value</th>\n",
       "      <td>64</td>\n",
       "      <td>20</td>\n",
       "      <td>76.0</td>\n",
       "      <td>24.0</td>\n",
       "    </tr>\n",
       "  </tbody>\n",
       "</table>\n",
       "</div>"
      ],
      "text/plain": [
       "               Num Pos  Num Neg  %Pos  %Neg\n",
       "CustServ           107       24  82.0  18.0\n",
       "FamilyExp          163       13  93.0   7.0\n",
       "Food               148       23  87.0  13.0\n",
       "HotelGen            87        5  95.0   5.0\n",
       "Leisure             86       14  86.0  14.0\n",
       "Location           210       25  89.0  11.0\n",
       "MealExp            134       38  78.0  22.0\n",
       "Parking&Fac         93       30  76.0  24.0\n",
       "Room               310       53  85.0  15.0\n",
       "RoomComf           115       14  89.0  11.0\n",
       "RoomFac            157       22  88.0  12.0\n",
       "RoomLoc            167       41  80.0  20.0\n",
       "Service&Staff      240       30  89.0  11.0\n",
       "Value               64       20  76.0  24.0"
      ]
     },
     "execution_count": 142,
     "metadata": {},
     "output_type": "execute_result"
    }
   ],
   "source": [
    "little_percent = aspect_perc(little_accom_aspects_pos,little_accom_aspects_neg)\n",
    "little_percent"
   ]
  },
  {
   "cell_type": "code",
   "execution_count": 143,
   "id": "c40b86d4",
   "metadata": {},
   "outputs": [
    {
     "data": {
      "image/png": "[encoded data removed]",
      "text/plain": [
       "<Figure size 720x432 with 1 Axes>"
      ]
     },
     "metadata": {
      "needs_background": "light"
     },
     "output_type": "display_data"
    }
   ],
   "source": [
    "graph_sentiment_numbers(\"Accommodation Aspects Littlehampton\",little_percent)"
   ]
  },
  {
   "cell_type": "markdown",
   "id": "e1e2ba24",
   "metadata": {},
   "source": [
    "### Food"
   ]
  },
  {
   "cell_type": "code",
   "execution_count": 159,
   "id": "bdaeffa1",
   "metadata": {},
   "outputs": [
    {
     "data": {
      "text/html": [
       "<div>\n",
       "<style scoped>\n",
       "    .dataframe tbody tr th:only-of-type {\n",
       "        vertical-align: middle;\n",
       "    }\n",
       "\n",
       "    .dataframe tbody tr th {\n",
       "        vertical-align: top;\n",
       "    }\n",
       "\n",
       "    .dataframe thead th {\n",
       "        text-align: right;\n",
       "    }\n",
       "</style>\n",
       "<table border=\"1\" class=\"dataframe\">\n",
       "  <thead>\n",
       "    <tr style=\"text-align: right;\">\n",
       "      <th></th>\n",
       "      <th>Num Pos</th>\n",
       "      <th>Num Neg</th>\n",
       "      <th>%Pos</th>\n",
       "      <th>%Neg</th>\n",
       "    </tr>\n",
       "  </thead>\n",
       "  <tbody>\n",
       "    <tr>\n",
       "      <th>Booking&amp;Table</th>\n",
       "      <td>937</td>\n",
       "      <td>221</td>\n",
       "      <td>81.0</td>\n",
       "      <td>19.0</td>\n",
       "    </tr>\n",
       "    <tr>\n",
       "      <th>Drinks&amp;Ordering</th>\n",
       "      <td>907</td>\n",
       "      <td>194</td>\n",
       "      <td>82.0</td>\n",
       "      <td>18.0</td>\n",
       "    </tr>\n",
       "    <tr>\n",
       "      <th>FoodChoice</th>\n",
       "      <td>976</td>\n",
       "      <td>117</td>\n",
       "      <td>89.0</td>\n",
       "      <td>11.0</td>\n",
       "    </tr>\n",
       "    <tr>\n",
       "      <th>FoodGen</th>\n",
       "      <td>4520</td>\n",
       "      <td>491</td>\n",
       "      <td>90.0</td>\n",
       "      <td>10.0</td>\n",
       "    </tr>\n",
       "    <tr>\n",
       "      <th>FoodPort</th>\n",
       "      <td>651</td>\n",
       "      <td>75</td>\n",
       "      <td>90.0</td>\n",
       "      <td>10.0</td>\n",
       "    </tr>\n",
       "    <tr>\n",
       "      <th>MealExp</th>\n",
       "      <td>1281</td>\n",
       "      <td>158</td>\n",
       "      <td>89.0</td>\n",
       "      <td>11.0</td>\n",
       "    </tr>\n",
       "    <tr>\n",
       "      <th>Menu</th>\n",
       "      <td>812</td>\n",
       "      <td>79</td>\n",
       "      <td>91.0</td>\n",
       "      <td>9.0</td>\n",
       "    </tr>\n",
       "    <tr>\n",
       "      <th>Quality</th>\n",
       "      <td>955</td>\n",
       "      <td>172</td>\n",
       "      <td>85.0</td>\n",
       "      <td>15.0</td>\n",
       "    </tr>\n",
       "    <tr>\n",
       "      <th>Service</th>\n",
       "      <td>1820</td>\n",
       "      <td>262</td>\n",
       "      <td>87.0</td>\n",
       "      <td>13.0</td>\n",
       "    </tr>\n",
       "    <tr>\n",
       "      <th>StaffGen</th>\n",
       "      <td>1762</td>\n",
       "      <td>249</td>\n",
       "      <td>88.0</td>\n",
       "      <td>12.0</td>\n",
       "    </tr>\n",
       "    <tr>\n",
       "      <th>VFM</th>\n",
       "      <td>1060</td>\n",
       "      <td>93</td>\n",
       "      <td>92.0</td>\n",
       "      <td>8.0</td>\n",
       "    </tr>\n",
       "    <tr>\n",
       "      <th>VisitExp</th>\n",
       "      <td>1116</td>\n",
       "      <td>153</td>\n",
       "      <td>88.0</td>\n",
       "      <td>12.0</td>\n",
       "    </tr>\n",
       "  </tbody>\n",
       "</table>\n",
       "</div>"
      ],
      "text/plain": [
       "                 Num Pos  Num Neg  %Pos  %Neg\n",
       "Booking&Table        937      221  81.0  19.0\n",
       "Drinks&Ordering      907      194  82.0  18.0\n",
       "FoodChoice           976      117  89.0  11.0\n",
       "FoodGen             4520      491  90.0  10.0\n",
       "FoodPort             651       75  90.0  10.0\n",
       "MealExp             1281      158  89.0  11.0\n",
       "Menu                 812       79  91.0   9.0\n",
       "Quality              955      172  85.0  15.0\n",
       "Service             1820      262  87.0  13.0\n",
       "StaffGen            1762      249  88.0  12.0\n",
       "VFM                 1060       93  92.0   8.0\n",
       "VisitExp            1116      153  88.0  12.0"
      ]
     },
     "execution_count": 159,
     "metadata": {},
     "output_type": "execute_result"
    }
   ],
   "source": [
    "food_sent = aspect_all(df_food)\n",
    "food_sent"
   ]
  },
  {
   "cell_type": "code",
   "execution_count": 160,
   "id": "6b1354cd",
   "metadata": {},
   "outputs": [
    {
     "data": {
      "image/png": "[encoded data removed]",
      "text/plain": [
       "<Figure size 720x432 with 1 Axes>"
      ]
     },
     "metadata": {
      "needs_background": "light"
     },
     "output_type": "display_data"
    }
   ],
   "source": [
    "graph_sentiment_numbers(\"Accommodation Aspects Arun\",food_sent)"
   ]
  },
  {
   "cell_type": "markdown",
   "id": "9fb87516",
   "metadata": {},
   "source": [
    "### Split down by town"
   ]
  },
  {
   "cell_type": "code",
   "execution_count": 161,
   "id": "f5788004",
   "metadata": {},
   "outputs": [],
   "source": [
    "arundel_food_aspects_pos = df_food[(df_food[\"Town\"] == \"Arundel\") & (df_food[\"Score\"] == \"positive\")]\n",
    "arundel_food_aspects_neg = df_food[(df_food[\"Town\"] == \"Bognor\") & (df_food[\"Score\"] == \"negative\")]\n",
    "bognor_food_aspects_pos = df_food[(df_food[\"Town\"] == \"Bognor\") & (df_food[\"Score\"] == \"positive\")]\n",
    "bognor_food_aspects_neg = df_food[(df_food[\"Town\"] == \"Bognor\") & (df_food[\"Score\"] == \"negative\")]\n",
    "little_food_aspects_pos = df_food[(df_food[\"Town\"] == \"Littlehampton\") & (df_food[\"Score\"] == \"positive\")]\n",
    "little_food_aspects_neg = df_food[(df_food[\"Town\"] == \"Littlehampton\") & (df_food[\"Score\"] == \"negative\")]"
   ]
  },
  {
   "cell_type": "markdown",
   "id": "e4db9167",
   "metadata": {},
   "source": [
    "### Arundel"
   ]
  },
  {
   "cell_type": "code",
   "execution_count": 162,
   "id": "30f9e140",
   "metadata": {},
   "outputs": [
    {
     "data": {
      "text/html": [
       "<div>\n",
       "<style scoped>\n",
       "    .dataframe tbody tr th:only-of-type {\n",
       "        vertical-align: middle;\n",
       "    }\n",
       "\n",
       "    .dataframe tbody tr th {\n",
       "        vertical-align: top;\n",
       "    }\n",
       "\n",
       "    .dataframe thead th {\n",
       "        text-align: right;\n",
       "    }\n",
       "</style>\n",
       "<table border=\"1\" class=\"dataframe\">\n",
       "  <thead>\n",
       "    <tr style=\"text-align: right;\">\n",
       "      <th></th>\n",
       "      <th>Num Pos</th>\n",
       "      <th>Num Neg</th>\n",
       "      <th>%Pos</th>\n",
       "      <th>%Neg</th>\n",
       "    </tr>\n",
       "  </thead>\n",
       "  <tbody>\n",
       "    <tr>\n",
       "      <th>Booking&amp;Table</th>\n",
       "      <td>371</td>\n",
       "      <td>74</td>\n",
       "      <td>83.0</td>\n",
       "      <td>17.0</td>\n",
       "    </tr>\n",
       "    <tr>\n",
       "      <th>Drinks&amp;Ordering</th>\n",
       "      <td>376</td>\n",
       "      <td>72</td>\n",
       "      <td>84.0</td>\n",
       "      <td>16.0</td>\n",
       "    </tr>\n",
       "    <tr>\n",
       "      <th>FoodChoice</th>\n",
       "      <td>376</td>\n",
       "      <td>29</td>\n",
       "      <td>93.0</td>\n",
       "      <td>7.0</td>\n",
       "    </tr>\n",
       "    <tr>\n",
       "      <th>FoodGen</th>\n",
       "      <td>1621</td>\n",
       "      <td>191</td>\n",
       "      <td>89.0</td>\n",
       "      <td>11.0</td>\n",
       "    </tr>\n",
       "    <tr>\n",
       "      <th>FoodPort</th>\n",
       "      <td>214</td>\n",
       "      <td>25</td>\n",
       "      <td>90.0</td>\n",
       "      <td>10.0</td>\n",
       "    </tr>\n",
       "    <tr>\n",
       "      <th>MealExp</th>\n",
       "      <td>426</td>\n",
       "      <td>64</td>\n",
       "      <td>87.0</td>\n",
       "      <td>13.0</td>\n",
       "    </tr>\n",
       "    <tr>\n",
       "      <th>Menu</th>\n",
       "      <td>296</td>\n",
       "      <td>28</td>\n",
       "      <td>91.0</td>\n",
       "      <td>9.0</td>\n",
       "    </tr>\n",
       "    <tr>\n",
       "      <th>Quality</th>\n",
       "      <td>346</td>\n",
       "      <td>58</td>\n",
       "      <td>86.0</td>\n",
       "      <td>14.0</td>\n",
       "    </tr>\n",
       "    <tr>\n",
       "      <th>Service</th>\n",
       "      <td>607</td>\n",
       "      <td>93</td>\n",
       "      <td>87.0</td>\n",
       "      <td>13.0</td>\n",
       "    </tr>\n",
       "    <tr>\n",
       "      <th>StaffGen</th>\n",
       "      <td>652</td>\n",
       "      <td>85</td>\n",
       "      <td>88.0</td>\n",
       "      <td>12.0</td>\n",
       "    </tr>\n",
       "    <tr>\n",
       "      <th>VFM</th>\n",
       "      <td>352</td>\n",
       "      <td>37</td>\n",
       "      <td>90.0</td>\n",
       "      <td>10.0</td>\n",
       "    </tr>\n",
       "    <tr>\n",
       "      <th>VisitExp</th>\n",
       "      <td>415</td>\n",
       "      <td>36</td>\n",
       "      <td>92.0</td>\n",
       "      <td>8.0</td>\n",
       "    </tr>\n",
       "  </tbody>\n",
       "</table>\n",
       "</div>"
      ],
      "text/plain": [
       "                 Num Pos  Num Neg  %Pos  %Neg\n",
       "Booking&Table        371       74  83.0  17.0\n",
       "Drinks&Ordering      376       72  84.0  16.0\n",
       "FoodChoice           376       29  93.0   7.0\n",
       "FoodGen             1621      191  89.0  11.0\n",
       "FoodPort             214       25  90.0  10.0\n",
       "MealExp              426       64  87.0  13.0\n",
       "Menu                 296       28  91.0   9.0\n",
       "Quality              346       58  86.0  14.0\n",
       "Service              607       93  87.0  13.0\n",
       "StaffGen             652       85  88.0  12.0\n",
       "VFM                  352       37  90.0  10.0\n",
       "VisitExp             415       36  92.0   8.0"
      ]
     },
     "execution_count": 162,
     "metadata": {},
     "output_type": "execute_result"
    }
   ],
   "source": [
    "arundel_percent_food = aspect_perc(arundel_food_aspects_pos,arundel_food_aspects_neg)\n",
    "arundel_percent_food"
   ]
  },
  {
   "cell_type": "code",
   "execution_count": 163,
   "id": "df455992",
   "metadata": {},
   "outputs": [
    {
     "data": {
      "image/png": "[encoded data removed]",
      "text/plain": [
       "<Figure size 720x432 with 1 Axes>"
      ]
     },
     "metadata": {
      "needs_background": "light"
     },
     "output_type": "display_data"
    }
   ],
   "source": [
    "graph_sentiment_numbers(\"Food Aspects Arundel\",arundel_percent_food)"
   ]
  },
  {
   "cell_type": "markdown",
   "id": "ad81c1f8",
   "metadata": {},
   "source": [
    "### Bognor"
   ]
  },
  {
   "cell_type": "code",
   "execution_count": 164,
   "id": "d03917f6",
   "metadata": {},
   "outputs": [
    {
     "data": {
      "text/html": [
       "<div>\n",
       "<style scoped>\n",
       "    .dataframe tbody tr th:only-of-type {\n",
       "        vertical-align: middle;\n",
       "    }\n",
       "\n",
       "    .dataframe tbody tr th {\n",
       "        vertical-align: top;\n",
       "    }\n",
       "\n",
       "    .dataframe thead th {\n",
       "        text-align: right;\n",
       "    }\n",
       "</style>\n",
       "<table border=\"1\" class=\"dataframe\">\n",
       "  <thead>\n",
       "    <tr style=\"text-align: right;\">\n",
       "      <th></th>\n",
       "      <th>Num Pos</th>\n",
       "      <th>Num Neg</th>\n",
       "      <th>%Pos</th>\n",
       "      <th>%Neg</th>\n",
       "    </tr>\n",
       "  </thead>\n",
       "  <tbody>\n",
       "    <tr>\n",
       "      <th>Booking&amp;Table</th>\n",
       "      <td>261</td>\n",
       "      <td>74</td>\n",
       "      <td>78.0</td>\n",
       "      <td>22.0</td>\n",
       "    </tr>\n",
       "    <tr>\n",
       "      <th>Drinks&amp;Ordering</th>\n",
       "      <td>270</td>\n",
       "      <td>72</td>\n",
       "      <td>79.0</td>\n",
       "      <td>21.0</td>\n",
       "    </tr>\n",
       "    <tr>\n",
       "      <th>FoodChoice</th>\n",
       "      <td>332</td>\n",
       "      <td>29</td>\n",
       "      <td>92.0</td>\n",
       "      <td>8.0</td>\n",
       "    </tr>\n",
       "    <tr>\n",
       "      <th>FoodGen</th>\n",
       "      <td>1623</td>\n",
       "      <td>191</td>\n",
       "      <td>89.0</td>\n",
       "      <td>11.0</td>\n",
       "    </tr>\n",
       "    <tr>\n",
       "      <th>FoodPort</th>\n",
       "      <td>240</td>\n",
       "      <td>25</td>\n",
       "      <td>91.0</td>\n",
       "      <td>9.0</td>\n",
       "    </tr>\n",
       "    <tr>\n",
       "      <th>MealExp</th>\n",
       "      <td>466</td>\n",
       "      <td>64</td>\n",
       "      <td>88.0</td>\n",
       "      <td>12.0</td>\n",
       "    </tr>\n",
       "    <tr>\n",
       "      <th>Menu</th>\n",
       "      <td>275</td>\n",
       "      <td>28</td>\n",
       "      <td>91.0</td>\n",
       "      <td>9.0</td>\n",
       "    </tr>\n",
       "    <tr>\n",
       "      <th>Quality</th>\n",
       "      <td>318</td>\n",
       "      <td>58</td>\n",
       "      <td>85.0</td>\n",
       "      <td>15.0</td>\n",
       "    </tr>\n",
       "    <tr>\n",
       "      <th>Service</th>\n",
       "      <td>722</td>\n",
       "      <td>93</td>\n",
       "      <td>89.0</td>\n",
       "      <td>11.0</td>\n",
       "    </tr>\n",
       "    <tr>\n",
       "      <th>StaffGen</th>\n",
       "      <td>627</td>\n",
       "      <td>85</td>\n",
       "      <td>88.0</td>\n",
       "      <td>12.0</td>\n",
       "    </tr>\n",
       "    <tr>\n",
       "      <th>VFM</th>\n",
       "      <td>391</td>\n",
       "      <td>37</td>\n",
       "      <td>91.0</td>\n",
       "      <td>9.0</td>\n",
       "    </tr>\n",
       "    <tr>\n",
       "      <th>VisitExp</th>\n",
       "      <td>388</td>\n",
       "      <td>36</td>\n",
       "      <td>92.0</td>\n",
       "      <td>8.0</td>\n",
       "    </tr>\n",
       "  </tbody>\n",
       "</table>\n",
       "</div>"
      ],
      "text/plain": [
       "                 Num Pos  Num Neg  %Pos  %Neg\n",
       "Booking&Table        261       74  78.0  22.0\n",
       "Drinks&Ordering      270       72  79.0  21.0\n",
       "FoodChoice           332       29  92.0   8.0\n",
       "FoodGen             1623      191  89.0  11.0\n",
       "FoodPort             240       25  91.0   9.0\n",
       "MealExp              466       64  88.0  12.0\n",
       "Menu                 275       28  91.0   9.0\n",
       "Quality              318       58  85.0  15.0\n",
       "Service              722       93  89.0  11.0\n",
       "StaffGen             627       85  88.0  12.0\n",
       "VFM                  391       37  91.0   9.0\n",
       "VisitExp             388       36  92.0   8.0"
      ]
     },
     "execution_count": 164,
     "metadata": {},
     "output_type": "execute_result"
    }
   ],
   "source": [
    "bognor_percent_food = aspect_perc(bognor_food_aspects_pos,bognor_food_aspects_neg)\n",
    "bognor_percent_food"
   ]
  },
  {
   "cell_type": "code",
   "execution_count": 165,
   "id": "d44ba125",
   "metadata": {},
   "outputs": [
    {
     "data": {
      "image/png": "[encoded data removed]",
      "text/plain": [
       "<Figure size 720x432 with 1 Axes>"
      ]
     },
     "metadata": {
      "needs_background": "light"
     },
     "output_type": "display_data"
    }
   ],
   "source": [
    "graph_sentiment_numbers(\"Food Aspects Bognor\",bognor_percent_food)"
   ]
  },
  {
   "cell_type": "markdown",
   "id": "a22e4bdf",
   "metadata": {},
   "source": [
    "### Littlehampton"
   ]
  },
  {
   "cell_type": "code",
   "execution_count": 166,
   "id": "9ac6cdc6",
   "metadata": {},
   "outputs": [
    {
     "data": {
      "text/html": [
       "<div>\n",
       "<style scoped>\n",
       "    .dataframe tbody tr th:only-of-type {\n",
       "        vertical-align: middle;\n",
       "    }\n",
       "\n",
       "    .dataframe tbody tr th {\n",
       "        vertical-align: top;\n",
       "    }\n",
       "\n",
       "    .dataframe thead th {\n",
       "        text-align: right;\n",
       "    }\n",
       "</style>\n",
       "<table border=\"1\" class=\"dataframe\">\n",
       "  <thead>\n",
       "    <tr style=\"text-align: right;\">\n",
       "      <th></th>\n",
       "      <th>Num Pos</th>\n",
       "      <th>Num Neg</th>\n",
       "      <th>%Pos</th>\n",
       "      <th>%Neg</th>\n",
       "    </tr>\n",
       "  </thead>\n",
       "  <tbody>\n",
       "    <tr>\n",
       "      <th>Booking&amp;Table</th>\n",
       "      <td>305</td>\n",
       "      <td>81</td>\n",
       "      <td>79.0</td>\n",
       "      <td>21.0</td>\n",
       "    </tr>\n",
       "    <tr>\n",
       "      <th>Drinks&amp;Ordering</th>\n",
       "      <td>261</td>\n",
       "      <td>54</td>\n",
       "      <td>83.0</td>\n",
       "      <td>17.0</td>\n",
       "    </tr>\n",
       "    <tr>\n",
       "      <th>FoodChoice</th>\n",
       "      <td>268</td>\n",
       "      <td>51</td>\n",
       "      <td>84.0</td>\n",
       "      <td>16.0</td>\n",
       "    </tr>\n",
       "    <tr>\n",
       "      <th>FoodGen</th>\n",
       "      <td>1276</td>\n",
       "      <td>168</td>\n",
       "      <td>88.0</td>\n",
       "      <td>12.0</td>\n",
       "    </tr>\n",
       "    <tr>\n",
       "      <th>FoodPort</th>\n",
       "      <td>197</td>\n",
       "      <td>23</td>\n",
       "      <td>90.0</td>\n",
       "      <td>10.0</td>\n",
       "    </tr>\n",
       "    <tr>\n",
       "      <th>MealExp</th>\n",
       "      <td>389</td>\n",
       "      <td>57</td>\n",
       "      <td>87.0</td>\n",
       "      <td>13.0</td>\n",
       "    </tr>\n",
       "    <tr>\n",
       "      <th>Menu</th>\n",
       "      <td>241</td>\n",
       "      <td>29</td>\n",
       "      <td>89.0</td>\n",
       "      <td>11.0</td>\n",
       "    </tr>\n",
       "    <tr>\n",
       "      <th>Quality</th>\n",
       "      <td>291</td>\n",
       "      <td>61</td>\n",
       "      <td>83.0</td>\n",
       "      <td>17.0</td>\n",
       "    </tr>\n",
       "    <tr>\n",
       "      <th>Service</th>\n",
       "      <td>491</td>\n",
       "      <td>79</td>\n",
       "      <td>86.0</td>\n",
       "      <td>14.0</td>\n",
       "    </tr>\n",
       "    <tr>\n",
       "      <th>StaffGen</th>\n",
       "      <td>483</td>\n",
       "      <td>85</td>\n",
       "      <td>85.0</td>\n",
       "      <td>15.0</td>\n",
       "    </tr>\n",
       "    <tr>\n",
       "      <th>VFM</th>\n",
       "      <td>317</td>\n",
       "      <td>30</td>\n",
       "      <td>91.0</td>\n",
       "      <td>9.0</td>\n",
       "    </tr>\n",
       "    <tr>\n",
       "      <th>VisitExp</th>\n",
       "      <td>313</td>\n",
       "      <td>50</td>\n",
       "      <td>86.0</td>\n",
       "      <td>14.0</td>\n",
       "    </tr>\n",
       "  </tbody>\n",
       "</table>\n",
       "</div>"
      ],
      "text/plain": [
       "                 Num Pos  Num Neg  %Pos  %Neg\n",
       "Booking&Table        305       81  79.0  21.0\n",
       "Drinks&Ordering      261       54  83.0  17.0\n",
       "FoodChoice           268       51  84.0  16.0\n",
       "FoodGen             1276      168  88.0  12.0\n",
       "FoodPort             197       23  90.0  10.0\n",
       "MealExp              389       57  87.0  13.0\n",
       "Menu                 241       29  89.0  11.0\n",
       "Quality              291       61  83.0  17.0\n",
       "Service              491       79  86.0  14.0\n",
       "StaffGen             483       85  85.0  15.0\n",
       "VFM                  317       30  91.0   9.0\n",
       "VisitExp             313       50  86.0  14.0"
      ]
     },
     "execution_count": 166,
     "metadata": {},
     "output_type": "execute_result"
    }
   ],
   "source": [
    "little_percent_food = aspect_perc(little_food_aspects_pos,little_food_aspects_neg)\n",
    "little_percent_food"
   ]
  },
  {
   "cell_type": "code",
   "execution_count": 167,
   "id": "4afd8d79",
   "metadata": {},
   "outputs": [
    {
     "data": {
      "image/png": "[encoded data removed]",
      "text/plain": [
       "<Figure size 720x432 with 1 Axes>"
      ]
     },
     "metadata": {
      "needs_background": "light"
     },
     "output_type": "display_data"
    }
   ],
   "source": [
    "graph_sentiment_numbers(\"Food Aspects Littlehampton\",little_percent_food)"
   ]
  },
  {
   "cell_type": "markdown",
   "id": "e0b4bdff",
   "metadata": {},
   "source": [
    "### Attractions"
   ]
  },
  {
   "cell_type": "code",
   "execution_count": 278,
   "id": "844e847d",
   "metadata": {},
   "outputs": [
    {
     "data": {
      "text/html": [
       "<div>\n",
       "<style scoped>\n",
       "    .dataframe tbody tr th:only-of-type {\n",
       "        vertical-align: middle;\n",
       "    }\n",
       "\n",
       "    .dataframe tbody tr th {\n",
       "        vertical-align: top;\n",
       "    }\n",
       "\n",
       "    .dataframe thead th {\n",
       "        text-align: right;\n",
       "    }\n",
       "</style>\n",
       "<table border=\"1\" class=\"dataframe\">\n",
       "  <thead>\n",
       "    <tr style=\"text-align: right;\">\n",
       "      <th></th>\n",
       "      <th>Num Pos</th>\n",
       "      <th>Num Neg</th>\n",
       "      <th>%Pos</th>\n",
       "      <th>%Neg</th>\n",
       "    </tr>\n",
       "  </thead>\n",
       "  <tbody>\n",
       "    <tr>\n",
       "      <th>Attraction</th>\n",
       "      <td>174</td>\n",
       "      <td>16</td>\n",
       "      <td>92.0</td>\n",
       "      <td>8.0</td>\n",
       "    </tr>\n",
       "    <tr>\n",
       "      <th>BeachFac</th>\n",
       "      <td>243</td>\n",
       "      <td>23</td>\n",
       "      <td>91.0</td>\n",
       "      <td>9.0</td>\n",
       "    </tr>\n",
       "    <tr>\n",
       "      <th>FamilyExp</th>\n",
       "      <td>473</td>\n",
       "      <td>39</td>\n",
       "      <td>92.0</td>\n",
       "      <td>8.0</td>\n",
       "    </tr>\n",
       "    <tr>\n",
       "      <th>Food</th>\n",
       "      <td>288</td>\n",
       "      <td>42</td>\n",
       "      <td>87.0</td>\n",
       "      <td>13.0</td>\n",
       "    </tr>\n",
       "    <tr>\n",
       "      <th>Gardens&amp;Grounds</th>\n",
       "      <td>226</td>\n",
       "      <td>16</td>\n",
       "      <td>93.0</td>\n",
       "      <td>7.0</td>\n",
       "    </tr>\n",
       "    <tr>\n",
       "      <th>Parking</th>\n",
       "      <td>123</td>\n",
       "      <td>19</td>\n",
       "      <td>87.0</td>\n",
       "      <td>13.0</td>\n",
       "    </tr>\n",
       "    <tr>\n",
       "      <th>PlayArea</th>\n",
       "      <td>288</td>\n",
       "      <td>56</td>\n",
       "      <td>84.0</td>\n",
       "      <td>16.0</td>\n",
       "    </tr>\n",
       "    <tr>\n",
       "      <th>Shop&amp;Facilities</th>\n",
       "      <td>221</td>\n",
       "      <td>23</td>\n",
       "      <td>91.0</td>\n",
       "      <td>9.0</td>\n",
       "    </tr>\n",
       "    <tr>\n",
       "      <th>Staff</th>\n",
       "      <td>240</td>\n",
       "      <td>14</td>\n",
       "      <td>94.0</td>\n",
       "      <td>6.0</td>\n",
       "    </tr>\n",
       "    <tr>\n",
       "      <th>VFM</th>\n",
       "      <td>219</td>\n",
       "      <td>47</td>\n",
       "      <td>82.0</td>\n",
       "      <td>18.0</td>\n",
       "    </tr>\n",
       "    <tr>\n",
       "      <th>VisitExp</th>\n",
       "      <td>408</td>\n",
       "      <td>44</td>\n",
       "      <td>90.0</td>\n",
       "      <td>10.0</td>\n",
       "    </tr>\n",
       "    <tr>\n",
       "      <th>WalkQual</th>\n",
       "      <td>238</td>\n",
       "      <td>13</td>\n",
       "      <td>95.0</td>\n",
       "      <td>5.0</td>\n",
       "    </tr>\n",
       "  </tbody>\n",
       "</table>\n",
       "</div>"
      ],
      "text/plain": [
       "                 Num Pos  Num Neg  %Pos  %Neg\n",
       "Attraction           174       16  92.0   8.0\n",
       "BeachFac             243       23  91.0   9.0\n",
       "FamilyExp            473       39  92.0   8.0\n",
       "Food                 288       42  87.0  13.0\n",
       "Gardens&Grounds      226       16  93.0   7.0\n",
       "Parking              123       19  87.0  13.0\n",
       "PlayArea             288       56  84.0  16.0\n",
       "Shop&Facilities      221       23  91.0   9.0\n",
       "Staff                240       14  94.0   6.0\n",
       "VFM                  219       47  82.0  18.0\n",
       "VisitExp             408       44  90.0  10.0\n",
       "WalkQual             238       13  95.0   5.0"
      ]
     },
     "execution_count": 278,
     "metadata": {},
     "output_type": "execute_result"
    }
   ],
   "source": [
    "attract_sent = aspect_all(df_attract)\n",
    "attract_sent"
   ]
  },
  {
   "cell_type": "code",
   "execution_count": 279,
   "id": "ca5b79aa",
   "metadata": {},
   "outputs": [
    {
     "data": {
      "image/png": "[encoded data removed]",
      "text/plain": [
       "<Figure size 720x432 with 1 Axes>"
      ]
     },
     "metadata": {
      "needs_background": "light"
     },
     "output_type": "display_data"
    }
   ],
   "source": [
    "graph_sentiment_numbers(\"Attraction Aspects Arun\",attract_sent)"
   ]
  },
  {
   "cell_type": "markdown",
   "id": "9942e5d5",
   "metadata": {},
   "source": [
    "## Split down by town"
   ]
  },
  {
   "cell_type": "code",
   "execution_count": 280,
   "id": "e23bdc3c",
   "metadata": {},
   "outputs": [],
   "source": [
    "arundel_attract_aspects_pos = df_attract[(df_attract[\"Town\"] == \"Arundel\") & (df_attract[\"Score\"] == \"positive\")]\n",
    "arundel_attract_aspects_neg = df_attract[(df_attract[\"Town\"] == \"Bognor\") & (df_attract[\"Score\"] == \"negative\")]\n",
    "bognor_attract_aspects_pos = df_attract[(df_attract[\"Town\"] == \"Bognor\") & (df_attract[\"Score\"] == \"positive\")]\n",
    "bognor_attract_aspects_neg = df_attract[(df_attract[\"Town\"] == \"Bognor\") & (df_attract[\"Score\"] == \"negative\")]\n",
    "little_attract_aspects_pos = df_attract[(df_attract[\"Town\"] == \"Littlehampton\") & (df_attract[\"Score\"] == \"positive\")]\n",
    "little_attract_aspects_neg = df_attract[(df_attract[\"Town\"] == \"Littlehampton\") & (df_attract[\"Score\"] == \"negative\")]"
   ]
  },
  {
   "cell_type": "markdown",
   "id": "15bff59b",
   "metadata": {},
   "source": [
    "### Arundel"
   ]
  },
  {
   "cell_type": "code",
   "execution_count": 281,
   "id": "68bfb7ea",
   "metadata": {},
   "outputs": [
    {
     "data": {
      "text/html": [
       "<div>\n",
       "<style scoped>\n",
       "    .dataframe tbody tr th:only-of-type {\n",
       "        vertical-align: middle;\n",
       "    }\n",
       "\n",
       "    .dataframe tbody tr th {\n",
       "        vertical-align: top;\n",
       "    }\n",
       "\n",
       "    .dataframe thead th {\n",
       "        text-align: right;\n",
       "    }\n",
       "</style>\n",
       "<table border=\"1\" class=\"dataframe\">\n",
       "  <thead>\n",
       "    <tr style=\"text-align: right;\">\n",
       "      <th></th>\n",
       "      <th>Num Pos</th>\n",
       "      <th>Num Neg</th>\n",
       "      <th>%Pos</th>\n",
       "      <th>%Neg</th>\n",
       "    </tr>\n",
       "  </thead>\n",
       "  <tbody>\n",
       "    <tr>\n",
       "      <th>Attraction</th>\n",
       "      <td>97</td>\n",
       "      <td>5</td>\n",
       "      <td>95.0</td>\n",
       "      <td>5.0</td>\n",
       "    </tr>\n",
       "    <tr>\n",
       "      <th>BeachFac</th>\n",
       "      <td>106</td>\n",
       "      <td>12</td>\n",
       "      <td>90.0</td>\n",
       "      <td>10.0</td>\n",
       "    </tr>\n",
       "    <tr>\n",
       "      <th>FamilyExp</th>\n",
       "      <td>257</td>\n",
       "      <td>11</td>\n",
       "      <td>96.0</td>\n",
       "      <td>4.0</td>\n",
       "    </tr>\n",
       "    <tr>\n",
       "      <th>Food</th>\n",
       "      <td>153</td>\n",
       "      <td>4</td>\n",
       "      <td>97.0</td>\n",
       "      <td>3.0</td>\n",
       "    </tr>\n",
       "    <tr>\n",
       "      <th>Gardens&amp;Grounds</th>\n",
       "      <td>202</td>\n",
       "      <td>2</td>\n",
       "      <td>99.0</td>\n",
       "      <td>1.0</td>\n",
       "    </tr>\n",
       "    <tr>\n",
       "      <th>Parking</th>\n",
       "      <td>44</td>\n",
       "      <td>8</td>\n",
       "      <td>85.0</td>\n",
       "      <td>15.0</td>\n",
       "    </tr>\n",
       "    <tr>\n",
       "      <th>PlayArea</th>\n",
       "      <td>164</td>\n",
       "      <td>16</td>\n",
       "      <td>91.0</td>\n",
       "      <td>9.0</td>\n",
       "    </tr>\n",
       "    <tr>\n",
       "      <th>Shop&amp;Facilities</th>\n",
       "      <td>152</td>\n",
       "      <td>9</td>\n",
       "      <td>94.0</td>\n",
       "      <td>6.0</td>\n",
       "    </tr>\n",
       "    <tr>\n",
       "      <th>Staff</th>\n",
       "      <td>140</td>\n",
       "      <td>3</td>\n",
       "      <td>98.0</td>\n",
       "      <td>2.0</td>\n",
       "    </tr>\n",
       "    <tr>\n",
       "      <th>VFM</th>\n",
       "      <td>63</td>\n",
       "      <td>25</td>\n",
       "      <td>72.0</td>\n",
       "      <td>28.0</td>\n",
       "    </tr>\n",
       "    <tr>\n",
       "      <th>VisitExp</th>\n",
       "      <td>263</td>\n",
       "      <td>7</td>\n",
       "      <td>97.0</td>\n",
       "      <td>3.0</td>\n",
       "    </tr>\n",
       "    <tr>\n",
       "      <th>WalkQual</th>\n",
       "      <td>168</td>\n",
       "      <td>6</td>\n",
       "      <td>97.0</td>\n",
       "      <td>3.0</td>\n",
       "    </tr>\n",
       "  </tbody>\n",
       "</table>\n",
       "</div>"
      ],
      "text/plain": [
       "                 Num Pos  Num Neg  %Pos  %Neg\n",
       "Attraction            97        5  95.0   5.0\n",
       "BeachFac             106       12  90.0  10.0\n",
       "FamilyExp            257       11  96.0   4.0\n",
       "Food                 153        4  97.0   3.0\n",
       "Gardens&Grounds      202        2  99.0   1.0\n",
       "Parking               44        8  85.0  15.0\n",
       "PlayArea             164       16  91.0   9.0\n",
       "Shop&Facilities      152        9  94.0   6.0\n",
       "Staff                140        3  98.0   2.0\n",
       "VFM                   63       25  72.0  28.0\n",
       "VisitExp             263        7  97.0   3.0\n",
       "WalkQual             168        6  97.0   3.0"
      ]
     },
     "execution_count": 281,
     "metadata": {},
     "output_type": "execute_result"
    }
   ],
   "source": [
    "arundel_percent_attract = aspect_perc(arundel_attract_aspects_pos,arundel_attract_aspects_neg)\n",
    "arundel_percent_attract"
   ]
  },
  {
   "cell_type": "code",
   "execution_count": 283,
   "id": "aca3eed5",
   "metadata": {},
   "outputs": [
    {
     "data": {
      "image/png": "[encoded data removed]",
      "text/plain": [
       "<Figure size 720x432 with 1 Axes>"
      ]
     },
     "metadata": {
      "needs_background": "light"
     },
     "output_type": "display_data"
    }
   ],
   "source": [
    "graph_sentiment_numbers(\"Attraction Aspects Arundel\",arundel_percent_attract)"
   ]
  },
  {
   "cell_type": "markdown",
   "id": "2ed63182",
   "metadata": {},
   "source": [
    "### Bognor"
   ]
  },
  {
   "cell_type": "code",
   "execution_count": 284,
   "id": "54be1124",
   "metadata": {},
   "outputs": [
    {
     "data": {
      "text/html": [
       "<div>\n",
       "<style scoped>\n",
       "    .dataframe tbody tr th:only-of-type {\n",
       "        vertical-align: middle;\n",
       "    }\n",
       "\n",
       "    .dataframe tbody tr th {\n",
       "        vertical-align: top;\n",
       "    }\n",
       "\n",
       "    .dataframe thead th {\n",
       "        text-align: right;\n",
       "    }\n",
       "</style>\n",
       "<table border=\"1\" class=\"dataframe\">\n",
       "  <thead>\n",
       "    <tr style=\"text-align: right;\">\n",
       "      <th></th>\n",
       "      <th>Num Pos</th>\n",
       "      <th>Num Neg</th>\n",
       "      <th>%Pos</th>\n",
       "      <th>%Neg</th>\n",
       "    </tr>\n",
       "  </thead>\n",
       "  <tbody>\n",
       "    <tr>\n",
       "      <th>Attraction</th>\n",
       "      <td>51</td>\n",
       "      <td>5</td>\n",
       "      <td>91.0</td>\n",
       "      <td>9.0</td>\n",
       "    </tr>\n",
       "    <tr>\n",
       "      <th>BeachFac</th>\n",
       "      <td>47</td>\n",
       "      <td>12</td>\n",
       "      <td>80.0</td>\n",
       "      <td>20.0</td>\n",
       "    </tr>\n",
       "    <tr>\n",
       "      <th>FamilyExp</th>\n",
       "      <td>145</td>\n",
       "      <td>11</td>\n",
       "      <td>93.0</td>\n",
       "      <td>7.0</td>\n",
       "    </tr>\n",
       "    <tr>\n",
       "      <th>Food</th>\n",
       "      <td>84</td>\n",
       "      <td>4</td>\n",
       "      <td>95.0</td>\n",
       "      <td>5.0</td>\n",
       "    </tr>\n",
       "    <tr>\n",
       "      <th>Gardens&amp;Grounds</th>\n",
       "      <td>17</td>\n",
       "      <td>2</td>\n",
       "      <td>89.0</td>\n",
       "      <td>11.0</td>\n",
       "    </tr>\n",
       "    <tr>\n",
       "      <th>Parking</th>\n",
       "      <td>59</td>\n",
       "      <td>8</td>\n",
       "      <td>88.0</td>\n",
       "      <td>12.0</td>\n",
       "    </tr>\n",
       "    <tr>\n",
       "      <th>PlayArea</th>\n",
       "      <td>63</td>\n",
       "      <td>16</td>\n",
       "      <td>80.0</td>\n",
       "      <td>20.0</td>\n",
       "    </tr>\n",
       "    <tr>\n",
       "      <th>Shop&amp;Facilities</th>\n",
       "      <td>39</td>\n",
       "      <td>9</td>\n",
       "      <td>81.0</td>\n",
       "      <td>19.0</td>\n",
       "    </tr>\n",
       "    <tr>\n",
       "      <th>Staff</th>\n",
       "      <td>58</td>\n",
       "      <td>3</td>\n",
       "      <td>95.0</td>\n",
       "      <td>5.0</td>\n",
       "    </tr>\n",
       "    <tr>\n",
       "      <th>VFM</th>\n",
       "      <td>111</td>\n",
       "      <td>25</td>\n",
       "      <td>82.0</td>\n",
       "      <td>18.0</td>\n",
       "    </tr>\n",
       "    <tr>\n",
       "      <th>VisitExp</th>\n",
       "      <td>91</td>\n",
       "      <td>7</td>\n",
       "      <td>93.0</td>\n",
       "      <td>7.0</td>\n",
       "    </tr>\n",
       "    <tr>\n",
       "      <th>WalkQual</th>\n",
       "      <td>30</td>\n",
       "      <td>6</td>\n",
       "      <td>83.0</td>\n",
       "      <td>17.0</td>\n",
       "    </tr>\n",
       "  </tbody>\n",
       "</table>\n",
       "</div>"
      ],
      "text/plain": [
       "                 Num Pos  Num Neg  %Pos  %Neg\n",
       "Attraction            51        5  91.0   9.0\n",
       "BeachFac              47       12  80.0  20.0\n",
       "FamilyExp            145       11  93.0   7.0\n",
       "Food                  84        4  95.0   5.0\n",
       "Gardens&Grounds       17        2  89.0  11.0\n",
       "Parking               59        8  88.0  12.0\n",
       "PlayArea              63       16  80.0  20.0\n",
       "Shop&Facilities       39        9  81.0  19.0\n",
       "Staff                 58        3  95.0   5.0\n",
       "VFM                  111       25  82.0  18.0\n",
       "VisitExp              91        7  93.0   7.0\n",
       "WalkQual              30        6  83.0  17.0"
      ]
     },
     "execution_count": 284,
     "metadata": {},
     "output_type": "execute_result"
    }
   ],
   "source": [
    "bognor_percent_attract = aspect_perc(bognor_attract_aspects_pos,bognor_attract_aspects_neg)\n",
    "bognor_percent_attract"
   ]
  },
  {
   "cell_type": "code",
   "execution_count": 285,
   "id": "7b623e7b",
   "metadata": {},
   "outputs": [
    {
     "data": {
      "image/png": "[encoded data removed]",
      "text/plain": [
       "<Figure size 720x432 with 1 Axes>"
      ]
     },
     "metadata": {
      "needs_background": "light"
     },
     "output_type": "display_data"
    }
   ],
   "source": [
    "graph_sentiment_numbers(\"Attraction Aspects Bognor\",bognor_percent_attract)"
   ]
  },
  {
   "cell_type": "markdown",
   "id": "8b95d951",
   "metadata": {},
   "source": [
    "### Littlehampton"
   ]
  },
  {
   "cell_type": "code",
   "execution_count": 286,
   "id": "18a5ef8d",
   "metadata": {},
   "outputs": [
    {
     "data": {
      "text/html": [
       "<div>\n",
       "<style scoped>\n",
       "    .dataframe tbody tr th:only-of-type {\n",
       "        vertical-align: middle;\n",
       "    }\n",
       "\n",
       "    .dataframe tbody tr th {\n",
       "        vertical-align: top;\n",
       "    }\n",
       "\n",
       "    .dataframe thead th {\n",
       "        text-align: right;\n",
       "    }\n",
       "</style>\n",
       "<table border=\"1\" class=\"dataframe\">\n",
       "  <thead>\n",
       "    <tr style=\"text-align: right;\">\n",
       "      <th></th>\n",
       "      <th>Num Pos</th>\n",
       "      <th>Num Neg</th>\n",
       "      <th>%Pos</th>\n",
       "      <th>%Neg</th>\n",
       "    </tr>\n",
       "  </thead>\n",
       "  <tbody>\n",
       "    <tr>\n",
       "      <th>Attraction</th>\n",
       "      <td>26</td>\n",
       "      <td>4.0</td>\n",
       "      <td>87.0</td>\n",
       "      <td>13.0</td>\n",
       "    </tr>\n",
       "    <tr>\n",
       "      <th>BeachFac</th>\n",
       "      <td>90</td>\n",
       "      <td>8.0</td>\n",
       "      <td>92.0</td>\n",
       "      <td>8.0</td>\n",
       "    </tr>\n",
       "    <tr>\n",
       "      <th>FamilyExp</th>\n",
       "      <td>71</td>\n",
       "      <td>6.0</td>\n",
       "      <td>92.0</td>\n",
       "      <td>8.0</td>\n",
       "    </tr>\n",
       "    <tr>\n",
       "      <th>Food</th>\n",
       "      <td>51</td>\n",
       "      <td>13.0</td>\n",
       "      <td>80.0</td>\n",
       "      <td>20.0</td>\n",
       "    </tr>\n",
       "    <tr>\n",
       "      <th>Gardens&amp;Grounds</th>\n",
       "      <td>7</td>\n",
       "      <td>NaN</td>\n",
       "      <td>NaN</td>\n",
       "      <td>NaN</td>\n",
       "    </tr>\n",
       "    <tr>\n",
       "      <th>Parking</th>\n",
       "      <td>20</td>\n",
       "      <td>3.0</td>\n",
       "      <td>87.0</td>\n",
       "      <td>13.0</td>\n",
       "    </tr>\n",
       "    <tr>\n",
       "      <th>PlayArea</th>\n",
       "      <td>61</td>\n",
       "      <td>7.0</td>\n",
       "      <td>90.0</td>\n",
       "      <td>10.0</td>\n",
       "    </tr>\n",
       "    <tr>\n",
       "      <th>Shop&amp;Facilities</th>\n",
       "      <td>30</td>\n",
       "      <td>6.0</td>\n",
       "      <td>83.0</td>\n",
       "      <td>17.0</td>\n",
       "    </tr>\n",
       "    <tr>\n",
       "      <th>Staff</th>\n",
       "      <td>42</td>\n",
       "      <td>3.0</td>\n",
       "      <td>93.0</td>\n",
       "      <td>7.0</td>\n",
       "    </tr>\n",
       "    <tr>\n",
       "      <th>VFM</th>\n",
       "      <td>45</td>\n",
       "      <td>11.0</td>\n",
       "      <td>80.0</td>\n",
       "      <td>20.0</td>\n",
       "    </tr>\n",
       "    <tr>\n",
       "      <th>VisitExp</th>\n",
       "      <td>54</td>\n",
       "      <td>12.0</td>\n",
       "      <td>82.0</td>\n",
       "      <td>18.0</td>\n",
       "    </tr>\n",
       "    <tr>\n",
       "      <th>WalkQual</th>\n",
       "      <td>40</td>\n",
       "      <td>3.0</td>\n",
       "      <td>93.0</td>\n",
       "      <td>7.0</td>\n",
       "    </tr>\n",
       "  </tbody>\n",
       "</table>\n",
       "</div>"
      ],
      "text/plain": [
       "                 Num Pos  Num Neg  %Pos  %Neg\n",
       "Attraction            26      4.0  87.0  13.0\n",
       "BeachFac              90      8.0  92.0   8.0\n",
       "FamilyExp             71      6.0  92.0   8.0\n",
       "Food                  51     13.0  80.0  20.0\n",
       "Gardens&Grounds        7      NaN   NaN   NaN\n",
       "Parking               20      3.0  87.0  13.0\n",
       "PlayArea              61      7.0  90.0  10.0\n",
       "Shop&Facilities       30      6.0  83.0  17.0\n",
       "Staff                 42      3.0  93.0   7.0\n",
       "VFM                   45     11.0  80.0  20.0\n",
       "VisitExp              54     12.0  82.0  18.0\n",
       "WalkQual              40      3.0  93.0   7.0"
      ]
     },
     "execution_count": 286,
     "metadata": {},
     "output_type": "execute_result"
    }
   ],
   "source": [
    "little_percent_attract = aspect_perc(little_attract_aspects_pos,little_attract_aspects_neg)\n",
    "little_percent_attract"
   ]
  },
  {
   "cell_type": "code",
   "execution_count": 287,
   "id": "2a5387fb",
   "metadata": {},
   "outputs": [
    {
     "data": {
      "image/png": "[encoded data removed]",
      "text/plain": [
       "<Figure size 720x432 with 1 Axes>"
      ]
     },
     "metadata": {
      "needs_background": "light"
     },
     "output_type": "display_data"
    }
   ],
   "source": [
    "graph_sentiment_numbers(\"Attraction Aspects Littlehampton\",little_percent_attract)"
   ]
  },
  {
   "cell_type": "markdown",
   "id": "e9de8b59",
   "metadata": {},
   "source": [
    "# Section 4: Sentiment Scores across categories"
   ]
  },
  {
   "cell_type": "markdown",
   "id": "b649d392",
   "metadata": {},
   "source": [
    "Across the district, what aspects were people most positive about?"
   ]
  },
  {
   "cell_type": "markdown",
   "id": "b3a928ea",
   "metadata": {},
   "source": [
    "## Accommodation"
   ]
  },
  {
   "cell_type": "code",
   "execution_count": 180,
   "id": "da63a9d0",
   "metadata": {},
   "outputs": [
    {
     "data": {
      "text/html": [
       "<div>\n",
       "<style scoped>\n",
       "    .dataframe tbody tr th:only-of-type {\n",
       "        vertical-align: middle;\n",
       "    }\n",
       "\n",
       "    .dataframe tbody tr th {\n",
       "        vertical-align: top;\n",
       "    }\n",
       "\n",
       "    .dataframe thead th {\n",
       "        text-align: right;\n",
       "    }\n",
       "</style>\n",
       "<table border=\"1\" class=\"dataframe\">\n",
       "  <thead>\n",
       "    <tr style=\"text-align: right;\">\n",
       "      <th></th>\n",
       "      <th>Topic Count</th>\n",
       "      <th>Sentiment</th>\n",
       "    </tr>\n",
       "  </thead>\n",
       "  <tbody>\n",
       "    <tr>\n",
       "      <th>1</th>\n",
       "      <td>FamilyExp</td>\n",
       "      <td>0.456659</td>\n",
       "    </tr>\n",
       "    <tr>\n",
       "      <th>3</th>\n",
       "      <td>HotelGen</td>\n",
       "      <td>0.433417</td>\n",
       "    </tr>\n",
       "    <tr>\n",
       "      <th>2</th>\n",
       "      <td>Food</td>\n",
       "      <td>0.418877</td>\n",
       "    </tr>\n",
       "    <tr>\n",
       "      <th>12</th>\n",
       "      <td>Service&amp;Staff</td>\n",
       "      <td>0.417853</td>\n",
       "    </tr>\n",
       "    <tr>\n",
       "      <th>5</th>\n",
       "      <td>Location</td>\n",
       "      <td>0.401224</td>\n",
       "    </tr>\n",
       "    <tr>\n",
       "      <th>10</th>\n",
       "      <td>RoomFac</td>\n",
       "      <td>0.391602</td>\n",
       "    </tr>\n",
       "    <tr>\n",
       "      <th>9</th>\n",
       "      <td>RoomComf</td>\n",
       "      <td>0.383521</td>\n",
       "    </tr>\n",
       "    <tr>\n",
       "      <th>13</th>\n",
       "      <td>Value</td>\n",
       "      <td>0.365011</td>\n",
       "    </tr>\n",
       "    <tr>\n",
       "      <th>0</th>\n",
       "      <td>CustServ</td>\n",
       "      <td>0.350991</td>\n",
       "    </tr>\n",
       "    <tr>\n",
       "      <th>8</th>\n",
       "      <td>Room</td>\n",
       "      <td>0.344654</td>\n",
       "    </tr>\n",
       "    <tr>\n",
       "      <th>4</th>\n",
       "      <td>Leisure</td>\n",
       "      <td>0.323158</td>\n",
       "    </tr>\n",
       "    <tr>\n",
       "      <th>6</th>\n",
       "      <td>MealExp</td>\n",
       "      <td>0.292319</td>\n",
       "    </tr>\n",
       "    <tr>\n",
       "      <th>11</th>\n",
       "      <td>RoomLoc</td>\n",
       "      <td>0.279125</td>\n",
       "    </tr>\n",
       "    <tr>\n",
       "      <th>7</th>\n",
       "      <td>Parking&amp;Fac</td>\n",
       "      <td>0.236003</td>\n",
       "    </tr>\n",
       "  </tbody>\n",
       "</table>\n",
       "</div>"
      ],
      "text/plain": [
       "      Topic Count  Sentiment\n",
       "1       FamilyExp   0.456659\n",
       "3        HotelGen   0.433417\n",
       "2            Food   0.418877\n",
       "12  Service&Staff   0.417853\n",
       "5        Location   0.401224\n",
       "10        RoomFac   0.391602\n",
       "9        RoomComf   0.383521\n",
       "13          Value   0.365011\n",
       "0        CustServ   0.350991\n",
       "8            Room   0.344654\n",
       "4         Leisure   0.323158\n",
       "6         MealExp   0.292319\n",
       "11        RoomLoc   0.279125\n",
       "7     Parking&Fac   0.236003"
      ]
     },
     "execution_count": 180,
     "metadata": {},
     "output_type": "execute_result"
    }
   ],
   "source": [
    "accom_summary = df_accom[df_accom[\"Sentiment\"]!=0].groupby(\"Topic Count\",as_index = False)[\"Sentiment\"].mean()\n",
    "accom_summary = accom_summary.sort_values(by = \"Sentiment\",ascending = False)\n",
    "accom_summary"
   ]
  },
  {
   "cell_type": "code",
   "execution_count": 222,
   "id": "51b61d00",
   "metadata": {},
   "outputs": [],
   "source": [
    "def plot_sent_score(df,name,name2):\n",
    "    \n",
    "    labels = list(df[\"Topic Count\"])\n",
    "    sent = list(df[\"Sentiment\"])\n",
    "  \n",
    "    x = np.arange(len(labels))  # the label locations\n",
    "    width = 0.35  # the width of the bars\n",
    "\n",
    "    fig, ax = plt.subplots(figsize = (10,7))\n",
    "    ax.barh(x, sent, width, label='Sentiment Score',color = \"lightsteelblue\",ec = \"grey\")\n",
    "    \n",
    "    # Add some text for labels, title and custom x-axis tick labels, etc.\n",
    "    ax.set_title(name + \" - Mean Sentiment Score \" + name2)\n",
    "    ax.set_yticks(x)\n",
    "    ax.set_yticklabels(labels)\n",
    "    ax.set_xlabel(\"Mean Sentiment Score\",labelpad = 15)\n",
    "    ax.spines['right'].set_visible(False)\n",
    "    ax.spines['top'].set_visible(False)\n",
    "    ax.legend(frameon = False, loc = \"best\")\n",
    "    ax.invert_yaxis()\n",
    "\n",
    "    fig.tight_layout()\n",
    "\n",
    "    plt.show()"
   ]
  },
  {
   "cell_type": "code",
   "execution_count": 223,
   "id": "fe1999c6",
   "metadata": {},
   "outputs": [
    {
     "data": {
      "image/png": "[encoded data removed]",
      "text/plain": [
       "<Figure size 720x504 with 1 Axes>"
      ]
     },
     "metadata": {
      "needs_background": "light"
     },
     "output_type": "display_data"
    }
   ],
   "source": [
    "plot_sent_score(accom_summary,\"Accommodation \",\"Arun District\")"
   ]
  },
  {
   "cell_type": "code",
   "execution_count": 224,
   "id": "5f8e36a6",
   "metadata": {},
   "outputs": [
    {
     "data": {
      "text/html": [
       "<div>\n",
       "<style scoped>\n",
       "    .dataframe tbody tr th:only-of-type {\n",
       "        vertical-align: middle;\n",
       "    }\n",
       "\n",
       "    .dataframe tbody tr th {\n",
       "        vertical-align: top;\n",
       "    }\n",
       "\n",
       "    .dataframe thead th {\n",
       "        text-align: right;\n",
       "    }\n",
       "</style>\n",
       "<table border=\"1\" class=\"dataframe\">\n",
       "  <thead>\n",
       "    <tr style=\"text-align: right;\">\n",
       "      <th></th>\n",
       "      <th>Topic Count</th>\n",
       "      <th>Sentiment</th>\n",
       "    </tr>\n",
       "  </thead>\n",
       "  <tbody>\n",
       "    <tr>\n",
       "      <th>10</th>\n",
       "      <td>VFM</td>\n",
       "      <td>0.528907</td>\n",
       "    </tr>\n",
       "    <tr>\n",
       "      <th>3</th>\n",
       "      <td>FoodGen</td>\n",
       "      <td>0.445900</td>\n",
       "    </tr>\n",
       "    <tr>\n",
       "      <th>6</th>\n",
       "      <td>Menu</td>\n",
       "      <td>0.445216</td>\n",
       "    </tr>\n",
       "    <tr>\n",
       "      <th>8</th>\n",
       "      <td>Service</td>\n",
       "      <td>0.433239</td>\n",
       "    </tr>\n",
       "    <tr>\n",
       "      <th>2</th>\n",
       "      <td>FoodChoice</td>\n",
       "      <td>0.424930</td>\n",
       "    </tr>\n",
       "    <tr>\n",
       "      <th>9</th>\n",
       "      <td>StaffGen</td>\n",
       "      <td>0.423365</td>\n",
       "    </tr>\n",
       "    <tr>\n",
       "      <th>5</th>\n",
       "      <td>MealExp</td>\n",
       "      <td>0.415796</td>\n",
       "    </tr>\n",
       "    <tr>\n",
       "      <th>4</th>\n",
       "      <td>FoodPort</td>\n",
       "      <td>0.408770</td>\n",
       "    </tr>\n",
       "    <tr>\n",
       "      <th>11</th>\n",
       "      <td>VisitExp</td>\n",
       "      <td>0.375560</td>\n",
       "    </tr>\n",
       "    <tr>\n",
       "      <th>7</th>\n",
       "      <td>Quality</td>\n",
       "      <td>0.372281</td>\n",
       "    </tr>\n",
       "    <tr>\n",
       "      <th>1</th>\n",
       "      <td>Drinks&amp;Ordering</td>\n",
       "      <td>0.348269</td>\n",
       "    </tr>\n",
       "    <tr>\n",
       "      <th>0</th>\n",
       "      <td>Booking&amp;Table</td>\n",
       "      <td>0.324863</td>\n",
       "    </tr>\n",
       "  </tbody>\n",
       "</table>\n",
       "</div>"
      ],
      "text/plain": [
       "        Topic Count  Sentiment\n",
       "10              VFM   0.528907\n",
       "3           FoodGen   0.445900\n",
       "6              Menu   0.445216\n",
       "8           Service   0.433239\n",
       "2        FoodChoice   0.424930\n",
       "9          StaffGen   0.423365\n",
       "5           MealExp   0.415796\n",
       "4          FoodPort   0.408770\n",
       "11         VisitExp   0.375560\n",
       "7           Quality   0.372281\n",
       "1   Drinks&Ordering   0.348269\n",
       "0     Booking&Table   0.324863"
      ]
     },
     "execution_count": 224,
     "metadata": {},
     "output_type": "execute_result"
    }
   ],
   "source": [
    "food_summary = df_food[df_food[\"Sentiment\"]!=0].groupby(\"Topic Count\",as_index = False)[\"Sentiment\"].mean()\n",
    "food_summary = food_summary.sort_values(by = \"Sentiment\",ascending = False)\n",
    "food_summary"
   ]
  },
  {
   "cell_type": "code",
   "execution_count": 225,
   "id": "54cc8829",
   "metadata": {},
   "outputs": [
    {
     "data": {
      "image/png": "[encoded data removed]",
      "text/plain": [
       "<Figure size 720x504 with 1 Axes>"
      ]
     },
     "metadata": {
      "needs_background": "light"
     },
     "output_type": "display_data"
    }
   ],
   "source": [
    "plot_sent_score(food_summary,\"Food \",\"Arun District\")"
   ]
  },
  {
   "cell_type": "code",
   "execution_count": 226,
   "id": "71fed447",
   "metadata": {},
   "outputs": [
    {
     "data": {
      "text/html": [
       "<div>\n",
       "<style scoped>\n",
       "    .dataframe tbody tr th:only-of-type {\n",
       "        vertical-align: middle;\n",
       "    }\n",
       "\n",
       "    .dataframe tbody tr th {\n",
       "        vertical-align: top;\n",
       "    }\n",
       "\n",
       "    .dataframe thead th {\n",
       "        text-align: right;\n",
       "    }\n",
       "</style>\n",
       "<table border=\"1\" class=\"dataframe\">\n",
       "  <thead>\n",
       "    <tr style=\"text-align: right;\">\n",
       "      <th></th>\n",
       "      <th>Topic Count</th>\n",
       "      <th>Sentiment</th>\n",
       "    </tr>\n",
       "  </thead>\n",
       "  <tbody>\n",
       "    <tr>\n",
       "      <th>8</th>\n",
       "      <td>Staff</td>\n",
       "      <td>0.491984</td>\n",
       "    </tr>\n",
       "    <tr>\n",
       "      <th>4</th>\n",
       "      <td>Gardens&amp;Grounds</td>\n",
       "      <td>0.490489</td>\n",
       "    </tr>\n",
       "    <tr>\n",
       "      <th>11</th>\n",
       "      <td>WalkQual</td>\n",
       "      <td>0.474575</td>\n",
       "    </tr>\n",
       "    <tr>\n",
       "      <th>2</th>\n",
       "      <td>FamilyExp</td>\n",
       "      <td>0.473619</td>\n",
       "    </tr>\n",
       "    <tr>\n",
       "      <th>0</th>\n",
       "      <td>Attraction</td>\n",
       "      <td>0.467121</td>\n",
       "    </tr>\n",
       "    <tr>\n",
       "      <th>7</th>\n",
       "      <td>Shop&amp;Facilities</td>\n",
       "      <td>0.437296</td>\n",
       "    </tr>\n",
       "    <tr>\n",
       "      <th>1</th>\n",
       "      <td>BeachFac</td>\n",
       "      <td>0.425034</td>\n",
       "    </tr>\n",
       "    <tr>\n",
       "      <th>9</th>\n",
       "      <td>VFM</td>\n",
       "      <td>0.401489</td>\n",
       "    </tr>\n",
       "    <tr>\n",
       "      <th>5</th>\n",
       "      <td>Parking</td>\n",
       "      <td>0.400223</td>\n",
       "    </tr>\n",
       "    <tr>\n",
       "      <th>3</th>\n",
       "      <td>Food</td>\n",
       "      <td>0.391559</td>\n",
       "    </tr>\n",
       "    <tr>\n",
       "      <th>10</th>\n",
       "      <td>VisitExp</td>\n",
       "      <td>0.369936</td>\n",
       "    </tr>\n",
       "    <tr>\n",
       "      <th>6</th>\n",
       "      <td>PlayArea</td>\n",
       "      <td>0.339403</td>\n",
       "    </tr>\n",
       "  </tbody>\n",
       "</table>\n",
       "</div>"
      ],
      "text/plain": [
       "        Topic Count  Sentiment\n",
       "8             Staff   0.491984\n",
       "4   Gardens&Grounds   0.490489\n",
       "11         WalkQual   0.474575\n",
       "2         FamilyExp   0.473619\n",
       "0        Attraction   0.467121\n",
       "7   Shop&Facilities   0.437296\n",
       "1          BeachFac   0.425034\n",
       "9               VFM   0.401489\n",
       "5           Parking   0.400223\n",
       "3              Food   0.391559\n",
       "10         VisitExp   0.369936\n",
       "6          PlayArea   0.339403"
      ]
     },
     "execution_count": 226,
     "metadata": {},
     "output_type": "execute_result"
    }
   ],
   "source": [
    "attract_summary = df_attract[df_attract[\"Sentiment\"]!=0].groupby(\"Topic Count\",as_index = False)[\"Sentiment\"].mean()\n",
    "attract_summary = attract_summary.sort_values(by = \"Sentiment\",ascending = False)\n",
    "attract_summary"
   ]
  },
  {
   "cell_type": "code",
   "execution_count": 227,
   "id": "3a24b715",
   "metadata": {},
   "outputs": [
    {
     "data": {
      "image/png": "[encoded data removed]",
      "text/plain": [
       "<Figure size 720x504 with 1 Axes>"
      ]
     },
     "metadata": {
      "needs_background": "light"
     },
     "output_type": "display_data"
    }
   ],
   "source": [
    "plot_sent_score(attract_summary,\"Attractions \",\"Arun District\")"
   ]
  },
  {
   "cell_type": "markdown",
   "id": "df7e84c0",
   "metadata": {},
   "source": [
    "# Section 5: Mean Sentiment Score Analysis By Town"
   ]
  },
  {
   "cell_type": "markdown",
   "id": "47263d77",
   "metadata": {},
   "source": [
    "## Accommodation"
   ]
  },
  {
   "cell_type": "code",
   "execution_count": 229,
   "id": "e295f6f3",
   "metadata": {},
   "outputs": [],
   "source": [
    "towns_accom = df_accom.groupby([\"Topic Count\",\"Town\"],as_index = False)[\"Sentiment\"].mean()\n",
    "arundel_accom = towns_accom[towns_accom[\"Town\"] == \"Arundel\"]\n",
    "bognor_accom = towns_accom[towns_accom[\"Town\"] == \"Bognor\"]\n",
    "little_accom = towns_accom[towns_accom[\"Town\"] == \"Littlehampton\"]"
   ]
  },
  {
   "cell_type": "markdown",
   "id": "0a88a3d7",
   "metadata": {},
   "source": [
    "### Arundel"
   ]
  },
  {
   "cell_type": "code",
   "execution_count": 230,
   "id": "d41639d3",
   "metadata": {},
   "outputs": [
    {
     "data": {
      "text/html": [
       "<div>\n",
       "<style scoped>\n",
       "    .dataframe tbody tr th:only-of-type {\n",
       "        vertical-align: middle;\n",
       "    }\n",
       "\n",
       "    .dataframe tbody tr th {\n",
       "        vertical-align: top;\n",
       "    }\n",
       "\n",
       "    .dataframe thead th {\n",
       "        text-align: right;\n",
       "    }\n",
       "</style>\n",
       "<table border=\"1\" class=\"dataframe\">\n",
       "  <thead>\n",
       "    <tr style=\"text-align: right;\">\n",
       "      <th></th>\n",
       "      <th>Topic Count</th>\n",
       "      <th>Town</th>\n",
       "      <th>Sentiment</th>\n",
       "    </tr>\n",
       "  </thead>\n",
       "  <tbody>\n",
       "    <tr>\n",
       "      <th>36</th>\n",
       "      <td>Service&amp;Staff</td>\n",
       "      <td>Arundel</td>\n",
       "      <td>0.308913</td>\n",
       "    </tr>\n",
       "    <tr>\n",
       "      <th>39</th>\n",
       "      <td>Value</td>\n",
       "      <td>Arundel</td>\n",
       "      <td>0.298060</td>\n",
       "    </tr>\n",
       "    <tr>\n",
       "      <th>6</th>\n",
       "      <td>Food</td>\n",
       "      <td>Arundel</td>\n",
       "      <td>0.240892</td>\n",
       "    </tr>\n",
       "    <tr>\n",
       "      <th>15</th>\n",
       "      <td>Location</td>\n",
       "      <td>Arundel</td>\n",
       "      <td>0.214857</td>\n",
       "    </tr>\n",
       "    <tr>\n",
       "      <th>0</th>\n",
       "      <td>CustServ</td>\n",
       "      <td>Arundel</td>\n",
       "      <td>0.212689</td>\n",
       "    </tr>\n",
       "    <tr>\n",
       "      <th>3</th>\n",
       "      <td>FamilyExp</td>\n",
       "      <td>Arundel</td>\n",
       "      <td>0.202033</td>\n",
       "    </tr>\n",
       "    <tr>\n",
       "      <th>27</th>\n",
       "      <td>RoomComf</td>\n",
       "      <td>Arundel</td>\n",
       "      <td>0.200892</td>\n",
       "    </tr>\n",
       "    <tr>\n",
       "      <th>24</th>\n",
       "      <td>Room</td>\n",
       "      <td>Arundel</td>\n",
       "      <td>0.192906</td>\n",
       "    </tr>\n",
       "    <tr>\n",
       "      <th>9</th>\n",
       "      <td>HotelGen</td>\n",
       "      <td>Arundel</td>\n",
       "      <td>0.183598</td>\n",
       "    </tr>\n",
       "    <tr>\n",
       "      <th>30</th>\n",
       "      <td>RoomFac</td>\n",
       "      <td>Arundel</td>\n",
       "      <td>0.141994</td>\n",
       "    </tr>\n",
       "    <tr>\n",
       "      <th>33</th>\n",
       "      <td>RoomLoc</td>\n",
       "      <td>Arundel</td>\n",
       "      <td>0.128535</td>\n",
       "    </tr>\n",
       "    <tr>\n",
       "      <th>18</th>\n",
       "      <td>MealExp</td>\n",
       "      <td>Arundel</td>\n",
       "      <td>0.111632</td>\n",
       "    </tr>\n",
       "    <tr>\n",
       "      <th>12</th>\n",
       "      <td>Leisure</td>\n",
       "      <td>Arundel</td>\n",
       "      <td>0.108858</td>\n",
       "    </tr>\n",
       "    <tr>\n",
       "      <th>21</th>\n",
       "      <td>Parking&amp;Fac</td>\n",
       "      <td>Arundel</td>\n",
       "      <td>0.023196</td>\n",
       "    </tr>\n",
       "  </tbody>\n",
       "</table>\n",
       "</div>"
      ],
      "text/plain": [
       "      Topic Count     Town  Sentiment\n",
       "36  Service&Staff  Arundel   0.308913\n",
       "39          Value  Arundel   0.298060\n",
       "6            Food  Arundel   0.240892\n",
       "15       Location  Arundel   0.214857\n",
       "0        CustServ  Arundel   0.212689\n",
       "3       FamilyExp  Arundel   0.202033\n",
       "27       RoomComf  Arundel   0.200892\n",
       "24           Room  Arundel   0.192906\n",
       "9        HotelGen  Arundel   0.183598\n",
       "30        RoomFac  Arundel   0.141994\n",
       "33        RoomLoc  Arundel   0.128535\n",
       "18        MealExp  Arundel   0.111632\n",
       "12        Leisure  Arundel   0.108858\n",
       "21    Parking&Fac  Arundel   0.023196"
      ]
     },
     "execution_count": 230,
     "metadata": {},
     "output_type": "execute_result"
    }
   ],
   "source": [
    "arundel_accom = arundel_accom.sort_values(by = \"Sentiment\",ascending = False)\n",
    "arundel_accom"
   ]
  },
  {
   "cell_type": "code",
   "execution_count": 231,
   "id": "7004354f",
   "metadata": {},
   "outputs": [
    {
     "data": {
      "image/png": "[encoded data removed]",
      "text/plain": [
       "<Figure size 720x504 with 1 Axes>"
      ]
     },
     "metadata": {
      "needs_background": "light"
     },
     "output_type": "display_data"
    }
   ],
   "source": [
    "plot_sent_score(arundel_accom,\"Accommodation \",\"Arundel\")"
   ]
  },
  {
   "cell_type": "markdown",
   "id": "1b7f2066",
   "metadata": {},
   "source": [
    "### Bognor"
   ]
  },
  {
   "cell_type": "code",
   "execution_count": 232,
   "id": "056b559e",
   "metadata": {},
   "outputs": [
    {
     "data": {
      "text/html": [
       "<div>\n",
       "<style scoped>\n",
       "    .dataframe tbody tr th:only-of-type {\n",
       "        vertical-align: middle;\n",
       "    }\n",
       "\n",
       "    .dataframe tbody tr th {\n",
       "        vertical-align: top;\n",
       "    }\n",
       "\n",
       "    .dataframe thead th {\n",
       "        text-align: right;\n",
       "    }\n",
       "</style>\n",
       "<table border=\"1\" class=\"dataframe\">\n",
       "  <thead>\n",
       "    <tr style=\"text-align: right;\">\n",
       "      <th></th>\n",
       "      <th>Topic Count</th>\n",
       "      <th>Town</th>\n",
       "      <th>Sentiment</th>\n",
       "    </tr>\n",
       "  </thead>\n",
       "  <tbody>\n",
       "    <tr>\n",
       "      <th>37</th>\n",
       "      <td>Service&amp;Staff</td>\n",
       "      <td>Bognor</td>\n",
       "      <td>0.234083</td>\n",
       "    </tr>\n",
       "    <tr>\n",
       "      <th>7</th>\n",
       "      <td>Food</td>\n",
       "      <td>Bognor</td>\n",
       "      <td>0.207672</td>\n",
       "    </tr>\n",
       "    <tr>\n",
       "      <th>4</th>\n",
       "      <td>FamilyExp</td>\n",
       "      <td>Bognor</td>\n",
       "      <td>0.200651</td>\n",
       "    </tr>\n",
       "    <tr>\n",
       "      <th>28</th>\n",
       "      <td>RoomComf</td>\n",
       "      <td>Bognor</td>\n",
       "      <td>0.178872</td>\n",
       "    </tr>\n",
       "    <tr>\n",
       "      <th>31</th>\n",
       "      <td>RoomFac</td>\n",
       "      <td>Bognor</td>\n",
       "      <td>0.173958</td>\n",
       "    </tr>\n",
       "    <tr>\n",
       "      <th>1</th>\n",
       "      <td>CustServ</td>\n",
       "      <td>Bognor</td>\n",
       "      <td>0.169251</td>\n",
       "    </tr>\n",
       "    <tr>\n",
       "      <th>40</th>\n",
       "      <td>Value</td>\n",
       "      <td>Bognor</td>\n",
       "      <td>0.164775</td>\n",
       "    </tr>\n",
       "    <tr>\n",
       "      <th>16</th>\n",
       "      <td>Location</td>\n",
       "      <td>Bognor</td>\n",
       "      <td>0.139344</td>\n",
       "    </tr>\n",
       "    <tr>\n",
       "      <th>25</th>\n",
       "      <td>Room</td>\n",
       "      <td>Bognor</td>\n",
       "      <td>0.131073</td>\n",
       "    </tr>\n",
       "    <tr>\n",
       "      <th>10</th>\n",
       "      <td>HotelGen</td>\n",
       "      <td>Bognor</td>\n",
       "      <td>0.121275</td>\n",
       "    </tr>\n",
       "    <tr>\n",
       "      <th>22</th>\n",
       "      <td>Parking&amp;Fac</td>\n",
       "      <td>Bognor</td>\n",
       "      <td>0.116625</td>\n",
       "    </tr>\n",
       "    <tr>\n",
       "      <th>19</th>\n",
       "      <td>MealExp</td>\n",
       "      <td>Bognor</td>\n",
       "      <td>0.095552</td>\n",
       "    </tr>\n",
       "    <tr>\n",
       "      <th>13</th>\n",
       "      <td>Leisure</td>\n",
       "      <td>Bognor</td>\n",
       "      <td>0.089609</td>\n",
       "    </tr>\n",
       "    <tr>\n",
       "      <th>34</th>\n",
       "      <td>RoomLoc</td>\n",
       "      <td>Bognor</td>\n",
       "      <td>0.075271</td>\n",
       "    </tr>\n",
       "  </tbody>\n",
       "</table>\n",
       "</div>"
      ],
      "text/plain": [
       "      Topic Count    Town  Sentiment\n",
       "37  Service&Staff  Bognor   0.234083\n",
       "7            Food  Bognor   0.207672\n",
       "4       FamilyExp  Bognor   0.200651\n",
       "28       RoomComf  Bognor   0.178872\n",
       "31        RoomFac  Bognor   0.173958\n",
       "1        CustServ  Bognor   0.169251\n",
       "40          Value  Bognor   0.164775\n",
       "16       Location  Bognor   0.139344\n",
       "25           Room  Bognor   0.131073\n",
       "10       HotelGen  Bognor   0.121275\n",
       "22    Parking&Fac  Bognor   0.116625\n",
       "19        MealExp  Bognor   0.095552\n",
       "13        Leisure  Bognor   0.089609\n",
       "34        RoomLoc  Bognor   0.075271"
      ]
     },
     "execution_count": 232,
     "metadata": {},
     "output_type": "execute_result"
    }
   ],
   "source": [
    "bognor_accom = bognor_accom.sort_values(by = \"Sentiment\",ascending = False)\n",
    "bognor_accom"
   ]
  },
  {
   "cell_type": "code",
   "execution_count": 233,
   "id": "75367788",
   "metadata": {},
   "outputs": [
    {
     "data": {
      "image/png": "[encoded data removed]",
      "text/plain": [
       "<Figure size 720x504 with 1 Axes>"
      ]
     },
     "metadata": {
      "needs_background": "light"
     },
     "output_type": "display_data"
    }
   ],
   "source": [
    "plot_sent_score(bognor_accom,\"Accommodation \",\"Bognor\")"
   ]
  },
  {
   "cell_type": "markdown",
   "id": "341d6dee",
   "metadata": {},
   "source": [
    "### Littlehampton"
   ]
  },
  {
   "cell_type": "code",
   "execution_count": 234,
   "id": "0cfb2a78",
   "metadata": {},
   "outputs": [
    {
     "data": {
      "text/html": [
       "<div>\n",
       "<style scoped>\n",
       "    .dataframe tbody tr th:only-of-type {\n",
       "        vertical-align: middle;\n",
       "    }\n",
       "\n",
       "    .dataframe tbody tr th {\n",
       "        vertical-align: top;\n",
       "    }\n",
       "\n",
       "    .dataframe thead th {\n",
       "        text-align: right;\n",
       "    }\n",
       "</style>\n",
       "<table border=\"1\" class=\"dataframe\">\n",
       "  <thead>\n",
       "    <tr style=\"text-align: right;\">\n",
       "      <th></th>\n",
       "      <th>Topic Count</th>\n",
       "      <th>Town</th>\n",
       "      <th>Sentiment</th>\n",
       "    </tr>\n",
       "  </thead>\n",
       "  <tbody>\n",
       "    <tr>\n",
       "      <th>38</th>\n",
       "      <td>Service&amp;Staff</td>\n",
       "      <td>Littlehampton</td>\n",
       "      <td>0.292723</td>\n",
       "    </tr>\n",
       "    <tr>\n",
       "      <th>5</th>\n",
       "      <td>FamilyExp</td>\n",
       "      <td>Littlehampton</td>\n",
       "      <td>0.224184</td>\n",
       "    </tr>\n",
       "    <tr>\n",
       "      <th>11</th>\n",
       "      <td>HotelGen</td>\n",
       "      <td>Littlehampton</td>\n",
       "      <td>0.218336</td>\n",
       "    </tr>\n",
       "    <tr>\n",
       "      <th>8</th>\n",
       "      <td>Food</td>\n",
       "      <td>Littlehampton</td>\n",
       "      <td>0.213851</td>\n",
       "    </tr>\n",
       "    <tr>\n",
       "      <th>41</th>\n",
       "      <td>Value</td>\n",
       "      <td>Littlehampton</td>\n",
       "      <td>0.212601</td>\n",
       "    </tr>\n",
       "    <tr>\n",
       "      <th>2</th>\n",
       "      <td>CustServ</td>\n",
       "      <td>Littlehampton</td>\n",
       "      <td>0.192361</td>\n",
       "    </tr>\n",
       "    <tr>\n",
       "      <th>29</th>\n",
       "      <td>RoomComf</td>\n",
       "      <td>Littlehampton</td>\n",
       "      <td>0.185923</td>\n",
       "    </tr>\n",
       "    <tr>\n",
       "      <th>17</th>\n",
       "      <td>Location</td>\n",
       "      <td>Littlehampton</td>\n",
       "      <td>0.182033</td>\n",
       "    </tr>\n",
       "    <tr>\n",
       "      <th>32</th>\n",
       "      <td>RoomFac</td>\n",
       "      <td>Littlehampton</td>\n",
       "      <td>0.165071</td>\n",
       "    </tr>\n",
       "    <tr>\n",
       "      <th>26</th>\n",
       "      <td>Room</td>\n",
       "      <td>Littlehampton</td>\n",
       "      <td>0.163390</td>\n",
       "    </tr>\n",
       "    <tr>\n",
       "      <th>14</th>\n",
       "      <td>Leisure</td>\n",
       "      <td>Littlehampton</td>\n",
       "      <td>0.150314</td>\n",
       "    </tr>\n",
       "    <tr>\n",
       "      <th>35</th>\n",
       "      <td>RoomLoc</td>\n",
       "      <td>Littlehampton</td>\n",
       "      <td>0.128150</td>\n",
       "    </tr>\n",
       "    <tr>\n",
       "      <th>20</th>\n",
       "      <td>MealExp</td>\n",
       "      <td>Littlehampton</td>\n",
       "      <td>0.118034</td>\n",
       "    </tr>\n",
       "    <tr>\n",
       "      <th>23</th>\n",
       "      <td>Parking&amp;Fac</td>\n",
       "      <td>Littlehampton</td>\n",
       "      <td>0.099358</td>\n",
       "    </tr>\n",
       "  </tbody>\n",
       "</table>\n",
       "</div>"
      ],
      "text/plain": [
       "      Topic Count           Town  Sentiment\n",
       "38  Service&Staff  Littlehampton   0.292723\n",
       "5       FamilyExp  Littlehampton   0.224184\n",
       "11       HotelGen  Littlehampton   0.218336\n",
       "8            Food  Littlehampton   0.213851\n",
       "41          Value  Littlehampton   0.212601\n",
       "2        CustServ  Littlehampton   0.192361\n",
       "29       RoomComf  Littlehampton   0.185923\n",
       "17       Location  Littlehampton   0.182033\n",
       "32        RoomFac  Littlehampton   0.165071\n",
       "26           Room  Littlehampton   0.163390\n",
       "14        Leisure  Littlehampton   0.150314\n",
       "35        RoomLoc  Littlehampton   0.128150\n",
       "20        MealExp  Littlehampton   0.118034\n",
       "23    Parking&Fac  Littlehampton   0.099358"
      ]
     },
     "execution_count": 234,
     "metadata": {},
     "output_type": "execute_result"
    }
   ],
   "source": [
    "little_accom = little_accom.sort_values(by = \"Sentiment\",ascending = False)\n",
    "little_accom"
   ]
  },
  {
   "cell_type": "code",
   "execution_count": 235,
   "id": "e4143ee1",
   "metadata": {},
   "outputs": [
    {
     "data": {
      "image/png": "[encoded data removed]",
      "text/plain": [
       "<Figure size 720x504 with 1 Axes>"
      ]
     },
     "metadata": {
      "needs_background": "light"
     },
     "output_type": "display_data"
    }
   ],
   "source": [
    "plot_sent_score(little_accom,\"Accommodation \",\"Littlehampton\")"
   ]
  },
  {
   "cell_type": "markdown",
   "id": "1aef2d57",
   "metadata": {},
   "source": [
    "## Food"
   ]
  },
  {
   "cell_type": "code",
   "execution_count": 237,
   "id": "e26046e4",
   "metadata": {},
   "outputs": [],
   "source": [
    "towns_food  = df_food.groupby([\"Topic Count\",\"Town\"],as_index = False)[\"Sentiment\"].mean()\n",
    "arundel_food = towns_food[towns_food[\"Town\"] == \"Arundel\"]\n",
    "bognor_food = towns_food[towns_food[\"Town\"] == \"Bognor\"]\n",
    "little_food = towns_food[towns_food[\"Town\"] == \"Littlehampton\"]"
   ]
  },
  {
   "cell_type": "markdown",
   "id": "a0b492fd",
   "metadata": {},
   "source": [
    "### Arundel"
   ]
  },
  {
   "cell_type": "code",
   "execution_count": 238,
   "id": "9c9a0cb8",
   "metadata": {},
   "outputs": [
    {
     "data": {
      "text/html": [
       "<div>\n",
       "<style scoped>\n",
       "    .dataframe tbody tr th:only-of-type {\n",
       "        vertical-align: middle;\n",
       "    }\n",
       "\n",
       "    .dataframe tbody tr th {\n",
       "        vertical-align: top;\n",
       "    }\n",
       "\n",
       "    .dataframe thead th {\n",
       "        text-align: right;\n",
       "    }\n",
       "</style>\n",
       "<table border=\"1\" class=\"dataframe\">\n",
       "  <thead>\n",
       "    <tr style=\"text-align: right;\">\n",
       "      <th></th>\n",
       "      <th>Topic Count</th>\n",
       "      <th>Town</th>\n",
       "      <th>Sentiment</th>\n",
       "    </tr>\n",
       "  </thead>\n",
       "  <tbody>\n",
       "    <tr>\n",
       "      <th>30</th>\n",
       "      <td>VFM</td>\n",
       "      <td>Arundel</td>\n",
       "      <td>0.353125</td>\n",
       "    </tr>\n",
       "    <tr>\n",
       "      <th>24</th>\n",
       "      <td>Service</td>\n",
       "      <td>Arundel</td>\n",
       "      <td>0.284518</td>\n",
       "    </tr>\n",
       "    <tr>\n",
       "      <th>9</th>\n",
       "      <td>FoodGen</td>\n",
       "      <td>Arundel</td>\n",
       "      <td>0.279412</td>\n",
       "    </tr>\n",
       "    <tr>\n",
       "      <th>27</th>\n",
       "      <td>StaffGen</td>\n",
       "      <td>Arundel</td>\n",
       "      <td>0.259842</td>\n",
       "    </tr>\n",
       "    <tr>\n",
       "      <th>15</th>\n",
       "      <td>MealExp</td>\n",
       "      <td>Arundel</td>\n",
       "      <td>0.197140</td>\n",
       "    </tr>\n",
       "    <tr>\n",
       "      <th>21</th>\n",
       "      <td>Quality</td>\n",
       "      <td>Arundel</td>\n",
       "      <td>0.179242</td>\n",
       "    </tr>\n",
       "    <tr>\n",
       "      <th>6</th>\n",
       "      <td>FoodChoice</td>\n",
       "      <td>Arundel</td>\n",
       "      <td>0.171906</td>\n",
       "    </tr>\n",
       "    <tr>\n",
       "      <th>18</th>\n",
       "      <td>Menu</td>\n",
       "      <td>Arundel</td>\n",
       "      <td>0.167108</td>\n",
       "    </tr>\n",
       "    <tr>\n",
       "      <th>3</th>\n",
       "      <td>Drinks&amp;Ordering</td>\n",
       "      <td>Arundel</td>\n",
       "      <td>0.164939</td>\n",
       "    </tr>\n",
       "    <tr>\n",
       "      <th>0</th>\n",
       "      <td>Booking&amp;Table</td>\n",
       "      <td>Arundel</td>\n",
       "      <td>0.154315</td>\n",
       "    </tr>\n",
       "    <tr>\n",
       "      <th>33</th>\n",
       "      <td>VisitExp</td>\n",
       "      <td>Arundel</td>\n",
       "      <td>0.147471</td>\n",
       "    </tr>\n",
       "    <tr>\n",
       "      <th>12</th>\n",
       "      <td>FoodPort</td>\n",
       "      <td>Arundel</td>\n",
       "      <td>0.123706</td>\n",
       "    </tr>\n",
       "  </tbody>\n",
       "</table>\n",
       "</div>"
      ],
      "text/plain": [
       "        Topic Count     Town  Sentiment\n",
       "30              VFM  Arundel   0.353125\n",
       "24          Service  Arundel   0.284518\n",
       "9           FoodGen  Arundel   0.279412\n",
       "27         StaffGen  Arundel   0.259842\n",
       "15          MealExp  Arundel   0.197140\n",
       "21          Quality  Arundel   0.179242\n",
       "6        FoodChoice  Arundel   0.171906\n",
       "18             Menu  Arundel   0.167108\n",
       "3   Drinks&Ordering  Arundel   0.164939\n",
       "0     Booking&Table  Arundel   0.154315\n",
       "33         VisitExp  Arundel   0.147471\n",
       "12         FoodPort  Arundel   0.123706"
      ]
     },
     "execution_count": 238,
     "metadata": {},
     "output_type": "execute_result"
    }
   ],
   "source": [
    "arundel_food = arundel_food.sort_values(by = \"Sentiment\",ascending = False)\n",
    "arundel_food"
   ]
  },
  {
   "cell_type": "code",
   "execution_count": 239,
   "id": "0fcf5f78",
   "metadata": {},
   "outputs": [
    {
     "data": {
      "image/png": "[encoded data removed]",
      "text/plain": [
       "<Figure size 720x504 with 1 Axes>"
      ]
     },
     "metadata": {
      "needs_background": "light"
     },
     "output_type": "display_data"
    }
   ],
   "source": [
    "plot_sent_score(arundel_food,\"Food \",\"Arundel\")"
   ]
  },
  {
   "cell_type": "markdown",
   "id": "16f049fe",
   "metadata": {},
   "source": [
    "### Bognor"
   ]
  },
  {
   "cell_type": "code",
   "execution_count": 240,
   "id": "150bfd15",
   "metadata": {},
   "outputs": [
    {
     "data": {
      "text/html": [
       "<div>\n",
       "<style scoped>\n",
       "    .dataframe tbody tr th:only-of-type {\n",
       "        vertical-align: middle;\n",
       "    }\n",
       "\n",
       "    .dataframe tbody tr th {\n",
       "        vertical-align: top;\n",
       "    }\n",
       "\n",
       "    .dataframe thead th {\n",
       "        text-align: right;\n",
       "    }\n",
       "</style>\n",
       "<table border=\"1\" class=\"dataframe\">\n",
       "  <thead>\n",
       "    <tr style=\"text-align: right;\">\n",
       "      <th></th>\n",
       "      <th>Topic Count</th>\n",
       "      <th>Town</th>\n",
       "      <th>Sentiment</th>\n",
       "    </tr>\n",
       "  </thead>\n",
       "  <tbody>\n",
       "    <tr>\n",
       "      <th>31</th>\n",
       "      <td>VFM</td>\n",
       "      <td>Bognor</td>\n",
       "      <td>0.369052</td>\n",
       "    </tr>\n",
       "    <tr>\n",
       "      <th>25</th>\n",
       "      <td>Service</td>\n",
       "      <td>Bognor</td>\n",
       "      <td>0.292866</td>\n",
       "    </tr>\n",
       "    <tr>\n",
       "      <th>10</th>\n",
       "      <td>FoodGen</td>\n",
       "      <td>Bognor</td>\n",
       "      <td>0.257764</td>\n",
       "    </tr>\n",
       "    <tr>\n",
       "      <th>28</th>\n",
       "      <td>StaffGen</td>\n",
       "      <td>Bognor</td>\n",
       "      <td>0.255858</td>\n",
       "    </tr>\n",
       "    <tr>\n",
       "      <th>22</th>\n",
       "      <td>Quality</td>\n",
       "      <td>Bognor</td>\n",
       "      <td>0.183581</td>\n",
       "    </tr>\n",
       "    <tr>\n",
       "      <th>16</th>\n",
       "      <td>MealExp</td>\n",
       "      <td>Bognor</td>\n",
       "      <td>0.176776</td>\n",
       "    </tr>\n",
       "    <tr>\n",
       "      <th>7</th>\n",
       "      <td>FoodChoice</td>\n",
       "      <td>Bognor</td>\n",
       "      <td>0.156005</td>\n",
       "    </tr>\n",
       "    <tr>\n",
       "      <th>19</th>\n",
       "      <td>Menu</td>\n",
       "      <td>Bognor</td>\n",
       "      <td>0.151756</td>\n",
       "    </tr>\n",
       "    <tr>\n",
       "      <th>34</th>\n",
       "      <td>VisitExp</td>\n",
       "      <td>Bognor</td>\n",
       "      <td>0.140476</td>\n",
       "    </tr>\n",
       "    <tr>\n",
       "      <th>13</th>\n",
       "      <td>FoodPort</td>\n",
       "      <td>Bognor</td>\n",
       "      <td>0.126659</td>\n",
       "    </tr>\n",
       "    <tr>\n",
       "      <th>4</th>\n",
       "      <td>Drinks&amp;Ordering</td>\n",
       "      <td>Bognor</td>\n",
       "      <td>0.118473</td>\n",
       "    </tr>\n",
       "    <tr>\n",
       "      <th>1</th>\n",
       "      <td>Booking&amp;Table</td>\n",
       "      <td>Bognor</td>\n",
       "      <td>0.112646</td>\n",
       "    </tr>\n",
       "  </tbody>\n",
       "</table>\n",
       "</div>"
      ],
      "text/plain": [
       "        Topic Count    Town  Sentiment\n",
       "31              VFM  Bognor   0.369052\n",
       "25          Service  Bognor   0.292866\n",
       "10          FoodGen  Bognor   0.257764\n",
       "28         StaffGen  Bognor   0.255858\n",
       "22          Quality  Bognor   0.183581\n",
       "16          MealExp  Bognor   0.176776\n",
       "7        FoodChoice  Bognor   0.156005\n",
       "19             Menu  Bognor   0.151756\n",
       "34         VisitExp  Bognor   0.140476\n",
       "13         FoodPort  Bognor   0.126659\n",
       "4   Drinks&Ordering  Bognor   0.118473\n",
       "1     Booking&Table  Bognor   0.112646"
      ]
     },
     "execution_count": 240,
     "metadata": {},
     "output_type": "execute_result"
    }
   ],
   "source": [
    "bognor_food = bognor_food.sort_values(by = \"Sentiment\",ascending = False)\n",
    "bognor_food"
   ]
  },
  {
   "cell_type": "code",
   "execution_count": 241,
   "id": "644aaf22",
   "metadata": {},
   "outputs": [
    {
     "data": {
      "image/png": "[encoded data removed]",
      "text/plain": [
       "<Figure size 720x504 with 1 Axes>"
      ]
     },
     "metadata": {
      "needs_background": "light"
     },
     "output_type": "display_data"
    }
   ],
   "source": [
    "plot_sent_score(bognor_food,\"Food \",\"Bognor\")"
   ]
  },
  {
   "cell_type": "markdown",
   "id": "60e3794c",
   "metadata": {},
   "source": [
    "### Littlehampton"
   ]
  },
  {
   "cell_type": "code",
   "execution_count": 242,
   "id": "da4269f0",
   "metadata": {},
   "outputs": [
    {
     "data": {
      "text/html": [
       "<div>\n",
       "<style scoped>\n",
       "    .dataframe tbody tr th:only-of-type {\n",
       "        vertical-align: middle;\n",
       "    }\n",
       "\n",
       "    .dataframe tbody tr th {\n",
       "        vertical-align: top;\n",
       "    }\n",
       "\n",
       "    .dataframe thead th {\n",
       "        text-align: right;\n",
       "    }\n",
       "</style>\n",
       "<table border=\"1\" class=\"dataframe\">\n",
       "  <thead>\n",
       "    <tr style=\"text-align: right;\">\n",
       "      <th></th>\n",
       "      <th>Topic Count</th>\n",
       "      <th>Town</th>\n",
       "      <th>Sentiment</th>\n",
       "    </tr>\n",
       "  </thead>\n",
       "  <tbody>\n",
       "    <tr>\n",
       "      <th>32</th>\n",
       "      <td>VFM</td>\n",
       "      <td>Littlehampton</td>\n",
       "      <td>0.338398</td>\n",
       "    </tr>\n",
       "    <tr>\n",
       "      <th>26</th>\n",
       "      <td>Service</td>\n",
       "      <td>Littlehampton</td>\n",
       "      <td>0.268844</td>\n",
       "    </tr>\n",
       "    <tr>\n",
       "      <th>11</th>\n",
       "      <td>FoodGen</td>\n",
       "      <td>Littlehampton</td>\n",
       "      <td>0.239434</td>\n",
       "    </tr>\n",
       "    <tr>\n",
       "      <th>29</th>\n",
       "      <td>StaffGen</td>\n",
       "      <td>Littlehampton</td>\n",
       "      <td>0.222891</td>\n",
       "    </tr>\n",
       "    <tr>\n",
       "      <th>23</th>\n",
       "      <td>Quality</td>\n",
       "      <td>Littlehampton</td>\n",
       "      <td>0.177917</td>\n",
       "    </tr>\n",
       "    <tr>\n",
       "      <th>17</th>\n",
       "      <td>MealExp</td>\n",
       "      <td>Littlehampton</td>\n",
       "      <td>0.176176</td>\n",
       "    </tr>\n",
       "    <tr>\n",
       "      <th>20</th>\n",
       "      <td>Menu</td>\n",
       "      <td>Littlehampton</td>\n",
       "      <td>0.145559</td>\n",
       "    </tr>\n",
       "    <tr>\n",
       "      <th>8</th>\n",
       "      <td>FoodChoice</td>\n",
       "      <td>Littlehampton</td>\n",
       "      <td>0.134869</td>\n",
       "    </tr>\n",
       "    <tr>\n",
       "      <th>2</th>\n",
       "      <td>Booking&amp;Table</td>\n",
       "      <td>Littlehampton</td>\n",
       "      <td>0.128208</td>\n",
       "    </tr>\n",
       "    <tr>\n",
       "      <th>14</th>\n",
       "      <td>FoodPort</td>\n",
       "      <td>Littlehampton</td>\n",
       "      <td>0.123009</td>\n",
       "    </tr>\n",
       "    <tr>\n",
       "      <th>35</th>\n",
       "      <td>VisitExp</td>\n",
       "      <td>Littlehampton</td>\n",
       "      <td>0.122953</td>\n",
       "    </tr>\n",
       "    <tr>\n",
       "      <th>5</th>\n",
       "      <td>Drinks&amp;Ordering</td>\n",
       "      <td>Littlehampton</td>\n",
       "      <td>0.115703</td>\n",
       "    </tr>\n",
       "  </tbody>\n",
       "</table>\n",
       "</div>"
      ],
      "text/plain": [
       "        Topic Count           Town  Sentiment\n",
       "32              VFM  Littlehampton   0.338398\n",
       "26          Service  Littlehampton   0.268844\n",
       "11          FoodGen  Littlehampton   0.239434\n",
       "29         StaffGen  Littlehampton   0.222891\n",
       "23          Quality  Littlehampton   0.177917\n",
       "17          MealExp  Littlehampton   0.176176\n",
       "20             Menu  Littlehampton   0.145559\n",
       "8        FoodChoice  Littlehampton   0.134869\n",
       "2     Booking&Table  Littlehampton   0.128208\n",
       "14         FoodPort  Littlehampton   0.123009\n",
       "35         VisitExp  Littlehampton   0.122953\n",
       "5   Drinks&Ordering  Littlehampton   0.115703"
      ]
     },
     "execution_count": 242,
     "metadata": {},
     "output_type": "execute_result"
    }
   ],
   "source": [
    "little_food = little_food.sort_values(by = \"Sentiment\",ascending = False)\n",
    "little_food"
   ]
  },
  {
   "cell_type": "code",
   "execution_count": 243,
   "id": "885b23de",
   "metadata": {},
   "outputs": [
    {
     "data": {
      "image/png": "[encoded data removed]",
      "text/plain": [
       "<Figure size 720x504 with 1 Axes>"
      ]
     },
     "metadata": {
      "needs_background": "light"
     },
     "output_type": "display_data"
    }
   ],
   "source": [
    "plot_sent_score(little_food,\"Food \",\"Littlehampton\")"
   ]
  },
  {
   "cell_type": "markdown",
   "id": "d7db6102",
   "metadata": {},
   "source": [
    "## Attractions"
   ]
  },
  {
   "cell_type": "code",
   "execution_count": 244,
   "id": "bb6519b4",
   "metadata": {},
   "outputs": [],
   "source": [
    "towns_attract  = df_attract.groupby([\"Topic Count\",\"Town\"],as_index = False)[\"Sentiment\"].mean()\n",
    "arundel_attract = towns_attract[towns_attract[\"Town\"] == \"Arundel\"]\n",
    "bognor_attract = towns_attract[towns_attract[\"Town\"] == \"Bognor\"]\n",
    "little_attract = towns_attract[towns_attract[\"Town\"] == \"Littlehampton\"]"
   ]
  },
  {
   "cell_type": "markdown",
   "id": "e1c6e767",
   "metadata": {},
   "source": [
    "### Arundel"
   ]
  },
  {
   "cell_type": "code",
   "execution_count": 245,
   "id": "782930bf",
   "metadata": {},
   "outputs": [
    {
     "data": {
      "text/html": [
       "<div>\n",
       "<style scoped>\n",
       "    .dataframe tbody tr th:only-of-type {\n",
       "        vertical-align: middle;\n",
       "    }\n",
       "\n",
       "    .dataframe tbody tr th {\n",
       "        vertical-align: top;\n",
       "    }\n",
       "\n",
       "    .dataframe thead th {\n",
       "        text-align: right;\n",
       "    }\n",
       "</style>\n",
       "<table border=\"1\" class=\"dataframe\">\n",
       "  <thead>\n",
       "    <tr style=\"text-align: right;\">\n",
       "      <th></th>\n",
       "      <th>Topic Count</th>\n",
       "      <th>Town</th>\n",
       "      <th>Sentiment</th>\n",
       "    </tr>\n",
       "  </thead>\n",
       "  <tbody>\n",
       "    <tr>\n",
       "      <th>24</th>\n",
       "      <td>Staff</td>\n",
       "      <td>Arundel</td>\n",
       "      <td>0.288539</td>\n",
       "    </tr>\n",
       "    <tr>\n",
       "      <th>0</th>\n",
       "      <td>Attraction</td>\n",
       "      <td>Arundel</td>\n",
       "      <td>0.281993</td>\n",
       "    </tr>\n",
       "    <tr>\n",
       "      <th>27</th>\n",
       "      <td>VFM</td>\n",
       "      <td>Arundel</td>\n",
       "      <td>0.265130</td>\n",
       "    </tr>\n",
       "    <tr>\n",
       "      <th>3</th>\n",
       "      <td>BeachFac</td>\n",
       "      <td>Arundel</td>\n",
       "      <td>0.251211</td>\n",
       "    </tr>\n",
       "    <tr>\n",
       "      <th>12</th>\n",
       "      <td>Gardens&amp;Grounds</td>\n",
       "      <td>Arundel</td>\n",
       "      <td>0.249136</td>\n",
       "    </tr>\n",
       "    <tr>\n",
       "      <th>33</th>\n",
       "      <td>WalkQual</td>\n",
       "      <td>Arundel</td>\n",
       "      <td>0.223913</td>\n",
       "    </tr>\n",
       "    <tr>\n",
       "      <th>21</th>\n",
       "      <td>Shop&amp;Facilities</td>\n",
       "      <td>Arundel</td>\n",
       "      <td>0.215749</td>\n",
       "    </tr>\n",
       "    <tr>\n",
       "      <th>6</th>\n",
       "      <td>FamilyExp</td>\n",
       "      <td>Arundel</td>\n",
       "      <td>0.181612</td>\n",
       "    </tr>\n",
       "    <tr>\n",
       "      <th>30</th>\n",
       "      <td>VisitExp</td>\n",
       "      <td>Arundel</td>\n",
       "      <td>0.171837</td>\n",
       "    </tr>\n",
       "    <tr>\n",
       "      <th>9</th>\n",
       "      <td>Food</td>\n",
       "      <td>Arundel</td>\n",
       "      <td>0.142769</td>\n",
       "    </tr>\n",
       "    <tr>\n",
       "      <th>18</th>\n",
       "      <td>PlayArea</td>\n",
       "      <td>Arundel</td>\n",
       "      <td>0.138506</td>\n",
       "    </tr>\n",
       "    <tr>\n",
       "      <th>15</th>\n",
       "      <td>Parking</td>\n",
       "      <td>Arundel</td>\n",
       "      <td>0.117363</td>\n",
       "    </tr>\n",
       "  </tbody>\n",
       "</table>\n",
       "</div>"
      ],
      "text/plain": [
       "        Topic Count     Town  Sentiment\n",
       "24            Staff  Arundel   0.288539\n",
       "0        Attraction  Arundel   0.281993\n",
       "27              VFM  Arundel   0.265130\n",
       "3          BeachFac  Arundel   0.251211\n",
       "12  Gardens&Grounds  Arundel   0.249136\n",
       "33         WalkQual  Arundel   0.223913\n",
       "21  Shop&Facilities  Arundel   0.215749\n",
       "6         FamilyExp  Arundel   0.181612\n",
       "30         VisitExp  Arundel   0.171837\n",
       "9              Food  Arundel   0.142769\n",
       "18         PlayArea  Arundel   0.138506\n",
       "15          Parking  Arundel   0.117363"
      ]
     },
     "execution_count": 245,
     "metadata": {},
     "output_type": "execute_result"
    }
   ],
   "source": [
    "arundel_attract = arundel_attract.sort_values(by = \"Sentiment\",ascending = False)\n",
    "arundel_attract"
   ]
  },
  {
   "cell_type": "code",
   "execution_count": 247,
   "id": "72ae512b",
   "metadata": {},
   "outputs": [
    {
     "data": {
      "image/png": "[encoded data removed]",
      "text/plain": [
       "<Figure size 720x504 with 1 Axes>"
      ]
     },
     "metadata": {
      "needs_background": "light"
     },
     "output_type": "display_data"
    }
   ],
   "source": [
    "plot_sent_score(arundel_attract,\"Attractions\",\"Arundel\")"
   ]
  },
  {
   "cell_type": "markdown",
   "id": "85b944ce",
   "metadata": {},
   "source": [
    "### Bognor"
   ]
  },
  {
   "cell_type": "code",
   "execution_count": 248,
   "id": "68c0e1e2",
   "metadata": {},
   "outputs": [
    {
     "data": {
      "text/html": [
       "<div>\n",
       "<style scoped>\n",
       "    .dataframe tbody tr th:only-of-type {\n",
       "        vertical-align: middle;\n",
       "    }\n",
       "\n",
       "    .dataframe tbody tr th {\n",
       "        vertical-align: top;\n",
       "    }\n",
       "\n",
       "    .dataframe thead th {\n",
       "        text-align: right;\n",
       "    }\n",
       "</style>\n",
       "<table border=\"1\" class=\"dataframe\">\n",
       "  <thead>\n",
       "    <tr style=\"text-align: right;\">\n",
       "      <th></th>\n",
       "      <th>Topic Count</th>\n",
       "      <th>Town</th>\n",
       "      <th>Sentiment</th>\n",
       "    </tr>\n",
       "  </thead>\n",
       "  <tbody>\n",
       "    <tr>\n",
       "      <th>1</th>\n",
       "      <td>Attraction</td>\n",
       "      <td>Bognor</td>\n",
       "      <td>0.323808</td>\n",
       "    </tr>\n",
       "    <tr>\n",
       "      <th>28</th>\n",
       "      <td>VFM</td>\n",
       "      <td>Bognor</td>\n",
       "      <td>0.280409</td>\n",
       "    </tr>\n",
       "    <tr>\n",
       "      <th>25</th>\n",
       "      <td>Staff</td>\n",
       "      <td>Bognor</td>\n",
       "      <td>0.276823</td>\n",
       "    </tr>\n",
       "    <tr>\n",
       "      <th>7</th>\n",
       "      <td>FamilyExp</td>\n",
       "      <td>Bognor</td>\n",
       "      <td>0.247197</td>\n",
       "    </tr>\n",
       "    <tr>\n",
       "      <th>16</th>\n",
       "      <td>Parking</td>\n",
       "      <td>Bognor</td>\n",
       "      <td>0.213854</td>\n",
       "    </tr>\n",
       "    <tr>\n",
       "      <th>10</th>\n",
       "      <td>Food</td>\n",
       "      <td>Bognor</td>\n",
       "      <td>0.213297</td>\n",
       "    </tr>\n",
       "    <tr>\n",
       "      <th>13</th>\n",
       "      <td>Gardens&amp;Grounds</td>\n",
       "      <td>Bognor</td>\n",
       "      <td>0.206565</td>\n",
       "    </tr>\n",
       "    <tr>\n",
       "      <th>31</th>\n",
       "      <td>VisitExp</td>\n",
       "      <td>Bognor</td>\n",
       "      <td>0.190637</td>\n",
       "    </tr>\n",
       "    <tr>\n",
       "      <th>22</th>\n",
       "      <td>Shop&amp;Facilities</td>\n",
       "      <td>Bognor</td>\n",
       "      <td>0.148849</td>\n",
       "    </tr>\n",
       "    <tr>\n",
       "      <th>4</th>\n",
       "      <td>BeachFac</td>\n",
       "      <td>Bognor</td>\n",
       "      <td>0.138497</td>\n",
       "    </tr>\n",
       "    <tr>\n",
       "      <th>34</th>\n",
       "      <td>WalkQual</td>\n",
       "      <td>Bognor</td>\n",
       "      <td>0.131218</td>\n",
       "    </tr>\n",
       "    <tr>\n",
       "      <th>19</th>\n",
       "      <td>PlayArea</td>\n",
       "      <td>Bognor</td>\n",
       "      <td>0.117511</td>\n",
       "    </tr>\n",
       "  </tbody>\n",
       "</table>\n",
       "</div>"
      ],
      "text/plain": [
       "        Topic Count    Town  Sentiment\n",
       "1        Attraction  Bognor   0.323808\n",
       "28              VFM  Bognor   0.280409\n",
       "25            Staff  Bognor   0.276823\n",
       "7         FamilyExp  Bognor   0.247197\n",
       "16          Parking  Bognor   0.213854\n",
       "10             Food  Bognor   0.213297\n",
       "13  Gardens&Grounds  Bognor   0.206565\n",
       "31         VisitExp  Bognor   0.190637\n",
       "22  Shop&Facilities  Bognor   0.148849\n",
       "4          BeachFac  Bognor   0.138497\n",
       "34         WalkQual  Bognor   0.131218\n",
       "19         PlayArea  Bognor   0.117511"
      ]
     },
     "execution_count": 248,
     "metadata": {},
     "output_type": "execute_result"
    }
   ],
   "source": [
    "bognor_attract = bognor_attract.sort_values(by = \"Sentiment\",ascending = False)\n",
    "bognor_attract"
   ]
  },
  {
   "cell_type": "code",
   "execution_count": 249,
   "id": "b1ec8017",
   "metadata": {},
   "outputs": [
    {
     "data": {
      "image/png": "[encoded data removed]",
      "text/plain": [
       "<Figure size 720x504 with 1 Axes>"
      ]
     },
     "metadata": {
      "needs_background": "light"
     },
     "output_type": "display_data"
    }
   ],
   "source": [
    "plot_sent_score(bognor_attract,\"Attractions\",\"Bognor\")"
   ]
  },
  {
   "cell_type": "markdown",
   "id": "ffee0bec",
   "metadata": {},
   "source": [
    "### Littlehampton"
   ]
  },
  {
   "cell_type": "code",
   "execution_count": 250,
   "id": "f286eeb9",
   "metadata": {},
   "outputs": [
    {
     "data": {
      "text/html": [
       "<div>\n",
       "<style scoped>\n",
       "    .dataframe tbody tr th:only-of-type {\n",
       "        vertical-align: middle;\n",
       "    }\n",
       "\n",
       "    .dataframe tbody tr th {\n",
       "        vertical-align: top;\n",
       "    }\n",
       "\n",
       "    .dataframe thead th {\n",
       "        text-align: right;\n",
       "    }\n",
       "</style>\n",
       "<table border=\"1\" class=\"dataframe\">\n",
       "  <thead>\n",
       "    <tr style=\"text-align: right;\">\n",
       "      <th></th>\n",
       "      <th>Topic Count</th>\n",
       "      <th>Town</th>\n",
       "      <th>Sentiment</th>\n",
       "    </tr>\n",
       "  </thead>\n",
       "  <tbody>\n",
       "    <tr>\n",
       "      <th>14</th>\n",
       "      <td>Gardens&amp;Grounds</td>\n",
       "      <td>Littlehampton</td>\n",
       "      <td>0.311691</td>\n",
       "    </tr>\n",
       "    <tr>\n",
       "      <th>26</th>\n",
       "      <td>Staff</td>\n",
       "      <td>Littlehampton</td>\n",
       "      <td>0.271453</td>\n",
       "    </tr>\n",
       "    <tr>\n",
       "      <th>2</th>\n",
       "      <td>Attraction</td>\n",
       "      <td>Littlehampton</td>\n",
       "      <td>0.241339</td>\n",
       "    </tr>\n",
       "    <tr>\n",
       "      <th>8</th>\n",
       "      <td>FamilyExp</td>\n",
       "      <td>Littlehampton</td>\n",
       "      <td>0.231410</td>\n",
       "    </tr>\n",
       "    <tr>\n",
       "      <th>35</th>\n",
       "      <td>WalkQual</td>\n",
       "      <td>Littlehampton</td>\n",
       "      <td>0.228164</td>\n",
       "    </tr>\n",
       "    <tr>\n",
       "      <th>29</th>\n",
       "      <td>VFM</td>\n",
       "      <td>Littlehampton</td>\n",
       "      <td>0.214897</td>\n",
       "    </tr>\n",
       "    <tr>\n",
       "      <th>5</th>\n",
       "      <td>BeachFac</td>\n",
       "      <td>Littlehampton</td>\n",
       "      <td>0.184823</td>\n",
       "    </tr>\n",
       "    <tr>\n",
       "      <th>32</th>\n",
       "      <td>VisitExp</td>\n",
       "      <td>Littlehampton</td>\n",
       "      <td>0.164048</td>\n",
       "    </tr>\n",
       "    <tr>\n",
       "      <th>20</th>\n",
       "      <td>PlayArea</td>\n",
       "      <td>Littlehampton</td>\n",
       "      <td>0.163803</td>\n",
       "    </tr>\n",
       "    <tr>\n",
       "      <th>11</th>\n",
       "      <td>Food</td>\n",
       "      <td>Littlehampton</td>\n",
       "      <td>0.157654</td>\n",
       "    </tr>\n",
       "    <tr>\n",
       "      <th>23</th>\n",
       "      <td>Shop&amp;Facilities</td>\n",
       "      <td>Littlehampton</td>\n",
       "      <td>0.149146</td>\n",
       "    </tr>\n",
       "    <tr>\n",
       "      <th>17</th>\n",
       "      <td>Parking</td>\n",
       "      <td>Littlehampton</td>\n",
       "      <td>0.108177</td>\n",
       "    </tr>\n",
       "  </tbody>\n",
       "</table>\n",
       "</div>"
      ],
      "text/plain": [
       "        Topic Count           Town  Sentiment\n",
       "14  Gardens&Grounds  Littlehampton   0.311691\n",
       "26            Staff  Littlehampton   0.271453\n",
       "2        Attraction  Littlehampton   0.241339\n",
       "8         FamilyExp  Littlehampton   0.231410\n",
       "35         WalkQual  Littlehampton   0.228164\n",
       "29              VFM  Littlehampton   0.214897\n",
       "5          BeachFac  Littlehampton   0.184823\n",
       "32         VisitExp  Littlehampton   0.164048\n",
       "20         PlayArea  Littlehampton   0.163803\n",
       "11             Food  Littlehampton   0.157654\n",
       "23  Shop&Facilities  Littlehampton   0.149146\n",
       "17          Parking  Littlehampton   0.108177"
      ]
     },
     "execution_count": 250,
     "metadata": {},
     "output_type": "execute_result"
    }
   ],
   "source": [
    "little_attract = little_attract.sort_values(by = \"Sentiment\",ascending = False)\n",
    "little_attract"
   ]
  },
  {
   "cell_type": "code",
   "execution_count": 251,
   "id": "96625b73",
   "metadata": {},
   "outputs": [
    {
     "data": {
      "image/png": "[encoded data removed]",
      "text/plain": [
       "<Figure size 720x504 with 1 Axes>"
      ]
     },
     "metadata": {
      "needs_background": "light"
     },
     "output_type": "display_data"
    }
   ],
   "source": [
    "plot_sent_score(little_attract,\"Attractions\",\"Littlehampton\")"
   ]
  },
  {
   "cell_type": "markdown",
   "id": "e744cd11",
   "metadata": {},
   "source": [
    "# Section 5: Comparing Aspects and Towns Together"
   ]
  },
  {
   "cell_type": "code",
   "execution_count": 273,
   "id": "1e778509",
   "metadata": {},
   "outputs": [],
   "source": [
    "def compare_towns(df1,df2,df3,name):\n",
    "    \n",
    "    # Set variables\n",
    "    labels = list(df1[\"Topic Count\"])\n",
    "    \n",
    "    y1 = list(df1[\"Sentiment\"])\n",
    "    y2 = list(df2[\"Sentiment\"])\n",
    "    y3 = list(df3[\"Sentiment\"])\n",
    "    height = 0.25\n",
    "    \n",
    "    r1 = np.arange(len(y1))\n",
    "    r2 = [x + height for x in r1]\n",
    "    r3 = [x + height for x in r2]\n",
    "    \n",
    "    # Plot chart\n",
    "    fig, ax = plt.subplots(figsize = (14,12),)\n",
    "    plt.barh(r1, y1, height = height, color = \"lightgrey\",label='Arundel',ec = \"darkgrey\")\n",
    "    plt.barh(r2, y2, height = height, color = \"lightsteelblue\",label='Bognor',ec = \"darkgrey\")\n",
    "    plt.barh(r3, y3, height = height, label='Littlehampton',ec = \"darkgrey\")\n",
    "    \n",
    "    # Set labels, legend etc\n",
    "    ax.set_xlabel('Compound Sentiment Score',labelpad = 10,fontsize = 12)\n",
    "    ax.set_ylabel(\"Topic\", labelpad = 10,fontsize = 12)\n",
    "    plt.yticks([r + height for r in range(len(y1))], labels)\n",
    "    ax.spines['right'].set_visible(False)\n",
    "    ax.spines['top'].set_visible(False)\n",
    "    ax.spines['bottom'].set_visible(False)\n",
    "    ax.spines['left'].set_visible(False)\n",
    "    ax.set_title(name + \" - Mean Sentiment Score \",fontsize = 15)\n",
    "    handles, labels = ax.get_legend_handles_labels()\n",
    "    ax.legend(reversed(handles), reversed(labels),frameon = False)\n",
    "    ax.invert_yaxis()\n",
    "    plt.show()"
   ]
  },
  {
   "cell_type": "code",
   "execution_count": 274,
   "id": "711c4326",
   "metadata": {},
   "outputs": [
    {
     "data": {
      "image/png": "[encoded data removed]",
      "text/plain": [
       "<Figure size 1008x864 with 1 Axes>"
      ]
     },
     "metadata": {
      "needs_background": "light"
     },
     "output_type": "display_data"
    }
   ],
   "source": [
    "compare_towns(arundel_accom,bognor_accom,little_accom,\"Accomodation Aspects\")"
   ]
  },
  {
   "cell_type": "markdown",
   "id": "91ca869a",
   "metadata": {},
   "source": [
    "* Bognor scores the lowest in all categories except Parking & Facilities\n",
    "* Parking, leisure facilities and meal experiences are among the lowest sentiment scores\n",
    "* Arundel and Littlehampton score highly for Staff and Service\n",
    "* Arundel scores highly for value\n"
   ]
  },
  {
   "cell_type": "code",
   "execution_count": 275,
   "id": "bfd00af9",
   "metadata": {},
   "outputs": [
    {
     "data": {
      "image/png": "[encoded data removed]",
      "text/plain": [
       "<Figure size 1008x864 with 1 Axes>"
      ]
     },
     "metadata": {
      "needs_background": "light"
     },
     "output_type": "display_data"
    }
   ],
   "source": [
    "compare_towns(arundel_food,bognor_food,little_food,\"Food\")"
   ]
  },
  {
   "cell_type": "markdown",
   "id": "06b28dd6",
   "metadata": {},
   "source": [
    "* All towns score highly for value for money with Bognor having the highest average compound sentiment score\n",
    "* Bognor also scores highest for service\n",
    "* The lowest scored category is Food Portions and Visit Experience"
   ]
  },
  {
   "cell_type": "code",
   "execution_count": 276,
   "id": "ed38dc5b",
   "metadata": {},
   "outputs": [
    {
     "data": {
      "image/png": "[encoded data removed]",
      "text/plain": [
       "<Figure size 1008x864 with 1 Axes>"
      ]
     },
     "metadata": {
      "needs_background": "light"
     },
     "output_type": "display_data"
    }
   ],
   "source": [
    "compare_towns(arundel_attract,bognor_attract,little_attract,\"Attractions\")"
   ]
  },
  {
   "cell_type": "markdown",
   "id": "ebc4fb40",
   "metadata": {},
   "source": [
    "* The aspect with the highest mean sentiment score is 'Staff' and Bognor scores the highest of these\n",
    "* Bognor also scores highest for value for money attractions\n",
    "* Among the lowest scored aspects relating to attractions are parking, play facilities and food"
   ]
  },
  {
   "cell_type": "code",
   "execution_count": null,
   "id": "54aea6eb",
   "metadata": {},
   "outputs": [],
   "source": [
    "# Implode dataframe back to sentence level from noun phrase level\n",
    "#df_comb = df.groupby([\"OrigInd\",\"Category\",\"Town\",\"Rating\",\"all_text\",\"sentences\",\"cleaned_sentences\"]).agg({'noun_phrases':lambda x: \" \".join(x)}).rename({'noun_phrases':'sentence'},axis = 1).reset_index()\n",
    "#df_comb.drop(columns = [\"sentence\"],axis = 1,inplace = True)"
   ]
  }
 ],
 "metadata": {
  "kernelspec": {
   "display_name": "Python 3",
   "language": "python",
   "name": "python3"
  },
  "language_info": {
   "codemirror_mode": {
    "name": "ipython",
    "version": 3
   },
   "file_extension": ".py",
   "mimetype": "text/x-python",
   "name": "python",
   "nbconvert_exporter": "python",
   "pygments_lexer": "ipython3",
   "version": "3.8.8"
  }
 },
 "nbformat": 4,
 "nbformat_minor": 5
}
