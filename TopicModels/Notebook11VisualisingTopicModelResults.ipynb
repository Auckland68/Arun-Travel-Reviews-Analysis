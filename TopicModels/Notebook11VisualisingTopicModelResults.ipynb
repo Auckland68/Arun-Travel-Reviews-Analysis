{
 "cells": [
  {
   "cell_type": "markdown",
   "id": "3f9e6e1b",
   "metadata": {},
   "source": [
    "# Visualising the Topic Modelling Results"
   ]
  },
  {
   "cell_type": "markdown",
   "id": "441fb3e0",
   "metadata": {},
   "source": [
    "This notebook visualises the results from the previous notebook containing topic models across towns and categories. Sentiment scores are applied using VADER to each noun phrase\n",
    "* Section 1 - Import libraries and dataset\n",
    "* Section 2 - Data preparation and EDA\n",
    "* Section 3 - Category analysis for Arun Distict\n",
    "* Section 4 - Sentiment scores across categories\n",
    "* Section 5 - Comparing aspects and towns\n",
    "\n",
    "\n",
    "Datasets need to run notebook:\n",
    "* topicmodelsaccom.csv\n",
    "* topicmodelsfood.csv\n",
    "* topicmodelsattract.csv\n",
    "\n",
    "Data save to:\n",
    "* combined_sentiment.csv\n",
    "* combined_sentiment_test.csv\n"
   ]
  },
  {
   "cell_type": "markdown",
   "id": "64a6cbe9",
   "metadata": {},
   "source": [
    "# Section 1: Import libraries and data"
   ]
  },
  {
   "cell_type": "code",
   "execution_count": 117,
   "id": "fe0d05d5",
   "metadata": {},
   "outputs": [
    {
     "name": "stderr",
     "output_type": "stream",
     "text": [
      "[nltk_data] Downloading package vader_lexicon to\n",
      "[nltk_data]     C:\\Users\\imoge\\AppData\\Roaming\\nltk_data...\n",
      "[nltk_data]   Package vader_lexicon is already up-to-date!\n"
     ]
    }
   ],
   "source": [
    "import pandas as pd\n",
    "import numpy as np\n",
    "import matplotlib.pyplot as plt\n",
    "import nltk\n",
    "nltk.download('vader_lexicon')\n",
    "from nltk.sentiment.vader import SentimentIntensityAnalyzer"
   ]
  },
  {
   "cell_type": "code",
   "execution_count": 118,
   "id": "f666fcf2",
   "metadata": {},
   "outputs": [],
   "source": [
    "# Read in datasets\n",
    "df_accom = pd.read_csv(\"topicmodelsaccom.csv\")\n",
    "df_food = pd.read_csv(\"topicmodelsfood.csv\")\n",
    "df_attract = pd.read_csv(\"topicmodelsattract.csv\")\n",
    "\n",
    "df_accom_test = pd.read_csv(\"topicmodelsaccomtest.csv\")\n",
    "df_food_test = pd.read_csv(\"topicmodelsfoodtest.csv\")\n",
    "df_attract_test = pd.read_csv(\"topicmodelsattracttest.csv\")"
   ]
  },
  {
   "cell_type": "code",
   "execution_count": 119,
   "id": "f1bb80dc",
   "metadata": {},
   "outputs": [],
   "source": [
    "# Add the category columns to the test dataframes\n",
    "df_accom_test[\"Category\"] = \"Accommodation\"\n",
    "df_food_test[\"Category\"] = \"Food\"\n",
    "df_attract_test[\"Category\"] = \"Attract\""
   ]
  },
  {
   "cell_type": "markdown",
   "id": "362dc214",
   "metadata": {},
   "source": [
    "# Section 2: Data Preparation and EDA"
   ]
  },
  {
   "cell_type": "code",
   "execution_count": 120,
   "id": "f5ea6154",
   "metadata": {},
   "outputs": [],
   "source": [
    "# Convert sentiment score to positive to negative with VADER (above 0.05 positive, below -0.05 negative and between is \n",
    "# neutral as per the VADER notes)\n",
    "sid = SentimentIntensityAnalyzer()\n",
    "\n",
    "def polar(x): \n",
    "    if x >= 0.05:\n",
    "        return 'positive'\n",
    "    elif x <0.05 and x>= -0.05:\n",
    "        return 'neutral'\n",
    "    else:\n",
    "        return 'negative'"
   ]
  },
  {
   "cell_type": "code",
   "execution_count": 121,
   "id": "912b2ae6",
   "metadata": {},
   "outputs": [],
   "source": [
    "def sent(df):\n",
    "    df[\"Sentiment\"] = df[\"noun_phrases\"].apply(lambda x: sid.polarity_scores(x)[\"compound\"])\n",
    "    df[\"Score\"] = df[\"Sentiment\"].apply(lambda x: polar(x))"
   ]
  },
  {
   "cell_type": "code",
   "execution_count": 122,
   "id": "acda31a0",
   "metadata": {},
   "outputs": [],
   "source": [
    "# Run function to get sentiment and convert to 'positive','negative' and 'neutral'\n",
    "sent(df_accom)\n",
    "sent(df_food)\n",
    "sent(df_attract)\n",
    "sent(df_accom_test)\n",
    "sent(df_food_test)\n",
    "sent(df_attract_test)"
   ]
  },
  {
   "cell_type": "code",
   "execution_count": 123,
   "id": "d6a6d0fa",
   "metadata": {},
   "outputs": [
    {
     "name": "stdout",
     "output_type": "stream",
     "text": [
      "(24021, 13) (649, 12) (39635, 13) (952, 12) (7560, 13) (210, 12)\n"
     ]
    }
   ],
   "source": [
    "print(df_accom.shape,df_accom_test.shape,df_food.shape, df_food_test.shape, df_attract.shape,df_attract_test.shape)"
   ]
  },
  {
   "cell_type": "code",
   "execution_count": 124,
   "id": "6ba05f80",
   "metadata": {},
   "outputs": [],
   "source": [
    "combined_sentiment = pd.concat([df_accom,df_food,df_attract],axis = 0,ignore_index = True)\n",
    "combined_sentiment_test = pd.concat([df_accom_test,df_food_test,df_attract_test],axis = 0,ignore_index = True)\n",
    "combined_sentiment.to_csv(\"combined_sentiment.csv\")\n",
    "combined_sentiment_test.to_csv(\"combined_sentiment_test.csv\")"
   ]
  },
  {
   "cell_type": "code",
   "execution_count": 125,
   "id": "ac7af6ff",
   "metadata": {},
   "outputs": [
    {
     "data": {
      "text/plain": [
       "neutral     13483\n",
       "positive     8886\n",
       "negative     1652\n",
       "Name: Score, dtype: int64"
      ]
     },
     "execution_count": 125,
     "metadata": {},
     "output_type": "execute_result"
    }
   ],
   "source": [
    "df_accom[\"Score\"].value_counts()"
   ]
  },
  {
   "cell_type": "code",
   "execution_count": 126,
   "id": "f624f734",
   "metadata": {},
   "outputs": [
    {
     "data": {
      "text/plain": [
       "neutral     20566\n",
       "positive    16804\n",
       "negative     2265\n",
       "Name: Score, dtype: int64"
      ]
     },
     "execution_count": 126,
     "metadata": {},
     "output_type": "execute_result"
    }
   ],
   "source": [
    "df_food[\"Score\"].value_counts()"
   ]
  },
  {
   "cell_type": "code",
   "execution_count": 127,
   "id": "ae8cd6f8",
   "metadata": {},
   "outputs": [
    {
     "data": {
      "text/plain": [
       "neutral     4077\n",
       "positive    3132\n",
       "negative     351\n",
       "Name: Score, dtype: int64"
      ]
     },
     "execution_count": 127,
     "metadata": {},
     "output_type": "execute_result"
    }
   ],
   "source": [
    "df_attract[\"Score\"].value_counts()"
   ]
  },
  {
   "cell_type": "code",
   "execution_count": 128,
   "id": "150e1f96",
   "metadata": {},
   "outputs": [],
   "source": [
    "# Plot review noun phrase counts per category\n",
    "def counts(df,name):\n",
    "    \n",
    "    df_count = df[\"Topic Count\"].value_counts().reset_index()\n",
    "    df_count.columns = [\"Topic\",\"Count\"]\n",
    "    #df_count.sort_values(\"Topic\",ascending = False,inplace = True)\n",
    "    fig, ax = plt.subplots()\n",
    "    ax.spines['right'].set_visible(False)\n",
    "    ax.spines['top'].set_visible(False)\n",
    "    ax.set_title(\"Number of Review Noun Phrases By Aspect: \" + name,fontsize = 10)\n",
    "    ax.set_xlabel(\"Number\",fontsize = 8,labelpad = 10)\n",
    "    ax.barh(df_count[\"Topic\"],df_count[\"Count\"],color = \"lightsteelblue\")\n",
    "    ax.invert_yaxis()\n",
    "    plt.show()\n",
    "    "
   ]
  },
  {
   "cell_type": "code",
   "execution_count": 129,
   "id": "49a1b629",
   "metadata": {},
   "outputs": [
    {
     "data": {
      "image/png": "[encoded data removed]",
      "text/plain": [
       "<Figure size 432x288 with 1 Axes>"
      ]
     },
     "metadata": {
      "needs_background": "light"
     },
     "output_type": "display_data"
    }
   ],
   "source": [
    "counts(df_accom,\"Accommodation\")"
   ]
  },
  {
   "cell_type": "code",
   "execution_count": 130,
   "id": "f74d6e87",
   "metadata": {},
   "outputs": [
    {
     "data": {
      "image/png": "[encoded data removed]",
      "text/plain": [
       "<Figure size 432x288 with 1 Axes>"
      ]
     },
     "metadata": {
      "needs_background": "light"
     },
     "output_type": "display_data"
    }
   ],
   "source": [
    "counts(df_food, \"Food\")"
   ]
  },
  {
   "cell_type": "code",
   "execution_count": 131,
   "id": "203ed1ae",
   "metadata": {},
   "outputs": [
    {
     "data": {
      "image/png": "[encoded data removed]",
      "text/plain": [
       "<Figure size 432x288 with 1 Axes>"
      ]
     },
     "metadata": {
      "needs_background": "light"
     },
     "output_type": "display_data"
    }
   ],
   "source": [
    "counts(df_attract,\"Attractions\")"
   ]
  },
  {
   "cell_type": "markdown",
   "id": "a72a16c3",
   "metadata": {},
   "source": [
    "Comments:\n",
    "\n",
    "* Unsurprisingly, the most reviewed category for accommodation and Food is 'Rooms' and 'Food'\n",
    "* The most reviewed aspect for Attractions is the quality of the 'Family Experience'\n",
    "* Interestingly, the lowest number of review phrases are for value for money for the first two categories"
   ]
  },
  {
   "cell_type": "markdown",
   "id": "4d472270",
   "metadata": {},
   "source": [
    "# Section 3: Category Analysis"
   ]
  },
  {
   "cell_type": "code",
   "execution_count": 132,
   "id": "1a471477",
   "metadata": {},
   "outputs": [],
   "source": [
    "# Numbers of aspects split into positive and negative into one dataframe\n",
    "\n",
    "def aspect_all(df):\n",
    "    \n",
    "    pos_df = df[df[\"Score\"] == \"positive\"]\n",
    "    neg_df = df[df[\"Score\"] == \"negative\"]\n",
    "    pos_df = pd.DataFrame(pos_df[\"Topic Count\"].value_counts())\n",
    "    neg_df = pd.DataFrame(neg_df[\"Topic Count\"].value_counts())\n",
    "    pos_df.columns = [\"Num Pos\"]\n",
    "    neg_df.columns = [\"Num Neg\"]\n",
    "    df_sent = pd.concat([pos_df,neg_df],axis = 1)\n",
    "    df_sent[\"%Pos\"] = round(df_sent[\"Num Pos\"]/(df_sent[\"Num Pos\"] + df_sent[\"Num Neg\"]),2)*100\n",
    "    df_sent[\"%Neg\"] = round(df_sent[\"Num Neg\"]/(df_sent[\"Num Pos\"] + df_sent[\"Num Neg\"]),2)*100\n",
    "    df_sent.sort_index(inplace = True)\n",
    "    return df_sent\n",
    "    "
   ]
  },
  {
   "cell_type": "code",
   "execution_count": 133,
   "id": "d00acae0",
   "metadata": {},
   "outputs": [],
   "source": [
    "def graph_sentiment_numbers(name,df):\n",
    "    \n",
    "    labels = list(df.index)\n",
    "    pos = list(df[\"%Pos\"])\n",
    "    neg = list(df[\"%Neg\"]*-1)\n",
    "\n",
    "    x = np.arange(len(labels))  # the label locations\n",
    "    width = 0.35  # the width of the bars\n",
    "\n",
    "    fig, ax = plt.subplots(figsize = (10,6))\n",
    "    ax.barh(x - width/2, pos, width, label='Pos',color = \"lightsteelblue\")\n",
    "    ax.barh(x + width/2, neg, width, label='Neg',color = \"slategrey\")\n",
    "\n",
    "    # Add some text for labels, title and custom x-axis tick labels, etc.\n",
    "    ax.set_title(name + \" - % Positive and Negative\")\n",
    "    ax.set_yticks(x)\n",
    "    ax.set_yticklabels(labels)\n",
    "    #(\"% of Aspect\")\n",
    "    ax.spines['right'].set_visible(False)\n",
    "    ax.spines['top'].set_visible(False)\n",
    "    ax.legend(frameon = False, loc = \"best\")\n",
    "    ax.invert_yaxis()\n",
    "\n",
    "    fig.tight_layout()\n",
    "\n",
    "    plt.show()"
   ]
  },
  {
   "cell_type": "markdown",
   "id": "aeaadaa0",
   "metadata": {},
   "source": [
    "## Accomodation"
   ]
  },
  {
   "cell_type": "code",
   "execution_count": 134,
   "id": "484d5197",
   "metadata": {},
   "outputs": [
    {
     "data": {
      "text/html": [
       "<div>\n",
       "<style scoped>\n",
       "    .dataframe tbody tr th:only-of-type {\n",
       "        vertical-align: middle;\n",
       "    }\n",
       "\n",
       "    .dataframe tbody tr th {\n",
       "        vertical-align: top;\n",
       "    }\n",
       "\n",
       "    .dataframe thead th {\n",
       "        text-align: right;\n",
       "    }\n",
       "</style>\n",
       "<table border=\"1\" class=\"dataframe\">\n",
       "  <thead>\n",
       "    <tr style=\"text-align: right;\">\n",
       "      <th></th>\n",
       "      <th>Num Pos</th>\n",
       "      <th>Num Neg</th>\n",
       "      <th>%Pos</th>\n",
       "      <th>%Neg</th>\n",
       "    </tr>\n",
       "  </thead>\n",
       "  <tbody>\n",
       "    <tr>\n",
       "      <th>CustServ</th>\n",
       "      <td>409</td>\n",
       "      <td>103</td>\n",
       "      <td>80.0</td>\n",
       "      <td>20.0</td>\n",
       "    </tr>\n",
       "    <tr>\n",
       "      <th>FamilyExp</th>\n",
       "      <td>761</td>\n",
       "      <td>94</td>\n",
       "      <td>89.0</td>\n",
       "      <td>11.0</td>\n",
       "    </tr>\n",
       "    <tr>\n",
       "      <th>Food</th>\n",
       "      <td>725</td>\n",
       "      <td>76</td>\n",
       "      <td>91.0</td>\n",
       "      <td>9.0</td>\n",
       "    </tr>\n",
       "    <tr>\n",
       "      <th>Hotel Location</th>\n",
       "      <td>856</td>\n",
       "      <td>117</td>\n",
       "      <td>88.0</td>\n",
       "      <td>12.0</td>\n",
       "    </tr>\n",
       "    <tr>\n",
       "      <th>HotelGen</th>\n",
       "      <td>395</td>\n",
       "      <td>50</td>\n",
       "      <td>89.0</td>\n",
       "      <td>11.0</td>\n",
       "    </tr>\n",
       "    <tr>\n",
       "      <th>Leisure</th>\n",
       "      <td>406</td>\n",
       "      <td>87</td>\n",
       "      <td>82.0</td>\n",
       "      <td>18.0</td>\n",
       "    </tr>\n",
       "    <tr>\n",
       "      <th>MealExp</th>\n",
       "      <td>510</td>\n",
       "      <td>144</td>\n",
       "      <td>78.0</td>\n",
       "      <td>22.0</td>\n",
       "    </tr>\n",
       "    <tr>\n",
       "      <th>Parking&amp;Fac</th>\n",
       "      <td>215</td>\n",
       "      <td>92</td>\n",
       "      <td>70.0</td>\n",
       "      <td>30.0</td>\n",
       "    </tr>\n",
       "    <tr>\n",
       "      <th>Room</th>\n",
       "      <td>1537</td>\n",
       "      <td>304</td>\n",
       "      <td>83.0</td>\n",
       "      <td>17.0</td>\n",
       "    </tr>\n",
       "    <tr>\n",
       "      <th>Room Location</th>\n",
       "      <td>702</td>\n",
       "      <td>232</td>\n",
       "      <td>75.0</td>\n",
       "      <td>25.0</td>\n",
       "    </tr>\n",
       "    <tr>\n",
       "      <th>RoomComf</th>\n",
       "      <td>531</td>\n",
       "      <td>71</td>\n",
       "      <td>88.0</td>\n",
       "      <td>12.0</td>\n",
       "    </tr>\n",
       "    <tr>\n",
       "      <th>RoomFac</th>\n",
       "      <td>667</td>\n",
       "      <td>74</td>\n",
       "      <td>90.0</td>\n",
       "      <td>10.0</td>\n",
       "    </tr>\n",
       "    <tr>\n",
       "      <th>Service&amp;Staff</th>\n",
       "      <td>859</td>\n",
       "      <td>123</td>\n",
       "      <td>87.0</td>\n",
       "      <td>13.0</td>\n",
       "    </tr>\n",
       "    <tr>\n",
       "      <th>VFM</th>\n",
       "      <td>313</td>\n",
       "      <td>85</td>\n",
       "      <td>79.0</td>\n",
       "      <td>21.0</td>\n",
       "    </tr>\n",
       "  </tbody>\n",
       "</table>\n",
       "</div>"
      ],
      "text/plain": [
       "                Num Pos  Num Neg  %Pos  %Neg\n",
       "CustServ            409      103  80.0  20.0\n",
       "FamilyExp           761       94  89.0  11.0\n",
       "Food                725       76  91.0   9.0\n",
       "Hotel Location      856      117  88.0  12.0\n",
       "HotelGen            395       50  89.0  11.0\n",
       "Leisure             406       87  82.0  18.0\n",
       "MealExp             510      144  78.0  22.0\n",
       "Parking&Fac         215       92  70.0  30.0\n",
       "Room               1537      304  83.0  17.0\n",
       "Room Location       702      232  75.0  25.0\n",
       "RoomComf            531       71  88.0  12.0\n",
       "RoomFac             667       74  90.0  10.0\n",
       "Service&Staff       859      123  87.0  13.0\n",
       "VFM                 313       85  79.0  21.0"
      ]
     },
     "execution_count": 134,
     "metadata": {},
     "output_type": "execute_result"
    }
   ],
   "source": [
    "accom_sent = aspect_all(df_accom)\n",
    "accom_sent"
   ]
  },
  {
   "cell_type": "markdown",
   "id": "d900b377",
   "metadata": {},
   "source": [
    "Review noun phrases are predominantly positive, with the highest % positive relating to the Family Experience and the lowest to Parking & Other Facilities"
   ]
  },
  {
   "cell_type": "code",
   "execution_count": 135,
   "id": "678a76c9",
   "metadata": {},
   "outputs": [
    {
     "data": {
      "image/png": "[encoded data removed]",
      "text/plain": [
       "<Figure size 720x432 with 1 Axes>"
      ]
     },
     "metadata": {
      "needs_background": "light"
     },
     "output_type": "display_data"
    }
   ],
   "source": [
    "graph_sentiment_numbers(\"Accommodation Aspects Arun\",accom_sent)"
   ]
  },
  {
   "cell_type": "markdown",
   "id": "7b81411c",
   "metadata": {},
   "source": [
    "### Split down by town"
   ]
  },
  {
   "cell_type": "code",
   "execution_count": 136,
   "id": "96c2616a",
   "metadata": {},
   "outputs": [],
   "source": [
    "arundel_accom_aspects_pos = df_accom[(df_accom[\"Town\"] == \"Arundel\") & (df_accom[\"Score\"] == \"positive\")]\n",
    "arundel_accom_aspects_neg = df_accom[(df_accom[\"Town\"] == \"Bognor\") & (df_accom[\"Score\"] == \"negative\")]\n",
    "bognor_accom_aspects_pos = df_accom[(df_accom[\"Town\"] == \"Bognor\") & (df_accom[\"Score\"] == \"positive\")]\n",
    "bognor_accom_aspects_neg = df_accom[(df_accom[\"Town\"] == \"Bognor\") & (df_accom[\"Score\"] == \"negative\")]\n",
    "little_accom_aspects_pos = df_accom[(df_accom[\"Town\"] == \"Littlehampton\") & (df_accom[\"Score\"] == \"positive\")]\n",
    "little_accom_aspects_neg = df_accom[(df_accom[\"Town\"] == \"Littlehampton\") & (df_accom[\"Score\"] == \"negative\")]"
   ]
  },
  {
   "cell_type": "code",
   "execution_count": 137,
   "id": "6f48e37f",
   "metadata": {},
   "outputs": [],
   "source": [
    "# Create dataframe to compare percentages for each aspect for the town\n",
    "def aspect_perc(df1,df2):\n",
    "    df_pos = pd.DataFrame(df1[\"Topic Count\"].value_counts())\n",
    "    df_neg = pd.DataFrame(df2[\"Topic Count\"].value_counts())\n",
    "    df_comb = pd.concat([df_pos,df_neg],axis = 1)\n",
    "    df_comb.columns = [\"Num Pos\",\"Num Neg\"]\n",
    "    df_comb[\"%Pos\"] = round(df_comb[\"Num Pos\"]/(df_comb[\"Num Pos\"] + df_comb[\"Num Neg\"]),2)*100\n",
    "    df_comb[\"%Neg\"] = round(df_comb[\"Num Neg\"]/(df_comb[\"Num Neg\"] + df_comb[\"Num Pos\"]),2)*100\n",
    "    df_comb.sort_index(inplace = True)\n",
    "    \n",
    "    return df_comb\n"
   ]
  },
  {
   "cell_type": "markdown",
   "id": "4fc18309",
   "metadata": {},
   "source": [
    "### Arundel"
   ]
  },
  {
   "cell_type": "code",
   "execution_count": 138,
   "id": "d4650a4b",
   "metadata": {},
   "outputs": [
    {
     "data": {
      "text/html": [
       "<div>\n",
       "<style scoped>\n",
       "    .dataframe tbody tr th:only-of-type {\n",
       "        vertical-align: middle;\n",
       "    }\n",
       "\n",
       "    .dataframe tbody tr th {\n",
       "        vertical-align: top;\n",
       "    }\n",
       "\n",
       "    .dataframe thead th {\n",
       "        text-align: right;\n",
       "    }\n",
       "</style>\n",
       "<table border=\"1\" class=\"dataframe\">\n",
       "  <thead>\n",
       "    <tr style=\"text-align: right;\">\n",
       "      <th></th>\n",
       "      <th>Num Pos</th>\n",
       "      <th>Num Neg</th>\n",
       "      <th>%Pos</th>\n",
       "      <th>%Neg</th>\n",
       "    </tr>\n",
       "  </thead>\n",
       "  <tbody>\n",
       "    <tr>\n",
       "      <th>CustServ</th>\n",
       "      <td>126</td>\n",
       "      <td>49</td>\n",
       "      <td>72.0</td>\n",
       "      <td>28.0</td>\n",
       "    </tr>\n",
       "    <tr>\n",
       "      <th>FamilyExp</th>\n",
       "      <td>143</td>\n",
       "      <td>58</td>\n",
       "      <td>71.0</td>\n",
       "      <td>29.0</td>\n",
       "    </tr>\n",
       "    <tr>\n",
       "      <th>Food</th>\n",
       "      <td>256</td>\n",
       "      <td>38</td>\n",
       "      <td>87.0</td>\n",
       "      <td>13.0</td>\n",
       "    </tr>\n",
       "    <tr>\n",
       "      <th>Hotel Location</th>\n",
       "      <td>290</td>\n",
       "      <td>66</td>\n",
       "      <td>81.0</td>\n",
       "      <td>19.0</td>\n",
       "    </tr>\n",
       "    <tr>\n",
       "      <th>HotelGen</th>\n",
       "      <td>174</td>\n",
       "      <td>22</td>\n",
       "      <td>89.0</td>\n",
       "      <td>11.0</td>\n",
       "    </tr>\n",
       "    <tr>\n",
       "      <th>Leisure</th>\n",
       "      <td>48</td>\n",
       "      <td>64</td>\n",
       "      <td>43.0</td>\n",
       "      <td>57.0</td>\n",
       "    </tr>\n",
       "    <tr>\n",
       "      <th>MealExp</th>\n",
       "      <td>159</td>\n",
       "      <td>54</td>\n",
       "      <td>75.0</td>\n",
       "      <td>25.0</td>\n",
       "    </tr>\n",
       "    <tr>\n",
       "      <th>Parking&amp;Fac</th>\n",
       "      <td>48</td>\n",
       "      <td>32</td>\n",
       "      <td>60.0</td>\n",
       "      <td>40.0</td>\n",
       "    </tr>\n",
       "    <tr>\n",
       "      <th>Room</th>\n",
       "      <td>541</td>\n",
       "      <td>171</td>\n",
       "      <td>76.0</td>\n",
       "      <td>24.0</td>\n",
       "    </tr>\n",
       "    <tr>\n",
       "      <th>Room Location</th>\n",
       "      <td>193</td>\n",
       "      <td>136</td>\n",
       "      <td>59.0</td>\n",
       "      <td>41.0</td>\n",
       "    </tr>\n",
       "    <tr>\n",
       "      <th>RoomComf</th>\n",
       "      <td>144</td>\n",
       "      <td>44</td>\n",
       "      <td>77.0</td>\n",
       "      <td>23.0</td>\n",
       "    </tr>\n",
       "    <tr>\n",
       "      <th>RoomFac</th>\n",
       "      <td>144</td>\n",
       "      <td>36</td>\n",
       "      <td>80.0</td>\n",
       "      <td>20.0</td>\n",
       "    </tr>\n",
       "    <tr>\n",
       "      <th>Service&amp;Staff</th>\n",
       "      <td>312</td>\n",
       "      <td>59</td>\n",
       "      <td>84.0</td>\n",
       "      <td>16.0</td>\n",
       "    </tr>\n",
       "    <tr>\n",
       "      <th>VFM</th>\n",
       "      <td>105</td>\n",
       "      <td>50</td>\n",
       "      <td>68.0</td>\n",
       "      <td>32.0</td>\n",
       "    </tr>\n",
       "  </tbody>\n",
       "</table>\n",
       "</div>"
      ],
      "text/plain": [
       "                Num Pos  Num Neg  %Pos  %Neg\n",
       "CustServ            126       49  72.0  28.0\n",
       "FamilyExp           143       58  71.0  29.0\n",
       "Food                256       38  87.0  13.0\n",
       "Hotel Location      290       66  81.0  19.0\n",
       "HotelGen            174       22  89.0  11.0\n",
       "Leisure              48       64  43.0  57.0\n",
       "MealExp             159       54  75.0  25.0\n",
       "Parking&Fac          48       32  60.0  40.0\n",
       "Room                541      171  76.0  24.0\n",
       "Room Location       193      136  59.0  41.0\n",
       "RoomComf            144       44  77.0  23.0\n",
       "RoomFac             144       36  80.0  20.0\n",
       "Service&Staff       312       59  84.0  16.0\n",
       "VFM                 105       50  68.0  32.0"
      ]
     },
     "execution_count": 138,
     "metadata": {},
     "output_type": "execute_result"
    }
   ],
   "source": [
    "arundel_percent = aspect_perc(arundel_accom_aspects_pos,arundel_accom_aspects_neg)\n",
    "arundel_percent"
   ]
  },
  {
   "cell_type": "code",
   "execution_count": 139,
   "id": "b9386f0d",
   "metadata": {},
   "outputs": [
    {
     "data": {
      "image/png": "[encoded data removed]",
      "text/plain": [
       "<Figure size 720x432 with 1 Axes>"
      ]
     },
     "metadata": {
      "needs_background": "light"
     },
     "output_type": "display_data"
    }
   ],
   "source": [
    "graph_sentiment_numbers(\"Accommodation Aspects Arundel\",arundel_percent)"
   ]
  },
  {
   "cell_type": "markdown",
   "id": "3cc52470",
   "metadata": {},
   "source": [
    "### Bognor"
   ]
  },
  {
   "cell_type": "code",
   "execution_count": 140,
   "id": "e9ab75e9",
   "metadata": {},
   "outputs": [
    {
     "data": {
      "text/html": [
       "<div>\n",
       "<style scoped>\n",
       "    .dataframe tbody tr th:only-of-type {\n",
       "        vertical-align: middle;\n",
       "    }\n",
       "\n",
       "    .dataframe tbody tr th {\n",
       "        vertical-align: top;\n",
       "    }\n",
       "\n",
       "    .dataframe thead th {\n",
       "        text-align: right;\n",
       "    }\n",
       "</style>\n",
       "<table border=\"1\" class=\"dataframe\">\n",
       "  <thead>\n",
       "    <tr style=\"text-align: right;\">\n",
       "      <th></th>\n",
       "      <th>Num Pos</th>\n",
       "      <th>Num Neg</th>\n",
       "      <th>%Pos</th>\n",
       "      <th>%Neg</th>\n",
       "    </tr>\n",
       "  </thead>\n",
       "  <tbody>\n",
       "    <tr>\n",
       "      <th>CustServ</th>\n",
       "      <td>172</td>\n",
       "      <td>49</td>\n",
       "      <td>78.0</td>\n",
       "      <td>22.0</td>\n",
       "    </tr>\n",
       "    <tr>\n",
       "      <th>FamilyExp</th>\n",
       "      <td>474</td>\n",
       "      <td>58</td>\n",
       "      <td>89.0</td>\n",
       "      <td>11.0</td>\n",
       "    </tr>\n",
       "    <tr>\n",
       "      <th>Food</th>\n",
       "      <td>322</td>\n",
       "      <td>38</td>\n",
       "      <td>89.0</td>\n",
       "      <td>11.0</td>\n",
       "    </tr>\n",
       "    <tr>\n",
       "      <th>Hotel Location</th>\n",
       "      <td>317</td>\n",
       "      <td>66</td>\n",
       "      <td>83.0</td>\n",
       "      <td>17.0</td>\n",
       "    </tr>\n",
       "    <tr>\n",
       "      <th>HotelGen</th>\n",
       "      <td>134</td>\n",
       "      <td>22</td>\n",
       "      <td>86.0</td>\n",
       "      <td>14.0</td>\n",
       "    </tr>\n",
       "    <tr>\n",
       "      <th>Leisure</th>\n",
       "      <td>284</td>\n",
       "      <td>64</td>\n",
       "      <td>82.0</td>\n",
       "      <td>18.0</td>\n",
       "    </tr>\n",
       "    <tr>\n",
       "      <th>MealExp</th>\n",
       "      <td>219</td>\n",
       "      <td>54</td>\n",
       "      <td>80.0</td>\n",
       "      <td>20.0</td>\n",
       "    </tr>\n",
       "    <tr>\n",
       "      <th>Parking&amp;Fac</th>\n",
       "      <td>80</td>\n",
       "      <td>32</td>\n",
       "      <td>71.0</td>\n",
       "      <td>29.0</td>\n",
       "    </tr>\n",
       "    <tr>\n",
       "      <th>Room</th>\n",
       "      <td>677</td>\n",
       "      <td>171</td>\n",
       "      <td>80.0</td>\n",
       "      <td>20.0</td>\n",
       "    </tr>\n",
       "    <tr>\n",
       "      <th>Room Location</th>\n",
       "      <td>353</td>\n",
       "      <td>136</td>\n",
       "      <td>72.0</td>\n",
       "      <td>28.0</td>\n",
       "    </tr>\n",
       "    <tr>\n",
       "      <th>RoomComf</th>\n",
       "      <td>271</td>\n",
       "      <td>44</td>\n",
       "      <td>86.0</td>\n",
       "      <td>14.0</td>\n",
       "    </tr>\n",
       "    <tr>\n",
       "      <th>RoomFac</th>\n",
       "      <td>359</td>\n",
       "      <td>36</td>\n",
       "      <td>91.0</td>\n",
       "      <td>9.0</td>\n",
       "    </tr>\n",
       "    <tr>\n",
       "      <th>Service&amp;Staff</th>\n",
       "      <td>326</td>\n",
       "      <td>59</td>\n",
       "      <td>85.0</td>\n",
       "      <td>15.0</td>\n",
       "    </tr>\n",
       "    <tr>\n",
       "      <th>VFM</th>\n",
       "      <td>145</td>\n",
       "      <td>50</td>\n",
       "      <td>74.0</td>\n",
       "      <td>26.0</td>\n",
       "    </tr>\n",
       "  </tbody>\n",
       "</table>\n",
       "</div>"
      ],
      "text/plain": [
       "                Num Pos  Num Neg  %Pos  %Neg\n",
       "CustServ            172       49  78.0  22.0\n",
       "FamilyExp           474       58  89.0  11.0\n",
       "Food                322       38  89.0  11.0\n",
       "Hotel Location      317       66  83.0  17.0\n",
       "HotelGen            134       22  86.0  14.0\n",
       "Leisure             284       64  82.0  18.0\n",
       "MealExp             219       54  80.0  20.0\n",
       "Parking&Fac          80       32  71.0  29.0\n",
       "Room                677      171  80.0  20.0\n",
       "Room Location       353      136  72.0  28.0\n",
       "RoomComf            271       44  86.0  14.0\n",
       "RoomFac             359       36  91.0   9.0\n",
       "Service&Staff       326       59  85.0  15.0\n",
       "VFM                 145       50  74.0  26.0"
      ]
     },
     "execution_count": 140,
     "metadata": {},
     "output_type": "execute_result"
    }
   ],
   "source": [
    "bognor_percent = aspect_perc(bognor_accom_aspects_pos,bognor_accom_aspects_neg)\n",
    "bognor_percent"
   ]
  },
  {
   "cell_type": "code",
   "execution_count": 141,
   "id": "5920627a",
   "metadata": {},
   "outputs": [
    {
     "data": {
      "image/png": "[encoded data removed]",
      "text/plain": [
       "<Figure size 720x432 with 1 Axes>"
      ]
     },
     "metadata": {
      "needs_background": "light"
     },
     "output_type": "display_data"
    }
   ],
   "source": [
    "graph_sentiment_numbers(\"Accommodation Aspects Bognor\",bognor_percent)"
   ]
  },
  {
   "cell_type": "markdown",
   "id": "22f14e2e",
   "metadata": {},
   "source": [
    "### Littlehampton"
   ]
  },
  {
   "cell_type": "code",
   "execution_count": 142,
   "id": "f7e1a77f",
   "metadata": {},
   "outputs": [
    {
     "data": {
      "text/html": [
       "<div>\n",
       "<style scoped>\n",
       "    .dataframe tbody tr th:only-of-type {\n",
       "        vertical-align: middle;\n",
       "    }\n",
       "\n",
       "    .dataframe tbody tr th {\n",
       "        vertical-align: top;\n",
       "    }\n",
       "\n",
       "    .dataframe thead th {\n",
       "        text-align: right;\n",
       "    }\n",
       "</style>\n",
       "<table border=\"1\" class=\"dataframe\">\n",
       "  <thead>\n",
       "    <tr style=\"text-align: right;\">\n",
       "      <th></th>\n",
       "      <th>Num Pos</th>\n",
       "      <th>Num Neg</th>\n",
       "      <th>%Pos</th>\n",
       "      <th>%Neg</th>\n",
       "    </tr>\n",
       "  </thead>\n",
       "  <tbody>\n",
       "    <tr>\n",
       "      <th>CustServ</th>\n",
       "      <td>111</td>\n",
       "      <td>29</td>\n",
       "      <td>79.0</td>\n",
       "      <td>21.0</td>\n",
       "    </tr>\n",
       "    <tr>\n",
       "      <th>FamilyExp</th>\n",
       "      <td>144</td>\n",
       "      <td>18</td>\n",
       "      <td>89.0</td>\n",
       "      <td>11.0</td>\n",
       "    </tr>\n",
       "    <tr>\n",
       "      <th>Food</th>\n",
       "      <td>147</td>\n",
       "      <td>19</td>\n",
       "      <td>89.0</td>\n",
       "      <td>11.0</td>\n",
       "    </tr>\n",
       "    <tr>\n",
       "      <th>Hotel Location</th>\n",
       "      <td>249</td>\n",
       "      <td>23</td>\n",
       "      <td>92.0</td>\n",
       "      <td>8.0</td>\n",
       "    </tr>\n",
       "    <tr>\n",
       "      <th>HotelGen</th>\n",
       "      <td>87</td>\n",
       "      <td>7</td>\n",
       "      <td>93.0</td>\n",
       "      <td>7.0</td>\n",
       "    </tr>\n",
       "    <tr>\n",
       "      <th>Leisure</th>\n",
       "      <td>74</td>\n",
       "      <td>10</td>\n",
       "      <td>88.0</td>\n",
       "      <td>12.0</td>\n",
       "    </tr>\n",
       "    <tr>\n",
       "      <th>MealExp</th>\n",
       "      <td>132</td>\n",
       "      <td>37</td>\n",
       "      <td>78.0</td>\n",
       "      <td>22.0</td>\n",
       "    </tr>\n",
       "    <tr>\n",
       "      <th>Parking&amp;Fac</th>\n",
       "      <td>87</td>\n",
       "      <td>23</td>\n",
       "      <td>79.0</td>\n",
       "      <td>21.0</td>\n",
       "    </tr>\n",
       "    <tr>\n",
       "      <th>Room</th>\n",
       "      <td>319</td>\n",
       "      <td>51</td>\n",
       "      <td>86.0</td>\n",
       "      <td>14.0</td>\n",
       "    </tr>\n",
       "    <tr>\n",
       "      <th>Room Location</th>\n",
       "      <td>156</td>\n",
       "      <td>44</td>\n",
       "      <td>78.0</td>\n",
       "      <td>22.0</td>\n",
       "    </tr>\n",
       "    <tr>\n",
       "      <th>RoomComf</th>\n",
       "      <td>116</td>\n",
       "      <td>13</td>\n",
       "      <td>90.0</td>\n",
       "      <td>10.0</td>\n",
       "    </tr>\n",
       "    <tr>\n",
       "      <th>RoomFac</th>\n",
       "      <td>164</td>\n",
       "      <td>20</td>\n",
       "      <td>89.0</td>\n",
       "      <td>11.0</td>\n",
       "    </tr>\n",
       "    <tr>\n",
       "      <th>Service&amp;Staff</th>\n",
       "      <td>221</td>\n",
       "      <td>32</td>\n",
       "      <td>87.0</td>\n",
       "      <td>13.0</td>\n",
       "    </tr>\n",
       "    <tr>\n",
       "      <th>VFM</th>\n",
       "      <td>63</td>\n",
       "      <td>20</td>\n",
       "      <td>76.0</td>\n",
       "      <td>24.0</td>\n",
       "    </tr>\n",
       "  </tbody>\n",
       "</table>\n",
       "</div>"
      ],
      "text/plain": [
       "                Num Pos  Num Neg  %Pos  %Neg\n",
       "CustServ            111       29  79.0  21.0\n",
       "FamilyExp           144       18  89.0  11.0\n",
       "Food                147       19  89.0  11.0\n",
       "Hotel Location      249       23  92.0   8.0\n",
       "HotelGen             87        7  93.0   7.0\n",
       "Leisure              74       10  88.0  12.0\n",
       "MealExp             132       37  78.0  22.0\n",
       "Parking&Fac          87       23  79.0  21.0\n",
       "Room                319       51  86.0  14.0\n",
       "Room Location       156       44  78.0  22.0\n",
       "RoomComf            116       13  90.0  10.0\n",
       "RoomFac             164       20  89.0  11.0\n",
       "Service&Staff       221       32  87.0  13.0\n",
       "VFM                  63       20  76.0  24.0"
      ]
     },
     "execution_count": 142,
     "metadata": {},
     "output_type": "execute_result"
    }
   ],
   "source": [
    "little_percent = aspect_perc(little_accom_aspects_pos,little_accom_aspects_neg)\n",
    "little_percent"
   ]
  },
  {
   "cell_type": "code",
   "execution_count": 143,
   "id": "7234ad07",
   "metadata": {},
   "outputs": [
    {
     "data": {
      "image/png": "[encoded data removed]",
      "text/plain": [
       "<Figure size 720x432 with 1 Axes>"
      ]
     },
     "metadata": {
      "needs_background": "light"
     },
     "output_type": "display_data"
    }
   ],
   "source": [
    "graph_sentiment_numbers(\"Accommodation Aspects Littlehampton\",little_percent)"
   ]
  },
  {
   "cell_type": "markdown",
   "id": "b69cbd9e",
   "metadata": {},
   "source": [
    "### Food"
   ]
  },
  {
   "cell_type": "code",
   "execution_count": 144,
   "id": "9e839728",
   "metadata": {},
   "outputs": [
    {
     "data": {
      "text/html": [
       "<div>\n",
       "<style scoped>\n",
       "    .dataframe tbody tr th:only-of-type {\n",
       "        vertical-align: middle;\n",
       "    }\n",
       "\n",
       "    .dataframe tbody tr th {\n",
       "        vertical-align: top;\n",
       "    }\n",
       "\n",
       "    .dataframe thead th {\n",
       "        text-align: right;\n",
       "    }\n",
       "</style>\n",
       "<table border=\"1\" class=\"dataframe\">\n",
       "  <thead>\n",
       "    <tr style=\"text-align: right;\">\n",
       "      <th></th>\n",
       "      <th>Num Pos</th>\n",
       "      <th>Num Neg</th>\n",
       "      <th>%Pos</th>\n",
       "      <th>%Neg</th>\n",
       "    </tr>\n",
       "  </thead>\n",
       "  <tbody>\n",
       "    <tr>\n",
       "      <th>Booking&amp;Table</th>\n",
       "      <td>926</td>\n",
       "      <td>234</td>\n",
       "      <td>80.0</td>\n",
       "      <td>20.0</td>\n",
       "    </tr>\n",
       "    <tr>\n",
       "      <th>Choice</th>\n",
       "      <td>780</td>\n",
       "      <td>92</td>\n",
       "      <td>89.0</td>\n",
       "      <td>11.0</td>\n",
       "    </tr>\n",
       "    <tr>\n",
       "      <th>FoodGen</th>\n",
       "      <td>4540</td>\n",
       "      <td>486</td>\n",
       "      <td>90.0</td>\n",
       "      <td>10.0</td>\n",
       "    </tr>\n",
       "    <tr>\n",
       "      <th>FoodPort</th>\n",
       "      <td>663</td>\n",
       "      <td>92</td>\n",
       "      <td>88.0</td>\n",
       "      <td>12.0</td>\n",
       "    </tr>\n",
       "    <tr>\n",
       "      <th>MealExp</th>\n",
       "      <td>1246</td>\n",
       "      <td>156</td>\n",
       "      <td>89.0</td>\n",
       "      <td>11.0</td>\n",
       "    </tr>\n",
       "    <tr>\n",
       "      <th>Menu</th>\n",
       "      <td>743</td>\n",
       "      <td>84</td>\n",
       "      <td>90.0</td>\n",
       "      <td>10.0</td>\n",
       "    </tr>\n",
       "    <tr>\n",
       "      <th>Ordering</th>\n",
       "      <td>888</td>\n",
       "      <td>111</td>\n",
       "      <td>89.0</td>\n",
       "      <td>11.0</td>\n",
       "    </tr>\n",
       "    <tr>\n",
       "      <th>Quality</th>\n",
       "      <td>852</td>\n",
       "      <td>121</td>\n",
       "      <td>88.0</td>\n",
       "      <td>12.0</td>\n",
       "    </tr>\n",
       "    <tr>\n",
       "      <th>Service</th>\n",
       "      <td>1928</td>\n",
       "      <td>302</td>\n",
       "      <td>86.0</td>\n",
       "      <td>14.0</td>\n",
       "    </tr>\n",
       "    <tr>\n",
       "      <th>StaffGen</th>\n",
       "      <td>1800</td>\n",
       "      <td>251</td>\n",
       "      <td>88.0</td>\n",
       "      <td>12.0</td>\n",
       "    </tr>\n",
       "    <tr>\n",
       "      <th>VFM</th>\n",
       "      <td>1158</td>\n",
       "      <td>80</td>\n",
       "      <td>94.0</td>\n",
       "      <td>6.0</td>\n",
       "    </tr>\n",
       "    <tr>\n",
       "      <th>VisitExp</th>\n",
       "      <td>1280</td>\n",
       "      <td>256</td>\n",
       "      <td>83.0</td>\n",
       "      <td>17.0</td>\n",
       "    </tr>\n",
       "  </tbody>\n",
       "</table>\n",
       "</div>"
      ],
      "text/plain": [
       "               Num Pos  Num Neg  %Pos  %Neg\n",
       "Booking&Table      926      234  80.0  20.0\n",
       "Choice             780       92  89.0  11.0\n",
       "FoodGen           4540      486  90.0  10.0\n",
       "FoodPort           663       92  88.0  12.0\n",
       "MealExp           1246      156  89.0  11.0\n",
       "Menu               743       84  90.0  10.0\n",
       "Ordering           888      111  89.0  11.0\n",
       "Quality            852      121  88.0  12.0\n",
       "Service           1928      302  86.0  14.0\n",
       "StaffGen          1800      251  88.0  12.0\n",
       "VFM               1158       80  94.0   6.0\n",
       "VisitExp          1280      256  83.0  17.0"
      ]
     },
     "execution_count": 144,
     "metadata": {},
     "output_type": "execute_result"
    }
   ],
   "source": [
    "food_sent = aspect_all(df_food)\n",
    "food_sent"
   ]
  },
  {
   "cell_type": "code",
   "execution_count": 145,
   "id": "de6a8ad3",
   "metadata": {},
   "outputs": [
    {
     "data": {
      "image/png": "[encoded data removed]",
      "text/plain": [
       "<Figure size 720x432 with 1 Axes>"
      ]
     },
     "metadata": {
      "needs_background": "light"
     },
     "output_type": "display_data"
    }
   ],
   "source": [
    "graph_sentiment_numbers(\"Accommodation Aspects Arun\",food_sent)"
   ]
  },
  {
   "cell_type": "markdown",
   "id": "1941283c",
   "metadata": {},
   "source": [
    "### Split down by town"
   ]
  },
  {
   "cell_type": "code",
   "execution_count": 146,
   "id": "4f484404",
   "metadata": {},
   "outputs": [],
   "source": [
    "arundel_food_aspects_pos = df_food[(df_food[\"Town\"] == \"Arundel\") & (df_food[\"Score\"] == \"positive\")]\n",
    "arundel_food_aspects_neg = df_food[(df_food[\"Town\"] == \"Bognor\") & (df_food[\"Score\"] == \"negative\")]\n",
    "bognor_food_aspects_pos = df_food[(df_food[\"Town\"] == \"Bognor\") & (df_food[\"Score\"] == \"positive\")]\n",
    "bognor_food_aspects_neg = df_food[(df_food[\"Town\"] == \"Bognor\") & (df_food[\"Score\"] == \"negative\")]\n",
    "little_food_aspects_pos = df_food[(df_food[\"Town\"] == \"Littlehampton\") & (df_food[\"Score\"] == \"positive\")]\n",
    "little_food_aspects_neg = df_food[(df_food[\"Town\"] == \"Littlehampton\") & (df_food[\"Score\"] == \"negative\")]"
   ]
  },
  {
   "cell_type": "markdown",
   "id": "b79b4e8a",
   "metadata": {},
   "source": [
    "### Arundel"
   ]
  },
  {
   "cell_type": "code",
   "execution_count": 147,
   "id": "223d8fea",
   "metadata": {},
   "outputs": [
    {
     "data": {
      "text/html": [
       "<div>\n",
       "<style scoped>\n",
       "    .dataframe tbody tr th:only-of-type {\n",
       "        vertical-align: middle;\n",
       "    }\n",
       "\n",
       "    .dataframe tbody tr th {\n",
       "        vertical-align: top;\n",
       "    }\n",
       "\n",
       "    .dataframe thead th {\n",
       "        text-align: right;\n",
       "    }\n",
       "</style>\n",
       "<table border=\"1\" class=\"dataframe\">\n",
       "  <thead>\n",
       "    <tr style=\"text-align: right;\">\n",
       "      <th></th>\n",
       "      <th>Num Pos</th>\n",
       "      <th>Num Neg</th>\n",
       "      <th>%Pos</th>\n",
       "      <th>%Neg</th>\n",
       "    </tr>\n",
       "  </thead>\n",
       "  <tbody>\n",
       "    <tr>\n",
       "      <th>Booking&amp;Table</th>\n",
       "      <td>359</td>\n",
       "      <td>80</td>\n",
       "      <td>82.0</td>\n",
       "      <td>18.0</td>\n",
       "    </tr>\n",
       "    <tr>\n",
       "      <th>Choice</th>\n",
       "      <td>304</td>\n",
       "      <td>22</td>\n",
       "      <td>93.0</td>\n",
       "      <td>7.0</td>\n",
       "    </tr>\n",
       "    <tr>\n",
       "      <th>FoodGen</th>\n",
       "      <td>1625</td>\n",
       "      <td>185</td>\n",
       "      <td>90.0</td>\n",
       "      <td>10.0</td>\n",
       "    </tr>\n",
       "    <tr>\n",
       "      <th>FoodPort</th>\n",
       "      <td>214</td>\n",
       "      <td>29</td>\n",
       "      <td>88.0</td>\n",
       "      <td>12.0</td>\n",
       "    </tr>\n",
       "    <tr>\n",
       "      <th>MealExp</th>\n",
       "      <td>418</td>\n",
       "      <td>50</td>\n",
       "      <td>89.0</td>\n",
       "      <td>11.0</td>\n",
       "    </tr>\n",
       "    <tr>\n",
       "      <th>Menu</th>\n",
       "      <td>287</td>\n",
       "      <td>29</td>\n",
       "      <td>91.0</td>\n",
       "      <td>9.0</td>\n",
       "    </tr>\n",
       "    <tr>\n",
       "      <th>Ordering</th>\n",
       "      <td>379</td>\n",
       "      <td>42</td>\n",
       "      <td>90.0</td>\n",
       "      <td>10.0</td>\n",
       "    </tr>\n",
       "    <tr>\n",
       "      <th>Quality</th>\n",
       "      <td>299</td>\n",
       "      <td>45</td>\n",
       "      <td>87.0</td>\n",
       "      <td>13.0</td>\n",
       "    </tr>\n",
       "    <tr>\n",
       "      <th>Service</th>\n",
       "      <td>634</td>\n",
       "      <td>111</td>\n",
       "      <td>85.0</td>\n",
       "      <td>15.0</td>\n",
       "    </tr>\n",
       "    <tr>\n",
       "      <th>StaffGen</th>\n",
       "      <td>664</td>\n",
       "      <td>84</td>\n",
       "      <td>89.0</td>\n",
       "      <td>11.0</td>\n",
       "    </tr>\n",
       "    <tr>\n",
       "      <th>VFM</th>\n",
       "      <td>388</td>\n",
       "      <td>37</td>\n",
       "      <td>91.0</td>\n",
       "      <td>9.0</td>\n",
       "    </tr>\n",
       "    <tr>\n",
       "      <th>VisitExp</th>\n",
       "      <td>473</td>\n",
       "      <td>78</td>\n",
       "      <td>86.0</td>\n",
       "      <td>14.0</td>\n",
       "    </tr>\n",
       "  </tbody>\n",
       "</table>\n",
       "</div>"
      ],
      "text/plain": [
       "               Num Pos  Num Neg  %Pos  %Neg\n",
       "Booking&Table      359       80  82.0  18.0\n",
       "Choice             304       22  93.0   7.0\n",
       "FoodGen           1625      185  90.0  10.0\n",
       "FoodPort           214       29  88.0  12.0\n",
       "MealExp            418       50  89.0  11.0\n",
       "Menu               287       29  91.0   9.0\n",
       "Ordering           379       42  90.0  10.0\n",
       "Quality            299       45  87.0  13.0\n",
       "Service            634      111  85.0  15.0\n",
       "StaffGen           664       84  89.0  11.0\n",
       "VFM                388       37  91.0   9.0\n",
       "VisitExp           473       78  86.0  14.0"
      ]
     },
     "execution_count": 147,
     "metadata": {},
     "output_type": "execute_result"
    }
   ],
   "source": [
    "arundel_percent_food = aspect_perc(arundel_food_aspects_pos,arundel_food_aspects_neg)\n",
    "arundel_percent_food"
   ]
  },
  {
   "cell_type": "code",
   "execution_count": 148,
   "id": "784d73ad",
   "metadata": {},
   "outputs": [
    {
     "data": {
      "image/png": "[encoded data removed]",
      "text/plain": [
       "<Figure size 720x432 with 1 Axes>"
      ]
     },
     "metadata": {
      "needs_background": "light"
     },
     "output_type": "display_data"
    }
   ],
   "source": [
    "graph_sentiment_numbers(\"Food Aspects Arundel\",arundel_percent_food)"
   ]
  },
  {
   "cell_type": "markdown",
   "id": "96207a28",
   "metadata": {},
   "source": [
    "### Bognor"
   ]
  },
  {
   "cell_type": "code",
   "execution_count": 149,
   "id": "465b547a",
   "metadata": {},
   "outputs": [
    {
     "data": {
      "text/html": [
       "<div>\n",
       "<style scoped>\n",
       "    .dataframe tbody tr th:only-of-type {\n",
       "        vertical-align: middle;\n",
       "    }\n",
       "\n",
       "    .dataframe tbody tr th {\n",
       "        vertical-align: top;\n",
       "    }\n",
       "\n",
       "    .dataframe thead th {\n",
       "        text-align: right;\n",
       "    }\n",
       "</style>\n",
       "<table border=\"1\" class=\"dataframe\">\n",
       "  <thead>\n",
       "    <tr style=\"text-align: right;\">\n",
       "      <th></th>\n",
       "      <th>Num Pos</th>\n",
       "      <th>Num Neg</th>\n",
       "      <th>%Pos</th>\n",
       "      <th>%Neg</th>\n",
       "    </tr>\n",
       "  </thead>\n",
       "  <tbody>\n",
       "    <tr>\n",
       "      <th>Booking&amp;Table</th>\n",
       "      <td>249</td>\n",
       "      <td>80</td>\n",
       "      <td>76.0</td>\n",
       "      <td>24.0</td>\n",
       "    </tr>\n",
       "    <tr>\n",
       "      <th>Choice</th>\n",
       "      <td>262</td>\n",
       "      <td>22</td>\n",
       "      <td>92.0</td>\n",
       "      <td>8.0</td>\n",
       "    </tr>\n",
       "    <tr>\n",
       "      <th>FoodGen</th>\n",
       "      <td>1646</td>\n",
       "      <td>185</td>\n",
       "      <td>90.0</td>\n",
       "      <td>10.0</td>\n",
       "    </tr>\n",
       "    <tr>\n",
       "      <th>FoodPort</th>\n",
       "      <td>244</td>\n",
       "      <td>29</td>\n",
       "      <td>89.0</td>\n",
       "      <td>11.0</td>\n",
       "    </tr>\n",
       "    <tr>\n",
       "      <th>MealExp</th>\n",
       "      <td>454</td>\n",
       "      <td>50</td>\n",
       "      <td>90.0</td>\n",
       "      <td>10.0</td>\n",
       "    </tr>\n",
       "    <tr>\n",
       "      <th>Menu</th>\n",
       "      <td>235</td>\n",
       "      <td>29</td>\n",
       "      <td>89.0</td>\n",
       "      <td>11.0</td>\n",
       "    </tr>\n",
       "    <tr>\n",
       "      <th>Ordering</th>\n",
       "      <td>286</td>\n",
       "      <td>42</td>\n",
       "      <td>87.0</td>\n",
       "      <td>13.0</td>\n",
       "    </tr>\n",
       "    <tr>\n",
       "      <th>Quality</th>\n",
       "      <td>283</td>\n",
       "      <td>45</td>\n",
       "      <td>86.0</td>\n",
       "      <td>14.0</td>\n",
       "    </tr>\n",
       "    <tr>\n",
       "      <th>Service</th>\n",
       "      <td>769</td>\n",
       "      <td>111</td>\n",
       "      <td>87.0</td>\n",
       "      <td>13.0</td>\n",
       "    </tr>\n",
       "    <tr>\n",
       "      <th>StaffGen</th>\n",
       "      <td>647</td>\n",
       "      <td>84</td>\n",
       "      <td>89.0</td>\n",
       "      <td>11.0</td>\n",
       "    </tr>\n",
       "    <tr>\n",
       "      <th>VFM</th>\n",
       "      <td>421</td>\n",
       "      <td>37</td>\n",
       "      <td>92.0</td>\n",
       "      <td>8.0</td>\n",
       "    </tr>\n",
       "    <tr>\n",
       "      <th>VisitExp</th>\n",
       "      <td>441</td>\n",
       "      <td>78</td>\n",
       "      <td>85.0</td>\n",
       "      <td>15.0</td>\n",
       "    </tr>\n",
       "  </tbody>\n",
       "</table>\n",
       "</div>"
      ],
      "text/plain": [
       "               Num Pos  Num Neg  %Pos  %Neg\n",
       "Booking&Table      249       80  76.0  24.0\n",
       "Choice             262       22  92.0   8.0\n",
       "FoodGen           1646      185  90.0  10.0\n",
       "FoodPort           244       29  89.0  11.0\n",
       "MealExp            454       50  90.0  10.0\n",
       "Menu               235       29  89.0  11.0\n",
       "Ordering           286       42  87.0  13.0\n",
       "Quality            283       45  86.0  14.0\n",
       "Service            769      111  87.0  13.0\n",
       "StaffGen           647       84  89.0  11.0\n",
       "VFM                421       37  92.0   8.0\n",
       "VisitExp           441       78  85.0  15.0"
      ]
     },
     "execution_count": 149,
     "metadata": {},
     "output_type": "execute_result"
    }
   ],
   "source": [
    "bognor_percent_food = aspect_perc(bognor_food_aspects_pos,bognor_food_aspects_neg)\n",
    "bognor_percent_food"
   ]
  },
  {
   "cell_type": "code",
   "execution_count": 150,
   "id": "4668f8f9",
   "metadata": {},
   "outputs": [
    {
     "data": {
      "image/png": "[encoded data removed]",
      "text/plain": [
       "<Figure size 720x432 with 1 Axes>"
      ]
     },
     "metadata": {
      "needs_background": "light"
     },
     "output_type": "display_data"
    }
   ],
   "source": [
    "graph_sentiment_numbers(\"Food Aspects Bognor\",bognor_percent_food)"
   ]
  },
  {
   "cell_type": "markdown",
   "id": "e4285c5d",
   "metadata": {},
   "source": [
    "### Littlehampton"
   ]
  },
  {
   "cell_type": "code",
   "execution_count": 151,
   "id": "8d9104a7",
   "metadata": {},
   "outputs": [
    {
     "data": {
      "text/html": [
       "<div>\n",
       "<style scoped>\n",
       "    .dataframe tbody tr th:only-of-type {\n",
       "        vertical-align: middle;\n",
       "    }\n",
       "\n",
       "    .dataframe tbody tr th {\n",
       "        vertical-align: top;\n",
       "    }\n",
       "\n",
       "    .dataframe thead th {\n",
       "        text-align: right;\n",
       "    }\n",
       "</style>\n",
       "<table border=\"1\" class=\"dataframe\">\n",
       "  <thead>\n",
       "    <tr style=\"text-align: right;\">\n",
       "      <th></th>\n",
       "      <th>Num Pos</th>\n",
       "      <th>Num Neg</th>\n",
       "      <th>%Pos</th>\n",
       "      <th>%Neg</th>\n",
       "    </tr>\n",
       "  </thead>\n",
       "  <tbody>\n",
       "    <tr>\n",
       "      <th>Booking&amp;Table</th>\n",
       "      <td>318</td>\n",
       "      <td>74</td>\n",
       "      <td>81.0</td>\n",
       "      <td>19.0</td>\n",
       "    </tr>\n",
       "    <tr>\n",
       "      <th>Choice</th>\n",
       "      <td>214</td>\n",
       "      <td>40</td>\n",
       "      <td>84.0</td>\n",
       "      <td>16.0</td>\n",
       "    </tr>\n",
       "    <tr>\n",
       "      <th>FoodGen</th>\n",
       "      <td>1269</td>\n",
       "      <td>166</td>\n",
       "      <td>88.0</td>\n",
       "      <td>12.0</td>\n",
       "    </tr>\n",
       "    <tr>\n",
       "      <th>FoodPort</th>\n",
       "      <td>205</td>\n",
       "      <td>32</td>\n",
       "      <td>86.0</td>\n",
       "      <td>14.0</td>\n",
       "    </tr>\n",
       "    <tr>\n",
       "      <th>MealExp</th>\n",
       "      <td>374</td>\n",
       "      <td>64</td>\n",
       "      <td>85.0</td>\n",
       "      <td>15.0</td>\n",
       "    </tr>\n",
       "    <tr>\n",
       "      <th>Menu</th>\n",
       "      <td>221</td>\n",
       "      <td>28</td>\n",
       "      <td>89.0</td>\n",
       "      <td>11.0</td>\n",
       "    </tr>\n",
       "    <tr>\n",
       "      <th>Ordering</th>\n",
       "      <td>223</td>\n",
       "      <td>31</td>\n",
       "      <td>88.0</td>\n",
       "      <td>12.0</td>\n",
       "    </tr>\n",
       "    <tr>\n",
       "      <th>Quality</th>\n",
       "      <td>270</td>\n",
       "      <td>43</td>\n",
       "      <td>86.0</td>\n",
       "      <td>14.0</td>\n",
       "    </tr>\n",
       "    <tr>\n",
       "      <th>Service</th>\n",
       "      <td>525</td>\n",
       "      <td>101</td>\n",
       "      <td>84.0</td>\n",
       "      <td>16.0</td>\n",
       "    </tr>\n",
       "    <tr>\n",
       "      <th>StaffGen</th>\n",
       "      <td>489</td>\n",
       "      <td>87</td>\n",
       "      <td>85.0</td>\n",
       "      <td>15.0</td>\n",
       "    </tr>\n",
       "    <tr>\n",
       "      <th>VFM</th>\n",
       "      <td>349</td>\n",
       "      <td>26</td>\n",
       "      <td>93.0</td>\n",
       "      <td>7.0</td>\n",
       "    </tr>\n",
       "    <tr>\n",
       "      <th>VisitExp</th>\n",
       "      <td>366</td>\n",
       "      <td>78</td>\n",
       "      <td>82.0</td>\n",
       "      <td>18.0</td>\n",
       "    </tr>\n",
       "  </tbody>\n",
       "</table>\n",
       "</div>"
      ],
      "text/plain": [
       "               Num Pos  Num Neg  %Pos  %Neg\n",
       "Booking&Table      318       74  81.0  19.0\n",
       "Choice             214       40  84.0  16.0\n",
       "FoodGen           1269      166  88.0  12.0\n",
       "FoodPort           205       32  86.0  14.0\n",
       "MealExp            374       64  85.0  15.0\n",
       "Menu               221       28  89.0  11.0\n",
       "Ordering           223       31  88.0  12.0\n",
       "Quality            270       43  86.0  14.0\n",
       "Service            525      101  84.0  16.0\n",
       "StaffGen           489       87  85.0  15.0\n",
       "VFM                349       26  93.0   7.0\n",
       "VisitExp           366       78  82.0  18.0"
      ]
     },
     "execution_count": 151,
     "metadata": {},
     "output_type": "execute_result"
    }
   ],
   "source": [
    "little_percent_food = aspect_perc(little_food_aspects_pos,little_food_aspects_neg)\n",
    "little_percent_food"
   ]
  },
  {
   "cell_type": "code",
   "execution_count": 152,
   "id": "aaf015f9",
   "metadata": {},
   "outputs": [
    {
     "data": {
      "image/png": "[encoded data removed]",
      "text/plain": [
       "<Figure size 720x432 with 1 Axes>"
      ]
     },
     "metadata": {
      "needs_background": "light"
     },
     "output_type": "display_data"
    }
   ],
   "source": [
    "graph_sentiment_numbers(\"Food Aspects Littlehampton\",little_percent_food)"
   ]
  },
  {
   "cell_type": "markdown",
   "id": "424d1e22",
   "metadata": {},
   "source": [
    "### Attractions"
   ]
  },
  {
   "cell_type": "code",
   "execution_count": 153,
   "id": "72bbcec4",
   "metadata": {},
   "outputs": [
    {
     "data": {
      "text/html": [
       "<div>\n",
       "<style scoped>\n",
       "    .dataframe tbody tr th:only-of-type {\n",
       "        vertical-align: middle;\n",
       "    }\n",
       "\n",
       "    .dataframe tbody tr th {\n",
       "        vertical-align: top;\n",
       "    }\n",
       "\n",
       "    .dataframe thead th {\n",
       "        text-align: right;\n",
       "    }\n",
       "</style>\n",
       "<table border=\"1\" class=\"dataframe\">\n",
       "  <thead>\n",
       "    <tr style=\"text-align: right;\">\n",
       "      <th></th>\n",
       "      <th>Num Pos</th>\n",
       "      <th>Num Neg</th>\n",
       "      <th>%Pos</th>\n",
       "      <th>%Neg</th>\n",
       "    </tr>\n",
       "  </thead>\n",
       "  <tbody>\n",
       "    <tr>\n",
       "      <th>BeachFac</th>\n",
       "      <td>224</td>\n",
       "      <td>20</td>\n",
       "      <td>92.0</td>\n",
       "      <td>8.0</td>\n",
       "    </tr>\n",
       "    <tr>\n",
       "      <th>FamilyExp</th>\n",
       "      <td>480</td>\n",
       "      <td>36</td>\n",
       "      <td>93.0</td>\n",
       "      <td>7.0</td>\n",
       "    </tr>\n",
       "    <tr>\n",
       "      <th>Food</th>\n",
       "      <td>286</td>\n",
       "      <td>40</td>\n",
       "      <td>88.0</td>\n",
       "      <td>12.0</td>\n",
       "    </tr>\n",
       "    <tr>\n",
       "      <th>Gardens&amp;Grounds</th>\n",
       "      <td>222</td>\n",
       "      <td>16</td>\n",
       "      <td>93.0</td>\n",
       "      <td>7.0</td>\n",
       "    </tr>\n",
       "    <tr>\n",
       "      <th>Kids&amp;PlayArea</th>\n",
       "      <td>283</td>\n",
       "      <td>61</td>\n",
       "      <td>82.0</td>\n",
       "      <td>18.0</td>\n",
       "    </tr>\n",
       "    <tr>\n",
       "      <th>Parking</th>\n",
       "      <td>131</td>\n",
       "      <td>19</td>\n",
       "      <td>87.0</td>\n",
       "      <td>13.0</td>\n",
       "    </tr>\n",
       "    <tr>\n",
       "      <th>Place</th>\n",
       "      <td>168</td>\n",
       "      <td>16</td>\n",
       "      <td>91.0</td>\n",
       "      <td>9.0</td>\n",
       "    </tr>\n",
       "    <tr>\n",
       "      <th>Shop&amp;Amenties</th>\n",
       "      <td>231</td>\n",
       "      <td>19</td>\n",
       "      <td>92.0</td>\n",
       "      <td>8.0</td>\n",
       "    </tr>\n",
       "    <tr>\n",
       "      <th>Staff</th>\n",
       "      <td>210</td>\n",
       "      <td>22</td>\n",
       "      <td>91.0</td>\n",
       "      <td>9.0</td>\n",
       "    </tr>\n",
       "    <tr>\n",
       "      <th>VFM</th>\n",
       "      <td>222</td>\n",
       "      <td>45</td>\n",
       "      <td>83.0</td>\n",
       "      <td>17.0</td>\n",
       "    </tr>\n",
       "    <tr>\n",
       "      <th>VisitExp</th>\n",
       "      <td>396</td>\n",
       "      <td>45</td>\n",
       "      <td>90.0</td>\n",
       "      <td>10.0</td>\n",
       "    </tr>\n",
       "    <tr>\n",
       "      <th>Walking</th>\n",
       "      <td>279</td>\n",
       "      <td>12</td>\n",
       "      <td>96.0</td>\n",
       "      <td>4.0</td>\n",
       "    </tr>\n",
       "  </tbody>\n",
       "</table>\n",
       "</div>"
      ],
      "text/plain": [
       "                 Num Pos  Num Neg  %Pos  %Neg\n",
       "BeachFac             224       20  92.0   8.0\n",
       "FamilyExp            480       36  93.0   7.0\n",
       "Food                 286       40  88.0  12.0\n",
       "Gardens&Grounds      222       16  93.0   7.0\n",
       "Kids&PlayArea        283       61  82.0  18.0\n",
       "Parking              131       19  87.0  13.0\n",
       "Place                168       16  91.0   9.0\n",
       "Shop&Amenties        231       19  92.0   8.0\n",
       "Staff                210       22  91.0   9.0\n",
       "VFM                  222       45  83.0  17.0\n",
       "VisitExp             396       45  90.0  10.0\n",
       "Walking              279       12  96.0   4.0"
      ]
     },
     "execution_count": 153,
     "metadata": {},
     "output_type": "execute_result"
    }
   ],
   "source": [
    "attract_sent = aspect_all(df_attract)\n",
    "attract_sent"
   ]
  },
  {
   "cell_type": "code",
   "execution_count": 154,
   "id": "bfaf3b96",
   "metadata": {},
   "outputs": [
    {
     "data": {
      "image/png": "[encoded data removed]",
      "text/plain": [
       "<Figure size 720x432 with 1 Axes>"
      ]
     },
     "metadata": {
      "needs_background": "light"
     },
     "output_type": "display_data"
    }
   ],
   "source": [
    "graph_sentiment_numbers(\"Attraction Aspects Arun\",attract_sent)"
   ]
  },
  {
   "cell_type": "markdown",
   "id": "6e17cdd9",
   "metadata": {},
   "source": [
    "## Split down by town"
   ]
  },
  {
   "cell_type": "code",
   "execution_count": 155,
   "id": "ea397c0e",
   "metadata": {},
   "outputs": [],
   "source": [
    "arundel_attract_aspects_pos = df_attract[(df_attract[\"Town\"] == \"Arundel\") & (df_attract[\"Score\"] == \"positive\")]\n",
    "arundel_attract_aspects_neg = df_attract[(df_attract[\"Town\"] == \"Bognor\") & (df_attract[\"Score\"] == \"negative\")]\n",
    "bognor_attract_aspects_pos = df_attract[(df_attract[\"Town\"] == \"Bognor\") & (df_attract[\"Score\"] == \"positive\")]\n",
    "bognor_attract_aspects_neg = df_attract[(df_attract[\"Town\"] == \"Bognor\") & (df_attract[\"Score\"] == \"negative\")]\n",
    "little_attract_aspects_pos = df_attract[(df_attract[\"Town\"] == \"Littlehampton\") & (df_attract[\"Score\"] == \"positive\")]\n",
    "little_attract_aspects_neg = df_attract[(df_attract[\"Town\"] == \"Littlehampton\") & (df_attract[\"Score\"] == \"negative\")]"
   ]
  },
  {
   "cell_type": "markdown",
   "id": "d60faa4e",
   "metadata": {},
   "source": [
    "### Arundel"
   ]
  },
  {
   "cell_type": "code",
   "execution_count": 156,
   "id": "0ac95a83",
   "metadata": {},
   "outputs": [
    {
     "data": {
      "text/html": [
       "<div>\n",
       "<style scoped>\n",
       "    .dataframe tbody tr th:only-of-type {\n",
       "        vertical-align: middle;\n",
       "    }\n",
       "\n",
       "    .dataframe tbody tr th {\n",
       "        vertical-align: top;\n",
       "    }\n",
       "\n",
       "    .dataframe thead th {\n",
       "        text-align: right;\n",
       "    }\n",
       "</style>\n",
       "<table border=\"1\" class=\"dataframe\">\n",
       "  <thead>\n",
       "    <tr style=\"text-align: right;\">\n",
       "      <th></th>\n",
       "      <th>Num Pos</th>\n",
       "      <th>Num Neg</th>\n",
       "      <th>%Pos</th>\n",
       "      <th>%Neg</th>\n",
       "    </tr>\n",
       "  </thead>\n",
       "  <tbody>\n",
       "    <tr>\n",
       "      <th>BeachFac</th>\n",
       "      <td>101</td>\n",
       "      <td>14</td>\n",
       "      <td>88.0</td>\n",
       "      <td>12.0</td>\n",
       "    </tr>\n",
       "    <tr>\n",
       "      <th>FamilyExp</th>\n",
       "      <td>264</td>\n",
       "      <td>9</td>\n",
       "      <td>97.0</td>\n",
       "      <td>3.0</td>\n",
       "    </tr>\n",
       "    <tr>\n",
       "      <th>Food</th>\n",
       "      <td>153</td>\n",
       "      <td>5</td>\n",
       "      <td>97.0</td>\n",
       "      <td>3.0</td>\n",
       "    </tr>\n",
       "    <tr>\n",
       "      <th>Gardens&amp;Grounds</th>\n",
       "      <td>199</td>\n",
       "      <td>2</td>\n",
       "      <td>99.0</td>\n",
       "      <td>1.0</td>\n",
       "    </tr>\n",
       "    <tr>\n",
       "      <th>Kids&amp;PlayArea</th>\n",
       "      <td>167</td>\n",
       "      <td>17</td>\n",
       "      <td>91.0</td>\n",
       "      <td>9.0</td>\n",
       "    </tr>\n",
       "    <tr>\n",
       "      <th>Parking</th>\n",
       "      <td>50</td>\n",
       "      <td>6</td>\n",
       "      <td>89.0</td>\n",
       "      <td>11.0</td>\n",
       "    </tr>\n",
       "    <tr>\n",
       "      <th>Place</th>\n",
       "      <td>94</td>\n",
       "      <td>5</td>\n",
       "      <td>95.0</td>\n",
       "      <td>5.0</td>\n",
       "    </tr>\n",
       "    <tr>\n",
       "      <th>Shop&amp;Amenties</th>\n",
       "      <td>149</td>\n",
       "      <td>7</td>\n",
       "      <td>96.0</td>\n",
       "      <td>4.0</td>\n",
       "    </tr>\n",
       "    <tr>\n",
       "      <th>Staff</th>\n",
       "      <td>118</td>\n",
       "      <td>5</td>\n",
       "      <td>96.0</td>\n",
       "      <td>4.0</td>\n",
       "    </tr>\n",
       "    <tr>\n",
       "      <th>VFM</th>\n",
       "      <td>64</td>\n",
       "      <td>26</td>\n",
       "      <td>71.0</td>\n",
       "      <td>29.0</td>\n",
       "    </tr>\n",
       "    <tr>\n",
       "      <th>VisitExp</th>\n",
       "      <td>260</td>\n",
       "      <td>7</td>\n",
       "      <td>97.0</td>\n",
       "      <td>3.0</td>\n",
       "    </tr>\n",
       "    <tr>\n",
       "      <th>Walking</th>\n",
       "      <td>197</td>\n",
       "      <td>5</td>\n",
       "      <td>98.0</td>\n",
       "      <td>2.0</td>\n",
       "    </tr>\n",
       "  </tbody>\n",
       "</table>\n",
       "</div>"
      ],
      "text/plain": [
       "                 Num Pos  Num Neg  %Pos  %Neg\n",
       "BeachFac             101       14  88.0  12.0\n",
       "FamilyExp            264        9  97.0   3.0\n",
       "Food                 153        5  97.0   3.0\n",
       "Gardens&Grounds      199        2  99.0   1.0\n",
       "Kids&PlayArea        167       17  91.0   9.0\n",
       "Parking               50        6  89.0  11.0\n",
       "Place                 94        5  95.0   5.0\n",
       "Shop&Amenties        149        7  96.0   4.0\n",
       "Staff                118        5  96.0   4.0\n",
       "VFM                   64       26  71.0  29.0\n",
       "VisitExp             260        7  97.0   3.0\n",
       "Walking              197        5  98.0   2.0"
      ]
     },
     "execution_count": 156,
     "metadata": {},
     "output_type": "execute_result"
    }
   ],
   "source": [
    "arundel_percent_attract = aspect_perc(arundel_attract_aspects_pos,arundel_attract_aspects_neg)\n",
    "arundel_percent_attract"
   ]
  },
  {
   "cell_type": "code",
   "execution_count": 157,
   "id": "2d158893",
   "metadata": {},
   "outputs": [
    {
     "data": {
      "image/png": "[encoded data removed]",
      "text/plain": [
       "<Figure size 720x432 with 1 Axes>"
      ]
     },
     "metadata": {
      "needs_background": "light"
     },
     "output_type": "display_data"
    }
   ],
   "source": [
    "graph_sentiment_numbers(\"Attraction Aspects Arundel\",arundel_percent_attract)"
   ]
  },
  {
   "cell_type": "markdown",
   "id": "79c8fa66",
   "metadata": {},
   "source": [
    "### Bognor"
   ]
  },
  {
   "cell_type": "code",
   "execution_count": 158,
   "id": "680d4bd2",
   "metadata": {},
   "outputs": [
    {
     "data": {
      "text/html": [
       "<div>\n",
       "<style scoped>\n",
       "    .dataframe tbody tr th:only-of-type {\n",
       "        vertical-align: middle;\n",
       "    }\n",
       "\n",
       "    .dataframe tbody tr th {\n",
       "        vertical-align: top;\n",
       "    }\n",
       "\n",
       "    .dataframe thead th {\n",
       "        text-align: right;\n",
       "    }\n",
       "</style>\n",
       "<table border=\"1\" class=\"dataframe\">\n",
       "  <thead>\n",
       "    <tr style=\"text-align: right;\">\n",
       "      <th></th>\n",
       "      <th>Num Pos</th>\n",
       "      <th>Num Neg</th>\n",
       "      <th>%Pos</th>\n",
       "      <th>%Neg</th>\n",
       "    </tr>\n",
       "  </thead>\n",
       "  <tbody>\n",
       "    <tr>\n",
       "      <th>BeachFac</th>\n",
       "      <td>40</td>\n",
       "      <td>14</td>\n",
       "      <td>74.0</td>\n",
       "      <td>26.0</td>\n",
       "    </tr>\n",
       "    <tr>\n",
       "      <th>FamilyExp</th>\n",
       "      <td>144</td>\n",
       "      <td>9</td>\n",
       "      <td>94.0</td>\n",
       "      <td>6.0</td>\n",
       "    </tr>\n",
       "    <tr>\n",
       "      <th>Food</th>\n",
       "      <td>85</td>\n",
       "      <td>5</td>\n",
       "      <td>94.0</td>\n",
       "      <td>6.0</td>\n",
       "    </tr>\n",
       "    <tr>\n",
       "      <th>Gardens&amp;Grounds</th>\n",
       "      <td>16</td>\n",
       "      <td>2</td>\n",
       "      <td>89.0</td>\n",
       "      <td>11.0</td>\n",
       "    </tr>\n",
       "    <tr>\n",
       "      <th>Kids&amp;PlayArea</th>\n",
       "      <td>57</td>\n",
       "      <td>17</td>\n",
       "      <td>77.0</td>\n",
       "      <td>23.0</td>\n",
       "    </tr>\n",
       "    <tr>\n",
       "      <th>Parking</th>\n",
       "      <td>64</td>\n",
       "      <td>6</td>\n",
       "      <td>91.0</td>\n",
       "      <td>9.0</td>\n",
       "    </tr>\n",
       "    <tr>\n",
       "      <th>Place</th>\n",
       "      <td>49</td>\n",
       "      <td>5</td>\n",
       "      <td>91.0</td>\n",
       "      <td>9.0</td>\n",
       "    </tr>\n",
       "    <tr>\n",
       "      <th>Shop&amp;Amenties</th>\n",
       "      <td>47</td>\n",
       "      <td>7</td>\n",
       "      <td>87.0</td>\n",
       "      <td>13.0</td>\n",
       "    </tr>\n",
       "    <tr>\n",
       "      <th>Staff</th>\n",
       "      <td>53</td>\n",
       "      <td>5</td>\n",
       "      <td>91.0</td>\n",
       "      <td>9.0</td>\n",
       "    </tr>\n",
       "    <tr>\n",
       "      <th>VFM</th>\n",
       "      <td>120</td>\n",
       "      <td>26</td>\n",
       "      <td>82.0</td>\n",
       "      <td>18.0</td>\n",
       "    </tr>\n",
       "    <tr>\n",
       "      <th>VisitExp</th>\n",
       "      <td>83</td>\n",
       "      <td>7</td>\n",
       "      <td>92.0</td>\n",
       "      <td>8.0</td>\n",
       "    </tr>\n",
       "    <tr>\n",
       "      <th>Walking</th>\n",
       "      <td>38</td>\n",
       "      <td>5</td>\n",
       "      <td>88.0</td>\n",
       "      <td>12.0</td>\n",
       "    </tr>\n",
       "  </tbody>\n",
       "</table>\n",
       "</div>"
      ],
      "text/plain": [
       "                 Num Pos  Num Neg  %Pos  %Neg\n",
       "BeachFac              40       14  74.0  26.0\n",
       "FamilyExp            144        9  94.0   6.0\n",
       "Food                  85        5  94.0   6.0\n",
       "Gardens&Grounds       16        2  89.0  11.0\n",
       "Kids&PlayArea         57       17  77.0  23.0\n",
       "Parking               64        6  91.0   9.0\n",
       "Place                 49        5  91.0   9.0\n",
       "Shop&Amenties         47        7  87.0  13.0\n",
       "Staff                 53        5  91.0   9.0\n",
       "VFM                  120       26  82.0  18.0\n",
       "VisitExp              83        7  92.0   8.0\n",
       "Walking               38        5  88.0  12.0"
      ]
     },
     "execution_count": 158,
     "metadata": {},
     "output_type": "execute_result"
    }
   ],
   "source": [
    "bognor_percent_attract = aspect_perc(bognor_attract_aspects_pos,bognor_attract_aspects_neg)\n",
    "bognor_percent_attract"
   ]
  },
  {
   "cell_type": "code",
   "execution_count": 159,
   "id": "6091fd64",
   "metadata": {},
   "outputs": [
    {
     "data": {
      "image/png": "[encoded data removed]",
      "text/plain": [
       "<Figure size 720x432 with 1 Axes>"
      ]
     },
     "metadata": {
      "needs_background": "light"
     },
     "output_type": "display_data"
    }
   ],
   "source": [
    "graph_sentiment_numbers(\"Attraction Aspects Bognor\",bognor_percent_attract)"
   ]
  },
  {
   "cell_type": "markdown",
   "id": "cad09de4",
   "metadata": {},
   "source": [
    "### Littlehampton"
   ]
  },
  {
   "cell_type": "code",
   "execution_count": 160,
   "id": "03adcda6",
   "metadata": {},
   "outputs": [
    {
     "data": {
      "text/html": [
       "<div>\n",
       "<style scoped>\n",
       "    .dataframe tbody tr th:only-of-type {\n",
       "        vertical-align: middle;\n",
       "    }\n",
       "\n",
       "    .dataframe tbody tr th {\n",
       "        vertical-align: top;\n",
       "    }\n",
       "\n",
       "    .dataframe thead th {\n",
       "        text-align: right;\n",
       "    }\n",
       "</style>\n",
       "<table border=\"1\" class=\"dataframe\">\n",
       "  <thead>\n",
       "    <tr style=\"text-align: right;\">\n",
       "      <th></th>\n",
       "      <th>Num Pos</th>\n",
       "      <th>Num Neg</th>\n",
       "      <th>%Pos</th>\n",
       "      <th>%Neg</th>\n",
       "    </tr>\n",
       "  </thead>\n",
       "  <tbody>\n",
       "    <tr>\n",
       "      <th>BeachFac</th>\n",
       "      <td>83</td>\n",
       "      <td>4</td>\n",
       "      <td>95.0</td>\n",
       "      <td>5.0</td>\n",
       "    </tr>\n",
       "    <tr>\n",
       "      <th>FamilyExp</th>\n",
       "      <td>72</td>\n",
       "      <td>8</td>\n",
       "      <td>90.0</td>\n",
       "      <td>10.0</td>\n",
       "    </tr>\n",
       "    <tr>\n",
       "      <th>Food</th>\n",
       "      <td>48</td>\n",
       "      <td>12</td>\n",
       "      <td>80.0</td>\n",
       "      <td>20.0</td>\n",
       "    </tr>\n",
       "    <tr>\n",
       "      <th>Gardens&amp;Grounds</th>\n",
       "      <td>7</td>\n",
       "      <td>1</td>\n",
       "      <td>88.0</td>\n",
       "      <td>12.0</td>\n",
       "    </tr>\n",
       "    <tr>\n",
       "      <th>Kids&amp;PlayArea</th>\n",
       "      <td>59</td>\n",
       "      <td>5</td>\n",
       "      <td>92.0</td>\n",
       "      <td>8.0</td>\n",
       "    </tr>\n",
       "    <tr>\n",
       "      <th>Parking</th>\n",
       "      <td>17</td>\n",
       "      <td>4</td>\n",
       "      <td>81.0</td>\n",
       "      <td>19.0</td>\n",
       "    </tr>\n",
       "    <tr>\n",
       "      <th>Place</th>\n",
       "      <td>25</td>\n",
       "      <td>3</td>\n",
       "      <td>89.0</td>\n",
       "      <td>11.0</td>\n",
       "    </tr>\n",
       "    <tr>\n",
       "      <th>Shop&amp;Amenties</th>\n",
       "      <td>35</td>\n",
       "      <td>7</td>\n",
       "      <td>83.0</td>\n",
       "      <td>17.0</td>\n",
       "    </tr>\n",
       "    <tr>\n",
       "      <th>Staff</th>\n",
       "      <td>39</td>\n",
       "      <td>6</td>\n",
       "      <td>87.0</td>\n",
       "      <td>13.0</td>\n",
       "    </tr>\n",
       "    <tr>\n",
       "      <th>VFM</th>\n",
       "      <td>38</td>\n",
       "      <td>9</td>\n",
       "      <td>81.0</td>\n",
       "      <td>19.0</td>\n",
       "    </tr>\n",
       "    <tr>\n",
       "      <th>VisitExp</th>\n",
       "      <td>53</td>\n",
       "      <td>13</td>\n",
       "      <td>80.0</td>\n",
       "      <td>20.0</td>\n",
       "    </tr>\n",
       "    <tr>\n",
       "      <th>Walking</th>\n",
       "      <td>44</td>\n",
       "      <td>2</td>\n",
       "      <td>96.0</td>\n",
       "      <td>4.0</td>\n",
       "    </tr>\n",
       "  </tbody>\n",
       "</table>\n",
       "</div>"
      ],
      "text/plain": [
       "                 Num Pos  Num Neg  %Pos  %Neg\n",
       "BeachFac              83        4  95.0   5.0\n",
       "FamilyExp             72        8  90.0  10.0\n",
       "Food                  48       12  80.0  20.0\n",
       "Gardens&Grounds        7        1  88.0  12.0\n",
       "Kids&PlayArea         59        5  92.0   8.0\n",
       "Parking               17        4  81.0  19.0\n",
       "Place                 25        3  89.0  11.0\n",
       "Shop&Amenties         35        7  83.0  17.0\n",
       "Staff                 39        6  87.0  13.0\n",
       "VFM                   38        9  81.0  19.0\n",
       "VisitExp              53       13  80.0  20.0\n",
       "Walking               44        2  96.0   4.0"
      ]
     },
     "execution_count": 160,
     "metadata": {},
     "output_type": "execute_result"
    }
   ],
   "source": [
    "little_percent_attract = aspect_perc(little_attract_aspects_pos,little_attract_aspects_neg)\n",
    "little_percent_attract"
   ]
  },
  {
   "cell_type": "code",
   "execution_count": 161,
   "id": "687302aa",
   "metadata": {},
   "outputs": [
    {
     "data": {
      "image/png": "[encoded data removed]",
      "text/plain": [
       "<Figure size 720x432 with 1 Axes>"
      ]
     },
     "metadata": {
      "needs_background": "light"
     },
     "output_type": "display_data"
    }
   ],
   "source": [
    "graph_sentiment_numbers(\"Attraction Aspects Littlehampton\",little_percent_attract)"
   ]
  },
  {
   "cell_type": "markdown",
   "id": "e9de8b59",
   "metadata": {},
   "source": [
    "# Section 4: Sentiment Scores across categories"
   ]
  },
  {
   "cell_type": "markdown",
   "id": "65c7cff2",
   "metadata": {},
   "source": [
    "Across the district, what aspects were people most positive about?"
   ]
  },
  {
   "cell_type": "markdown",
   "id": "981538e2",
   "metadata": {},
   "source": [
    "## Accommodation"
   ]
  },
  {
   "cell_type": "code",
   "execution_count": 162,
   "id": "da63a9d0",
   "metadata": {},
   "outputs": [
    {
     "data": {
      "text/html": [
       "<div>\n",
       "<style scoped>\n",
       "    .dataframe tbody tr th:only-of-type {\n",
       "        vertical-align: middle;\n",
       "    }\n",
       "\n",
       "    .dataframe tbody tr th {\n",
       "        vertical-align: top;\n",
       "    }\n",
       "\n",
       "    .dataframe thead th {\n",
       "        text-align: right;\n",
       "    }\n",
       "</style>\n",
       "<table border=\"1\" class=\"dataframe\">\n",
       "  <thead>\n",
       "    <tr style=\"text-align: right;\">\n",
       "      <th></th>\n",
       "      <th>Topic Count</th>\n",
       "      <th>Sentiment</th>\n",
       "    </tr>\n",
       "  </thead>\n",
       "  <tbody>\n",
       "    <tr>\n",
       "      <th>2</th>\n",
       "      <td>Food</td>\n",
       "      <td>0.438635</td>\n",
       "    </tr>\n",
       "    <tr>\n",
       "      <th>1</th>\n",
       "      <td>FamilyExp</td>\n",
       "      <td>0.435185</td>\n",
       "    </tr>\n",
       "    <tr>\n",
       "      <th>3</th>\n",
       "      <td>Hotel Location</td>\n",
       "      <td>0.424734</td>\n",
       "    </tr>\n",
       "    <tr>\n",
       "      <th>4</th>\n",
       "      <td>HotelGen</td>\n",
       "      <td>0.416914</td>\n",
       "    </tr>\n",
       "    <tr>\n",
       "      <th>12</th>\n",
       "      <td>Service&amp;Staff</td>\n",
       "      <td>0.415473</td>\n",
       "    </tr>\n",
       "    <tr>\n",
       "      <th>11</th>\n",
       "      <td>RoomFac</td>\n",
       "      <td>0.404663</td>\n",
       "    </tr>\n",
       "    <tr>\n",
       "      <th>13</th>\n",
       "      <td>VFM</td>\n",
       "      <td>0.370602</td>\n",
       "    </tr>\n",
       "    <tr>\n",
       "      <th>10</th>\n",
       "      <td>RoomComf</td>\n",
       "      <td>0.365584</td>\n",
       "    </tr>\n",
       "    <tr>\n",
       "      <th>8</th>\n",
       "      <td>Room</td>\n",
       "      <td>0.352190</td>\n",
       "    </tr>\n",
       "    <tr>\n",
       "      <th>0</th>\n",
       "      <td>CustServ</td>\n",
       "      <td>0.338264</td>\n",
       "    </tr>\n",
       "    <tr>\n",
       "      <th>5</th>\n",
       "      <td>Leisure</td>\n",
       "      <td>0.331314</td>\n",
       "    </tr>\n",
       "    <tr>\n",
       "      <th>6</th>\n",
       "      <td>MealExp</td>\n",
       "      <td>0.298729</td>\n",
       "    </tr>\n",
       "    <tr>\n",
       "      <th>9</th>\n",
       "      <td>Room Location</td>\n",
       "      <td>0.266816</td>\n",
       "    </tr>\n",
       "    <tr>\n",
       "      <th>7</th>\n",
       "      <td>Parking&amp;Fac</td>\n",
       "      <td>0.198350</td>\n",
       "    </tr>\n",
       "  </tbody>\n",
       "</table>\n",
       "</div>"
      ],
      "text/plain": [
       "       Topic Count  Sentiment\n",
       "2             Food   0.438635\n",
       "1        FamilyExp   0.435185\n",
       "3   Hotel Location   0.424734\n",
       "4         HotelGen   0.416914\n",
       "12   Service&Staff   0.415473\n",
       "11         RoomFac   0.404663\n",
       "13             VFM   0.370602\n",
       "10        RoomComf   0.365584\n",
       "8             Room   0.352190\n",
       "0         CustServ   0.338264\n",
       "5          Leisure   0.331314\n",
       "6          MealExp   0.298729\n",
       "9    Room Location   0.266816\n",
       "7      Parking&Fac   0.198350"
      ]
     },
     "execution_count": 162,
     "metadata": {},
     "output_type": "execute_result"
    }
   ],
   "source": [
    "accom_summary = df_accom[df_accom[\"Sentiment\"]!=0].groupby(\"Topic Count\",as_index = False)[\"Sentiment\"].mean()\n",
    "accom_summary = accom_summary.sort_values(by = \"Sentiment\",ascending = False)\n",
    "accom_summary"
   ]
  },
  {
   "cell_type": "code",
   "execution_count": 163,
   "id": "29a0b168",
   "metadata": {},
   "outputs": [],
   "source": [
    "def plot_sent_score(df,name,name2):\n",
    "    \n",
    "    labels = list(df[\"Topic Count\"])\n",
    "    sent = list(df[\"Sentiment\"])\n",
    "  \n",
    "    x = np.arange(len(labels))  # the label locations\n",
    "    width = 0.35  # the width of the bars\n",
    "\n",
    "    fig, ax = plt.subplots(figsize = (10,7))\n",
    "    ax.barh(x, sent, width, label='Sentiment Score',color = \"lightsteelblue\",ec = \"grey\")\n",
    "    \n",
    "    # Add some text for labels, title and custom x-axis tick labels, etc.\n",
    "    ax.set_title(name + \" - Mean Sentiment Score \" + name2)\n",
    "    ax.set_yticks(x)\n",
    "    ax.set_yticklabels(labels)\n",
    "    ax.set_xlabel(\"Mean Sentiment Score\",labelpad = 15)\n",
    "    ax.spines['right'].set_visible(False)\n",
    "    ax.spines['top'].set_visible(False)\n",
    "    ax.legend(frameon = False, loc = \"best\")\n",
    "    ax.invert_yaxis()\n",
    "\n",
    "    fig.tight_layout()\n",
    "\n",
    "    plt.show()"
   ]
  },
  {
   "cell_type": "code",
   "execution_count": 164,
   "id": "b2654c24",
   "metadata": {},
   "outputs": [
    {
     "data": {
      "image/png": "[encoded data removed]",
      "text/plain": [
       "<Figure size 720x504 with 1 Axes>"
      ]
     },
     "metadata": {
      "needs_background": "light"
     },
     "output_type": "display_data"
    }
   ],
   "source": [
    "plot_sent_score(accom_summary,\"Accommodation \",\"Arun District\")"
   ]
  },
  {
   "cell_type": "code",
   "execution_count": 165,
   "id": "5f8e36a6",
   "metadata": {},
   "outputs": [
    {
     "data": {
      "text/html": [
       "<div>\n",
       "<style scoped>\n",
       "    .dataframe tbody tr th:only-of-type {\n",
       "        vertical-align: middle;\n",
       "    }\n",
       "\n",
       "    .dataframe tbody tr th {\n",
       "        vertical-align: top;\n",
       "    }\n",
       "\n",
       "    .dataframe thead th {\n",
       "        text-align: right;\n",
       "    }\n",
       "</style>\n",
       "<table border=\"1\" class=\"dataframe\">\n",
       "  <thead>\n",
       "    <tr style=\"text-align: right;\">\n",
       "      <th></th>\n",
       "      <th>Topic Count</th>\n",
       "      <th>Sentiment</th>\n",
       "    </tr>\n",
       "  </thead>\n",
       "  <tbody>\n",
       "    <tr>\n",
       "      <th>10</th>\n",
       "      <td>VFM</td>\n",
       "      <td>0.540675</td>\n",
       "    </tr>\n",
       "    <tr>\n",
       "      <th>2</th>\n",
       "      <td>FoodGen</td>\n",
       "      <td>0.446249</td>\n",
       "    </tr>\n",
       "    <tr>\n",
       "      <th>1</th>\n",
       "      <td>Choice</td>\n",
       "      <td>0.428766</td>\n",
       "    </tr>\n",
       "    <tr>\n",
       "      <th>9</th>\n",
       "      <td>StaffGen</td>\n",
       "      <td>0.424771</td>\n",
       "    </tr>\n",
       "    <tr>\n",
       "      <th>8</th>\n",
       "      <td>Service</td>\n",
       "      <td>0.422962</td>\n",
       "    </tr>\n",
       "    <tr>\n",
       "      <th>5</th>\n",
       "      <td>Menu</td>\n",
       "      <td>0.421966</td>\n",
       "    </tr>\n",
       "    <tr>\n",
       "      <th>6</th>\n",
       "      <td>Ordering</td>\n",
       "      <td>0.420272</td>\n",
       "    </tr>\n",
       "    <tr>\n",
       "      <th>4</th>\n",
       "      <td>MealExp</td>\n",
       "      <td>0.410281</td>\n",
       "    </tr>\n",
       "    <tr>\n",
       "      <th>7</th>\n",
       "      <td>Quality</td>\n",
       "      <td>0.402397</td>\n",
       "    </tr>\n",
       "    <tr>\n",
       "      <th>3</th>\n",
       "      <td>FoodPort</td>\n",
       "      <td>0.391006</td>\n",
       "    </tr>\n",
       "    <tr>\n",
       "      <th>11</th>\n",
       "      <td>VisitExp</td>\n",
       "      <td>0.329130</td>\n",
       "    </tr>\n",
       "    <tr>\n",
       "      <th>0</th>\n",
       "      <td>Booking&amp;Table</td>\n",
       "      <td>0.323799</td>\n",
       "    </tr>\n",
       "  </tbody>\n",
       "</table>\n",
       "</div>"
      ],
      "text/plain": [
       "      Topic Count  Sentiment\n",
       "10            VFM   0.540675\n",
       "2         FoodGen   0.446249\n",
       "1          Choice   0.428766\n",
       "9        StaffGen   0.424771\n",
       "8         Service   0.422962\n",
       "5            Menu   0.421966\n",
       "6        Ordering   0.420272\n",
       "4         MealExp   0.410281\n",
       "7         Quality   0.402397\n",
       "3        FoodPort   0.391006\n",
       "11       VisitExp   0.329130\n",
       "0   Booking&Table   0.323799"
      ]
     },
     "execution_count": 165,
     "metadata": {},
     "output_type": "execute_result"
    }
   ],
   "source": [
    "food_summary = df_food[df_food[\"Sentiment\"]!=0].groupby(\"Topic Count\",as_index = False)[\"Sentiment\"].mean()\n",
    "food_summary = food_summary.sort_values(by = \"Sentiment\",ascending = False)\n",
    "food_summary"
   ]
  },
  {
   "cell_type": "code",
   "execution_count": 166,
   "id": "624326c2",
   "metadata": {},
   "outputs": [
    {
     "data": {
      "image/png": "[encoded data removed]",
      "text/plain": [
       "<Figure size 720x504 with 1 Axes>"
      ]
     },
     "metadata": {
      "needs_background": "light"
     },
     "output_type": "display_data"
    }
   ],
   "source": [
    "plot_sent_score(food_summary,\"Food \",\"Arun District\")"
   ]
  },
  {
   "cell_type": "code",
   "execution_count": 167,
   "id": "71fed447",
   "metadata": {},
   "outputs": [
    {
     "data": {
      "text/html": [
       "<div>\n",
       "<style scoped>\n",
       "    .dataframe tbody tr th:only-of-type {\n",
       "        vertical-align: middle;\n",
       "    }\n",
       "\n",
       "    .dataframe tbody tr th {\n",
       "        vertical-align: top;\n",
       "    }\n",
       "\n",
       "    .dataframe thead th {\n",
       "        text-align: right;\n",
       "    }\n",
       "</style>\n",
       "<table border=\"1\" class=\"dataframe\">\n",
       "  <thead>\n",
       "    <tr style=\"text-align: right;\">\n",
       "      <th></th>\n",
       "      <th>Topic Count</th>\n",
       "      <th>Sentiment</th>\n",
       "    </tr>\n",
       "  </thead>\n",
       "  <tbody>\n",
       "    <tr>\n",
       "      <th>3</th>\n",
       "      <td>Gardens&amp;Grounds</td>\n",
       "      <td>0.496514</td>\n",
       "    </tr>\n",
       "    <tr>\n",
       "      <th>11</th>\n",
       "      <td>Walking</td>\n",
       "      <td>0.479119</td>\n",
       "    </tr>\n",
       "    <tr>\n",
       "      <th>1</th>\n",
       "      <td>FamilyExp</td>\n",
       "      <td>0.472791</td>\n",
       "    </tr>\n",
       "    <tr>\n",
       "      <th>6</th>\n",
       "      <td>Place</td>\n",
       "      <td>0.467246</td>\n",
       "    </tr>\n",
       "    <tr>\n",
       "      <th>8</th>\n",
       "      <td>Staff</td>\n",
       "      <td>0.458141</td>\n",
       "    </tr>\n",
       "    <tr>\n",
       "      <th>7</th>\n",
       "      <td>Shop&amp;Amenties</td>\n",
       "      <td>0.448306</td>\n",
       "    </tr>\n",
       "    <tr>\n",
       "      <th>0</th>\n",
       "      <td>BeachFac</td>\n",
       "      <td>0.427939</td>\n",
       "    </tr>\n",
       "    <tr>\n",
       "      <th>9</th>\n",
       "      <td>VFM</td>\n",
       "      <td>0.411248</td>\n",
       "    </tr>\n",
       "    <tr>\n",
       "      <th>5</th>\n",
       "      <td>Parking</td>\n",
       "      <td>0.403346</td>\n",
       "    </tr>\n",
       "    <tr>\n",
       "      <th>2</th>\n",
       "      <td>Food</td>\n",
       "      <td>0.400696</td>\n",
       "    </tr>\n",
       "    <tr>\n",
       "      <th>10</th>\n",
       "      <td>VisitExp</td>\n",
       "      <td>0.359177</td>\n",
       "    </tr>\n",
       "    <tr>\n",
       "      <th>4</th>\n",
       "      <td>Kids&amp;PlayArea</td>\n",
       "      <td>0.329826</td>\n",
       "    </tr>\n",
       "  </tbody>\n",
       "</table>\n",
       "</div>"
      ],
      "text/plain": [
       "        Topic Count  Sentiment\n",
       "3   Gardens&Grounds   0.496514\n",
       "11          Walking   0.479119\n",
       "1         FamilyExp   0.472791\n",
       "6             Place   0.467246\n",
       "8             Staff   0.458141\n",
       "7     Shop&Amenties   0.448306\n",
       "0          BeachFac   0.427939\n",
       "9               VFM   0.411248\n",
       "5           Parking   0.403346\n",
       "2              Food   0.400696\n",
       "10         VisitExp   0.359177\n",
       "4     Kids&PlayArea   0.329826"
      ]
     },
     "execution_count": 167,
     "metadata": {},
     "output_type": "execute_result"
    }
   ],
   "source": [
    "attract_summary = df_attract[df_attract[\"Sentiment\"]!=0].groupby(\"Topic Count\",as_index = False)[\"Sentiment\"].mean()\n",
    "attract_summary = attract_summary.sort_values(by = \"Sentiment\",ascending = False)\n",
    "attract_summary"
   ]
  },
  {
   "cell_type": "code",
   "execution_count": 168,
   "id": "de093d72",
   "metadata": {},
   "outputs": [
    {
     "data": {
      "image/png": "[encoded data removed]",
      "text/plain": [
       "<Figure size 720x504 with 1 Axes>"
      ]
     },
     "metadata": {
      "needs_background": "light"
     },
     "output_type": "display_data"
    }
   ],
   "source": [
    "plot_sent_score(attract_summary,\"Attractions \",\"Arun District\")"
   ]
  },
  {
   "cell_type": "markdown",
   "id": "df7e84c0",
   "metadata": {},
   "source": [
    "# Section 5: Mean Sentiment Score Analysis By Town"
   ]
  },
  {
   "cell_type": "markdown",
   "id": "1b24c97c",
   "metadata": {},
   "source": [
    "## Accommodation"
   ]
  },
  {
   "cell_type": "code",
   "execution_count": 169,
   "id": "e295f6f3",
   "metadata": {},
   "outputs": [],
   "source": [
    "towns_accom = df_accom.groupby([\"Topic Count\",\"Town\"],as_index = False)[\"Sentiment\"].mean()\n",
    "arundel_accom = towns_accom[towns_accom[\"Town\"] == \"Arundel\"]\n",
    "bognor_accom = towns_accom[towns_accom[\"Town\"] == \"Bognor\"]\n",
    "little_accom = towns_accom[towns_accom[\"Town\"] == \"Littlehampton\"]"
   ]
  },
  {
   "cell_type": "markdown",
   "id": "01d92044",
   "metadata": {},
   "source": [
    "### Arundel"
   ]
  },
  {
   "cell_type": "code",
   "execution_count": 170,
   "id": "00b4cebc",
   "metadata": {},
   "outputs": [
    {
     "data": {
      "text/html": [
       "<div>\n",
       "<style scoped>\n",
       "    .dataframe tbody tr th:only-of-type {\n",
       "        vertical-align: middle;\n",
       "    }\n",
       "\n",
       "    .dataframe tbody tr th {\n",
       "        vertical-align: top;\n",
       "    }\n",
       "\n",
       "    .dataframe thead th {\n",
       "        text-align: right;\n",
       "    }\n",
       "</style>\n",
       "<table border=\"1\" class=\"dataframe\">\n",
       "  <thead>\n",
       "    <tr style=\"text-align: right;\">\n",
       "      <th></th>\n",
       "      <th>Topic Count</th>\n",
       "      <th>Town</th>\n",
       "      <th>Sentiment</th>\n",
       "    </tr>\n",
       "  </thead>\n",
       "  <tbody>\n",
       "    <tr>\n",
       "      <th>36</th>\n",
       "      <td>Service&amp;Staff</td>\n",
       "      <td>Arundel</td>\n",
       "      <td>0.311273</td>\n",
       "    </tr>\n",
       "    <tr>\n",
       "      <th>39</th>\n",
       "      <td>VFM</td>\n",
       "      <td>Arundel</td>\n",
       "      <td>0.297710</td>\n",
       "    </tr>\n",
       "    <tr>\n",
       "      <th>6</th>\n",
       "      <td>Food</td>\n",
       "      <td>Arundel</td>\n",
       "      <td>0.253035</td>\n",
       "    </tr>\n",
       "    <tr>\n",
       "      <th>9</th>\n",
       "      <td>Hotel Location</td>\n",
       "      <td>Arundel</td>\n",
       "      <td>0.223206</td>\n",
       "    </tr>\n",
       "    <tr>\n",
       "      <th>3</th>\n",
       "      <td>FamilyExp</td>\n",
       "      <td>Arundel</td>\n",
       "      <td>0.208036</td>\n",
       "    </tr>\n",
       "    <tr>\n",
       "      <th>30</th>\n",
       "      <td>RoomComf</td>\n",
       "      <td>Arundel</td>\n",
       "      <td>0.197363</td>\n",
       "    </tr>\n",
       "    <tr>\n",
       "      <th>0</th>\n",
       "      <td>CustServ</td>\n",
       "      <td>Arundel</td>\n",
       "      <td>0.192557</td>\n",
       "    </tr>\n",
       "    <tr>\n",
       "      <th>24</th>\n",
       "      <td>Room</td>\n",
       "      <td>Arundel</td>\n",
       "      <td>0.192160</td>\n",
       "    </tr>\n",
       "    <tr>\n",
       "      <th>12</th>\n",
       "      <td>HotelGen</td>\n",
       "      <td>Arundel</td>\n",
       "      <td>0.183317</td>\n",
       "    </tr>\n",
       "    <tr>\n",
       "      <th>33</th>\n",
       "      <td>RoomFac</td>\n",
       "      <td>Arundel</td>\n",
       "      <td>0.146265</td>\n",
       "    </tr>\n",
       "    <tr>\n",
       "      <th>27</th>\n",
       "      <td>Room Location</td>\n",
       "      <td>Arundel</td>\n",
       "      <td>0.114367</td>\n",
       "    </tr>\n",
       "    <tr>\n",
       "      <th>15</th>\n",
       "      <td>Leisure</td>\n",
       "      <td>Arundel</td>\n",
       "      <td>0.114059</td>\n",
       "    </tr>\n",
       "    <tr>\n",
       "      <th>18</th>\n",
       "      <td>MealExp</td>\n",
       "      <td>Arundel</td>\n",
       "      <td>0.112040</td>\n",
       "    </tr>\n",
       "    <tr>\n",
       "      <th>21</th>\n",
       "      <td>Parking&amp;Fac</td>\n",
       "      <td>Arundel</td>\n",
       "      <td>0.021470</td>\n",
       "    </tr>\n",
       "  </tbody>\n",
       "</table>\n",
       "</div>"
      ],
      "text/plain": [
       "       Topic Count     Town  Sentiment\n",
       "36   Service&Staff  Arundel   0.311273\n",
       "39             VFM  Arundel   0.297710\n",
       "6             Food  Arundel   0.253035\n",
       "9   Hotel Location  Arundel   0.223206\n",
       "3        FamilyExp  Arundel   0.208036\n",
       "30        RoomComf  Arundel   0.197363\n",
       "0         CustServ  Arundel   0.192557\n",
       "24            Room  Arundel   0.192160\n",
       "12        HotelGen  Arundel   0.183317\n",
       "33         RoomFac  Arundel   0.146265\n",
       "27   Room Location  Arundel   0.114367\n",
       "15         Leisure  Arundel   0.114059\n",
       "18         MealExp  Arundel   0.112040\n",
       "21     Parking&Fac  Arundel   0.021470"
      ]
     },
     "execution_count": 170,
     "metadata": {},
     "output_type": "execute_result"
    }
   ],
   "source": [
    "arundel_accom = arundel_accom.sort_values(by = \"Sentiment\",ascending = False)\n",
    "arundel_accom"
   ]
  },
  {
   "cell_type": "code",
   "execution_count": 171,
   "id": "4abcfaea",
   "metadata": {},
   "outputs": [
    {
     "data": {
      "image/png": "[encoded data removed]",
      "text/plain": [
       "<Figure size 720x504 with 1 Axes>"
      ]
     },
     "metadata": {
      "needs_background": "light"
     },
     "output_type": "display_data"
    }
   ],
   "source": [
    "plot_sent_score(arundel_accom,\"Accommodation \",\"Arundel\")"
   ]
  },
  {
   "cell_type": "markdown",
   "id": "649f5d23",
   "metadata": {},
   "source": [
    "### Bognor"
   ]
  },
  {
   "cell_type": "code",
   "execution_count": 172,
   "id": "1bfeaff8",
   "metadata": {},
   "outputs": [
    {
     "data": {
      "text/html": [
       "<div>\n",
       "<style scoped>\n",
       "    .dataframe tbody tr th:only-of-type {\n",
       "        vertical-align: middle;\n",
       "    }\n",
       "\n",
       "    .dataframe tbody tr th {\n",
       "        vertical-align: top;\n",
       "    }\n",
       "\n",
       "    .dataframe thead th {\n",
       "        text-align: right;\n",
       "    }\n",
       "</style>\n",
       "<table border=\"1\" class=\"dataframe\">\n",
       "  <thead>\n",
       "    <tr style=\"text-align: right;\">\n",
       "      <th></th>\n",
       "      <th>Topic Count</th>\n",
       "      <th>Town</th>\n",
       "      <th>Sentiment</th>\n",
       "    </tr>\n",
       "  </thead>\n",
       "  <tbody>\n",
       "    <tr>\n",
       "      <th>37</th>\n",
       "      <td>Service&amp;Staff</td>\n",
       "      <td>Bognor</td>\n",
       "      <td>0.228573</td>\n",
       "    </tr>\n",
       "    <tr>\n",
       "      <th>7</th>\n",
       "      <td>Food</td>\n",
       "      <td>Bognor</td>\n",
       "      <td>0.213183</td>\n",
       "    </tr>\n",
       "    <tr>\n",
       "      <th>4</th>\n",
       "      <td>FamilyExp</td>\n",
       "      <td>Bognor</td>\n",
       "      <td>0.202950</td>\n",
       "    </tr>\n",
       "    <tr>\n",
       "      <th>34</th>\n",
       "      <td>RoomFac</td>\n",
       "      <td>Bognor</td>\n",
       "      <td>0.184563</td>\n",
       "    </tr>\n",
       "    <tr>\n",
       "      <th>31</th>\n",
       "      <td>RoomComf</td>\n",
       "      <td>Bognor</td>\n",
       "      <td>0.174106</td>\n",
       "    </tr>\n",
       "    <tr>\n",
       "      <th>40</th>\n",
       "      <td>VFM</td>\n",
       "      <td>Bognor</td>\n",
       "      <td>0.162288</td>\n",
       "    </tr>\n",
       "    <tr>\n",
       "      <th>1</th>\n",
       "      <td>CustServ</td>\n",
       "      <td>Bognor</td>\n",
       "      <td>0.155952</td>\n",
       "    </tr>\n",
       "    <tr>\n",
       "      <th>10</th>\n",
       "      <td>Hotel Location</td>\n",
       "      <td>Bognor</td>\n",
       "      <td>0.145428</td>\n",
       "    </tr>\n",
       "    <tr>\n",
       "      <th>25</th>\n",
       "      <td>Room</td>\n",
       "      <td>Bognor</td>\n",
       "      <td>0.133154</td>\n",
       "    </tr>\n",
       "    <tr>\n",
       "      <th>13</th>\n",
       "      <td>HotelGen</td>\n",
       "      <td>Bognor</td>\n",
       "      <td>0.111161</td>\n",
       "    </tr>\n",
       "    <tr>\n",
       "      <th>19</th>\n",
       "      <td>MealExp</td>\n",
       "      <td>Bognor</td>\n",
       "      <td>0.102799</td>\n",
       "    </tr>\n",
       "    <tr>\n",
       "      <th>16</th>\n",
       "      <td>Leisure</td>\n",
       "      <td>Bognor</td>\n",
       "      <td>0.098824</td>\n",
       "    </tr>\n",
       "    <tr>\n",
       "      <th>28</th>\n",
       "      <td>Room Location</td>\n",
       "      <td>Bognor</td>\n",
       "      <td>0.078500</td>\n",
       "    </tr>\n",
       "    <tr>\n",
       "      <th>22</th>\n",
       "      <td>Parking&amp;Fac</td>\n",
       "      <td>Bognor</td>\n",
       "      <td>0.059866</td>\n",
       "    </tr>\n",
       "  </tbody>\n",
       "</table>\n",
       "</div>"
      ],
      "text/plain": [
       "       Topic Count    Town  Sentiment\n",
       "37   Service&Staff  Bognor   0.228573\n",
       "7             Food  Bognor   0.213183\n",
       "4        FamilyExp  Bognor   0.202950\n",
       "34         RoomFac  Bognor   0.184563\n",
       "31        RoomComf  Bognor   0.174106\n",
       "40             VFM  Bognor   0.162288\n",
       "1         CustServ  Bognor   0.155952\n",
       "10  Hotel Location  Bognor   0.145428\n",
       "25            Room  Bognor   0.133154\n",
       "13        HotelGen  Bognor   0.111161\n",
       "19         MealExp  Bognor   0.102799\n",
       "16         Leisure  Bognor   0.098824\n",
       "28   Room Location  Bognor   0.078500\n",
       "22     Parking&Fac  Bognor   0.059866"
      ]
     },
     "execution_count": 172,
     "metadata": {},
     "output_type": "execute_result"
    }
   ],
   "source": [
    "bognor_accom = bognor_accom.sort_values(by = \"Sentiment\",ascending = False)\n",
    "bognor_accom"
   ]
  },
  {
   "cell_type": "code",
   "execution_count": 173,
   "id": "b32b00b9",
   "metadata": {},
   "outputs": [
    {
     "data": {
      "image/png": "[encoded data removed]",
      "text/plain": [
       "<Figure size 720x504 with 1 Axes>"
      ]
     },
     "metadata": {
      "needs_background": "light"
     },
     "output_type": "display_data"
    }
   ],
   "source": [
    "plot_sent_score(bognor_accom,\"Accommodation \",\"Bognor\")"
   ]
  },
  {
   "cell_type": "markdown",
   "id": "4e4fba7a",
   "metadata": {},
   "source": [
    "### Littlehampton"
   ]
  },
  {
   "cell_type": "code",
   "execution_count": 174,
   "id": "bec54dd2",
   "metadata": {},
   "outputs": [
    {
     "data": {
      "text/html": [
       "<div>\n",
       "<style scoped>\n",
       "    .dataframe tbody tr th:only-of-type {\n",
       "        vertical-align: middle;\n",
       "    }\n",
       "\n",
       "    .dataframe tbody tr th {\n",
       "        vertical-align: top;\n",
       "    }\n",
       "\n",
       "    .dataframe thead th {\n",
       "        text-align: right;\n",
       "    }\n",
       "</style>\n",
       "<table border=\"1\" class=\"dataframe\">\n",
       "  <thead>\n",
       "    <tr style=\"text-align: right;\">\n",
       "      <th></th>\n",
       "      <th>Topic Count</th>\n",
       "      <th>Town</th>\n",
       "      <th>Sentiment</th>\n",
       "    </tr>\n",
       "  </thead>\n",
       "  <tbody>\n",
       "    <tr>\n",
       "      <th>38</th>\n",
       "      <td>Service&amp;Staff</td>\n",
       "      <td>Littlehampton</td>\n",
       "      <td>0.274340</td>\n",
       "    </tr>\n",
       "    <tr>\n",
       "      <th>8</th>\n",
       "      <td>Food</td>\n",
       "      <td>Littlehampton</td>\n",
       "      <td>0.239644</td>\n",
       "    </tr>\n",
       "    <tr>\n",
       "      <th>5</th>\n",
       "      <td>FamilyExp</td>\n",
       "      <td>Littlehampton</td>\n",
       "      <td>0.238921</td>\n",
       "    </tr>\n",
       "    <tr>\n",
       "      <th>41</th>\n",
       "      <td>VFM</td>\n",
       "      <td>Littlehampton</td>\n",
       "      <td>0.219180</td>\n",
       "    </tr>\n",
       "    <tr>\n",
       "      <th>14</th>\n",
       "      <td>HotelGen</td>\n",
       "      <td>Littlehampton</td>\n",
       "      <td>0.211793</td>\n",
       "    </tr>\n",
       "    <tr>\n",
       "      <th>32</th>\n",
       "      <td>RoomComf</td>\n",
       "      <td>Littlehampton</td>\n",
       "      <td>0.207007</td>\n",
       "    </tr>\n",
       "    <tr>\n",
       "      <th>11</th>\n",
       "      <td>Hotel Location</td>\n",
       "      <td>Littlehampton</td>\n",
       "      <td>0.188868</td>\n",
       "    </tr>\n",
       "    <tr>\n",
       "      <th>35</th>\n",
       "      <td>RoomFac</td>\n",
       "      <td>Littlehampton</td>\n",
       "      <td>0.175477</td>\n",
       "    </tr>\n",
       "    <tr>\n",
       "      <th>2</th>\n",
       "      <td>CustServ</td>\n",
       "      <td>Littlehampton</td>\n",
       "      <td>0.174222</td>\n",
       "    </tr>\n",
       "    <tr>\n",
       "      <th>26</th>\n",
       "      <td>Room</td>\n",
       "      <td>Littlehampton</td>\n",
       "      <td>0.173105</td>\n",
       "    </tr>\n",
       "    <tr>\n",
       "      <th>17</th>\n",
       "      <td>Leisure</td>\n",
       "      <td>Littlehampton</td>\n",
       "      <td>0.148140</td>\n",
       "    </tr>\n",
       "    <tr>\n",
       "      <th>29</th>\n",
       "      <td>Room Location</td>\n",
       "      <td>Littlehampton</td>\n",
       "      <td>0.116208</td>\n",
       "    </tr>\n",
       "    <tr>\n",
       "      <th>20</th>\n",
       "      <td>MealExp</td>\n",
       "      <td>Littlehampton</td>\n",
       "      <td>0.111199</td>\n",
       "    </tr>\n",
       "    <tr>\n",
       "      <th>23</th>\n",
       "      <td>Parking&amp;Fac</td>\n",
       "      <td>Littlehampton</td>\n",
       "      <td>0.098890</td>\n",
       "    </tr>\n",
       "  </tbody>\n",
       "</table>\n",
       "</div>"
      ],
      "text/plain": [
       "       Topic Count           Town  Sentiment\n",
       "38   Service&Staff  Littlehampton   0.274340\n",
       "8             Food  Littlehampton   0.239644\n",
       "5        FamilyExp  Littlehampton   0.238921\n",
       "41             VFM  Littlehampton   0.219180\n",
       "14        HotelGen  Littlehampton   0.211793\n",
       "32        RoomComf  Littlehampton   0.207007\n",
       "11  Hotel Location  Littlehampton   0.188868\n",
       "35         RoomFac  Littlehampton   0.175477\n",
       "2         CustServ  Littlehampton   0.174222\n",
       "26            Room  Littlehampton   0.173105\n",
       "17         Leisure  Littlehampton   0.148140\n",
       "29   Room Location  Littlehampton   0.116208\n",
       "20         MealExp  Littlehampton   0.111199\n",
       "23     Parking&Fac  Littlehampton   0.098890"
      ]
     },
     "execution_count": 174,
     "metadata": {},
     "output_type": "execute_result"
    }
   ],
   "source": [
    "little_accom = little_accom.sort_values(by = \"Sentiment\",ascending = False)\n",
    "little_accom"
   ]
  },
  {
   "cell_type": "code",
   "execution_count": 175,
   "id": "0dff8c00",
   "metadata": {},
   "outputs": [
    {
     "data": {
      "image/png": "[encoded data removed]",
      "text/plain": [
       "<Figure size 720x504 with 1 Axes>"
      ]
     },
     "metadata": {
      "needs_background": "light"
     },
     "output_type": "display_data"
    }
   ],
   "source": [
    "plot_sent_score(little_accom,\"Accommodation \",\"Littlehampton\")"
   ]
  },
  {
   "cell_type": "markdown",
   "id": "ed719dbf",
   "metadata": {},
   "source": [
    "## Food"
   ]
  },
  {
   "cell_type": "code",
   "execution_count": 176,
   "id": "8232e97a",
   "metadata": {},
   "outputs": [],
   "source": [
    "towns_food  = df_food.groupby([\"Topic Count\",\"Town\"],as_index = False)[\"Sentiment\"].mean()\n",
    "arundel_food = towns_food[towns_food[\"Town\"] == \"Arundel\"]\n",
    "bognor_food = towns_food[towns_food[\"Town\"] == \"Bognor\"]\n",
    "little_food = towns_food[towns_food[\"Town\"] == \"Littlehampton\"]"
   ]
  },
  {
   "cell_type": "markdown",
   "id": "545e948f",
   "metadata": {},
   "source": [
    "### Arundel"
   ]
  },
  {
   "cell_type": "code",
   "execution_count": 177,
   "id": "4c30a33c",
   "metadata": {},
   "outputs": [
    {
     "data": {
      "text/html": [
       "<div>\n",
       "<style scoped>\n",
       "    .dataframe tbody tr th:only-of-type {\n",
       "        vertical-align: middle;\n",
       "    }\n",
       "\n",
       "    .dataframe tbody tr th {\n",
       "        vertical-align: top;\n",
       "    }\n",
       "\n",
       "    .dataframe thead th {\n",
       "        text-align: right;\n",
       "    }\n",
       "</style>\n",
       "<table border=\"1\" class=\"dataframe\">\n",
       "  <thead>\n",
       "    <tr style=\"text-align: right;\">\n",
       "      <th></th>\n",
       "      <th>Topic Count</th>\n",
       "      <th>Town</th>\n",
       "      <th>Sentiment</th>\n",
       "    </tr>\n",
       "  </thead>\n",
       "  <tbody>\n",
       "    <tr>\n",
       "      <th>30</th>\n",
       "      <td>VFM</td>\n",
       "      <td>Arundel</td>\n",
       "      <td>0.379201</td>\n",
       "    </tr>\n",
       "    <tr>\n",
       "      <th>6</th>\n",
       "      <td>FoodGen</td>\n",
       "      <td>Arundel</td>\n",
       "      <td>0.274739</td>\n",
       "    </tr>\n",
       "    <tr>\n",
       "      <th>24</th>\n",
       "      <td>Service</td>\n",
       "      <td>Arundel</td>\n",
       "      <td>0.274608</td>\n",
       "    </tr>\n",
       "    <tr>\n",
       "      <th>27</th>\n",
       "      <td>StaffGen</td>\n",
       "      <td>Arundel</td>\n",
       "      <td>0.271117</td>\n",
       "    </tr>\n",
       "    <tr>\n",
       "      <th>18</th>\n",
       "      <td>Ordering</td>\n",
       "      <td>Arundel</td>\n",
       "      <td>0.186605</td>\n",
       "    </tr>\n",
       "    <tr>\n",
       "      <th>12</th>\n",
       "      <td>MealExp</td>\n",
       "      <td>Arundel</td>\n",
       "      <td>0.182291</td>\n",
       "    </tr>\n",
       "    <tr>\n",
       "      <th>21</th>\n",
       "      <td>Quality</td>\n",
       "      <td>Arundel</td>\n",
       "      <td>0.177680</td>\n",
       "    </tr>\n",
       "    <tr>\n",
       "      <th>3</th>\n",
       "      <td>Choice</td>\n",
       "      <td>Arundel</td>\n",
       "      <td>0.176789</td>\n",
       "    </tr>\n",
       "    <tr>\n",
       "      <th>15</th>\n",
       "      <td>Menu</td>\n",
       "      <td>Arundel</td>\n",
       "      <td>0.153873</td>\n",
       "    </tr>\n",
       "    <tr>\n",
       "      <th>33</th>\n",
       "      <td>VisitExp</td>\n",
       "      <td>Arundel</td>\n",
       "      <td>0.144686</td>\n",
       "    </tr>\n",
       "    <tr>\n",
       "      <th>0</th>\n",
       "      <td>Booking&amp;Table</td>\n",
       "      <td>Arundel</td>\n",
       "      <td>0.140500</td>\n",
       "    </tr>\n",
       "    <tr>\n",
       "      <th>9</th>\n",
       "      <td>FoodPort</td>\n",
       "      <td>Arundel</td>\n",
       "      <td>0.129979</td>\n",
       "    </tr>\n",
       "  </tbody>\n",
       "</table>\n",
       "</div>"
      ],
      "text/plain": [
       "      Topic Count     Town  Sentiment\n",
       "30            VFM  Arundel   0.379201\n",
       "6         FoodGen  Arundel   0.274739\n",
       "24        Service  Arundel   0.274608\n",
       "27       StaffGen  Arundel   0.271117\n",
       "18       Ordering  Arundel   0.186605\n",
       "12        MealExp  Arundel   0.182291\n",
       "21        Quality  Arundel   0.177680\n",
       "3          Choice  Arundel   0.176789\n",
       "15           Menu  Arundel   0.153873\n",
       "33       VisitExp  Arundel   0.144686\n",
       "0   Booking&Table  Arundel   0.140500\n",
       "9        FoodPort  Arundel   0.129979"
      ]
     },
     "execution_count": 177,
     "metadata": {},
     "output_type": "execute_result"
    }
   ],
   "source": [
    "arundel_food = arundel_food.sort_values(by = \"Sentiment\",ascending = False)\n",
    "arundel_food"
   ]
  },
  {
   "cell_type": "code",
   "execution_count": 178,
   "id": "40d38552",
   "metadata": {},
   "outputs": [
    {
     "data": {
      "image/png": "[encoded data removed]",
      "text/plain": [
       "<Figure size 720x504 with 1 Axes>"
      ]
     },
     "metadata": {
      "needs_background": "light"
     },
     "output_type": "display_data"
    }
   ],
   "source": [
    "plot_sent_score(arundel_food,\"Food \",\"Arundel\")"
   ]
  },
  {
   "cell_type": "markdown",
   "id": "ca02a53e",
   "metadata": {},
   "source": [
    "### Bognor"
   ]
  },
  {
   "cell_type": "code",
   "execution_count": 179,
   "id": "6edd7079",
   "metadata": {},
   "outputs": [
    {
     "data": {
      "text/html": [
       "<div>\n",
       "<style scoped>\n",
       "    .dataframe tbody tr th:only-of-type {\n",
       "        vertical-align: middle;\n",
       "    }\n",
       "\n",
       "    .dataframe tbody tr th {\n",
       "        vertical-align: top;\n",
       "    }\n",
       "\n",
       "    .dataframe thead th {\n",
       "        text-align: right;\n",
       "    }\n",
       "</style>\n",
       "<table border=\"1\" class=\"dataframe\">\n",
       "  <thead>\n",
       "    <tr style=\"text-align: right;\">\n",
       "      <th></th>\n",
       "      <th>Topic Count</th>\n",
       "      <th>Town</th>\n",
       "      <th>Sentiment</th>\n",
       "    </tr>\n",
       "  </thead>\n",
       "  <tbody>\n",
       "    <tr>\n",
       "      <th>31</th>\n",
       "      <td>VFM</td>\n",
       "      <td>Bognor</td>\n",
       "      <td>0.360649</td>\n",
       "    </tr>\n",
       "    <tr>\n",
       "      <th>25</th>\n",
       "      <td>Service</td>\n",
       "      <td>Bognor</td>\n",
       "      <td>0.278278</td>\n",
       "    </tr>\n",
       "    <tr>\n",
       "      <th>7</th>\n",
       "      <td>FoodGen</td>\n",
       "      <td>Bognor</td>\n",
       "      <td>0.259457</td>\n",
       "    </tr>\n",
       "    <tr>\n",
       "      <th>28</th>\n",
       "      <td>StaffGen</td>\n",
       "      <td>Bognor</td>\n",
       "      <td>0.258220</td>\n",
       "    </tr>\n",
       "    <tr>\n",
       "      <th>13</th>\n",
       "      <td>MealExp</td>\n",
       "      <td>Bognor</td>\n",
       "      <td>0.175074</td>\n",
       "    </tr>\n",
       "    <tr>\n",
       "      <th>22</th>\n",
       "      <td>Quality</td>\n",
       "      <td>Bognor</td>\n",
       "      <td>0.170732</td>\n",
       "    </tr>\n",
       "    <tr>\n",
       "      <th>4</th>\n",
       "      <td>Choice</td>\n",
       "      <td>Bognor</td>\n",
       "      <td>0.155043</td>\n",
       "    </tr>\n",
       "    <tr>\n",
       "      <th>19</th>\n",
       "      <td>Ordering</td>\n",
       "      <td>Bognor</td>\n",
       "      <td>0.151991</td>\n",
       "    </tr>\n",
       "    <tr>\n",
       "      <th>34</th>\n",
       "      <td>VisitExp</td>\n",
       "      <td>Bognor</td>\n",
       "      <td>0.143843</td>\n",
       "    </tr>\n",
       "    <tr>\n",
       "      <th>10</th>\n",
       "      <td>FoodPort</td>\n",
       "      <td>Bognor</td>\n",
       "      <td>0.129996</td>\n",
       "    </tr>\n",
       "    <tr>\n",
       "      <th>16</th>\n",
       "      <td>Menu</td>\n",
       "      <td>Bognor</td>\n",
       "      <td>0.128386</td>\n",
       "    </tr>\n",
       "    <tr>\n",
       "      <th>1</th>\n",
       "      <td>Booking&amp;Table</td>\n",
       "      <td>Bognor</td>\n",
       "      <td>0.099316</td>\n",
       "    </tr>\n",
       "  </tbody>\n",
       "</table>\n",
       "</div>"
      ],
      "text/plain": [
       "      Topic Count    Town  Sentiment\n",
       "31            VFM  Bognor   0.360649\n",
       "25        Service  Bognor   0.278278\n",
       "7         FoodGen  Bognor   0.259457\n",
       "28       StaffGen  Bognor   0.258220\n",
       "13        MealExp  Bognor   0.175074\n",
       "22        Quality  Bognor   0.170732\n",
       "4          Choice  Bognor   0.155043\n",
       "19       Ordering  Bognor   0.151991\n",
       "34       VisitExp  Bognor   0.143843\n",
       "10       FoodPort  Bognor   0.129996\n",
       "16           Menu  Bognor   0.128386\n",
       "1   Booking&Table  Bognor   0.099316"
      ]
     },
     "execution_count": 179,
     "metadata": {},
     "output_type": "execute_result"
    }
   ],
   "source": [
    "bognor_food = bognor_food.sort_values(by = \"Sentiment\",ascending = False)\n",
    "bognor_food"
   ]
  },
  {
   "cell_type": "code",
   "execution_count": 180,
   "id": "e0bed473",
   "metadata": {},
   "outputs": [
    {
     "data": {
      "image/png": "[encoded data removed]",
      "text/plain": [
       "<Figure size 720x504 with 1 Axes>"
      ]
     },
     "metadata": {
      "needs_background": "light"
     },
     "output_type": "display_data"
    }
   ],
   "source": [
    "plot_sent_score(bognor_food,\"Food \",\"Bognor\")"
   ]
  },
  {
   "cell_type": "markdown",
   "id": "9e8f8b50",
   "metadata": {},
   "source": [
    "### Littlehampton"
   ]
  },
  {
   "cell_type": "code",
   "execution_count": 181,
   "id": "243364b3",
   "metadata": {},
   "outputs": [
    {
     "data": {
      "text/html": [
       "<div>\n",
       "<style scoped>\n",
       "    .dataframe tbody tr th:only-of-type {\n",
       "        vertical-align: middle;\n",
       "    }\n",
       "\n",
       "    .dataframe tbody tr th {\n",
       "        vertical-align: top;\n",
       "    }\n",
       "\n",
       "    .dataframe thead th {\n",
       "        text-align: right;\n",
       "    }\n",
       "</style>\n",
       "<table border=\"1\" class=\"dataframe\">\n",
       "  <thead>\n",
       "    <tr style=\"text-align: right;\">\n",
       "      <th></th>\n",
       "      <th>Topic Count</th>\n",
       "      <th>Town</th>\n",
       "      <th>Sentiment</th>\n",
       "    </tr>\n",
       "  </thead>\n",
       "  <tbody>\n",
       "    <tr>\n",
       "      <th>32</th>\n",
       "      <td>VFM</td>\n",
       "      <td>Littlehampton</td>\n",
       "      <td>0.350988</td>\n",
       "    </tr>\n",
       "    <tr>\n",
       "      <th>26</th>\n",
       "      <td>Service</td>\n",
       "      <td>Littlehampton</td>\n",
       "      <td>0.246495</td>\n",
       "    </tr>\n",
       "    <tr>\n",
       "      <th>8</th>\n",
       "      <td>FoodGen</td>\n",
       "      <td>Littlehampton</td>\n",
       "      <td>0.235582</td>\n",
       "    </tr>\n",
       "    <tr>\n",
       "      <th>29</th>\n",
       "      <td>StaffGen</td>\n",
       "      <td>Littlehampton</td>\n",
       "      <td>0.224738</td>\n",
       "    </tr>\n",
       "    <tr>\n",
       "      <th>23</th>\n",
       "      <td>Quality</td>\n",
       "      <td>Littlehampton</td>\n",
       "      <td>0.179128</td>\n",
       "    </tr>\n",
       "    <tr>\n",
       "      <th>14</th>\n",
       "      <td>MealExp</td>\n",
       "      <td>Littlehampton</td>\n",
       "      <td>0.160869</td>\n",
       "    </tr>\n",
       "    <tr>\n",
       "      <th>17</th>\n",
       "      <td>Menu</td>\n",
       "      <td>Littlehampton</td>\n",
       "      <td>0.135250</td>\n",
       "    </tr>\n",
       "    <tr>\n",
       "      <th>2</th>\n",
       "      <td>Booking&amp;Table</td>\n",
       "      <td>Littlehampton</td>\n",
       "      <td>0.132567</td>\n",
       "    </tr>\n",
       "    <tr>\n",
       "      <th>5</th>\n",
       "      <td>Choice</td>\n",
       "      <td>Littlehampton</td>\n",
       "      <td>0.130308</td>\n",
       "    </tr>\n",
       "    <tr>\n",
       "      <th>20</th>\n",
       "      <td>Ordering</td>\n",
       "      <td>Littlehampton</td>\n",
       "      <td>0.129353</td>\n",
       "    </tr>\n",
       "    <tr>\n",
       "      <th>35</th>\n",
       "      <td>VisitExp</td>\n",
       "      <td>Littlehampton</td>\n",
       "      <td>0.128816</td>\n",
       "    </tr>\n",
       "    <tr>\n",
       "      <th>11</th>\n",
       "      <td>FoodPort</td>\n",
       "      <td>Littlehampton</td>\n",
       "      <td>0.119827</td>\n",
       "    </tr>\n",
       "  </tbody>\n",
       "</table>\n",
       "</div>"
      ],
      "text/plain": [
       "      Topic Count           Town  Sentiment\n",
       "32            VFM  Littlehampton   0.350988\n",
       "26        Service  Littlehampton   0.246495\n",
       "8         FoodGen  Littlehampton   0.235582\n",
       "29       StaffGen  Littlehampton   0.224738\n",
       "23        Quality  Littlehampton   0.179128\n",
       "14        MealExp  Littlehampton   0.160869\n",
       "17           Menu  Littlehampton   0.135250\n",
       "2   Booking&Table  Littlehampton   0.132567\n",
       "5          Choice  Littlehampton   0.130308\n",
       "20       Ordering  Littlehampton   0.129353\n",
       "35       VisitExp  Littlehampton   0.128816\n",
       "11       FoodPort  Littlehampton   0.119827"
      ]
     },
     "execution_count": 181,
     "metadata": {},
     "output_type": "execute_result"
    }
   ],
   "source": [
    "little_food = little_food.sort_values(by = \"Sentiment\",ascending = False)\n",
    "little_food"
   ]
  },
  {
   "cell_type": "code",
   "execution_count": 182,
   "id": "d4a3ad8c",
   "metadata": {},
   "outputs": [
    {
     "data": {
      "image/png": "[encoded data removed]",
      "text/plain": [
       "<Figure size 720x504 with 1 Axes>"
      ]
     },
     "metadata": {
      "needs_background": "light"
     },
     "output_type": "display_data"
    }
   ],
   "source": [
    "plot_sent_score(little_food,\"Food \",\"Littlehampton\")"
   ]
  },
  {
   "cell_type": "markdown",
   "id": "8296727c",
   "metadata": {},
   "source": [
    "## Attractions"
   ]
  },
  {
   "cell_type": "code",
   "execution_count": 183,
   "id": "004a7e0e",
   "metadata": {},
   "outputs": [],
   "source": [
    "towns_attract  = df_attract.groupby([\"Topic Count\",\"Town\"],as_index = False)[\"Sentiment\"].mean()\n",
    "arundel_attract = towns_attract[towns_attract[\"Town\"] == \"Arundel\"]\n",
    "bognor_attract = towns_attract[towns_attract[\"Town\"] == \"Bognor\"]\n",
    "little_attract = towns_attract[towns_attract[\"Town\"] == \"Littlehampton\"]"
   ]
  },
  {
   "cell_type": "markdown",
   "id": "1fd575c1",
   "metadata": {},
   "source": [
    "### Arundel"
   ]
  },
  {
   "cell_type": "code",
   "execution_count": 184,
   "id": "0d897dc3",
   "metadata": {},
   "outputs": [
    {
     "data": {
      "text/html": [
       "<div>\n",
       "<style scoped>\n",
       "    .dataframe tbody tr th:only-of-type {\n",
       "        vertical-align: middle;\n",
       "    }\n",
       "\n",
       "    .dataframe tbody tr th {\n",
       "        vertical-align: top;\n",
       "    }\n",
       "\n",
       "    .dataframe thead th {\n",
       "        text-align: right;\n",
       "    }\n",
       "</style>\n",
       "<table border=\"1\" class=\"dataframe\">\n",
       "  <thead>\n",
       "    <tr style=\"text-align: right;\">\n",
       "      <th></th>\n",
       "      <th>Topic Count</th>\n",
       "      <th>Town</th>\n",
       "      <th>Sentiment</th>\n",
       "    </tr>\n",
       "  </thead>\n",
       "  <tbody>\n",
       "    <tr>\n",
       "      <th>18</th>\n",
       "      <td>Place</td>\n",
       "      <td>Arundel</td>\n",
       "      <td>0.262001</td>\n",
       "    </tr>\n",
       "    <tr>\n",
       "      <th>27</th>\n",
       "      <td>VFM</td>\n",
       "      <td>Arundel</td>\n",
       "      <td>0.259607</td>\n",
       "    </tr>\n",
       "    <tr>\n",
       "      <th>24</th>\n",
       "      <td>Staff</td>\n",
       "      <td>Arundel</td>\n",
       "      <td>0.252518</td>\n",
       "    </tr>\n",
       "    <tr>\n",
       "      <th>0</th>\n",
       "      <td>BeachFac</td>\n",
       "      <td>Arundel</td>\n",
       "      <td>0.251528</td>\n",
       "    </tr>\n",
       "    <tr>\n",
       "      <th>9</th>\n",
       "      <td>Gardens&amp;Grounds</td>\n",
       "      <td>Arundel</td>\n",
       "      <td>0.251039</td>\n",
       "    </tr>\n",
       "    <tr>\n",
       "      <th>33</th>\n",
       "      <td>Walking</td>\n",
       "      <td>Arundel</td>\n",
       "      <td>0.219825</td>\n",
       "    </tr>\n",
       "    <tr>\n",
       "      <th>21</th>\n",
       "      <td>Shop&amp;Amenties</td>\n",
       "      <td>Arundel</td>\n",
       "      <td>0.213451</td>\n",
       "    </tr>\n",
       "    <tr>\n",
       "      <th>3</th>\n",
       "      <td>FamilyExp</td>\n",
       "      <td>Arundel</td>\n",
       "      <td>0.181633</td>\n",
       "    </tr>\n",
       "    <tr>\n",
       "      <th>30</th>\n",
       "      <td>VisitExp</td>\n",
       "      <td>Arundel</td>\n",
       "      <td>0.174887</td>\n",
       "    </tr>\n",
       "    <tr>\n",
       "      <th>6</th>\n",
       "      <td>Food</td>\n",
       "      <td>Arundel</td>\n",
       "      <td>0.165154</td>\n",
       "    </tr>\n",
       "    <tr>\n",
       "      <th>12</th>\n",
       "      <td>Kids&amp;PlayArea</td>\n",
       "      <td>Arundel</td>\n",
       "      <td>0.129728</td>\n",
       "    </tr>\n",
       "    <tr>\n",
       "      <th>15</th>\n",
       "      <td>Parking</td>\n",
       "      <td>Arundel</td>\n",
       "      <td>0.118261</td>\n",
       "    </tr>\n",
       "  </tbody>\n",
       "</table>\n",
       "</div>"
      ],
      "text/plain": [
       "        Topic Count     Town  Sentiment\n",
       "18            Place  Arundel   0.262001\n",
       "27              VFM  Arundel   0.259607\n",
       "24            Staff  Arundel   0.252518\n",
       "0          BeachFac  Arundel   0.251528\n",
       "9   Gardens&Grounds  Arundel   0.251039\n",
       "33          Walking  Arundel   0.219825\n",
       "21    Shop&Amenties  Arundel   0.213451\n",
       "3         FamilyExp  Arundel   0.181633\n",
       "30         VisitExp  Arundel   0.174887\n",
       "6              Food  Arundel   0.165154\n",
       "12    Kids&PlayArea  Arundel   0.129728\n",
       "15          Parking  Arundel   0.118261"
      ]
     },
     "execution_count": 184,
     "metadata": {},
     "output_type": "execute_result"
    }
   ],
   "source": [
    "arundel_attract = arundel_attract.sort_values(by = \"Sentiment\",ascending = False)\n",
    "arundel_attract"
   ]
  },
  {
   "cell_type": "code",
   "execution_count": 185,
   "id": "1e1f753b",
   "metadata": {},
   "outputs": [
    {
     "data": {
      "image/png": "[encoded data removed]",
      "text/plain": [
       "<Figure size 720x504 with 1 Axes>"
      ]
     },
     "metadata": {
      "needs_background": "light"
     },
     "output_type": "display_data"
    }
   ],
   "source": [
    "plot_sent_score(arundel_attract,\"Attractions\",\"Arundel\")"
   ]
  },
  {
   "cell_type": "markdown",
   "id": "48c99eaf",
   "metadata": {},
   "source": [
    "### Bognor"
   ]
  },
  {
   "cell_type": "code",
   "execution_count": 186,
   "id": "b0dedba3",
   "metadata": {},
   "outputs": [
    {
     "data": {
      "text/html": [
       "<div>\n",
       "<style scoped>\n",
       "    .dataframe tbody tr th:only-of-type {\n",
       "        vertical-align: middle;\n",
       "    }\n",
       "\n",
       "    .dataframe tbody tr th {\n",
       "        vertical-align: top;\n",
       "    }\n",
       "\n",
       "    .dataframe thead th {\n",
       "        text-align: right;\n",
       "    }\n",
       "</style>\n",
       "<table border=\"1\" class=\"dataframe\">\n",
       "  <thead>\n",
       "    <tr style=\"text-align: right;\">\n",
       "      <th></th>\n",
       "      <th>Topic Count</th>\n",
       "      <th>Town</th>\n",
       "      <th>Sentiment</th>\n",
       "    </tr>\n",
       "  </thead>\n",
       "  <tbody>\n",
       "    <tr>\n",
       "      <th>19</th>\n",
       "      <td>Place</td>\n",
       "      <td>Bognor</td>\n",
       "      <td>0.319507</td>\n",
       "    </tr>\n",
       "    <tr>\n",
       "      <th>25</th>\n",
       "      <td>Staff</td>\n",
       "      <td>Bognor</td>\n",
       "      <td>0.267900</td>\n",
       "    </tr>\n",
       "    <tr>\n",
       "      <th>28</th>\n",
       "      <td>VFM</td>\n",
       "      <td>Bognor</td>\n",
       "      <td>0.265105</td>\n",
       "    </tr>\n",
       "    <tr>\n",
       "      <th>4</th>\n",
       "      <td>FamilyExp</td>\n",
       "      <td>Bognor</td>\n",
       "      <td>0.231025</td>\n",
       "    </tr>\n",
       "    <tr>\n",
       "      <th>16</th>\n",
       "      <td>Parking</td>\n",
       "      <td>Bognor</td>\n",
       "      <td>0.228730</td>\n",
       "    </tr>\n",
       "    <tr>\n",
       "      <th>7</th>\n",
       "      <td>Food</td>\n",
       "      <td>Bognor</td>\n",
       "      <td>0.215850</td>\n",
       "    </tr>\n",
       "    <tr>\n",
       "      <th>10</th>\n",
       "      <td>Gardens&amp;Grounds</td>\n",
       "      <td>Bognor</td>\n",
       "      <td>0.213837</td>\n",
       "    </tr>\n",
       "    <tr>\n",
       "      <th>31</th>\n",
       "      <td>VisitExp</td>\n",
       "      <td>Bognor</td>\n",
       "      <td>0.184590</td>\n",
       "    </tr>\n",
       "    <tr>\n",
       "      <th>22</th>\n",
       "      <td>Shop&amp;Amenties</td>\n",
       "      <td>Bognor</td>\n",
       "      <td>0.174471</td>\n",
       "    </tr>\n",
       "    <tr>\n",
       "      <th>34</th>\n",
       "      <td>Walking</td>\n",
       "      <td>Bognor</td>\n",
       "      <td>0.150040</td>\n",
       "    </tr>\n",
       "    <tr>\n",
       "      <th>1</th>\n",
       "      <td>BeachFac</td>\n",
       "      <td>Bognor</td>\n",
       "      <td>0.122331</td>\n",
       "    </tr>\n",
       "    <tr>\n",
       "      <th>13</th>\n",
       "      <td>Kids&amp;PlayArea</td>\n",
       "      <td>Bognor</td>\n",
       "      <td>0.101802</td>\n",
       "    </tr>\n",
       "  </tbody>\n",
       "</table>\n",
       "</div>"
      ],
      "text/plain": [
       "        Topic Count    Town  Sentiment\n",
       "19            Place  Bognor   0.319507\n",
       "25            Staff  Bognor   0.267900\n",
       "28              VFM  Bognor   0.265105\n",
       "4         FamilyExp  Bognor   0.231025\n",
       "16          Parking  Bognor   0.228730\n",
       "7              Food  Bognor   0.215850\n",
       "10  Gardens&Grounds  Bognor   0.213837\n",
       "31         VisitExp  Bognor   0.184590\n",
       "22    Shop&Amenties  Bognor   0.174471\n",
       "34          Walking  Bognor   0.150040\n",
       "1          BeachFac  Bognor   0.122331\n",
       "13    Kids&PlayArea  Bognor   0.101802"
      ]
     },
     "execution_count": 186,
     "metadata": {},
     "output_type": "execute_result"
    }
   ],
   "source": [
    "bognor_attract = bognor_attract.sort_values(by = \"Sentiment\",ascending = False)\n",
    "bognor_attract"
   ]
  },
  {
   "cell_type": "code",
   "execution_count": 187,
   "id": "ba341952",
   "metadata": {},
   "outputs": [
    {
     "data": {
      "image/png": "[encoded data removed]",
      "text/plain": [
       "<Figure size 720x504 with 1 Axes>"
      ]
     },
     "metadata": {
      "needs_background": "light"
     },
     "output_type": "display_data"
    }
   ],
   "source": [
    "plot_sent_score(bognor_attract,\"Attractions\",\"Bognor\")"
   ]
  },
  {
   "cell_type": "markdown",
   "id": "1938b0b0",
   "metadata": {},
   "source": [
    "### Littlehampton"
   ]
  },
  {
   "cell_type": "code",
   "execution_count": 188,
   "id": "18d66eaa",
   "metadata": {},
   "outputs": [
    {
     "data": {
      "text/html": [
       "<div>\n",
       "<style scoped>\n",
       "    .dataframe tbody tr th:only-of-type {\n",
       "        vertical-align: middle;\n",
       "    }\n",
       "\n",
       "    .dataframe tbody tr th {\n",
       "        vertical-align: top;\n",
       "    }\n",
       "\n",
       "    .dataframe thead th {\n",
       "        text-align: right;\n",
       "    }\n",
       "</style>\n",
       "<table border=\"1\" class=\"dataframe\">\n",
       "  <thead>\n",
       "    <tr style=\"text-align: right;\">\n",
       "      <th></th>\n",
       "      <th>Topic Count</th>\n",
       "      <th>Town</th>\n",
       "      <th>Sentiment</th>\n",
       "    </tr>\n",
       "  </thead>\n",
       "  <tbody>\n",
       "    <tr>\n",
       "      <th>20</th>\n",
       "      <td>Place</td>\n",
       "      <td>Littlehampton</td>\n",
       "      <td>0.251439</td>\n",
       "    </tr>\n",
       "    <tr>\n",
       "      <th>11</th>\n",
       "      <td>Gardens&amp;Grounds</td>\n",
       "      <td>Littlehampton</td>\n",
       "      <td>0.232840</td>\n",
       "    </tr>\n",
       "    <tr>\n",
       "      <th>5</th>\n",
       "      <td>FamilyExp</td>\n",
       "      <td>Littlehampton</td>\n",
       "      <td>0.222836</td>\n",
       "    </tr>\n",
       "    <tr>\n",
       "      <th>26</th>\n",
       "      <td>Staff</td>\n",
       "      <td>Littlehampton</td>\n",
       "      <td>0.222409</td>\n",
       "    </tr>\n",
       "    <tr>\n",
       "      <th>35</th>\n",
       "      <td>Walking</td>\n",
       "      <td>Littlehampton</td>\n",
       "      <td>0.219509</td>\n",
       "    </tr>\n",
       "    <tr>\n",
       "      <th>2</th>\n",
       "      <td>BeachFac</td>\n",
       "      <td>Littlehampton</td>\n",
       "      <td>0.202412</td>\n",
       "    </tr>\n",
       "    <tr>\n",
       "      <th>29</th>\n",
       "      <td>VFM</td>\n",
       "      <td>Littlehampton</td>\n",
       "      <td>0.183855</td>\n",
       "    </tr>\n",
       "    <tr>\n",
       "      <th>14</th>\n",
       "      <td>Kids&amp;PlayArea</td>\n",
       "      <td>Littlehampton</td>\n",
       "      <td>0.181758</td>\n",
       "    </tr>\n",
       "    <tr>\n",
       "      <th>32</th>\n",
       "      <td>VisitExp</td>\n",
       "      <td>Littlehampton</td>\n",
       "      <td>0.162516</td>\n",
       "    </tr>\n",
       "    <tr>\n",
       "      <th>8</th>\n",
       "      <td>Food</td>\n",
       "      <td>Littlehampton</td>\n",
       "      <td>0.152714</td>\n",
       "    </tr>\n",
       "    <tr>\n",
       "      <th>23</th>\n",
       "      <td>Shop&amp;Amenties</td>\n",
       "      <td>Littlehampton</td>\n",
       "      <td>0.146633</td>\n",
       "    </tr>\n",
       "    <tr>\n",
       "      <th>17</th>\n",
       "      <td>Parking</td>\n",
       "      <td>Littlehampton</td>\n",
       "      <td>0.088528</td>\n",
       "    </tr>\n",
       "  </tbody>\n",
       "</table>\n",
       "</div>"
      ],
      "text/plain": [
       "        Topic Count           Town  Sentiment\n",
       "20            Place  Littlehampton   0.251439\n",
       "11  Gardens&Grounds  Littlehampton   0.232840\n",
       "5         FamilyExp  Littlehampton   0.222836\n",
       "26            Staff  Littlehampton   0.222409\n",
       "35          Walking  Littlehampton   0.219509\n",
       "2          BeachFac  Littlehampton   0.202412\n",
       "29              VFM  Littlehampton   0.183855\n",
       "14    Kids&PlayArea  Littlehampton   0.181758\n",
       "32         VisitExp  Littlehampton   0.162516\n",
       "8              Food  Littlehampton   0.152714\n",
       "23    Shop&Amenties  Littlehampton   0.146633\n",
       "17          Parking  Littlehampton   0.088528"
      ]
     },
     "execution_count": 188,
     "metadata": {},
     "output_type": "execute_result"
    }
   ],
   "source": [
    "little_attract = little_attract.sort_values(by = \"Sentiment\",ascending = False)\n",
    "little_attract"
   ]
  },
  {
   "cell_type": "code",
   "execution_count": 189,
   "id": "b82606f5",
   "metadata": {},
   "outputs": [
    {
     "data": {
      "image/png": "[encoded data removed]",
      "text/plain": [
       "<Figure size 720x504 with 1 Axes>"
      ]
     },
     "metadata": {
      "needs_background": "light"
     },
     "output_type": "display_data"
    }
   ],
   "source": [
    "plot_sent_score(little_attract,\"Attractions\",\"Littlehampton\")"
   ]
  },
  {
   "cell_type": "markdown",
   "id": "e7f8a8cf",
   "metadata": {},
   "source": [
    "# Section 5: Comparing Aspects and Towns Together"
   ]
  },
  {
   "cell_type": "code",
   "execution_count": 210,
   "id": "1e778509",
   "metadata": {},
   "outputs": [],
   "source": [
    "def compare_towns(df1,df2,df3,name):\n",
    "    \n",
    "    # Set variables\n",
    "    labels = list(df1[\"Topic Count\"])\n",
    "    \n",
    "    y1 = list(df1[\"Sentiment\"])\n",
    "    y2 = list(df2[\"Sentiment\"])\n",
    "    y3 = list(df3[\"Sentiment\"])\n",
    "    height = 0.25\n",
    "    \n",
    "    r1 = np.arange(len(y1))\n",
    "    r2 = [x + height for x in r1]\n",
    "    r3 = [x + height for x in r2]\n",
    "    \n",
    "    # Plot chart\n",
    "    fig, ax = plt.subplots(figsize = (14,12),)\n",
    "    plt.barh(r1, y1, height = height, color = \"lightgrey\",label='Arundel',ec = \"darkgrey\")\n",
    "    plt.barh(r2, y2, height = height, color = \"lightsteelblue\",label='Bognor',ec = \"darkgrey\")\n",
    "    plt.barh(r3, y3, height = height, label='Littlehampton',ec = \"darkgrey\")\n",
    "    \n",
    "    # Set labels, legend etc\n",
    "    ax.set_xlabel('Compound Sentiment Score',labelpad = 10,fontsize = 12)\n",
    "    ax.set_ylabel(\"Topic\", labelpad = 10,fontsize = 12)\n",
    "    plt.yticks([r + height for r in range(len(y1))], labels)\n",
    "    plt.yticks(fontsize=15)\n",
    "    ax.spines['right'].set_visible(False)\n",
    "    ax.spines['top'].set_visible(False)\n",
    "    ax.spines['bottom'].set_visible(False)\n",
    "    ax.spines['left'].set_visible(False)\n",
    "    ax.set_title(name + \" - Mean Sentiment Score \",fontsize = 20)\n",
    "    handles, labels = ax.get_legend_handles_labels()\n",
    "    ax.legend(reversed(handles), reversed(labels),frameon = False, bbox_to_anchor = (0.75,0.2))\n",
    "    ax.invert_yaxis()\n",
    "    plt.show()"
   ]
  },
  {
   "cell_type": "code",
   "execution_count": 211,
   "id": "711c4326",
   "metadata": {},
   "outputs": [
    {
     "data": {
      "image/png": "[encoded data removed]",
      "text/plain": [
       "<Figure size 1008x864 with 1 Axes>"
      ]
     },
     "metadata": {
      "needs_background": "light"
     },
     "output_type": "display_data"
    }
   ],
   "source": [
    "compare_towns(arundel_accom,bognor_accom,little_accom,\"Accommodation Aspects\")"
   ]
  },
  {
   "cell_type": "markdown",
   "id": "91ca869a",
   "metadata": {},
   "source": [
    "* Bognor scores the lowest in all categories except Parking & Facilities\n",
    "* Parking, leisure facilities and meal experiences are among the lowest sentiment scores\n",
    "* Arundel and Littlehampton score highly for Staff and Service\n",
    "* Arundel scores highly for value\n"
   ]
  },
  {
   "cell_type": "code",
   "execution_count": 212,
   "id": "bfd00af9",
   "metadata": {},
   "outputs": [
    {
     "data": {
      "image/png": "[encoded data removed]",
      "text/plain": [
       "<Figure size 1008x864 with 1 Axes>"
      ]
     },
     "metadata": {
      "needs_background": "light"
     },
     "output_type": "display_data"
    }
   ],
   "source": [
    "compare_towns(arundel_food,bognor_food,little_food,\"Food\")"
   ]
  },
  {
   "cell_type": "markdown",
   "id": "8c3e98e5",
   "metadata": {},
   "source": [
    "* All towns score highly for value for money with Bognor having the highest average compound sentiment score\n",
    "* Bognor also scores highest for service\n",
    "* The lowest scored category is Food Portions and Visit Experience"
   ]
  },
  {
   "cell_type": "code",
   "execution_count": 213,
   "id": "ed38dc5b",
   "metadata": {},
   "outputs": [
    {
     "data": {
      "image/png": "[encoded data removed]",
      "text/plain": [
       "<Figure size 1008x864 with 1 Axes>"
      ]
     },
     "metadata": {
      "needs_background": "light"
     },
     "output_type": "display_data"
    }
   ],
   "source": [
    "compare_towns(arundel_attract,bognor_attract,little_attract,\"Attractions\")"
   ]
  },
  {
   "cell_type": "markdown",
   "id": "4ffeb1a4",
   "metadata": {},
   "source": [
    "* The aspect with the highest mean sentiment score is 'Staff' and Bognor scores the highest of these\n",
    "* Bognor also scores highest for value for money attractions\n",
    "* Among the lowest scored aspects relating to attractions are parking, play facilities and food"
   ]
  },
  {
   "cell_type": "code",
   "execution_count": 194,
   "id": "54aea6eb",
   "metadata": {},
   "outputs": [],
   "source": [
    "# Implode dataframe back to sentence level from noun phrase level\n",
    "#df_comb = df.groupby([\"OrigInd\",\"Category\",\"Town\",\"Rating\",\"all_text\",\"sentences\",\"cleaned_sentences\"]).agg({'noun_phrases':lambda x: \" \".join(x)}).rename({'noun_phrases':'sentence'},axis = 1).reset_index()\n",
    "#df_comb.drop(columns = [\"sentence\"],axis = 1,inplace = True)"
   ]
  }
 ],
 "metadata": {
  "kernelspec": {
   "display_name": "Python 3",
   "language": "python",
   "name": "python3"
  },
  "language_info": {
   "codemirror_mode": {
    "name": "ipython",
    "version": 3
   },
   "file_extension": ".py",
   "mimetype": "text/x-python",
   "name": "python",
   "nbconvert_exporter": "python",
   "pygments_lexer": "ipython3",
   "version": "3.7.10"
  }
 },
 "nbformat": 4,
 "nbformat_minor": 5
}
