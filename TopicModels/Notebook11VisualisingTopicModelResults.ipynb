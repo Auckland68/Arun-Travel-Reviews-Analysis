{
 "cells": [
  {
   "cell_type": "markdown",
   "id": "3f9e6e1b",
   "metadata": {},
   "source": [
    "# Visualising the Topic Modelling Results"
   ]
  },
  {
   "cell_type": "markdown",
   "id": "441fb3e0",
   "metadata": {},
   "source": [
    "This notebook visualises the results from the previous notebook containing topic models across towns and categories. Sentiment scores are applied using VADER to each noun phrase\n",
    "* Section 1 - Import libraries and dataset\n",
    "* Section 2 - Data preparation and EDA\n",
    "* Section 3 - Category analysis for Arun Distict\n",
    "* Section 4 - Sentiment scores across categories\n",
    "* Section 5 - Comparing aspects and towns\n",
    "\n",
    "\n",
    "Datasets need to run notebook:\n",
    "* topicmodelsaccom.csv\n",
    "* topicmodelsfood.csv\n",
    "* topicmodelsattract.csv\n",
    "\n",
    "Data save to:\n",
    "* combined_sentiment.csv\n",
    "* combined_sentiment_test.csv\n"
   ]
  },
  {
   "cell_type": "markdown",
   "id": "64a6cbe9",
   "metadata": {},
   "source": [
    "# Section 1: Import libraries and data"
   ]
  },
  {
   "cell_type": "code",
   "execution_count": 1,
   "id": "fe0d05d5",
   "metadata": {},
   "outputs": [
    {
     "name": "stderr",
     "output_type": "stream",
     "text": [
      "[nltk_data] Downloading package vader_lexicon to\n",
      "[nltk_data]     C:\\Users\\imoge\\AppData\\Roaming\\nltk_data...\n",
      "[nltk_data]   Package vader_lexicon is already up-to-date!\n"
     ]
    }
   ],
   "source": [
    "import pandas as pd\n",
    "import numpy as np\n",
    "import matplotlib.pyplot as plt\n",
    "import nltk\n",
    "nltk.download('vader_lexicon')\n",
    "from nltk.sentiment.vader import SentimentIntensityAnalyzer"
   ]
  },
  {
   "cell_type": "code",
   "execution_count": 2,
   "id": "f666fcf2",
   "metadata": {},
   "outputs": [],
   "source": [
    "# Read in datasets\n",
    "df_accom = pd.read_csv(\"topicmodelsaccom.csv\")\n",
    "df_food = pd.read_csv(\"topicmodelsfood.csv\")\n",
    "df_attract = pd.read_csv(\"topicmodelsattract.csv\")\n",
    "\n",
    "df_accom_test = pd.read_csv(\"topicmodelsaccomtest.csv\")\n",
    "df_food_test = pd.read_csv(\"topicmodelsfoodtest.csv\")\n",
    "df_attract_test = pd.read_csv(\"topicmodelsattracttest.csv\")"
   ]
  },
  {
   "cell_type": "code",
   "execution_count": 5,
   "id": "f1bb80dc",
   "metadata": {},
   "outputs": [],
   "source": [
    "# Add the category columns to the test dataframes\n",
    "df_accom_test[\"Category\"] = \"Accommodation\"\n",
    "df_food_test[\"Category\"] = \"Food\"\n",
    "df_attract_test[\"Category\"] = \"Attract\""
   ]
  },
  {
   "cell_type": "markdown",
   "id": "362dc214",
   "metadata": {},
   "source": [
    "# Section 2: Data Preparation and EDA"
   ]
  },
  {
   "cell_type": "code",
   "execution_count": 18,
   "id": "f5ea6154",
   "metadata": {},
   "outputs": [],
   "source": [
    "# Convert sentiment score to positive to negative with VADER (above 0.05 positive, below -0.05 negative and between is \n",
    "# neutral as per the VADER notes)\n",
    "sid = SentimentIntensityAnalyzer()\n",
    "\n",
    "def polar(x): \n",
    "    if x >= 0.05:\n",
    "        return 'positive'\n",
    "    elif x <0.05 and x>= -0.05:\n",
    "        return 'neutral'\n",
    "    else:\n",
    "        return 'negative'"
   ]
  },
  {
   "cell_type": "code",
   "execution_count": 19,
   "id": "912b2ae6",
   "metadata": {},
   "outputs": [],
   "source": [
    "def sent(df):\n",
    "    df[\"Sentiment\"] = df[\"noun_phrases\"].apply(lambda x: sid.polarity_scores(x)[\"compound\"])\n",
    "    df[\"Score\"] = df[\"Sentiment\"].apply(lambda x: polar(x))"
   ]
  },
  {
   "cell_type": "code",
   "execution_count": 20,
   "id": "acda31a0",
   "metadata": {},
   "outputs": [],
   "source": [
    "# Run function to get sentiment and convert to 'positive','negative' and 'neutral'\n",
    "sent(df_accom)\n",
    "sent(df_food)\n",
    "sent(df_attract)\n",
    "sent(df_accom_test)\n",
    "sent(df_food_test)\n",
    "sent(df_attract_test)"
   ]
  },
  {
   "cell_type": "code",
   "execution_count": 21,
   "id": "d6a6d0fa",
   "metadata": {},
   "outputs": [
    {
     "name": "stdout",
     "output_type": "stream",
     "text": [
      "(23989, 13) (649, 11) (39651, 13) (952, 11) (7527, 13) (210, 11)\n"
     ]
    }
   ],
   "source": [
    "print(df_accom.shape,df_accom_test.shape,df_food.shape, df_food_test.shape, df_attract.shape,df_attract_test.shape)"
   ]
  },
  {
   "cell_type": "code",
   "execution_count": 22,
   "id": "6ba05f80",
   "metadata": {},
   "outputs": [],
   "source": [
    "combined_sentiment = pd.concat([df_accom,df_food,df_attract],axis = 0,ignore_index = True)\n",
    "combined_sentiment_test = pd.concat([df_accom_test,df_food_test,df_attract_test],axis = 0,ignore_index = True)\n",
    "combined_sentiment.to_csv(\"combined_sentiment.csv\")\n",
    "combined_sentiment_test.to_csv(\"combined_sentiment_test.csv\")"
   ]
  },
  {
   "cell_type": "code",
   "execution_count": 23,
   "id": "ac7af6ff",
   "metadata": {},
   "outputs": [
    {
     "data": {
      "text/plain": [
       "neutral     13473\n",
       "positive     8851\n",
       "negative     1665\n",
       "Name: Score, dtype: int64"
      ]
     },
     "execution_count": 23,
     "metadata": {},
     "output_type": "execute_result"
    }
   ],
   "source": [
    "df_accom[\"Score\"].value_counts()"
   ]
  },
  {
   "cell_type": "code",
   "execution_count": 24,
   "id": "f624f734",
   "metadata": {},
   "outputs": [
    {
     "data": {
      "text/plain": [
       "neutral     20579\n",
       "positive    16817\n",
       "negative     2255\n",
       "Name: Score, dtype: int64"
      ]
     },
     "execution_count": 24,
     "metadata": {},
     "output_type": "execute_result"
    }
   ],
   "source": [
    "df_food[\"Score\"].value_counts()"
   ]
  },
  {
   "cell_type": "code",
   "execution_count": 25,
   "id": "ae8cd6f8",
   "metadata": {},
   "outputs": [
    {
     "data": {
      "text/plain": [
       "neutral     4029\n",
       "positive    3151\n",
       "negative     347\n",
       "Name: Score, dtype: int64"
      ]
     },
     "execution_count": 25,
     "metadata": {},
     "output_type": "execute_result"
    }
   ],
   "source": [
    "df_attract[\"Score\"].value_counts()"
   ]
  },
  {
   "cell_type": "code",
   "execution_count": 26,
   "id": "150e1f96",
   "metadata": {},
   "outputs": [],
   "source": [
    "# Plot review noun phrase counts per category\n",
    "def counts(df,name):\n",
    "    \n",
    "    df_count = df[\"Topic Count\"].value_counts().reset_index()\n",
    "    df_count.columns = [\"Topic\",\"Count\"]\n",
    "    #df_count.sort_values(\"Topic\",ascending = False,inplace = True)\n",
    "    fig, ax = plt.subplots()\n",
    "    ax.spines['right'].set_visible(False)\n",
    "    ax.spines['top'].set_visible(False)\n",
    "    ax.set_title(\"Number of Review Noun Phrases By Aspect: \" + name,fontsize = 10)\n",
    "    ax.set_xlabel(\"Number\",fontsize = 8,labelpad = 10)\n",
    "    ax.barh(df_count[\"Topic\"],df_count[\"Count\"],color = \"lightsteelblue\")\n",
    "    ax.invert_yaxis()\n",
    "    plt.show()\n",
    "    "
   ]
  },
  {
   "cell_type": "code",
   "execution_count": 27,
   "id": "49a1b629",
   "metadata": {},
   "outputs": [
    {
     "data": {
      "image/png": "[encoded data removed]",
      "text/plain": [
       "<Figure size 432x288 with 1 Axes>"
      ]
     },
     "metadata": {
      "needs_background": "light"
     },
     "output_type": "display_data"
    }
   ],
   "source": [
    "counts(df_accom,\"Accommodation\")"
   ]
  },
  {
   "cell_type": "code",
   "execution_count": 28,
   "id": "f74d6e87",
   "metadata": {},
   "outputs": [
    {
     "data": {
      "image/png": "[encoded data removed]",
      "text/plain": [
       "<Figure size 432x288 with 1 Axes>"
      ]
     },
     "metadata": {
      "needs_background": "light"
     },
     "output_type": "display_data"
    }
   ],
   "source": [
    "counts(df_food, \"Food\")"
   ]
  },
  {
   "cell_type": "code",
   "execution_count": 29,
   "id": "203ed1ae",
   "metadata": {},
   "outputs": [
    {
     "data": {
      "image/png": "[encoded data removed]",
      "text/plain": [
       "<Figure size 432x288 with 1 Axes>"
      ]
     },
     "metadata": {
      "needs_background": "light"
     },
     "output_type": "display_data"
    }
   ],
   "source": [
    "counts(df_attract,\"Attractions\")"
   ]
  },
  {
   "cell_type": "markdown",
   "id": "a72a16c3",
   "metadata": {},
   "source": [
    "Comments:\n",
    "\n",
    "* Unsurprisingly, the most reviewed category for accommodation and Food is 'Rooms' and 'Food'\n",
    "* The most reviewed aspect for Attractions is the quality of the 'Family Experience'\n",
    "* Interestingly, the lowest number of review phrases are for value for money for the first two categories"
   ]
  },
  {
   "cell_type": "markdown",
   "id": "4d472270",
   "metadata": {},
   "source": [
    "# Section 3: Category Analysis"
   ]
  },
  {
   "cell_type": "code",
   "execution_count": 30,
   "id": "1a471477",
   "metadata": {},
   "outputs": [],
   "source": [
    "# Numbers of aspects split into positive and negative into one dataframe\n",
    "\n",
    "def aspect_all(df):\n",
    "    \n",
    "    pos_df = df[df[\"Score\"] == \"positive\"]\n",
    "    neg_df = df[df[\"Score\"] == \"negative\"]\n",
    "    pos_df = pd.DataFrame(pos_df[\"Topic Count\"].value_counts())\n",
    "    neg_df = pd.DataFrame(neg_df[\"Topic Count\"].value_counts())\n",
    "    pos_df.columns = [\"Num Pos\"]\n",
    "    neg_df.columns = [\"Num Neg\"]\n",
    "    df_sent = pd.concat([pos_df,neg_df],axis = 1)\n",
    "    df_sent[\"%Pos\"] = round(df_sent[\"Num Pos\"]/(df_sent[\"Num Pos\"] + df_sent[\"Num Neg\"]),2)*100\n",
    "    df_sent[\"%Neg\"] = round(df_sent[\"Num Neg\"]/(df_sent[\"Num Pos\"] + df_sent[\"Num Neg\"]),2)*100\n",
    "    df_sent.sort_index(inplace = True)\n",
    "    return df_sent\n",
    "    "
   ]
  },
  {
   "cell_type": "code",
   "execution_count": 31,
   "id": "d00acae0",
   "metadata": {},
   "outputs": [],
   "source": [
    "def graph_sentiment_numbers(name,df):\n",
    "    \n",
    "    labels = list(df.index)\n",
    "    pos = list(df[\"%Pos\"])\n",
    "    neg = list(df[\"%Neg\"]*-1)\n",
    "\n",
    "    x = np.arange(len(labels))  # the label locations\n",
    "    width = 0.35  # the width of the bars\n",
    "\n",
    "    fig, ax = plt.subplots(figsize = (10,6))\n",
    "    ax.barh(x - width/2, pos, width, label='Pos',color = \"lightsteelblue\")\n",
    "    ax.barh(x + width/2, neg, width, label='Neg',color = \"slategrey\")\n",
    "\n",
    "    # Add some text for labels, title and custom x-axis tick labels, etc.\n",
    "    ax.set_title(name + \" - % Positive and Negative\")\n",
    "    ax.set_yticks(x)\n",
    "    ax.set_yticklabels(labels)\n",
    "    #(\"% of Aspect\")\n",
    "    ax.spines['right'].set_visible(False)\n",
    "    ax.spines['top'].set_visible(False)\n",
    "    ax.legend(frameon = False, loc = \"best\")\n",
    "    ax.invert_yaxis()\n",
    "\n",
    "    fig.tight_layout()\n",
    "\n",
    "    plt.show()"
   ]
  },
  {
   "cell_type": "markdown",
   "id": "aeaadaa0",
   "metadata": {},
   "source": [
    "## Accomodation"
   ]
  },
  {
   "cell_type": "code",
   "execution_count": 32,
   "id": "484d5197",
   "metadata": {},
   "outputs": [
    {
     "data": {
      "text/html": [
       "<div>\n",
       "<style scoped>\n",
       "    .dataframe tbody tr th:only-of-type {\n",
       "        vertical-align: middle;\n",
       "    }\n",
       "\n",
       "    .dataframe tbody tr th {\n",
       "        vertical-align: top;\n",
       "    }\n",
       "\n",
       "    .dataframe thead th {\n",
       "        text-align: right;\n",
       "    }\n",
       "</style>\n",
       "<table border=\"1\" class=\"dataframe\">\n",
       "  <thead>\n",
       "    <tr style=\"text-align: right;\">\n",
       "      <th></th>\n",
       "      <th>Num Pos</th>\n",
       "      <th>Num Neg</th>\n",
       "      <th>%Pos</th>\n",
       "      <th>%Neg</th>\n",
       "    </tr>\n",
       "  </thead>\n",
       "  <tbody>\n",
       "    <tr>\n",
       "      <th>CustServ</th>\n",
       "      <td>415</td>\n",
       "      <td>117</td>\n",
       "      <td>78.0</td>\n",
       "      <td>22.0</td>\n",
       "    </tr>\n",
       "    <tr>\n",
       "      <th>Entertainment&amp;Activities</th>\n",
       "      <td>1105</td>\n",
       "      <td>258</td>\n",
       "      <td>81.0</td>\n",
       "      <td>19.0</td>\n",
       "    </tr>\n",
       "    <tr>\n",
       "      <th>FamilyExp</th>\n",
       "      <td>801</td>\n",
       "      <td>71</td>\n",
       "      <td>92.0</td>\n",
       "      <td>8.0</td>\n",
       "    </tr>\n",
       "    <tr>\n",
       "      <th>Food</th>\n",
       "      <td>640</td>\n",
       "      <td>80</td>\n",
       "      <td>89.0</td>\n",
       "      <td>11.0</td>\n",
       "    </tr>\n",
       "    <tr>\n",
       "      <th>HotelGen</th>\n",
       "      <td>412</td>\n",
       "      <td>49</td>\n",
       "      <td>89.0</td>\n",
       "      <td>11.0</td>\n",
       "    </tr>\n",
       "    <tr>\n",
       "      <th>Leisure</th>\n",
       "      <td>335</td>\n",
       "      <td>77</td>\n",
       "      <td>81.0</td>\n",
       "      <td>19.0</td>\n",
       "    </tr>\n",
       "    <tr>\n",
       "      <th>Location</th>\n",
       "      <td>597</td>\n",
       "      <td>84</td>\n",
       "      <td>88.0</td>\n",
       "      <td>12.0</td>\n",
       "    </tr>\n",
       "    <tr>\n",
       "      <th>MealExp</th>\n",
       "      <td>552</td>\n",
       "      <td>160</td>\n",
       "      <td>78.0</td>\n",
       "      <td>22.0</td>\n",
       "    </tr>\n",
       "    <tr>\n",
       "      <th>Parking&amp;Fac</th>\n",
       "      <td>205</td>\n",
       "      <td>94</td>\n",
       "      <td>69.0</td>\n",
       "      <td>31.0</td>\n",
       "    </tr>\n",
       "    <tr>\n",
       "      <th>Room</th>\n",
       "      <td>1678</td>\n",
       "      <td>373</td>\n",
       "      <td>82.0</td>\n",
       "      <td>18.0</td>\n",
       "    </tr>\n",
       "    <tr>\n",
       "      <th>RoomComf</th>\n",
       "      <td>502</td>\n",
       "      <td>80</td>\n",
       "      <td>86.0</td>\n",
       "      <td>14.0</td>\n",
       "    </tr>\n",
       "    <tr>\n",
       "      <th>RoomFac</th>\n",
       "      <td>518</td>\n",
       "      <td>71</td>\n",
       "      <td>88.0</td>\n",
       "      <td>12.0</td>\n",
       "    </tr>\n",
       "    <tr>\n",
       "      <th>Service&amp;Staff</th>\n",
       "      <td>847</td>\n",
       "      <td>98</td>\n",
       "      <td>90.0</td>\n",
       "      <td>10.0</td>\n",
       "    </tr>\n",
       "    <tr>\n",
       "      <th>Value</th>\n",
       "      <td>244</td>\n",
       "      <td>53</td>\n",
       "      <td>82.0</td>\n",
       "      <td>18.0</td>\n",
       "    </tr>\n",
       "  </tbody>\n",
       "</table>\n",
       "</div>"
      ],
      "text/plain": [
       "                          Num Pos  Num Neg  %Pos  %Neg\n",
       "CustServ                      415      117  78.0  22.0\n",
       "Entertainment&Activities     1105      258  81.0  19.0\n",
       "FamilyExp                     801       71  92.0   8.0\n",
       "Food                          640       80  89.0  11.0\n",
       "HotelGen                      412       49  89.0  11.0\n",
       "Leisure                       335       77  81.0  19.0\n",
       "Location                      597       84  88.0  12.0\n",
       "MealExp                       552      160  78.0  22.0\n",
       "Parking&Fac                   205       94  69.0  31.0\n",
       "Room                         1678      373  82.0  18.0\n",
       "RoomComf                      502       80  86.0  14.0\n",
       "RoomFac                       518       71  88.0  12.0\n",
       "Service&Staff                 847       98  90.0  10.0\n",
       "Value                         244       53  82.0  18.0"
      ]
     },
     "execution_count": 32,
     "metadata": {},
     "output_type": "execute_result"
    }
   ],
   "source": [
    "accom_sent = aspect_all(df_accom)\n",
    "accom_sent"
   ]
  },
  {
   "cell_type": "markdown",
   "id": "d900b377",
   "metadata": {},
   "source": [
    "Review noun phrases are predominantly positive, with the highest % positive relating to the Family Experience and the lowest to Parking & Other Facilities"
   ]
  },
  {
   "cell_type": "code",
   "execution_count": 33,
   "id": "678a76c9",
   "metadata": {},
   "outputs": [
    {
     "data": {
      "image/png": "[encoded data removed]",
      "text/plain": [
       "<Figure size 720x432 with 1 Axes>"
      ]
     },
     "metadata": {
      "needs_background": "light"
     },
     "output_type": "display_data"
    }
   ],
   "source": [
    "graph_sentiment_numbers(\"Accommodation Aspects Arun\",accom_sent)"
   ]
  },
  {
   "cell_type": "markdown",
   "id": "7b81411c",
   "metadata": {},
   "source": [
    "### Split down by town"
   ]
  },
  {
   "cell_type": "code",
   "execution_count": 34,
   "id": "96c2616a",
   "metadata": {},
   "outputs": [],
   "source": [
    "arundel_accom_aspects_pos = df_accom[(df_accom[\"Town\"] == \"Arundel\") & (df_accom[\"Score\"] == \"positive\")]\n",
    "arundel_accom_aspects_neg = df_accom[(df_accom[\"Town\"] == \"Bognor\") & (df_accom[\"Score\"] == \"negative\")]\n",
    "bognor_accom_aspects_pos = df_accom[(df_accom[\"Town\"] == \"Bognor\") & (df_accom[\"Score\"] == \"positive\")]\n",
    "bognor_accom_aspects_neg = df_accom[(df_accom[\"Town\"] == \"Bognor\") & (df_accom[\"Score\"] == \"negative\")]\n",
    "little_accom_aspects_pos = df_accom[(df_accom[\"Town\"] == \"Littlehampton\") & (df_accom[\"Score\"] == \"positive\")]\n",
    "little_accom_aspects_neg = df_accom[(df_accom[\"Town\"] == \"Littlehampton\") & (df_accom[\"Score\"] == \"negative\")]"
   ]
  },
  {
   "cell_type": "code",
   "execution_count": 35,
   "id": "6f48e37f",
   "metadata": {},
   "outputs": [],
   "source": [
    "# Create dataframe to compare percentages for each aspect for the town\n",
    "def aspect_perc(df1,df2):\n",
    "    df_pos = pd.DataFrame(df1[\"Topic Count\"].value_counts())\n",
    "    df_neg = pd.DataFrame(df2[\"Topic Count\"].value_counts())\n",
    "    df_comb = pd.concat([df_pos,df_neg],axis = 1)\n",
    "    df_comb.columns = [\"Num Pos\",\"Num Neg\"]\n",
    "    df_comb[\"%Pos\"] = round(df_comb[\"Num Pos\"]/(df_comb[\"Num Pos\"] + df_comb[\"Num Neg\"]),2)*100\n",
    "    df_comb[\"%Neg\"] = round(df_comb[\"Num Neg\"]/(df_comb[\"Num Neg\"] + df_comb[\"Num Pos\"]),2)*100\n",
    "    df_comb.sort_index(inplace = True)\n",
    "    \n",
    "    return df_comb\n"
   ]
  },
  {
   "cell_type": "markdown",
   "id": "4fc18309",
   "metadata": {},
   "source": [
    "### Arundel"
   ]
  },
  {
   "cell_type": "code",
   "execution_count": 36,
   "id": "d4650a4b",
   "metadata": {},
   "outputs": [
    {
     "data": {
      "text/html": [
       "<div>\n",
       "<style scoped>\n",
       "    .dataframe tbody tr th:only-of-type {\n",
       "        vertical-align: middle;\n",
       "    }\n",
       "\n",
       "    .dataframe tbody tr th {\n",
       "        vertical-align: top;\n",
       "    }\n",
       "\n",
       "    .dataframe thead th {\n",
       "        text-align: right;\n",
       "    }\n",
       "</style>\n",
       "<table border=\"1\" class=\"dataframe\">\n",
       "  <thead>\n",
       "    <tr style=\"text-align: right;\">\n",
       "      <th></th>\n",
       "      <th>Num Pos</th>\n",
       "      <th>Num Neg</th>\n",
       "      <th>%Pos</th>\n",
       "      <th>%Neg</th>\n",
       "    </tr>\n",
       "  </thead>\n",
       "  <tbody>\n",
       "    <tr>\n",
       "      <th>CustServ</th>\n",
       "      <td>136</td>\n",
       "      <td>60</td>\n",
       "      <td>69.0</td>\n",
       "      <td>31.0</td>\n",
       "    </tr>\n",
       "    <tr>\n",
       "      <th>Entertainment&amp;Activities</th>\n",
       "      <td>172</td>\n",
       "      <td>174</td>\n",
       "      <td>50.0</td>\n",
       "      <td>50.0</td>\n",
       "    </tr>\n",
       "    <tr>\n",
       "      <th>FamilyExp</th>\n",
       "      <td>174</td>\n",
       "      <td>38</td>\n",
       "      <td>82.0</td>\n",
       "      <td>18.0</td>\n",
       "    </tr>\n",
       "    <tr>\n",
       "      <th>Food</th>\n",
       "      <td>228</td>\n",
       "      <td>39</td>\n",
       "      <td>85.0</td>\n",
       "      <td>15.0</td>\n",
       "    </tr>\n",
       "    <tr>\n",
       "      <th>HotelGen</th>\n",
       "      <td>164</td>\n",
       "      <td>22</td>\n",
       "      <td>88.0</td>\n",
       "      <td>12.0</td>\n",
       "    </tr>\n",
       "    <tr>\n",
       "      <th>Leisure</th>\n",
       "      <td>48</td>\n",
       "      <td>56</td>\n",
       "      <td>46.0</td>\n",
       "      <td>54.0</td>\n",
       "    </tr>\n",
       "    <tr>\n",
       "      <th>Location</th>\n",
       "      <td>228</td>\n",
       "      <td>36</td>\n",
       "      <td>86.0</td>\n",
       "      <td>14.0</td>\n",
       "    </tr>\n",
       "    <tr>\n",
       "      <th>MealExp</th>\n",
       "      <td>161</td>\n",
       "      <td>64</td>\n",
       "      <td>72.0</td>\n",
       "      <td>28.0</td>\n",
       "    </tr>\n",
       "    <tr>\n",
       "      <th>Parking&amp;Fac</th>\n",
       "      <td>46</td>\n",
       "      <td>30</td>\n",
       "      <td>61.0</td>\n",
       "      <td>39.0</td>\n",
       "    </tr>\n",
       "    <tr>\n",
       "      <th>Room</th>\n",
       "      <td>580</td>\n",
       "      <td>216</td>\n",
       "      <td>73.0</td>\n",
       "      <td>27.0</td>\n",
       "    </tr>\n",
       "    <tr>\n",
       "      <th>RoomComf</th>\n",
       "      <td>169</td>\n",
       "      <td>43</td>\n",
       "      <td>80.0</td>\n",
       "      <td>20.0</td>\n",
       "    </tr>\n",
       "    <tr>\n",
       "      <th>RoomFac</th>\n",
       "      <td>167</td>\n",
       "      <td>32</td>\n",
       "      <td>84.0</td>\n",
       "      <td>16.0</td>\n",
       "    </tr>\n",
       "    <tr>\n",
       "      <th>Service&amp;Staff</th>\n",
       "      <td>314</td>\n",
       "      <td>44</td>\n",
       "      <td>88.0</td>\n",
       "      <td>12.0</td>\n",
       "    </tr>\n",
       "    <tr>\n",
       "      <th>Value</th>\n",
       "      <td>81</td>\n",
       "      <td>28</td>\n",
       "      <td>74.0</td>\n",
       "      <td>26.0</td>\n",
       "    </tr>\n",
       "  </tbody>\n",
       "</table>\n",
       "</div>"
      ],
      "text/plain": [
       "                          Num Pos  Num Neg  %Pos  %Neg\n",
       "CustServ                      136       60  69.0  31.0\n",
       "Entertainment&Activities      172      174  50.0  50.0\n",
       "FamilyExp                     174       38  82.0  18.0\n",
       "Food                          228       39  85.0  15.0\n",
       "HotelGen                      164       22  88.0  12.0\n",
       "Leisure                        48       56  46.0  54.0\n",
       "Location                      228       36  86.0  14.0\n",
       "MealExp                       161       64  72.0  28.0\n",
       "Parking&Fac                    46       30  61.0  39.0\n",
       "Room                          580      216  73.0  27.0\n",
       "RoomComf                      169       43  80.0  20.0\n",
       "RoomFac                       167       32  84.0  16.0\n",
       "Service&Staff                 314       44  88.0  12.0\n",
       "Value                          81       28  74.0  26.0"
      ]
     },
     "execution_count": 36,
     "metadata": {},
     "output_type": "execute_result"
    }
   ],
   "source": [
    "arundel_percent = aspect_perc(arundel_accom_aspects_pos,arundel_accom_aspects_neg)\n",
    "arundel_percent"
   ]
  },
  {
   "cell_type": "code",
   "execution_count": 37,
   "id": "b9386f0d",
   "metadata": {},
   "outputs": [
    {
     "data": {
      "image/png": "[encoded data removed]",
      "text/plain": [
       "<Figure size 720x432 with 1 Axes>"
      ]
     },
     "metadata": {
      "needs_background": "light"
     },
     "output_type": "display_data"
    }
   ],
   "source": [
    "graph_sentiment_numbers(\"Accommodation Aspects Arundel\",arundel_percent)"
   ]
  },
  {
   "cell_type": "markdown",
   "id": "3cc52470",
   "metadata": {},
   "source": [
    "### Bognor"
   ]
  },
  {
   "cell_type": "code",
   "execution_count": 38,
   "id": "e9ab75e9",
   "metadata": {},
   "outputs": [
    {
     "data": {
      "text/html": [
       "<div>\n",
       "<style scoped>\n",
       "    .dataframe tbody tr th:only-of-type {\n",
       "        vertical-align: middle;\n",
       "    }\n",
       "\n",
       "    .dataframe tbody tr th {\n",
       "        vertical-align: top;\n",
       "    }\n",
       "\n",
       "    .dataframe thead th {\n",
       "        text-align: right;\n",
       "    }\n",
       "</style>\n",
       "<table border=\"1\" class=\"dataframe\">\n",
       "  <thead>\n",
       "    <tr style=\"text-align: right;\">\n",
       "      <th></th>\n",
       "      <th>Num Pos</th>\n",
       "      <th>Num Neg</th>\n",
       "      <th>%Pos</th>\n",
       "      <th>%Neg</th>\n",
       "    </tr>\n",
       "  </thead>\n",
       "  <tbody>\n",
       "    <tr>\n",
       "      <th>CustServ</th>\n",
       "      <td>170</td>\n",
       "      <td>60</td>\n",
       "      <td>74.0</td>\n",
       "      <td>26.0</td>\n",
       "    </tr>\n",
       "    <tr>\n",
       "      <th>Entertainment&amp;Activities</th>\n",
       "      <td>750</td>\n",
       "      <td>174</td>\n",
       "      <td>81.0</td>\n",
       "      <td>19.0</td>\n",
       "    </tr>\n",
       "    <tr>\n",
       "      <th>FamilyExp</th>\n",
       "      <td>464</td>\n",
       "      <td>38</td>\n",
       "      <td>92.0</td>\n",
       "      <td>8.0</td>\n",
       "    </tr>\n",
       "    <tr>\n",
       "      <th>Food</th>\n",
       "      <td>274</td>\n",
       "      <td>39</td>\n",
       "      <td>88.0</td>\n",
       "      <td>12.0</td>\n",
       "    </tr>\n",
       "    <tr>\n",
       "      <th>HotelGen</th>\n",
       "      <td>150</td>\n",
       "      <td>22</td>\n",
       "      <td>87.0</td>\n",
       "      <td>13.0</td>\n",
       "    </tr>\n",
       "    <tr>\n",
       "      <th>Leisure</th>\n",
       "      <td>198</td>\n",
       "      <td>56</td>\n",
       "      <td>78.0</td>\n",
       "      <td>22.0</td>\n",
       "    </tr>\n",
       "    <tr>\n",
       "      <th>Location</th>\n",
       "      <td>192</td>\n",
       "      <td>36</td>\n",
       "      <td>84.0</td>\n",
       "      <td>16.0</td>\n",
       "    </tr>\n",
       "    <tr>\n",
       "      <th>MealExp</th>\n",
       "      <td>235</td>\n",
       "      <td>64</td>\n",
       "      <td>79.0</td>\n",
       "      <td>21.0</td>\n",
       "    </tr>\n",
       "    <tr>\n",
       "      <th>Parking&amp;Fac</th>\n",
       "      <td>75</td>\n",
       "      <td>30</td>\n",
       "      <td>71.0</td>\n",
       "      <td>29.0</td>\n",
       "    </tr>\n",
       "    <tr>\n",
       "      <th>Room</th>\n",
       "      <td>744</td>\n",
       "      <td>216</td>\n",
       "      <td>78.0</td>\n",
       "      <td>22.0</td>\n",
       "    </tr>\n",
       "    <tr>\n",
       "      <th>RoomComf</th>\n",
       "      <td>220</td>\n",
       "      <td>43</td>\n",
       "      <td>84.0</td>\n",
       "      <td>16.0</td>\n",
       "    </tr>\n",
       "    <tr>\n",
       "      <th>RoomFac</th>\n",
       "      <td>216</td>\n",
       "      <td>32</td>\n",
       "      <td>87.0</td>\n",
       "      <td>13.0</td>\n",
       "    </tr>\n",
       "    <tr>\n",
       "      <th>Service&amp;Staff</th>\n",
       "      <td>308</td>\n",
       "      <td>44</td>\n",
       "      <td>88.0</td>\n",
       "      <td>12.0</td>\n",
       "    </tr>\n",
       "    <tr>\n",
       "      <th>Value</th>\n",
       "      <td>106</td>\n",
       "      <td>28</td>\n",
       "      <td>79.0</td>\n",
       "      <td>21.0</td>\n",
       "    </tr>\n",
       "  </tbody>\n",
       "</table>\n",
       "</div>"
      ],
      "text/plain": [
       "                          Num Pos  Num Neg  %Pos  %Neg\n",
       "CustServ                      170       60  74.0  26.0\n",
       "Entertainment&Activities      750      174  81.0  19.0\n",
       "FamilyExp                     464       38  92.0   8.0\n",
       "Food                          274       39  88.0  12.0\n",
       "HotelGen                      150       22  87.0  13.0\n",
       "Leisure                       198       56  78.0  22.0\n",
       "Location                      192       36  84.0  16.0\n",
       "MealExp                       235       64  79.0  21.0\n",
       "Parking&Fac                    75       30  71.0  29.0\n",
       "Room                          744      216  78.0  22.0\n",
       "RoomComf                      220       43  84.0  16.0\n",
       "RoomFac                       216       32  87.0  13.0\n",
       "Service&Staff                 308       44  88.0  12.0\n",
       "Value                         106       28  79.0  21.0"
      ]
     },
     "execution_count": 38,
     "metadata": {},
     "output_type": "execute_result"
    }
   ],
   "source": [
    "bognor_percent = aspect_perc(bognor_accom_aspects_pos,bognor_accom_aspects_neg)\n",
    "bognor_percent"
   ]
  },
  {
   "cell_type": "code",
   "execution_count": 39,
   "id": "5920627a",
   "metadata": {},
   "outputs": [
    {
     "data": {
      "image/png": "[encoded data removed]",
      "text/plain": [
       "<Figure size 720x432 with 1 Axes>"
      ]
     },
     "metadata": {
      "needs_background": "light"
     },
     "output_type": "display_data"
    }
   ],
   "source": [
    "graph_sentiment_numbers(\"Accommodation Aspects Bognor\",bognor_percent)"
   ]
  },
  {
   "cell_type": "markdown",
   "id": "22f14e2e",
   "metadata": {},
   "source": [
    "### Littlehampton"
   ]
  },
  {
   "cell_type": "code",
   "execution_count": 40,
   "id": "f7e1a77f",
   "metadata": {},
   "outputs": [
    {
     "data": {
      "text/html": [
       "<div>\n",
       "<style scoped>\n",
       "    .dataframe tbody tr th:only-of-type {\n",
       "        vertical-align: middle;\n",
       "    }\n",
       "\n",
       "    .dataframe tbody tr th {\n",
       "        vertical-align: top;\n",
       "    }\n",
       "\n",
       "    .dataframe thead th {\n",
       "        text-align: right;\n",
       "    }\n",
       "</style>\n",
       "<table border=\"1\" class=\"dataframe\">\n",
       "  <thead>\n",
       "    <tr style=\"text-align: right;\">\n",
       "      <th></th>\n",
       "      <th>Num Pos</th>\n",
       "      <th>Num Neg</th>\n",
       "      <th>%Pos</th>\n",
       "      <th>%Neg</th>\n",
       "    </tr>\n",
       "  </thead>\n",
       "  <tbody>\n",
       "    <tr>\n",
       "      <th>CustServ</th>\n",
       "      <td>109</td>\n",
       "      <td>32</td>\n",
       "      <td>77.0</td>\n",
       "      <td>23.0</td>\n",
       "    </tr>\n",
       "    <tr>\n",
       "      <th>Entertainment&amp;Activities</th>\n",
       "      <td>183</td>\n",
       "      <td>42</td>\n",
       "      <td>81.0</td>\n",
       "      <td>19.0</td>\n",
       "    </tr>\n",
       "    <tr>\n",
       "      <th>FamilyExp</th>\n",
       "      <td>163</td>\n",
       "      <td>14</td>\n",
       "      <td>92.0</td>\n",
       "      <td>8.0</td>\n",
       "    </tr>\n",
       "    <tr>\n",
       "      <th>Food</th>\n",
       "      <td>138</td>\n",
       "      <td>23</td>\n",
       "      <td>86.0</td>\n",
       "      <td>14.0</td>\n",
       "    </tr>\n",
       "    <tr>\n",
       "      <th>HotelGen</th>\n",
       "      <td>98</td>\n",
       "      <td>7</td>\n",
       "      <td>93.0</td>\n",
       "      <td>7.0</td>\n",
       "    </tr>\n",
       "    <tr>\n",
       "      <th>Leisure</th>\n",
       "      <td>89</td>\n",
       "      <td>8</td>\n",
       "      <td>92.0</td>\n",
       "      <td>8.0</td>\n",
       "    </tr>\n",
       "    <tr>\n",
       "      <th>Location</th>\n",
       "      <td>177</td>\n",
       "      <td>20</td>\n",
       "      <td>90.0</td>\n",
       "      <td>10.0</td>\n",
       "    </tr>\n",
       "    <tr>\n",
       "      <th>MealExp</th>\n",
       "      <td>156</td>\n",
       "      <td>40</td>\n",
       "      <td>80.0</td>\n",
       "      <td>20.0</td>\n",
       "    </tr>\n",
       "    <tr>\n",
       "      <th>Parking&amp;Fac</th>\n",
       "      <td>84</td>\n",
       "      <td>27</td>\n",
       "      <td>76.0</td>\n",
       "      <td>24.0</td>\n",
       "    </tr>\n",
       "    <tr>\n",
       "      <th>Room</th>\n",
       "      <td>354</td>\n",
       "      <td>62</td>\n",
       "      <td>85.0</td>\n",
       "      <td>15.0</td>\n",
       "    </tr>\n",
       "    <tr>\n",
       "      <th>RoomComf</th>\n",
       "      <td>113</td>\n",
       "      <td>19</td>\n",
       "      <td>86.0</td>\n",
       "      <td>14.0</td>\n",
       "    </tr>\n",
       "    <tr>\n",
       "      <th>RoomFac</th>\n",
       "      <td>135</td>\n",
       "      <td>18</td>\n",
       "      <td>88.0</td>\n",
       "      <td>12.0</td>\n",
       "    </tr>\n",
       "    <tr>\n",
       "      <th>Service&amp;Staff</th>\n",
       "      <td>225</td>\n",
       "      <td>26</td>\n",
       "      <td>90.0</td>\n",
       "      <td>10.0</td>\n",
       "    </tr>\n",
       "    <tr>\n",
       "      <th>Value</th>\n",
       "      <td>57</td>\n",
       "      <td>15</td>\n",
       "      <td>79.0</td>\n",
       "      <td>21.0</td>\n",
       "    </tr>\n",
       "  </tbody>\n",
       "</table>\n",
       "</div>"
      ],
      "text/plain": [
       "                          Num Pos  Num Neg  %Pos  %Neg\n",
       "CustServ                      109       32  77.0  23.0\n",
       "Entertainment&Activities      183       42  81.0  19.0\n",
       "FamilyExp                     163       14  92.0   8.0\n",
       "Food                          138       23  86.0  14.0\n",
       "HotelGen                       98        7  93.0   7.0\n",
       "Leisure                        89        8  92.0   8.0\n",
       "Location                      177       20  90.0  10.0\n",
       "MealExp                       156       40  80.0  20.0\n",
       "Parking&Fac                    84       27  76.0  24.0\n",
       "Room                          354       62  85.0  15.0\n",
       "RoomComf                      113       19  86.0  14.0\n",
       "RoomFac                       135       18  88.0  12.0\n",
       "Service&Staff                 225       26  90.0  10.0\n",
       "Value                          57       15  79.0  21.0"
      ]
     },
     "execution_count": 40,
     "metadata": {},
     "output_type": "execute_result"
    }
   ],
   "source": [
    "little_percent = aspect_perc(little_accom_aspects_pos,little_accom_aspects_neg)\n",
    "little_percent"
   ]
  },
  {
   "cell_type": "code",
   "execution_count": 41,
   "id": "7234ad07",
   "metadata": {},
   "outputs": [
    {
     "data": {
      "image/png": "[encoded data removed]",
      "text/plain": [
       "<Figure size 720x432 with 1 Axes>"
      ]
     },
     "metadata": {
      "needs_background": "light"
     },
     "output_type": "display_data"
    }
   ],
   "source": [
    "graph_sentiment_numbers(\"Accommodation Aspects Littlehampton\",little_percent)"
   ]
  },
  {
   "cell_type": "markdown",
   "id": "b69cbd9e",
   "metadata": {},
   "source": [
    "### Food"
   ]
  },
  {
   "cell_type": "code",
   "execution_count": 42,
   "id": "9e839728",
   "metadata": {},
   "outputs": [
    {
     "data": {
      "text/html": [
       "<div>\n",
       "<style scoped>\n",
       "    .dataframe tbody tr th:only-of-type {\n",
       "        vertical-align: middle;\n",
       "    }\n",
       "\n",
       "    .dataframe tbody tr th {\n",
       "        vertical-align: top;\n",
       "    }\n",
       "\n",
       "    .dataframe thead th {\n",
       "        text-align: right;\n",
       "    }\n",
       "</style>\n",
       "<table border=\"1\" class=\"dataframe\">\n",
       "  <thead>\n",
       "    <tr style=\"text-align: right;\">\n",
       "      <th></th>\n",
       "      <th>Num Pos</th>\n",
       "      <th>Num Neg</th>\n",
       "      <th>%Pos</th>\n",
       "      <th>%Neg</th>\n",
       "    </tr>\n",
       "  </thead>\n",
       "  <tbody>\n",
       "    <tr>\n",
       "      <th>Booking&amp;Table</th>\n",
       "      <td>890</td>\n",
       "      <td>241</td>\n",
       "      <td>79.0</td>\n",
       "      <td>21.0</td>\n",
       "    </tr>\n",
       "    <tr>\n",
       "      <th>Choice</th>\n",
       "      <td>1029</td>\n",
       "      <td>97</td>\n",
       "      <td>91.0</td>\n",
       "      <td>9.0</td>\n",
       "    </tr>\n",
       "    <tr>\n",
       "      <th>FoodGen</th>\n",
       "      <td>4527</td>\n",
       "      <td>468</td>\n",
       "      <td>91.0</td>\n",
       "      <td>9.0</td>\n",
       "    </tr>\n",
       "    <tr>\n",
       "      <th>FoodPort</th>\n",
       "      <td>777</td>\n",
       "      <td>91</td>\n",
       "      <td>90.0</td>\n",
       "      <td>10.0</td>\n",
       "    </tr>\n",
       "    <tr>\n",
       "      <th>MealExp</th>\n",
       "      <td>1310</td>\n",
       "      <td>153</td>\n",
       "      <td>90.0</td>\n",
       "      <td>10.0</td>\n",
       "    </tr>\n",
       "    <tr>\n",
       "      <th>Menu</th>\n",
       "      <td>758</td>\n",
       "      <td>79</td>\n",
       "      <td>91.0</td>\n",
       "      <td>9.0</td>\n",
       "    </tr>\n",
       "    <tr>\n",
       "      <th>Ordering</th>\n",
       "      <td>717</td>\n",
       "      <td>166</td>\n",
       "      <td>81.0</td>\n",
       "      <td>19.0</td>\n",
       "    </tr>\n",
       "    <tr>\n",
       "      <th>Quality</th>\n",
       "      <td>816</td>\n",
       "      <td>150</td>\n",
       "      <td>84.0</td>\n",
       "      <td>16.0</td>\n",
       "    </tr>\n",
       "    <tr>\n",
       "      <th>Service</th>\n",
       "      <td>1816</td>\n",
       "      <td>270</td>\n",
       "      <td>87.0</td>\n",
       "      <td>13.0</td>\n",
       "    </tr>\n",
       "    <tr>\n",
       "      <th>StaffGen</th>\n",
       "      <td>1831</td>\n",
       "      <td>241</td>\n",
       "      <td>88.0</td>\n",
       "      <td>12.0</td>\n",
       "    </tr>\n",
       "    <tr>\n",
       "      <th>VFM</th>\n",
       "      <td>1057</td>\n",
       "      <td>81</td>\n",
       "      <td>93.0</td>\n",
       "      <td>7.0</td>\n",
       "    </tr>\n",
       "    <tr>\n",
       "      <th>VisitExp</th>\n",
       "      <td>1289</td>\n",
       "      <td>218</td>\n",
       "      <td>86.0</td>\n",
       "      <td>14.0</td>\n",
       "    </tr>\n",
       "  </tbody>\n",
       "</table>\n",
       "</div>"
      ],
      "text/plain": [
       "               Num Pos  Num Neg  %Pos  %Neg\n",
       "Booking&Table      890      241  79.0  21.0\n",
       "Choice            1029       97  91.0   9.0\n",
       "FoodGen           4527      468  91.0   9.0\n",
       "FoodPort           777       91  90.0  10.0\n",
       "MealExp           1310      153  90.0  10.0\n",
       "Menu               758       79  91.0   9.0\n",
       "Ordering           717      166  81.0  19.0\n",
       "Quality            816      150  84.0  16.0\n",
       "Service           1816      270  87.0  13.0\n",
       "StaffGen          1831      241  88.0  12.0\n",
       "VFM               1057       81  93.0   7.0\n",
       "VisitExp          1289      218  86.0  14.0"
      ]
     },
     "execution_count": 42,
     "metadata": {},
     "output_type": "execute_result"
    }
   ],
   "source": [
    "food_sent = aspect_all(df_food)\n",
    "food_sent"
   ]
  },
  {
   "cell_type": "code",
   "execution_count": 43,
   "id": "de6a8ad3",
   "metadata": {},
   "outputs": [
    {
     "data": {
      "image/png": "[encoded data removed]",
      "text/plain": [
       "<Figure size 720x432 with 1 Axes>"
      ]
     },
     "metadata": {
      "needs_background": "light"
     },
     "output_type": "display_data"
    }
   ],
   "source": [
    "graph_sentiment_numbers(\"Accommodation Aspects Arun\",food_sent)"
   ]
  },
  {
   "cell_type": "markdown",
   "id": "1941283c",
   "metadata": {},
   "source": [
    "### Split down by town"
   ]
  },
  {
   "cell_type": "code",
   "execution_count": 44,
   "id": "4f484404",
   "metadata": {},
   "outputs": [],
   "source": [
    "arundel_food_aspects_pos = df_food[(df_food[\"Town\"] == \"Arundel\") & (df_food[\"Score\"] == \"positive\")]\n",
    "arundel_food_aspects_neg = df_food[(df_food[\"Town\"] == \"Bognor\") & (df_food[\"Score\"] == \"negative\")]\n",
    "bognor_food_aspects_pos = df_food[(df_food[\"Town\"] == \"Bognor\") & (df_food[\"Score\"] == \"positive\")]\n",
    "bognor_food_aspects_neg = df_food[(df_food[\"Town\"] == \"Bognor\") & (df_food[\"Score\"] == \"negative\")]\n",
    "little_food_aspects_pos = df_food[(df_food[\"Town\"] == \"Littlehampton\") & (df_food[\"Score\"] == \"positive\")]\n",
    "little_food_aspects_neg = df_food[(df_food[\"Town\"] == \"Littlehampton\") & (df_food[\"Score\"] == \"negative\")]"
   ]
  },
  {
   "cell_type": "markdown",
   "id": "b79b4e8a",
   "metadata": {},
   "source": [
    "### Arundel"
   ]
  },
  {
   "cell_type": "code",
   "execution_count": 45,
   "id": "223d8fea",
   "metadata": {},
   "outputs": [
    {
     "data": {
      "text/html": [
       "<div>\n",
       "<style scoped>\n",
       "    .dataframe tbody tr th:only-of-type {\n",
       "        vertical-align: middle;\n",
       "    }\n",
       "\n",
       "    .dataframe tbody tr th {\n",
       "        vertical-align: top;\n",
       "    }\n",
       "\n",
       "    .dataframe thead th {\n",
       "        text-align: right;\n",
       "    }\n",
       "</style>\n",
       "<table border=\"1\" class=\"dataframe\">\n",
       "  <thead>\n",
       "    <tr style=\"text-align: right;\">\n",
       "      <th></th>\n",
       "      <th>Num Pos</th>\n",
       "      <th>Num Neg</th>\n",
       "      <th>%Pos</th>\n",
       "      <th>%Neg</th>\n",
       "    </tr>\n",
       "  </thead>\n",
       "  <tbody>\n",
       "    <tr>\n",
       "      <th>Booking&amp;Table</th>\n",
       "      <td>366</td>\n",
       "      <td>82</td>\n",
       "      <td>82.0</td>\n",
       "      <td>18.0</td>\n",
       "    </tr>\n",
       "    <tr>\n",
       "      <th>Choice</th>\n",
       "      <td>421</td>\n",
       "      <td>20</td>\n",
       "      <td>95.0</td>\n",
       "      <td>5.0</td>\n",
       "    </tr>\n",
       "    <tr>\n",
       "      <th>FoodGen</th>\n",
       "      <td>1635</td>\n",
       "      <td>176</td>\n",
       "      <td>90.0</td>\n",
       "      <td>10.0</td>\n",
       "    </tr>\n",
       "    <tr>\n",
       "      <th>FoodPort</th>\n",
       "      <td>281</td>\n",
       "      <td>34</td>\n",
       "      <td>89.0</td>\n",
       "      <td>11.0</td>\n",
       "    </tr>\n",
       "    <tr>\n",
       "      <th>MealExp</th>\n",
       "      <td>441</td>\n",
       "      <td>53</td>\n",
       "      <td>89.0</td>\n",
       "      <td>11.0</td>\n",
       "    </tr>\n",
       "    <tr>\n",
       "      <th>Menu</th>\n",
       "      <td>284</td>\n",
       "      <td>25</td>\n",
       "      <td>92.0</td>\n",
       "      <td>8.0</td>\n",
       "    </tr>\n",
       "    <tr>\n",
       "      <th>Ordering</th>\n",
       "      <td>270</td>\n",
       "      <td>68</td>\n",
       "      <td>80.0</td>\n",
       "      <td>20.0</td>\n",
       "    </tr>\n",
       "    <tr>\n",
       "      <th>Quality</th>\n",
       "      <td>265</td>\n",
       "      <td>56</td>\n",
       "      <td>83.0</td>\n",
       "      <td>17.0</td>\n",
       "    </tr>\n",
       "    <tr>\n",
       "      <th>Service</th>\n",
       "      <td>586</td>\n",
       "      <td>102</td>\n",
       "      <td>85.0</td>\n",
       "      <td>15.0</td>\n",
       "    </tr>\n",
       "    <tr>\n",
       "      <th>StaffGen</th>\n",
       "      <td>656</td>\n",
       "      <td>79</td>\n",
       "      <td>89.0</td>\n",
       "      <td>11.0</td>\n",
       "    </tr>\n",
       "    <tr>\n",
       "      <th>VFM</th>\n",
       "      <td>360</td>\n",
       "      <td>31</td>\n",
       "      <td>92.0</td>\n",
       "      <td>8.0</td>\n",
       "    </tr>\n",
       "    <tr>\n",
       "      <th>VisitExp</th>\n",
       "      <td>495</td>\n",
       "      <td>61</td>\n",
       "      <td>89.0</td>\n",
       "      <td>11.0</td>\n",
       "    </tr>\n",
       "  </tbody>\n",
       "</table>\n",
       "</div>"
      ],
      "text/plain": [
       "               Num Pos  Num Neg  %Pos  %Neg\n",
       "Booking&Table      366       82  82.0  18.0\n",
       "Choice             421       20  95.0   5.0\n",
       "FoodGen           1635      176  90.0  10.0\n",
       "FoodPort           281       34  89.0  11.0\n",
       "MealExp            441       53  89.0  11.0\n",
       "Menu               284       25  92.0   8.0\n",
       "Ordering           270       68  80.0  20.0\n",
       "Quality            265       56  83.0  17.0\n",
       "Service            586      102  85.0  15.0\n",
       "StaffGen           656       79  89.0  11.0\n",
       "VFM                360       31  92.0   8.0\n",
       "VisitExp           495       61  89.0  11.0"
      ]
     },
     "execution_count": 45,
     "metadata": {},
     "output_type": "execute_result"
    }
   ],
   "source": [
    "arundel_percent_food = aspect_perc(arundel_food_aspects_pos,arundel_food_aspects_neg)\n",
    "arundel_percent_food"
   ]
  },
  {
   "cell_type": "code",
   "execution_count": 46,
   "id": "784d73ad",
   "metadata": {},
   "outputs": [
    {
     "data": {
      "image/png": "[encoded data removed]",
      "text/plain": [
       "<Figure size 720x432 with 1 Axes>"
      ]
     },
     "metadata": {
      "needs_background": "light"
     },
     "output_type": "display_data"
    }
   ],
   "source": [
    "graph_sentiment_numbers(\"Food Aspects Arundel\",arundel_percent_food)"
   ]
  },
  {
   "cell_type": "markdown",
   "id": "96207a28",
   "metadata": {},
   "source": [
    "### Bognor"
   ]
  },
  {
   "cell_type": "code",
   "execution_count": 47,
   "id": "465b547a",
   "metadata": {},
   "outputs": [
    {
     "data": {
      "text/html": [
       "<div>\n",
       "<style scoped>\n",
       "    .dataframe tbody tr th:only-of-type {\n",
       "        vertical-align: middle;\n",
       "    }\n",
       "\n",
       "    .dataframe tbody tr th {\n",
       "        vertical-align: top;\n",
       "    }\n",
       "\n",
       "    .dataframe thead th {\n",
       "        text-align: right;\n",
       "    }\n",
       "</style>\n",
       "<table border=\"1\" class=\"dataframe\">\n",
       "  <thead>\n",
       "    <tr style=\"text-align: right;\">\n",
       "      <th></th>\n",
       "      <th>Num Pos</th>\n",
       "      <th>Num Neg</th>\n",
       "      <th>%Pos</th>\n",
       "      <th>%Neg</th>\n",
       "    </tr>\n",
       "  </thead>\n",
       "  <tbody>\n",
       "    <tr>\n",
       "      <th>Booking&amp;Table</th>\n",
       "      <td>230</td>\n",
       "      <td>82</td>\n",
       "      <td>74.0</td>\n",
       "      <td>26.0</td>\n",
       "    </tr>\n",
       "    <tr>\n",
       "      <th>Choice</th>\n",
       "      <td>345</td>\n",
       "      <td>20</td>\n",
       "      <td>95.0</td>\n",
       "      <td>5.0</td>\n",
       "    </tr>\n",
       "    <tr>\n",
       "      <th>FoodGen</th>\n",
       "      <td>1629</td>\n",
       "      <td>176</td>\n",
       "      <td>90.0</td>\n",
       "      <td>10.0</td>\n",
       "    </tr>\n",
       "    <tr>\n",
       "      <th>FoodPort</th>\n",
       "      <td>277</td>\n",
       "      <td>34</td>\n",
       "      <td>89.0</td>\n",
       "      <td>11.0</td>\n",
       "    </tr>\n",
       "    <tr>\n",
       "      <th>MealExp</th>\n",
       "      <td>481</td>\n",
       "      <td>53</td>\n",
       "      <td>90.0</td>\n",
       "      <td>10.0</td>\n",
       "    </tr>\n",
       "    <tr>\n",
       "      <th>Menu</th>\n",
       "      <td>249</td>\n",
       "      <td>25</td>\n",
       "      <td>91.0</td>\n",
       "      <td>9.0</td>\n",
       "    </tr>\n",
       "    <tr>\n",
       "      <th>Ordering</th>\n",
       "      <td>245</td>\n",
       "      <td>68</td>\n",
       "      <td>78.0</td>\n",
       "      <td>22.0</td>\n",
       "    </tr>\n",
       "    <tr>\n",
       "      <th>Quality</th>\n",
       "      <td>285</td>\n",
       "      <td>56</td>\n",
       "      <td>84.0</td>\n",
       "      <td>16.0</td>\n",
       "    </tr>\n",
       "    <tr>\n",
       "      <th>Service</th>\n",
       "      <td>742</td>\n",
       "      <td>102</td>\n",
       "      <td>88.0</td>\n",
       "      <td>12.0</td>\n",
       "    </tr>\n",
       "    <tr>\n",
       "      <th>StaffGen</th>\n",
       "      <td>646</td>\n",
       "      <td>79</td>\n",
       "      <td>89.0</td>\n",
       "      <td>11.0</td>\n",
       "    </tr>\n",
       "    <tr>\n",
       "      <th>VFM</th>\n",
       "      <td>394</td>\n",
       "      <td>31</td>\n",
       "      <td>93.0</td>\n",
       "      <td>7.0</td>\n",
       "    </tr>\n",
       "    <tr>\n",
       "      <th>VisitExp</th>\n",
       "      <td>440</td>\n",
       "      <td>61</td>\n",
       "      <td>88.0</td>\n",
       "      <td>12.0</td>\n",
       "    </tr>\n",
       "  </tbody>\n",
       "</table>\n",
       "</div>"
      ],
      "text/plain": [
       "               Num Pos  Num Neg  %Pos  %Neg\n",
       "Booking&Table      230       82  74.0  26.0\n",
       "Choice             345       20  95.0   5.0\n",
       "FoodGen           1629      176  90.0  10.0\n",
       "FoodPort           277       34  89.0  11.0\n",
       "MealExp            481       53  90.0  10.0\n",
       "Menu               249       25  91.0   9.0\n",
       "Ordering           245       68  78.0  22.0\n",
       "Quality            285       56  84.0  16.0\n",
       "Service            742      102  88.0  12.0\n",
       "StaffGen           646       79  89.0  11.0\n",
       "VFM                394       31  93.0   7.0\n",
       "VisitExp           440       61  88.0  12.0"
      ]
     },
     "execution_count": 47,
     "metadata": {},
     "output_type": "execute_result"
    }
   ],
   "source": [
    "bognor_percent_food = aspect_perc(bognor_food_aspects_pos,bognor_food_aspects_neg)\n",
    "bognor_percent_food"
   ]
  },
  {
   "cell_type": "code",
   "execution_count": 48,
   "id": "4668f8f9",
   "metadata": {},
   "outputs": [
    {
     "data": {
      "image/png": "[encoded data removed]",
      "text/plain": [
       "<Figure size 720x432 with 1 Axes>"
      ]
     },
     "metadata": {
      "needs_background": "light"
     },
     "output_type": "display_data"
    }
   ],
   "source": [
    "graph_sentiment_numbers(\"Food Aspects Bognor\",bognor_percent_food)"
   ]
  },
  {
   "cell_type": "markdown",
   "id": "e4285c5d",
   "metadata": {},
   "source": [
    "### Littlehampton"
   ]
  },
  {
   "cell_type": "code",
   "execution_count": 49,
   "id": "8d9104a7",
   "metadata": {},
   "outputs": [
    {
     "data": {
      "text/html": [
       "<div>\n",
       "<style scoped>\n",
       "    .dataframe tbody tr th:only-of-type {\n",
       "        vertical-align: middle;\n",
       "    }\n",
       "\n",
       "    .dataframe tbody tr th {\n",
       "        vertical-align: top;\n",
       "    }\n",
       "\n",
       "    .dataframe thead th {\n",
       "        text-align: right;\n",
       "    }\n",
       "</style>\n",
       "<table border=\"1\" class=\"dataframe\">\n",
       "  <thead>\n",
       "    <tr style=\"text-align: right;\">\n",
       "      <th></th>\n",
       "      <th>Num Pos</th>\n",
       "      <th>Num Neg</th>\n",
       "      <th>%Pos</th>\n",
       "      <th>%Neg</th>\n",
       "    </tr>\n",
       "  </thead>\n",
       "  <tbody>\n",
       "    <tr>\n",
       "      <th>Booking&amp;Table</th>\n",
       "      <td>294</td>\n",
       "      <td>84</td>\n",
       "      <td>78.0</td>\n",
       "      <td>22.0</td>\n",
       "    </tr>\n",
       "    <tr>\n",
       "      <th>Choice</th>\n",
       "      <td>263</td>\n",
       "      <td>42</td>\n",
       "      <td>86.0</td>\n",
       "      <td>14.0</td>\n",
       "    </tr>\n",
       "    <tr>\n",
       "      <th>FoodGen</th>\n",
       "      <td>1263</td>\n",
       "      <td>153</td>\n",
       "      <td>89.0</td>\n",
       "      <td>11.0</td>\n",
       "    </tr>\n",
       "    <tr>\n",
       "      <th>FoodPort</th>\n",
       "      <td>219</td>\n",
       "      <td>30</td>\n",
       "      <td>88.0</td>\n",
       "      <td>12.0</td>\n",
       "    </tr>\n",
       "    <tr>\n",
       "      <th>MealExp</th>\n",
       "      <td>388</td>\n",
       "      <td>58</td>\n",
       "      <td>87.0</td>\n",
       "      <td>13.0</td>\n",
       "    </tr>\n",
       "    <tr>\n",
       "      <th>Menu</th>\n",
       "      <td>225</td>\n",
       "      <td>35</td>\n",
       "      <td>87.0</td>\n",
       "      <td>13.0</td>\n",
       "    </tr>\n",
       "    <tr>\n",
       "      <th>Ordering</th>\n",
       "      <td>202</td>\n",
       "      <td>43</td>\n",
       "      <td>82.0</td>\n",
       "      <td>18.0</td>\n",
       "    </tr>\n",
       "    <tr>\n",
       "      <th>Quality</th>\n",
       "      <td>266</td>\n",
       "      <td>53</td>\n",
       "      <td>83.0</td>\n",
       "      <td>17.0</td>\n",
       "    </tr>\n",
       "    <tr>\n",
       "      <th>Service</th>\n",
       "      <td>488</td>\n",
       "      <td>83</td>\n",
       "      <td>85.0</td>\n",
       "      <td>15.0</td>\n",
       "    </tr>\n",
       "    <tr>\n",
       "      <th>StaffGen</th>\n",
       "      <td>529</td>\n",
       "      <td>89</td>\n",
       "      <td>86.0</td>\n",
       "      <td>14.0</td>\n",
       "    </tr>\n",
       "    <tr>\n",
       "      <th>VFM</th>\n",
       "      <td>303</td>\n",
       "      <td>26</td>\n",
       "      <td>92.0</td>\n",
       "      <td>8.0</td>\n",
       "    </tr>\n",
       "    <tr>\n",
       "      <th>VisitExp</th>\n",
       "      <td>354</td>\n",
       "      <td>82</td>\n",
       "      <td>81.0</td>\n",
       "      <td>19.0</td>\n",
       "    </tr>\n",
       "  </tbody>\n",
       "</table>\n",
       "</div>"
      ],
      "text/plain": [
       "               Num Pos  Num Neg  %Pos  %Neg\n",
       "Booking&Table      294       84  78.0  22.0\n",
       "Choice             263       42  86.0  14.0\n",
       "FoodGen           1263      153  89.0  11.0\n",
       "FoodPort           219       30  88.0  12.0\n",
       "MealExp            388       58  87.0  13.0\n",
       "Menu               225       35  87.0  13.0\n",
       "Ordering           202       43  82.0  18.0\n",
       "Quality            266       53  83.0  17.0\n",
       "Service            488       83  85.0  15.0\n",
       "StaffGen           529       89  86.0  14.0\n",
       "VFM                303       26  92.0   8.0\n",
       "VisitExp           354       82  81.0  19.0"
      ]
     },
     "execution_count": 49,
     "metadata": {},
     "output_type": "execute_result"
    }
   ],
   "source": [
    "little_percent_food = aspect_perc(little_food_aspects_pos,little_food_aspects_neg)\n",
    "little_percent_food"
   ]
  },
  {
   "cell_type": "code",
   "execution_count": 50,
   "id": "aaf015f9",
   "metadata": {},
   "outputs": [
    {
     "data": {
      "image/png": "[encoded data removed]",
      "text/plain": [
       "<Figure size 720x432 with 1 Axes>"
      ]
     },
     "metadata": {
      "needs_background": "light"
     },
     "output_type": "display_data"
    }
   ],
   "source": [
    "graph_sentiment_numbers(\"Food Aspects Littlehampton\",little_percent_food)"
   ]
  },
  {
   "cell_type": "markdown",
   "id": "424d1e22",
   "metadata": {},
   "source": [
    "### Attractions"
   ]
  },
  {
   "cell_type": "code",
   "execution_count": 51,
   "id": "72bbcec4",
   "metadata": {},
   "outputs": [
    {
     "data": {
      "text/html": [
       "<div>\n",
       "<style scoped>\n",
       "    .dataframe tbody tr th:only-of-type {\n",
       "        vertical-align: middle;\n",
       "    }\n",
       "\n",
       "    .dataframe tbody tr th {\n",
       "        vertical-align: top;\n",
       "    }\n",
       "\n",
       "    .dataframe thead th {\n",
       "        text-align: right;\n",
       "    }\n",
       "</style>\n",
       "<table border=\"1\" class=\"dataframe\">\n",
       "  <thead>\n",
       "    <tr style=\"text-align: right;\">\n",
       "      <th></th>\n",
       "      <th>Num Pos</th>\n",
       "      <th>Num Neg</th>\n",
       "      <th>%Pos</th>\n",
       "      <th>%Neg</th>\n",
       "    </tr>\n",
       "  </thead>\n",
       "  <tbody>\n",
       "    <tr>\n",
       "      <th>BeachFac</th>\n",
       "      <td>212</td>\n",
       "      <td>18</td>\n",
       "      <td>92.0</td>\n",
       "      <td>8.0</td>\n",
       "    </tr>\n",
       "    <tr>\n",
       "      <th>FamilyExp</th>\n",
       "      <td>565</td>\n",
       "      <td>50</td>\n",
       "      <td>92.0</td>\n",
       "      <td>8.0</td>\n",
       "    </tr>\n",
       "    <tr>\n",
       "      <th>Food</th>\n",
       "      <td>299</td>\n",
       "      <td>40</td>\n",
       "      <td>88.0</td>\n",
       "      <td>12.0</td>\n",
       "    </tr>\n",
       "    <tr>\n",
       "      <th>Gardens&amp;Grounds</th>\n",
       "      <td>221</td>\n",
       "      <td>23</td>\n",
       "      <td>91.0</td>\n",
       "      <td>9.0</td>\n",
       "    </tr>\n",
       "    <tr>\n",
       "      <th>Kids&amp;PlayArea</th>\n",
       "      <td>225</td>\n",
       "      <td>51</td>\n",
       "      <td>82.0</td>\n",
       "      <td>18.0</td>\n",
       "    </tr>\n",
       "    <tr>\n",
       "      <th>Parking</th>\n",
       "      <td>131</td>\n",
       "      <td>18</td>\n",
       "      <td>88.0</td>\n",
       "      <td>12.0</td>\n",
       "    </tr>\n",
       "    <tr>\n",
       "      <th>Place</th>\n",
       "      <td>180</td>\n",
       "      <td>10</td>\n",
       "      <td>95.0</td>\n",
       "      <td>5.0</td>\n",
       "    </tr>\n",
       "    <tr>\n",
       "      <th>Shop&amp;Amenties</th>\n",
       "      <td>215</td>\n",
       "      <td>26</td>\n",
       "      <td>89.0</td>\n",
       "      <td>11.0</td>\n",
       "    </tr>\n",
       "    <tr>\n",
       "      <th>Staff</th>\n",
       "      <td>192</td>\n",
       "      <td>15</td>\n",
       "      <td>93.0</td>\n",
       "      <td>7.0</td>\n",
       "    </tr>\n",
       "    <tr>\n",
       "      <th>VFM</th>\n",
       "      <td>218</td>\n",
       "      <td>42</td>\n",
       "      <td>84.0</td>\n",
       "      <td>16.0</td>\n",
       "    </tr>\n",
       "    <tr>\n",
       "      <th>VisitExp</th>\n",
       "      <td>431</td>\n",
       "      <td>45</td>\n",
       "      <td>91.0</td>\n",
       "      <td>9.0</td>\n",
       "    </tr>\n",
       "    <tr>\n",
       "      <th>Walking</th>\n",
       "      <td>262</td>\n",
       "      <td>9</td>\n",
       "      <td>97.0</td>\n",
       "      <td>3.0</td>\n",
       "    </tr>\n",
       "  </tbody>\n",
       "</table>\n",
       "</div>"
      ],
      "text/plain": [
       "                 Num Pos  Num Neg  %Pos  %Neg\n",
       "BeachFac             212       18  92.0   8.0\n",
       "FamilyExp            565       50  92.0   8.0\n",
       "Food                 299       40  88.0  12.0\n",
       "Gardens&Grounds      221       23  91.0   9.0\n",
       "Kids&PlayArea        225       51  82.0  18.0\n",
       "Parking              131       18  88.0  12.0\n",
       "Place                180       10  95.0   5.0\n",
       "Shop&Amenties        215       26  89.0  11.0\n",
       "Staff                192       15  93.0   7.0\n",
       "VFM                  218       42  84.0  16.0\n",
       "VisitExp             431       45  91.0   9.0\n",
       "Walking              262        9  97.0   3.0"
      ]
     },
     "execution_count": 51,
     "metadata": {},
     "output_type": "execute_result"
    }
   ],
   "source": [
    "attract_sent = aspect_all(df_attract)\n",
    "attract_sent"
   ]
  },
  {
   "cell_type": "code",
   "execution_count": 52,
   "id": "bfaf3b96",
   "metadata": {},
   "outputs": [
    {
     "data": {
      "image/png": "[encoded data removed]",
      "text/plain": [
       "<Figure size 720x432 with 1 Axes>"
      ]
     },
     "metadata": {
      "needs_background": "light"
     },
     "output_type": "display_data"
    }
   ],
   "source": [
    "graph_sentiment_numbers(\"Attraction Aspects Arun\",attract_sent)"
   ]
  },
  {
   "cell_type": "markdown",
   "id": "6e17cdd9",
   "metadata": {},
   "source": [
    "## Split down by town"
   ]
  },
  {
   "cell_type": "code",
   "execution_count": 53,
   "id": "ea397c0e",
   "metadata": {},
   "outputs": [],
   "source": [
    "arundel_attract_aspects_pos = df_attract[(df_attract[\"Town\"] == \"Arundel\") & (df_attract[\"Score\"] == \"positive\")]\n",
    "arundel_attract_aspects_neg = df_attract[(df_attract[\"Town\"] == \"Bognor\") & (df_attract[\"Score\"] == \"negative\")]\n",
    "bognor_attract_aspects_pos = df_attract[(df_attract[\"Town\"] == \"Bognor\") & (df_attract[\"Score\"] == \"positive\")]\n",
    "bognor_attract_aspects_neg = df_attract[(df_attract[\"Town\"] == \"Bognor\") & (df_attract[\"Score\"] == \"negative\")]\n",
    "little_attract_aspects_pos = df_attract[(df_attract[\"Town\"] == \"Littlehampton\") & (df_attract[\"Score\"] == \"positive\")]\n",
    "little_attract_aspects_neg = df_attract[(df_attract[\"Town\"] == \"Littlehampton\") & (df_attract[\"Score\"] == \"negative\")]"
   ]
  },
  {
   "cell_type": "markdown",
   "id": "d60faa4e",
   "metadata": {},
   "source": [
    "### Arundel"
   ]
  },
  {
   "cell_type": "code",
   "execution_count": 54,
   "id": "0ac95a83",
   "metadata": {},
   "outputs": [
    {
     "data": {
      "text/html": [
       "<div>\n",
       "<style scoped>\n",
       "    .dataframe tbody tr th:only-of-type {\n",
       "        vertical-align: middle;\n",
       "    }\n",
       "\n",
       "    .dataframe tbody tr th {\n",
       "        vertical-align: top;\n",
       "    }\n",
       "\n",
       "    .dataframe thead th {\n",
       "        text-align: right;\n",
       "    }\n",
       "</style>\n",
       "<table border=\"1\" class=\"dataframe\">\n",
       "  <thead>\n",
       "    <tr style=\"text-align: right;\">\n",
       "      <th></th>\n",
       "      <th>Num Pos</th>\n",
       "      <th>Num Neg</th>\n",
       "      <th>%Pos</th>\n",
       "      <th>%Neg</th>\n",
       "    </tr>\n",
       "  </thead>\n",
       "  <tbody>\n",
       "    <tr>\n",
       "      <th>BeachFac</th>\n",
       "      <td>89</td>\n",
       "      <td>10</td>\n",
       "      <td>90.0</td>\n",
       "      <td>10.0</td>\n",
       "    </tr>\n",
       "    <tr>\n",
       "      <th>FamilyExp</th>\n",
       "      <td>295</td>\n",
       "      <td>17</td>\n",
       "      <td>95.0</td>\n",
       "      <td>5.0</td>\n",
       "    </tr>\n",
       "    <tr>\n",
       "      <th>Food</th>\n",
       "      <td>174</td>\n",
       "      <td>6</td>\n",
       "      <td>97.0</td>\n",
       "      <td>3.0</td>\n",
       "    </tr>\n",
       "    <tr>\n",
       "      <th>Gardens&amp;Grounds</th>\n",
       "      <td>199</td>\n",
       "      <td>3</td>\n",
       "      <td>99.0</td>\n",
       "      <td>1.0</td>\n",
       "    </tr>\n",
       "    <tr>\n",
       "      <th>Kids&amp;PlayArea</th>\n",
       "      <td>125</td>\n",
       "      <td>15</td>\n",
       "      <td>89.0</td>\n",
       "      <td>11.0</td>\n",
       "    </tr>\n",
       "    <tr>\n",
       "      <th>Parking</th>\n",
       "      <td>47</td>\n",
       "      <td>7</td>\n",
       "      <td>87.0</td>\n",
       "      <td>13.0</td>\n",
       "    </tr>\n",
       "    <tr>\n",
       "      <th>Place</th>\n",
       "      <td>103</td>\n",
       "      <td>4</td>\n",
       "      <td>96.0</td>\n",
       "      <td>4.0</td>\n",
       "    </tr>\n",
       "    <tr>\n",
       "      <th>Shop&amp;Amenties</th>\n",
       "      <td>134</td>\n",
       "      <td>11</td>\n",
       "      <td>92.0</td>\n",
       "      <td>8.0</td>\n",
       "    </tr>\n",
       "    <tr>\n",
       "      <th>Staff</th>\n",
       "      <td>100</td>\n",
       "      <td>2</td>\n",
       "      <td>98.0</td>\n",
       "      <td>2.0</td>\n",
       "    </tr>\n",
       "    <tr>\n",
       "      <th>VFM</th>\n",
       "      <td>61</td>\n",
       "      <td>24</td>\n",
       "      <td>72.0</td>\n",
       "      <td>28.0</td>\n",
       "    </tr>\n",
       "    <tr>\n",
       "      <th>VisitExp</th>\n",
       "      <td>273</td>\n",
       "      <td>8</td>\n",
       "      <td>97.0</td>\n",
       "      <td>3.0</td>\n",
       "    </tr>\n",
       "    <tr>\n",
       "      <th>Walking</th>\n",
       "      <td>188</td>\n",
       "      <td>2</td>\n",
       "      <td>99.0</td>\n",
       "      <td>1.0</td>\n",
       "    </tr>\n",
       "  </tbody>\n",
       "</table>\n",
       "</div>"
      ],
      "text/plain": [
       "                 Num Pos  Num Neg  %Pos  %Neg\n",
       "BeachFac              89       10  90.0  10.0\n",
       "FamilyExp            295       17  95.0   5.0\n",
       "Food                 174        6  97.0   3.0\n",
       "Gardens&Grounds      199        3  99.0   1.0\n",
       "Kids&PlayArea        125       15  89.0  11.0\n",
       "Parking               47        7  87.0  13.0\n",
       "Place                103        4  96.0   4.0\n",
       "Shop&Amenties        134       11  92.0   8.0\n",
       "Staff                100        2  98.0   2.0\n",
       "VFM                   61       24  72.0  28.0\n",
       "VisitExp             273        8  97.0   3.0\n",
       "Walking              188        2  99.0   1.0"
      ]
     },
     "execution_count": 54,
     "metadata": {},
     "output_type": "execute_result"
    }
   ],
   "source": [
    "arundel_percent_attract = aspect_perc(arundel_attract_aspects_pos,arundel_attract_aspects_neg)\n",
    "arundel_percent_attract"
   ]
  },
  {
   "cell_type": "code",
   "execution_count": 55,
   "id": "2d158893",
   "metadata": {},
   "outputs": [
    {
     "data": {
      "image/png": "[encoded data removed]",
      "text/plain": [
       "<Figure size 720x432 with 1 Axes>"
      ]
     },
     "metadata": {
      "needs_background": "light"
     },
     "output_type": "display_data"
    }
   ],
   "source": [
    "graph_sentiment_numbers(\"Attraction Aspects Arundel\",arundel_percent_attract)"
   ]
  },
  {
   "cell_type": "markdown",
   "id": "79c8fa66",
   "metadata": {},
   "source": [
    "### Bognor"
   ]
  },
  {
   "cell_type": "code",
   "execution_count": 56,
   "id": "680d4bd2",
   "metadata": {},
   "outputs": [
    {
     "data": {
      "text/html": [
       "<div>\n",
       "<style scoped>\n",
       "    .dataframe tbody tr th:only-of-type {\n",
       "        vertical-align: middle;\n",
       "    }\n",
       "\n",
       "    .dataframe tbody tr th {\n",
       "        vertical-align: top;\n",
       "    }\n",
       "\n",
       "    .dataframe thead th {\n",
       "        text-align: right;\n",
       "    }\n",
       "</style>\n",
       "<table border=\"1\" class=\"dataframe\">\n",
       "  <thead>\n",
       "    <tr style=\"text-align: right;\">\n",
       "      <th></th>\n",
       "      <th>Num Pos</th>\n",
       "      <th>Num Neg</th>\n",
       "      <th>%Pos</th>\n",
       "      <th>%Neg</th>\n",
       "    </tr>\n",
       "  </thead>\n",
       "  <tbody>\n",
       "    <tr>\n",
       "      <th>BeachFac</th>\n",
       "      <td>42</td>\n",
       "      <td>10</td>\n",
       "      <td>81.0</td>\n",
       "      <td>19.0</td>\n",
       "    </tr>\n",
       "    <tr>\n",
       "      <th>FamilyExp</th>\n",
       "      <td>177</td>\n",
       "      <td>17</td>\n",
       "      <td>91.0</td>\n",
       "      <td>9.0</td>\n",
       "    </tr>\n",
       "    <tr>\n",
       "      <th>Food</th>\n",
       "      <td>74</td>\n",
       "      <td>6</td>\n",
       "      <td>92.0</td>\n",
       "      <td>8.0</td>\n",
       "    </tr>\n",
       "    <tr>\n",
       "      <th>Gardens&amp;Grounds</th>\n",
       "      <td>14</td>\n",
       "      <td>3</td>\n",
       "      <td>82.0</td>\n",
       "      <td>18.0</td>\n",
       "    </tr>\n",
       "    <tr>\n",
       "      <th>Kids&amp;PlayArea</th>\n",
       "      <td>50</td>\n",
       "      <td>15</td>\n",
       "      <td>77.0</td>\n",
       "      <td>23.0</td>\n",
       "    </tr>\n",
       "    <tr>\n",
       "      <th>Parking</th>\n",
       "      <td>64</td>\n",
       "      <td>7</td>\n",
       "      <td>90.0</td>\n",
       "      <td>10.0</td>\n",
       "    </tr>\n",
       "    <tr>\n",
       "      <th>Place</th>\n",
       "      <td>53</td>\n",
       "      <td>4</td>\n",
       "      <td>93.0</td>\n",
       "      <td>7.0</td>\n",
       "    </tr>\n",
       "    <tr>\n",
       "      <th>Shop&amp;Amenties</th>\n",
       "      <td>46</td>\n",
       "      <td>11</td>\n",
       "      <td>81.0</td>\n",
       "      <td>19.0</td>\n",
       "    </tr>\n",
       "    <tr>\n",
       "      <th>Staff</th>\n",
       "      <td>52</td>\n",
       "      <td>2</td>\n",
       "      <td>96.0</td>\n",
       "      <td>4.0</td>\n",
       "    </tr>\n",
       "    <tr>\n",
       "      <th>VFM</th>\n",
       "      <td>114</td>\n",
       "      <td>24</td>\n",
       "      <td>83.0</td>\n",
       "      <td>17.0</td>\n",
       "    </tr>\n",
       "    <tr>\n",
       "      <th>VisitExp</th>\n",
       "      <td>100</td>\n",
       "      <td>8</td>\n",
       "      <td>93.0</td>\n",
       "      <td>7.0</td>\n",
       "    </tr>\n",
       "    <tr>\n",
       "      <th>Walking</th>\n",
       "      <td>38</td>\n",
       "      <td>2</td>\n",
       "      <td>95.0</td>\n",
       "      <td>5.0</td>\n",
       "    </tr>\n",
       "  </tbody>\n",
       "</table>\n",
       "</div>"
      ],
      "text/plain": [
       "                 Num Pos  Num Neg  %Pos  %Neg\n",
       "BeachFac              42       10  81.0  19.0\n",
       "FamilyExp            177       17  91.0   9.0\n",
       "Food                  74        6  92.0   8.0\n",
       "Gardens&Grounds       14        3  82.0  18.0\n",
       "Kids&PlayArea         50       15  77.0  23.0\n",
       "Parking               64        7  90.0  10.0\n",
       "Place                 53        4  93.0   7.0\n",
       "Shop&Amenties         46       11  81.0  19.0\n",
       "Staff                 52        2  96.0   4.0\n",
       "VFM                  114       24  83.0  17.0\n",
       "VisitExp             100        8  93.0   7.0\n",
       "Walking               38        2  95.0   5.0"
      ]
     },
     "execution_count": 56,
     "metadata": {},
     "output_type": "execute_result"
    }
   ],
   "source": [
    "bognor_percent_attract = aspect_perc(bognor_attract_aspects_pos,bognor_attract_aspects_neg)\n",
    "bognor_percent_attract"
   ]
  },
  {
   "cell_type": "code",
   "execution_count": 57,
   "id": "6091fd64",
   "metadata": {},
   "outputs": [
    {
     "data": {
      "image/png": "[encoded data removed]",
      "text/plain": [
       "<Figure size 720x432 with 1 Axes>"
      ]
     },
     "metadata": {
      "needs_background": "light"
     },
     "output_type": "display_data"
    }
   ],
   "source": [
    "graph_sentiment_numbers(\"Attraction Aspects Bognor\",bognor_percent_attract)"
   ]
  },
  {
   "cell_type": "markdown",
   "id": "cad09de4",
   "metadata": {},
   "source": [
    "### Littlehampton"
   ]
  },
  {
   "cell_type": "code",
   "execution_count": 58,
   "id": "03adcda6",
   "metadata": {},
   "outputs": [
    {
     "data": {
      "text/html": [
       "<div>\n",
       "<style scoped>\n",
       "    .dataframe tbody tr th:only-of-type {\n",
       "        vertical-align: middle;\n",
       "    }\n",
       "\n",
       "    .dataframe tbody tr th {\n",
       "        vertical-align: top;\n",
       "    }\n",
       "\n",
       "    .dataframe thead th {\n",
       "        text-align: right;\n",
       "    }\n",
       "</style>\n",
       "<table border=\"1\" class=\"dataframe\">\n",
       "  <thead>\n",
       "    <tr style=\"text-align: right;\">\n",
       "      <th></th>\n",
       "      <th>Num Pos</th>\n",
       "      <th>Num Neg</th>\n",
       "      <th>%Pos</th>\n",
       "      <th>%Neg</th>\n",
       "    </tr>\n",
       "  </thead>\n",
       "  <tbody>\n",
       "    <tr>\n",
       "      <th>BeachFac</th>\n",
       "      <td>81</td>\n",
       "      <td>5</td>\n",
       "      <td>94.0</td>\n",
       "      <td>6.0</td>\n",
       "    </tr>\n",
       "    <tr>\n",
       "      <th>FamilyExp</th>\n",
       "      <td>93</td>\n",
       "      <td>9</td>\n",
       "      <td>91.0</td>\n",
       "      <td>9.0</td>\n",
       "    </tr>\n",
       "    <tr>\n",
       "      <th>Food</th>\n",
       "      <td>51</td>\n",
       "      <td>13</td>\n",
       "      <td>80.0</td>\n",
       "      <td>20.0</td>\n",
       "    </tr>\n",
       "    <tr>\n",
       "      <th>Gardens&amp;Grounds</th>\n",
       "      <td>8</td>\n",
       "      <td>2</td>\n",
       "      <td>80.0</td>\n",
       "      <td>20.0</td>\n",
       "    </tr>\n",
       "    <tr>\n",
       "      <th>Kids&amp;PlayArea</th>\n",
       "      <td>50</td>\n",
       "      <td>2</td>\n",
       "      <td>96.0</td>\n",
       "      <td>4.0</td>\n",
       "    </tr>\n",
       "    <tr>\n",
       "      <th>Parking</th>\n",
       "      <td>20</td>\n",
       "      <td>4</td>\n",
       "      <td>83.0</td>\n",
       "      <td>17.0</td>\n",
       "    </tr>\n",
       "    <tr>\n",
       "      <th>Place</th>\n",
       "      <td>24</td>\n",
       "      <td>2</td>\n",
       "      <td>92.0</td>\n",
       "      <td>8.0</td>\n",
       "    </tr>\n",
       "    <tr>\n",
       "      <th>Shop&amp;Amenties</th>\n",
       "      <td>35</td>\n",
       "      <td>8</td>\n",
       "      <td>81.0</td>\n",
       "      <td>19.0</td>\n",
       "    </tr>\n",
       "    <tr>\n",
       "      <th>Staff</th>\n",
       "      <td>40</td>\n",
       "      <td>3</td>\n",
       "      <td>93.0</td>\n",
       "      <td>7.0</td>\n",
       "    </tr>\n",
       "    <tr>\n",
       "      <th>VFM</th>\n",
       "      <td>43</td>\n",
       "      <td>10</td>\n",
       "      <td>81.0</td>\n",
       "      <td>19.0</td>\n",
       "    </tr>\n",
       "    <tr>\n",
       "      <th>VisitExp</th>\n",
       "      <td>58</td>\n",
       "      <td>13</td>\n",
       "      <td>82.0</td>\n",
       "      <td>18.0</td>\n",
       "    </tr>\n",
       "    <tr>\n",
       "      <th>Walking</th>\n",
       "      <td>36</td>\n",
       "      <td>3</td>\n",
       "      <td>92.0</td>\n",
       "      <td>8.0</td>\n",
       "    </tr>\n",
       "  </tbody>\n",
       "</table>\n",
       "</div>"
      ],
      "text/plain": [
       "                 Num Pos  Num Neg  %Pos  %Neg\n",
       "BeachFac              81        5  94.0   6.0\n",
       "FamilyExp             93        9  91.0   9.0\n",
       "Food                  51       13  80.0  20.0\n",
       "Gardens&Grounds        8        2  80.0  20.0\n",
       "Kids&PlayArea         50        2  96.0   4.0\n",
       "Parking               20        4  83.0  17.0\n",
       "Place                 24        2  92.0   8.0\n",
       "Shop&Amenties         35        8  81.0  19.0\n",
       "Staff                 40        3  93.0   7.0\n",
       "VFM                   43       10  81.0  19.0\n",
       "VisitExp              58       13  82.0  18.0\n",
       "Walking               36        3  92.0   8.0"
      ]
     },
     "execution_count": 58,
     "metadata": {},
     "output_type": "execute_result"
    }
   ],
   "source": [
    "little_percent_attract = aspect_perc(little_attract_aspects_pos,little_attract_aspects_neg)\n",
    "little_percent_attract"
   ]
  },
  {
   "cell_type": "code",
   "execution_count": 59,
   "id": "687302aa",
   "metadata": {},
   "outputs": [
    {
     "data": {
      "image/png": "[encoded data removed]",
      "text/plain": [
       "<Figure size 720x432 with 1 Axes>"
      ]
     },
     "metadata": {
      "needs_background": "light"
     },
     "output_type": "display_data"
    }
   ],
   "source": [
    "graph_sentiment_numbers(\"Attraction Aspects Littlehampton\",little_percent_attract)"
   ]
  },
  {
   "cell_type": "markdown",
   "id": "e9de8b59",
   "metadata": {},
   "source": [
    "# Section 4: Sentiment Scores across categories"
   ]
  },
  {
   "cell_type": "markdown",
   "id": "65c7cff2",
   "metadata": {},
   "source": [
    "Across the district, what aspects were people most positive about?"
   ]
  },
  {
   "cell_type": "markdown",
   "id": "981538e2",
   "metadata": {},
   "source": [
    "## Accommodation"
   ]
  },
  {
   "cell_type": "code",
   "execution_count": 60,
   "id": "da63a9d0",
   "metadata": {},
   "outputs": [
    {
     "data": {
      "text/html": [
       "<div>\n",
       "<style scoped>\n",
       "    .dataframe tbody tr th:only-of-type {\n",
       "        vertical-align: middle;\n",
       "    }\n",
       "\n",
       "    .dataframe tbody tr th {\n",
       "        vertical-align: top;\n",
       "    }\n",
       "\n",
       "    .dataframe thead th {\n",
       "        text-align: right;\n",
       "    }\n",
       "</style>\n",
       "<table border=\"1\" class=\"dataframe\">\n",
       "  <thead>\n",
       "    <tr style=\"text-align: right;\">\n",
       "      <th></th>\n",
       "      <th>Topic Count</th>\n",
       "      <th>Sentiment</th>\n",
       "    </tr>\n",
       "  </thead>\n",
       "  <tbody>\n",
       "    <tr>\n",
       "      <th>2</th>\n",
       "      <td>FamilyExp</td>\n",
       "      <td>0.453345</td>\n",
       "    </tr>\n",
       "    <tr>\n",
       "      <th>6</th>\n",
       "      <td>Location</td>\n",
       "      <td>0.443510</td>\n",
       "    </tr>\n",
       "    <tr>\n",
       "      <th>12</th>\n",
       "      <td>Service&amp;Staff</td>\n",
       "      <td>0.436200</td>\n",
       "    </tr>\n",
       "    <tr>\n",
       "      <th>3</th>\n",
       "      <td>Food</td>\n",
       "      <td>0.425977</td>\n",
       "    </tr>\n",
       "    <tr>\n",
       "      <th>4</th>\n",
       "      <td>HotelGen</td>\n",
       "      <td>0.421597</td>\n",
       "    </tr>\n",
       "    <tr>\n",
       "      <th>13</th>\n",
       "      <td>Value</td>\n",
       "      <td>0.415387</td>\n",
       "    </tr>\n",
       "    <tr>\n",
       "      <th>11</th>\n",
       "      <td>RoomFac</td>\n",
       "      <td>0.368441</td>\n",
       "    </tr>\n",
       "    <tr>\n",
       "      <th>10</th>\n",
       "      <td>RoomComf</td>\n",
       "      <td>0.356394</td>\n",
       "    </tr>\n",
       "    <tr>\n",
       "      <th>9</th>\n",
       "      <td>Room</td>\n",
       "      <td>0.333280</td>\n",
       "    </tr>\n",
       "    <tr>\n",
       "      <th>0</th>\n",
       "      <td>CustServ</td>\n",
       "      <td>0.331614</td>\n",
       "    </tr>\n",
       "    <tr>\n",
       "      <th>1</th>\n",
       "      <td>Entertainment&amp;Activities</td>\n",
       "      <td>0.330548</td>\n",
       "    </tr>\n",
       "    <tr>\n",
       "      <th>5</th>\n",
       "      <td>Leisure</td>\n",
       "      <td>0.325689</td>\n",
       "    </tr>\n",
       "    <tr>\n",
       "      <th>7</th>\n",
       "      <td>MealExp</td>\n",
       "      <td>0.294353</td>\n",
       "    </tr>\n",
       "    <tr>\n",
       "      <th>8</th>\n",
       "      <td>Parking&amp;Fac</td>\n",
       "      <td>0.201223</td>\n",
       "    </tr>\n",
       "  </tbody>\n",
       "</table>\n",
       "</div>"
      ],
      "text/plain": [
       "                 Topic Count  Sentiment\n",
       "2                  FamilyExp   0.453345\n",
       "6                   Location   0.443510\n",
       "12             Service&Staff   0.436200\n",
       "3                       Food   0.425977\n",
       "4                   HotelGen   0.421597\n",
       "13                     Value   0.415387\n",
       "11                   RoomFac   0.368441\n",
       "10                  RoomComf   0.356394\n",
       "9                       Room   0.333280\n",
       "0                   CustServ   0.331614\n",
       "1   Entertainment&Activities   0.330548\n",
       "5                    Leisure   0.325689\n",
       "7                    MealExp   0.294353\n",
       "8                Parking&Fac   0.201223"
      ]
     },
     "execution_count": 60,
     "metadata": {},
     "output_type": "execute_result"
    }
   ],
   "source": [
    "accom_summary = df_accom[df_accom[\"Sentiment\"]!=0].groupby(\"Topic Count\",as_index = False)[\"Sentiment\"].mean()\n",
    "accom_summary = accom_summary.sort_values(by = \"Sentiment\",ascending = False)\n",
    "accom_summary"
   ]
  },
  {
   "cell_type": "code",
   "execution_count": 61,
   "id": "29a0b168",
   "metadata": {},
   "outputs": [],
   "source": [
    "def plot_sent_score(df,name,name2):\n",
    "    \n",
    "    labels = list(df[\"Topic Count\"])\n",
    "    sent = list(df[\"Sentiment\"])\n",
    "  \n",
    "    x = np.arange(len(labels))  # the label locations\n",
    "    width = 0.35  # the width of the bars\n",
    "\n",
    "    fig, ax = plt.subplots(figsize = (10,7))\n",
    "    ax.barh(x, sent, width, label='Sentiment Score',color = \"lightsteelblue\",ec = \"grey\")\n",
    "    \n",
    "    # Add some text for labels, title and custom x-axis tick labels, etc.\n",
    "    ax.set_title(name + \" - Mean Sentiment Score \" + name2)\n",
    "    ax.set_yticks(x)\n",
    "    ax.set_yticklabels(labels)\n",
    "    ax.set_xlabel(\"Mean Sentiment Score\",labelpad = 15)\n",
    "    ax.spines['right'].set_visible(False)\n",
    "    ax.spines['top'].set_visible(False)\n",
    "    ax.legend(frameon = False, loc = \"best\")\n",
    "    ax.invert_yaxis()\n",
    "\n",
    "    fig.tight_layout()\n",
    "\n",
    "    plt.show()"
   ]
  },
  {
   "cell_type": "code",
   "execution_count": 62,
   "id": "b2654c24",
   "metadata": {},
   "outputs": [
    {
     "data": {
      "image/png": "[encoded data removed]",
      "text/plain": [
       "<Figure size 720x504 with 1 Axes>"
      ]
     },
     "metadata": {
      "needs_background": "light"
     },
     "output_type": "display_data"
    }
   ],
   "source": [
    "plot_sent_score(accom_summary,\"Accommodation \",\"Arun District\")"
   ]
  },
  {
   "cell_type": "code",
   "execution_count": 63,
   "id": "5f8e36a6",
   "metadata": {},
   "outputs": [
    {
     "data": {
      "text/html": [
       "<div>\n",
       "<style scoped>\n",
       "    .dataframe tbody tr th:only-of-type {\n",
       "        vertical-align: middle;\n",
       "    }\n",
       "\n",
       "    .dataframe tbody tr th {\n",
       "        vertical-align: top;\n",
       "    }\n",
       "\n",
       "    .dataframe thead th {\n",
       "        text-align: right;\n",
       "    }\n",
       "</style>\n",
       "<table border=\"1\" class=\"dataframe\">\n",
       "  <thead>\n",
       "    <tr style=\"text-align: right;\">\n",
       "      <th></th>\n",
       "      <th>Topic Count</th>\n",
       "      <th>Sentiment</th>\n",
       "    </tr>\n",
       "  </thead>\n",
       "  <tbody>\n",
       "    <tr>\n",
       "      <th>10</th>\n",
       "      <td>VFM</td>\n",
       "      <td>0.548847</td>\n",
       "    </tr>\n",
       "    <tr>\n",
       "      <th>2</th>\n",
       "      <td>FoodGen</td>\n",
       "      <td>0.448014</td>\n",
       "    </tr>\n",
       "    <tr>\n",
       "      <th>1</th>\n",
       "      <td>Choice</td>\n",
       "      <td>0.442594</td>\n",
       "    </tr>\n",
       "    <tr>\n",
       "      <th>5</th>\n",
       "      <td>Menu</td>\n",
       "      <td>0.433931</td>\n",
       "    </tr>\n",
       "    <tr>\n",
       "      <th>9</th>\n",
       "      <td>StaffGen</td>\n",
       "      <td>0.431486</td>\n",
       "    </tr>\n",
       "    <tr>\n",
       "      <th>8</th>\n",
       "      <td>Service</td>\n",
       "      <td>0.428466</td>\n",
       "    </tr>\n",
       "    <tr>\n",
       "      <th>4</th>\n",
       "      <td>MealExp</td>\n",
       "      <td>0.418343</td>\n",
       "    </tr>\n",
       "    <tr>\n",
       "      <th>3</th>\n",
       "      <td>FoodPort</td>\n",
       "      <td>0.414606</td>\n",
       "    </tr>\n",
       "    <tr>\n",
       "      <th>7</th>\n",
       "      <td>Quality</td>\n",
       "      <td>0.371306</td>\n",
       "    </tr>\n",
       "    <tr>\n",
       "      <th>6</th>\n",
       "      <td>Ordering</td>\n",
       "      <td>0.348842</td>\n",
       "    </tr>\n",
       "    <tr>\n",
       "      <th>11</th>\n",
       "      <td>VisitExp</td>\n",
       "      <td>0.348075</td>\n",
       "    </tr>\n",
       "    <tr>\n",
       "      <th>0</th>\n",
       "      <td>Booking&amp;Table</td>\n",
       "      <td>0.307340</td>\n",
       "    </tr>\n",
       "  </tbody>\n",
       "</table>\n",
       "</div>"
      ],
      "text/plain": [
       "      Topic Count  Sentiment\n",
       "10            VFM   0.548847\n",
       "2         FoodGen   0.448014\n",
       "1          Choice   0.442594\n",
       "5            Menu   0.433931\n",
       "9        StaffGen   0.431486\n",
       "8         Service   0.428466\n",
       "4         MealExp   0.418343\n",
       "3        FoodPort   0.414606\n",
       "7         Quality   0.371306\n",
       "6        Ordering   0.348842\n",
       "11       VisitExp   0.348075\n",
       "0   Booking&Table   0.307340"
      ]
     },
     "execution_count": 63,
     "metadata": {},
     "output_type": "execute_result"
    }
   ],
   "source": [
    "food_summary = df_food[df_food[\"Sentiment\"]!=0].groupby(\"Topic Count\",as_index = False)[\"Sentiment\"].mean()\n",
    "food_summary = food_summary.sort_values(by = \"Sentiment\",ascending = False)\n",
    "food_summary"
   ]
  },
  {
   "cell_type": "code",
   "execution_count": 64,
   "id": "624326c2",
   "metadata": {},
   "outputs": [
    {
     "data": {
      "image/png": "[encoded data removed]",
      "text/plain": [
       "<Figure size 720x504 with 1 Axes>"
      ]
     },
     "metadata": {
      "needs_background": "light"
     },
     "output_type": "display_data"
    }
   ],
   "source": [
    "plot_sent_score(food_summary,\"Food \",\"Arun District\")"
   ]
  },
  {
   "cell_type": "code",
   "execution_count": 65,
   "id": "71fed447",
   "metadata": {},
   "outputs": [
    {
     "data": {
      "text/html": [
       "<div>\n",
       "<style scoped>\n",
       "    .dataframe tbody tr th:only-of-type {\n",
       "        vertical-align: middle;\n",
       "    }\n",
       "\n",
       "    .dataframe tbody tr th {\n",
       "        vertical-align: top;\n",
       "    }\n",
       "\n",
       "    .dataframe thead th {\n",
       "        text-align: right;\n",
       "    }\n",
       "</style>\n",
       "<table border=\"1\" class=\"dataframe\">\n",
       "  <thead>\n",
       "    <tr style=\"text-align: right;\">\n",
       "      <th></th>\n",
       "      <th>Topic Count</th>\n",
       "      <th>Sentiment</th>\n",
       "    </tr>\n",
       "  </thead>\n",
       "  <tbody>\n",
       "    <tr>\n",
       "      <th>11</th>\n",
       "      <td>Walking</td>\n",
       "      <td>0.489072</td>\n",
       "    </tr>\n",
       "    <tr>\n",
       "      <th>6</th>\n",
       "      <td>Place</td>\n",
       "      <td>0.480263</td>\n",
       "    </tr>\n",
       "    <tr>\n",
       "      <th>8</th>\n",
       "      <td>Staff</td>\n",
       "      <td>0.476335</td>\n",
       "    </tr>\n",
       "    <tr>\n",
       "      <th>3</th>\n",
       "      <td>Gardens&amp;Grounds</td>\n",
       "      <td>0.469114</td>\n",
       "    </tr>\n",
       "    <tr>\n",
       "      <th>1</th>\n",
       "      <td>FamilyExp</td>\n",
       "      <td>0.458127</td>\n",
       "    </tr>\n",
       "    <tr>\n",
       "      <th>0</th>\n",
       "      <td>BeachFac</td>\n",
       "      <td>0.441330</td>\n",
       "    </tr>\n",
       "    <tr>\n",
       "      <th>7</th>\n",
       "      <td>Shop&amp;Amenties</td>\n",
       "      <td>0.419679</td>\n",
       "    </tr>\n",
       "    <tr>\n",
       "      <th>5</th>\n",
       "      <td>Parking</td>\n",
       "      <td>0.417105</td>\n",
       "    </tr>\n",
       "    <tr>\n",
       "      <th>9</th>\n",
       "      <td>VFM</td>\n",
       "      <td>0.416751</td>\n",
       "    </tr>\n",
       "    <tr>\n",
       "      <th>2</th>\n",
       "      <td>Food</td>\n",
       "      <td>0.403824</td>\n",
       "    </tr>\n",
       "    <tr>\n",
       "      <th>10</th>\n",
       "      <td>VisitExp</td>\n",
       "      <td>0.368769</td>\n",
       "    </tr>\n",
       "    <tr>\n",
       "      <th>4</th>\n",
       "      <td>Kids&amp;PlayArea</td>\n",
       "      <td>0.322263</td>\n",
       "    </tr>\n",
       "  </tbody>\n",
       "</table>\n",
       "</div>"
      ],
      "text/plain": [
       "        Topic Count  Sentiment\n",
       "11          Walking   0.489072\n",
       "6             Place   0.480263\n",
       "8             Staff   0.476335\n",
       "3   Gardens&Grounds   0.469114\n",
       "1         FamilyExp   0.458127\n",
       "0          BeachFac   0.441330\n",
       "7     Shop&Amenties   0.419679\n",
       "5           Parking   0.417105\n",
       "9               VFM   0.416751\n",
       "2              Food   0.403824\n",
       "10         VisitExp   0.368769\n",
       "4     Kids&PlayArea   0.322263"
      ]
     },
     "execution_count": 65,
     "metadata": {},
     "output_type": "execute_result"
    }
   ],
   "source": [
    "attract_summary = df_attract[df_attract[\"Sentiment\"]!=0].groupby(\"Topic Count\",as_index = False)[\"Sentiment\"].mean()\n",
    "attract_summary = attract_summary.sort_values(by = \"Sentiment\",ascending = False)\n",
    "attract_summary"
   ]
  },
  {
   "cell_type": "code",
   "execution_count": 66,
   "id": "de093d72",
   "metadata": {},
   "outputs": [
    {
     "data": {
      "image/png": "[encoded data removed]",
      "text/plain": [
       "<Figure size 720x504 with 1 Axes>"
      ]
     },
     "metadata": {
      "needs_background": "light"
     },
     "output_type": "display_data"
    }
   ],
   "source": [
    "plot_sent_score(attract_summary,\"Attractions \",\"Arun District\")"
   ]
  },
  {
   "cell_type": "markdown",
   "id": "df7e84c0",
   "metadata": {},
   "source": [
    "# Section 5: Mean Sentiment Score Analysis By Town"
   ]
  },
  {
   "cell_type": "markdown",
   "id": "1b24c97c",
   "metadata": {},
   "source": [
    "## Accommodation"
   ]
  },
  {
   "cell_type": "code",
   "execution_count": 67,
   "id": "e295f6f3",
   "metadata": {},
   "outputs": [],
   "source": [
    "towns_accom = df_accom.groupby([\"Topic Count\",\"Town\"],as_index = False)[\"Sentiment\"].mean()\n",
    "arundel_accom = towns_accom[towns_accom[\"Town\"] == \"Arundel\"]\n",
    "bognor_accom = towns_accom[towns_accom[\"Town\"] == \"Bognor\"]\n",
    "little_accom = towns_accom[towns_accom[\"Town\"] == \"Littlehampton\"]"
   ]
  },
  {
   "cell_type": "markdown",
   "id": "01d92044",
   "metadata": {},
   "source": [
    "### Arundel"
   ]
  },
  {
   "cell_type": "code",
   "execution_count": 68,
   "id": "00b4cebc",
   "metadata": {},
   "outputs": [
    {
     "data": {
      "text/html": [
       "<div>\n",
       "<style scoped>\n",
       "    .dataframe tbody tr th:only-of-type {\n",
       "        vertical-align: middle;\n",
       "    }\n",
       "\n",
       "    .dataframe tbody tr th {\n",
       "        vertical-align: top;\n",
       "    }\n",
       "\n",
       "    .dataframe thead th {\n",
       "        text-align: right;\n",
       "    }\n",
       "</style>\n",
       "<table border=\"1\" class=\"dataframe\">\n",
       "  <thead>\n",
       "    <tr style=\"text-align: right;\">\n",
       "      <th></th>\n",
       "      <th>Topic Count</th>\n",
       "      <th>Town</th>\n",
       "      <th>Sentiment</th>\n",
       "    </tr>\n",
       "  </thead>\n",
       "  <tbody>\n",
       "    <tr>\n",
       "      <th>39</th>\n",
       "      <td>Value</td>\n",
       "      <td>Arundel</td>\n",
       "      <td>0.342877</td>\n",
       "    </tr>\n",
       "    <tr>\n",
       "      <th>36</th>\n",
       "      <td>Service&amp;Staff</td>\n",
       "      <td>Arundel</td>\n",
       "      <td>0.323625</td>\n",
       "    </tr>\n",
       "    <tr>\n",
       "      <th>9</th>\n",
       "      <td>Food</td>\n",
       "      <td>Arundel</td>\n",
       "      <td>0.254120</td>\n",
       "    </tr>\n",
       "    <tr>\n",
       "      <th>18</th>\n",
       "      <td>Location</td>\n",
       "      <td>Arundel</td>\n",
       "      <td>0.231904</td>\n",
       "    </tr>\n",
       "    <tr>\n",
       "      <th>0</th>\n",
       "      <td>CustServ</td>\n",
       "      <td>Arundel</td>\n",
       "      <td>0.210840</td>\n",
       "    </tr>\n",
       "    <tr>\n",
       "      <th>6</th>\n",
       "      <td>FamilyExp</td>\n",
       "      <td>Arundel</td>\n",
       "      <td>0.207450</td>\n",
       "    </tr>\n",
       "    <tr>\n",
       "      <th>27</th>\n",
       "      <td>Room</td>\n",
       "      <td>Arundel</td>\n",
       "      <td>0.187569</td>\n",
       "    </tr>\n",
       "    <tr>\n",
       "      <th>30</th>\n",
       "      <td>RoomComf</td>\n",
       "      <td>Arundel</td>\n",
       "      <td>0.185765</td>\n",
       "    </tr>\n",
       "    <tr>\n",
       "      <th>12</th>\n",
       "      <td>HotelGen</td>\n",
       "      <td>Arundel</td>\n",
       "      <td>0.175401</td>\n",
       "    </tr>\n",
       "    <tr>\n",
       "      <th>33</th>\n",
       "      <td>RoomFac</td>\n",
       "      <td>Arundel</td>\n",
       "      <td>0.146623</td>\n",
       "    </tr>\n",
       "    <tr>\n",
       "      <th>3</th>\n",
       "      <td>Entertainment&amp;Activities</td>\n",
       "      <td>Arundel</td>\n",
       "      <td>0.128244</td>\n",
       "    </tr>\n",
       "    <tr>\n",
       "      <th>15</th>\n",
       "      <td>Leisure</td>\n",
       "      <td>Arundel</td>\n",
       "      <td>0.107389</td>\n",
       "    </tr>\n",
       "    <tr>\n",
       "      <th>21</th>\n",
       "      <td>MealExp</td>\n",
       "      <td>Arundel</td>\n",
       "      <td>0.099525</td>\n",
       "    </tr>\n",
       "    <tr>\n",
       "      <th>24</th>\n",
       "      <td>Parking&amp;Fac</td>\n",
       "      <td>Arundel</td>\n",
       "      <td>0.030148</td>\n",
       "    </tr>\n",
       "  </tbody>\n",
       "</table>\n",
       "</div>"
      ],
      "text/plain": [
       "                 Topic Count     Town  Sentiment\n",
       "39                     Value  Arundel   0.342877\n",
       "36             Service&Staff  Arundel   0.323625\n",
       "9                       Food  Arundel   0.254120\n",
       "18                  Location  Arundel   0.231904\n",
       "0                   CustServ  Arundel   0.210840\n",
       "6                  FamilyExp  Arundel   0.207450\n",
       "27                      Room  Arundel   0.187569\n",
       "30                  RoomComf  Arundel   0.185765\n",
       "12                  HotelGen  Arundel   0.175401\n",
       "33                   RoomFac  Arundel   0.146623\n",
       "3   Entertainment&Activities  Arundel   0.128244\n",
       "15                   Leisure  Arundel   0.107389\n",
       "21                   MealExp  Arundel   0.099525\n",
       "24               Parking&Fac  Arundel   0.030148"
      ]
     },
     "execution_count": 68,
     "metadata": {},
     "output_type": "execute_result"
    }
   ],
   "source": [
    "arundel_accom = arundel_accom.sort_values(by = \"Sentiment\",ascending = False)\n",
    "arundel_accom"
   ]
  },
  {
   "cell_type": "code",
   "execution_count": 69,
   "id": "4abcfaea",
   "metadata": {},
   "outputs": [
    {
     "data": {
      "image/png": "[encoded data removed]",
      "text/plain": [
       "<Figure size 720x504 with 1 Axes>"
      ]
     },
     "metadata": {
      "needs_background": "light"
     },
     "output_type": "display_data"
    }
   ],
   "source": [
    "plot_sent_score(arundel_accom,\"Accommodation \",\"Arundel\")"
   ]
  },
  {
   "cell_type": "markdown",
   "id": "649f5d23",
   "metadata": {},
   "source": [
    "### Bognor"
   ]
  },
  {
   "cell_type": "code",
   "execution_count": 70,
   "id": "1bfeaff8",
   "metadata": {},
   "outputs": [
    {
     "data": {
      "text/html": [
       "<div>\n",
       "<style scoped>\n",
       "    .dataframe tbody tr th:only-of-type {\n",
       "        vertical-align: middle;\n",
       "    }\n",
       "\n",
       "    .dataframe tbody tr th {\n",
       "        vertical-align: top;\n",
       "    }\n",
       "\n",
       "    .dataframe thead th {\n",
       "        text-align: right;\n",
       "    }\n",
       "</style>\n",
       "<table border=\"1\" class=\"dataframe\">\n",
       "  <thead>\n",
       "    <tr style=\"text-align: right;\">\n",
       "      <th></th>\n",
       "      <th>Topic Count</th>\n",
       "      <th>Town</th>\n",
       "      <th>Sentiment</th>\n",
       "    </tr>\n",
       "  </thead>\n",
       "  <tbody>\n",
       "    <tr>\n",
       "      <th>37</th>\n",
       "      <td>Service&amp;Staff</td>\n",
       "      <td>Bognor</td>\n",
       "      <td>0.248864</td>\n",
       "    </tr>\n",
       "    <tr>\n",
       "      <th>7</th>\n",
       "      <td>FamilyExp</td>\n",
       "      <td>Bognor</td>\n",
       "      <td>0.232340</td>\n",
       "    </tr>\n",
       "    <tr>\n",
       "      <th>40</th>\n",
       "      <td>Value</td>\n",
       "      <td>Bognor</td>\n",
       "      <td>0.223687</td>\n",
       "    </tr>\n",
       "    <tr>\n",
       "      <th>10</th>\n",
       "      <td>Food</td>\n",
       "      <td>Bognor</td>\n",
       "      <td>0.189728</td>\n",
       "    </tr>\n",
       "    <tr>\n",
       "      <th>19</th>\n",
       "      <td>Location</td>\n",
       "      <td>Bognor</td>\n",
       "      <td>0.171960</td>\n",
       "    </tr>\n",
       "    <tr>\n",
       "      <th>1</th>\n",
       "      <td>CustServ</td>\n",
       "      <td>Bognor</td>\n",
       "      <td>0.152190</td>\n",
       "    </tr>\n",
       "    <tr>\n",
       "      <th>4</th>\n",
       "      <td>Entertainment&amp;Activities</td>\n",
       "      <td>Bognor</td>\n",
       "      <td>0.134732</td>\n",
       "    </tr>\n",
       "    <tr>\n",
       "      <th>13</th>\n",
       "      <td>HotelGen</td>\n",
       "      <td>Bognor</td>\n",
       "      <td>0.126305</td>\n",
       "    </tr>\n",
       "    <tr>\n",
       "      <th>31</th>\n",
       "      <td>RoomComf</td>\n",
       "      <td>Bognor</td>\n",
       "      <td>0.126073</td>\n",
       "    </tr>\n",
       "    <tr>\n",
       "      <th>28</th>\n",
       "      <td>Room</td>\n",
       "      <td>Bognor</td>\n",
       "      <td>0.122634</td>\n",
       "    </tr>\n",
       "    <tr>\n",
       "      <th>34</th>\n",
       "      <td>RoomFac</td>\n",
       "      <td>Bognor</td>\n",
       "      <td>0.114789</td>\n",
       "    </tr>\n",
       "    <tr>\n",
       "      <th>22</th>\n",
       "      <td>MealExp</td>\n",
       "      <td>Bognor</td>\n",
       "      <td>0.095861</td>\n",
       "    </tr>\n",
       "    <tr>\n",
       "      <th>16</th>\n",
       "      <td>Leisure</td>\n",
       "      <td>Bognor</td>\n",
       "      <td>0.091674</td>\n",
       "    </tr>\n",
       "    <tr>\n",
       "      <th>25</th>\n",
       "      <td>Parking&amp;Fac</td>\n",
       "      <td>Bognor</td>\n",
       "      <td>0.059586</td>\n",
       "    </tr>\n",
       "  </tbody>\n",
       "</table>\n",
       "</div>"
      ],
      "text/plain": [
       "                 Topic Count    Town  Sentiment\n",
       "37             Service&Staff  Bognor   0.248864\n",
       "7                  FamilyExp  Bognor   0.232340\n",
       "40                     Value  Bognor   0.223687\n",
       "10                      Food  Bognor   0.189728\n",
       "19                  Location  Bognor   0.171960\n",
       "1                   CustServ  Bognor   0.152190\n",
       "4   Entertainment&Activities  Bognor   0.134732\n",
       "13                  HotelGen  Bognor   0.126305\n",
       "31                  RoomComf  Bognor   0.126073\n",
       "28                      Room  Bognor   0.122634\n",
       "34                   RoomFac  Bognor   0.114789\n",
       "22                   MealExp  Bognor   0.095861\n",
       "16                   Leisure  Bognor   0.091674\n",
       "25               Parking&Fac  Bognor   0.059586"
      ]
     },
     "execution_count": 70,
     "metadata": {},
     "output_type": "execute_result"
    }
   ],
   "source": [
    "bognor_accom = bognor_accom.sort_values(by = \"Sentiment\",ascending = False)\n",
    "bognor_accom"
   ]
  },
  {
   "cell_type": "code",
   "execution_count": 71,
   "id": "b32b00b9",
   "metadata": {},
   "outputs": [
    {
     "data": {
      "image/png": "[encoded data removed]",
      "text/plain": [
       "<Figure size 720x504 with 1 Axes>"
      ]
     },
     "metadata": {
      "needs_background": "light"
     },
     "output_type": "display_data"
    }
   ],
   "source": [
    "plot_sent_score(bognor_accom,\"Accommodation \",\"Bognor\")"
   ]
  },
  {
   "cell_type": "markdown",
   "id": "4e4fba7a",
   "metadata": {},
   "source": [
    "### Littlehampton"
   ]
  },
  {
   "cell_type": "code",
   "execution_count": 72,
   "id": "bec54dd2",
   "metadata": {},
   "outputs": [
    {
     "data": {
      "text/html": [
       "<div>\n",
       "<style scoped>\n",
       "    .dataframe tbody tr th:only-of-type {\n",
       "        vertical-align: middle;\n",
       "    }\n",
       "\n",
       "    .dataframe tbody tr th {\n",
       "        vertical-align: top;\n",
       "    }\n",
       "\n",
       "    .dataframe thead th {\n",
       "        text-align: right;\n",
       "    }\n",
       "</style>\n",
       "<table border=\"1\" class=\"dataframe\">\n",
       "  <thead>\n",
       "    <tr style=\"text-align: right;\">\n",
       "      <th></th>\n",
       "      <th>Topic Count</th>\n",
       "      <th>Town</th>\n",
       "      <th>Sentiment</th>\n",
       "    </tr>\n",
       "  </thead>\n",
       "  <tbody>\n",
       "    <tr>\n",
       "      <th>38</th>\n",
       "      <td>Service&amp;Staff</td>\n",
       "      <td>Littlehampton</td>\n",
       "      <td>0.292793</td>\n",
       "    </tr>\n",
       "    <tr>\n",
       "      <th>41</th>\n",
       "      <td>Value</td>\n",
       "      <td>Littlehampton</td>\n",
       "      <td>0.259593</td>\n",
       "    </tr>\n",
       "    <tr>\n",
       "      <th>8</th>\n",
       "      <td>FamilyExp</td>\n",
       "      <td>Littlehampton</td>\n",
       "      <td>0.225368</td>\n",
       "    </tr>\n",
       "    <tr>\n",
       "      <th>11</th>\n",
       "      <td>Food</td>\n",
       "      <td>Littlehampton</td>\n",
       "      <td>0.220082</td>\n",
       "    </tr>\n",
       "    <tr>\n",
       "      <th>14</th>\n",
       "      <td>HotelGen</td>\n",
       "      <td>Littlehampton</td>\n",
       "      <td>0.213256</td>\n",
       "    </tr>\n",
       "    <tr>\n",
       "      <th>20</th>\n",
       "      <td>Location</td>\n",
       "      <td>Littlehampton</td>\n",
       "      <td>0.190566</td>\n",
       "    </tr>\n",
       "    <tr>\n",
       "      <th>2</th>\n",
       "      <td>CustServ</td>\n",
       "      <td>Littlehampton</td>\n",
       "      <td>0.178887</td>\n",
       "    </tr>\n",
       "    <tr>\n",
       "      <th>17</th>\n",
       "      <td>Leisure</td>\n",
       "      <td>Littlehampton</td>\n",
       "      <td>0.174500</td>\n",
       "    </tr>\n",
       "    <tr>\n",
       "      <th>29</th>\n",
       "      <td>Room</td>\n",
       "      <td>Littlehampton</td>\n",
       "      <td>0.170296</td>\n",
       "    </tr>\n",
       "    <tr>\n",
       "      <th>32</th>\n",
       "      <td>RoomComf</td>\n",
       "      <td>Littlehampton</td>\n",
       "      <td>0.165428</td>\n",
       "    </tr>\n",
       "    <tr>\n",
       "      <th>5</th>\n",
       "      <td>Entertainment&amp;Activities</td>\n",
       "      <td>Littlehampton</td>\n",
       "      <td>0.141552</td>\n",
       "    </tr>\n",
       "    <tr>\n",
       "      <th>35</th>\n",
       "      <td>RoomFac</td>\n",
       "      <td>Littlehampton</td>\n",
       "      <td>0.140799</td>\n",
       "    </tr>\n",
       "    <tr>\n",
       "      <th>23</th>\n",
       "      <td>MealExp</td>\n",
       "      <td>Littlehampton</td>\n",
       "      <td>0.121569</td>\n",
       "    </tr>\n",
       "    <tr>\n",
       "      <th>26</th>\n",
       "      <td>Parking&amp;Fac</td>\n",
       "      <td>Littlehampton</td>\n",
       "      <td>0.096763</td>\n",
       "    </tr>\n",
       "  </tbody>\n",
       "</table>\n",
       "</div>"
      ],
      "text/plain": [
       "                 Topic Count           Town  Sentiment\n",
       "38             Service&Staff  Littlehampton   0.292793\n",
       "41                     Value  Littlehampton   0.259593\n",
       "8                  FamilyExp  Littlehampton   0.225368\n",
       "11                      Food  Littlehampton   0.220082\n",
       "14                  HotelGen  Littlehampton   0.213256\n",
       "20                  Location  Littlehampton   0.190566\n",
       "2                   CustServ  Littlehampton   0.178887\n",
       "17                   Leisure  Littlehampton   0.174500\n",
       "29                      Room  Littlehampton   0.170296\n",
       "32                  RoomComf  Littlehampton   0.165428\n",
       "5   Entertainment&Activities  Littlehampton   0.141552\n",
       "35                   RoomFac  Littlehampton   0.140799\n",
       "23                   MealExp  Littlehampton   0.121569\n",
       "26               Parking&Fac  Littlehampton   0.096763"
      ]
     },
     "execution_count": 72,
     "metadata": {},
     "output_type": "execute_result"
    }
   ],
   "source": [
    "little_accom = little_accom.sort_values(by = \"Sentiment\",ascending = False)\n",
    "little_accom"
   ]
  },
  {
   "cell_type": "code",
   "execution_count": 73,
   "id": "0dff8c00",
   "metadata": {},
   "outputs": [
    {
     "data": {
      "image/png": "[encoded data removed]",
      "text/plain": [
       "<Figure size 720x504 with 1 Axes>"
      ]
     },
     "metadata": {
      "needs_background": "light"
     },
     "output_type": "display_data"
    }
   ],
   "source": [
    "plot_sent_score(little_accom,\"Accommodation \",\"Littlehampton\")"
   ]
  },
  {
   "cell_type": "markdown",
   "id": "ed719dbf",
   "metadata": {},
   "source": [
    "## Food"
   ]
  },
  {
   "cell_type": "code",
   "execution_count": 74,
   "id": "8232e97a",
   "metadata": {},
   "outputs": [],
   "source": [
    "towns_food  = df_food.groupby([\"Topic Count\",\"Town\"],as_index = False)[\"Sentiment\"].mean()\n",
    "arundel_food = towns_food[towns_food[\"Town\"] == \"Arundel\"]\n",
    "bognor_food = towns_food[towns_food[\"Town\"] == \"Bognor\"]\n",
    "little_food = towns_food[towns_food[\"Town\"] == \"Littlehampton\"]"
   ]
  },
  {
   "cell_type": "markdown",
   "id": "545e948f",
   "metadata": {},
   "source": [
    "### Arundel"
   ]
  },
  {
   "cell_type": "code",
   "execution_count": 75,
   "id": "4c30a33c",
   "metadata": {},
   "outputs": [
    {
     "data": {
      "text/html": [
       "<div>\n",
       "<style scoped>\n",
       "    .dataframe tbody tr th:only-of-type {\n",
       "        vertical-align: middle;\n",
       "    }\n",
       "\n",
       "    .dataframe tbody tr th {\n",
       "        vertical-align: top;\n",
       "    }\n",
       "\n",
       "    .dataframe thead th {\n",
       "        text-align: right;\n",
       "    }\n",
       "</style>\n",
       "<table border=\"1\" class=\"dataframe\">\n",
       "  <thead>\n",
       "    <tr style=\"text-align: right;\">\n",
       "      <th></th>\n",
       "      <th>Topic Count</th>\n",
       "      <th>Town</th>\n",
       "      <th>Sentiment</th>\n",
       "    </tr>\n",
       "  </thead>\n",
       "  <tbody>\n",
       "    <tr>\n",
       "      <th>30</th>\n",
       "      <td>VFM</td>\n",
       "      <td>Arundel</td>\n",
       "      <td>0.391156</td>\n",
       "    </tr>\n",
       "    <tr>\n",
       "      <th>24</th>\n",
       "      <td>Service</td>\n",
       "      <td>Arundel</td>\n",
       "      <td>0.284218</td>\n",
       "    </tr>\n",
       "    <tr>\n",
       "      <th>27</th>\n",
       "      <td>StaffGen</td>\n",
       "      <td>Arundel</td>\n",
       "      <td>0.275726</td>\n",
       "    </tr>\n",
       "    <tr>\n",
       "      <th>6</th>\n",
       "      <td>FoodGen</td>\n",
       "      <td>Arundel</td>\n",
       "      <td>0.275686</td>\n",
       "    </tr>\n",
       "    <tr>\n",
       "      <th>12</th>\n",
       "      <td>MealExp</td>\n",
       "      <td>Arundel</td>\n",
       "      <td>0.200123</td>\n",
       "    </tr>\n",
       "    <tr>\n",
       "      <th>3</th>\n",
       "      <td>Choice</td>\n",
       "      <td>Arundel</td>\n",
       "      <td>0.179822</td>\n",
       "    </tr>\n",
       "    <tr>\n",
       "      <th>33</th>\n",
       "      <td>VisitExp</td>\n",
       "      <td>Arundel</td>\n",
       "      <td>0.161217</td>\n",
       "    </tr>\n",
       "    <tr>\n",
       "      <th>21</th>\n",
       "      <td>Quality</td>\n",
       "      <td>Arundel</td>\n",
       "      <td>0.160981</td>\n",
       "    </tr>\n",
       "    <tr>\n",
       "      <th>15</th>\n",
       "      <td>Menu</td>\n",
       "      <td>Arundel</td>\n",
       "      <td>0.160940</td>\n",
       "    </tr>\n",
       "    <tr>\n",
       "      <th>9</th>\n",
       "      <td>FoodPort</td>\n",
       "      <td>Arundel</td>\n",
       "      <td>0.155138</td>\n",
       "    </tr>\n",
       "    <tr>\n",
       "      <th>18</th>\n",
       "      <td>Ordering</td>\n",
       "      <td>Arundel</td>\n",
       "      <td>0.142593</td>\n",
       "    </tr>\n",
       "    <tr>\n",
       "      <th>0</th>\n",
       "      <td>Booking&amp;Table</td>\n",
       "      <td>Arundel</td>\n",
       "      <td>0.140026</td>\n",
       "    </tr>\n",
       "  </tbody>\n",
       "</table>\n",
       "</div>"
      ],
      "text/plain": [
       "      Topic Count     Town  Sentiment\n",
       "30            VFM  Arundel   0.391156\n",
       "24        Service  Arundel   0.284218\n",
       "27       StaffGen  Arundel   0.275726\n",
       "6         FoodGen  Arundel   0.275686\n",
       "12        MealExp  Arundel   0.200123\n",
       "3          Choice  Arundel   0.179822\n",
       "33       VisitExp  Arundel   0.161217\n",
       "21        Quality  Arundel   0.160981\n",
       "15           Menu  Arundel   0.160940\n",
       "9        FoodPort  Arundel   0.155138\n",
       "18       Ordering  Arundel   0.142593\n",
       "0   Booking&Table  Arundel   0.140026"
      ]
     },
     "execution_count": 75,
     "metadata": {},
     "output_type": "execute_result"
    }
   ],
   "source": [
    "arundel_food = arundel_food.sort_values(by = \"Sentiment\",ascending = False)\n",
    "arundel_food"
   ]
  },
  {
   "cell_type": "code",
   "execution_count": 76,
   "id": "40d38552",
   "metadata": {},
   "outputs": [
    {
     "data": {
      "image/png": "[encoded data removed]",
      "text/plain": [
       "<Figure size 720x504 with 1 Axes>"
      ]
     },
     "metadata": {
      "needs_background": "light"
     },
     "output_type": "display_data"
    }
   ],
   "source": [
    "plot_sent_score(arundel_food,\"Food \",\"Arundel\")"
   ]
  },
  {
   "cell_type": "markdown",
   "id": "ca02a53e",
   "metadata": {},
   "source": [
    "### Bognor"
   ]
  },
  {
   "cell_type": "code",
   "execution_count": 77,
   "id": "6edd7079",
   "metadata": {},
   "outputs": [
    {
     "data": {
      "text/html": [
       "<div>\n",
       "<style scoped>\n",
       "    .dataframe tbody tr th:only-of-type {\n",
       "        vertical-align: middle;\n",
       "    }\n",
       "\n",
       "    .dataframe tbody tr th {\n",
       "        vertical-align: top;\n",
       "    }\n",
       "\n",
       "    .dataframe thead th {\n",
       "        text-align: right;\n",
       "    }\n",
       "</style>\n",
       "<table border=\"1\" class=\"dataframe\">\n",
       "  <thead>\n",
       "    <tr style=\"text-align: right;\">\n",
       "      <th></th>\n",
       "      <th>Topic Count</th>\n",
       "      <th>Town</th>\n",
       "      <th>Sentiment</th>\n",
       "    </tr>\n",
       "  </thead>\n",
       "  <tbody>\n",
       "    <tr>\n",
       "      <th>31</th>\n",
       "      <td>VFM</td>\n",
       "      <td>Bognor</td>\n",
       "      <td>0.389113</td>\n",
       "    </tr>\n",
       "    <tr>\n",
       "      <th>25</th>\n",
       "      <td>Service</td>\n",
       "      <td>Bognor</td>\n",
       "      <td>0.293954</td>\n",
       "    </tr>\n",
       "    <tr>\n",
       "      <th>28</th>\n",
       "      <td>StaffGen</td>\n",
       "      <td>Bognor</td>\n",
       "      <td>0.266468</td>\n",
       "    </tr>\n",
       "    <tr>\n",
       "      <th>7</th>\n",
       "      <td>FoodGen</td>\n",
       "      <td>Bognor</td>\n",
       "      <td>0.256280</td>\n",
       "    </tr>\n",
       "    <tr>\n",
       "      <th>13</th>\n",
       "      <td>MealExp</td>\n",
       "      <td>Bognor</td>\n",
       "      <td>0.186536</td>\n",
       "    </tr>\n",
       "    <tr>\n",
       "      <th>4</th>\n",
       "      <td>Choice</td>\n",
       "      <td>Bognor</td>\n",
       "      <td>0.166356</td>\n",
       "    </tr>\n",
       "    <tr>\n",
       "      <th>22</th>\n",
       "      <td>Quality</td>\n",
       "      <td>Bognor</td>\n",
       "      <td>0.166115</td>\n",
       "    </tr>\n",
       "    <tr>\n",
       "      <th>34</th>\n",
       "      <td>VisitExp</td>\n",
       "      <td>Bognor</td>\n",
       "      <td>0.149792</td>\n",
       "    </tr>\n",
       "    <tr>\n",
       "      <th>16</th>\n",
       "      <td>Menu</td>\n",
       "      <td>Bognor</td>\n",
       "      <td>0.142584</td>\n",
       "    </tr>\n",
       "    <tr>\n",
       "      <th>10</th>\n",
       "      <td>FoodPort</td>\n",
       "      <td>Bognor</td>\n",
       "      <td>0.128661</td>\n",
       "    </tr>\n",
       "    <tr>\n",
       "      <th>19</th>\n",
       "      <td>Ordering</td>\n",
       "      <td>Bognor</td>\n",
       "      <td>0.118851</td>\n",
       "    </tr>\n",
       "    <tr>\n",
       "      <th>1</th>\n",
       "      <td>Booking&amp;Table</td>\n",
       "      <td>Bognor</td>\n",
       "      <td>0.087084</td>\n",
       "    </tr>\n",
       "  </tbody>\n",
       "</table>\n",
       "</div>"
      ],
      "text/plain": [
       "      Topic Count    Town  Sentiment\n",
       "31            VFM  Bognor   0.389113\n",
       "25        Service  Bognor   0.293954\n",
       "28       StaffGen  Bognor   0.266468\n",
       "7         FoodGen  Bognor   0.256280\n",
       "13        MealExp  Bognor   0.186536\n",
       "4          Choice  Bognor   0.166356\n",
       "22        Quality  Bognor   0.166115\n",
       "34       VisitExp  Bognor   0.149792\n",
       "16           Menu  Bognor   0.142584\n",
       "10       FoodPort  Bognor   0.128661\n",
       "19       Ordering  Bognor   0.118851\n",
       "1   Booking&Table  Bognor   0.087084"
      ]
     },
     "execution_count": 77,
     "metadata": {},
     "output_type": "execute_result"
    }
   ],
   "source": [
    "bognor_food = bognor_food.sort_values(by = \"Sentiment\",ascending = False)\n",
    "bognor_food"
   ]
  },
  {
   "cell_type": "code",
   "execution_count": 78,
   "id": "e0bed473",
   "metadata": {},
   "outputs": [
    {
     "data": {
      "image/png": "[encoded data removed]",
      "text/plain": [
       "<Figure size 720x504 with 1 Axes>"
      ]
     },
     "metadata": {
      "needs_background": "light"
     },
     "output_type": "display_data"
    }
   ],
   "source": [
    "plot_sent_score(bognor_food,\"Food \",\"Bognor\")"
   ]
  },
  {
   "cell_type": "markdown",
   "id": "9e8f8b50",
   "metadata": {},
   "source": [
    "### Littlehampton"
   ]
  },
  {
   "cell_type": "code",
   "execution_count": 79,
   "id": "243364b3",
   "metadata": {},
   "outputs": [
    {
     "data": {
      "text/html": [
       "<div>\n",
       "<style scoped>\n",
       "    .dataframe tbody tr th:only-of-type {\n",
       "        vertical-align: middle;\n",
       "    }\n",
       "\n",
       "    .dataframe tbody tr th {\n",
       "        vertical-align: top;\n",
       "    }\n",
       "\n",
       "    .dataframe thead th {\n",
       "        text-align: right;\n",
       "    }\n",
       "</style>\n",
       "<table border=\"1\" class=\"dataframe\">\n",
       "  <thead>\n",
       "    <tr style=\"text-align: right;\">\n",
       "      <th></th>\n",
       "      <th>Topic Count</th>\n",
       "      <th>Town</th>\n",
       "      <th>Sentiment</th>\n",
       "    </tr>\n",
       "  </thead>\n",
       "  <tbody>\n",
       "    <tr>\n",
       "      <th>32</th>\n",
       "      <td>VFM</td>\n",
       "      <td>Littlehampton</td>\n",
       "      <td>0.369798</td>\n",
       "    </tr>\n",
       "    <tr>\n",
       "      <th>26</th>\n",
       "      <td>Service</td>\n",
       "      <td>Littlehampton</td>\n",
       "      <td>0.276122</td>\n",
       "    </tr>\n",
       "    <tr>\n",
       "      <th>8</th>\n",
       "      <td>FoodGen</td>\n",
       "      <td>Littlehampton</td>\n",
       "      <td>0.238168</td>\n",
       "    </tr>\n",
       "    <tr>\n",
       "      <th>29</th>\n",
       "      <td>StaffGen</td>\n",
       "      <td>Littlehampton</td>\n",
       "      <td>0.235509</td>\n",
       "    </tr>\n",
       "    <tr>\n",
       "      <th>23</th>\n",
       "      <td>Quality</td>\n",
       "      <td>Littlehampton</td>\n",
       "      <td>0.177069</td>\n",
       "    </tr>\n",
       "    <tr>\n",
       "      <th>14</th>\n",
       "      <td>MealExp</td>\n",
       "      <td>Littlehampton</td>\n",
       "      <td>0.172951</td>\n",
       "    </tr>\n",
       "    <tr>\n",
       "      <th>5</th>\n",
       "      <td>Choice</td>\n",
       "      <td>Littlehampton</td>\n",
       "      <td>0.134846</td>\n",
       "    </tr>\n",
       "    <tr>\n",
       "      <th>17</th>\n",
       "      <td>Menu</td>\n",
       "      <td>Littlehampton</td>\n",
       "      <td>0.133808</td>\n",
       "    </tr>\n",
       "    <tr>\n",
       "      <th>11</th>\n",
       "      <td>FoodPort</td>\n",
       "      <td>Littlehampton</td>\n",
       "      <td>0.123844</td>\n",
       "    </tr>\n",
       "    <tr>\n",
       "      <th>35</th>\n",
       "      <td>VisitExp</td>\n",
       "      <td>Littlehampton</td>\n",
       "      <td>0.120906</td>\n",
       "    </tr>\n",
       "    <tr>\n",
       "      <th>2</th>\n",
       "      <td>Booking&amp;Table</td>\n",
       "      <td>Littlehampton</td>\n",
       "      <td>0.113916</td>\n",
       "    </tr>\n",
       "    <tr>\n",
       "      <th>20</th>\n",
       "      <td>Ordering</td>\n",
       "      <td>Littlehampton</td>\n",
       "      <td>0.111449</td>\n",
       "    </tr>\n",
       "  </tbody>\n",
       "</table>\n",
       "</div>"
      ],
      "text/plain": [
       "      Topic Count           Town  Sentiment\n",
       "32            VFM  Littlehampton   0.369798\n",
       "26        Service  Littlehampton   0.276122\n",
       "8         FoodGen  Littlehampton   0.238168\n",
       "29       StaffGen  Littlehampton   0.235509\n",
       "23        Quality  Littlehampton   0.177069\n",
       "14        MealExp  Littlehampton   0.172951\n",
       "5          Choice  Littlehampton   0.134846\n",
       "17           Menu  Littlehampton   0.133808\n",
       "11       FoodPort  Littlehampton   0.123844\n",
       "35       VisitExp  Littlehampton   0.120906\n",
       "2   Booking&Table  Littlehampton   0.113916\n",
       "20       Ordering  Littlehampton   0.111449"
      ]
     },
     "execution_count": 79,
     "metadata": {},
     "output_type": "execute_result"
    }
   ],
   "source": [
    "little_food = little_food.sort_values(by = \"Sentiment\",ascending = False)\n",
    "little_food"
   ]
  },
  {
   "cell_type": "code",
   "execution_count": 80,
   "id": "d4a3ad8c",
   "metadata": {},
   "outputs": [
    {
     "data": {
      "image/png": "[encoded data removed]",
      "text/plain": [
       "<Figure size 720x504 with 1 Axes>"
      ]
     },
     "metadata": {
      "needs_background": "light"
     },
     "output_type": "display_data"
    }
   ],
   "source": [
    "plot_sent_score(little_food,\"Food \",\"Littlehampton\")"
   ]
  },
  {
   "cell_type": "markdown",
   "id": "8296727c",
   "metadata": {},
   "source": [
    "## Attractions"
   ]
  },
  {
   "cell_type": "code",
   "execution_count": 81,
   "id": "004a7e0e",
   "metadata": {},
   "outputs": [],
   "source": [
    "towns_attract  = df_attract.groupby([\"Topic Count\",\"Town\"],as_index = False)[\"Sentiment\"].mean()\n",
    "arundel_attract = towns_attract[towns_attract[\"Town\"] == \"Arundel\"]\n",
    "bognor_attract = towns_attract[towns_attract[\"Town\"] == \"Bognor\"]\n",
    "little_attract = towns_attract[towns_attract[\"Town\"] == \"Littlehampton\"]"
   ]
  },
  {
   "cell_type": "markdown",
   "id": "1fd575c1",
   "metadata": {},
   "source": [
    "### Arundel"
   ]
  },
  {
   "cell_type": "code",
   "execution_count": 82,
   "id": "0d897dc3",
   "metadata": {},
   "outputs": [
    {
     "data": {
      "text/html": [
       "<div>\n",
       "<style scoped>\n",
       "    .dataframe tbody tr th:only-of-type {\n",
       "        vertical-align: middle;\n",
       "    }\n",
       "\n",
       "    .dataframe tbody tr th {\n",
       "        vertical-align: top;\n",
       "    }\n",
       "\n",
       "    .dataframe thead th {\n",
       "        text-align: right;\n",
       "    }\n",
       "</style>\n",
       "<table border=\"1\" class=\"dataframe\">\n",
       "  <thead>\n",
       "    <tr style=\"text-align: right;\">\n",
       "      <th></th>\n",
       "      <th>Topic Count</th>\n",
       "      <th>Town</th>\n",
       "      <th>Sentiment</th>\n",
       "    </tr>\n",
       "  </thead>\n",
       "  <tbody>\n",
       "    <tr>\n",
       "      <th>18</th>\n",
       "      <td>Place</td>\n",
       "      <td>Arundel</td>\n",
       "      <td>0.282258</td>\n",
       "    </tr>\n",
       "    <tr>\n",
       "      <th>27</th>\n",
       "      <td>VFM</td>\n",
       "      <td>Arundel</td>\n",
       "      <td>0.277924</td>\n",
       "    </tr>\n",
       "    <tr>\n",
       "      <th>24</th>\n",
       "      <td>Staff</td>\n",
       "      <td>Arundel</td>\n",
       "      <td>0.266968</td>\n",
       "    </tr>\n",
       "    <tr>\n",
       "      <th>9</th>\n",
       "      <td>Gardens&amp;Grounds</td>\n",
       "      <td>Arundel</td>\n",
       "      <td>0.245217</td>\n",
       "    </tr>\n",
       "    <tr>\n",
       "      <th>0</th>\n",
       "      <td>BeachFac</td>\n",
       "      <td>Arundel</td>\n",
       "      <td>0.239386</td>\n",
       "    </tr>\n",
       "    <tr>\n",
       "      <th>33</th>\n",
       "      <td>Walking</td>\n",
       "      <td>Arundel</td>\n",
       "      <td>0.221318</td>\n",
       "    </tr>\n",
       "    <tr>\n",
       "      <th>6</th>\n",
       "      <td>Food</td>\n",
       "      <td>Arundel</td>\n",
       "      <td>0.189482</td>\n",
       "    </tr>\n",
       "    <tr>\n",
       "      <th>21</th>\n",
       "      <td>Shop&amp;Amenties</td>\n",
       "      <td>Arundel</td>\n",
       "      <td>0.187879</td>\n",
       "    </tr>\n",
       "    <tr>\n",
       "      <th>30</th>\n",
       "      <td>VisitExp</td>\n",
       "      <td>Arundel</td>\n",
       "      <td>0.180995</td>\n",
       "    </tr>\n",
       "    <tr>\n",
       "      <th>3</th>\n",
       "      <td>FamilyExp</td>\n",
       "      <td>Arundel</td>\n",
       "      <td>0.174062</td>\n",
       "    </tr>\n",
       "    <tr>\n",
       "      <th>15</th>\n",
       "      <td>Parking</td>\n",
       "      <td>Arundel</td>\n",
       "      <td>0.124302</td>\n",
       "    </tr>\n",
       "    <tr>\n",
       "      <th>12</th>\n",
       "      <td>Kids&amp;PlayArea</td>\n",
       "      <td>Arundel</td>\n",
       "      <td>0.113022</td>\n",
       "    </tr>\n",
       "  </tbody>\n",
       "</table>\n",
       "</div>"
      ],
      "text/plain": [
       "        Topic Count     Town  Sentiment\n",
       "18            Place  Arundel   0.282258\n",
       "27              VFM  Arundel   0.277924\n",
       "24            Staff  Arundel   0.266968\n",
       "9   Gardens&Grounds  Arundel   0.245217\n",
       "0          BeachFac  Arundel   0.239386\n",
       "33          Walking  Arundel   0.221318\n",
       "6              Food  Arundel   0.189482\n",
       "21    Shop&Amenties  Arundel   0.187879\n",
       "30         VisitExp  Arundel   0.180995\n",
       "3         FamilyExp  Arundel   0.174062\n",
       "15          Parking  Arundel   0.124302\n",
       "12    Kids&PlayArea  Arundel   0.113022"
      ]
     },
     "execution_count": 82,
     "metadata": {},
     "output_type": "execute_result"
    }
   ],
   "source": [
    "arundel_attract = arundel_attract.sort_values(by = \"Sentiment\",ascending = False)\n",
    "arundel_attract"
   ]
  },
  {
   "cell_type": "code",
   "execution_count": 83,
   "id": "1e1f753b",
   "metadata": {},
   "outputs": [
    {
     "data": {
      "image/png": "[encoded data removed]",
      "text/plain": [
       "<Figure size 720x504 with 1 Axes>"
      ]
     },
     "metadata": {
      "needs_background": "light"
     },
     "output_type": "display_data"
    }
   ],
   "source": [
    "plot_sent_score(arundel_attract,\"Attractions\",\"Arundel\")"
   ]
  },
  {
   "cell_type": "markdown",
   "id": "48c99eaf",
   "metadata": {},
   "source": [
    "### Bognor"
   ]
  },
  {
   "cell_type": "code",
   "execution_count": 84,
   "id": "b0dedba3",
   "metadata": {},
   "outputs": [
    {
     "data": {
      "text/html": [
       "<div>\n",
       "<style scoped>\n",
       "    .dataframe tbody tr th:only-of-type {\n",
       "        vertical-align: middle;\n",
       "    }\n",
       "\n",
       "    .dataframe tbody tr th {\n",
       "        vertical-align: top;\n",
       "    }\n",
       "\n",
       "    .dataframe thead th {\n",
       "        text-align: right;\n",
       "    }\n",
       "</style>\n",
       "<table border=\"1\" class=\"dataframe\">\n",
       "  <thead>\n",
       "    <tr style=\"text-align: right;\">\n",
       "      <th></th>\n",
       "      <th>Topic Count</th>\n",
       "      <th>Town</th>\n",
       "      <th>Sentiment</th>\n",
       "    </tr>\n",
       "  </thead>\n",
       "  <tbody>\n",
       "    <tr>\n",
       "      <th>19</th>\n",
       "      <td>Place</td>\n",
       "      <td>Bognor</td>\n",
       "      <td>0.329709</td>\n",
       "    </tr>\n",
       "    <tr>\n",
       "      <th>25</th>\n",
       "      <td>Staff</td>\n",
       "      <td>Bognor</td>\n",
       "      <td>0.324057</td>\n",
       "    </tr>\n",
       "    <tr>\n",
       "      <th>28</th>\n",
       "      <td>VFM</td>\n",
       "      <td>Bognor</td>\n",
       "      <td>0.285303</td>\n",
       "    </tr>\n",
       "    <tr>\n",
       "      <th>4</th>\n",
       "      <td>FamilyExp</td>\n",
       "      <td>Bognor</td>\n",
       "      <td>0.231689</td>\n",
       "    </tr>\n",
       "    <tr>\n",
       "      <th>16</th>\n",
       "      <td>Parking</td>\n",
       "      <td>Bognor</td>\n",
       "      <td>0.218762</td>\n",
       "    </tr>\n",
       "    <tr>\n",
       "      <th>31</th>\n",
       "      <td>VisitExp</td>\n",
       "      <td>Bognor</td>\n",
       "      <td>0.202716</td>\n",
       "    </tr>\n",
       "    <tr>\n",
       "      <th>7</th>\n",
       "      <td>Food</td>\n",
       "      <td>Bognor</td>\n",
       "      <td>0.200459</td>\n",
       "    </tr>\n",
       "    <tr>\n",
       "      <th>10</th>\n",
       "      <td>Gardens&amp;Grounds</td>\n",
       "      <td>Bognor</td>\n",
       "      <td>0.169466</td>\n",
       "    </tr>\n",
       "    <tr>\n",
       "      <th>34</th>\n",
       "      <td>Walking</td>\n",
       "      <td>Bognor</td>\n",
       "      <td>0.157890</td>\n",
       "    </tr>\n",
       "    <tr>\n",
       "      <th>1</th>\n",
       "      <td>BeachFac</td>\n",
       "      <td>Bognor</td>\n",
       "      <td>0.155775</td>\n",
       "    </tr>\n",
       "    <tr>\n",
       "      <th>22</th>\n",
       "      <td>Shop&amp;Amenties</td>\n",
       "      <td>Bognor</td>\n",
       "      <td>0.153407</td>\n",
       "    </tr>\n",
       "    <tr>\n",
       "      <th>13</th>\n",
       "      <td>Kids&amp;PlayArea</td>\n",
       "      <td>Bognor</td>\n",
       "      <td>0.108603</td>\n",
       "    </tr>\n",
       "  </tbody>\n",
       "</table>\n",
       "</div>"
      ],
      "text/plain": [
       "        Topic Count    Town  Sentiment\n",
       "19            Place  Bognor   0.329709\n",
       "25            Staff  Bognor   0.324057\n",
       "28              VFM  Bognor   0.285303\n",
       "4         FamilyExp  Bognor   0.231689\n",
       "16          Parking  Bognor   0.218762\n",
       "31         VisitExp  Bognor   0.202716\n",
       "7              Food  Bognor   0.200459\n",
       "10  Gardens&Grounds  Bognor   0.169466\n",
       "34          Walking  Bognor   0.157890\n",
       "1          BeachFac  Bognor   0.155775\n",
       "22    Shop&Amenties  Bognor   0.153407\n",
       "13    Kids&PlayArea  Bognor   0.108603"
      ]
     },
     "execution_count": 84,
     "metadata": {},
     "output_type": "execute_result"
    }
   ],
   "source": [
    "bognor_attract = bognor_attract.sort_values(by = \"Sentiment\",ascending = False)\n",
    "bognor_attract"
   ]
  },
  {
   "cell_type": "code",
   "execution_count": 85,
   "id": "ba341952",
   "metadata": {},
   "outputs": [
    {
     "data": {
      "image/png": "[encoded data removed]",
      "text/plain": [
       "<Figure size 720x504 with 1 Axes>"
      ]
     },
     "metadata": {
      "needs_background": "light"
     },
     "output_type": "display_data"
    }
   ],
   "source": [
    "plot_sent_score(bognor_attract,\"Attractions\",\"Bognor\")"
   ]
  },
  {
   "cell_type": "markdown",
   "id": "1938b0b0",
   "metadata": {},
   "source": [
    "### Littlehampton"
   ]
  },
  {
   "cell_type": "code",
   "execution_count": 86,
   "id": "18d66eaa",
   "metadata": {},
   "outputs": [
    {
     "data": {
      "text/html": [
       "<div>\n",
       "<style scoped>\n",
       "    .dataframe tbody tr th:only-of-type {\n",
       "        vertical-align: middle;\n",
       "    }\n",
       "\n",
       "    .dataframe tbody tr th {\n",
       "        vertical-align: top;\n",
       "    }\n",
       "\n",
       "    .dataframe thead th {\n",
       "        text-align: right;\n",
       "    }\n",
       "</style>\n",
       "<table border=\"1\" class=\"dataframe\">\n",
       "  <thead>\n",
       "    <tr style=\"text-align: right;\">\n",
       "      <th></th>\n",
       "      <th>Topic Count</th>\n",
       "      <th>Town</th>\n",
       "      <th>Sentiment</th>\n",
       "    </tr>\n",
       "  </thead>\n",
       "  <tbody>\n",
       "    <tr>\n",
       "      <th>26</th>\n",
       "      <td>Staff</td>\n",
       "      <td>Littlehampton</td>\n",
       "      <td>0.290159</td>\n",
       "    </tr>\n",
       "    <tr>\n",
       "      <th>20</th>\n",
       "      <td>Place</td>\n",
       "      <td>Littlehampton</td>\n",
       "      <td>0.244409</td>\n",
       "    </tr>\n",
       "    <tr>\n",
       "      <th>5</th>\n",
       "      <td>FamilyExp</td>\n",
       "      <td>Littlehampton</td>\n",
       "      <td>0.230559</td>\n",
       "    </tr>\n",
       "    <tr>\n",
       "      <th>35</th>\n",
       "      <td>Walking</td>\n",
       "      <td>Littlehampton</td>\n",
       "      <td>0.212849</td>\n",
       "    </tr>\n",
       "    <tr>\n",
       "      <th>11</th>\n",
       "      <td>Gardens&amp;Grounds</td>\n",
       "      <td>Littlehampton</td>\n",
       "      <td>0.205940</td>\n",
       "    </tr>\n",
       "    <tr>\n",
       "      <th>29</th>\n",
       "      <td>VFM</td>\n",
       "      <td>Littlehampton</td>\n",
       "      <td>0.201389</td>\n",
       "    </tr>\n",
       "    <tr>\n",
       "      <th>2</th>\n",
       "      <td>BeachFac</td>\n",
       "      <td>Littlehampton</td>\n",
       "      <td>0.196122</td>\n",
       "    </tr>\n",
       "    <tr>\n",
       "      <th>14</th>\n",
       "      <td>Kids&amp;PlayArea</td>\n",
       "      <td>Littlehampton</td>\n",
       "      <td>0.190941</td>\n",
       "    </tr>\n",
       "    <tr>\n",
       "      <th>32</th>\n",
       "      <td>VisitExp</td>\n",
       "      <td>Littlehampton</td>\n",
       "      <td>0.165349</td>\n",
       "    </tr>\n",
       "    <tr>\n",
       "      <th>8</th>\n",
       "      <td>Food</td>\n",
       "      <td>Littlehampton</td>\n",
       "      <td>0.147160</td>\n",
       "    </tr>\n",
       "    <tr>\n",
       "      <th>23</th>\n",
       "      <td>Shop&amp;Amenties</td>\n",
       "      <td>Littlehampton</td>\n",
       "      <td>0.133408</td>\n",
       "    </tr>\n",
       "    <tr>\n",
       "      <th>17</th>\n",
       "      <td>Parking</td>\n",
       "      <td>Littlehampton</td>\n",
       "      <td>0.106177</td>\n",
       "    </tr>\n",
       "  </tbody>\n",
       "</table>\n",
       "</div>"
      ],
      "text/plain": [
       "        Topic Count           Town  Sentiment\n",
       "26            Staff  Littlehampton   0.290159\n",
       "20            Place  Littlehampton   0.244409\n",
       "5         FamilyExp  Littlehampton   0.230559\n",
       "35          Walking  Littlehampton   0.212849\n",
       "11  Gardens&Grounds  Littlehampton   0.205940\n",
       "29              VFM  Littlehampton   0.201389\n",
       "2          BeachFac  Littlehampton   0.196122\n",
       "14    Kids&PlayArea  Littlehampton   0.190941\n",
       "32         VisitExp  Littlehampton   0.165349\n",
       "8              Food  Littlehampton   0.147160\n",
       "23    Shop&Amenties  Littlehampton   0.133408\n",
       "17          Parking  Littlehampton   0.106177"
      ]
     },
     "execution_count": 86,
     "metadata": {},
     "output_type": "execute_result"
    }
   ],
   "source": [
    "little_attract = little_attract.sort_values(by = \"Sentiment\",ascending = False)\n",
    "little_attract"
   ]
  },
  {
   "cell_type": "code",
   "execution_count": 87,
   "id": "b82606f5",
   "metadata": {},
   "outputs": [
    {
     "data": {
      "image/png": "[encoded data removed]",
      "text/plain": [
       "<Figure size 720x504 with 1 Axes>"
      ]
     },
     "metadata": {
      "needs_background": "light"
     },
     "output_type": "display_data"
    }
   ],
   "source": [
    "plot_sent_score(little_attract,\"Attractions\",\"Littlehampton\")"
   ]
  },
  {
   "cell_type": "markdown",
   "id": "e7f8a8cf",
   "metadata": {},
   "source": [
    "# Section 5: Comparing Aspects and Towns Together"
   ]
  },
  {
   "cell_type": "code",
   "execution_count": 88,
   "id": "1e778509",
   "metadata": {},
   "outputs": [],
   "source": [
    "def compare_towns(df1,df2,df3,name):\n",
    "    \n",
    "    # Set variables\n",
    "    labels = list(df1[\"Topic Count\"])\n",
    "    \n",
    "    y1 = list(df1[\"Sentiment\"])\n",
    "    y2 = list(df2[\"Sentiment\"])\n",
    "    y3 = list(df3[\"Sentiment\"])\n",
    "    height = 0.25\n",
    "    \n",
    "    r1 = np.arange(len(y1))\n",
    "    r2 = [x + height for x in r1]\n",
    "    r3 = [x + height for x in r2]\n",
    "    \n",
    "    # Plot chart\n",
    "    fig, ax = plt.subplots(figsize = (14,12),)\n",
    "    plt.barh(r1, y1, height = height, color = \"lightgrey\",label='Arundel',ec = \"darkgrey\")\n",
    "    plt.barh(r2, y2, height = height, color = \"lightsteelblue\",label='Bognor',ec = \"darkgrey\")\n",
    "    plt.barh(r3, y3, height = height, label='Littlehampton',ec = \"darkgrey\")\n",
    "    \n",
    "    # Set labels, legend etc\n",
    "    ax.set_xlabel('Compound Sentiment Score',labelpad = 10,fontsize = 12)\n",
    "    ax.set_ylabel(\"Topic\", labelpad = 10,fontsize = 12)\n",
    "    plt.yticks([r + height for r in range(len(y1))], labels)\n",
    "    ax.spines['right'].set_visible(False)\n",
    "    ax.spines['top'].set_visible(False)\n",
    "    ax.spines['bottom'].set_visible(False)\n",
    "    ax.spines['left'].set_visible(False)\n",
    "    ax.set_title(name + \" - Mean Sentiment Score \",fontsize = 15)\n",
    "    handles, labels = ax.get_legend_handles_labels()\n",
    "    ax.legend(reversed(handles), reversed(labels),frameon = False)\n",
    "    ax.invert_yaxis()\n",
    "    plt.show()"
   ]
  },
  {
   "cell_type": "code",
   "execution_count": 89,
   "id": "711c4326",
   "metadata": {},
   "outputs": [
    {
     "data": {
      "image/png": "[encoded data removed]",
      "text/plain": [
       "<Figure size 1008x864 with 1 Axes>"
      ]
     },
     "metadata": {
      "needs_background": "light"
     },
     "output_type": "display_data"
    }
   ],
   "source": [
    "compare_towns(arundel_accom,bognor_accom,little_accom,\"Accomodation Aspects\")"
   ]
  },
  {
   "cell_type": "markdown",
   "id": "91ca869a",
   "metadata": {},
   "source": [
    "* Bognor scores the lowest in all categories except Parking & Facilities\n",
    "* Parking, leisure facilities and meal experiences are among the lowest sentiment scores\n",
    "* Arundel and Littlehampton score highly for Staff and Service\n",
    "* Arundel scores highly for value\n"
   ]
  },
  {
   "cell_type": "code",
   "execution_count": 90,
   "id": "bfd00af9",
   "metadata": {},
   "outputs": [
    {
     "data": {
      "image/png": "[encoded data removed]",
      "text/plain": [
       "<Figure size 1008x864 with 1 Axes>"
      ]
     },
     "metadata": {
      "needs_background": "light"
     },
     "output_type": "display_data"
    }
   ],
   "source": [
    "compare_towns(arundel_food,bognor_food,little_food,\"Food\")"
   ]
  },
  {
   "cell_type": "markdown",
   "id": "8c3e98e5",
   "metadata": {},
   "source": [
    "* All towns score highly for value for money with Bognor having the highest average compound sentiment score\n",
    "* Bognor also scores highest for service\n",
    "* The lowest scored category is Food Portions and Visit Experience"
   ]
  },
  {
   "cell_type": "code",
   "execution_count": 91,
   "id": "ed38dc5b",
   "metadata": {},
   "outputs": [
    {
     "data": {
      "image/png": "[encoded data removed]",
      "text/plain": [
       "<Figure size 1008x864 with 1 Axes>"
      ]
     },
     "metadata": {
      "needs_background": "light"
     },
     "output_type": "display_data"
    }
   ],
   "source": [
    "compare_towns(arundel_attract,bognor_attract,little_attract,\"Attractions\")"
   ]
  },
  {
   "cell_type": "markdown",
   "id": "4ffeb1a4",
   "metadata": {},
   "source": [
    "* The aspect with the highest mean sentiment score is 'Staff' and Bognor scores the highest of these\n",
    "* Bognor also scores highest for value for money attractions\n",
    "* Among the lowest scored aspects relating to attractions are parking, play facilities and food"
   ]
  },
  {
   "cell_type": "code",
   "execution_count": 92,
   "id": "54aea6eb",
   "metadata": {},
   "outputs": [],
   "source": [
    "# Implode dataframe back to sentence level from noun phrase level\n",
    "#df_comb = df.groupby([\"OrigInd\",\"Category\",\"Town\",\"Rating\",\"all_text\",\"sentences\",\"cleaned_sentences\"]).agg({'noun_phrases':lambda x: \" \".join(x)}).rename({'noun_phrases':'sentence'},axis = 1).reset_index()\n",
    "#df_comb.drop(columns = [\"sentence\"],axis = 1,inplace = True)"
   ]
  }
 ],
 "metadata": {
  "kernelspec": {
   "display_name": "Python 3",
   "language": "python",
   "name": "python3"
  },
  "language_info": {
   "codemirror_mode": {
    "name": "ipython",
    "version": 3
   },
   "file_extension": ".py",
   "mimetype": "text/x-python",
   "name": "python",
   "nbconvert_exporter": "python",
   "pygments_lexer": "ipython3",
   "version": "3.8.8"
  }
 },
 "nbformat": 4,
 "nbformat_minor": 5
}
